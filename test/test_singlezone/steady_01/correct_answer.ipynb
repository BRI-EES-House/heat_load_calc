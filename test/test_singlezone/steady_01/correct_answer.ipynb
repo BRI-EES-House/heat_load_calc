{
 "cells": [
  {
   "cell_type": "markdown",
   "metadata": {},
   "source": [
    "# 定常状態での室温の計算\n",
    "## 室形状\n",
    "1辺1mの直方体を想定\n",
    "\n",
    "## 前提条件\n",
    "室内側熱伝達率は部位によらず固定　→　室内側表面温度はすべて同じ　→　室内側表面放射熱量はゼロになる\n",
    "\n",
    "## 計算条件\n",
    "外気温度：0℃\n",
    "室内発熱：100W（すべて対流成分）\n",
    "\n",
    "## テスト項目\n",
    "自然室温[℃]  \n",
    "室内表面温度[℃]  \n",
    "表面熱流[W/m2]"
   ]
  },
  {
   "cell_type": "code",
   "execution_count": 1,
   "metadata": {},
   "outputs": [],
   "source": [
    "# 外気温度の計算\n",
    "t_o = 0.0"
   ]
  },
  {
   "cell_type": "code",
   "execution_count": 2,
   "metadata": {},
   "outputs": [],
   "source": [
    "#　建材の熱抵抗　木材12mm　[m2 K/W]\n",
    "r_wood = 0.075"
   ]
  },
  {
   "cell_type": "code",
   "execution_count": 3,
   "metadata": {},
   "outputs": [],
   "source": [
    "# 室内表面の対流熱伝達率 [W/(m2･K)]\n",
    "# Pythonの計算結果よりコピペ\n",
    "hc = 3.0410886515065"
   ]
  },
  {
   "cell_type": "code",
   "execution_count": 4,
   "metadata": {},
   "outputs": [],
   "source": [
    "# 屋外側表面熱伝達抵抗 [m2 K/W]\n",
    "r_o = 0.04"
   ]
  },
  {
   "cell_type": "code",
   "execution_count": 6,
   "metadata": {},
   "outputs": [
    {
     "name": "stdout",
     "output_type": "stream",
     "text": [
      "2.253116903311146\n"
     ]
    }
   ],
   "source": [
    "# 部位の熱貫流率 [W/(m2･K)]\n",
    "u_value = 1.0 / (1.0 / hc + r_wood + r_o)\n",
    "print(u_value)"
   ]
  },
  {
   "cell_type": "code",
   "execution_count": 7,
   "metadata": {},
   "outputs": [],
   "source": [
    "# 室内部位合計面積\n",
    "a = 6.0"
   ]
  },
  {
   "cell_type": "code",
   "execution_count": 8,
   "metadata": {},
   "outputs": [
    {
     "name": "stdout",
     "output_type": "stream",
     "text": [
      "13.518701419866876\n"
     ]
    }
   ],
   "source": [
    "# 建物のq値 [W/K]\n",
    "q = u_value * a\n",
    "print(q)"
   ]
  },
  {
   "cell_type": "code",
   "execution_count": 9,
   "metadata": {},
   "outputs": [],
   "source": [
    "# 内部発熱 [W]\n",
    "q_heat = 100.0"
   ]
  },
  {
   "cell_type": "code",
   "execution_count": 10,
   "metadata": {},
   "outputs": [
    {
     "name": "stdout",
     "output_type": "stream",
     "text": [
      "7.397160192697321\n"
     ]
    }
   ],
   "source": [
    "# 室温の計算\n",
    "t_r = t_o + q_heat / q\n",
    "print(t_r)"
   ]
  },
  {
   "cell_type": "code",
   "execution_count": 13,
   "metadata": {},
   "outputs": [
    {
     "name": "stdout",
     "output_type": "stream",
     "text": [
      "16.666666666666668\n"
     ]
    }
   ],
   "source": [
    "# 熱流 [W/m2]\n",
    "q_flow = q_heat / a\n",
    "print(q_flow)"
   ]
  },
  {
   "cell_type": "code",
   "execution_count": 15,
   "metadata": {},
   "outputs": [
    {
     "name": "stdout",
     "output_type": "stream",
     "text": [
      "1.916666666666667\n"
     ]
    }
   ],
   "source": [
    "# 表面温度の計算\n",
    "t_s = t_r - u_value * (t_r - t_o) / hc\n",
    "print(t_s)"
   ]
  }
 ],
 "metadata": {
  "kernelspec": {
   "display_name": "Python 3",
   "language": "python",
   "name": "python3"
  },
  "language_info": {
   "codemirror_mode": {
    "name": "ipython",
    "version": 3
   },
   "file_extension": ".py",
   "mimetype": "text/x-python",
   "name": "python",
   "nbconvert_exporter": "python",
   "pygments_lexer": "ipython3",
   "version": "3.8.3"
  }
 },
 "nbformat": 4,
 "nbformat_minor": 4
}
