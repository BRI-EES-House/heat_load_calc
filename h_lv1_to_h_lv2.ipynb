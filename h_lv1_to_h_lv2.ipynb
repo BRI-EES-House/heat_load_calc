{
 "cells": [
  {
   "cell_type": "code",
   "execution_count": 1,
   "metadata": {},
   "outputs": [],
   "source": [
    "import numpy as np\n",
    "import matplotlib.pyplot as plt\n",
    "import copy"
   ]
  },
  {
   "cell_type": "markdown",
   "metadata": {},
   "source": [
    "# 外皮情報LV1からLV2へのコンバート"
   ]
  },
  {
   "cell_type": "markdown",
   "metadata": {},
   "source": [
    "## I. 関数"
   ]
  },
  {
   "cell_type": "markdown",
   "metadata": {},
   "source": [
    "### 1. 規模係数"
   ]
  },
  {
   "cell_type": "markdown",
   "metadata": {},
   "source": [
    "$$r_{size} = \\frac{ A_A }{ A_{S,A} }$$"
   ]
  },
  {
   "cell_type": "markdown",
   "metadata": {},
   "source": [
    "$r_{size}$: 規模係数  \n",
    "$A_{A}$: 床面積の合計, m<sup>2</sup>  \n",
    "$A_{S,A}$: 簡易モデル住宅の床面積の合計, m<sup>2</sup>  "
   ]
  },
  {
   "cell_type": "markdown",
   "metadata": {},
   "source": [
    "$A_{S,A}$は90.0(m<sup>2</sup>)とする。"
   ]
  },
  {
   "cell_type": "code",
   "execution_count": 2,
   "metadata": {},
   "outputs": [],
   "source": [
    "def get_r_size(a_a):\n",
    "    \n",
    "    a_s_a = 90.0\n",
    "    \n",
    "    return a_a / a_s_a"
   ]
  },
  {
   "cell_type": "markdown",
   "metadata": {},
   "source": [
    "### 2. 主開口方位"
   ]
  },
  {
   "cell_type": "markdown",
   "metadata": {},
   "source": [
    "主開口方位は南西とする。"
   ]
  },
  {
   "cell_type": "code",
   "execution_count": 3,
   "metadata": {},
   "outputs": [],
   "source": [
    "def get_direction(angle):\n",
    "    \n",
    "    if angle == '0':\n",
    "        return 'sw'\n",
    "    elif angle == '90':\n",
    "        return 'nw'\n",
    "    elif angle == '180':\n",
    "        return 'ne'\n",
    "    elif angle == '270':\n",
    "        return 'se'\n",
    "    else:\n",
    "        return angle"
   ]
  },
  {
   "cell_type": "markdown",
   "metadata": {},
   "source": [
    "### 3. 一般部位"
   ]
  },
  {
   "cell_type": "markdown",
   "metadata": {},
   "source": [
    "| 番号 | 部位の種類 | 隣接空間の種類 | 方位 | 床断熱住戸<br>浴室床断熱<br>面積(m2) | 床断熱住戸<br>浴室基礎断熱<br>面積(m2) | 床断熱住戸<br>浴室床なし<br>面積(m2) | 基礎断熱住戸<br>面積(m2) | 熱貫流率(W/m2K) |\n",
    "| --- | --- | --- | --- | --- | --- | --- | --- | --- |\n",
    "| 1 | 屋根又は天井 | 外気             |  上面 | 50.85 | 50.85 | 50.85 | 50.85 | $U_{roof}$        |\n",
    "| 2 | 壁           | 外気             |   0度 | 30.47 | 30.47 | 30.47 | 30.47 | $U_{wall}$        |\n",
    "| 3 | 壁           | 外気             |  90度 | 22.37 | 22.37 | 22.37 | 22.37 | $U_{wall}$        |\n",
    "| 4 | 壁           | 外気             | 180度 | 47.92 | 47.92 | 47.92 | 47.92 | $U_{wall}$        |\n",
    "| 5 | 壁           | 外気             | 270度 | 22.28 | 22.28 | 22.28 | 22.28 | $U_{wall}$        |\n",
    "| 6 | 床           | 外気に通じる床裏 |  下面 | 45.05 | 45.05 | 48.36 |  0.00 | $U_{floor,other}$ |\n",
    "| 7 | 床           | 外気に通じる床裏 |  下面 |  3.31 |  0.00 |  0.00 |  0.00 | $U_{floor,bath}$  |"
   ]
  },
  {
   "cell_type": "markdown",
   "metadata": {},
   "source": [
    "面積は表の値に規模係数を乗じた値とする。"
   ]
  },
  {
   "cell_type": "code",
   "execution_count": 4,
   "metadata": {},
   "outputs": [],
   "source": [
    "def get_general_parts(a_a, house_type, u_roof, u_wall, u_floor_other = None, u_floor_bath = None):\n",
    "\n",
    "    table = [\n",
    "        [1, 'ceiling',         'outdoor',      'top', {'f_f' : 50.85, 'f_b' : 50.85, 'f_n' : 50.85, 'b' : 50.85},        u_roof ],\n",
    "        [2,    'wall',         'outdoor',        '0', {'f_f' : 30.47, 'f_b' : 30.47, 'f_n' : 30.47, 'b' : 30.47},        u_wall ],\n",
    "        [3,    'wall',         'outdoor',       '90', {'f_f' : 22.37, 'f_b' : 22.37, 'f_n' : 22.37, 'b' : 22.37},        u_wall ],\n",
    "        [4,    'wall',         'outdoor',      '180', {'f_f' : 47.92, 'f_b' : 47.92, 'f_n' : 47.92, 'b' : 47.92},        u_wall ],\n",
    "        [5,    'wall',         'outdoor',      '270', {'f_f' : 22.28, 'f_b' : 22.28, 'f_n' : 22.28, 'b' : 22.28},        u_wall ],\n",
    "        [6,   'floor', 'open_underfloor', 'downward', {'f_f' : 45.05, 'f_b' : 45.05, 'f_n' : 48.36, 'b' :  0.00}, u_floor_other ],\n",
    "        [7,   'floor', 'open_underfloor', 'downward', {'f_f' :  3.31, 'f_b' :  0.00, 'f_n' :  0.00, 'b' :  0.00},  u_floor_bath ],\n",
    "    ]\n",
    "\n",
    "    parts = []\n",
    "    \n",
    "    for row in table:\n",
    "        \n",
    "        if row[4][house_type] > 0.0:\n",
    "            \n",
    "            parts.append({\n",
    "                'name'                  : 'simple_general_part' + str(row[0]),\n",
    "                'evlp_type'             : row[1],\n",
    "                'next_space'            : row[2],\n",
    "                'external_surface_type' : {\n",
    "                    'outdoor'         : 'outdoor',\n",
    "                    'open_underfloor' : 'not_outdoor'\n",
    "                }[row[2]],\n",
    "                'direction'             : get_direction(row[3]),\n",
    "                'area'                  : row[4][house_type] * get_r_size(a_a),\n",
    "                'spec' : {\n",
    "                    'structure'                 : 'wood',\n",
    "                    'u_value_input_method_wood' : 'u_value_directly',\n",
    "                    'u_value_wood'              : row[5],\n",
    "                    'is_sunshade_input'         : False\n",
    "                }\n",
    "            })\n",
    "    \n",
    "    return parts"
   ]
  },
  {
   "cell_type": "markdown",
   "metadata": {},
   "source": [
    "example"
   ]
  },
  {
   "cell_type": "code",
   "execution_count": 5,
   "metadata": {},
   "outputs": [
    {
     "data": {
      "text/plain": [
       "[{'name': 'simple_general_part1',\n",
       "  'evlp_type': 'ceiling',\n",
       "  'next_space': 'outdoor',\n",
       "  'external_surface_type': 'outdoor',\n",
       "  'direction': 'top',\n",
       "  'area': 67.8,\n",
       "  'spec': {'structure': 'wood',\n",
       "   'u_value_input_method_wood': 'u_value_directly',\n",
       "   'u_value_wood': 7.7,\n",
       "   'is_sunshade_input': False}},\n",
       " {'name': 'simple_general_part2',\n",
       "  'evlp_type': 'wall',\n",
       "  'next_space': 'outdoor',\n",
       "  'external_surface_type': 'outdoor',\n",
       "  'direction': 'sw',\n",
       "  'area': 40.626666666666665,\n",
       "  'spec': {'structure': 'wood',\n",
       "   'u_value_input_method_wood': 'u_value_directly',\n",
       "   'u_value_wood': 6.67,\n",
       "   'is_sunshade_input': False}},\n",
       " {'name': 'simple_general_part3',\n",
       "  'evlp_type': 'wall',\n",
       "  'next_space': 'outdoor',\n",
       "  'external_surface_type': 'outdoor',\n",
       "  'direction': 'nw',\n",
       "  'area': 29.826666666666668,\n",
       "  'spec': {'structure': 'wood',\n",
       "   'u_value_input_method_wood': 'u_value_directly',\n",
       "   'u_value_wood': 6.67,\n",
       "   'is_sunshade_input': False}},\n",
       " {'name': 'simple_general_part4',\n",
       "  'evlp_type': 'wall',\n",
       "  'next_space': 'outdoor',\n",
       "  'external_surface_type': 'outdoor',\n",
       "  'direction': 'ne',\n",
       "  'area': 63.89333333333333,\n",
       "  'spec': {'structure': 'wood',\n",
       "   'u_value_input_method_wood': 'u_value_directly',\n",
       "   'u_value_wood': 6.67,\n",
       "   'is_sunshade_input': False}},\n",
       " {'name': 'simple_general_part5',\n",
       "  'evlp_type': 'wall',\n",
       "  'next_space': 'outdoor',\n",
       "  'external_surface_type': 'outdoor',\n",
       "  'direction': 'se',\n",
       "  'area': 29.706666666666667,\n",
       "  'spec': {'structure': 'wood',\n",
       "   'u_value_input_method_wood': 'u_value_directly',\n",
       "   'u_value_wood': 6.67,\n",
       "   'is_sunshade_input': False}},\n",
       " {'name': 'simple_general_part6',\n",
       "  'evlp_type': 'floor',\n",
       "  'next_space': 'open_underfloor',\n",
       "  'external_surface_type': 'not_outdoor',\n",
       "  'direction': 'downward',\n",
       "  'area': 60.06666666666666,\n",
       "  'spec': {'structure': 'wood',\n",
       "   'u_value_input_method_wood': 'u_value_directly',\n",
       "   'u_value_wood': 5.27,\n",
       "   'is_sunshade_input': False}},\n",
       " {'name': 'simple_general_part7',\n",
       "  'evlp_type': 'floor',\n",
       "  'next_space': 'open_underfloor',\n",
       "  'external_surface_type': 'not_outdoor',\n",
       "  'direction': 'downward',\n",
       "  'area': 4.413333333333333,\n",
       "  'spec': {'structure': 'wood',\n",
       "   'u_value_input_method_wood': 'u_value_directly',\n",
       "   'u_value_wood': 5.27,\n",
       "   'is_sunshade_input': False}}]"
      ]
     },
     "execution_count": 5,
     "metadata": {},
     "output_type": "execute_result"
    }
   ],
   "source": [
    "get_general_parts(a_a=120.0, house_type='f_f', u_roof= 7.7, u_wall= 6.67, u_floor_other=5.27, u_floor_bath=5.27)"
   ]
  },
  {
   "cell_type": "markdown",
   "metadata": {},
   "source": [
    "### 4. 大部分がガラスで構成される窓等の開口部"
   ]
  },
  {
   "cell_type": "markdown",
   "metadata": {},
   "source": [
    "#### 1) 壁面からの日除けの張り出し寸法"
   ]
  },
  {
   "cell_type": "markdown",
   "metadata": {},
   "source": [
    "取得日射熱補正係数を指定する場合"
   ]
  },
  {
   "cell_type": "markdown",
   "metadata": {},
   "source": [
    "$$\n",
    "z_H = b_H \\frac{c_H y_1 + y_2}{ \\frac{f_H}{0.01} - a_H }\n",
    "$$"
   ]
  },
  {
   "cell_type": "markdown",
   "metadata": {},
   "source": [
    "ただし、$f_H$が0.72を超える場合は$f_H=0.72$とする。また、$z_H$が5.0を超える場合は$z_H=5.0$とする。"
   ]
  },
  {
   "cell_type": "markdown",
   "metadata": {},
   "source": [
    "$$\n",
    "z_C = b_C \\frac{c_C y_1 + y_2}{ \\frac{f_C}{0.01} - a_C }\n",
    "$$"
   ]
  },
  {
   "cell_type": "markdown",
   "metadata": {},
   "source": [
    "ただし、$f_H$が0.93を超える場合は$f_C=0.93$とする。また、$z_C$が5.0を超える場合は$z_C=5.0$とする。"
   ]
  },
  {
   "cell_type": "markdown",
   "metadata": {},
   "source": [
    "取得日射熱補正係数を指定しない場合"
   ]
  },
  {
   "cell_type": "markdown",
   "metadata": {},
   "source": [
    "$$ z_H = \\frac{ ( y_1 + y_2 ) }{ l_{H,2} } $$"
   ]
  },
  {
   "cell_type": "markdown",
   "metadata": {},
   "source": [
    "$$z_C=0$$"
   ]
  },
  {
   "cell_type": "markdown",
   "metadata": {},
   "source": [
    "$z_H$：暖房期の壁面から日除けの張り出し寸法, m  \n",
    "$z_C$：冷房期の壁面から日除けの張り出し寸法, m  \n",
    "$f_H$: 暖房期の取得日射熱補正係数  \n",
    "$f_C$: 冷房期の取得日射熱補正係数  \n",
    "$y_{1}$：日除け下端から窓上端までの垂直方向の距離, m  \n",
    "$y_{2}$：窓の開口高さ, m  "
   ]
  },
  {
   "cell_type": "markdown",
   "metadata": {},
   "source": [
    "$$y_1=0$$"
   ]
  },
  {
   "cell_type": "markdown",
   "metadata": {},
   "source": [
    "$$y_2=1.1$$"
   ]
  },
  {
   "cell_type": "markdown",
   "metadata": {},
   "source": [
    "$$l_{H,2}=\\frac{1}{0.3}$$"
   ]
  },
  {
   "cell_type": "markdown",
   "metadata": {},
   "source": [
    "| 季節 | 地域区分 | 方位 | a | b | c |\n",
    "|:---:|:---:|:---:|:---:|:---:|:---:|\n",
    "| 暖房期 | 1地域～7地域 | 南東(SE) | 5 | 20 | 3 |\n",
    "| 暖房期 | 1地域～7地域 | 南西(SW) | 5 | 20 | 3 |\n",
    "| 暖房期 | 1地域～7地域 | 北西(NW) | 10 | 15 | 2 |\n",
    "| 暖房期 | 1地域～7地域 | 北東(NE) | 10 | 15 | 2 |"
   ]
  },
  {
   "cell_type": "markdown",
   "metadata": {},
   "source": [
    "| 季節 | 地域区分 | 方位 | a | b | c |\n",
    "|:---:|:---:|:---:|:---:|:---:|:---:|:---:|\n",
    "| 冷房期 | 1地域～7地域 | 南東(SE) | 16 | 24 | 2 |\n",
    "| 冷房期 | 1地域～7地域 | 南西(SW) | 16 | 24 | 2 |\n",
    "| 冷房期 | 1地域～7地域 | 北西(NW) | 16 | 24 | 2 |\n",
    "| 冷房期 | 1地域～7地域 | 北東(NE) | 16 | 24 | 2 |\n",
    "| 冷房期 | 8地域 | 南東(SE) | 16 | 19 | 2 |\n",
    "| 冷房期 | 8地域 | 南西(SW) | 16 | 19 | 2 |\n",
    "| 冷房期 | 8地域 | 北西(NW) | 16 | 24 | 2 |\n",
    "| 冷房期 | 8地域 | 北東(NE) | 16 | 24 | 2 |"
   ]
  },
  {
   "cell_type": "code",
   "execution_count": 6,
   "metadata": {},
   "outputs": [],
   "source": [
    "def get_heating_overhang_width(is_f_value_input, region, direction, y1, y2, f_value=None):\n",
    "\n",
    "    if is_f_value_input:\n",
    "        \n",
    "        if region <= 7:\n",
    "            a, b, c = {\n",
    "                'se': ( 5, 20, 3),\n",
    "                'sw': ( 5, 20, 3),\n",
    "                'nw': (10, 15, 2),\n",
    "                'ne': (10, 15, 2)\n",
    "            }[direction]\n",
    "        elif region == 8:\n",
    "            raise ValueError('z_Hを取得する関数で地域が8地域を指定されました。')\n",
    "        else:\n",
    "            raise ValueError('z_Hを取得する関数でregionに不正な値が指定されました。')\n",
    "        \n",
    "        _f = min(f_value, 0.72)\n",
    "        \n",
    "        if ( ( _f / 0.01 ) - a) <= 0: \n",
    "            return 5.0\n",
    "        else:\n",
    "            return min( ( b * ( c * y1 + y2) ) / ( ( _f / 0.01 ) - a ), 5.0 )\n",
    "\n",
    "    else:\n",
    "        \n",
    "        l_h_2 = 1 / 0.3\n",
    "        \n",
    "        return ( y1 + y2 ) / l_h_2        "
   ]
  },
  {
   "cell_type": "code",
   "execution_count": 7,
   "metadata": {},
   "outputs": [],
   "source": [
    "def get_cooling_overhang_width(is_f_value_input, region, direction, y1, y2, f_value=None):\n",
    "\n",
    "    if is_f_value_input:\n",
    "        \n",
    "        if region <= 7:\n",
    "            a, b, c = {\n",
    "                'se': (16, 24, 2),\n",
    "                'sw': (16, 24, 2),\n",
    "                'nw': (16, 24, 2),\n",
    "                'ne': (16, 24, 2)\n",
    "            }[direction]\n",
    "        elif region == 8:\n",
    "            a, b, c = {\n",
    "                'se': (16, 19, 2),\n",
    "                'sw': (16, 19, 2),\n",
    "                'nw': (16, 24, 2),\n",
    "                'ne': (16, 24, 2)\n",
    "            }[direction]\n",
    "        else:\n",
    "            raise ValueError('z_Cを取得する関数でregionに不正な値が指定されました。')\n",
    "            \n",
    "        _f = min(f_value, 0.93)\n",
    "        \n",
    "        if ( ( _f / 0.01 ) - a) <= 0: \n",
    "            return 5.0\n",
    "        else:\n",
    "            return min( ( b * ( c * y1 + y2) ) / ( ( _f / 0.01 ) - a ), 5.0 )\n",
    "    \n",
    "    else:\n",
    "        \n",
    "        return 0.0"
   ]
  },
  {
   "cell_type": "markdown",
   "metadata": {},
   "source": [
    "1地域～7地域"
   ]
  },
  {
   "cell_type": "markdown",
   "metadata": {},
   "source": [
    "$$z=\\frac{z_H + z_C}{2}$$"
   ]
  },
  {
   "cell_type": "markdown",
   "metadata": {},
   "source": [
    "8地域"
   ]
  },
  {
   "cell_type": "markdown",
   "metadata": {},
   "source": [
    "$$ z = z_C $$"
   ]
  },
  {
   "cell_type": "markdown",
   "metadata": {},
   "source": [
    "$z$：壁面から日除けの張り出し寸法, m  "
   ]
  },
  {
   "cell_type": "code",
   "execution_count": 8,
   "metadata": {},
   "outputs": [],
   "source": [
    "def get_y1_y2_z(is_f_value_input, region, direction, f_value_h=None, f_value_c=None):\n",
    "    \n",
    "    y1, y2 = 0.0, 1.1 \n",
    "    \n",
    "    if region == 8:\n",
    "        z_C = get_cooling_overhang_width(is_f_value_input, region, direction, y1, y2, f_value_c)\n",
    "        z = z_C\n",
    "    else:\n",
    "        z_H = get_heating_overhang_width(is_f_value_input, region, direction, y1, y2, f_value_h)\n",
    "        z_C = get_cooling_overhang_width(is_f_value_input, region, direction, y1, y2, f_value_c)\n",
    "        z = ( z_H + z_C ) / 2\n",
    "        \n",
    "    return y1, y2, z"
   ]
  },
  {
   "cell_type": "markdown",
   "metadata": {},
   "source": [
    "example"
   ]
  },
  {
   "cell_type": "code",
   "execution_count": 9,
   "metadata": {},
   "outputs": [
    {
     "data": {
      "image/png": "[encoded data removed]",
      "text/plain": [
       "<Figure size 1080x360 with 3 Axes>"
      ]
     },
     "metadata": {},
     "output_type": "display_data"
    }
   ],
   "source": [
    "# 取得日射熱補正係数の配列を用意\n",
    "xs = np.arange( 0.0, 1.01, 0.01 )\n",
    "\n",
    "windows = [\n",
    "    {'region': 6, 'direction': 'se'},\n",
    "    {'region': 6, 'direction': 'ne'},\n",
    "    {'region': 8, 'direction': 'se'},\n",
    "    {'region': 8, 'direction': 'ne'}\n",
    "]\n",
    "\n",
    "y1, y2 = 0.0, 1.1\n",
    "\n",
    "fig = plt.figure(figsize = (15, 5))\n",
    "plt.style.use('ggplot')\n",
    "\n",
    "# 暖房期 \n",
    "ax0 = fig.add_subplot(1, 3, 1)\n",
    "for window in windows:\n",
    "    if window['region'] >= 8:\n",
    "        continue\n",
    "    else:\n",
    "        z_h = [get_heating_overhang_width(is_f_value_input=True, region=window['region'], direction=window['direction'],\n",
    "                                          y1=y1, y2=y2, f_value=f) for f in xs]\n",
    "        label =  'Region:' + str(window['region']) + ', Direction:' + window['direction']\n",
    "        ax0.scatter(xs, z_h, 10, label=label)\n",
    "ax0.set_title('Heating Period')\n",
    "ax0.set_xlabel('Solar heat correction factor[-]')\n",
    "ax0.set_ylabel('Overhang width in heating period[m]')\n",
    "ax0.set_ylim(0,10)\n",
    "ax0.legend()\n",
    "\n",
    "# 冷房期\n",
    "ax1 = fig.add_subplot(1, 3, 2)\n",
    "for window in windows:\n",
    "    z_c = [get_cooling_overhang_width(is_f_value_input=True, region=window['region'], direction=window['direction'],\n",
    "                                      y1=y1, y2=y2, f_value=f) for f in xs]\n",
    "    label =  'Region:' + str(window['region']) + ', Direction:' + window['direction']\n",
    "    ax1.scatter(xs, z_c, 10,label = label)\n",
    "    \n",
    "ax1.set_title('Cooling Period')\n",
    "ax1.set_xlabel('Solar heat correction factor[-]')\n",
    "ax1.set_ylabel('Overhang width in cooling period[m]')\n",
    "ax1.set_ylim(0,10)\n",
    "ax1.legend()\n",
    "\n",
    "# 通年\n",
    "ax3 = fig.add_subplot(1,3,3)\n",
    "for window in windows:\n",
    "    z = [get_y1_y2_z(is_f_value_input=True, region=window['region'], direction=window['direction'],\n",
    "                    f_value_h=f, f_value_c=f)[2] for f in xs]\n",
    "    label = 'Region:' + str(window['region']) + ', Direction:' + window['direction']\n",
    "    ax3.scatter(xs, z, 10, label=label)\n",
    "\n",
    "ax3.set_title('Annual')\n",
    "ax3.set_xlabel('Solar heat correction factor[-]')\n",
    "ax3.set_ylabel('Overhang width in cooling period[m]')\n",
    "ax3.set_ylim(0,10)\n",
    "ax3.legend()\n",
    "    \n",
    "plt.show()"
   ]
  },
  {
   "cell_type": "markdown",
   "metadata": {},
   "source": [
    "#### 2) 種類・隣接空間の種類・方位・面積"
   ]
  },
  {
   "cell_type": "markdown",
   "metadata": {},
   "source": [
    "| 番号 | 隣接空間の種類 | 方位 | 面積(m2) | 熱貫流率(W/m2K) | 暖房期の垂直面日射熱取得率 | 冷房期の垂直面日射熱取得率 |\n",
    "| --- | --- | --- | --- | --- | --- | --- |\n",
    "| 1 | 外気 |   0度 | 22.69 | $U_{window}$ | $\\eta_{d,H}$ | $\\eta_{d,C}$ |\n",
    "| 2 | 外気 |  90度 |  2.38 | $U_{window}$ | $\\eta_{d,H}$ | $\\eta_{d,C}$ |\n",
    "| 3 | 外気 | 180度 |  3.63 | $U_{window}$ | $\\eta_{d,H}$ | $\\eta_{d,C}$ |\n",
    "| 4 | 外気 | 270度 |  4.37 | $U_{window}$ | $\\eta_{d,H}$ | $\\eta_{d,C}$ |"
   ]
  },
  {
   "cell_type": "markdown",
   "metadata": {},
   "source": [
    "面積は表の値に規模係数を乗じた値とする。"
   ]
  },
  {
   "cell_type": "markdown",
   "metadata": {},
   "source": [
    "$$ \\eta_d = \\frac{ ( \\eta_{d,H} + \\eta_{d,C} ) }{ 2 } $$"
   ]
  },
  {
   "cell_type": "markdown",
   "metadata": {},
   "source": [
    "$ \\eta_{d,H} $：暖房期の垂直面日射熱取得率  \n",
    "$ \\eta_{d,C} $：冷房期の垂直面日射熱取得率  \n",
    "$ \\eta_d $：垂直面日射熱取得率  "
   ]
  },
  {
   "cell_type": "code",
   "execution_count": 10,
   "metadata": {},
   "outputs": [],
   "source": [
    "def get_eta_d(eta_d_h, eta_d_c):\n",
    "    \n",
    "    return ( eta_d_h + eta_d_c ) / 2"
   ]
  },
  {
   "cell_type": "code",
   "execution_count": 11,
   "metadata": {},
   "outputs": [],
   "source": [
    "def get_windows(a_a, region, u_window, eta_d_h, eta_d_c,\n",
    "                is_f_value_input, f_value_h, f_value_c, **kwargs ):\n",
    "\n",
    "    table = [\n",
    "        [1, 'outdoor' ,   '0', 22.69, u_window, eta_d_h, eta_d_c],\n",
    "        [2, 'outdoor' ,  '90',  2.38, u_window, eta_d_h, eta_d_c],\n",
    "        [3, 'outdoor' , '180',  3.63, u_window, eta_d_h, eta_d_c],\n",
    "        [4, 'outdoor' , '270',  4.37, u_window, eta_d_h, eta_d_c],\n",
    "    ]\n",
    "    \n",
    "    parts = []\n",
    "    \n",
    "    for row in table:\n",
    "    \n",
    "        direction = get_direction(row[2])\n",
    "        y1, y2, z = get_y1_y2_z(is_f_value_input, region, direction, f_value_h, f_value_c)\n",
    "        eta_d = get_eta_d(row[5], row[6])\n",
    "\n",
    "        parts.append({\n",
    "            'name'             : 'simple_window_part' + str(row[0]),\n",
    "            'next_space'       : row[1],\n",
    "            'direction'        : direction,\n",
    "            'area'             : row[3] * get_r_size(a_a),\n",
    "            'spec' : {\n",
    "                'window_type' : 'single',\n",
    "                'windows' : [\n",
    "                    {\n",
    "                        'u_value_input_method'     : 'u_value_directly',\n",
    "                        'u_value'                  : row[4],\n",
    "                        'eta_d_value_input_method' : 'eta_d_value_directly',\n",
    "                        'eta_d_value'              : eta_d,\n",
    "                        'glass_type'               : 'single',\n",
    "                    }\n",
    "                ],\n",
    "                'attachment_type'            : 'none',\n",
    "                'is_windbreak_room_attached' : False,\n",
    "                'sunshade' : {\n",
    "                    'y1' : y1,\n",
    "                    'y2' : y2,\n",
    "                    'z'  : z,\n",
    "                }\n",
    "            }\n",
    "        })\n",
    "\n",
    "    return parts"
   ]
  },
  {
   "cell_type": "markdown",
   "metadata": {},
   "source": [
    "exmaple"
   ]
  },
  {
   "cell_type": "code",
   "execution_count": 12,
   "metadata": {},
   "outputs": [
    {
     "data": {
      "text/plain": [
       "[{'name': 'simple_window_part1',\n",
       "  'next_space': 'outdoor',\n",
       "  'direction': 'sw',\n",
       "  'area': 30.253333333333334,\n",
       "  'spec': {'window_type': 'single',\n",
       "   'windows': [{'u_value_input_method': 'u_value_directly',\n",
       "     'u_value': 3.49,\n",
       "     'eta_d_value_input_method': 'eta_d_value_directly',\n",
       "     'eta_d_value': 0.51,\n",
       "     'glass_type': 'single'}],\n",
       "   'attachment_type': 'none',\n",
       "   'is_windbreak_room_attached': False,\n",
       "   'sunshade': {'y1': 0.0, 'y2': 1.1, 'z': 0.34760914760914763}}},\n",
       " {'name': 'simple_window_part2',\n",
       "  'next_space': 'outdoor',\n",
       "  'direction': 'nw',\n",
       "  'area': 3.173333333333333,\n",
       "  'spec': {'window_type': 'single',\n",
       "   'windows': [{'u_value_input_method': 'u_value_directly',\n",
       "     'u_value': 3.49,\n",
       "     'eta_d_value_input_method': 'eta_d_value_directly',\n",
       "     'eta_d_value': 0.51,\n",
       "     'glass_type': 'single'}],\n",
       "   'attachment_type': 'none',\n",
       "   'is_windbreak_room_attached': False,\n",
       "   'sunshade': {'y1': 0.0, 'y2': 1.1, 'z': 0.3158783783783784}}},\n",
       " {'name': 'simple_window_part3',\n",
       "  'next_space': 'outdoor',\n",
       "  'direction': 'ne',\n",
       "  'area': 4.84,\n",
       "  'spec': {'window_type': 'single',\n",
       "   'windows': [{'u_value_input_method': 'u_value_directly',\n",
       "     'u_value': 3.49,\n",
       "     'eta_d_value_input_method': 'eta_d_value_directly',\n",
       "     'eta_d_value': 0.51,\n",
       "     'glass_type': 'single'}],\n",
       "   'attachment_type': 'none',\n",
       "   'is_windbreak_room_attached': False,\n",
       "   'sunshade': {'y1': 0.0, 'y2': 1.1, 'z': 0.3158783783783784}}},\n",
       " {'name': 'simple_window_part4',\n",
       "  'next_space': 'outdoor',\n",
       "  'direction': 'se',\n",
       "  'area': 5.826666666666666,\n",
       "  'spec': {'window_type': 'single',\n",
       "   'windows': [{'u_value_input_method': 'u_value_directly',\n",
       "     'u_value': 3.49,\n",
       "     'eta_d_value_input_method': 'eta_d_value_directly',\n",
       "     'eta_d_value': 0.51,\n",
       "     'glass_type': 'single'}],\n",
       "   'attachment_type': 'none',\n",
       "   'is_windbreak_room_attached': False,\n",
       "   'sunshade': {'y1': 0.0, 'y2': 1.1, 'z': 0.34760914760914763}}}]"
      ]
     },
     "execution_count": 12,
     "metadata": {},
     "output_type": "execute_result"
    }
   ],
   "source": [
    "get_windows(a_a = 120.0, region = 6, u_window = 3.49, eta_d_h = 0.51, eta_d_c = 0.51, is_f_value_input = True, f_value_h = 0.7, f_value_c = 0.9)"
   ]
  },
  {
   "cell_type": "markdown",
   "metadata": {},
   "source": [
    "### 5. 大部分がガラスで構成されないドア等の開口部"
   ]
  },
  {
   "cell_type": "markdown",
   "metadata": {},
   "source": [
    "| 番号 | 隣接空間の種類 | 方位 | 面積(m2) | 熱貫流率(W/m2K) |\n",
    "| --- | --- | --- | --- | --- |\n",
    "| 1 | 外気 |  90度 | 1.89 | $U_{door}$ |\n",
    "| 2 | 外気 | 180度 | 1.62 | $U_{door}$ |\n"
   ]
  },
  {
   "cell_type": "markdown",
   "metadata": {},
   "source": [
    "面積は表の値に規模係数を乗じた値とする。"
   ]
  },
  {
   "cell_type": "code",
   "execution_count": 13,
   "metadata": {},
   "outputs": [],
   "source": [
    "def get_doors(total_floor_area, u_value_door, **kwargs ):\n",
    "\n",
    "    table = [\n",
    "        [1, 'outdoor',  '90', 1.89, u_value_door],\n",
    "        [2, 'outdoor', '180', 1.62, u_value_door],\n",
    "    ]\n",
    "    \n",
    "    parts = []\n",
    "    \n",
    "    for row in table:\n",
    "    \n",
    "        direction = get_direction(row[2])\n",
    "\n",
    "        parts.append({\n",
    "            'name'       : 'simple_door_part' + str(row[0]),\n",
    "            'next_space' : row[1],\n",
    "            'direction'  : direction,\n",
    "            'area'       : row[3] * get_r_size(total_floor_area),\n",
    "            'spec'       : {\n",
    "                'u_value'           : row[4],\n",
    "                'is_sunshade_input' : False,\n",
    "            }\n",
    "        })\n",
    "\n",
    "    return parts"
   ]
  },
  {
   "cell_type": "markdown",
   "metadata": {},
   "source": [
    "#### Example"
   ]
  },
  {
   "cell_type": "code",
   "execution_count": 14,
   "metadata": {},
   "outputs": [
    {
     "data": {
      "text/plain": [
       "[{'name': 'simple_door_part1',\n",
       "  'next_space': 'outdoor',\n",
       "  'direction': 'nw',\n",
       "  'area': 2.5199999999999996,\n",
       "  'spec': {'u_value': 2.33, 'is_sunshade_input': False}},\n",
       " {'name': 'simple_door_part2',\n",
       "  'next_space': 'outdoor',\n",
       "  'direction': 'ne',\n",
       "  'area': 2.16,\n",
       "  'spec': {'u_value': 2.33, 'is_sunshade_input': False}}]"
      ]
     },
     "execution_count": 14,
     "metadata": {},
     "output_type": "execute_result"
    }
   ],
   "source": [
    "get_doors(\n",
    "    total_floor_area = 120.0,\n",
    "    u_value_door = 2.33,\n",
    ")"
   ]
  },
  {
   "cell_type": "markdown",
   "metadata": {},
   "source": [
    "### 6. 土間床等の外周部"
   ]
  },
  {
   "cell_type": "markdown",
   "metadata": {},
   "source": [
    "| 番号 | 隣接空間の種類 | 方位 | 床断熱住戸<br>浴室床断熱<br>面積(m2) | 床断熱住戸<br>浴室基礎断熱<br>長さ(m) | 床断熱住戸<br>浴室床なし<br>長さ(m) | 基礎断熱住戸<br>長さ(m) | 線熱貫流率(W/mK) |\n",
    "| --- | --- | --- | --- | --- | --- | --- | --- |\n",
    "|  1 | 外気             |  90度 |  1.82 |  1.82 |  1.82 |  1.82 | $\\psi_{prm,etrc}$  |\n",
    "|  2 | 外気             | 180度 |  1.37 |  1.37 |  1.37 |  1.37 | $\\psi_{prm,etrc}$  |\n",
    "|  3 | 外気に通じる床裏 |     - |  3.19 |  3.19 |  3.19 |  0.00 | $\\psi_{prm,etrc}$  |\n",
    "|  4 | 外気             |  90度 |  0.00 |  1.82 |  0.00 |  1.82 | $\\psi_{prm,bath}$  |\n",
    "|  5 | 外気             | 180度 |  0.00 |  1.82 |  0.00 |  1.82 | $\\psi_{prm,bath}$  |\n",
    "|  6 | 外気に通じる床裏 |     - |  0.00 |  3.64 |  0.00 |  0.00 | $\\psi_{prm,bath}$  |\n",
    "|  7 | 外気             |   0度 |  0.00 |  0.00 |  0.00 | 10.61 | $\\psi_{prm,other}$ |\n",
    "|  8 | 外気             |  90度 |  0.00 |  0.00 |  0.00 |  1.15 | $\\psi_{prm,other}$ |\n",
    "|  9 | 外気             | 180度 |  0.00 |  0.00 |  0.00 |  7.42 | $\\psi_{prm,other}$ |\n",
    "| 10 | 外気             | 270度 |  0.00 |  0.00 |  0.00 |  4.79 | $\\psi_{prm,other}$ |"
   ]
  },
  {
   "cell_type": "markdown",
   "metadata": {},
   "source": [
    "面積は表の値に規模係数を乗じた値とする。"
   ]
  },
  {
   "cell_type": "code",
   "execution_count": 15,
   "metadata": {},
   "outputs": [],
   "source": [
    "def get_earthfloor_perimeters(total_floor_area, house_type,\n",
    "                              psi_value_earthfloor_perimeter_entrance,\n",
    "                              psi_value_earthfloor_perimeter_bathroom=None,\n",
    "                              psi_value_earthfloor_perimeter_other=None, **kwargs):\n",
    "\n",
    "    table = [\n",
    "        [  1,         'outdoor',    '90', {'f_f' : 1.82, 'f_b' : 1.82, 'f_n' : 1.82, 'b' :  1.82}, psi_value_earthfloor_perimeter_entrance ],\n",
    "        [  2,         'outdoor',   '180', {'f_f' : 1.37, 'f_b' : 1.37, 'f_n' : 1.37, 'b' :  1.37}, psi_value_earthfloor_perimeter_entrance ],\n",
    "        [  3, 'open_underfloor', 'other', {'f_f' : 3.19, 'f_b' : 3.19, 'f_n' : 3.19, 'b' :  0.00}, psi_value_earthfloor_perimeter_entrance ],\n",
    "        [  4,         'outdoor',    '90', {'f_f' : 0.00, 'f_b' : 1.82, 'f_n' : 0.00, 'b' :  1.82}, psi_value_earthfloor_perimeter_bathroom ],\n",
    "        [  5,         'outdoor',   '180', {'f_f' : 0.00, 'f_b' : 1.82, 'f_n' : 0.00, 'b' :  1.82}, psi_value_earthfloor_perimeter_bathroom ],\n",
    "        [  6, 'open_underfloor', 'other', {'f_f' : 0.00, 'f_b' : 3.64, 'f_n' : 0.00, 'b' :  0.00}, psi_value_earthfloor_perimeter_bathroom ],\n",
    "        [  7,         'outdoor',     '0', {'f_f' : 0.00, 'f_b' : 0.00, 'f_n' : 0.00, 'b' : 10.61},    psi_value_earthfloor_perimeter_other ],\n",
    "        [  8,         'outdoor',    '90', {'f_f' : 0.00, 'f_b' : 0.00, 'f_n' : 0.00, 'b' :  1.15},    psi_value_earthfloor_perimeter_other ],\n",
    "        [  9,         'outdoor',   '180', {'f_f' : 0.00, 'f_b' : 0.00, 'f_n' : 0.00, 'b' :  7.42},    psi_value_earthfloor_perimeter_other ],\n",
    "        [ 10,         'outdoor',   '270', {'f_f' : 0.00, 'f_b' : 0.00, 'f_n' : 0.00, 'b' :  4.79},    psi_value_earthfloor_perimeter_other ],\n",
    "    ]\n",
    "\n",
    "    parts = []\n",
    "    \n",
    "    num = 0\n",
    "    \n",
    "    for row in table:\n",
    "        \n",
    "        if row[3][house_type] > 0.0:\n",
    "            \n",
    "            num = num + 1\n",
    "            \n",
    "            parts.append({\n",
    "                'next_space' : row[1],\n",
    "                'direction'  : get_direction(row[2]),\n",
    "                'length'     : row[3][house_type] * get_r_size(total_floor_area),\n",
    "                'spec'       : {\n",
    "                    'psi_value'  : row[4],\n",
    "                }\n",
    "            })\n",
    "    \n",
    "    for i, part in enumerate(parts):\n",
    "        part['name'] = 'simple_earthfloor_perimeter' + str(i+1)\n",
    "    \n",
    "    return parts"
   ]
  },
  {
   "cell_type": "markdown",
   "metadata": {},
   "source": [
    "example"
   ]
  },
  {
   "cell_type": "code",
   "execution_count": 16,
   "metadata": {},
   "outputs": [
    {
     "data": {
      "text/plain": [
       "[{'next_space': 'outdoor',\n",
       "  'direction': 'nw',\n",
       "  'length': 2.4266666666666667,\n",
       "  'spec': {'psi_value': 1.8},\n",
       "  'name': 'simple_earthfloor_perimeter1'},\n",
       " {'next_space': 'outdoor',\n",
       "  'direction': 'ne',\n",
       "  'length': 1.8266666666666667,\n",
       "  'spec': {'psi_value': 1.8},\n",
       "  'name': 'simple_earthfloor_perimeter2'},\n",
       " {'next_space': 'open_underfloor',\n",
       "  'direction': 'other',\n",
       "  'length': 4.253333333333333,\n",
       "  'spec': {'psi_value': 1.8},\n",
       "  'name': 'simple_earthfloor_perimeter3'},\n",
       " {'next_space': 'outdoor',\n",
       "  'direction': 'nw',\n",
       "  'length': 2.4266666666666667,\n",
       "  'spec': {'psi_value': 1.8},\n",
       "  'name': 'simple_earthfloor_perimeter4'},\n",
       " {'next_space': 'outdoor',\n",
       "  'direction': 'ne',\n",
       "  'length': 2.4266666666666667,\n",
       "  'spec': {'psi_value': 1.8},\n",
       "  'name': 'simple_earthfloor_perimeter5'},\n",
       " {'next_space': 'open_underfloor',\n",
       "  'direction': 'other',\n",
       "  'length': 4.8533333333333335,\n",
       "  'spec': {'psi_value': 1.8},\n",
       "  'name': 'simple_earthfloor_perimeter6'}]"
      ]
     },
     "execution_count": 16,
     "metadata": {},
     "output_type": "execute_result"
    }
   ],
   "source": [
    "get_earthfloor_perimeters( \n",
    "    total_floor_area = 120.0,\n",
    "    house_type = 'f_b',\n",
    "    psi_value_earthfloor_perimeter_entrance = 1.8,\n",
    "    psi_value_earthfloor_perimeter_bathroom = 1.8,\n",
    "    psi_value_earthfloor_perimeter_other = 1.8\n",
    ")"
   ]
  },
  {
   "cell_type": "markdown",
   "metadata": {},
   "source": [
    "### 7. 土間床等"
   ]
  },
  {
   "cell_type": "markdown",
   "metadata": {},
   "source": [
    "| 番号 | 床断熱住戸<br>浴室床断熱<br>面積(m2) | 床断熱住戸<br>浴室基礎断熱<br>長さ(m2) | 床断熱住戸<br>浴室床なし<br>長さ(m2) | 基礎断熱住戸<br>長さ(m2) |\n",
    "| --- | --- | --- | --- | --- |\n",
    "|  1 | 2.48 | 2.48 | 2.48 |  2.48 |\n",
    "|  2 | 0.00 | 3.31 | 0.00 |  3.31 |\n",
    "|  3 | 0.00 | 0.00 | 0.00 | 45.05 |"
   ]
  },
  {
   "cell_type": "markdown",
   "metadata": {},
   "source": [
    "面積は表の値に規模係数を乗じた値とする。"
   ]
  },
  {
   "cell_type": "code",
   "execution_count": 17,
   "metadata": {},
   "outputs": [],
   "source": [
    "def get_earthfloor_centers(total_floor_area, house_type, **kwargs):\n",
    "\n",
    "    table = [\n",
    "        [1, {'f_f' : 2.48, 'f_b' : 2.48, 'f_n' : 2.48, 'b' :  2.48} ],\n",
    "        [2, {'f_f' : 0.00, 'f_b' : 3.31, 'f_n' : 0.00, 'b' :  3.31} ],\n",
    "        [3, {'f_f' : 0.00, 'f_b' : 0.00, 'f_n' : 0.00, 'b' : 45.05} ],\n",
    "    ]\n",
    "\n",
    "    parts = []\n",
    "    \n",
    "    for row in table:\n",
    "        \n",
    "        if row[1][house_type] > 0.0:\n",
    "            \n",
    "            parts.append({\n",
    "                'name' : 'simple_earthfloor_center' + str(row[0]),\n",
    "                'area' : row[1][house_type] * get_r_size(total_floor_area),\n",
    "            })\n",
    "    \n",
    "    return parts"
   ]
  },
  {
   "cell_type": "markdown",
   "metadata": {},
   "source": [
    "#### Example"
   ]
  },
  {
   "cell_type": "code",
   "execution_count": 18,
   "metadata": {},
   "outputs": [
    {
     "data": {
      "text/plain": [
       "[{'name': 'simple_earthfloor_center1', 'area': 3.3066666666666666},\n",
       " {'name': 'simple_earthfloor_center2', 'area': 4.413333333333333}]"
      ]
     },
     "execution_count": 18,
     "metadata": {},
     "output_type": "execute_result"
    }
   ],
   "source": [
    "get_earthfloor_centers(total_floor_area=120.0, house_type='f_b')"
   ]
  },
  {
   "cell_type": "code",
   "execution_count": 19,
   "metadata": {},
   "outputs": [],
   "source": [
    "def get_house_type(insulation_type, insulation_type_bathroom):\n",
    "    \n",
    "    if insulation_type == 'floor':\n",
    "        if insulation_type_bathroom == 'floor':\n",
    "            return 'f_f'\n",
    "        elif insulation_type_bathroom == 'base':\n",
    "            return 'f_b'\n",
    "        elif insulation_type_bathroom == 'inside':\n",
    "            return 'f_n'\n",
    "        else:\n",
    "            raise Exception('床断熱住戸における浴室の断熱の種類を指定するkeyが間違っています。')\n",
    "    elif insulation_type == 'base':\n",
    "        return 'b'\n",
    "    else:\n",
    "        raise Exception('住戸の種類を指定するkeyが間違っています。')"
   ]
  },
  {
   "cell_type": "markdown",
   "metadata": {},
   "source": [
    "## II. 統合"
   ]
  },
  {
   "cell_type": "code",
   "execution_count": 20,
   "metadata": {},
   "outputs": [],
   "source": [
    "def convert(d):\n",
    "\n",
    "    common = d['common']\n",
    "    total_floor_area = common['total_floor_area']\n",
    "    region = common['region']\n",
    "    \n",
    "    envelope = d['envelope']\n",
    "    simple_method = envelope['simple_method']\n",
    "    \n",
    "    # 住宅の種類の決定\n",
    "    #     f_f : 床断熱住戸（浴室は床断熱）\n",
    "    #     f_b : 床断熱住戸（浴室は基礎断熱）\n",
    "    #     f_n : 床断熱住戸（浴室の床の向こう側は熱的境界内）\n",
    "    #     b   : 基礎断熱住戸\n",
    "    house_type =get_house_type(insulation_type=simple_method['insulation_type'],\n",
    "                               insulation_type_bathroom=simple_method['insulation_type_bathroom'])\n",
    "\n",
    "    # 共通要素はそのまま保持する\n",
    "    d_common = copy.deepcopy(d['common'])\n",
    "    \n",
    "    u_roof = simple_method['u_value_roof']\n",
    "    u_wall = simple_method['u_value_wall']\n",
    "    u_floor_other = simple_method['u_value_floor_other'] if house_type != 'b' else None\n",
    "    u_floor_bath = simple_method['u_value_floor_bathroom'] if house_type == 'f_f' else None\n",
    "    u_window = simple_method['u_value_window']\n",
    "    eta_d_h = simple_method['eta_d_value_window_h']\n",
    "    eta_d_c = simple_method['eta_d_value_window_c']\n",
    "        \n",
    "    general_parts = get_general_parts(total_floor_area, house_type, u_roof, u_wall, u_floor_other, u_floor_bath)\n",
    "    windows = get_windows(**simple_method, a_a=total_floor_area, region=region, u_window=u_window, eta_d_h = eta_d_h, eta_d_c= eta_d_c)\n",
    "    doors = get_doors(**simple_method, total_floor_area=total_floor_area)\n",
    "    earthfloor_perimeters = get_earthfloor_perimeters(**simple_method, total_floor_area=total_floor_area, house_type=house_type)\n",
    "    earthfloor_centers = get_earthfloor_centers(**simple_method, total_floor_area=total_floor_area, house_type=house_type)\n",
    "\n",
    "    return {\n",
    "        'common' : copy.deepcopy(d['common']),\n",
    "        'envelope' : {\n",
    "            'general_parts' : general_parts,\n",
    "            'windows' : windows,\n",
    "            'doors' : doors,\n",
    "            'earthfloor_perimeters' : earthfloor_perimeters,\n",
    "            'earthfloor_centers' : earthfloor_centers\n",
    "        }\n",
    "    }"
   ]
  },
  {
   "cell_type": "markdown",
   "metadata": {},
   "source": [
    "### Example"
   ]
  },
  {
   "cell_type": "code",
   "execution_count": 21,
   "metadata": {},
   "outputs": [
    {
     "data": {
      "text/plain": [
       "{'common': {'region': 6,\n",
       "  'main_occupant_room_floor_area': 30.0,\n",
       "  'other_occupant_room_floor_area': 30.0,\n",
       "  'total_floor_area': 90.0},\n",
       " 'envelope': {'general_parts': [{'name': 'simple_general_part1',\n",
       "    'evlp_type': 'ceiling',\n",
       "    'next_space': 'outdoor',\n",
       "    'external_surface_type': 'outdoor',\n",
       "    'direction': 'top',\n",
       "    'area': 50.85,\n",
       "    'spec': {'structure': 'wood',\n",
       "     'u_value_input_method_wood': 'u_value_directly',\n",
       "     'u_value_wood': 7.7,\n",
       "     'is_sunshade_input': False}},\n",
       "   {'name': 'simple_general_part2',\n",
       "    'evlp_type': 'wall',\n",
       "    'next_space': 'outdoor',\n",
       "    'external_surface_type': 'outdoor',\n",
       "    'direction': 'sw',\n",
       "    'area': 30.47,\n",
       "    'spec': {'structure': 'wood',\n",
       "     'u_value_input_method_wood': 'u_value_directly',\n",
       "     'u_value_wood': 6.67,\n",
       "     'is_sunshade_input': False}},\n",
       "   {'name': 'simple_general_part3',\n",
       "    'evlp_type': 'wall',\n",
       "    'next_space': 'outdoor',\n",
       "    'external_surface_type': 'outdoor',\n",
       "    'direction': 'nw',\n",
       "    'area': 22.37,\n",
       "    'spec': {'structure': 'wood',\n",
       "     'u_value_input_method_wood': 'u_value_directly',\n",
       "     'u_value_wood': 6.67,\n",
       "     'is_sunshade_input': False}},\n",
       "   {'name': 'simple_general_part4',\n",
       "    'evlp_type': 'wall',\n",
       "    'next_space': 'outdoor',\n",
       "    'external_surface_type': 'outdoor',\n",
       "    'direction': 'ne',\n",
       "    'area': 47.92,\n",
       "    'spec': {'structure': 'wood',\n",
       "     'u_value_input_method_wood': 'u_value_directly',\n",
       "     'u_value_wood': 6.67,\n",
       "     'is_sunshade_input': False}},\n",
       "   {'name': 'simple_general_part5',\n",
       "    'evlp_type': 'wall',\n",
       "    'next_space': 'outdoor',\n",
       "    'external_surface_type': 'outdoor',\n",
       "    'direction': 'se',\n",
       "    'area': 22.28,\n",
       "    'spec': {'structure': 'wood',\n",
       "     'u_value_input_method_wood': 'u_value_directly',\n",
       "     'u_value_wood': 6.67,\n",
       "     'is_sunshade_input': False}},\n",
       "   {'name': 'simple_general_part6',\n",
       "    'evlp_type': 'floor',\n",
       "    'next_space': 'open_underfloor',\n",
       "    'external_surface_type': 'not_outdoor',\n",
       "    'direction': 'downward',\n",
       "    'area': 48.36,\n",
       "    'spec': {'structure': 'wood',\n",
       "     'u_value_input_method_wood': 'u_value_directly',\n",
       "     'u_value_wood': 5.27,\n",
       "     'is_sunshade_input': False}}],\n",
       "  'windows': [{'name': 'simple_window_part1',\n",
       "    'next_space': 'outdoor',\n",
       "    'direction': 'sw',\n",
       "    'area': 22.69,\n",
       "    'spec': {'window_type': 'single',\n",
       "     'windows': [{'u_value_input_method': 'u_value_directly',\n",
       "       'u_value': 3.49,\n",
       "       'eta_d_value_input_method': 'eta_d_value_directly',\n",
       "       'eta_d_value': 0.51,\n",
       "       'glass_type': 'single'}],\n",
       "     'attachment_type': 'none',\n",
       "     'is_windbreak_room_attached': False,\n",
       "     'sunshade': {'y1': 0.0, 'y2': 1.1, 'z': 0.34760914760914763}}},\n",
       "   {'name': 'simple_window_part2',\n",
       "    'next_space': 'outdoor',\n",
       "    'direction': 'nw',\n",
       "    'area': 2.38,\n",
       "    'spec': {'window_type': 'single',\n",
       "     'windows': [{'u_value_input_method': 'u_value_directly',\n",
       "       'u_value': 3.49,\n",
       "       'eta_d_value_input_method': 'eta_d_value_directly',\n",
       "       'eta_d_value': 0.51,\n",
       "       'glass_type': 'single'}],\n",
       "     'attachment_type': 'none',\n",
       "     'is_windbreak_room_attached': False,\n",
       "     'sunshade': {'y1': 0.0, 'y2': 1.1, 'z': 0.3158783783783784}}},\n",
       "   {'name': 'simple_window_part3',\n",
       "    'next_space': 'outdoor',\n",
       "    'direction': 'ne',\n",
       "    'area': 3.63,\n",
       "    'spec': {'window_type': 'single',\n",
       "     'windows': [{'u_value_input_method': 'u_value_directly',\n",
       "       'u_value': 3.49,\n",
       "       'eta_d_value_input_method': 'eta_d_value_directly',\n",
       "       'eta_d_value': 0.51,\n",
       "       'glass_type': 'single'}],\n",
       "     'attachment_type': 'none',\n",
       "     'is_windbreak_room_attached': False,\n",
       "     'sunshade': {'y1': 0.0, 'y2': 1.1, 'z': 0.3158783783783784}}},\n",
       "   {'name': 'simple_window_part4',\n",
       "    'next_space': 'outdoor',\n",
       "    'direction': 'se',\n",
       "    'area': 4.37,\n",
       "    'spec': {'window_type': 'single',\n",
       "     'windows': [{'u_value_input_method': 'u_value_directly',\n",
       "       'u_value': 3.49,\n",
       "       'eta_d_value_input_method': 'eta_d_value_directly',\n",
       "       'eta_d_value': 0.51,\n",
       "       'glass_type': 'single'}],\n",
       "     'attachment_type': 'none',\n",
       "     'is_windbreak_room_attached': False,\n",
       "     'sunshade': {'y1': 0.0, 'y2': 1.1, 'z': 0.34760914760914763}}}],\n",
       "  'doors': [{'name': 'simple_door_part1',\n",
       "    'next_space': 'outdoor',\n",
       "    'direction': 'nw',\n",
       "    'area': 1.89,\n",
       "    'spec': {'u_value': 4.65, 'is_sunshade_input': False}},\n",
       "   {'name': 'simple_door_part2',\n",
       "    'next_space': 'outdoor',\n",
       "    'direction': 'ne',\n",
       "    'area': 1.62,\n",
       "    'spec': {'u_value': 4.65, 'is_sunshade_input': False}}],\n",
       "  'earthfloor_perimeters': [{'next_space': 'outdoor',\n",
       "    'direction': 'nw',\n",
       "    'length': 1.82,\n",
       "    'spec': {'psi_value': 1.8},\n",
       "    'name': 'simple_earthfloor_perimeter1'},\n",
       "   {'next_space': 'outdoor',\n",
       "    'direction': 'ne',\n",
       "    'length': 1.37,\n",
       "    'spec': {'psi_value': 1.8},\n",
       "    'name': 'simple_earthfloor_perimeter2'},\n",
       "   {'next_space': 'open_underfloor',\n",
       "    'direction': 'other',\n",
       "    'length': 3.19,\n",
       "    'spec': {'psi_value': 1.8},\n",
       "    'name': 'simple_earthfloor_perimeter3'}],\n",
       "  'earthfloor_centers': [{'name': 'simple_earthfloor_center1', 'area': 2.48}]}}"
      ]
     },
     "execution_count": 21,
     "metadata": {},
     "output_type": "execute_result"
    }
   ],
   "source": [
    "d = {\n",
    "    'common' : {\n",
    "        'region' : 6,\n",
    "        'main_occupant_room_floor_area': 30.0,\n",
    "        'other_occupant_room_floor_area': 30.0,\n",
    "        'total_floor_area': 90.0,\n",
    "    },\n",
    "    'envelope' : {\n",
    "        'simple_method' : {\n",
    "            'insulation_type' : 'floor',\n",
    "            'insulation_type_bathroom' : 'inside',\n",
    "            'u_value_roof' : 7.7,\n",
    "            'u_value_wall' : 6.67,\n",
    "            'u_value_floor_other' : 5.27,\n",
    "            'u_value_floor_bathroom' : 5.27,\n",
    "            'u_value_door' : 4.65,\n",
    "            'u_value_window'    : 3.49,\n",
    "            'eta_d_value_window_c' : 0.51,       \n",
    "            'eta_d_value_window_h' : 0.51, \n",
    "            'is_f_value_input' : True, \n",
    "            'f_value_c' : 0.9,\n",
    "            'f_value_h' : 0.7,\n",
    "            'psi_value_earthfloor_perimeter_entrance' : 1.8,\n",
    "            'psi_value_earthfloor_perimeter_bathroom' : 1.8,\n",
    "        }\n",
    "    }\n",
    "}\n",
    "\n",
    "convert(d)"
   ]
  }
 ],
 "metadata": {
  "kernelspec": {
   "display_name": "Python 3",
   "language": "python",
   "name": "python3"
  },
  "language_info": {
   "codemirror_mode": {
    "name": "ipython",
    "version": 3
   },
   "file_extension": ".py",
   "mimetype": "text/x-python",
   "name": "python",
   "nbconvert_exporter": "python",
   "pygments_lexer": "ipython3",
   "version": "3.6.4"
  }
 },
 "nbformat": 4,
 "nbformat_minor": 2
}
