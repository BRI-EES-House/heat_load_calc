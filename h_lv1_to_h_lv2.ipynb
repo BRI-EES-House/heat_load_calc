{
 "cells": [
  {
   "cell_type": "code",
   "execution_count": 1,
   "metadata": {},
   "outputs": [
    {
     "name": "stdout",
     "output_type": "stream",
     "text": [
      "Importing Jupyter notebook from model_house.ipynb\n"
     ]
    }
   ],
   "source": [
    "import nbimporter\n",
    "\n",
    "import model_house"
   ]
  },
  {
   "cell_type": "markdown",
   "metadata": {},
   "source": [
    "# 外皮情報LV1からLV2へのコンバート"
   ]
  },
  {
   "cell_type": "markdown",
   "metadata": {},
   "source": [
    "## I. 統合"
   ]
  },
  {
   "cell_type": "markdown",
   "metadata": {},
   "source": [
    "面積・長さは床面積90.0㎡の簡易モデル住宅モデルより、延床面積に応じて決定する。  "
   ]
  },
  {
   "cell_type": "code",
   "execution_count": 2,
   "metadata": {},
   "outputs": [],
   "source": [
    "def convert(d):\n",
    "    return model_house.convert(d, 'output_spec')"
   ]
  },
  {
   "cell_type": "markdown",
   "metadata": {},
   "source": [
    "#### Example"
   ]
  },
  {
   "cell_type": "code",
   "execution_count": 3,
   "metadata": {},
   "outputs": [
    {
     "data": {
      "text/plain": [
       "{'common': {'region': 6,\n",
       "  'main_occupant_room_floor_area': 30.0,\n",
       "  'other_occupant_room_floor_area': 30.0,\n",
       "  'total_floor_area': 90.0},\n",
       " 'envelope': {'general_parts': [{'name': 'simple_general_part1',\n",
       "    'general_part_type': 'ceiling',\n",
       "    'next_space': 'outdoor',\n",
       "    'external_surface_type': 'outdoor',\n",
       "    'direction': 'top',\n",
       "    'area': 50.85,\n",
       "    'spec': {'structure': 'wood',\n",
       "     'u_value_input_method_wood': 'u_value_directly',\n",
       "     'u_value_wood': 7.7,\n",
       "     'is_sunshade_input': False}},\n",
       "   {'name': 'simple_general_part2',\n",
       "    'general_part_type': 'wall',\n",
       "    'next_space': 'outdoor',\n",
       "    'external_surface_type': 'outdoor',\n",
       "    'direction': 'sw',\n",
       "    'area': 30.47,\n",
       "    'spec': {'structure': 'wood',\n",
       "     'u_value_input_method_wood': 'u_value_directly',\n",
       "     'u_value_wood': 6.67,\n",
       "     'is_sunshade_input': False}},\n",
       "   {'name': 'simple_general_part3',\n",
       "    'general_part_type': 'wall',\n",
       "    'next_space': 'outdoor',\n",
       "    'external_surface_type': 'outdoor',\n",
       "    'direction': 'nw',\n",
       "    'area': 22.37,\n",
       "    'spec': {'structure': 'wood',\n",
       "     'u_value_input_method_wood': 'u_value_directly',\n",
       "     'u_value_wood': 6.67,\n",
       "     'is_sunshade_input': False}},\n",
       "   {'name': 'simple_general_part4',\n",
       "    'general_part_type': 'wall',\n",
       "    'next_space': 'outdoor',\n",
       "    'external_surface_type': 'outdoor',\n",
       "    'direction': 'ne',\n",
       "    'area': 47.92,\n",
       "    'spec': {'structure': 'wood',\n",
       "     'u_value_input_method_wood': 'u_value_directly',\n",
       "     'u_value_wood': 6.67,\n",
       "     'is_sunshade_input': False}},\n",
       "   {'name': 'simple_general_part5',\n",
       "    'general_part_type': 'wall',\n",
       "    'next_space': 'outdoor',\n",
       "    'external_surface_type': 'outdoor',\n",
       "    'direction': 'se',\n",
       "    'area': 22.28,\n",
       "    'spec': {'structure': 'wood',\n",
       "     'u_value_input_method_wood': 'u_value_directly',\n",
       "     'u_value_wood': 6.67,\n",
       "     'is_sunshade_input': False}},\n",
       "   {'name': 'simple_general_part6',\n",
       "    'general_part_type': 'floor',\n",
       "    'next_space': 'open_underfloor',\n",
       "    'external_surface_type': 'not_outdoor',\n",
       "    'direction': 'bottom',\n",
       "    'area': 48.36,\n",
       "    'spec': {'structure': 'wood',\n",
       "     'u_value_input_method_wood': 'u_value_directly',\n",
       "     'u_value_wood': 5.27,\n",
       "     'is_sunshade_input': False}}],\n",
       "  'windows': [{'name': 'simple_window_part1',\n",
       "    'next_space': 'outdoor',\n",
       "    'direction': 'sw',\n",
       "    'area': 22.69,\n",
       "    'spec': {'window_type': 'single',\n",
       "     'windows': [{'u_value_input_method': 'u_value_directly',\n",
       "       'u_value': 3.49,\n",
       "       'eta_d_value_input_method': 'eta_d_value_directly',\n",
       "       'eta_d_value': 0.51,\n",
       "       'glass_type': 'single'}],\n",
       "     'attachment_type': 'none',\n",
       "     'is_windbreak_room_attached': False,\n",
       "     'sunshade': {'y1': (0.0, 1.1, 0.34760914760914763),\n",
       "      'y2': None,\n",
       "      'z': None}}},\n",
       "   {'name': 'simple_window_part2',\n",
       "    'next_space': 'outdoor',\n",
       "    'direction': 'nw',\n",
       "    'area': 2.38,\n",
       "    'spec': {'window_type': 'single',\n",
       "     'windows': [{'u_value_input_method': 'u_value_directly',\n",
       "       'u_value': 3.49,\n",
       "       'eta_d_value_input_method': 'eta_d_value_directly',\n",
       "       'eta_d_value': 0.51,\n",
       "       'glass_type': 'single'}],\n",
       "     'attachment_type': 'none',\n",
       "     'is_windbreak_room_attached': False,\n",
       "     'sunshade': {'y1': (0.0, 1.1, 0.3158783783783784),\n",
       "      'y2': None,\n",
       "      'z': None}}},\n",
       "   {'name': 'simple_window_part3',\n",
       "    'next_space': 'outdoor',\n",
       "    'direction': 'ne',\n",
       "    'area': 3.63,\n",
       "    'spec': {'window_type': 'single',\n",
       "     'windows': [{'u_value_input_method': 'u_value_directly',\n",
       "       'u_value': 3.49,\n",
       "       'eta_d_value_input_method': 'eta_d_value_directly',\n",
       "       'eta_d_value': 0.51,\n",
       "       'glass_type': 'single'}],\n",
       "     'attachment_type': 'none',\n",
       "     'is_windbreak_room_attached': False,\n",
       "     'sunshade': {'y1': (0.0, 1.1, 0.3158783783783784),\n",
       "      'y2': None,\n",
       "      'z': None}}},\n",
       "   {'name': 'simple_window_part4',\n",
       "    'next_space': 'outdoor',\n",
       "    'direction': 'se',\n",
       "    'area': 4.37,\n",
       "    'spec': {'window_type': 'single',\n",
       "     'windows': [{'u_value_input_method': 'u_value_directly',\n",
       "       'u_value': 3.49,\n",
       "       'eta_d_value_input_method': 'eta_d_value_directly',\n",
       "       'eta_d_value': 0.51,\n",
       "       'glass_type': 'single'}],\n",
       "     'attachment_type': 'none',\n",
       "     'is_windbreak_room_attached': False,\n",
       "     'sunshade': {'y1': (0.0, 1.1, 0.34760914760914763),\n",
       "      'y2': None,\n",
       "      'z': None}}}],\n",
       "  'doors': [{'name': 'simple_door_part1',\n",
       "    'next_space': 'outdoor',\n",
       "    'direction': 'nw',\n",
       "    'area': 1.89,\n",
       "    'spec': {'u_value': 4.65, 'is_sunshade_input': False}},\n",
       "   {'name': 'simple_door_part2',\n",
       "    'next_space': 'outdoor',\n",
       "    'direction': 'ne',\n",
       "    'area': 1.62,\n",
       "    'spec': {'u_value': 4.65, 'is_sunshade_input': False}}],\n",
       "  'earthfloor_perimeters': [{'name': 'simple_earthfloor_perimeter1',\n",
       "    'next_space': 'outdoor',\n",
       "    'direction': 'nw',\n",
       "    'length': 1.82,\n",
       "    'spec': {'psi_value': 1.8}},\n",
       "   {'name': 'simple_earthfloor_perimeter2',\n",
       "    'next_space': 'outdoor',\n",
       "    'direction': 'ne',\n",
       "    'length': 1.37,\n",
       "    'spec': {'psi_value': 1.8}},\n",
       "   {'name': 'simple_earthfloor_perimeter3',\n",
       "    'next_space': 'open_underfloor',\n",
       "    'direction': 'other',\n",
       "    'length': 3.19,\n",
       "    'spec': {'psi_value': 1.8}}],\n",
       "  'earthfloor_centers': [{'name': 'simple_earthfloor_center1', 'area': 2.48}]}}"
      ]
     },
     "execution_count": 3,
     "metadata": {},
     "output_type": "execute_result"
    }
   ],
   "source": [
    "d = {\n",
    "    'common' : {\n",
    "        'region' : 6,\n",
    "        'main_occupant_room_floor_area': 30.0,\n",
    "        'other_occupant_room_floor_area': 30.0,\n",
    "        'total_floor_area': 90.0,\n",
    "    },\n",
    "    'envelope' : {\n",
    "        'simple_method' : {\n",
    "            'insulation_type' : 'floor',\n",
    "            'insulation_type_bathroom' : 'inside',\n",
    "            'u_value_roof' : 7.7,\n",
    "            'u_value_wall' : 6.67,\n",
    "            'u_value_floor_other' : 5.27,\n",
    "            'u_value_floor_bathroom' : 5.27,\n",
    "            'u_value_door' : 4.65,\n",
    "            'u_value_window'    : 3.49,\n",
    "            'eta_d_value_window_c' : 0.51,       \n",
    "            'eta_d_value_window_h' : 0.51, \n",
    "            'is_f_value_input' : True, \n",
    "            'f_value_c' : 0.9,\n",
    "            'f_value_h' : 0.7,\n",
    "            'psi_value_earthfloor_perimeter_entrance' : 1.8,\n",
    "            'psi_value_earthfloor_perimeter_bathroom' : 1.8,\n",
    "        }\n",
    "    }\n",
    "}\n",
    "\n",
    "convert(d)"
   ]
  }
 ],
 "metadata": {
  "kernelspec": {
   "display_name": "Python 3",
   "language": "python",
   "name": "python3"
  },
  "language_info": {
   "codemirror_mode": {
    "name": "ipython",
    "version": 3
   },
   "file_extension": ".py",
   "mimetype": "text/x-python",
   "name": "python",
   "nbconvert_exporter": "python",
   "pygments_lexer": "ipython3",
   "version": "3.7.0"
  }
 },
 "nbformat": 4,
 "nbformat_minor": 2
}
