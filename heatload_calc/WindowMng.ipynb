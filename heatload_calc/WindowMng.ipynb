{
 "cells": [
  {
   "cell_type": "markdown",
   "metadata": {},
   "source": [
    "# 開口部透明部位の情報を保持するクラス"
   ]
  },
  {
   "cell_type": "markdown",
   "metadata": {},
   "source": [
    "## 1) １つの開口部透明部位の情報を保持するクラス\n",
    "- 開口部透明部位の基本情報（開口部名称、日射熱取得率、熱貫流率等）を保持するクラスを定義します。\n",
    "\n",
    "### Constructor parameters\n",
    "```\n",
    "'Name'           : # 開口部名称\n",
    "'Eta'            : # 日射熱取得率[-]\n",
    "'SolarTrans'     : # 日射透過率[-]\n",
    "'SolarAbsorp'    : # 吸収日射取得率[-]\n",
    "'Uw'             : # 開口部熱貫流率[W/m2K]\n",
    "'OutHeatTrans'   : # 室外側熱伝達率[W/(m2・K)]\n",
    "'OutEmissiv'     : # 室外側放射率[-]\n",
    "'InConHeatTrans' : # 室内対流熱伝達率[W/(m2･K)]\n",
    "'InRadHeatTrans' : # 室内放射熱伝達率[W/(m2･K)]\n",
    "```\n",
    "### Class Definition"
   ]
  },
  {
   "cell_type": "code",
   "execution_count": 1,
   "metadata": {},
   "outputs": [],
   "source": [
    "class Window:\n",
    "    \n",
    "    # 初期化\n",
    "    def __init__(self, Name, Eta, SolarTrans, SolarAbsorp, Uw, OutHeatTrans, OutEmissiv, InConHeatTrans, InRadHeatTrans ):\n",
    "        self.__strName = Name           # 開口部名称, string値\n",
    "        self.__dblEta = Eta             # 日射熱取得率[-]\n",
    "        self.__dblT = SolarTrans        # 日射透過率[-]\n",
    "        self.__dblB = SolarAbsorp       # 吸収日射取得率[-]\n",
    "        self.__dblUw = Uw               # 開口部熱貫流率[W/m2K]\n",
    "        self.__dblho = OutHeatTrans     # 室外側熱伝達率[W/m2K]\n",
    "        self.__dblEo = OutEmissiv       # 室外側放射率[-]\n",
    "        self.__dblhic = InConHeatTrans  # 室内対流熱伝達率[W/(m2･K)]\n",
    "        self.__dblhir = InRadHeatTrans  # 室内放射熱伝達率[W/(m2･K)]\n",
    "        \n",
    "        # 室内総合熱伝達率[W/(m2･K)]\n",
    "        self.__dblhi = self.__dblhic + self.__dblhir   \n",
    "\n",
    "        # 窓部材熱抵抗[m2K/W]\n",
    "        self.__dblRw = 1.0 / self.__dblUw - 1.0 / self.__dblhi - 1.0 / self.__dblho\n",
    "        \n",
    "        # 開口部の室内表面から屋外までの熱貫流率[W/(m2･K)]\n",
    "        self.__dblUso = 1.0 / ( self.__dblRw + 1.0 / self.__dblho)\n",
    "        \n",
    "        # 拡散日射に対する入射角特性\n",
    "        self.__condblCd = 0.92         \n",
    "    \n",
    "    # 名前の取得\n",
    "    def Name(self):\n",
    "        return self.__strName\n",
    "    \n",
    "    # 開口部の室内表面から屋外までの熱貫流率の取得\n",
    "    def Uso(self):\n",
    "        return self.__dblUso\n",
    "    \n",
    "    # 日射透過率の取得\n",
    "    def T(self):\n",
    "        return self.__dblT\n",
    "    \n",
    "    # 吸収日射取得率の取得\n",
    "    def B(self):\n",
    "        return self.__dblB\n",
    "    \n",
    "    # 室外側熱伝達率の取得\n",
    "    def ho(self):\n",
    "        return self.__dblho\n",
    "    \n",
    "    # 室内側熱伝達率の取得\n",
    "    def hi(self):\n",
    "        return self.__dblhi\n",
    "    \n",
    "    # 室内側対流熱伝達率の取得\n",
    "    def hic(self):\n",
    "        return self.__dblhic\n",
    "    \n",
    "    # 室内側放射熱伝達率の取得\n",
    "    def hir(self):\n",
    "        return self.__dblhir\n",
    "    \n",
    "    # 室外側放射率の取得\n",
    "    def Eo(self):\n",
    "        return self.__dblEo\n",
    "    \n",
    "    # 直達日射の入射角特性の計算\n",
    "    def CID(self, dblCosT):\n",
    "        return (2.392 * dblCosT - 3.8636 * dblCosT ** 3.0 + 3.7568 * dblCosT ** 5.0 - 1.3965 * dblCosT ** 7.0) / 0.88\n",
    "\n",
    "    # 吸収日射熱取得[W/m2]の計算\n",
    "    def QGA(self, dblId, dblIsk, dblIr, dblCosT, dblFsdw):\n",
    "        # dblId   : 傾斜面入射直達日射量[W/m2]\n",
    "        # dblIsk  : 傾斜面入射天空日射量[W/m2]\n",
    "        # dblIr   : 傾斜面入射反射日射量[W/m2]\n",
    "        # dblCosT : 入射角の方向余弦\n",
    "        # dblFsdw : 日よけ等による日影面積率\n",
    "        dblCID = self.CID(dblCosT)\n",
    "        return self.__dblB * ((1.0 - dblFsdw) * dblCID * dblId + self.__condblCd * (dblIsk + dblIr))\n",
    "    \n",
    "    \n",
    "    # 透過日射熱取得（直達成分）[W/m2]の計算\n",
    "    def QGTD(self, dblId, dblCosT, dblFsdw):  \n",
    "        # dblId   : 傾斜面入射直達日射量[W/m2]\n",
    "        # dblCosT : 入射角の方向余弦\n",
    "        # dblFsdw : 日よけ等による日影面積率\n",
    "        return self.__dblT * (1.0 - dblFsdw) * self.CID(dblCosT) * dblId\n",
    "\n",
    "    # 透過日射熱取得（拡散成分）[W/m2]の計算\n",
    "    def QGTS(self, dblIsk, dblIr):\n",
    "        # dblIsk:傾斜面入射天空日射量[W/m2]\n",
    "        # dblIr:傾斜面入射反射日射量[W/m2]\n",
    "        return self.__dblT * self.__condblCd * (dblIsk + dblIr)\n",
    "                                                          \n",
    "    # 透過日射熱取得[W/m2]の計算\n",
    "    def QGT(self, dblId, dblIsk, dblIr, dblCosT, dblFsdw):\n",
    "        # dblId   : 傾斜面入射直達日射量[W/m2]\n",
    "        # dblIsk  : 傾斜面入射天空日射量[W/m2]\n",
    "        # dblIr   : 傾斜面入射反射日射量[W/m2]\n",
    "        # dblCosT : 入射角の方向余弦\n",
    "        # dblFsdw : 日よけ等による日影面積率\n",
    "        return self.QGTD(dblId, dblCosT, dblFsdw) + self.QGTS(dblIsk, dblIr)"
   ]
  },
  {
   "cell_type": "markdown",
   "metadata": {},
   "source": [
    "## 2) 複数の開口部透明部位の情報を保持するクラス\n",
    "- 開口部透明部位に関する入力情報を辞書型で受け取り、開口部透明部位の情報を保持するクラスをインスタンス化します。\n",
    "- 複数の開口部透明部位の情報を配列で保持します。\n",
    "\n",
    "### Constructor parameters\n",
    "```\n",
    "d = {\n",
    "    'Windows': [\n",
    "        {\n",
    "            'Name'           : # 開口部名称\n",
    "            'Eta'            : # 日射熱取得率[-]\n",
    "            'SolarTrans'     : # 日射透過率[-]\n",
    "            'SolarAbsorp'    : # 吸収日射取得率[-]\n",
    "            'Uw'             : # 開口部熱貫流率[W/m2K]\n",
    "            'OutHeatTrans'   : # 室外側熱伝達率[W/(m2・K)]\n",
    "            'OutEmissiv'     : # 室外側放射率[-]\n",
    "            'InConHeatTrans' : # 室内対流熱伝達率[W/(m2･K)]\n",
    "            'InRadHeatTrans' : # 室内放射熱伝達率[W/(m2･K)]\n",
    "        }\n",
    "    ]\n",
    "}\n",
    "```\n",
    "### Class Definition"
   ]
  },
  {
   "cell_type": "code",
   "execution_count": 2,
   "metadata": {},
   "outputs": [],
   "source": [
    "class WindowMng:\n",
    "    \n",
    "    # 初期化\n",
    "    def __init__( self, d ):\n",
    "        \n",
    "        # 開口部透明部位インスタンスの配列を作成\n",
    "        self.__objWindow = []\n",
    "        for d_window in d['Windows']:\n",
    "            window = Window( d_window['Name'], d_window['Eta'], d_window['SolarTrans'], d_window['SolarAbsorp'], d_window['Uw'], d_window['OutHeatTrans'], d_window['OutEmissiv'], d_window['InConHeatTrans'], d_window['InRadHeatTrans'] )\n",
    "            self.__objWindow.append(window)\n",
    "            \n",
    "        # 開口部登録数\n",
    "        self.__lngNWindow = len( self.__objWindow ) - 1\n",
    "        \n",
    "        # 開口部名称→登録番号変換\n",
    "        self.__dicWindowName = {}\n",
    "        for lngI, x in enumerate(self.__objWindow):\n",
    "            self.__dicWindowName[x.Name()] = lngI\n",
    "            \n",
    "    # 開口部透明部位情報の取得\n",
    "    def Window(self, strName):\n",
    "        #print('WindowName=', strName)\n",
    "        return self.__objWindow[self.__dicWindowName[strName]]\n",
    "    \n",
    "    #日射透過率\n",
    "    def T(self, strName):\n",
    "        window_type = self.__objWindow[self.__dicWindowName[strName]]\n",
    "        return window_type.T()"
   ]
  },
  {
   "cell_type": "markdown",
   "metadata": {},
   "source": [
    "### Example"
   ]
  },
  {
   "cell_type": "code",
   "execution_count": 3,
   "metadata": {},
   "outputs": [],
   "source": [
    "d = {\n",
    "    'Windows': [\n",
    "        {\n",
    "            'Name'           : 'Window_NW',\n",
    "            'Eta'            : 0.729,\n",
    "            'SolarTrans'     : 0.738,\n",
    "            'SolarAbsorp'    : 0.054,\n",
    "            'Uw'             : 4.65,\n",
    "            'OutHeatTrans'   : 25.0,\n",
    "            'OutEmissiv'     : 0.90,\n",
    "            'InConHeatTrans' : 4.1,\n",
    "            'InRadHeatTrans' : 5.0\n",
    "        }\n",
    "    ]\n",
    "}\n",
    "\n",
    "windowsmng = WindowMng( d )"
   ]
  },
  {
   "cell_type": "markdown",
   "metadata": {},
   "source": [
    "#### 開口部不透明部位の各種情報の取得"
   ]
  },
  {
   "cell_type": "code",
   "execution_count": 4,
   "metadata": {},
   "outputs": [
    {
     "name": "stdout",
     "output_type": "stream",
     "text": [
      "開口部の室内表面から屋外までの熱貫流率 : 9.508988764044945\n",
      "日射透過率 : 0.738\n",
      "吸収日射取得率 : 0.054\n",
      "室外側熱伝達率 : 25.0\n",
      "室内側熱伝達率 : 9.1\n",
      "室内側対流熱伝達率 : 4.1\n",
      "室内側放射熱伝達率 : 5.0\n",
      "室外側放射率 : 0.9\n"
     ]
    }
   ],
   "source": [
    "print('開口部の室内表面から屋外までの熱貫流率 :', windowsmng.Window('Window_NW').Uso() )\n",
    "print('日射透過率 :', windowsmng.Window('Window_NW').T() )\n",
    "print('吸収日射取得率 :', windowsmng.Window('Window_NW').B() )\n",
    "print('室外側熱伝達率 :', windowsmng.Window('Window_NW').ho() )\n",
    "print('室内側熱伝達率 :', windowsmng.Window('Window_NW').hi() )\n",
    "print('室内側対流熱伝達率 :', windowsmng.Window('Window_NW').hic() )\n",
    "print('室内側放射熱伝達率 :', windowsmng.Window('Window_NW').hir() )\n",
    "print('室外側放射率 :', windowsmng.Window('Window_NW').Eo() )"
   ]
  },
  {
   "cell_type": "markdown",
   "metadata": {},
   "source": [
    "#### 吸収日射熱取得[W/m2]の計算"
   ]
  },
  {
   "cell_type": "code",
   "execution_count": 5,
   "metadata": {},
   "outputs": [
    {
     "data": {
      "text/plain": [
       "26.15179467162021"
      ]
     },
     "execution_count": 5,
     "metadata": {},
     "output_type": "execute_result"
    }
   ],
   "source": [
    "windowsmng.Window('Window_NW').QGA(425.1, 56.9, 15.4, 0.69, 0)"
   ]
  },
  {
   "cell_type": "markdown",
   "metadata": {},
   "source": [
    "#### 透過日射熱取得[W/m2]の計算"
   ]
  },
  {
   "cell_type": "code",
   "execution_count": 6,
   "metadata": {},
   "outputs": [
    {
     "data": {
      "text/plain": [
       "357.40786051214286"
      ]
     },
     "execution_count": 6,
     "metadata": {},
     "output_type": "execute_result"
    }
   ],
   "source": [
    "windowsmng.Window('Window_NW').QGT(425.1, 56.9, 15.4, 0.69, 0)"
   ]
  },
  {
   "cell_type": "code",
   "execution_count": null,
   "metadata": {},
   "outputs": [],
   "source": []
  }
 ],
 "metadata": {
  "kernelspec": {
   "display_name": "Python 3",
   "language": "python",
   "name": "python3"
  },
  "language_info": {
   "codemirror_mode": {
    "name": "ipython",
    "version": 3
   },
   "file_extension": ".py",
   "mimetype": "text/x-python",
   "name": "python",
   "nbconvert_exporter": "python",
   "pygments_lexer": "ipython3",
   "version": "3.6.5"
  }
 },
 "nbformat": 4,
 "nbformat_minor": 2
}
