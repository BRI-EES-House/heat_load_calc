{
 "cells": [
  {
   "cell_type": "code",
   "execution_count": 1,
   "metadata": {},
   "outputs": [
    {
     "name": "stdout",
     "output_type": "stream",
     "text": [
      "Importing Jupyter notebook from SolarPosision.ipynb\n"
     ]
    }
   ],
   "source": [
    "import csv\n",
    "import enum\n",
    "from enum import IntEnum\n",
    "import datetime\n",
    "import nbimporter\n",
    "import SolarPosision\n",
    "from SolarPosision import SolarPosision\n",
    "import matplotlib.pyplot as plt"
   ]
  },
  {
   "cell_type": "code",
   "execution_count": 2,
   "metadata": {},
   "outputs": [],
   "source": [
    "class enmWeatherComponent(IntEnum):\n",
    "    Ta = 2     # 外気温度[℃]\n",
    "    x = 6      # 絶対湿度[g/kg']\n",
    "    Idn = 3    # 法線面直辰日射量[W/m2]\n",
    "    Isky = 4   # 水平面天空日射量[W/m2]\n",
    "    RN = 5     # 夜間放射量[W/m2]\n",
    "    Ihol = 7   # 水平面全天日射量[W/m2]\n",
    "    h = 8      # 太陽高度[rad]\n",
    "    A = 9      # 太陽方位角[rad]"
   ]
  },
  {
   "cell_type": "code",
   "execution_count": 3,
   "metadata": {},
   "outputs": [],
   "source": [
    "# 毎時気象データの所得\n",
    "class Weather:\n",
    "\n",
    "    # 気象データの取得\n",
    "    def __init__(self, Lat, Lon, Ls):\n",
    "        #print('Weather initialize')\n",
    "        \n",
    "        # 太陽位置計算クラスの作成\n",
    "        self.__objSolpos = SolarPosision(Lat, Lon, Ls)\n",
    "        \n",
    "        # 気象データの読み込み　→　dblWdata\n",
    "        with open('気象データ.csv') as f:\n",
    "            reader = csv.reader(f)\n",
    "            header = next(reader)\n",
    "            header = next(reader)\n",
    "            day = 1\n",
    "            time = 1\n",
    "            # データの形がVBAと違うことに注意！\n",
    "            # VBAでは、dbl[5][365][24]の3次元配列。(VBなので1始まりであることに注意。)\n",
    "            # ここでは、列1にday,列2にtime、列3～列7に5データを持つ2次元配列であることに注意。\n",
    "            self.__dblWdata = []\n",
    "            for row in reader:\n",
    "                # データ自身は全部で7項目(温度、法線面直達日射量、水平面全天日射量、夜間放射量、絶対湿度)\n",
    "                # このうち、VBAでは、夜間放射量と絶対湿度は捨てているので、VBAどおり、5データのみデータ化する。\n",
    "                # time は、1始まりであることに注意。\n",
    "                self.__dblWdata.append([day,time,float(row[2]),float(row[3]),float(row[4]),float(row[5]),float(row[6])])\n",
    "                time += 1\n",
    "                if time > 24 :\n",
    "                    time = 1\n",
    "                    day += 1\n",
    "            \n",
    "    # 気象データの取得\n",
    "    # 戻り値はdouble\n",
    "    def WeaData(self, Compnt, dtmDate, blnLinear = True):\n",
    "        # Compnt:取得する気象要素\n",
    "        # dtmDate:取得する日時\n",
    "        # blnLinear:線形補間するかどうか（Trueは線形補間する）\n",
    "        #print('WeaData')\n",
    "        # 通日、時、分、秒の取得\n",
    "        lngAddress = Address(dtmDate)\n",
    "        lngMinu = dtmDate.minute\n",
    "        lngSec = dtmDate.second\n",
    "        \n",
    "        # 線形補間時の案分比\n",
    "        dblR = lngMinu / 60. + lngSec / 3600.\n",
    "        \n",
    "        # 1時間後のアドレスを取得\n",
    "        lngAddress2 = Address(dtmDate + datetime.timedelta(hours = 1) )\n",
    "\n",
    "        # 太陽位置の取得\n",
    "        sp = self.__objSolpos.CalcSolpos(dtmDate)\n",
    "        #print('h=', sp.dblh, 'A=', sp.dblA)\n",
    "        #print(self.__dblWdata)\n",
    "        #aa =  self.__dblWdata[0]\n",
    "        #print(aa)\n",
    "        #水平面全天日射量の場合\n",
    "        if Compnt == enmWeatherComponent.Ihol:\n",
    "            #正時に切り捨てた時の気象データを取得\n",
    "            wdata1 = self.__dblWdata[lngAddress]\n",
    "            dblIdn1 = wdata1[int(enmWeatherComponent.Idn)]\n",
    "            dblIsky1 = wdata1[int(enmWeatherComponent.Isky)]\n",
    "            #1時間後の気象要素を取得\n",
    "            wdata2 = self.__dblWdata[lngAddress2]\n",
    "            dblIdn2 = wdata2[int(enmWeatherComponent.Idn)]\n",
    "            dblIsky2 = wdata2[int(enmWeatherComponent.Isky)]\n",
    "\n",
    "            #直線補間しない場合\n",
    "            if not blnLinear :\n",
    "                return sp.dblSh * dblIdn2 + dblIsky2\n",
    "            #直線補間する場合\n",
    "            else:\n",
    "                dblIdn = (1. - dblR) * dblIdn1 + dblR * dblIdn2\n",
    "                dblIsky = (1. - dblR) * dblIsky1 + dblR * dblIsky2\n",
    "                return typSolpos.dblSh * dblIdn + dblIsky\n",
    "        #太陽高度の場合\n",
    "        elif Compnt == enmWeatherComponent.h :\n",
    "            return sp.dblh\n",
    "        #太陽方位角の場合\n",
    "        elif Compnt == enmWeatherComponent.A :\n",
    "            return sp.dblA\n",
    "        #上記以外の場合\n",
    "        else:\n",
    "            #正時に切り捨てた時の気象データを取得\n",
    "            wdata1 = self.__dblWdata[lngAddress]\n",
    "            dblTemp1 = wdata1[int(Compnt)]\n",
    "            #1時間後の気象要素を取得\n",
    "            wdata2 = self.__dblWdata[lngAddress2]\n",
    "            dblTemp2 = wdata2[int(Compnt)]\n",
    "            \n",
    "            #print(dblR, dblTemp1, dblTemp2)\n",
    "            #直線補完しない場合\n",
    "            if not blnLinear :\n",
    "                return dblTemp2\n",
    "            #直線補間する場合\n",
    "            else:\n",
    "                return (1. - dblR) * dblTemp1 + dblR * dblTemp2\n"
   ]
  },
  {
   "cell_type": "code",
   "execution_count": 4,
   "metadata": {},
   "outputs": [],
   "source": [
    "# Date型日時から取得する通日、時刻アドレスを計算する\n",
    "# 0時を24時に変換するため\n",
    "# 補間は行わない\n",
    "def Address(dtmDate):\n",
    "    # dtmDate は、datetime オブジェクトとする。\n",
    "    lngHour = dtmDate.hour\n",
    "    # 1月1日から数えて何日目にあたるのかを計算する。\n",
    "    lngNday = (datetime.date(dtmDate.year, dtmDate.month, dtmDate.day) - datetime.date(dtmDate.year, 1, 1)).days + 1\n",
    "    if lngHour == 0:\n",
    "        lngNday = lngNday - 1\n",
    "        lngHour = 24    \n",
    "    if lngNday == 0:\n",
    "        lngNday = 365\n",
    "    return (lngNday - 1 ) * 24 + lngHour - 1"
   ]
  },
  {
   "cell_type": "code",
   "execution_count": 5,
   "metadata": {},
   "outputs": [
    {
     "data": {
      "text/plain": [
       "11"
      ]
     },
     "execution_count": 5,
     "metadata": {},
     "output_type": "execute_result"
    }
   ],
   "source": [
    "Address(datetime.datetime.strptime('2017/01/01 12:06:19', '%Y/%m/%d %H:%M:%S'))"
   ]
  },
  {
   "cell_type": "code",
   "execution_count": 6,
   "metadata": {},
   "outputs": [
    {
     "data": {
      "text/plain": [
       "8759"
      ]
     },
     "execution_count": 6,
     "metadata": {},
     "output_type": "execute_result"
    }
   ],
   "source": [
    "Address(datetime.datetime.strptime('2017/01/01 00:06:19', '%Y/%m/%d %H:%M:%S'))"
   ]
  },
  {
   "cell_type": "code",
   "execution_count": 7,
   "metadata": {},
   "outputs": [
    {
     "data": {
      "text/plain": [
       "71"
      ]
     },
     "execution_count": 7,
     "metadata": {},
     "output_type": "execute_result"
    }
   ],
   "source": [
    "Address(datetime.datetime.strptime('2017/01/04 00:06:19', '%Y/%m/%d %H:%M:%S'))"
   ]
  },
  {
   "cell_type": "code",
   "execution_count": 8,
   "metadata": {},
   "outputs": [],
   "source": [
    "wdata = Weather(34.6583333333333, 133.918333333333, 135)"
   ]
  },
  {
   "cell_type": "code",
   "execution_count": 9,
   "metadata": {},
   "outputs": [
    {
     "name": "stdout",
     "output_type": "stream",
     "text": [
      "2.45\n"
     ]
    }
   ],
   "source": [
    "dtmDate = datetime.datetime.strptime('2017/01/01 0:30:00', '%Y/%m/%d %H:%M:%S')\n",
    "#print(dtmDate)\n",
    "print(wdata.WeaData(enmWeatherComponent.Ta, dtmDate, True))"
   ]
  },
  {
   "cell_type": "code",
   "execution_count": 10,
   "metadata": {},
   "outputs": [
    {
     "data": {
      "image/png": "[encoded data removed]",
      "text/plain": [
       "<Figure size 432x288 with 1 Axes>"
      ]
     },
     "metadata": {},
     "output_type": "display_data"
    }
   ],
   "source": [
    "dtmStDate = datetime.datetime(2017, 1, 1)\n",
    "dtmEnDate = datetime.datetime(2017, 1, 2)\n",
    "\n",
    "wdt = []\n",
    "xaxis = []\n",
    "title = '気象データ：', dtmStDate, '-', dtmEnDate\n",
    "# X軸の値を用意\n",
    "for i in range((dtmEnDate - dtmStDate).days):\n",
    "    for t in range(24):\n",
    "        dtmplot = dtmStDate + datetime.timedelta(days = i) + datetime.timedelta(hours = t)\n",
    "        xaxis.append(dtmplot)\n",
    "        #print(dtmplot)\n",
    "        wdt.append(wdata.WeaData(enmWeatherComponent.Ta, dtmplot, True))\n",
    "\n",
    "# 単位貫流応答のグラフ描画\n",
    "plt.plot( xaxis, wdt)\n",
    "plt.title( title )\n",
    "plt.xlabel('Date')\n",
    "plt.ylabel(enmWeatherComponent.Ta)\n",
    "#plt.legend()\n",
    "plt.show()"
   ]
  },
  {
   "cell_type": "code",
   "execution_count": null,
   "metadata": {},
   "outputs": [],
   "source": []
  }
 ],
 "metadata": {
  "kernelspec": {
   "display_name": "Python 3",
   "language": "python",
   "name": "python3"
  },
  "language_info": {
   "codemirror_mode": {
    "name": "ipython",
    "version": 3
   },
   "file_extension": ".py",
   "mimetype": "text/x-python",
   "name": "python",
   "nbconvert_exporter": "python",
   "pygments_lexer": "ipython3",
   "version": "3.6.5"
  }
 },
 "nbformat": 4,
 "nbformat_minor": 2
}
