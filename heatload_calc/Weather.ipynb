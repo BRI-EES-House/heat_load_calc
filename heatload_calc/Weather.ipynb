{
 "cells": [
  {
   "cell_type": "code",
   "execution_count": 1,
   "metadata": {
    "collapsed": false
   },
   "outputs": [],
   "source": [
    "import csv\n",
    "import enum\n",
    "import datetime"
   ]
  },
  {
   "cell_type": "code",
   "execution_count": 2,
   "metadata": {
    "collapsed": false
   },
   "outputs": [],
   "source": [
    "class enmWeatherComponent(enum.IntEnum):\n",
    "    Ta = 1     # 外気温度[℃]\n",
    "    x = 5      # 絶対湿度[g/kg']\n",
    "    Idn = 2    # 法線面直辰日射量[W/m2]\n",
    "    Isky = 3   # 水平面天空日射量[W/m2]\n",
    "    RN = 4     # 夜間放射量[W/m2]\n",
    "    Ihol = 6   # 水平面全天日射量[W/m2]\n",
    "    h = 7      # 太陽高度[rad]\n",
    "    A = 8      # 太陽方位角[rad]"
   ]
  },
  {
   "cell_type": "code",
   "execution_count": 3,
   "metadata": {
    "collapsed": false
   },
   "outputs": [],
   "source": [
    "# 毎時気象データの所得\n",
    "class Weather:\n",
    "\n",
    "    # 気象データの取得\n",
    "    def __init__(self, Lat, Lon, Ls):\n",
    "\n",
    "        # 太陽位置計算クラスの作成\n",
    "        self.__objSolpos = SolarPosision(Lat, Lon, Ls)\n",
    "        \n",
    "        # 気象データの読み込み　→　dblWdata\n",
    "        with open('気象データ.csv') as f:\n",
    "            reader = csv.reader(f)\n",
    "            header = next(reader)\n",
    "            header = next(reader)\n",
    "            day = 1\n",
    "            time = 1\n",
    "            # データの形がVBAと違うことに注意！\n",
    "            # VBAでは、dbl[5][365][24]の3次元配列。(VBなので1始まりであることに注意。)\n",
    "            # ここでは、列1にday,列2にtime、列3～列7に5データを持つ2次元配列であることに注意。\n",
    "            self.__dblWdata = []\n",
    "            for row in reader:\n",
    "                # データ自身は全部で7項目(温度、法線面直達日射量、水平面全天日射量、夜間放射量、絶対湿度)\n",
    "                # このうち、VBAでは、夜間放射量と絶対湿度は捨てているので、VBAどおり、5データのみデータ化する。\n",
    "                # time は、1始まりであることに注意。\n",
    "                self.__dblWdata.append([day,time,float(row[2]),float(row[3]),float(row[4]),float(row[5]),float(row[6])])\n",
    "                time = time + 1\n",
    "                if time > 24 :\n",
    "                    time = 1\n",
    "                    day = day + 1\n",
    "            \n",
    "    # 気象データの取得\n",
    "    # 戻り値はdouble\n",
    "    def WeaData(Compnt, dtmDate, blnLinear = True):\n",
    "        # Compnt:取得する気象要素\n",
    "        # dtmDate:取得する日時\n",
    "        # blnLinear:線形補間するかどうか（Trueは線形補間する）\n",
    "        \n",
    "        # 通日、時、分、秒の取得\n",
    "        lngNday, lngHour = Address(dtmDate)\n",
    "        lngMinu = dtmDate.minute\n",
    "        lngSec = dtmDate.second\n",
    "        \n",
    "        # 線形補間時の案分比\n",
    "        dblR = lngMinu / 60 + lngSec / 3600\n",
    "        \n",
    "        # 1時間後のアドレスを取得\n",
    "        lngNday2, lngHour2 = Address(dtmDate + datetime.timedelta(hour = 1) )\n",
    "\n",
    "        # 太陽位置の取得\n",
    "        \n",
    "    "
   ]
  },
  {
   "cell_type": "code",
   "execution_count": 4,
   "metadata": {
    "collapsed": false
   },
   "outputs": [],
   "source": [
    "# Date型日時から取得する通日、時刻アドレスを計算する\n",
    "# 0時を24時に変換するため\n",
    "# 補間は行わない\n",
    "def Address(dtmDate):\n",
    "    # dtmDate は、datetime オブジェクトとする。\n",
    "    lngHour = dtmDate.hour\n",
    "    # 1月1日から数えて何日目にあたるのかを計算する。\n",
    "    lngNday = (datetime.date(dtmDate.year, dtmDate.month, dtmDate.day) - datetime.date(dtmDate.year, 1, 1)).days + 1\n",
    "    if lngHour == 0:\n",
    "        lngNday = lngNday - 1\n",
    "        lngHour = 24    \n",
    "    if lngNday == 0:\n",
    "        lngNday = 365\n",
    "    return (lngNday, lngHour)"
   ]
  },
  {
   "cell_type": "code",
   "execution_count": 5,
   "metadata": {
    "collapsed": false
   },
   "outputs": [
    {
     "data": {
      "text/plain": [
       "(1, 12)"
      ]
     },
     "execution_count": 5,
     "metadata": {},
     "output_type": "execute_result"
    }
   ],
   "source": [
    "Address(datetime.datetime.strptime('2017/01/01 12:06:19', '%Y/%m/%d %H:%M:%S'))"
   ]
  },
  {
   "cell_type": "code",
   "execution_count": 6,
   "metadata": {
    "collapsed": false
   },
   "outputs": [
    {
     "data": {
      "text/plain": [
       "(365, 24)"
      ]
     },
     "execution_count": 6,
     "metadata": {},
     "output_type": "execute_result"
    }
   ],
   "source": [
    "Address(datetime.datetime.strptime('2017/01/01 00:06:19', '%Y/%m/%d %H:%M:%S'))"
   ]
  },
  {
   "cell_type": "code",
   "execution_count": 7,
   "metadata": {
    "collapsed": false
   },
   "outputs": [
    {
     "data": {
      "text/plain": [
       "(3, 24)"
      ]
     },
     "execution_count": 7,
     "metadata": {},
     "output_type": "execute_result"
    }
   ],
   "source": [
    "Address(datetime.datetime.strptime('2017/01/04 00:06:19', '%Y/%m/%d %H:%M:%S'))"
   ]
  },
  {
   "cell_type": "code",
   "execution_count": null,
   "metadata": {
    "collapsed": true
   },
   "outputs": [],
   "source": []
  }
 ],
 "metadata": {
  "kernelspec": {
   "display_name": "Python 3",
   "language": "python",
   "name": "python3"
  },
  "language_info": {
   "codemirror_mode": {
    "name": "ipython",
    "version": 3
   },
   "file_extension": ".py",
   "mimetype": "text/x-python",
   "name": "python",
   "nbconvert_exporter": "python",
   "pygments_lexer": "ipython3",
   "version": "3.6.2"
  }
 },
 "nbformat": 4,
 "nbformat_minor": 2
}
