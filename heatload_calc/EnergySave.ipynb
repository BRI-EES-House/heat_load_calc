{
 "cells": [
  {
   "cell_type": "markdown",
   "metadata": {},
   "source": [
    "# 省エネ手法の情報を保持するクラス"
   ]
  },
  {
   "cell_type": "markdown",
   "metadata": {},
   "source": [
    "- 省エネ手法に関する入力情報を辞書型で受け取り、省エネ手法の情報を保持するクラスをインスタンス化します。\n",
    "\n",
    "### Constructor parameters\n",
    "```\n",
    "d = {\n",
    "    'EnergySave': {\n",
    "            'IsUseVentilation' : # 通風を利用するかどうか, bool値\n",
    "            'AirChangeRate'    : # 換気回数[回/h]\n",
    "            'IsUseHeatStorage' : # 蓄熱を利用するかどうか, bool値\n",
    "            'IsUseHEXVent'     : # 熱交換換気を利用するかどうか, bool値\n",
    "    }\n",
    "}\n",
    "```\n",
    "### Class Definition"
   ]
  },
  {
   "cell_type": "code",
   "execution_count": 1,
   "metadata": {
    "collapsed": true
   },
   "outputs": [],
   "source": [
    "class EnergySave:\n",
    "    \n",
    "    # 初期化\n",
    "    def __init__(self, d):\n",
    "        # 通風の利用有無\n",
    "        self.__blnCrossVent = d['EnergySave']['IsUseVentilation']\n",
    "        # 通風の換気回数\n",
    "        self.__dblVentRate = d['EnergySave']['AirChangeRate']\n",
    "        # 蓄熱の有無\n",
    "        self.__blnStorage = d['EnergySave']['IsUseHeatStorage']\n",
    "        # 熱交換換気有無\n",
    "        self.__blnHexVent = d['EnergySave']['IsUseHEXVent']\n",
    "        \n",
    "    # 通風の換気回数を取得\n",
    "    def VentRate(self):\n",
    "        return self.__dblVentRate if self.__blnCrossVent == True else 0.0\n",
    "    \n",
    "    # 蓄熱の有無を取得\n",
    "    def Storage(self):\n",
    "        return self.__blnStorage\n",
    "    \n",
    "    # 熱交換換気有無を取得\n",
    "    def HexVent(self):\n",
    "        return self.__blnHexVent"
   ]
  },
  {
   "cell_type": "markdown",
   "metadata": {},
   "source": [
    "### Example"
   ]
  },
  {
   "cell_type": "code",
   "execution_count": 2,
   "metadata": {
    "collapsed": true
   },
   "outputs": [],
   "source": [
    "d = {\n",
    "    'EnergySave': {\n",
    "        'IsUseVentilation' : True,\n",
    "        'AirChangeRate'    : 5.0,\n",
    "        'IsUseHeatStorage' : False,\n",
    "        'IsUseHEXVent'     : True\n",
    "    }\n",
    "}\n",
    "energysave = EnergySave( d )"
   ]
  },
  {
   "cell_type": "markdown",
   "metadata": {},
   "source": [
    "#### 通風の換気回数を取得"
   ]
  },
  {
   "cell_type": "code",
   "execution_count": 3,
   "metadata": {},
   "outputs": [
    {
     "data": {
      "text/plain": [
       "5.0"
      ]
     },
     "execution_count": 3,
     "metadata": {},
     "output_type": "execute_result"
    }
   ],
   "source": [
    "energysave.VentRate()"
   ]
  },
  {
   "cell_type": "markdown",
   "metadata": {},
   "source": [
    "#### 蓄熱の有無を取得"
   ]
  },
  {
   "cell_type": "code",
   "execution_count": 4,
   "metadata": {},
   "outputs": [
    {
     "data": {
      "text/plain": [
       "False"
      ]
     },
     "execution_count": 4,
     "metadata": {},
     "output_type": "execute_result"
    }
   ],
   "source": [
    "energysave.Storage()"
   ]
  },
  {
   "cell_type": "markdown",
   "metadata": {},
   "source": [
    "#### 熱交換換気有無を取得"
   ]
  },
  {
   "cell_type": "code",
   "execution_count": 5,
   "metadata": {},
   "outputs": [
    {
     "data": {
      "text/plain": [
       "True"
      ]
     },
     "execution_count": 5,
     "metadata": {},
     "output_type": "execute_result"
    }
   ],
   "source": [
    "energysave.HexVent()"
   ]
  }
 ],
 "metadata": {
  "kernelspec": {
   "display_name": "Python 3",
   "language": "python",
   "name": "python3"
  },
  "language_info": {
   "codemirror_mode": {
    "name": "ipython",
    "version": 3
   },
   "file_extension": ".py",
   "mimetype": "text/x-python",
   "name": "python",
   "nbconvert_exporter": "python",
   "pygments_lexer": "ipython3",
   "version": "3.6.5"
  }
 },
 "nbformat": 4,
 "nbformat_minor": 2
}
