{
 "cells": [
  {
   "cell_type": "code",
   "execution_count": 1,
   "metadata": {
    "collapsed": true
   },
   "outputs": [],
   "source": [
    "import nbimporter\n",
    "import datetime"
   ]
  },
  {
   "cell_type": "code",
   "execution_count": 2,
   "metadata": {},
   "outputs": [
    {
     "name": "stdout",
     "output_type": "stream",
     "text": [
      "Importing Jupyter notebook from ACSet.ipynb\n",
      "Importing Jupyter notebook from AnnualCal.ipynb\n",
      "Importing Jupyter notebook from mdlLibrary.ipynb\n",
      "Importing Jupyter notebook from Appl.ipynb\n",
      "Importing Jupyter notebook from Light.ipynb\n",
      "Importing Jupyter notebook from LocalVent.ipynb\n",
      "Importing Jupyter notebook from Resi.ipynb\n"
     ]
    }
   ],
   "source": [
    "import ACSet\n",
    "import AnnualCal\n",
    "import Appl\n",
    "import Light\n",
    "import LocalVent\n",
    "import Resi\n",
    "import mdlLibrary"
   ]
  },
  {
   "cell_type": "markdown",
   "metadata": {},
   "source": [
    "# 各種スケジュールデータを統括するクラス"
   ]
  },
  {
   "cell_type": "code",
   "execution_count": 3,
   "metadata": {
    "collapsed": true
   },
   "outputs": [],
   "source": [
    "class Schedule:\n",
    "    \n",
    "    # 各種スケジュールクラスの初期化\n",
    "    def __init__(self):\n",
    "        self.__objACSet = ACSet.ACSet()\n",
    "        self.__objAnnualCal = AnnualCal.AnnualCal()\n",
    "        self.__objAppl = Appl.Appl()\n",
    "        self.__objLight = Light.Light()\n",
    "        self.__objLocalVent = LocalVent.LocalVent()\n",
    "        self.__objResi = Resi.Resi()\n",
    "        \n",
    "    # 空調設定温湿度の取得\n",
    "    def ACSet(self, strRoomName, strRooDiv, strTH, dtmDate):\n",
    "        # strRoomName as string : 室名\n",
    "        # strRooDiv as string : 室分類\n",
    "        # strTH as string : 設定分類（'温度' or '湿度'）\n",
    "        # dtmDate as datetime\n",
    "        \n",
    "        # 時刻の取得\n",
    "        lngTime = dtmDate.hour\n",
    "        # 曜日（'平日' or '休日'）の取得\n",
    "        Nday = mdlLibrary.Nday(dtmDate)\n",
    "        strWeek = self.__objAnnualCal.Week(mdlLibrary.Nday(dtmDate))\n",
    "        # 運転モード（'冷房' or '暖房'）の取得\n",
    "        strMode = self.__objAnnualCal.Season(Nday)\n",
    "        return self.__objACSet.ACSet(strRoomName, strRooDiv, strMode, strWeek, strTH, lngTime)\n",
    "    \n",
    "    # 機器発熱スケジュールの取得\n",
    "    def Appl(self, strRoomName, strRoomDiv, strSHLH, dtmDate):\n",
    "        # strSHLH as string : # 機器発熱分類（'顕熱' or '潜熱'）\n",
    "        # 時刻の取得\n",
    "        lngTime = dtmDate.hour\n",
    "        # 曜日（'平日' or '休日'）の取得\n",
    "        strWeek = self.__objAnnualCal.Week(mdlLibrary.Nday(dtmDate))\n",
    "        return self.__objAppl.Appl(strRoomName, strRoomDiv, strWeek, strSHLH, lngTime)\n",
    "    \n",
    "    # 照明発熱スケジュールの取得\n",
    "    def Light(self, strRoomName, strRoomDiv, dtmDate):\n",
    "        # 時刻の取得\n",
    "        lngTime =  dtmDate.hour\n",
    "        # 曜日（'平日' or '休日'）の取得\n",
    "        strWeek = self.__objAnnualCal.Week(mdlLibrary.Nday(dtmDate))\n",
    "        return self.__objLight.Light(strRoomName, strRoomDiv, strWeek, lngTime)\n",
    "    \n",
    "    # 局所換気スケジュールの取得\n",
    "    def LocalVent(self, strRoomName, strRoomDiv, dtmDate):\n",
    "        # 時刻の取得\n",
    "        lngTime =  dtmDate.hour\n",
    "        # 曜日（'平日' or '休日'）の取得\n",
    "        strWeek = self.__objAnnualCal.Week(mdlLibrary.Nday(dtmDate))\n",
    "        return self.__objLocalVent.Vent(strRoomName, strRoomDiv, strWeek, lngTime)\n",
    "    \n",
    "    # 在室人員スケジュールの取得\n",
    "    def Nresi(self, strRoomName, strRoomDiv, dtmDate):\n",
    "        # 時刻の取得\n",
    "        lngTime =  dtmDate.hour\n",
    "        # 曜日（'平日' or '休日'）の取得\n",
    "        strWeek = self.__objAnnualCal.Week(mdlLibrary.Nday(dtmDate))\n",
    "        return self.__objResi.Nresi(strRoomName, strRoomDiv, strWeek, lngTime)\n",
    "\n",
    "    # datetime型から曜日を取得する\n",
    "    def Week(self, dtmDate):\n",
    "        return self.__objAnnualCal.Week(mdlLibrary.Nday(dtmDate))\n",
    "\n",
    "    # datetime型から季節を取得する\n",
    "    def Season(self, dtmDate):\n",
    "        return self.__objAnnualCal.Season(mdlLibrary.Nday(dtmDate))"
   ]
  },
  {
   "cell_type": "markdown",
   "metadata": {},
   "source": [
    "## Example"
   ]
  },
  {
   "cell_type": "code",
   "execution_count": 4,
   "metadata": {
    "collapsed": true
   },
   "outputs": [],
   "source": [
    "sc = Schedule()"
   ]
  },
  {
   "cell_type": "markdown",
   "metadata": {},
   "source": [
    "### 空調設定温湿度の取得"
   ]
  },
  {
   "cell_type": "code",
   "execution_count": 5,
   "metadata": {},
   "outputs": [
    {
     "data": {
      "text/plain": [
       "27.0"
      ]
     },
     "execution_count": 5,
     "metadata": {},
     "output_type": "execute_result"
    }
   ],
   "source": [
    "sc.ACSet('主たる居室','', '温度', datetime.datetime.strptime('2017/06/01 12:06', '%Y/%m/%d %H:%M'))  "
   ]
  },
  {
   "cell_type": "markdown",
   "metadata": {
    "collapsed": true
   },
   "source": [
    "### 機器発熱スケジュールの取得"
   ]
  },
  {
   "cell_type": "code",
   "execution_count": 6,
   "metadata": {},
   "outputs": [
    {
     "data": {
      "text/plain": [
       "0.0"
      ]
     },
     "execution_count": 6,
     "metadata": {},
     "output_type": "execute_result"
    }
   ],
   "source": [
    "sc.Appl('主たる居室', '', '顕熱', datetime.datetime.strptime('2017/02/04 07:00', '%Y/%m/%d %H:%M'))  "
   ]
  },
  {
   "cell_type": "markdown",
   "metadata": {},
   "source": [
    "### 照明発熱スケジュールの取得"
   ]
  },
  {
   "cell_type": "code",
   "execution_count": 7,
   "metadata": {},
   "outputs": [
    {
     "data": {
      "text/plain": [
       "0.0"
      ]
     },
     "execution_count": 7,
     "metadata": {},
     "output_type": "execute_result"
    }
   ],
   "source": [
    "sc.Light('主たる居室', '', datetime.datetime.strptime('2017/07/20 19:00', '%Y/%m/%d %H:%M')) "
   ]
  },
  {
   "cell_type": "markdown",
   "metadata": {},
   "source": [
    "### 局所換気スケジュールの取得"
   ]
  },
  {
   "cell_type": "code",
   "execution_count": 8,
   "metadata": {},
   "outputs": [
    {
     "data": {
      "text/plain": [
       "0.0"
      ]
     },
     "execution_count": 8,
     "metadata": {},
     "output_type": "execute_result"
    }
   ],
   "source": [
    "sc.LocalVent('主たる居室', '', datetime.datetime.strptime('2017/07/20 19:00', '%Y/%m/%d %H:%M')) "
   ]
  },
  {
   "cell_type": "markdown",
   "metadata": {},
   "source": [
    "### 在室人員スケジュールの取得"
   ]
  },
  {
   "cell_type": "code",
   "execution_count": 9,
   "metadata": {},
   "outputs": [
    {
     "data": {
      "text/plain": [
       "0.0"
      ]
     },
     "execution_count": 9,
     "metadata": {},
     "output_type": "execute_result"
    }
   ],
   "source": [
    "sc.Nresi('主たる居室', '', datetime.datetime.strptime('2017/07/20 19:00', '%Y/%m/%d %H:%M')) "
   ]
  },
  {
   "cell_type": "markdown",
   "metadata": {},
   "source": [
    "### datetime型から曜日（'平日' or '休日'）を取得"
   ]
  },
  {
   "cell_type": "code",
   "execution_count": 10,
   "metadata": {},
   "outputs": [
    {
     "data": {
      "text/plain": [
       "'休日'"
      ]
     },
     "execution_count": 10,
     "metadata": {},
     "output_type": "execute_result"
    }
   ],
   "source": [
    "sc.Week(datetime.datetime.strptime('2017/07/20 19:00', '%Y/%m/%d %H:%M')) "
   ]
  },
  {
   "cell_type": "markdown",
   "metadata": {},
   "source": [
    "### datetime型から季節（'冷房' or '暖房'）を取得"
   ]
  },
  {
   "cell_type": "code",
   "execution_count": 11,
   "metadata": {},
   "outputs": [
    {
     "data": {
      "text/plain": [
       "'冷房'"
      ]
     },
     "execution_count": 11,
     "metadata": {},
     "output_type": "execute_result"
    }
   ],
   "source": [
    "sc.Season(datetime.datetime.strptime('2017/07/20 19:00', '%Y/%m/%d %H:%M')) "
   ]
  },
  {
   "cell_type": "code",
   "execution_count": null,
   "metadata": {
    "collapsed": true
   },
   "outputs": [],
   "source": []
  }
 ],
 "metadata": {
  "kernelspec": {
   "display_name": "Python 3",
   "language": "python",
   "name": "python3"
  },
  "language_info": {
   "codemirror_mode": {
    "name": "ipython",
    "version": 3
   },
   "file_extension": ".py",
   "mimetype": "text/x-python",
   "name": "python",
   "nbconvert_exporter": "python",
   "pygments_lexer": "ipython3",
   "version": "3.6.3"
  }
 },
 "nbformat": 4,
 "nbformat_minor": 2
}
