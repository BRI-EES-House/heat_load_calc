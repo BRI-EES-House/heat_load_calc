{
 "cells": [
  {
   "cell_type": "code",
   "execution_count": 1,
   "metadata": {
    "collapsed": true
   },
   "outputs": [],
   "source": [
    "import nbimporter\n",
    "import datetime"
   ]
  },
  {
   "cell_type": "code",
   "execution_count": 2,
   "metadata": {},
   "outputs": [
    {
     "name": "stdout",
     "output_type": "stream",
     "text": [
      "Importing Jupyter notebook from ACSet.ipynb\n",
      "Importing Jupyter notebook from AnnualCal.ipynb\n",
      "Importing Jupyter notebook from mdlLibrary.ipynb\n",
      "Importing Jupyter notebook from Appl.ipynb\n",
      "Importing Jupyter notebook from Light.ipynb\n",
      "Importing Jupyter notebook from LocalVent.ipynb\n",
      "Importing Jupyter notebook from Resi.ipynb\n"
     ]
    }
   ],
   "source": [
    "import ACSet\n",
    "import AnnualCal\n",
    "import Appl\n",
    "import Light\n",
    "import LocalVent\n",
    "import Resi\n",
    "import mdlLibrary"
   ]
  },
  {
   "cell_type": "markdown",
   "metadata": {},
   "source": [
    "# 各種スケジュールデータを統括するクラス"
   ]
  },
  {
   "cell_type": "code",
   "execution_count": 3,
   "metadata": {},
   "outputs": [],
   "source": [
    "class Schedule:\n",
    "    \n",
    "    # 各種スケジュールクラスの初期化\n",
    "    def __init__(self):\n",
    "        self.__objACSet = ACSet.ACSet()\n",
    "        self.__objAnnualCal = AnnualCal.AnnualCal()\n",
    "        self.__objAppl = Appl.Appl()\n",
    "        self.__objLight = Light.Light()\n",
    "        self.__objLocalVent = LocalVent.LocalVent()\n",
    "        self.__objResi = Resi.Resi()\n",
    "        \n",
    "     # 空調設定温湿度の取得\n",
    "    def ACSet(self, strRoomName, strRooDiv, strTH, dtmDate):\n",
    "        # strRoomName as string : 室名\n",
    "        # strRooDiv as string : 室分類\n",
    "        # strTH as string : 設定分類（'温度' or '湿度'）\n",
    "        # dtmDate as datetime\n",
    "        \n",
    "        # 時刻の取得\n",
    "        lngTime = dtmDate.hour\n",
    "        \n",
    "        # 曜日（'平日' or '休日'）の取得\n",
    "        Nday = mdlLibrary.Nday(dtmDate)\n",
    "        strWeek = self.__objAnnualCal.Week(Nday)\n",
    "        \n",
    "        # 運転モード（'冷房' or '暖房'）の取得\n",
    "        strMode = self.__objAnnualCal.Season(Nday)\n",
    "        \n",
    "        return self.__objACSet.ACSet(strRoomName, strRooDiv, strMode, strWeek, strTH, lngTime)"
   ]
  },
  {
   "cell_type": "markdown",
   "metadata": {},
   "source": [
    "## Example"
   ]
  },
  {
   "cell_type": "code",
   "execution_count": 4,
   "metadata": {},
   "outputs": [],
   "source": [
    "sc = Schedule()"
   ]
  },
  {
   "cell_type": "markdown",
   "metadata": {},
   "source": [
    "### 空調設定温湿度の取得"
   ]
  },
  {
   "cell_type": "code",
   "execution_count": 5,
   "metadata": {},
   "outputs": [
    {
     "data": {
      "text/plain": [
       "27.0"
      ]
     },
     "execution_count": 5,
     "metadata": {},
     "output_type": "execute_result"
    }
   ],
   "source": [
    "sc.ACSet('主たる居室','','温度',datetime.datetime.strptime('2017/06/01 12:06', '%Y/%m/%d %H:%M'))  "
   ]
  },
  {
   "cell_type": "code",
   "execution_count": null,
   "metadata": {
    "collapsed": true
   },
   "outputs": [],
   "source": []
  }
 ],
 "metadata": {
  "kernelspec": {
   "display_name": "Python 3",
   "language": "python",
   "name": "python3"
  },
  "language_info": {
   "codemirror_mode": {
    "name": "ipython",
    "version": 3
   },
   "file_extension": ".py",
   "mimetype": "text/x-python",
   "name": "python",
   "nbconvert_exporter": "python",
   "pygments_lexer": "ipython3",
   "version": "3.6.3"
  }
 },
 "nbformat": 4,
 "nbformat_minor": 2
}
