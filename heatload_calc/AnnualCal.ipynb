{
 "cells": [
  {
   "cell_type": "code",
   "execution_count": 12,
   "metadata": {},
   "outputs": [],
   "source": [
    "import csv\n",
    "import nbimporter\n",
    "import datetime"
   ]
  },
  {
   "cell_type": "code",
   "execution_count": 13,
   "metadata": {},
   "outputs": [],
   "source": [
    "import mdlLibrary"
   ]
  },
  {
   "cell_type": "markdown",
   "metadata": {},
   "source": [
    "# 年間カレンダーを保持するクラス\n",
    "- csvファイルから年間カレンダーを読み込み、辞書型で保持します\n",
    "- 「曜日（'平日' or '休日'）」および「運転モード（'冷房' or '暖房'）」の２つのカレンダーを辞書型として保持しており、通日をkeyとして与えると、該当日の曜日または運転モードの情報を返します"
   ]
  },
  {
   "cell_type": "code",
   "execution_count": 14,
   "metadata": {},
   "outputs": [],
   "source": [
    "# 年間カレンダーデータ\n",
    "class AnnualCal:\n",
    "\n",
    "    # 年間カレンダーデータの取得\n",
    "    def __init__(self):\n",
    "        \n",
    "        # 曜日（'平日' or '休日'）の年間カレンダー\n",
    "        self.__dicWeek={}\n",
    "        # 運転モード（'冷房' or '暖房'）の年間カレンダー\n",
    "        self.__dicSeason={}\n",
    "            \n",
    "        # 年間カレンダーデータの読み込み\n",
    "        with open('calendar.csv', encoding = 'utf-8') as f:\n",
    "            reader = csv.reader(f)\n",
    "            header = next(reader)\n",
    "            for row in reader:\n",
    "                # 通日の計算\n",
    "                lngNday = mdlLibrary.Nday(datetime.datetime.strptime(row[0], '%m月%d日'))\n",
    "                self.__dicWeek[lngNday] = row[1]   #曜日\n",
    "                self.__dicSeason[lngNday] = row[2] #運転モード\n",
    "                \n",
    "    # 曜日の取得\n",
    "    def Week(self,lngNday):\n",
    "        # lngNday:通日\n",
    "        return self.__dicWeek[lngNday]\n",
    "    \n",
    "    # 運転モードの取得\n",
    "    def Season(self, lngNday):\n",
    "        # lngNday:通日\n",
    "        return self.__dicSeason[lngNday]"
   ]
  },
  {
   "cell_type": "markdown",
   "metadata": {},
   "source": [
    "## Example"
   ]
  },
  {
   "cell_type": "code",
   "execution_count": 15,
   "metadata": {},
   "outputs": [],
   "source": [
    "cal = AnnualCal()"
   ]
  },
  {
   "cell_type": "markdown",
   "metadata": {},
   "source": [
    "### 曜日の取得"
   ]
  },
  {
   "cell_type": "code",
   "execution_count": 16,
   "metadata": {},
   "outputs": [
    {
     "data": {
      "text/plain": [
       "'平日'"
      ]
     },
     "execution_count": 16,
     "metadata": {},
     "output_type": "execute_result"
    }
   ],
   "source": [
    "cal.Week(10)"
   ]
  },
  {
   "cell_type": "markdown",
   "metadata": {},
   "source": [
    "### 運転モードの取得"
   ]
  },
  {
   "cell_type": "code",
   "execution_count": 17,
   "metadata": {},
   "outputs": [
    {
     "data": {
      "text/plain": [
       "'暖房'"
      ]
     },
     "execution_count": 17,
     "metadata": {},
     "output_type": "execute_result"
    }
   ],
   "source": [
    "cal.Season(10)"
   ]
  },
  {
   "cell_type": "code",
   "execution_count": null,
   "metadata": {},
   "outputs": [],
   "source": []
  }
 ],
 "metadata": {
  "kernelspec": {
   "display_name": "Python 3",
   "language": "python",
   "name": "python3"
  },
  "language_info": {
   "codemirror_mode": {
    "name": "ipython",
    "version": 3
   },
   "file_extension": ".py",
   "mimetype": "text/x-python",
   "name": "python",
   "nbconvert_exporter": "python",
   "pygments_lexer": "ipython3",
   "version": "3.6.5"
  }
 },
 "nbformat": 4,
 "nbformat_minor": 2
}
