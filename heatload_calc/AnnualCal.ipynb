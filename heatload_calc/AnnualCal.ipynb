{
 "cells": [
  {
   "cell_type": "code",
   "execution_count": 1,
   "metadata": {
    "collapsed": true
   },
   "outputs": [],
   "source": [
    "import csv\n",
    "import nbimporter\n",
    "import datetime"
   ]
  },
  {
   "cell_type": "code",
   "execution_count": 2,
   "metadata": {},
   "outputs": [
    {
     "name": "stdout",
     "output_type": "stream",
     "text": [
      "Importing Jupyter notebook from mdlLibrary.ipynb\n"
     ]
    }
   ],
   "source": [
    "import mdlLibrary"
   ]
  },
  {
   "cell_type": "markdown",
   "metadata": {},
   "source": [
    "# 年間カレンダーを保持するクラス\n",
    "- csvファイルから年間カレンダーを読み込み、辞書型で保持します\n",
    "- 「曜日（'平日' or '休日'）」および「運転モード（'冷房' or '暖房'）」の２つのカレンダーを辞書型として保持しており、通日をkeyとして与えると、該当日の曜日または運転モードの情報を返します"
   ]
  },
  {
   "cell_type": "code",
   "execution_count": 3,
   "metadata": {
    "collapsed": true
   },
   "outputs": [],
   "source": [
    "# 年間カレンダーデータ\n",
    "class AnnuallCal:\n",
    "\n",
    "    # 年間カレンダーデータの取得\n",
    "    def __init__(self):\n",
    "        \n",
    "        # 曜日（'平日' or '休日'）の年間カレンダー\n",
    "        self.__dicWeek={}\n",
    "        # 運転モード（'冷房' or '暖房'）の年間カレンダー\n",
    "        self.__dicSeason={}\n",
    "            \n",
    "        # 年間カレンダーデータの読み込み\n",
    "        with open('カレンダー.csv') as f:\n",
    "            reader = csv.reader(f)\n",
    "            header = next(reader)\n",
    "            for row in reader:\n",
    "                # 通日の計算\n",
    "                lngNday = mdlLibrary.Nday(datetime.datetime.strptime(row[0], '%m月%d日'))\n",
    "                self.__dicWeek[lngNday] = row[1]   #曜日\n",
    "                self.__dicSeason[lngNday] = row[2] #運転モード\n",
    "                \n",
    "    # 曜日の取得\n",
    "    def Week(self,lngNday):\n",
    "        # lngNday:通日\n",
    "        return self.__dicWeek[lngNday]\n",
    "    \n",
    "    # 運転モードの取得\n",
    "    def Season(self, lngNday):\n",
    "        # lngNday:通日\n",
    "        return self.__dicSeason[lngNday]"
   ]
  },
  {
   "cell_type": "markdown",
   "metadata": {},
   "source": [
    "## Example"
   ]
  },
  {
   "cell_type": "code",
   "execution_count": 4,
   "metadata": {
    "collapsed": true
   },
   "outputs": [],
   "source": [
    "cal = AnnuallCal()"
   ]
  },
  {
   "cell_type": "markdown",
   "metadata": {},
   "source": [
    "### 曜日の取得"
   ]
  },
  {
   "cell_type": "code",
   "execution_count": 5,
   "metadata": {},
   "outputs": [
    {
     "data": {
      "text/plain": [
       "'平日'"
      ]
     },
     "execution_count": 5,
     "metadata": {},
     "output_type": "execute_result"
    }
   ],
   "source": [
    "cal.Week(10)"
   ]
  },
  {
   "cell_type": "markdown",
   "metadata": {},
   "source": [
    "### 運転モードの取得"
   ]
  },
  {
   "cell_type": "code",
   "execution_count": 6,
   "metadata": {},
   "outputs": [
    {
     "data": {
      "text/plain": [
       "'暖房'"
      ]
     },
     "execution_count": 6,
     "metadata": {},
     "output_type": "execute_result"
    }
   ],
   "source": [
    "cal.Season(10)"
   ]
  },
  {
   "cell_type": "code",
   "execution_count": null,
   "metadata": {
    "collapsed": true
   },
   "outputs": [],
   "source": []
  }
 ],
 "metadata": {
  "kernelspec": {
   "display_name": "Python 3",
   "language": "python",
   "name": "python3"
  },
  "language_info": {
   "codemirror_mode": {
    "name": "ipython",
    "version": 3
   },
   "file_extension": ".py",
   "mimetype": "text/x-python",
   "name": "python",
   "nbconvert_exporter": "python",
   "pygments_lexer": "ipython3",
   "version": "3.6.3"
  }
 },
 "nbformat": 4,
 "nbformat_minor": 2
}
