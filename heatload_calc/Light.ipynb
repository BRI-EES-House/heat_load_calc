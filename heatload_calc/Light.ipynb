{
 "cells": [
  {
   "cell_type": "code",
   "execution_count": 1,
   "metadata": {
    "collapsed": true
   },
   "outputs": [],
   "source": [
    "import csv"
   ]
  },
  {
   "cell_type": "markdown",
   "metadata": {},
   "source": [
    "# 照明発熱スケジュールを保持するクラス\n",
    "- csvファイルから毎時の照明発熱スケジュールを読み込み、辞書型として保持します。\n",
    "- メソッド'Light'は、「室名」、「室分類」、「曜日（'平日' or '休日'）」および「時刻」を与えると、指定した時刻の照明発熱量を返します。\n",
    "- 照明発熱量の単位は[W], ただし蛍光灯の安定器損失20%を含んだ値です。"
   ]
  },
  {
   "cell_type": "code",
   "execution_count": 2,
   "metadata": {
    "collapsed": true
   },
   "outputs": [],
   "source": [
    "# 照明発熱スケジュールデータ\n",
    "class Light:\n",
    "\n",
    "    # 照明発熱スケジュールデータの取得\n",
    "    def __init__(self):\n",
    "        \n",
    "        # 照明発熱スケジュールの読み込み\n",
    "        with open('照明発熱スケジュール.csv') as f:\n",
    "            reader = csv.reader(f)\n",
    "            header = next(reader)\n",
    "            \n",
    "            # 照明発熱\n",
    "            self.__dicLight={}\n",
    "            \n",
    "            for row in reader:\n",
    "                strRoomName = row[0] # 室名\n",
    "                strRoomDiv = row[1]  # 室分類\n",
    "                strWeek =row[2]      # 曜日（'平日' or '休日'）\n",
    "                \n",
    "                # 毎時スケジュールのリストを設定\n",
    "                dblHourly=[]         \n",
    "                for hour in range(24):\n",
    "                    dblHourly.append(float(row[hour + 3]))\n",
    "                \n",
    "                # 照明発熱をセット\n",
    "                # 単位は[W], 蛍光灯の安定器損失20%を含む\n",
    "                key = strRoomName + ',' + strRoomDiv + ',' + strWeek \n",
    "                self.__dicLight[key] = dblHourly\n",
    "                \n",
    "\n",
    "    # 照明発熱\n",
    "    def dicLight(self):\n",
    "        return self.__dicLight\n",
    "        \n",
    "    # 指定した時刻の照明発熱量の取得\n",
    "    def Light(self, strRoomName, strRoomDiv, strWeek, lngTime):\n",
    "        key = strRoomName + ',' + strRoomDiv + ',' + strWeek\n",
    "        vntHourly=self.__dicLight[key] \n",
    "        return vntHourly[lngTime]"
   ]
  },
  {
   "cell_type": "markdown",
   "metadata": {},
   "source": [
    "## Example"
   ]
  },
  {
   "cell_type": "code",
   "execution_count": 3,
   "metadata": {
    "collapsed": true
   },
   "outputs": [],
   "source": [
    "li=Light()"
   ]
  },
  {
   "cell_type": "markdown",
   "metadata": {},
   "source": [
    "### keyの取得"
   ]
  },
  {
   "cell_type": "code",
   "execution_count": 4,
   "metadata": {},
   "outputs": [
    {
     "data": {
      "text/plain": [
       "dict_keys(['非居室,,平日', '非居室,,休日', '主たる居室,,平日', '主たる居室,,休日', 'その他居室,子供室1,平日', 'その他居室,子供室1,休日', 'その他居室,子供室2,平日', 'その他居室,子供室2,休日', 'その他居室,寝室,平日', 'その他居室,寝室,休日'])"
      ]
     },
     "execution_count": 4,
     "metadata": {},
     "output_type": "execute_result"
    }
   ],
   "source": [
    "li.dicLight().keys()"
   ]
  },
  {
   "cell_type": "markdown",
   "metadata": {},
   "source": [
    "### Itemの取得"
   ]
  },
  {
   "cell_type": "code",
   "execution_count": 5,
   "metadata": {},
   "outputs": [
    {
     "data": {
      "text/plain": [
       "[0.0,\n",
       " 0.0,\n",
       " 0.0,\n",
       " 0.0,\n",
       " 0.0,\n",
       " 0.0,\n",
       " 0.0,\n",
       " 0.0,\n",
       " 0.0,\n",
       " 0.0,\n",
       " 0.0,\n",
       " 0.0,\n",
       " 0.0,\n",
       " 0.0,\n",
       " 0.0,\n",
       " 0.0,\n",
       " 0.0,\n",
       " 0.0,\n",
       " 0.0,\n",
       " 0.0,\n",
       " 0.0,\n",
       " 0.0,\n",
       " 0.0,\n",
       " 0.0]"
      ]
     },
     "execution_count": 5,
     "metadata": {},
     "output_type": "execute_result"
    }
   ],
   "source": [
    "li.dicLight()['非居室,,平日']"
   ]
  },
  {
   "cell_type": "markdown",
   "metadata": {},
   "source": [
    "### 指定した時刻の照明発熱量を取得"
   ]
  },
  {
   "cell_type": "code",
   "execution_count": 6,
   "metadata": {},
   "outputs": [
    {
     "data": {
      "text/plain": [
       "0.0"
      ]
     },
     "execution_count": 6,
     "metadata": {},
     "output_type": "execute_result"
    }
   ],
   "source": [
    "li.Light('非居室','','平日',23)"
   ]
  },
  {
   "cell_type": "code",
   "execution_count": null,
   "metadata": {
    "collapsed": true
   },
   "outputs": [],
   "source": []
  }
 ],
 "metadata": {
  "kernelspec": {
   "display_name": "Python 3",
   "language": "python",
   "name": "python3"
  },
  "language_info": {
   "codemirror_mode": {
    "name": "ipython",
    "version": 3
   },
   "file_extension": ".py",
   "mimetype": "text/x-python",
   "name": "python",
   "nbconvert_exporter": "python",
   "pygments_lexer": "ipython3",
   "version": "3.6.5"
  }
 },
 "nbformat": 4,
 "nbformat_minor": 2
}
