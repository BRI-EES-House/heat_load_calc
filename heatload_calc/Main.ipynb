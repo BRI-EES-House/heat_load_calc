{
 "cells": [
  {
   "cell_type": "code",
   "execution_count": 1,
   "metadata": {},
   "outputs": [
    {
     "name": "stdout",
     "output_type": "stream",
     "text": [
      "Importing Jupyter notebook from Gdata.ipynb\n",
      "Importing Jupyter notebook from Weather.ipynb\n",
      "Importing Jupyter notebook from SolarPosision.ipynb\n",
      "Importing Jupyter notebook from WindowMng.ipynb\n",
      "Importing Jupyter notebook from WallMng.ipynb\n",
      "Importing Jupyter notebook from Wall.ipynb\n",
      "Importing Jupyter notebook from Schedule.ipynb\n",
      "Importing Jupyter notebook from ACSet.ipynb\n",
      "Importing Jupyter notebook from AnnualCal.ipynb\n",
      "Importing Jupyter notebook from mdlLibrary.ipynb\n",
      "Importing Jupyter notebook from Appl.ipynb\n",
      "Importing Jupyter notebook from Light.ipynb\n",
      "Importing Jupyter notebook from LocalVent.ipynb\n",
      "Importing Jupyter notebook from Resi.ipynb\n"
     ]
    }
   ],
   "source": [
    "import nbimporter\n",
    "import datetime\n",
    "import csv\n",
    "import Gdata\n",
    "from Gdata import Gdata\n",
    "import Weather\n",
    "from Weather import Weather, enmWeatherComponent\n",
    "import WindowMng\n",
    "from WindowMng import WindowMng, Window\n",
    "import WallMng\n",
    "from WallMng import WallMng\n",
    "from Wall import Layer, Wall\n",
    "import Schedule\n",
    "from Schedule import Schedule"
   ]
  },
  {
   "cell_type": "markdown",
   "metadata": {},
   "source": [
    "# 室温・熱負荷計算のメイン関数"
   ]
  },
  {
   "cell_type": "code",
   "execution_count": 2,
   "metadata": {},
   "outputs": [],
   "source": [
    "class heat_load_main():\n",
    "    #シミュレーション全体の設定条件の読み込み\n",
    "    def Gdata_init(self):\n",
    "        self.__objGdata = Gdata(3600,20,1,1,12,31,50,True,\"面積比\",0.5,False)\n",
    "        return self.__objGdata\n",
    "    \n",
    "    def Weather_init(self):\n",
    "        #print('Weather_init')\n",
    "        self.__Weather = Weather(34.6583333333333, 133.918333333333, 135)\n",
    "        return self.__Weather\n",
    "    \n",
    "    #スケジュールの初期化\n",
    "    def Schedule_init(self):\n",
    "        self.__sch = Schedule()\n",
    "        return self.__sch\n",
    "        #print(self.__sch.ACSet('主たる居室','', '温度', datetime.datetime.strptime('2017/06/01 12:06', '%Y/%m/%d %H:%M')))  \n",
    "    \n",
    "    #開口部の登録\n",
    "    def window_mng(self):\n",
    "        with open('開口部.csv') as f:\n",
    "            reader = csv.reader(f)\n",
    "            header = next(reader)\n",
    "            \n",
    "            windowlist = []\n",
    "            for row in reader:\n",
    "                windowname = row[0]                    #開口部名称\n",
    "                shgc = float(row[1])                   #日射熱取得率\n",
    "                tau = float(row[2])                    #日射透過率\n",
    "                B = float(row[3])                      #吸収日射取得率\n",
    "                Uw = float(row[4])                     #開口部熱貫流率\n",
    "                hic = float(row[5])                     #室内側対流熱伝達率\n",
    "                hir = float(row[6])                     #室内側放射熱伝達率\n",
    "                ho = float(row[7])                     #室外側総合熱伝達率\n",
    "                Eo = float(row[8])                     #室外側放射率\n",
    "                \n",
    "                windowspec = {\n",
    "                    'Name': windowname, \n",
    "                    'Eta': shgc, \n",
    "                    'SolarTrans': tau,\n",
    "                    'SolarAbsorp': B,\n",
    "                    'Uw': Uw,\n",
    "                    'OutHeatTrans'   : ho,\n",
    "                    'OutEmissiv'     : Eo,\n",
    "                    'InConHeatTrans' : hic,\n",
    "                    'InRadHeatTrans' : hir\n",
    "                }\n",
    "                \n",
    "                windowlist.append(windowspec)\n",
    "            \n",
    "            #開口部クラスへの登録\n",
    "            d = { 'Windows': windowlist }\n",
    "            #print(d)\n",
    "            self.__windwo_mng = WindowMng(d)\n",
    "            \n",
    "            return self.__windwo_mng\n",
    "    \n",
    "    #壁体構成の登録\n",
    "    def wall_mng(self):\n",
    "        #self.__wall_mng = WallMng()\n",
    "        \n",
    "        surf_heat_trans = []\n",
    "        #表面熱伝達率の読み込み\n",
    "        with open('表面熱伝達率.csv') as f:\n",
    "            reader = csv.reader(f)\n",
    "            header = next(reader)\n",
    "            for row in reader:\n",
    "                partname = row[0]                     #部位名称\n",
    "                hi = float(row[1])                           #室内側総合熱伝達率\n",
    "                hir = 5.0                             #室内側放射熱伝達率\n",
    "                hic = hi - hir                        #室内側対流熱伝達率\n",
    "                ho = float(row[2])                           #室外側総合熱伝達率\n",
    "                dct = {'partname':partname, 'hi':hi, 'hir':hir, 'hic':hic, 'ho':ho}\n",
    "                surf_heat_trans.append(dct)\n",
    "            \n",
    "        #壁体構成の読み込み\n",
    "        with open('壁体構成.csv') as f:\n",
    "            reader = csv.reader(f)\n",
    "            header = next(reader)\n",
    "            \n",
    "            Walls = []\n",
    "            layers = []                               #層構成収録リスト\n",
    "            prev_partname = ''\n",
    "            for row in reader:\n",
    "                partname = row[0]                     #部位名称\n",
    "                #print(partname)\n",
    "                #部位名称が変更されていたら新しい部位とみなす\n",
    "                if partname != prev_partname and len(layers) > 0:\n",
    "                    #表面熱伝達率の取得\n",
    "                    for surfstrudct in surf_heat_trans:\n",
    "                        if surfstrudct['partname'] == partname:\n",
    "                            wallstruct = {'Name':prev_partname, \\\n",
    "                                          'OutEmissiv':0.90, \\\n",
    "                                          'OutSolarAbs':0.80, \\\n",
    "                                          'InConHeatTrans':surfstrudct['hic'], \\\n",
    "                                          'InRadHeatTrans':surfstrudct['hir'], \\\n",
    "                                          'Layers':layers}\n",
    "                            Walls.append(wallstruct)\n",
    "                            wallstruct.clear\n",
    "                            layers.clear\n",
    "                \n",
    "                name = row[1]                         #部材名称\n",
    "                Lam = float(row[2])                          #熱伝導率\n",
    "                if len(row[3]) > 0:\n",
    "                    Spcheat = float(row[3])                      #容積比熱\n",
    "                else:\n",
    "                    Spcheat = 0.0\n",
    "\n",
    "                if len(row[4]) > 0:\n",
    "                    Dim = float(row[4]) / 1000.                  #厚さ\n",
    "                else:\n",
    "                    Dim = 0.0\n",
    "                #層構成の追加\n",
    "                layers.append({'Name': name, 'Cond': Lam, 'Thick': Dim, 'SpecH': Spcheat})\n",
    "                prev_partname = partname\n",
    "\n",
    "            #バッファに残った壁体構成を追加\n",
    "            wallstruct = {'Name':prev_partname, \\\n",
    "                          'OutEmissiv':0.90, \\\n",
    "                          'OutSolarAbs':0.80, \\\n",
    "                          'InConHeatTrans':surfstrudct['hic'], \\\n",
    "                          'InRadHeatTrans':surfstrudct['hir'], \\\n",
    "                          'Layers':layers}\n",
    "            Walls.append(wallstruct)\n",
    "            #print(Walls)\n",
    "            \n",
    "            #壁体群の登録\n",
    "            d = {\n",
    "                'Common': {\n",
    "                    'Region': 6,\n",
    "                    'TimeInterval': 3600.,\n",
    "                    'ResponseFactorCalculationHours': 50.\n",
    "                },\n",
    "                'Walls': Walls\n",
    "            }\n",
    "            #print('Dictionary 作成完了')\n",
    "            #print(type(d))\n",
    "            self.__wall_mng = WallMng(d)\n",
    "            \n",
    "            return self.__wall_mng\n",
    "        "
   ]
  },
  {
   "cell_type": "code",
   "execution_count": 3,
   "metadata": {},
   "outputs": [],
   "source": [
    "main = heat_load_main()\n",
    "sch = main.Schedule_init()"
   ]
  },
  {
   "cell_type": "code",
   "execution_count": 4,
   "metadata": {},
   "outputs": [],
   "source": [
    "wall_mng = main.wall_mng()\n",
    "#print(wall_mng.RFT('外壁'))\n",
    "#print(wall_mng.RFA('外壁'))\n",
    "#print(wall_mng.Row('外壁'))"
   ]
  },
  {
   "cell_type": "code",
   "execution_count": 5,
   "metadata": {},
   "outputs": [
    {
     "name": "stdout",
     "output_type": "stream",
     "text": [
      "開口部の室内表面から屋外までの熱貫流率 : 3.1319054652880354\n",
      "日射透過率 : 0.6\n",
      "吸収日射取得率 : 0.05\n",
      "室外側熱伝達率 : 25.0\n",
      "室内側熱伝達率 : 9.1\n",
      "室内側対流熱伝達率 : 4.1\n",
      "室内側放射熱伝達率 : 5.0\n",
      "室外側放射率 : 0.9\n"
     ]
    }
   ],
   "source": [
    "window_mng = main.window_mng()\n",
    "#print(type(window_mng))\n",
    "window_type = window_mng.Window('窓')\n",
    "strWindowName = '窓2'\n",
    "print('開口部の室内表面から屋外までの熱貫流率 :', window_mng.Window(strWindowName).Uso() )\n",
    "print('日射透過率 :', window_mng.Window(strWindowName).T() )\n",
    "print('吸収日射取得率 :', window_mng.Window(strWindowName).B() )\n",
    "print('室外側熱伝達率 :', window_mng.Window(strWindowName).ho() )\n",
    "print('室内側熱伝達率 :', window_mng.Window(strWindowName).hi() )\n",
    "print('室内側対流熱伝達率 :', window_mng.Window(strWindowName).hic() )\n",
    "print('室内側放射熱伝達率 :', window_mng.Window(strWindowName).hir() )\n",
    "print('室外側放射率 :', window_mng.Window(strWindowName).Eo() )"
   ]
  },
  {
   "cell_type": "code",
   "execution_count": 6,
   "metadata": {},
   "outputs": [
    {
     "name": "stdout",
     "output_type": "stream",
     "text": [
      "1988-12-12\n",
      "True\n",
      "3600\n",
      "1989-12-31\n",
      "面積比\n",
      "True\n",
      "False\n"
     ]
    }
   ],
   "source": [
    "objGdata = main.Gdata_init()\n",
    "print(objGdata.ApDate())\n",
    "print(objGdata.DetailOut())\n",
    "print(objGdata.DTime())\n",
    "print(objGdata.EnDate())\n",
    "print(objGdata.FFcalcMethod())\n",
    "print(objGdata.FlgOrig(datetime.date(1990,1,1)))\n",
    "print(objGdata.FlgOrig(datetime.date(1889,12,31)))"
   ]
  },
  {
   "cell_type": "code",
   "execution_count": 7,
   "metadata": {},
   "outputs": [
    {
     "name": "stdout",
     "output_type": "stream",
     "text": [
      "0.5 5.9 5.4\n",
      "5.65\n"
     ]
    }
   ],
   "source": [
    "weatherdata = main.Weather_init()\n",
    "wdt = weatherdata.WeaData(enmWeatherComponent.Ta,datetime.datetime(2017,1,2,0,30,0),True)\n",
    "print(wdt)"
   ]
  },
  {
   "cell_type": "code",
   "execution_count": null,
   "metadata": {},
   "outputs": [],
   "source": []
  }
 ],
 "metadata": {
  "kernelspec": {
   "display_name": "Python 3",
   "language": "python",
   "name": "python3"
  },
  "language_info": {
   "codemirror_mode": {
    "name": "ipython",
    "version": 3
   },
   "file_extension": ".py",
   "mimetype": "text/x-python",
   "name": "python",
   "nbconvert_exporter": "python",
   "pygments_lexer": "ipython3",
   "version": "3.6.5"
  }
 },
 "nbformat": 4,
 "nbformat_minor": 2
}
