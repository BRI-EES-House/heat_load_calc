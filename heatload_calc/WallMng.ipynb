{
 "cells": [
  {
   "cell_type": "code",
   "execution_count": 1,
   "metadata": {},
   "outputs": [],
   "source": [
    "import nbimporter"
   ]
  },
  {
   "cell_type": "code",
   "execution_count": 2,
   "metadata": {},
   "outputs": [
    {
     "name": "stdout",
     "output_type": "stream",
     "text": [
      "Importing Jupyter notebook from Wall.ipynb\n"
     ]
    }
   ],
   "source": [
    "import Wall\n",
    "from Wall import Layer, Wall, ResponseFactor"
   ]
  },
  {
   "cell_type": "markdown",
   "metadata": {},
   "source": [
    "# 複数の壁体情報を保持するクラス\n",
    "- 壁体に関する入力情報を辞書型で受け取り、壁体関連情報を保持するクラスをインスタンス化します。\n",
    "- 複数の壁体情報を配列で保持します。\n",
    "\n",
    "### Constructor parameters\n",
    "```\n",
    "d = {\n",
    "    'Common': {\n",
    "        'Region'               : # 地域の区分 1 ~ 8 の整数\n",
    "        'TimeInterval'         : # 計算時間間隔[s]\n",
    "        'ResponseFactorCalculationHours': 応答係数を作成する時間数[h]\n",
    "    },\n",
    "    'Walls': [\n",
    "        {\n",
    "            'Name'             : # 壁体名称\n",
    "            'Layers' : [\n",
    "                {\n",
    "                    'Name'     : # 部材名称　string値\n",
    "                    'Thick'    : # 厚さ[m]\n",
    "                    'Cond'     : # 熱伝導率[W/(m・K)]\n",
    "                    'SpecH'    : # 容積比熱[kJ/(m3・K)]\n",
    "                }\n",
    "            ] # 層構成の情報\n",
    "            #室外側総合熱伝達率は壁体構成設定時に読み込むように仕様変更2018/8/24\n",
    "            ######'OutHeatTrans'     : # 室外側熱伝達率[W/(m2・K)]\n",
    "            'OutEmissiv'       : # 室外側放射率[-]\n",
    "            'OutSolarAbs'      : # 室外側日射吸収率[-]\n",
    "            'InConHeatTrans'   : # 室内対流熱伝達率[W/(m2･K)\n",
    "            'InRadHeatTrans'   : # 内放射熱伝達率[W/(m2･K)]\n",
    "        }\n",
    "    ]\n",
    "}\n",
    "```\n",
    "### Class Definition"
   ]
  },
  {
   "cell_type": "code",
   "execution_count": 3,
   "metadata": {},
   "outputs": [],
   "source": [
    "class WallMng:\n",
    "    \n",
    "    # 初期化\n",
    "    def __init__( self, d ):\n",
    "        #print('WallMng')\n",
    "        #print(d)\n",
    "        # 登録壁体インスタンスを設定\n",
    "        self.__objWall = []\n",
    "        self.WalldataRead( d )\n",
    "        \n",
    "        # 壁体登録数\n",
    "        self.__lngNWall = len( self.__objWall ) - 1\n",
    "        \n",
    "        # 壁体名称→登録番号変換\n",
    "        self.__dicWallname = {}\n",
    "        for lngI, x in enumerate(self.__objWall):\n",
    "            self.__dicWallname[x.Wall().Name()] = lngI\n",
    "\n",
    "    # 壁体構成データの読み込みと応答係数の作成\n",
    "    def WalldataRead( self, d ):\n",
    "        \n",
    "        # 時間間隔(s)\n",
    "        dblDTime = d['Common']['TimeInterval']\n",
    "\n",
    "        # 応答係数を作成する時間数(h)\n",
    "        dblNcalTime = d['Common']['ResponseFactorCalculationHours']\n",
    "        \n",
    "        #print('Dtime=', dblDTime)\n",
    "        # 登録壁体インスタンスの配列を作成\n",
    "        for d_wall in d['Walls']:\n",
    "            #print('Walls Name=', d_wall['Name'])\n",
    "            # 壁体構成部材の情報を保持するクラスをインスタンス化\n",
    "            layers = []\n",
    "            for d_layers in d_wall['Layers']:\n",
    "                #print('Layer Name=', d_layers['Name'])\n",
    "                layer = Layer( d_layers['Name'], d_layers['Cond'], d_layers['SpecH'], d_layers['Thick'] )\n",
    "                layers.append(layer)\n",
    "            \n",
    "            # 壁体情報を保持するクラスをインスタンス化\n",
    "            wall = Wall( d_wall['Name'], d_wall['OutEmissiv'], d_wall['OutSolarAbs'], d_wall['InConHeatTrans'], d_wall['InRadHeatTrans'], layers )\n",
    "            \n",
    "            # 応答係数を保持するクラスをインスタンス化し、配列に格納\n",
    "            rf = ResponseFactor( 'wall' , dblDTime, dblNcalTime, wall )\n",
    "            self.__objWall.append(rf)\n",
    "    \n",
    "    \n",
    "    # 壁体名称から二等辺三角波励振の貫流応答係数を返す\n",
    "    def RFT(self, strWallname):\n",
    "        return self.__objWall[self.__dicWallname[strWallname]].RFT()\n",
    "    \n",
    "    # 壁体名称から二等辺三角波励振の吸熱応答係数を返す\n",
    "    def RFA(self, strWallname):\n",
    "        return self.__objWall[self.__dicWallname[strWallname]].RFA()\n",
    "    \n",
    "    # 壁体名称から公比を返す\n",
    "    def Row(self, strWallname):\n",
    "        return self.__objWall[self.__dicWallname[strWallname]].Row()\n",
    "    \n",
    "    # 壁体名称から指数項別貫流応答係数を返す\n",
    "    def RFT1(self, strWallname):\n",
    "        return self.__objWall[self.__dicWallname[strWallname]].RFT1()\n",
    "    \n",
    "    # 壁体名称から指数項別吸熱応答係数を返す\n",
    "    def RFA1(self, strWallname):\n",
    "        return self.__objWall[self.__dicWallname[strWallname]].RFA1()\n",
    "\n",
    "    # 壁体名称から貫流応答係数の初項を返す\n",
    "    def RFT0(self, strWallname):\n",
    "        return self.__objWall[self.__dicWallname[strWallname]].RFT0()\n",
    "    \n",
    "    # 壁体名称から吸熱応答係数の初項を返す\n",
    "    def RFA0(self, strWallname):\n",
    "        return self.__objWall[self.__dicWallname[strWallname]].RFA0()\n",
    "\n",
    "    # 壁体名称から根の数を返す\n",
    "    def Nroot(self, strWallname):\n",
    "        return len(self.__objWall[self.__dicWallname[strWallname]].Alp())\n",
    "\n",
    "    # 室内側熱伝達率\n",
    "    def hi(self, strWallname):\n",
    "        return self.__objWall[self.__dicWallname[strWallname]].Wall().hi()\n",
    "\n",
    "    # 室内側対流熱伝達率\n",
    "    def hic(self, strWallname):\n",
    "        return self.__objWall[self.__dicWallname[strWallname]].Wall().hic()\n",
    "\n",
    "    # 室内側放射熱伝達率\n",
    "    def hir(self, strWallname):\n",
    "        return self.__objWall[self.__dicWallname[strWallname]].Wall().hir()\n",
    "    \n",
    "    # 室外側熱伝達率\n",
    "    def ho(self, strWallname):\n",
    "        return self.__objWall[self.__dicWallname[strWallname]].Wall().ho()\n",
    "    \n",
    "    # 室外側放射率\n",
    "    def Eo(self, strWallname):\n",
    "        return self.__objWall[self.__dicWallname[strWallname]].Wall().Eo()\n",
    "    \n",
    "    # 室外側日射吸収率\n",
    "    def Solas(self, strWallname):\n",
    "        return self.__objWall[self.__dicWallname[strWallname]].Wall().Solas()"
   ]
  },
  {
   "cell_type": "markdown",
   "metadata": {},
   "source": [
    "## Example"
   ]
  },
  {
   "cell_type": "code",
   "execution_count": 4,
   "metadata": {},
   "outputs": [],
   "source": [
    "d = {\n",
    "    'Common': {\n",
    "        'Region': 6,\n",
    "        'TimeInterval': 3600,\n",
    "        'ResponseFactorCalculationHours': 50\n",
    "    },\n",
    "    'Walls': [\n",
    "        {\n",
    "            'Name': 'Ceiling',\n",
    "            'Layers': [\n",
    "                {'Name': 'GW16K', 'Cond': 0.045, 'Thick': 0.0, 'SpecH': 13.0},\n",
    "                {'Name': 'GPB', 'Cond': 0.22, 'Thick': 0.0095, 'SpecH': 830.0}\n",
    "            ],\n",
    "#            'OutHeatTrans' : 25.0,\n",
    "            'OutEmissiv' : 0.90,\n",
    "            'OutSolarAbs' : 0.80,\n",
    "            'InConHeatTrans' : 6.10,\n",
    "            'InRadHeatTrans' : 5.00\n",
    "        },\n",
    "        {\n",
    "            'Name': 'Wall_SW',\n",
    "            'Layers': [\n",
    "                {'Name': 'GW16K', 'Cond': 0.045, 'Thick': 0.0, 'SpecH': 13.0},\n",
    "                {'Name': 'GPB', 'Cond': 0.22, 'Thick': 0.0095, 'SpecH': 830.0}\n",
    "            ],\n",
    "#            'OutHeatTrans' : 25.0,\n",
    "            'OutEmissiv' : 0.90,\n",
    "            'OutSolarAbs' : 0.80,\n",
    "            'InConHeatTrans' : 4.10,\n",
    "            'InRadHeatTrans' : 5.00\n",
    "        }\n",
    "    ]\n",
    "}\n",
    "\n",
    "wallmng = WallMng( d )"
   ]
  },
  {
   "cell_type": "markdown",
   "metadata": {},
   "source": [
    "### 二等辺三角波励振の応答係数の取得"
   ]
  },
  {
   "cell_type": "code",
   "execution_count": 5,
   "metadata": {},
   "outputs": [
    {
     "name": "stdout",
     "output_type": "stream",
     "text": [
      "二等辺三角波励振の貫流応答係数(12項まで)： [0.9524843101177651, 0.04804225601990793, -0.00020790693464474072, -0.00033900702006349785, -0.0002128296114368779, -0.00010025035949642122, -2.6926858488279013e-05, 1.63982353557124e-05, 4.007289485194744e-05, 5.14553668824317e-05, 5.535056957466563e-05, 5.481920624134626e-05]\n",
      "二等辺三角波励振の吸熱応答係数(12項まで)： [22.264068818474755, 0.0012870341160182174, 1.1376552133606157e-05, 3.383645605020597e-05, 2.245984949079295e-05, 1.1128168050217802e-05, 3.578711462565539e-06, -9.393102891003622e-07, -3.4486797385198602e-06, -4.695096719866702e-06, -5.1686234793676835e-06, -5.182197519777873e-06]\n"
     ]
    }
   ],
   "source": [
    "print('二等辺三角波励振の貫流応答係数(12項まで)：', wallmng.RFT('Wall_SW')[:12] )\n",
    "print('二等辺三角波励振の吸熱応答係数(12項まで)：', wallmng.RFA('Wall_SW')[:12] )"
   ]
  },
  {
   "cell_type": "markdown",
   "metadata": {},
   "source": [
    "### 公比の取得"
   ]
  },
  {
   "cell_type": "code",
   "execution_count": 6,
   "metadata": {},
   "outputs": [
    {
     "data": {
      "text/plain": [
       "[0.9928258579038134,\n",
       " 0.9719606100332444,\n",
       " 0.8937582091081409,\n",
       " 0.6417733981379583,\n",
       " 0.17334351801883058,\n",
       " 0.0009850678853794972,\n",
       " 1.3351199205276994e-12,\n",
       " 1.2479464629129513e-47]"
      ]
     },
     "execution_count": 6,
     "metadata": {},
     "output_type": "execute_result"
    }
   ],
   "source": [
    "wallmng.Row('Wall_SW')"
   ]
  },
  {
   "cell_type": "markdown",
   "metadata": {},
   "source": [
    "### 指数項別応答係数の取得"
   ]
  },
  {
   "cell_type": "code",
   "execution_count": 7,
   "metadata": {},
   "outputs": [
    {
     "name": "stdout",
     "output_type": "stream",
     "text": [
      "指数項別貫流応答係数： [2.1453471877075412e-06, -3.5512020819370806e-05, 0.00030174052696872814, -0.0015686648224901788, 0.003244378471032788, -0.0008814648726880829, 0.050265216857699746, -0.003285583466983418]\n",
      "指数項別吸熱応答係数： [-1.9701688125581559e-07, 3.301563943863136e-06, -2.883703695685374e-05, 0.00015993925364964315, -0.0003969717702886453, 0.00030884053565259043, 0.0012014951266685265, 3.946346023034855e-05]\n"
     ]
    }
   ],
   "source": [
    "print('指数項別貫流応答係数：', wallmng.RFT1('Wall_SW') )\n",
    "print('指数項別吸熱応答係数：', wallmng.RFA1('Wall_SW') )"
   ]
  },
  {
   "cell_type": "markdown",
   "metadata": {},
   "source": [
    "### 応答係数の初項の取得"
   ]
  },
  {
   "cell_type": "code",
   "execution_count": 8,
   "metadata": {},
   "outputs": [
    {
     "name": "stdout",
     "output_type": "stream",
     "text": [
      "貫流応答の初項： 0.9524843101177651\n",
      "吸熱応答の初項： 22.264068818474755\n"
     ]
    }
   ],
   "source": [
    "print('貫流応答の初項：', wallmng.RFT0('Wall_SW') )\n",
    "print('吸熱応答の初項：', wallmng.RFA0('Wall_SW') )"
   ]
  },
  {
   "cell_type": "markdown",
   "metadata": {},
   "source": [
    "### 根の数の取得"
   ]
  },
  {
   "cell_type": "code",
   "execution_count": 9,
   "metadata": {},
   "outputs": [
    {
     "data": {
      "text/plain": [
       "8"
      ]
     },
     "execution_count": 9,
     "metadata": {},
     "output_type": "execute_result"
    }
   ],
   "source": [
    "wallmng.Nroot('Wall_SW')"
   ]
  },
  {
   "cell_type": "markdown",
   "metadata": {},
   "source": [
    "### 熱伝達率等の取得"
   ]
  },
  {
   "cell_type": "code",
   "execution_count": 10,
   "metadata": {},
   "outputs": [
    {
     "name": "stdout",
     "output_type": "stream",
     "text": [
      "室内側熱伝達率　　： 9.1\n",
      "室内側対流熱伝達率： 4.1\n",
      "室内側放射熱伝達率： 5.0\n",
      "室外側熱伝達率　　： 0.22\n",
      "室外側放射率　　　： 0.9\n",
      "室外側日射吸収率　： 0.8\n"
     ]
    }
   ],
   "source": [
    "print('室内側熱伝達率　　：', wallmng.hi('Wall_SW') )\n",
    "print('室内側対流熱伝達率：', wallmng.hic('Wall_SW') )\n",
    "print('室内側放射熱伝達率：', wallmng.hir('Wall_SW') )\n",
    "print('室外側熱伝達率　　：', wallmng.ho('Wall_SW') )\n",
    "print('室外側放射率　　　：', wallmng.Eo('Wall_SW') )\n",
    "print('室外側日射吸収率　：', wallmng.Solas('Wall_SW') )"
   ]
  },
  {
   "cell_type": "code",
   "execution_count": null,
   "metadata": {},
   "outputs": [],
   "source": []
  }
 ],
 "metadata": {
  "kernelspec": {
   "display_name": "Python 3",
   "language": "python",
   "name": "python3"
  },
  "language_info": {
   "codemirror_mode": {
    "name": "ipython",
    "version": 3
   },
   "file_extension": ".py",
   "mimetype": "text/x-python",
   "name": "python",
   "nbconvert_exporter": "python",
   "pygments_lexer": "ipython3",
   "version": "3.6.5"
  }
 },
 "nbformat": 4,
 "nbformat_minor": 2
}
