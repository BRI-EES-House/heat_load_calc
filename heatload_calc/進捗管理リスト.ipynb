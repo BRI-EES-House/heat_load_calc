{
 "cells": [
  {
   "cell_type": "markdown",
   "metadata": {},
   "source": [
    "# 簡易熱負荷計算Python化　進捗管理リスト"
   ]
  },
  {
   "cell_type": "markdown",
   "metadata": {},
   "source": [
    "## 完了\n",
    "- ACSet.ipynb\n",
    "- AnnualCal.ipynb\n",
    "- Appl.ipynb\n",
    "- EnergySave.ipynb\n",
    "- Gdata.ipynb\n",
    "- Light.ipynb\n",
    "- LocalVent.ipynb\n",
    "- Resi.ipynb\n",
    "- Schedule.ipynb\n",
    "- Wall.ipynb\n",
    "- WallMng.ipynb\n",
    "- WindowMng.ipynb"
   ]
  },
  {
   "cell_type": "markdown",
   "metadata": {},
   "source": [
    "## 作業中\n",
    "- mdlMain.ipynb\n",
    "- mdlLibrary.ipynb\n",
    "- Exsrf.ipynb（SolarPosision.ipynbに依存）\n",
    "  - SolarPosisionクラスが作業中のため、メソッドCalcSlopSol、Teの動作テストができていません\n",
    "- ExsrfMng.ipynb（SolarPosision.ipynbに依存）\n",
    "  - SolarPosisionクラスが作業中のため、メソッドCalcSlopSol、Iwi、Idi、Iski、Iriの動作テストができていません\n",
    "- SolarPosision.ipynb\n",
    "- Weather.ipynb"
   ]
  },
  {
   "cell_type": "markdown",
   "metadata": {
    "collapsed": true
   },
   "source": [
    "## 未着手\n",
    "- Matrix（行列計算にはnumpyライブラリを使用するためpython化は不要？）\n",
    "- RoomOutput\n",
    "- Space\n",
    "- Sunbrk\n",
    "- TempHistory\n",
    "- vntArray（二次元配列を扱うクラスなのでpython化は不要？）"
   ]
  },
  {
   "cell_type": "code",
   "execution_count": null,
   "metadata": {
    "collapsed": true
   },
   "outputs": [],
   "source": []
  }
 ],
 "metadata": {
  "kernelspec": {
   "display_name": "Python 3",
   "language": "python",
   "name": "python3"
  },
  "language_info": {
   "codemirror_mode": {
    "name": "ipython",
    "version": 3
   },
   "file_extension": ".py",
   "mimetype": "text/x-python",
   "name": "python",
   "nbconvert_exporter": "python",
   "pygments_lexer": "ipython3",
   "version": "3.6.3"
  }
 },
 "nbformat": 4,
 "nbformat_minor": 2
}
