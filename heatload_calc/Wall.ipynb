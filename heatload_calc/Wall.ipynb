{
 "cells": [
  {
   "cell_type": "code",
   "execution_count": 1,
   "metadata": {},
   "outputs": [],
   "source": [
    "import math\n",
    "import numpy as np\n",
    "import copy\n",
    "import matplotlib.pyplot as plt\n",
    "import csv"
   ]
  },
  {
   "cell_type": "markdown",
   "metadata": {},
   "source": [
    "# 壁体関連情報を保持するクラス"
   ]
  },
  {
   "cell_type": "markdown",
   "metadata": {},
   "source": [
    "## 1) 壁体構成部材の情報を保持するクラス"
   ]
  },
  {
   "cell_type": "markdown",
   "metadata": {},
   "source": [
    "壁体の各層の構成部材情報（部材名称、熱伝導率、容積比熱、厚さ、等）を保持するクラスを定義します。\n",
    "\n",
    "- 部材名称　string\n",
    "- 熱伝導率, W m<sup>-1</sup> K<sup>-1</sup>\n",
    "- 容積比熱, kJ m<sup>-3</sup> K<sup>-1</sup>\n",
    "- 厚さ(m)"
   ]
  },
  {
   "cell_type": "markdown",
   "metadata": {},
   "source": [
    "#### Definition"
   ]
  },
  {
   "cell_type": "code",
   "execution_count": 2,
   "metadata": {},
   "outputs": [],
   "source": [
    "#壁体構成部材のクラス\n",
    "class Layer:\n",
    "    \n",
    "    # 初期化\n",
    "    def __init__(self, name, cond, spech, thick):\n",
    "        self.__name = name        # 部材名称, string値\n",
    "        self.__dblLam = cond              # 熱伝導率[W/(m・K)]\n",
    "        self.__dblSpcheat = spech * 1000  # 容積比熱[kJ/(m3・K)] → [J/(m3・K)]\n",
    "        self.__dblDim = thick             # 厚さ[m]\n",
    "        \n",
    "    # 部材名称の取得\n",
    "    @property\n",
    "    def name(self):\n",
    "        return self.__name\n",
    "    \n",
    "    # 熱伝導率[W/(m・K)]の取得\n",
    "    def dblLam(self):\n",
    "        return self.__dblLam\n",
    "    \n",
    "    # 容積比熱[J/(m3・K)]の取得\n",
    "    def dblSpcheat(self):\n",
    "        return self.__dblSpcheat\n",
    "    \n",
    "    # 厚さ[m]の取得\n",
    "    def dblDim(self):\n",
    "        return self.__dblDim\n",
    "    \n",
    "    # 熱抵抗[(m2・K)/W]の取得\n",
    "    def dblR(self):\n",
    "        if abs(self.__dblDim) < 0.001:\n",
    "            resistance = 1 / self.__dblLam # 厚さが0.0mの場合は分子を1とする\n",
    "        else:\n",
    "            resistance = self.__dblDim / self.__dblLam\n",
    "        return resistance\n",
    "\n",
    "    # 熱容量[J/(m2・K)]の取得\n",
    "    def dblC(self):\n",
    "        return self.__dblSpcheat * self.__dblDim"
   ]
  },
  {
   "cell_type": "markdown",
   "metadata": {},
   "source": [
    "### Example"
   ]
  },
  {
   "cell_type": "code",
   "execution_count": 3,
   "metadata": {},
   "outputs": [
    {
     "name": "stdout",
     "output_type": "stream",
     "text": [
      "layer[ 0 ] C: 9960.0 [J/(m2・K)]\n",
      "layer[ 1 ] C: 1300.0 [J/(m2・K)]\n",
      "layer[ 2 ] C: 0.0 [J/(m2・K)]\n",
      "layer[ 3 ] C: 6479.999999999999 [J/(m2・K)]\n",
      "layer[ 4 ] C: 4800.0 [J/(m2・K)]\n",
      "layer[ 5 ] C: 0.0 [J/(m2・K)]\n"
     ]
    }
   ],
   "source": [
    "layers =[\n",
    "    Layer( 'PlasterBoard', 0.22, 830.0, 0.012 ),\n",
    "    Layer( 'GW16K', 0.045, 13.0, 0.1 ),\n",
    "    Layer( 'AirSpace', 11.11, 0.0, 0.0 ),\n",
    "    Layer( 'Plywood', 0.16, 720.0, 0.009 ),\n",
    "    Layer( 'Mortar', 1.5, 1600.0, 0.003 ),\n",
    "    Layer( 'OutHeatTrans', 25.0, 0.0, 0.00 )\n",
    "]\n",
    "\n",
    "for i , layer in enumerate( layers ):\n",
    "    print( 'layer[' , i , '] C:' , layer.dblC() , '[J/(m2・K)]')"
   ]
  },
  {
   "cell_type": "markdown",
   "metadata": {},
   "source": [
    "## 2) 壁体情報を保持するクラス\n",
    "- 壁体の基本情報（壁体名称、層構成、熱伝達率等）を保持するクラスを定義します。\n",
    "\n",
    "### Constructor parameters\n",
    "```\n",
    "'Name'           : 壁体名称\n",
    "#######'OutHeatTrans'   : 室外側熱伝達率[W/(m2・K)]\n",
    "'OutEmissiv'     : 室外側放射率[-]\n",
    "'OutSolarAbs'    : 室外側日射吸収率[-]\n",
    "'InConHeatTrans' : 室内対流熱伝達率[W/(m2･K)]\n",
    "'InRadHeatTrans' : 室内放射熱伝達率[W/(m2･K)]\n",
    "'Layers'         : 壁体構成部材の情報クラスの配列\n",
    "```\n",
    "### Class Definition"
   ]
  },
  {
   "cell_type": "code",
   "execution_count": 4,
   "metadata": {},
   "outputs": [],
   "source": [
    "class Wall:\n",
    "    \n",
    "    # 初期化\n",
    "    def __init__(self, Name, OutEmissiv, OutSolarAbs, InConHeatTrans, InRadHeatTrans, Layers ):\n",
    "        self.__Name = Name               # 壁体名称, string値\n",
    "        #self.__dblho = OutHeatTrans      # 室外側熱伝達率[W/(m2・K)]\n",
    "        self.__dblEo = OutEmissiv        # 室外側放射率[-]\n",
    "        self.__dblas = OutSolarAbs       # 室外側日射吸収率[-]\n",
    "        self.__dblhic = InConHeatTrans   # 室内対流熱伝達率[W/(m2･K)]\n",
    "        self.__dblhir = InRadHeatTrans   # 室内放射熱伝達率[W/(m2･K)]\n",
    "        self.__dblhi = self.__dblhic + self.__dblhir   # 室内総合熱伝達率[W/(m2･K)]\n",
    "        self.__Layers = copy.deepcopy( Layers )\n",
    "    \n",
    "    # 名前の取得\n",
    "    def Name(self):\n",
    "        return self.__Name\n",
    "        \n",
    "    # 室内側熱伝達率の取得\n",
    "    def hi(self):\n",
    "        return self.__dblhi\n",
    "    \n",
    "    # 室内側対流熱伝達率の取得\n",
    "    def hic(self):\n",
    "        return self.__dblhic\n",
    "\n",
    "    # 室内側放射熱伝達率の取得\n",
    "    def hir(self):\n",
    "        return self.__dblhir\n",
    "\n",
    "    # 室外側熱伝達率の取得\n",
    "    def ho(self):\n",
    "        n = len(self.__Layers)\n",
    "        #print('n=', n)\n",
    "        layer = self.__Layers[n-1]\n",
    "        return layer.dblLam()\n",
    "\n",
    "    # 室外側放射率の取得\n",
    "    def Eo(self):\n",
    "        return self.__dblEo\n",
    "\n",
    "    # 室外側日射吸収率の取得\n",
    "    def  Solas(self):\n",
    "        return self.__dblas\n",
    "    \n",
    "    # 壁体構成部材配列を取得\n",
    "    def Layers(self):\n",
    "        return self.__Layers\n",
    "        #return list(self.__Layers)\n",
    "    \n",
    "    # 壁体の構成部材数を取得\n",
    "    def lngNlayer(self):\n",
    "        return len(self.__Layers)\n",
    "    \n",
    "    # 室外側熱伝達率[W/(m2・K)]を壁体構成部材情報クラスの配列に追加する\n",
    "    #（応答係数計算用）\n",
    "    # 室外側熱伝達率は層構成と同時に設定するように仕様変更（2018/8/24）\n",
    "#    def AppendOutHeatTrans(self):\n",
    "#        self.__Layers.append( Layer( 'OutHeatTrans', self.__dblho, 0.0, 0.00 ) )"
   ]
  },
  {
   "cell_type": "markdown",
   "metadata": {},
   "source": [
    "### Example"
   ]
  },
  {
   "cell_type": "code",
   "execution_count": 5,
   "metadata": {},
   "outputs": [
    {
     "name": "stdout",
     "output_type": "stream",
     "text": [
      "layer[ 0 ] Name: Plywood  R: 0.13749999999999998 [(m2・K)/W]\n",
      "layer[ 1 ] Name: GW16K  R: 3.3333333333333335 [(m2・K)/W]\n",
      "layer[ 2 ] Name: Ro  R: 0.04 [(m2・K)/W]\n"
     ]
    }
   ],
   "source": [
    "layers_test = [\n",
    "    Layer( 'Plywood', 0.16, 720.0, 0.022 ),\n",
    "    Layer( 'GW16K', 0.045, 13.0, 0.150 ),\n",
    "    Layer( 'Ro', 25.0, 0.0, 0.0)\n",
    "]\n",
    "wall_test = Wall( '1F_floor', 0.90, 0.80, 1.70, 5.00, layers_test )\n",
    "#print( 'ho=', wall_test.ho())\n",
    "#wall_test.AppendOutHeatTrans()\n",
    "for i , layer in enumerate( wall_test.Layers() ):\n",
    "    print( 'layer[' , i , '] Name:' , layer.name, ' R:',  layer.dblR(), '[(m2・K)/W]' )"
   ]
  },
  {
   "cell_type": "markdown",
   "metadata": {},
   "source": [
    "## 3）応答係数を保持するクラス\n",
    "- 壁体の応答係数を保持するクラスを定義します。\n",
    "\n",
    "### Constructor parameters\n",
    "```\n",
    "'WallType'    : 壁体種類,　'wall' or 'soil'\n",
    "'dblDTime'    : 計算時間間隔[s]\n",
    "'dblNcalTime' : 応答係数を作成する時間数[h]\n",
    "'Wall'        : 壁体情報クラス\n",
    "```\n",
    "### Class Definition"
   ]
  },
  {
   "cell_type": "code",
   "execution_count": 6,
   "metadata": {},
   "outputs": [],
   "source": [
    "# 応答係数\n",
    "class ResponseFactor():\n",
    "    \n",
    "    # 初期化\n",
    "    def __init__(self, WallType, dblDTime, dblNcalTime, Wall):\n",
    "        # WallType as string   : 壁体種類, 'wall' or 'soil'\n",
    "        # dblDTime as long    : 計算時間間隔[s]\n",
    "        # dblNcalTime as long : 応答係数を作成する時間数[h]\n",
    "        # wall as dictionary : 壁体基本情報クラス\n",
    "        \n",
    "        # VBAからの主な変更点：\n",
    "        # (1)二次元配列（objArray）で壁体の情報を受け取っていたが、壁体情報クラスで受け取るように変更\n",
    "        # (2)lngStRow, lngOutputColは削除\n",
    "        # (3)固定根はシートから読み込んでいたが、初期化時に配列として与えるように変更\n",
    "        # (4)伝達関数近似のA0の周期は使用しない\n",
    "\n",
    "        self.__dblDTime = dblDTime           # 計算時間間隔[s]\n",
    "        self.__dblNcalTime = dblNcalTime     # 応答係数を作成する時間数\n",
    "        self.__lngM = int(self.__dblNcalTime * 3600 / self.__dblDTime) + 1  # 応答係数で作成する項数\n",
    "        self.__wall = Wall                   # 壁体情報クラス\n",
    "        \n",
    "        # 固定根の設定\n",
    "        if WallType == 'wall':\n",
    "            dblAlps = [ 2.0000E-06, 7.9000E-06, 3.1200E-05, 1.2320E-04, 4.8680E-04, \n",
    "                       1.9230E-03, 7.5950E-03, 3.0000E-02 ]\n",
    "        elif WallType == 'soil':\n",
    "            dblAlps = [ 1.0597E-09, 4.2389E-09, 1.6956E-08, 6.7806E-08, 2.7128E-07,\n",
    "                       1.0850E-06, 4.3417E-06, 1.7361E-05, 6.94444E-05, 0.000277778 ]\n",
    "        else:\n",
    "            raise ValueError('指定されたWallTypeの固定根は定義されていません')\n",
    "        self.__dblAlp = dblAlps\n",
    "        self.__lngNroot = len( self.__dblAlp ) # 根の数\n",
    "        \n",
    "        # ラプラス変数の設定\n",
    "        # ラプラス変数が定義されている場合に対応する？\n",
    "        self.__lngNLaps = self.__lngNroot * 2    # 与えるラプラス変数の個数\n",
    "        self.__dblLaps = []                      # ラプラス変数の配列\n",
    "        for lngI in range( 1, self.__lngNLaps + 1 ):\n",
    "            if lngI % 2 == 0:\n",
    "                # 偶数番目はαをそのまま入力\n",
    "                self.__dblLaps.append( self.__dblAlp[int((lngI-1) / 2)] ) \n",
    "            elif lngI == 1:\n",
    "                # 最初はα1/√(α2/α1）とする\n",
    "                self.__dblLaps.append( self.__dblAlp[0] / math.sqrt( self.__dblAlp[1] / self.__dblAlp[0] ) )\n",
    "            else:\n",
    "                # それ以外は等比数列で補間\n",
    "                lngL = math.ceil( (lngI-1) / 2 )\n",
    "                self.__dblLaps.append( self.__dblAlp[lngL] / math.sqrt( self.__dblAlp[lngL] / self.__dblAlp[lngL - 1] ) )\n",
    "        \n",
    "        # 応答係数計算のため、壁体構成部材情報クラスの配列に室外側熱伝達率[W/(m2・K)]を追加する\n",
    "        # 室外側熱伝達率は壁体層構成を入力するときに設定するように変更（2018/8/24）\n",
    "        #self.__wall.AppendOutHeatTrans()\n",
    "   \n",
    "        # 単位応答の計算\n",
    "        self.__dblAT0, self.__dblAA0, self.__dblAT, self.__dblAA, self.__dblATstep, self.__dblAAstep = self.StepRespOfWall()\n",
    "        \n",
    "        # 二等辺三角波励振の応答係数、指数項別応答係数、公比の計算\n",
    "        self.__dblRFT, self.__dblRFA, self.__dblRFT1, self.__dblRFA1, self.__dblRow = self.RFTRI()\n",
    "        \n",
    "         \n",
    "    # 壁体の単位応答の計算\n",
    "    def StepRespOfWall(self):\n",
    "        \n",
    "        # 四端子基本行列の初期化\n",
    "        matFi = [ 0.0 for i in range( self.__wall.lngNlayer() ) ]\n",
    "        for lngK in range( self.__wall.lngNlayer() ):\n",
    "            #matFi[lngK] = np.zeros((2,2))\n",
    "            matFi[lngK] = [ [ 0.0 for i in range(2) ] for j in range(2) ]\n",
    "        \n",
    "        # 吸熱、貫流の各伝達関数ベクトルの初期化\n",
    "        matGA = [ [ 0.0 for i in  range(1) ] for j in range(self.__lngNLaps) ]\n",
    "        matGT = [ [ 0.0 for i in  range(1) ] for j in range(self.__lngNLaps) ]\n",
    "        \n",
    "        # 単位貫流応答、単位吸熱応答の初期化\n",
    "        dblAA0 = 0.0\n",
    "        dblAT0= 1.0\n",
    "        dblCtotal = 0.0\n",
    "        for layer in self.__wall.Layers():\n",
    "            dblAA0 += layer.dblR()\n",
    "            dblCtotal += layer.dblC()\n",
    "            \n",
    "        # GA(0), GT(0)\n",
    "        dblGA0 = dblAA0\n",
    "        dblGT0 = dblAT0\n",
    "        \n",
    "        # 壁体の熱容量が0（定常）の場合\n",
    "        # 定常部位であっても、そのまま処理を継続する（計算上は問題ないため）\n",
    "        #if abs(dblCtotal) < 0.001:\n",
    "        #    pass #　暫定処理（VBAではここで処理を抜ける）\n",
    "    \n",
    "        # 四端子行列の作成\n",
    "        for lngI, laps in enumerate(self.__dblLaps):\n",
    "            \n",
    "            # 四端子行列の初期化\n",
    "            matFt = [ [ 0.0 for i in range(2) ] for j in range(2) ]\n",
    "            \n",
    "            # 四端子基本行列の作成\n",
    "            for lngK, layer in enumerate(self.__wall.Layers()):\n",
    "                # 定常部位（空気層等）の場合\n",
    "                if abs( layer.dblC() ) < 0.001:\n",
    "                    matFi[lngK][0][0] = 1.0\n",
    "                    matFi[lngK][0][1] = layer.dblR()\n",
    "                    matFi[lngK][1][0] = 0.0\n",
    "                    matFi[lngK][1][1] = 1.0\n",
    "                # 非定常部位の場合\n",
    "                else:\n",
    "                    dblTemp = math.sqrt( layer.dblR() * layer.dblC() * laps )\n",
    "                    dblCosh = np.cosh( dblTemp )\n",
    "                    dblSinh = np.sinh( dblTemp )\n",
    "                    matFi[lngK][0][0] = dblCosh\n",
    "                    matFi[lngK][0][1] = layer.dblR() / dblTemp * dblSinh\n",
    "                    matFi[lngK][1][0] = dblTemp / layer.dblR() * dblSinh\n",
    "                    matFi[lngK][1][1] = dblCosh\n",
    "                \n",
    "                # 室内側1層目の場合は、四端子行列に四端子基本行列をコピーする\n",
    "                if lngK == 0:\n",
    "                    matFt = copy.deepcopy( matFi[lngK] )\n",
    "                    # 室内側2層目以降は、四端子基本行列を乗算\n",
    "                else:\n",
    "                    matTemp = copy.deepcopy( matFt )\n",
    "                    matFt = np.dot( matTemp, matFi[lngK] )\n",
    "                    \n",
    "                # 吸熱、貫流の各伝達関数ベクトルの作成\n",
    "                matGA[lngI][0] = matFt[0][1] / matFt[1][1] - dblGA0\n",
    "                matGT[lngI][0] = 1.0 / matFt[1][1] - dblGT0\n",
    "\n",
    "        # 伝達関数の係数を求めるための左辺行列を作成\n",
    "        matF = [ [ 0.0 for i in range(self.__lngNroot) ] for j in range(self.__lngNLaps) ]\n",
    "        for lngI, laps in enumerate(self.__dblLaps):\n",
    "            for lngJ, root in enumerate(self.__dblAlp):\n",
    "                matF[lngI][lngJ] = laps / ( laps + root )\n",
    "        \n",
    "        # 最小二乗法のための係数行列を作成\n",
    "        matU = [ [ 0.0 for i in range(self.__lngNroot) ] for j in range(self.__lngNroot) ]\n",
    "        for lngK in range(self.__lngNroot):\n",
    "            for lngJ in range(self.__lngNroot):\n",
    "                dblTemp = 0.0\n",
    "                for lngI in range(self.__lngNLaps):\n",
    "                    dblTemp = dblTemp + matF[lngI][lngK] * matF[lngI][lngJ]\n",
    "                matU[lngK][lngJ] = dblTemp\n",
    "        \n",
    "        # 最小二乗法のための定数項行列を作成\n",
    "        matCA = [ [ 0.0 for i in range(1) ] for j in range(self.__lngNroot) ]\n",
    "        matCT = [ [ 0.0 for i in range(1) ] for j in range(self.__lngNroot) ]\n",
    "        for lngK in range(self.__lngNroot):\n",
    "            dblTempA = 0.0\n",
    "            dblTempT = 0.0\n",
    "            for lngI in range(self.__lngNLaps):\n",
    "                dblTempA = dblTempA + matF[lngI][lngK] * matGA[lngI][0]\n",
    "                dblTempT = dblTempT + matF[lngI][lngK] * matGT[lngI][0]\n",
    "            matCA[lngK][0] = dblTempA\n",
    "            matCT[lngK][0] = dblTempT\n",
    "        \n",
    "        # 最小二乗法のための係数行列の逆行列を計算\n",
    "        matU_inv = np.linalg.inv(matU)\n",
    "        \n",
    "        # 伝達関数の係数を計算\n",
    "        matAA = np.dot( matU_inv, matCA )\n",
    "        matAT = np.dot( matU_inv, matCT )\n",
    "        \n",
    "        # 伝達関数の係数を一次元配列に変換\n",
    "        dblAT = [ 0.0 for i in range( self.__lngNroot ) ]\n",
    "        dblAA = [ 0.0 for i in range( self.__lngNroot ) ]\n",
    "        for lngI in range(self.__lngNroot):\n",
    "            dblAT[lngI] = matAT[lngI][0]\n",
    "            dblAA[lngI] = matAA[lngI][0]\n",
    "        \n",
    "        # 単位応答を計算\n",
    "        dblATstep = [ 0.0 for i in range( self.__lngM ) ]\n",
    "        dblAAstep = [ 0.0 for i in range( self.__lngM ) ]\n",
    "        for lngJ in range(self.__lngM):\n",
    "            dblATstep[lngJ] = dblAT0\n",
    "            dblAAstep[lngJ] = dblAA0\n",
    "            for lngK, root in enumerate(self.__dblAlp):\n",
    "                dblATstep[lngJ] = dblATstep[lngJ] + dblAT[lngK] * math.exp( -root * lngJ * self.__dblDTime )\n",
    "                dblAAstep[lngJ] = dblAAstep[lngJ] + dblAA[lngK] * math.exp( -root * lngJ * self.__dblDTime )\n",
    "                \n",
    "        # デバッグ用\n",
    "        #print('四端子基本行列：', matFi)\n",
    "        #print('四端子行列：', matFt)\n",
    "        #print('貫流伝達関数ベクトル：', matGA)\n",
    "        #print('吸熱伝達関数ベクトル：', matGT)\n",
    "        #print('伝達関数の係数を求めるための左辺行列：', matF)\n",
    "        #print('最小二乗法のための係数行列：', matU)\n",
    "        #print('最小二乗法のための係数行列の逆行列：', matU_inv)\n",
    "        #print('貫流定数項行列：', matCT)\n",
    "        #print('吸熱定数項行列：', matCA)\n",
    "        #print('貫流伝達関数の係数：', dblAT)\n",
    "        #print('吸熱伝達関数の係数：', dblAA)\n",
    "        #print('単位貫流応答：', dblATstep[:11])\n",
    "        #print('単位吸熱応答：', dblAAstep[:11])\n",
    "        \n",
    "        return dblAT0, dblAA0, copy.deepcopy(dblAT), copy.deepcopy(dblAA), copy.deepcopy(dblATstep), copy.deepcopy(dblAAstep)\n",
    "    \n",
    "    \n",
    "    # 二等辺三角波励振の応答係数、指数項別応答係数、公比の計算\n",
    "    def RFTRI(self):\n",
    "        \n",
    "        #二等辺三角波励振の応答係数の配列を初期化\n",
    "        dblRFT = [ 0.0 for i in range( self.__lngM ) ]\n",
    "        dblRFA = [ 0.0 for i in range( self.__lngM ) ]\n",
    "        \n",
    "        #二等辺三角波励振の応答係数の初項を計算\n",
    "        dblRFT[0] = self.__dblAT0\n",
    "        dblRFA[0] = self.__dblAA0\n",
    "        for lngI, root in enumerate(self.__dblAlp):\n",
    "            dblTemp = root * self.__dblDTime\n",
    "            dblE1 = ( 1.0 - math.exp(-dblTemp) ) / dblTemp\n",
    "            dblRFT[0] = dblRFT[0] + dblE1 * self.__dblAT[lngI]\n",
    "            dblRFA[0] = dblRFA[0] + dblE1 * self.__dblAA[lngI]\n",
    "        \n",
    "        #二等辺三角波励振の応答係数の二項目以降を計算\n",
    "        for lngJ in range(1, self.__lngM):\n",
    "            dblRFT[lngJ] = 0.0\n",
    "            dblRFA[lngJ] = 0.0\n",
    "            for lngI, root in enumerate(self.__dblAlp):\n",
    "                dblTemp = root * self.__dblDTime\n",
    "                dblE1 = ( 1.0 - math.exp(-dblTemp) ) ** 2 * math.exp( -(lngJ - 1) * dblTemp ) / dblTemp\n",
    "                dblRFT[lngJ] = dblRFT[lngJ] - dblE1 * self.__dblAT[lngI]\n",
    "                dblRFA[lngJ] = dblRFA[lngJ] - dblE1 * self.__dblAA[lngI]\n",
    "            \n",
    "        # 指数項別応答係数、公比を計算\n",
    "        dblRFT1 = [ 0.0 for i in range( self.__lngNroot ) ]\n",
    "        dblRFA1 = [ 0.0 for i in range( self.__lngNroot ) ]\n",
    "        dblRow = [ 0.0 for i in range( self.__lngNroot ) ]\n",
    "        for lngI, root in enumerate(self.__dblAlp):\n",
    "            dblTemp = root * self.__dblDTime\n",
    "            dblE1 = 1.0 / dblTemp * ( 1.0 - math.exp(-dblTemp) ) ** 2\n",
    "            dblRFT1[lngI] = - self.__dblAT[lngI] * dblE1\n",
    "            dblRFA1[lngI] = - self.__dblAA[lngI] * dblE1\n",
    "            dblRow[lngI] = math.exp(-dblTemp)\n",
    "                         \n",
    "        # デバッグ用\n",
    "        #print('貫流応答係数：', dblRFT[:11])\n",
    "        #print('吸熱応答係数：', dblRFA[:11])\n",
    "        #print('指数項別貫流応答係数：', dblRFT1)\n",
    "        #print('指数項別吸熱応答係数：', dblRFA1)\n",
    "        #print('公比：', dblRow)\n",
    "        \n",
    "        return copy.deepcopy(dblRFT), copy.deepcopy(dblRFA), copy.deepcopy(dblRFT1), copy.deepcopy(dblRFA1), copy.deepcopy(dblRow)\n",
    "\n",
    "    # 壁体情報の取得\n",
    "    def Wall(self):\n",
    "        return self.__wall\n",
    "    \n",
    "    # 単位貫流応答の取得\n",
    "    def ATstep(self):\n",
    "        return self.__dblATstep\n",
    "    \n",
    "    # 単位吸熱応答の取得\n",
    "    def AAstep(self):\n",
    "        return self.__dblAAstep\n",
    "    \n",
    "    # 二等辺三角波励振の貫流応答係数の取得\n",
    "    def RFT(self):\n",
    "        return self.__dblRFT\n",
    "    \n",
    "    # 二等辺三角波励振の吸熱応答係数の取得\n",
    "    def RFA(self):\n",
    "        return self.__dblRFA\n",
    "\n",
    "    # 公比の取得\n",
    "    def Row(self):\n",
    "        return self.__dblRow\n",
    "    \n",
    "    # 指数項別貫流応答係数の取得\n",
    "    def RFT1(self):\n",
    "        return self.__dblRFT1\n",
    "    \n",
    "    # 指数項別吸熱応答係数の取得\n",
    "    def RFA1(self):\n",
    "        return self.__dblRFA1\n",
    "    \n",
    "    # 貫流応答係数の初項\n",
    "    def RFT0(self):\n",
    "        return self.__dblRFT[0]\n",
    "\n",
    "    # 吸熱応答係数の初項\n",
    "    def RFA0(self):\n",
    "        return self.__dblRFA[0]\n",
    "\n",
    "    # 根の取得\n",
    "    def Alp(self):\n",
    "        return self.__dblAlp"
   ]
  },
  {
   "cell_type": "markdown",
   "metadata": {},
   "source": [
    "### Example"
   ]
  },
  {
   "cell_type": "code",
   "execution_count": 7,
   "metadata": {
    "scrolled": true
   },
   "outputs": [],
   "source": [
    "layers =[\n",
    "    Layer( 'Plywood', 0.16, 720.0, 0.022 ),\n",
    "    Layer( 'GW16K', 0.045, 13.0, 0.150 ),\n",
    "]\n",
    "wall = Wall( '1F_floor', 0.90, 0.80, 1.70, 5.00, layers )\n",
    "rf = ResponseFactor('wall', 3600, 50, wall)"
   ]
  },
  {
   "cell_type": "markdown",
   "metadata": {},
   "source": [
    "####  単位応答の取得"
   ]
  },
  {
   "cell_type": "code",
   "execution_count": 8,
   "metadata": {},
   "outputs": [
    {
     "name": "stdout",
     "output_type": "stream",
     "text": [
      "1F_floor\n",
      "単位貫流応答(12項まで)： [0.013983813945969814, 0.04936747385615862, 0.09884076350679424, 0.14291155395287697, 0.191410481191984, 0.24241437096428614, 0.2934212483189033, 0.3427643062193785, 0.3895052067380569, 0.43319156073727044, 0.4736726970919499, 0.5109778865704071]\n",
      "単位吸熱応答(12項まで)： [0.04793693981631231, 0.3002719888986674, 0.46805510232440695, 0.6141846566383924, 0.7750276686014681, 0.9445623236500286, 1.1143782815987124, 1.2788202423726478, 1.434688543909861, 1.5804287730615487, 1.7155097976035105, 1.8400116682157075]\n"
     ]
    }
   ],
   "source": [
    "print(rf.Wall().Name())\n",
    "print('単位貫流応答(12項まで)：', rf.ATstep()[:12] )\n",
    "print('単位吸熱応答(12項まで)：', rf.AAstep()[:12] )"
   ]
  },
  {
   "cell_type": "markdown",
   "metadata": {},
   "source": [
    "#### 二等辺三角波励振の応答係数の取得"
   ]
  },
  {
   "cell_type": "code",
   "execution_count": 9,
   "metadata": {},
   "outputs": [
    {
     "name": "stdout",
     "output_type": "stream",
     "text": [
      "1F_floor\n",
      "二等辺三角波励振の貫流応答係数(12項まで)： [0.014184705959929326, 0.06174366705309834, 0.044618790130175764, 0.04628783954563871, 0.04998421856126851, 0.05118085736501395, 0.05027960205650403, 0.04809656451038538, 0.04523647278788301, 0.042087337818288, 0.038885532770838754, 0.035769274835009565]\n",
      "二等辺三角波励振の吸熱応答係数(12項まで)： [0.1588651241297937, 0.23209283605870065, 0.1491234467550317, 0.15341140440515139, 0.16596442196497743, 0.17026916746914336, 0.16748497681599753, 0.16034188900561613, 0.15088344465899992, 0.14042445896143585, 0.12976712212464814, 0.11938131332740735]\n"
     ]
    }
   ],
   "source": [
    "print(rf.Wall().Name())\n",
    "print('二等辺三角波励振の貫流応答係数(12項まで)：', rf.RFT()[:12] )\n",
    "print('二等辺三角波励振の吸熱応答係数(12項まで)：', rf.RFA()[:12] )"
   ]
  },
  {
   "cell_type": "markdown",
   "metadata": {
    "collapsed": true
   },
   "source": [
    "#### 応答係数の初項の取得"
   ]
  },
  {
   "cell_type": "code",
   "execution_count": 10,
   "metadata": {},
   "outputs": [
    {
     "data": {
      "text/plain": [
       "0.014184705959929326"
      ]
     },
     "execution_count": 10,
     "metadata": {},
     "output_type": "execute_result"
    }
   ],
   "source": [
    "rf.RFT0()"
   ]
  },
  {
   "cell_type": "code",
   "execution_count": 11,
   "metadata": {},
   "outputs": [
    {
     "data": {
      "text/plain": [
       "0.1588651241297937"
      ]
     },
     "execution_count": 11,
     "metadata": {},
     "output_type": "execute_result"
    }
   ],
   "source": [
    "rf.RFA0()"
   ]
  },
  {
   "cell_type": "markdown",
   "metadata": {},
   "source": [
    "#### 指数項別応答係数の取得"
   ]
  },
  {
   "cell_type": "code",
   "execution_count": 12,
   "metadata": {},
   "outputs": [
    {
     "name": "stdout",
     "output_type": "stream",
     "text": [
      "1F_floor\n",
      "指数項別貫流応答係数： [-0.00032076773647717646, 0.01024497074941135, 0.09051863303892939, -0.09122589119702736, 0.07296373504542324, -0.024021766493318927, 0.0041261651401917196, -0.0005414114940339021]\n",
      "指数項別吸熱応答係数： [-0.0010645775195068884, 0.034072912695293694, 0.3025263014929958, -0.30875875933955077, 0.2589917201316552, -0.06485371760309616, 0.012716460430900432, -0.0015375042299907633]\n"
     ]
    }
   ],
   "source": [
    "print(rf.Wall().Name())\n",
    "print('指数項別貫流応答係数：', rf.RFT1() )\n",
    "print('指数項別吸熱応答係数：', rf.RFA1() )"
   ]
  },
  {
   "cell_type": "markdown",
   "metadata": {},
   "source": [
    "#### 根、公比の取得"
   ]
  },
  {
   "cell_type": "code",
   "execution_count": 13,
   "metadata": {},
   "outputs": [
    {
     "name": "stdout",
     "output_type": "stream",
     "text": [
      "1F_floor\n",
      "公比： [0.9928258579038134, 0.9719606100332444, 0.8937582091081409, 0.6417733981379583, 0.17334351801883058, 0.0009850678853794972, 1.3351199205276994e-12, 1.2479464629129513e-47]\n",
      "根： [2e-06, 7.9e-06, 3.12e-05, 0.0001232, 0.0004868, 0.001923, 0.007595, 0.03]\n"
     ]
    }
   ],
   "source": [
    "print(rf.Wall().Name())\n",
    "print('公比：', rf.Row() )\n",
    "print('根：', rf.Alp() )"
   ]
  },
  {
   "cell_type": "markdown",
   "metadata": {},
   "source": [
    "#### 単位応答のグラフ描画"
   ]
  },
  {
   "cell_type": "code",
   "execution_count": 14,
   "metadata": {},
   "outputs": [
    {
     "data": {
      "image/png": "[encoded data removed]",
      "text/plain": [
       "<Figure size 432x288 with 1 Axes>"
      ]
     },
     "metadata": {},
     "output_type": "display_data"
    },
    {
     "data": {
      "image/png": "[encoded data removed]",
      "text/plain": [
       "<Figure size 432x288 with 1 Axes>"
      ]
     },
     "metadata": {},
     "output_type": "display_data"
    }
   ],
   "source": [
    "# X軸の値を用意\n",
    "TimeArray = range(len(rf.ATstep()))\n",
    "\n",
    "# グラフタイトルの用意\n",
    "title = rf.Wall().Name() + '('\n",
    "for i, layer in enumerate(rf.Wall().Layers()):\n",
    "    if i == len(rf.Wall().Layers()) - 2:\n",
    "        title = title + layer.name +  ' ' + str( layer.dblDim()) + 'm)'\n",
    "    elif i == len(rf.Wall().Layers()) - 1:\n",
    "        break\n",
    "    else:\n",
    "        title = title + layer.name +  ' ' + str( layer.dblDim()) + 'm, '\n",
    "\n",
    "# 単位貫流応答のグラフ描画\n",
    "plt.plot( TimeArray, rf.ATstep(), label = 'Transmission Response')\n",
    "plt.title( title )\n",
    "plt.xlabel('Time[h]')\n",
    "plt.ylabel('Step Response[-]')\n",
    "plt.ylim(0, 1)\n",
    "plt.legend()\n",
    "plt.show()\n",
    "\n",
    "# 単位吸熱応答のグラフ描画\n",
    "plt.plot( TimeArray, rf.AAstep(), label = 'Admission Response')\n",
    "plt.title(title)\n",
    "plt.xlabel('Time[h]')\n",
    "plt.ylabel('Step Response[-]')\n",
    "plt.ylim(0, 3.5)\n",
    "plt.legend()\n",
    "plt.show()"
   ]
  },
  {
   "cell_type": "code",
   "execution_count": null,
   "metadata": {},
   "outputs": [],
   "source": []
  }
 ],
 "metadata": {
  "kernelspec": {
   "display_name": "Python 3",
   "language": "python",
   "name": "python3"
  },
  "language_info": {
   "codemirror_mode": {
    "name": "ipython",
    "version": 3
   },
   "file_extension": ".py",
   "mimetype": "text/x-python",
   "name": "python",
   "nbconvert_exporter": "python",
   "pygments_lexer": "ipython3",
   "version": "3.6.5"
  }
 },
 "nbformat": 4,
 "nbformat_minor": 2
}
