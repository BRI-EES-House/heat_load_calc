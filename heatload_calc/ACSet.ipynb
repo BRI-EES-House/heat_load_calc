{
 "cells": [
  {
   "cell_type": "code",
   "execution_count": 1,
   "metadata": {
    "collapsed": true
   },
   "outputs": [],
   "source": [
    "import csv"
   ]
  },
  {
   "cell_type": "markdown",
   "metadata": {},
   "source": [
    "# 暖冷房設定温湿度のスケジュールを保持するクラス\n",
    "- csvファイルから毎時の暖冷房設定温湿度スケジュールを読み込み、辞書型として保持します。\n",
    "- メソッド'ACSet'は、「室名」、「室分類」、「運転モード（'冷房' or '暖房'）」、「設定分類（'温度' or '湿度'）」、「曜日（'平日' or '休日'）」および「時刻」を与えると、指定した時刻の暖冷房設定温湿度を返します。\n",
    "- 設定温度の単位は[℃], 設定湿度の単位は[%]です。"
   ]
  },
  {
   "cell_type": "code",
   "execution_count": 2,
   "metadata": {},
   "outputs": [],
   "source": [
    "# 暖冷房設定温湿度スケジュールデータ\n",
    "class ACSet:\n",
    "\n",
    "    # 暖冷房設定温湿度スケジュールデータの取得\n",
    "    def __init__(self):\n",
    "        \n",
    "        # 暖冷房設定温湿度スケジュールデータの読み込み\n",
    "        with open('暖冷房スケジュール.csv') as f:\n",
    "            reader = csv.reader(f)\n",
    "            header = next(reader)\n",
    "            \n",
    "            # 暖冷房設定温湿度\n",
    "            self.__dicACSet={}\n",
    "            \n",
    "            for row in reader:\n",
    "                strRoomName = row[0] # 室名\n",
    "                strRoomDiv = row[1]  # 室分類\n",
    "                strMode = row[2]     # 運転モード（'冷房' or '暖房'）\n",
    "                strTH = row[3]       # 設定分類（'温度' or '湿度'）\n",
    "                strWeek =row[4]      # 曜日（'平日' or '休日'）\n",
    "                \n",
    "                # 毎時の設定温湿度スケジュールのリストを設定\n",
    "                dblHourly=[]         \n",
    "                for hour in range(24):\n",
    "                    dblHourly.append(float(row[hour + 5]))\n",
    "                \n",
    "                # 暖冷房設定温湿度をセット\n",
    "                # 温度の単位は[℃], 湿度の単位は[%]\n",
    "                key = strRoomName + ',' + strRoomDiv + ',' + strMode + ',' + strTH + ',' + strWeek\n",
    "                self.__dicACSet[key] = dblHourly\n",
    "                \n",
    "\n",
    "    # 暖冷房設定温湿度\n",
    "    def dicACSet(self):\n",
    "        return self.__dicACSet\n",
    "        \n",
    "    # 指定した時刻の設定温湿度の取得\n",
    "    def ACSet(self, strRoomName, strRoomDiv, strMode, strWeek, strTH, lngTime):\n",
    "        key = strRoomName + ',' + strRoomDiv + ',' + strMode + ',' + strTH + ',' + strWeek\n",
    "        vntHourly = self.__dicACSet[key] # 指定されたkeyがないときのエラー処理が必要\n",
    "        return vntHourly[lngTime] "
   ]
  },
  {
   "cell_type": "markdown",
   "metadata": {},
   "source": [
    "## Example"
   ]
  },
  {
   "cell_type": "code",
   "execution_count": 3,
   "metadata": {},
   "outputs": [],
   "source": [
    "ac=ACSet()"
   ]
  },
  {
   "cell_type": "markdown",
   "metadata": {},
   "source": [
    "### keyの取得"
   ]
  },
  {
   "cell_type": "code",
   "execution_count": 4,
   "metadata": {},
   "outputs": [
    {
     "data": {
      "text/plain": [
       "dict_keys(['主たる居室,,暖房,温度,平日', '主たる居室,,暖房,温度,休日', 'その他居室,子供室1,暖房,温度,平日', 'その他居室,子供室1,暖房,温度,休日', 'その他居室,子供室2,暖房,温度,平日', 'その他居室,子供室2,暖房,温度,休日', '主たる居室,,冷房,温度,平日', '主たる居室,,冷房,温度,休日', 'その他居室,子供室1,冷房,温度,平日', 'その他居室,子供室1,冷房,温度,休日', 'その他居室,子供室2,冷房,温度,平日', 'その他居室,子供室2,冷房,温度,休日', 'その他居室,寝室,冷房,温度,平日', 'その他居室,寝室,冷房,温度,休日'])"
      ]
     },
     "execution_count": 4,
     "metadata": {},
     "output_type": "execute_result"
    }
   ],
   "source": [
    "ac.dicACSet().keys()"
   ]
  },
  {
   "cell_type": "markdown",
   "metadata": {},
   "source": [
    "### 毎時の設定温湿度スケジュールを取得"
   ]
  },
  {
   "cell_type": "code",
   "execution_count": 5,
   "metadata": {},
   "outputs": [
    {
     "data": {
      "text/plain": [
       "27.0"
      ]
     },
     "execution_count": 5,
     "metadata": {},
     "output_type": "execute_result"
    }
   ],
   "source": [
    "ac.ACSet('主たる居室','','冷房','平日','温度', 23)"
   ]
  },
  {
   "cell_type": "code",
   "execution_count": null,
   "metadata": {
    "collapsed": true
   },
   "outputs": [],
   "source": []
  }
 ],
 "metadata": {
  "kernelspec": {
   "display_name": "Python 3",
   "language": "python",
   "name": "python3"
  },
  "language_info": {
   "codemirror_mode": {
    "name": "ipython",
    "version": 3
   },
   "file_extension": ".py",
   "mimetype": "text/x-python",
   "name": "python",
   "nbconvert_exporter": "python",
   "pygments_lexer": "ipython3",
   "version": "3.6.5"
  }
 },
 "nbformat": 4,
 "nbformat_minor": 2
}
