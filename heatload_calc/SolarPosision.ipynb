{
 "cells": [
  {
   "cell_type": "code",
   "execution_count": 1,
   "metadata": {
    "collapsed": true
   },
   "outputs": [],
   "source": [
    "import math\n",
    "import datetime"
   ]
  },
  {
   "cell_type": "code",
   "execution_count": 2,
   "metadata": {
    "collapsed": true
   },
   "outputs": [],
   "source": [
    "# 太陽位置\n",
    "# VBA では、mdlDefine モジュールにあったものを、モジュール　SolarPosision で記述することにした。\n",
    "class defSolpos:\n",
    "    \n",
    "    def __init__(self, dblSh, dblSw, dblSs, dblh, dblA):\n",
    "        \n",
    "        # sin h\n",
    "        self.dblSh = dblSh\n",
    "        \n",
    "        # cos h sin A\n",
    "        self.dblSw = dblSw\n",
    "\n",
    "        # cos h cos A\n",
    "        self.dblSs = dblSs\n",
    "\n",
    "        # 太陽高度\n",
    "        self.dblh = dblh\n",
    "        \n",
    "        # 太陽方位角\n",
    "        self.dblA = dblA"
   ]
  },
  {
   "cell_type": "code",
   "execution_count": 3,
   "metadata": {
    "collapsed": false
   },
   "outputs": [],
   "source": [
    "class SolarPosision:\n",
    "    \n",
    "    # 冬至の日赤緯\n",
    "    mconDelta0 = -23.4393\n",
    "    \n",
    "    # 緯度経度を読み込み計算準備\n",
    "    def __init__(self, Lat, Lon, Ls):\n",
    "        \n",
    "        # 緯度\n",
    "        dblLat = math.radians(Lat)\n",
    "        # 経度\n",
    "        dblLon = math.radians(Lon)\n",
    "        # 標準子午線\n",
    "        dblLs = math.radians(Ls)\n",
    "        \n",
    "        # 地域情報の初期化\n",
    "        self.__dblCosPhi = math.cos(dblLat)\n",
    "        self.__dblSinPhi = math.sin(dblLat)\n",
    "        self.__dblLLs = dblLon - dblLs\n",
    "        self.__dblSinD0 = math.sin(math.radians(self.mconDelta0))\n",
    "        self.__dblCoeff = 360.0 / 365.2596\n",
    "    \n",
    "    def CalcSolpos(self, dtmDate):\n",
    "        # dtmDate: Datetime型\n",
    "        dblTm = dtmDate.hour + dtmDate.minute / 60.0 + dtmDate.second / 3600.0\n",
    "        lngNowNday = datetime.Date(dtmDate.year, dtmDate)\n",
    "        \n",
    "        \n",
    "        "
   ]
  },
  {
   "cell_type": "code",
   "execution_count": 4,
   "metadata": {
    "collapsed": false
   },
   "outputs": [],
   "source": [
    "s = SolarPosision(34.6583333333333, 133.918333333333, 135)"
   ]
  },
  {
   "cell_type": "code",
   "execution_count": null,
   "metadata": {
    "collapsed": true
   },
   "outputs": [],
   "source": []
  }
 ],
 "metadata": {
  "kernelspec": {
   "display_name": "Python 3",
   "language": "python",
   "name": "python3"
  },
  "language_info": {
   "codemirror_mode": {
    "name": "ipython",
    "version": 3
   },
   "file_extension": ".py",
   "mimetype": "text/x-python",
   "name": "python",
   "nbconvert_exporter": "python",
   "pygments_lexer": "ipython3",
   "version": "3.6.2"
  }
 },
 "nbformat": 4,
 "nbformat_minor": 2
}
