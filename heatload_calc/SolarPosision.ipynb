{
 "cells": [
  {
   "cell_type": "code",
   "execution_count": 1,
   "metadata": {},
   "outputs": [],
   "source": [
    "import math\n",
    "import datetime"
   ]
  },
  {
   "cell_type": "markdown",
   "metadata": {},
   "source": [
    "# 太陽位置を計算するクラス"
   ]
  },
  {
   "cell_type": "markdown",
   "metadata": {},
   "source": [
    "## 1) 太陽位置を保持するクラス"
   ]
  },
  {
   "cell_type": "markdown",
   "metadata": {},
   "source": [
    "太陽位置を保持するクラスを定義します。\n",
    "\n",
    "- dbSh=sin(h)\n",
    "- dblSw=cos(h)*sin(A)\n",
    "- dblSs=cos(h)*cos(A)\n",
    "- dblh=太陽高度[rad]\n",
    "- dblA=太陽方位角[rad]"
   ]
  },
  {
   "cell_type": "code",
   "execution_count": 2,
   "metadata": {},
   "outputs": [],
   "source": [
    "# 太陽位置\n",
    "# VBA では、mdlDefine モジュールにあったものを、モジュール　SolarPosision で記述することにした。\n",
    "class defSolpos:\n",
    "    \n",
    "    def __init__(self, dblSh, dblSw, dblSs, dblh, dblA):\n",
    "        \n",
    "        # sin h\n",
    "        self.dblSh = dblSh\n",
    "        \n",
    "        # cos h sin A\n",
    "        self.dblSw = dblSw\n",
    "\n",
    "        # cos h cos A\n",
    "        self.dblSs = dblSs\n",
    "\n",
    "        # 太陽高度\n",
    "        self.dblh = dblh\n",
    "        \n",
    "        # 太陽方位角\n",
    "        self.dblA = dblA\n",
    "    \n",
    "    def dblh(self):\n",
    "        return(self.dblh)\n",
    "    def dblA(self):\n",
    "        return(self.dblA)\n",
    "    def dblSh(sefl):\n",
    "        return(self.dblSh)\n",
    "    def dblSw(sefl):\n",
    "        return(self.dblSw)\n",
    "    def dblSs(sefl):\n",
    "        return(self.dblSs)"
   ]
  },
  {
   "cell_type": "markdown",
   "metadata": {},
   "source": [
    "## 2) 太陽位置を計算するクラス\n",
    "- 太陽位置を計算します\n",
    "\n",
    "### Constructor parameters\n",
    "```\n",
    "'Lat'      ：緯度[゜]\n",
    "'Lon'     ：経度[゜]\n",
    "'Ls'       ：標準子午線[゜]\n",
    "```\n",
    "\n",
    "### Class Definition"
   ]
  },
  {
   "cell_type": "code",
   "execution_count": 3,
   "metadata": {},
   "outputs": [],
   "source": [
    "class SolarPosision:\n",
    "    \n",
    "    # 冬至の日赤緯\n",
    "    mconDelta0 = -23.4393\n",
    "    \n",
    "    # \n",
    "    lngN=1989-1968\n",
    "    # 赤緯の正弦\n",
    "    dblSinD=0.0\n",
    "    # 赤緯の余弦\n",
    "    dblCosD=0.0\n",
    "    # 太陽位置収録クラス\n",
    "    Solpos=defSolpos\n",
    "    \n",
    "    # 緯度経度を読み込み計算準備\n",
    "    # 緯度、経度、標準子午線を引数として初期化する\n",
    "    def __init__(self, Lat, Lon, Ls):\n",
    "        \n",
    "        # 緯度\n",
    "        dblLat = math.radians(Lat)\n",
    "        # 経度\n",
    "        dblLon = math.radians(Lon)\n",
    "        # 標準子午線\n",
    "        dblLs = math.radians(Ls)\n",
    "        \n",
    "        # 地域情報の初期化\n",
    "        self.__dblCosPhi = math.cos(dblLat)\n",
    "        self.__dblSinPhi = math.sin(dblLat)\n",
    "        self.__dblLLs = dblLon - dblLs\n",
    "        self.__dblSinD0 = math.sin(math.radians(self.mconDelta0))\n",
    "        self.__dblCoeff = 360.0 / 365.2596\n",
    "        \n",
    "    \n",
    "    # 平均軌道上の近日点通過日（暦表時による1968年1月1日正午基準日差）\n",
    "    def Calcd0(self):\n",
    "        return 3.71 + 0.2596 * self.lngN - int((self.lngN + 3.0) / 4.0)\n",
    "    # 均時差の計算\n",
    "    def CalcEt(self,dtmDate):\n",
    "        # 通日の計算\n",
    "        lngNowNday=self.__Nday(dtmDate.month,dtmDate.day)\n",
    "        \n",
    "        # 平均近点離角Mの計算\n",
    "        dblM = self.__dblCoeff * (lngNowNday-self.Calcd0())\n",
    "        # 近日点と冬至点の角度\n",
    "        dble=12.3901 + 0.0172 * (self.lngN + dblM / 360.0)\n",
    "        # 真近点離角の計算\n",
    "        dblV=dblM + 1.914 * math.sin(math.radians(dblM)) \\\n",
    "                + 0.02 * math.sin(math.radians(dblM * 2.0))\n",
    "        \n",
    "        dblRad2VE = math.radians(dblV + dble)\n",
    "        # 赤緯の正弦\n",
    "        self.dblSinD = math.cos(dblRad2VE) * self.__dblSinD0\n",
    "        # 赤緯の余弦\n",
    "        self.dblCosD = math.sqrt(1.0 - self.dblSinD * self.dblSinD)\n",
    "        \n",
    "        # 中心差による時差\n",
    "        dblEt1 = dblM - dblV\n",
    "        # 太陽赤経と太陽黄経の差\n",
    "        dblRad2VE = dblRad2VE * 2.0\n",
    "        dblEt2 = math.degrees(math.atan(0.043 * math.sin(dblRad2VE) \\\n",
    "                / (1.0 - 0.043 * math.cos(dblRad2VE))))\n",
    "        return dblEt1-dblEt2\n",
    "    # 太陽位置を計算する\n",
    "    def CalcSolpos(self, dtmDate):\n",
    "        # dtmDate: Datetime型\n",
    "        \n",
    "        # 標準時の計算\n",
    "        dblTm = dtmDate.hour + dtmDate.minute / 60.0 + dtmDate.second / 3600.0\n",
    "        # 通日の計算\n",
    "        lngNowNday = self.__Nday(dtmDate.month,dtmDate.day)\n",
    "        # 均時差の計算\n",
    "        dblEt=self.CalcEt(dtmDate)\n",
    "        # 時角の計算\n",
    "        dblT = math.radians(15.0 * (dblTm - 12.0) + math.degrees(self.__dblLLs) + dblEt)\n",
    "        # print('Tm=',dblTm,'Et=',dblEt,'T=',dblT)\n",
    "        # 太陽位置の計算\n",
    "        self.Solpos.dblSh= max(self.__dblSinPhi * self.dblSinD \\\n",
    "            + self.__dblCosPhi * self.dblCosD * math.cos(dblT),0.0)\n",
    "        # print('SinPhi=',self.__dblSinPhi,'SinD=',self.dblSinD,'CosPhi=',self.__dblCosPhi,'CosD=',self.dblCosD,'Sh=',self.Solpos.dblSh)\n",
    "        # 太陽高度\n",
    "        self.Solpos.dblh=math.asin(self.Solpos.dblSh)\n",
    "        if self.Solpos.dblSh>0.:\n",
    "            dblCosh=math.sqrt(1.0-self.Solpos.dblSh*self.Solpos.dblSh)\n",
    "            dblSinA = self.dblCosD * math.sin(dblT) / dblCosh\n",
    "            dblCosA = (self.Solpos.dblSh * self.__dblSinPhi - self.dblSinD) \\\n",
    "                / (dblCosh * self.__dblCosPhi)\n",
    "            dblTemp=1.0\n",
    "            if dblT<0.0:\n",
    "                dblTemp=-1.0\n",
    "            self.Solpos.dblA = dblTemp * math.acos(dblCosA)\n",
    "            self.Solpos.dblSs = dblCosh * dblCosA\n",
    "            self.Solpos.dblSw = dblCosh * dblSinA\n",
    "        else:\n",
    "            self.Solpos.dblSs = 0.0\n",
    "            self.Solpos.dblSw = 0.0\n",
    "            self.Solpos.dblA = 0.0\n",
    "        \n",
    "        # print('h=',self.Solpos.dblh,'A=',self.Solpos.dblA)\n",
    "        return(self.Solpos)\n",
    "    #通日を計算するモジュール\n",
    "    def __Nday(self,Mo,Day):\n",
    "        NewYear = datetime.datetime(2017,1,1)\n",
    "        ThatDay = datetime.datetime(2017,Mo,Day)\n",
    "        Ndays = ThatDay - NewYear\n",
    "        return (Ndays.days + 1)"
   ]
  },
  {
   "cell_type": "markdown",
   "metadata": {},
   "source": [
    "### Initialize Example\n",
    "- 緯度：34.6583333333333[゜]\n",
    "- 経度：133.918333333333[゜]\n",
    "- 標準子午線：135[゜]"
   ]
  },
  {
   "cell_type": "code",
   "execution_count": 4,
   "metadata": {},
   "outputs": [],
   "source": [
    "s = SolarPosision(34.6583333333333, 133.918333333333, 135)"
   ]
  },
  {
   "cell_type": "markdown",
   "metadata": {},
   "source": [
    "### Calculate Example\n",
    "- 1989年2月1日12:00の太陽位置を計算する"
   ]
  },
  {
   "cell_type": "code",
   "execution_count": 5,
   "metadata": {},
   "outputs": [
    {
     "name": "stdout",
     "output_type": "stream",
     "text": [
      "1989-02-01 12:00:00\n",
      "h= 0.6632713992400502 A= -0.09463752489056546\n"
     ]
    }
   ],
   "source": [
    "CalcDate=datetime.datetime(1989,2,1,12,0,0)\n",
    "print(CalcDate)\n",
    "sp=s.CalcSolpos(CalcDate)\n",
    "print('h=',sp.dblh,'A=',sp.dblA)"
   ]
  },
  {
   "cell_type": "code",
   "execution_count": null,
   "metadata": {},
   "outputs": [],
   "source": []
  }
 ],
 "metadata": {
  "kernelspec": {
   "display_name": "Python 3",
   "language": "python",
   "name": "python3"
  },
  "language_info": {
   "codemirror_mode": {
    "name": "ipython",
    "version": 3
   },
   "file_extension": ".py",
   "mimetype": "text/x-python",
   "name": "python",
   "nbconvert_exporter": "python",
   "pygments_lexer": "ipython3",
   "version": "3.6.5"
  }
 },
 "nbformat": 4,
 "nbformat_minor": 2
}
