{
 "cells": [
  {
   "cell_type": "code",
   "execution_count": 1,
   "metadata": {},
   "outputs": [],
   "source": [
    "import csv"
   ]
  },
  {
   "cell_type": "markdown",
   "metadata": {},
   "source": [
    "# 機器発熱スケジュールを保持するクラス\n",
    "- csvファイルから毎時の機器発熱スケジュールを読み込み、辞書型として保持します。\n",
    "- メソッド'Appl'は、「室名」、「室分類」、「機器発熱分類（'顕熱' or '潜熱'）」、「曜日（'平日' or '休日'）」および「時刻」を与えると、指定した時刻の機器発熱量を返します。\n",
    "- 顕熱発熱量の単位は[W], 潜熱発熱量の単位は[g/h]です。"
   ]
  },
  {
   "cell_type": "code",
   "execution_count": 2,
   "metadata": {},
   "outputs": [],
   "source": [
    "# 機器発熱スケジュールデータ\n",
    "class Appl:\n",
    "\n",
    "    # 機器発熱スケジュールデータの取得\n",
    "    def __init__(self):\n",
    "        \n",
    "        # 機器発熱スケジュールの読み込み\n",
    "        with open('appliances.csv', encoding='utf-8') as f:\n",
    "            reader = csv.reader(f)\n",
    "            header = next(reader)\n",
    "            \n",
    "            # 機器発熱\n",
    "            self.__dicAppl={}\n",
    "            \n",
    "            for row in reader:\n",
    "                strRoomName = row[0] # 室名\n",
    "                strRoomDiv = row[1]  # 室分類\n",
    "                strSHLH = row[2]     # 機器発熱分類（'顕熱' or '潜熱'）\n",
    "                strWeek =row[3]      # 曜日（'平日' or '休日'）\n",
    "                \n",
    "                # 毎時スケジュールのリストを設定\n",
    "                dblHourly=[]         \n",
    "                for hour in range(24):\n",
    "                    dblHourly.append(float(row[hour + 4]))\n",
    "                \n",
    "                # 機器発熱をセット\n",
    "                # 顕熱の単位は[W], 潜熱の単位は[g/h]\n",
    "                key = strRoomName + ',' + strRoomDiv + ',' + strWeek + ',' + strSHLH\n",
    "                self.__dicAppl[key] = dblHourly\n",
    "                \n",
    "\n",
    "    # 機器発熱\n",
    "    def dicAppl(self):\n",
    "        return self.__dicAppl\n",
    "        \n",
    "    # 指定した時刻の機器発熱量の取得\n",
    "    def Appl(self, strRoomName, strRoomDiv, strWeek, strSHLH, lngTime):\n",
    "        key = strRoomName + ',' + strRoomDiv + ',' + strWeek + ',' + strSHLH\n",
    "        vntHourly=self.__dicAppl[key] \n",
    "        return vntHourly[lngTime]"
   ]
  },
  {
   "cell_type": "markdown",
   "metadata": {},
   "source": [
    "## Example"
   ]
  },
  {
   "cell_type": "code",
   "execution_count": 3,
   "metadata": {},
   "outputs": [],
   "source": [
    "ap=Appl()"
   ]
  },
  {
   "cell_type": "markdown",
   "metadata": {},
   "source": [
    "### keyの取得"
   ]
  },
  {
   "cell_type": "code",
   "execution_count": 4,
   "metadata": {},
   "outputs": [
    {
     "data": {
      "text/plain": [
       "dict_keys(['主たる居室,,平日,顕熱', '主たる居室,,休日,顕熱', '主たる居室,,平日,潜熱', '主たる居室,,休日,潜熱', '非居室,,平日,顕熱', '非居室,,休日,顕熱', 'その他居室,子供室1,平日,顕熱', 'その他居室,子供室1,休日,顕熱', 'その他居室,子供室2,平日,顕熱', 'その他居室,子供室2,休日,顕熱', 'その他居室,寝室,平日,顕熱', 'その他居室,寝室,休日,顕熱'])"
      ]
     },
     "execution_count": 4,
     "metadata": {},
     "output_type": "execute_result"
    }
   ],
   "source": [
    "ap.dicAppl().keys()"
   ]
  },
  {
   "cell_type": "markdown",
   "metadata": {},
   "source": [
    "### Itemの取得"
   ]
  },
  {
   "cell_type": "code",
   "execution_count": 5,
   "metadata": {},
   "outputs": [
    {
     "data": {
      "text/plain": [
       "[0.0,\n",
       " 0.0,\n",
       " 0.0,\n",
       " 0.0,\n",
       " 0.0,\n",
       " 0.0,\n",
       " 0.0,\n",
       " 0.0,\n",
       " 0.0,\n",
       " 0.0,\n",
       " 0.0,\n",
       " 0.0,\n",
       " 0.0,\n",
       " 0.0,\n",
       " 0.0,\n",
       " 0.0,\n",
       " 0.0,\n",
       " 0.0,\n",
       " 0.0,\n",
       " 0.0,\n",
       " 0.0,\n",
       " 0.0,\n",
       " 0.0,\n",
       " 0.0]"
      ]
     },
     "execution_count": 5,
     "metadata": {},
     "output_type": "execute_result"
    }
   ],
   "source": [
    "ap.dicAppl()['主たる居室,,平日,顕熱']"
   ]
  },
  {
   "cell_type": "markdown",
   "metadata": {},
   "source": [
    "### 指定した時刻の機器発熱量を取得"
   ]
  },
  {
   "cell_type": "code",
   "execution_count": 6,
   "metadata": {},
   "outputs": [
    {
     "data": {
      "text/plain": [
       "0.0"
      ]
     },
     "execution_count": 6,
     "metadata": {},
     "output_type": "execute_result"
    }
   ],
   "source": [
    "ap.Appl('主たる居室','','平日','顕熱',23)"
   ]
  },
  {
   "cell_type": "code",
   "execution_count": null,
   "metadata": {},
   "outputs": [],
   "source": []
  }
 ],
 "metadata": {
  "kernelspec": {
   "display_name": "Python 3",
   "language": "python",
   "name": "python3"
  },
  "language_info": {
   "codemirror_mode": {
    "name": "ipython",
    "version": 3
   },
   "file_extension": ".py",
   "mimetype": "text/x-python",
   "name": "python",
   "nbconvert_exporter": "python",
   "pygments_lexer": "ipython3",
   "version": "3.6.5"
  }
 },
 "nbformat": 4,
 "nbformat_minor": 2
}
