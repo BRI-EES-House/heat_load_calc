{
 "cells": [
  {
   "cell_type": "code",
   "execution_count": 1,
   "metadata": {},
   "outputs": [],
   "source": [
    "import nbimporter"
   ]
  },
  {
   "cell_type": "code",
   "execution_count": 2,
   "metadata": {},
   "outputs": [
    {
     "name": "stdout",
     "output_type": "stream",
     "text": [
      "Importing Jupyter notebook from Exsrf.ipynb\n",
      "Importing Jupyter notebook from SolarPosision.ipynb\n"
     ]
    }
   ],
   "source": [
    "import Exsrf\n",
    "from Exsrf import Exsrf"
   ]
  },
  {
   "cell_type": "markdown",
   "metadata": {},
   "source": [
    "# 複数の外表面情報を保持するクラス"
   ]
  },
  {
   "cell_type": "markdown",
   "metadata": {},
   "source": [
    "- 外表面に関する入力情報を辞書型で受け取り、外表面関連情報を保持するクラスをインスタンス化します。\n",
    "- 複数の外表面情報を配列で保持します。\n",
    "\n",
    "### Constructor parameters\n",
    "```\n",
    "d = {\n",
    "    'Surface': [\n",
    "        {\n",
    "            'Name'              : # 名称\n",
    "            'DirectionAngle'    : # 方位角\n",
    "            'InclinationAngle'  : # 傾斜角\n",
    "            'GroundReflectRate' : # 地面反射率\n",
    "            'TempDifferFactor'  : # 温度差係数\n",
    "        }\n",
    "    ]\n",
    "}\n",
    "```\n",
    "### Class Definition"
   ]
  },
  {
   "cell_type": "code",
   "execution_count": 3,
   "metadata": {},
   "outputs": [],
   "source": [
    "class ExsrfMng:\n",
    "    \n",
    "    # 初期化\n",
    "    def __init__(self, d):\n",
    "        \n",
    "        # 外表面情報インスタンスの配列を作成\n",
    "        self.__objExsrf = []\n",
    "        for d_surface in d['Surface']:\n",
    "            IsOuterSkin = True if abs(d_surface['TempDifferFactor']) < 0.000001 else False\n",
    "            print(IsOuterSkin)\n",
    "            surface = Exsrf( d_surface['Name'], d_surface['DirectionAngle'], d_surface['InclinationAngle'], d_surface['GroundReflectRate'], d_surface['TempDifferFactor'], IsOuterSkin )\n",
    "            self.__objExsrf.append(surface)\n",
    "            \n",
    "        # 壁体登録数\n",
    "        self.__lngNExsrf = len( self.__objExsrf ) - 1\n",
    "        \n",
    "        # 外表面名称から外表面番号を変換する\n",
    "        self.__dicExsrfName = {}\n",
    "        for lngI, x in enumerate(self.__objExsrf):\n",
    "            self.__dicExsrfName[x.Name()] = lngI\n",
    "    \n",
    "    # 傾斜面日射量の計算\n",
    "    def CalcSlopSol(self, solpos, dblIdn, dblIsky):\n",
    "        # solpos  : 太陽位置の情報を保持するクラス'defSolpos'\n",
    "        # dblIdn  : 法線面直達日射量[W/m2]\n",
    "        # dblIsky : 水平面天空日射量[W/m2]\n",
    "        for obj in self.__objExsrf:\n",
    "            obj.CalcSlopSol(solpos, dblIdn, dblIsky)\n",
    "    \n",
    "    # 名称から外表面情報を取得\n",
    "    def ExsrfobjByName(self, strName):\n",
    "        return self.__objExsrf[self.__dicExsrfName[strName]]\n",
    "    \n",
    "    # インデックスから外表面情報を取得\n",
    "    def ExsrfobjByIndex(self, lngExsrf):\n",
    "        return self.__objExsrf[lngExsrf]\n",
    "    \n",
    "    # 外表面の定義数を取得\n",
    "    def N(self):\n",
    "        return self.__lngNExsrf\n",
    "    \n",
    "    # 傾斜面日射量\n",
    "    def Iwi(self, lngExsrf):\n",
    "        Iwi = -999#\n",
    "        if lngExsrf <= self.__lngNExsrf:\n",
    "            Iwi = self.__objExsrf[lngExsrf].Iw()\n",
    "        return Iwi\n",
    "    \n",
    "    # 傾斜面直達日射量\n",
    "    def Idi(self, lngExsrf):\n",
    "        Idi = -999#\n",
    "        if lngExsrf <= self.__lngNExsrf:\n",
    "            Idi = self.__objExsrf[lngExsrf].Id()\n",
    "        return Idi\n",
    "    \n",
    "    # 傾斜面天空日射量\n",
    "    def Iski(self, lngExsrf):\n",
    "        Iski = -999#\n",
    "        if lngExsrf <= self.__lngNExsrf:\n",
    "            Iski = self.__objExsrf[lngExsrf].Isk()\n",
    "        return Iski\n",
    "    \n",
    "    # 傾斜面反射日射量\n",
    "    def Iri(self, lngExsrf):\n",
    "        Iri = -999#\n",
    "        if lngExsrf <= self.__lngNExsrf:\n",
    "            Iri = self.__objExsrf[lngExsrf].Ir()\n",
    "        return Iri"
   ]
  },
  {
   "cell_type": "markdown",
   "metadata": {},
   "source": [
    "### Example"
   ]
  },
  {
   "cell_type": "code",
   "execution_count": 4,
   "metadata": {},
   "outputs": [
    {
     "name": "stdout",
     "output_type": "stream",
     "text": [
      "True\n"
     ]
    }
   ],
   "source": [
    "d = {\n",
    "    'Surface': [\n",
    "        {\n",
    "            'Name'              : 'North',\n",
    "            'DirectionAngle'    : 180,\n",
    "            'InclinationAngle'  : 90,\n",
    "            'GroundReflectRate' : 0.1,\n",
    "            'TempDifferFactor'  : 0.0\n",
    "        }\n",
    "    ]\n",
    "}\n",
    "\n",
    "exsrfmng = ExsrfMng( d )"
   ]
  },
  {
   "cell_type": "markdown",
   "metadata": {},
   "source": [
    "### Example\n",
    "#### 外表面の各情報の取得"
   ]
  },
  {
   "cell_type": "code",
   "execution_count": 5,
   "metadata": {},
   "outputs": [
    {
     "name": "stdout",
     "output_type": "stream",
     "text": [
      "名称： North\n",
      "傾斜面方位角： 3.141592653589793\n",
      "天空の形態係数： 0.5\n",
      "外皮かどうか： True\n"
     ]
    }
   ],
   "source": [
    "print('名称：', exsrfmng.ExsrfobjByIndex(0).Name() )\n",
    "print('傾斜面方位角：', exsrfmng.ExsrfobjByIndex(0).Wa() )\n",
    "print('天空の形態係数：', exsrfmng.ExsrfobjByIndex(0).Fs() )\n",
    "print('外皮かどうか：', exsrfmng.ExsrfobjByIndex(0).Skin() )"
   ]
  },
  {
   "cell_type": "markdown",
   "metadata": {},
   "source": [
    "#### 外表面の定義数を取得"
   ]
  },
  {
   "cell_type": "code",
   "execution_count": 6,
   "metadata": {},
   "outputs": [
    {
     "data": {
      "text/plain": [
       "0"
      ]
     },
     "execution_count": 6,
     "metadata": {},
     "output_type": "execute_result"
    }
   ],
   "source": [
    "exsrfmng.N()"
   ]
  },
  {
   "cell_type": "markdown",
   "metadata": {},
   "source": [
    "#### 傾斜面日射量を取得"
   ]
  },
  {
   "cell_type": "code",
   "execution_count": 7,
   "metadata": {},
   "outputs": [
    {
     "ename": "AttributeError",
     "evalue": "'Exsrf' object has no attribute '_Exsrf__dblIw'",
     "output_type": "error",
     "traceback": [
      "\u001b[1;31m---------------------------------------------------------------------------\u001b[0m",
      "\u001b[1;31mAttributeError\u001b[0m                            Traceback (most recent call last)",
      "\u001b[1;32m<ipython-input-7-254c2de8ca90>\u001b[0m in \u001b[0;36m<module>\u001b[1;34m()\u001b[0m\n\u001b[1;32m----> 1\u001b[1;33m \u001b[0mexsrfmng\u001b[0m\u001b[1;33m.\u001b[0m\u001b[0mIwi\u001b[0m\u001b[1;33m(\u001b[0m\u001b[1;36m0\u001b[0m\u001b[1;33m)\u001b[0m\u001b[1;33m\u001b[0m\u001b[0m\n\u001b[0m",
      "\u001b[1;32m<ipython-input-3-9dc4d852d616>\u001b[0m in \u001b[0;36mIwi\u001b[1;34m(self, lngExsrf)\u001b[0m\n\u001b[0;32m     44\u001b[0m         \u001b[0mIwi\u001b[0m \u001b[1;33m=\u001b[0m \u001b[1;33m-\u001b[0m\u001b[1;36m999\u001b[0m\u001b[1;31m#\u001b[0m\u001b[1;33m\u001b[0m\u001b[0m\n\u001b[0;32m     45\u001b[0m         \u001b[1;32mif\u001b[0m \u001b[0mlngExsrf\u001b[0m \u001b[1;33m<=\u001b[0m \u001b[0mself\u001b[0m\u001b[1;33m.\u001b[0m\u001b[0m__lngNExsrf\u001b[0m\u001b[1;33m:\u001b[0m\u001b[1;33m\u001b[0m\u001b[0m\n\u001b[1;32m---> 46\u001b[1;33m             \u001b[0mIwi\u001b[0m \u001b[1;33m=\u001b[0m \u001b[0mself\u001b[0m\u001b[1;33m.\u001b[0m\u001b[0m__objExsrf\u001b[0m\u001b[1;33m[\u001b[0m\u001b[0mlngExsrf\u001b[0m\u001b[1;33m]\u001b[0m\u001b[1;33m.\u001b[0m\u001b[0mIw\u001b[0m\u001b[1;33m(\u001b[0m\u001b[1;33m)\u001b[0m\u001b[1;33m\u001b[0m\u001b[0m\n\u001b[0m\u001b[0;32m     47\u001b[0m         \u001b[1;32mreturn\u001b[0m \u001b[0mIwi\u001b[0m\u001b[1;33m\u001b[0m\u001b[0m\n\u001b[0;32m     48\u001b[0m \u001b[1;33m\u001b[0m\u001b[0m\n",
      "\u001b[1;32m~\\Documents\\sourcetree\\kiseisokue7\\e7_inputdataconvert\\heatload_calc\\Exsrf.ipynb\u001b[0m in \u001b[0;36mIw\u001b[1;34m(self)\u001b[0m\n\u001b[0;32m     72\u001b[0m     \u001b[1;34m\"        self.__dblWb = math.radians(InclinationAngle) # 傾斜角[rad]\\n\"\u001b[0m\u001b[1;33m,\u001b[0m\u001b[1;33m\u001b[0m\u001b[0m\n\u001b[0;32m     73\u001b[0m     \u001b[1;34m\"        self.__dblRg = GroundReflectRate              # 地面反射率[-]\\n\"\u001b[0m\u001b[1;33m,\u001b[0m\u001b[1;33m\u001b[0m\u001b[0m\n\u001b[1;32m---> 74\u001b[1;33m     \u001b[1;34m\"        self.__dblR = TempDifferFactor                # 温度差係数[-]\\n\"\u001b[0m\u001b[1;33m,\u001b[0m\u001b[1;33m\u001b[0m\u001b[0m\n\u001b[0m\u001b[0;32m     75\u001b[0m     \u001b[1;34m\"        self.__blnSkin = IsOuterSkin                  # 外皮かどうか, bool値\\n\"\u001b[0m\u001b[1;33m,\u001b[0m\u001b[1;33m\u001b[0m\u001b[0m\n\u001b[0;32m     76\u001b[0m     \u001b[1;34m\"        \\n\"\u001b[0m\u001b[1;33m,\u001b[0m\u001b[1;33m\u001b[0m\u001b[0m\n",
      "\u001b[1;31mAttributeError\u001b[0m: 'Exsrf' object has no attribute '_Exsrf__dblIw'"
     ]
    }
   ],
   "source": [
    "exsrfmng.Iwi(0)"
   ]
  },
  {
   "cell_type": "code",
   "execution_count": null,
   "metadata": {},
   "outputs": [],
   "source": []
  }
 ],
 "metadata": {
  "kernelspec": {
   "display_name": "Python 3",
   "language": "python",
   "name": "python3"
  },
  "language_info": {
   "codemirror_mode": {
    "name": "ipython",
    "version": 3
   },
   "file_extension": ".py",
   "mimetype": "text/x-python",
   "name": "python",
   "nbconvert_exporter": "python",
   "pygments_lexer": "ipython3",
   "version": "3.6.5"
  }
 },
 "nbformat": 4,
 "nbformat_minor": 2
}
