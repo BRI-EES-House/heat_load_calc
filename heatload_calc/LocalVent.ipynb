{
 "cells": [
  {
   "cell_type": "code",
   "execution_count": 1,
   "metadata": {},
   "outputs": [],
   "source": [
    "import csv"
   ]
  },
  {
   "cell_type": "markdown",
   "metadata": {},
   "source": [
    "# 局所換気スケジュールを保持するクラス\n",
    "- csvファイルから毎時の局所換気スケジュールを読み込み、辞書型として保持します。\n",
    "- メソッド'Vent'は、「室名」、「室分類」、「曜日（'平日' or '休日'）」および「時刻」を与えると、指定した時刻の局所換気量を返します。\n",
    "- 局所換気量の単位は[m3/h]です。"
   ]
  },
  {
   "cell_type": "code",
   "execution_count": 2,
   "metadata": {},
   "outputs": [],
   "source": [
    "# 局所換気スケジュールデータ\n",
    "class LocalVent:\n",
    "\n",
    "    # 局所換気スケジュールデータの取得\n",
    "    def __init__(self):\n",
    "        \n",
    "        # 局所換気スケジュールの読み込み\n",
    "        with open('LocalVentSchedule.csv', encoding='utf-8') as f:\n",
    "            reader = csv.reader(f)\n",
    "            header = next(reader)\n",
    "            \n",
    "            # 局所換気\n",
    "            self.__dicVent={}\n",
    "            \n",
    "            for row in reader:\n",
    "                strRoomName = row[0] # 室名\n",
    "                strRoomDiv = row[1]  # 室分類\n",
    "                strWeek =row[2]      # 曜日（'平日' or '休日'）\n",
    "                \n",
    "                # 毎時スケジュールのリストを設定\n",
    "                dblHourly=[]         \n",
    "                for hour in range(24):\n",
    "                    dblHourly.append(float(row[hour + 3]))\n",
    "                \n",
    "                # 局所換気をセット\n",
    "                # 単位は[m3/h]\n",
    "                key = strRoomName + ',' + strRoomDiv + ',' + strWeek \n",
    "                self.__dicVent[key] = dblHourly\n",
    "                \n",
    "\n",
    "    # 局所換気\n",
    "    def dicVent(self):\n",
    "        return self.__dicVent\n",
    "        \n",
    "    # 指定した時刻の局所換気量の取得\n",
    "    def Vent(self, strRoomName, strRoomDiv, strWeek, lngTime):\n",
    "        key = strRoomName + ',' + strRoomDiv + ',' + strWeek\n",
    "        vntHourly=self.__dicVent[key] \n",
    "        return vntHourly[lngTime]"
   ]
  },
  {
   "cell_type": "markdown",
   "metadata": {},
   "source": [
    "## Example"
   ]
  },
  {
   "cell_type": "code",
   "execution_count": 3,
   "metadata": {},
   "outputs": [],
   "source": [
    "ve=LocalVent()"
   ]
  },
  {
   "cell_type": "markdown",
   "metadata": {},
   "source": [
    "### keyの取得"
   ]
  },
  {
   "cell_type": "code",
   "execution_count": 4,
   "metadata": {},
   "outputs": [
    {
     "data": {
      "text/plain": [
       "dict_keys(['主たる居室,,平日', '主たる居室,,休日', '非居室,,平日', '非居室,,休日'])"
      ]
     },
     "execution_count": 4,
     "metadata": {},
     "output_type": "execute_result"
    }
   ],
   "source": [
    "ve.dicVent().keys()"
   ]
  },
  {
   "cell_type": "markdown",
   "metadata": {},
   "source": [
    "### Itemの取得"
   ]
  },
  {
   "cell_type": "code",
   "execution_count": 5,
   "metadata": {},
   "outputs": [
    {
     "data": {
      "text/plain": [
       "[0.0,\n",
       " 0.0,\n",
       " 0.0,\n",
       " 0.0,\n",
       " 0.0,\n",
       " 0.0,\n",
       " 0.0,\n",
       " 0.0,\n",
       " 0.0,\n",
       " 0.0,\n",
       " 0.0,\n",
       " 0.0,\n",
       " 0.0,\n",
       " 0.0,\n",
       " 0.0,\n",
       " 0.0,\n",
       " 0.0,\n",
       " 0.0,\n",
       " 0.0,\n",
       " 0.0,\n",
       " 0.0,\n",
       " 0.0,\n",
       " 0.0,\n",
       " 0.0]"
      ]
     },
     "execution_count": 5,
     "metadata": {},
     "output_type": "execute_result"
    }
   ],
   "source": [
    "ve.dicVent()['主たる居室,,平日']"
   ]
  },
  {
   "cell_type": "markdown",
   "metadata": {},
   "source": [
    "### 指定した時刻の局所換気量を取得"
   ]
  },
  {
   "cell_type": "code",
   "execution_count": 6,
   "metadata": {},
   "outputs": [
    {
     "data": {
      "text/plain": [
       "0.0"
      ]
     },
     "execution_count": 6,
     "metadata": {},
     "output_type": "execute_result"
    }
   ],
   "source": [
    "ve.Vent('主たる居室','','平日',23)"
   ]
  },
  {
   "cell_type": "code",
   "execution_count": null,
   "metadata": {},
   "outputs": [],
   "source": []
  }
 ],
 "metadata": {
  "kernelspec": {
   "display_name": "Python 3",
   "language": "python",
   "name": "python3"
  },
  "language_info": {
   "codemirror_mode": {
    "name": "ipython",
    "version": 3
   },
   "file_extension": ".py",
   "mimetype": "text/x-python",
   "name": "python",
   "nbconvert_exporter": "python",
   "pygments_lexer": "ipython3",
   "version": "3.6.5"
  }
 },
 "nbformat": 4,
 "nbformat_minor": 2
}
