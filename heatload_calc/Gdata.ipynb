{
 "cells": [
  {
   "cell_type": "code",
   "execution_count": 1,
   "metadata": {
    "collapsed": true
   },
   "outputs": [],
   "source": [
    "import datetime"
   ]
  },
  {
   "cell_type": "code",
   "execution_count": 2,
   "metadata": {
    "collapsed": false
   },
   "outputs": [],
   "source": [
    "# シミュレーション全体の設定条件\n",
    "class Gdata:\n",
    "    \n",
    "    def __init__(self, dblDTime, lngApproach, SimStMo, SimStDay, SimEnMo, SimEnDay, lngNcalTime, blnDetailOut, strFFcalcMethod, dblFsolFlr, blnOTset):\n",
    "        # 計算対象年\n",
    "        self.__conlngYr = 1989\n",
    "        # 計算時間間隔(s)\n",
    "        self.__dblDTime = dblDTime\n",
    "        # 助走計算期間(day)\n",
    "        self.__lngApproach = lngApproach\n",
    "        # シミュレーション（本計算）の開始日\n",
    "        self.__dtmStDate = datetime.date(self.__conlngYr, SimStMo, SimStDay)\n",
    "        # シミュレーション（本計算）終了日\n",
    "        self.__dtmEnDate = datetime.date(self.__conlngYr, SimEnMo, SimEnDay)\n",
    "        # 開始日が終了日よりも後の月日の場合は、終了日にプラス1年加算する。\n",
    "        if self.__dtmStDate > self.__dtmEnDate:\n",
    "            self.__dtmEnDate = self.__dtmEnDate + datetime.timedelta(days=365)\n",
    "        # 助走計算開始時刻\n",
    "        self.__dtmApDate = self.__dtmStDate - datetime.timedelta(days=self.__lngApproach)\n",
    "        # 応答係数の作成時間数(hour)\n",
    "        self.__lngNcalTime = lngNcalTime\n",
    "        # 計算結果の行数\n",
    "        self.__lngOutputRow = int( ( (self.__dtmEnDate - self.__dtmStDate).days + 1 ) * 24 * 3600 / self.__dblDTime )\n",
    "        # comment - miura : 3600 / dblDtime が必ずしも整数になるとは限らない。その場合のエラー処理が必要か、そもそもdblDtimeではなくて、1時間の分割数とかで入力させるべき。\n",
    "        # 詳細出力フラグ\n",
    "        self.__blnDetailOut = blnDetailOut\n",
    "        # 形態係数の計算方法\n",
    "        self.__strFFcalcMethod = strFFcalcMethod\n",
    "        # 透過日射の床吸収比率\n",
    "        self.__dblFsolFlr = dblFsolFlr\n",
    "        # 作用温度設定フラグ\n",
    "        self.__blnOTset = blnOTset\n",
    "    \n",
    "    # 計算時間間隔の取得\n",
    "    def DTime(self):\n",
    "        return self.__dblDTime\n",
    "    \n",
    "    # 助走計算開始時刻の取得\n",
    "    def ApDate(self):\n",
    "        return self.__dtmApDate\n",
    "\n",
    "    # 本計算フラグ\n",
    "    def FlgOrig(self, dtmDate):\n",
    "        return (self.__dtmStDate <= dtmDate)\n",
    "    \n",
    "    # 計算終了日\n",
    "    def EnDate(self):\n",
    "        return self.__dtmEnDate\n",
    "\n",
    "    # 応答係数の項数\n",
    "    def M(self):\n",
    "        return int(self.__lngNcalTime * 3600 / self.__dblDTime + 1)\n",
    "    \n",
    "    # 計算結果の行数\n",
    "    def OutputRow(self):\n",
    "        return self.__lngOutputRow\n",
    "    \n",
    "    # 詳細計算結果出力フラグ\n",
    "    def DetailOut(self):\n",
    "        return self.__blnDetailOut\n",
    "    \n",
    "    # 形態係数の計算方法\n",
    "    def FFcalcMethod(self):\n",
    "        return self.__strFFcalcMethod\n",
    "    \n",
    "    # 透過日射の床吸収比率\n",
    "    def FsolFlr(self):\n",
    "        return self.__dblFsolFlr\n",
    "    \n",
    "    # 作用温度設定フラグ\n",
    "    def OTset(self):\n",
    "        return self.__blnOTset\n",
    "    "
   ]
  },
  {
   "cell_type": "code",
   "execution_count": 3,
   "metadata": {
    "collapsed": false
   },
   "outputs": [],
   "source": [
    "g = Gdata(900,20,1,1,12,31,50,True,\"面積比\",0.5,False)"
   ]
  },
  {
   "cell_type": "code",
   "execution_count": 4,
   "metadata": {
    "collapsed": false
   },
   "outputs": [
    {
     "data": {
      "text/plain": [
       "900"
      ]
     },
     "execution_count": 4,
     "metadata": {},
     "output_type": "execute_result"
    }
   ],
   "source": [
    "g.DTime()"
   ]
  },
  {
   "cell_type": "code",
   "execution_count": 5,
   "metadata": {
    "collapsed": false
   },
   "outputs": [
    {
     "data": {
      "text/plain": [
       "datetime.date(1988, 12, 12)"
      ]
     },
     "execution_count": 5,
     "metadata": {},
     "output_type": "execute_result"
    }
   ],
   "source": [
    "g.ApDate()"
   ]
  },
  {
   "cell_type": "code",
   "execution_count": 6,
   "metadata": {
    "collapsed": false
   },
   "outputs": [
    {
     "data": {
      "text/plain": [
       "True"
      ]
     },
     "execution_count": 6,
     "metadata": {},
     "output_type": "execute_result"
    }
   ],
   "source": [
    "g.FlgOrig(datetime.date(1989,1,15))"
   ]
  },
  {
   "cell_type": "code",
   "execution_count": 7,
   "metadata": {
    "collapsed": false
   },
   "outputs": [
    {
     "data": {
      "text/plain": [
       "datetime.date(1989, 12, 31)"
      ]
     },
     "execution_count": 7,
     "metadata": {},
     "output_type": "execute_result"
    }
   ],
   "source": [
    "g.EnDate()"
   ]
  },
  {
   "cell_type": "code",
   "execution_count": 8,
   "metadata": {
    "collapsed": false
   },
   "outputs": [
    {
     "data": {
      "text/plain": [
       "201"
      ]
     },
     "execution_count": 8,
     "metadata": {},
     "output_type": "execute_result"
    }
   ],
   "source": [
    "g.M()"
   ]
  },
  {
   "cell_type": "code",
   "execution_count": 9,
   "metadata": {
    "collapsed": false
   },
   "outputs": [
    {
     "data": {
      "text/plain": [
       "35040"
      ]
     },
     "execution_count": 9,
     "metadata": {},
     "output_type": "execute_result"
    }
   ],
   "source": [
    "g.OutputRow()"
   ]
  },
  {
   "cell_type": "code",
   "execution_count": 10,
   "metadata": {
    "collapsed": false
   },
   "outputs": [
    {
     "data": {
      "text/plain": [
       "True"
      ]
     },
     "execution_count": 10,
     "metadata": {},
     "output_type": "execute_result"
    }
   ],
   "source": [
    "g.DetailOut()"
   ]
  },
  {
   "cell_type": "code",
   "execution_count": 11,
   "metadata": {
    "collapsed": false
   },
   "outputs": [
    {
     "data": {
      "text/plain": [
       "'面積比'"
      ]
     },
     "execution_count": 11,
     "metadata": {},
     "output_type": "execute_result"
    }
   ],
   "source": [
    "g.FFcalcMethod()"
   ]
  },
  {
   "cell_type": "code",
   "execution_count": 12,
   "metadata": {
    "collapsed": false
   },
   "outputs": [
    {
     "data": {
      "text/plain": [
       "0.5"
      ]
     },
     "execution_count": 12,
     "metadata": {},
     "output_type": "execute_result"
    }
   ],
   "source": [
    "g.FsolFlr()"
   ]
  },
  {
   "cell_type": "code",
   "execution_count": 13,
   "metadata": {
    "collapsed": false
   },
   "outputs": [
    {
     "data": {
      "text/plain": [
       "False"
      ]
     },
     "execution_count": 13,
     "metadata": {},
     "output_type": "execute_result"
    }
   ],
   "source": [
    "g.OTset()"
   ]
  }
 ],
 "metadata": {
  "kernelspec": {
   "display_name": "Python 3",
   "language": "python",
   "name": "python3"
  },
  "language_info": {
   "codemirror_mode": {
    "name": "ipython",
    "version": 3
   },
   "file_extension": ".py",
   "mimetype": "text/x-python",
   "name": "python",
   "nbconvert_exporter": "python",
   "pygments_lexer": "ipython3",
   "version": "3.6.2"
  }
 },
 "nbformat": 4,
 "nbformat_minor": 2
}
