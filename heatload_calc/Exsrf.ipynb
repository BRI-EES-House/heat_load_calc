{
 "cells": [
  {
   "cell_type": "code",
   "execution_count": 1,
   "metadata": {
    "collapsed": true
   },
   "outputs": [],
   "source": [
    "import nbimporter\n",
    "import math"
   ]
  },
  {
   "cell_type": "code",
   "execution_count": 2,
   "metadata": {},
   "outputs": [
    {
     "name": "stdout",
     "output_type": "stream",
     "text": [
      "Importing Jupyter notebook from SolarPosision.ipynb\n"
     ]
    }
   ],
   "source": [
    "from SolarPosision import defSolpos"
   ]
  },
  {
   "cell_type": "markdown",
   "metadata": {},
   "source": [
    "# 外表面の情報を保持するクラス"
   ]
  },
  {
   "cell_type": "markdown",
   "metadata": {},
   "source": [
    "## 1) １つの外表面の情報を保持するクラス\n",
    "- 外表面の基本情報（方位角、傾斜角、地面反射率、温度差係数等）を保持するクラスを定義します。\n",
    "\n",
    "### Constructor parameters\n",
    "```\n",
    "'Name'           　 : # 名称\n",
    "'DirectionAngle' 　 : # 方位角[゜]\n",
    "'InclinationAngle'  : # 傾斜角[゜]\n",
    "'GroundReflectRate' : # 地面反射率[-]\n",
    "'TempDifferFactor'  : # 温度差係数[-]\n",
    "'IsOuterSkin': # 外皮かどうか, bool値\n",
    "```\n",
    "### Class Definition"
   ]
  },
  {
   "cell_type": "code",
   "execution_count": 3,
   "metadata": {
    "collapsed": true
   },
   "outputs": [],
   "source": [
    "class Exsrf:\n",
    "    \n",
    "    # 初期化\n",
    "    def __init__(self, Name, DirectionAngle, InclinationAngle, GroundReflectRate, TempDifferFactor, IsOuterSkin ):\n",
    "        self.__strName = Name                         # 開口部名称, string値\n",
    "        self.__dblWa = math.radians(DirectionAngle)   # 方位角[rad]\n",
    "        self.__dblWb = math.radians(InclinationAngle) # 傾斜角[rad]\n",
    "        self.__dblRg = GroundReflectRate              # 地面反射率[-]\n",
    "        self.__dblR = TempDifferFactor                # 温度差係数[-]\n",
    "        self.__blnSkin = IsOuterSkin                  # 外皮かどうか, bool値\n",
    "        \n",
    "        if self.__blnSkin == True:\n",
    "            # 入射角計算のためのパラメータの計算\n",
    "            self.__dblWz = math.cos(self.__dblWb)\n",
    "            self.__dblWw = math.sin(self.__dblWb) * math.sin(self.__dblWa)\n",
    "            self.__dblWs = math.sin(self.__dblWb) * math.cos(self.__dblWa)\n",
    "            # 傾斜面の天空に対する形態係数の計算\n",
    "            self.__dblFs = ( 1.0 + self.__dblWz ) / 2.0\n",
    "            # 傾斜面の地面に対する形態係数\n",
    "            self.__dblFg = 1.0 - self.__dblFs\n",
    "            \n",
    "    # 傾斜面日射量の計算\n",
    "    # ※注意※　太陽位置の情報を保持するクラス'defSolpos'の定義に従って以下の処理を修正する必要があります\n",
    "    def CalcSlopSol(self, solpos, dblIdn, dblIsky):\n",
    "        # solpos  : 太陽位置の情報を保持するクラス'defSolpos'\n",
    "        # dblIdn  : 法線面直達日射量[W/m2]\n",
    "        # dblIsky : 水平面天空日射量[W/m2]\n",
    "    \n",
    "        # 外皮の場合\n",
    "        if self.__blnSkin == True:\n",
    "            # 入射角の計算\n",
    "            self.__dblCosT = max( solpos.dblSh * self.__dblWz + solpos.dblSw * self.__dblWw + solpos.dblSs * self.__dblWs, 0.0 )    \n",
    "            # 水平面全天日射量の計算\n",
    "            dblIhol = solpos.dblSh * dblIdn + dblIsky\n",
    "            # 傾斜面入射直達日射量の計算\n",
    "            self.__dblId = self.__dblCosT * dblIdn\n",
    "            # 傾斜面入射天空日射量の計算\n",
    "            self.__dblIs = self.__dblFs * dblIsky\n",
    "            # 傾斜面入射地面反射日射量の計算\n",
    "            self.__dblIr = dblFg * dblRg * dblIhol\n",
    "            # 傾斜面入射全日射量の計算\n",
    "            self.__dblIw = self.__dblId + self.__dblIs + self.__dblIr\n",
    "            \n",
    "    # 傾斜面の相当外気温度の計算\n",
    "    def Te(self, dblas, dblho, dble, dblTa, dblRN, dblTr):\n",
    "        # dblas : 日射吸収率\n",
    "        # dblho : 外表面の総合熱伝達率[W/m2K]\n",
    "        # dble  : 外表面の放射率[-]\n",
    "        # dblTa : 外気温度[℃]\n",
    "        # dblRN : 夜間放射量[W/m2]\n",
    "        # dblTr : 前時刻の自室室温[℃]（隣室温度計算用）\n",
    "\n",
    "        if self.__blnSkin == True:\n",
    "            te = dblTa + (dblas * self.__dblIw - self.__dblFs * dble * dblRN) / dblho\n",
    "        else:\n",
    "            te = self.__dblR * dblTa + (1.0 - self.__dblR) * dblTr\n",
    "        \n",
    "        return te\n",
    "    \n",
    "    # 傾斜面入射直達日射量の取得\n",
    "    def Id(self):\n",
    "        return self.__dblId\n",
    "\n",
    "    # 傾斜面入射天空日射量の取得\n",
    "    def Isk(self):\n",
    "        return self.__dblIs\n",
    "\n",
    "    # 傾斜面入射地面反射日射量の取得\n",
    "    def Ir(self):\n",
    "        return self.__dblIr\n",
    "    \n",
    "    # 傾斜面入射全天日射量の取得\n",
    "    def Iw(self):\n",
    "        return self.__dblIw\n",
    "\n",
    "    # 入射角の方向余弦の取得\n",
    "    def CosT(self):\n",
    "        return self.__dblCosT\n",
    "\n",
    "    # 傾斜面方位角\n",
    "    def Wa(self):\n",
    "        return self.__dblWa\n",
    "\n",
    "    # 天空の形態係数\n",
    "    def Fs(self):\n",
    "        return self.__dblFs\n",
    "\n",
    "    # 外皮かどうか\n",
    "    def Skin(self):\n",
    "        return self.__blnSkin\n",
    "\n",
    "    # 外表面名称\n",
    "    def Name(self):\n",
    "        return self.__strName"
   ]
  },
  {
   "cell_type": "markdown",
   "metadata": {},
   "source": [
    "### Example\n",
    "#### 外表面の各情報の取得"
   ]
  },
  {
   "cell_type": "code",
   "execution_count": 4,
   "metadata": {},
   "outputs": [
    {
     "name": "stdout",
     "output_type": "stream",
     "text": [
      "名称： North\n",
      "傾斜面方位角： 3.141592653589793\n",
      "天空の形態係数： 0.5\n",
      "外皮かどうか： True\n"
     ]
    }
   ],
   "source": [
    "exsrf = Exsrf('North', 180, 90, 0.1, 0.0, True)\n",
    "print('名称：', exsrf.Name() )\n",
    "print('傾斜面方位角：', exsrf.Wa() )\n",
    "print('天空の形態係数：', exsrf.Fs() )\n",
    "print('外皮かどうか：', exsrf.Skin() )"
   ]
  },
  {
   "cell_type": "code",
   "execution_count": null,
   "metadata": {
    "collapsed": true
   },
   "outputs": [],
   "source": []
  }
 ],
 "metadata": {
  "kernelspec": {
   "display_name": "Python 3",
   "language": "python",
   "name": "python3"
  },
  "language_info": {
   "codemirror_mode": {
    "name": "ipython",
    "version": 3
   },
   "file_extension": ".py",
   "mimetype": "text/x-python",
   "name": "python",
   "nbconvert_exporter": "python",
   "pygments_lexer": "ipython3",
   "version": "3.6.3"
  }
 },
 "nbformat": 4,
 "nbformat_minor": 2
}
