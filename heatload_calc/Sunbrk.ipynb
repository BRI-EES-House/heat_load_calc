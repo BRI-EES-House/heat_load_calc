{
 "cells": [
  {
   "cell_type": "code",
   "execution_count": 1,
   "metadata": {},
   "outputs": [
    {
     "name": "stdout",
     "output_type": "stream",
     "text": [
      "Importing Jupyter notebook from Exsrf.ipynb\n",
      "Importing Jupyter notebook from SolarPosision.ipynb\n"
     ]
    }
   ],
   "source": [
    "import math\n",
    "import datetime\n",
    "import nbimporter\n",
    "import Exsrf\n",
    "from Exsrf import Exsrf\n",
    "import SolarPosision\n",
    "from SolarPosision import defSolpos"
   ]
  },
  {
   "cell_type": "markdown",
   "metadata": {},
   "source": [
    "# 水平庇の影面積を計算する\n",
    "\n",
    "## 1) 庇の物理長さを保持するクラス\n",
    "- Name    ：日除け名称\n",
    "- D       ：庇の出巾[m]\n",
    "- WI1     ：向かって左側の庇のでっぱり[m]\n",
    "- WI2     ：向かって右側の庇のでっぱり[m]\n",
    "- hi      ：窓上端と庇までの距離[m]\n",
    "- WR      ：開口部巾[m]\n",
    "- HR      ：開口部高さ[m]\n",
    "- Wa      ：庇の設置してある窓の方位角[rad]"
   ]
  },
  {
   "cell_type": "code",
   "execution_count": 2,
   "metadata": {},
   "outputs": [],
   "source": [
    "# 水平庇の物理的な長さを保持するクラス\n",
    "\n",
    "class SunbrkType:\n",
    "    def __init__(self,Name,D,WI1,WI2,hi,WR,HR,Wa):\n",
    "        # 日除け名称\n",
    "        self.__Name = Name\n",
    "        \n",
    "        # 庇の出巾\n",
    "        self.__D=D\n",
    "        \n",
    "        # 向かって左側の庇のでっぱり\n",
    "        self.__WI1=WI1\n",
    "        # 向かって右側の庇のでっぱり\n",
    "        self.__WI2=WI2\n",
    "        \n",
    "        # 窓上端から庇までの距離\n",
    "        self.__hi=hi\n",
    "        \n",
    "        # 開口部巾\n",
    "        self.__WR=WR\n",
    "        # 開口部高さ\n",
    "        self.__HR=HR\n",
    "        \n",
    "        # 窓の方位角\n",
    "        self.__Wa = Wa\n",
    "        \n",
    "        # 開口部面積\n",
    "        self.__A=self.__WR*sekf.__HR\n",
    "        \n",
    "        def Name(self):\n",
    "            return self.__Name\n",
    "        def D(self):\n",
    "            return self.__D\n",
    "        def WI1(self):\n",
    "            return self.__WI1\n",
    "        def WI2(self):\n",
    "            return self.__WI2\n",
    "        def hi(self):\n",
    "            return self.__hi\n",
    "        def WR(self):\n",
    "            return self.__WR\n",
    "        def WH(self):\n",
    "            return self.__WH\n",
    "        def Wa(self):\n",
    "            return self.__Wa\n",
    "        def A(self):\n",
    "            return self.__A\n",
    "        \n",
    "        # 日除けの影面積を計算する\n",
    "        def FSDW(self,defSolpos):\n",
    "            # γの計算[rad]\n",
    "            dblGamma = defSolpos.dblA - self.__Wa\n",
    "            # tan(プロファイル角)の計算\n",
    "            dblTanFai = math.tan(defSolpos.dblh) / math.cos(dblGamma)\n",
    "            # 日が出ているときだけ計算する\n",
    "            if defSolpos.dblh > 0.:\n",
    "                # DPの計算[m]\n",
    "                dblDP = self.__D * dblTanFai\n",
    "                \n",
    "                # DAの計算\n",
    "                dblDA = self.__D * math.tan(dblGamma)\n",
    "                dblABSDA = math.abs(dblDA)\n",
    "\n",
    "                # WIの計算\n",
    "                if dblDA > 0.:\n",
    "                    dblWI = self.__WI1\n",
    "                else:\n",
    "                    dblWI = self.__WI2\n",
    "\n",
    "                # DHAの計算\n",
    "                dblDHA = min[math.max[0., dblWI * dblDP \\\n",
    "                                           / math.max(dblWI, dblABSDA) - self.__hi], self.__HR]\n",
    "\n",
    "                # DHBの計算\n",
    "                dblDHB = min[max[0., (dblWI + self.__WR) * dblDP \\\n",
    "                                           / math.max(dblWI + self.__WR, dblABSDA) - self.__hi], self.__HR]\n",
    "\n",
    "                # DWAの計算\n",
    "                if dblDP <= self.__hi:\n",
    "                    dblDWA = 0.\n",
    "                else:\n",
    "                    dblDWA = min[max[0., (dblWI + self.__WR) - self.__hi * dblABSDA / dblDP], self.__WR]\n",
    "\n",
    "                # DWBの計算\n",
    "                dblDWB = min[max[0., (dblWI + self.__WR) - (self.__hi + self.__HR) * dblABSDA / \\\n",
    "                                 max[self.__hi + self.__HR, dblDP]], self.__WR]\n",
    "\n",
    "                # 日影面積の計算\n",
    "                dblASDW = dblDWA * dblDHA + 0.5 * (dblDWA + dblDWB) * (dblDHB - dblDHA)\n",
    "\n",
    "                # 日影面積率の計算\n",
    "                dblFsdw = dblASDW / self.__A\n",
    "            else:\n",
    "                dblFsdw = 0.0\n",
    "            return dblFsdw"
   ]
  },
  {
   "cell_type": "markdown",
   "metadata": {},
   "source": [
    "## 2) 影面積を計算する\n",
    "\n",
    "### Constructor parameters\n",
    "```\n",
    "d = {\n",
    "    'Sunbrk': [\n",
    "        {\n",
    "            'Name'           : # 開口部名称\n",
    "            'D'              : # 庇の出巾[m]\n",
    "            'WI1'            : # 向かって左側の庇のでっぱり[m]\n",
    "            'WI2'            : # 向かって右側の庇のでっぱり[m]\n",
    "            'hi'             : # 窓上端と庇までの距離[m]\n",
    "            'WR'             : # 窓の幅[m]\n",
    "            'WH'             : # 窓の高さ[m]\n",
    "        }\n",
    "    ]\n",
    "}\n",
    "```"
   ]
  },
  {
   "cell_type": "markdown",
   "metadata": {},
   "source": [
    "### Class Definition"
   ]
  },
  {
   "cell_type": "code",
   "execution_count": 3,
   "metadata": {},
   "outputs": [],
   "source": [
    "class SunbrkMng:\n",
    "    # 初期化\n",
    "    def __init__(self,d):\n",
    "        \n",
    "        # 水平庇のインスタンスの配列を作成\n",
    "        self.__objSunbrk=[]\n",
    "        for d_sunbkr in d['Sunbrk']:\n",
    "            sunbrk=SunbrkType(d_sunbrk['Name'],d_sunbrk['D'], \\\n",
    "                              d_sunbrk['WI1'],d_sunbrk['WI2'], \\\n",
    "                              d_sunbrk['hi'],d_sunbrk['WR'],d_sunbrk['WH'])\n",
    "            self.__objSunbrk.append(sunbrk)\n",
    "        # 庇の登録数を加算\n",
    "        self.__lngNSunbrk=len(self.__objSunbrk)-1\n",
    "        \n",
    "        # 水平庇名称と登録番号の返還\n",
    "        self.__dicSunbrkName={}\n",
    "        for lngI,x in enumerate(self.__objSunbkr):\n",
    "            self.__dicSunbrkName[x.Name()]=lngI\n",
    "    \n",
    "    # 水平庇の部位情報の取得\n",
    "    def Sunbkr(self,Name):\n",
    "        return self.__objSunbrk[self.__dicSunbrkName[Name]]"
   ]
  },
  {
   "cell_type": "markdown",
   "metadata": {},
   "source": [
    "### Example"
   ]
  },
  {
   "cell_type": "code",
   "execution_count": 4,
   "metadata": {},
   "outputs": [],
   "source": [
    "d = {\n",
    "    'Sunbrk': [\n",
    "        {\n",
    "            'Name'           : 'sunbkr_sample',\n",
    "            'D'              : 0.91,\n",
    "            'WI1'            : 0.29,\n",
    "            'WI2'            : 0.05,\n",
    "            'hi'             : 0.48,\n",
    "            'WR'             : 3.3,\n",
    "            'WH'             : 2.1\n",
    "        }\n",
    "    ]\n",
    "}"
   ]
  },
  {
   "cell_type": "code",
   "execution_count": null,
   "metadata": {},
   "outputs": [],
   "source": []
  }
 ],
 "metadata": {
  "kernelspec": {
   "display_name": "Python 3",
   "language": "python",
   "name": "python3"
  },
  "language_info": {
   "codemirror_mode": {
    "name": "ipython",
    "version": 3
   },
   "file_extension": ".py",
   "mimetype": "text/x-python",
   "name": "python",
   "nbconvert_exporter": "python",
   "pygments_lexer": "ipython3",
   "version": "3.6.5"
  }
 },
 "nbformat": 4,
 "nbformat_minor": 2
}
