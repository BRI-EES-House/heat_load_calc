{
 "cells": [
  {
   "cell_type": "markdown",
   "metadata": {},
   "source": [
    "# 季節ごとの特性値を保持するクラス\n",
    "\n",
    "室ごとの季節別換気量を保持します。"
   ]
  },
  {
   "cell_type": "code",
   "execution_count": 1,
   "metadata": {},
   "outputs": [],
   "source": [
    "class SeasonalValue:\n",
    "    # 初期化\n",
    "    def __init__(self, winter, inter, summer):\n",
    "        self.__winter = winter                            # 冬期特性値\n",
    "        self.__inter = inter                              # 中間期特性値\n",
    "        self.__summer = summer                            # 夏期特性値\n",
    "    \n",
    "    # 冬期の特性値\n",
    "    def winter(self):\n",
    "        return self.__winter\n",
    "    \n",
    "    # 中間期の特性値\n",
    "    def inter(self):\n",
    "        return self.__inter\n",
    "    \n",
    "    # 夏期の特性値\n",
    "    def summer(self):\n",
    "        return self.__summer"
   ]
  }
 ],
 "metadata": {
  "kernelspec": {
   "display_name": "Python 3",
   "language": "python",
   "name": "python3"
  },
  "language_info": {
   "codemirror_mode": {
    "name": "ipython",
    "version": 3
   },
   "file_extension": ".py",
   "mimetype": "text/x-python",
   "name": "python",
   "nbconvert_exporter": "python",
   "pygments_lexer": "ipython3",
   "version": "3.6.5"
  }
 },
 "nbformat": 4,
 "nbformat_minor": 2
}
