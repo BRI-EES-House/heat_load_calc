{
 "cells": [
  {
   "cell_type": "code",
   "execution_count": 1,
   "metadata": {},
   "outputs": [],
   "source": [
    "import nbimporter\n",
    "import numpy as np"
   ]
  },
  {
   "cell_type": "code",
   "execution_count": 2,
   "metadata": {},
   "outputs": [
    {
     "name": "stdout",
     "output_type": "stream",
     "text": [
      "Importing Jupyter notebook from SolarPosision.ipynb\n"
     ]
    }
   ],
   "source": [
    "import SolarPosision\n",
    "from SolarPosision import SolarPosision"
   ]
  },
  {
   "cell_type": "code",
   "execution_count": 3,
   "metadata": {},
   "outputs": [
    {
     "name": "stdout",
     "output_type": "stream",
     "text": [
      "Importing Jupyter notebook from Weather.ipynb\n"
     ]
    }
   ],
   "source": [
    "import Weather"
   ]
  },
  {
   "cell_type": "code",
   "execution_count": 4,
   "metadata": {},
   "outputs": [
    {
     "name": "stdout",
     "output_type": "stream",
     "text": [
      "Importing Jupyter notebook from Schedule.ipynb\n",
      "Importing Jupyter notebook from ACSet.ipynb\n",
      "Importing Jupyter notebook from AnnualCal.ipynb\n",
      "Importing Jupyter notebook from mdlLibrary.ipynb\n",
      "Importing Jupyter notebook from Appl.ipynb\n",
      "Importing Jupyter notebook from Light.ipynb\n",
      "Importing Jupyter notebook from LocalVent.ipynb\n",
      "Importing Jupyter notebook from Resi.ipynb\n"
     ]
    }
   ],
   "source": [
    "import Schedule"
   ]
  },
  {
   "cell_type": "code",
   "execution_count": 5,
   "metadata": {},
   "outputs": [
    {
     "name": "stdout",
     "output_type": "stream",
     "text": [
      "Importing Jupyter notebook from WallMng.ipynb\n",
      "Importing Jupyter notebook from Wall.ipynb\n"
     ]
    }
   ],
   "source": [
    "import WallMng\n",
    "from WallMng import WallMng"
   ]
  },
  {
   "cell_type": "code",
   "execution_count": 6,
   "metadata": {},
   "outputs": [
    {
     "name": "stdout",
     "output_type": "stream",
     "text": [
      "Importing Jupyter notebook from ExsrfMng.ipynb\n",
      "Importing Jupyter notebook from Exsrf.ipynb\n"
     ]
    }
   ],
   "source": [
    "import ExsrfMng\n",
    "from ExsrfMng import ExsrfMng"
   ]
  },
  {
   "cell_type": "code",
   "execution_count": 7,
   "metadata": {},
   "outputs": [
    {
     "name": "stdout",
     "output_type": "stream",
     "text": [
      "Importing Jupyter notebook from WindowMng.ipynb\n"
     ]
    }
   ],
   "source": [
    "import WindowMng\n",
    "from WindowMng import WindowMng"
   ]
  },
  {
   "cell_type": "code",
   "execution_count": 8,
   "metadata": {},
   "outputs": [
    {
     "name": "stdout",
     "output_type": "stream",
     "text": [
      "Importing Jupyter notebook from Sunbrk.ipynb\n"
     ]
    }
   ],
   "source": [
    "import Sunbrk\n",
    "from Sunbrk import SunbrkMng"
   ]
  },
  {
   "cell_type": "markdown",
   "metadata": {},
   "source": [
    "# 室温・熱負荷を計算するクラス"
   ]
  },
  {
   "cell_type": "markdown",
   "metadata": {},
   "source": [
    "## １）室内部位に関連するクラス"
   ]
  },
  {
   "cell_type": "markdown",
   "metadata": {},
   "source": [
    "室内部位に関する情報を保持します。\n",
    "\n",
    "- 外皮フラグ, 外皮の場合True\n",
    "- 方位・隣室名, string\n",
    "- 非定常フラグ, 非定常壁体の場合True\n",
    "- 壁体・開口部名称, string\n",
    "- 面積, m2\n",
    "- ひさし名称, string\n",
    "- 放射暖房吸収比率, －\n",
    "- 人体に対する形態係数, －\n",
    "- 床フラグ, 床の場合True（日射が多く当たる）"
   ]
  },
  {
   "cell_type": "code",
   "execution_count": 9,
   "metadata": {},
   "outputs": [],
   "source": [
    "# 室内部位に関連するクラス\n",
    "class Surface:\n",
    "    \n",
    "    # 初期化\n",
    "    def __init__(self, skin, boundary, unsteady, name, area, sunbreak, flr, fot):\n",
    "        self.__skin = skin            #外皮フラグ\n",
    "        self.__boundary = boundary    #方位・隣室名\n",
    "        \n",
    "        # 外皮の場合は方位クラスを取得する\n",
    "        if self.__skin == True :\n",
    "            self.__objExsrf = ExsrfMng.ExsrfobjByName(self.__boundary)\n",
    "        \n",
    "        self.__unsteady = unsteady    #非定常フラグ\n",
    "        self.__name = name            #壁体名称\n",
    "        if '床' in self.__name :      #床フラグ\n",
    "            self.__floor = True\n",
    "        else:\n",
    "            self.__floor = False\n",
    "            \n",
    "        self.__area = area            #面積\n",
    "        self.__sunbreak = sunbreak    #ひさし名称\n",
    "        self.__flr = flr              #放射暖房吸収比率\n",
    "        self.__for = fot              #人体に対する形態係数\n",
    "        \n",
    "        # 壁体の初期化\n",
    "        if self.__unsteady == True :\n",
    "            self.__Row = WallMng.Row(self.__name)        #公比の取得\n",
    "            self.__Nroot = WallMng.Nroot(self.__name)    #根の数\n",
    "            self.__RFT0 = WallMng.RFT0(self.__name)      #貫流応答の初項\n",
    "            self.__RFA0 = WallMng.RFA0(self.__name)      #吸熱応答の初項\n",
    "            self.__RFT1 = WallMng.RFT1(self.__name)      #指数項別貫流応答の初項\n",
    "            self.__RFA1 = WallMng.RFA1(self.__name)      #指数項別吸熱応答の初項\n",
    "            self.__oldTsd_t[self.__nroot]                #貫流応答の表面温度の履歴\n",
    "            self.__oldTsd_a[self.__nroot]                #吸熱応答の表面温度の履歴\n",
    "            self.__hi = WallMng.hi(self.__name)          #室内側表面総合熱伝達率\n",
    "            self.__hic = WallMng.hic(self.__name)        #室内側表面対流熱伝達率\n",
    "            self.__hir = WallMng.hir(self.__name)        #室内側表面放射熱伝達率\n",
    "            self.__ho = WallMng.ho(self.__name)          #室外側表面総合熱伝達率\n",
    "            self.__as = WallMng.Solas(self.__name)       #室側側日射吸収率\n",
    "            self.__Eo = WallMng.Eo(self.__name)          #室内側表面総合熱伝達率\n",
    "            self.__oldTeo = 15.0                         #前時刻の室外側温度\n",
    "            self.__olddqi = 0.0                          #前時刻の室内側表面熱流\n",
    "        # 定常部位の初期化\n",
    "        else:\n",
    "            self.__tau = WindowMng.T(self.__name)        #日射透過率\n",
    "            self.__B = WindowMng.B(self.__name)          #吸収日射取得率\n",
    "            self.__Uso = WindowMng.Uso(self.__name)      #熱貫流率（表面熱伝達抵抗除く）\n",
    "            self.__RFA0 = 1.0 / self.__Uso                 #吸熱応答係数の初項\n",
    "            self.__RFT0 = 1.0                              #貫流応答係数の初項\n",
    "            self.__hi = WindowMng.hi(self.__name)        #室内側表面総合熱伝達率\n",
    "            self.__hic = WindowMng.hic(self.__name)      #室内側表面対流熱伝達率\n",
    "            self.__hir = WindowMng.hir(self.__name)      #室内側表面放射熱伝達率\n",
    "            self.__ho = WindowMng.ho(self.__name)        #室外側表面総合熱伝達率\n",
    "            self.__U = 1.0 / (1.0 / self.__Uso + 1.0 / self.__hi)   #熱貫流率（表面熱伝達抵抗含む）\n",
    "            self.__Eo = WindowMng.Eo(self.__name)        #室内側表面総合熱伝達率\n",
    "            self.__sunbrkflg = len(self.__sunbreak) > 0  #庇がついているかのフラグ\n",
    "    \n",
    "    #床フラグの取得\n",
    "    def Floor(self):\n",
    "        return self.__floor\n",
    "    \n",
    "    #部位面積の取得\n",
    "    def area(self):\n",
    "        return self.__area\n",
    "    \n",
    "    #応答係数の初項の取得\n",
    "    def RFA0(self):\n",
    "        return self.__RFA0\n",
    "    def RFT0(self):\n",
    "        return self.__RFT0\n",
    "    \n",
    "    #指数項別応答係数\n",
    "    def RFA1(self):\n",
    "        return self.__RFA1\n",
    "    def RFT1(self):\n",
    "        return self.__RFT1\n",
    "    \n",
    "    #公比の取得\n",
    "    def Row(self):\n",
    "        if self.__unsteady == True:\n",
    "            return self.__Row\n",
    "        else:\n",
    "            return 0\n",
    "    \n",
    "    #室内側表面総合熱伝達率\n",
    "    def hi(self):\n",
    "        return self.__hi\n",
    "    \n",
    "    #放射暖房吸収比率の取得\n",
    "    def flr(self):\n",
    "        return self.__flr\n",
    "    \n",
    "    #放射熱伝達率の取得\n",
    "    def hir(self):\n",
    "        return self.__hir\n",
    "    \n",
    "    #形態係数の設定\n",
    "    def FF(self, i, FFd):\n",
    "        self.__FF[i] = FFd\n",
    "    #形態係数の取得\n",
    "    def setFF(self, i):\n",
    "        return self.__FF[i]"
   ]
  },
  {
   "cell_type": "markdown",
   "metadata": {},
   "source": [
    "## ２）空間に関するクラス"
   ]
  },
  {
   "cell_type": "code",
   "execution_count": 10,
   "metadata": {},
   "outputs": [],
   "source": [
    "# 空間に関する情報の保持\n",
    "class Space:\n",
    "    FsolFlr = 0.5                                 #床の日射吸収比率\n",
    "    # 初期化\n",
    "    def __init__(self,roomname,roomdiv,HeatCcap,HeatRcap,CoolCcap,Vol,Fnt,Vent,Inf,CrossVentRoom,RadHeat,Beta,NextVent,d):\n",
    "        self.__roomname = roomname                #室用途（主たる居室、その他居室、非居室）\n",
    "        self.__roomdiv = roomdiv                  #室名称（主寝室、子供室1、子供室2、和室）\n",
    "        self.__AnnualLoadcC = 0.0                 #年間冷房熱負荷（対流成分）\n",
    "        self.__AnnualLoadcH = 0.0                 #年間暖房熱負荷（対流成分）\n",
    "        self.__AnnualLoadrC = 0.0                 #年間冷房熱負荷（放射成分）\n",
    "        self.__AnnualLoadrH = 0.0                 #年間暖房熱負荷（放射成分）\n",
    "        self.__Tr = 15.0                          #室温の初期化\n",
    "        self.__oldTr = 15.0                       #前時刻の室温の初期化\n",
    "        self.__kc = 0.5                           #人体表面の熱伝達率の対流成分比率\n",
    "        self.__kr = 0.5                           #人体表面の熱伝達率の放射成分比率\n",
    "        self.__HeatCcap = HeatCcap                #最大暖房能力（対流）\n",
    "        self.__HeatRcap = HeatRcap                #最大暖房能力（放射）\n",
    "        self.__CoolCcap = CoolCcap                #最大冷房能力（対流）\n",
    "        self.__CoolRcap = CoolRcap                #最大冷房能力（放射）\n",
    "        self.__Vol = Vol                          #室気積\n",
    "        self.__Fnt = Fnt                          #家具熱容量\n",
    "        self.__Hcap = self.__Vol * 1.2 * 1005. + self.__Vol * self.__Fnt * 1000.     # 室空気の熱容量（家具を含む）\n",
    "        for i in range(1,3):\n",
    "            self.__Vent[i] = Vent[i]              #計画換気量（1：冬期、2：中間期、3：夏期）\n",
    "            self.__Inf[i] = Inf[i]                #すきま風量（1：冬期、2：中間期、3：夏期）\n",
    "        self.__CrossVestRoom = CrossVentRoom      #通風対象室フラグ\n",
    "        self.__RadHeat = RadHeat                  #放射暖房設置フラグ\n",
    "        self.__Beta = Beta                        #放射暖房対流比率\n",
    "        self.__oldNextRoom = []\n",
    "        self.__NextVent = []\n",
    "        for i in range(1,3):\n",
    "            for j in range(0,len(NextVent)):\n",
    "                self.__NextVent[i][j] = NextVent[i][j]    #室間換気量\n",
    "                self.__oldNextRoom[j] = 15.0              #風上室の前時刻の温度\n",
    "        self.__Nsurf = 0                           #部位の数\n",
    "        self.__Surface = []\n",
    "        for d_surface in d['Surface']:\n",
    "            self.__Surface.append(Surface( d_surface['skin'], d_surface['boundary'], d_surface['unsteady'], \\\n",
    "                                          d_surface['name'], d_surface['area'], d_surface['sunbreak'], \\\n",
    "                                          d_surface['flr'], d_surface['fot']))\n",
    "            self.__Nsurf += 1                         #定義部位数をインクリメント\n",
    "        \n",
    "        #面対面の形態係数の計算\n",
    "        for i, surface in self.__Surface:\n",
    "            self.__Atotal = 0.0\n",
    "            \n",
    "            #合計面積の計算\n",
    "            for j, nxtsurface in self.__Surface:\n",
    "                self.__Atotal += nxtsurface.area()\n",
    "            \n",
    "            #形態係数の計算（面積比）\n",
    "            for j, nxtsurface in self.__Surface:\n",
    "                self.surface.setFF[j] = nxtsurface.area() / self.__Atotal\n",
    "                \n",
    "        #放射収支計算のための行列準備\n",
    "        #行列の準備と初期化\n",
    "        #[AX]\n",
    "        self.__matAXd = [ [ 0.0 for i in range(self.__Nsurf) ] for j in range(self.__Nsurf) ]\n",
    "        #{FIA}\n",
    "        self.__matFIA = [ [ 0.0 for i in range(1) ] for j in range(self.__Nsurf) ]\n",
    "        #{CRX}\n",
    "        self.__matCRX = [ [ 0.0 for i in range(1) ] for j in range(self.__Nsurf) ]\n",
    "        #{CVL}\n",
    "        self.__matCVL = [ [ 0.0 for i in range(1) ] for j in range(self.__Nsurf) ]\n",
    "        #{FLB}\n",
    "        self.__matFLB = [ [ 0.0 for i in range(1) ] for j in range(self.__Nsurf) ]\n",
    "        #{WSC}\n",
    "        self.__matWSC = [ [ 0.0 for i in range(1) ] for j in range(self.__Nsurf) ]\n",
    "        #{WSR}\n",
    "        #self.__matWSR = [ [ 0.0 for i in range(1) ] for j in range(self.__Nsurf) ]\n",
    "        #{WSV}\n",
    "        self.__matWSV = [ [ 0.0 for i in range(1) ] for j in range(self.__Nsurf) ]\n",
    "        #{WSB}\n",
    "        #self.__matWSB = [ [ 0.0 for i in range(1) ] for j in range(self.__Nsurf) ]\n",
    "        \n",
    "        for i, surface in self.__Surface:\n",
    "            #matFIAの作成\n",
    "            self.__matFIA[0][i] = surface.RFA0() * surface.hi()\n",
    "            #FLB=φA0×flr×(1-Beta)\n",
    "            self.__matFLB[0][i] = surface.RFA0() * surface.flr() * (1. - self.__Beta) / surface.area()\n",
    "            \n",
    "            #放射計算のマトリックス作成\n",
    "            for j in self.__Nsurf:\n",
    "                #対角要素\n",
    "                if i == j:\n",
    "                    self.__matAXd[i][j] = 1. + self.__matFIA[0][i] - surface.RFA0() * surface.hir() * surface.FF(j)\n",
    "                #対角要素以外\n",
    "                else:\n",
    "                    self.__matAXd[i][j] = - surface.RFA0() * surface.hir() * surface.FF(j)\n",
    "        \n",
    "        #逆行列の計算\n",
    "        self.__matAX = np.linalg.inv(self.__matAXd)\n",
    "        #{WSR}の計算\n",
    "        self.__matWSR = np.dor(self.__matAX, self.__matFIA)\n",
    "        #{WSB}の計算\n",
    "        self.__matWSB = np.dor(self.__matAX, self.__matFLB)\n",
    "    \n",
    "    #室温を返す\n",
    "    def oldTr(self):\n",
    "        return self.__oldTr\n",
    "    \n",
    "    #室温、熱負荷の計算\n",
    "    def calcHload(self, SolarPosision, Schedule, Weather):\n",
    "        #室間換気の風上室温をアップデート\n",
    "        return 0"
   ]
  },
  {
   "cell_type": "code",
   "execution_count": 11,
   "metadata": {},
   "outputs": [
    {
     "ename": "NameError",
     "evalue": "name 'Layer' is not defined",
     "output_type": "error",
     "traceback": [
      "\u001b[1;31m---------------------------------------------------------------------------\u001b[0m",
      "\u001b[1;31mNameError\u001b[0m                                 Traceback (most recent call last)",
      "\u001b[1;32m<ipython-input-11-b4a6d17b471f>\u001b[0m in \u001b[0;36m<module>\u001b[1;34m()\u001b[0m\n\u001b[0;32m      1\u001b[0m layers_test = [\n\u001b[1;32m----> 2\u001b[1;33m     \u001b[0mLayer\u001b[0m\u001b[1;33m(\u001b[0m \u001b[1;34m'Plywood'\u001b[0m\u001b[1;33m,\u001b[0m \u001b[1;36m0.16\u001b[0m\u001b[1;33m,\u001b[0m \u001b[1;36m720.0\u001b[0m\u001b[1;33m,\u001b[0m \u001b[1;36m0.022\u001b[0m \u001b[1;33m)\u001b[0m\u001b[1;33m,\u001b[0m\u001b[1;33m\u001b[0m\u001b[0m\n\u001b[0m\u001b[0;32m      3\u001b[0m     \u001b[0mLayer\u001b[0m\u001b[1;33m(\u001b[0m \u001b[1;34m'GW16K'\u001b[0m\u001b[1;33m,\u001b[0m \u001b[1;36m0.045\u001b[0m\u001b[1;33m,\u001b[0m \u001b[1;36m13.0\u001b[0m\u001b[1;33m,\u001b[0m \u001b[1;36m0.150\u001b[0m \u001b[1;33m)\u001b[0m\u001b[1;33m,\u001b[0m\u001b[1;33m\u001b[0m\u001b[0m\n\u001b[0;32m      4\u001b[0m ]\n\u001b[0;32m      5\u001b[0m \u001b[0mwall_test\u001b[0m \u001b[1;33m=\u001b[0m \u001b[0mWall\u001b[0m\u001b[1;33m(\u001b[0m \u001b[1;34m'1F_floor'\u001b[0m\u001b[1;33m,\u001b[0m \u001b[1;36m25.0\u001b[0m\u001b[1;33m,\u001b[0m \u001b[1;36m0.90\u001b[0m\u001b[1;33m,\u001b[0m \u001b[1;36m0.80\u001b[0m\u001b[1;33m,\u001b[0m \u001b[1;36m1.70\u001b[0m\u001b[1;33m,\u001b[0m \u001b[1;36m5.00\u001b[0m\u001b[1;33m,\u001b[0m \u001b[0mlayers_test\u001b[0m \u001b[1;33m)\u001b[0m\u001b[1;33m\u001b[0m\u001b[0m\n",
      "\u001b[1;31mNameError\u001b[0m: name 'Layer' is not defined"
     ]
    }
   ],
   "source": [
    "layers_test = [\n",
    "    Layer( 'Plywood', 0.16, 720.0, 0.022 ),\n",
    "    Layer( 'GW16K', 0.045, 13.0, 0.150 ),\n",
    "]\n",
    "wall_test = Wall( '1F_floor', 25.0, 0.90, 0.80, 1.70, 5.00, layers_test )\n",
    "wall_test.AppendOutHeatTrans()\n",
    "for i , layer in enumerate( wall_test.Layers() ):\n",
    "    print( 'layer[' , i , '] Name:' , layer.name, ' R:',  layer.dblR(), '[(m2・K)/W]' )"
   ]
  },
  {
   "cell_type": "code",
   "execution_count": null,
   "metadata": {},
   "outputs": [],
   "source": []
  }
 ],
 "metadata": {
  "kernelspec": {
   "display_name": "Python 3",
   "language": "python",
   "name": "python3"
  },
  "language_info": {
   "codemirror_mode": {
    "name": "ipython",
    "version": 3
   },
   "file_extension": ".py",
   "mimetype": "text/x-python",
   "name": "python",
   "nbconvert_exporter": "python",
   "pygments_lexer": "ipython3",
   "version": "3.6.5"
  }
 },
 "nbformat": 4,
 "nbformat_minor": 2
}
