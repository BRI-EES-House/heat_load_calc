{
 "cells": [
  {
   "cell_type": "code",
   "execution_count": 1,
   "metadata": {},
   "outputs": [],
   "source": [
    "import nbimporter\n",
    "import numpy as np\n",
    "import datetime"
   ]
  },
  {
   "cell_type": "code",
   "execution_count": 2,
   "metadata": {},
   "outputs": [
    {
     "name": "stdout",
     "output_type": "stream",
     "text": [
      "Importing Jupyter notebook from SolarPosision.ipynb\n"
     ]
    }
   ],
   "source": [
    "import SolarPosision\n",
    "from SolarPosision import SolarPosision"
   ]
  },
  {
   "cell_type": "code",
   "execution_count": 3,
   "metadata": {},
   "outputs": [
    {
     "name": "stdout",
     "output_type": "stream",
     "text": [
      "Importing Jupyter notebook from Weather.ipynb\n"
     ]
    }
   ],
   "source": [
    "import Weather"
   ]
  },
  {
   "cell_type": "code",
   "execution_count": 4,
   "metadata": {},
   "outputs": [
    {
     "name": "stdout",
     "output_type": "stream",
     "text": [
      "Importing Jupyter notebook from Schedule.ipynb\n",
      "Importing Jupyter notebook from ACSet.ipynb\n",
      "Importing Jupyter notebook from AnnualCal.ipynb\n",
      "Importing Jupyter notebook from mdlLibrary.ipynb\n",
      "Importing Jupyter notebook from Appl.ipynb\n",
      "Importing Jupyter notebook from Light.ipynb\n",
      "Importing Jupyter notebook from LocalVent.ipynb\n",
      "Importing Jupyter notebook from Resi.ipynb\n"
     ]
    }
   ],
   "source": [
    "import Schedule"
   ]
  },
  {
   "cell_type": "code",
   "execution_count": 5,
   "metadata": {},
   "outputs": [
    {
     "name": "stdout",
     "output_type": "stream",
     "text": [
      "Importing Jupyter notebook from WallMng.ipynb\n",
      "Importing Jupyter notebook from Wall.ipynb\n"
     ]
    }
   ],
   "source": [
    "import WallMng\n",
    "from WallMng import WallMng"
   ]
  },
  {
   "cell_type": "code",
   "execution_count": 6,
   "metadata": {},
   "outputs": [
    {
     "name": "stdout",
     "output_type": "stream",
     "text": [
      "Importing Jupyter notebook from ExsrfMng.ipynb\n",
      "Importing Jupyter notebook from Exsrf.ipynb\n"
     ]
    }
   ],
   "source": [
    "import ExsrfMng\n",
    "from ExsrfMng import ExsrfMng"
   ]
  },
  {
   "cell_type": "code",
   "execution_count": 7,
   "metadata": {},
   "outputs": [
    {
     "name": "stdout",
     "output_type": "stream",
     "text": [
      "Importing Jupyter notebook from WindowMng.ipynb\n"
     ]
    }
   ],
   "source": [
    "import WindowMng\n",
    "from WindowMng import WindowMng"
   ]
  },
  {
   "cell_type": "code",
   "execution_count": 8,
   "metadata": {},
   "outputs": [
    {
     "name": "stdout",
     "output_type": "stream",
     "text": [
      "Importing Jupyter notebook from Sunbrk.ipynb\n"
     ]
    }
   ],
   "source": [
    "import Sunbrk\n",
    "from Sunbrk import SunbrkMng"
   ]
  },
  {
   "cell_type": "code",
   "execution_count": 9,
   "metadata": {},
   "outputs": [
    {
     "name": "stdout",
     "output_type": "stream",
     "text": [
      "Importing Jupyter notebook from SeasonalValue.ipynb\n"
     ]
    }
   ],
   "source": [
    "import SeasonalValue\n",
    "from SeasonalValue import SeasonalValue"
   ]
  },
  {
   "cell_type": "markdown",
   "metadata": {},
   "source": [
    "# 室温・熱負荷を計算するクラス"
   ]
  },
  {
   "cell_type": "markdown",
   "metadata": {},
   "source": [
    "## １）室内部位に関連するクラス"
   ]
  },
  {
   "cell_type": "markdown",
   "metadata": {},
   "source": [
    "室内部位に関する情報を保持します。\n",
    "\n",
    "- skin:      外皮フラグ, 外皮の場合True\n",
    "- boundary:  方位・隣室名, string\n",
    "- unsteady:  非定常フラグ, 非定常壁体の場合True\n",
    "- name:      壁体・開口部名称, string\n",
    "- area:      面積, m2\n",
    "- sunbreak:  ひさし名称, string\n",
    "- flr:       放射暖房吸収比率, －\n",
    "- fot:       人体に対する形態係数, －"
   ]
  },
  {
   "cell_type": "code",
   "execution_count": 10,
   "metadata": {},
   "outputs": [],
   "source": [
    "# 室内部位に関連するクラス\n",
    "class Surface:\n",
    "    \n",
    "    # 初期化\n",
    "    def __init__(self, WallMng, WindowMng, skin, boundary, unsteady, name, area, sunbreak, flr, fot):\n",
    "        self.__skin = skin            #外皮フラグ\n",
    "        self.__boundary = boundary    #方位・隣室名\n",
    "        \n",
    "        # 外皮の場合は方位クラスを取得する\n",
    "        if self.__skin == True :\n",
    "            self.__objExsrf = ExsrfMng.ExsrfobjByName(self.__boundary)\n",
    "        \n",
    "        self.__unsteady = unsteady    #非定常フラグ\n",
    "        self.__name = name            #壁体名称\n",
    "        \n",
    "        if '床' in self.__name :      #床フラグ\n",
    "            self.__floor = True\n",
    "        else:\n",
    "            self.__floor = False\n",
    "            \n",
    "        self.__area = area            #面積\n",
    "        self.__sunbreak = sunbreak    #ひさし名称\n",
    "        self.__flr = flr              #放射暖房吸収比率\n",
    "        self.__for = fot              #人体に対する形態係数\n",
    "        #self.__floor = floor          #床フラグ\n",
    "        \n",
    "        #形態係数収録用リストの定義\n",
    "        self.__FF = []\n",
    "        \n",
    "        #print(self.__unsteady)\n",
    "        # 壁体の初期化\n",
    "        if self.__unsteady == True :\n",
    "            #print(self.__name)\n",
    "            \n",
    "            self.__Row = WallMng.Row(self.__name)        #公比の取得\n",
    "            self.__Nroot = WallMng.Nroot(self.__name)    #根の数\n",
    "            self.__RFT0 = WallMng.RFT0(self.__name)      #貫流応答の初項\n",
    "            self.__RFA0 = WallMng.RFA0(self.__name)      #吸熱応答の初項\n",
    "            self.__RFT1 = WallMng.RFT1(self.__name)      #指数項別貫流応答の初項\n",
    "            self.__RFA1 = WallMng.RFA1(self.__name)      #指数項別吸熱応答の初項\n",
    "            self.__oldTsd_a = []\n",
    "            self.__oldTsd_t = []\n",
    "            self.__oldTsd_t = range(0, self.__Nroot-1)   #貫流応答の表面温度の履歴\n",
    "            self.__oldTsd_a = range(0, self.__Nroot-1)   #吸熱応答の表面温度の履歴\n",
    "            self.__hi = WallMng.hi(self.__name)          #室内側表面総合熱伝達率\n",
    "            self.__hic = WallMng.hic(self.__name)        #室内側表面対流熱伝達率\n",
    "            self.__hir = WallMng.hir(self.__name)        #室内側表面放射熱伝達率\n",
    "            self.__ho = WallMng.ho(self.__name)          #室外側表面総合熱伝達率\n",
    "            self.__as = WallMng.Solas(self.__name)       #室側側日射吸収率\n",
    "            self.__Eo = WallMng.Eo(self.__name)          #室内側表面総合熱伝達率\n",
    "            self.__oldTeo = 15.0                         #前時刻の室外側温度\n",
    "            self.__olddqi = 0.0                          #前時刻の室内側表面熱流\n",
    "        # 定常部位の初期化\n",
    "        else:\n",
    "            objWindow = WindowMng.Window(self.__name)    #Windowオブジェクトの取得\n",
    "            self.__tau = objWindow.T()        #日射透過率\n",
    "            self.__B = objWindow.B()          #吸収日射取得率\n",
    "            self.__Uso = objWindow.Uso()      #熱貫流率（表面熱伝達抵抗除く）\n",
    "            self.__RFA0 = 1.0 / self.__Uso                 #吸熱応答係数の初項\n",
    "            self.__RFT0 = 1.0                              #貫流応答係数の初項\n",
    "            self.__hi = objWindow.hi()        #室内側表面総合熱伝達率\n",
    "            self.__hic = objWindow.hic()      #室内側表面対流熱伝達率\n",
    "            self.__hir = objWindow.hir()      #室内側表面放射熱伝達率\n",
    "            self.__ho = objWindow.ho()        #室外側表面総合熱伝達率\n",
    "            self.__U = 1.0 / (1.0 / self.__Uso + 1.0 / self.__hi)   #熱貫流率（表面熱伝達抵抗含む）\n",
    "            self.__Eo = objWindow.Eo()        #室内側表面総合熱伝達率\n",
    "            self.__sunbrkflg = len(self.__sunbreak) > 0  #庇がついているかのフラグ\n",
    "    \n",
    "    #床フラグの取得\n",
    "    def Floor(self):\n",
    "        return self.__floor\n",
    "    \n",
    "    #部位面積の取得\n",
    "    def area(self):\n",
    "        return self.__area\n",
    "    \n",
    "    #応答係数の初項の取得\n",
    "    def RFA0(self):\n",
    "        return self.__RFA0\n",
    "    def RFT0(self):\n",
    "        return self.__RFT0\n",
    "    \n",
    "    #指数項別応答係数\n",
    "    def RFA1(self):\n",
    "        return self.__RFA1\n",
    "    def RFT1(self):\n",
    "        return self.__RFT1\n",
    "    \n",
    "    #公比の取得\n",
    "    def Row(self):\n",
    "        if self.__unsteady == True:\n",
    "            return self.__Row\n",
    "        else:\n",
    "            return 0\n",
    "    \n",
    "    #室内側表面総合熱伝達率\n",
    "    def hi(self):\n",
    "        return self.__hi\n",
    "    \n",
    "    #放射暖房吸収比率の取得\n",
    "    def flr(self):\n",
    "        return self.__flr\n",
    "    \n",
    "    #放射熱伝達率の取得\n",
    "    def hir(self):\n",
    "        return self.__hir\n",
    "    \n",
    "    #形態係数収録用メモリの確保\n",
    "    #def FF_alloc(self, Nsurf):\n",
    "    #    self.__FF = [0:Nsurf-1]\n",
    "    #    #self.__FF = range(0, Nsurf-1)\n",
    "    #    print('FFの要素数=', len(self.__FF))\n",
    "    \n",
    "    #形態係数の設定\n",
    "    def setFF(self, FFd):\n",
    "        self.__FF.append(FFd)\n",
    "    #形態係数の取得\n",
    "    def FF(self, i):\n",
    "        return self.__FF[i]"
   ]
  },
  {
   "cell_type": "markdown",
   "metadata": {},
   "source": [
    "## ２）室間換気量に関するクラス"
   ]
  },
  {
   "cell_type": "markdown",
   "metadata": {},
   "source": [
    "室間換気量に関する情報を保持します。\n",
    "\n",
    "- roomname:      流入室名称\n",
    "- winter:        暖房期の流入量, m3/h\n",
    "- inter:         中間期の流入量, m3/h\n",
    "- summer:        冷房期の流入量, m3/h"
   ]
  },
  {
   "cell_type": "code",
   "execution_count": 11,
   "metadata": {},
   "outputs": [],
   "source": [
    "class NextVent:\n",
    "    def __init__(self, roomname, winter, inter, summer):\n",
    "        self.__roomname = roomname\n",
    "        self.__SeasonalValue = SeasonalValue(winter, inter, summer)\n",
    "#        self.__winter = winter                     #暖房期の流入量\n",
    "#        self.__inter = inter                       #中間期の流入量\n",
    "#        self.__summer = summer                     #冷房期の流入量\n",
    "    \n",
    "    #季節名称から風量を返す\n",
    "    def next_vent(self, strseason) :\n",
    "        if strseason == '暖房':\n",
    "            return self.__SeasonalVaue.winter\n",
    "        elif strseason == '中間':\n",
    "            return self.__SeasonalVaue.inter\n",
    "        elif strseason == '冷房':\n",
    "            return self.__SeasonalVaue.summer\n",
    "        else:\n",
    "            print('<next_vent> not defined season =', strseason)"
   ]
  },
  {
   "cell_type": "markdown",
   "metadata": {},
   "source": [
    "## ４）空間に関するクラス"
   ]
  },
  {
   "cell_type": "markdown",
   "metadata": {},
   "source": [
    "空間に関する情報を保持します。\n",
    "\n",
    "- roomname:      室区分, string\n",
    "- roomdiv:       室名称, string\n",
    "- HeatCcap:      最大暖房能力（対流）[W]\n",
    "- HeatRcap:      最大暖房能力（放射）[W]\n",
    "- CoolCcap:      最大冷房能力（対流）[W]\n",
    "- CoolRcap:      最大冷房能力（放射）[W]\n",
    "- Vol:           室気積, m3\n",
    "- Fnt:           家具熱容量, kJ/m3K\n",
    "- Vent:          計画換気量, m3/h\n",
    "- Inf:           すきま風量[Season]（list型、暖房・中間期・冷房の順）, m3/h\n",
    "- CrossVentRoom: 通風計算対象室, False\n",
    "- RadHeat:       放射暖房対象室フラグ, True\n",
    "- Betat:         放射暖房対流比率, －\n",
    "- RoomtoRoomVents:      室間換気量（list型、暖房・中間期・冷房、風上室名称）, m3/h\n",
    "- d:             室内部位に関連するクラス, Surface"
   ]
  },
  {
   "cell_type": "code",
   "execution_count": 12,
   "metadata": {},
   "outputs": [],
   "source": [
    "# 空間に関する情報の保持\n",
    "class Space:\n",
    "    FsolFlr = 0.5                                 #床の日射吸収比率\n",
    "    # 初期化\n",
    "    def __init__(self, WallMng, WindowMng, roomname, roomdiv, HeatCcap, HeatRcap, \\\n",
    "                 CoolCcap, Vol, Fnt, Vent, Inf, CrossVentRoom, \\\n",
    "                 RadHeat, Beta, RoomtoRoomVents, Surfaces):\n",
    "        self.__roomname = roomname                #室用途（主たる居室、その他居室、非居室）\n",
    "        self.__roomdiv = roomdiv                  #室名称（主寝室、子供室1、子供室2、和室）\n",
    "        self.__AnnualLoadcC = 0.0                 #年間冷房熱負荷（対流成分）\n",
    "        self.__AnnualLoadcH = 0.0                 #年間暖房熱負荷（対流成分）\n",
    "        self.__AnnualLoadrC = 0.0                 #年間冷房熱負荷（放射成分）\n",
    "        self.__AnnualLoadrH = 0.0                 #年間暖房熱負荷（放射成分）\n",
    "        self.__Tr = 15.0                          #室温の初期化\n",
    "        self.__oldTr = 15.0                       #前時刻の室温の初期化\n",
    "        self.__kc = 0.5                           #人体表面の熱伝達率の対流成分比率\n",
    "        self.__kr = 0.5                           #人体表面の熱伝達率の放射成分比率\n",
    "        self.__HeatCcap = HeatCcap                #最大暖房能力（対流）\n",
    "        self.__HeatRcap = HeatRcap                #最大暖房能力（放射）\n",
    "        self.__CoolCcap = CoolCcap                #最大冷房能力（対流）\n",
    "        #self.__CoolRcap = CoolRcap                #最大冷房能力（放射）\n",
    "        self.__Vol = Vol                          #室気積\n",
    "        self.__Fnt = Fnt                          #家具熱容量\n",
    "        #print(self.__Vol, self.__Fnt)\n",
    "        #print(self.__Vol * 1.2 * 1005.0)\n",
    "        #print(self.__Vol * self.__Fnt * 1000.0)\n",
    "        #print('aaaaa')\n",
    "        #print('Hcap=', self.__Hcap)\n",
    "        # 室空気の熱容量（家具を含む）\n",
    "        self.__Hcap = self.__Vol * 1.2 * 1005.0 + self.__Vol * self.__Fnt * 1000.0\n",
    "        #print(self.__Hcap)\n",
    "        self.__Vent = Vent                        #計画換気量\n",
    "        #print(self.__Vent)\n",
    "        self.__Inf = Inf                          #すきま風量\n",
    "        self.__CrossVentRoom = CrossVentRoom      #通風対象室フラグ\n",
    "        self.__RadHeat = RadHeat                  #放射暖房設置フラグ\n",
    "        self.__Beta = Beta                        #放射暖房対流比率\n",
    "        #self.__oldNextRoom = []\n",
    "        #self.__NextVent = []\n",
    "        self.__RoomtoRoomVent = RoomtoRoomVents\n",
    "        #print(self.__RoomtoRoomVent)\n",
    "        #for i in range(1, 3):\n",
    "        #    for j in range(0, len(NextVent)):\n",
    "        #        self.__NextVent[i][j] = NextVent[i][j]    #室間換気量\n",
    "        #        self.__oldNextRoom[j] = 15.0              #風上室の前時刻の温度\n",
    "        self.__Nsurf = 0                           #部位の数\n",
    "        self.__Surface = []\n",
    "        #def __init__(self, skin, boundary, unsteady, name, area, sunbreak, flr, fot)\n",
    "        \n",
    "        #部位表面\n",
    "        self.__Surface = Surfaces\n",
    "        print('self.__Surfaceの型：', type(self.__Surface))\n",
    "        #print(Surfaces)\n",
    "        #for d_surface in Surfaces:\n",
    "        #    print(d_surface['name'])\n",
    "        #    self.__Surface.append(Surface(WallMng, d_surface['skin'], d_surface['boundary'], d_surface['unsteady'], \\\n",
    "        #                                  d_surface['name'], d_surface['area'], d_surface['sunbreak'], \\\n",
    "        #                                  d_surface['flr'], d_surface['fot']))\n",
    "        #    self.__Nsurf += 1                         #定義部位数をインクリメント\n",
    "        #部位表面数\n",
    "        #self.__Nsurf = 5\n",
    "        self.__Nsurf = len(self.__Surface)\n",
    "        print(self.__Nsurf)\n",
    "        \n",
    "        #面対面の形態係数の計算\n",
    "        self.__Atotal = 0.0\n",
    "        \n",
    "        #print('合計面積1=', self.__Atotal)\n",
    "        #合計面積の計算\n",
    "        for nxtsurface in self.__Surface:\n",
    "            self.__Atotal += nxtsurface.area()\n",
    "        \n",
    "        #print('合計表面積=', self.__Atotal)\n",
    "        #形態係数の計算（面積比）\n",
    "        i = 0\n",
    "        for surface in self.__Surface:\n",
    "            j = 0\n",
    "            #形態係数収録用メモリの確保\n",
    "            #surface.FF_alloc(self.__Nsurf)\n",
    "            for nxtsurface in self.__Surface:\n",
    "                surface.setFF(nxtsurface.area() / self.__Atotal)\n",
    "                #print(i, j, surface.FF(j))\n",
    "                j += 1\n",
    "            i += 1\n",
    "                \n",
    "        #放射収支計算のための行列準備\n",
    "        #行列の準備と初期化\n",
    "        #[AX]\n",
    "        self.__matAXd = [ [ 0.0 for i in range(self.__Nsurf) ] for j in range(self.__Nsurf) ]\n",
    "        #{FIA}\n",
    "        self.__matFIA = [ [ 0.0 for i in range(1) ] for j in range(self.__Nsurf) ]\n",
    "        #{CRX}\n",
    "        self.__matCRX = [ [ 0.0 for i in range(1) ] for j in range(self.__Nsurf) ]\n",
    "        #{CVL}\n",
    "        self.__matCVL = [ [ 0.0 for i in range(1) ] for j in range(self.__Nsurf) ]\n",
    "        #{FLB}\n",
    "        self.__matFLB = [ [ 0.0 for i in range(1) ] for j in range(self.__Nsurf) ]\n",
    "        #{WSC}\n",
    "        self.__matWSC = [ [ 0.0 for i in range(1) ] for j in range(self.__Nsurf) ]\n",
    "        #{WSR}\n",
    "        #self.__matWSR = [ [ 0.0 for i in range(1) ] for j in range(self.__Nsurf) ]\n",
    "        #{WSV}\n",
    "        self.__matWSV = [ [ 0.0 for i in range(1) ] for j in range(self.__Nsurf) ]\n",
    "        #{WSB}\n",
    "        #self.__matWSB = [ [ 0.0 for i in range(1) ] for j in range(self.__Nsurf) ]\n",
    "        \n",
    "        #print('FIA[len]=', len(self.__matFIA))\n",
    "        i = 0\n",
    "        for surface in self.__Surface:\n",
    "            #matFIAの作成\n",
    "            #print('RFA0=', surface.RFA0())\n",
    "            #print('hi=', surface.hi())\n",
    "            self.__matFIA[i][0] = surface.RFA0() * surface.hi()\n",
    "            #print('i=', i, 'FIA=', self.__matFIA[i][0])\n",
    "            #FLB=φA0×flr×(1-Beta)\n",
    "            self.__matFLB[i][0] = surface.RFA0() * surface.flr() \\\n",
    "                        * (1. - self.__Beta) / surface.area()\n",
    "            \n",
    "            #放射計算のマトリックス作成\n",
    "            for j in range(self.__Nsurf):\n",
    "                #print('i=', i, 'j=', j)\n",
    "                #print('FIA=', self.__matFIA[0][i])\n",
    "                #print('FF=', surface.FF(j))\n",
    "                #対角要素\n",
    "                if i == j:\n",
    "                    self.__matAXd[i][j] = 1. + self.__matFIA[i][0] \\\n",
    "                            - surface.RFA0() * surface.hir() * surface.FF(j)\n",
    "                #対角要素以外\n",
    "                else:\n",
    "                    self.__matAXd[i][j] = - surface.RFA0() * surface.hir() * surface.FF(j)\n",
    "            #print('放射計算マトリックス作成完了')\n",
    "            i += 1\n",
    "        \n",
    "        print('[Matrix AXd]')\n",
    "        print(self.__matAXd)\n",
    "        \n",
    "        #逆行列の計算\n",
    "        self.__matAX = np.linalg.inv(self.__matAXd)\n",
    "        print('[Matrix AX  inverse Matrix AXd]')\n",
    "        print(self.__matAX)\n",
    "        #{WSR}の計算\n",
    "        self.__matWSR = np.dot(self.__matAX, self.__matFIA)\n",
    "        print('[Matrix FIA]')\n",
    "        print(self.__matFIA)\n",
    "        print('[Matrix WSR]')\n",
    "        print(self.__matWSR)\n",
    "        #{WSB}の計算\n",
    "        self.__matWSB = np.dot(self.__matAX, self.__matFLB)\n",
    "        print('[Matrix FLB]')\n",
    "        print(self.__matFLB)\n",
    "        print('[Matrix WSB]')\n",
    "        print(self.__matWSB)\n",
    "    \n",
    "    #室温を返す\n",
    "    def oldTr(self):\n",
    "        return self.__oldTr\n",
    "    \n",
    "    #室温、熱負荷の計算\n",
    "    def calcHload(self, SolarPosision, Schedule, Weather):\n",
    "        #室間換気の風上室温をアップデート\n",
    "        return 0"
   ]
  },
  {
   "cell_type": "markdown",
   "metadata": {},
   "source": [
    "### Constructor parameters\n",
    "```\n",
    "d = {\n",
    "    'Space': [\n",
    "        {\n",
    "            'roomname'             : # 室区分\n",
    "            'roomdiv'              : # 室名称\n",
    "            'HeatCcap'             : # 最大暖房能力（対流）[W]\n",
    "            'HeatRcap'             : # 最大暖房能力（放射）[W]\n",
    "            'CoolCcap'             : # 最大冷房能力（対流）[W]\n",
    "            'CoolRcap'             : # 最大冷房能力（放射）[W]\n",
    "            'Vol'                  : # 室気積, m3\n",
    "            'Fnt'                  : # 家具熱容量, kJ/m3K\n",
    "            'Vent': {              : # 計画換気量, m3/h\n",
    "                'winter',\n",
    "                'inter',\n",
    "                'summer'\n",
    "            }\n",
    "            'Inf' : {\n",
    "                'winter'           : #冬期のすきま風量, m3/h\n",
    "                'inter'            : #中間期のすきま風量, m3/h\n",
    "                'summer'           : #夏期のすきま風量, m3/h\n",
    "            }                      : # すきま風量[Season]（list型、暖房・中間期・冷房の順）, m3/h\n",
    "            'CrossVentRoom'        : # 通風計算対象室, False\n",
    "            'RadHeat'              : # 放射暖房対象室フラグ, True\n",
    "            'Beta'                 : # 放射暖房対流比率, －\n",
    "            'NextVent' : [         : # 室間換気量, m3/h\n",
    "                {\n",
    "                    'name'         : #室名称\n",
    "                    'winter'       : #冬期のすきま風量, m3/h\n",
    "                    'inter'        : #中間期のすきま風量, m3/h\n",
    "                    'summer'       : #夏期のすきま風量, m3/h\n",
    "                }\n",
    "            ]\n",
    "            'Surface' : [          : # 室内部位に関連するクラス, Surface\n",
    "                {\n",
    "                    'skin'         : # 外皮フラグ, 外皮の場合True\n",
    "                    'boundary'     : # 方位・隣室名, string\n",
    "                    'unsteady'     : # 非定常フラグ, 非定常壁体の場合True\n",
    "                    'name'         : # 壁体・開口部名称, string\n",
    "                    'area'         : # 面積, m2\n",
    "                    'sunbreak'     : # ひさし名称, string\n",
    "                    'flr'          : # 放射暖房吸収比率, －\n",
    "                    'fot'          : # 人体に対する形態係数, －\n",
    "                    'floor'        : # 床フラグ, 床の場合True（日射が多く当たる）\n",
    "                }\n",
    "            ]\n",
    "        }\n",
    "    ]\n",
    "}\n",
    "```"
   ]
  },
  {
   "cell_type": "code",
   "execution_count": 13,
   "metadata": {},
   "outputs": [],
   "source": [
    "class SpaceMng:\n",
    "    def __init__(self, WallMng, WindowMng, d):\n",
    "        #空間定義の配列を作成\n",
    "        self.__objSpace = []\n",
    "        #print(d)\n",
    "        self.SpacedataRead(WallMng, WindowMng, d)\n",
    "    \n",
    "    def SpacedataRead(self, WallMng, WindowMng, d):\n",
    "        for d_space in d:\n",
    "            #print(d_space)\n",
    "            #部位の情報を保持するクラスをインスタンス化\n",
    "            Surfaces = []\n",
    "            for d_surface in d_space['Surface']:\n",
    "                #skin, boundary, unsteady, name, area, sunbreak, flr, fot, floor\n",
    "                surface = Surface(WallMng, WindowMng, d_surface['skin'], d_surface['boundary'], d_surface['unsteady'], \\\n",
    "                                  d_surface['name'], d_surface['area'], d_surface['sunbrk'], \\\n",
    "                                  d_surface['flr'], d_surface['fot'])\n",
    "                Surfaces.append(surface)\n",
    "                #print(d_surface['boundary'])\n",
    "            \n",
    "            #計画換気の読み込み\n",
    "            Vent_season = d_space['Vent']\n",
    "            #Vent_season = []\n",
    "            #for d_vent in d_scpace['Vent']:\n",
    "            #    Vent_season.append(d_vent)\n",
    "            \n",
    "            #すきま風の読み込み\n",
    "            Inf_season = d_space['Inf']\n",
    "            #Inf_season = []\n",
    "            #for d_inf in d_space['Inf']:\n",
    "            #    Inf_season.append(d_inf)\n",
    "            \n",
    "            #室間換気量の読み込み\n",
    "            NextVent = []\n",
    "            for d_nextvent in d_space['NextVent']:\n",
    "                next_vent = NextVent(d_nextvent['name'], \\\n",
    "                                     d_nextvent['winter'], d_nextvent['inter'], d_nextvent['summer'])\n",
    "                NextVent.append(next_vent)\n",
    "            \n",
    "            #空間情報を保持するクラスをインスタンス化\n",
    "            #__init__(self, WallMng, WindowMng, roomname, roomdiv, HeatCcap, HeatRcap, \\\n",
    "            #     CoolCcap, Vol, Fnt, Vent, Inf, CrossVentRoom, \\\n",
    "            #     RadHeat, Beta, NextVent, Surface):\n",
    "            space = Space(WallMng, WindowMng, d_space['roomname'], d_space['roomdiv'], \\\n",
    "                          d_space['HeatCcap'], \\\n",
    "                          d_space['HeatRcap'], d_space['CoolCcap'], d_space['Vol'], \\\n",
    "                          d_space['Fnt'], d_space['Vent'], Inf_season, \\\n",
    "                          d_space['CrossVentRoom'], d_space['RadHeat'], d_space['Beta'], NextVent, Surfaces)\n",
    "            print(space)\n",
    "            self.__objSpace.append(space)\n",
    "        \n",
    "        print(self.__objSpace)\n",
    "    #室温、熱負荷の計算\n",
    "   # def calcHload(dtmDate, objWdata, objSchedule, objWindowMng, objSunbrk, objExsrfMng):\n",
    "        "
   ]
  },
  {
   "cell_type": "code",
   "execution_count": null,
   "metadata": {},
   "outputs": [],
   "source": []
  }
 ],
 "metadata": {
  "kernelspec": {
   "display_name": "Python 3",
   "language": "python",
   "name": "python3"
  },
  "language_info": {
   "codemirror_mode": {
    "name": "ipython",
    "version": 3
   },
   "file_extension": ".py",
   "mimetype": "text/x-python",
   "name": "python",
   "nbconvert_exporter": "python",
   "pygments_lexer": "ipython3",
   "version": "3.6.5"
  }
 },
 "nbformat": 4,
 "nbformat_minor": 2
}
