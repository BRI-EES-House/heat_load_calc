{
 "cells": [
  {
   "cell_type": "code",
   "execution_count": 1,
   "metadata": {},
   "outputs": [
    {
     "name": "stdout",
     "output_type": "stream",
     "text": [
      "Importing Jupyter notebook from h_make_general_part_layers.ipynb\n",
      "Importing Jupyter notebook from h_material_thermal_characteristics.ipynb\n"
     ]
    }
   ],
   "source": [
    "import nbimporter\n",
    "import copy\n",
    "import math\n",
    "import numpy\n",
    "import json\n",
    "\n",
    "import h_make_general_part_layers as mgpl\n",
    "import h_material_thermal_characteristics as mtc"
   ]
  },
  {
   "cell_type": "markdown",
   "metadata": {},
   "source": [
    "# 住宅LV4から住宅負荷計算入力データへのコンバート"
   ]
  },
  {
   "cell_type": "markdown",
   "metadata": {},
   "source": [
    "## I. 関数(common)"
   ]
  },
  {
   "cell_type": "code",
   "execution_count": 2,
   "metadata": {},
   "outputs": [],
   "source": [
    "def make_common(common):\n",
    "    \n",
    "    return {\n",
    "        'region': common['region']\n",
    "    }"
   ]
  },
  {
   "cell_type": "markdown",
   "metadata": {},
   "source": [
    "## II. 関数(rooms)"
   ]
  },
  {
   "cell_type": "markdown",
   "metadata": {},
   "source": [
    "### 床下空間の床面積の取得"
   ]
  },
  {
   "cell_type": "markdown",
   "metadata": {},
   "source": [
    "方位が'Bottom'である床下空間の外皮の部位と、床下空間の土間床を、床下空間の床とみなして、床下空間の床面積を取得する。  \n",
    "床下空間に属する部位があるが、床下空間の床面積が0㎡の場合、エラーとする。"
   ]
  },
  {
   "cell_type": "code",
   "execution_count": 3,
   "metadata": {},
   "outputs": [],
   "source": [
    "def get_area_underfloor(envelope):\n",
    "    \n",
    "    return sum([ec['area'] for ec in envelope['earthfloor_centers'] if ec['space_type'] == 'underfloor'])"
   ]
  },
  {
   "cell_type": "markdown",
   "metadata": {},
   "source": [
    "### Roomsの設定"
   ]
  },
  {
   "cell_type": "markdown",
   "metadata": {},
   "source": [
    "### 1. 容積"
   ]
  },
  {
   "cell_type": "markdown",
   "metadata": {},
   "source": [
    "$$ V_{space,i} = A_{f,i} h_{space,i} $$"
   ]
  },
  {
   "cell_type": "markdown",
   "metadata": {},
   "source": [
    "$V_{space,i}$:空間$i$の容積, m<sup>3</sup>  \n",
    "$A_{f,i}$:空間$i$の床面積, m<sup>2</sup>  \n",
    "$h_{space,i}$:空間$i$の天井高さ, m  \n",
    "空間$i$の天井高さ$h_{space,i}$は、空間の種類が「主たる居室」・「その他の居室」・「非居室」の場合は2.4mとし、「床下空間」の場合は0.4mとする。"
   ]
  },
  {
   "cell_type": "code",
   "execution_count": 4,
   "metadata": {},
   "outputs": [],
   "source": [
    "def get_room_volume(room_type, a_f):\n",
    "    \n",
    "    h_space = {\n",
    "        'main_occupant_room'  : 2.4,\n",
    "        'other_occupant_room' : 2.4,\n",
    "        'non_occupant_room'   : 2.4,\n",
    "        'underfloor'          : 0.4,\n",
    "    }[room_type]\n",
    "    \n",
    "    return a_f * h_space"
   ]
  },
  {
   "cell_type": "markdown",
   "metadata": {},
   "source": [
    "### 2. 全般換気設備の換気量（外気から）"
   ]
  },
  {
   "cell_type": "markdown",
   "metadata": {},
   "source": [
    "$$ V_{vent} = A_A h_A N a $$"
   ]
  },
  {
   "cell_type": "markdown",
   "metadata": {},
   "source": [
    "$$ V_{vent,ex-MR} = V_{vent} \\frac{ A_{MR} }{ A_{MR} + A_{OR} } $$"
   ]
  },
  {
   "cell_type": "markdown",
   "metadata": {},
   "source": [
    "$$ V_{vent,ex-OR} = V_{vent} \\frac{ A_{OR} }{ A_{MR} + A_{OR} } $$"
   ]
  },
  {
   "cell_type": "markdown",
   "metadata": {},
   "source": [
    "$$ V_{vent,ex-NR} = 0 $$"
   ]
  },
  {
   "cell_type": "markdown",
   "metadata": {},
   "source": [
    "$$ V_{vent,ex-uf} = 0 $$"
   ]
  },
  {
   "cell_type": "markdown",
   "metadata": {},
   "source": [
    "$V_{vent}$:全般換気設備の換気量, m<sup>3</sup>/h  \n",
    "$A_A$:床面積の合計, m<sup>2</sup>  \n",
    "$h_A$:天井高さ, m (=2.4)  \n",
    "$N$:換気回数, 1/h  \n",
    "$a$:全般換気設備の換気量の余裕率 (=1.1)  \n",
    "$V_{vent,ex-MR}$:外気から主たる居室への全般換気設備の換気量, m<sup>3</sup>/h  \n",
    "$V_{vent,ex-OR}$:外気からその他の居室への全般換気設備の換気量, m<sup>3</sup>/h  \n",
    "$V_{vent,ex-NR}$:外気から非居室への全般換気設備の換気量, m<sup>3</sup>/h  \n",
    "$V_{vent,ex-uf}$:外気から床下空間への全般換気設備の換気量, m<sup>3</sup>/h  \n",
    "$V_{vent,MR-NR}$:主たる居室から非居室への全般換気設備の換気量, m<sup>3</sup>/h  \n",
    "$V_{vent,OR-NR}$:その他の居室から非居室への全般換気設備の換気量, m<sup>3</sup>/h  "
   ]
  },
  {
   "cell_type": "code",
   "execution_count": 5,
   "metadata": {},
   "outputs": [],
   "source": [
    "def get_room_vent_from_outdoor(a_a, a_mr, a_or, n):\n",
    "    \n",
    "    h_a = 2.4\n",
    "    a = 1.1\n",
    "    \n",
    "    v_vent = a_a * h_a * h_a * n * a\n",
    "    \n",
    "    v_vent_ex_mr = v_vent * a_mr / (a_mr + a_or)\n",
    "    v_vent_ex_or = v_vent * a_or / (a_mr + a_or)\n",
    "    v_vent_ex_nr = 0.0\n",
    "    v_vent_ex_uf = 0.0\n",
    "    \n",
    "    return v_vent_ex_mr, v_vent_ex_or, v_vent_ex_nr, v_vent_ex_uf"
   ]
  },
  {
   "cell_type": "markdown",
   "metadata": {},
   "source": [
    "### 3. 全般換気設備の換気量（室間）"
   ]
  },
  {
   "cell_type": "markdown",
   "metadata": {},
   "source": [
    "$$ V_{vent,MR-NR} = V_{vent,ex-MR} $$"
   ]
  },
  {
   "cell_type": "markdown",
   "metadata": {},
   "source": [
    "$$ V_{vent,OR-NR} = V_{vent,ex-OR} $$"
   ]
  },
  {
   "cell_type": "code",
   "execution_count": 6,
   "metadata": {},
   "outputs": [],
   "source": [
    "def get_room_vent_between_rooms(v_vent_ex_mr, v_vent_ex_or):\n",
    "    \n",
    "    v_vent_mr_nr = v_vent_ex_mr\n",
    "    v_vent_or_nr = v_vent_ex_or\n",
    "    \n",
    "    return v_vent_mr_nr, v_vent_or_nr"
   ]
  },
  {
   "cell_type": "code",
   "execution_count": 7,
   "metadata": {},
   "outputs": [],
   "source": [
    "def get_rooms_initial(common, ventilation, envelope):\n",
    "    \n",
    "    a_a  = common['total_floor_area'] \n",
    "    a_mr = common['main_occupant_room_floor_area']\n",
    "    a_or = common['other_occupant_room_floor_area'] \n",
    "    a_nr = a_a - a_mr - a_or\n",
    "    a_uf = get_area_underfloor(envelope)\n",
    "    \n",
    "    n = ventilation['air_change_rate']\n",
    "    \n",
    "    v_vent_ex_mr, v_vent_ex_or, v_vent_ex_nr, v_vent_ex_uf = get_room_vent_from_outdoor(a_a, a_mr, a_or, n)\n",
    "    v_vent_mr_nr, v_vent_or_nr = get_room_vent_between_rooms(v_vent_ex_mr, v_vent_ex_or)\n",
    "    \n",
    "    c_value = 5.0 # ここは住宅構造やUA値等から何らかの設定が必要\n",
    "    \n",
    "    def make_room(name, room_type, volume, vent, next_vent, c_value):\n",
    "        \n",
    "        return {\n",
    "            'name'                : name,\n",
    "            'room_type'           : room_type,\n",
    "            'volume'              : volume,\n",
    "            'vent'                : vent,\n",
    "            'next_vent'           : next_vent,\n",
    "            'c_value'             : c_value,\n",
    "            'CrossVentRoom'       : False,\n",
    "            'RadHeat'             : False,\n",
    "            'Beta'                : 0.0,\n",
    "            'LinearHeatBridge'    : [],\n",
    "            'EarthfloorPerimeter' : [],\n",
    "            'surface'             : [],\n",
    "        }\n",
    "    \n",
    "    rooms = []\n",
    "\n",
    "    if a_mr <= 0.0:\n",
    "        raise ValueError('主たる居室の面積が0m2になっています。')\n",
    "        \n",
    "    room_mr = make_room(\n",
    "        name='main_occupant_room',\n",
    "        room_type='main_occupant_room',\n",
    "        volume=get_room_volume(room_type='main_occupant_room', a_f=a_mr),\n",
    "        vent=v_vent_ex_mr,\n",
    "        next_vent=[],\n",
    "        c_value=c_value\n",
    "    )\n",
    "    \n",
    "    rooms.append(room_mr)\n",
    "    \n",
    "    if a_or > 0.0:\n",
    "        \n",
    "        room_or = make_room(\n",
    "            name='other_occupant_room',\n",
    "            room_type='other_occupant_room',\n",
    "            volume=get_room_volume(room_type='other_occupant_room', a_f=a_or),\n",
    "            vent=v_vent_ex_or,\n",
    "            next_vent=[],\n",
    "            c_value=c_value\n",
    "        )\n",
    "        \n",
    "        rooms.append(room_or)\n",
    "        \n",
    "    if a_nr > 0.0:\n",
    "        \n",
    "        next_vent = []\n",
    "        \n",
    "        if a_mr > 0.0:\n",
    "            next_vent.append({\n",
    "                'upstream_room_name' : 'main',\n",
    "                'volume'             : v_vent_mr_nr,\n",
    "            })\n",
    "        \n",
    "        if a_or > 0.0:\n",
    "            next_vent.append({\n",
    "                'upstream_room_name': 'other',\n",
    "                'volume': v_vent_or_nr,\n",
    "            })\n",
    "        \n",
    "        room_nr = make_room(\n",
    "            name='non_occupant_room',\n",
    "            room_type='non_occupant_room',\n",
    "            volume=get_room_volume(room_type='non_occupant_room', a_f=a_nr),\n",
    "            vent=v_vent_ex_nr,\n",
    "            next_vent=next_vent,\n",
    "            c_value=c_value\n",
    "        )\n",
    "        \n",
    "        rooms.append(room_nr)\n",
    "        \n",
    "    if a_uf > 0.0:\n",
    "        \n",
    "        room_uf = make_room(\n",
    "            name='underfloor',\n",
    "            room_type='underfloor',\n",
    "            volume=get_room_volume(room_type='underfloor', a_f=a_uf),\n",
    "            vent=v_vent_ex_uf,\n",
    "            next_vent=[],\n",
    "            c_value=c_value\n",
    "        )\n",
    "        \n",
    "        rooms.append(room_uf)\n",
    "    \n",
    "    return rooms"
   ]
  },
  {
   "cell_type": "markdown",
   "metadata": {},
   "source": [
    "### 表面熱伝達抵抗の取得"
   ]
  },
  {
   "cell_type": "markdown",
   "metadata": {},
   "source": [
    "#### Outline"
   ]
  },
  {
   "cell_type": "markdown",
   "metadata": {},
   "source": [
    "平成28年省エネルギー基準に準拠したエネルギー消費性能の評価に関する技術情報（住宅）  \n",
    "　２．エネルギー消費性能の算定方法  \n",
    "　　2.2　算定方法  \n",
    "　　　第三章　 暖冷房負荷と外皮性能  \n",
    "　　　　第三節　熱貫流率及び線熱貫流率  \n",
    "　　　　　付録 A 住宅の平均熱貫流率算出に用いる建材等の熱物性値等   \n",
    "　　　　　　表 3.1 表面熱伝達抵抗   \n",
    "　　　　　　表 3.2 表面熱伝達抵抗（界壁・界床の場合） "
   ]
  },
  {
   "cell_type": "markdown",
   "metadata": {},
   "source": [
    "### Boundaryの設定"
   ]
  },
  {
   "cell_type": "markdown",
   "metadata": {},
   "source": [
    "#### Outline"
   ]
  },
  {
   "cell_type": "markdown",
   "metadata": {},
   "source": [
    "方位情報より方位角・傾斜角を取得する。"
   ]
  },
  {
   "cell_type": "markdown",
   "metadata": {},
   "source": [
    "#### Function"
   ]
  },
  {
   "cell_type": "code",
   "execution_count": 8,
   "metadata": {},
   "outputs": [],
   "source": [
    "def get_directionangle_from_direction(direction):\n",
    "    \n",
    "    Direction_to_DirectionAngle = {\n",
    "        'Top': None,\n",
    "        'N':   180,\n",
    "        'NE': -135,\n",
    "        'E':   -90,\n",
    "        'SE':  -45,\n",
    "        'S':     0,\n",
    "        'SW':   45,\n",
    "        'W':    90,\n",
    "        'NW':  135,\n",
    "        'Bottom':          None,\n",
    "        'ClosedSpace':     None,\n",
    "        'OpenBackFloor':   None,\n",
    "        'ResidenceSpace':  None,\n",
    "        'ClosedBackFloor': None\n",
    "    }\n",
    "    \n",
    "    return Direction_to_DirectionAngle[direction]"
   ]
  },
  {
   "cell_type": "code",
   "execution_count": 9,
   "metadata": {},
   "outputs": [],
   "source": [
    "def get_inclinationangle_from_direction(direction):\n",
    "    \n",
    "    Direction_to_InclinationAngle = {\n",
    "        'Top': 0,\n",
    "        'N':  90,\n",
    "        'NE': 90,\n",
    "        'E':  90,\n",
    "        'SE': 90,\n",
    "        'S':  90,\n",
    "        'SW': 90,\n",
    "        'W':  90,\n",
    "        'NW': 90,\n",
    "        'Bottom': 180,\n",
    "        'ClosedSpace':     None,\n",
    "        'OpenBackFloor':   None,\n",
    "        'ResidenceSpace':  None,\n",
    "        'ClosedBackFloor': None\n",
    "    }\n",
    "    \n",
    "    return Direction_to_InclinationAngle[direction]"
   ]
  },
  {
   "cell_type": "markdown",
   "metadata": {},
   "source": [
    "#### Outline"
   ]
  },
  {
   "cell_type": "markdown",
   "metadata": {},
   "source": [
    "方位情報より隣室温度差係数を取得する。"
   ]
  },
  {
   "cell_type": "markdown",
   "metadata": {},
   "source": [
    "#### Function"
   ]
  },
  {
   "cell_type": "code",
   "execution_count": 10,
   "metadata": {},
   "outputs": [],
   "source": [
    "def get_tempdifferentfactor_from_direction(region, direction):\n",
    "    \n",
    "    Direction_to_NextSpace = {\n",
    "        'Top':     'outside',\n",
    "        'N':       'outside',\n",
    "        'NE':      'outside',\n",
    "        'E':       'outside',\n",
    "        'SE':      'outside',\n",
    "        'S':       'outside',\n",
    "        'SW':      'outside',\n",
    "        'W':       'outside',\n",
    "        'NW':      'outside',\n",
    "        'Bottom':  'outside',\n",
    "        'ClosedSpace':     'underfloor',\n",
    "        'OpenBackFloor':   'underfloor',\n",
    "        'ResidenceSpace':  'next_room',\n",
    "        'ClosedBackFloor': 'next_room'\n",
    "    }    \n",
    "    \n",
    "    NextSpace_to_TempDifferentFactor = {\n",
    "        # 外気又は外気に通じる空間(小屋裏・天井裏・共用部・屋内駐車場・メーターボックス・エレベーターシャフト等)\n",
    "        'outside'    : {1: 1.00, 2: 1.00, 3: 1.00, 4: 1.00, 5: 1.00, 6: 1.00, 7: 1.00, 8: 1.00 }, \n",
    "        # 外気に通じていない空間(昇降機室、共用機械室、倉庫等)又は外気に通じる床裏\n",
    "        'underfloor' : {1: 0.70, 2: 0.70, 3: 0.70, 4: 0.70, 5: 0.70, 6: 0.70, 7: 0.70, 8: 0.70 }, \n",
    "        # 住戸、住戸と同様の熱的環境の空問(空調された共用部等)又は外気に通じていない床裏(ピット等）\n",
    "        'next_room'  : {1: 0.05, 2: 0.05, 3: 0.05, 4: 0.15, 5: 0.15, 6: 0.15, 7: 0.15, 8: 0.15 }  \n",
    "    }\n",
    "    \n",
    "    return  NextSpace_to_TempDifferentFactor[Direction_to_NextSpace[direction]][region]"
   ]
  },
  {
   "cell_type": "markdown",
   "metadata": {},
   "source": [
    "#### Outline"
   ]
  },
  {
   "cell_type": "markdown",
   "metadata": {},
   "source": [
    "Boundaryを設定する。"
   ]
  },
  {
   "cell_type": "markdown",
   "metadata": {},
   "source": [
    "#### Function"
   ]
  },
  {
   "cell_type": "code",
   "execution_count": 11,
   "metadata": {},
   "outputs": [],
   "source": [
    "def get_boundary_for_outer_skin(region, nextspace, direction):\n",
    "    \n",
    "    Type = {\n",
    "        'Top':     'Outdoor',\n",
    "        'N':       'Outdoor',\n",
    "        'NE':      'Outdoor',\n",
    "        'E':       'Outdoor',\n",
    "        'SE':      'Outdoor',\n",
    "        'S':       'Outdoor',\n",
    "        'SW':      'Outdoor',\n",
    "        'W':       'Outdoor',\n",
    "        'NW':      'Outdoor',\n",
    "        'Bottom':  'Outdoor',\n",
    "        'ClosedSpace':     'DeltaTCoeff',\n",
    "        'OpenBackFloor':   'DeltaTCoeff',\n",
    "        'ResidenceSpace':  'DeltaTCoeff',\n",
    "        'ClosedBackFloor': 'DeltaTCoeff'\n",
    "    }    \n",
    "    \n",
    "    boundary = {\n",
    "        'Outdoor': {\n",
    "            'name': direction,\n",
    "            'Type': 'Outdoor',\n",
    "            'DirectionAngle': get_directionangle_from_direction(direction if nextspace=='Outdoor' else nextspace),\n",
    "            'InclinationAngle': get_inclinationangle_from_direction(direction if nextspace=='Outdoor' else nextspace),\n",
    "            'GroundReflectRate': 0.1\n",
    "        },\n",
    "        'DeltaTCoeff': {\n",
    "            'name': direction,\n",
    "            'Type': 'DeltaTCoeff',\n",
    "            'TempDifferFactor': get_tempdifferentfactor_from_direction(region, direction if nextspace =='Outdoor' else nextspace)\n",
    "        }\n",
    "    }[Type[direction if nextspace=='Outdoor' else nextspace]]\n",
    "\n",
    "    return boundary"
   ]
  },
  {
   "cell_type": "code",
   "execution_count": 12,
   "metadata": {},
   "outputs": [],
   "source": [
    "def get_boundary_for_inner_skin(type, nextspace):\n",
    "    \n",
    "    boundary = {\n",
    "        'name': 'NextRoom' + '_' + nextspace,\n",
    "        'Type': 'NextRoom',\n",
    "        'room_type': nextspace\n",
    "    }\n",
    "    \n",
    "    return boundary"
   ]
  },
  {
   "cell_type": "code",
   "execution_count": 13,
   "metadata": {},
   "outputs": [],
   "source": [
    "def get_boundary_for_earthfloorperimeter(region, direction):\n",
    "    \n",
    "    Type = {\n",
    "        'Top':     'Outdoor',\n",
    "        'N':       'Outdoor',\n",
    "        'NE':      'Outdoor',\n",
    "        'E':       'Outdoor',\n",
    "        'SE':      'Outdoor',\n",
    "        'S':       'Outdoor',\n",
    "        'SW':      'Outdoor',\n",
    "        'W':       'Outdoor',\n",
    "        'NW':      'Outdoor',\n",
    "        'Bottom':  'Outdoor',\n",
    "        'ClosedSpace':     'DeltaTCoeff',\n",
    "        'OpenBackFloor':   'DeltaTCoeff',\n",
    "        'ResidenceSpace':  'DeltaTCoeff',\n",
    "        'ClosedBackFloor': 'DeltaTCoeff'\n",
    "    }    \n",
    "    \n",
    "    boundary = {\n",
    "        'Outdoor': {\n",
    "            'name': direction,\n",
    "            'Type': 'Outdoor'\n",
    "        },\n",
    "        'DeltaTCoeff': {\n",
    "            'name': direction,\n",
    "            'Type': 'DeltaTCoeff',\n",
    "            'TempDifferFactor': get_tempdifferentfactor_from_direction(region, direction)\n",
    "        }\n",
    "    }[Type[direction]]\n",
    "\n",
    "    return boundary"
   ]
  },
  {
   "cell_type": "markdown",
   "metadata": {},
   "source": [
    "### directionの設定"
   ]
  },
  {
   "cell_type": "markdown",
   "metadata": {},
   "source": [
    "#### Outline"
   ]
  },
  {
   "cell_type": "markdown",
   "metadata": {},
   "source": [
    "方位（Top/N/NE/E/SE/S/SW/W/NW/Bottom）より方位（Upward/Vertical/Downward）を決定する。  \n",
    "方位（Top/N/NE/E/SE/S/SW/W/NW/Bottom）にClosedSpace/OpenBackFloor/ResidenceSpace/ClosedBackFloorが含まれるが、方位と温度差係数を別の変数として扱うべき。"
   ]
  },
  {
   "cell_type": "markdown",
   "metadata": {},
   "source": [
    "#### Function"
   ]
  },
  {
   "cell_type": "code",
   "execution_count": 14,
   "metadata": {},
   "outputs": [],
   "source": [
    "def get_direction_from_direction_for_outer_skin(direction):\n",
    "    \n",
    "    return {\n",
    "        'Top':     'Downward',\n",
    "        'N':       'Vertical',\n",
    "        'NE':      'Vertical',\n",
    "        'E':       'Vertical',\n",
    "        'SE':      'Vertical',\n",
    "        'S':       'Vertical',\n",
    "        'SW':      'Vertical',\n",
    "        'W':       'Vertical',\n",
    "        'NW':      'Vertical',\n",
    "        'Bottom':  'Upward',\n",
    "        'ClosedSpace':     'Vertical', # 暫定的な処理。方位と温度差係数を別の変数として扱うべき。\n",
    "        'OpenBackFloor':   'Upward',    # 暫定値な処理。方位と温度差係数を別の変数として扱うべき。\n",
    "        'ResidenceSpace':  'Vertical', # 暫定値な処理。方位と温度差係数を別の変数として扱うべき。\n",
    "        'ClosedBackFloor': 'Upward'     # 暫定値な処理。方位と温度差係数を別の変数として扱うべき。             \n",
    "    }[direction]"
   ]
  },
  {
   "cell_type": "markdown",
   "metadata": {},
   "source": [
    "#### Outline"
   ]
  },
  {
   "cell_type": "markdown",
   "metadata": {},
   "source": [
    "内壁種類（InnerCeiling/InnerWall/InnerFloo/GroundFloor）と室より方位（Upward/Vertical/Downward）を決定する。"
   ]
  },
  {
   "cell_type": "markdown",
   "metadata": {},
   "source": [
    "#### Function"
   ]
  },
  {
   "cell_type": "code",
   "execution_count": 15,
   "metadata": {},
   "outputs": [],
   "source": [
    "def get_direction_from_direction_for_inner_skin(space, type):\n",
    "    \n",
    "    return {\n",
    "        'main_occupant_room': {'InnerCeiling': 'Downward', 'InnerWall': 'Vertical', 'InnerFloor': 'Upward', 'GroundFloor': 'Upward'},\n",
    "        'other_occupant_room':      {'InnerCeiling': 'Downward', 'InnerWall': 'Vertical', 'InnerFloor': 'Upward', 'GroundFloor': 'Upward'},\n",
    "        'non_occupant_room':  {'InnerCeiling': 'Downward', 'InnerWall': 'Vertical', 'InnerFloor': 'Upward', 'GroundFloor': 'Upward'},\n",
    "        'underfloor': {'InnerCeiling': None,       'InnerWall': None,        'InnerFloor': None,     'GroundFloor': 'Downward'}\n",
    "    }[space][type]"
   ]
  },
  {
   "cell_type": "markdown",
   "metadata": {},
   "source": [
    "### 層構成の設定"
   ]
  },
  {
   "cell_type": "markdown",
   "metadata": {},
   "source": [
    "#### Outline"
   ]
  },
  {
   "cell_type": "markdown",
   "metadata": {},
   "source": [
    "容積比熱情報がない場合は、0kJ/(㎥・K)とする。"
   ]
  },
  {
   "cell_type": "markdown",
   "metadata": {},
   "source": [
    "#### Function"
   ]
  },
  {
   "cell_type": "code",
   "execution_count": 16,
   "metadata": {},
   "outputs": [],
   "source": [
    "def make_layer(name, thick, cond, specH, **kwargs) :\n",
    "    \n",
    "    return {\n",
    "            'name'  : name,\n",
    "            'thick' : thick,\n",
    "            'cond'  : cond,\n",
    "            'specH' : 0 if specH == None else specH\n",
    "    }"
   ]
  },
  {
   "cell_type": "markdown",
   "metadata": {},
   "source": [
    "### Walls要素をRoomsに展開"
   ]
  },
  {
   "cell_type": "markdown",
   "metadata": {},
   "source": [
    "#### Outline"
   ]
  },
  {
   "cell_type": "markdown",
   "metadata": {},
   "source": [
    "Partsの複数の要素を複数の部位に分離する。"
   ]
  },
  {
   "cell_type": "markdown",
   "metadata": {},
   "source": [
    "方位が'Bottom'である外皮の部位を、床と判定する。  \n",
    "【要確認】方位が'Bottom'である外皮の部位、土間床の合計面積が、用途別床面積を超過する場合にどうするか"
   ]
  },
  {
   "cell_type": "markdown",
   "metadata": {},
   "source": [
    "#### Function"
   ]
  },
  {
   "cell_type": "code",
   "execution_count": 17,
   "metadata": {},
   "outputs": [],
   "source": [
    "def integrate_walls_to_rooms(region, general_parts, d_rooms):\n",
    "    \n",
    "    n = {'Roof': 1, 'Ceiling': 1, 'Wall': 1, 'Floor': 1, 'BoundaryCeiling': 1, 'BoundaryWall': 1, 'BoundaryFloor': 1}\n",
    "    \n",
    "    surfaces_mr = []\n",
    "    surfaces_or = []\n",
    "    surfaces_nr = []\n",
    "    surfaces_uf = []\n",
    "    \n",
    "    for gp in general_parts:\n",
    "        \n",
    "        r_i, r_o = mtc.get_surface_thermal_resistance(general_part_type=gp['general_part_type'], next_space=gp['next_space'])\n",
    "        \n",
    "        if gp['spec']['structure'] == 'wood':\n",
    "            if gp['spec']['u_value_input_method_wood'] == 'u_value_directly':\n",
    "                parts = mgpl.get_parts_u_value_directly(\n",
    "                    general_part_type=gp['general_part_type'],\n",
    "                    next_space=x['next_space'],\n",
    "                    structure='wood',\n",
    "                    u_value=x['spec']['u_value'])\n",
    "            elif gp['spec']['u_value_input_method_wood'] == 'detail_method':\n",
    "                parts = mgpl.get_parts_detail_method(gp['spec']['parts'])\n",
    "            elif gp['spec']['u_value_input_method_wood'] == 'area_ratio_method':\n",
    "                parts = mgpl.get_parts_area_ratio_method(\n",
    "                    general_part_type=gp['general_part_type'],\n",
    "                    spec=gp['spec'])\n",
    "            elif gp['spec']['u_value_input_method_wood'] == 'r_corrected_method':\n",
    "                raise KeyError('熱貫流率補正法は実装していません。')\n",
    "            else:\n",
    "                raise ValueError()\n",
    "        elif gp['spec']['structure'] == 'rc':\n",
    "            if gp['spec']['u_value_input_method_rc'] == 'u_value_directly':\n",
    "                parts = mgpl.get_parts_u_value_directly(\n",
    "                    general_part_type=gp['general_part_type'],\n",
    "                    next_space=x['next_space'],\n",
    "                    structure='rc',\n",
    "                    u_value=x['spec']['u_value'])\n",
    "            elif gp['spec']['u_value_input_method_rc'] == 'detail_method':\n",
    "                parts = mgpl.get_parts_detail_method(gp['spec']['parts'])\n",
    "            else:\n",
    "                raise ValueError()\n",
    "        elif gp['spec']['structure'] == 'steel':\n",
    "            if gp['spec']['u_value_input_method_steel'] == 'u_value_directly':\n",
    "                parts = mgpl.get_parts_u_value_directly(\n",
    "                    general_part_type=gp['general_part_type'],\n",
    "                    next_space=x['next_space'],\n",
    "                    structure='steel',\n",
    "                    u_value=x['spec']['u_value'])\n",
    "            elif gp['spec']['u_value_input_method_steel'] == 'detail_method':\n",
    "                parts = mgpl.get_parts_detail_method_steel(\n",
    "                    general_part_type==gp['general_part_type'],\n",
    "                    next_space=x['next_space'],\n",
    "                    spec=gp['spec'])\n",
    "            else:\n",
    "                raise ValueError()\n",
    "        elif gp['spec']['structure'] == 'other':\n",
    "            parts = mgpl.get_parts_u_value_directly(\n",
    "                    general_part_type=gp['general_part_type'],\n",
    "                    next_space=x['next_space'],\n",
    "                    structure='steel',\n",
    "                    u_value=x['spec']['u_value'])\n",
    "        else:\n",
    "            raise ValueError()\n",
    "        \n",
    "        for part in parts:\n",
    "            surface = {\n",
    "                'skin': True, \n",
    "                'direction': get_direction_from_direction_for_outer_skin(gp['direction'] if gp['nextspace']=='Outdoor' else gp['nextspace']),\n",
    "                'floor': True if gp['direction'] == 'Bottom' else False,\n",
    "                'boundary': get_boundary_for_outer_skin(region, gp['nextspace'], gp['direction']),\n",
    "                'unsteady': True, \n",
    "                'IsSoil': False,\n",
    "                'name': gp['type'] + str(n[gp['type']]), \n",
    "                'area': gp['area'], \n",
    "                'flr' : 0,\n",
    "                'Wall': {\n",
    "                    'OutEmissiv': 0.9,\n",
    "                    'OutSolarAbs': 0.8,\n",
    "                    'OutHeatTrans': 1/r_o,\n",
    "                    'InHeatTrans': 1/r_i,\n",
    "                    'Layers':gp['Layers']\n",
    "                },\n",
    "                'sunbreak':{'D': gp['Z'], 'WI1': 500, 'WI2': 500, 'hi': gp['Y1'], 'WR': 0, 'WH': gp['Y2'], \n",
    "                            'name': 'ひさし'} if gp['IsSunshadeInput'] == True else {}\n",
    "            }\n",
    "            \n",
    "            if gp['space_type'] == 'main_occupant_room':\n",
    "                surfaces_mr.append(surface)\n",
    "            elif gp['space_type'] == 'other_occupant_room':\n",
    "                surfaces_or.append(surface)\n",
    "            elif gp['space_type'] == 'non_occupant_room':\n",
    "                surfaces_nr.append(surface)\n",
    "            elif gp['space_type'] == 'under_floor':\n",
    "                surfaces_uf.append(surface)\n",
    "            else:\n",
    "                raise ValueError()\n",
    "                \n",
    "            n[gp['type']] = n[gp['type']] + 1\n",
    "    \n",
    "    for y in d_rooms:\n",
    "        \n",
    "        if y['room_type'] == 'main_occupant_room':\n",
    "            y['surface'].extend(surfaces_mr)\n",
    "        elif y['room_type']  == 'other_occupant_room':\n",
    "            y['surface'].extend(surfaces_or)\n",
    "        elif y['room_type'] == 'non_occupant_room':\n",
    "            y['surface'].extend(surfaces_nr)\n",
    "        elif y['room_type'] == 'underfloor':\n",
    "            y['surface'].extend(surfaces_uf)\n",
    "        else:\n",
    "            raise ValueError()\n",
    "    \n",
    "    return d_rooms"
   ]
  },
  {
   "cell_type": "markdown",
   "metadata": {},
   "source": [
    "### InnerWalls要素をRoomsに展開"
   ]
  },
  {
   "cell_type": "markdown",
   "metadata": {},
   "source": [
    "#### Outline"
   ]
  },
  {
   "cell_type": "markdown",
   "metadata": {},
   "source": [
    "床下空間上の床、室上の床を、床と判定する。  \n",
    "【要確認】方位が'Bottom'である外皮の部位、土間床の合計面積が、用途別床面積を超過する場合にどうするか"
   ]
  },
  {
   "cell_type": "markdown",
   "metadata": {},
   "source": [
    "#### Function"
   ]
  },
  {
   "cell_type": "code",
   "execution_count": 18,
   "metadata": {},
   "outputs": [],
   "source": [
    "def integrate_innerwalls_to_rooms(region, d_innerwalls, d_rooms):\n",
    "    \n",
    "    n = {'InnerCeiling': 1, 'InnerWall': 1, 'InnerFloor': 1, 'GroundFloor': 1}\n",
    "    for x in d_innerwalls :\n",
    "        \n",
    "        r_i, r_o = mtc.get_surface_thermal_resistance(general_part_type=x['general_part'], next_space=x['next_space'])\n",
    "        \n",
    "        for y in d_rooms :\n",
    "            if x['space'] == y['room_type'] :    \n",
    "                y['Surface'].append({\n",
    "                    'skin': False, \n",
    "                    'direction': get_direction_from_direction_for_inner_skin(x['space'], x['type']),\n",
    "                    'floor': True if (x['type'] == 'GroundFloor' or x['type'] == 'InnerFloor') else False,\n",
    "                    'boundary': get_boundary_for_inner_skin(x['type'], x['nextspace']),\n",
    "                    'unsteady': True,\n",
    "                    'IsSoil': False,\n",
    "                    'name': x['type'] + str(n[x['type']]), \n",
    "                    'area': x['area'], \n",
    "                    'flr' : 0,\n",
    "                    'Wall': {\n",
    "                        'OutHeatTrans': 1/r_o,\n",
    "                        'InHeatTrans': 1/r_i,\n",
    "                        'Layers':x['Layers']\n",
    "                    },\n",
    "                })\n",
    "                n[x['type']] = n[x['type']] + 1\n",
    "    \n",
    "    return d_rooms"
   ]
  },
  {
   "cell_type": "markdown",
   "metadata": {},
   "source": [
    "### Doors要素をRoomsに展開"
   ]
  },
  {
   "cell_type": "markdown",
   "metadata": {},
   "source": [
    "#### Outline"
   ]
  },
  {
   "cell_type": "markdown",
   "metadata": {},
   "source": [
    "方位が'Bottom'である外皮の部位を、床と判定する。  \n",
    "【要確認】方位が'Bottom'である外皮の部位、土間床の合計面積が、用途別床面積を超過する場合にどうするか"
   ]
  },
  {
   "cell_type": "markdown",
   "metadata": {},
   "source": [
    "#### Function"
   ]
  },
  {
   "cell_type": "code",
   "execution_count": 19,
   "metadata": {},
   "outputs": [],
   "source": [
    "def integrate_doors_to_rooms(region, d_doors, d_rooms):\n",
    "    \n",
    "    n = 1\n",
    "    for x in d_doors :\n",
    "        for y in d_rooms :\n",
    "            if x['space'] == y['room_type'] :\n",
    "                eta = 0.034*x['U']\n",
    "                y['Surface'].append({\n",
    "                    'skin': True, \n",
    "                    'direction': get_direction_from_direction_for_outer_skin(x['direction']),\n",
    "                    'floor': True if x['direction'] == 'Bottom' else False,\n",
    "                    'boundary': get_boundary_for_outer_skin(region, x['nextspace'], x['direction']),\n",
    "                    'unsteady': False, \n",
    "                    'name': 'Door' + str(n), \n",
    "                    'area': x['area'], \n",
    "                    'flr' : 0,\n",
    "                    'Window': {\n",
    "                        'Eta': eta,\n",
    "                        'SolarTrans': eta,\n",
    "                        'SolarAbsorp': 0,\n",
    "                        'Uw': x['U'],\n",
    "                        'OutEmissiv': 0.9,\n",
    "                        'OutHeatTrans': 1/0.04,\n",
    "                        'InHeatTrans': 1/0.11,\n",
    "                    },\n",
    "                    'sunbreak':{'D': x['Z'], 'WI1': 500, 'WI2': 500, 'hi': x['Y1'], 'WR': 0, 'WH': x['Y2'], \n",
    "                                'name': 'ひさし'} if x['IsSunshadeInput'] == True else {}\n",
    "                })\n",
    "                n = n + 1\n",
    "    \n",
    "    return d_rooms"
   ]
  },
  {
   "cell_type": "markdown",
   "metadata": {},
   "source": [
    "### Windows要素をRoomsに展開"
   ]
  },
  {
   "cell_type": "markdown",
   "metadata": {},
   "source": [
    "平成28年省エネルギー基準に準拠したエネルギー消費性能の評価に関する技術情報（住宅）  \n",
    "　２．エネルギー消費性能の算定方法  \n",
    "　　2.2　算定方法  \n",
    "　　　第三章　 暖冷房負荷と外皮性能  \n",
    "　　　　第四節　日射熱取得率  "
   ]
  },
  {
   "cell_type": "markdown",
   "metadata": {},
   "source": [
    "#### Outline"
   ]
  },
  {
   "cell_type": "markdown",
   "metadata": {},
   "source": [
    "<div style=\"text-align: center;\"> 付録C　表1 ガラスの垂直面日射熱取得率 </div>\n",
    "\n",
    "| ガラスの仕様 | 　 | 　 | 付属部材なし | 和障子 | 外付けブラインド |\n",
    "|---|---|---|---|---|---|\n",
    "| 三層複層 | 2枚以上のガラス表面にLow-E膜を使用したLow-E三層複層ガラス | 日射取得型 | 0.54 | 0.34 | 0.12 |\n",
    "| 三層複層 | 2枚以上のガラス表面にLow-E膜を使用したLow-E三層複層ガラス | 日射遮蔽型 | 0.33 | 0.22 | 0.08 |\n",
    "| 三層複層 | Low-E三層複層ガラス | 日射取得型 | 0.59 | 0.37 | 0.14 |\n",
    "| 三層複層 | Low-E三層複層ガラス | 日射遮蔽型 | 0.37 | 0.25 | 0.10 |\n",
    "| 三層複層 | 三層複層ガラス　| 　 | 0.72 | 0.38 | 0.18 |\n",
    "| 二層複層 | Low-E二複層ガラス | 日射取得型 | 0.64 | 0.38 | 0.15 |\n",
    "| 二層複層 | Low-E二複層ガラス | 日射遮蔽型 | 0.40 | 0.26 | 0.11 |\n",
    "| 二層複層 | 二層複層ガラス | 　 | 0.79 | 0.38 | 0.17 |\n",
    "| 二層複層 | 単板ガラス2枚を組み合わせたもの | 日射遮蔽型 | 0.79 | 0.38 | 0.17 |\n",
    "| 単層 | 単板ガラス　| 　 | 0.88 | 0.38 | 0.19 |"
   ]
  },
  {
   "cell_type": "code",
   "execution_count": 20,
   "metadata": {},
   "outputs": [],
   "source": [
    "def get_eta_from_specification(typeFrame, typeGlass, typeShade):\n",
    "    \n",
    "    f_frame = {'WoodOrResin': 0.72, 'Steel': 0.8}[typeFrame]\n",
    "    \n",
    "    eta = {\n",
    "        '3WgG':            {'None': 0.54, 'Shoji': 0.34, 'ExtarnalBlind': 0.12}, # 三層複層 Low-E三層複層ガラス（Low-Eガラス2枚）日射取得型\n",
    "        '3WsG':            {'None': 0.33, 'Shoji': 0.22, 'ExtarnalBlind': 0.08}, # 三層複層 Low-E三層複層ガラス（Low-Eガラス2枚）日射遮蔽型\n",
    "        '3LgG':            {'None': 0.59, 'Shoji': 0.37, 'ExtarnalBlind': 0.14}, # 三層複層 Low-E三層複層ガラス（Low-Eガラス1枚）日射取得型\n",
    "        '3LsG':            {'None': 0.37, 'Shoji': 0.25, 'ExtarnalBlind': 0.10}, # 三層複層 Low-E三層複層ガラス（Low-Eガラス1枚）日射遮蔽型\n",
    "        '2LgG':            {'None': 0.64, 'Shoji': 0.38, 'ExtarnalBlind': 0.15}, # 二層複層 Low-E複層ガラス日射取得型\n",
    "        '2LsG':            {'None': 0.40, 'Shoji': 0.26, 'ExtarnalBlind': 0.11}, # 二層複層 Low-E複層ガラス日射遮蔽型\n",
    "        '2FAheatreflect1': {'None': 0.79, 'Shoji': 0.38, 'ExtarnalBlind': 0.17}, # 二層複層 遮熱複層ガラス熱線反射ガラス1種\n",
    "        '2FAheatreflect2': {'None': 0.79, 'Shoji': 0.38, 'ExtarnalBlind': 0.17}, # 二層複層 遮熱複層ガラス熱線反射ガラス2種\n",
    "        '2FAheatreflect3': {'None': 0.79, 'Shoji': 0.38, 'ExtarnalBlind': 0.17}, # 二層複層 遮熱複層ガラス熱線反射ガラス3種\n",
    "        '2FAheatabsorb2':  {'None': 0.79, 'Shoji': 0.38, 'ExtarnalBlind': 0.17}, # 二層複層 遮熱複層ガラス熱線吸収板ガラス2種\n",
    "        '2FAmulti':        {'None': 0.79, 'Shoji': 0.38, 'ExtarnalBlind': 0.17}, # 二層複層 複層ガラス\n",
    "        '2FAsingle':       {'None': 0.79, 'Shoji': 0.38, 'ExtarnalBlind': 0.17}, # 二層複層 単板ガラス2枚\n",
    "        'Theatreflect1':   {'None': 0.88, 'Shoji': 0.38, 'ExtarnalBlind': 0.19}, # 単層 単板ガラス熱線反射ガラス1種\n",
    "        'Theatreflect2':   {'None': 0.88, 'Shoji': 0.38, 'ExtarnalBlind': 0.19}, # 単層 単板ガラス熱線反射ガラス2種\n",
    "        'Theatreflect3':   {'None': 0.88, 'Shoji': 0.38, 'ExtarnalBlind': 0.19}, # 単層 単板ガラス熱線反射ガラス3種\n",
    "        'Theatabsorb2':    {'None': 0.88, 'Shoji': 0.38, 'ExtarnalBlind': 0.19}, # 単層 単板ガラス熱線吸収板ガラス2種\n",
    "        'Tsingle':         {'None': 0.88, 'Shoji': 0.38, 'ExtarnalBlind': 0.19}  # 単層 単板ガラスその他\n",
    "    }[typeGlass][typeShade]\n",
    "    \n",
    "    return eta*f_frame"
   ]
  },
  {
   "cell_type": "code",
   "execution_count": 21,
   "metadata": {},
   "outputs": [],
   "source": [
    "def get_eta(d_window):\n",
    "    \n",
    "    if d_window['EtaInputMethod'] == 'InputValue' :\n",
    "        if d_window['TypeWindow'] == 'Single' :\n",
    "            eta = d_window['Eta']\n",
    "        if d_window['TypeWindow'] == 'Double' :\n",
    "            eta = d_window['EtaInside']*d_window['EtaOutside']*1.06/ \\\n",
    "                  (0.72 if d_window['TypeFrameInside'] == 'WoodOrResin' and d_window['TypeFrameOutside'] == 'WoodOrResin' else 0.8)\n",
    "    elif d_window['EtaInputMethod'] == 'InputSpecification' :\n",
    "        if d_window['TypeWindow'] == 'Single' :\n",
    "            eta = get_eta_from_specification(d_window['TypeFrame'],d_window['TypeGlass'],d_window['TypeShade'])\n",
    "        if d_window['TypeWindow'] == 'Double' :\n",
    "            eta = get_eta_from_specification(d_window['TypeFrameInside'],d_window['TypeGlassInside'],d_window['TypeShadeInside'])* \\\n",
    "                  get_eta_from_specification(d_window['TypeFrameOutside'],d_window['TypeGlassOutside'],d_window['TypeShadeOutside'])* \\\n",
    "                  1.06/(0.72 if d_window['TypeFrameInside'] == 'WoodOrResin' and d_window['TypeFrameOutside'] == 'WoodOrResin' else 0.8)\n",
    "    else :\n",
    "        raise ValueError\n",
    "    \n",
    "    return eta"
   ]
  },
  {
   "cell_type": "markdown",
   "metadata": {},
   "source": [
    "### Windows要素をRoomsに展開"
   ]
  },
  {
   "cell_type": "markdown",
   "metadata": {},
   "source": [
    "#### Outline"
   ]
  },
  {
   "cell_type": "markdown",
   "metadata": {},
   "source": [
    "方位が'Bottom'である外皮の部位を、床と判定する。  \n",
    "【要確認】方位が'Bottom'である外皮の部位、土間床の合計面積が、用途別床面積を超過する場合にどうするか"
   ]
  },
  {
   "cell_type": "markdown",
   "metadata": {},
   "source": [
    "#### Function"
   ]
  },
  {
   "cell_type": "code",
   "execution_count": 22,
   "metadata": {},
   "outputs": [],
   "source": [
    "def integrate_windows_to_rooms(region, d_windows, d_rooms):\n",
    "    \n",
    "    n = 1\n",
    "    for x in d_windows :\n",
    "        for y in d_rooms :\n",
    "            if x['space'] == y['room_type'] :\n",
    "                eta = get_eta(x)\n",
    "                y['Surface'].append({\n",
    "                    'skin': True, \n",
    "                    'direction': get_direction_from_direction_for_outer_skin(x['direction']),\n",
    "                    'floor': True if x['direction'] == 'Bottom' else False,\n",
    "                    'boundary': get_boundary_for_outer_skin(region, x['nextspace'], x['direction']),\n",
    "                    'unsteady': False, \n",
    "                    'name': 'Window' + str(n), \n",
    "                    'area': x['area'], \n",
    "                    'flr' : 0,\n",
    "                    'Window': {\n",
    "                        'Eta': eta,\n",
    "                        'SolarTrans': eta,\n",
    "                        'SolarAbsorp': 0,\n",
    "                        'UW': x['UW'],\n",
    "                        'OutEmissiv': 0.9,\n",
    "                        'OutHeatTrans': 1/0.04,\n",
    "                        'InHeatTrans': 1/0.11,\n",
    "                    },\n",
    "                    'sunbreak':{'D': x['Z'], 'WI1': 500, 'WI2': 500, 'hi': x['Y1'], 'WR': 0, 'WH': x['Y2'], \n",
    "                                'name': 'ひさし'} if x['IsSunshadeInput'] == True else {}\n",
    "                })\n",
    "                n = n + 1\n",
    "    \n",
    "    return d_rooms"
   ]
  },
  {
   "cell_type": "markdown",
   "metadata": {},
   "source": [
    "### Heabridges要素をRoomsに展開"
   ]
  },
  {
   "cell_type": "markdown",
   "metadata": {},
   "source": [
    "#### Function"
   ]
  },
  {
   "cell_type": "code",
   "execution_count": 23,
   "metadata": {},
   "outputs": [],
   "source": [
    "def integrate_heatbridges_to_rooms(region, d_heatbridges, d_rooms):\n",
    "    \n",
    "    n = 1\n",
    "    for x in d_heatbridges :\n",
    "        for y in d_rooms :\n",
    "            if x['space'] == y['room_type'] :\n",
    "                y['LinearHeatBridge'].append({\n",
    "                    'name': 'Heatbridge' + str(n), \n",
    "                    'LinearHeatTrans': x['psi'], \n",
    "                    'LinearHeatTransLength': x['length'],\n",
    "                    'boundary1': get_boundary_for_outer_skin(region, x['nextspace1'], x['direction1']),\n",
    "                    'boundary2': get_boundary_for_outer_skin(region, x['nextspace2'], x['direction2'])\n",
    "                })\n",
    "                n = n + 1\n",
    "    \n",
    "    return d_room"
   ]
  },
  {
   "cell_type": "markdown",
   "metadata": {},
   "source": [
    "### EarthfloorPerimeters要素をRoomsに展開"
   ]
  },
  {
   "cell_type": "markdown",
   "metadata": {},
   "source": [
    "#### Function"
   ]
  },
  {
   "cell_type": "code",
   "execution_count": 24,
   "metadata": {},
   "outputs": [],
   "source": [
    "def integrate_earthfloorperimeters_to_rooms(region, d_earthfloorperimeters, d_rooms):\n",
    "    \n",
    "    n = 1\n",
    "    for x in d_earthfloorperimeters :\n",
    "        for y in d_rooms :\n",
    "            if x['space'] == y['room_type'] :\n",
    "                y['EarthfloorPerimeter'].append({\n",
    "                    'name': 'EarthfloorPerimeter' + str(n), \n",
    "                    'LinearHeatTrans': x['psi'], \n",
    "                    'LinearHeatTransLength': x['length'],\n",
    "                    'boundary': get_boundary_for_earthfloorperimeter(region, \n",
    "                                                                     x['direction'] if x['nextspace']=='Outdoor' else x['nextspace']) \n",
    "                })\n",
    "                n = n + 1\n",
    "    \n",
    "    return d_rooms"
   ]
  },
  {
   "cell_type": "markdown",
   "metadata": {},
   "source": [
    "### Earthfloors要素をRoomsに展開"
   ]
  },
  {
   "cell_type": "markdown",
   "metadata": {},
   "source": [
    "#### Outline"
   ]
  },
  {
   "cell_type": "markdown",
   "metadata": {},
   "source": [
    "土間床を、床と判定する。  \n",
    "【要確認】方位が'Bottom'である外皮の部位、土間床の合計面積が、用途別床面積を超過する場合にどうするか"
   ]
  },
  {
   "cell_type": "markdown",
   "metadata": {},
   "source": [
    "#### Function"
   ]
  },
  {
   "cell_type": "code",
   "execution_count": 25,
   "metadata": {},
   "outputs": [],
   "source": [
    "def integrate_earthfloors_to_rooms(region, d_earthfloors, d_rooms):\n",
    "    \n",
    "    n = 1\n",
    "    for x in d_earthfloors :\n",
    "        for y in d_rooms :\n",
    "            if x['space'] == y['room_type'] :                \n",
    "                y['Surface'].append({\n",
    "                    'skin': True, \n",
    "                    'direction': 'Upward',\n",
    "                    'floor': True,\n",
    "                    'boundary': 'AnnualAverage',\n",
    "                    'unsteady': True, \n",
    "                    'IsSoil': True,\n",
    "                    'name': 'Earthfloor' + str(n), \n",
    "                    'area': x['area'],\n",
    "                    'flr' : 0,\n",
    "                    'Wall': {\n",
    "                        'InHeatTrans': 1 / 0.15,\n",
    "                        'Layers':[\n",
    "                            {'name': 'RC',   'thick': 0.150, 'cond': 1.6, 'specH': 2000.0},\n",
    "                            {'name': 'Soil', 'thick': 3.000, 'cond': 1.0, 'specH': 3300.0}\n",
    "                        ]\n",
    "                    },\n",
    "                })\n",
    "                n = n + 1\n",
    "    \n",
    "    return d_rooms"
   ]
  },
  {
   "cell_type": "markdown",
   "metadata": {},
   "source": [
    "### 設備要素をRoomsに展開"
   ]
  },
  {
   "cell_type": "markdown",
   "metadata": {},
   "source": [
    "#### Outline"
   ]
  },
  {
   "cell_type": "markdown",
   "metadata": {},
   "source": [
    "設備の情報を室情報に紐付けする。"
   ]
  },
  {
   "cell_type": "markdown",
   "metadata": {},
   "source": [
    "#### Function"
   ]
  },
  {
   "cell_type": "code",
   "execution_count": 26,
   "metadata": {},
   "outputs": [],
   "source": [
    "def integrate_equipments_to_rooms(area_main, area_other, equipment_main, equipment_other, d_rooms):\n",
    "    \n",
    "    if area_main > 0 :\n",
    "        for x in d_rooms :\n",
    "            if x['room_type'] == 'main_occupant_room':\n",
    "                x['equipment'] = equipment_main\n",
    "    \n",
    "    if area_other > 0 :\n",
    "        for x in d_rooms :\n",
    "            if x['room_type'] == 'other_occupant_room' :\n",
    "                x['equipment'] = equipment_other\n",
    "    \n",
    "    return d_rooms"
   ]
  },
  {
   "cell_type": "markdown",
   "metadata": {},
   "source": [
    "## 3. Convert"
   ]
  },
  {
   "cell_type": "markdown",
   "metadata": {},
   "source": [
    "#### Function"
   ]
  },
  {
   "cell_type": "code",
   "execution_count": 27,
   "metadata": {},
   "outputs": [],
   "source": [
    "def convert(d, equipment_main, equipment_other):\n",
    "    \n",
    "    common = d['common']\n",
    "    ventilation = d['ventilation']\n",
    "    envelope = d['envelope']\n",
    "    \n",
    "    region = common['region']\n",
    "    \n",
    "    d_calc_input = {}\n",
    "    d_calc_input['common'] = make_common(common)\n",
    "    d_calc_input['Rooms'] = get_rooms_initial(common, ventilation, envelope)\n",
    "    \n",
    "    d_calc_input['Rooms'] = integrate_walls_to_rooms(region, envelope['general_parts'], d_calc_input['Rooms'])\n",
    "\n",
    "    d_calc_input['Rooms'] = integrate_doors_to_rooms(region, d['Doors'], d_calc_input['Rooms'])\n",
    "\n",
    "    d_calc_input['Rooms'] = integrate_windows_to_rooms(region, d['Windows'], d_calc_input['Rooms'])\n",
    "\n",
    "    # 部位が無い場合の処理を後で追加する必要あり\n",
    "    if ('Heatbridges' in d) == True :\n",
    "        d_calc_input['Rooms'] = integrate_heatbridges_to_rooms(region, d['Heatbridges'], d_calc_input['Rooms'])\n",
    "\n",
    "    d_calc_input['Rooms'] = integrate_earthfloorperimeters_to_rooms(region, d['EarthfloorPerimeters'],\n",
    "                                                                        d_calc_input['Rooms'])\n",
    "    d_calc_input['Rooms'] = integrate_earthfloors_to_rooms(region, d['Earthfloors'],\n",
    "                                                               d_calc_input['Rooms'])\n",
    "\n",
    "    d_calc_input['Rooms'] = integrate_innerwalls_to_rooms(region, d['InnerWalls'],\n",
    "                                                              d_calc_input['Rooms'])\n",
    "\n",
    "    d_calc_input['Rooms'] = integrate_equipments_to_rooms(d['common']['main_occupant_room_floor_area'],\n",
    "                                                          d['common']['other_occupant_room_floor_area'],\n",
    "                                                          equipment_main, equipment_other, d_calc_input['Rooms'])\n",
    "\n",
    "    return d_calc_input"
   ]
  },
  {
   "cell_type": "markdown",
   "metadata": {},
   "source": [
    "#### Example"
   ]
  },
  {
   "cell_type": "code",
   "execution_count": 28,
   "metadata": {
    "scrolled": false
   },
   "outputs": [
    {
     "ename": "KeyError",
     "evalue": "'next_space'",
     "output_type": "error",
     "traceback": [
      "\u001b[1;31m---------------------------------------------------------------------------\u001b[0m",
      "\u001b[1;31mKeyError\u001b[0m                                  Traceback (most recent call last)",
      "\u001b[1;32m<ipython-input-28-6b88ab9ae044>\u001b[0m in \u001b[0;36m<module>\u001b[1;34m()\u001b[0m\n\u001b[0;32m    200\u001b[0m }\n\u001b[0;32m    201\u001b[0m \u001b[1;33m\u001b[0m\u001b[0m\n\u001b[1;32m--> 202\u001b[1;33m \u001b[0mprint\u001b[0m\u001b[1;33m(\u001b[0m\u001b[0mconvert\u001b[0m\u001b[1;33m(\u001b[0m\u001b[0md\u001b[0m\u001b[1;33m,\u001b[0m \u001b[0mequipment_main\u001b[0m\u001b[1;33m,\u001b[0m \u001b[0mequipment_other\u001b[0m\u001b[1;33m)\u001b[0m\u001b[1;33m)\u001b[0m\u001b[1;33m\u001b[0m\u001b[0m\n\u001b[0m",
      "\u001b[1;32m<ipython-input-27-27537f146d33>\u001b[0m in \u001b[0;36mconvert\u001b[1;34m(d, equipment_main, equipment_other)\u001b[0m\n\u001b[0;32m     11\u001b[0m     \u001b[0md_calc_input\u001b[0m\u001b[1;33m[\u001b[0m\u001b[1;34m'Rooms'\u001b[0m\u001b[1;33m]\u001b[0m \u001b[1;33m=\u001b[0m \u001b[0mget_rooms_initial\u001b[0m\u001b[1;33m(\u001b[0m\u001b[0mcommon\u001b[0m\u001b[1;33m,\u001b[0m \u001b[0mventilation\u001b[0m\u001b[1;33m,\u001b[0m \u001b[0menvelope\u001b[0m\u001b[1;33m)\u001b[0m\u001b[1;33m\u001b[0m\u001b[0m\n\u001b[0;32m     12\u001b[0m \u001b[1;33m\u001b[0m\u001b[0m\n\u001b[1;32m---> 13\u001b[1;33m     \u001b[0md_calc_input\u001b[0m\u001b[1;33m[\u001b[0m\u001b[1;34m'Rooms'\u001b[0m\u001b[1;33m]\u001b[0m \u001b[1;33m=\u001b[0m \u001b[0mintegrate_walls_to_rooms\u001b[0m\u001b[1;33m(\u001b[0m\u001b[0mregion\u001b[0m\u001b[1;33m,\u001b[0m \u001b[0menvelope\u001b[0m\u001b[1;33m[\u001b[0m\u001b[1;34m'general_parts'\u001b[0m\u001b[1;33m]\u001b[0m\u001b[1;33m,\u001b[0m \u001b[0md_calc_input\u001b[0m\u001b[1;33m[\u001b[0m\u001b[1;34m'Rooms'\u001b[0m\u001b[1;33m]\u001b[0m\u001b[1;33m)\u001b[0m\u001b[1;33m\u001b[0m\u001b[0m\n\u001b[0m\u001b[0;32m     14\u001b[0m \u001b[1;33m\u001b[0m\u001b[0m\n\u001b[0;32m     15\u001b[0m     \u001b[0md_calc_input\u001b[0m\u001b[1;33m[\u001b[0m\u001b[1;34m'Rooms'\u001b[0m\u001b[1;33m]\u001b[0m \u001b[1;33m=\u001b[0m \u001b[0mintegrate_doors_to_rooms\u001b[0m\u001b[1;33m(\u001b[0m\u001b[0mregion\u001b[0m\u001b[1;33m,\u001b[0m \u001b[0md\u001b[0m\u001b[1;33m[\u001b[0m\u001b[1;34m'Doors'\u001b[0m\u001b[1;33m]\u001b[0m\u001b[1;33m,\u001b[0m \u001b[0md_calc_input\u001b[0m\u001b[1;33m[\u001b[0m\u001b[1;34m'Rooms'\u001b[0m\u001b[1;33m]\u001b[0m\u001b[1;33m)\u001b[0m\u001b[1;33m\u001b[0m\u001b[0m\n",
      "\u001b[1;32m<ipython-input-17-6eb62c007925>\u001b[0m in \u001b[0;36mintegrate_walls_to_rooms\u001b[1;34m(region, general_parts, d_rooms)\u001b[0m\n\u001b[0;32m     10\u001b[0m     \u001b[1;32mfor\u001b[0m \u001b[0mgp\u001b[0m \u001b[1;32min\u001b[0m \u001b[0mgeneral_parts\u001b[0m\u001b[1;33m:\u001b[0m\u001b[1;33m\u001b[0m\u001b[0m\n\u001b[0;32m     11\u001b[0m \u001b[1;33m\u001b[0m\u001b[0m\n\u001b[1;32m---> 12\u001b[1;33m         \u001b[0mr_i\u001b[0m\u001b[1;33m,\u001b[0m \u001b[0mr_o\u001b[0m \u001b[1;33m=\u001b[0m \u001b[0mmtc\u001b[0m\u001b[1;33m.\u001b[0m\u001b[0mget_surface_thermal_resistance\u001b[0m\u001b[1;33m(\u001b[0m\u001b[0mgeneral_part_type\u001b[0m\u001b[1;33m=\u001b[0m\u001b[0mgp\u001b[0m\u001b[1;33m[\u001b[0m\u001b[1;34m'general_part_type'\u001b[0m\u001b[1;33m]\u001b[0m\u001b[1;33m,\u001b[0m \u001b[0mnext_space\u001b[0m\u001b[1;33m=\u001b[0m\u001b[0mgp\u001b[0m\u001b[1;33m[\u001b[0m\u001b[1;34m'next_space'\u001b[0m\u001b[1;33m]\u001b[0m\u001b[1;33m)\u001b[0m\u001b[1;33m\u001b[0m\u001b[0m\n\u001b[0m\u001b[0;32m     13\u001b[0m \u001b[1;33m\u001b[0m\u001b[0m\n\u001b[0;32m     14\u001b[0m         \u001b[1;32mif\u001b[0m \u001b[0mgp\u001b[0m\u001b[1;33m[\u001b[0m\u001b[1;34m'spec'\u001b[0m\u001b[1;33m]\u001b[0m\u001b[1;33m[\u001b[0m\u001b[1;34m'structure'\u001b[0m\u001b[1;33m]\u001b[0m \u001b[1;33m==\u001b[0m \u001b[1;34m'wood'\u001b[0m\u001b[1;33m:\u001b[0m\u001b[1;33m\u001b[0m\u001b[0m\n",
      "\u001b[1;31mKeyError\u001b[0m: 'next_space'"
     ]
    }
   ],
   "source": [
    "d = {\n",
    "    'common': {\n",
    "        'region': 6,\n",
    "        'main_occupant_room_floor_area': 30.0,\n",
    "        'other_occupant_room_floor_area': 30.0,\n",
    "        'total_floor_area': 120.0\n",
    "    },\n",
    "    'ventilation': {\n",
    "        'air_change_rate' : 0.5,\n",
    "    },\n",
    "    'envelope' : {\n",
    "        'general_parts': [\n",
    "            {'name': 'Roof_other', 'nextspace': 'OpenBackFloor', 'direction': 'Top', 'area': 16.95, 'space': 'other_occupant_room', 'general_part_type': 'Roof',\n",
    "             'structure': 'wood', 'InputMethod' : 'InputUA', 'IsSunshadeInput': False, 'UA': 7.7},\n",
    "            {'name': 'Roof_nonliving', 'nextspace': 'OpenBackFloor', 'direction': 'Top', 'area': 33.9, 'space': 'non_occupant_room', 'general_part_type': 'Roof',\n",
    "             'structure': 'wood', 'InputMethod' : 'InputUA', 'IsSunshadeInput': False, 'UA': 7.7},\n",
    "            {'name': 'Wall_SW_main', 'nextspace': 'OpenBackFloor', 'direction': 'SW', 'area': 10.1575, 'space': 'main_occupant_room', 'general_part_type': 'Wall',\n",
    "             'structure': 'wood', 'InputMethod' : 'InputUA', 'IsSunshadeInput': False, 'UA': 6.67},\n",
    "            {'name': 'Wall_SW_other', 'nextspace': 'OpenBackFloor', 'direction': 'SW', 'area': 10.1575, 'space': 'other_occupant_room', 'general_part_type': 'Wall',\n",
    "             'structure': 'wood', 'InputMethod' : 'InputUA', 'IsSunshadeInput': False, 'UA': 6.67},\n",
    "            {'name': 'Wall_SW_nonliving', 'nextspace': 'OpenBackFloor', 'direction': 'SW', 'area': 20.315, 'space': 'non_occupant_room', 'general_part_type': 'Wall',\n",
    "             'structure': 'wood', 'InputMethod' : 'InputUA', 'IsSunshadeInput': False, 'UA': 6.67},\n",
    "            {'name': 'Wall_NW_main', 'nextspace': 'OpenBackFloor', 'direction': 'NW', 'area': 7.4575, 'space': 'main_occupant_room', 'general_part_type': 'Wall',\n",
    "             'structure': 'wood', 'InputMethod' : 'InputUA', 'IsSunshadeInput': False, 'UA': 6.67},\n",
    "            {'name': 'Wall_NW_other', 'nextspace': 'OpenBackFloor', 'direction': 'NW', 'area': 7.4575, 'space': 'other_occupant_room', 'general_part_type': 'Wall',\n",
    "             'structure': 'wood', 'InputMethod' : 'InputUA', 'IsSunshadeInput': False, 'UA': 6.67},\n",
    "            {'name': 'Wall_NW_nonliving', 'nextspace': 'OpenBackFloor', 'direction': 'NW', 'area': 14.915, 'space': 'non_occupant_room', 'general_part_type': 'Wall',\n",
    "             'structure': 'wood', 'InputMethod' : 'InputUA', 'IsSunshadeInput': False, 'UA': 6.67},\n",
    "            {'name': 'Wall_NE_main', 'nextspace': 'OpenBackFloor', 'direction': 'NE', 'area': 15.9725, 'space': 'main_occupant_room', 'general_part_type': 'Wall',\n",
    "             'structure': 'wood', 'InputMethod' : 'InputUA', 'IsSunshadeInput': False, 'UA': 6.67},\n",
    "            {'name': 'Wall_NE_other', 'nextspace': 'OpenBackFloor', 'direction': 'NE', 'area': 15.9725, 'space': 'other_occupant_room', 'general_part_type': 'Wall',\n",
    "             'structure': 'wood', 'InputMethod' : 'InputUA', 'IsSunshadeInput': False, 'UA': 6.67},\n",
    "            {'name': 'Wall_NE_nonliving', 'nextspace': 'OpenBackFloor', 'direction': 'NE', 'area': 31.945, 'space': 'non_occupant_room', 'general_part_type': 'Wall',\n",
    "             'structure': 'wood', 'InputMethod' : 'InputUA', 'IsSunshadeInput': False, 'UA': 6.67},\n",
    "            {'name': 'Wall_SE_main', 'nextspace': 'OpenBackFloor', 'direction': 'SE', 'area': 7.4275, 'space': 'main_occupant_room', 'general_part_type': 'Wall',\n",
    "             'structure': 'wood', 'InputMethod' : 'InputUA', 'IsSunshadeInput': False, 'UA': 6.67},\n",
    "            {'name': 'Wall_SE_other', 'nextspace': 'OpenBackFloor', 'direction': 'SE', 'area': 7.4275, 'space': 'other_occupant_room', 'general_part_type': 'Wall',\n",
    "             'structure': 'wood', 'InputMethod' : 'InputUA', 'IsSunshadeInput': False, 'UA': 6.67},\n",
    "            {'name': 'Wall_SE_nonliving', 'nextspace': 'OpenBackFloor', 'direction': 'SE', 'area': 14.855, 'space': 'non_occupant_room', 'general_part_type': 'Wall',\n",
    "             'structure': 'wood', 'InputMethod' : 'InputUA', 'IsSunshadeInput': False, 'UA': 6.67},\n",
    "            {'name': 'Floor_main', 'nextspace': 'OpenBackFloor', 'direction': 'Bottom', 'area': 15.0175, 'space': 'main_occupant_room', 'general_part_type': 'Floor',\n",
    "             'structure': 'wood', 'InputMethod' : 'InputUA', 'IsSunshadeInput': False, 'UA': 5.27},\n",
    "            {'name': 'Floor_other', 'nextspace': 'OpenBackFloor', 'direction': 'Bottom', 'area': 15.0175, 'space': 'other_occupant_room', 'general_part_type': 'Floor',\n",
    "             'structure': 'wood', 'InputMethod' : 'InputUA', 'IsSunshadeInput': False, 'UA': 5.27},\n",
    "            {'name': 'Floor_nonliving', 'nextspace': 'OpenBackFloor', 'direction': 'Bottom', 'area': 30.035, 'space': 'non_occupant_room', 'general_part_type': 'Floor',\n",
    "             'structure': 'wood', 'InputMethod' : 'InputUA', 'IsSunshadeInput': False, 'UA': 5.27},\n",
    "            {'name': 'Floor_bath_main', 'nextspace': 'OpenBackFloor', 'direction': 'Bottom', 'area': 1.1025, 'space': 'main_occupant_room', 'general_part_type': 'Floor',\n",
    "             'structure': 'wood', 'InputMethod' : 'InputUA', 'IsSunshadeInput': False, 'UA': 5.27},\n",
    "            {'name': 'Floor_bath_other', 'nextspace': 'OpenBackFloor', 'direction': 'Bottom', 'area': 1.1025, 'space': 'other_occupant_room', 'general_part_type': 'Floor',\n",
    "             'structure': 'wood', 'InputMethod' : 'InputUA', 'IsSunshadeInput': False, 'UA': 5.27},\n",
    "            {'name': 'Floor_bath_nonliving', 'nextspace': 'OpenBackFloor', 'direction': 'Bottom', 'area': 2.205, 'space': 'non_occupant_room', 'general_part_type': 'Floor',\n",
    "             'structure': 'wood', 'InputMethod' : 'InputUA', 'IsSunshadeInput': False, 'UA': 5.27},\n",
    "            {\n",
    "                'name': 'Roof_main',\n",
    "                'nextspace': 'OpenBackFloor',\n",
    "                'direction': 'Top',\n",
    "                'IsInContactWithOutsideAir': True, \n",
    "                'area': 16.95, 'space': 'main_occupant_room',\n",
    "                'general_part_type': 'Roof',\n",
    "                'structure': 'wood',\n",
    "                'InputMethod' : 'InputAllDetails',\n",
    "                'Parts': [{'AreaRatio': 1.0, 'Layers': [{'name': 'wood','thick': 0.012, 'cond': 0.16, 'specH': None },\n",
    "                                                        {'name': 'wood','thick': 0.012, 'cond': 0.16, 'specH': 720 }]}],\n",
    "                'IsSunshadeInput': False, 'UA': 7.7\n",
    "            },\n",
    "        ],\n",
    "        'Windows': [\n",
    "            {'name': 'WindowSW_main', 'nextspace': 'OpenBackFloor', 'direction': 'SW', 'area': 7.5625, 'space': 'main_occupant_room', 'UW': 3.49,\n",
    "             'IsSunshadeInput': True, 'TypeWindow': 'Single', 'EtaInputMethod': 'InputValue', 'Eta': 0.51, 'TypeGlass': None, \n",
    "             'Y1': 0, 'Y2': 1.1, 'Z': 0.348},\n",
    "            {'name': 'WindowSW_other', 'nextspace': 'OpenBackFloor', 'direction': 'SW', 'area': 7.5625, 'space': 'other_occupant_room', 'UW': 3.49,\n",
    "             'IsSunshadeInput': True, 'TypeWindow': 'Single', 'EtaInputMethod': 'InputValue', 'Eta': 0.51, 'TypeGlass': None, \n",
    "             'Y1': 0, 'Y2': 1.1, 'Z': 0.348},\n",
    "            {'name': 'WindowSW_nonliving', 'nextspace': 'OpenBackFloor', 'direction': 'SW', 'area': 15.125, 'space': 'non_occupant_room', 'UW': 3.49,\n",
    "             'IsSunshadeInput': True, 'TypeWindow': 'Single', 'EtaInputMethod': 'InputValue', 'Eta': 0.51,  'TypeGlass': None, \n",
    "             'Y1': 0, 'Y2': 1.1, 'Z': 0.348},\n",
    "            {'name': 'WindowNW_main', 'nextspace': 'OpenBackFloor', 'direction': 'NW', 'area': 0.7925, 'space': 'main_occupant_room', 'UW': 3.49,\n",
    "             'IsSunshadeInput': True, 'TypeWindow': 'Single', 'EtaInputMethod': 'InputValue', 'Eta': 0.51, 'TypeGlass': None, \n",
    "             'Y1': 0, 'Y2': 1.1, 'Z': 0.316},\n",
    "            {'name': 'WindowNW_other', 'nextspace': 'OpenBackFloor', 'direction': 'NW', 'area': 0.7925, 'space': 'other_occupant_room', 'UW': 3.49,\n",
    "             'IsSunshadeInput': True, 'TypeWindow': 'Single', 'EtaInputMethod': 'InputValue', 'Eta': 0.51, 'TypeGlass': None, \n",
    "             'Y1': 0, 'Y2': 1.1, 'Z': 0.316},\n",
    "            {'name': 'WindowNW_nonliving', 'nextspace': 'OpenBackFloor', 'direction': 'NW', 'area': 1.585, 'space': 'non_occupant_room', 'UW': 3.49,\n",
    "             'IsSunshadeInput': True, 'TypeWindow': 'Single', 'EtaInputMethod': 'InputValue', 'Eta': 0.51, 'TypeGlass': None, \n",
    "             'Y1': 0, 'Y2': 1.1, 'Z': 0.316},\n",
    "            {'name': 'WindowNE_main', 'nextspace': 'OpenBackFloor', 'direction': 'NE', 'area': 1.21, 'space': 'main_occupant_room', 'UW': 3.49,\n",
    "             'IsSunshadeInput': True, 'TypeWindow': 'Single', 'EtaInputMethod': 'InputValue', 'Eta': 0.51, 'TypeGlass': None,\n",
    "             'Y1': 0, 'Y2': 1.1, 'Z': 0.316},\n",
    "            {'name': 'WindowNE_other', 'nextspace': 'OpenBackFloor', 'direction': 'NE', 'area': 1.21, 'space': 'other_occupant_room', 'UW': 3.49,\n",
    "             'IsSunshadeInput': True, 'TypeWindow': 'Single', 'EtaInputMethod': 'InputValue', 'Eta': 0.51, 'TypeGlass': None, \n",
    "             'Y1': 0, 'Y2': 1.1, 'Z': 0.316},\n",
    "            {'name': 'WindowNE_nonliving', 'nextspace': 'OpenBackFloor', 'direction': 'NE', 'area': 2.42, 'space': 'non_occupant_room', 'UW': 3.49,\n",
    "             'IsSunshadeInput': True, 'TypeWindow': 'Single', 'EtaInputMethod': 'InputValue', 'Eta': 0.51, 'TypeGlass': None, \n",
    "             'Y1': 0, 'Y2': 1.1, 'Z': 0.316},\n",
    "            {'name': 'WindowSE_main', 'nextspace': 'OpenBackFloor', 'direction': 'SE', 'area': 1.4575, 'space': 'main_occupant_room', 'UW': 3.49,\n",
    "             'IsSunshadeInput': True, 'TypeWindow': 'Single', 'EtaInputMethod': 'InputValue', 'Eta': 0.51, 'TypeGlass': None, \n",
    "             'Y1': 0, 'Y2': 1.1, 'Z': 0.348},\n",
    "            {'name': 'WindowSE_other', 'nextspace': 'OpenBackFloor', 'direction': 'SE', 'area': 1.4575, 'space': 'other_occupant_room', 'UW': 3.49,\n",
    "             'IsSunshadeInput': True, 'TypeWindow': 'Single', 'EtaInputMethod': 'InputValue', 'Eta': 0.51, 'TypeGlass': None, \n",
    "             'Y1': 0, 'Y2': 1.1, 'Z': 0.348},\n",
    "            {'name': 'WindowSE_nonliving', 'nextspace': 'OpenBackFloor', 'direction': 'SE', 'area': 2.915, 'space': 'non_occupant_room', 'UW': 3.49,\n",
    "             'IsSunshadeInput': True, 'TypeWindow': 'Single', 'EtaInputMethod': 'InputValue', 'Eta': 0.51, 'TypeGlass': None, \n",
    "             'Y1': 0, 'Y2': 1.1, 'Z': 0.348}\n",
    "        ],\n",
    "        'Doors': [\n",
    "            {'name': 'DoorNW_main', 'nextspace': 'OpenBackFloor', 'direction': 'NW', 'area': 0.63, 'space': 'main_occupant_room', 'U': 4.65, 'IsSunshadeInput': False},\n",
    "            {'name': 'DoorNW_other', 'nextspace': 'OpenBackFloor', 'direction': 'NW', 'area': 0.63, 'space': 'other_occupant_room', 'U': 4.65, 'IsSunshadeInput': False},\n",
    "            {'name': 'DoorNW_nonliving', 'nextspace': 'OpenBackFloor', 'direction': 'NW', 'area': 1.26, 'space': 'non_occupant_room', 'U': 4.65, 'IsSunshadeInput': False},\n",
    "            {'name': 'DoorNE_main', 'nextspace': 'OpenBackFloor', 'direction': 'NE', 'area': 0.54, 'space': 'main_occupant_room', 'U': 4.65, 'IsSunshadeInput': False},\n",
    "            {'name': 'DoorNE_other', 'nextspace': 'OpenBackFloor', 'direction': 'NE', 'area': 0.54, 'space': 'other_occupant_room', 'U': 4.65, 'IsSunshadeInput': False},\n",
    "            {'name': 'DoorNE_nonliving', 'nextspace': 'OpenBackFloor', 'direction': 'NE', 'area': 1.08, 'space': 'non_occupant_room', 'U': 4.65, 'IsSunshadeInput': False}\n",
    "        ],\n",
    "        'EarthfloorPerimeters': [\n",
    "            {'nextspace': 'OpenBackFloor', 'direction': 'NW', 'length': 2.43, 'name': 'Entrance_NW', 'psi': 1.8, 'space': 'underfloor'},\n",
    "            {'nextspace': 'OpenBackFloor', 'direction': 'NE', 'length': 1.83, 'name': 'Entrance_NE', 'psi': 1.8, 'space': 'underfloor'},\n",
    "            {'nextspace': 'OpenBackFloor', 'direction': 'OpenBackFloor', 'length': 4.25, 'name': 'Entrance_floor', 'psi': 1.8, 'space': 'underfloor'}\n",
    "        ],\n",
    "        'earthfloor_centers': [\n",
    "            {'name': 'earthfloor', 'area': 3.24, 'space_type': 'underfloor'}\n",
    "        ],\n",
    "        'InnerWalls': [\n",
    "            {'name': 'GroundFloor_main', 'type': 'GroundFloor', 'direction': 'Horizontal', 'area': 0.81,\n",
    "             'Layers': [{'name': 'PED', 'cond': 0.16, 'thick': 0.012, 'specH': 720.0}],\n",
    "             'space': 'main_occupant_room', 'nextspace': 'underfloor'},\n",
    "            {'name': 'GroundFloor_main', 'type': 'GroundFloor', 'direction': 'Horizontal', 'area': 0.81,\n",
    "             'Layers': [{'name': 'PED', 'cond': 0.16, 'thick': 0.012, 'specH': 720.0}],\n",
    "             'space': 'underfloor', 'nextspace': 'main_occupant_room'},\n",
    "            {'name': 'GroundFloor_other', 'type': 'GroundFloor', 'direction': 'Horizontal', 'area': 0.81,\n",
    "             'Layers': [{'name': 'PED', 'cond': 0.16, 'thick': 0.012, 'specH': 720.0}],\n",
    "             'space': 'other_occupant_room', 'nextspace': 'underfloor'},\n",
    "            {'name': 'GroundFloor_other', 'type': 'GroundFloor', 'direction': 'Horizontal', 'area': 0.81,\n",
    "             'Layers': [{'name': 'PED', 'cond': 0.16, 'thick': 0.012, 'specH': 720.0}],\n",
    "             'space': 'underfloor', 'nextspace': 'other_occupant_room'},\n",
    "            {'name': 'GroundFloor_nonliving', 'type': 'GroundFloor', 'direction': 'Horizontal', 'area': 1.62,\n",
    "             'Layers': [{'name': 'PED', 'cond': 0.16, 'thick': 0.012, 'specH': 720.0}],\n",
    "             'space': 'non_occupant_room', 'nextspace': 'underfloor'},\n",
    "            {'name': 'GroundFloor_nonliving', 'type': 'GroundFloor', 'direction': 'Horizontal', 'area': 1.62,\n",
    "             'Layers': [{'name': 'PED', 'cond': 0.16, 'thick': 0.012, 'specH': 720.0}],\n",
    "             'space': 'underfloor', 'nextspace': 'non_occupant_room'},\n",
    "            {'name': 'InnerFloor_main', 'type': 'InnerFloor', 'direction': 'Horizontal', 'area': 10.0,\n",
    "             'Layers': [{'name': 'PED', 'cond': 0.16, 'thick': 0.012, 'specH': 720.0}],\n",
    "             'space': 'main_occupant_room', 'nextspace': 'other_occupant_room'},\n",
    "            {'name': 'InnerFloor_main', 'type': 'InnerFloor', 'direction': 'Horizontal', 'area': 20.0,\n",
    "             'Layers': [{'name': 'PED', 'cond': 0.16, 'thick': 0.012, 'specH': 720.0}],\n",
    "             'space': 'main_occupant_room', 'nextspace': 'non_occupant_room'},\n",
    "            {'name': 'InnerFloor_other', 'type': 'InnerFloor', 'direction': 'Horizontal', 'area': 10.0,\n",
    "             'Layers': [{'name': 'PED', 'cond': 0.16, 'thick': 0.012, 'specH': 720.0}],\n",
    "             'space': 'other_occupant_room', 'nextspace': 'main_occupant_room'},\n",
    "            {'name': 'InnerFloor_other', 'type': 'InnerFloor', 'direction': 'Horizontal', 'area': 20.0,\n",
    "             'Layers': [{'name': 'PED', 'cond': 0.16, 'thick': 0.012, 'specH': 720.0}],\n",
    "             'space': 'other_occupant_room', 'nextspace': 'non_occupant_room'},\n",
    "            {'name': 'InnerFloor_nonliving', 'type': 'InnerFloor', 'direction': 'Horizontal', 'area': 30.0,\n",
    "             'Layers': [{'name': 'PED', 'cond': 0.16, 'thick': 0.012, 'specH': 720.0}],\n",
    "             'space': 'non_occupant_room', 'nextspace': 'main_occupant_room'},\n",
    "            {'name': 'InnerFloor_nonliving', 'type': 'InnerFloor', 'direction': 'Horizontal', 'area': 30.0,\n",
    "             'Layers': [{'name': 'PED', 'cond': 0.16, 'thick': 0.012, 'specH': 720.0}],\n",
    "             'space': 'non_occupant_room', 'nextspace': 'other_occupant_room'},\n",
    "            {'name': 'InnerCeiling_main', 'type': 'InnerCeiling', 'direction': 'Horizontal', 'area': 10.0,\n",
    "             'Layers': [{'name': 'PED', 'cond': 0.16, 'thick': 0.012, 'specH': 720.0}],\n",
    "             'space': 'main_occupant_room', 'nextspace': 'other_occupant_room'},\n",
    "            {'name': 'InnerCeiling_main', 'type': 'InnerCeiling', 'direction': 'Horizontal', 'area': 20.0,\n",
    "             'Layers': [{'name': 'PED', 'cond': 0.16, 'thick': 0.012, 'specH': 720.0}],\n",
    "             'space': 'main_occupant_room', 'nextspace': 'non_occupant_room'},\n",
    "            {'name': 'InnerCeiling_other', 'type': 'InnerCeiling', 'direction': 'Horizontal', 'area': 10.0,\n",
    "             'Layers': [{'name': 'PED', 'cond': 0.16, 'thick': 0.012, 'specH': \n",
    "                         720.0}],\n",
    "             'space': 'other_occupant_room', 'nextspace': 'main_occupant_room'},\n",
    "            {'name': 'InnerCeiling_other', 'type': 'InnerCeiling', 'direction': 'Horizontal', 'area': 20.0,\n",
    "             'Layers': [{'name': 'PED', 'cond': 0.16, 'thick': 0.012, 'specH': 720.0}],\n",
    "             'space': 'other_occupant_room', 'nextspace': 'non_occupant_room'},\n",
    "            {'name': 'InnerCeiling_nonliving', 'type': 'InnerCeiling', 'direction': 'Horizontal', 'area': 30.0,\n",
    "             'Layers': [{'name': 'PED', 'cond': 0.16, 'thick': 0.012, 'specH': 720.0}],\n",
    "             'space': 'non_occupant_room', 'nextspace': 'main_occupant_room'},\n",
    "            {'name': 'InnerCeiling_nonliving', 'type': 'InnerCeiling', 'direction': 'Horizontal', 'area': 30.0,\n",
    "             'Layers': [{'name': 'PED', 'cond': 0.16, 'thick': 0.012, 'specH': 720.0}],\n",
    "             'space': 'non_occupant_room', 'nextspace': 'other_occupant_room'}\n",
    "        ]\n",
    "    }\n",
    "}\n",
    "    \n",
    "equipment_main = {\n",
    "    'cooling':{\n",
    "        'main': {'q_rtd_c': 5600, 'q_max_c': 5944.619999999999, 'e_rtd_c': 3.2432},\n",
    "        'sub': {}\n",
    "    }, \n",
    "    'heating': {\n",
    "        'main': {'q_rtd_h': 6685.3, 'q_max_h': 10047.047813999998, 'e_rtd_h': 4.157264},\n",
    "        'sub': {}}\n",
    "}\n",
    "\n",
    "equipment_other = {\n",
    "    'cooling': {\n",
    "        'main': {'q_rtd_c': 5600, 'q_max_c': 5944.619999999999, 'e_rtd_c': 3.0576},\n",
    "        'sub': {}\n",
    "    },\n",
    "    'heating': {\n",
    "        'main': {'construct_area': 21.0}, \n",
    "        'sub': {'q_rtd_h': 6685.3, 'q_max_h': 10047.047813999998, 'e_rtd_h': 3.855424}\n",
    "    }\n",
    "}\n",
    "\n",
    "print(convert(d, equipment_main, equipment_other))"
   ]
  },
  {
   "cell_type": "code",
   "execution_count": null,
   "metadata": {},
   "outputs": [],
   "source": []
  }
 ],
 "metadata": {
  "kernelspec": {
   "display_name": "Python 3",
   "language": "python",
   "name": "python3"
  },
  "language_info": {
   "codemirror_mode": {
    "name": "ipython",
    "version": 3
   },
   "file_extension": ".py",
   "mimetype": "text/x-python",
   "name": "python",
   "nbconvert_exporter": "python",
   "pygments_lexer": "ipython3",
   "version": "3.6.4"
  }
 },
 "nbformat": 4,
 "nbformat_minor": 2
}
