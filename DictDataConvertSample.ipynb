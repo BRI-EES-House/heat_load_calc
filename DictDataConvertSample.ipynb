{
 "cells": [
  {
   "cell_type": "markdown",
   "metadata": {},
   "source": [
    "## 辞書を使ったデータ変換関数の例"
   ]
  },
  {
   "cell_type": "markdown",
   "metadata": {},
   "source": [
    "データの定義\n",
    "\n",
    "Python で辞書型を使って階層構造を表現します。\n",
    "\n",
    "次の例では、壁 WAL1, WAL2, 部屋LDK を定義しています。(ただし、その属性は適当です・・)"
   ]
  },
  {
   "cell_type": "code",
   "execution_count": 1,
   "metadata": {
    "collapsed": false
   },
   "outputs": [],
   "source": [
    "data = {\n",
    "    'name': 'Sample',\n",
    "    'walls': {\n",
    "        'WAL1': {\n",
    "            'lambda': 0.5,\n",
    "            'depth': 10\n",
    "        },\n",
    "        'WAL2': {\n",
    "            'lambda': 0.5,\n",
    "            'depth': 10\n",
    "        },\n",
    "    },\n",
    "    'rooms': {\n",
    "        'LDK': {\n",
    "            'area': 20\n",
    "        }\n",
    "    }\n",
    "}"
   ]
  },
  {
   "cell_type": "markdown",
   "metadata": {},
   "source": [
    "例えば、 WAL2の情報を取得するには次のようにします。"
   ]
  },
  {
   "cell_type": "code",
   "execution_count": 2,
   "metadata": {
    "collapsed": false
   },
   "outputs": [
    {
     "data": {
      "text/plain": [
       "{'depth': 10, 'lambda': 0.5}"
      ]
     },
     "execution_count": 2,
     "metadata": {},
     "output_type": "execute_result"
    }
   ],
   "source": [
    "data['walls']['WAL2']"
   ]
  },
  {
   "cell_type": "markdown",
   "metadata": {},
   "source": [
    "次のデータを読み取って変換する関数を定義します。\n",
    "\n",
    "次の関数では、すべての壁のlambdaを2倍にします。"
   ]
  },
  {
   "cell_type": "code",
   "execution_count": 3,
   "metadata": {
    "collapsed": false
   },
   "outputs": [],
   "source": [
    "import copy\n",
    "\n",
    "def convert(_data):\n",
    "    #元のデータを破壊しないために、深いコピーを実行\n",
    "    data = copy.deepcopy(_data)\n",
    "    \n",
    "    #lambdaを2倍にする\n",
    "    for key in data['walls'].keys():\n",
    "        data['walls'][key]['lambda'] = data['walls'][key]['lambda'] * 2.0\n",
    "    \n",
    "    return data\n"
   ]
  },
  {
   "cell_type": "markdown",
   "metadata": {},
   "source": [
    "実際に実行して変換されていることを確認します。"
   ]
  },
  {
   "cell_type": "code",
   "execution_count": 4,
   "metadata": {
    "collapsed": false
   },
   "outputs": [
    {
     "data": {
      "text/plain": [
       "{'name': 'Sample',\n",
       " 'rooms': {'LDK': {'area': 20}},\n",
       " 'walls': {'WAL1': {'depth': 10, 'lambda': 0.5},\n",
       "  'WAL2': {'depth': 10, 'lambda': 0.5}}}"
      ]
     },
     "execution_count": 4,
     "metadata": {},
     "output_type": "execute_result"
    }
   ],
   "source": [
    "data"
   ]
  },
  {
   "cell_type": "code",
   "execution_count": 5,
   "metadata": {
    "collapsed": false
   },
   "outputs": [
    {
     "data": {
      "text/plain": [
       "{'name': 'Sample',\n",
       " 'rooms': {'LDK': {'area': 20}},\n",
       " 'walls': {'WAL1': {'depth': 10, 'lambda': 1.0},\n",
       "  'WAL2': {'depth': 10, 'lambda': 1.0}}}"
      ]
     },
     "execution_count": 5,
     "metadata": {},
     "output_type": "execute_result"
    }
   ],
   "source": [
    "convert(data)"
   ]
  }
 ],
 "metadata": {
  "kernelspec": {
   "display_name": "Python [Root]",
   "language": "python",
   "name": "Python [Root]"
  },
  "language_info": {
   "codemirror_mode": {
    "name": "ipython",
    "version": 2
   },
   "file_extension": ".py",
   "mimetype": "text/x-python",
   "name": "python",
   "nbconvert_exporter": "python",
   "pygments_lexer": "ipython2",
   "version": "2.7.11"
  }
 },
 "nbformat": 4,
 "nbformat_minor": 0
}
