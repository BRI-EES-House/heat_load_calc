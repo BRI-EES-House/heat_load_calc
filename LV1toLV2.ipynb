{
 "cells": [
  {
   "cell_type": "markdown",
   "metadata": {},
   "source": [
    "# 外皮情報LV1からLV2へのコンバート"
   ]
  },
  {
   "cell_type": "markdown",
   "metadata": {},
   "source": [
    "## 1. 外皮簡易法＋用途別床面積\n",
    "- 当該住戸の外皮の部位の面積等を用いずに簡易熱負荷計算を実施する場合には、部位の面積および長さを、「平成28年省エネルギー基準に準拠したエネルギー消費性能の評価に関する技術情報（住宅）」２．エネルギー消費性能の算定方法　2.2　算定方法　第三章　 暖冷房負荷と外皮性能　\t第二節　外皮性能　9.当該住戸の外皮の部位の面積等を用いずに外皮性能を評価する方法　に示された標準住戸における部位の面積および長さ等より推定する。\n",
    "- 屋根・天井、外壁、床の構成は、天井入力値である部位種別の熱貫流率と一致するよう、木造の標準的な構成における断熱材の厚さを0mm以上の範囲で調整する。木造の標準的な構成は、SimHeatでの熱負荷計算用の層構成決定に用いたQ値計算における、旧Ⅳ地域の平成11年基準の層構成とする。\n",
    "- 土間床等の外周部の線熱貫流率については、簡易熱負荷計算での扱いに従う\n",
    "- 開口部の日射熱取得率および外部日除けの取得日射熱補正係数は、それぞれ、季節別に、垂直面日射熱取得率および取得日射熱補正係数の入力値もしくは規定値を使用する。この場合、簡易熱負荷計算においては、開口部の入射角特性および外部日除けは考慮しない。\n",
    "- その他は2.と同様に求める。"
   ]
  },
  {
   "cell_type": "markdown",
   "metadata": {},
   "source": [
    "#### 《設計住戸の各部位の長さおよび面積の推定》\n",
    "$$ \\qquad\n",
    "A_{i,d}= A_{i,s}・\\frac{A_{floor,d}}{A_{floor,s}}\n",
    "\\qquad (1)\n",
    "\\\\\n",
    "$$\n",
    "$$ \\qquad\n",
    "L_{i,d}= L_{i,s}・\\frac{A_{floor,d}}{A_{floor,s}}\n",
    "\\qquad (2)\n",
    "\\\\\n",
    "$$\n",
    "\n",
    "- 入力値：\n",
    "\n",
    "  - 標準住戸の延床面積$[m ^ 2]$：$A_{floor,s}$\n",
    "  - 設計住戸の延床面積$[m ^ 2]$：$A_{floor,d}$\n",
    "  - 標準住戸の部位（一般部位又は開口部）𝑖の面積$[m ^ 2]$：$A_{i,s}$\n",
    "  - 標準住戸の部位（土間床等の外周部）𝑖の長さ$[m]$：$L_{i,s}$\n",
    "\n",
    "- 出力値：\n",
    "\n",
    "  - 設計住戸の部位（一般部位又は開口部）𝑖の面積の推定値$[m ^ 2]$：$A_{i,d}$\n",
    "  - 設計住戸の部位（土間床等の外周部）𝑖の長さの推定値$[m]$：$L_{i,d}$"
   ]
  },
  {
   "cell_type": "markdown",
   "metadata": {},
   "source": [
    "- 屋根・天井壁体構成\n",
    "\n",
    "| 材料 | 厚さ[m] | 熱伝導率[W/(m・K)] | 熱抵抗[（㎡K・W）] | 容積比熱[J/（L・K）] |\n",
    "|-------------|-------------|-------------|-------------|\n",
    "| Ro | - | - | 0.090 | 0 |\n",
    "| 住宅用グラスウール断熱材10K相当 | <font color=\"red\">0.2</font> | 0.05 | <font color=\"red\">4.000</font> | 8 |\n",
    "| せっこうボード | 0.0095 | 0.22 | 0.043 | 830 |\n",
    "| Ri | - | - | 0.090 | 0 |\n",
    "\n",
    "- 外壁体構成\n",
    "\n",
    "| 材料 | 厚さ[m] | 熱伝導率[W/(m・K)] | 熱抵抗[（㎡K・W）] | 容積比熱[J/（L・K）] |\n",
    "|-------------|-------------|-------------|-------------|\n",
    "| Ro | - | - | 0.110 | 0 |\n",
    "| 合板 | 0.012 | 0.16 | 0.075 | 720 |\n",
    "| 住宅用グラスウール断熱材16K相当 | <font color=\"red\">0.099</font> | 0.045 | <font color=\"red\">2.200</font> | 13 |\n",
    "| 密閉空気層 | - | - | 0.090 | 0 |\n",
    "| せっこうボード | 0.0095 | 0.22 | 0.043 | 830 |\n",
    "| Ri | - | - | 0.110 | 0 |\n",
    "\n",
    "- 床壁体構成\n",
    "\n",
    "| 材料 | 厚さ[m] | 熱伝導率[W/(m・K)] | 熱抵抗[（㎡K・W）] | 容積比熱[J/（L・K）] |\n",
    "|-------------|-------------|-------------|-------------|\n",
    "| Ro | - | - | 0.15 | - | - |\n",
    "| 住宅用グラスウール断熱材16K相当 | <font color=\"red\">0.099</font> | 0.045 | <font color=\"red\">2.200</font> | 13 |\n",
    "| 合板 | 0.012 | 0.16 | 0.075 | 720 |\n",
    "| Ri | - | - | 0.15 | - | - |"
   ]
  },
  {
   "cell_type": "code",
   "execution_count": 1,
   "metadata": {},
   "outputs": [
    {
     "name": "stdout",
     "output_type": "stream",
     "text": [
      "Rg2=6\n"
     ]
    }
   ],
   "source": [
    "#地域の区分 (1~8)\n",
    "def Calc_Rg2(Rg1):\n",
    "    Rg2 =  Rg1\n",
    "    return Rg2\n",
    "\n",
    "Rg1=6\n",
    "print (\"Rg2={0}\".format(Calc_Rg2(Rg1)))"
   ]
  },
  {
   "cell_type": "code",
   "execution_count": 4,
   "metadata": {},
   "outputs": [
    {
     "name": "stdout",
     "output_type": "stream",
     "text": [
      "Flag22=1\n",
      "Flag32=1\n"
     ]
    }
   ],
   "source": [
    "#その他の居室の有無 (yes/no)\n",
    "#非居室の有無 (yes/no)\n",
    "def Calc_Flag2(Flag1):\n",
    "    Flag2 =  Flag1\n",
    "    return Flag2\n",
    "\n",
    "Flag21=1\n",
    "print (\"Flag22={0}\".format(Calc_Flag2(Flag21)))\n",
    "\n",
    "Flag31=1\n",
    "print (\"Flag32={0}\".format(Calc_Flag2(Flag31)))"
   ]
  },
  {
   "cell_type": "code",
   "execution_count": 2,
   "metadata": {},
   "outputs": [
    {
     "name": "stdout",
     "output_type": "stream",
     "text": [
      "Aa2=90.0\n",
      "A12=22.5\n",
      "A22=37.5\n"
     ]
    }
   ],
   "source": [
    "#床面積の合計 (m2)\n",
    "#主たる居室の床面積 (m2)\n",
    "#その他の居室の床面積 (m2)\n",
    "def Calc_A2(A1,Aa1,Aa2):\n",
    "    A2 =  A1*Aa2/Aa1\n",
    "    return A2\n",
    "\n",
    "Aa1=120\n",
    "Aa2=90\n",
    "print (\"Aa2={0}\".format(Calc_A2(Aa1,Aa1,Aa2)))\n",
    "\n",
    "A11=30\n",
    "print (\"A12={0}\".format(Calc_A2(A11,Aa1,Aa2)))\n",
    "\n",
    "A21=50\n",
    "print (\"A22={0}\".format(Calc_A2(A21,Aa1,Aa2)))"
   ]
  },
  {
   "cell_type": "code",
   "execution_count": 10,
   "metadata": {},
   "outputs": [
    {
     "name": "stdout",
     "output_type": "stream",
     "text": [
      "Ap2=1\n"
     ]
    }
   ],
   "source": [
    "\"\"\" 部位別の面積の算出 \"\"\"\n",
    "def Calc_Ap2(Ap1):\n",
    "    Ap2 =  Ap1\n",
    "    return Ap2\n",
    "\n",
    "Ap1=1\n",
    "print (\"Ap2={0}\".format(Calc_Ap2(Ap1)))"
   ]
  },
  {
   "cell_type": "code",
   "execution_count": 13,
   "metadata": {},
   "outputs": [
    {
     "name": "stdout",
     "output_type": "stream",
     "text": [
      "Lp2=1\n"
     ]
    }
   ],
   "source": [
    "\"\"\" 部位別の長さの算出 \"\"\"\n",
    "def Calc_Lp2(Lp1):\n",
    "    Lp2 =  Lp1\n",
    "    return Lp2\n",
    "\n",
    "Lp1=1\n",
    "print (\"Lp2={0}\".format(Calc_Lp2(Lp1)))"
   ]
  },
  {
   "cell_type": "code",
   "execution_count": 17,
   "metadata": {},
   "outputs": [
    {
     "name": "stdout",
     "output_type": "stream",
     "text": [
      "Up2=0.5\n"
     ]
    }
   ],
   "source": [
    "\"\"\" 部位別の熱貫流率の算出 \"\"\"\n",
    "def Calc_Up2(Up1):\n",
    "    Up2 =  Up1\n",
    "    return Up2\n",
    "\n",
    "Up1=0.5\n",
    "print (\"Up2={0}\".format(Calc_Up2(Up1)))"
   ]
  },
  {
   "cell_type": "code",
   "execution_count": 14,
   "metadata": {},
   "outputs": [
    {
     "name": "stdout",
     "output_type": "stream",
     "text": [
      "1\n"
     ]
    }
   ],
   "source": [
    "\"\"\" 部位別の線熱貫流率の算出 \"\"\"\n",
    "def Calc_Ψp2(Ψp1):\n",
    "    Ψp2 =  Ψp1\n",
    "    return Ψp2\n",
    "\n",
    "Ψp1=1\n",
    "print (Calc_Ψp2(Ψp1))"
   ]
  },
  {
   "cell_type": "code",
   "execution_count": 16,
   "metadata": {},
   "outputs": [
    {
     "name": "stdout",
     "output_type": "stream",
     "text": [
      "ηp2=0.8\n"
     ]
    }
   ],
   "source": [
    "\"\"\" 部位別の日射熱取得率の算出 \"\"\"\n",
    "def Calc_ηp2(ηp1):\n",
    "    ηp2 =  ηp1\n",
    "    return ηp2\n",
    "\n",
    "ηp1=0.8\n",
    "print (\"ηp2={0}\".format(Calc_ηp2(ηp1)))"
   ]
  },
  {
   "cell_type": "code",
   "execution_count": null,
   "metadata": {
    "collapsed": true
   },
   "outputs": [],
   "source": []
  }
 ],
 "metadata": {
  "kernelspec": {
   "display_name": "Python 3",
   "language": "python",
   "name": "python3"
  },
  "language_info": {
   "codemirror_mode": {
    "name": "ipython",
    "version": 3
   },
   "file_extension": ".py",
   "mimetype": "text/x-python",
   "name": "python",
   "nbconvert_exporter": "python",
   "pygments_lexer": "ipython3",
   "version": "3.6.3"
  }
 },
 "nbformat": 4,
 "nbformat_minor": 2
}
