{
 "cells": [
  {
   "cell_type": "markdown",
   "metadata": {},
   "source": [
    "# 外皮情報LV1からLV2へのコンバート"
   ]
  },
  {
   "cell_type": "markdown",
   "metadata": {},
   "source": [
    "## 1. 外皮簡易法＋用途別床面積\n",
    "- 当該住戸の外皮の部位の面積等を用いずに簡易熱負荷計算を実施する場合には、部位の面積および長さを、「平成28年省エネルギー基準に準拠したエネルギー消費性能の評価に関する技術情報（住宅）」２．エネルギー消費性能の算定方法　2.2　算定方法　第三章　 暖冷房負荷と外皮性能　\t第二節　外皮性能　9.当該住戸の外皮の部位の面積等を用いずに外皮性能を評価する方法　に示された標準住戸（以下、「簡易外皮入力モデル」）における部位の面積および長さ等より推定する。\n",
    "- 屋根・天井、外壁、床の構成は、入力値である部位種別の熱貫流率をもとに、部位のU値から壁体構成を決定する方法により決定する。\n",
    "- 土間床等の外周部の線熱貫流率については、簡易熱負荷計算での扱いに従う\n",
    "- 開口部の日射熱取得率および外部日除けの取得日射熱補正係数は、それぞれ、季節別に、垂直面日射熱取得率および取得日射熱補正係数の入力値もしくは規定値を使用する。この場合、簡易熱負荷計算においては、開口部の入射角特性および外部日除けは考慮しない。\n",
    "- その他は2.と同様に求める。"
   ]
  },
  {
   "cell_type": "markdown",
   "metadata": {},
   "source": [
    "#### 《設計住戸の各部位の長さおよび面積の推定》\n",
    "$$ \\qquad\n",
    "A_{i,d}= A_{i,s}・\\frac{A_{floor,d}}{A_{floor,s}}\n",
    "\\qquad (1)\n",
    "\\\\\n",
    "$$\n",
    "$$ \\qquad\n",
    "L_{i,d}= L_{i,s}・\\frac{A_{floor,d}}{A_{floor,s}}\n",
    "\\qquad (2)\n",
    "\\\\\n",
    "$$\n",
    "\n",
    "- 入力値：\n",
    "\n",
    "  - 簡易外皮入力モデル住戸の延床面積$[m ^ 2]$：$A_{floor,s}$\n",
    "  - 設計住戸の延床面積$[m ^ 2]$：$A_{floor,d}$\n",
    "  - 簡易外皮入力モデル住戸の部位（一般部位又は開口部）𝑖の面積$[m ^ 2]$：$A_{i,s}$\n",
    "  - 簡易外皮入力モデル住戸の部位（土間床等の外周部）𝑖の長さ$[m]$：$L_{i,s}$\n",
    "\n",
    "- 出力値：\n",
    "\n",
    "  - 設計住戸の部位（一般部位又は開口部）𝑖の面積の推定値$[m ^ 2]$：$A_{i,d}$\n",
    "  - 設計住戸の部位（土間床等の外周部）𝑖の長さの推定値$[m]$：$L_{i,d}$"
   ]
  },
  {
   "cell_type": "markdown",
   "metadata": {},
   "source": [
    "## 2. コンバート【分類：共通】"
   ]
  },
  {
   "cell_type": "markdown",
   "metadata": {},
   "source": [
    "- 地域区分、主たる居室の床面積(m<sup>2</sup>)、その他の床面積(m<sup>2</sup>)、床面積の合計(m<sup>2</sup>)の情報は維持する。\n",
    "- 新たに変数「簡易外皮入力フラグ」を作成し、LV1から生成したLV2情報は必ずTrueとする。"
   ]
  },
  {
   "cell_type": "markdown",
   "metadata": {},
   "source": [
    "### Input"
   ]
  },
  {
   "cell_type": "markdown",
   "metadata": {},
   "source": [
    "```\n",
    "data = {\n",
    "    'Region'                     : # 地域の区分 1 ~ 8 の整数\n",
    "    'MainOccupantRoomFloorArea'  : # 主たる居室の床面積(m2)\n",
    "    'OtherOccupantRoomFloorArea' : # その他の居室の床面積(m2)\n",
    "    'TotalFloorArea'             : # 床面積の合計(m2)\n",
    "}\n",
    "```"
   ]
  },
  {
   "cell_type": "markdown",
   "metadata": {},
   "source": [
    "### Output"
   ]
  },
  {
   "cell_type": "markdown",
   "metadata": {},
   "source": [
    "```\n",
    "data = {\n",
    "    'Region'                      : # 地域の区分 1 ~ 8 の整数\n",
    "    'FlagSimplifiedEnvelopeInput' : # bool値 簡易入力から生成したデータか否かを表す\n",
    "    'MainOccupantRoomFloorArea'   : # 主たる居室の床面積(m2)\n",
    "    'OtherOccupantRoomFloorArea'  : # その他の居室の床面積(m2)\n",
    "    'TotalFloorArea'              : # 床面積の合計(m2)\n",
    "\n",
    "}\n",
    "```"
   ]
  },
  {
   "cell_type": "markdown",
   "metadata": {},
   "source": [
    "### Function"
   ]
  },
  {
   "cell_type": "code",
   "execution_count": 1,
   "metadata": {
    "collapsed": true
   },
   "outputs": [],
   "source": [
    "def convert_common(d):\n",
    "    return {\n",
    "        'Region'                      : d['Region'],\n",
    "        'FlagSimplifiedEnvelopeInput' : True,\n",
    "        'MainOccupantRoomFloorArea'   : d['MainOccupantRoomFloorArea'],\n",
    "        'OtherOccupantRoomFloorArea'  : d['OtherOccupantRoomFloorArea'],\n",
    "        'TotalFloorArea'              : d['TotalFloorArea']\n",
    "    }"
   ]
  },
  {
   "cell_type": "markdown",
   "metadata": {},
   "source": [
    "### Example"
   ]
  },
  {
   "cell_type": "code",
   "execution_count": 2,
   "metadata": {
    "collapsed": false
   },
   "outputs": [
    {
     "data": {
      "text/plain": [
       "{'FlagSimplifiedEnvelopeInput': True,\n",
       " 'MainOccupantRoomFloorArea': 30.0,\n",
       " 'OtherOccupantRoomFloorArea': 60.0,\n",
       " 'Region': 6,\n",
       " 'TotalFloorArea': 120.0}"
      ]
     },
     "execution_count": 2,
     "metadata": {},
     "output_type": "execute_result"
    }
   ],
   "source": [
    "convert_common({\n",
    "    'Region' : 6,\n",
    "    'MainOccupantRoomFloorArea': 30.0,\n",
    "    'OtherOccupantRoomFloorArea': 60.0,\n",
    "    'TotalFloorArea': 120.0,\n",
    "})"
   ]
  },
  {
   "cell_type": "markdown",
   "metadata": {},
   "source": [
    "#### コンバート【分類：壁体構成】\n",
    "- 部位のU値から壁体構成を決定する"
   ]
  },
  {
   "cell_type": "markdown",
   "metadata": {},
   "source": [
    "- レベル1：\n",
    "  - 壁体名称$[-]$：$name$\n",
    "  - 部位種別$[-]$：$type$\n",
    "  - 平均熱貫流率$[W/(m^2・K)]$：$U_a$\n",
    "- レベル2：\n",
    "  - 壁体名称$[-]$：$name$\n",
    "  - 部位種別$[-]$：$type$\n",
    "  - <font color=\"red\">部材名称$[-]$：$matrial$</font>\n",
    "  - <font color=\"red\">厚さ$[m]$：$d$</font>\n",
    "  - <font color=\"red\">熱伝達率$[W/(m・K)]$：$λ$</font>\n",
    "  - <font color=\"red\">容積比熱$[J/(m^3・K)]$：$Cρ$</font>\n",
    "  - 平均熱貫流率$[W/(m^2・K)]$：$U_a$"
   ]
  },
  {
   "cell_type": "markdown",
   "metadata": {},
   "source": [
    "関数の指定"
   ]
  },
  {
   "cell_type": "code",
   "execution_count": 3,
   "metadata": {
    "collapsed": true
   },
   "outputs": [],
   "source": [
    "def convert_1to2_wall(d1):\n",
    "    import nbimporter    \n",
    "    #import U_Value_to_Detail_Specification\n",
    "    #Layers=U_Value_to_Detail_Specification.convert_1to2_wall(d1)\n",
    "    from U_Value_to_Detail_Specification import convert_UtoDetailSpecification\n",
    "    Layers=convert_UtoDetailSpecification(d1)\n",
    "   \n",
    "    return {'structure': d1['structure'],\n",
    "            'name': d1['name'],\n",
    "            'type': d1['type'],\n",
    "            'Ua': d1['Ua'],\n",
    "            'Layers':Layers}"
   ]
  },
  {
   "cell_type": "markdown",
   "metadata": {},
   "source": [
    "関数の実行"
   ]
  },
  {
   "cell_type": "code",
   "execution_count": 4,
   "metadata": {
    "collapsed": false
   },
   "outputs": [
    {
     "name": "stdout",
     "output_type": "stream",
     "text": [
      "Importing Jupyter notebook from U_Value_to_Detail_Specification.ipynb\n"
     ]
    },
    {
     "data": {
      "text/plain": [
       "{'Layers': {'Layers': [{'Cρ': 13, 'd': 0.074, 'material': 'GW16K', 'λ': 0.045},\n",
       "   {'Cρ': 830, 'd': 0.0095, 'material': 'GPB', 'λ': 0.22}]},\n",
       " 'Ua': 0.538,\n",
       " 'name': 'Sample Wall',\n",
       " 'structure': 1,\n",
       " 'type': 2}"
      ]
     },
     "execution_count": 4,
     "metadata": {},
     "output_type": "execute_result"
    }
   ],
   "source": [
    "convert_1to2_wall( {\n",
    "    'structure':1,\n",
    "    'name': 'Sample Wall',\n",
    "    'type': 2,\n",
    "    'Ua': 0.538})"
   ]
  },
  {
   "cell_type": "markdown",
   "metadata": {},
   "source": [
    "#### コンバート【分類：開口部】"
   ]
  },
  {
   "cell_type": "markdown",
   "metadata": {},
   "source": [
    "- レベル1：\n",
    "  - 開口部名称$[-]$：$name$\n",
    "  - 日射熱取得率（夏期）$[-]$：$eta_c$\n",
    "  - 日射熱取得率（冬期）$[-]$：$eta_h$\n",
    "  - 熱貫流率$[W/(m^2・K)]$：$U$ \n",
    "- レベル2：\n",
    "  - 開口部名称$[-]$：$name$\n",
    "  - 日射熱取得率（夏期）$[-]$：$eta_c$\n",
    "  - 日射熱取得率（冬期）$[-]$：$eta_h$\n",
    "  - 熱貫流率$[W/(m^2・K)]$：$U$ "
   ]
  },
  {
   "cell_type": "markdown",
   "metadata": {},
   "source": [
    "関数の指定"
   ]
  },
  {
   "cell_type": "code",
   "execution_count": 5,
   "metadata": {
    "collapsed": true
   },
   "outputs": [],
   "source": [
    "def convert_1to2_window(d1):\n",
    "    return {'name': d1['name'],\n",
    "            'etac': d1['etac'],\n",
    "            'etah': d1['etah'],\n",
    "            'U': d1['U']}"
   ]
  },
  {
   "cell_type": "markdown",
   "metadata": {},
   "source": [
    "関数の実行"
   ]
  },
  {
   "cell_type": "code",
   "execution_count": 6,
   "metadata": {
    "collapsed": false
   },
   "outputs": [
    {
     "data": {
      "text/plain": [
       "{'U': 4.65, 'etac': 0.738, 'etah': 0.738, 'name': 'Sample Window'}"
      ]
     },
     "execution_count": 6,
     "metadata": {},
     "output_type": "execute_result"
    }
   ],
   "source": [
    "convert_1to2_window({\n",
    "    'name': 'Sample Window',\n",
    "    'etac': 0.738,\n",
    "    'etah': 0.738,\n",
    "    'U': 4.65})"
   ]
  },
  {
   "cell_type": "markdown",
   "metadata": {},
   "source": [
    "#### コンバート【分類：外部日除け】"
   ]
  },
  {
   "cell_type": "markdown",
   "metadata": {},
   "source": [
    "- レベル1：\n",
    "  - 外部日除け名称$[-]$：$name$\n",
    "  - 取得日射熱補正係数（夏期）$[-]$：$f_c$\n",
    "  - 取得日射熱補正係数（冬期）$[-]$：$f_h$\n",
    "- レベル2：\n",
    "  - 外部日除け名称$[-]$：$name$\n",
    "  - 取得日射熱補正係数（夏期）$[-]$：$f_c$\n",
    "  - 取得日射熱補正係数（冬期）$[-]$：$f_h$"
   ]
  },
  {
   "cell_type": "markdown",
   "metadata": {},
   "source": [
    "関数の指定"
   ]
  },
  {
   "cell_type": "code",
   "execution_count": 7,
   "metadata": {
    "collapsed": true
   },
   "outputs": [],
   "source": [
    "def convert_1to2_sunshade(d1):\n",
    "    return {'name': d1['name'],\n",
    "            'fc': d1['fc'],\n",
    "            'fh': d1['fh']}"
   ]
  },
  {
   "cell_type": "markdown",
   "metadata": {},
   "source": [
    "関数の実行"
   ]
  },
  {
   "cell_type": "code",
   "execution_count": 8,
   "metadata": {
    "collapsed": false
   },
   "outputs": [
    {
     "data": {
      "text/plain": [
       "{'fc': 0.7, 'fh': 0.6, 'name': 'Sample Sunshade'}"
      ]
     },
     "execution_count": 8,
     "metadata": {},
     "output_type": "execute_result"
    }
   ],
   "source": [
    "convert_1to2_sunshade({\n",
    "    'name': 'Sample Sunshade',\n",
    "    'fc': 0.700,\n",
    "    'fh': 0.600,})"
   ]
  },
  {
   "cell_type": "markdown",
   "metadata": {},
   "source": [
    "#### コンバート【分類：部位情報】\n",
    "\n",
    "- 簡易外皮入力モデル住戸の部位の長さおよび面積、設計住戸の延床面積より、設計住戸の各部位の長さおよび面積の推定を行う"
   ]
  },
  {
   "cell_type": "markdown",
   "metadata": {},
   "source": [
    "- レベル1：\n",
    "  - 外皮フラグ$[-]$：$FlagPerimeter$\n",
    "  - 日射フラグ$[-]$：$FlagSolarRadiation$\n",
    "  - 方位$[-]$：$direction$\n",
    "  - 非定常フラグ$[-]$：$FlagUnsteady$\n",
    "  - 壁体・開口部名称$[-]$：$name$\n",
    "  - 部位面積$[m^2]$：$A$\n",
    "  - 外部日除け名称$[-]$：$sunshade$\n",
    "- レベル2：\n",
    "  - 外皮フラグ$[-]$：$FlagPerimeter$\n",
    "  - 日射フラグ$[-]$：$FlagSolarRadiation$\n",
    "  - 方位$[-]$：$direction$\n",
    "  - 非定常フラグ$[-]$：$FlagUnsteady$\n",
    "  - 壁体・開口部名称$[-]$：$name$\n",
    "  - 部位面積$[m^2]$：$A$\n",
    "  - 外部日除け名称$[-]$：$sunshade$"
   ]
  },
  {
   "cell_type": "markdown",
   "metadata": {},
   "source": [
    "関数の指定"
   ]
  },
  {
   "cell_type": "code",
   "execution_count": 9,
   "metadata": {
    "collapsed": true
   },
   "outputs": [],
   "source": [
    "def convert_1to2_element(d1,d1_common):\n",
    "    FloorArea=d1_common['TotalFloorArea']\n",
    "    return {'name': d1['name'],\n",
    "            'FlagPerimeter': d1['FlagPerimeter'],\n",
    "            'FlagSolarRadiation': d1['FlagSolarRadiation'],\n",
    "            'FlagUnsteady': d1['FlagUnsteady'],\n",
    "            'direction': d1['direction'],\n",
    "            'A': round(d1['A']*FloorArea/90,2)}"
   ]
  },
  {
   "cell_type": "markdown",
   "metadata": {},
   "source": [
    "関数の実行"
   ]
  },
  {
   "cell_type": "code",
   "execution_count": 10,
   "metadata": {
    "collapsed": false
   },
   "outputs": [
    {
     "data": {
      "text/plain": [
       "{'A': 1.33,\n",
       " 'FlagPerimeter': 1,\n",
       " 'FlagSolarRadiation': 1,\n",
       " 'FlagUnsteady': 1,\n",
       " 'direction': 1,\n",
       " 'name': 'Sample Element'}"
      ]
     },
     "execution_count": 10,
     "metadata": {},
     "output_type": "execute_result"
    }
   ],
   "source": [
    "convert_1to2_element({\n",
    "    'name': 'Sample Element',\n",
    "    'FlagPerimeter': 1,\n",
    "    'FlagSolarRadiation': 1,\n",
    "    'FlagUnsteady': 1,\n",
    "    'direction': 1,\n",
    "    'A': 1},{    \n",
    "    'Region' : 6,\n",
    "    'MainOccupantRoomFloorArea': 30.0,\n",
    "    'OtherOccupantRoomFloorArea': 60.0,\n",
    "    'TotalFloorArea': 120.0,})"
   ]
  },
  {
   "cell_type": "markdown",
   "metadata": {},
   "source": [
    "#### コンバート【全分類】"
   ]
  },
  {
   "cell_type": "code",
   "execution_count": 11,
   "metadata": {
    "collapsed": false
   },
   "outputs": [],
   "source": [
    "def Convert(d):\n",
    "    d_common = convert_common(d['Common'])\n",
    "\n",
    "    #標準住戸における部位の面積及び土間床等の外周部の長さ等（い）床断熱住戸の場合\n",
    "    #番号,外皮フラグ[-],日射フラグ[-],方位[-],非定常フラグ[-],壁体・開口部名称[-],部位面積[㎡],外部日除け名称[-]\n",
    "    #ElementNo,FlagPerimeter,FlagSolarRadiation,direction,FlagUnsteady,name,A,Sunshade\n",
    "    StandardHouseElemntsFI = [ [1,1,1,1,1,'Ceiling',50.85,None],\n",
    "                               [2,1,1,7,1,'Wall',30.47,None],\n",
    "                               [3,1,1,9,1,'Wall',22.37,None],\n",
    "                               [4,1,1,3,1,'Wall',47.92,None],\n",
    "                               [5,1,1,5,1,'Wall',22.28,None],\n",
    "                               [6,1,1,7,2,'Door',0,None],\n",
    "                               [7,1,1,9,2,'Door',1.89,None],\n",
    "                               [8,1,1,3,2,'Door',1.62,None],\n",
    "                               [9,1,1,5,2,'Door',0,None],\n",
    "                               [10,1,1,7,2,'Window',22.69,'Sunshade'],\n",
    "                               [11,1,1,9,2,'Window',2.38,'Sunshade'],\n",
    "                               [12,1,1,3,2,'Window',3.63,'Sunshade'],\n",
    "                               [13,1,1,5,2,'Window',4.37,'Sunshade'],\n",
    "                               [14,1,2,12,1,'Floor',45.05,None],\n",
    "                               [15,1,1,7,1,'AbaseSW',0,None],\n",
    "                               [16,1,1,9,1,'AbaseNW',0.91,None],\n",
    "                               [17,1,1,3,1,'AbaseNE',0.91,None],\n",
    "                               [18,1,1,5,1,'AbaseSE',0,None],\n",
    "                               [19,1,2,12,1,'AbaseIF',1.82,None],\n",
    "                               [20,1,1,7,1,'AbasedSW',0,None],\n",
    "                               [21,1,1,9,1,'AbasedNW',0.33,None],\n",
    "                               [22,1,1,3,1,'AbasedNE',0.25,None],\n",
    "                               [23,1,1,5,1,'AbasedSE',0,None],\n",
    "                               [24,1,2,12,1,'AbasedIF',0.57,None],\n",
    "                               [25,1,1,7,1,'LprmSW',0,None],\n",
    "                               [26,1,1,9,1,'LprmNW',1.82,None],\n",
    "                               [27,1,1,3,1,'LprmNE',1.82,None],\n",
    "                               [28,1,1,5,1,'LprmSE',0,None],\n",
    "                               [29,1,2,12,1,'LprmIF',3.64,None],\n",
    "                               [30,1,1,7,1,'LprmdSW',0,None],\n",
    "                               [31,1,1,9,1,'LprmdNW',1.82,None],\n",
    "                               [32,1,1,3,1,'LprmdNE',1.37,None],\n",
    "                               [33,1,1,5,1,'prmdSE',0,None],\n",
    "                               [34,1,2,12,1,'LprmdIF',3.19,None] ]\n",
    "\n",
    "    def get_StandardHouseElemntsFI(StandardHouseElemntsFI,i):\n",
    "        data_elements = {'name': StandardHouseElemntsFI[i][5],\n",
    "                         'FlagPerimeter': StandardHouseElemntsFI[i][1],\n",
    "                         'FlagSolarRadiation': StandardHouseElemntsFI[i][2],\n",
    "                         'FlagUnsteady': StandardHouseElemntsFI[i][4],\n",
    "                         'direction': StandardHouseElemntsFI[i][3],\n",
    "                         'A': StandardHouseElemntsFI[i][6],\n",
    "                         'Sunshade': StandardHouseElemntsFI[i][7]}        \n",
    "        return data_elements\n",
    "\n",
    "    dictionary_element=[]\n",
    "    for i in range(0,len(StandardHouseElemntsFI)):\n",
    "        # dictionary_element=dictionary_element+[[]]\n",
    "        temporary=convert_1to2_element(get_StandardHouseElemntsFI(StandardHouseElemntsFI,i), d_common)\n",
    "        if get_StandardHouseElemntsFI(StandardHouseElemntsFI,i)['name']=='Ceiling':\n",
    "            temporary['Wall']=convert_1to2_wall( {'structure':1,'name': 'Ceiling','type': 1,'Ua': 0.24})\n",
    "        elif get_StandardHouseElemntsFI(StandardHouseElemntsFI,i)['name']=='Wall':\n",
    "            temporary['Wall']=convert_1to2_wall( {'structure':1,'name': 'Wall','type': 2,'Ua': 0.53})\n",
    "        elif get_StandardHouseElemntsFI(StandardHouseElemntsFI,i)['name']=='Floor':\n",
    "            temporary['Wall']=convert_1to2_wall( {'structure':1,'name': 'Floor','type': 3,'Ua': 0.53})\n",
    "        elif get_StandardHouseElemntsFI(StandardHouseElemntsFI,i)['name']=='Window':\n",
    "            temporary['Window']=convert_1to2_window({'name': 'Window','etac': 0.51,'etah': 0.51,'U': 3.49})\n",
    "            temporary['Sunshade']=convert_1to2_sunshade({'name': 'Sunshade','fc': 0.700,'fh': 0.600,})\n",
    "        elif get_StandardHouseElemntsFI(StandardHouseElemntsFI,i)['name']=='Door':\n",
    "            temporary['Door']=convert_1to2_window(\n",
    "                {'name': 'Door','etac':round(2.33*0.034,3),'etah':round(2.33*0.034,3),'U': 2.33})\n",
    "        # dictionary_element[i].append(temporary)\n",
    "        dictionary_element.append(temporary)\n",
    "\n",
    "    return {'common':d_common,'element':dictionary_element}"
   ]
  },
  {
   "cell_type": "code",
   "execution_count": 12,
   "metadata": {
    "collapsed": false
   },
   "outputs": [
    {
     "data": {
      "text/plain": [
       "{'common': {'FlagSimplifiedEnvelopeInput': True,\n",
       "  'MainOccupantRoomFloorArea': 30.0,\n",
       "  'OtherOccupantRoomFloorArea': 60.0,\n",
       "  'Region': 6,\n",
       "  'TotalFloorArea': 120.0},\n",
       " 'element': [{'A': 67.8,\n",
       "   'FlagPerimeter': 1,\n",
       "   'FlagSolarRadiation': 1,\n",
       "   'FlagUnsteady': 1,\n",
       "   'Wall': {'Layers': {'Layers': [{'Cρ': 13,\n",
       "       'd': 0.179,\n",
       "       'material': 'GW16K',\n",
       "       'λ': 0.045},\n",
       "      {'Cρ': 830, 'd': 0.0095, 'material': 'GPB', 'λ': 0.22}]},\n",
       "    'Ua': 0.24,\n",
       "    'name': 'Ceiling',\n",
       "    'structure': 1,\n",
       "    'type': 1},\n",
       "   'direction': 1,\n",
       "   'name': 'Ceiling'},\n",
       "  {'A': 40.63,\n",
       "   'FlagPerimeter': 1,\n",
       "   'FlagSolarRadiation': 1,\n",
       "   'FlagUnsteady': 1,\n",
       "   'Wall': {'Layers': {'Layers': [{'Cρ': 13,\n",
       "       'd': 0.076,\n",
       "       'material': 'GW16K',\n",
       "       'λ': 0.045},\n",
       "      {'Cρ': 830, 'd': 0.0095, 'material': 'GPB', 'λ': 0.22}]},\n",
       "    'Ua': 0.53,\n",
       "    'name': 'Wall',\n",
       "    'structure': 1,\n",
       "    'type': 2},\n",
       "   'direction': 7,\n",
       "   'name': 'Wall'},\n",
       "  {'A': 29.83,\n",
       "   'FlagPerimeter': 1,\n",
       "   'FlagSolarRadiation': 1,\n",
       "   'FlagUnsteady': 1,\n",
       "   'Wall': {'Layers': {'Layers': [{'Cρ': 13,\n",
       "       'd': 0.076,\n",
       "       'material': 'GW16K',\n",
       "       'λ': 0.045},\n",
       "      {'Cρ': 830, 'd': 0.0095, 'material': 'GPB', 'λ': 0.22}]},\n",
       "    'Ua': 0.53,\n",
       "    'name': 'Wall',\n",
       "    'structure': 1,\n",
       "    'type': 2},\n",
       "   'direction': 9,\n",
       "   'name': 'Wall'},\n",
       "  {'A': 63.89,\n",
       "   'FlagPerimeter': 1,\n",
       "   'FlagSolarRadiation': 1,\n",
       "   'FlagUnsteady': 1,\n",
       "   'Wall': {'Layers': {'Layers': [{'Cρ': 13,\n",
       "       'd': 0.076,\n",
       "       'material': 'GW16K',\n",
       "       'λ': 0.045},\n",
       "      {'Cρ': 830, 'd': 0.0095, 'material': 'GPB', 'λ': 0.22}]},\n",
       "    'Ua': 0.53,\n",
       "    'name': 'Wall',\n",
       "    'structure': 1,\n",
       "    'type': 2},\n",
       "   'direction': 3,\n",
       "   'name': 'Wall'},\n",
       "  {'A': 29.71,\n",
       "   'FlagPerimeter': 1,\n",
       "   'FlagSolarRadiation': 1,\n",
       "   'FlagUnsteady': 1,\n",
       "   'Wall': {'Layers': {'Layers': [{'Cρ': 13,\n",
       "       'd': 0.076,\n",
       "       'material': 'GW16K',\n",
       "       'λ': 0.045},\n",
       "      {'Cρ': 830, 'd': 0.0095, 'material': 'GPB', 'λ': 0.22}]},\n",
       "    'Ua': 0.53,\n",
       "    'name': 'Wall',\n",
       "    'structure': 1,\n",
       "    'type': 2},\n",
       "   'direction': 5,\n",
       "   'name': 'Wall'},\n",
       "  {'A': 0.0,\n",
       "   'Door': {'U': 2.33, 'etac': 0.079, 'etah': 0.079, 'name': 'Door'},\n",
       "   'FlagPerimeter': 1,\n",
       "   'FlagSolarRadiation': 1,\n",
       "   'FlagUnsteady': 2,\n",
       "   'direction': 7,\n",
       "   'name': 'Door'},\n",
       "  {'A': 2.52,\n",
       "   'Door': {'U': 2.33, 'etac': 0.079, 'etah': 0.079, 'name': 'Door'},\n",
       "   'FlagPerimeter': 1,\n",
       "   'FlagSolarRadiation': 1,\n",
       "   'FlagUnsteady': 2,\n",
       "   'direction': 9,\n",
       "   'name': 'Door'},\n",
       "  {'A': 2.16,\n",
       "   'Door': {'U': 2.33, 'etac': 0.079, 'etah': 0.079, 'name': 'Door'},\n",
       "   'FlagPerimeter': 1,\n",
       "   'FlagSolarRadiation': 1,\n",
       "   'FlagUnsteady': 2,\n",
       "   'direction': 3,\n",
       "   'name': 'Door'},\n",
       "  {'A': 0.0,\n",
       "   'Door': {'U': 2.33, 'etac': 0.079, 'etah': 0.079, 'name': 'Door'},\n",
       "   'FlagPerimeter': 1,\n",
       "   'FlagSolarRadiation': 1,\n",
       "   'FlagUnsteady': 2,\n",
       "   'direction': 5,\n",
       "   'name': 'Door'},\n",
       "  {'A': 30.25,\n",
       "   'FlagPerimeter': 1,\n",
       "   'FlagSolarRadiation': 1,\n",
       "   'FlagUnsteady': 2,\n",
       "   'Sunshade': {'fc': 0.7, 'fh': 0.6, 'name': 'Sunshade'},\n",
       "   'Window': {'U': 3.49, 'etac': 0.51, 'etah': 0.51, 'name': 'Window'},\n",
       "   'direction': 7,\n",
       "   'name': 'Window'},\n",
       "  {'A': 3.17,\n",
       "   'FlagPerimeter': 1,\n",
       "   'FlagSolarRadiation': 1,\n",
       "   'FlagUnsteady': 2,\n",
       "   'Sunshade': {'fc': 0.7, 'fh': 0.6, 'name': 'Sunshade'},\n",
       "   'Window': {'U': 3.49, 'etac': 0.51, 'etah': 0.51, 'name': 'Window'},\n",
       "   'direction': 9,\n",
       "   'name': 'Window'},\n",
       "  {'A': 4.84,\n",
       "   'FlagPerimeter': 1,\n",
       "   'FlagSolarRadiation': 1,\n",
       "   'FlagUnsteady': 2,\n",
       "   'Sunshade': {'fc': 0.7, 'fh': 0.6, 'name': 'Sunshade'},\n",
       "   'Window': {'U': 3.49, 'etac': 0.51, 'etah': 0.51, 'name': 'Window'},\n",
       "   'direction': 3,\n",
       "   'name': 'Window'},\n",
       "  {'A': 5.83,\n",
       "   'FlagPerimeter': 1,\n",
       "   'FlagSolarRadiation': 1,\n",
       "   'FlagUnsteady': 2,\n",
       "   'Sunshade': {'fc': 0.7, 'fh': 0.6, 'name': 'Sunshade'},\n",
       "   'Window': {'U': 3.49, 'etac': 0.51, 'etah': 0.51, 'name': 'Window'},\n",
       "   'direction': 5,\n",
       "   'name': 'Window'},\n",
       "  {'A': 60.07,\n",
       "   'FlagPerimeter': 1,\n",
       "   'FlagSolarRadiation': 2,\n",
       "   'FlagUnsteady': 1,\n",
       "   'Wall': {'Layers': {'Layers': [{'Cρ': 13,\n",
       "       'd': 0.072,\n",
       "       'material': 'GW16K',\n",
       "       'λ': 0.045},\n",
       "      {'Cρ': 720, 'd': 0.012, 'material': 'PED', 'λ': 0.16}]},\n",
       "    'Ua': 0.53,\n",
       "    'name': 'Floor',\n",
       "    'structure': 1,\n",
       "    'type': 3},\n",
       "   'direction': 12,\n",
       "   'name': 'Floor'},\n",
       "  {'A': 0.0,\n",
       "   'FlagPerimeter': 1,\n",
       "   'FlagSolarRadiation': 1,\n",
       "   'FlagUnsteady': 1,\n",
       "   'direction': 7,\n",
       "   'name': 'AbaseSW'},\n",
       "  {'A': 1.21,\n",
       "   'FlagPerimeter': 1,\n",
       "   'FlagSolarRadiation': 1,\n",
       "   'FlagUnsteady': 1,\n",
       "   'direction': 9,\n",
       "   'name': 'AbaseNW'},\n",
       "  {'A': 1.21,\n",
       "   'FlagPerimeter': 1,\n",
       "   'FlagSolarRadiation': 1,\n",
       "   'FlagUnsteady': 1,\n",
       "   'direction': 3,\n",
       "   'name': 'AbaseNE'},\n",
       "  {'A': 0.0,\n",
       "   'FlagPerimeter': 1,\n",
       "   'FlagSolarRadiation': 1,\n",
       "   'FlagUnsteady': 1,\n",
       "   'direction': 5,\n",
       "   'name': 'AbaseSE'},\n",
       "  {'A': 2.43,\n",
       "   'FlagPerimeter': 1,\n",
       "   'FlagSolarRadiation': 2,\n",
       "   'FlagUnsteady': 1,\n",
       "   'direction': 12,\n",
       "   'name': 'AbaseIF'},\n",
       "  {'A': 0.0,\n",
       "   'FlagPerimeter': 1,\n",
       "   'FlagSolarRadiation': 1,\n",
       "   'FlagUnsteady': 1,\n",
       "   'direction': 7,\n",
       "   'name': 'AbasedSW'},\n",
       "  {'A': 0.44,\n",
       "   'FlagPerimeter': 1,\n",
       "   'FlagSolarRadiation': 1,\n",
       "   'FlagUnsteady': 1,\n",
       "   'direction': 9,\n",
       "   'name': 'AbasedNW'},\n",
       "  {'A': 0.33,\n",
       "   'FlagPerimeter': 1,\n",
       "   'FlagSolarRadiation': 1,\n",
       "   'FlagUnsteady': 1,\n",
       "   'direction': 3,\n",
       "   'name': 'AbasedNE'},\n",
       "  {'A': 0.0,\n",
       "   'FlagPerimeter': 1,\n",
       "   'FlagSolarRadiation': 1,\n",
       "   'FlagUnsteady': 1,\n",
       "   'direction': 5,\n",
       "   'name': 'AbasedSE'},\n",
       "  {'A': 0.76,\n",
       "   'FlagPerimeter': 1,\n",
       "   'FlagSolarRadiation': 2,\n",
       "   'FlagUnsteady': 1,\n",
       "   'direction': 12,\n",
       "   'name': 'AbasedIF'},\n",
       "  {'A': 0.0,\n",
       "   'FlagPerimeter': 1,\n",
       "   'FlagSolarRadiation': 1,\n",
       "   'FlagUnsteady': 1,\n",
       "   'direction': 7,\n",
       "   'name': 'LprmSW'},\n",
       "  {'A': 2.43,\n",
       "   'FlagPerimeter': 1,\n",
       "   'FlagSolarRadiation': 1,\n",
       "   'FlagUnsteady': 1,\n",
       "   'direction': 9,\n",
       "   'name': 'LprmNW'},\n",
       "  {'A': 2.43,\n",
       "   'FlagPerimeter': 1,\n",
       "   'FlagSolarRadiation': 1,\n",
       "   'FlagUnsteady': 1,\n",
       "   'direction': 3,\n",
       "   'name': 'LprmNE'},\n",
       "  {'A': 0.0,\n",
       "   'FlagPerimeter': 1,\n",
       "   'FlagSolarRadiation': 1,\n",
       "   'FlagUnsteady': 1,\n",
       "   'direction': 5,\n",
       "   'name': 'LprmSE'},\n",
       "  {'A': 4.85,\n",
       "   'FlagPerimeter': 1,\n",
       "   'FlagSolarRadiation': 2,\n",
       "   'FlagUnsteady': 1,\n",
       "   'direction': 12,\n",
       "   'name': 'LprmIF'},\n",
       "  {'A': 0.0,\n",
       "   'FlagPerimeter': 1,\n",
       "   'FlagSolarRadiation': 1,\n",
       "   'FlagUnsteady': 1,\n",
       "   'direction': 7,\n",
       "   'name': 'LprmdSW'},\n",
       "  {'A': 2.43,\n",
       "   'FlagPerimeter': 1,\n",
       "   'FlagSolarRadiation': 1,\n",
       "   'FlagUnsteady': 1,\n",
       "   'direction': 9,\n",
       "   'name': 'LprmdNW'},\n",
       "  {'A': 1.83,\n",
       "   'FlagPerimeter': 1,\n",
       "   'FlagSolarRadiation': 1,\n",
       "   'FlagUnsteady': 1,\n",
       "   'direction': 3,\n",
       "   'name': 'LprmdNE'},\n",
       "  {'A': 0.0,\n",
       "   'FlagPerimeter': 1,\n",
       "   'FlagSolarRadiation': 1,\n",
       "   'FlagUnsteady': 1,\n",
       "   'direction': 5,\n",
       "   'name': 'prmdSE'},\n",
       "  {'A': 4.25,\n",
       "   'FlagPerimeter': 1,\n",
       "   'FlagSolarRadiation': 2,\n",
       "   'FlagUnsteady': 1,\n",
       "   'direction': 12,\n",
       "   'name': 'LprmdIF'}]}"
      ]
     },
     "execution_count": 12,
     "metadata": {},
     "output_type": "execute_result"
    }
   ],
   "source": [
    "d = {\n",
    "    'Common' : {\n",
    "        'Region'                     : 6,\n",
    "        'MainOccupantRoomFloorArea'  : 30.0,\n",
    "        'OtherOccupantRoomFloorArea' : 60.0,\n",
    "        'TotalFloorArea'             : 120.0\n",
    "    }\n",
    "}\n",
    "\n",
    "Convert(d)"
   ]
  },
  {
   "cell_type": "code",
   "execution_count": null,
   "metadata": {
    "collapsed": true
   },
   "outputs": [],
   "source": []
  }
 ],
 "metadata": {
  "kernelspec": {
   "display_name": "Python 3",
   "language": "python",
   "name": "python3"
  },
  "language_info": {
   "codemirror_mode": {
    "name": "ipython",
    "version": 3
   },
   "file_extension": ".py",
   "mimetype": "text/x-python",
   "name": "python",
   "nbconvert_exporter": "python",
   "pygments_lexer": "ipython3",
   "version": "3.6.2"
  }
 },
 "nbformat": 4,
 "nbformat_minor": 2
}
