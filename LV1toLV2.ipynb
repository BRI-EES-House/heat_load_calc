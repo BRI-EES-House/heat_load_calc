{
 "cells": [
  {
   "cell_type": "code",
   "execution_count": 7,
   "metadata": {},
   "outputs": [
    {
     "name": "stdout",
     "output_type": "stream",
     "text": [
      "Importing Jupyter notebook from U_Value_to_Detail_Specification.ipynb\n"
     ]
    }
   ],
   "source": [
    "import nbimporter\n",
    "from U_Value_to_Detail_Specification import convert as convertUValueToSpec"
   ]
  },
  {
   "cell_type": "markdown",
   "metadata": {},
   "source": [
    "# 外皮情報LV1からLV2へのコンバート"
   ]
  },
  {
   "cell_type": "markdown",
   "metadata": {},
   "source": [
    "## 1. 外皮簡易法＋用途別床面積\n",
    "- 当該住戸の外皮の部位の面積等を用いずに簡易熱負荷計算を実施する場合には、部位の面積および長さを、「平成28年省エネルギー基準に準拠したエネルギー消費性能の評価に関する技術情報（住宅）」２．エネルギー消費性能の算定方法　2.2　算定方法　第三章　 暖冷房負荷と外皮性能　\t第二節　外皮性能　9.当該住戸の外皮の部位の面積等を用いずに外皮性能を評価する方法　に示された標準住戸（以下、「簡易外皮入力モデル」）における部位の面積および長さ等より推定する。\n",
    "- 屋根・天井、外壁、床の構成は、入力値である部位種別の熱貫流率をもとに、部位のU値から壁体構成を決定する方法により決定する。\n",
    "- 土間床等の外周部の線熱貫流率については、簡易熱負荷計算での扱いに従う\n",
    "- 開口部の日射熱取得率および外部日除けの取得日射熱補正係数は、それぞれ、季節別に、垂直面日射熱取得率および取得日射熱補正係数の入力値もしくは規定値を使用する。この場合、簡易熱負荷計算においては、開口部の入射角特性および外部日除けは考慮しない。\n",
    "- その他は、外皮性能計算プログラムの入力情報に用途別床面積を追加したものと同様に求める。"
   ]
  },
  {
   "cell_type": "markdown",
   "metadata": {},
   "source": [
    "#### 《設計住戸の各部位の長さおよび面積の推定》\n",
    "$$ \\qquad\n",
    "A_{i,d}= A_{i,s}・\\frac{A_{floor,d}}{A_{floor,s}}\n",
    "\\qquad (1)\n",
    "\\\\\n",
    "$$\n",
    "$$ \\qquad\n",
    "L_{i,d}= L_{i,s}・\\frac{A_{floor,d}}{A_{floor,s}}\n",
    "\\qquad (2)\n",
    "\\\\\n",
    "$$\n",
    "\n",
    "- 入力値：\n",
    "\n",
    "  - 簡易外皮入力モデル住戸の延床面積$[m ^ 2]$：$A_{floor,s}$\n",
    "  - 設計住戸の延床面積$[m ^ 2]$：$A_{floor,d}$\n",
    "  - 簡易外皮入力モデル住戸の部位（一般部位又は開口部）𝑖の面積$[m ^ 2]$：$A_{i,s}$\n",
    "  - 簡易外皮入力モデル住戸の部位（土間床等の外周部）𝑖の長さ$[m]$：$L_{i,s}$\n",
    "\n",
    "- 出力値：\n",
    "\n",
    "  - 設計住戸の部位（一般部位又は開口部）𝑖の面積の推定値$[m ^ 2]$：$A_{i,d}$\n",
    "  - 設計住戸の部位（土間床等の外周部）𝑖の長さの推定値$[m]$：$L_{i,d}$"
   ]
  },
  {
   "cell_type": "markdown",
   "metadata": {},
   "source": [
    "#### Function"
   ]
  },
  {
   "cell_type": "code",
   "execution_count": 8,
   "metadata": {
    "collapsed": true
   },
   "outputs": [],
   "source": [
    "def GetDesignPartsArea(parts_area_standard, total_floor_area_design):\n",
    "    TOTAL_FLOOR_AREA_STANDARD = 90.0  #簡易外皮入力モデル住戸の延床面積(m2)\n",
    "    partsArea = round(parts_area_standard * total_floor_area_design / TOTAL_FLOOR_AREA_STANDARD,2)\n",
    "    return partsArea"
   ]
  },
  {
   "cell_type": "markdown",
   "metadata": {},
   "source": [
    "#### Example"
   ]
  },
  {
   "cell_type": "code",
   "execution_count": 9,
   "metadata": {},
   "outputs": [
    {
     "data": {
      "text/plain": [
       "67.8"
      ]
     },
     "execution_count": 9,
     "metadata": {},
     "output_type": "execute_result"
    }
   ],
   "source": [
    "GetDesignPartsArea(50.85,120)"
   ]
  },
  {
   "cell_type": "markdown",
   "metadata": {},
   "source": [
    "## 2. コンバート"
   ]
  },
  {
   "cell_type": "markdown",
   "metadata": {},
   "source": [
    "### 1) 共通"
   ]
  },
  {
   "cell_type": "markdown",
   "metadata": {},
   "source": [
    "- 地域の区分、主たる居室の床面積(m<sup>2</sup>)、その他の床面積(m<sup>2</sup>)、床面積の合計(m<sup>2</sup>)の情報は維持する。\n",
    "- 新たに変数「簡易外皮入力フラグ」を作成し、LV1から生成したLV2情報は必ずTrueとする。"
   ]
  },
  {
   "cell_type": "markdown",
   "metadata": {},
   "source": [
    "#### Input"
   ]
  },
  {
   "cell_type": "markdown",
   "metadata": {},
   "source": [
    "```\n",
    "{\n",
    "    'Region'                     : # 地域の区分 1 ~ 8 の整数\n",
    "    'MainOccupantRoomFloorArea'  : # 主たる居室の床面積(m2)\n",
    "    'OtherOccupantRoomFloorArea' : # その他の居室の床面積(m2)\n",
    "    'TotalFloorArea'             : # 床面積の合計(m2)\n",
    "}\n",
    "```"
   ]
  },
  {
   "cell_type": "markdown",
   "metadata": {},
   "source": [
    "#### Output"
   ]
  },
  {
   "cell_type": "markdown",
   "metadata": {},
   "source": [
    "```\n",
    "{\n",
    "    'Region'                      : # 地域の区分 1 ~ 8 の整数\n",
    "    'IsSimplifiedInput'           : # bool値 簡易入力から生成したデータか否かを表す, LV1からの場合は常にTrueとなる。\n",
    "    'MainOccupantRoomFloorArea'   : # 主たる居室の床面積(m2)\n",
    "    'OtherOccupantRoomFloorArea'  : # その他の居室の床面積(m2)\n",
    "    'TotalFloorArea'              : # 床面積の合計(m2)\n",
    "}\n",
    "```"
   ]
  },
  {
   "cell_type": "markdown",
   "metadata": {},
   "source": [
    "#### Function"
   ]
  },
  {
   "cell_type": "code",
   "execution_count": 10,
   "metadata": {
    "collapsed": true
   },
   "outputs": [],
   "source": [
    "def convert_common(d):\n",
    "    return {\n",
    "        'Region'                     : d['Region'],\n",
    "        'IsSimplifiedInput'          : True,\n",
    "        'MainOccupantRoomFloorArea'  : d['MainOccupantRoomFloorArea'],\n",
    "        'OtherOccupantRoomFloorArea' : d['OtherOccupantRoomFloorArea'],\n",
    "        'TotalFloorArea'             : d['TotalFloorArea']\n",
    "    }"
   ]
  },
  {
   "cell_type": "markdown",
   "metadata": {},
   "source": [
    "#### Example"
   ]
  },
  {
   "cell_type": "code",
   "execution_count": 11,
   "metadata": {},
   "outputs": [
    {
     "data": {
      "text/plain": [
       "{'IsSimplifiedInput': True,\n",
       " 'MainOccupantRoomFloorArea': 30.0,\n",
       " 'OtherOccupantRoomFloorArea': 60.0,\n",
       " 'Region': 6,\n",
       " 'TotalFloorArea': 120.0}"
      ]
     },
     "execution_count": 11,
     "metadata": {},
     "output_type": "execute_result"
    }
   ],
   "source": [
    "convert_common({\n",
    "    'Region' : 6,\n",
    "    'MainOccupantRoomFloorArea': 30.0,\n",
    "    'OtherOccupantRoomFloorArea': 60.0,\n",
    "    'TotalFloorArea': 120.0\n",
    "})"
   ]
  },
  {
   "cell_type": "markdown",
   "metadata": {},
   "source": [
    "### 2) 開口部以外の不透明部位"
   ]
  },
  {
   "cell_type": "markdown",
   "metadata": {},
   "source": [
    "- 部位のU値から壁体構成を決定する"
   ]
  },
  {
   "cell_type": "markdown",
   "metadata": {},
   "source": [
    "#### 簡易外皮入力モデルにおける開口部以外の不透明部位の面積"
   ]
  },
  {
   "cell_type": "markdown",
   "metadata": {},
   "source": [
    "- 簡易外皮入力モデルにおける開口部以外の不透明部位の面積は、壁体種別、方位および断熱構造から決定する。"
   ]
  },
  {
   "cell_type": "code",
   "execution_count": 12,
   "metadata": {
    "collapsed": true
   },
   "outputs": [],
   "source": [
    "def getStandardPartsArea():\n",
    "    return {\n",
    "        'ceiling': {\n",
    "            'top': {\n",
    "                'floor_ins': 50.85,\n",
    "                'base_ins': 50.85\n",
    "            } \n",
    "        } ,\n",
    "        'wall': {\n",
    "            'SW': {\n",
    "                'floor_ins': 30.47,\n",
    "                'base_ins': 30.47\n",
    "            } ,\n",
    "            'NW': {\n",
    "                'floor_ins': 22.37,\n",
    "                'base_ins': 22.37\n",
    "            } ,\n",
    "            'NE': {\n",
    "                'floor_ins': 47.92,\n",
    "                'base_ins':47.92\n",
    "            } ,\n",
    "            'SE': {\n",
    "                'floor_ins': 22.28,\n",
    "                'base_ins':22.28\n",
    "            } \n",
    "        } ,\n",
    "        'floor' : {\n",
    "            'bottom' : {\n",
    "                'floor_ins': 45.05,\n",
    "                'base_ins':0.0\n",
    "            }\n",
    "        }\n",
    "    }    "
   ]
  },
  {
   "cell_type": "markdown",
   "metadata": {},
   "source": [
    "##### Example"
   ]
  },
  {
   "cell_type": "code",
   "execution_count": 13,
   "metadata": {},
   "outputs": [
    {
     "data": {
      "text/plain": [
       "30.47"
      ]
     },
     "execution_count": 13,
     "metadata": {},
     "output_type": "execute_result"
    }
   ],
   "source": [
    "getStandardPartsArea()['wall']['SW']['floor_ins']"
   ]
  },
  {
   "cell_type": "markdown",
   "metadata": {},
   "source": [
    "#### Input"
   ]
  },
  {
   "cell_type": "markdown",
   "metadata": {},
   "source": [
    "```\n",
    "{\n",
    "    'InsulationType'                  : # 断熱構造 string値,  'floor_ins' or 'base_ins'\n",
    "    'U_roof'                          : # 屋根・天井の熱貫流率(W/m2K)\n",
    "    'U_wall'                          : # 外壁の熱貫流率(W/m2K)\n",
    "    'U_floor'                         : # 床の熱貫流率(W/m2K)\n",
    "    'U_door'                          : # ドアの熱貫流率(W/m2K)\n",
    "    'IsInputEarthFloorPerimeterPsi' : # 土間床等の外周部の線熱貫流率を入力するかどうか, bool値\n",
    "    'Psi_base_others'                 : # その他の土間床等の外周部の線熱貫流率(W/mK),\n",
    "                                          'IsInputEarthFloorPerimeterPsi'がFalseの場合は無視される。\n",
    "    'Psi_base_entrance'               : # 玄関等の土間床等の外周部の線熱貫流率(W/mK)\n",
    "                                          'IsInputEarthFloorPerimeterPsi'がFalseの場合は無視される。\n",
    "}\n",
    "```"
   ]
  },
  {
   "cell_type": "markdown",
   "metadata": {},
   "source": [
    "#### Output"
   ]
  },
  {
   "cell_type": "markdown",
   "metadata": {},
   "source": [
    "```\n",
    "{\n",
    "    'Name'                        : # 壁体名称\n",
    "    'Structure'                   : # 一般部位構造種別 1 ~ 4 の整数\n",
    "    'Type'                        : # 壁体種別 1 ~ 6 の整数\n",
    "    'Direction'                   : # 方位　string値, 以下のいずれか\n",
    "                                    # 'top'/'N'/'NE'/'E'/'SE'/'S'/'SW'/'W'/'NW'/'bottom'/\n",
    "                                    # 'ClosedSpace'（外気に通じていない空間）/\n",
    "                                    # 'OpenBackFloor'（外気に通じる床裏）/\n",
    "                                    # 'ResidenceSpace'（住戸及び住戸と同様の熱的環境の空間）/\n",
    "                                    # 'ClosedBackFloor'（外気に通じていない床裏）/\n",
    "                                    # 'EarthFloor'（土間床等）\n",
    "    'Area'                        : # 部位面積(m2)\n",
    "    'parts' : [\n",
    "        {\n",
    "            layers : [\n",
    "                {\n",
    "                    'Name'   : # 部材名称　string値\n",
    "                    'Thick'  : # 厚さ(m)\n",
    "                    'Cond'   : # 熱伝導率(W/(m・K))\n",
    "                    'Spech'  : # 容積比熱(J/(m3・K))\n",
    "                }\n",
    "            ] # 層構成の情報\n",
    "        ] # 部位の情報\n",
    "}\n",
    "```"
   ]
  },
  {
   "cell_type": "markdown",
   "metadata": {},
   "source": [
    "### Function"
   ]
  },
  {
   "cell_type": "code",
   "execution_count": 14,
   "metadata": {
    "collapsed": true
   },
   "outputs": [],
   "source": [
    "def convert_wall( d ):\n",
    "    \n",
    "    #簡易外皮入力モデルにおける開口部以外の不透明部位のリストを作成\n",
    "    standard_parts = [\n",
    "        { 'name': 'Ceiling', 'type': 'ceiling', 'structure': 'wood', 'direction': 'top',    'Ua': d['U_roof']  },\n",
    "        { 'name': 'Wall_SW', 'type': 'wall',    'structure': 'wood', 'direction': 'SW',     'Ua': d['U_wall']  },\n",
    "        { 'name': 'Wall_NW', 'type': 'wall',    'structure': 'wood', 'direction': 'NW',     'Ua': d['U_wall']  },\n",
    "        { 'name': 'Wall_NE', 'type': 'wall',    'structure': 'wood', 'direction': 'NE',     'Ua': d['U_wall']  },\n",
    "        { 'name': 'Wall_SE', 'type': 'wall',    'structure': 'wood', 'direction': 'SE',     'Ua': d['U_wall']  },\n",
    "        { 'name': 'Floor',   'type': 'floor',   'structure': 'wood', 'direction': 'bottom', 'Ua': d['U_floor'] }\n",
    "    ]\n",
    "                  \n",
    "    walls = []\n",
    "    for x in standard_parts:\n",
    "        \n",
    "        #標準住戸の部位の面積を取得\n",
    "        partsArea = getStandardPartsArea()[ x['type'] ][ x['direction'] ][ d['InsulationType'] ]\n",
    "\n",
    "        #層構成を取得\n",
    "        layers = convertUValueToSpec( x['structure'], x['type'], x['Ua'] )\n",
    "        \n",
    "        part = {\n",
    "            'AreaRatio': 1.0,\n",
    "            'Layers'   : [ { 'Name' : l.name, 'Cond' : l.cond, 'Thick' : l.thick, 'Spech' : l.spech } for l in layers ]\n",
    "        }\n",
    "        \n",
    "        wall ={\n",
    "            'Name': x['name'],\n",
    "            'Type': x['type'],\n",
    "            'Structure': x['structure'],\n",
    "            'Direction': x['direction'],\n",
    "            'Area': GetDesignPartsArea( partsArea, d['TotalFloorArea'] ),\n",
    "            'Parts':[part]\n",
    "        }\n",
    "\n",
    "        walls.append(wall)\n",
    "   \n",
    "    return { 'Walls' : walls }"
   ]
  },
  {
   "cell_type": "markdown",
   "metadata": {},
   "source": [
    "### Example"
   ]
  },
  {
   "cell_type": "code",
   "execution_count": 15,
   "metadata": {},
   "outputs": [
    {
     "data": {
      "text/plain": [
       "{'Walls': [{'Area': 67.8,\n",
       "   'Direction': 'top',\n",
       "   'Name': 'Ceiling',\n",
       "   'Parts': [{'AreaRatio': 1.0,\n",
       "     'Layers': [{'Cond': 0.045, 'Name': 'GW16K', 'Spech': 13.0, 'Thick': 0.0},\n",
       "      {'Cond': 0.22, 'Name': 'GPB', 'Spech': 830.0, 'Thick': 0.0095}]}],\n",
       "   'Structure': 'wood',\n",
       "   'Type': 'ceiling'},\n",
       "  {'Area': 40.63,\n",
       "   'Direction': 'SW',\n",
       "   'Name': 'Wall_SW',\n",
       "   'Parts': [{'AreaRatio': 1.0,\n",
       "     'Layers': [{'Cond': 0.045, 'Name': 'GW16K', 'Spech': 13.0, 'Thick': 0.0},\n",
       "      {'Cond': 0.22, 'Name': 'GPB', 'Spech': 830.0, 'Thick': 0.0095}]}],\n",
       "   'Structure': 'wood',\n",
       "   'Type': 'wall'},\n",
       "  {'Area': 29.83,\n",
       "   'Direction': 'NW',\n",
       "   'Name': 'Wall_NW',\n",
       "   'Parts': [{'AreaRatio': 1.0,\n",
       "     'Layers': [{'Cond': 0.045, 'Name': 'GW16K', 'Spech': 13.0, 'Thick': 0.0},\n",
       "      {'Cond': 0.22, 'Name': 'GPB', 'Spech': 830.0, 'Thick': 0.0095}]}],\n",
       "   'Structure': 'wood',\n",
       "   'Type': 'wall'},\n",
       "  {'Area': 63.89,\n",
       "   'Direction': 'NE',\n",
       "   'Name': 'Wall_NE',\n",
       "   'Parts': [{'AreaRatio': 1.0,\n",
       "     'Layers': [{'Cond': 0.045, 'Name': 'GW16K', 'Spech': 13.0, 'Thick': 0.0},\n",
       "      {'Cond': 0.22, 'Name': 'GPB', 'Spech': 830.0, 'Thick': 0.0095}]}],\n",
       "   'Structure': 'wood',\n",
       "   'Type': 'wall'},\n",
       "  {'Area': 29.71,\n",
       "   'Direction': 'SE',\n",
       "   'Name': 'Wall_SE',\n",
       "   'Parts': [{'AreaRatio': 1.0,\n",
       "     'Layers': [{'Cond': 0.045, 'Name': 'GW16K', 'Spech': 13.0, 'Thick': 0.0},\n",
       "      {'Cond': 0.22, 'Name': 'GPB', 'Spech': 830.0, 'Thick': 0.0095}]}],\n",
       "   'Structure': 'wood',\n",
       "   'Type': 'wall'},\n",
       "  {'Area': 60.07,\n",
       "   'Direction': 'bottom',\n",
       "   'Name': 'Floor',\n",
       "   'Parts': [{'AreaRatio': 1.0,\n",
       "     'Layers': [{'Cond': 0.045, 'Name': 'GW16K', 'Spech': 13.0, 'Thick': 0.0},\n",
       "      {'Cond': 0.16, 'Name': 'PED', 'Spech': 720.0, 'Thick': 0.012}]}],\n",
       "   'Structure': 'wood',\n",
       "   'Type': 'floor'}]}"
      ]
     },
     "execution_count": 15,
     "metadata": {},
     "output_type": "execute_result"
    }
   ],
   "source": [
    "d = {\n",
    "    'Region' : 6,\n",
    "    'MainOccupantRoomFloorArea': 30.0,\n",
    "    'OtherOccupantRoomFloorArea': 60.0,\n",
    "    'TotalFloorArea': 120.0,\n",
    "    'InsulationType' : 'floor_ins',\n",
    "    'U_roof' : 7.7,\n",
    "    'U_wall' : 6.67,\n",
    "    'U_floor' : 5.27,\n",
    "    'U_door' : 4.65,\n",
    "    'IsInputEarthFloorPerimeterPsi' : True,\n",
    "    'Psi_base_others' : 1.8,\n",
    "    'Psi_base_entrance' :1.8\n",
    "}\n",
    "\n",
    "convert_wall( d )"
   ]
  },
  {
   "cell_type": "markdown",
   "metadata": {},
   "source": [
    "### 3) 開口部の透明部位"
   ]
  },
  {
   "cell_type": "markdown",
   "metadata": {},
   "source": [
    "- 開口部名称、日射熱取得率[-]、熱貫流率[W/(m<sup>2</sup>・K)]の情報は維持する。"
   ]
  },
  {
   "cell_type": "markdown",
   "metadata": {},
   "source": [
    "#### 簡易外皮入力モデルにおける開口部の透明部位の面積"
   ]
  },
  {
   "cell_type": "markdown",
   "metadata": {},
   "source": [
    "- 簡易外皮入力モデルにおける開口部の透明部位の面積は、方位から決定する。"
   ]
  },
  {
   "cell_type": "code",
   "execution_count": 16,
   "metadata": {
    "collapsed": true
   },
   "outputs": [],
   "source": [
    "def getStandardPartsAreaWindow():\n",
    "    return {\n",
    "        'SW': 22.69,\n",
    "        'NW': 2.38,\n",
    "        'NE': 3.63,\n",
    "        'SE': 4.37\n",
    "    }"
   ]
  },
  {
   "cell_type": "markdown",
   "metadata": {},
   "source": [
    "##### Example"
   ]
  },
  {
   "cell_type": "code",
   "execution_count": 17,
   "metadata": {},
   "outputs": [
    {
     "data": {
      "text/plain": [
       "22.69"
      ]
     },
     "execution_count": 17,
     "metadata": {},
     "output_type": "execute_result"
    }
   ],
   "source": [
    "getStandardPartsAreaWindow()['SW']"
   ]
  },
  {
   "cell_type": "markdown",
   "metadata": {},
   "source": [
    "#### 日除けの出巾を計算する関数"
   ]
  },
  {
   "cell_type": "markdown",
   "metadata": {},
   "source": [
    "- 取得日射熱補正係数、地域区分、方位、開口部高さ、窓上端と外部日除けの距離から出巾を計算する関数を定義する。\n",
    "- 取得日射熱補正係数を求める(3)式を出巾$z$について求める。(3)式中の係数$a,b,c,d$は、地域区分及び方位により変化する。\n",
    "\n",
    "$$ \\qquad\n",
    "f = a×(b + c×\\frac{d×y_{1}+y_{2}}{z})\n",
    "\\qquad (3)\n",
    "\\\\\n",
    "$$\n",
    "\n",
    "  - 取得日射熱補正係数$[-]$：$f$\n",
    "  - 日除け下端から窓上端までの垂直方向の距離$[m]$：$y_{1}$\n",
    "  - 窓の開口高さ$[m]$：$y_{2}$\n",
    "  - 壁面からの日除けの出巾$[m]$：$z$"
   ]
  },
  {
   "cell_type": "code",
   "execution_count": 18,
   "metadata": {
    "collapsed": true
   },
   "outputs": [],
   "source": [
    "def getOverhangWidth(isHeating, Region, direction, distance, height, f ):\n",
    "    # isHeating as Boolean\n",
    "    # Region as integer: 1 to 8\n",
    "    # direction as string: top, N, NE, E, SE, S, SW, W, NW, bottom, ClosedSpace, OpenBackFloor, ResidenceSpace, ClosedBackFloor, EarthFloor\n",
    "    # distance: vertical distance from bottom of sunshade to top of window (m)\n",
    "    # height: window height (m)\n",
    "    # f: solar heat correction factor (-)　取得日射熱補正係数\n",
    "    \n",
    "    y1 = distance\n",
    "    y2 = height\n",
    "    \n",
    "    # 取得日射熱補正係数を調整\n",
    "    if isHeating == True:\n",
    "        if f > 0.72:\n",
    "            f = 0.72\n",
    "    else:\n",
    "        if f > 0.93:\n",
    "            f = 0.93\n",
    "    \n",
    "    # 係数a,b,c,dを設定\n",
    "    if isHeating == True:  # 暖房期\n",
    "        if Region <= 7:\n",
    "            if ( direction == 'SE' or direction == 'S' or direction == 'SW' ):\n",
    "                a, b, c, d = (0.01, 5, 20, 3)\n",
    "            else:\n",
    "                a, b, c, d = (0.01, 10, 15, 2)\n",
    "        elif Region == 8 :\n",
    "            pass #8地域の場合はどうする？\n",
    "        \n",
    "    else:  # 冷房期\n",
    "        if Region <= 7:\n",
    "            if ( direction == 'S' ):\n",
    "                a, b, c, d = (0.01, 24, 9, 3)\n",
    "            else:\n",
    "                a, b, c, d = (0.01, 16, 24, 2)\n",
    "        elif Region == 8 :\n",
    "            if ( direction == 'SE' or direction == 'S' or direction == 'SW' ):\n",
    "                a, b, c, d = (0.01, 16, 19, 2)\n",
    "            else:\n",
    "                a, b, c, d = (0.01, 16, 24, 2)\n",
    "    \n",
    "    # 出巾を計算\n",
    "    z = ( c * ( d * y1 + y2) ) / ( ( f / a ) - b)\n",
    "    \n",
    "    return z\n"
   ]
  },
  {
   "cell_type": "markdown",
   "metadata": {},
   "source": [
    "##### Example"
   ]
  },
  {
   "cell_type": "code",
   "execution_count": 19,
   "metadata": {},
   "outputs": [
    {
     "data": {
      "text/plain": [
       "0.2661290322580645"
      ]
     },
     "execution_count": 19,
     "metadata": {},
     "output_type": "execute_result"
    }
   ],
   "source": [
    "getOverhangWidth(True, 6, 'NE', 0, 1.1, 0.72)"
   ]
  },
  {
   "cell_type": "markdown",
   "metadata": {},
   "source": [
    "#### Input"
   ]
  },
  {
   "cell_type": "markdown",
   "metadata": {},
   "source": [
    "```\n",
    "data = {\n",
    "    'U_wnd'           : # 窓の熱貫流率 (W/m2K)\n",
    "    'eta_d_C'         : # 垂直面日射熱取得率(夏期) (-)\n",
    "    'eta_d_H'         : # 垂直面日射熱取得率（冬期） (-)\n",
    "    'IsInputFValue'   : # 取得日射熱補正係数を入力するかどうか, bool値\n",
    "    'f_value_C'       : # 取得日射熱補正係数(夏期)\n",
    "    'f_value_H'       : # 取得日射熱補正係数(冬期)\n",
    "}\n",
    "```"
   ]
  },
  {
   "cell_type": "markdown",
   "metadata": {},
   "source": [
    "#### Output"
   ]
  },
  {
   "cell_type": "markdown",
   "metadata": {},
   "source": [
    "```\n",
    "data = {\n",
    "    'name'                        : # 開口部名称\n",
    "    'direction'                   : # 方位　string値, 以下のいずれか\n",
    "                                    # 'top'/'N'/'NE'/'E'/'SE'/'S'/'SW'/'W'/'NW'/'bottom'/\n",
    "                                    # 'ClosedSpace'（外気に通じていない空間）/\n",
    "                                    # 'OpenBackFloor'（外気に通じる床裏）/\n",
    "                                    # 'ResidenceSpace'（住戸及び住戸と同様の熱的環境の空間）/\n",
    "                                    # 'ClosedBackFloor'（外気に通じていない床裏）/\n",
    "                                    # 'EarthFloor'（土間床等）\n",
    "    'A'                           : # 部位面積(m2)\n",
    "    'type'                        : # 窓の種類 string値, 'single' or 'double'\n",
    "    'etaCooling'                  : # 日射熱取得率（夏期）(-)\n",
    "    'etaHeating'                  : # 日射熱取得率（冬期）(-)\n",
    "    'Uw'                          : # 窓の熱貫流率(W/(m2・K))\n",
    "    'IsSunshadeInput'             : # 日除けを入力するかどうか, bool値\n",
    "    'y2'                          : # 開口部高さ(m)\n",
    "    'z'                           : # 出巾(m)\n",
    "    'y1'                          : # 窓上端と外部日除けの距離(m)\n",
    "}\n",
    "```"
   ]
  },
  {
   "cell_type": "markdown",
   "metadata": {},
   "source": [
    "### Function"
   ]
  },
  {
   "cell_type": "code",
   "execution_count": 10,
   "metadata": {
    "collapsed": true
   },
   "outputs": [],
   "source": [
    "def convert_window(d1):\n",
    "    return {'name': d1['name'],\n",
    "            'etac': d1['etac'],\n",
    "            'etah': d1['etah'],\n",
    "            'U': d1['U']}"
   ]
  },
  {
   "cell_type": "markdown",
   "metadata": {},
   "source": [
    "### Example"
   ]
  },
  {
   "cell_type": "code",
   "execution_count": 11,
   "metadata": {
    "collapsed": false
   },
   "outputs": [
    {
     "data": {
      "text/plain": [
       "{'U': 4.65, 'etac': 0.738, 'etah': 0.738, 'name': 'Sample Window'}"
      ]
     },
     "execution_count": 11,
     "metadata": {},
     "output_type": "execute_result"
    }
   ],
   "source": [
    "convert_window({\n",
    "    'name': 'Sample Window',\n",
    "    'etac': 0.738,\n",
    "    'etah': 0.738,\n",
    "    'U': 4.65})"
   ]
  },
  {
   "cell_type": "markdown",
   "metadata": {},
   "source": [
    "## 2-4. コンバート【分類：外部日除け】"
   ]
  },
  {
   "cell_type": "markdown",
   "metadata": {},
   "source": [
    "- 外部日除け名称、取得日射熱補正係数[-]の情報は維持する。"
   ]
  },
  {
   "cell_type": "markdown",
   "metadata": {},
   "source": [
    "### Input"
   ]
  },
  {
   "cell_type": "markdown",
   "metadata": {},
   "source": [
    "```\n",
    "data = {\n",
    "    'name'                        : # 外部日除け名称\n",
    "    'fCooling'                    : # 取得日射熱補正係数（夏期）(-)\n",
    "    'fHeating'                    : # 取得日射熱補正係数（冬期）(-)\n",
    "}\n",
    "```"
   ]
  },
  {
   "cell_type": "markdown",
   "metadata": {},
   "source": [
    "### Output"
   ]
  },
  {
   "cell_type": "markdown",
   "metadata": {},
   "source": [
    "```\n",
    "data = {\n",
    "    'name'                        : # 外部日除け名称\n",
    "    'fCooling'                    : # 取得日射熱補正係数（夏期）(-)\n",
    "    'fHeating'                    : # 取得日射熱補正係数（冬期）(-)\n",
    "}\n",
    "```"
   ]
  },
  {
   "cell_type": "markdown",
   "metadata": {},
   "source": [
    "### Function"
   ]
  },
  {
   "cell_type": "code",
   "execution_count": 12,
   "metadata": {
    "collapsed": true
   },
   "outputs": [],
   "source": [
    "def convert_sunshade(d1):\n",
    "    return {'name': d1['name'],\n",
    "            'fc': d1['fc'],\n",
    "            'fh': d1['fh']}"
   ]
  },
  {
   "cell_type": "markdown",
   "metadata": {},
   "source": [
    "### Example"
   ]
  },
  {
   "cell_type": "code",
   "execution_count": 13,
   "metadata": {},
   "outputs": [
    {
     "data": {
      "text/plain": [
       "{'fc': 0.7, 'fh': 0.6, 'name': 'Sample Sunshade'}"
      ]
     },
     "execution_count": 13,
     "metadata": {},
     "output_type": "execute_result"
    }
   ],
   "source": [
    "convert_sunshade({\n",
    "    'name': 'Sample Sunshade',\n",
    "    'fc': 0.700,\n",
    "    'fh': 0.600,})"
   ]
  },
  {
   "cell_type": "markdown",
   "metadata": {},
   "source": [
    "## 2-5. コンバート【分類：部位情報】"
   ]
  },
  {
   "cell_type": "markdown",
   "metadata": {},
   "source": [
    "- 簡易外皮入力モデル住戸の部位の長さおよび面積、設計住戸の延床面積より、設計住戸の各部位の長さおよび面積の推定を行う。"
   ]
  },
  {
   "cell_type": "markdown",
   "metadata": {},
   "source": [
    "### Input"
   ]
  },
  {
   "cell_type": "markdown",
   "metadata": {},
   "source": [
    "```\n",
    "data = {\n",
    "    'name'                        : # 壁体・開口部名称\n",
    "    'FlagPerimeter'               : # 外皮フラグ 1 ~ 2 の整数\n",
    "    'FlagSolarRadiation'          : # 日射フラグ 1 ~ 2 の整数\n",
    "    'direction'                   : # 方位 1 ~ 14 の整数\n",
    "    'FlagUnsteady'                : # 非定常フラグ 1 ~ 2 の整数\n",
    "    'A'                           : # 部位面積(m2)\n",
    "    'L'                           : # 部位長さ(m)\n",
    "    'sunshade'                    : # 外部日除け名称\n",
    "}\n",
    "```"
   ]
  },
  {
   "cell_type": "markdown",
   "metadata": {},
   "source": [
    "### Output"
   ]
  },
  {
   "cell_type": "markdown",
   "metadata": {},
   "source": [
    "```\n",
    "data = {\n",
    "    'name'                        : # 壁体・開口部名称\n",
    "    'FlagPerimeter'               : # 外皮フラグ 1 ~ 2 の整数\n",
    "    'FlagSolarRadiation'          : # 日射フラグ 1 ~ 2 の整数\n",
    "    'direction'                   : # 方位 1 ~ 14 の整数\n",
    "    'FlagUnsteady'                : # 非定常フラグ 1 ~ 2 の整数\n",
    "    'A'                           : # 部位面積(m2)\n",
    "    'L'                           : # 部位長さ(m)\n",
    "    'sunshade'                    : # 外部日除け名称\n",
    "}\n",
    "```"
   ]
  },
  {
   "cell_type": "markdown",
   "metadata": {},
   "source": [
    "### Function"
   ]
  },
  {
   "cell_type": "code",
   "execution_count": 14,
   "metadata": {
    "collapsed": true
   },
   "outputs": [],
   "source": [
    "def convert_element(d1,d):\n",
    "    FloorAreaS=90\n",
    "    FloorArea=d['Common']['TotalFloorArea']\n",
    "    return {'name': d1['name'],\n",
    "            'FlagPerimeter': d1['FlagPerimeter'],\n",
    "            'FlagSolarRadiation': d1['FlagSolarRadiation'],\n",
    "            'FlagUnsteady': d1['FlagUnsteady'],\n",
    "            'direction': d1['direction'],\n",
    "            'AorL': round(d1['AorL']*FloorArea/FloorAreaS,2)}"
   ]
  },
  {
   "cell_type": "markdown",
   "metadata": {},
   "source": [
    "### Example"
   ]
  },
  {
   "cell_type": "code",
   "execution_count": 15,
   "metadata": {},
   "outputs": [
    {
     "data": {
      "text/plain": [
       "{'AorL': 1.33,\n",
       " 'FlagPerimeter': 1,\n",
       " 'FlagSolarRadiation': 1,\n",
       " 'FlagUnsteady': 1,\n",
       " 'direction': 1,\n",
       " 'name': 'Sample Element'}"
      ]
     },
     "execution_count": 15,
     "metadata": {},
     "output_type": "execute_result"
    }
   ],
   "source": [
    "convert_element({\n",
    "    'name': 'Sample Element',\n",
    "    'FlagPerimeter': 1,\n",
    "    'FlagSolarRadiation': 1,\n",
    "    'FlagUnsteady': 1,\n",
    "    'direction': 1,\n",
    "    'AorL': 1},{\n",
    "    'Common':{\n",
    "    'Region' : 6,\n",
    "    'MainOccupantRoomFloorArea': 30.0,\n",
    "    'OtherOccupantRoomFloorArea': 60.0,\n",
    "    'TotalFloorArea': 120.0,}})"
   ]
  },
  {
   "cell_type": "markdown",
   "metadata": {},
   "source": [
    "## 2-6. コンバート【分類：簡易外皮入力】"
   ]
  },
  {
   "cell_type": "markdown",
   "metadata": {},
   "source": [
    "- 断熱構造、屋根・天井熱貫流率[W/(m<sup>2</sup>・K)]、外壁熱貫流率[W/(m<sup>2</sup>・K)]、床熱貫流率[W/(m<sup>2</sup>・K)]、ドア熱貫流率[W/(m<sup>2</sup>・K)]、垂直面日射熱取得率[-]、取得日射熱補正係数の入力[-]、取得日射熱補正係数[-]、土間床等の外周部の入力、一般線熱貫流率[W/(m・K)]、玄関等線熱貫流率[W/(m・K)]の情報は維持する。"
   ]
  },
  {
   "cell_type": "markdown",
   "metadata": {},
   "source": [
    "### Input"
   ]
  },
  {
   "cell_type": "markdown",
   "metadata": {},
   "source": [
    "```\n",
    "data = {\n",
    "    'InsulationStructure'        : # 床/基礎の断熱構造 1 ~ 2 の整数\n",
    "    'UCeiling'                   : # 屋根・天井熱貫流率(W/(m2・K))\n",
    "    'UWall'                      : # 外壁熱貫流率(W/(m2・K))\n",
    "    'UFloor'                     : # 床熱貫流率(W/(m2・K))\n",
    "    'UDoor'                      : # ドア熱貫流率(W/(m2・K))\n",
    "    'UWindow'                    : # 窓熱貫流率(W/(m2・K))\n",
    "    'etaWindowCooling'           : # 垂直面日射熱取得率（夏期）   \n",
    "    'etaWindowHeating'           : # 垂直面日射熱取得率（冬期）\n",
    "    'FlagfWinowInput'            : # 取得日射熱補正係数の入力の入力 1 ~ 2 の整数\n",
    "    'fWindowCooling'             : # 取得日射熱補正係数（夏期）\n",
    "    'fWindowHeating'             : # 取得日射熱補正係数（冬期）\n",
    "    'FlagPerimeterInput'         : # 土間床等の外周部の入力 1 ~ 2 の整数\n",
    "    'psiPerimeter'               : # 一般線熱貫流率(W/(m・K))\n",
    "    'psiPerimeterDoor'           : # 玄関等線熱貫流率(W/(m・K))\n",
    "}\n",
    "```"
   ]
  },
  {
   "cell_type": "markdown",
   "metadata": {},
   "source": [
    "### Output"
   ]
  },
  {
   "cell_type": "markdown",
   "metadata": {},
   "source": [
    "```\n",
    "data = {\n",
    "    'InsulationStructure'        : # 床/基礎の断熱構造 1 ~ 2 の整数\n",
    "    'UCeiling'                   : # 屋根・天井熱貫流率(W/(m2・K))\n",
    "    'UWall'                      : # 外壁熱貫流率(W/(m2・K))\n",
    "    'UFloor'                     : # 床熱貫流率(W/(m2・K))\n",
    "    'UDoor'                      : # ドア熱貫流率(W/(m2・K))\n",
    "    'UWindow'                    : # 窓熱貫流率(W/(m2・K))\n",
    "    'etaWindowCooling'           : # 垂直面日射熱取得率（夏期）   \n",
    "    'etaWindowHeating'           : # 垂直面日射熱取得率（冬期）\n",
    "    'FlagfWinowInput'            : # 取得日射熱補正係数の入力の入力 1 ~ 2 の整数\n",
    "    'fWindowCooling'             : # 取得日射熱補正係数（夏期）\n",
    "    'fWindowHeating'             : # 取得日射熱補正係数（冬期）\n",
    "    'FlagPerimeterInput'         : # 土間床等の外周部の入力 1 ~ 2 の整数\n",
    "    'psiPerimeter'               : # 一般線熱貫流率(W/(m・K))\n",
    "    'psiPerimeterDoor'           : # 玄関等線熱貫流率(W/(m・K))\n",
    "}\n",
    "```"
   ]
  },
  {
   "cell_type": "markdown",
   "metadata": {},
   "source": [
    "### Function"
   ]
  },
  {
   "cell_type": "code",
   "execution_count": 16,
   "metadata": {
    "collapsed": true
   },
   "outputs": [],
   "source": [
    "def convert_SimplifiedEnvelopeInput(d): \n",
    "    \n",
    "    if d['FlagPerimeterInput']==2:\n",
    "        d['psiPerimeter']=1.8\n",
    "        d['psiPerimeterDoor']=1.8\n",
    "    \n",
    "    return {\n",
    "    'InsulationStructure'        : d['InsulationStructure'],\n",
    "    'UCeiling'                   : d['UCeiling'],\n",
    "    'UWall'                      : d['UWall'],\n",
    "    'UFloor'                     : d['UFloor'],\n",
    "    'UDoor'                      : d['UDoor'],\n",
    "    'UWindow'                    : d['UWindow'],\n",
    "    'etaWindowCooling'           : d['etaWindowCooling'],  \n",
    "    'etaWindowHeating'           : d['etaWindowHeating'],\n",
    "    'FlagfWinowInput'            : d['FlagfWinowInput'],\n",
    "    'fWindowCooling'             : d['fWindowCooling'],\n",
    "    'fWindowHeating'             : d['fWindowHeating'],\n",
    "    'FlagPerimeterInput'         : d['FlagPerimeterInput'],\n",
    "    'psiPerimeter'               : d['psiPerimeter'],\n",
    "    'psiPerimeterDoor'           : d['psiPerimeterDoor']\n",
    "    }"
   ]
  },
  {
   "cell_type": "markdown",
   "metadata": {},
   "source": [
    "### Example"
   ]
  },
  {
   "cell_type": "code",
   "execution_count": 17,
   "metadata": {},
   "outputs": [
    {
     "data": {
      "text/plain": [
       "{'FlagPerimeterInput': 2,\n",
       " 'FlagfWinowInput': 1,\n",
       " 'InsulationStructure': 1,\n",
       " 'UCeiling': 0.24,\n",
       " 'UDoor': 2.33,\n",
       " 'UFloor': 0.48,\n",
       " 'UWall': 0.53,\n",
       " 'UWindow': 3.49,\n",
       " 'etaWindowCooling': 0.51,\n",
       " 'etaWindowHeating': 0.51,\n",
       " 'fWindowCooling': 0.7,\n",
       " 'fWindowHeating': 0.6,\n",
       " 'psiPerimeter': 1.8,\n",
       " 'psiPerimeterDoor': 1.8}"
      ]
     },
     "execution_count": 17,
     "metadata": {},
     "output_type": "execute_result"
    }
   ],
   "source": [
    "convert_SimplifiedEnvelopeInput({\n",
    "    'InsulationStructure'        : 1,\n",
    "    'UCeiling'                   : 0.24,\n",
    "    'UWall'                      : 0.53,\n",
    "    'UFloor'                     : 0.48,\n",
    "    'UDoor'                      : 2.33,\n",
    "    'UWindow'                    : 3.49,\n",
    "    'etaWindowCooling'           : 0.51,  \n",
    "    'etaWindowHeating'           : 0.51,\n",
    "    'FlagfWinowInput'            : 1,\n",
    "    'fWindowCooling'             : 0.70,\n",
    "    'fWindowHeating'             : 0.60,\n",
    "    'FlagPerimeterInput'         : 2,\n",
    "    'psiPerimeter'               : 1.80,\n",
    "    'psiPerimeterDoor'           : 1.80\n",
    "})"
   ]
  },
  {
   "cell_type": "markdown",
   "metadata": {},
   "source": [
    "## 2-7. コンバート【全分類】"
   ]
  },
  {
   "cell_type": "code",
   "execution_count": 18,
   "metadata": {
    "collapsed": true
   },
   "outputs": [],
   "source": [
    "def Convert(d):\n",
    "    d_common = convert_common(d['Common'])\n",
    "    d_SimplifiedEnvelopeInput=convert_SimplifiedEnvelopeInput(d['SimplifiedEnvelopeInput'])\n",
    "\n",
    "    d_ceiling=convert_wall( {'structure':1,'name': 'Ceiling','type': 1,'Ua': d_SimplifiedEnvelopeInput['UCeiling']})\n",
    "    d_wall=convert_wall( {'structure':1,'name': 'Wall','type': 2,'Ua': d_SimplifiedEnvelopeInput['UWall']})\n",
    "    d_floor=convert_wall( {'structure':1,'name': 'Floor','type': 3,'Ua': d_SimplifiedEnvelopeInput['UFloor']})\n",
    "    d_window=convert_window({'name': 'Window','etac': d_SimplifiedEnvelopeInput['etaWindowCooling'],'etah': d_SimplifiedEnvelopeInput['etaWindowHeating'],'U': d_SimplifiedEnvelopeInput['UWindow']})\n",
    "    d_door=convert_window({'name': 'Door','etac':round(d_SimplifiedEnvelopeInput['UDoor']*0.034,3),'etah':round(d_SimplifiedEnvelopeInput['UDoor']*0.034,3),'U': d_SimplifiedEnvelopeInput['UDoor']})\n",
    "    d_sunshade=convert_sunshade({'name': 'Sunshade','fc': d_SimplifiedEnvelopeInput['fWindowCooling'],'fh': d_SimplifiedEnvelopeInput['fWindowHeating']})\n",
    "\n",
    "    #番号,外皮フラグ[-],日射フラグ[-],方位[-],非定常フラグ[-],壁体・開口部名称[-],部位面積[㎡],外部日除け名称[-]\n",
    "    #ElementNo,FlagPerimeter,FlagSolarRadiation,direction,FlagUnsteady,name,A,Sunshade\n",
    "    #標準住戸における部位の面積及び土間床等の外周部の長さ等（い）床断熱住戸の場合\n",
    "    if d_SimplifiedEnvelopeInput['InsulationStructure']==1:\n",
    "        StandardHouseElemntsFI = [ {'FlagPerimeter':1,'FlagSolarRadiation':1,'direction': 1,'FlagUnsteady':1,'name':'Ceiling', 'AorL':50.85,'Sunshade':None},\n",
    "                                   {'FlagPerimeter':1,'FlagSolarRadiation':1,'direction': 7,'FlagUnsteady':1,'name':'Wall',    'AorL':30.47,'Sunshade':None},\n",
    "                                   {'FlagPerimeter':1,'FlagSolarRadiation':1,'direction': 9,'FlagUnsteady':1,'name':'Wall',    'AorL':22.37,'Sunshade':None},\n",
    "                                   {'FlagPerimeter':1,'FlagSolarRadiation':1,'direction': 3,'FlagUnsteady':1,'name':'Wall',    'AorL':47.92,'Sunshade':None},\n",
    "                                   {'FlagPerimeter':1,'FlagSolarRadiation':1,'direction': 5,'FlagUnsteady':1,'name':'Wall',    'AorL':22.28,'Sunshade':None},\n",
    "                                   {'FlagPerimeter':1,'FlagSolarRadiation':1,'direction': 7,'FlagUnsteady':2,'name':'Door',    'AorL': 0.00,'Sunshade':None},\n",
    "                                   {'FlagPerimeter':1,'FlagSolarRadiation':1,'direction': 9,'FlagUnsteady':2,'name':'Door',    'AorL': 1.89,'Sunshade':None},\n",
    "                                   {'FlagPerimeter':1,'FlagSolarRadiation':1,'direction': 3,'FlagUnsteady':2,'name':'Door',    'AorL': 1.62,'Sunshade':None},\n",
    "                                   {'FlagPerimeter':1,'FlagSolarRadiation':1,'direction': 5,'FlagUnsteady':2,'name':'Door',    'AorL': 0.00,'Sunshade':None},\n",
    "                                   {'FlagPerimeter':1,'FlagSolarRadiation':1,'direction': 7,'FlagUnsteady':2,'name':'Window',  'AorL':22.69,'Sunshade':'Sunshade'},\n",
    "                                   {'FlagPerimeter':1,'FlagSolarRadiation':1,'direction': 9,'FlagUnsteady':2,'name':'Window',  'AorL': 2.38,'Sunshade':'Sunshade'},\n",
    "                                   {'FlagPerimeter':1,'FlagSolarRadiation':1,'direction': 3,'FlagUnsteady':2,'name':'Window',  'AorL': 3.63,'Sunshade':'Sunshade'},\n",
    "                                   {'FlagPerimeter':1,'FlagSolarRadiation':1,'direction': 5,'FlagUnsteady':2,'name':'Window',  'AorL': 4.37,'Sunshade':'Sunshade'},\n",
    "                                   {'FlagPerimeter':1,'FlagSolarRadiation':2,'direction':12,'FlagUnsteady':1,'name':'Floor',   'AorL':45.05,'Sunshade':None},\n",
    "                                   {'FlagPerimeter':1,'FlagSolarRadiation':1,'direction': 7,'FlagUnsteady':1,'name':'AbaseSW', 'AorL': 0.00,'Sunshade':None},\n",
    "                                   {'FlagPerimeter':1,'FlagSolarRadiation':1,'direction': 9,'FlagUnsteady':1,'name':'AbaseNW', 'AorL': 0.91,'Sunshade':None},\n",
    "                                   {'FlagPerimeter':1,'FlagSolarRadiation':1,'direction': 3,'FlagUnsteady':1,'name':'AbaseNE', 'AorL': 0.91,'Sunshade':None},\n",
    "                                   {'FlagPerimeter':1,'FlagSolarRadiation':1,'direction': 5,'FlagUnsteady':1,'name':'AbaseSE', 'AorL': 0.00,'Sunshade':None},\n",
    "                                   {'FlagPerimeter':1,'FlagSolarRadiation':2,'direction':12,'FlagUnsteady':1,'name':'AbaseIF', 'AorL': 1.82,'Sunshade':None},\n",
    "                                   {'FlagPerimeter':1,'FlagSolarRadiation':1,'direction': 7,'FlagUnsteady':1,'name':'AbasedSW','AorL': 0.00,'Sunshade':None},\n",
    "                                   {'FlagPerimeter':1,'FlagSolarRadiation':1,'direction': 9,'FlagUnsteady':1,'name':'AbasedNW','AorL': 0.33,'Sunshade':None},\n",
    "                                   {'FlagPerimeter':1,'FlagSolarRadiation':1,'direction': 3,'FlagUnsteady':1,'name':'AbasedNE','AorL': 0.25,'Sunshade':None},\n",
    "                                   {'FlagPerimeter':1,'FlagSolarRadiation':1,'direction': 5,'FlagUnsteady':1,'name':'AbasedSE','AorL': 0.00,'Sunshade':None},\n",
    "                                   {'FlagPerimeter':1,'FlagSolarRadiation':2,'direction':12,'FlagUnsteady':1,'name':'AbasedIF','AorL': 0.57,'Sunshade':None},\n",
    "                                   {'FlagPerimeter':1,'FlagSolarRadiation':1,'direction': 7,'FlagUnsteady':1,'name':'LprmSW',  'AorL': 0.00,'Sunshade':None},\n",
    "                                   {'FlagPerimeter':1,'FlagSolarRadiation':1,'direction': 9,'FlagUnsteady':1,'name':'LprmNW',  'AorL': 1.82,'Sunshade':None},\n",
    "                                   {'FlagPerimeter':1,'FlagSolarRadiation':1,'direction': 3,'FlagUnsteady':1,'name':'LprmNE',  'AorL': 1.82,'Sunshade':None},\n",
    "                                   {'FlagPerimeter':1,'FlagSolarRadiation':1,'direction': 5,'FlagUnsteady':1,'name':'LprmSE',  'AorL': 0.00,'Sunshade':None},\n",
    "                                   {'FlagPerimeter':1,'FlagSolarRadiation':2,'direction':12,'FlagUnsteady':1,'name':'LprmIF',  'AorL': 3.64,'Sunshade':None},\n",
    "                                   {'FlagPerimeter':1,'FlagSolarRadiation':1,'direction': 7,'FlagUnsteady':1,'name':'LprmdSW', 'AorL': 0.00,'Sunshade':None},\n",
    "                                   {'FlagPerimeter':1,'FlagSolarRadiation':1,'direction': 9,'FlagUnsteady':1,'name':'LprmdNW', 'AorL': 1.82,'Sunshade':None},\n",
    "                                   {'FlagPerimeter':1,'FlagSolarRadiation':1,'direction': 3,'FlagUnsteady':1,'name':'LprmdNE', 'AorL': 1.37,'Sunshade':None},\n",
    "                                   {'FlagPerimeter':1,'FlagSolarRadiation':1,'direction': 5,'FlagUnsteady':1,'name':'prmdSE',  'AorL': 0.00,'Sunshade':None},\n",
    "                                   {'FlagPerimeter':1,'FlagSolarRadiation':2,'direction':12,'FlagUnsteady':1,'name':'LprmdIF', 'AorL': 3.19,'Sunshade':None} ]\n",
    "    #標準住戸における部位の面積及び土間床等の外周部の長さ等（ろ）基礎断熱住戸の場合\n",
    "    elif d_SimplifiedEnvelopeInput['InsulationStructure']==2:\n",
    "        StandardHouseElemntsFI = [ {'FlagPerimeter':1,'FlagSolarRadiation':1,'direction': 1,'FlagUnsteady':1,'name':'Ceiling', 'AorL':50.85,'Sunshade':None},\n",
    "                                   {'FlagPerimeter':1,'FlagSolarRadiation':1,'direction': 7,'FlagUnsteady':1,'name':'Wall',    'AorL':30.47,'Sunshade':None},\n",
    "                                   {'FlagPerimeter':1,'FlagSolarRadiation':1,'direction': 9,'FlagUnsteady':1,'name':'Wall',    'AorL':22.37,'Sunshade':None},\n",
    "                                   {'FlagPerimeter':1,'FlagSolarRadiation':1,'direction': 3,'FlagUnsteady':1,'name':'Wall',    'AorL':47.92,'Sunshade':None},\n",
    "                                   {'FlagPerimeter':1,'FlagSolarRadiation':1,'direction': 5,'FlagUnsteady':1,'name':'Wall',    'AorL':22.28,'Sunshade':None},\n",
    "                                   {'FlagPerimeter':1,'FlagSolarRadiation':1,'direction': 7,'FlagUnsteady':2,'name':'Door',    'AorL': 0.00,'Sunshade':None},\n",
    "                                   {'FlagPerimeter':1,'FlagSolarRadiation':1,'direction': 9,'FlagUnsteady':2,'name':'Door',    'AorL': 1.89,'Sunshade':None},\n",
    "                                   {'FlagPerimeter':1,'FlagSolarRadiation':1,'direction': 3,'FlagUnsteady':2,'name':'Door',    'AorL': 1.62,'Sunshade':None},\n",
    "                                   {'FlagPerimeter':1,'FlagSolarRadiation':1,'direction': 5,'FlagUnsteady':2,'name':'Door',    'AorL': 0.00,'Sunshade':None},\n",
    "                                   {'FlagPerimeter':1,'FlagSolarRadiation':1,'direction': 7,'FlagUnsteady':2,'name':'Window',  'AorL':22.69,'Sunshade':'Sunshade'},\n",
    "                                   {'FlagPerimeter':1,'FlagSolarRadiation':1,'direction': 9,'FlagUnsteady':2,'name':'Window',  'AorL': 2.38,'Sunshade':'Sunshade'},\n",
    "                                   {'FlagPerimeter':1,'FlagSolarRadiation':1,'direction': 3,'FlagUnsteady':2,'name':'Window',  'AorL': 3.63,'Sunshade':'Sunshade'},\n",
    "                                   {'FlagPerimeter':1,'FlagSolarRadiation':1,'direction': 5,'FlagUnsteady':2,'name':'Window',  'AorL': 4.37,'Sunshade':'Sunshade'},\n",
    "                                   {'FlagPerimeter':1,'FlagSolarRadiation':2,'direction':12,'FlagUnsteady':1,'name':'Floor',   'AorL': 0.00,'Sunshade':None},\n",
    "                                   {'FlagPerimeter':1,'FlagSolarRadiation':1,'direction': 7,'FlagUnsteady':1,'name':'AbaseSW', 'AorL': 5.30,'Sunshade':None},\n",
    "                                   {'FlagPerimeter':1,'FlagSolarRadiation':1,'direction': 9,'FlagUnsteady':1,'name':'AbaseNW', 'AorL': 1.48,'Sunshade':None},\n",
    "                                   {'FlagPerimeter':1,'FlagSolarRadiation':1,'direction': 3,'FlagUnsteady':1,'name':'AbaseNE', 'AorL': 4.62,'Sunshade':None},\n",
    "                                   {'FlagPerimeter':1,'FlagSolarRadiation':1,'direction': 5,'FlagUnsteady':1,'name':'AbaseSE', 'AorL': 2.40,'Sunshade':None},\n",
    "                                   {'FlagPerimeter':1,'FlagSolarRadiation':2,'direction':12,'FlagUnsteady':1,'name':'AbaseIF', 'AorL': 0.00,'Sunshade':None},\n",
    "                                   {'FlagPerimeter':1,'FlagSolarRadiation':1,'direction': 7,'FlagUnsteady':1,'name':'AbasedSW','AorL': 0.00,'Sunshade':None},\n",
    "                                   {'FlagPerimeter':1,'FlagSolarRadiation':1,'direction': 9,'FlagUnsteady':1,'name':'AbasedNW','AorL': 0.33,'Sunshade':None},\n",
    "                                   {'FlagPerimeter':1,'FlagSolarRadiation':1,'direction': 3,'FlagUnsteady':1,'name':'AbasedNE','AorL': 0.25,'Sunshade':None},\n",
    "                                   {'FlagPerimeter':1,'FlagSolarRadiation':1,'direction': 5,'FlagUnsteady':1,'name':'AbasedSE','AorL': 0.00,'Sunshade':None},\n",
    "                                   {'FlagPerimeter':1,'FlagSolarRadiation':2,'direction':12,'FlagUnsteady':1,'name':'AbasedIF','AorL': 0.00,'Sunshade':None},\n",
    "                                   {'FlagPerimeter':1,'FlagSolarRadiation':1,'direction': 7,'FlagUnsteady':1,'name':'LprmSW',  'AorL':10.61,'Sunshade':None},\n",
    "                                   {'FlagPerimeter':1,'FlagSolarRadiation':1,'direction': 9,'FlagUnsteady':1,'name':'LprmNW',  'AorL': 2.97,'Sunshade':None},\n",
    "                                   {'FlagPerimeter':1,'FlagSolarRadiation':1,'direction': 3,'FlagUnsteady':1,'name':'LprmNE',  'AorL': 9.24,'Sunshade':None},\n",
    "                                   {'FlagPerimeter':1,'FlagSolarRadiation':1,'direction': 5,'FlagUnsteady':1,'name':'LprmSE',  'AorL': 4.79,'Sunshade':None},\n",
    "                                   {'FlagPerimeter':1,'FlagSolarRadiation':2,'direction':12,'FlagUnsteady':1,'name':'LprmIF',  'AorL': 0.00,'Sunshade':None},\n",
    "                                   {'FlagPerimeter':1,'FlagSolarRadiation':1,'direction': 7,'FlagUnsteady':1,'name':'LprmdSW', 'AorL': 0.00,'Sunshade':None},\n",
    "                                   {'FlagPerimeter':1,'FlagSolarRadiation':1,'direction': 9,'FlagUnsteady':1,'name':'LprmdNW', 'AorL': 1.82,'Sunshade':None},\n",
    "                                   {'FlagPerimeter':1,'FlagSolarRadiation':1,'direction': 3,'FlagUnsteady':1,'name':'LprmdNE', 'AorL': 1.37,'Sunshade':None},\n",
    "                                   {'FlagPerimeter':1,'FlagSolarRadiation':1,'direction': 5,'FlagUnsteady':1,'name':'prmdSE',  'AorL': 0.00,'Sunshade':None},\n",
    "                                   {'FlagPerimeter':1,'FlagSolarRadiation':2,'direction':12,'FlagUnsteady':1,'name':'LprmdIF', 'AorL': 0.00,'Sunshade':None} ]\n",
    "\n",
    "    dictionary_element=[]\n",
    "    for e in StandardHouseElemntsFI:\n",
    "        temporary=convert_element(e, d)\n",
    "        if e['name']=='Ceiling':\n",
    "            temporary['Wall']=d_ceiling\n",
    "        elif e['name']=='Wall':\n",
    "            temporary['Wall']=d_wall\n",
    "        elif e['name']=='Floor':\n",
    "            temporary['Wall']=d_floor\n",
    "        elif e['name']=='Window':\n",
    "            temporary['Window']=d_window\n",
    "            temporary['Sunshade']=d_sunshade\n",
    "        elif e['name']=='Door':\n",
    "            temporary['Door']=d_door\n",
    "        dictionary_element.append(temporary)\n",
    "\n",
    "    return {'common':d_common,'element':dictionary_element}"
   ]
  },
  {
   "cell_type": "code",
   "execution_count": 19,
   "metadata": {},
   "outputs": [
    {
     "ename": "KeyError",
     "evalue": "'U_roof'",
     "output_type": "error",
     "traceback": [
      "\u001b[0;31m---------------------------------------------------------------------------\u001b[0m",
      "\u001b[0;31mKeyError\u001b[0m                                  Traceback (most recent call last)",
      "\u001b[0;32m<ipython-input-19-a01b7d297145>\u001b[0m in \u001b[0;36m<module>\u001b[0;34m()\u001b[0m\n\u001b[1;32m     24\u001b[0m }\n\u001b[1;32m     25\u001b[0m \u001b[1;33m\u001b[0m\u001b[0m\n\u001b[0;32m---> 26\u001b[0;31m \u001b[0mConvert\u001b[0m\u001b[1;33m(\u001b[0m\u001b[0md\u001b[0m\u001b[1;33m)\u001b[0m\u001b[1;33m\u001b[0m\u001b[0m\n\u001b[0m",
      "\u001b[0;32m<ipython-input-18-1188accc9c7c>\u001b[0m in \u001b[0;36mConvert\u001b[0;34m(d)\u001b[0m\n\u001b[1;32m      3\u001b[0m     \u001b[0md_SimplifiedEnvelopeInput\u001b[0m\u001b[1;33m=\u001b[0m\u001b[0mconvert_SimplifiedEnvelopeInput\u001b[0m\u001b[1;33m(\u001b[0m\u001b[0md\u001b[0m\u001b[1;33m[\u001b[0m\u001b[1;34m'SimplifiedEnvelopeInput'\u001b[0m\u001b[1;33m]\u001b[0m\u001b[1;33m)\u001b[0m\u001b[1;33m\u001b[0m\u001b[0m\n\u001b[1;32m      4\u001b[0m \u001b[1;33m\u001b[0m\u001b[0m\n\u001b[0;32m----> 5\u001b[0;31m     \u001b[0md_ceiling\u001b[0m\u001b[1;33m=\u001b[0m\u001b[0mconvert_wall\u001b[0m\u001b[1;33m(\u001b[0m \u001b[1;33m{\u001b[0m\u001b[1;34m'structure'\u001b[0m\u001b[1;33m:\u001b[0m\u001b[1;36m1\u001b[0m\u001b[1;33m,\u001b[0m\u001b[1;34m'name'\u001b[0m\u001b[1;33m:\u001b[0m \u001b[1;34m'Ceiling'\u001b[0m\u001b[1;33m,\u001b[0m\u001b[1;34m'type'\u001b[0m\u001b[1;33m:\u001b[0m \u001b[1;36m1\u001b[0m\u001b[1;33m,\u001b[0m\u001b[1;34m'Ua'\u001b[0m\u001b[1;33m:\u001b[0m \u001b[0md_SimplifiedEnvelopeInput\u001b[0m\u001b[1;33m[\u001b[0m\u001b[1;34m'UCeiling'\u001b[0m\u001b[1;33m]\u001b[0m\u001b[1;33m}\u001b[0m\u001b[1;33m)\u001b[0m\u001b[1;33m\u001b[0m\u001b[0m\n\u001b[0m\u001b[1;32m      6\u001b[0m     \u001b[0md_wall\u001b[0m\u001b[1;33m=\u001b[0m\u001b[0mconvert_wall\u001b[0m\u001b[1;33m(\u001b[0m \u001b[1;33m{\u001b[0m\u001b[1;34m'structure'\u001b[0m\u001b[1;33m:\u001b[0m\u001b[1;36m1\u001b[0m\u001b[1;33m,\u001b[0m\u001b[1;34m'name'\u001b[0m\u001b[1;33m:\u001b[0m \u001b[1;34m'Wall'\u001b[0m\u001b[1;33m,\u001b[0m\u001b[1;34m'type'\u001b[0m\u001b[1;33m:\u001b[0m \u001b[1;36m2\u001b[0m\u001b[1;33m,\u001b[0m\u001b[1;34m'Ua'\u001b[0m\u001b[1;33m:\u001b[0m \u001b[0md_SimplifiedEnvelopeInput\u001b[0m\u001b[1;33m[\u001b[0m\u001b[1;34m'UWall'\u001b[0m\u001b[1;33m]\u001b[0m\u001b[1;33m}\u001b[0m\u001b[1;33m)\u001b[0m\u001b[1;33m\u001b[0m\u001b[0m\n\u001b[1;32m      7\u001b[0m     \u001b[0md_floor\u001b[0m\u001b[1;33m=\u001b[0m\u001b[0mconvert_wall\u001b[0m\u001b[1;33m(\u001b[0m \u001b[1;33m{\u001b[0m\u001b[1;34m'structure'\u001b[0m\u001b[1;33m:\u001b[0m\u001b[1;36m1\u001b[0m\u001b[1;33m,\u001b[0m\u001b[1;34m'name'\u001b[0m\u001b[1;33m:\u001b[0m \u001b[1;34m'Floor'\u001b[0m\u001b[1;33m,\u001b[0m\u001b[1;34m'type'\u001b[0m\u001b[1;33m:\u001b[0m \u001b[1;36m3\u001b[0m\u001b[1;33m,\u001b[0m\u001b[1;34m'Ua'\u001b[0m\u001b[1;33m:\u001b[0m \u001b[0md_SimplifiedEnvelopeInput\u001b[0m\u001b[1;33m[\u001b[0m\u001b[1;34m'UFloor'\u001b[0m\u001b[1;33m]\u001b[0m\u001b[1;33m}\u001b[0m\u001b[1;33m)\u001b[0m\u001b[1;33m\u001b[0m\u001b[0m\n",
      "\u001b[0;32m<ipython-input-8-26ac61470aba>\u001b[0m in \u001b[0;36mconvert_wall\u001b[0;34m(d)\u001b[0m\n\u001b[1;32m      3\u001b[0m     \u001b[1;31m#簡易外皮入力モデルにおける開口部以外の不透明部位のリストを作成\u001b[0m\u001b[1;33m\u001b[0m\u001b[1;33m\u001b[0m\u001b[0m\n\u001b[1;32m      4\u001b[0m     standard_parts = [\n\u001b[0;32m----> 5\u001b[0;31m         \u001b[1;33m{\u001b[0m \u001b[1;34m'name'\u001b[0m\u001b[1;33m:\u001b[0m \u001b[1;34m'Ceiling'\u001b[0m\u001b[1;33m,\u001b[0m \u001b[1;34m'type'\u001b[0m\u001b[1;33m:\u001b[0m \u001b[1;34m'ceiling'\u001b[0m\u001b[1;33m,\u001b[0m \u001b[1;34m'structure'\u001b[0m\u001b[1;33m:\u001b[0m \u001b[1;34m'wood'\u001b[0m\u001b[1;33m,\u001b[0m \u001b[1;34m'direction'\u001b[0m\u001b[1;33m:\u001b[0m \u001b[1;34m'top'\u001b[0m\u001b[1;33m,\u001b[0m    \u001b[1;34m'Ua'\u001b[0m\u001b[1;33m:\u001b[0m \u001b[0md\u001b[0m\u001b[1;33m[\u001b[0m\u001b[1;34m'U_roof'\u001b[0m\u001b[1;33m]\u001b[0m  \u001b[1;33m}\u001b[0m\u001b[1;33m,\u001b[0m\u001b[1;33m\u001b[0m\u001b[0m\n\u001b[0m\u001b[1;32m      6\u001b[0m         \u001b[1;33m{\u001b[0m \u001b[1;34m'name'\u001b[0m\u001b[1;33m:\u001b[0m \u001b[1;34m'Wall_SW'\u001b[0m\u001b[1;33m,\u001b[0m \u001b[1;34m'type'\u001b[0m\u001b[1;33m:\u001b[0m \u001b[1;34m'wall'\u001b[0m\u001b[1;33m,\u001b[0m    \u001b[1;34m'structure'\u001b[0m\u001b[1;33m:\u001b[0m \u001b[1;34m'wood'\u001b[0m\u001b[1;33m,\u001b[0m \u001b[1;34m'direction'\u001b[0m\u001b[1;33m:\u001b[0m \u001b[1;34m'SW'\u001b[0m\u001b[1;33m,\u001b[0m     \u001b[1;34m'Ua'\u001b[0m\u001b[1;33m:\u001b[0m \u001b[0md\u001b[0m\u001b[1;33m[\u001b[0m\u001b[1;34m'U_wall'\u001b[0m\u001b[1;33m]\u001b[0m  \u001b[1;33m}\u001b[0m\u001b[1;33m,\u001b[0m\u001b[1;33m\u001b[0m\u001b[0m\n\u001b[1;32m      7\u001b[0m         \u001b[1;33m{\u001b[0m \u001b[1;34m'name'\u001b[0m\u001b[1;33m:\u001b[0m \u001b[1;34m'Wall_NW'\u001b[0m\u001b[1;33m,\u001b[0m \u001b[1;34m'type'\u001b[0m\u001b[1;33m:\u001b[0m \u001b[1;34m'wall'\u001b[0m\u001b[1;33m,\u001b[0m    \u001b[1;34m'structure'\u001b[0m\u001b[1;33m:\u001b[0m \u001b[1;34m'wood'\u001b[0m\u001b[1;33m,\u001b[0m \u001b[1;34m'direction'\u001b[0m\u001b[1;33m:\u001b[0m \u001b[1;34m'NW'\u001b[0m\u001b[1;33m,\u001b[0m     \u001b[1;34m'Ua'\u001b[0m\u001b[1;33m:\u001b[0m \u001b[0md\u001b[0m\u001b[1;33m[\u001b[0m\u001b[1;34m'U_wall'\u001b[0m\u001b[1;33m]\u001b[0m  \u001b[1;33m}\u001b[0m\u001b[1;33m,\u001b[0m\u001b[1;33m\u001b[0m\u001b[0m\n",
      "\u001b[0;31mKeyError\u001b[0m: 'U_roof'"
     ]
    }
   ],
   "source": [
    "d = {\n",
    "    'Common' : {\n",
    "        'Region'                     : 6,\n",
    "        'MainOccupantRoomFloorArea'  : 30.0,\n",
    "        'OtherOccupantRoomFloorArea' : 60.0,\n",
    "        'TotalFloorArea'             : 120.0\n",
    "    },\n",
    "    'SimplifiedEnvelopeInput' : {\n",
    "        'InsulationStructure'        : 1,\n",
    "        'UCeiling'                   : 0.24,\n",
    "        'UWall'                      : 0.53,\n",
    "        'UFloor'                     : 0.48,\n",
    "        'UDoor'                      : 2.33,\n",
    "        'UWindow'                    : 3.49,\n",
    "        'etaWindowCooling'           : 0.51,  \n",
    "        'etaWindowHeating'           : 0.51,\n",
    "        'FlagfWinowInput'            : 1,\n",
    "        'fWindowCooling'             : 0.70,\n",
    "        'fWindowHeating'             : 0.60,\n",
    "        'FlagPerimeterInput'         : 1,\n",
    "        'psiPerimeter'               : 1.80,\n",
    "        'psiPerimeterDoor'           : 1.80\n",
    "    }\n",
    "}\n",
    "\n",
    "Convert(d)"
   ]
  },
  {
   "cell_type": "code",
   "execution_count": null,
   "metadata": {
    "collapsed": true
   },
   "outputs": [],
   "source": []
  }
 ],
 "metadata": {
  "kernelspec": {
   "display_name": "Python 3",
   "language": "python",
   "name": "python3"
  },
  "language_info": {
   "codemirror_mode": {
    "name": "ipython",
    "version": 3
   },
   "file_extension": ".py",
   "mimetype": "text/x-python",
   "name": "python",
   "nbconvert_exporter": "python",
   "pygments_lexer": "ipython3",
   "version": "3.6.3"
  }
 },
 "nbformat": 4,
 "nbformat_minor": 2
}
