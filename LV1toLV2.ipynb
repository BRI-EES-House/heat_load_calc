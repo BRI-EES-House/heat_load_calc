{
 "cells": [
  {
   "cell_type": "markdown",
   "metadata": {},
   "source": [
    "# 外皮情報LV1からLV2へのコンバート"
   ]
  },
  {
   "cell_type": "markdown",
   "metadata": {},
   "source": [
    "## 1. 外皮簡易法＋用途別床面積\n",
    "- 当該住戸の外皮の部位の面積等を用いずに簡易熱負荷計算を実施する場合には、部位の面積および長さを、「平成28年省エネルギー基準に準拠したエネルギー消費性能の評価に関する技術情報（住宅）」２．エネルギー消費性能の算定方法　2.2　算定方法　第三章　 暖冷房負荷と外皮性能　\t第二節　外皮性能　9.当該住戸の外皮の部位の面積等を用いずに外皮性能を評価する方法　に示された標準住戸における部位の面積および長さ等より推定する。\n",
    "- 屋根・天井、外壁、床の構成は、天井入力値である部位種別の熱貫流率と一致するよう、木造の標準的な構成における断熱材の厚さを0mm以上の範囲で調整する。木造の標準的な構成は、SimHeatでの熱負荷計算用の層構成決定に用いたQ値計算における、旧Ⅳ地域の平成11年基準の層構成とする。\n",
    "- 土間床等の外周部の線熱貫流率については、簡易熱負荷計算での扱いに従う\n",
    "- 開口部の日射熱取得率および外部日除けの取得日射熱補正係数は、それぞれ、季節別に、垂直面日射熱取得率および取得日射熱補正係数の入力値もしくは規定値を使用する。この場合、簡易熱負荷計算においては、開口部の入射角特性および外部日除けは考慮しない。\n",
    "- その他は2.と同様に求める。"
   ]
  },
  {
   "cell_type": "markdown",
   "metadata": {},
   "source": [
    "#### 《設計住戸の各部位の長さおよび面積の推定》\n",
    "$$ \\qquad\n",
    "A_{i,d}= A_{i,s}・\\frac{A_{floor,d}}{A_{floor,s}}\n",
    "\\qquad (1)\n",
    "\\\\\n",
    "$$\n",
    "$$ \\qquad\n",
    "L_{i,d}= L_{i,s}・\\frac{A_{floor,d}}{A_{floor,s}}\n",
    "\\qquad (2)\n",
    "\\\\\n",
    "$$\n",
    "\n",
    "- 入力値：\n",
    "\n",
    "  - 標準住戸の延床面積$[m ^ 2]$：$A_{floor,s}$\n",
    "  - 設計住戸の延床面積$[m ^ 2]$：$A_{floor,d}$\n",
    "  - 標準住戸の部位（一般部位又は開口部）𝑖の面積$[m ^ 2]$：$A_{i,s}$\n",
    "  - 標準住戸の部位（土間床等の外周部）𝑖の長さ$[m]$：$L_{i,s}$\n",
    "\n",
    "- 出力値：\n",
    "\n",
    "  - 設計住戸の部位（一般部位又は開口部）𝑖の面積の推定値$[m ^ 2]$：$A_{i,d}$\n",
    "  - 設計住戸の部位（土間床等の外周部）𝑖の長さの推定値$[m]$：$L_{i,d}$"
   ]
  },
  {
   "cell_type": "markdown",
   "metadata": {},
   "source": [
    "- 屋根・天井壁体構成\n",
    "\n",
    "| 材料 | 厚さ[m] | 熱伝導率[W/(m・K)] | 熱抵抗[（㎡K・W）] | 容積比熱[J/（L・K）] |\n",
    "|-------------|-------------|-------------|-------------|\n",
    "| Ro | - | - | 0.090 | 0 |\n",
    "| 住宅用グラスウール断熱材10K相当 | <font color=\"red\">0.2</font> | 0.05 | <font color=\"red\">4.000</font> | 8 |\n",
    "| せっこうボード | 0.0095 | 0.22 | 0.043 | 830 |\n",
    "| Ri | - | - | 0.090 | 0 |\n",
    "\n",
    "- 外壁体構成\n",
    "\n",
    "| 材料 | 厚さ[m] | 熱伝導率[W/(m・K)] | 熱抵抗[（㎡K・W）] | 容積比熱[J/（L・K）] |\n",
    "|-------------|-------------|-------------|-------------|\n",
    "| Ro | - | - | 0.110 | 0 |\n",
    "| 合板 | 0.012 | 0.16 | 0.075 | 720 |\n",
    "| 住宅用グラスウール断熱材16K相当 | <font color=\"red\">0.099</font> | 0.045 | <font color=\"red\">2.200</font> | 13 |\n",
    "| 密閉空気層 | - | - | 0.090 | 0 |\n",
    "| せっこうボード | 0.0095 | 0.22 | 0.043 | 830 |\n",
    "| Ri | - | - | 0.110 | 0 |\n",
    "\n",
    "- 床壁体構成\n",
    "\n",
    "| 材料 | 厚さ[m] | 熱伝導率[W/(m・K)] | 熱抵抗[（㎡K・W）] | 容積比熱[J/（L・K）] |\n",
    "|-------------|-------------|-------------|-------------|\n",
    "| Ro | - | - | 0.15 | - | - |\n",
    "| 住宅用グラスウール断熱材16K相当 | <font color=\"red\">0.099</font> | 0.045 | <font color=\"red\">2.200</font> | 13 |\n",
    "| 合板 | 0.012 | 0.16 | 0.075 | 720 |\n",
    "| Ri | - | - | 0.15 | - | - |"
   ]
  },
  {
   "cell_type": "markdown",
   "metadata": {},
   "source": [
    "#### コンバート【分類：共通】\n",
    "\n",
    "- レベル1：\n",
    "  - 地域区分$[-]$：Region\n",
    "  - 主たる居室の床面積$[m^2]$：MainOccupantRoomFloorArea\n",
    "  - その他の居室の床面積$[m^2]$：OtherOccupantRoomFloowArea\n",
    "  - 非居室の床面積$[m^2]$：NonOccupantRoomFloorArea\n",
    "   \n",
    "- レベル2：\n",
    "  - 地域区分$[-]$：Region\n",
    "  - 標準住戸フラグ$[-]$：FlagStandardHouse\n",
    "  - 主たる居室の床面積$[m^2]$：MainOccupantRoomFloorArea\n",
    "  - その他の居室の床面積$[m^2]$：OtherOccupantRoomFloowArea\n",
    "  - 非居室の床面積$[m^2]$：NonOccupantRoomFloorArea"
   ]
  },
  {
   "cell_type": "code",
   "execution_count": 1,
   "metadata": {
    "collapsed": false
   },
   "outputs": [
    {
     "data": {
      "text/plain": [
       "{'MainOccupantRoomFloorArea': 30.0,\n",
       " 'NonOccupantRoomFloorArea': 30.0,\n",
       " 'OtherOccupantRoomFloowArea': 60.0,\n",
       " 'Region': 6}"
      ]
     },
     "execution_count": 1,
     "metadata": {},
     "output_type": "execute_result"
    }
   ],
   "source": [
    "data1_common = {\n",
    "    'Region' : 6,\n",
    "    'MainOccupantRoomFloorArea': 30.0,\n",
    "    'OtherOccupantRoomFloowArea': 60.0,\n",
    "    'NonOccupantRoomFloorArea': 30.0,\n",
    "}\n",
    "\n",
    "data1_common"
   ]
  },
  {
   "cell_type": "code",
   "execution_count": 2,
   "metadata": {
    "collapsed": true
   },
   "outputs": [],
   "source": [
    "def convert_1to2_common(d1):\n",
    "    return {\n",
    "        'Region'                     : d1['Region'],\n",
    "        'FlagStandardHouse'          : True,\n",
    "        'MainOccupantRoomFloorArea'  : d1['MainOccupantRoomFloorArea'],\n",
    "        'OtherOccupantRoomFloowArea' : d1['OtherOccupantRoomFloowArea'],\n",
    "        'NonOccupantRoomFloorArea'   : d1['NonOccupantRoomFloorArea']\n",
    "           }"
   ]
  },
  {
   "cell_type": "code",
   "execution_count": 3,
   "metadata": {
    "collapsed": false
   },
   "outputs": [
    {
     "data": {
      "text/plain": [
       "{'FlagStandardHouse': True,\n",
       " 'MainOccupantRoomFloorArea': 30.0,\n",
       " 'NonOccupantRoomFloorArea': 30.0,\n",
       " 'OtherOccupantRoomFloowArea': 60.0,\n",
       " 'Region': 6}"
      ]
     },
     "execution_count": 3,
     "metadata": {},
     "output_type": "execute_result"
    }
   ],
   "source": [
    "data2_common = convert_1to2_common(data1_common)\n",
    "data2_common"
   ]
  },
  {
   "cell_type": "markdown",
   "metadata": {},
   "source": [
    "#### コンバート【分類：壁体構成】\n",
    "\n",
    "- レベル1：\n",
    "  - 壁体名称$[-]$：$name$\n",
    "  - 部位種別$[-]$：$type$\n",
    "  - 平均熱貫流率$[W/(m^2・K)]$：$U_a$\n",
    "- レベル2：\n",
    "  - 壁体名称$[-]$：$name$\n",
    "  - 部位種別$[-]$：$type$\n",
    "  - 部材名称$[-]$：$matrial$\n",
    "  - 厚さ$[m]$：$d$\n",
    "  - 熱伝達率$[W/(m・K)]$：$λ$\n",
    "  - 容積比熱$[J/(m^3・K)]$：$Cρ$\n",
    "  - 平均熱貫流率$[W/(m^2・K)]$：$U_a$\n",
    "  - 一般部熱貫流率$[W/(m^2・K)]$：$U_g$\n",
    "  - 一般部構造種別$[-]$：$Structure$\n",
    "  - 木造熱橋部計算方法$[-]$：$HeatBridge$\n",
    "  - 熱橋部熱面積比率$[-]$：$a_{hb}$\n",
    "  - 熱橋部熱貫流率$[W/(m^2・K)]$：$U_{hb}$\n",
    "  - 熱橋長さ$[m]$：$L_i$\n",
    "  - 線熱貫流率$[W/(m・K)]$：$Ψ_i$\n",
    "  - 補正熱貫流率$[W/(m^2・K)]$：$U_r$"
   ]
  },
  {
   "cell_type": "code",
   "execution_count": 4,
   "metadata": {
    "collapsed": false
   },
   "outputs": [
    {
     "data": {
      "text/plain": [
       "{'Ua': 0.538, 'name': 'Sample Wall', 'type': 2}"
      ]
     },
     "execution_count": 4,
     "metadata": {},
     "output_type": "execute_result"
    }
   ],
   "source": [
    "data1_wall = {\n",
    "    'name': 'Sample Wall',\n",
    "    'type': 2,\n",
    "    'Ua': 0.538\n",
    "}\n",
    "\n",
    "data1_wall"
   ]
  },
  {
   "cell_type": "code",
   "execution_count": 5,
   "metadata": {
    "collapsed": true
   },
   "outputs": [],
   "source": [
    "import copy\n",
    "\n",
    "def convert_1to2_wall(_data1_wall):\n",
    "    data_wall = copy.deepcopy(_data1_wall)\n",
    "    \n",
    "    for key in data_wall.keys():\n",
    "        data_wall[key] = data_wall[key]\n",
    " \n",
    "    for i in ['Ug','Structure','HeatBridge','ahb','Uhb','Ur']:\n",
    "        data_wall[i] = None\n",
    "        \n",
    "    data_wall['HeatBridges']= {'HeatBridge1':{'L':None,'Ψ':None}, \n",
    "                               'HeatBridge2':{'L':None,'Ψ':None},\n",
    "                               'HeatBridge3':{'L':None,'Ψ':None}}\n",
    "    if data_wall['type']==1:\n",
    "        d_insulation=round((1/data_wall['Ua']-(0.090+0.0095/0.22+0.090))*0.05,3)\n",
    "        data_wall['Layers']= {'Layer1':{'material':'GW10K','d':d_insulation,'λ':0.05,'Cρ':8}, \n",
    "                          'Layer2':{'material':'GPB','d':0.0095,'λ':0.22,'Cρ':830}}    \n",
    "    elif data_wall['type']==2:\n",
    "        d_insulation=round((1/data_wall['Ua']-(0.11+0.012/0.16+0.09+0.0095/0.22+0.11))*0.045,3)\n",
    "        data_wall['Layers']= {'Layer1':{'material':'PED','d':0.012,'λ':0.16,'Cρ':720}, \n",
    "                          'Layer2':{'material':'GW16K','d':d_insulation,'λ':0.045,'Cρ':13},\n",
    "                          'Layer3':{'material':'Air','d':1,'λ':round(1/0.090,2),'Cρ':0},\n",
    "                          'Layer4':{'material':'GPB','d':0.0095,'λ':0.22,'Cρ':830}}\n",
    "    elif data_wall['type']==3:\n",
    "        d_insulation=round((1/data_wall['Ua']-(0.15+0.012/0.16+0.15))*0.045,3)\n",
    "        data_wall['Layers']= {'Layer1':{'material':'PED','d':0.012,'λ':0.16,'Cρ':720}, \n",
    "                          'Layer2':{'material':'GW16K','d':d_insulation,'λ':0.045,'Cρ':13}}\n",
    "    return data_wall"
   ]
  },
  {
   "cell_type": "code",
   "execution_count": 6,
   "metadata": {
    "collapsed": false
   },
   "outputs": [
    {
     "data": {
      "text/plain": [
       "{'HeatBridge': None,\n",
       " 'HeatBridges': {'HeatBridge1': {'L': None, 'Ψ': None},\n",
       "  'HeatBridge2': {'L': None, 'Ψ': None},\n",
       "  'HeatBridge3': {'L': None, 'Ψ': None}},\n",
       " 'Layers': {'Layer1': {'Cρ': 720, 'd': 0.012, 'material': 'PED', 'λ': 0.16},\n",
       "  'Layer2': {'Cρ': 13, 'd': 0.064, 'material': 'GW16K', 'λ': 0.045},\n",
       "  'Layer3': {'Cρ': 0, 'd': 1, 'material': 'Air', 'λ': 11.11},\n",
       "  'Layer4': {'Cρ': 830, 'd': 0.0095, 'material': 'GPB', 'λ': 0.22}},\n",
       " 'Structure': None,\n",
       " 'Ua': 0.538,\n",
       " 'Ug': None,\n",
       " 'Uhb': None,\n",
       " 'Ur': None,\n",
       " 'ahb': None,\n",
       " 'name': 'Sample Wall',\n",
       " 'type': 2}"
      ]
     },
     "execution_count": 6,
     "metadata": {},
     "output_type": "execute_result"
    }
   ],
   "source": [
    "data2_wall=convert_1to2_wall(data1_wall)\n",
    "data2_wall"
   ]
  },
  {
   "cell_type": "markdown",
   "metadata": {},
   "source": [
    "#### コンバート【分類：開口部】\n",
    "\n",
    "- レベル1：\n",
    "  - 開口部名称$[-]$：$name$\n",
    "  - 日射熱取得率（夏期）$[-]$：$η_c$\n",
    "  - 日射熱取得率（冬期）$[-]$：$η_h$\n",
    "  - 熱貫流率$[W/(m^2・K)]$：$U$ \n",
    "- レベル2：\n",
    "  - 開口部名称$[-]$：$name$\n",
    "  - 日射熱取得率$[-]$：$η$\n",
    "  - 日射熱取得率（夏期）$[-]$：$η_c$\n",
    "  - 日射熱取得率（冬期）$[-]$：$η_h$\n",
    "  - 熱貫流率$[W/(m^2・K)]$：$U$ "
   ]
  },
  {
   "cell_type": "code",
   "execution_count": 7,
   "metadata": {
    "collapsed": false
   },
   "outputs": [
    {
     "data": {
      "text/plain": [
       "{'U': 4.65, 'name': 'Sample Window', 'ηc': 0.738, 'ηh': 0.738}"
      ]
     },
     "execution_count": 7,
     "metadata": {},
     "output_type": "execute_result"
    }
   ],
   "source": [
    "data1_window = {\n",
    "    'name': 'Sample Window',\n",
    "    'ηc': 0.738,\n",
    "    'ηh': 0.738,\n",
    "    'U': 4.65\n",
    "}\n",
    "\n",
    "data1_window"
   ]
  },
  {
   "cell_type": "code",
   "execution_count": 8,
   "metadata": {
    "collapsed": true
   },
   "outputs": [],
   "source": [
    "import copy\n",
    "\n",
    "def convert_1to2_window(_data1_window):\n",
    "    data_window = copy.deepcopy(_data1_window)\n",
    "    \n",
    "    for key in data_window.keys():\n",
    "        data_window[key] = data_window[key]\n",
    "    \n",
    "    data_window['η'] = None\n",
    "    \n",
    "    return data_window"
   ]
  },
  {
   "cell_type": "code",
   "execution_count": 9,
   "metadata": {
    "collapsed": false
   },
   "outputs": [
    {
     "data": {
      "text/plain": [
       "{'U': 4.65, 'name': 'Sample Window', 'η': None, 'ηc': 0.738, 'ηh': 0.738}"
      ]
     },
     "execution_count": 9,
     "metadata": {},
     "output_type": "execute_result"
    }
   ],
   "source": [
    "data2_window=convert_1to2_window(data1_window)\n",
    "data2_window"
   ]
  },
  {
   "cell_type": "markdown",
   "metadata": {},
   "source": [
    "#### コンバート【分類：外部日除け】\n",
    "\n",
    "- レベル1：\n",
    "  - 外部日除け名称$[-]$：$name$\n",
    "  - 取得日射熱補正係数（夏期）$[-]$：$f_c$\n",
    "  - 取得日射熱補正係数（冬期）$[-]$：$f_h$\n",
    "- レベル2：\n",
    "  - 外部日除け名称$[-]$：$name$\n",
    "  - 開口部高さ$[m]$：$y_2$\n",
    "  - 出巾$[m]$：$z$\n",
    "  - 窓上端と外部日除けの距離$[m]$：$y_1$\n",
    "  - 取得日射熱補正係数（夏期）$[-]$：$f_c$\n",
    "  - 取得日射熱補正係数（冬期）$[-]$：$f_h$"
   ]
  },
  {
   "cell_type": "code",
   "execution_count": 10,
   "metadata": {
    "collapsed": false
   },
   "outputs": [
    {
     "data": {
      "text/plain": [
       "{'fc': 0.7, 'fh': 0.6, 'name': 'Sample Sunshade'}"
      ]
     },
     "execution_count": 10,
     "metadata": {},
     "output_type": "execute_result"
    }
   ],
   "source": [
    "data1_sunshade = {\n",
    "    'name': 'Sample Sunshade',\n",
    "    'fc': 0.700,\n",
    "    'fh': 0.600,\n",
    "}\n",
    "\n",
    "data1_sunshade"
   ]
  },
  {
   "cell_type": "code",
   "execution_count": 11,
   "metadata": {
    "collapsed": true
   },
   "outputs": [],
   "source": [
    "import copy\n",
    "\n",
    "def convert_1to2_sunshade(_data1_sunshade):\n",
    "    data_sunshade = copy.deepcopy(_data1_sunshade)\n",
    "    \n",
    "    for key in data_sunshade.keys():\n",
    "        data_sunshade[key] = data_sunshade[key]\n",
    "\n",
    "    for i in ['y1','y2','z']:\n",
    "        data_sunshade[i] = None\n",
    "        \n",
    "    return data_sunshade"
   ]
  },
  {
   "cell_type": "code",
   "execution_count": 12,
   "metadata": {
    "collapsed": false
   },
   "outputs": [
    {
     "data": {
      "text/plain": [
       "{'fc': 0.7,\n",
       " 'fh': 0.6,\n",
       " 'name': 'Sample Sunshade',\n",
       " 'y1': None,\n",
       " 'y2': None,\n",
       " 'z': None}"
      ]
     },
     "execution_count": 12,
     "metadata": {},
     "output_type": "execute_result"
    }
   ],
   "source": [
    "data2_sunshade=convert_1to2_sunshade(data1_sunshade)\n",
    "data2_sunshade"
   ]
  },
  {
   "cell_type": "markdown",
   "metadata": {},
   "source": [
    "#### コンバート【分類：部位情報】\n",
    "\n",
    "- レベル1：\n",
    "  - 外皮フラグ$[-]$：$FlagPerimeter$\n",
    "  - 日射フラグ$[-]$：$FlagSolarRadiation$\n",
    "  - 方位$[-]$：$direction$\n",
    "  - 非定常フラグ$[-]$：$FlagUnsteady$\n",
    "  - 壁体・開口部名称$[-]$：$name$\n",
    "  - 部位面積$[m^2]$：$A$\n",
    "  - 外部日除け名称$[-]$：$sunshade$\n",
    "- レベル2：\n",
    "  - 外皮フラグ$[-]$：$FlagPerimeter$\n",
    "  - 日射フラグ$[-]$：$FlagSolarRadiation$\n",
    "  - 方位$[-]$：$direction$\n",
    "  - 非定常フラグ$[-]$：$FlagUnsteady$\n",
    "  - 壁体・開口部名称$[-]$：$name$\n",
    "  - 部位面積$[m^2]$：$A$\n",
    "  - 外部日除け名称$[-]$：$sunshade$"
   ]
  },
  {
   "cell_type": "code",
   "execution_count": 13,
   "metadata": {
    "collapsed": false
   },
   "outputs": [
    {
     "data": {
      "text/plain": [
       "{'A': 1,\n",
       " 'FlagPerimeter': 1,\n",
       " 'FlagSolarRadiation': 1,\n",
       " 'FlagUnsteady': 1,\n",
       " 'Sunshade': None,\n",
       " 'direction': 1,\n",
       " 'name': 'Sample Element'}"
      ]
     },
     "execution_count": 13,
     "metadata": {},
     "output_type": "execute_result"
    }
   ],
   "source": [
    "data1_element = {\n",
    "    'name': 'Sample Element',\n",
    "    'FlagPerimeter': 1,\n",
    "    'FlagSolarRadiation': 1,\n",
    "    'FlagUnsteady': 1,\n",
    "    'direction': 1,\n",
    "    'A': 1,\n",
    "    'Sunshade': None\n",
    "}\n",
    "\n",
    "data1_element"
   ]
  },
  {
   "cell_type": "code",
   "execution_count": 14,
   "metadata": {
    "collapsed": true
   },
   "outputs": [],
   "source": [
    "import copy\n",
    "\n",
    "def convert_1to2_element(_data1_element,data1_common):\n",
    "    data_element = copy.deepcopy(_data1_element)\n",
    "    \n",
    "    for key in data_element.keys():\n",
    "        data_element[key] = data_element[key]\n",
    "    \n",
    "    \n",
    "    Afloor=sum([data1_common['Afloor1'],data1_common['Afloor2'],data1_common['Afloor3']])\n",
    "    data_element['A'] = round(data_element['A']*Afloor/90,2)\n",
    "        \n",
    "    return data_element"
   ]
  },
  {
   "cell_type": "code",
   "execution_count": 15,
   "metadata": {
    "collapsed": false
   },
   "outputs": [
    {
     "ename": "KeyError",
     "evalue": "'Afloor1'",
     "output_type": "error",
     "traceback": [
      "\u001b[0;31m---------------------------------------------------------------------------\u001b[0m",
      "\u001b[0;31mKeyError\u001b[0m                                  Traceback (most recent call last)",
      "\u001b[0;32m<ipython-input-15-14b77c5a7dba>\u001b[0m in \u001b[0;36m<module>\u001b[0;34m()\u001b[0m\n\u001b[0;32m----> 1\u001b[0;31m \u001b[0mdata2_element\u001b[0m\u001b[1;33m=\u001b[0m\u001b[0mconvert_1to2_element\u001b[0m\u001b[1;33m(\u001b[0m\u001b[0mdata1_element\u001b[0m\u001b[1;33m,\u001b[0m\u001b[0mdata1_common\u001b[0m\u001b[1;33m)\u001b[0m\u001b[1;33m\u001b[0m\u001b[0m\n\u001b[0m\u001b[1;32m      2\u001b[0m \u001b[0mdata2_element\u001b[0m\u001b[1;33m\u001b[0m\u001b[0m\n",
      "\u001b[0;32m<ipython-input-14-399ff0945cc0>\u001b[0m in \u001b[0;36mconvert_1to2_element\u001b[0;34m(_data1_element, data1_common)\u001b[0m\n\u001b[1;32m      8\u001b[0m \u001b[1;33m\u001b[0m\u001b[0m\n\u001b[1;32m      9\u001b[0m \u001b[1;33m\u001b[0m\u001b[0m\n\u001b[0;32m---> 10\u001b[0;31m     \u001b[0mAfloor\u001b[0m\u001b[1;33m=\u001b[0m\u001b[0msum\u001b[0m\u001b[1;33m(\u001b[0m\u001b[1;33m[\u001b[0m\u001b[0mdata1_common\u001b[0m\u001b[1;33m[\u001b[0m\u001b[1;34m'Afloor1'\u001b[0m\u001b[1;33m]\u001b[0m\u001b[1;33m,\u001b[0m\u001b[0mdata1_common\u001b[0m\u001b[1;33m[\u001b[0m\u001b[1;34m'Afloor2'\u001b[0m\u001b[1;33m]\u001b[0m\u001b[1;33m,\u001b[0m\u001b[0mdata1_common\u001b[0m\u001b[1;33m[\u001b[0m\u001b[1;34m'Afloor3'\u001b[0m\u001b[1;33m]\u001b[0m\u001b[1;33m]\u001b[0m\u001b[1;33m)\u001b[0m\u001b[1;33m\u001b[0m\u001b[0m\n\u001b[0m\u001b[1;32m     11\u001b[0m     \u001b[0mdata_element\u001b[0m\u001b[1;33m[\u001b[0m\u001b[1;34m'A'\u001b[0m\u001b[1;33m]\u001b[0m \u001b[1;33m=\u001b[0m \u001b[0mround\u001b[0m\u001b[1;33m(\u001b[0m\u001b[0mdata_element\u001b[0m\u001b[1;33m[\u001b[0m\u001b[1;34m'A'\u001b[0m\u001b[1;33m]\u001b[0m\u001b[1;33m*\u001b[0m\u001b[0mAfloor\u001b[0m\u001b[1;33m/\u001b[0m\u001b[1;36m90\u001b[0m\u001b[1;33m,\u001b[0m\u001b[1;36m2\u001b[0m\u001b[1;33m)\u001b[0m\u001b[1;33m\u001b[0m\u001b[0m\n\u001b[1;32m     12\u001b[0m \u001b[1;33m\u001b[0m\u001b[0m\n",
      "\u001b[0;31mKeyError\u001b[0m: 'Afloor1'"
     ]
    }
   ],
   "source": [
    "data2_element=convert_1to2_element(data1_element,data1_common)\n",
    "data2_element"
   ]
  },
  {
   "cell_type": "code",
   "execution_count": null,
   "metadata": {
    "collapsed": true
   },
   "outputs": [],
   "source": [
    "#標準住戸における部位の面積及び土間床等の外周部の長さ等\n",
    "#（い）床断熱住戸の場合\n",
    "#番号,外皮フラグ[-],日射フラグ[-],方位[-],非定常フラグ[-],壁体・開口部名称[-],部位面積[㎡],外部日除け名称[-]\n",
    "#ElementNo,FlagPerimeter,FlagSolarRadiation,direction,FlagUnsteady,name,A,Sunshade\n",
    "\n",
    "import os,csv\n",
    "CsvFile = csv.reader(open('（い）床断熱住戸の場合.csv'),delimiter=',')\n",
    "\n",
    "StandardHouseElemntsFI = []\n",
    "for i in CsvFile:\n",
    "    StandardHouseElemntsFI.append(i)\n",
    "\n",
    "def get_StandardHouseElemntsFI(StandardHouseElemntsFI,i):\n",
    "    data_elements = {'name': StandardHouseElemntsFI[i][5],\n",
    "                     'FlagPerimeter': int(StandardHouseElemntsFI[i][1]),\n",
    "                     'FlagSolarRadiation': int(StandardHouseElemntsFI[i][2]),\n",
    "                     'FlagUnsteady': int(StandardHouseElemntsFI[i][4]),\n",
    "                     'direction': int(StandardHouseElemntsFI[i][3]),\n",
    "                     'A': float(StandardHouseElemntsFI[i][6]),\n",
    "                     'Sunshade': StandardHouseElemntsFI[i][7]}        \n",
    "    return data_elements\n",
    "\n",
    "def make_data_elements_list(data2_element,i):\n",
    "    data_elements_list = [i,int(data2_element['FlagPerimeter']),int(data2_element['FlagSolarRadiation']),\n",
    "                          int(data2_element['direction']),int(data2_element['FlagUnsteady']),\n",
    "                          data2_element['name'],float(data2_element['A']),data2_element['Sunshade']]   \n",
    "    return data_elements_list\n",
    "\n",
    "data1_element_list = [['ElementNo','FlagPerimeter','FlagSolarRadiation',\n",
    "                       'direction','FlagUnsteady','name','A','Sunshade']]\n",
    "for i in range(1,len(StandardHouseElemntsFI)):\n",
    "    data1_element=get_StandardHouseElemntsFI(StandardHouseElemntsFI,i)\n",
    "    data2_element=convert_1to2_element(data1_element,data1_common)\n",
    "    #print(\"data1_element{0}={1}\".format(i,data2_element))\n",
    "    data1_element_list.append(make_data_elements_list(data2_element,i))\n",
    "\n",
    "import csv\n",
    "with open('（い）床断熱住戸の場合_補完後.csv', 'w') as f:\n",
    "    writer = csv.writer(f, lineterminator='\\n') # 改行コード（\\n）を指定しておく\n",
    "    writer.writerows(data1_element_list) # 2次元配列も書き込める"
   ]
  },
  {
   "cell_type": "code",
   "execution_count": null,
   "metadata": {
    "collapsed": false
   },
   "outputs": [],
   "source": [
    "#標準住戸における部位の面積及び土間床等の外周部の長さ等\n",
    "#（ろ）基礎断熱住戸の場合\n",
    "#番号,外皮フラグ[-],日射フラグ[-],方位[-],非定常フラグ[-],壁体・開口部名称[-],部位面積[㎡],外部日除け名称[-]\n",
    "#ElementNo,FlagPerimeter,FlagSolarRadiation,direction,FlagUnsteady,name,A,Sunshade\n",
    "\n",
    "import os,csv\n",
    "CsvFile = csv.reader(open('（ろ）基礎断熱住戸の場合.csv'),delimiter=',')\n",
    "\n",
    "StandardHouseElemntsFI = []\n",
    "for i in CsvFile:\n",
    "    StandardHouseElemntsFI.append(i)\n",
    "\n",
    "def get_StandardHouseElemntsFI(StandardHouseElemntsFI,i):\n",
    "    data_elements = {'name': StandardHouseElemntsFI[i][5],\n",
    "                     'FlagPerimeter': int(StandardHouseElemntsFI[i][1]),\n",
    "                     'FlagSolarRadiation': int(StandardHouseElemntsFI[i][2]),\n",
    "                     'FlagUnsteady': int(StandardHouseElemntsFI[i][4]),\n",
    "                     'direction': int(StandardHouseElemntsFI[i][3]),\n",
    "                     'A': float(StandardHouseElemntsFI[i][6]),\n",
    "                     'Sunshade': StandardHouseElemntsFI[i][7]}        \n",
    "    return data_elements\n",
    "\n",
    "def make_data_elements_list(data2_element,i):\n",
    "    data_elements_list = [i,int(data2_element['FlagPerimeter']),int(data2_element['FlagSolarRadiation']),\n",
    "                          int(data2_element['direction']),int(data2_element['FlagUnsteady']),\n",
    "                          data2_element['name'],float(data2_element['A']),data2_element['Sunshade']]   \n",
    "    return data_elements_list\n",
    "\n",
    "data1_element_list = [['ElementNo','FlagPerimeter','FlagSolarRadiation',\n",
    "                       'direction','FlagUnsteady','name','A','Sunshade']]\n",
    "for i in range(1,len(StandardHouseElemntsFI)):\n",
    "    data1_element=get_StandardHouseElemntsFI(StandardHouseElemntsFI,i)\n",
    "    data2_element=convert_1to2_element(data1_element,data1_common)\n",
    "    #print(\"data1_element{0}={1}\".format(i,data2_element))\n",
    "    data1_element_list.append(make_data_elements_list(data2_element,i))\n",
    "\n",
    "import csv\n",
    "with open('（ろ）基礎断熱住戸の場合_補完後.csv', 'w') as f:\n",
    "    writer = csv.writer(f, lineterminator='\\n') # 改行コード（\\n）を指定しておく\n",
    "    writer.writerows(data1_element_list) # 2次元配列も書き込める"
   ]
  },
  {
   "cell_type": "code",
   "execution_count": null,
   "metadata": {
    "collapsed": true
   },
   "outputs": [],
   "source": [
    "#標準住戸における部位の面積及び土間床等の外周部の長さ等\n",
    "#（い）床断熱住戸の場合\n",
    "#番号,外皮フラグ[-],日射フラグ[-],方位[-],非定常フラグ[-],壁体・開口部名称[-],部位面積[㎡],外部日除け名称[-]\n",
    "#ElementNo,FlagPerimeter,FlagSolarRadiation,direction,FlagUnsteady,name,A,Sunshade\n",
    "\n",
    "import numpy as np\n",
    "StandardHouseElemntsFI = np.array([[1,1,1,1,1,'Aroof',50.85,None],[2,1,1,7,1,'AwallSW',30.47,None],\n",
    "    [3,1,1,9,1,'AwallNW',22.37,None],[4,1,1,3,1,'AwallNE',47.92,None],[5,1,1,5,1,'AwallSE',22.28,None],\n",
    "    [6,1,1,7,2,'AdoorSW',0,None],[7,1,1,9,2,'AdoorNW',1.89,None],[8,1,1,3,2,'AdoorNE',1.62,None],\n",
    "    [9,1,1,5,2,'AdoorSE',0,None],[10,1,1,7,2,'AwndSW',22.69,'SunshadeSW'],[11,1,1,9,2,'AwndNW',2.38,'SunshadeNW'],\n",
    "    [12,1,1,3,2,'AwndNE',3.63,'SunshadeNE'],[13,1,1,5,2,'AwndSE',4.37,'SunshadeSE'],\n",
    "    [14,1,2,12,1,'AIF',45.05,None],[15,1,1,7,1,'AbaseSW',0,None],[16,1,1,9,1,'AbaseNW',0.91,None],\n",
    "    [17,1,1,3,1,'AbaseNE',0.91,None],[18,1,1,5,1,'AbaseSE',0,None],[19,1,2,12,1,'AbaseIF',1.82,None],\n",
    "    [20,1,1,7,1,'AbasedSW',0,None],[21,1,1,9,1,'AbasedNW',0.33,None],[22,1,1,3,1,'AbasedNE',0.25,None],\n",
    "    [23,1,1,5,1,'AbasedSE',0,None],[24,1,2,12,1,'AbasedIF',0.57,None],[25,1,1,7,1,'LprmSW',0,None],\n",
    "    [26,1,1,9,1,'LprmNW',1.82,None],[27,1,1,3,1,'LprmNE',1.82,None],[28,1,1,5,1,'LprmSE',0,None],\n",
    "    [29,1,2,12,1,'LprmIF',3.64,None],[30,1,1,7,1,'LprmdSW',0,None],[31,1,1,9,1,'LprmdNW',1.82,None],\n",
    "    [32,1,1,3,1,'LprmdNE',1.37,None],[33,1,1,5,1,'prmdSE',0,None],[34,1,2,12,1,'LprmdIF',3.19,None]])\n",
    "\n",
    "def get_StandardHouseElemntsFI(StandardHouseElemntsFI,i):\n",
    "    data_elements = {'name': StandardHouseElemntsFI[i,5],\n",
    "                     'FlagPerimeter': StandardHouseElemntsFI[i,1],\n",
    "                     'FlagSolarRadiation': StandardHouseElemntsFI[i,2],\n",
    "                     'FlagUnsteady': StandardHouseElemntsFI[i,4],\n",
    "                     'direction': StandardHouseElemntsFI[i,3],\n",
    "                     'A': StandardHouseElemntsFI[i,6],\n",
    "                     'Sunshade': StandardHouseElemntsFI[i,7]}        \n",
    "    return data_elements\n",
    "    \n",
    "for i in range(0,len(StandardHouseElemntsFI)):\n",
    "    data1_element=get_StandardHouseElemntsFI(StandardHouseElemntsFI,i)\n",
    "    #print(\"data1_element{0}={1}\".format(i,data1_element))"
   ]
  },
  {
   "cell_type": "code",
   "execution_count": null,
   "metadata": {
    "collapsed": true
   },
   "outputs": [],
   "source": [
    "#標準住戸における部位の面積及び土間床等の外周部の長さ等\n",
    "#（ろ）基礎断熱住戸の場合 \n",
    "#番号,外皮フラグ[-],日射フラグ[-],方位[-],非定常フラグ[-],壁体・開口部名称[-],部位面積[㎡],外部日除け名称[-]\n",
    "#ElementNo,FlagPerimeter,FlagSolarRadiation,direction,FlagUnsteady,name,A,Sunshade\n",
    "\n",
    "import numpy as np\n",
    "StandardHouseElemntsBI = np.array([[1,1,1,1,1,'Aroof',50.85,None],[2,1,1,7,1,'AwallSW',30.47,None],\n",
    "    [3,1,1,9,1,'AwallNW',22.37,None],[4,1,1,3,1,'AwallNE',47.92,None],[5,1,1,5,1,'AwallSE',22.28,None],\n",
    "    [6,1,1,7,2,'AdoorSW',0,None],[7,1,1,9,2,'AdoorNW',1.89,None],[8,1,1,3,2,'AdoorNE',1.62,None],\n",
    "    [9,1,1,5,2,'AdoorSE',0,None],[10,1,1,7,2,'AwndSW',22.69,'SunshadeSW'],[11,1,1,9,2,'AwndNW',2.38,'SunshadeNW'],\n",
    "    [12,1,1,3,2,'AwndNE',3.63,'SunshadeNE'],[13,1,1,5,2,'AwndSE',4.37,'SunshadeSE'],[14,1,2,12,1,'AIF',0,None],\n",
    "    [15,1,1,7,1,'AbaseSW',5.3,None],[16,1,1,9,1,'AbaseNW',1.48,None],[17,1,1,3,1,'AbaseNE',4.62,None],\n",
    "    [18,1,1,5,1,'AbaseSE',2.4,None],[19,1,2,12,1,'AbaseIF',0,None],[20,1,1,7,1,'AbasedSW',0,None],\n",
    "    [21,1,1,9,1,'AbasedNW',0.33,None],[22,1,1,3,1,'AbasedNE',0.25,None],[23,1,1,5,1,'AbasedSE',0,None],\n",
    "    [24,1,2,12,1,'AbasedIF',0,None],[25,1,1,7,1,'LprmSW',10.61,None],[26,1,1,9,1,'LprmNW',2.97,None],\n",
    "    [27,1,1,3,1,'LprmNE',9.24,None],[28,1,1,5,1,'LprmSE',4.79,None],[29,1,2,12,1,'LprmIF',0,None],\n",
    "    [30,1,1,7,1,'LprmdSW',0,None],[31,1,1,9,1,'LprmdNW',1.82,None],[32,1,1,3,1,'LprmdNE',1.37,None],\n",
    "    [33,1,1,5,1,'LprmdSE',0,None],[34,1,2,12,1,'LprmdIF',0,None]])\n",
    "\n",
    "def get_StandardHouseElemntsBI(StandardHouseElemntsBI,i):\n",
    "    data_elements = {'name': StandardHouseElemntsBI[i,5],\n",
    "                     'FlagPerimeter': StandardHouseElemntsBI[i,1],\n",
    "                     'FlagSolarRadiation': StandardHouseElemntsBI[i,2],\n",
    "                     'FlagUnsteady': StandardHouseElemntsBI[i,4],\n",
    "                     'direction': StandardHouseElemntsBI[i,3],\n",
    "                     'A': StandardHouseElemntsBI[i,6],\n",
    "                     'Sunshade': StandardHouseElemntsBI[i,7]}        \n",
    "    return data_elements\n",
    "    \n",
    "for i in range(0,len(StandardHouseElemntsBI)):\n",
    "    data1_element=get_StandardHouseElemntsBI(StandardHouseElemntsBI,i)\n",
    "    #print(\"data1_element{0}={1}\".format(i,data1_element))"
   ]
  },
  {
   "cell_type": "code",
   "execution_count": null,
   "metadata": {
    "collapsed": true
   },
   "outputs": [],
   "source": []
  }
 ],
 "metadata": {
  "kernelspec": {
   "display_name": "Python 3",
   "language": "python",
   "name": "python3"
  },
  "language_info": {
   "codemirror_mode": {
    "name": "ipython",
    "version": 3
   },
   "file_extension": ".py",
   "mimetype": "text/x-python",
   "name": "python",
   "nbconvert_exporter": "python",
   "pygments_lexer": "ipython3",
   "version": "3.6.2"
  }
 },
 "nbformat": 4,
 "nbformat_minor": 2
}
