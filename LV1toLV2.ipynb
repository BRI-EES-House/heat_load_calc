{
 "cells": [
  {
   "cell_type": "code",
   "execution_count": 1,
   "metadata": {
    "collapsed": true
   },
   "outputs": [],
   "source": [
    "import math\n",
    "import numpy as np\n",
    "import matplotlib.pyplot as plt"
   ]
  },
  {
   "cell_type": "markdown",
   "metadata": {},
   "source": [
    "# 外皮情報LV1からLV2へのコンバート"
   ]
  },
  {
   "cell_type": "markdown",
   "metadata": {},
   "source": [
    "## 1. 外皮簡易法＋用途別床面積\n",
    "- 当該住戸の外皮の部位の面積等を用いずに簡易熱負荷計算を実施する場合には、部位の面積および長さを、「平成28年省エネルギー基準に準拠したエネルギー消費性能の評価に関する技術情報（住宅）」２．エネルギー消費性能の算定方法　2.2　算定方法　第三章　 暖冷房負荷と外皮性能　\t第二節　外皮性能　9.当該住戸の外皮の部位の面積等を用いずに外皮性能を評価する方法　に示された標準住戸（以下、「簡易外皮入力モデル」）における部位の面積および長さ等より推定する。\n",
    "- 屋根・天井、外壁、床の構成は、入力値である部位種別の熱貫流率をもとに、部位のU値から壁体構成を決定する方法により決定する。\n",
    "- 土間床等の外周部の線熱貫流率については、簡易熱負荷計算での扱いに従う\n",
    "- 開口部の日射熱取得率および外部日除けの取得日射熱補正係数は、それぞれ、季節別に、垂直面日射熱取得率および取得日射熱補正係数の入力値もしくは規定値を使用する。この場合、簡易熱負荷計算においては、開口部の入射角特性および外部日除けは考慮しない。\n",
    "- その他は、外皮性能計算プログラムの入力情報に用途別床面積を追加したものと同様に求める。"
   ]
  },
  {
   "cell_type": "markdown",
   "metadata": {},
   "source": [
    "##### 四捨五入を行う関数\n",
    "\n",
    "- PythonのRound関数は最近接偶数への丸めとなるため、四捨五入を行う関数を独自に定義する。"
   ]
  },
  {
   "cell_type": "code",
   "execution_count": 2,
   "metadata": {
    "collapsed": true
   },
   "outputs": [],
   "source": [
    "def round_number(num, digit) :\n",
    "    power = 10 ** digit           #10のべき乗\n",
    "    sign = math.copysign(1, num)  #符号\n",
    "    return math.floor(sign * power * num + 0.5 ) / ( sign * power ) "
   ]
  },
  {
   "cell_type": "markdown",
   "metadata": {},
   "source": [
    "###### Example"
   ]
  },
  {
   "cell_type": "code",
   "execution_count": 3,
   "metadata": {},
   "outputs": [
    {
     "data": {
      "text/plain": [
       "-0.348"
      ]
     },
     "execution_count": 3,
     "metadata": {},
     "output_type": "execute_result"
    }
   ],
   "source": [
    "round_number(-0.347500, 3)"
   ]
  },
  {
   "cell_type": "markdown",
   "metadata": {},
   "source": [
    "### 2) 面積関係の計算"
   ]
  },
  {
   "cell_type": "markdown",
   "metadata": {},
   "source": [
    "設計住戸の各部位の長さおよび面積の推定  "
   ]
  },
  {
   "cell_type": "markdown",
   "metadata": {},
   "source": [
    "$$ A_{i,d}= A_{i,s}・\\frac{A_{floor,d}}{A_{floor,s}} $$\n",
    "$$ L_{i,d}= L_{i,s}・\\frac{A_{floor,d}}{A_{floor,s}} $$"
   ]
  },
  {
   "cell_type": "markdown",
   "metadata": {},
   "source": [
    "$A_{i,d}$: 設計住戸の部位(一般部位又は開口部)$i$の面積の推定値, m<sup>2</sup>  \n",
    "$L_{i,d}$: 設計住戸の部位(土間床等の外周部)$i$の長さの推定値, m\n",
    "$A_{floor,s}$: 簡易外皮入力モデル住戸の延床面積, m<sup>2</sup>  \n",
    "$A_{floor,d}$: 設計住戸の延床面積, m<sup>2</sup>  \n",
    "$A_{i,s}$: 簡易外皮入力モデル住戸の部位(一般部位又は開口部)$i$の面積, m<sup>2</sup>  \n",
    "$L_{i,s}$: 簡易外皮入力モデル住戸の部位(土間床等の外周部)$i$の長さ, m  "
   ]
  },
  {
   "cell_type": "markdown",
   "metadata": {},
   "source": [
    "#### Function"
   ]
  },
  {
   "cell_type": "code",
   "execution_count": 4,
   "metadata": {
    "collapsed": true
   },
   "outputs": [],
   "source": [
    "def get_design_parts_area(parts_area_standard, total_floor_area_design):\n",
    "    TOTAL_FLOOR_AREA_STANDARD = 90.0  #簡易外皮入力モデル住戸の延床面積(m2)\n",
    "    partsArea = round_number( parts_area_standard * total_floor_area_design / TOTAL_FLOOR_AREA_STANDARD, 2 )\n",
    "    return partsArea"
   ]
  },
  {
   "cell_type": "markdown",
   "metadata": {},
   "source": [
    "#### Example"
   ]
  },
  {
   "cell_type": "code",
   "execution_count": 5,
   "metadata": {},
   "outputs": [
    {
     "data": {
      "text/plain": [
       "67.8"
      ]
     },
     "execution_count": 5,
     "metadata": {},
     "output_type": "execute_result"
    }
   ],
   "source": [
    "get_design_parts_area(50.85,120)"
   ]
  },
  {
   "cell_type": "markdown",
   "metadata": {},
   "source": [
    "## 2. Convert"
   ]
  },
  {
   "cell_type": "markdown",
   "metadata": {},
   "source": [
    "### 1) Common / 共通"
   ]
  },
  {
   "cell_type": "markdown",
   "metadata": {},
   "source": [
    "#### Outline"
   ]
  },
  {
   "cell_type": "markdown",
   "metadata": {},
   "source": [
    "- 地域の区分、主たる居室の床面積(m<sup>2</sup>)、その他の床面積(m<sup>2</sup>)、床面積の合計(m<sup>2</sup>)の情報は維持する。\n",
    "- 新たに変数「簡易外皮入力フラグ」を作成し、LV1から生成したLV2情報は必ずTrueとする。"
   ]
  },
  {
   "cell_type": "markdown",
   "metadata": {},
   "source": [
    "#### Input"
   ]
  },
  {
   "cell_type": "markdown",
   "metadata": {},
   "source": [
    "参照：InputDataDefinition.ipynb"
   ]
  },
  {
   "cell_type": "markdown",
   "metadata": {},
   "source": [
    "#### Output"
   ]
  },
  {
   "cell_type": "markdown",
   "metadata": {},
   "source": [
    "```\n",
    "{\n",
    "    'Region'\n",
    "    'IsSimplifiedInput'\n",
    "    'MainOccupantRoomFloorArea'\n",
    "    'OtherOccupantRoomFloorArea'\n",
    "    'TotalFloorArea'\n",
    "}\n",
    "```\n",
    "参照：InputDataDefinition.ipynb"
   ]
  },
  {
   "cell_type": "markdown",
   "metadata": {},
   "source": [
    "#### Function"
   ]
  },
  {
   "cell_type": "code",
   "execution_count": 6,
   "metadata": {
    "collapsed": true
   },
   "outputs": [],
   "source": [
    "def convert_common(Region, MainOccupantRoomFloorArea, OtherOccupantRoomFloorArea, TotalFloorArea, **kwargs):\n",
    "    return {\n",
    "        'Region'                     : Region,\n",
    "        'IsSimplifiedInput'          : True,\n",
    "        'MainOccupantRoomFloorArea'  : MainOccupantRoomFloorArea,\n",
    "        'OtherOccupantRoomFloorArea' : OtherOccupantRoomFloorArea,\n",
    "        'TotalFloorArea'             : TotalFloorArea\n",
    "    }"
   ]
  },
  {
   "cell_type": "markdown",
   "metadata": {},
   "source": [
    "#### Example"
   ]
  },
  {
   "cell_type": "code",
   "execution_count": 7,
   "metadata": {},
   "outputs": [
    {
     "data": {
      "text/plain": [
       "{'IsSimplifiedInput': True,\n",
       " 'MainOccupantRoomFloorArea': 30.0,\n",
       " 'OtherOccupantRoomFloorArea': 60.0,\n",
       " 'Region': 6,\n",
       " 'TotalFloorArea': 120.0}"
      ]
     },
     "execution_count": 7,
     "metadata": {},
     "output_type": "execute_result"
    }
   ],
   "source": [
    "convert_common(\n",
    "    Region = 6,\n",
    "    MainOccupantRoomFloorArea = 30.0,\n",
    "    OtherOccupantRoomFloorArea = 60.0,\n",
    "    TotalFloorArea = 120.0\n",
    ")"
   ]
  },
  {
   "cell_type": "markdown",
   "metadata": {},
   "source": [
    "### 2) 部位のU値から壁体構成を与える"
   ]
  },
  {
   "cell_type": "markdown",
   "metadata": {},
   "source": [
    "#### Outline"
   ]
  },
  {
   "cell_type": "markdown",
   "metadata": {},
   "source": [
    "- 屋根・天井、外壁、床、界壁、界床、界床（天井）の構成は、入力値である部位種別の熱貫流率と極力一致するよう、構造種別に応じ、以下の構成における断熱材の厚さを、0mm以上の範囲で、1mm単位で切り捨てて調整する。\n",
    "- 熱貫流率の入力値が大きい場合、断熱材の厚さを0mmとしても入力値の熱貫流率を再現できないことがあるが、この場合はその差を許容する。"
   ]
  },
  {
   "cell_type": "markdown",
   "metadata": {},
   "source": [
    "屋根・天井壁体構成（木造、鉄骨造、その他/不明）\n",
    "\n",
    "| 材料 | 厚さ, m | 熱伝導率, W m<sup>-1</sup> K<sup>-1</sup> | 熱抵抗, m<sup>2</sup>2 k W<sup>-1</sup> | 容積比熱, J L<sup>-1</sup> K<sup>-1</sup> |\n",
    "|---|---|---|---|\n",
    "| Ro | - | - | 0.040 | 0 |\n",
    "| 住宅用グラスウール断熱材16K相当 | ≧0mm | 0.045 |  | 13 |\n",
    "| せっこうボード | 0.0095 | 0.22 | 0.043 | 830 |\n",
    "| Ri | - | - | 0.090 | 0 |"
   ]
  },
  {
   "cell_type": "markdown",
   "metadata": {},
   "source": [
    "外壁壁体構成（木造、鉄骨造、その他/不明）\n",
    "\n",
    "| 材料 | 厚さ, m | 熱伝導率, W m<sup>-1</sup> K<sup>-1</sup> | 熱抵抗, m<sup>2</sup>2 k W<sup>-1</sup> | 容積比熱, J L<sup>-1</sup> K<sup>-1</sup> |\n",
    "|---|---|---|---|\n",
    "| Ro | - | - | 0.040 | 0 |\n",
    "| 住宅用グラスウール断熱材16K相当 | ≧0mm | 0.045 |  | 13 |\n",
    "| せっこうボード | 0.0095 | 0.22 | 0.043 | 830 |\n",
    "| Ri | - | - | 0.110 | 0 |"
   ]
  },
  {
   "cell_type": "markdown",
   "metadata": {},
   "source": [
    "床壁体構成（木造、鉄骨造、その他/不明）\n",
    "\n",
    "| 材料 | 厚さ, m | 熱伝導率, W m<sup>-1</sup> K<sup>-1</sup> | 熱抵抗, m<sup>2</sup>2 k W<sup>-1</sup> | 容積比熱, J L<sup>-1</sup> K<sup>-1</sup> |\n",
    "|---|---|---|---|\n",
    "| Ro | - | - | 0.040 | 0 |\n",
    "| 住宅用グラスウール断熱材16K相当 | ≧0mm | 0.045 |  | 13 |\n",
    "| 合板 | 0.012 | 0.16 | 0.075 | 720 |\n",
    "| Ri | - | - | 0.150 | - | - |"
   ]
  },
  {
   "cell_type": "markdown",
   "metadata": {},
   "source": [
    "界床（天井）壁体構成（木造、鉄骨造、その他/不明）\n",
    "\n",
    "| 材料 | 厚さ, m | 熱伝導率, W m<sup>-1</sup> K<sup>-1</sup> | 熱抵抗, m<sup>2</sup>2 k W<sup>-1</sup> | 容積比熱, J L<sup>-1</sup> K<sup>-1</sup> |\n",
    "|---|---|---|---|\n",
    "| Ro | - | - | 0.090 | 0 |\n",
    "| 住宅用グラスウール断熱材16K相当 | ≧0mm | 0.045 |  | 13 |\n",
    "| せっこうボード | 0.0095 | 0.22 | 0.043 | 830 |\n",
    "| Ri | - | - | 0.090 | 0 |"
   ]
  },
  {
   "cell_type": "markdown",
   "metadata": {},
   "source": [
    "界壁壁体構成（木造、鉄骨造、その他/不明）\n",
    "\n",
    "| 材料 | 厚さ, m | 熱伝導率, W m<sup>-1</sup> K<sup>-1</sup> | 熱抵抗, m<sup>2</sup>2 k W<sup>-1</sup> | 容積比熱, J L<sup>-1</sup> K<sup>-1</sup> |\n",
    "|---|---|---|---|\n",
    "| Ro | - | - | 0.110 | 0 |\n",
    "| 住宅用グラスウール断熱材16K相当 | ≧0mm | 0.045 |  | 13 |\n",
    "| せっこうボード | 0.0095 | 0.22 | 0.043 | 830 |\n",
    "| Ri | - | - | 0.110 | 0 |\n"
   ]
  },
  {
   "cell_type": "markdown",
   "metadata": {},
   "source": [
    "界床壁体構成（木造、鉄骨造）\n",
    "\n",
    "| 材料 | 厚さ, m | 熱伝導率, W m<sup>-1</sup> K<sup>-1</sup> | 熱抵抗, m<sup>2</sup>2 k W<sup>-1</sup> | 容積比熱, J L<sup>-1</sup> K<sup>-1</sup> |\n",
    "|---|---|---|---|\n",
    "| Ro | - | - | 0.150 | 0 |\n",
    "| 住宅用グラスウール断熱材16K相当 | ≧0mm | 0.045 |  | 13 |\n",
    "| 合板 | 0.012 | 0.16 | 0.075 | 720 |\n",
    "| Ri | - | - | 0.150 | - | - |"
   ]
  },
  {
   "cell_type": "markdown",
   "metadata": {},
   "source": [
    "屋根・天井壁体構成（鉄筋コンクリート造等）\n",
    "\n",
    "| 材料 | 厚さ, m | 熱伝導率, W m<sup>-1</sup> K<sup>-1</sup> | 熱抵抗, m<sup>2</sup>2 k W<sup>-1</sup> | 容積比熱, J L<sup>-1</sup> K<sup>-1</sup> |\n",
    "|---|---|---|---|\n",
    "| Ro | - | - | 0.040 | 0 |\n",
    "| コンクリート | 0.120 | 1.6 | 0.075 | 2000 |\n",
    "| 住宅用グラスウール断熱材16K相当 | ≧0mm | 0.045 |  | 13 |\n",
    "| Ri | - | - | 0.090 | 0 |"
   ]
  },
  {
   "cell_type": "markdown",
   "metadata": {},
   "source": [
    "外壁壁体構成（鉄筋コンクリート造等）\n",
    "\n",
    "| 材料 | 厚さ, m | 熱伝導率, W m<sup>-1</sup> K<sup>-1</sup> | 熱抵抗, m<sup>2</sup>2 k W<sup>-1</sup> | 容積比熱, J L<sup>-1</sup> K<sup>-1</sup> |\n",
    "|---|---|---|---|\n",
    "| Ro | - | - | 0.040 | 0 |\n",
    "| コンクリート | 0.120 | 1.6 | 0.075 | 2000 |\n",
    "| 住宅用グラスウール断熱材16K相当 | ≧0mm | 0.045 |  | 13 |\n",
    "| Ri | - | - | 0.110 | 0 |"
   ]
  },
  {
   "cell_type": "markdown",
   "metadata": {},
   "source": [
    "床壁体構成（鉄筋コンクリート造等）\n",
    "\n",
    "| 材料 | 厚さ, m | 熱伝導率, W m<sup>-1</sup> K<sup>-1</sup> | 熱抵抗, m<sup>2</sup>2 k W<sup>-1</sup> | 容積比熱, J L<sup>-1</sup> K<sup>-1</sup> |\n",
    "|---|---|---|---|\n",
    "| Ro | - | - | 0.040 | 0 |\n",
    "| コンクリート | 0.120 | 1.6 | 0.075 | 2000 |\n",
    "| 住宅用グラスウール断熱材16K相当 | ≧0mm | 0.045 |  | 13 |\n",
    "| Ri | - | - | 0.150 | - | - |"
   ]
  },
  {
   "cell_type": "markdown",
   "metadata": {},
   "source": [
    "界床（天井）壁体構成（鉄筋コンクリート造等）\n",
    "\n",
    "| 材料 | 厚さ, m | 熱伝導率, W m<sup>-1</sup> K<sup>-1</sup> | 熱抵抗, m<sup>2</sup>2 k W<sup>-1</sup> | 容積比熱, J L<sup>-1</sup> K<sup>-1</sup> |\n",
    "|---|---|---|---|\n",
    "| Ro | - | - | 0.090 | 0 |\n",
    "| コンクリート | 0.120 | 1.6 | 0.075 | 2000 |\n",
    "| 住宅用グラスウール断熱材16K相当 | ≧0mm | 0.045 |  | 13 |\n",
    "| Ri | - | - | 0.090 | 0 |"
   ]
  },
  {
   "cell_type": "markdown",
   "metadata": {},
   "source": [
    "界壁壁体構成（鉄筋コンクリート造等）\n",
    "\n",
    "| 材料 | 厚さ, m | 熱伝導率, W m<sup>-1</sup> K<sup>-1</sup> | 熱抵抗, m<sup>2</sup>2 k W<sup>-1</sup> | 容積比熱, J L<sup>-1</sup> K<sup>-1</sup> |\n",
    "|---|---|---|---|\n",
    "| Ro | - | - | 0.110 | 0 |\n",
    "| コンクリート | 0.120 | 1.6 | 0.075 | 2000 |\n",
    "| 住宅用グラスウール断熱材16K相当 | ≧0mm | 0.045 |  | 13 |\n",
    "| Ri | - | - | 0.110 | 0 |"
   ]
  },
  {
   "cell_type": "markdown",
   "metadata": {},
   "source": [
    "界床壁体構成（鉄筋コンクリート造等）\n",
    "\n",
    "| 材料 | 厚さ, m | 熱伝導率, W m<sup>-1</sup> K<sup>-1</sup> | 熱抵抗, m<sup>2</sup>2 k W<sup>-1</sup> | 容積比熱, J L<sup>-1</sup> K<sup>-1</sup> |\n",
    "|---|---|---|---|\n",
    "| Ro | - | - | 0.150 | 0 |\n",
    "| コンクリート | 0.120 | 1.6 | 0.075 | 2000 |\n",
    "| 住宅用グラスウール断熱材16K相当 | ≧0mm | 0.045 |  | 13 |\n",
    "| Ri | - | - | 0.150 | - | - |"
   ]
  },
  {
   "cell_type": "markdown",
   "metadata": {},
   "source": [
    "#### Class"
   ]
  },
  {
   "cell_type": "code",
   "execution_count": 8,
   "metadata": {
    "collapsed": true
   },
   "outputs": [],
   "source": [
    "class Material:\n",
    "    \n",
    "    def __init__( self, name, thick, cond, spech ):\n",
    "        self.name   = name\n",
    "        self.thick  = thick   # thickness, m\n",
    "        self.cond   = cond    # thermal conductivity, W/mK\n",
    "        self.spech  = spech   # volumetric specific heat, J/LK\n",
    "    \n",
    "    def R( self ):\n",
    "        return self.thick / self.cond"
   ]
  },
  {
   "cell_type": "markdown",
   "metadata": {},
   "source": [
    "#### Example"
   ]
  },
  {
   "cell_type": "code",
   "execution_count": 9,
   "metadata": {
    "collapsed": true
   },
   "outputs": [],
   "source": [
    "m = Material( 'GPB', 0.0095, 0.22, 830 )"
   ]
  },
  {
   "cell_type": "code",
   "execution_count": 10,
   "metadata": {},
   "outputs": [
    {
     "data": {
      "text/plain": [
       "('GPB', 0.0095, 0.22, 830, 0.04318181818181818)"
      ]
     },
     "execution_count": 10,
     "metadata": {},
     "output_type": "execute_result"
    }
   ],
   "source": [
    "m.name, m.thick, m.cond, m.spech, m.R()"
   ]
  },
  {
   "cell_type": "markdown",
   "metadata": {},
   "source": [
    "#### Function"
   ]
  },
  {
   "cell_type": "code",
   "execution_count": 11,
   "metadata": {
    "collapsed": true
   },
   "outputs": [],
   "source": [
    "def get_gypsum():\n",
    "    return Material( name = 'GPB', thick = 0.0095, cond = 0.22, spech =  830.0 )"
   ]
  },
  {
   "cell_type": "code",
   "execution_count": 12,
   "metadata": {
    "collapsed": true
   },
   "outputs": [],
   "source": [
    "def get_plywood():\n",
    "    return Material( name = 'PED', thick = 0.012,  cond = 0.16, spech =  720.0 )"
   ]
  },
  {
   "cell_type": "code",
   "execution_count": 13,
   "metadata": {
    "collapsed": true
   },
   "outputs": [],
   "source": [
    "def get_concrete():\n",
    "    return Material( name = 'RC',  thick = 0.120,  cond = 1.60, spech = 2000.0 )"
   ]
  },
  {
   "cell_type": "code",
   "execution_count": 14,
   "metadata": {
    "collapsed": true
   },
   "outputs": [],
   "source": [
    "def convert_u_value_to_spec(structure, typeOfPart, U):\n",
    "    # structure as string : Wood, Steel, RC, Other\n",
    "    # typeOfPart as string: Ceiling, Wall, Floor, BoundaryCeiling, BoundaryWall, BoundaryFloor\n",
    "    # U: heat transfer coefficient (W/m2K)\n",
    "    s = structure\n",
    "    t = typeOfPart\n",
    "    R = 1 / U\n",
    "    \n",
    "    Ro, Ri = {\n",
    "        'Ceiling'         : ( 0.040, 0.090 ),\n",
    "        'Wall'            : ( 0.040, 0.110 ),\n",
    "        'Floor'           : ( 0.040, 0.150 ),\n",
    "        'BoundaryCeiling' : ( 0.090, 0.090 ),\n",
    "        'BoundaryWall'    : ( 0.110, 0.110 ),\n",
    "        'BoundaryFloor'   : ( 0.150, 0.150 ),\n",
    "    }[t]\n",
    "    \n",
    "    mGypsum   = get_gypsum()\n",
    "    mPlywood  = get_plywood()\n",
    "    mConcrete = get_concrete()\n",
    "    \n",
    "    ins_name, ins_cond, ins_spech = 'GW16K', 0.045, 13.0\n",
    "    \n",
    "    def d( m ):\n",
    "        return ( math.floor( max(0,( R -( Ro + m.R() + Ri )) * ins_cond ) * 1000 ) ) / 1000\n",
    "    \n",
    "    if ( s in ['Wood', 'Steel', 'Other'] ):\n",
    "        m = {\n",
    "            'Ceiling'         : mGypsum,\n",
    "            'Wall'            : mGypsum,\n",
    "            'Floor'           : mPlywood,\n",
    "            'BoundaryWall'    : mGypsum,\n",
    "            'BoundaryFloor'   : mPlywood,\n",
    "            'BoundaryCeiling' : mGypsum,\n",
    "        }[t]\n",
    "        Layer= [ Material( name = ins_name, thick = d(m), cond = ins_cond, spech = ins_spech ), m ]\n",
    "    elif s == 'RC':\n",
    "        m = mConcrete\n",
    "        Layer= [ m, Material( name = ins_name, thick = d(m), cond = ins_cond, spech = ins_spech ) ]    \n",
    "    else:\n",
    "        raise ValueError\n",
    "        \n",
    "    return Layer"
   ]
  },
  {
   "cell_type": "markdown",
   "metadata": {},
   "source": [
    "#### Example 1"
   ]
  },
  {
   "cell_type": "code",
   "execution_count": 15,
   "metadata": {},
   "outputs": [
    {
     "data": {
      "text/plain": [
       "({'cond': 0.045, 'name': 'GW16K', 'spech': 13.0, 'thick': 0.074},\n",
       " {'cond': 0.22, 'name': 'GPB', 'spech': 830.0, 'thick': 0.0095})"
      ]
     },
     "execution_count": 15,
     "metadata": {},
     "output_type": "execute_result"
    }
   ],
   "source": [
    "m = convert_u_value_to_spec( structure = 'Wood', typeOfPart = 'Wall', U = 0.538 )\n",
    "vars(m[0]), vars(m[1])"
   ]
  },
  {
   "cell_type": "markdown",
   "metadata": {},
   "source": [
    "#### Example 2"
   ]
  },
  {
   "cell_type": "markdown",
   "metadata": {},
   "source": [
    "U値と断熱材厚の関係のグラフ作成"
   ]
  },
  {
   "cell_type": "code",
   "execution_count": 16,
   "metadata": {},
   "outputs": [
    {
     "data": {
      "image/png": "[encoded data removed]",
      "text/plain": [
       "<matplotlib.figure.Figure at 0x1c173aa4320>"
      ]
     },
     "metadata": {},
     "output_type": "display_data"
    }
   ],
   "source": [
    "plt.subplot(1, 2, 1)\n",
    "x=np.arange(0.05,5,0.05)\n",
    "y=[[],[],[],[],[],[],[]]\n",
    "\n",
    "wall_type = ['Ceiling','Wall','Floor','BoundaryWall','BoundaryFloor','BoundaryCeiling']\n",
    "\n",
    "for i in x:\n",
    "    for j in wall_type:\n",
    "        temp = convert_u_value_to_spec( 'Wood', j, i )\n",
    "        #print(wall_type.index(j)) \n",
    "        y[wall_type.index(j)].append(temp[0].thick)        \n",
    "        #print(y[wall_type.index(j)])\n",
    "        \n",
    "plt.title(r\"U[W/m2K]-Insulation Thickness[m]\")\n",
    "plt.plot(x,y[5],'b',label=\"W_BoundaryFloor\")\n",
    "plt.plot(x,y[4],'c',label=\"W_BoundaryWall\")\n",
    "plt.plot(x,y[3],'g',label=\"W_BoundaryCeiling\")\n",
    "plt.plot(x,y[2],'y',label=\"W_Floor\")\n",
    "plt.plot(x,y[1],'r',label=\"W_Wall\")\n",
    "plt.plot(x,y[0],'m',label=\"W_Ceiling\")\n",
    "plt.legend()\n",
    "\n",
    "plt.subplot(1, 2, 2)\n",
    "x=np.arange(0.05,5,0.05)\n",
    "y=[[],[],[],[],[],[],[]]\n",
    "for i in x:\n",
    "    for j in wall_type:\n",
    "        temp = convert_u_value_to_spec( 'RC' , j, i )\n",
    "        y[wall_type.index(j)].append(temp[1].thick)        \n",
    "    \n",
    "plt.title(r\"U[W/m2K]-Insulation Thickness[m]\")\n",
    "plt.plot(x,y[5],'b',label=\"RC_BoundaryFloor\")\n",
    "plt.plot(x,y[4],'c',label=\"RC_BoundaryWall\")\n",
    "plt.plot(x,y[3],'g',label=\"RC_BoundaryCeiling\")\n",
    "plt.plot(x,y[2],'y',label=\"RC_Floor\")\n",
    "plt.plot(x,y[1],'r',label=\"RC_Wall\")\n",
    "plt.plot(x,y[0],'m',label=\"RC_Ceiling\")\n",
    "plt.legend()\n",
    "\n",
    "plt.show()"
   ]
  },
  {
   "cell_type": "markdown",
   "metadata": {},
   "source": [
    "### 2) Wall / 開口部以外の不透明部位"
   ]
  },
  {
   "cell_type": "markdown",
   "metadata": {},
   "source": [
    "#### Outline"
   ]
  },
  {
   "cell_type": "markdown",
   "metadata": {},
   "source": [
    "- 部位のU値から壁体構成を決定する。\n",
    "- 簡易外皮入力モデルにおける開口部以外の不透明部位の面積は、壁体種別、方位および断熱構造から決定する。"
   ]
  },
  {
   "cell_type": "markdown",
   "metadata": {},
   "source": [
    "#### Input"
   ]
  },
  {
   "cell_type": "markdown",
   "metadata": {},
   "source": [
    "参照：InputDataDefinition.ipynb"
   ]
  },
  {
   "cell_type": "markdown",
   "metadata": {},
   "source": [
    "#### Output"
   ]
  },
  {
   "cell_type": "markdown",
   "metadata": {},
   "source": [
    "```\n",
    "{\n",
    "    'Name'\n",
    "    'Type'\n",
    "    'Structure'\n",
    "    'Direction'\n",
    "    'Area'\n",
    "    'Parts' : [\n",
    "        {\n",
    "            AreaRatio\n",
    "            Layers : [\n",
    "                {\n",
    "                    'Name'\n",
    "                    'Thick'\n",
    "                    'Cond'\n",
    "                    'SpecH'\n",
    "                }\n",
    "            ]\n",
    "        ]\n",
    "}\n",
    "```\n",
    "\n",
    "参照：InputDataDefinition.ipynb"
   ]
  },
  {
   "cell_type": "markdown",
   "metadata": {},
   "source": [
    "#### Function"
   ]
  },
  {
   "cell_type": "code",
   "execution_count": 17,
   "metadata": {
    "collapsed": true
   },
   "outputs": [],
   "source": [
    "def make_wall(Name, Type, Structure, Direction, UA, Area, TotalFloorArea):\n",
    "\n",
    "    #層構成を取得\n",
    "    layers = convert_u_value_to_spec( Structure, Type, UA )\n",
    "    part = {\n",
    "        'AreaRatio': 1.0,\n",
    "        'Layers'   : [ { 'Name' : l.name, 'Cond' : l.cond, 'Thick' : l.thick, 'SpecH' : l.spech } for l in layers ]\n",
    "    }\n",
    "\n",
    "    return {\n",
    "        'Name'      : Name,\n",
    "        'Type'      : Type,\n",
    "        'Structure' : Structure,\n",
    "        'Direction' : Direction,\n",
    "        'Area'      : get_design_parts_area( Area , TotalFloorArea ),\n",
    "        'Parts'     : [part]\n",
    "    }"
   ]
  },
  {
   "cell_type": "code",
   "execution_count": 18,
   "metadata": {
    "collapsed": true
   },
   "outputs": [],
   "source": [
    "def convert_wall(TotalFloorArea, InsulationType, URoof, UWall, UFloor, UDoor, **kwargs):\n",
    "    \n",
    "    #簡易外皮入力モデルにおける開口部以外の不透明部位のリストを作成\n",
    "    standard_parts = {\n",
    "        'FloorIns': [\n",
    "            { 'Name': 'Ceiling', 'Type': 'Ceiling', 'Structure': 'Wood', 'Direction': 'Top',    'UA': URoof,  'Area': 50.85 },\n",
    "            { 'Name': 'Wall_SW', 'Type': 'Wall',    'Structure': 'Wood', 'Direction': 'SW',     'UA': UWall,  'Area': 30.47 },\n",
    "            { 'Name': 'Wall_NW', 'Type': 'Wall',    'Structure': 'Wood', 'Direction': 'NW',     'UA': UWall,  'Area': 22.37 },\n",
    "            { 'Name': 'Wall_NE', 'Type': 'Wall',    'Structure': 'Wood', 'Direction': 'NE',     'UA': UWall,  'Area': 47.92 },\n",
    "            { 'Name': 'Wall_SE', 'Type': 'Wall',    'Structure': 'Wood', 'Direction': 'SE',     'UA': UWall,  'Area': 22.28 },\n",
    "            { 'Name': 'Floor',   'Type': 'Floor',   'Structure': 'Wood', 'Direction': 'Bottom', 'UA': UFloor, 'Area': 45.05 }\n",
    "        ],\n",
    "        'BaseIns': [\n",
    "            { 'Name': 'Ceiling', 'Type': 'Ceiling', 'Structure': 'Wood', 'Direction': 'Top',    'UA': URoof,  'Area': 50.85 },\n",
    "            { 'Name': 'Wall_SW', 'Type': 'Wall',    'Structure': 'Wood', 'Direction': 'SW',     'UA': UWall,  'Area': 30.47 },\n",
    "            { 'Name': 'Wall_NW', 'Type': 'Wall',    'Structure': 'Wood', 'Direction': 'NW',     'UA': UWall,  'Area': 22.37 },\n",
    "            { 'Name': 'Wall_NE', 'Type': 'Wall',    'Structure': 'Wood', 'Direction': 'NE',     'UA': UWall,  'Area': 47.92 },\n",
    "            { 'Name': 'Wall_SE', 'Type': 'Wall',    'Structure': 'Wood', 'Direction': 'SE',     'UA': UWall,  'Area': 22.28 },\n",
    "            { 'Name': 'Floor',   'Type': 'Floor',   'Structure': 'Wood', 'Direction': 'Bottom', 'UA': UFloor, 'Area': 0.00 }\n",
    "        ]\n",
    "    }[InsulationType]\n",
    "    \n",
    "    return [ make_wall(TotalFloorArea = TotalFloorArea, **f) for f in standard_parts ]"
   ]
  },
  {
   "cell_type": "markdown",
   "metadata": {},
   "source": [
    "#### Example"
   ]
  },
  {
   "cell_type": "code",
   "execution_count": 19,
   "metadata": {},
   "outputs": [
    {
     "data": {
      "text/plain": [
       "[{'Area': 67.8,\n",
       "  'Direction': 'Top',\n",
       "  'Name': 'Ceiling',\n",
       "  'Parts': [{'AreaRatio': 1.0,\n",
       "    'Layers': [{'Cond': 0.045, 'Name': 'GW16K', 'SpecH': 13.0, 'Thick': 0.0},\n",
       "     {'Cond': 0.22, 'Name': 'GPB', 'SpecH': 830.0, 'Thick': 0.0095}]}],\n",
       "  'Structure': 'Wood',\n",
       "  'Type': 'Ceiling'},\n",
       " {'Area': 40.63,\n",
       "  'Direction': 'SW',\n",
       "  'Name': 'Wall_SW',\n",
       "  'Parts': [{'AreaRatio': 1.0,\n",
       "    'Layers': [{'Cond': 0.045, 'Name': 'GW16K', 'SpecH': 13.0, 'Thick': 0.0},\n",
       "     {'Cond': 0.22, 'Name': 'GPB', 'SpecH': 830.0, 'Thick': 0.0095}]}],\n",
       "  'Structure': 'Wood',\n",
       "  'Type': 'Wall'},\n",
       " {'Area': 29.83,\n",
       "  'Direction': 'NW',\n",
       "  'Name': 'Wall_NW',\n",
       "  'Parts': [{'AreaRatio': 1.0,\n",
       "    'Layers': [{'Cond': 0.045, 'Name': 'GW16K', 'SpecH': 13.0, 'Thick': 0.0},\n",
       "     {'Cond': 0.22, 'Name': 'GPB', 'SpecH': 830.0, 'Thick': 0.0095}]}],\n",
       "  'Structure': 'Wood',\n",
       "  'Type': 'Wall'},\n",
       " {'Area': 63.89,\n",
       "  'Direction': 'NE',\n",
       "  'Name': 'Wall_NE',\n",
       "  'Parts': [{'AreaRatio': 1.0,\n",
       "    'Layers': [{'Cond': 0.045, 'Name': 'GW16K', 'SpecH': 13.0, 'Thick': 0.0},\n",
       "     {'Cond': 0.22, 'Name': 'GPB', 'SpecH': 830.0, 'Thick': 0.0095}]}],\n",
       "  'Structure': 'Wood',\n",
       "  'Type': 'Wall'},\n",
       " {'Area': 29.71,\n",
       "  'Direction': 'SE',\n",
       "  'Name': 'Wall_SE',\n",
       "  'Parts': [{'AreaRatio': 1.0,\n",
       "    'Layers': [{'Cond': 0.045, 'Name': 'GW16K', 'SpecH': 13.0, 'Thick': 0.0},\n",
       "     {'Cond': 0.22, 'Name': 'GPB', 'SpecH': 830.0, 'Thick': 0.0095}]}],\n",
       "  'Structure': 'Wood',\n",
       "  'Type': 'Wall'},\n",
       " {'Area': 60.07,\n",
       "  'Direction': 'Bottom',\n",
       "  'Name': 'Floor',\n",
       "  'Parts': [{'AreaRatio': 1.0,\n",
       "    'Layers': [{'Cond': 0.045, 'Name': 'GW16K', 'SpecH': 13.0, 'Thick': 0.0},\n",
       "     {'Cond': 0.16, 'Name': 'PED', 'SpecH': 720.0, 'Thick': 0.012}]}],\n",
       "  'Structure': 'Wood',\n",
       "  'Type': 'Floor'}]"
      ]
     },
     "execution_count": 19,
     "metadata": {},
     "output_type": "execute_result"
    }
   ],
   "source": [
    "convert_wall(\n",
    "    TotalFloorArea = 120.0,\n",
    "    InsulationType = 'FloorIns',\n",
    "    URoof = 7.7,\n",
    "    UWall = 6.67,\n",
    "    UFloor = 5.27,\n",
    "    UDoor = 4.65,\n",
    ")"
   ]
  },
  {
   "cell_type": "markdown",
   "metadata": {},
   "source": [
    "### 3) 日よけの計算"
   ]
  },
  {
   "cell_type": "markdown",
   "metadata": {},
   "source": [
    "#### Outline"
   ]
  },
  {
   "cell_type": "markdown",
   "metadata": {},
   "source": [
    "- 取得日射熱補正係数、地域区分、方位、開口部高さ、窓上端と外部日除けの距離から出巾を計算する関数を定義する。\n",
    "- 取得日射熱補正係数を求める次式を出巾$z$について求める。式中の係数$a$,$b$,$c$,$d$は、地域の区分及び方位により、表1および表2に示す値による。\n",
    "- 方位は簡易外皮入力モデルの４方位（南東、南西、北西、北東）で固定とする。\n",
    "- 出巾$z$の上限は5mとする。"
   ]
  },
  {
   "cell_type": "markdown",
   "metadata": {},
   "source": [
    "$$\n",
    "f = a \\times \\left( b + c \\times \\frac{ d \\times y_{1} + y_{2} }{ z } \\right)\n",
    "$$"
   ]
  },
  {
   "cell_type": "markdown",
   "metadata": {},
   "source": [
    "$f$: 取得日射熱補正係数, -  \n",
    "$y_{1}$: 日除け下端から窓上端までの垂直方向の距離, m  \n",
    "$y_{2}$: 窓の開口高さ, m  \n",
    "$z$: 壁面からの日除けの出巾, m"
   ]
  },
  {
   "cell_type": "markdown",
   "metadata": {},
   "source": [
    "- 表1 取得日射熱補正係数を求める式の係数（暖房期）\n",
    "\n",
    "| 季節 | 地域区分 | 方位 | a | b | c | d |\n",
    "|:---:|:---:|:---:|:---:|:---:|:---:|:---:|\n",
    "| 暖房期 | 1地域～7地域 | 南東(SE) | 0.01 | 5 | 20 | 3 |\n",
    "| 暖房期 | 1地域～7地域 | 南西(SW) | 0.01 | 5 | 20 | 3 |\n",
    "| 暖房期 | 1地域～7地域 | 北西(NW) | 0.01 | 10 | 15 | 2 |\n",
    "| 暖房期 | 1地域～7地域 | 北東(NE) | 0.01 | 10 | 15 | 2 |"
   ]
  },
  {
   "cell_type": "markdown",
   "metadata": {},
   "source": [
    "- 表2 取得日射熱補正係数を求める式の係数（冷房期）\n",
    "\n",
    "| 季節 | 地域区分 | 方位 | a | b | c | d |\n",
    "|:---:|:---:|:---:|:---:|:---:|:---:|:---:|\n",
    "| 冷房期 | 1地域～7地域 | 南東(SE) | 0.01 | 16 | 24 | 2 |\n",
    "| 冷房期 | 1地域～7地域 | 南西(SW) | 0.01 | 16 | 24 | 2 |\n",
    "| 冷房期 | 1地域～7地域 | 北西(NW) | 0.01 | 16 | 24 | 2 |\n",
    "| 冷房期 | 1地域～7地域 | 北東(NE) | 0.01 | 16 | 24 | 2 |\n",
    "| 冷房期 | 8地域 | 南東(SE) | 0.01 | 16 | 19 | 2 |\n",
    "| 冷房期 | 8地域 | 南西(SW) | 0.01 | 16 | 19 | 2 |\n",
    "| 冷房期 | 8地域 | 北西(NW) | 0.01 | 16 | 24 | 2 |\n",
    "| 冷房期 | 8地域 | 北東(NE) | 0.01 | 16 | 24 | 2 |"
   ]
  },
  {
   "cell_type": "markdown",
   "metadata": {},
   "source": [
    "#### Function 1"
   ]
  },
  {
   "cell_type": "markdown",
   "metadata": {},
   "source": [
    "##### 取得日射熱補正係数を求める式の係数を取得する関数\n",
    "\n",
    "- 季節（暖房 or 冷房）、地域、方位から取得日射熱補正係数を求める式の係数$a,b,c,d$を決定する。"
   ]
  },
  {
   "cell_type": "code",
   "execution_count": 20,
   "metadata": {
    "collapsed": true
   },
   "outputs": [],
   "source": [
    "# 取得日射熱補正係数を求める式の係数を取得する関数\n",
    "def get_coefficients( season, region, direction ):\n",
    "    # 暖房期\n",
    "    if season == 'heating':\n",
    "        if region <= 7:\n",
    "            a, b, c, d = {\n",
    "                'SE': (0.01, 5, 20, 3),\n",
    "                'SW': (0.01, 5, 20, 3),\n",
    "                'NW': (0.01, 10, 15, 2),\n",
    "                'NE': (0.01, 10, 15, 2)\n",
    "            }[direction]\n",
    "        else:\n",
    "            raise ValueError\n",
    "        \n",
    "    # 冷房期\n",
    "    elif season == 'cooling':\n",
    "        if region <= 7:\n",
    "            a, b, c, d = {\n",
    "                'SE': (0.01, 16, 24, 2),\n",
    "                'SW': (0.01, 16, 24, 2),\n",
    "                'NW': (0.01, 16, 24, 2),\n",
    "                'NE': (0.01, 16, 24, 2)\n",
    "            }[direction]\n",
    "        elif region == 8:\n",
    "            a, b, c, d = {\n",
    "                'SE': (0.01, 16, 19, 2),\n",
    "                'SW': (0.01, 16, 19, 2),\n",
    "                'NW': (0.01, 16, 24, 2),\n",
    "                'NE': (0.01, 16, 24, 2)\n",
    "            }[direction]\n",
    "        else:\n",
    "            raise ValueError\n",
    "        \n",
    "    # 例外処理\n",
    "    else:\n",
    "        raise ValueError\n",
    "        \n",
    "    return a, b, c, d"
   ]
  },
  {
   "cell_type": "markdown",
   "metadata": {},
   "source": [
    "#### Function 2"
   ]
  },
  {
   "cell_type": "markdown",
   "metadata": {},
   "source": [
    "##### 出巾を計算する関数\n",
    "- 出巾$z$の上限は5mとする。"
   ]
  },
  {
   "cell_type": "code",
   "execution_count": 21,
   "metadata": {
    "collapsed": true
   },
   "outputs": [],
   "source": [
    "def calc_overhang_width(a, b, c, d, y1, y2, f):\n",
    "    max_z = 5.0 # 出巾の最大値を設定\n",
    "    if ( ( f / a ) - b) <= 0: \n",
    "        return max_z # 分母が0以下になる場合は出巾=最大値とする。\n",
    "    else:\n",
    "        return min( ( c * ( d * y1 + y2) ) / ( ( f / a ) - b ), max_z )\n",
    "        # 出巾が最大値以上になる場合は、最大値を上限とする"
   ]
  },
  {
   "cell_type": "markdown",
   "metadata": {},
   "source": [
    "#### Function 3 (for heating)"
   ]
  },
  {
   "cell_type": "markdown",
   "metadata": {},
   "source": [
    "##### 暖房期における出巾を計算する関数\n",
    "- 取得日射熱補正係数の上限は0.72とする。\n",
    "- 出巾の計算結果は切り上げの処理を行う。\n",
    "- 8地域では暖房期の出巾が定義されていないため、エラーとする。"
   ]
  },
  {
   "cell_type": "code",
   "execution_count": 22,
   "metadata": {
    "collapsed": true
   },
   "outputs": [],
   "source": [
    "def get_overhang_width_for_heating(region, direction, distance, height, f_heating):\n",
    "    # region as integer: 1 to 7\n",
    "    # direction as string: NE, SE, SW, NW\n",
    "    # distance: vertical distance from bottom of sunshade to top of window (m)\n",
    "    # height: window height (m)\n",
    "    # f_heating: solar heat correction factor in heating period (-)　暖房期の取得日射熱補正係数\n",
    "\n",
    "    y1 = distance\n",
    "    y2 = height\n",
    "    \n",
    "    # 取得日射熱補正係数を調整\n",
    "    f_h = min( f_heating, 0.72 )\n",
    "    \n",
    "    # 出巾を計算（暖房期の出巾は切り上げ）\n",
    "    if region >= 8:\n",
    "        raise ValueError('8地域は暖房期の出巾は定義されていません')    \n",
    "    \n",
    "    a_h, b_h, c_h, d_h = get_coefficients( 'heating', region, direction )\n",
    "    \n",
    "    return math.ceil( calc_overhang_width( a_h, b_h, c_h, d_h, y1, y2, f_h ) * 1000 ) / 1000"
   ]
  },
  {
   "cell_type": "markdown",
   "metadata": {},
   "source": [
    "#### Function 3 (for cooling)"
   ]
  },
  {
   "cell_type": "markdown",
   "metadata": {},
   "source": [
    "##### 冷房期における出巾を計算する関数\n",
    "- 取得日射熱補正係数の上限は0.93とする。\n",
    "- 出巾の計算結果は切り捨ての処理を行う。"
   ]
  },
  {
   "cell_type": "code",
   "execution_count": 23,
   "metadata": {
    "collapsed": true
   },
   "outputs": [],
   "source": [
    "def get_overhang_width_for_cooling(region, direction, distance, height, f_cooling):\n",
    "    # region as integer: 1 to 8\n",
    "    # direction as string: NE, SE, SW, NW\n",
    "    # distance: vertical distance from bottom of sunshade to top of window (m)\n",
    "    # height: window height (m)\n",
    "    # f_cooling: solar heat correction factor in heating period (-)　冷房期の取得日射熱補正係数\n",
    "\n",
    "    y1 = distance\n",
    "    y2 = height\n",
    "    \n",
    "    # 取得日射熱補正係数を調整\n",
    "    f_c = min( f_cooling, 0.93 )\n",
    "    \n",
    "    # 出巾を計算（冷房期の出巾は切り捨て）\n",
    "    a_c, b_c, c_c, d_c = get_coefficients( 'cooling', region, direction )\n",
    "    \n",
    "    return math.floor( calc_overhang_width( a_c, b_c, c_c, d_c, y1, y2, f_c ) * 1000 ) / 1000"
   ]
  },
  {
   "cell_type": "markdown",
   "metadata": {},
   "source": [
    "#### Example 1"
   ]
  },
  {
   "cell_type": "code",
   "execution_count": 24,
   "metadata": {},
   "outputs": [
    {
     "data": {
      "text/plain": [
       "0.275"
      ]
     },
     "execution_count": 24,
     "metadata": {},
     "output_type": "execute_result"
    }
   ],
   "source": [
    "# 暖房期\n",
    "get_overhang_width_for_heating(6, 'NE', 0, 1.1, 0.7)"
   ]
  },
  {
   "cell_type": "code",
   "execution_count": 25,
   "metadata": {},
   "outputs": [
    {
     "data": {
      "text/plain": [
       "0.488"
      ]
     },
     "execution_count": 25,
     "metadata": {},
     "output_type": "execute_result"
    }
   ],
   "source": [
    "# 冷房期\n",
    "get_overhang_width_for_cooling(6, 'NE', 0, 1.1, 0.7)"
   ]
  },
  {
   "cell_type": "markdown",
   "metadata": {},
   "source": [
    "#### Example 2"
   ]
  },
  {
   "cell_type": "markdown",
   "metadata": {},
   "source": [
    "##### 取得日射熱補正係数と日除けの出巾のグラフ描画"
   ]
  },
  {
   "cell_type": "code",
   "execution_count": 26,
   "metadata": {},
   "outputs": [
    {
     "data": {
      "image/png": "[encoded data removed]",
      "text/plain": [
       "<matplotlib.figure.Figure at 0x1c173a96240>"
      ]
     },
     "metadata": {},
     "output_type": "display_data"
    },
    {
     "data": {
      "image/png": "[encoded data removed]",
      "text/plain": [
       "<matplotlib.figure.Figure at 0x1c173958240>"
      ]
     },
     "metadata": {},
     "output_type": "display_data"
    }
   ],
   "source": [
    "# 取得日射熱補正係数の配列を用意\n",
    "coefficients = np.arange( 0.0, 1.01, 0.01 )\n",
    "\n",
    "windows = [\n",
    "    {'region': 6, 'direction': 'SE'},\n",
    "    {'region': 6, 'direction': 'NE'},\n",
    "    {'region': 8, 'direction': 'SE'},\n",
    "    {'region': 8, 'direction': 'NE'}\n",
    "]\n",
    "\n",
    "# 暖房期の高階関数（他の関数を引数または戻り値とする関数）を定義\n",
    "def makeFFunction_forHeating(region, direction, y1, y2):\n",
    "    def returnFunction_forHeating(f):\n",
    "        return get_overhang_width_for_heating(region, direction, y1, y2, f)\n",
    "    return returnFunction_forHeating\n",
    "    \n",
    "# 暖房期の出巾のグラフ描画 \n",
    "for window in windows:\n",
    "    if window['region'] >= 8:\n",
    "        continue\n",
    "    else:\n",
    "        g_h = makeFFunction_forHeating(window['region'], window['direction'], 0, 1.1)\n",
    "        z_h = np.vectorize(g_h)(coefficients)\n",
    "        label =  'Region:' + str(window['region']) + ', Direction:' + window['direction']\n",
    "        plt.plot( coefficients, z_h, label = label)\n",
    "    \n",
    "plt.title('Heating Period')\n",
    "plt.xlabel('Solar heat correction factor[-]')\n",
    "plt.ylabel('Overhang width in heating period[m]')\n",
    "plt.ylim(0,10)\n",
    "plt.legend()\n",
    "plt.show()\n",
    "\n",
    "# 冷房期の高階関数を定義\n",
    "def makeFFunction_forCooling(region, direction, y1, y2):\n",
    "    def returnFunction_forCooling(f):\n",
    "        return get_overhang_width_for_cooling(region, direction, y1, y2, f)\n",
    "    return returnFunction_forCooling\n",
    "\n",
    "# 冷房期の出巾のグラフ描画 \n",
    "for window in windows:\n",
    "    g_c = makeFFunction_forCooling(window['region'], window['direction'], 0, 1.1)\n",
    "    z_c = np.vectorize(g_c)(coefficients)\n",
    "    label =  'Region:' + str(window['region']) + ', Direction:' + window['direction']\n",
    "    plt.plot( coefficients, z_c, label = label)\n",
    "    \n",
    "plt.title('Cooling Period')\n",
    "plt.xlabel('Solar heat correction factor[-]')\n",
    "plt.ylabel('Overhang width in cooling period[m]')\n",
    "plt.ylim(0,10)\n",
    "plt.legend()\n",
    "plt.show()"
   ]
  },
  {
   "cell_type": "markdown",
   "metadata": {},
   "source": [
    "### 4) Windows / 開口部の透明部位"
   ]
  },
  {
   "cell_type": "markdown",
   "metadata": {},
   "source": [
    "#### Outline"
   ]
  },
  {
   "cell_type": "markdown",
   "metadata": {},
   "source": [
    "開口部名称、日射熱取得率(-)、熱貫流率(W/(m<sup>2</sup>・K))の情報は維持する。  \n",
    "簡易外皮入力モデルにおける開口部の透明部位の面積は、方位から決定する。"
   ]
  },
  {
   "cell_type": "markdown",
   "metadata": {},
   "source": [
    "#### Input"
   ]
  },
  {
   "cell_type": "markdown",
   "metadata": {},
   "source": [
    "参照：InputDataDefinition.ipynb"
   ]
  },
  {
   "cell_type": "markdown",
   "metadata": {},
   "source": [
    "#### Output"
   ]
  },
  {
   "cell_type": "markdown",
   "metadata": {},
   "source": [
    "```\n",
    "{\n",
    "    'Name'\n",
    "    'Direction'\n",
    "    'Area'\n",
    "    'Type'\n",
    "    'EtaCooling'\n",
    "    'EtaHeating'\n",
    "    'UW'\n",
    "    'IsSunshadeInput'\n",
    "    'Y2'\n",
    "    'Z'\n",
    "    'Y1'\n",
    "}\n",
    "```\n",
    "\n",
    "参照：InputDataDefinition.ipynb"
   ]
  },
  {
   "cell_type": "markdown",
   "metadata": {},
   "source": [
    "#### Function"
   ]
  },
  {
   "cell_type": "code",
   "execution_count": 27,
   "metadata": {
    "collapsed": true
   },
   "outputs": [],
   "source": [
    "def make_window(Name, Direction, Area, TotalFloorArea, EtaDC, EtaDH, UWnd, Region, \n",
    "                IsInputFValue = False, FValueC = None, FValueH = None, y1 = None, y2 = None, **kwargs):\n",
    "\n",
    "    window = {\n",
    "        'Name'       : Name,\n",
    "        'Direction'  : Direction,\n",
    "        'Area'       : get_design_parts_area( Area , TotalFloorArea ),\n",
    "        'TypeWindow' : 'Single',\n",
    "        'etaCooling' : EtaDC,\n",
    "        'etaHeating' : EtaDH,\n",
    "        'UW'         : UWnd,\n",
    "    }\n",
    "\n",
    "    # 日除けの設定\n",
    "    if IsInputFValue == True :\n",
    "        window['IsSunshadeInput'] = True\n",
    "        window['Y1'] = y1\n",
    "        window['Y2'] = y2\n",
    "\n",
    "        if Region < 8:\n",
    "            z_h = get_overhang_width_for_heating( Region, Direction, y1, y2, FValueH )\n",
    "            z_c = get_overhang_width_for_cooling( Region, Direction, y1, y2, FValueC )\n",
    "            window['z'] = round_number( ( z_h + z_c ) / 2 , 3 )\n",
    "        else:\n",
    "            z_c = get_overhang_width_for_cooling( Region, Direction, y1, y2, FValueC )\n",
    "            window['z'] = z_c\n",
    "\n",
    "    else :\n",
    "        window['IsSunshadeInput'] = False\n",
    "\n",
    "    return window"
   ]
  },
  {
   "cell_type": "code",
   "execution_count": 28,
   "metadata": {
    "collapsed": true
   },
   "outputs": [],
   "source": [
    "def convert_window( TotalFloorArea, EtaDC, EtaDH, UWnd, Region, FValueC, FValueH, **kwargs ):\n",
    "    \n",
    "    #簡易外皮入力モデルにおける開口部の透明部位のリストを作成\n",
    "    standard_parts = [\n",
    "        {'Name':'WindowSW', 'Direction':'SW', 'Area': 22.69 },\n",
    "        {'Name':'WindowNW', 'Direction':'NW', 'Area':  2.38 },\n",
    "        {'Name':'WindowNE', 'Direction':'NE', 'Area':  3.63 },\n",
    "        {'Name':'WindowSE', 'Direction':'SE', 'Area':  4.37 }\n",
    "    ]\n",
    "    \n",
    "    # 簡易外皮入力モデルにおける日除けの寸法を設定\n",
    "    y1 = 0    # 窓上端と外部日除けの距離(m)   \n",
    "    y2 = 1.1  # 開口部高さ(m), 腰高窓を想定\n",
    "    \n",
    "    return [ make_window(\n",
    "                TotalFloorArea = TotalFloorArea,\n",
    "                EtaDC = EtaDC,\n",
    "                EtaDH = EtaDH,\n",
    "                UWnd = UWnd,\n",
    "                Region = Region,\n",
    "                FValueC = FValueC, \n",
    "                FValueH = FValueH,\n",
    "                y1 = y1,\n",
    "                y2 = y2,\n",
    "                **f) \n",
    "            for f in standard_parts]"
   ]
  },
  {
   "cell_type": "markdown",
   "metadata": {},
   "source": [
    "#### Example"
   ]
  },
  {
   "cell_type": "code",
   "execution_count": 29,
   "metadata": {},
   "outputs": [
    {
     "data": {
      "text/plain": [
       "[{'Area': 30.25,\n",
       "  'Direction': 'SW',\n",
       "  'IsSunshadeInput': False,\n",
       "  'Name': 'WindowSW',\n",
       "  'TypeWindow': 'Single',\n",
       "  'UW': 3.49,\n",
       "  'etaCooling': 0.51,\n",
       "  'etaHeating': 0.51},\n",
       " {'Area': 3.17,\n",
       "  'Direction': 'NW',\n",
       "  'IsSunshadeInput': False,\n",
       "  'Name': 'WindowNW',\n",
       "  'TypeWindow': 'Single',\n",
       "  'UW': 3.49,\n",
       "  'etaCooling': 0.51,\n",
       "  'etaHeating': 0.51},\n",
       " {'Area': 4.84,\n",
       "  'Direction': 'NE',\n",
       "  'IsSunshadeInput': False,\n",
       "  'Name': 'WindowNE',\n",
       "  'TypeWindow': 'Single',\n",
       "  'UW': 3.49,\n",
       "  'etaCooling': 0.51,\n",
       "  'etaHeating': 0.51},\n",
       " {'Area': 5.83,\n",
       "  'Direction': 'SE',\n",
       "  'IsSunshadeInput': False,\n",
       "  'Name': 'WindowSE',\n",
       "  'TypeWindow': 'Single',\n",
       "  'UW': 3.49,\n",
       "  'etaCooling': 0.51,\n",
       "  'etaHeating': 0.51}]"
      ]
     },
     "execution_count": 29,
     "metadata": {},
     "output_type": "execute_result"
    }
   ],
   "source": [
    "convert_window(\n",
    "    Region = 6,\n",
    "    MainOccupantRoomFloorArea = 30.0,\n",
    "    OtherOccupantRoomFloorArea = 60.0,\n",
    "    TotalFloorArea = 120.0,\n",
    "    UWnd = 3.49,\n",
    "    EtaDC = 0.51,       \n",
    "    EtaDH = 0.51, \n",
    "    IsInputFValue = True, \n",
    "    FValueC = 0.9,\n",
    "    FValueH = 0.7\n",
    ")"
   ]
  },
  {
   "cell_type": "markdown",
   "metadata": {},
   "source": [
    "### 4) Doors / 開口部の不透明部位"
   ]
  },
  {
   "cell_type": "markdown",
   "metadata": {},
   "source": [
    "#### Outline"
   ]
  },
  {
   "cell_type": "markdown",
   "metadata": {},
   "source": [
    "- 開口部の不透明部位（ドア等）の情報を設定する。\n",
    "- 簡易外皮入力モデルにおける開口部の不透明部位の面積は、方位から決定する。"
   ]
  },
  {
   "cell_type": "markdown",
   "metadata": {},
   "source": [
    "#### Input"
   ]
  },
  {
   "cell_type": "markdown",
   "metadata": {},
   "source": [
    "参照：InputDataDefinition.ipynb"
   ]
  },
  {
   "cell_type": "markdown",
   "metadata": {},
   "source": [
    "#### Output"
   ]
  },
  {
   "cell_type": "markdown",
   "metadata": {},
   "source": [
    "```\n",
    "{\n",
    "    'Name'\n",
    "    'Direction'\n",
    "    'Area'\n",
    "    'U'\n",
    "    'IsSunshadeInput'\n",
    "}\n",
    "```\n",
    "\n",
    "\n",
    "参照：InputDataDefinition.ipynb"
   ]
  },
  {
   "cell_type": "markdown",
   "metadata": {},
   "source": [
    "#### Function"
   ]
  },
  {
   "cell_type": "code",
   "execution_count": 30,
   "metadata": {
    "collapsed": true
   },
   "outputs": [],
   "source": [
    "def make_door(Name, Direction, Area, TotalFloorArea, UDoor):\n",
    "    return {\n",
    "        'Name'           : Name,\n",
    "        'Direction'      : Direction,\n",
    "        'Area'           : get_design_parts_area( Area , TotalFloorArea ),\n",
    "        'U'              : UDoor,\n",
    "        'IsSunshadeInput': False\n",
    "    }"
   ]
  },
  {
   "cell_type": "code",
   "execution_count": 31,
   "metadata": {
    "collapsed": true
   },
   "outputs": [],
   "source": [
    "def convert_door(TotalFloorArea, UDoor, **kwargs):\n",
    "    \n",
    "    #簡易外皮入力モデルにおける開口部の不透明部位のリストを作成\n",
    "    standard_parts = [\n",
    "        {'Name': 'DoorNW', 'Direction':'NW', 'Area': 1.89 },\n",
    "        {'Name': 'DoorNE', 'Direction':'NE', 'Area': 1.62 }\n",
    "    ]\n",
    "    \n",
    "    return [ make_door(TotalFloorArea = TotalFloorArea, UDoor = UDoor, **f) for f in standard_parts ]"
   ]
  },
  {
   "cell_type": "markdown",
   "metadata": {},
   "source": [
    "#### Example"
   ]
  },
  {
   "cell_type": "code",
   "execution_count": 32,
   "metadata": {},
   "outputs": [
    {
     "data": {
      "text/plain": [
       "[{'Area': 2.52,\n",
       "  'Direction': 'NW',\n",
       "  'IsSunshadeInput': False,\n",
       "  'Name': 'DoorNW',\n",
       "  'U': 2.33},\n",
       " {'Area': 2.16,\n",
       "  'Direction': 'NE',\n",
       "  'IsSunshadeInput': False,\n",
       "  'Name': 'DoorNE',\n",
       "  'U': 2.33}]"
      ]
     },
     "execution_count": 32,
     "metadata": {},
     "output_type": "execute_result"
    }
   ],
   "source": [
    "convert_door(\n",
    "    TotalFloorArea = 120.0,\n",
    "    UDoor = 2.33,\n",
    ")"
   ]
  },
  {
   "cell_type": "markdown",
   "metadata": {},
   "source": [
    "### 5) Earth Floor Perimeters / 土間床等の外周部の線熱橋"
   ]
  },
  {
   "cell_type": "markdown",
   "metadata": {},
   "source": [
    "#### Outline"
   ]
  },
  {
   "cell_type": "markdown",
   "metadata": {},
   "source": [
    "- 土間床（玄関および玄関以外）の外周部の線熱橋の情報を設定する。"
   ]
  },
  {
   "cell_type": "markdown",
   "metadata": {},
   "source": [
    "#### Input"
   ]
  },
  {
   "cell_type": "markdown",
   "metadata": {},
   "source": [
    "参照：InputDataDefinition.ipynb"
   ]
  },
  {
   "cell_type": "markdown",
   "metadata": {},
   "source": [
    "#### Output"
   ]
  },
  {
   "cell_type": "markdown",
   "metadata": {},
   "source": [
    "```\n",
    "data = {\n",
    "    'Name'\n",
    "    'Direction'\n",
    "    'Length'\n",
    "    'Psi'\n",
    "}\n",
    "```\n",
    "\n",
    "参照：InputDataDefinition.ipynb"
   ]
  },
  {
   "cell_type": "markdown",
   "metadata": {},
   "source": [
    "#### Function"
   ]
  },
  {
   "cell_type": "code",
   "execution_count": 33,
   "metadata": {
    "collapsed": true
   },
   "outputs": [],
   "source": [
    "def make_earth_floor(Name, Direction, Length, Psi, TotalFloorArea):\n",
    "    # f = standard_earth_floor\n",
    "    return {\n",
    "        'Name'      : Name,\n",
    "        'Direction' : Direction,\n",
    "        'Length'    : get_design_parts_area( Length , TotalFloorArea ),\n",
    "        'Psi'       : Psi\n",
    "    }"
   ]
  },
  {
   "cell_type": "code",
   "execution_count": 34,
   "metadata": {
    "collapsed": true
   },
   "outputs": [],
   "source": [
    "def convert_earthfloor_perimeters( InsulationType, TotalFloorArea, IsInputPsiBase = False, PsiBaseOthers = None, PsiBaseEntrance = None, **kawrgs ):\n",
    "    \n",
    "    # 線熱貫流率を設定\n",
    "    psi_other = PsiBaseOthers if IsInputPsiBase == True else 1.8\n",
    "    psi_entrance = PsiBaseEntrance if IsInputPsiBase == True else 1.8\n",
    "    \n",
    "    #簡易外皮入力モデルにおける土間床等の外周部リストを作成\n",
    "    standard_earth_floors = {\n",
    "        'FloorIns': [\n",
    "            { 'Name' : 'Other_NW',       'Direction' : 'NW',            'Length': 1.82, 'Psi': psi_other },\n",
    "            { 'Name' : 'Other_NE',       'Direction' : 'NE',            'Length': 1.82, 'Psi': psi_other },\n",
    "            { 'Name' : 'Other_floor',    'Direction' : 'OpenBackFloor', 'Length': 3.64, 'Psi': psi_other },\n",
    "            { 'Name' : 'Entrance_NW',    'Direction' : 'NW',            'Length': 1.82, 'Psi': psi_entrance },\n",
    "            { 'Name' : 'Entrance_NE',    'Direction' : 'NE',            'Length': 1.37, 'Psi': psi_entrance },\n",
    "            { 'Name' : 'Entrance_floor', 'Direction' : 'OpenBackFloor', 'Length': 3.19, 'Psi': psi_entrance }\n",
    "        ],\n",
    "        'BaseIns': [\n",
    "            { 'Name' : 'Other_SW',    'Direction' : 'SW', 'Length': 10.61, 'Psi': psi_other },\n",
    "            { 'Name' : 'Other_NW',    'Direction' : 'NW', 'Length':  2.97, 'Psi': psi_other },\n",
    "            { 'Name' : 'Other_NE',    'Direction' : 'NE', 'Length':  9.24, 'Psi': psi_other },\n",
    "            { 'Name' : 'Other_SE',    'Direction' : 'SE', 'Length':  4.79, 'Psi': psi_other },\n",
    "            { 'Name' : 'Entrance_NW', 'Direction' : 'NW', 'Length':  1.82, 'Psi': psi_entrance },\n",
    "            { 'Name' : 'Entrance_NE', 'Direction' : 'NE', 'Length':  1.37, 'Psi': psi_entrance },\n",
    "        ]\n",
    "    }[InsulationType]\n",
    "\n",
    "    return [ make_earth_floor(TotalFloorArea = TotalFloorArea,**f) for f in standard_earth_floors ]"
   ]
  },
  {
   "cell_type": "markdown",
   "metadata": {},
   "source": [
    "#### Example"
   ]
  },
  {
   "cell_type": "code",
   "execution_count": 35,
   "metadata": {},
   "outputs": [
    {
     "data": {
      "text/plain": [
       "[{'Direction': 'NW', 'Length': 2.43, 'Name': 'Other_NW', 'Psi': 1.8},\n",
       " {'Direction': 'NE', 'Length': 2.43, 'Name': 'Other_NE', 'Psi': 1.8},\n",
       " {'Direction': 'OpenBackFloor',\n",
       "  'Length': 4.85,\n",
       "  'Name': 'Other_floor',\n",
       "  'Psi': 1.8},\n",
       " {'Direction': 'NW', 'Length': 2.43, 'Name': 'Entrance_NW', 'Psi': 1.8},\n",
       " {'Direction': 'NE', 'Length': 1.83, 'Name': 'Entrance_NE', 'Psi': 1.8},\n",
       " {'Direction': 'OpenBackFloor',\n",
       "  'Length': 4.25,\n",
       "  'Name': 'Entrance_floor',\n",
       "  'Psi': 1.8}]"
      ]
     },
     "execution_count": 35,
     "metadata": {},
     "output_type": "execute_result"
    }
   ],
   "source": [
    "convert_earthfloor_perimeters( \n",
    "    InsulationType = 'FloorIns',\n",
    "    TotalFloorArea = 120.0,\n",
    "    IsInputPsiBase = False\n",
    ")"
   ]
  },
  {
   "cell_type": "markdown",
   "metadata": {},
   "source": [
    "## 3. Lv2入力情報のコンバート（統合）"
   ]
  },
  {
   "cell_type": "markdown",
   "metadata": {},
   "source": [
    "- 1)共通情報、2)開口部以外の不透明部位、3)開口部の透明部位、4)開口部の不透明部位、5)土間床等の外周部の線熱橋、の各コンバート関数を統合し、Lv1の入力情報をLv2の入力情報にコンバートする。"
   ]
  },
  {
   "cell_type": "code",
   "execution_count": 36,
   "metadata": {
    "collapsed": true
   },
   "outputs": [],
   "source": [
    "def convert(d):\n",
    "    d_common = convert_common(**d)\n",
    "    d_walls = convert_wall(**d)\n",
    "    d_windows = convert_window(**d)\n",
    "    d_doors = convert_door(**d)\n",
    "    d_perimeters = convert_earthfloor_perimeters(**d)\n",
    "    return { \n",
    "        'Common': d_common,\n",
    "        'Walls' : d_walls,\n",
    "        'Windows' : d_windows,\n",
    "        'Doors' : d_doors,\n",
    "        'EarthfloorPerimeters' : d_perimeters\n",
    "    }"
   ]
  },
  {
   "cell_type": "markdown",
   "metadata": {},
   "source": [
    "### Example"
   ]
  },
  {
   "cell_type": "code",
   "execution_count": 37,
   "metadata": {},
   "outputs": [
    {
     "data": {
      "text/plain": [
       "{'Common': {'IsSimplifiedInput': True,\n",
       "  'MainOccupantRoomFloorArea': 30.0,\n",
       "  'OtherOccupantRoomFloorArea': 60.0,\n",
       "  'Region': 6,\n",
       "  'TotalFloorArea': 120.0},\n",
       " 'Doors': [{'Area': 2.52,\n",
       "   'Direction': 'NW',\n",
       "   'IsSunshadeInput': False,\n",
       "   'Name': 'DoorNW',\n",
       "   'U': 4.65},\n",
       "  {'Area': 2.16,\n",
       "   'Direction': 'NE',\n",
       "   'IsSunshadeInput': False,\n",
       "   'Name': 'DoorNE',\n",
       "   'U': 4.65}],\n",
       " 'EarthfloorPerimeters': [{'Direction': 'NW',\n",
       "   'Length': 2.43,\n",
       "   'Name': 'Other_NW',\n",
       "   'Psi': 1.8},\n",
       "  {'Direction': 'NE', 'Length': 2.43, 'Name': 'Other_NE', 'Psi': 1.8},\n",
       "  {'Direction': 'OpenBackFloor',\n",
       "   'Length': 4.85,\n",
       "   'Name': 'Other_floor',\n",
       "   'Psi': 1.8},\n",
       "  {'Direction': 'NW', 'Length': 2.43, 'Name': 'Entrance_NW', 'Psi': 1.8},\n",
       "  {'Direction': 'NE', 'Length': 1.83, 'Name': 'Entrance_NE', 'Psi': 1.8},\n",
       "  {'Direction': 'OpenBackFloor',\n",
       "   'Length': 4.25,\n",
       "   'Name': 'Entrance_floor',\n",
       "   'Psi': 1.8}],\n",
       " 'Walls': [{'Area': 67.8,\n",
       "   'Direction': 'Top',\n",
       "   'Name': 'Ceiling',\n",
       "   'Parts': [{'AreaRatio': 1.0,\n",
       "     'Layers': [{'Cond': 0.045, 'Name': 'GW16K', 'SpecH': 13.0, 'Thick': 0.0},\n",
       "      {'Cond': 0.22, 'Name': 'GPB', 'SpecH': 830.0, 'Thick': 0.0095}]}],\n",
       "   'Structure': 'Wood',\n",
       "   'Type': 'Ceiling'},\n",
       "  {'Area': 40.63,\n",
       "   'Direction': 'SW',\n",
       "   'Name': 'Wall_SW',\n",
       "   'Parts': [{'AreaRatio': 1.0,\n",
       "     'Layers': [{'Cond': 0.045, 'Name': 'GW16K', 'SpecH': 13.0, 'Thick': 0.0},\n",
       "      {'Cond': 0.22, 'Name': 'GPB', 'SpecH': 830.0, 'Thick': 0.0095}]}],\n",
       "   'Structure': 'Wood',\n",
       "   'Type': 'Wall'},\n",
       "  {'Area': 29.83,\n",
       "   'Direction': 'NW',\n",
       "   'Name': 'Wall_NW',\n",
       "   'Parts': [{'AreaRatio': 1.0,\n",
       "     'Layers': [{'Cond': 0.045, 'Name': 'GW16K', 'SpecH': 13.0, 'Thick': 0.0},\n",
       "      {'Cond': 0.22, 'Name': 'GPB', 'SpecH': 830.0, 'Thick': 0.0095}]}],\n",
       "   'Structure': 'Wood',\n",
       "   'Type': 'Wall'},\n",
       "  {'Area': 63.89,\n",
       "   'Direction': 'NE',\n",
       "   'Name': 'Wall_NE',\n",
       "   'Parts': [{'AreaRatio': 1.0,\n",
       "     'Layers': [{'Cond': 0.045, 'Name': 'GW16K', 'SpecH': 13.0, 'Thick': 0.0},\n",
       "      {'Cond': 0.22, 'Name': 'GPB', 'SpecH': 830.0, 'Thick': 0.0095}]}],\n",
       "   'Structure': 'Wood',\n",
       "   'Type': 'Wall'},\n",
       "  {'Area': 29.71,\n",
       "   'Direction': 'SE',\n",
       "   'Name': 'Wall_SE',\n",
       "   'Parts': [{'AreaRatio': 1.0,\n",
       "     'Layers': [{'Cond': 0.045, 'Name': 'GW16K', 'SpecH': 13.0, 'Thick': 0.0},\n",
       "      {'Cond': 0.22, 'Name': 'GPB', 'SpecH': 830.0, 'Thick': 0.0095}]}],\n",
       "   'Structure': 'Wood',\n",
       "   'Type': 'Wall'},\n",
       "  {'Area': 60.07,\n",
       "   'Direction': 'Bottom',\n",
       "   'Name': 'Floor',\n",
       "   'Parts': [{'AreaRatio': 1.0,\n",
       "     'Layers': [{'Cond': 0.045, 'Name': 'GW16K', 'SpecH': 13.0, 'Thick': 0.0},\n",
       "      {'Cond': 0.16, 'Name': 'PED', 'SpecH': 720.0, 'Thick': 0.012}]}],\n",
       "   'Structure': 'Wood',\n",
       "   'Type': 'Floor'}],\n",
       " 'Windows': [{'Area': 30.25,\n",
       "   'Direction': 'SW',\n",
       "   'IsSunshadeInput': False,\n",
       "   'Name': 'WindowSW',\n",
       "   'TypeWindow': 'Single',\n",
       "   'UW': 3.49,\n",
       "   'etaCooling': 0.51,\n",
       "   'etaHeating': 0.51},\n",
       "  {'Area': 3.17,\n",
       "   'Direction': 'NW',\n",
       "   'IsSunshadeInput': False,\n",
       "   'Name': 'WindowNW',\n",
       "   'TypeWindow': 'Single',\n",
       "   'UW': 3.49,\n",
       "   'etaCooling': 0.51,\n",
       "   'etaHeating': 0.51},\n",
       "  {'Area': 4.84,\n",
       "   'Direction': 'NE',\n",
       "   'IsSunshadeInput': False,\n",
       "   'Name': 'WindowNE',\n",
       "   'TypeWindow': 'Single',\n",
       "   'UW': 3.49,\n",
       "   'etaCooling': 0.51,\n",
       "   'etaHeating': 0.51},\n",
       "  {'Area': 5.83,\n",
       "   'Direction': 'SE',\n",
       "   'IsSunshadeInput': False,\n",
       "   'Name': 'WindowSE',\n",
       "   'TypeWindow': 'Single',\n",
       "   'UW': 3.49,\n",
       "   'etaCooling': 0.51,\n",
       "   'etaHeating': 0.51}]}"
      ]
     },
     "execution_count": 37,
     "metadata": {},
     "output_type": "execute_result"
    }
   ],
   "source": [
    "d = {\n",
    "    'Region' : 6,\n",
    "    'MainOccupantRoomFloorArea': 30.0,\n",
    "    'OtherOccupantRoomFloorArea': 60.0,\n",
    "    'TotalFloorArea': 120.0,\n",
    "    'InsulationType' : 'FloorIns',\n",
    "    'URoof' : 7.7,\n",
    "    'UWall' : 6.67,\n",
    "    'UFloor' : 5.27,\n",
    "    'UDoor' : 4.65,\n",
    "    'UWnd' : 3.49,\n",
    "    'EtaDC' : 0.51,       \n",
    "    'EtaDH' : 0.51, \n",
    "    'IsInputFValue' : True, \n",
    "    'FValueC' : 0.9,\n",
    "    'FValueH' : 0.7,\n",
    "    'IsInputPsiBase' : True,\n",
    "    'PsiBaseOthers' : 1.8,\n",
    "    'PsiBaseEntrance' :1.8\n",
    "}\n",
    "\n",
    "convert(d)"
   ]
  },
  {
   "cell_type": "code",
   "execution_count": null,
   "metadata": {
    "collapsed": true
   },
   "outputs": [],
   "source": []
  }
 ],
 "metadata": {
  "kernelspec": {
   "display_name": "Python 3",
   "language": "python",
   "name": "python3"
  },
  "language_info": {
   "codemirror_mode": {
    "name": "ipython",
    "version": 3
   },
   "file_extension": ".py",
   "mimetype": "text/x-python",
   "name": "python",
   "nbconvert_exporter": "python",
   "pygments_lexer": "ipython3",
   "version": "3.6.3"
  }
 },
 "nbformat": 4,
 "nbformat_minor": 2
}
