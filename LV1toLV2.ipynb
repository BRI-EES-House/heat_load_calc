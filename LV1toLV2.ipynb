{
 "cells": [
  {
   "cell_type": "markdown",
   "metadata": {},
   "source": [
    "# 外皮情報LV1からLV2へのコンバート"
   ]
  },
  {
   "cell_type": "markdown",
   "metadata": {},
   "source": [
    "## 入力情報"
   ]
  },
  {
   "cell_type": "markdown",
   "metadata": {},
   "source": [
    "### 共通"
   ]
  },
  {
   "cell_type": "markdown",
   "metadata": {},
   "source": [
    "- 地域の区分 (1~8)\n",
    "- その他の居室の有無 (yes/no)\n",
    "- 非居室の有無 (yes/no)\n",
    "- 床面積の合計 (m<sup>2</sup>)\n",
    "- 主たる居室の床面積 (m<sup>2</sup>)\n",
    "- その他の居室の床面積 (m<sup>2</sup>)"
   ]
  },
  {
   "cell_type": "markdown",
   "metadata": {},
   "source": [
    "### 外皮の部位 (一般部位) (開口部) (複数可)"
   ]
  },
  {
   "cell_type": "markdown",
   "metadata": {},
   "source": [
    "- 名前\n",
    "- 面積 (m<sup>2</sup>)\n",
    "- 日射の有無と方位 (上面/北/北東/東/南東/南/南西/西/北西/下面/日射はあたらない)\n",
    "- 隣接空間の種類 (外気・外気に通じる空間/外気に通じていない空間・外気に通じる床裏/住戸及び住戸と同様の熱的環境の空間・外気に通じていない床裏)\n",
    "- 部位の種類 (一般部位(木造)/一般部位(鉄骨造)/一般部位(鉄筋コンクリート造)/窓等の大部分がガラスで構成されている開口部/ドア等の大部分がガラスで構成されていない開口部)\n",
    "- 部位の位置(屋根/天井/外壁/床/界壁/界床/天井(界床))\n",
    "- (断熱性能を表す指標) (単位面積あたり)\n",
    "- (暖房期の日射熱取得を表す指標) (単位面積あたり)\n",
    "- (冷房期の日射熱取得を表す指標) (単位面積あたり)"
   ]
  },
  {
   "cell_type": "markdown",
   "metadata": {},
   "source": [
    "### 外皮の部位 (熱橋等) (複数可)"
   ]
  },
  {
   "cell_type": "markdown",
   "metadata": {},
   "source": [
    "- 名前\n",
    "- 面積 (m<sup>2</sup>)\n",
    "- 日射の有無と方位1 (上面/北/北東/東/南東/南/南西/西/北西/下面/日射はあたらない)\n",
    "- 日射の有無と方位2 (上面/北/北東/東/南東/南/南西/西/北西/下面/日射はあたらない)\n",
    "- 隣接空間の種類 (外気・外気に通じる空間/外気に通じていない空間・外気に通じる床裏/住戸及び住戸と同様の熱的環境の空間・外気に通じていない床裏)\n",
    "- 部位の種類 (熱橋/土間床等の外周部)\n",
    "- (断熱性能を表す指標) (単位長さあたり)\n",
    "- (暖房期の日射熱取得を表す指標) (単位長さあたり)\n",
    "- (冷房期の日射熱取得を表す指標) (単位長さあたり)"
   ]
  },
  {
   "cell_type": "markdown",
   "metadata": {},
   "source": [
    "### 外皮の部位 (土間床等の中央部) (複数可)"
   ]
  },
  {
   "cell_type": "markdown",
   "metadata": {},
   "source": [
    "- 名前\n",
    "- 面積\n",
    "- (断熱性能を表す指標)"
   ]
  },
  {
   "cell_type": "markdown",
   "metadata": {},
   "source": [
    "## 出力情報"
   ]
  },
  {
   "cell_type": "markdown",
   "metadata": {},
   "source": [
    "### 共通"
   ]
  },
  {
   "cell_type": "markdown",
   "metadata": {},
   "source": [
    "- 地域の区分 (1~8)\n",
    "- その他の居室の有無 (yes/no)\n",
    "- 非居室の有無 (yes/no)\n",
    "- 床面積の合計 (m<sup>2</sup>)\n",
    "- 主たる居室の床面積 (m<sup>2</sup>)\n",
    "- その他の居室の床面積 (m<sup>2</sup>)"
   ]
  },
  {
   "cell_type": "markdown",
   "metadata": {},
   "source": [
    "### 外皮の部位 (一般部位) (開口部) (複数可)"
   ]
  },
  {
   "cell_type": "markdown",
   "metadata": {},
   "source": [
    "- 名前\n",
    "- 面積 (m<sup>2</sup>)\n",
    "- 室内側の空間の用途\n",
    "- 日射の有無と方位 (上面/北/北東/東/南東/南/南西/西/北西/下面/日射はあたらない)\n",
    "- 隣接空間の種類 (外気・外気に通じる空間/外気に通じていない空間・外気に通じる床裏/住戸及び住戸と同様の熱的環境の空間・外気に通じていない床裏)\n",
    "- 部位の種類 (一般部位(木造)/一般部位(鉄骨造)/一般部位(鉄筋コンクリート造)/窓等の大部分がガラスで構成されている開口部/ドア等の大部分がガラスで構成されていない開口部)\n",
    "- 部位の位置(屋根/天井/外壁/床/界壁/界床/天井(界床))\n",
    "- (断熱性能を表す指標) (単位面積あたり)\n",
    "- (暖房期の日射熱取得を表す指標) (単位面積あたり)\n",
    "- (冷房期の日射熱取得を表す指標) (単位面積あたり)"
   ]
  },
  {
   "cell_type": "markdown",
   "metadata": {},
   "source": [
    "### 外皮の部位 (熱橋等) (複数可)"
   ]
  },
  {
   "cell_type": "markdown",
   "metadata": {},
   "source": [
    "- 名前\n",
    "- 面積 (m<sup>2</sup>)\n",
    "- 室内側の空間の用途\n",
    "- 日射の有無と方位1 (上面/北/北東/東/南東/南/南西/西/北西/下面/日射はあたらない)\n",
    "- 日射の有無と方位2 (上面/北/北東/東/南東/南/南西/西/北西/下面/日射はあたらない)\n",
    "- 隣接空間の種類 (外気・外気に通じる空間/外気に通じていない空間・外気に通じる床裏/住戸及び住戸と同様の熱的環境の空間・外気に通じていない床裏)\n",
    "- 部位の種類 (熱橋/土間床等の外周部)\n",
    "- (断熱性能を表す指標) (単位長さあたり)\n",
    "- (暖房期の日射熱取得を表す指標) (単位長さあたり)\n",
    "- (冷房期の日射熱取得を表す指標) (単位長さあたり)"
   ]
  },
  {
   "cell_type": "markdown",
   "metadata": {},
   "source": [
    "### 外皮の部位 (土間床等の中央部) (複数可)"
   ]
  },
  {
   "cell_type": "markdown",
   "metadata": {},
   "source": [
    "- 名前\n",
    "- 面積\n",
    "- 室内側の空間の用途\n",
    "- (断熱性能を表す指標)"
   ]
  },
  {
   "cell_type": "markdown",
   "metadata": {},
   "source": [
    "## 1. 外皮簡易法＋用途別床面積\n",
    "- 当該住戸の外皮の部位の面積等を用いずに簡易熱負荷計算を実施する場合には、部位の面積等として、「平成28年省エネルギー基準に準拠したエネルギー消費性能の評価に関する技術情報（住宅）」２．エネルギー消費性能の算定方法　2.2　算定方法　第三章　 暖冷房負荷と外皮性能　\t第二節　外皮性能　9.当該住戸の外皮の部位の面積等を用いずに外皮性能を評価する方法　に示された標準住戸における部位の面積および長さ等を用いる。\n",
    "- その他は2.と同様に求める。"
   ]
  },
  {
   "cell_type": "code",
   "execution_count": 1,
   "metadata": {},
   "outputs": [
    {
     "name": "stdout",
     "output_type": "stream",
     "text": [
      "Rg2=6\n"
     ]
    }
   ],
   "source": [
    "#地域の区分 (1~8)\n",
    "def Calc_Rg2(Rg1):\n",
    "    Rg2 =  Rg1\n",
    "    return Rg2\n",
    "\n",
    "Rg1=6\n",
    "print (\"Rg2={0}\".format(Calc_Rg2(Rg1)))"
   ]
  },
  {
   "cell_type": "code",
   "execution_count": 4,
   "metadata": {},
   "outputs": [
    {
     "name": "stdout",
     "output_type": "stream",
     "text": [
      "Flag22=1\n",
      "Flag32=1\n"
     ]
    }
   ],
   "source": [
    "#その他の居室の有無 (yes/no)\n",
    "#非居室の有無 (yes/no)\n",
    "def Calc_Flag2(Flag1):\n",
    "    Flag2 =  Flag1\n",
    "    return Flag2\n",
    "\n",
    "Flag21=1\n",
    "print (\"Flag22={0}\".format(Calc_Flag2(Flag21)))\n",
    "\n",
    "Flag31=1\n",
    "print (\"Flag32={0}\".format(Calc_Flag2(Flag31)))"
   ]
  },
  {
   "cell_type": "code",
   "execution_count": 5,
   "metadata": {},
   "outputs": [
    {
     "name": "stdout",
     "output_type": "stream",
     "text": [
      "Aa2=120\n",
      "A12=30\n",
      "A22=50\n"
     ]
    }
   ],
   "source": [
    "#床面積の合計 (m2)\n",
    "#主たる居室の床面積 (m2)\n",
    "#その他の居室の床面積 (m2)\n",
    "def Calc_A2(A1):\n",
    "    A2 =  A1\n",
    "    return A2\n",
    "\n",
    "Aa1=120\n",
    "print (\"Aa2={0}\".format(Calc_A2(Aa1)))\n",
    "\n",
    "A11=30\n",
    "print (\"A12={0}\".format(Calc_A2(A11)))\n",
    "\n",
    "A21=50\n",
    "print (\"A22={0}\".format(Calc_A2(A21)))"
   ]
  },
  {
   "cell_type": "code",
   "execution_count": 10,
   "metadata": {},
   "outputs": [
    {
     "name": "stdout",
     "output_type": "stream",
     "text": [
      "Ap2=1\n"
     ]
    }
   ],
   "source": [
    "\"\"\" 部位別の面積の算出 \"\"\"\n",
    "def Calc_Ap2(Ap1):\n",
    "    Ap2 =  Ap1\n",
    "    return Ap2\n",
    "\n",
    "Ap1=1\n",
    "print (\"Ap2={0}\".format(Calc_Ap2(Ap1)))"
   ]
  },
  {
   "cell_type": "code",
   "execution_count": 13,
   "metadata": {},
   "outputs": [
    {
     "name": "stdout",
     "output_type": "stream",
     "text": [
      "Lp2=1\n"
     ]
    }
   ],
   "source": [
    "\"\"\" 部位別の長さの算出 \"\"\"\n",
    "def Calc_Lp2(Lp1):\n",
    "    Lp2 =  Lp1\n",
    "    return Lp2\n",
    "\n",
    "Lp1=1\n",
    "print (\"Lp2={0}\".format(Calc_Lp2(Lp1)))"
   ]
  },
  {
   "cell_type": "code",
   "execution_count": 17,
   "metadata": {},
   "outputs": [
    {
     "name": "stdout",
     "output_type": "stream",
     "text": [
      "Up2=0.5\n"
     ]
    }
   ],
   "source": [
    "\"\"\" 部位別の熱貫流率の算出 \"\"\"\n",
    "def Calc_Up2(Up1):\n",
    "    Up2 =  Up1\n",
    "    return Up2\n",
    "\n",
    "Up1=0.5\n",
    "print (\"Up2={0}\".format(Calc_Up2(Up1)))"
   ]
  },
  {
   "cell_type": "code",
   "execution_count": 14,
   "metadata": {},
   "outputs": [
    {
     "name": "stdout",
     "output_type": "stream",
     "text": [
      "1\n"
     ]
    }
   ],
   "source": [
    "\"\"\" 部位別の線熱貫流率の算出 \"\"\"\n",
    "def Calc_Ψp2(Ψp1):\n",
    "    Ψp2 =  Ψp1\n",
    "    return Ψp2\n",
    "\n",
    "Ψp1=1\n",
    "print (Calc_Ψp2(Ψp1))"
   ]
  },
  {
   "cell_type": "code",
   "execution_count": 16,
   "metadata": {},
   "outputs": [
    {
     "name": "stdout",
     "output_type": "stream",
     "text": [
      "ηp2=0.8\n"
     ]
    }
   ],
   "source": [
    "\"\"\" 部位別の日射熱取得率の算出 \"\"\"\n",
    "def Calc_ηp2(ηp1):\n",
    "    ηp2 =  ηp1\n",
    "    return ηp2\n",
    "\n",
    "ηp1=0.8\n",
    "print (\"ηp2={0}\".format(Calc_ηp2(ηp1)))"
   ]
  },
  {
   "cell_type": "code",
   "execution_count": null,
   "metadata": {
    "collapsed": true
   },
   "outputs": [],
   "source": []
  }
 ],
 "metadata": {
  "kernelspec": {
   "display_name": "Python 3",
   "language": "python",
   "name": "python3"
  },
  "language_info": {
   "codemirror_mode": {
    "name": "ipython",
    "version": 3
   },
   "file_extension": ".py",
   "mimetype": "text/x-python",
   "name": "python",
   "nbconvert_exporter": "python",
   "pygments_lexer": "ipython3",
   "version": "3.6.3"
  }
 },
 "nbformat": 4,
 "nbformat_minor": 2
}
