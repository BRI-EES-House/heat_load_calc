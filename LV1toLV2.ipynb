{
 "cells": [
  {
   "cell_type": "code",
   "execution_count": 1,
   "metadata": {},
   "outputs": [
    {
     "name": "stdout",
     "output_type": "stream",
     "text": [
      "Importing Jupyter notebook from U_Value_to_Detail_Specification.ipynb\n"
     ]
    }
   ],
   "source": [
    "import nbimporter\n",
    "from U_Value_to_Detail_Specification import convert as convertUValueToSpec\n",
    "import math\n",
    "import numpy as np\n",
    "import matplotlib.pyplot as plt"
   ]
  },
  {
   "cell_type": "markdown",
   "metadata": {},
   "source": [
    "# 外皮情報LV1からLV2へのコンバート"
   ]
  },
  {
   "cell_type": "markdown",
   "metadata": {},
   "source": [
    "## 1. 外皮簡易法＋用途別床面積\n",
    "- 当該住戸の外皮の部位の面積等を用いずに簡易熱負荷計算を実施する場合には、部位の面積および長さを、「平成28年省エネルギー基準に準拠したエネルギー消費性能の評価に関する技術情報（住宅）」２．エネルギー消費性能の算定方法　2.2　算定方法　第三章　 暖冷房負荷と外皮性能　\t第二節　外皮性能　9.当該住戸の外皮の部位の面積等を用いずに外皮性能を評価する方法　に示された標準住戸（以下、「簡易外皮入力モデル」）における部位の面積および長さ等より推定する。\n",
    "- 屋根・天井、外壁、床の構成は、入力値である部位種別の熱貫流率をもとに、部位のU値から壁体構成を決定する方法により決定する。\n",
    "- 土間床等の外周部の線熱貫流率については、簡易熱負荷計算での扱いに従う\n",
    "- 開口部の日射熱取得率および外部日除けの取得日射熱補正係数は、それぞれ、季節別に、垂直面日射熱取得率および取得日射熱補正係数の入力値もしくは規定値を使用する。この場合、簡易熱負荷計算においては、開口部の入射角特性および外部日除けは考慮しない。\n",
    "- その他は、外皮性能計算プログラムの入力情報に用途別床面積を追加したものと同様に求める。"
   ]
  },
  {
   "cell_type": "markdown",
   "metadata": {},
   "source": [
    "##### 四捨五入を行う関数\n",
    "\n",
    "- PythonのRound関数は最近接偶数への丸めとなるため、四捨五入を行う関数を独自に定義する。"
   ]
  },
  {
   "cell_type": "code",
   "execution_count": 2,
   "metadata": {
    "collapsed": true
   },
   "outputs": [],
   "source": [
    "def round_number(num, digit) :\n",
    "    power = 10 ** digit           #10のべき乗\n",
    "    sign = math.copysign(1, num)  #符号\n",
    "    return math.floor(sign * power * num + 0.5 ) / ( sign * power ) "
   ]
  },
  {
   "cell_type": "markdown",
   "metadata": {},
   "source": [
    "###### Example"
   ]
  },
  {
   "cell_type": "code",
   "execution_count": 3,
   "metadata": {},
   "outputs": [
    {
     "data": {
      "text/plain": [
       "-0.348"
      ]
     },
     "execution_count": 3,
     "metadata": {},
     "output_type": "execute_result"
    }
   ],
   "source": [
    "round_number(-0.347500, 3)"
   ]
  },
  {
   "cell_type": "markdown",
   "metadata": {},
   "source": [
    "#### 《設計住戸の各部位の長さおよび面積の推定》\n",
    "$$ \\qquad\n",
    "A_{i,d}= A_{i,s}・\\frac{A_{floor,d}}{A_{floor,s}}\n",
    "\\qquad (1)\n",
    "\\\\\n",
    "$$\n",
    "$$ \\qquad\n",
    "L_{i,d}= L_{i,s}・\\frac{A_{floor,d}}{A_{floor,s}}\n",
    "\\qquad (2)\n",
    "\\\\\n",
    "$$\n",
    "\n",
    "- 入力値：\n",
    "\n",
    "  - 簡易外皮入力モデル住戸の延床面積$[m ^ 2]$：$A_{floor,s}$\n",
    "  - 設計住戸の延床面積$[m ^ 2]$：$A_{floor,d}$\n",
    "  - 簡易外皮入力モデル住戸の部位（一般部位又は開口部）𝑖の面積$[m ^ 2]$：$A_{i,s}$\n",
    "  - 簡易外皮入力モデル住戸の部位（土間床等の外周部）𝑖の長さ$[m]$：$L_{i,s}$\n",
    "\n",
    "- 出力値：\n",
    "\n",
    "  - 設計住戸の部位（一般部位又は開口部）𝑖の面積の推定値$[m ^ 2]$：$A_{i,d}$\n",
    "  - 設計住戸の部位（土間床等の外周部）𝑖の長さの推定値$[m]$：$L_{i,d}$"
   ]
  },
  {
   "cell_type": "markdown",
   "metadata": {},
   "source": [
    "#### Function"
   ]
  },
  {
   "cell_type": "code",
   "execution_count": 4,
   "metadata": {
    "collapsed": true
   },
   "outputs": [],
   "source": [
    "def GetDesignPartsArea(parts_area_standard, total_floor_area_design):\n",
    "    TOTAL_FLOOR_AREA_STANDARD = 90.0  #簡易外皮入力モデル住戸の延床面積(m2)\n",
    "    partsArea = round_number( parts_area_standard * total_floor_area_design / TOTAL_FLOOR_AREA_STANDARD, 2 )\n",
    "    return partsArea"
   ]
  },
  {
   "cell_type": "markdown",
   "metadata": {},
   "source": [
    "#### Example"
   ]
  },
  {
   "cell_type": "code",
   "execution_count": 5,
   "metadata": {},
   "outputs": [
    {
     "data": {
      "text/plain": [
       "67.8"
      ]
     },
     "execution_count": 5,
     "metadata": {},
     "output_type": "execute_result"
    }
   ],
   "source": [
    "GetDesignPartsArea(50.85,120)"
   ]
  },
  {
   "cell_type": "markdown",
   "metadata": {},
   "source": [
    "## 2. コンバート"
   ]
  },
  {
   "cell_type": "markdown",
   "metadata": {},
   "source": [
    "### 1) 共通"
   ]
  },
  {
   "cell_type": "markdown",
   "metadata": {},
   "source": [
    "- 地域の区分、主たる居室の床面積(m<sup>2</sup>)、その他の床面積(m<sup>2</sup>)、床面積の合計(m<sup>2</sup>)の情報は維持する。\n",
    "- 新たに変数「簡易外皮入力フラグ」を作成し、LV1から生成したLV2情報は必ずTrueとする。"
   ]
  },
  {
   "cell_type": "markdown",
   "metadata": {},
   "source": [
    "#### Input"
   ]
  },
  {
   "cell_type": "markdown",
   "metadata": {},
   "source": [
    "```\n",
    "{\n",
    "    'Region'                     : # 地域の区分 1 ~ 8 の整数\n",
    "    'MainOccupantRoomFloorArea'  : # 主たる居室の床面積(m2)\n",
    "    'OtherOccupantRoomFloorArea' : # その他の居室の床面積(m2)\n",
    "    'TotalFloorArea'             : # 床面積の合計(m2)\n",
    "}\n",
    "```"
   ]
  },
  {
   "cell_type": "markdown",
   "metadata": {},
   "source": [
    "#### Output"
   ]
  },
  {
   "cell_type": "markdown",
   "metadata": {},
   "source": [
    "```\n",
    "{\n",
    "    'Region'                      : # 地域の区分 1 ~ 8 の整数\n",
    "    'IsSimplifiedInput'           : # bool値 簡易入力から生成したデータか否かを表す, LV1からの場合は常にTrueとなる。\n",
    "    'MainOccupantRoomFloorArea'   : # 主たる居室の床面積(m2)\n",
    "    'OtherOccupantRoomFloorArea'  : # その他の居室の床面積(m2)\n",
    "    'TotalFloorArea'              : # 床面積の合計(m2)\n",
    "}\n",
    "```"
   ]
  },
  {
   "cell_type": "markdown",
   "metadata": {},
   "source": [
    "#### Function"
   ]
  },
  {
   "cell_type": "code",
   "execution_count": 6,
   "metadata": {
    "collapsed": true
   },
   "outputs": [],
   "source": [
    "def convert_common(d):\n",
    "    return {\n",
    "        'Region'                     : d['Region'],\n",
    "        'IsSimplifiedInput'          : True,\n",
    "        'MainOccupantRoomFloorArea'  : d['MainOccupantRoomFloorArea'],\n",
    "        'OtherOccupantRoomFloorArea' : d['OtherOccupantRoomFloorArea'],\n",
    "        'TotalFloorArea'             : d['TotalFloorArea']\n",
    "    }"
   ]
  },
  {
   "cell_type": "markdown",
   "metadata": {},
   "source": [
    "#### Example"
   ]
  },
  {
   "cell_type": "code",
   "execution_count": 7,
   "metadata": {},
   "outputs": [
    {
     "data": {
      "text/plain": [
       "{'IsSimplifiedInput': True,\n",
       " 'MainOccupantRoomFloorArea': 30.0,\n",
       " 'OtherOccupantRoomFloorArea': 60.0,\n",
       " 'Region': 6,\n",
       " 'TotalFloorArea': 120.0}"
      ]
     },
     "execution_count": 7,
     "metadata": {},
     "output_type": "execute_result"
    }
   ],
   "source": [
    "convert_common({\n",
    "    'Region' : 6,\n",
    "    'MainOccupantRoomFloorArea': 30.0,\n",
    "    'OtherOccupantRoomFloorArea': 60.0,\n",
    "    'TotalFloorArea': 120.0\n",
    "})"
   ]
  },
  {
   "cell_type": "markdown",
   "metadata": {},
   "source": [
    "### 2) 開口部以外の不透明部位"
   ]
  },
  {
   "cell_type": "markdown",
   "metadata": {},
   "source": [
    "- 部位のU値から壁体構成を決定する"
   ]
  },
  {
   "cell_type": "markdown",
   "metadata": {},
   "source": [
    "#### 簡易外皮入力モデルにおける開口部以外の不透明部位の面積"
   ]
  },
  {
   "cell_type": "markdown",
   "metadata": {},
   "source": [
    "- 簡易外皮入力モデルにおける開口部以外の不透明部位の面積は、壁体種別、方位および断熱構造から決定する。"
   ]
  },
  {
   "cell_type": "code",
   "execution_count": 8,
   "metadata": {
    "collapsed": true
   },
   "outputs": [],
   "source": [
    "def getStandardPartsArea():\n",
    "    return {\n",
    "        'ceiling': {\n",
    "            'top': {\n",
    "                'floor_ins': 50.85,\n",
    "                'base_ins': 50.85\n",
    "            } \n",
    "        } ,\n",
    "        'wall': {\n",
    "            'SW': {\n",
    "                'floor_ins': 30.47,\n",
    "                'base_ins': 30.47\n",
    "            } ,\n",
    "            'NW': {\n",
    "                'floor_ins': 22.37,\n",
    "                'base_ins': 22.37\n",
    "            } ,\n",
    "            'NE': {\n",
    "                'floor_ins': 47.92,\n",
    "                'base_ins':47.92\n",
    "            } ,\n",
    "            'SE': {\n",
    "                'floor_ins': 22.28,\n",
    "                'base_ins':22.28\n",
    "            } \n",
    "        } ,\n",
    "        'floor' : {\n",
    "            'bottom' : {\n",
    "                'floor_ins': 45.05,\n",
    "                'base_ins':0.0\n",
    "            }\n",
    "        }\n",
    "    }    "
   ]
  },
  {
   "cell_type": "markdown",
   "metadata": {},
   "source": [
    "##### Example"
   ]
  },
  {
   "cell_type": "code",
   "execution_count": 9,
   "metadata": {},
   "outputs": [
    {
     "data": {
      "text/plain": [
       "30.47"
      ]
     },
     "execution_count": 9,
     "metadata": {},
     "output_type": "execute_result"
    }
   ],
   "source": [
    "getStandardPartsArea()['wall']['SW']['floor_ins']"
   ]
  },
  {
   "cell_type": "markdown",
   "metadata": {},
   "source": [
    "#### Input"
   ]
  },
  {
   "cell_type": "markdown",
   "metadata": {},
   "source": [
    "```\n",
    "{\n",
    "    'InsulationType'                  : # 断熱構造 string値,  'floor_ins' or 'base_ins'\n",
    "    'U_roof'                          : # 屋根・天井の熱貫流率(W/m2K)\n",
    "    'U_wall'                          : # 外壁の熱貫流率(W/m2K)\n",
    "    'U_floor'                         : # 床の熱貫流率(W/m2K)\n",
    "    'U_door'                          : # ドアの熱貫流率(W/m2K)\n",
    "    'IsInputEarthFloorPerimeterPsi' : # 土間床等の外周部の線熱貫流率を入力するかどうか, bool値\n",
    "    'Psi_base_others'                 : # その他の土間床等の外周部の線熱貫流率(W/mK),\n",
    "                                          'IsInputEarthFloorPerimeterPsi'がFalseの場合は無視される。\n",
    "    'Psi_base_entrance'               : # 玄関等の土間床等の外周部の線熱貫流率(W/mK)\n",
    "                                          'IsInputEarthFloorPerimeterPsi'がFalseの場合は無視される。\n",
    "}\n",
    "```"
   ]
  },
  {
   "cell_type": "markdown",
   "metadata": {},
   "source": [
    "#### Output"
   ]
  },
  {
   "cell_type": "markdown",
   "metadata": {},
   "source": [
    "```\n",
    "{\n",
    "    'Name'                        : # 壁体名称\n",
    "    'Structure'                   : # 一般部位構造種別 1 ~ 4 の整数\n",
    "    'Type'                        : # 壁体種別 1 ~ 6 の整数\n",
    "    'Direction'                   : # 方位　string値, 以下のいずれか\n",
    "                                    # 'top'/'N'/'NE'/'E'/'SE'/'S'/'SW'/'W'/'NW'/'bottom'/\n",
    "                                    # 'ClosedSpace'（外気に通じていない空間）/\n",
    "                                    # 'OpenBackFloor'（外気に通じる床裏）/\n",
    "                                    # 'ResidenceSpace'（住戸及び住戸と同様の熱的環境の空間）/\n",
    "                                    # 'ClosedBackFloor'（外気に通じていない床裏）/\n",
    "                                    # 'EarthFloor'（土間床等）\n",
    "    'Area'                        : # 部位面積(m2)\n",
    "    'parts' : [\n",
    "        {\n",
    "            layers : [\n",
    "                {\n",
    "                    'Name'   : # 部材名称　string値\n",
    "                    'Thick'  : # 厚さ(m)\n",
    "                    'Cond'   : # 熱伝導率(W/(m・K))\n",
    "                    'Spech'  : # 容積比熱(J/(m3・K))\n",
    "                }\n",
    "            ] # 層構成の情報\n",
    "        ] # 部位の情報\n",
    "}\n",
    "```"
   ]
  },
  {
   "cell_type": "markdown",
   "metadata": {},
   "source": [
    "### Function"
   ]
  },
  {
   "cell_type": "code",
   "execution_count": 10,
   "metadata": {
    "collapsed": true
   },
   "outputs": [],
   "source": [
    "def convert_wall( d ):\n",
    "    \n",
    "    #簡易外皮入力モデルにおける開口部以外の不透明部位のリストを作成\n",
    "    standard_parts = [\n",
    "        { 'name': 'Ceiling', 'type': 'ceiling', 'structure': 'wood', 'direction': 'top',    'Ua': d['U_roof']  },\n",
    "        { 'name': 'Wall_SW', 'type': 'wall',    'structure': 'wood', 'direction': 'SW',     'Ua': d['U_wall']  },\n",
    "        { 'name': 'Wall_NW', 'type': 'wall',    'structure': 'wood', 'direction': 'NW',     'Ua': d['U_wall']  },\n",
    "        { 'name': 'Wall_NE', 'type': 'wall',    'structure': 'wood', 'direction': 'NE',     'Ua': d['U_wall']  },\n",
    "        { 'name': 'Wall_SE', 'type': 'wall',    'structure': 'wood', 'direction': 'SE',     'Ua': d['U_wall']  },\n",
    "        { 'name': 'Floor',   'type': 'floor',   'structure': 'wood', 'direction': 'bottom', 'Ua': d['U_floor'] }\n",
    "    ]\n",
    "                  \n",
    "    walls = []\n",
    "    for x in standard_parts:\n",
    "        \n",
    "        #標準住戸の部位の面積を取得\n",
    "        partsArea = getStandardPartsArea()[ x['type'] ][ x['direction'] ][ d['InsulationType'] ]\n",
    "\n",
    "        #層構成を取得\n",
    "        layers = convertUValueToSpec( x['structure'], x['type'], x['Ua'] )\n",
    "        \n",
    "        part = {\n",
    "            'AreaRatio': 1.0,\n",
    "            'Layers'   : [ { 'Name' : l.name, 'Cond' : l.cond, 'Thick' : l.thick, 'Spech' : l.spech } for l in layers ]\n",
    "        }\n",
    "        \n",
    "        wall ={\n",
    "            'Name': x['name'],\n",
    "            'Type': x['type'],\n",
    "            'Structure': x['structure'],\n",
    "            'Direction': x['direction'],\n",
    "            'Area': GetDesignPartsArea( partsArea, d['TotalFloorArea'] ),\n",
    "            'Parts':[part]\n",
    "        }\n",
    "\n",
    "        walls.append(wall)\n",
    "   \n",
    "    return { 'Walls' : walls }"
   ]
  },
  {
   "cell_type": "markdown",
   "metadata": {},
   "source": [
    "### Example"
   ]
  },
  {
   "cell_type": "code",
   "execution_count": 11,
   "metadata": {},
   "outputs": [
    {
     "data": {
      "text/plain": [
       "{'Walls': [{'Area': 67.8,\n",
       "   'Direction': 'top',\n",
       "   'Name': 'Ceiling',\n",
       "   'Parts': [{'AreaRatio': 1.0,\n",
       "     'Layers': [{'Cond': 0.045, 'Name': 'GW16K', 'Spech': 13.0, 'Thick': 0.0},\n",
       "      {'Cond': 0.22, 'Name': 'GPB', 'Spech': 830.0, 'Thick': 0.0095}]}],\n",
       "   'Structure': 'wood',\n",
       "   'Type': 'ceiling'},\n",
       "  {'Area': 40.63,\n",
       "   'Direction': 'SW',\n",
       "   'Name': 'Wall_SW',\n",
       "   'Parts': [{'AreaRatio': 1.0,\n",
       "     'Layers': [{'Cond': 0.045, 'Name': 'GW16K', 'Spech': 13.0, 'Thick': 0.0},\n",
       "      {'Cond': 0.22, 'Name': 'GPB', 'Spech': 830.0, 'Thick': 0.0095}]}],\n",
       "   'Structure': 'wood',\n",
       "   'Type': 'wall'},\n",
       "  {'Area': 29.83,\n",
       "   'Direction': 'NW',\n",
       "   'Name': 'Wall_NW',\n",
       "   'Parts': [{'AreaRatio': 1.0,\n",
       "     'Layers': [{'Cond': 0.045, 'Name': 'GW16K', 'Spech': 13.0, 'Thick': 0.0},\n",
       "      {'Cond': 0.22, 'Name': 'GPB', 'Spech': 830.0, 'Thick': 0.0095}]}],\n",
       "   'Structure': 'wood',\n",
       "   'Type': 'wall'},\n",
       "  {'Area': 63.89,\n",
       "   'Direction': 'NE',\n",
       "   'Name': 'Wall_NE',\n",
       "   'Parts': [{'AreaRatio': 1.0,\n",
       "     'Layers': [{'Cond': 0.045, 'Name': 'GW16K', 'Spech': 13.0, 'Thick': 0.0},\n",
       "      {'Cond': 0.22, 'Name': 'GPB', 'Spech': 830.0, 'Thick': 0.0095}]}],\n",
       "   'Structure': 'wood',\n",
       "   'Type': 'wall'},\n",
       "  {'Area': 29.71,\n",
       "   'Direction': 'SE',\n",
       "   'Name': 'Wall_SE',\n",
       "   'Parts': [{'AreaRatio': 1.0,\n",
       "     'Layers': [{'Cond': 0.045, 'Name': 'GW16K', 'Spech': 13.0, 'Thick': 0.0},\n",
       "      {'Cond': 0.22, 'Name': 'GPB', 'Spech': 830.0, 'Thick': 0.0095}]}],\n",
       "   'Structure': 'wood',\n",
       "   'Type': 'wall'},\n",
       "  {'Area': 60.07,\n",
       "   'Direction': 'bottom',\n",
       "   'Name': 'Floor',\n",
       "   'Parts': [{'AreaRatio': 1.0,\n",
       "     'Layers': [{'Cond': 0.045, 'Name': 'GW16K', 'Spech': 13.0, 'Thick': 0.0},\n",
       "      {'Cond': 0.16, 'Name': 'PED', 'Spech': 720.0, 'Thick': 0.012}]}],\n",
       "   'Structure': 'wood',\n",
       "   'Type': 'floor'}]}"
      ]
     },
     "execution_count": 11,
     "metadata": {},
     "output_type": "execute_result"
    }
   ],
   "source": [
    "d = {\n",
    "    'Region' : 6,\n",
    "    'MainOccupantRoomFloorArea': 30.0,\n",
    "    'OtherOccupantRoomFloorArea': 60.0,\n",
    "    'TotalFloorArea': 120.0,\n",
    "    'InsulationType' : 'floor_ins',\n",
    "    'U_roof' : 7.7,\n",
    "    'U_wall' : 6.67,\n",
    "    'U_floor' : 5.27,\n",
    "    'U_door' : 4.65,\n",
    "    'IsInputEarthFloorPerimeterPsi' : True,\n",
    "    'Psi_base_others' : 1.8,\n",
    "    'Psi_base_entrance' :1.8\n",
    "}\n",
    "\n",
    "convert_wall( d )"
   ]
  },
  {
   "cell_type": "markdown",
   "metadata": {},
   "source": [
    "### 3) 開口部の透明部位"
   ]
  },
  {
   "cell_type": "markdown",
   "metadata": {},
   "source": [
    "- 開口部名称、日射熱取得率[-]、熱貫流率[W/(m<sup>2</sup>・K)]の情報は維持する。"
   ]
  },
  {
   "cell_type": "markdown",
   "metadata": {},
   "source": [
    "#### 簡易外皮入力モデルにおける開口部の透明部位の面積"
   ]
  },
  {
   "cell_type": "markdown",
   "metadata": {},
   "source": [
    "- 簡易外皮入力モデルにおける開口部の透明部位の面積は、方位から決定する。"
   ]
  },
  {
   "cell_type": "code",
   "execution_count": 12,
   "metadata": {
    "collapsed": true
   },
   "outputs": [],
   "source": [
    "def getStandardPartsAreaWindow():\n",
    "    return {\n",
    "        'SW': 22.69,\n",
    "        'NW': 2.38,\n",
    "        'NE': 3.63,\n",
    "        'SE': 4.37\n",
    "    }"
   ]
  },
  {
   "cell_type": "markdown",
   "metadata": {},
   "source": [
    "##### Example"
   ]
  },
  {
   "cell_type": "code",
   "execution_count": 13,
   "metadata": {},
   "outputs": [
    {
     "data": {
      "text/plain": [
       "22.69"
      ]
     },
     "execution_count": 13,
     "metadata": {},
     "output_type": "execute_result"
    }
   ],
   "source": [
    "getStandardPartsAreaWindow()['SW']"
   ]
  },
  {
   "cell_type": "markdown",
   "metadata": {},
   "source": [
    "#### 日除けの出巾を計算する関数"
   ]
  },
  {
   "cell_type": "markdown",
   "metadata": {},
   "source": [
    "- 取得日射熱補正係数、地域区分、方位、開口部高さ、窓上端と外部日除けの距離から出巾を計算する関数を定義する。\n",
    "- 取得日射熱補正係数を求める(3)式を出巾$z$について求める。(3)式中の係数$a,b,c,d$は、地域区分及び方位により、表1および表2に示す値による。\n",
    "- 方位は簡易外皮入力モデルの４方位（南東、南西、北西、北東）で固定とする。\n",
    "- 出巾$z$の上限は5mとする。\n",
    "\n",
    "$$ \\qquad\n",
    "f = a×(b + c×\\frac{d×y_{1}+y_{2}}{z})\n",
    "\\qquad (3)\n",
    "\\\\\n",
    "$$\n",
    "\n",
    "- 取得日射熱補正係数$[-]$：$f$\n",
    "- 日除け下端から窓上端までの垂直方向の距離$[m]$：$y_{1}$\n",
    "- 窓の開口高さ$[m]$：$y_{2}$\n",
    "- 壁面からの日除けの出巾$[m]$：$z$\n",
    "\n",
    "***\n",
    "  \n",
    "- 表1 取得日射熱補正係数を求める式の係数（暖房期）\n",
    "\n",
    "| 季節 | 地域区分 | 方位 | a | b | c | d |\n",
    "|:-------------:|:-------------:|:-------------:|:-------------:|:-------------:|:-------------:|:-------------:|\n",
    "| 暖房期 | 1地域～7地域 | 南東(SE) | 0.01 | 5 | 20 | 3 |\n",
    "| 暖房期 | 1地域～7地域 | 南西(SW) | 0.01 | 5 | 20 | 3 |\n",
    "| 暖房期 | 1地域～7地域 | 北西(NW) | 0.01 | 10 | 15 | 2 |\n",
    "| 暖房期 | 1地域～7地域 | 北東(NE) | 0.01 | 10 | 15 | 2 |\n",
    "\n",
    "\n",
    "- 表2 取得日射熱補正係数を求める式の係数（冷房期）\n",
    "\n",
    "| 季節 | 地域区分 | 方位 | a | b | c | d |\n",
    "|:-------------:|:-------------:|:-------------:|:-------------:|:-------------:|:-------------:|:-------------:|\n",
    "| 冷房期 | 1地域～7地域 | 南東(SE) | 0.01 | 16 | 24 | 2 |\n",
    "| 冷房期 | 1地域～7地域 | 南西(SW) | 0.01 | 16 | 24 | 2 |\n",
    "| 冷房期 | 1地域～7地域 | 北西(NW) | 0.01 | 16 | 24 | 2 |\n",
    "| 冷房期 | 1地域～7地域 | 北東(NE) | 0.01 | 16 | 24 | 2 |\n",
    "| 冷房期 | 8地域 | 南東(SE) | 0.01 | 16 | 19 | 2 |\n",
    "| 冷房期 | 8地域 | 南西(SW) | 0.01 | 16 | 19 | 2 |\n",
    "| 冷房期 | 8地域 | 北西(NW) | 0.01 | 16 | 24 | 2 |\n",
    "| 冷房期 | 8地域 | 北東(NE) | 0.01 | 16 | 24 | 2 |"
   ]
  },
  {
   "cell_type": "markdown",
   "metadata": {},
   "source": [
    "##### 取得日射熱補正係数を求める式の係数を取得する関数\n",
    "\n",
    "- 季節（暖房 or 冷房）、地域、方位から取得日射熱補正係数を求める式の係数$a,b,c,d$を決定する。"
   ]
  },
  {
   "cell_type": "code",
   "execution_count": 14,
   "metadata": {
    "collapsed": true
   },
   "outputs": [],
   "source": [
    "# 取得日射熱補正係数を求める式の係数を取得する関数\n",
    "def getCoefficients( season, region, direction ):\n",
    "    # 暖房期\n",
    "    if season == 'heating':\n",
    "        if region <= 7:\n",
    "            a, b, c, d = {\n",
    "                'SE': (0.01, 5, 20, 3),\n",
    "                'SW': (0.01, 5, 20, 3),\n",
    "                'NW': (0.01, 10, 15, 2),\n",
    "                'NE': (0.01, 10, 15, 2)\n",
    "            }[direction]\n",
    "        else:\n",
    "            raise ValueError\n",
    "        \n",
    "    # 冷房期\n",
    "    elif season == 'cooling':\n",
    "        if region <= 7:\n",
    "            a, b, c, d = {\n",
    "                'SE': (0.01, 16, 24, 2),\n",
    "                'SW': (0.01, 16, 24, 2),\n",
    "                'NW': (0.01, 16, 24, 2),\n",
    "                'NE': (0.01, 16, 24, 2)\n",
    "            }[direction]\n",
    "        elif region == 8:\n",
    "            a, b, c, d = {\n",
    "                'SE': (0.01, 16, 19, 2),\n",
    "                'SW': (0.01, 16, 19, 2),\n",
    "                'NW': (0.01, 16, 24, 2),\n",
    "                'NE': (0.01, 16, 24, 2)\n",
    "            }[direction]\n",
    "        else:\n",
    "            raise ValueError\n",
    "        \n",
    "    # 例外処理\n",
    "    else:\n",
    "        raise ValueError\n",
    "        \n",
    "    return a, b, c, d"
   ]
  },
  {
   "cell_type": "markdown",
   "metadata": {},
   "source": [
    "##### 出巾を計算する関数\n",
    "- 出巾$z$の上限は5mとする。"
   ]
  },
  {
   "cell_type": "code",
   "execution_count": 15,
   "metadata": {
    "collapsed": true
   },
   "outputs": [],
   "source": [
    "# 出巾を計算する関数\n",
    "def calcOverhangWidth( a, b, c, d, y1, y2, f ):\n",
    "    if ( ( f / a ) - b) <= 0: \n",
    "        raise ValueError('指定されたf値が小さすぎます')\n",
    "    return min( ( c * ( d * y1 + y2) ) / ( ( f / a ) - b ), 5.0 ) # 出巾が5m以上になる場合は、5mを上限とする"
   ]
  },
  {
   "cell_type": "markdown",
   "metadata": {},
   "source": [
    "##### 暖房期における出巾を計算する関数\n",
    "- 取得日射熱補正係数の上限は0.72とする。\n",
    "- 出巾の計算結果は切り上げの処理を行う。\n",
    "- 8地域では暖房期の出巾が定義されていないため、エラーとする。"
   ]
  },
  {
   "cell_type": "code",
   "execution_count": 16,
   "metadata": {
    "collapsed": true
   },
   "outputs": [],
   "source": [
    "def getOverhangWidth_forHeating( region, direction, distance, height, f_heating ):\n",
    "    # region as integer: 1 to 7\n",
    "    # direction as string: NE, SE, SW, NW\n",
    "    # distance: vertical distance from bottom of sunshade to top of window (m)\n",
    "    # height: window height (m)\n",
    "    # f_heating: solar heat correction factor in heating period (-)　暖房期の取得日射熱補正係数\n",
    "\n",
    "    y1 = distance\n",
    "    y2 = height\n",
    "    \n",
    "    # 取得日射熱補正係数を調整\n",
    "    f_h = min( f_heating, 0.72 )\n",
    "    \n",
    "    # 出巾を計算（暖房期の出巾は切り上げ）\n",
    "    if region >= 8:\n",
    "        raise ValueError('8地域は暖房期の出巾は定義されていません')    \n",
    "    \n",
    "    a_h, b_h, c_h, d_h = getCoefficients( 'heating', region, direction )\n",
    "    \n",
    "    return math.ceil( calcOverhangWidth( a_h, b_h, c_h, d_h, y1, y2, f_h ) * 1000 ) / 1000"
   ]
  },
  {
   "cell_type": "markdown",
   "metadata": {},
   "source": [
    "##### 冷房期における出巾を計算する関数\n",
    "- 取得日射熱補正係数の上限は0.93とする。\n",
    "- 出巾の計算結果は切り捨ての処理を行う。"
   ]
  },
  {
   "cell_type": "code",
   "execution_count": 17,
   "metadata": {
    "collapsed": true
   },
   "outputs": [],
   "source": [
    "def getOverhangWidth_forCooling( region, direction, distance, height, f_cooling ):\n",
    "    # region as integer: 1 to 8\n",
    "    # direction as string: NE, SE, SW, NW\n",
    "    # distance: vertical distance from bottom of sunshade to top of window (m)\n",
    "    # height: window height (m)\n",
    "    # f_cooling: solar heat correction factor in heating period (-)　冷房期の取得日射熱補正係数\n",
    "\n",
    "    y1 = distance\n",
    "    y2 = height\n",
    "    \n",
    "    # 取得日射熱補正係数を調整\n",
    "    f_c = min( f_cooling, 0.93 )\n",
    "    \n",
    "    # 出巾を計算（冷房期の出巾は切り捨て）\n",
    "    a_c, b_c, c_c, d_c = getCoefficients( 'cooling', region, direction )\n",
    "    \n",
    "    return math.floor( calcOverhangWidth( a_c, b_c, c_c, d_c, y1, y2, f_c ) * 1000 ) / 1000"
   ]
  },
  {
   "cell_type": "markdown",
   "metadata": {},
   "source": [
    "##### Example"
   ]
  },
  {
   "cell_type": "code",
   "execution_count": 18,
   "metadata": {},
   "outputs": [
    {
     "data": {
      "text/plain": [
       "0.275"
      ]
     },
     "execution_count": 18,
     "metadata": {},
     "output_type": "execute_result"
    }
   ],
   "source": [
    "# 暖房期\n",
    "getOverhangWidth_forHeating(6, 'NE', 0, 1.1, 0.7)"
   ]
  },
  {
   "cell_type": "code",
   "execution_count": 19,
   "metadata": {},
   "outputs": [
    {
     "data": {
      "text/plain": [
       "0.488"
      ]
     },
     "execution_count": 19,
     "metadata": {},
     "output_type": "execute_result"
    }
   ],
   "source": [
    "# 冷房期\n",
    "getOverhangWidth_forCooling(6, 'NE', 0, 1.1, 0.7)"
   ]
  },
  {
   "cell_type": "markdown",
   "metadata": {},
   "source": [
    "##### 取得日射熱補正係数と日除けの出巾のグラフ描画"
   ]
  },
  {
   "cell_type": "code",
   "execution_count": 20,
   "metadata": {},
   "outputs": [
    {
     "data": {
      "image/png": "[encoded data removed]",
      "text/plain": [
       "<matplotlib.figure.Figure at 0x18194eb10f0>"
      ]
     },
     "metadata": {},
     "output_type": "display_data"
    },
    {
     "data": {
      "image/png": "[encoded data removed]",
      "text/plain": [
       "<matplotlib.figure.Figure at 0x1c3191519b0>"
      ]
     },
     "metadata": {},
     "output_type": "display_data"
    }
   ],
   "source": [
    "# 取得日射熱補正係数の配列を用意\n",
    "coefficients = np.arange( 0.161, 1.0, 0.01 )\n",
    "\n",
    "windows = [\n",
    "    {'region': 6, 'direction': 'SE'},\n",
    "    {'region': 6, 'direction': 'NE'},\n",
    "    {'region': 8, 'direction': 'SE'},\n",
    "    {'region': 8, 'direction': 'NE'}\n",
    "]\n",
    "\n",
    "# 暖房期の高階関数（他の関数を引数または戻り値とする関数）を定義\n",
    "def makeFFunction_forHeating(region, direction, y1, y2):\n",
    "    def returnFunction_forHeating(f):\n",
    "        return getOverhangWidth_forHeating(region, direction, y1, y2, f)\n",
    "    return returnFunction_forHeating\n",
    "    \n",
    "# 暖房期の出巾のグラフ描画 \n",
    "for window in windows:\n",
    "    if window['region'] >= 8:\n",
    "        break\n",
    "    g_h = makeFFunction_forHeating(window['region'], window['direction'], 0, 1.1)\n",
    "    z_h = np.vectorize(g_h)(coefficients)\n",
    "    label =  'Region:' + str(window['region']) + ', Direction:' + window['direction']\n",
    "    plt.plot( coefficients, z_h, label = label)\n",
    "    \n",
    "plt.title('Heating Period')\n",
    "plt.xlabel('Solar heat correction factor[-]')\n",
    "plt.ylabel('Overhang width in heating period[m]')\n",
    "plt.ylim(0,10)\n",
    "plt.legend()\n",
    "plt.show()\n",
    "\n",
    "# 冷房期の高階関数を定義\n",
    "def makeFFunction_forCooling(region, direction, y1, y2):\n",
    "    def returnFunction_forCooling(f):\n",
    "        return getOverhangWidth_forCooling(region, direction, y1, y2, f)\n",
    "    return returnFunction_forCooling\n",
    "\n",
    "# 冷房期の出巾のグラフ描画 \n",
    "for window in windows:\n",
    "    g_c = makeFFunction_forCooling(window['region'], window['direction'], 0, 1.1)\n",
    "    z_c = np.vectorize(g_c)(coefficients)\n",
    "    label =  'Region:' + str(window['region']) + ', Direction:' + window['direction']\n",
    "    plt.plot( coefficients, z_c, label = label)\n",
    "    \n",
    "plt.title('Cooling Period')\n",
    "plt.xlabel('Solar heat correction factor[-]')\n",
    "plt.ylabel('Overhang width in cooling period[m]')\n",
    "plt.ylim(0,10)\n",
    "plt.legend()\n",
    "plt.show()"
   ]
  },
  {
   "cell_type": "markdown",
   "metadata": {},
   "source": [
    "#### Input"
   ]
  },
  {
   "cell_type": "markdown",
   "metadata": {},
   "source": [
    "```\n",
    "data = {\n",
    "    'U_wnd'           : # 窓の熱貫流率 (W/m2K)\n",
    "    'eta_d_C'         : # 垂直面日射熱取得率(夏期) (-)\n",
    "    'eta_d_H'         : # 垂直面日射熱取得率（冬期） (-)\n",
    "    'IsInputFValue'   : # 取得日射熱補正係数を入力するかどうか, bool値\n",
    "    'f_value_C'       : # 取得日射熱補正係数(夏期)\n",
    "    'f_value_H'       : # 取得日射熱補正係数(冬期)\n",
    "}\n",
    "```"
   ]
  },
  {
   "cell_type": "markdown",
   "metadata": {},
   "source": [
    "#### Output"
   ]
  },
  {
   "cell_type": "markdown",
   "metadata": {},
   "source": [
    "```\n",
    "data = {\n",
    "    'name'                        : # 開口部名称\n",
    "    'direction'                   : # 方位　string値, 以下のいずれか\n",
    "                                    # 'top'/'N'/'NE'/'E'/'SE'/'S'/'SW'/'W'/'NW'/'bottom'/\n",
    "                                    # 'ClosedSpace'（外気に通じていない空間）/\n",
    "                                    # 'OpenBackFloor'（外気に通じる床裏）/\n",
    "                                    # 'ResidenceSpace'（住戸及び住戸と同様の熱的環境の空間）/\n",
    "                                    # 'ClosedBackFloor'（外気に通じていない床裏）/\n",
    "                                    # 'EarthFloor'（土間床等）\n",
    "    'A'                           : # 部位面積(m2)\n",
    "    'type'                        : # 窓の種類 string値, 'single' or 'double'\n",
    "    'etaCooling'                  : # 日射熱取得率（夏期）(-)\n",
    "    'etaHeating'                  : # 日射熱取得率（冬期）(-)\n",
    "    'Uw'                          : # 窓の熱貫流率(W/(m2・K))\n",
    "    'IsSunshadeInput'             : # 日除けを入力するかどうか, bool値\n",
    "    'y2'                          : # 開口部高さ(m)\n",
    "    'z'                           : # 出巾(m)\n",
    "    'y1'                          : # 窓上端と外部日除けの距離(m)\n",
    "}\n",
    "```"
   ]
  },
  {
   "cell_type": "markdown",
   "metadata": {},
   "source": [
    "#### Function"
   ]
  },
  {
   "cell_type": "code",
   "execution_count": 21,
   "metadata": {
    "collapsed": true
   },
   "outputs": [],
   "source": [
    "def convert_window( d ):\n",
    "    \n",
    "    #簡易外皮入力モデルにおける開口部の透明部位のリストを作成\n",
    "    standard_parts = [\n",
    "        {'name':'WindowSW','direction':'SW'},\n",
    "        {'name':'WindowNW','direction':'NW'},\n",
    "        {'name':'WindowNE','direction':'NE'},\n",
    "        {'name':'WindowSE','direction':'SE'}\n",
    "    ]\n",
    "    \n",
    "    # 簡易外皮入力モデルにおける日除けの寸法を設定\n",
    "    y1 = 0    # 窓上端と外部日除けの距離(m)   \n",
    "    y2 = 1.1  # 開口部高さ(m), 腰高窓を想定\n",
    "    \n",
    "    windows = []\n",
    "    for x in standard_parts:\n",
    "        \n",
    "        #標準住戸の部位の面積を取得\n",
    "        partsArea = getStandardPartsAreaWindow()[x['direction']]\n",
    "        \n",
    "        window ={\n",
    "            'name': x['name'],\n",
    "            'direction': x['direction'],\n",
    "            'A': GetDesignPartsArea( partsArea,d['TotalFloorArea'] ),\n",
    "            'type': 'single',\n",
    "            'etaCooling' : d['eta_d_C'],\n",
    "            'etaHeating' : d['eta_d_H'],\n",
    "            'Uw'      : d['U_wnd'],\n",
    "        }\n",
    "        \n",
    "        # 日除けの設定\n",
    "        if d['IsInputFValue'] == True :\n",
    "            window['IsSunshadeInput'] = True\n",
    "            window['y1'] = y1\n",
    "            window['y2'] = y2\n",
    "            \n",
    "            if d['Region'] < 8:\n",
    "                z_h = getOverhangWidth_forHeating( d['Region'], x['direction'], y1, y2, d['f_value_H'] )\n",
    "                z_c = getOverhangWidth_forCooling( d['Region'], x['direction'], y1, y2, d['f_value_C'] )\n",
    "                window['z'] = round_number( ( z_h + z_c ) / 2 , 3 )\n",
    "            else:\n",
    "                z_c = getOverhangWidth_forCooling( d['Region'], x['direction'], y1, y2, d['f_value_C'] )\n",
    "                window['z'] = z_c\n",
    "                \n",
    "        else :\n",
    "            window['IsSunshadeInput'] = False\n",
    "        \n",
    "        windows.append(window)\n",
    "        \n",
    "    return { 'Windows' : windows }"
   ]
  },
  {
   "cell_type": "markdown",
   "metadata": {},
   "source": [
    "#### Example"
   ]
  },
  {
   "cell_type": "code",
   "execution_count": 22,
   "metadata": {},
   "outputs": [
    {
     "data": {
      "text/plain": [
       "{'Windows': [{'A': 30.25,\n",
       "   'IsSunshadeInput': True,\n",
       "   'Uw': 3.49,\n",
       "   'direction': 'SW',\n",
       "   'etaCooling': 0.51,\n",
       "   'etaHeating': 0.51,\n",
       "   'name': 'WindowSW',\n",
       "   'type': 'single',\n",
       "   'y1': 0,\n",
       "   'y2': 1.1,\n",
       "   'z': 0.348},\n",
       "  {'A': 3.17,\n",
       "   'IsSunshadeInput': True,\n",
       "   'Uw': 3.49,\n",
       "   'direction': 'NW',\n",
       "   'etaCooling': 0.51,\n",
       "   'etaHeating': 0.51,\n",
       "   'name': 'WindowNW',\n",
       "   'type': 'single',\n",
       "   'y1': 0,\n",
       "   'y2': 1.1,\n",
       "   'z': 0.316},\n",
       "  {'A': 4.84,\n",
       "   'IsSunshadeInput': True,\n",
       "   'Uw': 3.49,\n",
       "   'direction': 'NE',\n",
       "   'etaCooling': 0.51,\n",
       "   'etaHeating': 0.51,\n",
       "   'name': 'WindowNE',\n",
       "   'type': 'single',\n",
       "   'y1': 0,\n",
       "   'y2': 1.1,\n",
       "   'z': 0.316},\n",
       "  {'A': 5.83,\n",
       "   'IsSunshadeInput': True,\n",
       "   'Uw': 3.49,\n",
       "   'direction': 'SE',\n",
       "   'etaCooling': 0.51,\n",
       "   'etaHeating': 0.51,\n",
       "   'name': 'WindowSE',\n",
       "   'type': 'single',\n",
       "   'y1': 0,\n",
       "   'y2': 1.1,\n",
       "   'z': 0.348}]}"
      ]
     },
     "execution_count": 22,
     "metadata": {},
     "output_type": "execute_result"
    }
   ],
   "source": [
    "d = {\n",
    "    'Region' : 6,\n",
    "    'MainOccupantRoomFloorArea': 30.0,\n",
    "    'OtherOccupantRoomFloorArea': 60.0,\n",
    "    'TotalFloorArea': 120.0,\n",
    "    'U_wnd' : 3.49,\n",
    "    'eta_d_C' : 0.51,       \n",
    "    'eta_d_H' : 0.51, \n",
    "    'IsInputFValue' : True, \n",
    "    'f_value_C' : 0.9,\n",
    "    'f_value_H' : 0.7\n",
    "}\n",
    "\n",
    "convert_window( d )"
   ]
  },
  {
   "cell_type": "markdown",
   "metadata": {},
   "source": [
    "### 4) 開口部の不透明部位"
   ]
  },
  {
   "cell_type": "markdown",
   "metadata": {},
   "source": [
    "- 開口部の不透明部位（ドア等）の情報を設定する。"
   ]
  },
  {
   "cell_type": "markdown",
   "metadata": {},
   "source": [
    "#### 簡易外皮入力モデルにおける開口部の不透明部位の面積"
   ]
  },
  {
   "cell_type": "markdown",
   "metadata": {},
   "source": [
    "- 簡易外皮入力モデルにおける開口部の不透明部位の面積を取得する関数を定義する。\n",
    "- 開口部の不透明部位の面積は方位により異なる。"
   ]
  },
  {
   "cell_type": "code",
   "execution_count": 23,
   "metadata": {
    "collapsed": true
   },
   "outputs": [],
   "source": [
    "def getStandardPartsAreaDoor():\n",
    "    return {\n",
    "        'SW': 0.0,\n",
    "        'NW': 1.89,\n",
    "        'NE': 1.62,\n",
    "        'SE': 0.0\n",
    "    }"
   ]
  },
  {
   "cell_type": "markdown",
   "metadata": {},
   "source": [
    "##### Example"
   ]
  },
  {
   "cell_type": "code",
   "execution_count": 24,
   "metadata": {},
   "outputs": [
    {
     "data": {
      "text/plain": [
       "1.89"
      ]
     },
     "execution_count": 24,
     "metadata": {},
     "output_type": "execute_result"
    }
   ],
   "source": [
    "getStandardPartsAreaDoor()['NW']"
   ]
  },
  {
   "cell_type": "markdown",
   "metadata": {},
   "source": [
    "#### Input"
   ]
  },
  {
   "cell_type": "markdown",
   "metadata": {},
   "source": [
    "```\n",
    "data = {\n",
    "    'U_door'           : # ドアの熱貫流率 (W/m2K)\n",
    "}\n",
    "```"
   ]
  },
  {
   "cell_type": "markdown",
   "metadata": {},
   "source": [
    "#### Output"
   ]
  },
  {
   "cell_type": "markdown",
   "metadata": {},
   "source": [
    "```\n",
    "data = {\n",
    "    'name'                        : # 開口部の不透明部位の名称\n",
    "    'direction'                   : # 方位　string値, 以下のいずれか\n",
    "                                    # 'top'/'N'/'NE'/'E'/'SE'/'S'/'SW'/'W'/'NW'/'bottom'/\n",
    "                                    # 'ClosedSpace'（外気に通じていない空間）/\n",
    "                                    # 'OpenBackFloor'（外気に通じる床裏）/\n",
    "                                    # 'ResidenceSpace'（住戸及び住戸と同様の熱的環境の空間）/\n",
    "                                    # 'ClosedBackFloor'（外気に通じていない床裏）/\n",
    "                                    # 'EarthFloor'（土間床等）\n",
    "    'A'                           : # 部位面積(m2)\n",
    "    'Udoor'                       : # 開口部の不透明部位の熱貫流率(W/(m2・K))\n",
    "    'IsSunshadeInput'             : # 日除けを入力するかどうか, bool値\n",
    "}\n",
    "```"
   ]
  },
  {
   "cell_type": "markdown",
   "metadata": {},
   "source": [
    "#### Function"
   ]
  },
  {
   "cell_type": "code",
   "execution_count": 25,
   "metadata": {
    "collapsed": true
   },
   "outputs": [],
   "source": [
    "def convert_door( d ):\n",
    "    \n",
    "    #簡易外皮入力モデルにおける開口部の不透明部位のリストを作成\n",
    "    standard_parts = [\n",
    "        {'name':'DoorSW','direction':'SW'},\n",
    "        {'name':'DoorNW','direction':'NW'},\n",
    "        {'name':'DoorNE','direction':'NE'},\n",
    "        {'name':'DoorSE','direction':'SE'}\n",
    "    ]\n",
    "    \n",
    "    doors = []\n",
    "    for x in standard_parts:\n",
    "        \n",
    "        #簡易外皮入力モデルの部位の面積を取得\n",
    "        partsArea = getStandardPartsAreaDoor()[x['direction']]\n",
    "        \n",
    "        door ={\n",
    "            'name': x['name'],\n",
    "            'direction': x['direction'],\n",
    "            'A': GetDesignPartsArea( partsArea,d['TotalFloorArea'] ),\n",
    "            'Udoor': d['U_door'],\n",
    "            'IsSunshadeInput': False\n",
    "        }\n",
    "        doors.append(door)\n",
    "        \n",
    "    return { 'Doors' : doors }"
   ]
  },
  {
   "cell_type": "markdown",
   "metadata": {},
   "source": [
    "#### Example"
   ]
  },
  {
   "cell_type": "code",
   "execution_count": 26,
   "metadata": {},
   "outputs": [
    {
     "data": {
      "text/plain": [
       "{'Doors': [{'A': 0.0,\n",
       "   'IsSunshadeInput': False,\n",
       "   'Udoor': 2.33,\n",
       "   'direction': 'SW',\n",
       "   'name': 'DoorSW'},\n",
       "  {'A': 2.52,\n",
       "   'IsSunshadeInput': False,\n",
       "   'Udoor': 2.33,\n",
       "   'direction': 'NW',\n",
       "   'name': 'DoorNW'},\n",
       "  {'A': 2.16,\n",
       "   'IsSunshadeInput': False,\n",
       "   'Udoor': 2.33,\n",
       "   'direction': 'NE',\n",
       "   'name': 'DoorNE'},\n",
       "  {'A': 0.0,\n",
       "   'IsSunshadeInput': False,\n",
       "   'Udoor': 2.33,\n",
       "   'direction': 'SE',\n",
       "   'name': 'DoorSE'}]}"
      ]
     },
     "execution_count": 26,
     "metadata": {},
     "output_type": "execute_result"
    }
   ],
   "source": [
    "d = {\n",
    "    'TotalFloorArea': 120.0,\n",
    "    'U_door' : 2.33,\n",
    "}\n",
    "\n",
    "convert_door( d )"
   ]
  },
  {
   "cell_type": "markdown",
   "metadata": {},
   "source": [
    "### 5) 土間床等の外周部の線熱橋"
   ]
  },
  {
   "cell_type": "markdown",
   "metadata": {},
   "source": [
    "- 土間床（玄関および玄関以外）の外周部の線熱橋の情報を設定する。"
   ]
  },
  {
   "cell_type": "markdown",
   "metadata": {},
   "source": [
    "#### 簡易外皮入力モデルにおける土間床等の外周部の長さ"
   ]
  },
  {
   "cell_type": "markdown",
   "metadata": {},
   "source": [
    "- 簡易外皮入力モデルにおける土間床等の外周部の長さを取得する関数を定義する。"
   ]
  },
  {
   "cell_type": "code",
   "execution_count": 27,
   "metadata": {
    "collapsed": true
   },
   "outputs": [],
   "source": [
    "def getStandardPerimeterLength( earthfloor_type ):\n",
    "    # earthfloor_type as string : 'others' or 'entrance'\n",
    "    \n",
    "    PerimeterLength = {\n",
    "        'others': {\n",
    "            'SW': 0.00,\n",
    "            'NW': 1.82,\n",
    "            'NE': 1.82,\n",
    "            'SE': 0.00\n",
    "        },\n",
    "        'entrance': {\n",
    "            'SW': 0.00,\n",
    "            'NW': 1.82,\n",
    "            'NE': 1.37,\n",
    "            'SE': 0.00\n",
    "        }\n",
    "    }\n",
    "    return  PerimeterLength[earthfloor_type]"
   ]
  },
  {
   "cell_type": "markdown",
   "metadata": {},
   "source": [
    "##### Example"
   ]
  },
  {
   "cell_type": "code",
   "execution_count": 28,
   "metadata": {},
   "outputs": [
    {
     "data": {
      "text/plain": [
       "{'NE': 1.82, 'NW': 1.82, 'SE': 0.0, 'SW': 0.0}"
      ]
     },
     "execution_count": 28,
     "metadata": {},
     "output_type": "execute_result"
    }
   ],
   "source": [
    "getStandardPerimeterLength('others')"
   ]
  },
  {
   "cell_type": "code",
   "execution_count": 29,
   "metadata": {},
   "outputs": [
    {
     "data": {
      "text/plain": [
       "3.1900000000000004"
      ]
     },
     "execution_count": 29,
     "metadata": {},
     "output_type": "execute_result"
    }
   ],
   "source": [
    "length = sum(list(getStandardPerimeterLength('entrance').values()))\n",
    "length"
   ]
  },
  {
   "cell_type": "markdown",
   "metadata": {},
   "source": [
    "#### Input"
   ]
  },
  {
   "cell_type": "markdown",
   "metadata": {},
   "source": [
    "```\n",
    "data = {\n",
    "    'IsInputEarthFloorPerimeterPsi' : # 土間床等の外周部の線熱貫流率を入力するかどうか, bool値\n",
    "    'Psi_base_others'                 : # その他の土間床等の外周部の線熱貫流率(W/mK),\n",
    "                                          'IsInputEarthFloorPerimeterPsi'がFalseの場合は無視される。\n",
    "    'Psi_base_entrance'               : # 玄関等の土間床等の外周部の線熱貫流率(W/mK)\n",
    "                                          'IsInputEarthFloorPerimeterPsi'がFalseの場合は無視される。\n",
    "}\n",
    "```"
   ]
  },
  {
   "cell_type": "markdown",
   "metadata": {},
   "source": [
    "#### Output"
   ]
  },
  {
   "cell_type": "markdown",
   "metadata": {},
   "source": [
    "```\n",
    "data = {\n",
    "    'type'              : # 土間床の種類, string値, 'others' or 'entrance'\n",
    "    'length'            : # 熱橋長さ\n",
    "    'psi'               : # 線熱貫流率\n",
    "}\n",
    "```"
   ]
  },
  {
   "cell_type": "markdown",
   "metadata": {},
   "source": [
    "#### Function"
   ]
  },
  {
   "cell_type": "code",
   "execution_count": 30,
   "metadata": {
    "collapsed": true
   },
   "outputs": [],
   "source": [
    "def convert_earthfloorperimeters( d ):\n",
    "    \n",
    "    #簡易外皮入力モデルにおける土間床等の外周部リストを作成\n",
    "    if d['IsInputEarthFloorPerimeterPsi'] == True :\n",
    "        standard_earthfloors = [\n",
    "            { 'type':'others', 'psi':d['Psi_base_others'] },\n",
    "            { 'type':'entrance', 'psi':d['Psi_base_entrance'] }\n",
    "        ]\n",
    "    else :\n",
    "        standard_earthfloors = [\n",
    "            { 'type':'others', 'psi':1.8 },\n",
    "            { 'type':'entrance', 'psi':1.8 }\n",
    "        ]\n",
    "    \n",
    "    earthfloors=[]\n",
    "    for x in standard_earthfloors:\n",
    "        \n",
    "        #簡易外皮入力モデルの土間床等の外周部の長さを取得\n",
    "        length = sum(list(getStandardPerimeterLength(x['type']).values()))\n",
    "        \n",
    "        earthfloor ={\n",
    "            'type': x['type'],\n",
    "            'length': GetDesignPartsArea( length , d['TotalFloorArea'] ),\n",
    "            'psi' : x['psi']\n",
    "        }\n",
    "        earthfloors.append(earthfloor)\n",
    "        \n",
    "    return { 'EarthfloorPerimeters' : earthfloors }"
   ]
  },
  {
   "cell_type": "markdown",
   "metadata": {},
   "source": [
    "#### Example"
   ]
  },
  {
   "cell_type": "code",
   "execution_count": 31,
   "metadata": {},
   "outputs": [
    {
     "data": {
      "text/plain": [
       "{'EarthfloorPerimeters': [{'length': 4.85, 'psi': 1.8, 'type': 'others'},\n",
       "  {'length': 4.25, 'psi': 1.8, 'type': 'entrance'}]}"
      ]
     },
     "execution_count": 31,
     "metadata": {},
     "output_type": "execute_result"
    }
   ],
   "source": [
    "d = {\n",
    "    'TotalFloorArea': 120.0,\n",
    "    'IsInputEarthFloorPerimeterPsi' : False,\n",
    "}\n",
    "\n",
    "convert_earthfloorperimeters( d )"
   ]
  },
  {
   "cell_type": "markdown",
   "metadata": {},
   "source": [
    "## 3. Lv2入力情報のコンバート（統合）"
   ]
  },
  {
   "cell_type": "markdown",
   "metadata": {},
   "source": [
    "- 1)共通情報、2)開口部以外の不透明部位、3)開口部の透明部位、4)開口部の不透明部位、5)土間床等の外周部の線熱橋、の各コンバート関数を統合し、Lv1の入力情報をLv2の入力情報にコンバートする。"
   ]
  },
  {
   "cell_type": "code",
   "execution_count": 32,
   "metadata": {
    "collapsed": true
   },
   "outputs": [],
   "source": [
    "def Convert(d):\n",
    "    d_common = convert_common(d)\n",
    "    d_walls = convert_wall(d)\n",
    "    d_windows = convert_window(d)\n",
    "    d_doors = convert_door(d)\n",
    "    d_perimeters = convert_earthfloorperimeters(d)\n",
    "    return { \n",
    "        'Common': d_common,\n",
    "        'Walls' : d_walls,\n",
    "        'Windows' : d_windows,\n",
    "        'Doors' : d_doors,\n",
    "        'EarthfloorPerimeters' : d_perimeters\n",
    "    }"
   ]
  },
  {
   "cell_type": "code",
   "execution_count": 33,
   "metadata": {},
   "outputs": [
    {
     "data": {
      "text/plain": [
       "{'Common': {'IsSimplifiedInput': True,\n",
       "  'MainOccupantRoomFloorArea': 30.0,\n",
       "  'OtherOccupantRoomFloorArea': 60.0,\n",
       "  'Region': 6,\n",
       "  'TotalFloorArea': 120.0},\n",
       " 'Doors': {'Doors': [{'A': 0.0,\n",
       "    'IsSunshadeInput': False,\n",
       "    'Udoor': 4.65,\n",
       "    'direction': 'SW',\n",
       "    'name': 'DoorSW'},\n",
       "   {'A': 2.52,\n",
       "    'IsSunshadeInput': False,\n",
       "    'Udoor': 4.65,\n",
       "    'direction': 'NW',\n",
       "    'name': 'DoorNW'},\n",
       "   {'A': 2.16,\n",
       "    'IsSunshadeInput': False,\n",
       "    'Udoor': 4.65,\n",
       "    'direction': 'NE',\n",
       "    'name': 'DoorNE'},\n",
       "   {'A': 0.0,\n",
       "    'IsSunshadeInput': False,\n",
       "    'Udoor': 4.65,\n",
       "    'direction': 'SE',\n",
       "    'name': 'DoorSE'}]},\n",
       " 'EarthfloorPerimeters': {'EarthfloorPerimeters': [{'length': 4.85,\n",
       "    'psi': 1.8,\n",
       "    'type': 'others'},\n",
       "   {'length': 4.25, 'psi': 1.8, 'type': 'entrance'}]},\n",
       " 'Walls': {'Walls': [{'Area': 67.8,\n",
       "    'Direction': 'top',\n",
       "    'Name': 'Ceiling',\n",
       "    'Parts': [{'AreaRatio': 1.0,\n",
       "      'Layers': [{'Cond': 0.045, 'Name': 'GW16K', 'Spech': 13.0, 'Thick': 0.0},\n",
       "       {'Cond': 0.22, 'Name': 'GPB', 'Spech': 830.0, 'Thick': 0.0095}]}],\n",
       "    'Structure': 'wood',\n",
       "    'Type': 'ceiling'},\n",
       "   {'Area': 40.63,\n",
       "    'Direction': 'SW',\n",
       "    'Name': 'Wall_SW',\n",
       "    'Parts': [{'AreaRatio': 1.0,\n",
       "      'Layers': [{'Cond': 0.045, 'Name': 'GW16K', 'Spech': 13.0, 'Thick': 0.0},\n",
       "       {'Cond': 0.22, 'Name': 'GPB', 'Spech': 830.0, 'Thick': 0.0095}]}],\n",
       "    'Structure': 'wood',\n",
       "    'Type': 'wall'},\n",
       "   {'Area': 29.83,\n",
       "    'Direction': 'NW',\n",
       "    'Name': 'Wall_NW',\n",
       "    'Parts': [{'AreaRatio': 1.0,\n",
       "      'Layers': [{'Cond': 0.045, 'Name': 'GW16K', 'Spech': 13.0, 'Thick': 0.0},\n",
       "       {'Cond': 0.22, 'Name': 'GPB', 'Spech': 830.0, 'Thick': 0.0095}]}],\n",
       "    'Structure': 'wood',\n",
       "    'Type': 'wall'},\n",
       "   {'Area': 63.89,\n",
       "    'Direction': 'NE',\n",
       "    'Name': 'Wall_NE',\n",
       "    'Parts': [{'AreaRatio': 1.0,\n",
       "      'Layers': [{'Cond': 0.045, 'Name': 'GW16K', 'Spech': 13.0, 'Thick': 0.0},\n",
       "       {'Cond': 0.22, 'Name': 'GPB', 'Spech': 830.0, 'Thick': 0.0095}]}],\n",
       "    'Structure': 'wood',\n",
       "    'Type': 'wall'},\n",
       "   {'Area': 29.71,\n",
       "    'Direction': 'SE',\n",
       "    'Name': 'Wall_SE',\n",
       "    'Parts': [{'AreaRatio': 1.0,\n",
       "      'Layers': [{'Cond': 0.045, 'Name': 'GW16K', 'Spech': 13.0, 'Thick': 0.0},\n",
       "       {'Cond': 0.22, 'Name': 'GPB', 'Spech': 830.0, 'Thick': 0.0095}]}],\n",
       "    'Structure': 'wood',\n",
       "    'Type': 'wall'},\n",
       "   {'Area': 60.07,\n",
       "    'Direction': 'bottom',\n",
       "    'Name': 'Floor',\n",
       "    'Parts': [{'AreaRatio': 1.0,\n",
       "      'Layers': [{'Cond': 0.045, 'Name': 'GW16K', 'Spech': 13.0, 'Thick': 0.0},\n",
       "       {'Cond': 0.16, 'Name': 'PED', 'Spech': 720.0, 'Thick': 0.012}]}],\n",
       "    'Structure': 'wood',\n",
       "    'Type': 'floor'}]},\n",
       " 'Windows': {'Windows': [{'A': 30.25,\n",
       "    'IsSunshadeInput': True,\n",
       "    'Uw': 3.49,\n",
       "    'direction': 'SW',\n",
       "    'etaCooling': 0.51,\n",
       "    'etaHeating': 0.51,\n",
       "    'name': 'WindowSW',\n",
       "    'type': 'single',\n",
       "    'y1': 0,\n",
       "    'y2': 1.1,\n",
       "    'z': 0.348},\n",
       "   {'A': 3.17,\n",
       "    'IsSunshadeInput': True,\n",
       "    'Uw': 3.49,\n",
       "    'direction': 'NW',\n",
       "    'etaCooling': 0.51,\n",
       "    'etaHeating': 0.51,\n",
       "    'name': 'WindowNW',\n",
       "    'type': 'single',\n",
       "    'y1': 0,\n",
       "    'y2': 1.1,\n",
       "    'z': 0.316},\n",
       "   {'A': 4.84,\n",
       "    'IsSunshadeInput': True,\n",
       "    'Uw': 3.49,\n",
       "    'direction': 'NE',\n",
       "    'etaCooling': 0.51,\n",
       "    'etaHeating': 0.51,\n",
       "    'name': 'WindowNE',\n",
       "    'type': 'single',\n",
       "    'y1': 0,\n",
       "    'y2': 1.1,\n",
       "    'z': 0.316},\n",
       "   {'A': 5.83,\n",
       "    'IsSunshadeInput': True,\n",
       "    'Uw': 3.49,\n",
       "    'direction': 'SE',\n",
       "    'etaCooling': 0.51,\n",
       "    'etaHeating': 0.51,\n",
       "    'name': 'WindowSE',\n",
       "    'type': 'single',\n",
       "    'y1': 0,\n",
       "    'y2': 1.1,\n",
       "    'z': 0.348}]}}"
      ]
     },
     "execution_count": 33,
     "metadata": {},
     "output_type": "execute_result"
    }
   ],
   "source": [
    "d = {\n",
    "    'Region' : 6,\n",
    "    'MainOccupantRoomFloorArea': 30.0,\n",
    "    'OtherOccupantRoomFloorArea': 60.0,\n",
    "    'TotalFloorArea': 120.0,\n",
    "    'InsulationType' : 'floor_ins',\n",
    "    'U_roof' : 7.7,\n",
    "    'U_wall' : 6.67,\n",
    "    'U_floor' : 5.27,\n",
    "    'U_door' : 4.65,\n",
    "    'U_wnd' : 3.49,\n",
    "    'eta_d_C' : 0.51,       \n",
    "    'eta_d_H' : 0.51, \n",
    "    'IsInputFValue' : True, \n",
    "    'f_value_C' : 0.9,\n",
    "    'f_value_H' : 0.7,\n",
    "    'IsInputEarthFloorPerimeterPsi' : True,\n",
    "    'Psi_base_others' : 1.8,\n",
    "    'Psi_base_entrance' :1.8\n",
    "}\n",
    "\n",
    "Convert(d)"
   ]
  },
  {
   "cell_type": "code",
   "execution_count": null,
   "metadata": {
    "collapsed": true
   },
   "outputs": [],
   "source": []
  }
 ],
 "metadata": {
  "kernelspec": {
   "display_name": "Python 3",
   "language": "python",
   "name": "python3"
  },
  "language_info": {
   "codemirror_mode": {
    "name": "ipython",
    "version": 3
   },
   "file_extension": ".py",
   "mimetype": "text/x-python",
   "name": "python",
   "nbconvert_exporter": "python",
   "pygments_lexer": "ipython3",
   "version": "3.6.3"
  }
 },
 "nbformat": 4,
 "nbformat_minor": 2
}
