{
 "cells": [
  {
   "cell_type": "markdown",
   "metadata": {},
   "source": [
    "# 外皮情報LV1からLV2へのコンバート"
   ]
  },
  {
   "cell_type": "markdown",
   "metadata": {},
   "source": [
    "## 1. 外皮簡易法＋用途別床面積\n",
    "- 当該住戸の外皮の部位の面積等を用いずに簡易熱負荷計算を実施する場合には、部位の面積および長さを、「平成28年省エネルギー基準に準拠したエネルギー消費性能の評価に関する技術情報（住宅）」２．エネルギー消費性能の算定方法　2.2　算定方法　第三章　 暖冷房負荷と外皮性能　\t第二節　外皮性能　9.当該住戸の外皮の部位の面積等を用いずに外皮性能を評価する方法　に示された標準住戸（以下、「簡易外皮入力モデル」）における部位の面積および長さ等より推定する。\n",
    "- 屋根・天井、外壁、床の構成は、入力値である部位種別の熱貫流率をもとに、部位のU値から壁体構成を決定する方法により決定する。\n",
    "- 土間床等の外周部の線熱貫流率については、簡易熱負荷計算での扱いに従う\n",
    "- 開口部の日射熱取得率および外部日除けの取得日射熱補正係数は、それぞれ、季節別に、垂直面日射熱取得率および取得日射熱補正係数の入力値もしくは規定値を使用する。この場合、簡易熱負荷計算においては、開口部の入射角特性および外部日除けは考慮しない。\n",
    "- その他は2.と同様に求める。"
   ]
  },
  {
   "cell_type": "markdown",
   "metadata": {},
   "source": [
    "#### 《設計住戸の各部位の長さおよび面積の推定》\n",
    "$$ \\qquad\n",
    "A_{i,d}= A_{i,s}・\\frac{A_{floor,d}}{A_{floor,s}}\n",
    "\\qquad (1)\n",
    "\\\\\n",
    "$$\n",
    "$$ \\qquad\n",
    "L_{i,d}= L_{i,s}・\\frac{A_{floor,d}}{A_{floor,s}}\n",
    "\\qquad (2)\n",
    "\\\\\n",
    "$$\n",
    "\n",
    "- 入力値：\n",
    "\n",
    "  - 簡易外皮入力モデル住戸の延床面積$[m ^ 2]$：$A_{floor,s}$\n",
    "  - 設計住戸の延床面積$[m ^ 2]$：$A_{floor,d}$\n",
    "  - 簡易外皮入力モデル住戸の部位（一般部位又は開口部）𝑖の面積$[m ^ 2]$：$A_{i,s}$\n",
    "  - 簡易外皮入力モデル住戸の部位（土間床等の外周部）𝑖の長さ$[m]$：$L_{i,s}$\n",
    "\n",
    "- 出力値：\n",
    "\n",
    "  - 設計住戸の部位（一般部位又は開口部）𝑖の面積の推定値$[m ^ 2]$：$A_{i,d}$\n",
    "  - 設計住戸の部位（土間床等の外周部）𝑖の長さの推定値$[m]$：$L_{i,d}$"
   ]
  },
  {
   "cell_type": "markdown",
   "metadata": {},
   "source": [
    "## 2. コンバート【分類：共通】"
   ]
  },
  {
   "cell_type": "markdown",
   "metadata": {},
   "source": [
    "- 地域区分、主たる居室の床面積(m<sup>2</sup>)、その他の床面積(m<sup>2</sup>)、床面積の合計(m<sup>2</sup>)の情報は維持する。\n",
    "- 新たに変数「簡易外皮入力フラグ」を作成し、LV1から生成したLV2情報は必ずTrueとする。"
   ]
  },
  {
   "cell_type": "markdown",
   "metadata": {},
   "source": [
    "### Input"
   ]
  },
  {
   "cell_type": "markdown",
   "metadata": {},
   "source": [
    "```\n",
    "data = {\n",
    "    'Region'                     : # 地域の区分 1 ~ 8 の整数\n",
    "    'MainOccupantRoomFloorArea'  : # 主たる居室の床面積(m2)\n",
    "    'OtherOccupantRoomFloorArea' : # その他の居室の床面積(m2)\n",
    "    'TotalFloorArea'             : # 床面積の合計(m2)\n",
    "}\n",
    "```"
   ]
  },
  {
   "cell_type": "markdown",
   "metadata": {},
   "source": [
    "### Output"
   ]
  },
  {
   "cell_type": "markdown",
   "metadata": {},
   "source": [
    "```\n",
    "data = {\n",
    "    'Region'                      : # 地域の区分 1 ~ 8 の整数\n",
    "    'FlagSimplifiedEnvelopeInput' : # bool値 簡易入力から生成したデータか否かを表す\n",
    "    'MainOccupantRoomFloorArea'   : # 主たる居室の床面積(m2)\n",
    "    'OtherOccupantRoomFloorArea'  : # その他の居室の床面積(m2)\n",
    "    'TotalFloorArea'              : # 床面積の合計(m2)\n",
    "\n",
    "}\n",
    "```"
   ]
  },
  {
   "cell_type": "markdown",
   "metadata": {},
   "source": [
    "### Function"
   ]
  },
  {
   "cell_type": "code",
   "execution_count": 1,
   "metadata": {
    "collapsed": true
   },
   "outputs": [],
   "source": [
    "def convert_common(d):\n",
    "    return {\n",
    "        'Region'                      : d['Region'],\n",
    "        'FlagSimplifiedEnvelopeInput' : True,\n",
    "        'MainOccupantRoomFloorArea'   : d['MainOccupantRoomFloorArea'],\n",
    "        'OtherOccupantRoomFloorArea'  : d['OtherOccupantRoomFloorArea'],\n",
    "        'TotalFloorArea'              : d['TotalFloorArea']\n",
    "    }"
   ]
  },
  {
   "cell_type": "markdown",
   "metadata": {},
   "source": [
    "### Example"
   ]
  },
  {
   "cell_type": "code",
   "execution_count": 2,
   "metadata": {
    "collapsed": false
   },
   "outputs": [
    {
     "data": {
      "text/plain": [
       "{'FlagSimplifiedEnvelopeInput': True,\n",
       " 'MainOccupantRoomFloorArea': 30.0,\n",
       " 'OtherOccupantRoomFloorArea': 60.0,\n",
       " 'Region': 6,\n",
       " 'TotalFloorArea': 120.0}"
      ]
     },
     "execution_count": 2,
     "metadata": {},
     "output_type": "execute_result"
    }
   ],
   "source": [
    "convert_common({\n",
    "    'Region' : 6,\n",
    "    'MainOccupantRoomFloorArea': 30.0,\n",
    "    'OtherOccupantRoomFloorArea': 60.0,\n",
    "    'TotalFloorArea': 120.0,\n",
    "})"
   ]
  },
  {
   "cell_type": "markdown",
   "metadata": {},
   "source": [
    "#### コンバート【分類：壁体構成】\n",
    "- 部位のU値から壁体構成を決定する"
   ]
  },
  {
   "cell_type": "markdown",
   "metadata": {},
   "source": [
    "- レベル1：\n",
    "  - 壁体名称$[-]$：$name$\n",
    "  - 部位種別$[-]$：$type$\n",
    "  - 平均熱貫流率$[W/(m^2・K)]$：$U_a$\n",
    "- レベル2：\n",
    "  - 壁体名称$[-]$：$name$\n",
    "  - 部位種別$[-]$：$type$\n",
    "  - <font color=\"red\">部材名称$[-]$：$matrial$</font>\n",
    "  - <font color=\"red\">厚さ$[m]$：$d$</font>\n",
    "  - <font color=\"red\">熱伝達率$[W/(m・K)]$：$λ$</font>\n",
    "  - <font color=\"red\">容積比熱$[J/(m^3・K)]$：$Cρ$</font>\n",
    "  - 平均熱貫流率$[W/(m^2・K)]$：$U_a$"
   ]
  },
  {
   "cell_type": "markdown",
   "metadata": {},
   "source": [
    "関数の指定"
   ]
  },
  {
   "cell_type": "code",
   "execution_count": 3,
   "metadata": {
    "collapsed": true
   },
   "outputs": [],
   "source": [
    "def convert_1to2_wall(d1):\n",
    "    import nbimporter    \n",
    "    #import U_Value_to_Detail_Specification\n",
    "    #Layers=U_Value_to_Detail_Specification.convert_1to2_wall(d1)\n",
    "    from U_Value_to_Detail_Specification import convert_UtoDetailSpecification\n",
    "    Layers=convert_UtoDetailSpecification(d1)\n",
    "   \n",
    "    return {'structure': d1['structure'],\n",
    "            'name': d1['name'],\n",
    "            'type': d1['type'],\n",
    "            'Ua': d1['Ua'],\n",
    "            'Layers':Layers}"
   ]
  },
  {
   "cell_type": "markdown",
   "metadata": {},
   "source": [
    "関数の実行"
   ]
  },
  {
   "cell_type": "code",
   "execution_count": 4,
   "metadata": {
    "collapsed": false
   },
   "outputs": [
    {
     "name": "stdout",
     "output_type": "stream",
     "text": [
      "Importing Jupyter notebook from U_Value_to_Detail_Specification.ipynb\n"
     ]
    },
    {
     "data": {
      "text/plain": [
       "{'Layers': {'Layers': [{'Cρ': 13, 'd': 0.074, 'material': 'GW16K', 'λ': 0.045},\n",
       "   {'Cρ': 830, 'd': 0.0095, 'material': 'GPB', 'λ': 0.22}]},\n",
       " 'Ua': 0.538,\n",
       " 'name': 'Sample Wall',\n",
       " 'structure': 1,\n",
       " 'type': 2}"
      ]
     },
     "execution_count": 4,
     "metadata": {},
     "output_type": "execute_result"
    }
   ],
   "source": [
    "convert_1to2_wall( {\n",
    "    'structure':1,\n",
    "    'name': 'Sample Wall',\n",
    "    'type': 2,\n",
    "    'Ua': 0.538})"
   ]
  },
  {
   "cell_type": "markdown",
   "metadata": {},
   "source": [
    "#### コンバート【分類：開口部】"
   ]
  },
  {
   "cell_type": "markdown",
   "metadata": {},
   "source": [
    "- レベル1：\n",
    "  - 開口部名称$[-]$：$name$\n",
    "  - 日射熱取得率（夏期）$[-]$：$eta_c$\n",
    "  - 日射熱取得率（冬期）$[-]$：$eta_h$\n",
    "  - 熱貫流率$[W/(m^2・K)]$：$U$ \n",
    "- レベル2：\n",
    "  - 開口部名称$[-]$：$name$\n",
    "  - 日射熱取得率（夏期）$[-]$：$eta_c$\n",
    "  - 日射熱取得率（冬期）$[-]$：$eta_h$\n",
    "  - 熱貫流率$[W/(m^2・K)]$：$U$ "
   ]
  },
  {
   "cell_type": "markdown",
   "metadata": {},
   "source": [
    "関数の指定"
   ]
  },
  {
   "cell_type": "code",
   "execution_count": 5,
   "metadata": {
    "collapsed": true
   },
   "outputs": [],
   "source": [
    "def convert_1to2_window(d1):\n",
    "    return {'name': d1['name'],\n",
    "            'etac': d1['etac'],\n",
    "            'etah': d1['etah'],\n",
    "            'U': d1['U']}"
   ]
  },
  {
   "cell_type": "markdown",
   "metadata": {},
   "source": [
    "関数の実行"
   ]
  },
  {
   "cell_type": "code",
   "execution_count": 6,
   "metadata": {
    "collapsed": false
   },
   "outputs": [
    {
     "data": {
      "text/plain": [
       "{'U': 4.65, 'etac': 0.738, 'etah': 0.738, 'name': 'Sample Window'}"
      ]
     },
     "execution_count": 6,
     "metadata": {},
     "output_type": "execute_result"
    }
   ],
   "source": [
    "convert_1to2_window({\n",
    "    'name': 'Sample Window',\n",
    "    'etac': 0.738,\n",
    "    'etah': 0.738,\n",
    "    'U': 4.65})"
   ]
  },
  {
   "cell_type": "markdown",
   "metadata": {},
   "source": [
    "#### コンバート【分類：外部日除け】"
   ]
  },
  {
   "cell_type": "markdown",
   "metadata": {},
   "source": [
    "- レベル1：\n",
    "  - 外部日除け名称$[-]$：$name$\n",
    "  - 取得日射熱補正係数（夏期）$[-]$：$f_c$\n",
    "  - 取得日射熱補正係数（冬期）$[-]$：$f_h$\n",
    "- レベル2：\n",
    "  - 外部日除け名称$[-]$：$name$\n",
    "  - 取得日射熱補正係数（夏期）$[-]$：$f_c$\n",
    "  - 取得日射熱補正係数（冬期）$[-]$：$f_h$"
   ]
  },
  {
   "cell_type": "markdown",
   "metadata": {},
   "source": [
    "関数の指定"
   ]
  },
  {
   "cell_type": "code",
   "execution_count": 7,
   "metadata": {
    "collapsed": true
   },
   "outputs": [],
   "source": [
    "def convert_1to2_sunshade(d1):\n",
    "    return {'name': d1['name'],\n",
    "            'fc': d1['fc'],\n",
    "            'fh': d1['fh']}"
   ]
  },
  {
   "cell_type": "markdown",
   "metadata": {},
   "source": [
    "関数の実行"
   ]
  },
  {
   "cell_type": "code",
   "execution_count": 8,
   "metadata": {
    "collapsed": false
   },
   "outputs": [
    {
     "data": {
      "text/plain": [
       "{'fc': 0.7, 'fh': 0.6, 'name': 'Sample Sunshade'}"
      ]
     },
     "execution_count": 8,
     "metadata": {},
     "output_type": "execute_result"
    }
   ],
   "source": [
    "convert_1to2_sunshade({\n",
    "    'name': 'Sample Sunshade',\n",
    "    'fc': 0.700,\n",
    "    'fh': 0.600,})"
   ]
  },
  {
   "cell_type": "markdown",
   "metadata": {},
   "source": [
    "#### コンバート【分類：部位情報】\n",
    "\n",
    "- 簡易外皮入力モデル住戸の部位の長さおよび面積、設計住戸の延床面積より、設計住戸の各部位の長さおよび面積の推定を行う"
   ]
  },
  {
   "cell_type": "markdown",
   "metadata": {},
   "source": [
    "- レベル1：\n",
    "  - 外皮フラグ$[-]$：$FlagPerimeter$\n",
    "  - 日射フラグ$[-]$：$FlagSolarRadiation$\n",
    "  - 方位$[-]$：$direction$\n",
    "  - 非定常フラグ$[-]$：$FlagUnsteady$\n",
    "  - 壁体・開口部名称$[-]$：$name$\n",
    "  - 部位面積$[m^2]$：$A$\n",
    "  - 外部日除け名称$[-]$：$sunshade$\n",
    "- レベル2：\n",
    "  - 外皮フラグ$[-]$：$FlagPerimeter$\n",
    "  - 日射フラグ$[-]$：$FlagSolarRadiation$\n",
    "  - 方位$[-]$：$direction$\n",
    "  - 非定常フラグ$[-]$：$FlagUnsteady$\n",
    "  - 壁体・開口部名称$[-]$：$name$\n",
    "  - 部位面積$[m^2]$：$A$\n",
    "  - 外部日除け名称$[-]$：$sunshade$"
   ]
  },
  {
   "cell_type": "markdown",
   "metadata": {},
   "source": [
    "関数の指定"
   ]
  },
  {
   "cell_type": "code",
   "execution_count": 9,
   "metadata": {
    "collapsed": true
   },
   "outputs": [],
   "source": [
    "def convert_1to2_element(d1,d):\n",
    "    FloorArea=d['Common']['TotalFloorArea']\n",
    "    return {'name': d1['name'],\n",
    "            'FlagPerimeter': d1['FlagPerimeter'],\n",
    "            'FlagSolarRadiation': d1['FlagSolarRadiation'],\n",
    "            'FlagUnsteady': d1['FlagUnsteady'],\n",
    "            'direction': d1['direction'],\n",
    "            'A': round(d1['A']*FloorArea/90,2)}"
   ]
  },
  {
   "cell_type": "markdown",
   "metadata": {},
   "source": [
    "関数の実行"
   ]
  },
  {
   "cell_type": "code",
   "execution_count": 10,
   "metadata": {
    "collapsed": false
   },
   "outputs": [
    {
     "data": {
      "text/plain": [
       "{'A': 1.33,\n",
       " 'FlagPerimeter': 1,\n",
       " 'FlagSolarRadiation': 1,\n",
       " 'FlagUnsteady': 1,\n",
       " 'direction': 1,\n",
       " 'name': 'Sample Element'}"
      ]
     },
     "execution_count": 10,
     "metadata": {},
     "output_type": "execute_result"
    }
   ],
   "source": [
    "convert_1to2_element({\n",
    "    'name': 'Sample Element',\n",
    "    'FlagPerimeter': 1,\n",
    "    'FlagSolarRadiation': 1,\n",
    "    'FlagUnsteady': 1,\n",
    "    'direction': 1,\n",
    "    'A': 1},{\n",
    "    'Common':{\n",
    "    'Region' : 6,\n",
    "    'MainOccupantRoomFloorArea': 30.0,\n",
    "    'OtherOccupantRoomFloorArea': 60.0,\n",
    "    'TotalFloorArea': 120.0,}})"
   ]
  },
  {
   "cell_type": "markdown",
   "metadata": {},
   "source": [
    "#### コンバート【全分類】"
   ]
  },
  {
   "cell_type": "code",
   "execution_count": 11,
   "metadata": {
    "collapsed": false
   },
   "outputs": [],
   "source": [
    "def Convert(d):\n",
    "    d_common = convert_common(d['Common'])\n",
    "\n",
    "    #標準住戸における部位の面積及び土間床等の外周部の長さ等（い）床断熱住戸の場合\n",
    "    #番号,外皮フラグ[-],日射フラグ[-],方位[-],非定常フラグ[-],壁体・開口部名称[-],部位面積[㎡],外部日除け名称[-]\n",
    "    #ElementNo,FlagPerimeter,FlagSolarRadiation,direction,FlagUnsteady,name,A,Sunshade\n",
    "    StandardHouseElemntsFI = [ {'FlagPerimeter':1,'FlagSolarRadiation':1,'direction': 1,'FlagUnsteady':1,'name':'Ceiling', 'A':50.85,'Sunshade':None},\n",
    "                               {'FlagPerimeter':1,'FlagSolarRadiation':1,'direction': 7,'FlagUnsteady':1,'name':'Wall',    'A':30.47,'Sunshade':None},\n",
    "                               {'FlagPerimeter':1,'FlagSolarRadiation':1,'direction': 9,'FlagUnsteady':1,'name':'Wall',    'A':22.37,'Sunshade':None},\n",
    "                               {'FlagPerimeter':1,'FlagSolarRadiation':1,'direction': 3,'FlagUnsteady':1,'name':'Wall',    'A':47.92,'Sunshade':None},\n",
    "                               {'FlagPerimeter':1,'FlagSolarRadiation':1,'direction': 5,'FlagUnsteady':1,'name':'Wall',    'A':22.28,'Sunshade':None},\n",
    "                               {'FlagPerimeter':1,'FlagSolarRadiation':1,'direction': 7,'FlagUnsteady':2,'name':'Door',    'A': 0.00,'Sunshade':None},\n",
    "                               {'FlagPerimeter':1,'FlagSolarRadiation':1,'direction': 9,'FlagUnsteady':2,'name':'Door',    'A': 1.89,'Sunshade':None},\n",
    "                               {'FlagPerimeter':1,'FlagSolarRadiation':1,'direction': 3,'FlagUnsteady':2,'name':'Door',    'A': 1.62,'Sunshade':None},\n",
    "                               {'FlagPerimeter':1,'FlagSolarRadiation':1,'direction': 5,'FlagUnsteady':2,'name':'Door',    'A': 0.00,'Sunshade':None},\n",
    "                               {'FlagPerimeter':1,'FlagSolarRadiation':1,'direction': 7,'FlagUnsteady':2,'name':'Window',  'A':22.69,'Sunshade':'Sunshade'},\n",
    "                               {'FlagPerimeter':1,'FlagSolarRadiation':1,'direction': 9,'FlagUnsteady':2,'name':'Window',  'A': 2.38,'Sunshade':'Sunshade'},\n",
    "                               {'FlagPerimeter':1,'FlagSolarRadiation':1,'direction': 3,'FlagUnsteady':2,'name':'Window',  'A': 3.63,'Sunshade':'Sunshade'},\n",
    "                               {'FlagPerimeter':1,'FlagSolarRadiation':1,'direction': 5,'FlagUnsteady':2,'name':'Window',  'A': 4.37,'Sunshade':'Sunshade'},\n",
    "                               {'FlagPerimeter':1,'FlagSolarRadiation':2,'direction':12,'FlagUnsteady':1,'name':'Floor',   'A':45.05,'Sunshade':None},\n",
    "                               {'FlagPerimeter':1,'FlagSolarRadiation':1,'direction': 7,'FlagUnsteady':1,'name':'AbaseSW', 'A': 0.00,'Sunshade':None},\n",
    "                               {'FlagPerimeter':1,'FlagSolarRadiation':1,'direction': 9,'FlagUnsteady':1,'name':'AbaseNW', 'A': 0.91,'Sunshade':None},\n",
    "                               {'FlagPerimeter':1,'FlagSolarRadiation':1,'direction': 3,'FlagUnsteady':1,'name':'AbaseNE', 'A': 0.91,'Sunshade':None},\n",
    "                               {'FlagPerimeter':1,'FlagSolarRadiation':1,'direction': 5,'FlagUnsteady':1,'name':'AbaseSE', 'A': 0.00,'Sunshade':None},\n",
    "                               {'FlagPerimeter':1,'FlagSolarRadiation':2,'direction':12,'FlagUnsteady':1,'name':'AbaseIF', 'A': 1.82,'Sunshade':None},\n",
    "                               {'FlagPerimeter':1,'FlagSolarRadiation':1,'direction': 7,'FlagUnsteady':1,'name':'AbasedSW','A': 0.00,'Sunshade':None},\n",
    "                               {'FlagPerimeter':1,'FlagSolarRadiation':1,'direction': 9,'FlagUnsteady':1,'name':'AbasedNW','A': 0.33,'Sunshade':None},\n",
    "                               {'FlagPerimeter':1,'FlagSolarRadiation':1,'direction': 3,'FlagUnsteady':1,'name':'AbasedNE','A': 0.25,'Sunshade':None},\n",
    "                               {'FlagPerimeter':1,'FlagSolarRadiation':1,'direction': 5,'FlagUnsteady':1,'name':'AbasedSE','A': 0.00,'Sunshade':None},\n",
    "                               {'FlagPerimeter':1,'FlagSolarRadiation':2,'direction':12,'FlagUnsteady':1,'name':'AbasedIF','A': 0.57,'Sunshade':None},\n",
    "                               {'FlagPerimeter':1,'FlagSolarRadiation':1,'direction': 7,'FlagUnsteady':1,'name':'LprmSW',  'A': 0.00,'Sunshade':None},\n",
    "                               {'FlagPerimeter':1,'FlagSolarRadiation':1,'direction': 9,'FlagUnsteady':1,'name':'LprmNW',  'A': 1.82,'Sunshade':None},\n",
    "                               {'FlagPerimeter':1,'FlagSolarRadiation':1,'direction': 3,'FlagUnsteady':1,'name':'LprmNE',  'A': 1.82,'Sunshade':None},\n",
    "                               {'FlagPerimeter':1,'FlagSolarRadiation':1,'direction': 5,'FlagUnsteady':1,'name':'LprmSE',  'A': 0.00,'Sunshade':None},\n",
    "                               {'FlagPerimeter':1,'FlagSolarRadiation':2,'direction':12,'FlagUnsteady':1,'name':'LprmIF',  'A': 3.64,'Sunshade':None},\n",
    "                               {'FlagPerimeter':1,'FlagSolarRadiation':1,'direction': 7,'FlagUnsteady':1,'name':'LprmdSW', 'A': 0.00,'Sunshade':None},\n",
    "                               {'FlagPerimeter':1,'FlagSolarRadiation':1,'direction': 9,'FlagUnsteady':1,'name':'LprmdNW', 'A': 1.82,'Sunshade':None},\n",
    "                               {'FlagPerimeter':1,'FlagSolarRadiation':1,'direction': 3,'FlagUnsteady':1,'name':'LprmdNE', 'A': 1.37,'Sunshade':None},\n",
    "                               {'FlagPerimeter':1,'FlagSolarRadiation':1,'direction': 5,'FlagUnsteady':1,'name':'prmdSE',  'A': 0.00,'Sunshade':None},\n",
    "                               {'FlagPerimeter':1,'FlagSolarRadiation':2,'direction':12,'FlagUnsteady':1,'name':'LprmdIF', 'A': 3.19,'Sunshade':None} ]\n",
    "\n",
    "    dictionary_element=[]\n",
    "    for e in StandardHouseElemntsFI:\n",
    "        # dictionary_element=dictionary_element+[[]]\n",
    "        temporary=convert_1to2_element(e, d)\n",
    "        if e['name']=='Ceiling':\n",
    "            temporary['Wall']=convert_1to2_wall( {'structure':1,'name': 'Ceiling','type': 1,'Ua': 0.24})\n",
    "        elif e['name']=='Wall':\n",
    "            temporary['Wall']=convert_1to2_wall( {'structure':1,'name': 'Wall','type': 2,'Ua': 0.53})\n",
    "        elif e['name']=='Floor':\n",
    "            temporary['Wall']=convert_1to2_wall( {'structure':1,'name': 'Floor','type': 3,'Ua': 0.53})\n",
    "        elif e['name']=='Window':\n",
    "            temporary['Window']=convert_1to2_window({'name': 'Window','etac': 0.51,'etah': 0.51,'U': 3.49})\n",
    "            temporary['Sunshade']=convert_1to2_sunshade({'name': 'Sunshade','fc': 0.700,'fh': 0.600,})\n",
    "        elif e['name']=='Door':\n",
    "            temporary['Door']=convert_1to2_window(\n",
    "                {'name': 'Door','etac':round(2.33*0.034,3),'etah':round(2.33*0.034,3),'U': 2.33})\n",
    "        # dictionary_element[i].append(temporary)\n",
    "        dictionary_element.append(temporary)\n",
    "\n",
    "    return {'common':d_common,'element':dictionary_element}"
   ]
  },
  {
   "cell_type": "code",
   "execution_count": 12,
   "metadata": {
    "collapsed": false
   },
   "outputs": [
    {
     "data": {
      "text/plain": [
       "{'common': {'FlagSimplifiedEnvelopeInput': True,\n",
       "  'MainOccupantRoomFloorArea': 30.0,\n",
       "  'OtherOccupantRoomFloorArea': 60.0,\n",
       "  'Region': 6,\n",
       "  'TotalFloorArea': 120.0},\n",
       " 'element': [{'A': 67.8,\n",
       "   'FlagPerimeter': 1,\n",
       "   'FlagSolarRadiation': 1,\n",
       "   'FlagUnsteady': 1,\n",
       "   'Wall': {'Layers': {'Layers': [{'Cρ': 13,\n",
       "       'd': 0.179,\n",
       "       'material': 'GW16K',\n",
       "       'λ': 0.045},\n",
       "      {'Cρ': 830, 'd': 0.0095, 'material': 'GPB', 'λ': 0.22}]},\n",
       "    'Ua': 0.24,\n",
       "    'name': 'Ceiling',\n",
       "    'structure': 1,\n",
       "    'type': 1},\n",
       "   'direction': 1,\n",
       "   'name': 'Ceiling'},\n",
       "  {'A': 40.63,\n",
       "   'FlagPerimeter': 1,\n",
       "   'FlagSolarRadiation': 1,\n",
       "   'FlagUnsteady': 1,\n",
       "   'Wall': {'Layers': {'Layers': [{'Cρ': 13,\n",
       "       'd': 0.076,\n",
       "       'material': 'GW16K',\n",
       "       'λ': 0.045},\n",
       "      {'Cρ': 830, 'd': 0.0095, 'material': 'GPB', 'λ': 0.22}]},\n",
       "    'Ua': 0.53,\n",
       "    'name': 'Wall',\n",
       "    'structure': 1,\n",
       "    'type': 2},\n",
       "   'direction': 7,\n",
       "   'name': 'Wall'},\n",
       "  {'A': 29.83,\n",
       "   'FlagPerimeter': 1,\n",
       "   'FlagSolarRadiation': 1,\n",
       "   'FlagUnsteady': 1,\n",
       "   'Wall': {'Layers': {'Layers': [{'Cρ': 13,\n",
       "       'd': 0.076,\n",
       "       'material': 'GW16K',\n",
       "       'λ': 0.045},\n",
       "      {'Cρ': 830, 'd': 0.0095, 'material': 'GPB', 'λ': 0.22}]},\n",
       "    'Ua': 0.53,\n",
       "    'name': 'Wall',\n",
       "    'structure': 1,\n",
       "    'type': 2},\n",
       "   'direction': 9,\n",
       "   'name': 'Wall'},\n",
       "  {'A': 63.89,\n",
       "   'FlagPerimeter': 1,\n",
       "   'FlagSolarRadiation': 1,\n",
       "   'FlagUnsteady': 1,\n",
       "   'Wall': {'Layers': {'Layers': [{'Cρ': 13,\n",
       "       'd': 0.076,\n",
       "       'material': 'GW16K',\n",
       "       'λ': 0.045},\n",
       "      {'Cρ': 830, 'd': 0.0095, 'material': 'GPB', 'λ': 0.22}]},\n",
       "    'Ua': 0.53,\n",
       "    'name': 'Wall',\n",
       "    'structure': 1,\n",
       "    'type': 2},\n",
       "   'direction': 3,\n",
       "   'name': 'Wall'},\n",
       "  {'A': 29.71,\n",
       "   'FlagPerimeter': 1,\n",
       "   'FlagSolarRadiation': 1,\n",
       "   'FlagUnsteady': 1,\n",
       "   'Wall': {'Layers': {'Layers': [{'Cρ': 13,\n",
       "       'd': 0.076,\n",
       "       'material': 'GW16K',\n",
       "       'λ': 0.045},\n",
       "      {'Cρ': 830, 'd': 0.0095, 'material': 'GPB', 'λ': 0.22}]},\n",
       "    'Ua': 0.53,\n",
       "    'name': 'Wall',\n",
       "    'structure': 1,\n",
       "    'type': 2},\n",
       "   'direction': 5,\n",
       "   'name': 'Wall'},\n",
       "  {'A': 0.0,\n",
       "   'Door': {'U': 2.33, 'etac': 0.079, 'etah': 0.079, 'name': 'Door'},\n",
       "   'FlagPerimeter': 1,\n",
       "   'FlagSolarRadiation': 1,\n",
       "   'FlagUnsteady': 2,\n",
       "   'direction': 7,\n",
       "   'name': 'Door'},\n",
       "  {'A': 2.52,\n",
       "   'Door': {'U': 2.33, 'etac': 0.079, 'etah': 0.079, 'name': 'Door'},\n",
       "   'FlagPerimeter': 1,\n",
       "   'FlagSolarRadiation': 1,\n",
       "   'FlagUnsteady': 2,\n",
       "   'direction': 9,\n",
       "   'name': 'Door'},\n",
       "  {'A': 2.16,\n",
       "   'Door': {'U': 2.33, 'etac': 0.079, 'etah': 0.079, 'name': 'Door'},\n",
       "   'FlagPerimeter': 1,\n",
       "   'FlagSolarRadiation': 1,\n",
       "   'FlagUnsteady': 2,\n",
       "   'direction': 3,\n",
       "   'name': 'Door'},\n",
       "  {'A': 0.0,\n",
       "   'Door': {'U': 2.33, 'etac': 0.079, 'etah': 0.079, 'name': 'Door'},\n",
       "   'FlagPerimeter': 1,\n",
       "   'FlagSolarRadiation': 1,\n",
       "   'FlagUnsteady': 2,\n",
       "   'direction': 5,\n",
       "   'name': 'Door'},\n",
       "  {'A': 30.25,\n",
       "   'FlagPerimeter': 1,\n",
       "   'FlagSolarRadiation': 1,\n",
       "   'FlagUnsteady': 2,\n",
       "   'Sunshade': {'fc': 0.7, 'fh': 0.6, 'name': 'Sunshade'},\n",
       "   'Window': {'U': 3.49, 'etac': 0.51, 'etah': 0.51, 'name': 'Window'},\n",
       "   'direction': 7,\n",
       "   'name': 'Window'},\n",
       "  {'A': 3.17,\n",
       "   'FlagPerimeter': 1,\n",
       "   'FlagSolarRadiation': 1,\n",
       "   'FlagUnsteady': 2,\n",
       "   'Sunshade': {'fc': 0.7, 'fh': 0.6, 'name': 'Sunshade'},\n",
       "   'Window': {'U': 3.49, 'etac': 0.51, 'etah': 0.51, 'name': 'Window'},\n",
       "   'direction': 9,\n",
       "   'name': 'Window'},\n",
       "  {'A': 4.84,\n",
       "   'FlagPerimeter': 1,\n",
       "   'FlagSolarRadiation': 1,\n",
       "   'FlagUnsteady': 2,\n",
       "   'Sunshade': {'fc': 0.7, 'fh': 0.6, 'name': 'Sunshade'},\n",
       "   'Window': {'U': 3.49, 'etac': 0.51, 'etah': 0.51, 'name': 'Window'},\n",
       "   'direction': 3,\n",
       "   'name': 'Window'},\n",
       "  {'A': 5.83,\n",
       "   'FlagPerimeter': 1,\n",
       "   'FlagSolarRadiation': 1,\n",
       "   'FlagUnsteady': 2,\n",
       "   'Sunshade': {'fc': 0.7, 'fh': 0.6, 'name': 'Sunshade'},\n",
       "   'Window': {'U': 3.49, 'etac': 0.51, 'etah': 0.51, 'name': 'Window'},\n",
       "   'direction': 5,\n",
       "   'name': 'Window'},\n",
       "  {'A': 60.07,\n",
       "   'FlagPerimeter': 1,\n",
       "   'FlagSolarRadiation': 2,\n",
       "   'FlagUnsteady': 1,\n",
       "   'Wall': {'Layers': {'Layers': [{'Cρ': 13,\n",
       "       'd': 0.072,\n",
       "       'material': 'GW16K',\n",
       "       'λ': 0.045},\n",
       "      {'Cρ': 720, 'd': 0.012, 'material': 'PED', 'λ': 0.16}]},\n",
       "    'Ua': 0.53,\n",
       "    'name': 'Floor',\n",
       "    'structure': 1,\n",
       "    'type': 3},\n",
       "   'direction': 12,\n",
       "   'name': 'Floor'},\n",
       "  {'A': 0.0,\n",
       "   'FlagPerimeter': 1,\n",
       "   'FlagSolarRadiation': 1,\n",
       "   'FlagUnsteady': 1,\n",
       "   'direction': 7,\n",
       "   'name': 'AbaseSW'},\n",
       "  {'A': 1.21,\n",
       "   'FlagPerimeter': 1,\n",
       "   'FlagSolarRadiation': 1,\n",
       "   'FlagUnsteady': 1,\n",
       "   'direction': 9,\n",
       "   'name': 'AbaseNW'},\n",
       "  {'A': 1.21,\n",
       "   'FlagPerimeter': 1,\n",
       "   'FlagSolarRadiation': 1,\n",
       "   'FlagUnsteady': 1,\n",
       "   'direction': 3,\n",
       "   'name': 'AbaseNE'},\n",
       "  {'A': 0.0,\n",
       "   'FlagPerimeter': 1,\n",
       "   'FlagSolarRadiation': 1,\n",
       "   'FlagUnsteady': 1,\n",
       "   'direction': 5,\n",
       "   'name': 'AbaseSE'},\n",
       "  {'A': 2.43,\n",
       "   'FlagPerimeter': 1,\n",
       "   'FlagSolarRadiation': 2,\n",
       "   'FlagUnsteady': 1,\n",
       "   'direction': 12,\n",
       "   'name': 'AbaseIF'},\n",
       "  {'A': 0.0,\n",
       "   'FlagPerimeter': 1,\n",
       "   'FlagSolarRadiation': 1,\n",
       "   'FlagUnsteady': 1,\n",
       "   'direction': 7,\n",
       "   'name': 'AbasedSW'},\n",
       "  {'A': 0.44,\n",
       "   'FlagPerimeter': 1,\n",
       "   'FlagSolarRadiation': 1,\n",
       "   'FlagUnsteady': 1,\n",
       "   'direction': 9,\n",
       "   'name': 'AbasedNW'},\n",
       "  {'A': 0.33,\n",
       "   'FlagPerimeter': 1,\n",
       "   'FlagSolarRadiation': 1,\n",
       "   'FlagUnsteady': 1,\n",
       "   'direction': 3,\n",
       "   'name': 'AbasedNE'},\n",
       "  {'A': 0.0,\n",
       "   'FlagPerimeter': 1,\n",
       "   'FlagSolarRadiation': 1,\n",
       "   'FlagUnsteady': 1,\n",
       "   'direction': 5,\n",
       "   'name': 'AbasedSE'},\n",
       "  {'A': 0.76,\n",
       "   'FlagPerimeter': 1,\n",
       "   'FlagSolarRadiation': 2,\n",
       "   'FlagUnsteady': 1,\n",
       "   'direction': 12,\n",
       "   'name': 'AbasedIF'},\n",
       "  {'A': 0.0,\n",
       "   'FlagPerimeter': 1,\n",
       "   'FlagSolarRadiation': 1,\n",
       "   'FlagUnsteady': 1,\n",
       "   'direction': 7,\n",
       "   'name': 'LprmSW'},\n",
       "  {'A': 2.43,\n",
       "   'FlagPerimeter': 1,\n",
       "   'FlagSolarRadiation': 1,\n",
       "   'FlagUnsteady': 1,\n",
       "   'direction': 9,\n",
       "   'name': 'LprmNW'},\n",
       "  {'A': 2.43,\n",
       "   'FlagPerimeter': 1,\n",
       "   'FlagSolarRadiation': 1,\n",
       "   'FlagUnsteady': 1,\n",
       "   'direction': 3,\n",
       "   'name': 'LprmNE'},\n",
       "  {'A': 0.0,\n",
       "   'FlagPerimeter': 1,\n",
       "   'FlagSolarRadiation': 1,\n",
       "   'FlagUnsteady': 1,\n",
       "   'direction': 5,\n",
       "   'name': 'LprmSE'},\n",
       "  {'A': 4.85,\n",
       "   'FlagPerimeter': 1,\n",
       "   'FlagSolarRadiation': 2,\n",
       "   'FlagUnsteady': 1,\n",
       "   'direction': 12,\n",
       "   'name': 'LprmIF'},\n",
       "  {'A': 0.0,\n",
       "   'FlagPerimeter': 1,\n",
       "   'FlagSolarRadiation': 1,\n",
       "   'FlagUnsteady': 1,\n",
       "   'direction': 7,\n",
       "   'name': 'LprmdSW'},\n",
       "  {'A': 2.43,\n",
       "   'FlagPerimeter': 1,\n",
       "   'FlagSolarRadiation': 1,\n",
       "   'FlagUnsteady': 1,\n",
       "   'direction': 9,\n",
       "   'name': 'LprmdNW'},\n",
       "  {'A': 1.83,\n",
       "   'FlagPerimeter': 1,\n",
       "   'FlagSolarRadiation': 1,\n",
       "   'FlagUnsteady': 1,\n",
       "   'direction': 3,\n",
       "   'name': 'LprmdNE'},\n",
       "  {'A': 0.0,\n",
       "   'FlagPerimeter': 1,\n",
       "   'FlagSolarRadiation': 1,\n",
       "   'FlagUnsteady': 1,\n",
       "   'direction': 5,\n",
       "   'name': 'prmdSE'},\n",
       "  {'A': 4.25,\n",
       "   'FlagPerimeter': 1,\n",
       "   'FlagSolarRadiation': 2,\n",
       "   'FlagUnsteady': 1,\n",
       "   'direction': 12,\n",
       "   'name': 'LprmdIF'}]}"
      ]
     },
     "execution_count": 12,
     "metadata": {},
     "output_type": "execute_result"
    }
   ],
   "source": [
    "d = {\n",
    "    'Common' : {\n",
    "        'Region'                     : 6,\n",
    "        'MainOccupantRoomFloorArea'  : 30.0,\n",
    "        'OtherOccupantRoomFloorArea' : 60.0,\n",
    "        'TotalFloorArea'             : 120.0\n",
    "    }\n",
    "}\n",
    "\n",
    "Convert(d)"
   ]
  },
  {
   "cell_type": "code",
   "execution_count": null,
   "metadata": {
    "collapsed": true
   },
   "outputs": [],
   "source": []
  }
 ],
 "metadata": {
  "kernelspec": {
   "display_name": "Python 3",
   "language": "python",
   "name": "python3"
  },
  "language_info": {
   "codemirror_mode": {
    "name": "ipython",
    "version": 3
   },
   "file_extension": ".py",
   "mimetype": "text/x-python",
   "name": "python",
   "nbconvert_exporter": "python",
   "pygments_lexer": "ipython3",
   "version": "3.6.2"
  }
 },
 "nbformat": 4,
 "nbformat_minor": 2
}
