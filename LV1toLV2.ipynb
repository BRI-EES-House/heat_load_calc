{
 "cells": [
  {
   "cell_type": "code",
   "execution_count": 1,
   "metadata": {},
   "outputs": [],
   "source": [
    "import math\n",
    "import numpy as np\n",
    "import nbimporter\n",
    "import matplotlib.pyplot as plt\n",
    "import copy"
   ]
  },
  {
   "cell_type": "markdown",
   "metadata": {},
   "source": [
    "# 外皮情報LV1からLV2へのコンバート"
   ]
  },
  {
   "cell_type": "markdown",
   "metadata": {},
   "source": [
    "## 1. 外皮簡易法＋用途別床面積"
   ]
  },
  {
   "cell_type": "markdown",
   "metadata": {},
   "source": [
    "- 当該住戸の外皮の部位の面積等を用いずに簡易熱負荷計算を実施する場合には、部位の面積および長さを、「平成28年省エネルギー基準に準拠したエネルギー消費性能の評価に関する技術情報（住宅）」２．エネルギー消費性能の算定方法　2.2　算定方法　第三章　 暖冷房負荷と外皮性能　\t第二節　外皮性能　9.当該住戸の外皮の部位の面積等を用いずに外皮性能を評価する方法　に示された標準住戸（以下、「簡易外皮入力モデル」）における部位の面積および長さ等より推定する。\n",
    "- 屋根・天井、外壁、床の構成は、入力値である部位種別の熱貫流率をもとに、部位のU値から壁体構成を決定する方法により決定する。\n",
    "- 土間床等の外周部の線熱貫流率については、簡易熱負荷計算での扱いに従う\n",
    "- 開口部の日射熱取得率および外部日除けの取得日射熱補正係数は、それぞれ、季節別に、垂直面日射熱取得率および取得日射熱補正係数の入力値もしくは規定値を使用する。この場合、簡易熱負荷計算においては、開口部の入射角特性および外部日除けは考慮しない。\n",
    "- その他は、外皮性能計算プログラムの入力情報に用途別床面積を追加したものと同様に求める。"
   ]
  },
  {
   "cell_type": "markdown",
   "metadata": {},
   "source": [
    "## I. 関数"
   ]
  },
  {
   "cell_type": "markdown",
   "metadata": {},
   "source": [
    "### 1. 規模係数"
   ]
  },
  {
   "cell_type": "markdown",
   "metadata": {},
   "source": [
    "$$r_{size} = \\frac{ A_A }{ A_{S,A} }$$"
   ]
  },
  {
   "cell_type": "markdown",
   "metadata": {},
   "source": [
    "$r_{size}$: 規模係数  \n",
    "$A_{A}$: 床面積の合計, m<sup>2</sup>  \n",
    "$A_{S,A}$: 簡易モデル住宅の床面積の合計, m<sup>2</sup>  "
   ]
  },
  {
   "cell_type": "markdown",
   "metadata": {},
   "source": [
    "$A_{S,A}$は90.0(m<sup>2</sup>)とする。"
   ]
  },
  {
   "cell_type": "code",
   "execution_count": 2,
   "metadata": {},
   "outputs": [],
   "source": [
    "def get_size_ratio(a_a):\n",
    "    \n",
    "    a_s_a = 90.0\n",
    "    \n",
    "    return a_a / a_s_a"
   ]
  },
  {
   "cell_type": "markdown",
   "metadata": {},
   "source": [
    "### 2. 主開口方位"
   ]
  },
  {
   "cell_type": "markdown",
   "metadata": {},
   "source": [
    "主開口方位は南西とする。"
   ]
  },
  {
   "cell_type": "code",
   "execution_count": 3,
   "metadata": {},
   "outputs": [],
   "source": [
    "def get_direction(angle):\n",
    "    \n",
    "    if angle == '0':\n",
    "        return 'sw'\n",
    "    elif angle == '90':\n",
    "        return 'nw'\n",
    "    elif angle == '180':\n",
    "        return 'ne'\n",
    "    elif angle == '270':\n",
    "        return 'se'\n",
    "    else:\n",
    "        return angle"
   ]
  },
  {
   "cell_type": "markdown",
   "metadata": {},
   "source": [
    "### 3. 一般部位"
   ]
  },
  {
   "cell_type": "markdown",
   "metadata": {},
   "source": [
    "| 番号 | 部位の種類 | 隣接空間の種類 | 方位 | 床断熱住戸<br>浴室床断熱<br>面積(m2) | 床断熱住戸<br>浴室基礎断熱<br>面積(m2) | 床断熱住戸<br>浴室床なし<br>面積(m2) | 基礎断熱住戸<br>面積(m2) | 熱貫流率(W/m2K) |\n",
    "| --- | --- | --- | --- | --- | --- | --- | --- | --- |\n",
    "| 1 | 屋根又は天井 | 外気             |  上面 | 50.85 | 50.85 | 50.85 | 50.85 | $U_{roof}$        |\n",
    "| 2 | 壁           | 外気             |   0度 | 30.47 | 30.47 | 30.47 | 30.47 | $U_{wall}$        |\n",
    "| 3 | 壁           | 外気             |  90度 | 22.37 | 22.37 | 22.37 | 22.37 | $U_{wall}$        |\n",
    "| 4 | 壁           | 外気             | 180度 | 47.92 | 47.92 | 47.92 | 47.92 | $U_{wall}$        |\n",
    "| 5 | 壁           | 外気             | 270度 | 22.28 | 22.28 | 22.28 | 22.28 | $U_{wall}$        |\n",
    "| 6 | 床           | 外気に通じる床裏 |  下面 | 45.05 | 45.05 | 48.36 |  0.00 | $U_{floor,other}$ |\n",
    "| 7 | 床           | 外気に通じる床裏 |  下面 |  3.31 |  0.00 |  0.00 |  0.00 | $U_{floor,bath}$  |"
   ]
  },
  {
   "cell_type": "markdown",
   "metadata": {},
   "source": [
    "面積は表の値に規模係数を乗じた値とする。"
   ]
  },
  {
   "cell_type": "code",
   "execution_count": 4,
   "metadata": {},
   "outputs": [],
   "source": [
    "def get_general_parts(total_floor_area, house_type,\n",
    "                      u_value_roof, u_value_wall, u_value_floor_other = None, u_value_floor_bathroom = None, **kwargs):\n",
    "\n",
    "    table = [\n",
    "        [1, 'ceiling', 'outdoor'   , 'top',      {'f_f' : 50.85, 'f_b' : 50.85, 'f_n' : 50.85, 'b' : 50.85}, u_value_roof           ],\n",
    "        [2, 'wall',    'outdoor'   , '0',        {'f_f' : 30.47, 'f_b' : 30.47, 'f_n' : 30.47, 'b' : 30.47}, u_value_wall           ],\n",
    "        [3, 'wall',    'outdoor'   , '90',       {'f_f' : 22.37, 'f_b' : 22.37, 'f_n' : 22.37, 'b' : 22.37}, u_value_wall           ],\n",
    "        [4, 'wall',    'outdoor'   , '180',      {'f_f' : 47.92, 'f_b' : 47.92, 'f_n' : 47.92, 'b' : 47.92}, u_value_wall           ],\n",
    "        [5, 'wall',    'outdoor'   , '270',      {'f_f' : 22.28, 'f_b' : 22.28, 'f_n' : 22.28, 'b' : 22.28}, u_value_wall           ],\n",
    "        [6, 'floor',   'underfloor', 'downward', {'f_f' : 45.05, 'f_b' : 45.05, 'f_n' : 48.36, 'b' :  0.00}, u_value_floor_other    ],\n",
    "        [7, 'floor',   'underfloor', 'downward', {'f_f' :  3.31, 'f_b' :  0.00, 'f_n' :  0.00, 'b' :  0.00}, u_value_floor_bathroom ],\n",
    "    ]\n",
    "\n",
    "    parts = []\n",
    "    \n",
    "    for row in table:\n",
    "        \n",
    "        if row[4][house_type] > 0.0:\n",
    "            \n",
    "            parts.append({\n",
    "                'name'              : 'simple_general_part' + str(row[0]),\n",
    "                'evlp_type'         : row[1],\n",
    "                'next_space'        : row[2],\n",
    "                'direction'         : get_direction(row[3]),\n",
    "                'area'              : row[4][house_type] * get_size_ratio(total_floor_area),\n",
    "                'structure'         : 'wood',\n",
    "                'input_method_wall' : 'u_value',\n",
    "                'u_value'           : row[5],\n",
    "                'is_sunshade_input' : False\n",
    "            })\n",
    "    \n",
    "    return parts"
   ]
  },
  {
   "cell_type": "markdown",
   "metadata": {},
   "source": [
    "example"
   ]
  },
  {
   "cell_type": "code",
   "execution_count": 5,
   "metadata": {},
   "outputs": [
    {
     "data": {
      "text/plain": [
       "[{'name': 'simple_general_part1',\n",
       "  'evlp_type': 'ceiling',\n",
       "  'next_space': 'outdoor',\n",
       "  'direction': 'top',\n",
       "  'area': 67.8,\n",
       "  'structure': 'wood',\n",
       "  'input_method_wall': 'u_value',\n",
       "  'u_value': 7.7,\n",
       "  'is_sunshade_input': False},\n",
       " {'name': 'simple_general_part2',\n",
       "  'evlp_type': 'wall',\n",
       "  'next_space': 'outdoor',\n",
       "  'direction': 'sw',\n",
       "  'area': 40.626666666666665,\n",
       "  'structure': 'wood',\n",
       "  'input_method_wall': 'u_value',\n",
       "  'u_value': 6.67,\n",
       "  'is_sunshade_input': False},\n",
       " {'name': 'simple_general_part3',\n",
       "  'evlp_type': 'wall',\n",
       "  'next_space': 'outdoor',\n",
       "  'direction': 'nw',\n",
       "  'area': 29.826666666666668,\n",
       "  'structure': 'wood',\n",
       "  'input_method_wall': 'u_value',\n",
       "  'u_value': 6.67,\n",
       "  'is_sunshade_input': False},\n",
       " {'name': 'simple_general_part4',\n",
       "  'evlp_type': 'wall',\n",
       "  'next_space': 'outdoor',\n",
       "  'direction': 'ne',\n",
       "  'area': 63.89333333333333,\n",
       "  'structure': 'wood',\n",
       "  'input_method_wall': 'u_value',\n",
       "  'u_value': 6.67,\n",
       "  'is_sunshade_input': False},\n",
       " {'name': 'simple_general_part5',\n",
       "  'evlp_type': 'wall',\n",
       "  'next_space': 'outdoor',\n",
       "  'direction': 'se',\n",
       "  'area': 29.706666666666667,\n",
       "  'structure': 'wood',\n",
       "  'input_method_wall': 'u_value',\n",
       "  'u_value': 6.67,\n",
       "  'is_sunshade_input': False},\n",
       " {'name': 'simple_general_part6',\n",
       "  'evlp_type': 'floor',\n",
       "  'next_space': 'underfloor',\n",
       "  'direction': 'downward',\n",
       "  'area': 60.06666666666666,\n",
       "  'structure': 'wood',\n",
       "  'input_method_wall': 'u_value',\n",
       "  'u_value': 5.27,\n",
       "  'is_sunshade_input': False},\n",
       " {'name': 'simple_general_part7',\n",
       "  'evlp_type': 'floor',\n",
       "  'next_space': 'underfloor',\n",
       "  'direction': 'downward',\n",
       "  'area': 4.413333333333333,\n",
       "  'structure': 'wood',\n",
       "  'input_method_wall': 'u_value',\n",
       "  'u_value': 5.27,\n",
       "  'is_sunshade_input': False}]"
      ]
     },
     "execution_count": 5,
     "metadata": {},
     "output_type": "execute_result"
    }
   ],
   "source": [
    "get_general_parts(\n",
    "    total_floor_area=120.0,\n",
    "    house_type='f_f',\n",
    "    u_value_roof= 7.7,\n",
    "    u_value_wall= 6.67,\n",
    "    u_value_floor_other=5.27,\n",
    "    u_value_floor_bathroom=5.27,\n",
    ")"
   ]
  },
  {
   "cell_type": "markdown",
   "metadata": {},
   "source": [
    "### 4. 大部分がガラスで構成される窓等の開口部"
   ]
  },
  {
   "cell_type": "markdown",
   "metadata": {},
   "source": [
    "#### 1) 壁面からの日除けの張り出し寸法"
   ]
  },
  {
   "cell_type": "markdown",
   "metadata": {},
   "source": [
    "取得日射熱補正係数を指定する場合"
   ]
  },
  {
   "cell_type": "markdown",
   "metadata": {},
   "source": [
    "$$\n",
    "z_H = b_H \\frac{c_H y_1 + y_2}{ \\frac{f_H}{0.01} - a_H }\n",
    "$$"
   ]
  },
  {
   "cell_type": "markdown",
   "metadata": {},
   "source": [
    "ただし、$f_H$が0.72を超える場合は$f_H=0.72$とする。また、$z_H$が5.0を超える場合は$z_H=5.0$とする。"
   ]
  },
  {
   "cell_type": "markdown",
   "metadata": {},
   "source": [
    "$$\n",
    "z_C = b_C \\frac{c_C y_1 + y_2}{ \\frac{f_C}{0.01} - a_C }\n",
    "$$"
   ]
  },
  {
   "cell_type": "markdown",
   "metadata": {},
   "source": [
    "ただし、$f_H$が0.93を超える場合は$f_C=0.93$とする。また、$z_C$が5.0を超える場合は$z_C=5.0$とする。"
   ]
  },
  {
   "cell_type": "markdown",
   "metadata": {},
   "source": [
    "取得日射熱補正係数を指定しない場合"
   ]
  },
  {
   "cell_type": "markdown",
   "metadata": {},
   "source": [
    "$$ z_H = \\frac{ ( y_1 + y_2 ) }{ l_{H,2} } $$"
   ]
  },
  {
   "cell_type": "markdown",
   "metadata": {},
   "source": [
    "$$z_C=0$$"
   ]
  },
  {
   "cell_type": "markdown",
   "metadata": {},
   "source": [
    "$z_H$：暖房期の壁面から日除けの張り出し寸法, m  \n",
    "$z_C$：冷房期の壁面から日除けの張り出し寸法, m  \n",
    "$f_H$: 暖房期の取得日射熱補正係数  \n",
    "$f_C$: 冷房期の取得日射熱補正係数  \n",
    "$y_{1}$：日除け下端から窓上端までの垂直方向の距離, m  \n",
    "$y_{2}$：窓の開口高さ, m  "
   ]
  },
  {
   "cell_type": "markdown",
   "metadata": {},
   "source": [
    "$$y_1=0$$"
   ]
  },
  {
   "cell_type": "markdown",
   "metadata": {},
   "source": [
    "$$y_2=1.1$$"
   ]
  },
  {
   "cell_type": "markdown",
   "metadata": {},
   "source": [
    "$$l_{H,2}=\\frac{1}{0.3}$$"
   ]
  },
  {
   "cell_type": "markdown",
   "metadata": {},
   "source": [
    "| 季節 | 地域区分 | 方位 | a | b | c |\n",
    "|:---:|:---:|:---:|:---:|:---:|:---:|\n",
    "| 暖房期 | 1地域～7地域 | 南東(SE) | 5 | 20 | 3 |\n",
    "| 暖房期 | 1地域～7地域 | 南西(SW) | 5 | 20 | 3 |\n",
    "| 暖房期 | 1地域～7地域 | 北西(NW) | 10 | 15 | 2 |\n",
    "| 暖房期 | 1地域～7地域 | 北東(NE) | 10 | 15 | 2 |"
   ]
  },
  {
   "cell_type": "markdown",
   "metadata": {},
   "source": [
    "| 季節 | 地域区分 | 方位 | a | b | c |\n",
    "|:---:|:---:|:---:|:---:|:---:|:---:|:---:|\n",
    "| 冷房期 | 1地域～7地域 | 南東(SE) | 16 | 24 | 2 |\n",
    "| 冷房期 | 1地域～7地域 | 南西(SW) | 16 | 24 | 2 |\n",
    "| 冷房期 | 1地域～7地域 | 北西(NW) | 16 | 24 | 2 |\n",
    "| 冷房期 | 1地域～7地域 | 北東(NE) | 16 | 24 | 2 |\n",
    "| 冷房期 | 8地域 | 南東(SE) | 16 | 19 | 2 |\n",
    "| 冷房期 | 8地域 | 南西(SW) | 16 | 19 | 2 |\n",
    "| 冷房期 | 8地域 | 北西(NW) | 16 | 24 | 2 |\n",
    "| 冷房期 | 8地域 | 北東(NE) | 16 | 24 | 2 |"
   ]
  },
  {
   "cell_type": "code",
   "execution_count": 6,
   "metadata": {},
   "outputs": [],
   "source": [
    "def get_heating_overhang_width(is_f_value_input, region, direction, y1, y2, f_value=None):\n",
    "\n",
    "    if is_f_value_input:\n",
    "        \n",
    "        if region == 8:\n",
    "            raise ValueError('8地域では、暖房期の日除けの出は定義されていません')    \n",
    "        \n",
    "        \n",
    "        if region <= 7:\n",
    "            a, b, c = {\n",
    "                'se': ( 5, 20, 3),\n",
    "                'sw': ( 5, 20, 3),\n",
    "                'nw': (10, 15, 2),\n",
    "                'ne': (10, 15, 2)\n",
    "            }[direction]\n",
    "        elif region == 8:\n",
    "            raise ValueError('z_Hを取得する関数で地域が8地域を指定されました。')\n",
    "        else:\n",
    "            raise ValueError('z_Hを取得する関数でregionに不正な値が指定されました。')\n",
    "        \n",
    "        _f = min(f_value, 0.72)\n",
    "        \n",
    "        if ( ( _f / 0.01 ) - a) <= 0: \n",
    "            return 5.0\n",
    "        else:\n",
    "            return min( ( b * ( c * y1 + y2) ) / ( ( _f / 0.01 ) - a ), 5.0 )\n",
    "\n",
    "    else:\n",
    "        \n",
    "        l_h_2 = 1 / 0.3\n",
    "        \n",
    "        return ( y1 + y2 ) / l_h_2        "
   ]
  },
  {
   "cell_type": "code",
   "execution_count": 7,
   "metadata": {},
   "outputs": [],
   "source": [
    "def get_cooling_overhang_width(is_f_value_input, region, direction, y1, y2, f_value=None):\n",
    "\n",
    "    if is_f_value_input:\n",
    "        \n",
    "        if region <= 7:\n",
    "            a, b, c = {\n",
    "                'se': (16, 24, 2),\n",
    "                'sw': (16, 24, 2),\n",
    "                'nw': (16, 24, 2),\n",
    "                'ne': (16, 24, 2)\n",
    "            }[direction]\n",
    "        elif region == 8:\n",
    "            a, b, c = {\n",
    "                'se': (16, 19, 2),\n",
    "                'sw': (16, 19, 2),\n",
    "                'nw': (16, 24, 2),\n",
    "                'ne': (16, 24, 2)\n",
    "            }[direction]\n",
    "        else:\n",
    "            raise ValueError('z_Cを取得する関数でregionに不正な値が指定されました。')\n",
    "            \n",
    "        _f = min(f_value, 0.93)\n",
    "        \n",
    "        if ( ( _f / 0.01 ) - a) <= 0: \n",
    "            return 5.0\n",
    "        else:\n",
    "            return min( ( b * ( c * y1 + y2) ) / ( ( _f / 0.01 ) - a ), 5.0 )\n",
    "    \n",
    "    else:\n",
    "        \n",
    "        return 0.0"
   ]
  },
  {
   "cell_type": "markdown",
   "metadata": {},
   "source": [
    "example"
   ]
  },
  {
   "cell_type": "code",
   "execution_count": 8,
   "metadata": {
    "scrolled": true
   },
   "outputs": [
    {
     "data": {
      "image/png": "[encoded data removed]",
      "text/plain": [
       "<Figure size 432x288 with 1 Axes>"
      ]
     },
     "metadata": {},
     "output_type": "display_data"
    },
    {
     "data": {
      "image/png": "[encoded data removed]",
      "text/plain": [
       "<Figure size 432x288 with 1 Axes>"
      ]
     },
     "metadata": {},
     "output_type": "display_data"
    }
   ],
   "source": [
    "# 取得日射熱補正係数の配列を用意\n",
    "xs = np.arange( 0.0, 1.01, 0.01 )\n",
    "\n",
    "windows = [\n",
    "    {'region': 6, 'direction': 'se'},\n",
    "    {'region': 6, 'direction': 'ne'},\n",
    "    {'region': 8, 'direction': 'se'},\n",
    "    {'region': 8, 'direction': 'ne'}\n",
    "]\n",
    "\n",
    "y1, y2 = 0.0, 1.1\n",
    "\n",
    "# 暖房期の出巾のグラフ描画 \n",
    "for window in windows:\n",
    "    if window['region'] >= 8:\n",
    "        continue\n",
    "    else:\n",
    "        z_h = [get_heating_overhang_width(is_f_value_input=True, region=window['region'], direction=window['direction'],\n",
    "                                          y1=y1, y2=y2, f_value=f) for f in xs]\n",
    "        label =  'Region:' + str(window['region']) + ', Direction:' + window['direction']\n",
    "        plt.plot(xs, z_h, label = label)\n",
    "    \n",
    "plt.title('Heating Period')\n",
    "plt.xlabel('Solar heat correction factor[-]')\n",
    "plt.ylabel('Overhang width in heating period[m]')\n",
    "plt.ylim(0,10)\n",
    "plt.legend()\n",
    "plt.show()\n",
    "\n",
    "# 冷房期の出巾のグラフ描画 \n",
    "for window in windows:\n",
    "    z_c = [get_cooling_overhang_width(is_f_value_input=True, region=window['region'], direction=window['direction'],\n",
    "                                      y1=y1, y2=y2, f_value=f) for f in xs]\n",
    "    label =  'Region:' + str(window['region']) + ', Direction:' + window['direction']\n",
    "    plt.plot(xs, z_c, label = label)\n",
    "    \n",
    "plt.title('Cooling Period')\n",
    "plt.xlabel('Solar heat correction factor[-]')\n",
    "plt.ylabel('Overhang width in cooling period[m]')\n",
    "plt.ylim(0,10)\n",
    "plt.legend()\n",
    "plt.show()"
   ]
  },
  {
   "cell_type": "markdown",
   "metadata": {},
   "source": [
    "1地域～7地域"
   ]
  },
  {
   "cell_type": "markdown",
   "metadata": {},
   "source": [
    "$$z=\\frac{z_H + z_C}{2}$$"
   ]
  },
  {
   "cell_type": "markdown",
   "metadata": {},
   "source": [
    "8地域"
   ]
  },
  {
   "cell_type": "markdown",
   "metadata": {},
   "source": [
    "$$ z = z_C $$"
   ]
  },
  {
   "cell_type": "markdown",
   "metadata": {},
   "source": [
    "$z$：壁面から日除けの張り出し寸法, m  "
   ]
  },
  {
   "cell_type": "code",
   "execution_count": 9,
   "metadata": {},
   "outputs": [],
   "source": [
    "def get_y1_y2_z(is_f_value_input, region, direction, f_value_h=None, f_value_c=None):\n",
    "    y1, y2 = 0.0, 1.1 \n",
    "    if region == 8:\n",
    "        z_C = get_cooling_overhang_width(is_f_value_input, region, direction, y1, y2, f_value_c)\n",
    "        return y1, y2, z_C\n",
    "    else:\n",
    "        z_H = get_heating_overhang_width(is_f_value_input, region, direction, y1, y2, f_value_h)\n",
    "        z_C = get_cooling_overhang_width(is_f_value_input, region, direction, y1, y2, f_value_c)\n",
    "        return y1, y2, ( z_H + z_C ) / 2"
   ]
  },
  {
   "cell_type": "markdown",
   "metadata": {},
   "source": [
    "#### 2) 種類・隣接空間の種類・方位・面積"
   ]
  },
  {
   "cell_type": "markdown",
   "metadata": {},
   "source": [
    "| 番号 | 隣接空間の種類 | 方位 | 面積(m2) | 熱貫流率(W/m2K) | 暖房期の垂直面日射熱取得率 | 冷房期の垂直面日射熱取得率 |\n",
    "| --- | --- | --- | --- | --- | --- | --- |\n",
    "| 1 | 外気 |   0度 | 22.69 | $U_{wall}$ | $\\eta_{d,H}$ | $\\eta_{d,C}$ |\n",
    "| 2 | 外気 |  90度 |  2.38 | $U_{wall}$ | $\\eta_{d,H}$ | $\\eta_{d,C}$ |\n",
    "| 3 | 外気 | 180度 |  3.63 | $U_{wall}$ | $\\eta_{d,H}$ | $\\eta_{d,C}$ |\n",
    "| 4 | 外気 | 270度 |  4.37 | $U_{wall}$ | $\\eta_{d,H}$ | $\\eta_{d,C}$ |"
   ]
  },
  {
   "cell_type": "markdown",
   "metadata": {},
   "source": [
    "面積は表の値に規模係数を乗じた値とする。"
   ]
  },
  {
   "cell_type": "markdown",
   "metadata": {},
   "source": [
    "$$ \\eta_d = \\frac{ ( \\eta_{d,H} + \\eta_{d,C} ) }{ 2 } $$"
   ]
  },
  {
   "cell_type": "markdown",
   "metadata": {},
   "source": [
    "$ \\eta_{d,H} $：暖房期の垂直面日射熱取得率  \n",
    "$ \\eta_{d,C} $：冷房期の垂直面日射熱取得率  \n",
    "$ \\eta_d $：垂直面日射熱取得率  "
   ]
  },
  {
   "cell_type": "code",
   "execution_count": 10,
   "metadata": {},
   "outputs": [],
   "source": [
    "def get_eta_d(eta_value_d_h, eta_value_d_c):\n",
    "    return ( eta_value_d_h + eta_value_d_c ) / 2"
   ]
  },
  {
   "cell_type": "code",
   "execution_count": 11,
   "metadata": {},
   "outputs": [],
   "source": [
    "def get_window_parts(total_floor_area, region,\n",
    "                     u_value_window, eta_d_value_window_h, eta_d_value_window_c,\n",
    "                     is_f_value_input, f_value_h, f_value_c, **kwargs ):\n",
    "\n",
    "    table = [\n",
    "        [1, 'outdoor' ,   '0', 22.69, u_value_window, eta_d_value_window_h, eta_d_value_window_c],\n",
    "        [2, 'outdoor' ,  '90',  2.38, u_value_window, eta_d_value_window_h, eta_d_value_window_c],\n",
    "        [3, 'outdoor' , '180',  3.63, u_value_window, eta_d_value_window_h, eta_d_value_window_c],\n",
    "        [4, 'outdoor' , '270',  4.37, u_value_window, eta_d_value_window_h, eta_d_value_window_c],\n",
    "    ]\n",
    "    \n",
    "    parts = []\n",
    "    \n",
    "    for row in table:\n",
    "    \n",
    "        direction = get_direction(row[2])\n",
    "        y1, y2, z = get_y1_y2_z(is_f_value_input, region, direction, f_value_h, f_value_c)\n",
    "\n",
    "        parts.append({\n",
    "            'name'             : 'simple_window_part' + str(row[0]),\n",
    "            'next_space'       : row[1],\n",
    "            'direction'        : direction,\n",
    "            'area'             : row[3] * get_size_ratio(total_floor_area),\n",
    "            'window_type'      : 'Single',\n",
    "            'eta_input_method' : 'InputValue',\n",
    "            'u_value'          : row[4],\n",
    "            'eta_value'        : get_eta_d(row[5], row[6]),\n",
    "            'glass_type'       : 't_single',\n",
    "            'y1'               : y1,\n",
    "            'y2'               : y2,\n",
    "            'z'                : z,\n",
    "            'IsSunshadeInput'  : is_f_value_input,\n",
    "        })\n",
    "\n",
    "    return parts"
   ]
  },
  {
   "cell_type": "markdown",
   "metadata": {},
   "source": [
    "#### Example"
   ]
  },
  {
   "cell_type": "code",
   "execution_count": 12,
   "metadata": {},
   "outputs": [
    {
     "data": {
      "text/plain": [
       "[{'name': 'simple_window_part1',\n",
       "  'next_space': 'outdoor',\n",
       "  'direction': 'sw',\n",
       "  'area': 30.253333333333334,\n",
       "  'window_type': 'Single',\n",
       "  'eta_input_method': 'InputValue',\n",
       "  'u_value': 3.49,\n",
       "  'eta_value': 0.51,\n",
       "  'glass_type': 't_single',\n",
       "  'y1': 0.0,\n",
       "  'y2': 1.1,\n",
       "  'z': 0.34760914760914763,\n",
       "  'IsSunshadeInput': True},\n",
       " {'name': 'simple_window_part2',\n",
       "  'next_space': 'outdoor',\n",
       "  'direction': 'nw',\n",
       "  'area': 3.173333333333333,\n",
       "  'window_type': 'Single',\n",
       "  'eta_input_method': 'InputValue',\n",
       "  'u_value': 3.49,\n",
       "  'eta_value': 0.51,\n",
       "  'glass_type': 't_single',\n",
       "  'y1': 0.0,\n",
       "  'y2': 1.1,\n",
       "  'z': 0.3158783783783784,\n",
       "  'IsSunshadeInput': True},\n",
       " {'name': 'simple_window_part3',\n",
       "  'next_space': 'outdoor',\n",
       "  'direction': 'ne',\n",
       "  'area': 4.84,\n",
       "  'window_type': 'Single',\n",
       "  'eta_input_method': 'InputValue',\n",
       "  'u_value': 3.49,\n",
       "  'eta_value': 0.51,\n",
       "  'glass_type': 't_single',\n",
       "  'y1': 0.0,\n",
       "  'y2': 1.1,\n",
       "  'z': 0.3158783783783784,\n",
       "  'IsSunshadeInput': True},\n",
       " {'name': 'simple_window_part4',\n",
       "  'next_space': 'outdoor',\n",
       "  'direction': 'se',\n",
       "  'area': 5.826666666666666,\n",
       "  'window_type': 'Single',\n",
       "  'eta_input_method': 'InputValue',\n",
       "  'u_value': 3.49,\n",
       "  'eta_value': 0.51,\n",
       "  'glass_type': 't_single',\n",
       "  'y1': 0.0,\n",
       "  'y2': 1.1,\n",
       "  'z': 0.34760914760914763,\n",
       "  'IsSunshadeInput': True}]"
      ]
     },
     "execution_count": 12,
     "metadata": {},
     "output_type": "execute_result"
    }
   ],
   "source": [
    "get_window_parts(\n",
    "    total_floor_area = 120.0,\n",
    "    region = 6,\n",
    "    u_value_window = 3.49,\n",
    "    eta_d_value_window_h = 0.51, \n",
    "    eta_d_value_window_c = 0.51,       \n",
    "    is_f_value_input = True, \n",
    "    f_value_h = 0.7,\n",
    "    f_value_c = 0.9\n",
    ")"
   ]
  },
  {
   "cell_type": "markdown",
   "metadata": {},
   "source": [
    "### 5) Doors / 開口部の不透明部位"
   ]
  },
  {
   "cell_type": "markdown",
   "metadata": {},
   "source": [
    "#### Outline"
   ]
  },
  {
   "cell_type": "markdown",
   "metadata": {},
   "source": [
    "- 開口部の不透明部位（ドア等）の情報を設定する。\n",
    "- 簡易外皮入力モデルにおける開口部の不透明部位の面積は、方位から決定する。"
   ]
  },
  {
   "cell_type": "markdown",
   "metadata": {},
   "source": [
    "#### Input"
   ]
  },
  {
   "cell_type": "markdown",
   "metadata": {},
   "source": [
    "参照：InputDataDefinition.ipynb"
   ]
  },
  {
   "cell_type": "markdown",
   "metadata": {},
   "source": [
    "#### Output"
   ]
  },
  {
   "cell_type": "markdown",
   "metadata": {},
   "source": [
    "```\n",
    "{\n",
    "    'Name'\n",
    "    'Direction'\n",
    "    'Area'\n",
    "    'U'\n",
    "    'IsSunshadeInput'\n",
    "}\n",
    "```\n",
    "\n",
    "\n",
    "参照：InputDataDefinition.ipynb"
   ]
  },
  {
   "cell_type": "markdown",
   "metadata": {},
   "source": [
    "#### Function"
   ]
  },
  {
   "cell_type": "code",
   "execution_count": 13,
   "metadata": {},
   "outputs": [],
   "source": [
    "def make_door(name, nextspace, direction, area, TotalFloorArea, UDoor):\n",
    "    return {\n",
    "        'name'           : name,\n",
    "        'nextspace'      : nextspace,\n",
    "        'direction'      : direction,\n",
    "        'area'           : area * get_size_ratio(TotalFloorArea),\n",
    "        'U'              : UDoor,\n",
    "        'IsSunshadeInput': False\n",
    "    }"
   ]
  },
  {
   "cell_type": "code",
   "execution_count": 14,
   "metadata": {},
   "outputs": [],
   "source": [
    "def convert_door(TotalFloorArea, UDoor, **kwargs):\n",
    "    \n",
    "    #簡易外皮入力モデルにおける開口部の不透明部位のリストを作成\n",
    "    standard_parts = [\n",
    "        {'name': 'DoorNW', 'nextspace': 'Outdoor', 'direction': 'NW', 'area': 1.89 },\n",
    "        {'name': 'DoorNE', 'nextspace': 'Outdoor', 'direction': 'NE', 'area': 1.62 }\n",
    "    ]\n",
    "    \n",
    "    return [ make_door(TotalFloorArea = TotalFloorArea, UDoor = UDoor, **f) for f in standard_parts ]"
   ]
  },
  {
   "cell_type": "markdown",
   "metadata": {},
   "source": [
    "#### Example"
   ]
  },
  {
   "cell_type": "code",
   "execution_count": 15,
   "metadata": {},
   "outputs": [
    {
     "data": {
      "text/plain": [
       "[{'name': 'DoorNW',\n",
       "  'nextspace': 'Outdoor',\n",
       "  'direction': 'NW',\n",
       "  'area': 2.5199999999999996,\n",
       "  'U': 2.33,\n",
       "  'IsSunshadeInput': False},\n",
       " {'name': 'DoorNE',\n",
       "  'nextspace': 'Outdoor',\n",
       "  'direction': 'NE',\n",
       "  'area': 2.16,\n",
       "  'U': 2.33,\n",
       "  'IsSunshadeInput': False}]"
      ]
     },
     "execution_count": 15,
     "metadata": {},
     "output_type": "execute_result"
    }
   ],
   "source": [
    "convert_door(\n",
    "    TotalFloorArea = 120.0,\n",
    "    UDoor = 2.33,\n",
    ")"
   ]
  },
  {
   "cell_type": "markdown",
   "metadata": {},
   "source": [
    "### 6) Earth Floor Perimeters / 土間床等の外周部の線熱橋"
   ]
  },
  {
   "cell_type": "markdown",
   "metadata": {},
   "source": [
    "#### Outline"
   ]
  },
  {
   "cell_type": "markdown",
   "metadata": {},
   "source": [
    "- 土間床（玄関および玄関以外）の外周部の線熱橋の情報を設定する。"
   ]
  },
  {
   "cell_type": "markdown",
   "metadata": {},
   "source": [
    "#### Input"
   ]
  },
  {
   "cell_type": "markdown",
   "metadata": {},
   "source": [
    "参照：InputDataDefinition.ipynb"
   ]
  },
  {
   "cell_type": "markdown",
   "metadata": {},
   "source": [
    "#### Output"
   ]
  },
  {
   "cell_type": "markdown",
   "metadata": {},
   "source": [
    "```\n",
    "data = {\n",
    "    'Name'\n",
    "    'Direction'\n",
    "    'Length'\n",
    "    'Psi'\n",
    "}\n",
    "```\n",
    "\n",
    "参照：InputDataDefinition.ipynb"
   ]
  },
  {
   "cell_type": "markdown",
   "metadata": {},
   "source": [
    "#### Function"
   ]
  },
  {
   "cell_type": "code",
   "execution_count": 16,
   "metadata": {},
   "outputs": [],
   "source": [
    "def make_earthfloorperimeters(name, nextspace, length, psi, TotalFloorArea, direction = None, **kawrgs ):\n",
    "    # f = standard_earth_floor\n",
    "    \n",
    "    earthfloorperimeters = {\n",
    "        'name'      : name,\n",
    "        'nextspace' : nextspace,\n",
    "        'length'    : length * get_size_ratio(TotalFloorArea),\n",
    "        'psi'       : psi\n",
    "    }\n",
    "    \n",
    "    if nextspace == 'Outdoor' :\n",
    "        earthfloorperimeters['direction'] = direction\n",
    "\n",
    "    return earthfloorperimeters"
   ]
  },
  {
   "cell_type": "code",
   "execution_count": 17,
   "metadata": {},
   "outputs": [],
   "source": [
    "def convert_earthfloorperimeters( InsulationType, InsulationTypeBathroom, TotalFloorArea,\n",
    "                                   psi_other = None, psi_entrance = None, psi_bathroom = None, **kawrgs ):\n",
    "    \n",
    "    #簡易外皮入力モデルにおける土間床等の外周部リストを作成\n",
    "    standard_earth_floor_perimeters = {\n",
    "        'floor': {\n",
    "            'floor': [\n",
    "                { 'name': 'Entrance_NW',    'nextspace': 'Outdoor',      'direction': 'NW', 'length':  1.82, 'psi': psi_entrance },\n",
    "                { 'name': 'Entrance_NE',    'nextspace': 'Outdoor',      'direction': 'NE', 'length':  1.37, 'psi': psi_entrance },\n",
    "                { 'name': 'Entrance_floor', 'nextspace': 'OpenBackFloor',                    'length':  3.19, 'psi': psi_entrance }\n",
    "            ],\n",
    "            'base': [\n",
    "                { 'name': 'Entrance_NW',    'nextspace': 'Outdoor',      'direction': 'NW', 'length':  1.82, 'psi': psi_entrance },\n",
    "                { 'name': 'Entrance_NE',    'nextspace': 'Outdoor',      'direction': 'NE', 'length':  1.37, 'psi': psi_entrance },\n",
    "                { 'name': 'Entrance_floor', 'nextspace': 'OpenBackFloor',                    'length':  3.19, 'psi': psi_entrance },\n",
    "                { 'name': 'Bathroom_NW',    'nextspace': 'Outdoor',      'direction': 'NW', 'length':  1.82, 'psi': psi_bathroom },\n",
    "                { 'name': 'Bathroom_NE',    'nextspace': 'Outdoor',      'direction': 'NE', 'length':  1.82, 'psi': psi_bathroom },\n",
    "                { 'name': 'Bathroom_floor', 'nextspace': 'OpenBackFloor',                    'length':  3.64, 'psi': psi_bathroom }\n",
    "            ],\n",
    "            'inside': [\n",
    "                { 'name': 'Entrance_NW',    'nextspace': 'Outdoor',      'direction': 'NW', 'length':  1.82, 'psi': psi_entrance },\n",
    "                { 'name': 'Entrance_NE',    'nextspace': 'Outdoor',      'direction': 'NE', 'length':  1.37, 'psi': psi_entrance },\n",
    "                { 'name': 'Entrance_floor', 'nextspace': 'OpenBackFloor',                    'length':  3.19, 'psi': psi_entrance }\n",
    "            ]\n",
    "        },\n",
    "        'base': {\n",
    "            'base': [\n",
    "                { 'name': 'Entrance_NW',    'nextspace': 'Outdoor',      'direction': 'NW', 'length':  1.82, 'psi': psi_entrance },\n",
    "                { 'name': 'Entrance_NE',    'nextspace': 'Outdoor',      'direction': 'NE', 'length':  1.37, 'psi': psi_entrance },\n",
    "                { 'name': 'Bathroom_NW',    'nextspace': 'Outdoor',      'direction': 'NW', 'length':  1.82, 'psi': psi_bathroom },\n",
    "                { 'name': 'Bathroom_NE',    'nextspace': 'Outdoor',      'direction': 'NE', 'length':  1.82, 'psi': psi_bathroom },\n",
    "                { 'name': 'Other_SW',       'nextspace': 'Outdoor',      'direction': 'SW', 'length': 10.61, 'psi': psi_other },\n",
    "                { 'name': 'Other_NW',       'nextspace': 'Outdoor',      'direction': 'NW', 'length':  1.15, 'psi': psi_other },\n",
    "                { 'name': 'Other_NE',       'nextspace': 'Outdoor',      'direction': 'NE', 'length':  7.42, 'psi': psi_other },\n",
    "                { 'name': 'Other_SE',       'nextspace': 'Outdoor',      'direction': 'SE', 'length':  4.79, 'psi': psi_other }\n",
    "            ]\n",
    "        }\n",
    "    }[InsulationType][InsulationTypeBathroom]\n",
    "    \n",
    "    return [ make_earthfloorperimeters(TotalFloorArea = TotalFloorArea,**f) for f in standard_earth_floor_perimeters ]"
   ]
  },
  {
   "cell_type": "markdown",
   "metadata": {},
   "source": [
    "#### Example"
   ]
  },
  {
   "cell_type": "code",
   "execution_count": 18,
   "metadata": {},
   "outputs": [
    {
     "data": {
      "text/plain": [
       "[{'name': 'Entrance_NW',\n",
       "  'nextspace': 'Outdoor',\n",
       "  'length': 2.4266666666666667,\n",
       "  'psi': 1.8,\n",
       "  'direction': 'NW'},\n",
       " {'name': 'Entrance_NE',\n",
       "  'nextspace': 'Outdoor',\n",
       "  'length': 1.8266666666666667,\n",
       "  'psi': 1.8,\n",
       "  'direction': 'NE'},\n",
       " {'name': 'Entrance_floor',\n",
       "  'nextspace': 'OpenBackFloor',\n",
       "  'length': 4.253333333333333,\n",
       "  'psi': 1.8},\n",
       " {'name': 'Bathroom_NW',\n",
       "  'nextspace': 'Outdoor',\n",
       "  'length': 2.4266666666666667,\n",
       "  'psi': 1.8,\n",
       "  'direction': 'NW'},\n",
       " {'name': 'Bathroom_NE',\n",
       "  'nextspace': 'Outdoor',\n",
       "  'length': 2.4266666666666667,\n",
       "  'psi': 1.8,\n",
       "  'direction': 'NE'},\n",
       " {'name': 'Bathroom_floor',\n",
       "  'nextspace': 'OpenBackFloor',\n",
       "  'length': 4.8533333333333335,\n",
       "  'psi': 1.8}]"
      ]
     },
     "execution_count": 18,
     "metadata": {},
     "output_type": "execute_result"
    }
   ],
   "source": [
    "convert_earthfloorperimeters( \n",
    "    InsulationType = 'floor',\n",
    "    InsulationTypeBathroom = 'base',\n",
    "    TotalFloorArea = 120.0,\n",
    "    psi_entrance = 1.8,\n",
    "    psi_bathroom = 1.8\n",
    ")"
   ]
  },
  {
   "cell_type": "markdown",
   "metadata": {},
   "source": [
    "### 7) Earth Floors / 土間床等"
   ]
  },
  {
   "cell_type": "markdown",
   "metadata": {},
   "source": [
    "#### Outline"
   ]
  },
  {
   "cell_type": "markdown",
   "metadata": {},
   "source": [
    "- 土間床等の情報を設定する。"
   ]
  },
  {
   "cell_type": "markdown",
   "metadata": {},
   "source": [
    "#### Input"
   ]
  },
  {
   "cell_type": "markdown",
   "metadata": {},
   "source": [
    "参照：InputDataDefinition.ipynb"
   ]
  },
  {
   "cell_type": "markdown",
   "metadata": {},
   "source": [
    "#### Output"
   ]
  },
  {
   "cell_type": "markdown",
   "metadata": {},
   "source": [
    "```\n",
    "data = {\n",
    "    'Name'\n",
    "    'Area'\n",
    "}\n",
    "```\n",
    "\n",
    "参照：InputDataDefinition.ipynb"
   ]
  },
  {
   "cell_type": "markdown",
   "metadata": {},
   "source": [
    "#### Function"
   ]
  },
  {
   "cell_type": "code",
   "execution_count": 19,
   "metadata": {},
   "outputs": [],
   "source": [
    "def make_earthfloors( name, area, TotalFloorArea ):\n",
    "    \n",
    "    earthfloorperimeters = {\n",
    "        'name'      : name,\n",
    "        'area'      : area * get_size_ratio(TotalFloorArea)\n",
    "    }\n",
    "\n",
    "    return earthfloorperimeters"
   ]
  },
  {
   "cell_type": "code",
   "execution_count": 20,
   "metadata": {},
   "outputs": [],
   "source": [
    "def convert_earthfloors( InsulationType, InsulationTypeBathroom, TotalFloorArea, **kwargs ):\n",
    "    \n",
    "    #簡易外皮入力モデルにおける土間床等の外周部リストを作成\n",
    "    standard_earth_floors = {\n",
    "        'floor': {\n",
    "            'floor': [\n",
    "                { 'name': 'Entrance', 'area':  2.48 }\n",
    "            ],\n",
    "            'base': [\n",
    "                { 'name': 'Entrance', 'area':  2.48 },\n",
    "                { 'name': 'Bathroom', 'area':  3.31 }\n",
    "            ],\n",
    "            'inside': [\n",
    "                { 'name': 'Entrance', 'area':  2.48 }\n",
    "            ]\n",
    "        },\n",
    "        'base': {\n",
    "            'base': [\n",
    "                { 'name': 'Entrance', 'area':  2.48 },\n",
    "                { 'name': 'Bathroom', 'area':  3.31 },\n",
    "                { 'name': 'Other'   , 'area': 45.05 }\n",
    "            ]\n",
    "        }\n",
    "    }[InsulationType][InsulationTypeBathroom]\n",
    "    \n",
    "    return [ make_earthfloors(TotalFloorArea = TotalFloorArea,**f) for f in standard_earth_floors ]"
   ]
  },
  {
   "cell_type": "markdown",
   "metadata": {},
   "source": [
    "#### Example"
   ]
  },
  {
   "cell_type": "code",
   "execution_count": 21,
   "metadata": {},
   "outputs": [
    {
     "data": {
      "text/plain": [
       "[{'name': 'Entrance', 'area': 3.3066666666666666},\n",
       " {'name': 'Bathroom', 'area': 4.413333333333333}]"
      ]
     },
     "execution_count": 21,
     "metadata": {},
     "output_type": "execute_result"
    }
   ],
   "source": [
    "convert_earthfloors( \n",
    "    InsulationType = 'floor',\n",
    "    InsulationTypeBathroom = 'base',\n",
    "    TotalFloorArea = 120.0\n",
    ")"
   ]
  },
  {
   "cell_type": "markdown",
   "metadata": {},
   "source": [
    "## 3. Lv2入力情報のコンバート（統合）"
   ]
  },
  {
   "cell_type": "markdown",
   "metadata": {},
   "source": [
    "- 1)共通情報、2)開口部以外の不透明部位、3)開口部の透明部位、4)開口部の不透明部位、5)土間床等の外周部の線熱橋、の各コンバート関数を統合し、Lv1の入力情報をLv2の入力情報にコンバートする。"
   ]
  },
  {
   "cell_type": "code",
   "execution_count": 22,
   "metadata": {},
   "outputs": [],
   "source": [
    "def get_house_type(insulation_type, insulation_type_bathroom):\n",
    "    \n",
    "    if insulation_type == 'floor':\n",
    "        if insulation_type_bathroom == 'floor':\n",
    "            return 'f_f'\n",
    "        elif insulation_type_bathroom == 'base':\n",
    "            return 'f_b'\n",
    "        elif insulation_type_bathroom == 'inside':\n",
    "            return 'f_n'\n",
    "        else:\n",
    "            raise Exception('床断熱住戸における浴室の断熱の種類を指定するkeyが間違っています。')\n",
    "    elif insulation_type == 'base':\n",
    "        return 'b'\n",
    "    else:\n",
    "        raise Exception('住戸の種類を指定するkeyが間違っています。')"
   ]
  },
  {
   "cell_type": "code",
   "execution_count": 23,
   "metadata": {},
   "outputs": [],
   "source": [
    "def convert(d):\n",
    "    \n",
    "    # 住宅の種類の決定\n",
    "    #     f_f : 床断熱住戸（浴室は床断熱）\n",
    "    #     f_b : 床断熱住戸（浴室は基礎断熱）\n",
    "    #     f_n : 床断熱住戸（浴室の床の向こう側は熱的境界内）\n",
    "    #     b   : 基礎断熱住戸\n",
    "    house_type =get_house_type(insulation_type=d['simple_method']['insulation_type'],\n",
    "                               insulation_type_bathroom=d['simple_method']['insulation_type_bathroom'])\n",
    "\n",
    "    # 共通要素はそのまま保持する\n",
    "    d_common = copy.deepcopy(d['common'])\n",
    "    \n",
    "    general_parts = get_general_parts(**d['simple_method'], total_floor_area=d['common']['total_floor_Area'], house_type=house_type)\n",
    "    window_parts = get_window_parts(**d['simple_method'], total_floor_area=d['common']['total_floor_Area'], region=d['common']['region'])\n",
    "    d_doors = convert_door(**d['simple_method'], TotalFloorArea=d['common']['total_floor_Area'])\n",
    "    d_perimeters = convert_earthfloorperimeters(**d['simple_method'], TotalFloorArea=d['common']['total_floor_Area'],\n",
    "                                               InsulationType=d['simple_method']['insulation_type'],\n",
    "                                               InsulationTypeBathroom=d['simple_method']['insulation_type_bathroom'])\n",
    "    d_earthfloors = convert_earthfloors(**d['simple_method'], TotalFloorArea=d['common']['total_floor_Area'],\n",
    "                                               InsulationType=d['simple_method']['insulation_type'],\n",
    "                                               InsulationTypeBathroom=d['simple_method']['insulation_type_bathroom'])\n",
    "\n",
    "    return {\n",
    "        'common' : copy.deepcopy(d['common']),\n",
    "        'general_parts' : general_parts,\n",
    "        'window_parts' : window_parts,\n",
    "        'Doors' : d_doors,\n",
    "        'EarthfloorPerimeters' : d_perimeters,\n",
    "        'Earthfloors' : d_earthfloors\n",
    "    }"
   ]
  },
  {
   "cell_type": "markdown",
   "metadata": {},
   "source": [
    "### Example"
   ]
  },
  {
   "cell_type": "code",
   "execution_count": 24,
   "metadata": {},
   "outputs": [
    {
     "data": {
      "text/plain": [
       "{'common': {'region': 6,\n",
       "  'main_occupant_room_floor_area': 30.0,\n",
       "  'other_occupant_room_floor_area': 30.0,\n",
       "  'total_floor_Area': 90.0},\n",
       " 'general_parts': [{'name': 'simple_general_part1',\n",
       "   'evlp_type': 'ceiling',\n",
       "   'next_space': 'outdoor',\n",
       "   'direction': 'top',\n",
       "   'area': 50.85,\n",
       "   'structure': 'wood',\n",
       "   'input_method_wall': 'u_value',\n",
       "   'u_value': 7.7,\n",
       "   'is_sunshade_input': False},\n",
       "  {'name': 'simple_general_part2',\n",
       "   'evlp_type': 'wall',\n",
       "   'next_space': 'outdoor',\n",
       "   'direction': 'sw',\n",
       "   'area': 30.47,\n",
       "   'structure': 'wood',\n",
       "   'input_method_wall': 'u_value',\n",
       "   'u_value': 6.67,\n",
       "   'is_sunshade_input': False},\n",
       "  {'name': 'simple_general_part3',\n",
       "   'evlp_type': 'wall',\n",
       "   'next_space': 'outdoor',\n",
       "   'direction': 'nw',\n",
       "   'area': 22.37,\n",
       "   'structure': 'wood',\n",
       "   'input_method_wall': 'u_value',\n",
       "   'u_value': 6.67,\n",
       "   'is_sunshade_input': False},\n",
       "  {'name': 'simple_general_part4',\n",
       "   'evlp_type': 'wall',\n",
       "   'next_space': 'outdoor',\n",
       "   'direction': 'ne',\n",
       "   'area': 47.92,\n",
       "   'structure': 'wood',\n",
       "   'input_method_wall': 'u_value',\n",
       "   'u_value': 6.67,\n",
       "   'is_sunshade_input': False},\n",
       "  {'name': 'simple_general_part5',\n",
       "   'evlp_type': 'wall',\n",
       "   'next_space': 'outdoor',\n",
       "   'direction': 'se',\n",
       "   'area': 22.28,\n",
       "   'structure': 'wood',\n",
       "   'input_method_wall': 'u_value',\n",
       "   'u_value': 6.67,\n",
       "   'is_sunshade_input': False},\n",
       "  {'name': 'simple_general_part6',\n",
       "   'evlp_type': 'floor',\n",
       "   'next_space': 'underfloor',\n",
       "   'direction': 'downward',\n",
       "   'area': 48.36,\n",
       "   'structure': 'wood',\n",
       "   'input_method_wall': 'u_value',\n",
       "   'u_value': 5.27,\n",
       "   'is_sunshade_input': False}],\n",
       " 'window_parts': [{'name': 'simple_window_part1',\n",
       "   'next_space': 'outdoor',\n",
       "   'direction': 'sw',\n",
       "   'area': 22.69,\n",
       "   'window_type': 'Single',\n",
       "   'eta_input_method': 'InputValue',\n",
       "   'u_value': 3.49,\n",
       "   'eta_value': 0.51,\n",
       "   'glass_type': 't_single',\n",
       "   'y1': 0.0,\n",
       "   'y2': 1.1,\n",
       "   'z': 0.34760914760914763,\n",
       "   'IsSunshadeInput': True},\n",
       "  {'name': 'simple_window_part2',\n",
       "   'next_space': 'outdoor',\n",
       "   'direction': 'nw',\n",
       "   'area': 2.38,\n",
       "   'window_type': 'Single',\n",
       "   'eta_input_method': 'InputValue',\n",
       "   'u_value': 3.49,\n",
       "   'eta_value': 0.51,\n",
       "   'glass_type': 't_single',\n",
       "   'y1': 0.0,\n",
       "   'y2': 1.1,\n",
       "   'z': 0.3158783783783784,\n",
       "   'IsSunshadeInput': True},\n",
       "  {'name': 'simple_window_part3',\n",
       "   'next_space': 'outdoor',\n",
       "   'direction': 'ne',\n",
       "   'area': 3.63,\n",
       "   'window_type': 'Single',\n",
       "   'eta_input_method': 'InputValue',\n",
       "   'u_value': 3.49,\n",
       "   'eta_value': 0.51,\n",
       "   'glass_type': 't_single',\n",
       "   'y1': 0.0,\n",
       "   'y2': 1.1,\n",
       "   'z': 0.3158783783783784,\n",
       "   'IsSunshadeInput': True},\n",
       "  {'name': 'simple_window_part4',\n",
       "   'next_space': 'outdoor',\n",
       "   'direction': 'se',\n",
       "   'area': 4.37,\n",
       "   'window_type': 'Single',\n",
       "   'eta_input_method': 'InputValue',\n",
       "   'u_value': 3.49,\n",
       "   'eta_value': 0.51,\n",
       "   'glass_type': 't_single',\n",
       "   'y1': 0.0,\n",
       "   'y2': 1.1,\n",
       "   'z': 0.34760914760914763,\n",
       "   'IsSunshadeInput': True}],\n",
       " 'Doors': [{'name': 'DoorNW',\n",
       "   'nextspace': 'Outdoor',\n",
       "   'direction': 'NW',\n",
       "   'area': 1.89,\n",
       "   'U': 4.65,\n",
       "   'IsSunshadeInput': False},\n",
       "  {'name': 'DoorNE',\n",
       "   'nextspace': 'Outdoor',\n",
       "   'direction': 'NE',\n",
       "   'area': 1.62,\n",
       "   'U': 4.65,\n",
       "   'IsSunshadeInput': False}],\n",
       " 'EarthfloorPerimeters': [{'name': 'Entrance_NW',\n",
       "   'nextspace': 'Outdoor',\n",
       "   'length': 1.82,\n",
       "   'psi': 1.8,\n",
       "   'direction': 'NW'},\n",
       "  {'name': 'Entrance_NE',\n",
       "   'nextspace': 'Outdoor',\n",
       "   'length': 1.37,\n",
       "   'psi': 1.8,\n",
       "   'direction': 'NE'},\n",
       "  {'name': 'Entrance_floor',\n",
       "   'nextspace': 'OpenBackFloor',\n",
       "   'length': 3.19,\n",
       "   'psi': 1.8}],\n",
       " 'Earthfloors': [{'name': 'Entrance', 'area': 2.48}]}"
      ]
     },
     "execution_count": 24,
     "metadata": {},
     "output_type": "execute_result"
    }
   ],
   "source": [
    "d = {\n",
    "    'common' : {\n",
    "        'region' : 6,\n",
    "        'main_occupant_room_floor_area': 30.0,\n",
    "        'other_occupant_room_floor_area': 30.0,\n",
    "        'total_floor_Area': 90.0,\n",
    "    },\n",
    "    'simple_method' : {\n",
    "        'insulation_type' : 'floor',\n",
    "        'insulation_type_bathroom' : 'inside',\n",
    "        'u_value_roof' : 7.7,\n",
    "        'u_value_wall' : 6.67,\n",
    "        'u_value_floor_other' : 5.27,\n",
    "        'u_value_floor_bathroom' : 5.27,\n",
    "        'UDoor' : 4.65,\n",
    "        'u_value_window'    : 3.49,\n",
    "        'eta_d_value_window_c' : 0.51,       \n",
    "        'eta_d_value_window_h' : 0.51, \n",
    "        'is_f_value_input' : True, \n",
    "        'f_value_c' : 0.9,\n",
    "        'f_value_h' : 0.7,\n",
    "        'psi_entrance' : 1.8,\n",
    "        'psi_bathroom' : 1.8,\n",
    "    }\n",
    "}\n",
    "\n",
    "convert(d)"
   ]
  },
  {
   "cell_type": "code",
   "execution_count": null,
   "metadata": {},
   "outputs": [],
   "source": []
  }
 ],
 "metadata": {
  "kernelspec": {
   "display_name": "Python 3",
   "language": "python",
   "name": "python3"
  },
  "language_info": {
   "codemirror_mode": {
    "name": "ipython",
    "version": 3
   },
   "file_extension": ".py",
   "mimetype": "text/x-python",
   "name": "python",
   "nbconvert_exporter": "python",
   "pygments_lexer": "ipython3",
   "version": "3.6.4"
  }
 },
 "nbformat": 4,
 "nbformat_minor": 2
}
