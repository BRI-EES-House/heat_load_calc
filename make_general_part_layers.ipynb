{
 "cells": [
  {
   "cell_type": "code",
   "execution_count": 1,
   "metadata": {},
   "outputs": [
    {
     "name": "stdout",
     "output_type": "stream",
     "text": [
      "Importing Jupyter notebook from h_material_thermal_characteristics.ipynb\n"
     ]
    }
   ],
   "source": [
    "import math\n",
    "import numpy as np\n",
    "import matplotlib.pyplot as plt\n",
    "\n",
    "import nbimporter\n",
    "\n",
    "import h_material_thermal_characteristics as mtc"
   ]
  },
  {
   "cell_type": "markdown",
   "metadata": {},
   "source": [
    "# 一般部位の層構成を作成するモジュール"
   ]
  },
  {
   "cell_type": "markdown",
   "metadata": {},
   "source": [
    "## I. 関数"
   ]
  },
  {
   "cell_type": "markdown",
   "metadata": {},
   "source": [
    "### 1. 直接U値入力からの層構成の作成"
   ]
  },
  {
   "cell_type": "markdown",
   "metadata": {},
   "source": [
    "#### 1) 断熱材の厚さの推定"
   ]
  },
  {
   "cell_type": "markdown",
   "metadata": {},
   "source": [
    "$$ l_{res} = \\left( \\frac{ 1 }{ U } - R_o - \\sum_i{R_{other,i}} - R_i \\right) \\lambda_{res} $$"
   ]
  },
  {
   "cell_type": "markdown",
   "metadata": {},
   "source": [
    "ただし、$l_{res}$が0を下回る場合は0とする。"
   ]
  },
  {
   "cell_type": "markdown",
   "metadata": {},
   "source": [
    "$l_res$:断熱材の厚さ, m  \n",
    "$U$:熱貫流率, W/m<sup>2</sup>K  \n",
    "$R_o$:熱的境界外側（外気側）又は界壁・界床における隣接住戸の室内側の表面熱伝達抵抗, m<sup>2</sup>K/W  \n",
    "$R_{other,i}$:断熱材以外の部材$i$の熱抵抗, m<sup>2</sup>K/W  \n",
    "$R_i$:熱的境界内側（室内側）又は界壁・界床における対象住戸の室内側の表面熱伝達抵抗, m<sup>2</sup>K/W  \n",
    "$\\lambda_{res}$:断熱材の熱伝導率, W/mK"
   ]
  },
  {
   "cell_type": "code",
   "execution_count": 2,
   "metadata": {},
   "outputs": [],
   "source": [
    "def get_thermal_insulation_thickness(u, r_o, r_i, r_others, lambda_res):\n",
    "    return max( 0.0, ( 1 / u - r_o - sum(r_others) - r_i ) * lambda_res )"
   ]
  },
  {
   "cell_type": "markdown",
   "metadata": {},
   "source": [
    "#### 2) 表面熱伝達抵抗"
   ]
  },
  {
   "cell_type": "markdown",
   "metadata": {},
   "source": [
    "表面熱伝達抵抗は部位の種類と隣接空間の種類によって決定される。"
   ]
  },
  {
   "cell_type": "code",
   "execution_count": 3,
   "metadata": {},
   "outputs": [],
   "source": [
    "def get_thermal_resistance(general_part_type, next_space):\n",
    "    \n",
    "    r_i, r_o = mtc.get_surface_thermal_resistance(general_part_type=general_part_type, next_space=next_space)\n",
    "    \n",
    "    return r_i, r_o"
   ]
  },
  {
   "cell_type": "markdown",
   "metadata": {},
   "source": [
    "#### 3) 断熱材以外に想定する物質とその物性値"
   ]
  },
  {
   "cell_type": "markdown",
   "metadata": {},
   "source": [
    "| 番号 | 材料 | 厚さ, m | 熱伝導率, W m<sup>-1</sup> K<sup>-1</sup> | 容積比熱, J L<sup>-1</sup> K<sup>-1</sup> |\n",
    "|---|---|---|---|\n",
    "| 1 | せっこうボード | 0.0095 | 0.22 | 830.0 |\n",
    "| 2 | 合板 | 0.012 | 0.16 | 720.0 |\n",
    "| 3 | コンクリート | 0.120 | 1.6 | 2000.0 |"
   ]
  },
  {
   "cell_type": "code",
   "execution_count": 4,
   "metadata": {},
   "outputs": [],
   "source": [
    "def get_material(name):\n",
    "    \n",
    "    return {\n",
    "        'gypsum_board' : {\n",
    "            'name'          : 'gypsum_board',\n",
    "            'conductivity'  : 0.22,\n",
    "            'specific_heat' : 830.0,\n",
    "            'thickness'     : 0.0095,\n",
    "        },\n",
    "        'concrete' : {\n",
    "            'name'          : 'concrete',\n",
    "            'conductivity'  : 1.6,\n",
    "            'specific_heat' : 2000.0,\n",
    "            'thickness'     : 0.120,\n",
    "        },\n",
    "        'plywood' : {\n",
    "            'name' :'plywood',\n",
    "            'conductivity' : 0.16,\n",
    "            'specific_heat' : 720.0,\n",
    "            'thickness' : 0.012,\n",
    "        }\n",
    "    }[name]"
   ]
  },
  {
   "cell_type": "markdown",
   "metadata": {},
   "source": [
    "$$ R_{other,i} = \\frac{ l_{other,i} }{ \\lambda_{other,i} } $$"
   ]
  },
  {
   "cell_type": "markdown",
   "metadata": {},
   "source": [
    "$l_{other,i}$:部材$i$の厚さ, m  \n",
    "$\\lambda_{other,i}$:部材$i$の熱伝導率, W/mK  \n",
    "ただし、ここで部材$i$は、断熱材を除く。"
   ]
  },
  {
   "cell_type": "code",
   "execution_count": 5,
   "metadata": {},
   "outputs": [],
   "source": [
    "def get_resistance(names):\n",
    "\n",
    "    def calc_resistance(name):\n",
    "        \n",
    "        m = get_material(name)\n",
    "        \n",
    "        return m['thickness'] / m['conductivity']\n",
    "    \n",
    "    return [calc_resistance(name) for name in names if name != 'insulation']"
   ]
  },
  {
   "cell_type": "markdown",
   "metadata": {},
   "source": [
    "#### 4) 層構成"
   ]
  },
  {
   "cell_type": "markdown",
   "metadata": {},
   "source": [
    "番号が小さい方が室内側／対象住戸側である。  \n",
    "番号が大きい方が室外側／隣接住戸側である。"
   ]
  },
  {
   "cell_type": "markdown",
   "metadata": {},
   "source": [
    "断熱材は住宅用グラスウール断熱材16K相当を想定し、熱伝導率を0.045 W / m K、容積比熱を13.0 J / L と想定する。"
   ]
  },
  {
   "cell_type": "markdown",
   "metadata": {},
   "source": [
    "構造が木造・鉄骨造・その他／不明の場合\n",
    "\n",
    "| 部位の種類 | 番号:材料 |\n",
    "|:---|---|\n",
    "| 屋根・天井・外壁 | 1:せっこうボード 2:断熱材 |\n",
    "| 床 | 1:合板 2:合板 3:断熱材 |\n",
    "| 界壁 | 1:せっこうボード 2:断熱材 3:せっこうボード |\n",
    "| 上階側界床 | 1:せっこうボード 2:断熱材 3:合板 4:合板 |\n",
    "| 下界側階床 | 1:合板 2:合板 3:断熱材 4:せっこうボード |\n",
    "\n",
    "構造が鉄筋コンクリート造等の場合\n",
    "\n",
    "| 部位の種類 | 番号:材料 |\n",
    "|:---|---|\n",
    "| 屋根・天井・外壁 | 1:せっこうボード 2:断熱材 3:コンクリート |\n",
    "| 床 | 1:合板 2:合板 3:断熱材 4:コンクリート |\n",
    "| 界壁 | 1:せっこうボード 2:断熱材 3:コンクリート 4:断熱材 5:せっこうボード |\n",
    "| 上階側界床 | 1:せっこうボード 2:コンクリート 3:断熱材 4:合板 5:合板 |\n",
    "| 下界側階床 | 1:合板 2:合板 3:断熱材 4:コンクリート 5:せっこうボード |"
   ]
  },
  {
   "cell_type": "code",
   "execution_count": 6,
   "metadata": {},
   "outputs": [],
   "source": [
    "def get_layer_names(general_part_type, structure):\n",
    "    \n",
    "    if structure == 'wood' or structure == 'steel' or structure == 'other':\n",
    "        \n",
    "        return {\n",
    "            'roof'                    : ['gypsum_board', 'insulation'],\n",
    "            'ceiling'                 : ['gypsum_board', 'insulation'],\n",
    "            'wall'                    : ['gypsum_board', 'insulation'],\n",
    "            'floor'                   : ['plywood', 'plywood', 'insulation'],\n",
    "            'boundary_wall'           : ['gypsum_board', 'insulation', 'gypsum_board'],\n",
    "            'upward_boundary_floor'   : ['gypsum_board', 'insulation', 'plywood', 'plywood'],\n",
    "            'downward_boundary_floor' : ['plywood', 'plywood', 'insulation', 'gypsum_board'],\n",
    "        }[general_part_type]      \n",
    "    \n",
    "    elif structure == 'rc':\n",
    "        \n",
    "        return {\n",
    "            'roof'                    : ['gypsum_board', 'insulation', 'concrete'],\n",
    "            'ceiling'                 : ['gypsum_board', 'insulation', 'concrete'],\n",
    "            'wall'                    : ['gypsum_board', 'insulation', 'concrete'],\n",
    "            'floor'                   : ['plywood', 'plywood', 'insulation', 'concrete'],\n",
    "            'boundary_wall'           : ['gypsum_board', 'insulation', 'concrete', 'insulation', 'gypsum_board'],\n",
    "            'upward_boundary_floor'   : ['gypsum_board', 'concrete', 'insulation', 'plywood', 'plywood'],\n",
    "            'downward_boundary_floor' : ['plywood', 'plywood', 'insulation', 'concrete', 'gypsum_board'],\n",
    "        }[general_part_type]      \n",
    "        \n",
    "    else:\n",
    "        \n",
    "        raise ValueError"
   ]
  },
  {
   "cell_type": "code",
   "execution_count": 7,
   "metadata": {},
   "outputs": [],
   "source": [
    "def get_layers(general_part_type, next_space, structure, u_value):\n",
    "    \n",
    "    r_i, r_o = get_thermal_resistance(general_part_type, next_space)\n",
    "    \n",
    "    names = get_layer_names(general_part_type, structure)\n",
    "    \n",
    "    r_others = get_resistance(names)\n",
    "    \n",
    "    t = get_thermal_insulation_thickness(u=u_value, r_o=r_o, r_i=r_i, r_others=r_others, lambda_res=0.045)\n",
    "    \n",
    "    def get_layer(name):\n",
    "        if name == 'gypsum_board' or name == 'concrete' or name == 'plywood':\n",
    "            return get_material(name)\n",
    "        elif name == 'insulation':\n",
    "            return {\n",
    "                'name'          : 'insulation',\n",
    "                'conductivity'  : 0.045,\n",
    "                'specific_heat' : 13.0,\n",
    "                'thickness'     : t,\n",
    "            }\n",
    "    return [get_layer(name) for name in names]"
   ]
  },
  {
   "cell_type": "markdown",
   "metadata": {},
   "source": [
    "## Example 1"
   ]
  },
  {
   "cell_type": "code",
   "execution_count": 8,
   "metadata": {},
   "outputs": [
    {
     "data": {
      "text/plain": [
       "(0.11, 0.04)"
      ]
     },
     "execution_count": 8,
     "metadata": {},
     "output_type": "execute_result"
    }
   ],
   "source": [
    "get_thermal_resistance(general_part_type='wall', next_space='outdoor')"
   ]
  },
  {
   "cell_type": "code",
   "execution_count": 9,
   "metadata": {},
   "outputs": [
    {
     "data": {
      "text/plain": [
       "[{'name': 'gypsum_board',\n",
       "  'conductivity': 0.22,\n",
       "  'specific_heat': 830.0,\n",
       "  'thickness': 0.0095},\n",
       " {'name': 'insulation',\n",
       "  'conductivity': 0.045,\n",
       "  'specific_heat': 13.0,\n",
       "  'thickness': 0.0749499408583981}]"
      ]
     },
     "execution_count": 9,
     "metadata": {},
     "output_type": "execute_result"
    }
   ],
   "source": [
    "get_layers(general_part_type='wall',\n",
    "           next_space='outdoor',\n",
    "           structure='wood',\n",
    "           u_value=0.538 )"
   ]
  },
  {
   "cell_type": "markdown",
   "metadata": {},
   "source": [
    "## Example 2"
   ]
  },
  {
   "cell_type": "markdown",
   "metadata": {},
   "source": [
    "U値と断熱材厚の関係のグラフ作成"
   ]
  },
  {
   "cell_type": "code",
   "execution_count": 11,
   "metadata": {},
   "outputs": [
    {
     "data": {
      "image/png": "[encoded data removed]",
      "text/plain": [
       "<Figure size 1080x360 with 2 Axes>"
      ]
     },
     "metadata": {},
     "output_type": "display_data"
    }
   ],
   "source": [
    "xs = np.arange(0.05, 5.0, 0.05)\n",
    "\n",
    "cases = [\n",
    "    ('ceiling',                 'open_space'),\n",
    "    ('roof',                    'outdoor'),\n",
    "    ('wall',                    'outdoor'),\n",
    "    ('floor',                   'outdoor'),\n",
    "    ('boundary_wall',           'air_conditioned'),\n",
    "    ('upward_boundary_floor',   'air_conditioned'),\n",
    "    ('downward_boundary_floor', 'air_conditioned'),\n",
    "]\n",
    "\n",
    "fig = plt.figure(figsize = (15, 5))\n",
    "plt.style.use('ggplot')\n",
    "\n",
    "for i, structure in enumerate(['wood','rc']):\n",
    "    \n",
    "    sp = fig.add_subplot(1, 2, i+1)\n",
    "\n",
    "    sp.set_title(structure)\n",
    "    sp.set_xlabel('U-value, W/m2K')\n",
    "    sp.set_ylabel('insulation thickness, m')\n",
    "    sp.set_ylim(0.0, 0.4)\n",
    "    \n",
    "    for c2 in cases:\n",
    "\n",
    "        r_i, r_o = get_thermal_resistance(c2[0], c2[1])   \n",
    "        names = get_layer_names(c2[0], structure)\n",
    "        r_others = get_resistance(names)\n",
    "        ys = [get_thermal_insulation_thickness(u=x, r_o=r_o, r_i=r_i, r_others=r_others, lambda_res=0.045) for x in xs]\n",
    "        sp.scatter(xs, ys, 10, label=c2[0])\n",
    "        \n",
    "    sp.legend()\n",
    "\n",
    "plt.show()"
   ]
  },
  {
   "cell_type": "code",
   "execution_count": null,
   "metadata": {},
   "outputs": [],
   "source": []
  }
 ],
 "metadata": {
  "kernelspec": {
   "display_name": "Python 3",
   "language": "python",
   "name": "python3"
  },
  "language_info": {
   "codemirror_mode": {
    "name": "ipython",
    "version": 3
   },
   "file_extension": ".py",
   "mimetype": "text/x-python",
   "name": "python",
   "nbconvert_exporter": "python",
   "pygments_lexer": "ipython3",
   "version": "3.6.4"
  }
 },
 "nbformat": 4,
 "nbformat_minor": 2
}
