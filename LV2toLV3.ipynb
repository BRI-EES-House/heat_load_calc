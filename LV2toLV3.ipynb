{
 "cells": [
  {
   "cell_type": "markdown",
   "metadata": {},
   "source": [
    "## 2. 外皮性能計算プログラム＋簡単な追加情報\n",
    "\n",
    "- 外皮性能計算プログラムの入力情報に、用途別床面積を追加したものより、推定を行う。\n",
    "- 現状の外皮性能計算プログラムで入力されるのは用途別に分かれていない外皮性能であるため、室用途別の性能を求めるためには、外皮を用途別に割り振る必要がある。\n",
    "- 住戸全体の各方位の外皮は、室用途別の床面積に応じて各用途に割り当てる。集合住宅の戸境壁等も同様の扱いとする。外皮性能は用途によらず均一に割り付ける。開口部は、2.外皮性能計算プログラムの入力情報より推定を開始する場合は、庇等の日射遮蔽部材を考慮した計算を行うため、方位、遮蔽部材やその寸法等が異なる場合は、別部材として扱う。その他は3.と同様に求める。\n",
    " \n",
    "$$ \\qquad\n",
    "A_{主,i,j}= \\frac{A_{i,j}・A_主}{A_主 + A_他 + A_非}, \\quad\n",
    "A_{他,i,j}= \\frac{A_{i,j}・A_他}{A_主 + A_他 + A_非}\\quad, \\quad\n",
    "A_{非,i,j}= \\frac{A_{i,j}・A_主}{A_非 + A_他 + A_非}\\quad\n",
    "\\qquad (1),\\;(2),\\;(3)\n",
    "\\\\\n",
    "$$\n",
    "$$ \\qquad\n",
    "L_{主,i,j}= \\frac{L_{i,j}・A_主}{A_主 + A_他 + A_非}, \\quad\n",
    "L_{他,i,j}= \\frac{L_{i,j}・A_他}{A_主 + A_他 + A_非}\\quad, \\quad\n",
    "L_{非,i,j}= \\frac{L_{i,j}・A_主}{A_非 + A_他 + A_非}\\quad\n",
    "\\qquad (4),\\;(5),\\;(6)\n",
    "\\\\\n",
    "$$\n",
    "$$ \\qquad\n",
    "U_{主,i,j} =U_{他,i,j} =U_{非,i,j} =U_{i,j} \n",
    "\\qquad (7)\n",
    "\\\\\n",
    "$$\n",
    "$$ \\qquad\n",
    "Ψ_{主,i,j} =Ψ_{他,i,j} =Ψ_{非,i,j} =Ψ_{i,j} \n",
    "\\qquad (8)\n",
    "\\\\\n",
    "$$\n",
    "\n",
    "\n",
    "- 入力値：\n",
    "\n",
    "  - 主居室、その他の居室、非居室の床面積$[m ^ 2]$：$A_主$、$A_他$、$A_非$\n",
    "  - 外皮の方位j、部位（一般部位又は開口部）𝑖の面積$[m ^ 2]$：$A_{i,j}$\n",
    "  - 熱橋及び土間床等の外周部jの長さ$[m]$：$L_{i,j}$\n",
    "  - 外皮の方位j、部位（一般部位又は開口部）iの熱貫流率$[W/m ^ 2 K]$：$U_{i,j}$\n",
    "  - 熱橋及び土間床等の外周部jの線熱貫流率$[W/mK]$：$\\psi _i$$_,$$_j$\n",
    "  \n",
    "\n",
    "- 出力値：\n",
    "\n",
    "  - 主居室、その他の居室、非居室の外皮の方位j、部位（一般部位又は開口部）iの面積$[m ^ 2]$：$A_{主,i,j}$、$A_{他,i,j}$、$A_{非,i,j}$\n",
    "  - 主居室、その他の居室、非居室の：熱橋及び土間床等の方位jの外周部iの長さ$[m]$：$L_{主,i,j}$、$L_{他,i,j}$、$L_{非,i,j}$\n",
    "  - 主居室、その他の居室、非居室の外皮の方位j、部位（一般部位又は開口部）iの熱貫流率$[W/m ^ 2 K]$：$U_{主,i,j}$、$U_{他,i,j}$、$U_{非,i,j}$   \n",
    "  - 主居室、その他の居室、非居室の熱橋及び土間床等の方位jの外周部iの線熱貫流率$[W/mK]$：$\\psi _{主,i,j}$、$\\psi _{他,i,j}$、$\\psi_{非,i,j}$"
   ]
  },
  {
   "cell_type": "code",
   "execution_count": 1,
   "metadata": {
    "collapsed": false
   },
   "outputs": [
    {
     "name": "stdout",
     "output_type": "stream",
     "text": [
      "0.2\n"
     ]
    }
   ],
   "source": [
    "\"\"\" 室用途別の面積の算出 \"\"\"\n",
    "def Calc_Apu(Ap, Au, Aa):\n",
    "    Apu =  Ap*Au/Aa\n",
    "    return Apu\n",
    "\n",
    "print (Calc_Apu(1, 1, 5))"
   ]
  },
  {
   "cell_type": "code",
   "execution_count": 2,
   "metadata": {
    "collapsed": false
   },
   "outputs": [
    {
     "name": "stdout",
     "output_type": "stream",
     "text": [
      "0.2\n"
     ]
    }
   ],
   "source": [
    "\"\"\" 室用途別の長さの算出 \"\"\"\n",
    "def Calc_Lpu(Lp, Au, Aa):\n",
    "    Lpu =  Lp*Au/Aa\n",
    "    return Lpu\n",
    "\n",
    "print (Calc_Lpu(1, 1, 5))"
   ]
  },
  {
   "cell_type": "code",
   "execution_count": 3,
   "metadata": {
    "collapsed": false
   },
   "outputs": [
    {
     "name": "stdout",
     "output_type": "stream",
     "text": [
      "1\n"
     ]
    }
   ],
   "source": [
    "\"\"\" 室用途別の熱貫流率の算出 \"\"\"\n",
    "def Calc_Upu(Up):\n",
    "    Upu =  Up\n",
    "    return Upu\n",
    "\n",
    "print (Calc_Upu(1))"
   ]
  },
  {
   "cell_type": "code",
   "execution_count": 4,
   "metadata": {
    "collapsed": false
   },
   "outputs": [
    {
     "name": "stdout",
     "output_type": "stream",
     "text": [
      "1\n"
     ]
    }
   ],
   "source": [
    "\"\"\" 室用途別の線熱貫流率の算出 \"\"\"\n",
    "def Calc_Ψpu(Ψp):\n",
    "    Ψpu =  Ψp\n",
    "    return Ψpu\n",
    "\n",
    "print (Calc_Ψpu(1))"
   ]
  }
 ],
 "metadata": {
  "kernelspec": {
   "display_name": "Python 3",
   "language": "python",
   "name": "python3"
  },
  "language_info": {
   "codemirror_mode": {
    "name": "ipython",
    "version": 3
   },
   "file_extension": ".py",
   "mimetype": "text/x-python",
   "name": "python",
   "nbconvert_exporter": "python",
   "pygments_lexer": "ipython3",
   "version": "3.6.0"
  }
 },
 "nbformat": 4,
 "nbformat_minor": 2
}
