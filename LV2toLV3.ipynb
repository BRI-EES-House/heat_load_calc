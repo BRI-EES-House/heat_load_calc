{
 "cells": [
  {
   "cell_type": "code",
   "execution_count": 1,
   "metadata": {
    "collapsed": true
   },
   "outputs": [],
   "source": [
    "import copy"
   ]
  },
  {
   "cell_type": "markdown",
   "metadata": {},
   "source": [
    "# 外皮情報LV2からLV3へのコンバート"
   ]
  },
  {
   "cell_type": "markdown",
   "metadata": {},
   "source": [
    "## 1. 外皮性能計算プログラム＋簡単な追加情報\n",
    "\n",
    "- 外皮性能計算プログラムの入力情報に、用途別床面積を追加したものより、推定を行う。\n",
    "- 現状の外皮性能計算プログラムで入力されるのは用途別に分かれていない外皮性能であるため、室用途別の性能を求めるためには、外皮を用途別に割り振る必要がある。\n",
    "- 土間床等面積が0㎡より大きい場合、基礎断熱部は床下空間に属するものとみなし、室と床下空間の間の床の合計面積は土間床等面積の合計に等しいとみなす。室と床下空間の間の床は、仕様を想定して与える（合板12mm、参考：SimHeatでの熱負荷計算用の無断熱の層構成）\n",
    "- 住戸全体の外皮（床下空間に属するものを除く）、および、室と床下空間の間の床は、室用途別の床面積に応じて各用途に割り当てる。集合住宅の戸境壁等も同様の扱いとする。外皮性能は用途によらず均一に割り付ける。開口部は、外皮性能計算プログラムの入力情報より推定を開始する場合は、庇等の日射遮蔽部材を考慮した計算を行うため、方位、遮蔽部材やその寸法等が異なる場合は、別部材として扱う。\n",
    "- 各部位の熱橋は、対応する一般部のU値の低減に置き換える。一般部の断熱材の厚を調整する。\n",
    "- その他は、用途別情報が得られている場合と同様に求める。"
   ]
  },
  {
   "cell_type": "markdown",
   "metadata": {},
   "source": [
    "### 《土間床等面積が0㎡より大きい場合の扱い》\n",
    "$$ \\qquad\n",
    "A_{b}=min(A_主 + A_他 + A_非, \\sum_{i}^{}S_{df,i})\n",
    "\\qquad\n",
    "\\\\\n",
    "$$\n",
    "\n",
    "- 入力値：\n",
    "  - 室用途不明の空間に属する土間床等の部位iの面積$[m ^ 2]$：$S_{df,i}$\n",
    "\n",
    "- 出力値：\n",
    "\n",
    "  - 室と床下空間の間の床面積の合計$[m ^ 2]$：$A_{b}$"
   ]
  },
  {
   "cell_type": "markdown",
   "metadata": {},
   "source": [
    "### 1) 室用途別面積比率"
   ]
  },
  {
   "cell_type": "markdown",
   "metadata": {},
   "source": [
    "#### Outline"
   ]
  },
  {
   "cell_type": "markdown",
   "metadata": {},
   "source": [
    "$$ \n",
    "r_m = \\frac{ a_m }{ A_m + A_o + A_n }\n",
    "$$\n",
    "\n",
    "$$\n",
    "r_o = \\frac{ A_o }{ A_m + A_o + A_n }\n",
    "$$\n",
    "\n",
    "$$\n",
    "r_n = \\frac{ A_n }{ A_m + A_o + A_n }\n",
    "$$"
   ]
  },
  {
   "cell_type": "markdown",
   "metadata": {},
   "source": [
    "$r_m$: 主たる居室の面積比率, -  \n",
    "$r_o$: その他の居室の面積比率, -  \n",
    "$r_n$: 非居室の面積比率, -  \n",
    "$A_m$: 主たる居室の面積, m<sup>2</sup>  \n",
    "$A_o$: その他の居室の面積, m<sup>2</sup>  \n",
    "$A_n$: 非居室の面積, m<sup>2</sup>  "
   ]
  },
  {
   "cell_type": "markdown",
   "metadata": {},
   "source": [
    "#### Function"
   ]
  },
  {
   "cell_type": "code",
   "execution_count": 2,
   "metadata": {
    "collapsed": true
   },
   "outputs": [],
   "source": [
    "def get_area_rate(a_m, a_o, a_t):\n",
    "    # a_m is the main occupied floor area as float, m2\n",
    "    # a_o is the other occupied floor area as float, m2\n",
    "    # a_t is the total occupied floor area as float, m2\n",
    "    \n",
    "    # a_n is the non ocupied floor area as float, m2\n",
    "    a_n = a_t - a_m - a_o\n",
    "\n",
    "    return a_m / a_t, a_o / a_t, a_n / a_t"
   ]
  },
  {
   "cell_type": "markdown",
   "metadata": {},
   "source": [
    "### 2) 室用途別の面積の推定"
   ]
  },
  {
   "cell_type": "markdown",
   "metadata": {},
   "source": [
    "#### Outline"
   ]
  },
  {
   "cell_type": "markdown",
   "metadata": {},
   "source": [
    "$$\n",
    "A_{m,i}= A_{i} \\times r_m\n",
    "$$\n",
    "\n",
    "$$\n",
    "A_{o,i}= A_{i} \\times r_o\n",
    "$$\n",
    "\n",
    "$$\n",
    "A_{n,i}= A_{i} \\times r_n\n",
    "$$"
   ]
  },
  {
   "cell_type": "markdown",
   "metadata": {},
   "source": [
    "$A_{m,i}$: 主たる居室の部位(一般部位又は開口部)$i$の面積, m<sup>2</sup>  \n",
    "$A_{o,i}$: その他の居室の部位(一般部位又は開口部)$i$の面積, m<sup>2</sup>  \n",
    "$A_{n,i}$: 非居室の部位(一般部位又は開口部)$i$の面積, m<sup>2</sup>  \n",
    "$A_i$: 外皮の部位(一般部位又は開口部)$i$の面積, m<sup>2</sup>"
   ]
  },
  {
   "cell_type": "markdown",
   "metadata": {},
   "source": [
    "#### Function"
   ]
  },
  {
   "cell_type": "code",
   "execution_count": 3,
   "metadata": {
    "collapsed": true
   },
   "outputs": [],
   "source": [
    "def get_area_by_room_use( target_area, a_m, a_o, a_t ):\n",
    "    # target_area is the area of the part i as double, m2\n",
    "    # a_m is the main floor area as float, m2\n",
    "    # a_o is the other floor area as float, m2\n",
    "    # a_t is the total floor area as float, m2\n",
    "    \n",
    "    r_m, r_o, r_n = get_area_rate( a_m, a_o, a_t )\n",
    "    return {\n",
    "        'main'      : r_m * target_area,\n",
    "        'other'     : r_o * target_area,\n",
    "        'nonliving' : r_n * target_area\n",
    "    }"
   ]
  },
  {
   "cell_type": "markdown",
   "metadata": {},
   "source": [
    "### 3) 室用途別の長さの推定"
   ]
  },
  {
   "cell_type": "markdown",
   "metadata": {},
   "source": [
    "#### Outline"
   ]
  },
  {
   "cell_type": "markdown",
   "metadata": {},
   "source": [
    "$$\n",
    "L_{m,i}= L_{i} \\times r_m\n",
    "$$\n",
    "\n",
    "$$\n",
    "L_{o,i}= L_{i} \\times r_o\n",
    "$$\n",
    "\n",
    "$$\n",
    "L_{n,i}= L_{i} \\times r_n\n",
    "$$"
   ]
  },
  {
   "cell_type": "markdown",
   "metadata": {},
   "source": [
    "$L_{m,i}$: 主たる居室の熱橋及び土間床等の外周部$i$の長さ, m  \n",
    "$L_{o,i}$: その他の熱橋及び土間床等の外周部$i$の長さ, m  \n",
    "$L_{n,i}$: 非居室の熱橋及び土間床等の外周部$i$の長さ, m  \n",
    "$L_i$: 熱橋及び土間床等の外周部$i$の長さ, m"
   ]
  },
  {
   "cell_type": "markdown",
   "metadata": {},
   "source": [
    "#### Function"
   ]
  },
  {
   "cell_type": "code",
   "execution_count": 4,
   "metadata": {
    "collapsed": true
   },
   "outputs": [],
   "source": [
    "def get_length_by_room_use(target_length, a_m, a_o, a_t):\n",
    "    # target_length is the length of the part i as double, m\n",
    "    # a_m is the main floor area as float, m\n",
    "    # a_o is the other floor area as float, m\n",
    "    # a_t is the total floor area as float, m\n",
    "    \n",
    "    r_m, r_o, r_n = get_area_rate(a_m, a_o, a_t)\n",
    "    return {\n",
    "        'main'      : r_m * target_length,\n",
    "        'other'     : r_o * target_length,\n",
    "        'nonliving' : r_n * target_length\n",
    "    }"
   ]
  },
  {
   "cell_type": "markdown",
   "metadata": {},
   "source": [
    "#### Example"
   ]
  },
  {
   "cell_type": "code",
   "execution_count": 5,
   "metadata": {},
   "outputs": [
    {
     "data": {
      "text/plain": [
       "({'main': 12.5, 'other': 25.0, 'nonliving': 12.5},\n",
       " {'main': 3.0, 'other': 6.0, 'nonliving': 3.0})"
      ]
     },
     "execution_count": 5,
     "metadata": {},
     "output_type": "execute_result"
    }
   ],
   "source": [
    "areas = get_area_by_room_use(50.0, 30.0, 60.0, 120.0)\n",
    "lengths = get_length_by_room_use(12.0, 30.0, 60.0, 120.0)\n",
    "areas, lengths"
   ]
  },
  {
   "cell_type": "markdown",
   "metadata": {},
   "source": [
    "## 2. Convert"
   ]
  },
  {
   "cell_type": "markdown",
   "metadata": {},
   "source": [
    "### 1) 共通"
   ]
  },
  {
   "cell_type": "markdown",
   "metadata": {},
   "source": [
    "'Common'要素はそのまま維持する。"
   ]
  },
  {
   "cell_type": "markdown",
   "metadata": {},
   "source": [
    "#### Input"
   ]
  },
  {
   "cell_type": "markdown",
   "metadata": {},
   "source": [
    "参照：InputDataDefinition.ipynb"
   ]
  },
  {
   "cell_type": "markdown",
   "metadata": {},
   "source": [
    "#### Output"
   ]
  },
  {
   "cell_type": "markdown",
   "metadata": {},
   "source": [
    "参照：InputDataDefinition.ipynb"
   ]
  },
  {
   "cell_type": "markdown",
   "metadata": {},
   "source": [
    "#### Function"
   ]
  },
  {
   "cell_type": "code",
   "execution_count": 6,
   "metadata": {
    "collapsed": true
   },
   "outputs": [],
   "source": [
    "def convert_common(d):\n",
    "    return d['Common']"
   ]
  },
  {
   "cell_type": "markdown",
   "metadata": {},
   "source": [
    "#### Example"
   ]
  },
  {
   "cell_type": "code",
   "execution_count": 7,
   "metadata": {},
   "outputs": [
    {
     "data": {
      "text/plain": [
       "{'Region': 6,\n",
       " 'IsSimplifiedInput': True,\n",
       " 'MainOccupantRoomFloorArea': 30.0,\n",
       " 'OtherOccupantRoomFloorArea': 60.0,\n",
       " 'TotalFloorArea': 120.0}"
      ]
     },
     "execution_count": 7,
     "metadata": {},
     "output_type": "execute_result"
    }
   ],
   "source": [
    "d = {\n",
    "    'Common': {\n",
    "        'Region' : 6,\n",
    "        'IsSimplifiedInput': True,\n",
    "        'MainOccupantRoomFloorArea': 30.0,\n",
    "        'OtherOccupantRoomFloorArea': 60.0,\n",
    "        'TotalFloorArea': 120.0\n",
    "    }\n",
    "}\n",
    "\n",
    "convert_common(d)"
   ]
  },
  {
   "cell_type": "markdown",
   "metadata": {},
   "source": [
    "### 2) 開口部以外の不透明部位\n",
    "\n",
    "- 壁体名称、一般部位構造種別、壁体種別、方位、層構成（部材名称、厚さ[m]、熱伝導率[W/mK]、容積比熱[(J/(m<sup>3</sup>・K)]）などの情報は維持する。\n",
    "- Lv2の入力情報に「壁体が属する空間種類」の情報を追加し、部位面積から各部位の室用途別面積を推定する。"
   ]
  },
  {
   "cell_type": "markdown",
   "metadata": {},
   "source": [
    "#### Function"
   ]
  },
  {
   "cell_type": "code",
   "execution_count": 8,
   "metadata": {},
   "outputs": [],
   "source": [
    "def convert_wall( d ):\n",
    "    \n",
    "    walls =[]\n",
    "    for arg_wall in d['Walls']:\n",
    "        areas = get_area_by_room_use(arg_wall['area'], d['Common']['MainOccupantRoomFloorArea'], d['Common']['OtherOccupantRoomFloorArea'], d['Common']['TotalFloorArea'])\n",
    "        for space, area in areas.items() :\n",
    "             # 壁体名称、部位面積を更新し、「壁体が属する空間種類」を追加する\n",
    "            wall = copy.deepcopy(arg_wall)\n",
    "            wall['name'] = arg_wall['name'] + '_' + space \n",
    "            wall['area'] = area\n",
    "            wall['space'] = space\n",
    "            walls.append(wall)\n",
    "            \n",
    "    return walls"
   ]
  },
  {
   "cell_type": "markdown",
   "metadata": {},
   "source": [
    "#### Example"
   ]
  },
  {
   "cell_type": "code",
   "execution_count": 9,
   "metadata": {},
   "outputs": [
    {
     "data": {
      "text/plain": [
       "[{'area': 16.95, 'direction': 'top', 'name': 'Ceiling_main', 'space': 'main'},\n",
       " {'area': 33.9, 'direction': 'top', 'name': 'Ceiling_other', 'space': 'other'},\n",
       " {'area': 16.95,\n",
       "  'direction': 'top',\n",
       "  'name': 'Ceiling_nonliving',\n",
       "  'space': 'nonliving'},\n",
       " {'area': 10.1575, 'direction': 'SW', 'name': 'Wall_SW_main', 'space': 'main'},\n",
       " {'area': 20.315,\n",
       "  'direction': 'SW',\n",
       "  'name': 'Wall_SW_other',\n",
       "  'space': 'other'},\n",
       " {'area': 10.1575,\n",
       "  'direction': 'SW',\n",
       "  'name': 'Wall_SW_nonliving',\n",
       "  'space': 'nonliving'}]"
      ]
     },
     "execution_count": 9,
     "metadata": {},
     "output_type": "execute_result"
    }
   ],
   "source": [
    "d = {\n",
    "    'Common': {\n",
    "        'MainOccupantRoomFloorArea': 30.0,\n",
    "        'OtherOccupantRoomFloorArea': 60.0,\n",
    "        'TotalFloorArea': 120.0,\n",
    "    },\n",
    "    'Walls': [\n",
    "        { 'area': 67.8, 'direction': 'top', 'name': 'Ceiling' },\n",
    "        { 'area': 40.63, 'direction': 'SW', 'name': 'Wall_SW',}\n",
    "    ]\n",
    "}    \n",
    "\n",
    "convert_wall(d)"
   ]
  },
  {
   "cell_type": "markdown",
   "metadata": {},
   "source": [
    "### 3) 開口部の透明部位\n",
    "\n",
    "- 開口部名称、方位、日射熱取得率[-]、熱貫流率[W/(m<sup>2</sup>・K)]などの情報は維持する。\n",
    "- 「開口部が属する空間種類」の情報を追加し、部位面積から各部位の室用途別面積を推定する。"
   ]
  },
  {
   "cell_type": "markdown",
   "metadata": {},
   "source": [
    "#### Function"
   ]
  },
  {
   "cell_type": "code",
   "execution_count": 10,
   "metadata": {
    "collapsed": true
   },
   "outputs": [],
   "source": [
    "def convert_window( d ):\n",
    "    \n",
    "    windows =[]\n",
    "    for arg_window in d['Windows']:\n",
    "        areas = get_area_by_room_use(arg_window['area'], d['Common']['MainOccupantRoomFloorArea'], d['Common']['OtherOccupantRoomFloorArea'], d['Common']['TotalFloorArea'])\n",
    "        for space, area in areas.items() :\n",
    "            # 開口部名称、部位面積を更新し、「開口部が属する空間種類」を追加する\n",
    "            window = copy.deepcopy(arg_window)\n",
    "            window['name'] = arg_window['name'] + '_' + space\n",
    "            window['area'] = area\n",
    "            window['space'] = space\n",
    "            windows.append(window)\n",
    "        \n",
    "    return windows"
   ]
  },
  {
   "cell_type": "markdown",
   "metadata": {},
   "source": [
    "#### Example"
   ]
  },
  {
   "cell_type": "code",
   "execution_count": 11,
   "metadata": {},
   "outputs": [
    {
     "data": {
      "text/plain": [
       "[{'name': 'WindowSW_main', 'direction': 'SW', 'area': 7.5625, 'space': 'main'},\n",
       " {'name': 'WindowSW_other',\n",
       "  'direction': 'SW',\n",
       "  'area': 15.125,\n",
       "  'space': 'other'},\n",
       " {'name': 'WindowSW_nonliving',\n",
       "  'direction': 'SW',\n",
       "  'area': 7.5625,\n",
       "  'space': 'nonliving'},\n",
       " {'name': 'WindowNW_main', 'direction': 'NW', 'area': 0.7925, 'space': 'main'},\n",
       " {'name': 'WindowNW_other',\n",
       "  'direction': 'NW',\n",
       "  'area': 1.585,\n",
       "  'space': 'other'},\n",
       " {'name': 'WindowNW_nonliving',\n",
       "  'direction': 'NW',\n",
       "  'area': 0.7925,\n",
       "  'space': 'nonliving'}]"
      ]
     },
     "execution_count": 11,
     "metadata": {},
     "output_type": "execute_result"
    }
   ],
   "source": [
    "d = {\n",
    "    'Common': {\n",
    "        'MainOccupantRoomFloorArea': 30.0,\n",
    "        'OtherOccupantRoomFloorArea': 60.0,\n",
    "        'TotalFloorArea': 120.0,\n",
    "    },\n",
    "    'Windows': [\n",
    "        { 'name': 'WindowSW', 'direction': 'SW', 'area': 30.25 },\n",
    "        { 'name': 'WindowNW', 'direction': 'NW', 'area': 3.17  }\n",
    "    ]\n",
    "}    \n",
    "\n",
    "convert_window(d)"
   ]
  },
  {
   "cell_type": "markdown",
   "metadata": {},
   "source": [
    "### 4) 開口部の不透明部位\n",
    "\n",
    "- 開口部名称、方位、熱貫流率[W/(m<sup>2</sup>・K)]などの情報は維持する。\n",
    "- 「開口部が属する空間種類」の情報を追加し、部位面積から各部位の室用途別面積を推定する。"
   ]
  },
  {
   "cell_type": "markdown",
   "metadata": {},
   "source": [
    "#### Function"
   ]
  },
  {
   "cell_type": "code",
   "execution_count": 12,
   "metadata": {
    "collapsed": true
   },
   "outputs": [],
   "source": [
    "def convert_door( d ):\n",
    "    \n",
    "    doors =[]\n",
    "    for arg_door in d['Doors']:\n",
    "        areas = get_area_by_room_use(arg_door['area'], d['Common']['MainOccupantRoomFloorArea'], d['Common']['OtherOccupantRoomFloorArea'], d['Common']['TotalFloorArea'])\n",
    "        for space, area in areas.items() :\n",
    "            # 開口部名称、部位面積を更新し、「開口部が属する空間種類」を追加する\n",
    "            door = copy.deepcopy(arg_door)\n",
    "            door['name'] = arg_door['name'] + '_' + space\n",
    "            door['area'] = area\n",
    "            door['space'] = space\n",
    "            doors.append(door)\n",
    "        \n",
    "    return doors"
   ]
  },
  {
   "cell_type": "markdown",
   "metadata": {},
   "source": [
    "#### Example"
   ]
  },
  {
   "cell_type": "code",
   "execution_count": 13,
   "metadata": {},
   "outputs": [
    {
     "data": {
      "text/plain": [
       "[{'name': 'DoorNW_main', 'direction': 'NW', 'area': 13.0, 'space': 'main'},\n",
       " {'name': 'DoorNW_other', 'direction': 'NW', 'area': 26.0, 'space': 'other'},\n",
       " {'name': 'DoorNW_nonliving',\n",
       "  'direction': 'NW',\n",
       "  'area': 13.0,\n",
       "  'space': 'nonliving'}]"
      ]
     },
     "execution_count": 13,
     "metadata": {},
     "output_type": "execute_result"
    }
   ],
   "source": [
    "d = {\n",
    "    'Common': {\n",
    "        'MainOccupantRoomFloorArea': 30.0,\n",
    "        'OtherOccupantRoomFloorArea': 60.0,\n",
    "        'TotalFloorArea': 120.0,\n",
    "    },\n",
    "    'Doors': [\n",
    "        { 'name': 'DoorNW', 'direction': 'NW', 'area': 52 }\n",
    "    ]\n",
    "}    \n",
    "convert_door(d)"
   ]
  },
  {
   "cell_type": "markdown",
   "metadata": {},
   "source": [
    "### 5) 線熱橋\n",
    "\n",
    "- 熱橋部の構造種別、方位、線熱貫流率[W/(m・K)]などの情報は維持する。\n",
    "- 「 熱橋部が属する空間種類」の情報を追加し、熱橋長さから室用途別の熱橋長さを推定する。"
   ]
  },
  {
   "cell_type": "markdown",
   "metadata": {},
   "source": [
    "#### Function"
   ]
  },
  {
   "cell_type": "code",
   "execution_count": 14,
   "metadata": {
    "collapsed": true
   },
   "outputs": [],
   "source": [
    "def convert_heatbridge( d ):\n",
    "    \n",
    "    heatbridges =[]\n",
    "    for arg_heatbridge in d['Heatbridges']:\n",
    "        lengths = get_length_by_room_use(arg_heatbridge['length'], d['Common']['MainOccupantRoomFloorArea'], d['Common']['OtherOccupantRoomFloorArea'], d['Common']['TotalFloorArea'])\n",
    "        for space, length in lengths.items() :\n",
    "            # 熱橋部長さを更新し、「熱橋部が属する空間種類」を追加する\n",
    "            heatbridge = copy.deepcopy(arg_heatbridge)\n",
    "            heatbridge['length'] = length\n",
    "            heatbridge['space'] = space\n",
    "            heatbridges.append(heatbridge)\n",
    "        \n",
    "    return heatbridges"
   ]
  },
  {
   "cell_type": "markdown",
   "metadata": {},
   "source": [
    "#### Example"
   ]
  },
  {
   "cell_type": "code",
   "execution_count": 15,
   "metadata": {},
   "outputs": [
    {
     "data": {
      "text/plain": [
       "[{'structure': 'rc',\n",
       "  'direction1': 'NW',\n",
       "  'direction2': 'NE',\n",
       "  'length': 2.5,\n",
       "  'space': 'main'},\n",
       " {'structure': 'rc',\n",
       "  'direction1': 'NW',\n",
       "  'direction2': 'NE',\n",
       "  'length': 5.0,\n",
       "  'space': 'other'},\n",
       " {'structure': 'rc',\n",
       "  'direction1': 'NW',\n",
       "  'direction2': 'NE',\n",
       "  'length': 2.5,\n",
       "  'space': 'nonliving'}]"
      ]
     },
     "execution_count": 15,
     "metadata": {},
     "output_type": "execute_result"
    }
   ],
   "source": [
    "d = {\n",
    "    'Common': {\n",
    "        'MainOccupantRoomFloorArea': 30.0,\n",
    "        'OtherOccupantRoomFloorArea': 60.0,\n",
    "        'TotalFloorArea': 120.0,\n",
    "    },\n",
    "    'Heatbridges': [\n",
    "        { 'structure': 'rc', 'direction1': 'NW', 'direction2': 'NE', 'length': 10 }\n",
    "    ]\n",
    "}    \n",
    "convert_heatbridge(d)"
   ]
  },
  {
   "cell_type": "markdown",
   "metadata": {},
   "source": [
    "### 6) 土間床等の外周部の線熱橋\n",
    "\n",
    "- 方位、熱橋長さ[m]、線熱貫流率[W/(m・K)]などの情報は維持する。\n",
    "- 「土間床等の外周部の線熱橋が属する空間種類」の情報を追加する。ただし、Lv2からLv3への変換においては、空間種類は「床下空間」のみとする。"
   ]
  },
  {
   "cell_type": "markdown",
   "metadata": {},
   "source": [
    "#### Function"
   ]
  },
  {
   "cell_type": "code",
   "execution_count": 16,
   "metadata": {
    "collapsed": true
   },
   "outputs": [],
   "source": [
    "def convert_earthfloorperimeter( d ):\n",
    "    \n",
    "    def make_earthfloorperimeter( f ):\n",
    "        earthfloor_perimeter = copy.deepcopy( f )\n",
    "        earthfloor_perimeter['space'] = 'underfloor'\n",
    "        return earthfloor_perimeter\n",
    "    \n",
    "    return [ make_earthfloorperimeter(f) for f in d['EarthfloorPerimeters'] ]"
   ]
  },
  {
   "cell_type": "markdown",
   "metadata": {},
   "source": [
    "#### Example"
   ]
  },
  {
   "cell_type": "code",
   "execution_count": 17,
   "metadata": {},
   "outputs": [
    {
     "data": {
      "text/plain": [
       "[{'direction': 'NW',\n",
       "  'length': 2.43,\n",
       "  'name': 'other_NW',\n",
       "  'psi': 1.8,\n",
       "  'space': 'underfloor'},\n",
       " {'direction': 'NE',\n",
       "  'length': 2.43,\n",
       "  'name': 'other_NE',\n",
       "  'psi': 1.8,\n",
       "  'space': 'underfloor'}]"
      ]
     },
     "execution_count": 17,
     "metadata": {},
     "output_type": "execute_result"
    }
   ],
   "source": [
    "d = {\n",
    "    'EarthfloorPerimeters': [\n",
    "        { 'direction': 'NW', 'length': 2.43, 'name': 'other_NW', 'psi': 1.8 },\n",
    "        { 'direction': 'NE', 'length': 2.43, 'name': 'other_NE', 'psi': 1.8 }\n",
    "    ]\n",
    "}    \n",
    "convert_earthfloorperimeter(d)"
   ]
  },
  {
   "cell_type": "markdown",
   "metadata": {},
   "source": [
    "### 7) 土間床\n",
    "- 面積[m<sup>2</sup>]などの情報は維持する。\n",
    "- 「土間床等が属する空間種類」の情報を追加する。ただし、Lv2からLv3への変換においては、空間種類は「床下空間」のみとする。"
   ]
  },
  {
   "cell_type": "markdown",
   "metadata": {},
   "source": [
    "#### Function"
   ]
  },
  {
   "cell_type": "code",
   "execution_count": 18,
   "metadata": {
    "collapsed": true
   },
   "outputs": [],
   "source": [
    "def convert_earthfloor( d ):\n",
    "    \n",
    "    def make_earthfloor( f ):\n",
    "        earthfloor = copy.deepcopy( f )\n",
    "        earthfloor['space'] = 'underfloor'\n",
    "        return earthfloor\n",
    "    \n",
    "    return [ make_earthfloor(f) for f in d['Earthfloors'] ]"
   ]
  },
  {
   "cell_type": "markdown",
   "metadata": {},
   "source": [
    "#### Example"
   ]
  },
  {
   "cell_type": "code",
   "execution_count": 19,
   "metadata": {},
   "outputs": [
    {
     "data": {
      "text/plain": [
       "[{'name': 'other', 'area': 5.0, 'space': 'underfloor'}]"
      ]
     },
     "execution_count": 19,
     "metadata": {},
     "output_type": "execute_result"
    }
   ],
   "source": [
    "d = {\n",
    "    'Earthfloors': [\n",
    "        { 'name': 'other', 'area': 5.0 }\n",
    "    ]\n",
    "}    \n",
    "convert_earthfloor(d)"
   ]
  },
  {
   "cell_type": "markdown",
   "metadata": {},
   "source": [
    "## 3. Lv3入力情報のコンバート（統合）\n",
    "- 1)共通情報、2)開口部以外の不透明部位、3)開口部の透明部位、4)開口部の不透明部位、5) 線熱橋、6)土間床等の外周部の線熱橋、7)土間床の各コンバート関数を統合し、Lv2の入力情報をLv3の入力情報にコンバートする。"
   ]
  },
  {
   "cell_type": "markdown",
   "metadata": {},
   "source": [
    "### Function"
   ]
  },
  {
   "cell_type": "code",
   "execution_count": 20,
   "metadata": {
    "collapsed": true
   },
   "outputs": [],
   "source": [
    "def convert(d):\n",
    "    d_lv3_input = { \n",
    "        'Common': convert_common(d),\n",
    "        'Walls' : convert_wall(d),\n",
    "        'Windows' : convert_window(d),\n",
    "        'Doors' : convert_door(d),\n",
    "        'EarthfloorPerimeters' : convert_earthfloorperimeter(d),\n",
    "        'Earthfloors' : convert_earthfloor(d)\n",
    "    }\n",
    "    if 'Heatbridges' in d == True:\n",
    "        d_lv3_input['Heatbridges'] = convert_heatbridge(d) \n",
    "            \n",
    "    return d_lv3_input"
   ]
  },
  {
   "cell_type": "markdown",
   "metadata": {},
   "source": [
    "### Example"
   ]
  },
  {
   "cell_type": "code",
   "execution_count": 21,
   "metadata": {},
   "outputs": [
    {
     "data": {
      "text/plain": [
       "{'Common': {'Region': 6,\n",
       "  'MainOccupantRoomFloorArea': 30.0,\n",
       "  'OtherOccupantRoomFloorArea': 60.0,\n",
       "  'TotalFloorArea': 120.0},\n",
       " 'Walls': [{'area': 16.95,\n",
       "   'direction': 'top',\n",
       "   'name': 'Ceiling_main',\n",
       "   'structure': 'wood',\n",
       "   'type': 'ceiling',\n",
       "   'space': 'main'},\n",
       "  {'area': 33.9,\n",
       "   'direction': 'top',\n",
       "   'name': 'Ceiling_other',\n",
       "   'structure': 'wood',\n",
       "   'type': 'ceiling',\n",
       "   'space': 'other'},\n",
       "  {'area': 16.95,\n",
       "   'direction': 'top',\n",
       "   'name': 'Ceiling_nonliving',\n",
       "   'structure': 'wood',\n",
       "   'type': 'ceiling',\n",
       "   'space': 'nonliving'},\n",
       "  {'area': 10.1575,\n",
       "   'direction': 'SW',\n",
       "   'name': 'Wall_SW_main',\n",
       "   'structure': 'wood',\n",
       "   'type': 'wall',\n",
       "   'space': 'main'},\n",
       "  {'area': 20.315,\n",
       "   'direction': 'SW',\n",
       "   'name': 'Wall_SW_other',\n",
       "   'structure': 'wood',\n",
       "   'type': 'wall',\n",
       "   'space': 'other'},\n",
       "  {'area': 10.1575,\n",
       "   'direction': 'SW',\n",
       "   'name': 'Wall_SW_nonliving',\n",
       "   'structure': 'wood',\n",
       "   'type': 'wall',\n",
       "   'space': 'nonliving'}],\n",
       " 'Windows': [{'area': 7.5625,\n",
       "   'direction': 'SW',\n",
       "   'name': 'WindowSW_main',\n",
       "   'type': 'single',\n",
       "   'space': 'main'},\n",
       "  {'area': 15.125,\n",
       "   'direction': 'SW',\n",
       "   'name': 'WindowSW_other',\n",
       "   'type': 'single',\n",
       "   'space': 'other'},\n",
       "  {'area': 7.5625,\n",
       "   'direction': 'SW',\n",
       "   'name': 'WindowSW_nonliving',\n",
       "   'type': 'single',\n",
       "   'space': 'nonliving'},\n",
       "  {'area': 0.7925,\n",
       "   'direction': 'NW',\n",
       "   'name': 'WindowNW_main',\n",
       "   'type': 'single',\n",
       "   'space': 'main'},\n",
       "  {'area': 1.585,\n",
       "   'direction': 'NW',\n",
       "   'name': 'WindowNW_other',\n",
       "   'type': 'single',\n",
       "   'space': 'other'},\n",
       "  {'area': 0.7925,\n",
       "   'direction': 'NW',\n",
       "   'name': 'WindowNW_nonliving',\n",
       "   'type': 'single',\n",
       "   'space': 'nonliving'}],\n",
       " 'Doors': [{'area': 0.63,\n",
       "   'direction': 'NW',\n",
       "   'name': 'DoorNW_main',\n",
       "   'space': 'main'},\n",
       "  {'area': 1.26, 'direction': 'NW', 'name': 'DoorNW_other', 'space': 'other'},\n",
       "  {'area': 0.63,\n",
       "   'direction': 'NW',\n",
       "   'name': 'DoorNW_nonliving',\n",
       "   'space': 'nonliving'},\n",
       "  {'area': 0.54, 'direction': 'NE', 'name': 'DoorNE_main', 'space': 'main'},\n",
       "  {'area': 1.08, 'direction': 'NE', 'name': 'DoorNE_other', 'space': 'other'},\n",
       "  {'area': 0.54,\n",
       "   'direction': 'NE',\n",
       "   'name': 'DoorNE_nonliving',\n",
       "   'space': 'nonliving'}],\n",
       " 'EarthfloorPerimeters': [{'direction': 'NW',\n",
       "   'length': 2.43,\n",
       "   'name': 'other_NW',\n",
       "   'psi': 1.8,\n",
       "   'space': 'underfloor'},\n",
       "  {'direction': 'NE',\n",
       "   'length': 2.43,\n",
       "   'name': 'other_NE',\n",
       "   'psi': 1.8,\n",
       "   'space': 'underfloor'}],\n",
       " 'Earthfloors': [{'area': 5.0, 'name': 'other', 'space': 'underfloor'},\n",
       "  {'area': 5.0, 'name': 'entrance', 'space': 'underfloor'}]}"
      ]
     },
     "execution_count": 21,
     "metadata": {},
     "output_type": "execute_result"
    }
   ],
   "source": [
    "d = {\n",
    "    'Common': {\n",
    "        'Region': 6,\n",
    "        'MainOccupantRoomFloorArea': 30.0,\n",
    "        'OtherOccupantRoomFloorArea': 60.0,\n",
    "        'TotalFloorArea': 120.0\n",
    "    },\n",
    "    'Walls': [\n",
    "        { 'area': 67.8, 'direction': 'top', 'name': 'Ceiling', 'structure': 'wood', 'type': 'ceiling' },\n",
    "        { 'area': 40.63, 'direction': 'SW', 'name': 'Wall_SW', 'structure': 'wood', 'type': 'wall' },\n",
    "    ],\n",
    "    'Windows': [\n",
    "        { 'area': 30.25, 'direction': 'SW', 'name': 'WindowSW', 'type': 'single' },\n",
    "        { 'area': 3.17, 'direction': 'NW', 'name': 'WindowNW', 'type': 'single' },\n",
    "    ],\n",
    "    'Doors': [\n",
    "        { 'area': 2.52, 'direction': 'NW', 'name': 'DoorNW'},\n",
    "        { 'area': 2.16, 'direction': 'NE', 'name': 'DoorNE'}\n",
    "    ],\n",
    "    'EarthfloorPerimeters': [\n",
    "        { 'direction': 'NW', 'length': 2.43, 'name': 'other_NW', 'psi': 1.8 },\n",
    "        { 'direction': 'NE', 'length': 2.43, 'name': 'other_NE', 'psi': 1.8 }\n",
    "    ],\n",
    "    'Earthfloors': [\n",
    "        { 'area': 5.0, 'name': 'other' },\n",
    "        { 'area': 5.0, 'name': 'entrance' }\n",
    "    ]\n",
    "}\n",
    "\n",
    "convert(d)"
   ]
  },
  {
   "cell_type": "code",
   "execution_count": null,
   "metadata": {
    "collapsed": true
   },
   "outputs": [],
   "source": []
  }
 ],
 "metadata": {
  "kernelspec": {
   "display_name": "Python 3",
   "language": "python",
   "name": "python3"
  },
  "language_info": {
   "codemirror_mode": {
    "name": "ipython",
    "version": 3
   },
   "file_extension": ".py",
   "mimetype": "text/x-python",
   "name": "python",
   "nbconvert_exporter": "python",
   "pygments_lexer": "ipython3",
   "version": "3.6.5"
  }
 },
 "nbformat": 4,
 "nbformat_minor": 2
}
