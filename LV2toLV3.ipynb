{
 "cells": [
  {
   "cell_type": "code",
   "execution_count": 1,
   "metadata": {
    "collapsed": true
   },
   "outputs": [],
   "source": [
    "import copy"
   ]
  },
  {
   "cell_type": "markdown",
   "metadata": {},
   "source": [
    "# 外皮情報LV2からLV3へのコンバート"
   ]
  },
  {
   "cell_type": "markdown",
   "metadata": {},
   "source": [
    "## 1. 外皮性能計算プログラム＋簡単な追加情報\n",
    "\n",
    "- 外皮性能計算プログラムの入力情報に、用途別床面積を追加したものより、推定を行う。\n",
    "- 現状の外皮性能計算プログラムで入力されるのは用途別に分かれていない外皮性能であるため、室用途別の性能を求めるためには、外皮を用途別に割り振る必要がある。\n",
    "- 土間床等面積が0㎡より大きい場合、基礎断熱部は床下空間に属するものとみなし、室と床下空間の間の床の合計面積は土間床等面積の合計に等しいとみなす。室と床下空間の間の床は、仕様を想定して与える（合板12mm、参考：SimHeatでの熱負荷計算用の無断熱の層構成）\n",
    "- 住戸全体の外皮（床下空間に属するものを除く）、および、室と床下空間の間の床は、室用途別の床面積に応じて各用途に割り当てる。集合住宅の戸境壁等も同様の扱いとする。外皮性能は用途によらず均一に割り付ける。開口部は、外皮性能計算プログラムの入力情報より推定を開始する場合は、庇等の日射遮蔽部材を考慮した計算を行うため、方位、遮蔽部材やその寸法等が異なる場合は、別部材として扱う。\n",
    "- 各部位の熱橋は、対応する一般部のU値の低減に置き換える。一般部の断熱材の厚を調整する。\n",
    "- その他は、用途別情報が得られている場合と同様に求める。"
   ]
  },
  {
   "cell_type": "markdown",
   "metadata": {},
   "source": [
    "### 《土間床等面積が0㎡より大きい場合の扱い》\n",
    "$$ \\qquad\n",
    "A_{b}=min(A_主 + A_他 + A_非, \\sum_{i}^{}S_{df,i})\n",
    "\\qquad\n",
    "\\\\\n",
    "$$\n",
    "\n",
    "- 入力値：\n",
    "  - 室用途不明の空間に属する土間床等の部位iの面積$[m ^ 2]$：$S_{df,i}$\n",
    "\n",
    "- 出力値：\n",
    "\n",
    "  - 室と床下空間の間の床面積の合計$[m ^ 2]$：$A_{b}$"
   ]
  },
  {
   "cell_type": "markdown",
   "metadata": {},
   "source": [
    "### 1) 室用途別面積比率"
   ]
  },
  {
   "cell_type": "markdown",
   "metadata": {},
   "source": [
    "#### Outline"
   ]
  },
  {
   "cell_type": "markdown",
   "metadata": {},
   "source": [
    "$$ \n",
    "r_m = \\frac{ a_m }{ A_m + A_o + A_n }\n",
    "$$\n",
    "\n",
    "$$\n",
    "r_o = \\frac{ A_o }{ A_m + A_o + A_n }\n",
    "$$\n",
    "\n",
    "$$\n",
    "r_n = \\frac{ A_n }{ A_m + A_o + A_n }\n",
    "$$"
   ]
  },
  {
   "cell_type": "markdown",
   "metadata": {},
   "source": [
    "$r_m$: 主たる居室の面積比率, -  \n",
    "$r_o$: その他の居室の面積比率, -  \n",
    "$r_n$: 非居室の面積比率, -  \n",
    "$A_m$: 主たる居室の面積, m<sup>2</sup>  \n",
    "$A_o$: その他の居室の面積, m<sup>2</sup>  \n",
    "$A_n$: 非居室の面積, m<sup>2</sup>  "
   ]
  },
  {
   "cell_type": "markdown",
   "metadata": {},
   "source": [
    "#### Function"
   ]
  },
  {
   "cell_type": "code",
   "execution_count": 2,
   "metadata": {
    "collapsed": true
   },
   "outputs": [],
   "source": [
    "def get_area_rate(a_m, a_o, a_t):\n",
    "    # a_m is the main occupied floor area as float, m2\n",
    "    # a_o is the other occupied floor area as float, m2\n",
    "    # a_t is the total occupied floor area as float, m2\n",
    "    \n",
    "    # a_n is the non ocupied floor area as float, m2\n",
    "    a_n = a_t - a_m - a_o\n",
    "\n",
    "    return a_m / a_t, a_o / a_t, a_n / a_t"
   ]
  },
  {
   "cell_type": "markdown",
   "metadata": {},
   "source": [
    "### 2) 室用途別の面積の推定"
   ]
  },
  {
   "cell_type": "markdown",
   "metadata": {},
   "source": [
    "#### Outline"
   ]
  },
  {
   "cell_type": "markdown",
   "metadata": {},
   "source": [
    "$$\n",
    "A_{m,i}= A_{i} \\times r_m\n",
    "$$\n",
    "\n",
    "$$\n",
    "A_{o,i}= A_{i} \\times r_o\n",
    "$$\n",
    "\n",
    "$$\n",
    "A_{n,i}= A_{i} \\times r_n\n",
    "$$"
   ]
  },
  {
   "cell_type": "markdown",
   "metadata": {},
   "source": [
    "$A_{m,i}$: 主たる居室の部位(一般部位又は開口部)$i$の面積, m<sup>2</sup>  \n",
    "$A_{o,i}$: その他の居室の部位(一般部位又は開口部)$i$の面積, m<sup>2</sup>  \n",
    "$A_{n,i}$: 非居室の部位(一般部位又は開口部)$i$の面積, m<sup>2</sup>  \n",
    "$A_i$: 外皮の部位(一般部位又は開口部)$i$の面積, m<sup>2</sup>"
   ]
  },
  {
   "cell_type": "markdown",
   "metadata": {},
   "source": [
    "#### Function"
   ]
  },
  {
   "cell_type": "code",
   "execution_count": 3,
   "metadata": {
    "collapsed": true
   },
   "outputs": [],
   "source": [
    "def get_area_by_room_use( target_area, a_m, a_o, a_t ):\n",
    "    # target_area is the area of the part i as double, m2\n",
    "    # a_m is the main floor area as float, m2\n",
    "    # a_o is the other floor area as float, m2\n",
    "    # a_t is the total floor area as float, m2\n",
    "    \n",
    "    r_m, r_o, r_n = get_area_rate( a_m, a_o, a_t )\n",
    "    return {\n",
    "        'main'      : r_m * target_area,\n",
    "        'other'     : r_o * target_area,\n",
    "        'nonliving' : r_n * target_area\n",
    "    }"
   ]
  },
  {
   "cell_type": "markdown",
   "metadata": {},
   "source": [
    "### 3) 室用途別の長さの推定"
   ]
  },
  {
   "cell_type": "markdown",
   "metadata": {},
   "source": [
    "#### Outline"
   ]
  },
  {
   "cell_type": "markdown",
   "metadata": {},
   "source": [
    "$$\n",
    "L_{m,i}= L_{i} \\times r_m\n",
    "$$\n",
    "\n",
    "$$\n",
    "L_{o,i}= L_{i} \\times r_o\n",
    "$$\n",
    "\n",
    "$$\n",
    "L_{n,i}= L_{i} \\times r_n\n",
    "$$"
   ]
  },
  {
   "cell_type": "markdown",
   "metadata": {},
   "source": [
    "$L_{m,i}$: 主たる居室の熱橋及び土間床等の外周部$i$の長さ, m  \n",
    "$L_{o,i}$: その他の熱橋及び土間床等の外周部$i$の長さ, m  \n",
    "$L_{n,i}$: 非居室の熱橋及び土間床等の外周部$i$の長さ, m  \n",
    "$L_i$: 熱橋及び土間床等の外周部$i$の長さ, m"
   ]
  },
  {
   "cell_type": "markdown",
   "metadata": {},
   "source": [
    "#### Function"
   ]
  },
  {
   "cell_type": "code",
   "execution_count": 4,
   "metadata": {
    "collapsed": true
   },
   "outputs": [],
   "source": [
    "def get_length_by_room_use(target_length, a_m, a_o, a_t):\n",
    "    # target_length is the length of the part i as double, m\n",
    "    # a_m is the main floor area as float, m\n",
    "    # a_o is the other floor area as float, m\n",
    "    # a_t is the total floor area as float, m\n",
    "    \n",
    "    r_m, r_o, r_n = get_area_rate(a_m, a_o, a_t)\n",
    "    return {\n",
    "        'main'      : r_m * target_length,\n",
    "        'other'     : r_o * target_length,\n",
    "        'nonliving' : r_n * target_length\n",
    "    }"
   ]
  },
  {
   "cell_type": "markdown",
   "metadata": {},
   "source": [
    "#### Example"
   ]
  },
  {
   "cell_type": "code",
   "execution_count": 5,
   "metadata": {},
   "outputs": [
    {
     "data": {
      "text/plain": [
       "({'main': 12.5, 'nonliving': 12.5, 'other': 25.0},\n",
       " {'main': 3.0, 'nonliving': 3.0, 'other': 6.0})"
      ]
     },
     "execution_count": 5,
     "metadata": {},
     "output_type": "execute_result"
    }
   ],
   "source": [
    "areas = get_area_by_room_use(50.0, 30.0, 60.0, 120.0)\n",
    "lengths = get_length_by_room_use(12.0, 30.0, 60.0, 120.0)\n",
    "areas, lengths"
   ]
  },
  {
   "cell_type": "markdown",
   "metadata": {},
   "source": [
    "## 2. Convert"
   ]
  },
  {
   "cell_type": "markdown",
   "metadata": {},
   "source": [
    "### 1) 共通"
   ]
  },
  {
   "cell_type": "markdown",
   "metadata": {},
   "source": [
    "'Common'要素はそのまま維持する。"
   ]
  },
  {
   "cell_type": "markdown",
   "metadata": {},
   "source": [
    "#### Input"
   ]
  },
  {
   "cell_type": "markdown",
   "metadata": {},
   "source": [
    "参照：InputDataDefinition.ipynb"
   ]
  },
  {
   "cell_type": "markdown",
   "metadata": {},
   "source": [
    "#### Output"
   ]
  },
  {
   "cell_type": "markdown",
   "metadata": {},
   "source": [
    "参照：InputDataDefinition.ipynb"
   ]
  },
  {
   "cell_type": "markdown",
   "metadata": {},
   "source": [
    "#### Function"
   ]
  },
  {
   "cell_type": "code",
   "execution_count": 6,
   "metadata": {
    "collapsed": true
   },
   "outputs": [],
   "source": [
    "def convert_common(d):\n",
    "    return d['Common']"
   ]
  },
  {
   "cell_type": "markdown",
   "metadata": {},
   "source": [
    "#### Example"
   ]
  },
  {
   "cell_type": "code",
   "execution_count": 7,
   "metadata": {},
   "outputs": [
    {
     "data": {
      "text/plain": [
       "{'IsSimplifiedInput': True,\n",
       " 'MainOccupantRoomFloorArea': 30.0,\n",
       " 'OtherOccupantRoomFloorArea': 60.0,\n",
       " 'Region': 6,\n",
       " 'TotalFloorArea': 120.0}"
      ]
     },
     "execution_count": 7,
     "metadata": {},
     "output_type": "execute_result"
    }
   ],
   "source": [
    "d = {\n",
    "    'Common': {\n",
    "        'Region' : 6,\n",
    "        'IsSimplifiedInput': True,\n",
    "        'MainOccupantRoomFloorArea': 30.0,\n",
    "        'OtherOccupantRoomFloorArea': 60.0,\n",
    "        'TotalFloorArea': 120.0\n",
    "    }\n",
    "}\n",
    "\n",
    "convert_common(d)"
   ]
  },
  {
   "cell_type": "markdown",
   "metadata": {},
   "source": [
    "### 2) 開口部以外の不透明部位\n",
    "\n",
    "- 壁体名称、一般部位構造種別、壁体種別、方位、層構成（部材名称、厚さ[m]、熱伝導率[W/mK]、容積比熱[(J/(m<sup>3</sup>・K)]）などの情報は維持する。\n",
    "- Lv2の入力情報に「壁体が属する空間種類」の情報を追加し、部位面積から各部位の室用途別面積を推定する。"
   ]
  },
  {
   "cell_type": "markdown",
   "metadata": {},
   "source": [
    "#### Function"
   ]
  },
  {
   "cell_type": "code",
   "execution_count": 8,
   "metadata": {
    "collapsed": true
   },
   "outputs": [],
   "source": [
    "def make_wall(name, direction, area, space):\n",
    "    return {\n",
    "        'name':      name + '_' + space,\n",
    "        'direction': direction,\n",
    "        'area':      area,\n",
    "        'space':     space\n",
    "    }"
   ]
  },
  {
   "cell_type": "code",
   "execution_count": 9,
   "metadata": {
    "collapsed": true
   },
   "outputs": [],
   "source": [
    "def convert_wall( d ):\n",
    "    walls =[]\n",
    "    for arg_wall in d['Walls']:\n",
    "        areas = get_area_by_room_use(\n",
    "            target_area=arg_wall['area'], \n",
    "            a_m = d['Common']['MainOccupantRoomFloorArea'], \n",
    "            a_o = d['Common']['OtherOccupantRoomFloorArea'], \n",
    "            a_t = d['Common']['TotalFloorArea']\n",
    "        )\n",
    "        for space, area in areas.items() :\n",
    "             # 壁体名称、部位面積を更新し、「壁体が属する空間種類」を追加する\n",
    "            wall = make_wall(\n",
    "                name      = arg_wall['name'], \n",
    "                direction = arg_wall['direction'], \n",
    "                area      = area, \n",
    "                space     = space\n",
    "            )\n",
    "            walls.append(wall)\n",
    "            \n",
    "    return walls"
   ]
  },
  {
   "cell_type": "markdown",
   "metadata": {},
   "source": [
    "#### Example"
   ]
  },
  {
   "cell_type": "code",
   "execution_count": 10,
   "metadata": {},
   "outputs": [
    {
     "data": {
      "text/plain": [
       "[{'area': 16.95, 'direction': 'top', 'name': 'Ceiling_main', 'space': 'main'},\n",
       " {'area': 33.9, 'direction': 'top', 'name': 'Ceiling_other', 'space': 'other'},\n",
       " {'area': 16.95,\n",
       "  'direction': 'top',\n",
       "  'name': 'Ceiling_nonliving',\n",
       "  'space': 'nonliving'},\n",
       " {'area': 10.1575, 'direction': 'SW', 'name': 'Wall_SW_main', 'space': 'main'},\n",
       " {'area': 20.315,\n",
       "  'direction': 'SW',\n",
       "  'name': 'Wall_SW_other',\n",
       "  'space': 'other'},\n",
       " {'area': 10.1575,\n",
       "  'direction': 'SW',\n",
       "  'name': 'Wall_SW_nonliving',\n",
       "  'space': 'nonliving'}]"
      ]
     },
     "execution_count": 10,
     "metadata": {},
     "output_type": "execute_result"
    }
   ],
   "source": [
    "d = {\n",
    "    'Common': {\n",
    "        'MainOccupantRoomFloorArea': 30.0,\n",
    "        'OtherOccupantRoomFloorArea': 60.0,\n",
    "        'TotalFloorArea': 120.0,\n",
    "    },\n",
    "    'Walls': [\n",
    "        { 'area': 67.8, 'direction': 'top', 'name': 'Ceiling' },\n",
    "        { 'area': 40.63, 'direction': 'SW', 'name': 'Wall_SW',}\n",
    "    ]\n",
    "}    \n",
    "\n",
    "convert_wall(d)"
   ]
  },
  {
   "cell_type": "markdown",
   "metadata": {},
   "source": [
    "### 3) 開口部の透明部位\n",
    "\n",
    "- 開口部名称、方位、日射熱取得率[-]、熱貫流率[W/(m<sup>2</sup>・K)]などの情報は維持する。\n",
    "- 「開口部が属する空間種類」の情報を追加し、部位面積から各部位の室用途別面積を推定する。"
   ]
  },
  {
   "cell_type": "markdown",
   "metadata": {},
   "source": [
    "#### Function"
   ]
  },
  {
   "cell_type": "code",
   "execution_count": 11,
   "metadata": {
    "collapsed": true
   },
   "outputs": [],
   "source": [
    "def make_window(name, direction, area, space):\n",
    "    return {\n",
    "        'name':      name + '_' + space,\n",
    "        'direction': direction,\n",
    "        'area':      area,\n",
    "        'space':     space\n",
    "    }"
   ]
  },
  {
   "cell_type": "code",
   "execution_count": 12,
   "metadata": {
    "collapsed": true
   },
   "outputs": [],
   "source": [
    "def convert_window( d ):\n",
    "    \n",
    "    windows =[]\n",
    "    for arg_window in d['Windows']:\n",
    "        areas = get_area_by_room_use(\n",
    "            target_area = arg_window['area'], \n",
    "            a_m = d['Common']['MainOccupantRoomFloorArea'], \n",
    "            a_o = d['Common']['OtherOccupantRoomFloorArea'], \n",
    "            a_t = d['Common']['TotalFloorArea']\n",
    "        )\n",
    "        for space, area in areas.items() :\n",
    "            # 開口部名称、部位面積を更新し、「開口部が属する空間種類」を追加する\n",
    "            window = make_window(\n",
    "                name = arg_window['name'],\n",
    "                direction = arg_window['direction'],\n",
    "                area = area,\n",
    "                space = space\n",
    "            )\n",
    "            windows.append(window)\n",
    "        \n",
    "    return windows"
   ]
  },
  {
   "cell_type": "markdown",
   "metadata": {},
   "source": [
    "#### Example"
   ]
  },
  {
   "cell_type": "code",
   "execution_count": 13,
   "metadata": {},
   "outputs": [
    {
     "data": {
      "text/plain": [
       "[{'area': 7.5625, 'direction': 'SW', 'name': 'WindowSW_main', 'space': 'main'},\n",
       " {'area': 15.125,\n",
       "  'direction': 'SW',\n",
       "  'name': 'WindowSW_other',\n",
       "  'space': 'other'},\n",
       " {'area': 7.5625,\n",
       "  'direction': 'SW',\n",
       "  'name': 'WindowSW_nonliving',\n",
       "  'space': 'nonliving'},\n",
       " {'area': 0.7925, 'direction': 'NW', 'name': 'WindowNW_main', 'space': 'main'},\n",
       " {'area': 1.585,\n",
       "  'direction': 'NW',\n",
       "  'name': 'WindowNW_other',\n",
       "  'space': 'other'},\n",
       " {'area': 0.7925,\n",
       "  'direction': 'NW',\n",
       "  'name': 'WindowNW_nonliving',\n",
       "  'space': 'nonliving'}]"
      ]
     },
     "execution_count": 13,
     "metadata": {},
     "output_type": "execute_result"
    }
   ],
   "source": [
    "d = {\n",
    "    'Common': {\n",
    "        'MainOccupantRoomFloorArea': 30.0,\n",
    "        'OtherOccupantRoomFloorArea': 60.0,\n",
    "        'TotalFloorArea': 120.0,\n",
    "    },\n",
    "    'Windows': [\n",
    "        { 'name': 'WindowSW', 'direction': 'SW', 'area': 30.25 },\n",
    "        { 'name': 'WindowNW', 'direction': 'NW', 'area': 3.17  }\n",
    "    ]\n",
    "}    \n",
    "\n",
    "convert_window(d)"
   ]
  },
  {
   "cell_type": "markdown",
   "metadata": {},
   "source": [
    "### 4) 開口部の不透明部位\n",
    "\n",
    "- 開口部名称、方位、熱貫流率[W/(m<sup>2</sup>・K)]などの情報は維持する。\n",
    "- 「開口部が属する空間種類」の情報を追加し、部位面積から各部位の室用途別面積を推定する。"
   ]
  },
  {
   "cell_type": "markdown",
   "metadata": {},
   "source": [
    "#### Function"
   ]
  },
  {
   "cell_type": "code",
   "execution_count": 14,
   "metadata": {
    "collapsed": true
   },
   "outputs": [],
   "source": [
    "def make_door(name, direction, area, space):\n",
    "    return {\n",
    "        'name':      name + '_' + space,\n",
    "        'direction': direction,\n",
    "        'area':      area,\n",
    "        'space':     space\n",
    "    }"
   ]
  },
  {
   "cell_type": "code",
   "execution_count": 15,
   "metadata": {
    "collapsed": true
   },
   "outputs": [],
   "source": [
    "def convert_door( d ):\n",
    "    \n",
    "    doors =[]\n",
    "    for arg_door in d['Doors']:\n",
    "        areas = get_area_by_room_use(arg_door['area'], d['Common']['MainOccupantRoomFloorArea'], d['Common']['OtherOccupantRoomFloorArea'], d['Common']['TotalFloorArea'])\n",
    "        for space, area in areas.items() :\n",
    "            # 開口部名称、部位面積を更新し、「開口部が属する空間種類」を追加する\n",
    "            door = make_door(\n",
    "                name      = arg_door['name'],\n",
    "                direction = arg_door['direction'],\n",
    "                area      = area,\n",
    "                space     = space\n",
    "            )\n",
    "            doors.append(door)\n",
    "        \n",
    "    return doors"
   ]
  },
  {
   "cell_type": "markdown",
   "metadata": {},
   "source": [
    "#### Example"
   ]
  },
  {
   "cell_type": "code",
   "execution_count": 16,
   "metadata": {},
   "outputs": [
    {
     "data": {
      "text/plain": [
       "[{'area': 13.0, 'direction': 'NW', 'name': 'DoorNW_main', 'space': 'main'},\n",
       " {'area': 26.0, 'direction': 'NW', 'name': 'DoorNW_other', 'space': 'other'},\n",
       " {'area': 13.0,\n",
       "  'direction': 'NW',\n",
       "  'name': 'DoorNW_nonliving',\n",
       "  'space': 'nonliving'}]"
      ]
     },
     "execution_count": 16,
     "metadata": {},
     "output_type": "execute_result"
    }
   ],
   "source": [
    "d = {\n",
    "    'Common': {\n",
    "        'MainOccupantRoomFloorArea': 30.0,\n",
    "        'OtherOccupantRoomFloorArea': 60.0,\n",
    "        'TotalFloorArea': 120.0,\n",
    "    },\n",
    "    'Doors': [\n",
    "        { 'name': 'DoorNW', 'direction': 'NW', 'area': 52 }\n",
    "    ]\n",
    "}    \n",
    "convert_door(d)"
   ]
  },
  {
   "cell_type": "markdown",
   "metadata": {},
   "source": [
    "### 5) 線熱橋\n",
    "\n",
    "- 熱橋部の構造種別、方位、線熱貫流率[W/(m・K)]などの情報は維持する。\n",
    "- 「 熱橋部が属する空間種類」の情報を追加し、熱橋長さから室用途別の熱橋長さを推定する。"
   ]
  },
  {
   "cell_type": "markdown",
   "metadata": {},
   "source": [
    "#### Function"
   ]
  },
  {
   "cell_type": "code",
   "execution_count": 17,
   "metadata": {
    "collapsed": true
   },
   "outputs": [],
   "source": [
    "def make_heatbridge(structure, direction1, direction2, length, space):\n",
    "    return {\n",
    "        'structure':  structure,\n",
    "        'direction1': direction1,\n",
    "        'direction2': direction2,\n",
    "        'length':     length,\n",
    "        'space':      space\n",
    "    }"
   ]
  },
  {
   "cell_type": "code",
   "execution_count": 18,
   "metadata": {
    "collapsed": true
   },
   "outputs": [],
   "source": [
    "def convert_heatbridge( d ):\n",
    "    \n",
    "    heatbridges =[]\n",
    "    for arg_heatbridge in d['Heatbridges']:\n",
    "        lengths = get_length_by_room_use(arg_heatbridge['length'], d['Common']['MainOccupantRoomFloorArea'], d['Common']['OtherOccupantRoomFloorArea'], d['Common']['TotalFloorArea'])\n",
    "        for space, length in lengths.items() :\n",
    "            # 熱橋部長さを更新し、「熱橋部が属する空間種類」を追加する\n",
    "            heatbridge = make_heatbridge(\n",
    "                structure  = arg_heatbridge['structure'],\n",
    "                direction1 = arg_heatbridge['direction1'],\n",
    "                direction2 = arg_heatbridge['direction2'],\n",
    "                length     = length,\n",
    "                space      = space,\n",
    "            )\n",
    "            heatbridges.append(heatbridge)\n",
    "        \n",
    "    return heatbridges"
   ]
  },
  {
   "cell_type": "markdown",
   "metadata": {},
   "source": [
    "#### Example"
   ]
  },
  {
   "cell_type": "code",
   "execution_count": 19,
   "metadata": {},
   "outputs": [
    {
     "data": {
      "text/plain": [
       "[{'direction1': 'NW',\n",
       "  'direction2': 'NE',\n",
       "  'length': 2.5,\n",
       "  'space': 'main',\n",
       "  'structure': 'rc'},\n",
       " {'direction1': 'NW',\n",
       "  'direction2': 'NE',\n",
       "  'length': 5.0,\n",
       "  'space': 'other',\n",
       "  'structure': 'rc'},\n",
       " {'direction1': 'NW',\n",
       "  'direction2': 'NE',\n",
       "  'length': 2.5,\n",
       "  'space': 'nonliving',\n",
       "  'structure': 'rc'}]"
      ]
     },
     "execution_count": 19,
     "metadata": {},
     "output_type": "execute_result"
    }
   ],
   "source": [
    "d = {\n",
    "    'Common': {\n",
    "        'MainOccupantRoomFloorArea': 30.0,\n",
    "        'OtherOccupantRoomFloorArea': 60.0,\n",
    "        'TotalFloorArea': 120.0,\n",
    "    },\n",
    "    'Heatbridges': [\n",
    "        { 'structure': 'rc', 'direction1': 'NW', 'direction2': 'NE', 'length': 10 }\n",
    "    ]\n",
    "}    \n",
    "convert_heatbridge(d)"
   ]
  },
  {
   "cell_type": "markdown",
   "metadata": {},
   "source": [
    "### 6) 土間床等の外周部の線熱橋\n",
    "\n",
    "- 方位、熱橋長さ[m]、線熱貫流率[W/(m・K)]などの情報は維持する。\n",
    "- 「土間床等の外周部の線熱橋が属する空間種類」の情報を追加する。ただし、Lv2からLv3への変換においては、空間種類は「床下空間」のみとする。"
   ]
  },
  {
   "cell_type": "markdown",
   "metadata": {},
   "source": [
    "#### Function"
   ]
  },
  {
   "cell_type": "code",
   "execution_count": 20,
   "metadata": {
    "collapsed": true
   },
   "outputs": [],
   "source": [
    "def make_earthfloorperimeter( direction, length, name, psi):\n",
    "    return {\n",
    "        'direction': direction,\n",
    "        'length':    length,\n",
    "        'name':      name,\n",
    "        'psi':       psi,\n",
    "        'space':     'underfloor',\n",
    "    }"
   ]
  },
  {
   "cell_type": "code",
   "execution_count": 21,
   "metadata": {
    "collapsed": true
   },
   "outputs": [],
   "source": [
    "def convert_earthfloorperimeter( d ):    \n",
    "    return [ make_earthfloorperimeter(**f) for f in d['EarthfloorPerimeters'] ]"
   ]
  },
  {
   "cell_type": "markdown",
   "metadata": {},
   "source": [
    "#### Example"
   ]
  },
  {
   "cell_type": "code",
   "execution_count": 22,
   "metadata": {},
   "outputs": [
    {
     "data": {
      "text/plain": [
       "[{'direction': 'NW',\n",
       "  'length': 2.43,\n",
       "  'name': 'other_NW',\n",
       "  'psi': 1.8,\n",
       "  'space': 'underfloor'},\n",
       " {'direction': 'NE',\n",
       "  'length': 2.43,\n",
       "  'name': 'other_NE',\n",
       "  'psi': 1.8,\n",
       "  'space': 'underfloor'}]"
      ]
     },
     "execution_count": 22,
     "metadata": {},
     "output_type": "execute_result"
    }
   ],
   "source": [
    "d = {\n",
    "    'EarthfloorPerimeters': [\n",
    "        { 'direction': 'NW', 'length': 2.43, 'name': 'other_NW', 'psi': 1.8 },\n",
    "        { 'direction': 'NE', 'length': 2.43, 'name': 'other_NE', 'psi': 1.8 }\n",
    "    ]\n",
    "}    \n",
    "convert_earthfloorperimeter(d)"
   ]
  },
  {
   "cell_type": "markdown",
   "metadata": {},
   "source": [
    "### 7) 土間床\n",
    "- 面積[m<sup>2</sup>]などの情報は維持する。\n",
    "- 「土間床等が属する空間種類」の情報を追加する。ただし、Lv2からLv3への変換においては、空間種類は「床下空間」のみとする。"
   ]
  },
  {
   "cell_type": "markdown",
   "metadata": {},
   "source": [
    "#### Function"
   ]
  },
  {
   "cell_type": "code",
   "execution_count": 23,
   "metadata": {
    "collapsed": true
   },
   "outputs": [],
   "source": [
    "def make_earthfloor( name, area ):\n",
    "    return {\n",
    "        'name': name,\n",
    "        'area': area,\n",
    "        'space': 'underfloor'\n",
    "    }\n",
    "    return earthfloor"
   ]
  },
  {
   "cell_type": "code",
   "execution_count": 24,
   "metadata": {
    "collapsed": true
   },
   "outputs": [],
   "source": [
    "def convert_earthfloor( d ):        \n",
    "    return [ make_earthfloor(**f) for f in d['Earthfloors'] ]"
   ]
  },
  {
   "cell_type": "markdown",
   "metadata": {},
   "source": [
    "#### Example"
   ]
  },
  {
   "cell_type": "code",
   "execution_count": 25,
   "metadata": {},
   "outputs": [
    {
     "data": {
      "text/plain": [
       "[{'area': 5.0, 'name': 'other', 'space': 'underfloor'}]"
      ]
     },
     "execution_count": 25,
     "metadata": {},
     "output_type": "execute_result"
    }
   ],
   "source": [
    "d = {\n",
    "    'Earthfloors': [\n",
    "        { 'name': 'other', 'area': 5.0 }\n",
    "    ]\n",
    "}    \n",
    "convert_earthfloor(d)"
   ]
  },
  {
   "cell_type": "markdown",
   "metadata": {},
   "source": [
    "## 3. Lv3入力情報のコンバート（統合）\n",
    "- 1)共通情報、2)開口部以外の不透明部位、3)開口部の透明部位、4)開口部の不透明部位、5) 線熱橋、6)土間床等の外周部の線熱橋、7)土間床の各コンバート関数を統合し、Lv2の入力情報をLv3の入力情報にコンバートする。"
   ]
  },
  {
   "cell_type": "markdown",
   "metadata": {},
   "source": [
    "### Function"
   ]
  },
  {
   "cell_type": "code",
   "execution_count": 26,
   "metadata": {
    "collapsed": true
   },
   "outputs": [],
   "source": [
    "def convert(d):\n",
    "    d_lv3_input = {}\n",
    "    d_lv3_input['Common'] = convert_common(d)\n",
    "    if ('Walls' in d) == True:\n",
    "        d_lv3_input['Walls'] = convert_wall(d)\n",
    "    if ('Windows' in d) == True:\n",
    "        d_lv3_input['Windows'] = convert_window(d)\n",
    "    if ('Doors' in d) == True:\n",
    "        d_lv3_input['Doors'] = convert_door(d)\n",
    "    if ('EarthfloorPerimeters' in d) == True:\n",
    "        d_lv3_input['EarthfloorPerimeters'] = convert_earthfloorperimeter(d)\n",
    "    if ('Earthfloors' in d) == True:\n",
    "        d_lv3_input['Earthfloors'] = convert_earthfloor(d)\n",
    "    if ('Heatbridges' in d) == True:\n",
    "        d_lv3_input['Heatbridges'] = convert_heatbridge(d)\n",
    "\n",
    "    return d_lv3_input"
   ]
  },
  {
   "cell_type": "markdown",
   "metadata": {},
   "source": [
    "### Example"
   ]
  },
  {
   "cell_type": "code",
   "execution_count": 27,
   "metadata": {},
   "outputs": [
    {
     "data": {
      "text/plain": [
       "{'Common': {'IsSimplifiedInput': 2,\n",
       "  'MainOccupantRoomFloorArea': 30.0,\n",
       "  'OtherOccupantRoomFloorArea': 60.0,\n",
       "  'Region': 6,\n",
       "  'TotalFloorArea': 120.0},\n",
       " 'Doors': [{'area': 0.63,\n",
       "   'direction': 'NW',\n",
       "   'name': 'DoorNW_main',\n",
       "   'space': 'main'},\n",
       "  {'area': 1.26, 'direction': 'NW', 'name': 'DoorNW_other', 'space': 'other'},\n",
       "  {'area': 0.63,\n",
       "   'direction': 'NW',\n",
       "   'name': 'DoorNW_nonliving',\n",
       "   'space': 'nonliving'},\n",
       "  {'area': 0.54, 'direction': 'NE', 'name': 'DoorNE_main', 'space': 'main'},\n",
       "  {'area': 1.08, 'direction': 'NE', 'name': 'DoorNE_other', 'space': 'other'},\n",
       "  {'area': 0.54,\n",
       "   'direction': 'NE',\n",
       "   'name': 'DoorNE_nonliving',\n",
       "   'space': 'nonliving'}],\n",
       " 'EarthfloorPerimeters': [{'direction': 'NW',\n",
       "   'length': 2.43,\n",
       "   'name': 'other_NW',\n",
       "   'psi': 1.8,\n",
       "   'space': 'underfloor'},\n",
       "  {'direction': 'NE',\n",
       "   'length': 2.43,\n",
       "   'name': 'other_NE',\n",
       "   'psi': 1.8,\n",
       "   'space': 'underfloor'}],\n",
       " 'Earthfloors': [{'area': 5.0, 'name': 'other', 'space': 'underfloor'},\n",
       "  {'area': 5.0, 'name': 'entrance', 'space': 'underfloor'}],\n",
       " 'Heatbridges': [{'direction1': 'N',\n",
       "   'direction2': 'E',\n",
       "   'length': 0.25,\n",
       "   'space': 'main',\n",
       "   'structure': 'RC'},\n",
       "  {'direction1': 'N',\n",
       "   'direction2': 'E',\n",
       "   'length': 0.5,\n",
       "   'space': 'other',\n",
       "   'structure': 'RC'},\n",
       "  {'direction1': 'N',\n",
       "   'direction2': 'E',\n",
       "   'length': 0.25,\n",
       "   'space': 'nonliving',\n",
       "   'structure': 'RC'},\n",
       "  {'direction1': 'N',\n",
       "   'direction2': 'W',\n",
       "   'length': 0.5,\n",
       "   'space': 'main',\n",
       "   'structure': 'Steel'},\n",
       "  {'direction1': 'N',\n",
       "   'direction2': 'W',\n",
       "   'length': 1.0,\n",
       "   'space': 'other',\n",
       "   'structure': 'Steel'},\n",
       "  {'direction1': 'N',\n",
       "   'direction2': 'W',\n",
       "   'length': 0.5,\n",
       "   'space': 'nonliving',\n",
       "   'structure': 'Steel'}],\n",
       " 'Walls': [{'area': 16.95,\n",
       "   'direction': 'top',\n",
       "   'name': 'Ceiling_main',\n",
       "   'space': 'main'},\n",
       "  {'area': 33.9,\n",
       "   'direction': 'top',\n",
       "   'name': 'Ceiling_other',\n",
       "   'space': 'other'},\n",
       "  {'area': 16.95,\n",
       "   'direction': 'top',\n",
       "   'name': 'Ceiling_nonliving',\n",
       "   'space': 'nonliving'},\n",
       "  {'area': 16.95, 'direction': 'top', 'name': 'Ceiling_main', 'space': 'main'},\n",
       "  {'area': 33.9,\n",
       "   'direction': 'top',\n",
       "   'name': 'Ceiling_other',\n",
       "   'space': 'other'},\n",
       "  {'area': 16.95,\n",
       "   'direction': 'top',\n",
       "   'name': 'Ceiling_nonliving',\n",
       "   'space': 'nonliving'},\n",
       "  {'area': 16.95,\n",
       "   'direction': 'bottom',\n",
       "   'name': 'Floor_main',\n",
       "   'space': 'main'},\n",
       "  {'area': 33.9,\n",
       "   'direction': 'bottom',\n",
       "   'name': 'Floor_other',\n",
       "   'space': 'other'},\n",
       "  {'area': 16.95,\n",
       "   'direction': 'bottom',\n",
       "   'name': 'Floor_nonliving',\n",
       "   'space': 'nonliving'},\n",
       "  {'area': 16.95, 'direction': 'N', 'name': 'Wall_main', 'space': 'main'},\n",
       "  {'area': 33.9, 'direction': 'N', 'name': 'Wall_other', 'space': 'other'},\n",
       "  {'area': 16.95,\n",
       "   'direction': 'N',\n",
       "   'name': 'Wall_nonliving',\n",
       "   'space': 'nonliving'},\n",
       "  {'area': 16.95, 'direction': 'top', 'name': 'Ceiling_main', 'space': 'main'},\n",
       "  {'area': 33.9,\n",
       "   'direction': 'top',\n",
       "   'name': 'Ceiling_other',\n",
       "   'space': 'other'},\n",
       "  {'area': 16.95,\n",
       "   'direction': 'top',\n",
       "   'name': 'Ceiling_nonliving',\n",
       "   'space': 'nonliving'},\n",
       "  {'area': 16.95,\n",
       "   'direction': 'top',\n",
       "   'name': 'BoundaryCeiling_main',\n",
       "   'space': 'main'},\n",
       "  {'area': 33.9,\n",
       "   'direction': 'top',\n",
       "   'name': 'BoundaryCeiling_other',\n",
       "   'space': 'other'},\n",
       "  {'area': 16.95,\n",
       "   'direction': 'top',\n",
       "   'name': 'BoundaryCeiling_nonliving',\n",
       "   'space': 'nonliving'},\n",
       "  {'area': 16.95, 'direction': 'top', 'name': 'Ceiling_main', 'space': 'main'},\n",
       "  {'area': 33.9,\n",
       "   'direction': 'top',\n",
       "   'name': 'Ceiling_other',\n",
       "   'space': 'other'},\n",
       "  {'area': 16.95,\n",
       "   'direction': 'top',\n",
       "   'name': 'Ceiling_nonliving',\n",
       "   'space': 'nonliving'},\n",
       "  {'area': 16.95, 'direction': 'top', 'name': 'Ceiling_main', 'space': 'main'},\n",
       "  {'area': 33.9,\n",
       "   'direction': 'top',\n",
       "   'name': 'Ceiling_other',\n",
       "   'space': 'other'},\n",
       "  {'area': 16.95,\n",
       "   'direction': 'top',\n",
       "   'name': 'Ceiling_nonliving',\n",
       "   'space': 'nonliving'},\n",
       "  {'area': 16.95, 'direction': 'top', 'name': 'Ceiling_main', 'space': 'main'},\n",
       "  {'area': 33.9,\n",
       "   'direction': 'top',\n",
       "   'name': 'Ceiling_other',\n",
       "   'space': 'other'},\n",
       "  {'area': 16.95,\n",
       "   'direction': 'top',\n",
       "   'name': 'Ceiling_nonliving',\n",
       "   'space': 'nonliving'},\n",
       "  {'area': 16.95, 'direction': 'top', 'name': 'Ceiling_main', 'space': 'main'},\n",
       "  {'area': 33.9,\n",
       "   'direction': 'top',\n",
       "   'name': 'Ceiling_other',\n",
       "   'space': 'other'},\n",
       "  {'area': 16.95,\n",
       "   'direction': 'top',\n",
       "   'name': 'Ceiling_nonliving',\n",
       "   'space': 'nonliving'},\n",
       "  {'area': 16.95, 'direction': 'top', 'name': 'Ceiling_main', 'space': 'main'},\n",
       "  {'area': 33.9,\n",
       "   'direction': 'top',\n",
       "   'name': 'Ceiling_other',\n",
       "   'space': 'other'},\n",
       "  {'area': 16.95,\n",
       "   'direction': 'top',\n",
       "   'name': 'Ceiling_nonliving',\n",
       "   'space': 'nonliving'},\n",
       "  {'area': 16.95, 'direction': 'top', 'name': 'Ceiling_main', 'space': 'main'},\n",
       "  {'area': 33.9,\n",
       "   'direction': 'top',\n",
       "   'name': 'Ceiling_other',\n",
       "   'space': 'other'},\n",
       "  {'area': 16.95,\n",
       "   'direction': 'top',\n",
       "   'name': 'Ceiling_nonliving',\n",
       "   'space': 'nonliving'}],\n",
       " 'Windows': [{'area': 7.5625,\n",
       "   'direction': 'SW',\n",
       "   'name': 'WindowSW_main',\n",
       "   'space': 'main'},\n",
       "  {'area': 15.125,\n",
       "   'direction': 'SW',\n",
       "   'name': 'WindowSW_other',\n",
       "   'space': 'other'},\n",
       "  {'area': 7.5625,\n",
       "   'direction': 'SW',\n",
       "   'name': 'WindowSW_nonliving',\n",
       "   'space': 'nonliving'},\n",
       "  {'area': 0.7925,\n",
       "   'direction': 'NW',\n",
       "   'name': 'WindowNW_main',\n",
       "   'space': 'main'},\n",
       "  {'area': 1.585,\n",
       "   'direction': 'NW',\n",
       "   'name': 'WindowNW_other',\n",
       "   'space': 'other'},\n",
       "  {'area': 0.7925,\n",
       "   'direction': 'NW',\n",
       "   'name': 'WindowNW_nonliving',\n",
       "   'space': 'nonliving'},\n",
       "  {'area': 7.5625,\n",
       "   'direction': 'SW',\n",
       "   'name': 'WindowSW_main',\n",
       "   'space': 'main'},\n",
       "  {'area': 15.125,\n",
       "   'direction': 'SW',\n",
       "   'name': 'WindowSW_other',\n",
       "   'space': 'other'},\n",
       "  {'area': 7.5625,\n",
       "   'direction': 'SW',\n",
       "   'name': 'WindowSW_nonliving',\n",
       "   'space': 'nonliving'},\n",
       "  {'area': 0.7925,\n",
       "   'direction': 'NW',\n",
       "   'name': 'WindowNW_main',\n",
       "   'space': 'main'},\n",
       "  {'area': 1.585,\n",
       "   'direction': 'NW',\n",
       "   'name': 'WindowNW_other',\n",
       "   'space': 'other'},\n",
       "  {'area': 0.7925,\n",
       "   'direction': 'NW',\n",
       "   'name': 'WindowNW_nonliving',\n",
       "   'space': 'nonliving'}]}"
      ]
     },
     "execution_count": 27,
     "metadata": {},
     "output_type": "execute_result"
    }
   ],
   "source": [
    "d = {\n",
    "    'Common': {\n",
    "        'Region': 6,\n",
    "        'IsSimplifiedInput': 2,\n",
    "        'MainOccupantRoomFloorArea': 30.0,\n",
    "        'OtherOccupantRoomFloorArea': 60.0,\n",
    "        'TotalFloorArea': 120.0\n",
    "    },\n",
    "    'Walls': [\n",
    "        { 'name': 'Ceiling', 'type': 'ceiling', 'structure': 'wood', 'InputMethodWood' :'InputUA', \n",
    "          'direction': 'top', 'area': 67.8, 'UA': 0.24, 'IsSunshadeInput': False },\n",
    "        { 'name': 'Ceiling', 'type': 'ceiling', 'structure': 'wood', 'InputMethodWood' :'InputAllDetails', 'direction': 'top', 'area': 67.8,\n",
    "          'Parts': [{'AreaRatio': 0.8, 'Layers': [{'name': 'wood','thick': 0.012, 'cond': 0.16, 'specH': 720 },\n",
    "                                                  {'name': 'wood','thick': 0.012, 'cond': 0.16, 'specH': 720 }]},\n",
    "                    {'AreaRatio': 0.2, 'Layers': [{'name': 'wood','thick': 0.012, 'cond': 0.16, 'specH': 720 },\n",
    "                                                  {'name': 'wood','thick': 0.012, 'cond': 0.16, 'specH': 720 }]}],\n",
    "          'IsSunshadeInput': False },\n",
    "        { 'name': 'Floor', 'type': 'floor', 'structure': 'wood', 'InputMethodWood' :'InputAllLayers', 'direction': 'bottom', 'area': 67.8,\n",
    "          'FloorConstructionMethod' :'FrameInsulcolumn',\n",
    "          'Parts': [{'TypeFloor': 'Insulation', 'Layers': [{'name': 'wood','thick': 0.012, 'cond': 0.16, 'specH': 720 },\n",
    "                                                           {'name': 'wood','thick': 0.012, 'cond': 0.16, 'specH': 720 }]},\n",
    "                    {'TypeFloor': 'Heatbridge', 'Layers': [{'name': 'wood','thick': 0.012, 'cond': 0.16, 'specH': 720 },\n",
    "                                                           {'name': 'wood','thick': 0.012, 'cond': 0.16, 'specH': 720 }]}],\n",
    "           'IsSunshadeInput': False },\n",
    "        { 'name': 'Wall', 'type': 'wall', 'structure': 'wood', 'InputMethodWood' :'InputAllLayers', 'direction': 'N', 'area': 67.8, \n",
    "          'WallConstructionMethod': 'WallInsuladdBackvertical',\n",
    "          'Parts': [{'TypeFloor': 'Insulation', 'Layers': [{'name': 'wood','thick': 0.012, 'cond': 0.16, 'specH': 720 },\n",
    "                                                           {'name': 'wood','thick': 0.012, 'cond': 0.16, 'specH': 720 }]},\n",
    "                    {'TypeFloor': 'Heatbridge', 'Layers': [{'name': 'wood','thick': 0.012, 'cond': 0.16, 'specH': 720 },\n",
    "                                                           {'name': 'wood','thick': 0.012, 'cond': 0.16, 'specH': 720 }]}],         \n",
    "          'IsSunshadeInput': False },\n",
    "        { 'name': 'Ceiling', 'type': 'ceiling', 'structure': 'wood', 'InputMethodWood' :'InputAllLayers', 'direction': 'top', 'area': 67.8,\n",
    "          'RoofConstructionMethod': 'Insulrafter', \n",
    "          'Parts': [{'TypeFloor': 'Insulation', 'Layers': [{'name': 'wood','thick': 0.012, 'cond': 0.16, 'specH': 720 },\n",
    "                                                           {'name': 'wood','thick': 0.012, 'cond': 0.16, 'specH': 720 }]},\n",
    "                    {'TypeFloor': 'Heatbridge', 'Layers': [{'name': 'wood','thick': 0.012, 'cond': 0.16, 'specH': 720 },\n",
    "                                                           {'name': 'wood','thick': 0.012, 'cond': 0.16, 'specH': 720 }]}],\n",
    "          'IsSunshadeInput': False },\n",
    "        { 'name': 'BoundaryCeiling', 'type': 'boundary_ceiling', 'structure': 'wood', 'InputMethodWood' :'InputAllLayers', \n",
    "          'direction': 'top', 'area': 67.8, 'CeilingConstructionMethod': 'Insulbeam', \n",
    "          'Parts': [{'TypeFloor': 'Insulation', 'Layers': [{'name': 'wood','thick': 0.012, 'cond': 0.16, 'specH': 720 },\n",
    "                                                           {'name': 'wood','thick': 0.012, 'cond': 0.16, 'specH': 720 }]},\n",
    "                    {'TypeFloor': 'Heatbridge', 'Layers': [{'name': 'wood','thick': 0.012, 'cond': 0.16, 'specH': 720 },\n",
    "                                                           {'name': 'wood','thick': 0.012, 'cond': 0.16, 'specH': 720 }]}],\n",
    "          'IsSunshadeInput': False },\n",
    "        { 'name': 'Ceiling', 'type': 'ceiling', 'structure': 'wood', 'InputMethodWood' :'InputUR',\n",
    "          'direction': 'top', 'area': 67.8, 'URWood': 0.05, 'IsSunshadeInput': False },\n",
    "        { 'name': 'Ceiling', 'type': 'ceiling', 'structure': 'RC', 'InputMethodRC' :'InputUA', \n",
    "          'direction': 'top', 'area': 67.8, 'UA': 0.24, 'IsSunshadeInput': False },\n",
    "        { 'name': 'Ceiling', 'type': 'ceiling', 'structure': 'RC', 'InputMethodRC' :'InputLayers', \n",
    "          'direction': 'top', 'area': 67.8, 'IsSunshadeInput': False },\n",
    "        { 'name': 'Ceiling', 'type': 'ceiling', 'structure': 'steel', 'InputMethodSteel' :'InputUA', \n",
    "          'direction': 'top', 'area': 67.8, 'UA': 0.24, 'IsSunshadeInput': False },\n",
    "        { 'name': 'Ceiling', 'type': 'ceiling', 'structure': 'steel', 'InputMethodSteel' :'InputUR', \n",
    "          'direction': 'top', 'area': 67.8, 'URSteel': 0.10, 'IsSunshadeInput': False },\n",
    "        { 'name': 'Ceiling', 'type': 'ceiling', 'structure': 'other', 'direction': 'top', 'area': 67.8, 'IsSunshadeInput': False }\n",
    "    ],\n",
    "    'Windows': [\n",
    "        { 'name': 'WindowSW', 'direction': 'SW', 'area': 30.25, 'UW': 6.51, 'type': 'single', \n",
    "          'IsEtaValueInput': False, 'TypeFrame': 'WoodOrResin', 'TypeGlass': '3WgG', 'TypeShade': 'Shoji',\n",
    "          'IsSunshadeInput': True, 'Y1': 0.00, 'Y2': 1.00, 'Z': 0.60 },\n",
    "        { 'name': 'WindowNW', 'direction': 'NW', 'area': 3.17, 'UW': 4.65, 'type': 'single', \n",
    "          'IsEtaValueInput': True, 'Eta': 0.738, 'IsSunshadeInput': False },\n",
    "        { 'name': 'WindowSW', 'direction': 'SW', 'area': 30.25, 'UW': 6.51, 'type': 'double', 'IsEtaValueInput': False,\n",
    "          'TypeFrameInside': 'WoodOrResin', 'TypeGlassInside': '3WgG', 'TypeShadeInside': 'Shoji',\n",
    "          'TypeFrameOutside': 'Steel', 'TypeGlassOutside': '3WgG', 'TypeShadeOutside': 'ExtarnalBlind',\n",
    "          'IsSunshadeInput': True, 'Y1': 0.00, 'Y2': 1.00, 'Z': 0.60 },\n",
    "        { 'name': 'WindowNW', 'direction': 'NW', 'area': 3.17, 'UW': 4.65, 'type': 'double', 'IsEtaValueInput': True,\n",
    "          'EtaInside': 0.738, 'TypeGlassInside': '3WgG', 'EtaOutside': 0.738, 'TypeGlassOutside': '3WgG',\n",
    "          'IsSunshadeInput': True, 'Y1': 0.00, 'Y2': 1.00, 'Z': 0.60 }\n",
    "    ],\n",
    "    'Doors': [\n",
    "        { 'name': 'DoorNW', 'direction': 'NW', 'area': 2.52, 'U': 6.51, 'IsSunshadeInput': False },\n",
    "        { 'name': 'DoorNE', 'direction': 'NE', 'area': 2.16, 'U': 4.65, 'IsSunshadeInput': True, 'Y1': 0.00, 'Y2': 1.00, 'Z': 0.60 }\n",
    "    ],\n",
    "    'Heatbridges': [\n",
    "        { 'name': 'NE', 'structure': 'RC', 'length': 1.00, 'psi': 1.8, 'direction1': 'N', 'direction2': 'E' },\n",
    "        { 'name': 'NW', 'structure': 'Steel', 'length': 2.00, 'psi': 1.8, 'direction1': 'N', 'direction2': 'W' }\n",
    "    ],\n",
    "    'EarthfloorPerimeters': [\n",
    "        { 'name': 'other_NW', 'direction': 'NW', 'length': 2.43, 'psi': 1.8 },\n",
    "        { 'name': 'other_NE', 'direction': 'NE', 'length': 2.43, 'psi': 1.8 }\n",
    "    ],\n",
    "    'Earthfloors': [\n",
    "        { 'area': 5.0, 'name': 'other' },\n",
    "        { 'area': 5.0, 'name': 'entrance' }\n",
    "    ]\n",
    "}\n",
    "\n",
    "convert(d)"
   ]
  },
  {
   "cell_type": "code",
   "execution_count": null,
   "metadata": {
    "collapsed": true
   },
   "outputs": [],
   "source": []
  }
 ],
 "metadata": {
  "kernelspec": {
   "display_name": "Python 3",
   "language": "python",
   "name": "python3"
  },
  "language_info": {
   "codemirror_mode": {
    "name": "ipython",
    "version": 3
   },
   "file_extension": ".py",
   "mimetype": "text/x-python",
   "name": "python",
   "nbconvert_exporter": "python",
   "pygments_lexer": "ipython3",
   "version": "3.6.3"
  }
 },
 "nbformat": 4,
 "nbformat_minor": 2
}
