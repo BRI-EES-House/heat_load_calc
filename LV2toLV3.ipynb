{
 "cells": [
  {
   "cell_type": "code",
   "execution_count": 1,
   "metadata": {
    "collapsed": true
   },
   "outputs": [],
   "source": [
    "import copy"
   ]
  },
  {
   "cell_type": "markdown",
   "metadata": {},
   "source": [
    "# 外皮情報LV2からLV3へのコンバート"
   ]
  },
  {
   "cell_type": "markdown",
   "metadata": {},
   "source": [
    "## 1. 外皮性能計算プログラム＋簡単な追加情報\n",
    "\n",
    "- 外皮性能計算プログラムの入力情報に、用途別床面積を追加したものより、推定を行う。\n",
    "- 現状の外皮性能計算プログラムで入力されるのは用途別に分かれていない外皮性能であるため、室用途別の性能を求めるためには、外皮を用途別に割り振る必要がある。\n",
    "- 土間床等面積が0㎡より大きい場合、基礎断熱部は床下空間に属するものとみなし、室と床下空間の間の床の合計面積は土間床等面積の合計に等しいとみなす。室と床下空間の間の床は、仕様を想定して与える（合板12mm、参考：SimHeatでの熱負荷計算用の無断熱の層構成）\n",
    "- 住戸全体の外皮（床下空間に属するものを除く）、および、室と床下空間の間の床は、室用途別の床面積に応じて各用途に割り当てる。集合住宅の戸境壁等も同様の扱いとする。外皮性能は用途によらず均一に割り付ける。開口部は、外皮性能計算プログラムの入力情報より推定を開始する場合は、庇等の日射遮蔽部材を考慮した計算を行うため、方位、遮蔽部材やその寸法等が異なる場合は、別部材として扱う。\n",
    "- 各部位の熱橋は、対応する一般部のU値の低減に置き換える。一般部の断熱材の厚を調整する。\n",
    "- その他は、用途別情報が得られている場合と同様に求める。"
   ]
  },
  {
   "cell_type": "markdown",
   "metadata": {},
   "source": [
    "### 《土間床等面積が0㎡より大きい場合の扱い》\n",
    "$$ \\qquad\n",
    "A_{b}=min(A_主 + A_他 + A_非, \\sum_{i}^{}S_{df,i})\n",
    "\\qquad\n",
    "\\\\\n",
    "$$\n",
    "\n",
    "- 入力値：\n",
    "  - 室用途不明の空間に属する土間床等の部位iの面積$[m ^ 2]$：$S_{df,i}$\n",
    "\n",
    "- 出力値：\n",
    "\n",
    "  - 室と床下空間の間の床面積の合計$[m ^ 2]$：$A_{b}$"
   ]
  },
  {
   "cell_type": "markdown",
   "metadata": {},
   "source": [
    "### 《室用途別の床面積に応じた用途別面積の推定》\n",
    "\n",
    "#### 室用途別面積比率\n",
    "$$ \\qquad\n",
    "r_{主}= \\frac{A_主}{A_主 + A_他 + A_非}, \\quad\n",
    "r_{他}= \\frac{A_他}{A_主 + A_他 + A_非}\\quad, \\quad\n",
    "r_{非}= \\frac{A_非}{A_主 + A_他 + A_非}\\quad\n",
    "\\qquad\n",
    "\\\\\n",
    "$$\n",
    "- 入力値：\n",
    "  - 主居室、その他の居室、非居室の床面積$[m ^ 2]$：$A_主$、$A_他$、$A_非$\n",
    "\n",
    "- 出力値：\n",
    "  - 主居室、その他の居室、非居室の外皮の面積比率$[-]$：$r_{主}$、$r_{他}$、$r_{非}$\n",
    "\n",
    "\n",
    "#### 室用途別の面積および長さの推定\n",
    "$$ \\qquad\n",
    "A_{主,i,j}= {A_{i,j}・r_主}, \\quad\n",
    "A_{他,i,j}= {A_{i,j}・r_他}\\quad, \\quad\n",
    "A_{非,i,j}= {A_{i,j}・r_非}\\quad\n",
    "\\qquad\n",
    "\\\\\n",
    "$$\n",
    "$$ \\qquad\n",
    "L_{主,i,j}= {L_{i,j}・r_主}, \\quad\n",
    "L_{他,i,j}= {L_{i,j}・r_他}\\quad, \\quad\n",
    "L_{非,i,j}= {L_{i,j}・r_非}\\quad\n",
    "\\qquad\n",
    "\\\\\n",
    "$$\n",
    "- 入力値：\n",
    "  - 外皮の方位j、部位（一般部位又は開口部）𝑖の面積$[m ^ 2]$：$A_{i,j}$\n",
    "  - 熱橋及び土間床等の方位jの外周部𝑖の長さ$[m]$：$L_{i,j}$\n",
    "\n",
    "- 出力値：\n",
    "  - 主居室、その他の居室、非居室の外皮の方位j、部位（一般部位又は開口部）𝑖の面積$[m ^ 2]$：$A_{主,i,j}$、$A_{他,i,j}$、$A_{非,i,j}$\n",
    "  - 主居室、その他の居室、非居室の熱橋及び土間床等の方位jの外周部𝑖の長さ$[m]$：$L_{主,i,j}$、$L_{他,i,j}$、$L_{非,i,j}$"
   ]
  },
  {
   "cell_type": "markdown",
   "metadata": {},
   "source": [
    "#### Function\n",
    "##### 室用途別面積比率の取得"
   ]
  },
  {
   "cell_type": "code",
   "execution_count": 2,
   "metadata": {
    "collapsed": true
   },
   "outputs": [],
   "source": [
    "def GetAreaRate( main_floor_area, other_floor_area, total_floor_area ):\n",
    "    # total_floor_area as double : 床面積の合計[m]\n",
    "    # main_floor_area as double  : 主たる居室の床面積[m]\n",
    "    # other_floor_area as double : その他の居室の床面積[m]\n",
    "    nonliving_floor_area = total_floor_area - ( main_floor_area + other_floor_area )\n",
    "    return main_floor_area / total_floor_area, other_floor_area / total_floor_area, nonliving_floor_area / total_floor_area"
   ]
  },
  {
   "cell_type": "markdown",
   "metadata": {},
   "source": [
    "##### 室用途別の面積の取得"
   ]
  },
  {
   "cell_type": "code",
   "execution_count": 3,
   "metadata": {
    "collapsed": true
   },
   "outputs": [],
   "source": [
    "def GetAreaByRoomUse( target_area, main_floor_area, other_floor_area, total_floor_area ):\n",
    "    # target_area as double      : 方位j、部位iの面積[m^2]\n",
    "    # total_floor_area as double : 床面積の合計[m]\n",
    "    # main_floor_area as double  : 主たる居室の床面積[m]\n",
    "    # other_floor_area as double : その他の居室の床面積[m]    \n",
    "    \n",
    "    rate_main, rate_other, rate_nonliving = GetAreaRate( main_floor_area, other_floor_area, total_floor_area )\n",
    "    return {\n",
    "        'main'      : rate_main * target_area,\n",
    "        'other'     : rate_other * target_area,\n",
    "        'nonliving' : rate_nonliving * target_area\n",
    "    }"
   ]
  },
  {
   "cell_type": "markdown",
   "metadata": {},
   "source": [
    "##### 室用途別の長さの取得"
   ]
  },
  {
   "cell_type": "code",
   "execution_count": 4,
   "metadata": {
    "collapsed": true
   },
   "outputs": [],
   "source": [
    "def GetLengthByRoomUse( target_length, main_floor_area, other_floor_area, total_floor_area ):\n",
    "    # target_length as double      : 方位j、部位iの長さ[m]\n",
    "    # total_floor_area as double : 床面積の合計[m]\n",
    "    # main_floor_area as double  : 主たる居室の床面積[m]\n",
    "    # other_floor_area as double : その他の居室の床面積[m]    \n",
    "    \n",
    "    rate_main, rate_other, rate_nonliving = GetAreaRate( main_floor_area, other_floor_area, total_floor_area )\n",
    "    return {\n",
    "        'main'      : rate_main * target_length,\n",
    "        'other'     : rate_other * target_length,\n",
    "        'nonliving' : rate_nonliving * target_length\n",
    "    }"
   ]
  },
  {
   "cell_type": "markdown",
   "metadata": {},
   "source": [
    "#### Example"
   ]
  },
  {
   "cell_type": "code",
   "execution_count": 5,
   "metadata": {},
   "outputs": [
    {
     "data": {
      "text/plain": [
       "({'main': 12.5, 'nonliving': 12.5, 'other': 25.0},\n",
       " {'main': 3.0, 'nonliving': 3.0, 'other': 6.0})"
      ]
     },
     "execution_count": 5,
     "metadata": {},
     "output_type": "execute_result"
    }
   ],
   "source": [
    "areas = GetAreaByRoomUse(50.0, 30.0, 60.0, 120.0)\n",
    "lengths = GetLengthByRoomUse(12.0, 30.0, 60.0, 120.0)\n",
    "areas, lengths"
   ]
  },
  {
   "cell_type": "markdown",
   "metadata": {},
   "source": [
    "## 2. コンバート\n",
    "### 1) 共通\n",
    "\n",
    "- 地域の区分、主たる居室の床面積(m<sup>2</sup>)、その他の床面積(m<sup>2</sup>)、床面積の合計(m<sup>2</sup>)、簡易外皮入力フラグの情報は維持する。"
   ]
  },
  {
   "cell_type": "markdown",
   "metadata": {},
   "source": [
    "#### Input\n",
    "\n",
    "```\n",
    "{\n",
    "    'Region'                      : # 地域の区分 1 ~ 8 の整数\n",
    "    'IsSimplifiedInput'           : # bool値 簡易入力から生成したデータか否かを表す, LV1からの場合は常にTrueとなる。\n",
    "    'MainOccupantRoomFloorArea'   : # 主たる居室の床面積(m2)\n",
    "    'OtherOccupantRoomFloorArea'  : # その他の居室の床面積(m2)\n",
    "    'TotalFloorArea'              : # 床面積の合計(m2)\n",
    "}\n",
    "```"
   ]
  },
  {
   "cell_type": "markdown",
   "metadata": {},
   "source": [
    "#### Output\n",
    "\n",
    "```\n",
    "{\n",
    "    'Region'                      : # 地域の区分 1 ~ 8 の整数\n",
    "    'IsSimplifiedInput'           : # bool値 簡易入力から生成したデータか否かを表す, LV1からの場合は常にTrueとなる。\n",
    "    'MainOccupantRoomFloorArea'   : # 主たる居室の床面積(m2)\n",
    "    'OtherOccupantRoomFloorArea'  : # その他の居室の床面積(m2)\n",
    "    'TotalFloorArea'              : # 床面積の合計(m2)\n",
    "}\n",
    "```"
   ]
  },
  {
   "cell_type": "markdown",
   "metadata": {},
   "source": [
    "#### Function"
   ]
  },
  {
   "cell_type": "code",
   "execution_count": 6,
   "metadata": {
    "collapsed": true
   },
   "outputs": [],
   "source": [
    "def convert_common(d):\n",
    "    return d['Common']"
   ]
  },
  {
   "cell_type": "markdown",
   "metadata": {},
   "source": [
    "#### Example"
   ]
  },
  {
   "cell_type": "code",
   "execution_count": 7,
   "metadata": {},
   "outputs": [
    {
     "data": {
      "text/plain": [
       "{'IsSimplifiedInput': True,\n",
       " 'MainOccupantRoomFloorArea': 30.0,\n",
       " 'OtherOccupantRoomFloorArea': 60.0,\n",
       " 'Region': 6,\n",
       " 'TotalFloorArea': 120.0}"
      ]
     },
     "execution_count": 7,
     "metadata": {},
     "output_type": "execute_result"
    }
   ],
   "source": [
    "d = {\n",
    "    'Common': {\n",
    "        'Region' : 6,\n",
    "        'IsSimplifiedInput': True,\n",
    "        'MainOccupantRoomFloorArea': 30.0,\n",
    "        'OtherOccupantRoomFloorArea': 60.0,\n",
    "        'TotalFloorArea': 120.0\n",
    "}\n",
    "}\n",
    "convert_common(d)"
   ]
  },
  {
   "cell_type": "markdown",
   "metadata": {},
   "source": [
    "### 2) 開口部以外の不透明部位\n",
    "\n",
    "- 壁体名称、一般部位構造種別、壁体種別、方位、層構成（部材名称、厚さ[m]、熱伝導率[W/mK]、容積比熱[(J/(m<sup>3</sup>・K)]）などの情報は維持する。\n",
    "- Lv2の入力情報に「壁体が属する空間種類」の情報を追加し、部位面積から各部位の室用途別面積を推定する。"
   ]
  },
  {
   "cell_type": "markdown",
   "metadata": {},
   "source": [
    "#### Function"
   ]
  },
  {
   "cell_type": "code",
   "execution_count": 8,
   "metadata": {},
   "outputs": [],
   "source": [
    "def convert_wall( d ):\n",
    "    \n",
    "    walls =[]\n",
    "    for arg_wall in d['Walls']:\n",
    "        areas = GetAreaByRoomUse(arg_wall['area'], d['Common']['MainOccupantRoomFloorArea'], d['Common']['OtherOccupantRoomFloorArea'], d['Common']['TotalFloorArea'])\n",
    "        for space, area in areas.items() :\n",
    "             # 壁体名称、部位面積を更新し、「壁体が属する空間種類」を追加する\n",
    "            wall = copy.deepcopy(arg_wall)\n",
    "            wall['name'] = arg_wall['name'] + '_' + space \n",
    "            wall['area'] = area\n",
    "            wall['space'] = space\n",
    "            walls.append(wall)\n",
    "            \n",
    "    return walls"
   ]
  },
  {
   "cell_type": "markdown",
   "metadata": {},
   "source": [
    "#### Example"
   ]
  },
  {
   "cell_type": "code",
   "execution_count": 9,
   "metadata": {},
   "outputs": [
    {
     "data": {
      "text/plain": [
       "[{'area': 16.95, 'direction': 'top', 'name': 'Ceiling_main', 'space': 'main'},\n",
       " {'area': 33.9, 'direction': 'top', 'name': 'Ceiling_other', 'space': 'other'},\n",
       " {'area': 16.95,\n",
       "  'direction': 'top',\n",
       "  'name': 'Ceiling_nonliving',\n",
       "  'space': 'nonliving'},\n",
       " {'area': 10.1575, 'direction': 'SW', 'name': 'Wall_SW_main', 'space': 'main'},\n",
       " {'area': 20.315,\n",
       "  'direction': 'SW',\n",
       "  'name': 'Wall_SW_other',\n",
       "  'space': 'other'},\n",
       " {'area': 10.1575,\n",
       "  'direction': 'SW',\n",
       "  'name': 'Wall_SW_nonliving',\n",
       "  'space': 'nonliving'}]"
      ]
     },
     "execution_count": 9,
     "metadata": {},
     "output_type": "execute_result"
    }
   ],
   "source": [
    "d = {\n",
    "    'Common': {\n",
    "        'MainOccupantRoomFloorArea': 30.0,\n",
    "        'OtherOccupantRoomFloorArea': 60.0,\n",
    "        'TotalFloorArea': 120.0,\n",
    "    },\n",
    "    'Walls': [\n",
    "        { 'area': 67.8, 'direction': 'top', 'name': 'Ceiling' },\n",
    "        { 'area': 40.63, 'direction': 'SW', 'name': 'Wall_SW',}\n",
    "    ]\n",
    "}    \n",
    "\n",
    "convert_wall(d)"
   ]
  },
  {
   "cell_type": "markdown",
   "metadata": {},
   "source": [
    "### 3) 開口部の透明部位\n",
    "\n",
    "- 開口部名称、方位、日射熱取得率[-]、熱貫流率[W/(m<sup>2</sup>・K)]などの情報は維持する。\n",
    "- 「開口部が属する空間種類」の情報を追加し、部位面積から各部位の室用途別面積を推定する。"
   ]
  },
  {
   "cell_type": "markdown",
   "metadata": {},
   "source": [
    "#### Function"
   ]
  },
  {
   "cell_type": "code",
   "execution_count": 10,
   "metadata": {
    "collapsed": true
   },
   "outputs": [],
   "source": [
    "def convert_window( d ):\n",
    "    \n",
    "    windows =[]\n",
    "    for arg_window in d['Windows']:\n",
    "        areas = GetAreaByRoomUse(arg_window['area'], d['Common']['MainOccupantRoomFloorArea'], d['Common']['OtherOccupantRoomFloorArea'], d['Common']['TotalFloorArea'])\n",
    "        for space, area in areas.items() :\n",
    "            # 開口部名称、部位面積を更新し、「開口部が属する空間種類」を追加する\n",
    "            window = copy.deepcopy(arg_window)\n",
    "            window['name'] = arg_window['name'] + '_' + space\n",
    "            window['area'] = area\n",
    "            window['space'] = space\n",
    "            windows.append(window)\n",
    "        \n",
    "    return windows"
   ]
  },
  {
   "cell_type": "markdown",
   "metadata": {},
   "source": [
    "#### Example"
   ]
  },
  {
   "cell_type": "code",
   "execution_count": 11,
   "metadata": {},
   "outputs": [
    {
     "data": {
      "text/plain": [
       "[{'area': 7.5625, 'direction': 'SW', 'name': 'WindowSW_main', 'space': 'main'},\n",
       " {'area': 15.125,\n",
       "  'direction': 'SW',\n",
       "  'name': 'WindowSW_other',\n",
       "  'space': 'other'},\n",
       " {'area': 7.5625,\n",
       "  'direction': 'SW',\n",
       "  'name': 'WindowSW_nonliving',\n",
       "  'space': 'nonliving'},\n",
       " {'area': 0.7925, 'direction': 'NW', 'name': 'WindowNW_main', 'space': 'main'},\n",
       " {'area': 1.585,\n",
       "  'direction': 'NW',\n",
       "  'name': 'WindowNW_other',\n",
       "  'space': 'other'},\n",
       " {'area': 0.7925,\n",
       "  'direction': 'NW',\n",
       "  'name': 'WindowNW_nonliving',\n",
       "  'space': 'nonliving'}]"
      ]
     },
     "execution_count": 11,
     "metadata": {},
     "output_type": "execute_result"
    }
   ],
   "source": [
    "d = {\n",
    "    'Common': {\n",
    "        'MainOccupantRoomFloorArea': 30.0,\n",
    "        'OtherOccupantRoomFloorArea': 60.0,\n",
    "        'TotalFloorArea': 120.0,\n",
    "    },\n",
    "    'Windows': [\n",
    "        { 'name': 'WindowSW', 'direction': 'SW', 'area': 30.25 },\n",
    "        { 'name': 'WindowNW', 'direction': 'NW', 'area': 3.17  }\n",
    "    ]\n",
    "}    \n",
    "\n",
    "convert_window(d)"
   ]
  },
  {
   "cell_type": "markdown",
   "metadata": {},
   "source": [
    "### 4) 開口部の不透明部位\n",
    "\n",
    "- 開口部名称、方位、熱貫流率[W/(m<sup>2</sup>・K)]などの情報は維持する。\n",
    "- 「開口部が属する空間種類」の情報を追加し、部位面積から各部位の室用途別面積を推定する。"
   ]
  },
  {
   "cell_type": "markdown",
   "metadata": {},
   "source": [
   ]
  },
  {
   "cell_type": "markdown",
   "metadata": {},
   "source": [
    "\n",
   ]
  },
  {
   "cell_type": "markdown",
   "metadata": {},
   "source": [
    "#### Function"
   ]
  },
  {
   "cell_type": "code",
   "execution_count": 10,
   "metadata": {
    "collapsed": true
   },
   "outputs": [],
   "source": [
    "def convert_door( d ):\n",
    "    doors = copy.deepcopy(d['Doors'])\n",
    "    \n",
    "    return { 'Doors' : doors }"
   ]
  },
  {
   "cell_type": "markdown",
   "metadata": {},
   "source": [
    "#### Example"
   ]
  },
  {
   "cell_type": "code",
   "execution_count": 11,
   "metadata": {},
   "outputs": [
    {
     "data": {
      "text/plain": [
       "{'Doors': [{'Area': 52,\n",
       "   'Direction': 'NW',\n",
       "   'IsSunshadeInput': False,\n",
       "   'Name': 'DoorNW',\n",
       "   'U': 2.33}]}"
      ]
     },
     "execution_count": 11,
     "metadata": {},
     "output_type": "execute_result"
    }
   ],
   "source": [
    "d = {\n",
    "    'Doors': [\n",
    "        {\n",
    "            'Name': 'DoorNW',\n",
    "            'Direction': 'NW',\n",
    "            'Area': 52,\n",
    "            'U': 2.33,\n",
    "            'IsSunshadeInput': False\n",
    "        }\n",
    "    ]\n",
    "}    \n",
    "convert_door(d)"
   ]
  },
  {
   "cell_type": "markdown",
   "metadata": {},
   "source": [
    "## 2-5. コンバート【分類：部位情報】"
   ]
  },
  {
   "cell_type": "markdown",
   "metadata": {},
   "source": [
    "- 壁体・開口部名称、外皮フラグ、日射フラグ、日射フラグ、非定常フラグ、外部日除け名称の情報は維持する。\n",
    "- 新たに変数「空間種類」「隣接空間種類」を作成する。\n",
    "- 用途別の部位面積[m<sup>2</sup>]、部位長さ[m<sup>2</sup>]を、室用途別の床面積より推定する。\n",
    "- 土間床等面積が0㎡より大きい場合、基礎断熱部は床下空間に属するものとみなし、室と床下空間の間の床の合計面積は土間床等面積の合計に等しいとみなす。室と床下空間の間の床は、仕様を想定して与える（合板12mm、参考：SimHeatでの熱負荷計算用の無断熱の層構成）"
   ]
  },
  {
   "cell_type": "markdown",
   "metadata": {},
   "source": [
    "### Input"
   ]
  },
  {
   "cell_type": "markdown",
   "metadata": {},
   "source": [
    "```\n",
    "data = {\n",
    "    'name'                        : # 壁体・開口部名称\n",
    "    'FlagPerimeter'               : # 外皮フラグ 1 ~ 2 の整数\n",
    "    'FlagSolarRadiation'          : # 日射フラグ 1 ~ 2 の整数\n",
    "    'direction'                   : # 方位 1 ~ 14 の整数\n",
    "    'FlagUnsteady'                : # 非定常フラグ 1 ~ 2 の整数\n",
    "    'A'                           : # 部位面積(m2)\n",
    "    'L'                           : # 部位長さ(m)\n",
    "    'sunshade'                    : # 外部日除け名称\n",
    "}\n",
    "```"
   ]
  },
  {
   "cell_type": "markdown",
   "metadata": {},
   "source": [
    "### Output"
   ]
  },
  {
   "cell_type": "markdown",
   "metadata": {
    "collapsed": true
   },
   "source": [
    "```\n",
    "data = {\n",
    "    'name'                        : # 壁体・開口部名称\n",
    "    'Room'                        : # 空間種類\n",
    "    'FlagPerimeter'               : # 外皮フラグ 1 ~ 2 の整数\n",
    "    'FlagSolarRadiation'          : # 日射フラグ 1 ~ 2 の整数\n",
    "    'direction'                   : # 方位 1 ~ 14 の整数\n",
    "    'AdjacentSpace'               : # 隣接空間種類\n",
    "    'FlagUnsteady'                : # 非定常フラグ 1 ~ 2 の整数\n",
    "    'A'                           : # 部位面積(m2)\n",
    "    'L'                           : # 部位長さ(m)\n",
    "    'sunshade'                    : # 外部日除け名称\n",
    "}\n",
    "```"
   ]
  },
  {
   "cell_type": "markdown",
   "metadata": {},
   "source": [
    "### Function"
   ]
  },
  {
   "cell_type": "code",
   "execution_count": 12,
   "metadata": {
    "collapsed": true
   },
   "outputs": [],
   "source": [
    "def convert_element(d_common,d_elements):\n",
    "\n",
    "    for d_element in d_elements:\n",
    "        d_element['AdjacentSpace'] = None\n",
    "    AEarthFloor=0\n",
    "    for d in d_elements:\n",
    "        if d['direction']==15:\n",
    "            AEarthFloor=d['A']        \n",
    "    if AEarthFloor>0:\n",
    "        d_elements.append({'name': 'FloorNotPerimeter','FlagPerimeter': 1,'FlagSolarRadiation': 2,'direction': 14,\n",
    "                       'AdjacentSpace':'Underfloor','FlagUnsteady': 1,'A':AEarthFloor,'L': None,'sunshade': None})\n",
    "            \n",
    "    #主たる居室、その他の居室、非居室の床面積比率\n",
    "    rMain=d_common['MainOccupantRoomFloorArea']/d_common['TotalFloorArea']\n",
    "    rOther=d_common['OtherOccupantRoomFloorArea']/d_common['TotalFloorArea']\n",
    "    rNon=1-rMain-rOther\n",
    "    \n",
    "    elements=[]\n",
    "    for d_element in d_elements:\n",
    "        if d_element['direction']==15:\n",
    "            elements.append({\n",
    "                'name'                        : d_element['name'],\n",
    "                'Room'                        : 'Underfloor',\n",
    "                'FlagPerimeter'               : d_element['FlagPerimeter'],\n",
    "                'FlagSolarRadiation'          : d_element['FlagSolarRadiation'],\n",
    "                'direction'                   : d_element['direction'],\n",
    "                'AdjacentSpace'               : d_element['AdjacentSpace'],\n",
    "                'FlagUnsteady'                : d_element['FlagUnsteady'],\n",
    "                'A'                           : d_element['A'],\n",
    "                'L'                           : d_element['L'],\n",
    "                'sunshade'                    : d_element['sunshade']\n",
    "            })\n",
    "        else:\n",
    "            if d_element['A'] is not None:\n",
    "                AMain=d_element['A']*rMain\n",
    "                AOther=d_element['A']*rOther\n",
    "                ANon=d_element['A']*rNon\n",
    "            else:\n",
    "                AMain=None\n",
    "                AOther=None\n",
    "                ANon=d_None       \n",
    "\n",
    "            if d_element['L'] is not None:\n",
    "                LMain=d_element['L']*rMain\n",
    "                LOther=d_element['L']*rOther\n",
    "                LNon=d_element['L']*rNon\n",
    "            else:\n",
    "                LMain=None\n",
    "                LOther=None\n",
    "                LNon=None \n",
    "\n",
    "            temporary=[{\n",
    "                'name'                        : d_element['name'],\n",
    "                'Room'                        : 'MainOccupantRoom',\n",
    "                'FlagPerimeter'               : d_element['FlagPerimeter'],\n",
    "                'FlagSolarRadiation'          : d_element['FlagSolarRadiation'],\n",
    "                'direction'                   : d_element['direction'],\n",
    "                'AdjacentSpace'               : d_element['AdjacentSpace'],\n",
    "                'FlagUnsteady'                : d_element['FlagUnsteady'],\n",
    "                'A'                           : AMain,\n",
    "                'L'                           : LMain,\n",
    "                'sunshade'                    : d_element['sunshade']\n",
    "            },{\n",
    "                'name'                        : d_element['name'],\n",
    "                'Room'                        : 'OtherOccupantRoomFloorArea',\n",
    "                'FlagPerimeter'               : d_element['FlagPerimeter'],\n",
    "                'FlagSolarRadiation'          : d_element['FlagSolarRadiation'],\n",
    "                'direction'                   : d_element['direction'],\n",
    "                'AdjacentSpace'               : d_element['AdjacentSpace'],\n",
    "                'FlagUnsteady'                : d_element['FlagUnsteady'],\n",
    "                'A'                           : AOther,\n",
    "                'L'                           : LOther,\n",
    "                'sunshade'                    : d_element['sunshade']\n",
    "            },{\n",
    "                'name'                        : d_element['name'],\n",
    "                'Room'                        : 'NonOccupantRoomFloorArea',\n",
    "                'FlagPerimeter'               : d_element['FlagPerimeter'],\n",
    "                'FlagSolarRadiation'          : d_element['FlagSolarRadiation'],\n",
    "                'direction'                   : d_element['direction'],\n",
    "                'AdjacentSpace'               : d_element['AdjacentSpace'],\n",
    "                'FlagUnsteady'                : d_element['FlagUnsteady'],\n",
    "                'A'                           : ANon,\n",
    "                'L'                           : LNon,\n",
    "                'sunshade'                    : d_element['sunshade']\n",
    "            }]\n",
    "            for i in range(0,3):\n",
    "                elements.append(temporary[i])\n",
    "\n",
    "    return elements"
   ]
  },
  {
   "cell_type": "markdown",
   "metadata": {},
   "source": [
    "### Example"
   ]
  },
  {
   "cell_type": "code",
   "execution_count": 13,
   "metadata": {},
   "outputs": [
    {
     "data": {
      "text/plain": [
       "[{'A': 7.5,\n",
       "  'AdjacentSpace': None,\n",
       "  'FlagPerimeter': 1,\n",
       "  'FlagSolarRadiation': 2,\n",
       "  'FlagUnsteady': 1,\n",
       "  'L': None,\n",
       "  'Room': 'MainOccupantRoom',\n",
       "  'direction': 12,\n",
       "  'name': 'Floor',\n",
       "  'sunshade': None},\n",
       " {'A': 15.0,\n",
       "  'AdjacentSpace': None,\n",
       "  'FlagPerimeter': 1,\n",
       "  'FlagSolarRadiation': 2,\n",
       "  'FlagUnsteady': 1,\n",
       "  'L': None,\n",
       "  'Room': 'OtherOccupantRoomFloorArea',\n",
       "  'direction': 12,\n",
       "  'name': 'Floor',\n",
       "  'sunshade': None},\n",
       " {'A': 7.5,\n",
       "  'AdjacentSpace': None,\n",
       "  'FlagPerimeter': 1,\n",
       "  'FlagSolarRadiation': 2,\n",
       "  'FlagUnsteady': 1,\n",
       "  'L': None,\n",
       "  'Room': 'NonOccupantRoomFloorArea',\n",
       "  'direction': 12,\n",
       "  'name': 'Floor',\n",
       "  'sunshade': None},\n",
       " {'A': 30,\n",
       "  'AdjacentSpace': None,\n",
       "  'FlagPerimeter': 1,\n",
       "  'FlagSolarRadiation': 2,\n",
       "  'FlagUnsteady': 1,\n",
       "  'L': None,\n",
       "  'Room': 'Underfloor',\n",
       "  'direction': 15,\n",
       "  'name': 'EarthFloor',\n",
       "  'sunshade': None},\n",
       " {'A': 7.5,\n",
       "  'AdjacentSpace': 'Underfloor',\n",
       "  'FlagPerimeter': 1,\n",
       "  'FlagSolarRadiation': 2,\n",
       "  'FlagUnsteady': 1,\n",
       "  'L': None,\n",
       "  'Room': 'MainOccupantRoom',\n",
       "  'direction': 14,\n",
       "  'name': 'FloorNotPerimeter',\n",
       "  'sunshade': None},\n",
       " {'A': 15.0,\n",
       "  'AdjacentSpace': 'Underfloor',\n",
       "  'FlagPerimeter': 1,\n",
       "  'FlagSolarRadiation': 2,\n",
       "  'FlagUnsteady': 1,\n",
       "  'L': None,\n",
       "  'Room': 'OtherOccupantRoomFloorArea',\n",
       "  'direction': 14,\n",
       "  'name': 'FloorNotPerimeter',\n",
       "  'sunshade': None},\n",
       " {'A': 7.5,\n",
       "  'AdjacentSpace': 'Underfloor',\n",
       "  'FlagPerimeter': 1,\n",
       "  'FlagSolarRadiation': 2,\n",
       "  'FlagUnsteady': 1,\n",
       "  'L': None,\n",
       "  'Room': 'NonOccupantRoomFloorArea',\n",
       "  'direction': 14,\n",
       "  'name': 'FloorNotPerimeter',\n",
       "  'sunshade': None}]"
      ]
     },
     "execution_count": 13,
     "metadata": {},
     "output_type": "execute_result"
    }
   ],
   "source": [
    "convert_element({\n",
    "    'Region' : 6,\n",
    "    'FlagSimplifiedEnvelopeInput': 1,\n",
    "    'MainOccupantRoomFloorArea': 30.0,\n",
    "    'OtherOccupantRoomFloorArea': 60.0,\n",
    "    'TotalFloorArea': 120.0\n",
    "    },[{\n",
    "            'name'                    : 'Floor',\n",
    "            'FlagPerimeter'           : 1,\n",
    "            'FlagSolarRadiation'      : 2,\n",
    "            'direction'               : 12,\n",
    "            'FlagUnsteady'            : 1,\n",
    "            'A'                       : 30,\n",
    "            'L'                       : None,\n",
    "            'sunshade'                : None\n",
    "        },{\n",
    "            'name'                    : 'EarthFloor',\n",
    "            'FlagPerimeter'           : 1,\n",
    "            'FlagSolarRadiation'      : 2,\n",
    "            'direction'               : 15,\n",
    "            'FlagUnsteady'            : 1,\n",
    "            'A'                       : 30,\n",
    "            'L'                       : None,\n",
    "            'sunshade'                : None\n",
    "        }\n",
    "    ]\n",
    ")"
   ]
  },
  {
   "cell_type": "markdown",
   "metadata": {
    "collapsed": true
   },
   "source": [
    "## 2-6. コンバート【全分類】"
   ]
  },
  {
   "cell_type": "code",
   "execution_count": 14,
   "metadata": {
    "collapsed": true
   },
   "outputs": [],
   "source": [
    "def Convert(d):\n",
    "    d_common=convert_common(d['Common'])\n",
    "    d_ceiling=convert_wall(d['Ceiling'])\n",
    "    d_wall=convert_wall(d['Wall'])\n",
    "    d_floor=convert_wall(d['Floor'])\n",
    "    d_window=convert_window(d['Window'])\n",
    "    d_door=convert_window(d['Door'])\n",
    "    d_sunshade=convert_sunshade(d['Sunshade'])\n",
    "\n",
    "    temporary=convert_element(d_common, d['Elements'])\n",
    "    d_element=[]\n",
    "    for e in temporary:\n",
    "        if e['name']=='Ceiling':\n",
    "            e['Wall']=d_ceiling\n",
    "        elif e['name']=='Wall':\n",
    "            e['Wall']=d_wall\n",
    "        elif e['name']=='Floor':\n",
    "            e['Wall']=d_floor\n",
    "        elif e['name']=='EarthFloor':\n",
    "            e['FloorNonPerimeter']={\n",
    "                    'name'                       : 'FloorNotPerimeter',\n",
    "                    'structure'                  : 1,\n",
    "                    'type'                       : 3,\n",
    "                    'Layers'                     : [{'material': 'PED','d': 0.012,'rambda': 0.16,'Crho': 720}],\n",
    "                    'Ua'                         : 3.77,\n",
    "                    'Ug'                         : None,\n",
    "                    'HeatBridge'                 : None,\n",
    "                    'rHeatBridge'                : None,\n",
    "                    'UHeatBridge'                : None,\n",
    "                    'lHeatBridge'                : None,\n",
    "                    'psiHeatBridge'              : None,\n",
    "                    'Ur'                         : None\n",
    "                }\n",
    "        elif e['name']=='Window':\n",
    "            e['Window']=d_window\n",
    "            e['Sunshade']=d_sunshade\n",
    "        elif e['name']=='Door':\n",
    "            e['Door']=d_door\n",
    "        d_element.append(e)\n",
    "\n",
    "    return {'common':d_common,'element':d_element}"
   ]
  },
  {
   "cell_type": "code",
   "execution_count": 15,
   "metadata": {},
   "outputs": [
    {
     "ename": "KeyError",
     "evalue": "'IsSimplifiedInput'",
     "output_type": "error",
     "traceback": [
      "\u001b[1;31m---------------------------------------------------------------------------\u001b[0m",
      "\u001b[1;31mKeyError\u001b[0m                                  Traceback (most recent call last)",
      "\u001b[1;32m<ipython-input-15-177454e362b2>\u001b[0m in \u001b[0;36m<module>\u001b[1;34m()\u001b[0m\n\u001b[0;32m    132\u001b[0m }\n\u001b[0;32m    133\u001b[0m \u001b[1;33m\u001b[0m\u001b[0m\n\u001b[1;32m--> 134\u001b[1;33m \u001b[0mConvert\u001b[0m\u001b[1;33m(\u001b[0m\u001b[0md\u001b[0m\u001b[1;33m)\u001b[0m\u001b[1;33m\u001b[0m\u001b[0m\n\u001b[0m",
      "\u001b[1;32m<ipython-input-14-6341a2fb880e>\u001b[0m in \u001b[0;36mConvert\u001b[1;34m(d)\u001b[0m\n\u001b[0;32m      1\u001b[0m \u001b[1;32mdef\u001b[0m \u001b[0mConvert\u001b[0m\u001b[1;33m(\u001b[0m\u001b[0md\u001b[0m\u001b[1;33m)\u001b[0m\u001b[1;33m:\u001b[0m\u001b[1;33m\u001b[0m\u001b[0m\n\u001b[1;32m----> 2\u001b[1;33m     \u001b[0md_common\u001b[0m\u001b[1;33m=\u001b[0m\u001b[0mconvert_common\u001b[0m\u001b[1;33m(\u001b[0m\u001b[0md\u001b[0m\u001b[1;33m[\u001b[0m\u001b[1;34m'Common'\u001b[0m\u001b[1;33m]\u001b[0m\u001b[1;33m)\u001b[0m\u001b[1;33m\u001b[0m\u001b[0m\n\u001b[0m\u001b[0;32m      3\u001b[0m     \u001b[0md_ceiling\u001b[0m\u001b[1;33m=\u001b[0m\u001b[0mconvert_wall\u001b[0m\u001b[1;33m(\u001b[0m\u001b[0md\u001b[0m\u001b[1;33m[\u001b[0m\u001b[1;34m'Ceiling'\u001b[0m\u001b[1;33m]\u001b[0m\u001b[1;33m)\u001b[0m\u001b[1;33m\u001b[0m\u001b[0m\n\u001b[0;32m      4\u001b[0m     \u001b[0md_wall\u001b[0m\u001b[1;33m=\u001b[0m\u001b[0mconvert_wall\u001b[0m\u001b[1;33m(\u001b[0m\u001b[0md\u001b[0m\u001b[1;33m[\u001b[0m\u001b[1;34m'Wall'\u001b[0m\u001b[1;33m]\u001b[0m\u001b[1;33m)\u001b[0m\u001b[1;33m\u001b[0m\u001b[0m\n\u001b[0;32m      5\u001b[0m     \u001b[0md_floor\u001b[0m\u001b[1;33m=\u001b[0m\u001b[0mconvert_wall\u001b[0m\u001b[1;33m(\u001b[0m\u001b[0md\u001b[0m\u001b[1;33m[\u001b[0m\u001b[1;34m'Floor'\u001b[0m\u001b[1;33m]\u001b[0m\u001b[1;33m)\u001b[0m\u001b[1;33m\u001b[0m\u001b[0m\n",
      "\u001b[1;32m<ipython-input-4-b6d0990e3b52>\u001b[0m in \u001b[0;36mconvert_common\u001b[1;34m(d)\u001b[0m\n\u001b[0;32m      2\u001b[0m     return {\n\u001b[0;32m      3\u001b[0m         \u001b[1;34m'Region'\u001b[0m                     \u001b[1;33m:\u001b[0m \u001b[0md\u001b[0m\u001b[1;33m[\u001b[0m\u001b[1;34m'Region'\u001b[0m\u001b[1;33m]\u001b[0m\u001b[1;33m,\u001b[0m\u001b[1;33m\u001b[0m\u001b[0m\n\u001b[1;32m----> 4\u001b[1;33m         \u001b[1;34m'IsSimplifiedInput'\u001b[0m          \u001b[1;33m:\u001b[0m \u001b[0md\u001b[0m\u001b[1;33m[\u001b[0m\u001b[1;34m'IsSimplifiedInput'\u001b[0m\u001b[1;33m]\u001b[0m\u001b[1;33m,\u001b[0m\u001b[1;33m\u001b[0m\u001b[0m\n\u001b[0m\u001b[0;32m      5\u001b[0m         \u001b[1;34m'MainOccupantRoomFloorArea'\u001b[0m  \u001b[1;33m:\u001b[0m \u001b[0md\u001b[0m\u001b[1;33m[\u001b[0m\u001b[1;34m'MainOccupantRoomFloorArea'\u001b[0m\u001b[1;33m]\u001b[0m\u001b[1;33m,\u001b[0m\u001b[1;33m\u001b[0m\u001b[0m\n\u001b[0;32m      6\u001b[0m         \u001b[1;34m'OtherOccupantRoomFloorArea'\u001b[0m \u001b[1;33m:\u001b[0m \u001b[0md\u001b[0m\u001b[1;33m[\u001b[0m\u001b[1;34m'OtherOccupantRoomFloorArea'\u001b[0m\u001b[1;33m]\u001b[0m\u001b[1;33m,\u001b[0m\u001b[1;33m\u001b[0m\u001b[0m\n",
      "\u001b[1;31mKeyError\u001b[0m: 'IsSimplifiedInput'"
     ]
    }
   ],
   "source": [
    "d = {\n",
    "    'Common' : {\n",
    "        'Region'                     : 6,\n",
    "        'FlagSimplifiedEnvelopeInput': 2,\n",
    "        'MainOccupantRoomFloorArea'  : 30.0,\n",
    "        'OtherOccupantRoomFloorArea' : 60.0,\n",
    "        'TotalFloorArea'             : 120.0\n",
    "    },\n",
    "    'Ceiling' : {\n",
    "        'name'                       : 'Ceiling',\n",
    "        'structure'                  : 1,\n",
    "        'type'                       : 1,\n",
    "        'Layers'                     : [{'material': 'GW16K','d': 0.179,'rambda': 0.045,'Crho': 13},\n",
    "                                        {'material': 'GPB','d': 0.0095,'rambda': 0.22,'Crho': 830}],\n",
    "        'Ua'                         : 0.24,\n",
    "        'Ug'                         : None,\n",
    "        'HeatBridge'                 : None,\n",
    "        'rHeatBridge'                : None,\n",
    "        'UHeatBridge'                : None,\n",
    "        'lHeatBridge'                : None,\n",
    "        'psiHeatBridge'              : None,\n",
    "        'Ur'                         : None\n",
    "    },\n",
    "    'Wall' : {\n",
    "        'name'                       : 'Wall',\n",
    "        'structure'                  : 1,\n",
    "        'type'                       : 2,\n",
    "        'Layers'                     : [{'material': 'GW16K','d': 0.076,'rambda': 0.045,'Crho': 13},\n",
    "                                        {'material': 'GPB','d': 0.0095,'rambda': 0.22,'Crho': 830}],\n",
    "        'Ua'                         : 0.53,\n",
    "        'Ug'                         : None,\n",
    "        'HeatBridge'                 : None,\n",
    "        'rHeatBridge'                : None,\n",
    "        'UHeatBridge'                : None,\n",
    "        'lHeatBridge'                : None,\n",
    "        'psiHeatBridge'              : None,\n",
    "        'Ur'                         : None\n",
    "    },\n",
    "    'Floor' : {\n",
    "        'name'                       : 'Floor',\n",
    "        'structure'                  : 1,\n",
    "        'type'                       : 3,\n",
    "        'Layers'                     : [{'material': 'GW16K','d': 0.081,'rambda': 0.045,'Crho': 13},\n",
    "                                        {'material': 'PED','d': 0.012,'rambda': 0.16,'Crho': 720}],\n",
    "        'Ua'                         : 0.48,\n",
    "        'Ug'                         : None,\n",
    "        'HeatBridge'                 : None,\n",
    "        'rHeatBridge'                : None,\n",
    "        'UHeatBridge'                : None,\n",
    "        'lHeatBridge'                : None,\n",
    "        'psiHeatBridge'              : None,\n",
    "        'Ur'                         : None\n",
    "    },\n",
    "    'Window' : {\n",
    "        'name'                        : 'Window',\n",
    "        'eta'                         : 0.738,\n",
    "        'etaCooling'                  : None,\n",
    "        'etaHeating'                  : None,\n",
    "        'U'                           : 4.65\n",
    "    },\n",
    "    'Door' : {\n",
    "        'name'                        : 'Door',\n",
    "        'eta'                         : round(2.33*0.034,3),\n",
    "        'etaCooling'                  : None,\n",
    "        'etaHeating'                  : None,\n",
    "        'U'                           : 2.33\n",
    "    },\n",
    "    'Sunshade' : {\n",
    "        'name'                        : 'Sunshade',\n",
    "        'y1'                          : 0.5,\n",
    "        'y2'                          : 2, \n",
    "        'z'                           : 1,\n",
    "        'fCooling'                    : None,\n",
    "        'fHeating'                    : None\n",
    "    },\n",
    "    'Elements' : [{\n",
    "            'name'                    : 'Ceiling',\n",
    "            'FlagPerimeter'           : 1,\n",
    "            'FlagSolarRadiation'      : 1,\n",
    "            'direction'               : 1,\n",
    "            'FlagUnsteady'            : 1,\n",
    "            'A'                       : 60,\n",
    "            'L'                       : None,\n",
    "            'sunshade'                : None\n",
    "        },{\n",
    "            'name'                    : 'Wall',\n",
    "            'FlagPerimeter'           : 1,\n",
    "            'FlagSolarRadiation'      : 1,\n",
    "            'direction'               : 6,\n",
    "            'FlagUnsteady'            : 1,\n",
    "            'A'                       : 60,\n",
    "            'L'                       : None,\n",
    "            'sunshade'                : None\n",
    "        },{\n",
    "            'name'                    : 'Floor',\n",
    "            'FlagPerimeter'           : 1,\n",
    "            'FlagSolarRadiation'      : 2,\n",
    "            'direction'               : 12,\n",
    "            'FlagUnsteady'            : 1,\n",
    "            'A'                       : 30,\n",
    "            'L'                       : None,\n",
    "            'sunshade'                : None\n",
    "        },{\n",
    "            'name'                    : 'EarthFloor',\n",
    "            'FlagPerimeter'           : 1,\n",
    "            'FlagSolarRadiation'      : 2,\n",
    "            'direction'               : 15,\n",
    "            'FlagUnsteady'            : 1,\n",
    "            'A'                       : 30,\n",
    "            'L'                       : None,\n",
    "            'sunshade'                : None\n",
    "        },{\n",
    "            'name'                    : 'Window',\n",
    "            'FlagPerimeter'           : 1,\n",
    "            'FlagSolarRadiation'      : 1,\n",
    "            'direction'               : 6,\n",
    "            'FlagUnsteady'            : 2,\n",
    "            'A'                       : 6,\n",
    "            'L'                       : None,\n",
    "            'sunshade'                : 'Sunshade'\n",
    "        },{\n",
    "            'name'                    : 'Door',\n",
    "            'FlagPerimeter'           : 1,\n",
    "            'FlagSolarRadiation'      : 1,\n",
    "            'direction'               : 2,\n",
    "            'FlagUnsteady'            : 2,\n",
    "            'A'                       : 3,\n",
    "            'L'                       : None,\n",
    "            'sunshade'                : None\n",
    "        }\n",
    "    ]\n",
    "}\n",
    "\n",
    "Convert(d)"
   ]
  },
  {
   "cell_type": "code",
   "execution_count": null,
   "metadata": {
    "collapsed": true
   },
   "outputs": [],
   "source": []
  }
 ],
 "metadata": {
  "kernelspec": {
   "display_name": "Python 3",
   "language": "python",
   "name": "python3"
  },
  "language_info": {
   "codemirror_mode": {
    "name": "ipython",
    "version": 3
   },
   "file_extension": ".py",
   "mimetype": "text/x-python",
   "name": "python",
   "nbconvert_exporter": "python",
   "pygments_lexer": "ipython3",
   "version": "3.6.3"
  }
 },
 "nbformat": 4,
 "nbformat_minor": 2
}
