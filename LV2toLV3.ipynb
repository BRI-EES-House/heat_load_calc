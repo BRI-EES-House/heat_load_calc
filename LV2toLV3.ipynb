{
 "cells": [
  {
   "cell_type": "markdown",
   "metadata": {},
   "source": [
    "# 外皮情報LV2からLV3へのコンバート"
   ]
  },
  {
   "cell_type": "markdown",
   "metadata": {},
   "source": [
    "## 入力情報"
   ]
  },
  {
   "cell_type": "markdown",
   "metadata": {},
   "source": [
    "### 共通"
   ]
  },
  {
   "cell_type": "markdown",
   "metadata": {},
   "source": [
    "- 地域の区分 (1~8)\n",
    "- その他の居室の有無 (yes/no)\n",
    "- 非居室の有無 (yes/no)\n",
    "- 床面積の合計 (m<sup>2</sup>)\n",
    "- 主たる居室の床面積 (m<sup>2</sup>)\n",
    "- その他の居室の床面積 (m<sup>2</sup>)"
   ]
  },
  {
   "cell_type": "markdown",
   "metadata": {},
   "source": [
    "### 外皮の部位 (一般部位) (開口部) (複数可)"
   ]
  },
  {
   "cell_type": "markdown",
   "metadata": {},
   "source": [
    "- 名前\n",
    "- 面積 (m<sup>2</sup>)\n",
    "- 日射の有無と方位 (上面/北/北東/東/南東/南/南西/西/北西/下面/日射はあたらない)\n",
    "- 隣接空間の種類 (外気・外気に通じる空間/外気に通じていない空間・外気に通じる床裏/住戸及び住戸と同様の熱的環境の空間・外気に通じていない床裏)\n",
    "- 部位の種類 (一般部位(木造)/一般部位(鉄骨造)/一般部位(鉄筋コンクリート造)/窓等の大部分がガラスで構成されている開口部/ドア等の大部分がガラスで構成されていない開口部)\n",
    "- 部位の位置(屋根/天井/外壁/床/界壁/界床/天井(界床))\n",
    "- (断熱性能を表す指標) (単位面積あたり)\n",
    "- (暖房期の日射熱取得を表す指標) (単位面積あたり)\n",
    "- (冷房期の日射熱取得を表す指標) (単位面積あたり)"
   ]
  },
  {
   "cell_type": "markdown",
   "metadata": {},
   "source": [
    "### 外皮の部位 (熱橋等) (複数可)"
   ]
  },
  {
   "cell_type": "markdown",
   "metadata": {},
   "source": [
    "- 名前\n",
    "- 面積 (m<sup>2</sup>)\n",
    "- 日射の有無と方位1 (上面/北/北東/東/南東/南/南西/西/北西/下面/日射はあたらない)\n",
    "- 日射の有無と方位2 (上面/北/北東/東/南東/南/南西/西/北西/下面/日射はあたらない)\n",
    "- 隣接空間の種類 (外気・外気に通じる空間/外気に通じていない空間・外気に通じる床裏/住戸及び住戸と同様の熱的環境の空間・外気に通じていない床裏)\n",
    "- 部位の種類 (熱橋/土間床等の外周部)\n",
    "- (断熱性能を表す指標) (単位長さあたり)\n",
    "- (暖房期の日射熱取得を表す指標) (単位長さあたり)\n",
    "- (冷房期の日射熱取得を表す指標) (単位長さあたり)"
   ]
  },
  {
   "cell_type": "markdown",
   "metadata": {},
   "source": [
    "### 外皮の部位 (土間床等の中央部) (複数可)"
   ]
  },
  {
   "cell_type": "markdown",
   "metadata": {},
   "source": [
    "- 名前\n",
    "- 面積\n",
    "- (断熱性能を表す指標)"
   ]
  },
  {
   "cell_type": "markdown",
   "metadata": {},
   "source": [
    "## 出力情報"
   ]
  },
  {
   "cell_type": "markdown",
   "metadata": {},
   "source": [
    "### 共通"
   ]
  },
  {
   "cell_type": "markdown",
   "metadata": {},
   "source": [
    "- 地域の区分 (1~8)\n",
    "- その他の居室の有無 (yes/no)\n",
    "- 非居室の有無 (yes/no)\n",
    "- 床面積の合計 (m<sup>2</sup>)\n",
    "- 主たる居室の床面積 (m<sup>2</sup>)\n",
    "- その他の居室の床面積 (m<sup>2</sup>)"
   ]
  },
  {
   "cell_type": "markdown",
   "metadata": {},
   "source": [
    "### 外皮の部位 (一般部位) (開口部) (複数可)"
   ]
  },
  {
   "cell_type": "markdown",
   "metadata": {},
   "source": [
    "- 名前\n",
    "- 面積 (m<sup>2</sup>)\n",
    "- 室内側の空間の用途\n",
    "- 日射の有無と方位 (上面/北/北東/東/南東/南/南西/西/北西/下面/日射はあたらない)\n",
    "- 隣接空間の種類 (外気・外気に通じる空間/外気に通じていない空間・外気に通じる床裏/住戸及び住戸と同様の熱的環境の空間・外気に通じていない床裏)\n",
    "- 部位の種類 (一般部位(木造)/一般部位(鉄骨造)/一般部位(鉄筋コンクリート造)/窓等の大部分がガラスで構成されている開口部/ドア等の大部分がガラスで構成されていない開口部)\n",
    "- 部位の位置(屋根/天井/外壁/床/界壁/界床/天井(界床))\n",
    "- (断熱性能を表す指標) (単位面積あたり)\n",
    "- (暖房期の日射熱取得を表す指標) (単位面積あたり)\n",
    "- (冷房期の日射熱取得を表す指標) (単位面積あたり)"
   ]
  },
  {
   "cell_type": "markdown",
   "metadata": {},
   "source": [
    "### 外皮の部位 (熱橋等) (複数可)"
   ]
  },
  {
   "cell_type": "markdown",
   "metadata": {},
   "source": [
    "- 名前\n",
    "- 面積 (m<sup>2</sup>)\n",
    "- 室内側の空間の用途\n",
    "- 日射の有無と方位1 (上面/北/北東/東/南東/南/南西/西/北西/下面/日射はあたらない)\n",
    "- 日射の有無と方位2 (上面/北/北東/東/南東/南/南西/西/北西/下面/日射はあたらない)\n",
    "- 隣接空間の種類 (外気・外気に通じる空間/外気に通じていない空間・外気に通じる床裏/住戸及び住戸と同様の熱的環境の空間・外気に通じていない床裏)\n",
    "- 部位の種類 (熱橋/土間床等の外周部)\n",
    "- (断熱性能を表す指標) (単位長さあたり)\n",
    "- (暖房期の日射熱取得を表す指標) (単位長さあたり)\n",
    "- (冷房期の日射熱取得を表す指標) (単位長さあたり)"
   ]
  },
  {
   "cell_type": "markdown",
   "metadata": {},
   "source": [
    "### 外皮の部位 (土間床等の中央部) (複数可)"
   ]
  },
  {
   "cell_type": "markdown",
   "metadata": {},
   "source": [
    "- 名前\n",
    "- 面積\n",
    "- 室内側の空間の用途\n",
    "- (断熱性能を表す指標)"
   ]
  },
  {
   "cell_type": "markdown",
   "metadata": {},
   "source": [
    "## 2. 外皮性能計算プログラム＋簡単な追加情報\n",
    "\n",
    "- 外皮性能計算プログラムの入力情報に、用途別床面積を追加したものより、推定を行う。\n",
    "- 現状の外皮性能計算プログラムで入力されるのは用途別に分かれていない外皮性能であるため、室用途別の性能を求めるためには、外皮を用途別に割り振る必要がある。\n",
    "- 住戸全体の各方位の外皮は、室用途別の床面積に応じて各用途に割り当てる。集合住宅の戸境壁等も同様の扱いとする。外皮性能は用途によらず均一に割り付ける。開口部は、2.外皮性能計算プログラムの入力情報より推定を開始する場合は、庇等の日射遮蔽部材を考慮した計算を行うため、方位、遮蔽部材やその寸法等が異なる場合は、別部材として扱う。その他は3.と同様に求める。\n",
    " \n",
    "$$ \\qquad\n",
    "A_{主,i,j}= \\frac{A_{i,j}・A_主}{A_主 + A_他 + A_非}, \\quad\n",
    "A_{他,i,j}= \\frac{A_{i,j}・A_他}{A_主 + A_他 + A_非}\\quad, \\quad\n",
    "A_{非,i,j}= \\frac{A_{i,j}・A_主}{A_非 + A_他 + A_非}\\quad\n",
    "\\qquad (1),\\;(2),\\;(3)\n",
    "\\\\\n",
    "$$\n",
    "$$ \\qquad\n",
    "L_{主,i,j}= \\frac{L_{i,j}・A_主}{A_主 + A_他 + A_非}, \\quad\n",
    "L_{他,i,j}= \\frac{L_{i,j}・A_他}{A_主 + A_他 + A_非}\\quad, \\quad\n",
    "L_{非,i,j}= \\frac{L_{i,j}・A_主}{A_非 + A_他 + A_非}\\quad\n",
    "\\qquad (4),\\;(5),\\;(6)\n",
    "\\\\\n",
    "$$\n",
    "$$ \\qquad\n",
    "U_{主,i,j} =U_{他,i,j} =U_{非,i,j} =U_{i,j} \n",
    "\\qquad (7)\n",
    "\\\\\n",
    "$$\n",
    "$$ \\qquad\n",
    "Ψ_{主,i,j} =Ψ_{他,i,j} =Ψ_{非,i,j} =Ψ_{i,j} \n",
    "\\qquad (8)\n",
    "\\\\\n",
    "$$\n",
    "\n",
    "\n",
    "- 入力値：\n",
    "\n",
    "  - 主居室、その他の居室、非居室の床面積$[m ^ 2]$：$A_主$、$A_他$、$A_非$\n",
    "  - 外皮の方位j、部位（一般部位又は開口部）𝑖の面積$[m ^ 2]$：$A_{i,j}$\n",
    "  - 熱橋及び土間床等の外周部jの長さ$[m]$：$L_{i,j}$\n",
    "  - 外皮の方位j、部位（一般部位又は開口部）iの熱貫流率$[W/m ^ 2 K]$：$U_{i,j}$\n",
    "  - 熱橋及び土間床等の外周部jの線熱貫流率$[W/mK]$：$\\psi _i$$_,$$_j$\n",
    "  \n",
    "\n",
    "- 出力値：\n",
    "\n",
    "  - 主居室、その他の居室、非居室の外皮の方位j、部位（一般部位又は開口部）iの面積$[m ^ 2]$：$A_{主,i,j}$、$A_{他,i,j}$、$A_{非,i,j}$\n",
    "  - 主居室、その他の居室、非居室の：熱橋及び土間床等の方位jの外周部iの長さ$[m]$：$L_{主,i,j}$、$L_{他,i,j}$、$L_{非,i,j}$\n",
    "  - 主居室、その他の居室、非居室の外皮の方位j、部位（一般部位又は開口部）iの熱貫流率$[W/m ^ 2 K]$：$U_{主,i,j}$、$U_{他,i,j}$、$U_{非,i,j}$   \n",
    "  - 主居室、その他の居室、非居室の熱橋及び土間床等の方位jの外周部iの線熱貫流率$[W/mK]$：$\\psi _{主,i,j}$、$\\psi _{他,i,j}$、$\\psi_{非,i,j}$"
   ]
  },
  {
   "cell_type": "code",
   "execution_count": 1,
   "metadata": {
    "collapsed": false
   },
   "outputs": [
    {
     "name": "stdout",
     "output_type": "stream",
     "text": [
      "0.2\n"
     ]
    }
   ],
   "source": [
    "\"\"\" 室用途別の面積の算出 \"\"\"\n",
    "def Calc_Apu(Ap, Au, Aa):\n",
    "    Apu =  Ap*Au/Aa\n",
    "    return Apu\n",
    "\n",
    "print (Calc_Apu(1, 1, 5))"
   ]
  },
  {
   "cell_type": "code",
   "execution_count": 2,
   "metadata": {
    "collapsed": false
   },
   "outputs": [
    {
     "name": "stdout",
     "output_type": "stream",
     "text": [
      "0.2\n"
     ]
    }
   ],
   "source": [
    "\"\"\" 室用途別の長さの算出 \"\"\"\n",
    "def Calc_Lpu(Lp, Au, Aa):\n",
    "    Lpu =  Lp*Au/Aa\n",
    "    return Lpu\n",
    "\n",
    "print (Calc_Lpu(1, 1, 5))"
   ]
  },
  {
   "cell_type": "code",
   "execution_count": 3,
   "metadata": {
    "collapsed": false
   },
   "outputs": [
    {
     "name": "stdout",
     "output_type": "stream",
     "text": [
      "1\n"
     ]
    }
   ],
   "source": [
    "\"\"\" 室用途別の熱貫流率の算出 \"\"\"\n",
    "def Calc_Upu(Up):\n",
    "    Upu =  Up\n",
    "    return Upu\n",
    "\n",
    "print (Calc_Upu(1))"
   ]
  },
  {
   "cell_type": "code",
   "execution_count": 4,
   "metadata": {
    "collapsed": false
   },
   "outputs": [
    {
     "name": "stdout",
     "output_type": "stream",
     "text": [
      "1\n"
     ]
    }
   ],
   "source": [
    "\"\"\" 室用途別の線熱貫流率の算出 \"\"\"\n",
    "def Calc_Ψpu(Ψp):\n",
    "    Ψpu =  Ψp\n",
    "    return Ψpu\n",
    "\n",
    "print (Calc_Ψpu(1))"
   ]
  }
 ],
 "metadata": {
  "kernelspec": {
   "display_name": "Python 3",
   "language": "python",
   "name": "python3"
  },
  "language_info": {
   "codemirror_mode": {
    "name": "ipython",
    "version": 3
   },
   "file_extension": ".py",
   "mimetype": "text/x-python",
   "name": "python",
   "nbconvert_exporter": "python",
   "pygments_lexer": "ipython3",
   "version": "3.6.0"
  }
 },
 "nbformat": 4,
 "nbformat_minor": 2
}
