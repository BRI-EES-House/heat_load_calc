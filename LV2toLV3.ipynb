{
 "cells": [
  {
   "cell_type": "markdown",
   "metadata": {},
   "source": [
    "# 外皮情報LV2からLV3へのコンバート"
   ]
  },
  {
   "cell_type": "markdown",
   "metadata": {},
   "source": [
    "## 1. 外皮性能計算プログラム＋簡単な追加情報\n",
    "\n",
    "- 外皮性能計算プログラムの入力情報に、用途別床面積を追加したものより、推定を行う。\n",
    "- 現状の外皮性能計算プログラムで入力されるのは用途別に分かれていない外皮性能であるため、室用途別の性能を求めるためには、外皮を用途別に割り振る必要がある。\n",
    "- 土間床等面積が0㎡より大きい場合、基礎断熱部は床下空間に属するものとみなし、室と床下空間の間の床の合計面積は土間床等面積の合計に等しいとみなす。室と床下空間の間の床は、仕様を想定して与える（合板12mm、参考：SimHeatでの熱負荷計算用の無断熱の層構成）\n",
    "- 住戸全体の外皮（床下空間に属するものを除く）、および、室と床下空間の間の床は、室用途別の床面積に応じて各用途に割り当てる。集合住宅の戸境壁等も同様の扱いとする。外皮性能は用途によらず均一に割り付ける。開口部は、外皮性能計算プログラムの入力情報より推定を開始する場合は、庇等の日射遮蔽部材を考慮した計算を行うため、方位、遮蔽部材やその寸法等が異なる場合は、別部材として扱う。\n",
    "- 各部位の熱橋は、対応する一般部のU値の低減に置き換える。一般部の断熱材の厚を調整する。\n",
    "- その他は、用途別情報が得られている場合と同様に求める。"
   ]
  },
  {
   "cell_type": "markdown",
   "metadata": {},
   "source": [
    "### 《土間床等面積が0㎡より大きい場合の扱い》\n",
    "$$ \\qquad\n",
    "A_{b}=min(A_主 + A_他 + A_非, \\sum_{i}^{}S_{df,i})\n",
    "\\qquad (1)\n",
    "\\\\\n",
    "$$\n",
    "\n",
    "- 入力値：\n",
    "  - 室用途不明の空間に属する土間床等の部位iの面積$[m ^ 2]$：$S_{df,i}$\n",
    "\n",
    "- 出力値：\n",
    "\n",
    "  - 室と床下空間の間の床面積の合計$[m ^ 2]$：$A_{b}$"
   ]
  },
  {
   "cell_type": "markdown",
   "metadata": {},
   "source": [
    "### 《室用途別の床面積に応じた用途別面積の推定》\n",
    "$$ \\qquad\n",
    "A_{主,i,j}= \\frac{A_{i,j}・A_主}{A_主 + A_他 + A_非}, \\quad\n",
    "A_{他,i,j}= \\frac{A_{i,j}・A_他}{A_主 + A_他 + A_非}\\quad, \\quad\n",
    "A_{非,i,j}= \\frac{A_{i,j}・A_非}{A_主 + A_他 + A_非}\\quad\n",
    "\\qquad (2),\\;(3),\\;(4)\n",
    "\\\\\n",
    "$$\n",
    "$$ \\qquad\n",
    "L_{主,i,j}= \\frac{L_{i,j}・A_主}{A_主 + A_他 + A_非}, \\quad\n",
    "L_{他,i,j}= \\frac{L_{i,j}・A_他}{A_主 + A_他 + A_非}\\quad, \\quad\n",
    "L_{非,i,j}= \\frac{L_{i,j}・A_非}{A_主 + A_他 + A_非}\\quad\n",
    "\\qquad (5),\\;(6),\\;(7)\n",
    "\\\\\n",
    "$$\n",
    "- 入力値：\n",
    "\n",
    "  - 主居室、その他の居室、非居室の床面積$[m ^ 2]$：$A_主$、$A_他$、$A_非$\n",
    "  - 外皮の方位j、部位（一般部位又は開口部）𝑖の面積$[m ^ 2]$：$A_{i,j}$\n",
    "  - 熱橋及び土間床等の方位jの外周部𝑖の長さ$[m]$：$L_{i,j}$\n",
    "\n",
    "- 出力値：\n",
    "\n",
    "  - 主居室、その他の居室、非居室の外皮の方位j、部位（一般部位又は開口部）𝑖の面積$[m ^ 2]$：$A_{主,i,j}$、$A_{他,i,j}$、$A_{非,i,j}$\n",
    "  - 主居室、その他の居室、非居室の熱橋及び土間床等の方位jの外周部𝑖の面積$[m ^ 2]$：$L_{主,i,j}$、$L_{他,i,j}$、$L_{非,i,j}$\n",
    "    "
   ]
  },
  {
   "cell_type": "markdown",
   "metadata": {},
   "source": [
    "#### Function"
   ]
  },
  {
   "cell_type": "code",
   "execution_count": 2,
   "metadata": {
    "collapsed": true
   },
   "outputs": [],
   "source": [
    "def GetAreaByRoomUse( target_area, main_floor_area, other_floor_area, total_floor_area, space_type ):\n",
    "    # target_area as double      : 方位j、部位iの面積または長さ[m]\n",
    "    # total_floor_area as double : 床面積の合計[m]\n",
    "    # main_floor_area as double  : 主たる居室の床面積[m]\n",
    "    # other_floor_area as double : その他の居室の床面積[m]\n",
    "    # space_type as string       : 空間種類　'main' or 'other' or 'nonliving' or 'underfloor'\n",
    "\n",
    "    if space_type == 'main':\n",
    "        rate = main_floor_area / total_floor_area\n",
    "    elif space_type == 'other':\n",
    "        rate = other_floor_area / total_floor_area\n",
    "    elif space_type == 'nonliving':\n",
    "        rate = ( total_floor_area - ( main_floor_area + other_floor_area ) ) / total_floor_area\n",
    "    else :\n",
    "        raise ValueError('指定された空間種類は定義されていません')  \n",
    "    \n",
    "    return target_area * rate"
   ]
  },
  {
   "cell_type": "markdown",
   "metadata": {},
   "source": [
    "#### Example"
   ]
  },
  {
   "cell_type": "code",
   "execution_count": 3,
   "metadata": {},
   "outputs": [
    {
     "data": {
      "text/plain": [
       "12.5"
      ]
     },
     "execution_count": 3,
     "metadata": {},
     "output_type": "execute_result"
    }
   ],
   "source": [
    "area = GetAreaByRoomUse(50.0, 30.0, 60.0, 120.0, 'main')\n",
    "area"
   ]
  },
  {
   "cell_type": "markdown",
   "metadata": {},
   "source": [
    "## 2. コンバート\n",
    "### 1) 共通\n",
    "\n",
    "- 地域の区分、主たる居室の床面積(m<sup>2</sup>)、その他の床面積(m<sup>2</sup>)、床面積の合計(m<sup>2</sup>)、簡易外皮入力フラグの情報は維持する。"
   ]
  },
  {
   "cell_type": "markdown",
   "metadata": {},
   "source": [
    "#### Input\n",
    "\n",
    "```\n",
    "{\n",
    "    'Region'                      : # 地域の区分 1 ~ 8 の整数\n",
    "    'IsSimplifiedInput'           : # bool値 簡易入力から生成したデータか否かを表す, LV1からの場合は常にTrueとなる。\n",
    "    'MainOccupantRoomFloorArea'   : # 主たる居室の床面積(m2)\n",
    "    'OtherOccupantRoomFloorArea'  : # その他の居室の床面積(m2)\n",
    "    'TotalFloorArea'              : # 床面積の合計(m2)\n",
    "}\n",
    "```"
   ]
  },
  {
   "cell_type": "markdown",
   "metadata": {},
   "source": [
    "#### Output\n",
    "\n",
    "```\n",
    "{\n",
    "    'Region'                      : # 地域の区分 1 ~ 8 の整数\n",
    "    'IsSimplifiedInput'           : # bool値 簡易入力から生成したデータか否かを表す, LV1からの場合は常にTrueとなる。\n",
    "    'MainOccupantRoomFloorArea'   : # 主たる居室の床面積(m2)\n",
    "    'OtherOccupantRoomFloorArea'  : # その他の居室の床面積(m2)\n",
    "    'TotalFloorArea'              : # 床面積の合計(m2)\n",
    "}\n",
    "```"
   ]
  },
  {
   "cell_type": "markdown",
   "metadata": {},
   "source": [
    "#### Function"
   ]
  },
  {
   "cell_type": "code",
   "execution_count": 4,
   "metadata": {
    "collapsed": true
   },
   "outputs": [],
   "source": [
    "def convert_common(d):\n",
    "    return {\n",
    "        'Region'                     : d['Region'],\n",
    "        'IsSimplifiedInput'          : d['IsSimplifiedInput'],\n",
    "        'MainOccupantRoomFloorArea'  : d['MainOccupantRoomFloorArea'],\n",
    "        'OtherOccupantRoomFloorArea' : d['OtherOccupantRoomFloorArea'],\n",
    "        'TotalFloorArea'             : d['TotalFloorArea']\n",
    "    }"
   ]
  },
  {
   "cell_type": "markdown",
   "metadata": {},
   "source": [
    "#### Example"
   ]
  },
  {
   "cell_type": "code",
   "execution_count": 5,
   "metadata": {},
   "outputs": [
    {
     "data": {
      "text/plain": [
       "{'IsSimplifiedInput': True,\n",
       " 'MainOccupantRoomFloorArea': 30.0,\n",
       " 'OtherOccupantRoomFloorArea': 60.0,\n",
       " 'Region': 6,\n",
       " 'TotalFloorArea': 120.0}"
      ]
     },
     "execution_count": 5,
     "metadata": {},
     "output_type": "execute_result"
    }
   ],
   "source": [
    "convert_common({\n",
    "    'Region' : 6,\n",
    "    'IsSimplifiedInput': True,\n",
    "    'MainOccupantRoomFloorArea': 30.0,\n",
    "    'OtherOccupantRoomFloorArea': 60.0,\n",
    "    'TotalFloorArea': 120.0\n",
    "})"
   ]
  },
  {
   "cell_type": "markdown",
   "metadata": {},
   "source": [
    "## 2-2. コンバート【分類：壁体構成】"
   ]
  },
  {
   "cell_type": "markdown",
   "metadata": {},
   "source": [
    "- 地域の区分、壁体名称、一般部位構造種別、壁体種別、層構成（部材名称、厚さ[m]、熱伝導率[W/mK)、容積比熱[(J/(m<sup>3</sup>・K)]、平均熱貫流率[W/(m<sup>2</sup>・K)]、一般部熱貫流率[W/(m<sup>2</sup>・K)]、木造熱橋部計算方法、熱橋部面積比率[-]、熱橋部熱貫流率(W/[m<sup>2</sup>・K)]、熱橋長さ[m]、線熱貫流率[W/(m・K)]、補正熱貫流率[W/(m<sup>2</sup>・K)]の情報は維持する。"
   ]
  },
  {
   "cell_type": "markdown",
   "metadata": {},
   "source": [
    "### Input"
   ]
  },
  {
   "cell_type": "markdown",
   "metadata": {},
   "source": [
    "```\n",
    "data = {\n",
    "    'name'                        : # 壁体名称\n",
    "    'structure'                   : # 一般部位構造種別 1 ~ 4 の整数\n",
    "    'type'                        : # 壁体種別 1 ~ 6 の整数\n",
    "    'Layers'                      : {\n",
    "        'matrial'                 : # 部材名称\n",
    "        'd'                       : # 厚さ(m)\n",
    "        'lambda'                  : # 熱伝導率(W/(m・K))\n",
    "        'Crho'                    : # 容積比熱(J/(m3・K))\n",
    "    }\n",
    "    'Ua'                          : # 平均熱貫流率(W/(m2・K))\n",
    "    'Ug'                          : # 一般部熱貫流率(W/(m2・K))\n",
    "    'HeatBridge'                  : # 木造熱橋部計算方法 1 ~ 3 の整数   一般部位構造種別=1\n",
    "    'rHeatBridge'                 : # 熱橋部面積比率(-)               木造熱橋部計算方法=1 or 木造熱橋部計算方法=2\n",
    "    'UHeatBridge'                 : # 熱橋部熱貫流率(W/(m2・K))       木造熱橋部計算方法=1 or 木造熱橋部計算方法=2\n",
    "    'lHeatBridge'                 : # 熱橋長さ(m)                    一般部位構造種別=2 or 一般部位構造種別=3\n",
    "    'psiHeatBridge'               : # 線熱貫流率(W/(m・K))            一般部位構造種別=2 or 一般部位構造種別=3\n",
    "    'Ur'                          : # 補正熱貫流率(W/(m2・K))         木造熱橋部計算方法=3 or 一般部位構造種別=3\n",
    "}\n",
    "```"
   ]
  },
  {
   "cell_type": "markdown",
   "metadata": {},
   "source": [
    "### Output"
   ]
  },
  {
   "cell_type": "markdown",
   "metadata": {},
   "source": [
    "```\n",
    "data = {\n",
    "    'name'                        : # 壁体名称\n",
    "    'structure'                   : # 一般部位構造種別 1 ~ 4 の整数\n",
    "    'type'                        : # 壁体種別 1 ~ 6 の整数\n",
    "    'Layers'                      : {\n",
    "        'matrial'                 : # 部材名称\n",
    "        'd'                       : # 厚さ(m)\n",
    "        'lambda'                  : # 熱伝導率(W/(m・K))\n",
    "        'Crho'                    : # 容積比熱(J/(m3・K))\n",
    "    }\n",
    "    'Ua'                          : # 平均熱貫流率(W/(m2・K))\n",
    "    'Ug'                          : # 一般部熱貫流率(W/(m2・K))\n",
    "    'HeatBridge'                  : # 木造熱橋部計算方法 1 ~ 3 の整数   一般部位構造種別=1\n",
    "    'rHeatBridge'                 : # 熱橋部面積比率(-)               木造熱橋部計算方法=1 or 木造熱橋部計算方法=2\n",
    "    'UHeatBridge'                 : # 熱橋部熱貫流率(W/(m2・K))       木造熱橋部計算方法=1 or 木造熱橋部計算方法=2\n",
    "    'lHeatBridge'                 : # 熱橋長さ(m)                    一般部位構造種別=2 or 一般部位構造種別=3\n",
    "    'psiHeatBridge'               : # 線熱貫流率(W/(m・K))            一般部位構造種別=2 or 一般部位構造種別=3\n",
    "    'Ur'                          : # 補正熱貫流率(W/(m2・K))         木造熱橋部計算方法=3 or 一般部位構造種別=3\n",
    "}\n",
    "```"
   ]
  },
  {
   "cell_type": "markdown",
   "metadata": {},
   "source": [
    "### Function"
   ]
  },
  {
   "cell_type": "code",
   "execution_count": 3,
   "metadata": {
    "collapsed": true
   },
   "outputs": [],
   "source": [
    "def convert_wall(d):\n",
    "    return {\n",
    "        'name'                        : d['name'],\n",
    "        'structure'                   : d['structure'],\n",
    "        'type'                        : d['type'],\n",
    "        'Layers'                      : d['Layers'],\n",
    "        'Ua'                          : d['Ua'],\n",
    "        'Ug'                          : d['Ug'],\n",
    "        'HeatBridge'                  : d['HeatBridge'],\n",
    "        'rHeatBridge'                 : d['rHeatBridge'],\n",
    "        'UHeatBridge'                 : d['UHeatBridge'],\n",
    "        'lHeatBridge'                 : d['lHeatBridge'],\n",
    "        'psiHeatBridge'               : d['psiHeatBridge'],\n",
    "        'Ur'                          : d['Ur']\n",
    "    }"
   ]
  },
  {
   "cell_type": "markdown",
   "metadata": {},
   "source": [
    "### Example"
   ]
  },
  {
   "cell_type": "code",
   "execution_count": 4,
   "metadata": {},
   "outputs": [
    {
     "data": {
      "text/plain": [
       "{'HeatBridge': None,\n",
       " 'Layers': [{'Crho': 13, 'd': 0.076, 'material': 'GW16K', 'rambda': 0.045},\n",
       "  {'Crho': 830, 'd': 0.0095, 'material': 'GPB', 'rambda': 0.22}],\n",
       " 'UHeatBridge': None,\n",
       " 'Ua': 0.53,\n",
       " 'Ug': None,\n",
       " 'Ur': None,\n",
       " 'lHeatBridge': None,\n",
       " 'name': 'Sample Wall',\n",
       " 'psiHeatBridge': None,\n",
       " 'rHeatBridge': None,\n",
       " 'structure': 1,\n",
       " 'type': 2}"
      ]
     },
     "execution_count": 4,
     "metadata": {},
     "output_type": "execute_result"
    }
   ],
   "source": [
    "convert_wall({\n",
    "    'name'                        : 'Sample Wall',\n",
    "    'structure'                   : 1,\n",
    "    'type'                        : 2,\n",
    "    'Layers'                      : [{'material': 'GW16K','d': 0.076,'rambda': 0.045,'Crho': 13},\n",
    "                                     {'material': 'GPB','d': 0.0095,'rambda': 0.22,'Crho': 830}],\n",
    "    'Ua'                          : 0.53,\n",
    "    'Ug'                          : None,\n",
    "    'HeatBridge'                  : None,\n",
    "    'rHeatBridge'                 : None,\n",
    "    'UHeatBridge'                 : None,\n",
    "    'lHeatBridge'                 : None,\n",
    "    'psiHeatBridge'               : None,\n",
    "    'Ur'                          : None\n",
    "})"
   ]
  },
  {
   "cell_type": "markdown",
   "metadata": {},
   "source": [
    "## 2-3. コンバート【分類：開口部】"
   ]
  },
  {
   "cell_type": "markdown",
   "metadata": {},
   "source": [
    "- 開口部名称、日射熱取得率[-]、熱貫流率[W/(m<sup>2</sup>・K)]の情報は維持する。"
   ]
  },
  {
   "cell_type": "markdown",
   "metadata": {},
   "source": [
    "### Input"
   ]
  },
  {
   "cell_type": "markdown",
   "metadata": {},
   "source": [
    "```\n",
    "data = {\n",
    "    'name'                        : # 開口部名称\n",
    "    'eta'                         : # 日射熱取得率(-)         簡易外皮入力フラグ=2\n",
    "    'etaCooling'                  : # 日射熱取得率（夏期）(-)   簡易外皮入力フラグ=1\n",
    "    'etaHeating'                  : # 日射熱取得率（冬期）(-)   簡易外皮入力フラグ=1\n",
    "    'U'                           : # 熱貫流率(W/(m2・K))\n",
    "}\n",
    "```"
   ]
  },
  {
   "cell_type": "markdown",
   "metadata": {},
   "source": [
    "### Output"
   ]
  },
  {
   "cell_type": "markdown",
   "metadata": {},
   "source": [
    "```\n",
    "data = {\n",
    "    'name'                        : # 開口部名称\n",
    "    'eta'                         : # 日射熱取得率(-)         簡易外皮入力フラグ=2\n",
    "    'etaCooling'                  : # 日射熱取得率（夏期）(-)   簡易外皮入力フラグ=1\n",
    "    'etaHeating'                  : # 日射熱取得率（冬期）(-)   簡易外皮入力フラグ=1\n",
    "    'U'                           : # 熱貫流率(W/(m2・K))\n",
    "}\n",
    "```"
   ]
  },
  {
   "cell_type": "markdown",
   "metadata": {},
   "source": [
    "### Function"
   ]
  },
  {
   "cell_type": "code",
   "execution_count": 5,
   "metadata": {
    "collapsed": true
   },
   "outputs": [],
   "source": [
    "def convert_window(d):\n",
    "    return {\n",
    "        'name'                        : d['name'],\n",
    "        'eta'                         : d['eta'],\n",
    "        'etaCooling'                  : d['etaCooling'],\n",
    "        'etaHeating'                  : d['etaHeating'],\n",
    "        'U'                           : d['U']\n",
    "    }"
   ]
  },
  {
   "cell_type": "markdown",
   "metadata": {},
   "source": [
    "### Example"
   ]
  },
  {
   "cell_type": "code",
   "execution_count": 6,
   "metadata": {},
   "outputs": [
    {
     "data": {
      "text/plain": [
       "{'U': 4.65,\n",
       " 'eta': 0.738,\n",
       " 'etaCooling': None,\n",
       " 'etaHeating': None,\n",
       " 'name': 'Sample Window'}"
      ]
     },
     "execution_count": 6,
     "metadata": {},
     "output_type": "execute_result"
    }
   ],
   "source": [
    "convert_window({\n",
    "    'name'                        : 'Sample Window',\n",
    "    'eta'                         : 0.738,\n",
    "    'etaCooling'                  : None,\n",
    "    'etaHeating'                  : None,\n",
    "    'U'                           : 4.65\n",
    "})"
   ]
  },
  {
   "cell_type": "markdown",
   "metadata": {},
   "source": [
    "## 2-4. コンバート【分類：外部日除け】"
   ]
  },
  {
   "cell_type": "markdown",
   "metadata": {},
   "source": [
    "- 外部日除け名称、窓上端と外部日除けの距離[m]、開口部高さ[m]、出巾[m]、取得日射熱補正係数[-]の情報は維持する。"
   ]
  },
  {
   "cell_type": "markdown",
   "metadata": {},
   "source": [
    "### Input"
   ]
  },
  {
   "cell_type": "markdown",
   "metadata": {},
   "source": [
    "```\n",
    "data = {\n",
    "    'name'                        : # 外部日除け名称\n",
    "    'y1'                          : # 窓上端と外部日除けの距離(m)    簡易外皮入力フラグ=2\n",
    "    'y2'                          : # 開口部高さ(m)                簡易外皮入力フラグ=2\n",
    "    'z'                           : # 出巾(m)                     簡易外皮入力フラグ=2\n",
    "    'fCooling'                    : # 取得日射熱補正係数（夏期）(-)   簡易外皮入力フラグ=1\n",
    "    'fHeating'                    : # 取得日射熱補正係数（冬期）(-)   簡易外皮入力フラグ=1\n",
    "}\n",
    "```"
   ]
  },
  {
   "cell_type": "markdown",
   "metadata": {},
   "source": [
    "### Output"
   ]
  },
  {
   "cell_type": "markdown",
   "metadata": {
    "collapsed": true
   },
   "source": [
    "```\n",
    "data = {\n",
    "    'name'                        : # 外部日除け名称\n",
    "    'y1'                          : # 窓上端と外部日除けの距離(m)    簡易外皮入力フラグ=2\n",
    "    'y2'                          : # 開口部高さ(m)                簡易外皮入力フラグ=2\n",
    "    'z'                           : # 出巾(m)                     簡易外皮入力フラグ=2\n",
    "    'fCooling'                    : # 取得日射熱補正係数（夏期）(-)   簡易外皮入力フラグ=1\n",
    "    'fHeating'                    : # 取得日射熱補正係数（冬期）(-)   簡易外皮入力フラグ=1\n",
    "}\n",
    "```"
   ]
  },
  {
   "cell_type": "markdown",
   "metadata": {},
   "source": [
    "### Function"
   ]
  },
  {
   "cell_type": "code",
   "execution_count": 7,
   "metadata": {
    "collapsed": true
   },
   "outputs": [],
   "source": [
    "def convert_sunshade(d):\n",
    "    return {\n",
    "        'name'                        : d['name'],\n",
    "        'y1'                          : d['y1'],\n",
    "        'y2'                          : d['y2'], \n",
    "        'z'                           : d['z'],\n",
    "        'fCooling'                    : d['fCooling'],\n",
    "        'fHeating'                    : d['fHeating']\n",
    "    }"
   ]
  },
  {
   "cell_type": "markdown",
   "metadata": {},
   "source": [
    "### Example"
   ]
  },
  {
   "cell_type": "code",
   "execution_count": 8,
   "metadata": {},
   "outputs": [
    {
     "data": {
      "text/plain": [
       "{'fCooling': None,\n",
       " 'fHeating': None,\n",
       " 'name': 'Sample Sunshade',\n",
       " 'y1': 1,\n",
       " 'y2': 1,\n",
       " 'z': 1}"
      ]
     },
     "execution_count": 8,
     "metadata": {},
     "output_type": "execute_result"
    }
   ],
   "source": [
    "convert_sunshade({\n",
    "    'name'                        : 'Sample Sunshade',\n",
    "    'y1'                          : 1,\n",
    "    'y2'                          : 1, \n",
    "    'z'                           : 1,\n",
    "    'fCooling'                    : None,\n",
    "    'fHeating'                    : None\n",
    "})"
   ]
  },
  {
   "cell_type": "markdown",
   "metadata": {},
   "source": [
    "## 2-5. コンバート【分類：部位情報】"
   ]
  },
  {
   "cell_type": "markdown",
   "metadata": {},
   "source": [
    "- 壁体・開口部名称、外皮フラグ、日射フラグ、日射フラグ、非定常フラグ、外部日除け名称の情報は維持する。\n",
    "- 新たに変数「空間種類」「隣接空間種類」を作成する。\n",
    "- 用途別の部位面積[m<sup>2</sup>]、部位長さ[m<sup>2</sup>]を、室用途別の床面積より推定する。\n",
    "- 土間床等面積が0㎡より大きい場合、基礎断熱部は床下空間に属するものとみなし、室と床下空間の間の床の合計面積は土間床等面積の合計に等しいとみなす。室と床下空間の間の床は、仕様を想定して与える（合板12mm、参考：SimHeatでの熱負荷計算用の無断熱の層構成）"
   ]
  },
  {
   "cell_type": "markdown",
   "metadata": {},
   "source": [
    "### Input"
   ]
  },
  {
   "cell_type": "markdown",
   "metadata": {},
   "source": [
    "```\n",
    "data = {\n",
    "    'name'                        : # 壁体・開口部名称\n",
    "    'FlagPerimeter'               : # 外皮フラグ 1 ~ 2 の整数\n",
    "    'FlagSolarRadiation'          : # 日射フラグ 1 ~ 2 の整数\n",
    "    'direction'                   : # 方位 1 ~ 14 の整数\n",
    "    'FlagUnsteady'                : # 非定常フラグ 1 ~ 2 の整数\n",
    "    'A'                           : # 部位面積(m2)\n",
    "    'L'                           : # 部位長さ(m)\n",
    "    'sunshade'                    : # 外部日除け名称\n",
    "}\n",
    "```"
   ]
  },
  {
   "cell_type": "markdown",
   "metadata": {},
   "source": [
    "### Output"
   ]
  },
  {
   "cell_type": "markdown",
   "metadata": {
    "collapsed": true
   },
   "source": [
    "```\n",
    "data = {\n",
    "    'name'                        : # 壁体・開口部名称\n",
    "    'Room'                        : # 空間種類\n",
    "    'FlagPerimeter'               : # 外皮フラグ 1 ~ 2 の整数\n",
    "    'FlagSolarRadiation'          : # 日射フラグ 1 ~ 2 の整数\n",
    "    'direction'                   : # 方位 1 ~ 14 の整数\n",
    "    'AdjacentSpace'               : # 隣接空間種類\n",
    "    'FlagUnsteady'                : # 非定常フラグ 1 ~ 2 の整数\n",
    "    'A'                           : # 部位面積(m2)\n",
    "    'L'                           : # 部位長さ(m)\n",
    "    'sunshade'                    : # 外部日除け名称\n",
    "}\n",
    "```"
   ]
  },
  {
   "cell_type": "markdown",
   "metadata": {},
   "source": [
    "### Function"
   ]
  },
  {
   "cell_type": "code",
   "execution_count": 9,
   "metadata": {},
   "outputs": [],
   "source": [
    "def convert_element(d_common,d_elements):\n",
    "\n",
    "    for d_element in d_elements:\n",
    "        d_element['AdjacentSpace'] = None\n",
    "    AEarthFloor=0\n",
    "    for d in d_elements:\n",
    "        if d['direction']==15:\n",
    "            AEarthFloor=d['A']        \n",
    "    if AEarthFloor>0:\n",
    "        d_elements.append({'name': 'FloorNotPerimeter','FlagPerimeter': 1,'FlagSolarRadiation': 2,'direction': 14,\n",
    "                       'AdjacentSpace':'Underfloor','FlagUnsteady': 1,'A':AEarthFloor,'L': None,'sunshade': None})\n",
    "            \n",
    "    #主たる居室、その他の居室、非居室の床面積比率\n",
    "    rMain=d_common['MainOccupantRoomFloorArea']/d_common['TotalFloorArea']\n",
    "    rOther=d_common['OtherOccupantRoomFloorArea']/d_common['TotalFloorArea']\n",
    "    rNon=1-rMain-rOther\n",
    "    \n",
    "    elements=[]\n",
    "    for d_element in d_elements:\n",
    "        if d_element['direction']==15:\n",
    "            elements.append({\n",
    "                'name'                        : d_element['name'],\n",
    "                'Room'                        : 'Underfloor',\n",
    "                'FlagPerimeter'               : d_element['FlagPerimeter'],\n",
    "                'FlagSolarRadiation'          : d_element['FlagSolarRadiation'],\n",
    "                'direction'                   : d_element['direction'],\n",
    "                'AdjacentSpace'               : d_element['AdjacentSpace'],\n",
    "                'FlagUnsteady'                : d_element['FlagUnsteady'],\n",
    "                'A'                           : d_element['A'],\n",
    "                'L'                           : d_element['L'],\n",
    "                'sunshade'                    : d_element['sunshade']\n",
    "            })\n",
    "        else:\n",
    "            if d_element['A'] is not None:\n",
    "                AMain=d_element['A']*rMain\n",
    "                AOther=d_element['A']*rOther\n",
    "                ANon=d_element['A']*rNon\n",
    "            else:\n",
    "                AMain=None\n",
    "                AOther=None\n",
    "                ANon=d_None       \n",
    "\n",
    "            if d_element['L'] is not None:\n",
    "                LMain=d_element['L']*rMain\n",
    "                LOther=d_element['L']*rOther\n",
    "                LNon=d_element['L']*rNon\n",
    "            else:\n",
    "                LMain=None\n",
    "                LOther=None\n",
    "                LNon=None \n",
    "\n",
    "            temporary=[{\n",
    "                'name'                        : d_element['name'],\n",
    "                'Room'                        : 'MainOccupantRoom',\n",
    "                'FlagPerimeter'               : d_element['FlagPerimeter'],\n",
    "                'FlagSolarRadiation'          : d_element['FlagSolarRadiation'],\n",
    "                'direction'                   : d_element['direction'],\n",
    "                'AdjacentSpace'               : d_element['AdjacentSpace'],\n",
    "                'FlagUnsteady'                : d_element['FlagUnsteady'],\n",
    "                'A'                           : AMain,\n",
    "                'L'                           : LMain,\n",
    "                'sunshade'                    : d_element['sunshade']\n",
    "            },{\n",
    "                'name'                        : d_element['name'],\n",
    "                'Room'                        : 'OtherOccupantRoomFloorArea',\n",
    "                'FlagPerimeter'               : d_element['FlagPerimeter'],\n",
    "                'FlagSolarRadiation'          : d_element['FlagSolarRadiation'],\n",
    "                'direction'                   : d_element['direction'],\n",
    "                'AdjacentSpace'               : d_element['AdjacentSpace'],\n",
    "                'FlagUnsteady'                : d_element['FlagUnsteady'],\n",
    "                'A'                           : AOther,\n",
    "                'L'                           : LOther,\n",
    "                'sunshade'                    : d_element['sunshade']\n",
    "            },{\n",
    "                'name'                        : d_element['name'],\n",
    "                'Room'                        : 'NonOccupantRoomFloorArea',\n",
    "                'FlagPerimeter'               : d_element['FlagPerimeter'],\n",
    "                'FlagSolarRadiation'          : d_element['FlagSolarRadiation'],\n",
    "                'direction'                   : d_element['direction'],\n",
    "                'AdjacentSpace'               : d_element['AdjacentSpace'],\n",
    "                'FlagUnsteady'                : d_element['FlagUnsteady'],\n",
    "                'A'                           : ANon,\n",
    "                'L'                           : LNon,\n",
    "                'sunshade'                    : d_element['sunshade']\n",
    "            }]\n",
    "            for i in range(0,3):\n",
    "                elements.append(temporary[i])\n",
    "\n",
    "    return elements"
   ]
  },
  {
   "cell_type": "markdown",
   "metadata": {},
   "source": [
    "### Example"
   ]
  },
  {
   "cell_type": "code",
   "execution_count": 10,
   "metadata": {},
   "outputs": [
    {
     "data": {
      "text/plain": [
       "[{'A': 7.5,\n",
       "  'AdjacentSpace': None,\n",
       "  'FlagPerimeter': 1,\n",
       "  'FlagSolarRadiation': 2,\n",
       "  'FlagUnsteady': 1,\n",
       "  'L': None,\n",
       "  'Room': 'MainOccupantRoom',\n",
       "  'direction': 12,\n",
       "  'name': 'Floor',\n",
       "  'sunshade': None},\n",
       " {'A': 15.0,\n",
       "  'AdjacentSpace': None,\n",
       "  'FlagPerimeter': 1,\n",
       "  'FlagSolarRadiation': 2,\n",
       "  'FlagUnsteady': 1,\n",
       "  'L': None,\n",
       "  'Room': 'OtherOccupantRoomFloorArea',\n",
       "  'direction': 12,\n",
       "  'name': 'Floor',\n",
       "  'sunshade': None},\n",
       " {'A': 7.5,\n",
       "  'AdjacentSpace': None,\n",
       "  'FlagPerimeter': 1,\n",
       "  'FlagSolarRadiation': 2,\n",
       "  'FlagUnsteady': 1,\n",
       "  'L': None,\n",
       "  'Room': 'NonOccupantRoomFloorArea',\n",
       "  'direction': 12,\n",
       "  'name': 'Floor',\n",
       "  'sunshade': None},\n",
       " {'A': 30,\n",
       "  'AdjacentSpace': None,\n",
       "  'FlagPerimeter': 1,\n",
       "  'FlagSolarRadiation': 2,\n",
       "  'FlagUnsteady': 1,\n",
       "  'L': None,\n",
       "  'Room': 'Underfloor',\n",
       "  'direction': 15,\n",
       "  'name': 'EarthFloor',\n",
       "  'sunshade': None},\n",
       " {'A': 7.5,\n",
       "  'AdjacentSpace': 'Underfloor',\n",
       "  'FlagPerimeter': 1,\n",
       "  'FlagSolarRadiation': 2,\n",
       "  'FlagUnsteady': 1,\n",
       "  'L': None,\n",
       "  'Room': 'MainOccupantRoom',\n",
       "  'direction': 14,\n",
       "  'name': 'FloorNotPerimeter',\n",
       "  'sunshade': None},\n",
       " {'A': 15.0,\n",
       "  'AdjacentSpace': 'Underfloor',\n",
       "  'FlagPerimeter': 1,\n",
       "  'FlagSolarRadiation': 2,\n",
       "  'FlagUnsteady': 1,\n",
       "  'L': None,\n",
       "  'Room': 'OtherOccupantRoomFloorArea',\n",
       "  'direction': 14,\n",
       "  'name': 'FloorNotPerimeter',\n",
       "  'sunshade': None},\n",
       " {'A': 7.5,\n",
       "  'AdjacentSpace': 'Underfloor',\n",
       "  'FlagPerimeter': 1,\n",
       "  'FlagSolarRadiation': 2,\n",
       "  'FlagUnsteady': 1,\n",
       "  'L': None,\n",
       "  'Room': 'NonOccupantRoomFloorArea',\n",
       "  'direction': 14,\n",
       "  'name': 'FloorNotPerimeter',\n",
       "  'sunshade': None}]"
      ]
     },
     "execution_count": 10,
     "metadata": {},
     "output_type": "execute_result"
    }
   ],
   "source": [
    "convert_element({\n",
    "    'Region' : 6,\n",
    "    'FlagSimplifiedEnvelopeInput': 1,\n",
    "    'MainOccupantRoomFloorArea': 30.0,\n",
    "    'OtherOccupantRoomFloorArea': 60.0,\n",
    "    'TotalFloorArea': 120.0\n",
    "    },[{\n",
    "            'name'                    : 'Floor',\n",
    "            'FlagPerimeter'           : 1,\n",
    "            'FlagSolarRadiation'      : 2,\n",
    "            'direction'               : 12,\n",
    "            'FlagUnsteady'            : 1,\n",
    "            'A'                       : 30,\n",
    "            'L'                       : None,\n",
    "            'sunshade'                : None\n",
    "        },{\n",
    "            'name'                    : 'EarthFloor',\n",
    "            'FlagPerimeter'           : 1,\n",
    "            'FlagSolarRadiation'      : 2,\n",
    "            'direction'               : 15,\n",
    "            'FlagUnsteady'            : 1,\n",
    "            'A'                       : 30,\n",
    "            'L'                       : None,\n",
    "            'sunshade'                : None\n",
    "        }\n",
    "    ]\n",
    ")"
   ]
  },
  {
   "cell_type": "markdown",
   "metadata": {
    "collapsed": true
   },
   "source": [
    "## 2-6. コンバート【全分類】"
   ]
  },
  {
   "cell_type": "code",
   "execution_count": 11,
   "metadata": {
    "collapsed": true
   },
   "outputs": [],
   "source": [
    "def Convert(d):\n",
    "    d_common=convert_common(d['Common'])\n",
    "    d_ceiling=convert_wall(d['Ceiling'])\n",
    "    d_wall=convert_wall(d['Wall'])\n",
    "    d_floor=convert_wall(d['Floor'])\n",
    "    d_window=convert_window(d['Window'])\n",
    "    d_door=convert_window(d['Door'])\n",
    "    d_sunshade=convert_sunshade(d['Sunshade'])\n",
    "\n",
    "    temporary=convert_element(d_common, d['Elements'])\n",
    "    d_element=[]\n",
    "    for e in temporary:\n",
    "        if e['name']=='Ceiling':\n",
    "            e['Wall']=d_ceiling\n",
    "        elif e['name']=='Wall':\n",
    "            e['Wall']=d_wall\n",
    "        elif e['name']=='Floor':\n",
    "            e['Wall']=d_floor\n",
    "        elif e['name']=='EarthFloor':\n",
    "            e['FloorNonPerimeter']={\n",
    "                    'name'                       : 'FloorNotPerimeter',\n",
    "                    'structure'                  : 1,\n",
    "                    'type'                       : 3,\n",
    "                    'Layers'                     : [{'material': 'PED','d': 0.012,'rambda': 0.16,'Crho': 720}],\n",
    "                    'Ua'                         : 3.77,\n",
    "                    'Ug'                         : None,\n",
    "                    'HeatBridge'                 : None,\n",
    "                    'rHeatBridge'                : None,\n",
    "                    'UHeatBridge'                : None,\n",
    "                    'lHeatBridge'                : None,\n",
    "                    'psiHeatBridge'              : None,\n",
    "                    'Ur'                         : None\n",
    "                }\n",
    "        elif e['name']=='Window':\n",
    "            e['Window']=d_window\n",
    "            e['Sunshade']=d_sunshade\n",
    "        elif e['name']=='Door':\n",
    "            e['Door']=d_door\n",
    "        d_element.append(e)\n",
    "\n",
    "    return {'common':d_common,'element':d_element}"
   ]
  },
  {
   "cell_type": "code",
   "execution_count": 12,
   "metadata": {},
   "outputs": [
    {
     "data": {
      "text/plain": [
       "{'common': {'FlagSimplifiedEnvelopeInput': 2,\n",
       "  'MainOccupantRoomFloorArea': 30.0,\n",
       "  'OtherOccupantRoomFloorArea': 60.0,\n",
       "  'Region': 6,\n",
       "  'TotalFloorArea': 120.0},\n",
       " 'element': [{'A': 15.0,\n",
       "   'AdjacentSpace': None,\n",
       "   'FlagPerimeter': 1,\n",
       "   'FlagSolarRadiation': 1,\n",
       "   'FlagUnsteady': 1,\n",
       "   'L': None,\n",
       "   'Room': 'MainOccupantRoom',\n",
       "   'Wall': {'HeatBridge': None,\n",
       "    'Layers': [{'Crho': 13, 'd': 0.179, 'material': 'GW16K', 'rambda': 0.045},\n",
       "     {'Crho': 830, 'd': 0.0095, 'material': 'GPB', 'rambda': 0.22}],\n",
       "    'UHeatBridge': None,\n",
       "    'Ua': 0.24,\n",
       "    'Ug': None,\n",
       "    'Ur': None,\n",
       "    'lHeatBridge': None,\n",
       "    'name': 'Ceiling',\n",
       "    'psiHeatBridge': None,\n",
       "    'rHeatBridge': None,\n",
       "    'structure': 1,\n",
       "    'type': 1},\n",
       "   'direction': 1,\n",
       "   'name': 'Ceiling',\n",
       "   'sunshade': None},\n",
       "  {'A': 30.0,\n",
       "   'AdjacentSpace': None,\n",
       "   'FlagPerimeter': 1,\n",
       "   'FlagSolarRadiation': 1,\n",
       "   'FlagUnsteady': 1,\n",
       "   'L': None,\n",
       "   'Room': 'OtherOccupantRoomFloorArea',\n",
       "   'Wall': {'HeatBridge': None,\n",
       "    'Layers': [{'Crho': 13, 'd': 0.179, 'material': 'GW16K', 'rambda': 0.045},\n",
       "     {'Crho': 830, 'd': 0.0095, 'material': 'GPB', 'rambda': 0.22}],\n",
       "    'UHeatBridge': None,\n",
       "    'Ua': 0.24,\n",
       "    'Ug': None,\n",
       "    'Ur': None,\n",
       "    'lHeatBridge': None,\n",
       "    'name': 'Ceiling',\n",
       "    'psiHeatBridge': None,\n",
       "    'rHeatBridge': None,\n",
       "    'structure': 1,\n",
       "    'type': 1},\n",
       "   'direction': 1,\n",
       "   'name': 'Ceiling',\n",
       "   'sunshade': None},\n",
       "  {'A': 15.0,\n",
       "   'AdjacentSpace': None,\n",
       "   'FlagPerimeter': 1,\n",
       "   'FlagSolarRadiation': 1,\n",
       "   'FlagUnsteady': 1,\n",
       "   'L': None,\n",
       "   'Room': 'NonOccupantRoomFloorArea',\n",
       "   'Wall': {'HeatBridge': None,\n",
       "    'Layers': [{'Crho': 13, 'd': 0.179, 'material': 'GW16K', 'rambda': 0.045},\n",
       "     {'Crho': 830, 'd': 0.0095, 'material': 'GPB', 'rambda': 0.22}],\n",
       "    'UHeatBridge': None,\n",
       "    'Ua': 0.24,\n",
       "    'Ug': None,\n",
       "    'Ur': None,\n",
       "    'lHeatBridge': None,\n",
       "    'name': 'Ceiling',\n",
       "    'psiHeatBridge': None,\n",
       "    'rHeatBridge': None,\n",
       "    'structure': 1,\n",
       "    'type': 1},\n",
       "   'direction': 1,\n",
       "   'name': 'Ceiling',\n",
       "   'sunshade': None},\n",
       "  {'A': 15.0,\n",
       "   'AdjacentSpace': None,\n",
       "   'FlagPerimeter': 1,\n",
       "   'FlagSolarRadiation': 1,\n",
       "   'FlagUnsteady': 1,\n",
       "   'L': None,\n",
       "   'Room': 'MainOccupantRoom',\n",
       "   'Wall': {'HeatBridge': None,\n",
       "    'Layers': [{'Crho': 13, 'd': 0.076, 'material': 'GW16K', 'rambda': 0.045},\n",
       "     {'Crho': 830, 'd': 0.0095, 'material': 'GPB', 'rambda': 0.22}],\n",
       "    'UHeatBridge': None,\n",
       "    'Ua': 0.53,\n",
       "    'Ug': None,\n",
       "    'Ur': None,\n",
       "    'lHeatBridge': None,\n",
       "    'name': 'Wall',\n",
       "    'psiHeatBridge': None,\n",
       "    'rHeatBridge': None,\n",
       "    'structure': 1,\n",
       "    'type': 2},\n",
       "   'direction': 6,\n",
       "   'name': 'Wall',\n",
       "   'sunshade': None},\n",
       "  {'A': 30.0,\n",
       "   'AdjacentSpace': None,\n",
       "   'FlagPerimeter': 1,\n",
       "   'FlagSolarRadiation': 1,\n",
       "   'FlagUnsteady': 1,\n",
       "   'L': None,\n",
       "   'Room': 'OtherOccupantRoomFloorArea',\n",
       "   'Wall': {'HeatBridge': None,\n",
       "    'Layers': [{'Crho': 13, 'd': 0.076, 'material': 'GW16K', 'rambda': 0.045},\n",
       "     {'Crho': 830, 'd': 0.0095, 'material': 'GPB', 'rambda': 0.22}],\n",
       "    'UHeatBridge': None,\n",
       "    'Ua': 0.53,\n",
       "    'Ug': None,\n",
       "    'Ur': None,\n",
       "    'lHeatBridge': None,\n",
       "    'name': 'Wall',\n",
       "    'psiHeatBridge': None,\n",
       "    'rHeatBridge': None,\n",
       "    'structure': 1,\n",
       "    'type': 2},\n",
       "   'direction': 6,\n",
       "   'name': 'Wall',\n",
       "   'sunshade': None},\n",
       "  {'A': 15.0,\n",
       "   'AdjacentSpace': None,\n",
       "   'FlagPerimeter': 1,\n",
       "   'FlagSolarRadiation': 1,\n",
       "   'FlagUnsteady': 1,\n",
       "   'L': None,\n",
       "   'Room': 'NonOccupantRoomFloorArea',\n",
       "   'Wall': {'HeatBridge': None,\n",
       "    'Layers': [{'Crho': 13, 'd': 0.076, 'material': 'GW16K', 'rambda': 0.045},\n",
       "     {'Crho': 830, 'd': 0.0095, 'material': 'GPB', 'rambda': 0.22}],\n",
       "    'UHeatBridge': None,\n",
       "    'Ua': 0.53,\n",
       "    'Ug': None,\n",
       "    'Ur': None,\n",
       "    'lHeatBridge': None,\n",
       "    'name': 'Wall',\n",
       "    'psiHeatBridge': None,\n",
       "    'rHeatBridge': None,\n",
       "    'structure': 1,\n",
       "    'type': 2},\n",
       "   'direction': 6,\n",
       "   'name': 'Wall',\n",
       "   'sunshade': None},\n",
       "  {'A': 7.5,\n",
       "   'AdjacentSpace': None,\n",
       "   'FlagPerimeter': 1,\n",
       "   'FlagSolarRadiation': 2,\n",
       "   'FlagUnsteady': 1,\n",
       "   'L': None,\n",
       "   'Room': 'MainOccupantRoom',\n",
       "   'Wall': {'HeatBridge': None,\n",
       "    'Layers': [{'Crho': 13, 'd': 0.081, 'material': 'GW16K', 'rambda': 0.045},\n",
       "     {'Crho': 720, 'd': 0.012, 'material': 'PED', 'rambda': 0.16}],\n",
       "    'UHeatBridge': None,\n",
       "    'Ua': 0.48,\n",
       "    'Ug': None,\n",
       "    'Ur': None,\n",
       "    'lHeatBridge': None,\n",
       "    'name': 'Floor',\n",
       "    'psiHeatBridge': None,\n",
       "    'rHeatBridge': None,\n",
       "    'structure': 1,\n",
       "    'type': 3},\n",
       "   'direction': 12,\n",
       "   'name': 'Floor',\n",
       "   'sunshade': None},\n",
       "  {'A': 15.0,\n",
       "   'AdjacentSpace': None,\n",
       "   'FlagPerimeter': 1,\n",
       "   'FlagSolarRadiation': 2,\n",
       "   'FlagUnsteady': 1,\n",
       "   'L': None,\n",
       "   'Room': 'OtherOccupantRoomFloorArea',\n",
       "   'Wall': {'HeatBridge': None,\n",
       "    'Layers': [{'Crho': 13, 'd': 0.081, 'material': 'GW16K', 'rambda': 0.045},\n",
       "     {'Crho': 720, 'd': 0.012, 'material': 'PED', 'rambda': 0.16}],\n",
       "    'UHeatBridge': None,\n",
       "    'Ua': 0.48,\n",
       "    'Ug': None,\n",
       "    'Ur': None,\n",
       "    'lHeatBridge': None,\n",
       "    'name': 'Floor',\n",
       "    'psiHeatBridge': None,\n",
       "    'rHeatBridge': None,\n",
       "    'structure': 1,\n",
       "    'type': 3},\n",
       "   'direction': 12,\n",
       "   'name': 'Floor',\n",
       "   'sunshade': None},\n",
       "  {'A': 7.5,\n",
       "   'AdjacentSpace': None,\n",
       "   'FlagPerimeter': 1,\n",
       "   'FlagSolarRadiation': 2,\n",
       "   'FlagUnsteady': 1,\n",
       "   'L': None,\n",
       "   'Room': 'NonOccupantRoomFloorArea',\n",
       "   'Wall': {'HeatBridge': None,\n",
       "    'Layers': [{'Crho': 13, 'd': 0.081, 'material': 'GW16K', 'rambda': 0.045},\n",
       "     {'Crho': 720, 'd': 0.012, 'material': 'PED', 'rambda': 0.16}],\n",
       "    'UHeatBridge': None,\n",
       "    'Ua': 0.48,\n",
       "    'Ug': None,\n",
       "    'Ur': None,\n",
       "    'lHeatBridge': None,\n",
       "    'name': 'Floor',\n",
       "    'psiHeatBridge': None,\n",
       "    'rHeatBridge': None,\n",
       "    'structure': 1,\n",
       "    'type': 3},\n",
       "   'direction': 12,\n",
       "   'name': 'Floor',\n",
       "   'sunshade': None},\n",
       "  {'A': 30,\n",
       "   'AdjacentSpace': None,\n",
       "   'FlagPerimeter': 1,\n",
       "   'FlagSolarRadiation': 2,\n",
       "   'FlagUnsteady': 1,\n",
       "   'FloorNonPerimeter': {'HeatBridge': None,\n",
       "    'Layers': [{'Crho': 720, 'd': 0.012, 'material': 'PED', 'rambda': 0.16}],\n",
       "    'UHeatBridge': None,\n",
       "    'Ua': 3.77,\n",
       "    'Ug': None,\n",
       "    'Ur': None,\n",
       "    'lHeatBridge': None,\n",
       "    'name': 'FloorNotPerimeter',\n",
       "    'psiHeatBridge': None,\n",
       "    'rHeatBridge': None,\n",
       "    'structure': 1,\n",
       "    'type': 3},\n",
       "   'L': None,\n",
       "   'Room': 'Underfloor',\n",
       "   'direction': 15,\n",
       "   'name': 'EarthFloor',\n",
       "   'sunshade': None},\n",
       "  {'A': 1.5,\n",
       "   'AdjacentSpace': None,\n",
       "   'FlagPerimeter': 1,\n",
       "   'FlagSolarRadiation': 1,\n",
       "   'FlagUnsteady': 2,\n",
       "   'L': None,\n",
       "   'Room': 'MainOccupantRoom',\n",
       "   'Sunshade': {'fCooling': None,\n",
       "    'fHeating': None,\n",
       "    'name': 'Sunshade',\n",
       "    'y1': 0.5,\n",
       "    'y2': 2,\n",
       "    'z': 1},\n",
       "   'Window': {'U': 4.65,\n",
       "    'eta': 0.738,\n",
       "    'etaCooling': None,\n",
       "    'etaHeating': None,\n",
       "    'name': 'Window'},\n",
       "   'direction': 6,\n",
       "   'name': 'Window',\n",
       "   'sunshade': 'Sunshade'},\n",
       "  {'A': 3.0,\n",
       "   'AdjacentSpace': None,\n",
       "   'FlagPerimeter': 1,\n",
       "   'FlagSolarRadiation': 1,\n",
       "   'FlagUnsteady': 2,\n",
       "   'L': None,\n",
       "   'Room': 'OtherOccupantRoomFloorArea',\n",
       "   'Sunshade': {'fCooling': None,\n",
       "    'fHeating': None,\n",
       "    'name': 'Sunshade',\n",
       "    'y1': 0.5,\n",
       "    'y2': 2,\n",
       "    'z': 1},\n",
       "   'Window': {'U': 4.65,\n",
       "    'eta': 0.738,\n",
       "    'etaCooling': None,\n",
       "    'etaHeating': None,\n",
       "    'name': 'Window'},\n",
       "   'direction': 6,\n",
       "   'name': 'Window',\n",
       "   'sunshade': 'Sunshade'},\n",
       "  {'A': 1.5,\n",
       "   'AdjacentSpace': None,\n",
       "   'FlagPerimeter': 1,\n",
       "   'FlagSolarRadiation': 1,\n",
       "   'FlagUnsteady': 2,\n",
       "   'L': None,\n",
       "   'Room': 'NonOccupantRoomFloorArea',\n",
       "   'Sunshade': {'fCooling': None,\n",
       "    'fHeating': None,\n",
       "    'name': 'Sunshade',\n",
       "    'y1': 0.5,\n",
       "    'y2': 2,\n",
       "    'z': 1},\n",
       "   'Window': {'U': 4.65,\n",
       "    'eta': 0.738,\n",
       "    'etaCooling': None,\n",
       "    'etaHeating': None,\n",
       "    'name': 'Window'},\n",
       "   'direction': 6,\n",
       "   'name': 'Window',\n",
       "   'sunshade': 'Sunshade'},\n",
       "  {'A': 0.75,\n",
       "   'AdjacentSpace': None,\n",
       "   'Door': {'U': 2.33,\n",
       "    'eta': 0.079,\n",
       "    'etaCooling': None,\n",
       "    'etaHeating': None,\n",
       "    'name': 'Door'},\n",
       "   'FlagPerimeter': 1,\n",
       "   'FlagSolarRadiation': 1,\n",
       "   'FlagUnsteady': 2,\n",
       "   'L': None,\n",
       "   'Room': 'MainOccupantRoom',\n",
       "   'direction': 2,\n",
       "   'name': 'Door',\n",
       "   'sunshade': None},\n",
       "  {'A': 1.5,\n",
       "   'AdjacentSpace': None,\n",
       "   'Door': {'U': 2.33,\n",
       "    'eta': 0.079,\n",
       "    'etaCooling': None,\n",
       "    'etaHeating': None,\n",
       "    'name': 'Door'},\n",
       "   'FlagPerimeter': 1,\n",
       "   'FlagSolarRadiation': 1,\n",
       "   'FlagUnsteady': 2,\n",
       "   'L': None,\n",
       "   'Room': 'OtherOccupantRoomFloorArea',\n",
       "   'direction': 2,\n",
       "   'name': 'Door',\n",
       "   'sunshade': None},\n",
       "  {'A': 0.75,\n",
       "   'AdjacentSpace': None,\n",
       "   'Door': {'U': 2.33,\n",
       "    'eta': 0.079,\n",
       "    'etaCooling': None,\n",
       "    'etaHeating': None,\n",
       "    'name': 'Door'},\n",
       "   'FlagPerimeter': 1,\n",
       "   'FlagSolarRadiation': 1,\n",
       "   'FlagUnsteady': 2,\n",
       "   'L': None,\n",
       "   'Room': 'NonOccupantRoomFloorArea',\n",
       "   'direction': 2,\n",
       "   'name': 'Door',\n",
       "   'sunshade': None},\n",
       "  {'A': 7.5,\n",
       "   'AdjacentSpace': 'Underfloor',\n",
       "   'FlagPerimeter': 1,\n",
       "   'FlagSolarRadiation': 2,\n",
       "   'FlagUnsteady': 1,\n",
       "   'L': None,\n",
       "   'Room': 'MainOccupantRoom',\n",
       "   'direction': 14,\n",
       "   'name': 'FloorNotPerimeter',\n",
       "   'sunshade': None},\n",
       "  {'A': 15.0,\n",
       "   'AdjacentSpace': 'Underfloor',\n",
       "   'FlagPerimeter': 1,\n",
       "   'FlagSolarRadiation': 2,\n",
       "   'FlagUnsteady': 1,\n",
       "   'L': None,\n",
       "   'Room': 'OtherOccupantRoomFloorArea',\n",
       "   'direction': 14,\n",
       "   'name': 'FloorNotPerimeter',\n",
       "   'sunshade': None},\n",
       "  {'A': 7.5,\n",
       "   'AdjacentSpace': 'Underfloor',\n",
       "   'FlagPerimeter': 1,\n",
       "   'FlagSolarRadiation': 2,\n",
       "   'FlagUnsteady': 1,\n",
       "   'L': None,\n",
       "   'Room': 'NonOccupantRoomFloorArea',\n",
       "   'direction': 14,\n",
       "   'name': 'FloorNotPerimeter',\n",
       "   'sunshade': None}]}"
      ]
     },
     "execution_count": 12,
     "metadata": {},
     "output_type": "execute_result"
    }
   ],
   "source": [
    "d = {\n",
    "    'Common' : {\n",
    "        'Region'                     : 6,\n",
    "        'FlagSimplifiedEnvelopeInput': 2,\n",
    "        'MainOccupantRoomFloorArea'  : 30.0,\n",
    "        'OtherOccupantRoomFloorArea' : 60.0,\n",
    "        'TotalFloorArea'             : 120.0\n",
    "    },\n",
    "    'Ceiling' : {\n",
    "        'name'                       : 'Ceiling',\n",
    "        'structure'                  : 1,\n",
    "        'type'                       : 1,\n",
    "        'Layers'                     : [{'material': 'GW16K','d': 0.179,'rambda': 0.045,'Crho': 13},\n",
    "                                        {'material': 'GPB','d': 0.0095,'rambda': 0.22,'Crho': 830}],\n",
    "        'Ua'                         : 0.24,\n",
    "        'Ug'                         : None,\n",
    "        'HeatBridge'                 : None,\n",
    "        'rHeatBridge'                : None,\n",
    "        'UHeatBridge'                : None,\n",
    "        'lHeatBridge'                : None,\n",
    "        'psiHeatBridge'              : None,\n",
    "        'Ur'                         : None\n",
    "    },\n",
    "    'Wall' : {\n",
    "        'name'                       : 'Wall',\n",
    "        'structure'                  : 1,\n",
    "        'type'                       : 2,\n",
    "        'Layers'                     : [{'material': 'GW16K','d': 0.076,'rambda': 0.045,'Crho': 13},\n",
    "                                        {'material': 'GPB','d': 0.0095,'rambda': 0.22,'Crho': 830}],\n",
    "        'Ua'                         : 0.53,\n",
    "        'Ug'                         : None,\n",
    "        'HeatBridge'                 : None,\n",
    "        'rHeatBridge'                : None,\n",
    "        'UHeatBridge'                : None,\n",
    "        'lHeatBridge'                : None,\n",
    "        'psiHeatBridge'              : None,\n",
    "        'Ur'                         : None\n",
    "    },\n",
    "    'Floor' : {\n",
    "        'name'                       : 'Floor',\n",
    "        'structure'                  : 1,\n",
    "        'type'                       : 3,\n",
    "        'Layers'                     : [{'material': 'GW16K','d': 0.081,'rambda': 0.045,'Crho': 13},\n",
    "                                        {'material': 'PED','d': 0.012,'rambda': 0.16,'Crho': 720}],\n",
    "        'Ua'                         : 0.48,\n",
    "        'Ug'                         : None,\n",
    "        'HeatBridge'                 : None,\n",
    "        'rHeatBridge'                : None,\n",
    "        'UHeatBridge'                : None,\n",
    "        'lHeatBridge'                : None,\n",
    "        'psiHeatBridge'              : None,\n",
    "        'Ur'                         : None\n",
    "    },\n",
    "    'Window' : {\n",
    "        'name'                        : 'Window',\n",
    "        'eta'                         : 0.738,\n",
    "        'etaCooling'                  : None,\n",
    "        'etaHeating'                  : None,\n",
    "        'U'                           : 4.65\n",
    "    },\n",
    "    'Door' : {\n",
    "        'name'                        : 'Door',\n",
    "        'eta'                         : round(2.33*0.034,3),\n",
    "        'etaCooling'                  : None,\n",
    "        'etaHeating'                  : None,\n",
    "        'U'                           : 2.33\n",
    "    },\n",
    "    'Sunshade' : {\n",
    "        'name'                        : 'Sunshade',\n",
    "        'y1'                          : 0.5,\n",
    "        'y2'                          : 2, \n",
    "        'z'                           : 1,\n",
    "        'fCooling'                    : None,\n",
    "        'fHeating'                    : None\n",
    "    },\n",
    "    'Elements' : [{\n",
    "            'name'                    : 'Ceiling',\n",
    "            'FlagPerimeter'           : 1,\n",
    "            'FlagSolarRadiation'      : 1,\n",
    "            'direction'               : 1,\n",
    "            'FlagUnsteady'            : 1,\n",
    "            'A'                       : 60,\n",
    "            'L'                       : None,\n",
    "            'sunshade'                : None\n",
    "        },{\n",
    "            'name'                    : 'Wall',\n",
    "            'FlagPerimeter'           : 1,\n",
    "            'FlagSolarRadiation'      : 1,\n",
    "            'direction'               : 6,\n",
    "            'FlagUnsteady'            : 1,\n",
    "            'A'                       : 60,\n",
    "            'L'                       : None,\n",
    "            'sunshade'                : None\n",
    "        },{\n",
    "            'name'                    : 'Floor',\n",
    "            'FlagPerimeter'           : 1,\n",
    "            'FlagSolarRadiation'      : 2,\n",
    "            'direction'               : 12,\n",
    "            'FlagUnsteady'            : 1,\n",
    "            'A'                       : 30,\n",
    "            'L'                       : None,\n",
    "            'sunshade'                : None\n",
    "        },{\n",
    "            'name'                    : 'EarthFloor',\n",
    "            'FlagPerimeter'           : 1,\n",
    "            'FlagSolarRadiation'      : 2,\n",
    "            'direction'               : 15,\n",
    "            'FlagUnsteady'            : 1,\n",
    "            'A'                       : 30,\n",
    "            'L'                       : None,\n",
    "            'sunshade'                : None\n",
    "        },{\n",
    "            'name'                    : 'Window',\n",
    "            'FlagPerimeter'           : 1,\n",
    "            'FlagSolarRadiation'      : 1,\n",
    "            'direction'               : 6,\n",
    "            'FlagUnsteady'            : 2,\n",
    "            'A'                       : 6,\n",
    "            'L'                       : None,\n",
    "            'sunshade'                : 'Sunshade'\n",
    "        },{\n",
    "            'name'                    : 'Door',\n",
    "            'FlagPerimeter'           : 1,\n",
    "            'FlagSolarRadiation'      : 1,\n",
    "            'direction'               : 2,\n",
    "            'FlagUnsteady'            : 2,\n",
    "            'A'                       : 3,\n",
    "            'L'                       : None,\n",
    "            'sunshade'                : None\n",
    "        }\n",
    "    ]\n",
    "}\n",
    "\n",
    "Convert(d)"
   ]
  },
  {
   "cell_type": "code",
   "execution_count": null,
   "metadata": {
    "collapsed": true
   },
   "outputs": [],
   "source": []
  }
 ],
 "metadata": {
  "kernelspec": {
   "display_name": "Python 3",
   "language": "python",
   "name": "python3"
  },
  "language_info": {
   "codemirror_mode": {
    "name": "ipython",
    "version": 3
   },
   "file_extension": ".py",
   "mimetype": "text/x-python",
   "name": "python",
   "nbconvert_exporter": "python",
   "pygments_lexer": "ipython3",
   "version": "3.6.3"
  }
 },
 "nbformat": 4,
 "nbformat_minor": 2
}
