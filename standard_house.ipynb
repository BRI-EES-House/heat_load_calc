{
 "cells": [
  {
   "cell_type": "code",
   "execution_count": 1,
   "metadata": {},
   "outputs": [
    {
     "name": "stdout",
     "output_type": "stream",
     "text": [
      "Importing Jupyter notebook from standard_house_area.ipynb\n",
      "Importing Jupyter notebook from nu.ipynb\n",
      "Importing Jupyter notebook from get_u_and_eta_from_u_a_and_eta_a.ipynb\n",
      "Importing Jupyter notebook from f.ipynb\n",
      "Importing Jupyter notebook from H.ipynb\n"
     ]
    }
   ],
   "source": [
    "import copy\n",
    "import math\n",
    "import nbimporter\n",
    "import numpy\n",
    "\n",
    "import standard_house_area\n",
    "import get_u_and_eta_from_u_a_and_eta_a as get_u_and_eta"
   ]
  },
  {
   "cell_type": "markdown",
   "metadata": {},
   "source": [
    "# 基準値計算用住戸の設定"
   ]
  },
  {
   "cell_type": "markdown",
   "metadata": {},
   "source": [
    "## 1. 外皮性能に関する基準値の設定条件の概要"
   ]
  },
  {
   "cell_type": "markdown",
   "metadata": {},
   "source": [
    "基準値計算のための条件設定の主な考え方は、以下のとおり。  \n",
    "\n",
    "・外皮について、極力、UA値、ηA値の基準値を満たすように、基準値計算用の住宅のU値（仕様規定の部位別U値に比例）と窓のη値を決定する。    \n",
    "・非現実的な設定は許容しない（例：窓の日射熱取得率が0未満）。"
   ]
  },
  {
   "cell_type": "markdown",
   "metadata": {},
   "source": [
    "#### 基準値計算の方法  \n",
    "①設計住戸の用途別面積を使用 (area_type: design_house_with_room_usage)  \n",
    "　面積・長さ情報、用途別情報がない場合は推定。内壁情報は推定。   \n",
    "②設計住戸の面積を使用 (area_type: design_house_without_room_usage)  \n",
    "　面積・長さ情報がない場合は推定。内壁情報は推定。   \n",
    "　用途別情報は、各部位の長さ・面積を室用途別の床面積に応じて各用途に割り当てる。   \n",
    "③基準値計算用住戸を想定 (area_type: standard_house)  \n",
    "　用途別床面積・外皮面積より基準値計算用住戸を決定。  \n",
    "  \n",
    "#### プラン  \n",
    "①設計住戸  \n",
    "②各用途が各方位に面する。  \n",
    "③戸建は南側に居室。共同は南側に主居室、北側に他居室。  \n",
    "  \n",
    "#### 評価対象  \n",
    "①外皮性能  \n",
    "　プランは、周辺環境（隣棟・接道など）より決定される与条件とみなす  \n",
    "②室配置と外皮性能  \n",
    "③②同様  \n",
    "  \n",
    "#### 基準値計算用住戸の負荷の傾向の予想  \n",
    "①設計住戸の負荷に比較的近い傾向を示すと考えられる。  \n",
    "　プランによっては、基準値が大きめになる可能性がある。  \n",
    "　例えば、北側リビングで開口部が北側に集中している場合、  \n",
    "　断熱性能はUA値基準値を満たすように設定するが、  \n",
    "　日射熱取得性能は非現実的な開口部（η>1）を許容しないとすると、  \n",
    "　ηHが小さい条件で基準値計算をすることとなる可能性がある。  \n",
    "　また、暖房時間が長い主居室が北側になるので、基準値が大きめになる。  \n",
    "②暖房時間が長い主居室が南側のプランよりは負荷が大きく、  \n",
    "　北側のプランよりは負荷が小さくなると考えられる。  \n",
    "　開口部が北側に集中している場合、  \n",
    "　断熱性能はUA値基準値を満たすように設定するが、  \n",
    "　日射熱取得性能は非現実的な開口部（η>1）を許容しないとすると、  \n",
    "　ηHが小さい条件で基準値計算をすることとなる可能性がある。  \n",
    "③建物規模に応じて、概ね、負荷が決定される。  \n",
    "　比較的妥当な設計を行った場合の負荷となる。  \n",
    "　ηHの基準値を満たしやすい。  \n",
    "  \n",
    "#### 暖房の基準値を満たしやすい住戸の予想  \n",
    "①暖房室の部位の断熱性能を高くした住戸  \n",
    "　暖房室南側では、日射熱取得性能が高い住戸  \n",
    "②室配置・部位性能・面積の工夫により、暖房室の断熱性能・日射熱取得性能を優先的に高くした住戸  \n",
    "③②同様  \n",
    "  \n",
    "#### 入力情報LV1→LV2（面積・長さ情報の入力）  \n",
    "①以下の場合、用途別情報を入力すると基準値をクリアしやすい。  \n",
    "　－開口部面積率が標準住戸より小さい  \n",
    "　－同部位の性能に差がある（例：方位別に適切に窓を選定している。断熱の弱い壁が部分的にある。）  \n",
    "②①同様  \n",
    "③面積・長さ情報を入力する場合、適切な設計では相対的に基準値をクリアしやすい。  \n",
    "  \n",
    "#### 入力情報LV2→LV3（用途別情報の入力）  \n",
    "①同部位の性能が用途に依らない場合、用途別情報を入力する利点はない。  \n",
    "②用途別情報を入力する場合、適切な設計では相対的に基準値をクリアしやすい。  \n",
    "③②同様  "
   ]
  },
  {
   "cell_type": "markdown",
   "metadata": {},
   "source": [
    "## 2. 外皮性能に関する基準値"
   ]
  },
  {
   "cell_type": "markdown",
   "metadata": {},
   "source": [
    "エネルギーの使用の合理化に関する建築主等及び特定建築物の所有者の判断の基準の一部を改正する告示（平成28年4月1日施行）  \n",
    "8地域の暖房期は、8地域の冷房期で代用"
   ]
  },
  {
   "cell_type": "markdown",
   "metadata": {},
   "source": [
    "戸建住宅\n",
    "\n",
    "| 　 | 1地域 | 2地域 | 3地域 | 4地域 | 5地域 | 6地域 | 7地域 | 8地域 |\n",
    "|---|---|---|---|---|---|---|---|---|\n",
    "| 平均熱貫流率[W/(㎡・K)] | 0.46 | 0.46 | 0.56 | 0.75 | 0.87 | 0.87 | 0.87 | 2.14 |\n",
    "| 暖房期の平均日射熱取得率[-] | 2.5 | 2.3 | 2.7 | 3.7 | 4.5 | 4.3 | 4.6 | - |\n",
    "| 冷房期の平均日射熱取得率[-] | 1.9 | 1.9 | 2.0 | 2.7 | 3.0 | 2.8 | 2.7 | 3.2 | \n",
    "\n",
    "共同住宅\n",
    "\n",
    "| 　 | 1地域 | 2地域 | 3地域 | 4地域 | 5地域 | 6地域 | 7地域 | 8地域 |\n",
    "|---|---|---|---|---|---|---|---|---|\n",
    "| 平均熱貫流率[W/(㎡・K)] | 0.41 | 0.41 | 0.44 | 0.69 | 0.75 | 0.75 | 0.75 | 1.67 |\n",
    "| 暖房期の平均日射熱取得率[-] | 1.5 | 1.3 | 1.5 | 1.8 | 2.1 | 2.0 | 2.1 | - |\n",
    "| 冷房期の平均日射熱取得率[-] | 1.1 | 1.1 | 1.1 | 1.4 | 1.5 | 1.4 | 1.3 | 2.4 | "
   ]
  },
  {
   "cell_type": "markdown",
   "metadata": {},
   "source": [
    "#### Function"
   ]
  },
  {
   "cell_type": "code",
   "execution_count": 2,
   "metadata": {},
   "outputs": [],
   "source": [
    "def get_std_UA(house_type, region):\n",
    "    return {\n",
    "        'detached'    : {1: 0.46, 2: 0.46, 3: 0.56, 4: 0.75, 5: 0.87, 6: 0.87, 7: 0.87, 8: 2.14 },\n",
    "        'condominium' : {1: 0.41, 2: 0.41, 3: 0.44, 4: 0.69, 5: 0.75, 6: 0.75, 7: 0.75, 8: 1.67 }\n",
    "    }[house_type][region]"
   ]
  },
  {
   "cell_type": "code",
   "execution_count": 3,
   "metadata": {},
   "outputs": [],
   "source": [
    "def get_std_etaAH(house_type, region):\n",
    "    return {\n",
    "        'detached'    : {1: 2.5,  2: 2.3,  3: 2.7,  4: 3.7,  5: 4.5,  6: 4.3,  7: 4.6,  8: 3.2 },\n",
    "        'condominium' : {1: 1.5,  2: 1.3,  3: 1.5,  4: 1.8,  5: 2.1,  6: 2.0,  7: 2.1,  8: 2.4 }\n",
    "    }[house_type][region]"
   ]
  },
  {
   "cell_type": "code",
   "execution_count": 4,
   "metadata": {},
   "outputs": [],
   "source": [
    "def get_std_etaAC(house_type, region):\n",
    "    return {\n",
    "        'detached'    : {1: 1.9,  2: 1.9,  3: 2.0,  4: 2.7,  5: 3.0,  6: 2.8,  7: 2.7,  8: 3.2 },\n",
    "        'condominium' : {1: 1.1,  2: 1.1,  3: 1.1,  4: 1.4,  5: 1.5,  6: 1.4,  7: 1.3,  8: 2.4 }\n",
    "    }[house_type][region]"
   ]
  },
  {
   "cell_type": "markdown",
   "metadata": {},
   "source": [
    "## 3. 基準値計算用入力情報の統合"
   ]
  },
  {
   "cell_type": "markdown",
   "metadata": {},
   "source": [
    "共通情報、外壁・開口部・内壁等の面積等を統合し、基準値計算用住宅のLv4の入力情報にコンバートする。"
   ]
  },
  {
   "cell_type": "markdown",
   "metadata": {},
   "source": [
    "### 1) 共通"
   ]
  },
  {
   "cell_type": "markdown",
   "metadata": {},
   "source": [
    "総外皮面積を追加する。"
   ]
  },
  {
   "cell_type": "markdown",
   "metadata": {},
   "source": [
    "$$\n",
    "\\displaystyle\n",
    "A_{total}=  \\sum_{i}{A_i}\n",
    "$$"
   ]
  },
  {
   "cell_type": "markdown",
   "metadata": {},
   "source": [
    "$A_i$: 第$i$番目の外皮の部位の面積, m<sup>2</sup>  \n",
    "$A_{total}$: 総外皮面積, m<sup>2</sup>  "
   ]
  },
  {
   "cell_type": "markdown",
   "metadata": {},
   "source": [
    "#### Function"
   ]
  },
  {
   "cell_type": "code",
   "execution_count": 5,
   "metadata": {},
   "outputs": [],
   "source": [
    "def get_total_area( d ):\n",
    "    \n",
    "    d_area = []\n",
    "    for parts in ['general_parts','windows','doors','earthfloors'] :\n",
    "        if (parts in d['envelope']) == True :\n",
    "            d_area.extend(d['envelope'][parts])\n",
    "\n",
    "    return sum(part['area'] for part in d_area)"
   ]
  },
  {
   "cell_type": "code",
   "execution_count": 6,
   "metadata": {},
   "outputs": [],
   "source": [
    "def convert_common(d):\n",
    "    \n",
    "    d['common']['total_outer_skin_area'] = get_total_area(d)\n",
    "    \n",
    "    return d['common']"
   ]
  },
  {
   "cell_type": "markdown",
   "metadata": {},
   "source": [
    "### 2) 外皮性能"
   ]
  },
  {
   "cell_type": "markdown",
   "metadata": {},
   "source": [
    "外皮性能の関する基準値に関する情報を追加する。"
   ]
  },
  {
   "cell_type": "markdown",
   "metadata": {},
   "source": [
    "#### Function"
   ]
  },
  {
   "cell_type": "code",
   "execution_count": 7,
   "metadata": {},
   "outputs": [],
   "source": [
    "def convert_envelope_index(house_type, region):\n",
    "    \n",
    "    d = {}\n",
    "    d['UA']    = get_std_UA(house_type, region)\n",
    "    d['etaAH'] = get_std_etaAH(house_type, region)\n",
    "    d['etaAC'] = get_std_etaAC(house_type, region)\n",
    "    \n",
    "    return d"
   ]
  },
  {
   "cell_type": "markdown",
   "metadata": {},
   "source": [
    "### 3) 部位の設定"
   ]
  },
  {
   "cell_type": "markdown",
   "metadata": {},
   "source": [
    "部位の性能値や層構成を設定する。"
   ]
  },
  {
   "cell_type": "markdown",
   "metadata": {},
   "source": [
    "面積の取得"
   ]
  },
  {
   "cell_type": "markdown",
   "metadata": {},
   "source": [
    "#### Function"
   ]
  },
  {
   "cell_type": "code",
   "execution_count": 8,
   "metadata": {},
   "outputs": [],
   "source": [
    "def get_area(d_envelope, area_type):\n",
    "    \n",
    "    l_next_space        = ['outdoor','open_space','closed_space','open_underfloor','air_conditioned','closed_underfloor']\n",
    "    l_direction         = ['top','n','ne','e','se','s','sw','w','nw','bottom','upward','horizontal','downward']\n",
    "    l_space_type        = ['main_occupant_room','other_occupant_room','non_occupant_room','underfloor'] \n",
    "    l_general_part_type = ['roof','ceiling','wall','floor','boundary_wall','upward_boundary_flo','downward_boundary_floor']\n",
    "    \n",
    "    area = {}\n",
    "    \n",
    "    # 一般部位\n",
    "    # 用途を考慮しない場合\n",
    "    if area_type == 'design_house_without_room_usage' :\n",
    "        area['general_parts'] = {\n",
    "            v:{\n",
    "                w: {\n",
    "                    x: sum(y['area'] for y in d_envelope['general_parts'] \\\n",
    "                        if (y['general_part_type']==v and y['next_space']==w and y['direction']==x)) \n",
    "                    for x in l_direction\n",
    "                } for w in l_next_space\n",
    "            } for v in l_general_part_type\n",
    "        }\n",
    "    # 用途を考慮する場合\n",
    "    else :\n",
    "        area['general_parts'] = {\n",
    "            v:{\n",
    "                w: {\n",
    "                    x: {\n",
    "                        y: sum(z['area'] for z in d_envelope['general_parts'] \\\n",
    "                            if (z['general_part_type']==v and z['next_space']==w and z['direction']==x and z['space_type']==y))\n",
    "                            for y in l_space_type\n",
    "                    } for x in l_direction\n",
    "                } for w in l_next_space\n",
    "            } for v in l_general_part_type\n",
    "        }\n",
    "            \n",
    "    # 窓\n",
    "    # 用途を考慮しない場合   \n",
    "    if area_type == 'design_house_without_room_usage' :\n",
    "        area['windows'] = {\n",
    "            w: {\n",
    "                x: sum(y['area'] for y in d_envelope['windows'] \\\n",
    "                           if (y['next_space']==w and y['direction']==x)) for x in l_direction\n",
    "            } for w in l_next_space\n",
    "        }\n",
    "    # 用途を考慮する場合\n",
    "    else :\n",
    "        area['windows'] = {\n",
    "            w: {\n",
    "                x: {\n",
    "                    y: sum(z['area'] for z in d_envelope['windows'] \\\n",
    "                           if (z['next_space']==w and z['direction']==x and z['space_type']==y)) for y in l_space_type\n",
    "                } for x in l_direction\n",
    "            } for w in l_next_space\n",
    "        }\n",
    "    \n",
    "    # ドア\n",
    "    # 用途を考慮しない場合   \n",
    "    if area_type == 'design_house_without_room_usage' :\n",
    "        area['doors'] = {\n",
    "            w: {\n",
    "                x: sum(y['area'] for y in d_envelope['doors'] \\\n",
    "                           if (y['next_space']==w and y['direction']==x)) for x in l_direction\n",
    "            } for w in l_next_space\n",
    "        }\n",
    "    # 用途を考慮する場合\n",
    "    else :\n",
    "        area['doors'] = {\n",
    "            w: {\n",
    "                x: {\n",
    "                    y: sum(z['area'] for z in d_envelope['doors'] \\\n",
    "                           if (z['next_space']==w and z['direction']==x and z['space_type']==y)) for y in l_space_type\n",
    "                } for x in l_direction\n",
    "            } for w in l_next_space\n",
    "        }\n",
    "\n",
    "    # 土間床等の外周部\n",
    "    # 用途を考慮しない場合   \n",
    "    if area_type == 'design_house_without_room_usage' :\n",
    "        area['earthfloor_perimeters'] = {\n",
    "            w: {\n",
    "                x: sum(y['length'] for y in d_envelope['earthfloor_perimeters'] \\\n",
    "                        if (y['next_space']==w and y['direction']==x)) \\\n",
    "                    for x in l_direction\n",
    "            } for w in l_next_space\n",
    "        }\n",
    "    # 用途を考慮する場合\n",
    "    else :\n",
    "        area['earthfloor_perimeters'] = {\n",
    "            w: {\n",
    "                x: {\n",
    "                    y: sum(z['length'] for z in d_envelope['earthfloor_perimeters'] \\\n",
    "                           if (z['next_space']==w and z['direction']==x and z['space_type']==y)) \\\n",
    "                        for y in l_space_type\n",
    "                } for x in l_direction\n",
    "            } for w in l_next_space\n",
    "        }\n",
    "\n",
    "    return area"
   ]
  },
  {
   "cell_type": "markdown",
   "metadata": {},
   "source": [
    "一般部位のリスト作成"
   ]
  },
  {
   "cell_type": "markdown",
   "metadata": {},
   "source": [
    "#### Function"
   ]
  },
  {
   "cell_type": "code",
   "execution_count": 9,
   "metadata": {},
   "outputs": [],
   "source": [
    "def get_list_general_parts(area_general_parts, area_type) :\n",
    "    \n",
    "    l = []    \n",
    "    \n",
    "    # 用途を考慮しない場合 \n",
    "    if area_type == 'design_house_without_room_usage' :\n",
    "        for v in area_general_parts.keys() :\n",
    "            for w in area_general_parts[v].keys() :\n",
    "                for x in area_general_parts[v][w].keys() :\n",
    "                    if area_general_parts[v][w][x] > 0 :\n",
    "                        l.append({\n",
    "                            'name'                  : v + '_' + (x if w =='outdoor' else w) ,\n",
    "                            'general_part_type'     : v,\n",
    "                            'next_space'            : w,\n",
    "                            'external_surface_type' : ('outdoor' if w == 'outdoor' else None),\n",
    "                            'direction'             : x,\n",
    "                            'area'                  : area_general_parts[v][w][x],\n",
    "                            'spec'                  : {\n",
    "                                'structure': 'wood',\n",
    "                                'u_value_input_method_wood': 'u_value_directly',\n",
    "                                'is_sunshade_input': False\n",
    "                            }\n",
    "                        })\n",
    "    \n",
    "    # 用途を考慮する場合 \n",
    "    else :\n",
    "        for v in area_general_parts.keys() :\n",
    "            for w in area_general_parts[v].keys() :\n",
    "                for x in area_general_parts[v][w].keys() :\n",
    "                    for y in area_general_parts[v][w][x].keys() :\n",
    "                        if area_general_parts[v][w][x][y] > 0 :\n",
    "                            l.append({\n",
    "                                'name'                  : v + '_' + (x if w =='outdoor' else w) + '_' + y,\n",
    "                                'general_part_type'     : v,\n",
    "                                'next_space'            : w,\n",
    "                                'external_surface_type' : ('outdoor' if w == 'outdoor' else None),\n",
    "                                'direction'             : x,\n",
    "                                'area'                  : area_general_parts[v][w][x][y],\n",
    "                                'space_type'            : y,\n",
    "                                'spec'                  : {\n",
    "                                    'structure': 'wood',\n",
    "                                    'u_value_input_method_wood': 'u_value_directly',\n",
    "                                    'is_sunshade_input': False\n",
    "                                }\n",
    "                            })\n",
    "    \n",
    "    return l"
   ]
  },
  {
   "cell_type": "markdown",
   "metadata": {},
   "source": [
    "窓のリスト作成"
   ]
  },
  {
   "cell_type": "markdown",
   "metadata": {},
   "source": [
    "方位が北・北東・東・南東・南・南西・西・北西の窓については、日除け下端から窓上端までの垂直方向の距離：窓の開口高さ寸法：壁面からの日除けの張り出し寸法＝0:3:1とする。"
   ]
  },
  {
   "cell_type": "markdown",
   "metadata": {},
   "source": [
    "#### Function"
   ]
  },
  {
   "cell_type": "code",
   "execution_count": 10,
   "metadata": {},
   "outputs": [],
   "source": [
    "def get_list_windows(area_windows, area_type) :\n",
    "    \n",
    "    l = []    \n",
    "    \n",
    "    # 用途を考慮しない場合 \n",
    "    if area_type == 'design_house_without_room_usage' :\n",
    "        for x in area_windows.keys() :\n",
    "            for y in area_windows[x].keys() :\n",
    "                if area_windows[x][y] > 0 :\n",
    "                    l.append({\n",
    "                        'name'       : (y if x == 'outdoor' else x),\n",
    "                        'next_space' :x,\n",
    "                        'direction'  :y,\n",
    "                        'area'       : area_windows[x][y],\n",
    "                        'spec'       : {\n",
    "                            'window_type'                : 'single',\n",
    "                            'windows'                    : [{\n",
    "                                'u_value_input_method'   : 'u_value_directly',\n",
    "                                'eta_value_input_method' : 'eta_d_value_directly',\n",
    "                                'glass_type'             : 'single'\n",
    "                            }],\n",
    "                            'attachment_type'            : 'none',\n",
    "                            'is_windbreak_room_attached' : False,\n",
    "                            'is_sunshade_input'          : True,\n",
    "                                'sunshade': {\n",
    "                                    'existance'    : True,\n",
    "                                    'input_method' : 'simple',\n",
    "                                    'd_h'          : 3 if y in ['n','ne','e','se','s','sw','w','nw'] else 0,\n",
    "                                    'd_e'          : 0,\n",
    "                                    'depth'        : 1 if y in ['n','ne','e','se','s','sw','w','nw'] else 0,\n",
    "                                }                            \n",
    "                        }\n",
    "                    })\n",
    "\n",
    "    # 用途を考慮する場合 \n",
    "    else :\n",
    "        for x in area_windows.keys() :\n",
    "            for y in area_windows[x].keys() :\n",
    "                for z in area_windows[x][y].keys() :\n",
    "                    if area_windows[x][y][z] > 0 :\n",
    "                        l.append({\n",
    "                            'name'       : (y if x == 'outdoor' else x) + '_' + z,\n",
    "                            'next_space' :x,\n",
    "                            'direction'  :y,\n",
    "                            'area'       : area_windows[x][y][z],\n",
    "                            'space_type' : z,\n",
    "                            'spec'       : {\n",
    "                                'window_type'                : 'single',\n",
    "                                'windows'                    : [{\n",
    "                                    'u_value_input_method'   : 'u_value_directly',\n",
    "                                    'eta_value_input_method' : 'eta_d_value_directly',\n",
    "                                    'glass_type'             : 'single'\n",
    "                                }],\n",
    "                                'attachment_type'            : 'none',\n",
    "                                'is_windbreak_room_attached' : False,\n",
    "                                'is_sunshade_input'          : True,\n",
    "                                    'sunshade': {\n",
    "                                        'existance'    : True,\n",
    "                                        'input_method' : 'simple',\n",
    "                                        'd_h'          : 3 if y in ['n','ne','e','se','s','sw','w','nw'] else 0,\n",
    "                                        'd_e'          : 0,\n",
    "                                        'depth'        : 1 if y in ['n','ne','e','se','s','sw','w','nw'] else 0,\n",
    "                                    }                            \n",
    "                            }\n",
    "                        })\n",
    "                \n",
    "    return l"
   ]
  },
  {
   "cell_type": "markdown",
   "metadata": {},
   "source": [
    "ドアのリスト作成"
   ]
  },
  {
   "cell_type": "markdown",
   "metadata": {},
   "source": [
    "#### Function"
   ]
  },
  {
   "cell_type": "code",
   "execution_count": 11,
   "metadata": {},
   "outputs": [],
   "source": [
    "def get_list_doors(area_doors, area_type) :\n",
    "    \n",
    "    l = []    \n",
    "    \n",
    "    # 用途を考慮しない場合 \n",
    "    if area_type == 'design_house_without_room_usage' :\n",
    "        for x in area_doors.keys() :\n",
    "            for y in area_doors[x].keys() :\n",
    "                if area_doors[x][y] > 0 :\n",
    "                    l.append({\n",
    "                        'name'       : (y if x == 'outdoor' else x),\n",
    "                        'next_space' :x,\n",
    "                        'direction'  :y,\n",
    "                        'area'       : area_doors[x][y],\n",
    "                        'spec'       : {\n",
    "                            'is_sunshade_input' : False\n",
    "                        }\n",
    "                    })\n",
    "\n",
    "    # 用途を考慮する場合 \n",
    "    else :\n",
    "        for x in area_doors.keys() :\n",
    "            for y in area_doors[x].keys() :\n",
    "                for z in area_doors[x][y].keys() :\n",
    "                    if area_doors[x][y][z] > 0 :\n",
    "                        l.append({\n",
    "                            'name'       : (y if x == 'outdoor' else x) + '_' + z,\n",
    "                            'next_space' :x,\n",
    "                            'direction'  :y,\n",
    "                            'area'       : area_doors[x][y][z],\n",
    "                            'space_type' : z,\n",
    "                            'spec'       : {\n",
    "                                'is_sunshade_input' : False\n",
    "                            }\n",
    "                        })\n",
    "                \n",
    "    return l"
   ]
  },
  {
   "cell_type": "markdown",
   "metadata": {},
   "source": [
    "土間床等の外周部のリスト作成"
   ]
  },
  {
   "cell_type": "markdown",
   "metadata": {},
   "source": [
    "#### Function"
   ]
  },
  {
   "cell_type": "code",
   "execution_count": 12,
   "metadata": {},
   "outputs": [],
   "source": [
    "def get_list_earthfloor_perimeters(area_earthfloor_perimeters, area_type) :\n",
    "    \n",
    "    l = []   \n",
    "    \n",
    "    # 用途を考慮しない場合 \n",
    "    if area_type == 'design_house_without_room_usage' :\n",
    "        for x in area_earthfloor_perimeters.keys() :\n",
    "            for y in area_earthfloor_perimeters[x].keys() :\n",
    "                if area_earthfloor_perimeters[x][y] > 0 :\n",
    "                    l.append({\n",
    "                        'name'       : (y if x == 'outdoor' else x),\n",
    "                        'length'     : area_earthfloor_perimeters[x][y],\n",
    "                        'next_space' : x,\n",
    "                        'direction'  : y,\n",
    "                        'spec'       : {}\n",
    "                    })\n",
    "\n",
    "    # 用途を考慮する場合 \n",
    "    else :\n",
    "        for x in area_earthfloor_perimeters.keys() :\n",
    "            for y in area_earthfloor_perimeters[x].keys() :\n",
    "                for z in area_earthfloor_perimeters[x][y].keys() :\n",
    "                    if area_earthfloor_perimeters[x][y][z] > 0 :\n",
    "                        l.append({\n",
    "                            'name'       : (y if x == 'outdoor' else x) + '_' + z,\n",
    "                            'length'     : area_earthfloor_perimeters[x][y][z],\n",
    "                            'space_type' : z,\n",
    "                            'next_space' : x,\n",
    "                            'direction'  : y,\n",
    "                            'spec'       : {}\n",
    "                        })\n",
    "                \n",
    "    return l"
   ]
  },
  {
   "cell_type": "markdown",
   "metadata": {},
   "source": [
    "部位のリストの統合"
   ]
  },
  {
   "cell_type": "markdown",
   "metadata": {},
   "source": [
    "#### Function"
   ]
  },
  {
   "cell_type": "code",
   "execution_count": 13,
   "metadata": {},
   "outputs": [],
   "source": [
    "def get_list(area, area_type) :\n",
    "    \n",
    "    d = {}\n",
    "    d['general_parts']         = get_list_general_parts(area['general_parts'], area_type)\n",
    "    d['windows']               = get_list_windows(area['windows'], area_type)\n",
    "    d['doors']                 = get_list_doors(area['doors'], area_type)\n",
    "    d['earthfloor_perimeters'] = get_list_earthfloor_perimeters(area['earthfloor_perimeters'], area_type)\n",
    "    \n",
    "    return d['general_parts'], d['windows'], d['doors'], d['earthfloor_perimeters']"
   ]
  },
  {
   "cell_type": "markdown",
   "metadata": {},
   "source": [
    "外壁・開口部・内壁の面積・性能値の設定"
   ]
  },
  {
   "cell_type": "markdown",
   "metadata": {},
   "source": [
    "#### Function"
   ]
  },
  {
   "cell_type": "code",
   "execution_count": 14,
   "metadata": {},
   "outputs": [],
   "source": [
    "def convert_parts(d, area_type):\n",
    "    \n",
    "    standard_d = {}\n",
    "    \n",
    "    # 部位面積の取得\n",
    "    # 基準値計算用住戸を想定する場合\n",
    "    if area_type == 'standard_house' :\n",
    "        # 基準値計算用住戸の面積取得\n",
    "        d_standard_area = {'envelope': {}}\n",
    "        d_standard_area['envelope']['general_parts'], d_standard_area['envelope']['windows'], inner_walls = standard_house_area.get_area(d)\n",
    "        d_standard_area['envelope']['doors'], d_standard_area['envelope']['earthfloor_perimeters'] =[], []\n",
    "        \n",
    "        standard_d['general_parts'], standard_d['windows'], standard_d['doors'], standard_d['earthfloor_perimeters'] \\\n",
    "            = get_list(get_area(d_standard_area['envelope'], area_type), area_type)\n",
    "        \n",
    "    # 設計住戸の面積を使用する場合\n",
    "    elif area_type == 'design_house_with_room_usage' or area_type == 'design_house_without_room_usage':\n",
    "        standard_d['general_parts'], standard_d['windows'], standard_d['doors'], standard_d['earthfloor_perimeters'] \\\n",
    "            = get_list(get_area(d['envelope'], area_type), area_type)\n",
    "\n",
    "    # U値、η値の取得\n",
    "    Eta, Eta_heating, Eta_cooling, part_U = get_u_and_eta.calc_adjustment_factor(d)\n",
    "    \n",
    "    # U値、η値の設定\n",
    "    for part in standard_d['general_parts'] :\n",
    "        part['spec']['u_value_wood'] = part_U[part['general_part_type']]\n",
    "    for part in standard_d['windows'] :\n",
    "        part['spec']['windows'][0]['u_vaue'] = part_U['window']\n",
    "        part['spec']['windows'][0]['eta_d_value'] = Eta\n",
    "    for part in standard_d['doors'] :\n",
    "        part['spec']['u_vaue'] = part_U['door']\n",
    "    for part in standard_d['earthfloor_perimeters'] :\n",
    "        part['spec']['psi_value'] = part_U['earthfloor_perimeter']\n",
    "        \n",
    "    return standard_d['general_parts'], standard_d['windows'], standard_d['doors'], standard_d['earthfloor_perimeters']"
   ]
  },
  {
   "cell_type": "markdown",
   "metadata": {},
   "source": [
    "土間床等のリスト作成"
   ]
  },
  {
   "cell_type": "markdown",
   "metadata": {},
   "source": [
    "#### Function"
   ]
  },
  {
   "cell_type": "code",
   "execution_count": 15,
   "metadata": {},
   "outputs": [],
   "source": [
    "def convert_earthfloor( d_earthfloors ) :\n",
    "    \n",
    "    d = copy.deepcopy(d_earthfloors)\n",
    "                \n",
    "    return d"
   ]
  },
  {
   "cell_type": "markdown",
   "metadata": {},
   "source": [
    "### 4) 統合"
   ]
  },
  {
   "cell_type": "markdown",
   "metadata": {},
   "source": [
    "#### Function"
   ]
  },
  {
   "cell_type": "code",
   "execution_count": 16,
   "metadata": {},
   "outputs": [],
   "source": [
    "def convert(d, area_type):\n",
    "    \n",
    "    d['envelope']['index'] = convert_envelope_index(d['common']['house_type'], d['common']['region'])\n",
    "\n",
    "    standard_d = {'envelope': {}}\n",
    "    standard_d['common'] = convert_common(d)   \n",
    "    standard_d['envelope']['general_parts'], standard_d['envelope']['windows'], standard_d['envelope']['doors'], \\\n",
    "        standard_d['envelope']['earthfloor_perimeters'] = convert_parts(d, area_type)\n",
    "    if ('earthfloors' in d['envelope']) == True :\n",
    "        standard_d['envelope']['earthfloors'] = convert_earthfloor(d['envelope']['earthfloors'])\n",
    "    \n",
    "    return standard_d"
   ]
  },
  {
   "cell_type": "markdown",
   "metadata": {},
   "source": [
    "#### Example"
   ]
  },
  {
   "cell_type": "code",
   "execution_count": 21,
   "metadata": {
    "scrolled": true
   },
   "outputs": [
    {
     "name": "stdout",
     "output_type": "stream",
     "text": [
      "U値{'roof': 0.22499999999999998, 'ceiling': 0.22499999999999998, 'wall': 0.496875, 'floor': 0.4500000000000002, 'window': 4.359375, 'door': 4.359375, 'earthfloor_perimeter': 0.7125000000000004},開口部η0.44282273769772657,開口部ηH0.2723047075418278,開口部ηC0.44282273769772657\n",
      "UA計算値0.75,ηAH計算値2.0,ηAC計算値1.4000000000000001\n"
     ]
    },
    {
     "data": {
      "text/plain": [
       "{'envelope': {'general_parts': [{'name': 'ceiling_top_main_occupant_room',\n",
       "    'general_part_type': 'ceiling',\n",
       "    'next_space': 'outdoor',\n",
       "    'external_surface_type': 'outdoor',\n",
       "    'direction': 'top',\n",
       "    'area': 49,\n",
       "    'space_type': 'main_occupant_room',\n",
       "    'spec': {'structure': 'wood',\n",
       "     'u_value_input_method_wood': 'u_value_directly',\n",
       "     'is_sunshade_input': False,\n",
       "     'u_value_wood': 0.22499999999999998}},\n",
       "   {'name': 'wall_n_main_occupant_room',\n",
       "    'general_part_type': 'wall',\n",
       "    'next_space': 'outdoor',\n",
       "    'external_surface_type': 'outdoor',\n",
       "    'direction': 'n',\n",
       "    'area': 40,\n",
       "    'space_type': 'main_occupant_room',\n",
       "    'spec': {'structure': 'wood',\n",
       "     'u_value_input_method_wood': 'u_value_directly',\n",
       "     'is_sunshade_input': False,\n",
       "     'u_value_wood': 0.496875}},\n",
       "   {'name': 'wall_e_main_occupant_room',\n",
       "    'general_part_type': 'wall',\n",
       "    'next_space': 'outdoor',\n",
       "    'external_surface_type': 'outdoor',\n",
       "    'direction': 'e',\n",
       "    'area': 42,\n",
       "    'space_type': 'main_occupant_room',\n",
       "    'spec': {'structure': 'wood',\n",
       "     'u_value_input_method_wood': 'u_value_directly',\n",
       "     'is_sunshade_input': False,\n",
       "     'u_value_wood': 0.496875}},\n",
       "   {'name': 'wall_s_main_occupant_room',\n",
       "    'general_part_type': 'wall',\n",
       "    'next_space': 'outdoor',\n",
       "    'external_surface_type': 'outdoor',\n",
       "    'direction': 's',\n",
       "    'area': 22,\n",
       "    'space_type': 'main_occupant_room',\n",
       "    'spec': {'structure': 'wood',\n",
       "     'u_value_input_method_wood': 'u_value_directly',\n",
       "     'is_sunshade_input': False,\n",
       "     'u_value_wood': 0.496875}},\n",
       "   {'name': 'wall_w_main_occupant_room',\n",
       "    'general_part_type': 'wall',\n",
       "    'next_space': 'outdoor',\n",
       "    'external_surface_type': 'outdoor',\n",
       "    'direction': 'w',\n",
       "    'area': 42,\n",
       "    'space_type': 'main_occupant_room',\n",
       "    'spec': {'structure': 'wood',\n",
       "     'u_value_input_method_wood': 'u_value_directly',\n",
       "     'is_sunshade_input': False,\n",
       "     'u_value_wood': 0.496875}},\n",
       "   {'name': 'floor_open_underfloor_main_occupant_room',\n",
       "    'general_part_type': 'floor',\n",
       "    'next_space': 'open_underfloor',\n",
       "    'external_surface_type': None,\n",
       "    'direction': 'bottom',\n",
       "    'area': 45,\n",
       "    'space_type': 'main_occupant_room',\n",
       "    'spec': {'structure': 'wood',\n",
       "     'u_value_input_method_wood': 'u_value_directly',\n",
       "     'is_sunshade_input': False,\n",
       "     'u_value_wood': 0.4500000000000002}}],\n",
       "  'windows': [{'name': 's_main_occupant_room',\n",
       "    'next_space': 'outdoor',\n",
       "    'direction': 's',\n",
       "    'area': 20,\n",
       "    'space_type': 'main_occupant_room',\n",
       "    'spec': {'window_type': 'single',\n",
       "     'windows': [{'u_value_input_method': 'u_value_directly',\n",
       "       'eta_value_input_method': 'eta_d_value_directly',\n",
       "       'glass_type': 'single',\n",
       "       'u_vaue': 4.359375,\n",
       "       'eta_d_value': 0.44282273769772657}],\n",
       "     'attachment_type': 'none',\n",
       "     'is_windbreak_room_attached': False,\n",
       "     'is_sunshade_input': True,\n",
       "     'sunshade': {'existance': True,\n",
       "      'input_method': 'simple',\n",
       "      'd_h': 3,\n",
       "      'd_e': 0,\n",
       "      'depth': 1}}}],\n",
       "  'doors': [{'name': 'n_main_occupant_room',\n",
       "    'next_space': 'outdoor',\n",
       "    'direction': 'n',\n",
       "    'area': 2,\n",
       "    'space_type': 'main_occupant_room',\n",
       "    'spec': {'is_sunshade_input': False, 'u_vaue': 4.359375}}],\n",
       "  'earthfloor_perimeters': [{'name': 'n_main_occupant_room',\n",
       "    'length': 4,\n",
       "    'space_type': 'main_occupant_room',\n",
       "    'next_space': 'outdoor',\n",
       "    'direction': 'n',\n",
       "    'spec': {'psi_value': 0.7125000000000004}}]},\n",
       " 'common': {'region': 6,\n",
       "  'house_type': 'condominium',\n",
       "  'main_occupant_room_floor_area': 98.0,\n",
       "  'other_occupant_room_floor_area': 0.0,\n",
       "  'total_floor_area': 98.0,\n",
       "  'total_outer_skin_area': 262}}"
      ]
     },
     "execution_count": 21,
     "metadata": {},
     "output_type": "execute_result"
    }
   ],
   "source": [
    "d={\n",
    "    'common': {\n",
    "        'region': 6,\n",
    "        'house_type': 'condominium', # 'detached','condominium'\n",
    "        'main_occupant_room_floor_area': 98.0,\n",
    "        'other_occupant_room_floor_area': 0.0,\n",
    "        'total_floor_area': 98.0\n",
    "    },\n",
    "    'envelope': {\n",
    "        'general_parts': [\n",
    "            {'general_part_type': 'ceiling', 'area': 49, 'next_space': 'outdoor', 'direction': 'top',  'space_type': 'main_occupant_room'},\n",
    "            {'general_part_type':    'wall', 'area': 40, 'next_space': 'outdoor', 'direction': 'n',  'space_type': 'main_occupant_room'},\n",
    "            {'general_part_type':    'wall', 'area': 42, 'next_space': 'outdoor', 'direction': 'e',  'space_type': 'main_occupant_room'},\n",
    "            {'general_part_type':    'wall', 'area': 22, 'next_space': 'outdoor', 'direction': 's',  'space_type': 'main_occupant_room'},\n",
    "            {'general_part_type':    'wall', 'area': 42, 'next_space': 'outdoor', 'direction': 'w',  'space_type': 'main_occupant_room'},\n",
    "            {'general_part_type':   'floor', 'area': 45, 'next_space': 'open_underfloor', 'direction': 'bottom', 'space_type': 'main_occupant_room'}\n",
    "        ],\n",
    "        'windows': [\n",
    "            {'area': 20, 'next_space': 'outdoor', 'direction': 's',  'space_type': 'main_occupant_room'}\n",
    "        ],\n",
    "        'doors': [\n",
    "            {'area': 2, 'next_space': 'outdoor', 'direction': 'n',  'space_type': 'main_occupant_room'}\n",
    "        ],\n",
    "        'earthfloor_perimeters': [\n",
    "            {'length': 4, 'next_space': 'outdoor', 'direction': 'n',  'space_type': 'main_occupant_room'}\n",
    "        ],\n",
    "        'earthfloor_centers': [\n",
    "            {'area': 4}\n",
    "        ]\n",
    "    }\n",
    "}\n",
    "\n",
    "convert(d, area_type = 'design_house_with_room_usage')"
   ]
  },
  {
   "cell_type": "code",
   "execution_count": null,
   "metadata": {},
   "outputs": [],
   "source": []
  }
 ],
 "metadata": {
  "kernelspec": {
   "display_name": "Python 3",
   "language": "python",
   "name": "python3"
  },
  "language_info": {
   "codemirror_mode": {
    "name": "ipython",
    "version": 3
   },
   "file_extension": ".py",
   "mimetype": "text/x-python",
   "name": "python",
   "nbconvert_exporter": "python",
   "pygments_lexer": "ipython3",
   "version": "3.7.0"
  }
 },
 "nbformat": 4,
 "nbformat_minor": 2
}
