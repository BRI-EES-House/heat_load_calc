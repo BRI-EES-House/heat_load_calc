{
 "cells": [
  {
   "cell_type": "code",
   "execution_count": 1,
   "metadata": {},
   "outputs": [],
   "source": [
    "import copy\n",
    "import csv\n",
    "import pandas as pd"
   ]
  },
  {
   "cell_type": "markdown",
   "metadata": {},
   "source": [
    "#### 1) conditonsの条件に該当しない項目をNoneとする"
   ]
  },
  {
   "cell_type": "code",
   "execution_count": 2,
   "metadata": {},
   "outputs": [],
   "source": [
    "def set_none(d, case):\n",
    "    \n",
    "    for key in d :\n",
    "        if 'conditions' in d[key]:            \n",
    "            set_typical = False\n",
    "            \n",
    "            # conditionsの中に全ての項目が条件を満たす組合せがある場合には、typicalを設定に該当\n",
    "            for condition in d[key]['conditions']:\n",
    "                if all(case[condition_key] == condition[condition_key] for condition_key in condition): \n",
    "                    set_typical = True\n",
    "                    \n",
    "            # typicalを設定に該当しない場合には、Noneとする\n",
    "            if set_typical == False:\n",
    "                case[key] = None"
   ]
  },
  {
   "cell_type": "markdown",
   "metadata": {},
   "source": [
    "#### 2) 基準ケース作成"
   ]
  },
  {
   "cell_type": "code",
   "execution_count": 3,
   "metadata": {},
   "outputs": [],
   "source": [
    "def make_standard_case(d):\n",
    "    \n",
    "    standard_case = {}\n",
    "    \n",
    "    # 基準ケースの作成\n",
    "    for key in d:\n",
    "        standard_case[key] = d[key]['typical']\n",
    "\n",
    "    set_none(d, standard_case)\n",
    "                    \n",
    "    return standard_case"
   ]
  },
  {
   "cell_type": "markdown",
   "metadata": {},
   "source": [
    "#### 3) リスト要素の追加・削除"
   ]
  },
  {
   "cell_type": "code",
   "execution_count": 4,
   "metadata": {},
   "outputs": [],
   "source": [
    "def add_and_remove_list(list, setting):\n",
    "    \n",
    "    # リスト要素の追加\n",
    "    if 'extra' in setting:\n",
    "        for element in setting['extra']:\n",
    "            if element not in list:\n",
    "                list.append(element)\n",
    "    \n",
    "    # リスト要素の削除\n",
    "    if 'exception' in setting:\n",
    "        for element in setting['exception']:\n",
    "            if element in list:\n",
    "                list.remove(element)\n",
    "    \n",
    "    return sorted(list)"
   ]
  },
  {
   "cell_type": "markdown",
   "metadata": {},
   "source": [
    "#### 4) 作成済ケースの確認"
   ]
  },
  {
   "cell_type": "code",
   "execution_count": 5,
   "metadata": {},
   "outputs": [],
   "source": [
    "def check_existence(cases):\n",
    "    \n",
    "    existing_cases = {}\n",
    "    \n",
    "    for i, case in enumerate(cases):\n",
    "    \n",
    "        # 作成済ケースに一致するケースがある場合は、一致するケースの番号を取得\n",
    "        t_case = tuple(case.values())\n",
    "        if t_case in existing_cases:\n",
    "            case['existing_case'] = existing_cases[t_case] + 1\n",
    "\n",
    "        # 作成済ケースに一致するケースがない場合は、作成済ケースに追加\n",
    "        else:\n",
    "            existing_cases[t_case] = i\n"
   ]
  },
  {
   "cell_type": "markdown",
   "metadata": {},
   "source": [
    "#### 5) 条件を満たすようconditionに規定された項目の値を設定"
   ]
  },
  {
   "cell_type": "code",
   "execution_count": 6,
   "metadata": {},
   "outputs": [],
   "source": [
    "def meet_condition(d, case, key):\n",
    "    \n",
    "    # リストの1番目の条件を満たすよう、リスト中の項目を設定する\n",
    "    for condition_key in  d[key]['conditions'][0]:\n",
    "        case[condition_key] = d[key]['conditions'][0][condition_key]    \n",
    "        if 'conditions' in d[condition_key]:\n",
    "            meet_condition(d, case, condition_key)\n",
    "            \n",
    "    return case"
   ]
  },
  {
   "cell_type": "markdown",
   "metadata": {},
   "source": [
    "#### 6) 要素選択の項目の設定値リスト作成"
   ]
  },
  {
   "cell_type": "code",
   "execution_count": 7,
   "metadata": {},
   "outputs": [],
   "source": [
    "def make_list_for_options(cases, standard_case, key, d):\n",
    "    \n",
    "    # ケース設定用のリスト作成\n",
    "    base_options = d[key]['options']\n",
    "    temp = [0] + base_options + [max(base_options) + 1]\n",
    "    \n",
    "    options = add_and_remove_list(temp, d[key])\n",
    "    \n",
    "    return options"
   ]
  },
  {
   "cell_type": "markdown",
   "metadata": {},
   "source": [
    "#### 7) 値入力の項目の設定値リスト作成"
   ]
  },
  {
   "cell_type": "code",
   "execution_count": 8,
   "metadata": {},
   "outputs": [],
   "source": [
    "def make_list_for_values(cases, standard_case, key, d):\n",
    "    \n",
    "    # ケース設定用のリスト作成\n",
    "    temp = [\n",
    "        d[key]['min'] - d[key]['dec'],\n",
    "        d[key]['min'],\n",
    "        d[key]['typical'],\n",
    "        d[key]['max'],\n",
    "        d[key]['max'] + d[key]['dec']\n",
    "    ]\n",
    "    values = add_and_remove_list(temp, d[key])\n",
    "    \n",
    "    return values"
   ]
  },
  {
   "cell_type": "markdown",
   "metadata": {},
   "source": [
    "#### 8) ケース作成"
   ]
  },
  {
   "cell_type": "code",
   "execution_count": 9,
   "metadata": {},
   "outputs": [],
   "source": [
    "def make_cases(standard_case, d):\n",
    "    \n",
    "    cases = []\n",
    "\n",
    "    # ケースの生成\n",
    "    for key in d:\n",
    "        \n",
    "        #要素選択の項目\n",
    "        if d[key]['input_method'] == 'choose_from_options' :\n",
    "            list = make_list_for_options(cases, standard_case, key, d)\n",
    "        \n",
    "        #値入力の項目\n",
    "        elif d[key]['input_method'] == 'input_value' :\n",
    "            list = make_list_for_values(cases, standard_case, key, d)\n",
    "\n",
    "        # ケース設定\n",
    "        for element in list:\n",
    "            case = copy.deepcopy(standard_case)    \n",
    "            case[key] = element\n",
    "\n",
    "            # conditionsを含む場合\n",
    "            if 'conditions' in d[key]:\n",
    "                case = meet_condition(d, case, key)\n",
    "\n",
    "            set_none(d, case)\n",
    "            \n",
    "            cases.append(case)\n",
    "\n",
    "    return cases"
   ]
  },
  {
   "cell_type": "markdown",
   "metadata": {},
   "source": [
    "#### 9) テストケース出力"
   ]
  },
  {
   "cell_type": "code",
   "execution_count": 10,
   "metadata": {},
   "outputs": [],
   "source": [
    "def output_cases(keys_and_settings):\n",
    "\n",
    "    # 基準ケースの作成\n",
    "    standard_case = make_standard_case(keys_and_settings)\n",
    "\n",
    "    # テスケースの作成\n",
    "    cases = []\n",
    "    cases += [standard_case]\n",
    "    cases += make_cases(standard_case, keys_and_settings)    \n",
    "\n",
    "    # 重複確認\n",
    "    check_existence(cases)   \n",
    "\n",
    "    # csv出力\n",
    "    keys = list(keys_and_settings.keys()) + ['existing_case']\n",
    "    with open(\"test_lv1_to_lv2_cases.csv\", \"w\", encoding=\"Shift_jis\") as csv_test_lv1_to_lv2_cases:\n",
    "        csv_test_lv1_to_lv2_cases.write(','.join(keys) + '\\n')\n",
    "\n",
    "        for case in cases:\n",
    "            row = [(str(case[key]) if key in case else '') for key in keys]\n",
    "            csv_test_lv1_to_lv2_cases.write(','.join(row) + '\\n')"
   ]
  },
  {
   "cell_type": "markdown",
   "metadata": {},
   "source": [
    "#### 10) 項目設定"
   ]
  },
  {
   "cell_type": "markdown",
   "metadata": {},
   "source": [
    "・床面積のtypicalは、WEBプログラムのデフォルト値を参考に設定。  \n",
    "・U値のtypicalは、6地域の仕様基準を参考に設定。  \n",
    "・窓のη値のtypicalは、金属製建具の二層複層ガラスを参考に設定。  \n",
    "・窓のf値のtypicalは、「当該住戸の外皮の部位の面積等を用いずに外皮性能を評価する方法」のデフォルト値を使用する場合の6地域を参考に設定。"
   ]
  },
  {
   "cell_type": "code",
   "execution_count": 11,
   "metadata": {},
   "outputs": [],
   "source": [
    "keys_and_settings = {\n",
    "    'region'                                 : { 'input_method':'choose_from_options', 'options': [1, 2, 3, 4, 5, 6, 7, 8], 'typical': 1, \n",
    "                                                 'extra':[0, 10] },\n",
    "    'main_occupant_room_floor_area'          : { 'input_method':'input_value', 'dec':0.01, 'typical': 29.81, 'min':0.01, 'max':999.99, \n",
    "                                                 'extra':[0, 100] },\n",
    "    'other_occupant_room_floor_area'         : { 'input_method':'input_value', 'dec':0.01, 'typical': 51.34, 'min':0.00, 'max':999.99 },\n",
    "    'total_floor_area'                       : { 'input_method':'input_value', 'dec':0.01, 'typical':120.08, 'min':0.01, 'max':999.99 },\n",
    "    'input_method'                           : { 'input_method':'choose_from_options', 'options': [1, 2, 3, 4], 'typical': 1,\n",
    "                                                 'exception':[2, 3, 4] },\n",
    "    'insulation_type'                        : { 'input_method':'choose_from_options', 'options': [1, 2]   , 'typical': 1},\n",
    "    'insulation_type_bathroom'               : { 'input_method':'choose_from_options', 'options': [1, 2, 3], 'typical': 1,\n",
    "                                                 'conditions':[{'insulation_type':1}]},\n",
    "    'u_value_roof'                           : { 'input_method':'input_value', 'dec':0.01, 'typical': 0.24, 'min':0.00, 'max':10.00 },\n",
    "    'u_value_wall'                           : { 'input_method':'input_value', 'dec':0.01, 'typical': 0.53, 'min':0.00, 'max':10.00 },\n",
    "    'u_value_door'                           : { 'input_method':'input_value', 'dec':0.01, 'typical': 4.65, 'min':0.00, 'max':10.00 },\n",
    "    'u_value_window'                         : { 'input_method':'input_value', 'dec':0.01, 'typical': 4.65, 'min':0.00, 'max':10.00 },    \n",
    "    'u_value_floor_bathroom'                 : { 'input_method':'input_value', 'dec':0.01, 'typical': 0.48, 'min':0.00, 'max':10.00,\n",
    "                                                 'conditions':[{'insulation_type_bathroom':1}]},\n",
    "    'u_value_floor_other'                    : { 'input_method':'input_value', 'dec':0.01, 'typical': 0.48, 'min':0.00, 'max':10.00,\n",
    "                                                 'conditions':[{'insulation_type':1}]},\n",
    "    'is_psi_value_base_input'                : { 'input_method':'choose_from_options', 'options': [1, 2], 'typical': 1},\n",
    "    'psi_value_earthfloor_perimeter_entrance': { 'input_method':'input_value', 'dec':0.01, 'typical': 0.53, 'min':0.00, 'max':10.00,\n",
    "                                                 'conditions':[{'is_psi_value_base_input':1}]},\n",
    "    'psi_value_earthfloor_perimeter_bathroom': { 'input_method':'input_value', 'dec':0.01, 'typical': 0.53, 'min':0.00, 'max':10.00,\n",
    "                                                 'conditions':[{'insulation_type_bathroom':2, 'is_psi_value_base_input':1}]},\n",
    "    'psi_value_earthfloor_perimeter_other'   : { 'input_method':'input_value', 'dec':0.01, 'typical': 0.53, 'min':0.00, 'max':10.00,\n",
    "                                                 'conditions':[{'insulation_type':2, 'is_psi_value_base_input':1}]},\n",
    "    'eta_d_value_window_h'                   : { 'input_method':'input_value', 'dec':0.001, 'typical': 0.630, 'min':0.000, 'max':1.000 },\n",
    "    'eta_d_value_window_c'                   : { 'input_method':'input_value', 'dec':0.001, 'typical': 0.630, 'min':0.000, 'max':1.000 },\n",
    "    'is_f_value_input'                       : { 'input_method':'choose_from_options', 'options': [1, 2], 'typical': 1},\n",
    "    'f_value_h': { 'input_method':'input_value', 'dec':0.001, 'typical': 0.589, 'min':0.000, 'max':1.000, 'conditions':[{'is_f_value_input':1}]},\n",
    "    'f_value_c': { 'input_method':'input_value', 'dec':0.001, 'typical': 0.864, 'min':0.000, 'max':1.000, 'conditions':[{'is_f_value_input':1}]}\n",
    "}\n",
    "\n",
    "output_cases(keys_and_settings)"
   ]
  }
 ],
 "metadata": {
  "kernelspec": {
   "display_name": "Python 3",
   "language": "python",
   "name": "python3"
  },
  "language_info": {
   "codemirror_mode": {
    "name": "ipython",
    "version": 3
   },
   "file_extension": ".py",
   "mimetype": "text/x-python",
   "name": "python",
   "nbconvert_exporter": "python",
   "pygments_lexer": "ipython3",
   "version": "3.7.0"
  }
 },
 "nbformat": 4,
 "nbformat_minor": 2
}
