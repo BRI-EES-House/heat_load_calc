{
 "cells": [
  {
   "cell_type": "code",
   "execution_count": 1,
   "metadata": {},
   "outputs": [],
   "source": [
    "import copy\n",
    "import csv\n",
    "import pandas as pd"
   ]
  },
  {
   "cell_type": "markdown",
   "metadata": {},
   "source": [
    "#### 1) 基準ケース作成"
   ]
  },
  {
   "cell_type": "code",
   "execution_count": 2,
   "metadata": {},
   "outputs": [],
   "source": [
    "def make_standard_case(d):\n",
    "    \n",
    "    standard_case = {}\n",
    "    \n",
    "    for key in d:\n",
    "        standard_case[key] = d[key]['typical']\n",
    "    \n",
    "    return standard_case"
   ]
  },
  {
   "cell_type": "markdown",
   "metadata": {},
   "source": [
    "#### 2) 要素選択の項目のケース作成"
   ]
  },
  {
   "cell_type": "code",
   "execution_count": 3,
   "metadata": {},
   "outputs": [],
   "source": [
    "def make_cases_for_options(standard_case, key, setting):\n",
    "    \n",
    "    cases_for_options = []\n",
    "    \n",
    "    options = [0]\n",
    "    options.extend(setting['options'])\n",
    "    options.extend([max(setting['options']) + 1])\n",
    "    \n",
    "    for option in options:\n",
    "        case = copy.deepcopy(standard_case)\n",
    "        case[key] = option\n",
    "        cases_for_options.append(case)\n",
    "    \n",
    "    return cases_for_options"
   ]
  },
  {
   "cell_type": "markdown",
   "metadata": {},
   "source": [
    "#### 3) 値入力の項目のケース作成"
   ]
  },
  {
   "cell_type": "code",
   "execution_count": 4,
   "metadata": {},
   "outputs": [],
   "source": [
    "def make_cases_for_values(standard_case, key, setting):\n",
    "    \n",
    "    cases_for_values = []\n",
    "    \n",
    "    values = [\n",
    "        setting['min'] - setting['dec'],\n",
    "        setting['min'],\n",
    "        setting['typical'],\n",
    "        setting['max'],\n",
    "        setting['max'] + setting['dec']\n",
    "    ]\n",
    "\n",
    "    for value in values:\n",
    "        case = copy.deepcopy(standard_case)    \n",
    "        case[key] = value\n",
    "        cases_for_values.append(case)\n",
    "    \n",
    "    return cases_for_values"
   ]
  },
  {
   "cell_type": "markdown",
   "metadata": {},
   "source": [
    "#### 4) ケース作成"
   ]
  },
  {
   "cell_type": "code",
   "execution_count": 5,
   "metadata": {},
   "outputs": [],
   "source": [
    "def make_cases(keys_and_settings):\n",
    "\n",
    "    # 基準ケースの作成\n",
    "    standard_case = make_standard_case(keys_and_settings)\n",
    "\n",
    "    # ケース一覧\n",
    "    cases = []\n",
    "\n",
    "    # ケースの生成\n",
    "    for key in keys_and_settings:\n",
    "        \n",
    "        #要素選択の項目\n",
    "        if keys_and_settings[key]['input_method'] == 'choose_from_options' :\n",
    "            cases.extend(make_cases_for_options(standard_case, key, keys_and_settings[key]))\n",
    "        \n",
    "        #値入力の項目\n",
    "        if keys_and_settings[key]['input_method'] == 'input_value' :\n",
    "            cases.extend(make_cases_for_values(standard_case, key, keys_and_settings[key]))\n",
    "        \n",
    "    return cases"
   ]
  },
  {
   "cell_type": "markdown",
   "metadata": {},
   "source": [
    "#### 5) csv出力"
   ]
  },
  {
   "cell_type": "code",
   "execution_count": 6,
   "metadata": {},
   "outputs": [],
   "source": [
    "def output_cases(keys_and_settings):\n",
    "\n",
    "    testcases = make_cases(keys_and_settings)\n",
    "        \n",
    "    cols = testcases[0].keys()\n",
    "\n",
    "    with open(\"test_lv1_to_lv2_cases.csv\", \"w\", encoding=\"Shift_jis\") as csv_test_lv1_to_lv2_cases:\n",
    "        csv_test_lv1_to_lv2_cases.write(','.join(cols) + '\\n')\n",
    "\n",
    "        for testcase in testcases:\n",
    "            row = [str(testcase[col]) for col in cols]\n",
    "            csv_test_lv1_to_lv2_cases.write(','.join(row) + '\\n')"
   ]
  },
  {
   "cell_type": "markdown",
   "metadata": {},
   "source": [
    "#### 6) 項目設定"
   ]
  },
  {
   "cell_type": "code",
   "execution_count": 7,
   "metadata": {},
   "outputs": [],
   "source": [
    "keys_and_settings = {\n",
    "    'region': { 'input_method':'choose_from_options', 'options': [1, 2, 3, 4, 5, 6, 7, 8], 'typical': 1 },\n",
    "    'main_occupant_room_floor_area' : { 'input_method':'input_value', 'dec':0.01, 'typical': 29.81, 'min':0.00, 'max':999.99 },\n",
    "    'other_occupant_room_floor_area': { 'input_method':'input_value', 'dec':0.01, 'typical': 51.34, 'min':0.00, 'max':999.99 },\n",
    "    'total_floor_area'              : { 'input_method':'input_value', 'dec':0.01, 'typical':120.08, 'min':0.00, 'max':999.99 },\n",
    "    'input_method': { 'input_method':'choose_from_options', 'options': [1, 2, 3, 4], 'typical': 1 },\n",
    "    'insulation_type'         : { 'input_method':'choose_from_options', 'options': [1, 2]   , 'typical': 1 },\n",
    "    'insulation_type_bathroom': { 'input_method':'choose_from_options', 'options': [1, 2, 3], 'typical': 1 },\n",
    "    'u_value_roof'          : { 'input_method':'input_value', 'dec':0.01, 'typical': 1.00, 'min':0.00, 'max':10.00 },\n",
    "    'u_value_wall'          : { 'input_method':'input_value', 'dec':0.01, 'typical': 1.00, 'min':0.00, 'max':10.00 },\n",
    "    'u_value_door'          : { 'input_method':'input_value', 'dec':0.01, 'typical': 1.00, 'min':0.00, 'max':10.00 },\n",
    "    'u_value_window'        : { 'input_method':'input_value', 'dec':0.01, 'typical': 1.00, 'min':0.00, 'max':10.00 },\n",
    "    'u_value_floor_bathroom': { 'input_method':'input_value', 'dec':0.01, 'typical': 1.00, 'min':0.00, 'max':10.00 },\n",
    "    'u_value_floor_other'   : { 'input_method':'input_value', 'dec':0.01, 'typical': 1.00, 'min':0.00, 'max':10.00 },\n",
    "    'is_psi_value_base_input': { 'input_method':'choose_from_options', 'options': [1, 2], 'typical': 1 },\n",
    "    'psi_value_earthfloor_perimeter_entrance': { 'input_method':'input_value', 'dec':0.01, 'typical': 1.00, 'min':0.00, 'max':10.00 },\n",
    "    'psi_value_earthfloor_perimeter_bathroom': { 'input_method':'input_value', 'dec':0.01, 'typical': 1.00, 'min':0.00, 'max':10.00 },\n",
    "    'psi_value_earthfloor_perimeter_other'   : { 'input_method':'input_value', 'dec':0.01, 'typical': 1.00, 'min':0.00, 'max':10.00 },\n",
    "    'eta_d_value_window_h': { 'input_method':'input_value', 'dec':0.001, 'typical': 0.600, 'min':0.000, 'max':1.000 },\n",
    "    'eta_d_value_window_c': { 'input_method':'input_value', 'dec':0.001, 'typical': 0.600, 'min':0.000, 'max':1.000 },\n",
    "    'is_f_value_input': { 'input_method':'choose_from_options', 'options': [1, 2], 'typical': 1 },\n",
    "    'f_value_h': { 'input_method':'input_value', 'dec':0.001, 'typical': 0.600, 'min':0.000, 'max':1.000 },\n",
    "    'f_value_c': { 'input_method':'input_value', 'dec':0.001, 'typical': 0.700, 'min':0.000, 'max':1.000 }\n",
    "}\n",
    "\n",
    "output_cases(keys_and_settings)"
   ]
  },
  {
   "cell_type": "markdown",
   "metadata": {},
   "source": [
    "typicalの設定  \n",
    "is_f_value_inputがTrueならばf_value_hとf_value_cを入力するというような処理が入る場合  \n",
    "要素選択は1,2,3,…の選択で、0と最大値+1の追加でよいか"
   ]
  },
  {
   "cell_type": "code",
   "execution_count": null,
   "metadata": {},
   "outputs": [],
   "source": []
  }
 ],
 "metadata": {
  "kernelspec": {
   "display_name": "Python 3",
   "language": "python",
   "name": "python3"
  },
  "language_info": {
   "codemirror_mode": {
    "name": "ipython",
    "version": 3
   },
   "file_extension": ".py",
   "mimetype": "text/x-python",
   "name": "python",
   "nbconvert_exporter": "python",
   "pygments_lexer": "ipython3",
   "version": "3.7.0"
  }
 },
 "nbformat": 4,
 "nbformat_minor": 2
}
