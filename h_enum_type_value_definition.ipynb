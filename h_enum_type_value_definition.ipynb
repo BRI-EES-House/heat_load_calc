{
 "cells": [
  {
   "cell_type": "code",
   "execution_count": 1,
   "metadata": {},
   "outputs": [],
   "source": [
    "from enum import Enum, unique"
   ]
  },
  {
   "cell_type": "markdown",
   "metadata": {},
   "source": [
    "# 列挙型の変数の定義"
   ]
  },
  {
   "cell_type": "markdown",
   "metadata": {},
   "source": [
    "## 隣接空間の種類"
   ]
  },
  {
   "cell_type": "markdown",
   "metadata": {},
   "source": [
    "第3章「暖冷房負荷と外皮性能」第2節「外皮性能」における温度差係数で規定。"
   ]
  },
  {
   "cell_type": "markdown",
   "metadata": {},
   "source": [
    "- 外気\n",
    "- 外気に通じる空間\n",
    "- 外気に通じていない空間\n",
    "- 外気に通じる床裏\n",
    "- 住戸及び住戸と同様の熱的環境の空間\n",
    "- 外気に通じていない床裏"
   ]
  },
  {
   "cell_type": "code",
   "execution_count": 2,
   "metadata": {},
   "outputs": [],
   "source": [
    "@unique\n",
    "class NextSpace(Enum):\n",
    "    \n",
    "    OUTDOOR           = 'outdoor'\n",
    "    OPEN_SPACE        = 'open_space'\n",
    "    CLOSED_SPACE      = 'closed_space'\n",
    "    OPEN_UNDERFLOOR   = 'open_underfloor'\n",
    "    AIR_CONDITIONED   = 'air_conditioned'\n",
    "    CLOSED_UNDERFLOOR = 'closed_underfloor'"
   ]
  },
  {
   "cell_type": "markdown",
   "metadata": {},
   "source": [
    "使用例（以下、全ての列挙型で同じ。）"
   ]
  },
  {
   "cell_type": "markdown",
   "metadata": {},
   "source": [
    "stringからenum型への変換"
   ]
  },
  {
   "cell_type": "code",
   "execution_count": 3,
   "metadata": {},
   "outputs": [
    {
     "name": "stdout",
     "output_type": "stream",
     "text": [
      "NextSpace.OUTDOOR\n",
      "True\n"
     ]
    }
   ],
   "source": [
    "x = NextSpace('outdoor')\n",
    "print(x)\n",
    "print(x == NextSpace.OUTDOOR)"
   ]
  },
  {
   "cell_type": "markdown",
   "metadata": {},
   "source": [
    "enum型からstringへの変換"
   ]
  },
  {
   "cell_type": "code",
   "execution_count": 4,
   "metadata": {},
   "outputs": [
    {
     "data": {
      "text/plain": [
       "'outdoor'"
      ]
     },
     "execution_count": 4,
     "metadata": {},
     "output_type": "execute_result"
    }
   ],
   "source": [
    "x.value"
   ]
  },
  {
   "cell_type": "markdown",
   "metadata": {},
   "source": [
    "## 一般部位の種類"
   ]
  },
  {
   "cell_type": "markdown",
   "metadata": {},
   "source": [
    "第3章「暖冷房負荷と外皮性能」第3節「熱貫流率及び線熱貫流率」における表面熱伝達抵抗で規定。"
   ]
  },
  {
   "cell_type": "markdown",
   "metadata": {},
   "source": [
    "- 屋根\n",
    "- 天井\n",
    "- 外壁\n",
    "- 床\n",
    "- 界壁\n",
    "- 上階側界床\n",
    "- 下界側界床"
   ]
  },
  {
   "cell_type": "code",
   "execution_count": 5,
   "metadata": {},
   "outputs": [],
   "source": [
    "@unique\n",
    "class GeneralPartType(Enum):\n",
    "    \n",
    "    CEILING                 = 'ceiling'\n",
    "    ROOF                    = 'roof'\n",
    "    WALL                    = 'wall'\n",
    "    FLOOR                   = 'floor'\n",
    "    BOUNDARY_WALL           = 'boundary_wall'\n",
    "    UPWARD_BOUNDARY_FLOOR   = 'upward_boundary_floor'\n",
    "    DOWNWARD_BOUNDARY_FLOOR = 'downward_boundary_floor'"
   ]
  },
  {
   "cell_type": "code",
   "execution_count": null,
   "metadata": {},
   "outputs": [],
   "source": []
  }
 ],
 "metadata": {
  "kernelspec": {
   "display_name": "Python 3",
   "language": "python",
   "name": "python3"
  },
  "language_info": {
   "codemirror_mode": {
    "name": "ipython",
    "version": 3
   },
   "file_extension": ".py",
   "mimetype": "text/x-python",
   "name": "python",
   "nbconvert_exporter": "python",
   "pygments_lexer": "ipython3",
   "version": "3.6.4"
  }
 },
 "nbformat": 4,
 "nbformat_minor": 2
}
