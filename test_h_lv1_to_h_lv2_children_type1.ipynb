{
 "cells": [
  {
   "cell_type": "code",
   "execution_count": 1,
   "metadata": {},
   "outputs": [],
   "source": [
    "import copy\n",
    "import csv\n",
    "import pandas as pd"
   ]
  },
  {
   "cell_type": "markdown",
   "metadata": {},
   "source": [
    "#### 1) 基準ケース作成"
   ]
  },
  {
   "cell_type": "code",
   "execution_count": 2,
   "metadata": {},
   "outputs": [],
   "source": [
    "def make_standard_case(standard_case, d):\n",
    "    \n",
    "    # 基準ケースの作成\n",
    "    for key in d:\n",
    "        standard_case[key] = d[key]['typical']\n",
    "        if 'children' in d[key]:\n",
    "            if d[key]['children'][d[key]['typical']] != {} :\n",
    "                standard_case = make_standard_case(standard_case, d[key]['children'][d[key]['typical']])\n",
    "\n",
    "    return standard_case"
   ]
  },
  {
   "cell_type": "markdown",
   "metadata": {},
   "source": [
    "#### 2) リスト要素の追加・削除"
   ]
  },
  {
   "cell_type": "code",
   "execution_count": 3,
   "metadata": {},
   "outputs": [],
   "source": [
    "def add_and_remove_list(list, setting):\n",
    "    \n",
    "    # リスト要素の追加\n",
    "    if 'extra' in setting:\n",
    "        for element in setting['extra']:\n",
    "            if element not in list:\n",
    "                list.append(element)\n",
    "    \n",
    "    # リスト要素の削除\n",
    "    if 'exception' in setting:\n",
    "        for element in setting['exception']:\n",
    "            if element in list:\n",
    "                list.remove(element)\n",
    "    \n",
    "    return sorted(list)"
   ]
  },
  {
   "cell_type": "markdown",
   "metadata": {},
   "source": [
    "#### 3) 要素選択の項目のケース作成"
   ]
  },
  {
   "cell_type": "code",
   "execution_count": 4,
   "metadata": {},
   "outputs": [],
   "source": [
    "def make_cases_for_options(keys, cases, standard_case, key, setting):\n",
    "    \n",
    "    # ケース設定用のリスト作成\n",
    "    temp = [0]\n",
    "    temp.extend(setting['options'])\n",
    "    temp.extend([max(setting['options']) + 1])\n",
    "    options = add_and_remove_list(temp, setting)\n",
    "                     \n",
    "    # ケース設定\n",
    "    for option in options:\n",
    "        case = copy.deepcopy(standard_case)\n",
    "        case[key] = option\n",
    "        \n",
    "        # 条件分岐あり\n",
    "        if 'children' in setting:\n",
    "            if option in setting['children']:\n",
    "                if setting['children'][option] == {}:\n",
    "                    if sum(0 if case[key] == standard_case[key] else 1 for key in keys) == 1 :\n",
    "                        cases.append(case)\n",
    "                else:\n",
    "                    cases = make_cases(keys, cases, case, setting['children'][option])\n",
    "                    \n",
    "        # 条件分岐なし\n",
    "        else:\n",
    "            if sum(0 if case[key] == standard_case[key] else 1 for key in keys) == 1 :\n",
    "                cases.append(case)\n",
    "    \n",
    "    return cases"
   ]
  },
  {
   "cell_type": "markdown",
   "metadata": {},
   "source": [
    "#### 4) 値入力の項目のケース作成"
   ]
  },
  {
   "cell_type": "code",
   "execution_count": 5,
   "metadata": {},
   "outputs": [],
   "source": [
    "def make_cases_for_values(keys, cases, standard_case, key, setting):\n",
    "    \n",
    "    # ケース設定用のリスト作成\n",
    "    temp = [\n",
    "        setting['min'] - setting['dec'],\n",
    "        setting['min'],\n",
    "        setting['typical'],\n",
    "        setting['max'],\n",
    "        setting['max'] + setting['dec']\n",
    "    ]\n",
    "    values = add_and_remove_list(temp, setting)\n",
    "\n",
    "    # ケース設定\n",
    "    for value in values:\n",
    "        case = copy.deepcopy(standard_case)    \n",
    "        case[key] = value\n",
    "        if sum(0 if case[key] == standard_case[key] else 1 for key in keys) == 1 :\n",
    "            cases.append(case)\n",
    "    \n",
    "    return cases"
   ]
  },
  {
   "cell_type": "markdown",
   "metadata": {},
   "source": [
    "#### 5) ケース作成"
   ]
  },
  {
   "cell_type": "code",
   "execution_count": 6,
   "metadata": {},
   "outputs": [],
   "source": [
    "def make_cases(keys, cases, standard_case, keys_and_settings):\n",
    "\n",
    "    # ケースの生成\n",
    "    for key in keys_and_settings:\n",
    "        \n",
    "        #要素選択の項目\n",
    "        if keys_and_settings[key]['input_method'] == 'choose_from_options' :\n",
    "            cases = make_cases_for_options(keys, cases, standard_case, key, keys_and_settings[key])\n",
    "        \n",
    "        #値入力の項目\n",
    "        if keys_and_settings[key]['input_method'] == 'input_value' :\n",
    "            cases = make_cases_for_values(keys, cases, standard_case, key, keys_and_settings[key])\n",
    "        \n",
    "    return cases"
   ]
  },
  {
   "cell_type": "markdown",
   "metadata": {},
   "source": [
    "#### 6) csv出力"
   ]
  },
  {
   "cell_type": "code",
   "execution_count": 7,
   "metadata": {},
   "outputs": [],
   "source": [
    "def output_cases(keys, keys_and_settings):\n",
    "\n",
    "    # 基準ケースの作成\n",
    "    standard_case = {}\n",
    "    standard_case = make_standard_case(standard_case, keys_and_settings)\n",
    "    \n",
    "    # テスケースの作成\n",
    "    cases = [standard_case]\n",
    "    testcases = make_cases(keys, cases, standard_case, keys_and_settings)\n",
    "\n",
    "    # csv出力\n",
    "    with open(\"test_lv1_to_lv2_cases.csv\", \"w\", encoding=\"Shift_jis\") as csv_test_lv1_to_lv2_cases:\n",
    "        csv_test_lv1_to_lv2_cases.write(','.join(keys) + '\\n')\n",
    "\n",
    "        for testcase in testcases:\n",
    "            row = [(str(testcase[key]) if key in testcase else '') for key in keys]\n",
    "            csv_test_lv1_to_lv2_cases.write(','.join(row) + '\\n')"
   ]
  },
  {
   "cell_type": "markdown",
   "metadata": {},
   "source": [
    "#### 7) 項目設定"
   ]
  },
  {
   "cell_type": "markdown",
   "metadata": {},
   "source": [
    "・床面積のtypicalは、WEBプログラムのデフォルト値を参考に設定。  \n",
    "・U値のtypicalは、6地域の仕様基準を参考に設定。  \n",
    "・窓のη値のtypicalは、金属製建具の二層複層ガラスを参考に設定。  \n",
    "・窓のf値のtypicalは、「当該住戸の外皮の部位の面積等を用いずに外皮性能を評価する方法」のデフォルト値を使用する場合の6地域を参考に設定。"
   ]
  },
  {
   "cell_type": "code",
   "execution_count": 8,
   "metadata": {},
   "outputs": [],
   "source": [
    "keys_and_settings = {\n",
    "    'region'                                 : { 'input_method':'choose_from_options', 'options': [1, 2, 3, 4, 5, 6, 7, 8], 'typical': 1, 'extra':[0, 10] },\n",
    "    'main_occupant_room_floor_area'          : { 'input_method':'input_value', 'dec':0.01, 'typical': 29.81, 'min':0.01, 'max':999.99, 'extra':[0, 100] },\n",
    "    'other_occupant_room_floor_area'         : { 'input_method':'input_value', 'dec':0.01, 'typical': 51.34, 'min':0.00, 'max':999.99 },\n",
    "    'total_floor_area'                       : { 'input_method':'input_value', 'dec':0.01, 'typical':120.08, 'min':0.01, 'max':999.99 },\n",
    "    'input_method'                           : { 'input_method':'choose_from_options', 'options': [1, 2, 3, 4], 'typical': 1, 'exception':[2, 3, 4] },\n",
    "    'insulation_type'                        : { 'input_method':'choose_from_options', 'options': [1, 2]   , 'typical': 1,\n",
    "                                                'children': {\n",
    "                                                    1:{\n",
    "                                                        'insulation_type_bathroom': { 'input_method':'choose_from_options', \n",
    "                                                                                 'options': [1, 2, 3], 'typical': 1 ,\n",
    "                                                                                 'children': {\n",
    "                                                                                     1:{\n",
    "                                                                                         'u_value_floor_bathroom': { 'input_method':'input_value', \n",
    "                                                                                                                    'dec':0.01, 'typical': 0.48, \n",
    "                                                                                                                    'min':0.00, 'max':10.00 }},\n",
    "                                                                                     2:{},\n",
    "                                                                                     3:{}\n",
    "                                                                                 },\n",
    "                                                                                },\n",
    "                                                        'u_value_floor_other'     : { 'input_method':'input_value', \n",
    "                                                                                 'dec':0.01, 'typical': 0.48, 'min':0.00, 'max':10.00 }\n",
    "                                                      },\n",
    "                                                    2:{}\n",
    "                                                }\n",
    "                                               },\n",
    "    'u_value_roof'                           : { 'input_method':'input_value', 'dec':0.01, 'typical': 0.24, 'min':0.00, 'max':10.00 },\n",
    "    'u_value_wall'                           : { 'input_method':'input_value', 'dec':0.01, 'typical': 0.53, 'min':0.00, 'max':10.00 },\n",
    "    'u_value_door'                           : { 'input_method':'input_value', 'dec':0.01, 'typical': 4.65, 'min':0.00, 'max':10.00 },\n",
    "    'u_value_window'                         : { 'input_method':'input_value', 'dec':0.01, 'typical': 4.65, 'min':0.00, 'max':10.00 },    \n",
    "    'is_psi_value_base_input'                : { 'input_method':'choose_from_options', 'options': [1, 2], 'typical': 1 },\n",
    "    'psi_value_earthfloor_perimeter_entrance': { 'input_method':'input_value', 'dec':0.01, 'typical': 0.53, 'min':0.00, 'max':10.00 },\n",
    "    'psi_value_earthfloor_perimeter_bathroom': { 'input_method':'input_value', 'dec':0.01, 'typical': 0.53, 'min':0.00, 'max':10.00 },\n",
    "    'psi_value_earthfloor_perimeter_other'   : { 'input_method':'input_value', 'dec':0.01, 'typical': 0.53, 'min':0.00, 'max':10.00 },\n",
    "    'eta_d_value_window_h'                   : { 'input_method':'input_value', 'dec':0.001, 'typical': 0.630, 'min':0.000, 'max':1.000 },\n",
    "    'eta_d_value_window_c'                   : { 'input_method':'input_value', 'dec':0.001, 'typical': 0.630, 'min':0.000, 'max':1.000 },\n",
    "    'is_f_value_input'                       : { 'input_method':'choose_from_options', 'options': [1, 2], 'typical': 1,\n",
    "                                                'children':{\n",
    "                                                    1:{\n",
    "                                                        'f_value_h': { 'input_method':'input_value', 'dec':0.001, 'typical': 0.589, 'min':0.000, 'max':1.000 },\n",
    "                                                        'f_value_c': { 'input_method':'input_value', 'dec':0.001, 'typical': 0.864, 'min':0.000, 'max':1.000 }\n",
    "                                                    },\n",
    "                                                    2:{}\n",
    "                                                }\n",
    "                                               }\n",
    "}\n",
    "\n",
    "keys = [\n",
    "    'region',\n",
    "    'main_occupant_room_floor_area',\n",
    "    'other_occupant_room_floor_area',\n",
    "    'total_floor_area',\n",
    "    'input_method',\n",
    "    'insulation_type',\n",
    "    'insulation_type_bathroom',\n",
    "    'u_value_roof',\n",
    "    'u_value_wall',\n",
    "    'u_value_door',\n",
    "    'u_value_window',\n",
    "    'u_value_floor_bathroom',\n",
    "    'u_value_floor_other',\n",
    "    'is_psi_value_base_input',\n",
    "    'psi_value_earthfloor_perimeter_entrance',\n",
    "    'psi_value_earthfloor_perimeter_bathroom',\n",
    "    'psi_value_earthfloor_perimeter_other',\n",
    "    'eta_d_value_window_h',\n",
    "    'eta_d_value_window_c',\n",
    "    'is_f_value_input',\n",
    "    'f_value_h',\n",
    "    'f_value_c'\n",
    "]\n",
    "\n",
    "output_cases(keys, keys_and_settings)"
   ]
  },
  {
   "cell_type": "markdown",
   "metadata": {},
   "source": [
    "is_f_value_inputがTrueならばf_value_hとf_value_cを入力するというような処理が入る場合  "
   ]
  },
  {
   "cell_type": "code",
   "execution_count": null,
   "metadata": {},
   "outputs": [],
   "source": []
  }
 ],
 "metadata": {
  "kernelspec": {
   "display_name": "Python 3",
   "language": "python",
   "name": "python3"
  },
  "language_info": {
   "codemirror_mode": {
    "name": "ipython",
    "version": 3
   },
   "file_extension": ".py",
   "mimetype": "text/x-python",
   "name": "python",
   "nbconvert_exporter": "python",
   "pygments_lexer": "ipython3",
   "version": "3.7.0"
  }
 },
 "nbformat": 4,
 "nbformat_minor": 2
}
