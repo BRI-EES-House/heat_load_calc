{
 "cells": [
  {
   "cell_type": "code",
   "execution_count": 1,
   "metadata": {},
   "outputs": [
    {
     "name": "stdout",
     "output_type": "stream",
     "text": [
      "Importing Jupyter notebook from h_material_thermal_characteristics.ipynb\n"
     ]
    }
   ],
   "source": [
    "import math\n",
    "import numpy as np\n",
    "import matplotlib.pyplot as plt\n",
    "from typing import Union, List, Tuple\n",
    "import pprint\n",
    "import copy\n",
    "\n",
    "import nbimporter\n",
    "\n",
    "import h_material_thermal_characteristics as mtc"
   ]
  },
  {
   "cell_type": "markdown",
   "metadata": {},
   "source": [
    "# 一般部位の層構成を作成するモジュール"
   ]
  },
  {
   "cell_type": "markdown",
   "metadata": {},
   "source": [
    "## I. 統合関数"
   ]
  },
  {
   "cell_type": "markdown",
   "metadata": {},
   "source": [
    "### 1. 直接U値入力（木造・RC造等・S造・その他）"
   ]
  },
  {
   "cell_type": "code",
   "execution_count": 2,
   "metadata": {},
   "outputs": [],
   "source": [
    "def get_parts_u_value_directly(general_part_type: str, next_space: str, structure: str, u_value: float) -> List[dict]:\n",
    "    \"\"\"general_part の parts を作成する\n",
    "    \n",
    "    general_part の parts を作成する。\n",
    "    parts は 配列であるが、配列数は必ず1をとる。\n",
    "    \n",
    "    Args:\n",
    "        general_part_type: 一般部位の種類（以下の値をとる）\n",
    "            ceiling: 天井\n",
    "            roof: 屋根\n",
    "            wall: 壁\n",
    "            floor: 床\n",
    "            boundary_wall: 界壁\n",
    "            upward_boundary_floor: 上界側界床\n",
    "            downward_boundary_floor: 下界側界床\n",
    "        next_space: 隣接空間の種類（以下の値をとる）\n",
    "            outdoor: 外気\n",
    "            open_space: 外気に通じる空間\n",
    "            closed_space: 外気に通じていない空間\n",
    "            open_underfloor: 外気に通じる床裏\n",
    "            air_conditioned: 住戸及び住戸と同様の熱的環境の空間\n",
    "            closed_underfloor: 外気に通じていない床裏\n",
    "        structure: 一般部位の構造（以下の値をとる）\n",
    "            wood: 木造\n",
    "            rc: 鉄筋コンクリート造等\n",
    "            steel: 鉄骨造\n",
    "            other: その他／不明\n",
    "        u_value: U値, W/m2K\n",
    "    \n",
    "    Returns:\n",
    "        一般部位のパートの配列（辞書型）\n",
    "        {\n",
    "            name(str): 部分（パート）の名前\n",
    "            area_ratio(int): 面積比率\n",
    "            layers(dict): {\n",
    "                name(str): 層の名前\n",
    "                heat_resistance_input_method(str): 断熱性能の入力方法（以下の値をとる）\n",
    "                    conductivity: 熱伝導率から計算する\n",
    "                    resistance: 熱抵抗を直接入力する\n",
    "                thermal_conductivity(float): 熱伝導率, W/mK\n",
    "                volumetric_specific_heat(float): 容積比熱, J/LK\n",
    "                thickness(float): 厚さ, m\n",
    "            }\n",
    "        }\n",
    "    \"\"\"\n",
    "    \n",
    "    # 室内側・室外側の熱伝達抵抗を取得する\n",
    "    r_i, r_o = get_thermal_resistance(general_part_type, next_space)\n",
    "    \n",
    "    # 層構成を取得する\n",
    "    layer_names = get_layer_names(general_part_type, structure)\n",
    "    \n",
    "    # 断熱材以外の熱抵抗(リスト)\n",
    "    r_others = get_resistance(layer_names)\n",
    "    \n",
    "    # 断熱材\n",
    "    ins = get_insulation_spec()\n",
    "    # 断熱材の熱伝導率\n",
    "    ins_cond = ins['conductivity']\n",
    "    # 断熱材の熱容量\n",
    "    ins_sph = ins['specific_heat']\n",
    "\n",
    "    # 断熱材の厚さ(m)の推定\n",
    "    t = get_thermal_insulation_thickness(\n",
    "        u=u_value,\n",
    "        r_o=r_o,\n",
    "        r_i=r_i,\n",
    "        r_others=r_others,\n",
    "        lambda_res=ins_cond)\n",
    "    \n",
    "    def get_layer(name):\n",
    "        \n",
    "        if name == 'gypsum_board' or name == 'concrete' or name == 'plywood':\n",
    "            return get_material(name)\n",
    "        elif name == 'insulation':\n",
    "            return {\n",
    "                'name'                         : 'insulation',\n",
    "                'heat_resistance_input_method' : 'conductivity',\n",
    "                'thermal_conductivity'         : ins_cond,\n",
    "                'volumetric_specific_heat'     : ins_sph,\n",
    "                'thickness'                    : t,\n",
    "            }\n",
    "    \n",
    "    layers = [get_layer(name) for name in layer_names]\n",
    "    \n",
    "    return [\n",
    "        {\n",
    "            'name'       : 'part_inputed_by_u_value_directly',\n",
    "            'area_ratio' : 1.0,\n",
    "            'layers'     : layers,\n",
    "        }\n",
    "    ]"
   ]
  },
  {
   "cell_type": "markdown",
   "metadata": {},
   "source": [
    "### 2. 詳細入力（木造・RC造等）"
   ]
  },
  {
   "cell_type": "code",
   "execution_count": 3,
   "metadata": {},
   "outputs": [],
   "source": [
    "def get_parts_detail_method(parts: List[dict]) -> List[dict]:\n",
    "    \"\"\"parts リストからpartsリストを作成\n",
    "    \n",
    "    詳細計算法のため、ここでは何もせず、area_ratioを追加するのみである。\n",
    "    引数としてのpartsはリスト形式であるが、面積比率法を使用する場合以外は常にリスト長は1である。\n",
    "    ここでは、リスト長が1以外であった場合のエラー処理も行う。\n",
    "    \n",
    "    Args:\n",
    "        parts: 一般部位の部分。リスト形式であるがリスト長は必ず1。以下の辞書型のリスト。\n",
    "            {\n",
    "                name(str) : 部分の名称\n",
    "                part_type(str) : 部分の種類（本関数では使用しない）\n",
    "                layers(List[dict]) : 層の物性値（層の名前・断熱性能の入力方法・熱伝導率・熱抵抗・容積比熱・厚さからなる辞書）のリスト\n",
    "            }\n",
    "    \n",
    "    Returns:\n",
    "        一般部位の部分。リスト形式であるがリスト長は必ず1。以下の辞書型のリスト。\n",
    "            {\n",
    "                name(str) : 部分の名称\n",
    "                area_ratio(float) : 面積比率（ここでは必ず1.0）\n",
    "                layers(List[dict]) : [\n",
    "                    {\n",
    "                        name(str): 層の名前\n",
    "                        heat_resistance_input_method(str): 断熱性能の入力方法（以下の値をとる）\n",
    "                        conductivity: 熱伝導率から計算する\n",
    "                        resistance: 熱抵抗を直接入力する\n",
    "                        thermal_conductivity(float): 熱伝導率, W/mK\n",
    "                        volumetric_specific_heat(float): 容積比熱, J/LK\n",
    "                        thickness(float): 厚さ, m\n",
    "                    }\n",
    "                ]\n",
    "            }    \n",
    "    \n",
    "    \"\"\"\n",
    "    \n",
    "    if len(parts) != 1:\n",
    "        raise ValueError('与えられたpartsのリスト数が1ではありません。')\n",
    "    \n",
    "    return [\n",
    "        {\n",
    "            'name'       : parts[0]['name'],\n",
    "            'area_ratio' : 1.0,\n",
    "            'layers'     : parts[0]['layers'],\n",
    "        }\n",
    "    ]"
   ]
  },
  {
   "cell_type": "markdown",
   "metadata": {},
   "source": [
    "### 3. 面積比率法（木造）"
   ]
  },
  {
   "cell_type": "code",
   "execution_count": 4,
   "metadata": {},
   "outputs": [],
   "source": [
    "def get_parts_area_ratio_method(general_part_type: str, spec: dict) -> List[dict]:\n",
    "    \"\"\"面積比率法を用いてpartsリストを作成\n",
    "    Args:\n",
    "        general_part_type: 一般部位の種類（以下の値をとる）\n",
    "            ceiling: 天井\n",
    "            roof: 屋根\n",
    "            wall: 壁\n",
    "            floor: 床\n",
    "            boundary_wall: 界壁\n",
    "            upward_boundary_floor: 上界側界床\n",
    "            downward_boundary_floor: 下界側界床\n",
    "        spec: 仕様。以下の辞書型\n",
    "                structure(str): 構造種別（以下の値をとる）\n",
    "                    wood: 木造\n",
    "                    rc: 鉄筋コンクリート造等\n",
    "                    steel: 鉄骨造\n",
    "                    other: その他／不明\n",
    "                u_value_input_method_wood(str): U値の入力方法（木造）（以下の値をとる）\n",
    "                    u_value_directly: U値を入力\n",
    "                    detail_method: 詳細計算法\n",
    "                    area_ratio_method: 面積比率法\n",
    "                    r_corrected_mothod: 熱貫流率補正法\n",
    "                u_value_input_method_rc(str): U値の入力方法（鉄筋コンクリート造等）（以下の値をとる）\n",
    "                    u_value_directly(str): U値を入力\n",
    "                    detail_method(str): 詳細計算法\n",
    "                u_value_input_method_steel(str):U値の入力方法（鉄骨造）（以下の値をとる）\n",
    "                    u_value_directly(str): U値を入力\n",
    "                    detail_method(str): 詳細計算法\n",
    "                u_value(float): 熱貫流率\n",
    "                floor_construction_method(str): 床の工法の種類（以下の値をとる）\n",
    "                    frame_beam_joist_insulation: 軸組構法・床梁工法（根太間に断熱）\n",
    "                    footing_joist_insulation: 軸組構法・束立大引工法（根太間に断熱）\n",
    "                    footing_sleeper_insulation: 軸組構法・束立大引工法（大引間に断熱） \n",
    "                    footing_joist_sleeper_insulation: 軸組構法・束立大引工法（根太間及び大引間に断熱） \n",
    "                    rigid_floor: 軸組構法・剛床工法 \n",
    "                    same_surface_joist_insulation: 軸組構法・床梁土台同面工法（根太間に断熱） \n",
    "                    frame_wall_joist_insulation: 枠組壁工法（根太間に断熱）\n",
    "                wall_construction_method(str): 壁の工法の種類（以下の値をとる）\n",
    "                    frame_beam: 軸組構法（柱・間柱間に断熱） \n",
    "                    frame_beam_additional_insulation_horizontal: 軸組構法（柱・間柱間に断熱し付加断熱（付加断熱層内熱橋部分が「横下地」）） \n",
    "                    frame_beam_additional_insulation_vertical: 軸組構法（柱、間柱間に断熱し付加断熱（付加断熱層内熱橋部分が「縦下地」））\n",
    "                    frame_wall: 枠組壁工法（たて枠間に断熱）\n",
    "                    frame_wall_additional_insulation_horizontal: 枠組壁工法（たて枠間に断熱し付加断熱（付加断熱層内熱橋部分が「横下地」）） \n",
    "                    frame_wall_additional_insulation_vertical: 枠組壁工法（たて枠間に断熱し付加断熱（付加断熱層内熱橋部分が「縦下地」））\n",
    "                ceiling_construction_method(str):天井の工法の種類（以下の値をとる）\n",
    "                    beam_insulation: 桁・梁間に断熱\n",
    "                roof_construction_method(str):屋根の工法の種類（以下の値をとる）\n",
    "                    rafter_insulation: たるき間に断熱\n",
    "                    rafter_additional_insulation: たるき間に断熱し付加断熱（横下地）\n",
    "                parts: 一般部位の部分。リスト形式。面積比率法に限り要素数は1以上をとり得る。以下の辞書型のリスト。\n",
    "                    name(str) : 部分の名称\n",
    "                    part_type(str) : 部分の種類（以下の値をとる）\n",
    "                        ins: 断熱\n",
    "                        hb: 熱橋\n",
    "                        ins_ins: \n",
    "                        ins_ins: 断熱＋断熱\n",
    "                        ins_hb: 断熱＋熱橋\n",
    "                        hb_ins: 熱橋＋断熱\n",
    "                        hb_hb: 熱橋＋熱橋\n",
    "                        magsa_ins: まぐさ＋断熱\n",
    "                        magsa_hb: まぐさ＋熱橋\n",
    "                    layers(List[dict]) : 層の物性値（層の名前・断熱性能の入力方法・熱伝導率・熱抵抗・容積比熱・厚さからなる辞書）のリスト\n",
    "    \"\"\"\n",
    "    \n",
    "    # 面積比を取得\n",
    "    area_ratio = get_area_ratio(general_part_type, spec)\n",
    "\n",
    "    def make_part(k,v):\n",
    "        ps = [p for p in spec['parts'] if p['part_type'] == k]\n",
    "        if len(ps) != 1:\n",
    "            raise ValueError()\n",
    "        p = ps[0]\n",
    "        return {\n",
    "            'name'       : p['name'],\n",
    "            'area_ratio' : v,\n",
    "            'layers'     : p['layers'], \n",
    "        }\n",
    "    \n",
    "    return [make_part(k,v) for k,v in area_ratio]"
   ]
  },
  {
   "cell_type": "markdown",
   "metadata": {},
   "source": [
    "### 4. 熱貫流率補正法（木造）"
   ]
  },
  {
   "cell_type": "markdown",
   "metadata": {},
   "source": [
    "熱貫流率補正法（木造）は将来廃止される可能せいが高いため、現時点では実装しません。"
   ]
  },
  {
   "cell_type": "markdown",
   "metadata": {},
   "source": [
    "### 5. 詳細入力（鉄骨造）"
   ]
  },
  {
   "cell_type": "code",
   "execution_count": 5,
   "metadata": {},
   "outputs": [],
   "source": [
    "def get_parts_detail_method_steel(general_part_type: str, next_space: str, spec: dict) -> List[dict]:\n",
    "    \"\"\"parts リストからpartsリストを作成\n",
    "    \n",
    "    詳細計算法のため、ここでは何もせず、area_ratioを追加するのみである。\n",
    "    引数としてのpartsはリスト形式であるが、面積比率法を使用する場合以外は常にリスト長は1である。\n",
    "    ここでは、リスト長が1以外であった場合のエラー処理も行う。\n",
    "    鉄骨造の場合に限り、補正熱貫流率を入力する\n",
    "    \n",
    "    Args:\n",
    "        general_part_type: 一般部位の種類（以下の値をとる）\n",
    "            ceiling: 天井\n",
    "            roof: 屋根\n",
    "            wall: 壁\n",
    "            floor: 床\n",
    "            boundary_wall: 界壁\n",
    "            upward_boundary_floor: 上界側界床\n",
    "            downward_boundary_floor: 下界側界床\n",
    "        next_space: 隣接空間の種類（以下の値をとる）\n",
    "            outdoor: 外気\n",
    "            open_space: 外気に通じる空間\n",
    "            closed_space: 外気に通じていない空間\n",
    "            open_underfloor: 外気に通じる床裏\n",
    "            air_conditioned: 住戸及び住戸と同様の熱的環境の空間\n",
    "            closed_underfloor: 外気に通じていない床裏\n",
    "        spec: 仕様。以下の辞書型\n",
    "            structure(str): 構造種別（以下の値をとる）\n",
    "                wood: 木造\n",
    "                rc: 鉄筋コンクリート造等\n",
    "                steel: 鉄骨造\n",
    "                other: その他／不明\n",
    "            u_value_input_method_wood(str): U値の入力方法（木造）（以下の値をとる）\n",
    "                u_value_directly: U値を入力\n",
    "                detail_method: 詳細計算法\n",
    "                area_ratio_method: 面積比率法\n",
    "                r_corrected_mothod: 熱貫流率補正法\n",
    "            u_value_input_method_rc(str): U値の入力方法（鉄筋コンクリート造等）（以下の値をとる）\n",
    "                u_value_directly(str): U値を入力\n",
    "                detail_method(str): 詳細計算法\n",
    "            u_value_input_method_steel(str):U値の入力方法（鉄骨造）（以下の値をとる）\n",
    "                u_value_directly(str): U値を入力\n",
    "                detail_method(str): 詳細計算法\n",
    "            u_value(float): 熱貫流率\n",
    "            floor_construction_method(str): 床の工法の種類（以下の値をとる）\n",
    "                frame_beam_joist_insulation: 軸組構法・床梁工法（根太間に断熱）\n",
    "                footing_joist_insulation: 軸組構法・束立大引工法（根太間に断熱）\n",
    "                footing_sleeper_insulation: 軸組構法・束立大引工法（大引間に断熱） \n",
    "                footing_joist_sleeper_insulation: 軸組構法・束立大引工法（根太間及び大引間に断熱） \n",
    "                rigid_floor: 軸組構法・剛床工法 \n",
    "                same_surface_joist_insulation: 軸組構法・床梁土台同面工法（根太間に断熱） \n",
    "                frame_wall_joist_insulation: 枠組壁工法（根太間に断熱）\n",
    "            wall_construction_method(str): 壁の工法の種類（以下の値をとる）\n",
    "                frame_beam: 軸組構法（柱・間柱間に断熱） \n",
    "                frame_beam_additional_insulation_horizontal: 軸組構法（柱・間柱間に断熱し付加断熱（付加断熱層内熱橋部分が「横下地」）） \n",
    "                frame_beam_additional_insulation_vertical: 軸組構法（柱、間柱間に断熱し付加断熱（付加断熱層内熱橋部分が「縦下地」））\n",
    "                frame_wall: 枠組壁工法（たて枠間に断熱）\n",
    "                frame_wall_additional_insulation_horizontal: 枠組壁工法（たて枠間に断熱し付加断熱（付加断熱層内熱橋部分が「横下地」）） \n",
    "                frame_wall_additional_insulation_vertical: 枠組壁工法（たて枠間に断熱し付加断熱（付加断熱層内熱橋部分が「縦下地」））\n",
    "            ceiling_construction_method(str):天井の工法の種類（以下の値をとる）\n",
    "                beam_insulation: 桁・梁間に断熱\n",
    "            roof_construction_method(str):屋根の工法の種類（以下の値をとる）\n",
    "                rafter_insulation: たるき間に断熱\n",
    "                rafter_additional_insulation: たるき間に断熱し付加断熱（横下地）\n",
    "            parts: 一般部位の部分。リスト形式。面積比率法に限り要素数は1以上をとり得る。以下の辞書型のリスト。\n",
    "                name(str) : 部分の名称\n",
    "                part_type(str) : 部分の種類（以下の値をとる）\n",
    "                    ins: 断熱\n",
    "                    hb: 熱橋\n",
    "                    ins_ins: 断熱＋断熱\n",
    "                    ins_hb: 断熱＋熱橋\n",
    "                    hb_ins: 熱橋＋断熱\n",
    "                    hb_hb: 熱橋＋熱橋\n",
    "                    magsa_ins: まぐさ＋断熱\n",
    "                    magsa_hb: まぐさ＋熱橋\n",
    "                layers(List[dict]): 層を表す辞書型のリスト。辞書型は以下のkeyをもつ。\n",
    "                    name(str): 層の名前\n",
    "                    heat_resistance_input_method(str): 断熱性能の入力方法（以下の値をとる）\n",
    "                    conductivity: 熱伝導率から計算する\n",
    "                    resistance: 熱抵抗を直接入力する\n",
    "                    thermal_conductivity(float): 熱伝導率, W/mK\n",
    "                    volumetric_specific_heat(float): 容積比熱, J/LK\n",
    "                    thickness(float): 厚さ, m\n",
    "    \n",
    "    Returns:\n",
    "        一般部位の部分。リスト形式であるがリスト長は必ず1。以下の辞書型のリスト。\n",
    "                name(str) : 部分の名称\n",
    "                area_ratio(float) : 面積比率（ここでは必ず1.0）\n",
    "                layers(List[dict]) : 層の物性値（層の名前・断熱性能の入力方法・熱伝導率・熱抵抗・容積比熱・厚さからなる辞書）のリスト\n",
    "    \n",
    "    \"\"\"\n",
    "\n",
    "    parts = spec['parts']\n",
    "    \n",
    "    if len(parts) != 1:\n",
    "        raise ValueError('与えられたpartsのリスト数が1ではありません。')\n",
    "    \n",
    "    layers = parts[0]['layers']\n",
    "    u_r = !!!!!!!!!!!!!!!!!!!!!!!実装しないと!!!!\n",
    "    \n",
    "    r_red = get_r_red(general_part_type, next_space, layers, u_r)\n",
    "    \n",
    "    if r_red > 0.0:\n",
    "        alt_layers = [make_alt_layer(layer, r_red) for layer in layers]\n",
    "    else:\n",
    "        alt_layers = []\n",
    "    \n",
    "    return [\n",
    "        {\n",
    "            'name'       : parts[0]['name'],\n",
    "            'area_ratio' : 1.0,\n",
    "            'layers'     : alt_layers,\n",
    "        }\n",
    "    ]"
   ]
  },
  {
   "cell_type": "markdown",
   "metadata": {},
   "source": [
    "## II. 関数"
   ]
  },
  {
   "cell_type": "markdown",
   "metadata": {},
   "source": [
    "### 1. 直接U値入力（木造・RC造等・S造・その他）"
   ]
  },
  {
   "cell_type": "markdown",
   "metadata": {},
   "source": [
    "#### 2) 層構成"
   ]
  },
  {
   "cell_type": "markdown",
   "metadata": {},
   "source": [
    "番号が小さい方が室内側／対象住戸側である。  \n",
    "番号が大きい方が室外側／隣接住戸側である。"
   ]
  },
  {
   "cell_type": "markdown",
   "metadata": {},
   "source": [
    "構造が木造・鉄骨造・その他／不明の場合\n",
    "\n",
    "| 部位の種類 | 番号:材料 |\n",
    "|:---|---|\n",
    "| 屋根・天井・外壁 | 1:せっこうボード 2:断熱材 |\n",
    "| 床 | 1:合板 2:合板 3:断熱材 |\n",
    "| 界壁 | 1:せっこうボード 2:断熱材 3:せっこうボード |\n",
    "| 上階側界床 | 1:せっこうボード 2:断熱材 3:合板 4:合板 |\n",
    "| 下界側階床 | 1:合板 2:合板 3:断熱材 4:せっこうボード |\n",
    "\n",
    "構造が鉄筋コンクリート造等の場合\n",
    "\n",
    "| 部位の種類 | 番号:材料 |\n",
    "|:---|---|\n",
    "| 屋根・天井・外壁 | 1:せっこうボード 2:断熱材 3:コンクリート |\n",
    "| 床 | 1:合板 2:合板 3:断熱材 4:コンクリート |\n",
    "| 界壁 | 1:せっこうボード 2:断熱材 3:コンクリート 4:断熱材 5:せっこうボード |\n",
    "| 上階側界床 | 1:せっこうボード 2:コンクリート 3:断熱材 4:合板 5:合板 |\n",
    "| 下界側階床 | 1:合板 2:合板 3:断熱材 4:コンクリート 5:せっこうボード |"
   ]
  },
  {
   "cell_type": "code",
   "execution_count": 6,
   "metadata": {},
   "outputs": [],
   "source": [
    "def get_layer_names(general_part_type: str, structure: str) -> List[str]:\n",
    "    \"\"\"想定する層の材料名称のリストを取得する。\n",
    "    \n",
    "    Args:\n",
    "        general_part_type: 一般部位の種類（以下の値をとる）\n",
    "            ceiling: 天井\n",
    "            roof: 屋根\n",
    "            wall: 壁\n",
    "            floor: 床\n",
    "            boundary_wall: 界壁\n",
    "            upward_boundary_floor: 上界側界床\n",
    "            downward_boundary_floor: 下界側界床\n",
    "        structure: 一般部位の構造（以下の値をとる）\n",
    "            wood: 木造\n",
    "            rc: 鉄筋コンクリート造等\n",
    "            steel: 鉄骨造\n",
    "            other: その他／不明\n",
    "    \n",
    "    Returns:\n",
    "        層を構成する材料名のリスト\n",
    "    \"\"\"\n",
    "    \n",
    "    if structure == 'wood' or structure == 'steel' or structure == 'other':\n",
    "        \n",
    "        return {\n",
    "            'roof'                    : ['gypsum_board', 'insulation'],\n",
    "            'ceiling'                 : ['gypsum_board', 'insulation'],\n",
    "            'wall'                    : ['gypsum_board', 'insulation'],\n",
    "            'floor'                   : ['plywood', 'plywood', 'insulation'],\n",
    "            'boundary_wall'           : ['gypsum_board', 'insulation', 'gypsum_board'],\n",
    "            'upward_boundary_floor'   : ['gypsum_board', 'insulation', 'plywood', 'plywood'],\n",
    "            'downward_boundary_floor' : ['plywood', 'plywood', 'insulation', 'gypsum_board'],\n",
    "        }[general_part_type]      \n",
    "    \n",
    "    elif structure == 'rc':\n",
    "        \n",
    "        return {\n",
    "            'roof'                    : ['gypsum_board', 'insulation', 'concrete'],\n",
    "            'ceiling'                 : ['gypsum_board', 'insulation', 'concrete'],\n",
    "            'wall'                    : ['gypsum_board', 'insulation', 'concrete'],\n",
    "            'floor'                   : ['plywood', 'plywood', 'insulation', 'concrete'],\n",
    "            'boundary_wall'           : ['gypsum_board', 'insulation', 'concrete', 'insulation', 'gypsum_board'],\n",
    "            'upward_boundary_floor'   : ['gypsum_board', 'concrete', 'insulation', 'plywood', 'plywood'],\n",
    "            'downward_boundary_floor' : ['plywood', 'plywood', 'insulation', 'concrete', 'gypsum_board'],\n",
    "        }[general_part_type]      \n",
    "        \n",
    "    else:\n",
    "        \n",
    "        raise ValueError"
   ]
  },
  {
   "cell_type": "markdown",
   "metadata": {},
   "source": [
    "#### 3) 断熱材以外に想定する物質とその物性値"
   ]
  },
  {
   "cell_type": "markdown",
   "metadata": {},
   "source": [
    "| 番号 | 材料 | 厚さ, m | 熱伝導率, W m<sup>-1</sup> K<sup>-1</sup> | 容積比熱, J L<sup>-1</sup> K<sup>-1</sup> |\n",
    "|---|---|---|---|\n",
    "| 1 | せっこうボード | 0.0095 | 0.22 | 830.0 |\n",
    "| 2 | 合板 | 0.012 | 0.16 | 720.0 |\n",
    "| 3 | コンクリート | 0.120 | 1.6 | 2000.0 |"
   ]
  },
  {
   "cell_type": "code",
   "execution_count": 7,
   "metadata": {},
   "outputs": [],
   "source": [
    "def get_material(name: str) -> dict:\n",
    "    \"\"\"指定した材料名の物性値を取得する。\n",
    "\n",
    "    Args:\n",
    "        name: 物性名\n",
    "            ここで指定できる物性名は以下の通り。\n",
    "                gypsum_board: せっこうボード\n",
    "                concrete: コンクリート\n",
    "                plywood: 合板\n",
    "    \n",
    "    Returns:\n",
    "        物性値をいれた辞書\n",
    "        {\n",
    "            name(str): 名前,\n",
    "            conductivity(float): 熱伝導率, W/mK,\n",
    "            specific_heat(float): 体積熱容量, J/LK,\n",
    "            thickness(float): 厚さ, m,\n",
    "        }\n",
    "    \"\"\"\n",
    "    \n",
    "    return {\n",
    "        'gypsum_board' : {\n",
    "            'name'                         : 'gypsum_board',\n",
    "            'heat_resistance_input_method' : 'conductivity',\n",
    "            'thermal_conductivity'         : 0.22,\n",
    "            'volumetric_specific_heat'     : 830.0,\n",
    "            'thickness'                    : 0.0095,\n",
    "        },\n",
    "        'concrete' : {\n",
    "            'name'                         : 'concrete',\n",
    "            'heat_resistance_input_method' : 'conductivity',\n",
    "            'thermal_conductivity'         : 1.6,\n",
    "            'volumetric_specific_heat'     : 2000.0,\n",
    "            'thickness'                    : 0.120,\n",
    "        },\n",
    "        'plywood' : {\n",
    "            'name'                         : 'plywood',\n",
    "            'heat_resistance_input_method' : 'conductivity',\n",
    "            'thermal_conductivity'         : 0.16,\n",
    "            'volumetric_specific_heat'     : 720.0,\n",
    "            'thickness'                    : 0.012,\n",
    "        }\n",
    "\n",
    "    }[name]"
   ]
  },
  {
   "cell_type": "markdown",
   "metadata": {},
   "source": [
    "#### 4) 断熱材の物性値"
   ]
  },
  {
   "cell_type": "markdown",
   "metadata": {},
   "source": [
    "断熱材は住宅用グラスウール断熱材16K相当を想定し、熱伝導率を0.045 W / m K、容積比熱を13.0 J / L K と想定する。"
   ]
  },
  {
   "cell_type": "code",
   "execution_count": 8,
   "metadata": {},
   "outputs": [],
   "source": [
    "def get_insulation_spec() -> dict:\n",
    "    \"\"\"断熱材の物性値を取得する\n",
    "    \n",
    "    Returns:\n",
    "        物性値をいれた辞書\n",
    "        {\n",
    "            name(str): 名前,\n",
    "            conductivity(float): 熱伝導率, W/mK,\n",
    "            specific_heat(float): 体積熱容量, J/LK,\n",
    "        }        \n",
    "    \n",
    "    \"\"\"\n",
    "    \n",
    "    return {\n",
    "        'name' : 'insulation',\n",
    "        'conductivity' : 0.045,\n",
    "        'specific_heat' : 13.0,\n",
    "    }"
   ]
  },
  {
   "cell_type": "markdown",
   "metadata": {},
   "source": [
    "#### 5) 断熱材の厚さの推定"
   ]
  },
  {
   "cell_type": "markdown",
   "metadata": {},
   "source": [
    "$$ l_{res} = \\left( \\frac{ 1 }{ U } - R_o - \\sum_i{R_{other,i}} - R_i \\right) \\lambda_{res} $$"
   ]
  },
  {
   "cell_type": "markdown",
   "metadata": {},
   "source": [
    "ただし、$l_{res}$が0を下回る場合は0とする。"
   ]
  },
  {
   "cell_type": "markdown",
   "metadata": {},
   "source": [
    "$l_res$:断熱材の厚さ, m  \n",
    "$U$:熱貫流率, W/m<sup>2</sup>K  \n",
    "$R_o$:熱的境界外側（外気側）又は界壁・界床における隣接住戸の室内側の表面熱伝達抵抗, m<sup>2</sup>K/W  \n",
    "$R_{other,i}$:断熱材以外の部材$i$の熱抵抗, m<sup>2</sup>K/W  \n",
    "$R_i$:熱的境界内側（室内側）又は界壁・界床における対象住戸の室内側の表面熱伝達抵抗, m<sup>2</sup>K/W  \n",
    "$\\lambda_{res}$:断熱材の熱伝導率, W/mK"
   ]
  },
  {
   "cell_type": "code",
   "execution_count": 9,
   "metadata": {},
   "outputs": [],
   "source": [
    "def get_thermal_insulation_thickness(u, r_o, r_i, r_others, lambda_res):\n",
    "    return max( 0.0, ( 1 / u - r_o - sum(r_others) - r_i ) * lambda_res )"
   ]
  },
  {
   "cell_type": "markdown",
   "metadata": {},
   "source": [
    "#### 6) 熱抵抗"
   ]
  },
  {
   "cell_type": "markdown",
   "metadata": {},
   "source": [
    "$$ R_{other,i} = \\frac{ l_{other,i} }{ \\lambda_{other,i} } $$"
   ]
  },
  {
   "cell_type": "markdown",
   "metadata": {},
   "source": [
    "$l_{other,i}$:部材$i$の厚さ, m  \n",
    "$\\lambda_{other,i}$:部材$i$の熱伝導率, W/mK  \n",
    "ただし、ここで部材$i$は、断熱材を除く。"
   ]
  },
  {
   "cell_type": "code",
   "execution_count": 10,
   "metadata": {},
   "outputs": [],
   "source": [
    "def get_resistance(names: List[str]) -> List[float]:\n",
    "    '''熱抵抗のリストを取得する\n",
    "    \n",
    "    Args:\n",
    "        names: 層（断熱材を除く）を構成する物質の名称\n",
    "        \n",
    "    Returns:\n",
    "        熱抵抗のリスト\n",
    "    '''\n",
    "\n",
    "    def calc_resistance(name):\n",
    "        \n",
    "        m = get_material(name)\n",
    "        \n",
    "        return m['thickness'] / m['thermal_conductivity']\n",
    "    \n",
    "    return [calc_resistance(name) for name in names if name != 'insulation']"
   ]
  },
  {
   "cell_type": "markdown",
   "metadata": {},
   "source": [
    "### 2. 詳細入力（木造・RC造等）"
   ]
  },
  {
   "cell_type": "markdown",
   "metadata": {},
   "source": [
    "特に使用する関数はない。"
   ]
  },
  {
   "cell_type": "markdown",
   "metadata": {},
   "source": [
    "### 3. 面積比率法（木造）"
   ]
  },
  {
   "cell_type": "code",
   "execution_count": 11,
   "metadata": {},
   "outputs": [],
   "source": [
    "def get_area_ratio(general_part_type: str, spec: dict) -> List[float]:\n",
    "    \"\"\"一般部位の部分の面積比率を取得する\n",
    "    \n",
    "    Args:\n",
    "        spec:\n",
    "    \n",
    "    Returns:\n",
    "        面積比率の辞書型（keyは以下の値をとる）\n",
    "            ins: 断熱部分\n",
    "            hb: 熱橋部分\n",
    "            ins_ins: 断熱部分(柱・間柱間断熱材+付加断熱材)\n",
    "            ins_hb: 断熱部分+熱橋部分(柱・間柱間断熱材+付加断熱層内熱橋部)\n",
    "            hb_ins: 断熱部分＋熱橋部分(構造部材等+付加断熱材)\n",
    "            hb_hb: 熱橋部分(構造部材等+付加断熱層内熱橋部)\n",
    "            magsa_ins: 断熱部分＋熱橋部分(まぐさ+付加断熱材)\n",
    "            magsa_hb: 熱橋部分(まぐさ+付加断熱層内熱橋部)\n",
    "    \"\"\"\n",
    "    \n",
    "    if general_part_type == 'floor' or general_part_type == 'upward_boundary_floor' or general_part_type == 'downward_boundary_floor':\n",
    "        return get_area_ratio_wood_floor(spec['floor_construction_method'])\n",
    "    elif general_part_type == 'wall' or general_part_type == 'boundary_wall':\n",
    "        return get_area_ratio_wood_wall(spec['wall_construction_method'])\n",
    "    elif general_part_type == 'ceiling':\n",
    "        return get_area_ratio_wood_ceiling(spec['ceiling_construction_method'])\n",
    "    elif general_part_type == 'roof':\n",
    "        return get_area_ratio_wood_roof(spec['roof_construction_method'])\n",
    "    else:\n",
    "        raise ValueError()"
   ]
  },
  {
   "cell_type": "markdown",
   "metadata": {},
   "source": [
    "#### 1) 木造における床（上階側界床・下階側界床）の面積比率"
   ]
  },
  {
   "cell_type": "markdown",
   "metadata": {},
   "source": [
    "| 工法の種類等 | 1:断熱部分<br> | 2:熱橋部分 |\n",
    "|---|---|---|\n",
    "| 軸組構法・床梁工法（根太間に断熱）  | 0.80 | 0.20 |\n",
    "| 軸組構法・束立大引工法（根太間に断熱）  | 0.80 | 0.20 |\n",
    "| 軸組構法・束立大引工法（大引間に断熱）  | 0.85 | 0.15 |\n",
    "| 軸組構法・剛床工法  | 0.85 | 0.15 |\n",
    "| 軸組構法・床梁土台同面工法（根太間に断熱）  | 0.70 | 0.30 |\n",
    "| 枠組壁工法（根太間に断熱）  | 0.87 | 0.13 |\n",
    "\n",
    "| 工法の種類等 | 1:断熱部分<br>(根太間断熱材+大引間断熱材) | 2:断熱部分+熱橋部分<br>(根太間断熱材+大引材等) | 3:断熱部分＋熱橋部分<br>(根太材+大引間断熱材) | 4:熱橋部分<br>(根太材+大引材等) |\n",
    "|---|---|---|---|---|\n",
    "| 軸組構法・束立大引工法（根太間及び大引間に断熱）  | 0.72 | 0.12 | 0.13 | 0.03 |"
   ]
  },
  {
   "cell_type": "code",
   "execution_count": 12,
   "metadata": {},
   "outputs": [],
   "source": [
    "def get_area_ratio_wood_floor(floor_construction_method: str) -> List[float]:\n",
    "    \"\"\"面積比率法において木造床の部分の面積比率を取得する\n",
    "    \n",
    "    Args:\n",
    "        floor_construction_method: 床の工法種類（以下の値をとる）\n",
    "            1 frame_beam_joist_insulation: 軸組構法・床梁工法（根太間に断熱） \n",
    "            2 footing_joist_insulation: 軸組構法・束立大引工法（根太間に断熱）\n",
    "            3 footing_sleeper_insulation: 軸組構法・束立大引工法（大引間に断熱） \n",
    "            4 footing_joist_sleeper_insulation: 軸組構法・束立大引工法（根太間及び大引間に断熱）\n",
    "            5 rigid_floor: 軸組構法・剛床工法\n",
    "            6 same_surface_joist_insulation: 軸組構法・床梁土台同面工法（根太間に断熱）\n",
    "            7 frame_wall_joist_insulation: 枠組壁工法（根太間に断熱）\n",
    "\n",
    "    Returns:\n",
    "        面積比率の辞書型（keyは以下の値をとる）\n",
    "            ins: 断熱部分\n",
    "            hb: 熱橋部分\n",
    "            ins_ins: 断熱部分(根太間断熱材+大引間断熱材)\n",
    "            ins_hb: 断熱部分+熱橋部分(根太間断熱材+大引材等)\n",
    "            hb_ins: 断熱部分＋熱橋部分(根太材+大引間断熱材)\n",
    "            hb_hb: 熱橋部分(根太材+大引材等)\n",
    "            \n",
    "    \"\"\"\n",
    "    \n",
    "    return {\n",
    "        'frame_beam_joist_insulation'      : {'ins':0.80, 'hb':0.20},\n",
    "        'footing_joist_insulation'         : {'ins':0.80, 'hb':0.20},\n",
    "        'footing_sleeper_insulation'       : {'ins':0.85, 'hb':0.15},\n",
    "        'footing_joist_sleeper_insulation' : {'ins_ins':0.72, 'ins_hb':0.12, 'hb_ins':0.13, 'hb_hb':0.03},\n",
    "        'rigid_floor'                      : {'ins':0.85, 'hb':0.15},\n",
    "        'same_surface_joist_insulation'    : {'ins':0.70, 'hb':0.30},\n",
    "        'frame_wall_joist_insulation'      : {'ins':0.87, 'hb':0.13}\n",
    "    }[floor_construction_method]"
   ]
  },
  {
   "cell_type": "markdown",
   "metadata": {},
   "source": [
    "#### 2) 木造における外壁（界壁）の面積比率"
   ]
  },
  {
   "cell_type": "markdown",
   "metadata": {},
   "source": [
    "| 工法の種類等 | 断熱部分 | 熱橋部分 |\n",
    "|---|---|---|\n",
    "| 軸組構法・柱、間柱間に断熱 | 0.83 | 0.17 |\n",
    "| 枠組壁工法・たて枠間に断熱 | 0.77 | 0.23 |"
   ]
  },
  {
   "cell_type": "markdown",
   "metadata": {},
   "source": [
    "| 工法の種類等 | 断熱部分<br>（柱・間柱間断熱材<br>＋付加断熱材） | 断熱部分＋熱橋部分<br>（柱・間柱間断熱材<br>＋付加断熱層内熱橋部分） | 断熱部分＋熱橋部分<br>（構造部材等<br>＋付加断熱材） | 熱橋部分<br>（構造部材等<br>＋付加断熱層内熱橋部分） |\n",
    "|---|---|---|---|---|\n",
    "| 軸組構法において柱・間柱間に断熱し付加断熱する場合<br>付加断熱層内熱橋部分が「横下地」 | 0.75 | 0.08 | 0.12 | 0.05 |\n",
    "| 軸組構法において柱・間柱間に断熱し付加断熱する場合<br>付加断熱層内熱橋部分が「縦下地」 | 0.79 | 0.04 | 0.04 | 0.13 |"
   ]
  },
  {
   "cell_type": "markdown",
   "metadata": {},
   "source": [
    "| 工法の種類等 | 断熱部分<br>（充填断熱材<br>＋付加断熱材） | 断熱部分＋熱橋部<br>（充填断熱材<br>＋付加断熱層内熱橋部） | 断熱部分＋熱橋部<br>（構造部材等<br>＋付加断熱材） | 断熱部分＋熱橋部<br>（まぐさ<br>＋付加断熱材） | 熱橋部分<br>（構造部材等<br>＋付加断熱層内熱橋部） | 熱橋部分<br>（まぐさ<br>＋付加断熱層内熱橋部） |\n",
    "|---|---|---|---|---|---|---|\n",
    "| 枠組壁工法においてたて枠間に断熱し付加断熱する場合<br>付加断熱層内熱橋部分が「横下地」 | 0.69 | 0.08 | 0.14 | 0.02 | 0.06 | 0.01 |\n",
    "| 枠組壁工法においてたて枠間に断熱し付加断熱する場合<br>付加断熱層内熱橋部分が「縦下地」 | 0.76 | 0.01 | 　 | 0.02 | 0.20 | 0.01 |"
   ]
  },
  {
   "cell_type": "code",
   "execution_count": 13,
   "metadata": {},
   "outputs": [],
   "source": [
    "def get_area_ratio_wood_wall(wall_construction_method):\n",
    "    \"\"\"面積比率法において木造壁の部分の面積比率を取得する\n",
    "    \n",
    "    Args:\n",
    "        wall_construction_method: 壁の工法種類（以下の値をとる）\n",
    "            1 frame_beam:軸組構法（柱・間柱間に断熱） \n",
    "            2 frame_beam_additional_insulation_horizontal: 軸組構法（柱・間柱間に断熱し付加断熱（付加断熱層内熱橋部分が「横下地」）） \n",
    "            3 frame_beam_additional_insulation_vertical: 軸組構法（柱、間柱間に断熱し付加断熱（付加断熱層内熱橋部分が「縦下地」））\n",
    "            4 frame_wall: 枠組壁工法（たて枠間に断熱）\n",
    "            5 frame_wall_additional_insulation_horizontal: 枠組壁工法（たて枠間に断熱し付加断熱（付加断熱層内熱橋部分が「横下地」）） \n",
    "            6 frame_wall_additional_insulation_vertical: 枠組壁工法（たて枠間に断熱し付加断熱（付加断熱層内熱橋部分が「縦下地」））\n",
    "\n",
    "    Returns:\n",
    "        面積比率の辞書型（keyは以下の値をとる）\n",
    "            ins: 断熱部分\n",
    "            hb: 熱橋部分\n",
    "            ins_ins: 断熱部分(柱・間柱間断熱材+付加断熱材)\n",
    "            ins_hb: 断熱部分+熱橋部分(柱・間柱間断熱材+付加断熱層内熱橋部)\n",
    "            hb_ins: 断熱部分＋熱橋部分(構造部材等+付加断熱材)\n",
    "            hb_hb: 熱橋部分(構造部材等+付加断熱層内熱橋部)\n",
    "            magsa_ins: 断熱部分＋熱橋部分(まぐさ+付加断熱材)\n",
    "            magsa_hb: 熱橋部分(まぐさ+付加断熱層内熱橋部)\n",
    "            \n",
    "    \"\"\"\n",
    "    \n",
    "    return {\n",
    "        'frame_beam'                                  : {'ins':0.83, 'hb':0.17},\n",
    "        'frame_beam_additional_insulation_horizontal' : {'ins_ins':0.75, 'ins_hb':0.08, 'hb_ins':0.12, 'hb_hb':0.05},\n",
    "        'frame_beam_additional_insulation_vertical'   : {'ins_ins':0.79, 'ins_hb':0.04, 'hb_ins':0.04, 'hb_hb':0.13},\n",
    "        'frame_wall'                                  : {'ins':0.77, 'hb':0.23},\n",
    "        'frame_wall_additional_insulation_horizontal' : {'ins_ins':0.69,'ins_hb':0.08,'hb_ins':0.14,'magsa_ins':0.02,'hb_hb':0.06,'magsa_hb':0.01},\n",
    "        'frame_wall_additional_insulation_vertical'   : {'ins_ins':0.76,'ins_hb':0.01,'magsa_ins':0.02,'hb_hb':0.20,'magsa_hb':0.01},\n",
    "    }[wall_construction_method]"
   ]
  },
  {
   "cell_type": "markdown",
   "metadata": {},
   "source": [
    "#### 3) 木造における天井の面積比率"
   ]
  },
  {
   "cell_type": "markdown",
   "metadata": {},
   "source": [
    "| 工法の種類等 | 断熱部分 | 熱橋部分 |\n",
    "|---|---|---|\n",
    "| 桁・梁間に断熱する場合 | 0.87 | 0.13 |"
   ]
  },
  {
   "cell_type": "code",
   "execution_count": 14,
   "metadata": {},
   "outputs": [],
   "source": [
    "def get_area_ratio_wood_ceiling(ceiling_construction_method):\n",
    "    \"\"\"面積比率法において木造天井の部分の面積比率を取得する\n",
    "    \n",
    "    Args:\n",
    "        ceiling_construction_method: 天井の工法種類（以下の値をとる）\n",
    "            1 beam_insulation: 桁・梁間に断熱 \n",
    "            \n",
    "    Returns:\n",
    "        面積比率の辞書型（keyは以下の値をとる）\n",
    "            ins: 断熱部分\n",
    "            hb: 熱橋部分\n",
    "            \n",
    "    \"\"\"\n",
    "    \n",
    "    return {\n",
    "        'beam_insulation' : {'ins':0.83, 'hb':0.17},\n",
    "    }[ceiling_construction_method]"
   ]
  },
  {
   "cell_type": "markdown",
   "metadata": {},
   "source": [
    "#### 4) 木造における屋根の面積比率"
   ]
  },
  {
   "cell_type": "markdown",
   "metadata": {},
   "source": [
    "| 工法の種類等 | 断熱部分 | 熱橋部分 |\n",
    "|---|---|---|\n",
    "| たるき間に断熱する場合  | 0.86 | 0.14 |"
   ]
  },
  {
   "cell_type": "markdown",
   "metadata": {},
   "source": [
    "| 工法の種類等 | 断熱部分<br>（たる木間断熱材<br>＋付加断熱材） | 断熱部分＋熱橋部分<br>（たる木間断熱材<br>＋付加断熱層内熱橋部（下地たる木）） | 断熱部分＋熱橋部分<br>（構造部材<br>＋付加断熱材） | 熱橋部分<br>（構造部材<br>＋付加断熱層内熱橋部（下地たる木）） |\n",
    "|---|---|---|---|---|\n",
    "| たるき間に断熱し付加断熱（横下地）する場合  | 0.79 | 0.08 | 0.12 | 0.01 |"
   ]
  },
  {
   "cell_type": "code",
   "execution_count": 15,
   "metadata": {},
   "outputs": [],
   "source": [
    "def get_area_ratio_wood_roof(roof_construction_method):\n",
    "    \"\"\"面積比率法において木造屋根の部分の面積比率を取得する\n",
    "    \n",
    "    Args:\n",
    "        roof_construction_method: 屋根の工法種類（以下の値をとる）\n",
    "            rafter_insulation: たるき間に断熱\n",
    "            rafter_additional_insulation: たるき間に断熱し付加断熱（横下地）\n",
    "            \n",
    "    Returns:\n",
    "        面積比率の辞書型（keyは以下の値をとる）\n",
    "            ins: 断熱部分\n",
    "            hb: 熱橋部分\n",
    "            ins_ins: 断熱部分（たる木間断熱材＋付加断熱材）\n",
    "            ins_hb: 断熱部分＋熱橋部分（たる木間断熱材＋付加断熱層内熱橋部（下地たる木））\n",
    "            hb_ins: 断熱部分＋熱橋部分（構造部材＋付加断熱材）\n",
    "            hb_hb: 熱橋部分（構造部材＋付加断熱層内熱橋部（下地たる木）） \n",
    "            \n",
    "    \"\"\"\n",
    "    \n",
    "    return {\n",
    "        'rafter_insulation': {'ins': 0.86, 'hb': 0.14},\n",
    "        'rafter_additional_insulation': {'ins_ins':0.79, 'ins_hb':0.08, 'hb_ins':0.12, 'hb_hb':0.01},\n",
    "    }[roof_construction_method]"
   ]
  },
  {
   "cell_type": "markdown",
   "metadata": {},
   "source": [
    "### 4. 熱貫流率補正法（木造）"
   ]
  },
  {
   "cell_type": "markdown",
   "metadata": {},
   "source": [
    "熱貫流率補正法（木造）は将来廃止される可能せいが高いため、現時点では実装しません。"
   ]
  },
  {
   "cell_type": "markdown",
   "metadata": {},
   "source": [
    "### 5. 詳細入力（鉄骨造）"
   ]
  },
  {
   "cell_type": "code",
   "execution_count": 16,
   "metadata": {},
   "outputs": [],
   "source": [
    "def get_r_red(general_part_type: str, next_space: str, layers: List[dict], u_r: float) -> float:\n",
    "    \"\"\"部位の部分のR値の低減率を計算する\n",
    "    \n",
    "    Args:\n",
    "        general_part_type: 一般部位の種類（以下の値をとる）\n",
    "            ceiling: 天井\n",
    "            roof: 屋根\n",
    "            wall: 壁\n",
    "            floor: 床\n",
    "            boundary_wall: 界壁\n",
    "            upward_boundary_floor: 上界側界床\n",
    "            downward_boundary_floor: 下界側界床\n",
    "        next_space: 隣接空間の種類（以下の値をとる）\n",
    "            outdoor: 外気\n",
    "            open_space: 外気に通じる空間\n",
    "            closed_space: 外気に通じていない空間\n",
    "            open_underfloor: 外気に通じる床裏\n",
    "            air_conditioned: 住戸及び住戸と同様の熱的環境の空間\n",
    "            closed_underfloor: 外気に通じていない床裏\n",
    "        layers : layer を表す辞書型のリスト（辞書型は以下の値をとる）\n",
    "            name(str): 層の名前\n",
    "            heat_resistance_input_method(str): 断熱性能の入力方法（以下の値をとる）\n",
    "                conductivity: 熱伝導率から計算する\n",
    "                resistance: 熱抵抗を直接入力する\n",
    "            thermal_conductivity(float): 熱伝導率, W/mK\n",
    "            thermal_resistance(float): 熱抵抗, m2K/W\n",
    "            volumetric_specific_heat(float): 容積比熱, J/LK\n",
    "            thickness(float): 厚さ, m\n",
    "        u_r: 補正熱貫流率, W/m2K\n",
    "\n",
    "    Returns:\n",
    "        熱抵抗, m2 K / W\n",
    "    \"\"\"\n",
    "\n",
    "    r_i, r_o = get_thermal_resistance(general_part_type, next_space)\n",
    "\n",
    "    r_material = get_material_r_value(layers=layers)\n",
    "    \n",
    "    u_g = get_u_value(r_material=r_material, r_i=r_i, r_o=r_o)\n",
    "    \n",
    "    u_target = get_u_steel(u_g, u_r)\n",
    "    \n",
    "    r_red = get_r_red(r_material, u_target, r_i, r_o)\n",
    "\n",
    "    return r_red"
   ]
  },
  {
   "cell_type": "code",
   "execution_count": 17,
   "metadata": {},
   "outputs": [],
   "source": [
    "def make_alt_layer(layer, r_red):\n",
    "    \n",
    "    if layer['heat_resistance_input_method'] == 'conductivity':\n",
    "        return {\n",
    "            'name'                         : layer['name'],\n",
    "            'heat_resistance_input_method' : layer['heat_resistance_input_method'],\n",
    "            'thermal_conductivity'         : layer['thermal_conductivity'],\n",
    "            'thickness'                    : layer['thickness'] * r_red,\n",
    "            'volumetric_specific_heat'     : layer['volumetric_specific_heat'],\n",
    "        }\n",
    "    elif layer['heat_resistance_input_method'] == 'resistance':\n",
    "        return {\n",
    "            'name'                         : layer['name'],\n",
    "            'heat_resistance_input_method' : layer['heat_resistance_input_method'],\n",
    "            'thermal_resistance'           : layer['thermal_resistance'] * r_red,\n",
    "            'thickness'                    : layer['thickness'] * r_red,\n",
    "            'volumetric_specific_heat'     : layer['volumetric_specific_heat'],\n",
    "        }\n",
    "    else:\n",
    "        raise KeyError()"
   ]
  },
  {
   "cell_type": "code",
   "execution_count": 18,
   "metadata": {},
   "outputs": [],
   "source": [
    "def get_u_steel(u_g, u_r):\n",
    "    \n",
    "    return u_g + u_r"
   ]
  },
  {
   "cell_type": "code",
   "execution_count": 19,
   "metadata": {},
   "outputs": [],
   "source": [
    "def get_r_red(r_material, u_target, r_i, r_o):\n",
    "    \n",
    "    r_target = max(0.0, 1/u_target - r_i - r_o)\n",
    "    \n",
    "    return r_target/r_material"
   ]
  },
  {
   "cell_type": "markdown",
   "metadata": {},
   "source": [
    "### 6. 共通で使用"
   ]
  },
  {
   "cell_type": "markdown",
   "metadata": {},
   "source": [
    "#### 1) 表面熱伝達抵抗"
   ]
  },
  {
   "cell_type": "markdown",
   "metadata": {},
   "source": [
    "表面熱伝達抵抗は部位の種類と隣接空間の種類によって決定される。"
   ]
  },
  {
   "cell_type": "code",
   "execution_count": 20,
   "metadata": {},
   "outputs": [],
   "source": [
    "def get_thermal_resistance(general_part_type: str, next_space: str) -> (float, float):\n",
    "    \"\"\"表面熱伝達抵抗を取得する。\n",
    "    \n",
    "    Args:\n",
    "        general_part_type: 一般部位の種類（以下の値をとる）\n",
    "            ceiling: 天井\n",
    "            roof: 屋根\n",
    "            wall: 壁\n",
    "            floor: 床\n",
    "            boundary_wall: 界壁\n",
    "            upward_boundary_floor: 上界側界床\n",
    "            downward_boundary_floor: 下界側界床\n",
    "        next_space: 隣接空間の種類（以下の値をとる）\n",
    "            outdoor: 外気\n",
    "            open_space: 外気に通じる空間\n",
    "            closed_space: 外気に通じていない空間\n",
    "            open_underfloor: 外気に通じる床裏\n",
    "            air_conditioned: 住戸及び住戸と同様の熱的環境の空間\n",
    "            closed_underfloor: 外気に通じていない床裏\n",
    "    \n",
    "    Returns:\n",
    "        室内側表面熱伝達抵抗(m2K/W), 室外側表面熱伝達抵抗(m2K/W),  \n",
    "    \"\"\"\n",
    "    \n",
    "    r_i, r_o = mtc.get_surface_thermal_resistance(general_part_type=general_part_type, next_space=next_space)\n",
    "    \n",
    "    return r_i, r_o"
   ]
  },
  {
   "cell_type": "markdown",
   "metadata": {},
   "source": [
    "#### 2) Part の R値（表面熱伝達抵抗を除く）の計算"
   ]
  },
  {
   "cell_type": "code",
   "execution_count": 21,
   "metadata": {},
   "outputs": [],
   "source": [
    "def get_material_r_value(layers: List[dict]) -> float:\n",
    "    \"\"\"部位の部分の熱伝達抵抗の合計（表面熱伝達抵抗を除く）を計算する\n",
    "    \n",
    "    Args:\n",
    "        layers : layer を表す辞書型のリスト（辞書型は以下の値をとる）\n",
    "            name(str): 層の名前\n",
    "            heat_resistance_input_method(str): 断熱性能の入力方法（以下の値をとる）\n",
    "                conductivity: 熱伝導率から計算する\n",
    "                resistance: 熱抵抗を直接入力する\n",
    "            thermal_conductivity(float): 熱伝導率, W/mK\n",
    "            thermal_resistance(float): 熱抵抗, m2K/W\n",
    "            volumetric_specific_heat(float): 容積比熱, J/LK\n",
    "            thickness(float): 厚さ, m\n",
    "\n",
    "    Returns:\n",
    "        部位の部分の熱伝達抵抗の合計（表面熱伝達抵抗を除く）\n",
    "    \"\"\"\n",
    "    \n",
    "    def get_r(layer):\n",
    "        \"\"\"層の熱伝達抵抗を計算する\n",
    "        Args:\n",
    "            layer : 層を表す辞書型（以下の値をとる）\n",
    "                name(str): 層の名前\n",
    "                heat_resistance_input_method(str): 断熱性能の入力方法（以下の値をとる）\n",
    "                    conductivity: 熱伝導率から計算する\n",
    "                    resistance: 熱抵抗を直接入力する\n",
    "                thermal_conductivity(float): 熱伝導率, W/mK\n",
    "                thermal_resistance(float): 熱抵抗, m2K/W\n",
    "                volumetric_specific_heat(float): 容積比熱, J/LK\n",
    "                thickness(float): 厚さ, m\n",
    "        \"\"\"\n",
    "        \n",
    "        if layer['heat_resistance_input_method'] == 'conductivity':\n",
    "            return layer['thickness'] / layer['thermal_conductivity']\n",
    "        elif layer['heat_resistance_input_method'] == 'resistance':\n",
    "            return layer['thermal_resistance']\n",
    "        else:\n",
    "            raise KeyError()\n",
    "    \n",
    "    return sum([get_r(layer) for layer in layers])"
   ]
  },
  {
   "cell_type": "code",
   "execution_count": 22,
   "metadata": {},
   "outputs": [],
   "source": [
    "def get_u_value(r_material: float, r_i: float, r_o: float) -> float:\n",
    "    \"\"\"部位の部分のU値を計算する\n",
    "    Args:\n",
    "        r_material : 熱伝達抵抗の合計（表面熱伝達抵抗を除く）, m2K/W\n",
    "        r_i : 室内側熱伝達抵抗, m2K/W\n",
    "        r_o : 室外側熱伝達抵抗, m2K/W\n",
    "\n",
    "    Returns:\n",
    "        熱貫流率, W/m2K\n",
    "    \"\"\"\n",
    "    \n",
    "    return 1 / (r_i + res + r_o)"
   ]
  },
  {
   "cell_type": "code",
   "execution_count": null,
   "metadata": {},
   "outputs": [],
   "source": []
  },
  {
   "cell_type": "markdown",
   "metadata": {},
   "source": [
    "## III. 使用例"
   ]
  },
  {
   "cell_type": "markdown",
   "metadata": {},
   "source": [
    "### 1. 直接U値入力（木造・RC造等・S造・その他）"
   ]
  },
  {
   "cell_type": "code",
   "execution_count": 23,
   "metadata": {},
   "outputs": [],
   "source": [
    "ex = get_parts_u_value_directly(general_part_type='wall',\n",
    "                                next_space='outdoor',\n",
    "                                structure='wood',\n",
    "                                u_value=0.538 )"
   ]
  },
  {
   "cell_type": "code",
   "execution_count": 24,
   "metadata": {
    "scrolled": true
   },
   "outputs": [
    {
     "data": {
      "text/plain": [
       "[{'name': 'part_inputed_by_u_value_directly',\n",
       "  'area_ratio': 1.0,\n",
       "  'layers': [{'name': 'gypsum_board',\n",
       "    'heat_resistance_input_method': 'conductivity',\n",
       "    'thermal_conductivity': 0.22,\n",
       "    'volumetric_specific_heat': 830.0,\n",
       "    'thickness': 0.0095},\n",
       "   {'name': 'insulation',\n",
       "    'heat_resistance_input_method': 'conductivity',\n",
       "    'thermal_conductivity': 0.045,\n",
       "    'volumetric_specific_heat': 13.0,\n",
       "    'thickness': 0.0749499408583981}]}]"
      ]
     },
     "execution_count": 24,
     "metadata": {},
     "output_type": "execute_result"
    }
   ],
   "source": [
    "ex"
   ]
  },
  {
   "cell_type": "code",
   "execution_count": 25,
   "metadata": {},
   "outputs": [
    {
     "data": {
      "text/plain": [
       "1.0"
      ]
     },
     "execution_count": 25,
     "metadata": {},
     "output_type": "execute_result"
    }
   ],
   "source": [
    "ex[0]['area_ratio']"
   ]
  },
  {
   "cell_type": "code",
   "execution_count": 26,
   "metadata": {},
   "outputs": [
    {
     "data": {
      "text/plain": [
       "[{'name': 'gypsum_board',\n",
       "  'heat_resistance_input_method': 'conductivity',\n",
       "  'thermal_conductivity': 0.22,\n",
       "  'volumetric_specific_heat': 830.0,\n",
       "  'thickness': 0.0095},\n",
       " {'name': 'insulation',\n",
       "  'heat_resistance_input_method': 'conductivity',\n",
       "  'thermal_conductivity': 0.045,\n",
       "  'volumetric_specific_heat': 13.0,\n",
       "  'thickness': 0.0749499408583981}]"
      ]
     },
     "execution_count": 26,
     "metadata": {},
     "output_type": "execute_result"
    }
   ],
   "source": [
    "ex[0]['layers']"
   ]
  },
  {
   "cell_type": "markdown",
   "metadata": {},
   "source": [
    "U値と断熱材厚の関係のグラフ作成"
   ]
  },
  {
   "cell_type": "code",
   "execution_count": 27,
   "metadata": {},
   "outputs": [
    {
     "data": {
      "image/png": "[encoded data removed]",
      "text/plain": [
       "<Figure size 1080x360 with 2 Axes>"
      ]
     },
     "metadata": {},
     "output_type": "display_data"
    }
   ],
   "source": [
    "xs = np.arange(0.05, 5.0, 0.05)\n",
    "\n",
    "cases = [\n",
    "    ('ceiling',                 'open_space'),\n",
    "    ('roof',                    'outdoor'),\n",
    "    ('wall',                    'outdoor'),\n",
    "    ('floor',                   'outdoor'),\n",
    "    ('boundary_wall',           'air_conditioned'),\n",
    "    ('upward_boundary_floor',   'air_conditioned'),\n",
    "    ('downward_boundary_floor', 'air_conditioned'),\n",
    "]\n",
    "\n",
    "fig = plt.figure(figsize = (15, 5))\n",
    "plt.style.use('ggplot')\n",
    "\n",
    "for i, structure in enumerate(['wood','rc']):\n",
    "    \n",
    "    sp = fig.add_subplot(1, 2, i+1)\n",
    "\n",
    "    sp.set_title(structure)\n",
    "    sp.set_xlabel('U-value, W/m2K')\n",
    "    sp.set_ylabel('insulation thickness, m')\n",
    "    sp.set_ylim(0.0, 0.4)\n",
    "    \n",
    "    def get_t(general_part_type, next_space, structure, u_value):\n",
    "        layers = get_parts_u_value_directly(general_part_type, next_space, structure, u_value)[0]['layers']\n",
    "        return sum([layer['thickness'] for layer in layers if layer['name'] == 'insulation'])\n",
    "        \n",
    "    \n",
    "    for case in cases:\n",
    "        \n",
    "        ys = [get_t(general_part_type=case[0], next_space=case[1], structure=structure, u_value=x) for x in xs]\n",
    "        sp.scatter(xs, ys, 10, label=case[0])\n",
    "        \n",
    "    sp.legend()\n",
    "\n",
    "plt.show()"
   ]
  },
  {
   "cell_type": "markdown",
   "metadata": {},
   "source": [
    "### 2. 詳細入力（木造・RC造等）"
   ]
  },
  {
   "cell_type": "code",
   "execution_count": 28,
   "metadata": {},
   "outputs": [
    {
     "data": {
      "text/plain": [
       "[{'name': 'part_1',\n",
       "  'area_ratio': 1.0,\n",
       "  'layers': [{'name': 'layer_1',\n",
       "    'heat_resistance_input_method': 'conductivity',\n",
       "    'thermal_conductivity': 1.6,\n",
       "    'thickness': 0.12,\n",
       "    'volumetric_specific_heat': 120.0},\n",
       "   {'name': 'layer_2',\n",
       "    'heat_resistance_input_method': 'conductivity',\n",
       "    'thermal_conductivity': 1.6,\n",
       "    'thickness': 0.12,\n",
       "    'volumetric_specific_heat': 120.0}]}]"
      ]
     },
     "execution_count": 28,
     "metadata": {},
     "output_type": "execute_result"
    }
   ],
   "source": [
    "parts=[\n",
    "    {\n",
    "        'name' : 'part_1',\n",
    "        'layers' : [ \n",
    "            { \n",
    "                'name':'layer_1',\n",
    "                'heat_resistance_input_method':'conductivity',\n",
    "                'thermal_conductivity':1.6,\n",
    "                'thickness':0.12,\n",
    "                'volumetric_specific_heat':120.0,\n",
    "            },\n",
    "            { \n",
    "                'name':'layer_2',\n",
    "                'heat_resistance_input_method':'conductivity',\n",
    "                'thermal_conductivity':1.6,\n",
    "                'thickness':0.12,\n",
    "                'volumetric_specific_heat':120.0,\n",
    "            }\n",
    "        ],\n",
    "    }\n",
    "]\n",
    "get_parts_detail_method(parts)"
   ]
  },
  {
   "cell_type": "code",
   "execution_count": null,
   "metadata": {},
   "outputs": [],
   "source": []
  }
 ],
 "metadata": {
  "kernelspec": {
   "display_name": "Python 3",
   "language": "python",
   "name": "python3"
  },
  "language_info": {
   "codemirror_mode": {
    "name": "ipython",
    "version": 3
   },
   "file_extension": ".py",
   "mimetype": "text/x-python",
   "name": "python",
   "nbconvert_exporter": "python",
   "pygments_lexer": "ipython3",
   "version": "3.7.6"
  }
 },
 "nbformat": 4,
 "nbformat_minor": 2
}
