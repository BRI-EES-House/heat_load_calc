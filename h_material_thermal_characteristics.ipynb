{
 "cells": [
  {
   "cell_type": "code",
   "execution_count": 1,
   "metadata": {},
   "outputs": [],
   "source": [
    "import nbimporter"
   ]
  },
  {
   "cell_type": "markdown",
   "metadata": {},
   "source": [
    "# 建材等の熱物性値等"
   ]
  },
  {
   "cell_type": "markdown",
   "metadata": {},
   "source": [
    "根拠：第4章第3節付録A"
   ]
  },
  {
   "cell_type": "markdown",
   "metadata": {},
   "source": [
    "# 1. 表面熱伝達抵抗"
   ]
  },
  {
   "cell_type": "markdown",
   "metadata": {},
   "source": [
    "外気等に面する部位の場合の表面熱伝達抵抗(m<sup>2</sup>K/W)"
   ]
  },
  {
   "cell_type": "markdown",
   "metadata": {},
   "source": [
    "| 部位 | 熱的境界内側の表面熱伝達抵抗 | 熱的境界外側の表面熱伝達抵抗<br>(外気に直接接する場合) | <br>(左記以外) |\n",
    "| --- | --- | --- | --- |\n",
    "| 屋根 | 0.09 | 0.04 | 0.09 (通気層等) |\n",
    "| 天井 | 0.09 | － | 0.09 (小屋裏等) |\n",
    "| 外壁 | 0.11 | 0.04 | 0.11 (通気層等) |\n",
    "| 床 | 0.15 | 0.04 | 0.15 (床裏等) |"
   ]
  },
  {
   "cell_type": "markdown",
   "metadata": {},
   "source": [
    "界壁・界床の場合の表面熱伝達抵抗(m<sup>2</sup>K/W)"
   ]
  },
  {
   "cell_type": "markdown",
   "metadata": {},
   "source": [
    "| 部位 | 対象住戸の室内側表面熱伝達抵抗 | 隣接住戸の室内側表面熱伝達抵抗 |\n",
    "| --- | --- | --- |\n",
    "| 界壁 | 0.11 | 0.11 |\n",
    "| 上階側界床 | 0.09 | 0.09 |\n",
    "| 下階側界床 | 0.15 | 0.15 |"
   ]
  },
  {
   "cell_type": "code",
   "execution_count": 2,
   "metadata": {},
   "outputs": [],
   "source": [
    "def get_surface_thermal_resistance(general_part_type: str, next_space:str) -> (float, float):\n",
    "    \"\"\"表面熱伝達抵抗を取得する。\n",
    "    \n",
    "    Args:\n",
    "        general_part_type: 一般部位の種類（以下の値をとる）\n",
    "            ceiling: 天井\n",
    "            roof: 屋根\n",
    "            wall: 壁\n",
    "            floor: 床\n",
    "            boundary_wall: 界壁\n",
    "            upward_boundary_floor: 上界側界床\n",
    "            downward_boundary_floor: 下界側界床\n",
    "        next_space: 隣接空間の種類（以下の値をとる）\n",
    "            outdoor: 外気\n",
    "            open_space: 外気に通じる空間\n",
    "            closed_space: 外気に通じていない空間\n",
    "            open_underfloor: 外気に通じる床裏\n",
    "            air_conditioned: 住戸及び住戸と同様の熱的環境の空間\n",
    "            closed_underfloor: 外気に通じていない床裏\n",
    "    \n",
    "    Returns:\n",
    "        表面熱伝達抵抗, m2K/W\n",
    "    \"\"\"    \n",
    "    \n",
    "    if general_part_type == 'roof':\n",
    "        \n",
    "        if next_space == 'outdoor':\n",
    "            return (0.09, 0.04)\n",
    "        else:\n",
    "            return (0.09, 0.09)\n",
    "    \n",
    "    elif general_part_type == 'ceiling':\n",
    "        \n",
    "        if next_space == 'outdoor':\n",
    "            raise ValueError('「部位の種類」が「天井」の場合に「外気の種類」として「外気」は選択できません。')\n",
    "        else:\n",
    "            return (0.09, 0.09)\n",
    "    \n",
    "    elif general_part_type == 'wall':\n",
    "        \n",
    "        if next_space == 'outdoor':\n",
    "            return (0.11, 0.04)\n",
    "        else:\n",
    "            return (0.11, 0.11)\n",
    "\n",
    "    elif general_part_type == 'floor':\n",
    "\n",
    "        if next_space == 'outdoor':\n",
    "            return (0.15, 0.04)\n",
    "        else:\n",
    "            return (0.15, 0.15)\n",
    "        \n",
    "    elif general_part_type == 'boundary_wall':\n",
    "        \n",
    "        if next_space == 'air_conditioned':\n",
    "            return (0.11, 0.11)\n",
    "        else:\n",
    "            raise ValueError('「部位の種類」が「界壁」の場合は「外気の種類」に「住戸及び住戸と同様の熱的環境の空間」を指定する必要があります。')\n",
    "\n",
    "    elif general_part_type == 'upward_boundary_floor':\n",
    "        \n",
    "        if next_space == 'air_conditioned':\n",
    "            return (0.09, 0.09)\n",
    "        else:\n",
    "            raise ValueError('「部位の種類」が「上階側界床」の場合は「外気の種類」に「住戸及び住戸と同様の熱的環境の空間」を指定する必要があります。')\n",
    "\n",
    "    elif general_part_type == 'downward_boundary_floor':\n",
    "        \n",
    "        if next_space == 'air_conditioned':\n",
    "            return (0.15, 0.15)\n",
    "        else:\n",
    "            raise ValueError('「部位の種類」が「下界側界床」の場合は「外気の種類」に「住戸及び住戸と同様の熱的環境の空間」を指定する必要があります。')\n",
    "    else:\n",
    "        \n",
    "        raise ValueError()"
   ]
  },
  {
   "cell_type": "code",
   "execution_count": null,
   "metadata": {},
   "outputs": [],
   "source": []
  }
 ],
 "metadata": {
  "kernelspec": {
   "display_name": "Python 3",
   "language": "python",
   "name": "python3"
  },
  "language_info": {
   "codemirror_mode": {
    "name": "ipython",
    "version": 3
   },
   "file_extension": ".py",
   "mimetype": "text/x-python",
   "name": "python",
   "nbconvert_exporter": "python",
   "pygments_lexer": "ipython3",
   "version": "3.7.6"
  }
 },
 "nbformat": 4,
 "nbformat_minor": 2
}
