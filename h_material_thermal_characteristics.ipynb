{
 "cells": [
  {
   "cell_type": "code",
   "execution_count": 1,
   "metadata": {},
   "outputs": [],
   "source": [
    "from enum import Enum"
   ]
  },
  {
   "cell_type": "markdown",
   "metadata": {},
   "source": [
    "# 建材等の熱物性値等"
   ]
  },
  {
   "cell_type": "markdown",
   "metadata": {},
   "source": [
    "根拠：第4章第3節付録A"
   ]
  },
  {
   "cell_type": "markdown",
   "metadata": {},
   "source": [
    "# 1. 表面熱伝達抵抗"
   ]
  },
  {
   "cell_type": "markdown",
   "metadata": {},
   "source": [
    "外気等に面する部位の場合の表面熱伝達抵抗(m<sup>2</sup>K/W)"
   ]
  },
  {
   "cell_type": "markdown",
   "metadata": {},
   "source": [
    "| 部位 | 熱的境界内側の表面熱伝達抵抗 | 熱的境界外側の表面熱伝達抵抗<br>(外気に直接接する場合) | <br>(左記以外) |\n",
    "| --- | --- | --- | --- |\n",
    "| 屋根 | 0.09 | 0.04 | 0.09 (通気層等) |\n",
    "| 天井 | 0.09 | － | 0.09 (小屋裏等) |\n",
    "| 外壁 | 0.11 | 0.04 | 0.11 (通気層等) |\n",
    "| 床 | 0.15 | 0.04 | 0.15 (床裏等) |"
   ]
  },
  {
   "cell_type": "markdown",
   "metadata": {},
   "source": [
    "界壁・界床の場合の表面熱伝達抵抗(m<sup>2</sup>K/W)"
   ]
  },
  {
   "cell_type": "markdown",
   "metadata": {},
   "source": [
    "| 部位 | 対象住戸の室内側表面熱伝達抵抗 | 隣接住戸の室内側表面熱伝達抵抗 |\n",
    "| --- | --- | --- |\n",
    "| 界壁 | 0.11 | 0.11 |\n",
    "| 上階側界床 | 0.09 | 0.09 |\n",
    "| 下階側界床 | 0.15 | 0.15 |"
   ]
  },
  {
   "cell_type": "markdown",
   "metadata": {},
   "source": []
  },
  {
   "cell_type": "code",
   "execution_count": 2,
   "metadata": {},
   "outputs": [],
   "source": [
    "class EnvelopeType(Enum):\n",
    "    CEILING = 0\n",
    "    ROOF = 1\n",
    "    WALL = 2\n",
    "    FLOOR = 3\n",
    "    BOUNDARY_WALL = 4\n",
    "    UPWARD_BOUNDARY_FLOOR = 5\n",
    "    DOWNWARD_BOUNDARY_FLOOR = 6"
   ]
  },
  {
   "cell_type": "code",
   "execution_count": null,
   "metadata": {},
   "outputs": [],
   "source": []
  }
 ],
 "metadata": {
  "kernelspec": {
   "display_name": "Python 3",
   "language": "python",
   "name": "python3"
  },
  "language_info": {
   "codemirror_mode": {
    "name": "ipython",
    "version": 3
   },
   "file_extension": ".py",
   "mimetype": "text/x-python",
   "name": "python",
   "nbconvert_exporter": "python",
   "pygments_lexer": "ipython3",
   "version": "3.6.4"
  }
 },
 "nbformat": 4,
 "nbformat_minor": 2
}
