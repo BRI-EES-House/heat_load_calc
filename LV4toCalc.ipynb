{
 "cells": [
  {
   "cell_type": "code",
   "execution_count": 1,
   "metadata": {},
   "outputs": [],
   "source": [
    "import sys\n",
    "import os\n",
    "import nbimporter\n",
    "import copy\n",
    "import math\n",
    "import numpy\n",
    "\n",
    "import json\n",
    "from collections import OrderedDict\n",
    "import pprint"
   ]
  },
  {
   "cell_type": "markdown",
   "metadata": {},
   "source": [
    "# 外皮情報LV4から簡易熱負荷計算入力情報へのコンバート"
   ]
  },
  {
   "cell_type": "markdown",
   "metadata": {},
   "source": [
    "## 1. Convert Gdata"
   ]
  },
  {
   "cell_type": "markdown",
   "metadata": {},
   "source": [
    "#### Outline"
   ]
  },
  {
   "cell_type": "markdown",
   "metadata": {},
   "source": [
    "'Gdata'の書き出し"
   ]
  },
  {
   "cell_type": "markdown",
   "metadata": {},
   "source": [
    "#### Function"
   ]
  },
  {
   "cell_type": "code",
   "execution_count": 2,
   "metadata": {},
   "outputs": [],
   "source": [
    "def convert_gdata(d):\n",
    "    \n",
    "    d['Gdata'] = {'Region': d['Common']['Region']}\n",
    "    \n",
    "    return d['Gdata']"
   ]
  },
  {
   "cell_type": "markdown",
   "metadata": {},
   "source": [
    "## 2. Convert Rooms"
   ]
  },
  {
   "cell_type": "markdown",
   "metadata": {},
   "source": [
    "### 床下空間の床面積の取得"
   ]
  },
  {
   "cell_type": "markdown",
   "metadata": {},
   "source": [
    "#### Outline"
   ]
  },
  {
   "cell_type": "markdown",
   "metadata": {},
   "source": [
    "方位が'Bottom'である床下空間の外皮の部位と、床下空間の土間床を、床下空間の床とみなして、床下空間の床面積を取得する。  \n",
    "床下空間に属する部位があるが、床下空間の床面積が0㎡の場合、エラーとする。"
   ]
  },
  {
   "cell_type": "markdown",
   "metadata": {},
   "source": [
    "#### Function"
   ]
  },
  {
   "cell_type": "code",
   "execution_count": 3,
   "metadata": {},
   "outputs": [],
   "source": [
    "def get_area_underfloor(d):\n",
    "    \n",
    "    area_underfloor = 0\n",
    "    make_underfloor = False\n",
    "    \n",
    "    for x in ['Walls', 'Windows', 'Doors'] :\n",
    "        if (x in d) == True :\n",
    "            for y in d[x] :\n",
    "                if y['space'] == 'underfloor' and y['directioin'] == 'Bottom' :\n",
    "                    area_underfloor = area_underfloor + y['area']\n",
    "    \n",
    "    if ('Earthfloors' in d) == True :\n",
    "        for x in d['Earthfloors'] :\n",
    "            if x['space'] == 'underfloor' :\n",
    "                area_underfloor = area_underfloor + x['area']\n",
    "\n",
    "    for x in ['Walls', 'Windows', 'Doors', 'Heatbridges', 'EarthfloorPerimeters', 'Earthfloors', 'Innerwalls'] :\n",
    "        if (x in d) == True :\n",
    "            for y in d[x] :\n",
    "                if y['space'] == 'underfloor' :\n",
    "                    make_underfloor = True\n",
    "            else :\n",
    "                continue\n",
    "            break\n",
    "\n",
    "    if area_underfloor == 0 and make_underfloor == True :\n",
    "        raise ValueError\n",
    "    \n",
    "    return area_underfloor"
   ]
  },
  {
   "cell_type": "markdown",
   "metadata": {},
   "source": [
    "### Roomsの設定"
   ]
  },
  {
   "cell_type": "markdown",
   "metadata": {},
   "source": [
    "#### Outline"
   ]
  },
  {
   "cell_type": "markdown",
   "metadata": {},
   "source": [
    "Roomsの初期設定  "
   ]
  },
  {
   "cell_type": "markdown",
   "metadata": {},
   "source": [
    "#### Function"
   ]
  },
  {
   "cell_type": "code",
   "execution_count": 4,
   "metadata": {},
   "outputs": [],
   "source": [
    "def get_d_main_init(area_main, h_room, Nvent, area_total, area_other):\n",
    "\n",
    "    d_main_init = {\n",
    "        'name': 'main',\n",
    "        'Vol' : area_main*h_room,\n",
    "        'Vent' : {\n",
    "            'winter': Nvent*area_total*h_room*area_main/ (area_main + area_other),\n",
    "            'inter':  Nvent*area_total*h_room*area_main/ (area_main + area_other),\n",
    "            'summer': Nvent*area_total*h_room*area_main/ (area_main + area_other)}\n",
    "        ,\n",
    "        'Inf' : {'winter': 0,'inter': 0,'summer': 0},\n",
    "        'NextVent': [],\n",
    "        'LinearHeatBridge': [],\n",
    "        'EarthfloorPerimeter': [],\n",
    "        'Surface': []\n",
    "    }    \n",
    "    \n",
    "    return d_main_init"
   ]
  },
  {
   "cell_type": "code",
   "execution_count": 5,
   "metadata": {},
   "outputs": [],
   "source": [
    "def get_d_other_init(area_other, h_room, Nvent, area_total, area_main):\n",
    "\n",
    "    d_other_init = {\n",
    "        'name': 'other',\n",
    "        'Vol' : area_other*h_room,\n",
    "        'Vent' : {\n",
    "            'winter': Nvent*area_total*h_room*area_other/ (area_main + area_other),\n",
    "            'inter':  Nvent*area_total*h_room*area_other/ (area_main + area_other),\n",
    "            'summer': Nvent*area_total*h_room*area_other/ (area_main + area_other)}\n",
    "        ,\n",
    "        'Inf' : {'winter': 0,'inter': 0,'summer': 0},\n",
    "        'NextVent': [],\n",
    "        'LinearHeatBridge': [],\n",
    "        'EarthfloorPerimeter': [],\n",
    "        'Surface': []\n",
    "    }    \n",
    "    \n",
    "    return d_other_init"
   ]
  },
  {
   "cell_type": "code",
   "execution_count": 6,
   "metadata": {},
   "outputs": [],
   "source": [
    "def get_d_nonliving_init(area_nonliving, h_room, Nvent, area_total, area_main, area_other):\n",
    "\n",
    "    next_vent = []\n",
    "    if area_main > 0 :\n",
    "        next_vent.append({'Windward_roomname': 'main',\n",
    "                          'winter': Nvent*area_total*h_room*area_main/ (area_main + area_other),\n",
    "                          'inter':  Nvent*area_total*h_room*area_main/ (area_main + area_other),\n",
    "                          'summer': Nvent*area_total*h_room*area_main/ (area_main + area_other)})\n",
    "    if area_other > 0 :\n",
    "        next_vent.append({'Windward_roomname': 'other',\n",
    "                          'winter': Nvent*area_total*h_room*area_other/ (area_main + area_other),\n",
    "                          'inter':  Nvent*area_total*h_room*area_other/ (area_main + area_other),\n",
    "                          'summer': Nvent*area_total*h_room*area_other/ (area_main + area_other)})\n",
    "\n",
    "    d_nonliving_init = {\n",
    "        'name': 'nonliving',\n",
    "        'Vol' : area_nonliving*h_room,\n",
    "        'Vent' : { 'winter': 0, 'inter': 0, 'summer': 0},\n",
    "        'Inf' : {'winter': 0,'inter': 0,'summer': 0},\n",
    "        'NextVent': next_vent,\n",
    "        'LinearHeatBridge': [],\n",
    "        'EarthfloorPerimeter': [],\n",
    "        'Surface': []\n",
    "    }   \n",
    "    \n",
    "    return d_nonliving_init"
   ]
  },
  {
   "cell_type": "code",
   "execution_count": 7,
   "metadata": {},
   "outputs": [],
   "source": [
    "def get_d_underfloor_init(area, h, Nvent):\n",
    "\n",
    "    d_underfloor_init = {\n",
    "        'name': 'underfloor',\n",
    "        'Vol' : area*h,\n",
    "        'Vent' : {\n",
    "            'winter': Nvent*area*h,\n",
    "            'inter':  Nvent*area*h,\n",
    "            'summer': Nvent*area*h}\n",
    "        ,\n",
    "        'Inf' : {'winter': 0,'inter': 0,'summer': 0},\n",
    "        'NextVent': [],\n",
    "        'LinearHeatBridge': [],\n",
    "        'EarthfloorPerimeter': [],\n",
    "        'Surface': []\n",
    "    }\n",
    "\n",
    "    return d_underfloor_init"
   ]
  },
  {
   "cell_type": "code",
   "execution_count": 8,
   "metadata": {},
   "outputs": [],
   "source": [
    "def get_rooms_initial(d):\n",
    "    \n",
    "    # 床面積の取得\n",
    "    area_total = d['Common']['TotalFloorArea'] \n",
    "    area_main = d['Common']['MainOccupantRoomFloorArea']\n",
    "    area_other = d['Common']['OtherOccupantRoomFloorArea'] \n",
    "    area_nonliving = area_total - area_main - area_other\n",
    "    area_underfloor = get_area_underfloor(d)\n",
    "    \n",
    "    # 天井高の設定\n",
    "    h_room = 2.4\n",
    "    h_underfloor = 0.4\n",
    "    \n",
    "    # 換気回数の設定\n",
    "    Nvent = 0.5\n",
    "    Nvent_underfloor = 5.0\n",
    "\n",
    "    d['Rooms'] = []\n",
    "\n",
    "    # 主たる居室の作成\n",
    "    if area_main > 0 :\n",
    "        d['Rooms'].append(get_d_main_init(area_main, h_room, Nvent, area_total, area_other))\n",
    "        \n",
    "    # その他の居室の作成    \n",
    "    if area_other > 0 :\n",
    "        d['Rooms'].append(get_d_other_init(area_other, h_room, Nvent, area_total, area_main))\n",
    "        \n",
    "    # 非居室の作成\n",
    "    if area_nonliving > 0 :\n",
    "        d['Rooms'].append(get_d_nonliving_init(area_nonliving, h_room, Nvent, area_total, area_main, area_other))\n",
    "        \n",
    "    # 床下空間の作成\n",
    "    if area_underfloor > 0 :\n",
    "        d['Rooms'].append(get_d_underfloor_init(area_underfloor, h_underfloor, Nvent_underfloor))\n",
    "    \n",
    "    return d['Rooms']"
   ]
  },
  {
   "cell_type": "markdown",
   "metadata": {},
   "source": [
    "### 表面熱伝達抵抗の取得"
   ]
  },
  {
   "cell_type": "markdown",
   "metadata": {},
   "source": [
    "#### Outline"
   ]
  },
  {
   "cell_type": "markdown",
   "metadata": {},
   "source": [
    "平成28年省エネルギー基準に準拠したエネルギー消費性能の評価に関する技術情報（住宅）  \n",
    "　２．エネルギー消費性能の算定方法  \n",
    "　　2.2　算定方法  \n",
    "　　　第三章　 暖冷房負荷と外皮性能  \n",
    "　　　　第三節　熱貫流率及び線熱貫流率  \n",
    "　　　　　付録 A 住宅の平均熱貫流率算出に用いる建材等の熱物性値等   \n",
    "　　　　　　表 3.1 表面熱伝達抵抗   \n",
    "　　　　　　表 3.2 表面熱伝達抵抗（界壁・界床の場合） "
   ]
  },
  {
   "cell_type": "markdown",
   "metadata": {},
   "source": [
    "<div style=\"text-align: center;\"> 表3.1 表面熱伝達抵抗 </div>\n",
    "\n",
    "| 部位 | 熱的境界内側（室内側）の<br>表面熱伝達抵抗[㎡K/W] | 熱的境界外側（外気側）の表面熱伝達抵抗[㎡K/W]<br>外気に直接接する場合 | 熱的境界外側（外気側）の表面熱伝達抵抗[㎡K/W]<br>左記以外の場合 |\n",
    "|---|---|---|---|\n",
    "| 屋根 | 0.09 | 0.04 | 0.09（通気層等） |\n",
    "| 天井 | 0.09 | - | 0.09（小屋裏等） |\n",
    "| 外壁 | 0.11 | 0.04 | 0.11（通気層等） |\n",
    "| 床 | 0.15 | 0.04 | 0.15(床裏等) |"
   ]
  },
  {
   "cell_type": "markdown",
   "metadata": {},
   "source": [
    "<div style=\"text-align: center;\"> 表3.2 表面熱伝達抵抗（界壁・界床の場合） </div>\n",
    "\n",
    "| 部位 | 対象住戸の室内側表面熱伝達抵抗[㎡K/W] | 隣接住戸の室内側表面熱伝達抵抗[㎡K/W] |\n",
    "|---|---|---|\n",
    "| 界壁 | 0.11 | 0.11 |\n",
    "| 上階側界床 | 0.09 | 0.09 |\n",
    "| 下階側界床 | 0.15 | 0.15 |"
   ]
  },
  {
   "cell_type": "markdown",
   "metadata": {},
   "source": [
    "#### Function"
   ]
  },
  {
   "cell_type": "code",
   "execution_count": 9,
   "metadata": {},
   "outputs": [],
   "source": [
    "def get_OutHeatTrans(type, IsInContactWithOutsideAir):\n",
    "    \n",
    "    if IsInContactWithOutsideAir == True :\n",
    "        Ro = {\n",
    "            'Roof'            : 0.040,\n",
    "            'Wall'            : 0.040,\n",
    "            'Floor'           : 0.040\n",
    "        }[type]\n",
    "    else :\n",
    "        Ro = {\n",
    "            'Roof'            : 0.090,\n",
    "            'Ceiling'         : 0.090,\n",
    "            'Wall'            : 0.110,\n",
    "            'Floor'           : 0.150,\n",
    "            'BoundaryCeiling' : 0.090,\n",
    "            'BoundaryWall'    : 0.110,\n",
    "            'BoundaryFloor'   : 0.150,\n",
    "            'InnerCeiling'    : 0.150,\n",
    "            'InnerWall'       : 0.110,\n",
    "            'InnerFloor'      : 0.090,\n",
    "            'GroundFloor'     : 0.150\n",
    "        }[type]\n",
    "    \n",
    "    return 1/Ro"
   ]
  },
  {
   "cell_type": "code",
   "execution_count": 10,
   "metadata": {},
   "outputs": [],
   "source": [
    "def get_InHeatTrans_from_type(type):\n",
    "    \n",
    "    Ri = {\n",
    "        'Roof'            : 0.090,\n",
    "        'Ceiling'         : 0.090, \n",
    "        'Wall'            : 0.110, \n",
    "        'Floor'           : 0.150, \n",
    "        'Earthfloor'      : 0.150, \n",
    "        'BoundaryCeiling' : 0.090,\n",
    "        'BoundaryWall'    : 0.110,\n",
    "        'BoundaryFloor'   : 0.150,\n",
    "        'InnerCeiling'    : 0.090,\n",
    "        'InnerWall'       : 0.110,\n",
    "        'InnerFloor'      : 0.150,\n",
    "        'GroundFloor'     : 0.150\n",
    "    }[type]\n",
    "    \n",
    "    return 1/Ri"
   ]
  },
  {
   "cell_type": "code",
   "execution_count": 11,
   "metadata": {},
   "outputs": [],
   "source": [
    "def get_InHeatTrans_from_direction(direction):\n",
    "    \n",
    "    Ri = {\n",
    "        'Top':     0.090,\n",
    "        'N':       0.110,\n",
    "        'NE':      0.110,\n",
    "        'E':       0.110,\n",
    "        'SE':      0.110,\n",
    "        'S':       0.110,\n",
    "        'SW':      0.110,\n",
    "        'W':       0.110,\n",
    "        'NW':      0.110,\n",
    "        'Bottom':  0.150\n",
    "    }[direction]\n",
    "    \n",
    "    return 1/Ri"
   ]
  },
  {
   "cell_type": "markdown",
   "metadata": {},
   "source": [
    "### Boundaryの設定"
   ]
  },
  {
   "cell_type": "markdown",
   "metadata": {},
   "source": [
    "#### Outline"
   ]
  },
  {
   "cell_type": "markdown",
   "metadata": {},
   "source": [
    "方位情報より方位角・傾斜角を取得する。"
   ]
  },
  {
   "cell_type": "markdown",
   "metadata": {},
   "source": [
    "#### Function"
   ]
  },
  {
   "cell_type": "code",
   "execution_count": 12,
   "metadata": {},
   "outputs": [],
   "source": [
    "def get_directionangle_from_direction(direction):\n",
    "    \n",
    "    Direction_to_DirectionAngle = {\n",
    "        'Top': None,\n",
    "        'N':   180,\n",
    "        'NE': -135,\n",
    "        'E':   -90,\n",
    "        'SE':  -45,\n",
    "        'S':     0,\n",
    "        'SW':   45,\n",
    "        'W':    90,\n",
    "        'NW':  135,\n",
    "        'Bottom':          None,\n",
    "        'ClosedSpace':     None,\n",
    "        'OpenBackFloor':   None,\n",
    "        'ResidenceSpace':  None,\n",
    "        'ClosedBackFloor': None\n",
    "    }\n",
    "    \n",
    "    return Direction_to_DirectionAngle[direction]"
   ]
  },
  {
   "cell_type": "code",
   "execution_count": 13,
   "metadata": {},
   "outputs": [],
   "source": [
    "def get_inclinationangle_from_direction(direction):\n",
    "    \n",
    "    Direction_to_InclinationAngle = {\n",
    "        'Top': 0,\n",
    "        'N':  90,\n",
    "        'NE': 90,\n",
    "        'E':  90,\n",
    "        'SE': 90,\n",
    "        'S':  90,\n",
    "        'SW': 90,\n",
    "        'W':  90,\n",
    "        'NW': 90,\n",
    "        'Bottom': 180,\n",
    "        'ClosedSpace':     None,\n",
    "        'OpenBackFloor':   None,\n",
    "        'ResidenceSpace':  None,\n",
    "        'ClosedBackFloor': None\n",
    "    }\n",
    "    \n",
    "    return Direction_to_InclinationAngle[direction]"
   ]
  },
  {
   "cell_type": "markdown",
   "metadata": {},
   "source": [
    "#### Outline"
   ]
  },
  {
   "cell_type": "markdown",
   "metadata": {},
   "source": [
    "方位情報より隣室温度差係数を取得する。"
   ]
  },
  {
   "cell_type": "markdown",
   "metadata": {},
   "source": [
    "#### Function"
   ]
  },
  {
   "cell_type": "code",
   "execution_count": 14,
   "metadata": {},
   "outputs": [],
   "source": [
    "def get_tempdifferentfactor_from_direction(region, direction):\n",
    "    \n",
    "    Direction_to_NextSpace = {\n",
    "        'Top':     'outside',\n",
    "        'N':       'outside',\n",
    "        'NE':      'outside',\n",
    "        'E':       'outside',\n",
    "        'SE':      'outside',\n",
    "        'S':       'outside',\n",
    "        'SW':      'outside',\n",
    "        'W':       'outside',\n",
    "        'NW':      'outside',\n",
    "        'Bottom':  'outside',\n",
    "        'ClosedSpace':     'underfloor',\n",
    "        'OpenBackFloor':   'underfloor',\n",
    "        'ResidenceSpace':  'next_room',\n",
    "        'ClosedBackFloor': 'next_room'\n",
    "    }    \n",
    "    \n",
    "    NextSpace_to_TempDifferentFactor = {\n",
    "        # 外気又は外気に通じる空間(小屋裏・天井裏・共用部・屋内駐車場・メーターボックス・エレベーターシャフト等)\n",
    "        'outside'    : {1: 1.00, 2: 1.00, 3: 1.00, 4: 1.00, 5: 1.00, 6: 1.00, 7: 1.00, 8: 1.00 }, \n",
    "        # 外気に通じていない空間(昇降機室、共用機械室、倉庫等)又は外気に通じる床裏\n",
    "        'underfloor' : {1: 0.70, 2: 0.70, 3: 0.70, 4: 0.70, 5: 0.70, 6: 0.70, 7: 0.70, 8: 0.70 }, \n",
    "        # 住戸、住戸と同様の熱的環境の空問(空調された共用部等)又は外気に通じていない床裏(ピット等）\n",
    "        'next_room'  : {1: 0.05, 2: 0.05, 3: 0.05, 4: 0.15, 5: 0.15, 6: 0.15, 7: 0.15, 8: 0.15 }  \n",
    "    }\n",
    "    \n",
    "    return  NextSpace_to_TempDifferentFactor[Direction_to_NextSpace[direction]][region]"
   ]
  },
  {
   "cell_type": "markdown",
   "metadata": {},
   "source": [
    "#### Outline"
   ]
  },
  {
   "cell_type": "markdown",
   "metadata": {},
   "source": [
    "Boundaryを設定する。"
   ]
  },
  {
   "cell_type": "markdown",
   "metadata": {},
   "source": [
    "#### Function"
   ]
  },
  {
   "cell_type": "code",
   "execution_count": 1,
   "metadata": {},
   "outputs": [],
   "source": [
    "def get_boundary_for_outer_skin(region, nextspace, direction):\n",
    "    \n",
    "    Type = {\n",
    "        'Top':     'Outdoor',\n",
    "        'N':       'Outdoor',\n",
    "        'NE':      'Outdoor',\n",
    "        'E':       'Outdoor',\n",
    "        'SE':      'Outdoor',\n",
    "        'S':       'Outdoor',\n",
    "        'SW':      'Outdoor',\n",
    "        'W':       'Outdoor',\n",
    "        'NW':      'Outdoor',\n",
    "        'Bottom':  'Outdoor',\n",
    "        'ClosedSpace':     'DeltaTCoeff',\n",
    "        'OpenBackFloor':   'DeltaTCoeff',\n",
    "        'ResidenceSpace':  'DeltaTCoeff',\n",
    "        'ClosedBackFloor': 'DeltaTCoeff'\n",
    "    }    \n",
    "    \n",
    "    boundary = {\n",
    "        'Outdoor': {\n",
    "            'Name': direction,\n",
    "            'Type': 'Outdoor',\n",
    "            'DirectionAngle': get_directionangle_from_direction(direction if nextspace=='Outdoor' else nextspace),\n",
    "            'InclinationAngle': get_inclinationangle_from_direction(direction if nextspace=='Outdoor' else nextspace),\n",
    "            'GroundReflectRate': 0.1\n",
    "        },\n",
    "        'DeltaTCoeff': {\n",
    "            'Name': direction,\n",
    "            'Type': 'DeltaTCoeff',\n",
    "            'TempDifferFactor': get_tempdifferentfactor_from_direction(region, direction if nextspace =='Outdoor' else nextspace)\n",
    "        }\n",
    "    }[Type[direction if nextspace=='Outdoor' else nextspace]]\n",
    "\n",
    "    return boundary"
   ]
  },
  {
   "cell_type": "code",
   "execution_count": 16,
   "metadata": {},
   "outputs": [],
   "source": [
    "def get_boundary_for_inner_skin(type, nextspace):\n",
    "    \n",
    "    boundary = {\n",
    "        'Name': 'NextRoom' + '_' + nextspace,\n",
    "        'Type': 'NextRoom',\n",
    "        'RoomName': nextspace\n",
    "    }\n",
    "    \n",
    "    return boundary"
   ]
  },
  {
   "cell_type": "code",
   "execution_count": 1,
   "metadata": {},
   "outputs": [],
   "source": [
    "def get_boundary_for_earthfloorperimeter(region, direction):\n",
    "    \n",
    "    Type = {\n",
    "        'Top':     'Outdoor',\n",
    "        'N':       'Outdoor',\n",
    "        'NE':      'Outdoor',\n",
    "        'E':       'Outdoor',\n",
    "        'SE':      'Outdoor',\n",
    "        'S':       'Outdoor',\n",
    "        'SW':      'Outdoor',\n",
    "        'W':       'Outdoor',\n",
    "        'NW':      'Outdoor',\n",
    "        'Bottom':  'Outdoor',\n",
    "        'ClosedSpace':     'DeltaTCoeff',\n",
    "        'OpenBackFloor':   'DeltaTCoeff',\n",
    "        'ResidenceSpace':  'DeltaTCoeff',\n",
    "        'ClosedBackFloor': 'DeltaTCoeff'\n",
    "    }    \n",
    "    \n",
    "    boundary = {\n",
    "        'Outdoor': {\n",
    "            'Name': direction,\n",
    "            'Type': 'Outdoor'\n",
    "        },\n",
    "        'DeltaTCoeff': {\n",
    "            'Name': direction,\n",
    "            'Type': 'DeltaTCoeff',\n",
    "            'TempDifferFactor': get_tempdifferentfactor_from_direction(region, direction)\n",
    "        }\n",
    "    }[Type[direction]]\n",
    "\n",
    "    return boundary"
   ]
  },
  {
   "cell_type": "markdown",
   "metadata": {},
   "source": [
    "### directionの設定"
   ]
  },
  {
   "cell_type": "markdown",
   "metadata": {},
   "source": [
    "#### Outline"
   ]
  },
  {
   "cell_type": "markdown",
   "metadata": {},
   "source": [
    "方位（Top/N/NE/E/SE/S/SW/W/NW/Bottom）より方位（Upward/Vertical/Downward）を決定する。  \n",
    "方位（Top/N/NE/E/SE/S/SW/W/NW/Bottom）にClosedSpace/OpenBackFloor/ResidenceSpace/ClosedBackFloorが含まれるが、方位と温度差係数を別の変数として扱うべき。"
   ]
  },
  {
   "cell_type": "markdown",
   "metadata": {},
   "source": [
    "#### Function"
   ]
  },
  {
   "cell_type": "code",
   "execution_count": 18,
   "metadata": {},
   "outputs": [],
   "source": [
    "def get_direction_from_direction_for_outer_skin(direction):\n",
    "    \n",
    "    return {\n",
    "        'Top':     'Downward',\n",
    "        'N':       'Vertical',\n",
    "        'NE':      'Vertical',\n",
    "        'E':       'Vertical',\n",
    "        'SE':      'Vertical',\n",
    "        'S':       'Vertical',\n",
    "        'SW':      'Vertical',\n",
    "        'W':       'Vertical',\n",
    "        'NW':      'Vertical',\n",
    "        'Bottom':  'Upward',\n",
    "        'ClosedSpace':     'Vertical', # 暫定的な処理。方位と温度差係数を別の変数として扱うべき。\n",
    "        'OpenBackFloor':   'Upward',    # 暫定値な処理。方位と温度差係数を別の変数として扱うべき。\n",
    "        'ResidenceSpace':  'Vertical', # 暫定値な処理。方位と温度差係数を別の変数として扱うべき。\n",
    "        'ClosedBackFloor': 'Upward'     # 暫定値な処理。方位と温度差係数を別の変数として扱うべき。             \n",
    "    }[direction]"
   ]
  },
  {
   "cell_type": "markdown",
   "metadata": {},
   "source": [
    "#### Outline"
   ]
  },
  {
   "cell_type": "markdown",
   "metadata": {},
   "source": [
    "内壁種類（InnerCeiling/InnerWall/InnerFloo/GroundFloor）と室より方位（Upward/Vertical/Downward）を決定する。"
   ]
  },
  {
   "cell_type": "markdown",
   "metadata": {},
   "source": [
    "#### Function"
   ]
  },
  {
   "cell_type": "code",
   "execution_count": 19,
   "metadata": {},
   "outputs": [],
   "source": [
    "def get_direction_from_direction_for_inner_skin(space, type):\n",
    "    \n",
    "    return {\n",
    "        'main':       {'InnerCeiling': 'Downward', 'InnerWall': 'Vertical', 'InnerFloor': 'Upward', 'GroundFloor': 'Upward'},\n",
    "        'other':      {'InnerCeiling': 'Downward', 'InnerWall': 'Vertical', 'InnerFloor': 'Upward', 'GroundFloor': 'Upward'},\n",
    "        'nonliving':  {'InnerCeiling': 'Downward', 'InnerWall': 'Vertical', 'InnerFloor': 'Upward', 'GroundFloor': 'Upward'},\n",
    "        'underfloor': {'InnerCeiling': None,       'InnerWall': None,        'InnerFloor': None,     'GroundFloor': 'Downward'}\n",
    "    }[space][type]"
   ]
  },
  {
   "cell_type": "markdown",
   "metadata": {},
   "source": [
    "### UA値入力の場合の壁体の設定"
   ]
  },
  {
   "cell_type": "markdown",
   "metadata": {},
   "source": [
    "#### Outline"
   ]
  },
  {
   "cell_type": "markdown",
   "metadata": {},
   "source": [
    "UA値より壁体構成を決定する。"
   ]
  },
  {
   "cell_type": "markdown",
   "metadata": {},
   "source": [
    "方位が'Bottom'である外皮の部位を、床と判定する。  \n",
    "【要確認】方位が'Bottom'である外皮の部位、土間床の合計面積が、用途別床面積を超過する場合にどうするか"
   ]
  },
  {
   "cell_type": "markdown",
   "metadata": {},
   "source": [
    "#### Function"
   ]
  },
  {
   "cell_type": "code",
   "execution_count": 20,
   "metadata": {},
   "outputs": [],
   "source": [
    "class Material:\n",
    "    \n",
    "    def __init__( self, name, thick, cond, spech ):\n",
    "        self.name   = name\n",
    "        self.thick  = thick   # thickness, m\n",
    "        self.cond   = cond    # thermal conductivity, W/mK\n",
    "        self.spech  = spech   # volumetric specific heat, J/LK\n",
    "    \n",
    "    def R( self ):\n",
    "        return self.thick / self.cond"
   ]
  },
  {
   "cell_type": "code",
   "execution_count": 21,
   "metadata": {},
   "outputs": [],
   "source": [
    "def get_gypsum():\n",
    "    return Material( name = 'GPB', thick = 0.0095, cond = 0.22, spech =  830.0 )"
   ]
  },
  {
   "cell_type": "code",
   "execution_count": 22,
   "metadata": {},
   "outputs": [],
   "source": [
    "def get_plywood():\n",
    "    return Material( name = 'PED', thick = 0.012,  cond = 0.16, spech =  720.0 )"
   ]
  },
  {
   "cell_type": "code",
   "execution_count": 23,
   "metadata": {},
   "outputs": [],
   "source": [
    "def get_concrete():\n",
    "    return Material( name = 'RC',  thick = 0.120,  cond = 1.60, spech = 2000.0 )"
   ]
  },
  {
   "cell_type": "code",
   "execution_count": 24,
   "metadata": {},
   "outputs": [],
   "source": [
    "def convert_u_value_to_spec(structure, typeOfPart, U):\n",
    "    # structure as string : Wood, Steel, RC, Other\n",
    "    # typeOfPart as string: Ceiling, Wall, Floor, BoundaryCeiling, BoundaryWall, BoundaryFloor\n",
    "    # U: heat transfer coefficient (W/m2K)\n",
    "    s = structure\n",
    "    t = typeOfPart\n",
    "    R = 1 / U\n",
    "    \n",
    "    Ro, Ri = {\n",
    "        'Roof'            : ( 0.040, 0.090 ),\n",
    "        'Ceiling'         : ( 0.090, 0.090 ),\n",
    "        'Wall'            : ( 0.040, 0.110 ),\n",
    "        'Floor'           : ( 0.040, 0.150 ),\n",
    "        'BoundaryCeiling' : ( 0.090, 0.090 ),\n",
    "        'BoundaryWall'    : ( 0.110, 0.110 ),\n",
    "        'BoundaryFloor'   : ( 0.150, 0.150 ),\n",
    "    }[t]\n",
    "    \n",
    "    mGypsum   = get_gypsum()\n",
    "    mPlywood  = get_plywood()\n",
    "    mConcrete = get_concrete()\n",
    "    \n",
    "    ins_name, ins_cond, ins_spech = 'GW16K', 0.045, 13.0\n",
    "    \n",
    "    def d( m ):\n",
    "        return ( math.floor( max(0,( R -( Ro + m.R() + Ri )) * ins_cond ) * 1000 ) ) / 1000\n",
    "    \n",
    "    if ( s in ['wood', 'steel', 'other'] ):\n",
    "        m = {\n",
    "            'Roof'            : mGypsum,\n",
    "            'Ceiling'         : mGypsum,\n",
    "            'Wall'            : mGypsum,\n",
    "            'Floor'           : mPlywood,\n",
    "            'BoundaryWall'    : mGypsum,\n",
    "            'BoundaryFloor'   : mPlywood,\n",
    "            'BoundaryCeiling' : mGypsum,\n",
    "        }[t]\n",
    "        Layer= [ Material( name = ins_name, thick = d(m), cond = ins_cond, spech = ins_spech ), m ]\n",
    "    elif s == 'RC':\n",
    "        m = mConcrete\n",
    "        Layer= [ m, Material( name = ins_name, thick = d(m), cond = ins_cond, spech = ins_spech ) ]    \n",
    "    else:\n",
    "        raise ValueError\n",
    "        \n",
    "    return Layer"
   ]
  },
  {
   "cell_type": "code",
   "execution_count": 25,
   "metadata": {},
   "outputs": [],
   "source": [
    "def make_layers_from_class(layers) :\n",
    "    \n",
    "    return [{\n",
    "            'name'  : x.name,\n",
    "            'thick' : x.thick,\n",
    "            'cond'  : x.cond,\n",
    "            'specH' : x.spech\n",
    "    } for x in layers]"
   ]
  },
  {
   "cell_type": "code",
   "execution_count": 26,
   "metadata": {},
   "outputs": [],
   "source": [
    "def get_isincontactwithoutsideair_for_simplifiedinput(type):\n",
    "    \n",
    "    if type == 'Roof' or type == 'Wall' :\n",
    "        IsInContactWithOutsideAir = True\n",
    "    elif type == 'Floor' :\n",
    "        IsInContactWithOutsideAir = False\n",
    "    else :\n",
    "        raise ValueError\n",
    "    \n",
    "    return IsInContactWithOutsideAir"
   ]
  },
  {
   "cell_type": "code",
   "execution_count": 27,
   "metadata": {},
   "outputs": [],
   "source": [
    "def make_d_walls_for_simplifiedinput(d_walls):\n",
    "    \n",
    "    for x in d_walls :\n",
    "        \n",
    "        x['IsInContactWithOutsideAir'] = get_isincontactwithoutsideair_for_simplifiedinput(x['type'])\n",
    "        \n",
    "        # U値入力では壁体構造が不明のため熱容量の小さい構造を仮定\n",
    "        x['Layers'] = make_layers_from_class(convert_u_value_to_spec('wood', x['type'], x['UA']))\n",
    "    \n",
    "    return d_walls"
   ]
  },
  {
   "cell_type": "code",
   "execution_count": 28,
   "metadata": {},
   "outputs": [],
   "source": [
    "def get_isincontactwithoutsideair_for_inputUA(direction):\n",
    "    \n",
    "    IsInContactWithOutsideAir = {\n",
    "        'Top':     True,\n",
    "        'N':       True,\n",
    "        'NE':      True,\n",
    "        'E':       True,\n",
    "        'SE':      True,\n",
    "        'S':       True,\n",
    "        'SW':      True,\n",
    "        'W':       True,\n",
    "        'NW':      True,\n",
    "        'Bottom':  True,\n",
    "        'ClosedSpace':     False,\n",
    "        'OpenBackFloor':   False,\n",
    "        'ResidenceSpace':  False,\n",
    "        'ClosedBackFloor': False        \n",
    "    }[direction]\n",
    "    \n",
    "    return IsInContactWithOutsideAir"
   ]
  },
  {
   "cell_type": "code",
   "execution_count": 29,
   "metadata": {},
   "outputs": [],
   "source": [
    "def make_d_wall_for_inputUA(d_wall):\n",
    "    \n",
    "    d_wall['IsInContactWithOutsideAir'] = get_isincontactwithoutsideair_for_inputUA(d_wall['directioin'])\n",
    "    d_wall['Layers'] = convert_u_value_to_spec(d_wall['structure'], d_wall['type'], d_wall['UA'])\n",
    "    \n",
    "    return d_wall"
   ]
  },
  {
   "cell_type": "markdown",
   "metadata": {},
   "source": [
    "### 詳細計算法の場合の壁体の設定"
   ]
  },
  {
   "cell_type": "markdown",
   "metadata": {},
   "source": [
    "#### Outline"
   ]
  },
  {
   "cell_type": "markdown",
   "metadata": {},
   "source": [
    "Partsの複数の要素を複数の部位に分離する。"
   ]
  },
  {
   "cell_type": "markdown",
   "metadata": {},
   "source": [
    "#### Function"
   ]
  },
  {
   "cell_type": "code",
   "execution_count": 30,
   "metadata": {},
   "outputs": [],
   "source": [
    "def make_layer(name, thick, cond, specH, **kwargs) :\n",
    "    \n",
    "    return {\n",
    "            'name'  : name,\n",
    "            'thick' : thick,\n",
    "            'cond'  : cond,\n",
    "            'specH' : specH\n",
    "    }"
   ]
  },
  {
   "cell_type": "code",
   "execution_count": 31,
   "metadata": {},
   "outputs": [],
   "source": [
    "def make_d_wall_for_inputalldetails(d_wall):\n",
    "\n",
    "    d_walls = []\n",
    "    for x in d_wall['Parts'] :\n",
    "        d_walls.append({\n",
    "            'name':      d_wall['name'],\n",
    "            'direction': d_wall['direction'],\n",
    "            'area':      d_wall['area']*x['AreaRatio'],\n",
    "            'space':     d_wall['space'],\n",
    "            'type':      d_wall['type'],\n",
    "            'structure':     d_wall['structure'],        \n",
    "            'IsSunshadeInput': d_wall['IsSunshadeInput'],\n",
    "            'IsInContactWithOutsideAir': d_wall['IsInContactWithOutsideAir'],\n",
    "            'Layers': [make_layer(**layer) for layer in x['Layers']]\n",
    "        })\n",
    "        \n",
    "    if d_wall['IsSunshadeInput'] == True :\n",
    "        for x in d_walls :\n",
    "            x['Y1'] = d_wall['Y1']\n",
    "            x['Y2'] = d_wall['Y2']\n",
    "            x['Z'] = d_wall['Z']\n",
    "    \n",
    "    return d_walls"
   ]
  },
  {
   "cell_type": "markdown",
   "metadata": {},
   "source": [
    "### 簡略計算方法①：面積比率法（充填断熱する場合又は充填断熱し付加断熱する場合）の場合の壁体の設定 "
   ]
  },
  {
   "cell_type": "markdown",
   "metadata": {},
   "source": [
    "#### Outline"
   ]
  },
  {
   "cell_type": "markdown",
   "metadata": {},
   "source": [
    "Partsの複数の要素を複数の部位に分離する。  \n",
    "面積比率は、木造住宅の建て方及び構法／工法の種類等に応じて与えられる。"
   ]
  },
  {
   "cell_type": "markdown",
   "metadata": {},
   "source": [
    "平成28年省エネルギー基準に準拠したエネルギー消費性能の評価に関する技術情報（住宅）  \n",
    "　２．エネルギー消費性能の算定方法  \n",
    "　　2.2　算定方法  \n",
    "　　　第三章　 暖冷房負荷と外皮性能  \n",
    "　　　　第三節　熱貫流率及び線熱貫流率  "
   ]
  },
  {
   "cell_type": "markdown",
   "metadata": {},
   "source": [
    "#### Outline"
   ]
  },
  {
   "cell_type": "markdown",
   "metadata": {},
   "source": [
    "<div style=\"text-align: center;\"> 表3-1 木造における床の面積比率 </div>\n",
    "\n",
    "| 工法の種類等 | 断熱部分 | 熱橋部分 |\n",
    "|---|---|---|\n",
    "| 軸組構法・床梁工法（根太間に断熱）  | 0.80 | 0.20 |\n",
    "| 軸組構法・束立大引工法（根太間に断熱）  | 0.80 | 0.20 |\n",
    "| 軸組構法・束立大引工法（大引間に断熱）  | 0.85 | 0.15 |\n",
    "| 軸組構法・束立大引工法（根太間及び大引間に断熱）  |  |  |\n",
    "| 軸組構法・剛床工法  | 0.85 | 0.15 |\n",
    "| 軸組構法・床梁土台同面工法（根太間に断熱）  | 0.70 | 0.30 |\n",
    "| 枠組壁工法（根太間に断熱）  | 0.87 | 0.13 |"
   ]
  },
  {
   "cell_type": "markdown",
   "metadata": {},
   "source": [
    "<div style=\"text-align: center;\"> 表3-2 軸組構法の束立大引工法において根太間及び大引間に断熱する場合の床の面積比率 </div>\n",
    "\n",
    "| 工法の種類等 | 断熱部分<br>（根太間断熱材＋大引間断熱材） | 断熱部分＋熱橋部分<br>（根太間断熱材＋大引材等） | 断熱部分＋熱橋部分<br>（根太材＋大引間断熱材） | 熱橋部分<br>（根太材＋大引材等） |\n",
    "|---|---|---|---|---|\n",
    "|  軸組構法の束立大引工法において<br>根太間及び大引間に断熱する場合 | 0.72 | 0.12 | 0.13 | 0.03 |"
   ]
  },
  {
   "cell_type": "markdown",
   "metadata": {},
   "source": [
    "#### Function"
   ]
  },
  {
   "cell_type": "code",
   "execution_count": 32,
   "metadata": {},
   "outputs": [],
   "source": [
    "def get_area_ratio_wood_floor(FloorConstructionMethod):\n",
    "    # FloorConstructionMethod: 床の工法種類\n",
    "    # 'FrameBeamInsuljoist'（軸組構法・床梁工法（根太間に断熱））/'FrameFootingInsuljoist'（軸組構法・束立大引工法（根太間に断熱））/\n",
    "    # 'FrameFootingInsulsleeper'（軸組構法・束立大引工法（大引間に断熱））/\n",
    "    # 'FrameFootingInsuljoistSleeper'（軸組構法・束立大引工法（根太間及び大引間に断熱））/\n",
    "    # 'FrameRigidfloor'（軸組構法・剛床工法）/'FrameBeambaseInsuljoist'（軸組構法・床梁土台同面工法（根太間に断熱））/\n",
    "    # 'WallInsuljoist'（枠組壁工法（根太間に断熱））\n",
    "    \n",
    "    if FloorConstructionMethod == 'FrameBeamInsuljoist' :\n",
    "        area_ratio_wood_floor = {'Insulation' : 0.80, 'Heatbridge' : 0.20}\n",
    "    elif FloorConstructionMethod == 'FrameFootingInsuljoist' :\n",
    "        area_ratio_wood_floor = {'Insulation' : 0.80, 'Heatbridge' : 0.20}\n",
    "    elif FloorConstructionMethod == 'FrameFootingInsulsleeper' :\n",
    "        area_ratio_wood_floor = {'Insulation' : 0.85, 'Heatbridge' : 0.15}\n",
    "    elif FloorConstructionMethod == 'FrameFootingInsuljoistSleeper' :\n",
    "        area_ratio_wood_floor = {\n",
    "            'InsulJoitandsleeper' : 0.72,\n",
    "            'InsuljoistHeatbridgesleeper' : 0.12,\n",
    "            'InsulsleeperHeatbridgejoist' : 0.13,\n",
    "            'HeatbridgeJoistandsleeper' : 0.03\n",
    "        }\n",
    "    elif FloorConstructionMethod == 'FrameRigidfloor' :\n",
    "        area_ratio_wood_floor = {'Insulation' : 0.85, 'Heatbridge' : 0.15}\n",
    "    elif FloorConstructionMethod == 'FrameBeambaseInsuljoist' :\n",
    "        area_ratio_wood_floor = {'Insulation' : 0.70, 'Heatbridge' : 0.30}\n",
    "    elif FloorConstructionMethod == 'WallInsuljoist' :\n",
    "        area_ratio_wood_floor = {'Insulation' : 0.87, 'Heatbridge' : 0.13}\n",
    "    else :\n",
    "        raise ValueError\n",
    "    \n",
    "    return area_ratio_wood_floor"
   ]
  },
  {
   "cell_type": "markdown",
   "metadata": {},
   "source": [
    "#### Outline"
   ]
  },
  {
   "cell_type": "markdown",
   "metadata": {},
   "source": [
    "<div style=\"text-align: center;\"> 表4-1 木造における外壁（界壁）の面積比率 </div>\n",
    "\n",
    "| 工法の種類等 | 断熱部分 | 熱橋部分 |\n",
    "|---|---|---|\n",
    "| 軸組構法・柱、間柱間に断熱 | 0.83 | 0.17 |\n",
    "| 軸組構法・柱、間柱間に断熱し付加断熱 |  |  |\n",
    "| 枠組壁工法・たて枠間に断熱 | 0.77 | 0.23 |\n",
    "| 枠組壁工法・たて枠間に断熱＋付加断熱 |  |  |"
   ]
  },
  {
   "cell_type": "markdown",
   "metadata": {},
   "source": [
    "<div style=\"text-align: center;\"> 表4-2 軸組構法において柱・間柱間に断熱し付加断熱する場合の外壁の面積比率 </div>\n",
    "\n",
    "| 工法の種類等 | 断熱部分<br>（柱・間柱間断熱材＋付加断熱材） | 断熱部分＋熱橋部分<br>（柱・間柱間断熱材＋付加断熱層内熱橋部分） | 断熱部分＋熱橋部分<br>（構造部材等＋付加断熱材） | 熱橋部分<br>（構造部材等＋付加断熱層内熱橋部分） |\n",
    "|---|---|---|---|---|\n",
    "| 付加断熱層内熱橋<br>部分が「横下地」 | 0.75 | 0.08 | 0.12 | 0.05 |\n",
    "| 付加断熱層内熱橋<br>部分が「縦下地」 | 0.79 | 0.04 | 0.04 | 0.13 |"
   ]
  },
  {
   "cell_type": "markdown",
   "metadata": {},
   "source": [
    "<div style=\"text-align: center;\"> 表4-3 枠組壁工法においてたて枠間に断熱し付加断熱する場合の外壁の面積比率 </div>\n",
    "\n",
    "| 工法の種類等 | 断熱部分<br>（充填断熱材＋付加断熱材） | 断熱部分＋熱橋部<br>（充填断熱材＋付加断熱層内熱橋部） | 断熱部分＋熱橋部<br>（構造部材等＋付加断熱材） | 断熱部分＋熱橋部<br>（まぐさ＋付加断熱材） | 熱橋部分<br>（構造部材等＋付加断熱層内熱橋部） | 熱橋部分<br>（まぐさ＋付加断熱層内熱橋部） |\n",
    "|---|---|---|---|---|---|---|\n",
    "| 付加断熱層内熱橋部分が「横下地」 | 0.69 | 0.08 | 0.14 | 0.02 | 0.06 | 0.01 |\n",
    "| 付加断熱層内熱橋部分が「縦下地」 | 0.76 | 0.01 | 　 | 0.02 | 0.20 | 0.01 |"
   ]
  },
  {
   "cell_type": "markdown",
   "metadata": {},
   "source": [
    "#### Function"
   ]
  },
  {
   "cell_type": "code",
   "execution_count": 33,
   "metadata": {},
   "outputs": [],
   "source": [
    "def get_area_ratio_wood_wall(WallConstructionMethod):\n",
    "    # WallConstructionMethod: 床の工法種類\n",
    "    # 'FrameInsulcolumn'（軸組構法・柱、間柱間に断熱）/\n",
    "    # 'FrameInsuladdBackhorizontal'（軸組構法・柱、間柱間に断熱し付加断熱（付加断熱層内熱橋部分が「横下地」））/\n",
    "    # 'FrameInsuladdBackvertical'（軸組構法・柱、間柱間に断熱し付加断熱（付加断熱層内熱橋部分が「縦下地」））/\n",
    "    # 'WallInsuljamb'（枠組壁工法・たて枠間に断熱）/\n",
    "    # 'WallInsuladdBackhorizontal'（枠組壁工法・たて枠間に断熱＋付加断熱（付加断熱層内熱橋部分が「横下地」））/\n",
    "    # 'WallInsuladdBackvertical'（枠組壁工法・たて枠間に断熱＋付加断熱（付加断熱層内熱橋部分が「縦下地」））\n",
    "    \n",
    "    if WallConstructionMethod == 'FrameInsulcolumn' :\n",
    "        area_ratio_wood_wall = {'Insulation' : 0.83, 'Heatbridge' : 0.17}\n",
    "    elif WallConstructionMethod == 'FrameInsuladdBackhorizontal' :\n",
    "        area_ratio_wood_wall = {\n",
    "            'InsulColumnandadd' : 0.75,\n",
    "            'InsulcolumnHeatbridgeadd' : 0.08,\n",
    "            'InsuladdHeatbridgemember' : 0.12,\n",
    "            'HeatbridgeMemberandadd' : 0.05\n",
    "        }\n",
    "    elif WallConstructionMethod == 'FrameInsuladdBackvertical' :\n",
    "        area_ratio_wood_wall = {\n",
    "            'InsulColumnandadd' : 0.79,\n",
    "            'InsulcolumnHeatbridgeadd' : 0.04,\n",
    "            'InsuladdHeatbridgemember' : 0.04,\n",
    "            'HeatbridgeMemberandadd' : 0.13\n",
    "        }\n",
    "    elif WallConstructionMethod == 'WallInsuljamb' :\n",
    "        area_ratio_wood_wall = {'Insulation' : 0.77, 'Heatbridge' : 0.23}\n",
    "    elif WallConstructionMethod == 'WallInsuladdBackhorizontal' :\n",
    "        area_ratio_wood_wall = {\n",
    "            'InsulFilledandadd' : 0.69,\n",
    "            'InsulfilledHeatbridgeadd' : 0.08,\n",
    "            'InsuladdHeatbridgemember' : 0.14,\n",
    "            'InsuladdHeatbridgelintel' : 0.02,\n",
    "            'HeatbridgeMemberandadd' : 0.06,\n",
    "            'HeatbridgeLintelandadd' : 0.01\n",
    "        }\n",
    "    elif WallConstructionMethod == 'WallInsuladdBackvertical' :\n",
    "        area_ratio_wood_wall = {        \n",
    "            'InsulFilledandadd' : 0.76,\n",
    "            'InsulfilledHeatbridgeadd' : 0.01,\n",
    "            'InsuladdHeatbridgemember' : 0.00,\n",
    "            'InsuladdHeatbridgelintel' : 0.02,\n",
    "            'HeatbridgeMemberandadd' : 0.20,\n",
    "            'HeatbridgeLintelandadd' : 0.01\n",
    "        }\n",
    "    else :\n",
    "        raise ValueError\n",
    "    \n",
    "    return area_ratio_wood_wall"
   ]
  },
  {
   "cell_type": "markdown",
   "metadata": {},
   "source": [
    "#### Outline"
   ]
  },
  {
   "cell_type": "markdown",
   "metadata": {},
   "source": [
    "<div style=\"text-align: center;\"> 表5 木造における天井の面積比率 </div>\n",
    "\n",
    "| 工法の種類等 | 断熱部分 | 熱橋部分 |\n",
    "|---|---|---|\n",
    "| 桁・梁間に断熱する場合 | 0.87 | 0.13 |"
   ]
  },
  {
   "cell_type": "markdown",
   "metadata": {},
   "source": [
    "#### Function"
   ]
  },
  {
   "cell_type": "code",
   "execution_count": 34,
   "metadata": {},
   "outputs": [],
   "source": [
    "def get_area_ratio_wood_ceiling(CeilingConstructionMethod):\n",
    "    # CeilingConstructionMethod: 天井の工法種類\n",
    "    # 'Insulbeam'（桁・梁間に断熱）\n",
    "    \n",
    "    if CeilingConstructionMethod == 'Insulbeam' :\n",
    "        area_ratio_wood_wall = {'Insulation' : 0.83, 'Heatbridge' : 0.17}\n",
    "    else :\n",
    "        raise ValueError\n",
    "\n",
    "    return area_ratio_wood_ceiling"
   ]
  },
  {
   "cell_type": "markdown",
   "metadata": {},
   "source": [
    "#### Outline"
   ]
  },
  {
   "cell_type": "markdown",
   "metadata": {},
   "source": [
    "<div style=\"text-align: center;\"> 表6-1 木造における屋根の面積比率 </div>\n",
    "\n",
    "| 工法の種類等 | 断熱部分 | 熱橋部分 |\n",
    "|---|---|---|\n",
    "| たるき間に断熱する場合  | 0.86 | 0.14 |"
   ]
  },
  {
   "cell_type": "markdown",
   "metadata": {},
   "source": [
    "<div style=\"text-align: center;\"> 表6-2 木造においてたるき間に断熱し付加断熱（横下地）する場合の屋根の面積比率  </div>\n",
    "\n",
    "| 工法の種類等 | 断熱部分<br>（たる木間断熱材＋付加断熱材） | 断熱部分＋熱橋部分<br>（たる木間断熱材＋付加断熱層内熱橋部（下地たる木）） | 断熱部分＋熱橋部分<br>（構造部材＋付加断熱材） | 熱橋部分<br>（構造部材＋付加断熱層内熱橋部（下地たる木）） |\n",
    "|---|---|---|---|---|\n",
    "| たるき間に断熱し付加断熱（横下地）する場合  | 0.79 | 0.08 | 0.12 | 0.01 |"
   ]
  },
  {
   "cell_type": "markdown",
   "metadata": {},
   "source": [
    "#### Function"
   ]
  },
  {
   "cell_type": "code",
   "execution_count": 35,
   "metadata": {},
   "outputs": [],
   "source": [
    "def get_area_ratio_wood_roof(RoofConstructionMethod):\n",
    "    # RoofConstructionMethod : 屋根の工法種類\n",
    "    # 'Insulrafter'（たるき間に断熱）/'InsuladdBackhorizontal'（たるき間に断熱＋付加断熱（横下地）））\n",
    "    \n",
    "    if RoofConstructionMethod == 'Insulrafter' :\n",
    "        area_ratio_wood_roof = {'Insulation' : 0.86, 'Heatbridge' : 0.14}\n",
    "    elif RoofConstructionMethod == 'InsuladdBackhorizontal' :\n",
    "        area_ratio_wood_roof = {\n",
    "            'InsulRafterandadd' : 0.79,\n",
    "            'InsulrafterHeatbridgeadd' : 0.08,\n",
    "            'InsuladdHeatbridgemember' : 0.12,\n",
    "            'HeatbridgeMemberandadd' : 0.01\n",
    "        }\n",
    "    else :\n",
    "        raise ValueError\n",
    "    \n",
    "    return area_ratio_wood_roof"
   ]
  },
  {
   "cell_type": "markdown",
   "metadata": {},
   "source": [
    "#### Function"
   ]
  },
  {
   "cell_type": "code",
   "execution_count": 36,
   "metadata": {},
   "outputs": [],
   "source": [
    "def get_area_ratio_wood(d_wall):\n",
    "    \n",
    "    if d_wall['Type'] == 'Roof' :\n",
    "        return get_area_ratio_wood_roof(d_wall['RoofConstructionMethod'])\n",
    "    elif d_wall['Type'] == 'Ceiling' or d_wall['Type'] == 'BoundaryCeiling' :\n",
    "        return get_area_ratio_wood_ceiling(d_wall['CeilingConstructionMethod'])        \n",
    "    elif d_wall['Type'] == 'Wall' or d_wall['Type'] == 'BoundaryWall' :\n",
    "        return get_area_ratio_wood_wall(d_wall['WallConstructionMethod'])            \n",
    "    elif d_wall['Type'] == 'Floor' :\n",
    "        return get_area_ratio_wood_floor(d_wall['FloorConstructionMethod'])    \n",
    "    else :\n",
    "        raise ValueError        "
   ]
  },
  {
   "cell_type": "code",
   "execution_count": 37,
   "metadata": {},
   "outputs": [],
   "source": [
    "def make_d_wall_for_inputalllayers(d_wall):\n",
    "    \n",
    "    area_ratio = get_area_ratio_wood(d_wall)\n",
    "\n",
    "    d_walls = []\n",
    "    for x in d_wall['Parts'] :\n",
    "        d_walls.append({\n",
    "            'name':      d_wall['name'],\n",
    "            'direction': d_wall['direction'],\n",
    "            'area':      d_wall['area']*area_ratio[x],\n",
    "            'space':     d_wall['space'],\n",
    "            'type':      d_wall['type'],\n",
    "            'structure':     d_wall['structure'],        \n",
    "            'IsSunshadeInput': d_wall['IsSunshadeInput'],\n",
    "            'IsInContactWithOutsideAir': d_wall['IsInContactWithOutsideAir'],\n",
    "            'Layers': [make_layer(**layer) for layer in x['Layers']]\n",
    "        })\n",
    "        \n",
    "    if d_wall['IsSunshadeInput'] == True :\n",
    "        for x in d_walls :\n",
    "            x['Y1'] = d_wall['Y1']\n",
    "            x['Y2'] = d_wall['Y2']\n",
    "            x['Z'] = d_wall['Z']\n",
    "    \n",
    "    return d_walls"
   ]
  },
  {
   "cell_type": "markdown",
   "metadata": {},
   "source": [
    "### 簡略計算方法②：熱貫流率補正法、鉄骨造の場合の壁体の設定 "
   ]
  },
  {
   "cell_type": "markdown",
   "metadata": {},
   "source": [
    "#### Outline"
   ]
  },
  {
   "cell_type": "markdown",
   "metadata": {},
   "source": [
    "補正熱貫流率より部位の平均熱貫流率を算出する。  \n",
    "部位の平均熱貫流率に一致するよう、一般部の層構成を調整する。"
   ]
  },
  {
   "cell_type": "markdown",
   "metadata": {},
   "source": [
    "方位が'Bottom'である外皮の部位を、床と判定する。  \n",
    "【要確認】方位が'Bottom'である外皮の部位、土間床の合計面積が、用途別床面積を超過する場合にどうするか"
   ]
  },
  {
   "cell_type": "markdown",
   "metadata": {},
   "source": [
    "平成28年省エネルギー基準に準拠したエネルギー消費性能の評価に関する技術情報（住宅）  \n",
    "　２．エネルギー消費性能の算定方法  \n",
    "　　2.2　算定方法  \n",
    "　　　第三章　 暖冷房負荷と外皮性能  \n",
    "　　　　第三節　熱貫流率及び線熱貫流率  "
   ]
  },
  {
   "cell_type": "markdown",
   "metadata": {},
   "source": [
    "#### Outline"
   ]
  },
  {
   "cell_type": "markdown",
   "metadata": {},
   "source": [
    "<div style=\"text-align: center;\"> 表7 木造における一般部位の断熱工法等に応じた補正熱貫流率 </div>\n",
    "\n",
    "| 部位 | 断熱工法等 | 軸組構法補正熱貫流率 | 枠組壁構法補正熱貫流率 |\n",
    "|---|---|---|---|\n",
    "| 床 | 　 | 0.13 | 0.08 |\n",
    "| 上階側界床 | 　 | 0.13 | 0.08 |\n",
    "| 下階側界床 | 　 | 0.13 | 0.08 |\n",
    "| 外壁・界壁 | 充填断熱（柱・間柱間に断熱）する場合 | 0.09 | 0.13 |\n",
    "| 外壁・界壁 | 充填断熱（柱・間柱間に断熱）し付加断熱する場合 | 0.09 | 0.13 |\n",
    "\n",
    "| 部位 | 断熱工法等 | 補正熱貫流率 |\n",
    "|---|---|---|\n",
    "| 外壁・界壁 | 土壁で外張断熱の場合 | 0.04 |\n",
    "| 外壁・界壁 | 土壁以外で外張断熱の場合 | 0.02 |\n",
    "| 天井 | 桁・梁間に断熱する場合 | 0.05 |\n",
    "| 屋根 | 充填断熱（たるき間に断熱）する場合 | 0.11 |\n",
    "| 屋根 | 充填断熱（たるき間に断熱）し付加断熱する場合 | 0.11 |\n",
    "| 屋根 | 外張断熱工法 | 0.02 |"
   ]
  },
  {
   "cell_type": "markdown",
   "metadata": {},
   "source": [
    "#### Function"
   ]
  },
  {
   "cell_type": "code",
   "execution_count": 38,
   "metadata": {},
   "outputs": [],
   "source": [
    "def get_Ur_wood(d_wall):\n",
    "    # Type : 部位種別\n",
    "    # ConstructionMethod : 工法種類\n",
    "    # 'FrameInsulcolumn'（軸組構法）/'WallInsul'（枠組壁構法）\n",
    "    \n",
    "    if d_wall['Type'] == 'Floor' or d_wall['Type'] == 'BoundaryCeiling' or d_wall['Type'] == 'BoundaryFloor' :\n",
    "        if d_wall['ConstructionMethod'] == 'FrameInsulcolumn' :\n",
    "            Ur = 0.13\n",
    "        elif d_wall['ConstructionMethod'] == 'WallInsul' :\n",
    "            Ur = 0.08\n",
    "        else :\n",
    "            raise ValueError\n",
    "\n",
    "    # WallInsulationMethod : 壁の断熱種類\n",
    "    # 'InsulColumn'（充填断熱（柱・間柱間に断熱））/'InsulColumnandadd'（充填断熱（柱・間柱間に断熱）+付加断熱）/\n",
    "    # 'OuterInsulMudWall'（土壁で外張断熱）/'OuterInsul'（土壁以外で外張断熱）    \n",
    "    elif d_wall['Type'] == 'Wall' or d_wall['Type'] == 'BoundaryWall' :\n",
    "        if d_wall['WallInsulationMethod'] == 'InsulColumn' or d_wall['RoofInsulationMethod'] == 'InsulColumnandadd' :\n",
    "            if d_wall['ConstructionMethod'] == 'FrameInsulcolumn' :\n",
    "                Ur = 0.09\n",
    "            elif d_wall['ConstructionMethod'] == 'WallInsul' :\n",
    "                Ur = 0.13\n",
    "            else :\n",
    "                raise ValueError\n",
    "        elif d_wall['WallInsulationMethod'] == 'OuterInsulMudWall' :\n",
    "            Ur = 0.04\n",
    "        elif d_wall['WallInsulationMethod'] == 'OuterInsul' :\n",
    "            Ur = 0.02\n",
    "        else :\n",
    "            raise ValueError \n",
    "\n",
    "    elif d_wall['Type'] == 'Ceiling' :\n",
    "        Ur = 0.05\n",
    "\n",
    "    # RoofInsulationMethod : 屋根の断熱種類\n",
    "    # 'InsulRafter'（充填断熱（たるき間に断熱））/'InsulRafterandadd'（充填断熱（たるき間に断熱）+付加断熱）/'OuterInsul'（外張断熱工法）\n",
    "    elif d_wall['Type'] == 'Roof' :\n",
    "        if d_wall['RoofInsulationMethod'] == 'InsulRafter' or d_wall['RoofInsulationMethod'] == 'InsulRafterandadd' :\n",
    "            Ur = 0.11\n",
    "        elif d_wall['RoofInsulationMethod'] == 'OuterInsul' :\n",
    "            Ur = 0.02\n",
    "        else :\n",
    "            raise ValueError \n",
    "\n",
    "    else :\n",
    "        raise ValueError\n",
    "    \n",
    "    return Ur"
   ]
  },
  {
   "cell_type": "markdown",
   "metadata": {},
   "source": [
    "#### Outline"
   ]
  },
  {
   "cell_type": "markdown",
   "metadata": {},
   "source": [
    "<div style=\"text-align: center;\"> 表8 鉄骨造における一般部位の熱橋部分（柱及び梁以外）の仕様に応じた補正熱貫流率 </div>\n",
    "\n",
    "| 「外装材＋断熱補強材」の熱抵抗(m<sup>2</sup>･K/W) | 補正熱貫流率ܷ |\n",
    "|---|---|\n",
    "| 1.7以上 | 0.00 |\n",
    "| 1.7未満1.5以上 | 0.10 |\n",
    "| 1.5未満1.3以上 | 0.13 |\n",
    "| 1.3未満1.1以上 | 0.14 |\n",
    "| 1.1未満0.9以上 | 0.18 |\n",
    "| 0.9未満0.7以上 | 0.22 |\n",
    "| 0.7未満0.5以上 | 0.40 |\n",
    "| 0.5未満0.3以上 | 0.45 |\n",
    "| 0.3未満0.1以上 | 0.60 |\n",
    "| 0.1未満 | 0.70 |"
   ]
  },
  {
   "cell_type": "markdown",
   "metadata": {},
   "source": [
    "#### Function"
   ]
  },
  {
   "cell_type": "code",
   "execution_count": 39,
   "metadata": {},
   "outputs": [],
   "source": [
    "def get_Ur_steel(Rc):\n",
    "    # Rer : 「外装材＋断熱補強材」の熱抵抗, m2K/W\n",
    "    \n",
    "    if Rc >= 1.7 :\n",
    "        Ur = 0.00\n",
    "    elif Rc >= 1.5 :\n",
    "        Ur = 0.10\n",
    "    elif Rc >= 1.3 :\n",
    "        Ur = 0.13    \n",
    "    elif Rc >= 1.1 :\n",
    "        Ur = 0.14    \n",
    "    elif Rc >= 0.9 :\n",
    "        Ur = 0.18    \n",
    "    elif Rc >= 0.7 :\n",
    "        Ur = 0.22    \n",
    "    elif Rc >= 0.5 :\n",
    "        Ur = 0.40    \n",
    "    elif Rc >= 0.3 :\n",
    "        Ur = 0.45    \n",
    "    elif Rc >= 0.1 :\n",
    "        Ur = 0.60  \n",
    "    elif Rc < 0.1 :\n",
    "        Ur = 0.70\n",
    "    else :\n",
    "        raise ValueError\n",
    "\n",
    "    return Ur"
   ]
  },
  {
   "cell_type": "markdown",
   "metadata": {},
   "source": [
    "#### Outline"
   ]
  },
  {
   "cell_type": "markdown",
   "metadata": {},
   "source": [
    "$$\n",
    "\\displaystyle\n",
    "U_{i}= \\frac{1}{R_{g,i}} + U_{r,i}\n",
    "$$"
   ]
  },
  {
   "cell_type": "markdown",
   "metadata": {},
   "source": [
    "$U_{i}$: 一般部位$i$の熱貫流率, W/(m<sup>2</sup>・K)  \n",
    "$R_{g,i}$: 一般部位$i$の断熱部分の熱抵抗, m<sup>2</sup>K/W  \n",
    "$U_{r,i}$: 一般部位$i$の補正熱貫流率, W/(m<sup>2</sup>・K)  "
   ]
  },
  {
   "cell_type": "markdown",
   "metadata": {},
   "source": [
    "#### Function"
   ]
  },
  {
   "cell_type": "code",
   "execution_count": 40,
   "metadata": {},
   "outputs": [],
   "source": [
    "def calc_UA_from_Ur(d_wall):\n",
    "    \n",
    "    # 断熱部分の熱抵抗, m2K/W\n",
    "    Ro = get_OutHeatTrans(d_wall['type'], d_wall['IsInContactWithOutsideAir']),\n",
    "    Ri = get_InHetaTrans(d_wall['Type'])\n",
    "    Rg = Ro + sum(x['Thick']/x['Cond'] for x in d_wall['Parts']['Insulation']['Layers']) + Ri\n",
    "    \n",
    "    # 補正熱貫流率\n",
    "    if d_wall['Structure'] == 'Wood' :\n",
    "        Ur = get_Ur_wood(d_wall)\n",
    "    elif d_wall['Structure'] == 'Steel' :\n",
    "        Ur = get_Ur_steel(d_wall['RCladding'])\n",
    "    else :\n",
    "        raise ValueError\n",
    "    \n",
    "    return 1/Rg + Ur"
   ]
  },
  {
   "cell_type": "markdown",
   "metadata": {},
   "source": [
    "#### Outline"
   ]
  },
  {
   "cell_type": "markdown",
   "metadata": {},
   "source": [
    "一般部位の熱貫流率$U_A$に一致するよう、一般部位の部分の層構成を調整する。  \n",
    "－$U_A$に一致するまで、Layersの順番に厚を減らす  \n",
    "－$U_A$に一致するまで、Layersの逆順に厚を減らす  \n",
    "－$U_A$に一致するまで、熱伝導率の小さい層より厚を減らす（同じ熱伝導率の層が複数ある場合にはLayersのリストの順番）  \n",
    "－$U_A$に一致するまで、熱伝導率の小さい層より厚を減らす（同じ熱伝導率の層が複数ある場合にはLayersのリストの逆順）  "
   ]
  },
  {
   "cell_type": "markdown",
   "metadata": {},
   "source": [
    "#### Function"
   ]
  },
  {
   "cell_type": "code",
   "execution_count": 41,
   "metadata": {},
   "outputs": [],
   "source": [
    "# UAをもとに層構成を調整\n",
    "# Layersの順番に厚を減らす\n",
    "def get_layers_from_UA_acending(layers, UA, Ro, Ri):\n",
    "    \n",
    "    if UA < 1/(Ro + Ri + sum(x['Thick']/x['Cond'] for x in layers)) :\n",
    "        raise ValueError\n",
    "    elif UA > 1/(Ro + Ri) :\n",
    "        raise ValueError\n",
    "    else :\n",
    "        for x in layers :\n",
    "            if UA > 1/(Ro + Ri + sum(y['Thick']/y['Cond'] for y in layers)) :\n",
    "                x['Thick'] = max(0, (1/UA - Ro - Ri - (sum(y['Thick']/y['Cond'] for y in layers)-x['Thick']/x['Cond']))*x['Cond'])\n",
    "    \n",
    "    return layers"
   ]
  },
  {
   "cell_type": "code",
   "execution_count": 42,
   "metadata": {},
   "outputs": [],
   "source": [
    "# UAをもとに層構成を調整\n",
    "# Layersの逆順に厚を減らす\n",
    "def get_layers_from_UA_descending(layers, UA, Ro, Ri):\n",
    "    \n",
    "    if UA < 1/(Ro + Ri + sum(x['Thick']/x['Cond'] for x in layers)) :\n",
    "        raise ValueError\n",
    "    elif UA > 1/(Ro + Ri) :\n",
    "        raise ValueError\n",
    "    else :\n",
    "        for x in reversed(layers) :\n",
    "            if UA > 1/(Ro + Ri + sum(y['Thick']/y['Cond'] for y in layers)) :\n",
    "                x['Thick'] = max(0, (1/UA - Ro - Ri - (sum(y['Thick']/y['Cond'] for y in layers)-x['Thick']/x['Cond']))*x['Cond'])\n",
    "    \n",
    "    return layers"
   ]
  },
  {
   "cell_type": "code",
   "execution_count": 43,
   "metadata": {},
   "outputs": [],
   "source": [
    "# UAをもとに層構成を調整\n",
    "# 熱伝導率の小さい層より厚を減らす\n",
    "# 同じ熱伝導率の層が複数ある場合にはLayersのリストの順番に処理\n",
    "def get_layers_from_UA_ins_acending(layers, UA, Ro, Ri):\n",
    "    \n",
    "    def get_cond_sort_list(l, c_list):\n",
    "        # l : Layers\n",
    "        l_copy = copy.deepcopy(l)\n",
    "        sort_list = []\n",
    "        for x in range(0,len(l_copy)) :\n",
    "            cond_temp = c_list[x]\n",
    "            for y in range(0,len(l_copy)) :\n",
    "                if cond_temp == l_copy[y]['Cond'] :\n",
    "                    sort_list.append(y)\n",
    "                    l_copy[y]['Cond'] = 0\n",
    "                    cond_temp = -1                   \n",
    "        return sort_list\n",
    "    \n",
    "    # Layers中の熱伝導率を昇順に並べる\n",
    "    cond_list = sorted([x['Cond'] for x in layers])\n",
    "\n",
    "    # Layers中の熱伝導率の昇順の順番を取得する\n",
    "    cond_sort_list = get_cond_sort_list(layers, cond_list)\n",
    "\n",
    "    # 熱伝導率の小さい層より厚を調整\n",
    "    # 同じ熱伝導率の層が複数ある場合にはLayersのリストの順番に処理\n",
    "    if UA < 1/(Ro + Ri + sum(x['Thick']/x['Cond'] for x in layers)) :\n",
    "        raise ValueError\n",
    "    elif UA > 1/(Ro + Ri) :\n",
    "        raise ValueError\n",
    "    else :\n",
    "        for x in cond_sort_list :\n",
    "            if UA > 1/(Ro + Ri + sum(y['Thick']/y['Cond'] for y in layers)) :\n",
    "                R = Ro + Ri + sum(y['Thick']/y['Cond'] for y in layers) - layers[x]['Thick']/layers[x]['Cond']\n",
    "                layers[x]['Thick'] = max(0, (1/UA - R)*layers[x]['Cond'])\n",
    "    \n",
    "    return layers"
   ]
  },
  {
   "cell_type": "code",
   "execution_count": 44,
   "metadata": {},
   "outputs": [],
   "source": [
    "# UAをもとに層構成を調整\n",
    "# 熱伝導率の小さい層より厚を減らす\n",
    "# 同じ熱伝導率の層が複数ある場合にはLayersのリストの逆順に処理\n",
    "def get_layers_from_UA_ins_descending(layers, UA, Ro, Ri):\n",
    "    \n",
    "    def get_cond_sort_list(l, c_list):\n",
    "        # l : Layers\n",
    "        l_copy = copy.deepcopy(l)\n",
    "        sort_list = []\n",
    "        for x in range(0,len(l_copy)) :\n",
    "            cond_temp = c_list[x]\n",
    "            for y in range(len(l_copy),0,-1) :\n",
    "                if cond_temp == l_copy[y-1]['Cond'] :\n",
    "                    sort_list.append(y-1)\n",
    "                    l_copy[y-1]['Cond'] = 0\n",
    "                    cond_temp = -1                   \n",
    "        return sort_list\n",
    "    \n",
    "    # Layers中の熱伝導率を昇順に並べる\n",
    "    cond_list = sorted([x['Cond'] for x in layers])\n",
    "\n",
    "    # Layers中の熱伝導率の昇順の順番を取得する\n",
    "    cond_sort_list = get_cond_sort_list(layers, cond_list)\n",
    "\n",
    "    # 熱伝導率の小さい層より厚を調整\n",
    "    # 同じ熱伝導率の層が複数ある場合にはLayersのリストの逆順に処理\n",
    "    if UA < 1/(Ro + Ri + sum(x['Thick']/x['Cond'] for x in layers)) :\n",
    "        raise ValueError\n",
    "    elif UA > 1/(Ro + Ri) :\n",
    "        raise ValueError\n",
    "    else :\n",
    "        for x in cond_sort_list :\n",
    "            if UA > 1/(Ro + Ri + sum(y['Thick']/y['Cond'] for y in layers)) :\n",
    "                R = Ro + Ri + sum(y['Thick']/y['Cond'] for y in layers) - layers[x]['Thick']/layers[x]['Cond']\n",
    "                layers[x]['Thick'] = max(0, (1/UA - R)*layers[x]['Cond'])\n",
    "    \n",
    "    return layers"
   ]
  },
  {
   "cell_type": "code",
   "execution_count": 45,
   "metadata": {},
   "outputs": [],
   "source": [
    "def make_d_wall_for_inputUR(d_wall_init):\n",
    "    \n",
    "    UA = calc_UA_from_Ur(d_wall_init)\n",
    "    \n",
    "    d_wall = [{\n",
    "        'name':      d_wall['name'],\n",
    "        'direction': d_wall['direction'],\n",
    "        'area':      d_wall['area'],\n",
    "        'space':     d_wall['space'],\n",
    "        'type':      d_wall['type'],\n",
    "        'structure':     d_wall['structure'],        \n",
    "        'IsSunshadeInput': d_wall['IsSunshadeInput'],\n",
    "        'IsInContactWithOutsideAir': d_wall['IsInContactWithOutsideAir'],\n",
    "        'Layers': get_layers_from_UA_ins_descending(d_wall_init['Parts'][0]['Layers'], UA, \n",
    "                                                    get_OutHeatTrans(d_wall['type'], d_wall['IsInContactWithOutsideAir']),\n",
    "                                                    get_InHeatTrans_from_type(d_wall['type']))\n",
    "    }]\n",
    "        \n",
    "    if d_wall['IsSunshadeInput'] == True :\n",
    "        for x in d_walls :\n",
    "            x['Y1'] = d_wall['Y1']\n",
    "            x['Y2'] = d_wall['Y2']\n",
    "            x['Z'] = d_wall['Z']\n",
    "            \n",
    "    return d_wall"
   ]
  },
  {
   "cell_type": "markdown",
   "metadata": {},
   "source": [
    "### RC造の場合の壁体の設定"
   ]
  },
  {
   "cell_type": "markdown",
   "metadata": {},
   "source": [
    "#### Outline"
   ]
  },
  {
   "cell_type": "markdown",
   "metadata": {},
   "source": [
    "情報を維持する。"
   ]
  },
  {
   "cell_type": "markdown",
   "metadata": {},
   "source": [
    "#### Function"
   ]
  },
  {
   "cell_type": "code",
   "execution_count": 46,
   "metadata": {},
   "outputs": [],
   "source": [
    "def make_d_wall_for_inputRC(d_wall_init):\n",
    "    \n",
    "    d_wall = [{\n",
    "        'name':      d_wall['name'],\n",
    "        'direction': d_wall['direction'],\n",
    "        'area':      d_wall['area'],\n",
    "        'space':     d_wall['space'],\n",
    "        'type':      d_wall['type'],\n",
    "        'structure':     d_wall['structure'],        \n",
    "        'IsSunshadeInput': d_wall['IsSunshadeInput'],\n",
    "        'IsInContactWithOutsideAir': d_wall['IsInContactWithOutsideAir'],\n",
    "        'Layers':  [make_layer(**layer) for layer in d_wall['Parts'][0]['Layers']]\n",
    "    }]\n",
    "        \n",
    "    if d_wall['IsSunshadeInput'] == True :\n",
    "        for x in d_walls :\n",
    "            x['Y1'] = d_wall['Y1']\n",
    "            x['Y2'] = d_wall['Y2']\n",
    "            x['Z'] = d_wall['Z']\n",
    "            \n",
    "    return d_wall"
   ]
  },
  {
   "cell_type": "markdown",
   "metadata": {},
   "source": [
    "### Walls要素をRoomsに展開"
   ]
  },
  {
   "cell_type": "markdown",
   "metadata": {},
   "source": [
    "#### Outline"
   ]
  },
  {
   "cell_type": "markdown",
   "metadata": {},
   "source": [
    "Partsの複数の要素を複数の部位に分離する。"
   ]
  },
  {
   "cell_type": "markdown",
   "metadata": {},
   "source": [
    "方位が'Bottom'である外皮の部位を、床と判定する。  \n",
    "【要確認】方位が'Bottom'である外皮の部位、土間床の合計面積が、用途別床面積を超過する場合にどうするか"
   ]
  },
  {
   "cell_type": "markdown",
   "metadata": {},
   "source": [
    "#### Function"
   ]
  },
  {
   "cell_type": "code",
   "execution_count": 1,
   "metadata": {},
   "outputs": [],
   "source": [
    "def integrate_walls_to_rooms(region, IsSimplifiedInput, d_walls_init, d_rooms):\n",
    "    \n",
    "    if IsSimplifiedInput == True :\n",
    "        d_walls = make_d_walls_for_simplifiedinput(d_walls_init)\n",
    "    else :\n",
    "        d_walls = []\n",
    "        for x in d_walls_init :\n",
    "            # 直接入力\n",
    "            if x['InputMethod'] == 'InputUA' :\n",
    "                d_walls.append(make_d_wall_for_inputUA(x))\n",
    "            # 木造 詳細計算法\n",
    "            elif  d_wall['Structure'] == 'wood' and d_wall['InputMethodWood'] == 'InputAllDetails' :\n",
    "                d_walls.extend(make_d_walls_for_inputalldetails(x))\n",
    "            # 木造 簡略計算法①\n",
    "            elif  d_wall['Structure'] == 'wood' and d_wall['InputMethodWood'] == 'InputAllLayers' :\n",
    "                d_walls.extend(make_d_walls_for_inputalllayers(x))\n",
    "            # 木造 簡略計算法②、鉄骨造\n",
    "            elif (d_wall['Structure'] == 'wood' and d_wall['InputMethodWood'] == 'InputUR') or d_wall['Structure'] == 'Steel' :\n",
    "                d_walls.extend(make_d_wall_for_inputUR(x))\n",
    "            # RC造\n",
    "            elif d_wall['Structure'] == 'RC' :\n",
    "                d_walls.extend(make_d_wall_for_inputRC(x))       \n",
    "            # その他\n",
    "            elif d_wall['Structure'] == 'other' :\n",
    "                raise ValueError        \n",
    "            else :\n",
    "                raise ValueError\n",
    "\n",
    "    n = {'Roof': 1, 'Ceiling': 1, 'Wall': 1, 'Floor': 1, 'BoundaryCeiling': 1, 'BoundaryWall': 1, 'BoundaryFloor': 1}\n",
    "    for x in d_walls :\n",
    "        for y in d_rooms :\n",
    "            if x['space'] == y['name'] :     \n",
    "                y['Surface'].append({\n",
    "                    'skin': True, \n",
    "                    'direction': get_direction_from_direction_for_outer_skin(x['direction'] if x['nextspace']=='Outdoor' else x['nextspace']),\n",
    "                    'floor': True if x['direction'] == 'Bottom' else False,\n",
    "                    'boundary': get_boundary_for_outer_skin(region, x['nextspace'], x['direction']),\n",
    "                    'unsteady': True, \n",
    "                    'IsSoil': False,\n",
    "                    'name': x['type'] + str(n[x['type']]), \n",
    "                    'area': x['area'], \n",
    "                    'Wall': {\n",
    "                        'OutHeatTrans': get_OutHeatTrans(x['type'], x['IsInContactWithOutsideAir']),\n",
    "                        'InHeatTrans': get_InHeatTrans_from_type(x['type']),\n",
    "                        'Layers':x['Layers']\n",
    "                    },\n",
    "                    'sunbreak':{'D': x['Z'], 'hi': x['Y1'], 'WH': x['Y2']} if x['IsSunshadeInput'] == True else {}\n",
    "                })\n",
    "                n[x['type']] = n[x['type']] + 1\n",
    "    \n",
    "    return d_rooms"
   ]
  },
  {
   "cell_type": "markdown",
   "metadata": {},
   "source": [
    "### InnerWalls要素をRoomsに展開"
   ]
  },
  {
   "cell_type": "markdown",
   "metadata": {},
   "source": [
    "#### Outline"
   ]
  },
  {
   "cell_type": "markdown",
   "metadata": {},
   "source": [
    "床下空間上の床、室上の床を、床と判定する。  \n",
    "【要確認】方位が'Bottom'である外皮の部位、土間床の合計面積が、用途別床面積を超過する場合にどうするか"
   ]
  },
  {
   "cell_type": "markdown",
   "metadata": {},
   "source": [
    "#### Function"
   ]
  },
  {
   "cell_type": "code",
   "execution_count": 1,
   "metadata": {},
   "outputs": [],
   "source": [
    "def integrate_innerwalls_to_rooms(region, d_innerwalls, d_rooms):\n",
    "    \n",
    "    n = {'InnerCeiling': 1, 'InnerWall': 1, 'InnerFloor': 1, 'GroundFloor': 1}\n",
    "    for x in d_innerwalls :\n",
    "        for y in d_rooms :\n",
    "            if x['space'] == y['name'] :    \n",
    "                y['Surface'].append({\n",
    "                    'skin': False, \n",
    "                    'direction': get_direction_from_direction_for_inner_skin(x['space'], x['type']),\n",
    "                    'floor': True if (x['type'] == 'GroundFloor' or x['type'] == 'InnerFloor') else False,\n",
    "                    'boundary': get_boundary_for_inner_skin(x['type'], x['nextspace']),\n",
    "                    'unsteady': True,\n",
    "                    'IsSoil': False,\n",
    "                    'name': x['type'] + str(n[x['type']]), \n",
    "                    'area': x['area'], \n",
    "                    'Wall': {\n",
    "                        'OutHeatTrans': get_OutHeatTrans(x['type'], False),\n",
    "                        'InHeatTrans': get_InHeatTrans_from_type(x['type']),\n",
    "                        'Layers':x['Layers']\n",
    "                    },\n",
    "                })\n",
    "                n[x['type']] = n[x['type']] + 1\n",
    "    \n",
    "    return d_rooms"
   ]
  },
  {
   "cell_type": "markdown",
   "metadata": {},
   "source": [
    "### Doors要素をRoomsに展開"
   ]
  },
  {
   "cell_type": "markdown",
   "metadata": {},
   "source": [
    "#### Outline"
   ]
  },
  {
   "cell_type": "markdown",
   "metadata": {},
   "source": [
    "方位が'Bottom'である外皮の部位を、床と判定する。  \n",
    "【要確認】方位が'Bottom'である外皮の部位、土間床の合計面積が、用途別床面積を超過する場合にどうするか"
   ]
  },
  {
   "cell_type": "markdown",
   "metadata": {},
   "source": [
    "#### Function"
   ]
  },
  {
   "cell_type": "code",
   "execution_count": 49,
   "metadata": {},
   "outputs": [],
   "source": [
    "def integrate_doors_to_rooms(region, IsSimplifiedInput, d_doors, d_rooms):\n",
    "    \n",
    "    n = 1\n",
    "    for x in d_doors :\n",
    "        for y in d_rooms :\n",
    "            if x['space'] == y['name'] :\n",
    "                y['Surface'].append({\n",
    "                    'skin': True, \n",
    "                    'direction': get_direction_from_direction_for_outer_skin(x['direction']),\n",
    "                    'floor': True if x['direction'] == 'Bottom' else False,\n",
    "                    'boundary': get_boundary_for_outer_skin(region, x['nextspace'], x['direction']),\n",
    "                    'unsteady': False, \n",
    "                    'name': 'Door' + str(n), \n",
    "                    'area': x['area'], \n",
    "                    'Windows': {\n",
    "                        'Eta': 0.034*x['U'],\n",
    "                        'Uw': x['U'],\n",
    "                        'OutHeatTrans': 25,\n",
    "                        'InHeatTrans': get_InHeatTrans_from_direction(x['direction'])\n",
    "                    },\n",
    "                    'sunbreak':{'D': x['Z'], 'hi': x['Y1'], 'WH': x['Y2']} if x['IsSunshadeInput'] == True else {}\n",
    "                })\n",
    "                n = n + 1\n",
    "    \n",
    "    return d_rooms"
   ]
  },
  {
   "cell_type": "markdown",
   "metadata": {},
   "source": [
    "### Windows要素をRoomsに展開"
   ]
  },
  {
   "cell_type": "markdown",
   "metadata": {},
   "source": [
    "平成28年省エネルギー基準に準拠したエネルギー消費性能の評価に関する技術情報（住宅）  \n",
    "　２．エネルギー消費性能の算定方法  \n",
    "　　2.2　算定方法  \n",
    "　　　第三章　 暖冷房負荷と外皮性能  \n",
    "　　　　第四節　日射熱取得率  "
   ]
  },
  {
   "cell_type": "markdown",
   "metadata": {},
   "source": [
    "#### Outline"
   ]
  },
  {
   "cell_type": "markdown",
   "metadata": {},
   "source": [
    "<div style=\"text-align: center;\"> 付録C　表1 ガラスの垂直面日射熱取得率 </div>\n",
    "\n",
    "| ガラスの仕様 | 　 | 　 | 付属部材なし | 和障子 | 外付けブラインド |\n",
    "|---|---|---|---|---|---|\n",
    "| 三層複層 | 2枚以上のガラス表面にLow-E膜を使用したLow-E三層複層ガラス | 日射取得型 | 0.54 | 0.34 | 0.12 |\n",
    "| 三層複層 | 2枚以上のガラス表面にLow-E膜を使用したLow-E三層複層ガラス | 日射遮蔽型 | 0.33 | 0.22 | 0.08 |\n",
    "| 三層複層 | Low-E三層複層ガラス | 日射取得型 | 0.59 | 0.37 | 0.14 |\n",
    "| 三層複層 | Low-E三層複層ガラス | 日射遮蔽型 | 0.37 | 0.25 | 0.10 |\n",
    "| 三層複層 | 三層複層ガラス　| 　 | 0.72 | 0.38 | 0.18 |\n",
    "| 二層複層 | Low-E二複層ガラス | 日射取得型 | 0.64 | 0.38 | 0.15 |\n",
    "| 二層複層 | Low-E二複層ガラス | 日射遮蔽型 | 0.40 | 0.26 | 0.11 |\n",
    "| 二層複層 | 二層複層ガラス | 　 | 0.79 | 0.38 | 0.17 |\n",
    "| 二層複層 | 単板ガラス2枚を組み合わせたもの | 日射遮蔽型 | 0.79 | 0.38 | 0.17 |\n",
    "| 単層 | 単板ガラス　| 　 | 0.88 | 0.38 | 0.19 |"
   ]
  },
  {
   "cell_type": "code",
   "execution_count": 50,
   "metadata": {},
   "outputs": [],
   "source": [
    "def get_eta_from_specification(typeFrame, typeGlass, typeShade):\n",
    "    \n",
    "    f_frame = {'WoodOrResin': 0.72, 'Steel': 0.8}[typeFrame]\n",
    "    \n",
    "    eta = {\n",
    "        '3WgG':            {'None': 0.54, 'Shoji': 0.34, 'ExtarnalBlind': 0.12}, # 三層複層 Low-E三層複層ガラス（Low-Eガラス2枚）日射取得型\n",
    "        '3WsG':            {'None': 0.33, 'Shoji': 0.22, 'ExtarnalBlind': 0.08}, # 三層複層 Low-E三層複層ガラス（Low-Eガラス2枚）日射遮蔽型\n",
    "        '3LgG':            {'None': 0.59, 'Shoji': 0.37, 'ExtarnalBlind': 0.14}, # 三層複層 Low-E三層複層ガラス（Low-Eガラス1枚）日射取得型\n",
    "        '3LsG':            {'None': 0.37, 'Shoji': 0.25, 'ExtarnalBlind': 0.10}, # 三層複層 Low-E三層複層ガラス（Low-Eガラス1枚）日射遮蔽型\n",
    "        '2LgG':            {'None': 0.64, 'Shoji': 0.38, 'ExtarnalBlind': 0.15}, # 二層複層 Low-E複層ガラス日射取得型\n",
    "        '2LsG':            {'None': 0.40, 'Shoji': 0.26, 'ExtarnalBlind': 0.11}, # 二層複層 Low-E複層ガラス日射遮蔽型\n",
    "        '2FAheatreflect1': {'None': 0.79, 'Shoji': 0.38, 'ExtarnalBlind': 0.17}, # 二層複層 遮熱複層ガラス熱線反射ガラス1種\n",
    "        '2FAheatreflect2': {'None': 0.79, 'Shoji': 0.38, 'ExtarnalBlind': 0.17}, # 二層複層 遮熱複層ガラス熱線反射ガラス2種\n",
    "        '2FAheatreflect3': {'None': 0.79, 'Shoji': 0.38, 'ExtarnalBlind': 0.17}, # 二層複層 遮熱複層ガラス熱線反射ガラス3種\n",
    "        '2FAheatabsorb2':  {'None': 0.79, 'Shoji': 0.38, 'ExtarnalBlind': 0.17}, # 二層複層 遮熱複層ガラス熱線吸収板ガラス2種\n",
    "        '2FAmulti':        {'None': 0.79, 'Shoji': 0.38, 'ExtarnalBlind': 0.17}, # 二層複層 複層ガラス\n",
    "        '2FAsingle':       {'None': 0.79, 'Shoji': 0.38, 'ExtarnalBlind': 0.17}, # 二層複層 単板ガラス2枚\n",
    "        'Theatreflect1':   {'None': 0.88, 'Shoji': 0.38, 'ExtarnalBlind': 0.19}, # 単層 単板ガラス熱線反射ガラス1種\n",
    "        'Theatreflect2':   {'None': 0.88, 'Shoji': 0.38, 'ExtarnalBlind': 0.19}, # 単層 単板ガラス熱線反射ガラス2種\n",
    "        'Theatreflect3':   {'None': 0.88, 'Shoji': 0.38, 'ExtarnalBlind': 0.19}, # 単層 単板ガラス熱線反射ガラス3種\n",
    "        'Theatabsorb2':    {'None': 0.88, 'Shoji': 0.38, 'ExtarnalBlind': 0.19}, # 単層 単板ガラス熱線吸収板ガラス2種\n",
    "        'Tsingle':         {'None': 0.88, 'Shoji': 0.38, 'ExtarnalBlind': 0.19}  # 単層 単板ガラスその他\n",
    "    }[typeGlass][typeShade]\n",
    "    \n",
    "    return eta*f_frame"
   ]
  },
  {
   "cell_type": "code",
   "execution_count": 51,
   "metadata": {},
   "outputs": [],
   "source": [
    "def get_eta(IsSimplifiedInput, d_window):\n",
    "    \n",
    "    if IsSimplifiedInput == True :\n",
    "        eta = numpy.average([d_window['EtaCooling'], d_window['EtaHeating']])\n",
    "    elif d_windows['IsEtaValueInput'] == True :\n",
    "        if d_window['TypeWindow'] == 'Single' :\n",
    "            eta = d_window['Eta']\n",
    "        if d_window['TypeWindow'] == 'Double' :\n",
    "            eta = d_window['EtaInside']*d_window['EtaOutside']*1.06/ \\\n",
    "                  (0.72 if d_window['TypeFrameInside'] == 'WoodOrResin' and d_window['TypeFrameOutside'] == 'WoodOrResin' else 0.8)\n",
    "    elif d_windows['IsEtaValueInput'] == False :\n",
    "        if d_window['TypeWindow'] == 'Single' :\n",
    "            eta = get_eta_from_specification(d_window['TypeFrame'],d_window['TypeGlass'],d_window['TypeShade'])\n",
    "        if d_window['TypeWindow'] == 'Double' :\n",
    "            eta = get_eta_from_specification(d_window['TypeFrameInside'],d_window['TypeGlassInside'],d_window['TypeShadeInside'])* \\\n",
    "                  get_eta_from_specification(d_window['TypeFrameOutside'],d_window['TypeGlassOutside'],d_window['TypeShadeOutside'])* \\\n",
    "                  1.06/(0.72 if d_window['TypeFrameInside'] == 'WoodOrResin' and d_window['TypeFrameOutside'] == 'WoodOrResin' else 0.8)\n",
    "    else :\n",
    "        raise ValueError\n",
    "    \n",
    "    return eta"
   ]
  },
  {
   "cell_type": "markdown",
   "metadata": {},
   "source": [
    "### Windows要素をRoomsに展開"
   ]
  },
  {
   "cell_type": "markdown",
   "metadata": {},
   "source": [
    "#### Outline"
   ]
  },
  {
   "cell_type": "markdown",
   "metadata": {},
   "source": [
    "方位が'Bottom'である外皮の部位を、床と判定する。  \n",
    "【要確認】方位が'Bottom'である外皮の部位、土間床の合計面積が、用途別床面積を超過する場合にどうするか"
   ]
  },
  {
   "cell_type": "markdown",
   "metadata": {},
   "source": [
    "#### Function"
   ]
  },
  {
   "cell_type": "code",
   "execution_count": 52,
   "metadata": {},
   "outputs": [],
   "source": [
    "def integrate_windows_to_rooms(region, IsSimplifiedInput, d_windows, d_rooms):\n",
    "    \n",
    "    n = 1\n",
    "    for x in d_windows :\n",
    "        for y in d_rooms :\n",
    "            if x['space'] == y['name'] :\n",
    "                y['Surface'].append({\n",
    "                    'skin': True, \n",
    "                    'direction': get_direction_from_direction_for_outer_skin(x['direction']),\n",
    "                    'floor': True if x['direction'] == 'Bottom' else False,\n",
    "                    'boundary': get_boundary_for_outer_skin(region, x['nextspace'], x['direction']),\n",
    "                    'unsteady': False, \n",
    "                    'name': 'Window' + str(n), \n",
    "                    'area': x['area'], \n",
    "                    'Windows': {\n",
    "                        'Eta': get_eta(IsSimplifiedInput, x),\n",
    "                        'Uw': x['UW'],\n",
    "                        'OutHeatTrans': 25,\n",
    "                        'InHeatTrans': get_InHeatTrans_from_direction(x['direction'])\n",
    "                    },\n",
    "                    'sunbreak':{'D': x['Z'], 'hi': x['Y1'], 'WH': x['Y2']} if x['IsSunshadeInput'] == True else {}\n",
    "                })\n",
    "                n = n + 1\n",
    "    \n",
    "    return d_rooms"
   ]
  },
  {
   "cell_type": "markdown",
   "metadata": {},
   "source": [
    "### Heabridges要素をRoomsに展開"
   ]
  },
  {
   "cell_type": "markdown",
   "metadata": {},
   "source": [
    "#### Function"
   ]
  },
  {
   "cell_type": "code",
   "execution_count": 53,
   "metadata": {},
   "outputs": [],
   "source": [
    "def integrate_heatbridges_to_rooms(region, d_heatbridges, d_rooms):\n",
    "    \n",
    "    n = 1\n",
    "    for x in d_heatbridges :\n",
    "        for y in d_rooms :\n",
    "            if x['space'] == y['name'] :\n",
    "                y['LinearHeatBridge'].append({\n",
    "                    'name': 'Heatbridge' + str(n), \n",
    "                    'LinearHeatTrans': x['psi'], \n",
    "                    'LinearHeatTransLength': x['length'],\n",
    "                    'boundary1': get_boundary_for_outer_skin(region, x['nextspace1'], x['direction1']),\n",
    "                    'boundary2': get_boundary_for_outer_skin(region, x['nextspace2'], x['direction2'])\n",
    "                })\n",
    "                n = n + 1\n",
    "    \n",
    "    return d_room"
   ]
  },
  {
   "cell_type": "markdown",
   "metadata": {},
   "source": [
    "### EarthfloorPerimeters要素をRoomsに展開"
   ]
  },
  {
   "cell_type": "markdown",
   "metadata": {},
   "source": [
    "#### Function"
   ]
  },
  {
   "cell_type": "code",
   "execution_count": 1,
   "metadata": {},
   "outputs": [],
   "source": [
    "def integrate_earthfloorperimeters_to_rooms(region, d_earthfloorperimeters, d_rooms):\n",
    "    \n",
    "    n = 1\n",
    "    for x in d_earthfloorperimeters :\n",
    "        for y in d_rooms :\n",
    "            if x['space'] == y['name'] :\n",
    "                y['EarthfloorPerimeter'].append({\n",
    "                    'name': 'EarthfloorPerimeter' + str(n), \n",
    "                    'LinearHeatTrans': x['psi'], \n",
    "                    'LinearHeatTransLength': x['length'],\n",
    "                    'boundary': get_boundary_for_earthfloorperimeter(region, \n",
    "                                                                     x['direction'] if x['nextspace']=='Outdoor' else x['nextspace']) \n",
    "                })\n",
    "                n = n + 1\n",
    "    \n",
    "    return d_rooms"
   ]
  },
  {
   "cell_type": "markdown",
   "metadata": {},
   "source": [
    "### Earthfloors要素をRoomsに展開"
   ]
  },
  {
   "cell_type": "markdown",
   "metadata": {},
   "source": [
    "#### Outline"
   ]
  },
  {
   "cell_type": "markdown",
   "metadata": {},
   "source": [
    "土間床を、床と判定する。  \n",
    "【要確認】方位が'Bottom'である外皮の部位、土間床の合計面積が、用途別床面積を超過する場合にどうするか"
   ]
  },
  {
   "cell_type": "markdown",
   "metadata": {},
   "source": [
    "#### Function"
   ]
  },
  {
   "cell_type": "code",
   "execution_count": 55,
   "metadata": {},
   "outputs": [],
   "source": [
    "def integrate_earthfloors_to_rooms(region, d_earthfloors, d_rooms):\n",
    "    \n",
    "    n = 1\n",
    "    for x in d_earthfloors :\n",
    "        for y in d_rooms :\n",
    "            if x['space'] == y['name'] :                \n",
    "                y['Surface'].append({\n",
    "                    'skin': True, \n",
    "                    'direction': 'Upward',\n",
    "                    'floor': True,\n",
    "                    'boundary': 'AnnualAverage',\n",
    "                    'unsteady': True, \n",
    "                    'IsSoil': True,\n",
    "                    'name': 'Earthfloor' + str(n), \n",
    "                    'area': x['area'], \n",
    "                    'Wall': {\n",
    "                        'InHeatTrans': get_InHeatTrans_from_type('Earthfloor'),\n",
    "                        'Layers':[{},{}]\n",
    "                    },\n",
    "                })\n",
    "                n = n + 1\n",
    "    \n",
    "    return d_rooms"
   ]
  },
  {
   "cell_type": "markdown",
   "metadata": {},
   "source": [
    "## 3. Convert"
   ]
  },
  {
   "cell_type": "markdown",
   "metadata": {},
   "source": [
    "#### Function"
   ]
  },
  {
   "cell_type": "code",
   "execution_count": 56,
   "metadata": {},
   "outputs": [],
   "source": [
    "def convert(d):\n",
    "    \n",
    "    d_calc_input = {}\n",
    "    d_calc_input['Gdata'] = convert_gdata(d)\n",
    "    d_calc_input['Rooms'] = get_rooms_initial(d)\n",
    "    \n",
    "    if ('Walls' in d) == True :\n",
    "        d_calc_input['Rooms'] = integrate_walls_to_rooms(d['Common']['Region'], d['Common']['IsSimplifiedInput'], \n",
    "                                                         d['Walls'], d_calc_input['Rooms'])\n",
    "\n",
    "    if ('Doors' in d) == True :\n",
    "        d_calc_input['Rooms'] = integrate_doors_to_rooms(d['Common']['Region'], d['Common']['IsSimplifiedInput'], \n",
    "                                                         d['Doors'], d_calc_input['Rooms'])\n",
    "\n",
    "    if ('Windows' in d) == True :\n",
    "        d_calc_input['Rooms'] = integrate_windows_to_rooms(d['Common']['Region'], d['Common']['IsSimplifiedInput'], \n",
    "                                                           d['Windows'], d_calc_input['Rooms'])\n",
    "\n",
    "    if ('Heatbridges' in d) == True :\n",
    "        d_calc_input['Rooms'] = integrate_heatbridges_to_rooms(d['Common']['Region'], d['Heatbridges'], d_calc_input['Rooms'])\n",
    "\n",
    "    if ('EarthfloorPerimeters' in d) == True :\n",
    "        d_calc_input['Rooms'] = integrate_earthfloorperimeters_to_rooms(d['Common']['Region'], d['EarthfloorPerimeters'], d_calc_input['Rooms'])\n",
    "\n",
    "    if ('Earthfloors' in d) == True :\n",
    "        d_calc_input['Rooms'] = integrate_earthfloors_to_rooms(d['Common']['Region'], d['Earthfloors'], d_calc_input['Rooms'])\n",
    "\n",
    "    if ('InnerWalls' in d) == True :\n",
    "        d_calc_input['Rooms'] = integrate_innerwalls_to_rooms(d['Common']['Region'], d['InnerWalls'], d_calc_input['Rooms'])\n",
    "\n",
    "    return d_calc_input"
   ]
  },
  {
   "cell_type": "markdown",
   "metadata": {},
   "source": [
    "#### Example"
   ]
  },
  {
   "cell_type": "code",
   "execution_count": 57,
   "metadata": {
    "scrolled": false
   },
   "outputs": [],
   "source": [
    "d = {\n",
    "    'Common': {\n",
    "        'Region': 6,\n",
    "        'IsSimplifiedInput': True,\n",
    "        'MainOccupantRoomFloorArea': 30.0,\n",
    "        'OtherOccupantRoomFloorArea': 30.0,\n",
    "        'TotalFloorArea': 120.0\n",
    "    },\n",
    "    'Walls': [\n",
    "        {'name': 'Roof_main', 'direction': 'Top', 'area': 16.95, 'space': 'main', 'type': 'Roof',\n",
    "         'structure': 'wood', 'IsSunshadeInput': False, 'UA': 7.7},\n",
    "        {'name': 'Roof_other', 'direction': 'Top', 'area': 16.95, 'space': 'other', 'type': 'Roof',\n",
    "         'structure': 'wood', 'IsSunshadeInput': False, 'UA': 7.7},\n",
    "        {'name': 'Roof_nonliving', 'direction': 'Top', 'area': 33.9, 'space': 'nonliving', 'type': 'Roof',\n",
    "         'structure': 'wood', 'IsSunshadeInput': False, 'UA': 7.7},\n",
    "        {'name': 'Wall_SW_main', 'direction': 'SW', 'area': 10.1575, 'space': 'main', 'type': 'Wall',\n",
    "         'structure': 'wood', 'IsSunshadeInput': False, 'UA': 6.67},\n",
    "        {'name': 'Wall_SW_other', 'direction': 'SW', 'area': 10.1575, 'space': 'other', 'type': 'Wall',\n",
    "         'structure': 'wood', 'IsSunshadeInput': False, 'UA': 6.67},\n",
    "        {'name': 'Wall_SW_nonliving', 'direction': 'SW', 'area': 20.315, 'space': 'nonliving', 'type': 'Wall',\n",
    "         'structure': 'wood', 'IsSunshadeInput': False, 'UA': 6.67},\n",
    "        {'name': 'Wall_NW_main', 'direction': 'NW', 'area': 7.4575, 'space': 'main', 'type': 'Wall',\n",
    "         'structure': 'wood', 'IsSunshadeInput': False, 'UA': 6.67},\n",
    "        {'name': 'Wall_NW_other', 'direction': 'NW', 'area': 7.4575, 'space': 'other', 'type': 'Wall',\n",
    "         'structure': 'wood', 'IsSunshadeInput': False, 'UA': 6.67},\n",
    "        {'name': 'Wall_NW_nonliving', 'direction': 'NW', 'area': 14.915, 'space': 'nonliving', 'type': 'Wall',\n",
    "         'structure': 'wood', 'IsSunshadeInput': False, 'UA': 6.67},\n",
    "        {'name': 'Wall_NE_main', 'direction': 'NE', 'area': 15.9725, 'space': 'main', 'type': 'Wall',\n",
    "         'structure': 'wood', 'IsSunshadeInput': False, 'UA': 6.67},\n",
    "        {'name': 'Wall_NE_other', 'direction': 'NE', 'area': 15.9725, 'space': 'other', 'type': 'Wall',\n",
    "         'structure': 'wood', 'IsSunshadeInput': False, 'UA': 6.67},\n",
    "        {'name': 'Wall_NE_nonliving', 'direction': 'NE', 'area': 31.945, 'space': 'nonliving', 'type': 'Wall',\n",
    "         'structure': 'wood', 'IsSunshadeInput': False, 'UA': 6.67},\n",
    "        {'name': 'Wall_SE_main', 'direction': 'SE', 'area': 7.4275, 'space': 'main', 'type': 'Wall',\n",
    "         'structure': 'wood', 'IsSunshadeInput': False, 'UA': 6.67},\n",
    "        {'name': 'Wall_SE_other', 'direction': 'SE', 'area': 7.4275, 'space': 'other', 'type': 'Wall',\n",
    "         'structure': 'wood', 'IsSunshadeInput': False, 'UA': 6.67},\n",
    "        {'name': 'Wall_SE_nonliving', 'direction': 'SE', 'area': 14.855, 'space': 'nonliving', 'type': 'Wall',\n",
    "         'structure': 'wood', 'IsSunshadeInput': False, 'UA': 6.67},\n",
    "        {'name': 'Floor_main', 'direction': 'Bottom', 'area': 15.0175, 'space': 'main', 'type': 'Floor',\n",
    "         'structure': 'wood', 'IsSunshadeInput': False, 'UA': 5.27},\n",
    "        {'name': 'Floor_other', 'direction': 'Bottom', 'area': 15.0175, 'space': 'other', 'type': 'Floor',\n",
    "         'structure': 'wood', 'IsSunshadeInput': False, 'UA': 5.27},\n",
    "        {'name': 'Floor_nonliving', 'direction': 'Bottom', 'area': 30.035, 'space': 'nonliving', 'type': 'Floor',\n",
    "         'structure': 'wood', 'IsSunshadeInput': False, 'UA': 5.27},\n",
    "        {'name': 'Floor_bath_main', 'direction': 'Bottom', 'area': 1.1025, 'space': 'main', 'type': 'Floor',\n",
    "         'structure': 'wood', 'IsSunshadeInput': False, 'UA': 5.27},\n",
    "        {'name': 'Floor_bath_other', 'direction': 'Bottom', 'area': 1.1025, 'space': 'other', 'type': 'Floor',\n",
    "         'structure': 'wood', 'IsSunshadeInput': False, 'UA': 5.27},\n",
    "        {'name': 'Floor_bath_nonliving', 'direction': 'Bottom', 'area': 2.205, 'space': 'nonliving', 'type': 'Floor',\n",
    "         'structure': 'wood', 'IsSunshadeInput': False, 'UA': 5.27}\n",
    "    ],\n",
    "    'Windows': [\n",
    "        {'name': 'WindowSW_main', 'direction': 'SW', 'area': 7.5625, 'space': 'main', 'UW': 3.49,\n",
    "         'IsSunshadeInput': True, 'EtaCooling': 0.51, 'EtaHeating': 0.51, 'TypeGlass': None, 'Y1': 0, 'Y2': 1.1, 'Z': 0.348},\n",
    "        {'name': 'WindowSW_other', 'direction': 'SW', 'area': 7.5625, 'space': 'other', 'UW': 3.49,\n",
    "         'IsSunshadeInput': True, 'EtaCooling': 0.51, 'EtaHeating': 0.51, 'TypeGlass': None, 'Y1': 0, 'Y2': 1.1, 'Z': 0.348},\n",
    "        {'name': 'WindowSW_nonliving', 'direction': 'SW', 'area': 15.125, 'space': 'nonliving', 'UW': 3.49,\n",
    "         'IsSunshadeInput': True, 'EtaCooling': 0.51, 'EtaHeating': 0.51, 'TypeGlass': None, 'Y1': 0, 'Y2': 1.1, 'Z': 0.348},\n",
    "        {'name': 'WindowNW_main', 'direction': 'NW', 'area': 0.7925, 'space': 'main', 'UW': 3.49,\n",
    "         'IsSunshadeInput': True, 'EtaCooling': 0.51, 'EtaHeating': 0.51, 'TypeGlass': None, 'Y1': 0, 'Y2': 1.1, 'Z': 0.316},\n",
    "        {'name': 'WindowNW_other', 'direction': 'NW', 'area': 0.7925, 'space': 'other', 'UW': 3.49,\n",
    "         'IsSunshadeInput': True, 'EtaCooling': 0.51, 'EtaHeating': 0.51, 'TypeGlass': None, 'Y1': 0, 'Y2': 1.1, 'Z': 0.316},\n",
    "        {'name': 'WindowNW_nonliving', 'direction': 'NW', 'area': 1.585, 'space': 'nonliving', 'UW': 3.49,\n",
    "         'IsSunshadeInput': True, 'EtaCooling': 0.51, 'EtaHeating': 0.51, 'TypeGlass': None, 'Y1': 0, 'Y2': 1.1, 'Z': 0.316},\n",
    "        {'name': 'WindowNE_main', 'direction': 'NE', 'area': 1.21, 'space': 'main', 'UW': 3.49,\n",
    "         'IsSunshadeInput': True, 'EtaCooling': 0.51, 'EtaHeating': 0.51, 'TypeGlass': None, 'Y1': 0, 'Y2': 1.1, 'Z': 0.316},\n",
    "        {'name': 'WindowNE_other', 'direction': 'NE', 'area': 1.21, 'space': 'other', 'UW': 3.49,\n",
    "         'IsSunshadeInput': True, 'EtaCooling': 0.51, 'EtaHeating': 0.51, 'TypeGlass': None, 'Y1': 0, 'Y2': 1.1, 'Z': 0.316},\n",
    "        {'name': 'WindowNE_nonliving', 'direction': 'NE', 'area': 2.42, 'space': 'nonliving', 'UW': 3.49,\n",
    "         'IsSunshadeInput': True, 'EtaCooling': 0.51, 'EtaHeating': 0.51, 'TypeGlass': None, 'Y1': 0, 'Y2': 1.1, 'Z': 0.316},\n",
    "        {'name': 'WindowSE_main', 'direction': 'SE', 'area': 1.4575, 'space': 'main', 'UW': 3.49,\n",
    "         'IsSunshadeInput': True, 'EtaCooling': 0.51, 'EtaHeating': 0.51, 'TypeGlass': None, 'Y1': 0, 'Y2': 1.1, 'Z': 0.348},\n",
    "        {'name': 'WindowSE_other', 'direction': 'SE', 'area': 1.4575, 'space': 'other', 'UW': 3.49,\n",
    "         'IsSunshadeInput': True, 'EtaCooling': 0.51, 'EtaHeating': 0.51, 'TypeGlass': None, 'Y1': 0, 'Y2': 1.1, 'Z': 0.348},\n",
    "        {'name': 'WindowSE_nonliving', 'direction': 'SE', 'area': 2.915, 'space': 'nonliving', 'UW': 3.49,\n",
    "         'IsSunshadeInput': True, 'EtaCooling': 0.51, 'EtaHeating': 0.51, 'TypeGlass': None, 'Y1': 0, 'Y2': 1.1, 'Z': 0.348}\n",
    "    ],\n",
    "    'Doors': [\n",
    "        {'name': 'DoorNW_main', 'direction': 'NW', 'area': 0.63, 'space': 'main', 'U': 4.65, 'IsSunshadeInput': False},\n",
    "        {'name': 'DoorNW_other', 'direction': 'NW', 'area': 0.63, 'space': 'other', 'U': 4.65, 'IsSunshadeInput': False},\n",
    "        {'name': 'DoorNW_nonliving', 'direction': 'NW', 'area': 1.26, 'space': 'nonliving', 'U': 4.65, 'IsSunshadeInput': False},\n",
    "        {'name': 'DoorNE_main', 'direction': 'NE', 'area': 0.54, 'space': 'main', 'U': 4.65, 'IsSunshadeInput': False},\n",
    "        {'name': 'DoorNE_other', 'direction': 'NE', 'area': 0.54, 'space': 'other', 'U': 4.65, 'IsSunshadeInput': False},\n",
    "        {'name': 'DoorNE_nonliving', 'direction': 'NE', 'area': 1.08, 'space': 'nonliving', 'U': 4.65, 'IsSunshadeInput': False}\n",
    "    ],\n",
    "    'EarthfloorPerimeters': [\n",
    "        {'direction': 'NW', 'length': 2.43, 'name': 'Entrance_NW', 'psi': 1.8, 'space': 'underfloor'},\n",
    "        {'direction': 'NE', 'length': 1.83, 'name': 'Entrance_NE', 'psi': 1.8, 'space': 'underfloor'},\n",
    "        {'direction': 'OpenBackFloor', 'length': 4.25, 'name': 'Entrance_floor', 'psi': 1.8, 'space': 'underfloor'}\n",
    "    ],\n",
    "    'Earthfloors': [\n",
    "        {'name': 'Earthfloor', 'area': 3.24, 'space': 'underfloor'}\n",
    "    ],\n",
    "    'InnerWalls': [\n",
    "        {'name': 'GroundFloor_main', 'type': 'GroundFloor', 'direction': 'Horizontal', 'area': 0.81,\n",
    "         'Layers': [{'name': 'PED', 'cond': 0.16, 'thick': 0.012, 'specH': 720.0}],\n",
    "         'space': 'main', 'nextspace': 'underfloor'},\n",
    "        {'name': 'GroundFloor_main', 'type': 'GroundFloor', 'direction': 'Horizontal', 'area': 0.81,\n",
    "         'Layers': [{'name': 'PED', 'cond': 0.16, 'thick': 0.012, 'specH': 720.0}],\n",
    "         'space': 'underfloor', 'nextspace': 'main'},\n",
    "        {'name': 'GroundFloor_other', 'type': 'GroundFloor', 'direction': 'Horizontal', 'area': 0.81,\n",
    "         'Layers': [{'name': 'PED', 'cond': 0.16, 'thick': 0.012, 'specH': 720.0}],\n",
    "         'space': 'other', 'nextspace': 'underfloor'},\n",
    "        {'name': 'GroundFloor_other', 'type': 'GroundFloor', 'direction': 'Horizontal', 'area': 0.81,\n",
    "         'Layers': [{'name': 'PED', 'cond': 0.16, 'thick': 0.012, 'specH': 720.0}],\n",
    "         'space': 'underfloor', 'nextspace': 'other'},\n",
    "        {'name': 'GroundFloor_nonliving', 'type': 'GroundFloor', 'direction': 'Horizontal', 'area': 1.62,\n",
    "         'Layers': [{'name': 'PED', 'cond': 0.16, 'thick': 0.012, 'specH': 720.0}],\n",
    "         'space': 'nonliving', 'nextspace': 'underfloor'},\n",
    "        {'name': 'GroundFloor_nonliving', 'type': 'GroundFloor', 'direction': 'Horizontal', 'area': 1.62,\n",
    "         'Layers': [{'name': 'PED', 'cond': 0.16, 'thick': 0.012, 'specH': 720.0}],\n",
    "         'space': 'underfloor', 'nextspace': 'nonliving'},\n",
    "        {'name': 'InnerFloor_main', 'type': 'InnerFloor', 'direction': 'Horizontal', 'area': 10.0,\n",
    "         'Layers': [{'name': 'PED', 'cond': 0.16, 'thick': 0.012, 'specH': 720.0}],\n",
    "         'space': 'main', 'nextspace': 'other'},\n",
    "        {'name': 'InnerFloor_main', 'type': 'InnerFloor', 'direction': 'Horizontal', 'area': 20.0,\n",
    "         'Layers': [{'name': 'PED', 'cond': 0.16, 'thick': 0.012, 'specH': 720.0}],\n",
    "         'space': 'main', 'nextspace': 'nonliving'},\n",
    "        {'name': 'InnerFloor_other', 'type': 'InnerFloor', 'direction': 'Horizontal', 'area': 10.0,\n",
    "         'Layers': [{'name': 'PED', 'cond': 0.16, 'thick': 0.012, 'specH': 720.0}],\n",
    "         'space': 'other', 'nextspace': 'main'},\n",
    "        {'name': 'InnerFloor_other', 'type': 'InnerFloor', 'direction': 'Horizontal', 'area': 20.0,\n",
    "         'Layers': [{'name': 'PED', 'cond': 0.16, 'thick': 0.012, 'specH': 720.0}],\n",
    "         'space': 'other', 'nextspace': 'nonliving'},\n",
    "        {'name': 'InnerFloor_nonliving', 'type': 'InnerFloor', 'direction': 'Horizontal', 'area': 30.0,\n",
    "         'Layers': [{'name': 'PED', 'cond': 0.16, 'thick': 0.012, 'specH': 720.0}],\n",
    "         'space': 'nonliving', 'nextspace': 'main'},\n",
    "        {'name': 'InnerFloor_nonliving', 'type': 'InnerFloor', 'direction': 'Horizontal', 'area': 30.0,\n",
    "         'Layers': [{'name': 'PED', 'cond': 0.16, 'thick': 0.012, 'specH': 720.0}],\n",
    "         'space': 'nonliving', 'nextspace': 'other'},\n",
    "        {'name': 'InnerCeiling_main', 'type': 'InnerCeiling', 'direction': 'Horizontal', 'area': 10.0,\n",
    "         'Layers': [{'name': 'PED', 'cond': 0.16, 'thick': 0.012, 'specH': 720.0}],\n",
    "         'space': 'main', 'nextspace': 'other'},\n",
    "        {'name': 'InnerCeiling_main', 'type': 'InnerCeiling', 'direction': 'Horizontal', 'area': 20.0,\n",
    "         'Layers': [{'name': 'PED', 'cond': 0.16, 'thick': 0.012, 'specH': 720.0}],\n",
    "         'space': 'main', 'nextspace': 'nonliving'},\n",
    "        {'name': 'InnerCeiling_other', 'type': 'InnerCeiling', 'direction': 'Horizontal', 'area': 10.0,\n",
    "         'Layers': [{'name': 'PED', 'cond': 0.16, 'thick': 0.012, 'specH': \n",
    "                     720.0}],\n",
    "         'space': 'other', 'nextspace': 'main'},\n",
    "        {'name': 'InnerCeiling_other', 'type': 'InnerCeiling', 'direction': 'Horizontal', 'area': 20.0,\n",
    "         'Layers': [{'name': 'PED', 'cond': 0.16, 'thick': 0.012, 'specH': 720.0}],\n",
    "         'space': 'other', 'nextspace': 'nonliving'},\n",
    "        {'name': 'InnerCeiling_nonliving', 'type': 'InnerCeiling', 'direction': 'Horizontal', 'area': 30.0,\n",
    "         'Layers': [{'name': 'PED', 'cond': 0.16, 'thick': 0.012, 'specH': 720.0}],\n",
    "         'space': 'nonliving', 'nextspace': 'main'},\n",
    "        {'name': 'InnerCeiling_nonliving', 'type': 'InnerCeiling', 'direction': 'Horizontal', 'area': 30.0,\n",
    "         'Layers': [{'name': 'PED', 'cond': 0.16, 'thick': 0.012, 'specH': 720.0}],\n",
    "         'space': 'nonliving', 'nextspace': 'other'}\n",
    "    ]\n",
    "}\n",
    "\n",
    "with open('C:/Users/PC/Documents/e7_inputdataconvert/Input.json', 'w') as f:\n",
    "    json.dump(convert(d), f, indent=4)"
   ]
  },
  {
   "cell_type": "code",
   "execution_count": null,
   "metadata": {},
   "outputs": [],
   "source": []
  }
 ],
 "metadata": {
  "kernelspec": {
   "display_name": "Python 3",
   "language": "python",
   "name": "python3"
  },
  "language_info": {
   "codemirror_mode": {
    "name": "ipython",
    "version": 3
   },
   "file_extension": ".py",
   "mimetype": "text/x-python",
   "name": "python",
   "nbconvert_exporter": "python",
   "pygments_lexer": "ipython3",
   "version": "3.7.0"
  }
 },
 "nbformat": 4,
 "nbformat_minor": 2
}
