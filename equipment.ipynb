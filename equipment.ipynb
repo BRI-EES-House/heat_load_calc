{
 "cells": [
  {
   "cell_type": "code",
   "execution_count": 1,
   "metadata": {},
   "outputs": [],
   "source": [
    "import nbimporter\n",
    "import math\n",
    "import numpy"
   ]
  },
  {
   "cell_type": "markdown",
   "metadata": {},
   "source": [
    "# 暖冷房設備の能力等の設定"
   ]
  },
  {
   "cell_type": "markdown",
   "metadata": {},
   "source": [
    "## 対流式暖冷房（ルームエアコンディショナー）"
   ]
  },
  {
   "cell_type": "markdown",
   "metadata": {},
   "source": [
    "平成28年省エネルギー基準に準拠したエネルギー消費性能の評価に関する技術情報（住宅）  \n",
    "2 エネルギー消費性能の算定方法  \n",
    "2.1 算定方法  \n",
    "第四章 暖冷房設備  \n",
    "第七節 温水暖房  \n",
    "付録A 機器の性能を表す仕様の決定方法   "
   ]
  },
  {
   "cell_type": "markdown",
   "metadata": {},
   "source": [
    "A.2 定格能力  \n",
    "式(1)～(2) \n",
    "ただし、定格冷房能力$q_{rtd,C}$が 5600(W)を超える場合は、定格冷房能力$q_{rtd,C}$は 5600(W)に等しいものとする。"
   ]
  },
  {
   "cell_type": "markdown",
   "metadata": {},
   "source": [
    "$$\n",
    "\\displaystyle\n",
    "q_{rtd,C}= 190.5 \\times A_{HCZ} + 45.6\n",
    "$$"
   ]
  },
  {
   "cell_type": "markdown",
   "metadata": {},
   "source": [
    "$$\n",
    "\\displaystyle\n",
    "q_{rtd,H}= 1.2090 \\times q_{rtd,C} + 85.1\n",
    "$$"
   ]
  },
  {
   "cell_type": "markdown",
   "metadata": {},
   "source": [
    "$A_{HCZ}$: ルームエアコンディショナーにより暖冷房される暖冷房区画の床面積, m<sup>2</sup>  \n",
    "$e_{rtd,C}$: 定格冷房能力, W  \n",
    "$e_{rtd,H}$: 定格暖房能力, W  "
   ]
  },
  {
   "cell_type": "markdown",
   "metadata": {},
   "source": [
    "A.3 最大能力  \n",
    "式(3)～(4)   \n",
    "ただし、定格暖房能力$q_{rtd,C}$が最大暖房能力$q_{max,C}$を超える場合は、最大暖房能力$q_{max,C}$は定格暖\n",
    "房能力$q_{rtd,C}$に等しいとする。  \n",
    "ただし、定格暖房能力$q_{rtd,H}$が最大暖房能力$q_{max,H}$を超える場合は、最大暖房能力$q_{max,H}$は定格暖\n",
    "房能力$q_{rtd,H}$に等しいとする。"
   ]
  },
  {
   "cell_type": "markdown",
   "metadata": {},
   "source": [
    "$$\n",
    "\\displaystyle\n",
    "q_{max,C}= 0.8462 \\times q_{rtd,C} + 1205.9\n",
    "$$"
   ]
  },
  {
   "cell_type": "markdown",
   "metadata": {},
   "source": [
    "$$\n",
    "\\displaystyle\n",
    "q_{max,H}= 1.7597 \\times q_{max,C} - 413.7\n",
    "$$"
   ]
  },
  {
   "cell_type": "markdown",
   "metadata": {},
   "source": [
    "$q_{max,H}$: 最大冷房能力, W  \n",
    "$q_{max,C}$: 最大暖房能力, W  "
   ]
  },
  {
   "cell_type": "markdown",
   "metadata": {},
   "source": [
    "A.4 定格エネルギー消費効率  \n",
    "式(5)～(6)  "
   ]
  },
  {
   "cell_type": "markdown",
   "metadata": {},
   "source": [
    "$$\n",
    "e_{rtd,C} = \\left \\{\n",
    "\\begin{array}{ll}\n",
    "-0.533 \\times 10^{-3} \\times e_{rtd,C} + 6.34 & ( 区分（い） ) \\\\\n",
    "-0.504 \\times 10^{-3} \\times e_{rtd,C} + 5.88 & ( 区分（ろ） ) \\\\\n",
    "-0.473 \\times 10^{-3} \\times e_{rtd,C} + 5.50 & ( 区分（は） )\n",
    "\\end{array}\n",
    "\\right.\n",
    "$$"
   ]
  },
  {
   "cell_type": "markdown",
   "metadata": {},
   "source": [
    "$$\n",
    "\\displaystyle\n",
    "e_{rtd,H}= 0.77 \\times e_{rtd,C} + 1.66\n",
    "$$"
   ]
  },
  {
   "cell_type": "markdown",
   "metadata": {},
   "source": [
    "$e_{rtd,H}$: 定格暖房エネルギー消費効率  \n",
    "$e_{rtd,C}$: 定格冷房エネルギー消費効率  "
   ]
  },
  {
   "cell_type": "markdown",
   "metadata": {},
   "source": [
    "#### Function"
   ]
  },
  {
   "cell_type": "code",
   "execution_count": 26,
   "metadata": {},
   "outputs": [],
   "source": [
    "def get_capacity_RAC(A):\n",
    "    \n",
    "    q_rtd_c = min(5600, 190.5*A + 45.6)\n",
    "                \n",
    "    q_rtd_h = 1.2090*q_rtd_c - 85.1   \n",
    "        \n",
    "    q_max_c = max(q_rtd_c, 0.8462*q_rtd_c + 1205.9)\n",
    "    \n",
    "    q_max_h = max(q_rtd_h, 1.7597*q_max_c - 413.7)\n",
    "        \n",
    "    return {'q_rtd_c': q_rtd_c, 'q_rtd_h': q_rtd_h, 'q_max_c': q_max_c, 'q_max_h': q_max_h}"
   ]
  },
  {
   "cell_type": "code",
   "execution_count": 10,
   "metadata": {},
   "outputs": [],
   "source": [
    "def get_efficiency_RAC(q_rtd_c, division):\n",
    "    \n",
    "    d_coefficient = {\n",
    "        '（い）': { 'a': -0.000553, 'b': 6.34 },\n",
    "        '（ろ）': { 'a': -0.000504, 'b': 5.88 },\n",
    "        '（は）': { 'a': -0.000473, 'b': 5.50 }       \n",
    "    }\n",
    "    \n",
    "    e_rtd_c = d_coefficient[division]['a']*q_rtd_c + d_coefficient[division]['b']\n",
    "\n",
    "    e_rtd_h = 0.77*e_rtd_c + 1.66\n",
    "\n",
    "    return {'e_rtd_c': e_rtd_c, 'e_rtd_h': e_rtd_h}"
   ]
  },
  {
   "cell_type": "markdown",
   "metadata": {},
   "source": [
    "#### Example"
   ]
  },
  {
   "cell_type": "code",
   "execution_count": 12,
   "metadata": {
    "scrolled": false
   },
   "outputs": [
    {
     "name": "stdout",
     "output_type": "stream",
     "text": [
      "{'q_rtd_c': 5600, 'q_rtd_heating': 6685.3, 'q_max_c': 5944.619999999999, 'q_max_h': 10047.047813999998} {'e_rtd_c': 3.0576, 'e_rtd_h': 4.014352} {'q_rtd_c': 5600, 'q_rtd_heating': 6685.3, 'q_max_c': 5944.619999999999, 'q_max_h': 10047.047813999998} {'e_rtd_c': 3.0576, 'e_rtd_h': 4.014352}\n"
     ]
    }
   ],
   "source": [
    "d = {\n",
    "    'Amain'  : 30.0,\n",
    "    'Aother' : 60.0,\n",
    "    'Dmain'  : '（い）',\n",
    "    'Dother' : '（ろ）'\n",
    "}\n",
    "\n",
    "q_main = get_capacity_RAC(d['Amain'])\n",
    "e_main = get_efficiency_RAC(q_main['q_rtd_c'], d['Dmain'])\n",
    "\n",
    "q_other = get_capacity_RAC(d['Aother'])\n",
    "e_other = get_efficiency_RAC(q_other['q_rtd_c'], d['Dother'])\n",
    "\n",
    "print(q_main,e_other,q_other,e_other)"
   ]
  },
  {
   "cell_type": "markdown",
   "metadata": {},
   "source": [
    "## 放射式暖冷房（温水床暖房）"
   ]
  },
  {
   "cell_type": "markdown",
   "metadata": {},
   "source": [
    "平成28年省エネルギー基準に準拠したエネルギー消費性能の評価に関する技術情報（住宅）  \n",
    "2 エネルギー消費性能の算定方法  \n",
    "2.1 算定方法  \n",
    "第四章 暖冷房設備  \n",
    "第七節 温水暖房  \n",
    "付録L 温水床暖房   \n",
    "L.5 敷設面積   \n",
    "式(4)"
   ]
  },
  {
   "cell_type": "markdown",
   "metadata": {},
   "source": [
    "$$\n",
    "\\displaystyle\n",
    "A_{f}= A_{HCZ} \\times A_{Af}\n",
    "$$"
   ]
  },
  {
   "cell_type": "markdown",
   "metadata": {},
   "source": [
    "$A_{f}$: 温水床暖房の敷設面積, m<sup>2</sup>  \n",
    "$A_{HCZ}$: 暖冷房区画の床面積, m<sup>2</sup>  \n",
    "$r_{Af}$: 温水床暖房の敷設率  "
   ]
  },
  {
   "cell_type": "markdown",
   "metadata": {},
   "source": [
    "#### Function"
   ]
  },
  {
   "cell_type": "code",
   "execution_count": 7,
   "metadata": {},
   "outputs": [],
   "source": [
    "def get_construct_area_FH(A, r):\n",
    "    \n",
    "    return A*r"
   ]
  },
  {
   "cell_type": "markdown",
   "metadata": {},
   "source": [
    "#### Example"
   ]
  },
  {
   "cell_type": "code",
   "execution_count": 8,
   "metadata": {},
   "outputs": [
    {
     "data": {
      "text/plain": [
       "15.0"
      ]
     },
     "execution_count": 8,
     "metadata": {},
     "output_type": "execute_result"
    }
   ],
   "source": [
    "A = 30\n",
    "r = 0.5\n",
    "\n",
    "get_construct_area_FH(30, 0.5)"
   ]
  },
  {
   "cell_type": "markdown",
   "metadata": {},
   "source": [
    "## 暖冷房設備種類より必要情報を取得"
   ]
  },
  {
   "cell_type": "markdown",
   "metadata": {},
   "source": [
    "暖冷房設備の種類が対流式の場合は、ルームエアコンディショナーの定格能力・最大能力・定格能力を取得する。  \n",
    "暖房設備が放射式の場合は、床暖房の敷設面積を取得する。"
   ]
  },
  {
   "cell_type": "markdown",
   "metadata": {},
   "source": [
    "#### Function"
   ]
  },
  {
   "cell_type": "code",
   "execution_count": 31,
   "metadata": {},
   "outputs": [],
   "source": [
    "def convert(A, cooling, heating):\n",
    "    \n",
    "    d = {\n",
    "        'cooling':{'main':{}, 'sub' :{}},\n",
    "        'heating':{'main':{}, 'sub' :{}}        \n",
    "    }\n",
    "\n",
    "    # 冷房\n",
    "    # 対流式\n",
    "    if cooling['type'] == 'convection' :\n",
    "        q_RAC_c = get_capacity_RAC(A)\n",
    "        e_RAC_c = get_efficiency_RAC(q_RAC_c['q_rtd_c'], cooling['division'])\n",
    "        d['cooling']['main'] = {\n",
    "            'type'   : 'room_air_conditioner',\n",
    "            'q_rtd_c': q_RAC_c['q_rtd_c'], \n",
    "            'q_max_c': q_RAC_c['q_max_c'],\n",
    "            'e_rtd_c': e_RAC_c['e_rtd_c'],\n",
    "        }        \n",
    "    elif cooling['type'] == 'radiation' :\n",
    "        raise ValueError\n",
    "    else :\n",
    "        raise ValueError   \n",
    "\n",
    "    # 暖房\n",
    "    # 対流式\n",
    "    if heating['type'] == 'convection' :\n",
    "        q_RAC_h = get_capacity_RAC(A)\n",
    "        e_RAC_h = get_efficiency_RAC(q_RAC_h['q_rtd_c'], cooling['division'])\n",
    "        d['heating']['main'] = {\n",
    "            'type'   : 'room_air_conditioner',\n",
    "            'q_rtd_h': q_RAC_h['q_rtd_h'], \n",
    "            'q_max_h': q_RAC_h['q_max_h'],\n",
    "            'e_rtd_h': e_RAC_h['e_rtd_h'],\n",
    "        }        \n",
    "    # 放射式\n",
    "    elif heating['type'] == 'radiation' :\n",
    "        d['heating']['main'] = {\n",
    "            'type'   : 'floor_heating',\n",
    "            'construct_area': get_construct_area_FH(A, heating['r']),\n",
    "        }         \n",
    "        q_RAC_h = get_capacity_RAC(A)\n",
    "        e_RAC_h = get_efficiency_RAC(q_RAC_h['q_rtd_c'], '（は）')\n",
    "        d['heating']['sub'] = {\n",
    "            'type'   : 'room_air_conditioner',\n",
    "            'q_rtd_h': q_RAC_h['q_rtd_h'], \n",
    "            'q_max_h': q_RAC_h['q_max_h'],\n",
    "            'e_rtd_h': e_RAC_h['e_rtd_h'],\n",
    "        }        \n",
    "    else :\n",
    "        raise ValueError   \n",
    "    \n",
    "    return d"
   ]
  },
  {
   "cell_type": "markdown",
   "metadata": {},
   "source": [
    "#### Example"
   ]
  },
  {
   "cell_type": "code",
   "execution_count": 34,
   "metadata": {},
   "outputs": [
    {
     "name": "stdout",
     "output_type": "stream",
     "text": [
      "{'cooling': {'main': {'q_rtd_c': 5600, 'q_max_c': 5944.619999999999, 'e_rtd_c': 3.2432}, 'sub': {}}, 'heating': {'main': {'q_rtd_h': 6685.3, 'q_max_h': 10047.047813999998, 'e_rtd_h': 4.157264}, 'sub': {}}}\n",
      "{'cooling': {'main': {'q_rtd_c': 5600, 'q_max_c': 5944.619999999999, 'e_rtd_c': 3.0576}, 'sub': {}}, 'heating': {'main': {'construct_area': 21.0}, 'sub': {'q_rtd_h': 6685.3, 'q_max_h': 10047.047813999998, 'e_rtd_h': 3.855424}}}\n"
     ]
    }
   ],
   "source": [
    "d_web = {\n",
    "    'Common':{\n",
    "        'MainOccupantRoomFloorArea': 30.0,\n",
    "        'OtherOccupantRoomFloorArea': 30.0,\n",
    "        'TotalFloorArea': 90.0,\n",
    "        'HouseType': 'detached'\n",
    "    },\n",
    "    'CoolingAndHeating':{\n",
    "        'main' : {\n",
    "            'cooling':{\n",
    "                'type': 'convection',\n",
    "                'division': '（い）'\n",
    "            },\n",
    "            'heating':{\n",
    "                'type': 'convection',\n",
    "                'division': '（ろ）'\n",
    "            },\n",
    "        },\n",
    "        'other': {\n",
    "            'cooling':{\n",
    "                'type': 'convection',\n",
    "                'division': '（ろ）'\n",
    "            },\n",
    "            'heating':{\n",
    "                'type': 'radiation',\n",
    "                'r': 0.7\n",
    "            },\n",
    "        },\n",
    "    }\n",
    "}\n",
    "\n",
    "print(convert(d_web['Common']['MainOccupantRoomFloorArea'], **d_web['CoolingAndHeating']['main']))\n",
    "print(convert(d_web['Common']['OtherOccupantRoomFloorArea'], **d_web['CoolingAndHeating']['other']))"
   ]
  },
  {
   "cell_type": "code",
   "execution_count": null,
   "metadata": {},
   "outputs": [],
   "source": []
  }
 ],
 "metadata": {
  "kernelspec": {
   "display_name": "Python 3",
   "language": "python",
   "name": "python3"
  },
  "language_info": {
   "codemirror_mode": {
    "name": "ipython",
    "version": 3
   },
   "file_extension": ".py",
   "mimetype": "text/x-python",
   "name": "python",
   "nbconvert_exporter": "python",
   "pygments_lexer": "ipython3",
   "version": "3.7.0"
  }
 },
 "nbformat": 4,
 "nbformat_minor": 2
}
