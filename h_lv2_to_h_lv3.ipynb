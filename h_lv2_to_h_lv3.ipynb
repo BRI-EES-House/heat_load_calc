{
 "cells": [
  {
   "cell_type": "code",
   "execution_count": 1,
   "metadata": {},
   "outputs": [],
   "source": [
    "import copy"
   ]
  },
  {
   "cell_type": "markdown",
   "metadata": {},
   "source": [
    "# 外皮情報LV2からLV3へのコンバート"
   ]
  },
  {
   "cell_type": "markdown",
   "metadata": {},
   "source": [
    "## I. 関数"
   ]
  },
  {
   "cell_type": "markdown",
   "metadata": {},
   "source": [
    "### 1. 主たる居室・その他の居室・非居室に接する外皮の部位の面積・長さ"
   ]
  },
  {
   "cell_type": "markdown",
   "metadata": {},
   "source": [
    "#### 1) 面積"
   ]
  },
  {
   "cell_type": "markdown",
   "metadata": {},
   "source": [
    "$$ A_{evlp,mr,i} = \\frac{ A_{f,mr} }{ A_{f,total} } A_{evlp,i} $$"
   ]
  },
  {
   "cell_type": "markdown",
   "metadata": {},
   "source": [
    "$$ A_{evlp,or,i} = \\frac{ A_{f,or} }{ A_{f,total} } A_{evlp,i} $$"
   ]
  },
  {
   "cell_type": "markdown",
   "metadata": {},
   "source": [
    "$$A_{evlp,nr,i} = \\frac{ A_{f,total} - A_{f,mr} - A_{f,or} }{ A_{f,total}}   A_{evlp,i} $$"
   ]
  },
  {
   "cell_type": "markdown",
   "metadata": {},
   "source": [
    "#### 2) 長さ"
   ]
  },
  {
   "cell_type": "markdown",
   "metadata": {},
   "source": [
    "$$ l_{evlp,mr,i} = \\frac{ A_{f,mr} }{ A_{f,total} } l_{evlp,i} $$"
   ]
  },
  {
   "cell_type": "markdown",
   "metadata": {},
   "source": [
    "$$ l_{evlp,or,i} = \\frac{ A_{f,or} }{ A_{f,total} } l_{evlp,i} $$"
   ]
  },
  {
   "cell_type": "markdown",
   "metadata": {},
   "source": [
    "$$ l_{evlp,nr,i} = \\frac{ A_{f,total} - A_{f,mr} - A_{f,or} }{ A_{f,total} } l_{evlp,i} $$"
   ]
  },
  {
   "cell_type": "markdown",
   "metadata": {},
   "source": [
    "$A_{evlp,mr,i}$：主たる居室に接する外皮の部位（一般部位・開口部）$i$の面積, m<sup>2</sup>  \n",
    "$A_{evlp,or,i}$：その他の居室に接する外皮の部位（一般部位・開口部）$i$の面積, m<sup>2</sup>  \n",
    "$A_{evlp,nr,i}$：非居室に接する外皮の部位（一般部位・開口部）$i$の面積, m<sup>2</sup>  \n",
    "$l_{evlp,mr,i}$：主たる居室に接する外皮の部位（熱橋）$i$の長さ, m  \n",
    "$l_{evlp,or,i}$：その他の居室に接する外皮の部位（熱橋）$i$の長さ, m  \n",
    "$l_{evlp,nr,i}$：非居室に接する外皮の部位（熱橋）$i$の長さ, m  \n",
    "$A_{evlp,i}$ : 外皮の部位（一般部位・開口部）$i$の面積, m<sup>2</sup>  \n",
    "$l_{evlp,i}$ : 外皮の部位（熱橋）$i$の面積, m  \n",
    "$A_{f,total}$ : 床面積の合計, m<sup>2</sup>  \n",
    "$A_{f,mr}$ : 主たる居室の床面積, m<sup>2</sup>  \n",
    "$A_{f,or}$ : その他の居室の床面積, m<sup>2</sup>  "
   ]
  },
  {
   "cell_type": "code",
   "execution_count": 2,
   "metadata": {},
   "outputs": [],
   "source": [
    "def get_separated_areas(a_evlp_i, a_f_mr, a_f_or, a_f_total):\n",
    "\n",
    "    a_evlp_mr_i = a_f_mr / a_f_total * a_evlp_i\n",
    "    a_evlp_or_i = a_f_or / a_f_total * a_evlp_i\n",
    "    a_evlp_nr_i = (a_f_total - a_f_mr - a_f_or) / a_f_total * a_evlp_i\n",
    "    \n",
    "    return a_evlp_mr_i, a_evlp_or_i, a_evlp_nr_i"
   ]
  },
  {
   "cell_type": "code",
   "execution_count": 3,
   "metadata": {},
   "outputs": [],
   "source": [
    "def get_separated_lengths(l_evlp_i, a_f_mr, a_f_or, a_f_total):\n",
    "\n",
    "    l_evlp_mr_i = a_f_mr / a_f_total * l_evlp_i\n",
    "    l_evlp_or_i = a_f_or / a_f_total * l_evlp_i\n",
    "    l_evlp_nr_i = (a_f_total - a_f_mr - a_f_or) / a_f_total * l_evlp_i\n",
    "    \n",
    "    return l_evlp_mr_i, l_evlp_or_i, l_evlp_nr_i"
   ]
  },
  {
   "cell_type": "markdown",
   "metadata": {},
   "source": [
    "$j=1$の時は主たる居室に接し、$j=2$の時はその他の居室に接し、$j=3$の時は非居室に接する"
   ]
  },
  {
   "cell_type": "code",
   "execution_count": 4,
   "metadata": {},
   "outputs": [],
   "source": [
    "def get_space_types():\n",
    "    \n",
    "    return 'main_occupant_room', 'other_occupant_room', 'non_occupant_room'"
   ]
  },
  {
   "cell_type": "code",
   "execution_count": 5,
   "metadata": {},
   "outputs": [],
   "source": [
    "def get_evlps_lv3_area(evlps_lv2, common_lv2, make_evlp_lv3):\n",
    "    \n",
    "    evlps_lv3 = []\n",
    "    \n",
    "    space_type_mr, space_type_or, space_type_nr = 'main_occupant_room', 'other_occupant_room', 'non_occupant_room'\n",
    "    \n",
    "    for evlp_lv2 in evlps_lv2:\n",
    "\n",
    "        a_evlp_mr, a_evlp_or, a_evlp_nr = get_separated_areas(\n",
    "            a_evlp_i=evlp_lv2['area'], \n",
    "            a_f_mr=common_lv2['main_occupant_room_floor_area'],\n",
    "            a_f_or=common_lv2['other_occupant_room_floor_area'], \n",
    "            a_f_total=common_lv2['total_floor_area']\n",
    "        )\n",
    "        \n",
    "        for space_type, a_evlp in zip((space_type_mr, space_type_or, space_type_nr), (a_evlp_mr, a_evlp_or, a_evlp_nr)):\n",
    "            \n",
    "            evlps_lv3.append(make_evlp_lv3(evlp_lv2, space_type, a_evlp))\n",
    "            \n",
    "    return evlps_lv3        "
   ]
  },
  {
   "cell_type": "code",
   "execution_count": 6,
   "metadata": {},
   "outputs": [],
   "source": [
    "def get_evlps_lv3_length(evlps_lv2, common_lv2, make_evlp_lv3):\n",
    "    \n",
    "    evlps_lv3 = []\n",
    "    \n",
    "    space_type_mr, space_type_or, space_type_nr = 'main_occupant_room', 'other_occupant_room', 'non_occupant_room'\n",
    "    \n",
    "    for evlp_lv2 in evlps_lv2:\n",
    "\n",
    "        l_evlp_mr, l_evlp_or, l_evlp_nr = get_separated_lengths(\n",
    "            l_evlp_i=evlp_lv2['length'], \n",
    "            a_f_mr=common_lv2['main_occupant_room_floor_area'],\n",
    "            a_f_or=common_lv2['other_occupant_room_floor_area'], \n",
    "            a_f_total=common_lv2['total_floor_area']\n",
    "        )\n",
    "        \n",
    "        for space_type, l_evlp in zip((space_type_mr, space_type_or, space_type_nr), (l_evlp_mr, l_evlp_or, l_evlp_nr)):\n",
    "            \n",
    "            evlps_lv3.append(make_evlp_lv3(evlp_lv2, space_type, l_evlp))\n",
    "            \n",
    "    return evlps_lv3  "
   ]
  },
  {
   "cell_type": "markdown",
   "metadata": {},
   "source": [
    "### 2. 外皮の部位の分類"
   ]
  },
  {
   "cell_type": "markdown",
   "metadata": {},
   "source": [
    "#### 1) 一般部"
   ]
  },
  {
   "cell_type": "code",
   "execution_count": 7,
   "metadata": {},
   "outputs": [],
   "source": [
    "def get_general_parts(general_parts, common):\n",
    "    \n",
    "    def make_general_part_lv3(evlp_lv2, space_type, a_evlp):\n",
    "        return {\n",
    "            'name'                  : evlp_lv2['name'] + '_' + space_type,\n",
    "            'general_part_type'     : evlp_lv2['general_part_type'],\n",
    "            'next_space'            : evlp_lv2['next_space'],\n",
    "            'external_surface_type' : evlp_lv2['external_surface_type'],\n",
    "            'direction'             : evlp_lv2['direction'],\n",
    "            'area'                  : a_evlp,\n",
    "            'space_type'            : space_type,\n",
    "            'spec'                  : copy.deepcopy(evlp_lv2['spec'])\n",
    "        }\n",
    "    \n",
    "    return get_evlps_lv3_area(general_parts, common, make_general_part_lv3)"
   ]
  },
  {
   "cell_type": "markdown",
   "metadata": {},
   "source": [
    "#### Example"
   ]
  },
  {
   "cell_type": "code",
   "execution_count": 8,
   "metadata": {},
   "outputs": [
    {
     "data": {
      "text/plain": [
       "[{'name': 'ceiling_main_occupant_room',\n",
       "  'general_part_type': 'ceiling',\n",
       "  'next_space': 'outdoor',\n",
       "  'external_surface_type': 'outdoor',\n",
       "  'direction': 'top',\n",
       "  'area': 16.95,\n",
       "  'space_type': 'main_occupant_room',\n",
       "  'spec': 'something'},\n",
       " {'name': 'ceiling_other_occupant_room',\n",
       "  'general_part_type': 'ceiling',\n",
       "  'next_space': 'outdoor',\n",
       "  'external_surface_type': 'outdoor',\n",
       "  'direction': 'top',\n",
       "  'area': 33.9,\n",
       "  'space_type': 'other_occupant_room',\n",
       "  'spec': 'something'},\n",
       " {'name': 'ceiling_non_occupant_room',\n",
       "  'general_part_type': 'ceiling',\n",
       "  'next_space': 'outdoor',\n",
       "  'external_surface_type': 'outdoor',\n",
       "  'direction': 'top',\n",
       "  'area': 16.95,\n",
       "  'space_type': 'non_occupant_room',\n",
       "  'spec': 'something'},\n",
       " {'name': 'floor_main_occupant_room',\n",
       "  'general_part_type': 'floor',\n",
       "  'next_space': 'outdoor',\n",
       "  'external_surface_type': 'outdoor',\n",
       "  'direction': 'bottom',\n",
       "  'area': 16.95,\n",
       "  'space_type': 'main_occupant_room',\n",
       "  'spec': 'something'},\n",
       " {'name': 'floor_other_occupant_room',\n",
       "  'general_part_type': 'floor',\n",
       "  'next_space': 'outdoor',\n",
       "  'external_surface_type': 'outdoor',\n",
       "  'direction': 'bottom',\n",
       "  'area': 33.9,\n",
       "  'space_type': 'other_occupant_room',\n",
       "  'spec': 'something'},\n",
       " {'name': 'floor_non_occupant_room',\n",
       "  'general_part_type': 'floor',\n",
       "  'next_space': 'outdoor',\n",
       "  'external_surface_type': 'outdoor',\n",
       "  'direction': 'bottom',\n",
       "  'area': 16.95,\n",
       "  'space_type': 'non_occupant_room',\n",
       "  'spec': 'something'},\n",
       " {'name': 'wall_main_occupant_room',\n",
       "  'general_part_type': 'wall',\n",
       "  'next_space': 'outdoor',\n",
       "  'external_surface_type': 'outdoor',\n",
       "  'direction': 'n',\n",
       "  'area': 16.95,\n",
       "  'space_type': 'main_occupant_room',\n",
       "  'spec': 'something'},\n",
       " {'name': 'wall_other_occupant_room',\n",
       "  'general_part_type': 'wall',\n",
       "  'next_space': 'outdoor',\n",
       "  'external_surface_type': 'outdoor',\n",
       "  'direction': 'n',\n",
       "  'area': 33.9,\n",
       "  'space_type': 'other_occupant_room',\n",
       "  'spec': 'something'},\n",
       " {'name': 'wall_non_occupant_room',\n",
       "  'general_part_type': 'wall',\n",
       "  'next_space': 'outdoor',\n",
       "  'external_surface_type': 'outdoor',\n",
       "  'direction': 'n',\n",
       "  'area': 16.95,\n",
       "  'space_type': 'non_occupant_room',\n",
       "  'spec': 'something'}]"
      ]
     },
     "execution_count": 8,
     "metadata": {},
     "output_type": "execute_result"
    }
   ],
   "source": [
    "d = {\n",
    "    'common': {\n",
    "        'region': 6,\n",
    "        'main_occupant_room_floor_area': 30.0,\n",
    "        'other_occupant_room_floor_area': 60.0,\n",
    "        'total_floor_area': 120.0\n",
    "    },\n",
    "    'envelope' : {\n",
    "        'general_parts': [\n",
    "            {\n",
    "                'name'              : 'ceiling',\n",
    "                'general_part_type' : 'ceiling',\n",
    "                'next_space'        : 'outdoor', \n",
    "                'external_surface_type' : 'outdoor',\n",
    "                'direction'         : 'top', \n",
    "                'area'              : 67.8,\n",
    "                'spec'              : 'something',\n",
    "            },\n",
    "            {\n",
    "                'name'              : 'floor',\n",
    "                'general_part_type' : 'floor',\n",
    "                'next_space'        : 'outdoor', \n",
    "                'external_surface_type' : 'outdoor',\n",
    "                'direction'         : 'bottom', \n",
    "                'area'              : 67.8,\n",
    "                'spec'              : 'something',\n",
    "            },\n",
    "            {\n",
    "                'name'              : 'wall',\n",
    "                'general_part_type' : 'wall',\n",
    "                'next_space'        : 'outdoor', \n",
    "                'external_surface_type' : 'outdoor',\n",
    "                'direction'         : 'n', \n",
    "                'area'              : 67.8,\n",
    "                'spec'              : 'something',\n",
    "            },\n",
    "        ],\n",
    "    }\n",
    "} \n",
    "\n",
    "get_general_parts(d['envelope']['general_parts'], d['common'])"
   ]
  },
  {
   "cell_type": "markdown",
   "metadata": {},
   "source": [
    "#### 2) 大部分がガラスで構成される窓等の開口部"
   ]
  },
  {
   "cell_type": "code",
   "execution_count": 9,
   "metadata": {},
   "outputs": [],
   "source": [
    "def get_windows(windows, common):\n",
    "    \n",
    "    def make_window_lv3(window_lv2, space_type, a_evlp):\n",
    "        return {\n",
    "            'name'       : window_lv2['name'] + '_' + space_type,\n",
    "            'next_space' : window_lv2['next_space'],\n",
    "            'direction'  : window_lv2['direction'],\n",
    "            'area'       : a_evlp ,\n",
    "            'space_type' : space_type,\n",
    "            'spec'       : copy.deepcopy(window_lv2['spec'])\n",
    "        }\n",
    "\n",
    "    return get_evlps_lv3_area(windows, common, make_window_lv3)"
   ]
  },
  {
   "cell_type": "markdown",
   "metadata": {},
   "source": [
    "#### Example"
   ]
  },
  {
   "cell_type": "code",
   "execution_count": 10,
   "metadata": {},
   "outputs": [
    {
     "data": {
      "text/plain": [
       "[{'name': 'window_sw_main_occupant_room',\n",
       "  'next_space': 'outdoor',\n",
       "  'direction': 'sw',\n",
       "  'area': 7.5625,\n",
       "  'space_type': 'main_occupant_room',\n",
       "  'spec': 'something'},\n",
       " {'name': 'window_sw_other_occupant_room',\n",
       "  'next_space': 'outdoor',\n",
       "  'direction': 'sw',\n",
       "  'area': 15.125,\n",
       "  'space_type': 'other_occupant_room',\n",
       "  'spec': 'something'},\n",
       " {'name': 'window_sw_non_occupant_room',\n",
       "  'next_space': 'outdoor',\n",
       "  'direction': 'sw',\n",
       "  'area': 7.5625,\n",
       "  'space_type': 'non_occupant_room',\n",
       "  'spec': 'something'},\n",
       " {'name': 'window_nw_main_occupant_room',\n",
       "  'next_space': 'outdoor',\n",
       "  'direction': 'nw',\n",
       "  'area': 0.7925,\n",
       "  'space_type': 'main_occupant_room',\n",
       "  'spec': 'something'},\n",
       " {'name': 'window_nw_other_occupant_room',\n",
       "  'next_space': 'outdoor',\n",
       "  'direction': 'nw',\n",
       "  'area': 1.585,\n",
       "  'space_type': 'other_occupant_room',\n",
       "  'spec': 'something'},\n",
       " {'name': 'window_nw_non_occupant_room',\n",
       "  'next_space': 'outdoor',\n",
       "  'direction': 'nw',\n",
       "  'area': 0.7925,\n",
       "  'space_type': 'non_occupant_room',\n",
       "  'spec': 'something'},\n",
       " {'name': 'window_sw_main_occupant_room',\n",
       "  'next_space': 'outdoor',\n",
       "  'direction': 'sw',\n",
       "  'area': 7.5625,\n",
       "  'space_type': 'main_occupant_room',\n",
       "  'spec': 'something'},\n",
       " {'name': 'window_sw_other_occupant_room',\n",
       "  'next_space': 'outdoor',\n",
       "  'direction': 'sw',\n",
       "  'area': 15.125,\n",
       "  'space_type': 'other_occupant_room',\n",
       "  'spec': 'something'},\n",
       " {'name': 'window_sw_non_occupant_room',\n",
       "  'next_space': 'outdoor',\n",
       "  'direction': 'sw',\n",
       "  'area': 7.5625,\n",
       "  'space_type': 'non_occupant_room',\n",
       "  'spec': 'something'},\n",
       " {'name': 'window_nw_main_occupant_room',\n",
       "  'next_space': 'outdoor',\n",
       "  'direction': 'nw',\n",
       "  'area': 0.7925,\n",
       "  'space_type': 'main_occupant_room',\n",
       "  'spec': 'something'},\n",
       " {'name': 'window_nw_other_occupant_room',\n",
       "  'next_space': 'outdoor',\n",
       "  'direction': 'nw',\n",
       "  'area': 1.585,\n",
       "  'space_type': 'other_occupant_room',\n",
       "  'spec': 'something'},\n",
       " {'name': 'window_nw_non_occupant_room',\n",
       "  'next_space': 'outdoor',\n",
       "  'direction': 'nw',\n",
       "  'area': 0.7925,\n",
       "  'space_type': 'non_occupant_room',\n",
       "  'spec': 'something'}]"
      ]
     },
     "execution_count": 10,
     "metadata": {},
     "output_type": "execute_result"
    }
   ],
   "source": [
    "d = {\n",
    "    'common': {\n",
    "        'region': 6,\n",
    "        'main_occupant_room_floor_area': 30.0,\n",
    "        'other_occupant_room_floor_area': 60.0,\n",
    "        'total_floor_area': 120.0\n",
    "    },\n",
    "    'envelope' : {\n",
    "        'windows': [\n",
    "            {\n",
    "                'name'       : 'window_sw',\n",
    "                'next_space' : 'outdoor',\n",
    "                'direction'  : 'sw',\n",
    "                'area'       : 30.25,\n",
    "                'spec'       : 'something',\n",
    "            },\n",
    "            {\n",
    "                'name'       : 'window_nw',\n",
    "                'next_space' : 'outdoor',\n",
    "                'direction'  : 'nw',\n",
    "                'area'       : 3.17,\n",
    "                'spec'       : 'something',\n",
    "            },\n",
    "            {\n",
    "                'name'       : 'window_sw',\n",
    "                'next_space' : 'outdoor',\n",
    "                'direction'  : 'sw',\n",
    "                'area'       : 30.25,\n",
    "                'spec'       : 'something',\n",
    "            },\n",
    "            {\n",
    "                'name'       : 'window_nw',\n",
    "                'next_space' : 'outdoor',\n",
    "                'direction'  : 'nw',\n",
    "                'area'       : 3.17,\n",
    "                'spec'       : 'something',\n",
    "            }\n",
    "        ]\n",
    "    }\n",
    "}    \n",
    "\n",
    "get_windows(d['envelope']['windows'], d['common'])"
   ]
  },
  {
   "cell_type": "markdown",
   "metadata": {},
   "source": [
    "#### 3) 大部分がガラスで構成されないドア等の開口部"
   ]
  },
  {
   "cell_type": "code",
   "execution_count": 11,
   "metadata": {},
   "outputs": [],
   "source": [
    "def get_doors(doors, common):\n",
    "    \n",
    "    def make_door_lv3(door_lv2, space_type, a_evlp):\n",
    "        return {\n",
    "            'name'       : door_lv2['name'] + '_' + space_type,\n",
    "            'next_space' : door_lv2['next_space'],\n",
    "            'direction'  : door_lv2['direction'],\n",
    "            'area'       : a_evlp,\n",
    "            'space_type' : space_type,\n",
    "            'spec'       : copy.deepcopy(door_lv2['spec'])\n",
    "        }\n",
    "    \n",
    "    return get_evlps_lv3_area(doors, common, make_door_lv3)"
   ]
  },
  {
   "cell_type": "markdown",
   "metadata": {},
   "source": [
    "#### Example"
   ]
  },
  {
   "cell_type": "code",
   "execution_count": 12,
   "metadata": {},
   "outputs": [
    {
     "data": {
      "text/plain": [
       "[{'name': 'door_nw_main_occupant_room',\n",
       "  'next_space': 'outdoor',\n",
       "  'direction': 'nw',\n",
       "  'area': 0.63,\n",
       "  'space_type': 'main_occupant_room',\n",
       "  'spec': 'something'},\n",
       " {'name': 'door_nw_other_occupant_room',\n",
       "  'next_space': 'outdoor',\n",
       "  'direction': 'nw',\n",
       "  'area': 1.26,\n",
       "  'space_type': 'other_occupant_room',\n",
       "  'spec': 'something'},\n",
       " {'name': 'door_nw_non_occupant_room',\n",
       "  'next_space': 'outdoor',\n",
       "  'direction': 'nw',\n",
       "  'area': 0.63,\n",
       "  'space_type': 'non_occupant_room',\n",
       "  'spec': 'something'},\n",
       " {'name': 'doorNE_main_occupant_room',\n",
       "  'next_space': 'outdoor',\n",
       "  'direction': 'ne',\n",
       "  'area': 0.54,\n",
       "  'space_type': 'main_occupant_room',\n",
       "  'spec': 'something'},\n",
       " {'name': 'doorNE_other_occupant_room',\n",
       "  'next_space': 'outdoor',\n",
       "  'direction': 'ne',\n",
       "  'area': 1.08,\n",
       "  'space_type': 'other_occupant_room',\n",
       "  'spec': 'something'},\n",
       " {'name': 'doorNE_non_occupant_room',\n",
       "  'next_space': 'outdoor',\n",
       "  'direction': 'ne',\n",
       "  'area': 0.54,\n",
       "  'space_type': 'non_occupant_room',\n",
       "  'spec': 'something'}]"
      ]
     },
     "execution_count": 12,
     "metadata": {},
     "output_type": "execute_result"
    }
   ],
   "source": [
    "d = {\n",
    "    'common': {\n",
    "        'region': 6,\n",
    "        'main_occupant_room_floor_area': 30.0,\n",
    "        'other_occupant_room_floor_area': 60.0,\n",
    "        'total_floor_area': 120.0\n",
    "    },\n",
    "    'envelope' : {\n",
    "        'doors': [\n",
    "            {\n",
    "                'name'       : 'door_nw',\n",
    "                'next_space' : 'outdoor',\n",
    "                'direction'  : 'nw',\n",
    "                'area'       : 2.52,\n",
    "                'spec'       : 'something'\n",
    "            },\n",
    "            {\n",
    "                'name'       : 'doorNE',\n",
    "                'next_space' : 'outdoor',\n",
    "                'direction'  : 'ne',\n",
    "                'area'       : 2.16,\n",
    "                'spec'       : 'something'\n",
    "            }\n",
    "        ]\n",
    "    }\n",
    "}    \n",
    "\n",
    "get_doors(d['envelope']['doors'], d['common'])"
   ]
  },
  {
   "cell_type": "markdown",
   "metadata": {},
   "source": [
    "#### 4) 熱橋"
   ]
  },
  {
   "cell_type": "code",
   "execution_count": 13,
   "metadata": {},
   "outputs": [],
   "source": [
    "def get_heatbridges(heatbridges, common):\n",
    "\n",
    "    def make_heatbridge_lv3(heatbridge_lv2, space_type, l_evlp):\n",
    "        return {\n",
    "            'name'       : heatbridge_lv2['name'] + '_' + space_type,\n",
    "            'next_space' : heatbridge_lv2['next_space'],\n",
    "            'direction'  : heatbridge_lv2['direction'],\n",
    "            'space_type' : space_type,\n",
    "            'length'     : l_evlp,\n",
    "            'spec'       : copy.deepcopy(heatbridge_lv2['spec']),\n",
    "        }\n",
    "\n",
    "    return get_evlps_lv3_length(heatbridges, common, make_heatbridge_lv3)\n"
   ]
  },
  {
   "cell_type": "markdown",
   "metadata": {},
   "source": [
    "#### Example"
   ]
  },
  {
   "cell_type": "code",
   "execution_count": 14,
   "metadata": {},
   "outputs": [
    {
     "data": {
      "text/plain": [
       "[{'name': 'heatbridge_ne_main_occupant_room',\n",
       "  'next_space': ['outdoor', 'outdoor'],\n",
       "  'direction': ['n', 'e'],\n",
       "  'space_type': 'main_occupant_room',\n",
       "  'length': 0.25,\n",
       "  'spec': 'something'},\n",
       " {'name': 'heatbridge_ne_other_occupant_room',\n",
       "  'next_space': ['outdoor', 'outdoor'],\n",
       "  'direction': ['n', 'e'],\n",
       "  'space_type': 'other_occupant_room',\n",
       "  'length': 0.5,\n",
       "  'spec': 'something'},\n",
       " {'name': 'heatbridge_ne_non_occupant_room',\n",
       "  'next_space': ['outdoor', 'outdoor'],\n",
       "  'direction': ['n', 'e'],\n",
       "  'space_type': 'non_occupant_room',\n",
       "  'length': 0.25,\n",
       "  'spec': 'something'},\n",
       " {'name': 'heatbridge_nw_main_occupant_room',\n",
       "  'next_space': ['outdoor', 'outdoor'],\n",
       "  'direction': ['n', 'w'],\n",
       "  'space_type': 'main_occupant_room',\n",
       "  'length': 0.5,\n",
       "  'spec': 'something'},\n",
       " {'name': 'heatbridge_nw_other_occupant_room',\n",
       "  'next_space': ['outdoor', 'outdoor'],\n",
       "  'direction': ['n', 'w'],\n",
       "  'space_type': 'other_occupant_room',\n",
       "  'length': 1.0,\n",
       "  'spec': 'something'},\n",
       " {'name': 'heatbridge_nw_non_occupant_room',\n",
       "  'next_space': ['outdoor', 'outdoor'],\n",
       "  'direction': ['n', 'w'],\n",
       "  'space_type': 'non_occupant_room',\n",
       "  'length': 0.5,\n",
       "  'spec': 'something'}]"
      ]
     },
     "execution_count": 14,
     "metadata": {},
     "output_type": "execute_result"
    }
   ],
   "source": [
    "d = {\n",
    "    'common': {\n",
    "        'region': 6,\n",
    "        'main_occupant_room_floor_area': 30.0,\n",
    "        'other_occupant_room_floor_area': 60.0,\n",
    "        'total_floor_area': 120.0\n",
    "    },\n",
    "    'envelope' : {\n",
    "        'heatbridges': [\n",
    "            {\n",
    "                'name'       : 'heatbridge_ne',\n",
    "                'next_space' : ['outdoor', 'outdoor'],\n",
    "                'direction'  : ['n', 'e'],\n",
    "                'length'     : 1.0,\n",
    "                'spec'       : 'something',\n",
    "            },\n",
    "            {\n",
    "                'name'       : 'heatbridge_nw',\n",
    "                'next_space' : ['outdoor', 'outdoor'],\n",
    "                'direction'  : ['n', 'w'],\n",
    "                'length'     : 2.0,\n",
    "                'spec'       : 'something',\n",
    "            }\n",
    "        ]\n",
    "    }\n",
    "}    \n",
    "\n",
    "get_heatbridges(d['envelope']['heatbridges'], d['common'])"
   ]
  },
  {
   "cell_type": "markdown",
   "metadata": {},
   "source": [
    "#### 5) 土間床等の外周部"
   ]
  },
  {
   "cell_type": "code",
   "execution_count": 15,
   "metadata": {},
   "outputs": [],
   "source": [
    "def get_earthfloor_perimeters(earthfloor_perimeters):\n",
    "    \n",
    "    return [\n",
    "        {\n",
    "            'name'       : earthfloor_perimeter['name'],\n",
    "            'next_space' : earthfloor_perimeter['next_space'],\n",
    "            'direction'  : earthfloor_perimeter['direction'],\n",
    "            'length'     : earthfloor_perimeter['length'],\n",
    "            'space_type' : 'underfloor',\n",
    "            'spec'       : copy.deepcopy(earthfloor_perimeter['spec']),\n",
    "        }\n",
    "        for earthfloor_perimeter in earthfloor_perimeters ]"
   ]
  },
  {
   "cell_type": "markdown",
   "metadata": {},
   "source": [
    "example"
   ]
  },
  {
   "cell_type": "code",
   "execution_count": 16,
   "metadata": {},
   "outputs": [
    {
     "data": {
      "text/plain": [
       "[{'name': 'earthfloor_perimeter_nw',\n",
       "  'next_space': 'outdoor',\n",
       "  'direction': 'nw',\n",
       "  'length': 2.43,\n",
       "  'space_type': 'underfloor',\n",
       "  'spec': 'something'},\n",
       " {'name': 'earthfloor_perimeter_ne',\n",
       "  'next_space': 'outdoor',\n",
       "  'direction': 'ne',\n",
       "  'length': 2.43,\n",
       "  'space_type': 'underfloor',\n",
       "  'spec': 'something'}]"
      ]
     },
     "execution_count": 16,
     "metadata": {},
     "output_type": "execute_result"
    }
   ],
   "source": [
    "d = {\n",
    "    'earthfloor_perimeters': [\n",
    "        {\n",
    "            'name'       : 'earthfloor_perimeter_nw',\n",
    "            'next_space' : 'outdoor',\n",
    "            'direction'  : 'nw',\n",
    "            'length'     : 2.43,\n",
    "            'spec': 'something'\n",
    "        },\n",
    "        {\n",
    "            'name'       : 'earthfloor_perimeter_ne',\n",
    "            'next_space' : 'outdoor',\n",
    "            'direction'  : 'ne',\n",
    "            'length'     : 2.43,\n",
    "            'spec': 'something'\n",
    "        }\n",
    "    ]\n",
    "}    \n",
    "\n",
    "get_earthfloor_perimeters(d['earthfloor_perimeters'])"
   ]
  },
  {
   "cell_type": "markdown",
   "metadata": {},
   "source": [
    "#### 6) 土間床等の中心部"
   ]
  },
  {
   "cell_type": "code",
   "execution_count": 17,
   "metadata": {},
   "outputs": [],
   "source": [
    "def get_earthfloor_centers(earthfloor_centers):\n",
    "    \n",
    "    return [\n",
    "        {\n",
    "            'name'       : earghfloor_center['name'],\n",
    "            'area'       : earghfloor_center['area'],\n",
    "            'space_type' : 'underfloor'\n",
    "        }\n",
    "        for earghfloor_center in earthfloor_centers ]"
   ]
  },
  {
   "cell_type": "markdown",
   "metadata": {},
   "source": [
    "example"
   ]
  },
  {
   "cell_type": "code",
   "execution_count": 18,
   "metadata": {},
   "outputs": [
    {
     "data": {
      "text/plain": [
       "[{'name': 'other', 'area': 5.0, 'space_type': 'underfloor'},\n",
       " {'name': 'entrance', 'area': 5.0, 'space_type': 'underfloor'}]"
      ]
     },
     "execution_count": 18,
     "metadata": {},
     "output_type": "execute_result"
    }
   ],
   "source": [
    "d = {\n",
    "    'earthfloor_centers': [\n",
    "        { 'area': 5.0, 'name': 'other' },\n",
    "        { 'area': 5.0, 'name': 'entrance' }\n",
    "    ]\n",
    "}    \n",
    "\n",
    "get_earthfloor_centers(d['earthfloor_centers'])"
   ]
  },
  {
   "cell_type": "markdown",
   "metadata": {},
   "source": [
    "## II. 統合"
   ]
  },
  {
   "cell_type": "code",
   "execution_count": 19,
   "metadata": {},
   "outputs": [],
   "source": [
    "def convert(d):\n",
    "    \n",
    "    common_lv2 = d['common']\n",
    "    envelope_lv2 = d['envelope']\n",
    "    \n",
    "    common_lv3 = copy.deepcopy(common_lv2)\n",
    "    envelope_lv3 = {}\n",
    "    \n",
    "    if 'general_parts' in envelope_lv2:\n",
    "        envelope_lv3['general_parts'] = get_general_parts(envelope_lv2['general_parts'], common_lv2)\n",
    "        \n",
    "    if 'windows' in envelope_lv2:\n",
    "        envelope_lv3['windows'] = get_windows(envelope_lv2['windows'], common_lv2)\n",
    "        \n",
    "    if 'doors' in envelope_lv2:\n",
    "        envelope_lv3['doors'] = get_doors(envelope_lv2['doors'], common_lv2)\n",
    "        \n",
    "    if 'heatbridges' in envelope_lv2:\n",
    "        envelope_lv3['heatbridges'] = get_heatbridges(envelope_lv2['heatbridges'], common_lv2)\n",
    "        \n",
    "    if 'earthfloor_perimeters' in envelope_lv2:\n",
    "        envelope_lv3['earthfloor_perimeters'] = get_earthfloor_perimeters(envelope_lv2['earthfloor_perimeters'])\n",
    "        \n",
    "    if 'earthfloor_centers' in envelope_lv2:\n",
    "        envelope_lv3['earthfloor_centers'] = get_earthfloor_centers(envelope_lv2['earthfloor_centers'])\n",
    "\n",
    "    return {\n",
    "        'common'   : common_lv3,\n",
    "        'envelope' : envelope_lv3,\n",
    "    }"
   ]
  },
  {
   "cell_type": "markdown",
   "metadata": {},
   "source": [
    "example"
   ]
  },
  {
   "cell_type": "code",
   "execution_count": 20,
   "metadata": {},
   "outputs": [
    {
     "data": {
      "text/plain": [
       "{'common': {'region': 6,\n",
       "  'main_occupant_room_floor_area': 30.0,\n",
       "  'other_occupant_room_floor_area': 60.0,\n",
       "  'total_floor_area': 120.0},\n",
       " 'envelope': {'general_parts': [{'name': 'ceiling_main_occupant_room',\n",
       "    'general_part_type': 'ceiling',\n",
       "    'next_space': 'outdoor',\n",
       "    'external_surface_type': 'outdoor',\n",
       "    'direction': 'top',\n",
       "    'area': 16.95,\n",
       "    'space_type': 'main_occupant_room',\n",
       "    'spec': 'something'},\n",
       "   {'name': 'ceiling_other_occupant_room',\n",
       "    'general_part_type': 'ceiling',\n",
       "    'next_space': 'outdoor',\n",
       "    'external_surface_type': 'outdoor',\n",
       "    'direction': 'top',\n",
       "    'area': 33.9,\n",
       "    'space_type': 'other_occupant_room',\n",
       "    'spec': 'something'},\n",
       "   {'name': 'ceiling_non_occupant_room',\n",
       "    'general_part_type': 'ceiling',\n",
       "    'next_space': 'outdoor',\n",
       "    'external_surface_type': 'outdoor',\n",
       "    'direction': 'top',\n",
       "    'area': 16.95,\n",
       "    'space_type': 'non_occupant_room',\n",
       "    'spec': 'something'},\n",
       "   {'name': 'floor_main_occupant_room',\n",
       "    'general_part_type': 'floor',\n",
       "    'next_space': 'outdoor',\n",
       "    'external_surface_type': 'outdoor',\n",
       "    'direction': 'bottom',\n",
       "    'area': 16.95,\n",
       "    'space_type': 'main_occupant_room',\n",
       "    'spec': 'something'},\n",
       "   {'name': 'floor_other_occupant_room',\n",
       "    'general_part_type': 'floor',\n",
       "    'next_space': 'outdoor',\n",
       "    'external_surface_type': 'outdoor',\n",
       "    'direction': 'bottom',\n",
       "    'area': 33.9,\n",
       "    'space_type': 'other_occupant_room',\n",
       "    'spec': 'something'},\n",
       "   {'name': 'floor_non_occupant_room',\n",
       "    'general_part_type': 'floor',\n",
       "    'next_space': 'outdoor',\n",
       "    'external_surface_type': 'outdoor',\n",
       "    'direction': 'bottom',\n",
       "    'area': 16.95,\n",
       "    'space_type': 'non_occupant_room',\n",
       "    'spec': 'something'},\n",
       "   {'name': 'wall_main_occupant_room',\n",
       "    'general_part_type': 'wall',\n",
       "    'next_space': 'outdoor',\n",
       "    'external_surface_type': 'outdoor',\n",
       "    'direction': 'n',\n",
       "    'area': 16.95,\n",
       "    'space_type': 'main_occupant_room',\n",
       "    'spec': 'something'},\n",
       "   {'name': 'wall_other_occupant_room',\n",
       "    'general_part_type': 'wall',\n",
       "    'next_space': 'outdoor',\n",
       "    'external_surface_type': 'outdoor',\n",
       "    'direction': 'n',\n",
       "    'area': 33.9,\n",
       "    'space_type': 'other_occupant_room',\n",
       "    'spec': 'something'},\n",
       "   {'name': 'wall_non_occupant_room',\n",
       "    'general_part_type': 'wall',\n",
       "    'next_space': 'outdoor',\n",
       "    'external_surface_type': 'outdoor',\n",
       "    'direction': 'n',\n",
       "    'area': 16.95,\n",
       "    'space_type': 'non_occupant_room',\n",
       "    'spec': 'something'},\n",
       "   {'name': 'boundary_ceiling_main_occupant_room',\n",
       "    'general_part_type': 'boundary_ceiling',\n",
       "    'next_space': 'air_conditioned',\n",
       "    'external_surface_type': 'outdoor',\n",
       "    'direction': 'upward',\n",
       "    'area': 16.95,\n",
       "    'space_type': 'main_occupant_room',\n",
       "    'spec': 'something'},\n",
       "   {'name': 'boundary_ceiling_other_occupant_room',\n",
       "    'general_part_type': 'boundary_ceiling',\n",
       "    'next_space': 'air_conditioned',\n",
       "    'external_surface_type': 'outdoor',\n",
       "    'direction': 'upward',\n",
       "    'area': 33.9,\n",
       "    'space_type': 'other_occupant_room',\n",
       "    'spec': 'something'},\n",
       "   {'name': 'boundary_ceiling_non_occupant_room',\n",
       "    'general_part_type': 'boundary_ceiling',\n",
       "    'next_space': 'air_conditioned',\n",
       "    'external_surface_type': 'outdoor',\n",
       "    'direction': 'upward',\n",
       "    'area': 16.95,\n",
       "    'space_type': 'non_occupant_room',\n",
       "    'spec': 'something'}],\n",
       "  'windows': [{'name': 'window_sw_main_occupant_room',\n",
       "    'next_space': 'outdoor',\n",
       "    'direction': 'sw',\n",
       "    'area': 7.5625,\n",
       "    'space_type': 'main_occupant_room',\n",
       "    'spec': 'something'},\n",
       "   {'name': 'window_sw_other_occupant_room',\n",
       "    'next_space': 'outdoor',\n",
       "    'direction': 'sw',\n",
       "    'area': 15.125,\n",
       "    'space_type': 'other_occupant_room',\n",
       "    'spec': 'something'},\n",
       "   {'name': 'window_sw_non_occupant_room',\n",
       "    'next_space': 'outdoor',\n",
       "    'direction': 'sw',\n",
       "    'area': 7.5625,\n",
       "    'space_type': 'non_occupant_room',\n",
       "    'spec': 'something'},\n",
       "   {'name': 'window_nw_main_occupant_room',\n",
       "    'next_space': 'outdoor',\n",
       "    'direction': 'nw',\n",
       "    'area': 0.7925,\n",
       "    'space_type': 'main_occupant_room',\n",
       "    'spec': 'something'},\n",
       "   {'name': 'window_nw_other_occupant_room',\n",
       "    'next_space': 'outdoor',\n",
       "    'direction': 'nw',\n",
       "    'area': 1.585,\n",
       "    'space_type': 'other_occupant_room',\n",
       "    'spec': 'something'},\n",
       "   {'name': 'window_nw_non_occupant_room',\n",
       "    'next_space': 'outdoor',\n",
       "    'direction': 'nw',\n",
       "    'area': 0.7925,\n",
       "    'space_type': 'non_occupant_room',\n",
       "    'spec': 'something'}],\n",
       "  'doors': [{'name': 'door_nw_main_occupant_room',\n",
       "    'next_space': 'outdoor',\n",
       "    'direction': 'nw',\n",
       "    'area': 0.63,\n",
       "    'space_type': 'main_occupant_room',\n",
       "    'spec': 'something'},\n",
       "   {'name': 'door_nw_other_occupant_room',\n",
       "    'next_space': 'outdoor',\n",
       "    'direction': 'nw',\n",
       "    'area': 1.26,\n",
       "    'space_type': 'other_occupant_room',\n",
       "    'spec': 'something'},\n",
       "   {'name': 'door_nw_non_occupant_room',\n",
       "    'next_space': 'outdoor',\n",
       "    'direction': 'nw',\n",
       "    'area': 0.63,\n",
       "    'space_type': 'non_occupant_room',\n",
       "    'spec': 'something'}],\n",
       "  'heatbridges': [{'name': 'heatbridge_ne_main_occupant_room',\n",
       "    'next_space': ['outdoor', 'outdoor'],\n",
       "    'direction': ['n', 'e'],\n",
       "    'space_type': 'main_occupant_room',\n",
       "    'length': 0.25,\n",
       "    'spec': 'something'},\n",
       "   {'name': 'heatbridge_ne_other_occupant_room',\n",
       "    'next_space': ['outdoor', 'outdoor'],\n",
       "    'direction': ['n', 'e'],\n",
       "    'space_type': 'other_occupant_room',\n",
       "    'length': 0.5,\n",
       "    'spec': 'something'},\n",
       "   {'name': 'heatbridge_ne_non_occupant_room',\n",
       "    'next_space': ['outdoor', 'outdoor'],\n",
       "    'direction': ['n', 'e'],\n",
       "    'space_type': 'non_occupant_room',\n",
       "    'length': 0.25,\n",
       "    'spec': 'something'}],\n",
       "  'earthfloor_perimeters': [{'name': 'earthfloor_perimeter_nw',\n",
       "    'next_space': 'outdoor',\n",
       "    'direction': 'nw',\n",
       "    'length': 2.43,\n",
       "    'space_type': 'underfloor',\n",
       "    'spec': 'something'}],\n",
       "  'earthfloor_centers': [{'name': 'other',\n",
       "    'area': 5.0,\n",
       "    'space_type': 'underfloor'},\n",
       "   {'name': 'entrance', 'area': 5.0, 'space_type': 'underfloor'}]}}"
      ]
     },
     "execution_count": 20,
     "metadata": {},
     "output_type": "execute_result"
    }
   ],
   "source": [
    "d = {\n",
    "    'common': {\n",
    "        'region': 6,\n",
    "        'main_occupant_room_floor_area': 30.0,\n",
    "        'other_occupant_room_floor_area': 60.0,\n",
    "        'total_floor_area': 120.0\n",
    "    },\n",
    "    'envelope' : {\n",
    "        'general_parts': [\n",
    "            {\n",
    "                'name'       : 'ceiling',\n",
    "                'general_part_type'  : 'ceiling',\n",
    "                'next_space' : 'outdoor',\n",
    "                'external_surface_type' : 'outdoor',\n",
    "                'direction'  : 'top',\n",
    "                'area'       : 67.8,\n",
    "                'spec'       : 'something'\n",
    "            },\n",
    "            {\n",
    "                'name'       : 'floor',\n",
    "                'general_part_type'  : 'floor',\n",
    "                'next_space' : 'outdoor',\n",
    "                'external_surface_type' : 'outdoor',\n",
    "                'direction'  : 'bottom',\n",
    "                'area'       : 67.8,\n",
    "                'spec'       : 'something'\n",
    "            },\n",
    "            {\n",
    "                'name'       : 'wall',\n",
    "                'general_part_type'  : 'wall',\n",
    "                'next_space' : 'outdoor',\n",
    "                'external_surface_type' : 'outdoor',\n",
    "                'direction'  : 'n',\n",
    "                'area'       : 67.8,\n",
    "                'spec'       : 'something'\n",
    "            },\n",
    "            {\n",
    "                'name'       : 'boundary_ceiling',\n",
    "                'general_part_type'  : 'boundary_ceiling',\n",
    "                'next_space' : 'air_conditioned',\n",
    "                'external_surface_type' : 'outdoor',\n",
    "                'direction'  : 'upward',\n",
    "                'area'       : 67.8,\n",
    "                'spec'       : 'something'\n",
    "            },\n",
    "        ],\n",
    "        'windows': [\n",
    "            {\n",
    "                'name'       : 'window_sw',\n",
    "                'next_space' : 'outdoor',\n",
    "                'direction'  : 'sw',\n",
    "                'area'       : 30.25,\n",
    "                'spec'       : 'something'\n",
    "            },\n",
    "            {\n",
    "                'name'       : 'window_nw', \n",
    "                'next_space' : 'outdoor', \n",
    "                'direction'  : 'nw', \n",
    "                'area'       : 3.17, \n",
    "                'spec'       : 'something'\n",
    "            },\n",
    "        ],\n",
    "        'doors': [\n",
    "            {\n",
    "                'name'       : 'door_nw',\n",
    "                'next_space' : 'outdoor',\n",
    "                'direction'  : 'nw',\n",
    "                'area'       : 2.52,\n",
    "                'spec'       : 'something'\n",
    "            },\n",
    "        ],\n",
    "        'heatbridges': [\n",
    "            {\n",
    "                'name'       : 'heatbridge_ne',\n",
    "                'length'     : 1.00,\n",
    "                'next_space' : ['outdoor', 'outdoor'],\n",
    "                'direction'  : ['n', 'e'],\n",
    "                'spec'       : 'something'\n",
    "            },\n",
    "        ],\n",
    "        'earthfloor_perimeters': [\n",
    "            {\n",
    "                'name'       : 'earthfloor_perimeter_nw',\n",
    "                'next_space' : 'outdoor',\n",
    "                'direction'  : 'nw',\n",
    "                'length'     : 2.43,\n",
    "                'spec'       : 'something'\n",
    "            },\n",
    "        ],\n",
    "        'earthfloor_centers': [\n",
    "            { 'area': 5.0, 'name': 'other' },\n",
    "            { 'area': 5.0, 'name': 'entrance' }\n",
    "        ],\n",
    "    }\n",
    "}\n",
    "\n",
    "convert(d)"
   ]
  },
  {
   "cell_type": "code",
   "execution_count": null,
   "metadata": {},
   "outputs": [],
   "source": []
  }
 ],
 "metadata": {
  "kernelspec": {
   "display_name": "Python 3",
   "language": "python",
   "name": "python3"
  },
  "language_info": {
   "codemirror_mode": {
    "name": "ipython",
    "version": 3
   },
   "file_extension": ".py",
   "mimetype": "text/x-python",
   "name": "python",
   "nbconvert_exporter": "python",
   "pygments_lexer": "ipython3",
   "version": "3.6.4"
  }
 },
 "nbformat": 4,
 "nbformat_minor": 2
}
