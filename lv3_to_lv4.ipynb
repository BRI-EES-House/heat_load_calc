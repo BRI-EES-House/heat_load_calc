{
 "cells": [
  {
   "cell_type": "code",
   "execution_count": 1,
   "metadata": {},
   "outputs": [],
   "source": [
    "import copy"
   ]
  },
  {
   "cell_type": "markdown",
   "metadata": {},
   "source": [
    "# 外皮情報LV3からLV4へのコンバート"
   ]
  },
  {
   "cell_type": "markdown",
   "metadata": {},
   "source": [
    "## I. 関数"
   ]
  },
  {
   "cell_type": "markdown",
   "metadata": {},
   "source": [
    "### 1. 間仕切り床"
   ]
  },
  {
   "cell_type": "markdown",
   "metadata": {},
   "source": [
    "#### 1) 床の仕様"
   ]
  },
  {
   "cell_type": "markdown",
   "metadata": {},
   "source": [
    "| 番号 | 材料 | 熱伝導率, W m<sup>-1</sup> K<sup>-1</sup> | 容積比熱, J L<sup>-1</sup> K<sup>-1</sup> | 厚さ, m |\n",
    "|---|---|---|---|---|\n",
    "| 1 | 合板 | 0.16 | 720.0 | 0.024 |"
   ]
  },
  {
   "cell_type": "code",
   "execution_count": 2,
   "metadata": {},
   "outputs": [],
   "source": [
    "def get_inner_floor_spec():\n",
    "    \n",
    "    return {\n",
    "        'layers' : [\n",
    "            {\n",
    "                'name'                            : 'plywood',\n",
    "                'thermal_resistance_input_method' : 'conductivity',\n",
    "                'thermal_conductivity'            : 0.16,\n",
    "                'volumetric_specific_heat'        : 720.0,\n",
    "                'thickness'                       : 0.024,\n",
    "            }\n",
    "        ]\n",
    "    }"
   ]
  },
  {
   "cell_type": "markdown",
   "metadata": {},
   "source": [
    "#### 2) 方位が下面である外皮の部位の面積の合計"
   ]
  },
  {
   "cell_type": "markdown",
   "metadata": {},
   "source": [
    "$$A_{evlp,down,MR} = \\sum_i{A_{evlp,down,MR,i}}$$ "
   ]
  },
  {
   "cell_type": "markdown",
   "metadata": {},
   "source": [
    "$$A_{evlp,down,OR} = \\sum_i{A_{evlp,down,OR,i}}$$ "
   ]
  },
  {
   "cell_type": "markdown",
   "metadata": {},
   "source": [
    "$$A_{evlp,down,NR} = \\sum_i{A_{evlp,down,NR,i}}$$ "
   ]
  },
  {
   "cell_type": "markdown",
   "metadata": {},
   "source": [
    "$A_{evlp,down,MR}$：主たる居室に接する方位が下面である外皮の部位の面積の合計, m<sup>2</sup>  \n",
    "$A_{evlp,down,OR}$：その他の居室に接する方位が下面である外皮の部位の面積の合計, m<sup>2</sup>  \n",
    "$A_{evlp,down,NR}$：非居室に接する方位が下面である外皮の部位の面積の合計, m<sup>2</sup>  \n",
    "$A_{evlp,down,MR,i}$：主たる居室に接する方位が下面である外皮の部位iの面積, m<sup>2</sup>  \n",
    "$A_{evlp,down,OR,i}$：その他の居室に接する方位が下面である外皮の部位iの面積, m<sup>2</sup>  \n",
    "$A_{evlp,down,NR,i}$：非居室に接する方位が下面である外皮の部位iの面積, m<sup>2</sup>  "
   ]
  },
  {
   "cell_type": "code",
   "execution_count": 3,
   "metadata": {},
   "outputs": [],
   "source": [
    "def get_downward_envelope_total_area(envelope):\n",
    "\n",
    "    parts = []\n",
    "\n",
    "    if 'general_parts' in envelope: parts.extend(envelope['general_parts']) \n",
    "    \n",
    "    if 'windows' in envelope: parts.extend(envelope['windows'])\n",
    "        \n",
    "    if 'doors' in envelope: parts.extend(envelope['doors'])\n",
    "    \n",
    "    def f(space_type):\n",
    "        return sum(part['area'] for part in parts\n",
    "                   if part['space_type'] == space_type and (part['direction'] == 'bottom' or part['direction'] == 'downward'))\n",
    "\n",
    "    return f('main_occupant_room'), f('other_occupant_room'), f('non_occupant_room')"
   ]
  },
  {
   "cell_type": "markdown",
   "metadata": {},
   "source": [
    "#### 3) 土間床等の中心部の面積の合計"
   ]
  },
  {
   "cell_type": "markdown",
   "metadata": {},
   "source": [
    "$$A_{ef,MR} = \\sum_i {A_{ef,MR,i}}$$ "
   ]
  },
  {
   "cell_type": "markdown",
   "metadata": {},
   "source": [
    "$$A_{ef,OR}=\\sum_i{A_{ef,OR,i}}$$"
   ]
  },
  {
   "cell_type": "markdown",
   "metadata": {},
   "source": [
    "$$A_{ef,NR}=\\sum_i{A_{ef,NR,i}}$$ "
   ]
  },
  {
   "cell_type": "markdown",
   "metadata": {},
   "source": [
    "$$A_{ef,uf}=\\sum_i{A_{ef,uf,i}}$$ "
   ]
  },
  {
   "cell_type": "markdown",
   "metadata": {},
   "source": [
    "$A_{ef,MR}$：主たる居室に接する土間床等の中心部の面積の合計, m<sup>2</sup>  \n",
    "$A_{ef,OR}$：その他の居室に接する土間床等の中心部の面積の合計, m<sup>2</sup>  \n",
    "$A_{ef,NR}$：非居室に接する土間床等の中心部の面積の合計, m<sup>2</sup>  \n",
    "$A_{ef,uf}$：床下空間に接する土間床等の中心部の面積の合計, m<sup>2</sup>  \n",
    "$A_{ef,MR,i}$：主たる居室に接する土間床等の中心部$i$の面積, m<sup>2</sup>  \n",
    "$A_{ef,OR,i}$：その他の居室に接する土間床等の中心部$i$の面積, m<sup>2</sup>  \n",
    "$A_{ef,NR,i}$：非居室に接する土間床等の中心部$i$の面積, m<sup>2</sup>  \n",
    "$A_{ef,uf}$：床下空間に接する土間床等の中心部$i$の面積, m<sup>2</sup>  "
   ]
  },
  {
   "cell_type": "code",
   "execution_count": 4,
   "metadata": {},
   "outputs": [],
   "source": [
    "def get_earthfloor_total_area(envelope):\n",
    "\n",
    "    parts = []\n",
    "    \n",
    "    if 'earthfloor_centers' in envelope: parts.extend(envelope['earthfloor_centers'])\n",
    "    \n",
    "    def f(space_type):\n",
    "        return sum(part['area'] for part in parts\n",
    "                   if part['space_type'] == space_type)\n",
    "\n",
    "    return f('main_occupant_room'), f('other_occupant_room'), f('non_occupant_room'), f('under_floor')"
   ]
  },
  {
   "cell_type": "markdown",
   "metadata": {},
   "source": [
    "#### 4) 間仕切り床の面積の合計"
   ]
  },
  {
   "cell_type": "markdown",
   "metadata": {},
   "source": [
    "$$\n",
    "A_{if,MR} = \\max \\left( 0, A_{MR} - A_{evlp,down,MR} - A_{ef,MR} \\right)\n",
    "$$"
   ]
  },
  {
   "cell_type": "markdown",
   "metadata": {},
   "source": [
    "$$\n",
    "A_{if,OR} = \\max \\left( 0, A_{OR} - A_{evlp,down,OR} - A_{ef,OR} \\right)\n",
    "$$"
   ]
  },
  {
   "cell_type": "markdown",
   "metadata": {},
   "source": [
    "$$\n",
    "A_{if,NR} = \\max \\left( 0, A_A - A_{MR} - A_{OR} - A_{evlp,down,NR} - A_{ef,NR} \\right)\n",
    "$$"
   ]
  },
  {
   "cell_type": "markdown",
   "metadata": {},
   "source": [
    "$A_{if,MR}$：床上側が主たる居室に接する間仕切り床の面積の合計, m<sup>2</sup>  \n",
    "$A_{if,OR}$：床上側がその他の居室に接する間仕切り床の面積の合計, m<sup>2</sup>  \n",
    "$A_{if,NR}$：床上側が非居室に接する間仕切り床の面積の合計, m<sup>2</sup>  \n",
    "$A_{MR}$: 主たる居室の床面積, m<sup>2</sup>  \n",
    "$A_{OR}$: その他の居室の床面積, m<sup>2</sup>  \n",
    "$A_{A}$: 床面積の合計, m<sup>2</sup>   \n",
    "$A_{evlp,down,MR}$：主たる居室に接する方位が下面である外皮の部位の面積の合計, m<sup>2</sup>  \n",
    "$A_{evlp,down,OR}$：その他の居室に接する方位が下面である外皮の部位の面積の合計, m<sup>2</sup>  \n",
    "$A_{evlp,down,NR}$：非居室に接する方位が下面である外皮の部位の面積の合計, m<sup>2</sup>  \n",
    "$A_{ef,MR}$：主たる居室に接する土間床等の中心部の面積の合計, m<sup>2</sup>  \n",
    "$A_{ef,OR}$：その他の居室に接する土間床等の中心部の面積の合計, m<sup>2</sup>  \n",
    "$A_{ef,NR}$：非居室に接する土間床等の中心部の面積の合計, m<sup>2</sup>  "
   ]
  },
  {
   "cell_type": "code",
   "execution_count": 5,
   "metadata": {},
   "outputs": [],
   "source": [
    "def get_inner_floor_total_area(a_a, a_mr, a_or,\n",
    "                               a_evlp_down_mr, a_evlp_down_or, a_evlp_down_nr,\n",
    "                               a_ef_mr, a_ef_or, a_ef_nr):\n",
    "\n",
    "    a_if_mr = max(0.0, a_mr - a_evlp_down_mr - a_ef_mr)\n",
    "    a_if_or = max(0.0, a_or - a_evlp_down_or - a_ef_or)\n",
    "    a_if_nr = max(0.0, a_a - a_mr - a_or - a_evlp_down_nr - a_ef_nr)\n",
    "    \n",
    "    return a_if_mr, a_if_or, a_if_nr"
   ]
  },
  {
   "cell_type": "markdown",
   "metadata": {},
   "source": [
    "#### 5) 間仕切り床の面積の合計（床下側が床下空間）"
   ]
  },
  {
   "cell_type": "markdown",
   "metadata": {},
   "source": [
    "$A_{if,MR} + A_{if,OR} + A_{if,NR} > 0$の場合"
   ]
  },
  {
   "cell_type": "markdown",
   "metadata": {},
   "source": [
    "$$A_{if,MR-uf} = A_{ef,uf} \\frac{A_{if,MR}}{A_{if,MR} + A_{if,OR} + A_{if,NR}}$$"
   ]
  },
  {
   "cell_type": "markdown",
   "metadata": {},
   "source": [
    "$$A_{if,OR-uf} = A_{ef,uf} \\frac{A_{if,OR}}{A_{if,MR} + A_{if,OR} + A_{if,NR}}$$"
   ]
  },
  {
   "cell_type": "markdown",
   "metadata": {},
   "source": [
    "$$A_{if,NR-uf} = A_{ef,uf} \\frac{A_{if,NR}}{A_{if,MR} + A_{if,OR} + A_{if,NR}}$$"
   ]
  },
  {
   "cell_type": "markdown",
   "metadata": {},
   "source": [
    "$A_{if,MR} + A_{if,OR} + A_{if,NR} = 0$の場合"
   ]
  },
  {
   "cell_type": "markdown",
   "metadata": {},
   "source": [
    "$$A_{if,MR-uf}=0$$"
   ]
  },
  {
   "cell_type": "markdown",
   "metadata": {},
   "source": [
    "$$A_{if,OR-uf}=0$$"
   ]
  },
  {
   "cell_type": "markdown",
   "metadata": {},
   "source": [
    "$$A_{if,NR-uf}=0$$"
   ]
  },
  {
   "cell_type": "markdown",
   "metadata": {},
   "source": [
    "$A_{if,MR-uf}$：床上側が主たる居室に接し床下側が床下空間に接する間仕切り床の面積の合計, m<sup>2</sup>  \n",
    "$A_{if,OR-uf}$：床上側がその他の居室に接し床下側が床下空間に接する間仕切り床の面積の合計, m<sup>2</sup>  \n",
    "$A_{if,NR-uf}$：床上側が非居室に接し床下側が床下空間に接する間仕切り床の面積の合計, m<sup>2</sup>  \n",
    "$A_{ef,uf}$：床下空間に接する土間床等の中心部の面積の合計, m<sup>2</sup>  \n",
    "$A_{if,MR}$：床上側が主たる居室に接する間仕切り床の面積の合計, m<sup>2</sup>  \n",
    "$A_{if,OR}$：床上側がその他の居室に接する間仕切り床の面積の合計, m<sup>2</sup>  \n",
    "$A_{if,NR}$：床上側が非居室に接する間仕切り床の面積の合計, m<sup>2</sup>  "
   ]
  },
  {
   "cell_type": "code",
   "execution_count": 6,
   "metadata": {},
   "outputs": [],
   "source": [
    "def get_inner_floor_over_underfloor_total_area(a_if_mr, a_if_or, a_if_nr, a_ef_uf):\n",
    "    \n",
    "    if (a_if_mr + a_if_or + a_if_nr) > 0.0:\n",
    "        a_if_mr_uf = a_ef_uf * a_if_mr / (a_if_mr + a_if_or + a_if_nr)\n",
    "        a_if_or_uf = a_ef_uf * a_if_or / (a_if_mr + a_if_or + a_if_nr)\n",
    "        a_if_nr_uf = a_ef_uf * a_if_nr / (a_if_mr + a_if_or + a_if_nr)\n",
    "    else :\n",
    "        a_if_mr_uf = 0.0\n",
    "        a_if_or_uf = 0.0\n",
    "        a_if_nr_uf = 0.0\n",
    "    \n",
    "    return a_if_mr_uf, a_if_or_uf, a_if_nr_uf"
   ]
  },
  {
   "cell_type": "markdown",
   "metadata": {},
   "source": [
    "#### 6) 間仕切り床の面積の合計（床下側が主たる居室・その他の居室・非居室）"
   ]
  },
  {
   "cell_type": "markdown",
   "metadata": {},
   "source": [
    "$$ A_{if,MR-OR,NR} = \\max{ \\left( 0, A_{if,MR}-A_{if,MR-uf} \\right) } $$"
   ]
  },
  {
   "cell_type": "markdown",
   "metadata": {},
   "source": [
    "$$ A_{if,OR-MR,NR} = \\max{ \\left( 0, A_{if,OR}-A_{if,OR-uf} \\right) } $$"
   ]
  },
  {
   "cell_type": "markdown",
   "metadata": {},
   "source": [
    "$$ A_{if,NR-MR,OR} = \\max{ \\left( 0, A_{if,NR}-A_{if,NR-uf} \\right) } $$"
   ]
  },
  {
   "cell_type": "markdown",
   "metadata": {},
   "source": [
    "$A_{OR}=0$かつ$A_{NR}=0$の場合"
   ]
  },
  {
   "cell_type": "markdown",
   "metadata": {},
   "source": [
    "$$A_{if,MR-OR}=0$$"
   ]
  },
  {
   "cell_type": "markdown",
   "metadata": {},
   "source": [
    "$$A_{if,MR-NR}=0$$"
   ]
  },
  {
   "cell_type": "markdown",
   "metadata": {},
   "source": [
    "$$A_{if,OR-MR}=0$$"
   ]
  },
  {
   "cell_type": "markdown",
   "metadata": {},
   "source": [
    "$$A_{if,OR-NR}=0$$"
   ]
  },
  {
   "cell_type": "markdown",
   "metadata": {},
   "source": [
    "$$A_{if,NR-MR}=0$$"
   ]
  },
  {
   "cell_type": "markdown",
   "metadata": {},
   "source": [
    "$$A_{if,NR-OR}=0$$"
   ]
  },
  {
   "cell_type": "markdown",
   "metadata": {},
   "source": [
    "$A_{OR}=0$かつ$A_{NR}\\ne0$の場合"
   ]
  },
  {
   "cell_type": "markdown",
   "metadata": {},
   "source": [
    "$$A_{if,MR-OR}=0$$"
   ]
  },
  {
   "cell_type": "markdown",
   "metadata": {},
   "source": [
    "$$A_{if,MR-NR}=A_{if,MR-OR,NR}$$"
   ]
  },
  {
   "cell_type": "markdown",
   "metadata": {},
   "source": [
    "$$A_{if,OR-MR}=0$$"
   ]
  },
  {
   "cell_type": "markdown",
   "metadata": {},
   "source": [
    "$$A_{if,OR-NR}=0$$"
   ]
  },
  {
   "cell_type": "markdown",
   "metadata": {},
   "source": [
    "$$A_{if,NR-MR}=A_{if,NR-MR,OR}$$"
   ]
  },
  {
   "cell_type": "markdown",
   "metadata": {},
   "source": [
    "$$A_{if,NR-OR}=0$$"
   ]
  },
  {
   "cell_type": "markdown",
   "metadata": {},
   "source": [
    "$A_{OR}\\ne0$かつ$A_{NR}=0$の場合"
   ]
  },
  {
   "cell_type": "markdown",
   "metadata": {},
   "source": [
    "$$A_{if,MR-OR}=A_{if,MR-OR,NR}$$"
   ]
  },
  {
   "cell_type": "markdown",
   "metadata": {},
   "source": [
    "$$A_{if,MR-NR}=0$$"
   ]
  },
  {
   "cell_type": "markdown",
   "metadata": {},
   "source": [
    "$$A_{if,NR-MR}=0$$"
   ]
  },
  {
   "cell_type": "markdown",
   "metadata": {},
   "source": [
    "$$A_{if,NR-OR}=0$$"
   ]
  },
  {
   "cell_type": "markdown",
   "metadata": {},
   "source": [
    "$$A_{if,OR-MR}=A_{if,OR-MR,NR}$$"
   ]
  },
  {
   "cell_type": "markdown",
   "metadata": {},
   "source": [
    "$$A_{if,OR-NR}=0$$"
   ]
  },
  {
   "cell_type": "markdown",
   "metadata": {},
   "source": [
    "$A_{OR}\\ne0$かつ$A_{NR}\\ne0$の場合"
   ]
  },
  {
   "cell_type": "markdown",
   "metadata": {},
   "source": [
    "$$A_{if,MR-OR} = \\frac{ A_{if,MR-OR,NR} }{ 2 }$$"
   ]
  },
  {
   "cell_type": "markdown",
   "metadata": {},
   "source": [
    "$$A_{if,MR-NR} = \\frac{ A_{if,MR-OR,NR} }{ 2 }$$"
   ]
  },
  {
   "cell_type": "markdown",
   "metadata": {},
   "source": [
    "$$A_{if,OR-MR} = \\frac{ A_{if,OR-MR,NR} }{ 2 }$$"
   ]
  },
  {
   "cell_type": "markdown",
   "metadata": {},
   "source": [
    "$$A_{if,OR-NR} = \\frac{ A_{if,OR-MR,NR} }{ 2 }$$"
   ]
  },
  {
   "cell_type": "markdown",
   "metadata": {},
   "source": [
    "$$A_{if,NR-MR} = \\frac{ A_{if,NR-MR,OR} }{ 2 }$$"
   ]
  },
  {
   "cell_type": "markdown",
   "metadata": {},
   "source": [
    "$$A_{if,NR-OR} = \\frac{ A_{if,NR-MR,OR} }{ 2 }$$"
   ]
  },
  {
   "cell_type": "markdown",
   "metadata": {},
   "source": [
    "$A_{if,MR-OR,NR}$:床上側が主たる居室に接し床下側がその他の居室又は非居室に接する間仕切り床の面積の合計, m<sup>2</sup>  \n",
    "$A_{if,OR-MR,NR}$:床上側がその他の居室に接し床下側が主たる居室又は非居室に接する間仕切り床の面積の合計, m<sup>2</sup>  \n",
    "$A_{if,NR-MR,OR}$:床上側が非居室に接し床下側が主たる居室又はその他の居室に接する間仕切り床の面積の合計, m<sup>2</sup>  \n",
    "$A_{if,MR}$:床上側が主たる居室に接する間仕切り床の面積の合計, m<sup>2</sup>  \n",
    "$A_{if,OR}$:床上側がその他の居室に接する間仕切り床の面積の合計, m<sup>2</sup>  \n",
    "$A_{if,NR}$:床上側が非居室に接する間仕切り床の面積の合計, m<sup>2</sup>  \n",
    "$A_{if,MR-uf}$:床上側が主たる居室に接し床下側が床下空間に接する間仕切り床の面積の合計, m<sup>2</sup>  \n",
    "$A_{if,OR-uf}$:床上側がその他の居室に接し床下側が床下空間に接する間仕切り床の面積の合計, m<sup>2</sup>  \n",
    "$A_{if,NR-uf}$:床上側が非居室に接し床下側が床下空間に接する間仕切り床の面積の合計, m<sup>2</sup>  \n",
    "$A_{if,MR-OR}$:床上側が主たる居室に接し床下側がその他の居室に接する間仕切り床の面積の合計, m<sup>2</sup>  \n",
    "$A_{if,MR-NR}$:床上側が主たる居室に接し床下側が非居室に接する間仕切り床の面積の合計, m<sup>2</sup>  \n",
    "$A_{if,OR-MR}$:床上側がその他の居室に接し床下側が主たる居室に接する間仕切り床の面積の合計, m<sup>2</sup>  \n",
    "$A_{if,OR-NR}$:床上側がその他の居室に接し床下側が非居室に接する間仕切り床の面積の合計, m<sup>2</sup>  \n",
    "$A_{if,NR-MR}$:床上側が非居室に接し床下側が主たる居室に接する間仕切り床の面積の合計, m<sup>2</sup>  \n",
    "$A_{if,NR-OR}$:床上側が非居室に接し床下側がその他の居室に接する間仕切り床の面積の合計, m<sup>2</sup>  "
   ]
  },
  {
   "cell_type": "code",
   "execution_count": 7,
   "metadata": {},
   "outputs": [],
   "source": [
    "def get_inner_floor_between_rooms(a_mr, a_or, a_a, a_if_mr, a_if_or, a_if_nr, a_if_mr_uf, a_if_or_uf, a_if_nr_uf):\n",
    "    \n",
    "    a_nr = a_a - a_mr - a_or\n",
    "    \n",
    "    if a_mr <= 0.0:\n",
    "        raise ValueError('主たる居室の面積に0又は負の値が指定されました。主たる居室は必ず0より大きい値を指定する必要があります。')\n",
    "    \n",
    "    a_if_mr_or_nr = max(0.0, a_if_mr - a_if_mr_uf)\n",
    "    a_if_or_mr_nr = max(0.0, a_if_or - a_if_or_uf)\n",
    "    a_if_nr_mr_or = max(0.0, a_if_nr - a_if_nr_uf)\n",
    "\n",
    "    if a_or <= 0.0 and a_nr <= 0.0:\n",
    "        a_if_mr_or = 0.0\n",
    "        a_if_mr_nr = 0.0\n",
    "        a_if_or_mr = 0.0\n",
    "        a_if_or_nr = 0.0\n",
    "        a_if_nr_mr = 0.0\n",
    "        a_if_nr_or = 0.0\n",
    "    elif a_or <= 0.0:\n",
    "        a_if_mr_or = 0.0\n",
    "        a_if_mr_nr = a_if_mr_or_nr\n",
    "        a_if_or_mr = 0.0\n",
    "        a_if_or_nr = 0.0\n",
    "        a_if_nr_mr = a_if_nr_mr_or\n",
    "        a_if_nr_or = 0.0\n",
    "    elif a_nr <= 0.0:\n",
    "        a_if_mr_or = a_if_mr_or_nr\n",
    "        a_if_mr_nr = 0.0\n",
    "        a_if_or_mr = a_if_or_mr_nr\n",
    "        a_if_or_nr = 0.0\n",
    "        a_if_nr_mr = 0.0\n",
    "        a_if_nr_or = 0.0\n",
    "    else:\n",
    "        a_if_mr_or = a_if_mr_or_nr / 2\n",
    "        a_if_mr_nr = a_if_mr_or_nr / 2\n",
    "        a_if_or_mr = a_if_or_mr_nr / 2\n",
    "        a_if_or_nr = a_if_or_mr_nr / 2\n",
    "        a_if_nr_mr = a_if_nr_mr_or / 2\n",
    "        a_if_nr_or = a_if_nr_mr_or / 2\n",
    "    \n",
    "    return a_if_mr_or, a_if_mr_nr, a_if_or_mr, a_if_or_nr, a_if_nr_mr, a_if_nr_or"
   ]
  },
  {
   "cell_type": "markdown",
   "metadata": {},
   "source": [
    "#### 3) 室と床下空間の間の床の構築"
   ]
  },
  {
   "cell_type": "code",
   "execution_count": 8,
   "metadata": {},
   "outputs": [],
   "source": [
    "def get_area_temporary(d):\n",
    "    \n",
    "    a_mr = d['common']['main_occupant_room_floor_area']\n",
    "    a_or = d['common']['other_occupant_room_floor_area']\n",
    "    a_a  = d['common']['total_floor_area']\n",
    "\n",
    "    a_evlp_down_mr, a_evlp_down_or, a_evlp_down_nr = get_downward_envelope_total_area(d)\n",
    "    \n",
    "    a_ef_mr, a_ef_or, a_ef_nr, a_ef_uf = get_earthfloor_total_area(d)\n",
    "\n",
    "    a_if_mr, a_if_or, a_if_nr = get_inner_floor_total_area(a_a, a_mr, a_or,\n",
    "                                                           a_evlp_down_mr, a_evlp_down_or, a_evlp_down_nr,\n",
    "                                                           a_ef_mr, a_ef_or, a_ef_nr)\n",
    "\n",
    "    return get_inner_floor_over_underfloor_total_area(a_if_mr, a_if_or, a_if_nr, a_ef_uf)"
   ]
  },
  {
   "cell_type": "code",
   "execution_count": 9,
   "metadata": {},
   "outputs": [],
   "source": [
    "def get_floor_area_over_room(d):\n",
    "\n",
    "    a_mr = d['common']['main_occupant_room_floor_area']\n",
    "    a_or = d['common']['other_occupant_room_floor_area']\n",
    "    a_a  = d['common']['total_floor_area']\n",
    "\n",
    "    a_evlp_down_mr, a_evlp_down_or, a_evlp_down_nr = get_downward_envelope_total_area(d)\n",
    "    \n",
    "    a_ef_mr, a_ef_or, a_ef_nr, a_ef_uf = get_earthfloor_total_area(d)\n",
    "\n",
    "    a_if_mr, a_if_or, a_if_nr = get_inner_floor_total_area(a_a, a_mr, a_or,\n",
    "                                                           a_evlp_down_mr, a_evlp_down_or, a_evlp_down_nr,\n",
    "                                                           a_ef_mr, a_ef_or, a_ef_nr)\n",
    "    \n",
    "    a_if_mr_uf, a_if_or_uf, a_if_nr_uf = get_inner_floor_over_underfloor_total_area(a_if_mr, a_if_or, a_if_nr, a_ef_uf)\n",
    "    \n",
    "        \n",
    "    return get_inner_floor_between_rooms(a_mr, a_or, a_a, a_if_mr, a_if_or, a_if_nr, a_if_mr_uf, a_if_or_uf, a_if_nr_uf)"
   ]
  },
  {
   "cell_type": "code",
   "execution_count": 10,
   "metadata": {},
   "outputs": [],
   "source": [
    "def get_innerwall_groundfloor(d):\n",
    "    \n",
    "    # 室と床下空間の間の床面積の推定\n",
    "    a_if_mr, a_if_or, a_if_nr = get_area_temporary(d)\n",
    "    \n",
    "    # 壁体名称、部位面積を更新し、「壁体が属する空間種類」「隣接空間種類」を追加する\n",
    "    ifs = []\n",
    "    \n",
    "    if a_if_mr > 0.0:\n",
    "        ifs.append({\n",
    "            'name' : 'GroundFloor_Main',\n",
    "            'type' : 'GroundFloor',\n",
    "            'direction' : 'Horizontal',\n",
    "            'area' : a_if_mr,\n",
    "            'Layers' : get_inner_floor_spec(),\n",
    "            'space_type' : 'main',\n",
    "            'nextspace': 'underfloor'\n",
    "        })\n",
    "        ifs.append({\n",
    "            'name' : 'GroundFloor_Main',\n",
    "            'type' : 'GroundFloor',\n",
    "            'direction' : 'Horizontal',\n",
    "            'area' : a_if_mr,\n",
    "            'Layers' : get_inner_floor_spec(),\n",
    "            'space_type' : 'underfloor',\n",
    "            'nextspace': 'main'\n",
    "        })\n",
    "    \n",
    "    if a_if_or > 0.0:\n",
    "        ifs.append({\n",
    "            'name' : 'GroundFloor_Other',\n",
    "            'type' : 'GroundFloor',\n",
    "            'direction' : 'Horizontal',\n",
    "            'area' : a_if_or,\n",
    "            'Layers' : get_inner_floor_spec(),\n",
    "            'space_type' : 'other',\n",
    "            'nextspace': 'underfloor'\n",
    "        })\n",
    "        ifs.append({\n",
    "            'name' : 'GroundFloor_Other',\n",
    "            'type' : 'GroundFloor',\n",
    "            'direction' : 'Horizontal',\n",
    "            'area' : a_if_or,\n",
    "            'Layers' : get_inner_floor_spec(),\n",
    "            'space_type' : 'underfloor',\n",
    "            'nextspace': 'other'                \n",
    "        })\n",
    "        \n",
    "    if a_if_nr > 0.0:\n",
    "        ifs.append({\n",
    "            'name' : 'GroundFloor_Nonliving',\n",
    "            'type' : 'GroundFloor',\n",
    "            'direction' : 'Horizontal',\n",
    "            'area' : a_if_nr,\n",
    "            'Layers' : get_inner_floor_spec(),\n",
    "            'space_type' : 'nonliving',\n",
    "            'nextspace': 'underfloor'\n",
    "        })\n",
    "        ifs.append({\n",
    "            'name' : 'GroundFloor_Nonliving',\n",
    "            'type' : 'GroundFloor',\n",
    "            'direction' : 'Horizontal',\n",
    "            'area' : a_if_nr,\n",
    "            'Layers' : get_inner_floor_spec(),\n",
    "            'space_type' : 'underfloor',\n",
    "            'nextspace': 'nonliving'\n",
    "        })\n",
    "        \n",
    "    return ifs"
   ]
  },
  {
   "cell_type": "markdown",
   "metadata": {},
   "source": [
    "##### Example"
   ]
  },
  {
   "cell_type": "code",
   "execution_count": 11,
   "metadata": {},
   "outputs": [
    {
     "data": {
      "text/plain": [
       "[]"
      ]
     },
     "execution_count": 11,
     "metadata": {},
     "output_type": "execute_result"
    }
   ],
   "source": [
    "d = {\n",
    "    'common': {\n",
    "        'region': 6,\n",
    "        'main_occupant_room_floor_area': 30.0,\n",
    "        'other_occupant_room_floor_area': 60.0,\n",
    "        'total_floor_area': 120.0\n",
    "    },\n",
    "    'general_parts': [\n",
    "        { 'name': 'Ceiling', 'type': 'Ceiling', 'structure': 'wood', 'InputMethod' :'InputUA', \n",
    "          'direction': 'top', 'area': 60, 'space_type': 'main', 'UA': 0.24, 'IsSunshadeInput': False },\n",
    "        { 'name': 'Ceiling', 'type': 'Ceiling', 'structure': 'wood', 'InputMethod' :'InputAllDetails', 'direction': 'top', \n",
    "          'area': 60, 'space_type': 'main',\n",
    "          'Parts': [{'AreaRatio': 0.8, 'Layers': [{'name': 'wood','thick': 0.012, 'cond': 0.16, 'specH': 720 },\n",
    "                                                  {'name': 'wood','thick': 0.012, 'cond': 0.16, 'specH': 720 }]},\n",
    "                    {'AreaRatio': 0.2, 'Layers': [{'name': 'wood','thick': 0.012, 'cond': 0.16, 'specH': 720 },\n",
    "                                                  {'name': 'wood','thick': 0.012, 'cond': 0.16, 'specH': 720 }]}],\n",
    "          'IsSunshadeInput': False },\n",
    "        { 'name': 'Floor', 'type': 'Floor', 'structure': 'wood', 'InputMethod' :'InputAllLayers', 'direction': 'bottom', \n",
    "          'area': 60, 'space_type': 'main',\n",
    "          'FloorConstructionMethod' :'FrameInsulcolumn',\n",
    "          'Parts': [{'TypeFloor': 'Insulation', 'Layers': [{'name': 'wood','thick': 0.012, 'cond': 0.16, 'specH': 720 },\n",
    "                                                           {'name': 'wood','thick': 0.012, 'cond': 0.16, 'specH': 720 }]},\n",
    "                    {'TypeFloor': 'Heatbridge', 'Layers': [{'name': 'wood','thick': 0.012, 'cond': 0.16, 'specH': 720 },\n",
    "                                                           {'name': 'wood','thick': 0.012, 'cond': 0.16, 'specH': 720 }]}],\n",
    "           'IsSunshadeInput': False }\n",
    "    ],\n",
    "    'windows': [\n",
    "        { 'name': 'WindowTop', 'direction': 'top', 'area': 30, 'space_type': 'main', 'UW': 6.51, 'TypeWindow': 'Single', \n",
    "          'IsEtaValueInput': False, 'TypeFrame': 'WoodOrResin', 'TypeGlass': '3WgG', 'TypeShade': 'Shoji', 'IsSunshadeInput': False }\n",
    "    ],\n",
    "    'earthfloor_centers': [\n",
    "        { 'name': 'other', 'area': 5.0, 'space_type': 'underfloor' },\n",
    "        { 'name': 'entrance', 'area': 5.0, 'space_type': 'underfloor' }\n",
    "    ]\n",
    "}\n",
    "\n",
    "innerwall_groundfloor = get_innerwall_groundfloor(d)\n",
    "innerwall_groundfloor"
   ]
  },
  {
   "cell_type": "markdown",
   "metadata": {},
   "source": [
    "### 8.3. InnerWalls Element - Inner Floor"
   ]
  },
  {
   "cell_type": "markdown",
   "metadata": {},
   "source": [
    "#### 2) 室上の床面積の推定"
   ]
  },
  {
   "cell_type": "markdown",
   "metadata": {},
   "source": [
    "##### Function"
   ]
  },
  {
   "cell_type": "markdown",
   "metadata": {},
   "source": [
    "##### Example"
   ]
  },
  {
   "cell_type": "code",
   "execution_count": 12,
   "metadata": {},
   "outputs": [
    {
     "data": {
      "text/plain": [
       "(15.0, 15.0, 30.0, 30.0, 15.0, 15.0)"
      ]
     },
     "execution_count": 12,
     "metadata": {},
     "output_type": "execute_result"
    }
   ],
   "source": [
    "d = {\n",
    "    'common': {\n",
    "        'region': 6,\n",
    "        'main_occupant_room_floor_area': 30.0,\n",
    "        'other_occupant_room_floor_area': 60.0,\n",
    "        'total_floor_area': 120.0\n",
    "    },\n",
    "    'general_parts': [\n",
    "        { 'name': 'Ceiling', 'type': 'Ceiling', 'structure': 'wood', 'InputMethod' :'InputUA', \n",
    "          'direction': 'top', 'area': 60, 'space_type': 'main', 'UA': 0.24, 'IsSunshadeInput': False },\n",
    "        { 'name': 'Ceiling', 'type': 'Ceiling', 'structure': 'wood', 'InputMethod' :'InputAllDetails', 'direction': 'top', \n",
    "          'area': 60, 'space_type': 'main',\n",
    "          'Parts': [{'AreaRatio': 0.8, 'Layers': [{'name': 'wood','thick': 0.012, 'cond': 0.16, 'specH': 720 },\n",
    "                                                  {'name': 'wood','thick': 0.012, 'cond': 0.16, 'specH': 720 }]},\n",
    "                    {'AreaRatio': 0.2, 'Layers': [{'name': 'wood','thick': 0.012, 'cond': 0.16, 'specH': 720 },\n",
    "                                                  {'name': 'wood','thick': 0.012, 'cond': 0.16, 'specH': 720 }]}],\n",
    "          'IsSunshadeInput': False },\n",
    "        { 'name': 'Floor', 'type': 'Floor', 'structure': 'wood', 'InputMethod' :'InputAllLayers', 'direction': 'bottom', \n",
    "          'area': 60, 'space_type': 'main',\n",
    "          'FloorConstructionMethod' :'FrameInsulcolumn',\n",
    "          'Parts': [{'TypeFloor': 'Insulation', 'Layers': [{'name': 'wood','thick': 0.012, 'cond': 0.16, 'specH': 720 },\n",
    "                                                           {'name': 'wood','thick': 0.012, 'cond': 0.16, 'specH': 720 }]},\n",
    "                    {'TypeFloor': 'Heatbridge', 'Layers': [{'name': 'wood','thick': 0.012, 'cond': 0.16, 'specH': 720 },\n",
    "                                                           {'name': 'wood','thick': 0.012, 'cond': 0.16, 'specH': 720 }]}],\n",
    "           'IsSunshadeInput': False }\n",
    "    ],\n",
    "    'windows': [\n",
    "        { 'name': 'WindowTop', 'direction': 'top', 'area': 30, 'space_type': 'main', 'UW': 6.51, 'TypeWindow': 'Single', \n",
    "          'IsEtaValueInput': False, 'TypeFrame': 'WoodOrResin', 'TypeGlass': '3WgG', 'TypeShade': 'Shoji', 'IsSunshadeInput': False }\n",
    "    ],\n",
    "    'earthfloor_centers': [\n",
    "        { 'name': 'other', 'area': 5.0, 'space_type': 'underfloor' },\n",
    "        { 'name': 'entrance', 'area': 5.0, 'space_type': 'underfloor' }\n",
    "    ]\n",
    "}\n",
    "\n",
    "innerwalls = [\n",
    "        { 'area': 60, 'name': 'GroundFloor_Main', 'type' : 'GroundFloor', 'space_type': 'main', 'nextspace' : 'underfloor', 'direction' : 'Horizontal', 'Layers' : get_inner_floor_spec()},\n",
    "        { 'area': 15, 'name': 'GroundFloor_Other', 'type' : 'GroundFloor', 'space_type': 'other', 'nextspace' : 'underfloor', 'direction' : 'Horizontal', 'Layers' : get_inner_floor_spec()},\n",
    "]\n",
    "\n",
    "get_floor_area_over_room(d)"
   ]
  },
  {
   "cell_type": "markdown",
   "metadata": {},
   "source": [
    "#### 3) 室間の床と天井の面積の推定"
   ]
  },
  {
   "cell_type": "markdown",
   "metadata": {},
   "source": [
    "##### Function "
   ]
  },
  {
   "cell_type": "code",
   "execution_count": 13,
   "metadata": {},
   "outputs": [],
   "source": [
    "def get_slab_area_between_rooms(d, innerwalls):\n",
    "    \n",
    "    def get_if(space_type_name, next_space_name, area):\n",
    "        return {\n",
    "            'name' : 'InnerFloor' + space_type_name + next_space_name,\n",
    "            'area' : area,\n",
    "            'space_type' : space_type_name,\n",
    "            'nextspace' : next_space_name\n",
    "        }\n",
    "    \n",
    "    def get_ic(space_type_name, next_space_name, area):\n",
    "        return {\n",
    "            'name' : 'InnerCeiling' + space_type_name + next_space_name,\n",
    "            'area' : area,\n",
    "            'space_type' : space_type_name,\n",
    "            'nextspace' : next_space_name\n",
    "        }\n",
    "    \n",
    "    # 室上の床面積の取得\n",
    "    a_if_mr_or, a_if_mr_nr, a_if_or_mr, a_if_or_nr, a_if_nr_mr, a_if_nr_or = get_floor_area_over_room(d)\n",
    "\n",
    "    # 部屋間の床面積・天井面積を求める。\n",
    "    ifs = []\n",
    "    ics = []\n",
    "    \n",
    "    if a_if_mr > 0.0 and a_if_or > 0.0 and a_if_nr > 0.0:\n",
    "\n",
    "        ifs.append(get_if('main',      'other',     a_if_mr_or))\n",
    "        ifs.append(get_if('main',      'nonliving', a_if_mr_nr))\n",
    "        ifs.append(get_if('other',     'main',      a_if_or_mr))\n",
    "        ifs.append(get_if('other',     'nonliving', a_if_or_nr))\n",
    "        ifs.append(get_if('nonliving', 'main',      a_if_nr_mr))\n",
    "        ifs.append(get_if('nonliving', 'other',     a_if_nr_or))\n",
    "\n",
    "        ics.append(get_ic('other',     'main',      a_if_mr_or))\n",
    "        ics.append(get_ic('main',      'other',     a_if_or_mr))\n",
    "        ics.append(get_ic('nonliving', 'main',      a_if_mr_nr))\n",
    "        ics.append(get_ic('main',      'nonliving', a_if_nr_mr))\n",
    "        ics.append(get_ic('nonliving', 'other',     a_if_or_nr))\n",
    "        ics.append(get_ic('other',     'nonliving', a_if_nr_or))\n",
    "        \n",
    "    elif a_if_mr > 0.0 and a_if_or > 0.0:\n",
    "\n",
    "        ifs.append(get_if('main', 'other', a_if_mr))\n",
    "        ifs.append(get_if('other', 'main', a_if_or))\n",
    " \n",
    "        ics.append(get_ic('other', 'main', a_if_mr))\n",
    "        ics.append(get_ic('main', 'other', a_if_or))      \n",
    "         \n",
    "    elif a_if_mr > 0.0 and a_if_nr > 0.0:\n",
    "        \n",
    "        ifs.append(get_if('main', 'nonliving', a_if_mr))\n",
    "        ifs.append(get_if('nonliving', 'main', a_if_nr))\n",
    "\n",
    "        ics.append(get_ic('nonliving', 'main', a_if_mr))\n",
    "        ics.append(get_ic('main', 'nonliving', a_if_nr))\n",
    "        \n",
    "    elif a_if_or > 0.0 and a_if_nr > 0.0:\n",
    "        \n",
    "        ifs.append(get_if('other', 'nonliving', a_if_or))\n",
    "        ifs.append(get_if('nonliving', 'other', a_if_nr))\n",
    "\n",
    "        ics.append(get_ic('nonliving', 'other', a_if_or))\n",
    "        ics.append(get_ic('other', 'nonliving', a_if_nr))\n",
    "  \n",
    "    return {'InnerFloors' : ifs, 'InnerCeilings' : ics}"
   ]
  },
  {
   "cell_type": "markdown",
   "metadata": {},
   "source": [
    "#### 4) 室間の床・天井の構築"
   ]
  },
  {
   "cell_type": "markdown",
   "metadata": {},
   "source": [
    "##### Function"
   ]
  },
  {
   "cell_type": "code",
   "execution_count": 14,
   "metadata": {},
   "outputs": [],
   "source": [
    "def get_innerwall_innerslab(d, innerwalls):\n",
    "    \n",
    "    # 室間の床・天井面積の推定\n",
    "    areas_innerslab = get_slab_area_between_rooms(d, innerwalls)\n",
    "    \n",
    "    # 壁体名称、部位面積を更新し、「壁体が属する空間種類」「隣接空間種類」を追加する\n",
    "    ifs = []\n",
    "    \n",
    "    ifs.extend([ {\n",
    "        'name' : 'InnerFloor_' + x['space_type'],\n",
    "        'type' : 'InnerFloor',\n",
    "        'direction' : 'Horizontal',\n",
    "        'area' : x['area'],\n",
    "        'Layers' : get_inner_floor_spec(),\n",
    "        'space_type' : x['space_type'], \n",
    "        'nextspace' : x['nextspace'],\n",
    "    } for x in areas_innerslab['InnerFloors'] ])\n",
    "    \n",
    "    ifs.extend([ {\n",
    "        'name' : 'InnerCeiling_' + x['space_type'],\n",
    "        'type' : 'InnerCeiling',\n",
    "        'direction' : 'Horizontal',\n",
    "        'area' : x['area'],\n",
    "        'Layers' : get_inner_floor_spec(),\n",
    "        'space_type' : x['space_type'], \n",
    "        'nextspace' : x['nextspace'],\n",
    "    } for x in areas_innerslab['InnerCeilings'] ])\n",
    "        \n",
    "    return ifs"
   ]
  },
  {
   "cell_type": "markdown",
   "metadata": {},
   "source": [
    "#### Example"
   ]
  },
  {
   "cell_type": "code",
   "execution_count": 15,
   "metadata": {},
   "outputs": [
    {
     "ename": "NameError",
     "evalue": "name 'a_if_mr' is not defined",
     "output_type": "error",
     "traceback": [
      "\u001b[1;31m---------------------------------------------------------------------------\u001b[0m",
      "\u001b[1;31mNameError\u001b[0m                                 Traceback (most recent call last)",
      "\u001b[1;32m<ipython-input-15-0ec4704b7622>\u001b[0m in \u001b[0;36m<module>\u001b[1;34m()\u001b[0m\n\u001b[0;32m     40\u001b[0m ]\n\u001b[0;32m     41\u001b[0m \u001b[1;33m\u001b[0m\u001b[0m\n\u001b[1;32m---> 42\u001b[1;33m \u001b[0mget_slab_area_between_rooms\u001b[0m\u001b[1;33m(\u001b[0m\u001b[0md\u001b[0m\u001b[1;33m,\u001b[0m \u001b[0minnerwalls\u001b[0m\u001b[1;33m)\u001b[0m\u001b[1;33m\u001b[0m\u001b[0m\n\u001b[0m",
      "\u001b[1;32m<ipython-input-13-2e2fa5ec9ff6>\u001b[0m in \u001b[0;36mget_slab_area_between_rooms\u001b[1;34m(d, innerwalls)\u001b[0m\n\u001b[0;32m     24\u001b[0m     \u001b[0mics\u001b[0m \u001b[1;33m=\u001b[0m \u001b[1;33m[\u001b[0m\u001b[1;33m]\u001b[0m\u001b[1;33m\u001b[0m\u001b[0m\n\u001b[0;32m     25\u001b[0m \u001b[1;33m\u001b[0m\u001b[0m\n\u001b[1;32m---> 26\u001b[1;33m     \u001b[1;32mif\u001b[0m \u001b[0ma_if_mr\u001b[0m \u001b[1;33m>\u001b[0m \u001b[1;36m0.0\u001b[0m \u001b[1;32mand\u001b[0m \u001b[0ma_if_or\u001b[0m \u001b[1;33m>\u001b[0m \u001b[1;36m0.0\u001b[0m \u001b[1;32mand\u001b[0m \u001b[0ma_if_nr\u001b[0m \u001b[1;33m>\u001b[0m \u001b[1;36m0.0\u001b[0m\u001b[1;33m:\u001b[0m\u001b[1;33m\u001b[0m\u001b[0m\n\u001b[0m\u001b[0;32m     27\u001b[0m \u001b[1;33m\u001b[0m\u001b[0m\n\u001b[0;32m     28\u001b[0m         \u001b[0mifs\u001b[0m\u001b[1;33m.\u001b[0m\u001b[0mappend\u001b[0m\u001b[1;33m(\u001b[0m\u001b[0mget_if\u001b[0m\u001b[1;33m(\u001b[0m\u001b[1;34m'main'\u001b[0m\u001b[1;33m,\u001b[0m      \u001b[1;34m'other'\u001b[0m\u001b[1;33m,\u001b[0m     \u001b[0ma_if_mr_or\u001b[0m\u001b[1;33m)\u001b[0m\u001b[1;33m)\u001b[0m\u001b[1;33m\u001b[0m\u001b[0m\n",
      "\u001b[1;31mNameError\u001b[0m: name 'a_if_mr' is not defined"
     ]
    }
   ],
   "source": [
    "d = {\n",
    "    'common': {\n",
    "        'region': 6,\n",
    "        'main_occupant_room_floor_area': 30.0,\n",
    "        'other_occupant_room_floor_area': 60.0,\n",
    "        'total_floor_area': 120.0\n",
    "    },\n",
    "    'general_parts': [\n",
    "        { 'name': 'Ceiling', 'type': 'Ceiling', 'structure': 'wood', 'InputMethod' :'InputUA', \n",
    "          'direction': 'top', 'area': 60, 'space_type': 'main', 'UA': 0.24, 'IsSunshadeInput': False },\n",
    "        { 'name': 'Ceiling', 'type': 'Ceiling', 'structure': 'wood', 'InputMethod' :'InputAllDetails', 'direction': 'top', \n",
    "          'area': 60, 'space_type': 'main',\n",
    "          'Parts': [{'AreaRatio': 0.8, 'Layers': [{'name': 'wood','thick': 0.012, 'cond': 0.16, 'specH': 720 },\n",
    "                                                  {'name': 'wood','thick': 0.012, 'cond': 0.16, 'specH': 720 }]},\n",
    "                    {'AreaRatio': 0.2, 'Layers': [{'name': 'wood','thick': 0.012, 'cond': 0.16, 'specH': 720 },\n",
    "                                                  {'name': 'wood','thick': 0.012, 'cond': 0.16, 'specH': 720 }]}],\n",
    "          'IsSunshadeInput': False },\n",
    "        { 'name': 'Floor', 'type': 'Floor', 'structure': 'wood', 'InputMethod' :'InputAllLayers', 'direction': 'bottom', \n",
    "          'area': 60, 'space_type': 'main',\n",
    "          'FloorConstructionMethod' :'FrameInsulcolumn',\n",
    "          'Parts': [{'TypeFloor': 'Insulation', 'Layers': [{'name': 'wood','thick': 0.012, 'cond': 0.16, 'specH': 720 },\n",
    "                                                           {'name': 'wood','thick': 0.012, 'cond': 0.16, 'specH': 720 }]},\n",
    "                    {'TypeFloor': 'Heatbridge', 'Layers': [{'name': 'wood','thick': 0.012, 'cond': 0.16, 'specH': 720 },\n",
    "                                                           {'name': 'wood','thick': 0.012, 'cond': 0.16, 'specH': 720 }]}],\n",
    "           'IsSunshadeInput': False }\n",
    "    ],\n",
    "    'windows': [\n",
    "        { 'name': 'WindowTop', 'direction': 'top', 'area': 30, 'space_type': 'main', 'UW': 6.51, 'TypeWindow': 'Single', \n",
    "          'IsEtaValueInput': False, 'TypeFrame': 'WoodOrResin', 'TypeGlass': '3WgG', 'TypeShade': 'Shoji', 'IsSunshadeInput': False }\n",
    "    ],\n",
    "    'earthfloor_centers': [\n",
    "        { 'name': 'other', 'area': 5.0, 'space_type': 'underfloor' },\n",
    "        { 'name': 'entrance', 'area': 5.0, 'space_type': 'underfloor' }\n",
    "    ]\n",
    "}\n",
    "\n",
    "innerwalls = [\n",
    "        { 'area': 60, 'name': 'GroundFloor_Main', 'type' : 'GroundFloor', 'space_type': 'main', 'nextspace' : 'underfloor', 'direction' : 'Horizontal', 'Layers' : get_inner_floor_spec()},\n",
    "        { 'area': 15, 'name': 'GroundFloor_Other', 'type' : 'GroundFloor', 'space_type': 'other', 'nextspace' : 'underfloor', 'direction' : 'Horizontal', 'Layers' : get_inner_floor_spec()},\n",
    "]\n",
    "\n",
    "get_slab_area_between_rooms(d, innerwalls)"
   ]
  },
  {
   "cell_type": "markdown",
   "metadata": {},
   "source": [
    "### 8.5. InnerWalls Element - Inner Wall "
   ]
  },
  {
   "cell_type": "markdown",
   "metadata": {},
   "source": [
    "#### 4) 方位が水平（上面・下面以外）である外皮の部位の面積の合計"
   ]
  },
  {
   "cell_type": "code",
   "execution_count": null,
   "metadata": {},
   "outputs": [],
   "source": [
    "def get_outside_wall_area(d):\n",
    "\n",
    "    parts = []\n",
    "\n",
    "    if 'general_parts' in d:\n",
    "        parts.extend(d['general_parts'])\n",
    "        \n",
    "    if 'windows' in d:\n",
    "        parts.extend(d['windows'])\n",
    "        \n",
    "    if 'doors' in d:\n",
    "        parts.extend(d['doors'])\n",
    "\n",
    "    def f(room_type):\n",
    "        return sum(part['area'] for part in parts \\\n",
    "                   if part['space_type'] == room_type and part['direction'] != 'top' and part['direction'] != 'bottom')\n",
    "    \n",
    "    return f('Main'), f('Other'), f('Nonliving')"
   ]
  },
  {
   "cell_type": "markdown",
   "metadata": {},
   "source": [
    "#### 1) 層構成"
   ]
  },
  {
   "cell_type": "markdown",
   "metadata": {},
   "source": [
    "以下の層構成とする。"
   ]
  },
  {
   "cell_type": "markdown",
   "metadata": {},
   "source": [
    "| 材料 | 厚さ, m | 熱伝導率, W m<sup>-1</sup> K<sup>-1</sup> | 熱抵抗, m<sup>2</sup>2 k W<sup>-1</sup> | 容積比熱, J L<sup>-1</sup> K<sup>-1</sup> |\n",
    "|---|---|---|---|\n",
    "| せっこうボード | 0.0125 | 0.22 | 0.0568 | 830.0 |\n",
    "| 非密閉空気層 | - | - | 0.090 | 0.0 |\n",
    "| せっこうボード | 0.0125 | 0.22 | 0.0568 | 830.0 |"
   ]
  },
  {
   "cell_type": "markdown",
   "metadata": {},
   "source": [
    "##### Function"
   ]
  },
  {
   "cell_type": "code",
   "execution_count": null,
   "metadata": {},
   "outputs": [],
   "source": [
    "def get_inner_wall_layers():\n",
    "    return [\n",
    "        {'name': 'GPB', 'cond': 0.22,   'thick': 0.0125, 'specH': 830.0},\n",
    "        {'name': 'GPB', 'cond': 1/0.09, 'thick': 1,      'specH': 0},\n",
    "        {'name': 'GPB', 'cond': 0.22,   'thick': 0.0125, 'specH': 830.0}\n",
    "    ]"
   ]
  },
  {
   "cell_type": "markdown",
   "metadata": {},
   "source": [
    "#### 2) 内壁等面積の推定"
   ]
  },
  {
   "cell_type": "markdown",
   "metadata": {},
   "source": [
    "用途間の内壁等の面積は、各用途の内壁等の面積より決定する。"
   ]
  },
  {
   "cell_type": "markdown",
   "metadata": {},
   "source": [
    "$$\n",
    "A_{iw,MR-OR} =\\frac{ A_{iw,MR} + A_{iw,OR} - A_{iw,NR} }{2}\n",
    "$$"
   ]
  },
  {
   "cell_type": "markdown",
   "metadata": {},
   "source": [
    "$$\n",
    "A_{iw,MR-NR} = \\frac{ A_{iw,MR} + A_{iw,NR} - A_{iw,OR} }{2}\n",
    "$$"
   ]
  },
  {
   "cell_type": "markdown",
   "metadata": {},
   "source": [
    "$$\n",
    "A_{iw,NR-OR} = \\frac{ A_{iw,NR} + A_{iw,OR} - A_{iw,MR} }{2}\n",
    "$$"
   ]
  },
  {
   "cell_type": "markdown",
   "metadata": {},
   "source": [
    "$ \\because $"
   ]
  },
  {
   "cell_type": "markdown",
   "metadata": {},
   "source": [
    "$$\n",
    "A_{iw,MR} =A_{iw,MR-OR}+A_{iw,MR-NR}\n",
    "$$\n",
    "\n",
    "$$\n",
    "A_{iw,OR} =A_{iw,MR-OR}+A_{iw,OR-NR}\n",
    "$$\n",
    "\n",
    "$$\n",
    "A_{iw,NR} =A_{iw,MR-OR}+A_{iw,OR-NR}\n",
    "$$"
   ]
  },
  {
   "cell_type": "markdown",
   "metadata": {},
   "source": [
    "$A_{iw,MR-OR}$: 主たる居室とその他の居室の間の内壁等の面積, m<sup>2</sup>  \n",
    "$A_{iw,MR-NR}$: 主たる居室と非居室の間の内壁等の面積, m<sup>2</sup>  \n",
    "$A_{iw,OR-NR}$: その他の居室と非居室の間の内壁等の面積, m<sup>2</sup>  \n",
    "$A_{iw,MR}$: 主たる居室の内壁等の面積, m<sup>2</sup>  \n",
    "$A_{iw,OR}$: その他の居室の内壁等の面積, m<sup>2</sup>  \n",
    "$A_{iw,NR}$: 非居室の内壁等の面積, m<sup>2</sup>  "
   ]
  },
  {
   "cell_type": "markdown",
   "metadata": {},
   "source": [
    "各用途の内壁等の面積は、各用途の内壁等の面積の暫定値より、用途間の内壁等の面積が0㎡以上となる範囲で決定する。"
   ]
  },
  {
   "cell_type": "markdown",
   "metadata": {},
   "source": [
    "$A_{iw,MR,temp}>A_{iw,OR,temp}+A_{iw,NR,temp}$ の場合"
   ]
  },
  {
   "cell_type": "markdown",
   "metadata": {},
   "source": [
    "　　$A_{OR}=0$ かつ $A_{NR}=0$ の場合"
   ]
  },
  {
   "cell_type": "markdown",
   "metadata": {},
   "source": [
    "$$A_{iw,MR} = 0, A_{iw,OR} = 0, A_{iw,NR} = 0$$"
   ]
  },
  {
   "cell_type": "markdown",
   "metadata": {},
   "source": [
    "　　$A_{OR}>0$ または $A_{NR}>0$ で、 $A_{iw,OR,temp}=0$ かつ $A_{iw,NR,temp}=0$ の場合"
   ]
  },
  {
   "cell_type": "markdown",
   "metadata": {},
   "source": [
    "$$\n",
    "A_{iw,MR} = A_{iw,MR,temp}\n",
    "$$\n",
    "$$\n",
    "A_{iw,OR} = A_{iw,MR,temp}\\times \\frac{A_{OR}}{A_{OR}+A_{NR}}\n",
    "$$\n",
    "$$\n",
    "A_{iw,NR} = A_{iw,MR,temp}\\times \\frac{A_{NR}}{A_{OR}+A_{NR}}\n",
    "$$"
   ]
  },
  {
   "cell_type": "markdown",
   "metadata": {},
   "source": [
    "　　$A_{OR}>0$ または $A_{NR}>0$ で、 $A_{iw,OR,temp}>0$ または $A_{iw,NR,temp}>0$ の場合"
   ]
  },
  {
   "cell_type": "markdown",
   "metadata": {},
   "source": [
    "$$\n",
    "A_{iw,MR} = A_{iw,MR,temp}\n",
    "$$\n",
    "$$\n",
    "A_{iw,OR} = A_{iw,MR,temp}\\times \\frac{A_{iw,OR,temp}}{A_{iw,OR,temp}+A_{iw,NR,temp}}\n",
    "$$\n",
    "$$\n",
    "A_{iw,NR} = A_{iw,MR,temp}\\times \\frac{A_{iw,NR,temp}}{A_{iw,OR,temp}+A_{iw,NR,temp}}\n",
    "$$"
   ]
  },
  {
   "cell_type": "markdown",
   "metadata": {},
   "source": [
    "$A_{iw,OR,temp}>A_{iw,MR,temp}+A_{iw,NR,temp}$ の場合"
   ]
  },
  {
   "cell_type": "markdown",
   "metadata": {},
   "source": [
    "　　$A_{MR}=0$ かつ $A_{NR}=0$ の場合"
   ]
  },
  {
   "cell_type": "markdown",
   "metadata": {},
   "source": [
    "$$A_{iw,MR} = 0, A_{iw,OR} = 0, A_{iw,NR} = 0$$"
   ]
  },
  {
   "cell_type": "markdown",
   "metadata": {},
   "source": [
    "　　$A_{OR}>0$ または $A_{NR}>0$ で、 $A_{iw,OR,temp}=0$ かつ $A_{iw,NR,temp}=0$ の場合"
   ]
  },
  {
   "cell_type": "markdown",
   "metadata": {},
   "source": [
    "$$\n",
    "A_{iw,OR} = A_{iw,OR,temp}\n",
    "$$\n",
    "$$\n",
    "A_{iw,MR} = A_{iw,OR,temp}\\times \\frac{A_{MR}}{A_{MR}+A_{NR}}\n",
    "$$\n",
    "$$\n",
    "A_{iw,NR} = A_{iw,OR,temp}\\times \\frac{A_{NR}}{A_{MR}+A_{NR}}\n",
    "$$"
   ]
  },
  {
   "cell_type": "markdown",
   "metadata": {},
   "source": [
    "　　$A_{OR}>0$ または $A_{NR}>0$ で、 $A_{iw,OR,temp}>0$ または $A_{iw,NR,temp}>0$ の場合"
   ]
  },
  {
   "cell_type": "markdown",
   "metadata": {},
   "source": [
    "$$\n",
    "A_{iw,OR} = A_{iw,OR,temp}\n",
    "$$\n",
    "$$\n",
    "A_{iw,MR} = A_{iw,OR,temp}\\times \\frac{A_{iw,MR,temp}}{A_{iw,MR,temp}+A_{iw,NR,temp}}\n",
    "$$\n",
    "$$\n",
    "A_{iw,NR} = A_{iw,OR,temp}\\times \\frac{A_{iw,NR,temp}}{A_{iw,MR,temp}+A_{iw,NR,temp}}\n",
    "$$"
   ]
  },
  {
   "cell_type": "markdown",
   "metadata": {},
   "source": [
    "$A_{iw,NR,temp}>A_{iw,MR,temp}+A_{iw,OR,temp}$ の場合"
   ]
  },
  {
   "cell_type": "markdown",
   "metadata": {},
   "source": [
    "　　$A_{MR}=0$ かつ $A_{OR}=0$ の場合"
   ]
  },
  {
   "cell_type": "markdown",
   "metadata": {},
   "source": [
    "$$A_{iw,MR} = 0, A_{iw,OR} = 0, A_{iw,NR} = 0$$"
   ]
  },
  {
   "cell_type": "markdown",
   "metadata": {},
   "source": [
    "　　$A_{OR}>0$ または $A_{NR}>0$ で、 $A_{iw,OR,temp}=0$ かつ $A_{iw,NR,temp}=0$ の場合"
   ]
  },
  {
   "cell_type": "markdown",
   "metadata": {},
   "source": [
    "$$\n",
    "A_{iw,NR} = A_{iw,NR,temp}\n",
    "$$\n",
    "$$\n",
    "A_{iw,MR} = A_{iw,NR,temp}\\times \\frac{A_{MR}}{A_{MR}+A_{OR}}\n",
    "$$\n",
    "$$\n",
    "A_{iw,OR} = A_{iw,NR,temp}\\times \\frac{A_{OR}}{A_{MR}+A_{OR}}\n",
    "$$"
   ]
  },
  {
   "cell_type": "markdown",
   "metadata": {},
   "source": [
    "　　$A_{OR}>0$ または $A_{NR}>0$ で、 $A_{iw,OR,temp}>0$ または $A_{iw,NR,temp}>0$ の場合"
   ]
  },
  {
   "cell_type": "markdown",
   "metadata": {},
   "source": [
    "$$\n",
    "A_{iw,NR} = A_{iw,NR,temp}\n",
    "$$\n",
    "$$\n",
    "A_{iw,MR} = A_{iw,NR,temp}\\times \\frac{A_{iw,MR,temp}}{A_{iw,MR,temp}+A_{iw,OR,temp}}\n",
    "$$\n",
    "$$\n",
    "A_{iw,OR} = A_{iw,NR,temp}\\times \\frac{A_{iw,OR,temp}}{A_{iw,MR,temp}+A_{iw,OR,temp}}\n",
    "$$"
   ]
  },
  {
   "cell_type": "markdown",
   "metadata": {},
   "source": [
    "上記以外の場合"
   ]
  },
  {
   "cell_type": "markdown",
   "metadata": {},
   "source": [
    "$$A_{iw,MR} = A_{iw,MR,temp}, A_{iw,OR} = A_{iw,OR,temp}, A_{iw,NR} = A_{iw,NR,temp}$$"
   ]
  },
  {
   "cell_type": "markdown",
   "metadata": {},
   "source": [
    "$A_{MR}$: 主たる居室の床面積, m<sup>2</sup>  \n",
    "$A_{OR}$: その他の居室の床面積, m<sup>2</sup>  \n",
    "$A_{NR}$: 非居室の床面積, m<sup>2</sup>   \n",
    "$A_{iw,MR,temp}$: 主たる居室の内壁等の面積の暫定値, m<sup>2</sup>  \n",
    "$A_{iw,OR,temp}$: その他の居室の内壁等の面積の暫定値, m<sup>2</sup>  \n",
    "$A_{iw,NR,temp}$: 非居室の内壁等の面積の暫定値, m<sup>2</sup>  "
   ]
  },
  {
   "cell_type": "markdown",
   "metadata": {},
   "source": [
    "各用途の内壁等の面積の暫定値は、室の周長を求める際の係数（アスペクト比）と階高を仮定して、外皮の用途別情報および用途別床面積より推定する。"
   ]
  },
  {
   "cell_type": "markdown",
   "metadata": {},
   "source": [
    "$$\n",
    "A_{iw,MR,temp} = \\left \\{\n",
    "\\begin{array}{ll}\n",
    "0 & ( A_{MR} = 0 ) \\\\\n",
    "A_{w,MR} - A_{ow,MR} = \\max \\left ( 0,4 \\cdot ar_{MR} \\cdot h \\sqrt {A_{MR}} - A_{ow,MR} \\right ) & ( A_{MR} > 0 )\n",
    "\\end{array}\n",
    "\\right.\n",
    "$$"
   ]
  },
  {
   "cell_type": "markdown",
   "metadata": {},
   "source": [
    "$$\n",
    "A_{iw,OR,temp} = \\left \\{\n",
    "\\begin{array}{ll}\n",
    "0 & ( A_{OR} = 0 ) \\\\\n",
    "A_{w,OR} - A_{ow,OR} = \\max \\left ( 0, 4 \\cdot ar_{NR} \\cdot h \\sqrt {A_{OR}} - A_{ow,OR} \\right ) & ( A_{OR} > 0 )\n",
    "\\end{array}\n",
    "\\right.\n",
    "$$"
   ]
  },
  {
   "cell_type": "markdown",
   "metadata": {},
   "source": [
    "$$\n",
    "A_{iw,NR,temp} = \\left \\{\n",
    "\\begin{array}{ll}\n",
    "0 & ( A_{NR} = 0 ) \\\\\n",
    "A_{w,NR} - A_{ow,NR} = \\max \\left ( 0, 4 \\cdot ar_{OR} \\cdot h \\sqrt {A_{NR}} - A_{ow,NR} \\right ) & ( A_{NR} > 0 )\n",
    "\\end{array}\n",
    "\\right.\n",
    "$$"
   ]
  },
  {
   "cell_type": "markdown",
   "metadata": {},
   "source": [
    "$A_{w,MR}$: 主たる居室の鉛直面の外皮と内壁の面積の合計, m<sup>2</sup>  \n",
    "$A_{w,OR}$: その他の居室の鉛直面の外皮と内壁の面積の合計, m<sup>2</sup>  \n",
    "$A_{w,NR}$: 非居室の鉛直面の外皮と内壁の面積の合計, m<sup>2</sup>  \n",
    "$A_{ow,MR}$: 主たる居室の鉛直面の外皮の面積の合計, m<sup>2</sup>  \n",
    "$A_{ow,OR}$: その他の居室の鉛直面の外皮の面積の合計, m<sup>2</sup>  \n",
    "$A_{ow,NR}$: 非居室の鉛直面の外皮の面積の合計, m<sup>2</sup>  \n",
    "$ar_{MR}$: 主たる居室の周長を求める際の係数, -  \n",
    "$ar_{OR}$: その他の居室の周長を求める際の係数, -  \n",
    "$ar_{NR}$: 非居室の周長を求める際の係数, -  \n",
    "$h$: 階高, m"
   ]
  },
  {
   "cell_type": "code",
   "execution_count": null,
   "metadata": {},
   "outputs": [],
   "source": [
    "def get_floor_area(a_mr, a_or, a_total):\n",
    "    return a_mr, a_or, a_total - a_mr - a_or"
   ]
  },
  {
   "cell_type": "markdown",
   "metadata": {},
   "source": [
    "##### Function"
   ]
  },
  {
   "cell_type": "code",
   "execution_count": null,
   "metadata": {},
   "outputs": [],
   "source": [
    "def get_area_inner_wall(d):\n",
    "    \n",
    "    # 用途別床面積の取得\n",
    "    a_mr, a_or, a_nr = get_floor_area(a_mr=d['common']['main_occupant_room_floor_area'],\n",
    "                                      a_or=d['common']['other_occupant_room_floor_area'],\n",
    "                                      a_total=d['common']['total_floor_area'])\n",
    " \n",
    "    # 周長を求める際の係数, -\n",
    "    r_mr, r_or, r_nr = 1.2, 1.4, 1.4\n",
    "\n",
    "    # 居室の外皮と床下空間との間の床の面積の合計\n",
    "    a_ow_mr, a_ow_or, a_ow_nr = get_outside_wall_area(d)\n",
    "\n",
    "    # 内壁等の面積の暫定値の取得\n",
    "    def get_int_wall_area(floor_area, ratio, outside_wall_area):\n",
    "        h = 2.8 # 階高, m\n",
    "        return max(0.0, 4 * h * ratio * floor_area**0.5 - outside_wall_area) if floor_area > 0.0 else 0.0\n",
    "\n",
    "    # 内壁等の面積の暫定値の取得\n",
    "    a_iw_mr = get_int_wall_area(a_mr, r_mr, a_ow_mr)\n",
    "    a_iw_or = get_int_wall_area(a_or, r_or, a_ow_or)\n",
    "    a_iw_nr = get_int_wall_area(a_nr, r_nr, a_ow_nr)\n",
    "\n",
    "    # 内壁等の面積の取得\n",
    "    def get_alt_area(a_iw, a_iw_adj1, a_iw_adj2, a_f_adj1, a_f_adj2):\n",
    "        # a_iw: 当該ZONEの内壁面積\n",
    "        # a_iw_adj1, a_f_adj1: 隣のZONE1の内壁面積, 床面積\n",
    "        # a_iw_adj2, a_f_adj2: 隣のZONE2の内壁面積, 床面積\n",
    "        \n",
    "        if a_f_adj1 == 0.0 and a_f_adj2 == 0.0:\n",
    "            return 0.0, 0.0, 0.0\n",
    "        elif a_iw_adj1 == 0.0 and a_iw_adj2 == 0.0:\n",
    "            return a_iw, a_iw * a_f_adj1 / (a_f_adj1 + a_f_adj2), a_iw * a_f_adj2 / (a_f_adj1 + a_f_adj2)\n",
    "        else:\n",
    "            return a_iw, a_iw * a_iw_adj1 / (a_iw_adj1 + a_iw_adj2), a_iw * a_iw_adj2 / (a_iw_adj1 + a_iw_adj2)\n",
    "\n",
    "    if a_iw_mr > a_iw_or + a_iw_nr:\n",
    "        alt_a_iw_mr, alt_a_iw_or, alt_a_iw_nr = get_alt_area(a_iw_mr, a_iw_or, a_iw_nr, a_or, a_nr)\n",
    "    elif a_iw_or > a_iw_nr + a_iw_mr:\n",
    "        alt_a_iw_or, alt_a_iw_nr, alt_a_iw_mr = get_alt_area(a_iw_or, a_iw_nr, a_iw_mr, a_nr, a_mr)\n",
    "    elif a_iw_nr > a_iw_mr + a_iw_or:\n",
    "        alt_a_iw_nr, alt_a_iw_mr, alt_a_iw_or = get_alt_area(a_iw_nr, a_iw_mr, a_iw_or, a_mr, a_or)\n",
    "    else :\n",
    "        alt_a_iw_mr, alt_a_iw_or, alt_a_iw_nr = a_iw_mr, a_iw_or, a_iw_nr\n",
    "    \n",
    "    # 室用途間の内壁等の面積の推定\n",
    "    a_iw_mr_or = (alt_a_iw_mr + alt_a_iw_or - alt_a_iw_nr) / 2\n",
    "    a_iw_mr_nr = (alt_a_iw_nr + alt_a_iw_mr - alt_a_iw_or) / 2\n",
    "    a_iw_or_nr = (alt_a_iw_or + alt_a_iw_nr - alt_a_iw_mr) / 2\n",
    "    \n",
    "    return a_iw_mr_or, a_iw_mr_nr, a_iw_or_nr           "
   ]
  },
  {
   "cell_type": "markdown",
   "metadata": {},
   "source": [
    "#### 3) 内壁の構築"
   ]
  },
  {
   "cell_type": "markdown",
   "metadata": {},
   "source": [
    "##### Function"
   ]
  },
  {
   "cell_type": "code",
   "execution_count": null,
   "metadata": {},
   "outputs": [],
   "source": [
    "def get_innerwall_wall(d):\n",
    "\n",
    "    # 内壁面積の推定\n",
    "    a_iw_mr_or, a_iw_mr_nr, a_iw_or_nr = get_area_inner_wall(d)\n",
    "    \n",
    "    # 壁体名称、部位面積を更新し、「壁体が属する空間種類」「隣接空間種類」を追加する\n",
    "    iws = []\n",
    "\n",
    "    if a_iw_mr_or > 0.0:\n",
    "\n",
    "        iws.append({\n",
    "            'name' : 'Innerwall_main to other',\n",
    "            'type' : 'InnerWall',\n",
    "            'direction' : 'Vertical',\n",
    "            'Layers' : get_inner_wall_layers(),\n",
    "            'area' : a_iw_mr_or,\n",
    "            'space_type' : 'main', \n",
    "            'nextspace': 'other'\n",
    "        })\n",
    "        \n",
    "        iws.append({\n",
    "            'name' : 'Innerwall_main to other',\n",
    "            'type' : 'InnerWall',\n",
    "            'direction' : 'Vertical',\n",
    "            'Layers' : get_inner_wall_layers(),\n",
    "            'area' : a_iw_mr_or,\n",
    "            'space_type' : 'other', \n",
    "            'nextspace': 'main'\n",
    "        })\n",
    "\n",
    "    if a_iw_mr_nr > 0.0:\n",
    "        \n",
    "        iws.append({\n",
    "            'name' : 'Innerwall_main to nonliving',\n",
    "            'type' : 'InnerWall',\n",
    "            'direction' : 'Vertical',\n",
    "            'Layers' : get_inner_wall_layers(),\n",
    "            'area' : a_iw_mr_nr,\n",
    "            'space_type' : 'main', \n",
    "            'nextspace': 'nonliving'\n",
    "        })\n",
    "        \n",
    "        iws.append({\n",
    "            'name' : 'Innerwall_main to nonliving',\n",
    "            'type' : 'InnerWall',\n",
    "            'direction' : 'Vertical',\n",
    "            'Layers' : get_inner_wall_layers(),\n",
    "            'area' : a_iw_mr_nr,\n",
    "            'space_type' : 'nonliving', \n",
    "            'nextspace': 'main'\n",
    "        })\n",
    "\n",
    "    if a_iw_or_nr > 0.0:\n",
    "        \n",
    "        iws.append({\n",
    "            'name' : 'Innerwall_other to nonliving',\n",
    "            'type' : 'InnerWall',\n",
    "            'direction' : 'Vertical',\n",
    "            'Layers' : get_inner_wall_layers(),\n",
    "            'area' : a_iw_or_nr,\n",
    "            'space_type' : 'other', \n",
    "            'nextspace': 'nonliving'\n",
    "        })\n",
    "        iws.append({\n",
    "            'name' : 'Innerwall_other to nonliving',\n",
    "            'type' : 'InnerWall',\n",
    "            'direction' : 'Vertical',\n",
    "            'Layers' : get_inner_wall_layers(),\n",
    "            'area' : a_iw_or_nr,\n",
    "            'space_type' : 'nonliving', \n",
    "            'nextspace': 'other'\n",
    "        })\n",
    "\n",
    "    return iws"
   ]
  },
  {
   "cell_type": "markdown",
   "metadata": {},
   "source": [
    "##### Example"
   ]
  },
  {
   "cell_type": "code",
   "execution_count": null,
   "metadata": {},
   "outputs": [],
   "source": [
    "correspondence = {\n",
    "    'main to other': ['main', 'other'],\n",
    "    'main to nonliving': ['main', 'nonliving'],\n",
    "    'other to nonliving': ['other', 'nonliving'] \n",
    "}  \n",
    "\n",
    "d = {\n",
    "    'common': {\n",
    "        'region': 6,\n",
    "        'main_occupant_room_floor_area': 30.0,\n",
    "        'other_occupant_room_floor_area': 60.0,\n",
    "        'total_floor_area': 120.0\n",
    "    },\n",
    "    'general_parts': [\n",
    "        { 'name': 'Ceiling', 'type': 'Ceiling', 'structure': 'wood', 'InputMethod' :'InputUA', \n",
    "          'direction': 'top', 'area': 60, 'space_type': 'main', 'UA': 0.24, 'IsSunshadeInput': False },\n",
    "        { 'name': 'Ceiling', 'type': 'Ceiling', 'structure': 'wood', 'InputMethod' :'InputAllDetails', 'direction': 'top', \n",
    "          'IsInContactWithOutsideAir': True, 'area': 60, 'space_type': 'main',\n",
    "          'Parts': [{'AreaRatio': 0.8, 'Layers': [{'name': 'wood','thick': 0.012, 'cond': 0.16, 'specH': 720 },\n",
    "                                                  {'name': 'wood','thick': 0.012, 'cond': 0.16, 'specH': 720 }]},\n",
    "                    {'AreaRatio': 0.2, 'Layers': [{'name': 'wood','thick': 0.012, 'cond': 0.16, 'specH': 720 },\n",
    "                                                  {'name': 'wood','thick': 0.012, 'cond': 0.16, 'specH': 720 }]}],\n",
    "          'IsSunshadeInput': False },\n",
    "        { 'name': 'Floor', 'type': 'Floor', 'structure': 'wood', 'InputMethod' :'InputAllLayers', 'direction': 'bottom', \n",
    "          'IsInContactWithOutsideAir': True, 'area': 60, 'space_type': 'main',\n",
    "          'FloorConstructionMethod' :'FrameInsulcolumn',\n",
    "          'Parts': [{'TypeFloor': 'Insulation', 'Layers': [{'name': 'wood','thick': 0.012, 'cond': 0.16, 'specH': 720 },\n",
    "                                                           {'name': 'wood','thick': 0.012, 'cond': 0.16, 'specH': 720 }]},\n",
    "                    {'TypeFloor': 'Heatbridge', 'Layers': [{'name': 'wood','thick': 0.012, 'cond': 0.16, 'specH': 720 },\n",
    "                                                           {'name': 'wood','thick': 0.012, 'cond': 0.16, 'specH': 720 }]}],\n",
    "           'IsSunshadeInput': False }\n",
    "    ],\n",
    "    'windows': [\n",
    "        { 'name': 'WindowTop', 'direction': 'top', 'area': 30, 'space_type': 'main', 'UW': 6.51, 'TypeWindow': 'Single', \n",
    "          'IsEtaValueInput': False, 'TypeFrame': 'WoodOrResin', 'TypeGlass': '3WgG', 'TypeShade': 'Shoji', 'IsSunshadeInput': False }\n",
    "    ],\n",
    "    'earthfloor_centers': [\n",
    "        { 'name': 'other', 'area': 5.0, 'space_type': 'underfloor' },\n",
    "        { 'name': 'entrance', 'area': 5.0, 'space_type': 'underfloor' }\n",
    "    ]\n",
    "}\n",
    "\n",
    "innerwalls = [\n",
    "        { 'area': 60, 'name': 'GroundFloor_Main', 'type' : 'GroundFloor', 'spaces': ['main','underfloor'], 'direction' : 'Horizontal', 'Layers' : get_inner_floor_spec()},\n",
    "        { 'area': 15, 'name': 'GroundFloor_Other', 'type' : 'GroundFloor', 'spaces': ['other','underfloor'], 'direction' : 'Horizontal', 'Layers' : get_inner_floor_spec()},\n",
    "]\n",
    "\n",
    "get_innerwall_wall(d)"
   ]
  },
  {
   "cell_type": "markdown",
   "metadata": {},
   "source": [
    "### 8.3. InnerWalls Element - 統合"
   ]
  },
  {
   "cell_type": "markdown",
   "metadata": {},
   "source": [
    "##### Function"
   ]
  },
  {
   "cell_type": "code",
   "execution_count": null,
   "metadata": {},
   "outputs": [],
   "source": [
    "def convert_innerwall(d):\n",
    "\n",
    "    # 室と床下空間の間の床の推定\n",
    "    iws_to_groundfloor = get_innerwall_groundfloor(d)\n",
    "    \n",
    "    # 室間の床・天井の推定\n",
    "    iws_slab = get_innerwall_innerslab(d, iws_to_groundfloor)\n",
    "    \n",
    "    # 内壁等の推定              \n",
    "    iws_wall = get_innerwall_wall(d)\n",
    "    \n",
    "    return iws_to_groundfloor + iws_slab + iws_wall"
   ]
  },
  {
   "cell_type": "markdown",
   "metadata": {},
   "source": [
    "##### Example"
   ]
  },
  {
   "cell_type": "code",
   "execution_count": null,
   "metadata": {},
   "outputs": [],
   "source": [
    "d = {\n",
    "    'common': {\n",
    "        'region': 6,\n",
    "        'main_occupant_room_floor_area': 30.0,\n",
    "        'other_occupant_room_floor_area': 60.0,\n",
    "        'total_floor_area': 120.0\n",
    "    },\n",
    "    'general_parts': [\n",
    "        { 'name': 'Ceiling', 'type': 'Ceiling', 'structure': 'wood', 'InputMethod' :'InputUA', \n",
    "          'direction': 'top', 'area': 60, 'space_type': 'main', 'UA': 0.24, 'IsSunshadeInput': False },\n",
    "        { 'name': 'Ceiling', 'type': 'Ceiling', 'structure': 'wood', 'InputMethod' :'InputAllDetails', 'direction': 'top', \n",
    "          'IsInContactWithOutsideAir': True, 'area': 60, 'space_type': 'main',\n",
    "          'Parts': [{'AreaRatio': 0.8, 'Layers': [{'name': 'wood','thick': 0.012, 'cond': 0.16, 'specH': 720 },\n",
    "                                                  {'name': 'wood','thick': 0.012, 'cond': 0.16, 'specH': 720 }]},\n",
    "                    {'AreaRatio': 0.2, 'Layers': [{'name': 'wood','thick': 0.012, 'cond': 0.16, 'specH': 720 },\n",
    "                                                  {'name': 'wood','thick': 0.012, 'cond': 0.16, 'specH': 720 }]}],\n",
    "          'IsSunshadeInput': False },\n",
    "        { 'name': 'Floor', 'type': 'Floor', 'structure': 'wood', 'InputMethod' :'InputAllLayers', 'direction': 'bottom', \n",
    "          'IsInContactWithOutsideAir': True, 'area': 60, 'space_type': 'main',\n",
    "          'FloorConstructionMethod' :'FrameInsulcolumn',\n",
    "          'Parts': [{'TypeFloor': 'Insulation', 'Layers': [{'name': 'wood','thick': 0.012, 'cond': 0.16, 'specH': 720 },\n",
    "                                                           {'name': 'wood','thick': 0.012, 'cond': 0.16, 'specH': 720 }]},\n",
    "                    {'TypeFloor': 'Heatbridge', 'Layers': [{'name': 'wood','thick': 0.012, 'cond': 0.16, 'specH': 720 },\n",
    "                                                           {'name': 'wood','thick': 0.012, 'cond': 0.16, 'specH': 720 }]}],\n",
    "           'IsSunshadeInput': False }\n",
    "    ],\n",
    "    'windows': [\n",
    "        { 'name': 'WindowTop', 'direction': 'top', 'area': 30, 'space_type': 'main', 'UW': 6.51, 'TypeWindow': 'Single', \n",
    "          'IsEtaValueInput': False, 'TypeFrame': 'WoodOrResin', 'TypeGlass': '3WgG', 'TypeShade': 'Shoji', 'IsSunshadeInput': False }\n",
    "    ],\n",
    "    'earthfloor_centers': [\n",
    "        { 'name': 'other', 'area': 5.0, 'space_type': 'underfloor' },\n",
    "        { 'name': 'entrance', 'area': 5.0, 'space_type': 'underfloor' }\n",
    "    ]\n",
    "}\n",
    "\n",
    "innerwalls = [\n",
    "        { 'area': 60, 'name': 'GroundFloor_Main', 'type' : 'GroundFloor', 'spaces': ['main','underfloor'], 'direction' : 'Horizontal', 'Layers' : get_inner_floor_spec()},\n",
    "        { 'area': 15, 'name': 'GroundFloor_Other', 'type' : 'GroundFloor', 'spaces': ['other','underfloor'], 'direction' : 'Horizontal', 'Layers' : get_inner_floor_spec()},\n",
    "]\n",
    "\n",
    "convert_innerwall( d )"
   ]
  },
  {
   "cell_type": "markdown",
   "metadata": {},
   "source": [
    "## 9. Lv4入力情報のコンバート（統合）\n",
    "- 1)共通情報、2)開口部以外の不透明部位、3)開口部の透明部位、4)開口部の不透明部位、5) 線熱橋、6)土間床等の外周部の線熱橋、7)土間床、8)内壁等の各コンバート関数を統合し、Lv3の入力情報をLv4の入力情報にコンバートする。"
   ]
  },
  {
   "cell_type": "markdown",
   "metadata": {},
   "source": [
    "##### Function"
   ]
  },
  {
   "cell_type": "code",
   "execution_count": null,
   "metadata": {},
   "outputs": [],
   "source": [
    "def convert(d):\n",
    "    \n",
    "    d_lv4_input = {}\n",
    "    \n",
    "    d_lv4_input['common'] = copy.deepcopy(d['common'])\n",
    "    \n",
    "    if ('general_parts' in d) == True:\n",
    "        d_lv4_input['general_parts'] = copy.deepcopy(d['general_parts'])\n",
    "        \n",
    "    if ('windows' in d) == True:\n",
    "        d_lv4_input['windows'] = copy.deepcopy(d['windows'])\n",
    "        \n",
    "    if ('doors' in d) == True:\n",
    "        d_lv4_input['doors'] = copy.deepcopy(d['doors'])\n",
    "        \n",
    "    if ('heatbridges' in d) == True:\n",
    "        d_lv4_input['heatbridges'] = copy.deepcopy(d['heatbridges'])\n",
    "        \n",
    "    if ('earthfloor_perimeters' in d) == True:\n",
    "        d_lv4_input['earthfloor_perimeters'] = copy.deepcopy(d['earthfloor_perimeters'])\n",
    "        \n",
    "    if ('earthfloor_centers' in d) == True:\n",
    "        d_lv4_input['earthfloor_centers'] = copy.deepcopy(d['earthfloor_centers'])\n",
    "        \n",
    "    d_lv4_input['InnerWalls'] = convert_innerwall(d)\n",
    "\n",
    "    return d_lv4_input"
   ]
  },
  {
   "cell_type": "markdown",
   "metadata": {},
   "source": [
    "##### Example"
   ]
  },
  {
   "cell_type": "code",
   "execution_count": null,
   "metadata": {},
   "outputs": [],
   "source": [
    "d = {\n",
    "    'common': {\n",
    "        'region': 6,\n",
    "        'main_occupant_room_floor_area': 30.0,\n",
    "        'other_occupant_room_floor_area': 60.0,\n",
    "        'total_floor_area': 120.0\n",
    "    },\n",
    "    'general_parts': [\n",
    "        { 'name': 'Ceiling', 'type': 'Ceiling', 'InputMethod' :'InputUA', \n",
    "          'direction': 'top', 'area': 67.8, 'space_type': 'main', 'UA': 0.24, 'IsSunshadeInput': False },\n",
    "        { 'name': 'Ceiling', 'type': 'Ceiling', 'structure': 'wood', 'InputMethod' :'InputAllDetails', 'direction': 'top', \n",
    "          'IsInContactWithOutsideAir': True, 'area': 67.8, 'space_type': 'main',\n",
    "          'Parts': [{'AreaRatio': 0.8, 'Layers': [{'name': 'wood','thick': 0.012, 'cond': 0.16, 'specH': 720 },\n",
    "                                                  {'name': 'wood','thick': 0.012, 'cond': 0.16, 'specH': 720 }]},\n",
    "                    {'AreaRatio': 0.2, 'Layers': [{'name': 'wood','thick': 0.012, 'cond': 0.16, 'specH': 720 },\n",
    "                                                  {'name': 'wood','thick': 0.012, 'cond': 0.16, 'specH': 720 }]}],\n",
    "          'IsSunshadeInput': False },\n",
    "        { 'name': 'Floor', 'type': 'Floor', 'space_type': 'main', 'structure': 'wood', 'InputMethod' :'InputAllLayers', 'direction': 'bottom', \n",
    "          'IsInContactWithOutsideAir': True, 'area': 67.8,\n",
    "          'ConstructionMethodAllLayers' :'FloorFrameBeamInsuljoist',\n",
    "          'Parts': [{'Type': 'FloorInsulation', 'Layers': [{'name': 'wood','thick': 0.012, 'cond': 0.16, 'specH': 720 },\n",
    "                                                           {'name': 'wood','thick': 0.012, 'cond': 0.16, 'specH': 720 }]},\n",
    "                    {'Type': 'FloorHeatbridge', 'Layers': [{'name': 'wood','thick': 0.012, 'cond': 0.16, 'specH': 720 },\n",
    "                                                           {'name': 'wood','thick': 0.012, 'cond': 0.16, 'specH': 720 }]}],\n",
    "           'IsSunshadeInput': False },\n",
    "        { 'name': 'Wall', 'type': 'Wall', 'space_type': 'main', 'structure': 'wood', 'InputMethod' :'InputAllLayers', 'direction': 'N',\n",
    "          'IsInContactWithOutsideAir': True, 'area': 67.8, 'ConstructionMethodAllLayers': 'WallFrameInsulcolumn',\n",
    "          'Parts': [{'Type': 'WallInsulation', 'Layers': [{'name': 'wood','thick': 0.012, 'cond': 0.16, 'specH': 720 },\n",
    "                                                          {'name': 'wood','thick': 0.012, 'cond': 0.16, 'specH': 720 }]},\n",
    "                    {'Type': 'WallHeatbridge', 'Layers': [{'name': 'wood','thick': 0.012, 'cond': 0.16, 'specH': 720 },\n",
    "                                                          {'name': 'wood','thick': 0.012, 'cond': 0.16, 'specH': 720 }]}],         \n",
    "          'IsSunshadeInput': False },\n",
    "        { 'name': 'Ceiling', 'type': 'Roof', 'space_type': 'main', 'structure': 'wood', 'InputMethod' :'InputAllLayers', 'direction': 'top',\n",
    "          'IsInContactWithOutsideAir': True, 'area': 67.8, 'ConstructionMethodAllLayers': 'RoofInsulRafter', \n",
    "          'Parts': [{'Type': 'RoofInsulation', 'Layers': [{'name': 'wood','thick': 0.012, 'cond': 0.16, 'specH': 720 },\n",
    "                                                          {'name': 'wood','thick': 0.012, 'cond': 0.16, 'specH': 720 }]},\n",
    "                    {'Type': 'RoofHeatbridge', 'Layers': [{'name': 'wood','thick': 0.012, 'cond': 0.16, 'specH': 720 },\n",
    "                                                          {'name': 'wood','thick': 0.012, 'cond': 0.16, 'specH': 720 }]}],\n",
    "          'IsSunshadeInput': False },\n",
    "        { 'name': 'BoundaryCeiling', 'type': 'BoundaryCeiling', 'space_type': 'main', 'structure': 'wood', 'InputMethod' :'InputAllLayers', \n",
    "          'direction': 'top', 'IsInContactWithOutsideAir': True, 'area': 67.8, 'ConstructionMethodAllLayers': 'CeilingInsulbeam', \n",
    "          'Parts': [{'Type': 'CeilingInsulation', 'Layers': [{'name': 'wood','thick': 0.012, 'cond': 0.16, 'specH': 720 },\n",
    "                                                             {'name': 'wood','thick': 0.012, 'cond': 0.16, 'specH': 720 }]},\n",
    "                    {'Type': 'CeilingHeatbridge', 'Layers': [{'name': 'wood','thick': 0.012, 'cond': 0.16, 'specH': 720 },\n",
    "                                                             {'name': 'wood','thick': 0.012, 'cond': 0.16, 'specH': 720 }]}],\n",
    "          'IsSunshadeInput': False },\n",
    "        { 'name': 'Ceiling', 'type': 'Ceiling', 'structure': 'wood', 'InputMethod' :'InputUR', 'InsulationMethod': 'CeilingInsulbeam',\n",
    "          'direction': 'top', 'IsInContactWithOutsideAir': True, 'area': 67.8, 'space_type': 'main', \n",
    "          'Parts': [{ 'Layers': [{'name': 'wood','thick': 0.012, 'cond': 0.16, 'specH': 720 },\n",
    "                                 {'name': 'wood','thick': 0.012, 'cond': 0.16, 'specH': 720 }]}],\n",
    "          'IsSunshadeInput': False },\n",
    "        { 'name': 'Ceiling', 'type': 'Ceiling', 'structure': 'RC', 'InputMethod' :'InputLayers', \n",
    "          'direction': 'top', 'IsInContactWithOutsideAir': True, 'area': 67.8, 'space_type': 'main',\n",
    "          'Parts': [{ 'Layers': [{'name': 'wood','thick': 0.012, 'cond': 0.16, 'specH': 720 },\n",
    "                                 {'name': 'wood','thick': 0.012, 'cond': 0.16, 'specH': 720 }]}],         \n",
    "          'IsSunshadeInput': False },\n",
    "        { 'name': 'Ceiling', 'type': 'Ceiling', 'structure': 'steel', 'InputMethod' :'InputUR', \n",
    "          'direction': 'top', 'IsInContactWithOutsideAir': True, 'area': 67.8, 'space_type': 'main', 'Radding': 0.10, \n",
    "          'Parts': [{'Layers': [{'name': 'wood','thick': 0.012, 'cond': 0.16, 'specH': 720 },\n",
    "                                {'name': 'wood','thick': 0.012, 'cond': 0.16, 'specH': 720 }]}],         \n",
    "          'IsSunshadeInput': False },\n",
    "        { 'name': 'Ceiling', 'type': 'Ceiling', 'structure': 'other', 'direction': 'top', 'IsInContactWithOutsideAir': True, \n",
    "          'area': 67.8, 'space_type': 'main', 'IsSunshadeInput': False }\n",
    "    ],\n",
    "    'windows': [\n",
    "        { 'name': 'WindowSW', 'direction': 'SW', 'area': 30.25, 'space_type': 'main', 'UW': 6.51, 'TypeWindow': 'Single', \n",
    "          'EtaInputMethod': 'InputSpecification', 'TypeFrame': 'WoodOrResin', 'TypeGlass': '3WgG', 'TypeShade': 'Shoji',\n",
    "          'IsSunshadeInput': True, 'Y1': 0.00, 'Y2': 1.00, 'Z': 0.60 },\n",
    "        { 'name': 'WindowNW', 'direction': 'NW', 'area': 3.17, 'space_type': 'main', 'UW': 4.65, 'TypeWindow': 'Single', \n",
    "          'EtaInputMethod': 'InputValue', 'Eta': 0.738, 'IsSunshadeInput': False },\n",
    "        { 'name': 'WindowSW', 'direction': 'SW', 'area': 30.25, 'space_type': 'main', 'UW': 6.51, 'TypeWindow': 'Double', \n",
    "          'EtaInputMethod': 'InputSpecification', 'TypeFrameInside': 'WoodOrResin', 'TypeGlassInside': '3WgG', 'TypeShadeInside': 'Shoji',\n",
    "          'TypeFrameOutside': 'Steel', 'TypeGlassOutside': '3WgG', 'TypeShadeOutside': 'ExtarnalBlind',\n",
    "          'IsSunshadeInput': True, 'Y1': 0.00, 'Y2': 1.00, 'Z': 0.60 },\n",
    "        { 'name': 'WindowNW', 'direction': 'NW', 'area': 3.17, 'space_type': 'main', 'UW': 4.65, 'TypeWindow': 'Double',\n",
    "          'EtaInputMethod': 'InputSpecification', 'EtaInside': 0.738, 'TypeGlassInside': '3WgG', 'EtaOutside': 0.738, \n",
    "          'TypeGlassOutside': '3WgG', 'IsSunshadeInput': True, 'Y1': 0.00, 'Y2': 1.00, 'Z': 0.60 }\n",
    "    ],\n",
    "    'doors': [\n",
    "        { 'name': 'DoorNW', 'direction': 'NW', 'area': 2.52, 'U': 6.51, 'space_type': 'main', 'IsSunshadeInput': False },\n",
    "        { 'name': 'DoorNE', 'direction': 'NE', 'area': 2.16, 'U': 4.65, 'space_type': 'main', \n",
    "          'IsSunshadeInput': True, 'Y1': 0.00, 'Y2': 1.00, 'Z': 0.60 }\n",
    "    ],\n",
    "    'heatbridges': [\n",
    "        { 'name': 'NE', 'structure': 'RC', 'length': 1.00, 'psi': 1.8, 'direction1': 'N', 'direction2': 'E', 'space_type': 'main' },\n",
    "        { 'name': 'NW', 'structure': 'Steel', 'length': 2.00, 'psi': 1.8, 'direction1': 'N', 'direction2': 'W', 'space_type': 'main' }\n",
    "    ],\n",
    "    'earthfloor_perimeters': [\n",
    "        { 'name': 'NW', 'direction': 'NW', 'length': 2.43, 'psi': 1.8, 'space_type': 'underfloor' },\n",
    "        { 'name': 'NE', 'direction': 'NE', 'length': 2.43, 'psi': 1.8, 'space_type': 'underfloor' }\n",
    "    ],\n",
    "    'earthfloor_centers': [\n",
    "        { 'name': 'other', 'area': 5.0, 'space_type': 'underfloor' },\n",
    "        { 'name': 'entrance', 'area': 5.0, 'space_type': 'underfloor' }\n",
    "    ]\n",
    "}\n",
    "\n",
    "convert(d)"
   ]
  },
  {
   "cell_type": "code",
   "execution_count": null,
   "metadata": {},
   "outputs": [],
   "source": [
    "d = {\n",
    "    'common': {\n",
    "        'region': 6,\n",
    "        'main_occupant_room_floor_area': 30.0,\n",
    "        'other_occupant_room_floor_area': 30.0,\n",
    "        'total_floor_area': 120.0\n",
    "    },\n",
    "    'general_parts': [\n",
    "        {'name': 'Ceiling_main', 'direction': 'Top', 'area': 16.95, 'space_type': 'main', 'type': 'Ceiling',\n",
    "         'structure': 'wood', 'IsSunshadeInput': False, 'UA': 7.7},\n",
    "        {'name': 'Ceiling_other', 'direction': 'Top', 'area': 16.95, 'space_type': 'other', 'type': 'Ceiling',\n",
    "         'structure': 'wood', 'IsSunshadeInput': False, 'UA': 7.7},\n",
    "        {'name': 'Ceiling_nonliving', 'direction': 'Top', 'area': 33.9, 'space_type': 'nonliving', 'type': 'Ceiling',\n",
    "         'structure': 'wood', 'IsSunshadeInput': False, 'UA': 7.7},\n",
    "        {'name': 'Wall_SW_main', 'direction': 'SW', 'area': 10.1575, 'space_type': 'main', 'type': 'Wall',\n",
    "         'structure': 'wood', 'IsSunshadeInput': False, 'UA': 6.67},\n",
    "        {'name': 'Wall_SW_other', 'direction': 'SW', 'area': 10.1575, 'space_type': 'other', 'type': 'Wall',\n",
    "         'structure': 'wood', 'IsSunshadeInput': False, 'UA': 6.67},\n",
    "        {'name': 'Wall_SW_nonliving', 'direction': 'SW', 'area': 20.315, 'space_type': 'nonliving', 'type': 'Wall',\n",
    "         'structure': 'wood', 'IsSunshadeInput': False, 'UA': 6.67},\n",
    "        {'name': 'Wall_NW_main', 'direction': 'NW', 'area': 7.4575, 'space_type': 'main', 'type': 'Wall',\n",
    "         'structure': 'wood', 'IsSunshadeInput': False, 'UA': 6.67},\n",
    "        {'name': 'Wall_NW_other', 'direction': 'NW', 'area': 7.4575, 'space_type': 'other', 'type': 'Wall',\n",
    "         'structure': 'wood', 'IsSunshadeInput': False, 'UA': 6.67},\n",
    "        {'name': 'Wall_NW_nonliving', 'direction': 'NW', 'area': 14.915, 'space_type': 'nonliving', 'type': 'Wall',\n",
    "         'structure': 'wood', 'IsSunshadeInput': False, 'UA': 6.67},\n",
    "        {'name': 'Wall_NE_main', 'direction': 'NE', 'area': 15.9725, 'space_type': 'main', 'type': 'Wall',\n",
    "         'structure': 'wood', 'IsSunshadeInput': False, 'UA': 6.67},\n",
    "        {'name': 'Wall_NE_other', 'direction': 'NE', 'area': 15.9725, 'space_type': 'other', 'type': 'Wall',\n",
    "         'structure': 'wood', 'IsSunshadeInput': False, 'UA': 6.67},\n",
    "        {'name': 'Wall_NE_nonliving', 'direction': 'NE', 'area': 31.945, 'space_type': 'nonliving', 'type': 'Wall',\n",
    "         'structure': 'wood', 'IsSunshadeInput': False, 'UA': 6.67},\n",
    "        {'name': 'Wall_SE_main', 'direction': 'SE', 'area': 7.4275, 'space_type': 'main', 'type': 'Wall',\n",
    "         'structure': 'wood', 'IsSunshadeInput': False, 'UA': 6.67},\n",
    "        {'name': 'Wall_SE_other', 'direction': 'SE', 'area': 7.4275, 'space_type': 'other', 'type': 'Wall',\n",
    "         'structure': 'wood', 'IsSunshadeInput': False, 'UA': 6.67},\n",
    "        {'name': 'Wall_SE_nonliving', 'direction': 'SE', 'area': 14.855, 'space_type': 'nonliving', 'type': 'Wall',\n",
    "         'structure': 'wood', 'IsSunshadeInput': False, 'UA': 6.67},\n",
    "        {'name': 'Floor_main', 'direction': 'Bottom', 'area': 15.0175, 'space_type': 'main', 'type': 'Floor',\n",
    "         'structure': 'wood', 'IsSunshadeInput': False, 'UA': 5.27},\n",
    "        {'name': 'Floor_other', 'direction': 'Bottom', 'area': 15.0175, 'space_type': 'other', 'type': 'Floor',\n",
    "         'structure': 'wood', 'IsSunshadeInput': False, 'UA': 5.27},\n",
    "        {'name': 'Floor_nonliving', 'direction': 'Bottom', 'area': 30.035, 'space_type': 'nonliving', 'type': 'Floor',\n",
    "         'structure': 'wood', 'IsSunshadeInput': False, 'UA': 5.27},\n",
    "        {'name': 'Floor_bath_main', 'direction': 'Bottom', 'area': 1.1025, 'space_type': 'main', 'type': 'Floor',\n",
    "         'structure': 'wood', 'IsSunshadeInput': False, 'UA': 5.27},\n",
    "        {'name': 'Floor_bath_other', 'direction': 'Bottom', 'area': 1.1025, 'space_type': 'other', 'type': 'Floor',\n",
    "         'structure': 'wood', 'IsSunshadeInput': False, 'UA': 5.27},\n",
    "        {'name': 'Floor_bath_nonliving', 'direction': 'Bottom', 'area': 2.205, 'space_type': 'nonliving', 'type': 'Floor',\n",
    "         'structure': 'wood', 'IsSunshadeInput': False, 'UA': 5.27}\n",
    "    ],\n",
    "    'windows': [\n",
    "        {'name': 'WindowSW_main', 'direction': 'SW', 'area': 7.5625, 'space_type': 'main', 'UW': 3.49, 'EtaInputMethod': 'InputSeasonalValue',\n",
    "         'IsSunshadeInput': True, 'EtaCooling': 0.51, 'EtaHeating': 0.51, 'TypeGlass': None, 'Y1': 0, 'Y2': 1.1, 'Z': None},\n",
    "        {'name': 'WindowSW_other', 'direction': 'SW', 'area': 7.5625, 'space_type': 'other', 'UW': 3.49, 'EtaInputMethod': 'InputSeasonalValue',\n",
    "         'IsSunshadeInput': True, 'EtaCooling': 0.51, 'EtaHeating': 0.51, 'TypeGlass': None, 'Y1': 0, 'Y2': 1.1, 'Z': None},\n",
    "        {'name': 'WindowSW_nonliving', 'direction': 'SW', 'area': 15.125, 'space_type': 'nonliving', 'UW': 3.49, \n",
    "         'EtaInputMethod': 'InputSeasonalValue', 'EtaCooling': 0.51, 'EtaHeating': 0.51,\n",
    "         'IsSunshadeInput': True, 'TypeGlass': None, 'Y1': 0, 'Y2': 1.1, 'Z': None},\n",
    "        {'name': 'WindowNW_main', 'direction': 'NW', 'area': 0.7925, 'space_type': 'main', 'UW': 3.49, 'EtaInputMethod': 'InputSeasonalValue',\n",
    "         'IsSunshadeInput': True, 'EtaCooling': 0.51, 'EtaHeating': 0.51, 'TypeGlass': None, 'Y1': 0, 'Y2': 1.1, 'Z': None},\n",
    "        {'name': 'WindowNW_other', 'direction': 'NW', 'area': 0.7925, 'space_type': 'other', 'UW': 3.49, 'EtaInputMethod': 'InputSeasonalValue',\n",
    "         'IsSunshadeInput': True, 'EtaCooling': 0.51, 'EtaHeating': 0.51, 'TypeGlass': None, 'Y1': 0, 'Y2': 1.1, 'Z': None},\n",
    "        {'name': 'WindowNW_nonliving', 'direction': 'NW', 'area': 1.585, 'space_type': 'nonliving', 'UW': 3.49, \n",
    "         'EtaInputMethod': 'InputSeasonalValue', 'EtaCooling': 0.51, 'EtaHeating': 0.51,\n",
    "         'IsSunshadeInput': True, 'TypeGlass': None, 'Y1': 0, 'Y2': 1.1, 'Z': None},\n",
    "        {'name': 'WindowNE_main', 'direction': 'NE', 'area': 1.21, 'space_type': 'main', 'UW': 3.49, 'EtaInputMethod': 'InputSeasonalValue',\n",
    "         'IsSunshadeInput': True, 'EtaCooling': 0.51, 'EtaHeating': 0.51, 'TypeGlass': None, 'Y1': 0, 'Y2': 1.1, 'Z': None},\n",
    "        {'name': 'WindowNE_other', 'direction': 'NE', 'area': 1.21, 'space_type': 'other', 'UW': 3.49, 'EtaInputMethod': 'InputSeasonalValue',\n",
    "         'IsSunshadeInput': True, 'EtaCooling': 0.51, 'EtaHeating': 0.51, 'TypeGlass': None, 'Y1': 0, 'Y2': 1.1, 'Z': None},\n",
    "        {'name': 'WindowNE_nonliving', 'direction': 'NE', 'area': 2.42, 'space_type': 'nonliving', 'UW': 3.49, \n",
    "         'EtaInputMethod': 'InputSeasonalValue', 'EtaCooling': 0.51, 'EtaHeating': 0.51,\n",
    "         'IsSunshadeInput': True, 'TypeGlass': None, 'Y1': 0, 'Y2': 1.1, 'Z': None},\n",
    "        {'name': 'WindowSE_main', 'direction': 'SE', 'area': 1.4575, 'space_type': 'main', 'UW': 3.49, 'EtaInputMethod': 'InputSeasonalValue',\n",
    "         'IsSunshadeInput': True, 'EtaCooling': 0.51, 'EtaHeating': 0.51, 'TypeGlass': None, 'Y1': 0, 'Y2': 1.1, 'Z': None},\n",
    "        {'name': 'WindowSE_other', 'direction': 'SE', 'area': 1.4575, 'space_type': 'other', 'UW': 3.49, \n",
    "         'EtaInputMethod': 'InputSeasonalValue', 'EtaCooling': 0.51, 'EtaHeating': 0.51, \n",
    "         'IsSunshadeInput': True, 'TypeGlass': None, 'Y1': 0, 'Y2': 1.1, 'Z': None},\n",
    "        {'name': 'WindowSE_nonliving', 'direction': 'SE', 'area': 2.915, 'space_type': 'nonliving', 'UW': 3.49,\n",
    "         'EtaInputMethod': 'InputSeasonalValue', 'EtaCooling': 0.51, 'EtaHeating': 0.51, \n",
    "         'IsSunshadeInput': True, 'TypeGlass': None, 'Y1': 0, 'Y2': 1.1, 'Z': None}\n",
    "    ],\n",
    "    'doors': [\n",
    "        {'name': 'DoorNW_main', 'direction': 'NW', 'area': 0.63, 'space_type': 'main', 'U': 4.65, 'IsSunshadeInput': False},\n",
    "        {'name': 'DoorNW_other', 'direction': 'NW', 'area': 0.63, 'space_type': 'other', 'U': 4.65, 'IsSunshadeInput': False},\n",
    "        {'name': 'DoorNW_nonliving', 'direction': 'NW', 'area': 1.26, 'space_type': 'nonliving', 'U': 4.65, 'IsSunshadeInput': False},\n",
    "        {'name': 'DoorNE_main', 'direction': 'NE', 'area': 0.54, 'space_type': 'main', 'U': 4.65, 'IsSunshadeInput': False},\n",
    "        {'name': 'DoorNE_other', 'direction': 'NE', 'area': 0.54, 'space_type': 'other', 'U': 4.65, 'IsSunshadeInput': False},\n",
    "        {'name': 'DoorNE_nonliving', 'direction': 'NE', 'area': 1.08, 'space_type': 'nonliving', 'U': 4.65, 'IsSunshadeInput': False}\n",
    "    ],\n",
    "    'earthfloor_perimeters': [\n",
    "        {'direction': 'NW', 'length': 2.43, 'name': 'Entrance_NW', 'psi': 1.8, 'space_type': 'underfloor'},\n",
    "        {'direction': 'NE', 'length': 1.83, 'name': 'Entrance_NE', 'psi': 1.8, 'space_type': 'underfloor'},\n",
    "        {'direction': 'OpenBackFloor', 'length': 4.25, 'name': 'Entrance_floor', 'psi': 1.8, 'space_type': 'underfloor'}\n",
    "    ]\n",
    "}\n",
    "\n",
    "convert(d)"
   ]
  },
  {
   "cell_type": "code",
   "execution_count": null,
   "metadata": {},
   "outputs": [],
   "source": []
  }
 ],
 "metadata": {
  "kernelspec": {
   "display_name": "Python 3",
   "language": "python",
   "name": "python3"
  },
  "language_info": {
   "codemirror_mode": {
    "name": "ipython",
    "version": 3
   },
   "file_extension": ".py",
   "mimetype": "text/x-python",
   "name": "python",
   "nbconvert_exporter": "python",
   "pygments_lexer": "ipython3",
   "version": "3.6.4"
  }
 },
 "nbformat": 4,
 "nbformat_minor": 2
}
