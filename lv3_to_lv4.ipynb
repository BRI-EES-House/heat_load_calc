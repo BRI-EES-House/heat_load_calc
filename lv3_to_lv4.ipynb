{
 "cells": [
  {
   "cell_type": "code",
   "execution_count": 1,
   "metadata": {},
   "outputs": [],
   "source": [
    "import copy"
   ]
  },
  {
   "cell_type": "markdown",
   "metadata": {},
   "source": [
    "# 外皮情報LV3からLV4へのコンバート"
   ]
  },
  {
   "cell_type": "markdown",
   "metadata": {},
   "source": [
    "## I. 関数"
   ]
  },
  {
   "cell_type": "markdown",
   "metadata": {},
   "source": [
    "### 1. 間仕切り床"
   ]
  },
  {
   "cell_type": "markdown",
   "metadata": {},
   "source": [
    "#### 1) 床の仕様"
   ]
  },
  {
   "cell_type": "markdown",
   "metadata": {},
   "source": [
    "| 番号 | 材料 | 熱伝導率, W m<sup>-1</sup> K<sup>-1</sup> | 容積比熱, J L<sup>-1</sup> K<sup>-1</sup> | 厚さ, m |\n",
    "|---|---|---|---|---|\n",
    "| 1 | 合板 | 0.16 | 720.0 | 0.024 |"
   ]
  },
  {
   "cell_type": "code",
   "execution_count": 2,
   "metadata": {},
   "outputs": [],
   "source": [
    "def get_inner_floor_spec():\n",
    "    \n",
    "    return {\n",
    "        'layers' : [\n",
    "            {\n",
    "                'name'                            : 'plywood',\n",
    "                'thermal_resistance_input_method' : 'conductivity',\n",
    "                'thermal_conductivity'            : 0.16,\n",
    "                'volumetric_specific_heat'        : 720.0,\n",
    "                'thickness'                       : 0.024,\n",
    "            }\n",
    "        ]\n",
    "    }"
   ]
  },
  {
   "cell_type": "markdown",
   "metadata": {},
   "source": [
    "#### 2) 方位が下面である外皮の部位の面積の合計"
   ]
  },
  {
   "cell_type": "markdown",
   "metadata": {},
   "source": [
    "$$A_{evlp,down,MR} = \\sum_i{A_{evlp,down,MR,i}}$$ "
   ]
  },
  {
   "cell_type": "markdown",
   "metadata": {},
   "source": [
    "$$A_{evlp,down,OR} = \\sum_i{A_{evlp,down,OR,i}}$$ "
   ]
  },
  {
   "cell_type": "markdown",
   "metadata": {},
   "source": [
    "$$A_{evlp,down,NR} = \\sum_i{A_{evlp,down,NR,i}}$$ "
   ]
  },
  {
   "cell_type": "markdown",
   "metadata": {},
   "source": [
    "$A_{evlp,down,MR}$：主たる居室に接する方位が下面である外皮の部位の面積の合計, m<sup>2</sup>  \n",
    "$A_{evlp,down,OR}$：その他の居室に接する方位が下面である外皮の部位の面積の合計, m<sup>2</sup>  \n",
    "$A_{evlp,down,NR}$：非居室に接する方位が下面である外皮の部位の面積の合計, m<sup>2</sup>  \n",
    "$A_{evlp,down,MR,i}$：主たる居室に接する方位が下面である外皮の部位iの面積, m<sup>2</sup>  \n",
    "$A_{evlp,down,OR,i}$：その他の居室に接する方位が下面である外皮の部位iの面積, m<sup>2</sup>  \n",
    "$A_{evlp,down,NR,i}$：非居室に接する方位が下面である外皮の部位iの面積, m<sup>2</sup>  "
   ]
  },
  {
   "cell_type": "code",
   "execution_count": 3,
   "metadata": {},
   "outputs": [],
   "source": [
    "def get_downward_envelope_total_area(envelope):\n",
    "\n",
    "    parts = []\n",
    "\n",
    "    if 'general_parts' in envelope: parts.extend(envelope['general_parts']) \n",
    "    \n",
    "    if 'windows' in envelope: parts.extend(envelope['windows'])\n",
    "        \n",
    "    if 'doors' in envelope: parts.extend(envelope['doors'])\n",
    "    \n",
    "    def f(space_type):\n",
    "        return sum(part['area'] for part in parts\n",
    "                   if part['space_type'] == space_type and (part['direction'] == 'bottom' or part['direction'] == 'downward'))\n",
    "\n",
    "    return f('main_occupant_room'), f('other_occupant_room'), f('non_occupant_room')"
   ]
  },
  {
   "cell_type": "markdown",
   "metadata": {},
   "source": [
    "#### 3) 土間床等の中心部の面積の合計"
   ]
  },
  {
   "cell_type": "markdown",
   "metadata": {},
   "source": [
    "$$A_{ef,MR} = \\sum_i {A_{ef,MR,i}}$$ "
   ]
  },
  {
   "cell_type": "markdown",
   "metadata": {},
   "source": [
    "$$A_{ef,OR}=\\sum_i{A_{ef,OR,i}}$$"
   ]
  },
  {
   "cell_type": "markdown",
   "metadata": {},
   "source": [
    "$$A_{ef,NR}=\\sum_i{A_{ef,NR,i}}$$ "
   ]
  },
  {
   "cell_type": "markdown",
   "metadata": {},
   "source": [
    "$$A_{ef,uf}=\\sum_i{A_{ef,uf,i}}$$ "
   ]
  },
  {
   "cell_type": "markdown",
   "metadata": {},
   "source": [
    "$A_{ef,MR}$：主たる居室に接する土間床等の中心部の面積の合計, m<sup>2</sup>  \n",
    "$A_{ef,OR}$：その他の居室に接する土間床等の中心部の面積の合計, m<sup>2</sup>  \n",
    "$A_{ef,NR}$：非居室に接する土間床等の中心部の面積の合計, m<sup>2</sup>  \n",
    "$A_{ef,uf}$：床下空間に接する土間床等の中心部の面積の合計, m<sup>2</sup>  \n",
    "$A_{ef,MR,i}$：主たる居室に接する土間床等の中心部$i$の面積, m<sup>2</sup>  \n",
    "$A_{ef,OR,i}$：その他の居室に接する土間床等の中心部$i$の面積, m<sup>2</sup>  \n",
    "$A_{ef,NR,i}$：非居室に接する土間床等の中心部$i$の面積, m<sup>2</sup>  \n",
    "$A_{ef,uf}$：床下空間に接する土間床等の中心部$i$の面積, m<sup>2</sup>  "
   ]
  },
  {
   "cell_type": "code",
   "execution_count": 4,
   "metadata": {},
   "outputs": [],
   "source": [
    "def get_earthfloor_total_area(envelope):\n",
    "\n",
    "    parts = []\n",
    "    \n",
    "    if 'earthfloor_centers' in envelope: parts.extend(envelope['earthfloor_centers'])\n",
    "    \n",
    "    def f(space_type):\n",
    "        return sum(part['area'] for part in parts\n",
    "                   if part['space_type'] == space_type)\n",
    "\n",
    "    return f('main_occupant_room'), f('other_occupant_room'), f('non_occupant_room'), f('underfloor')"
   ]
  },
  {
   "cell_type": "markdown",
   "metadata": {},
   "source": [
    "#### 4) 間仕切り床の面積の合計"
   ]
  },
  {
   "cell_type": "markdown",
   "metadata": {},
   "source": [
    "$$\n",
    "A_{if,MR} = \\max \\left( 0, A_{MR} - A_{evlp,down,MR} - A_{ef,MR} \\right)\n",
    "$$"
   ]
  },
  {
   "cell_type": "markdown",
   "metadata": {},
   "source": [
    "$$\n",
    "A_{if,OR} = \\max \\left( 0, A_{OR} - A_{evlp,down,OR} - A_{ef,OR} \\right)\n",
    "$$"
   ]
  },
  {
   "cell_type": "markdown",
   "metadata": {},
   "source": [
    "$$\n",
    "A_{if,NR} = \\max \\left( 0, A_A - A_{MR} - A_{OR} - A_{evlp,down,NR} - A_{ef,NR} \\right)\n",
    "$$"
   ]
  },
  {
   "cell_type": "markdown",
   "metadata": {},
   "source": [
    "$A_{if,MR}$：床上側が主たる居室に接する間仕切り床の面積の合計, m<sup>2</sup>  \n",
    "$A_{if,OR}$：床上側がその他の居室に接する間仕切り床の面積の合計, m<sup>2</sup>  \n",
    "$A_{if,NR}$：床上側が非居室に接する間仕切り床の面積の合計, m<sup>2</sup>  \n",
    "$A_{MR}$: 主たる居室の床面積, m<sup>2</sup>  \n",
    "$A_{OR}$: その他の居室の床面積, m<sup>2</sup>  \n",
    "$A_{A}$: 床面積の合計, m<sup>2</sup>   \n",
    "$A_{evlp,down,MR}$：主たる居室に接する方位が下面である外皮の部位の面積の合計, m<sup>2</sup>  \n",
    "$A_{evlp,down,OR}$：その他の居室に接する方位が下面である外皮の部位の面積の合計, m<sup>2</sup>  \n",
    "$A_{evlp,down,NR}$：非居室に接する方位が下面である外皮の部位の面積の合計, m<sup>2</sup>  \n",
    "$A_{ef,MR}$：主たる居室に接する土間床等の中心部の面積の合計, m<sup>2</sup>  \n",
    "$A_{ef,OR}$：その他の居室に接する土間床等の中心部の面積の合計, m<sup>2</sup>  \n",
    "$A_{ef,NR}$：非居室に接する土間床等の中心部の面積の合計, m<sup>2</sup>  "
   ]
  },
  {
   "cell_type": "code",
   "execution_count": 5,
   "metadata": {},
   "outputs": [],
   "source": [
    "def get_inner_floor_total_area(a_a, a_mr, a_or,\n",
    "                               a_evlp_down_mr, a_evlp_down_or, a_evlp_down_nr,\n",
    "                               a_ef_mr, a_ef_or, a_ef_nr):\n",
    "\n",
    "    a_if_mr = max(0.0, a_mr - a_evlp_down_mr - a_ef_mr)\n",
    "    a_if_or = max(0.0, a_or - a_evlp_down_or - a_ef_or)\n",
    "    a_if_nr = max(0.0, a_a - a_mr - a_or - a_evlp_down_nr - a_ef_nr)\n",
    "    \n",
    "    return a_if_mr, a_if_or, a_if_nr"
   ]
  },
  {
   "cell_type": "markdown",
   "metadata": {},
   "source": [
    "#### 5) 間仕切り床の面積の合計（床下側が床下空間）"
   ]
  },
  {
   "cell_type": "markdown",
   "metadata": {},
   "source": [
    "$A_{if,MR} + A_{if,OR} + A_{if,NR} > 0$の場合"
   ]
  },
  {
   "cell_type": "markdown",
   "metadata": {},
   "source": [
    "$$A_{if,MR-uf} = A_{ef,uf} \\frac{A_{if,MR}}{A_{if,MR} + A_{if,OR} + A_{if,NR}}$$"
   ]
  },
  {
   "cell_type": "markdown",
   "metadata": {},
   "source": [
    "$$A_{if,OR-uf} = A_{ef,uf} \\frac{A_{if,OR}}{A_{if,MR} + A_{if,OR} + A_{if,NR}}$$"
   ]
  },
  {
   "cell_type": "markdown",
   "metadata": {},
   "source": [
    "$$A_{if,NR-uf} = A_{ef,uf} \\frac{A_{if,NR}}{A_{if,MR} + A_{if,OR} + A_{if,NR}}$$"
   ]
  },
  {
   "cell_type": "markdown",
   "metadata": {},
   "source": [
    "$A_{if,MR} + A_{if,OR} + A_{if,NR} = 0$の場合"
   ]
  },
  {
   "cell_type": "markdown",
   "metadata": {},
   "source": [
    "$$A_{if,MR-uf}=0$$"
   ]
  },
  {
   "cell_type": "markdown",
   "metadata": {},
   "source": [
    "$$A_{if,OR-uf}=0$$"
   ]
  },
  {
   "cell_type": "markdown",
   "metadata": {},
   "source": [
    "$$A_{if,NR-uf}=0$$"
   ]
  },
  {
   "cell_type": "markdown",
   "metadata": {},
   "source": [
    "$A_{if,MR-uf}$：床上側が主たる居室に接し床下側が床下空間に接する間仕切り床の面積の合計, m<sup>2</sup>  \n",
    "$A_{if,OR-uf}$：床上側がその他の居室に接し床下側が床下空間に接する間仕切り床の面積の合計, m<sup>2</sup>  \n",
    "$A_{if,NR-uf}$：床上側が非居室に接し床下側が床下空間に接する間仕切り床の面積の合計, m<sup>2</sup>  \n",
    "$A_{ef,uf}$：床下空間に接する土間床等の中心部の面積の合計, m<sup>2</sup>  \n",
    "$A_{if,MR}$：床上側が主たる居室に接する間仕切り床の面積の合計, m<sup>2</sup>  \n",
    "$A_{if,OR}$：床上側がその他の居室に接する間仕切り床の面積の合計, m<sup>2</sup>  \n",
    "$A_{if,NR}$：床上側が非居室に接する間仕切り床の面積の合計, m<sup>2</sup>  "
   ]
  },
  {
   "cell_type": "code",
   "execution_count": 6,
   "metadata": {},
   "outputs": [],
   "source": [
    "def get_inner_floor_over_underfloor_total_area(a_if_mr, a_if_or, a_if_nr, a_ef_uf):\n",
    "    \n",
    "    if (a_if_mr + a_if_or + a_if_nr) > 0.0:\n",
    "        a_if_mr_uf = a_ef_uf * a_if_mr / (a_if_mr + a_if_or + a_if_nr)\n",
    "        a_if_or_uf = a_ef_uf * a_if_or / (a_if_mr + a_if_or + a_if_nr)\n",
    "        a_if_nr_uf = a_ef_uf * a_if_nr / (a_if_mr + a_if_or + a_if_nr)\n",
    "    else :\n",
    "        a_if_mr_uf = 0.0\n",
    "        a_if_or_uf = 0.0\n",
    "        a_if_nr_uf = 0.0\n",
    "    \n",
    "    return a_if_mr_uf, a_if_or_uf, a_if_nr_uf"
   ]
  },
  {
   "cell_type": "markdown",
   "metadata": {},
   "source": [
    "#### 6) 間仕切り床の面積の合計（床下側が主たる居室・その他の居室・非居室）"
   ]
  },
  {
   "cell_type": "markdown",
   "metadata": {},
   "source": [
    "$$ A_{if,MR-OR,NR} = \\max{ \\left( 0, A_{if,MR}-A_{if,MR-uf} \\right) } $$"
   ]
  },
  {
   "cell_type": "markdown",
   "metadata": {},
   "source": [
    "$$ A_{if,OR-MR,NR} = \\max{ \\left( 0, A_{if,OR}-A_{if,OR-uf} \\right) } $$"
   ]
  },
  {
   "cell_type": "markdown",
   "metadata": {},
   "source": [
    "$$ A_{if,NR-MR,OR} = \\max{ \\left( 0, A_{if,NR}-A_{if,NR-uf} \\right) } $$"
   ]
  },
  {
   "cell_type": "markdown",
   "metadata": {},
   "source": [
    "$A_{OR}=0$かつ$A_{NR}=0$の場合"
   ]
  },
  {
   "cell_type": "markdown",
   "metadata": {},
   "source": [
    "$$A_{if,MR-OR}=0$$"
   ]
  },
  {
   "cell_type": "markdown",
   "metadata": {},
   "source": [
    "$$A_{if,MR-NR}=0$$"
   ]
  },
  {
   "cell_type": "markdown",
   "metadata": {},
   "source": [
    "$$A_{if,OR-MR}=0$$"
   ]
  },
  {
   "cell_type": "markdown",
   "metadata": {},
   "source": [
    "$$A_{if,OR-NR}=0$$"
   ]
  },
  {
   "cell_type": "markdown",
   "metadata": {},
   "source": [
    "$$A_{if,NR-MR}=0$$"
   ]
  },
  {
   "cell_type": "markdown",
   "metadata": {},
   "source": [
    "$$A_{if,NR-OR}=0$$"
   ]
  },
  {
   "cell_type": "markdown",
   "metadata": {},
   "source": [
    "$A_{OR}=0$かつ$A_{NR}\\ne0$の場合"
   ]
  },
  {
   "cell_type": "markdown",
   "metadata": {},
   "source": [
    "$$A_{if,MR-OR}=0$$"
   ]
  },
  {
   "cell_type": "markdown",
   "metadata": {},
   "source": [
    "$$A_{if,MR-NR}=A_{if,MR-OR,NR}$$"
   ]
  },
  {
   "cell_type": "markdown",
   "metadata": {},
   "source": [
    "$$A_{if,OR-MR}=0$$"
   ]
  },
  {
   "cell_type": "markdown",
   "metadata": {},
   "source": [
    "$$A_{if,OR-NR}=0$$"
   ]
  },
  {
   "cell_type": "markdown",
   "metadata": {},
   "source": [
    "$$A_{if,NR-MR}=A_{if,NR-MR,OR}$$"
   ]
  },
  {
   "cell_type": "markdown",
   "metadata": {},
   "source": [
    "$$A_{if,NR-OR}=0$$"
   ]
  },
  {
   "cell_type": "markdown",
   "metadata": {},
   "source": [
    "$A_{OR}\\ne0$かつ$A_{NR}=0$の場合"
   ]
  },
  {
   "cell_type": "markdown",
   "metadata": {},
   "source": [
    "$$A_{if,MR-OR}=A_{if,MR-OR,NR}$$"
   ]
  },
  {
   "cell_type": "markdown",
   "metadata": {},
   "source": [
    "$$A_{if,MR-NR}=0$$"
   ]
  },
  {
   "cell_type": "markdown",
   "metadata": {},
   "source": [
    "$$A_{if,NR-MR}=0$$"
   ]
  },
  {
   "cell_type": "markdown",
   "metadata": {},
   "source": [
    "$$A_{if,NR-OR}=0$$"
   ]
  },
  {
   "cell_type": "markdown",
   "metadata": {},
   "source": [
    "$$A_{if,OR-MR}=A_{if,OR-MR,NR}$$"
   ]
  },
  {
   "cell_type": "markdown",
   "metadata": {},
   "source": [
    "$$A_{if,OR-NR}=0$$"
   ]
  },
  {
   "cell_type": "markdown",
   "metadata": {},
   "source": [
    "$A_{OR}\\ne0$かつ$A_{NR}\\ne0$の場合"
   ]
  },
  {
   "cell_type": "markdown",
   "metadata": {},
   "source": [
    "$$A_{if,MR-OR} = \\frac{ A_{if,MR-OR,NR} }{ 2 }$$"
   ]
  },
  {
   "cell_type": "markdown",
   "metadata": {},
   "source": [
    "$$A_{if,MR-NR} = \\frac{ A_{if,MR-OR,NR} }{ 2 }$$"
   ]
  },
  {
   "cell_type": "markdown",
   "metadata": {},
   "source": [
    "$$A_{if,OR-MR} = \\frac{ A_{if,OR-MR,NR} }{ 2 }$$"
   ]
  },
  {
   "cell_type": "markdown",
   "metadata": {},
   "source": [
    "$$A_{if,OR-NR} = \\frac{ A_{if,OR-MR,NR} }{ 2 }$$"
   ]
  },
  {
   "cell_type": "markdown",
   "metadata": {},
   "source": [
    "$$A_{if,NR-MR} = \\frac{ A_{if,NR-MR,OR} }{ 2 }$$"
   ]
  },
  {
   "cell_type": "markdown",
   "metadata": {},
   "source": [
    "$$A_{if,NR-OR} = \\frac{ A_{if,NR-MR,OR} }{ 2 }$$"
   ]
  },
  {
   "cell_type": "markdown",
   "metadata": {},
   "source": [
    "$A_{if,MR-OR,NR}$:床上側が主たる居室に接し床下側がその他の居室又は非居室に接する間仕切り床の面積の合計, m<sup>2</sup>  \n",
    "$A_{if,OR-MR,NR}$:床上側がその他の居室に接し床下側が主たる居室又は非居室に接する間仕切り床の面積の合計, m<sup>2</sup>  \n",
    "$A_{if,NR-MR,OR}$:床上側が非居室に接し床下側が主たる居室又はその他の居室に接する間仕切り床の面積の合計, m<sup>2</sup>  \n",
    "$A_{if,MR}$:床上側が主たる居室に接する間仕切り床の面積の合計, m<sup>2</sup>  \n",
    "$A_{if,OR}$:床上側がその他の居室に接する間仕切り床の面積の合計, m<sup>2</sup>  \n",
    "$A_{if,NR}$:床上側が非居室に接する間仕切り床の面積の合計, m<sup>2</sup>  \n",
    "$A_{if,MR-uf}$:床上側が主たる居室に接し床下側が床下空間に接する間仕切り床の面積の合計, m<sup>2</sup>  \n",
    "$A_{if,OR-uf}$:床上側がその他の居室に接し床下側が床下空間に接する間仕切り床の面積の合計, m<sup>2</sup>  \n",
    "$A_{if,NR-uf}$:床上側が非居室に接し床下側が床下空間に接する間仕切り床の面積の合計, m<sup>2</sup>  \n",
    "$A_{if,MR-OR}$:床上側が主たる居室に接し床下側がその他の居室に接する間仕切り床の面積の合計, m<sup>2</sup>  \n",
    "$A_{if,MR-NR}$:床上側が主たる居室に接し床下側が非居室に接する間仕切り床の面積の合計, m<sup>2</sup>  \n",
    "$A_{if,OR-MR}$:床上側がその他の居室に接し床下側が主たる居室に接する間仕切り床の面積の合計, m<sup>2</sup>  \n",
    "$A_{if,OR-NR}$:床上側がその他の居室に接し床下側が非居室に接する間仕切り床の面積の合計, m<sup>2</sup>  \n",
    "$A_{if,NR-MR}$:床上側が非居室に接し床下側が主たる居室に接する間仕切り床の面積の合計, m<sup>2</sup>  \n",
    "$A_{if,NR-OR}$:床上側が非居室に接し床下側がその他の居室に接する間仕切り床の面積の合計, m<sup>2</sup>  "
   ]
  },
  {
   "cell_type": "code",
   "execution_count": 7,
   "metadata": {},
   "outputs": [],
   "source": [
    "def get_inner_floor_between_rooms(a_mr, a_or, a_a, a_if_mr, a_if_or, a_if_nr, a_if_mr_uf, a_if_or_uf, a_if_nr_uf):\n",
    "    \n",
    "    a_nr = a_a - a_mr - a_or\n",
    "    \n",
    "    if a_mr <= 0.0:\n",
    "        raise ValueError('主たる居室の面積に0又は負の値が指定されました。主たる居室は必ず0より大きい値を指定する必要があります。')\n",
    "    \n",
    "    a_if_mr_or_nr = max(0.0, a_if_mr - a_if_mr_uf)\n",
    "    a_if_or_mr_nr = max(0.0, a_if_or - a_if_or_uf)\n",
    "    a_if_nr_mr_or = max(0.0, a_if_nr - a_if_nr_uf)\n",
    "\n",
    "    if a_or <= 0.0 and a_nr <= 0.0:\n",
    "        a_if_mr_or = 0.0\n",
    "        a_if_mr_nr = 0.0\n",
    "        a_if_or_mr = 0.0\n",
    "        a_if_or_nr = 0.0\n",
    "        a_if_nr_mr = 0.0\n",
    "        a_if_nr_or = 0.0\n",
    "    elif a_or <= 0.0:\n",
    "        a_if_mr_or = 0.0\n",
    "        a_if_mr_nr = a_if_mr_or_nr\n",
    "        a_if_or_mr = 0.0\n",
    "        a_if_or_nr = 0.0\n",
    "        a_if_nr_mr = a_if_nr_mr_or\n",
    "        a_if_nr_or = 0.0\n",
    "    elif a_nr <= 0.0:\n",
    "        a_if_mr_or = a_if_mr_or_nr\n",
    "        a_if_mr_nr = 0.0\n",
    "        a_if_or_mr = a_if_or_mr_nr\n",
    "        a_if_or_nr = 0.0\n",
    "        a_if_nr_mr = 0.0\n",
    "        a_if_nr_or = 0.0\n",
    "    else:\n",
    "        a_if_mr_or = a_if_mr_or_nr / 2\n",
    "        a_if_mr_nr = a_if_mr_or_nr / 2\n",
    "        a_if_or_mr = a_if_or_mr_nr / 2\n",
    "        a_if_or_nr = a_if_or_mr_nr / 2\n",
    "        a_if_nr_mr = a_if_nr_mr_or / 2\n",
    "        a_if_nr_or = a_if_nr_mr_or / 2\n",
    "    \n",
    "    return a_if_mr_or, a_if_mr_nr, a_if_or_mr, a_if_or_nr, a_if_nr_mr, a_if_nr_or"
   ]
  },
  {
   "cell_type": "markdown",
   "metadata": {},
   "source": [
    "### 2. 間仕切り壁"
   ]
  },
  {
   "cell_type": "markdown",
   "metadata": {},
   "source": [
    "#### 1) 壁の仕様"
   ]
  },
  {
   "cell_type": "markdown",
   "metadata": {},
   "source": [
    "| 材料 | 厚さ, m | 熱伝導率, W m<sup>-1</sup> K<sup>-1</sup> | 熱抵抗, m<sup>2</sup>2 k W<sup>-1</sup> | 容積比熱, J L<sup>-1</sup> K<sup>-1</sup> |\n",
    "|---|---|---|---|\n",
    "| せっこうボード | 0.0125 | 0.22 | - | 830.0 |\n",
    "| 非密閉空気層 | - | - | 0.090 | 0.0 |\n",
    "| せっこうボード | 0.0125 | 0.22 | - | 830.0 |"
   ]
  },
  {
   "cell_type": "code",
   "execution_count": 8,
   "metadata": {},
   "outputs": [],
   "source": [
    "def get_inner_wall_spec():\n",
    "    return {\n",
    "        'layers' : [\n",
    "            {\n",
    "                'name'                            : 'gpb',\n",
    "                'thermal_resistance_input_method' : 'conductivity',\n",
    "                'thermal_conductivity'            : 0.22,\n",
    "                'thickness'                       : 0.0125,\n",
    "                'volumetric_specific_heat'        : 830.0,\n",
    "            },\n",
    "            {\n",
    "                'name'                            : 'air_layer',\n",
    "                'thermal_resistance_input_method' : 'resistance',\n",
    "                'thermal_resistance'              : 0.09,\n",
    "                'volumetric_specific_heat'        : 0.0,\n",
    "            },\n",
    "            {\n",
    "                'name'                            : 'gpb',\n",
    "                'thermal_resistance_input_method' : 'conductivity',\n",
    "                'thermal_conductivity'            : 0.22,\n",
    "                'thickness'                       : 0.0125,\n",
    "                'volumetric_specific_heat'        : 830.0,\n",
    "            },\n",
    "        ]\n",
    "    }"
   ]
  },
  {
   "cell_type": "markdown",
   "metadata": {},
   "source": [
    "#### 2) 方位が水平である外皮の部位の面積の合計"
   ]
  },
  {
   "cell_type": "markdown",
   "metadata": {},
   "source": [
    "$$ A_{evlp,hzt,MR} = \\sum_i{ A_{evlp,hzt,MR,i} } $$"
   ]
  },
  {
   "cell_type": "markdown",
   "metadata": {},
   "source": [
    "$$ A_{evlp,hzt,OR} = \\sum_i{ A_{evlp,hzt,OR,i} } $$"
   ]
  },
  {
   "cell_type": "markdown",
   "metadata": {},
   "source": [
    "$$ A_{evlp,hzt,NR} = \\sum_i{ A_{evlp,hzt,NR,i} } $$"
   ]
  },
  {
   "cell_type": "markdown",
   "metadata": {},
   "source": [
    "$ A_{evlp,hzt,MR} $:主たる居室に接する方位が水平である外皮の部位の面積の合計, m<sup>2</sup>  \n",
    "$ A_{evlp,hzt,OR} $:その他の居室に接する方位が水平である外皮の部位の面積の合計, m<sup>2</sup>  \n",
    "$ A_{evlp,hzt,NR} $:非居室に接する方位が水平である外皮の部位の面積の合計, m<sup>2</sup>  \n",
    "$ A_{evlp,hzt,MR,i} $:主たる居室に接する方位が水平である外皮の部位$i$の面積, m<sup>2</sup>  \n",
    "$ A_{evlp,hzt,OR,i} $:その他の居室に接する方位が水平である外皮の部位$i$の面積, m<sup>2</sup>  \n",
    "$ A_{evlp,hzt,NR,i} $:非居室に接する方位が水平である外皮の部位$i$の面積, m<sup>2</sup>  "
   ]
  },
  {
   "cell_type": "code",
   "execution_count": 9,
   "metadata": {},
   "outputs": [],
   "source": [
    "def get_horizontal_envelope_total_area(envelope):\n",
    "\n",
    "    parts = []\n",
    "\n",
    "    if 'general_parts' in envelope: parts.extend(envelope['general_parts'])\n",
    "        \n",
    "    if 'windows' in envelope: parts.extend(envelope['windows'])\n",
    "        \n",
    "    if 'doors' in envelope: parts.extend(envelope['doors'])\n",
    "\n",
    "    def is_horizontal(part):\n",
    "        d = part['direction']\n",
    "        return d == 'n' or d == 'ne' or d == 'e' or d == 'se' or \\\n",
    "               d == 's' or d == 'sw' or d == 'w' or d == 'nw' or \\\n",
    "               d == 'horizontal'\n",
    "        \n",
    "    def f(space_type):\n",
    "        return sum(part['area'] for part in parts \\\n",
    "                   if part['space_type'] == space_type and is_horizontal(part))\n",
    "    \n",
    "    return f('main_occupant_room'), f('other_occupant_room'), f('non_occupant_room')"
   ]
  },
  {
   "cell_type": "markdown",
   "metadata": {},
   "source": [
    "#### 3) 間仕切り壁の面積の合計"
   ]
  },
  {
   "cell_type": "markdown",
   "metadata": {},
   "source": [
    "$$ A_{iw,MR} = \\max{ \\left( 0, 4 r_{iw,MR} h_{iw} \\sqrt{ A_{MR} } - A_{evlp,hzt,MR} \\right) } $$"
   ]
  },
  {
   "cell_type": "markdown",
   "metadata": {},
   "source": [
    "$$ A_{iw,OR} = \\max⁡{ \\left( 0, 4 r_{iw,OR} h_{iw} \\sqrt{ A_{OR} } - A_{evlp,hzt,OR} \\right) } $$"
   ]
  },
  {
   "cell_type": "markdown",
   "metadata": {},
   "source": [
    "$$ A_{iw,NR} = \\max⁡{ \\left( 0, 4 r_{iw,NR} h_{iw} \\sqrt{ A_A - A_{MR} - A_{OR} } - A_{evlp,hzt,NR} \\right) } $$"
   ]
  },
  {
   "cell_type": "markdown",
   "metadata": {},
   "source": [
    "$A_{iw,MR}$:主たる居室に接する間仕切り壁の面積の合計, m<sup>2</sup>  \n",
    "$A_{iw,OR}$:その他の居室に接する間仕切り壁の面積の合計, m<sup>2</sup>  \n",
    "$A_{iw,NR}$:非居室に接する間仕切り壁の面積の合計, m<sup>2</sup>  \n",
    "$r_{iw,MR}$:主たる居室の周長を求めるための形状係数($=1.2$)  \n",
    "$r_{iw,OR}$:その他の居室の周長を求めるための形状係数($=1.4$)  \n",
    "$r_{iw,NR}$:非居室の周長を求めるための形状係数($=1.4$)  \n",
    "$h_{iw}$:階高($=2.8$), m  \n",
    "$A_{MR}$:主たる居室の床面積, m<sup>2</sup>  \n",
    "$A_{OR}$:その他の居室の床面積, m<sup>2</sup>  \n",
    "$A_A$:床面積の合計, m<sup>2</sup>  \n",
    "$A_{evlp,hzt,MR}$:主たる居室に接する方位が水平である外皮の部位の面積の合計, m<sup>2</sup>  \n",
    "$A_{evlp,hzt,OR}$:その他の居室に接する方位が水平である外皮の部位の面積の合計, m<sup>2</sup>  \n",
    "$A_{evlp,hzt,NR}$:非居室に接する方位が水平である外皮の部位の面積の合計, m<sup>2</sup>  "
   ]
  },
  {
   "cell_type": "code",
   "execution_count": 10,
   "metadata": {},
   "outputs": [],
   "source": [
    "def get_inner_wall_total_area(a_mr, a_or, a_a, a_evlp_hzt_mr, a_evlp_hzt_or, a_evlp_hzt_nr):\n",
    "    \n",
    "    r_iw_mr, r_iw_or, r_iw_nr = 1.2, 1.4, 1.4\n",
    "\n",
    "    h_iw = 2.8\n",
    "    \n",
    "    a_iw_mr = max( 0.0, 4 * r_iw_mr * h_iw *            a_mr**0.5 - a_evlp_hzt_mr )\n",
    "    a_iw_or = max( 0.0, 4 * r_iw_or * h_iw *            a_or**0.5 - a_evlp_hzt_or )\n",
    "    a_iw_nr = max( 0.0, 4 * r_iw_nr * h_iw * (a_a-a_mr-a_or)**0.5 - a_evlp_hzt_nr )\n",
    "    \n",
    "    return a_iw_mr, a_iw_or, a_iw_nr"
   ]
  },
  {
   "cell_type": "markdown",
   "metadata": {},
   "source": [
    "#### 4) 各用途間の間仕切り壁の面積の合計"
   ]
  },
  {
   "cell_type": "markdown",
   "metadata": {},
   "source": [
    "$ A_{OR} = 0 $ かつ $ A_A - A_{MR} - A_{OR} = 0 $の場合"
   ]
  },
  {
   "cell_type": "markdown",
   "metadata": {},
   "source": [
    "$$ A_{iw,MR-OR} = 0 $$"
   ]
  },
  {
   "cell_type": "markdown",
   "metadata": {},
   "source": [
    "$$ A_{iw,MR-NR} = 0 $$"
   ]
  },
  {
   "cell_type": "markdown",
   "metadata": {},
   "source": [
    "$$ A_{iw,OR-NR} = 0 $$"
   ]
  },
  {
   "cell_type": "markdown",
   "metadata": {},
   "source": [
    "$ A_{OR} = 0 $ かつ $ A_A - A_{MR} - A_{OR} \\ne 0 $ の場合"
   ]
  },
  {
   "cell_type": "markdown",
   "metadata": {},
   "source": [
    "$$ A_{iw,MR-OR} = 0 $$"
   ]
  },
  {
   "cell_type": "markdown",
   "metadata": {},
   "source": [
    "$$ A_{iw,MR-NR} = \\frac{ \\left( A_{iw,MR} + A_{iw,NR} \\right) }{ 2 } $$"
   ]
  },
  {
   "cell_type": "markdown",
   "metadata": {},
   "source": [
    "$$ A_{iw,OR-NR} = 0 $$"
   ]
  },
  {
   "cell_type": "markdown",
   "metadata": {},
   "source": [
    "$ A_{OR} \\ne 0 $ かつ $ A_A - A_{MR} - A_{OR} = 0 $ の場合"
   ]
  },
  {
   "cell_type": "markdown",
   "metadata": {},
   "source": [
    "$$ A_{iw,MR-OR} = 0 $$"
   ]
  },
  {
   "cell_type": "markdown",
   "metadata": {},
   "source": [
    "$$ A_{iw,MR-NR} = 0 $$"
   ]
  },
  {
   "cell_type": "markdown",
   "metadata": {},
   "source": [
    "$$ A_{iw,OR-NR} = \\frac{ \\left( A_{iw,OR} + A_{iw,NR} \\right) }{ 2 } $$"
   ]
  },
  {
   "cell_type": "markdown",
   "metadata": {},
   "source": [
    "$ A_{OR} \\ne 0 $ かつ $ A_A - A_{MR} - A_{OR} \\ne 0 $ の場合"
   ]
  },
  {
   "cell_type": "markdown",
   "metadata": {},
   "source": [
    "$$ A_{iw,MR-OR} = \\max{ \\left( 0.0, \\frac{ \\left( A_{iw,MR} + A_{iw,OR} -A_{iw,NR} \\right) }{ 2 } \\right) } $$"
   ]
  },
  {
   "cell_type": "markdown",
   "metadata": {},
   "source": [
    "$$ A_{iw,MR-NR} = \\max{ \\left( 0.0, \\frac{ \\left( A_{iw,MR} + A_{iw,NR} -A_{iw,OR} \\right) }{ 2 } \\right) } $$"
   ]
  },
  {
   "cell_type": "markdown",
   "metadata": {},
   "source": [
    "$$ A_{iw,OR-NR} = \\max{ \\left( 0.0, \\frac{ \\left( A_{iw,OR} + A_{iw,NR} -A_{iw,MR} \\right) }{ 2 } \\right) } $$"
   ]
  },
  {
   "cell_type": "markdown",
   "metadata": {},
   "source": [
    "$A_{MR}$:主たる居室の床面積, m<sup>2</sup>  \n",
    "$A_{OR}$:その他の居室の床面積, m<sup>2</sup>  \n",
    "$A_A$:床面積の合計, m<sup>2</sup>  \n",
    "$A_{iw,MR-OR}$:主たる居室とその他の居室に接する間仕切り壁の面積の合計, m<sup>2</sup>  \n",
    "$A_{iw,MR-NR}$:主たる居室と非居室に接する間仕切り壁の面積の合計, m<sup>2</sup>  \n",
    "$A_{iw,OR-NR}$:その他の居室と非居室に接する間仕切り壁の面積の合計, m<sup>2</sup>  \n",
    "$A_{iw,MR}$:主たる居室に接する間仕切り壁の面積の合計, m<sup>2</sup>  \n",
    "$A_{iw,OR}$:その他の居室に接する間仕切り壁の面積の合計, m<sup>2</sup>  \n",
    "$A_{iw,NR}$:非居室に接する間仕切り壁の面積の合計, m<sup>2</sup>  "
   ]
  },
  {
   "cell_type": "code",
   "execution_count": 11,
   "metadata": {},
   "outputs": [],
   "source": [
    "def get_inner_wall_total_area_between_rooms(a_mr, a_or, a_a, a_iw_mr, a_iw_or, a_iw_nr):\n",
    "\n",
    "    a_nr = a_a - a_mr - a_or\n",
    "    \n",
    "    if a_mr <= 0.0:\n",
    "        raise ValueError('主たる居室の面積に0又は負の値が指定されました。主たる居室は必ず0より大きい値を指定する必要があります。')\n",
    "    \n",
    "    if a_or <= 0.0 and a_nr <= 0.0:\n",
    "        a_iw_mr_or = 0.0\n",
    "        a_iw_mr_nr = 0.0\n",
    "        a_iw_or_nr = 0.0\n",
    "    elif a_or <= 0.0:\n",
    "        a_iw_mr_or = 0.0\n",
    "        a_iw_mr_nr = (a_iw_mr + a_iw_nr)/2\n",
    "        a_iw_or_nr = 0.0\n",
    "    elif a_nr <= 0.0:\n",
    "        a_iw_mr_or = (a_iw_mr + a_iw_or)/2\n",
    "        a_iw_mr_nr = 0.0\n",
    "        a_iw_or_nr = 0.0\n",
    "    else:\n",
    "        a_iw_mr_or = max(0.0, (a_iw_mr + a_iw_or - a_iw_nr) / 2)\n",
    "        a_iw_mr_nr = max(0.0, (a_iw_mr + a_iw_nr - a_iw_or) / 2)\n",
    "        a_iw_or_nr = max(0.0, (a_iw_or + a_iw_nr - a_iw_mr) / 2)\n",
    "    \n",
    "    return a_iw_mr_or, a_iw_mr_nr, a_iw_or_nr"
   ]
  },
  {
   "cell_type": "markdown",
   "metadata": {},
   "source": [
    "## II. 統合"
   ]
  },
  {
   "cell_type": "markdown",
   "metadata": {},
   "source": [
    "### 1. 室内床"
   ]
  },
  {
   "cell_type": "code",
   "execution_count": 12,
   "metadata": {},
   "outputs": [],
   "source": [
    "def make_inner_floors(envelope, common):\n",
    "\n",
    "    a_mr = common['main_occupant_room_floor_area']\n",
    "    a_or = common['other_occupant_room_floor_area']\n",
    "    a_a  = common['total_floor_area']\n",
    "\n",
    "    a_evlp_down_mr, a_evlp_down_or, a_evlp_down_nr = get_downward_envelope_total_area(envelope)\n",
    "    \n",
    "    a_ef_mr, a_ef_or, a_ef_nr, a_ef_uf = get_earthfloor_total_area(envelope)\n",
    "\n",
    "    a_if_mr, a_if_or, a_if_nr = get_inner_floor_total_area(a_a, a_mr, a_or,\n",
    "                                                           a_evlp_down_mr, a_evlp_down_or, a_evlp_down_nr,\n",
    "                                                           a_ef_mr, a_ef_or, a_ef_nr)\n",
    "\n",
    "    a_if_mr_uf, a_if_or_uf, a_if_nr_uf = get_inner_floor_over_underfloor_total_area(a_if_mr, a_if_or, a_if_nr, a_ef_uf)    \n",
    "\n",
    "    a_if_mr_or, a_if_mr_nr, a_if_or_mr, a_if_or_nr, a_if_nr_mr, a_if_nr_or \\\n",
    "    = get_inner_floor_between_rooms(a_mr, a_or, a_a, a_if_mr, a_if_or, a_if_nr, a_if_mr_uf, a_if_or_uf, a_if_nr_uf)\n",
    "\n",
    "    ifs = []\n",
    "    \n",
    "    def append_inner_floor(ifs, name, area, upper_space_type, lower_space_type):\n",
    "        \n",
    "        if area > 0.0:\n",
    "            ifs.append(\n",
    "                {\n",
    "                    'name'             : name,\n",
    "                    'area'             : area,\n",
    "                    'upper_space_type' : upper_space_type,\n",
    "                    'lower_space_type' : lower_space_type,\n",
    "                    'spec'             : get_inner_floor_spec()\n",
    "                }\n",
    "            )\n",
    "\n",
    "    append_inner_floor(ifs, 'inner_floor_main_to_underfloor',  a_if_mr_uf, 'main_occupant_room',  'underfloor'          )\n",
    "    append_inner_floor(ifs, 'inner_floor_other_to_underfloor', a_if_or_uf, 'other_occupant_room', 'underfloor'          )\n",
    "    append_inner_floor(ifs, 'inner_floor_non_to_underfloor',   a_if_nr_uf, 'non_occupant_room',   'underfloor'          )\n",
    "    append_inner_floor(ifs, 'inner_floor_main_to_other',       a_if_mr_or, 'main_occupant_room',  'other_occupant_room' )\n",
    "    append_inner_floor(ifs, 'inner_floor_main_to_non',         a_if_mr_nr, 'main_occupant_room',  'non_occupant_room'   )\n",
    "    append_inner_floor(ifs, 'inner_floor_other_to_main',       a_if_or_mr, 'other_occupant_room', 'main_occupant_room'  )\n",
    "    append_inner_floor(ifs, 'inner_floor_other_to_non',        a_if_or_nr, 'other_occupant_room', 'non_occupant_room'   )\n",
    "    append_inner_floor(ifs, 'inner_floor_non_to_main',         a_if_nr_mr, 'non_occupant_room',   'main_occupant_room'  )\n",
    "    append_inner_floor(ifs, 'inner_floor_non_to_other',        a_if_nr_or, 'non_occupant_room',   'other_occupant_room' )\n",
    "                    \n",
    "    return ifs"
   ]
  },
  {
   "cell_type": "markdown",
   "metadata": {},
   "source": [
    "example"
   ]
  },
  {
   "cell_type": "code",
   "execution_count": 13,
   "metadata": {},
   "outputs": [
    {
     "data": {
      "text/plain": [
       "[{'name': 'inner_floor_main_to_underfloor',\n",
       "  'area': 2.5,\n",
       "  'upper_space_type': 'main_occupant_room',\n",
       "  'lower_space_type': 'underfloor',\n",
       "  'spec': {'layers': [{'name': 'plywood',\n",
       "     'thermal_resistance_input_method': 'conductivity',\n",
       "     'thermal_conductivity': 0.16,\n",
       "     'volumetric_specific_heat': 720.0,\n",
       "     'thickness': 0.024}]}},\n",
       " {'name': 'inner_floor_other_to_underfloor',\n",
       "  'area': 5.0,\n",
       "  'upper_space_type': 'other_occupant_room',\n",
       "  'lower_space_type': 'underfloor',\n",
       "  'spec': {'layers': [{'name': 'plywood',\n",
       "     'thermal_resistance_input_method': 'conductivity',\n",
       "     'thermal_conductivity': 0.16,\n",
       "     'volumetric_specific_heat': 720.0,\n",
       "     'thickness': 0.024}]}},\n",
       " {'name': 'inner_floor_non_to_underfloor',\n",
       "  'area': 2.5,\n",
       "  'upper_space_type': 'non_occupant_room',\n",
       "  'lower_space_type': 'underfloor',\n",
       "  'spec': {'layers': [{'name': 'plywood',\n",
       "     'thermal_resistance_input_method': 'conductivity',\n",
       "     'thermal_conductivity': 0.16,\n",
       "     'volumetric_specific_heat': 720.0,\n",
       "     'thickness': 0.024}]}},\n",
       " {'name': 'inner_floor_main_to_other',\n",
       "  'area': 13.75,\n",
       "  'upper_space_type': 'main_occupant_room',\n",
       "  'lower_space_type': 'other_occupant_room',\n",
       "  'spec': {'layers': [{'name': 'plywood',\n",
       "     'thermal_resistance_input_method': 'conductivity',\n",
       "     'thermal_conductivity': 0.16,\n",
       "     'volumetric_specific_heat': 720.0,\n",
       "     'thickness': 0.024}]}},\n",
       " {'name': 'inner_floor_main_to_non',\n",
       "  'area': 13.75,\n",
       "  'upper_space_type': 'main_occupant_room',\n",
       "  'lower_space_type': 'non_occupant_room',\n",
       "  'spec': {'layers': [{'name': 'plywood',\n",
       "     'thermal_resistance_input_method': 'conductivity',\n",
       "     'thermal_conductivity': 0.16,\n",
       "     'volumetric_specific_heat': 720.0,\n",
       "     'thickness': 0.024}]}},\n",
       " {'name': 'inner_floor_other_to_main',\n",
       "  'area': 27.5,\n",
       "  'upper_space_type': 'other_occupant_room',\n",
       "  'lower_space_type': 'main_occupant_room',\n",
       "  'spec': {'layers': [{'name': 'plywood',\n",
       "     'thermal_resistance_input_method': 'conductivity',\n",
       "     'thermal_conductivity': 0.16,\n",
       "     'volumetric_specific_heat': 720.0,\n",
       "     'thickness': 0.024}]}},\n",
       " {'name': 'inner_floor_other_to_non',\n",
       "  'area': 27.5,\n",
       "  'upper_space_type': 'other_occupant_room',\n",
       "  'lower_space_type': 'non_occupant_room',\n",
       "  'spec': {'layers': [{'name': 'plywood',\n",
       "     'thermal_resistance_input_method': 'conductivity',\n",
       "     'thermal_conductivity': 0.16,\n",
       "     'volumetric_specific_heat': 720.0,\n",
       "     'thickness': 0.024}]}},\n",
       " {'name': 'inner_floor_non_to_main',\n",
       "  'area': 13.75,\n",
       "  'upper_space_type': 'non_occupant_room',\n",
       "  'lower_space_type': 'main_occupant_room',\n",
       "  'spec': {'layers': [{'name': 'plywood',\n",
       "     'thermal_resistance_input_method': 'conductivity',\n",
       "     'thermal_conductivity': 0.16,\n",
       "     'volumetric_specific_heat': 720.0,\n",
       "     'thickness': 0.024}]}},\n",
       " {'name': 'inner_floor_non_to_other',\n",
       "  'area': 13.75,\n",
       "  'upper_space_type': 'non_occupant_room',\n",
       "  'lower_space_type': 'other_occupant_room',\n",
       "  'spec': {'layers': [{'name': 'plywood',\n",
       "     'thermal_resistance_input_method': 'conductivity',\n",
       "     'thermal_conductivity': 0.16,\n",
       "     'volumetric_specific_heat': 720.0,\n",
       "     'thickness': 0.024}]}}]"
      ]
     },
     "execution_count": 13,
     "metadata": {},
     "output_type": "execute_result"
    }
   ],
   "source": [
    "d = {\n",
    "    'common': {\n",
    "        'region': 6,\n",
    "        'main_occupant_room_floor_area': 30.0,\n",
    "        'other_occupant_room_floor_area': 60.0,\n",
    "        'total_floor_area': 120.0\n",
    "    },\n",
    "    'envelope' : {\n",
    "        'general_parts': [\n",
    "            {\n",
    "                'name' : 'floor',\n",
    "                'evlp_type' : 'floor',\n",
    "                'next_space' : 'open_underfloor',\n",
    "                'direction' : 'bottom',\n",
    "                'area' : 60.0,\n",
    "                'space_type': 'main',\n",
    "                'spec' : 'something'\n",
    "            },\n",
    "        ],\n",
    "        'earthfloor_centers': [\n",
    "            { 'name': 'other',    'area': 5.0, 'space_type': 'underfloor' },\n",
    "            { 'name': 'entrance', 'area': 5.0, 'space_type': 'underfloor' }\n",
    "        ]\n",
    "    }\n",
    "}\n",
    "\n",
    "make_inner_floors(d['envelope'], d['common'])"
   ]
  },
  {
   "cell_type": "markdown",
   "metadata": {},
   "source": [
    "### 2. 室内壁"
   ]
  },
  {
   "cell_type": "code",
   "execution_count": 14,
   "metadata": {},
   "outputs": [],
   "source": [
    "def make_inner_walls(envelope, common):\n",
    "\n",
    "    a_mr = common['main_occupant_room_floor_area']\n",
    "    a_or = common['other_occupant_room_floor_area']\n",
    "    a_a  = common['total_floor_area']\n",
    " \n",
    "    a_ow_mr, a_ow_or, a_ow_nr = get_horizontal_envelope_total_area(envelope)\n",
    "\n",
    "    a_iw_mr, a_iw_or, a_iw_nr = get_inner_wall_total_area(a_mr, a_or, a_a, a_ow_mr, a_ow_or, a_ow_nr)\n",
    "        \n",
    "    a_iw_mr_or, a_iw_mr_nr, a_iw_or_nr = get_inner_wall_total_area_between_rooms(a_mr, a_or, a_a, a_iw_mr, a_iw_or, a_iw_nr)\n",
    "    \n",
    "    iws = []\n",
    "\n",
    "    def append_inner_wall(iws, name, area, space_type_1, space_type_2):\n",
    "        \n",
    "        if area > 0.0:\n",
    "            iws.append(\n",
    "                {\n",
    "                    'name'         : name,\n",
    "                    'area'         : area,\n",
    "                    'space_type_1' : space_type_1,\n",
    "                    'space_type_2' : space_type_2,\n",
    "                    'spec'         : get_inner_wall_spec()\n",
    "                }\n",
    "            )\n",
    "\n",
    "    append_inner_wall(iws, 'inner_wall_main_to_other', a_iw_mr_or, 'main_occupant_room', 'other_occupant_room')\n",
    "    append_inner_wall(iws, 'inner_wall_main_to_non',   a_iw_mr_nr, 'main_occupant_room', 'non_occupant_room')\n",
    "    append_inner_wall(iws, 'inner_wall_other_to_non',  a_iw_or_nr, 'other_occupant_room', 'non_occupant_room')\n",
    "\n",
    "    return iws"
   ]
  },
  {
   "cell_type": "markdown",
   "metadata": {},
   "source": [
    "example"
   ]
  },
  {
   "cell_type": "code",
   "execution_count": 15,
   "metadata": {},
   "outputs": [
    {
     "data": {
      "text/plain": [
       "[{'name': 'inner_wall_main_to_other',\n",
       "  'area': 54.59388622447443,\n",
       "  'space_type_1': 'main_occupant_room',\n",
       "  'space_type_2': 'other_occupant_room',\n",
       "  'spec': {'layers': [{'name': 'gpb',\n",
       "     'thermal_resistance_input_method': 'conductivity',\n",
       "     'thermal_conductivity': 0.22,\n",
       "     'thickness': 0.0125,\n",
       "     'volumetric_specific_heat': 830.0},\n",
       "    {'name': 'air_layer',\n",
       "     'thermal_resistance_input_method': 'resistance',\n",
       "     'thermal_resistance': 0.09,\n",
       "     'volumetric_specific_heat': 0.0},\n",
       "    {'name': 'gpb',\n",
       "     'thermal_resistance_input_method': 'conductivity',\n",
       "     'thermal_conductivity': 0.22,\n",
       "     'thickness': 0.0125,\n",
       "     'volumetric_specific_heat': 830.0}]}},\n",
       " {'name': 'inner_wall_main_to_non',\n",
       "  'area': 19.020025504219888,\n",
       "  'space_type_1': 'main_occupant_room',\n",
       "  'space_type_2': 'non_occupant_room',\n",
       "  'spec': {'layers': [{'name': 'gpb',\n",
       "     'thermal_resistance_input_method': 'conductivity',\n",
       "     'thermal_conductivity': 0.22,\n",
       "     'thickness': 0.0125,\n",
       "     'volumetric_specific_heat': 830.0},\n",
       "    {'name': 'air_layer',\n",
       "     'thermal_resistance_input_method': 'resistance',\n",
       "     'thermal_resistance': 0.09,\n",
       "     'volumetric_specific_heat': 0.0},\n",
       "    {'name': 'gpb',\n",
       "     'thermal_resistance_input_method': 'conductivity',\n",
       "     'thermal_conductivity': 0.22,\n",
       "     'thickness': 0.0125,\n",
       "     'volumetric_specific_heat': 830.0}]}},\n",
       " {'name': 'inner_wall_other_to_non',\n",
       "  'area': 66.86287151259015,\n",
       "  'space_type_1': 'other_occupant_room',\n",
       "  'space_type_2': 'non_occupant_room',\n",
       "  'spec': {'layers': [{'name': 'gpb',\n",
       "     'thermal_resistance_input_method': 'conductivity',\n",
       "     'thermal_conductivity': 0.22,\n",
       "     'thickness': 0.0125,\n",
       "     'volumetric_specific_heat': 830.0},\n",
       "    {'name': 'air_layer',\n",
       "     'thermal_resistance_input_method': 'resistance',\n",
       "     'thermal_resistance': 0.09,\n",
       "     'volumetric_specific_heat': 0.0},\n",
       "    {'name': 'gpb',\n",
       "     'thermal_resistance_input_method': 'conductivity',\n",
       "     'thermal_conductivity': 0.22,\n",
       "     'thickness': 0.0125,\n",
       "     'volumetric_specific_heat': 830.0}]}}]"
      ]
     },
     "execution_count": 15,
     "metadata": {},
     "output_type": "execute_result"
    }
   ],
   "source": [
    "d = {\n",
    "    'common': {\n",
    "        'region': 6,\n",
    "        'main_occupant_room_floor_area': 30.0,\n",
    "        'other_occupant_room_floor_area': 60.0,\n",
    "        'total_floor_area': 120.0\n",
    "    },\n",
    "    'envelope' : {\n",
    "        'general_parts': [\n",
    "            {\n",
    "                'name' : 'ceiling',\n",
    "                'evlp_type' : 'ceiling',\n",
    "                'next_space' : 'outdoor', \n",
    "                'direction' : 'top',\n",
    "                'area' : 60.0,\n",
    "                'space_type' : 'main_occupant_room',\n",
    "                'spec' : 'something',\n",
    "            },\n",
    "            {\n",
    "                'name' : 'ceiling',\n",
    "                'evlp_type' : 'ceiling',\n",
    "                'next_space' : 'outdoor', \n",
    "                'direction' : 'top',\n",
    "                'area' : 60.0,\n",
    "                'space_type' : 'main_occupant_room',\n",
    "                'spec' : 'something',\n",
    "            },\n",
    "            {\n",
    "                'name' : 'floor',\n",
    "                'evlp_type' : 'floor',\n",
    "                'direction': 'bottom',\n",
    "                'area' : 60.0,\n",
    "                'space_type': 'main_occupant_room',\n",
    "                'spec' : 'something',\n",
    "            }\n",
    "        ],\n",
    "        'windows': [\n",
    "            {\n",
    "                'name' : 'window_top',\n",
    "                'next_space' : 'outdoor',\n",
    "                'direction' : 'top',\n",
    "                'area' : 30.0,\n",
    "                'space_type' : 'main_occupant_room',\n",
    "                'spec' : 'something',\n",
    "            }\n",
    "        ],\n",
    "        'earthfloor_centers' : [\n",
    "            { 'name': 'other', 'area': 5.0, 'space_type': 'underfloor' },\n",
    "            { 'name': 'entrance', 'area': 5.0, 'space_type': 'underfloor' }\n",
    "        ]\n",
    "    }\n",
    "}\n",
    "\n",
    "make_inner_walls(d['envelope'], d['common'])"
   ]
  },
  {
   "cell_type": "markdown",
   "metadata": {},
   "source": [
    "### 3. 全体"
   ]
  },
  {
   "cell_type": "code",
   "execution_count": 16,
   "metadata": {},
   "outputs": [],
   "source": [
    "def convert(d):\n",
    "    \n",
    "    common = d['common']\n",
    "    envelope = d['envelope']\n",
    "    \n",
    "    envelope_out = {}\n",
    "    \n",
    "    if ('general_parts' in envelope) == True:\n",
    "        envelope_out['general_parts'] = copy.deepcopy(envelope['general_parts'])\n",
    "        \n",
    "    if ('windows' in envelope) == True:\n",
    "        envelope_out['windows'] = copy.deepcopy(envelope['windows'])\n",
    "        \n",
    "    if ('doors' in envelope) == True:\n",
    "        envelope_out['doors'] = copy.deepcopy(envelope['doors'])\n",
    "        \n",
    "    if ('heat_bridges' in envelope) == True:\n",
    "        envelope_out['heat_bridges'] = copy.deepcopy(envelope['heat_bridges'])\n",
    "        \n",
    "    if ('earthfloor_perimeters' in envelope) == True:\n",
    "        envelope_out['earthfloor_perimeters'] = copy.deepcopy(envelope['earthfloor_perimeters'])\n",
    "        \n",
    "    if ('earthfloor_centers' in envelope) == True:\n",
    "        envelope_out['earthfloor_centers'] = copy.deepcopy(envelope['earthfloor_centers'])\n",
    "    \n",
    "    envelope_out['inner_floors'] = make_inner_floors(envelope, common)\n",
    "    \n",
    "    envelope_out['inner_walls'] = make_inner_walls(envelope, common)\n",
    "\n",
    "    return {\n",
    "        'common' : copy.deepcopy(common),\n",
    "        'envelope' : envelope_out\n",
    "    }\n"
   ]
  },
  {
   "cell_type": "markdown",
   "metadata": {},
   "source": [
    "example"
   ]
  },
  {
   "cell_type": "code",
   "execution_count": 17,
   "metadata": {},
   "outputs": [
    {
     "data": {
      "text/plain": [
       "{'common': {'region': 6,\n",
       "  'main_occupant_room_floor_area': 30.0,\n",
       "  'other_occupant_room_floor_area': 30.0,\n",
       "  'total_floor_area': 120.0},\n",
       " 'envelope': {'general_parts': [{'name': 'g1',\n",
       "    'evlp_type': 'ceiling',\n",
       "    'next_space': 'outdoor',\n",
       "    'direction': 'top',\n",
       "    'area': 16.95,\n",
       "    'space_type': 'main_occupant_room',\n",
       "    'spec': 'something'},\n",
       "   {'name': 'g2',\n",
       "    'evlp_type': 'ceiling',\n",
       "    'next_space': 'outdoor',\n",
       "    'direction': 'top',\n",
       "    'area': 16.95,\n",
       "    'space_type': 'other_occupant_room',\n",
       "    'spec': 'something'},\n",
       "   {'name': 'g3',\n",
       "    'evlp_type': 'ceiling',\n",
       "    'next_space': 'outdoor',\n",
       "    'direction': 'top',\n",
       "    'area': 33.9,\n",
       "    'space_type': 'non_occupant_room',\n",
       "    'spec': 'something'},\n",
       "   {'name': 'g4',\n",
       "    'evlp_type': 'wall',\n",
       "    'next_space': 'outdoor',\n",
       "    'direction': 'sw',\n",
       "    'area': 10.1575,\n",
       "    'space_type': 'main_occupant_room',\n",
       "    'spec': 'something'},\n",
       "   {'name': 'g5',\n",
       "    'evlp_type': 'wall',\n",
       "    'next_space': 'outdoor',\n",
       "    'direction': 'sw',\n",
       "    'area': 10.1575,\n",
       "    'space_type': 'other_occupant_room',\n",
       "    'spec': 'something'},\n",
       "   {'name': 'g6',\n",
       "    'evlp_type': 'wall',\n",
       "    'next_space': 'outdoor',\n",
       "    'direction': 'sw',\n",
       "    'area': 20.315,\n",
       "    'space_type': 'non_occupant_room',\n",
       "    'spec': 'something'},\n",
       "   {'name': 'g7',\n",
       "    'evlp_type': 'wall',\n",
       "    'next_space': 'outdoor',\n",
       "    'direction': 'nw',\n",
       "    'area': 7.4575,\n",
       "    'space_type': 'main_occupant_room',\n",
       "    'spec': 'something'},\n",
       "   {'name': 'g8',\n",
       "    'evlp_type': 'wall',\n",
       "    'next_space': 'outdoor',\n",
       "    'direction': 'nw',\n",
       "    'area': 7.4575,\n",
       "    'space_type': 'other_occupant_room',\n",
       "    'spec': 'something'},\n",
       "   {'name': 'g9',\n",
       "    'evlp_type': 'wall',\n",
       "    'next_space': 'outdoor',\n",
       "    'direction': 'nw',\n",
       "    'area': 14.915,\n",
       "    'space_type': 'non_occupant_room',\n",
       "    'spec': 'something'},\n",
       "   {'name': 'g10',\n",
       "    'evlp_type': 'wall',\n",
       "    'next_space': 'outdoor',\n",
       "    'direction': 'ne',\n",
       "    'area': 15.9725,\n",
       "    'space_type': 'main_occupant_room',\n",
       "    'spec': 'something'},\n",
       "   {'name': 'g11',\n",
       "    'evlp_type': 'wall',\n",
       "    'next_space': 'outdoor',\n",
       "    'direction': 'ne',\n",
       "    'area': 15.9725,\n",
       "    'space_type': 'other_occupant_room',\n",
       "    'spec': 'something'},\n",
       "   {'name': 'g12',\n",
       "    'evlp_type': 'wall',\n",
       "    'next_space': 'outdoor',\n",
       "    'direction': 'ne',\n",
       "    'area': 31.945,\n",
       "    'space_type': 'non_occupant_room',\n",
       "    'spec': 'something'},\n",
       "   {'name': 'g13',\n",
       "    'evlp_type': 'wall',\n",
       "    'next_space': 'outdoor',\n",
       "    'direction': 'se',\n",
       "    'area': 7.4275,\n",
       "    'space_type': 'main_occupant_room',\n",
       "    'spec': 'something'},\n",
       "   {'name': 'g14',\n",
       "    'evlp_type': 'wall',\n",
       "    'next_space': 'outdoor',\n",
       "    'direction': 'se',\n",
       "    'area': 7.4275,\n",
       "    'space_type': 'other_occupant_room',\n",
       "    'spec': 'something'},\n",
       "   {'name': 'g15',\n",
       "    'evlp_type': 'wall',\n",
       "    'next_space': 'outdoor',\n",
       "    'direction': 'se',\n",
       "    'area': 14.855,\n",
       "    'space_type': 'non_occupant_room',\n",
       "    'spec': 'something'},\n",
       "   {'name': 'g16',\n",
       "    'evlp_type': 'floor',\n",
       "    'next_space': 'open_underfloor',\n",
       "    'direction': 'bottom',\n",
       "    'area': 15.0175,\n",
       "    'space_type': 'main_occupant_room',\n",
       "    'spec': 'something'},\n",
       "   {'name': 'g17',\n",
       "    'evlp_type': 'floor',\n",
       "    'next_space': 'open_underfloor',\n",
       "    'direction': 'bottom',\n",
       "    'area': 15.0175,\n",
       "    'space_type': 'other_occupant_room',\n",
       "    'spec': 'something'},\n",
       "   {'name': 'g18',\n",
       "    'evlp_type': 'floor',\n",
       "    'next_space': 'open_underfloor',\n",
       "    'direction': 'bottom',\n",
       "    'area': 30.035,\n",
       "    'space_type': 'non_occupant_room',\n",
       "    'spec': 'something'},\n",
       "   {'name': 'g19',\n",
       "    'evlp_type': 'floor',\n",
       "    'next_space': 'open_underfloor',\n",
       "    'direction': 'bottom',\n",
       "    'area': 1.1025,\n",
       "    'space_type': 'main_occupant_room',\n",
       "    'spec': 'something'},\n",
       "   {'name': 'g20',\n",
       "    'evlp_type': 'floor',\n",
       "    'next_space': 'open_underfloor',\n",
       "    'direction': 'bottom',\n",
       "    'area': 1.1025,\n",
       "    'space_type': 'other_occupant_room',\n",
       "    'spec': 'something'},\n",
       "   {'name': 'g21',\n",
       "    'evlp_type': 'floor',\n",
       "    'next_space': 'open_underfloor',\n",
       "    'direction': 'bottom',\n",
       "    'area': 2.205,\n",
       "    'space_type': 'non_occupant_room',\n",
       "    'spec': 'something'}],\n",
       "  'windows': [{'name': 'w1',\n",
       "    'next_space': 'outdoor',\n",
       "    'direction': 'sw',\n",
       "    'area': 7.5625,\n",
       "    'space_type': 'main_occupant_room',\n",
       "    'spec': 'something'},\n",
       "   {'name': 'w2',\n",
       "    'next_space': 'outdoor',\n",
       "    'direction': 'sw',\n",
       "    'area': 7.5625,\n",
       "    'space_type': 'other_occupant_room',\n",
       "    'spec': 'something'},\n",
       "   {'name': 'w3',\n",
       "    'next_space': 'outdoor',\n",
       "    'direction': 'sw',\n",
       "    'area': 15.125,\n",
       "    'space_type': 'non_occupant_room',\n",
       "    'spec': 'something'},\n",
       "   {'name': 'w4',\n",
       "    'next_space': 'outdoor',\n",
       "    'direction': 'nw',\n",
       "    'area': 0.7925,\n",
       "    'space_type': 'main_occupant_room',\n",
       "    'spec': 'something'},\n",
       "   {'name': 'w5',\n",
       "    'next_space': 'outdoor',\n",
       "    'direction': 'nw',\n",
       "    'area': 0.7925,\n",
       "    'space_type': 'other_occupant_room',\n",
       "    'spec': 'something'},\n",
       "   {'name': 'w6',\n",
       "    'next_space': 'outdoor',\n",
       "    'direction': 'nw',\n",
       "    'area': 1.585,\n",
       "    'space_type': 'non_occupant_room',\n",
       "    'spec': 'something'},\n",
       "   {'name': 'w7',\n",
       "    'next_space': 'outdoor',\n",
       "    'direction': 'ne',\n",
       "    'area': 1.21,\n",
       "    'space_type': 'main_occupant_room',\n",
       "    'spec': 'something'},\n",
       "   {'name': 'w8',\n",
       "    'next_space': 'outdoor',\n",
       "    'direction': 'ne',\n",
       "    'area': 1.21,\n",
       "    'space_type': 'other_occupant_room',\n",
       "    'spec': 'something'},\n",
       "   {'name': 'w9',\n",
       "    'next_space': 'outdoor',\n",
       "    'direction': 'ne',\n",
       "    'area': 2.42,\n",
       "    'space_type': 'non_occupant_room',\n",
       "    'spec': 'something'},\n",
       "   {'name': 'w10',\n",
       "    'next_space': 'outdoor',\n",
       "    'direction': 'se',\n",
       "    'area': 1.4575,\n",
       "    'space_type': 'main_occupant_room',\n",
       "    'spec': 'something'},\n",
       "   {'name': 'w11',\n",
       "    'next_space': 'outdoor',\n",
       "    'direction': 'se',\n",
       "    'area': 1.4575,\n",
       "    'space_type': 'other_occupant_room',\n",
       "    'spec': 'something'},\n",
       "   {'name': 'w12',\n",
       "    'next_space': 'outdoor',\n",
       "    'direction': 'se',\n",
       "    'area': 2.915,\n",
       "    'space_type': 'non_occupant_room',\n",
       "    'spec': 'something'}],\n",
       "  'doors': [{'name': 'd1',\n",
       "    'next_space': 'outdoor',\n",
       "    'direction': 'nw',\n",
       "    'area': 0.63,\n",
       "    'space_type': 'main_occupant_room',\n",
       "    'spec': 'something'},\n",
       "   {'name': 'd2',\n",
       "    'next_space': 'outdoor',\n",
       "    'direction': 'nw',\n",
       "    'area': 0.63,\n",
       "    'space_type': 'other_occupant_room',\n",
       "    'spec': 'something'},\n",
       "   {'name': 'd3',\n",
       "    'next_space': 'outdoor',\n",
       "    'direction': 'nw',\n",
       "    'area': 1.26,\n",
       "    'space_type': 'non_occupant_room',\n",
       "    'spec': 'something'},\n",
       "   {'name': 'd4',\n",
       "    'next_space': 'outdoor',\n",
       "    'direction': 'ne',\n",
       "    'area': 0.54,\n",
       "    'space_type': 'main_occupant_room',\n",
       "    'spec': 'something'},\n",
       "   {'name': 'd5',\n",
       "    'next_space': 'outdoor',\n",
       "    'direction': 'ne',\n",
       "    'area': 0.54,\n",
       "    'space_type': 'other_occupant_room',\n",
       "    'spec': 'something'},\n",
       "   {'name': 'd6',\n",
       "    'next_space': 'outdoor',\n",
       "    'direction': 'ne',\n",
       "    'area': 1.08,\n",
       "    'space_type': 'non_occupant_room',\n",
       "    'spec': 'something'}],\n",
       "  'earthfloor_perimeters': [{'name': 'ep1',\n",
       "    'next_space': 'outdoor',\n",
       "    'direction': 'nw',\n",
       "    'length': 2.43,\n",
       "    'space_type': 'underfloor',\n",
       "    'spec': 'something'},\n",
       "   {'name': 'ep2',\n",
       "    'next_space': 'outdoor',\n",
       "    'direction': 'ne',\n",
       "    'length': 1.83,\n",
       "    'space_type': 'underfloor',\n",
       "    'spec': 'something'},\n",
       "   {'name': 'ep3',\n",
       "    'next_space': 'open_underfloor',\n",
       "    'direction': 'horizontal',\n",
       "    'length': 4.25,\n",
       "    'space_type': 'underfloor',\n",
       "    'spec': 'something'}],\n",
       "  'inner_floors': [{'name': 'inner_floor_main_to_other',\n",
       "    'area': 6.9399999999999995,\n",
       "    'upper_space_type': 'main_occupant_room',\n",
       "    'lower_space_type': 'other_occupant_room',\n",
       "    'spec': {'layers': [{'name': 'plywood',\n",
       "       'thermal_resistance_input_method': 'conductivity',\n",
       "       'thermal_conductivity': 0.16,\n",
       "       'volumetric_specific_heat': 720.0,\n",
       "       'thickness': 0.024}]}},\n",
       "   {'name': 'inner_floor_main_to_non',\n",
       "    'area': 6.9399999999999995,\n",
       "    'upper_space_type': 'main_occupant_room',\n",
       "    'lower_space_type': 'non_occupant_room',\n",
       "    'spec': {'layers': [{'name': 'plywood',\n",
       "       'thermal_resistance_input_method': 'conductivity',\n",
       "       'thermal_conductivity': 0.16,\n",
       "       'volumetric_specific_heat': 720.0,\n",
       "       'thickness': 0.024}]}},\n",
       "   {'name': 'inner_floor_other_to_main',\n",
       "    'area': 6.9399999999999995,\n",
       "    'upper_space_type': 'other_occupant_room',\n",
       "    'lower_space_type': 'main_occupant_room',\n",
       "    'spec': {'layers': [{'name': 'plywood',\n",
       "       'thermal_resistance_input_method': 'conductivity',\n",
       "       'thermal_conductivity': 0.16,\n",
       "       'volumetric_specific_heat': 720.0,\n",
       "       'thickness': 0.024}]}},\n",
       "   {'name': 'inner_floor_other_to_non',\n",
       "    'area': 6.9399999999999995,\n",
       "    'upper_space_type': 'other_occupant_room',\n",
       "    'lower_space_type': 'non_occupant_room',\n",
       "    'spec': {'layers': [{'name': 'plywood',\n",
       "       'thermal_resistance_input_method': 'conductivity',\n",
       "       'thermal_conductivity': 0.16,\n",
       "       'volumetric_specific_heat': 720.0,\n",
       "       'thickness': 0.024}]}},\n",
       "   {'name': 'inner_floor_non_to_main',\n",
       "    'area': 13.879999999999999,\n",
       "    'upper_space_type': 'non_occupant_room',\n",
       "    'lower_space_type': 'main_occupant_room',\n",
       "    'spec': {'layers': [{'name': 'plywood',\n",
       "       'thermal_resistance_input_method': 'conductivity',\n",
       "       'thermal_conductivity': 0.16,\n",
       "       'volumetric_specific_heat': 720.0,\n",
       "       'thickness': 0.024}]}},\n",
       "   {'name': 'inner_floor_non_to_other',\n",
       "    'area': 13.879999999999999,\n",
       "    'upper_space_type': 'non_occupant_room',\n",
       "    'lower_space_type': 'other_occupant_room',\n",
       "    'spec': {'layers': [{'name': 'plywood',\n",
       "       'thermal_resistance_input_method': 'conductivity',\n",
       "       'thermal_conductivity': 0.16,\n",
       "       'volumetric_specific_heat': 720.0,\n",
       "       'thickness': 0.024}]}}],\n",
       "  'inner_walls': [{'name': 'inner_wall_main_to_other',\n",
       "    'area': 19.020025504219888,\n",
       "    'space_type_1': 'main_occupant_room',\n",
       "    'space_type_2': 'other_occupant_room',\n",
       "    'spec': {'layers': [{'name': 'gpb',\n",
       "       'thermal_resistance_input_method': 'conductivity',\n",
       "       'thermal_conductivity': 0.22,\n",
       "       'thickness': 0.0125,\n",
       "       'volumetric_specific_heat': 830.0},\n",
       "      {'name': 'air_layer',\n",
       "       'thermal_resistance_input_method': 'resistance',\n",
       "       'thermal_resistance': 0.09,\n",
       "       'volumetric_specific_heat': 0.0},\n",
       "      {'name': 'gpb',\n",
       "       'thermal_resistance_input_method': 'conductivity',\n",
       "       'thermal_conductivity': 0.22,\n",
       "       'thickness': 0.0125,\n",
       "       'volumetric_specific_heat': 830.0}]}},\n",
       "   {'name': 'inner_wall_main_to_non',\n",
       "    'area': 1.3863862244744212,\n",
       "    'space_type_1': 'main_occupant_room',\n",
       "    'space_type_2': 'non_occupant_room',\n",
       "    'spec': {'layers': [{'name': 'gpb',\n",
       "       'thermal_resistance_input_method': 'conductivity',\n",
       "       'thermal_conductivity': 0.22,\n",
       "       'thickness': 0.0125,\n",
       "       'volumetric_specific_heat': 830.0},\n",
       "      {'name': 'air_layer',\n",
       "       'thermal_resistance_input_method': 'resistance',\n",
       "       'thermal_resistance': 0.09,\n",
       "       'volumetric_specific_heat': 0.0},\n",
       "      {'name': 'gpb',\n",
       "       'thermal_resistance_input_method': 'conductivity',\n",
       "       'thermal_conductivity': 0.22,\n",
       "       'thickness': 0.0125,\n",
       "       'volumetric_specific_heat': 830.0}]}},\n",
       "   {'name': 'inner_wall_other_to_non',\n",
       "    'area': 13.655371512590136,\n",
       "    'space_type_1': 'other_occupant_room',\n",
       "    'space_type_2': 'non_occupant_room',\n",
       "    'spec': {'layers': [{'name': 'gpb',\n",
       "       'thermal_resistance_input_method': 'conductivity',\n",
       "       'thermal_conductivity': 0.22,\n",
       "       'thickness': 0.0125,\n",
       "       'volumetric_specific_heat': 830.0},\n",
       "      {'name': 'air_layer',\n",
       "       'thermal_resistance_input_method': 'resistance',\n",
       "       'thermal_resistance': 0.09,\n",
       "       'volumetric_specific_heat': 0.0},\n",
       "      {'name': 'gpb',\n",
       "       'thermal_resistance_input_method': 'conductivity',\n",
       "       'thermal_conductivity': 0.22,\n",
       "       'thickness': 0.0125,\n",
       "       'volumetric_specific_heat': 830.0}]}}]}}"
      ]
     },
     "execution_count": 17,
     "metadata": {},
     "output_type": "execute_result"
    }
   ],
   "source": [
    "d = {\n",
    "    'common': {\n",
    "        'region': 6,\n",
    "        'main_occupant_room_floor_area': 30.0,\n",
    "        'other_occupant_room_floor_area': 30.0,\n",
    "        'total_floor_area': 120.0\n",
    "    },\n",
    "    'envelope' : {\n",
    "        'general_parts' : [\n",
    "            {'name':'g1',  'evlp_type':'ceiling', 'next_space':'outdoor',         'direction':'top',    'area':16.95,   'space_type':'main_occupant_room',  'spec':'something'},\n",
    "            {'name':'g2',  'evlp_type':'ceiling', 'next_space':'outdoor',         'direction':'top',    'area':16.95,   'space_type':'other_occupant_room', 'spec':'something'},\n",
    "            {'name':'g3',  'evlp_type':'ceiling', 'next_space':'outdoor',         'direction':'top',    'area':33.9,    'space_type':'non_occupant_room',   'spec':'something'},\n",
    "            {'name':'g4',  'evlp_type':'wall',    'next_space':'outdoor',         'direction':'sw',     'area':10.1575, 'space_type':'main_occupant_room',  'spec':'something'},\n",
    "            {'name':'g5',  'evlp_type':'wall',    'next_space':'outdoor',         'direction':'sw',     'area':10.1575, 'space_type':'other_occupant_room', 'spec':'something'},\n",
    "            {'name':'g6',  'evlp_type':'wall',    'next_space':'outdoor',         'direction':'sw',     'area':20.315,  'space_type':'non_occupant_room',   'spec':'something'},\n",
    "            {'name':'g7',  'evlp_type':'wall',    'next_space':'outdoor',         'direction':'nw',     'area':7.4575,  'space_type':'main_occupant_room',  'spec':'something'},\n",
    "            {'name':'g8',  'evlp_type':'wall',    'next_space':'outdoor',         'direction':'nw',     'area':7.4575,  'space_type':'other_occupant_room', 'spec':'something'},\n",
    "            {'name':'g9',  'evlp_type':'wall',    'next_space':'outdoor',         'direction':'nw',     'area':14.915,  'space_type':'non_occupant_room',   'spec':'something'},\n",
    "            {'name':'g10', 'evlp_type':'wall',    'next_space':'outdoor',         'direction':'ne',     'area':15.9725, 'space_type':'main_occupant_room',  'spec':'something'},\n",
    "            {'name':'g11', 'evlp_type':'wall',    'next_space':'outdoor',         'direction':'ne',     'area':15.9725, 'space_type':'other_occupant_room', 'spec':'something'},\n",
    "            {'name':'g12', 'evlp_type':'wall',    'next_space':'outdoor',         'direction':'ne',     'area':31.945,  'space_type':'non_occupant_room',   'spec':'something'},\n",
    "            {'name':'g13', 'evlp_type':'wall',    'next_space':'outdoor',         'direction':'se',     'area':7.4275,  'space_type':'main_occupant_room',  'spec':'something'},\n",
    "            {'name':'g14', 'evlp_type':'wall',    'next_space':'outdoor',         'direction':'se',     'area':7.4275,  'space_type':'other_occupant_room', 'spec':'something'},\n",
    "            {'name':'g15', 'evlp_type':'wall',    'next_space':'outdoor',         'direction':'se',     'area':14.855,  'space_type':'non_occupant_room',   'spec':'something'},\n",
    "            {'name':'g16', 'evlp_type':'floor',   'next_space':'open_underfloor', 'direction':'bottom', 'area':15.0175, 'space_type':'main_occupant_room',  'spec':'something'},\n",
    "            {'name':'g17', 'evlp_type':'floor',   'next_space':'open_underfloor', 'direction':'bottom', 'area':15.0175, 'space_type':'other_occupant_room', 'spec':'something'},\n",
    "            {'name':'g18', 'evlp_type':'floor',   'next_space':'open_underfloor', 'direction':'bottom', 'area':30.035,  'space_type':'non_occupant_room',   'spec':'something'},\n",
    "            {'name':'g19', 'evlp_type':'floor',   'next_space':'open_underfloor', 'direction':'bottom', 'area':1.1025,  'space_type':'main_occupant_room',  'spec':'something'},\n",
    "            {'name':'g20', 'evlp_type':'floor',   'next_space':'open_underfloor', 'direction':'bottom', 'area':1.1025,  'space_type':'other_occupant_room', 'spec':'something'},\n",
    "            {'name':'g21', 'evlp_type':'floor',   'next_space':'open_underfloor', 'direction':'bottom', 'area':2.205,   'space_type':'non_occupant_room',   'spec':'something'},\n",
    "        ],\n",
    "        'windows' : [\n",
    "            {'name':'w1',  'next_space':'outdoor', 'direction':'sw', 'area':7.5625, 'space_type':'main_occupant_room',  'spec':'something'},\n",
    "            {'name':'w2',  'next_space':'outdoor', 'direction':'sw', 'area':7.5625, 'space_type':'other_occupant_room', 'spec':'something'},\n",
    "            {'name':'w3',  'next_space':'outdoor', 'direction':'sw', 'area':15.125, 'space_type':'non_occupant_room',   'spec':'something'},\n",
    "            {'name':'w4',  'next_space':'outdoor', 'direction':'nw', 'area':0.7925, 'space_type':'main_occupant_room',  'spec':'something'},\n",
    "            {'name':'w5',  'next_space':'outdoor', 'direction':'nw', 'area':0.7925, 'space_type':'other_occupant_room', 'spec':'something'},\n",
    "            {'name':'w6',  'next_space':'outdoor', 'direction':'nw', 'area':1.585,  'space_type':'non_occupant_room',   'spec':'something'},\n",
    "            {'name':'w7',  'next_space':'outdoor', 'direction':'ne', 'area':1.21,   'space_type':'main_occupant_room',  'spec':'something'},\n",
    "            {'name':'w8',  'next_space':'outdoor', 'direction':'ne', 'area':1.21,   'space_type':'other_occupant_room', 'spec':'something'},\n",
    "            {'name':'w9',  'next_space':'outdoor', 'direction':'ne', 'area':2.42,   'space_type':'non_occupant_room',   'spec':'something'},\n",
    "            {'name':'w10', 'next_space':'outdoor', 'direction':'se', 'area':1.4575, 'space_type':'main_occupant_room',  'spec':'something'},\n",
    "            {'name':'w11', 'next_space':'outdoor', 'direction':'se', 'area':1.4575, 'space_type':'other_occupant_room', 'spec':'something'},\n",
    "            {'name':'w12', 'next_space':'outdoor', 'direction':'se', 'area':2.915,  'space_type':'non_occupant_room',   'spec':'something'},\n",
    "        ],\n",
    "        'doors' : [\n",
    "            {'name':'d1', 'next_space':'outdoor', 'direction':'nw', 'area':0.63, 'space_type':'main_occupant_room',  'spec':'something'},\n",
    "            {'name':'d2', 'next_space':'outdoor', 'direction':'nw', 'area':0.63, 'space_type':'other_occupant_room', 'spec':'something'},\n",
    "            {'name':'d3', 'next_space':'outdoor', 'direction':'nw', 'area':1.26, 'space_type':'non_occupant_room',   'spec':'something'},\n",
    "            {'name':'d4', 'next_space':'outdoor', 'direction':'ne', 'area':0.54, 'space_type':'main_occupant_room',  'spec':'something'},\n",
    "            {'name':'d5', 'next_space':'outdoor', 'direction':'ne', 'area':0.54, 'space_type':'other_occupant_room', 'spec':'something'},\n",
    "            {'name':'d6', 'next_space':'outdoor', 'direction':'ne', 'area':1.08, 'space_type':'non_occupant_room',   'spec':'something'},\n",
    "        ],\n",
    "        'earthfloor_perimeters' : [\n",
    "            {'name':'ep1', 'next_space':'outdoor',         'direction':'nw',         'length':2.43, 'space_type':'underfloor', 'spec':'something'},\n",
    "            {'name':'ep2', 'next_space':'outdoor',         'direction':'ne',         'length':1.83, 'space_type':'underfloor', 'spec':'something'},\n",
    "            {'name':'ep3', 'next_space':'open_underfloor', 'direction':'horizontal', 'length':4.25, 'space_type':'underfloor', 'spec':'something'},\n",
    "        ]\n",
    "    }\n",
    "}\n",
    "\n",
    "convert(d)"
   ]
  },
  {
   "cell_type": "code",
   "execution_count": null,
   "metadata": {},
   "outputs": [],
   "source": []
  }
 ],
 "metadata": {
  "kernelspec": {
   "display_name": "Python 3",
   "language": "python",
   "name": "python3"
  },
  "language_info": {
   "codemirror_mode": {
    "name": "ipython",
    "version": 3
   },
   "file_extension": ".py",
   "mimetype": "text/x-python",
   "name": "python",
   "nbconvert_exporter": "python",
   "pygments_lexer": "ipython3",
   "version": "3.6.4"
  }
 },
 "nbformat": 4,
 "nbformat_minor": 2
}
