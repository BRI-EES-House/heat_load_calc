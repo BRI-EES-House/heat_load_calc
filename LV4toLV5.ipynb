{
 "cells": [
  {
   "cell_type": "code",
   "execution_count": 1,
   "metadata": {
    "collapsed": true
   },
   "outputs": [],
   "source": [
    "import sys\n",
    "import os\n",
    "import nbimporter"
   ]
  },
  {
   "cell_type": "markdown",
   "metadata": {},
   "source": [
    "# 外皮情報LV4からLV5へのコンバート"
   ]
  },
  {
   "cell_type": "markdown",
   "metadata": {},
   "source": [
    "## 1. 外皮性能計算プログラム＋簡単な追加情報"
   ]
  },
  {
   "cell_type": "markdown",
   "metadata": {},
   "source": [
    "- 用途別の外皮、内壁の情報が得られている状態より、以下を実施する。  \n",
    "　　床フラグの付与  \n",
    "　　壁体（開口部以外の不透明部位）の応答係数の算出  \n",
    "　　複数の壁体、部位の応答係数を集約  "
   ]
  },
  {
   "cell_type": "markdown",
   "metadata": {},
   "source": [
    "### 1.1 Floor Flag"
   ]
  },
  {
   "cell_type": "markdown",
   "metadata": {},
   "source": [
    "#### Outline"
   ]
  },
  {
   "cell_type": "markdown",
   "metadata": {},
   "source": [
    "以下に該当する部位を、床と判定する。  \n",
    "　方位が'Bottom'である外皮の部位(set_floor_flag)  \n",
    "　土間床（make_earthfloor）  \n",
    "　床下空間上の床（set_floor_flag_innerwall）  \n",
    "　室上の床（set_floor_flag_innerwall）  \n",
    "【要確認】方位が'Bottom'である外皮の部位、土間床の合計面積が、用途別床面積を超過する場合にどうするか"
   ]
  },
  {
   "cell_type": "markdown",
   "metadata": {},
   "source": [
    "#### Function"
   ]
  },
  {
   "cell_type": "code",
   "execution_count": 2,
   "metadata": {
    "collapsed": true
   },
   "outputs": [],
   "source": [
    "def set_floor_flag(direction):     \n",
    "    return True if direction == 'Bottom' else False"
   ]
  },
  {
   "cell_type": "markdown",
   "metadata": {},
   "source": [
    "#### Example"
   ]
  },
  {
   "cell_type": "code",
   "execution_count": 3,
   "metadata": {},
   "outputs": [
    {
     "name": "stdout",
     "output_type": "stream",
     "text": [
      "False\n",
      "True\n"
     ]
    }
   ],
   "source": [
    "print(set_floor_flag('Top'))\n",
    "print(set_floor_flag('Bottom'))"
   ]
  },
  {
   "cell_type": "markdown",
   "metadata": {},
   "source": [
    "### 1.2 Responce Factor"
   ]
  },
  {
   "cell_type": "markdown",
   "metadata": {},
   "source": [
    "#### Ro, Ri"
   ]
  },
  {
   "cell_type": "markdown",
   "metadata": {},
   "source": [
    "以下に基づき、表面熱伝達抵抗を与える。\n",
    "\n",
    "平成28年省エネルギー基準に準拠したエネルギー消費性能の評価に関する技術情報（住宅）  \n",
    "　２．エネルギー消費性能の算定方法  \n",
    "　　2.2　算定方法  \n",
    "　　　第三章　 暖冷房負荷と外皮性能  \n",
    "　　　　第三節　熱貫流率及び線熱貫流率  \n",
    "　　　　　付録 A 住宅の平均熱貫流率算出に用いる建材等の熱物性値等   \n",
    "　　　　　　表 3.1 表面熱伝達抵抗   \n",
    "　　　　　　表 3.2 表面熱伝達抵抗（界壁・界床の場合） "
   ]
  },
  {
   "cell_type": "markdown",
   "metadata": {},
   "source": [
    "<div style=\"text-align: center;\"> 表3.1 表面熱伝達抵抗 </div>\n",
    "\n",
    "| 部位 | 熱的境界内側（室内側）の<br>表面熱伝達抵抗[㎡K/W] | 熱的境界外側（外気側）の表面熱伝達抵抗[㎡K/W]<br>外気に直接接する場合 | 熱的境界外側（外気側）の表面熱伝達抵抗[㎡K/W]<br>左記以外の場合 |\n",
    "|---|---|---|---|\n",
    "| 屋根 | 0.09 | 0.04 | 0.09（通気層等） |\n",
    "| 天井 | 0.09 | - | 0.09（小屋裏等） |\n",
    "| 外壁 | 0.11 | 0.04 | 0.11（通気層等） |\n",
    "| 床 | 0.15 | 0.04 | 0.15(床裏等) |"
   ]
  },
  {
   "cell_type": "markdown",
   "metadata": {},
   "source": [
    "<div style=\"text-align: center;\"> 表3.2 表面熱伝達抵抗（界壁・界床の場合） </div>\n",
    "\n",
    "| 部位 | 対象住戸の室内側表面熱伝達抵抗[㎡K/W] | 隣接住戸の室内側表面熱伝達抵抗[㎡K/W] |\n",
    "|---|---|---|\n",
    "| 界壁 | 0.11 | 0.11 |\n",
    "| 上階側界床 | 0.09 | 0.09 |\n",
    "| 下階側界床 | 0.15 | 0.15 |"
   ]
  },
  {
   "cell_type": "code",
   "execution_count": 4,
   "metadata": {
    "collapsed": true
   },
   "outputs": [],
   "source": [
    "def get_Ro_Ri(type, IsInContactWithOutsideAir):\n",
    "    \n",
    "    if IsInContactWithOutsideAir == True :\n",
    "        Ro = {\n",
    "            'Roof'            : 0.040,\n",
    "            'Ceiling'         : 0.040,\n",
    "            'Wall'            : 0.040,\n",
    "            'Floor'           : 0.040\n",
    "        }[type]\n",
    "    else :\n",
    "        Ro = {\n",
    "            'Roof'            : 0.090,\n",
    "            'Ceiling'         : 0.090,\n",
    "            'Wall'            : 0.110,\n",
    "            'Floor'           : 0.150,\n",
    "            'BoundaryCeiling' : 0.090,\n",
    "            'BoundaryWall'    : 0.110,\n",
    "            'BoundaryFloor'   : 0.150\n",
    "        }[type]\n",
    "        \n",
    "    Ri = {\n",
    "        'Roof' : 0.090,\n",
    "        'Ceiling' : 0.090, \n",
    "        'Wall' : 0.110, \n",
    "        'Floor' : 0.150, \n",
    "        'BoundaryCeiling' : 0.090,\n",
    "        'BoundaryWall' : 0.110,\n",
    "        'BoundaryFloor'   : 0.150\n",
    "    }[type]\n",
    "    \n",
    "    return Ro, Ri"
   ]
  },
  {
   "cell_type": "code",
   "execution_count": 5,
   "metadata": {
    "collapsed": true
   },
   "outputs": [],
   "source": [
    "def get_Ro_Ri_innerwall(type):\n",
    "    \n",
    "    Ro = {\n",
    "        'InnerCeiling'    : 0.150,\n",
    "        'InnerWall'       : 0.110,\n",
    "        'InnerFloor'      : 0.090,\n",
    "        'GroundFloor'     : 0.090,\n",
    "    }[type]\n",
    "        \n",
    "    Ri = {\n",
    "        'InnerCeiling'    : 0.090,\n",
    "        'InnerWall'       : 0.110,\n",
    "        'InnerFloor'      : 0.150,\n",
    "        'GroundFloor'     : 0.150,\n",
    "    }[type]\n",
    "    \n",
    "    return Ro, Ri"
   ]
  },
  {
   "cell_type": "markdown",
   "metadata": {},
   "source": [
    "#### 熱貫流率"
   ]
  },
  {
   "cell_type": "markdown",
   "metadata": {},
   "source": [
    "以下に基づき、一般部位の熱貫流率を算出する。\n",
    "\n",
    "平成28年省エネルギー基準に準拠したエネルギー消費性能の評価に関する技術情報（住宅）  \n",
    "　２．エネルギー消費性能の算定方法  \n",
    "　　2.2　算定方法  \n",
    "　　　第三章　 暖冷房負荷と外皮性能  \n",
    "　　　　第三節　熱貫流率及び線熱貫流率  "
   ]
  },
  {
   "cell_type": "markdown",
   "metadata": {},
   "source": [
    "#### 詳細計算法"
   ]
  },
  {
   "cell_type": "markdown",
   "metadata": {},
   "source": [
    "$$\n",
    "\\displaystyle\n",
    "U_{i}= \\sum_{k}{a_{i,k} \\times U_{i,k}}\n",
    "$$"
   ]
  },
  {
   "cell_type": "markdown",
   "metadata": {},
   "source": [
    "$U_{i}$: 一般部位$i$の熱貫流率, W/(m<sup>2</sup>・K)  \n",
    "$a_{i,k}$: 一般部位$i$の部位$k$の面積比率, -  \n",
    "$U_{i,k}$: 一般部位$i$の部位$k$の熱貫流率, W/(m<sup>2</sup>・K)  "
   ]
  },
  {
   "cell_type": "code",
   "execution_count": 6,
   "metadata": {},
   "outputs": [],
   "source": [
    "def calc_UA_from_details(type, IsInContactWithOutsideAir, Parts):\n",
    "    \n",
    "    # 平均熱貫流率の算出\n",
    "    Ro, Ri = get_Ro_Ri(type, IsInContactWithOutsideAir)\n",
    "    UA = sum(x['AreaRatio']/(Ro + sum(y['thick']/y['cond'] for y in x['Layers']) + Ri) for x in Parts)\n",
    "    \n",
    "    return UA"
   ]
  },
  {
   "cell_type": "code",
   "execution_count": 7,
   "metadata": {},
   "outputs": [
    {
     "name": "stdout",
     "output_type": "stream",
     "text": [
      "{'Walls': [{'direction': 'ClosedBackFloor', 'IsInContactWithOutsideAir': True, 'structure': 'Wood', 'type': 'Floor', 'InputMethod': 'InputAllDetails', 'Parts': [{'AreaRatio': 0.8, 'Layers': [{'cond': 0.16, 'name': 'PED', 'specH': 720.0, 'thick': 0.012}]}, {'AreaRatio': 0.2, 'Layers': [{'cond': 0.16, 'name': 'PED', 'specH': 720.0, 'thick': 0.012}]}], 'UA': 3.7735849056603774}]}\n"
     ]
    }
   ],
   "source": [
    "d = {\n",
    "    'Walls' : [\n",
    "        {\n",
    "            'direction' : 'ClosedBackFloor',\n",
    "            'IsInContactWithOutsideAir': True,\n",
    "            'structure' : 'Wood', \n",
    "            'type' : 'Floor',\n",
    "            'InputMethod' : 'InputAllDetails',\n",
    "            'Parts' :  [{'AreaRatio' : 0.80, 'Layers' : [{'cond': 0.16, 'name': 'PED', 'specH': 720.0, 'thick': 0.012}]},\n",
    "                        {'AreaRatio' : 0.20, 'Layers' : [{'cond': 0.16, 'name': 'PED', 'specH': 720.0, 'thick': 0.012}]}] \n",
    "        }\n",
    "    ]\n",
    "}\n",
    "\n",
    "def get_UA_from_details(d):\n",
    "    for x in d['Walls'] :\n",
    "        if x['InputMethod'] == 'InputAllDetails' :\n",
    "            x['UA'] = calc_UA_from_details(x['type'], x['IsInContactWithOutsideAir'], x['Parts'])\n",
    "    return d\n",
    "\n",
    "print(get_UA_from_details(d))"
   ]
  },
  {
   "cell_type": "markdown",
   "metadata": {},
   "source": [
    "#### 面積比率法（充填断熱する場合又は充填断熱し付加断熱する場合）（簡略計算方法①） "
   ]
  },
  {
   "cell_type": "markdown",
   "metadata": {},
   "source": [
    "$$\n",
    "\\displaystyle\n",
    "U_{i}= \\sum_{k}{a_{i,k} \\times U_{i,k}}\n",
    "$$"
   ]
  },
  {
   "cell_type": "markdown",
   "metadata": {},
   "source": [
    "$U_{i}$: 一般部位$i$の熱貫流率, W/(m<sup>2</sup>・K)  \n",
    "$a_{i,k}$: 一般部位$i$の部位$k$の面積比率, -  \n",
    "$U_{i,k}$: 一般部位$i$の部位$k$の熱貫流率, W/(m<sup>2</sup>・K)  "
   ]
  },
  {
   "cell_type": "markdown",
   "metadata": {},
   "source": [
    "#### 木造における床の面積比率"
   ]
  },
  {
   "cell_type": "markdown",
   "metadata": {},
   "source": [
    "<div style=\"text-align: center;\"> 表3-1 木造における床の面積比率 </div>\n",
    "\n",
    "| 工法の種類等 | 断熱部分 | 熱橋部分 |\n",
    "|---|---|---|\n",
    "| 軸組構法・床梁工法（根太間に断熱）  | 0.80 | 0.20 |\n",
    "| 軸組構法・束立大引工法（根太間に断熱）  | 0.80 | 0.20 |\n",
    "| 軸組構法・束立大引工法（大引間に断熱）  | 0.85 | 0.15 |\n",
    "| 軸組構法・束立大引工法（根太間及び大引間に断熱）  |  |  |\n",
    "| 軸組構法・剛床工法  | 0.85 | 0.15 |\n",
    "| 軸組構法・床梁土台同面工法（根太間に断熱）  | 0.70 | 0.30 |\n",
    "| 枠組壁工法（根太間に断熱）  | 0.87 | 0.13 |"
   ]
  },
  {
   "cell_type": "markdown",
   "metadata": {},
   "source": [
    "<div style=\"text-align: center;\"> 表3-2 軸組構法の束立大引工法において根太間及び大引間に断熱する場合の床の面積比率 </div>\n",
    "\n",
    "| 工法の種類等 | 断熱部分<br>（根太間断熱材＋大引間断熱材） | 断熱部分＋熱橋部分<br>（根太間断熱材＋大引材等） | 断熱部分＋熱橋部分<br>（根太材＋大引間断熱材） | 熱橋部分<br>（根太材＋大引材等） |\n",
    "|---|---|---|---|---|\n",
    "|  軸組構法の束立大引工法において<br>根太間及び大引間に断熱する場合 | 0.72 | 0.12 | 0.13 | 0.03 |"
   ]
  },
  {
   "cell_type": "code",
   "execution_count": 8,
   "metadata": {
    "collapsed": true
   },
   "outputs": [],
   "source": [
    "def get_area_ratio_wood_floor(FloorConstructionMethod):\n",
    "    # FloorConstructionMethod: 床の工法種類\n",
    "    # 'FrameBeamInsuljoist'（軸組構法・床梁工法（根太間に断熱））/'FrameFootingInsuljoist'（軸組構法・束立大引工法（根太間に断熱））/\n",
    "    # 'FrameFootingInsulsleeper'（軸組構法・束立大引工法（大引間に断熱））/\n",
    "    # 'FrameFootingInsuljoistSleeper'（軸組構法・束立大引工法（根太間及び大引間に断熱））/\n",
    "    # 'FrameRigidfloor'（軸組構法・剛床工法）/'FrameBeambaseInsuljoist'（軸組構法・床梁土台同面工法（根太間に断熱））/\n",
    "    # 'WallInsuljoist'（枠組壁工法（根太間に断熱））\n",
    "    \n",
    "    if FloorConstructionMethod == 'FrameBeamInsuljoist' :\n",
    "        area_ratio_wood_floor = {'Insulation' : 0.80, 'Heatbridge' : 0.20}\n",
    "    elif FloorConstructionMethod == 'FrameFootingInsuljoist' :\n",
    "        area_ratio_wood_floor = {'Insulation' : 0.80, 'Heatbridge' : 0.20}\n",
    "    elif FloorConstructionMethod == 'FrameFootingInsulsleeper' :\n",
    "        area_ratio_wood_floor = {'Insulation' : 0.85, 'Heatbridge' : 0.15}\n",
    "    elif FloorConstructionMethod == 'FrameFootingInsuljoistSleeper' :\n",
    "        area_ratio_wood_floor = {\n",
    "            'InsulJoitandsleeper' : 0.72,\n",
    "            'InsuljoistHeatbridgesleeper' : 0.12,\n",
    "            'InsulsleeperHeatbridgejoist' : 0.13,\n",
    "            'HeatbridgeJoistandsleeper' : 0.03\n",
    "        }\n",
    "    elif FloorConstructionMethod == 'FrameRigidfloor' :\n",
    "        area_ratio_wood_floor = {'Insulation' : 0.85, 'Heatbridge' : 0.15}\n",
    "    elif FloorConstructionMethod == 'FrameBeambaseInsuljoist' :\n",
    "        area_ratio_wood_floor = {'Insulation' : 0.70, 'Heatbridge' : 0.30}\n",
    "    elif FloorConstructionMethod == 'WallInsuljoist' :\n",
    "        area_ratio_wood_floor = {'Insulation' : 0.87, 'Heatbridge' : 0.13}\n",
    "    else :\n",
    "        raise ValueError\n",
    "    \n",
    "    return area_ratio_wood_floor"
   ]
  },
  {
   "cell_type": "markdown",
   "metadata": {},
   "source": [
    "#### 木造における外壁の面積比率"
   ]
  },
  {
   "cell_type": "markdown",
   "metadata": {},
   "source": [
    "<div style=\"text-align: center;\"> 表4-1 木造における外壁（界壁）の面積比率 </div>\n",
    "\n",
    "| 工法の種類等 | 断熱部分 | 熱橋部分 |\n",
    "|---|---|---|\n",
    "| 軸組構法・柱、間柱間に断熱 | 0.83 | 0.17 |\n",
    "| 軸組構法・柱、間柱間に断熱し付加断熱 |  |  |\n",
    "| 枠組壁工法・たて枠間に断熱 | 0.77 | 0.23 |\n",
    "| 枠組壁工法・たて枠間に断熱＋付加断熱 |  |  |"
   ]
  },
  {
   "cell_type": "markdown",
   "metadata": {},
   "source": [
    "<div style=\"text-align: center;\"> 表4-2 軸組構法において柱・間柱間に断熱し付加断熱する場合の外壁の面積比率 </div>\n",
    "\n",
    "| 工法の種類等 | 断熱部分<br>（柱・間柱間断熱材＋付加断熱材） | 断熱部分＋熱橋部分<br>（柱・間柱間断熱材＋付加断熱層内熱橋部分） | 断熱部分＋熱橋部分<br>（構造部材等＋付加断熱材） | 熱橋部分<br>（構造部材等＋付加断熱層内熱橋部分） |\n",
    "|---|---|---|\n",
    "| 付加断熱層内熱橋<br>部分が「横下地」 | 0.75 | 0.08 | 0.12 | 0.05 |\n",
    "| 付加断熱層内熱橋<br>部分が「縦下地」 | 0.79 | 0.04 | 0.04 | 0.13 |"
   ]
  },
  {
   "cell_type": "markdown",
   "metadata": {},
   "source": [
    "<div style=\"text-align: center;\"> 表4-3 枠組壁工法においてたて枠間に断熱し付加断熱する場合の外壁の面積比率 </div>\n",
    "\n",
    "| 工法の種類等 | 断熱部分<br>（充填断熱材＋付加断熱材） | 断熱部分＋熱橋部<br>（充填断熱材＋付加断熱層内熱橋部） | 断熱部分＋熱橋部<br>（構造部材等＋付加断熱材） | 断熱部分＋熱橋部<br>（まぐさ＋付加断熱材） | 熱橋部分<br>（構造部材等＋付加断熱層内熱橋部） | 熱橋部分<br>（まぐさ＋付加断熱層内熱橋部） |\n",
    "|---|---|---|\n",
    "| 付加断熱層内熱橋部分が「横下地」 | 0.69 | 0.08 | 0.14 | 0.02 | 0.06 | 0.01 |\n",
    "| 付加断熱層内熱橋部分が「縦下地」 | 0.76 | 0.01 |  | 0.02 | 0.20 | 0.01 |"
   ]
  },
  {
   "cell_type": "code",
   "execution_count": 9,
   "metadata": {
    "collapsed": true
   },
   "outputs": [],
   "source": [
    "def get_area_ratio_wood_wall(WallConstructionMethod):\n",
    "    # WallConstructionMethod: 床の工法種類\n",
    "    # 'FrameInsulcolumn'（軸組構法・柱、間柱間に断熱）/\n",
    "    # 'FrameInsuladdBackhorizontal'（軸組構法・柱、間柱間に断熱し付加断熱（付加断熱層内熱橋部分が「横下地」））/\n",
    "    # 'FrameInsuladdBackvertical'（軸組構法・柱、間柱間に断熱し付加断熱（付加断熱層内熱橋部分が「縦下地」））/\n",
    "    # 'WallInsuljamb'（枠組壁工法・たて枠間に断熱）/\n",
    "    # 'WallInsuladdBackhorizontal'（枠組壁工法・たて枠間に断熱＋付加断熱（付加断熱層内熱橋部分が「横下地」））/\n",
    "    # 'WallInsuladdBackvertical'（枠組壁工法・たて枠間に断熱＋付加断熱（付加断熱層内熱橋部分が「縦下地」））\n",
    "    \n",
    "    if WallConstructionMethod == 'FrameInsulcolumn' :\n",
    "        area_ratio_wood_wall = {'Insulation' : 0.83, 'Heatbridge' : 0.17}\n",
    "    elif WallConstructionMethod == 'FrameInsuladdBackhorizontal' :\n",
    "        area_ratio_wood_wall = {\n",
    "            'FrameInsulColumnandadd' : 0.75,\n",
    "            'FrameInsulcolumnHeatbridgeadd' : 0.08,\n",
    "            'FrameInsuladdHeatbridgemember' : 0.12,\n",
    "            'FrameHeatbridgeMemberandadd' : 0.05\n",
    "        }\n",
    "    elif WallConstructionMethod == 'FrameInsuladdBackvertical' :\n",
    "        area_ratio_wood_wall = {\n",
    "            'FrameInsulColumnandadd' : 0.79,\n",
    "            'FrameInsulcolumnHeatbridgeadd' : 0.04,\n",
    "            'FrameInsuladdHeatbridgemember' : 0.04,\n",
    "            'FrameHeatbridgeMemberandadd' : 0.13\n",
    "        }\n",
    "    elif WallConstructionMethod == 'WallInsuljamb' :\n",
    "        area_ratio_wood_wall = {'Insulation' : 0.77, 'Heatbridge' : 0.23}\n",
    "    elif WallConstructionMethod == 'WallInsuladdBackhorizontal' :\n",
    "        area_ratio_wood_wall = {\n",
    "            'WallInsulFilledandadd' : 0.69,\n",
    "            'WallInsulfilledHeatbridgeadd' : 0.08,\n",
    "            'WallInsuladdHeatbridgemember' : 0.14,\n",
    "            'WallInsuladdHeatbridgelintel' : 0.02,\n",
    "            'WallHeatbridgeMemberandadd' : 0.06,\n",
    "            'WallHeatbridgeLintelandadd' : 0.01\n",
    "        }\n",
    "    elif WallConstructionMethod == 'WallInsuladdBackvertical' :\n",
    "        area_ratio_wood_wall = {        \n",
    "            'WallInsulFilledandadd' : 0.76,\n",
    "            'WallInsulfilledHeatbridgeadd' : 0.01,\n",
    "            'WallInsuladdHeatbridgemember' : 0.00,\n",
    "            'WallInsuladdHeatbridgelintel' : 0.02,\n",
    "            'WallHeatbridgeMemberandadd' : 0.20,\n",
    "            'WallHeatbridgeLintelandadd' : 0.01\n",
    "        }\n",
    "    else :\n",
    "        raise ValueError\n",
    "    \n",
    "    return area_ratio_wood_wall"
   ]
  },
  {
   "cell_type": "markdown",
   "metadata": {},
   "source": [
    "#### 木造における天井の面積比率"
   ]
  },
  {
   "cell_type": "markdown",
   "metadata": {},
   "source": [
    "<div style=\"text-align: center;\"> 表5 木造における天井の面積比率 </div>\n",
    "\n",
    "| 工法の種類等 | 断熱部分 | 熱橋部分 |\n",
    "|---|---|---|\n",
    "| 桁・梁間に断熱する場合 | 0.87 | 0.13 |"
   ]
  },
  {
   "cell_type": "code",
   "execution_count": 10,
   "metadata": {
    "collapsed": true
   },
   "outputs": [],
   "source": [
    "def get_area_ratio_wood_ceiling(CeilingConstructionMethod):\n",
    "    # CeilingConstructionMethod: 天井の工法種類\n",
    "    # 'Insulbeam'（桁・梁間に断熱）\n",
    "    \n",
    "    if CeilingConstructionMethod == 'Insulbeam' :\n",
    "        area_ratio_wood_ceiling = {'Insulation' : 0.83, 'Heatbridge' : 0.17}\n",
    "    else :\n",
    "        raise ValueError\n",
    "\n",
    "    return area_ratio_wood_ceiling"
   ]
  },
  {
   "cell_type": "markdown",
   "metadata": {},
   "source": [
    "#### 木造における屋根の面積比率"
   ]
  },
  {
   "cell_type": "markdown",
   "metadata": {},
   "source": [
    "<div style=\"text-align: center;\"> 表6-1 木造における屋根の面積比率 </div>\n",
    "\n",
    "| 工法の種類等 | 断熱部分 | 熱橋部分 |\n",
    "|---|---|---|\n",
    "| たるき間に断熱する場合  | 0.86 | 0.14 |"
   ]
  },
  {
   "cell_type": "markdown",
   "metadata": {},
   "source": [
    "<div style=\"text-align: center;\"> 表6-2 木造においてたるき間に断熱し付加断熱（横下地）する場合の屋根の面積比率  </div>\n",
    "\n",
    "| 工法の種類等 | 断熱部分<br>（たる木間断熱材＋付加断熱材） | 断熱部分＋熱橋部分<br>（たる木間断熱材＋付加断熱層内熱橋部（下地たる木）） | 断熱部分＋熱橋部分<br>（構造部材＋付加断熱材） | 熱橋部分<br>（構造部材＋付加断熱層内熱橋部（下地たる木）） |\n",
    "|---|---|---|---|---|\n",
    "| たるき間に断熱し付加断熱（横下地）する場合  | 0.79 | 0.08 | 0.12 | 0.01 |"
   ]
  },
  {
   "cell_type": "code",
   "execution_count": 11,
   "metadata": {
    "collapsed": true
   },
   "outputs": [],
   "source": [
    "def get_area_ratio_wood_roof(RoofConstructionMethod):\n",
    "    # RoofConstructionMethod : 屋根の工法種類\n",
    "    # 'Insulrafter'（たるき間に断熱）/'InsuladdBackhorizontal'（たるき間に断熱＋付加断熱（横下地）））\n",
    "    \n",
    "    if RoofConstructionMethod == 'Insulrafter' :\n",
    "        area_ratio_wood_roof = {'Insulation' : 0.86, 'Heatbridge' : 0.14}\n",
    "    elif RoofConstructionMethod == 'InsuladdBackhorizontal' :\n",
    "        area_ratio_wood_roof = {\n",
    "            'InsulRafterandadd' : 0.79,\n",
    "            'InsulrafterHeatbridgeadd' : 0.08,\n",
    "            'InsuladdHeatbridgemember' : 0.12,\n",
    "            'HeatbridgeMemberandadd' : 0.01\n",
    "        }\n",
    "    else :\n",
    "        raise ValueError\n",
    "    \n",
    "    return area_ratio_wood_roof"
   ]
  },
  {
   "cell_type": "code",
   "execution_count": 12,
   "metadata": {
    "collapsed": true
   },
   "outputs": [],
   "source": [
    "def get_area_ratio_wood(type, RoofConstructionMethod = None, CeilingConstructionMethod = None, \n",
    "                        WallConstructionMethod = None, FloorConstructionMethod = None, **kwargs):\n",
    "    \n",
    "    if type == 'Roof' or type == 'Ceiling' :\n",
    "        return get_area_ratio_wood_roof(RoofConstructionMethod)\n",
    "    elif type == 'BoundaryCeiling' :\n",
    "        return get_area_ratio_wood_ceiling(CeilingConstructionMethod)        \n",
    "    elif type == 'Wall' or type == 'BoundaryWall' :\n",
    "        return get_area_ratio_wood_wall(WallConstructionMethod)            \n",
    "    elif type == 'Floor' :\n",
    "        return get_area_ratio_wood_floor(FloorConstructionMethod)    \n",
    "    else :\n",
    "        raise ValueError        "
   ]
  },
  {
   "cell_type": "code",
   "execution_count": 13,
   "metadata": {},
   "outputs": [],
   "source": [
    "def calc_UA_from_layers(type, IsInContactWithOutsideAir, Parts, RoofConstructionMethod = None, CeilingConstructionMethod = None, \n",
    "                        WallConstructionMethod = None, FloorConstructionMethod = None, **kwargs):\n",
    "    \n",
    "    # 面積比率の取得\n",
    "    area_ratio =  get_area_ratio_wood(type, RoofConstructionMethod, CeilingConstructionMethod, WallConstructionMethod, FloorConstructionMethod)\n",
    "\n",
    "    for x in Parts :\n",
    "        if type == 'Roof' or type == 'Ceiling' :\n",
    "            x['AreaRatio'] = area_ratio[x['TypeRoof']]    \n",
    "        elif type == 'BoundaryCeiling' :\n",
    "            x['AreaRatio'] = area_ratio[x['TypeCeiling']]\n",
    "        elif type == 'Wall' or type == 'BoundaryWall' :\n",
    "            x['AreaRatio'] = area_ratio[x['TypeWall']]\n",
    "        elif type == 'Floor' or type == 'BoundaryFloor' :\n",
    "            x['AreaRatio'] = area_ratio[x['TypeFloor']]\n",
    "\n",
    "    # 平均熱貫流率の算出\n",
    "    Ro, Ri = get_Ro_Ri(type, IsInContactWithOutsideAir)\n",
    "    UA = sum(x['AreaRatio']/(Ro + sum(y['thick']/y['cond'] for y in x['Layers']) + Ri) for x in Parts)\n",
    "    \n",
    "    return UA"
   ]
  },
  {
   "cell_type": "markdown",
   "metadata": {},
   "source": [
    "#### Example"
   ]
  },
  {
   "cell_type": "code",
   "execution_count": 14,
   "metadata": {},
   "outputs": [
    {
     "name": "stdout",
     "output_type": "stream",
     "text": [
      "{'Walls': [{'area': 10, 'direction': 'Bottom', 'IsInContactWithOutsideAir': True, 'name': 'Floor', 'space': 'Main', 'nextspace': 'ClosedBackFloor', 'structure': 'Wood', 'type': 'Floor', 'InputMethod': 'InputAllLayers', 'FloorConstructionMethod': 'FrameFootingInsuljoist', 'Parts': [{'TypeFloor': 'Insulation', 'Layers': [{'cond': 0.16, 'name': 'PED', 'specH': 720.0, 'thick': 0.012}], 'AreaRatio': 0.8}, {'TypeFloor': 'Heatbridge', 'Layers': [{'cond': 0.16, 'name': 'PED', 'specH': 720.0, 'thick': 0.012}], 'AreaRatio': 0.2}], 'UA': 3.7735849056603774}, {'area': 20, 'direction': 'Top', 'IsInContactWithOutsideAir': True, 'name': 'Roof', 'space': 'Main', 'nextspace': 'OutsideAir', 'structure': 'Wood', 'type': 'Roof', 'InputMethod': 'InputAllLayers', 'RoofConstructionMethod': 'InsuladdBackhorizontal', 'Parts': [{'TypeRoof': 'InsulRafterandadd', 'Layers': [{'cond': 0.16, 'name': 'PED', 'specH': 720.0, 'thick': 0.012}], 'AreaRatio': 0.79}, {'TypeRoof': 'InsulrafterHeatbridgeadd', 'Layers': [{'cond': 0.16, 'name': 'PED', 'specH': 720.0, 'thick': 0.012}], 'AreaRatio': 0.08}, {'TypeRoof': 'InsuladdHeatbridgemember', 'Layers': [{'cond': 0.16, 'name': 'PED', 'specH': 720.0, 'thick': 0.012}], 'AreaRatio': 0.12}, {'TypeRoof': 'HeatbridgeMemberandadd', 'Layers': [{'cond': 0.16, 'name': 'PED', 'specH': 720.0, 'thick': 0.012}], 'AreaRatio': 0.01}], 'UA': 4.878048780487805}, {'area': 30, 'direction': 'North', 'IsInContactWithOutsideAir': True, 'name': 'Wall', 'space': 'Main', 'structure': 'Wood', 'nextspace': 'OutsideAir', 'type': 'Wall', 'InputMethod': 'InputAllLayers', 'WallConstructionMethod': 'WallInsuladdBackvertical', 'Parts': [{'TypeWall': 'WallInsulFilledandadd', 'Layers': [{'cond': 0.16, 'name': 'PED', 'specH': 720.0, 'thick': 0.012}], 'AreaRatio': 0.76}, {'TypeWall': 'WallInsulfilledHeatbridgeadd', 'Layers': [{'cond': 0.16, 'name': 'PED', 'specH': 720.0, 'thick': 0.012}], 'AreaRatio': 0.01}, {'TypeWall': 'WallInsuladdHeatbridgemember', 'Layers': [{'cond': 0.16, 'name': 'PED', 'specH': 720.0, 'thick': 0.012}], 'AreaRatio': 0.0}, {'TypeWall': 'WallInsuladdHeatbridgelintel', 'Layers': [{'cond': 0.16, 'name': 'PED', 'specH': 720.0, 'thick': 0.012}], 'AreaRatio': 0.02}, {'TypeWall': 'WallHeatbridgeMemberandadd', 'Layers': [{'cond': 0.16, 'name': 'PED', 'specH': 720.0, 'thick': 0.012}], 'AreaRatio': 0.2}, {'TypeWall': 'WallHeatbridgeLintelandadd', 'Layers': [{'cond': 0.16, 'name': 'PED', 'specH': 720.0, 'thick': 0.012}], 'AreaRatio': 0.01}], 'UA': 4.444444444444445}]}\n"
     ]
    }
   ],
   "source": [
    "d = {\n",
    "    'Walls' : [\n",
    "        {\n",
    "            'area': 10,\n",
    "            'direction' : 'Bottom',\n",
    "            'IsInContactWithOutsideAir': True,\n",
    "            'name' : 'Floor',\n",
    "            'space' : 'Main',\n",
    "            'nextspace' : 'ClosedBackFloor',\n",
    "            'structure' : 'Wood', \n",
    "            'type' : 'Floor',\n",
    "            'InputMethod' : 'InputAllLayers',\n",
    "            'FloorConstructionMethod' : 'FrameFootingInsuljoist',\n",
    "            'Parts' :  [\n",
    "                {'TypeFloor': 'Insulation', 'Layers': [{'cond': 0.16, 'name': 'PED', 'specH': 720.0, 'thick': 0.012}]},\n",
    "                {'TypeFloor': 'Heatbridge', 'Layers': [{'cond': 0.16, 'name': 'PED', 'specH': 720.0, 'thick': 0.012}]}\n",
    "            ]\n",
    "        },\n",
    "        {\n",
    "            'area': 20,\n",
    "            'direction' : 'Top',\n",
    "            'IsInContactWithOutsideAir': True,\n",
    "            'name' : 'Roof',\n",
    "            'space' : 'Main',\n",
    "            'nextspace' : 'OutsideAir',\n",
    "            'structure' : 'Wood', \n",
    "            'type' : 'Roof',\n",
    "            'InputMethod' : 'InputAllLayers',\n",
    "            'RoofConstructionMethod' : 'InsuladdBackhorizontal',\n",
    "            'Parts' :  [\n",
    "                {'TypeRoof': 'InsulRafterandadd', 'Layers' : [{'cond': 0.16, 'name': 'PED', 'specH': 720.0, 'thick': 0.012}]},\n",
    "                {'TypeRoof': 'InsulrafterHeatbridgeadd', 'Layers' : [{'cond': 0.16, 'name': 'PED', 'specH': 720.0, 'thick': 0.012}]},\n",
    "                {'TypeRoof': 'InsuladdHeatbridgemember', 'Layers' : [{'cond': 0.16, 'name': 'PED', 'specH': 720.0, 'thick': 0.012}]},\n",
    "                {'TypeRoof': 'HeatbridgeMemberandadd', 'Layers' : [{'cond': 0.16, 'name': 'PED', 'specH': 720.0, 'thick': 0.012}]}\n",
    "            ]\n",
    "        },\n",
    "        {\n",
    "            'area': 30,\n",
    "            'direction' : 'North',\n",
    "            'IsInContactWithOutsideAir': True,\n",
    "            'name' : 'Wall',\n",
    "            'space' : 'Main',\n",
    "            'structure' : 'Wood', \n",
    "            'nextspace' : 'OutsideAir',\n",
    "            'type' : 'Wall',\n",
    "            'InputMethod' : 'InputAllLayers',\n",
    "            'WallConstructionMethod' : 'WallInsuladdBackvertical',\n",
    "            'Parts' :  [\n",
    "                {'TypeWall': 'WallInsulFilledandadd', 'Layers': [{'cond': 0.16, 'name': 'PED', 'specH': 720.0, 'thick': 0.012}]},\n",
    "                {'TypeWall': 'WallInsulfilledHeatbridgeadd', 'Layers': [{'cond': 0.16, 'name': 'PED', 'specH': 720.0, 'thick': 0.012}]},\n",
    "                {'TypeWall': 'WallInsuladdHeatbridgemember', 'Layers': [{'cond': 0.16, 'name': 'PED', 'specH': 720.0, 'thick': 0.012}]},\n",
    "                {'TypeWall': 'WallInsuladdHeatbridgelintel', 'Layers': [{'cond': 0.16, 'name': 'PED', 'specH': 720.0, 'thick': 0.012}]},\n",
    "                {'TypeWall': 'WallHeatbridgeMemberandadd', 'Layers': [{'cond': 0.16, 'name': 'PED', 'specH': 720.0, 'thick': 0.012}]},\n",
    "                {'TypeWall': 'WallHeatbridgeLintelandadd', 'Layers': [{'cond': 0.16, 'name': 'PED', 'specH': 720.0, 'thick': 0.012}]}\n",
    "            ]\n",
    "        }\n",
    "    ]\n",
    "}\n",
    "\n",
    "def get_UA_from_layers(d):\n",
    "    for x in d['Walls'] :\n",
    "        if x['InputMethod'] == 'InputAllLayers' :\n",
    "            x['UA'] = calc_UA_from_layers(**x)\n",
    "    return d\n",
    "\n",
    "print(get_UA_from_layers(d))"
   ]
  },
  {
   "cell_type": "markdown",
   "metadata": {},
   "source": [
    "#### 熱貫流率補正法（簡略計算方法②）"
   ]
  },
  {
   "cell_type": "markdown",
   "metadata": {},
   "source": [
    "<div style=\"text-align: center;\"> 表7 木造における一般部位の断熱工法等に応じた補正熱貫流率 </div>\n",
    "\n",
    "| 部位 | 断熱工法等 | 軸組構法補正熱貫流率 | 枠組壁構法補正熱貫流率 |\n",
    "|---|---|---|---|\n",
    "| 床 |  | 0.13 | 0.08 |\n",
    "| 上階側界床 |  | 0.13 | 0.08 |\n",
    "| 下階側界床 |  | 0.13 | 0.08 |\n",
    "| 外壁・界壁 | 充填断熱（柱・間柱間に断熱）する場合 | 0.09 | 0.13 |\n",
    "| 外壁・界壁 | 充填断熱（柱・間柱間に断熱）し付加断熱する場合 | 0.09 | 0.13 |\n",
    "\n",
    "| 部位 | 断熱工法等 | 補正熱貫流率 |\n",
    "|---|---|---|\n",
    "| 外壁・界壁 | 土壁で外張断熱の場合 | 0.04 |\n",
    "| 外壁・界壁 | 土壁以外で外張断熱の場合 | 0.02 |\n",
    "| 天井 | 桁・梁間に断熱する場合 | 0.05 |\n",
    "| 屋根 | 充填断熱（たるき間に断熱）する場合 | 0.11 |\n",
    "| 屋根 | 充填断熱（たるき間に断熱）し付加断熱する場合 | 0.11 |\n",
    "| 屋根 | 外張断熱工法 | 0.02 |"
   ]
  },
  {
   "cell_type": "code",
   "execution_count": 15,
   "metadata": {
    "collapsed": true
   },
   "outputs": [],
   "source": [
    "def get_Ur_wood(type, ConstructionMethod = None, RoofInsulationMethod = None, WallInsulationMethod = None, **kwargs):\n",
    "    # Type : 部位種別\n",
    "    # ConstructionMethod : 工法種類\n",
    "    # 'FrameInsulcolumn'（軸組構法）/'WallInsul'（枠組壁構法）\n",
    "    \n",
    "    if type == 'Floor' or type == 'BoundaryCeiling' or type == 'BoundaryFloor' :\n",
    "        if ConstructionMethod == 'FrameInsulcolumn' :\n",
    "            Ur = 0.13\n",
    "        elif ConstructionMethod == 'WallInsul' :\n",
    "            Ur = 0.08\n",
    "        else :\n",
    "            raise ValueError\n",
    "\n",
    "    # WallInsulationMethod : 壁の断熱種類\n",
    "    # 'InsulColumn'（充填断熱（柱・間柱間に断熱））/'InsulColumnandadd'（充填断熱（柱・間柱間に断熱）+付加断熱）/\n",
    "    # 'OuterInsulMudWall'（土壁で外張断熱）/'OuterInsul'（土壁以外で外張断熱）    \n",
    "    elif type == 'Wall' or type == 'BoundaryWall' :\n",
    "        if WallInsulationMethod == 'InsulColumn' or RoofInsulationMethod == 'InsulColumnandadd' :\n",
    "            if ConstructionMethod == 'FrameInsulcolumn' :\n",
    "                Ur = 0.09\n",
    "            elif ConstructionMethod == 'WallInsul' :\n",
    "                Ur = 0.13\n",
    "            else :\n",
    "                raise ValueError\n",
    "        elif WallInsulationMethod == 'OuterInsulMudWall' :\n",
    "            Ur = 0.04\n",
    "        elif WallInsulationMethod == 'OuterInsul' :\n",
    "            Ur = 0.02\n",
    "        else :\n",
    "            raise ValueError \n",
    "\n",
    "    elif type == 'Ceiling' :\n",
    "        Ur = 0.05\n",
    "\n",
    "    # RoofInsulationMethod : 屋根の断熱種類\n",
    "    # 'InsulRafter'（充填断熱（たるき間に断熱））/'InsulRafterandadd'（充填断熱（たるき間に断熱）+付加断熱）/'OuterInsul'（外張断熱工法）\n",
    "    elif type == 'Roof' :\n",
    "        if RoofInsulationMethod == 'InsulRafter' or RoofInsulationMethod == 'InsulRafterandadd' :\n",
    "            Ur = 0.11\n",
    "        elif RoofInsulationMethod == 'OuterInsul' :\n",
    "            Ur = 0.02\n",
    "        else :\n",
    "            raise ValueError \n",
    "\n",
    "    else :\n",
    "        raise ValueError\n",
    "    \n",
    "    return Ur"
   ]
  },
  {
   "cell_type": "markdown",
   "metadata": {},
   "source": [
    "<div style=\"text-align: center;\"> 表8 鉄骨造における一般部位の熱橋部分（柱及び梁以外）の仕様に応じた補正熱貫流率 </div>\n",
    "\n",
    "| 「外装材＋断熱補強材」の熱抵抗(m<sup>2</sup>･K/W) | 補正熱貫流率ܷ |\n",
    "|---|---|\n",
    "| 1.7以上 | 0.00 |\n",
    "| 1.7未満1.5以上 | 0.10 |\n",
    "| 1.5未満1.3以上 | 0.13 |\n",
    "| 1.3未満1.1以上 | 0.14 |\n",
    "| 1.1未満0.9以上 | 0.18 |\n",
    "| 0.9未満0.7以上 | 0.22 |\n",
    "| 0.7未満0.5以上 | 0.40 |\n",
    "| 0.5未満0.3以上 | 0.45 |\n",
    "| 0.3未満0.1以上 | 0.60 |\n",
    "| 0.1未満 | 0.70 |"
   ]
  },
  {
   "cell_type": "code",
   "execution_count": 16,
   "metadata": {
    "collapsed": true
   },
   "outputs": [],
   "source": [
    "def get_Ur_steel(Radding):\n",
    "    # Rc : 「外装材＋断熱補強材」の熱抵抗, m2K/W\n",
    "    \n",
    "    if Radding >= 1.7 :\n",
    "        Ur = 0.00\n",
    "    elif Radding >= 1.5 :\n",
    "        Ur = 0.10\n",
    "    elif Radding >= 1.3 :\n",
    "        Ur = 0.13    \n",
    "    elif Radding >= 1.1 :\n",
    "        Ur = 0.14    \n",
    "    elif Radding >= 0.9 :\n",
    "        Ur = 0.18    \n",
    "    elif Radding >= 0.7 :\n",
    "        Ur = 0.22    \n",
    "    elif Radding >= 0.5 :\n",
    "        Ur = 0.40    \n",
    "    elif Radding >= 0.3 :\n",
    "        Ur = 0.45    \n",
    "    elif Radding >= 0.1 :\n",
    "        Ur = 0.60  \n",
    "    elif Radding < 0.1 :\n",
    "        Ur = 0.70\n",
    "    else :\n",
    "        raise ValueError\n",
    "\n",
    "    return Ur"
   ]
  },
  {
   "cell_type": "markdown",
   "metadata": {},
   "source": [
    "$$\n",
    "\\displaystyle\n",
    "U_{i}= \\frac{1}{R_{g,i}} + U_{r,i}\n",
    "$$"
   ]
  },
  {
   "cell_type": "markdown",
   "metadata": {},
   "source": [
    "$U_{i}$: 一般部位$i$の熱貫流率, W/(m<sup>2</sup>・K)  \n",
    "$R_{g,i}$: 一般部位$i$の断熱部分の熱抵抗, m<sup>2</sup>K/W  \n",
    "$U_{r,i}$: 一般部位$i$の補正熱貫流率, W/(m<sup>2</sup>・K)  "
   ]
  },
  {
   "cell_type": "code",
   "execution_count": 17,
   "metadata": {
    "collapsed": true
   },
   "outputs": [],
   "source": [
    "def calc_UA_from_Ur(type, structure, IsInContactWithOutsideAir, Parts, ConstructionMethod = None, RoofInsulationMethod = None, \n",
    "                    WallInsulationMethod = None, Radding = None, **kwargs):\n",
    "    \n",
    "    # 断熱部分の熱抵抗, m2K/W\n",
    "    Ro, Ri = get_Ro_Ri(type, IsInContactWithOutsideAir)\n",
    "    Rg = Ro + sum(x['thick']/x['cond'] for x in Parts[0]['Layers']) + Ri\n",
    "    \n",
    "    # 補正熱貫流率\n",
    "    if structure == 'wood' :\n",
    "        Ur = get_Ur_wood(type, ConstructionMethod, RoofInsulationMethod, WallInsulationMethod)\n",
    "    elif structure == 'steel' :\n",
    "        Ur = get_Ur_steel(Radding)\n",
    "    else :\n",
    "        raise ValueError\n",
    "    \n",
    "    return 1/Rg + Ur"
   ]
  },
  {
   "cell_type": "markdown",
   "metadata": {},
   "source": [
    "#### Example"
   ]
  },
  {
   "cell_type": "code",
   "execution_count": 18,
   "metadata": {},
   "outputs": [
    {
     "name": "stdout",
     "output_type": "stream",
     "text": [
      "{'Walls': [{'area': 10, 'direction': 'Bottom', 'IsInContactWithOutsideAir': True, 'name': 'Floor', 'space': 'Main', 'nextspace': 'OutsideAir', 'structure': 'wood', 'type': 'Floor', 'InputMethod': 'InputUR', 'ConstructionMethod': 'WallInsul', 'Parts': [{'Layers': [{'cond': 0.16, 'name': 'PED', 'specH': 720.0, 'thick': 0.012}]}], 'UA': 3.853584905660377}, {'area': 20, 'direction': 'Top', 'IsInContactWithOutsideAir': True, 'name': 'Roof', 'space': 'Main', 'nextspace': 'OutsideAir', 'structure': 'wood', 'type': 'Roof', 'InputMethod': 'InputUR', 'ConstructionMethod': 'FrameInsulcolumn', 'RoofInsulationMethod': 'InsulRafterandadd', 'Parts': [{'Layers': [{'cond': 0.16, 'name': 'PED', 'specH': 720.0, 'thick': 0.012}]}], 'UA': 4.988048780487805}, {'area': 30, 'direction': 'North', 'IsInContactWithOutsideAir': True, 'name': 'Wall', 'space': 'Main', 'nextspace': 'OutsideAir', 'structure': 'steel', 'type': 'Wall', 'InputMethod': 'InputUR', 'Radding': 1.0, 'Parts': [{'Layers': [{'cond': 0.16, 'name': 'PED', 'specH': 720.0, 'thick': 0.012}]}], 'UA': 4.624444444444444}]}\n"
     ]
    }
   ],
   "source": [
    "d = {\n",
    "    'Walls' : [\n",
    "        {\n",
    "            'area': 10,\n",
    "            'direction' : 'Bottom',\n",
    "            'IsInContactWithOutsideAir': True,\n",
    "            'name' : 'Floor',\n",
    "            'space' : 'Main',\n",
    "            'nextspace' : 'OutsideAir',\n",
    "            'structure' : 'wood', \n",
    "            'type' : 'Floor',\n",
    "            'InputMethod' : 'InputUR',\n",
    "            'ConstructionMethod' : 'WallInsul',\n",
    "            'Parts' :  [{'Layers' : [{'cond': 0.16, 'name': 'PED', 'specH': 720.0, 'thick': 0.012}]}]\n",
    "        },\n",
    "        {\n",
    "            'area': 20,\n",
    "            'direction' : 'Top',\n",
    "            'IsInContactWithOutsideAir': True,\n",
    "            'name' : 'Roof',\n",
    "            'space' : 'Main',\n",
    "            'nextspace' : 'OutsideAir',\n",
    "            'structure' : 'wood', \n",
    "            'type' : 'Roof',\n",
    "            'InputMethod' : 'InputUR',\n",
    "            'ConstructionMethod' : 'FrameInsulcolumn',\n",
    "            'RoofInsulationMethod' : 'InsulRafterandadd',\n",
    "            'Parts' :  [{'Layers' : [{'cond': 0.16, 'name': 'PED', 'specH': 720.0, 'thick': 0.012}]}]\n",
    "        },\n",
    "        {\n",
    "            'area': 30,\n",
    "            'direction' : 'North',\n",
    "            'IsInContactWithOutsideAir': True,\n",
    "            'name' : 'Wall',\n",
    "            'space' : 'Main',\n",
    "            'nextspace' : 'OutsideAir',\n",
    "            'structure' : 'steel', \n",
    "            'type' : 'Wall',\n",
    "            'InputMethod' : 'InputUR',\n",
    "            'Radding' : 1.0,\n",
    "            'Parts' :  [{'Layers' : [{'cond': 0.16, 'name': 'PED', 'specH': 720.0, 'thick': 0.012}]}]\n",
    "        }\n",
    "    ]\n",
    "}\n",
    "\n",
    "def get_UA_from_Ur(d):\n",
    "    for x in d['Walls'] :\n",
    "        if x['InputMethod'] == 'InputUR' :\n",
    "            x['UA'] =  calc_UA_from_Ur(**x)\n",
    "    return d\n",
    "\n",
    "print(get_UA_from_Ur(d))"
   ]
  },
  {
   "cell_type": "markdown",
   "metadata": {},
   "source": [
    "#### RC造"
   ]
  },
  {
   "cell_type": "markdown",
   "metadata": {},
   "source": [
    "$$\n",
    "\\displaystyle\n",
    "U_{i}= U_{i,k}\n",
    "$$"
   ]
  },
  {
   "cell_type": "markdown",
   "metadata": {},
   "source": [
    "$U_{i}$: 一般部位$i$の熱貫流率, W/(m<sup>2</sup>・K)  \n",
    "$U_{i,k}$: 一般部位$i$の部分$k$の熱貫流率, W/(m<sup>2</sup>・K)  "
   ]
  },
  {
   "cell_type": "code",
   "execution_count": 19,
   "metadata": {
    "collapsed": true
   },
   "outputs": [],
   "source": [
    "def calc_UA_from_layer(type, IsInContactWithOutsideAir, Parts):\n",
    "    \n",
    "    # 断熱部分の熱抵抗, m2K/W\n",
    "    Ro, Ri = get_Ro_Ri(type, IsInContactWithOutsideAir)\n",
    "    Rg = Ro + sum(x['thick']/x['cond'] for x in Parts[0]['Layers']) + Ri\n",
    "    \n",
    "    return 1/Rg"
   ]
  },
  {
   "cell_type": "markdown",
   "metadata": {},
   "source": [
    "#### 応答係数算出用層構成の作成"
   ]
  },
  {
   "cell_type": "markdown",
   "metadata": {},
   "source": [
    "一般部位の熱貫流率$U_A$に一致するよう、一般部位の部分の層構成を調整する。  \n",
    "－$U_A$に一致するまで、Layersの順番に厚を減らす  \n",
    "－$U_A$に一致するまで、Layersの逆順に厚を減らす  \n",
    "－$U_A$に一致するまで、熱伝導率の小さい層より厚を減らす（同じ熱伝導率の層が複数ある場合にはLayersのリストの順番）  \n",
    "－$U_A$に一致するまで、熱伝導率の小さい層より厚を減らす（同じ熱伝導率の層が複数ある場合にはLayersのリストの逆順）  "
   ]
  },
  {
   "cell_type": "code",
   "execution_count": 20,
   "metadata": {
    "collapsed": true
   },
   "outputs": [],
   "source": [
    "# UAをもとに層構成を調整\n",
    "# Layersの順番に厚を減らす\n",
    "def get_layers_from_UA_acending(layers, UA, Ro, Ri):\n",
    "    \n",
    "    if UA < 1/(Ro + Ri + sum(x['thick']/x['cond'] for x in layers)) :\n",
    "        raise ValueError\n",
    "    elif UA > 1/(Ro + Ri) :\n",
    "        raise ValueError\n",
    "    else :\n",
    "        for x in layers :\n",
    "            if UA > 1/(Ro + Ri + sum(y['thick']/y['cond'] for y in layers)) :\n",
    "                x['thick'] = max(0, (1/UA - Ro - Ri - (sum(y['thick']/y['cond'] for y in layers)-x['thick']/x['cond']))*x['cond'])\n",
    "    \n",
    "    return layers"
   ]
  },
  {
   "cell_type": "code",
   "execution_count": 21,
   "metadata": {
    "collapsed": true
   },
   "outputs": [],
   "source": [
    "# UAをもとに層構成を調整\n",
    "# Layersの逆順に厚を減らす\n",
    "def get_layers_from_UA_descending(layers, UA, Ro, Ri):\n",
    "    \n",
    "    if UA < 1/(Ro + Ri + sum(x['thick']/x['cond'] for x in layers)) :\n",
    "        raise ValueError\n",
    "    elif UA > 1/(Ro + Ri) :\n",
    "        raise ValueError\n",
    "    else :\n",
    "        for x in reversed(layers) :\n",
    "            if UA > 1/(Ro + Ri + sum(y['thick']/y['cond'] for y in layers)) :\n",
    "                x['thick'] = max(0, (1/UA - Ro - Ri - (sum(y['thick']/y['cond'] for y in layers)-x['thick']/x['cond']))*x['cond'])\n",
    "    \n",
    "    return layers"
   ]
  },
  {
   "cell_type": "code",
   "execution_count": 22,
   "metadata": {
    "collapsed": true
   },
   "outputs": [],
   "source": [
    "# UAをもとに層構成を調整\n",
    "# 熱伝導率の小さい層より厚を減らす\n",
    "# 同じ熱伝導率の層が複数ある場合にはLayersのリストの順番に処理\n",
    "def get_layers_from_UA_ins_acending(layers, UA, Ro, Ri):\n",
    "    \n",
    "    def get_cond_sort_list(l, c_list):\n",
    "        # l : Layers\n",
    "        \n",
    "        l_copy = []\n",
    "        for x in l :\n",
    "            l_copy.append({'name': x['name'], 'cond': x['cond'], 'specH': x['specH'], 'thick': x['thick']})\n",
    "        sort_list = []\n",
    "        \n",
    "        for x in range(0,len(l_copy)) :\n",
    "            cond_temp = c_list[x]\n",
    "            for y in range(0,len(l_copy)) :\n",
    "                if cond_temp == l_copy[y]['cond'] :\n",
    "                    sort_list.append(y)\n",
    "                    l_copy[y]['cond'] = 0\n",
    "                    cond_temp = -1                   \n",
    "        return sort_list\n",
    "    \n",
    "    # Layers中の熱伝導率を昇順に並べる\n",
    "    cond_list = sorted([x['cond'] for x in layers])\n",
    "\n",
    "    # Layers中の熱伝導率の昇順の順番を取得する\n",
    "    cond_sort_list = get_cond_sort_list(layers, cond_list)\n",
    "\n",
    "    # 熱伝導率の小さい層より厚を調整\n",
    "    # 同じ熱伝導率の層が複数ある場合にはLayersのリストの順番に処理\n",
    "    if UA < 1/(Ro + Ri + sum(x['thick']/x['cond'] for x in layers)) :\n",
    "        raise ValueError\n",
    "    elif UA > 1/(Ro + Ri) :\n",
    "        raise ValueError\n",
    "    else :\n",
    "        for x in cond_sort_list :\n",
    "            if UA > 1/(Ro + Ri + sum(y['thick']/y['cond'] for y in layers)) :\n",
    "                R = Ro + Ri + sum(y['thick']/y['cond'] for y in layers) - layers[x]['thick']/layers[x]['cond']\n",
    "                layers[x]['thick'] = max(0, (1/UA - R)*layers[x]['cond'])\n",
    "    \n",
    "    return layers"
   ]
  },
  {
   "cell_type": "code",
   "execution_count": 23,
   "metadata": {
    "collapsed": true
   },
   "outputs": [],
   "source": [
    "# UAをもとに層構成を調整\n",
    "# 熱伝導率の小さい層より厚を減らす\n",
    "# 同じ熱伝導率の層が複数ある場合にはLayersのリストの逆順に処理\n",
    "def get_layers_from_UA_ins_descending(layers, UA, Ro, Ri):\n",
    "    \n",
    "    def get_cond_sort_list(l, c_list):\n",
    "        # l : Layers\n",
    "        \n",
    "        l_copy = []\n",
    "        for x in l :\n",
    "            l_copy.append({'name': x['name'], 'cond': x['cond'], 'specH': x['specH'], 'thick': x['thick']})\n",
    "        sort_list = []\n",
    "        \n",
    "        sort_list = []\n",
    "        for x in range(0,len(l_copy)) :\n",
    "            cond_temp = c_list[x]\n",
    "            for y in range(len(l_copy),0,-1) :\n",
    "                if cond_temp == l_copy[y-1]['cond'] :\n",
    "                    sort_list.append(y-1)\n",
    "                    l_copy[y-1]['cond'] = 0\n",
    "                    cond_temp = -1                   \n",
    "        return sort_list\n",
    "    \n",
    "    # Layers中の熱伝導率を昇順に並べる\n",
    "    cond_list = sorted([x['cond'] for x in layers])\n",
    "\n",
    "    # Layers中の熱伝導率の昇順の順番を取得する\n",
    "    cond_sort_list = get_cond_sort_list(layers, cond_list)\n",
    "\n",
    "    # 熱伝導率の小さい層より厚を調整\n",
    "    # 同じ熱伝導率の層が複数ある場合にはLayersのリストの逆順に処理\n",
    "    if UA < 1/(Ro + Ri + sum(x['thick']/x['cond'] for x in layers)) :\n",
    "        raise ValueError\n",
    "    elif UA > 1/(Ro + Ri) :\n",
    "        raise ValueError\n",
    "    else :\n",
    "        for x in cond_sort_list :\n",
    "            if UA > 1/(Ro + Ri + sum(y['thick']/y['cond'] for y in layers)) :\n",
    "                R = Ro + Ri + sum(y['thick']/y['cond'] for y in layers) - layers[x]['thick']/layers[x]['cond']\n",
    "                layers[x]['thick'] = max(0, (1/UA - R)*layers[x]['cond'])\n",
    "    \n",
    "    return layers"
   ]
  },
  {
   "cell_type": "markdown",
   "metadata": {},
   "source": [
    "#### 応答係数算出用の層構成の決定"
   ]
  },
  {
   "cell_type": "markdown",
   "metadata": {},
   "source": [
    "応答係数算出用の層構成を決定する。  \n",
    "－簡略計算法①の断熱部分  \n",
    "－面積比率が最大の部分  "
   ]
  },
  {
   "cell_type": "code",
   "execution_count": 24,
   "metadata": {
    "collapsed": true
   },
   "outputs": [],
   "source": [
    "def get_part_gneral_wood_floor(FloorConstructionMethod):\n",
    "    # FloorConstructionMethod: 床の工法種類\n",
    "    # 'FrameBeamInsuljoist'（軸組構法・床梁工法（根太間に断熱））/'FrameFootingInsuljoist'（軸組構法・束立大引工法（根太間に断熱））/\n",
    "    # 'FrameFootingInsulsleeper'（軸組構法・束立大引工法（大引間に断熱））/\n",
    "    # 'FrameFootingInsuljoistSleeper'（軸組構法・束立大引工法（根太間及び大引間に断熱））/\n",
    "    # 'FrameRigidfloor'（軸組構法・剛床工法）/'FrameBeambaseInsuljoist'（軸組構法・床梁土台同面工法（根太間に断熱））/\n",
    "    # 'WallInsuljoist'（枠組壁工法（根太間に断熱））\n",
    "    \n",
    "    if FloorConstructionMethod == 'FrameBeamInsuljoist' :\n",
    "        part_gneral = 'Insulation'\n",
    "    elif FloorConstructionMethod == 'FrameFootingInsuljoist' :\n",
    "        part_gneral = 'Insulation'\n",
    "    elif FloorConstructionMethod == 'FrameFootingInsulsleeper' :\n",
    "        part_gneral = 'Insulation'\n",
    "    elif FloorConstructionMethod == 'FrameFootingInsuljoistSleeper' :\n",
    "        part_gneral = 'InsulJoitandsleeper'\n",
    "    elif FloorConstructionMethod == 'FrameRigidfloor' :\n",
    "        part_gneral = 'Insulation'\n",
    "    elif FloorConstructionMethod == 'FrameBeambaseInsuljoist' :\n",
    "        part_gneral = 'Insulation'\n",
    "    elif FloorConstructionMethod == 'WallInsuljoist' :\n",
    "        part_gneral = 'Insulation'\n",
    "    else :\n",
    "        raise ValueError\n",
    "    \n",
    "    return part_gneral"
   ]
  },
  {
   "cell_type": "code",
   "execution_count": 25,
   "metadata": {
    "collapsed": true
   },
   "outputs": [],
   "source": [
    "def get_part_gneral_wood_wall(WallConstructionMethod):\n",
    "    # WallConstructionMethod: 床の工法種類\n",
    "    # 'FrameInsulcolumn'（軸組構法・柱、間柱間に断熱）/\n",
    "    # 'FrameInsuladdBackhorizontal'（軸組構法・柱、間柱間に断熱し付加断熱（付加断熱層内熱橋部分が「横下地」））/\n",
    "    # 'FrameInsuladdBackvertical'（軸組構法・柱、間柱間に断熱し付加断熱（付加断熱層内熱橋部分が「縦下地」））/\n",
    "    # 'WallInsuljamb'（枠組壁工法・たて枠間に断熱）/\n",
    "    # 'WallInsuladdBackhorizontal'（枠組壁工法・たて枠間に断熱＋付加断熱（付加断熱層内熱橋部分が「横下地」））/\n",
    "    # 'WallInsuladdBackvertical'（枠組壁工法・たて枠間に断熱＋付加断熱（付加断熱層内熱橋部分が「縦下地」））\n",
    "    \n",
    "    if WallConstructionMethod == 'FrameInsulcolumn' :\n",
    "        part_gneral = 'Insulation'\n",
    "    elif WallConstructionMethod == 'FrameInsuladdBackhorizontal' :\n",
    "        part_gneral = 'FrameInsulColumnandadd'\n",
    "    elif WallConstructionMethod == 'FrameInsuladdBackvertical' :\n",
    "        part_gneral = 'FrameInsulColumnandadd'\n",
    "    elif WallConstructionMethod == 'WallInsuljamb' :\n",
    "        part_gneral = 'Insulation'\n",
    "    elif WallConstructionMethod == 'WallInsuladdBackhorizontal' :\n",
    "        part_gneral = 'WallInsulFilledandadd'\n",
    "    elif WallConstructionMethod == 'WallInsuladdBackvertical' :\n",
    "        part_gneral = 'WallInsulFilledandadd'\n",
    "    else :\n",
    "        raise ValueError\n",
    "    \n",
    "    return part_gneral"
   ]
  },
  {
   "cell_type": "code",
   "execution_count": 26,
   "metadata": {
    "collapsed": true
   },
   "outputs": [],
   "source": [
    "def get_part_gneral_wood_ceiling(CeilingConstructionMethod):\n",
    "    # CeilingConstructionMethod: 天井の工法種類\n",
    "    # 'Insulbeam'（桁・梁間に断熱）\n",
    "    \n",
    "    if CeilingConstructionMethod == 'Insulbeam' :\n",
    "        part_gneral = 'Insulation'\n",
    "    else :\n",
    "        raise ValueError\n",
    "\n",
    "    return part_gneral"
   ]
  },
  {
   "cell_type": "code",
   "execution_count": 27,
   "metadata": {
    "collapsed": true
   },
   "outputs": [],
   "source": [
    "def get_part_gneral_wood_roof(RoofConstructionMethod):\n",
    "    # RoofConstructionMethod : 屋根の工法種類\n",
    "    # 'Insulrafter'（たるき間に断熱）/'InsuladdBackhorizontal'（たるき間に断熱＋付加断熱（横下地）））\n",
    "    \n",
    "    if RoofConstructionMethod == 'Insulrafter' :\n",
    "        part_gneral = 'Insulation'\n",
    "    elif RoofConstructionMethod == 'InsuladdBackhorizontal' :\n",
    "        part_gneral = 'InsulRafterandadd'\n",
    "    else :\n",
    "        raise ValueError\n",
    "    \n",
    "    return part_gneral"
   ]
  },
  {
   "cell_type": "markdown",
   "metadata": {},
   "source": [
    "#### 応答係数算出"
   ]
  },
  {
   "cell_type": "markdown",
   "metadata": {},
   "source": [
    "層構成より応答係数を算出する。  "
   ]
  },
  {
   "cell_type": "code",
   "execution_count": 28,
   "metadata": {
    "collapsed": true
   },
   "outputs": [],
   "source": [
    "def get_responsce_factor_from_layers(name, Ro, Ri, Layers) :\n",
    "\n",
    "    import nbimporter\n",
    "    import heatload_calc.Wall as mf\n",
    "    \n",
    "    layers =[mf.Layer( x['name'], x['cond'], x['specH'], x['thick'] ) for x in Layers]\n",
    "    layers.append(mf.Layer( 'OutHeatTrans', 1/Ro, 0.0, 0.00 ))\n",
    "\n",
    "    hr = 5.0 \n",
    "    wall = mf.Wall(name, 0.90, 0.80, 1/Ri - hr, hr, layers)\n",
    "\n",
    "    rf =mf.ResponseFactor('wall', 3600, 50, wall)\n",
    "\n",
    "    return {'RFT0' : rf.RFT0(), 'RFT1' : rf.RFT1() ,'RFA0' : rf.RFA0(), 'RFA1' : rf.RFA1()}"
   ]
  },
  {
   "cell_type": "markdown",
   "metadata": {},
   "source": [
    "#### 一般部位構造種別・壁体仕様入力方法(木造)に応じた応答係数の算出"
   ]
  },
  {
   "cell_type": "markdown",
   "metadata": {},
   "source": [
    "一般部位構造種別・壁体仕様入力方法(木造)に応じて、一般部位のU値の算出、応答係数算出用の層構成の決定、応答係数の算出を行う。  "
   ]
  },
  {
   "cell_type": "code",
   "execution_count": 29,
   "metadata": {
    "collapsed": true
   },
   "outputs": [],
   "source": [
    "def copy_layers(Layers) :\n",
    "    \n",
    "    l = []\n",
    "    for x in Layers :\n",
    "        l.extend([ { 'name' : x['name'], 'cond' : x['cond'], 'thick' : x['thick'], 'specH' : x['specH'] }])\n",
    "\n",
    "    return l"
   ]
  },
  {
   "cell_type": "code",
   "execution_count": 30,
   "metadata": {},
   "outputs": [],
   "source": [
    "def get_responce_factor(IsSimplifiedInput, name, type, structure, area, direction, IsInContactWithOutsideAir, UA = None, Parts = None, \n",
    "                        InputMethod = None, RoofConstructionMethod = None, CeilingConstructionMethod = None, WallConstructionMethod = None, \n",
    "                        FloorConstructionMethod = None, ConstructionMethod = None, RoofInsulationMethod = None, \n",
    "                        WallInsulationMethod = None, Radding = None, **kwargs):  \n",
    "    \n",
    "    Parts_for_RF = []\n",
    "    \n",
    "    # 表面熱伝達抵抗の取得\n",
    "    Ro, Ri = get_Ro_Ri(type, IsInContactWithOutsideAir)    \n",
    "    \n",
    "    # 簡易外皮入力\n",
    "    if IsSimplifiedInput == True or InputMethod == 'InputUA' :\n",
    "        #層構成の取得\n",
    "        import nbimporter\n",
    "        import ConvertUValueToSpec as mf       \n",
    "        layers = mf.convert_u_value_to_spec( structure, type, UA )\n",
    "        Parts_for_RF = [\n",
    "                    {'area': area,\n",
    "                     'Layers' : [ { 'name' : l.name, 'cond' : l.cond, 'thick' : l.thick, 'specH' : l.spech } for l in layers ]}\n",
    "        ]\n",
    "        \n",
    "    # 木造 詳細計算法\n",
    "    elif structure == 'wood' and InputMethod == 'InputAllDetails' :\n",
    "        for x in Parts :\n",
    "            Parts_for_RF.append({'area':x['AreaRatio']*area, 'Layers': copy_layers(x['Layers'])})\n",
    "                \n",
    "    # 木造 簡略計算法①\n",
    "    elif (structure == 'wood' and InputMethod == 'InputAllLayers') :\n",
    "        area_ratio = get_area_ratio_wood(type, RoofConstructionMethod, CeilingConstructionMethod, \n",
    "                                         WallConstructionMethod, FloorConstructionMethod)\n",
    "        for x in Parts :\n",
    "            # 面積の取得\n",
    "            if type == 'Roof' or type == 'Ceiling' :\n",
    "                area_part = area_ratio[x['TypeRoof']]*area   \n",
    "            elif type == 'BoundaryCeiling' :\n",
    "                area_part =  area_ratio[x['TypeCeiling']]*area \n",
    "            elif type == 'Wall' or type == 'BoundaryWall' :\n",
    "                area_part = area_ratio[x['TypeWall']]*area \n",
    "            elif type == 'Floor' or type == 'BoundaryFloor' :\n",
    "                area_part = area_ratio[x['TypeFloor']]*area \n",
    "           # Part_for_RFへの追加    \n",
    "            Parts_for_RF.append({'area':area_part, 'Layers': copy_layers(x['Layers'])})\n",
    "                           \n",
    "    # 木造 簡略計算法②、鉄骨造\n",
    "    elif (structure == 'wood' and InputMethod == 'InputUR') \\\n",
    "      or (structure == 'steel' and InputMethod == 'InputUR') :\n",
    "        UA = calc_UA_from_Ur(type, structure, IsInContactWithOutsideAir, Parts,   \n",
    "                             ConstructionMethod, RoofInsulationMethod, WallInsulationMethod, Radding)\n",
    "        Parts_for_RF.append({'area':area, 'Layers': get_layers_from_UA_ins_descending(Parts[0]['Layers'], UA, Ro, Ri)})\n",
    "    \n",
    "    # RC造\n",
    "    elif (structure == 'RC' and InputMethod == 'InputLayers') :\n",
    "        UA = calc_UA_from_layer(type, IsInContactWithOutsideAir, Parts)\n",
    "        Parts_for_RF.append({'area':area, 'Layers': get_layers_from_UA_ins_descending(Parts[0]['Layers'], UA, Ro, Ri)})\n",
    "        \n",
    "    # その他\n",
    "    elif structure == 'other' :\n",
    "        raise ValueError\n",
    "        \n",
    "    else :\n",
    "        raise ValueError\n",
    "  \n",
    "\n",
    "    # 応答係数の取得\n",
    "    for x in Parts_for_RF :\n",
    "        x['ResponceFactor'] = get_responsce_factor_from_layers(name, Ro, Ri, x['Layers'])\n",
    "        x.pop('Layers')\n",
    "        \n",
    "    return Parts_for_RF"
   ]
  },
  {
   "cell_type": "code",
   "execution_count": 31,
   "metadata": {},
   "outputs": [
    {
     "name": "stdout",
     "output_type": "stream",
     "text": [
      "Importing Jupyter notebook from ConvertUValueToSpec.ipynb\n",
      "Importing Jupyter notebook from C:\\Users\\serikawa\\Documents\\e7_inputdataconvert\\heatload_calc\\Wall.ipynb\n",
      "[[{'area': 20, 'ResponceFactor': {'RFT0': 0.75363770902550153, 'RFT1': [2.6122690155725085e-05, -0.00044668380212315747, 0.0040839037621566571, -0.02528270738695293, 0.087986915852958647, 0.21199844140314972, -0.029791460364175435, 0.0019362314738760619], 'RFA0': 0.79962523826120857, 'RFA1': [1.5933799254523897e-06, -2.7867261448198028e-05, 0.00026698944792924467, -0.0018138875131411909, 0.0075453179009085259, 0.024454892504155754, 0.017353106604788063, 0.0010707139518562716]}}], [{'area': 10.0, 'ResponceFactor': {'RFT0': 0.50888151048998476, 'RFT1': [3.5831330163207947e-05, -0.00062442253685340702, 0.0059836660602139895, -0.042700632325610229, 0.46376050084383735, 0.021449282028832749, -0.01243488617146218, 0.001229243134991554], 'RFA0': 0.1253697277315324, 'RFA1': [3.5158643874704846e-06, -6.1881648124077992e-05, 0.00060619324351350698, -0.0045492960707860493, 0.056465597921361327, 0.0047485894532887955, 0.00013265253042132798, 0.00014893084345409853]}}, {'area': 10.0, 'ResponceFactor': {'RFT0': 0.81332648371664262, 'RFT1': [6.4448226216430991e-06, -0.00011173176057515505, 0.0010516905247157169, -0.0069102096261162939, 0.026974081998880677, 0.17409942008295806, -0.0069852046929485502, -0.00076521116491474247], 'RFA0': 0.099364066805806076, 'RFA1': [8.3187398195568735e-07, -1.424530375366524e-05, 0.00013061126292589383, -0.00081218548025866638, 0.0028140193788014295, 0.013715165991123572, -0.00021744092746959503, 0.00015054042886009498]}}], [{'area': 15.8, 'ResponceFactor': {'RFT0': 0.81332648371664262, 'RFT1': [6.4448226216430991e-06, -0.00011173176057515505, 0.0010516905247157169, -0.0069102096261162939, 0.026974081998880677, 0.17409942008295806, -0.0069852046929485502, -0.00076521116491474247], 'RFA0': 0.099364066805806076, 'RFA1': [8.3187398195568735e-07, -1.424530375366524e-05, 0.00013061126292589383, -0.00081218548025866638, 0.0028140193788014295, 0.013715165991123572, -0.00021744092746959503, 0.00015054042886009498]}}, {'area': 1.6, 'ResponceFactor': {'RFT0': 0.81332648371664262, 'RFT1': [6.4448226216430991e-06, -0.00011173176057515505, 0.0010516905247157169, -0.0069102096261162939, 0.026974081998880677, 0.17409942008295806, -0.0069852046929485502, -0.00076521116491474247], 'RFA0': 0.099364066805806076, 'RFA1': [8.3187398195568735e-07, -1.424530375366524e-05, 0.00013061126292589383, -0.00081218548025866638, 0.0028140193788014295, 0.013715165991123572, -0.00021744092746959503, 0.00015054042886009498]}}, {'area': 2.4, 'ResponceFactor': {'RFT0': 0.81332648371664262, 'RFT1': [6.4448226216430991e-06, -0.00011173176057515505, 0.0010516905247157169, -0.0069102096261162939, 0.026974081998880677, 0.17409942008295806, -0.0069852046929485502, -0.00076521116491474247], 'RFA0': 0.099364066805806076, 'RFA1': [8.3187398195568735e-07, -1.424530375366524e-05, 0.00013061126292589383, -0.00081218548025866638, 0.0028140193788014295, 0.013715165991123572, -0.00021744092746959503, 0.00015054042886009498]}}, {'area': 0.2, 'ResponceFactor': {'RFT0': 0.81332648371664262, 'RFT1': [6.4448226216430991e-06, -0.00011173176057515505, 0.0010516905247157169, -0.0069102096261162939, 0.026974081998880677, 0.17409942008295806, -0.0069852046929485502, -0.00076521116491474247], 'RFA0': 0.099364066805806076, 'RFA1': [8.3187398195568735e-07, -1.424530375366524e-05, 0.00013061126292589383, -0.00081218548025866638, 0.0028140193788014295, 0.013715165991123572, -0.00021744092746959503, 0.00015054042886009498]}}], [{'area': 22.8, 'ResponceFactor': {'RFT0': 0.81332648371664262, 'RFT1': [6.4448226216430991e-06, -0.00011173176057515505, 0.0010516905247157169, -0.0069102096261162939, 0.026974081998880677, 0.17409942008295806, -0.0069852046929485502, -0.00076521116491474247], 'RFA0': 0.099364066805806076, 'RFA1': [8.3187398195568735e-07, -1.424530375366524e-05, 0.00013061126292589383, -0.00081218548025866638, 0.0028140193788014295, 0.013715165991123572, -0.00021744092746959503, 0.00015054042886009498]}}, {'area': 0.3, 'ResponceFactor': {'RFT0': 0.81332648371664262, 'RFT1': [6.4448226216430991e-06, -0.00011173176057515505, 0.0010516905247157169, -0.0069102096261162939, 0.026974081998880677, 0.17409942008295806, -0.0069852046929485502, -0.00076521116491474247], 'RFA0': 0.099364066805806076, 'RFA1': [8.3187398195568735e-07, -1.424530375366524e-05, 0.00013061126292589383, -0.00081218548025866638, 0.0028140193788014295, 0.013715165991123572, -0.00021744092746959503, 0.00015054042886009498]}}, {'area': 0.0, 'ResponceFactor': {'RFT0': 0.81332648371664262, 'RFT1': [6.4448226216430991e-06, -0.00011173176057515505, 0.0010516905247157169, -0.0069102096261162939, 0.026974081998880677, 0.17409942008295806, -0.0069852046929485502, -0.00076521116491474247], 'RFA0': 0.099364066805806076, 'RFA1': [8.3187398195568735e-07, -1.424530375366524e-05, 0.00013061126292589383, -0.00081218548025866638, 0.0028140193788014295, 0.013715165991123572, -0.00021744092746959503, 0.00015054042886009498]}}, {'area': 0.6, 'ResponceFactor': {'RFT0': 0.81332648371664262, 'RFT1': [6.4448226216430991e-06, -0.00011173176057515505, 0.0010516905247157169, -0.0069102096261162939, 0.026974081998880677, 0.17409942008295806, -0.0069852046929485502, -0.00076521116491474247], 'RFA0': 0.099364066805806076, 'RFA1': [8.3187398195568735e-07, -1.424530375366524e-05, 0.00013061126292589383, -0.00081218548025866638, 0.0028140193788014295, 0.013715165991123572, -0.00021744092746959503, 0.00015054042886009498]}}, {'area': 6.0, 'ResponceFactor': {'RFT0': 0.81332648371664262, 'RFT1': [6.4448226216430991e-06, -0.00011173176057515505, 0.0010516905247157169, -0.0069102096261162939, 0.026974081998880677, 0.17409942008295806, -0.0069852046929485502, -0.00076521116491474247], 'RFA0': 0.099364066805806076, 'RFA1': [8.3187398195568735e-07, -1.424530375366524e-05, 0.00013061126292589383, -0.00081218548025866638, 0.0028140193788014295, 0.013715165991123572, -0.00021744092746959503, 0.00015054042886009498]}}, {'area': 0.3, 'ResponceFactor': {'RFT0': 0.81332648371664262, 'RFT1': [6.4448226216430991e-06, -0.00011173176057515505, 0.0010516905247157169, -0.0069102096261162939, 0.026974081998880677, 0.17409942008295806, -0.0069852046929485502, -0.00076521116491474247], 'RFA0': 0.099364066805806076, 'RFA1': [8.3187398195568735e-07, -1.424530375366524e-05, 0.00013061126292589383, -0.00081218548025866638, 0.0028140193788014295, 0.013715165991123572, -0.00021744092746959503, 0.00015054042886009498]}}]]\n"
     ]
    }
   ],
   "source": [
    "d = {\n",
    "    'Common': {'Region': 6,\n",
    "               'MainOccupantRoomFloorArea': 30.0,\n",
    "               'OtherOccupantRoomFloorArea': 60.0,\n",
    "               'TotalFloorArea': 120.0,\n",
    "               'IsSimplifiedInput': False\n",
    "              },    \n",
    "    'Walls' : [\n",
    "        {\n",
    "            'area' : 20,\n",
    "            'direction' : 'Bottom',\n",
    "            'IsInContactWithOutsideAir' : True,\n",
    "            'name' : 'Floor',\n",
    "            'space' : 'Main',\n",
    "            'nextspace' : 'ClosedBackFloor',\n",
    "            'structure' : 'wood', \n",
    "            'type' : 'Floor',\n",
    "            'UA': 1.0,\n",
    "            'InputMethod' : 'InputUA',\n",
    "        },\n",
    "        {\n",
    "            'area' : 20,\n",
    "            'direction' : 'Bottom',\n",
    "            'IsInContactWithOutsideAir': True,\n",
    "            'name' : 'Floor',\n",
    "            'space' : 'Main',\n",
    "            'nextspace' : 'ClosedBackFloor',\n",
    "            'structure' : 'wood', \n",
    "            'type' : 'Floor',\n",
    "            'UA': 1.0,\n",
    "            'InputMethod' : 'InputAllDetails',\n",
    "            'Parts' :  [\n",
    "                {'AreaRatio': 0.5, 'Layers' : [{'cond': 0.16, 'name': 'PED', 'specH': 720.0, 'thick': 0.024}]},\n",
    "                {'AreaRatio': 0.5, 'Layers' : [{'cond': 0.16, 'name': 'PED', 'specH': 720.0, 'thick': 0.012}]}\n",
    "            ]\n",
    "         },\n",
    "        {\n",
    "            'area' : 20,\n",
    "            'direction' : 'Top',\n",
    "            'IsInContactWithOutsideAir': True,\n",
    "            'name' : 'Roof',\n",
    "            'space' : 'Main',\n",
    "            'nextspace' : 'OutsideAir',\n",
    "            'structure' : 'wood', \n",
    "            'type' : 'Roof',\n",
    "            'InputMethod' : 'InputAllLayers',\n",
    "            'RoofConstructionMethod' : 'InsuladdBackhorizontal',\n",
    "            'Parts' :  [\n",
    "                {'TypeRoof': 'InsulRafterandadd', 'Layers' : [{'cond': 0.16, 'name': 'PED', 'specH': 720.0, 'thick': 0.012}]},\n",
    "                {'TypeRoof': 'InsulrafterHeatbridgeadd', 'Layers' : [{'cond': 0.16, 'name': 'PED', 'specH': 720.0, 'thick': 0.012}]},\n",
    "                {'TypeRoof': 'InsuladdHeatbridgemember', 'Layers' : [{'cond': 0.16, 'name': 'PED', 'specH': 720.0, 'thick': 0.012}]},\n",
    "                {'TypeRoof': 'HeatbridgeMemberandadd', 'Layers' : [{'cond': 0.16, 'name': 'PED', 'specH': 720.0, 'thick': 0.012}]}\n",
    "            ]\n",
    "        },\n",
    "        {\n",
    "            'area' : 30,\n",
    "            'direction' : 'North',\n",
    "            'IsInContactWithOutsideAir': True,\n",
    "            'name' : 'Wall',\n",
    "            'space' : 'Main',\n",
    "            'structure' : 'wood', \n",
    "            'nextspace' : 'OutsideAir',\n",
    "            'type' : 'Wall',\n",
    "            'InputMethod' : 'InputAllLayers',\n",
    "            'WallConstructionMethod' : 'WallInsuladdBackvertical',\n",
    "            'Parts' :  [\n",
    "                {'TypeWall': 'WallInsulFilledandadd', 'Layers': [{'cond': 0.16, 'name': 'PED', 'specH': 720.0, 'thick': 0.012}]},\n",
    "                {'TypeWall': 'WallInsulfilledHeatbridgeadd', 'Layers': [{'cond': 0.16, 'name': 'PED', 'specH': 720.0, 'thick': 0.012}]},\n",
    "                {'TypeWall': 'WallInsuladdHeatbridgemember', 'Layers': [{'cond': 0.16, 'name': 'PED', 'specH': 720.0, 'thick': 0.012}]},\n",
    "                {'TypeWall': 'WallInsuladdHeatbridgelintel', 'Layers': [{'cond': 0.16, 'name': 'PED', 'specH': 720.0, 'thick': 0.012}]},\n",
    "                {'TypeWall': 'WallHeatbridgeMemberandadd', 'Layers': [{'cond': 0.16, 'name': 'PED', 'specH': 720.0, 'thick': 0.012}]},\n",
    "                {'TypeWall': 'WallHeatbridgeLintelandadd', 'Layers': [{'cond': 0.16, 'name': 'PED', 'specH': 720.0, 'thick': 0.012}]}\n",
    "            ]\n",
    "        }\n",
    "    ]\n",
    "}\n",
    "\n",
    "d_rf = []\n",
    "for x in d['Walls'] :\n",
    "    d_rf.extend([get_responce_factor(d['Common']['IsSimplifiedInput'], **x)])\n",
    "    \n",
    "print(d_rf)"
   ]
  },
  {
   "cell_type": "markdown",
   "metadata": {},
   "source": [
    "#### 応答係数の係数の集約"
   ]
  },
  {
   "cell_type": "markdown",
   "metadata": {},
   "source": [
    "簡易熱負荷計算でひとつの部位とみなされる部位・部分の応答係数を集約する。    \n",
    "どの部位・部分を集約するかは既知であるとする。ここでは、暫定的に、同じ用途、同じ方位の部位を集約するものとする。"
   ]
  },
  {
   "cell_type": "code",
   "execution_count": 32,
   "metadata": {
    "collapsed": true
   },
   "outputs": [],
   "source": [
    "# 面積加重平均\n",
    "def get_area_weighted_average(area_old, area_add, value_old, value_add):\n",
    "        return (area_old*value_old + area_add*value_add)/(area_old + area_add)"
   ]
  },
  {
   "cell_type": "code",
   "execution_count": 33,
   "metadata": {
    "collapsed": true
   },
   "outputs": [],
   "source": [
    "def  copy_responce_factor(RF):\n",
    "    \n",
    "    RF_copy = {\n",
    "        'RFA0': RF['RFA0'],\n",
    "        'RFA1': [x for x in RF['RFA1']],\n",
    "        'RFT0': RF['RFT0'],\n",
    "        'RFT1': [x for x in RF['RFT1']]\n",
    "    }\n",
    "    \n",
    "    return RF_copy"
   ]
  },
  {
   "cell_type": "code",
   "execution_count": 34,
   "metadata": {
    "collapsed": true
   },
   "outputs": [],
   "source": [
    "def  integrate_responce_factor(d):\n",
    "\n",
    "    d_responce_factor = {}\n",
    "    for x in d :\n",
    "        for y in x['Parts_RF'] :\n",
    "            name = x['space']+'_'+x['direction']+'_'+x['type']\n",
    "            \n",
    "            # 他の部位・部分の応答係数に集約\n",
    "            if (name in d_responce_factor) == True :       \n",
    "\n",
    "                area_old = d_responce_factor[name]['area']\n",
    "                area_add = y['area']\n",
    "\n",
    "                responce_factor_old = copy_responce_factor(d_responce_factor[name]['ResponceFactor'])\n",
    "                responce_factor_add = y['ResponceFactor']\n",
    "\n",
    "                d_responce_factor[name]['area'] = area_old + area_add\n",
    "\n",
    "                # 応答係数の面積加重平均値の取得\n",
    "                for z in ['RFA', 'RFT']:\n",
    "                    d_responce_factor[name]['ResponceFactor'][z+'0'] \\\n",
    "                        = get_area_weighted_average(area_old, area_add, \\\n",
    "                                                    responce_factor_old[z+'0'],responce_factor_add[z+'0'])\n",
    "                    for y in range(0,len(responce_factor_old[z+'1'])) :\n",
    "                        d_responce_factor[name]['ResponceFactor'][z+'1'][y] \\\n",
    "                            = get_area_weighted_average(area_old, area_add, \\\n",
    "                                                    responce_factor_old[z+'1'][y],responce_factor_add[z+'1'][y])\n",
    "            \n",
    "            # 当該部位の応答係数を使用\n",
    "            else :\n",
    "                d_responce_factor[name] = {'area':y['area'], 'direction':x['direction'], 'type':x['type'], \n",
    "                                           'ResponceFactor':y['ResponceFactor']}\n",
    "    \n",
    "    # 辞書からリストへ\n",
    "    l_responce_factor = []\n",
    "    for x in d_responce_factor.keys() :\n",
    "        l_responce_factor.append(d_responce_factor[x])\n",
    "                \n",
    "    return  l_responce_factor"
   ]
  },
  {
   "cell_type": "markdown",
   "metadata": {},
   "source": [
    "#### Example"
   ]
  },
  {
   "cell_type": "code",
   "execution_count": 35,
   "metadata": {},
   "outputs": [
    {
     "name": "stdout",
     "output_type": "stream",
     "text": [
      "[{'area': 30.0, 'direction': 'Bottom', 'type': 'Floor', 'ResponceFactor': {'RFT0': 0.6720523095136627, 'RFT1': [2.9358903491552707e-05, -0.0005059300470332406, 0.004717157861509101, -0.031088682366505364, 0.21324477751658488, 0.14848205494504407, -0.024005935633271018, 0.0017005686942478926], 'RFA0': 0.5748734014179833, 'RFA1': [2.2342080794584213e-06, -3.920539034015802e-05, 0.00038005737979066544, -0.0027256903656894768, 0.023852077907726126, 0.017886124820533433, 0.011612955246665817, 0.000763452915722214]}}, {'area': 10.0, 'direction': 'Top', 'type': 'Ceiling', 'ResponceFactor': {'RFT0': 0.5088815104899848, 'RFT1': [3.583133016320795e-05, -0.000624422536853407, 0.0059836660602139895, -0.04270063232561023, 0.46376050084383735, 0.02144928202883275, -0.01243488617146218, 0.001229243134991554], 'RFA0': 0.1253697277315324, 'RFA1': [3.5158643874704846e-06, -6.188164812407799e-05, 0.000606193243513507, -0.004549296070786049, 0.05646559792136133, 0.0047485894532887955, 0.00013265253042132798, 0.00014893084345409853]}}]\n"
     ]
    }
   ],
   "source": [
    "d = {\n",
    "    'Walls' : [\n",
    "        {\n",
    "            'area': 20,\n",
    "            'direction' : 'Bottom',\n",
    "            'name' : 'Floor',\n",
    "            'space' : 'main',\n",
    "            'type' : 'Floor',\n",
    "            'Parts_RF' :  [\n",
    "                {'area': 20,\n",
    "                 'ResponceFactor': {\n",
    "                     'RFT0': 0.75363770902550153,\n",
    "                     'RFT1': [2.6122690155725085e-05,  -0.00044668380212315747, 0.0040839037621566571, -0.02528270738695293,\n",
    "                              0.087986915852958647, 0.21199844140314972, -0.029791460364175435,  0.0019362314738760619], \n",
    "                     'RFA0': 0.79962523826120857, \n",
    "                     'RFA1': [1.5933799254523897e-06, -2.7867261448198028e-05, 0.00026698944792924467, -0.0018138875131411909,\n",
    "                              0.0075453179009085259, 0.024454892504155754, 0.017353106604788063, 0.0010707139518562716]}}, \n",
    "                 {'area': 10.0, \n",
    "                  'ResponceFactor': {\n",
    "                      'RFT0': 0.50888151048998476, \n",
    "                      'RFT1': [3.5831330163207947e-05, -0.00062442253685340702, 0.0059836660602139895, -0.042700632325610229,\n",
    "                               0.46376050084383735, 0.021449282028832749, -0.01243488617146218, 0.001229243134991554],\n",
    "                      'RFA0': 0.1253697277315324, \n",
    "                      'RFA1': [3.5158643874704846e-06, -6.1881648124077992e-05, 0.00060619324351350698, -0.0045492960707860493,\n",
    "                               0.056465597921361327, 0.0047485894532887955, 0.00013265253042132798, 0.00014893084345409853]}}\n",
    "                 ]\n",
    "         },\n",
    "        {\n",
    "            'area': 20,\n",
    "            'direction' : 'Top',\n",
    "            'name' : 'Roof',\n",
    "            'space' : 'main',\n",
    "            'structure' : 'wood', \n",
    "            'type' : 'Ceiling',\n",
    "            'Parts_RF' :  [\n",
    "                 {'area': 10.0, \n",
    "                  'ResponceFactor': {\n",
    "                      'RFT0': 0.50888151048998476, \n",
    "                      'RFT1': [3.5831330163207947e-05, -0.00062442253685340702, 0.0059836660602139895, -0.042700632325610229,\n",
    "                               0.46376050084383735, 0.021449282028832749, -0.01243488617146218, 0.001229243134991554],\n",
    "                      'RFA0': 0.1253697277315324, \n",
    "                      'RFA1': [3.5158643874704846e-06, -6.1881648124077992e-05, 0.00060619324351350698, -0.0045492960707860493,\n",
    "                               0.056465597921361327, 0.0047485894532887955, 0.00013265253042132798, 0.00014893084345409853]}}\n",
    "            ]\n",
    "        }    ]\n",
    "}\n",
    "    \n",
    "print(integrate_responce_factor(d['Walls']))"
   ]
  },
  {
   "cell_type": "markdown",
   "metadata": {},
   "source": [
    "## 2. Convert"
   ]
  },
  {
   "cell_type": "markdown",
   "metadata": {},
   "source": [
    "### 2.1 Common Element"
   ]
  },
  {
   "cell_type": "markdown",
   "metadata": {},
   "source": [
    "#### Outline"
   ]
  },
  {
   "cell_type": "markdown",
   "metadata": {},
   "source": [
    "'Common'要素はそのまま維持する。"
   ]
  },
  {
   "cell_type": "markdown",
   "metadata": {},
   "source": [
    "#### Function"
   ]
  },
  {
   "cell_type": "code",
   "execution_count": 36,
   "metadata": {
    "collapsed": true
   },
   "outputs": [],
   "source": [
    "def convert_common(d):\n",
    "    return {\n",
    "            'Region'                     : d['Common']['Region'],\n",
    "            'IsSimplifiedInput'          : d['Common']['IsSimplifiedInput'],\n",
    "            'MainOccupantRoomFloorArea'  : d['Common']['MainOccupantRoomFloorArea'],\n",
    "            'OtherOccupantRoomFloorArea' : d['Common']['OtherOccupantRoomFloorArea'],\n",
    "            'TotalFloorArea'             : d['Common']['TotalFloorArea']\n",
    "    }"
   ]
  },
  {
   "cell_type": "markdown",
   "metadata": {},
   "source": [
    "### 2.2 Walls Element"
   ]
  },
  {
   "cell_type": "markdown",
   "metadata": {},
   "source": [
    "#### Outline"
   ]
  },
  {
   "cell_type": "markdown",
   "metadata": {},
   "source": [
    "'Walls'要素に床フラグを追加する。それ以外はそのまま維持する。"
   ]
  },
  {
   "cell_type": "markdown",
   "metadata": {},
   "source": [
    "#### Function"
   ]
  },
  {
   "cell_type": "code",
   "execution_count": 37,
   "metadata": {
    "collapsed": true
   },
   "outputs": [],
   "source": [
    "def make_layer(name, thick, cond, specH, **kwargs) :\n",
    "    \n",
    "    return {\n",
    "            'name'  : name,\n",
    "            'thick' : thick,\n",
    "            'cond'  : cond,\n",
    "            'specH' : specH\n",
    "    }"
   ]
  },
  {
   "cell_type": "code",
   "execution_count": 38,
   "metadata": {
    "collapsed": true
   },
   "outputs": [],
   "source": [
    "def make_parts(InputMethod, Parts, type = None, **kwargs) :\n",
    "    \n",
    "    parts_copy = []\n",
    "    \n",
    "    for x in Parts :\n",
    "        part = {}\n",
    "        if InputMethod == 'InputAllDetails' :\n",
    "            part['AreaRatio'] = x['AreaRatio']\n",
    "        elif InputMethod == 'InputAllLayers' :\n",
    "            if type == 'Ceiling' :\n",
    "                part['TypeRoof'] = x['TypeRoof']\n",
    "            elif type == 'Wall' or type == 'BoundaryWall' :\n",
    "                part['TypeWall'] = x['TypeWall']\n",
    "            elif type == 'Floor' or type == 'BoundaryFloor' :\n",
    "                part['TypeFloor'] = x['TypeFloor']\n",
    "            elif type == 'BoundaryCeiling' :\n",
    "                part['TypeCeiling'] = x['TypeCeiling']\n",
    "            else :\n",
    "                raise ValueError       \n",
    "            \n",
    "        part['Layers'] = [make_layer(**layer) for layer in x['Layers']]\n",
    "        parts_copy.append(part)\n",
    "        \n",
    "    return parts_copy"
   ]
  },
  {
   "cell_type": "code",
   "execution_count": 39,
   "metadata": {
    "collapsed": true
   },
   "outputs": [],
   "source": [
    "def make_wall(IsSimplifiedInput, name, direction, IsInContactWithOutsideAir, area, space, type, IsSunshadeInput, Parts = None, \n",
    "              structure = None, nextspace = None, UA = None, InputMethod = None, UR = None, RoofConstructionMethod = None, \n",
    "              WallConstructionMethod = None, FloorConstructionMethod = None, CeilingConstructionMethod = None, \n",
    "              TypeFloor = None, TypeWall = None, TypeCeiling = None,TypeRoof = None, \n",
    "              ConstructionMethod = None, RoofInsulationMethod = None, WallInsulationMethod = None, Radding = None,\n",
    "              Y1 = None, Y2 = None, Z = None, **kwargs ):\n",
    "    \n",
    "    wall = {\n",
    "        'name':      name,\n",
    "        'direction': direction,\n",
    "        'space':     space,\n",
    "        'type':      type,\n",
    "        'IsSunshadeInput': IsSunshadeInput,\n",
    "        'IsFloor': set_floor_flag(direction),\n",
    "        'Parts_RF': get_responce_factor(IsSimplifiedInput, name, type, structure, area, direction, IsInContactWithOutsideAir, UA, Parts,\n",
    "                                        InputMethod, RoofConstructionMethod, CeilingConstructionMethod, WallConstructionMethod, \n",
    "                                        FloorConstructionMethod, ConstructionMethod, RoofInsulationMethod, WallInsulationMethod, Radding)\n",
    "    }\n",
    "    \n",
    "    # 日除けの設定\n",
    "    if IsSunshadeInput == True :\n",
    "        wall['Y1'] = Y1\n",
    "        wall['Y2'] = Y2\n",
    "        wall['Z'] = Z\n",
    " \n",
    "    return wall"
   ]
  },
  {
   "cell_type": "code",
   "execution_count": 40,
   "metadata": {
    "collapsed": true
   },
   "outputs": [],
   "source": [
    "def convert_wall( d ):    \n",
    "    \n",
    "    d_wall = [ make_wall(IsSimplifiedInput = d['Common']['IsSimplifiedInput'], **f) for f in d['Walls'] ]   \n",
    "    \n",
    "    d_wall_integrate = integrate_responce_factor(d_wall)\n",
    "    \n",
    "    for x in d_wall_integrate :\n",
    "        x['IsFloor'] = set_floor_flag(x['direction'])\n",
    "    \n",
    "    return d_wall_integrate"
   ]
  },
  {
   "cell_type": "markdown",
   "metadata": {},
   "source": [
    "### 2.3 Windows Element"
   ]
  },
  {
   "cell_type": "markdown",
   "metadata": {},
   "source": [
    "#### Outline"
   ]
  },
  {
   "cell_type": "markdown",
   "metadata": {},
   "source": [
    "'Windows'要素に床フラグを追加する。それ以外はそのまま維持する。"
   ]
  },
  {
   "cell_type": "markdown",
   "metadata": {},
   "source": [
    "#### Function"
   ]
  },
  {
   "cell_type": "code",
   "execution_count": 41,
   "metadata": {
    "collapsed": true
   },
   "outputs": [],
   "source": [
    "def make_window(IsSimplifiedInput, name, direction, area, space, IsSunshadeInput, UW, TypeWindow = None, IsEtaValueInput = None,\n",
    "                EtaCooling = None, EtaHeating = None, Eta = None,TypeFrame = None, TypeGlass = None, TypeShade = None, \n",
    "                EtaInside = None,TypeFrameInside = None, TypeGlassInside = None, TypeShadeInside = None, \n",
    "                EtaOutside = None,TypeFrameOutside = None, TypeGlassOutside = None, TypeShadeOutside = None, \n",
    "                Y1 = None, Y2 = None, Z = None, **kwargs ):\n",
    "    \n",
    "    window = {\n",
    "        'name':      name,\n",
    "        'direction': direction,\n",
    "        'area':      area,\n",
    "        'space':     space,\n",
    "        'UW':         UW,\n",
    "        'IsSunshadeInput': IsSunshadeInput,\n",
    "        'IsFloor': set_floor_flag(direction)\n",
    "    } \n",
    "    \n",
    "    # 簡易外皮入力の場合\n",
    "    if IsSimplifiedInput == True :\n",
    "            window['EtaCooling'] = EtaCooling \n",
    "            window['EtaHeating'] = EtaHeating    \n",
    "            \n",
    "    # 簡易外皮入力でない場合\n",
    "    else :\n",
    "        window['TypeWindow'] = TypeWindow\n",
    "        window['IsEtaValueInput'] = IsEtaValueInput\n",
    "        # 一重窓\n",
    "        if TypeWindow == 'Single' :\n",
    "            if IsEtaValueInput == True :\n",
    "                window['Eta'] = Eta\n",
    "            else :\n",
    "                window['TypeFrame'] = TypeFrame\n",
    "                window['TypeGlass'] = TypeGlass\n",
    "                window['TypeShade'] = TypeShade\n",
    "        # 二重窓\n",
    "        elif TypeWindow == 'Double' :\n",
    "            if IsEtaValueInput == True :\n",
    "                window['EtaInside'] = EtaInside\n",
    "                window['EtaOutside'] = EtaOutside\n",
    "            else :\n",
    "                window['TypeFrameInside'] = TypeFrameInside\n",
    "                window['TypeGlassInside'] = TypeGlassInside\n",
    "                window['TypeShadeInside'] = TypeShadeInside\n",
    "                window['TypeFrameOutside'] = TypeFrameOutside\n",
    "                window['TypeGlassOutside'] = TypeGlassOutside\n",
    "                window['TypeShadeOutside'] = TypeShadeOutside\n",
    "        else :\n",
    "            raise ValueError        \n",
    "    \n",
    "    # 日除けの設定\n",
    "    if IsSunshadeInput == True :\n",
    "        # 一重窓\n",
    "        if TypeWindow == 'Single' :\n",
    "                window['TypeGlass'] = TypeGlass\n",
    "        # 二重窓\n",
    "        elif TypeWindow == 'Double' :\n",
    "                window['TypeGlassInside'] = TypeGlassInside\n",
    "                window['TypeGlassOutside'] = TypeGlassOutside\n",
    "        else :\n",
    "            raise ValueError        \n",
    "                \n",
    "        window['Y1'] = Y1\n",
    "        window['Y2'] = Y2\n",
    "        window['Z'] = Z\n",
    "\n",
    "    return window"
   ]
  },
  {
   "cell_type": "code",
   "execution_count": 42,
   "metadata": {
    "collapsed": true
   },
   "outputs": [],
   "source": [
    "def convert_window( d ):    \n",
    "    return [ make_window(IsSimplifiedInput = d['Common']['IsSimplifiedInput'], **f) for f in d['Windows'] ]"
   ]
  },
  {
   "cell_type": "markdown",
   "metadata": {},
   "source": [
    "### 2.4 Doors Element"
   ]
  },
  {
   "cell_type": "markdown",
   "metadata": {},
   "source": [
    "#### Outline"
   ]
  },
  {
   "cell_type": "markdown",
   "metadata": {},
   "source": [
    "'Doors'要素に床フラグを追加する。それ以外はそのまま維持する。"
   ]
  },
  {
   "cell_type": "markdown",
   "metadata": {},
   "source": [
    "#### Function"
   ]
  },
  {
   "cell_type": "code",
   "execution_count": 43,
   "metadata": {
    "collapsed": true
   },
   "outputs": [],
   "source": [
    "def make_door(name, direction, area, space, U, IsSunshadeInput, Y1 = None, Y2 = None, Z = None, **kwargs ):\n",
    "\n",
    "    door = {\n",
    "        'name':      name,\n",
    "        'direction': direction,\n",
    "        'area':      area,\n",
    "        'space':     space,\n",
    "        'U':         U,\n",
    "        'IsSunshadeInput': IsSunshadeInput,\n",
    "        'IsFloor': set_floor_flag(direction)\n",
    "    }\n",
    "    \n",
    "    # 日除けの設定\n",
    "    if IsSunshadeInput == True :\n",
    "        door['Y1'] = Y1\n",
    "        door['Y2'] = Y2\n",
    "        door['Z'] = Z\n",
    "    \n",
    "    return door"
   ]
  },
  {
   "cell_type": "code",
   "execution_count": 44,
   "metadata": {
    "collapsed": true
   },
   "outputs": [],
   "source": [
    "def convert_door( d ):    \n",
    "    return [ make_door(**f) for f in d['Doors'] ]"
   ]
  },
  {
   "cell_type": "markdown",
   "metadata": {},
   "source": [
    "### 2.5 Heatbridges Element"
   ]
  },
  {
   "cell_type": "markdown",
   "metadata": {},
   "source": [
    "#### Outline"
   ]
  },
  {
   "cell_type": "markdown",
   "metadata": {},
   "source": [
    "'Heatbridges'要素はそのまま維持する。"
   ]
  },
  {
   "cell_type": "markdown",
   "metadata": {},
   "source": [
    "#### Function"
   ]
  },
  {
   "cell_type": "code",
   "execution_count": 45,
   "metadata": {
    "collapsed": true
   },
   "outputs": [],
   "source": [
    "def make_heatbridge(name, structure, direction1, direction2, space, length, psi):\n",
    "    return {\n",
    "        'name':       name,\n",
    "        'structure':  structure,\n",
    "        'direction1': direction1,\n",
    "        'direction2': direction2,\n",
    "        'length':     length,\n",
    "        'space':      space,\n",
    "        'psi':        psi\n",
    "    }"
   ]
  },
  {
   "cell_type": "code",
   "execution_count": 46,
   "metadata": {
    "collapsed": true
   },
   "outputs": [],
   "source": [
    "def convert_heatbridge( d ):    \n",
    "    return [ make_heatbridge(**f) for f in d['Heatbridges'] ]"
   ]
  },
  {
   "cell_type": "markdown",
   "metadata": {},
   "source": [
    "### 2.6 EarthfloorPerimeters Element"
   ]
  },
  {
   "cell_type": "markdown",
   "metadata": {},
   "source": [
    "#### Outline"
   ]
  },
  {
   "cell_type": "markdown",
   "metadata": {},
   "source": [
    "'EarthfloorPerimeters'要素はそのまま維持する。"
   ]
  },
  {
   "cell_type": "markdown",
   "metadata": {},
   "source": [
    "#### Function"
   ]
  },
  {
   "cell_type": "code",
   "execution_count": 47,
   "metadata": {
    "collapsed": true
   },
   "outputs": [],
   "source": [
    "def make_earthfloorperimeter( direction, length, name, psi, space):\n",
    "    return {\n",
    "        'direction': direction,\n",
    "        'length':    length,\n",
    "        'name':      name,\n",
    "        'psi':       psi,\n",
    "        'space':     space\n",
    "    }"
   ]
  },
  {
   "cell_type": "code",
   "execution_count": 48,
   "metadata": {
    "collapsed": true
   },
   "outputs": [],
   "source": [
    "def convert_earthfloorperimeter( d ):    \n",
    "    return [ make_earthfloorperimeter(**f) for f in d['EarthfloorPerimeters'] ]"
   ]
  },
  {
   "cell_type": "markdown",
   "metadata": {},
   "source": [
    "### 2.7 Earthfloors Element"
   ]
  },
  {
   "cell_type": "markdown",
   "metadata": {},
   "source": [
    "#### Outline"
   ]
  },
  {
   "cell_type": "markdown",
   "metadata": {},
   "source": [
    "'Earthfloors'要素に床フラグ：Trueを追加する。それ以外はそのまま維持する。"
   ]
  },
  {
   "cell_type": "markdown",
   "metadata": {},
   "source": [
    "#### Function"
   ]
  },
  {
   "cell_type": "code",
   "execution_count": 49,
   "metadata": {
    "collapsed": true
   },
   "outputs": [],
   "source": [
    "def make_earthfloor( name, area, space ):\n",
    "    return {\n",
    "        'name': name,\n",
    "        'area': area,\n",
    "        'space': space,\n",
    "        'IsFloor': True\n",
    "    }"
   ]
  },
  {
   "cell_type": "code",
   "execution_count": 50,
   "metadata": {
    "collapsed": true
   },
   "outputs": [],
   "source": [
    "def convert_earthfloor( d ):        \n",
    "    return [ make_earthfloor(**f) for f in d['Earthfloors'] ]"
   ]
  },
  {
   "cell_type": "markdown",
   "metadata": {},
   "source": [
    "### 2.8 InnerWalls Element"
   ]
  },
  {
   "cell_type": "markdown",
   "metadata": {},
   "source": [
    "#### Outline"
   ]
  },
  {
   "cell_type": "markdown",
   "metadata": {},
   "source": [
    "'InnerWalls'要素に床フラグを追加する。層構成情報は応答係数に置き換える。それ以外はそのまま維持する。  \n",
    "床下空間上の床、室上の床は、床フラグ：Trueとする。それ以外は、床フラグ：Falseとする。"
   ]
  },
  {
   "cell_type": "markdown",
   "metadata": {},
   "source": [
    "#### Function"
   ]
  },
  {
   "cell_type": "code",
   "execution_count": 51,
   "metadata": {
    "collapsed": true
   },
   "outputs": [],
   "source": [
    "def set_floor_flag_innerwall(type):\n",
    "    return True if type == 'GroundFloor' or type == 'InnerFloor' else False "
   ]
  },
  {
   "cell_type": "code",
   "execution_count": 52,
   "metadata": {
    "collapsed": true
   },
   "outputs": [],
   "source": [
    "def make_innerwall(name, area, direction, type, Layers, spaces = None, space = None, nextspace = None, **kwargs):\n",
    "    \n",
    "    Ro, Ri = get_Ro_Ri_innerwall(type)\n",
    "    \n",
    "    if type == 'GroundFloor' or type == 'InnerWall' :\n",
    "        return {\n",
    "            'name': name,\n",
    "            'area': area,\n",
    "            'direction': direction,\n",
    "            'spaces': spaces,\n",
    "            'type' : type,\n",
    "            'IsFloor': set_floor_flag_innerwall(type),\n",
    "            'ResponceFactor': get_responsce_factor_from_layers(name, Ro, Ri, Layers)\n",
    "        }\n",
    "    \n",
    "    elif type == 'InnerFloor' or type == 'InnerCeiling' :\n",
    "        return {\n",
    "            'name': name,\n",
    "            'area': area,\n",
    "            'direction': direction,\n",
    "            'space': space,\n",
    "            'nextspace': nextspace,\n",
    "            'type' : type,\n",
    "            'IsFloor': set_floor_flag_innerwall(type),\n",
    "            'ResponceFactor': get_responsce_factor_from_layers(name, Ro, Ri, Layers)\n",
    "        }"
   ]
  },
  {
   "cell_type": "code",
   "execution_count": 53,
   "metadata": {
    "collapsed": true
   },
   "outputs": [],
   "source": [
    "def convert_innerwall( d ):        \n",
    "    return [ make_innerwall(**f) for f in d['InnerWalls'] ]"
   ]
  },
  {
   "cell_type": "markdown",
   "metadata": {},
   "source": [
    "#### Example"
   ]
  },
  {
   "cell_type": "code",
   "execution_count": 54,
   "metadata": {},
   "outputs": [
    {
     "data": {
      "text/plain": [
       "[{'IsFloor': True,\n",
       "  'ResponceFactor': {'RFA0': 0.12515318851186069,\n",
       "   'RFA1': [6.2485463820495407e-06,\n",
       "    -0.00010811168759887066,\n",
       "    0.0010160225134560163,\n",
       "    -0.0067607967416226551,\n",
       "    0.032019439170313004,\n",
       "    0.014200860440099971,\n",
       "    -0.0010707219674903046,\n",
       "    0.00026338396414694718],\n",
       "   'RFT0': 0.69664891123029715,\n",
       "   'RFT1': [4.5327014252306456e-05,\n",
       "    -0.00078576241201922436,\n",
       "    0.0074156926107328122,\n",
       "    -0.049803880466809225,\n",
       "    0.24112326775540732,\n",
       "    0.1139803357170411,\n",
       "    -0.011972564386839668,\n",
       "    0.0004802103606430642]},\n",
       "  'area': 6.666666666666667,\n",
       "  'direction': 'Horizontal',\n",
       "  'name': 'GroundFloor_other',\n",
       "  'spaces': ['other', 'underfloor'],\n",
       "  'type': 'GroundFloor'},\n",
       " {'IsFloor': True,\n",
       "  'ResponceFactor': {'RFA0': 0.12515318851186069,\n",
       "   'RFA1': [6.2485463820495407e-06,\n",
       "    -0.00010811168759887066,\n",
       "    0.0010160225134560163,\n",
       "    -0.0067607967416226551,\n",
       "    0.032019439170313004,\n",
       "    0.014200860440099971,\n",
       "    -0.0010707219674903046,\n",
       "    0.00026338396414694718],\n",
       "   'RFT0': 0.69664891123029715,\n",
       "   'RFT1': [4.5327014252306456e-05,\n",
       "    -0.00078576241201922436,\n",
       "    0.0074156926107328122,\n",
       "    -0.049803880466809225,\n",
       "    0.24112326775540732,\n",
       "    0.1139803357170411,\n",
       "    -0.011972564386839668,\n",
       "    0.0004802103606430642]},\n",
       "  'area': 53.333333333333336,\n",
       "  'direction': 'Horizontal',\n",
       "  'name': 'InnerFloor_other',\n",
       "  'nextspace': 'nonliving',\n",
       "  'space': 'other',\n",
       "  'type': 'InnerFloor'},\n",
       " {'IsFloor': False,\n",
       "  'ResponceFactor': {'RFA0': 0.14677047762645601,\n",
       "   'RFA1': [6.5771456052784352e-06,\n",
       "    -0.00011503778050396618,\n",
       "    0.0011104724943335586,\n",
       "    -0.0080095124319478888,\n",
       "    0.07097205795924541,\n",
       "    0.0079564951449808824,\n",
       "    -0.00073490470485364332,\n",
       "    0.00023814241227329249],\n",
       "   'RFT0': 0.58877157396538715,\n",
       "   'RFT1': [3.2746867638259498e-05,\n",
       "    -0.00057424044634867629,\n",
       "    0.0055744564065646693,\n",
       "    -0.040706638424002725,\n",
       "    0.37148698953651543,\n",
       "    0.045388129295471279,\n",
       "    -0.0067358804044582565,\n",
       "    0.00022591255794766226]},\n",
       "  'area': 60.0,\n",
       "  'direction': 'Horizontal',\n",
       "  'name': 'InnerCeiling_other',\n",
       "  'nextspace': 'nonliving',\n",
       "  'space': 'other',\n",
       "  'type': 'InnerCeiling'},\n",
       " {'IsFloor': False,\n",
       "  'ResponceFactor': {'RFA0': 0.13358589707788515,\n",
       "   'RFA1': [-1.9530745377072487e-05,\n",
       "    0.00035436372370836467,\n",
       "    -0.0037746439505197955,\n",
       "    0.040415838561556401,\n",
       "    0.081510393393136885,\n",
       "    -0.0072395959153099517,\n",
       "    0.0015648908431944895,\n",
       "    -7.9060159778152777e-05],\n",
       "   'RFT0': 0.26009474189904364,\n",
       "   'RFT1': [-8.2611271916143667e-05,\n",
       "    0.0015010582532340969,\n",
       "    -0.016042001377127302,\n",
       "    0.1731657971139042,\n",
       "    0.35866928710550433,\n",
       "    -0.073740115448742677,\n",
       "    0.006108686562572508,\n",
       "    -0.00069101630606382969]},\n",
       "  'area': 121.45675773706458,\n",
       "  'direction': 'Vertical',\n",
       "  'name': 'Innerwall_other to nonliving',\n",
       "  'spaces': ['other', 'nonliving'],\n",
       "  'type': 'InnerWall'}]"
      ]
     },
     "execution_count": 54,
     "metadata": {},
     "output_type": "execute_result"
    }
   ],
   "source": [
    "d = {\n",
    "    'InnerWalls': [\n",
    "        {'area': 6.666666666666667,'direction': 'Horizontal', 'Layers': [{'cond': 0.16, 'name': 'PED', 'specH': 720.0, 'thick': 0.012}],\n",
    "         'name': 'GroundFloor_other','spaces': ['other', 'underfloor'],'type': 'GroundFloor'},\n",
    "        {'area': 53.333333333333336, 'direction': 'Horizontal', 'Layers': [{'cond': 0.16, 'name': 'PED', 'specH': 720.0, 'thick': 0.012}],\n",
    "         'name': 'InnerFloor_other', 'nextspace': 'nonliving', 'space': 'other', 'type': 'InnerFloor'},\n",
    "        {'area': 60.0, 'direction': 'Horizontal', 'Layers': [{'cond': 0.16, 'name': 'PED', 'specH': 720.0, 'thick': 0.012}],\n",
    "         'name': 'InnerCeiling_other', 'nextspace': 'nonliving', 'space': 'other', 'type': 'InnerCeiling'},\n",
    "        {'area': 121.45675773706458, 'direction': 'Vertical',\n",
    "         'Layers': [{'cond': 0.22, 'name': 'GPB', 'specH': 830.0, 'thick': 0.0125},\n",
    "                    {'cond': 11.11111111111111, 'name': 'GPB', 'specH': 0, 'thick': 1},\n",
    "                    {'cond': 0.22, 'name': 'GPB', 'specH': 830.0, 'thick': 0.0125}],\n",
    "         'name': 'Innerwall_other to nonliving', 'spaces': ['other', 'nonliving'], 'type': 'InnerWall'}]\n",
    "}\n",
    "\n",
    "convert_innerwall( d )"
   ]
  },
  {
   "cell_type": "markdown",
   "metadata": {},
   "source": [
    "## 3.Lv5入力情報のコンバート（統合）"
   ]
  },
  {
   "cell_type": "markdown",
   "metadata": {},
   "source": [
    "- 1)共通情報、2)開口部以外の不透明部位、3)開口部の透明部位、4)開口部の不透明部位、5) 線熱橋、6)土間床等の外周部の線熱橋、7)土間床、8)内壁等の各コンバート関数を統合し、Lv4の入力情報をLv5の入力情報にコンバートする。"
   ]
  },
  {
   "cell_type": "markdown",
   "metadata": {
    "collapsed": true
   },
   "source": [
    "### Function"
   ]
  },
  {
   "cell_type": "code",
   "execution_count": 55,
   "metadata": {
    "collapsed": true
   },
   "outputs": [],
   "source": [
    "def convert(d):\n",
    "    d_lv5_input = {}\n",
    "    d_lv5_input['Common'] = convert_common(d)\n",
    "    if ('Walls' in d) == True:\n",
    "        d_lv5_input['Walls'] = convert_wall(d)\n",
    "    if ('Windows' in d) == True:\n",
    "        d_lv5_input['Windows'] = convert_window(d)\n",
    "    if ('Doors' in d) == True:\n",
    "        d_lv5_input['Doors'] = convert_door(d)\n",
    "    if ('EarthfloorPerimeters' in d) == True:\n",
    "        d_lv5_input['EarthfloorPerimeters'] = convert_earthfloorperimeter(d)\n",
    "    if ('EarthFloors' in d) == True:\n",
    "        d_lv5_input['EarthFloors'] = convert_earthfloor(d)\n",
    "    if ('Heatbridges' in d) == True:\n",
    "        d_lv5_input['Heatbridges'] = convert_heatbridge(d)\n",
    "    d_lv5_input['InnerWalls'] = convert_innerwall(d)\n",
    "\n",
    "    return d_lv5_input"
   ]
  },
  {
   "cell_type": "markdown",
   "metadata": {},
   "source": [
    "### Example"
   ]
  },
  {
   "cell_type": "code",
   "execution_count": 56,
   "metadata": {},
   "outputs": [
    {
     "data": {
      "text/plain": [
       "{'Common': {'IsSimplifiedInput': False,\n",
       "  'MainOccupantRoomFloorArea': 30.0,\n",
       "  'OtherOccupantRoomFloorArea': 60.0,\n",
       "  'Region': 6,\n",
       "  'TotalFloorArea': 120.0},\n",
       " 'Doors': [{'IsFloor': False,\n",
       "   'IsSunshadeInput': False,\n",
       "   'U': 6.51,\n",
       "   'area': 2.52,\n",
       "   'direction': 'NW',\n",
       "   'name': 'DoorNW',\n",
       "   'space': 'main'},\n",
       "  {'IsFloor': False,\n",
       "   'IsSunshadeInput': True,\n",
       "   'U': 4.65,\n",
       "   'Y1': 0.0,\n",
       "   'Y2': 1.0,\n",
       "   'Z': 0.6,\n",
       "   'area': 2.16,\n",
       "   'direction': 'NE',\n",
       "   'name': 'DoorNE',\n",
       "   'space': 'main'}],\n",
       " 'EarthfloorPerimeters': [{'direction': 'NW',\n",
       "   'length': 2.43,\n",
       "   'name': 'NW',\n",
       "   'psi': 1.8,\n",
       "   'space': 'underfloor'},\n",
       "  {'direction': 'NE',\n",
       "   'length': 2.43,\n",
       "   'name': 'NE',\n",
       "   'psi': 1.8,\n",
       "   'space': 'underfloor'}],\n",
       " 'Heatbridges': [{'direction1': 'N',\n",
       "   'direction2': 'E',\n",
       "   'length': 1.0,\n",
       "   'name': 'NE',\n",
       "   'psi': 1.8,\n",
       "   'space': 'main',\n",
       "   'structure': 'RC'},\n",
       "  {'direction1': 'N',\n",
       "   'direction2': 'W',\n",
       "   'length': 2.0,\n",
       "   'name': 'NW',\n",
       "   'psi': 1.8,\n",
       "   'space': 'main',\n",
       "   'structure': 'Steel'}],\n",
       " 'InnerWalls': [{'IsFloor': True,\n",
       "   'ResponceFactor': {'RFA0': 0.12515318851186069,\n",
       "    'RFA1': [6.2485463820495407e-06,\n",
       "     -0.00010811168759887066,\n",
       "     0.0010160225134560163,\n",
       "     -0.0067607967416226551,\n",
       "     0.032019439170313004,\n",
       "     0.014200860440099971,\n",
       "     -0.0010707219674903046,\n",
       "     0.00026338396414694718],\n",
       "    'RFT0': 0.69664891123029715,\n",
       "    'RFT1': [4.5327014252306456e-05,\n",
       "     -0.00078576241201922436,\n",
       "     0.0074156926107328122,\n",
       "     -0.049803880466809225,\n",
       "     0.24112326775540732,\n",
       "     0.1139803357170411,\n",
       "     -0.011972564386839668,\n",
       "     0.0004802103606430642]},\n",
       "   'area': 6.666666666666667,\n",
       "   'direction': 'Horizontal',\n",
       "   'name': 'GroundFloor_other',\n",
       "   'spaces': ['other', 'underfloor'],\n",
       "   'type': 'GroundFloor'},\n",
       "  {'IsFloor': True,\n",
       "   'ResponceFactor': {'RFA0': 0.12515318851186069,\n",
       "    'RFA1': [6.2485463820495407e-06,\n",
       "     -0.00010811168759887066,\n",
       "     0.0010160225134560163,\n",
       "     -0.0067607967416226551,\n",
       "     0.032019439170313004,\n",
       "     0.014200860440099971,\n",
       "     -0.0010707219674903046,\n",
       "     0.00026338396414694718],\n",
       "    'RFT0': 0.69664891123029715,\n",
       "    'RFT1': [4.5327014252306456e-05,\n",
       "     -0.00078576241201922436,\n",
       "     0.0074156926107328122,\n",
       "     -0.049803880466809225,\n",
       "     0.24112326775540732,\n",
       "     0.1139803357170411,\n",
       "     -0.011972564386839668,\n",
       "     0.0004802103606430642]},\n",
       "   'area': 53.333333333333336,\n",
       "   'direction': 'Horizontal',\n",
       "   'name': 'InnerFloor_other',\n",
       "   'nextspace': 'nonliving',\n",
       "   'space': 'other',\n",
       "   'type': 'InnerFloor'},\n",
       "  {'IsFloor': False,\n",
       "   'ResponceFactor': {'RFA0': 0.14677047762645601,\n",
       "    'RFA1': [6.5771456052784352e-06,\n",
       "     -0.00011503778050396618,\n",
       "     0.0011104724943335586,\n",
       "     -0.0080095124319478888,\n",
       "     0.07097205795924541,\n",
       "     0.0079564951449808824,\n",
       "     -0.00073490470485364332,\n",
       "     0.00023814241227329249],\n",
       "    'RFT0': 0.58877157396538715,\n",
       "    'RFT1': [3.2746867638259498e-05,\n",
       "     -0.00057424044634867629,\n",
       "     0.0055744564065646693,\n",
       "     -0.040706638424002725,\n",
       "     0.37148698953651543,\n",
       "     0.045388129295471279,\n",
       "     -0.0067358804044582565,\n",
       "     0.00022591255794766226]},\n",
       "   'area': 60.0,\n",
       "   'direction': 'Horizontal',\n",
       "   'name': 'InnerCeiling_other',\n",
       "   'nextspace': 'nonliving',\n",
       "   'space': 'other',\n",
       "   'type': 'InnerCeiling'},\n",
       "  {'IsFloor': False,\n",
       "   'ResponceFactor': {'RFA0': 0.13358589707788515,\n",
       "    'RFA1': [-1.9530745377072487e-05,\n",
       "     0.00035436372370836467,\n",
       "     -0.0037746439505197955,\n",
       "     0.040415838561556401,\n",
       "     0.081510393393136885,\n",
       "     -0.0072395959153099517,\n",
       "     0.0015648908431944895,\n",
       "     -7.9060159778152777e-05],\n",
       "    'RFT0': 0.26009474189904364,\n",
       "    'RFT1': [-8.2611271916143667e-05,\n",
       "     0.0015010582532340969,\n",
       "     -0.016042001377127302,\n",
       "     0.1731657971139042,\n",
       "     0.35866928710550433,\n",
       "     -0.073740115448742677,\n",
       "     0.006108686562572508,\n",
       "     -0.00069101630606382969]},\n",
       "   'area': 121.45675773706458,\n",
       "   'direction': 'Vertical',\n",
       "   'name': 'Innerwall_other to nonliving',\n",
       "   'spaces': ['other', 'nonliving'],\n",
       "   'type': 'InnerWall'}],\n",
       " 'Walls': [{'IsFloor': False,\n",
       "   'ResponceFactor': {'RFA0': 0.5509145167719286,\n",
       "    'RFA1': [0.0065562708346119875,\n",
       "     -0.021197443413981297,\n",
       "     0.05922024333982813,\n",
       "     -0.034199838539363557,\n",
       "     0.42867182152146205,\n",
       "     -0.059621558818043048,\n",
       "     0.015049513923573057,\n",
       "     -0.0013165935953292651],\n",
       "    'RFT0': 0.36806960454230769,\n",
       "    'RFT1': [0.0016288014826758349,\n",
       "     -0.0052652435937851167,\n",
       "     0.014479520055065961,\n",
       "     0.002281412745809684,\n",
       "     0.39139268530772003,\n",
       "     -0.022050535093310824,\n",
       "     -0.0012690797112456902,\n",
       "     -0.00010752811449408372]},\n",
       "   'area': 542.4,\n",
       "   'direction': 'top',\n",
       "   'type': 'Ceiling'},\n",
       "  {'IsFloor': False,\n",
       "   'ResponceFactor': {'RFA0': 0.12536972773167626,\n",
       "    'RFA1': [3.5158643872673157e-06,\n",
       "     -6.1881648120935189e-05,\n",
       "     0.00060619324349065775,\n",
       "     -0.0045492960707202625,\n",
       "     0.056465597921184003,\n",
       "     0.0047485894533215757,\n",
       "     0.00013265253040469616,\n",
       "     0.00014893084345620386],\n",
       "    'RFT0': 0.50888151048998487,\n",
       "    'RFT1': [3.5831330163207947e-05,\n",
       "     -0.00062442253685340702,\n",
       "     0.0059836660602139904,\n",
       "     -0.042700632325610235,\n",
       "     0.46376050084383735,\n",
       "     0.021449282028832752,\n",
       "     -0.01243488617146218,\n",
       "     0.001229243134991554]},\n",
       "   'area': 67.8,\n",
       "   'direction': 'bottom',\n",
       "   'type': 'Floor'},\n",
       "  {'IsFloor': False,\n",
       "   'ResponceFactor': {'RFA0': 0.12536972773167626,\n",
       "    'RFA1': [3.5158643872673157e-06,\n",
       "     -6.1881648120935189e-05,\n",
       "     0.00060619324349065764,\n",
       "     -0.0045492960707202608,\n",
       "     0.056465597921184003,\n",
       "     0.0047485894533215757,\n",
       "     0.00013265253040469619,\n",
       "     0.00014893084345620386],\n",
       "    'RFT0': 0.50888151048998487,\n",
       "    'RFT1': [3.5831330163207947e-05,\n",
       "     -0.00062442253685340702,\n",
       "     0.0059836660602139895,\n",
       "     -0.042700632325610235,\n",
       "     0.46376050084383735,\n",
       "     0.021449282028832749,\n",
       "     -0.01243488617146218,\n",
       "     0.001229243134991554]},\n",
       "   'area': 67.8,\n",
       "   'direction': 'N',\n",
       "   'type': 'Wall'},\n",
       "  {'IsFloor': False,\n",
       "   'ResponceFactor': {'RFA0': 0.13327819941774277,\n",
       "    'RFA1': [-5.5997545858744396e-06,\n",
       "     9.9274190157976712e-05,\n",
       "     -0.00099384130720276873,\n",
       "     0.0082246532041004936,\n",
       "     0.075865847098392614,\n",
       "     -0.0026477047238138711,\n",
       "     0.0012133534559584584,\n",
       "     1.9614828153812087e-05],\n",
       "    'RFT0': 0.39812440535924065,\n",
       "    'RFT1': [-2.4385254902228724e-05,\n",
       "     0.00043932581880839767,\n",
       "     -0.0045561879915465018,\n",
       "     0.040801909822825784,\n",
       "     0.45900098752573487,\n",
       "     -0.034474995542536344,\n",
       "     -0.0023223274707865507,\n",
       "     0.00017318487564605472]},\n",
       "   'area': 67.8,\n",
       "   'direction': 'top',\n",
       "   'type': 'BoundaryCeiling'}],\n",
       " 'Windows': [{'IsEtaValueInput': False,\n",
       "   'IsFloor': False,\n",
       "   'IsSunshadeInput': True,\n",
       "   'TypeFrame': 'WoodOrResin',\n",
       "   'TypeGlass': '3WgG',\n",
       "   'TypeShade': 'Shoji',\n",
       "   'TypeWindow': 'Single',\n",
       "   'UW': 6.51,\n",
       "   'Y1': 0.0,\n",
       "   'Y2': 1.0,\n",
       "   'Z': 0.6,\n",
       "   'area': 30.25,\n",
       "   'direction': 'SW',\n",
       "   'name': 'WindowSW',\n",
       "   'space': 'main'},\n",
       "  {'Eta': 0.738,\n",
       "   'IsEtaValueInput': True,\n",
       "   'IsFloor': False,\n",
       "   'IsSunshadeInput': False,\n",
       "   'TypeWindow': 'Single',\n",
       "   'UW': 4.65,\n",
       "   'area': 3.17,\n",
       "   'direction': 'NW',\n",
       "   'name': 'WindowNW',\n",
       "   'space': 'main'},\n",
       "  {'IsEtaValueInput': False,\n",
       "   'IsFloor': False,\n",
       "   'IsSunshadeInput': True,\n",
       "   'TypeFrameInside': 'WoodOrResin',\n",
       "   'TypeFrameOutside': 'Steel',\n",
       "   'TypeGlassInside': '3WgG',\n",
       "   'TypeGlassOutside': '3WgG',\n",
       "   'TypeShadeInside': 'Shoji',\n",
       "   'TypeShadeOutside': 'ExtarnalBlind',\n",
       "   'TypeWindow': 'Double',\n",
       "   'UW': 6.51,\n",
       "   'Y1': 0.0,\n",
       "   'Y2': 1.0,\n",
       "   'Z': 0.6,\n",
       "   'area': 30.25,\n",
       "   'direction': 'SW',\n",
       "   'name': 'WindowSW',\n",
       "   'space': 'main'},\n",
       "  {'EtaInside': 0.738,\n",
       "   'EtaOutside': 0.738,\n",
       "   'IsEtaValueInput': True,\n",
       "   'IsFloor': False,\n",
       "   'IsSunshadeInput': True,\n",
       "   'TypeGlassInside': '3WgG',\n",
       "   'TypeGlassOutside': '3WgG',\n",
       "   'TypeWindow': 'Double',\n",
       "   'UW': 4.65,\n",
       "   'Y1': 0.0,\n",
       "   'Y2': 1.0,\n",
       "   'Z': 0.6,\n",
       "   'area': 3.17,\n",
       "   'direction': 'NW',\n",
       "   'name': 'WindowNW',\n",
       "   'space': 'main'}]}"
      ]
     },
     "execution_count": 56,
     "metadata": {},
     "output_type": "execute_result"
    }
   ],
   "source": [
    "d = {\n",
    "    'Common': {\n",
    "        'Region': 6,\n",
    "        'IsSimplifiedInput': False,\n",
    "        'MainOccupantRoomFloorArea': 30.0,\n",
    "        'OtherOccupantRoomFloorArea': 60.0,\n",
    "        'TotalFloorArea': 120.0\n",
    "    },\n",
    "    'Walls': [\n",
    "        { 'name': 'Ceiling', 'type': 'Ceiling', 'structure': 'wood', 'InputMethod': 'InputUA',\n",
    "          'direction': 'top', 'IsInContactWithOutsideAir': True, 'area': 67.8, 'space': 'main', 'UA': 0.24, 'IsSunshadeInput': False },\n",
    "        { 'name': 'Ceiling', 'type': 'Ceiling', 'structure': 'wood', 'InputMethod' :'InputAllDetails', 'direction': 'top', \n",
    "          'IsInContactWithOutsideAir': True, 'area': 67.8, 'space': 'main',\n",
    "          'Parts': [{'AreaRatio': 0.8, 'Layers': [{'name': 'wood','thick': 0.012, 'cond': 0.16, 'specH': 720 },\n",
    "                                                  {'name': 'wood','thick': 0.012, 'cond': 0.16, 'specH': 720 }]},\n",
    "                    {'AreaRatio': 0.2, 'Layers': [{'name': 'wood','thick': 0.012, 'cond': 0.16, 'specH': 720 },\n",
    "                                                  {'name': 'wood','thick': 0.012, 'cond': 0.16, 'specH': 720 }]}],\n",
    "          'IsSunshadeInput': False },\n",
    "        { 'name': 'Floor', 'type': 'Floor', 'structure': 'wood', 'InputMethod' :'InputAllLayers', 'direction': 'bottom', \n",
    "          'IsInContactWithOutsideAir': True, 'area': 67.8, 'space': 'main',\n",
    "          'FloorConstructionMethod' :'FrameBeamInsuljoist',\n",
    "          'Parts': [{'TypeFloor': 'Insulation', 'Layers': [{'name': 'wood','thick': 0.012, 'cond': 0.16, 'specH': 720 },\n",
    "                                                           {'name': 'wood','thick': 0.012, 'cond': 0.16, 'specH': 720 }]},\n",
    "                    {'TypeFloor': 'Heatbridge', 'Layers': [{'name': 'wood','thick': 0.012, 'cond': 0.16, 'specH': 720 },\n",
    "                                                           {'name': 'wood','thick': 0.012, 'cond': 0.16, 'specH': 720 }]}],\n",
    "           'IsSunshadeInput': False },\n",
    "        { 'name': 'Wall', 'type': 'Wall', 'structure': 'wood', 'InputMethod' :'InputAllLayers', 'direction': 'N', \n",
    "          'IsInContactWithOutsideAir': True, 'area': 67.8, 'space': 'main', \n",
    "          'WallConstructionMethod': 'WallInsuladdBackvertical',\n",
    "          'Parts': [{'TypeWall': 'WallInsulFilledandadd',        'Layers': [{'name': 'wood','thick': 0.012, 'cond': 0.16, 'specH': 720 },\n",
    "                                                                            {'name': 'wood','thick': 0.012, 'cond': 0.16, 'specH': 720 }]},\n",
    "                    {'TypeWall': 'WallInsulfilledHeatbridgeadd', 'Layers': [{'name': 'wood','thick': 0.012, 'cond': 0.16, 'specH': 720 },\n",
    "                                                                            {'name': 'wood','thick': 0.012, 'cond': 0.16, 'specH': 720 }]},  \n",
    "                    {'TypeWall': 'WallInsuladdHeatbridgemember', 'Layers': [{'name': 'wood','thick': 0.012, 'cond': 0.16, 'specH': 720 },\n",
    "                                                                            {'name': 'wood','thick': 0.012, 'cond': 0.16, 'specH': 720 }]},  \n",
    "                    {'TypeWall': 'WallInsuladdHeatbridgelintel', 'Layers': [{'name': 'wood','thick': 0.012, 'cond': 0.16, 'specH': 720 },\n",
    "                                                                            {'name': 'wood','thick': 0.012, 'cond': 0.16, 'specH': 720 }]},  \n",
    "                    {'TypeWall': 'WallHeatbridgeMemberandadd'  , 'Layers': [{'name': 'wood','thick': 0.012, 'cond': 0.16, 'specH': 720 },\n",
    "                                                                            {'name': 'wood','thick': 0.012, 'cond': 0.16, 'specH': 720 }]},  \n",
    "                    {'TypeWall': 'WallHeatbridgeLintelandadd'  , 'Layers': [{'name': 'wood','thick': 0.012, 'cond': 0.16, 'specH': 720 },\n",
    "                                                                            {'name': 'wood','thick': 0.012, 'cond': 0.16, 'specH': 720 }]}],  \n",
    "          'IsSunshadeInput': False },\n",
    "        { 'name': 'Ceiling', 'type': 'Ceiling', 'structure': 'wood', 'InputMethod' :'InputAllLayers', 'direction': 'top', \n",
    "          'IsInContactWithOutsideAir': True, 'area': 67.8, 'space': 'main', \n",
    "          'RoofConstructionMethod': 'Insulrafter', \n",
    "          'Parts': [{'TypeRoof': 'Insulation', 'Layers': [{'name': 'wood','thick': 0.012, 'cond': 0.16, 'specH': 720 },\n",
    "                                                          {'name': 'wood','thick': 0.012, 'cond': 0.16, 'specH': 720 }]},\n",
    "                    {'TypeRoof': 'Heatbridge', 'Layers': [{'name': 'wood','thick': 0.012, 'cond': 0.16, 'specH': 720 },\n",
    "                                                          {'name': 'wood','thick': 0.012, 'cond': 0.16, 'specH': 720 }]}],\n",
    "          'IsSunshadeInput': False },\n",
    "        { 'name': 'BoundaryCeiling', 'type': 'BoundaryCeiling', 'structure': 'wood', 'InputMethod' :'InputAllLayers', \n",
    "          'direction': 'top', 'IsInContactWithOutsideAir': False, 'area': 67.8, 'space': 'main', 'CeilingConstructionMethod': 'Insulbeam', \n",
    "          'Parts': [{'TypeCeiling': 'Insulation', 'Layers': [{'name': 'wood','thick': 0.012, 'cond': 0.16, 'specH': 720 },\n",
    "                                                             {'name': 'wood','thick': 0.012, 'cond': 0.16, 'specH': 720 }]},\n",
    "                    {'TypeCeiling': 'Heatbridge', 'Layers': [{'name': 'wood','thick': 0.012, 'cond': 0.16, 'specH': 720 },\n",
    "                                                             {'name': 'wood','thick': 0.012, 'cond': 0.16, 'specH': 720 }]}],\n",
    "          'IsSunshadeInput': False },\n",
    "        { 'name': 'Ceiling', 'type': 'Ceiling', 'structure': 'wood', 'InputMethod' :'InputUR',\n",
    "          'direction': 'top', 'IsInContactWithOutsideAir': False, 'area': 67.8, 'space': 'main', 'UR': 0.05,\n",
    "          'Parts': [{'Layers': [{'name': 'wood','thick': 0.012, 'cond': 0.16, 'specH': 720 },\n",
    "                                {'name': 'wood','thick': 0.012, 'cond': 0.16, 'specH': 720 }]}],\n",
    "          'IsSunshadeInput': False },\n",
    "        { 'name': 'Ceiling', 'type': 'Ceiling', 'structure': 'RC', 'InputMethod' :'InputUA', \n",
    "          'direction': 'top', 'IsInContactWithOutsideAir': True, 'area': 67.8, 'space': 'main', 'UA': 0.24, 'IsSunshadeInput': False },\n",
    "        { 'name': 'Ceiling', 'type': 'Ceiling', 'structure': 'RC', 'InputMethod' :'InputLayers', \n",
    "          'direction': 'top', 'IsInContactWithOutsideAir': True, 'area': 67.8, 'space': 'main',\n",
    "          'Parts': [{ 'Layers': [{'name': 'wood','thick': 0.012, 'cond': 0.16, 'specH': 720 },\n",
    "                                 {'name': 'wood','thick': 0.012, 'cond': 0.16, 'specH': 720 }]}],         \n",
    "          'IsSunshadeInput': False },\n",
    "        { 'name': 'Ceiling', 'type': 'Ceiling', 'structure': 'steel', 'InputMethod' :'InputUA', \n",
    "          'direction': 'top', 'IsInContactWithOutsideAir': True, 'area': 67.8, 'space': 'main', 'UA': 0.24, 'IsSunshadeInput': False },\n",
    "        { 'name': 'Ceiling', 'type': 'Ceiling', 'structure': 'steel', 'InputMethod' :'InputUR', \n",
    "          'direction': 'top', 'IsInContactWithOutsideAir': True, 'area': 67.8, 'space': 'main', 'Radding': 0.10, \n",
    "          'Parts': [{'Layers': [{'name': 'wood','thick': 0.012, 'cond': 0.16, 'specH': 720 },\n",
    "                                {'name': 'wood','thick': 0.012, 'cond': 0.16, 'specH': 720 }]}],         \n",
    "          'IsSunshadeInput': False },\n",
    "#         { 'name': 'Ceiling', 'type': 'Ceiling', 'structure': 'other', 'direction': 'top', 'area': 67.8, 'space': 'main', \n",
    "#           'IsSunshadeInput': False }\n",
    "    ],\n",
    "    'Windows': [\n",
    "        { 'name': 'WindowSW', 'direction': 'SW', 'area': 30.25, 'space': 'main', 'UW': 6.51, 'TypeWindow': 'Single', \n",
    "          'IsEtaValueInput': False, 'TypeFrame': 'WoodOrResin', 'TypeGlass': '3WgG', 'TypeShade': 'Shoji',\n",
    "          'IsSunshadeInput': True, 'Y1': 0.00, 'Y2': 1.00, 'Z': 0.60 },\n",
    "        { 'name': 'WindowNW', 'direction': 'NW', 'area': 3.17, 'space': 'main', 'UW': 4.65, 'TypeWindow': 'Single', \n",
    "          'IsEtaValueInput': True, 'Eta': 0.738, 'IsSunshadeInput': False },\n",
    "        { 'name': 'WindowSW', 'direction': 'SW', 'area': 30.25, 'space': 'main', 'UW': 6.51, 'TypeWindow': 'Double', 'IsEtaValueInput': False,\n",
    "          'TypeFrameInside': 'WoodOrResin', 'TypeGlassInside': '3WgG', 'TypeShadeInside': 'Shoji',\n",
    "          'TypeFrameOutside': 'Steel', 'TypeGlassOutside': '3WgG', 'TypeShadeOutside': 'ExtarnalBlind',\n",
    "          'IsSunshadeInput': True, 'Y1': 0.00, 'Y2': 1.00, 'Z': 0.60 },\n",
    "        { 'name': 'WindowNW', 'direction': 'NW', 'area': 3.17, 'space': 'main', 'UW': 4.65, 'TypeWindow': 'Double', 'IsEtaValueInput': True,\n",
    "          'EtaInside': 0.738, 'TypeGlassInside': '3WgG', 'EtaOutside': 0.738, 'TypeGlassOutside': '3WgG',\n",
    "          'IsSunshadeInput': True, 'Y1': 0.00, 'Y2': 1.00, 'Z': 0.60 }\n",
    "    ],\n",
    "    'Doors': [\n",
    "        { 'name': 'DoorNW', 'direction': 'NW', 'area': 2.52, 'U': 6.51, 'space': 'main', 'IsSunshadeInput': False },\n",
    "        { 'name': 'DoorNE', 'direction': 'NE', 'area': 2.16, 'U': 4.65, 'space': 'main', \n",
    "          'IsSunshadeInput': True, 'Y1': 0.00, 'Y2': 1.00, 'Z': 0.60 }\n",
    "    ],\n",
    "    'Heatbridges': [\n",
    "        { 'name': 'NE', 'structure': 'RC', 'length': 1.00, 'psi': 1.8, 'direction1': 'N', 'direction2': 'E', 'space': 'main' },\n",
    "        { 'name': 'NW', 'structure': 'Steel', 'length': 2.00, 'psi': 1.8, 'direction1': 'N', 'direction2': 'W', 'space': 'main' }\n",
    "    ],\n",
    "    'EarthfloorPerimeters': [\n",
    "        { 'name': 'NW', 'direction': 'NW', 'length': 2.43, 'psi': 1.8, 'space': 'underfloor' },\n",
    "        { 'name': 'NE', 'direction': 'NE', 'length': 2.43, 'psi': 1.8, 'space': 'underfloor' }\n",
    "    ],\n",
    "    'Earthfloors': [\n",
    "        { 'name': 'other', 'area': 5.0, 'space': 'underfloor' },\n",
    "        { 'name': 'entrance', 'area': 5.0, 'space': 'underfloor' }\n",
    "    ],\n",
    "    'InnerWalls': [\n",
    "        {'area': 6.666666666666667,'direction': 'Horizontal', 'Layers': [{'cond': 0.16, 'name': 'PED', 'specH': 720.0, 'thick': 0.012}],\n",
    "         'name': 'GroundFloor_other','spaces': ['other', 'underfloor'],'type': 'GroundFloor'},\n",
    "        {'area': 53.333333333333336, 'direction': 'Horizontal', 'Layers': [{'cond': 0.16, 'name': 'PED', 'specH': 720.0, 'thick': 0.012}],\n",
    "         'name': 'InnerFloor_other', 'nextspace': 'nonliving', 'space': 'other', 'type': 'InnerFloor'},\n",
    "        {'area': 60.0, 'direction': 'Horizontal', 'Layers': [{'cond': 0.16, 'name': 'PED', 'specH': 720.0, 'thick': 0.012}],\n",
    "         'name': 'InnerCeiling_other', 'nextspace': 'nonliving', 'space': 'other', 'type': 'InnerCeiling'},\n",
    "        {'area': 121.45675773706458, 'direction': 'Vertical',\n",
    "         'Layers': [{'cond': 0.22, 'name': 'GPB', 'specH': 830.0, 'thick': 0.0125},\n",
    "                    {'cond': 11.11111111111111, 'name': 'GPB', 'specH': 0, 'thick': 1},\n",
    "                    {'cond': 0.22, 'name': 'GPB', 'specH': 830.0, 'thick': 0.0125}],\n",
    "         'name': 'Innerwall_other to nonliving', 'spaces': ['other', 'nonliving'], 'type': 'InnerWall'}\n",
    "    ]\n",
    "}\n",
    "\n",
    "convert(d)"
   ]
  }
 ],
 "metadata": {
  "kernelspec": {
   "display_name": "Python 3",
   "language": "python",
   "name": "python3"
  },
  "language_info": {
   "codemirror_mode": {
    "name": "ipython",
    "version": 3
   },
   "file_extension": ".py",
   "mimetype": "text/x-python",
   "name": "python",
   "nbconvert_exporter": "python",
   "pygments_lexer": "ipython3",
   "version": "3.6.3"
  }
 },
 "nbformat": 4,
 "nbformat_minor": 2
}
