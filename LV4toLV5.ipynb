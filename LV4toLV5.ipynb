{
 "cells": [
  {
   "cell_type": "code",
   "execution_count": 1,
   "metadata": {
    "collapsed": true
   },
   "outputs": [],
   "source": [
    "import sys\n",
    "import os\n",
    "import nbimporter\n",
    "import copy"
   ]
  },
  {
   "cell_type": "markdown",
   "metadata": {},
   "source": [
    "# 外皮情報LV4からLV5へのコンバート"
   ]
  },
  {
   "cell_type": "markdown",
   "metadata": {},
   "source": [
    "## 1. 外皮性能計算プログラム＋簡単な追加情報"
   ]
  },
  {
   "cell_type": "markdown",
   "metadata": {},
   "source": [
    "- 用途別の外皮、内壁の情報が得られている状態より、以下を実施する。  \n",
    "　　床フラグの付与   \n",
    "　　応答係数の算出  \n",
    "　　複数の壁体、部位の応答係数を集約  \n",
    "　　気象データを用いた開口部透過・吸収日射量の算出（未）  "
   ]
  },
  {
   "cell_type": "markdown",
   "metadata": {},
   "source": [
    "## 2. Convert"
   ]
  },
  {
   "cell_type": "markdown",
   "metadata": {},
   "source": [
    "### 2.1 Common Element"
   ]
  },
  {
   "cell_type": "markdown",
   "metadata": {},
   "source": [
    "#### Outline"
   ]
  },
  {
   "cell_type": "markdown",
   "metadata": {},
   "source": [
    "'Common'要素はそのまま維持する。"
   ]
  },
  {
   "cell_type": "markdown",
   "metadata": {},
   "source": [
    "#### Function"
   ]
  },
  {
   "cell_type": "code",
   "execution_count": 2,
   "metadata": {
    "collapsed": true
   },
   "outputs": [],
   "source": [
    "def convert_common(d):\n",
    "    return d['Common']"
   ]
  },
  {
   "cell_type": "markdown",
   "metadata": {},
   "source": [
    "### 2.2 Floor Flag"
   ]
  },
  {
   "cell_type": "markdown",
   "metadata": {},
   "source": [
    "#### Outline"
   ]
  },
  {
   "cell_type": "markdown",
   "metadata": {},
   "source": [
    "以下に該当する部位を、床と判定する。  \n",
    "　方位が'Bottom'である外皮の部位  \n",
    "　土間床  \n",
    "　床下空間上の床  \n",
    "　室上の床  \n",
    "【要確認】方位が'Bottom'である外皮の部位、土間床の合計面積が、用途別床面積を超過する場合にどうするか"
   ]
  },
  {
   "cell_type": "markdown",
   "metadata": {},
   "source": [
    "#### Function"
   ]
  },
  {
   "cell_type": "code",
   "execution_count": 3,
   "metadata": {
    "collapsed": true
   },
   "outputs": [],
   "source": [
    "def set_floor_flag(d):\n",
    "    \n",
    "    # 方位が'Bottom'である外皮の部位\n",
    "    for x in ['Walls', 'Windows', 'Doors'] :\n",
    "        if (x in d) == True :\n",
    "            for y in d[x] :\n",
    "                y['IsFloor'] = True if y['Direction'] == 'Bottom' else False    \n",
    "    \n",
    "    # 土間床\n",
    "    if ('EarthFloors' in d) == True :\n",
    "        for x in d['EarthFloors'] :\n",
    "            x['IsFloor'] = True    \n",
    "    \n",
    "    # 床下空間上の床、室上の床\n",
    "    if ('InnerWalls' in d) == True :\n",
    "        for x in d['InnerWalls'] :\n",
    "            x['IsFloor'] = True if (x['Type'] == 'GroundFloor' or x['Type'] == 'InnerFloor') else False \n",
    "    \n",
    "    return d"
   ]
  },
  {
   "cell_type": "markdown",
   "metadata": {},
   "source": [
    "#### Example"
   ]
  },
  {
   "cell_type": "code",
   "execution_count": 4,
   "metadata": {},
   "outputs": [
    {
     "data": {
      "text/plain": [
       "{'Common': {'MainOccupantRoomFloorArea': 30.0,\n",
       "  'OtherOccupantRoomFloorArea': 60.0,\n",
       "  'Region': 6,\n",
       "  'TotalFloorArea': 120.0},\n",
       " 'Doors': [{'Area': 0.63,\n",
       "   'Direction': 'NW',\n",
       "   'IsFloor': False,\n",
       "   'Space': 'Main',\n",
       "   'name': 'DoorNW_main'},\n",
       "  {'Area': 1.26,\n",
       "   'Direction': 'NW',\n",
       "   'IsFloor': False,\n",
       "   'Space': 'Other',\n",
       "   'name': 'DoorNW_other'},\n",
       "  {'Area': 0.63,\n",
       "   'Direction': 'NW',\n",
       "   'IsFloor': False,\n",
       "   'Space': 'Nonliving',\n",
       "   'name': 'DoorNW_nonliving'},\n",
       "  {'Area': 0.54,\n",
       "   'Direction': 'NE',\n",
       "   'IsFloor': False,\n",
       "   'Space': 'Main',\n",
       "   'name': 'DoorNE_main'},\n",
       "  {'Area': 1.08,\n",
       "   'Direction': 'NE',\n",
       "   'IsFloor': False,\n",
       "   'Space': 'Other',\n",
       "   'name': 'DoorNE_other'},\n",
       "  {'Area': 0.54,\n",
       "   'Direction': 'NE',\n",
       "   'IsFloor': False,\n",
       "   'Space': 'Nonliving',\n",
       "   'name': 'DoorNE_nonliving'}],\n",
       " 'EarthFloors': [{'Area': 30.0,\n",
       "   'IsFloor': True,\n",
       "   'Name': 'Main',\n",
       "   'Space': 'Main'},\n",
       "  {'Area': 5.0, 'IsFloor': True, 'Name': 'Entrance', 'Space': 'Nonliving'}],\n",
       " 'EarthfloorPerimeters': [{'Direction': 'NW',\n",
       "   'Space': 'Underfloor',\n",
       "   'length': 2.43,\n",
       "   'name': 'other_NW',\n",
       "   'psi': 1.8},\n",
       "  {'Direction': 'NE',\n",
       "   'Space': 'Underfloor',\n",
       "   'length': 2.43,\n",
       "   'name': 'other_NE',\n",
       "   'psi': 1.8}],\n",
       " 'InnerWalls': [{'Area': 0.0,\n",
       "   'Direction': 'Horizontal',\n",
       "   'IsFloor': True,\n",
       "   'Name': 'GroundFloor_Main',\n",
       "   'Spaces': ['Main', 'Underfloor'],\n",
       "   'Type': 'GroundFloor'},\n",
       "  {'Area': 0.0,\n",
       "   'Direction': 'Horizontal',\n",
       "   'IsFloor': True,\n",
       "   'Name': 'GroundFloor_Other',\n",
       "   'Spaces': ['Other', 'Underfloor'],\n",
       "   'Type': 'GroundFloor'},\n",
       "  {'Area': 0.0,\n",
       "   'Direction': 'Horizontal',\n",
       "   'IsFloor': True,\n",
       "   'Name': 'GroundFloor_Nonliving',\n",
       "   'Spaces': ['Nonliving', 'Underfloor'],\n",
       "   'Type': 'GroundFloor'},\n",
       "  {'Area': 0.0,\n",
       "   'Direction': 'Horizontal',\n",
       "   'IsFloor': True,\n",
       "   'Name': 'InnerFloor_Main',\n",
       "   'NextSpace': 'Other',\n",
       "   'Space': 'Main',\n",
       "   'Type': 'InnerFloor'},\n",
       "  {'Area': 0.0,\n",
       "   'Direction': 'Horizontal',\n",
       "   'IsFloor': True,\n",
       "   'Name': 'InnerFloor_Main',\n",
       "   'NextSpace': 'Nonliving',\n",
       "   'Space': 'Main',\n",
       "   'Type': 'InnerFloor'},\n",
       "  {'Area': 30.0,\n",
       "   'Direction': 'Horizontal',\n",
       "   'IsFloor': True,\n",
       "   'Name': 'InnerFloor_Other',\n",
       "   'NextSpace': 'Main',\n",
       "   'Space': 'Other',\n",
       "   'Type': 'InnerFloor'},\n",
       "  {'Area': 30.0,\n",
       "   'Direction': 'Horizontal',\n",
       "   'IsFloor': True,\n",
       "   'Name': 'InnerFloor_Other',\n",
       "   'NextSpace': 'Nonliving',\n",
       "   'Space': 'Other',\n",
       "   'Type': 'InnerFloor'},\n",
       "  {'Area': 8.3,\n",
       "   'Direction': 'Horizontal',\n",
       "   'IsFloor': True,\n",
       "   'Name': 'InnerFloor_Nonliving',\n",
       "   'NextSpace': 'Main',\n",
       "   'Space': 'Nonliving',\n",
       "   'Type': 'InnerFloor'},\n",
       "  {'Area': 16.7,\n",
       "   'Direction': 'Horizontal',\n",
       "   'IsFloor': True,\n",
       "   'Name': 'InnerFloor_Nonliving',\n",
       "   'NextSpace': 'Other',\n",
       "   'Space': 'Nonliving',\n",
       "   'Type': 'InnerFloor'},\n",
       "  {'Area': 21.2,\n",
       "   'Direction': 'Horizontal',\n",
       "   'IsFloor': False,\n",
       "   'Name': 'InnerCeiling_Main',\n",
       "   'NextSpace': 'Other',\n",
       "   'Space': 'Main',\n",
       "   'Type': 'InnerCeiling'},\n",
       "  {'Area': 8.8,\n",
       "   'Direction': 'Horizontal',\n",
       "   'IsFloor': False,\n",
       "   'Name': 'InnerCeiling_Main',\n",
       "   'NextSpace': 'Nonliving',\n",
       "   'Space': 'Main',\n",
       "   'Type': 'InnerCeiling'},\n",
       "  {'Area': 0.0,\n",
       "   'Direction': 'Horizontal',\n",
       "   'IsFloor': False,\n",
       "   'Name': 'InnerCeiling_Other',\n",
       "   'NextSpace': 'Main',\n",
       "   'Space': 'Other',\n",
       "   'Type': 'InnerCeiling'},\n",
       "  {'Area': 60.0,\n",
       "   'Direction': 'Horizontal',\n",
       "   'IsFloor': False,\n",
       "   'Name': 'InnerCeiling_Other',\n",
       "   'NextSpace': 'Nonliving',\n",
       "   'Space': 'Other',\n",
       "   'Type': 'InnerCeiling'},\n",
       "  {'Area': 0.0,\n",
       "   'Direction': 'Horizontal',\n",
       "   'IsFloor': False,\n",
       "   'Name': 'InnerCeiling_Nonliving',\n",
       "   'NextSpace': 'Main',\n",
       "   'Space': 'Nonliving',\n",
       "   'Type': 'InnerCeiling'},\n",
       "  {'Area': 30.0,\n",
       "   'Direction': 'Horizontal',\n",
       "   'IsFloor': False,\n",
       "   'Name': 'InnerCeiling_Nonliving',\n",
       "   'NextSpace': 'Other',\n",
       "   'Space': 'Nonliving',\n",
       "   'Type': 'InnerCeiling'},\n",
       "  {'Area': 18.0,\n",
       "   'Direction': 'Vertical',\n",
       "   'IsFloor': False,\n",
       "   'Name': 'Innerwall_main to other',\n",
       "   'Spaces': ['Main', 'Other'],\n",
       "   'Type': 'InnerWall'},\n",
       "  {'Area': 19.0,\n",
       "   'Direction': 'Vertical',\n",
       "   'IsFloor': False,\n",
       "   'Name': 'Innerwall_main to nonliving',\n",
       "   'Spaces': ['Main', 'Nonliving'],\n",
       "   'Type': 'InnerWall'},\n",
       "  {'Area': 30.2,\n",
       "   'Direction': 'Vertical',\n",
       "   'IsFloor': False,\n",
       "   'Name': 'Innerwall_other to nonliving',\n",
       "   'Spaces': ['Other', 'Nonliving'],\n",
       "   'Type': 'InnerWall'}],\n",
       " 'Walls': [{'Area': 16.95,\n",
       "   'Direction': 'top',\n",
       "   'IsFloor': False,\n",
       "   'Space': 'Main',\n",
       "   'Type': 'Ceiling',\n",
       "   'name': 'Ceiling_main',\n",
       "   'structure': 'wood'},\n",
       "  {'Area': 33.9,\n",
       "   'Direction': 'top',\n",
       "   'IsFloor': False,\n",
       "   'Space': 'Other',\n",
       "   'Type': 'Ceiling',\n",
       "   'name': 'Ceiling_other',\n",
       "   'structure': 'wood'},\n",
       "  {'Area': 16.95,\n",
       "   'Direction': 'top',\n",
       "   'IsFloor': False,\n",
       "   'Space': 'Nonliving',\n",
       "   'Type': 'Ceiling',\n",
       "   'name': 'Ceiling_nonliving',\n",
       "   'structure': 'wood'},\n",
       "  {'Area': 10.1575,\n",
       "   'Direction': 'SW',\n",
       "   'IsFloor': False,\n",
       "   'Space': 'Main',\n",
       "   'Type': 'Wall',\n",
       "   'name': 'Wall_SW_main',\n",
       "   'structure': 'wood'},\n",
       "  {'Area': 20.315,\n",
       "   'Direction': 'SW',\n",
       "   'IsFloor': False,\n",
       "   'Space': 'Other',\n",
       "   'Type': 'Wall',\n",
       "   'name': 'Wall_SW_other',\n",
       "   'structure': 'wood'},\n",
       "  {'Area': 10.1575,\n",
       "   'Direction': 'SW',\n",
       "   'IsFloor': False,\n",
       "   'Space': 'Nonliving',\n",
       "   'Type': 'Wall',\n",
       "   'name': 'Wall_SW_nonliving',\n",
       "   'structure': 'wood'}],\n",
       " 'Windows': [{'Area': 7.5625,\n",
       "   'Direction': 'SW',\n",
       "   'IsFloor': False,\n",
       "   'Space': 'Main',\n",
       "   'name': 'WindowSW_main',\n",
       "   'type': 'single'},\n",
       "  {'Area': 15.125,\n",
       "   'Direction': 'SW',\n",
       "   'IsFloor': False,\n",
       "   'Space': 'Other',\n",
       "   'name': 'WindowSW_other',\n",
       "   'type': 'single'},\n",
       "  {'Area': 7.5625,\n",
       "   'Direction': 'SW',\n",
       "   'IsFloor': False,\n",
       "   'Space': 'Nonliving',\n",
       "   'name': 'WindowSW_nonliving',\n",
       "   'type': 'single'},\n",
       "  {'Area': 0.7925,\n",
       "   'Direction': 'NW',\n",
       "   'IsFloor': False,\n",
       "   'Space': 'Main',\n",
       "   'name': 'WindowNW_main',\n",
       "   'type': 'single'},\n",
       "  {'Area': 1.585,\n",
       "   'Direction': 'NW',\n",
       "   'IsFloor': False,\n",
       "   'Space': 'Other',\n",
       "   'name': 'WindowNW_other',\n",
       "   'type': 'single'},\n",
       "  {'Area': 0.7925,\n",
       "   'Direction': 'NW',\n",
       "   'IsFloor': False,\n",
       "   'Space': 'Nonliving',\n",
       "   'name': 'WindowNW_nonliving',\n",
       "   'type': 'single'}]}"
      ]
     },
     "execution_count": 4,
     "metadata": {},
     "output_type": "execute_result"
    }
   ],
   "source": [
    "d = {\n",
    "    'Common': {'MainOccupantRoomFloorArea': 30.0, 'OtherOccupantRoomFloorArea': 60.0, 'Region': 6, 'TotalFloorArea': 120.0},\n",
    "    'Doors': [\n",
    "        {'Area': 0.63, 'Direction': 'NW', 'name': 'DoorNW_main', 'Space': 'Main'},\n",
    "        {'Area': 1.26, 'Direction': 'NW', 'name': 'DoorNW_other', 'Space': 'Other'},\n",
    "        {'Area': 0.63, 'Direction': 'NW', 'name': 'DoorNW_nonliving', 'Space': 'Nonliving'},\n",
    "        {'Area': 0.54, 'Direction': 'NE', 'name': 'DoorNE_main', 'Space': 'Main'},\n",
    "        {'Area': 1.08, 'Direction': 'NE', 'name': 'DoorNE_other', 'Space': 'Other'},\n",
    "        {'Area': 0.54, 'Direction': 'NE', 'name': 'DoorNE_nonliving', 'Space': 'Nonliving'}\n",
    "     ],\n",
    "    'EarthfloorPerimeters': [\n",
    "        {'Direction': 'NW', 'length': 2.43, 'name': 'other_NW', 'psi': 1.8, 'Space': 'Underfloor'},\n",
    "        {'Direction': 'NE', 'length': 2.43, 'name': 'other_NE', 'psi': 1.8, 'Space': 'Underfloor'}\n",
    "    ],\n",
    "    'EarthFloors': [\n",
    "        {'Area': 30.0, 'Name': 'Main', 'Space': 'Main'},\n",
    "        {'Area': 5.0, 'Name': 'Entrance', 'Space': 'Nonliving'}\n",
    "    ],\n",
    "    'Walls': [\n",
    "        {'Area': 16.95, 'Direction': 'top', 'name': 'Ceiling_main', 'Space': 'Main', 'structure': 'wood', 'Type': 'Ceiling'},\n",
    "        {'Area': 33.9, 'Direction': 'top', 'name': 'Ceiling_other', 'Space': 'Other', 'structure': 'wood', 'Type': 'Ceiling'},\n",
    "        {'Area': 16.95, 'Direction': 'top', 'name': 'Ceiling_nonliving', 'Space': 'Nonliving', 'structure': 'wood', 'Type': 'Ceiling'},\n",
    "        {'Area': 10.1575, 'Direction': 'SW', 'name': 'Wall_SW_main', 'Space': 'Main', 'structure': 'wood', 'Type': 'Wall'},\n",
    "        {'Area': 20.315, 'Direction': 'SW', 'name': 'Wall_SW_other', 'Space': 'Other', 'structure': 'wood', 'Type': 'Wall'},\n",
    "        {'Area': 10.1575, 'Direction': 'SW', 'name': 'Wall_SW_nonliving', 'Space': 'Nonliving', 'structure': 'wood', 'Type': 'Wall'}\n",
    "    ],\n",
    "    'Windows': [\n",
    "        {'Area': 7.5625, 'Direction': 'SW', 'name': 'WindowSW_main', 'Space': 'Main', 'type': 'single'},\n",
    "        {'Area': 15.125, 'Direction': 'SW', 'name': 'WindowSW_other', 'Space': 'Other', 'type': 'single'},\n",
    "        {'Area': 7.5625, 'Direction': 'SW', 'name': 'WindowSW_nonliving',  'Space': 'Nonliving', 'type': 'single'},\n",
    "        {'Area': 0.7925, 'Direction': 'NW', 'name': 'WindowNW_main', 'Space': 'Main', 'type': 'single'},\n",
    "        {'Area': 1.585, 'Direction': 'NW', 'name': 'WindowNW_other', 'Space': 'Other', 'type': 'single'},\n",
    "        {'Area': 0.7925, 'Direction': 'NW', 'name': 'WindowNW_nonliving', 'Space': 'Nonliving', 'type': 'single'}\n",
    "    ],\n",
    "    'InnerWalls': [\n",
    "        {'Area': 0.0, 'Direction': 'Horizontal', 'Name': 'GroundFloor_Main', 'Spaces': ['Main', 'Underfloor'], 'Type': 'GroundFloor'},\n",
    "        {'Area': 0.0, 'Direction': 'Horizontal', 'Name': 'GroundFloor_Other', 'Spaces': ['Other', 'Underfloor'], 'Type': 'GroundFloor'},\n",
    "        {'Area': 0.0, 'Direction': 'Horizontal', 'Name': 'GroundFloor_Nonliving', 'Spaces': ['Nonliving', 'Underfloor'], 'Type': 'GroundFloor'},\n",
    "        {'Area': 0.0, 'Direction': 'Horizontal', 'Name': 'InnerFloor_Main', 'NextSpace': 'Other', 'Space': 'Main', 'Type': 'InnerFloor'},\n",
    "        {'Area': 0.0, 'Direction': 'Horizontal', 'Name': 'InnerFloor_Main',  'NextSpace': 'Nonliving', 'Space': 'Main', 'Type': 'InnerFloor'},\n",
    "        {'Area': 30.0, 'Direction': 'Horizontal', 'Name': 'InnerFloor_Other', 'NextSpace': 'Main',  'Space': 'Other', 'Type': 'InnerFloor'},\n",
    "        {'Area': 30.0, 'Direction': 'Horizontal', 'Name': 'InnerFloor_Other',  'NextSpace': 'Nonliving', 'Space': 'Other', 'Type': 'InnerFloor'},\n",
    "        {'Area': 8.3, 'Direction': 'Horizontal', 'Name': 'InnerFloor_Nonliving', 'NextSpace': 'Main', 'Space': 'Nonliving', 'Type': 'InnerFloor'},\n",
    "        {'Area': 16.7, 'Direction': 'Horizontal', 'Name': 'InnerFloor_Nonliving', 'NextSpace': 'Other', 'Space': 'Nonliving', 'Type': 'InnerFloor'},\n",
    "        {'Area': 21.2, 'Direction': 'Horizontal', 'Name': 'InnerCeiling_Main', 'NextSpace': 'Other', 'Space': 'Main', 'Type': 'InnerCeiling'},\n",
    "        {'Area': 8.8, 'Direction': 'Horizontal', 'Name': 'InnerCeiling_Main', 'NextSpace': 'Nonliving', 'Space': 'Main','Type': 'InnerCeiling'},\n",
    "        {'Area': 0.0, 'Direction': 'Horizontal', 'Name': 'InnerCeiling_Other', 'NextSpace': 'Main', 'Space': 'Other','Type': 'InnerCeiling'},\n",
    "        {'Area': 60.0, 'Direction': 'Horizontal', 'Name': 'InnerCeiling_Other', 'NextSpace': 'Nonliving', 'Space': 'Other', 'Type': 'InnerCeiling'},\n",
    "        {'Area': 0.0, 'Direction': 'Horizontal', 'Name': 'InnerCeiling_Nonliving', 'NextSpace': 'Main', 'Space': 'Nonliving', 'Type': 'InnerCeiling'},\n",
    "        {'Area': 30.0, 'Direction': 'Horizontal', 'Name': 'InnerCeiling_Nonliving', 'NextSpace': 'Other', 'Space': 'Nonliving', 'Type': 'InnerCeiling'},\n",
    "        {'Area': 18.0, 'Direction': 'Vertical', 'Name': 'Innerwall_main to other', 'Spaces': ['Main', 'Other'], 'Type': 'InnerWall'},\n",
    "        {'Area': 19.0, 'Direction': 'Vertical', 'Name': 'Innerwall_main to nonliving', 'Spaces': ['Main', 'Nonliving'], 'Type': 'InnerWall'},\n",
    "        {'Area': 30.2, 'Direction': 'Vertical', 'Name': 'Innerwall_other to nonliving', 'Spaces': ['Other', 'Nonliving'], 'Type': 'InnerWall'}\n",
    "    ]\n",
    "}\n",
    "\n",
    "set_floor_flag(d)"
   ]
  },
  {
   "cell_type": "markdown",
   "metadata": {},
   "source": [
    "### 2.3 Ro, Ri"
   ]
  },
  {
   "cell_type": "markdown",
   "metadata": {},
   "source": [
    "以下に基づき、表面熱伝達抵抗を与える。\n",
    "\n",
    "平成28年省エネルギー基準に準拠したエネルギー消費性能の評価に関する技術情報（住宅）  \n",
    "　２．エネルギー消費性能の算定方法  \n",
    "　　2.2　算定方法  \n",
    "　　　第三章　 暖冷房負荷と外皮性能  \n",
    "　　　　第三節　熱貫流率及び線熱貫流率  \n",
    "　　　　　付録 A 住宅の平均熱貫流率算出に用いる建材等の熱物性値等   \n",
    "　　　　　　表 3.1 表面熱伝達抵抗   \n",
    "　　　　　　表 3.2 表面熱伝達抵抗（界壁・界床の場合） "
   ]
  },
  {
   "cell_type": "markdown",
   "metadata": {},
   "source": [
    "<div style=\"text-align: center;\"> 表3.1 表面熱伝達抵抗 </div>\n",
    "\n",
    "| 部位 | 熱的境界内側（室内側）の<br>表面熱伝達抵抗[㎡K/W] | 熱的境界外側（外気側）の表面熱伝達抵抗[㎡K/W]<br>外気に直接接する場合 | 熱的境界外側（外気側）の表面熱伝達抵抗[㎡K/W]<br>左記以外の場合 |\n",
    "|---|---|---|---|\n",
    "| 屋根 | 0.09 | 0.04 | 0.09（通気層等） |\n",
    "| 天井 | 0.09 | - | 0.09（小屋裏等） |\n",
    "| 外壁 | 0.11 | 0.04 | 0.11（通気層等） |\n",
    "| 床 | 0.15 | 0.04 | 0.15(床裏等) |"
   ]
  },
  {
   "cell_type": "markdown",
   "metadata": {},
   "source": [
    "<div style=\"text-align: center;\"> 表3.2 表面熱伝達抵抗（界壁・界床の場合） </div>\n",
    "\n",
    "| 部位 | 対象住戸の室内側表面熱伝達抵抗[㎡K/W] | 隣接住戸の室内側表面熱伝達抵抗[㎡K/W] |\n",
    "|---|---|---|\n",
    "| 界壁 | 0.11 | 0.11 |\n",
    "| 上階側界床 | 0.09 | 0.09 |\n",
    "| 下階側界床 | 0.15 | 0.15 |"
   ]
  },
  {
   "cell_type": "code",
   "execution_count": 5,
   "metadata": {
    "collapsed": true
   },
   "outputs": [],
   "source": [
    "def get_Ro_Ri(Type, NextSpace):\n",
    "    \n",
    "    if NextSpace == 'OutsideAir' :\n",
    "        Ro = {\n",
    "            'Roof'            : 0.040,\n",
    "            'Wall'            : 0.040,\n",
    "            'Floor'           : 0.040\n",
    "        }[Type]\n",
    "    else :\n",
    "        Ro = {\n",
    "            'Roof'            : 0.090,\n",
    "            'Ceiling'         : 0.090,\n",
    "            'Wall'            : 0.110,\n",
    "            'Floor'           : 0.150,\n",
    "            'BoundaryCeiling' : 0.090,\n",
    "            'BoundaryWall'    : 0.110,\n",
    "            'BoundaryFloor'   : 0.150\n",
    "        }[Type]\n",
    "        \n",
    "    Ri = {\n",
    "        'Roof' : 0.090,\n",
    "        'Ceiling' : 0.090, \n",
    "        'Wall' : 0.110, \n",
    "        'Floor' : 0.150, \n",
    "        'BoundaryCeiling' : 0.090,\n",
    "        'BoundaryWall' : 0.110,\n",
    "        'BoundaryFloor'   : 0.150\n",
    "    }[Type]\n",
    "    \n",
    "    return Ro, Ri"
   ]
  },
  {
   "cell_type": "markdown",
   "metadata": {},
   "source": [
    "### 2.4 Responce Factor"
   ]
  },
  {
   "cell_type": "markdown",
   "metadata": {},
   "source": [
    "#### Outline"
   ]
  },
  {
   "cell_type": "markdown",
   "metadata": {},
   "source": [
    "以下に基づき、一般部位の熱貫流率を算出する。\n",
    "\n",
    "平成28年省エネルギー基準に準拠したエネルギー消費性能の評価に関する技術情報（住宅）  \n",
    "　２．エネルギー消費性能の算定方法  \n",
    "　　2.2　算定方法  \n",
    "　　　第三章　 暖冷房負荷と外皮性能  \n",
    "　　　　第三節　熱貫流率及び線熱貫流率  "
   ]
  },
  {
   "cell_type": "markdown",
   "metadata": {},
   "source": [
    "#### 詳細計算法"
   ]
  },
  {
   "cell_type": "markdown",
   "metadata": {},
   "source": [
    "$$\n",
    "\\displaystyle\n",
    "U_{i}= \\sum_{k}{a_{i,k} \\times U_{i,k}}\n",
    "$$"
   ]
  },
  {
   "cell_type": "markdown",
   "metadata": {},
   "source": [
    "$U_{i}$: 一般部位$i$の熱貫流率, W/(m<sup>2</sup>・K)  \n",
    "$a_{i,k}$: 一般部位$i$の部位$k$の面積比率, -  \n",
    "$U_{i,k}$: 一般部位$i$の部位$k$の熱貫流率, W/(m<sup>2</sup>・K)  "
   ]
  },
  {
   "cell_type": "code",
   "execution_count": 6,
   "metadata": {
    "collapsed": true
   },
   "outputs": [],
   "source": [
    "def calc_UA_from_details(d_wall):\n",
    "    \n",
    "    # 平均熱貫流率の算出\n",
    "    Ro, Ri = get_Ro_Ri(d_wall['Type'], d_wall['NextSpace'])\n",
    "    UA = sum(d_wall['Parts'][x]['AreaRatio']/(Ro + sum(y['Thick']/y['Cond'] for y in d_wall['Parts'][x]['Layers']) + Ri) \\\n",
    "             for x in d_wall['Parts'])\n",
    "    \n",
    "    return UA"
   ]
  },
  {
   "cell_type": "code",
   "execution_count": 7,
   "metadata": {},
   "outputs": [
    {
     "name": "stdout",
     "output_type": "stream",
     "text": [
      "{'Walls': [{'NextSpace': 'ClosedBackFloor', 'Structure': 'Wood', 'Type': 'Floor', 'InputMethodWood': 'InputAllDetails', 'Parts': {'Insulation': {'AreaRatio': 0.8, 'Layers': [{'Cond': 0.16, 'Name': 'PED', 'SpecH': 720.0, 'Thick': 0.012}]}, 'Heatbridge': {'AreaRatio': 0.2, 'Layers': [{'Cond': 0.16, 'Name': 'PED', 'SpecH': 720.0, 'Thick': 0.012}]}}, 'UA': 2.6666666666666665}, {'NextSpace': 'OutsideAir', 'Structure': 'Wood', 'Type': 'Roof', 'InputMethodWood': 'InputAllDetails', 'Parts': {'FrameInsulRafterandadd': {'AreaRatio': 0.75, 'Layers': [{'Cond': 0.16, 'Name': 'PED', 'SpecH': 720.0, 'Thick': 0.012}]}, 'FrameInsulrafterHeatbridgeadd': {'AreaRatio': 0.08, 'Layers': [{'Cond': 0.16, 'Name': 'PED', 'SpecH': 720.0, 'Thick': 0.012}]}, 'FrameInsuladdHeatbridgemember': {'AreaRatio': 0.12, 'Layers': [{'Cond': 0.16, 'Name': 'PED', 'SpecH': 720.0, 'Thick': 0.012}]}, 'FrameHeatbridgeMemberandadd': {'AreaRatio': 0.05, 'Layers': [{'Cond': 0.16, 'Name': 'PED', 'SpecH': 720.0, 'Thick': 0.012}]}}, 'UA': 4.878048780487805}, {'Structure': 'Wood', 'NextSpace': 'OutsideAir', 'Type': 'Wall', 'InputMethodWood': 'InputAllDetails', 'Parts': {'FrameInsulFilledandadd': {'AreaRatio': 0.76, 'Layers': [{'Cond': 0.16, 'Name': 'PED', 'SpecH': 720.0, 'Thick': 0.012}]}, 'FrameInsulfilledHeatbridgeadd': {'AreaRatio': 0.01, 'Layers': [{'Cond': 0.16, 'Name': 'PED', 'SpecH': 720.0, 'Thick': 0.012}]}, 'FrameInsuladdHeatbridgemember': {'AreaRatio': 0.0, 'Layers': [{'Cond': 0.16, 'Name': 'PED', 'SpecH': 720.0, 'Thick': 0.012}]}, 'FrameInsuladdHeatbridgelintel': {'AreaRatio': 0.02, 'Layers': [{'Cond': 0.16, 'Name': 'PED', 'SpecH': 720.0, 'Thick': 0.012}]}, 'FrameHeatbridgeMemberandadd': {'AreaRatio': 0.2, 'Layers': [{'Cond': 0.16, 'Name': 'PED', 'SpecH': 720.0, 'Thick': 0.012}]}, 'FrameHeatbridgeLintelandadd': {'AreaRatio': 0.01, 'Layers': [{'Cond': 0.16, 'Name': 'PED', 'SpecH': 720.0, 'Thick': 0.012}]}}, 'UA': 4.444444444444445}]}\n"
     ]
    }
   ],
   "source": [
    "d = {\n",
    "    'Walls' : [\n",
    "        {\n",
    "            'NextSpace' : 'ClosedBackFloor',\n",
    "            'Structure' : 'Wood', \n",
    "            'Type' : 'Floor',\n",
    "            'InputMethodWood' : 'InputAllDetails',\n",
    "            'Parts' :  {\n",
    "                'Insulation' : {'AreaRatio' : 0.80, 'Layers' : [{'Cond': 0.16, 'Name': 'PED', 'SpecH': 720.0, 'Thick': 0.012}]},\n",
    "                'Heatbridge' : {'AreaRatio' : 0.20, 'Layers' : [{'Cond': 0.16, 'Name': 'PED', 'SpecH': 720.0, 'Thick': 0.012}]} \n",
    "         }\n",
    "        },\n",
    "        {\n",
    "            'NextSpace' : 'OutsideAir',\n",
    "            'Structure' : 'Wood', \n",
    "            'Type' : 'Roof',\n",
    "            'InputMethodWood' : 'InputAllDetails',\n",
    "            'Parts' :  {\n",
    "                'FrameInsulRafterandadd' : {'AreaRatio' : 0.75, 'Layers' : [{'Cond': 0.16, 'Name': 'PED', 'SpecH': 720.0, 'Thick': 0.012}]},\n",
    "                'FrameInsulrafterHeatbridgeadd' : {'AreaRatio' : 0.08, 'Layers' : [{'Cond': 0.16, 'Name': 'PED', 'SpecH': 720.0, 'Thick': 0.012}]},\n",
    "                'FrameInsuladdHeatbridgemember' : {'AreaRatio' : 0.12, 'Layers' : [{'Cond': 0.16, 'Name': 'PED', 'SpecH': 720.0, 'Thick': 0.012}]},\n",
    "                'FrameHeatbridgeMemberandadd' : {'AreaRatio' : 0.05, 'Layers' : [{'Cond': 0.16, 'Name': 'PED', 'SpecH': 720.0, 'Thick': 0.012}]}\n",
    "         }\n",
    "        },\n",
    "        {\n",
    "            'Structure' : 'Wood', \n",
    "            'NextSpace' : 'OutsideAir',\n",
    "            'Type' : 'Wall',\n",
    "            'InputMethodWood' : 'InputAllDetails',\n",
    "             'Parts' :  {\n",
    "                'FrameInsulFilledandadd' : {'AreaRatio' : 0.76, 'Layers' : [{'Cond': 0.16, 'Name': 'PED', 'SpecH': 720.0, 'Thick': 0.012}]},\n",
    "                'FrameInsulfilledHeatbridgeadd' : {'AreaRatio' : 0.01, 'Layers' : [{'Cond': 0.16, 'Name': 'PED', 'SpecH': 720.0, 'Thick': 0.012}]},\n",
    "                'FrameInsuladdHeatbridgemember' : {'AreaRatio' : 0.00, 'Layers' : [{'Cond': 0.16, 'Name': 'PED', 'SpecH': 720.0, 'Thick': 0.012}]},\n",
    "                'FrameInsuladdHeatbridgelintel' : {'AreaRatio' : 0.02, 'Layers' : [{'Cond': 0.16, 'Name': 'PED', 'SpecH': 720.0, 'Thick': 0.012}]},\n",
    "                'FrameHeatbridgeMemberandadd' : {'AreaRatio' : 0.20, 'Layers' : [{'Cond': 0.16, 'Name': 'PED', 'SpecH': 720.0, 'Thick': 0.012}]},\n",
    "                'FrameHeatbridgeLintelandadd' : {'AreaRatio' : 0.01, 'Layers' : [{'Cond': 0.16, 'Name': 'PED', 'SpecH': 720.0, 'Thick': 0.012}]} \n",
    "         }\n",
    "        }\n",
    "    ]\n",
    "}\n",
    "\n",
    "def get_UA_from_details(d):\n",
    "    for x in d['Walls'] :\n",
    "        if x['InputMethodWood'] == 'InputAllDetails' :\n",
    "            x['UA'] = calc_UA_from_details(x)\n",
    "    return d\n",
    "\n",
    "print(get_UA_from_details(d))"
   ]
  },
  {
   "cell_type": "markdown",
   "metadata": {},
   "source": [
    "#### 面積比率法（充填断熱する場合又は充填断熱し付加断熱する場合）（簡略計算方法①） "
   ]
  },
  {
   "cell_type": "markdown",
   "metadata": {},
   "source": [
    "$$\n",
    "\\displaystyle\n",
    "U_{i}= \\sum_{k}{a_{i,k} \\times U_{i,k}}\n",
    "$$"
   ]
  },
  {
   "cell_type": "markdown",
   "metadata": {},
   "source": [
    "$U_{i}$: 一般部位$i$の熱貫流率, W/(m<sup>2</sup>・K)  \n",
    "$a_{i,k}$: 一般部位$i$の部位$k$の面積比率, -  \n",
    "$U_{i,k}$: 一般部位$i$の部位$k$の熱貫流率, W/(m<sup>2</sup>・K)  "
   ]
  },
  {
   "cell_type": "markdown",
   "metadata": {},
   "source": [
    "#### 木造における床の面積比率"
   ]
  },
  {
   "cell_type": "markdown",
   "metadata": {},
   "source": [
    "<div style=\"text-align: center;\"> 表3-1 木造における床の面積比率 </div>\n",
    "\n",
    "| 工法の種類等 | 断熱部分 | 熱橋部分 |\n",
    "|---|---|---|\n",
    "| 軸組構法・床梁工法（根太間に断熱）  | 0.80 | 0.20 |\n",
    "| 軸組構法・束立大引工法（根太間に断熱）  | 0.80 | 0.20 |\n",
    "| 軸組構法・束立大引工法（大引間に断熱）  | 0.85 | 0.15 |\n",
    "| 軸組構法・束立大引工法（根太間及び大引間に断熱）  |  |  |\n",
    "| 軸組構法・剛床工法  | 0.85 | 0.15 |\n",
    "| 軸組構法・床梁土台同面工法（根太間に断熱）  | 0.70 | 0.30 |\n",
    "| 枠組壁工法（根太間に断熱）  | 0.87 | 0.13 |"
   ]
  },
  {
   "cell_type": "markdown",
   "metadata": {},
   "source": [
    "<div style=\"text-align: center;\"> 表3-2 軸組構法の束立大引工法において根太間及び大引間に断熱する場合の床の面積比率 </div>\n",
    "\n",
    "| 工法の種類等 | 断熱部分<br>（根太間断熱材＋大引間断熱材） | 断熱部分＋熱橋部分<br>（根太間断熱材＋大引材等） | 断熱部分＋熱橋部分<br>（根太材＋大引間断熱材） | 熱橋部分<br>（根太材＋大引材等） |\n",
    "|---|---|---|---|---|\n",
    "|  軸組構法の束立大引工法において<br>根太間及び大引間に断熱する場合 | 0.72 | 0.12 | 0.13 | 0.03 |"
   ]
  },
  {
   "cell_type": "code",
   "execution_count": 8,
   "metadata": {
    "collapsed": true
   },
   "outputs": [],
   "source": [
    "def get_area_ratio_wood_floor(FloorConstructionMethod):\n",
    "    # FloorConstructionMethod: 床の工法種類\n",
    "    # 'FrameBeamInsuljoist'（軸組構法・床梁工法（根太間に断熱））/'FrameFootingInsuljoist'（軸組構法・束立大引工法（根太間に断熱））/\n",
    "    # 'FrameFootingInsulsleeper'（軸組構法・束立大引工法（大引間に断熱））/\n",
    "    # 'FrameFootingInsuljoistSleeper'（軸組構法・束立大引工法（根太間及び大引間に断熱））/\n",
    "    # 'FrameRigidfloor'（軸組構法・剛床工法）/'FrameBeambaseInsuljoist'（軸組構法・床梁土台同面工法（根太間に断熱））/\n",
    "    # 'WallInsuljoist'（枠組壁工法（根太間に断熱））\n",
    "    \n",
    "    if FloorConstructionMethod == 'FrameBeamInsuljoist' :\n",
    "        area_ratio_wood_floor = {'Insulation' : 0.80, 'Heatbridge' : 0.20}\n",
    "    elif FloorConstructionMethod == 'FrameFootingInsuljoist' :\n",
    "        area_ratio_wood_floor = {'Insulation' : 0.80, 'Heatbridge' : 0.20}\n",
    "    elif FloorConstructionMethod == 'FrameFootingInsulsleeper' :\n",
    "        area_ratio_wood_floor = {'Insulation' : 0.85, 'Heatbridge' : 0.15}\n",
    "    elif FloorConstructionMethod == 'FrameFootingInsuljoistSleeper' :\n",
    "        area_ratio_wood_floor = {\n",
    "            'InsulJoitandsleeper' : 0.72,\n",
    "            'InsuljoistHeatbridgesleeper' : 0.12,\n",
    "            'InsulsleeperHeatbridgejoist' : 0.13,\n",
    "            'HeatbridgeJoistandsleeper' : 0.03\n",
    "        }\n",
    "    elif FloorConstructionMethod == 'FrameRigidfloor' :\n",
    "        area_ratio_wood_floor = {'Insulation' : 0.85, 'Heatbridge' : 0.15}\n",
    "    elif FloorConstructionMethod == 'FrameBeambaseInsuljoist' :\n",
    "        area_ratio_wood_floor = {'Insulation' : 0.70, 'Heatbridge' : 0.30}\n",
    "    elif FloorConstructionMethod == 'WallInsuljoist' :\n",
    "        area_ratio_wood_floor = {'Insulation' : 0.87, 'Heatbridge' : 0.13}\n",
    "    else :\n",
    "        raise ValueError\n",
    "    \n",
    "    return area_ratio_wood_floor"
   ]
  },
  {
   "cell_type": "markdown",
   "metadata": {},
   "source": [
    "#### 木造における外壁の面積比率"
   ]
  },
  {
   "cell_type": "markdown",
   "metadata": {},
   "source": [
    "<div style=\"text-align: center;\"> 表4-1 木造における外壁（界壁）の面積比率 </div>\n",
    "\n",
    "| 工法の種類等 | 断熱部分 | 熱橋部分 |\n",
    "|---|---|---|\n",
    "| 軸組構法・柱、間柱間に断熱 | 0.83 | 0.17 |\n",
    "| 軸組構法・柱、間柱間に断熱し付加断熱 |  |  |\n",
    "| 枠組壁工法・たて枠間に断熱 | 0.77 | 0.23 |\n",
    "| 枠組壁工法・たて枠間に断熱＋付加断熱 |  |  |"
   ]
  },
  {
   "cell_type": "markdown",
   "metadata": {},
   "source": [
    "<div style=\"text-align: center;\"> 表4-2 軸組構法において柱・間柱間に断熱し付加断熱する場合の外壁の面積比率 </div>\n",
    "\n",
    "| 工法の種類等 | 断熱部分<br>（柱・間柱間断熱材＋付加断熱材） | 断熱部分＋熱橋部分<br>（柱・間柱間断熱材＋付加断熱層内熱橋部分） | 断熱部分＋熱橋部分<br>（構造部材等＋付加断熱材） | 熱橋部分<br>（構造部材等＋付加断熱層内熱橋部分） |\n",
    "|---|---|---|\n",
    "| 付加断熱層内熱橋<br>部分が「横下地」 | 0.75 | 0.08 | 0.12 | 0.05 |\n",
    "| 付加断熱層内熱橋<br>部分が「縦下地」 | 0.79 | 0.04 | 0.04 | 0.13 |"
   ]
  },
  {
   "cell_type": "markdown",
   "metadata": {},
   "source": [
    "<div style=\"text-align: center;\"> 表4-3 枠組壁工法においてたて枠間に断熱し付加断熱する場合の外壁の面積比率 </div>\n",
    "\n",
    "| 工法の種類等 | 断熱部分<br>（充填断熱材＋付加断熱材） | 断熱部分＋熱橋部<br>（充填断熱材＋付加断熱層内熱橋部） | 断熱部分＋熱橋部<br>（構造部材等＋付加断熱材） | 断熱部分＋熱橋部<br>（まぐさ＋付加断熱材） | 熱橋部分<br>（構造部材等＋付加断熱層内熱橋部） | 熱橋部分<br>（まぐさ＋付加断熱層内熱橋部） |\n",
    "|---|---|---|\n",
    "| 付加断熱層内熱橋部分が「横下地」 | 0.69 | 0.08 | 0.14 | 0.02 | 0.06 | 0.01 |\n",
    "| 付加断熱層内熱橋部分が「縦下地」 | 0.76 | 0.01 |  | 0.02 | 0.20 | 0.01 |"
   ]
  },
  {
   "cell_type": "code",
   "execution_count": 9,
   "metadata": {
    "collapsed": true
   },
   "outputs": [],
   "source": [
    "def get_area_ratio_wood_wall(WallConstructionMethod):\n",
    "    # WallConstructionMethod: 床の工法種類\n",
    "    # 'FrameInsulcolumn'（軸組構法・柱、間柱間に断熱）/\n",
    "    # 'FrameInsuladdBackhorizontal'（軸組構法・柱、間柱間に断熱し付加断熱（付加断熱層内熱橋部分が「横下地」））/\n",
    "    # 'FrameInsuladdBackvertical'（軸組構法・柱、間柱間に断熱し付加断熱（付加断熱層内熱橋部分が「縦下地」））/\n",
    "    # 'WallInsuljamb'（枠組壁工法・たて枠間に断熱）/\n",
    "    # 'WallInsuladdBackhorizontal'（枠組壁工法・たて枠間に断熱＋付加断熱（付加断熱層内熱橋部分が「横下地」））/\n",
    "    # 'WallInsuladdBackvertical'（枠組壁工法・たて枠間に断熱＋付加断熱（付加断熱層内熱橋部分が「縦下地」））\n",
    "    \n",
    "    if WallConstructionMethod == 'FrameInsulcolumn' :\n",
    "        area_ratio_wood_wall = {'Insulation' : 0.83, 'Heatbridge' : 0.17}\n",
    "    elif WallConstructionMethod == 'FrameInsuladdBackhorizontal' :\n",
    "        area_ratio_wood_wall = {\n",
    "            'FrameInsulColumnandadd' : 0.75,\n",
    "            'FrameInsulcolumnHeatbridgeadd' : 0.08,\n",
    "            'FrameInsuladdHeatbridgemember' : 0.12,\n",
    "            'FrameHeatbridgeMemberandadd' : 0.05\n",
    "        }\n",
    "    elif WallConstructionMethod == 'FrameInsuladdBackvertical' :\n",
    "        area_ratio_wood_wall = {\n",
    "            'FrameInsulColumnandadd' : 0.79,\n",
    "            'FrameInsulcolumnHeatbridgeadd' : 0.04,\n",
    "            'FrameInsuladdHeatbridgemember' : 0.04,\n",
    "            'FrameHeatbridgeMemberandadd' : 0.13\n",
    "        }\n",
    "    elif WallConstructionMethod == 'WallInsuljamb' :\n",
    "        area_ratio_wood_wall = {'Insulation' : 0.77, 'Heatbridge' : 0.23}\n",
    "    elif WallConstructionMethod == 'WallInsuladdBackhorizontal' :\n",
    "        area_ratio_wood_wall = {\n",
    "            'WallInsulFilledandadd' : 0.69,\n",
    "            'WallInsulfilledHeatbridgeadd' : 0.08,\n",
    "            'WallInsuladdHeatbridgemember' : 0.14,\n",
    "            'WallInsuladdHeatbridgelintel' : 0.02,\n",
    "            'WallHeatbridgeMemberandadd' : 0.06,\n",
    "            'WallHeatbridgeLintelandadd' : 0.01\n",
    "        }\n",
    "    elif WallConstructionMethod == 'WallInsuladdBackvertical' :\n",
    "        area_ratio_wood_wall = {        \n",
    "            'WallInsulFilledandadd' : 0.76,\n",
    "            'WallInsulfilledHeatbridgeadd' : 0.01,\n",
    "            'WallInsuladdHeatbridgemember' : 0.00,\n",
    "            'WallInsuladdHeatbridgelintel' : 0.02,\n",
    "            'WallHeatbridgeMemberandadd' : 0.20,\n",
    "            'WallHeatbridgeLintelandadd' : 0.01\n",
    "        }\n",
    "    else :\n",
    "        raise ValueError\n",
    "    \n",
    "    return area_ratio_wood_wall"
   ]
  },
  {
   "cell_type": "markdown",
   "metadata": {},
   "source": [
    "#### 木造における天井の面積比率"
   ]
  },
  {
   "cell_type": "markdown",
   "metadata": {},
   "source": [
    "<div style=\"text-align: center;\"> 表5 木造における天井の面積比率 </div>\n",
    "\n",
    "| 工法の種類等 | 断熱部分 | 熱橋部分 |\n",
    "|---|---|---|\n",
    "| 桁・梁間に断熱する場合 | 0.87 | 0.13 |"
   ]
  },
  {
   "cell_type": "code",
   "execution_count": 10,
   "metadata": {
    "collapsed": true
   },
   "outputs": [],
   "source": [
    "def get_area_ratio_wood_ceiling(CeilingConstructionMethod):\n",
    "    # CeilingConstructionMethod: 天井の工法種類\n",
    "    # 'Insulbeam'（桁・梁間に断熱）\n",
    "    \n",
    "    if CeilingConstructionMethod == 'Insulbeam' :\n",
    "        area_ratio_wood_wall = {'Insulation' : 0.83, 'Heatbridge' : 0.17}\n",
    "    else :\n",
    "        raise ValueError\n",
    "\n",
    "    return area_ratio_wood_ceiling"
   ]
  },
  {
   "cell_type": "markdown",
   "metadata": {},
   "source": [
    "#### 木造における屋根の面積比率"
   ]
  },
  {
   "cell_type": "markdown",
   "metadata": {},
   "source": [
    "<div style=\"text-align: center;\"> 表6-1 木造における屋根の面積比率 </div>\n",
    "\n",
    "| 工法の種類等 | 断熱部分 | 熱橋部分 |\n",
    "|---|---|---|\n",
    "| たるき間に断熱する場合  | 0.86 | 0.14 |"
   ]
  },
  {
   "cell_type": "markdown",
   "metadata": {},
   "source": [
    "<div style=\"text-align: center;\"> 表6-2 木造においてたるき間に断熱し付加断熱（横下地）する場合の屋根の面積比率  </div>\n",
    "\n",
    "| 工法の種類等 | 断熱部分<br>（たる木間断熱材＋付加断熱材） | 断熱部分＋熱橋部分<br>（たる木間断熱材＋付加断熱層内熱橋部（下地たる木）） | 断熱部分＋熱橋部分<br>（構造部材＋付加断熱材） | 熱橋部分<br>（構造部材＋付加断熱層内熱橋部（下地たる木）） |\n",
    "|---|---|---|---|---|\n",
    "| たるき間に断熱し付加断熱（横下地）する場合  | 0.79 | 0.08 | 0.12 | 0.01 |"
   ]
  },
  {
   "cell_type": "code",
   "execution_count": 11,
   "metadata": {
    "collapsed": true
   },
   "outputs": [],
   "source": [
    "def get_area_ratio_wood_roof(RoofConstructionMethod):\n",
    "    # RoofConstructionMethod : 屋根の工法種類\n",
    "    # 'Insulrafter'（たるき間に断熱）/'InsuladdBackhorizontal'（たるき間に断熱＋付加断熱（横下地）））\n",
    "    \n",
    "    if RoofConstructionMethod == 'Insulrafter' :\n",
    "        area_ratio_wood_roof = {'Insulation' : 0.86, 'Heatbridge' : 0.14}\n",
    "    elif RoofConstructionMethod == 'InsuladdBackhorizontal' :\n",
    "        area_ratio_wood_roof = {\n",
    "            'InsulRafterandadd' : 0.79,\n",
    "            'InsulrafterHeatbridgeadd' : 0.08,\n",
    "            'InsuladdHeatbridgemember' : 0.12,\n",
    "            'HeatbridgeMemberandadd' : 0.01\n",
    "        }\n",
    "    else :\n",
    "        raise ValueError\n",
    "    \n",
    "    return area_ratio_wood_roof"
   ]
  },
  {
   "cell_type": "code",
   "execution_count": 12,
   "metadata": {
    "collapsed": true
   },
   "outputs": [],
   "source": [
    "def get_area_ratio_wood(d_wall):\n",
    "    \n",
    "    if d_wall['Type'] == 'Roof' :\n",
    "        return get_area_ratio_wood_roof(d_wall['RoofConstructionMethod'])\n",
    "    elif d_wall['Type'] == 'Ceiling' or d_wall['Type'] == 'BoundaryCeiling' :\n",
    "        return get_area_ratio_wood_ceiling(d_wall['CeilingConstructionMethod'])        \n",
    "    elif d_wall['Type'] == 'Wall' or d_wall['Type'] == 'BoundaryWall' :\n",
    "        return get_area_ratio_wood_wall(d_wall['WallConstructionMethod'])            \n",
    "    elif d_wall['Type'] == 'Floor' :\n",
    "        return get_area_ratio_wood_floor(d_wall['FloorConstructionMethod'])    \n",
    "    else :\n",
    "        raise ValueError        "
   ]
  },
  {
   "cell_type": "code",
   "execution_count": 13,
   "metadata": {
    "collapsed": true
   },
   "outputs": [],
   "source": [
    "def calc_UA_from_layers(d_wall):\n",
    "    \n",
    "    # 面積比率の取得\n",
    "    area_ratio =  get_area_ratio_wood(d_wall)\n",
    "    for x in d_wall['Parts'].keys() :\n",
    "        d_wall['Parts'][x]['AreaRatio'] = area_ratio[x]\n",
    "\n",
    "    # 平均熱貫流率の算出\n",
    "    Ro, Ri = get_Ro_Ri(d_wall['Type'], d_wall['NextSpace'])\n",
    "    UA = sum(d_wall['Parts'][x]['AreaRatio']/(Ro + sum(y['Thick']/y['Cond'] for y in d_wall['Parts'][x]['Layers']) + Ri) \\\n",
    "             for x in d_wall['Parts'])\n",
    "    \n",
    "    return UA"
   ]
  },
  {
   "cell_type": "markdown",
   "metadata": {},
   "source": [
    "#### Example"
   ]
  },
  {
   "cell_type": "code",
   "execution_count": 14,
   "metadata": {},
   "outputs": [
    {
     "name": "stdout",
     "output_type": "stream",
     "text": [
      "{'Walls': [{'Area': 10, 'Direction': 'Bottom', 'Name': 'Floor', 'Space': 'Main', 'NextSpace': 'ClosedBackFloor', 'Structure': 'Wood', 'Type': 'Floor', 'InputMethodWood': 'InputAllLayers', 'FloorConstructionMethod': 'FrameFootingInsuljoist', 'Parts': {'Insulation': {'Layers': [{'Cond': 0.16, 'Name': 'PED', 'SpecH': 720.0, 'Thick': 0.012}], 'AreaRatio': 0.8}, 'Heatbridge': {'Layers': [{'Cond': 0.16, 'Name': 'PED', 'SpecH': 720.0, 'Thick': 0.012}], 'AreaRatio': 0.2}}, 'UA': 2.6666666666666665}, {'Area': 20, 'Direction': 'Top', 'Name': 'Roof', 'Space': 'Main', 'NextSpace': 'OutsideAir', 'Structure': 'Wood', 'Type': 'Roof', 'InputMethodWood': 'InputAllLayers', 'RoofConstructionMethod': 'InsuladdBackhorizontal', 'Parts': {'InsulRafterandadd': {'Layers': [{'Cond': 0.16, 'Name': 'PED', 'SpecH': 720.0, 'Thick': 0.012}], 'AreaRatio': 0.79}, 'InsulrafterHeatbridgeadd': {'Layers': [{'Cond': 0.16, 'Name': 'PED', 'SpecH': 720.0, 'Thick': 0.012}], 'AreaRatio': 0.08}, 'InsuladdHeatbridgemember': {'Layers': [{'Cond': 0.16, 'Name': 'PED', 'SpecH': 720.0, 'Thick': 0.012}], 'AreaRatio': 0.12}, 'HeatbridgeMemberandadd': {'Layers': [{'Cond': 0.16, 'Name': 'PED', 'SpecH': 720.0, 'Thick': 0.012}], 'AreaRatio': 0.01}}, 'UA': 4.878048780487805}, {'Area': 30, 'Direction': 'North', 'Name': 'Wall', 'Space': 'Main', 'Structure': 'Wood', 'NextSpace': 'OutsideAir', 'Type': 'Wall', 'InputMethodWood': 'InputAllLayers', 'WallConstructionMethod': 'WallInsuladdBackvertical', 'Parts': {'WallInsulFilledandadd': {'Layers': [{'Cond': 0.16, 'Name': 'PED', 'SpecH': 720.0, 'Thick': 0.012}], 'AreaRatio': 0.76}, 'WallInsulfilledHeatbridgeadd': {'Layers': [{'Cond': 0.16, 'Name': 'PED', 'SpecH': 720.0, 'Thick': 0.012}], 'AreaRatio': 0.01}, 'WallInsuladdHeatbridgemember': {'Layers': [{'Cond': 0.16, 'Name': 'PED', 'SpecH': 720.0, 'Thick': 0.012}], 'AreaRatio': 0.0}, 'WallInsuladdHeatbridgelintel': {'Layers': [{'Cond': 0.16, 'Name': 'PED', 'SpecH': 720.0, 'Thick': 0.012}], 'AreaRatio': 0.02}, 'WallHeatbridgeMemberandadd': {'Layers': [{'Cond': 0.16, 'Name': 'PED', 'SpecH': 720.0, 'Thick': 0.012}], 'AreaRatio': 0.2}, 'WallHeatbridgeLintelandadd': {'Layers': [{'Cond': 0.16, 'Name': 'PED', 'SpecH': 720.0, 'Thick': 0.012}], 'AreaRatio': 0.01}}, 'UA': 4.444444444444445}]}\n"
     ]
    }
   ],
   "source": [
    "d = {\n",
    "    'Walls' : [\n",
    "        {\n",
    "            'Area': 10,\n",
    "            'Direction' : 'Bottom',\n",
    "            'Name' : 'Floor',\n",
    "            'Space' : 'Main',\n",
    "            'NextSpace' : 'ClosedBackFloor',\n",
    "            'Structure' : 'Wood', \n",
    "            'Type' : 'Floor',\n",
    "            'InputMethodWood' : 'InputAllLayers',\n",
    "            'FloorConstructionMethod' : 'FrameFootingInsuljoist',\n",
    "            'Parts' :  {\n",
    "                'Insulation' : {'Layers' : [{'Cond': 0.16, 'Name': 'PED', 'SpecH': 720.0, 'Thick': 0.012}]},\n",
    "                'Heatbridge' : {'Layers' : [{'Cond': 0.16, 'Name': 'PED', 'SpecH': 720.0, 'Thick': 0.012}]} \n",
    "         }\n",
    "        },\n",
    "        {\n",
    "            'Area': 20,\n",
    "            'Direction' : 'Top',\n",
    "            'Name' : 'Roof',\n",
    "            'Space' : 'Main',\n",
    "            'NextSpace' : 'OutsideAir',\n",
    "            'Structure' : 'Wood', \n",
    "            'Type' : 'Roof',\n",
    "            'InputMethodWood' : 'InputAllLayers',\n",
    "            'RoofConstructionMethod' : 'InsuladdBackhorizontal',\n",
    "            'Parts' :  {\n",
    "                'InsulRafterandadd' : {'Layers' : [{'Cond': 0.16, 'Name': 'PED', 'SpecH': 720.0, 'Thick': 0.012}]},\n",
    "                'InsulrafterHeatbridgeadd' : {'Layers' : [{'Cond': 0.16, 'Name': 'PED', 'SpecH': 720.0, 'Thick': 0.012}]},\n",
    "                'InsuladdHeatbridgemember' : {'Layers' : [{'Cond': 0.16, 'Name': 'PED', 'SpecH': 720.0, 'Thick': 0.012}]},\n",
    "                'HeatbridgeMemberandadd' : {'Layers' : [{'Cond': 0.16, 'Name': 'PED', 'SpecH': 720.0, 'Thick': 0.012}]}\n",
    "         }\n",
    "        },\n",
    "        {\n",
    "            'Area': 30,\n",
    "            'Direction' : 'North',\n",
    "            'Name' : 'Wall',\n",
    "            'Space' : 'Main',\n",
    "            'Structure' : 'Wood', \n",
    "            'NextSpace' : 'OutsideAir',\n",
    "            'Type' : 'Wall',\n",
    "            'InputMethodWood' : 'InputAllLayers',\n",
    "            'WallConstructionMethod' : 'WallInsuladdBackvertical',\n",
    "            'Parts' :  {\n",
    "                'WallInsulFilledandadd' : {'Layers' : [{'Cond': 0.16, 'Name': 'PED', 'SpecH': 720.0, 'Thick': 0.012}]},\n",
    "                'WallInsulfilledHeatbridgeadd' : {'Layers' : [{'Cond': 0.16, 'Name': 'PED', 'SpecH': 720.0, 'Thick': 0.012}]},\n",
    "                'WallInsuladdHeatbridgemember' : {'Layers' : [{'Cond': 0.16, 'Name': 'PED', 'SpecH': 720.0, 'Thick': 0.012}]},\n",
    "                'WallInsuladdHeatbridgelintel' : {'Layers' : [{'Cond': 0.16, 'Name': 'PED', 'SpecH': 720.0, 'Thick': 0.012}]},\n",
    "                'WallHeatbridgeMemberandadd' : {'Layers' : [{'Cond': 0.16, 'Name': 'PED', 'SpecH': 720.0, 'Thick': 0.012}]},\n",
    "                'WallHeatbridgeLintelandadd' : {'Layers' : [{'Cond': 0.16, 'Name': 'PED', 'SpecH': 720.0, 'Thick': 0.012}]} \n",
    "         }\n",
    "        }\n",
    "    ]\n",
    "}\n",
    "\n",
    "def get_UA_from_layers(d):\n",
    "    for x in d['Walls'] :\n",
    "        if x['InputMethodWood'] == 'InputAllLayers' :\n",
    "            x['UA'] = calc_UA_from_layers(x)\n",
    "    return d\n",
    "\n",
    "print(get_UA_from_layers(d))"
   ]
  },
  {
   "cell_type": "markdown",
   "metadata": {},
   "source": [
    "#### 熱貫流率補正法（簡略計算方法②）"
   ]
  },
  {
   "cell_type": "markdown",
   "metadata": {},
   "source": [
    "<div style=\"text-align: center;\"> 表7 木造における一般部位の断熱工法等に応じた補正熱貫流率 </div>\n",
    "\n",
    "| 部位 | 断熱工法等 | 軸組構法補正熱貫流率 | 枠組壁構法補正熱貫流率 |\n",
    "|---|---|---|---|\n",
    "| 床 |  | 0.13 | 0.08 |\n",
    "| 上階側界床 |  | 0.13 | 0.08 |\n",
    "| 下階側界床 |  | 0.13 | 0.08 |\n",
    "| 外壁・界壁 | 充填断熱（柱・間柱間に断熱）する場合 | 0.09 | 0.13 |\n",
    "| 外壁・界壁 | 充填断熱（柱・間柱間に断熱）し付加断熱する場合 | 0.09 | 0.13 |\n",
    "\n",
    "| 部位 | 断熱工法等 | 補正熱貫流率 |\n",
    "|---|---|---|\n",
    "| 外壁・界壁 | 土壁で外張断熱の場合 | 0.04 |\n",
    "| 外壁・界壁 | 土壁以外で外張断熱の場合 | 0.02 |\n",
    "| 天井 | 桁・梁間に断熱する場合 | 0.05 |\n",
    "| 屋根 | 充填断熱（たるき間に断熱）する場合 | 0.11 |\n",
    "| 屋根 | 充填断熱（たるき間に断熱）し付加断熱する場合 | 0.11 |\n",
    "| 屋根 | 外張断熱工法 | 0.02 |"
   ]
  },
  {
   "cell_type": "code",
   "execution_count": 15,
   "metadata": {
    "collapsed": true
   },
   "outputs": [],
   "source": [
    "def get_Ur_wood(d_wall):\n",
    "    # Type : 部位種別\n",
    "    # ConstructionMethod : 工法種類\n",
    "    # 'FrameInsulcolumn'（軸組構法）/'WallInsul'（枠組壁構法）\n",
    "    \n",
    "    if d_wall['Type'] == 'Floor' or d_wall['Type'] == 'BoundaryCeiling' or d_wall['Type'] == 'BoundaryFloor' :\n",
    "        if d_wall['ConstructionMethod'] == 'FrameInsulcolumn' :\n",
    "            Ur = 0.13\n",
    "        elif d_wall['ConstructionMethod'] == 'WallInsul' :\n",
    "            Ur = 0.08\n",
    "        else :\n",
    "            raise ValueError\n",
    "\n",
    "    # WallInsulationMethod : 壁の断熱種類\n",
    "    # 'InsulColumn'（充填断熱（柱・間柱間に断熱））/'InsulColumnandadd'（充填断熱（柱・間柱間に断熱）+付加断熱）/\n",
    "    # 'OuterInsulMudWall'（土壁で外張断熱）/'OuterInsul'（土壁以外で外張断熱）    \n",
    "    elif d_wall['Type'] == 'Wall' or d_wall['Type'] == 'BoundaryWall' :\n",
    "        if d_wall['WallInsulationMethod'] == 'InsulColumn' or d_wall['RoofInsulationMethod'] == 'InsulColumnandadd' :\n",
    "            if d_wall['ConstructionMethod'] == 'FrameInsulcolumn' :\n",
    "                Ur = 0.09\n",
    "            elif d_wall['ConstructionMethod'] == 'WallInsul' :\n",
    "                Ur = 0.13\n",
    "            else :\n",
    "                raise ValueError\n",
    "        elif d_wall['WallInsulationMethod'] == 'OuterInsulMudWall' :\n",
    "            Ur = 0.04\n",
    "        elif d_wall['WallInsulationMethod'] == 'OuterInsul' :\n",
    "            Ur = 0.02\n",
    "        else :\n",
    "            raise ValueError \n",
    "\n",
    "    elif d_wall['Type'] == 'Ceiling' :\n",
    "        Ur = 0.05\n",
    "\n",
    "    # RoofInsulationMethod : 屋根の断熱種類\n",
    "    # 'InsulRafter'（充填断熱（たるき間に断熱））/'InsulRafterandadd'（充填断熱（たるき間に断熱）+付加断熱）/'OuterInsul'（外張断熱工法）\n",
    "    elif d_wall['Type'] == 'Roof' :\n",
    "        if d_wall['RoofInsulationMethod'] == 'InsulRafter' or d_wall['RoofInsulationMethod'] == 'InsulRafterandadd' :\n",
    "            Ur = 0.11\n",
    "        elif d_wall['RoofInsulationMethod'] == 'OuterInsul' :\n",
    "            Ur = 0.02\n",
    "        else :\n",
    "            raise ValueError \n",
    "\n",
    "    else :\n",
    "        raise ValueError\n",
    "    \n",
    "    return Ur"
   ]
  },
  {
   "cell_type": "markdown",
   "metadata": {},
   "source": [
    "<div style=\"text-align: center;\"> 表8 鉄骨造における一般部位の熱橋部分（柱及び梁以外）の仕様に応じた補正熱貫流率 </div>\n",
    "\n",
    "| 「外装材＋断熱補強材」の熱抵抗(m<sup>2</sup>･K/W) | 補正熱貫流率ܷ |\n",
    "|---|---|\n",
    "| 1.7以上 | 0.00 |\n",
    "| 1.7未満1.5以上 | 0.10 |\n",
    "| 1.5未満1.3以上 | 0.13 |\n",
    "| 1.3未満1.1以上 | 0.14 |\n",
    "| 1.1未満0.9以上 | 0.18 |\n",
    "| 0.9未満0.7以上 | 0.22 |\n",
    "| 0.7未満0.5以上 | 0.40 |\n",
    "| 0.5未満0.3以上 | 0.45 |\n",
    "| 0.3未満0.1以上 | 0.60 |\n",
    "| 0.1未満 | 0.70 |"
   ]
  },
  {
   "cell_type": "code",
   "execution_count": 16,
   "metadata": {
    "collapsed": true
   },
   "outputs": [],
   "source": [
    "def get_Ur_steel(Rc):\n",
    "    # Rer : 「外装材＋断熱補強材」の熱抵抗, m2K/W\n",
    "    \n",
    "    if Rc >= 1.7 :\n",
    "        Ur = 0.00\n",
    "    elif Rc >= 1.5 :\n",
    "        Ur = 0.10\n",
    "    elif Rc >= 1.3 :\n",
    "        Ur = 0.13    \n",
    "    elif Rc >= 1.1 :\n",
    "        Ur = 0.14    \n",
    "    elif Rc >= 0.9 :\n",
    "        Ur = 0.18    \n",
    "    elif Rc >= 0.7 :\n",
    "        Ur = 0.22    \n",
    "    elif Rc >= 0.5 :\n",
    "        Ur = 0.40    \n",
    "    elif Rc >= 0.3 :\n",
    "        Ur = 0.45    \n",
    "    elif Rc >= 0.1 :\n",
    "        Ur = 0.60  \n",
    "    elif Rc < 0.1 :\n",
    "        Ur = 0.70\n",
    "    else :\n",
    "        raise ValueError\n",
    "\n",
    "    return Ur"
   ]
  },
  {
   "cell_type": "markdown",
   "metadata": {},
   "source": [
    "$$\n",
    "\\displaystyle\n",
    "U_{i}= \\frac{1}{R_{g,i}} + U_{r,i}\n",
    "$$"
   ]
  },
  {
   "cell_type": "markdown",
   "metadata": {},
   "source": [
    "$U_{i}$: 一般部位$i$の熱貫流率, W/(m<sup>2</sup>・K)  \n",
    "$R_{g,i}$: 一般部位$i$の断熱部分の熱抵抗, m<sup>2</sup>K/W  \n",
    "$U_{r,i}$: 一般部位$i$の補正熱貫流率, W/(m<sup>2</sup>・K)  "
   ]
  },
  {
   "cell_type": "code",
   "execution_count": 17,
   "metadata": {
    "collapsed": true
   },
   "outputs": [],
   "source": [
    "def calc_UA_from_Ur(d_wall):\n",
    "    \n",
    "    # 断熱部分の熱抵抗, m2K/W\n",
    "    Ro, Ri = get_Ro_Ri(d_wall['Type'], d_wall['NextSpace'])\n",
    "    Rg = Ro + sum(x['Thick']/x['Cond'] for x in d_wall['Parts']['Insulation']['Layers']) + Ri\n",
    "    \n",
    "    # 補正熱貫流率\n",
    "    if d_wall['Structure'] == 'Wood' :\n",
    "        Ur = get_Ur_wood(d_wall)\n",
    "    elif d_wall['Structure'] == 'Steel' :\n",
    "        Ur = get_Ur_steel(d_wall['RCladding'])\n",
    "    else :\n",
    "        raise ValueError\n",
    "    \n",
    "    return 1/Rg + Ur"
   ]
  },
  {
   "cell_type": "markdown",
   "metadata": {},
   "source": [
    "#### Example"
   ]
  },
  {
   "cell_type": "code",
   "execution_count": 18,
   "metadata": {},
   "outputs": [
    {
     "name": "stdout",
     "output_type": "stream",
     "text": [
      "{'Walls': [{'Area': 10, 'Direction': 'Bottom', 'Name': 'Floor', 'Space': 'Main', 'NextSpace': 'OutsideAir', 'Structure': 'Wood', 'Type': 'Floor', 'InputMethodWood': 'InputUR', 'ConstructionMethod': 'WallInsul', 'Parts': {'Insulation': {'Layers': [{'Cond': 0.16, 'Name': 'PED', 'SpecH': 720.0, 'Thick': 0.012}]}}, 'UA': 3.853584905660377}, {'Area': 20, 'Direction': 'Top', 'Name': 'Roof', 'Space': 'Main', 'NextSpace': 'OutsideAir', 'Structure': 'Wood', 'Type': 'Roof', 'InputMethodWood': 'InputUR', 'ConstructionMethod': 'FrameInsulcolumn', 'RoofInsulationMethod': 'InsulRafterandadd', 'Parts': {'Insulation': {'Layers': [{'Cond': 0.16, 'Name': 'PED', 'SpecH': 720.0, 'Thick': 0.012}]}}, 'UA': 4.988048780487805}, {'Area': 30, 'Direction': 'North', 'Name': 'Wall', 'Space': 'Main', 'NextSpace': 'OutsideAir', 'Structure': 'Steel', 'Type': 'Wall', 'InputMethodWood': 'InputUR', 'RCladding': 1.0, 'Parts': {'Insulation': {'Layers': [{'Cond': 0.16, 'Name': 'PED', 'SpecH': 720.0, 'Thick': 0.012}]}}, 'UA': 4.624444444444444}]}\n"
     ]
    }
   ],
   "source": [
    "d = {\n",
    "    'Walls' : [\n",
    "        {\n",
    "            'Area': 10,\n",
    "            'Direction' : 'Bottom',\n",
    "            'Name' : 'Floor',\n",
    "            'Space' : 'Main',\n",
    "            'NextSpace' : 'OutsideAir',\n",
    "            'Structure' : 'Wood', \n",
    "            'Type' : 'Floor',\n",
    "            'InputMethodWood' : 'InputUR',\n",
    "            'ConstructionMethod' : 'WallInsul',\n",
    "            'Parts' :  {'Insulation' : {'Layers' : [{'Cond': 0.16, 'Name': 'PED', 'SpecH': 720.0, 'Thick': 0.012}]}}\n",
    "        },\n",
    "        {\n",
    "            'Area': 20,\n",
    "            'Direction' : 'Top',\n",
    "            'Name' : 'Roof',\n",
    "            'Space' : 'Main',\n",
    "            'NextSpace' : 'OutsideAir',\n",
    "            'Structure' : 'Wood', \n",
    "            'Type' : 'Roof',\n",
    "            'InputMethodWood' : 'InputUR',\n",
    "            'ConstructionMethod' : 'FrameInsulcolumn',\n",
    "            'RoofInsulationMethod' : 'InsulRafterandadd',\n",
    "            'Parts' :  {'Insulation' : {'Layers' : [{'Cond': 0.16, 'Name': 'PED', 'SpecH': 720.0, 'Thick': 0.012}]}}\n",
    "        },\n",
    "        {\n",
    "            'Area': 30,\n",
    "            'Direction' : 'North',\n",
    "            'Name' : 'Wall',\n",
    "            'Space' : 'Main',\n",
    "            'NextSpace' : 'OutsideAir',\n",
    "            'Structure' : 'Steel', \n",
    "            'Type' : 'Wall',\n",
    "            'InputMethodWood' : 'InputUR',\n",
    "            'RCladding' : 1.0,\n",
    "            'Parts' :  {'Insulation' : {'Layers' : [{'Cond': 0.16, 'Name': 'PED', 'SpecH': 720.0, 'Thick': 0.012}]}}\n",
    "        }\n",
    "    ]\n",
    "}\n",
    "\n",
    "def get_UA_from_Ur(d):\n",
    "    for x in d['Walls'] :\n",
    "        if x['InputMethodWood'] == 'InputUR' :\n",
    "            x['UA'] =  calc_UA_from_Ur(x)\n",
    "    return d\n",
    "\n",
    "print(get_UA_from_Ur(d))"
   ]
  },
  {
   "cell_type": "markdown",
   "metadata": {},
   "source": [
    "#### RC造"
   ]
  },
  {
   "cell_type": "markdown",
   "metadata": {},
   "source": [
    "$$\n",
    "\\displaystyle\n",
    "U_{i}= U_{i,k}\n",
    "$$"
   ]
  },
  {
   "cell_type": "markdown",
   "metadata": {},
   "source": [
    "$U_{i}$: 一般部位$i$の熱貫流率, W/(m<sup>2</sup>・K)  \n",
    "$U_{i,k}$: 一般部位$i$の部分$k$の熱貫流率, W/(m<sup>2</sup>・K)  "
   ]
  },
  {
   "cell_type": "code",
   "execution_count": 19,
   "metadata": {
    "collapsed": true
   },
   "outputs": [],
   "source": [
    "def calc_UA_from_layer(d_wall):\n",
    "    \n",
    "    # 断熱部分の熱抵抗, m2K/W\n",
    "    Ro, Ri = get_Ro_Ri(d_wall['Type'], d_wall['NextSpace'])\n",
    "    Rg = Ro + sum(x['Thick']/x['Cond'] for x in d_wall['Parts']['Insulation']['Layers']) + Ri\n",
    "    \n",
    "    return 1/Rg"
   ]
  },
  {
   "cell_type": "markdown",
   "metadata": {},
   "source": [
    "#### 応答係数算出用層構成の作成"
   ]
  },
  {
   "cell_type": "markdown",
   "metadata": {},
   "source": [
    "一般部位の熱貫流率$U_A$に一致するよう、一般部位の部分の層構成を調整する。  \n",
    "－$U_A$に一致するまで、Layersの順番に厚を減らす  \n",
    "－$U_A$に一致するまで、Layersの逆順に厚を減らす  \n",
    "－$U_A$に一致するまで、熱伝導率の小さい層より厚を減らす（同じ熱伝導率の層が複数ある場合にはLayersのリストの順番）  \n",
    "－$U_A$に一致するまで、熱伝導率の小さい層より厚を減らす（同じ熱伝導率の層が複数ある場合にはLayersのリストの逆順）  "
   ]
  },
  {
   "cell_type": "code",
   "execution_count": 20,
   "metadata": {
    "collapsed": true
   },
   "outputs": [],
   "source": [
    "# UAをもとに層構成を調整\n",
    "# Layersの順番に厚を減らす\n",
    "def get_layers_from_UA_acending(layers, UA, Ro, Ri):\n",
    "    \n",
    "    if UA < 1/(Ro + Ri + sum(x['Thick']/x['Cond'] for x in layers)) :\n",
    "        raise ValueError\n",
    "    elif UA > 1/(Ro + Ri) :\n",
    "        raise ValueError\n",
    "    else :\n",
    "        for x in layers :\n",
    "            if UA > 1/(Ro + Ri + sum(y['Thick']/y['Cond'] for y in layers)) :\n",
    "                x['Thick'] = max(0, (1/UA - Ro - Ri - (sum(y['Thick']/y['Cond'] for y in layers)-x['Thick']/x['Cond']))*x['Cond'])\n",
    "    \n",
    "    return layers"
   ]
  },
  {
   "cell_type": "code",
   "execution_count": 21,
   "metadata": {
    "collapsed": true
   },
   "outputs": [],
   "source": [
    "# UAをもとに層構成を調整\n",
    "# Layersの逆順に厚を減らす\n",
    "def get_layers_from_UA_descending(layers, UA, Ro, Ri):\n",
    "    \n",
    "    if UA < 1/(Ro + Ri + sum(x['Thick']/x['Cond'] for x in layers)) :\n",
    "        raise ValueError\n",
    "    elif UA > 1/(Ro + Ri) :\n",
    "        raise ValueError\n",
    "    else :\n",
    "        for x in reversed(layers) :\n",
    "            if UA > 1/(Ro + Ri + sum(y['Thick']/y['Cond'] for y in layers)) :\n",
    "                x['Thick'] = max(0, (1/UA - Ro - Ri - (sum(y['Thick']/y['Cond'] for y in layers)-x['Thick']/x['Cond']))*x['Cond'])\n",
    "    \n",
    "    return layers"
   ]
  },
  {
   "cell_type": "code",
   "execution_count": 22,
   "metadata": {
    "collapsed": true
   },
   "outputs": [],
   "source": [
    "# UAをもとに層構成を調整\n",
    "# 熱伝導率の小さい層より厚を減らす\n",
    "# 同じ熱伝導率の層が複数ある場合にはLayersのリストの順番に処理\n",
    "def get_layers_from_UA_ins_acending(layers, UA, Ro, Ri):\n",
    "    \n",
    "    def get_cond_sort_list(l, c_list):\n",
    "        # l : Layers\n",
    "        l_copy = copy.deepcopy(l)\n",
    "        sort_list = []\n",
    "        for x in range(0,len(l_copy)) :\n",
    "            cond_temp = c_list[x]\n",
    "            for y in range(0,len(l_copy)) :\n",
    "                if cond_temp == l_copy[y]['Cond'] :\n",
    "                    sort_list.append(y)\n",
    "                    l_copy[y]['Cond'] = 0\n",
    "                    cond_temp = -1                   \n",
    "        return sort_list\n",
    "    \n",
    "    # Layers中の熱伝導率を昇順に並べる\n",
    "    cond_list = sorted([x['Cond'] for x in layers])\n",
    "\n",
    "    # Layers中の熱伝導率の昇順の順番を取得する\n",
    "    cond_sort_list = get_cond_sort_list(layers, cond_list)\n",
    "\n",
    "    # 熱伝導率の小さい層より厚を調整\n",
    "    # 同じ熱伝導率の層が複数ある場合にはLayersのリストの順番に処理\n",
    "    if UA < 1/(Ro + Ri + sum(x['Thick']/x['Cond'] for x in layers)) :\n",
    "        raise ValueError\n",
    "    elif UA > 1/(Ro + Ri) :\n",
    "        raise ValueError\n",
    "    else :\n",
    "        for x in cond_sort_list :\n",
    "            if UA > 1/(Ro + Ri + sum(y['Thick']/y['Cond'] for y in layers)) :\n",
    "                R = Ro + Ri + sum(y['Thick']/y['Cond'] for y in layers) - layers[x]['Thick']/layers[x]['Cond']\n",
    "                layers[x]['Thick'] = max(0, (1/UA - R)*layers[x]['Cond'])\n",
    "    \n",
    "    return layers"
   ]
  },
  {
   "cell_type": "code",
   "execution_count": 23,
   "metadata": {
    "collapsed": true
   },
   "outputs": [],
   "source": [
    "# UAをもとに層構成を調整\n",
    "# 熱伝導率の小さい層より厚を減らす\n",
    "# 同じ熱伝導率の層が複数ある場合にはLayersのリストの逆順に処理\n",
    "def get_layers_from_UA_ins_descending(layers, UA, Ro, Ri):\n",
    "    \n",
    "    def get_cond_sort_list(l, c_list):\n",
    "        # l : Layers\n",
    "        l_copy = copy.deepcopy(l)\n",
    "        sort_list = []\n",
    "        for x in range(0,len(l_copy)) :\n",
    "            cond_temp = c_list[x]\n",
    "            for y in range(len(l_copy),0,-1) :\n",
    "                if cond_temp == l_copy[y-1]['Cond'] :\n",
    "                    sort_list.append(y-1)\n",
    "                    l_copy[y-1]['Cond'] = 0\n",
    "                    cond_temp = -1                   \n",
    "        return sort_list\n",
    "    \n",
    "    # Layers中の熱伝導率を昇順に並べる\n",
    "    cond_list = sorted([x['Cond'] for x in layers])\n",
    "\n",
    "    # Layers中の熱伝導率の昇順の順番を取得する\n",
    "    cond_sort_list = get_cond_sort_list(layers, cond_list)\n",
    "\n",
    "    # 熱伝導率の小さい層より厚を調整\n",
    "    # 同じ熱伝導率の層が複数ある場合にはLayersのリストの逆順に処理\n",
    "    if UA < 1/(Ro + Ri + sum(x['Thick']/x['Cond'] for x in layers)) :\n",
    "        raise ValueError\n",
    "    elif UA > 1/(Ro + Ri) :\n",
    "        raise ValueError\n",
    "    else :\n",
    "        for x in cond_sort_list :\n",
    "            if UA > 1/(Ro + Ri + sum(y['Thick']/y['Cond'] for y in layers)) :\n",
    "                R = Ro + Ri + sum(y['Thick']/y['Cond'] for y in layers) - layers[x]['Thick']/layers[x]['Cond']\n",
    "                layers[x]['Thick'] = max(0, (1/UA - R)*layers[x]['Cond'])\n",
    "    \n",
    "    return layers"
   ]
  },
  {
   "cell_type": "markdown",
   "metadata": {},
   "source": [
    "#### 応答係数算出用の層構成の決定"
   ]
  },
  {
   "cell_type": "markdown",
   "metadata": {},
   "source": [
    "応答係数算出用の層構成を決定する。  \n",
    "－簡略計算法①の断熱部分  \n",
    "－面積比率が最大の部分  "
   ]
  },
  {
   "cell_type": "code",
   "execution_count": 24,
   "metadata": {
    "collapsed": true
   },
   "outputs": [],
   "source": [
    "def get_part_gneral_wood_floor(FloorConstructionMethod):\n",
    "    # FloorConstructionMethod: 床の工法種類\n",
    "    # 'FrameBeamInsuljoist'（軸組構法・床梁工法（根太間に断熱））/'FrameFootingInsuljoist'（軸組構法・束立大引工法（根太間に断熱））/\n",
    "    # 'FrameFootingInsulsleeper'（軸組構法・束立大引工法（大引間に断熱））/\n",
    "    # 'FrameFootingInsuljoistSleeper'（軸組構法・束立大引工法（根太間及び大引間に断熱））/\n",
    "    # 'FrameRigidfloor'（軸組構法・剛床工法）/'FrameBeambaseInsuljoist'（軸組構法・床梁土台同面工法（根太間に断熱））/\n",
    "    # 'WallInsuljoist'（枠組壁工法（根太間に断熱））\n",
    "    \n",
    "    if FloorConstructionMethod == 'FrameBeamInsuljoist' :\n",
    "        part_gneral = 'Insulation'\n",
    "    elif FloorConstructionMethod == 'FrameFootingInsuljoist' :\n",
    "        part_gneral = 'Insulation'\n",
    "    elif FloorConstructionMethod == 'FrameFootingInsulsleeper' :\n",
    "        part_gneral = 'Insulation'\n",
    "    elif FloorConstructionMethod == 'FrameFootingInsuljoistSleeper' :\n",
    "        part_gneral = 'InsulJoitandsleeper'\n",
    "    elif FloorConstructionMethod == 'FrameRigidfloor' :\n",
    "        part_gneral = 'Insulation'\n",
    "    elif FloorConstructionMethod == 'FrameBeambaseInsuljoist' :\n",
    "        part_gneral = 'Insulation'\n",
    "    elif FloorConstructionMethod == 'WallInsuljoist' :\n",
    "        part_gneral = 'Insulation'\n",
    "    else :\n",
    "        raise ValueError\n",
    "    \n",
    "    return part_gneral"
   ]
  },
  {
   "cell_type": "code",
   "execution_count": 25,
   "metadata": {
    "collapsed": true
   },
   "outputs": [],
   "source": [
    "def get_part_gneral_wood_wall(WallConstructionMethod):\n",
    "    # WallConstructionMethod: 床の工法種類\n",
    "    # 'FrameInsulcolumn'（軸組構法・柱、間柱間に断熱）/\n",
    "    # 'FrameInsuladdBackhorizontal'（軸組構法・柱、間柱間に断熱し付加断熱（付加断熱層内熱橋部分が「横下地」））/\n",
    "    # 'FrameInsuladdBackvertical'（軸組構法・柱、間柱間に断熱し付加断熱（付加断熱層内熱橋部分が「縦下地」））/\n",
    "    # 'WallInsuljamb'（枠組壁工法・たて枠間に断熱）/\n",
    "    # 'WallInsuladdBackhorizontal'（枠組壁工法・たて枠間に断熱＋付加断熱（付加断熱層内熱橋部分が「横下地」））/\n",
    "    # 'WallInsuladdBackvertical'（枠組壁工法・たて枠間に断熱＋付加断熱（付加断熱層内熱橋部分が「縦下地」））\n",
    "    \n",
    "    if WallConstructionMethod == 'FrameInsulcolumn' :\n",
    "        part_gneral = 'Insulation'\n",
    "    elif WallConstructionMethod == 'FrameInsuladdBackhorizontal' :\n",
    "        part_gneral = 'FrameInsulColumnandadd'\n",
    "    elif WallConstructionMethod == 'FrameInsuladdBackvertical' :\n",
    "        part_gneral = 'FrameInsulColumnandadd'\n",
    "    elif WallConstructionMethod == 'WallInsuljamb' :\n",
    "        part_gneral = 'Insulation'\n",
    "    elif WallConstructionMethod == 'WallInsuladdBackhorizontal' :\n",
    "        part_gneral = 'WallInsulFilledandadd'\n",
    "    elif WallConstructionMethod == 'WallInsuladdBackvertical' :\n",
    "        part_gneral = 'WallInsulFilledandadd'\n",
    "    else :\n",
    "        raise ValueError\n",
    "    \n",
    "    return part_gneral"
   ]
  },
  {
   "cell_type": "code",
   "execution_count": 26,
   "metadata": {
    "collapsed": true
   },
   "outputs": [],
   "source": [
    "def get_part_gneral_wood_ceiling(CeilingConstructionMethod):\n",
    "    # CeilingConstructionMethod: 天井の工法種類\n",
    "    # 'Insulbeam'（桁・梁間に断熱）\n",
    "    \n",
    "    if CeilingConstructionMethod == 'Insulbeam' :\n",
    "        part_gneral = 'Insulation'\n",
    "    else :\n",
    "        raise ValueError\n",
    "\n",
    "    return part_gneral"
   ]
  },
  {
   "cell_type": "code",
   "execution_count": 27,
   "metadata": {
    "collapsed": true
   },
   "outputs": [],
   "source": [
    "def get_part_gneral_wood_roof(RoofConstructionMethod):\n",
    "    # RoofConstructionMethod : 屋根の工法種類\n",
    "    # 'Insulrafter'（たるき間に断熱）/'InsuladdBackhorizontal'（たるき間に断熱＋付加断熱（横下地）））\n",
    "    \n",
    "    if RoofConstructionMethod == 'Insulrafter' :\n",
    "        part_gneral = 'Insulation'\n",
    "    elif RoofConstructionMethod == 'InsuladdBackhorizontal' :\n",
    "        part_gneral = 'InsulRafterandadd'\n",
    "    else :\n",
    "        raise ValueError\n",
    "    \n",
    "    return part_gneral"
   ]
  },
  {
   "cell_type": "markdown",
   "metadata": {},
   "source": [
    "#### 応答係数算出"
   ]
  },
  {
   "cell_type": "markdown",
   "metadata": {},
   "source": [
    "層構成より応答係数を算出する。  "
   ]
  },
  {
   "cell_type": "code",
   "execution_count": 28,
   "metadata": {
    "collapsed": true
   },
   "outputs": [],
   "source": [
    "def get_responsce_factor_from_layers(name, Ro, Ri, Layers) :\n",
    "\n",
    "    import nbimporter\n",
    "    import heatload_calc.Wall as mf\n",
    "    \n",
    "    layers =[mf.Layer( x['Name'], x['Cond'], x['SpecH'], x['Thick'] ) for x in Layers]\n",
    "    layers.append(mf.Layer( 'OutHeatTrans', 1/Ro, 0.0, 0.00 ))\n",
    "\n",
    "    hr = 5.0 \n",
    "    wall = mf.Wall(name, 0.90, 0.80, 1/Ri - hr, hr, layers)\n",
    "\n",
    "    rf =mf.ResponseFactor('wall', 3600, 50, wall)\n",
    "\n",
    "    return {'RFT0' : rf.RFT0(), 'RFT1' : rf.RFT1() ,'RFA0' : rf.RFA0(), 'RFA1' : rf.RFA1()}"
   ]
  },
  {
   "cell_type": "markdown",
   "metadata": {},
   "source": [
    "#### 一般部位構造種別・壁体仕様入力方法(木造)に応じた応答係数の算出"
   ]
  },
  {
   "cell_type": "markdown",
   "metadata": {},
   "source": [
    "一般部位構造種別・壁体仕様入力方法(木造)に応じて、一般部位のU値の算出、応答係数算出用の層構成の決定、応答係数の算出を行う。  "
   ]
  },
  {
   "cell_type": "code",
   "execution_count": 29,
   "metadata": {},
   "outputs": [],
   "source": [
    "def get_responce_factor(d_common, d_wall):  \n",
    "    \n",
    "    d_wall_copy = copy.deepcopy(d_wall)     \n",
    "    \n",
    "    # 表面熱伝達抵抗の取得\n",
    "    Ro, Ri = get_Ro_Ri(d_wall['Type'], d_wall['NextSpace'])\n",
    "    \n",
    "    \n",
    "    # 簡易外皮入力\n",
    "    if d_common['IsSimplifiedInput']== True :\n",
    "\n",
    "         #層構成を取得\n",
    "        import nbimporter\n",
    "        import ConvertUValueToSpec as mf       \n",
    "        layers = mf.convert_u_value_to_spec( d_wall['Structure'], d_wall['Type'], d_wall['UA'] )\n",
    "        d_wall_copy['Parts'] = {'General':\n",
    "                                    {'Area': d_wall['Area'],\n",
    "                                     'Layers' : [ { 'Name' : l.name, 'Cond' : l.cond, 'Thick' : l.thick, 'SpecH' : l.spech } for l in layers ]}\n",
    "                               }\n",
    "        \n",
    "    # 木造 詳細計算法\n",
    "    elif d_wall['Structure'] == 'Wood' and d_wall['InputMethodWood'] == 'InputAllDetails' :\n",
    "        pass\n",
    "\n",
    "    # 木造 簡略計算法①\n",
    "    elif (d_wall['Structure'] == 'Wood' and d_wall['InputMethodWood'] == 'InputAllLayers') :\n",
    "        area_ratio = get_area_ratio_wood(d_wall)\n",
    "        for x in d_wall_copy['Parts'] :\n",
    "            d_wall_copy['Parts'][x]['Area'] = area_ratio[x]*d_wall['Area'] \n",
    "\n",
    "    # 木造 簡略計算法②、鉄骨造\n",
    "    elif (d_wall['Structure'] == 'Wood' and d_wall['InputMethodWood'] == 'InputUA') or d_wall['Structure'] == 'Steel' :\n",
    "        UA = calc_UA_from_Ur(d_wall)\n",
    "        d_wall_copy['Parts']['Insulation']['Layers'] = get_layers_from_UA_ins_descending(d_wall['Parts']['Insulation']['Layers'], UA, Ro, Ri)\n",
    "        d_wall_copy['Parts']['Insulation']['Area'] = d_wall['Area'] \n",
    "    \n",
    "    # RC造\n",
    "    elif d_wall['Structure'] == 'RC' :\n",
    "        UA = calc_UA_from_layer(d_wall)\n",
    "        \n",
    "    # その他\n",
    "    elif d_wall['Structure'] == 'Other' :\n",
    "        raise ValueError\n",
    "        \n",
    "    else :\n",
    "        raise ValueError\n",
    "  \n",
    "\n",
    "    # 応答係数の取得\n",
    "    for x in d_wall_copy['Parts'] :\n",
    "        d_wall_copy['Parts'][x]['ResponceFactor'] = get_responsce_factor_from_layers(d_wall['Name'], Ro, Ri, d_wall_copy['Parts'][x]['Layers'])\n",
    "        \n",
    "    return d_wall_copy"
   ]
  },
  {
   "cell_type": "markdown",
   "metadata": {},
   "source": [
    "#### 応答係数の係数の集約"
   ]
  },
  {
   "cell_type": "markdown",
   "metadata": {},
   "source": [
    "簡易熱負荷計算でひとつの部位とみなされる部位・部分の応答係数を集約する。    \n",
    "どの部位・部分を集約するかは既知であるとする。ここでは、暫定的に、同じ用途、同じ方位の部位を集約するものとする。"
   ]
  },
  {
   "cell_type": "code",
   "execution_count": 30,
   "metadata": {
    "collapsed": true
   },
   "outputs": [],
   "source": [
    "def  integrate_responce_factor(d):\n",
    "    \n",
    "    # 面積加重平均\n",
    "    def get_area_weighted_average(area_old, area_add, value_old, value_add):\n",
    "            return (area_old*value_old + area_add*value_add)/(area_old + area_add)\n",
    "\n",
    "    d_responce_factor = {'Main':{}, 'Other':{}, 'Nonliving':{}}\n",
    "    for x in d :\n",
    "        for y in x['Parts'].keys() :\n",
    "            \n",
    "            if (x['Space'] in d_responce_factor) == True :       \n",
    "                # 他の部位・部分の応答係数に集約       \n",
    "                if (x['Direction'] in d_responce_factor[x['Space']]) == True :              \n",
    "\n",
    "                    area_old = d_responce_factor[x['Space']][x['Direction']]['Area']\n",
    "                    area_add = x['Parts'][y]['Area']\n",
    "\n",
    "                    responce_factor_old = copy.deepcopy(d_responce_factor[x['Space']][x['Direction']]['ResponceFactor'])\n",
    "                    responce_factor_add = x['Parts'][y]['ResponceFactor']\n",
    "\n",
    "                    d_responce_factor[x['Space']][x['Direction']]['Area'] = area_old + area_add\n",
    "\n",
    "                    # 応答係数の面積加重平均値の取得\n",
    "                    for z in ['RFA', 'RFT']:\n",
    "                        d_responce_factor[x['Space']][x['Direction']]['ResponceFactor'][z+'0'] \\\n",
    "                            = get_area_weighted_average(area_old, area_add, \\\n",
    "                                                        responce_factor_old[z+'0'],responce_factor_add[z+'0'])\n",
    "                        for y in range(0,len(responce_factor_old[z+'1'])) :\n",
    "                            d_responce_factor[x['Space']][x['Direction']]['ResponceFactor'][z+'1'][y] \\\n",
    "                                = get_area_weighted_average(area_old, area_add, \\\n",
    "                                                        responce_factor_old[z+'1'][y],responce_factor_add[z+'1'][y])\n",
    "            \n",
    "                # 当該部位の応答係数を使用\n",
    "                else :\n",
    "                    d_responce_factor[x['Space']][x['Direction']] = {'Area':x['Parts'][y]['Area'], \n",
    "                                                                     'ResponceFactor':x['Parts'][y]['ResponceFactor']}            \n",
    "           \n",
    "            # 当該部位の応答係数を使用\n",
    "            else :\n",
    "                d_responce_factor[x['Space']][x['Direction']] = {'Area':x['Parts'][y]['Area'], \n",
    "                                                                 'ResponceFactor':x['Parts'][y]['ResponceFactor']}\n",
    "                \n",
    "    return  d_responce_factor"
   ]
  },
  {
   "cell_type": "markdown",
   "metadata": {},
   "source": [
    "#### Example"
   ]
  },
  {
   "cell_type": "code",
   "execution_count": 31,
   "metadata": {},
   "outputs": [
    {
     "name": "stdout",
     "output_type": "stream",
     "text": [
      "Importing Jupyter notebook from ConvertUValueToSpec.ipynb\n",
      "Importing Jupyter notebook from C:\\Users\\serikawa\\Documents\\e7_inputdataconvert\\heatload_calc\\Wall.ipynb\n",
      "{'Main': {'Bottom': {'Area': 40, 'ResponceFactor': {'RFT0': 0.53268507142005506, 'RFT1': [3.4048665392638229e-05, -0.00059537072387952231, 0.0057474896938861948, -0.041652075233001892, 0.43228112052116369, 0.03422879200329626, -0.012257398728805661, 0.0010447564185243311], 'RFA0': 0.83729902951300184, 'RFA1': [4.9206359654288484e-06, -8.7787933883761574e-05, 0.0008841459137036579, -0.0069901659758621493, 0.086946662035929198, 0.0102863801836922, 0.01816992577373926, 0.0010253752382646376]}}, 'North': {'Area': 30, 'ResponceFactor': {'RFT0': 0.80337149603757385, 'RFT1': [-5.869868434482868e-06, 0.00010113265583475818, -0.00093923403651378467, 0.0059925729600130064, -0.021619673475672476, 0.23605567287610038, -0.025050637433720706, 0.00086734351357672826], 'RFA0': 0.83802665499624696, 'RFA1': [-5.4994019493980017e-06, 9.2559639103783234e-05, -0.00081644822771215425, 0.0046367036451651685, -0.012373044432174065, 0.032468376902567667, 0.019163095214769509, 0.00066607313636655747]}}}, 'Other': {}, 'Nonliving': {}}\n"
     ]
    }
   ],
   "source": [
    "d = {\n",
    "    'Common': {'Region': 6,\n",
    "               'MainOccupantRoomFloorArea': 30.0,\n",
    "               'OtherOccupantRoomFloorArea': 60.0,\n",
    "               'TotalFloorArea': 120.0,\n",
    "               'IsSimplifiedInput': True\n",
    "              },    \n",
    "    'Walls' : [\n",
    "        {\n",
    "            'Area': 20,\n",
    "            'Direction' : 'Bottom',\n",
    "            'Name' : 'Floor',\n",
    "            'Space' : 'Main',\n",
    "            'NextSpace' : 'ClosedBackFloor',\n",
    "            'Structure' : 'Wood', \n",
    "            'Type' : 'Floor',\n",
    "            'UA': 1.0,\n",
    "            'InputMethodWood' : 'InputAllDetails',\n",
    "            'Parts' :  {\n",
    "                'Insulation' : {'Area': 10,\n",
    "                                'Layers' : [{'Cond': 0.16, 'Name': 'PED', 'SpecH': 720.0, 'Thick': 0.024}]},\n",
    "                'Heatbridge' : {'Area': 5,\n",
    "                                'Layers' : [{'Cond': 0.16, 'Name': 'PED', 'SpecH': 720.0, 'Thick': 0.012}]} \n",
    "         }\n",
    "        },\n",
    "        {\n",
    "            'Area': 20,\n",
    "            'Direction' : 'Bottom',\n",
    "            'Name' : 'Floor',\n",
    "            'Space' : 'Main',\n",
    "            'NextSpace' : 'ClosedBackFloor',\n",
    "            'Structure' : 'Wood', \n",
    "            'Type' : 'Floor',\n",
    "            'UA': 1.0,\n",
    "            'InputMethodWood' : 'InputUA',\n",
    "            'ConstructionMethod' : 'FrameInsulcolumn',\n",
    "            'Parts' :  {'Insulation' : {'Layers' : [{'Cond': 0.16, 'Name': 'PED', 'SpecH': 720.0, 'Thick': 0.024}]}\n",
    "         }\n",
    "        },\n",
    "#        {\n",
    "#            'Area': 20,\n",
    "#            'Direction' : 'Top',\n",
    "#            'Name' : 'Roof',\n",
    "#            'Space' : 'Main',\n",
    "#            'NextSpace' : 'OutsideAir',\n",
    "#            'Structure' : 'Wood', \n",
    "#            'Type' : 'Ceiling',\n",
    "#            'UA': 1.0,\n",
    "#            'InputMethodWood' : 'InputAllLayers',\n",
    "#            'RoofConstructionMethod' : 'InsuladdBackhorizontal',\n",
    "#            'Parts' :  {\n",
    "#                'InsulRafterandadd' : {'Layers' : [{'Cond': 0.16, 'Name': 'PED', 'SpecH': 720.0, 'Thick': 0.012}]},\n",
    "#                'InsulrafterHeatbridgeadd' : {'Layers' : [{'Cond': 0.16, 'Name': 'PED', 'SpecH': 720.0, 'Thick': 0.012}]},\n",
    "#                'InsuladdHeatbridgemember' : {'Layers' : [{'Cond': 0.16, 'Name': 'PED', 'SpecH': 720.0, 'Thick': 0.012}]},\n",
    "#                'HeatbridgeMemberandadd' : {'Layers' : [{'Cond': 0.16, 'Name': 'PED', 'SpecH': 720.0, 'Thick': 0.012}]}\n",
    "#         }\n",
    "#        },\n",
    "        {\n",
    "            'Area': 30,\n",
    "            'Direction' : 'North',\n",
    "            'Name' : 'Wall',\n",
    "            'Space' : 'Main',\n",
    "            'Structure' : 'Wood', \n",
    "            'NextSpace' : 'OutsideAir',\n",
    "            'Type' : 'Wall',\n",
    "            'UA': 1.0,\n",
    "            'InputMethodWood' : 'InputAllLayers',\n",
    "            'WallConstructionMethod' : 'WallInsuladdBackvertical',\n",
    "            'Parts' :  {\n",
    "                'WallInsulFilledandadd' : {'Layers' : [{'Cond': 0.16, 'Name': 'PED', 'SpecH': 720.0, 'Thick': 0.012}]},\n",
    "                'WallInsulfilledHeatbridgeadd' : {'Layers' : [{'Cond': 0.16, 'Name': 'PED', 'SpecH': 720.0, 'Thick': 0.012}]},\n",
    "                'WallInsuladdHeatbridgemember' : {'Layers' : [{'Cond': 0.16, 'Name': 'PED', 'SpecH': 720.0, 'Thick': 0.012}]},\n",
    "                'WallInsuladdHeatbridgelintel' : {'Layers' : [{'Cond': 0.16, 'Name': 'PED', 'SpecH': 720.0, 'Thick': 0.012}]},\n",
    "                'WallHeatbridgeMemberandadd' : {'Layers' : [{'Cond': 0.16, 'Name': 'PED', 'SpecH': 720.0, 'Thick': 0.012}]},\n",
    "                'WallHeatbridgeLintelandadd' : {'Layers' : [{'Cond': 0.16, 'Name': 'PED', 'SpecH': 720.0, 'Thick': 0.012}]} \n",
    "         }\n",
    "        }\n",
    "    ]\n",
    "}\n",
    "\n",
    "d_rf = []\n",
    "for x in d['Walls'] :\n",
    "    d_rf.extend([get_responce_factor(d['Common'], x)])\n",
    "    \n",
    "print(integrate_responce_factor(d_rf))"
   ]
  },
  {
   "cell_type": "code",
   "execution_count": null,
   "metadata": {
    "collapsed": true
   },
   "outputs": [],
   "source": []
  }
 ],
 "metadata": {
  "kernelspec": {
   "display_name": "Python 3",
   "language": "python",
   "name": "python3"
  },
  "language_info": {
   "codemirror_mode": {
    "name": "ipython",
    "version": 3
   },
   "file_extension": ".py",
   "mimetype": "text/x-python",
   "name": "python",
   "nbconvert_exporter": "python",
   "pygments_lexer": "ipython3",
   "version": "3.6.3"
  }
 },
 "nbformat": 4,
 "nbformat_minor": 2
}
