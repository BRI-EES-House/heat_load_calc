{
 "cells": [
  {
   "cell_type": "markdown",
   "metadata": {},
   "source": [
    "# 外皮情報LV4からLV5へのコンバート"
   ]
  },
  {
   "cell_type": "markdown",
   "metadata": {},
   "source": [
    "## 入力情報"
   ]
  },
  {
   "cell_type": "markdown",
   "metadata": {},
   "source": [
    "### 共通"
   ]
  },
  {
   "cell_type": "markdown",
   "metadata": {},
   "source": [
    "- 地域の区分 (1~8)\n",
    "- その他の居室の有無 (yes/no)\n",
    "- 非居室の有無 (yes/no)\n",
    "- 床面積の合計 (m<sup>2</sup>)\n",
    "- 主たる居室の床面積 (m<sup>2</sup>)\n",
    "- その他の居室の床面積 (m<sup>2</sup>)"
   ]
  },
  {
   "cell_type": "markdown",
   "metadata": {},
   "source": [
    "### 外皮の部位 (一般部位) (開口部) (複数可)"
   ]
  },
  {
   "cell_type": "markdown",
   "metadata": {},
   "source": [
    "- 名前\n",
    "- 面積 (m<sup>2</sup>)\n",
    "- 日射の有無と方位 (上面/北/北東/東/南東/南/南西/西/北西/下面/日射はあたらない)\n",
    "- 隣接空間の種類 (外気・外気に通じる空間/外気に通じていない空間・外気に通じる床裏/住戸及び住戸と同様の熱的環境の空間・外気に通じていない床裏)\n",
    "- 部位の種類 (一般部位(木造)/一般部位(鉄骨造)/一般部位(鉄筋コンクリート造)/窓等の大部分がガラスで構成されている開口部/ドア等の大部分がガラスで構成されていない開口部)\n",
    "- 部位の位置(屋根/天井/外壁/床/界壁/界床/天井(界床))\n",
    "- (断熱性能を表す指標) (単位面積あたり)\n",
    "- (暖房期の日射熱取得を表す指標) (単位面積あたり)\n",
    "- (冷房期の日射熱取得を表す指標) (単位面積あたり)"
   ]
  },
  {
   "cell_type": "markdown",
   "metadata": {},
   "source": [
    "### 外皮の部位 (熱橋等) (複数可)"
   ]
  },
  {
   "cell_type": "markdown",
   "metadata": {},
   "source": [
    "- 名前\n",
    "- 面積 (m<sup>2</sup>)\n",
    "- 日射の有無と方位1 (上面/北/北東/東/南東/南/南西/西/北西/下面/日射はあたらない)\n",
    "- 日射の有無と方位2 (上面/北/北東/東/南東/南/南西/西/北西/下面/日射はあたらない)\n",
    "- 隣接空間の種類 (外気・外気に通じる空間/外気に通じていない空間・外気に通じる床裏/住戸及び住戸と同様の熱的環境の空間・外気に通じていない床裏)\n",
    "- 部位の種類 (熱橋/土間床等の外周部)\n",
    "- (断熱性能を表す指標) (単位長さあたり)\n",
    "- (暖房期の日射熱取得を表す指標) (単位長さあたり)\n",
    "- (冷房期の日射熱取得を表す指標) (単位長さあたり)"
   ]
  },
  {
   "cell_type": "markdown",
   "metadata": {},
   "source": [
    "### 外皮の部位 (土間床等の中央部) (複数可)"
   ]
  },
  {
   "cell_type": "markdown",
   "metadata": {},
   "source": [
    "- 名前\n",
    "- 面積\n",
    "- (断熱性能を表す指標)"
   ]
  },
  {
   "cell_type": "markdown",
   "metadata": {},
   "source": [
    "## 出力情報"
   ]
  },
  {
   "cell_type": "markdown",
   "metadata": {},
   "source": [
    "### 共通"
   ]
  },
  {
   "cell_type": "markdown",
   "metadata": {},
   "source": [
    "- 地域の区分 (1~8)\n",
    "- その他の居室の有無 (yes/no)\n",
    "- 非居室の有無 (yes/no)\n",
    "- 床面積の合計 (m<sup>2</sup>)\n",
    "- 主たる居室の床面積 (m<sup>2</sup>)\n",
    "- その他の居室の床面積 (m<sup>2</sup>)\n",
    "- <font color=\"red\">天井高面積 (m)</font>\n",
    "- <font color=\"red\">室容積 (m<sup>3</sup>)</font>\n",
    "- <font color=\"red\">換気量 (m<sup>3</sup>/h)</font>"
   ]
  },
  {
   "cell_type": "markdown",
   "metadata": {},
   "source": [
    "### 外皮の部位 (一般部位) (開口部) (複数可)"
   ]
  },
  {
   "cell_type": "markdown",
   "metadata": {},
   "source": [
    "- 名前\n",
    "- 面積 (m<sup>2</sup>)\n",
    "- 室内側の空間の用途\n",
    "- 日射の有無と方位 (上面/北/北東/東/南東/南/南西/西/北西/下面/日射はあたらない)\n",
    "- 隣接空間の種類 (外気・外気に通じる空間/外気に通じていない空間・外気に通じる床裏/住戸及び住戸と同様の熱的環境の空間・外気に通じていない床裏)\n",
    "- 部位の種類 (一般部位(木造)/一般部位(鉄骨造)/一般部位(鉄筋コンクリート造)/窓等の大部分がガラスで構成されている開口部/ドア等の大部分がガラスで構成されていない開口部)\n",
    "- 部位の位置(屋根/天井/外壁/床/界壁/界床/天井(界床))\n",
    "- (断熱性能を表す指標) (単位面積あたり)\n",
    "- (暖房期の日射熱取得を表す指標) (単位面積あたり)\n",
    "- (冷房期の日射熱取得を表す指標) (単位面積あたり)\n",
    "- <font color=\"red\">(暖房期の日射透過得を表す指標) (単位面積あたり)</font>\n",
    "- <font color=\"red\">(冷房期の日射透過得を表す指標) (単位面積あたり)</font>"
   ]
  },
  {
   "cell_type": "markdown",
   "metadata": {},
   "source": [
    "### 外皮の部位 (熱橋等) (複数可)"
   ]
  },
  {
   "cell_type": "markdown",
   "metadata": {},
   "source": [
    "- 名前\n",
    "- 面積 (m<sup>2</sup>)\n",
    "- 室内側の空間の用途\n",
    "- 日射の有無と方位1 (上面/北/北東/東/南東/南/南西/西/北西/下面/日射はあたらない)\n",
    "- 日射の有無と方位2 (上面/北/北東/東/南東/南/南西/西/北西/下面/日射はあたらない)\n",
    "- 隣接空間の種類 (外気・外気に通じる空間/外気に通じていない空間・外気に通じる床裏/住戸及び住戸と同様の熱的環境の空間・外気に通じていない床裏)\n",
    "- 部位の種類 (熱橋/土間床等の外周部)\n",
    "- (断熱性能を表す指標) (単位長さあたり)\n",
    "- (暖房期の日射熱取得を表す指標) (単位長さあたり)\n",
    "- (冷房期の日射熱取得を表す指標) (単位長さあたり)"
   ]
  },
  {
   "cell_type": "markdown",
   "metadata": {},
   "source": [
    "### 外皮の部位 (土間床等の中央部) (複数可)"
   ]
  },
  {
   "cell_type": "markdown",
   "metadata": {},
   "source": [
    "- 名前\n",
    "- 面積\n",
    "- 室内側の空間の用途\n",
    "- (断熱性能を表す指標)"
   ]
  },
  {
   "cell_type": "markdown",
   "metadata": {},
   "source": [
    "## 3. 外皮性能計算プログラム＋外皮用途別情報\n",
    "\n",
    "- 外皮性能計算プログラムに、外皮の用途別情報を追加したものより、内壁等（建物内部の壁、天井、床）の面積の推定および熱貫流率の決定を行う。\n",
    "- 内壁等の面積は、外皮の用途別情報および用途別床面積より、以下のとおり推定する。主たる居室―非居室間、その他居室―非居室間は、それぞれ、各用途の床面積が0㎡より大きい場合は、居室と非居室は幅1m、高さ2m以上の通路等で繋がっていると想定した。\n",
    "- 面積が0㎡より大きい場合は、居室と非居室は幅1m、高さ2m以上の通路等で繋がっていると想定した。\n",
    "- 内壁等の熱貫流率は一般的な仕様を想定して与える（石膏ボード12.5mm－非密閉空気層－石膏ボード12.5mm）。室内戸は考慮しない。その他は4.と同様に求める。\n",
    "\n",
    " \n",
    "$$ \\qquad\n",
    "A_{主,内}=A_{主,内+外}-A_{主,外}=max(0,(2A_主+4ah\\sqrt {A_主})-A_{主,外})\n",
    "\\qquad (9)\n",
    "\\\\\n",
    "$$\n",
    "$$ \\qquad\n",
    "A_{他,内}=A_{他,内+外}-A_{他,外}=max(0,(2A_他+4ah\\sqrt {A_他})-A_{他,外})\n",
    "\\qquad (10)\n",
    "\\\\\n",
    "$$$$ \\qquad\n",
    "A_{非,内}=A_{非,内+外}-A_{非,外}=max(0,(2A_非+4ah\\sqrt {A_非})-A_{他,非})\n",
    "\\qquad (11)\n",
    "\\\\\n",
    "$$\n",
    "\n",
    "$$ \\qquad\n",
    "A_{主,内} =A_{主-他,内}+A_{主-非,内} , \\quad\n",
    "A_{他,内} =A_{主-他,内}+A_{他-非,内}\\quad, \\quad\n",
    "A_{非,内} =A_{主-非,内}+A_{他-非,内}\\quad\n",
    "\\qquad　より\n",
    "\\\\\n",
    "$$\n",
    "\n",
    "$$ \\qquad\n",
    "A_{主-他,内}=max(0,\\frac{A_{主,内}+A_{他,内}-A_{非,内}}{2})\n",
    "\\qquad (12)\n",
    "\\\\\n",
    "$$\n",
    "$$ \\qquad \n",
    "A_{主-非,内}=max(0,\\frac{A_{主,内}-A_{他,内}+A_{非,内}}{2}) \\quad\n",
    "( A_主=0 または A_非=0)\n",
    "\\qquad (13-1)\n",
    "\\\\\n",
    "$$\n",
    "$$ \\qquad \n",
    "A_{主-非,内}=max(2,\\frac{A_{主,内}-A_{他,内}+A_{非,内}}{2}) \\quad\n",
    "( A_主>0 かつ A_非>0)\n",
    "\\qquad (13-2)\n",
    "\\\\\n",
    "$$\n",
    "$$ \\qquad \n",
    "A_{他-非,内}=max(0,\\frac{-A_{主,内}+A_{他,内}+A_{非,内}}{2}) \\quad\n",
    "( A_他=0 または A_非=0)\n",
    "\\qquad (14-1)\n",
    "\\\\\n",
    "$$\n",
    "$$ \\qquad \n",
    "A_{他-非,内}=max(2,\\frac{-A_{主,内}+A_{他,内}+A_{非,内}}{2}) \\quad\n",
    "( A_他>0 かつ A_非>0)\n",
    "\\qquad (14-2)\n",
    "\\\\\n",
    "$$\n",
    "\n",
    "- 入力値：\n",
    "\n",
    "  - 主居室、その他の居室、非居室の床面積$[m ^ 2]$：$A_主$、$A_他$、$A_非$\n",
    "  - 主居室、その他の居室、非居室の外皮の面積の合計$[m ^ 2]$：$A_{主,外}$、$A_{他,外}$、$A_{非,外}$\n",
    "  - 熱橋及び土間床等の外周部jの長さ$[m]$：$L_{i,j}$\n",
    "  - 周長を求める際の係数$[-]$：$a$\n",
    "  - 階高$[m]$：$h$\n",
    "  \n",
    "\n",
    "- 出力値：\n",
    "\n",
    "  - 主居室、その他の居室、非居室の外皮と内壁等の面積の合計$[m ^2]$：$A_{主,外+内}$、$A_{他,外+内}$、$A_{非,外+内}$\n",
    "  - 主居室、その他の居室、非居室の内壁等の面積の合計$[m ^2]$：$A_{主,内}$、$A_{他,内}$、$A_{非,内}$\n",
    "  - 主居室－その他の居室、主居室－非居室間、その他の居室－非居室間の内壁等の面積の合計$[m ^2]$：$A_{主-他,内}$、$A_{主-非,内}$、$A_{他-非,内}$"
   ]
  },
  {
   "cell_type": "code",
   "execution_count": 1,
   "metadata": {},
   "outputs": [
    {
     "name": "stdout",
     "output_type": "stream",
     "text": [
      "Rg5=6\n"
     ]
    }
   ],
   "source": [
    "#地域の区分 (1~8)\n",
    "def Calc_Rg5(Rg4):\n",
    "    Rg5 =  Rg4\n",
    "    return Rg5\n",
    "\n",
    "Rg4=6\n",
    "print (\"Rg5={0}\".format(Calc_Rg5(Rg4)))"
   ]
  },
  {
   "cell_type": "code",
   "execution_count": 2,
   "metadata": {},
   "outputs": [
    {
     "name": "stdout",
     "output_type": "stream",
     "text": [
      "Flag25=1\n",
      "Flag35=1\n"
     ]
    }
   ],
   "source": [
    "#その他の居室の有無 (yes/no)\n",
    "#非居室の有無 (yes/no)\n",
    "def Calc_Flag5(Flag4):\n",
    "    Flag5 =  Flag4\n",
    "    return Flag5\n",
    "\n",
    "Flag24=1\n",
    "print (\"Flag25={0}\".format(Calc_Flag5(Flag24)))\n",
    "\n",
    "Flag34=1\n",
    "print (\"Flag35={0}\".format(Calc_Flag5(Flag34)))"
   ]
  },
  {
   "cell_type": "code",
   "execution_count": 3,
   "metadata": {},
   "outputs": [
    {
     "name": "stdout",
     "output_type": "stream",
     "text": [
      "Aa5=120\n",
      "A15=30\n",
      "A25=50\n"
     ]
    }
   ],
   "source": [
    "#床面積の合計 (m2)\n",
    "#主たる居室の床面積 (m2)\n",
    "#その他の居室の床面積 (m2)\n",
    "def Calc_A5(A4):\n",
    "    A5 =  A4\n",
    "    return A5\n",
    "\n",
    "Aa4=120\n",
    "print (\"Aa5={0}\".format(Calc_A5(Aa4)))\n",
    "\n",
    "A14=30\n",
    "print (\"A15={0}\".format(Calc_A5(A14)))\n",
    "\n",
    "A24=50\n",
    "print (\"A25={0}\".format(Calc_A5(A24)))"
   ]
  },
  {
   "cell_type": "code",
   "execution_count": 4,
   "metadata": {},
   "outputs": [
    {
     "name": "stdout",
     "output_type": "stream",
     "text": [
      "Apu5=1\n"
     ]
    }
   ],
   "source": [
    "\"\"\" 室用途別の面積の算出 \"\"\"\n",
    "def Calc_Apu5(Apu4):\n",
    "    Apu5 =  Apu4\n",
    "    return Apu5\n",
    "\n",
    "Apu4=1\n",
    "print (\"Apu5={0}\".format(Calc_Apu5(Apu4)))"
   ]
  },
  {
   "cell_type": "code",
   "execution_count": 5,
   "metadata": {},
   "outputs": [
    {
     "name": "stdout",
     "output_type": "stream",
     "text": [
      "Lpu5=1\n"
     ]
    }
   ],
   "source": [
    "\"\"\" 室用途別の長さの算出 \"\"\"\n",
    "def Calc_Lpu5(Lpu4):\n",
    "    Lpu5 =  Lpu4\n",
    "    return Lpu5\n",
    "\n",
    "Lpu4=1\n",
    "print (\"Lpu5={0}\".format(Calc_Lpu5(Lpu4)))"
   ]
  },
  {
   "cell_type": "code",
   "execution_count": 6,
   "metadata": {},
   "outputs": [
    {
     "name": "stdout",
     "output_type": "stream",
     "text": [
      "Upu5=1\n"
     ]
    }
   ],
   "source": [
    "\"\"\" 室用途別の熱貫流率の算出 \"\"\"\n",
    "def Calc_Upu5(Upu4):\n",
    "    Upu5 =  Upu4\n",
    "    return Upu5\n",
    "\n",
    "Upu4=1\n",
    "print (\"Upu5={0}\".format(Calc_Upu5(Upu4)))"
   ]
  },
  {
   "cell_type": "code",
   "execution_count": 7,
   "metadata": {},
   "outputs": [
    {
     "name": "stdout",
     "output_type": "stream",
     "text": [
      "Ψpu5=1\n"
     ]
    }
   ],
   "source": [
    "\"\"\" 室用途別の線熱貫流率の算出 \"\"\"\n",
    "def Calc_Ψpu5(Ψpu4):\n",
    "    Ψpu5 =  Ψpu4\n",
    "    return Ψpu5\n",
    "\n",
    "Ψpu4=1\n",
    "print (\"Ψpu5={0}\".format(Calc_Ψpu5(Ψpu4)))"
   ]
  },
  {
   "cell_type": "code",
   "execution_count": 8,
   "metadata": {},
   "outputs": [
    {
     "name": "stdout",
     "output_type": "stream",
     "text": [
      "ηpu5=0.8\n"
     ]
    }
   ],
   "source": [
    "\"\"\" 室用途別の日射熱取得率の算出 \"\"\"\n",
    "def Calc_ηpu5(ηpu4):\n",
    "    ηpu5 =  ηpu4\n",
    "    return ηpu5\n",
    "\n",
    "ηpu4=0.8\n",
    "print (\"ηpu5={0}\".format(Calc_ηpu5(ηpu4)))"
   ]
  },
  {
   "cell_type": "code",
   "execution_count": 12,
   "metadata": {},
   "outputs": [
    {
     "name": "stdout",
     "output_type": "stream",
     "text": [
      "[2, 2, 0]\n",
      "[41.139317422980355, 13.828804264848088, 47.26714329945537]\n"
     ]
    }
   ],
   "source": [
    "\"\"\" 室用途別の内壁面積の算出 \"\"\"\n",
    "h=2.8                  #階高[m]\n",
    "a=[1.2,1.4,1.4]        #周長を求める際の係数[-]\n",
    "Au=[29.8,51.3,38.9]    #主居室、その他の居室、非居室の床面積[㎡]\n",
    "Aou=[78,126.50,114.50] #主居室、その他の居室、非居室の外皮の面積の合計[㎡]\n",
    "Aiuumin=[0,0,0]        #室間の内壁等の面積の合計の最小値[㎡]\n",
    "\n",
    "def Calc_Aiuu(Au,Aou):\n",
    "    for i in range(0,2):\n",
    "        if Au[i]>0 and Au[2]>0:\n",
    "            Aiuumin[i]=2    \n",
    "    print(Aiuumin) \n",
    "    \n",
    "    Aiu =  [max(0,2*Au[i]+4*h*a[i]*Au[i]**0.5-Aou[i]) for i in range(0,3)]\n",
    "    Aiuu =  [max(Aiuumin[i],(Aiu[0]+Aiu[1]+Aiu[2]-2*Aiu[-i-1])/2) for i in range(0,3)]\n",
    "    return Aiuu\n",
    "\n",
    "print(Calc_Aiuu(Au,Aou))"
   ]
  },
  {
   "cell_type": "code",
   "execution_count": 15,
   "metadata": {},
   "outputs": [
    {
     "name": "stdout",
     "output_type": "stream",
     "text": [
      "Uao1j=5.666666666666667\n"
     ]
    }
   ],
   "source": [
    "\"\"\" 外皮の面積・熱貫流率の算出 \"\"\"\n",
    "Ar=[8,8,6,6]           #その他の居室のうち、和室、寝室、子供室1、子供室2の床面積割合[-]\n",
    "Hj=1.0                 #外皮の屋根・天井、外壁、床等の部位（方位j）の温度差係数[-]\n",
    "\n",
    "Ao1ij=[1,2,3,4,5]      #主たる居室の外皮の方位j、部位（一般部位又は開口部）iの面積[m2](要素数は可変)\n",
    "Ao2ij=[1,2,3,4,5,6]    #その他の居室の外皮の方位j、部位（一般部位又は開口部）iの面積[m2](要素数は可変)\n",
    "Ao3ij=[1,2,3,4,5,6]    #非居室の外皮の方位j、部位（一般部位又は開口部）iの面積[m2](要素数は可変)\n",
    "\n",
    "Lo1ij=[1,2,3,4]        #主たる居室の熱橋及び土間床等の方位jの外周部iの長さ[m](要素数は可変)\n",
    "Lo2ij=[1,2,3,4,5,6]    #その他の居室の熱橋及び土間床等の方位jの外周部iの長さ[m](要素数は可変)\n",
    "Lo3ij=[1,2,3,4,5,6]    #非居室の熱橋及び土間床等の方位jの外周部iの長さ[m](要素数は可変)\n",
    "\n",
    "Uo1ij=[1,2,3,4,5]      #主たる居室の外皮の方位j、部位（一般部位又は開口部）iの熱貫流率[W/(m2K)](要素数はAo1ijに一致)\n",
    "Uo2ij=[1,2,3,4,5,6]    #その他の居室の外皮の方位j、部位（一般部位又は開口部）iの熱貫流率[W/(m2K)](要素数はAo2ijに一致)\n",
    "Uo3ij=[1,2,3,4,5,6]    #非居室の外皮の方位j、部位（一般部位又は開口部）iの熱貫流率[W/(m2K)](要素数はAo3ijに一致)\n",
    "\n",
    "Ψo1ij=[1,2,3,4]        #主たる居室の外皮の方位j、部位（一般部位又は開口部）iの熱貫流率[W/(mK)](要素数はLo1ijに一致)\n",
    "Ψo2ij=[1,2,3,4,5,6]    #その他の居室の外皮の方位j、部位（一般部位又は開口部）iの熱貫流率[W/(mK)](要素数はLo2ijに一致)\n",
    "Ψo3ij=[1,2,3,4,5,6]    #非居室の外皮の方位j、部位（一般部位又は開口部）iの熱貫流率[W/(mK)](要素数はLo3ijに一致)\n",
    "\n",
    "def Calc_Uaouj(Aouij,Louij,Uouij,Ψouij):    #主居室、その他の居室、非居室の第j方位における外皮平均熱貫流率[W/(m2K)]\n",
    "    try:\n",
    "        #土間床は床の熱貫流率の低減に置き換える（未反映）\n",
    "        #基礎部の熱橋は床の熱貫流率の低減に置き換える（未反映）\n",
    "        Uaouj = (sum([Aouij[i]*Uouij[i]*Hj for i in range(0,len(Aouij))])+sum([Louij[i]*Ψouij[i]*Hj for i in range(0,len(Louij))])) / sum(Aouij)\n",
    "    except ZeroDivisionError as e:\n",
    "        Uaouj=0\n",
    "    return Uaouj\n",
    "\n",
    "print(\"Uao1j={0}\".format(Calc_Uaouj(Ao1ij,Lo1ij,Uo1ij,Ψo1ij)))"
   ]
  },
  {
   "cell_type": "code",
   "execution_count": 16,
   "metadata": {},
   "outputs": [
    {
     "name": "stdout",
     "output_type": "stream",
     "text": [
      "Lo1ij=[1, 2, 3, 4, 0.5, 1.0, 1.5, 2.0, 0.5, 1.0, 1.5, 2.0, 0.3333333333333333, 0.6666666666666666, 1.0, 1.3333333333333333, 0.5, 1.0, 1.5, 2.0, 0.25, 0.5, 0.75, 1.0, 0.25, 0.5, 0.75, 1.0, 0.16666666666666666, 0.3333333333333333, 0.5, 0.6666666666666666]\n",
      "Ψo1ij=[1, 2, 3, 4, 1, 2, 3, 4, 1, 2, 3, 4, 1, 2, 3, 4, 1, 2, 3, 4, 1, 2, 3, 4, 1, 2, 3, 4, 1, 2, 3, 4]\n"
     ]
    }
   ],
   "source": [
    "\"\"\" 複数の部位や用途に隣接する線熱橋の扱い \"\"\"\n",
    "#平成28年度報告書では線熱貫流率を調整していたが、熱橋部長さを調整するよう変更\n",
    "\n",
    "Lo1ij=[1,2,3,4]        #主たる居室の熱橋及び土間床等の方位jの外周部iの長さ[m](要素数は可変)\n",
    "Lo2ij=[1,2,3,4]        #その他の居室の熱橋及び土間床等の方位jの外周部iの長さ[m](要素数は可変)\n",
    "Lo3ij=[1,2,3,4]        #非居室の熱橋及び土間床等の方位jの外周部iの長さ[m](要素数は可変)\n",
    "\n",
    "Lo12ij=[1,2,3,4]       #主たる居室－その他の居室間の熱橋及び土間床等の方位jの外周部iの長さ[m](要素数は可変)\n",
    "Lo13ij=[1,2,3,4]       #主たる居室－非居室間の熱橋及び土間床等の方位jの外周部iの長さ[m](要素数は可変)\n",
    "Lo23ij=[1,2,3,4]       #その他の居室－非居室間の熱橋及び土間床等の方位jの外周部iの長さ[m](要素数は可変)\n",
    "Lo123ij=[1,2,3,4]      #主たる居室－その他の居室－非居室間の熱橋及び土間床等の方位jの外周部iの長さ[m](要素数は可変)\n",
    "\n",
    "Lo1ijk=[1,2,3,4]       #主たる居室の熱橋及び土間床等の方位jの外周部iの長さ[m](要素数は可変)\n",
    "Lo2ijk=[1,2,3,4]       #その他の居室の熱橋及び土間床等の方位jの外周部iの長さ[m](要素数は可変)\n",
    "Lo3ijk=[1,2,3,4]       #非居室の熱橋及び土間床等の方位jの外周部iの長さ[m](要素数は可変)\n",
    "\n",
    "Lo12ijk=[1,2,3,4]      #主たる居室－その他の居室間の熱橋及び土間床等の方位j－方位k間の外周部iの長さ[m](要素数は可変)\n",
    "Lo13ijk=[1,2,3,4]      #主たる居室－非居室間の熱橋及び土間床等の方位j－方位k間の外周部iの長さ[m](要素数は可変)\n",
    "Lo23ijk=[1,2,3,4]      #その他の居室－非居室間の熱橋及び土間床等の方位j－方位k間の外周部iの長さ[m](要素数は可変)\n",
    "Lo123ijk=[1,2,3,4]     #主たる居室－その他の居室－非居室間の熱橋及び土間床等の方位j－方位k間の外周部iの長さ[m](要素数は可変)\n",
    "\n",
    "Ψo1ij=[1,2,3,4]        #主たる居室の熱橋及び土間床等の方位jの外周部iの熱貫流率[W/(mK)](要素数はLo1ijに一致)\n",
    "Ψo2ij=[1,2,3,4]        #その他の居室の熱橋及び土間床等の方位jの外周部iの熱貫流率[W/(mK)](要素数はLo2ijに一致)\n",
    "Ψo3ij=[1,2,3,4]        #非居室の熱橋及び土間床等の方位jの外周部iの熱貫流率[W/(mK)](要素数はLo3ijに一致)\n",
    "\n",
    "Ψo12ij=[1,2,3,4]       #主たる居室－その他の居室間の熱橋及び土間床等の方位jの外周部iの熱貫流率[W/(mK)](要素数はLo12ijに一致)\n",
    "Ψo13ij=[1,2,3,4]       #主たる居室－非居室間の熱橋及び土間床等の方位jの外周部iの熱貫流率[W/(mK)](要素数はLo13ijに一致)\n",
    "Ψo23ij=[1,2,3,4]       #その他の居室－非居室間の熱橋及び土間床等の方位jの外周部iの熱貫流率[W/(mK)](要素数はLo23ijに一致)\n",
    "Ψo123ij=[1,2,3,4]      #主たる居室－その他の居室－非居室間の熱橋及び土間床等の方位jの外周部iの熱貫流率[W/(mK)](要素数はLo123ijに一致)\n",
    "\n",
    "Ψo1ijk=[1,2,3,4]       #主たる居室の熱橋及び土間床等の方位jの外周部iの熱貫流率[W/(mK)](要素数はLo1ijkに一致)\n",
    "Ψo2ijk=[1,2,3,4]       #その他の居室の熱橋及び土間床等の方位jの外周部iの熱貫流率[W/(mK)](要素数はLo2ijkに一致)\n",
    "Ψo3ijk=[1,2,3,4]       #非居室の熱橋及び土間床等の方位jの外周部iの熱貫流率[W/(mK)](要素数はLo3ijkに一致)\n",
    "\n",
    "Ψo12ijk=[1,2,3,4]      #主たる居室－その他の居室間の熱橋及び土間床等の方位j－方位k間の外周部iの熱貫流率[W/(mK)](要素数はLo12ijkに一致)\n",
    "Ψo13ijk=[1,2,3,4]      #主たる居室－非居室間の熱橋及び土間床等の方位j－方位k間の外周部iの熱貫流率[W/(mK)](要素数はLo13ijkに一致)\n",
    "Ψo23ijk=[1,2,3,4]      #その他の居室－非居室間の熱橋及び土間床等の方位j－方位k間の外周部iの熱貫流率[W/(mK)](要素数はLo23ijkに一致)\n",
    "Ψo123ijk=[1,2,3,4]     #主たる居室－その他の居室－非居室間の熱橋及び土間床等の方位j－方位k間の外周部iの熱貫流率[W/(mK)](要素数はLo123ijkに一致)\n",
    "\n",
    "def Calc_Louij(Louij1,Louij2,n):    #熱橋及び土間床等の方位jの外周部iの長さ[m]\n",
    "    for j in range(0,len(Louij2)):\n",
    "        Louij1.append(Louij2[j]/n)\n",
    "    return Louij1\n",
    "\n",
    "def Calc_Ψouij(Ψouij1,Ψouij2):    #熱橋及び土間床等の方位jの外周部iの熱貫流率[W/(mK)]\n",
    "    for j in range(0,len(Ψouij2)):\n",
    "        Ψouij1.append(Ψouij2[j])\n",
    "    return Ψouij1\n",
    "\n",
    "#熱橋及び土間床等の方位jの外周部iの長さ[m]\n",
    "Lo1ijk=Calc_Louij(Calc_Louij(Calc_Louij(Lo1ijk,Lo12ijk,2),Lo13ijk,2),Lo123ijk,3)\n",
    "Lo1ij=Calc_Louij(Calc_Louij(Calc_Louij(Lo1ij,Lo12ij,2),Lo13ij,2),Lo123ij,3)\n",
    "Lo1ij=Calc_Louij(Lo1ij,Lo1ijk,2)\n",
    "\n",
    "#熱橋及び土間床等の方位jの外周部iの熱貫流率[W/(mK)]\n",
    "Ψo1ijk=Calc_Ψouij(Calc_Ψouij(Calc_Ψouij(Ψo1ijk,Ψo12ijk),Ψo13ijk),Ψo123ijk)\n",
    "Ψo1ij=Calc_Ψouij(Calc_Ψouij(Calc_Ψouij(Ψo1ij,Ψo12ij),Ψo13ij),Ψo123ij)\n",
    "Ψo1ij=Calc_Ψouij(Ψo1ij,Ψo1ijk)\n",
    "\n",
    "print(\"Lo1ij={0}\".format(Lo1ij))\n",
    "print(\"Ψo1ij={0}\".format(Ψo1ij))"
   ]
  },
  {
   "cell_type": "code",
   "execution_count": 17,
   "metadata": {},
   "outputs": [
    {
     "name": "stdout",
     "output_type": "stream",
     "text": [
      "Arij=[0.2857142857142857, 0.2857142857142857, 0.21428571428571427, 0.21428571428571427]\n",
      "Urij=[1, 1, 1, 1]\n",
      "ηrij=[0.88, 0.88, 0.88, 0.88]\n"
     ]
    }
   ],
   "source": [
    "\"\"\" その他の居室の各室の面積・熱貫流率・日射熱取得率の算出 \"\"\"\n",
    "Aij=1    #その他の居室の方位j、部位（一般部位又は開口部）iの面積[m2]\n",
    "Uij=1    #その他の居室の外皮の方位j、部位（一般部位又は開口部）iの熱貫流率[W/(m2K)]\n",
    "ηij=0.88 #その他の居室の第j方位における外皮等の第i部位の日射熱取得率[-]\n",
    "Ar=[8,8,6,6]           #その他の居室のうち、和室、寝室、子供室1、子供室2の床面積割合[-]\n",
    "\n",
    "def Calc_Arij(Aij):\n",
    "    Arij =  [Aij*i/sum(Ar) for i in Ar]\n",
    "    return Arij\n",
    "\n",
    "def Calc_Urij(Uij):\n",
    "    Urij =  [Uij for i in Ar]\n",
    "    return Urij\n",
    "\n",
    "def Calc_ηrij(ηij):\n",
    "    ηrij =  [ηij for i in Ar]\n",
    "    return ηrij\n",
    "\n",
    "print(\"Arij={0}\".format(Calc_Arij(Aij)))    #その他の居室のうち、和室、寝室、子供室1、子供室2の外皮の方位j、部位（一般部位又は開口部）iの面積[m2]\n",
    "print(\"Urij={0}\".format(Calc_Urij(Uij)))    #その他の居室のうち、和室、寝室、子供室1、子供室2の外皮の方位j、部位（一般部位又は開口部）iの熱貫流率[W/(m2K)]\n",
    "print(\"ηrij={0}\".format(Calc_ηrij(ηij)))    #その他の居室のうち、和室、寝室、子供室1、子供室2の外皮の方位j、部位（一般部位又は開口部）iの日射熱取得率[-]"
   ]
  },
  {
   "cell_type": "code",
   "execution_count": 22,
   "metadata": {},
   "outputs": [
    {
     "name": "stdout",
     "output_type": "stream",
     "text": [
      "Ai13=15\n",
      "Ai23=21\n",
      "Air23=[6.0, 6.0, 4.5, 4.5]\n",
      "Uai13=3.6666666666666665\n",
      "Uai23=4.333333333333333\n",
      "Uari23=[4.333333333333333, 4.333333333333333, 4.333333333333333, 4.333333333333333]\n"
     ]
    }
   ],
   "source": [
    "\"\"\" 内壁の面積・熱貫流率の算出 \"\"\"\n",
    "Ai13i=[1,2,3,4,5]      #主たる居室―非居室間の内壁の第i部位の面積[m2](要素数は可変)\n",
    "Ai23i=[1,2,3,4,5,6]    #その他の居室―非居室間の内壁の第i部位の面積[m2](要素数は可変)\n",
    "Ar=[8,8,6,6]           #その他の居室のうち、和室、寝室、子供室1、子供室2の床面積割合[-]\n",
    "Ui13i=[1,2,3,4,5]      #主たる居室―非居室間の内壁の第i部位の熱貫流率[W/(m2K)](要素数はAi13iに一致)\n",
    "Ui23i=[1,2,3,4,5,6]    #その他の居室―非居室間の内壁の第i部位の熱貫流率[W/(m2K)](要素数はAi23iに一致)\n",
    "\n",
    "def Calc_Aiuu(Aiuui):    #主たる居室―非居室間、その他の居室―非居室間の内壁面積の合計[m2]\n",
    "    Aiuu =  sum(Aiuui)\n",
    "    return Aiuu\n",
    "\n",
    "def Calc_Uaiuu(Aiuui,Uiuui):    #主たる居室―非居室間、その他の居室―非居室間の内壁平均熱貫流率[W/(m2K)]\n",
    "    try:\n",
    "        Uaiuu = sum([Aiuui[i]*Uiuui[i] for i in range(0,len(Aiuui))]) / sum(Aiuui)\n",
    "    except ZeroDivisionError as e:\n",
    "        Uaiuu=0\n",
    "    return Uaiuu\n",
    "\n",
    "def Calc_Air23(Ai23):    #和室―非居室間、寝室―非居室間、子供室1―非居室間、子供室2―非居室間の内壁面積の合計[m2]\n",
    "    Air23 =  [Ai23*i/sum(Ar) for i in Ar]\n",
    "    return Air23\n",
    "\n",
    "def Calc_Uari23(Uai23):    #和室―非居室間、寝室―非居室間、子供室1―非居室間、子供室2―非居室間の内壁平均熱貫流率[W/(m2K)]\n",
    "    Uari23 = [Uai23 for i in Ar]\n",
    "    return Uari23\n",
    "\n",
    "print(\"Ai13={0}\".format(Calc_Aiuu(Ai13i)))\n",
    "print(\"Ai23={0}\".format(Calc_Aiuu(Ai23i)))\n",
    "print(\"Air23={0}\".format(Calc_Air23(Calc_Aiuu(Ai23i))))\n",
    "print(\"Uai13={0}\".format(Calc_Uaiuu(Ai13i,Ui13i)))\n",
    "print(\"Uai23={0}\".format(Calc_Uaiuu(Ai23i,Ui23i)))\n",
    "print(\"Uari23={0}\".format(Calc_Uari23(Calc_Uaiuu(Ai23i,Ui23i))))"
   ]
  },
  {
   "cell_type": "code",
   "execution_count": 19,
   "metadata": {},
   "outputs": [
    {
     "name": "stdout",
     "output_type": "stream",
     "text": [
      "τ=[0.88, 0.88, 0.88]\n"
     ]
    }
   ],
   "source": [
    "\"\"\" 室用途別の日射透過率の算出 \"\"\"\n",
    "ηuj=[0.88,0.88,0.88]    #主たる居室、その他の居室、非居室のj方位における外皮等平均日射熱取得率[−]\n",
    "\n",
    "def Calc_τuj(ηuj):\n",
    "    τuj =  ηuj\n",
    "    return τuj\n",
    "\n",
    "print(\"τ={0}\".format(Calc_τuj(ηuj)))    #主たる居室、その他の居室、非居室のj方位における外皮等平均日射熱透過率[−]"
   ]
  },
  {
   "cell_type": "code",
   "execution_count": 20,
   "metadata": {},
   "outputs": [
    {
     "name": "stdout",
     "output_type": "stream",
     "text": [
      "Q=144.0\n",
      "Q1=52.91245376078915\n",
      "Q2=[26.025013211203103, 26.025013211203103, 19.518759908402327, 19.518759908402327]\n",
      "Q3=144.0\n"
     ]
    }
   ],
   "source": [
    "\"\"\" 換気量・漏気量の算出のテスト \"\"\"\n",
    "h=2.4                  #天井高[m]\n",
    "n=0.5                  #換気回数[回/h]\n",
    "Au=[29.8,51.3,38.9]    #主たる居室、その他の居室、非居室の床面積[㎡]\n",
    "Ar=[8,8,6,6]           #その他の居室のうち、和室、寝室、子供室1、子供室2の床面積割合[-]\n",
    "\n",
    "Au2=[Au[1]*i/sum(Ar) for i in Ar]  #その他の居室のうち、和室、寝室、子供室1、子供室2の床面積[㎡]\n",
    "\n",
    "Q=sum(Au)*h*n                                   #住戸全体の換気風量[m3/h]\n",
    "Q1=Q*Au[0]/(Au[0]+Au[1])                        #主たる居室の換気風量[m3/h]\n",
    "Q2= [Q*Au2[i]/(Au[0]+Au[1]) for i in [0,1,2,3]] #その他の居室の換気風量[m3/h]\n",
    "Q3=Q1+sum(Q2)                                   #非居室の換気風量[m3/h]\n",
    "\n",
    "print (\"Q={0}\".format(Q))\n",
    "print (\"Q1={0}\".format(Q1))\n",
    "print (\"Q2={0}\".format(Q2))\n",
    "print (\"Q3={0}\".format(Q3))"
   ]
  },
  {
   "cell_type": "code",
   "execution_count": null,
   "metadata": {
    "collapsed": true
   },
   "outputs": [],
   "source": []
  }
 ],
 "metadata": {
  "kernelspec": {
   "display_name": "Python 3",
   "language": "python",
   "name": "python3"
  },
  "language_info": {
   "codemirror_mode": {
    "name": "ipython",
    "version": 3
   },
   "file_extension": ".py",
   "mimetype": "text/x-python",
   "name": "python",
   "nbconvert_exporter": "python",
   "pygments_lexer": "ipython3",
   "version": "3.6.3"
  }
 },
 "nbformat": 4,
 "nbformat_minor": 2
}
