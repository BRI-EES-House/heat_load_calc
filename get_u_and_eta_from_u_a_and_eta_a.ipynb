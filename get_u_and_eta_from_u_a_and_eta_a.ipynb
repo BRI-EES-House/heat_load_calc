{
 "cells": [
  {
   "cell_type": "code",
   "execution_count": 3,
   "metadata": {},
   "outputs": [
    {
     "name": "stdout",
     "output_type": "stream",
     "text": [
      "Importing Jupyter notebook from nu.ipynb\n",
      "Importing Jupyter notebook from f.ipynb\n",
      "Importing Jupyter notebook from H.ipynb\n"
     ]
    }
   ],
   "source": [
    "import copy\n",
    "import math\n",
    "\n",
    "import nbimporter\n",
    "import numpy\n",
    "\n",
    "import nu # 方位係数\n",
    "import f  # 日射取得率補正係数\n",
    "import H  # 温度差係数"
   ]
  },
  {
   "cell_type": "markdown",
   "metadata": {},
   "source": [
    "# UA値・ηA値より部位のU値・η値を決定する"
   ]
  },
  {
   "cell_type": "markdown",
   "metadata": {},
   "source": [
    "## 1. 概要"
   ]
  },
  {
   "cell_type": "markdown",
   "metadata": {},
   "source": [
    "UA値・ηA値より部位のU値・η値を決定する方法の主な考え方は、以下のとおり。  \n",
    "\n",
    "・外皮について、極力、与えられたUA値、ηA値を満たすように、基準値計算用の住宅のU値（仕様規定の部位別U値に比例）と窓のη値を決定する。    \n",
    "・非現実的な設定は許容しない（例：窓の日射熱取得率が0未満）。"
   ]
  },
  {
   "cell_type": "markdown",
   "metadata": {},
   "source": [
    "## 2. 部位の性能の設定"
   ]
  },
  {
   "cell_type": "code",
   "execution_count": 7,
   "metadata": {},
   "outputs": [],
   "source": [
    "class Parts:\n",
    "    \n",
    "    def __init__(self, area, ptype, nextspace, direction):\n",
    "        self.__area = area\n",
    "        self.__ptype = ptype\n",
    "        self.__nextspace = nextspace\n",
    "        self.__direction = direction\n",
    "    \n",
    "    @property\n",
    "    def area(self):\n",
    "        return self.__area\n",
    "\n",
    "    @property\n",
    "    def ptype(self):\n",
    "        return self.__ptype\n",
    "     \n",
    "    @property\n",
    "    def nextspace(self):\n",
    "        return self.__nextspace  \n",
    "    \n",
    "    @property\n",
    "    def direction(self):\n",
    "        return self.__direction"
   ]
  },
  {
   "cell_type": "markdown",
   "metadata": {},
   "source": [
    "### 2.1 各種設定値の取得"
   ]
  },
  {
   "cell_type": "markdown",
   "metadata": {},
   "source": [
    "#### 1) 総外皮面積の算出"
   ]
  },
  {
   "cell_type": "markdown",
   "metadata": {},
   "source": [
    "$$\n",
    "\\displaystyle\n",
    "A_{total}=  \\sum_{i}{A_i}\n",
    "$$"
   ]
  },
  {
   "cell_type": "markdown",
   "metadata": {},
   "source": [
    "$A_i$: 第$i$番目の外皮の部位の面積, m<sup>2</sup>  \n",
    "$A_{total}$: 総外皮面積, m<sup>2</sup>  "
   ]
  },
  {
   "cell_type": "markdown",
   "metadata": {},
   "source": [
    "#### Function"
   ]
  },
  {
   "cell_type": "code",
   "execution_count": 8,
   "metadata": {},
   "outputs": [],
   "source": [
    "def get_total_area( d ):\n",
    "    \n",
    "    d_area = []\n",
    "    for x in ['general_parts','windows','doors','earthfloors'] :\n",
    "        if (x in d) == True :\n",
    "            d_area.extend(d[x])\n",
    "\n",
    "    return sum(x['area'] for x in d_area)"
   ]
  },
  {
   "cell_type": "markdown",
   "metadata": {},
   "source": [
    "#### Example"
   ]
  },
  {
   "cell_type": "code",
   "execution_count": 9,
   "metadata": {},
   "outputs": [
    {
     "data": {
      "text/plain": [
       "15"
      ]
     },
     "execution_count": 9,
     "metadata": {},
     "output_type": "execute_result"
    }
   ],
   "source": [
    "d={\n",
    "    'general_parts'        : [{'area': 1}, {'area': 2}],\n",
    "    'windows'              : [{'area': 3}],\n",
    "    'doors'                : [{'area': 4}],\n",
    "    'earthfloors'          : [{'area': 5}],\n",
    "    'earthfloor_perimeters': [{'area': 6}]\n",
    "}\n",
    "\n",
    "get_total_area( d )"
   ]
  },
  {
   "cell_type": "markdown",
   "metadata": {},
   "source": [
    "#### 2) 部位種類の設定"
   ]
  },
  {
   "cell_type": "markdown",
   "metadata": {},
   "source": [
    "#### 全ての部位"
   ]
  },
  {
   "cell_type": "code",
   "execution_count": 10,
   "metadata": {},
   "outputs": [],
   "source": [
    "def get_list_part_type():\n",
    "    return ['roof','ceiling','wall','floor','boundary_ceiling','boundary_wall','boundary_floor','window','door','earthfloor_perimeter']"
   ]
  },
  {
   "cell_type": "markdown",
   "metadata": {},
   "source": [
    "#### 日射の当たる部位"
   ]
  },
  {
   "cell_type": "code",
   "execution_count": 11,
   "metadata": {},
   "outputs": [],
   "source": [
    "def get_list_sunshine_part_type():\n",
    "    return ['roof','ceiling','wall','window','door']"
   ]
  },
  {
   "cell_type": "markdown",
   "metadata": {},
   "source": [
    "#### 日射の当たらない部位"
   ]
  },
  {
   "cell_type": "code",
   "execution_count": 12,
   "metadata": {},
   "outputs": [],
   "source": [
    "def get_list_no_sunshine_part_type():\n",
    "    return ['floor','boundary_ceiling','boundary_wall','boundary_floor','earthfloor_perimeter']"
   ]
  },
  {
   "cell_type": "markdown",
   "metadata": {},
   "source": [
    "#### 3) 部位別の熱貫流率の基準値、想定値"
   ]
  },
  {
   "cell_type": "markdown",
   "metadata": {},
   "source": [
    "基準値計算用の部位別の熱貫流率の基準値または想定値は、現行の省エネルギー基準等を参考に設定する。\n",
    "\n",
    "　屋根または天井・壁・床・開口部・土間床等の外周部：  \n",
    " 　　住宅に係るエネルギーの使用の合理化に関する設計、施工及び維持保全の指針の一部を改正する告示（平成28年4月1日施行）  \n",
    "　壁・床（8地域）：RC150mm（無断熱）を想定  \n",
    "　土間床等の外周部（8地域）：土間床等の外周部及び基礎等の線熱貫流率の入力を行わない場合の値   \n",
    "　開口部（8地域）：単板ガラスの熱貫流率を想定"
   ]
  },
  {
   "cell_type": "markdown",
   "metadata": {},
   "source": [
    "部位別の熱貫流率の基準値、想定値, W/(㎡・K)\n",
    "\n",
    "| 部位 | 　 | 1地域 | 2地域 | 3地域 | 4地域 | 5地域 | 6地域 | 7地域 | 8地域 |\n",
    "|---|---|---|---|---|---|---|---|---|---|\n",
    "| 屋根・天井 | 　 | 0.17 | 0.17 | 0.24 | 0.24 | 0.24 | 0.24 | 0.24 | 0.24 |\n",
    "| 壁 | 　 | 0.35 | 0.35 | 0.53 | 0.53 | 0.53 | 0.53 | 0.53 | 4.10 |\n",
    "| 床 | 外気に接する部分 | 0.24 | 0.24 | 0.24 | 0.34 | 0.34 | 0.34 | 0.34 | 3.52 |\n",
    "| 床 | その他の部分 | 0.34 | 0.34 | 0.34 | 0.48 | 0.48 | 0.48 | 0.48 | 2.54 |\n",
    "| 開口部 | 　 | 2.33 | 2.33 | 3.49 | 4.65 | 4.65 | 4.65 | 4.65 | 6.51 |\n",
    "| 土間床等の外周部 | 外気に接する部分 | 0.37 | 0.37 | 0.37 | 0.53 | 0.53 | 0.53 | 0.53 | 1.8 |\n",
    "| 土間床等の外周部 | その他の部分 | 0.53 | 0.53 | 0.53 | 0.76 | 0.76 | 0.76 | 0.76 | 1.8 |"
   ]
  },
  {
   "cell_type": "markdown",
   "metadata": {},
   "source": [
    "#### Function"
   ]
  },
  {
   "cell_type": "code",
   "execution_count": 13,
   "metadata": {},
   "outputs": [],
   "source": [
    "def get_std_U(region, part_type) :\n",
    "\n",
    "    return {\n",
    "        'roof'                 : {1: 0.17, 2: 0.17, 3: 0.24, 4: 0.24, 5: 0.24, 6: 0.24, 7: 0.24, 8: 0.24 },\n",
    "        'ceiling'              : {1: 0.17, 2: 0.17, 3: 0.24, 4: 0.24, 5: 0.24, 6: 0.24, 7: 0.24, 8: 0.24 },\n",
    "        'wall'                 : {1: 0.35, 2: 0.35, 3: 0.53, 4: 0.53, 5: 0.53, 6: 0.53, 7: 0.53, 8: 4.10 },\n",
    "        'floor'                : {1: 0.34, 2: 0.34, 3: 0.34, 4: 0.48, 5: 0.48, 6: 0.48, 7: 0.48, 8: 3.52 },\n",
    "        'boundary_ceiling'     : {1: 0.17, 2: 0.17, 3: 0.24, 4: 0.24, 5: 0.24, 6: 0.24, 7: 0.24, 8: 0.24 },\n",
    "        'boundary_wall'        : {1: 0.35, 2: 0.35, 3: 0.53, 4: 0.53, 5: 0.53, 6: 0.53, 7: 0.53, 8: 4.10 },\n",
    "        'boundary_floor'       : {1: 0.34, 2: 0.34, 3: 0.34, 4: 0.48, 5: 0.48, 6: 0.48, 7: 0.48, 8: 3.52 },\n",
    "        'window'               : {1: 2.33, 2: 2.33, 3: 3.49, 4: 4.65, 5: 4.65, 6: 4.65, 7: 4.65, 8: 6.51 },\n",
    "        'door'                 : {1: 2.33, 2: 2.33, 3: 3.49, 4: 4.65, 5: 4.65, 6: 4.65, 7: 4.65, 8: 6.51 },\n",
    "        'earthfloor_perimeter' : {1: 0.53, 2: 0.53, 3: 0.53, 4: 0.76, 5: 0.76, 6: 0.76, 7: 0.76, 8: 1.80 }\n",
    "    }[part_type][region]"
   ]
  },
  {
   "cell_type": "markdown",
   "metadata": {},
   "source": [
    "#### Example"
   ]
  },
  {
   "cell_type": "code",
   "execution_count": 14,
   "metadata": {},
   "outputs": [
    {
     "data": {
      "text/plain": [
       "0.24"
      ]
     },
     "execution_count": 14,
     "metadata": {},
     "output_type": "execute_result"
    }
   ],
   "source": [
    "get_std_U(6, 'roof')"
   ]
  },
  {
   "cell_type": "markdown",
   "metadata": {},
   "source": [
    "#### 4) 部位別の熱貫流率の上下限値"
   ]
  },
  {
   "cell_type": "markdown",
   "metadata": {},
   "source": [
    "下限値は十分に小さい値、上限値は合板12mm、土間床等の外周部の上限値は土間床等の外周部及び基礎等の線熱貫流率の入力を行わない場合の値を想定。"
   ]
  },
  {
   "cell_type": "markdown",
   "metadata": {},
   "source": [
    "| 　 | 下限値[W/(㎡・K)] | 上限値[W/(㎡・K)] |\n",
    "|---|---|---|\n",
    "| 屋根 | 0.001 | 1/(0.09+0.0095/0.22+0.04) = 5.77 |\n",
    "| 天井 | 0.001 | 1/(0.09+0.0095/0.22+0.09) = 4.48 |\n",
    "| 壁 | 0.001 | 1/(0.11+0.0095/0.22+0.04) = 5.18 |\n",
    "| 床 | 0.001 | 1/(0.15+0.012/0.16+0.04) = 3.77 |\n",
    "| 界床（天井） | 0.001 | 1/(0.09+0.0095/0.22+0.09) = 4.48 |\n",
    "| 界壁 | 0.001 | 1/(0.11+0.0095/0.22+0.11) = 3.80 |\n",
    "| 界床 | 0.001 | 1/(0.15+0.012/0.16+0.15) = 2.67 |\n",
    "| 開口部 | 0.001 | 6.51 |\n",
    "| 土間床等の外周部 | 0.001 | 1.8 |"
   ]
  },
  {
   "cell_type": "markdown",
   "metadata": {},
   "source": [
    "#### Function"
   ]
  },
  {
   "cell_type": "code",
   "execution_count": 18,
   "metadata": {},
   "outputs": [],
   "source": [
    "def get_min_U(ptype):    # 熱貫流率の下限値 W/m2 K\n",
    "    return {\n",
    "        'roof'            : 0.001,\n",
    "        'ceiling'         : 0.001,\n",
    "        'wall'            : 0.001,\n",
    "        'floor'           : 0.001,\n",
    "        'boundary_ceiling': 0.001,\n",
    "        'boundary_wall'   : 0.001,\n",
    "        'boundary_floor'  : 0.001,\n",
    "        'window'          : 0.001,\n",
    "        'door'            : 0.001,\n",
    "        'earthfloor_perimeter'     : 0.001\n",
    "    }[ptype]"
   ]
  },
  {
   "cell_type": "code",
   "execution_count": 19,
   "metadata": {},
   "outputs": [],
   "source": [
    "def get_max_U(ptype):    # 部位別の熱貫流率の上限値, W/m2 K\n",
    "    return {\n",
    "        'roof'            : 1/(0.09+0.0095/0.22+0.04),\n",
    "        'ceiling'         : 1/(0.09+0.0095/0.22+0.09),\n",
    "        'wall'            : 1/(0.11+0.0095/0.22+0.04),\n",
    "        'floor'           : 1/(0.15+0.012 /0.16+0.04),\n",
    "        'boundary_ceiling': 1/(0.09+0.0095/0.22+0.09),\n",
    "        'boundary_wall'   : 1/(0.11+0.0095/0.22+0.11),\n",
    "        'boundary_floor'  : 1/(0.15+0.012 /0.16+0.15),\n",
    "        'window'          : 6.51,\n",
    "        'door'            : 6.51,\n",
    "        'earthfloor_perimeter'     : 100\n",
    "    }[ptype]"
   ]
  },
  {
   "cell_type": "markdown",
   "metadata": {},
   "source": [
    "### 3.2 単位温度差当たりの外皮熱損失量"
   ]
  },
  {
   "cell_type": "markdown",
   "metadata": {},
   "source": [
    "単位温度差当たりの外皮熱損失量とは、部位の面積・長さと熱貫流率と温度差係数の積であり、単位は、W/K である。"
   ]
  },
  {
   "cell_type": "markdown",
   "metadata": {},
   "source": [
    "#### 1) 全外皮の部位"
   ]
  },
  {
   "cell_type": "markdown",
   "metadata": {},
   "source": [
    "$$\n",
    "\\displaystyle\n",
    "q_{std,U} = \\sum_{i}(A_{i} \\times U_{std,i} \\times H_{i}) +  \\sum_{i}(L_{i} \\times Ψ_{std,i} \\times H_{i})\n",
    "$$"
   ]
  },
  {
   "cell_type": "markdown",
   "metadata": {},
   "source": [
    "$q_{std,U}$: 基準U値に基づく全部位の単位温度差当たりの外皮熱損失量の合計, W/K  \n",
    "$U_{std,i}$: 第$i$番目の外皮の部位の熱貫流率の基準値, W/m<sup>2</sup> K  \n",
    "$Ψ_{std,i}$: 第$i$番目の外皮の部位の線熱貫流率の基準値, W/mK  \n",
    "$H_i$: 第$i$番目の外皮の部位の温度差係数, -  "
   ]
  },
  {
   "cell_type": "markdown",
   "metadata": {},
   "source": [
    "#### 2) 日射が当たる外皮の部位"
   ]
  },
  {
   "cell_type": "markdown",
   "metadata": {},
   "source": [
    "$$\n",
    "\\displaystyle\n",
    "q_{s,std,U} = \\sum_i(A_{s,i} \\times U_{s,std,i} \\times H_{s,i})\n",
    "$$"
   ]
  },
  {
   "cell_type": "markdown",
   "metadata": {},
   "source": [
    "$q_{s,std,U}$: 基準U値に基づく日射が当たる外皮の部位の単位温度差当たりの外皮熱損失量の合計, W/K  \n",
    "$A_{s,i}$: 第$i$番目の日射が当たる外皮の部位の面積, m<sup>2</sup>  \n",
    "$U_{s,std,i}$: 第$i$番目の日射が当たる外皮の部位の熱貫流率の基準値, W/m<sup>2</sup> K  \n",
    "$H_{s,i}$: 第$i$番目の日射が当たる外皮の部位の温度差係数, -  "
   ]
  },
  {
   "cell_type": "markdown",
   "metadata": {},
   "source": [
    "#### 3) 日射が当たらない外皮の部位"
   ]
  },
  {
   "cell_type": "markdown",
   "metadata": {},
   "source": [
    "$$\n",
    "\\displaystyle\n",
    "q_{n,std,U} = \\sum(A_{n,i} \\times U_{n,std,i} \\times H_{n,i}) +  \\sum(L_{n,i} \\times Ψ_{n,std,i} \\times H_{n,i})\n",
    "$$"
   ]
  },
  {
   "cell_type": "markdown",
   "metadata": {},
   "source": [
    "$$\n",
    "\\displaystyle\n",
    "q_{n,max,U} = \\sum(A_{n,i} \\times U_{n,max,i} \\times H_{n,i}) + \\sum(L_{n,i} \\times Ψ_{n,max,i} \\times H_{n,i})\n",
    "$$"
   ]
  },
  {
   "cell_type": "markdown",
   "metadata": {},
   "source": [
    "$$\n",
    "\\displaystyle\n",
    "q_{n,min,U} = \\sum(A_{n,i} \\times U_{n,min,i} \\times H_{n,i}) + \\sum(L_{n,i} \\times Ψ_{n,min,i} \\times H_{n,i})\n",
    "$$"
   ]
  },
  {
   "cell_type": "markdown",
   "metadata": {},
   "source": [
    "$q_{n,std,U}$: 基準U値に基づく日射が当たらない外皮の部位の単位温度差当たりの外皮熱損失量の合計, W/K  \n",
    "$q_{n,max,U}$: 最大U値に基づく日射が当たらない外皮の部位の単位温度差当たりの外皮熱損失量の合計, W/K  \n",
    "$q_{n,min,U}$: 最小U値に基づく日射が当たらない外皮の部位の単位温度差当たりの外皮熱損失量の合計, W/K  \n",
    "$A_{n,i}$: 第$i$番目の日射が当たらない外皮の部位の面積, m<sup>2</sup>  \n",
    "$L_{n,i}$: 第$i$番目の日射が当たらない外皮の部位の長さ, m</sup>  \n",
    "$U_{n,std,i}$: 第$i$番目の日射が当たらない外皮の部位の熱貫流率の基準値, W/m<sup>2</sup> K  \n",
    "$U_{n,max,i}$: 第$i$番目の日射が当たらない外皮の部位の熱貫流率の最大値, W/m<sup>2</sup> K  \n",
    "$U_{n,min,i}$: 第$i$番目の日射が当たらない外皮の部位の熱貫流率の最小値, W/m<sup>2</sup> K  \n",
    "$Ψ_{n,std,i}$: 第$i$番目の日射が当たらない外皮の部位の線熱貫流率の基準値, W/m</sup> K  \n",
    "$Ψ_{n,max,i}$: 第$i$番目の日射が当たらない外皮の部位の線熱貫流率の最大値, W/m</sup> K  \n",
    "$Ψ_{n,min,i}$: 第$i$番目の日射が当たらない外皮の部位の線熱貫流率の最小値, W/m</sup> K  \n",
    "$H_{n,i}$: 第$i$番目の日射が当たらない外皮の部位の温度差係数, - "
   ]
  },
  {
   "cell_type": "markdown",
   "metadata": {},
   "source": [
    "#### Function"
   ]
  },
  {
   "cell_type": "code",
   "execution_count": 20,
   "metadata": {},
   "outputs": [],
   "source": [
    "def get_q_std_U(region, parts, l_target):\n",
    "    \n",
    "    return sum((part.area * get_std_U(region, part.ptype) * H.get_H_by_nextspace(region, part.nextspace) if part.ptype in l_target else 0)\n",
    "               for part in parts)"
   ]
  },
  {
   "cell_type": "code",
   "execution_count": 21,
   "metadata": {},
   "outputs": [],
   "source": [
    "def get_q_max_U(region, parts, l_target):\n",
    "    \n",
    "    return sum((part.area * get_max_U(part.ptype) * H.get_H_by_nextspace(region, part.nextspace) if part.ptype in l_target else 0)\n",
    "               for part in parts)"
   ]
  },
  {
   "cell_type": "code",
   "execution_count": 22,
   "metadata": {},
   "outputs": [],
   "source": [
    "def get_q_min_U(region, parts, l_target):\n",
    "    \n",
    "    return sum((part.area * get_min_U(part.ptype) * H.get_H_by_nextspace(region, part.nextspace) if part.ptype in l_target else 0)\n",
    "               for part in parts)"
   ]
  },
  {
   "cell_type": "markdown",
   "metadata": {},
   "source": [
    "### 3.3 熱貫流率の調整係数の最大値・最小値"
   ]
  },
  {
   "cell_type": "markdown",
   "metadata": {},
   "source": [
    "#### 1) 日射が当たる外皮の部位"
   ]
  },
  {
   "cell_type": "markdown",
   "metadata": {},
   "source": [
    "$$\n",
    "\\displaystyle\n",
    "f_{U,s,max}= \\min \\left(\\frac{ U_{A,std} \\times A_{total} - q_{n,min,U} }{ q_{s,std,U} },\\min \\left(\\frac{U_{s,max,i}}{U_{s,std,i}} \\right) \\right)\n",
    "$$"
   ]
  },
  {
   "cell_type": "markdown",
   "metadata": {},
   "source": [
    "$$\n",
    "\\displaystyle\n",
    "f_{U,s,min}= \\max \\left(\\frac{ U_{A,std} \\times A_{total} - q_{n,max,U} }{ q_{s,std,U} },\\max \\left(\\frac{U_{s,min,i}}{U_{s,std,i}} \\right) \\right)\n",
    "$$"
   ]
  },
  {
   "cell_type": "markdown",
   "metadata": {},
   "source": [
    "$f_{U,s,max}$: 日射が当たる外皮の部位の熱貫流率の調整係数の最大値, -  \n",
    "$f_{U,s,min}$: 日射が当たる外皮の部位の熱貫流率の調整係数の最小値, -  \n",
    "$U_{A,std}$: 外皮平均熱貫流率の基準値, W/m<sup>2</sup> K  \n",
    "$q_{s,std,U}$: 基準U値に基づく日射が当たる外皮の部位の単位温度差当たりの外皮熱損失量の合計, W/K  \n",
    "$q_{n,max,U}$: 最大U値に基づく日射が当たらない外皮の部位の単位温度差当たりの外皮熱損失量の合計, W/K  \n",
    "$q_{n,min,U}$: 最小U値に基づく日射が当たらない外皮の部位の単位温度差当たりの外皮熱損失量の合計, W/K  \n",
    "$U_{s,std,i}$: 第$i$番目の日射が当たる外皮の部位の熱貫流率の基準値, W/m<sup>2</sup> K  \n",
    "$U_{s,max,i}$: 第$i$番目の日射が当たる外皮の部位の熱貫流率の最大値, W/m<sup>2</sup> K  \n",
    "$U_{s,min,i}$: 第$i$番目の日射が当たる外皮の部位の熱貫流率の最小値, W/m<sup>2</sup> K  "
   ]
  },
  {
   "cell_type": "code",
   "execution_count": 23,
   "metadata": {},
   "outputs": [],
   "source": [
    "def get_fUs_range(region, std_UA, total_area, qs_std_U, qn_max_U, qn_min_U, l_sunshine_part_type):\n",
    "\n",
    "    # 日射の当たる部位の熱貫流率補正係数の最小値\n",
    "    fUs_max = min(\n",
    "        (std_UA * total_area - qn_min_U) / qs_std_U,\n",
    "        min(get_max_U(x) / get_std_U(region, x) for x in l_sunshine_part_type)\n",
    "    )\n",
    "    \n",
    "    # 日射の当たる部位の熱貫流率補正係数の最大値\n",
    "    fUs_min = max(\n",
    "        (std_UA * total_area - qn_max_U) / qs_std_U,\n",
    "        max(get_min_U(x) / get_std_U(region, x) for x in l_sunshine_part_type)\n",
    "    )\n",
    "    \n",
    "    return fUs_max, fUs_min"
   ]
  },
  {
   "cell_type": "markdown",
   "metadata": {},
   "source": [
    "#### 2) 日射が当たらない外皮の部位（床、土間床）"
   ]
  },
  {
   "cell_type": "markdown",
   "metadata": {},
   "source": [
    "$$\n",
    "\\displaystyle\n",
    "f_{U,n,max}= \\min \\left(\\frac{ U_{A,std} \\times A_{total} - q_{s,std,U} \\times \\max(\\frac{U_{s,min,i}}{U_{s,std,i}}) }{ q_{n,std,U} },\\frac{U_{n,max,i}}{U_{n,std,i}} \\right)\n",
    "$$"
   ]
  },
  {
   "cell_type": "markdown",
   "metadata": {},
   "source": [
    "$$\n",
    "\\displaystyle\n",
    "f_{U,n,min}= \\max \\left(\\frac{ U_{A,std} \\times A_{total} - q_{s,std,U} \\times \\min(\\frac{U_{s,max,i}}{U_{s,std,i}}) }{ q_{n,std,U} },\\frac{U_{n,min,i}}{U_{n,std,i}} \\right)\n",
    "$$"
   ]
  },
  {
   "cell_type": "markdown",
   "metadata": {},
   "source": [
    "$f_{U,n,max}$: 日射が当たらない外皮の部位の熱貫流率の調整係数の最大値, -  \n",
    "$f_{U,n,min}$: 日射が当たらない外皮の部位の熱貫流率の調整係数の最小値, -  \n",
    "$U_{A,std}$: 外皮平均熱貫流率の基準値, W/m<sup>2</sup> K  \n",
    "$A_{total}$: 総外皮面積, m<sup>2</sup>  \n",
    "$q_{n,std,U}$: 基準U値に基づく日射が当たらない外皮の部位の単位温度差当たりの外皮熱損失量の合計, W/K  \n",
    "$q_{s,std,U}$: 基準U値に基づく日射が当たる外皮の部位の単位温度差当たりの外皮熱損失量の合計, W/K  \n",
    "$U_{s,std,i}$: 第$i$番目の日射が当たる外皮の部位の熱貫流率の基準値, W/m<sup>2</sup> K  \n",
    "$U_{s,max,i}$: 第$i$番目の日射が当たる外皮の部位の熱貫流率の最大値, W/m<sup>2</sup> K  \n",
    "$U_{s,min,i}$: 第$i$番目の日射が当たる外皮の部位の熱貫流率の最小値, W/m<sup>2</sup> K  \n",
    "$U_{n,std,i}$: 第$i$番目の日射が当たらない外皮の部位の熱貫流率の基準値, W/m<sup>2</sup> K  \n",
    "$U_{n,max,i}$: 第$i$番目の日射が当たらない外皮の部位の熱貫流率の最大値, W/m<sup>2</sup> K  \n",
    "$U_{n,min,i}$: 第$i$番目の日射が当たらない外皮の部位の熱貫流率の最小値, W/m<sup>2</sup> K  "
   ]
  },
  {
   "cell_type": "markdown",
   "metadata": {},
   "source": [
    "#### Function"
   ]
  },
  {
   "cell_type": "code",
   "execution_count": 24,
   "metadata": {},
   "outputs": [],
   "source": [
    "def get_fUn_range(region, std_UA, total_area, qs_std_U, qn_std_U, l_sunshine_part_type, l_no_sunshine_part_type):\n",
    "    \n",
    "    # 日射の当たらない部位（床）の熱貫流率補正係数の最小値\n",
    "    fUn_max = min(\n",
    "        (std_UA * total_area - qs_std_U * max(get_min_U(x) / get_std_U(region, x) for x in l_sunshine_part_type)) / qn_std_U,\n",
    "        min(get_max_U(x) / get_std_U(region, x) for x in l_no_sunshine_part_type)\n",
    "    )\n",
    "    \n",
    "    # 日射の当たらない部位（床）の熱貫流率補正係数の最大値\n",
    "    fUn_min = max(\n",
    "        (std_UA * total_area - qs_std_U * min(get_max_U(x) / get_std_U(region, x) for x in l_sunshine_part_type)) / qn_std_U,\n",
    "        min(get_min_U(x) / get_std_U(region, x) for x in l_no_sunshine_part_type)\n",
    "    )\n",
    "    \n",
    "    return fUn_max, fUn_min"
   ]
  },
  {
   "cell_type": "markdown",
   "metadata": {},
   "source": [
    "### 2) 熱貫流率調整係数と開口部日射熱取得率の算出"
   ]
  },
  {
   "cell_type": "markdown",
   "metadata": {},
   "source": [
    "#### Outline"
   ]
  },
  {
   "cell_type": "markdown",
   "metadata": {},
   "source": [
    "UA値、ηA値の基準値を満たすように、基準値計算用の住宅のU値（仕様規定の部位別U値に比例）と開口部の日射熱取得率ηH値、ηC値を決定する。  \n",
    "開口部の日射熱取得率η値としては、ηH値を採用する。"
   ]
  },
  {
   "cell_type": "markdown",
   "metadata": {},
   "source": [
    "$$\n",
    "\\displaystyle\n",
    "f_{U}= \\frac{ (AU_{A}) }{ (AUH) }\n",
    "$$\n",
    "\n",
    "$$\n",
    "\\displaystyle\n",
    "η_{H}= \\frac{ \\frac{ (Aη_{A})_H }{100} - 0.034 \\times f_{U} \\times (AUν)_H }{ (Afν)_H }\n",
    "$$\n",
    "$$\n",
    "\\displaystyle\n",
    "η_{C}= \\frac{ \\frac{ (Aη_{A})_C }{100} - 0.034 \\times f_{U} \\times (AUν)_C }{ (Afν)_C }\n",
    "$$\n",
    "$$\n",
    "\\displaystyle\n",
    "η= η_{H}\n",
    "$$"
   ]
  },
  {
   "cell_type": "markdown",
   "metadata": {},
   "source": [
    "ただし、非現実的な設定は許容せず、開口部のη値は0以上0.88以下、各部位のU値は上下限値の間とする。  \n",
    "そのために、調整前の冷房期と暖房期の開口部のη値が0未満または0.88超となる場合について、場合分けを行い調整を実施する。"
   ]
  },
  {
   "cell_type": "markdown",
   "metadata": {},
   "source": [
    "$f_{U}$: 熱貫流率の調整係数, -  \n",
    "$η$: 開口部の日射熱取得率, -  \n",
    "$η_{H}$: 暖房期の開口部の日射熱取得率, -  \n",
    "$η_{C}$: 冷房期の開口部の日射熱取得率, -  \n",
    "\n",
    "$(AU_{A})$: 総外皮面積と外皮平均熱貫流率の基準値の積（後述）, W/K   \n",
    "$(AUH)$: 部位の面積・長さと熱貫流率の基準値と温度差係数の積の合計（後述）, W/K \n",
    "\n",
    "$(Aη_{A})_H$: 総外皮面積と暖房期の外皮平均日射熱取得率の基準値の積（後述）, ㎡  \n",
    "$(Aη_{A})_C$: 総外皮面積と冷房期の外皮平均日射熱取得率の基準値の積（後述）, ㎡  \n",
    "$(AUν)_H$: 開口部以外の外皮の部位の面積と熱貫流率の基準値と方位係数の積の合計（後述）, W/K   \n",
    "$(AUν)_C$: 開口部以外の外皮の部位の面積と熱貫流率の基準値と方位係数の積の合計（後述）, W/K   \n",
    "$(Afν)_H$: 開口部の部位の面積と暖房期の日射取得率補正係数と方位係数の積の合計（後述）, W/K   \n",
    "$(Afν)_C$: 開口部の部位の面積と冷房期の日射取得率補正係数と方位係数の積の合計（後述）, W/K   "
   ]
  },
  {
   "cell_type": "markdown",
   "metadata": {},
   "source": [
    "#### Detail"
   ]
  },
  {
   "cell_type": "markdown",
   "metadata": {},
   "source": [
    "熱貫流率の調整係数は、日射の当たる部位（屋根または天井、外壁、開口部）と、日射の当たらない部位（床）のそれぞれについて算出する。\n",
    "\n",
    "　$f_{U,s}$ :日射の当たる部位（屋根または天井、外壁、開口部）の熱貫流率の調整係数  \n",
    "　$f_{U,n}$ :日射の当たらない部位（床）の熱貫流率の調整係数"
   ]
  },
  {
   "cell_type": "markdown",
   "metadata": {},
   "source": [
    "場合分けは、以下のとおりとする。  \n",
    "\n",
    "　1 冷房期の開口部以外からの日射熱取得が多い場合（調整前$η_C<0$）  \n",
    "　　1-1 暖房期の開口部以外からの日射熱取得が多い場合（調整前$η_H<0$）  \n",
    "　　　　より厳しい期間に合わせて日射が当たる部位の熱貫流率を調整  \n",
    "　　1-2 暖房期の日射熱取得が少ない場合（調整前$η_H>0.88$）  \n",
    "　　　　UA値をもとに部位の熱貫流率を調整  \n",
    "　　1-3 暖房期の日射熱取得が開口部の日射熱取得率で調整可能な範囲の場合（$0$≦調整前$η_H$≦$0.88$）  \n",
    "　　　　冷房期を優先して日射が当たる部位の熱貫流率を調整  \n",
    "        \n",
    "　2 冷房期の日射熱取得が開口部の日射熱取得率で調整可能な範囲の場合（$0$≦調整前$η_C$≦$0.88$）  \n",
    "　　2-1 暖房期の開口部以外からの日射熱取得が多い場合（調整前$η_H<0$）  \n",
    "　　　　暖房期を優先して日射が当たる部位の熱貫流率を調整  \n",
    "　　2-2 暖房期の日射熱取得が少ない場合（調整前$η_H>0.88$）  \n",
    "　　　　暖房期を優先して日射が当たる部位の熱貫流率を調整  \n",
    "　　2-3 暖房期の日射熱取得が開口部の日射熱取得率で調整可能な範囲の場合（$0$≦調整前$η_H$≦$0.88$）  \n",
    " 　　　　UA値をもとに部位の熱貫流率を調整 \n",
    "     \n",
    "　3 冷房期の日射熱取得が少ない場合（調整前$η_C>0.88$）  \n",
    "　　3-1 暖房期の開口部以外からの日射熱取得が多い場合（調整前$η_H<0$）  \n",
    "　　　　UA値をもとに部位の熱貫流率を調整  \n",
    "　　3-2 暖房期の日射熱取得が少ない場合（調整前$η_H>0.88$）  \n",
    "　　　　より厳しい期間に合わせて日射が当たる部位の熱貫流率を調整  \n",
    "　　3-3 暖房期の日射熱取得が開口部の日射熱取得率で調整可能な範囲の場合（$0$≦調整前$η_H$≦$0.88$）  \n",
    "　　　　冷房期を優先して日射が当たる部位の熱貫流率を調整  "
   ]
  },
  {
   "cell_type": "markdown",
   "metadata": {},
   "source": [
    "| 　 | 調整前$η_H<0$ | $0$≦調整前$η_H$≦$0.88$ | $0.88<$調整前$η_H$ |\n",
    "|---|---|---|---|\n",
    "| 調整前$η_C<0$ | (1-1)より厳しい期間に合わせて$f_{U,s}$を決定 | (2-1)冷房期を優先して$f_{U,s}$を決定 | (3-1)$U_A$値をもとに$f_{U,s}$を決定 | \n",
    "| 　 | $$f_{U,s} = \\frac{ \\frac{(Aη_A) }{100} }{ 0.034 \\times (AUν) }$$ | $$f_{U,s} = \\frac{ \\frac{(Aη_A) }{100} }{ 0.034 \\times (AUν) }$$ | $$f_{U,s} = \\frac{(AU_A) }{ (AUH) }$$ |\n",
    "| $0$≦調整前$η_C$≦$0.88$ | (1-2)暖房期を優先して$f_{U,s}$を決定 | (2-2)$U_A$値をもとに$f_{U,s}$を決定 | (3-2)暖房期を優先して$f_{U,s}$を決定 |\n",
    "| 　 | $$f_{U,s} = \\frac{ \\frac{( Aη_A) }{100} }{ 0.034 \\times (AUν) }$$ | $$f_{U,s} = \\frac{(AU_A) }{ (AUH) }$$ | $$f_{U,s} = \\frac{ \\frac{( Aη_A) }{100} - 0.88 \\times (Afν) }{ 0.034 \\times (AUν)}$$ |\n",
    "| $0.88<$調整前$η_C$ | (1-3)$U_A$値をもとに$f_{U,s}$を決定 | (2-3)冷房期を優先して$f_{U,s}$を決定 | (3-3)より厳しい期間に合わせて$f_{U,s}$を決定 |\n",
    "| 　 | $$f_{U,s} = \\frac{(AU_A) }{ (AUH) }$$ | $$f_{U,s} = \\frac{ \\frac{( Aη_A) }{100} - 0.88 \\times (Afν) }{ 0.034 \\times (AUν)}$$ | $$f_{U,s} = \\frac{ \\frac{( Aη_A) }{100} - 0.88 \\times (Afν) }{ 0.034 \\times (AUν)}$$ |"
   ]
  },
  {
   "cell_type": "markdown",
   "metadata": {},
   "source": [
    "熱貫流率の調整係数は、下限値以上、上限値以下となるよう決定する。"
   ]
  },
  {
   "cell_type": "markdown",
   "metadata": {},
   "source": [
    "$$\n",
    "f_{U,s} = \\left \\{\n",
    "\\begin{array}{ll}\n",
    "\\displaystyle\n",
    "\\max \\left(f_{U,s,min},\\frac{ \\frac{( Aη_A) }{100} }{ 0.034 \\times (AUν) } \\right) & \\left( \\frac{ \\frac{(Aη_A)}{100} - 0.034 \\times(AUν) }{ (Afν) } < 0.00 \\right) \\\\\n",
    "\\displaystyle\n",
    "\\min \\left(f_{U,s,max},\\max \\left(f_{U,s,min}, \\frac{(AU_A) }{ (AUH) } \\right)\\right) & \\left( 0.00 ≦ \\frac{ \\frac{(Aη_A)}{100} - 0.034 \\times(AUν) }{ (Afν) } ≦ 0.88 \\right) \\\\\n",
    "\\displaystyle\n",
    "\\min \\left(f_{U,s,max},\\frac{ \\frac{( Aη_A) }{100} - 0.88 \\times (Afν) }{ 0.034 \\times (AUν)} \\right) & \\left( \\frac{ \\frac{(Aη_A)}{100} - 0.034 \\times(AUν) }{ (Afν) } > 0.88 \\right)\n",
    "\\end{array}\n",
    "\\right.\n",
    "$$"
   ]
  },
  {
   "cell_type": "markdown",
   "metadata": {},
   "source": [
    "$f_{U,s}$: 日射の当たる部位（屋根または天井、外壁、開口部）の熱貫流率を補正するための係数, -  \n",
    "$f_{U,s,min}$: 日射の当たる部位（屋根または天井、外壁、開口部）の熱貫流率を補正するための係数が取り得る最小値, -  \n",
    "$f_{U,s,max}$: 日射の当たる部位（屋根または天井、外壁、開口部）の熱貫流率を補正するための係数が取り得る最大値, -  \n",
    "\n",
    "$(AU_{A})$: 総外皮面積と外皮平均熱貫流率の基準値の積（後述）, W/K   \n",
    "$(Aη_{A})$: 総外皮面積と外皮平均日射熱取得率の基準値の積（後述）, ㎡  \n",
    "$(AUH)$: 部位の面積と熱貫流率の基準値と温度差係数の積の合計（後述）, W/K  \n",
    "$(AUν)$: 開口部以外の外皮の部位の面積と熱貫流率の基準値と方位係数の積の合計（後述）, W/K   \n",
    "$(Afν)$: 開口部の部位の面積と日射取得率補正係数と方位係数の積の合計（後述）, W/K     "
   ]
  },
  {
   "cell_type": "markdown",
   "metadata": {},
   "source": [
    "$$\n",
    "f_{U,n} = \\min \\left( f_{U,n,max},\\max \\left( f_{U,n,min},\\frac{ (AU_A) - f_{U,s} \\times q_{s,std,U} }{ q_{n,std,U} } \\right) \\right)\n",
    "$$"
   ]
  },
  {
   "cell_type": "markdown",
   "metadata": {},
   "source": [
    "$f_{U,n}$: 日射の当たらない部位（床）の熱貫流率を補正するための係数, -  \n",
    "$f_{U,n,min}$: 床の熱貫流率を補正するための係数が取り得る最小値, -  \n",
    "$f_{U,n,max}$: 床の熱貫流率を補正するための係数が取り得る最大値, -  "
   ]
  },
  {
   "cell_type": "markdown",
   "metadata": {},
   "source": [
    "開口部の日射熱取得率は、0以上、0.88以下となるよう決定する。  \n",
    "開口部以外からの日射熱取得が多い場合は、日射の当たる部位の熱貫流率の調整係数を、開口部の日射熱取得率が0となるよう、熱貫流率の調整係数の下限値以上となる範囲で調整する。  \n",
    "日射熱取得が少ない場合は、日射の当たる部位の熱貫流率の調整係数を、開口部の日射熱取得率が0.88となるよう、熱貫流率の調整係数の上限値以下となる範囲で調整する。"
   ]
  },
  {
   "cell_type": "markdown",
   "metadata": {},
   "source": [
    "$$\n",
    "η = \\left \\{\n",
    "\\begin{array}{ll}\n",
    "0.00 & \\left( \\frac{ \\frac{(Aη_A)}{100} - 0.034 \\times(AUν) }{ (Afν) } < 0.00 \\right) \\\\\n",
    "\\displaystyle\n",
    "\\min \\left(0.88,\\max \\left(0.00, \\frac{ \\frac{(Aη_A)}{100} - 0.034 \\times f_{U,s} \\times (AUν) }{ (Afν) } \\right)\\right) & \\left( 0.00 ≦ \\frac{ \\frac{(Aη_A)}{100} - 0.034 \\times(AUν) }{ (Afν) } ≦ 0.88 \\right) \\\\\n",
    "0.88 & \\left( \\frac{ \\frac{(Aη_A)}{100} - 0.034 \\times(AUν) }{ (Afν) } > 0.88 \\right)\n",
    "\\end{array}\n",
    "\\right.\n",
    "$$"
   ]
  },
  {
   "cell_type": "markdown",
   "metadata": {},
   "source": [
    "#### Function"
   ]
  },
  {
   "cell_type": "code",
   "execution_count": 27,
   "metadata": {},
   "outputs": [],
   "source": [
    "def get_fU_and_eta(region, std_UA, total_area, parts, std_etaAH, std_etaAC,\n",
    "                   fUs_min, fUs_max, fUn_min, fUn_max, q_std_U, qs_std_U, qn_std_U, l_sunshine_part_type):\n",
    "    \n",
    "    q_std = std_UA * total_area\n",
    "    \n",
    "    # A・ηA\n",
    "    m_H_std = std_etaAH * total_area \n",
    "    m_C_std = std_etaAC * total_area \n",
    " \n",
    "    # Σ(A・U・ν)\n",
    "    sum_AUnu_H = sum((part.area * get_std_U(region, part.ptype) * \\\n",
    "                      nu.get_nu(season=('heating' if region != 8 else 'cooling'), region=region, direction=part.direction) \\\n",
    "                      if (part.ptype in l_sunshine_part_type and part.ptype != 'window') else 0) \\\n",
    "                     for part in parts)\n",
    "    sum_AUnu_C = sum((part.area * get_std_U(region, part.ptype) *  nu.get_nu(season='cooling', region=region, direction=part.direction) \\\n",
    "                      if (part.ptype in l_sunshine_part_type and part.ptype != 'window') else 0) \\\n",
    "                     for part in parts)\n",
    "\n",
    "    # Σ(A・f・ν)   \n",
    "    sum_Afnu_H = sum((part.area * f.get_f(season='heating', region=region, direction=part.direction) \\\n",
    "                      * nu.get_nu(season=('heating' if region != 8 else 'cooling'), region=region, direction=part.direction)) \\\n",
    "                     if part.ptype == 'window' else 0 for part in parts)\n",
    "    sum_Afnu_C = sum((part.area * f.get_f(season='cooling', region=region, direction=part.direction) \\\n",
    "                      * nu.get_nu(season='cooling', region=region, direction=part.direction)) if part.ptype == 'window' else 0 \n",
    "                     for part in parts)\n",
    "\n",
    "    # 調整係数を事前に算出\n",
    "    fUs_for_eta_H_000 = (m_H_std / 100 - 0.00 * sum_Afnu_H) / 0.034 / sum_AUnu_H\n",
    "    fUs_for_eta_C_000 = (m_C_std / 100 - 0.00 * sum_Afnu_C) / 0.034 / sum_AUnu_C\n",
    "    fUs_for_eta_H_088 = (m_H_std / 100 - 0.88 * sum_Afnu_H) / 0.034 / sum_AUnu_H\n",
    "    fUs_for_eta_C_088 = (m_C_std / 100 - 0.88 * sum_Afnu_C) / 0.034 / sum_AUnu_C\n",
    "    fUs_for_UA = q_std / q_std_U\n",
    "\n",
    "    # 場合分けのためのη暫定値\n",
    "    eta_H_temp = (m_H_std / 100 - 0.034 * fUs_for_UA * sum_AUnu_H) / sum_Afnu_H\n",
    "    eta_C_temp = (m_C_std / 100 - 0.034 * fUs_for_UA * sum_AUnu_C) / sum_Afnu_C\n",
    "    \n",
    "    if eta_C_temp < 0 :\n",
    "        if eta_H_temp < 0 :\n",
    "            fUs = min( fUs_for_eta_H_000, fUs_for_eta_C_000 )\n",
    "        elif eta_H_temp > 0.88 :\n",
    "            fUs = min( fUs_max, fUs_for_UA )\n",
    "        else :\n",
    "            fUs = fUs_for_eta_C_000\n",
    "    elif eta_C_temp > 0.88 :\n",
    "        if eta_H_temp < 0 :\n",
    "            fUs = min( fUs_max, fUs_for_UA )\n",
    "        elif eta_H_temp > 0.88 :\n",
    "            fUs = max( fUs_for_eta_H_088, fUs_for_eta_C_088)   \n",
    "        else :\n",
    "            fUs = fUs_for_eta_C_088\n",
    "    else :\n",
    "        if eta_H_temp < 0 :\n",
    "            fUs = fUs_for_eta_H_000\n",
    "        elif eta_H_temp > 0.88 :\n",
    "            fUs = fUs_for_eta_H_088\n",
    "        else :\n",
    "            fUs = fUs_for_UA\n",
    "    \n",
    "    # 上下限値の適用\n",
    "    fUs = max(fUs_min, min(fUs_max, fUs_for_UA ))\n",
    "    \n",
    "    # 床の熱貫流率の調整係数\n",
    "    fUn = max(fUn_min, min(fUn_max, ( q_std - fUs * qs_std_U ) / qn_std_U ))\n",
    "    \n",
    "    # 開口部の日射熱取得率の算出\n",
    "    eta = {\n",
    "        'heating' : max( 0, min( 0.88, ( m_H_std / 100 - 0.034 * sum_AUnu_H * fUs ) / sum_Afnu_H)),\n",
    "        'cooling' : max( 0, min( 0.88, ( m_C_std / 100 - 0.034 * sum_AUnu_C * fUs ) / sum_Afnu_C)),\n",
    "          }\n",
    "    eta['annual'] = eta['cooling']\n",
    "   \n",
    "    return fUs, fUn, eta"
   ]
  },
  {
   "cell_type": "markdown",
   "metadata": {},
   "source": [
    "### 3) 基準値計算用の住宅のUA値、ηA値の検算"
   ]
  },
  {
   "cell_type": "markdown",
   "metadata": {},
   "source": [
    "#### Outline"
   ]
  },
  {
   "cell_type": "markdown",
   "metadata": {},
   "source": [
    "$$\n",
    "\\displaystyle\n",
    "U_{A,check}= \\frac{ \\sum_{}^{}(U_i \\times A_i \\times H_i) + \\sum_{}^{}(Ψ_i \\times L_i \\times H_i) }{ A_{total} }\n",
    "$$\n",
    "\n",
    "$$\n",
    "\\displaystyle\n",
    "η_{A,H,check}= \\frac{ 0.034 \\times \\sum_{}^{}(U_{o,i} \\times A_{o,i} \\times ν_{H,o,i}) + η_H \\times (Afν)_H}{ A_{total} } \\times 100\n",
    "$$\n",
    "$$\n",
    "\\displaystyle\n",
    "η_{A,C,check}= \\frac{ 0.034 \\times \\sum_{}^{}(U_{o,i} \\times A_{o,i} \\times ν_{C,o,i}) + η_C \\times (Afν)_C}{ A_{total} } \\times 100\n",
    "$$"
   ]
  },
  {
   "cell_type": "markdown",
   "metadata": {},
   "source": [
    "$U_{A,check}$: 外皮平均熱貫流率の検算値, W/(m<sup>2</sup>・K)  \n",
    "$η_{A,check}$: 外皮平均日射熱取得率の検算値, -  \n",
    "\n",
    "$(Afν)_H$: 開口部の部位の面積と暖房期の日射取得率補正係数と方位係数の積の合計（後述）, W/K   \n",
    "$(Afν)_C$: 開口部の部位の面積と冷房期の日射取得率補正係数と方位係数の積の合計（後述）, W/K   \n",
    "\n",
    "$ν$: 部位の方位係数, -  \n",
    "$H$: 温度差係数, -  \n",
    "$A$: 部位の面積, m<sup>2</sup>  \n",
    "$L$: 部位の長さ, m  \n",
    "$U$: 部位の熱貫流率, W/(m<sup>2</sup>・K)  \n",
    "$Ψ$: 部位の線熱貫流率, W/(m・K)  \n",
    "\n",
    "添字$H$: 暖房期  \n",
    "添字$C$: 冷房期  \n",
    "添字$i$: 外皮の第$i$番目の部位  \n",
    "添字$o,i$: 開口部以外の外皮の第$i$番目の部位  \n",
    "添字$w,i$: 開口部の第$i$番目の部位  "
   ]
  },
  {
   "cell_type": "code",
   "execution_count": 29,
   "metadata": {},
   "outputs": [],
   "source": [
    "def check_UA_and_etaA(area_skin, l_general_parts, l_windows, l_doors, l_earthfloor_perimeters, part_U, eta, region, \n",
    "                      parts, l_sunshine_parts, l_no_sunshine_parts):\n",
    "    \n",
    "    # Σ(A・f・ν)    \n",
    "    sum_Afnu = {\n",
    "        'heating' : sum((part.area * f.get_f(season='heating', region=region, direction=part.direction) * \\\n",
    "                        nu.get_nu(season=('heating' if region != 8 else 'cooling'),region=region, direction=part.direction) \\\n",
    "                         if part.ptype == 'window' else 0) \\\n",
    "                        for part in parts),\n",
    "        'cooling' : sum((part.area * f.get_f(season='cooling', region=region, direction=part.direction) * \\\n",
    "                        nu.get_nu(season='cooling', region=region, direction=part.direction) if part.ptype == 'window' else 0) \\\n",
    "                        for part in parts)\n",
    "    }\n",
    "    \n",
    "    # UA値検算\n",
    "    UA_check=(sum(x['area'] * part_U[x['general_part_type']] * H.get_H_by_nextspace(region, x['next_space']) \n",
    "                  for x in l_general_parts) \\\n",
    "              + sum(x['area'] * part_U['window'] * H.get_H_by_nextspace(region, x['next_space']) for x in l_windows) \\\n",
    "              + sum(x['area'] * part_U['window'] * H.get_H_by_nextspace(region, x['next_space']) for x in l_doors) \\\n",
    "              + sum(x['length'] * part_U['earthfloor_perimeter'] * H.get_H_by_nextspace(region, x['next_space']) \n",
    "                    for x in l_earthfloor_perimeters))/ area_skin\n",
    "    \n",
    "    # ηA値検算\n",
    "    eta_check = {\n",
    "        'heating' : (0.034 * sum(x['area'] * part_U[x['general_part_type']] * \\\n",
    "                                 (nu.get_nu(region=region, season=('heating' if region != 8 else 'cooling'),\n",
    "                                            direction=x['direction']) if x['next_space']=='outdoor' else 0)\n",
    "                                 for x in l_general_parts) \\\n",
    "                     + 0.034 * sum(x['area'] * part_U['door'] * \\\n",
    "                                 (nu.get_nu(region=region, season=('heating' if region != 8 else 'cooling'),\n",
    "                                            direction=x['direction']) if x['next_space']=='outdoor' else 0)\n",
    "                                 for x in l_doors) \\\n",
    "                     + eta['heating'] * sum_Afnu['heating']) / area_skin * 100,\n",
    "        'cooling' : (0.034 * sum(x['area'] * part_U[x['general_part_type']] * \\\n",
    "                                 nu.get_nu(region=region, season='cooling', direction=x['direction'])\n",
    "                                 for x in l_general_parts) \\\n",
    "                     + 0.034 * sum(x['area'] * part_U['door'] * nu.get_nu(region=region, season='cooling', direction=x['direction'])\n",
    "                                 for x in l_doors) \\\n",
    "                     + eta['cooling'] * sum_Afnu['cooling']) / area_skin * 100,\n",
    "    }\n",
    "    \n",
    "    return UA_check, eta_check"
   ]
  },
  {
   "cell_type": "markdown",
   "metadata": {},
   "source": [
    "### 4) 基準値計算用の住宅のUA値、ηA値の調整"
   ]
  },
  {
   "cell_type": "markdown",
   "metadata": {},
   "source": [
    "#### Outline"
   ]
  },
  {
   "cell_type": "markdown",
   "metadata": {},
   "source": [
    "各種設定値を取得する。  \n",
    "熱貫流率調整係数と開口部日射熱取得率の算出のための各種値を算出する。  \n",
    "熱貫流率調整係数と開口部日射熱取得率を算出する。  \n",
    "基準値計算用の住宅のUA値、ηA値の確認を行う。"
   ]
  },
  {
   "cell_type": "markdown",
   "metadata": {},
   "source": [
    "熱貫流率調整係数と開口部日射熱取得率の算出のための各種値は以下のとおり。"
   ]
  },
  {
   "cell_type": "markdown",
   "metadata": {},
   "source": [
    "$$\n",
    "\\displaystyle\n",
    "(Aη_{A})_H= η_{A,H} \\times A_{total} \n",
    "$$\n",
    "$$\n",
    "\\displaystyle\n",
    "(Aη_{A})_C= η_{A,C} \\times A_{total} \n",
    "$$\n",
    "$$\n",
    "\\displaystyle\n",
    "(AU_{A})= U_{A,s} \\times A_{total} \n",
    "$$"
   ]
  },
  {
   "cell_type": "markdown",
   "metadata": {},
   "source": [
    "$U_{A,s}$: 外皮平均熱貫流率の基準値, W/(m<sup>2</sup>・K)  \n",
    "$η_{A,H}$: 暖房期の外皮平均日射熱取得率の基準値, -  \n",
    "$η_{A,C}$: 冷房期の外皮平均日射熱取得率の基準値, -  \n",
    "$A_{total}$: 総外皮面積, m<sup>2</sup>  \n",
    "添字$H$: 暖房期  \n",
    "添字$C$: 冷房期  "
   ]
  },
  {
   "cell_type": "markdown",
   "metadata": {},
   "source": [
    "$$\n",
    "\\displaystyle\n",
    "(AUν)_H= \\sum_{}^{}(A_{o,i} \\times U_{S,o,i} \\times ν_{H,o,i})\n",
    "$$\n",
    "$$\n",
    "\\displaystyle\n",
    "(AUν)_C= \\sum_{}^{}(A_{o,i} \\times U_{S,o,i} \\times ν_{C,o,i})\n",
    "$$"
   ]
  },
  {
   "cell_type": "markdown",
   "metadata": {},
   "source": [
    "$ν$: 部位の方位係数, -  \n",
    "$A$: 部位の面積, m<sup>2</sup>  \n",
    "$U_{o,s,i}$: 開口部以外の外皮の第$i$番目の部位の熱貫流率の基準値, W/(m<sup>2</sup>・K)  \n",
    "添字$o,i$: 開口部以外の外皮の第$i$番目の部位  "
   ]
  },
  {
   "cell_type": "markdown",
   "metadata": {},
   "source": [
    "$$\n",
    "\\displaystyle\n",
    "(Afν)_H= \\sum_{}^{}(A_{w,i} \\times f_{s,w,i} \\times ν_{H,w,i})\n",
    "$$\n",
    "$$\n",
    "\\displaystyle\n",
    "(Afν)_C= \\sum_{}^{}(A_{w,i} \\times f_{s,w,i} \\times ν_{C,w,i})\n",
    "$$"
   ]
  },
  {
   "cell_type": "markdown",
   "metadata": {},
   "source": [
    "$f$: 部位の日射取得率補正係数, -  \n",
    "添字$w,i$: 開口部の第$i$番目の部位  "
   ]
  },
  {
   "cell_type": "markdown",
   "metadata": {},
   "source": [
    "$U_{s}$: 開口部以外の外皮の第$i$番目の部位の熱貫流率の基準値, W/(m<sup>2</sup>・K)  \n",
    "添字$i$: 外皮の第$i$番目の部位  \n",
    "添字$s,i$: 日射の当たる部位（屋根または天井、外壁、開口部）の第$i$番目の部位  \n",
    "添字$n,i$: 日射の当たらない部位（床）の第$i$番目の部位  "
   ]
  },
  {
   "cell_type": "markdown",
   "metadata": {},
   "source": [
    "#### Function"
   ]
  },
  {
   "cell_type": "code",
   "execution_count": null,
   "metadata": {},
   "outputs": [],
   "source": [
    "# 一般部位、窓、ドア、土間床等の外周部のリストを作成\n",
    "def get_l_parts(l_general_parts, l_windows, l_doors, l_earthfloor_perimeters):\n",
    "\n",
    "    # 一般部位\n",
    "    general_parts = [Parts(area = p['area'], ptype = p['general_part_type'], nextspace = p['next_space'], direction = p['direction']) \n",
    "                     for p in l_general_parts]\n",
    "    \n",
    "    # 窓\n",
    "    windows = [Parts(area = p['area'], ptype = 'window', nextspace = p['next_space'], direction = p['direction']) for p in l_windows]\n",
    "    \n",
    "    # ドア\n",
    "    doors = [Parts(area = p['area'], ptype = 'door', nextspace = p['next_space'], direction = p['direction']) for p in l_doors]\n",
    "    \n",
    "    # 土間床等の外周部\n",
    "    earthfloor_perimeters = [Parts(area = p['length'], ptype = 'earthfloor_perimeter', nextspace = p['next_space'], direction = p['direction'])\n",
    "                             for p in l_earthfloor_perimeters]\n",
    "    \n",
    "    return general_parts + windows + doors + earthfloor_perimeters"
   ]
  },
  {
   "cell_type": "code",
   "execution_count": null,
   "metadata": {},
   "outputs": [],
   "source": [
    "def calc_adjustment_factor( d ):\n",
    "    \n",
    "    house_type = d['common']['house_type']\n",
    "    region     = d['common']['region']\n",
    "    envelope   = d['envelope']\n",
    "    total_area = get_total_area(envelope)    \n",
    "    \n",
    "    # 部位のリスト作成\n",
    "    parts = get_l_parts(envelope['general_parts'],envelope['windows'],envelope['doors'],envelope['earthfloor_perimeters'])\n",
    "    \n",
    "    # 部位種類のリスト取得\n",
    "    l_part_type = get_list_part_type()\n",
    "    l_sunshine_part_type = get_list_sunshine_part_type()\n",
    "    l_no_sunshine_part_type = get_list_no_sunshine_part_type()\n",
    "    \n",
    "    # 各種設定値の取得\n",
    "    q_std_U = get_q_std_U(region, parts, l_part_type)\n",
    "    qs_std_U = get_q_std_U(region, parts, l_sunshine_part_type)\n",
    "    qn_std_U = get_q_std_U(region, parts, l_no_sunshine_part_type)\n",
    "    qn_max_U = get_q_max_U(region, parts, l_no_sunshine_part_type)\n",
    "    qn_min_U = get_q_min_U(region, parts, l_no_sunshine_part_type)\n",
    "\n",
    "    # 熱貫流率の調整係数の上下限値\n",
    "    fUs_max, fUs_min = get_fUs_range(region, envelope['index']['UA'], total_area, qs_std_U, qn_max_U, qn_min_U, l_sunshine_part_type)\n",
    "    fUn_max, fUn_min = get_fUn_range(region, envelope['index']['UA'], total_area, qs_std_U, qn_std_U, \n",
    "                                     l_sunshine_part_type, l_no_sunshine_part_type)\n",
    "\n",
    "    # fUs, fUn, ηの算出\n",
    "    fUs, fUn, eta = get_fU_and_eta(region, envelope['index']['UA'], total_area, parts,\n",
    "                                   envelope['index']['etaAH'], envelope['index']['etaAC'],\n",
    "                                   fUs_min, fUs_max, fUn_min, fUn_max, q_std_U, qs_std_U, qn_std_U, l_sunshine_part_type)\n",
    "\n",
    "    # 部位別のU値の上下限値\n",
    "    part_U = { x : max(get_min_U(x), min(get_max_U(x), (fUn if x=='floor' or x =='earthfloor_perimeter' else fUs) * get_std_U(region, x))) \\\n",
    "              for x in ['roof','ceiling','wall','floor','window','door', 'earthfloor_perimeter'] }\n",
    "    \n",
    "    # 検算\n",
    "    UA_check, eta_check = check_UA_and_etaA( total_area, envelope['general_parts'], envelope['windows'], envelope['doors'], \\\n",
    "                                            envelope['earthfloor_perimeters'], \\\n",
    "                                            part_U, eta, region, parts, l_sunshine_part_type, l_no_sunshine_part_type)\n",
    "    \n",
    "    print(\"U値{0},開口部η{1},開口部ηH{2},開口部ηC{3}\".format(part_U, eta['annual'], eta['heating'], eta['cooling']))  \n",
    "    print(\"UA計算値{0},ηAH計算値{1},ηAC計算値{2}\".format(UA_check, eta_check['heating'], eta_check['cooling']))\n",
    "    \n",
    "    return eta['annual'], eta['heating'], eta['cooling'], part_U"
   ]
  }
 ],
 "metadata": {
  "kernelspec": {
   "display_name": "Python 3",
   "language": "python",
   "name": "python3"
  },
  "language_info": {
   "codemirror_mode": {
    "name": "ipython",
    "version": 3
   },
   "file_extension": ".py",
   "mimetype": "text/x-python",
   "name": "python",
   "nbconvert_exporter": "python",
   "pygments_lexer": "ipython3",
   "version": "3.7.0"
  }
 },
 "nbformat": 4,
 "nbformat_minor": 2
}
