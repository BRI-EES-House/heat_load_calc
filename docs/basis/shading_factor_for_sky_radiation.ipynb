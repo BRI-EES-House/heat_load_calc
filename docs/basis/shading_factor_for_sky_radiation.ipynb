{
 "cells": [
  {
   "cell_type": "markdown",
   "metadata": {},
   "source": [
    "# 無限に長い庇による天空日射の遮へい効果の計算"
   ]
  },
  {
   "cell_type": "markdown",
   "metadata": {},
   "source": [
    "<div style=\"text-align: right;\">佐藤エネルギーリサーチ（株）</div>"
   ]
  },
  {
   "cell_type": "markdown",
   "metadata": {},
   "source": [
    "## はじめに"
   ]
  },
  {
   "cell_type": "markdown",
   "metadata": {},
   "source": [
    "無限に長い庇について、天空日射に対する遮へい効果の計算法について述べる。"
   ]
  },
  {
   "cell_type": "markdown",
   "metadata": {},
   "source": [
    "## 各部寸法"
   ]
  },
  {
   "cell_type": "markdown",
   "metadata": {},
   "source": [
    "窓、庇共に無限に長いと仮定し、下図のような寸法が与えられるとする。"
   ]
  },
  {
   "attachments": {},
   "cell_type": "markdown",
   "metadata": {},
   "source": [
    "<img src=\"fig/solar_shading.png\" width=20%>"
   ]
  },
  {
   "cell_type": "markdown",
   "metadata": {},
   "source": [
    "<div style=\"text-align: center;\">図 1　無限に長い庇の寸法</div>"
   ]
  },
  {
   "cell_type": "markdown",
   "metadata": {},
   "source": [
    "## 形態係数の計算方法"
   ]
  },
  {
   "cell_type": "markdown",
   "metadata": {},
   "source": [
    "窓、庇が無限に続くと仮定したため、2次元で扱えばよい。クロス・ストリング法を適用すると、窓から庇を見る形態係数は下式となる。"
   ]
  },
  {
   "cell_type": "markdown",
   "metadata": {},
   "source": [
    "$$\n",
    "\\begin{eqnarray*}\n",
    "\\varphi &=& \\frac{ ( AC + BD ) - ( AD + BC ) }{ 2 DC } \\\\\n",
    "   &=& \\frac{ ( ( y_1 + y_w ) + \\sqrt{ y_1^2 + z^2 } )- ( y_1 + \\sqrt{ ( y_1 + y_w )^2 + z^2 ) } }{ 2 y_w }\n",
    "\\end{eqnarray*}\n",
    "$$"
   ]
  },
  {
   "cell_type": "markdown",
   "metadata": {},
   "source": [
    "ここで、\n",
    "\n",
    "$\\varphi$：\t窓から庇を見る形態係数 -"
   ]
  },
  {
   "cell_type": "markdown",
   "metadata": {},
   "source": [
    "## 無限に長い庇があるときの窓の天空透過日射熱取得"
   ]
  },
  {
   "cell_type": "markdown",
   "metadata": {},
   "source": [
    "無限に長い庇があるときの窓の天空透過日射熱取得は下式となる。"
   ]
  },
  {
   "cell_type": "markdown",
   "metadata": {},
   "source": [
    "$$ Q_{GT,d} = A \\cdot ( 1 - \\varphi ) \\cdot \\tau_N \\cdot c \\cdot I_d $$"
   ]
  },
  {
   "cell_type": "markdown",
   "metadata": {},
   "source": [
    "ここで、  \n",
    "$Q_{GT,d}$：天空透過日射熱取得, W\n",
    "$A$：窓面積, m<sup>2</sup>  \n",
    "$\\tau_N$：窓の垂直入射時透過率, -  \n",
    "$c$：窓の拡散光に対する入射角特性  \n",
    "$I_d$：窓に入射する天空日射, W/m<sup>2</sup>"
   ]
  },
  {
   "cell_type": "code",
   "execution_count": 1,
   "metadata": {},
   "outputs": [],
   "source": [
    "# AD\n",
    "y1 = 0.0"
   ]
  },
  {
   "cell_type": "code",
   "execution_count": 2,
   "metadata": {},
   "outputs": [],
   "source": [
    "# DC\n",
    "yw = 1.8"
   ]
  },
  {
   "cell_type": "code",
   "execution_count": 3,
   "metadata": {},
   "outputs": [],
   "source": [
    "# AB\n",
    "z = 0.6"
   ]
  },
  {
   "cell_type": "code",
   "execution_count": 4,
   "metadata": {},
   "outputs": [
    {
     "data": {
      "text/plain": [
       "1.8973665961010275"
      ]
     },
     "execution_count": 4,
     "metadata": {},
     "output_type": "execute_result"
    }
   ],
   "source": [
    "# BC\n",
    "BC = ((y1 + yw)**2 + z**2)**0.5\n",
    "BC"
   ]
  },
  {
   "cell_type": "code",
   "execution_count": 5,
   "metadata": {},
   "outputs": [
    {
     "data": {
      "text/plain": [
       "0.6"
      ]
     },
     "execution_count": 5,
     "metadata": {},
     "output_type": "execute_result"
    }
   ],
   "source": [
    "# BD\n",
    "BD = (y1**2 + z**2)**0.5\n",
    "BD"
   ]
  },
  {
   "cell_type": "code",
   "execution_count": 6,
   "metadata": {},
   "outputs": [
    {
     "data": {
      "text/plain": [
       "1.8"
      ]
     },
     "execution_count": 6,
     "metadata": {},
     "output_type": "execute_result"
    }
   ],
   "source": [
    "# AC\n",
    "AC = y1 + yw\n",
    "AC"
   ]
  },
  {
   "cell_type": "code",
   "execution_count": 7,
   "metadata": {},
   "outputs": [
    {
     "data": {
      "text/plain": [
       "0.13962038997193676"
      ]
     },
     "execution_count": 7,
     "metadata": {},
     "output_type": "execute_result"
    }
   ],
   "source": [
    "# 形態係数\n",
    "f = ((AC + BD) - (y1 + BC)) / (2 * yw)\n",
    "f"
   ]
  }
 ],
 "metadata": {
  "kernelspec": {
   "display_name": "Python 3",
   "language": "python",
   "name": "python3"
  },
  "language_info": {
   "codemirror_mode": {
    "name": "ipython",
    "version": 3
   },
   "file_extension": ".py",
   "mimetype": "text/x-python",
   "name": "python",
   "nbconvert_exporter": "python",
   "pygments_lexer": "ipython3",
   "version": "3.7.6"
  },
  "pycharm": {
   "stem_cell": {
    "cell_type": "raw",
    "metadata": {
     "collapsed": false
    },
    "source": []
   }
  }
 },
 "nbformat": 4,
 "nbformat_minor": 1
}
