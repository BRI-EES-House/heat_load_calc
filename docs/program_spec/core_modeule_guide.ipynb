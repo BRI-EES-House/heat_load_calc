{
 "cells": [
  {
   "cell_type": "code",
   "execution_count": 1,
   "metadata": {
    "collapsed": true,
    "pycharm": {
     "is_executing": false
    }
   },
   "outputs": [],
   "source": [
    "import sys\n",
    "import numpy as np\n",
    "import pandas as pd\n",
    "import json\n",
    "\n",
    "sys.path.append('../..')\n",
    "\n",
    "from heat_load_calc.core import core"
   ]
  },
  {
   "cell_type": "markdown",
   "source": [
    "# モジュール core\n",
    "\n",
    "## Outline\n",
    "\n",
    "モジュール core は建物仕様・外気温湿度...(後で詳細に記述）...を与えることで、ステップごとのループ計算を行い、室温度・湿度、暖冷房負荷を計算するモジュールです。\n",
    "\n",
    "## Interface\n",
    "\n",
    "calc(input_data_dir, output_data_dir = None, show_simple_result = False, show_detail_result = False)\n",
    "\n",
    "params:\n",
    "\n",
    "| パラメータ名　| 型 | 概要 |\n",
    "| :---: | :---: | :---: |\n",
    "| input_data_dir | str | 入力データが格納されたディレクトリを指定します。 |\n",
    "| output_data_dir | str | （省略可能）　　計算された室温度・湿度、暖冷房負荷等をCSVで出力するフォルダを指定します。CSVを出力しない場合は省略可能。 |\n",
    "| show_simple_result | bool | (省略可能) 　計算結果（概要版）をはきだす場合はTrueにします。はきださない場合はFalseを指定しないか省略する。 |\n",
    "| show_detail_result | bool | (省略可能) 　計算結果（詳細版）をはきだす場合はTrueにします。はきださない場合はFalseを指定しないか省略する。 |\n",
    "\n",
    "returns:\n",
    "\n",
    "計算結果の概要版と詳細版をpandas.DataFrame 形式で返します。  \n",
    "2つの pandas.DataFrame 形式ファイルを、タプル形式で返します。  \n",
    "(簡易版計算結果, 詳細版計算結果)\n",
    "\n",
    "簡易版計算結果の行インデクスは日時型（例：1999-01-01 00:00:00)、列インデクスは以下の値をとります。  \n",
    "行インデックスは1時間ごとのデータです。  \n",
    "\n",
    "| 列名 | 単位 | 概要 |\n",
    "| --- | --- | --- |\n",
    "| temperature [degree C] | ℃ | 外気温度 |\n",
    "| absolute humidity [kg/kg(DA)] | kg/kg(DA) | 外気絶対湿度 |\n",
    "| normal direct solar radiation [W/m] | W/m2| 法線面直達日射量 |\n",
    "| horizontal sky solar radiation [W/m2] | W/m2 | 水平面天空日射量 |\n",
    "| outward radiation [W/m2] | W/m2 | 夜間放射量 |\n",
    "| sun altitude [rad] | rad | 太陽高度 |\n",
    "| sun azimuth [rad] | rad | 太陽方位角 |\n",
    "\n",
    "上記、工事中"
   ],
   "metadata": {
    "collapsed": false
   }
  },
  {
   "cell_type": "markdown",
   "source": [
    "### 用意するファイル"
   ],
   "metadata": {
    "collapsed": false,
    "pycharm": {
     "name": "#%% md\n"
    }
   }
  },
  {
   "cell_type": "markdown",
   "source": [
    "#### mid_data_house.json"
   ],
   "metadata": {
    "collapsed": false
   }
  },
  {
   "cell_type": "markdown",
   "source": [
    "json ファイルの仕様"
   ],
   "metadata": {
    "collapsed": false
   }
  },
  {
   "cell_type": "code",
   "source": [
    "pd.read_csv('spec_mid_data.csv')"
   ],
   "metadata": {
    "collapsed": false,
    "pycharm": {
     "name": "#%%\n",
     "is_executing": false
    }
   },
   "execution_count": 2,
   "outputs": [
    {
     "data": {
      "text/plain": "    階層1  階層2  階層3  階層4  階層5  階層6                   項目名                 key  \\\n0     〇  NaN  NaN  NaN  NaN  NaN                    空間              spaces   \n1   NaN    〇  NaN  NaN  NaN  NaN                 室通し番号                  id   \n2   NaN    〇  NaN  NaN  NaN  NaN                    室名                name   \n3   NaN    〇  NaN  NaN  NaN  NaN                   室気積              volume   \n4   NaN    〇  NaN  NaN  NaN  NaN                相当隙間面積             c_value   \n5   NaN    〇  NaN  NaN  NaN  NaN           放射暖房の対流放熱比率                beta   \n6   NaN    〇  NaN  NaN  NaN  NaN                    換気         ventilation   \n7   NaN  NaN    〇  NaN  NaN  NaN               機械換気流入量          mechanical   \n8   NaN  NaN    〇  NaN  NaN  NaN              隣室間換気流入量         next_spaces   \n9   NaN  NaN    〇  NaN  NaN  NaN            自然風利用時の換気量             natural   \n10  NaN    〇  NaN  NaN  NaN  NaN                    家具           furniture   \n11  NaN  NaN    〇  NaN  NaN  NaN               家具等の熱容量       heat_capacity   \n12  NaN  NaN    〇  NaN  NaN  NaN      家具等と空気間の熱コンダクタンス           heat_cond   \n13  NaN  NaN    〇  NaN  NaN  NaN              家具等の湿気容量   moisture_capacity   \n14  NaN  NaN    〇  NaN  NaN  NaN     家具等と空気間の湿気コンダクタンス       moisture_cond   \n15  NaN    〇  NaN  NaN  NaN  NaN                  設備機器           equipment   \n16  NaN  NaN    〇  NaN  NaN  NaN                  暖房設備             heaintg   \n17  NaN  NaN  NaN    〇  NaN  NaN                放射暖房設備           radiative   \n18  NaN  NaN  NaN  NaN    〇  NaN             放射暖房設備の有無           installed   \n19  NaN  NaN  NaN  NaN  NaN    〇         放射暖房設備の最大暖房出力        max_capacity   \n20  NaN  NaN  NaN    〇  NaN  NaN                対流暖房設備          convective   \n21  NaN  NaN  NaN  NaN    〇  NaN             対流暖房設備の有無           installed   \n22  NaN  NaN    〇  NaN  NaN  NaN                  冷房設備             cooling   \n23  NaN  NaN  NaN    〇  NaN  NaN                放射冷房設備           radiative   \n24  NaN  NaN  NaN  NaN    〇  NaN             放射冷房設備の有無           installed   \n25  NaN  NaN  NaN  NaN  NaN    〇         放射冷房設備の最大暖房出力        max_capacity   \n26  NaN  NaN  NaN    〇  NaN  NaN                対流冷房設備          convective   \n27  NaN  NaN  NaN  NaN    〇  NaN             対流冷房設備の有無           installed   \n28  NaN  NaN  NaN  NaN  NaN    〇         対流冷房設備の最小冷房能力               q_min   \n29  NaN  NaN  NaN  NaN  NaN    〇         対流冷房設備の最大冷房能力               q_max   \n30  NaN  NaN  NaN  NaN  NaN    〇           対流冷房設備の最小風量               v_min   \n31  NaN  NaN  NaN  NaN  NaN    〇           対流冷房設備の最大風量               v_max   \n32    〇  NaN  NaN  NaN  NaN  NaN                    境界          boundaries   \n33  NaN    〇  NaN  NaN  NaN  NaN                境界通し番号                  id   \n34  NaN    〇  NaN  NaN  NaN  NaN                  境界名称                name   \n35  NaN    〇  NaN  NaN  NaN  NaN                境界の副名称            sub_name   \n36  NaN    〇  NaN  NaN  NaN  NaN                 土壌の有無           is_ground   \n37  NaN    〇  NaN  NaN  NaN  NaN             隣接する空間のID  connected_space_id   \n38  NaN    〇  NaN  NaN  NaN  NaN                    面積                area   \n39  NaN    〇  NaN  NaN  NaN  NaN             吸熱応答係数の初項              phi_a0   \n40  NaN    〇  NaN  NaN  NaN  NaN            指数項別吸熱応答係数              phi_a1   \n41  NaN    〇  NaN  NaN  NaN  NaN             貫流応答係数の初項              phi_t0   \n42  NaN    〇  NaN  NaN  NaN  NaN            指数項別貫流応答係数              phi_t1   \n43  NaN    〇  NaN  NaN  NaN  NaN                    公比                   r   \n44  NaN    〇  NaN  NaN  NaN  NaN             室内側総合熱伝達率                 h_i   \n45  NaN    〇  NaN  NaN  NaN  NaN        放射暖房熱量の室内側吸収比率                 flr   \n46  NaN    〇  NaN  NaN  NaN  NaN           室内侵入日射吸収の有無   is_solar_absorbed   \n47  NaN    〇  NaN  NaN  NaN  NaN         部位の人体に対する形態係数           f_mrt_hum   \n48  NaN    〇  NaN  NaN  NaN  NaN  隣室温度差係数（室外側相当外気温度基準）           k_outside   \n49  NaN    〇  NaN  NaN  NaN  NaN                 隣室の影響            k_inside   \n50  NaN  NaN    〇  NaN  NaN  NaN             裏面の境界通し番号                  id   \n51  NaN  NaN    〇  NaN  NaN  NaN         裏面の境界の影響を表す係数                coef   \n\n   入力必須条件 ○：必須項目 △：上位項目が必須の場合において必須項目        ID:value                  ID:意味  \\\n0                                   〇               －                      －   \n1                                   〇               －                      －   \n2                                   〇               －                      －   \n3                                   〇               －                      －   \n4                                   〇               －                      －   \n5                                   〇               －                      －   \n6                                   〇               －                      －   \n7                                   〇               －                      －   \n8                                   〇               －                      －   \n9                                   〇               －                      －   \n10                                  〇               －                      －   \n11                                  〇               －                      －   \n12                                  〇               －                      －   \n13                                  〇               －                      －   \n14                                  〇               －                      －   \n15                                  〇               －                      －   \n16                                  〇               －                      －   \n17                                  〇               －                      －   \n18                                  〇  1:true 2:false  1:放射暖房設備あり 2:放射暖房設備なし   \n19            installedがtrueの場合に定義される               －                      －   \n20                                  〇               －                      －   \n21                                  〇  1:true 2:false  1:対流暖房設備あり 2:対流暖房設備なし   \n22                                  〇               －                      －   \n23                                  〇               －                      －   \n24                                  〇  1:true 2:false  1:放射暖房設備あり 2:放射暖房設備なし   \n25            installedがtrueの場合に定義される               －                      －   \n26                                  〇               －                      －   \n27                                  〇  1:true 2:false  1:対流冷房設備あり 2:対流冷房設備なし   \n28            installedがtrueの場合に定義される               －                      －   \n29            installedがtrueの場合に定義される               －                      －   \n30            installedがtrueの場合に定義される               －                      －   \n31            installedがtrueの場合に定義される               －                      －   \n32                                  〇               －                      －   \n33                                  〇               －                      －   \n34                                  〇               －                      －   \n35                                  〇               －                      －   \n36                                  〇  1:true 2:false          1:土壌あり 2:土壌なし   \n37                                  〇             NaN                    NaN   \n38                                  〇               －                      －   \n39                                  〇               －                      －   \n40                                  〇               －                      －   \n41                                  〇               －                      －   \n42                                  〇               －                      －   \n43                                  〇               －                      －   \n44                                  〇               －                      －   \n45                                  〇               －                      －   \n46                                  〇               －                      －   \n47                                  〇               －                      －   \n48                                  〇               －                      －   \n49                                  〇             NaN                    NaN   \n50           k_insideがnullでない場合に定義される               －                      －   \n51           k_insideがnullでない場合に定義される               －                      －   \n\n              型               単位                        備考  \n0             －                －                       NaN  \n1           int                －                       NaN  \n2           str                －                       NaN  \n3         float               m3                       NaN  \n4         float           cm2/m2                       NaN  \n5         float                －                       NaN  \n6             －                －                       NaN  \n7         float           m3/sec                       NaN  \n8   List[float]           m3/sec         配列番号と室id番号が対応している  \n9         float           m3/sec                       NaN  \n10            －                －                       NaN  \n11        float              J/K             12.6kJ/(m3･K)  \n12        float              W/K              0.00022[1/s]  \n13        float     kg/(kg/kgDA)    16.8 kg/(m3･(kg/kgDA))  \n14        float  kg/(s･kg/kgDA))              0.0018 [1/s]  \n15            －                －                       NaN  \n16            －                －                       NaN  \n17            －                －                       NaN  \n18      boolean                －                       NaN  \n19        float                W                       NaN  \n20            －                －                       NaN  \n21      boolean                －                       NaN  \n22            －                －                       NaN  \n23            －                －                       NaN  \n24      boolean                －                       NaN  \n25        float                W                       NaN  \n26            －                －                       NaN  \n27      boolean                －                       NaN  \n28        float                W                       NaN  \n29        float                W                       NaN  \n30        float              NaN                       NaN  \n31        float              NaN                       NaN  \n32            －                －                       NaN  \n33          int              NaN                       NaN  \n34          str                －   ex:integrated_boundary0  \n35          str                －    ex:north_exterior_wall  \n36      boolean                －                       NaN  \n37          NaN              NaN                       NaN  \n38        float               m2                       NaN  \n39        float           m2･K/W                       NaN  \n40  List[float]           m2･K/W                       NaN  \n41        float                －                       NaN  \n42  List[float]                －                       NaN  \n43  List[float]                －                       NaN  \n44        float         W/(m2・K)                       NaN  \n45        float                －                       NaN  \n46      boolean                －                       NaN  \n47        float                －                       NaN  \n48        float                －                       NaN  \n49          NaN              NaN  隣室がない場合はk_insideがnullとなる  \n50          int                －                       NaN  \n51        float                －                       NaN  ",
      "text/html": "<div>\n<style scoped>\n    .dataframe tbody tr th:only-of-type {\n        vertical-align: middle;\n    }\n\n    .dataframe tbody tr th {\n        vertical-align: top;\n    }\n\n    .dataframe thead th {\n        text-align: right;\n    }\n</style>\n<table border=\"1\" class=\"dataframe\">\n  <thead>\n    <tr style=\"text-align: right;\">\n      <th></th>\n      <th>階層1</th>\n      <th>階層2</th>\n      <th>階層3</th>\n      <th>階層4</th>\n      <th>階層5</th>\n      <th>階層6</th>\n      <th>項目名</th>\n      <th>key</th>\n      <th>入力必須条件 ○：必須項目 △：上位項目が必須の場合において必須項目</th>\n      <th>ID:value</th>\n      <th>ID:意味</th>\n      <th>型</th>\n      <th>単位</th>\n      <th>備考</th>\n    </tr>\n  </thead>\n  <tbody>\n    <tr>\n      <th>0</th>\n      <td>〇</td>\n      <td>NaN</td>\n      <td>NaN</td>\n      <td>NaN</td>\n      <td>NaN</td>\n      <td>NaN</td>\n      <td>空間</td>\n      <td>spaces</td>\n      <td>〇</td>\n      <td>－</td>\n      <td>－</td>\n      <td>－</td>\n      <td>－</td>\n      <td>NaN</td>\n    </tr>\n    <tr>\n      <th>1</th>\n      <td>NaN</td>\n      <td>〇</td>\n      <td>NaN</td>\n      <td>NaN</td>\n      <td>NaN</td>\n      <td>NaN</td>\n      <td>室通し番号</td>\n      <td>id</td>\n      <td>〇</td>\n      <td>－</td>\n      <td>－</td>\n      <td>int</td>\n      <td>－</td>\n      <td>NaN</td>\n    </tr>\n    <tr>\n      <th>2</th>\n      <td>NaN</td>\n      <td>〇</td>\n      <td>NaN</td>\n      <td>NaN</td>\n      <td>NaN</td>\n      <td>NaN</td>\n      <td>室名</td>\n      <td>name</td>\n      <td>〇</td>\n      <td>－</td>\n      <td>－</td>\n      <td>str</td>\n      <td>－</td>\n      <td>NaN</td>\n    </tr>\n    <tr>\n      <th>3</th>\n      <td>NaN</td>\n      <td>〇</td>\n      <td>NaN</td>\n      <td>NaN</td>\n      <td>NaN</td>\n      <td>NaN</td>\n      <td>室気積</td>\n      <td>volume</td>\n      <td>〇</td>\n      <td>－</td>\n      <td>－</td>\n      <td>float</td>\n      <td>m3</td>\n      <td>NaN</td>\n    </tr>\n    <tr>\n      <th>4</th>\n      <td>NaN</td>\n      <td>〇</td>\n      <td>NaN</td>\n      <td>NaN</td>\n      <td>NaN</td>\n      <td>NaN</td>\n      <td>相当隙間面積</td>\n      <td>c_value</td>\n      <td>〇</td>\n      <td>－</td>\n      <td>－</td>\n      <td>float</td>\n      <td>cm2/m2</td>\n      <td>NaN</td>\n    </tr>\n    <tr>\n      <th>5</th>\n      <td>NaN</td>\n      <td>〇</td>\n      <td>NaN</td>\n      <td>NaN</td>\n      <td>NaN</td>\n      <td>NaN</td>\n      <td>放射暖房の対流放熱比率</td>\n      <td>beta</td>\n      <td>〇</td>\n      <td>－</td>\n      <td>－</td>\n      <td>float</td>\n      <td>－</td>\n      <td>NaN</td>\n    </tr>\n    <tr>\n      <th>6</th>\n      <td>NaN</td>\n      <td>〇</td>\n      <td>NaN</td>\n      <td>NaN</td>\n      <td>NaN</td>\n      <td>NaN</td>\n      <td>換気</td>\n      <td>ventilation</td>\n      <td>〇</td>\n      <td>－</td>\n      <td>－</td>\n      <td>－</td>\n      <td>－</td>\n      <td>NaN</td>\n    </tr>\n    <tr>\n      <th>7</th>\n      <td>NaN</td>\n      <td>NaN</td>\n      <td>〇</td>\n      <td>NaN</td>\n      <td>NaN</td>\n      <td>NaN</td>\n      <td>機械換気流入量</td>\n      <td>mechanical</td>\n      <td>〇</td>\n      <td>－</td>\n      <td>－</td>\n      <td>float</td>\n      <td>m3/sec</td>\n      <td>NaN</td>\n    </tr>\n    <tr>\n      <th>8</th>\n      <td>NaN</td>\n      <td>NaN</td>\n      <td>〇</td>\n      <td>NaN</td>\n      <td>NaN</td>\n      <td>NaN</td>\n      <td>隣室間換気流入量</td>\n      <td>next_spaces</td>\n      <td>〇</td>\n      <td>－</td>\n      <td>－</td>\n      <td>List[float]</td>\n      <td>m3/sec</td>\n      <td>配列番号と室id番号が対応している</td>\n    </tr>\n    <tr>\n      <th>9</th>\n      <td>NaN</td>\n      <td>NaN</td>\n      <td>〇</td>\n      <td>NaN</td>\n      <td>NaN</td>\n      <td>NaN</td>\n      <td>自然風利用時の換気量</td>\n      <td>natural</td>\n      <td>〇</td>\n      <td>－</td>\n      <td>－</td>\n      <td>float</td>\n      <td>m3/sec</td>\n      <td>NaN</td>\n    </tr>\n    <tr>\n      <th>10</th>\n      <td>NaN</td>\n      <td>〇</td>\n      <td>NaN</td>\n      <td>NaN</td>\n      <td>NaN</td>\n      <td>NaN</td>\n      <td>家具</td>\n      <td>furniture</td>\n      <td>〇</td>\n      <td>－</td>\n      <td>－</td>\n      <td>－</td>\n      <td>－</td>\n      <td>NaN</td>\n    </tr>\n    <tr>\n      <th>11</th>\n      <td>NaN</td>\n      <td>NaN</td>\n      <td>〇</td>\n      <td>NaN</td>\n      <td>NaN</td>\n      <td>NaN</td>\n      <td>家具等の熱容量</td>\n      <td>heat_capacity</td>\n      <td>〇</td>\n      <td>－</td>\n      <td>－</td>\n      <td>float</td>\n      <td>J/K</td>\n      <td>12.6kJ/(m3･K)</td>\n    </tr>\n    <tr>\n      <th>12</th>\n      <td>NaN</td>\n      <td>NaN</td>\n      <td>〇</td>\n      <td>NaN</td>\n      <td>NaN</td>\n      <td>NaN</td>\n      <td>家具等と空気間の熱コンダクタンス</td>\n      <td>heat_cond</td>\n      <td>〇</td>\n      <td>－</td>\n      <td>－</td>\n      <td>float</td>\n      <td>W/K</td>\n      <td>0.00022[1/s]</td>\n    </tr>\n    <tr>\n      <th>13</th>\n      <td>NaN</td>\n      <td>NaN</td>\n      <td>〇</td>\n      <td>NaN</td>\n      <td>NaN</td>\n      <td>NaN</td>\n      <td>家具等の湿気容量</td>\n      <td>moisture_capacity</td>\n      <td>〇</td>\n      <td>－</td>\n      <td>－</td>\n      <td>float</td>\n      <td>kg/(kg/kgDA)</td>\n      <td>16.8 kg/(m3･(kg/kgDA))</td>\n    </tr>\n    <tr>\n      <th>14</th>\n      <td>NaN</td>\n      <td>NaN</td>\n      <td>〇</td>\n      <td>NaN</td>\n      <td>NaN</td>\n      <td>NaN</td>\n      <td>家具等と空気間の湿気コンダクタンス</td>\n      <td>moisture_cond</td>\n      <td>〇</td>\n      <td>－</td>\n      <td>－</td>\n      <td>float</td>\n      <td>kg/(s･kg/kgDA))</td>\n      <td>0.0018 [1/s]</td>\n    </tr>\n    <tr>\n      <th>15</th>\n      <td>NaN</td>\n      <td>〇</td>\n      <td>NaN</td>\n      <td>NaN</td>\n      <td>NaN</td>\n      <td>NaN</td>\n      <td>設備機器</td>\n      <td>equipment</td>\n      <td>〇</td>\n      <td>－</td>\n      <td>－</td>\n      <td>－</td>\n      <td>－</td>\n      <td>NaN</td>\n    </tr>\n    <tr>\n      <th>16</th>\n      <td>NaN</td>\n      <td>NaN</td>\n      <td>〇</td>\n      <td>NaN</td>\n      <td>NaN</td>\n      <td>NaN</td>\n      <td>暖房設備</td>\n      <td>heaintg</td>\n      <td>〇</td>\n      <td>－</td>\n      <td>－</td>\n      <td>－</td>\n      <td>－</td>\n      <td>NaN</td>\n    </tr>\n    <tr>\n      <th>17</th>\n      <td>NaN</td>\n      <td>NaN</td>\n      <td>NaN</td>\n      <td>〇</td>\n      <td>NaN</td>\n      <td>NaN</td>\n      <td>放射暖房設備</td>\n      <td>radiative</td>\n      <td>〇</td>\n      <td>－</td>\n      <td>－</td>\n      <td>－</td>\n      <td>－</td>\n      <td>NaN</td>\n    </tr>\n    <tr>\n      <th>18</th>\n      <td>NaN</td>\n      <td>NaN</td>\n      <td>NaN</td>\n      <td>NaN</td>\n      <td>〇</td>\n      <td>NaN</td>\n      <td>放射暖房設備の有無</td>\n      <td>installed</td>\n      <td>〇</td>\n      <td>1:true 2:false</td>\n      <td>1:放射暖房設備あり 2:放射暖房設備なし</td>\n      <td>boolean</td>\n      <td>－</td>\n      <td>NaN</td>\n    </tr>\n    <tr>\n      <th>19</th>\n      <td>NaN</td>\n      <td>NaN</td>\n      <td>NaN</td>\n      <td>NaN</td>\n      <td>NaN</td>\n      <td>〇</td>\n      <td>放射暖房設備の最大暖房出力</td>\n      <td>max_capacity</td>\n      <td>installedがtrueの場合に定義される</td>\n      <td>－</td>\n      <td>－</td>\n      <td>float</td>\n      <td>W</td>\n      <td>NaN</td>\n    </tr>\n    <tr>\n      <th>20</th>\n      <td>NaN</td>\n      <td>NaN</td>\n      <td>NaN</td>\n      <td>〇</td>\n      <td>NaN</td>\n      <td>NaN</td>\n      <td>対流暖房設備</td>\n      <td>convective</td>\n      <td>〇</td>\n      <td>－</td>\n      <td>－</td>\n      <td>－</td>\n      <td>－</td>\n      <td>NaN</td>\n    </tr>\n    <tr>\n      <th>21</th>\n      <td>NaN</td>\n      <td>NaN</td>\n      <td>NaN</td>\n      <td>NaN</td>\n      <td>〇</td>\n      <td>NaN</td>\n      <td>対流暖房設備の有無</td>\n      <td>installed</td>\n      <td>〇</td>\n      <td>1:true 2:false</td>\n      <td>1:対流暖房設備あり 2:対流暖房設備なし</td>\n      <td>boolean</td>\n      <td>－</td>\n      <td>NaN</td>\n    </tr>\n    <tr>\n      <th>22</th>\n      <td>NaN</td>\n      <td>NaN</td>\n      <td>〇</td>\n      <td>NaN</td>\n      <td>NaN</td>\n      <td>NaN</td>\n      <td>冷房設備</td>\n      <td>cooling</td>\n      <td>〇</td>\n      <td>－</td>\n      <td>－</td>\n      <td>－</td>\n      <td>－</td>\n      <td>NaN</td>\n    </tr>\n    <tr>\n      <th>23</th>\n      <td>NaN</td>\n      <td>NaN</td>\n      <td>NaN</td>\n      <td>〇</td>\n      <td>NaN</td>\n      <td>NaN</td>\n      <td>放射冷房設備</td>\n      <td>radiative</td>\n      <td>〇</td>\n      <td>－</td>\n      <td>－</td>\n      <td>－</td>\n      <td>－</td>\n      <td>NaN</td>\n    </tr>\n    <tr>\n      <th>24</th>\n      <td>NaN</td>\n      <td>NaN</td>\n      <td>NaN</td>\n      <td>NaN</td>\n      <td>〇</td>\n      <td>NaN</td>\n      <td>放射冷房設備の有無</td>\n      <td>installed</td>\n      <td>〇</td>\n      <td>1:true 2:false</td>\n      <td>1:放射暖房設備あり 2:放射暖房設備なし</td>\n      <td>boolean</td>\n      <td>－</td>\n      <td>NaN</td>\n    </tr>\n    <tr>\n      <th>25</th>\n      <td>NaN</td>\n      <td>NaN</td>\n      <td>NaN</td>\n      <td>NaN</td>\n      <td>NaN</td>\n      <td>〇</td>\n      <td>放射冷房設備の最大暖房出力</td>\n      <td>max_capacity</td>\n      <td>installedがtrueの場合に定義される</td>\n      <td>－</td>\n      <td>－</td>\n      <td>float</td>\n      <td>W</td>\n      <td>NaN</td>\n    </tr>\n    <tr>\n      <th>26</th>\n      <td>NaN</td>\n      <td>NaN</td>\n      <td>NaN</td>\n      <td>〇</td>\n      <td>NaN</td>\n      <td>NaN</td>\n      <td>対流冷房設備</td>\n      <td>convective</td>\n      <td>〇</td>\n      <td>－</td>\n      <td>－</td>\n      <td>－</td>\n      <td>－</td>\n      <td>NaN</td>\n    </tr>\n    <tr>\n      <th>27</th>\n      <td>NaN</td>\n      <td>NaN</td>\n      <td>NaN</td>\n      <td>NaN</td>\n      <td>〇</td>\n      <td>NaN</td>\n      <td>対流冷房設備の有無</td>\n      <td>installed</td>\n      <td>〇</td>\n      <td>1:true 2:false</td>\n      <td>1:対流冷房設備あり 2:対流冷房設備なし</td>\n      <td>boolean</td>\n      <td>－</td>\n      <td>NaN</td>\n    </tr>\n    <tr>\n      <th>28</th>\n      <td>NaN</td>\n      <td>NaN</td>\n      <td>NaN</td>\n      <td>NaN</td>\n      <td>NaN</td>\n      <td>〇</td>\n      <td>対流冷房設備の最小冷房能力</td>\n      <td>q_min</td>\n      <td>installedがtrueの場合に定義される</td>\n      <td>－</td>\n      <td>－</td>\n      <td>float</td>\n      <td>W</td>\n      <td>NaN</td>\n    </tr>\n    <tr>\n      <th>29</th>\n      <td>NaN</td>\n      <td>NaN</td>\n      <td>NaN</td>\n      <td>NaN</td>\n      <td>NaN</td>\n      <td>〇</td>\n      <td>対流冷房設備の最大冷房能力</td>\n      <td>q_max</td>\n      <td>installedがtrueの場合に定義される</td>\n      <td>－</td>\n      <td>－</td>\n      <td>float</td>\n      <td>W</td>\n      <td>NaN</td>\n    </tr>\n    <tr>\n      <th>30</th>\n      <td>NaN</td>\n      <td>NaN</td>\n      <td>NaN</td>\n      <td>NaN</td>\n      <td>NaN</td>\n      <td>〇</td>\n      <td>対流冷房設備の最小風量</td>\n      <td>v_min</td>\n      <td>installedがtrueの場合に定義される</td>\n      <td>－</td>\n      <td>－</td>\n      <td>float</td>\n      <td>NaN</td>\n      <td>NaN</td>\n    </tr>\n    <tr>\n      <th>31</th>\n      <td>NaN</td>\n      <td>NaN</td>\n      <td>NaN</td>\n      <td>NaN</td>\n      <td>NaN</td>\n      <td>〇</td>\n      <td>対流冷房設備の最大風量</td>\n      <td>v_max</td>\n      <td>installedがtrueの場合に定義される</td>\n      <td>－</td>\n      <td>－</td>\n      <td>float</td>\n      <td>NaN</td>\n      <td>NaN</td>\n    </tr>\n    <tr>\n      <th>32</th>\n      <td>〇</td>\n      <td>NaN</td>\n      <td>NaN</td>\n      <td>NaN</td>\n      <td>NaN</td>\n      <td>NaN</td>\n      <td>境界</td>\n      <td>boundaries</td>\n      <td>〇</td>\n      <td>－</td>\n      <td>－</td>\n      <td>－</td>\n      <td>－</td>\n      <td>NaN</td>\n    </tr>\n    <tr>\n      <th>33</th>\n      <td>NaN</td>\n      <td>〇</td>\n      <td>NaN</td>\n      <td>NaN</td>\n      <td>NaN</td>\n      <td>NaN</td>\n      <td>境界通し番号</td>\n      <td>id</td>\n      <td>〇</td>\n      <td>－</td>\n      <td>－</td>\n      <td>int</td>\n      <td>NaN</td>\n      <td>NaN</td>\n    </tr>\n    <tr>\n      <th>34</th>\n      <td>NaN</td>\n      <td>〇</td>\n      <td>NaN</td>\n      <td>NaN</td>\n      <td>NaN</td>\n      <td>NaN</td>\n      <td>境界名称</td>\n      <td>name</td>\n      <td>〇</td>\n      <td>－</td>\n      <td>－</td>\n      <td>str</td>\n      <td>－</td>\n      <td>ex:integrated_boundary0</td>\n    </tr>\n    <tr>\n      <th>35</th>\n      <td>NaN</td>\n      <td>〇</td>\n      <td>NaN</td>\n      <td>NaN</td>\n      <td>NaN</td>\n      <td>NaN</td>\n      <td>境界の副名称</td>\n      <td>sub_name</td>\n      <td>〇</td>\n      <td>－</td>\n      <td>－</td>\n      <td>str</td>\n      <td>－</td>\n      <td>ex:north_exterior_wall</td>\n    </tr>\n    <tr>\n      <th>36</th>\n      <td>NaN</td>\n      <td>〇</td>\n      <td>NaN</td>\n      <td>NaN</td>\n      <td>NaN</td>\n      <td>NaN</td>\n      <td>土壌の有無</td>\n      <td>is_ground</td>\n      <td>〇</td>\n      <td>1:true 2:false</td>\n      <td>1:土壌あり 2:土壌なし</td>\n      <td>boolean</td>\n      <td>－</td>\n      <td>NaN</td>\n    </tr>\n    <tr>\n      <th>37</th>\n      <td>NaN</td>\n      <td>〇</td>\n      <td>NaN</td>\n      <td>NaN</td>\n      <td>NaN</td>\n      <td>NaN</td>\n      <td>隣接する空間のID</td>\n      <td>connected_space_id</td>\n      <td>〇</td>\n      <td>NaN</td>\n      <td>NaN</td>\n      <td>NaN</td>\n      <td>NaN</td>\n      <td>NaN</td>\n    </tr>\n    <tr>\n      <th>38</th>\n      <td>NaN</td>\n      <td>〇</td>\n      <td>NaN</td>\n      <td>NaN</td>\n      <td>NaN</td>\n      <td>NaN</td>\n      <td>面積</td>\n      <td>area</td>\n      <td>〇</td>\n      <td>－</td>\n      <td>－</td>\n      <td>float</td>\n      <td>m2</td>\n      <td>NaN</td>\n    </tr>\n    <tr>\n      <th>39</th>\n      <td>NaN</td>\n      <td>〇</td>\n      <td>NaN</td>\n      <td>NaN</td>\n      <td>NaN</td>\n      <td>NaN</td>\n      <td>吸熱応答係数の初項</td>\n      <td>phi_a0</td>\n      <td>〇</td>\n      <td>－</td>\n      <td>－</td>\n      <td>float</td>\n      <td>m2･K/W</td>\n      <td>NaN</td>\n    </tr>\n    <tr>\n      <th>40</th>\n      <td>NaN</td>\n      <td>〇</td>\n      <td>NaN</td>\n      <td>NaN</td>\n      <td>NaN</td>\n      <td>NaN</td>\n      <td>指数項別吸熱応答係数</td>\n      <td>phi_a1</td>\n      <td>〇</td>\n      <td>－</td>\n      <td>－</td>\n      <td>List[float]</td>\n      <td>m2･K/W</td>\n      <td>NaN</td>\n    </tr>\n    <tr>\n      <th>41</th>\n      <td>NaN</td>\n      <td>〇</td>\n      <td>NaN</td>\n      <td>NaN</td>\n      <td>NaN</td>\n      <td>NaN</td>\n      <td>貫流応答係数の初項</td>\n      <td>phi_t0</td>\n      <td>〇</td>\n      <td>－</td>\n      <td>－</td>\n      <td>float</td>\n      <td>－</td>\n      <td>NaN</td>\n    </tr>\n    <tr>\n      <th>42</th>\n      <td>NaN</td>\n      <td>〇</td>\n      <td>NaN</td>\n      <td>NaN</td>\n      <td>NaN</td>\n      <td>NaN</td>\n      <td>指数項別貫流応答係数</td>\n      <td>phi_t1</td>\n      <td>〇</td>\n      <td>－</td>\n      <td>－</td>\n      <td>List[float]</td>\n      <td>－</td>\n      <td>NaN</td>\n    </tr>\n    <tr>\n      <th>43</th>\n      <td>NaN</td>\n      <td>〇</td>\n      <td>NaN</td>\n      <td>NaN</td>\n      <td>NaN</td>\n      <td>NaN</td>\n      <td>公比</td>\n      <td>r</td>\n      <td>〇</td>\n      <td>－</td>\n      <td>－</td>\n      <td>List[float]</td>\n      <td>－</td>\n      <td>NaN</td>\n    </tr>\n    <tr>\n      <th>44</th>\n      <td>NaN</td>\n      <td>〇</td>\n      <td>NaN</td>\n      <td>NaN</td>\n      <td>NaN</td>\n      <td>NaN</td>\n      <td>室内側総合熱伝達率</td>\n      <td>h_i</td>\n      <td>〇</td>\n      <td>－</td>\n      <td>－</td>\n      <td>float</td>\n      <td>W/(m2・K)</td>\n      <td>NaN</td>\n    </tr>\n    <tr>\n      <th>45</th>\n      <td>NaN</td>\n      <td>〇</td>\n      <td>NaN</td>\n      <td>NaN</td>\n      <td>NaN</td>\n      <td>NaN</td>\n      <td>放射暖房熱量の室内側吸収比率</td>\n      <td>flr</td>\n      <td>〇</td>\n      <td>－</td>\n      <td>－</td>\n      <td>float</td>\n      <td>－</td>\n      <td>NaN</td>\n    </tr>\n    <tr>\n      <th>46</th>\n      <td>NaN</td>\n      <td>〇</td>\n      <td>NaN</td>\n      <td>NaN</td>\n      <td>NaN</td>\n      <td>NaN</td>\n      <td>室内侵入日射吸収の有無</td>\n      <td>is_solar_absorbed</td>\n      <td>〇</td>\n      <td>－</td>\n      <td>－</td>\n      <td>boolean</td>\n      <td>－</td>\n      <td>NaN</td>\n    </tr>\n    <tr>\n      <th>47</th>\n      <td>NaN</td>\n      <td>〇</td>\n      <td>NaN</td>\n      <td>NaN</td>\n      <td>NaN</td>\n      <td>NaN</td>\n      <td>部位の人体に対する形態係数</td>\n      <td>f_mrt_hum</td>\n      <td>〇</td>\n      <td>－</td>\n      <td>－</td>\n      <td>float</td>\n      <td>－</td>\n      <td>NaN</td>\n    </tr>\n    <tr>\n      <th>48</th>\n      <td>NaN</td>\n      <td>〇</td>\n      <td>NaN</td>\n      <td>NaN</td>\n      <td>NaN</td>\n      <td>NaN</td>\n      <td>隣室温度差係数（室外側相当外気温度基準）</td>\n      <td>k_outside</td>\n      <td>〇</td>\n      <td>－</td>\n      <td>－</td>\n      <td>float</td>\n      <td>－</td>\n      <td>NaN</td>\n    </tr>\n    <tr>\n      <th>49</th>\n      <td>NaN</td>\n      <td>〇</td>\n      <td>NaN</td>\n      <td>NaN</td>\n      <td>NaN</td>\n      <td>NaN</td>\n      <td>隣室の影響</td>\n      <td>k_inside</td>\n      <td>〇</td>\n      <td>NaN</td>\n      <td>NaN</td>\n      <td>NaN</td>\n      <td>NaN</td>\n      <td>隣室がない場合はk_insideがnullとなる</td>\n    </tr>\n    <tr>\n      <th>50</th>\n      <td>NaN</td>\n      <td>NaN</td>\n      <td>〇</td>\n      <td>NaN</td>\n      <td>NaN</td>\n      <td>NaN</td>\n      <td>裏面の境界通し番号</td>\n      <td>id</td>\n      <td>k_insideがnullでない場合に定義される</td>\n      <td>－</td>\n      <td>－</td>\n      <td>int</td>\n      <td>－</td>\n      <td>NaN</td>\n    </tr>\n    <tr>\n      <th>51</th>\n      <td>NaN</td>\n      <td>NaN</td>\n      <td>〇</td>\n      <td>NaN</td>\n      <td>NaN</td>\n      <td>NaN</td>\n      <td>裏面の境界の影響を表す係数</td>\n      <td>coef</td>\n      <td>k_insideがnullでない場合に定義される</td>\n      <td>－</td>\n      <td>－</td>\n      <td>float</td>\n      <td>－</td>\n      <td>NaN</td>\n    </tr>\n  </tbody>\n</table>\n</div>"
     },
     "metadata": {},
     "output_type": "execute_result",
     "execution_count": 2
    }
   ]
  },
  {
   "cell_type": "markdown",
   "source": [
    "json ファイルの記述例"
   ],
   "metadata": {
    "collapsed": false
   }
  },
  {
   "cell_type": "markdown",
   "source": [
    "基本的なjsonファイルの書き方は以下のとおり。\n",
    "\n",
    "{  \n",
    "    'spaces': [  \n",
    "        {'id': 0, ...その他の情報...},  \n",
    "        {'id': 1, ...その他の情報...},  \n",
    "        ...  \n",
    "        {'id': 10, ...その他の情報...}  \n",
    "    ],       \n",
    "    'boundaries': [\n",
    "        {'id': 0, ...その他の情報...},  \n",
    "        {'id': 1, ...その他の情報...},  \n",
    "        ...  \n",
    "        {'id': 100, ...その他の情報...}  \n",
    "    ]  \n",
    "} "
   ],
   "metadata": {
    "collapsed": false,
    "pycharm": {
     "name": "#%% md\n"
    }
   }
  },
  {
   "cell_type": "code",
   "execution_count": 3,
   "outputs": [
    {
     "data": {
      "text/plain": "{'id': 0,\n 'name': 'main_occupant_room',\n 'volume': 70.92,\n 'c_value': 2.0,\n 'beta': 0.0,\n 'ventilation': {'mechanical': 0.016666666666666666,\n  'next_spaces': [0.0, 0.0, 0.0],\n  'natural': 0.0985},\n 'furniture': {'heat_capacity': 893592.0,\n  'heat_cond': 196.59024,\n  'moisture_capacity': 1191.4560000000001,\n  'moisture_cond': 2.1446208},\n 'equipment': {'heating': {'radiative': {'installed': False},\n   'convective': {}},\n  'cooling': {'radiative': {'installed': False},\n   'convective': {'q_min': 500.0,\n    'q_max': 6049.891511,\n    'v_min': 11.086608037753514,\n    'v_max': 20.15746915955184}}}}"
     },
     "metadata": {},
     "output_type": "execute_result",
     "execution_count": 3
    }
   ],
   "source": [
    "# スペース1つ分の書き方例\n",
    "with open('core_data_tutorial/mid_data_house.json') as f:\n",
    "    dj = json.load(f)\n",
    "\n",
    "dj['spaces'][0]"
   ],
   "metadata": {
    "collapsed": false,
    "pycharm": {
     "name": "#%%\n",
     "is_executing": false
    }
   }
  },
  {
   "cell_type": "code",
   "execution_count": 4,
   "outputs": [
    {
     "data": {
      "text/plain": "{'id': 0,\n 'name': 'integrated_boundary0',\n 'sub_name': 'north_exterior_wall',\n 'is_ground': 'false',\n 'connected_space_id': 0,\n 'area': 4.9775,\n 'phi_a0': 0.07082379236222458,\n 'phi_a1': [4.507057985882911e-05,\n  -0.0009266420480683226,\n  0.015710747070284452,\n  0.1371664403861094,\n  -0.11163144218064561,\n  0.09174099947400259,\n  -0.022630779908299824,\n  0.0033885297113725936,\n  0.0,\n  0.0,\n  0.0,\n  0.0],\n 'phi_t0': 0.001598173949854509,\n 'phi_t1': [4.014649140609802e-05,\n  -0.0008192243722720102,\n  0.013605804259968005,\n  0.1088867059986907,\n  -0.19238689071678203,\n  0.10296731413100914,\n  -0.022435410952413436,\n  0.0029186857277683836,\n  0.0,\n  0.0,\n  0.0,\n  0.0],\n 'r': [0.9982016190284373,\n  0.99291521625209,\n  0.9723062034557024,\n  0.8950058718522789,\n  0.6452076990440302,\n  0.17714441059303657,\n  0.0010735761574841769,\n  1.869406715200079e-12,\n  0.0,\n  0.0,\n  0.0,\n  0.0],\n 'h_i': 9.090909090909092,\n 'flr': 0.0,\n 'is_solar_absorbed': 'False',\n 'f_mrt_hum': 0.027134347293875108,\n 'k_outside': 1.0,\n 'k_inside': None}"
     },
     "metadata": {},
     "output_type": "execute_result",
     "execution_count": 4
    }
   ],
   "source": [
    "# 境界1つ分の書き方例\n",
    "with open('core_data_tutorial/mid_data_house.json') as f:\n",
    "    dj = json.load(f)\n",
    "\n",
    "dj['boundaries'][0]"
   ],
   "metadata": {
    "collapsed": false,
    "pycharm": {
     "name": "#%%\n",
     "is_executing": false
    }
   }
  },
  {
   "cell_type": "markdown",
   "source": [
    "# Example"
   ],
   "metadata": {
    "collapsed": false
   }
  },
  {
   "cell_type": "code",
   "execution_count": 5,
   "outputs": [
    {
     "name": "stdout",
     "text": [
      "助走計算（土壌のみ）\n",
      "助走計算（建物全体）\n",
      "本計算\n",
      "ログ作成\n"
     ],
     "output_type": "stream"
    }
   ],
   "source": [
    "ds, dd = core.calc(input_data_dir='core_data_tutorial')"
   ],
   "metadata": {
    "collapsed": false,
    "pycharm": {
     "name": "#%%\n",
     "is_executing": false
    }
   }
  },
  {
   "cell_type": "code",
   "execution_count": 6,
   "outputs": [
    {
     "data": {
      "text/plain": "                     外気温度[℃]  外気絶対湿度[kg/kg(DA)]   main_occupant_room_運転状態  \\\n1989-01-01 00:00:00     2.41                0.0  OperationMode.STOP_CLOSE   \n1989-01-01 01:00:00     2.71                0.0  OperationMode.STOP_CLOSE   \n1989-01-01 02:00:00     2.86                0.0  OperationMode.STOP_CLOSE   \n1989-01-01 03:00:00     2.65                0.0  OperationMode.STOP_CLOSE   \n1989-01-01 04:00:00     2.40                0.0  OperationMode.STOP_CLOSE   \n\n                     main_occupant_room_空気温度[℃]  \\\n1989-01-01 00:00:00                       14.97   \n1989-01-01 01:00:00                       12.75   \n1989-01-01 02:00:00                       11.25   \n1989-01-01 03:00:00                       10.12   \n1989-01-01 04:00:00                        9.21   \n\n                     main_occupant_room_室絶対湿度[kg/kg(DA)]  \\\n1989-01-01 00:00:00                               0.0040   \n1989-01-01 01:00:00                               0.0040   \n1989-01-01 02:00:00                               0.0040   \n1989-01-01 03:00:00                               0.0039   \n1989-01-01 04:00:00                               0.0039   \n\n                     main_occupant_room_室作用温度[℃]  \\\n1989-01-01 00:00:00                        13.97   \n1989-01-01 01:00:00                        11.99   \n1989-01-01 02:00:00                        10.66   \n1989-01-01 03:00:00                         9.67   \n1989-01-01 04:00:00                         8.86   \n\n                     main_occupant_room_対流空調顕熱負荷[W]  \\\n1989-01-01 00:00:00                             0.0   \n1989-01-01 01:00:00                             0.0   \n1989-01-01 02:00:00                             0.0   \n1989-01-01 03:00:00                             0.0   \n1989-01-01 04:00:00                             0.0   \n\n                     main_occupant_room_放射空調顕熱負荷[W]  \\\n1989-01-01 00:00:00                             0.0   \n1989-01-01 01:00:00                             0.0   \n1989-01-01 02:00:00                             0.0   \n1989-01-01 03:00:00                             0.0   \n1989-01-01 04:00:00                             0.0   \n\n                     main_occupant_room_対流空調潜熱負荷[W] other_occupant_room_運転状態  \\\n1989-01-01 00:00:00                             0.0    OperationMode.HEATING   \n1989-01-01 01:00:00                             0.0    OperationMode.HEATING   \n1989-01-01 02:00:00                             0.0    OperationMode.HEATING   \n1989-01-01 03:00:00                             0.0    OperationMode.HEATING   \n1989-01-01 04:00:00                             0.0    OperationMode.HEATING   \n\n                                 ...                \\\n1989-01-01 00:00:00              ...                 \n1989-01-01 01:00:00              ...                 \n1989-01-01 02:00:00              ...                 \n1989-01-01 03:00:00              ...                 \n1989-01-01 04:00:00              ...                 \n\n                     other_occupant_room_対流空調顕熱負荷[W]  \\\n1989-01-01 00:00:00                          11067.0   \n1989-01-01 01:00:00                          11632.0   \n1989-01-01 02:00:00                          11978.0   \n1989-01-01 03:00:00                          12337.0   \n1989-01-01 04:00:00                          12708.0   \n\n                     other_occupant_room_放射空調顕熱負荷[W]  \\\n1989-01-01 00:00:00                              0.0   \n1989-01-01 01:00:00                              0.0   \n1989-01-01 02:00:00                              0.0   \n1989-01-01 03:00:00                              0.0   \n1989-01-01 04:00:00                              0.0   \n\n                     other_occupant_room_対流空調潜熱負荷[W]  \\\n1989-01-01 00:00:00                              0.0   \n1989-01-01 01:00:00                              0.0   \n1989-01-01 02:00:00                              0.0   \n1989-01-01 03:00:00                              0.0   \n1989-01-01 04:00:00                              0.0   \n\n                       non_occupant_room_運転状態  non_occupant_room_空気温度[℃]  \\\n1989-01-01 00:00:00  OperationMode.STOP_CLOSE                       5.62   \n1989-01-01 01:00:00  OperationMode.STOP_CLOSE                       5.27   \n1989-01-01 02:00:00  OperationMode.STOP_CLOSE                       4.95   \n1989-01-01 03:00:00  OperationMode.STOP_CLOSE                       4.68   \n1989-01-01 04:00:00  OperationMode.STOP_CLOSE                       4.41   \n\n                     non_occupant_room_室絶対湿度[kg/kg(DA)]  \\\n1989-01-01 00:00:00                              0.1644   \n1989-01-01 01:00:00                              0.1673   \n1989-01-01 02:00:00                              0.1702   \n1989-01-01 03:00:00                              0.1730   \n1989-01-01 04:00:00                              0.1759   \n\n                    non_occupant_room_室作用温度[℃]  non_occupant_room_対流空調顕熱負荷[W]  \\\n1989-01-01 00:00:00                       6.27                            0.0   \n1989-01-01 01:00:00                       5.89                            0.0   \n1989-01-01 02:00:00                       5.56                            0.0   \n1989-01-01 03:00:00                       5.27                            0.0   \n1989-01-01 04:00:00                       5.00                            0.0   \n\n                     non_occupant_room_放射空調顕熱負荷[W]  \\\n1989-01-01 00:00:00                            0.0   \n1989-01-01 01:00:00                            0.0   \n1989-01-01 02:00:00                            0.0   \n1989-01-01 03:00:00                            0.0   \n1989-01-01 04:00:00                            0.0   \n\n                     non_occupant_room_対流空調潜熱負荷[W]  \n1989-01-01 00:00:00                            0.0  \n1989-01-01 01:00:00                            0.0  \n1989-01-01 02:00:00                            0.0  \n1989-01-01 03:00:00                            0.0  \n1989-01-01 04:00:00                            0.0  \n\n[5 rows x 23 columns]",
      "text/html": "<div>\n<style scoped>\n    .dataframe tbody tr th:only-of-type {\n        vertical-align: middle;\n    }\n\n    .dataframe tbody tr th {\n        vertical-align: top;\n    }\n\n    .dataframe thead th {\n        text-align: right;\n    }\n</style>\n<table border=\"1\" class=\"dataframe\">\n  <thead>\n    <tr style=\"text-align: right;\">\n      <th></th>\n      <th>外気温度[℃]</th>\n      <th>外気絶対湿度[kg/kg(DA)]</th>\n      <th>main_occupant_room_運転状態</th>\n      <th>main_occupant_room_空気温度[℃]</th>\n      <th>main_occupant_room_室絶対湿度[kg/kg(DA)]</th>\n      <th>main_occupant_room_室作用温度[℃]</th>\n      <th>main_occupant_room_対流空調顕熱負荷[W]</th>\n      <th>main_occupant_room_放射空調顕熱負荷[W]</th>\n      <th>main_occupant_room_対流空調潜熱負荷[W]</th>\n      <th>other_occupant_room_運転状態</th>\n      <th>...</th>\n      <th>other_occupant_room_対流空調顕熱負荷[W]</th>\n      <th>other_occupant_room_放射空調顕熱負荷[W]</th>\n      <th>other_occupant_room_対流空調潜熱負荷[W]</th>\n      <th>non_occupant_room_運転状態</th>\n      <th>non_occupant_room_空気温度[℃]</th>\n      <th>non_occupant_room_室絶対湿度[kg/kg(DA)]</th>\n      <th>non_occupant_room_室作用温度[℃]</th>\n      <th>non_occupant_room_対流空調顕熱負荷[W]</th>\n      <th>non_occupant_room_放射空調顕熱負荷[W]</th>\n      <th>non_occupant_room_対流空調潜熱負荷[W]</th>\n    </tr>\n  </thead>\n  <tbody>\n    <tr>\n      <th>1989-01-01 00:00:00</th>\n      <td>2.41</td>\n      <td>0.0</td>\n      <td>OperationMode.STOP_CLOSE</td>\n      <td>14.97</td>\n      <td>0.0040</td>\n      <td>13.97</td>\n      <td>0.0</td>\n      <td>0.0</td>\n      <td>0.0</td>\n      <td>OperationMode.HEATING</td>\n      <td>...</td>\n      <td>11067.0</td>\n      <td>0.0</td>\n      <td>0.0</td>\n      <td>OperationMode.STOP_CLOSE</td>\n      <td>5.62</td>\n      <td>0.1644</td>\n      <td>6.27</td>\n      <td>0.0</td>\n      <td>0.0</td>\n      <td>0.0</td>\n    </tr>\n    <tr>\n      <th>1989-01-01 01:00:00</th>\n      <td>2.71</td>\n      <td>0.0</td>\n      <td>OperationMode.STOP_CLOSE</td>\n      <td>12.75</td>\n      <td>0.0040</td>\n      <td>11.99</td>\n      <td>0.0</td>\n      <td>0.0</td>\n      <td>0.0</td>\n      <td>OperationMode.HEATING</td>\n      <td>...</td>\n      <td>11632.0</td>\n      <td>0.0</td>\n      <td>0.0</td>\n      <td>OperationMode.STOP_CLOSE</td>\n      <td>5.27</td>\n      <td>0.1673</td>\n      <td>5.89</td>\n      <td>0.0</td>\n      <td>0.0</td>\n      <td>0.0</td>\n    </tr>\n    <tr>\n      <th>1989-01-01 02:00:00</th>\n      <td>2.86</td>\n      <td>0.0</td>\n      <td>OperationMode.STOP_CLOSE</td>\n      <td>11.25</td>\n      <td>0.0040</td>\n      <td>10.66</td>\n      <td>0.0</td>\n      <td>0.0</td>\n      <td>0.0</td>\n      <td>OperationMode.HEATING</td>\n      <td>...</td>\n      <td>11978.0</td>\n      <td>0.0</td>\n      <td>0.0</td>\n      <td>OperationMode.STOP_CLOSE</td>\n      <td>4.95</td>\n      <td>0.1702</td>\n      <td>5.56</td>\n      <td>0.0</td>\n      <td>0.0</td>\n      <td>0.0</td>\n    </tr>\n    <tr>\n      <th>1989-01-01 03:00:00</th>\n      <td>2.65</td>\n      <td>0.0</td>\n      <td>OperationMode.STOP_CLOSE</td>\n      <td>10.12</td>\n      <td>0.0039</td>\n      <td>9.67</td>\n      <td>0.0</td>\n      <td>0.0</td>\n      <td>0.0</td>\n      <td>OperationMode.HEATING</td>\n      <td>...</td>\n      <td>12337.0</td>\n      <td>0.0</td>\n      <td>0.0</td>\n      <td>OperationMode.STOP_CLOSE</td>\n      <td>4.68</td>\n      <td>0.1730</td>\n      <td>5.27</td>\n      <td>0.0</td>\n      <td>0.0</td>\n      <td>0.0</td>\n    </tr>\n    <tr>\n      <th>1989-01-01 04:00:00</th>\n      <td>2.40</td>\n      <td>0.0</td>\n      <td>OperationMode.STOP_CLOSE</td>\n      <td>9.21</td>\n      <td>0.0039</td>\n      <td>8.86</td>\n      <td>0.0</td>\n      <td>0.0</td>\n      <td>0.0</td>\n      <td>OperationMode.HEATING</td>\n      <td>...</td>\n      <td>12708.0</td>\n      <td>0.0</td>\n      <td>0.0</td>\n      <td>OperationMode.STOP_CLOSE</td>\n      <td>4.41</td>\n      <td>0.1759</td>\n      <td>5.00</td>\n      <td>0.0</td>\n      <td>0.0</td>\n      <td>0.0</td>\n    </tr>\n  </tbody>\n</table>\n<p>5 rows × 23 columns</p>\n</div>"
     },
     "metadata": {},
     "output_type": "execute_result",
     "execution_count": 6
    }
   ],
   "source": [
    "ds.head()"
   ],
   "metadata": {
    "collapsed": false,
    "pycharm": {
     "name": "#%%\n",
     "is_executing": false
    }
   }
  },
  {
   "cell_type": "code",
   "execution_count": 7,
   "outputs": [
    {
     "data": {
      "text/plain": "                     外気温度[℃]  外気絶対湿度[kg/kg(DA)]   main_occupant_room_運転状態  \\\n1989-01-01 00:00:00    2.300           0.003200  OperationMode.STOP_CLOSE   \n1989-01-01 00:15:00    2.375           0.003225  OperationMode.STOP_CLOSE   \n1989-01-01 00:30:00    2.450           0.003250  OperationMode.STOP_CLOSE   \n1989-01-01 00:45:00    2.525           0.003275  OperationMode.STOP_CLOSE   \n1989-01-01 01:00:00    2.600           0.003300  OperationMode.STOP_CLOSE   \n\n                     main_occupant_room_在室状況  main_occupant_room_空気温度[℃]  \\\n1989-01-01 00:00:00                    False                   15.880388   \n1989-01-01 00:15:00                    False                   15.239571   \n1989-01-01 00:30:00                    False                   14.655859   \n1989-01-01 00:45:00                    False                   14.121641   \n1989-01-01 01:00:00                    False                   13.422160   \n\n                     main_occupant_room_室相対湿度[%]  \\\n1989-01-01 00:00:00                    36.451059   \n1989-01-01 00:15:00                    37.874433   \n1989-01-01 00:30:00                    39.221203   \n1989-01-01 00:45:00                    40.497316   \n1989-01-01 01:00:00                    42.278733   \n\n                     main_occupant_room_室絶対湿度[kg/kg(DA)]  \\\n1989-01-01 00:00:00                             0.004065   \n1989-01-01 00:15:00                             0.004053   \n1989-01-01 00:30:00                             0.004043   \n1989-01-01 00:45:00                             0.004032   \n1989-01-01 01:00:00                             0.004022   \n\n                     main_occupant_room_室MRT[℃]  main_occupant_room_室作用温度[℃]  \\\n1989-01-01 00:00:00                   13.753568                    14.824656   \n1989-01-01 00:15:00                   13.175415                    14.223264   \n1989-01-01 00:30:00                   12.649779                    13.675146   \n1989-01-01 00:45:00                   12.175686                    13.176360   \n1989-01-01 01:00:00                   11.725074                    12.602358   \n\n                     main_occupant_room_着衣量[clo]  \\\n1989-01-01 00:00:00                          0.7   \n1989-01-01 00:15:00                          0.7   \n1989-01-01 00:30:00                          0.7   \n1989-01-01 00:45:00                          0.7   \n1989-01-01 01:00:00                          0.7   \n\n                                           ...                         \\\n1989-01-01 00:00:00                        ...                          \n1989-01-01 00:15:00                        ...                          \n1989-01-01 00:30:00                        ...                          \n1989-01-01 00:45:00                        ...                          \n1989-01-01 01:00:00                        ...                          \n\n                     non_occupant_room_integrated_boundary8_表面放射熱流[W]  \\\n1989-01-01 00:00:00                                       -360.640119   \n1989-01-01 00:15:00                                       -367.053618   \n1989-01-01 00:30:00                                       -373.188965   \n1989-01-01 00:45:00                                       -379.018835   \n1989-01-01 01:00:00                                       -384.404014   \n\n                     non_occupant_room_integrated_boundary0_表面対流熱流[W]  \\\n1989-01-01 00:00:00                                        -89.188074   \n1989-01-01 00:15:00                                        -87.807722   \n1989-01-01 00:30:00                                        -86.216563   \n1989-01-01 00:45:00                                        -84.710149   \n1989-01-01 01:00:00                                        -83.056759   \n\n                     non_occupant_room_integrated_boundary1_表面対流熱流[W]  \\\n1989-01-01 00:00:00                                         29.584679   \n1989-01-01 00:15:00                                         28.361424   \n1989-01-01 00:30:00                                         27.136536   \n1989-01-01 00:45:00                                         25.910277   \n1989-01-01 01:00:00                                         24.746232   \n\n                     non_occupant_room_integrated_boundary2_表面対流熱流[W]  \\\n1989-01-01 00:00:00                                        -13.374172   \n1989-01-01 00:15:00                                        -13.154875   \n1989-01-01 00:30:00                                        -12.889129   \n1989-01-01 00:45:00                                        -12.640491   \n1989-01-01 01:00:00                                        -12.362244   \n\n                     non_occupant_room_integrated_boundary3_表面対流熱流[W]  \\\n1989-01-01 00:00:00                                        -33.950229   \n1989-01-01 00:15:00                                        -33.395777   \n1989-01-01 00:30:00                                        -32.729608   \n1989-01-01 00:45:00                                        -32.104854   \n1989-01-01 01:00:00                                        -31.408331   \n\n                     non_occupant_room_integrated_boundary4_表面対流熱流[W]  \\\n1989-01-01 00:00:00                                         23.936264   \n1989-01-01 00:15:00                                         22.947004   \n1989-01-01 00:30:00                                         21.956443   \n1989-01-01 00:45:00                                         20.964803   \n1989-01-01 01:00:00                                         20.023443   \n\n                     non_occupant_room_integrated_boundary5_表面対流熱流[W]  \\\n1989-01-01 00:00:00                                        -24.574440   \n1989-01-01 00:15:00                                        -24.434524   \n1989-01-01 00:30:00                                        -24.239968   \n1989-01-01 00:45:00                                        -24.021969   \n1989-01-01 01:00:00                                        -23.708643   \n\n                     non_occupant_room_integrated_boundary6_表面対流熱流[W]  \\\n1989-01-01 00:00:00                                        -92.595550   \n1989-01-01 00:15:00                                        -91.029231   \n1989-01-01 00:30:00                                        -89.643408   \n1989-01-01 00:45:00                                        -88.396324   \n1989-01-01 01:00:00                                        -86.761036   \n\n                     non_occupant_room_integrated_boundary7_表面対流熱流[W]  \\\n1989-01-01 00:00:00                                       -253.578612   \n1989-01-01 00:15:00                                       -240.570158   \n1989-01-01 00:30:00                                       -229.226074   \n1989-01-01 00:45:00                                       -219.089478   \n1989-01-01 01:00:00                                       -209.477045   \n\n                     non_occupant_room_integrated_boundary8_表面対流熱流[W]  \n1989-01-01 00:00:00                                       -317.252002  \n1989-01-01 00:15:00                                       -317.854118  \n1989-01-01 00:30:00                                       -318.491556  \n1989-01-01 00:45:00                                       -319.225413  \n1989-01-01 01:00:00                                       -319.599938  \n\n[5 rows x 225 columns]",
      "text/html": "<div>\n<style scoped>\n    .dataframe tbody tr th:only-of-type {\n        vertical-align: middle;\n    }\n\n    .dataframe tbody tr th {\n        vertical-align: top;\n    }\n\n    .dataframe thead th {\n        text-align: right;\n    }\n</style>\n<table border=\"1\" class=\"dataframe\">\n  <thead>\n    <tr style=\"text-align: right;\">\n      <th></th>\n      <th>外気温度[℃]</th>\n      <th>外気絶対湿度[kg/kg(DA)]</th>\n      <th>main_occupant_room_運転状態</th>\n      <th>main_occupant_room_在室状況</th>\n      <th>main_occupant_room_空気温度[℃]</th>\n      <th>main_occupant_room_室相対湿度[%]</th>\n      <th>main_occupant_room_室絶対湿度[kg/kg(DA)]</th>\n      <th>main_occupant_room_室MRT[℃]</th>\n      <th>main_occupant_room_室作用温度[℃]</th>\n      <th>main_occupant_room_着衣量[clo]</th>\n      <th>...</th>\n      <th>non_occupant_room_integrated_boundary8_表面放射熱流[W]</th>\n      <th>non_occupant_room_integrated_boundary0_表面対流熱流[W]</th>\n      <th>non_occupant_room_integrated_boundary1_表面対流熱流[W]</th>\n      <th>non_occupant_room_integrated_boundary2_表面対流熱流[W]</th>\n      <th>non_occupant_room_integrated_boundary3_表面対流熱流[W]</th>\n      <th>non_occupant_room_integrated_boundary4_表面対流熱流[W]</th>\n      <th>non_occupant_room_integrated_boundary5_表面対流熱流[W]</th>\n      <th>non_occupant_room_integrated_boundary6_表面対流熱流[W]</th>\n      <th>non_occupant_room_integrated_boundary7_表面対流熱流[W]</th>\n      <th>non_occupant_room_integrated_boundary8_表面対流熱流[W]</th>\n    </tr>\n  </thead>\n  <tbody>\n    <tr>\n      <th>1989-01-01 00:00:00</th>\n      <td>2.300</td>\n      <td>0.003200</td>\n      <td>OperationMode.STOP_CLOSE</td>\n      <td>False</td>\n      <td>15.880388</td>\n      <td>36.451059</td>\n      <td>0.004065</td>\n      <td>13.753568</td>\n      <td>14.824656</td>\n      <td>0.7</td>\n      <td>...</td>\n      <td>-360.640119</td>\n      <td>-89.188074</td>\n      <td>29.584679</td>\n      <td>-13.374172</td>\n      <td>-33.950229</td>\n      <td>23.936264</td>\n      <td>-24.574440</td>\n      <td>-92.595550</td>\n      <td>-253.578612</td>\n      <td>-317.252002</td>\n    </tr>\n    <tr>\n      <th>1989-01-01 00:15:00</th>\n      <td>2.375</td>\n      <td>0.003225</td>\n      <td>OperationMode.STOP_CLOSE</td>\n      <td>False</td>\n      <td>15.239571</td>\n      <td>37.874433</td>\n      <td>0.004053</td>\n      <td>13.175415</td>\n      <td>14.223264</td>\n      <td>0.7</td>\n      <td>...</td>\n      <td>-367.053618</td>\n      <td>-87.807722</td>\n      <td>28.361424</td>\n      <td>-13.154875</td>\n      <td>-33.395777</td>\n      <td>22.947004</td>\n      <td>-24.434524</td>\n      <td>-91.029231</td>\n      <td>-240.570158</td>\n      <td>-317.854118</td>\n    </tr>\n    <tr>\n      <th>1989-01-01 00:30:00</th>\n      <td>2.450</td>\n      <td>0.003250</td>\n      <td>OperationMode.STOP_CLOSE</td>\n      <td>False</td>\n      <td>14.655859</td>\n      <td>39.221203</td>\n      <td>0.004043</td>\n      <td>12.649779</td>\n      <td>13.675146</td>\n      <td>0.7</td>\n      <td>...</td>\n      <td>-373.188965</td>\n      <td>-86.216563</td>\n      <td>27.136536</td>\n      <td>-12.889129</td>\n      <td>-32.729608</td>\n      <td>21.956443</td>\n      <td>-24.239968</td>\n      <td>-89.643408</td>\n      <td>-229.226074</td>\n      <td>-318.491556</td>\n    </tr>\n    <tr>\n      <th>1989-01-01 00:45:00</th>\n      <td>2.525</td>\n      <td>0.003275</td>\n      <td>OperationMode.STOP_CLOSE</td>\n      <td>False</td>\n      <td>14.121641</td>\n      <td>40.497316</td>\n      <td>0.004032</td>\n      <td>12.175686</td>\n      <td>13.176360</td>\n      <td>0.7</td>\n      <td>...</td>\n      <td>-379.018835</td>\n      <td>-84.710149</td>\n      <td>25.910277</td>\n      <td>-12.640491</td>\n      <td>-32.104854</td>\n      <td>20.964803</td>\n      <td>-24.021969</td>\n      <td>-88.396324</td>\n      <td>-219.089478</td>\n      <td>-319.225413</td>\n    </tr>\n    <tr>\n      <th>1989-01-01 01:00:00</th>\n      <td>2.600</td>\n      <td>0.003300</td>\n      <td>OperationMode.STOP_CLOSE</td>\n      <td>False</td>\n      <td>13.422160</td>\n      <td>42.278733</td>\n      <td>0.004022</td>\n      <td>11.725074</td>\n      <td>12.602358</td>\n      <td>0.7</td>\n      <td>...</td>\n      <td>-384.404014</td>\n      <td>-83.056759</td>\n      <td>24.746232</td>\n      <td>-12.362244</td>\n      <td>-31.408331</td>\n      <td>20.023443</td>\n      <td>-23.708643</td>\n      <td>-86.761036</td>\n      <td>-209.477045</td>\n      <td>-319.599938</td>\n    </tr>\n  </tbody>\n</table>\n<p>5 rows × 225 columns</p>\n</div>"
     },
     "metadata": {},
     "output_type": "execute_result",
     "execution_count": 7
    }
   ],
   "source": [
    "dd.head()"
   ],
   "metadata": {
    "collapsed": false,
    "pycharm": {
     "name": "#%%\n",
     "is_executing": false
    }
   }
  }
 ],
 "metadata": {
  "kernelspec": {
   "display_name": "Python 3",
   "language": "python",
   "name": "python3"
  },
  "language_info": {
   "codemirror_mode": {
    "name": "ipython",
    "version": 2
   },
   "file_extension": ".py",
   "mimetype": "text/x-python",
   "name": "python",
   "nbconvert_exporter": "python",
   "pygments_lexer": "ipython2",
   "version": "2.7.6"
  },
  "pycharm": {
   "stem_cell": {
    "cell_type": "raw",
    "source": [],
    "metadata": {
     "collapsed": false
    }
   }
  }
 },
 "nbformat": 4,
 "nbformat_minor": 0
}