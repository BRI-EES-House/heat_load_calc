{
 "cells": [
  {
   "cell_type": "code",
   "execution_count": 1,
   "metadata": {
    "pycharm": {
     "is_executing": false
    }
   },
   "outputs": [],
   "source": [
    "import sys\n",
    "import numpy as np\n",
    "\n",
    "sys.path.append('../..')\n",
    "\n",
    "from heat_load_calc.weather import weather"
   ]
  },
  {
   "cell_type": "markdown",
   "metadata": {
    "pycharm": {
     "name": "#%% md\n"
    }
   },
   "source": [
    "# モジュール weather\n",
    "\n",
    "## Outline\n",
    "\n",
    "モジュール weather は地域区分を指定すると、外気温度・外気絶対湿度・法線面直達日射量・水平面天空放射量・夜間放射料・太陽高度・太陽水平方位角を計算するモジュールです。\n",
    "\n",
    "## Interface\n",
    "\n",
    "weather.make_weather(region, output_data_dir=None, csv_output=False)\n",
    "\n",
    "params:\n",
    "\n",
    "| パラメータ名　| 型 | 概要 |\n",
    "| --- | --- | --- |\n",
    "| region | int | 地域区分を表す。1～8の値をとる。 |\n",
    "| output_data_dir | str | （省略可能）　　取得したデータをCSVではきだす場合のディレクトリ名を指定する。CSVを出力しない場合は省略可能。 |\n",
    "| csv_output | bool | (省略可能) 　取得したデータをCSVではきだす場合はTrueを指定する。はきださない場合はFalseを指定しないか省略する。 |\n",
    "\n",
    "returns:\n",
    "\n",
    "気象データをpandas.DataFrame 形式で返します。  \n",
    "pandas.DataFrame の行インデクスは日時型（例：1999-01-01 00:00:00)、列インデクスは以下の値をとります。  \n",
    "\n",
    "| 列名 | 単位 | 概要 |\n",
    "| --- | --- | --- |\n",
    "| temperature [degree C] | ℃ | 外気温度 |\n",
    "| absolute humidity [kg/kg(DA)] | kg/kg(DA) | 外気絶対湿度 |\n",
    "| normal direct solar radiation [W/m] | W/m2| 法線面直達日射量 |\n",
    "| horizontal sky solar radiation [W/m2] | W/m2 | 水平面天空日射量 |\n",
    "| outward radiation [W/m2] | W/m2 | 夜間放射量 |\n",
    "| sun altitude [rad] | rad | 太陽高度 |\n",
    "| sun azimuth [rad] | rad | 太陽方位角 |"
   ]
  },
  {
   "cell_type": "markdown",
   "metadata": {
    "pycharm": {
     "is_executing": false,
     "name": "#%% md\n"
    }
   },
   "source": [
    "# Example"
   ]
  },
  {
   "cell_type": "code",
   "execution_count": 2,
   "metadata": {
    "pycharm": {
     "is_executing": false,
     "name": "#%%\n"
    }
   },
   "outputs": [
    {
     "data": {
      "text/html": [
       "<div>\n",
       "<style scoped>\n",
       "    .dataframe tbody tr th:only-of-type {\n",
       "        vertical-align: middle;\n",
       "    }\n",
       "\n",
       "    .dataframe tbody tr th {\n",
       "        vertical-align: top;\n",
       "    }\n",
       "\n",
       "    .dataframe thead th {\n",
       "        text-align: right;\n",
       "    }\n",
       "</style>\n",
       "<table border=\"1\" class=\"dataframe\">\n",
       "  <thead>\n",
       "    <tr style=\"text-align: right;\">\n",
       "      <th></th>\n",
       "      <th>temperature [degree C]</th>\n",
       "      <th>absolute humidity [kg/kg(DA)]</th>\n",
       "      <th>normal direct solar radiation [W/m2]</th>\n",
       "      <th>horizontal sky solar radiation [W/m2]</th>\n",
       "      <th>outward radiation [W/m2]</th>\n",
       "      <th>sun altitude [rad]</th>\n",
       "      <th>sun azimuth [rad]</th>\n",
       "    </tr>\n",
       "  </thead>\n",
       "  <tbody>\n",
       "    <tr>\n",
       "      <th>1989-01-01 00:00:00</th>\n",
       "      <td>-12.40</td>\n",
       "      <td>0.001400</td>\n",
       "      <td>0.0</td>\n",
       "      <td>0.0</td>\n",
       "      <td>47.222222</td>\n",
       "      <td>-1.189731</td>\n",
       "      <td>-2.787296</td>\n",
       "    </tr>\n",
       "    <tr>\n",
       "      <th>1989-01-01 00:15:00</th>\n",
       "      <td>-12.55</td>\n",
       "      <td>0.001375</td>\n",
       "      <td>0.0</td>\n",
       "      <td>0.0</td>\n",
       "      <td>47.916667</td>\n",
       "      <td>-1.170056</td>\n",
       "      <td>-2.637712</td>\n",
       "    </tr>\n",
       "    <tr>\n",
       "      <th>1989-01-01 00:30:00</th>\n",
       "      <td>-12.70</td>\n",
       "      <td>0.001350</td>\n",
       "      <td>0.0</td>\n",
       "      <td>0.0</td>\n",
       "      <td>48.611111</td>\n",
       "      <td>-1.144474</td>\n",
       "      <td>-2.501855</td>\n",
       "    </tr>\n",
       "    <tr>\n",
       "      <th>1989-01-01 00:45:00</th>\n",
       "      <td>-12.85</td>\n",
       "      <td>0.001325</td>\n",
       "      <td>0.0</td>\n",
       "      <td>0.0</td>\n",
       "      <td>49.305556</td>\n",
       "      <td>-1.114007</td>\n",
       "      <td>-2.380130</td>\n",
       "    </tr>\n",
       "    <tr>\n",
       "      <th>1989-01-01 01:00:00</th>\n",
       "      <td>-13.00</td>\n",
       "      <td>0.001300</td>\n",
       "      <td>0.0</td>\n",
       "      <td>0.0</td>\n",
       "      <td>50.000000</td>\n",
       "      <td>-1.079602</td>\n",
       "      <td>-2.271697</td>\n",
       "    </tr>\n",
       "  </tbody>\n",
       "</table>\n",
       "</div>"
      ],
      "text/plain": [
       "                     temperature [degree C]  absolute humidity [kg/kg(DA)]  \\\n",
       "1989-01-01 00:00:00                  -12.40                       0.001400   \n",
       "1989-01-01 00:15:00                  -12.55                       0.001375   \n",
       "1989-01-01 00:30:00                  -12.70                       0.001350   \n",
       "1989-01-01 00:45:00                  -12.85                       0.001325   \n",
       "1989-01-01 01:00:00                  -13.00                       0.001300   \n",
       "\n",
       "                     normal direct solar radiation [W/m2]  \\\n",
       "1989-01-01 00:00:00                                   0.0   \n",
       "1989-01-01 00:15:00                                   0.0   \n",
       "1989-01-01 00:30:00                                   0.0   \n",
       "1989-01-01 00:45:00                                   0.0   \n",
       "1989-01-01 01:00:00                                   0.0   \n",
       "\n",
       "                     horizontal sky solar radiation [W/m2]  \\\n",
       "1989-01-01 00:00:00                                    0.0   \n",
       "1989-01-01 00:15:00                                    0.0   \n",
       "1989-01-01 00:30:00                                    0.0   \n",
       "1989-01-01 00:45:00                                    0.0   \n",
       "1989-01-01 01:00:00                                    0.0   \n",
       "\n",
       "                     outward radiation [W/m2]  sun altitude [rad]  \\\n",
       "1989-01-01 00:00:00                 47.222222           -1.189731   \n",
       "1989-01-01 00:15:00                 47.916667           -1.170056   \n",
       "1989-01-01 00:30:00                 48.611111           -1.144474   \n",
       "1989-01-01 00:45:00                 49.305556           -1.114007   \n",
       "1989-01-01 01:00:00                 50.000000           -1.079602   \n",
       "\n",
       "                     sun azimuth [rad]  \n",
       "1989-01-01 00:00:00          -2.787296  \n",
       "1989-01-01 00:15:00          -2.637712  \n",
       "1989-01-01 00:30:00          -2.501855  \n",
       "1989-01-01 00:45:00          -2.380130  \n",
       "1989-01-01 01:00:00          -2.271697  "
      ]
     },
     "execution_count": 2,
     "metadata": {},
     "output_type": "execute_result"
    }
   ],
   "source": [
    "d = weather.make_weather(region=1)\n",
    "d.head()"
   ]
  },
  {
   "cell_type": "markdown",
   "metadata": {
    "pycharm": {
     "is_executing": false,
     "name": "#%% md\n"
    }
   },
   "source": [
    "特定のデータを配列(numpy ndarray 方式)で取り出す。"
   ]
  },
  {
   "cell_type": "code",
   "execution_count": 3,
   "metadata": {
    "pycharm": {
     "is_executing": false,
     "name": "#%%\n"
    }
   },
   "outputs": [
    {
     "data": {
      "text/plain": [
       "array([-12.4 , -12.55, -12.7 , ..., -11.8 , -12.  , -12.2 ])"
      ]
     },
     "execution_count": 3,
     "metadata": {},
     "output_type": "execute_result"
    }
   ],
   "source": [
    "np.array(d['temperature [degree C]'])"
   ]
  },
  {
   "cell_type": "markdown",
   "metadata": {
    "pycharm": {
     "is_executing": false,
     "name": "#%% md\n"
    }
   },
   "source": [
    "特定の種類の特定の日時のデータを取り出す。"
   ]
  },
  {
   "cell_type": "code",
   "execution_count": 4,
   "metadata": {
    "pycharm": {
     "is_executing": false,
     "name": "#%%\n"
    }
   },
   "outputs": [
    {
     "data": {
      "text/plain": [
       "-13.0"
      ]
     },
     "execution_count": 4,
     "metadata": {},
     "output_type": "execute_result"
    }
   ],
   "source": [
    "d['temperature [degree C]']['1989-01-01 01:00:00']"
   ]
  },
  {
   "cell_type": "markdown",
   "metadata": {},
   "source": [
    "又は一度numpyにしてからインデクスで取り出す場合。"
   ]
  },
  {
   "cell_type": "code",
   "execution_count": 5,
   "metadata": {},
   "outputs": [
    {
     "data": {
      "text/plain": [
       "-12.4"
      ]
     },
     "execution_count": 5,
     "metadata": {},
     "output_type": "execute_result"
    }
   ],
   "source": [
    "np.array(d['temperature [degree C]'])[0]"
   ]
  },
  {
   "cell_type": "code",
   "execution_count": null,
   "metadata": {},
   "outputs": [],
   "source": []
  }
 ],
 "metadata": {
  "kernelspec": {
   "display_name": "Python 3",
   "language": "python",
   "name": "python3"
  },
  "language_info": {
   "codemirror_mode": {
    "name": "ipython",
    "version": 3
   },
   "file_extension": ".py",
   "mimetype": "text/x-python",
   "name": "python",
   "nbconvert_exporter": "python",
   "pygments_lexer": "ipython3",
   "version": "3.6.4"
  },
  "pycharm": {
   "stem_cell": {
    "cell_type": "raw",
    "metadata": {
     "collapsed": false
    },
    "source": []
   }
  },
  "toc": {
   "base_numbering": 1,
   "nav_menu": {},
   "number_sections": true,
   "sideBar": true,
   "skip_h1_title": false,
   "title_cell": "Table of Contents",
   "title_sidebar": "Contents",
   "toc_cell": false,
   "toc_position": {},
   "toc_section_display": true,
   "toc_window_display": false
  }
 },
 "nbformat": 4,
 "nbformat_minor": 1
}
