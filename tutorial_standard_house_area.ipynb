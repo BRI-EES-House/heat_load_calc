{
 "cells": [
  {
   "cell_type": "markdown",
   "source": [
    "# 基準値計算用の住宅の幾何形状の決定"
   ],
   "metadata": {
    "collapsed": false
   }
  },
  {
   "cell_type": "markdown",
   "source": [
    "## 3. 面積の設定"
   ],
   "metadata": {
    "collapsed": false
   }
  },
  {
   "cell_type": "markdown",
   "source": [
    "総外皮面積に対する開口部比率\n",
    "\n",
    "| 建て方 | 総外皮面積に対する開口部比率 |\n",
    "|---|---|\n",
    "| 戸建 | 11％ |\n",
    "| 共同 | 7％ |\n",
    "\n",
    "方位別の開口部比率\n",
    "\n",
    "| 建て方 | 北 | 南 | 東 | 西 |\n",
    "|---|---|---|---|---|\n",
    "| 戸建 | 11.0％ | 68.6％ | 13.2％ | 7.2％ |\n",
    "| 共同 | 21.5％ | 63.3％ | 0.0％ | 15.2％ |"
   ],
   "metadata": {
    "collapsed": false
   }
  },
  {
   "cell_type": "markdown",
   "source": [
    "### 3) 方位別の開口部面積の設定"
   ],
   "metadata": {
    "collapsed": false
   }
  },
  {
   "cell_type": "markdown",
   "source": [
    "総外皮面積、相外皮面積に対する開口部比率、方位別の開口部比率より、方位別の開口部面積を設定する。  \n",
    "ただし、ここで設定するのは暫定値であり、建て方別に、各方位の外皮面積を上限とした調整を行う。"
   ],
   "metadata": {
    "collapsed": false
   }
  },
  {
   "cell_type": "markdown",
   "source": [
    "$$\n",
    "\\displaystyle\n",
    "A_w= A_{total} \\times r_w\n",
    "$$\n",
    "\n",
    "$$\n",
    "\\displaystyle\n",
    "A_{w,j}= A_w \\times r_{w,j}\n",
    "$$"
   ],
   "metadata": {
    "collapsed": false
   }
  },
  {
   "cell_type": "markdown",
   "source": [
    "$r_{w}$: 総外皮面積に対する開口部比率, -  \n",
    "$r_{w,j}$: 方位jの開口部比率, -  \n",
    "$A_{w}$: 開口部面積, m<sup>2</sup>  \n",
    "$A_{w,j}$: 方位jの開口部面積, m<sup>2</sup>  \n",
    "$A_{total}$: 総外皮面積, m<sup>2</sup>  "
   ],
   "metadata": {
    "collapsed": false
   }
  },
  {
   "cell_type": "markdown",
   "source": [
    "### 4) 方位別の開口部面積の調整"
   ],
   "metadata": {
    "collapsed": false
   }
  },
  {
   "cell_type": "markdown",
   "source": [
    "方位別の開口部面積について、各方位の外皮面積を上限とした調整を行う。  \n",
    "開口部面積の大きい方位より順に、各方位の外皮面積を上回る開口部面積を割り付ける。"
   ],
   "metadata": {
    "collapsed": false
   }
  },
  {
   "cell_type": "markdown",
   "source": [
    "### 6) 基準値計算用の住宅の幾何形状の決定"
   ],
   "metadata": {
    "collapsed": false
   }
  },
  {
   "cell_type": "markdown",
   "source": [
    "戸建住宅、共同住宅別に階高、階数を設定し、総外皮面積と床面積が設計住戸と等しくなるような直方体の住宅の幾何形状を決定する。  \n",
    "ただし、以下の場合には、調整を行う。  \n",
    "　設計住戸の総外皮面積が比較的小さく、総外皮面積と床面積が設計住戸に等しいという条件を満たす幾何形状を決定できない場合  \n",
    "　基準値計算用の住戸の平面のアスペクト比が上限値を超える場合"
   ],
   "metadata": {
    "collapsed": false
   }
  },
  {
   "cell_type": "markdown",
   "source": [
    "建物高を各階の階高の合計値とする。"
   ],
   "metadata": {
    "collapsed": false
   }
  },
  {
   "cell_type": "markdown",
   "source": [
    "$$\n",
    "\\displaystyle\n",
    "h = \\sum_{n}{h_n}\n",
    "$$"
   ],
   "metadata": {
    "collapsed": false
   }
  },
  {
   "cell_type": "markdown",
   "source": [
    "$h$: 建物高, m  \n",
    "$h_n$: $n$階の階高, m  \n",
    "$n$: 階数, -  "
   ],
   "metadata": {
    "collapsed": false
   }
  },
  {
   "cell_type": "markdown",
   "source": [
    "基準値計算用の住宅の総外皮面積を、設計住戸の総外皮面積、もしくは、正方形プランを仮定した総外皮面積の大きい方とする。"
   ],
   "metadata": {
    "collapsed": false
   }
  },
  {
   "cell_type": "markdown",
   "source": [
    "![image.png](attachment:image.png)"
   ],
   "metadata": {
    "collapsed": false
   }
  },
  {
   "cell_type": "markdown",
   "source": [
    "$$\n",
    "\\displaystyle\n",
    "A_{total skin}= \\max \\left( A_{total skin,design}, \\frac{ 2 \\times A_{floor}}{ n } +  4 \\times h \\times　\\sqrt{ \\frac{ A_{floor} }{ n }} \\right)\n",
    "$$"
   ],
   "metadata": {
    "collapsed": false
   }
  },
  {
   "cell_type": "markdown",
   "source": [
    "$A_{floor}$: 延床皮面積, m<sup>2</sup>  \n",
    "$A_{total skin}$: 基準値計算用の住宅の総外皮面積, m<sup>2</sup>  \n",
    "$A_{total skin,design}$: 設計住戸の総外皮面積, m<sup>2</sup>  \n",
    "$h$: 建物高, m  \n",
    "$n$: 階数, -  "
   ],
   "metadata": {
    "collapsed": false
   }
  },
  {
   "cell_type": "markdown",
   "source": [
    "周長を、総外皮面積、延床面積、建物高、階数より算出する。  \n",
    "短辺・長辺の長さを、周長、延床面積、階数、アスペクト比の上限値より算出する。"
   ],
   "metadata": {
    "collapsed": false
   }
  },
  {
   "cell_type": "markdown",
   "source": [
    "$$\n",
    "\\displaystyle\n",
    "l_{circumference}= \\frac{A_{totalskin}- 2 \\times \\frac{ A_{floor}}{ n }}{h}\n",
    "$$\n",
    "$$\n",
    "\\displaystyle\n",
    "l_{narrow}= \\max \\left( \\frac {l_{circumference}}{ 2 \\times (1+r_{aspect,max})}, \\frac{l_{circumference} - \\sqrt{l_{circumference}^2 - 16 \\times \\frac{ A_{floor} }{ n }}}{4} \\right)\n",
    "$$\n",
    "$$\n",
    "\\displaystyle\n",
    "l_{long}= \\frac{l_{circumference} - 2 \\times l_{narrow}}{2}\n",
    "$$"
   ],
   "metadata": {
    "collapsed": false
   }
  },
  {
   "cell_type": "markdown",
   "source": [
    "$l_{circumference}$: 周長, m  \n",
    "$l_{narrow}$: 短辺長さ, m  \n",
    "$l_{long}$: 長辺長さ, m  \n",
    "$A_{floor}$: 延床皮面積, m<sup>2</sup>  \n",
    "$A_{total skin}$: 基準値計算用の住宅の総外皮面積, m<sup>2</sup>  \n",
    "$r_{aspect,max}$: アスペクト比の上限値（2とする）, -  \n",
    "$n$: 階数, -  "
   ],
   "metadata": {
    "collapsed": false
   }
  },
  {
   "cell_type": "markdown",
   "source": [
    "アスペクト比を上限値により調整している場合に、面積算出用の床面積の調整を行うため、調整係数を算出する。"
   ],
   "metadata": {
    "collapsed": false
   }
  },
  {
   "cell_type": "markdown",
   "source": [
    "$$\n",
    "\\displaystyle\n",
    "r_{area,floor}= \\frac{ n \\times l_{narrow} \\times l_{long} }{ A_{floor} }\n",
    "$$"
   ],
   "metadata": {
    "collapsed": false
   }
  },
  {
   "cell_type": "markdown",
   "source": [
    "$l_{narrow}$: 短辺長さ, m  \n",
    "$l_{long}$: 長辺長さ, m  \n",
    "$A_{floor}$: 延床皮面積, m<sup>2</sup>  \n",
    "$n$: 階数, -  \n",
    "$r_{area,floor}$: アスペクト比を上限値により調整している場合に、面積算出用の床面積の調整を行うための調整係数, -  "
   ],
   "metadata": {
    "collapsed": false
   }
  },
  {
   "cell_type": "markdown",
   "source": [
    "### 9) 部位の面積を取得する関数"
   ],
   "metadata": {
    "collapsed": false
   }
  },
  {
   "cell_type": "markdown",
   "source": [
    "#### Outline"
   ],
   "metadata": {
    "collapsed": false
   }
  },
  {
   "cell_type": "markdown",
   "source": [
    "基準値計算用の住宅について、用途別床面積、幾何形状、開口部面積、各部位の面積を取得する関数を統合する。  \n",
    "各部位の面積より外壁・開口部・内壁のリストを作成する。"
   ],
   "metadata": {
    "collapsed": false
   }
  },
  {
   "cell_type": "code",
   "execution_count": null,
   "outputs": [],
   "source": [],
   "metadata": {
    "collapsed": false,
    "pycharm": {
     "name": "#%%\n"
    }
   }
  }
 ],
 "metadata": {
  "kernelspec": {
   "display_name": "Python 3",
   "language": "python",
   "name": "python3"
  },
  "language_info": {
   "codemirror_mode": {
    "name": "ipython",
    "version": 3
   },
   "file_extension": ".py",
   "mimetype": "text/x-python",
   "name": "python",
   "nbconvert_exporter": "python",
   "pygments_lexer": "ipython3",
   "version": "3.7.6"
  },
  "pycharm": {
   "stem_cell": {
    "cell_type": "raw",
    "source": [],
    "metadata": {
     "collapsed": false
    }
   }
  }
 },
 "nbformat": 4,
 "nbformat_minor": 2
}