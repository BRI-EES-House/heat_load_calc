{
 "cells": [
  {
   "cell_type": "code",
   "execution_count": 4,
   "metadata": {},
   "outputs": [],
   "source": [
    "import numpy as np\n",
    "import pandas as pd\n",
    "\n",
    "from heat_load_calc import season\n",
    "from heat_load_calc.weather import Weather\n",
    "from heat_load_calc.interval import Interval"
   ]
  },
  {
   "cell_type": "markdown",
   "metadata": {},
   "source": [
    "## seasonに実装する_get_season_status_by_fourier_tranformを外部から実行する"
   ]
  },
  {
   "cell_type": "markdown",
   "metadata": {},
   "source": [
    "### weatherクラスの作成"
   ]
  },
  {
   "cell_type": "code",
   "execution_count": 5,
   "metadata": {},
   "outputs": [],
   "source": [
    "# 気象データを作成\n",
    "_d_common_ees = {\n",
    "        \"weather\": {\n",
    "            \"method\": \"ees\",\n",
    "            \"region\": \"6\"\n",
    "        }\n",
    "    }\n",
    "\n",
    "w=Weather.make_weather(d_common=_d_common_ees, itv=Interval.M15)"
   ]
  },
  {
   "cell_type": "code",
   "execution_count": 6,
   "metadata": {},
   "outputs": [
    {
     "name": "stdout",
     "output_type": "stream",
     "text": [
      "('11/01', '04/24', '05/18', '10/05', True, True)\n"
     ]
    },
    {
     "name": "stderr",
     "output_type": "stream",
     "text": [
      "c:\\Users\\satoh\\OneDrive - 佐藤エネルギーリサーチ株式会社\\users\\sourcetree\\heat_load_calc\\heat_load_calc\\season.py:323: FutureWarning: 'H' is deprecated and will be removed in a future version, please use 'h' instead.\n",
      "  date_index = pd.date_range(start=start_time, periods=8761, freq=\"H\")\n"
     ]
    }
   ],
   "source": [
    "print(season._get_season_status_by_fourier_tranform(w=w))"
   ]
  }
 ],
 "metadata": {
  "kernelspec": {
   "display_name": "base",
   "language": "python",
   "name": "python3"
  },
  "language_info": {
   "codemirror_mode": {
    "name": "ipython",
    "version": 3
   },
   "file_extension": ".py",
   "mimetype": "text/x-python",
   "name": "python",
   "nbconvert_exporter": "python",
   "pygments_lexer": "ipython3",
   "version": "3.11.5"
  }
 },
 "nbformat": 4,
 "nbformat_minor": 2
}
