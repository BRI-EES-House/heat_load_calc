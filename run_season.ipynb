{
 "cells": [
  {
   "cell_type": "code",
   "execution_count": 1,
   "metadata": {},
   "outputs": [],
   "source": [
    "import numpy as np\n",
    "import pandas as pd\n",
    "\n",
    "from heat_load_calc import season\n",
    "from heat_load_calc.weather import Weather\n",
    "from heat_load_calc.interval import Interval"
   ]
  },
  {
   "cell_type": "markdown",
   "metadata": {},
   "source": [
    "## seasonに実装する_get_season_status_by_fourier_tranformを外部から実行する"
   ]
  },
  {
   "cell_type": "markdown",
   "metadata": {},
   "source": [
    "### weatherクラスの作成"
   ]
  },
  {
   "cell_type": "code",
   "execution_count": 2,
   "metadata": {},
   "outputs": [],
   "source": [
    "# 気象データを作成\n",
    "_d_common_ees = {\n",
    "        \"weather\": {\n",
    "            \"method\": \"ees\",\n",
    "            \"region\": \"6\"\n",
    "        }\n",
    "    }\n",
    "\n",
    "w=Weather.make_weather(d_common=_d_common_ees, itv=Interval.M15)"
   ]
  },
  {
   "cell_type": "code",
   "execution_count": 3,
   "metadata": {},
   "outputs": [
    {
     "name": "stderr",
     "output_type": "stream",
     "text": [
      "c:\\Users\\satoh\\OneDrive - 佐藤エネルギーリサーチ株式会社\\users\\sourcetree\\heat_load_calc\\heat_load_calc\\season.py:323: FutureWarning: 'H' is deprecated and will be removed in a future version, please use 'h' instead.\n",
      "  date_index = pd.date_range(start=start_time, periods=8761, freq=\"H\")\n",
      "c:\\Users\\satoh\\OneDrive - 佐藤エネルギーリサーチ株式会社\\users\\sourcetree\\heat_load_calc\\heat_load_calc\\season.py:323: FutureWarning: 'H' is deprecated and will be removed in a future version, please use 'h' instead.\n",
      "  date_index = pd.date_range(start=start_time, periods=8761, freq=\"H\")\n",
      "c:\\Users\\satoh\\OneDrive - 佐藤エネルギーリサーチ株式会社\\users\\sourcetree\\heat_load_calc\\heat_load_calc\\season.py:323: FutureWarning: 'H' is deprecated and will be removed in a future version, please use 'h' instead.\n",
      "  date_index = pd.date_range(start=start_time, periods=8761, freq=\"H\")\n",
      "c:\\Users\\satoh\\OneDrive - 佐藤エネルギーリサーチ株式会社\\users\\sourcetree\\heat_load_calc\\heat_load_calc\\season.py:323: FutureWarning: 'H' is deprecated and will be removed in a future version, please use 'h' instead.\n",
      "  date_index = pd.date_range(start=start_time, periods=8761, freq=\"H\")\n"
     ]
    },
    {
     "name": "stdout",
     "output_type": "stream",
     "text": [
      "1 ('09/17', '06/07', '06/27', '08/24', True, True)\n",
      "2 ('09/25', '06/05', '07/03', '08/24', True, True)\n",
      "3 ('10/05', '05/21', '06/14', '09/07', True, True)\n",
      "4 ('10/12', '05/13', '06/01', '09/18', True, True)\n",
      "5 ('10/19', '05/06', '06/02', '09/23', True, True)\n",
      "6 ('11/01', '04/24', '05/18', '10/05', True, True)\n",
      "7 ('11/10', '04/12', '05/14', '10/14', True, True)\n",
      "8 (None, None, '04/26', '11/13', False, True)\n"
     ]
    },
    {
     "name": "stderr",
     "output_type": "stream",
     "text": [
      "c:\\Users\\satoh\\OneDrive - 佐藤エネルギーリサーチ株式会社\\users\\sourcetree\\heat_load_calc\\heat_load_calc\\season.py:323: FutureWarning: 'H' is deprecated and will be removed in a future version, please use 'h' instead.\n",
      "  date_index = pd.date_range(start=start_time, periods=8761, freq=\"H\")\n",
      "c:\\Users\\satoh\\OneDrive - 佐藤エネルギーリサーチ株式会社\\users\\sourcetree\\heat_load_calc\\heat_load_calc\\season.py:323: FutureWarning: 'H' is deprecated and will be removed in a future version, please use 'h' instead.\n",
      "  date_index = pd.date_range(start=start_time, periods=8761, freq=\"H\")\n",
      "c:\\Users\\satoh\\OneDrive - 佐藤エネルギーリサーチ株式会社\\users\\sourcetree\\heat_load_calc\\heat_load_calc\\season.py:323: FutureWarning: 'H' is deprecated and will be removed in a future version, please use 'h' instead.\n",
      "  date_index = pd.date_range(start=start_time, periods=8761, freq=\"H\")\n",
      "c:\\Users\\satoh\\OneDrive - 佐藤エネルギーリサーチ株式会社\\users\\sourcetree\\heat_load_calc\\heat_load_calc\\season.py:323: FutureWarning: 'H' is deprecated and will be removed in a future version, please use 'h' instead.\n",
      "  date_index = pd.date_range(start=start_time, periods=8761, freq=\"H\")\n"
     ]
    }
   ],
   "source": [
    "for i in range(1, 9):\n",
    "    # 気象データを作成\n",
    "    _d_common_ees = {\n",
    "            \"weather\": {\n",
    "                \"method\": \"ees\",\n",
    "                \"region\": str(i)\n",
    "            }\n",
    "        }\n",
    "    w=Weather.make_weather(d_common=_d_common_ees, itv=Interval.M15)\n",
    "    print(i, season._get_season_status_by_fourier_tranform(w=w))"
   ]
  }
 ],
 "metadata": {
  "kernelspec": {
   "display_name": "base",
   "language": "python",
   "name": "python3"
  },
  "language_info": {
   "codemirror_mode": {
    "name": "ipython",
    "version": 3
   },
   "file_extension": ".py",
   "mimetype": "text/x-python",
   "name": "python",
   "nbconvert_exporter": "python",
   "pygments_lexer": "ipython3",
   "version": "3.11.5"
  }
 },
 "nbformat": 4,
 "nbformat_minor": 2
}
