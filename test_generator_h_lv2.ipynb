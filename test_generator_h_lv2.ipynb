{
 "cells": [
  {
   "cell_type": "code",
   "execution_count": 1,
   "metadata": {},
   "outputs": [],
   "source": [
    "import copy\n",
    "import csv\n",
    "import re\n",
    "import pandas as pd"
   ]
  },
  {
   "cell_type": "markdown",
   "metadata": {},
   "source": [
    "#### 1) ライブラリ"
   ]
  },
  {
   "cell_type": "markdown",
   "metadata": {},
   "source": [
    "##### パスの最初のキーを取得する"
   ]
  },
  {
   "cell_type": "code",
   "execution_count": 2,
   "metadata": {},
   "outputs": [],
   "source": [
    "def get_first_key(s_path):\n",
    "    return s_path.split('/')[0]"
   ]
  },
  {
   "cell_type": "markdown",
   "metadata": {},
   "source": [
    "##### パスの最後のキーを取得する"
   ]
  },
  {
   "cell_type": "code",
   "execution_count": 3,
   "metadata": {},
   "outputs": [],
   "source": [
    "def get_last_key(s_path):    \n",
    "    return s_path.split('/')[-1]"
   ]
  },
  {
   "cell_type": "markdown",
   "metadata": {},
   "source": [
    "#### パスの最初のキーを除外する"
   ]
  },
  {
   "cell_type": "code",
   "execution_count": 4,
   "metadata": {},
   "outputs": [],
   "source": [
    "def exclude_first_key(s_path):\n",
    "    return '/'.join(s_path.split('/')[1:])"
   ]
  },
  {
   "cell_type": "markdown",
   "metadata": {},
   "source": [
    "##### パスの最後のキーを除外する"
   ]
  },
  {
   "cell_type": "code",
   "execution_count": 5,
   "metadata": {},
   "outputs": [],
   "source": [
    "def exclude_last_key(s_path):\n",
    "    return '/'.join(s_path.split('/')[:-1])"
   ]
  },
  {
   "cell_type": "markdown",
   "metadata": {},
   "source": [
    "##### パスの最初の[　]中の数を取得する"
   ]
  },
  {
   "cell_type": "code",
   "execution_count": 37,
   "metadata": {},
   "outputs": [],
   "source": [
    "def get_int_in_first_brackets(s_path):\n",
    "    return int(re.findall(r'\\[([0-9]+)\\]',s_path.split('/')[0])[0])"
   ]
  },
  {
   "cell_type": "markdown",
   "metadata": {},
   "source": [
    "##### パスの最後の[　]中の数を取得する"
   ]
  },
  {
   "cell_type": "code",
   "execution_count": 7,
   "metadata": {},
   "outputs": [],
   "source": [
    "def get_int_in_last_brackets(s_path):\n",
    "    return int(re.findall(r'\\[([0-9]+)\\]',s_path.split('/')[-1])[0])"
   ]
  },
  {
   "cell_type": "markdown",
   "metadata": {},
   "source": [
    "##### keys_and_settings用のパスをcase用のパスに変更する"
   ]
  },
  {
   "cell_type": "code",
   "execution_count": 8,
   "metadata": {},
   "outputs": [],
   "source": [
    "def get_path_for_case(s_path):\n",
    "    return s_path.replace('/dictionary', '').replace('/list', '')"
   ]
  },
  {
   "cell_type": "markdown",
   "metadata": {},
   "source": [
    "##### パスの最後にキーを追加して新しいパスを作成する"
   ]
  },
  {
   "cell_type": "code",
   "execution_count": 9,
   "metadata": {},
   "outputs": [],
   "source": [
    "def make_new_path(s_path, key, addition):\n",
    "    \n",
    "    if s_path == '':\n",
    "        return key + addition\n",
    "        \n",
    "    else:\n",
    "        return s_path + '/' + key + addition"
   ]
  },
  {
   "cell_type": "markdown",
   "metadata": {},
   "source": [
    "##### 指定されたパスの辞書を取得する"
   ]
  },
  {
   "cell_type": "code",
   "execution_count": 10,
   "metadata": {},
   "outputs": [],
   "source": [
    "def get_dictionary_from_path(d, s_path):\n",
    "    \n",
    "    if d == None:\n",
    "        return None\n",
    "\n",
    "    elif s_path == '' :\n",
    "        return d\n",
    "    \n",
    "    elif s_path.count('/') == 0: \n",
    "        if type(d) == list:\n",
    "            n_list_element = get_int_in_first_brackets(s_path)\n",
    "            if n_list_element < len(d):\n",
    "                return d[n_list_element]\n",
    "            else:\n",
    "                raise Exception\n",
    "        else:\n",
    "            if s_path in d:\n",
    "                return d[s_path]\n",
    "            else:\n",
    "                None\n",
    "    \n",
    "    else:\n",
    "        if type(d) == list:\n",
    "            n_list_element = get_int_in_first_brackets(s_path)\n",
    "            if n_list_element < len(d):\n",
    "                return get_dictionary_from_path(d[n_list_element], exclude_first_key(s_path))\n",
    "            else:\n",
    "                raise Exception\n",
    "        else:\n",
    "            if get_first_key(s_path) in d:\n",
    "                return get_dictionary_from_path(d[get_first_key(s_path)], exclude_first_key(s_path))\n",
    "            else:\n",
    "                return None"
   ]
  },
  {
   "cell_type": "markdown",
   "metadata": {},
   "source": [
    "##### 指定されたパスの辞書の指定されたキーの値を取得する"
   ]
  },
  {
   "cell_type": "code",
   "execution_count": 11,
   "metadata": {},
   "outputs": [],
   "source": [
    "def get_key_value_from_dictionary(d, key, s_path):\n",
    "    \n",
    "    if d == None:\n",
    "        return None\n",
    "    \n",
    "    elif s_path == '' :\n",
    "        if type(d) == list:\n",
    "            if get_int_in_first_brackets(key) < len(d):\n",
    "                return d[get_int_in_first_brackets(key)]\n",
    "            else:\n",
    "                return None\n",
    "        else:\n",
    "            if key in d:\n",
    "                return d[key]\n",
    "            else:\n",
    "                return None\n",
    "    \n",
    "    elif s_path.count('/') == 0:     \n",
    "        if type(d) == list:\n",
    "            n_list_element = get_int_in_first_brackets(s_path)\n",
    "            if n_list_element < len(d):\n",
    "                return d[n_list_element][key]\n",
    "            else:\n",
    "                return None\n",
    "        if s_path in d:\n",
    "            if d[s_path] == None:\n",
    "                return None\n",
    "            else:\n",
    "                if key in d[s_path]:\n",
    "                    return d[s_path][key]\n",
    "                else:\n",
    "                    return None\n",
    "        else:\n",
    "            return None\n",
    "    \n",
    "    else:\n",
    "        if type(d) == list:\n",
    "            n_list_element = get_int_in_first_brackets(s_path)\n",
    "            if n_list_element < len(d):\n",
    "                return get_key_value_from_dictionary(d[n_list_element], key, exclude_first_key(s_path))\n",
    "            else:\n",
    "                return None\n",
    "        else:\n",
    "            if get_first_key(s_path) in d:\n",
    "                return get_key_value_from_dictionary(d[get_first_key(s_path)], key, exclude_first_key(s_path))\n",
    "            else:\n",
    "                return None"
   ]
  },
  {
   "cell_type": "markdown",
   "metadata": {},
   "source": [
    "##### キーの値を取得する"
   ]
  },
  {
   "cell_type": "code",
   "execution_count": 12,
   "metadata": {},
   "outputs": [],
   "source": [
    "def get_key_value(case, key, s_path):\n",
    "    \n",
    "    d_target = get_dictionary_from_path(case, s_path)\n",
    "    \n",
    "    if d_target == None:\n",
    "        return None\n",
    "    \n",
    "    else:    \n",
    "        if key in d_target:\n",
    "            return get_key_value_from_dictionary(case, key, s_path)\n",
    "\n",
    "        else:\n",
    "            if s_path.count('/') == 0:\n",
    "                return None\n",
    "            else:\n",
    "                return get_key_value(case, key, exclude_last_key(s_path))"
   ]
  },
  {
   "cell_type": "markdown",
   "metadata": {},
   "source": [
    "##### キーのパスを取得する"
   ]
  },
  {
   "cell_type": "code",
   "execution_count": 13,
   "metadata": {},
   "outputs": [],
   "source": [
    "def get_key_path(d, key, s_path):\n",
    "    \n",
    "    if key in get_dictionary_from_path(d, s_path):\n",
    "        return s_path + '/' + key\n",
    "        \n",
    "    else:\n",
    "        return get_key_path(d, key, exclude_last_key(s_path))"
   ]
  },
  {
   "cell_type": "markdown",
   "metadata": {},
   "source": [
    "##### キーの値を設定する"
   ]
  },
  {
   "cell_type": "code",
   "execution_count": 14,
   "metadata": {},
   "outputs": [],
   "source": [
    "def set_key_value(d, key, s_path, value):\n",
    "    \n",
    "    d_target = get_dictionary_from_path(d, s_path)\n",
    "    if key in d_target:\n",
    "        d_target[key] = value\n",
    "        \n",
    "    else:\n",
    "        set_key_value(d, key, exclude_last_key(s_path), value)"
   ]
  },
  {
   "cell_type": "markdown",
   "metadata": {},
   "source": [
    "#### 2) conditonsの条件に該当しない項目をNoneとする"
   ]
  },
  {
   "cell_type": "markdown",
   "metadata": {},
   "source": [
    "##### キーの値をNoneに設定する"
   ]
  },
  {
   "cell_type": "code",
   "execution_count": 15,
   "metadata": {},
   "outputs": [],
   "source": [
    "def set_key_none(case, s_path):\n",
    "\n",
    "    if s_path == '' :\n",
    "        case = None\n",
    "    \n",
    "    elif s_path.count('/') == 0:\n",
    "        if type(case) == list:\n",
    "            case[get_int_in_first_brackets(s_path)] = None\n",
    "        else:\n",
    "            case[s_path] = None\n",
    "        \n",
    "    else:\n",
    "        if type(case) == list:            \n",
    "            set_key_none(case[get_int_in_first_brackets(s_path)], exclude_first_key(s_path))\n",
    "        else:\n",
    "            set_key_none(case[get_first_key(s_path)], exclude_first_key(s_path))"
   ]
  },
  {
   "cell_type": "markdown",
   "metadata": {},
   "source": [
    "##### 条件を満たさない項目をNoneに設定する"
   ]
  },
  {
   "cell_type": "code",
   "execution_count": 16,
   "metadata": {},
   "outputs": [],
   "source": [
    "def set_none(d, case, s_path):\n",
    "    \n",
    "    d_target = get_dictionary_from_path(d, s_path)\n",
    "    \n",
    "    for key in d_target :\n",
    "        \n",
    "        if 'conditions' in d_target[key]:\n",
    "            set_typical = False\n",
    "            # conditionsの中に全ての項目が条件を満たす組合せがある場合には、typicalを設定に該当\n",
    "            for condition in d_target[key]['conditions']:                \n",
    "                s_path_for_case = get_path_for_case(s_path)\n",
    "                if all(get_key_value(case, condition_key, s_path_for_case) == condition[condition_key] for condition_key in condition): \n",
    "                    set_typical = True  \n",
    "        else:\n",
    "            set_typical = True\n",
    "            \n",
    "        # typicalを設定に該当しない場合には、Noneとする\n",
    "        if set_typical == False:\n",
    "            set_key_none(case, get_path_for_case(s_path) + '/' + key)\n",
    "        \n",
    "        # typicalを設定に該当し、下位項目がdictionaryの場合\n",
    "        elif 'dictionary' in d_target[key]:\n",
    "            set_none(d, case, make_new_path(s_path, key, '/dictionary'))\n",
    "        \n",
    "        # typicalを設定に該当し、下位項目がlistの場合\n",
    "        elif 'list' in d_target[key]:\n",
    "            set_none(d, case, make_new_path(s_path, key, '/list/[0]'))"
   ]
  },
  {
   "cell_type": "markdown",
   "metadata": {},
   "source": [
    "#### 3) 基準ケース作成"
   ]
  },
  {
   "cell_type": "markdown",
   "metadata": {},
   "source": [
    "##### 各項目をデフォルト値に設定する"
   ]
  },
  {
   "cell_type": "code",
   "execution_count": 17,
   "metadata": {},
   "outputs": [],
   "source": [
    "def make_standard_case(d):\n",
    "    \n",
    "    standard_case = {}\n",
    "    \n",
    "    # 基準ケースの作成\n",
    "    for key in d:\n",
    "        \n",
    "        if 'dictionary' in d[key]:\n",
    "            standard_case[key] = make_standard_case(d[key]['dictionary'])\n",
    "            \n",
    "        elif 'list' in d[key]:\n",
    "            standard_case[key] = [make_standard_case(d[key]['list'][0])]\n",
    "        \n",
    "        elif d[key]['input'] == 'option' or d[key]['input'] == 'value':\n",
    "            standard_case[key] = d[key]['typical']\n",
    "            \n",
    "        elif d[key]['input'] == 'text':\n",
    "            standard_case[key] = d[key]['templete']\n",
    "                    \n",
    "    return standard_case"
   ]
  },
  {
   "cell_type": "markdown",
   "metadata": {},
   "source": [
    "#### 4) 設定値リスト作成"
   ]
  },
  {
   "cell_type": "markdown",
   "metadata": {},
   "source": [
    "##### リスト要素の追加・削除"
   ]
  },
  {
   "cell_type": "code",
   "execution_count": 18,
   "metadata": {},
   "outputs": [],
   "source": [
    "def add_and_remove_list(l_level, setting):\n",
    "    \n",
    "    # リスト要素の追加\n",
    "    if 'extra' in setting:\n",
    "        for element in setting['extra']:\n",
    "            if element not in l_level:\n",
    "                l_level.append(element)\n",
    "    \n",
    "    # リスト要素の削除\n",
    "    if 'exception' in setting:\n",
    "        for element in setting['exception']:\n",
    "            if element in l_level:\n",
    "                l_level.remove(element)\n",
    "    \n",
    "    return sorted(l_level)"
   ]
  },
  {
   "cell_type": "markdown",
   "metadata": {},
   "source": [
    "##### 要素選択の項目の設定値リスト作成"
   ]
  },
  {
   "cell_type": "code",
   "execution_count": 19,
   "metadata": {},
   "outputs": [],
   "source": [
    "def make_list_for_options(setting):\n",
    "    \n",
    "    # ケース設定用のリスト作成\n",
    "    temp = add_and_remove_list(setting['options'], setting)    \n",
    "    temp = [0] + temp + [max(temp) + 1]    \n",
    "    options = add_and_remove_list(temp, setting)\n",
    "    \n",
    "    return options"
   ]
  },
  {
   "cell_type": "markdown",
   "metadata": {},
   "source": [
    "##### 値入力の項目の設定値リスト作成"
   ]
  },
  {
   "cell_type": "code",
   "execution_count": 20,
   "metadata": {},
   "outputs": [],
   "source": [
    "def make_list_for_values(setting):\n",
    "    \n",
    "    # ケース設定用のリスト作成\n",
    "    temp = [\n",
    "        setting['min'] - setting['dec'],\n",
    "        setting['min'],\n",
    "        setting['typical'],\n",
    "        setting['max'],\n",
    "        setting['max'] + setting['dec']\n",
    "    ]\n",
    "    values = add_and_remove_list(temp, setting)\n",
    "    \n",
    "    return values"
   ]
  },
  {
   "cell_type": "markdown",
   "metadata": {},
   "source": [
    "#### 5) 項目の入力条件を満たすよう設定"
   ]
  },
  {
   "cell_type": "markdown",
   "metadata": {},
   "source": [
    "##### 項目の入力条件を満たすよう上位項目のconditionに規定された項目の値を設定"
   ]
  },
  {
   "cell_type": "code",
   "execution_count": 21,
   "metadata": {},
   "outputs": [],
   "source": [
    "def set_upper_keys(d, case, s_path):\n",
    "\n",
    "    d_target = get_dictionary_from_path(d, s_path)\n",
    "\n",
    "    # 上位の項目の条件を満たすよう設定する\n",
    "    if type(d_target) == list:\n",
    "        pass    \n",
    "    elif 'conditions' in d_target:\n",
    "        case = meet_condition(d, case, s_path) \n",
    "        \n",
    "    if s_path.count('/') > 0: \n",
    "        set_upper_keys(d, case, exclude_last_key(s_path))"
   ]
  },
  {
   "cell_type": "markdown",
   "metadata": {},
   "source": [
    "##### 項目の入力条件を満たすようconditionに規定された項目の値を設定"
   ]
  },
  {
   "cell_type": "code",
   "execution_count": 22,
   "metadata": {},
   "outputs": [],
   "source": [
    "def meet_condition(d, case, s_path):\n",
    "    \n",
    "    d_target = get_dictionary_from_path(d, s_path)\n",
    "\n",
    "    # conditionsを含む場合\n",
    "    if 'conditions' in d_target:\n",
    "    \n",
    "        # リストの1番目の条件を満たすよう、リスト中の項目を設定する\n",
    "        for condition_key in  d_target['conditions'][0]:\n",
    "\n",
    "            value = d_target['conditions'][0][condition_key]  \n",
    "            s_path_for_case = get_path_for_case(exclude_last_key(s_path))\n",
    "            set_key_value(case, condition_key, s_path_for_case, value)\n",
    "\n",
    "            new_s_path = get_key_path(d, condition_key, s_path)\n",
    "            meet_condition(d, case, new_s_path)\n",
    "\n",
    "    # 上位項目を有する場合\n",
    "    if s_path.count('/') > 0:\n",
    "        set_upper_keys(d, case, exclude_last_key(s_path))\n",
    "            \n",
    "    return case"
   ]
  },
  {
   "cell_type": "markdown",
   "metadata": {},
   "source": [
    "#### 6) ケース作成"
   ]
  },
  {
   "cell_type": "markdown",
   "metadata": {},
   "source": [
    "##### 項目の値を設定"
   ]
  },
  {
   "cell_type": "code",
   "execution_count": 23,
   "metadata": {},
   "outputs": [],
   "source": [
    "def set_element(case, s_path, element):\n",
    "    \n",
    "    target_d = get_dictionary_from_path(case, exclude_last_key(s_path))\n",
    "    target_d[get_last_key(s_path)] = element"
   ]
  },
  {
   "cell_type": "markdown",
   "metadata": {},
   "source": [
    "##### 項目の値をリストの値に設定"
   ]
  },
  {
   "cell_type": "code",
   "execution_count": 24,
   "metadata": {},
   "outputs": [],
   "source": [
    "def make_case(d, cases, standard_case, l_level, s_path):\n",
    "    \n",
    "    # ケース設定\n",
    "        for element in l_level:\n",
    "            case = copy.deepcopy(standard_case)             \n",
    "            set_element(case, get_path_for_case(s_path), element)\n",
    "            meet_condition(d, case, s_path)\n",
    "            set_none(d, case, '')            \n",
    "            case['target_key'] =  get_last_key(s_path)           \n",
    "            cases.append(case)"
   ]
  },
  {
   "cell_type": "markdown",
   "metadata": {},
   "source": [
    "##### 各項目の値をリストの値に設定"
   ]
  },
  {
   "cell_type": "code",
   "execution_count": 25,
   "metadata": {},
   "outputs": [],
   "source": [
    "def make_cases(cases, standard_case, d, s_path):\n",
    "    \n",
    "    d_target = get_dictionary_from_path(d, s_path)\n",
    "    \n",
    "    # ケースの生成\n",
    "    for key in d_target:\n",
    "        \n",
    "        #下位項目にdictionaryを有する場合\n",
    "        if 'dictionary' in d_target[key] :\n",
    "            new_s_path = make_new_path(s_path, key, '/dictionary')\n",
    "            cases = make_cases(cases, standard_case, d, new_s_path)        \n",
    "        \n",
    "        #下位項目にlistを有する場合\n",
    "        elif 'list' in d_target[key] :\n",
    "            new_s_path = make_new_path(s_path, key, '/list/[0]')\n",
    "            cases = make_cases(cases, standard_case, d, new_s_path)\n",
    "\n",
    "        #要素選択の項目\n",
    "        elif d_target[key]['input'] == 'option' :\n",
    "            new_s_path = make_new_path(s_path, key, '')\n",
    "            l_level = make_list_for_options(d_target[key])\n",
    "            make_case(d, cases, standard_case, l_level, new_s_path)\n",
    "        \n",
    "        #値入力の項目\n",
    "        elif d_target[key]['input'] == 'value' :\n",
    "            new_s_path = make_new_path(s_path, key, '')\n",
    "            l_level = make_list_for_values(d_target[key])\n",
    "            make_case(d, cases, standard_case, l_level, new_s_path)\n",
    "\n",
    "    return cases"
   ]
  },
  {
   "cell_type": "markdown",
   "metadata": {},
   "source": [
    "#### 7) リストの項目の複製"
   ]
  },
  {
   "cell_type": "markdown",
   "metadata": {},
   "source": [
    "##### リスト数の取得 ただし条件に適合する最小のリスト数の取得となっている"
   ]
  },
  {
   "cell_type": "code",
   "execution_count": 26,
   "metadata": {},
   "outputs": [],
   "source": [
    "def get_n_list(d, case, s_path):\n",
    "    \n",
    "    d_target = get_dictionary_from_path(d, s_path)\n",
    "    \n",
    "    if type(d_target) == int:\n",
    "        return d_target\n",
    "    \n",
    "    else:\n",
    "        s_path_for_case = get_path_for_case(s_path)\n",
    "        for key in d_target:\n",
    "            s_path_for_case = get_path_for_case(exclude_last_key(s_path))\n",
    "            for condition in d_target[key]:\n",
    "                if all(get_key_value(case, condition_key, s_path_for_case) == condition[condition_key] for condition_key in condition):\n",
    "                    return key\n",
    "                \n",
    "        # 該当する条件のない場合は複製しない（リスト数1）\n",
    "        return 1"
   ]
  },
  {
   "cell_type": "markdown",
   "metadata": {},
   "source": [
    "##### リスト複製"
   ]
  },
  {
   "cell_type": "code",
   "execution_count": 27,
   "metadata": {},
   "outputs": [],
   "source": [
    "def copy_list(case, n_list, s_path):\n",
    "\n",
    "    if n_list > 0 :\n",
    "        \n",
    "        d_target = get_dictionary_from_path(case, s_path)\n",
    "        \n",
    "        if d_target != None:\n",
    "            for i in range(0, n_list):\n",
    "                    d_target.append(copy.deepcopy(d_target[0]))\n",
    "\n",
    "            for i in range(0, n_list):\n",
    "                if 'name' in d_target[i]:\n",
    "                    d_target[i]['name'] = d_target[i]['name'] + str(i + 1)\n",
    "\n",
    "    return case"
   ]
  },
  {
   "cell_type": "markdown",
   "metadata": {},
   "source": [
    "##### リストの項目の複製"
   ]
  },
  {
   "cell_type": "code",
   "execution_count": 28,
   "metadata": {},
   "outputs": [],
   "source": [
    "def copy_case_list(d, case, s_path):\n",
    "    \n",
    "    d_target = get_dictionary_from_path(d, s_path)\n",
    "\n",
    "    if type(d_target) == list:\n",
    "        new_s_path = make_new_path(s_path, '[0]', '')\n",
    "        return copy_case_list(d, case, new_s_path)\n",
    "    \n",
    "    else:\n",
    "        for key in d_target:\n",
    "            if 'list' in d_target[key]:\n",
    "                new_s_path = make_new_path(s_path, key, '/list')\n",
    "                case = copy_case_list(d, case, new_s_path)\n",
    "                    \n",
    "                n_list = get_n_list(d, case, s_path + '/' + key + '/n_list')\n",
    "                case = copy_list(case, n_list, get_path_for_case(new_s_path))\n",
    "                \n",
    "            elif 'dictionary'in d_target[key]:                \n",
    "                new_s_path = make_new_path(s_path, key, '/dictionary')\n",
    "                case =  copy_case_list(d, case, new_s_path)\n",
    "            \n",
    "    return case"
   ]
  },
  {
   "cell_type": "markdown",
   "metadata": {},
   "source": [
    "##### リストをコピーしてケースを上書き"
   ]
  },
  {
   "cell_type": "code",
   "execution_count": 29,
   "metadata": {},
   "outputs": [],
   "source": [
    "def copy_cases_list(d, cases):\n",
    "\n",
    "    for i, case in enumerate(cases):\n",
    "        new_case = copy.deepcopy(case)\n",
    "        cases[i] = copy_case_list(d, new_case, s_path='')\n",
    "            \n",
    "    return cases"
   ]
  },
  {
   "cell_type": "markdown",
   "metadata": {},
   "source": [
    "#### 8) csv出力用リストの作成"
   ]
  },
  {
   "cell_type": "markdown",
   "metadata": {},
   "source": [
    "##### 最大のリスト数の取得"
   ]
  },
  {
   "cell_type": "code",
   "execution_count": 30,
   "metadata": {},
   "outputs": [],
   "source": [
    "def get_max_n_list(d, s_path):\n",
    "    \n",
    "    d_target = get_dictionary_from_path(d, s_path)\n",
    "    \n",
    "    if type(d_target['n_list']) == int:\n",
    "        return d_target['n_list']\n",
    "    \n",
    "    else:\n",
    "        return max(d_target['n_list'].keys())"
   ]
  },
  {
   "cell_type": "markdown",
   "metadata": {},
   "source": [
    "##### csv出力用キーの作成"
   ]
  },
  {
   "cell_type": "code",
   "execution_count": 31,
   "metadata": {},
   "outputs": [],
   "source": [
    "def make_keys(d, keys, s_path, s_path_for_d):\n",
    "    \n",
    "    d_target = get_dictionary_from_path(d, s_path_for_d)\n",
    "    \n",
    "    if type(d_target) == list:\n",
    "        \n",
    "        n_list = get_max_n_list(d, exclude_last_key(s_path_for_d))\n",
    "        \n",
    "        for i in range(0, n_list):\n",
    "            new_s_path = make_new_path(s_path, '[' + str(i) + ']', '')\n",
    "            new_s_path_for_d = make_new_path(s_path_for_d , '[0]', '')\n",
    "            keys = make_keys(d, keys, new_s_path, new_s_path_for_d)\n",
    "            \n",
    "    else:\n",
    "        for key in d_target:\n",
    "            if key != 'conditions' and  key != 'n_list':\n",
    "                if 'input' not in d_target[key]: \n",
    "                    keys = make_keys(d, keys, make_new_path(s_path, key, ''), make_new_path(s_path_for_d, key, ''))\n",
    "\n",
    "                elif s_path == '':\n",
    "                    keys = keys + [get_path_for_case(key)]\n",
    "\n",
    "                else:\n",
    "                    keys = keys + [get_path_for_case(s_path) + '/' + key]\n",
    "        \n",
    "    return keys"
   ]
  },
  {
   "cell_type": "markdown",
   "metadata": {},
   "source": [
    "##### cav出力用リストの作成"
   ]
  },
  {
   "cell_type": "code",
   "execution_count": 32,
   "metadata": {},
   "outputs": [],
   "source": [
    "def make_cases_for_csv(cases, keys):\n",
    "    \n",
    "    cases_for_csv = []\n",
    "    \n",
    "    for case in cases:\n",
    "        case_for_csv = {}\n",
    "        for key in keys:\n",
    "            case_for_csv[key] = get_key_value_from_dictionary(case, get_last_key(key), exclude_last_key(key))\n",
    "        cases_for_csv.append(case_for_csv) \n",
    "    \n",
    "    return cases_for_csv"
   ]
  },
  {
   "cell_type": "markdown",
   "metadata": {},
   "source": [
    "#### 9) 作成済ケースの確認"
   ]
  },
  {
   "cell_type": "code",
   "execution_count": 33,
   "metadata": {},
   "outputs": [],
   "source": [
    "def check_existence(cases):\n",
    "    \n",
    "    existing_cases = {}\n",
    "    \n",
    "    for i, case in enumerate(cases):\n",
    "    \n",
    "        # 作成済ケースに一致するケースがある場合は、一致するケースの番号を取得\n",
    "        t_case = tuple(case[key] for key in case if key != 'target_key')\n",
    "        if t_case in existing_cases:\n",
    "            case['existing_case'] = existing_cases[t_case] + 1\n",
    "\n",
    "        # 作成済ケースに一致するケースがない場合は、作成済ケースに追加\n",
    "        else:\n",
    "            existing_cases[t_case] = i"
   ]
  },
  {
   "cell_type": "markdown",
   "metadata": {},
   "source": [
    "#### 10) テストケース出力"
   ]
  },
  {
   "cell_type": "code",
   "execution_count": 34,
   "metadata": {},
   "outputs": [],
   "source": [
    "def output_cases(keys_and_settings):\n",
    "\n",
    "    # 基準ケースの作成\n",
    "    standard_case = make_standard_case(keys_and_settings)\n",
    "\n",
    "    # テストケースの作成\n",
    "    cases = make_cases([], standard_case, keys_and_settings, s_path='')    \n",
    "    \n",
    "    # リスト複製\n",
    "    cases = copy_cases_list(keys_and_settings, cases)\n",
    "    \n",
    "    # csv出力用テストケースの作成\n",
    "    keys = ['target_key'] + ['existing_case'] + make_keys(keys_and_settings, keys=[], s_path='', s_path_for_d='')\n",
    "    cases_for_csv = make_cases_for_csv(cases, keys)\n",
    "    \n",
    "    # 重複確認\n",
    "    check_existence(cases_for_csv)   \n",
    "\n",
    "    # csv出力\n",
    "    with open(\"test_lv2_cases.csv\", \"w\", encoding=\"Shift_jis\") as csv_test_lv2_cases:\n",
    "        csv_test_lv2_cases.write(','.join(keys) + '\\n')\n",
    "\n",
    "        for case in cases_for_csv:\n",
    "            row = [(str(case[key]) if key in case else '') for key in keys]\n",
    "            csv_test_lv2_cases.write(','.join(row) + '\\n')"
   ]
  },
  {
   "cell_type": "markdown",
   "metadata": {},
   "source": [
    "#### 11) 項目設定"
   ]
  },
  {
   "cell_type": "code",
   "execution_count": 35,
   "metadata": {
    "scrolled": true
   },
   "outputs": [],
   "source": [
    "keys_and_settings = {\n",
    "'common': {'dictionary': {\t\t\t\t\t\n",
    "\t'region': { 'input': 'option', 'options': [1, 2, 3, 4, 5, 6, 7, 8], 'typical': 1},\t\t\t\t\n",
    "\t'main_occupant_room_floor_area': { 'input': 'value', 'dec': 0.01, 'min': 0, 'max': 999.99, 'typical': 29.81},\t\t\t\t\n",
    "\t'other_occupant_room_floor_area': { 'input': 'value', 'dec': 0.01, 'min': 0, 'max': 999.99, 'typical': 51.34},\t\t\t\t\n",
    "\t'total_floor_area': { 'input': 'value', 'dec': 0.01, 'min': 0, 'max': 999.99, 'typical': 120.08}\t\t\t\t\n",
    "}},\t\t\t\t\t\n",
    "'envelope': {'dictionary': {\t\t\t\t\t\n",
    "\t'input_method': { 'input': 'option', 'options': [1, 2, 3, 4], 'exception': [1], 'typical': 1},\t\t\t\t\n",
    "\t'simple_method': {'conditions': [{'input_method': 2}], 'dictionary': {\t\t\t\t\n",
    "\t\t'insulation_type': { 'input': 'option', 'options': [1, 2], 'typical': 1},\t\t\t\n",
    "\t\t'insulation_type_bathroom': { 'input': 'option', 'options': [1, 2, 3], 'typical': 1, 'conditions': [{'insulation_type': 1}]},\t\t\t\n",
    "\t\t'u_value_roof': { 'input': 'value', 'dec': 0.01, 'min': 0, 'max': 10, 'typical': 0.24},\t\t\t\n",
    "\t\t'u_value_wall': { 'input': 'value', 'dec': 0.01, 'min': 0, 'max': 10, 'typical': 0.53},\t\t\t\n",
    "\t\t'u_value_door': { 'input': 'value', 'dec': 0.01, 'min': 0, 'max': 10, 'typical': 4.65},\t\t\t\n",
    "\t\t'u_value_window': { 'input': 'value', 'dec': 0.01, 'min': 0, 'max': 10, 'typical': 4.65},\t\t\t\n",
    "\t\t'u_value_floor_bathroom': { 'input': 'value', 'dec': 0.01, 'min': 0, 'max': 10, 'typical': 0.48, 'conditions': [{'insulation_type_bathroom': 1}]},\t\t\t\n",
    "\t\t'u_value_floor_other': { 'input': 'value', 'dec': 0.01, 'min': 0, 'max': 10, 'typical': 0.48, 'conditions': [{'insulation_type': 1}]},\t\t\t\n",
    "\t\t'is_psi_value_base_input': { 'input': 'option', 'options': [1, 2], 'typical': 1},\t\t\t\n",
    "\t\t'psi_value_earthfloor_perimeter_entrance': { 'input': 'value', 'dec': 0.01, 'min': 0, 'max': 10, 'typical': 0.53, 'conditions': [{'is_psi_value_base_input': 1}]},\t\t\t\n",
    "\t\t'psi_value_earthfloor_perimeter_bathroom': { 'input': 'value', 'dec': 0.01, 'min': 0, 'max': 10, 'typical': 0.53, 'conditions': [{'is_psi_value_base_input': 1, 'insulation_type_bathroom': 2}]},\t\t\t\n",
    "\t\t'psi_value_earthfloor_perimeter_other': { 'input': 'value', 'dec': 0.01, 'min': 0, 'max': 10, 'typical': 0.53, 'conditions': [{'is_psi_value_base_input': 1, 'insulation_type': 2}]},\t\t\t\n",
    "\t\t'eta_d_value_window_h': { 'input': 'value', 'dec': 0.001, 'min': 0, 'max': 1, 'typical': 0.63},\t\t\t\n",
    "\t\t'eta_d_value_window_c': { 'input': 'value', 'dec': 0.001, 'min': 0, 'max': 1, 'typical': 0.63},\t\t\t\n",
    "\t\t'is_f_value_input': { 'input': 'option', 'options': [1, 2], 'typical': 1},\t\t\t\n",
    "\t\t'f_value_h': { 'input': 'value', 'dec': 0.001, 'min': 0, 'max': 1, 'typical': 0.589, 'conditions': [{'is_f_value_input': 1}]},\t\t\t\n",
    "\t\t'f_value_c': { 'input': 'value', 'dec': 0.001, 'min': 0, 'max': 1, 'typical': 0.864, 'conditions': [{'is_f_value_input': 1}]}\t\t\t\n",
    "\t}},\t\t\t\t\n",
    "\t'general_parts': {'conditions': [{'input_method': 3}, {'input_method': 4}], 'n_list': 3, 'list': [{\t\t\t\t\n",
    "\t\t'name': { 'input': 'text', 'templete': 'GP'},\t\t\t\n",
    "\t\t'general_part_type': { 'input': 'option', 'options': [1, 2, 3, 4, 5, 6, 7], 'typical': 1},\t\t\t\n",
    "\t\t'next_space': { 'input': 'option', 'options': [1, 2, 3, 4, 5, 6], 'typical': 1},\t\t\t\n",
    "\t\t'direction': { 'input': 'option', 'options': [1, 2, 3, 4, 5, 6, 7, 8, 9, 10, 11, 12, 13], 'typical': 1},\t\t\t\n",
    "\t\t'area': { 'input': 'value', 'dec': 0.01, 'min': 0, 'max': 99.99, 'typical': 1},\t\t\t\n",
    "\t\t'space_type': { 'input': 'option', 'options': [1, 2, 3, 4], 'typical': 1, 'conditions': [{'input_method': 4}]},\t\t\t\n",
    "\t\t'spec': {'dictionary': {\t\t\t\n",
    "\t\t\t'structure': { 'input': 'option', 'options': [1, 2, 3, 4], 'typical': 1},\t\t\n",
    "\t\t\t'u_value_input_method_wood': { 'input': 'option', 'options': [1, 2, 3, '(4'], 'exception': ['(4'], 'typical': 1, 'conditions': [{'structure': 1}]},\t\t\n",
    "\t\t\t'u_value_input_method_rc': { 'input': 'option', 'options': [1, 2], 'typical': 1, 'conditions': [{'structure': 2}]},\t\t\n",
    "\t\t\t'u_value_input_method_steel': { 'input': 'option', 'options': [1, 2], 'typical': 1, 'conditions': [{'structure': 3}]},\t\t\n",
    "\t\t\t'u_value_wood': { 'input': 'value', 'dec': 0.01, 'min': 0, 'max': 10, 'typical': 1, 'conditions': [{'u_value_input_method_wood': 1}]},\t\t\n",
    "\t\t\t'floor_construction_method': { 'input': 'option', 'options': [1, 2, 3, 4, 5, 6, 7], 'typical': 1, 'conditions': [{'general_part_type': 4, 'u_value_input_method_wood': 3}, {'general_part_type': 6, 'u_value_input_method_wood': 3}, {'general_part_type': 7, 'u_value_input_method_wood': 3}]},\t\t\n",
    "\t\t\t'wall_construction_method': { 'input': 'option', 'options': [1, 2, 3, 4, 5, 6], 'typical': 1, 'conditions': [{'general_part_type': 3, 'u_value_input_method_wood': 3}, {'general_part_type': 5, 'u_value_input_method_wood': 3}]},\t\t\n",
    "\t\t\t'ceiling_construction_method': { 'input': 'option', 'options': [1], 'typical': 1, 'conditions': [{'general_part_type': 2, 'u_value_input_method_wood': 3}]},\t\t\n",
    "\t\t\t'roof_construction_method': { 'input': 'option', 'options': [1, 2], 'typical': 1, 'conditions': [{'general_part_type': 1, 'u_value_input_method_wood': 3}]},\t\t\n",
    "\t\t\t'u_value_rc': { 'input': 'value', 'dec': 0.01, 'min': 0, 'max': 10, 'typical': 1, 'conditions': [{'u_value_input_method_rc': 1}]},\t\t\n",
    "\t\t\t'u_value_steel': { 'input': 'value', 'dec': 0.01, 'min': 0, 'max': 10, 'typical': 1, 'conditions': [{'u_value_input_method_steel': 1}]},\t\t\n",
    "\t\t\t'u_r_value_steel': { 'input': 'value', 'dec': 0.01, 'min': 0, 'max': 0.7, 'typical': 1, 'conditions': [{'u_value_input_method_steel': 2}]},\t\t\n",
    "\t\t\t'u_value_other': { 'input': 'value', 'dec': 0.01, 'min': 0, 'max': 10, 'typical': 1, 'conditions': [{'structure': 4}]},\t\t\n",
    "\t\t\t'parts': {'conditions': [{'u_value_input_method_wood': 2}, {'u_value_input_method_wood': 3}, {'u_value_input_method_rc': 2}, {'u_value_input_method_steel': 2}], 'n_list': {1: [{'u_value_input_method_wood': 2}, {'u_value_input_method_rc': 2}, {'u_value_input_method_steel': 2}], 2: [{'u_value_input_method_wood': 3}], 4: [{'general_part_type': 1, 'u_value_input_method_wood': 3}, {'general_part_type': 3, 'u_value_input_method_wood': 3}, {'general_part_type': 4, 'u_value_input_method_wood': 3}, {'general_part_type': 5, 'u_value_input_method_wood': 3}], 6: [{'general_part_type': 3, 'u_value_input_method_wood': 3}, {'general_part_type': 5, 'u_value_input_method_wood': 3}]}, 'list': [{\t\t\n",
    "\t\t\t\t'name': { 'input': 'text', 'templete': 'PRT'},\t\n",
    "\t\t\t\t'part_type': { 'input': 'option', 'options': [1, 2, 3, 4, 5, 6, 7, 8], 'typical': 1, 'conditions': [{'u_value_input_method_wood': 3}]},\t\n",
    "\t\t\t\t'layers': {'n_list': 3, 'list': [{\t\n",
    "\t\t\t\t\t'name': { 'input': 'text', 'templete': 'LYR'},\n",
    "\t\t\t\t\t'heat_resistance_input_method': { 'input': 'option', 'options': [1, 2], 'typical': 1},\n",
    "\t\t\t\t\t'thermal_conductivity': { 'input': 'value', 'dec': 0.001, 'min': 0.001, 'max': 999.999, 'typical': 1, 'conditions': [{'heat_resistance_input_method': 1}]},\n",
    "\t\t\t\t\t'thermal_resistance': { 'input': 'value', 'dec': 0.1, 'min': 0, 'max': 9999.9, 'typical': 1, 'conditions': [{'heat_resistance_input_method': 2}]},\n",
    "\t\t\t\t\t'thickness': { 'input': 'value', 'dec': 0.0001, 'min': 0.0001, 'max': 9.9999, 'typical': 1},\n",
    "\t\t\t\t\t'volumetric_specific_heat': { 'input': 'value', 'dec': 0.1, 'min': 0, 'max': 9999.9, 'typical': 1}\n",
    "\t\t\t\t}]}\t\n",
    "\t\t\t}]},\t\t\n",
    "\t\t\t'is_sunshade_input': { 'input': 'option', 'options': [1, 2], 'typical': 1}\t\t\n",
    "\t\t}}\t\t\t\n",
    "\t}]},\t\t\t\t\n",
    "\t'windows': {'n_list': 3, 'list': [{\t\t\t\t\n",
    "\t\t'name': { 'input': 'text', 'templete': 'WND'},\t\t\t\n",
    "\t\t'next_space': { 'input': 'option', 'options': [1, 2, 3, 4, 5, 6], 'typical': 1},\t\t\t\n",
    "\t\t'direction': { 'input': 'option', 'options': [1, 2, 3, 4, 5, 6, 7, 8, 9, 10, 11, 12, 13], 'typical': 1},\t\t\t\n",
    "\t\t'area': { 'input': 'value', 'dec': 0.01, 'min': 0, 'max': 99.99, 'typical': 1},\t\t\t\n",
    "\t\t'space_type': { 'input': 'option', 'options': [1, 2, 3, 4], 'typical': 1},\t\t\t\n",
    "\t\t'spec': {'dictionary': {\t\t\t\n",
    "\t\t\t'window_type': { 'input': 'option', 'options': [1, 2], 'typical': 1},\t\t\n",
    "\t\t\t'windows': {'n_list': {1: [{'window_type': 1}], 2: [{'window_type': 2}]}, 'list': [{\t\t\n",
    "\t\t\t\t'u_value_input_method': { 'input': 'option', 'options': [1, 2], 'typical': 1},\t\n",
    "\t\t\t\t'u_vaue': { 'input': 'value', 'dec': 0.01, 'min': 0, 'max': 10, 'typical': 1, 'conditions': [{'u_value_input_method': 1}]},\t\n",
    "\t\t\t\t'ug_value': { 'input': 'value', 'dec': 0.01, 'min': 0, 'max': 10, 'typical': 1, 'conditions': [{'u_value_input_method': 2}]},\t\n",
    "\t\t\t\t'flame_type': { 'input': 'option', 'options': [1, 2, 3], 'typical': 1, 'conditions': [{'u_value_input_method': 2}]},\t\n",
    "\t\t\t\t'eta_d_value': { 'input': 'value', 'dec': 0.001, 'min': 0, 'max': 1, 'typical': 1},\t\n",
    "\t\t\t\t'glass_type': { 'input': 'option', 'options': [1, 2, 3, 4], 'typical': 1}\t\n",
    "\t\t\t}]},\t\t\n",
    "\t\t\t'attachment_type': { 'input': 'option', 'options': [1, 2, 3, 4], 'typical': 1},\t\t\n",
    "\t\t\t'is_windbreak_room_attached': { 'input': 'option', 'options': [1, 2], 'typical': 1},\t\t\n",
    "\t\t\t'sunshade': {'dictionary': {\t\t\n",
    "\t\t\t\t'y1': { 'input': 'value', 'dec': 0.01, 'min': 0, 'max': 10, 'typical': 1},\t\n",
    "\t\t\t\t'y2': { 'input': 'value', 'dec': 0.01, 'min': 0, 'max': 10, 'typical': 1},\t\n",
    "\t\t\t\t'z': { 'input': 'value', 'dec': 0.01, 'min': 0, 'max': 10, 'typical': 1}\t\n",
    "\t\t\t}}\t\t\n",
    "\t\t}}\t\t\t\n",
    "\t}]},\t\t\t\t\n",
    "\t'doors': {'n_list': 3, 'list': [{\t\t\t\t\n",
    "\t\t'name': { 'input': 'text', 'templete': 'DR'},\t\t\t\n",
    "\t\t'next_space': { 'input': 'option', 'options': [1, 2, 3, 4, 5, 6], 'typical': 1},\t\t\t\n",
    "\t\t'direction': { 'input': 'option', 'options': [1, 2, 3, 4, 5, 6, 7, 8, 9, 10, 11, 12, 13], 'typical': 1},\t\t\t\n",
    "\t\t'area': { 'input': 'value', 'dec': 0.01, 'min': 0, 'max': 99.99, 'typical': 1},\t\t\t\n",
    "\t\t'space_type': { 'input': 'option', 'options': [1, 2, 3, 4], 'typical': 1},\t\t\t\n",
    "\t\t'spec': {'dictionary': {\t\t\t\n",
    "\t\t\t'u_vaue': { 'input': 'value', 'dec': 0.01, 'min': 0, 'max': 10, 'typical': 1},\t\t\n",
    "\t\t\t'is_sunshade_input': { 'input': 'option', 'options': [1, 2], 'typical': 1}\t\t\n",
    "\t\t}}\t\t\t\n",
    "\t}]},\t\t\t\t\n",
    "\t'earthfloor_perimeters': {'n_list': 3, 'list': [{\t\t\t\t\n",
    "\t\t'name': { 'input': 'text', 'templete': 'EFP'},\t\t\t\n",
    "\t\t'next_space': { 'input': 'option', 'options': [1, 2, 3, 4, 5, 6], 'typical': 1},\t\t\t\n",
    "\t\t'direction': { 'input': 'option', 'options': [1, 2, 3, 4, 5, 6, 7, 8, 9, 10, 11, 12, 13], 'typical': 1},\t\t\t\n",
    "\t\t'length': { 'input': 'value', 'dec': 0.01, 'min': 0, 'max': 99.99, 'typical': 1},\t\t\t\n",
    "\t\t'space_type': { 'input': 'option', 'options': [1, 2, 3, 4], 'typical': 1},\t\t\t\n",
    "\t\t'spec': {'dictionary': {\t\t\t\n",
    "\t\t\t'psi_value': { 'input': 'value', 'dec': 0.01, 'min': 0, 'max': 10, 'typical': 1}\t\t\n",
    "\t\t}}\t\t\t\n",
    "\t}]},\t\t\t\t\n",
    "\t'earthfloor_centers': {'n_list': 3, 'list': [{\t\t\t\t\n",
    "\t\t'name': { 'input': 'text', 'templete': 'EFC'},\t\t\t\n",
    "\t\t'area': { 'input': 'value', 'dec': 0.01, 'min': 0, 'max': 99.99, 'typical': 1},\t\t\t\n",
    "\t\t'space_type': { 'input': 'option', 'options': [1, 2, 3, 4], 'typical': 1}\t\t\t\n",
    "\t}]},\t\t\t\t\n",
    "\t'inner_floors': {'n_list': 3, 'list': [{\t\t\t\t\n",
    "\t\t'name': { 'input': 'text', 'templete': 'INF'},\t\t\t\n",
    "\t\t'area': { 'input': 'value', 'dec': 0.01, 'min': 0, 'max': 99.99, 'typical': 1},\t\t\t\n",
    "\t\t'upper_space_type': { 'input': 'option', 'options': [1, 2, 3, 4], 'typical': 1},\t\t\t\n",
    "\t\t'lower_space_type': { 'input': 'option', 'options': [1, 2, 3, 4], 'typical': 1},\t\t\t\n",
    "\t\t'spec': {'dictionary': {\t\t\t\n",
    "\t\t\t'layers': {'n_list': 3, 'list': [{\t\t\n",
    "\t\t\t\t'name': { 'input': 'text', 'templete': 'LYR'},\t\n",
    "\t\t\t\t'heat_resistance_input_method': { 'input': 'option', 'options': [1, 2], 'typical': 1},\t\n",
    "\t\t\t\t'thermal_conductivity': { 'input': 'value', 'dec': 0.001, 'min': 0.001, 'max': 999.999, 'typical': 1, 'conditions': [{'heat_resistance_input_method': 1}]},\t\n",
    "\t\t\t\t'thermal_resistance': { 'input': 'value', 'dec': 0.1, 'min': 0, 'max': 9999.9, 'typical': 1, 'conditions': [{'heat_resistance_input_method': 2}]},\t\n",
    "\t\t\t\t'thickness': { 'input': 'value', 'dec': 0.0001, 'min': 0.0001, 'max': 9.9999, 'typical': 1},\t\n",
    "\t\t\t\t'volumetric_specific_heat': { 'input': 'value', 'dec': 0.1, 'min': 0, 'max': 9999.9, 'typical': 1}\t\n",
    "\t\t\t}]}\t\t\n",
    "\t\t}}\t\t\t\n",
    "\t}]},\t\t\t\t\n",
    "\t'inner_walls': {'n_list': 3, 'list': [{\t\t\t\t\n",
    "\t\t'name': { 'input': 'text', 'templete': 'INW'},\t\t\t\n",
    "\t\t'area': { 'input': 'value', 'dec': 0.01, 'min': 0, 'max': 99.99, 'typical': 1},\t\t\t\n",
    "\t\t'space_type_1': { 'input': 'option', 'options': [1, 2, 3, 4], 'typical': 1},\t\t\t\n",
    "\t\t'speace_type_2': { 'input': 'option', 'options': [1, 2, 3, 4], 'typical': 1},\t\t\t\n",
    "\t\t'spec': {'dictionary': {\t\t\t\n",
    "\t\t\t'layers': {'n_list': 3, 'list': [{\t\t\n",
    "\t\t\t\t'name': { 'input': 'text', 'templete': 'LYR'},\t\n",
    "\t\t\t\t'heat_resistance_input_method': { 'input': 'option', 'options': [1, 2], 'typical': 1},\t\n",
    "\t\t\t\t'thermal_conductivity': { 'input': 'value', 'dec': 0.001, 'min': 0.001, 'max': 999.999, 'typical': 1, 'conditions': [{'heat_resistance_input_method': 1}]},\t\n",
    "\t\t\t\t'thermal_resistance': { 'input': 'value', 'dec': 0.1, 'min': 0, 'max': 9999.9, 'typical': 1, 'conditions': [{'heat_resistance_input_method': 2}]},\t\n",
    "\t\t\t\t'thickness': { 'input': 'value', 'dec': 0.0001, 'min': 0.0001, 'max': 9.9999, 'typical': 1},\t\n",
    "\t\t\t\t'volumetric_specific_heat': { 'input': 'value', 'dec': 0.1, 'min': 0, 'max': 9999.9, 'typical': 1}\t\n",
    "\t\t\t}]}\t\t\n",
    "\t\t}}\t\t\t\n",
    "\t}]}\t\t\t\t\n",
    "}},\t\t\t\t\t\n",
    "'ventilation': {'dictionary': {\t\t\t\t\t\n",
    "\t'air_change_rate': { 'input': 'value', 'dec': 0.1, 'min': 0, 'max': 1, 'typical': 1}\t\t\t\t\n",
    "}}\t\t\t\t\t\n",
    "}\n",
    "\n",
    "output_cases(keys_and_settings)"
   ]
  },
  {
   "cell_type": "code",
   "execution_count": null,
   "metadata": {},
   "outputs": [],
   "source": []
  }
 ],
 "metadata": {
  "kernelspec": {
   "display_name": "Python 3",
   "language": "python",
   "name": "python3"
  },
  "language_info": {
   "codemirror_mode": {
    "name": "ipython",
    "version": 3
   },
   "file_extension": ".py",
   "mimetype": "text/x-python",
   "name": "python",
   "nbconvert_exporter": "python",
   "pygments_lexer": "ipython3",
   "version": "3.7.0"
  }
 },
 "nbformat": 4,
 "nbformat_minor": 2
}
