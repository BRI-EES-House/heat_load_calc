{
 "cells": [
  {
   "cell_type": "code",
   "execution_count": 1,
   "metadata": {},
   "outputs": [],
   "source": [
    "import copy\n",
    "import csv\n",
    "import re\n",
    "import json\n",
    "import pandas as pd"
   ]
  },
  {
   "cell_type": "markdown",
   "metadata": {},
   "source": [
    "#### 1) ライブラリ"
   ]
  },
  {
   "cell_type": "markdown",
   "metadata": {},
   "source": [
    "##### パスの先頭のキーを取得する"
   ]
  },
  {
   "cell_type": "code",
   "execution_count": 2,
   "metadata": {},
   "outputs": [],
   "source": [
    "def get_root_key(s_path):\n",
    "    return s_path.split('/')[0]"
   ]
  },
  {
   "cell_type": "markdown",
   "metadata": {},
   "source": [
    "##### パスの末尾のキーを取得する"
   ]
  },
  {
   "cell_type": "code",
   "execution_count": 3,
   "metadata": {},
   "outputs": [],
   "source": [
    "def get_leaf_key(s_path):    \n",
    "    return s_path.split('/')[-1]"
   ]
  },
  {
   "cell_type": "markdown",
   "metadata": {},
   "source": [
    "##### パスの先頭のインデックスを取得する"
   ]
  },
  {
   "cell_type": "code",
   "execution_count": 6,
   "metadata": {},
   "outputs": [],
   "source": [
    "def get_root_index(s_path):\n",
    "    return int(re.findall(r'\\[([0-9]+)\\]',s_path.split('/')[0])[0])"
   ]
  },
  {
   "cell_type": "markdown",
   "metadata": {},
   "source": [
    "##### パスの末尾のインデックスを取得する"
   ]
  },
  {
   "cell_type": "code",
   "execution_count": 7,
   "metadata": {},
   "outputs": [],
   "source": [
    "def get_leaf_index(s_path):\n",
    "    return int(re.findall(r'\\[([0-9]+)\\]',s_path.split('/')[-1])[0])"
   ]
  },
  {
   "cell_type": "markdown",
   "metadata": {},
   "source": [
    "#### パスの先頭のキー・インデックスを除外する"
   ]
  },
  {
   "cell_type": "code",
   "execution_count": 4,
   "metadata": {},
   "outputs": [],
   "source": [
    "def exclude_root_node(s_path):\n",
    "    return '/'.join(s_path.split('/')[1:])"
   ]
  },
  {
   "cell_type": "markdown",
   "metadata": {},
   "source": [
    "##### パスの末尾のキー・インデックスを除外する"
   ]
  },
  {
   "cell_type": "code",
   "execution_count": 5,
   "metadata": {},
   "outputs": [],
   "source": [
    "def exclude_leaf_node(s_path):\n",
    "    return '/'.join(s_path.split('/')[:-1])"
   ]
  },
  {
   "cell_type": "markdown",
   "metadata": {},
   "source": [
    "##### keys_and_settings用のパスをcase用のパスに変更する"
   ]
  },
  {
   "cell_type": "code",
   "execution_count": 8,
   "metadata": {},
   "outputs": [],
   "source": [
    "def get_path_for_case(s_path):\n",
    "    return s_path.replace('/dictionary', '').replace('/list', '')"
   ]
  },
  {
   "cell_type": "markdown",
   "metadata": {},
   "source": [
    "##### パスの最後にキーを追加して新しいパスを作成する"
   ]
  },
  {
   "cell_type": "code",
   "execution_count": 9,
   "metadata": {},
   "outputs": [],
   "source": [
    "def make_new_path(s_path, key, addition):\n",
    "    \n",
    "    # パスの先頭のキーとなる場合\n",
    "    if s_path == '':\n",
    "        return key + addition\n",
    "        \n",
    "    # パスの先頭のキーとならない場合\n",
    "    else:\n",
    "        return s_path + '/' + key + addition"
   ]
  },
  {
   "cell_type": "markdown",
   "metadata": {},
   "source": [
    "##### 指定されたオブジェクトを取得する"
   ]
  },
  {
   "cell_type": "markdown",
   "metadata": {},
   "source": [
    "対応するオブジェクトが見つからない場合にはNoneを返す"
   ]
  },
  {
   "cell_type": "code",
   "execution_count": 10,
   "metadata": {},
   "outputs": [],
   "source": [
    "def get_object_or_none_by_path(obj, s_path):\n",
    "    \n",
    "    # オブジェクトまたはパスがNoneの場合はNoneを返す\n",
    "    if obj == None or s_path == None:\n",
    "        return None\n",
    "\n",
    "    # パスの指定がない場合は辞書をそのまま返す\n",
    "    elif s_path == '' :\n",
    "        return obj\n",
    "    \n",
    "    # キーが指定された場合はリストの要素または辞書の値を返す\n",
    "    elif s_path.count('/') == 0: \n",
    "        \n",
    "        # リストの場合\n",
    "        if type(obj) == list:\n",
    "            root_index = get_root_index(s_path)\n",
    "            if root_index < len(obj):\n",
    "                return obj[root_index]\n",
    "            else:\n",
    "                return None\n",
    "                \n",
    "        # 辞書の場合\n",
    "        else:\n",
    "            if s_path in obj:\n",
    "                return obj[s_path]\n",
    "            else:\n",
    "                return None\n",
    "    \n",
    "    # パスが指定された場合は再帰呼び出し\n",
    "    else:\n",
    "        \n",
    "        # リストの場合\n",
    "        if type(obj) == list:\n",
    "            root_index = get_root_index(s_path)\n",
    "            if root_index < len(obj):\n",
    "                return get_object_or_none_by_path(obj[root_index], exclude_root_node(s_path))\n",
    "            else:\n",
    "                return None\n",
    "                \n",
    "        # 辞書の場合\n",
    "        else:\n",
    "            if get_root_key(s_path) in obj:\n",
    "                return get_object_or_none_by_path(obj[get_root_key(s_path)], exclude_root_node(s_path))\n",
    "            else:\n",
    "                return None"
   ]
  },
  {
   "cell_type": "markdown",
   "metadata": {},
   "source": [
    "対応するオブジェクトが見つからない場合には例外処理"
   ]
  },
  {
   "cell_type": "code",
   "execution_count": 11,
   "metadata": {},
   "outputs": [],
   "source": [
    "def get_object_or_exception_by_path(obj, s_path):\n",
    "    \n",
    "    obj_temp = get_object_or_none_by_path(obj, s_path)\n",
    "    \n",
    "    if obj_temp == None:\n",
    "        raise Exception\n",
    "    else:\n",
    "        return obj_temp"
   ]
  },
  {
   "cell_type": "markdown",
   "metadata": {},
   "source": [
    "##### 指定されたパスの辞書の指定されたキーの値を取得する"
   ]
  },
  {
   "cell_type": "markdown",
   "metadata": {},
   "source": [
    "対応する値が見つからない場合にはNoneを返す"
   ]
  },
  {
   "cell_type": "code",
   "execution_count": 12,
   "metadata": {},
   "outputs": [],
   "source": [
    "def get_value_or_none_by_key(d, key, s_path):\n",
    "    \n",
    "    # 辞書がNoneの場合はNoneを返す\n",
    "    if d == None:\n",
    "        return None\n",
    "    \n",
    "    # パスの指定がない場合は辞書をそのまま返す\n",
    "    elif s_path == '' :\n",
    "        \n",
    "        # リストの場合\n",
    "        if type(d) == list:\n",
    "            root_index = get_root_index(key)\n",
    "            if root_index < len(d):\n",
    "                return d[root_index]\n",
    "            else:\n",
    "                return None\n",
    "            \n",
    "        # 辞書の場合\n",
    "        else:          \n",
    "            if key in d:\n",
    "                return d[key]\n",
    "            else:\n",
    "                return None\n",
    "    \n",
    "    # キーが指定された場合はリストまたは辞書を返す\n",
    "    elif s_path.count('/') == 0:    \n",
    "        \n",
    "        # リストの場合\n",
    "        if type(d) == list:\n",
    "            root_index = get_root_index(s_path)\n",
    "            if root_index < len(d):\n",
    "                return d[root_index][key]\n",
    "            else:\n",
    "                return None\n",
    "            \n",
    "        # 辞書の場合\n",
    "        else:\n",
    "            if s_path in d:\n",
    "                if d[s_path] == None:\n",
    "                    return None\n",
    "                else:\n",
    "                    if key in d[s_path]:\n",
    "                        return d[s_path][key]\n",
    "                    else:\n",
    "                        return None\n",
    "                    \n",
    "    # パスが指定された場合は再帰呼び出し\n",
    "    else:\n",
    "        \n",
    "        # リストの場合\n",
    "        if type(d) == list:\n",
    "            root_index = get_root_index(s_path)\n",
    "            if root_index < len(d):\n",
    "                return get_value_or_none_by_key(d[root_index], key, exclude_root_node(s_path))\n",
    "            else:\n",
    "                return None\n",
    "            \n",
    "        # 辞書の場合\n",
    "        else:\n",
    "            if get_root_key(s_path) in d:\n",
    "                return get_value_or_none_by_key(d[get_root_key(s_path)], key, exclude_root_node(s_path))\n",
    "            else:\n",
    "                return None"
   ]
  },
  {
   "cell_type": "markdown",
   "metadata": {},
   "source": [
    "対応する値が見つからない場合には例外処理"
   ]
  },
  {
   "cell_type": "code",
   "execution_count": 13,
   "metadata": {},
   "outputs": [],
   "source": [
    "def get_value_or_exception_by_key(d, key, s_path):\n",
    "    \n",
    "    value_temp = get_value_or_none_by_key(d, key, s_path)\n",
    "    \n",
    "    if value_temp == None:\n",
    "        raise Exception\n",
    "    else:\n",
    "        return value_temp"
   ]
  },
  {
   "cell_type": "markdown",
   "metadata": {},
   "source": [
    "##### キーのパスを取得する"
   ]
  },
  {
   "cell_type": "markdown",
   "metadata": {},
   "source": [
    "対応するキーのパスが見つからない場合にはNoneを返す"
   ]
  },
  {
   "cell_type": "code",
   "execution_count": 14,
   "metadata": {},
   "outputs": [],
   "source": [
    "def find_key_path_or_none(d, key, s_path):\n",
    "    \n",
    "    d_target = get_object_or_none_by_path(d, s_path)\n",
    "    \n",
    "    # 対応する辞書が見つからない場合はNoneを返す\n",
    "    if d_target == None:\n",
    "        return None\n",
    "    \n",
    "    # 辞書にキーが含まれる場合はキーのパスを返す\n",
    "    elif key in get_object_or_exception_by_path(d, s_path):\n",
    "        return s_path + '/' + key\n",
    "    \n",
    "    # 辞書にキーが含まれない場合\n",
    "    else:\n",
    "        \n",
    "        # 上位の辞書がある場合は再帰呼び出し\n",
    "        if s_path.count('/') > 0:\n",
    "            return find_key_path_or_none(d, key, exclude_leaf_node(s_path))\n",
    "        \n",
    "        # 上位の辞書がない場合はNoneを返す\n",
    "        else:\n",
    "            raise None"
   ]
  },
  {
   "cell_type": "markdown",
   "metadata": {},
   "source": [
    "対応するキーのパスが見つからない場合には例外処理"
   ]
  },
  {
   "cell_type": "code",
   "execution_count": 15,
   "metadata": {},
   "outputs": [],
   "source": [
    "def find_key_path_or_exception(d, key, s_path):\n",
    "    \n",
    "    path_temp = find_key_path_or_none(d, key, s_path)\n",
    "    \n",
    "    if path_temp == None:\n",
    "        raise Exception\n",
    "    else:\n",
    "        return path_temp"
   ]
  },
  {
   "cell_type": "markdown",
   "metadata": {},
   "source": [
    "##### キーの値を設定する"
   ]
  },
  {
   "cell_type": "code",
   "execution_count": 16,
   "metadata": {},
   "outputs": [],
   "source": [
    "def set_value_by_key(d, s_path, value):\n",
    "    \n",
    "    # 辞書の取得\n",
    "    d_target = get_object_or_exception_by_path(d, exclude_leaf_node(s_path))\n",
    "    \n",
    "    # 対応する辞書が見つからない場合にはNoneを返す\n",
    "    if d_target == None:\n",
    "        raise Exception\n",
    "    \n",
    "    # キーの値を設定する\n",
    "    else:\n",
    "        d_target[get_leaf_key(s_path)] = value"
   ]
  },
  {
   "cell_type": "markdown",
   "metadata": {},
   "source": [
    "#### 2) 入力条件に該当しない項目をNoneとする"
   ]
  },
  {
   "cell_type": "markdown",
   "metadata": {},
   "source": [
    "##### キーの値をNoneに設定する"
   ]
  },
  {
   "cell_type": "code",
   "execution_count": 17,
   "metadata": {},
   "outputs": [],
   "source": [
    "def set_element_none(case, s_path):\n",
    "    \n",
    "    # 辞書の取得\n",
    "    d_target = get_object_or_exception_by_path(case, exclude_leaf_node(s_path))    \n",
    "    \n",
    "    # Noneに設定\n",
    "    if s_path == '' :\n",
    "        case = None\n",
    "    else:\n",
    "        if type(case) == list:\n",
    "            d_target[get_leaf_index(s_path)] = None\n",
    "        else:\n",
    "            d_target[get_leaf_key(s_path)] = None"
   ]
  },
  {
   "cell_type": "markdown",
   "metadata": {},
   "source": [
    "##### 条件を満たさない項目をNoneに設定する"
   ]
  },
  {
   "cell_type": "code",
   "execution_count": 18,
   "metadata": {},
   "outputs": [],
   "source": [
    "def set_unconditional_elements_none(keys_and_settings, case, s_path):\n",
    "    \n",
    "    # 辞書の取得\n",
    "    d_target = get_object_or_exception_by_path(keys_and_settings, s_path)\n",
    "    \n",
    "    for key in d_target :\n",
    "        \n",
    "        # conditionsがある場合\n",
    "        if 'conditions' in d_target[key]:\n",
    "            set_typical = False\n",
    "            # conditionsの中に全ての項目が条件を満たす組合せがある場合には、typicalを設定に該当\n",
    "            for condition in d_target[key]['conditions']:                \n",
    "                s_path_for_case = get_path_for_case(s_path)\n",
    "                if all(get_object_or_none_by_path(case, find_key_path_or_exception(case, condition_key, s_path_for_case)) == condition[condition_key] for condition_key in condition): \n",
    "                    set_typical = True  \n",
    "        else:\n",
    "            set_typical = True\n",
    "            \n",
    "        # typicalを設定に該当しない場合には、Noneとする\n",
    "        if set_typical == False:\n",
    "            set_element_none(case, get_path_for_case(make_new_path(s_path, key, '')))\n",
    "        \n",
    "        # typicalを設定に該当し、下位項目がdictionaryの場合\n",
    "        elif 'dictionary' in d_target[key]:\n",
    "            set_unconditional_elements_none(keys_and_settings, case, make_new_path(s_path, key, '/dictionary'))\n",
    "        \n",
    "        # typicalを設定に該当し、下位項目がlistの場合\n",
    "        elif 'list' in d_target[key]:\n",
    "            set_unconditional_elements_none(keys_and_settings, case, make_new_path(s_path, key, '/list/[0]'))"
   ]
  },
  {
   "cell_type": "markdown",
   "metadata": {},
   "source": [
    "#### 3) 基準ケース作成"
   ]
  },
  {
   "cell_type": "markdown",
   "metadata": {},
   "source": [
    "##### 各項目をデフォルト値に設定する"
   ]
  },
  {
   "cell_type": "code",
   "execution_count": 19,
   "metadata": {},
   "outputs": [],
   "source": [
    "def make_standard_case(keys_and_settings, s_path):\n",
    "    \n",
    "    standard_case = {}\n",
    "    \n",
    "    # 辞書の取得\n",
    "    d_target = get_object_or_exception_by_path(keys_and_settings, s_path)\n",
    "    \n",
    "    # 基準ケースの作成\n",
    "    for key in d_target:\n",
    "        \n",
    "        # 下位項目に辞書がある場合は再帰呼び出し\n",
    "        if 'dictionary' in d_target[key]:\n",
    "            standard_case[key] = make_standard_case(keys_and_settings, make_new_path(s_path, key, '/dictionary'))\n",
    "        \n",
    "        # 下位項目にリストがある場合は再帰呼び出し\n",
    "        elif 'list' in d_target[key]:\n",
    "            standard_case[key] = [make_standard_case(keys_and_settings, make_new_path(s_path, key, '/list/[0]'))]\n",
    "        \n",
    "        # 値入力の項目の設定\n",
    "        elif d_target[key]['input'] == 'option' or d_target[key]['input'] == 'value':\n",
    "            standard_case[key] = d_target[key]['typical']\n",
    "            \n",
    "        # 要素選択の項目の設定\n",
    "        elif d_target[key]['input'] == 'text':\n",
    "            standard_case[key] = d_target[key]['templete']\n",
    "                    \n",
    "    return standard_case"
   ]
  },
  {
   "cell_type": "markdown",
   "metadata": {},
   "source": [
    "#### 4) 設定値リスト作成"
   ]
  },
  {
   "cell_type": "markdown",
   "metadata": {},
   "source": [
    "##### リスト要素の追加・削除"
   ]
  },
  {
   "cell_type": "code",
   "execution_count": 20,
   "metadata": {},
   "outputs": [],
   "source": [
    "def get_virtual_options(l_level, setting):\n",
    "    \n",
    "    l_temp = copy.deepcopy(l_level)\n",
    "    \n",
    "    # リスト要素の追加\n",
    "    if 'extra' in setting:\n",
    "        for element in setting['extra']:\n",
    "            if element not in l_temp:\n",
    "                l_temp.append(element)\n",
    "    \n",
    "    # リスト要素の削除\n",
    "    if 'exception' in setting:\n",
    "        for element in setting['exception']:\n",
    "            if element in l_temp:\n",
    "                l_temp.remove(element)\n",
    "    \n",
    "    return sorted(l_temp)"
   ]
  },
  {
   "cell_type": "markdown",
   "metadata": {},
   "source": [
    "##### 設定値リスト作成"
   ]
  },
  {
   "cell_type": "code",
   "execution_count": 21,
   "metadata": {},
   "outputs": [],
   "source": [
    "def make_level_list(setting):\n",
    "\n",
    "    # ケース設定用のリスト作成\n",
    "    if setting['input'] == 'option':\n",
    "        temp = get_virtual_options(setting['options'], setting)    \n",
    "        temp = [0] + temp + [max(temp) + 1]    \n",
    "\n",
    "    # ケース設定用のリスト作成\n",
    "    elif setting['input'] == 'value':\n",
    "        temp = [\n",
    "            setting['min'] - setting['dec'],\n",
    "            setting['min'],\n",
    "            setting['typical'],\n",
    "            setting['max'],\n",
    "            setting['max'] + setting['dec']\n",
    "        ]\n",
    "    \n",
    "    return get_virtual_options(temp, setting)"
   ]
  },
  {
   "cell_type": "markdown",
   "metadata": {},
   "source": [
    "#### 5) 項目の入力条件を満たすよう設定"
   ]
  },
  {
   "cell_type": "markdown",
   "metadata": {},
   "source": [
    "##### 項目の入力条件を満たすよう上位項目のconditionに規定された項目の値を設定"
   ]
  },
  {
   "cell_type": "code",
   "execution_count": 22,
   "metadata": {},
   "outputs": [],
   "source": [
    "def set_upper_keys(keys_and_settings, case, s_path):\n",
    "\n",
    "    # 辞書の取得\n",
    "    d_target = get_object_or_exception_by_path(keys_and_settings, s_path)\n",
    "\n",
    "    # 上位の項目の条件を満たすよう設定する\n",
    "    if type(d_target) == list:\n",
    "        pass    \n",
    "    elif 'conditions' in d_target:\n",
    "        case = meet_condition(keys_and_settings, case, s_path) \n",
    "        \n",
    "    # 上位の項目がある場合は再帰呼び出し\n",
    "    if s_path.count('/') > 0: \n",
    "        set_upper_keys(keys_and_settings, case, exclude_leaf_node(s_path))"
   ]
  },
  {
   "cell_type": "markdown",
   "metadata": {},
   "source": [
    "##### 項目の入力条件を満たすようconditionに規定された項目の値を設定"
   ]
  },
  {
   "cell_type": "code",
   "execution_count": 23,
   "metadata": {},
   "outputs": [],
   "source": [
    "def meet_condition(keys_and_settings, case, s_path):\n",
    "    \n",
    "    # 辞書の取得\n",
    "    d_target = get_object_or_exception_by_path(keys_and_settings, s_path)\n",
    "\n",
    "    # conditionsを含む場合\n",
    "    if 'conditions' in d_target:\n",
    "    \n",
    "        # リストの1番目の条件を満たすよう、リスト中の項目を設定する\n",
    "        for condition_key in  d_target['conditions'][0]:\n",
    "\n",
    "            value = d_target['conditions'][0][condition_key]  \n",
    "            new_s_path = find_key_path_or_exception(keys_and_settings, condition_key, s_path)\n",
    "            set_value_by_key(case, get_path_for_case(new_s_path), value)\n",
    "            \n",
    "            # リスト中の項目が入力条件を満たすよう設定する\n",
    "            meet_condition(keys_and_settings, case, new_s_path)\n",
    "\n",
    "    # 上位項目を有する場合\n",
    "    if s_path.count('/') > 0:\n",
    "        set_upper_keys(keys_and_settings, case, exclude_leaf_node(s_path))\n",
    "            \n",
    "    return case"
   ]
  },
  {
   "cell_type": "markdown",
   "metadata": {},
   "source": [
    "#### 6) ケース作成"
   ]
  },
  {
   "cell_type": "markdown",
   "metadata": {},
   "source": [
    "##### 項目の値を設定"
   ]
  },
  {
   "cell_type": "code",
   "execution_count": 24,
   "metadata": {},
   "outputs": [],
   "source": [
    "def set_element_to_case(case, s_path, element):\n",
    "    \n",
    "    target_d = get_object_or_exception_by_path(case, exclude_leaf_key(s_path))\n",
    "    target_d[get_leaf_key(s_path)] = element"
   ]
  },
  {
   "cell_type": "markdown",
   "metadata": {},
   "source": [
    "##### 項目の値をリストの値に設定"
   ]
  },
  {
   "cell_type": "code",
   "execution_count": 25,
   "metadata": {},
   "outputs": [],
   "source": [
    "def make_case(keys_and_settings, cases, standard_case, l_level, s_path):\n",
    "    \n",
    "        for element in l_level:\n",
    "            \n",
    "            # 基準ケースの複製\n",
    "            case = copy.deepcopy(standard_case)    \n",
    "            \n",
    "            # 項目の値をリストの値に設定\n",
    "            set_element_to_case(case, get_path_for_case(s_path), element)\n",
    "            \n",
    "            # 項目の入力条件を満たすよう設定\n",
    "            meet_condition(keys_and_settings, case, s_path)\n",
    "            \n",
    "            # 入力条件に該当しない項目をNoneと設定\n",
    "            set_unconditional_elements_none(keys_and_settings, case, '')   \n",
    "            \n",
    "            # 対象項目の追加\n",
    "            case['target_key'] =  get_leaf_key(s_path) \n",
    "            \n",
    "            # ケース設定\n",
    "            cases.append(case)"
   ]
  },
  {
   "cell_type": "markdown",
   "metadata": {},
   "source": [
    "##### 各項目の値をリストの値に設定"
   ]
  },
  {
   "cell_type": "code",
   "execution_count": 26,
   "metadata": {},
   "outputs": [],
   "source": [
    "def make_cases(cases, standard_case, keys_and_settings, s_path):\n",
    "    \n",
    "    d_target = get_object_or_exception_by_path(keys_and_settings, s_path)\n",
    "    \n",
    "    # ケースの生成\n",
    "    for key in d_target:\n",
    "        \n",
    "        #下位項目にdictionaryを有する場合\n",
    "        if 'dictionary' in d_target[key] :\n",
    "            new_s_path = make_new_path(s_path, key, '/dictionary')\n",
    "            cases = make_cases(cases, standard_case, keys_and_settings, new_s_path)        \n",
    "        \n",
    "        #下位項目にlistを有する場合\n",
    "        elif 'list' in d_target[key] :\n",
    "            new_s_path = make_new_path(s_path, key, '/list/[0]')\n",
    "            cases = make_cases(cases, standard_case, keys_and_settings, new_s_path)\n",
    "\n",
    "        #要素選択・値入力の項目ケース作成\n",
    "        elif d_target[key]['input'] == 'option' or d_target[key]['input'] == 'value' :\n",
    "            new_s_path = make_new_path(s_path, key, '')\n",
    "            l_level = make_level_list(d_target[key])\n",
    "            make_case(keys_and_settings, cases, standard_case, l_level, new_s_path)\n",
    "\n",
    "    return cases"
   ]
  },
  {
   "cell_type": "markdown",
   "metadata": {},
   "source": [
    "#### 7) リストの項目の複製"
   ]
  },
  {
   "cell_type": "markdown",
   "metadata": {},
   "source": [
    "##### リスト数の取得 ただし条件に適合する最小のリスト数の取得となっている"
   ]
  },
  {
   "cell_type": "code",
   "execution_count": 27,
   "metadata": {},
   "outputs": [],
   "source": [
    "def get_n_list(keys_and_settings, case, s_path):\n",
    "    \n",
    "    # 辞書の取得\n",
    "    d_target = get_object_or_exception_by_path(keys_and_settings, s_path)\n",
    "    \n",
    "    # リスト数が数で与えられている場合はその数を返す\n",
    "    if type(d_target) == int:\n",
    "        return d_target\n",
    "    \n",
    "    # リスト数が辞書で与えられている場合は条件に適合する最小のリスト数を返す\n",
    "    else:\n",
    "        s_path_for_case = get_path_for_case(exclude_leaf_key(s_path))\n",
    "        for key in d_target:\n",
    "            for condition in d_target[key]:\n",
    "                if all(get_object_or_none_by_path(case, find_key_path_or_none(case, condition_key, s_path_for_case)) == condition[condition_key] for condition_key in condition):\n",
    "                    return key\n",
    "                \n",
    "        # 該当する条件のない場合は複製しない（リスト数1）\n",
    "        return 1"
   ]
  },
  {
   "cell_type": "markdown",
   "metadata": {},
   "source": [
    "##### リスト複製"
   ]
  },
  {
   "cell_type": "code",
   "execution_count": 28,
   "metadata": {},
   "outputs": [],
   "source": [
    "def copy_list(case, n_list, s_path):\n",
    "\n",
    "    if n_list > 0 :\n",
    "        \n",
    "        # 辞書の取得\n",
    "        d_target = get_object_or_none_by_path(case, s_path)\n",
    "        \n",
    "        # リスト複製\n",
    "        if d_target != None:\n",
    "            for i in range(0, n_list):\n",
    "                d_target.append(copy.deepcopy(d_target[0]))\n",
    "\n",
    "            for i in range(0, n_list):\n",
    "                if 'name' in d_target[i]:\n",
    "                    d_target[i]['name'] = d_target[i]['name'] + str(i + 1)\n",
    "\n",
    "    return case"
   ]
  },
  {
   "cell_type": "markdown",
   "metadata": {},
   "source": [
    "##### リストの項目の複製"
   ]
  },
  {
   "cell_type": "code",
   "execution_count": 29,
   "metadata": {},
   "outputs": [],
   "source": [
    "def copy_case_list(keys_and_settings, case, s_path):\n",
    "    \n",
    "    # 辞書の取得\n",
    "    d_target = get_object_or_exception_by_path(keys_and_settings, s_path)\n",
    "\n",
    "    # リストの場合は下位項目について再帰呼び出し\n",
    "    if type(d_target) == list:\n",
    "        new_s_path = make_new_path(s_path, '[0]', '')\n",
    "        return copy_case_list(keys_and_settings, case, new_s_path)\n",
    "    \n",
    "    else:\n",
    "        for key in d_target:\n",
    "            \n",
    "            # リストを含む場合はリストを複製し下位項目について再帰呼び出し\n",
    "            if 'list' in d_target[key]:\n",
    "                new_s_path = make_new_path(s_path, key, '/list')\n",
    "                case = copy_case_list(keys_and_settings, case, new_s_path)\n",
    "                    \n",
    "                n_list = get_n_list(keys_and_settings, case, s_path + '/' + key + '/n_list')\n",
    "                case = copy_list(case, n_list, get_path_for_case(new_s_path))\n",
    "            \n",
    "            # 辞書を含む場合は下位項目について再帰呼び出し\n",
    "            elif 'dictionary'in d_target[key]:                \n",
    "                new_s_path = make_new_path(s_path, key, '/dictionary')\n",
    "                case =  copy_case_list(keys_and_settings, case, new_s_path)\n",
    "            \n",
    "    return case"
   ]
  },
  {
   "cell_type": "markdown",
   "metadata": {},
   "source": [
    "##### リストをコピーしてケースを上書き"
   ]
  },
  {
   "cell_type": "code",
   "execution_count": 30,
   "metadata": {},
   "outputs": [],
   "source": [
    "def copy_cases_list(keys_and_settings, cases):\n",
    "\n",
    "    for i, case in enumerate(cases):\n",
    "        new_case = copy.deepcopy(case)\n",
    "        cases[i] = copy_case_list(keys_and_settings, new_case, s_path='')\n",
    "            \n",
    "    return cases"
   ]
  },
  {
   "cell_type": "markdown",
   "metadata": {},
   "source": [
    "#### 8) csv出力用リストの作成"
   ]
  },
  {
   "cell_type": "markdown",
   "metadata": {},
   "source": [
    "##### 最大のリスト数の取得"
   ]
  },
  {
   "cell_type": "code",
   "execution_count": 31,
   "metadata": {},
   "outputs": [],
   "source": [
    "def get_max_n_list(keys_and_settings, s_path):\n",
    "    \n",
    "    d_target = get_object_or_exception_by_path(keys_and_settings, s_path)\n",
    "    \n",
    "    # リスト数が数で与えられている場合はその数を返す\n",
    "    if type(d_target['n_list']) == int:\n",
    "        return d_target['n_list']\n",
    "    \n",
    "    # リスト数が辞書で与えられている場合は最大の数を返す\n",
    "    else:\n",
    "        return max(d_target['n_list'].keys())"
   ]
  },
  {
   "cell_type": "markdown",
   "metadata": {},
   "source": [
    "##### csv出力用キーの作成"
   ]
  },
  {
   "cell_type": "code",
   "execution_count": 32,
   "metadata": {},
   "outputs": [],
   "source": [
    "def make_keys(keys_and_settings, keys, s_path, s_path_for_d):\n",
    "    \n",
    "    # 辞書の取得\n",
    "    d_target = get_object_or_exception_by_path(keys_and_settings, s_path_for_d)\n",
    "    \n",
    "    # リストの場合\n",
    "    if type(d_target) == list:\n",
    "        \n",
    "        # 最大のリスト数の取得\n",
    "        n_list = get_max_n_list(keys_and_settings, exclude_leaf_key(s_path_for_d))\n",
    "        \n",
    "        # 最大のリスト数のキーを作成\n",
    "        for i in range(0, n_list):\n",
    "            new_s_path = make_new_path(s_path, '[' + str(i) + ']', '')\n",
    "            new_s_path_for_d = make_new_path(s_path_for_d , '[0]', '')\n",
    "            keys = make_keys(keys_and_settings, keys, new_s_path, new_s_path_for_d)\n",
    "            \n",
    "    # 辞書の場合\n",
    "    else:\n",
    "        for key in d_target:\n",
    "            if key != 'conditions' and  key != 'n_list':\n",
    "                \n",
    "                # 下位項目がある場合\n",
    "                if 'input' not in d_target[key]: \n",
    "                    keys = make_keys(keys_and_settings, keys, make_new_path(s_path, key, ''), make_new_path(s_path_for_d, key, ''))\n",
    "\n",
    "                # キーの追加\n",
    "                else:\n",
    "                    keys = keys + [get_path_for_case(make_new_path(s_path, key, ''))]\n",
    "        \n",
    "    return keys"
   ]
  },
  {
   "cell_type": "markdown",
   "metadata": {},
   "source": [
    "##### csv出力用リストの作成"
   ]
  },
  {
   "cell_type": "code",
   "execution_count": 33,
   "metadata": {},
   "outputs": [],
   "source": [
    "def make_cases_for_csv(cases, keys):\n",
    "    \n",
    "    cases_for_csv = []\n",
    "    \n",
    "    for case in cases:\n",
    "        case_for_csv = {}\n",
    "        for key in keys:\n",
    "            case_for_csv[key] = get_value_or_none_by_key(case, get_leaf_key(key), exclude_leaf_key(key))\n",
    "        cases_for_csv.append(case_for_csv) \n",
    "    \n",
    "    return cases_for_csv"
   ]
  },
  {
   "cell_type": "markdown",
   "metadata": {},
   "source": [
    "#### 9) 作成済ケースの確認"
   ]
  },
  {
   "cell_type": "code",
   "execution_count": 34,
   "metadata": {},
   "outputs": [],
   "source": [
    "def check_existence(cases):\n",
    "    \n",
    "    existing_cases = {}\n",
    "    \n",
    "    for i, case in enumerate(cases):\n",
    "    \n",
    "        # 作成済ケースに一致するケースがある場合は、一致するケースの番号を取得\n",
    "        t_case = tuple(case[key] for key in case if key != 'target_key')\n",
    "        if t_case in existing_cases:\n",
    "            case['existing_case'] = existing_cases[t_case] + 1\n",
    "\n",
    "        # 作成済ケースに一致するケースがない場合は、作成済ケースに追加\n",
    "        else:\n",
    "            existing_cases[t_case] = i"
   ]
  },
  {
   "cell_type": "markdown",
   "metadata": {},
   "source": [
    "#### 10) テストケース出力"
   ]
  },
  {
   "cell_type": "code",
   "execution_count": 35,
   "metadata": {},
   "outputs": [],
   "source": [
    "def output_cases(keys_and_settings):\n",
    "\n",
    "    # 基準ケースの作成\n",
    "    standard_case = make_standard_case(keys_and_settings, s_path='')\n",
    "\n",
    "    # テストケースの作成\n",
    "    cases = make_cases([], standard_case, keys_and_settings, s_path='')    \n",
    "    \n",
    "    # リスト複製\n",
    "    cases = copy_cases_list(keys_and_settings, cases)\n",
    "    \n",
    "    # csv出力用テストケースの作成\n",
    "    keys = ['target_key'] + ['existing_case'] + make_keys(keys_and_settings, keys=[], s_path='', s_path_for_d='')\n",
    "    cases_for_csv = make_cases_for_csv(cases, keys)\n",
    "    \n",
    "    # 重複確認\n",
    "    check_existence(cases_for_csv)   \n",
    "\n",
    "    # JSON出力\n",
    "    for i, case in enumerate(cases):\n",
    "        s_file_name = ('{:0=5}'.format(i + 1)) +'.json'\n",
    "        with open('test//' + s_file_name, 'w') as f_case:\n",
    "            json.dump(case, f_case, indent=4), \n",
    "\n",
    "    # csv出力\n",
    "    with open(\"test_lv2_cases.csv\", \"w\", encoding=\"Shift_jis\") as csv_test_lv2_cases:\n",
    "        csv_test_lv2_cases.write(','.join(keys) + '\\n')\n",
    "\n",
    "        for case in cases_for_csv:\n",
    "            row = [(str(case[key]) if key in case else '') for key in keys]\n",
    "            csv_test_lv2_cases.write(','.join(row) + '\\n')"
   ]
  },
  {
   "cell_type": "markdown",
   "metadata": {},
   "source": [
    "#### 11) 項目設定"
   ]
  },
  {
   "cell_type": "code",
   "execution_count": 36,
   "metadata": {
    "scrolled": true
   },
   "outputs": [],
   "source": [
    "keys_and_settings = {\n",
    "'common': {'dictionary': {\t\t\t\t\t\n",
    "\t'region': { 'input': 'option', 'options': [1, 2, 3, 4, 5, 6, 7, 8], 'typical': 1},\t\t\t\t\n",
    "\t'main_occupant_room_floor_area': { 'input': 'value', 'dec': 0.01, 'min': 0, 'max': 999.99, 'typical': 29.81},\t\t\t\t\n",
    "\t'other_occupant_room_floor_area': { 'input': 'value', 'dec': 0.01, 'min': 0, 'max': 999.99, 'typical': 51.34},\t\t\t\t\n",
    "\t'total_floor_area': { 'input': 'value', 'dec': 0.01, 'min': 0, 'max': 999.99, 'typical': 120.08}\t\t\t\t\n",
    "}},\t\t\t\t\t\n",
    "'envelope': {'dictionary': {\t\t\t\t\t\n",
    "\t'input_method': { 'input': 'option', 'options': [1, 2, 3, 4], 'exception': [1], 'typical': 1},\t\t\t\t\n",
    "\t'simple_method': {'conditions': [{'input_method': 2}], 'dictionary': {\t\t\t\t\n",
    "\t\t'insulation_type': { 'input': 'option', 'options': [1, 2], 'typical': 1},\t\t\t\n",
    "\t\t'insulation_type_bathroom': { 'input': 'option', 'options': [1, 2, 3], 'typical': 1, 'conditions': [{'insulation_type': 1}]},\t\t\t\n",
    "\t\t'u_value_roof': { 'input': 'value', 'dec': 0.01, 'min': 0, 'max': 10, 'typical': 0.24},\t\t\t\n",
    "\t\t'u_value_wall': { 'input': 'value', 'dec': 0.01, 'min': 0, 'max': 10, 'typical': 0.53},\t\t\t\n",
    "\t\t'u_value_door': { 'input': 'value', 'dec': 0.01, 'min': 0, 'max': 10, 'typical': 4.65},\t\t\t\n",
    "\t\t'u_value_window': { 'input': 'value', 'dec': 0.01, 'min': 0, 'max': 10, 'typical': 4.65},\t\t\t\n",
    "\t\t'u_value_floor_bathroom': { 'input': 'value', 'dec': 0.01, 'min': 0, 'max': 10, 'typical': 0.48, 'conditions': [{'insulation_type_bathroom': 1}]},\t\t\t\n",
    "\t\t'u_value_floor_other': { 'input': 'value', 'dec': 0.01, 'min': 0, 'max': 10, 'typical': 0.48, 'conditions': [{'insulation_type': 1}]},\t\t\t\n",
    "\t\t'is_psi_value_base_input': { 'input': 'option', 'options': [1, 2], 'typical': 1},\t\t\t\n",
    "\t\t'psi_value_earthfloor_perimeter_entrance': { 'input': 'value', 'dec': 0.01, 'min': 0, 'max': 10, 'typical': 0.53, 'conditions': [{'is_psi_value_base_input': 1}]},\t\t\t\n",
    "\t\t'psi_value_earthfloor_perimeter_bathroom': { 'input': 'value', 'dec': 0.01, 'min': 0, 'max': 10, 'typical': 0.53, 'conditions': [{'is_psi_value_base_input': 1, 'insulation_type_bathroom': 2}]},\t\t\t\n",
    "\t\t'psi_value_earthfloor_perimeter_other': { 'input': 'value', 'dec': 0.01, 'min': 0, 'max': 10, 'typical': 0.53, 'conditions': [{'is_psi_value_base_input': 1, 'insulation_type': 2}]},\t\t\t\n",
    "\t\t'eta_d_value_window_h': { 'input': 'value', 'dec': 0.001, 'min': 0, 'max': 1, 'typical': 0.63},\t\t\t\n",
    "\t\t'eta_d_value_window_c': { 'input': 'value', 'dec': 0.001, 'min': 0, 'max': 1, 'typical': 0.63},\t\t\t\n",
    "\t\t'is_f_value_input': { 'input': 'option', 'options': [1, 2], 'typical': 1},\t\t\t\n",
    "\t\t'f_value_h': { 'input': 'value', 'dec': 0.001, 'min': 0, 'max': 1, 'typical': 0.589, 'conditions': [{'is_f_value_input': 1}]},\t\t\t\n",
    "\t\t'f_value_c': { 'input': 'value', 'dec': 0.001, 'min': 0, 'max': 1, 'typical': 0.864, 'conditions': [{'is_f_value_input': 1}]}\t\t\t\n",
    "\t}},\t\t\t\t\n",
    "\t'general_parts': {'conditions': [{'input_method': 3}, {'input_method': 4}], 'n_list': 3, 'list': [{\t\t\t\t\n",
    "\t\t'name': { 'input': 'text', 'templete': 'GP'},\t\t\t\n",
    "\t\t'general_part_type': { 'input': 'option', 'options': [1, 2, 3, 4, 5, 6, 7], 'typical': 1},\t\t\t\n",
    "\t\t'next_space': { 'input': 'option', 'options': [1, 2, 3, 4, 5, 6], 'typical': 1},\t\t\t\n",
    "\t\t'direction': { 'input': 'option', 'options': [1, 2, 3, 4, 5, 6, 7, 8, 9, 10, 11, 12, 13], 'typical': 1},\t\t\t\n",
    "\t\t'area': { 'input': 'value', 'dec': 0.01, 'min': 0, 'max': 99.99, 'typical': 1},\t\t\t\n",
    "\t\t'space_type': { 'input': 'option', 'options': [1, 2, 3, 4], 'typical': 1, 'conditions': [{'input_method': 4}]},\t\t\t\n",
    "\t\t'spec': {'dictionary': {\t\t\t\n",
    "\t\t\t'structure': { 'input': 'option', 'options': [1, 2, 3, 4], 'typical': 1},\t\t\n",
    "\t\t\t'u_value_input_method_wood': { 'input': 'option', 'options': [1, 2, 3, '(4'], 'exception': ['(4'], 'typical': 1, 'conditions': [{'structure': 1}]},\t\t\n",
    "\t\t\t'u_value_input_method_rc': { 'input': 'option', 'options': [1, 2], 'typical': 1, 'conditions': [{'structure': 2}]},\t\t\n",
    "\t\t\t'u_value_input_method_steel': { 'input': 'option', 'options': [1, 2], 'typical': 1, 'conditions': [{'structure': 3}]},\t\t\n",
    "\t\t\t'u_value_wood': { 'input': 'value', 'dec': 0.01, 'min': 0, 'max': 10, 'typical': 1, 'conditions': [{'u_value_input_method_wood': 1}]},\t\t\n",
    "\t\t\t'floor_construction_method': { 'input': 'option', 'options': [1, 2, 3, 4, 5, 6, 7], 'typical': 1, 'conditions': [{'general_part_type': 4, 'u_value_input_method_wood': 3}, {'general_part_type': 6, 'u_value_input_method_wood': 3}, {'general_part_type': 7, 'u_value_input_method_wood': 3}]},\t\t\n",
    "\t\t\t'wall_construction_method': { 'input': 'option', 'options': [1, 2, 3, 4, 5, 6], 'typical': 1, 'conditions': [{'general_part_type': 3, 'u_value_input_method_wood': 3}, {'general_part_type': 5, 'u_value_input_method_wood': 3}]},\t\t\n",
    "\t\t\t'ceiling_construction_method': { 'input': 'option', 'options': [1], 'typical': 1, 'conditions': [{'general_part_type': 2, 'u_value_input_method_wood': 3}]},\t\t\n",
    "\t\t\t'roof_construction_method': { 'input': 'option', 'options': [1, 2], 'typical': 1, 'conditions': [{'general_part_type': 1, 'u_value_input_method_wood': 3}]},\t\t\n",
    "\t\t\t'u_value_rc': { 'input': 'value', 'dec': 0.01, 'min': 0, 'max': 10, 'typical': 1, 'conditions': [{'u_value_input_method_rc': 1}]},\t\t\n",
    "\t\t\t'u_value_steel': { 'input': 'value', 'dec': 0.01, 'min': 0, 'max': 10, 'typical': 1, 'conditions': [{'u_value_input_method_steel': 1}]},\t\t\n",
    "\t\t\t'u_r_value_steel': { 'input': 'value', 'dec': 0.01, 'min': 0, 'max': 0.7, 'typical': 1, 'conditions': [{'u_value_input_method_steel': 2}]},\t\t\n",
    "\t\t\t'u_value_other': { 'input': 'value', 'dec': 0.01, 'min': 0, 'max': 10, 'typical': 1, 'conditions': [{'structure': 4}]},\t\t\n",
    "\t\t\t'parts': {'conditions': [{'u_value_input_method_wood': 2}, {'u_value_input_method_wood': 3}, {'u_value_input_method_rc': 2}, {'u_value_input_method_steel': 2}], 'n_list': {1: [{'u_value_input_method_wood': 2}, {'u_value_input_method_rc': 2}, {'u_value_input_method_steel': 2}], 2: [{'u_value_input_method_wood': 3}], 4: [{'general_part_type': 1, 'u_value_input_method_wood': 3}, {'general_part_type': 3, 'u_value_input_method_wood': 3}, {'general_part_type': 4, 'u_value_input_method_wood': 3}, {'general_part_type': 5, 'u_value_input_method_wood': 3}], 6: [{'general_part_type': 3, 'u_value_input_method_wood': 3}, {'general_part_type': 5, 'u_value_input_method_wood': 3}]}, 'list': [{\t\t\n",
    "\t\t\t\t'name': { 'input': 'text', 'templete': 'PRT'},\t\n",
    "\t\t\t\t'part_type': { 'input': 'option', 'options': [1, 2, 3, 4, 5, 6, 7, 8], 'typical': 1, 'conditions': [{'u_value_input_method_wood': 3}]},\t\n",
    "\t\t\t\t'layers': {'n_list': 3, 'list': [{\t\n",
    "\t\t\t\t\t'name': { 'input': 'text', 'templete': 'LYR'},\n",
    "\t\t\t\t\t'heat_resistance_input_method': { 'input': 'option', 'options': [1, 2], 'typical': 1},\n",
    "\t\t\t\t\t'thermal_conductivity': { 'input': 'value', 'dec': 0.001, 'min': 0.001, 'max': 999.999, 'typical': 1, 'conditions': [{'heat_resistance_input_method': 1}]},\n",
    "\t\t\t\t\t'thermal_resistance': { 'input': 'value', 'dec': 0.1, 'min': 0, 'max': 9999.9, 'typical': 1, 'conditions': [{'heat_resistance_input_method': 2}]},\n",
    "\t\t\t\t\t'thickness': { 'input': 'value', 'dec': 0.0001, 'min': 0.0001, 'max': 9.9999, 'typical': 1},\n",
    "\t\t\t\t\t'volumetric_specific_heat': { 'input': 'value', 'dec': 0.1, 'min': 0, 'max': 9999.9, 'typical': 1}\n",
    "\t\t\t\t}]}\t\n",
    "\t\t\t}]},\t\t\n",
    "\t\t\t'is_sunshade_input': { 'input': 'option', 'options': [1, 2], 'typical': 1}\t\t\n",
    "\t\t}}\t\t\t\n",
    "\t}]},\t\t\t\t\n",
    "\t'windows': {'n_list': 3, 'list': [{\t\t\t\t\n",
    "\t\t'name': { 'input': 'text', 'templete': 'WND'},\t\t\t\n",
    "\t\t'next_space': { 'input': 'option', 'options': [1, 2, 3, 4, 5, 6], 'typical': 1},\t\t\t\n",
    "\t\t'direction': { 'input': 'option', 'options': [1, 2, 3, 4, 5, 6, 7, 8, 9, 10, 11, 12, 13], 'typical': 1},\t\t\t\n",
    "\t\t'area': { 'input': 'value', 'dec': 0.01, 'min': 0, 'max': 99.99, 'typical': 1},\t\t\t\n",
    "\t\t'space_type': { 'input': 'option', 'options': [1, 2, 3, 4], 'typical': 1},\t\t\t\n",
    "\t\t'spec': {'dictionary': {\t\t\t\n",
    "\t\t\t'window_type': { 'input': 'option', 'options': [1, 2], 'typical': 1},\t\t\n",
    "\t\t\t'windows': {'n_list': {1: [{'window_type': 1}], 2: [{'window_type': 2}]}, 'list': [{\t\t\n",
    "\t\t\t\t'u_value_input_method': { 'input': 'option', 'options': [1, 2], 'typical': 1},\t\n",
    "\t\t\t\t'u_vaue': { 'input': 'value', 'dec': 0.01, 'min': 0, 'max': 10, 'typical': 1, 'conditions': [{'u_value_input_method': 1}]},\t\n",
    "\t\t\t\t'ug_value': { 'input': 'value', 'dec': 0.01, 'min': 0, 'max': 10, 'typical': 1, 'conditions': [{'u_value_input_method': 2}]},\t\n",
    "\t\t\t\t'flame_type': { 'input': 'option', 'options': [1, 2, 3], 'typical': 1, 'conditions': [{'u_value_input_method': 2}]},\t\n",
    "\t\t\t\t'eta_d_value': { 'input': 'value', 'dec': 0.001, 'min': 0, 'max': 1, 'typical': 1},\t\n",
    "\t\t\t\t'glass_type': { 'input': 'option', 'options': [1, 2, 3, 4], 'typical': 1}\t\n",
    "\t\t\t}]},\t\t\n",
    "\t\t\t'attachment_type': { 'input': 'option', 'options': [1, 2, 3, 4], 'typical': 1},\t\t\n",
    "\t\t\t'is_windbreak_room_attached': { 'input': 'option', 'options': [1, 2], 'typical': 1},\t\t\n",
    "\t\t\t'sunshade': {'dictionary': {\t\t\n",
    "\t\t\t\t'y1': { 'input': 'value', 'dec': 0.01, 'min': 0, 'max': 10, 'typical': 1},\t\n",
    "\t\t\t\t'y2': { 'input': 'value', 'dec': 0.01, 'min': 0, 'max': 10, 'typical': 1},\t\n",
    "\t\t\t\t'z': { 'input': 'value', 'dec': 0.01, 'min': 0, 'max': 10, 'typical': 1}\t\n",
    "\t\t\t}}\t\t\n",
    "\t\t}}\t\t\t\n",
    "\t}]},\t\t\t\t\n",
    "\t'doors': {'n_list': 3, 'list': [{\t\t\t\t\n",
    "\t\t'name': { 'input': 'text', 'templete': 'DR'},\t\t\t\n",
    "\t\t'next_space': { 'input': 'option', 'options': [1, 2, 3, 4, 5, 6], 'typical': 1},\t\t\t\n",
    "\t\t'direction': { 'input': 'option', 'options': [1, 2, 3, 4, 5, 6, 7, 8, 9, 10, 11, 12, 13], 'typical': 1},\t\t\t\n",
    "\t\t'area': { 'input': 'value', 'dec': 0.01, 'min': 0, 'max': 99.99, 'typical': 1},\t\t\t\n",
    "\t\t'space_type': { 'input': 'option', 'options': [1, 2, 3, 4], 'typical': 1},\t\t\t\n",
    "\t\t'spec': {'dictionary': {\t\t\t\n",
    "\t\t\t'u_vaue': { 'input': 'value', 'dec': 0.01, 'min': 0, 'max': 10, 'typical': 1},\t\t\n",
    "\t\t\t'is_sunshade_input': { 'input': 'option', 'options': [1, 2], 'typical': 1}\t\t\n",
    "\t\t}}\t\t\t\n",
    "\t}]},\t\t\t\t\n",
    "\t'earthfloor_perimeters': {'n_list': 3, 'list': [{\t\t\t\t\n",
    "\t\t'name': { 'input': 'text', 'templete': 'EFP'},\t\t\t\n",
    "\t\t'next_space': { 'input': 'option', 'options': [1, 2, 3, 4, 5, 6], 'typical': 1},\t\t\t\n",
    "\t\t'direction': { 'input': 'option', 'options': [1, 2, 3, 4, 5, 6, 7, 8, 9, 10, 11, 12, 13], 'typical': 1},\t\t\t\n",
    "\t\t'length': { 'input': 'value', 'dec': 0.01, 'min': 0, 'max': 99.99, 'typical': 1},\t\t\t\n",
    "\t\t'space_type': { 'input': 'option', 'options': [1, 2, 3, 4], 'typical': 1},\t\t\t\n",
    "\t\t'spec': {'dictionary': {\t\t\t\n",
    "\t\t\t'psi_value': { 'input': 'value', 'dec': 0.01, 'min': 0, 'max': 10, 'typical': 1}\t\t\n",
    "\t\t}}\t\t\t\n",
    "\t}]},\t\t\t\t\n",
    "\t'earthfloor_centers': {'n_list': 3, 'list': [{\t\t\t\t\n",
    "\t\t'name': { 'input': 'text', 'templete': 'EFC'},\t\t\t\n",
    "\t\t'area': { 'input': 'value', 'dec': 0.01, 'min': 0, 'max': 99.99, 'typical': 1},\t\t\t\n",
    "\t\t'space_type': { 'input': 'option', 'options': [1, 2, 3, 4], 'typical': 1}\t\t\t\n",
    "\t}]},\t\t\t\t\n",
    "\t'inner_floors': {'n_list': 3, 'list': [{\t\t\t\t\n",
    "\t\t'name': { 'input': 'text', 'templete': 'INF'},\t\t\t\n",
    "\t\t'area': { 'input': 'value', 'dec': 0.01, 'min': 0, 'max': 99.99, 'typical': 1},\t\t\t\n",
    "\t\t'upper_space_type': { 'input': 'option', 'options': [1, 2, 3, 4], 'typical': 1},\t\t\t\n",
    "\t\t'lower_space_type': { 'input': 'option', 'options': [1, 2, 3, 4], 'typical': 1},\t\t\t\n",
    "\t\t'spec': {'dictionary': {\t\t\t\n",
    "\t\t\t'layers': {'n_list': 3, 'list': [{\t\t\n",
    "\t\t\t\t'name': { 'input': 'text', 'templete': 'LYR'},\t\n",
    "\t\t\t\t'heat_resistance_input_method': { 'input': 'option', 'options': [1, 2], 'typical': 1},\t\n",
    "\t\t\t\t'thermal_conductivity': { 'input': 'value', 'dec': 0.001, 'min': 0.001, 'max': 999.999, 'typical': 1, 'conditions': [{'heat_resistance_input_method': 1}]},\t\n",
    "\t\t\t\t'thermal_resistance': { 'input': 'value', 'dec': 0.1, 'min': 0, 'max': 9999.9, 'typical': 1, 'conditions': [{'heat_resistance_input_method': 2}]},\t\n",
    "\t\t\t\t'thickness': { 'input': 'value', 'dec': 0.0001, 'min': 0.0001, 'max': 9.9999, 'typical': 1},\t\n",
    "\t\t\t\t'volumetric_specific_heat': { 'input': 'value', 'dec': 0.1, 'min': 0, 'max': 9999.9, 'typical': 1}\t\n",
    "\t\t\t}]}\t\t\n",
    "\t\t}}\t\t\t\n",
    "\t}]},\t\t\t\t\n",
    "\t'inner_walls': {'n_list': 3, 'list': [{\t\t\t\t\n",
    "\t\t'name': { 'input': 'text', 'templete': 'INW'},\t\t\t\n",
    "\t\t'area': { 'input': 'value', 'dec': 0.01, 'min': 0, 'max': 99.99, 'typical': 1},\t\t\t\n",
    "\t\t'space_type_1': { 'input': 'option', 'options': [1, 2, 3, 4], 'typical': 1},\t\t\t\n",
    "\t\t'speace_type_2': { 'input': 'option', 'options': [1, 2, 3, 4], 'typical': 1},\t\t\t\n",
    "\t\t'spec': {'dictionary': {\t\t\t\n",
    "\t\t\t'layers': {'n_list': 3, 'list': [{\t\t\n",
    "\t\t\t\t'name': { 'input': 'text', 'templete': 'LYR'},\t\n",
    "\t\t\t\t'heat_resistance_input_method': { 'input': 'option', 'options': [1, 2], 'typical': 1},\t\n",
    "\t\t\t\t'thermal_conductivity': { 'input': 'value', 'dec': 0.001, 'min': 0.001, 'max': 999.999, 'typical': 1, 'conditions': [{'heat_resistance_input_method': 1}]},\t\n",
    "\t\t\t\t'thermal_resistance': { 'input': 'value', 'dec': 0.1, 'min': 0, 'max': 9999.9, 'typical': 1, 'conditions': [{'heat_resistance_input_method': 2}]},\t\n",
    "\t\t\t\t'thickness': { 'input': 'value', 'dec': 0.0001, 'min': 0.0001, 'max': 9.9999, 'typical': 1},\t\n",
    "\t\t\t\t'volumetric_specific_heat': { 'input': 'value', 'dec': 0.1, 'min': 0, 'max': 9999.9, 'typical': 1}\t\n",
    "\t\t\t}]}\t\t\n",
    "\t\t}}\t\t\t\n",
    "\t}]}\t\t\t\t\n",
    "}},\t\t\t\t\t\n",
    "'ventilation': {'dictionary': {\t\t\t\t\t\n",
    "\t'air_change_rate': { 'input': 'value', 'dec': 0.1, 'min': 0, 'max': 1, 'typical': 1}\t\t\t\t\n",
    "}}\t\t\t\t\t\n",
    "}\n",
    "\n",
    "output_cases(keys_and_settings)"
   ]
  },
  {
   "cell_type": "code",
   "execution_count": null,
   "metadata": {},
   "outputs": [],
   "source": []
  }
 ],
 "metadata": {
  "kernelspec": {
   "display_name": "Python 3",
   "language": "python",
   "name": "python3"
  },
  "language_info": {
   "codemirror_mode": {
    "name": "ipython",
    "version": 3
   },
   "file_extension": ".py",
   "mimetype": "text/x-python",
   "name": "python",
   "nbconvert_exporter": "python",
   "pygments_lexer": "ipython3",
   "version": "3.7.0"
  }
 },
 "nbformat": 4,
 "nbformat_minor": 2
}
