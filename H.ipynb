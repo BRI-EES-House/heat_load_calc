{
 "cells": [
  {
   "cell_type": "markdown",
   "metadata": {},
   "source": [
    "# 外皮の部位及び土間床等の周辺部の温度差係数"
   ]
  },
  {
   "cell_type": "markdown",
   "metadata": {},
   "source": [
    "平成28年省エネルギー基準に準拠したエネルギー消費性能の評価に関する技術情報（住宅）  \n",
    "2.エネルギー消費性能の算定方法  \n",
    "2.2 算定方法  \n",
    "第三章 暖冷房負荷と外皮性能  \n",
    "第二節 外皮性能   \n",
    "付録 B 温度差係数"
   ]
  },
  {
   "cell_type": "markdown",
   "metadata": {},
   "source": [
    "| 隣接空間の種類 | 1～3地域 | 4～8地域 |\n",
    "|---|---|---|\n",
    "| 外気 | 1.0 | 1.0 |\n",
    "| 外気に通じる空間 | 1.0 | 1.0 |\n",
    "| 外気に通じていない空間 | 0.7 | 0.7 |\n",
    "| 外気に通じる床裏 | 0.7 | 0.7 |\n",
    "| 住戸及び住戸と同様の熱的環境の空間 | 0.05 | 0.15 |\n",
    "| 外気に通じていない床裏 | 0.05 | 0.15 |"
   ]
  },
  {
   "cell_type": "markdown",
   "metadata": {},
   "source": [
    "#### Function"
   ]
  },
  {
   "cell_type": "code",
   "execution_count": 2,
   "metadata": {},
   "outputs": [],
   "source": [
    "def get_H_by_nextspace(region, next_space):\n",
    "\n",
    "    return {\n",
    "        # 外気又は外気に通じる空間(小屋裏・天井裏・共用部・屋内駐車場・メーターボックス・エレベーターシャフト等)\n",
    "        'outdoor'           : {1: 1.00, 2: 1.00, 3: 1.00, 4: 1.00, 5: 1.00, 6: 1.00, 7: 1.00, 8: 1.00 }, \n",
    "        'open_space'        : {1: 1.00, 2: 1.00, 3: 1.00, 4: 1.00, 5: 1.00, 6: 1.00, 7: 1.00, 8: 1.00 }, \n",
    "        # 外気に通じていない空間(昇降機室、共用機械室、倉庫等)又は外気に通じる床裏\n",
    "        'closed_space'      : {1: 0.70, 2: 0.70, 3: 0.70, 4: 0.70, 5: 0.70, 6: 0.70, 7: 0.70, 8: 0.70 }, \n",
    "        'open_underfloor'   : {1: 0.70, 2: 0.70, 3: 0.70, 4: 0.70, 5: 0.70, 6: 0.70, 7: 0.70, 8: 0.70 }, \n",
    "        # 住戸、住戸と同様の熱的環境の空問(空調された共用部等)又は外気に通じていない床裏(ピット等）\n",
    "        'air_conditioned'   : {1: 0.05, 2: 0.05, 3: 0.05, 4: 0.15, 5: 0.15, 6: 0.15, 7: 0.15, 8: 0.15 },\n",
    "        'closed_underfloor' : {1: 0.05, 2: 0.05, 3: 0.05, 4: 0.15, 5: 0.15, 6: 0.15, 7: 0.15, 8: 0.15 }  \n",
    "    }[next_space][region]"
   ]
  },
  {
   "cell_type": "markdown",
   "metadata": {},
   "source": [
    "#### Example"
   ]
  },
  {
   "cell_type": "code",
   "execution_count": 4,
   "metadata": {},
   "outputs": [
    {
     "data": {
      "text/plain": [
       "0.7"
      ]
     },
     "execution_count": 4,
     "metadata": {},
     "output_type": "execute_result"
    }
   ],
   "source": [
    "get_H_by_nextspace(6, 'open_underfloor')"
   ]
  }
 ],
 "metadata": {
  "kernelspec": {
   "display_name": "Python 3",
   "language": "python",
   "name": "python3"
  },
  "language_info": {
   "codemirror_mode": {
    "name": "ipython",
    "version": 3
   },
   "file_extension": ".py",
   "mimetype": "text/x-python",
   "name": "python",
   "nbconvert_exporter": "python",
   "pygments_lexer": "ipython3",
   "version": "3.7.0"
  }
 },
 "nbformat": 4,
 "nbformat_minor": 2
}
