{
 "cells": [
  {
   "cell_type": "code",
   "execution_count": 1,
   "metadata": {
    "collapsed": true
   },
   "outputs": [],
   "source": [
    "import copy\n",
    "import math"
   ]
  },
  {
   "cell_type": "markdown",
   "metadata": {},
   "source": [
    "# 外皮情報LV3からLV4へのコンバート"
   ]
  },
  {
   "cell_type": "markdown",
   "metadata": {},
   "source": [
    "## Outline\n",
    "\n",
    "- 外皮性能計算プログラムに、外皮の用途別情報を追加したものより、内壁等（建物内部の壁、天井、床）の面積の推定および熱貫流率の決定を行う。\n",
    "- 外皮の用途別情報が入力された場合において床下空間に属する土間床等面積が0㎡より大きい場合、室と床下空間の間の床の面積の合計は、床下空間に属する土間床等面積の合計（ただし、室用途別の床面積と方位が「下面」の部位面積の差分の合計を上限とする）に等しいとみなす。室と床下空間の間の床は、室用途別の床面積と方位が「下面」の部位面積の差分に応じて、各用途に割り当てる。\n",
    "- 室と床下空間の間の床は、仕様を想定して与える（合板12mm、参考：SimHeatでの熱負荷計算用の無断熱の層構成）。\n",
    "- 内壁等の面積は、室の周長を求める際の係数（アスペクト比）と階高を仮定して、外皮の用途別情報および用途別床面積より推定する。主たる居室―非居室間、その他居室―非居室間は、それぞれ、各用途の床面積が0㎡より大きい場合は、居室と非居室は幅1m、高さ2m以上の通路等で繋がっていると想定する。\n",
    "- 内壁等の熱貫流率は一般的な仕様を想定して与える（石膏ボード12.5mm－空気層－石膏ボード12.5mm、参考：SimHeatでの熱負荷計算用の無断熱の層構成）。室内戸は考慮しない。\n",
    "- その他は、内壁の用途別情報が得られている場合と同様に求める。"
   ]
  },
  {
   "cell_type": "markdown",
   "metadata": {},
   "source": [
    "## 1. Common Element"
   ]
  },
  {
   "cell_type": "markdown",
   "metadata": {},
   "source": [
    "#### Outline"
   ]
  },
  {
   "cell_type": "markdown",
   "metadata": {},
   "source": [
    "'Common'要素はそのまま維持する。"
   ]
  },
  {
   "cell_type": "markdown",
   "metadata": {},
   "source": [
    "参照：InputDataDefinition.ipynb"
   ]
  },
  {
   "cell_type": "markdown",
   "metadata": {},
   "source": [
    "#### Function"
   ]
  },
  {
   "cell_type": "code",
   "execution_count": 2,
   "metadata": {
    "collapsed": true
   },
   "outputs": [],
   "source": [
    "def convert_common(d):\n",
    "    return d['Common']"
   ]
  },
  {
   "cell_type": "markdown",
   "metadata": {},
   "source": [
    "## 2. Walls Element"
   ]
  },
  {
   "cell_type": "markdown",
   "metadata": {},
   "source": [
    "#### Outline"
   ]
  },
  {
   "cell_type": "markdown",
   "metadata": {},
   "source": [
    "'Walls'要素はそのまま維持する。"
   ]
  },
  {
   "cell_type": "markdown",
   "metadata": {},
   "source": [
    "#### Function"
   ]
  },
  {
   "cell_type": "code",
   "execution_count": 3,
   "metadata": {
    "collapsed": true
   },
   "outputs": [],
   "source": [
    "def convert_wall(d):\n",
    "    return d['Walls']"
   ]
  },
  {
   "cell_type": "markdown",
   "metadata": {},
   "source": [
    "## 3. Windows Element"
   ]
  },
  {
   "cell_type": "markdown",
   "metadata": {},
   "source": [
    "#### Outline"
   ]
  },
  {
   "cell_type": "markdown",
   "metadata": {},
   "source": [
    "'Windows'要素はそのまま維持する。"
   ]
  },
  {
   "cell_type": "markdown",
   "metadata": {},
   "source": [
    "#### Function"
   ]
  },
  {
   "cell_type": "code",
   "execution_count": 4,
   "metadata": {
    "collapsed": true
   },
   "outputs": [],
   "source": [
    "def convert_window(d):\n",
    "    return d['Windows']"
   ]
  },
  {
   "cell_type": "markdown",
   "metadata": {},
   "source": [
    "## 4. Doors Element"
   ]
  },
  {
   "cell_type": "markdown",
   "metadata": {},
   "source": [
    "#### Outline"
   ]
  },
  {
   "cell_type": "markdown",
   "metadata": {},
   "source": [
    "'Doors'要素はそのまま維持する。"
   ]
  },
  {
   "cell_type": "markdown",
   "metadata": {},
   "source": [
    "#### Function"
   ]
  },
  {
   "cell_type": "code",
   "execution_count": 5,
   "metadata": {
    "collapsed": true
   },
   "outputs": [],
   "source": [
    "def convert_door(d):\n",
    "    return d['Doors']"
   ]
  },
  {
   "cell_type": "markdown",
   "metadata": {},
   "source": [
    "## 5. Heatbridges Element"
   ]
  },
  {
   "cell_type": "markdown",
   "metadata": {},
   "source": [
    "#### Outline"
   ]
  },
  {
   "cell_type": "markdown",
   "metadata": {},
   "source": [
    "'Heatbridges'要素はそのまま維持する。"
   ]
  },
  {
   "cell_type": "markdown",
   "metadata": {},
   "source": [
    "#### Function"
   ]
  },
  {
   "cell_type": "code",
   "execution_count": 6,
   "metadata": {
    "collapsed": true
   },
   "outputs": [],
   "source": [
    "def convert_heatbridge(d):\n",
    "    return d['Heatbridges']"
   ]
  },
  {
   "cell_type": "markdown",
   "metadata": {},
   "source": [
    "## 6. EarthfloorPerimeters Element"
   ]
  },
  {
   "cell_type": "markdown",
   "metadata": {},
   "source": [
    "#### Outline"
   ]
  },
  {
   "cell_type": "markdown",
   "metadata": {},
   "source": [
    "'EarthfloorPerimeters'要素はそのまま維持する。"
   ]
  },
  {
   "cell_type": "markdown",
   "metadata": {},
   "source": [
    "#### Function"
   ]
  },
  {
   "cell_type": "code",
   "execution_count": 7,
   "metadata": {
    "collapsed": true
   },
   "outputs": [],
   "source": [
    "def convert_earthfloorperimeter(d):\n",
    "    return d['EarthfloorPerimeters']"
   ]
  },
  {
   "cell_type": "markdown",
   "metadata": {},
   "source": [
    "## 7. Earthfloors Element"
   ]
  },
  {
   "cell_type": "markdown",
   "metadata": {},
   "source": [
    "#### Outline"
   ]
  },
  {
   "cell_type": "markdown",
   "metadata": {},
   "source": [
    "'Earthfloors'要素はそのまま維持する。"
   ]
  },
  {
   "cell_type": "markdown",
   "metadata": {},
   "source": [
    "#### Function"
   ]
  },
  {
   "cell_type": "code",
   "execution_count": 8,
   "metadata": {
    "collapsed": true
   },
   "outputs": [],
   "source": [
    "def convert_earthfloor(d):\n",
    "    return d['Earthfloors']"
   ]
  },
  {
   "cell_type": "markdown",
   "metadata": {},
   "source": [
    "## 8. InnerWalls Element"
   ]
  },
  {
   "cell_type": "markdown",
   "metadata": {},
   "source": [
    "## 8.1. 用途別床面積を取得する関数"
   ]
  },
  {
   "cell_type": "code",
   "execution_count": 9,
   "metadata": {
    "collapsed": true
   },
   "outputs": [],
   "source": [
    "def get_area_floor(d):\n",
    "    return d['Common']['MainOccupantRoomFloorArea'], \\\n",
    "           d['Common']['OtherOccupantRoomFloorArea'], \\\n",
    "           d['Common']['TotalFloorArea'] - d['Common']['MainOccupantRoomFloorArea'] - d['Common']['OtherOccupantRoomFloorArea']"
   ]
  },
  {
   "cell_type": "markdown",
   "metadata": {},
   "source": [
    "## 8.2. InnerWalls Element - Inner Floor "
   ]
  },
  {
   "cell_type": "markdown",
   "metadata": {},
   "source": [
    "### 1) 層構成"
   ]
  },
  {
   "cell_type": "markdown",
   "metadata": {},
   "source": [
    "#### Outline"
   ]
  },
  {
   "cell_type": "markdown",
   "metadata": {},
   "source": [
    "以下の層構成とする。"
   ]
  },
  {
   "cell_type": "markdown",
   "metadata": {},
   "source": [
    "| 材料 | 厚さ, m | 熱伝導率, W m<sup>-1</sup> K<sup>-1</sup> | 熱抵抗, m<sup>2</sup> k W<sup>-1</sup> | 容積比熱, J L<sup>-1</sup> K<sup>-1</sup> |\n",
    "|---|---|---|---|\n",
    "| 合板 | 0.012 | 0.16 | 0.075 | 720.0 |"
   ]
  },
  {
   "cell_type": "markdown",
   "metadata": {},
   "source": [
    "#### Function"
   ]
  },
  {
   "cell_type": "code",
   "execution_count": 10,
   "metadata": {},
   "outputs": [],
   "source": [
    "def get_inner_floor_layers():\n",
    "    return [{'Name': 'PED', 'Cond': 0.16, 'Thick': 0.012, 'SpecH': 720.0}]"
   ]
  },
  {
   "cell_type": "markdown",
   "metadata": {},
   "source": [
    "### 2) 床下空間上の床面積の推定"
   ]
  },
  {
   "cell_type": "markdown",
   "metadata": {},
   "source": [
    "#### Outline"
   ]
  },
  {
   "cell_type": "markdown",
   "metadata": {},
   "source": [
    "$$\n",
    "\\displaystyle\n",
    "A_{f,MR}= A_f \\times \\frac{ A_{dif,MR} }{ A_{dif,MR} + A_{dif,OR} + A_{dif,NR} }\n",
    "$$\n",
    "\n",
    "$$\n",
    "\\displaystyle\n",
    "A_{f,OR}= A_f \\times \\frac{ A_{dif,OR} }{ A_{dif,MR} + A_{dif,OR} + A_{dif,NR} }\n",
    "$$\n",
    "\n",
    "$$\n",
    "\\displaystyle\n",
    "A_{f,NR}= A_f \\times \\frac{ A_{dif,NR} }{ A_{dif,MR} + A_{dif,OR} + A_{dif,NR} }\n",
    "$$"
   ]
  },
  {
   "cell_type": "markdown",
   "metadata": {},
   "source": [
    "$A_{f,MR}$: 主たる居室と床下空間の間の床の面積, m<sup>2</sup>  \n",
    "$A_{f,OR}$: その他の居室と床下空間の間の床の面積, m<sup>2</sup>  \n",
    "$A_{f,NR}$: 非居室と床下空間の間の床の面積, m<sup>2</sup>  \n",
    "$A_f$: 室と床下空間の間の床面積の合計, m<sup>2</sup>  \n",
    "$A_{dif,MR}$: 主たる居室において、方位が「下面」の部位の面積と床面積の差, m<sup>2</sup>  \n",
    "$A_{dif,OR}$: その他の居室において、方位が「下面」の部位の面積と床面積の差, m<sup>2</sup>  \n",
    "$A_{dif,NR}$: 非居室において、方位が「下面」の部位の面積と床面積の差, m<sup>2</sup>  "
   ]
  },
  {
   "cell_type": "markdown",
   "metadata": {},
   "source": [
    "$$\n",
    "\\displaystyle\n",
    "A_f= min(A_{dif,MR} + A_{dif,OR} + A_{dif,NR}, \\sum_{i}^{}A_{b,i})\n",
    "$$"
   ]
  },
  {
   "cell_type": "markdown",
   "metadata": {},
   "source": [
    "$A_{b,i}$: 床下空間に属する土間床等の部位$i$の面積, m<sup>2</sup>"
   ]
  },
  {
   "cell_type": "markdown",
   "metadata": {},
   "source": [
    "$$\n",
    "\\displaystyle\n",
    "A_{dif, MR} = max(0, A_{MR} - \\sum_i A_{of,MR,i})\n",
    "$$\n",
    "\n",
    "$$\n",
    "\\displaystyle\n",
    "A_{dif, OR} = max(0, A_{OR} - \\sum_i A_{of,OR,i})\n",
    "$$\n",
    "\n",
    "$$\n",
    "\\displaystyle\n",
    "A_{dif, NR} = max(0, A_{NR} - \\sum_i A_{of,NR,i})\n",
    "$$"
   ]
  },
  {
   "cell_type": "markdown",
   "metadata": {},
   "source": [
    "$A_{MR}$: 主たる居室の床面積, m<sup>2</sup>  \n",
    "$A_{OR}$: その他の居室の床面積, m<sup>2</sup>  \n",
    "$A_{NR}$: 非居室の床面積, m<sup>2</sup>   \n",
    "$A_{of,MR,i}$: 方位が「下面」である主たる居室の外皮の部位(一般部位又は開口部)$i$の面積, m<sup>2</sup>  \n",
    "$A_{of,OR,i}$: 方位が「下面」であるその他の居室の外皮の部位(一般部位又は開口部)$i$の面積, m<sup>2</sup>  \n",
    "$A_{of,NR,i}$: 方位が「下面」である非居室の外皮の部位(一般部位又は開口部)$i$の面積, m<sup>2</sup>  "
   ]
  },
  {
   "cell_type": "markdown",
   "metadata": {},
   "source": [
    "#### Function"
   ]
  },
  {
   "cell_type": "code",
   "execution_count": 11,
   "metadata": {
    "collapsed": true
   },
   "outputs": [],
   "source": [
    "def get_area_floor_over_underfloor(d):\n",
    "    \n",
    "    # 方位が「下面」である居室の外皮の部位の面積の合計\n",
    "    def get_A_of(d, s):\n",
    "        # s : space name\n",
    "        return sum(y['area'] for y in d['Walls'] + d['Windows'] + d['Doors'] if y['space'] == s and y['direction'] == 'Bottom')\n",
    "    \n",
    "    # 床下空間に属する土間床等の面積の取得\n",
    "    def get_A_b(d):\n",
    "        return sum(earthfloor['area'] for earthfloor in d['Earthfloors'] if earthfloor['space'] == 'underfloor')\n",
    "    \n",
    "    # 用途別床面積の取得\n",
    "    A_MR, A_OR, A_NR = get_area_floor(d)\n",
    "    \n",
    "    # 下面（direction:Bottom）の壁・窓・ドア面積の取得\n",
    "    A_of_MR, A_of_OR, A_of_NR = get_A_of(d, 'main'), get_A_of(d, 'other'), get_A_of(d, 'nonliving')\n",
    "    \n",
    "    # 方位が「下面」の部位の面積と床面積の差\n",
    "    A_dif_MR, A_dif_OR, A_dif_NR = max(0.0, A_MR - A_of_MR), max(0.0, A_OR - A_of_OR), max(0.0, A_NR - A_of_NR)\n",
    "\n",
    "    A_dif = A_dif_MR + A_dif_OR + A_dif_NR\n",
    "\n",
    "    # 床下空間に属する土間床等の面積の取得\n",
    "    A_b = get_A_b(d)\n",
    "\n",
    "    #  室と床下空間の間の床面積の推定\n",
    "    A_f = min(A_dif, A_b)\n",
    "\n",
    "    # 居室と床下空間との間の床の面積\n",
    "    A_f_MR, A_f_OR, A_f_NR = A_f * A_dif_MR / A_dif, A_f * A_dif_OR / A_dif, A_f * A_dif_NR / A_dif\n",
    "   \n",
    "    return {\n",
    "        'main' : A_f_MR,\n",
    "        'other' : A_f_OR,\n",
    "        'nonliving' : A_f_NR\n",
    "    }"
   ]
  },
  {
   "cell_type": "markdown",
   "metadata": {},
   "source": [
    "#### Example"
   ]
  },
  {
   "cell_type": "code",
   "execution_count": 12,
   "metadata": {},
   "outputs": [
    {
     "data": {
      "text/plain": [
       "{'main': 0.0, 'other': 6.0, 'nonliving': 4.0}"
      ]
     },
     "execution_count": 12,
     "metadata": {},
     "output_type": "execute_result"
    }
   ],
   "source": [
    "d = {\n",
    "    'Common': {\n",
    "        'Region': 6,\n",
    "        'MainOccupantRoomFloorArea': 30.0,\n",
    "        'OtherOccupantRoomFloorArea': 60.0,\n",
    "        'TotalFloorArea': 120.0\n",
    "    },\n",
    "    'Walls': [\n",
    "        { 'area': 60, 'direction': 'Top', 'name': 'Ceiling', 'space': 'main', 'structure': 'wood', 'type': 'ceiling' },\n",
    "        { 'area': 15, 'direction': 'Bottom', 'name': 'Floor', 'space': 'other', 'structure': 'wood', 'type': 'floor' },\n",
    "    ],\n",
    "    'Windows': [\n",
    "        { 'area': 30, 'direction': 'SW', 'name': 'WindowSW', 'space': 'main', 'type': 'single' },\n",
    "        { 'area': 75, 'direction': 'Bottom', 'name': 'WindowBottom', 'space': 'main', 'type': 'single' },\n",
    "    ],\n",
    "    'Doors': [\n",
    "        { 'area': 15, 'direction': 'NW', 'name': 'DoorNW', 'space': 'nonliving' },\n",
    "        { 'area': 15, 'direction': 'NE', 'name': 'DoorNE', 'space': 'other' }\n",
    "    ],\n",
    "    'Earthfloors': [\n",
    "        { 'area': 5, 'name': 'other', 'space': 'underfloor' },\n",
    "        { 'area': 5, 'name': 'entrance', 'space': 'underfloor' }\n",
    "    ]\n",
    "}\n",
    "\n",
    "get_area_floor_over_underfloor(d)"
   ]
  },
  {
   "cell_type": "markdown",
   "metadata": {},
   "source": [
    "### 3) 室と床下空間の間の床の構築"
   ]
  },
  {
   "cell_type": "markdown",
   "metadata": {},
   "source": [
    "#### Function"
   ]
  },
  {
   "cell_type": "code",
   "execution_count": 13,
   "metadata": {
    "collapsed": true
   },
   "outputs": [],
   "source": [
    "def get_innerwall_floor(d):\n",
    "    \n",
    "    # 室と床下空間の間の床面積の推定\n",
    "    areas_innerfloor = get_area_floor_over_underfloor(d)\n",
    "    \n",
    "    # 壁体名称、部位面積を更新し、「壁体が属する空間種類」「隣接空間種類」を追加する\n",
    "    ifs = []\n",
    "    \n",
    "    ifs.extend([ {\n",
    "        'Name' : 'Innerfloor_' + space,\n",
    "        'Type' : 'InnerFloor',\n",
    "        'Direction' : 'Horizontal',\n",
    "        'Area' : areas_innerfloor[space],\n",
    "        'Layers' : get_inner_floor_layers(),\n",
    "        'Space' : space,\n",
    "        'NextSpace' : 'Underfloor'\n",
    "    } for space in ['main', 'other', 'nonliving'] ])\n",
    "\n",
    "    ifs.extend([ {\n",
    "        'Name' : 'Innerfloor_' + space,\n",
    "        'Type' : 'InnerFloor',\n",
    "        'Direction' : 'Horizontal',\n",
    "        'Area' : areas_innerfloor[space],\n",
    "        'Layers' : get_inner_floor_layers(),\n",
    "        'Space' : 'Underfloor',\n",
    "        'NextSpace' : space\n",
    "    } for space in ['main', 'other', 'nonliving'] ])\n",
    "        \n",
    "    return ifs"
   ]
  },
  {
   "cell_type": "markdown",
   "metadata": {},
   "source": [
    "## 8.2. InnerWalls Element - Inner Wall "
   ]
  },
  {
   "cell_type": "markdown",
   "metadata": {},
   "source": [
    "### 1) 層構成"
   ]
  },
  {
   "cell_type": "markdown",
   "metadata": {},
   "source": [
    "以下の層構成とする。"
   ]
  },
  {
   "cell_type": "markdown",
   "metadata": {},
   "source": [
    "| 材料 | 厚さ, m | 熱伝導率, W m<sup>-1</sup> K<sup>-1</sup> | 熱抵抗, m<sup>2</sup>2 k W<sup>-1</sup> | 容積比熱, J L<sup>-1</sup> K<sup>-1</sup> |\n",
    "|---|---|---|---|\n",
    "| せっこうボード | 0.0125 | 0.22 | 0.0568 | 830.0 |\n",
    "| 非密閉空気層 | - | - | 0.090 | 0.0 |\n",
    "| せっこうボード | 0.0125 | 0.22 | 0.0568 | 830.0 |"
   ]
  },
  {
   "cell_type": "markdown",
   "metadata": {},
   "source": [
    "#### Function"
   ]
  },
  {
   "cell_type": "code",
   "execution_count": 14,
   "metadata": {},
   "outputs": [],
   "source": [
    "def get_inner_wall_layers():\n",
    "    return [\n",
    "        {'Name': 'GPB', 'Cond': 0.22, 'Thick': 0.0125, 'SpecH': 830.0},\n",
    "        {'Name': 'GPB', 'Cond': 1/0.09, 'Thick': 1, 'SpecH': 0},\n",
    "        {'Name': 'GPB', 'Cond': 0.22, 'Thick': 0.0125, 'SpecH': 830.0}\n",
    "    ]"
   ]
  },
  {
   "cell_type": "markdown",
   "metadata": {},
   "source": [
    "### 3) 内壁等面積の推定"
   ]
  },
  {
   "cell_type": "markdown",
   "metadata": {},
   "source": [
    "#### Outline"
   ]
  },
  {
   "cell_type": "markdown",
   "metadata": {},
   "source": [
    "$$\n",
    "A_{iw,MR-OR} = \\left \\{\n",
    "\\begin{array}{ll}\n",
    "0.0 & ( A_{MR} = 0.0 \\quad or \\quad A_{OR} = 0.0 ) \\\\\n",
    "\\displaystyle\n",
    "\\max \\left( 0.0, \\frac{ A_{iw,MR} + A_{iw,OR} - A_{iw,NR} }{2} \\right) & ( A_{MR} > 0.0 \\quad and \\quad A_{OR} > 0.0 )\n",
    "\\end{array}\n",
    "\\right.\n",
    "$$"
   ]
  },
  {
   "cell_type": "markdown",
   "metadata": {},
   "source": [
    "$$\n",
    "A_{iw,MR-NR} = \\left \\{\n",
    "\\begin{array}{ll}\n",
    "0.0 & ( A_{MR} = 0.0 \\quad or \\quad A_{NR} = 0.0 ) \\\\\n",
    "\\displaystyle\n",
    "\\max \\left( 2.0, \\frac{ A_{iw,MR} + A_{iw,NR} - A_{iw,OR} }{2} \\right) & ( A_{MR} > 0.0 \\quad and \\quad A_{NR} > 0.0 )\n",
    "\\end{array}\n",
    "\\right.\n",
    "$$"
   ]
  },
  {
   "cell_type": "markdown",
   "metadata": {},
   "source": [
    "$$\n",
    "A_{iw,NR-OR} = \\left \\{\n",
    "\\begin{array}{ll}\n",
    "0.0 & ( A_{NR} = 0.0 \\quad or \\quad A_{OR} = 0.0 ) \\\\\n",
    "\\displaystyle\n",
    "\\max \\left( 2.0, \\frac{ A_{iw,NR} + A_{iw,OR} - A_{iw,MR} }{2} \\right) & ( A_{NR} > 0.0 \\quad and \\quad A_{OR} > 0.0 )\n",
    "\\end{array}\n",
    "\\right.\n",
    "$$"
   ]
  },
  {
   "cell_type": "markdown",
   "metadata": {},
   "source": [
    "$ \\because $"
   ]
  },
  {
   "cell_type": "markdown",
   "metadata": {},
   "source": [
    "$$\n",
    "A_{iw,MR} =A_{iw,MR-OR}+A_{iw,MR-NR}\n",
    "$$\n",
    "\n",
    "$$\n",
    "A_{iw,OR} =A_{iw,MR-OR}+A_{iw,OR-NR}\n",
    "$$\n",
    "\n",
    "$$\n",
    "A_{iw,NR} =A_{iw,MR-OR}+A_{iw,OR-NR}\n",
    "$$"
   ]
  },
  {
   "cell_type": "markdown",
   "metadata": {},
   "source": [
    "$A_{iw,MR-OR}$: 主たる居室とその他の居室の間の内壁等の面積, m<sup>2</sup>  \n",
    "$A_{iw,MR-NR}$: 主たる居室と非居室の間の内壁等の面積, m<sup>2</sup>  \n",
    "$A_{iw,OR-NR}$: その他の居室と非居室の間の内壁等の面積, m<sup>2</sup>  \n",
    "$A_{iw,MR}$: 主たる居室の内壁等の面積, m<sup>2</sup>  \n",
    "$A_{iw,OR}$: その他の居室の内壁等の面積, m<sup>2</sup>  \n",
    "$A_{iw,NR}$: 非居室の内壁等の面積, m<sup>2</sup>  "
   ]
  },
  {
   "cell_type": "markdown",
   "metadata": {},
   "source": [
    "$$\n",
    "A_{iw,MR} = \\left \\{\n",
    "\\begin{array}{ll}\n",
    "0 & ( A_{MR} = 0 ) \\\\\n",
    "A_{w,MR} - A_{ow,MR} = \\max \\left ( 0, 2 \\cdot A_{MR} + 4 \\cdot ar_{MR} \\cdot h \\sqrt {A_{MR}} - A_{ow,MR} \\right ) & ( A_{MR} > 0 )\n",
    "\\end{array}\n",
    "\\right.\n",
    "$$"
   ]
  },
  {
   "cell_type": "markdown",
   "metadata": {},
   "source": [
    "$$\n",
    "A_{iw,OR} = \\left \\{\n",
    "\\begin{array}{ll}\n",
    "0 & ( A_{OR} = 0 ) \\\\\n",
    "A_{w,OR} - A_{ow,OR} = \\max \\left ( 0, 2 \\cdot A_{OR} + 4 \\cdot ar_{NR} \\cdot h \\sqrt {A_{OR}} - A_{ow,OR} \\right ) & ( A_{OR} > 0 )\n",
    "\\end{array}\n",
    "\\right.\n",
    "$$"
   ]
  },
  {
   "cell_type": "markdown",
   "metadata": {},
   "source": [
    "$$\n",
    "A_{iw,NR} = \\left \\{\n",
    "\\begin{array}{ll}\n",
    "0 & ( A_{NR} = 0 ) \\\\\n",
    "A_{w,NR} - A_{ow,NR} = \\max \\left ( 0, 2 \\cdot A_{NR} + 4 \\cdot ar_{OR} \\cdot h \\sqrt {A_{NR}} - A_{ow,NR} \\right ) & ( A_{NR} > 0 )\n",
    "\\end{array}\n",
    "\\right.\n",
    "$$"
   ]
  },
  {
   "cell_type": "markdown",
   "metadata": {},
   "source": [
    "$A_{w,MR}$: 主たる居室の外皮と、主たる居室と床下空間の間の床と、主たる居室の内壁等の面積の合計, m<sup>2</sup>  \n",
    "$A_{w,OR}$: その他の居室の外皮と、その他の居室と床下空間の間の床と、その他の居室の内壁等の面積の合計, m<sup>2</sup>  \n",
    "$A_{w,NR}$: 非居室の外皮と、非居室と床下空間の間の床と、非居室の内壁等の面積の合計, m<sup>2</sup>  \n",
    "$A_{ow,MR}$: 主たる居室の外皮と、主たる居室と床下空間の間の床の面積の合計, m<sup>2</sup>  \n",
    "$A_{ow,OR}$: その他の居室の外皮と、その他の居室と床下空間の間の床の面積の合計, m<sup>2</sup>  \n",
    "$A_{ow,NR}$: 非居室の外皮と、非居室と床下空間の間の床の面積の合計, m<sup>2</sup>  \n",
    "$ar_{MR}$: 主たる居室の周長を求める際の係数, -  \n",
    "$ar_{OR}$: その他の居室の周長を求める際の係数, -  \n",
    "$ar_{NR}$: 非居室の周長を求める際の係数, -  \n",
    "$h$: 階高, m"
   ]
  },
  {
   "cell_type": "markdown",
   "metadata": {},
   "source": [
    "#### Function"
   ]
  },
  {
   "cell_type": "markdown",
   "metadata": {},
   "source": [
    "##### 内壁等の面積を推定する関数"
   ]
  },
  {
   "cell_type": "code",
   "execution_count": 15,
   "metadata": {
    "collapsed": true
   },
   "outputs": [],
   "source": [
    "def get_area_inner_wall(d):\n",
    "\n",
    "    # 居室の外皮と床下空間との間の床の面積の合計を取得\n",
    "    def get_A_ow(d):\n",
    "\n",
    "        # 室用途別の内壁等の面積\n",
    "        d_ow=[]\n",
    "        for y in ['Walls', 'Windows', 'Doors', 'InnerWalls']:\n",
    "            if (y in d) == True :\n",
    "                d_ow.extend(d[y])\n",
    "        \n",
    "        A_ow_MR = sum(y['area'] for y in d_ow if y['space'] == 'main')\n",
    "        A_ow_OR = sum(y['area'] for y in d_ow if y['space'] == 'other')\n",
    "        A_ow_NR = sum(y['area'] for y in d_ow if y['space'] == 'nonliving')\n",
    "        \n",
    "        return A_ow_MR, A_ow_OR, A_ow_NR\n",
    "    \n",
    "    # 内壁等の面積の取得\n",
    "    def get_A_iw(A_f, ar, A_ow):\n",
    "        \n",
    "        h = 2.8 # 階高, m\n",
    "        \n",
    "        return max(0.0, 2.0 * A_f + 4 * h * ar * A_f**0.5 - A_ow) if A_f > 0.0 else 0.0\n",
    "        \n",
    "    # 室用途間の内壁等の面積の推定\n",
    "    # 室用途床面積が0㎡の場合に、室間の内壁等の面積を0㎡とする\n",
    "    def get_A_iw_cor(A_s1, A_s2, A_iw_min, A_iw_s1, A_iw_s2, A_iw_os):\n",
    "        if A_s1 == 0.0 or A_s2 == 0.0:\n",
    "            return 0.0\n",
    "        else:\n",
    "            return max(A_iw_min, (A_iw_s1 + A_iw_s2 - A_iw_os)/2)\n",
    "\n",
    "    # 周長を求める際の係数, -\n",
    "    ar_MR, ar_OR, ar_NR = 1.2, 1.4, 1.4\n",
    "\n",
    "    # 用途別床面積の取得\n",
    "    A_MR, A_OR, A_NR = get_area_floor(d)\n",
    " \n",
    "    # 居室の外皮と床下空間との間の床の面積の合計を取得\n",
    "    A_ow_MR, A_ow_OR, A_ow_NR = get_A_ow(d)\n",
    "\n",
    "    # 内壁等の面積の取得\n",
    "    A_iw_space_MR, A_iw_space_OR, A_iw_space_NR = get_A_iw(A_MR, ar_MR, A_ow_MR), get_A_iw(A_OR, ar_OR, A_ow_OR), get_A_iw(A_NR, ar_NR, A_ow_NR)\n",
    "\n",
    "    # 室間の内壁等の面積の最小値, m2\n",
    "    A_iw_min_MR_to_OR, A_iw_min_MR_to_NR, A_iw_min_OR_to_NR = 0.0, 2.0, 2.0\n",
    "    \n",
    "    \n",
    "    # 室用途間の内壁等の面積の推定\n",
    "    return {\n",
    "        'main to other'      : get_A_iw_cor(A_MR, A_OR, A_iw_min_MR_to_OR, A_iw_space_MR, A_iw_space_OR, A_iw_space_NR),\n",
    "        'main to nonliving'  : get_A_iw_cor(A_MR, A_NR, A_iw_min_MR_to_NR, A_iw_space_MR, A_iw_space_NR, A_iw_space_OR),\n",
    "        'other to nonliving' : get_A_iw_cor(A_OR, A_NR, A_iw_min_OR_to_NR, A_iw_space_OR, A_iw_space_NR, A_iw_space_MR)\n",
    "    }"
   ]
  },
  {
   "cell_type": "markdown",
   "metadata": {},
   "source": [
    "#### Example"
   ]
  },
  {
   "cell_type": "code",
   "execution_count": 16,
   "metadata": {},
   "outputs": [
    {
     "data": {
      "text/plain": [
       "{'main to other': 135.28127504155998,\n",
       " 'main to nonliving': 0.0,\n",
       " 'other to nonliving': 0.0}"
      ]
     },
     "execution_count": 16,
     "metadata": {},
     "output_type": "execute_result"
    }
   ],
   "source": [
    "d = {\n",
    "    'Common': {\n",
    "        'Region': 6,\n",
    "        'MainOccupantRoomFloorArea': 60.0,\n",
    "        'OtherOccupantRoomFloorArea': 60.0,\n",
    "        'TotalFloorArea': 120.0\n",
    "    },\n",
    "    'Walls': [\n",
    "        { 'area': 60, 'direction': 'Top', 'name': 'Ceiling', 'space': 'main', 'structure': 'wood', 'type': 'ceiling' },\n",
    "        { 'area': 15, 'direction': 'Bottom', 'name': 'Floor', 'space': 'other', 'structure': 'wood', 'type': 'floor' },\n",
    "    ],\n",
    "    'Windows': [\n",
    "        { 'area': 30, 'direction': 'SW', 'name': 'WindowSW', 'space': 'main', 'type': 'single' },\n",
    "        { 'area': 75, 'direction': 'Bottom', 'name': 'WindowBottom', 'space': 'other', 'type': 'single' },\n",
    "    ],\n",
    "    'Doors': [\n",
    "        { 'area': 15, 'direction': 'NW', 'name': 'DoorNW', 'space': 'nonliving' },\n",
    "        { 'area': 15, 'direction': 'NE', 'name': 'DoorNE', 'space': 'other' }\n",
    "    ],\n",
    "    'Earthfloors': [\n",
    "        { 'area': 40, 'name': 'other', 'space': 'underfloor' },\n",
    "        { 'area': 20, 'name': 'entrance', 'space': 'nonliving' }\n",
    "    ]\n",
    "}\n",
    "\n",
    "get_area_inner_wall(d)"
   ]
  },
  {
   "cell_type": "markdown",
   "metadata": {},
   "source": [
    "### 3) 内壁の構築"
   ]
  },
  {
   "cell_type": "markdown",
   "metadata": {},
   "source": [
    "#### Function"
   ]
  },
  {
   "cell_type": "code",
   "execution_count": 17,
   "metadata": {
    "collapsed": true
   },
   "outputs": [],
   "source": [
    "def get_innerwall_wall(d):\n",
    "\n",
    "    # 用途と複数用途間の対応関係の定義\n",
    "    correspondence = {\n",
    "        'main to other': ['main', 'other' ],\n",
    "        'main to nonliving': ['main', 'nonliving' ],\n",
    "        'other to nonliving': ['other', 'nonliving' ] \n",
    "    }  \n",
    "\n",
    "    # 内壁面積の推定\n",
    "    areas_innerwall = get_area_inner_wall(d)\n",
    "    \n",
    "    # 壁体名称、部位面積を更新し、「壁体が属する空間種類」「隣接空間種類」を追加する\n",
    "    iws = []\n",
    "\n",
    "    iws.extend([ {\n",
    "        'Name' : 'Innerwall_' + c,\n",
    "        'Type' : 'InnerWall',\n",
    "        'Direction' : 'Vertical',\n",
    "        'Layers' : get_inner_wall_layers(),\n",
    "        'Area' : areas_innerwall[c],\n",
    "        'Space' : correspondence[c][0],\n",
    "        'NextSpace' : correspondence[c][1]\n",
    "    } for c in correspondence.keys()\n",
    "    ])\n",
    "\n",
    "    iws.extend([ {\n",
    "        'Name' : 'Innerwall_' + c,\n",
    "        'Type' : 'InnerWall',\n",
    "        'Direction' : 'Vertical',\n",
    "        'Layers' : get_inner_wall_layers(),\n",
    "        'Area' : areas_innerwall[c],\n",
    "        'Space' : correspondence[c][1],\n",
    "        'NextSpace' : correspondence[c][0]\n",
    "    } for c in correspondence.keys()\n",
    "    ])\n",
    "\n",
    "    return iws"
   ]
  },
  {
   "cell_type": "markdown",
   "metadata": {},
   "source": [
    "## 8.3. InnerWalls Element - 統合"
   ]
  },
  {
   "cell_type": "markdown",
   "metadata": {},
   "source": [
    "#### Function"
   ]
  },
  {
   "cell_type": "code",
   "execution_count": 18,
   "metadata": {
    "collapsed": true
   },
   "outputs": [],
   "source": [
    "def convert_innerwall( d ):\n",
    "\n",
    "    innerwalls =[]\n",
    "    \n",
    "    # 室と床下空間の間の床の推定\n",
    "    innerwalls.extend(get_innerwall_floor(d))\n",
    "    \n",
    "    # 内壁等の推定              \n",
    "    innerwalls.extend(get_innerwall_wall(d))\n",
    "            \n",
    "    return innerwalls"
   ]
  },
  {
   "cell_type": "markdown",
   "metadata": {},
   "source": [
    "#### Example"
   ]
  },
  {
   "cell_type": "code",
   "execution_count": 19,
   "metadata": {},
   "outputs": [
    {
     "data": {
      "text/plain": [
       "[{'Name': 'Innerfloor_main',\n",
       "  'Type': 'InnerFloor',\n",
       "  'Direction': 'Horizontal',\n",
       "  'Area': 2.5,\n",
       "  'Layers': [{'Name': 'PED', 'Cond': 0.16, 'Thick': 0.012, 'SpecH': 720.0}],\n",
       "  'Space': 'main',\n",
       "  'NextSpace': 'Underfloor'},\n",
       " {'Name': 'Innerfloor_other',\n",
       "  'Type': 'InnerFloor',\n",
       "  'Direction': 'Horizontal',\n",
       "  'Area': 5.0,\n",
       "  'Layers': [{'Name': 'PED', 'Cond': 0.16, 'Thick': 0.012, 'SpecH': 720.0}],\n",
       "  'Space': 'other',\n",
       "  'NextSpace': 'Underfloor'},\n",
       " {'Name': 'Innerfloor_nonliving',\n",
       "  'Type': 'InnerFloor',\n",
       "  'Direction': 'Horizontal',\n",
       "  'Area': 2.5,\n",
       "  'Layers': [{'Name': 'PED', 'Cond': 0.16, 'Thick': 0.012, 'SpecH': 720.0}],\n",
       "  'Space': 'nonliving',\n",
       "  'NextSpace': 'Underfloor'},\n",
       " {'Name': 'Innerfloor_main',\n",
       "  'Type': 'InnerFloor',\n",
       "  'Direction': 'Horizontal',\n",
       "  'Area': 2.5,\n",
       "  'Layers': [{'Name': 'PED', 'Cond': 0.16, 'Thick': 0.012, 'SpecH': 720.0}],\n",
       "  'Space': 'Underfloor',\n",
       "  'NextSpace': 'main'},\n",
       " {'Name': 'Innerfloor_other',\n",
       "  'Type': 'InnerFloor',\n",
       "  'Direction': 'Horizontal',\n",
       "  'Area': 5.0,\n",
       "  'Layers': [{'Name': 'PED', 'Cond': 0.16, 'Thick': 0.012, 'SpecH': 720.0}],\n",
       "  'Space': 'Underfloor',\n",
       "  'NextSpace': 'other'},\n",
       " {'Name': 'Innerfloor_nonliving',\n",
       "  'Type': 'InnerFloor',\n",
       "  'Direction': 'Horizontal',\n",
       "  'Area': 2.5,\n",
       "  'Layers': [{'Name': 'PED', 'Cond': 0.16, 'Thick': 0.012, 'SpecH': 720.0}],\n",
       "  'Space': 'Underfloor',\n",
       "  'NextSpace': 'nonliving'},\n",
       " {'Name': 'Innerwall_main to other',\n",
       "  'Type': 'InnerWall',\n",
       "  'Direction': 'Vertical',\n",
       "  'Layers': [{'Name': 'GPB', 'Cond': 0.22, 'Thick': 0.0125, 'SpecH': 830.0},\n",
       "   {'Name': 'GPB', 'Cond': 11.11111111111111, 'Thick': 1, 'SpecH': 0},\n",
       "   {'Name': 'GPB', 'Cond': 0.22, 'Thick': 0.0125, 'SpecH': 830.0}],\n",
       "  'Area': 77.96138622447441,\n",
       "  'Space': 'main',\n",
       "  'NextSpace': 'other'},\n",
       " {'Name': 'Innerwall_main to nonliving',\n",
       "  'Type': 'InnerWall',\n",
       "  'Direction': 'Vertical',\n",
       "  'Layers': [{'Name': 'GPB', 'Cond': 0.22, 'Thick': 0.0125, 'SpecH': 830.0},\n",
       "   {'Name': 'GPB', 'Cond': 11.11111111111111, 'Thick': 1, 'SpecH': 0},\n",
       "   {'Name': 'GPB', 'Cond': 0.22, 'Thick': 0.0125, 'SpecH': 830.0}],\n",
       "  'Area': 19.020025504219902,\n",
       "  'Space': 'main',\n",
       "  'NextSpace': 'nonliving'},\n",
       " {'Name': 'Innerwall_other to nonliving',\n",
       "  'Type': 'InnerWall',\n",
       "  'Direction': 'Vertical',\n",
       "  'Layers': [{'Name': 'GPB', 'Cond': 0.22, 'Thick': 0.0125, 'SpecH': 830.0},\n",
       "   {'Name': 'GPB', 'Cond': 11.11111111111111, 'Thick': 1, 'SpecH': 0},\n",
       "   {'Name': 'GPB', 'Cond': 0.22, 'Thick': 0.0125, 'SpecH': 830.0}],\n",
       "  'Area': 90.23037151259014,\n",
       "  'Space': 'other',\n",
       "  'NextSpace': 'nonliving'},\n",
       " {'Name': 'Innerwall_main to other',\n",
       "  'Type': 'InnerWall',\n",
       "  'Direction': 'Vertical',\n",
       "  'Layers': [{'Name': 'GPB', 'Cond': 0.22, 'Thick': 0.0125, 'SpecH': 830.0},\n",
       "   {'Name': 'GPB', 'Cond': 11.11111111111111, 'Thick': 1, 'SpecH': 0},\n",
       "   {'Name': 'GPB', 'Cond': 0.22, 'Thick': 0.0125, 'SpecH': 830.0}],\n",
       "  'Area': 77.96138622447441,\n",
       "  'Space': 'other',\n",
       "  'NextSpace': 'main'},\n",
       " {'Name': 'Innerwall_main to nonliving',\n",
       "  'Type': 'InnerWall',\n",
       "  'Direction': 'Vertical',\n",
       "  'Layers': [{'Name': 'GPB', 'Cond': 0.22, 'Thick': 0.0125, 'SpecH': 830.0},\n",
       "   {'Name': 'GPB', 'Cond': 11.11111111111111, 'Thick': 1, 'SpecH': 0},\n",
       "   {'Name': 'GPB', 'Cond': 0.22, 'Thick': 0.0125, 'SpecH': 830.0}],\n",
       "  'Area': 19.020025504219902,\n",
       "  'Space': 'nonliving',\n",
       "  'NextSpace': 'main'},\n",
       " {'Name': 'Innerwall_other to nonliving',\n",
       "  'Type': 'InnerWall',\n",
       "  'Direction': 'Vertical',\n",
       "  'Layers': [{'Name': 'GPB', 'Cond': 0.22, 'Thick': 0.0125, 'SpecH': 830.0},\n",
       "   {'Name': 'GPB', 'Cond': 11.11111111111111, 'Thick': 1, 'SpecH': 0},\n",
       "   {'Name': 'GPB', 'Cond': 0.22, 'Thick': 0.0125, 'SpecH': 830.0}],\n",
       "  'Area': 90.23037151259014,\n",
       "  'Space': 'nonliving',\n",
       "  'NextSpace': 'other'}]"
      ]
     },
     "execution_count": 19,
     "metadata": {},
     "output_type": "execute_result"
    }
   ],
   "source": [
    "d = {\n",
    "    'Common': {'MainOccupantRoomFloorArea': 30.0, 'OtherOccupantRoomFloorArea': 60.0, 'Region': 6, 'TotalFloorArea': 120.0},\n",
    "    'Doors': [\n",
    "        {'area': 0.63, 'direction': 'NW', 'name': 'DoorNW_main', 'space': 'main'},\n",
    "        {'area': 1.26, 'direction': 'NW', 'name': 'DoorNW_other', 'space': 'other'},\n",
    "        {'area': 0.63, 'direction': 'NW', 'name': 'DoorNW_nonliving', 'space': 'nonliving'},\n",
    "        {'area': 0.54, 'direction': 'NE', 'name': 'DoorNE_main', 'space': 'main'},\n",
    "        {'area': 1.08, 'direction': 'NE', 'name': 'DoorNE_other', 'space': 'other'},\n",
    "        {'area': 0.54, 'direction': 'NE', 'name': 'DoorNE_nonliving', 'space': 'nonliving'}\n",
    "     ],\n",
    "    'EarthfloorPerimeters': [\n",
    "        {'direction': 'NW', 'length': 2.43, 'name': 'other_NW', 'psi': 1.8, 'space': 'underfloor'},\n",
    "        {'direction': 'NE', 'length': 2.43, 'name': 'other_NE', 'psi': 1.8, 'space': 'underfloor'}\n",
    "    ],\n",
    "    'Earthfloors': [\n",
    "        {'area': 5.0, 'name': 'other', 'space': 'underfloor'},\n",
    "        {'area': 5.0, 'name': 'entrance', 'space': 'underfloor'}\n",
    "    ],\n",
    "    'Walls': [\n",
    "        {'area': 16.95, 'direction': 'top', 'name': 'Ceiling_main', 'space': 'main', 'structure': 'wood', 'type': 'ceiling'},\n",
    "        {'area': 33.9, 'direction': 'top', 'name': 'Ceiling_other', 'space': 'other', 'structure': 'wood', 'type': 'ceiling'},\n",
    "        {'area': 16.95, 'direction': 'top', 'name': 'Ceiling_nonliving', 'space': 'nonliving', 'structure': 'wood', 'type': 'ceiling'},\n",
    "        {'area': 10.1575, 'direction': 'SW', 'name': 'Wall_SW_main', 'space': 'main', 'structure': 'wood', 'type': 'wall'},\n",
    "        {'area': 20.315, 'direction': 'SW', 'name': 'Wall_SW_other', 'space': 'other', 'structure': 'wood', 'type': 'wall'},\n",
    "        {'area': 10.1575, 'direction': 'SW', 'name': 'Wall_SW_nonliving', 'space': 'nonliving', 'structure': 'wood', 'type': 'wall'}\n",
    "    ],\n",
    "    'Windows': [\n",
    "        {'area': 7.5625, 'direction': 'SW', 'name': 'WindowSW_main', 'space': 'main', 'type': 'single'},\n",
    "        {'area': 15.125, 'direction': 'SW', 'name': 'WindowSW_other', 'space': 'other', 'type': 'single'},\n",
    "        {'area': 7.5625, 'direction': 'SW', 'name': 'WindowSW_nonliving',  'space': 'nonliving', 'type': 'single'},\n",
    "         {'area': 0.7925, 'direction': 'NW', 'name': 'WindowNW_main', 'space': 'main', 'type': 'single'},\n",
    "        {'area': 1.585, 'direction': 'NW', 'name': 'WindowNW_other', 'space': 'other', 'type': 'single'},\n",
    "        {'area': 0.7925, 'direction': 'NW', 'name': 'WindowNW_nonliving', 'space': 'nonliving', 'type': 'single'}\n",
    "        ]\n",
    "}\n",
    "\n",
    "convert_innerwall( d )"
   ]
  },
  {
   "cell_type": "markdown",
   "metadata": {},
   "source": [
    "## 3. Lv4入力情報のコンバート（統合）\n",
    "- 1)共通情報、2)開口部以外の不透明部位、3)開口部の透明部位、4)開口部の不透明部位、5) 線熱橋、6)土間床等の外周部の線熱橋、7)土間床、8)内壁等の各コンバート関数を統合し、Lv3の入力情報をLv4の入力情報にコンバートする。"
   ]
  },
  {
   "cell_type": "markdown",
   "metadata": {},
   "source": [
    "### Function"
   ]
  },
  {
   "cell_type": "code",
   "execution_count": 20,
   "metadata": {
    "collapsed": true
   },
   "outputs": [],
   "source": [
    "def convert(d):\n",
    "    d_lv4_input = {}\n",
    "    d_lv4_input['Common'] = convert_common(d)\n",
    "    if ('Walls' in d) == True:\n",
    "        d_lv4_input['Walls'] = convert_wall(d)\n",
    "    if ('Windows' in d) == True:\n",
    "        d_lv4_input['Windows'] = convert_window(d)\n",
    "    if ('Doors' in d) == True:\n",
    "        d_lv4_input['Doors'] = convert_door(d)\n",
    "    if ('EarthfloorPerimeters' in d) == True:\n",
    "        d_lv4_input['EarthfloorPerimeters'] = convert_earthfloorperimeter(d)\n",
    "    if ('Earthfloors' in d) == True:\n",
    "        d_lv4_input['Earthfloors'] = convert_earthfloor(d)\n",
    "    if ('Heatbridges' in d) == True:\n",
    "        d_lv4_input['Heatbridges'] = convert_heatbridge(d)\n",
    "    d_lv4_input['InnerWalls'] = convert_innerwall(d)\n",
    "\n",
    "    return d_lv4_input"
   ]
  },
  {
   "cell_type": "markdown",
   "metadata": {},
   "source": [
    "### Example"
   ]
  },
  {
   "cell_type": "code",
   "execution_count": 21,
   "metadata": {},
   "outputs": [
    {
     "data": {
      "text/plain": [
       "{'Common': {'MainOccupantRoomFloorArea': 30.0,\n",
       "  'OtherOccupantRoomFloorArea': 60.0,\n",
       "  'Region': 6,\n",
       "  'TotalFloorArea': 120.0},\n",
       " 'Walls': [{'area': 16.95,\n",
       "   'direction': 'top',\n",
       "   'name': 'Ceiling_main',\n",
       "   'space': 'main',\n",
       "   'structure': 'wood',\n",
       "   'type': 'ceiling'},\n",
       "  {'area': 33.9,\n",
       "   'direction': 'top',\n",
       "   'name': 'Ceiling_other',\n",
       "   'space': 'other',\n",
       "   'structure': 'wood',\n",
       "   'type': 'ceiling'},\n",
       "  {'area': 16.95,\n",
       "   'direction': 'top',\n",
       "   'name': 'Ceiling_nonliving',\n",
       "   'space': 'nonliving',\n",
       "   'structure': 'wood',\n",
       "   'type': 'ceiling'},\n",
       "  {'area': 10.1575,\n",
       "   'direction': 'SW',\n",
       "   'name': 'Wall_SW_main',\n",
       "   'space': 'main',\n",
       "   'structure': 'wood',\n",
       "   'type': 'wall'},\n",
       "  {'area': 20.315,\n",
       "   'direction': 'SW',\n",
       "   'name': 'Wall_SW_other',\n",
       "   'space': 'other',\n",
       "   'structure': 'wood',\n",
       "   'type': 'wall'},\n",
       "  {'area': 10.1575,\n",
       "   'direction': 'SW',\n",
       "   'name': 'Wall_SW_nonliving',\n",
       "   'space': 'nonliving',\n",
       "   'structure': 'wood',\n",
       "   'type': 'wall'}],\n",
       " 'Windows': [{'area': 7.5625,\n",
       "   'direction': 'SW',\n",
       "   'name': 'WindowSW_main',\n",
       "   'space': 'main',\n",
       "   'type': 'single'},\n",
       "  {'area': 15.125,\n",
       "   'direction': 'SW',\n",
       "   'name': 'WindowSW_other',\n",
       "   'space': 'other',\n",
       "   'type': 'single'},\n",
       "  {'area': 7.5625,\n",
       "   'direction': 'SW',\n",
       "   'name': 'WindowSW_nonliving',\n",
       "   'space': 'nonliving',\n",
       "   'type': 'single'},\n",
       "  {'area': 0.7925,\n",
       "   'direction': 'NW',\n",
       "   'name': 'WindowNW_main',\n",
       "   'space': 'main',\n",
       "   'type': 'single'},\n",
       "  {'area': 1.585,\n",
       "   'direction': 'NW',\n",
       "   'name': 'WindowNW_other',\n",
       "   'space': 'other',\n",
       "   'type': 'single'},\n",
       "  {'area': 0.7925,\n",
       "   'direction': 'NW',\n",
       "   'name': 'WindowNW_nonliving',\n",
       "   'space': 'nonliving',\n",
       "   'type': 'single'}],\n",
       " 'Doors': [{'area': 0.63,\n",
       "   'direction': 'NW',\n",
       "   'name': 'DoorNW_main',\n",
       "   'space': 'main'},\n",
       "  {'area': 1.26, 'direction': 'NW', 'name': 'DoorNW_other', 'space': 'other'},\n",
       "  {'area': 0.63,\n",
       "   'direction': 'NW',\n",
       "   'name': 'DoorNW_nonliving',\n",
       "   'space': 'nonliving'},\n",
       "  {'area': 0.54, 'direction': 'NE', 'name': 'DoorNE_main', 'space': 'main'},\n",
       "  {'area': 1.08, 'direction': 'NE', 'name': 'DoorNE_other', 'space': 'other'},\n",
       "  {'area': 0.54,\n",
       "   'direction': 'NE',\n",
       "   'name': 'DoorNE_nonliving',\n",
       "   'space': 'nonliving'}],\n",
       " 'EarthfloorPerimeters': [{'direction': 'NW',\n",
       "   'length': 2.43,\n",
       "   'name': 'other_NW',\n",
       "   'psi': 1.8,\n",
       "   'space': 'underfloor'},\n",
       "  {'direction': 'NE',\n",
       "   'length': 2.43,\n",
       "   'name': 'other_NE',\n",
       "   'psi': 1.8,\n",
       "   'space': 'underfloor'}],\n",
       " 'Earthfloors': [{'area': 5.0, 'name': 'other', 'space': 'underfloor'},\n",
       "  {'area': 5.0, 'name': 'entrance', 'space': 'underfloor'}],\n",
       " 'InnerWalls': [{'Name': 'Innerfloor_main',\n",
       "   'Type': 'InnerFloor',\n",
       "   'Direction': 'Horizontal',\n",
       "   'Area': 2.5,\n",
       "   'Layers': [{'Name': 'PED', 'Cond': 0.16, 'Thick': 0.012, 'SpecH': 720.0}],\n",
       "   'Space': 'main',\n",
       "   'NextSpace': 'Underfloor'},\n",
       "  {'Name': 'Innerfloor_other',\n",
       "   'Type': 'InnerFloor',\n",
       "   'Direction': 'Horizontal',\n",
       "   'Area': 5.0,\n",
       "   'Layers': [{'Name': 'PED', 'Cond': 0.16, 'Thick': 0.012, 'SpecH': 720.0}],\n",
       "   'Space': 'other',\n",
       "   'NextSpace': 'Underfloor'},\n",
       "  {'Name': 'Innerfloor_nonliving',\n",
       "   'Type': 'InnerFloor',\n",
       "   'Direction': 'Horizontal',\n",
       "   'Area': 2.5,\n",
       "   'Layers': [{'Name': 'PED', 'Cond': 0.16, 'Thick': 0.012, 'SpecH': 720.0}],\n",
       "   'Space': 'nonliving',\n",
       "   'NextSpace': 'Underfloor'},\n",
       "  {'Name': 'Innerfloor_main',\n",
       "   'Type': 'InnerFloor',\n",
       "   'Direction': 'Horizontal',\n",
       "   'Area': 2.5,\n",
       "   'Layers': [{'Name': 'PED', 'Cond': 0.16, 'Thick': 0.012, 'SpecH': 720.0}],\n",
       "   'Space': 'Underfloor',\n",
       "   'NextSpace': 'main'},\n",
       "  {'Name': 'Innerfloor_other',\n",
       "   'Type': 'InnerFloor',\n",
       "   'Direction': 'Horizontal',\n",
       "   'Area': 5.0,\n",
       "   'Layers': [{'Name': 'PED', 'Cond': 0.16, 'Thick': 0.012, 'SpecH': 720.0}],\n",
       "   'Space': 'Underfloor',\n",
       "   'NextSpace': 'other'},\n",
       "  {'Name': 'Innerfloor_nonliving',\n",
       "   'Type': 'InnerFloor',\n",
       "   'Direction': 'Horizontal',\n",
       "   'Area': 2.5,\n",
       "   'Layers': [{'Name': 'PED', 'Cond': 0.16, 'Thick': 0.012, 'SpecH': 720.0}],\n",
       "   'Space': 'Underfloor',\n",
       "   'NextSpace': 'nonliving'},\n",
       "  {'Name': 'Innerwall_main to other',\n",
       "   'Type': 'InnerWall',\n",
       "   'Direction': 'Vertical',\n",
       "   'Layers': [{'Name': 'GPB', 'Cond': 0.22, 'Thick': 0.0125, 'SpecH': 830.0},\n",
       "    {'Name': 'GPB', 'Cond': 11.11111111111111, 'Thick': 1, 'SpecH': 0},\n",
       "    {'Name': 'GPB', 'Cond': 0.22, 'Thick': 0.0125, 'SpecH': 830.0}],\n",
       "   'Area': 77.96138622447441,\n",
       "   'Space': 'main',\n",
       "   'NextSpace': 'other'},\n",
       "  {'Name': 'Innerwall_main to nonliving',\n",
       "   'Type': 'InnerWall',\n",
       "   'Direction': 'Vertical',\n",
       "   'Layers': [{'Name': 'GPB', 'Cond': 0.22, 'Thick': 0.0125, 'SpecH': 830.0},\n",
       "    {'Name': 'GPB', 'Cond': 11.11111111111111, 'Thick': 1, 'SpecH': 0},\n",
       "    {'Name': 'GPB', 'Cond': 0.22, 'Thick': 0.0125, 'SpecH': 830.0}],\n",
       "   'Area': 19.020025504219902,\n",
       "   'Space': 'main',\n",
       "   'NextSpace': 'nonliving'},\n",
       "  {'Name': 'Innerwall_other to nonliving',\n",
       "   'Type': 'InnerWall',\n",
       "   'Direction': 'Vertical',\n",
       "   'Layers': [{'Name': 'GPB', 'Cond': 0.22, 'Thick': 0.0125, 'SpecH': 830.0},\n",
       "    {'Name': 'GPB', 'Cond': 11.11111111111111, 'Thick': 1, 'SpecH': 0},\n",
       "    {'Name': 'GPB', 'Cond': 0.22, 'Thick': 0.0125, 'SpecH': 830.0}],\n",
       "   'Area': 90.23037151259014,\n",
       "   'Space': 'other',\n",
       "   'NextSpace': 'nonliving'},\n",
       "  {'Name': 'Innerwall_main to other',\n",
       "   'Type': 'InnerWall',\n",
       "   'Direction': 'Vertical',\n",
       "   'Layers': [{'Name': 'GPB', 'Cond': 0.22, 'Thick': 0.0125, 'SpecH': 830.0},\n",
       "    {'Name': 'GPB', 'Cond': 11.11111111111111, 'Thick': 1, 'SpecH': 0},\n",
       "    {'Name': 'GPB', 'Cond': 0.22, 'Thick': 0.0125, 'SpecH': 830.0}],\n",
       "   'Area': 77.96138622447441,\n",
       "   'Space': 'other',\n",
       "   'NextSpace': 'main'},\n",
       "  {'Name': 'Innerwall_main to nonliving',\n",
       "   'Type': 'InnerWall',\n",
       "   'Direction': 'Vertical',\n",
       "   'Layers': [{'Name': 'GPB', 'Cond': 0.22, 'Thick': 0.0125, 'SpecH': 830.0},\n",
       "    {'Name': 'GPB', 'Cond': 11.11111111111111, 'Thick': 1, 'SpecH': 0},\n",
       "    {'Name': 'GPB', 'Cond': 0.22, 'Thick': 0.0125, 'SpecH': 830.0}],\n",
       "   'Area': 19.020025504219902,\n",
       "   'Space': 'nonliving',\n",
       "   'NextSpace': 'main'},\n",
       "  {'Name': 'Innerwall_other to nonliving',\n",
       "   'Type': 'InnerWall',\n",
       "   'Direction': 'Vertical',\n",
       "   'Layers': [{'Name': 'GPB', 'Cond': 0.22, 'Thick': 0.0125, 'SpecH': 830.0},\n",
       "    {'Name': 'GPB', 'Cond': 11.11111111111111, 'Thick': 1, 'SpecH': 0},\n",
       "    {'Name': 'GPB', 'Cond': 0.22, 'Thick': 0.0125, 'SpecH': 830.0}],\n",
       "   'Area': 90.23037151259014,\n",
       "   'Space': 'nonliving',\n",
       "   'NextSpace': 'other'}]}"
      ]
     },
     "execution_count": 21,
     "metadata": {},
     "output_type": "execute_result"
    }
   ],
   "source": [
    "d = {\n",
    "    'Common': {'MainOccupantRoomFloorArea': 30.0, 'OtherOccupantRoomFloorArea': 60.0, 'Region': 6, 'TotalFloorArea': 120.0},\n",
    "    'Doors': [\n",
    "        {'area': 0.63, 'direction': 'NW', 'name': 'DoorNW_main', 'space': 'main'},\n",
    "        {'area': 1.26, 'direction': 'NW', 'name': 'DoorNW_other', 'space': 'other'},\n",
    "        {'area': 0.63, 'direction': 'NW', 'name': 'DoorNW_nonliving', 'space': 'nonliving'},\n",
    "        {'area': 0.54, 'direction': 'NE', 'name': 'DoorNE_main', 'space': 'main'},\n",
    "        {'area': 1.08, 'direction': 'NE', 'name': 'DoorNE_other', 'space': 'other'},\n",
    "        {'area': 0.54, 'direction': 'NE', 'name': 'DoorNE_nonliving', 'space': 'nonliving'}\n",
    "     ],\n",
    "    'EarthfloorPerimeters': [\n",
    "        {'direction': 'NW', 'length': 2.43, 'name': 'other_NW', 'psi': 1.8, 'space': 'underfloor'},\n",
    "        {'direction': 'NE', 'length': 2.43, 'name': 'other_NE', 'psi': 1.8, 'space': 'underfloor'}\n",
    "    ],\n",
    "    'Earthfloors': [\n",
    "        {'area': 5.0, 'name': 'other', 'space': 'underfloor'},\n",
    "        {'area': 5.0, 'name': 'entrance', 'space': 'underfloor'}\n",
    "    ],\n",
    "    'Walls': [\n",
    "        {'area': 16.95, 'direction': 'top', 'name': 'Ceiling_main', 'space': 'main', 'structure': 'wood', 'type': 'ceiling'},\n",
    "        {'area': 33.9, 'direction': 'top', 'name': 'Ceiling_other', 'space': 'other', 'structure': 'wood', 'type': 'ceiling'},\n",
    "        {'area': 16.95, 'direction': 'top', 'name': 'Ceiling_nonliving', 'space': 'nonliving', 'structure': 'wood', 'type': 'ceiling'},\n",
    "        {'area': 10.1575, 'direction': 'SW', 'name': 'Wall_SW_main', 'space': 'main', 'structure': 'wood', 'type': 'wall'},\n",
    "        {'area': 20.315, 'direction': 'SW', 'name': 'Wall_SW_other', 'space': 'other', 'structure': 'wood', 'type': 'wall'},\n",
    "        {'area': 10.1575, 'direction': 'SW', 'name': 'Wall_SW_nonliving', 'space': 'nonliving', 'structure': 'wood', 'type': 'wall'}\n",
    "    ],\n",
    "    'Windows': [\n",
    "        {'area': 7.5625, 'direction': 'SW', 'name': 'WindowSW_main', 'space': 'main', 'type': 'single'},\n",
    "        {'area': 15.125, 'direction': 'SW', 'name': 'WindowSW_other', 'space': 'other', 'type': 'single'},\n",
    "        {'area': 7.5625, 'direction': 'SW', 'name': 'WindowSW_nonliving',  'space': 'nonliving', 'type': 'single'},\n",
    "         {'area': 0.7925, 'direction': 'NW', 'name': 'WindowNW_main', 'space': 'main', 'type': 'single'},\n",
    "        {'area': 1.585, 'direction': 'NW', 'name': 'WindowNW_other', 'space': 'other', 'type': 'single'},\n",
    "        {'area': 0.7925, 'direction': 'NW', 'name': 'WindowNW_nonliving', 'space': 'nonliving', 'type': 'single'}\n",
    "        ]\n",
    "}\n",
    "\n",
    "convert(d)"
   ]
  },
  {
   "cell_type": "code",
   "execution_count": null,
   "metadata": {
    "collapsed": true
   },
   "outputs": [],
   "source": []
  }
 ],
 "metadata": {
  "kernelspec": {
   "display_name": "Python 3",
   "language": "python",
   "name": "python3"
  },
  "language_info": {
   "codemirror_mode": {
    "name": "ipython",
    "version": 3
   },
   "file_extension": ".py",
   "mimetype": "text/x-python",
   "name": "python",
   "nbconvert_exporter": "python",
   "pygments_lexer": "ipython3",
   "version": "3.6.5"
  }
 },
 "nbformat": 4,
 "nbformat_minor": 2
}
