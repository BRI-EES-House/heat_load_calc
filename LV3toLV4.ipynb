{
 "cells": [
  {
   "cell_type": "markdown",
   "metadata": {},
   "source": [
    "# 外皮情報LV3からLV4へのコンバート"
   ]
  },
  {
   "cell_type": "markdown",
   "metadata": {},
   "source": [
    "## 入力情報"
   ]
  },
  {
   "cell_type": "markdown",
   "metadata": {},
   "source": [
    "### 共通"
   ]
  },
  {
   "cell_type": "markdown",
   "metadata": {},
   "source": [
    "- 地域の区分 (1~8)\n",
    "- その他の居室の有無 (yes/no)\n",
    "- 非居室の有無 (yes/no)\n",
    "- 床面積の合計 (m<sup>2</sup>)\n",
    "- 主たる居室の床面積 (m<sup>2</sup>)\n",
    "- その他の居室の床面積 (m<sup>2</sup>)"
   ]
  },
  {
   "cell_type": "markdown",
   "metadata": {},
   "source": [
    "### 外皮の部位 (一般部位) (開口部) (複数可)"
   ]
  },
  {
   "cell_type": "markdown",
   "metadata": {},
   "source": [
    "- 名前\n",
    "- 面積 (m<sup>2</sup>)\n",
    "- 日射の有無と方位 (上面/北/北東/東/南東/南/南西/西/北西/下面/日射はあたらない)\n",
    "- 隣接空間の種類 (外気・外気に通じる空間/外気に通じていない空間・外気に通じる床裏/住戸及び住戸と同様の熱的環境の空間・外気に通じていない床裏)\n",
    "- 部位の種類 (一般部位(木造)/一般部位(鉄骨造)/一般部位(鉄筋コンクリート造)/窓等の大部分がガラスで構成されている開口部/ドア等の大部分がガラスで構成されていない開口部)\n",
    "- 部位の位置(屋根/天井/外壁/床/界壁/界床/天井(界床))\n",
    "- (断熱性能を表す指標) (単位面積あたり)\n",
    "- (暖房期の日射熱取得を表す指標) (単位面積あたり)\n",
    "- (冷房期の日射熱取得を表す指標) (単位面積あたり)"
   ]
  },
  {
   "cell_type": "markdown",
   "metadata": {},
   "source": [
    "### 外皮の部位 (熱橋等) (複数可)"
   ]
  },
  {
   "cell_type": "markdown",
   "metadata": {},
   "source": [
    "- 名前\n",
    "- 面積 (m<sup>2</sup>)\n",
    "- 日射の有無と方位1 (上面/北/北東/東/南東/南/南西/西/北西/下面/日射はあたらない)\n",
    "- 日射の有無と方位2 (上面/北/北東/東/南東/南/南西/西/北西/下面/日射はあたらない)\n",
    "- 隣接空間の種類 (外気・外気に通じる空間/外気に通じていない空間・外気に通じる床裏/住戸及び住戸と同様の熱的環境の空間・外気に通じていない床裏)\n",
    "- 部位の種類 (熱橋/土間床等の外周部)\n",
    "- (断熱性能を表す指標) (単位長さあたり)\n",
    "- (暖房期の日射熱取得を表す指標) (単位長さあたり)\n",
    "- (冷房期の日射熱取得を表す指標) (単位長さあたり)"
   ]
  },
  {
   "cell_type": "markdown",
   "metadata": {},
   "source": [
    "### 外皮の部位 (土間床等の中央部) (複数可)"
   ]
  },
  {
   "cell_type": "markdown",
   "metadata": {},
   "source": [
    "- 名前\n",
    "- 面積\n",
    "- (断熱性能を表す指標)"
   ]
  },
  {
   "cell_type": "markdown",
   "metadata": {},
   "source": [
    "## 出力情報"
   ]
  },
  {
   "cell_type": "markdown",
   "metadata": {},
   "source": [
    "### 共通"
   ]
  },
  {
   "cell_type": "markdown",
   "metadata": {},
   "source": [
    "- 地域の区分 (1~8)\n",
    "- その他の居室の有無 (yes/no)\n",
    "- 非居室の有無 (yes/no)\n",
    "- 床面積の合計 (m<sup>2</sup>)\n",
    "- 主たる居室の床面積 (m<sup>2</sup>)\n",
    "- その他の居室の床面積 (m<sup>2</sup>)"
   ]
  },
  {
   "cell_type": "markdown",
   "metadata": {},
   "source": [
    "### 外皮の部位 (一般部位) (開口部) (複数可)"
   ]
  },
  {
   "cell_type": "markdown",
   "metadata": {},
   "source": [
    "- 名前\n",
    "- 面積 (m<sup>2</sup>)\n",
    "- 室内側の空間の用途\n",
    "- 日射の有無と方位 (上面/北/北東/東/南東/南/南西/西/北西/下面/日射はあたらない)\n",
    "- 隣接空間の種類 (外気・外気に通じる空間/外気に通じていない空間・外気に通じる床裏/住戸及び住戸と同様の熱的環境の空間・外気に通じていない床裏)\n",
    "- 部位の種類 (一般部位(木造)/一般部位(鉄骨造)/一般部位(鉄筋コンクリート造)/窓等の大部分がガラスで構成されている開口部/ドア等の大部分がガラスで構成されていない開口部)\n",
    "- 部位の位置(屋根/天井/外壁/床/界壁/界床/天井(界床))\n",
    "- (断熱性能を表す指標) (単位面積あたり)\n",
    "- (暖房期の日射熱取得を表す指標) (単位面積あたり)\n",
    "- (冷房期の日射熱取得を表す指標) (単位面積あたり)"
   ]
  },
  {
   "cell_type": "markdown",
   "metadata": {},
   "source": [
    "### 外皮の部位 (熱橋等) (複数可)"
   ]
  },
  {
   "cell_type": "markdown",
   "metadata": {},
   "source": [
    "- 名前\n",
    "- 面積 (m<sup>2</sup>)\n",
    "- 室内側の空間の用途\n",
    "- 日射の有無と方位1 (上面/北/北東/東/南東/南/南西/西/北西/下面/日射はあたらない)\n",
    "- 日射の有無と方位2 (上面/北/北東/東/南東/南/南西/西/北西/下面/日射はあたらない)\n",
    "- 隣接空間の種類 (外気・外気に通じる空間/外気に通じていない空間・外気に通じる床裏/住戸及び住戸と同様の熱的環境の空間・外気に通じていない床裏)\n",
    "- 部位の種類 (熱橋/土間床等の外周部)\n",
    "- (断熱性能を表す指標) (単位長さあたり)\n",
    "- (暖房期の日射熱取得を表す指標) (単位長さあたり)\n",
    "- (冷房期の日射熱取得を表す指標) (単位長さあたり)"
   ]
  },
  {
   "cell_type": "markdown",
   "metadata": {},
   "source": [
    "### 外皮の部位 (土間床等の中央部) (複数可)"
   ]
  },
  {
   "cell_type": "markdown",
   "metadata": {},
   "source": [
    "- 名前\n",
    "- 面積\n",
    "- 室内側の空間の用途\n",
    "- (断熱性能を表す指標)"
   ]
  },
  {
   "cell_type": "markdown",
   "metadata": {},
   "source": [
    "## 3. 外皮性能計算プログラム＋外皮用途別情報\n",
    "\n",
    "- 外皮性能計算プログラムに、外皮の用途別情報を追加したものより、内壁等（建物内部の壁、天井、床）の面積の推定および熱貫流率の決定を行う。\n",
    "- 外皮の用途別情報が入力された場合において床下空間に属する土間床等面積が0㎡より大きい場合、室と床下空間の間の床の面積の合計は、床下空間に属する土間床等面積の合計（ただし延床面積を上限とする）に等しいとみなす。室と床下空間の間の床は、室用途別の床面積に応じて各用途に割り当てる。\n",
    "- 室と床下空間の間の床は、仕様を想定して与える（合板12mm、参考：SimHeatでの熱負荷計算用の無断熱の層構成）。\n",
    "- 内壁等の面積は、外皮の用途別情報および用途別床面積より、以下のとおり推定する。主たる居室―非居室間、その他居室―非居室間は、それぞれ、各用途の床面積が0㎡より大きい場合は、居室と非居室は幅1m、高さ2m以上の通路等で繋がっていると想定した。\n",
    "- 面積が0㎡より大きい場合は、居室と非居室は幅1m、高さ2m以上の通路等で繋がっていると想定した。\n",
    "- 内壁等の熱貫流率は一般的な仕様を想定して与える（石膏ボード12.5mm－非密閉空気層－石膏ボード12.5mm）。室内戸は考慮しない。\n",
    "- その他は4.と同様に求める。\n",
    "\n",
    "\n",
    "\n",
    "#### 《床下空間に属する土間床等面積が0㎡より大きい場合》\n",
    "$$ \\qquad\n",
    "A_{b}= min(A_主 + A_他 + A_非, \\sum_{i}^{}S_{df,b,i})\n",
    "\\qquad (1)\n",
    "\\\\\n",
    "$$\n",
    "$$ \\qquad\n",
    "A_{b,主}= \\frac{A_{b}・A_主}{A_主 + A_他 + A_非}, \\quad\n",
    "A_{b,他}= \\frac{A_{b}・A_他}{A_主 + A_他 + A_非}\\quad, \\quad\n",
    "A_{b,非}= \\frac{A_{b}・A_主}{A_非 + A_他 + A_非}\\quad\n",
    "\\qquad (**),\\;(**),\\;(**)\n",
    "\\\\\n",
    "$$\n",
    "\n",
    "- 入力値：\n",
    "  - 主居室、その他の居室、非居室の床面積$[m ^ 2]$：$A_{主}$、$A_{他}$、$A_{非}$\n",
    "  - 床下空間に属する土間床等の部位iの面積$[m ^ 2]$：$S_{df,b,i}$\n",
    "\n",
    "- 出力値：\n",
    "  - 室と床下空間の間の床面積の合計$[m ^ 2]$：$A_{b}$\n",
    "  - 主居室、その他の居室、非居室と床下空間の間の床面積の合計$[m ^ 2]$：$A_{b,主}$、$A_{b,他}$、$A_{b,非}$\n",
    " \n",
    "\n",
    "#### 《内壁等の面積の推定》\n",
    " \n",
    "$$ \\qquad\n",
    "A_{主,内}=A_{主,内+外}-A_{主,外}=max(0,(2A_主+4ah\\sqrt {A_主})-A_{主,外})\n",
    "\\qquad (9)\n",
    "\\\\\n",
    "$$\n",
    "$$ \\qquad\n",
    "A_{他,内}=A_{他,内+外}-A_{他,外}=max(0,(2A_他+4ah\\sqrt {A_他})-A_{他,外})\n",
    "\\qquad (10)\n",
    "\\\\\n",
    "$$$$ \\qquad\n",
    "A_{非,内}=A_{非,内+外}-A_{非,外}=max(0,(2A_非+4ah\\sqrt {A_非})-A_{他,非})\n",
    "\\qquad (11)\n",
    "\\\\\n",
    "$$\n",
    "\n",
    "$$ \\qquad\n",
    "A_{主,内} =A_{主-他,内}+A_{主-非,内} , \\quad\n",
    "A_{他,内} =A_{主-他,内}+A_{他-非,内}\\quad, \\quad\n",
    "A_{非,内} =A_{主-非,内}+A_{他-非,内}\\quad\n",
    "\\qquad　より\n",
    "\\\\\n",
    "$$\n",
    "\n",
    "$$ \\qquad\n",
    "A_{主-他,内}=max(0,\\frac{A_{主,内}+A_{他,内}-A_{非,内}}{2})\n",
    "\\qquad (12)\n",
    "\\\\\n",
    "$$\n",
    "$$ \\qquad \n",
    "A_{主-非,内}=max(0,\\frac{A_{主,内}-A_{他,内}+A_{非,内}}{2}) \\quad\n",
    "( A_主=0 または A_非=0)\n",
    "\\qquad (13-1)\n",
    "\\\\\n",
    "$$\n",
    "$$ \\qquad \n",
    "A_{主-非,内}=max(2,\\frac{A_{主,内}-A_{他,内}+A_{非,内}}{2}) \\quad\n",
    "( A_主>0 かつ A_非>0)\n",
    "\\qquad (13-2)\n",
    "\\\\\n",
    "$$\n",
    "$$ \\qquad \n",
    "A_{他-非,内}=max(0,\\frac{-A_{主,内}+A_{他,内}+A_{非,内}}{2}) \\quad\n",
    "( A_他=0 または A_非=0)\n",
    "\\qquad (14-1)\n",
    "\\\\\n",
    "$$\n",
    "$$ \\qquad \n",
    "A_{他-非,内}=max(2,\\frac{-A_{主,内}+A_{他,内}+A_{非,内}}{2}) \\quad\n",
    "( A_他>0 かつ A_非>0)\n",
    "\\qquad (14-2)\n",
    "\\\\\n",
    "$$\n",
    "\n",
    "- 入力値：\n",
    "\n",
    "  - 主居室、その他の居室、非居室の床面積$[m ^ 2]$：$A_主$、$A_他$、$A_非$\n",
    "  - 主居室、その他の居室、非居室の外皮（ここでは室と床下空間の間の床を含める）の面積の合計$[m ^ 2]$：$A_{主,外}$、$A_{他,外}$、$A_{非,外}$\n",
    "  - 周長を求める際の係数$[-]$：$a$\n",
    "  - 階高$[m]$：$h$\n",
    "  \n",
    "\n",
    "- 出力値：\n",
    "\n",
    "  - 主居室、その他の居室、非居室の外皮（ここでは室と床下空間の間の床を含める）と内壁等の面積の合計$[m ^2]$：$A_{主,外+内}$、$A_{他,外+内}$、$A_{非,外+内}$\n",
    "  - 主居室、その他の居室、非居室の内壁等の面積の合計$[m ^2]$：$A_{主,内}$、$A_{他,内}$、$A_{非,内}$\n",
    "  - 主居室－その他の居室、主居室－非居室間、その他の居室－非居室間の内壁等の面積の合計$[m ^2]$：$A_{主-他,内}$、$A_{主-非,内}$、$A_{他-非,内}$"
   ]
  },
  {
   "cell_type": "code",
   "execution_count": 3,
   "metadata": {},
   "outputs": [
    {
     "name": "stdout",
     "output_type": "stream",
     "text": [
      "Rg4=6\n"
     ]
    }
   ],
   "source": [
    "#地域の区分 (1~8)\n",
    "def Calc_Rg4(Rg3):\n",
    "    Rg4 =  Rg3\n",
    "    return Rg4\n",
    "\n",
    "Rg3=6\n",
    "print (\"Rg4={0}\".format(Calc_Rg4(Rg3)))"
   ]
  },
  {
   "cell_type": "code",
   "execution_count": 2,
   "metadata": {},
   "outputs": [
    {
     "name": "stdout",
     "output_type": "stream",
     "text": [
      "Flag24=1\n",
      "Flag34=1\n"
     ]
    }
   ],
   "source": [
    "#その他の居室の有無 (yes/no)\n",
    "#非居室の有無 (yes/no)\n",
    "def Calc_Flag4(Flag3):\n",
    "    Flag4 =  Flag3\n",
    "    return Flag4\n",
    "\n",
    "Flag23=1\n",
    "print (\"Flag24={0}\".format(Calc_Flag4(Flag23)))\n",
    "\n",
    "Flag33=1\n",
    "print (\"Flag34={0}\".format(Calc_Flag4(Flag33)))"
   ]
  },
  {
   "cell_type": "code",
   "execution_count": 1,
   "metadata": {},
   "outputs": [
    {
     "name": "stdout",
     "output_type": "stream",
     "text": [
      "Aa4=120\n",
      "A14=30\n",
      "A24=50\n"
     ]
    }
   ],
   "source": [
    "#床面積の合計 (m2)\n",
    "#主たる居室の床面積 (m2)\n",
    "#その他の居室の床面積 (m2)\n",
    "def Calc_A4(A3):\n",
    "    A4 =  A3\n",
    "    return A4\n",
    "\n",
    "Aa3=120\n",
    "print (\"Aa4={0}\".format(Calc_A4(Aa3)))\n",
    "\n",
    "A13=30\n",
    "print (\"A14={0}\".format(Calc_A4(A13)))\n",
    "\n",
    "A23=50\n",
    "print (\"A24={0}\".format(Calc_A4(A23)))"
   ]
  },
  {
   "cell_type": "code",
   "execution_count": 6,
   "metadata": {},
   "outputs": [
    {
     "name": "stdout",
     "output_type": "stream",
     "text": [
      "Apu4=1\n"
     ]
    }
   ],
   "source": [
    "\"\"\" 室用途別の面積の算出 \"\"\"\n",
    "def Calc_Apu4(Apu3):\n",
    "    Apu4 =  Apu3\n",
    "    return Apu4\n",
    "\n",
    "Apu3=1\n",
    "print (\"Apu4={0}\".format(Calc_Apu4(Apu3)))"
   ]
  },
  {
   "cell_type": "code",
   "execution_count": 8,
   "metadata": {},
   "outputs": [
    {
     "name": "stdout",
     "output_type": "stream",
     "text": [
      "Lpu4=1\n"
     ]
    }
   ],
   "source": [
    "\"\"\" 室用途別の長さの算出 \"\"\"\n",
    "def Calc_Lpu4(Lpu3):\n",
    "    Lpu4 =  Lpu3\n",
    "    return Lpu4\n",
    "\n",
    "Lpu3=1\n",
    "print (\"Lpu4={0}\".format(Calc_Lpu4(Lpu3)))"
   ]
  },
  {
   "cell_type": "code",
   "execution_count": 9,
   "metadata": {},
   "outputs": [
    {
     "name": "stdout",
     "output_type": "stream",
     "text": [
      "Upu4=1\n"
     ]
    }
   ],
   "source": [
    "\"\"\" 室用途別の熱貫流率の算出 \"\"\"\n",
    "def Calc_Upu4(Upu3):\n",
    "    Upu4 =  Upu3\n",
    "    return Upu4\n",
    "\n",
    "Upu3=1\n",
    "print (\"Upu4={0}\".format(Calc_Upu4(Upu3)))"
   ]
  },
  {
   "cell_type": "code",
   "execution_count": 11,
   "metadata": {},
   "outputs": [
    {
     "name": "stdout",
     "output_type": "stream",
     "text": [
      "Ψpu4=1\n"
     ]
    }
   ],
   "source": [
    "\"\"\" 室用途別の線熱貫流率の算出 \"\"\"\n",
    "def Calc_Ψpu4(Ψpu3):\n",
    "    Ψpu4 =  Ψpu3\n",
    "    return Ψpu4\n",
    "\n",
    "Ψpu3=1\n",
    "print (\"Ψpu4={0}\".format(Calc_Ψpu4(Ψpu3)))"
   ]
  },
  {
   "cell_type": "code",
   "execution_count": 10,
   "metadata": {},
   "outputs": [
    {
     "name": "stdout",
     "output_type": "stream",
     "text": [
      "ηpu4=0.8\n"
     ]
    }
   ],
   "source": [
    "\"\"\" 室用途別の日射熱取得率の算出 \"\"\"\n",
    "def Calc_ηpu4(ηpu3):\n",
    "    ηpu4 =  ηpu3\n",
    "    return ηpu4\n",
    "\n",
    "ηpu3=0.8\n",
    "print (\"ηpu4={0}\".format(Calc_ηpu4(ηpu3)))"
   ]
  },
  {
   "cell_type": "code",
   "execution_count": 12,
   "metadata": {},
   "outputs": [
    {
     "name": "stdout",
     "output_type": "stream",
     "text": [
      "[2, 2, 0]\n",
      "[41.139317422980355, 13.828804264848088, 47.26714329945537]\n"
     ]
    }
   ],
   "source": [
    "\"\"\" 室用途別の内壁面積の算出 \"\"\"\n",
    "h=2.8                  #階高[m]\n",
    "a=[1.2,1.4,1.4]        #周長を求める際の係数[-]\n",
    "Au=[29.8,51.3,38.9]    #主居室、その他の居室、非居室の床面積[㎡]\n",
    "Aou=[78,126.50,114.50] #主居室、その他の居室、非居室の外皮の面積の合計[㎡]\n",
    "Aiuumin=[0,0,0]        #室間の内壁等の面積の合計の最小値[㎡]\n",
    "\n",
    "def Calc_Aiuu(Au,Aou):\n",
    "    for i in range(0,2):\n",
    "        if Au[i]>0 and Au[2]>0:\n",
    "            Aiuumin[i]=2    \n",
    "    print(Aiuumin) \n",
    "    \n",
    "    Aiu =  [max(0,2*Au[i]+4*h*a[i]*Au[i]**0.5-Aou[i]) for i in range(0,3)]\n",
    "    Aiuu =  [max(Aiuumin[i],(Aiu[0]+Aiu[1]+Aiu[2]-2*Aiu[-i-1])/2) for i in range(0,3)]\n",
    "    return Aiuu\n",
    "\n",
    "print(Calc_Aiuu(Au,Aou))"
   ]
  },
  {
   "cell_type": "code",
   "execution_count": null,
   "metadata": {
    "collapsed": true
   },
   "outputs": [],
   "source": []
  }
 ],
 "metadata": {
  "kernelspec": {
   "display_name": "Python 3",
   "language": "python",
   "name": "python3"
  },
  "language_info": {
   "codemirror_mode": {
    "name": "ipython",
    "version": 3
   },
   "file_extension": ".py",
   "mimetype": "text/x-python",
   "name": "python",
   "nbconvert_exporter": "python",
   "pygments_lexer": "ipython3",
   "version": "3.6.3"
  }
 },
 "nbformat": 4,
 "nbformat_minor": 2
}
