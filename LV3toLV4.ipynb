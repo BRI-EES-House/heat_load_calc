{
 "cells": [
  {
   "cell_type": "code",
   "execution_count": 1,
   "metadata": {
    "collapsed": true
   },
   "outputs": [],
   "source": [
    "import copy\n",
    "import math"
   ]
  },
  {
   "cell_type": "markdown",
   "metadata": {},
   "source": [
    "# 外皮情報LV3からLV4へのコンバート"
   ]
  },
  {
   "cell_type": "markdown",
   "metadata": {},
   "source": [
    "## Outline\n",
    "\n",
    "- 外皮性能計算プログラムに、外皮の用途別情報を追加したものより、内壁等（建物内部の壁、天井、床）の面積の推定および熱貫流率の決定を行う。\n",
    "- 外皮の用途別情報が入力された場合において床下空間に属する土間床等面積が0㎡より大きい場合、室と床下空間の間の床の面積の合計は、床下空間に属する土間床等面積の合計（ただし、室用途別の床面積と方位が「下面」の部位面積の差分の合計を上限とする）に等しいとみなす。室と床下空間の間の床は、室用途別の床面積と方位が「下面」の部位面積の差分に応じて、各用途に割り当てる。\n",
    "- 室と床下空間の間の床は、仕様を想定して与える（合板12mm、参考：SimHeatでの熱負荷計算用の無断熱の層構成）。\n",
    "- 内壁等の面積は、室の周長を求める際の係数（アスペクト比）と階高を仮定して、外皮の用途別情報および用途別床面積より推定する。\n",
    "- 内壁等の熱貫流率は一般的な仕様を想定して与える（石膏ボード12.5mm－空気層－石膏ボード12.5mm、参考：SimHeatでの熱負荷計算用の無断熱の層構成）。室内戸は考慮しない。\n",
    "- その他は、内壁の用途別情報が得られている場合と同様に求める。"
   ]
  },
  {
   "cell_type": "markdown",
   "metadata": {},
   "source": [
    "## 1. Common Element"
   ]
  },
  {
   "cell_type": "markdown",
   "metadata": {},
   "source": [
    "#### Outline"
   ]
  },
  {
   "cell_type": "markdown",
   "metadata": {},
   "source": [
    "'Common'要素はそのまま維持する。"
   ]
  },
  {
   "cell_type": "markdown",
   "metadata": {},
   "source": [
    "参照：InputDataDefinition.ipynb"
   ]
  },
  {
   "cell_type": "markdown",
   "metadata": {},
   "source": [
    "#### Function"
   ]
  },
  {
   "cell_type": "code",
   "execution_count": 2,
   "metadata": {
    "collapsed": true
   },
   "outputs": [],
   "source": [
    "def convert_common(d):\n",
    "    return {\n",
    "            'Region'                     : d['Common']['Region'],\n",
    "            'IsSimplifiedInput'          : d['Common']['IsSimplifiedInput'],\n",
    "            'MainOccupantRoomFloorArea'  : d['Common']['MainOccupantRoomFloorArea'],\n",
    "            'OtherOccupantRoomFloorArea' : d['Common']['OtherOccupantRoomFloorArea'],\n",
    "            'TotalFloorArea'             : d['Common']['TotalFloorArea']\n",
    "    }"
   ]
  },
  {
   "cell_type": "markdown",
   "metadata": {},
   "source": [
    "## 2. Walls Element"
   ]
  },
  {
   "cell_type": "markdown",
   "metadata": {},
   "source": [
    "#### Outline"
   ]
  },
  {
   "cell_type": "markdown",
   "metadata": {},
   "source": [
    "'Walls'要素はそのまま維持する。"
   ]
  },
  {
   "cell_type": "markdown",
   "metadata": {},
   "source": [
    "#### Function"
   ]
  },
  {
   "cell_type": "code",
   "execution_count": 3,
   "metadata": {
    "collapsed": true
   },
   "outputs": [],
   "source": [
    "def make_layer(name, thick, cond, specH, **kwargs) :\n",
    "    \n",
    "    return {\n",
    "            'name'  : name,\n",
    "            'thick' : thick,\n",
    "            'cond'  : cond,\n",
    "            'specH' : specH\n",
    "    }"
   ]
  },
  {
   "cell_type": "code",
   "execution_count": 4,
   "metadata": {
    "collapsed": true
   },
   "outputs": [],
   "source": [
    "def make_parts(InputMethod, Parts, type = None, **kwargs) :\n",
    "    \n",
    "    parts_copy = []\n",
    "    \n",
    "    for x in Parts :\n",
    "        part = {}\n",
    "        if InputMethod == 'InputAllDetails' :\n",
    "            part['AreaRatio'] = x['AreaRatio']\n",
    "        elif InputMethod == 'InputAllLayers' :\n",
    "            if type == 'Ceiling' :\n",
    "                part['TypeRoof'] = x['TypeRoof']\n",
    "            elif type == 'Wall' or type == 'BoundaryWall' :\n",
    "                part['TypeWall'] = x['TypeWall']\n",
    "            elif type == 'Floor' or type == 'BoundaryFloor' :\n",
    "                part['TypeFloor'] = x['TypeFloor']\n",
    "            elif type == 'BoundaryCeiling' :\n",
    "                part['TypeCeiling'] = x['TypeCeiling']\n",
    "            else :\n",
    "                raise ValueError       \n",
    "            \n",
    "        part['Layers'] = [make_layer(**layer) for layer in x['Layers']]\n",
    "        parts_copy.append(part)\n",
    "        \n",
    "    return parts_copy"
   ]
  },
  {
   "cell_type": "code",
   "execution_count": 62,
   "metadata": {
    "collapsed": true
   },
   "outputs": [],
   "source": [
    "def make_wall(IsSimplifiedInput, name, direction, area, space, type, structure, IsSunshadeInput, \n",
    "              UA = None, IsInContactWithOutsideAir = None, InputMethod = None,\n",
    "              RoofConstructionMethod = None, WallConstructionMethod = None, FloorConstructionMethod = None, CeilingConstructionMethod = None, \n",
    "              TypeFloor = None, TypeWall = None, TypeCeiling = None,TypeRoof = None, ConstructionMethod = None, \n",
    "              RoofInsulationMethod = None, WallInsulationMethod = None, Radding = None, Parts = None,\n",
    "              Y1 = None, Y2 = None, Z = None, **kwargs ):\n",
    "    \n",
    "    wall = {\n",
    "        'name':      name,\n",
    "        'direction': direction,\n",
    "        'area':      area,\n",
    "        'space':     space,\n",
    "        'type':      type,\n",
    "        'structure':     structure,        \n",
    "        'IsSunshadeInput': IsSunshadeInput        \n",
    "    }\n",
    "    \n",
    "    # 簡易外皮入力の場合\n",
    "    if IsSimplifiedInput == True :\n",
    "            wall['UA'] = UA \n",
    "            \n",
    "    # 簡易外皮入力でない場合\n",
    "    else :\n",
    "        wall['InputMethod'] = InputMethod\n",
    "        if structure == 'wood' :\n",
    "            if InputMethod == 'InputUA' :\n",
    "                wall['UA'] = UA \n",
    "            elif InputMethod == 'InputAllDetails' :\n",
    "                wall['IsInContactWithOutsideAir'] = IsInContactWithOutsideAir\n",
    "                wall['Parts'] = make_parts(InputMethod = InputMethod, Parts = Parts)\n",
    "            elif InputMethod == 'InputAllLayers' :\n",
    "                wall['IsInContactWithOutsideAir'] = IsInContactWithOutsideAir\n",
    "                wall['Parts'] = make_parts(InputMethod = InputMethod, Parts = Parts, type = type)\n",
    "                if type == 'Ceiling' :\n",
    "                    wall['RoofConstructionMethod'] = RoofConstructionMethod\n",
    "                elif type == 'Wall' or type == 'BoundaryWall' :\n",
    "                    wall['WallConstructionMethod'] = WallConstructionMethod\n",
    "                elif type == 'Floor' or type == 'BoundaryFloor' :\n",
    "                    wall['FloorConstructionMethod'] = FloorConstructionMethod\n",
    "                elif type == 'BoundaryCeiling' :\n",
    "                    wall['CeilingConstructionMethod'] = CeilingConstructionMethod\n",
    "                else :\n",
    "                    raise ValueError               \n",
    "            elif InputMethod == 'InputUR' :\n",
    "                wall['IsInContactWithOutsideAir'] = IsInContactWithOutsideAir\n",
    "                if type == 'Floor' or type == 'BoundaryCeiling' or type == 'BoundaryFloor' :\n",
    "                    wall['ConstructionMethod'] = ConstructionMethod\n",
    "                elif type == 'Wall' or type == 'BoundaryWall' :\n",
    "                    wall['WallInsulationMethod'] = WallInsulationMethod\n",
    "                    if WallInsulationMethod == 'InsulColumn' or WallInsulationMethod == 'InsulColumnandadd' :\n",
    "                        wall['ConstructionMethod'] = ConstructionMethod       \n",
    "                elif type == 'Ceiling' :\n",
    "                    pass\n",
    "                elif type == 'Roof' :    \n",
    "                    wall['RoofInsulationMethod'] = RoofInsulationMethod                    \n",
    "                else :\n",
    "                    raise ValueError \n",
    "                wall['Parts'] = make_parts(InputMethod = InputMethod, Parts = Parts)\n",
    "            else :\n",
    "                raise ValueError                    \n",
    "        elif structure == 'RC' :\n",
    "            if InputMethod == 'InputUA' :\n",
    "                wall['UA'] = UA \n",
    "            elif InputMethod == 'InputLayers' :\n",
    "                wall['IsInContactWithOutsideAir'] = IsInContactWithOutsideAir\n",
    "                wall['Parts'] = make_parts(InputMethod = InputMethod, Parts = Parts)\n",
    "            else :\n",
    "                raise ValueError            \n",
    "        elif structure == 'steel' :\n",
    "            if InputMethod == 'InputUA' :\n",
    "                wall['UA'] = UA \n",
    "            elif InputMethod == 'InputUR' :\n",
    "                wall['Radding'] = Radding\n",
    "                wall['IsInContactWithOutsideAir'] = IsInContactWithOutsideAir\n",
    "                wall['Parts'] = make_parts(InputMethod = InputMethod, Parts = Parts)\n",
    "            else :\n",
    "                raise ValueError        \n",
    "        elif structure == 'other' :\n",
    "            pass\n",
    "        else :\n",
    "            raise ValueError        \n",
    "\n",
    "    # 日除けの設定\n",
    "    if IsSunshadeInput == True :\n",
    "        wall['Y1'] = Y1\n",
    "        wall['Y2'] = Y2\n",
    "        wall['Z'] = Z\n",
    " \n",
    "    return wall"
   ]
  },
  {
   "cell_type": "code",
   "execution_count": 6,
   "metadata": {
    "collapsed": true
   },
   "outputs": [],
   "source": [
    "def convert_wall( d ):    \n",
    "    return [ make_wall(IsSimplifiedInput = d['Common']['IsSimplifiedInput'], **f) for f in d['Walls'] ]"
   ]
  },
  {
   "cell_type": "markdown",
   "metadata": {},
   "source": [
    "## 3. Windows Element"
   ]
  },
  {
   "cell_type": "markdown",
   "metadata": {},
   "source": [
    "#### Outline"
   ]
  },
  {
   "cell_type": "markdown",
   "metadata": {},
   "source": [
    "'Windows'要素はそのまま維持する。"
   ]
  },
  {
   "cell_type": "markdown",
   "metadata": {},
   "source": [
    "#### Function"
   ]
  },
  {
   "cell_type": "code",
   "execution_count": 7,
   "metadata": {
    "collapsed": true
   },
   "outputs": [],
   "source": [
    "def make_window(IsSimplifiedInput, name, direction, area, space, IsSunshadeInput, UW, TypeWindow = None, IsEtaValueInput = None,\n",
    "                EtaCooling = None, EtaHeating = None, Eta = None,TypeFrame = None, TypeGlass = None, TypeShade = None, \n",
    "                EtaInside = None,TypeFrameInside = None, TypeGlassInside = None, TypeShadeInside = None, \n",
    "                EtaOutside = None,TypeFrameOutside = None, TypeGlassOutside = None, TypeShadeOutside = None, \n",
    "                Y1 = None, Y2 = None, Z = None, **kwargs ):\n",
    "    \n",
    "    window = {\n",
    "        'name':      name,\n",
    "        'direction': direction,\n",
    "        'area':      area,\n",
    "        'space':     space,\n",
    "        'UW':         UW,\n",
    "        'IsSunshadeInput': IsSunshadeInput        \n",
    "    } \n",
    "    \n",
    "    # 簡易外皮入力の場合\n",
    "    if IsSimplifiedInput == True :\n",
    "            window['EtaCooling'] = EtaCooling \n",
    "            window['EtaHeating'] = EtaHeating    \n",
    "            \n",
    "    # 簡易外皮入力でない場合\n",
    "    else :\n",
    "        window['TypeWindow'] = TypeWindow\n",
    "        window['IsEtaValueInput'] = IsEtaValueInput\n",
    "        # 一重窓\n",
    "        if TypeWindow == 'Single' :\n",
    "            if IsEtaValueInput == True :\n",
    "                window['Eta'] = Eta\n",
    "            else :\n",
    "                window['TypeFrame'] = TypeFrame\n",
    "                window['TypeGlass'] = TypeGlass\n",
    "                window['TypeShade'] = TypeShade\n",
    "        # 二重窓\n",
    "        elif TypeWindow == 'Double' :\n",
    "            if IsEtaValueInput == True :\n",
    "                window['EtaInside'] = EtaInside\n",
    "                window['EtaOutside'] = EtaOutside\n",
    "            else :\n",
    "                window['TypeFrameInside'] = TypeFrameInside\n",
    "                window['TypeGlassInside'] = TypeGlassInside\n",
    "                window['TypeShadeInside'] = TypeShadeInside\n",
    "                window['TypeFrameOutside'] = TypeFrameOutside\n",
    "                window['TypeGlassOutside'] = TypeGlassOutside\n",
    "                window['TypeShadeOutside'] = TypeShadeOutside\n",
    "        else :\n",
    "            raise ValueError        \n",
    "    \n",
    "    # 日除けの設定\n",
    "    if IsSunshadeInput == True :\n",
    "        # 一重窓\n",
    "        if TypeWindow == 'Single' :\n",
    "                window['TypeGlass'] = TypeGlass\n",
    "        # 二重窓\n",
    "        elif TypeWindow == 'Double' :\n",
    "                window['TypeGlassInside'] = TypeGlassInside\n",
    "                window['TypeGlassOutside'] = TypeGlassOutside\n",
    "        else :\n",
    "            raise ValueError        \n",
    "                \n",
    "        window['Y1'] = Y1\n",
    "        window['Y2'] = Y2\n",
    "        window['Z'] = Z\n",
    "\n",
    "    return window"
   ]
  },
  {
   "cell_type": "code",
   "execution_count": 8,
   "metadata": {
    "collapsed": true
   },
   "outputs": [],
   "source": [
    "def convert_window( d ):    \n",
    "    return [ make_window(IsSimplifiedInput = d['Common']['IsSimplifiedInput'], **f) for f in d['Windows'] ]"
   ]
  },
  {
   "cell_type": "markdown",
   "metadata": {},
   "source": [
    "## 4. Doors Element"
   ]
  },
  {
   "cell_type": "markdown",
   "metadata": {},
   "source": [
    "#### Outline"
   ]
  },
  {
   "cell_type": "markdown",
   "metadata": {},
   "source": [
    "'Doors'要素はそのまま維持する。"
   ]
  },
  {
   "cell_type": "markdown",
   "metadata": {},
   "source": [
    "#### Function"
   ]
  },
  {
   "cell_type": "code",
   "execution_count": 9,
   "metadata": {
    "collapsed": true
   },
   "outputs": [],
   "source": [
    "def make_door(name, direction, area, space, U, IsSunshadeInput, Y1 = None, Y2 = None, Z = None, **kwargs ):\n",
    "\n",
    "    door = {\n",
    "        'name':      name,\n",
    "        'direction': direction,\n",
    "        'area':      area,\n",
    "        'space':     space,\n",
    "        'U':         U,\n",
    "        'IsSunshadeInput': IsSunshadeInput\n",
    "    }\n",
    "    \n",
    "    # 日除けの設定\n",
    "    if IsSunshadeInput == True :\n",
    "        door['Y1'] = Y1\n",
    "        door['Y2'] = Y2\n",
    "        door['Z'] = Z\n",
    "    \n",
    "    return door"
   ]
  },
  {
   "cell_type": "code",
   "execution_count": 10,
   "metadata": {
    "collapsed": true
   },
   "outputs": [],
   "source": [
    "def convert_door( d ):    \n",
    "    return [ make_door(**f) for f in d['Doors'] ]"
   ]
  },
  {
   "cell_type": "markdown",
   "metadata": {},
   "source": [
    "## 5. Heatbridges Element"
   ]
  },
  {
   "cell_type": "markdown",
   "metadata": {},
   "source": [
    "#### Outline"
   ]
  },
  {
   "cell_type": "markdown",
   "metadata": {},
   "source": [
    "'Heatbridges'要素はそのまま維持する。"
   ]
  },
  {
   "cell_type": "markdown",
   "metadata": {},
   "source": [
    "#### Function"
   ]
  },
  {
   "cell_type": "code",
   "execution_count": 11,
   "metadata": {
    "collapsed": true
   },
   "outputs": [],
   "source": [
    "def make_heatbridge(name, structure, direction1, direction2, space, length, psi):\n",
    "    return {\n",
    "        'name':       name,\n",
    "        'structure':  structure,\n",
    "        'direction1': direction1,\n",
    "        'direction2': direction2,\n",
    "        'length':     length,\n",
    "        'space':      space,\n",
    "        'psi':        psi\n",
    "    }"
   ]
  },
  {
   "cell_type": "code",
   "execution_count": 12,
   "metadata": {
    "collapsed": true
   },
   "outputs": [],
   "source": [
    "def convert_heatbridge( d ):    \n",
    "    return [ make_heatbridge(**f) for f in d['Heatbridges'] ]"
   ]
  },
  {
   "cell_type": "markdown",
   "metadata": {},
   "source": [
    "## 6. EarthfloorPerimeters Element"
   ]
  },
  {
   "cell_type": "markdown",
   "metadata": {},
   "source": [
    "#### Outline"
   ]
  },
  {
   "cell_type": "markdown",
   "metadata": {},
   "source": [
    "'EarthfloorPerimeters'要素はそのまま維持する。"
   ]
  },
  {
   "cell_type": "markdown",
   "metadata": {},
   "source": [
    "#### Function"
   ]
  },
  {
   "cell_type": "code",
   "execution_count": 13,
   "metadata": {
    "collapsed": true
   },
   "outputs": [],
   "source": [
    "def make_earthfloorperimeter( direction, length, name, psi, space):\n",
    "    return {\n",
    "        'direction': direction,\n",
    "        'length':    length,\n",
    "        'name':      name,\n",
    "        'psi':       psi,\n",
    "        'space':     space\n",
    "    }"
   ]
  },
  {
   "cell_type": "code",
   "execution_count": 14,
   "metadata": {
    "collapsed": true
   },
   "outputs": [],
   "source": [
    "def convert_earthfloorperimeter( d ):    \n",
    "    return [ make_earthfloorperimeter(**f) for f in d['EarthfloorPerimeters'] ]"
   ]
  },
  {
   "cell_type": "markdown",
   "metadata": {},
   "source": [
    "## 7. Earthfloors Element"
   ]
  },
  {
   "cell_type": "markdown",
   "metadata": {},
   "source": [
    "#### Outline"
   ]
  },
  {
   "cell_type": "markdown",
   "metadata": {},
   "source": [
    "'Earthfloors'要素はそのまま維持する。"
   ]
  },
  {
   "cell_type": "markdown",
   "metadata": {},
   "source": [
    "#### Function"
   ]
  },
  {
   "cell_type": "code",
   "execution_count": 15,
   "metadata": {
    "collapsed": true
   },
   "outputs": [],
   "source": [
    "def make_earthfloor( name, area, space ):\n",
    "    return {\n",
    "        'name': name,\n",
    "        'area': area,\n",
    "        'space': space\n",
    "    }"
   ]
  },
  {
   "cell_type": "code",
   "execution_count": 16,
   "metadata": {
    "collapsed": true
   },
   "outputs": [],
   "source": [
    "def convert_earthfloor( d ):        \n",
    "    return [ make_earthfloor(**f) for f in d['Earthfloors'] ]"
   ]
  },
  {
   "cell_type": "markdown",
   "metadata": {},
   "source": [
    "## 8. InnerWalls Element"
   ]
  },
  {
   "cell_type": "markdown",
   "metadata": {},
   "source": [
    "## 8.1. 用途別床面積を取得する関数"
   ]
  },
  {
   "cell_type": "code",
   "execution_count": 17,
   "metadata": {
    "collapsed": true
   },
   "outputs": [],
   "source": [
    "def get_area_floor_tuple(d_common):\n",
    "    return d_common['MainOccupantRoomFloorArea'], \\\n",
    "           d_common['OtherOccupantRoomFloorArea'], \\\n",
    "           d_common['TotalFloorArea'] - d_common['MainOccupantRoomFloorArea'] - d_common['OtherOccupantRoomFloorArea']"
   ]
  },
  {
   "cell_type": "code",
   "execution_count": 18,
   "metadata": {
    "collapsed": true
   },
   "outputs": [],
   "source": [
    "def get_area_floor_dictionary(d_common):\n",
    "    return { 'main': d_common['MainOccupantRoomFloorArea'],\n",
    "             'other': d_common['OtherOccupantRoomFloorArea'], \\\n",
    "             'nonliving': d_common['TotalFloorArea'] - d_common['MainOccupantRoomFloorArea'] - d_common['OtherOccupantRoomFloorArea']\n",
    "            }"
   ]
  },
  {
   "cell_type": "markdown",
   "metadata": {},
   "source": [
    "## 8.2. InnerWalls Element - Ground Floor "
   ]
  },
  {
   "cell_type": "markdown",
   "metadata": {},
   "source": [
    "### 1) 層構成"
   ]
  },
  {
   "cell_type": "markdown",
   "metadata": {},
   "source": [
    "#### Outline"
   ]
  },
  {
   "cell_type": "markdown",
   "metadata": {},
   "source": [
    "以下の層構成とする。"
   ]
  },
  {
   "cell_type": "markdown",
   "metadata": {},
   "source": [
    "| 材料 | 厚さ, m | 熱伝導率, W m<sup>-1</sup> K<sup>-1</sup> | 熱抵抗, m<sup>2</sup> k W<sup>-1</sup> | 容積比熱, J L<sup>-1</sup> K<sup>-1</sup> |\n",
    "|---|---|---|---|\n",
    "| 合板 | 0.012 | 0.16 | 0.075 | 720.0 |"
   ]
  },
  {
   "cell_type": "markdown",
   "metadata": {},
   "source": [
    "#### Function"
   ]
  },
  {
   "cell_type": "code",
   "execution_count": 19,
   "metadata": {
    "collapsed": true
   },
   "outputs": [],
   "source": [
    "def get_inner_floor_layers():\n",
    "    return [{'name': 'PED', 'cond': 0.16, 'thick': 0.012, 'specH': 720.0}]"
   ]
  },
  {
   "cell_type": "markdown",
   "metadata": {},
   "source": [
    "### 2) 床下空間上の床面積の推定"
   ]
  },
  {
   "cell_type": "markdown",
   "metadata": {},
   "source": [
    "#### Outline  \n",
    "- 外皮の用途別情報が入力された場合において床下空間に属する土間床等面積が0㎡より大きい場合、室と床下空間の間の床の面積の合計は、床下空間に属する土間床等面積の合計（ただし、室用途別の床面積と方位が「下面」の部位面積の差分の合計を上限とする）に等しいとみなす。  \n",
    "- 室と床下空間の間の床は、室用途別の床面積と方位が「下面」の部位面積の差分に応じて、各用途に割り当てる。"
   ]
  },
  {
   "cell_type": "markdown",
   "metadata": {},
   "source": [
    "$\\sum_{i}^{}A_{b,i}>0$ かつ $A_{dif,MR} + A_{dif,OR} + A_{dif,NR}>0$ の場合"
   ]
  },
  {
   "cell_type": "markdown",
   "metadata": {},
   "source": [
    "$$\n",
    "\\displaystyle\n",
    "A_{f,MR}= \\sum_{i}^{}A_{b,i} \\times \\frac{ A_{dif,MR} }{ A_{dif,MR} + A_{dif,OR} + A_{dif,NR} }\n",
    "$$\n",
    "\n",
    "$$\n",
    "\\displaystyle\n",
    "A_{f,OR}= \\sum_{i}^{}A_{b,i} \\times \\frac{ A_{dif,OR} }{ A_{dif,MR} + A_{dif,OR} + A_{dif,NR} }\n",
    "$$\n",
    "\n",
    "$$\n",
    "\\displaystyle\n",
    "A_{f,NR}= \\sum_{i}^{}A_{b,i} \\times \\frac{ A_{dif,NR} }{ A_{dif,MR} + A_{dif,OR} + A_{dif,NR} }\n",
    "$$"
   ]
  },
  {
   "cell_type": "markdown",
   "metadata": {},
   "source": [
    "$A_{b,i}$: 床下空間に属する土間床等の部位$i$の面積, m<sup>2</sup>  \n",
    "　　 ($\\sum_{i}^{}A_{b,i}≦A_{dif,MR} + A_{dif,OR} + A_{dif,NR}$を想定)  \n",
    "$A_{f,MR}$: 主たる居室と床下空間の間の床の面積, m<sup>2</sup>  \n",
    "$A_{f,OR}$: その他の居室と床下空間の間の床の面積, m<sup>2</sup>  \n",
    "$A_{f,NR}$: 非居室と床下空間の間の床の面積, m<sup>2</sup>  \n",
    "$A_f$: 室と床下空間の間の床面積の合計, m<sup>2</sup>  \n",
    "$A_{dif,MR}$: 主たる居室において、方位が「下面」の部位の面積と土間床等の面積の合計と、床面積の差, m<sup>2</sup>  \n",
    "$A_{dif,OR}$: その他の居室において、方位が「下面」の部位の面積と土間床等の面積の合計と、床面積の差, m<sup>2</sup>  \n",
    "$A_{dif,NR}$: 非居室において、方位が「下面」の部位の面積と土間床等の面積の合計と、床面積の差, m<sup>2</sup>  "
   ]
  },
  {
   "cell_type": "markdown",
   "metadata": {},
   "source": [
    "$$\n",
    "\\displaystyle\n",
    "A_{dif, MR} = max(0, A_{MR} - \\sum_i A_{of,MR,i} - \\sum_i A_{ef,MR,i})\n",
    "$$\n",
    "\n",
    "$$\n",
    "\\displaystyle\n",
    "A_{dif, OR} = max(0, A_{OR} - \\sum_i A_{of,OR,i} - \\sum_i A_{ef,OR,i})\n",
    "$$\n",
    "\n",
    "$$\n",
    "\\displaystyle\n",
    "A_{dif, NR} = max(0, A_{NR} - \\sum_i A_{of,NR,i} - \\sum_i A_{ef,NR,i})\n",
    "$$"
   ]
  },
  {
   "cell_type": "markdown",
   "metadata": {},
   "source": [
    "$A_{MR}$: 主たる居室の床面積, m<sup>2</sup>  \n",
    "$A_{OR}$: その他の居室の床面積, m<sup>2</sup>  \n",
    "$A_{NR}$: 非居室の床面積, m<sup>2</sup>   \n",
    "$A_{of,MR,i}$: 方位が「下面」である主たる居室の外皮の部位(一般部位又は開口部)$i$の面積, m<sup>2</sup>  \n",
    "$A_{of,OR,i}$: 方位が「下面」であるその他の居室の外皮の部位(一般部位又は開口部)$i$の面積, m<sup>2</sup>  \n",
    "$A_{of,NR,i}$: 方位が「下面」である非居室の外皮の部位(一般部位又は開口部)$i$の面積, m<sup>2</sup>  \n",
    "$A_{ef,MR,i}$: 主たる居室の土間床$i$の面積, m<sup>2</sup>  \n",
    "$A_{ef,OR,i}$: その他の居室の土間床$i$の面積, m<sup>2</sup>  \n",
    "$A_{ef,NR,i}$: 非居室の土間床$i$の面積, m<sup>2</sup>  "
   ]
  },
  {
   "cell_type": "markdown",
   "metadata": {},
   "source": [
    "#### Function"
   ]
  },
  {
   "cell_type": "code",
   "execution_count": 20,
   "metadata": {
    "collapsed": true
   },
   "outputs": [],
   "source": [
    "# 方位が「下面」である外皮の部位の面積の合計\n",
    "def get_A_of_bottom(d, s):\n",
    "    # s : space name\n",
    "\n",
    "    l = []\n",
    "    for x in ['Walls','Windows','Doors'] :\n",
    "        if (x in d) == True :\n",
    "            l = l + d[x]           \n",
    "            \n",
    "    return sum( y['area'] for y in l if y['space'] == s and y['direction'] == 'bottom' )"
   ]
  },
  {
   "cell_type": "code",
   "execution_count": 21,
   "metadata": {
    "collapsed": true
   },
   "outputs": [],
   "source": [
    "# 土間床等の面積の合計\n",
    "def get_A_of_EarthFloor(d, s):\n",
    "    # s : space name\n",
    "\n",
    "    if ('Earthfloors' in d ) == True :\n",
    "        return sum( y['area'] for y in d['Earthfloors'] if y['space'] == s )\n",
    "    else :\n",
    "        return 0"
   ]
  },
  {
   "cell_type": "code",
   "execution_count": 22,
   "metadata": {
    "collapsed": true
   },
   "outputs": [],
   "source": [
    "# 方位が「下面」である外皮の部位と土間床等の面積の合計\n",
    "def get_A_of(d, s):        \n",
    "    return get_A_of_bottom(d, s) + get_A_of_EarthFloor(d, s)"
   ]
  },
  {
   "cell_type": "code",
   "execution_count": 23,
   "metadata": {
    "collapsed": true
   },
   "outputs": [],
   "source": [
    "# 床下空間に属する土間床等の面積の取得\n",
    "def get_A_b(d):\n",
    "    if ('Earthfloors' in d ) == True :\n",
    "        return sum(earthfloor['area'] for earthfloor in d['Earthfloors'] if earthfloor['space'] == 'underfloor')\n",
    "    else :\n",
    "        return 0"
   ]
  },
  {
   "cell_type": "markdown",
   "metadata": {},
   "source": [
    "#### Function 1"
   ]
  },
  {
   "cell_type": "code",
   "execution_count": 24,
   "metadata": {
    "collapsed": true
   },
   "outputs": [],
   "source": [
    "def get_area_floor_over_underfloor_tuple(d):\n",
    "    \n",
    "    # 用途別床面積の取得\n",
    "    A_MR, A_OR, A_NR = get_area_floor_tuple(d['Common'])\n",
    "    \n",
    "    # 下面（direction:Bottom）の壁・窓・ドア面積と土間床等の面積の合計値の取得\n",
    "    A_of_MR, A_of_OR, A_of_NR = get_A_of(d, 'main'), get_A_of(d, 'other'), get_A_of(d, 'nonliving')\n",
    "    \n",
    "    # 方位が「下面」の部位の面積と土間床等の面積の合計値と、床面積の差\n",
    "    A_dif_MR, A_dif_OR, A_dif_NR = max(0.0, A_MR - A_of_MR), max(0.0, A_OR - A_of_OR), max(0.0, A_NR - A_of_NR)\n",
    "\n",
    "    A_dif = A_dif_MR + A_dif_OR + A_dif_NR\n",
    "\n",
    "    # 床下空間に属する土間床等の面積の取得\n",
    "    A_b = get_A_b(d)\n",
    "    \n",
    "    # 室と床下空間の間の床面を設定する場合\n",
    "    if A_b > 0 and A_dif > 0 :    \n",
    "        # 居室と床下空間との間の床の面積\n",
    "        A_f_MR, A_f_OR, A_f_NR = A_b * A_dif_MR / A_dif, A_b * A_dif_OR / A_dif, A_b * A_dif_NR / A_dif\n",
    "        return True, A_f_MR, A_f_OR, A_f_NR\n",
    "    \n",
    "    # 室と床下空間の間の床面を設定しない場合\n",
    "    else :\n",
    "        return False, None, None, None"
   ]
  },
  {
   "cell_type": "markdown",
   "metadata": {},
   "source": [
    "#### Function 2"
   ]
  },
  {
   "cell_type": "code",
   "execution_count": 25,
   "metadata": {
    "collapsed": true
   },
   "outputs": [],
   "source": [
    "def get_area_floor_over_underfloor_dictionary(d):\n",
    "\n",
    "    # 用途別床面積の取得\n",
    "    A = get_area_floor_dictionary(d['Common'])\n",
    "    \n",
    "    # 下面（direction:Bottom）の壁・窓・ドア面積と土間床等の面積の合計値の取得\n",
    "    A_of= {x : get_A_of(d, x) for x in ['main', 'other', 'nonliving']}\n",
    "    \n",
    "    # 方位が「下面」の部位の面積と土間床等の面積の合計値と、床面積の差\n",
    "    A_dif = {x : max(0.0, A[x] - A_of[x]) for x in ['main', 'other', 'nonliving']}\n",
    "    \n",
    "    A_dif_sum = sum(A_dif[x] for x in A_dif.keys())\n",
    "\n",
    "    # 床下空間に属する土間床等の面積の取得\n",
    "    A_b = get_A_b(d)\n",
    "\n",
    "    #  室と床下空間の間の床面積の推定\n",
    "    A_f = min(A_dif_sum, A_b)    \n",
    "\n",
    "    # 室と床下空間の間の床面を設定する場合\n",
    "    if A_b > 0 and A_dif_sum > 0 :    \n",
    "        # 居室と床下空間との間の床の面積\n",
    "        A_f = {x : A_b * A_dif[x] / A_dif_sum for x in ['main', 'other', 'nonliving']}\n",
    "        return True, A_f\n",
    "\n",
    "    # 室と床下空間の間の床面を設定しない場合\n",
    "    else :\n",
    "        return False, None"
   ]
  },
  {
   "cell_type": "markdown",
   "metadata": {},
   "source": [
    "#### Example"
   ]
  },
  {
   "cell_type": "code",
   "execution_count": 26,
   "metadata": {},
   "outputs": [
    {
     "name": "stdout",
     "output_type": "stream",
     "text": [
      "(True, 0.0, 6.666666666666667, 3.3333333333333335)\n",
      "(True, {'main': 0.0, 'other': 6.666666666666667, 'nonliving': 3.3333333333333335})\n"
     ]
    }
   ],
   "source": [
    "d = {\n",
    "    'Common': {\n",
    "        'Region': 6,\n",
    "        'IsSimplifiedInput': False,\n",
    "        'MainOccupantRoomFloorArea': 30.0,\n",
    "        'OtherOccupantRoomFloorArea': 60.0,\n",
    "        'TotalFloorArea': 120.0\n",
    "    },\n",
    "    'Walls': [\n",
    "        { 'name': 'Ceiling', 'type': 'Ceiling', 'structure': 'wood', 'InputMethod' :'InputUA', \n",
    "          'direction': 'top', 'area': 60, 'space': 'main', 'UA': 0.24, 'IsSunshadeInput': False },\n",
    "        { 'name': 'Ceiling', 'type': 'Ceiling', 'structure': 'wood', 'InputMethod' :'InputAllDetails', 'direction': 'top', \n",
    "          'area': 60, 'space': 'main',\n",
    "          'Parts': [{'AreaRatio': 0.8, 'Layers': [{'name': 'wood','thick': 0.012, 'cond': 0.16, 'specH': 720 },\n",
    "                                                  {'name': 'wood','thick': 0.012, 'cond': 0.16, 'specH': 720 }]},\n",
    "                    {'AreaRatio': 0.2, 'Layers': [{'name': 'wood','thick': 0.012, 'cond': 0.16, 'specH': 720 },\n",
    "                                                  {'name': 'wood','thick': 0.012, 'cond': 0.16, 'specH': 720 }]}],\n",
    "          'IsSunshadeInput': False },\n",
    "        { 'name': 'Floor', 'type': 'Floor', 'structure': 'wood', 'InputMethod' :'InputAllLayers', 'direction': 'bottom', \n",
    "          'area': 60, 'space': 'main',\n",
    "          'FloorConstructionMethod' :'FrameInsulcolumn',\n",
    "          'Parts': [{'TypeFloor': 'Insulation', 'Layers': [{'name': 'wood','thick': 0.012, 'cond': 0.16, 'specH': 720 },\n",
    "                                                           {'name': 'wood','thick': 0.012, 'cond': 0.16, 'specH': 720 }]},\n",
    "                    {'TypeFloor': 'Heatbridge', 'Layers': [{'name': 'wood','thick': 0.012, 'cond': 0.16, 'specH': 720 },\n",
    "                                                           {'name': 'wood','thick': 0.012, 'cond': 0.16, 'specH': 720 }]}],\n",
    "           'IsSunshadeInput': False }\n",
    "    ],\n",
    "    'Windows': [\n",
    "        { 'name': 'WindowTop', 'direction': 'top', 'area': 30, 'space': 'main', 'UW': 6.51, 'TypeWindow': 'Single', \n",
    "          'IsEtaValueInput': False, 'TypeFrame': 'WoodOrResin', 'TypeGlass': '3WgG', 'TypeShade': 'Shoji', 'IsSunshadeInput': False }\n",
    "    ],\n",
    "    'Earthfloors': [\n",
    "        { 'name': 'other', 'area': 5.0, 'space': 'underfloor' },\n",
    "        { 'name': 'entrance', 'area': 5.0, 'space': 'underfloor' }\n",
    "    ]\n",
    "}\n",
    "\n",
    "innerwalls = [\n",
    "        { 'area': 60, 'name': 'GroundFloor_Main', 'type' : 'GroundFloor', 'spaces': ['main','underfloor'], 'direction' : 'Horizontal', 'Layers' : get_inner_floor_layers()},\n",
    "        { 'area': 15, 'name': 'GroundFloor_Other', 'type' : 'GroundFloor', 'spaces': ['other','underfloor'], 'direction' : 'Horizontal', 'Layers' : get_inner_floor_layers()},\n",
    "]\n",
    "\n",
    "print(get_area_floor_over_underfloor_tuple(d))\n",
    "print(get_area_floor_over_underfloor_dictionary(d))"
   ]
  },
  {
   "cell_type": "markdown",
   "metadata": {},
   "source": [
    "### 3) 室と床下空間の間の床の構築"
   ]
  },
  {
   "cell_type": "markdown",
   "metadata": {},
   "source": [
    "#### Function 1"
   ]
  },
  {
   "cell_type": "code",
   "execution_count": 27,
   "metadata": {
    "collapsed": true
   },
   "outputs": [],
   "source": [
    "def get_innerwall_groundfloor_tuple(d):\n",
    "    \n",
    "    # 室と床下空間の間の床面積の推定\n",
    "    IsInnerwallGroundfloor, A_if_MR, A_if_OR, A_if_NR = get_area_floor_over_underfloor_tuple(d)\n",
    "    \n",
    "    # 室と床下空間の間の床面を設定する場合\n",
    "    if IsInnerwallGroundfloor == True :    \n",
    "        # 壁体名称、部位面積を更新し、「壁体が属する空間種類」「隣接空間種類」を追加する\n",
    "        ifs = []\n",
    "\n",
    "        if A_if_MR > 0 :\n",
    "            ifs.extend([{\n",
    "                'name' : 'GroundFloor_Main',\n",
    "                'type' : 'GroundFloor',\n",
    "                'direction' : 'Horizontal',\n",
    "                'area' : A_if_MR,\n",
    "                'Layers' : get_inner_floor_layers(),\n",
    "                'spaces' : ['main','underfloor'],\n",
    "                }])\n",
    "\n",
    "        if A_if_OR > 0 :\n",
    "            ifs.extend([ {\n",
    "                'name' : 'GroundFloor_Other',\n",
    "                'type' : 'GroundFloor',\n",
    "                'direction' : 'Horizontal',\n",
    "                'area' : A_if_OR,\n",
    "                'Layers' : get_inner_floor_layers(),\n",
    "                'spaces' : ['other','underfloor'],\n",
    "                }])    \n",
    "\n",
    "        if A_if_NR > 0 :\n",
    "            ifs.extend([{\n",
    "                'name' : 'GroundFloor_Nonliving',\n",
    "                'type' : 'GroundFloor',\n",
    "                'direction' : 'Horizontal',\n",
    "                'area' : A_if_NR,\n",
    "                'Layers' : get_inner_floor_layers(),\n",
    "                'spaces' : ['nonliving','underfloor'],\n",
    "                }])        \n",
    "        \n",
    "        return ifs\n",
    "    # 室と床下空間の間の床面を設定しない場合\n",
    "    else :\n",
    "        return []"
   ]
  },
  {
   "cell_type": "markdown",
   "metadata": {},
   "source": [
    "#### Function 2"
   ]
  },
  {
   "cell_type": "code",
   "execution_count": 28,
   "metadata": {
    "collapsed": true
   },
   "outputs": [],
   "source": [
    "def get_innerwall_groundfloor_dictionary(d):\n",
    "    \n",
    "    # 室と床下空間の間の床面積の推定\n",
    "    IsInnerwallGroundfloor, areas_innerfloor = get_area_floor_over_underfloor_dictionary(d)\n",
    "        \n",
    "    # 室と床下空間の間の床面を設定する場合\n",
    "    if IsInnerwallGroundfloor == True :    \n",
    "        # 壁体名称、部位面積を更新し、「壁体が属する空間種類」「隣接空間種類」を追加する\n",
    "        ifs = []\n",
    "        \n",
    "        for space in ['main', 'other', 'nonliving'] :\n",
    "            if areas_innerfloor[space] > 0 :\n",
    "                ifs.extend([ {\n",
    "                    'name' : 'GroundFloor_' + space,\n",
    "                    'type' : 'GroundFloor',\n",
    "                    'direction' : 'Horizontal',\n",
    "                    'area' : areas_innerfloor[space],\n",
    "                    'Layers' : get_inner_floor_layers(),\n",
    "                    'spaces' : [space,'underfloor'],}])\n",
    "\n",
    "        return ifs\n",
    "    # 室と床下空間の間の床面を設定しない場合\n",
    "    else :\n",
    "        return []"
   ]
  },
  {
   "cell_type": "markdown",
   "metadata": {},
   "source": [
    "## 8.3. InnerWalls Element - Inner Floor"
   ]
  },
  {
   "cell_type": "markdown",
   "metadata": {},
   "source": [
    "### 1) 層構成"
   ]
  },
  {
   "cell_type": "markdown",
   "metadata": {},
   "source": [
    "#### Outline"
   ]
  },
  {
   "cell_type": "markdown",
   "metadata": {},
   "source": [
    "以下の層構成とする。"
   ]
  },
  {
   "cell_type": "markdown",
   "metadata": {},
   "source": [
    "| 材料 | 厚さ, m | 熱伝導率, W m<sup>-1</sup> K<sup>-1</sup> | 熱抵抗, m<sup>2</sup> k W<sup>-1</sup> | 容積比熱, J L<sup>-1</sup> K<sup>-1</sup> |\n",
    "|---|---|---|---|\n",
    "| 合板 | 0.012 | 0.16 | 0.075 | 720.0 |"
   ]
  },
  {
   "cell_type": "markdown",
   "metadata": {},
   "source": [
    "#### Function"
   ]
  },
  {
   "cell_type": "code",
   "execution_count": 29,
   "metadata": {
    "collapsed": true
   },
   "outputs": [],
   "source": [
    "def get_inner_floor_layers():\n",
    "    return [{'name': 'PED', 'cond': 0.16, 'thick': 0.012, 'specH': 720.0}]"
   ]
  },
  {
   "cell_type": "markdown",
   "metadata": {},
   "source": [
    "### 2) 室上の床面積の推定"
   ]
  },
  {
   "cell_type": "markdown",
   "metadata": {},
   "source": [
    "#### Outline"
   ]
  },
  {
   "cell_type": "markdown",
   "metadata": {},
   "source": [
    "$$\n",
    "\\displaystyle\n",
    "A_{if,MR}= \\max \\left(0, A_{MR} -  \\left(A_{gf,MR} + \\sum_i A_{of,MR,i} + \\sum_i A_{ef,MR,i} \\right)\\right)\n",
    "$$\n",
    "\n",
    "$$\n",
    "\\displaystyle\n",
    "A_{if,OR}= \\max \\left(0, A_{OR} -  \\left(A_{gf,OR} + \\sum_i A_{of,OR,i} + \\sum_i A_{ef,OR,i} \\right)\\right)\n",
    "$$\n",
    "\n",
    "$$\n",
    "\\displaystyle\n",
    "A_{if,NR}= \\max \\left(0, A_{NR} -  \\left(A_{gf,NR} + \\sum_i A_{of,NR,i} + \\sum_i A_{ef,NR,i} \\right)\\right)\n",
    "$$"
   ]
  },
  {
   "cell_type": "markdown",
   "metadata": {},
   "source": [
    "$A_{if,MR}$: その他の居室または非居室との間の、主たる居室の床の面積, m<sup>2</sup>  \n",
    "$A_{if,OR}$: 主たる居室または非居室との間の、その他の居室の床の面積, m<sup>2</sup>  \n",
    "$A_{if,NR}$: 主たる居室またはその他の居室との間の、非居室の床の面積, m<sup>2</sup>  \n",
    "$A_{MR}$: 主たる居室の床面積, m<sup>2</sup>  \n",
    "$A_{OR}$: その他の居室の床面積, m<sup>2</sup>  \n",
    "$A_{NR}$: 非居室の床面積, m<sup>2</sup>   \n",
    "$A_{gf,MR}$: 主たる居室と床下空間の間の床の面積, m<sup>2</sup>  \n",
    "$A_{gf,OR}$: その他の居室と床下空間の間の床の面積, m<sup>2</sup>  \n",
    "$A_{gf,NR}$: 非居室と床下空間の間の床の面積, m<sup>2</sup>  \n",
    "$A_{of,MR,i}$: 方位が「下面」である主たる居室の外皮の部位(一般部位又は開口部)$i$の面積, m<sup>2</sup>  \n",
    "$A_{of,OR,i}$: 方位が「下面」であるその他の居室の外皮の部位(一般部位又は開口部)$i$の面積, m<sup>2</sup>  \n",
    "$A_{of,NR,i}$: 方位が「下面」である非居室の外皮の部位(一般部位又は開口部)$i$の面積, m<sup>2</sup>  \n",
    "$A_{ef,MR,i}$: 主たる居室の土間床$i$の面積, m<sup>2</sup>  \n",
    "$A_{ef,OR,i}$: その他の居室の土間床$i$の面積, m<sup>2</sup>  \n",
    "$A_{ef,NR,i}$: 非居室の土間床$i$の面積, m<sup>2</sup>   "
   ]
  },
  {
   "cell_type": "markdown",
   "metadata": {},
   "source": [
    "#### Function"
   ]
  },
  {
   "cell_type": "code",
   "execution_count": 30,
   "metadata": {
    "collapsed": true
   },
   "outputs": [],
   "source": [
    "# 床下空間上の床の面積の合計\n",
    "def get_A_if_GroundFloor(innerwalls, s):\n",
    "    # s : space name\n",
    "\n",
    "    return sum( y['area'] for y in innerwalls if (y['type'] == 'GroundFloor'and y['spaces'] == [s,'underfloor']))"
   ]
  },
  {
   "cell_type": "code",
   "execution_count": 31,
   "metadata": {
    "collapsed": true
   },
   "outputs": [],
   "source": [
    "# 床下空間上の床と、方位が「下面」である外皮の部位と、土間床等の面積の合計\n",
    "def get_A_f(d, s, innerwalls):\n",
    "    # s : space name\n",
    "\n",
    "    return get_A_if_GroundFloor(innerwalls, s) + get_A_of_bottom(d, s) + get_A_of_EarthFloor(d, s)"
   ]
  },
  {
   "cell_type": "markdown",
   "metadata": {},
   "source": [
    "#### Function 1"
   ]
  },
  {
   "cell_type": "code",
   "execution_count": 32,
   "metadata": {
    "collapsed": true
   },
   "outputs": [],
   "source": [
    "def get_area_floor_over_room_tuple(d, innerwalls):\n",
    "       \n",
    "    # 用途別床面積の取得\n",
    "    A_MR, A_OR, A_NR = get_area_floor_tuple(d['Common'])\n",
    "    \n",
    "    # 床下空間上の床面積と下面（Direction:Bottom）の壁・窓・ドア面積と土間床等の面積の合計値の取得\n",
    "    A_f_MR, A_f_OR, A_f_NR = get_A_f(d, 'main', innerwalls), get_A_f(d, 'other', innerwalls), get_A_f(d, 'nonliving', innerwalls)\n",
    "    \n",
    "    # 床下空間上の床面積と方位が「下面」の部位の面積と土間床等の面積の合計値と、床面積の差を、室上の床面積とみなす。\n",
    "    A_if_MR, A_if_OR, A_if_NR = max(0.0, A_MR - A_f_MR), max(0.0, A_OR - A_f_OR), max(0.0, A_NR - A_f_NR)\n",
    "    \n",
    "    return A_if_MR, A_if_OR, A_if_NR"
   ]
  },
  {
   "cell_type": "markdown",
   "metadata": {},
   "source": [
    "#### Function 2"
   ]
  },
  {
   "cell_type": "code",
   "execution_count": 33,
   "metadata": {
    "collapsed": true
   },
   "outputs": [],
   "source": [
    "def get_area_floor_over_room_dictionary(d, innerwalls):\n",
    "    \n",
    "    # 用途別床面積の取得\n",
    "    A = get_area_floor_dictionary(d['Common'])\n",
    "    \n",
    "    # 床下空間上の床面積と下面（Direction:Bottom）の壁・窓・ドア面積と土間床等の面積の合計値の取得\n",
    "    A_f = {x : get_A_f(d, x, innerwalls) for x in ['main', 'other', 'nonliving']}\n",
    "    \n",
    "    # 床下空間上の床面積と方位が「下面」の部位の面積と土間床等の面積の合計値と、床面積の差を、室上の床面積とみなす。\n",
    "    A_if = {x : max(0.0, A[x] - A_f[x]) for x in ['main', 'other', 'nonliving']}\n",
    "    \n",
    "    return A_if"
   ]
  },
  {
   "cell_type": "markdown",
   "metadata": {},
   "source": [
    "#### Example"
   ]
  },
  {
   "cell_type": "code",
   "execution_count": 34,
   "metadata": {},
   "outputs": [
    {
     "name": "stdout",
     "output_type": "stream",
     "text": [
      "(0.0, 45.0, 30.0)\n",
      "{'main': 0.0, 'other': 45.0, 'nonliving': 30.0}\n"
     ]
    }
   ],
   "source": [
    "d = {\n",
    "    'Common': {\n",
    "        'Region': 6,\n",
    "        'IsSimplifiedInput': False,\n",
    "        'MainOccupantRoomFloorArea': 30.0,\n",
    "        'OtherOccupantRoomFloorArea': 60.0,\n",
    "        'TotalFloorArea': 120.0\n",
    "    },\n",
    "    'Walls': [\n",
    "        { 'name': 'Ceiling', 'type': 'Ceiling', 'structure': 'wood', 'InputMethod' :'InputUA', \n",
    "          'direction': 'top', 'area': 60, 'space': 'main', 'UA': 0.24, 'IsSunshadeInput': False },\n",
    "        { 'name': 'Ceiling', 'type': 'Ceiling', 'structure': 'wood', 'InputMethod' :'InputAllDetails', 'direction': 'top', \n",
    "          'area': 60, 'space': 'main',\n",
    "          'Parts': [{'AreaRatio': 0.8, 'Layers': [{'name': 'wood','thick': 0.012, 'cond': 0.16, 'specH': 720 },\n",
    "                                                  {'name': 'wood','thick': 0.012, 'cond': 0.16, 'specH': 720 }]},\n",
    "                    {'AreaRatio': 0.2, 'Layers': [{'name': 'wood','thick': 0.012, 'cond': 0.16, 'specH': 720 },\n",
    "                                                  {'name': 'wood','thick': 0.012, 'cond': 0.16, 'specH': 720 }]}],\n",
    "          'IsSunshadeInput': False },\n",
    "        { 'name': 'Floor', 'type': 'Floor', 'structure': 'wood', 'InputMethod' :'InputAllLayers', 'direction': 'bottom', \n",
    "          'area': 60, 'space': 'main',\n",
    "          'FloorConstructionMethod' :'FrameInsulcolumn',\n",
    "          'Parts': [{'TypeFloor': 'Insulation', 'Layers': [{'name': 'wood','thick': 0.012, 'cond': 0.16, 'specH': 720 },\n",
    "                                                           {'name': 'wood','thick': 0.012, 'cond': 0.16, 'specH': 720 }]},\n",
    "                    {'TypeFloor': 'Heatbridge', 'Layers': [{'name': 'wood','thick': 0.012, 'cond': 0.16, 'specH': 720 },\n",
    "                                                           {'name': 'wood','thick': 0.012, 'cond': 0.16, 'specH': 720 }]}],\n",
    "           'IsSunshadeInput': False }\n",
    "    ],\n",
    "    'Windows': [\n",
    "        { 'name': 'WindowTop', 'direction': 'top', 'area': 30, 'space': 'main', 'UW': 6.51, 'TypeWindow': 'Single', \n",
    "          'IsEtaValueInput': False, 'TypeFrame': 'WoodOrResin', 'TypeGlass': '3WgG', 'TypeShade': 'Shoji', 'IsSunshadeInput': False }\n",
    "    ],\n",
    "    'Earthfloors': [\n",
    "        { 'name': 'other', 'area': 5.0, 'space': 'underfloor' },\n",
    "        { 'name': 'entrance', 'area': 5.0, 'space': 'underfloor' }\n",
    "    ]\n",
    "}\n",
    "\n",
    "innerwalls = [\n",
    "        { 'area': 60, 'name': 'GroundFloor_Main', 'type' : 'GroundFloor', 'spaces': ['main','underfloor'], 'direction' : 'Horizontal', 'Layers' : get_inner_floor_layers()},\n",
    "        { 'area': 15, 'name': 'GroundFloor_Other', 'type' : 'GroundFloor', 'spaces': ['other','underfloor'], 'direction' : 'Horizontal', 'Layers' : get_inner_floor_layers()},\n",
    "]\n",
    "\n",
    "print(get_area_floor_over_room_tuple(d, innerwalls))\n",
    "print(get_area_floor_over_room_dictionary(d, innerwalls))"
   ]
  },
  {
   "cell_type": "markdown",
   "metadata": {},
   "source": [
    "### 3) 室下の天井面積の推定"
   ]
  },
  {
   "cell_type": "markdown",
   "metadata": {},
   "source": [
    "#### Outline"
   ]
  },
  {
   "cell_type": "markdown",
   "metadata": {},
   "source": [
    "$$\n",
    "\\displaystyle\n",
    "A_{ic,MR}= \\max \\left(0, A_{MR} -  \\sum_i A_{oc,MR,i} \\right)\n",
    "$$\n",
    "\n",
    "$$\n",
    "\\displaystyle\n",
    "A_{ic,OR}= \\max \\left(0, A_{OR} -  \\sum_i A_{oc,OR,i} \\right)\n",
    "$$\n",
    "\n",
    "$$\n",
    "\\displaystyle\n",
    "A_{ic,NR}= \\max \\left(0, A_{NR} -  \\sum_i A_{oc,NR,i} \\right)\n",
    "$$"
   ]
  },
  {
   "cell_type": "markdown",
   "metadata": {},
   "source": [
    "$A_{ic,MR}$: その他の居室または非居室との間の、主たる居室の天井の面積, m<sup>2</sup>  \n",
    "$A_{ic,OR}$: 主たる居室または非居室との間の、その他の居室の天井の面積, m<sup>2</sup>  \n",
    "$A_{ic,NR}$: 主たる居室またはその他の居室との間の、非居室の天井の面積, m<sup>2</sup>  \n",
    "$A_{MR}$: 主たる居室の床面積, m<sup>2</sup>  \n",
    "$A_{OR}$: その他の居室の床面積, m<sup>2</sup>  \n",
    "$A_{NR}$: 非居室の床面積, m<sup>2</sup>   \n",
    "$A_{oc,MR,i}$: 方位が「上面」である主たる居室の外皮の部位(一般部位又は開口部)$i$の面積, m<sup>2</sup>  \n",
    "$A_{oc,OR,i}$: 方位が「上面」であるその他の居室の外皮の部位(一般部位又は開口部)$i$の面積, m<sup>2</sup>  \n",
    "$A_{oc,NR,i}$: 方位が「上面」である非居室の外皮の部位(一般部位又は開口部)$i$の面積, m<sup>2</sup>  "
   ]
  },
  {
   "cell_type": "markdown",
   "metadata": {},
   "source": [
    "#### Function"
   ]
  },
  {
   "cell_type": "code",
   "execution_count": 35,
   "metadata": {
    "collapsed": true
   },
   "outputs": [],
   "source": [
    "# 方位が「上面」である外皮の部位の面積の合計\n",
    "def get_A_of_top(d, s):\n",
    "    # s : space name\n",
    "\n",
    "    d_top = []\n",
    "    for x in ['Walls','Windows','Doors'] :\n",
    "        if (x in d) == True :\n",
    "            d_top = d_top + d[x]           \n",
    "            \n",
    "    return sum( y['area'] for y in d_bottom if y['space'] == s and y['direction'] == 'top' )"
   ]
  },
  {
   "cell_type": "markdown",
   "metadata": {},
   "source": [
    "#### Function 1"
   ]
  },
  {
   "cell_type": "code",
   "execution_count": 36,
   "metadata": {
    "collapsed": true
   },
   "outputs": [],
   "source": [
    "# 方位が「下面」である外皮の部位の面積の合計\n",
    "def get_A_of_top(d, s):\n",
    "    # s : space name\n",
    "\n",
    "    l = []\n",
    "    for x in ['Walls','Windows','Doors'] :\n",
    "        if (x in d) == True :\n",
    "            l = l + d[x]           \n",
    "            \n",
    "    return sum( y['area'] for y in l if y['space'] == s and y['direction'] == 'top' )"
   ]
  },
  {
   "cell_type": "code",
   "execution_count": 37,
   "metadata": {
    "collapsed": true
   },
   "outputs": [],
   "source": [
    "def get_area_ceiling_below_room_tuple(d):\n",
    "    \n",
    "    # 用途別床面積の取得\n",
    "    A_MR, A_OR, A_NR = get_area_floor_tuple(d['Common'])\n",
    "    \n",
    "    # 上面（Direction:Top）の壁・窓・ドア面積の合計値の取得\n",
    "    A_oc_MR, A_oc_OR, A_oc_NR = get_A_of_top(d, 'main'), get_A_of_top(d, 'other'), get_A_of_top(d, 'nonliving')\n",
    "    \n",
    "    # 方位が「上面」の部位の面積の合計値と、床面積の差\n",
    "    A_ic_MR, A_ic_OR, A_ic_NR = max(0.0, A_MR - A_oc_MR), max(0.0, A_OR - A_oc_OR), max(0.0, A_NR - A_oc_NR)\n",
    "   \n",
    "    return A_ic_MR, A_ic_OR, A_ic_NR"
   ]
  },
  {
   "cell_type": "markdown",
   "metadata": {},
   "source": [
    "#### Function 2"
   ]
  },
  {
   "cell_type": "code",
   "execution_count": 38,
   "metadata": {
    "collapsed": true
   },
   "outputs": [],
   "source": [
    "def get_area_ceiling_below_room_dictionary(d):\n",
    "    \n",
    "    # 用途別床面積の取得\n",
    "    A = get_area_floor_dictionary(d['Common'])\n",
    "    \n",
    "    # 上面（Direction:Top）の壁・窓・ドア面積の合計値の取得\n",
    "    A_oc = {x : get_A_of_top(d, x) for x in ['main', 'other', 'nonliving']}\n",
    "    \n",
    "    # 方位が「上面」の部位の面積の合計値と、床面積の差\n",
    "    A_ic = {x : max(0.0, A[x] - A_oc[x])for x in ['main', 'other', 'nonliving']}\n",
    "   \n",
    "    return A_ic"
   ]
  },
  {
   "cell_type": "markdown",
   "metadata": {},
   "source": [
    "#### Example"
   ]
  },
  {
   "cell_type": "code",
   "execution_count": 39,
   "metadata": {},
   "outputs": [
    {
     "name": "stdout",
     "output_type": "stream",
     "text": [
      "(0.0, 60.0, 30.0)\n",
      "{'main': 0.0, 'other': 60.0, 'nonliving': 30.0}\n"
     ]
    }
   ],
   "source": [
    "d = {\n",
    "    'Common': {\n",
    "        'Region': 6,\n",
    "        'IsSimplifiedInput': False,\n",
    "        'MainOccupantRoomFloorArea': 30.0,\n",
    "        'OtherOccupantRoomFloorArea': 60.0,\n",
    "        'TotalFloorArea': 120.0\n",
    "    },\n",
    "    'Walls': [\n",
    "        { 'name': 'Ceiling', 'type': 'Ceiling', 'structure': 'wood', 'InputMethod' :'InputUA', \n",
    "          'direction': 'top', 'area': 60, 'space': 'main', 'UA': 0.24, 'IsSunshadeInput': False },\n",
    "        { 'name': 'Ceiling', 'type': 'Ceiling', 'structure': 'wood', 'InputMethod' :'InputAllDetails', 'direction': 'top', \n",
    "          'area': 60, 'space': 'main',\n",
    "          'Parts': [{'AreaRatio': 0.8, 'Layers': [{'name': 'wood','thick': 0.012, 'cond': 0.16, 'specH': 720 },\n",
    "                                                  {'name': 'wood','thick': 0.012, 'cond': 0.16, 'specH': 720 }]},\n",
    "                    {'AreaRatio': 0.2, 'Layers': [{'name': 'wood','thick': 0.012, 'cond': 0.16, 'specH': 720 },\n",
    "                                                  {'name': 'wood','thick': 0.012, 'cond': 0.16, 'specH': 720 }]}],\n",
    "          'IsSunshadeInput': False },\n",
    "        { 'name': 'Floor', 'type': 'Floor', 'structure': 'wood', 'InputMethod' :'InputAllLayers', 'direction': 'bottom', \n",
    "          'area': 60, 'space': 'main',\n",
    "          'FloorConstructionMethod' :'FrameInsulcolumn',\n",
    "          'Parts': [{'TypeFloor': 'Insulation', 'Layers': [{'name': 'wood','thick': 0.012, 'cond': 0.16, 'specH': 720 },\n",
    "                                                           {'name': 'wood','thick': 0.012, 'cond': 0.16, 'specH': 720 }]},\n",
    "                    {'TypeFloor': 'Heatbridge', 'Layers': [{'name': 'wood','thick': 0.012, 'cond': 0.16, 'specH': 720 },\n",
    "                                                           {'name': 'wood','thick': 0.012, 'cond': 0.16, 'specH': 720 }]}],\n",
    "           'IsSunshadeInput': False }\n",
    "    ],\n",
    "    'Windows': [\n",
    "        { 'name': 'WindowTop', 'direction': 'top', 'area': 30, 'space': 'main', 'UW': 6.51, 'TypeWindow': 'Single', \n",
    "          'IsEtaValueInput': False, 'TypeFrame': 'WoodOrResin', 'TypeGlass': '3WgG', 'TypeShade': 'Shoji', 'IsSunshadeInput': False }\n",
    "    ],\n",
    "    'Earthfloors': [\n",
    "        { 'name': 'other', 'area': 5.0, 'space': 'underfloor' },\n",
    "        { 'name': 'entrance', 'area': 5.0, 'space': 'underfloor' }\n",
    "    ]\n",
    "}\n",
    "\n",
    "print(get_area_ceiling_below_room_tuple(d))\n",
    "print(get_area_ceiling_below_room_dictionary(d))"
   ]
  },
  {
   "cell_type": "markdown",
   "metadata": {},
   "source": [
    "### 4) 室間の床と天井の面積の推定"
   ]
  },
  {
   "cell_type": "markdown",
   "metadata": {},
   "source": [
    "#### Outline"
   ]
  },
  {
   "cell_type": "markdown",
   "metadata": {},
   "source": [
    "$$\n",
    "\\displaystyle\n",
    "A_{if,MR,OR} = \\left \\{\n",
    "\\begin{array}{ll}\n",
    "0 & ( A_{ic,OR} = 0 ) \\\\\n",
    "\\frac{A_{ic,OR}}{A_{ic,OR}+A_{ic,NR}} \\times A_{if,MR} & ( A_{ic,OR} > 0 ) \\\\\n",
    "\\end{array}\n",
    "\\right.\n",
    "$$\n",
    "$$\n",
    "\\displaystyle\n",
    "A_{if,MR,NR} = \\left \\{\n",
    "\\begin{array}{ll}\n",
    "0 & ( A_{ic,NR} = 0 ) \\\\\n",
    "\\frac{A_{ic,NR}}{A_{ic,OR}+A_{ic,NR}} \\times A_{if,MR} & ( A_{ic,NR} > 0 ) \\\\\n",
    "\\end{array}\n",
    "\\right.\n",
    "$$\n",
    "\n",
    "$$\n",
    "\\displaystyle\n",
    "A_{if,OR,MR} = \\left \\{\n",
    "\\begin{array}{ll}\n",
    "0 & ( A_{ic,MR} = 0 ) \\\\\n",
    "\\frac{A_{ic,MR}}{A_{ic,MR}+A_{ic,NR}} \\times A_{if,OR} & ( A_{ic,MR} > 0 ) \\\\\n",
    "\\end{array}\n",
    "\\right.\n",
    "$$\n",
    "$$\n",
    "\\displaystyle\n",
    "A_{if,OR,NR} = \\left \\{\n",
    "\\begin{array}{ll}\n",
    "0 & ( A_{ic,NR} = 0 ) \\\\\n",
    "\\frac{A_{ic,NR}}{A_{ic,MR}+A_{ic,NR}} \\times A_{if,OR} & ( A_{ic,NR} > 0 ) \\\\\n",
    "\\end{array}\n",
    "\\right.\n",
    "$$\n",
    "\n",
    "$$\n",
    "\\displaystyle\n",
    "A_{if,NR,MR} = \\left \\{\n",
    "\\begin{array}{ll}\n",
    "0 & ( A_{ic,MR} = 0 ) \\\\\n",
    "\\frac{A_{ic,MR}}{A_{ic,MR}+A_{ic,OR}} \\times A_{if,NR} & ( A_{ic,MR} > 0 ) \\\\\n",
    "\\end{array}\n",
    "\\right.\n",
    "$$\n",
    "$$\n",
    "\\displaystyle\n",
    "A_{if,NR,OR} = \\left \\{\n",
    "\\begin{array}{ll}\n",
    "0 & ( A_{ic,OR} = 0 ) \\\\\n",
    "\\frac{A_{ic,OR}}{A_{ic,MR}+A_{ic,OR}} \\times A_{if,NR} & ( A_{ic,OR} > 0 ) \\\\\n",
    "\\end{array}\n",
    "\\right.\n",
    "$$"
   ]
  },
  {
   "cell_type": "markdown",
   "metadata": {},
   "source": [
    "$A_{if,MR,OR}$: その他の居室との間の、主たる居室の床の面積, m<sup>2</sup>  \n",
    "$A_{if,MR,NR}$: 非居室との間の、主たる居室の床の面積, m<sup>2</sup>  \n",
    "$A_{if,OR,MR}$: 主たる居室との間の、その他の居室の床の面積, m<sup>2</sup>  \n",
    "$A_{if,OR,NR}$: 非居室との間の、その他の居室の床の面積, m<sup>2</sup>  \n",
    "$A_{if,NR,MR}$: 主たる居室との間の、非居室の床の面積, m<sup>2</sup>  \n",
    "$A_{if,NR,OR}$: その他の居室との間の、非居室の床の面積, m<sup>2</sup>  \n",
    "$A_{ic,MR}$: その他の居室または非居室との間の、主たる居室の天井の面積, m<sup>2</sup>  \n",
    "$A_{ic,OR}$: 主たる居室または非居室との間の、その他の居室の天井の面積, m<sup>2</sup>  \n",
    "$A_{ic,NR}$: 主たる居室またはその他の居室との間の、非居室の天井の面積, m<sup>2</sup>  \n",
    "$A_{if,MR}$: その他の居室または非居室との間の、主たる居室の床の面積, m<sup>2</sup>  \n",
    "$A_{if,OR}$: 主たる居室または非居室との間の、その他の居室の床の面積, m<sup>2</sup>  \n",
    "$A_{if,NR}$: 主たる居室またはその他の居室との、間の非居室の床の面積, m<sup>2</sup>  "
   ]
  },
  {
   "cell_type": "markdown",
   "metadata": {},
   "source": [
    "$$\n",
    "\\displaystyle\n",
    "A_{ic,MR,OR} = \\left \\{\n",
    "\\begin{array}{ll}\n",
    "0 & ( A_{if,OR} = 0 ) \\\\\n",
    "\\frac{A_{if,OR}}{A_{if,OR}+A_{if,NR}} \\times A_{ic,MR} & ( A_{if,OR} > 0 ) \\\\\n",
    "\\end{array}\n",
    "\\right.\n",
    "$$\n",
    "$$\n",
    "\\displaystyle\n",
    "A_{ic,MR,NR} = \\left \\{\n",
    "\\begin{array}{ll}\n",
    "0 & ( A_{if,NR} = 0 ) \\\\\n",
    "\\frac{A_{if,NR}}{A_{if,OR}+A_{if,NR}} \\times A_{ic,MR} & ( A_{if,NR} > 0 ) \\\\\n",
    "\\end{array}\n",
    "\\right.\n",
    "$$\n",
    "\n",
    "$$\n",
    "\\displaystyle\n",
    "A_{ic,OR,MR} = \\left \\{\n",
    "\\begin{array}{ll}\n",
    "0 & ( A_{if,MR} = 0 ) \\\\\n",
    "\\frac{A_{if,MR}}{A_{if,MR}+A_{if,NR}} \\times A_{ic,OR} & ( A_{if,MR} > 0 ) \\\\\n",
    "\\end{array}\n",
    "\\right.\n",
    "$$\n",
    "$$\n",
    "\\displaystyle\n",
    "A_{ic,OR,NR} = \\left \\{\n",
    "\\begin{array}{ll}\n",
    "0 & ( A_{if,NR} = 0 ) \\\\\n",
    "\\frac{A_{if,NR}}{A_{if,MR}+A_{if,NR}} \\times A_{ic,OR} & ( A_{if,NR} > 0 ) \\\\\n",
    "\\end{array}\n",
    "\\right.\n",
    "$$\n",
    "\n",
    "$$\n",
    "\\displaystyle\n",
    "A_{ic,NR,MR} = \\left \\{\n",
    "\\begin{array}{ll}\n",
    "0 & ( A_{if,MR} = 0 ) \\\\\n",
    "\\frac{A_{if,MR}}{A_{if,MR}+A_{if,OR}} \\times A_{ic,NR} & ( A_{if,MR} > 0 ) \\\\\n",
    "\\end{array}\n",
    "\\right.\n",
    "$$\n",
    "$$\n",
    "\\displaystyle\n",
    "A_{ic,NR,OR} = \\left \\{\n",
    "\\begin{array}{ll}\n",
    "0 & ( A_{if,OR} = 0 ) \\\\\n",
    "\\frac{A_{if,OR}}{A_{if,MR}+A_{if,OR}} \\times A_{ic,NR} & ( A_{if,OR} > 0 ) \\\\\n",
    "\\end{array}\n",
    "\\right.\n",
    "$$"
   ]
  },
  {
   "cell_type": "markdown",
   "metadata": {},
   "source": [
    "$A_{ic,MR,OR}$: その他の居室との間の、主たる居室の天井の面積, m<sup>2</sup>  \n",
    "$A_{ic,MR,NR}$: 非居室との間の、主たる居室の天井の面積, m<sup>2</sup>  \n",
    "$A_{ic,OR,MR}$: 主たる居室との間の、その他の居室の天井の面積, m<sup>2</sup>  \n",
    "$A_{ic,OR,NR}$: 非居室との間の、その他の居室の天井の面積, m<sup>2</sup>  \n",
    "$A_{ic,NR,MR}$: 主たる居室との間の、非居室の天井の面積, m<sup>2</sup>  \n",
    "$A_{ic,NR,OR}$: その他の居室との間の、非居室の天井の面積, m<sup>2</sup>  \n",
    "$A_{if,MR}$: その他の居室または非居室との間の、主たる居室の床の面積, m<sup>2</sup>  \n",
    "$A_{if,OR}$: 主たる居室または非居室との間の、その他の居室の床の面積, m<sup>2</sup>  \n",
    "$A_{if,NR}$: 主たる居室またはその他の居室との、間の非居室の床の面積, m<sup>2</sup>  \n",
    "$A_{ic,MR}$: その他の居室または非居室との間の、主たる居室の天井の面積, m<sup>2</sup>  \n",
    "$A_{ic,OR}$: 主たる居室または非居室との間の、その他の居室の天井の面積, m<sup>2</sup>  \n",
    "$A_{ic,NR}$: 主たる居室またはその他の居室との間の、非居室の天井の面積, m<sup>2</sup>  "
   ]
  },
  {
   "cell_type": "markdown",
   "metadata": {},
   "source": [
    "#### Function 1"
   ]
  },
  {
   "cell_type": "code",
   "execution_count": 40,
   "metadata": {
    "collapsed": true
   },
   "outputs": [],
   "source": [
    "def get_area_slab_between_rooms_tuple(d, innerwalls):\n",
    "    \n",
    "    def get_A_if_dictionary(s_m, s_n, A_if_m, A_ic_n, A_ic_o) :\n",
    "        return ([\n",
    "            {\n",
    "                'name' : 'InnerFloor' + s_m + s_n,\n",
    "                'area' : A_if_m * A_ic_n / (A_ic_n + A_ic_o),\n",
    "                'space' : s_m,\n",
    "                'nextspace' : s_n\n",
    "            }\n",
    "        ])\n",
    "    \n",
    "    def get_A_ic_dictionary(s_m, s_n, A_ic_m, A_if_n, A_if_o) :\n",
    "        return ([\n",
    "            {\n",
    "                'name' : 'InnerCeiling' + s_m + s_n,\n",
    "                'area' : A_ic_m * A_if_n / (A_if_n + A_if_o),\n",
    "                'space' : s_m,\n",
    "                'nextspace' : s_n\n",
    "            }\n",
    "        ])\n",
    "    \n",
    "    # 室上の床面積の取得\n",
    "    A_if_MR, A_if_OR, A_if_NR = get_area_floor_over_room_tuple(d, innerwalls)\n",
    "    \n",
    "    # 室下の天井面積の取得\n",
    "    A_ic_MR, A_ic_OR, A_ic_NR = get_area_ceiling_below_room_tuple(d)\n",
    "\n",
    "    # 室上の床面積を、他の用途の室下の天井面積で案分する。\n",
    "    A_innerfloor=[]\n",
    "    if A_if_MR > 0 and A_ic_OR > 0 :\n",
    "        A_innerfloor.extend(get_A_if_dictionary('main', 'other', A_if_MR, A_ic_OR, A_ic_NR))\n",
    "    if A_if_MR > 0 and A_ic_NR > 0 :\n",
    "        A_innerfloor.extend(get_A_if_dictionary('main', 'nonliving', A_if_MR, A_ic_NR, A_ic_OR))\n",
    "    if A_if_OR > 0 and A_ic_MR > 0 :\n",
    "        A_innerfloor.extend(get_A_if_dictionary('other', 'main', A_if_OR, A_ic_MR, A_ic_NR))\n",
    "    if A_if_OR > 0 and A_ic_NR > 0 :\n",
    "        A_innerfloor.extend(get_A_if_dictionary('other', 'nonliving', A_if_OR, A_ic_NR, A_ic_MR))\n",
    "    if A_if_NR > 0 and A_ic_MR > 0 :\n",
    "        A_innerfloor.extend(get_A_if_dictionary('nonliving', 'main', A_if_NR, A_ic_MR, A_ic_OR))\n",
    "    if A_if_NR > 0 and A_ic_OR > 0 :\n",
    "        A_innerfloor.extend(get_A_if_dictionary('nonliving', 'other', A_if_NR, A_ic_OR, A_ic_MR))\n",
    "\n",
    "    # 室下の天井面積を、他の用途の室下上の床面積で案分する。\n",
    "    A_innerceiling=[]\n",
    "    if A_ic_MR > 0 and A_if_OR > 0 :\n",
    "        A_innerceiling.extend(get_A_ic_dictionary('main', 'other', A_ic_MR, A_if_OR, A_if_NR))\n",
    "    if A_ic_MR > 0 and A_if_NR > 0 :\n",
    "        A_innerceiling.extend(get_A_ic_dictionary('main', 'nonliving', A_ic_MR, A_if_NR, A_if_OR))\n",
    "    if A_ic_OR > 0 and A_if_MR > 0 :\n",
    "        A_innerceiling.extend(get_A_ic_dictionary('other', 'main', A_ic_OR, A_if_MR, A_if_NR))\n",
    "    if A_ic_OR > 0 and A_if_NR > 0 :\n",
    "        A_innerceiling.extend(get_A_ic_dictionary('other', 'nonliving', A_ic_OR, A_if_NR, A_if_MR))\n",
    "    if A_ic_NR > 0 and A_if_MR > 0 :\n",
    "        A_innerceiling.extend(get_A_ic_dictionary('nonliving', 'main', A_ic_NR, A_if_MR, A_if_OR))\n",
    "    if A_ic_NR > 0 and A_if_OR > 0 :\n",
    "        A_innerceiling.extend(get_A_ic_dictionary('nonliving', 'other', A_ic_NR, A_if_OR, A_if_MR))\n",
    "  \n",
    "    return {'InnerFloors' : A_innerfloor, 'InnerCeilings' : A_innerceiling}"
   ]
  },
  {
   "cell_type": "markdown",
   "metadata": {},
   "source": [
    "#### Function 2"
   ]
  },
  {
   "cell_type": "code",
   "execution_count": 41,
   "metadata": {
    "collapsed": true
   },
   "outputs": [],
   "source": [
    "def get_area_slab_between_rooms_dictionary(d, innerwalls):\n",
    "    \n",
    "    space = ['main', 'other', 'nonliving']  \n",
    "    \n",
    "    # 室上の床面積の取得\n",
    "    A_if =  get_area_floor_over_room_dictionary(d, innerwalls)\n",
    "    \n",
    "    # 室下の天井面積の取得\n",
    "    A_ic =  get_area_ceiling_below_room_dictionary(d)\n",
    "\n",
    "    # 室上の床面積を、他の用途の室下の天井面積で案分する。\n",
    "    A_innerfloor = []\n",
    "    for x in [['main', 'other', 'nonliving'], ['main', 'nonliving', 'other'], ['other', 'main', 'nonliving'], \\\n",
    "              ['other', 'nonliving', 'main'], ['nonliving', 'main', 'other'], ['nonliving', 'other', 'main']] :\n",
    "        \n",
    "        # 自室、隣接室、他の室の設定\n",
    "        s_m, s_n, s_o = x[0], x[1], x[2]\n",
    "\n",
    "        if A_if[s_m] > 0 and A_ic[s_n] > 0 :\n",
    "            A_innerfloor.extend([\n",
    "                {\n",
    "                    'name' : 'InnerFloor' + s_m + s_n,\n",
    "                    'area' : A_if[s_m] * A_ic[s_n] / (A_ic[s_n] + A_ic[s_o]),\n",
    "                    'space' : s_m,\n",
    "                    'nextspace' : s_n\n",
    "                }\n",
    "            ])\n",
    "\n",
    "    # 室下の天井面積を、他の用途の室下上の床面積で案分する。\n",
    "    A_innerceiling = []\n",
    "    for x in [['main', 'other', 'nonliving'], ['main', 'nonliving', 'other'], ['other', 'main', 'nonliving'], \\\n",
    "              ['other', 'nonliving', 'main'], ['nonliving', 'main', 'other'], ['nonliving', 'other', 'main']] :\n",
    "                \n",
    "        # 自室、隣接室、他の室の設定\n",
    "        s_m, s_n, s_o = x[0], x[1], x[2]\n",
    "        \n",
    "        if A_ic[s_m] > 0 and A_if[s_n] > 0 :\n",
    "            A_innerceiling.extend([\n",
    "                {\n",
    "                    'name' : 'InnerCeiling' + s_m + s_n,\n",
    "                    'area' : A_ic[s_m] * A_if[s_n] / (A_if[s_n] + A_if[s_o]),\n",
    "                    'space' : s_m,\n",
    "                    'nextspace' : s_n\n",
    "                }\n",
    "            ])\n",
    "  \n",
    "    return {'InnerFloors' : A_innerfloor, 'InnerCeilings' : A_innerceiling}"
   ]
  },
  {
   "cell_type": "markdown",
   "metadata": {},
   "source": [
    "#### Example"
   ]
  },
  {
   "cell_type": "code",
   "execution_count": 42,
   "metadata": {},
   "outputs": [
    {
     "name": "stdout",
     "output_type": "stream",
     "text": [
      "{'InnerFloors': [{'name': 'InnerFloorothernonliving', 'area': 60.0, 'space': 'other', 'nextspace': 'nonliving'}, {'name': 'InnerFloornonlivingother', 'area': 30.0, 'space': 'nonliving', 'nextspace': 'other'}], 'InnerCeilings': [{'name': 'InnerCeilingothernonliving', 'area': 60.0, 'space': 'other', 'nextspace': 'nonliving'}, {'name': 'InnerCeilingnonlivingother', 'area': 30.0, 'space': 'nonliving', 'nextspace': 'other'}]}\n",
      "{'InnerFloors': [{'name': 'InnerFloorothernonliving', 'area': 60.0, 'space': 'other', 'nextspace': 'nonliving'}, {'name': 'InnerFloornonlivingother', 'area': 30.0, 'space': 'nonliving', 'nextspace': 'other'}], 'InnerCeilings': [{'name': 'InnerCeilingothernonliving', 'area': 60.0, 'space': 'other', 'nextspace': 'nonliving'}, {'name': 'InnerCeilingnonlivingother', 'area': 30.0, 'space': 'nonliving', 'nextspace': 'other'}]}\n"
     ]
    }
   ],
   "source": [
    "d = {\n",
    "    'Common': {\n",
    "        'Region': 6,\n",
    "        'IsSimplifiedInput': False,\n",
    "        'MainOccupantRoomFloorArea': 30.0,\n",
    "        'OtherOccupantRoomFloorArea': 60.0,\n",
    "        'TotalFloorArea': 120.0\n",
    "    },\n",
    "    'Walls': [\n",
    "        { 'name': 'Ceiling', 'type': 'Ceiling', 'structure': 'wood', 'InputMethod' :'InputUA', \n",
    "          'direction': 'top', 'area': 60, 'space': 'main', 'UA': 0.24, 'IsSunshadeInput': False },\n",
    "        { 'name': 'Ceiling', 'type': 'Ceiling', 'structure': 'wood', 'InputMethod' :'InputAllDetails', 'direction': 'top', \n",
    "          'area': 60, 'space': 'main',\n",
    "          'Parts': [{'AreaRatio': 0.8, 'Layers': [{'name': 'wood','thick': 0.012, 'cond': 0.16, 'specH': 720 },\n",
    "                                                  {'name': 'wood','thick': 0.012, 'cond': 0.16, 'specH': 720 }]},\n",
    "                    {'AreaRatio': 0.2, 'Layers': [{'name': 'wood','thick': 0.012, 'cond': 0.16, 'specH': 720 },\n",
    "                                                  {'name': 'wood','thick': 0.012, 'cond': 0.16, 'specH': 720 }]}],\n",
    "          'IsSunshadeInput': False },\n",
    "        { 'name': 'Floor', 'type': 'Floor', 'structure': 'wood', 'InputMethod' :'InputAllLayers', 'direction': 'bottom', \n",
    "          'area': 60, 'space': 'main',\n",
    "          'FloorConstructionMethod' :'FrameInsulcolumn',\n",
    "          'Parts': [{'TypeFloor': 'Insulation', 'Layers': [{'name': 'wood','thick': 0.012, 'cond': 0.16, 'specH': 720 },\n",
    "                                                           {'name': 'wood','thick': 0.012, 'cond': 0.16, 'specH': 720 }]},\n",
    "                    {'TypeFloor': 'Heatbridge', 'Layers': [{'name': 'wood','thick': 0.012, 'cond': 0.16, 'specH': 720 },\n",
    "                                                           {'name': 'wood','thick': 0.012, 'cond': 0.16, 'specH': 720 }]}],\n",
    "           'IsSunshadeInput': False }\n",
    "    ],\n",
    "    'Windows': [\n",
    "        { 'name': 'WindowTop', 'direction': 'top', 'area': 30, 'space': 'main', 'UW': 6.51, 'TypeWindow': 'Single', \n",
    "          'IsEtaValueInput': False, 'TypeFrame': 'WoodOrResin', 'TypeGlass': '3WgG', 'TypeShade': 'Shoji', 'IsSunshadeInput': False }\n",
    "    ],\n",
    "    'Earthfloors': [\n",
    "        { 'name': 'other', 'area': 5.0, 'space': 'underfloor' },\n",
    "        { 'name': 'entrance', 'area': 5.0, 'space': 'underfloor' }\n",
    "    ]\n",
    "}\n",
    "\n",
    "innerwalls = [\n",
    "        { 'area': 60, 'name': 'GroundFloor_Main', 'type' : 'GroundFloor', 'spaces': ['main','underfloor'], 'direction' : 'Horizontal', 'Layers' : get_inner_floor_layers()},\n",
    "        { 'area': 15, 'name': 'GroundFloor_Other', 'type' : 'GroundFloor', 'spaces': ['other','underfloor'], 'direction' : 'Horizontal', 'Layers' : get_inner_floor_layers()},\n",
    "]\n",
    "\n",
    "innerwalls =  [\n",
    "    { 'area': 60, 'name': 'GroundFloor_Main', 'type' : 'GroundFloor', 'spaces': ['Main','Underfloor'], 'direction' : 'Horizontal', 'Layers' : get_inner_floor_layers()},\n",
    "    { 'area': 15, 'name': 'GroundFloor_Other', 'type' : 'GroundFloor', 'spaces': ['Other','Underfloor'], 'direction' : 'Horizontal', 'Layers' : get_inner_floor_layers()},\n",
    "]\n",
    "\n",
    "print(get_area_slab_between_rooms_tuple(d, innerwalls))\n",
    "print(get_area_slab_between_rooms_dictionary(d, innerwalls))"
   ]
  },
  {
   "cell_type": "markdown",
   "metadata": {},
   "source": [
    "### 5) 室間の床・天井の構築"
   ]
  },
  {
   "cell_type": "markdown",
   "metadata": {},
   "source": [
    "#### Function"
   ]
  },
  {
   "cell_type": "code",
   "execution_count": 43,
   "metadata": {
    "collapsed": true
   },
   "outputs": [],
   "source": [
    "def get_innerwall_innerslab(d, innerwalls):\n",
    "    \n",
    "    # 室間の床・天井面積の推定\n",
    "    areas_innerslab = get_area_slab_between_rooms_dictionary(d, innerwalls)\n",
    "    \n",
    "    # 壁体名称、部位面積を更新し、「壁体が属する空間種類」「隣接空間種類」を追加する\n",
    "    ifs = []\n",
    "    \n",
    "    ifs.extend([ {\n",
    "        'name' : 'InnerFloor_' + x['space'],\n",
    "        'type' : 'InnerFloor',\n",
    "        'direction' : 'Horizontal',\n",
    "        'area' : x['area'],\n",
    "        'Layers' : get_inner_floor_layers(),\n",
    "        'space' : x['space'], \n",
    "        'nextspace' : x['nextspace'],\n",
    "    } for x in areas_innerslab['InnerFloors'] ])\n",
    "    \n",
    "    ifs.extend([ {\n",
    "        'name' : 'InnerCeiling_' + x['space'],\n",
    "        'type' : 'InnerCeiling',\n",
    "        'direction' : 'Horizontal',\n",
    "        'area' : x['area'],\n",
    "        'Layers' : get_inner_floor_layers(),\n",
    "        'space' : x['space'], \n",
    "        'nextspace' : x['nextspace'],\n",
    "    } for x in areas_innerslab['InnerCeilings'] ])\n",
    "        \n",
    "    return ifs"
   ]
  },
  {
   "cell_type": "markdown",
   "metadata": {},
   "source": [
    "## 8.5. InnerWalls Element - Inner Wall "
   ]
  },
  {
   "cell_type": "markdown",
   "metadata": {},
   "source": [
    "### 1) 層構成"
   ]
  },
  {
   "cell_type": "markdown",
   "metadata": {},
   "source": [
    "以下の層構成とする。"
   ]
  },
  {
   "cell_type": "markdown",
   "metadata": {},
   "source": [
    "| 材料 | 厚さ, m | 熱伝導率, W m<sup>-1</sup> K<sup>-1</sup> | 熱抵抗, m<sup>2</sup>2 k W<sup>-1</sup> | 容積比熱, J L<sup>-1</sup> K<sup>-1</sup> |\n",
    "|---|---|---|---|\n",
    "| せっこうボード | 0.0125 | 0.22 | 0.0568 | 830.0 |\n",
    "| 非密閉空気層 | - | - | 0.090 | 0.0 |\n",
    "| せっこうボード | 0.0125 | 0.22 | 0.0568 | 830.0 |"
   ]
  },
  {
   "cell_type": "markdown",
   "metadata": {},
   "source": [
    "#### Function"
   ]
  },
  {
   "cell_type": "code",
   "execution_count": 44,
   "metadata": {
    "collapsed": true
   },
   "outputs": [],
   "source": [
    "def get_inner_wall_layers():\n",
    "    return [\n",
    "        {'name': 'GPB', 'cond': 0.22,   'thick': 0.0125, 'specH': 830.0},\n",
    "        {'name': 'GPB', 'cond': 1/0.09, 'thick': 1,      'specH': 0},\n",
    "        {'name': 'GPB', 'cond': 0.22,   'thick': 0.0125, 'specH': 830.0}\n",
    "    ]"
   ]
  },
  {
   "cell_type": "markdown",
   "metadata": {},
   "source": [
    "### 3) 内壁等面積の推定"
   ]
  },
  {
   "cell_type": "markdown",
   "metadata": {},
   "source": [
    "#### Outline"
   ]
  },
  {
   "cell_type": "markdown",
   "metadata": {},
   "source": [
    "用途間の内壁等の面積は、各用途の内壁等の面積より決定する。"
   ]
  },
  {
   "cell_type": "markdown",
   "metadata": {},
   "source": [
    "$$\n",
    "A_{iw,MR-OR} =\\frac{ A_{iw,MR} + A_{iw,OR} - A_{iw,NR} }{2}\n",
    "$$"
   ]
  },
  {
   "cell_type": "markdown",
   "metadata": {},
   "source": [
    "$$\n",
    "A_{iw,MR-NR} = \\frac{ A_{iw,MR} + A_{iw,NR} - A_{iw,OR} }{2}\n",
    "$$"
   ]
  },
  {
   "cell_type": "markdown",
   "metadata": {},
   "source": [
    "$$\n",
    "A_{iw,NR-OR} = \\frac{ A_{iw,NR} + A_{iw,OR} - A_{iw,MR} }{2}\n",
    "$$"
   ]
  },
  {
   "cell_type": "markdown",
   "metadata": {},
   "source": [
    "$ \\because $"
   ]
  },
  {
   "cell_type": "markdown",
   "metadata": {},
   "source": [
    "$$\n",
    "A_{iw,MR} =A_{iw,MR-OR}+A_{iw,MR-NR}\n",
    "$$\n",
    "\n",
    "$$\n",
    "A_{iw,OR} =A_{iw,MR-OR}+A_{iw,OR-NR}\n",
    "$$\n",
    "\n",
    "$$\n",
    "A_{iw,NR} =A_{iw,MR-OR}+A_{iw,OR-NR}\n",
    "$$"
   ]
  },
  {
   "cell_type": "markdown",
   "metadata": {},
   "source": [
    "$A_{iw,MR-OR}$: 主たる居室とその他の居室の間の内壁等の面積, m<sup>2</sup>  \n",
    "$A_{iw,MR-NR}$: 主たる居室と非居室の間の内壁等の面積, m<sup>2</sup>  \n",
    "$A_{iw,OR-NR}$: その他の居室と非居室の間の内壁等の面積, m<sup>2</sup>  \n",
    "$A_{iw,MR}$: 主たる居室の内壁等の面積, m<sup>2</sup>  \n",
    "$A_{iw,OR}$: その他の居室の内壁等の面積, m<sup>2</sup>  \n",
    "$A_{iw,NR}$: 非居室の内壁等の面積, m<sup>2</sup>  "
   ]
  },
  {
   "cell_type": "markdown",
   "metadata": {},
   "source": [
    "各用途の内壁等の面積は、各用途の内壁等の面積の暫定値より、用途間の内壁等の面積が0㎡以上となる範囲で決定する。"
   ]
  },
  {
   "cell_type": "markdown",
   "metadata": {},
   "source": [
    "$A_{iw,MR,temp}>A_{iw,OR,temp}+A_{iw,NR,temp}$ の場合"
   ]
  },
  {
   "cell_type": "markdown",
   "metadata": {},
   "source": [
    "　　$A_{OR}=0$ かつ $A_{NR}=0$ の場合"
   ]
  },
  {
   "cell_type": "markdown",
   "metadata": {},
   "source": [
    "$$A_{iw,MR} = 0, A_{iw,OR} = 0, A_{iw,NR} = 0$$"
   ]
  },
  {
   "cell_type": "markdown",
   "metadata": {},
   "source": [
    "　　$A_{OR}>0$ または $A_{NR}>0$ で、 $A_{iw,OR,temp}=0$ かつ $A_{iw,NR,temp}=0$ の場合"
   ]
  },
  {
   "cell_type": "markdown",
   "metadata": {},
   "source": [
    "$$\n",
    "A_{iw,MR} = A_{iw,MR,temp}\n",
    "$$\n",
    "$$\n",
    "A_{iw,OR} = A_{iw,MR,temp}\\times \\frac{A_{OR}}{A_{OR}+A_{NR}}\n",
    "$$\n",
    "$$\n",
    "A_{iw,NR} = A_{iw,MR,temp}\\times \\frac{A_{NR}}{A_{OR}+A_{NR}}\n",
    "$$"
   ]
  },
  {
   "cell_type": "markdown",
   "metadata": {},
   "source": [
    "　　$A_{OR}>0$ または $A_{NR}>0$ で、 $A_{iw,OR,temp}>0$ または $A_{iw,NR,temp}>0$ の場合"
   ]
  },
  {
   "cell_type": "markdown",
   "metadata": {},
   "source": [
    "$$\n",
    "A_{iw,MR} = A_{iw,MR,temp}\n",
    "$$\n",
    "$$\n",
    "A_{iw,OR} = A_{iw,MR,temp}\\times \\frac{A_{iw,OR,temp}}{A_{iw,OR,temp}+A_{iw,NR,temp}}\n",
    "$$\n",
    "$$\n",
    "A_{iw,NR} = A_{iw,MR,temp}\\times \\frac{A_{iw,NR,temp}}{A_{iw,OR,temp}+A_{iw,NR,temp}}\n",
    "$$"
   ]
  },
  {
   "cell_type": "markdown",
   "metadata": {},
   "source": [
    "$A_{iw,OR,temp}>A_{iw,MR,temp}+A_{iw,NR,temp}$ の場合"
   ]
  },
  {
   "cell_type": "markdown",
   "metadata": {},
   "source": [
    "　　$A_{MR}=0$ かつ $A_{NR}=0$ の場合"
   ]
  },
  {
   "cell_type": "markdown",
   "metadata": {},
   "source": [
    "$$A_{iw,MR} = 0, A_{iw,OR} = 0, A_{iw,NR} = 0$$"
   ]
  },
  {
   "cell_type": "markdown",
   "metadata": {},
   "source": [
    "　　$A_{OR}>0$ または $A_{NR}>0$ で、 $A_{iw,OR,temp}=0$ かつ $A_{iw,NR,temp}=0$ の場合"
   ]
  },
  {
   "cell_type": "markdown",
   "metadata": {},
   "source": [
    "$$\n",
    "A_{iw,OR} = A_{iw,OR,temp}\n",
    "$$\n",
    "$$\n",
    "A_{iw,MR} = A_{iw,OR,temp}\\times \\frac{A_{MR}}{A_{MR}+A_{NR}}\n",
    "$$\n",
    "$$\n",
    "A_{iw,NR} = A_{iw,OR,temp}\\times \\frac{A_{NR}}{A_{MR}+A_{NR}}\n",
    "$$"
   ]
  },
  {
   "cell_type": "markdown",
   "metadata": {},
   "source": [
    "　　$A_{OR}>0$ または $A_{NR}>0$ で、 $A_{iw,OR,temp}>0$ または $A_{iw,NR,temp}>0$ の場合"
   ]
  },
  {
   "cell_type": "markdown",
   "metadata": {},
   "source": [
    "$$\n",
    "A_{iw,OR} = A_{iw,OR,temp}\n",
    "$$\n",
    "$$\n",
    "A_{iw,MR} = A_{iw,OR,temp}\\times \\frac{A_{iw,MR,temp}}{A_{iw,MR,temp}+A_{iw,NR,temp}}\n",
    "$$\n",
    "$$\n",
    "A_{iw,NR} = A_{iw,OR,temp}\\times \\frac{A_{iw,NR,temp}}{A_{iw,MR,temp}+A_{iw,NR,temp}}\n",
    "$$"
   ]
  },
  {
   "cell_type": "markdown",
   "metadata": {},
   "source": [
    "$A_{iw,NR,temp}>A_{iw,MR,temp}+A_{iw,OR,temp}$ の場合"
   ]
  },
  {
   "cell_type": "markdown",
   "metadata": {},
   "source": [
    "　　$A_{MR}=0$ かつ $A_{OR}=0$ の場合"
   ]
  },
  {
   "cell_type": "markdown",
   "metadata": {},
   "source": [
    "$$A_{iw,MR} = 0, A_{iw,OR} = 0, A_{iw,NR} = 0$$"
   ]
  },
  {
   "cell_type": "markdown",
   "metadata": {},
   "source": [
    "　　$A_{OR}>0$ または $A_{NR}>0$ で、 $A_{iw,OR,temp}=0$ かつ $A_{iw,NR,temp}=0$ の場合"
   ]
  },
  {
   "cell_type": "markdown",
   "metadata": {},
   "source": [
    "$$\n",
    "A_{iw,NR} = A_{iw,NR,temp}\n",
    "$$\n",
    "$$\n",
    "A_{iw,MR} = A_{iw,NR,temp}\\times \\frac{A_{MR}}{A_{MR}+A_{OR}}\n",
    "$$\n",
    "$$\n",
    "A_{iw,OR} = A_{iw,NR,temp}\\times \\frac{A_{OR}}{A_{MR}+A_{OR}}\n",
    "$$"
   ]
  },
  {
   "cell_type": "markdown",
   "metadata": {},
   "source": [
    "　　$A_{OR}>0$ または $A_{NR}>0$ で、 $A_{iw,OR,temp}>0$ または $A_{iw,NR,temp}>0$ の場合"
   ]
  },
  {
   "cell_type": "markdown",
   "metadata": {},
   "source": [
    "$$\n",
    "A_{iw,NR} = A_{iw,NR,temp}\n",
    "$$\n",
    "$$\n",
    "A_{iw,MR} = A_{iw,NR,temp}\\times \\frac{A_{iw,MR,temp}}{A_{iw,MR,temp}+A_{iw,OR,temp}}\n",
    "$$\n",
    "$$\n",
    "A_{iw,OR} = A_{iw,NR,temp}\\times \\frac{A_{iw,OR,temp}}{A_{iw,MR,temp}+A_{iw,OR,temp}}\n",
    "$$"
   ]
  },
  {
   "cell_type": "markdown",
   "metadata": {},
   "source": [
    "上記以外の場合"
   ]
  },
  {
   "cell_type": "markdown",
   "metadata": {},
   "source": [
    "$$A_{iw,MR} = A_{iw,MR,temp}, A_{iw,OR} = A_{iw,OR,temp}, A_{iw,NR} = A_{iw,NR,temp}$$"
   ]
  },
  {
   "cell_type": "markdown",
   "metadata": {},
   "source": [
    "$A_{MR}$: 主たる居室の床面積, m<sup>2</sup>  \n",
    "$A_{OR}$: その他の居室の床面積, m<sup>2</sup>  \n",
    "$A_{NR}$: 非居室の床面積, m<sup>2</sup>   \n",
    "$A_{iw,MR,temp}$: 主たる居室の内壁等の面積の暫定値, m<sup>2</sup>  \n",
    "$A_{iw,OR,temp}$: その他の居室の内壁等の面積の暫定値, m<sup>2</sup>  \n",
    "$A_{iw,NR,temp}$: 非居室の内壁等の面積の暫定値, m<sup>2</sup>  "
   ]
  },
  {
   "cell_type": "markdown",
   "metadata": {},
   "source": [
    "各用途の内壁等の面積の暫定値は、室の周長を求める際の係数（アスペクト比）と階高を仮定して、外皮の用途別情報および用途別床面積より推定する。"
   ]
  },
  {
   "cell_type": "markdown",
   "metadata": {},
   "source": [
    "$$\n",
    "A_{iw,MR,temp} = \\left \\{\n",
    "\\begin{array}{ll}\n",
    "0 & ( A_{MR} = 0 ) \\\\\n",
    "A_{w,MR} - A_{ow,MR} = \\max \\left ( 0,4 \\cdot ar_{MR} \\cdot h \\sqrt {A_{MR}} - A_{ow,MR} \\right ) & ( A_{MR} > 0 )\n",
    "\\end{array}\n",
    "\\right.\n",
    "$$"
   ]
  },
  {
   "cell_type": "markdown",
   "metadata": {},
   "source": [
    "$$\n",
    "A_{iw,OR,temp} = \\left \\{\n",
    "\\begin{array}{ll}\n",
    "0 & ( A_{OR} = 0 ) \\\\\n",
    "A_{w,OR} - A_{ow,OR} = \\max \\left ( 0, 4 \\cdot ar_{NR} \\cdot h \\sqrt {A_{OR}} - A_{ow,OR} \\right ) & ( A_{OR} > 0 )\n",
    "\\end{array}\n",
    "\\right.\n",
    "$$"
   ]
  },
  {
   "cell_type": "markdown",
   "metadata": {},
   "source": [
    "$$\n",
    "A_{iw,NR,temp} = \\left \\{\n",
    "\\begin{array}{ll}\n",
    "0 & ( A_{NR} = 0 ) \\\\\n",
    "A_{w,NR} - A_{ow,NR} = \\max \\left ( 0, 4 \\cdot ar_{OR} \\cdot h \\sqrt {A_{NR}} - A_{ow,NR} \\right ) & ( A_{NR} > 0 )\n",
    "\\end{array}\n",
    "\\right.\n",
    "$$"
   ]
  },
  {
   "cell_type": "markdown",
   "metadata": {},
   "source": [
    "$A_{w,MR}$: 主たる居室の鉛直面の外皮と内壁の面積の合計, m<sup>2</sup>  \n",
    "$A_{w,OR}$: その他の居室の鉛直面の外皮と内壁の面積の合計, m<sup>2</sup>  \n",
    "$A_{w,NR}$: 非居室の鉛直面の外皮と内壁の面積の合計, m<sup>2</sup>  \n",
    "$A_{ow,MR}$: 主たる居室の鉛直面の外皮の面積の合計, m<sup>2</sup>  \n",
    "$A_{ow,OR}$: その他の居室の鉛直面の外皮の面積の合計, m<sup>2</sup>  \n",
    "$A_{ow,NR}$: 非居室の鉛直面の外皮の面積の合計, m<sup>2</sup>  \n",
    "$ar_{MR}$: 主たる居室の周長を求める際の係数, -  \n",
    "$ar_{OR}$: その他の居室の周長を求める際の係数, -  \n",
    "$ar_{NR}$: 非居室の周長を求める際の係数, -  \n",
    "$h$: 階高, m"
   ]
  },
  {
   "cell_type": "markdown",
   "metadata": {},
   "source": [
    "#### Function"
   ]
  },
  {
   "cell_type": "code",
   "execution_count": 45,
   "metadata": {
    "collapsed": true
   },
   "outputs": [],
   "source": [
    "#  室用途別の内壁等の面積\n",
    "def get_A_ow_for_space(d_ow, s):\n",
    "    # s : space name       \n",
    "    return sum(y['area'] for y in d_ow if (y['space'] == s and y['direction'] != 'top' and y['direction'] != 'bottom'))"
   ]
  },
  {
   "cell_type": "code",
   "execution_count": 46,
   "metadata": {
    "collapsed": true
   },
   "outputs": [],
   "source": [
    "# 内壁等の面積の暫定値の取得\n",
    "def get_A_iw_temp(A_f, ar, A_ow):\n",
    "\n",
    "    h = 2.8 # 階高, m\n",
    "\n",
    "    return max(0.0, 4 * h * ar * A_f**0.5 - A_ow) if A_f > 0.0 else 0.0"
   ]
  },
  {
   "cell_type": "markdown",
   "metadata": {},
   "source": [
    "#### Function 1"
   ]
  },
  {
   "cell_type": "code",
   "execution_count": 47,
   "metadata": {
    "collapsed": true
   },
   "outputs": [],
   "source": [
    "# 居室の外皮と床下空間との間の床の面積の合計を取得\n",
    "def get_A_ow_tuple(d):\n",
    "\n",
    "    # 室用途別の内壁等の面積\n",
    "    d_ow=[]\n",
    "    for y in ['Walls', 'Windows', 'Doors']:\n",
    "        if (y in d) == True :\n",
    "            d_ow.extend(d[y])\n",
    "\n",
    "    A_ow_MR, A_ow_OR,A_ow_NR = get_A_ow_for_space(d_ow,'Main'), get_A_ow_for_space(d_ow,'Other'), get_A_ow_for_space(d_ow,'Nonliving')\n",
    "\n",
    "    return A_ow_MR, A_ow_OR, A_ow_NR"
   ]
  },
  {
   "cell_type": "code",
   "execution_count": 48,
   "metadata": {
    "collapsed": true
   },
   "outputs": [],
   "source": [
    "# 内壁等の面積の取得\n",
    "def get_A_iw_tuple(A_MR, A_OR, A_NR,A_iw_space_MR_temp, A_iw_space_OR_temp, A_iw_space_NR_temp):\n",
    "\n",
    "    if A_iw_space_MR_temp > A_iw_space_OR_temp + A_iw_space_NR_temp :\n",
    "        if A_OR == 0 and A_NR == 0 :\n",
    "            A_iw_space_MR, A_iw_space_OR, A_iw_space_NR = 0, 0, 0\n",
    "        elif A_iw_space_OR_temp == 0 and A_iw_space_NR_temp == 0 :\n",
    "            A_iw_space_MR = A_iw_space_MR_temp\n",
    "            A_iw_space_OR = A_iw_space_MR_temp * A_OR/(A_OR + A_NR)\n",
    "            A_iw_space_NR = A_iw_space_MR_temp * A_NR/(A_OR + A_NR)\n",
    "        else :\n",
    "            A_iw_space_MR = A_iw_space_MR_temp\n",
    "            A_iw_space_OR = A_iw_space_MR_temp * A_iw_space_OR_temp/(A_iw_space_OR_temp + A_iw_space_NR_temp)\n",
    "            A_iw_space_NR = A_iw_space_MR_temp * A_iw_space_NR_temp/(A_iw_space_OR_temp + A_iw_space_NR_temp)\n",
    "            \n",
    "    elif A_iw_space_OR_temp > A_iw_space_MR_temp + A_iw_space_NR_temp :\n",
    "        if A_MR == 0 and A_NR == 0 :\n",
    "            A_iw_space_MR, A_iw_space_OR, A_iw_space_NR = 0, 0, 0\n",
    "        elif A_iw_space_MR_temp == 0 and A_iw_space_NR_temp == 0 :\n",
    "            A_iw_space_OR = A_iw_space_OR_temp\n",
    "            A_iw_space_MR = A_iw_space_OR_temp * A_MR/(A_MR + A_NR)\n",
    "            A_iw_space_NR = A_iw_space_OR_temp * A_NR/(A_MR + A_NR)\n",
    "        else :\n",
    "            A_iw_space_OR = A_iw_space_OR_temp\n",
    "            A_iw_space_MR = A_iw_space_OR_temp * A_iw_space_MR_temp/(A_iw_space_MR_temp + A_iw_space_NR_temp)\n",
    "            A_iw_space_NR = A_iw_space_OR_temp * A_iw_space_NR_temp/(A_iw_space_MR_temp + A_iw_space_NR_temp)\n",
    "            \n",
    "    elif A_iw_space_NR_temp > A_iw_space_MR_temp + A_iw_space_OR_temp :\n",
    "        if A_MR == 0 and A_OR == 0 :\n",
    "            A_iw_space_MR, A_iw_space_OR, A_iw_space_NR = 0, 0, 0\n",
    "        elif A_iw_space_MR_temp == 0 and A_iw_space_OR_temp == 0 :\n",
    "            A_iw_space_NR = A_iw_space_NR_temp\n",
    "            A_iw_space_MR = A_iw_space_NR_temp * A_MR/(A_MR + A_OR)\n",
    "            A_iw_space_OR = A_iw_space_NR_temp * A_OR/(A_MR + A_OR)\n",
    "        else :\n",
    "            A_iw_space_NR = A_iw_space_NR_temp\n",
    "            A_iw_space_MR = A_iw_space_NR_temp * A_iw_space_MR_temp/(A_iw_space_MR_temp + A_iw_space_OR_temp)\n",
    "            A_iw_space_OR = A_iw_space_NR_temp * A_iw_space_OR_temp/(A_iw_space_MR_temp + A_iw_space_OR_temp)\n",
    "            \n",
    "    else :\n",
    "        A_iw_space_MR, A_iw_space_OR, A_iw_space_NR = A_iw_space_MR_temp, A_iw_space_OR_temp, A_iw_space_NR_temp\n",
    "\n",
    "    return A_iw_space_MR, A_iw_space_OR, A_iw_space_NR"
   ]
  },
  {
   "cell_type": "code",
   "execution_count": 49,
   "metadata": {
    "collapsed": true
   },
   "outputs": [],
   "source": [
    "# 室用途間の内壁等の面積の推定\n",
    "# 室用途床面積が0㎡の場合に、室間の内壁等の面積を0㎡とする\n",
    "def get_A_iw_cor_tuple(A_iw_min, A_iw_s1, A_iw_s2, A_iw_os):\n",
    "    return max(A_iw_min, (A_iw_s1 + A_iw_s2 - A_iw_os)/2)"
   ]
  },
  {
   "cell_type": "code",
   "execution_count": 50,
   "metadata": {
    "collapsed": true
   },
   "outputs": [],
   "source": [
    "def get_area_inner_wall_tuple(d):\n",
    "    \n",
    "    # 周長を求める際の係数, -\n",
    "    ar_MR, ar_OR, ar_NR = 1.2, 1.4, 1.4\n",
    "\n",
    "    # 用途別床面積の取得\n",
    "    A_MR, A_OR, A_NR = get_area_floor_tuple(d['Common'])\n",
    " \n",
    "    # 居室の外皮と床下空間との間の床の面積の合計を取得\n",
    "    A_ow_MR, A_ow_OR, A_ow_NR = get_A_ow_tuple(d)\n",
    "\n",
    "    # 内壁等の面積の暫定値の取得\n",
    "    A_iw_space_MR_temp = get_A_iw_temp(A_MR, ar_MR, A_ow_MR)\n",
    "    A_iw_space_OR_temp = get_A_iw_temp(A_OR, ar_OR, A_ow_OR)\n",
    "    A_iw_space_NR_temp = get_A_iw_temp(A_NR, ar_NR, A_ow_NR)\n",
    "\n",
    "    # 内壁等の面積の取得\n",
    "    A_iw_space_MR, A_iw_space_OR, A_iw_space_NR = get_A_iw_tuple(A_MR, A_OR, A_NR, A_iw_space_MR_temp, A_iw_space_OR_temp, A_iw_space_NR_temp)\n",
    "    \n",
    "    # 室間の内壁等の面積の最小値, m2\n",
    "    A_iw_min_MR_to_OR, A_iw_min_MR_to_NR, A_iw_min_OR_to_NR = 0.0, 0.0, 0.0\n",
    "    \n",
    "    # 室用途間の内壁等の面積の推定\n",
    "    return get_A_iw_cor_tuple(A_iw_min_MR_to_OR, A_iw_space_MR, A_iw_space_OR, A_iw_space_NR), \\\n",
    "           get_A_iw_cor_tuple(A_iw_min_MR_to_NR, A_iw_space_MR, A_iw_space_NR, A_iw_space_OR), \\\n",
    "           get_A_iw_cor_tuple(A_iw_min_OR_to_NR, A_iw_space_OR, A_iw_space_NR, A_iw_space_MR)"
   ]
  },
  {
   "cell_type": "markdown",
   "metadata": {},
   "source": [
    "#### Function 2"
   ]
  },
  {
   "cell_type": "code",
   "execution_count": 51,
   "metadata": {
    "collapsed": true
   },
   "outputs": [],
   "source": [
    "# 居室の外皮と床下空間との間の床の面積の合計を取得\n",
    "def get_A_ow_dictionary(d):\n",
    "\n",
    "    # 室用途別の内壁等の面積\n",
    "    d_ow=[]\n",
    "    for y in ['Walls', 'Windows', 'Doors']:\n",
    "        if (y in d) == True :\n",
    "            d_ow.extend(d[y])\n",
    "\n",
    "    return { x: get_A_ow_for_space(d_ow, x) for x in ['main', 'other', 'nonliving']}"
   ]
  },
  {
   "cell_type": "code",
   "execution_count": 52,
   "metadata": {
    "collapsed": true
   },
   "outputs": [],
   "source": [
    "# 内壁等の面積の取得\n",
    "def get_A_iw_dictionary(A, A_iw_space_temp):\n",
    "\n",
    "    A_sum = sum(A[x] for x in A_iw_space_temp.keys())\n",
    "    A_iw_space_temp_sum = sum(A_iw_space_temp[x] for x in A_iw_space_temp.keys())\n",
    "    \n",
    "    A_iw_space = {x:A_iw_space_temp[x] for x in A_iw_space_temp.keys()}\n",
    "    \n",
    "    for x in ['main', 'other', 'nonliving'] :   \n",
    "        \n",
    "        # 用途間の内壁等の面積が0㎡以上となるよう、各用途の内壁等の面積を調整\n",
    "        if 2*A_iw_space_temp[x] > A_iw_space_temp_sum :\n",
    "            \n",
    "            # 他の2用途の床面積が0㎡の場合は、全用途の内壁等の面積を0㎡とする\n",
    "            if A[x] == A_sum :\n",
    "                A_iw_space = {y:0 for y in ['main', 'other', 'nonliving']}\n",
    "                \n",
    "            # 他の2用途の内壁等の面積の暫定値が0㎡の場合は、他の2用途の内壁等の面積を、用途別床面積に応じて決定\n",
    "            elif A_iw_space_temp[x] == A_iw_space_temp_sum :\n",
    "                for y in ['main', 'other', 'nonliving'] :\n",
    "                    if x == y :\n",
    "                        A_iw_space[y] = A_iw_space_temp[y]\n",
    "                    else :\n",
    "                        A_iw_space[y] = A_iw_space_temp[x] * A[y]/(A_sum - A[x])\n",
    "                        \n",
    "            # 他の2用途の内壁等の面積を、内壁等の面積の暫定値に応じて決定            \n",
    "            else :\n",
    "                for y in ['main', 'other', 'nonliving'] :\n",
    "                    if x == y :\n",
    "                        A_iw_space[y] = A_iw_space_temp[y]\n",
    "                    else :\n",
    "                        A_iw_space[y] = A_iw_space_temp[x] * A_iw_space_temp[y]/(A_iw_space_temp_sum - A_iw_space_temp[x])\n",
    "                \n",
    "    return A_iw_space"
   ]
  },
  {
   "cell_type": "code",
   "execution_count": 53,
   "metadata": {
    "collapsed": true
   },
   "outputs": [],
   "source": [
    "# 室用途間の内壁等の面積の推定\n",
    "# 室用途床面積が0㎡の場合に、室間の内壁等の面積を0㎡とする\n",
    "def get_A_iw_cor_dictionary(A_iw_min, A_iw_s1, A_iw_s2, A_iw_sum):\n",
    "    return max(A_iw_min, (2*(A_iw_s1 + A_iw_s2) - A_iw_sum)/2)"
   ]
  },
  {
   "cell_type": "code",
   "execution_count": 54,
   "metadata": {
    "collapsed": true
   },
   "outputs": [],
   "source": [
    "def get_area_inner_wall_dictionary(d, c):\n",
    "    # c : correspondence of spaces\n",
    "\n",
    "    # 周長を求める際の係数, -\n",
    "    ar = {'main': 1.2, 'other': 1.4, 'nonliving': 1.4}\n",
    "\n",
    "    # 用途別床面積の取得\n",
    "    A = get_area_floor_dictionary(d['Common'])\n",
    " \n",
    "    # 居室の外皮と床下空間との間の床の面積の合計を取得\n",
    "    A_ow = get_A_ow_dictionary(d)\n",
    "\n",
    "    # 内壁等の面積の取得\n",
    "    A_iw_space_temp = { x: get_A_iw_temp(A[x], ar[x], A_ow[x]) for x in ['main', 'other', 'nonliving']}\n",
    "    A_iw_space = get_A_iw_dictionary(A, A_iw_space_temp)\n",
    "    A_iw_space_sum = sum(A_iw_space[x] for x in A_iw_space.keys())\n",
    "\n",
    "    # 室間の内壁等の面積の最小値, m2\n",
    "    A_iw_min = {'main to other': 0.0, 'main to nonliving': 0.0, 'other to nonliving': 0.0}\n",
    "    \n",
    "    # 室用途間の内壁等の面積の推定\n",
    "    return { x: get_A_iw_cor_dictionary(A_iw_min[x], A_iw_space[c[x][0]], A_iw_space[c[x][1]], A_iw_space_sum) for x in c.keys()}"
   ]
  },
  {
   "cell_type": "markdown",
   "metadata": {},
   "source": [
    "#### Example"
   ]
  },
  {
   "cell_type": "code",
   "execution_count": 55,
   "metadata": {},
   "outputs": [
    {
     "name": "stdout",
     "output_type": "stream",
     "text": [
      "(54.59388622447443, 19.020025504219888, 66.86287151259015)\n",
      "{'main to other': 54.59388622447443, 'main to nonliving': 19.020025504219888, 'other to nonliving': 66.86287151259015}\n"
     ]
    }
   ],
   "source": [
    "correspondence = {\n",
    "    'main to other': ['main', 'other'],\n",
    "    'main to nonliving': ['main', 'nonliving'],\n",
    "    'other to nonliving': ['other', 'nonliving'] \n",
    "}  \n",
    "\n",
    "d = {\n",
    "    'Common': {\n",
    "        'Region': 6,\n",
    "        'IsSimplifiedInput': False,\n",
    "        'MainOccupantRoomFloorArea': 30.0,\n",
    "        'OtherOccupantRoomFloorArea': 60.0,\n",
    "        'TotalFloorArea': 120.0\n",
    "    },\n",
    "    'Walls': [\n",
    "        { 'name': 'Ceiling', 'type': 'Ceiling', 'structure': 'wood', 'InputMethod' :'InputUA', \n",
    "          'direction': 'top', 'area': 60, 'space': 'main', 'UA': 0.24, 'IsSunshadeInput': False },\n",
    "        { 'name': 'Ceiling', 'type': 'Ceiling', 'structure': 'wood', 'InputMethod' :'InputAllDetails', 'direction': 'top', \n",
    "          'IsInContactWithOutsideAir': True, 'area': 60, 'space': 'main',\n",
    "          'Parts': [{'AreaRatio': 0.8, 'Layers': [{'name': 'wood','thick': 0.012, 'cond': 0.16, 'specH': 720 },\n",
    "                                                  {'name': 'wood','thick': 0.012, 'cond': 0.16, 'specH': 720 }]},\n",
    "                    {'AreaRatio': 0.2, 'Layers': [{'name': 'wood','thick': 0.012, 'cond': 0.16, 'specH': 720 },\n",
    "                                                  {'name': 'wood','thick': 0.012, 'cond': 0.16, 'specH': 720 }]}],\n",
    "          'IsSunshadeInput': False },\n",
    "        { 'name': 'Floor', 'type': 'Floor', 'structure': 'wood', 'InputMethod' :'InputAllLayers', 'direction': 'bottom', \n",
    "          'IsInContactWithOutsideAir': True, 'area': 60, 'space': 'main',\n",
    "          'FloorConstructionMethod' :'FrameInsulcolumn',\n",
    "          'Parts': [{'TypeFloor': 'Insulation', 'Layers': [{'name': 'wood','thick': 0.012, 'cond': 0.16, 'specH': 720 },\n",
    "                                                           {'name': 'wood','thick': 0.012, 'cond': 0.16, 'specH': 720 }]},\n",
    "                    {'TypeFloor': 'Heatbridge', 'Layers': [{'name': 'wood','thick': 0.012, 'cond': 0.16, 'specH': 720 },\n",
    "                                                           {'name': 'wood','thick': 0.012, 'cond': 0.16, 'specH': 720 }]}],\n",
    "           'IsSunshadeInput': False }\n",
    "    ],\n",
    "    'Windows': [\n",
    "        { 'name': 'WindowTop', 'direction': 'top', 'area': 30, 'space': 'main', 'UW': 6.51, 'TypeWindow': 'Single', \n",
    "          'IsEtaValueInput': False, 'TypeFrame': 'WoodOrResin', 'TypeGlass': '3WgG', 'TypeShade': 'Shoji', 'IsSunshadeInput': False }\n",
    "    ],\n",
    "    'Earthfloors': [\n",
    "        { 'name': 'other', 'area': 5.0, 'space': 'underfloor' },\n",
    "        { 'name': 'entrance', 'area': 5.0, 'space': 'underfloor' }\n",
    "    ]\n",
    "}\n",
    "\n",
    "innerwalls = [\n",
    "        { 'area': 60, 'name': 'GroundFloor_Main', 'type' : 'GroundFloor', 'spaces': ['main','underfloor'], 'direction' : 'Horizontal', 'Layers' : get_inner_floor_layers()},\n",
    "        { 'area': 15, 'name': 'GroundFloor_Other', 'type' : 'GroundFloor', 'spaces': ['other','underfloor'], 'direction' : 'Horizontal', 'Layers' : get_inner_floor_layers()},\n",
    "]\n",
    "\n",
    "print(get_area_inner_wall_tuple(d))\n",
    "print(get_area_inner_wall_dictionary(d, correspondence))"
   ]
  },
  {
   "cell_type": "markdown",
   "metadata": {},
   "source": [
    "### 3) 内壁の構築"
   ]
  },
  {
   "cell_type": "markdown",
   "metadata": {},
   "source": [
    "#### Function 1"
   ]
  },
  {
   "cell_type": "code",
   "execution_count": 56,
   "metadata": {
    "collapsed": true
   },
   "outputs": [],
   "source": [
    "def get_innerwall_wall_tuple(d):\n",
    "\n",
    "    # 内壁面積の推定\n",
    "    A_iw_MR_OR, A_iw_MR_NR, A_iw_OR_NR = get_area_inner_wall_tuple(d)\n",
    "    \n",
    "    # 壁体名称、部位面積を更新し、「壁体が属する空間種類」「隣接空間種類」を追加する\n",
    "    iws = []\n",
    "\n",
    "    if A_iw_MR_OR > 0 :\n",
    "        iws.extend([{\n",
    "            'name' : 'Innerwall_main to other',\n",
    "            'type' : 'InnerWall',\n",
    "            'direction' : 'Vertical',\n",
    "            'Layers' : get_inner_wall_layers(),\n",
    "            'area' : A_iw_MR_OR,\n",
    "            'spaces' : ['main', 'other']\n",
    "        }])\n",
    "\n",
    "    if A_iw_MR_NR > 0 :\n",
    "        iws.extend([{\n",
    "            'name' : 'Innerwall_main to nonliving',\n",
    "            'type' : 'InnerWall',\n",
    "            'direction' : 'Vertical',\n",
    "            'Layers' : get_inner_wall_layers(),\n",
    "            'area' : A_iw_MR_NR,\n",
    "            'spaces' : ['main', 'nonliving']\n",
    "        }])\n",
    "\n",
    "    if A_iw_OR_NR > 0 :\n",
    "        iws.extend([{\n",
    "            'name' : 'Innerwall_other to nonliving',\n",
    "            'type' : 'InnerWall',\n",
    "            'direction' : 'Vertical',\n",
    "            'Layers' : get_inner_wall_layers(),\n",
    "            'area' : A_iw_OR_NR,\n",
    "            'spaces' : ['other', 'nonliving']\n",
    "        }])\n",
    "\n",
    "    return iws"
   ]
  },
  {
   "cell_type": "markdown",
   "metadata": {},
   "source": [
    "#### Function 2"
   ]
  },
  {
   "cell_type": "code",
   "execution_count": 57,
   "metadata": {
    "collapsed": true
   },
   "outputs": [],
   "source": [
    "def get_innerwall_wall_dictionary(d):\n",
    "\n",
    "    # 用途と複数用途間の対応関係の定義\n",
    "    correspondence = {\n",
    "        'main to other': ['main', 'other'],\n",
    "        'main to nonliving': ['main', 'nonliving'],\n",
    "        'other to nonliving': ['other', 'nonliving'] \n",
    "    }  \n",
    "\n",
    "    # 内壁面積の推定\n",
    "    areas_innerwall = get_area_inner_wall_dictionary(d, correspondence)\n",
    "    \n",
    "    # 壁体名称、部位面積を更新し、「壁体が属する空間種類」「隣接空間種類」を追加する\n",
    "    iws = []\n",
    "\n",
    "    for c in correspondence.keys() :\n",
    "        if areas_innerwall[c] > 0 :\n",
    "            iws.extend([ {\n",
    "                'name' : 'Innerwall_' + c,\n",
    "                'type' : 'InnerWall',\n",
    "                'direction' : 'Vertical',\n",
    "                'Layers' : get_inner_wall_layers(),\n",
    "                'area' : areas_innerwall[c],\n",
    "                'spaces' : correspondence[c]\n",
    "            }])\n",
    "\n",
    "    return iws"
   ]
  },
  {
   "cell_type": "markdown",
   "metadata": {},
   "source": [
    "## 8.3. InnerWalls Element - 統合"
   ]
  },
  {
   "cell_type": "markdown",
   "metadata": {},
   "source": [
    "#### Function"
   ]
  },
  {
   "cell_type": "code",
   "execution_count": 58,
   "metadata": {
    "collapsed": true
   },
   "outputs": [],
   "source": [
    "def convert_innerwall( d ):\n",
    "\n",
    "    innerwalls =[]\n",
    "    \n",
    "    # 室と床下空間の間の床の推定\n",
    "    innerwalls.extend(get_innerwall_groundfloor_dictionary(d))\n",
    "    \n",
    "    # 室間の床・天井の推定\n",
    "    innerwalls.extend(get_innerwall_innerslab(d, innerwalls))\n",
    "    \n",
    "    # 内壁等の推定              \n",
    "    innerwalls.extend(get_innerwall_wall_dictionary(d))\n",
    "            \n",
    "    return innerwalls"
   ]
  },
  {
   "cell_type": "markdown",
   "metadata": {},
   "source": [
    "#### Example"
   ]
  },
  {
   "cell_type": "code",
   "execution_count": 59,
   "metadata": {},
   "outputs": [
    {
     "data": {
      "text/plain": [
       "[{'Layers': [{'cond': 0.16, 'name': 'PED', 'specH': 720.0, 'thick': 0.012}],\n",
       "  'area': 6.666666666666667,\n",
       "  'direction': 'Horizontal',\n",
       "  'name': 'GroundFloor_other',\n",
       "  'spaces': ['other', 'underfloor'],\n",
       "  'type': 'GroundFloor'},\n",
       " {'Layers': [{'cond': 0.16, 'name': 'PED', 'specH': 720.0, 'thick': 0.012}],\n",
       "  'area': 3.3333333333333335,\n",
       "  'direction': 'Horizontal',\n",
       "  'name': 'GroundFloor_nonliving',\n",
       "  'spaces': ['nonliving', 'underfloor'],\n",
       "  'type': 'GroundFloor'},\n",
       " {'Layers': [{'cond': 0.16, 'name': 'PED', 'specH': 720.0, 'thick': 0.012}],\n",
       "  'area': 53.333333333333336,\n",
       "  'direction': 'Horizontal',\n",
       "  'name': 'InnerFloor_other',\n",
       "  'nextspace': 'nonliving',\n",
       "  'space': 'other',\n",
       "  'type': 'InnerFloor'},\n",
       " {'Layers': [{'cond': 0.16, 'name': 'PED', 'specH': 720.0, 'thick': 0.012}],\n",
       "  'area': 26.666666666666668,\n",
       "  'direction': 'Horizontal',\n",
       "  'name': 'InnerFloor_nonliving',\n",
       "  'nextspace': 'other',\n",
       "  'space': 'nonliving',\n",
       "  'type': 'InnerFloor'},\n",
       " {'Layers': [{'cond': 0.16, 'name': 'PED', 'specH': 720.0, 'thick': 0.012}],\n",
       "  'area': 60.0,\n",
       "  'direction': 'Horizontal',\n",
       "  'name': 'InnerCeiling_other',\n",
       "  'nextspace': 'nonliving',\n",
       "  'space': 'other',\n",
       "  'type': 'InnerCeiling'},\n",
       " {'Layers': [{'cond': 0.16, 'name': 'PED', 'specH': 720.0, 'thick': 0.012}],\n",
       "  'area': 30.0,\n",
       "  'direction': 'Horizontal',\n",
       "  'name': 'InnerCeiling_nonliving',\n",
       "  'nextspace': 'other',\n",
       "  'space': 'nonliving',\n",
       "  'type': 'InnerCeiling'},\n",
       " {'Layers': [{'cond': 0.22, 'name': 'GPB', 'specH': 830.0, 'thick': 0.0125},\n",
       "   {'cond': 11.11111111111111, 'name': 'GPB', 'specH': 0, 'thick': 1},\n",
       "   {'cond': 0.22, 'name': 'GPB', 'specH': 830.0, 'thick': 0.0125}],\n",
       "  'area': 54.59388622447443,\n",
       "  'direction': 'Vertical',\n",
       "  'name': 'Innerwall_main to other',\n",
       "  'spaces': ['main', 'other'],\n",
       "  'type': 'InnerWall'},\n",
       " {'Layers': [{'cond': 0.22, 'name': 'GPB', 'specH': 830.0, 'thick': 0.0125},\n",
       "   {'cond': 11.11111111111111, 'name': 'GPB', 'specH': 0, 'thick': 1},\n",
       "   {'cond': 0.22, 'name': 'GPB', 'specH': 830.0, 'thick': 0.0125}],\n",
       "  'area': 19.020025504219888,\n",
       "  'direction': 'Vertical',\n",
       "  'name': 'Innerwall_main to nonliving',\n",
       "  'spaces': ['main', 'nonliving'],\n",
       "  'type': 'InnerWall'},\n",
       " {'Layers': [{'cond': 0.22, 'name': 'GPB', 'specH': 830.0, 'thick': 0.0125},\n",
       "   {'cond': 11.11111111111111, 'name': 'GPB', 'specH': 0, 'thick': 1},\n",
       "   {'cond': 0.22, 'name': 'GPB', 'specH': 830.0, 'thick': 0.0125}],\n",
       "  'area': 66.86287151259015,\n",
       "  'direction': 'Vertical',\n",
       "  'name': 'Innerwall_other to nonliving',\n",
       "  'spaces': ['other', 'nonliving'],\n",
       "  'type': 'InnerWall'}]"
      ]
     },
     "execution_count": 59,
     "metadata": {},
     "output_type": "execute_result"
    }
   ],
   "source": [
    "d = {\n",
    "    'Common': {\n",
    "        'Region': 6,\n",
    "        'IsSimplifiedInput': False,\n",
    "        'MainOccupantRoomFloorArea': 30.0,\n",
    "        'OtherOccupantRoomFloorArea': 60.0,\n",
    "        'TotalFloorArea': 120.0\n",
    "    },\n",
    "    'Walls': [\n",
    "        { 'name': 'Ceiling', 'type': 'Ceiling', 'structure': 'wood', 'InputMethod' :'InputUA', \n",
    "          'direction': 'top', 'area': 60, 'space': 'main', 'UA': 0.24, 'IsSunshadeInput': False },\n",
    "        { 'name': 'Ceiling', 'type': 'Ceiling', 'structure': 'wood', 'InputMethod' :'InputAllDetails', 'direction': 'top', \n",
    "          'IsInContactWithOutsideAir': True, 'area': 60, 'space': 'main',\n",
    "          'Parts': [{'AreaRatio': 0.8, 'Layers': [{'name': 'wood','thick': 0.012, 'cond': 0.16, 'specH': 720 },\n",
    "                                                  {'name': 'wood','thick': 0.012, 'cond': 0.16, 'specH': 720 }]},\n",
    "                    {'AreaRatio': 0.2, 'Layers': [{'name': 'wood','thick': 0.012, 'cond': 0.16, 'specH': 720 },\n",
    "                                                  {'name': 'wood','thick': 0.012, 'cond': 0.16, 'specH': 720 }]}],\n",
    "          'IsSunshadeInput': False },\n",
    "        { 'name': 'Floor', 'type': 'Floor', 'structure': 'wood', 'InputMethod' :'InputAllLayers', 'direction': 'bottom', \n",
    "          'IsInContactWithOutsideAir': True, 'area': 60, 'space': 'main',\n",
    "          'FloorConstructionMethod' :'FrameInsulcolumn',\n",
    "          'Parts': [{'TypeFloor': 'Insulation', 'Layers': [{'name': 'wood','thick': 0.012, 'cond': 0.16, 'specH': 720 },\n",
    "                                                           {'name': 'wood','thick': 0.012, 'cond': 0.16, 'specH': 720 }]},\n",
    "                    {'TypeFloor': 'Heatbridge', 'Layers': [{'name': 'wood','thick': 0.012, 'cond': 0.16, 'specH': 720 },\n",
    "                                                           {'name': 'wood','thick': 0.012, 'cond': 0.16, 'specH': 720 }]}],\n",
    "           'IsSunshadeInput': False }\n",
    "    ],\n",
    "    'Windows': [\n",
    "        { 'name': 'WindowTop', 'direction': 'top', 'area': 30, 'space': 'main', 'UW': 6.51, 'TypeWindow': 'Single', \n",
    "          'IsEtaValueInput': False, 'TypeFrame': 'WoodOrResin', 'TypeGlass': '3WgG', 'TypeShade': 'Shoji', 'IsSunshadeInput': False }\n",
    "    ],\n",
    "    'Earthfloors': [\n",
    "        { 'name': 'other', 'area': 5.0, 'space': 'underfloor' },\n",
    "        { 'name': 'entrance', 'area': 5.0, 'space': 'underfloor' }\n",
    "    ]\n",
    "}\n",
    "\n",
    "innerwalls = [\n",
    "        { 'area': 60, 'name': 'GroundFloor_Main', 'type' : 'GroundFloor', 'spaces': ['main','underfloor'], 'direction' : 'Horizontal', 'Layers' : get_inner_floor_layers()},\n",
    "        { 'area': 15, 'name': 'GroundFloor_Other', 'type' : 'GroundFloor', 'spaces': ['other','underfloor'], 'direction' : 'Horizontal', 'Layers' : get_inner_floor_layers()},\n",
    "]\n",
    "\n",
    "convert_innerwall( d )"
   ]
  },
  {
   "cell_type": "markdown",
   "metadata": {},
   "source": [
    "## 9. Lv4入力情報のコンバート（統合）\n",
    "- 1)共通情報、2)開口部以外の不透明部位、3)開口部の透明部位、4)開口部の不透明部位、5) 線熱橋、6)土間床等の外周部の線熱橋、7)土間床、8)内壁等の各コンバート関数を統合し、Lv3の入力情報をLv4の入力情報にコンバートする。"
   ]
  },
  {
   "cell_type": "markdown",
   "metadata": {},
   "source": [
    "### Function"
   ]
  },
  {
   "cell_type": "code",
   "execution_count": 60,
   "metadata": {
    "collapsed": true
   },
   "outputs": [],
   "source": [
    "def convert(d):\n",
    "    d_lv4_input = {}\n",
    "    d_lv4_input['Common'] = convert_common(d)\n",
    "    if ('Walls' in d) == True:\n",
    "        d_lv4_input['Walls'] = convert_wall(d)\n",
    "    if ('Windows' in d) == True:\n",
    "        d_lv4_input['Windows'] = convert_window(d)\n",
    "    if ('Doors' in d) == True:\n",
    "        d_lv4_input['Doors'] = convert_door(d)\n",
    "    if ('EarthfloorPerimeters' in d) == True:\n",
    "        d_lv4_input['EarthfloorPerimeters'] = convert_earthfloorperimeter(d)\n",
    "    if ('EarthFloors' in d) == True:\n",
    "        d_lv4_input['EarthFloors'] = convert_earthfloor(d)\n",
    "    if ('Heatbridges' in d) == True:\n",
    "        d_lv4_input['Heatbridges'] = convert_heatbridge(d)\n",
    "    d_lv4_input['InnerWalls'] = convert_innerwall(d)\n",
    "\n",
    "    return d_lv4_input"
   ]
  },
  {
   "cell_type": "markdown",
   "metadata": {},
   "source": [
    "### Example"
   ]
  },
  {
   "cell_type": "code",
   "execution_count": 63,
   "metadata": {},
   "outputs": [
    {
     "data": {
      "text/plain": [
       "{'Common': {'IsSimplifiedInput': False,\n",
       "  'MainOccupantRoomFloorArea': 30.0,\n",
       "  'OtherOccupantRoomFloorArea': 60.0,\n",
       "  'Region': 6,\n",
       "  'TotalFloorArea': 120.0},\n",
       " 'Doors': [{'IsSunshadeInput': False,\n",
       "   'U': 6.51,\n",
       "   'area': 2.52,\n",
       "   'direction': 'NW',\n",
       "   'name': 'DoorNW',\n",
       "   'space': 'main'},\n",
       "  {'IsSunshadeInput': True,\n",
       "   'U': 4.65,\n",
       "   'Y1': 0.0,\n",
       "   'Y2': 1.0,\n",
       "   'Z': 0.6,\n",
       "   'area': 2.16,\n",
       "   'direction': 'NE',\n",
       "   'name': 'DoorNE',\n",
       "   'space': 'main'}],\n",
       " 'EarthfloorPerimeters': [{'direction': 'NW',\n",
       "   'length': 2.43,\n",
       "   'name': 'NW',\n",
       "   'psi': 1.8,\n",
       "   'space': 'underfloor'},\n",
       "  {'direction': 'NE',\n",
       "   'length': 2.43,\n",
       "   'name': 'NE',\n",
       "   'psi': 1.8,\n",
       "   'space': 'underfloor'}],\n",
       " 'Heatbridges': [{'direction1': 'N',\n",
       "   'direction2': 'E',\n",
       "   'length': 1.0,\n",
       "   'name': 'NE',\n",
       "   'psi': 1.8,\n",
       "   'space': 'main',\n",
       "   'structure': 'RC'},\n",
       "  {'direction1': 'N',\n",
       "   'direction2': 'W',\n",
       "   'length': 2.0,\n",
       "   'name': 'NW',\n",
       "   'psi': 1.8,\n",
       "   'space': 'main',\n",
       "   'structure': 'Steel'}],\n",
       " 'InnerWalls': [{'Layers': [{'cond': 0.16,\n",
       "     'name': 'PED',\n",
       "     'specH': 720.0,\n",
       "     'thick': 0.012}],\n",
       "   'area': 6.666666666666667,\n",
       "   'direction': 'Horizontal',\n",
       "   'name': 'GroundFloor_other',\n",
       "   'spaces': ['other', 'underfloor'],\n",
       "   'type': 'GroundFloor'},\n",
       "  {'Layers': [{'cond': 0.16, 'name': 'PED', 'specH': 720.0, 'thick': 0.012}],\n",
       "   'area': 3.3333333333333335,\n",
       "   'direction': 'Horizontal',\n",
       "   'name': 'GroundFloor_nonliving',\n",
       "   'spaces': ['nonliving', 'underfloor'],\n",
       "   'type': 'GroundFloor'},\n",
       "  {'Layers': [{'cond': 0.16, 'name': 'PED', 'specH': 720.0, 'thick': 0.012}],\n",
       "   'area': 53.333333333333336,\n",
       "   'direction': 'Horizontal',\n",
       "   'name': 'InnerFloor_other',\n",
       "   'nextspace': 'nonliving',\n",
       "   'space': 'other',\n",
       "   'type': 'InnerFloor'},\n",
       "  {'Layers': [{'cond': 0.16, 'name': 'PED', 'specH': 720.0, 'thick': 0.012}],\n",
       "   'area': 26.666666666666668,\n",
       "   'direction': 'Horizontal',\n",
       "   'name': 'InnerFloor_nonliving',\n",
       "   'nextspace': 'other',\n",
       "   'space': 'nonliving',\n",
       "   'type': 'InnerFloor'},\n",
       "  {'Layers': [{'cond': 0.16, 'name': 'PED', 'specH': 720.0, 'thick': 0.012}],\n",
       "   'area': 60.0,\n",
       "   'direction': 'Horizontal',\n",
       "   'name': 'InnerCeiling_other',\n",
       "   'nextspace': 'nonliving',\n",
       "   'space': 'other',\n",
       "   'type': 'InnerCeiling'},\n",
       "  {'Layers': [{'cond': 0.16, 'name': 'PED', 'specH': 720.0, 'thick': 0.012}],\n",
       "   'area': 30.0,\n",
       "   'direction': 'Horizontal',\n",
       "   'name': 'InnerCeiling_nonliving',\n",
       "   'nextspace': 'other',\n",
       "   'space': 'nonliving',\n",
       "   'type': 'InnerCeiling'},\n",
       "  {'Layers': [{'cond': 0.22, 'name': 'GPB', 'specH': 830.0, 'thick': 0.0125},\n",
       "    {'cond': 11.11111111111111, 'name': 'GPB', 'specH': 0, 'thick': 1},\n",
       "    {'cond': 0.22, 'name': 'GPB', 'specH': 830.0, 'thick': 0.0125}],\n",
       "   'area': 121.45675773706458,\n",
       "   'direction': 'Vertical',\n",
       "   'name': 'Innerwall_other to nonliving',\n",
       "   'spaces': ['other', 'nonliving'],\n",
       "   'type': 'InnerWall'}],\n",
       " 'Walls': [{'InputMethod': 'InputUA',\n",
       "   'IsSunshadeInput': False,\n",
       "   'UA': 0.24,\n",
       "   'area': 67.8,\n",
       "   'direction': 'top',\n",
       "   'name': 'Ceiling',\n",
       "   'space': 'main',\n",
       "   'structure': 'wood',\n",
       "   'type': 'Ceiling'},\n",
       "  {'InputMethod': 'InputAllDetails',\n",
       "   'IsInContactWithOutsideAir': True,\n",
       "   'IsSunshadeInput': False,\n",
       "   'Parts': [{'AreaRatio': 0.8,\n",
       "     'Layers': [{'cond': 0.16, 'name': 'wood', 'specH': 720, 'thick': 0.012},\n",
       "      {'cond': 0.16, 'name': 'wood', 'specH': 720, 'thick': 0.012}]},\n",
       "    {'AreaRatio': 0.2,\n",
       "     'Layers': [{'cond': 0.16, 'name': 'wood', 'specH': 720, 'thick': 0.012},\n",
       "      {'cond': 0.16, 'name': 'wood', 'specH': 720, 'thick': 0.012}]}],\n",
       "   'area': 67.8,\n",
       "   'direction': 'top',\n",
       "   'name': 'Ceiling',\n",
       "   'space': 'main',\n",
       "   'structure': 'wood',\n",
       "   'type': 'Ceiling'},\n",
       "  {'FloorConstructionMethod': 'FrameInsulcolumn',\n",
       "   'InputMethod': 'InputAllLayers',\n",
       "   'IsInContactWithOutsideAir': True,\n",
       "   'IsSunshadeInput': False,\n",
       "   'Parts': [{'Layers': [{'cond': 0.16,\n",
       "       'name': 'wood',\n",
       "       'specH': 720,\n",
       "       'thick': 0.012},\n",
       "      {'cond': 0.16, 'name': 'wood', 'specH': 720, 'thick': 0.012}],\n",
       "     'TypeFloor': 'Insulation'},\n",
       "    {'Layers': [{'cond': 0.16, 'name': 'wood', 'specH': 720, 'thick': 0.012},\n",
       "      {'cond': 0.16, 'name': 'wood', 'specH': 720, 'thick': 0.012}],\n",
       "     'TypeFloor': 'Heatbridge'}],\n",
       "   'area': 67.8,\n",
       "   'direction': 'bottom',\n",
       "   'name': 'Floor',\n",
       "   'space': 'main',\n",
       "   'structure': 'wood',\n",
       "   'type': 'Floor'},\n",
       "  {'InputMethod': 'InputAllLayers',\n",
       "   'IsInContactWithOutsideAir': True,\n",
       "   'IsSunshadeInput': False,\n",
       "   'Parts': [{'Layers': [{'cond': 0.16,\n",
       "       'name': 'wood',\n",
       "       'specH': 720,\n",
       "       'thick': 0.012},\n",
       "      {'cond': 0.16, 'name': 'wood', 'specH': 720, 'thick': 0.012}],\n",
       "     'TypeWall': 'Insulation'},\n",
       "    {'Layers': [{'cond': 0.16, 'name': 'wood', 'specH': 720, 'thick': 0.012},\n",
       "      {'cond': 0.16, 'name': 'wood', 'specH': 720, 'thick': 0.012}],\n",
       "     'TypeWall': 'Heatbridge'}],\n",
       "   'WallConstructionMethod': 'WallInsuladdBackvertical',\n",
       "   'area': 67.8,\n",
       "   'direction': 'N',\n",
       "   'name': 'Wall',\n",
       "   'space': 'main',\n",
       "   'structure': 'wood',\n",
       "   'type': 'Wall'},\n",
       "  {'InputMethod': 'InputAllLayers',\n",
       "   'IsInContactWithOutsideAir': True,\n",
       "   'IsSunshadeInput': False,\n",
       "   'Parts': [{'Layers': [{'cond': 0.16,\n",
       "       'name': 'wood',\n",
       "       'specH': 720,\n",
       "       'thick': 0.012},\n",
       "      {'cond': 0.16, 'name': 'wood', 'specH': 720, 'thick': 0.012}],\n",
       "     'TypeRoof': 'Insulation'},\n",
       "    {'Layers': [{'cond': 0.16, 'name': 'wood', 'specH': 720, 'thick': 0.012},\n",
       "      {'cond': 0.16, 'name': 'wood', 'specH': 720, 'thick': 0.012}],\n",
       "     'TypeRoof': 'Heatbridge'}],\n",
       "   'RoofConstructionMethod': 'Insulrafter',\n",
       "   'area': 67.8,\n",
       "   'direction': 'top',\n",
       "   'name': 'Ceiling',\n",
       "   'space': 'main',\n",
       "   'structure': 'wood',\n",
       "   'type': 'Ceiling'},\n",
       "  {'CeilingConstructionMethod': 'Insulbeam',\n",
       "   'InputMethod': 'InputAllLayers',\n",
       "   'IsInContactWithOutsideAir': True,\n",
       "   'IsSunshadeInput': False,\n",
       "   'Parts': [{'Layers': [{'cond': 0.16,\n",
       "       'name': 'wood',\n",
       "       'specH': 720,\n",
       "       'thick': 0.012},\n",
       "      {'cond': 0.16, 'name': 'wood', 'specH': 720, 'thick': 0.012}],\n",
       "     'TypeCeiling': 'Insulation'},\n",
       "    {'Layers': [{'cond': 0.16, 'name': 'wood', 'specH': 720, 'thick': 0.012},\n",
       "      {'cond': 0.16, 'name': 'wood', 'specH': 720, 'thick': 0.012}],\n",
       "     'TypeCeiling': 'Heatbridge'}],\n",
       "   'area': 67.8,\n",
       "   'direction': 'top',\n",
       "   'name': 'BoundaryCeiling',\n",
       "   'space': 'main',\n",
       "   'structure': 'wood',\n",
       "   'type': 'BoundaryCeiling'},\n",
       "  {'InputMethod': 'InputUR',\n",
       "   'IsInContactWithOutsideAir': True,\n",
       "   'IsSunshadeInput': False,\n",
       "   'Parts': [{'Layers': [{'cond': 0.16,\n",
       "       'name': 'wood',\n",
       "       'specH': 720,\n",
       "       'thick': 0.012},\n",
       "      {'cond': 0.16, 'name': 'wood', 'specH': 720, 'thick': 0.012}]}],\n",
       "   'area': 67.8,\n",
       "   'direction': 'top',\n",
       "   'name': 'Ceiling',\n",
       "   'space': 'main',\n",
       "   'structure': 'wood',\n",
       "   'type': 'Ceiling'},\n",
       "  {'InputMethod': 'InputUA',\n",
       "   'IsSunshadeInput': False,\n",
       "   'UA': 0.24,\n",
       "   'area': 67.8,\n",
       "   'direction': 'top',\n",
       "   'name': 'Ceiling',\n",
       "   'space': 'main',\n",
       "   'structure': 'RC',\n",
       "   'type': 'Ceiling'},\n",
       "  {'InputMethod': 'InputLayers',\n",
       "   'IsInContactWithOutsideAir': True,\n",
       "   'IsSunshadeInput': False,\n",
       "   'Parts': [{'Layers': [{'cond': 0.16,\n",
       "       'name': 'wood',\n",
       "       'specH': 720,\n",
       "       'thick': 0.012},\n",
       "      {'cond': 0.16, 'name': 'wood', 'specH': 720, 'thick': 0.012}]}],\n",
       "   'area': 67.8,\n",
       "   'direction': 'top',\n",
       "   'name': 'Ceiling',\n",
       "   'space': 'main',\n",
       "   'structure': 'RC',\n",
       "   'type': 'Ceiling'},\n",
       "  {'InputMethod': 'InputUA',\n",
       "   'IsSunshadeInput': False,\n",
       "   'UA': 0.24,\n",
       "   'area': 67.8,\n",
       "   'direction': 'top',\n",
       "   'name': 'Ceiling',\n",
       "   'space': 'main',\n",
       "   'structure': 'steel',\n",
       "   'type': 'Ceiling'},\n",
       "  {'InputMethod': 'InputUR',\n",
       "   'IsInContactWithOutsideAir': True,\n",
       "   'IsSunshadeInput': False,\n",
       "   'Parts': [{'Layers': [{'cond': 0.16,\n",
       "       'name': 'wood',\n",
       "       'specH': 720,\n",
       "       'thick': 0.012},\n",
       "      {'cond': 0.16, 'name': 'wood', 'specH': 720, 'thick': 0.012}]}],\n",
       "   'Radding': 0.1,\n",
       "   'area': 67.8,\n",
       "   'direction': 'top',\n",
       "   'name': 'Ceiling',\n",
       "   'space': 'main',\n",
       "   'structure': 'steel',\n",
       "   'type': 'Ceiling'},\n",
       "  {'InputMethod': None,\n",
       "   'IsSunshadeInput': False,\n",
       "   'area': 67.8,\n",
       "   'direction': 'top',\n",
       "   'name': 'Ceiling',\n",
       "   'space': 'main',\n",
       "   'structure': 'other',\n",
       "   'type': 'Ceiling'}],\n",
       " 'Windows': [{'IsEtaValueInput': False,\n",
       "   'IsSunshadeInput': True,\n",
       "   'TypeFrame': 'WoodOrResin',\n",
       "   'TypeGlass': '3WgG',\n",
       "   'TypeShade': 'Shoji',\n",
       "   'TypeWindow': 'Single',\n",
       "   'UW': 6.51,\n",
       "   'Y1': 0.0,\n",
       "   'Y2': 1.0,\n",
       "   'Z': 0.6,\n",
       "   'area': 30.25,\n",
       "   'direction': 'SW',\n",
       "   'name': 'WindowSW',\n",
       "   'space': 'main'},\n",
       "  {'Eta': 0.738,\n",
       "   'IsEtaValueInput': True,\n",
       "   'IsSunshadeInput': False,\n",
       "   'TypeWindow': 'Single',\n",
       "   'UW': 4.65,\n",
       "   'area': 3.17,\n",
       "   'direction': 'NW',\n",
       "   'name': 'WindowNW',\n",
       "   'space': 'main'},\n",
       "  {'IsEtaValueInput': False,\n",
       "   'IsSunshadeInput': True,\n",
       "   'TypeFrameInside': 'WoodOrResin',\n",
       "   'TypeFrameOutside': 'Steel',\n",
       "   'TypeGlassInside': '3WgG',\n",
       "   'TypeGlassOutside': '3WgG',\n",
       "   'TypeShadeInside': 'Shoji',\n",
       "   'TypeShadeOutside': 'ExtarnalBlind',\n",
       "   'TypeWindow': 'Double',\n",
       "   'UW': 6.51,\n",
       "   'Y1': 0.0,\n",
       "   'Y2': 1.0,\n",
       "   'Z': 0.6,\n",
       "   'area': 30.25,\n",
       "   'direction': 'SW',\n",
       "   'name': 'WindowSW',\n",
       "   'space': 'main'},\n",
       "  {'EtaInside': 0.738,\n",
       "   'EtaOutside': 0.738,\n",
       "   'IsEtaValueInput': True,\n",
       "   'IsSunshadeInput': True,\n",
       "   'TypeGlassInside': '3WgG',\n",
       "   'TypeGlassOutside': '3WgG',\n",
       "   'TypeWindow': 'Double',\n",
       "   'UW': 4.65,\n",
       "   'Y1': 0.0,\n",
       "   'Y2': 1.0,\n",
       "   'Z': 0.6,\n",
       "   'area': 3.17,\n",
       "   'direction': 'NW',\n",
       "   'name': 'WindowNW',\n",
       "   'space': 'main'}]}"
      ]
     },
     "execution_count": 63,
     "metadata": {},
     "output_type": "execute_result"
    }
   ],
   "source": [
    "d = {\n",
    "    'Common': {\n",
    "        'Region': 6,\n",
    "        'IsSimplifiedInput': False,\n",
    "        'MainOccupantRoomFloorArea': 30.0,\n",
    "        'OtherOccupantRoomFloorArea': 60.0,\n",
    "        'TotalFloorArea': 120.0\n",
    "    },\n",
    "    'Walls': [\n",
    "        { 'name': 'Ceiling', 'type': 'Ceiling', 'structure': 'wood', 'InputMethod' :'InputUA', \n",
    "          'direction': 'top', 'area': 67.8, 'space': 'main', 'UA': 0.24, 'IsSunshadeInput': False },\n",
    "        { 'name': 'Ceiling', 'type': 'Ceiling', 'structure': 'wood', 'InputMethod' :'InputAllDetails', 'direction': 'top', \n",
    "          'IsInContactWithOutsideAir': True, 'area': 67.8, 'space': 'main',\n",
    "          'Parts': [{'AreaRatio': 0.8, 'Layers': [{'name': 'wood','thick': 0.012, 'cond': 0.16, 'specH': 720 },\n",
    "                                                  {'name': 'wood','thick': 0.012, 'cond': 0.16, 'specH': 720 }]},\n",
    "                    {'AreaRatio': 0.2, 'Layers': [{'name': 'wood','thick': 0.012, 'cond': 0.16, 'specH': 720 },\n",
    "                                                  {'name': 'wood','thick': 0.012, 'cond': 0.16, 'specH': 720 }]}],\n",
    "          'IsSunshadeInput': False },\n",
    "        { 'name': 'Floor', 'type': 'Floor', 'structure': 'wood', 'InputMethod' :'InputAllLayers', 'direction': 'bottom', \n",
    "          'IsInContactWithOutsideAir': True, 'area': 67.8, 'space': 'main',\n",
    "          'FloorConstructionMethod' :'FrameInsulcolumn',\n",
    "          'Parts': [{'TypeFloor': 'Insulation', 'Layers': [{'name': 'wood','thick': 0.012, 'cond': 0.16, 'specH': 720 },\n",
    "                                                           {'name': 'wood','thick': 0.012, 'cond': 0.16, 'specH': 720 }]},\n",
    "                    {'TypeFloor': 'Heatbridge', 'Layers': [{'name': 'wood','thick': 0.012, 'cond': 0.16, 'specH': 720 },\n",
    "                                                           {'name': 'wood','thick': 0.012, 'cond': 0.16, 'specH': 720 }]}],\n",
    "           'IsSunshadeInput': False },\n",
    "        { 'name': 'Wall', 'type': 'Wall', 'structure': 'wood', 'InputMethod' :'InputAllLayers', 'direction': 'N', \n",
    "          'IsInContactWithOutsideAir': True, 'area': 67.8, 'space': 'main', \n",
    "          'WallConstructionMethod': 'WallInsuladdBackvertical',\n",
    "          'Parts': [{'TypeWall': 'Insulation', 'Layers': [{'name': 'wood','thick': 0.012, 'cond': 0.16, 'specH': 720 },\n",
    "                                                          {'name': 'wood','thick': 0.012, 'cond': 0.16, 'specH': 720 }]},\n",
    "                    {'TypeWall': 'Heatbridge', 'Layers': [{'name': 'wood','thick': 0.012, 'cond': 0.16, 'specH': 720 },\n",
    "                                                          {'name': 'wood','thick': 0.012, 'cond': 0.16, 'specH': 720 }]}],         \n",
    "          'IsSunshadeInput': False },\n",
    "        { 'name': 'Ceiling', 'type': 'Ceiling', 'structure': 'wood', 'InputMethod' :'InputAllLayers', 'direction': 'top', \n",
    "          'IsInContactWithOutsideAir': True, 'area': 67.8, 'space': 'main',\n",
    "          'RoofConstructionMethod': 'Insulrafter', \n",
    "          'Parts': [{'TypeRoof': 'Insulation', 'Layers': [{'name': 'wood','thick': 0.012, 'cond': 0.16, 'specH': 720 },\n",
    "                                                          {'name': 'wood','thick': 0.012, 'cond': 0.16, 'specH': 720 }]},\n",
    "                    {'TypeRoof': 'Heatbridge', 'Layers': [{'name': 'wood','thick': 0.012, 'cond': 0.16, 'specH': 720 },\n",
    "                                                          {'name': 'wood','thick': 0.012, 'cond': 0.16, 'specH': 720 }]}],\n",
    "          'IsSunshadeInput': False },\n",
    "        { 'name': 'BoundaryCeiling', 'type': 'BoundaryCeiling', 'structure': 'wood', 'InputMethod' :'InputAllLayers', \n",
    "          'direction': 'top', 'IsInContactWithOutsideAir': True, 'area': 67.8, 'space': 'main', 'CeilingConstructionMethod': 'Insulbeam', \n",
    "          'Parts': [{'TypeCeiling': 'Insulation', 'Layers': [{'name': 'wood','thick': 0.012, 'cond': 0.16, 'specH': 720 },\n",
    "                                                             {'name': 'wood','thick': 0.012, 'cond': 0.16, 'specH': 720 }]},\n",
    "                    {'TypeCeiling': 'Heatbridge', 'Layers': [{'name': 'wood','thick': 0.012, 'cond': 0.16, 'specH': 720 },\n",
    "                                                             {'name': 'wood','thick': 0.012, 'cond': 0.16, 'specH': 720 }]}],\n",
    "          'IsSunshadeInput': False },\n",
    "        { 'name': 'Ceiling', 'type': 'Ceiling', 'structure': 'wood', 'InputMethod' :'InputUR',\n",
    "          'direction': 'top', 'IsInContactWithOutsideAir': True, 'area': 67.8, 'space': 'main',\n",
    "          'Parts': [{'Layers': [{'name': 'wood','thick': 0.012, 'cond': 0.16, 'specH': 720 },\n",
    "                                {'name': 'wood','thick': 0.012, 'cond': 0.16, 'specH': 720 }]}],\n",
    "          'IsSunshadeInput': False },\n",
    "        { 'name': 'Ceiling', 'type': 'Ceiling', 'structure': 'RC', 'InputMethod' :'InputUA', \n",
    "          'direction': 'top','area': 67.8, 'space': 'main', 'UA': 0.24, 'IsSunshadeInput': False },\n",
    "        { 'name': 'Ceiling', 'type': 'Ceiling', 'structure': 'RC', 'InputMethod' :'InputLayers', \n",
    "          'direction': 'top', 'IsInContactWithOutsideAir': True, 'area': 67.8, 'space': 'main',\n",
    "          'Parts': [{ 'Layers': [{'name': 'wood','thick': 0.012, 'cond': 0.16, 'specH': 720 },\n",
    "                                 {'name': 'wood','thick': 0.012, 'cond': 0.16, 'specH': 720 }]}],         \n",
    "          'IsSunshadeInput': False },\n",
    "        { 'name': 'Ceiling', 'type': 'Ceiling', 'structure': 'steel', 'InputMethod' :'InputUA', \n",
    "          'direction': 'top', 'area': 67.8, 'space': 'main', 'UA': 0.24, 'IsSunshadeInput': False },\n",
    "        { 'name': 'Ceiling', 'type': 'Ceiling', 'structure': 'steel', 'InputMethod' :'InputUR', \n",
    "          'direction': 'top', 'IsInContactWithOutsideAir': True, 'area': 67.8, 'space': 'main', 'Radding': 0.10, \n",
    "          'Parts': [{'Layers': [{'name': 'wood','thick': 0.012, 'cond': 0.16, 'specH': 720 },\n",
    "                                {'name': 'wood','thick': 0.012, 'cond': 0.16, 'specH': 720 }]}],         \n",
    "          'IsSunshadeInput': False },\n",
    "        { 'name': 'Ceiling', 'type': 'Ceiling', 'structure': 'other', 'direction': 'top', 'IsInContactWithOutsideAir': True, \n",
    "          'area': 67.8, 'space': 'main', 'IsSunshadeInput': False }\n",
    "    ],\n",
    "    'Windows': [\n",
    "        { 'name': 'WindowSW', 'direction': 'SW', 'area': 30.25, 'space': 'main', 'UW': 6.51, 'TypeWindow': 'Single', \n",
    "          'IsEtaValueInput': False, 'TypeFrame': 'WoodOrResin', 'TypeGlass': '3WgG', 'TypeShade': 'Shoji',\n",
    "          'IsSunshadeInput': True, 'Y1': 0.00, 'Y2': 1.00, 'Z': 0.60 },\n",
    "        { 'name': 'WindowNW', 'direction': 'NW', 'area': 3.17, 'space': 'main', 'UW': 4.65, 'TypeWindow': 'Single', \n",
    "          'IsEtaValueInput': True, 'Eta': 0.738, 'IsSunshadeInput': False },\n",
    "        { 'name': 'WindowSW', 'direction': 'SW', 'area': 30.25, 'space': 'main', 'UW': 6.51, 'TypeWindow': 'Double', 'IsEtaValueInput': False,\n",
    "          'TypeFrameInside': 'WoodOrResin', 'TypeGlassInside': '3WgG', 'TypeShadeInside': 'Shoji',\n",
    "          'TypeFrameOutside': 'Steel', 'TypeGlassOutside': '3WgG', 'TypeShadeOutside': 'ExtarnalBlind',\n",
    "          'IsSunshadeInput': True, 'Y1': 0.00, 'Y2': 1.00, 'Z': 0.60 },\n",
    "        { 'name': 'WindowNW', 'direction': 'NW', 'area': 3.17, 'space': 'main', 'UW': 4.65, 'TypeWindow': 'Double', 'IsEtaValueInput': True,\n",
    "          'EtaInside': 0.738, 'TypeGlassInside': '3WgG', 'EtaOutside': 0.738, 'TypeGlassOutside': '3WgG',\n",
    "          'IsSunshadeInput': True, 'Y1': 0.00, 'Y2': 1.00, 'Z': 0.60 }\n",
    "    ],\n",
    "    'Doors': [\n",
    "        { 'name': 'DoorNW', 'direction': 'NW', 'area': 2.52, 'U': 6.51, 'space': 'main', 'IsSunshadeInput': False },\n",
    "        { 'name': 'DoorNE', 'direction': 'NE', 'area': 2.16, 'U': 4.65, 'space': 'main', \n",
    "          'IsSunshadeInput': True, 'Y1': 0.00, 'Y2': 1.00, 'Z': 0.60 }\n",
    "    ],\n",
    "    'Heatbridges': [\n",
    "        { 'name': 'NE', 'structure': 'RC', 'length': 1.00, 'psi': 1.8, 'direction1': 'N', 'direction2': 'E', 'space': 'main' },\n",
    "        { 'name': 'NW', 'structure': 'Steel', 'length': 2.00, 'psi': 1.8, 'direction1': 'N', 'direction2': 'W', 'space': 'main' }\n",
    "    ],\n",
    "    'EarthfloorPerimeters': [\n",
    "        { 'name': 'NW', 'direction': 'NW', 'length': 2.43, 'psi': 1.8, 'space': 'underfloor' },\n",
    "        { 'name': 'NE', 'direction': 'NE', 'length': 2.43, 'psi': 1.8, 'space': 'underfloor' }\n",
    "    ],\n",
    "    'Earthfloors': [\n",
    "        { 'name': 'other', 'area': 5.0, 'space': 'underfloor' },\n",
    "        { 'name': 'entrance', 'area': 5.0, 'space': 'underfloor' }\n",
    "    ]\n",
    "}\n",
    "\n",
    "convert(d)"
   ]
  },
  {
   "cell_type": "code",
   "execution_count": null,
   "metadata": {
    "collapsed": true
   },
   "outputs": [],
   "source": []
  },
  {
   "cell_type": "markdown",
   "metadata": {},
   "source": [
    "### 〇) 室上の床面積・室下の天井面積の推定：案１"
   ]
  },
  {
   "cell_type": "markdown",
   "metadata": {},
   "source": [
    "$A_{if,MR}$,$A_{if,OR}$,$A_{if,NR}$は、既知とする。  \n",
    "$A_{if,MR}$,$A_{if,OR}$,$A_{if,NR}$は、各用途の床下空間上の床と、方位が「下面」である外皮の部位と、土間床等の合計面積を、用途別床面積より差し引いて推定する。  \n",
    "これらより、$A_{if,MR,OR}$,$A_{if,MR,NR}$,$A_{if,OR,NR}$,$A_{if,OR,NR}$,$A_{if,NR,MR}$,$A_{if,NR,OR}$を推定する。"
   ]
  },
  {
   "cell_type": "markdown",
   "metadata": {},
   "source": [
    "各用途の室上の床面積は、その用途と他の2用途の間の室上の床面積の合計に等しい。"
   ]
  },
  {
   "cell_type": "markdown",
   "metadata": {},
   "source": [
    "$$\n",
    "\\displaystyle\n",
    "A_{if,MR} = A_{if,MR,OR}+A_{if,MR,NR}\n",
    "$$\n",
    "$$\n",
    "\\displaystyle\n",
    "A_{if,OR} = A_{if,OR,MR}+A_{if,OR,NR}\n",
    "$$\n",
    "$$\n",
    "\\displaystyle\n",
    "A_{if,NR} = A_{if,NR,MR}+A_{if,NR,OR}\n",
    "$$"
   ]
  },
  {
   "cell_type": "markdown",
   "metadata": {},
   "source": [
    "$A_{if,MR}$: その他の居室または非居室との間の、主たる居室の床の面積, m<sup>2</sup>  \n",
    "$A_{if,OR}$: 主たる居室または非居室との間の、その他の居室の床の面積, m<sup>2</sup>  \n",
    "$A_{if,NR}$: 主たる居室またはその他の居室との間の、非居室の床の面積, m<sup>2</sup>  \n",
    "$A_{if,MR,OR}$: その他の居室との間の、主たる居室の床の面積, m<sup>2</sup>  \n",
    "$A_{if,MR,NR}$: 非居室との間の、主たる居室の床の面積, m<sup>2</sup>  \n",
    "$A_{if,OR,MR}$: 主たる居室との間の、その他の居室の床の面積, m<sup>2</sup>  \n",
    "$A_{if,OR,NR}$: 非居室との間の、その他の居室の床の面積, m<sup>2</sup>  \n",
    "$A_{if,NR,MR}$: 主たる居室との間の、非居室の床の面積, m<sup>2</sup>  \n",
    "$A_{if,NR,OR}$: その他の居室との間の、非居室の床の面積, m<sup>2</sup>  "
   ]
  },
  {
   "cell_type": "markdown",
   "metadata": {},
   "source": [
    "2用途の間の天井面積は、その2用途の間の床面積と一致するものとする。  "
   ]
  },
  {
   "cell_type": "markdown",
   "metadata": {},
   "source": [
    "$$\n",
    "\\displaystyle\n",
    "A_{ic,MR,OR} = A_{if,OR,MR}\n",
    "$$\n",
    "$$\n",
    "\\displaystyle\n",
    "A_{ic,MR,NR} = A_{if,NR,MR}\n",
    "$$\n",
    "$$\n",
    "\\displaystyle\n",
    "A_{ic,OR,MR} = A_{if,MR,OR}\n",
    "$$\n",
    "$$\n",
    "\\displaystyle\n",
    "A_{ic,OR,NR} = A_{if,NR,OR}\n",
    "$$\n",
    "$$\n",
    "\\displaystyle\n",
    "A_{ic,NR,MR} = A_{if,MR,NR}\n",
    "$$\n",
    "$$\n",
    "\\displaystyle\n",
    "A_{ic,NR,OR} = A_{if,OR,NR}\n",
    "$$"
   ]
  },
  {
   "cell_type": "markdown",
   "metadata": {},
   "source": [
    "$A_{ic,MR,OR}$: その他の居室との間の、主たる居室の天井の面積, m<sup>2</sup>  \n",
    "$A_{ic,MR,NR}$: 非居室との間の、主たる居室の天井の面積, m<sup>2</sup>  \n",
    "$A_{ic,OR,MR}$: 主たる居室との間の、その他の居室の天井の面積, m<sup>2</sup>  \n",
    "$A_{ic,OR,NR}$: 非居室との間の、その他の居室の天井の面積, m<sup>2</sup>  \n",
    "$A_{ic,NR,MR}$: 主たる居室との間の、非居室の天井の面積, m<sup>2</sup>  \n",
    "$A_{ic,NR,OR}$: その他の居室との間の、非居室の天井の面積, m<sup>2</sup>  "
   ]
  },
  {
   "cell_type": "markdown",
   "metadata": {},
   "source": [
    "各用途と他の2用途との間の室下の天井面積の比率は、他の2用途の室上の床面積の比率に一致すると仮定する。"
   ]
  },
  {
   "cell_type": "markdown",
   "metadata": {},
   "source": [
    "$$\n",
    "\\displaystyle\n",
    "A_{ic,MR,OR}:A_{ic,MR,NR} = A_{if,OR,MR}:A_{if,NR,MR} = A_{if,OR}:A_{if,NR}\n",
    "$$\n",
    "$$\n",
    "\\displaystyle\n",
    "A_{ic,OR,MR}:A_{ic,OR,NR} = A_{if,MR,OR}:A_{if,NR,OR} = A_{if,MR}:A_{if,NR}\n",
    "$$\n",
    "$$\n",
    "\\displaystyle\n",
    "A_{ic,NR,MR}:A_{ic,NR,OR} = A_{if,MR,NR}:A_{if,OR,NR} = A_{if,MR}:A_{if,OR}\n",
    "$$"
   ]
  },
  {
   "cell_type": "markdown",
   "metadata": {},
   "source": [
    "以上より、$A_{if,MR,OR}$,$A_{if,MR,NR}$,$A_{if,OR,NR}$,$A_{if,OR,NR}$,$A_{if,NR,MR}$,$A_{if,NR,OR}$が算出される。"
   ]
  },
  {
   "cell_type": "markdown",
   "metadata": {},
   "source": [
    "$$\n",
    "\\displaystyle\n",
    "A_{ic,MR,OR} = A_{if,MR,NR} = \\frac{ A_{if,MR}}{2}\n",
    "$$\n",
    "$$\n",
    "\\displaystyle\n",
    "A_{ic,OR,MR} = A_{if,OR,NR} = \\frac{ A_{if,OR}}{2}\n",
    "$$\n",
    "$$\n",
    "\\displaystyle\n",
    "A_{ic,NR,MR} = A_{if,NR,OR} = \\frac{ A_{if,NR}}{2}\n",
    "$$"
   ]
  },
  {
   "cell_type": "markdown",
   "metadata": {},
   "source": [
    "$A_{if,NR,MR}$の算出の詳細は以下。他の2用途間についても同様。"
   ]
  },
  {
   "cell_type": "markdown",
   "metadata": {},
   "source": [
    "$\n",
    "\\displaystyle\n",
    "A_{if,MR,OR} = A_{if,MR} - A_{if,MR,NR}   \n",
    "$  \n",
    "$\n",
    "\\displaystyle\n",
    "　　　　= A_{if,MR} - A_{if,OR,NR} \\times \\frac{A_{if,MR}}{A_{if,OR}}  \n",
    "$  \n",
    "$\n",
    "\\displaystyle\n",
    "　　　　= A_{if,MR} - ( A_{if,OR} - A_{if,OR,MR}) \\times \\frac{A_{if,MR}}{A_{if,OR}}   \n",
    "$  \n",
    "$\n",
    "\\displaystyle\n",
    "　　　　= A_{if,MR} - ( A_{if,OR} - A_{if,NR,MR} \\times \\frac{A_{if,OR}}{A_{if,NR}}) \\times \\frac{A_{if,MR}}{A_{if,OR}}  \n",
    "$  \n",
    "$\n",
    "\\displaystyle\n",
    "　　　　= A_{if,NR,MR}\\times \\frac{A_{if,MR}}{A_{if,NR}}\n",
    "$  \n",
    "$\n",
    "\\displaystyle\n",
    "A_{if,MR} : A_{if,NR} = A_{if,MR,OR} : A_{if,NR,OR} = A_{if,NR,MR}\\times \\frac{A_{if,MR}}{A_{if,NR}} : A_{if,NR} - A_{if,NR,MR}\n",
    "$\n",
    "\n",
    "$$\n",
    "\\displaystyle\n",
    "∴　A_{if,NR,MR} = \\frac{A_{if,NR}}{2}\n",
    "$$"
   ]
  },
  {
   "cell_type": "markdown",
   "metadata": {},
   "source": [
    "懸案事項  \n",
    "　各用途の床面積（天井面積に等しいと想定）から、各用途の上向きの外皮の面積を差し引くと、各用途の室上の天井面積が推定される。  \n",
    "　上記の方法で算出された各用途の室上の天井面積とは、乖離が生じ得る。"
   ]
  },
  {
   "cell_type": "markdown",
   "metadata": {},
   "source": [
    "#### Function"
   ]
  },
  {
   "cell_type": "code",
   "execution_count": null,
   "metadata": {
    "collapsed": true
   },
   "outputs": [],
   "source": [
    "def get_area_floor_over_room_type1(A_if):\n",
    "   \n",
    "    return {'main to other'      : A_if['main']/2,\n",
    "            'main to nonliving'  : A_if['main']/2,\n",
    "            'other to main'      : A_if['other']/2,\n",
    "            'other to nonliving' : A_if['other']/2,\n",
    "            'nonliving to main'  : A_if['nonliving']/2,\n",
    "            'nonliving to other' : A_if['nonliving']/2}"
   ]
  },
  {
   "cell_type": "markdown",
   "metadata": {},
   "source": [
    "#### Example"
   ]
  },
  {
   "cell_type": "code",
   "execution_count": null,
   "metadata": {},
   "outputs": [],
   "source": [
    "A_if = {'main': 6, 'other':3, 'nonliving': 6}\n",
    "\n",
    "print(get_area_floor_over_room_type1(A_if))"
   ]
  },
  {
   "cell_type": "markdown",
   "metadata": {},
   "source": [
    "### 〇) 室上の床面積・室下の天井面積の推定：案２"
   ]
  },
  {
   "cell_type": "markdown",
   "metadata": {},
   "source": [
    "$A_{if,MR}$,$A_{if,OR}$,$A_{if,NR}$,$A_{ic,MR,temp}$,$A_{ic,OR,temp}$,$A_{ic,NR,temp}$は既知とする。   \n",
    "$A_{if,MR}$,$A_{if,OR}$,$A_{if,NR}$は、各用途の床下空間上の床と、方位が「下面」である外皮の部位と、土間床等の合計面積を、用途別床面積より差し引いて推定する。\n",
    "$A_{ic,MR,temp}$,$A_{ic,OR,temp}$,$A_{ic,NR,temp}$は、各用途の方位が「上面」である外皮の部位の合計面積を、用途別床面積より差し引いて推定する。  \n",
    "これらより、$A_{if,MR,OR}$,$A_{if,MR,NR}$,$A_{if,OR,NR}$,$A_{if,OR,NR}$,$A_{if,NR,MR}$,$A_{if,NR,OR}$を推定する。"
   ]
  },
  {
   "cell_type": "markdown",
   "metadata": {},
   "source": [
    "各用途の室上の床面積は、その用途と他の2用途の間の室上の床面積の合計に等しい。"
   ]
  },
  {
   "cell_type": "markdown",
   "metadata": {},
   "source": [
    "$$\n",
    "\\displaystyle\n",
    "A_{if,MR} = A_{if,MR,OR}+A_{if,MR,NR}\n",
    "$$\n",
    "$$\n",
    "\\displaystyle\n",
    "A_{if,OR} = A_{if,OR,MR}+A_{if,OR,NR}\n",
    "$$\n",
    "$$\n",
    "\\displaystyle\n",
    "A_{if,NR} = A_{if,NR,MR}+A_{if,NR,OR}\n",
    "$$"
   ]
  },
  {
   "cell_type": "markdown",
   "metadata": {},
   "source": [
    "$A_{if,MR}$: その他の居室または非居室との間の、主たる居室の床の面積, m<sup>2</sup>  \n",
    "$A_{if,OR}$: 主たる居室または非居室との間の、その他の居室の床の面積, m<sup>2</sup>  \n",
    "$A_{if,NR}$: 主たる居室またはその他の居室との間の、非居室の床の面積, m<sup>2</sup>  \n",
    "$A_{if,MR,OR}$: その他の居室との間の、主たる居室の床の面積, m<sup>2</sup>  \n",
    "$A_{if,MR,NR}$: 非居室との間の、主たる居室の床の面積, m<sup>2</sup>  \n",
    "$A_{if,OR,MR}$: 主たる居室との間の、その他の居室の床の面積, m<sup>2</sup>  \n",
    "$A_{if,OR,NR}$: 非居室との間の、その他の居室の床の面積, m<sup>2</sup>  \n",
    "$A_{if,NR,MR}$: 主たる居室との間の、非居室の床の面積, m<sup>2</sup>  \n",
    "$A_{if,NR,OR}$: その他の居室との間の、非居室の床の面積, m<sup>2</sup>  "
   ]
  },
  {
   "cell_type": "markdown",
   "metadata": {},
   "source": [
    "2用途の間の天井面積は、その2用途の間の床面積と一致するものとする。  "
   ]
  },
  {
   "cell_type": "markdown",
   "metadata": {},
   "source": [
    "$$\n",
    "\\displaystyle\n",
    "A_{ic,MR,OR} = A_{if,OR,MR}\n",
    "$$\n",
    "$$\n",
    "\\displaystyle\n",
    "A_{ic,MR,NR} = A_{if,NR,MR}\n",
    "$$\n",
    "$$\n",
    "\\displaystyle\n",
    "A_{ic,OR,MR} = A_{if,MR,OR}\n",
    "$$\n",
    "$$\n",
    "\\displaystyle\n",
    "A_{ic,OR,NR} = A_{if,NR,OR}\n",
    "$$\n",
    "$$\n",
    "\\displaystyle\n",
    "A_{ic,NR,MR} = A_{if,MR,NR}\n",
    "$$\n",
    "$$\n",
    "\\displaystyle\n",
    "A_{ic,NR,OR} = A_{if,OR,NR}\n",
    "$$"
   ]
  },
  {
   "cell_type": "markdown",
   "metadata": {},
   "source": [
    "$A_{ic,MR,OR}$: その他の居室との間の、主たる居室の天井の面積, m<sup>2</sup>  \n",
    "$A_{ic,MR,NR}$: 非居室との間の、主たる居室の天井の面積, m<sup>2</sup>  \n",
    "$A_{ic,OR,MR}$: 主たる居室との間の、その他の居室の天井の面積, m<sup>2</sup>  \n",
    "$A_{ic,OR,NR}$: 非居室との間の、その他の居室の天井の面積, m<sup>2</sup>  \n",
    "$A_{ic,NR,MR}$: 主たる居室との間の、非居室の天井の面積, m<sup>2</sup>  \n",
    "$A_{ic,NR,OR}$: その他の居室との間の、非居室の天井の面積, m<sup>2</sup>  "
   ]
  },
  {
   "cell_type": "markdown",
   "metadata": {},
   "source": [
    "各用途の室上の床面積の合計、各用途の室下の天井面積の合計、各用途の室下の天井面積の暫定値の合計は、以下のとおり。"
   ]
  },
  {
   "cell_type": "markdown",
   "metadata": {},
   "source": [
    "$$\n",
    "\\displaystyle\n",
    "A_{if} = A_{if,MR} + A_{if,OR} + A_{if,NR}\n",
    "$$\n",
    "$$\n",
    "\\displaystyle\n",
    "A_{ic,temp} = A_{ic,MR,temp} + A_{ic,OR,temp} + A_{ic,NR,temp}\n",
    "$$"
   ]
  },
  {
   "cell_type": "markdown",
   "metadata": {},
   "source": [
    "$A_{if}$: 室上の床の面積の合計, m<sup>2</sup>  \n",
    "$A_{ic,MR,temp}$: その他の居室または非居室との間の、主たる居室の天井の面積の暫定値, m<sup>2</sup>  \n",
    "$A_{ic,OR,temp}$: 主たる居室または非居室との間の、その他の居室の天井の面積の暫定値, m<sup>2</sup>  \n",
    "$A_{ic,NR,temp}$: 主たる居室またはその他の居室との間の、非居室の天井の面積の暫定値, m<sup>2</sup>  "
   ]
  },
  {
   "cell_type": "markdown",
   "metadata": {},
   "source": [
    "各用途の室下の天井面積は、その用途と他の2用途の間の室下の天井面積の合計に等しい。  \n",
    "各用途の室下の天井面積は、他の2用途の室上の床面積以下である必要がある。"
   ]
  },
  {
   "cell_type": "markdown",
   "metadata": {},
   "source": [
    "$$\n",
    "\\displaystyle\n",
    "A_{ic,MR} = A_{ic,MR,OR}+A_{ic,MR,NR} = A_{if,OR,MR}+A_{if,NR,MR} ≦ A_{if,OR}+A_{if,NR}\n",
    "$$\n",
    "$$\n",
    "\\displaystyle\n",
    "A_{ic,OR} = A_{ic,OR,MR}+A_{ic,OR,NR} = A_{if,MR,OR}+A_{if,NR,OR} ≦ A_{if,MR}+A_{if,NR}\n",
    "$$\n",
    "$$\n",
    "\\displaystyle\n",
    "A_{ic,NR} = A_{ic,NR,MR}+A_{ic,NR,OR} = A_{if,MR,NR}+A_{if,OR,NR} ≦ A_{if,MR}+A_{if,OR}\n",
    "$$"
   ]
  },
  {
   "cell_type": "markdown",
   "metadata": {},
   "source": [
    "$A_{ic,MR}$: その他の居室または非居室との間の、主たる居室の天井の面積, m<sup>2</sup>  \n",
    "$A_{ic,OR}$: 主たる居室または非居室との間の、その他の居室の天井の面積, m<sup>2</sup>  \n",
    "$A_{ic,NR}$: 主たる居室またはその他の居室との間の、非居室の天井の面積, m<sup>2</sup>  "
   ]
  },
  {
   "cell_type": "markdown",
   "metadata": {},
   "source": [
    "上記を満たすよう、$A_{ic,MR,temp}$,$A_{ic,OR,temp}$,$A_{ic,NR,temp}$を調整して、$A_{ic,MR}$,$A_{ic,OR}$,$A_{ic,NR}$を決定する。"
   ]
  },
  {
   "cell_type": "markdown",
   "metadata": {},
   "source": [
    "$$\n",
    "\\displaystyle\n",
    "A_{ic,MR} = \\left \\{\n",
    "\\begin{array}{ll}\n",
    "A_{if,OR} + A_{if,NR} & ( A_{if} \\times \\frac{A_{ic,MR,temp}}{A_{ic,temp}} > A_{if,OR} + A_{if,NR} ) \\\\\n",
    "A_{if,OR} \\times \\frac{A_{ic,MR,temp}}{A_{ic,MR,temp} + A_{ic,NR,temp}} & ( A_{if} \\times \\frac{A_{ic,OR,temp}}{A_{ic,temp}} > A_{if,MR} + A_{if,NR} ) \\\\\n",
    "A_{if,NR} \\times \\frac{A_{ic,MR,temp}}{A_{ic,MR,temp} + A_{ic,OR,temp}} & ( A_{if} \\times \\frac{A_{ic,NR,temp}}{A_{ic,temp}} > A_{if,MR} + A_{if,OR} ) \\\\\n",
    "A_{if} \\times \\frac{A_{ic,MR,temp}}{A_{ic,temp}} & ( 上記以外) \\\\\n",
    "\\end{array}\n",
    "\\right.\n",
    "$$\n",
    "$$\n",
    "\\displaystyle\n",
    "A_{ic,OR} = \\left \\{\n",
    "\\begin{array}{ll}\n",
    "A_{if,MR} \\times \\frac{A_{ic,OR,temp}}{A_{ic,OR,temp} + A_{ic,NR,temp}} & ( A_{if} \\times \\frac{A_{ic,MR,temp}}{A_{ic,temp}} > A_{if,OR} + A_{if,NR} ) \\\\\n",
    "A_{if,MR} + A_{if,NR} & ( A_{if} \\times \\frac{A_{ic,OR,temp}}{A_{ic,temp}} > A_{if,MR} + A_{if,NR} ) \\\\\n",
    "A_{if,NR} \\times \\frac{A_{ic,OR,temp}}{A_{ic,MR,temp} + A_{ic,OR,temp}} & ( A_{if} \\times \\frac{A_{ic,NR,temp}}{A_{ic,temp}} > A_{if,MR} + A_{if,OR} ) \\\\\n",
    "A_{if} \\times \\frac{A_{ic,OR,temp}}{A_{ic,temp}} & ( 上記以外) \\\\\n",
    "\\end{array}\n",
    "\\right.\n",
    "$$\n",
    "$$\n",
    "\\displaystyle\n",
    "A_{ic,NR} = \\left \\{\n",
    "\\begin{array}{ll}\n",
    "A_{if,MR} \\times \\frac{A_{ic,NR,temp}}{A_{ic,OR,temp} + A_{ic,NR,temp}} & ( A_{if} \\times \\frac{A_{ic,MR,temp}}{A_{ic,temp}} > A_{if,OR} + A_{if,NR} ) \\\\\n",
    "A_{if,OR} \\times \\frac{A_{ic,NR,temp}}{A_{ic,MR,temp} + A_{ic,NR,temp}} & ( A_{if} \\times \\frac{A_{ic,OR,temp}}{A_{ic,temp}} > A_{if,MR} + A_{if,NR} ) \\\\\n",
    "A_{if,MR} + A_{if,OR} & ( A_{if} \\times \\frac{A_{ic,NR,temp}}{A_{ic,temp}} > A_{if,MR} + A_{if,OR} ) \\\\\n",
    "A_{if} \\times \\frac{A_{ic,NR,temp}}{A_{ic,temp}} & ( 上記以外) \\\\\n",
    "\\end{array}\n",
    "\\right.\n",
    "$$"
   ]
  },
  {
   "cell_type": "markdown",
   "metadata": {},
   "source": [
    "2用途間の床面積・天井面積が0㎡以上となるには、以下を満たす必要がある。"
   ]
  },
  {
   "cell_type": "markdown",
   "metadata": {},
   "source": [
    "$$\n",
    "\\displaystyle\n",
    "A_{if,MR,OR} ≧ max(0,A_{if,MR} - A_{if,MR,NR},A_{ic,OR} - A_{if,NR,OR}) ≧ max(0,A_{if,MR} - A_{ic,NR},A_{ic,OR} - A_{if,NR})\n",
    "$$\n",
    "$$\n",
    "\\displaystyle\n",
    "A_{if,MR,NR} ≧ max(0,A_{if,MR} - A_{if,MR,OR},A_{ic,NR} - A_{if,OR,NR}) ≧ max(0,A_{if,MR} - A_{ic,OR},A_{ic,NR} - A_{if,OR})\n",
    "$$\n",
    "$$\n",
    "\\displaystyle\n",
    "A_{if,OR,MR} ≧ max(0,A_{if,OR} - A_{if,OR,NR},A_{ic,MR} - A_{if,NR,MR}) ≧ max(0,A_{if,OR} - A_{ic,NR},A_{ic,MR} - A_{if,NR})\n",
    "$$\n",
    "$$\n",
    "\\displaystyle\n",
    "A_{if,OR,NR} ≧ max(0,A_{if,OR} - A_{if,OR,MR},A_{ic,NR} - A_{if,MR,NR}) ≧ max(0,A_{if,OR} - A_{ic,MR},A_{ic,NR} - A_{if,MR})\n",
    "$$$$\n",
    "\\displaystyle\n",
    "A_{if,NR,MR} ≧ max(0,A_{if,NR} - A_{if,NR,OR},A_{ic,MR} - A_{if,OR,MR}) ≧ max(0,A_{if,NR} - A_{ic,OR},A_{ic,MR} - A_{if,OR})\n",
    "$$\n",
    "$$\n",
    "\\displaystyle\n",
    "A_{if,NR,OR} ≧ max(0,A_{if,NR} - A_{if,NR,MR},A_{ic,OR} - A_{if,MR,OR}) ≧ max(0,A_{if,NR} - A_{ic,MR},A_{ic,OR} - A_{if,MR})\n",
    "$$"
   ]
  },
  {
   "cell_type": "markdown",
   "metadata": {},
   "source": [
    "上記を満たす場合に、隣接する用途が決定されない室上の床面積は、他の2用途に1/2ずつ分配する。"
   ]
  },
  {
   "cell_type": "markdown",
   "metadata": {},
   "source": [
    "$$\n",
    "\\displaystyle\n",
    "A_{if,MR,OR} = max(0,A_{if,MR} - A_{ic,NR},A_{ic,OR} - A_{if,NR}) + \\frac{A_{if,MR} - max(0,A_{if,MR} - A_{ic,NR},A_{ic,OR} - A_{if,NR}) - max(0,A_{if,MR} - A_{ic,OR},A_{ic,NR} - A_{if,OR})}{2}\n",
    "$$\n",
    "$$\n",
    "\\displaystyle\n",
    "A_{if,MR,NR} = max(0,A_{if,MR} - A_{ic,OR},A_{ic,NR} - A_{if,OR}) + \\frac{A_{if,MR} - max(0,A_{if,MR} - A_{ic,NR},A_{ic,OR} - A_{if,NR}) - max(0,A_{if,MR} - A_{ic,OR},A_{ic,NR} - A_{if,OR})}{2}\n",
    "$$\n",
    "$$\n",
    "\\displaystyle\n",
    "A_{if,OR,MR} = max(0,A_{if,OR} - A_{ic,NR},A_{ic,MR} - A_{if,NR})) + \\frac{A_{if,OR} - max(0,A_{if,OR} - A_{ic,NR},A_{ic,MR} - A_{if,NR})) - max(0,A_{if,OR} - A_{ic,MR},A_{ic,NR} - A_{if,MR})}{2}\n",
    "$$\n",
    "$$\n",
    "\\displaystyle\n",
    "A_{if,OR,NR} = max(0,A_{if,OR} - A_{ic,MR},A_{ic,NR} - A_{if,MR}) + \\frac{A_{if,OR} - max(0,A_{if,OR} - A_{ic,NR},A_{ic,MR} - A_{if,NR})) - max(0,A_{if,OR} - A_{ic,MR},A_{ic,NR} - A_{if,MR})}{2}\n",
    "$$$$\n",
    "\\displaystyle\n",
    "A_{if,NR,MR} = max(0,A_{if,NR} - A_{ic,OR},A_{ic,MR} - A_{if,OR}) + \\frac{A_{if,NR} - max(0,A_{if,NR} - A_{ic,OR},A_{ic,MR} - A_{if,OR}) - max(0,A_{if,NR} - A_{ic,MR},A_{ic,OR} - A_{if,MR}) }{2}\n",
    "$$\n",
    "$$\n",
    "\\displaystyle\n",
    "A_{if,NR,OR} = max(0,A_{if,NR} - A_{ic,MR},A_{ic,OR} - A_{if,MR}) + \\frac{A_{if,NR} - max(0,A_{if,NR} - A_{ic,OR},A_{ic,MR} - A_{if,OR}) - max(0,A_{if,NR} - A_{ic,MR},A_{ic,OR} - A_{if,MR}) }{2}\n",
    "$$"
   ]
  },
  {
   "cell_type": "markdown",
   "metadata": {},
   "source": [
    "懸案事項  \n",
    "　推定方法が複雑である。"
   ]
  },
  {
   "cell_type": "markdown",
   "metadata": {},
   "source": [
    "#### Function"
   ]
  },
  {
   "cell_type": "code",
   "execution_count": null,
   "metadata": {
    "collapsed": true
   },
   "outputs": [],
   "source": [
    "def get_area_floor_over_room_type2(A_if, A_ic_temp):\n",
    "    \n",
    "    A_if_sum = sum( A_if[x] for x in A_if.keys() )\n",
    "    A_ic_temp_sum = sum( A_ic_temp[x] for x in A_ic_temp.keys() )\n",
    "    \n",
    "    if A_if_sum*A_ic_temp['main']/A_ic_temp_sum > A_if['other'] + A_if['nonliving'] :\n",
    "        A_ic = {\n",
    "            'main': A_if['other'] + A_if['nonliving'],\n",
    "            'other': A_if['main']*A_ic_temp['other']/(A_ic_temp['other'] + A_ic_temp['nonliving']),\n",
    "            'nonliving': A_if['main']*A_ic_temp['nonliving']/(A_ic_temp['other'] + A_ic_temp['nonliving'])\n",
    "        }\n",
    "    elif A_if_sum*A_ic_temp['other']/A_ic_temp_sum > A_if['main'] + A_if['nonliving'] :\n",
    "        A_ic = {\n",
    "            'main': A_if['other']*A_ic_temp['main']/(A_ic_temp['main'] + A_ic_temp['nonliving']),\n",
    "            'other': A_if['main'] + A_if['nonliving'],\n",
    "            'nonliving': A_if['other']*A_ic_temp['nonliving']/(A_ic_temp['main'] + A_ic_temp['nonliving'])\n",
    "        }\n",
    "    elif A_if_sum*A_ic_temp['nonliving']/A_ic_temp_sum > A_if['main'] + A_if['other'] :\n",
    "        A_ic = {\n",
    "            'main': A_if['nonliving']*A_ic_temp['main']/(A_ic_temp['main'] + A_ic_temp['other']),\n",
    "            'other': A_if['nonliving']*A_ic_temp['other']/(A_ic_temp['main'] + A_ic_temp['other']),\n",
    "            'nonliving': A_if['main'] + A_if['other']\n",
    "        }\n",
    "    else :\n",
    "        A_ic = {\n",
    "            'main': A_if_sum*A_ic_temp['main']/A_ic_temp_sum,\n",
    "            'other': A_if_sum*A_ic_temp['other']/A_ic_temp_sum,\n",
    "            'nonliving': A_if_sum*A_ic_temp['nonliving']/A_ic_temp_sum\n",
    "        } \n",
    "\n",
    "    A_if_min = {\n",
    "        'main to other'      : max(0, A_if['main'] - A_ic['nonliving'], A_ic['other'] - A_if['nonliving']),\n",
    "        'main to nonliving'  : max(0, A_if['main'] - A_ic['other'], A_ic['nonliving'] - A_if['other']),\n",
    "        'other to main'      : max(0, A_if['other'] - A_ic['nonliving'], A_ic['main'] - A_if['nonliving']),\n",
    "        'other to nonliving' : max(0, A_if['other'] - A_ic['main'], A_ic['nonliving'] - A_if['main']),\n",
    "        'nonliving to main'  : max(0, A_if['nonliving'] - A_ic['other'], A_ic['main'] - A_if['other']),\n",
    "        'nonliving to other' : max(0, A_if['nonliving'] - A_ic['main'], A_ic['other'] - A_if['main'])\n",
    "    }\n",
    "   \n",
    "    return {'main to other'      : A_if_min['main to other']\n",
    "                                   + (A_if['main'] - A_if_min['main to other'] - A_if_min['main to nonliving'])/2,\n",
    "            'main to nonliving'  : A_if_min['main to nonliving']\n",
    "                                   + (A_if['main'] - A_if_min['main to other'] - A_if_min['main to nonliving'])/2,\n",
    "            'other to main'      : A_if_min['other to main']\n",
    "                                   + (A_if['other'] - A_if_min['other to main'] - A_if_min['other to nonliving'])/2,\n",
    "            'other to nonliving' : A_if_min['other to nonliving']\n",
    "                                   + (A_if['other'] - A_if_min['other to main'] - A_if_min['other to nonliving'])/2,\n",
    "            'nonliving to main'  : A_if_min['nonliving to main']\n",
    "                                   + (A_if['nonliving'] - A_if_min['nonliving to main'] - A_if_min['nonliving to other'])/2,\n",
    "            'nonliving to other' : A_if_min['nonliving to other']\n",
    "                                   + (A_if['nonliving'] - A_if_min['nonliving to main'] - A_if_min['nonliving to other'])/2}"
   ]
  },
  {
   "cell_type": "markdown",
   "metadata": {},
   "source": [
    "#### Example"
   ]
  },
  {
   "cell_type": "code",
   "execution_count": null,
   "metadata": {},
   "outputs": [],
   "source": [
    "A_if = {'main': 6, 'other':3, 'nonliving': 6}\n",
    "A_ic_temp = {'main': 1, 'other':3, 'nonliving': 2}\n",
    "\n",
    "print(get_area_floor_over_room_type2(A_if, A_ic_temp))"
   ]
  },
  {
   "cell_type": "code",
   "execution_count": null,
   "metadata": {
    "collapsed": true
   },
   "outputs": [],
   "source": []
  }
 ],
 "metadata": {
  "kernelspec": {
   "display_name": "Python 3",
   "language": "python",
   "name": "python3"
  },
  "language_info": {
   "codemirror_mode": {
    "name": "ipython",
    "version": 3
   },
   "file_extension": ".py",
   "mimetype": "text/x-python",
   "name": "python",
   "nbconvert_exporter": "python",
   "pygments_lexer": "ipython3",
   "version": "3.6.3"
  }
 },
 "nbformat": 4,
 "nbformat_minor": 2
}
