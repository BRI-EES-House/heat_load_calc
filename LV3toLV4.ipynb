{
 "cells": [
  {
   "cell_type": "code",
   "execution_count": 1,
   "metadata": {
    "collapsed": true
   },
   "outputs": [],
   "source": [
    "import copy\n",
    "import math"
   ]
  },
  {
   "cell_type": "markdown",
   "metadata": {},
   "source": [
    "# 外皮情報LV3からLV4へのコンバート"
   ]
  },
  {
   "cell_type": "markdown",
   "metadata": {},
   "source": [
    "## Outline\n",
    "\n",
    "- 外皮性能計算プログラムに、外皮の用途別情報を追加したものより、内壁等（建物内部の壁、天井、床）の面積の推定および熱貫流率の決定を行う。\n",
    "- 外皮の用途別情報が入力された場合において床下空間に属する土間床等面積が0㎡より大きい場合、室と床下空間の間の床の面積の合計は、床下空間に属する土間床等面積の合計（ただし、室用途別の床面積と方位が「下面」の部位面積の差分の合計を上限とする）に等しいとみなす。室と床下空間の間の床は、室用途別の床面積と方位が「下面」の部位面積の差分に応じて、各用途に割り当てる。\n",
    "- 室と床下空間の間の床は、仕様を想定して与える（合板12mm、参考：SimHeatでの熱負荷計算用の無断熱の層構成）。\n",
    "- 内壁等の面積は、室の周長を求める際の係数（アスペクト比）と階高を仮定して、外皮の用途別情報および用途別床面積より推定する。\n",
    "- 内壁等の熱貫流率は一般的な仕様を想定して与える（石膏ボード12.5mm－空気層－石膏ボード12.5mm、参考：SimHeatでの熱負荷計算用の無断熱の層構成）。室内戸は考慮しない。\n",
    "- その他は、内壁の用途別情報が得られている場合と同様に求める。"
   ]
  },
  {
   "cell_type": "markdown",
   "metadata": {},
   "source": [
    "## 1. Common Element"
   ]
  },
  {
   "cell_type": "markdown",
   "metadata": {},
   "source": [
    "#### Outline"
   ]
  },
  {
   "cell_type": "markdown",
   "metadata": {},
   "source": [
    "'Common'要素はそのまま維持する。"
   ]
  },
  {
   "cell_type": "markdown",
   "metadata": {},
   "source": [
    "参照：InputDataDefinition.ipynb"
   ]
  },
  {
   "cell_type": "markdown",
   "metadata": {},
   "source": [
    "#### Function"
   ]
  },
  {
   "cell_type": "code",
   "execution_count": 2,
   "metadata": {
    "collapsed": true
   },
   "outputs": [],
   "source": [
    "def convert_common(d):\n",
    "    return d['Common']"
   ]
  },
  {
   "cell_type": "markdown",
   "metadata": {},
   "source": [
    "## 2. Walls Element"
   ]
  },
  {
   "cell_type": "markdown",
   "metadata": {},
   "source": [
    "#### Outline"
   ]
  },
  {
   "cell_type": "markdown",
   "metadata": {},
   "source": [
    "'Walls'要素はそのまま維持する。"
   ]
  },
  {
   "cell_type": "markdown",
   "metadata": {},
   "source": [
    "#### Function"
   ]
  },
  {
   "cell_type": "code",
   "execution_count": 3,
   "metadata": {
    "collapsed": true
   },
   "outputs": [],
   "source": [
    "def convert_wall(d):\n",
    "    return d['Walls']"
   ]
  },
  {
   "cell_type": "markdown",
   "metadata": {},
   "source": [
    "## 3. Windows Element"
   ]
  },
  {
   "cell_type": "markdown",
   "metadata": {},
   "source": [
    "#### Outline"
   ]
  },
  {
   "cell_type": "markdown",
   "metadata": {},
   "source": [
    "'Windows'要素はそのまま維持する。"
   ]
  },
  {
   "cell_type": "markdown",
   "metadata": {},
   "source": [
    "#### Function"
   ]
  },
  {
   "cell_type": "code",
   "execution_count": 4,
   "metadata": {
    "collapsed": true
   },
   "outputs": [],
   "source": [
    "def convert_window(d):\n",
    "    return d['Windows']"
   ]
  },
  {
   "cell_type": "markdown",
   "metadata": {},
   "source": [
    "## 4. Doors Element"
   ]
  },
  {
   "cell_type": "markdown",
   "metadata": {},
   "source": [
    "#### Outline"
   ]
  },
  {
   "cell_type": "markdown",
   "metadata": {},
   "source": [
    "'Doors'要素はそのまま維持する。"
   ]
  },
  {
   "cell_type": "markdown",
   "metadata": {},
   "source": [
    "#### Function"
   ]
  },
  {
   "cell_type": "code",
   "execution_count": 5,
   "metadata": {
    "collapsed": true
   },
   "outputs": [],
   "source": [
    "def convert_door(d):\n",
    "    return d['Doors']"
   ]
  },
  {
   "cell_type": "markdown",
   "metadata": {},
   "source": [
    "## 5. Heatbridges Element"
   ]
  },
  {
   "cell_type": "markdown",
   "metadata": {},
   "source": [
    "#### Outline"
   ]
  },
  {
   "cell_type": "markdown",
   "metadata": {},
   "source": [
    "'Heatbridges'要素はそのまま維持する。"
   ]
  },
  {
   "cell_type": "markdown",
   "metadata": {},
   "source": [
    "#### Function"
   ]
  },
  {
   "cell_type": "code",
   "execution_count": 6,
   "metadata": {
    "collapsed": true
   },
   "outputs": [],
   "source": [
    "def convert_heatbridge(d):\n",
    "    return d['Heatbridges']"
   ]
  },
  {
   "cell_type": "markdown",
   "metadata": {},
   "source": [
    "## 6. EarthfloorPerimeters Element"
   ]
  },
  {
   "cell_type": "markdown",
   "metadata": {},
   "source": [
    "#### Outline"
   ]
  },
  {
   "cell_type": "markdown",
   "metadata": {},
   "source": [
    "'EarthfloorPerimeters'要素はそのまま維持する。"
   ]
  },
  {
   "cell_type": "markdown",
   "metadata": {},
   "source": [
    "#### Function"
   ]
  },
  {
   "cell_type": "code",
   "execution_count": 7,
   "metadata": {
    "collapsed": true
   },
   "outputs": [],
   "source": [
    "def convert_earthfloorperimeter(d):\n",
    "    return d['EarthfloorPerimeters']"
   ]
  },
  {
   "cell_type": "markdown",
   "metadata": {},
   "source": [
    "## 7. Earthfloors Element"
   ]
  },
  {
   "cell_type": "markdown",
   "metadata": {},
   "source": [
    "#### Outline"
   ]
  },
  {
   "cell_type": "markdown",
   "metadata": {},
   "source": [
    "'Earthfloors'要素はそのまま維持する。"
   ]
  },
  {
   "cell_type": "markdown",
   "metadata": {},
   "source": [
    "#### Function"
   ]
  },
  {
   "cell_type": "code",
   "execution_count": 8,
   "metadata": {
    "collapsed": true
   },
   "outputs": [],
   "source": [
    "def convert_earthfloor(d):\n",
    "    return d['EarthFloors']"
   ]
  },
  {
   "cell_type": "markdown",
   "metadata": {},
   "source": [
    "## 8. InnerWalls Element"
   ]
  },
  {
   "cell_type": "markdown",
   "metadata": {},
   "source": [
    "## 8.1. 用途別床面積を取得する関数"
   ]
  },
  {
   "cell_type": "code",
   "execution_count": 9,
   "metadata": {
    "collapsed": true
   },
   "outputs": [],
   "source": [
    "def get_area_floor_tuple(d_common):\n",
    "    return d_common['MainOccupantRoomFloorArea'], \\\n",
    "           d_common['OtherOccupantRoomFloorArea'], \\\n",
    "           d_common['TotalFloorArea'] - d_common['MainOccupantRoomFloorArea'] - d_common['OtherOccupantRoomFloorArea']"
   ]
  },
  {
   "cell_type": "code",
   "execution_count": 10,
   "metadata": {
    "collapsed": true
   },
   "outputs": [],
   "source": [
    "def get_area_floor_dictionary(d_common):\n",
    "    return { 'Main': d_common['MainOccupantRoomFloorArea'],\n",
    "             'Other': d_common['OtherOccupantRoomFloorArea'], \\\n",
    "             'Nonliving': d_common['TotalFloorArea'] - d_common['MainOccupantRoomFloorArea'] - d_common['OtherOccupantRoomFloorArea']\n",
    "            }"
   ]
  },
  {
   "cell_type": "markdown",
   "metadata": {},
   "source": [
    "## 8.2. InnerWalls Element - Ground Floor "
   ]
  },
  {
   "cell_type": "markdown",
   "metadata": {},
   "source": [
    "### 1) 層構成"
   ]
  },
  {
   "cell_type": "markdown",
   "metadata": {},
   "source": [
    "#### Outline"
   ]
  },
  {
   "cell_type": "markdown",
   "metadata": {},
   "source": [
    "以下の層構成とする。"
   ]
  },
  {
   "cell_type": "markdown",
   "metadata": {},
   "source": [
    "| 材料 | 厚さ, m | 熱伝導率, W m<sup>-1</sup> K<sup>-1</sup> | 熱抵抗, m<sup>2</sup> k W<sup>-1</sup> | 容積比熱, J L<sup>-1</sup> K<sup>-1</sup> |\n",
    "|---|---|---|---|\n",
    "| 合板 | 0.012 | 0.16 | 0.075 | 720.0 |"
   ]
  },
  {
   "cell_type": "markdown",
   "metadata": {},
   "source": [
    "#### Function"
   ]
  },
  {
   "cell_type": "code",
   "execution_count": 11,
   "metadata": {
    "collapsed": true
   },
   "outputs": [],
   "source": [
    "def get_inner_floor_layers():\n",
    "    return [{'Name': 'PED', 'Cond': 0.16, 'Thick': 0.012, 'SpecH': 720.0}]"
   ]
  },
  {
   "cell_type": "markdown",
   "metadata": {},
   "source": [
    "### 2) 床下空間上の床面積の推定"
   ]
  },
  {
   "cell_type": "markdown",
   "metadata": {},
   "source": [
    "#### Outline  \n",
    "- 外皮の用途別情報が入力された場合において床下空間に属する土間床等面積が0㎡より大きい場合、室と床下空間の間の床の面積の合計は、床下空間に属する土間床等面積の合計（ただし、室用途別の床面積と方位が「下面」の部位面積の差分の合計を上限とする）に等しいとみなす。  \n",
    "- 室と床下空間の間の床は、室用途別の床面積と方位が「下面」の部位面積の差分に応じて、各用途に割り当てる。"
   ]
  },
  {
   "cell_type": "markdown",
   "metadata": {},
   "source": [
    "$\\sum_{i}^{}A_{b,i}>0$ かつ $A_{dif,MR} + A_{dif,OR} + A_{dif,NR}>0$ の場合"
   ]
  },
  {
   "cell_type": "markdown",
   "metadata": {},
   "source": [
    "　　$\\sum_{i}^{}A_{b,i}≦A_{dif,MR} + A_{dif,OR} + A_{dif,NR}$ の場合"
   ]
  },
  {
   "cell_type": "markdown",
   "metadata": {},
   "source": [
    "$$\n",
    "\\displaystyle\n",
    "A_{f,MR}= \\sum_{i}^{}A_{b,i} \\times \\frac{ A_{dif,MR} }{ A_{dif,MR} + A_{dif,OR} + A_{dif,NR} }\n",
    "$$\n",
    "\n",
    "$$\n",
    "\\displaystyle\n",
    "A_{f,OR}= \\sum_{i}^{}A_{b,i} \\times \\frac{ A_{dif,OR} }{ A_{dif,MR} + A_{dif,OR} + A_{dif,NR} }\n",
    "$$\n",
    "\n",
    "$$\n",
    "\\displaystyle\n",
    "A_{f,NR}= \\sum_{i}^{}A_{b,i} \\times \\frac{ A_{dif,NR} }{ A_{dif,MR} + A_{dif,OR} + A_{dif,NR} }\n",
    "$$"
   ]
  },
  {
   "cell_type": "markdown",
   "metadata": {},
   "source": [
    "　　$\\sum_{i}^{}A_{b,i}>A_{dif,MR} + A_{dif,OR} + A_{dif,NR}$ の場合"
   ]
  },
  {
   "cell_type": "markdown",
   "metadata": {},
   "source": [
    "$$\n",
    "\\displaystyle\n",
    "A_{f,MR}= A_{dif,MR}, A_{f,OR}= A_{dif,OR}, A_{f,NR}= A_{dif,NR}\n",
    "$$"
   ]
  },
  {
   "cell_type": "markdown",
   "metadata": {},
   "source": [
    "$A_{b,i}$: 床下空間に属する土間床等の部位$i$の面積, m<sup>2</sup>  \n",
    "$A_{f,MR}$: 主たる居室と床下空間の間の床の面積, m<sup>2</sup>  \n",
    "$A_{f,OR}$: その他の居室と床下空間の間の床の面積, m<sup>2</sup>  \n",
    "$A_{f,NR}$: 非居室と床下空間の間の床の面積, m<sup>2</sup>  \n",
    "$A_f$: 室と床下空間の間の床面積の合計, m<sup>2</sup>  \n",
    "$A_{dif,MR}$: 主たる居室において、方位が「下面」の部位の面積と土間床等の面積の合計と、床面積の差, m<sup>2</sup>  \n",
    "$A_{dif,OR}$: その他の居室において、方位が「下面」の部位の面積と土間床等の面積の合計と、床面積の差, m<sup>2</sup>  \n",
    "$A_{dif,NR}$: 非居室において、方位が「下面」の部位の面積と土間床等の面積の合計と、床面積の差, m<sup>2</sup>  "
   ]
  },
  {
   "cell_type": "markdown",
   "metadata": {},
   "source": [
    "$$\n",
    "\\displaystyle\n",
    "A_{dif, MR} = max(0, A_{MR} - \\sum_i A_{of,MR,i} - \\sum_i A_{ef,MR,i})\n",
    "$$\n",
    "\n",
    "$$\n",
    "\\displaystyle\n",
    "A_{dif, OR} = max(0, A_{OR} - \\sum_i A_{of,OR,i} - \\sum_i A_{ef,OR,i})\n",
    "$$\n",
    "\n",
    "$$\n",
    "\\displaystyle\n",
    "A_{dif, NR} = max(0, A_{NR} - \\sum_i A_{of,NR,i} - \\sum_i A_{ef,NR,i})\n",
    "$$"
   ]
  },
  {
   "cell_type": "markdown",
   "metadata": {},
   "source": [
    "$A_{MR}$: 主たる居室の床面積, m<sup>2</sup>  \n",
    "$A_{OR}$: その他の居室の床面積, m<sup>2</sup>  \n",
    "$A_{NR}$: 非居室の床面積, m<sup>2</sup>   \n",
    "$A_{of,MR,i}$: 方位が「下面」である主たる居室の外皮の部位(一般部位又は開口部)$i$の面積, m<sup>2</sup>  \n",
    "$A_{of,OR,i}$: 方位が「下面」であるその他の居室の外皮の部位(一般部位又は開口部)$i$の面積, m<sup>2</sup>  \n",
    "$A_{of,NR,i}$: 方位が「下面」である非居室の外皮の部位(一般部位又は開口部)$i$の面積, m<sup>2</sup>  \n",
    "$A_{ef,MR,i}$: 主たる居室の土間床$i$の面積, m<sup>2</sup>  \n",
    "$A_{ef,OR,i}$: その他の居室の土間床$i$の面積, m<sup>2</sup>  \n",
    "$A_{ef,NR,i}$: 非居室の土間床$i$の面積, m<sup>2</sup>  "
   ]
  },
  {
   "cell_type": "markdown",
   "metadata": {},
   "source": [
    "#### Function"
   ]
  },
  {
   "cell_type": "code",
   "execution_count": 12,
   "metadata": {
    "collapsed": true
   },
   "outputs": [],
   "source": [
    "# 居室の方位が「下面」である外皮の部位と土間床等の面積の合計\n",
    "def get_A_of(d, s):\n",
    "    # s : space name\n",
    "\n",
    "    # 居室の方位が「下面」である外皮の部位の面積\n",
    "    A_of_Bottom = sum( y['Area'] for y in d['Walls'] + d['Windows'] + d['Doors'] if y['Space'] == s and y['Direction'] == 'Bottom' )\n",
    "\n",
    "    # 土間床等の面積の合計\n",
    "    A_of_EarthFloor = sum( y['Area'] for y in d['EarthFloors'] if ('EarthFloors' in d ) == True and y['Space'] == s )\n",
    "\n",
    "    return A_of_Bottom + A_of_EarthFloor"
   ]
  },
  {
   "cell_type": "code",
   "execution_count": 13,
   "metadata": {
    "collapsed": true
   },
   "outputs": [],
   "source": [
    "# 床下空間に属する土間床等の面積の取得\n",
    "def get_A_b(d):\n",
    "    return sum(earthfloor['Area'] for earthfloor in d['EarthFloors'] if earthfloor['Space'] == 'underfloor')"
   ]
  },
  {
   "cell_type": "markdown",
   "metadata": {},
   "source": [
    "#### Function 1"
   ]
  },
  {
   "cell_type": "code",
   "execution_count": 14,
   "metadata": {
    "collapsed": true
   },
   "outputs": [],
   "source": [
    "def get_area_floor_over_underfloor_tuple(d):\n",
    "    \n",
    "    # 用途別床面積の取得\n",
    "    A_MR, A_OR, A_NR = get_area_floor_tuple(d['Common'])\n",
    "    \n",
    "    # 下面（direction:Bottom）の壁・窓・ドア面積と土間床等の面積の合計値の取得\n",
    "    A_of_MR, A_of_OR, A_of_NR = get_A_of(d, 'Main'), get_A_of(d, 'Other'), get_A_of(d, 'Nonliving')\n",
    "    \n",
    "    # 方位が「下面」の部位の面積と土間床等の面積の合計値と、床面積の差\n",
    "    A_dif_MR, A_dif_OR, A_dif_NR = max(0.0, A_MR - A_of_MR), max(0.0, A_OR - A_of_OR), max(0.0, A_NR - A_of_NR)\n",
    "\n",
    "    A_dif = A_dif_MR + A_dif_OR + A_dif_NR\n",
    "\n",
    "    # 床下空間に属する土間床等の面積の取得\n",
    "    A_b = get_A_b(d)\n",
    "    \n",
    "    # 室と床下空間の間の床面を設定する場合\n",
    "    if A_b > 0 and A_dif > 0 :    \n",
    "        # 居室と床下空間との間の床の面積\n",
    "        if A_b <= A_dif :\n",
    "            A_f_MR, A_f_OR, A_f_NR = A_b * A_dif_MR / A_dif, A_b * A_dif_OR / A_dif, A_b * A_dif_NR / A_dif\n",
    "        else :\n",
    "            A_f_MR, A_f_OR, A_f_NR = A_dif_MR, A_dif_OR, A_dif_NR\n",
    "        return True, A_f_MR, A_f_OR, A_f_NR\n",
    "    # 室と床下空間の間の床面を設定しない場合\n",
    "    else :\n",
    "        return False, None, None, None"
   ]
  },
  {
   "cell_type": "markdown",
   "metadata": {},
   "source": [
    "#### Function 2"
   ]
  },
  {
   "cell_type": "code",
   "execution_count": 15,
   "metadata": {
    "collapsed": true
   },
   "outputs": [],
   "source": [
    "def get_area_floor_over_underfloor_dictionary(d):\n",
    "\n",
    "    # 用途別床面積の取得\n",
    "    A = get_area_floor_dictionary(d['Common'])\n",
    "    \n",
    "    # 下面（direction:Bottom）の壁・窓・ドア面積と土間床等の面積の合計値の取得\n",
    "    A_of= {x : get_A_of(d, x) for x in ['Main', 'Other', 'Nonliving']}\n",
    "    \n",
    "    # 方位が「下面」の部位の面積と土間床等の面積の合計値と、床面積の差\n",
    "    A_dif = {x : max(0.0, A[x] - A_of[x]) for x in ['Main', 'Other', 'Nonliving']}\n",
    "    \n",
    "    A_dif_sum = sum(A_dif[x] for x in A_dif.keys())\n",
    "\n",
    "    # 床下空間に属する土間床等の面積の取得\n",
    "    A_b = get_A_b(d)\n",
    "\n",
    "    #  室と床下空間の間の床面積の推定\n",
    "    A_f = min(A_dif_sum, A_b)    \n",
    "\n",
    "    # 室と床下空間の間の床面を設定する場合\n",
    "    if A_b > 0 and A_dif_sum > 0 :    \n",
    "        # 居室と床下空間との間の床の面積\n",
    "        if A_b <= A_dif_sum :\n",
    "            A_f = {x : A_b * A_dif[x] / A_dif_sum for x in ['Main', 'Other', 'Nonliving']}\n",
    "        else :\n",
    "            A_f = {x : A_dif[x] for x in ['Main', 'Other', 'Nonliving']}\n",
    "        return True, A_f\n",
    "    # 室と床下空間の間の床面を設定しない場合\n",
    "    else :\n",
    "        return False, None"
   ]
  },
  {
   "cell_type": "markdown",
   "metadata": {},
   "source": [
    "#### Example"
   ]
  },
  {
   "cell_type": "code",
   "execution_count": 16,
   "metadata": {},
   "outputs": [
    {
     "name": "stdout",
     "output_type": "stream",
     "text": [
      "(True, 0.0, 6.0, 4.0)\n",
      "(True, {'Main': 0.0, 'Other': 6.0, 'Nonliving': 4.0})\n"
     ]
    }
   ],
   "source": [
    "d = {\n",
    "    'Common': {\n",
    "        'Region': 6,\n",
    "        'MainOccupantRoomFloorArea': 30.0,\n",
    "        'OtherOccupantRoomFloorArea': 60.0,\n",
    "        'TotalFloorArea': 120.0\n",
    "    },\n",
    "    'Walls': [\n",
    "        { 'Area': 60, 'Direction': 'Top', 'name': 'Ceiling', 'Space': 'Main', 'structure': 'wood', 'Type': 'Ceiling' },\n",
    "        { 'Area': 15, 'Direction': 'Bottom', 'name': 'Floor', 'Space': 'Other', 'structure': 'wood', 'Type': 'Floor' },\n",
    "    ],\n",
    "    'Windows': [\n",
    "        { 'Area': 30, 'Direction': 'SW', 'name': 'WindowSW', 'Space': 'Main', 'type': 'single' },\n",
    "        { 'Area': 75, 'Direction': 'Bottom', 'name': 'WindowBottom', 'Space': 'Main', 'type': 'single' },\n",
    "    ],\n",
    "    'Doors': [\n",
    "        { 'Area': 15, 'Direction': 'NW', 'name': 'DoorNW', 'Space': 'Nonliving' },\n",
    "        { 'Area': 15, 'Direction': 'NE', 'name': 'DoorNE', 'Space': 'Other' }\n",
    "    ],\n",
    "    'EarthFloors': [\n",
    "        { 'Area': 5, 'name': 'other', 'Space': 'underfloor' },\n",
    "        { 'Area': 5, 'name': 'entrance', 'Space': 'underfloor' }\n",
    "    ]\n",
    "}\n",
    "\n",
    "print(get_area_floor_over_underfloor_tuple(d))\n",
    "print(get_area_floor_over_underfloor_dictionary(d))"
   ]
  },
  {
   "cell_type": "markdown",
   "metadata": {},
   "source": [
    "### 3) 室と床下空間の間の床の構築"
   ]
  },
  {
   "cell_type": "markdown",
   "metadata": {},
   "source": [
    "#### Function 1"
   ]
  },
  {
   "cell_type": "code",
   "execution_count": 17,
   "metadata": {
    "collapsed": true
   },
   "outputs": [],
   "source": [
    "def get_innerwall_groundfloor_tuple(d):\n",
    "    \n",
    "    # 室と床下空間の間の床面積の推定\n",
    "    IsInnerwallGroundfloor, A_if_MR, A_if_OR, A_if_NR = get_area_floor_over_underfloor_tuple(d)\n",
    "    \n",
    "    # 室と床下空間の間の床面を設定する場合\n",
    "    if IsInnerwallGroundfloor == True :    \n",
    "        # 壁体名称、部位面積を更新し、「壁体が属する空間種類」「隣接空間種類」を追加する\n",
    "        ifs = []\n",
    "\n",
    "        if A_if_MR > 0 :\n",
    "            ifs.extend([{\n",
    "                'Name' : 'GroundFloor_Main',\n",
    "                'Type' : 'GroundFloor',\n",
    "                'Direction' : 'Horizontal',\n",
    "                'Area' : A_if_MR,\n",
    "                'Layers' : get_inner_floor_layers(),\n",
    "                'Spaces' : ['Main','Underfloor'],\n",
    "                }])\n",
    "\n",
    "        if A_if_OR > 0 :\n",
    "            ifs.extend([ {\n",
    "                'Name' : 'GroundFloor_Other',\n",
    "                'Type' : 'GroundFloor',\n",
    "                'Direction' : 'Horizontal',\n",
    "                'Area' : A_if_OR,\n",
    "                'Layers' : get_inner_floor_layers(),\n",
    "                'Spaces' : ['Other','Underfloor'],\n",
    "                }])    \n",
    "\n",
    "        if A_if_NR > 0 :\n",
    "            ifs.extend([{\n",
    "                'Name' : 'GroundFloor_Nonliving',\n",
    "                'Type' : 'GroundFloor',\n",
    "                'Direction' : 'Horizontal',\n",
    "                'Area' : A_if_NR,\n",
    "                'Layers' : get_inner_floor_layers(),\n",
    "                'Spaces' : ['Nonliving','Underfloor'],\n",
    "                }])        \n",
    "        \n",
    "        return ifs\n",
    "    # 室と床下空間の間の床面を設定しない場合\n",
    "    else :\n",
    "        return []"
   ]
  },
  {
   "cell_type": "markdown",
   "metadata": {},
   "source": [
    "#### Function 2"
   ]
  },
  {
   "cell_type": "code",
   "execution_count": 18,
   "metadata": {
    "collapsed": true
   },
   "outputs": [],
   "source": [
    "def get_innerwall_groundfloor_dictionary(d):\n",
    "    \n",
    "    # 室と床下空間の間の床面積の推定\n",
    "    IsInnerwallGroundfloor, areas_innerfloor = get_area_floor_over_underfloor_dictionary(d)\n",
    "        \n",
    "    # 室と床下空間の間の床面を設定する場合\n",
    "    if IsInnerwallGroundfloor == True :    \n",
    "        # 壁体名称、部位面積を更新し、「壁体が属する空間種類」「隣接空間種類」を追加する\n",
    "        ifs = []\n",
    "        \n",
    "        for space in ['Main', 'Other', 'Nonliving'] :\n",
    "            if areas_innerfloor[space] > 0 :\n",
    "                ifs.extend([ {\n",
    "                    'Name' : 'GroundFloor_' + space,\n",
    "                    'Type' : 'GroundFloor',\n",
    "                    'Direction' : 'Horizontal',\n",
    "                    'Area' : areas_innerfloor[space],\n",
    "                    'Layers' : get_inner_floor_layers(),\n",
    "                    'Spaces' : [space,'Underfloor'],}])\n",
    "\n",
    "        return ifs\n",
    "    # 室と床下空間の間の床面を設定しない場合\n",
    "    else :\n",
    "        return []"
   ]
  },
  {
   "cell_type": "markdown",
   "metadata": {},
   "source": [
    "## 8.3. InnerWalls Element - Inner Floor"
   ]
  },
  {
   "cell_type": "markdown",
   "metadata": {},
   "source": [
    "### 1) 層構成"
   ]
  },
  {
   "cell_type": "markdown",
   "metadata": {},
   "source": [
    "#### Outline"
   ]
  },
  {
   "cell_type": "markdown",
   "metadata": {},
   "source": [
    "以下の層構成とする。"
   ]
  },
  {
   "cell_type": "markdown",
   "metadata": {},
   "source": [
    "| 材料 | 厚さ, m | 熱伝導率, W m<sup>-1</sup> K<sup>-1</sup> | 熱抵抗, m<sup>2</sup> k W<sup>-1</sup> | 容積比熱, J L<sup>-1</sup> K<sup>-1</sup> |\n",
    "|---|---|---|---|\n",
    "| 合板 | 0.012 | 0.16 | 0.075 | 720.0 |"
   ]
  },
  {
   "cell_type": "markdown",
   "metadata": {},
   "source": [
    "#### Function"
   ]
  },
  {
   "cell_type": "code",
   "execution_count": 19,
   "metadata": {
    "collapsed": true
   },
   "outputs": [],
   "source": [
    "def get_inner_floor_layers():\n",
    "    return [{'Name': 'PED', 'Cond': 0.16, 'Thick': 0.012, 'SpecH': 720.0}]"
   ]
  },
  {
   "cell_type": "markdown",
   "metadata": {},
   "source": [
    "### 2) 室上の床面積の推定"
   ]
  },
  {
   "cell_type": "markdown",
   "metadata": {},
   "source": [
    "#### Outline"
   ]
  },
  {
   "cell_type": "markdown",
   "metadata": {},
   "source": [
    "$$\n",
    "\\displaystyle\n",
    "A_{if,MR}= \\max \\left(0, A_{MR} -  \\left(A_{gf,MR} + \\sum_i A_{of,MR,i} + \\sum_i A_{ef,MR,i} \\right)\\right)\n",
    "$$\n",
    "\n",
    "$$\n",
    "\\displaystyle\n",
    "A_{if,OR}= \\max \\left(0, A_{OR} -  \\left(A_{gf,OR} + \\sum_i A_{of,OR,i} + \\sum_i A_{ef,OR,i} \\right)\\right)\n",
    "$$\n",
    "\n",
    "$$\n",
    "\\displaystyle\n",
    "A_{if,NR}= \\max \\left(0, A_{NR} -  \\left(A_{gf,NR} + \\sum_i A_{of,NR,i} + \\sum_i A_{ef,NR,i} \\right)\\right)\n",
    "$$"
   ]
  },
  {
   "cell_type": "markdown",
   "metadata": {},
   "source": [
    "$A_{if,MR}$: その他の居室または非居室との間の、主たる居室の床の面積, m<sup>2</sup>  \n",
    "$A_{if,OR}$: 主たる居室または非居室との間の、その他の居室の床の面積, m<sup>2</sup>  \n",
    "$A_{if,NR}$: 主たる居室またはその他の居室との間の、非居室の床の面積, m<sup>2</sup>  \n",
    "$A_{MR}$: 主たる居室の床面積, m<sup>2</sup>  \n",
    "$A_{OR}$: その他の居室の床面積, m<sup>2</sup>  \n",
    "$A_{NR}$: 非居室の床面積, m<sup>2</sup>   \n",
    "$A_{gf,MR}$: 主たる居室と床下空間の間の床の面積, m<sup>2</sup>  \n",
    "$A_{gf,OR}$: その他の居室と床下空間の間の床の面積, m<sup>2</sup>  \n",
    "$A_{gf,NR}$: 非居室と床下空間の間の床の面積, m<sup>2</sup>  \n",
    "$A_{of,MR,i}$: 方位が「下面」である主たる居室の外皮の部位(一般部位又は開口部)$i$の面積, m<sup>2</sup>  \n",
    "$A_{of,OR,i}$: 方位が「下面」であるその他の居室の外皮の部位(一般部位又は開口部)$i$の面積, m<sup>2</sup>  \n",
    "$A_{of,NR,i}$: 方位が「下面」である非居室の外皮の部位(一般部位又は開口部)$i$の面積, m<sup>2</sup>  \n",
    "$A_{ef,MR,i}$: 主たる居室の土間床$i$の面積, m<sup>2</sup>  \n",
    "$A_{ef,OR,i}$: その他の居室の土間床$i$の面積, m<sup>2</sup>  \n",
    "$A_{ef,NR,i}$: 非居室の土間床$i$の面積, m<sup>2</sup>   "
   ]
  },
  {
   "cell_type": "markdown",
   "metadata": {},
   "source": [
    "#### Function"
   ]
  },
  {
   "cell_type": "code",
   "execution_count": 20,
   "metadata": {
    "collapsed": true
   },
   "outputs": [],
   "source": [
    "# 床下空間上の床と、方位が「下面」である外皮の部位と、土間床等の面積の合計\n",
    "def get_A_f(d, s, innerwalls):\n",
    "    # s : space name\n",
    "\n",
    "    # 床下空間上の床の面積\n",
    "    A_f_GroundFloor = sum( y['Area'] for y in innerwalls if (y['Type'] == 'GroundFloor'and y['Spaces'] == [s,'Underfloor']))\n",
    "\n",
    "    # 方位が「下面」である外皮の部位の面積\n",
    "    A_f_Bottom = sum( y['Area'] for y in d['Walls'] + d['Windows'] + d['Doors'] if y['Space'] == s and y['Direction'] == 'Bottom' )\n",
    "\n",
    "    # 土間床等の面積\n",
    "    A_f_EarthFloor =  sum( y['Area'] for y in d['EarthFloors'] if ('EarthFloors' in d ) == True and y['Space'] == s )\n",
    "\n",
    "    return A_f_GroundFloor + A_f_Bottom + A_f_EarthFloor"
   ]
  },
  {
   "cell_type": "markdown",
   "metadata": {},
   "source": [
    "#### Function 1"
   ]
  },
  {
   "cell_type": "code",
   "execution_count": 21,
   "metadata": {
    "collapsed": true
   },
   "outputs": [],
   "source": [
    "def get_area_floor_over_room_tuple(d, innerwalls):\n",
    "       \n",
    "    # 用途別床面積の取得\n",
    "    A_MR, A_OR, A_NR = get_area_floor_tuple(d['Common'])\n",
    "    \n",
    "    # 床下空間上の床面積と下面（Direction:Bottom）の壁・窓・ドア面積と土間床等の面積の合計値の取得\n",
    "    A_f_MR, A_f_OR, A_f_NR = get_A_f(d, 'Main', innerwalls), get_A_f(d, 'Other', innerwalls), get_A_f(d, 'Nonliving', innerwalls)\n",
    "    \n",
    "    # 床下空間上の床面積と方位が「下面」の部位の面積と土間床等の面積の合計値と、床面積の差を、室上の床面積とみなす。\n",
    "    A_if_MR, A_if_OR, A_if_NR = max(0.0, A_MR - A_f_MR), max(0.0, A_OR - A_f_OR), max(0.0, A_NR - A_f_NR)\n",
    "    \n",
    "    return A_if_MR, A_if_OR, A_if_NR"
   ]
  },
  {
   "cell_type": "markdown",
   "metadata": {},
   "source": [
    "#### Function 2"
   ]
  },
  {
   "cell_type": "code",
   "execution_count": 22,
   "metadata": {
    "collapsed": true
   },
   "outputs": [],
   "source": [
    "def get_area_floor_over_room_dictionary(d, innerwalls):\n",
    "    \n",
    "    # 用途別床面積の取得\n",
    "    A = get_area_floor_dictionary(d['Common'])\n",
    "    \n",
    "    # 床下空間上の床面積と下面（Direction:Bottom）の壁・窓・ドア面積と土間床等の面積の合計値の取得\n",
    "    A_f = {x : get_A_f(d, x, innerwalls) for x in ['Main', 'Other', 'Nonliving']}\n",
    "    \n",
    "    # 床下空間上の床面積と方位が「下面」の部位の面積と土間床等の面積の合計値と、床面積の差を、室上の床面積とみなす。\n",
    "    A_if = {x : max(0.0, A[x] - A_f[x]) for x in ['Main', 'Other', 'Nonliving']}\n",
    "    \n",
    "    return A_if"
   ]
  },
  {
   "cell_type": "markdown",
   "metadata": {},
   "source": [
    "#### Example"
   ]
  },
  {
   "cell_type": "code",
   "execution_count": 23,
   "metadata": {},
   "outputs": [
    {
     "name": "stdout",
     "output_type": "stream",
     "text": [
      "(0.0, 30.0, 30.0)\n",
      "{'Main': 0.0, 'Other': 30.0, 'Nonliving': 30.0}\n"
     ]
    }
   ],
   "source": [
    "d = {\n",
    "    'Common': {\n",
    "        'Region': 6,\n",
    "        'MainOccupantRoomFloorArea': 30.0,\n",
    "        'OtherOccupantRoomFloorArea': 60.0,\n",
    "        'TotalFloorArea': 120.0\n",
    "    },\n",
    "    'Walls': [\n",
    "        { 'Area': 60, 'Direction': 'Top', 'name': 'Ceiling', 'Space': 'Main', 'structure': 'wood', 'type': 'Ceiling' },\n",
    "        { 'Area': 15, 'Direction': 'Bottom', 'name': 'Floor', 'Space': 'Other', 'structure': 'wood', 'type': 'Floor' },\n",
    "    ],\n",
    "    'Windows': [\n",
    "        { 'Area': 30, 'Direction': 'SW', 'name': 'WindowSW', 'Space': 'Main', 'type': 'single' },\n",
    "        { 'Area': 75, 'Direction': 'Bottom', 'name': 'WindowBottom', 'Space': 'Main', 'type': 'single' },\n",
    "    ],\n",
    "    'Doors': [\n",
    "        { 'Area': 15, 'Direction': 'NW', 'name': 'DoorNW', 'Space': 'Nonliving' },\n",
    "        { 'Area': 15, 'Direction': 'NE', 'name': 'DoorNE', 'Space': 'Other' }\n",
    "    ],\n",
    "    'EarthFloors': [\n",
    "        { 'Area': 5, 'name': 'other', 'Space': 'Underfloor' },\n",
    "        { 'Area': 5, 'name': 'entrance', 'Space': 'Underfloor' }\n",
    "    ]\n",
    "}\n",
    "\n",
    "innerwalls = [\n",
    "        { 'Area': 60, 'Name': 'GroundFloor_Main', 'Type' : 'GroundFloor', 'Spaces': ['Main','Underfloor'], 'Direction' : 'Horizontal', 'Layers' : get_inner_floor_layers()},\n",
    "        { 'Area': 15, 'Name': 'GroundFloor_Other', 'Type' : 'GroundFloor', 'Spaces': ['Other','Underfloor'], 'Direction' : 'Horizontal', 'Layers' : get_inner_floor_layers()},\n",
    "]\n",
    "\n",
    "print(get_area_floor_over_room_tuple(d, innerwalls))\n",
    "print(get_area_floor_over_room_dictionary(d, innerwalls))"
   ]
  },
  {
   "cell_type": "markdown",
   "metadata": {},
   "source": [
    "### 3) 室下の天井面積の推定"
   ]
  },
  {
   "cell_type": "markdown",
   "metadata": {},
   "source": [
    "#### Outline"
   ]
  },
  {
   "cell_type": "markdown",
   "metadata": {},
   "source": [
    "$$\n",
    "\\displaystyle\n",
    "A_{ic,MR}= \\max \\left(0, A_{MR} -  \\sum_i A_{oc,MR,i} \\right)\n",
    "$$\n",
    "\n",
    "$$\n",
    "\\displaystyle\n",
    "A_{ic,OR}= \\max \\left(0, A_{OR} -  \\sum_i A_{oc,OR,i} \\right)\n",
    "$$\n",
    "\n",
    "$$\n",
    "\\displaystyle\n",
    "A_{ic,NR}= \\max \\left(0, A_{NR} -  \\sum_i A_{oc,NR,i} \\right)\n",
    "$$"
   ]
  },
  {
   "cell_type": "markdown",
   "metadata": {},
   "source": [
    "$A_{ic,MR}$: その他の居室または非居室との間の、主たる居室の天井の面積, m<sup>2</sup>  \n",
    "$A_{ic,OR}$: 主たる居室または非居室との間の、その他の居室の天井の面積, m<sup>2</sup>  \n",
    "$A_{ic,NR}$: 主たる居室またはその他の居室との間の、非居室の天井の面積, m<sup>2</sup>  \n",
    "$A_{MR}$: 主たる居室の床面積, m<sup>2</sup>  \n",
    "$A_{OR}$: その他の居室の床面積, m<sup>2</sup>  \n",
    "$A_{NR}$: 非居室の床面積, m<sup>2</sup>   \n",
    "$A_{oc,MR,i}$: 方位が「上面」である主たる居室の外皮の部位(一般部位又は開口部)$i$の面積, m<sup>2</sup>  \n",
    "$A_{oc,OR,i}$: 方位が「上面」であるその他の居室の外皮の部位(一般部位又は開口部)$i$の面積, m<sup>2</sup>  \n",
    "$A_{oc,NR,i}$: 方位が「上面」である非居室の外皮の部位(一般部位又は開口部)$i$の面積, m<sup>2</sup>  "
   ]
  },
  {
   "cell_type": "markdown",
   "metadata": {},
   "source": [
    "#### Function"
   ]
  },
  {
   "cell_type": "code",
   "execution_count": 24,
   "metadata": {
    "collapsed": true
   },
   "outputs": [],
   "source": [
    "# 方位が「上面」である外皮の部位の面積の合計\n",
    "def get_A_of(d, s):\n",
    "    # s : space name\n",
    "    return sum( y['Area'] for y in d['Walls'] + d['Windows'] + d['Doors'] if y['Space'] == s and y['Direction'] == 'Top' )"
   ]
  },
  {
   "cell_type": "markdown",
   "metadata": {},
   "source": [
    "#### Function 1"
   ]
  },
  {
   "cell_type": "code",
   "execution_count": 25,
   "metadata": {
    "collapsed": true
   },
   "outputs": [],
   "source": [
    "def get_area_ceiling_below_room_tuple(d):\n",
    "    \n",
    "    # 用途別床面積の取得\n",
    "    A_MR, A_OR, A_NR = get_area_floor_tuple(d['Common'])\n",
    "    \n",
    "    # 上面（Direction:Top）の壁・窓・ドア面積の合計値の取得\n",
    "    A_oc_MR, A_oc_OR, A_oc_NR = get_A_of(d, 'Main'), get_A_of(d, 'Other'), get_A_of(d, 'Nonliving')\n",
    "    \n",
    "    # 方位が「上面」の部位の面積の合計値と、床面積の差\n",
    "    A_ic_MR, A_ic_OR, A_ic_NR = max(0.0, A_MR - A_oc_MR), max(0.0, A_OR - A_oc_OR), max(0.0, A_NR - A_oc_NR)\n",
    "   \n",
    "    return A_ic_MR, A_ic_OR, A_ic_NR"
   ]
  },
  {
   "cell_type": "markdown",
   "metadata": {},
   "source": [
    "#### Function 2"
   ]
  },
  {
   "cell_type": "code",
   "execution_count": 26,
   "metadata": {
    "collapsed": true
   },
   "outputs": [],
   "source": [
    "def get_area_ceiling_below_room_dictionary(d):\n",
    "    \n",
    "    # 用途別床面積の取得\n",
    "    A = get_area_floor_dictionary(d['Common'])\n",
    "    \n",
    "    # 上面（Direction:Top）の壁・窓・ドア面積の合計値の取得\n",
    "    A_oc = {x : get_A_of(d, x) for x in ['Main', 'Other', 'Nonliving']}\n",
    "    \n",
    "    # 方位が「上面」の部位の面積の合計値と、床面積の差\n",
    "    A_ic = {x : max(0.0, A[x] - A_oc[x])for x in ['Main', 'Other', 'Nonliving']}\n",
    "   \n",
    "    return A_ic"
   ]
  },
  {
   "cell_type": "markdown",
   "metadata": {},
   "source": [
    "#### Example"
   ]
  },
  {
   "cell_type": "code",
   "execution_count": 27,
   "metadata": {},
   "outputs": [
    {
     "name": "stdout",
     "output_type": "stream",
     "text": [
      "(30.0, 0.0, 30.0)\n",
      "{'Main': 30.0, 'Other': 0.0, 'Nonliving': 30.0}\n"
     ]
    }
   ],
   "source": [
    "d = {\n",
    "    'Common': {\n",
    "        'Region': 6,\n",
    "        'MainOccupantRoomFloorArea': 30.0,\n",
    "        'OtherOccupantRoomFloorArea': 60.0,\n",
    "        'TotalFloorArea': 120.0\n",
    "    },\n",
    "    'Walls': [\n",
    "        { 'Area': 60, 'Direction': 'Top', 'name': 'Ceiling', 'Space': 'Other', 'structure': 'wood', 'Type': 'Ceiling' },\n",
    "        { 'Area': 15, 'Direction': 'Bottom', 'name': 'Floor', 'Space': 'Other', 'structure': 'wood', 'Type': 'Floor' },\n",
    "    ],\n",
    "    'Windows': [\n",
    "        { 'Area': 30, 'Direction': 'SW', 'name': 'WindowSW', 'Space': 'Main', 'type': 'single' },\n",
    "        { 'Area': 75, 'Direction': 'Bottom', 'name': 'WindowBottom', 'Space': 'Main', 'type': 'single' },\n",
    "    ],\n",
    "    'Doors': [\n",
    "        { 'Area': 15, 'Direction': 'NW', 'name': 'DoorNW', 'Space': 'Nonliving' },\n",
    "        { 'Area': 15, 'Direction': 'NE', 'name': 'DoorNE', 'Space': 'Other' }\n",
    "    ],\n",
    "    'EarthFloors': [\n",
    "        { 'Area': 5, 'name': 'other', 'Space': 'Underfloor' },\n",
    "        { 'Area': 5, 'name': 'entrance', 'Space': 'Underfloor' }\n",
    "    ]\n",
    "}\n",
    "\n",
    "print(get_area_ceiling_below_room_tuple(d))\n",
    "print(get_area_ceiling_below_room_dictionary(d))"
   ]
  },
  {
   "cell_type": "markdown",
   "metadata": {},
   "source": [
    "### 4) 室間の床と天井の面積の推定"
   ]
  },
  {
   "cell_type": "markdown",
   "metadata": {},
   "source": [
    "#### Outline"
   ]
  },
  {
   "cell_type": "markdown",
   "metadata": {},
   "source": [
    "$$\n",
    "\\displaystyle\n",
    "A_{if,MR,OR} = \\left \\{\n",
    "\\begin{array}{ll}\n",
    "0 & ( A_{ic,OR} = 0 ) \\\\\n",
    "\\frac{A_{ic,OR}}{A_{ic,OR}+A_{ic,NR}} \\times A_{if,MR} & ( A_{ic,OR} > 0 ) \\\\\n",
    "\\end{array}\n",
    "\\right.\n",
    "$$\n",
    "$$\n",
    "\\displaystyle\n",
    "A_{if,MR,NR} = \\left \\{\n",
    "\\begin{array}{ll}\n",
    "0 & ( A_{ic,NR} = 0 ) \\\\\n",
    "\\frac{A_{ic,NR}}{A_{ic,OR}+A_{ic,NR}} \\times A_{if,MR} & ( A_{ic,NR} > 0 ) \\\\\n",
    "\\end{array}\n",
    "\\right.\n",
    "$$\n",
    "\n",
    "$$\n",
    "\\displaystyle\n",
    "A_{if,OR,MR} = \\left \\{\n",
    "\\begin{array}{ll}\n",
    "0 & ( A_{ic,MR} = 0 ) \\\\\n",
    "\\frac{A_{ic,MR}}{A_{ic,MR}+A_{ic,NR}} \\times A_{if,OR} & ( A_{ic,MR} > 0 ) \\\\\n",
    "\\end{array}\n",
    "\\right.\n",
    "$$\n",
    "$$\n",
    "\\displaystyle\n",
    "A_{if,OR,NR} = \\left \\{\n",
    "\\begin{array}{ll}\n",
    "0 & ( A_{ic,NR} = 0 ) \\\\\n",
    "\\frac{A_{ic,NR}}{A_{ic,MR}+A_{ic,NR}} \\times A_{if,OR} & ( A_{ic,NR} > 0 ) \\\\\n",
    "\\end{array}\n",
    "\\right.\n",
    "$$\n",
    "\n",
    "$$\n",
    "\\displaystyle\n",
    "A_{if,NR,MR} = \\left \\{\n",
    "\\begin{array}{ll}\n",
    "0 & ( A_{ic,MR} = 0 ) \\\\\n",
    "\\frac{A_{ic,MR}}{A_{ic,MR}+A_{ic,OR}} \\times A_{if,NR} & ( A_{ic,MR} > 0 ) \\\\\n",
    "\\end{array}\n",
    "\\right.\n",
    "$$\n",
    "$$\n",
    "\\displaystyle\n",
    "A_{if,NR,OR} = \\left \\{\n",
    "\\begin{array}{ll}\n",
    "0 & ( A_{ic,OR} = 0 ) \\\\\n",
    "\\frac{A_{ic,OR}}{A_{ic,MR}+A_{ic,OR}} \\times A_{if,NR} & ( A_{ic,OR} > 0 ) \\\\\n",
    "\\end{array}\n",
    "\\right.\n",
    "$$"
   ]
  },
  {
   "cell_type": "markdown",
   "metadata": {},
   "source": [
    "$A_{if,MR,OR}$: その他の居室との間の、主たる居室の床の面積, m<sup>2</sup>  \n",
    "$A_{if,MR,NR}$: 非居室との間の、主たる居室の床の面積, m<sup>2</sup>  \n",
    "$A_{if,OR,MR}$: 主たる居室との間の、その他の居室の床の面積, m<sup>2</sup>  \n",
    "$A_{if,OR,NR}$: 非居室との間の、その他の居室の床の面積, m<sup>2</sup>  \n",
    "$A_{if,NR,MR}$: 主たる居室との間の、非居室の床の面積, m<sup>2</sup>  \n",
    "$A_{if,NR,OR}$: その他の居室との間の、非居室の床の面積, m<sup>2</sup>  \n",
    "$A_{ic,MR}$: その他の居室または非居室との間の、主たる居室の天井の面積, m<sup>2</sup>  \n",
    "$A_{ic,OR}$: 主たる居室または非居室との間の、その他の居室の天井の面積, m<sup>2</sup>  \n",
    "$A_{ic,NR}$: 主たる居室またはその他の居室との間の、非居室の天井の面積, m<sup>2</sup>  \n",
    "$A_{if,MR}$: その他の居室または非居室との間の、主たる居室の床の面積, m<sup>2</sup>  \n",
    "$A_{if,OR}$: 主たる居室または非居室との間の、その他の居室の床の面積, m<sup>2</sup>  \n",
    "$A_{if,NR}$: 主たる居室またはその他の居室との、間の非居室の床の面積, m<sup>2</sup>  "
   ]
  },
  {
   "cell_type": "markdown",
   "metadata": {},
   "source": [
    "$$\n",
    "\\displaystyle\n",
    "A_{ic,MR,OR} = \\left \\{\n",
    "\\begin{array}{ll}\n",
    "0 & ( A_{if,OR} = 0 ) \\\\\n",
    "\\frac{A_{if,OR}}{A_{if,OR}+A_{if,NR}} \\times A_{ic,MR} & ( A_{if,OR} > 0 ) \\\\\n",
    "\\end{array}\n",
    "\\right.\n",
    "$$\n",
    "$$\n",
    "\\displaystyle\n",
    "A_{ic,MR,NR} = \\left \\{\n",
    "\\begin{array}{ll}\n",
    "0 & ( A_{if,NR} = 0 ) \\\\\n",
    "\\frac{A_{if,NR}}{A_{if,OR}+A_{if,NR}} \\times A_{ic,MR} & ( A_{if,NR} > 0 ) \\\\\n",
    "\\end{array}\n",
    "\\right.\n",
    "$$\n",
    "\n",
    "$$\n",
    "\\displaystyle\n",
    "A_{ic,OR,MR} = \\left \\{\n",
    "\\begin{array}{ll}\n",
    "0 & ( A_{if,MR} = 0 ) \\\\\n",
    "\\frac{A_{if,MR}}{A_{if,MR}+A_{if,NR}} \\times A_{ic,OR} & ( A_{if,MR} > 0 ) \\\\\n",
    "\\end{array}\n",
    "\\right.\n",
    "$$\n",
    "$$\n",
    "\\displaystyle\n",
    "A_{ic,OR,NR} = \\left \\{\n",
    "\\begin{array}{ll}\n",
    "0 & ( A_{if,NR} = 0 ) \\\\\n",
    "\\frac{A_{if,NR}}{A_{if,MR}+A_{if,NR}} \\times A_{ic,OR} & ( A_{if,NR} > 0 ) \\\\\n",
    "\\end{array}\n",
    "\\right.\n",
    "$$\n",
    "\n",
    "$$\n",
    "\\displaystyle\n",
    "A_{ic,NR,MR} = \\left \\{\n",
    "\\begin{array}{ll}\n",
    "0 & ( A_{if,MR} = 0 ) \\\\\n",
    "\\frac{A_{if,MR}}{A_{if,MR}+A_{if,OR}} \\times A_{ic,NR} & ( A_{if,MR} > 0 ) \\\\\n",
    "\\end{array}\n",
    "\\right.\n",
    "$$\n",
    "$$\n",
    "\\displaystyle\n",
    "A_{ic,NR,OR} = \\left \\{\n",
    "\\begin{array}{ll}\n",
    "0 & ( A_{if,OR} = 0 ) \\\\\n",
    "\\frac{A_{if,OR}}{A_{if,MR}+A_{if,OR}} \\times A_{ic,NR} & ( A_{if,OR} > 0 ) \\\\\n",
    "\\end{array}\n",
    "\\right.\n",
    "$$"
   ]
  },
  {
   "cell_type": "markdown",
   "metadata": {},
   "source": [
    "$A_{ic,MR,OR}$: その他の居室との間の、主たる居室の天井の面積, m<sup>2</sup>  \n",
    "$A_{ic,MR,NR}$: 非居室との間の、主たる居室の天井の面積, m<sup>2</sup>  \n",
    "$A_{ic,OR,MR}$: 主たる居室との間の、その他の居室の天井の面積, m<sup>2</sup>  \n",
    "$A_{ic,OR,NR}$: 非居室との間の、その他の居室の天井の面積, m<sup>2</sup>  \n",
    "$A_{ic,NR,MR}$: 主たる居室との間の、非居室の天井の面積, m<sup>2</sup>  \n",
    "$A_{ic,NR,OR}$: その他の居室との間の、非居室の天井の面積, m<sup>2</sup>  \n",
    "$A_{if,MR}$: その他の居室または非居室との間の、主たる居室の床の面積, m<sup>2</sup>  \n",
    "$A_{if,OR}$: 主たる居室または非居室との間の、その他の居室の床の面積, m<sup>2</sup>  \n",
    "$A_{if,NR}$: 主たる居室またはその他の居室との、間の非居室の床の面積, m<sup>2</sup>  \n",
    "$A_{ic,MR}$: その他の居室または非居室との間の、主たる居室の天井の面積, m<sup>2</sup>  \n",
    "$A_{ic,OR}$: 主たる居室または非居室との間の、その他の居室の天井の面積, m<sup>2</sup>  \n",
    "$A_{ic,NR}$: 主たる居室またはその他の居室との間の、非居室の天井の面積, m<sup>2</sup>  "
   ]
  },
  {
   "cell_type": "markdown",
   "metadata": {},
   "source": [
    "#### Function 1"
   ]
  },
  {
   "cell_type": "code",
   "execution_count": 28,
   "metadata": {
    "collapsed": true
   },
   "outputs": [],
   "source": [
    "def get_area_slab_between_rooms_tuple(d, innerwalls):\n",
    "    \n",
    "    def get_A_if_dictionary(s_m, s_n, A_if_m, A_ic_n, A_ic_o) :\n",
    "        return ([\n",
    "            {\n",
    "                'Name' : 'InnerFloor' + s_m + s_n,\n",
    "                'Area' : A_if_m * A_ic_n / (A_ic_n + A_ic_o),\n",
    "                'Space' : s_m,\n",
    "                'NextSpace' : s_n\n",
    "            }\n",
    "        ])\n",
    "    \n",
    "    def get_A_ic_dictionary(s_m, s_n, A_ic_m, A_if_n, A_if_o) :\n",
    "        return ([\n",
    "            {\n",
    "                'Name' : 'InnerCeiling' + s_m + s_n,\n",
    "                'Area' : A_ic_m * A_if_n / (A_if_n + A_if_o),\n",
    "                'Space' : s_m,\n",
    "                'NextSpace' : s_n\n",
    "            }\n",
    "        ])\n",
    "    \n",
    "    # 室上の床面積の取得\n",
    "    A_if_MR, A_if_OR, A_if_NR = get_area_floor_over_room_tuple(d, innerwalls)\n",
    "    \n",
    "    # 室下の天井面積の取得\n",
    "    A_ic_MR, A_ic_OR, A_ic_NR = get_area_ceiling_below_room_tuple(d)\n",
    "\n",
    "    # 室上の床面積を、他の用途の室下の天井面積で案分する。\n",
    "    A_innerfloor=[]\n",
    "    if A_if_MR > 0 and A_ic_OR > 0 :\n",
    "        A_innerfloor.extend(get_A_if_dictionary('Main', 'Other', A_if_MR, A_ic_OR, A_ic_NR))\n",
    "    if A_if_MR > 0 and A_ic_NR > 0 :\n",
    "        A_innerfloor.extend(get_A_if_dictionary('Main', 'Nonliving', A_if_MR, A_ic_NR, A_ic_OR))\n",
    "    if A_if_OR > 0 and A_ic_MR > 0 :\n",
    "        A_innerfloor.extend(get_A_if_dictionary('Other', 'Main', A_if_OR, A_ic_MR, A_ic_NR))\n",
    "    if A_if_OR > 0 and A_ic_NR > 0 :\n",
    "        A_innerfloor.extend(get_A_if_dictionary('Other', 'Nonliving', A_if_OR, A_ic_NR, A_ic_MR))\n",
    "    if A_if_NR > 0 and A_ic_MR > 0 :\n",
    "        A_innerfloor.extend(get_A_if_dictionary('Nonliving', 'Main', A_if_NR, A_ic_MR, A_ic_OR))\n",
    "    if A_if_NR > 0 and A_ic_OR > 0 :\n",
    "        A_innerfloor.extend(get_A_if_dictionary('Nonliving', 'Other', A_if_NR, A_ic_OR, A_ic_MR))\n",
    "\n",
    "    # 室下の天井面積を、他の用途の室下上の床面積で案分する。\n",
    "    A_innerceiling=[]\n",
    "    if A_ic_MR > 0 and A_if_OR > 0 :\n",
    "        A_innerceiling.extend(get_A_ic_dictionary('Main', 'Other', A_ic_MR, A_if_OR, A_if_NR))\n",
    "    if A_ic_MR > 0 and A_if_NR > 0 :\n",
    "        A_innerceiling.extend(get_A_ic_dictionary('Main', 'Nonliving', A_ic_MR, A_if_NR, A_if_OR))\n",
    "    if A_ic_OR > 0 and A_if_MR > 0 :\n",
    "        A_innerceiling.extend(get_A_ic_dictionary('Other', 'Main', A_ic_OR, A_if_MR, A_if_NR))\n",
    "    if A_ic_OR > 0 and A_if_NR > 0 :\n",
    "        A_innerceiling.extend(get_A_ic_dictionary('Other', 'Nonliving', A_ic_OR, A_if_NR, A_if_MR))\n",
    "    if A_ic_NR > 0 and A_if_MR > 0 :\n",
    "        A_innerceiling.extend(get_A_ic_dictionary('Nonliving', 'Main', A_ic_NR, A_if_MR, A_if_OR))\n",
    "    if A_ic_NR > 0 and A_if_OR > 0 :\n",
    "        A_innerceiling.extend(get_A_ic_dictionary('Nonliving', 'Other', A_ic_NR, A_if_OR, A_if_MR))\n",
    "  \n",
    "    return {'InnerFloors' : A_innerfloor, 'InnerCeilings' : A_innerceiling}"
   ]
  },
  {
   "cell_type": "markdown",
   "metadata": {},
   "source": [
    "#### Function 2"
   ]
  },
  {
   "cell_type": "code",
   "execution_count": 29,
   "metadata": {
    "collapsed": true
   },
   "outputs": [],
   "source": [
    "# 3!通りの室用途の組合せ\n",
    "def get_list_3_factorial ():\n",
    "    list3 = [0,1,2]\n",
    "    \n",
    "    list_3_factorial = []\n",
    "    for x in list3 :\n",
    "        list2 = copy.deepcopy(list3)\n",
    "        list2.remove(x)\n",
    "        for y in list2 :\n",
    "            list1 = copy.deepcopy(list2)\n",
    "            list1.remove(y) \n",
    "            list_3_factorial.extend([[x,y,list1[0]]])\n",
    "    \n",
    "    return list_3_factorial"
   ]
  },
  {
   "cell_type": "code",
   "execution_count": 30,
   "metadata": {
    "collapsed": true
   },
   "outputs": [],
   "source": [
    "def get_area_slab_between_rooms_dictionary(d, innerwalls):\n",
    "    \n",
    "    space = ['Main', 'Other', 'Nonliving']  \n",
    "    \n",
    "    # 3!通りの室用途の組合せの取得\n",
    "    list_3_factorial = get_list_3_factorial()\n",
    "    \n",
    "    # 室上の床面積の取得\n",
    "    A_if =  get_area_floor_over_room_dictionary(d, innerwalls)\n",
    "    \n",
    "    # 室下の天井面積の取得\n",
    "    A_ic =  get_area_ceiling_below_room_dictionary(d)\n",
    "\n",
    "    # 室上の床面積を、他の用途の室下の天井面積で案分する。\n",
    "    A_innerfloor = []\n",
    "    for x in list_3_factorial :\n",
    "        \n",
    "        # 自室、隣接室、他の室の設定\n",
    "        s_m, s_n, s_o = space[x[0]], space[x[1]], space[x[2]]\n",
    "\n",
    "        if A_if[s_m] > 0 and A_ic[s_n] > 0 :\n",
    "            A_innerfloor.extend([\n",
    "                {\n",
    "                    'Name' : 'InnerFloor' + space[x[0]] + space[x[1]],\n",
    "                    'Area' : A_if[s_m] * A_ic[s_n] / (A_ic[s_n] + A_ic[s_o]),\n",
    "                    'Space' : space[x[0]],\n",
    "                    'NextSpace' : space[x[1]]\n",
    "                }\n",
    "            ])\n",
    "\n",
    "    # 室下の天井面積を、他の用途の室下上の床面積で案分する。\n",
    "    A_innerceiling = []\n",
    "    for x in list_3_factorial :\n",
    "                \n",
    "        # 自室、隣接室、他の室の設定\n",
    "        s_m, s_n, s_o = space[x[0]], space[x[1]], space[x[2]]\n",
    "        \n",
    "        if A_ic[s_m] > 0 and A_if[s_n] > 0 :\n",
    "            A_innerceiling.extend([\n",
    "                {\n",
    "                    'Name' : 'InnerCeiling' + space[x[0]] + space[x[1]],\n",
    "                    'Area' : A_ic[s_m] * A_if[s_n] / (A_if[s_n] + A_if[s_o]),\n",
    "                    'Space' : space[x[0]],\n",
    "                    'NextSpace' : space[x[1]]\n",
    "                }\n",
    "            ])\n",
    "  \n",
    "    return {'InnerFloors' : A_innerfloor, 'InnerCeilings' : A_innerceiling}"
   ]
  },
  {
   "cell_type": "markdown",
   "metadata": {},
   "source": [
    "#### Example"
   ]
  },
  {
   "cell_type": "code",
   "execution_count": 31,
   "metadata": {},
   "outputs": [
    {
     "name": "stdout",
     "output_type": "stream",
     "text": [
      "{'InnerFloors': [{'Name': 'InnerFloorOtherMain', 'Area': 15.0, 'Space': 'Other', 'NextSpace': 'Main'}, {'Name': 'InnerFloorOtherNonliving', 'Area': 15.0, 'Space': 'Other', 'NextSpace': 'Nonliving'}, {'Name': 'InnerFloorNonlivingMain', 'Area': 30.0, 'Space': 'Nonliving', 'NextSpace': 'Main'}], 'InnerCeilings': [{'Name': 'InnerCeilingMainOther', 'Area': 15.0, 'Space': 'Main', 'NextSpace': 'Other'}, {'Name': 'InnerCeilingMainNonliving', 'Area': 15.0, 'Space': 'Main', 'NextSpace': 'Nonliving'}, {'Name': 'InnerCeilingNonlivingOther', 'Area': 30.0, 'Space': 'Nonliving', 'NextSpace': 'Other'}]}\n",
      "{'InnerFloors': [{'Name': 'InnerFloorOtherMain', 'Area': 15.0, 'Space': 'Other', 'NextSpace': 'Main'}, {'Name': 'InnerFloorOtherNonliving', 'Area': 15.0, 'Space': 'Other', 'NextSpace': 'Nonliving'}, {'Name': 'InnerFloorNonlivingMain', 'Area': 30.0, 'Space': 'Nonliving', 'NextSpace': 'Main'}], 'InnerCeilings': [{'Name': 'InnerCeilingMainOther', 'Area': 15.0, 'Space': 'Main', 'NextSpace': 'Other'}, {'Name': 'InnerCeilingMainNonliving', 'Area': 15.0, 'Space': 'Main', 'NextSpace': 'Nonliving'}, {'Name': 'InnerCeilingNonlivingOther', 'Area': 30.0, 'Space': 'Nonliving', 'NextSpace': 'Other'}]}\n"
     ]
    }
   ],
   "source": [
    "d = {\n",
    "    'Common': {\n",
    "        'Region': 6,\n",
    "        'MainOccupantRoomFloorArea': 30.0,\n",
    "        'OtherOccupantRoomFloorArea': 60.0,\n",
    "        'TotalFloorArea': 120.0\n",
    "    },\n",
    "    'Walls': [\n",
    "        { 'Area': 60, 'Direction': 'Top', 'name': 'Ceiling', 'Space': 'Other', 'structure': 'wood', 'Type': 'Ceiling' },\n",
    "        { 'Area': 15, 'Direction': 'Bottom', 'name': 'Floor', 'Space': 'Other', 'structure': 'wood', 'Type': 'Floor' },\n",
    "    ],\n",
    "    'Windows': [\n",
    "        { 'Area': 30, 'Direction': 'SW', 'name': 'WindowSW', 'Space': 'Main', 'type': 'single' },\n",
    "        { 'Area': 75, 'Direction': 'Bottom', 'name': 'WindowBottom', 'Space': 'Main', 'type': 'single' },\n",
    "    ],\n",
    "    'Doors': [\n",
    "        { 'Area': 15, 'Direction': 'NW', 'name': 'DoorNW', 'Space': 'Nonliving' },\n",
    "        { 'Area': 15, 'Direction': 'NE', 'name': 'DoorNE', 'Space': 'Other' }\n",
    "    ],\n",
    "    'EarthFloors': [\n",
    "        { 'Area': 5, 'name': 'other', 'Space': 'Underfloor' },\n",
    "        { 'Area': 5, 'name': 'entrance', 'Space': 'Underfloor' }\n",
    "    ]\n",
    "}\n",
    "\n",
    "innerwalls =  [\n",
    "    { 'Area': 60, 'Name': 'GroundFloor_Main', 'Type' : 'GroundFloor', 'Spaces': ['Main','Underfloor'], 'Direction' : 'Horizontal', 'Layers' : get_inner_floor_layers()},\n",
    "    { 'Area': 15, 'Name': 'GroundFloor_Other', 'Type' : 'GroundFloor', 'Spaces': ['Other','Underfloor'], 'Direction' : 'Horizontal', 'Layers' : get_inner_floor_layers()},\n",
    "]\n",
    "\n",
    "print(get_area_slab_between_rooms_tuple(d, innerwalls))\n",
    "print(get_area_slab_between_rooms_dictionary(d, innerwalls))"
   ]
  },
  {
   "cell_type": "markdown",
   "metadata": {},
   "source": [
    "### 5) 室間の床・天井の構築"
   ]
  },
  {
   "cell_type": "markdown",
   "metadata": {},
   "source": [
    "#### Function"
   ]
  },
  {
   "cell_type": "code",
   "execution_count": 32,
   "metadata": {
    "collapsed": true
   },
   "outputs": [],
   "source": [
    "def get_innerwall_innerslab(d, innerwalls):\n",
    "    \n",
    "    # 室間の床・天井面積の推定\n",
    "    areas_innerslab = get_area_slab_between_rooms_dictionary(d, innerwalls)\n",
    "    \n",
    "    # 壁体名称、部位面積を更新し、「壁体が属する空間種類」「隣接空間種類」を追加する\n",
    "    ifs = []\n",
    "    \n",
    "    ifs.extend([ {\n",
    "        'Name' : 'InnerFloor_' + x['Space'],\n",
    "        'Type' : 'InnerFloor',\n",
    "        'Direction' : 'Horizontal',\n",
    "        'Area' : x['Area'],\n",
    "        'Layers' : get_inner_floor_layers(),\n",
    "        'Space' : x['Space'], \n",
    "        'NextSpace' : x['NextSpace'],\n",
    "    } for x in areas_innerslab['InnerFloors'] ])\n",
    "    \n",
    "    ifs.extend([ {\n",
    "        'Name' : 'InnerCeiling_' + x['Space'],\n",
    "        'Type' : 'InnerCeiling',\n",
    "        'Direction' : 'Horizontal',\n",
    "        'Area' : x['Area'],\n",
    "        'Layers' : get_inner_floor_layers(),\n",
    "        'Space' : x['Space'], \n",
    "        'NextSpace' : x['NextSpace'],\n",
    "    } for x in areas_innerslab['InnerCeilings'] ])\n",
    "        \n",
    "    return ifs"
   ]
  },
  {
   "cell_type": "markdown",
   "metadata": {},
   "source": [
    "## 8.5. InnerWalls Element - Inner Wall "
   ]
  },
  {
   "cell_type": "markdown",
   "metadata": {},
   "source": [
    "### 1) 層構成"
   ]
  },
  {
   "cell_type": "markdown",
   "metadata": {},
   "source": [
    "以下の層構成とする。"
   ]
  },
  {
   "cell_type": "markdown",
   "metadata": {},
   "source": [
    "| 材料 | 厚さ, m | 熱伝導率, W m<sup>-1</sup> K<sup>-1</sup> | 熱抵抗, m<sup>2</sup>2 k W<sup>-1</sup> | 容積比熱, J L<sup>-1</sup> K<sup>-1</sup> |\n",
    "|---|---|---|---|\n",
    "| せっこうボード | 0.0125 | 0.22 | 0.0568 | 830.0 |\n",
    "| 非密閉空気層 | - | - | 0.090 | 0.0 |\n",
    "| せっこうボード | 0.0125 | 0.22 | 0.0568 | 830.0 |"
   ]
  },
  {
   "cell_type": "markdown",
   "metadata": {},
   "source": [
    "#### Function"
   ]
  },
  {
   "cell_type": "code",
   "execution_count": 33,
   "metadata": {
    "collapsed": true
   },
   "outputs": [],
   "source": [
    "def get_inner_wall_layers():\n",
    "    return [\n",
    "        {'Name': 'GPB', 'Cond': 0.22, 'Thick': 0.0125, 'SpecH': 830.0},\n",
    "        {'Name': 'GPB', 'Cond': 1/0.09, 'Thick': 1, 'SpecH': 0},\n",
    "        {'Name': 'GPB', 'Cond': 0.22, 'Thick': 0.0125, 'SpecH': 830.0}\n",
    "    ]"
   ]
  },
  {
   "cell_type": "markdown",
   "metadata": {},
   "source": [
    "### 3) 内壁等面積の推定"
   ]
  },
  {
   "cell_type": "markdown",
   "metadata": {},
   "source": [
    "#### Outline"
   ]
  },
  {
   "cell_type": "markdown",
   "metadata": {},
   "source": [
    "用途間の内壁等の面積は、各用途の内壁等の面積より決定する。"
   ]
  },
  {
   "cell_type": "markdown",
   "metadata": {},
   "source": [
    "$$\n",
    "A_{iw,MR-OR} =\\frac{ A_{iw,MR} + A_{iw,OR} - A_{iw,NR} }{2}\n",
    "$$"
   ]
  },
  {
   "cell_type": "markdown",
   "metadata": {},
   "source": [
    "$$\n",
    "A_{iw,MR-NR} = \\frac{ A_{iw,MR} + A_{iw,NR} - A_{iw,OR} }{2}\n",
    "$$"
   ]
  },
  {
   "cell_type": "markdown",
   "metadata": {},
   "source": [
    "$$\n",
    "A_{iw,NR-OR} = \\frac{ A_{iw,NR} + A_{iw,OR} - A_{iw,MR} }{2}\n",
    "$$"
   ]
  },
  {
   "cell_type": "markdown",
   "metadata": {},
   "source": [
    "$ \\because $"
   ]
  },
  {
   "cell_type": "markdown",
   "metadata": {},
   "source": [
    "$$\n",
    "A_{iw,MR} =A_{iw,MR-OR}+A_{iw,MR-NR}\n",
    "$$\n",
    "\n",
    "$$\n",
    "A_{iw,OR} =A_{iw,MR-OR}+A_{iw,OR-NR}\n",
    "$$\n",
    "\n",
    "$$\n",
    "A_{iw,NR} =A_{iw,MR-OR}+A_{iw,OR-NR}\n",
    "$$"
   ]
  },
  {
   "cell_type": "markdown",
   "metadata": {},
   "source": [
    "$A_{iw,MR-OR}$: 主たる居室とその他の居室の間の内壁等の面積, m<sup>2</sup>  \n",
    "$A_{iw,MR-NR}$: 主たる居室と非居室の間の内壁等の面積, m<sup>2</sup>  \n",
    "$A_{iw,OR-NR}$: その他の居室と非居室の間の内壁等の面積, m<sup>2</sup>  \n",
    "$A_{iw,MR}$: 主たる居室の内壁等の面積, m<sup>2</sup>  \n",
    "$A_{iw,OR}$: その他の居室の内壁等の面積, m<sup>2</sup>  \n",
    "$A_{iw,NR}$: 非居室の内壁等の面積, m<sup>2</sup>  "
   ]
  },
  {
   "cell_type": "markdown",
   "metadata": {},
   "source": [
    "各用途の内壁等の面積は、各用途の内壁等の面積の暫定値より、用途間の内壁等の面積が0㎡以上となる範囲で決定する。"
   ]
  },
  {
   "cell_type": "markdown",
   "metadata": {},
   "source": [
    "$A_{iw,MR,temp}>A_{iw,OR,temp}+A_{iw,NR,temp}$ の場合"
   ]
  },
  {
   "cell_type": "markdown",
   "metadata": {},
   "source": [
    "　　$A_{OR}=0$ かつ $A_{NR}=0$ の場合"
   ]
  },
  {
   "cell_type": "markdown",
   "metadata": {},
   "source": [
    "$$A_{iw,MR} = 0, A_{iw,OR} = 0, A_{iw,NR} = 0$$"
   ]
  },
  {
   "cell_type": "markdown",
   "metadata": {},
   "source": [
    "　　$A_{OR}>0$ または $A_{NR}>0$ で、 $A_{iw,OR,temp}=0$ かつ $A_{iw,NR,temp}=0$ の場合"
   ]
  },
  {
   "cell_type": "markdown",
   "metadata": {},
   "source": [
    "$$\n",
    "A_{iw,MR} = A_{iw,MR,temp}\n",
    "$$\n",
    "$$\n",
    "A_{iw,OR} = A_{iw,MR,temp}\\times \\frac{A_{OR}}{A_{OR}+A_{NR}}\n",
    "$$\n",
    "$$\n",
    "A_{iw,NR} = A_{iw,MR,temp}\\times \\frac{A_{NR}}{A_{OR}+A_{NR}}\n",
    "$$"
   ]
  },
  {
   "cell_type": "markdown",
   "metadata": {},
   "source": [
    "　　$A_{OR}>0$ または $A_{NR}>0$ で、 $A_{iw,OR,temp}>0$ または $A_{iw,NR,temp}>0$ の場合"
   ]
  },
  {
   "cell_type": "markdown",
   "metadata": {},
   "source": [
    "$$\n",
    "A_{iw,MR} = A_{iw,MR,temp}\n",
    "$$\n",
    "$$\n",
    "A_{iw,OR} = A_{iw,MR,temp}\\times \\frac{A_{iw,OR,temp}}{A_{iw,OR,temp}+A_{iw,NR,temp}}\n",
    "$$\n",
    "$$\n",
    "A_{iw,NR} = A_{iw,MR,temp}\\times \\frac{A_{iw,NR,temp}}{A_{iw,OR,temp}+A_{iw,NR,temp}}\n",
    "$$"
   ]
  },
  {
   "cell_type": "markdown",
   "metadata": {},
   "source": [
    "$A_{iw,OR,temp}>A_{iw,MR,temp}+A_{iw,NR,temp}$ の場合"
   ]
  },
  {
   "cell_type": "markdown",
   "metadata": {},
   "source": [
    "　　$A_{MR}=0$ かつ $A_{NR}=0$ の場合"
   ]
  },
  {
   "cell_type": "markdown",
   "metadata": {},
   "source": [
    "$$A_{iw,MR} = 0, A_{iw,OR} = 0, A_{iw,NR} = 0$$"
   ]
  },
  {
   "cell_type": "markdown",
   "metadata": {},
   "source": [
    "　　$A_{OR}>0$ または $A_{NR}>0$ で、 $A_{iw,OR,temp}=0$ かつ $A_{iw,NR,temp}=0$ の場合"
   ]
  },
  {
   "cell_type": "markdown",
   "metadata": {},
   "source": [
    "$$\n",
    "A_{iw,OR} = A_{iw,OR,temp}\n",
    "$$\n",
    "$$\n",
    "A_{iw,MR} = A_{iw,OR,temp}\\times \\frac{A_{MR}}{A_{MR}+A_{NR}}\n",
    "$$\n",
    "$$\n",
    "A_{iw,NR} = A_{iw,OR,temp}\\times \\frac{A_{NR}}{A_{MR}+A_{NR}}\n",
    "$$"
   ]
  },
  {
   "cell_type": "markdown",
   "metadata": {},
   "source": [
    "　　$A_{OR}>0$ または $A_{NR}>0$ で、 $A_{iw,OR,temp}>0$ または $A_{iw,NR,temp}>0$ の場合"
   ]
  },
  {
   "cell_type": "markdown",
   "metadata": {},
   "source": [
    "$$\n",
    "A_{iw,OR} = A_{iw,OR,temp}\n",
    "$$\n",
    "$$\n",
    "A_{iw,MR} = A_{iw,OR,temp}\\times \\frac{A_{iw,MR,temp}}{A_{iw,MR,temp}+A_{iw,NR,temp}}\n",
    "$$\n",
    "$$\n",
    "A_{iw,NR} = A_{iw,OR,temp}\\times \\frac{A_{iw,NR,temp}}{A_{iw,MR,temp}+A_{iw,NR,temp}}\n",
    "$$"
   ]
  },
  {
   "cell_type": "markdown",
   "metadata": {},
   "source": [
    "$A_{iw,NR,temp}>A_{iw,MR,temp}+A_{iw,OR,temp}$ の場合"
   ]
  },
  {
   "cell_type": "markdown",
   "metadata": {},
   "source": [
    "　　$A_{MR}=0$ かつ $A_{OR}=0$ の場合"
   ]
  },
  {
   "cell_type": "markdown",
   "metadata": {},
   "source": [
    "$$A_{iw,MR} = 0, A_{iw,OR} = 0, A_{iw,NR} = 0$$"
   ]
  },
  {
   "cell_type": "markdown",
   "metadata": {},
   "source": [
    "　　$A_{OR}>0$ または $A_{NR}>0$ で、 $A_{iw,OR,temp}=0$ かつ $A_{iw,NR,temp}=0$ の場合"
   ]
  },
  {
   "cell_type": "markdown",
   "metadata": {},
   "source": [
    "$$\n",
    "A_{iw,NR} = A_{iw,NR,temp}\n",
    "$$\n",
    "$$\n",
    "A_{iw,MR} = A_{iw,NR,temp}\\times \\frac{A_{MR}}{A_{MR}+A_{OR}}\n",
    "$$\n",
    "$$\n",
    "A_{iw,OR} = A_{iw,NR,temp}\\times \\frac{A_{OR}}{A_{MR}+A_{OR}}\n",
    "$$"
   ]
  },
  {
   "cell_type": "markdown",
   "metadata": {},
   "source": [
    "　　$A_{OR}>0$ または $A_{NR}>0$ で、 $A_{iw,OR,temp}>0$ または $A_{iw,NR,temp}>0$ の場合"
   ]
  },
  {
   "cell_type": "markdown",
   "metadata": {},
   "source": [
    "$$\n",
    "A_{iw,NR} = A_{iw,NR,temp}\n",
    "$$\n",
    "$$\n",
    "A_{iw,MR} = A_{iw,NR,temp}\\times \\frac{A_{iw,MR,temp}}{A_{iw,MR,temp}+A_{iw,OR,temp}}\n",
    "$$\n",
    "$$\n",
    "A_{iw,OR} = A_{iw,NR,temp}\\times \\frac{A_{iw,OR,temp}}{A_{iw,MR,temp}+A_{iw,OR,temp}}\n",
    "$$"
   ]
  },
  {
   "cell_type": "markdown",
   "metadata": {},
   "source": [
    "上記以外の場合"
   ]
  },
  {
   "cell_type": "markdown",
   "metadata": {},
   "source": [
    "$$A_{iw,MR} = A_{iw,MR,temp}, A_{iw,OR} = A_{iw,OR,temp}, A_{iw,NR} = A_{iw,NR,temp}$$"
   ]
  },
  {
   "cell_type": "markdown",
   "metadata": {},
   "source": [
    "$A_{MR}$: 主たる居室の床面積, m<sup>2</sup>  \n",
    "$A_{OR}$: その他の居室の床面積, m<sup>2</sup>  \n",
    "$A_{NR}$: 非居室の床面積, m<sup>2</sup>   \n",
    "$A_{iw,MR,temp}$: 主たる居室の内壁等の面積の暫定値, m<sup>2</sup>  \n",
    "$A_{iw,OR,temp}$: その他の居室の内壁等の面積の暫定値, m<sup>2</sup>  \n",
    "$A_{iw,NR,temp}$: 非居室の内壁等の面積の暫定値, m<sup>2</sup>  "
   ]
  },
  {
   "cell_type": "markdown",
   "metadata": {},
   "source": [
    "各用途の内壁等の面積の暫定値は、室の周長を求める際の係数（アスペクト比）と階高を仮定して、外皮の用途別情報および用途別床面積より推定する。"
   ]
  },
  {
   "cell_type": "markdown",
   "metadata": {},
   "source": [
    "$$\n",
    "A_{iw,MR,temp} = \\left \\{\n",
    "\\begin{array}{ll}\n",
    "0 & ( A_{MR} = 0 ) \\\\\n",
    "A_{w,MR} - A_{ow,MR} = \\max \\left ( 0,4 \\cdot ar_{MR} \\cdot h \\sqrt {A_{MR}} - A_{ow,MR} \\right ) & ( A_{MR} > 0 )\n",
    "\\end{array}\n",
    "\\right.\n",
    "$$"
   ]
  },
  {
   "cell_type": "markdown",
   "metadata": {},
   "source": [
    "$$\n",
    "A_{iw,OR,temp} = \\left \\{\n",
    "\\begin{array}{ll}\n",
    "0 & ( A_{OR} = 0 ) \\\\\n",
    "A_{w,OR} - A_{ow,OR} = \\max \\left ( 0, 4 \\cdot ar_{NR} \\cdot h \\sqrt {A_{OR}} - A_{ow,OR} \\right ) & ( A_{OR} > 0 )\n",
    "\\end{array}\n",
    "\\right.\n",
    "$$"
   ]
  },
  {
   "cell_type": "markdown",
   "metadata": {},
   "source": [
    "$$\n",
    "A_{iw,NR,temp} = \\left \\{\n",
    "\\begin{array}{ll}\n",
    "0 & ( A_{NR} = 0 ) \\\\\n",
    "A_{w,NR} - A_{ow,NR} = \\max \\left ( 0, 4 \\cdot ar_{OR} \\cdot h \\sqrt {A_{NR}} - A_{ow,NR} \\right ) & ( A_{NR} > 0 )\n",
    "\\end{array}\n",
    "\\right.\n",
    "$$"
   ]
  },
  {
   "cell_type": "markdown",
   "metadata": {},
   "source": [
    "$A_{w,MR}$: 主たる居室の鉛直面の外皮と内壁の面積の合計, m<sup>2</sup>  \n",
    "$A_{w,OR}$: その他の居室の鉛直面の外皮と内壁の面積の合計, m<sup>2</sup>  \n",
    "$A_{w,NR}$: 非居室の鉛直面の外皮と内壁の面積の合計, m<sup>2</sup>  \n",
    "$A_{ow,MR}$: 主たる居室の鉛直面の外皮の面積の合計, m<sup>2</sup>  \n",
    "$A_{ow,OR}$: その他の居室の鉛直面の外皮の面積の合計, m<sup>2</sup>  \n",
    "$A_{ow,NR}$: 非居室の鉛直面の外皮の面積の合計, m<sup>2</sup>  \n",
    "$ar_{MR}$: 主たる居室の周長を求める際の係数, -  \n",
    "$ar_{OR}$: その他の居室の周長を求める際の係数, -  \n",
    "$ar_{NR}$: 非居室の周長を求める際の係数, -  \n",
    "$h$: 階高, m"
   ]
  },
  {
   "cell_type": "markdown",
   "metadata": {},
   "source": [
    "#### Function"
   ]
  },
  {
   "cell_type": "code",
   "execution_count": 34,
   "metadata": {
    "collapsed": true
   },
   "outputs": [],
   "source": [
    "#  室用途別の内壁等の面積\n",
    "def get_A_ow_for_space(d_ow, s):\n",
    "    # s : space name       \n",
    "    return sum(y['Area'] for y in d_ow if (y['Space'] == s and y['Direction'] != 'Top' and y['Direction'] != 'Bottom'))"
   ]
  },
  {
   "cell_type": "code",
   "execution_count": 35,
   "metadata": {
    "collapsed": true
   },
   "outputs": [],
   "source": [
    "# 内壁等の面積の暫定値の取得\n",
    "def get_A_iw_temp(A_f, ar, A_ow):\n",
    "\n",
    "    h = 2.8 # 階高, m\n",
    "\n",
    "    return max(0.0, 4 * h * ar * A_f**0.5 - A_ow) if A_f > 0.0 else 0.0"
   ]
  },
  {
   "cell_type": "markdown",
   "metadata": {},
   "source": [
    "#### Function 1"
   ]
  },
  {
   "cell_type": "code",
   "execution_count": 36,
   "metadata": {
    "collapsed": true
   },
   "outputs": [],
   "source": [
    "# 居室の外皮と床下空間との間の床の面積の合計を取得\n",
    "def get_A_ow_tuple(d):\n",
    "\n",
    "    # 室用途別の内壁等の面積\n",
    "    d_ow=[]\n",
    "    for y in ['Walls', 'Windows', 'Doors']:\n",
    "        if (y in d) == True :\n",
    "            d_ow.extend(d[y])\n",
    "\n",
    "    A_ow_MR, A_ow_OR,A_ow_NR = get_A_ow_for_space(d_ow,'Main'), get_A_ow_for_space(d_ow,'Other'), get_A_ow_for_space(d_ow,'Nonliving')\n",
    "\n",
    "    return A_ow_MR, A_ow_OR, A_ow_NR"
   ]
  },
  {
   "cell_type": "code",
   "execution_count": 37,
   "metadata": {
    "collapsed": true
   },
   "outputs": [],
   "source": [
    "# 内壁等の面積の取得\n",
    "def get_A_iw_tuple(A_MR, A_OR, A_NR,A_iw_space_MR_temp, A_iw_space_OR_temp, A_iw_space_NR_temp):\n",
    "\n",
    "    if A_iw_space_MR_temp > A_iw_space_OR_temp + A_iw_space_NR_temp :\n",
    "        if A_OR == 0 and A_NR == 0 :\n",
    "            A_iw_space_MR, A_iw_space_OR, A_iw_space_NR = 0, 0, 0\n",
    "        elif A_iw_space_OR_temp == 0 and A_iw_space_NR_temp == 0 :\n",
    "            A_iw_space_MR = A_iw_space_MR_temp\n",
    "            A_iw_space_OR = A_iw_space_MR_temp * A_OR/(A_OR + A_NR)\n",
    "            A_iw_space_NR = A_iw_space_MR_temp * A_NR/(A_OR + A_NR)\n",
    "        else :\n",
    "            A_iw_space_MR = A_iw_space_MR_temp\n",
    "            A_iw_space_OR = A_iw_space_MR_temp * A_iw_space_OR_temp/(A_iw_space_OR_temp + A_iw_space_NR_temp)\n",
    "            A_iw_space_NR = A_iw_space_MR_temp * A_iw_space_NR_temp/(A_iw_space_OR_temp + A_iw_space_NR_temp)\n",
    "            \n",
    "    elif A_iw_space_OR_temp > A_iw_space_MR_temp + A_iw_space_NR_temp :\n",
    "        if A_MR == 0 and A_NR == 0 :\n",
    "            A_iw_space_MR, A_iw_space_OR, A_iw_space_NR = 0, 0, 0\n",
    "        elif A_iw_space_MR_temp == 0 and A_iw_space_NR_temp == 0 :\n",
    "            A_iw_space_OR = A_iw_space_OR_temp\n",
    "            A_iw_space_MR = A_iw_space_OR_temp * A_MR/(A_MR + A_NR)\n",
    "            A_iw_space_NR = A_iw_space_OR_temp * A_NR/(A_MR + A_NR)\n",
    "        else :\n",
    "            A_iw_space_OR = A_iw_space_OR_temp\n",
    "            A_iw_space_MR = A_iw_space_OR_temp * A_iw_space_MR_temp/(A_iw_space_MR_temp + A_iw_space_NR_temp)\n",
    "            A_iw_space_NR = A_iw_space_OR_temp * A_iw_space_NR_temp/(A_iw_space_MR_temp + A_iw_space_NR_temp)\n",
    "            \n",
    "    elif A_iw_space_NR_temp > A_iw_space_MR_temp + A_iw_space_OR_temp :\n",
    "        if A_MR == 0 and A_OR == 0 :\n",
    "            A_iw_space_MR, A_iw_space_OR, A_iw_space_NR = 0, 0, 0\n",
    "        elif A_iw_space_MR_temp == 0 and A_iw_space_OR_temp == 0 :\n",
    "            A_iw_space_NR = A_iw_space_NR_temp\n",
    "            A_iw_space_MR = A_iw_space_NR_temp * A_MR/(A_MR + A_OR)\n",
    "            A_iw_space_OR = A_iw_space_NR_temp * A_OR/(A_MR + A_OR)\n",
    "        else :\n",
    "            A_iw_space_NR = A_iw_space_NR_temp\n",
    "            A_iw_space_MR = A_iw_space_NR_temp * A_iw_space_MR_temp/(A_iw_space_MR_temp + A_iw_space_OR_temp)\n",
    "            A_iw_space_OR = A_iw_space_NR_temp * A_iw_space_OR_temp/(A_iw_space_MR_temp + A_iw_space_OR_temp)\n",
    "            \n",
    "    else :\n",
    "        A_iw_space_MR, A_iw_space_OR, A_iw_space_NR = A_iw_space_MR_temp, A_iw_space_OR_temp, A_iw_space_NR_temp\n",
    "\n",
    "    return A_iw_space_MR, A_iw_space_OR, A_iw_space_NR"
   ]
  },
  {
   "cell_type": "code",
   "execution_count": 38,
   "metadata": {
    "collapsed": true
   },
   "outputs": [],
   "source": [
    "# 室用途間の内壁等の面積の推定\n",
    "# 室用途床面積が0㎡の場合に、室間の内壁等の面積を0㎡とする\n",
    "def get_A_iw_cor_tuple(A_iw_min, A_iw_s1, A_iw_s2, A_iw_os):\n",
    "    return max(A_iw_min, (A_iw_s1 + A_iw_s2 - A_iw_os)/2)"
   ]
  },
  {
   "cell_type": "code",
   "execution_count": 39,
   "metadata": {},
   "outputs": [],
   "source": [
    "def get_area_inner_wall_tuple(d):\n",
    "    \n",
    "    # 周長を求める際の係数, -\n",
    "    ar_MR, ar_OR, ar_NR = 1.2, 1.4, 1.4\n",
    "\n",
    "    # 用途別床面積の取得\n",
    "    A_MR, A_OR, A_NR = get_area_floor_tuple(d['Common'])\n",
    " \n",
    "    # 居室の外皮と床下空間との間の床の面積の合計を取得\n",
    "    A_ow_MR, A_ow_OR, A_ow_NR = get_A_ow_tuple(d)\n",
    "\n",
    "    # 内壁等の面積の暫定値の取得\n",
    "    A_iw_space_MR_temp = get_A_iw_temp(A_MR, ar_MR, A_ow_MR)\n",
    "    A_iw_space_OR_temp = get_A_iw_temp(A_OR, ar_OR, A_ow_OR)\n",
    "    A_iw_space_NR_temp = get_A_iw_temp(A_NR, ar_NR, A_ow_NR)\n",
    "\n",
    "    # 内壁等の面積の取得\n",
    "    A_iw_space_MR, A_iw_space_OR, A_iw_space_NR = get_A_iw_tuple(A_MR, A_OR, A_NR, A_iw_space_MR_temp, A_iw_space_OR_temp, A_iw_space_NR_temp)\n",
    "    \n",
    "    # 室間の内壁等の面積の最小値, m2\n",
    "    A_iw_min_MR_to_OR, A_iw_min_MR_to_NR, A_iw_min_OR_to_NR = 0.0, 0.0, 0.0\n",
    "    \n",
    "    # 室用途間の内壁等の面積の推定\n",
    "    return get_A_iw_cor_tuple(A_iw_min_MR_to_OR, A_iw_space_MR, A_iw_space_OR, A_iw_space_NR), \\\n",
    "           get_A_iw_cor_tuple(A_iw_min_MR_to_NR, A_iw_space_MR, A_iw_space_NR, A_iw_space_OR), \\\n",
    "           get_A_iw_cor_tuple(A_iw_min_OR_to_NR, A_iw_space_OR, A_iw_space_NR, A_iw_space_MR)"
   ]
  },
  {
   "cell_type": "markdown",
   "metadata": {},
   "source": [
    "#### Function 2"
   ]
  },
  {
   "cell_type": "code",
   "execution_count": 40,
   "metadata": {
    "collapsed": true
   },
   "outputs": [],
   "source": [
    "# 居室の外皮と床下空間との間の床の面積の合計を取得\n",
    "def get_A_ow_dictionary(d):\n",
    "\n",
    "    # 室用途別の内壁等の面積\n",
    "    d_ow=[]\n",
    "    for y in ['Walls', 'Windows', 'Doors']:\n",
    "        if (y in d) == True :\n",
    "            d_ow.extend(d[y])\n",
    "\n",
    "    return { x: get_A_ow_for_space(d_ow, x) for x in ['Main', 'Other', 'Nonliving']}"
   ]
  },
  {
   "cell_type": "code",
   "execution_count": 41,
   "metadata": {
    "collapsed": true
   },
   "outputs": [],
   "source": [
    "# 内壁等の面積の取得\n",
    "def get_A_iw_dictionary(A, A_iw_space_temp):\n",
    "\n",
    "    A_sum = sum(A[x] for x in A_iw_space_temp.keys())\n",
    "    A_iw_space_temp_sum = sum(A_iw_space_temp[x] for x in A_iw_space_temp.keys())\n",
    "    \n",
    "    A_iw_space = {x:A_iw_space_temp[x] for x in A_iw_space_temp.keys()}\n",
    "    \n",
    "    for x in ['Main', 'Other', 'Nonliving'] :   \n",
    "        \n",
    "        # 用途間の内壁等の面積が0㎡以上となるよう、各用途の内壁等の面積を調整\n",
    "        if 2*A_iw_space_temp[x] > A_iw_space_temp_sum :\n",
    "            \n",
    "            # 他の2用途の床面積が0㎡の場合は、全用途の内壁等の面積を0㎡とする\n",
    "            if A[x] == A_sum :\n",
    "                A_iw_space = {y:0 for y in ['Main', 'Other', 'Nonliving']}\n",
    "                \n",
    "            # 他の2用途の内壁等の面積の暫定値が0㎡の場合は、他の2用途の内壁等の面積を、用途別床面積に応じて決定\n",
    "            elif A_iw_space_temp[x] == A_iw_space_temp_sum :\n",
    "                for y in ['Main', 'Other', 'Nonliving'] :\n",
    "                    if x == y :\n",
    "                        A_iw_space[y] = A_iw_space_temp[y]\n",
    "                    else :\n",
    "                        A_iw_space[y] = A_iw_space_temp[x] * A[y]/(A_sum - A[x])\n",
    "                        \n",
    "            # 他の2用途の内壁等の面積を、内壁等の面積の暫定値に応じて決定            \n",
    "            else :\n",
    "                for y in ['Main', 'Other', 'Nonliving'] :\n",
    "                    if x == y :\n",
    "                        A_iw_space[y] = A_iw_space_temp[y]\n",
    "                    else :\n",
    "                        A_iw_space[y] = A_iw_space_temp[x] * A_iw_space_temp[y]/(A_iw_space_temp_sum - A_iw_space_temp[x])\n",
    "                \n",
    "    return A_iw_space"
   ]
  },
  {
   "cell_type": "code",
   "execution_count": 42,
   "metadata": {
    "collapsed": true
   },
   "outputs": [],
   "source": [
    "# 室用途間の内壁等の面積の推定\n",
    "# 室用途床面積が0㎡の場合に、室間の内壁等の面積を0㎡とする\n",
    "def get_A_iw_cor_dictionary(A_iw_min, A_iw_s1, A_iw_s2, A_iw_sum):\n",
    "    return max(A_iw_min, (2*(A_iw_s1 + A_iw_s2) - A_iw_sum)/2)"
   ]
  },
  {
   "cell_type": "code",
   "execution_count": 43,
   "metadata": {},
   "outputs": [],
   "source": [
    "def get_area_inner_wall_dictionary(d, c):\n",
    "    # c : correspondence of spaces\n",
    "\n",
    "    # 周長を求める際の係数, -\n",
    "    ar = {'Main': 1.2, 'Other': 1.4, 'Nonliving': 1.4}\n",
    "\n",
    "    # 用途別床面積の取得\n",
    "    A = get_area_floor_dictionary(d['Common'])\n",
    " \n",
    "    # 居室の外皮と床下空間との間の床の面積の合計を取得\n",
    "    A_ow = get_A_ow_dictionary(d)\n",
    "\n",
    "    # 内壁等の面積の取得\n",
    "    A_iw_space_temp = { x: get_A_iw_temp(A[x], ar[x], A_ow[x]) for x in ['Main', 'Other', 'Nonliving']}\n",
    "    A_iw_space = get_A_iw_dictionary(A, A_iw_space_temp)\n",
    "    A_iw_space_sum = sum(A_iw_space[x] for x in A_iw_space.keys())\n",
    "\n",
    "    # 室間の内壁等の面積の最小値, m2\n",
    "    A_iw_min = {'main to other': 0.0, 'main to nonliving': 0.0, 'other to nonliving': 0.0}\n",
    "    \n",
    "    # 室用途間の内壁等の面積の推定\n",
    "    return { x: get_A_iw_cor_dictionary(A_iw_min[x], A_iw_space[c[x][0]], A_iw_space[c[x][1]], A_iw_space_sum) for x in c.keys()}"
   ]
  },
  {
   "cell_type": "markdown",
   "metadata": {},
   "source": [
    "#### Example"
   ]
  },
  {
   "cell_type": "code",
   "execution_count": 44,
   "metadata": {},
   "outputs": [
    {
     "name": "stdout",
     "output_type": "stream",
     "text": [
      "(106.45675773706458, 0.0, 0.0)\n",
      "{'main to other': 106.45675773706456, 'main to nonliving': 0.0, 'other to nonliving': 1.4210854715202004e-14}\n"
     ]
    }
   ],
   "source": [
    "correspondence = {\n",
    "    'main to other': ['Main', 'Other'],\n",
    "    'main to nonliving': ['Main', 'Nonliving'],\n",
    "    'other to nonliving': ['Other', 'Nonliving'] \n",
    "}  \n",
    "\n",
    "d = {\n",
    "    'Common': {\n",
    "        'Region': 6,\n",
    "        'MainOccupantRoomFloorArea': 60.0,\n",
    "        'OtherOccupantRoomFloorArea': 60.0,\n",
    "        'TotalFloorArea': 120.0\n",
    "    },\n",
    "    'Walls': [\n",
    "        { 'Area': 60, 'Direction': 'Top', 'name': 'Ceiling', 'Space': 'Main', 'structure': 'wood', 'Type': 'Ceiling' },\n",
    "        { 'Area': 15, 'Direction': 'Bottom', 'name': 'Floor', 'Space': 'Other', 'structure': 'wood', 'Type': 'Floor' },\n",
    "    ],\n",
    "    'Windows': [\n",
    "        { 'Area': 30, 'Direction': 'SW', 'name': 'WindowSW', 'Space': 'Main', 'type': 'single' },\n",
    "        { 'Area': 75, 'Direction': 'Bottom', 'name': 'WindowBottom', 'Space': 'Other', 'type': 'single' },\n",
    "    ],\n",
    "    'Doors': [\n",
    "        { 'Area': 15, 'Direction': 'NW', 'name': 'DoorNW', 'Space': 'Nonliving' },\n",
    "        { 'Area': 15, 'Direction': 'NE', 'name': 'DoorNE', 'Space': 'Other' }\n",
    "    ],\n",
    "    'EarthFloors': [\n",
    "        { 'Area': 40, 'name': 'other', 'Space': 'Underfloor' },\n",
    "        { 'Area': 20, 'name': 'entrance', 'Space': 'Nonliving' }\n",
    "    ]\n",
    "}\n",
    "\n",
    "print(get_area_inner_wall_tuple(d))\n",
    "print(get_area_inner_wall_dictionary(d, correspondence))"
   ]
  },
  {
   "cell_type": "markdown",
   "metadata": {},
   "source": [
    "### 3) 内壁の構築"
   ]
  },
  {
   "cell_type": "markdown",
   "metadata": {},
   "source": [
    "#### Function 1"
   ]
  },
  {
   "cell_type": "code",
   "execution_count": 45,
   "metadata": {
    "collapsed": true
   },
   "outputs": [],
   "source": [
    "def get_innerwall_wall_tuple(d):\n",
    "\n",
    "    # 内壁面積の推定\n",
    "    A_iw_MR_OR, A_iw_MR_NR, A_iw_OR_NR = get_area_inner_wall_tuple(d)\n",
    "    \n",
    "    # 壁体名称、部位面積を更新し、「壁体が属する空間種類」「隣接空間種類」を追加する\n",
    "    iws = []\n",
    "\n",
    "    if A_iw_MR_OR > 0 :\n",
    "        iws.extend([{\n",
    "            'Name' : 'Innerwall_main to other',\n",
    "            'Type' : 'InnerWall',\n",
    "            'Direction' : 'Vertical',\n",
    "            'Layers' : get_inner_wall_layers(),\n",
    "            'Area' : A_iw_MR_OR,\n",
    "            'Spaces' : ['Main', 'Other']\n",
    "        }])\n",
    "\n",
    "    if A_iw_MR_NR > 0 :\n",
    "        iws.extend([{\n",
    "            'Name' : 'Innerwall_main to nonliving',\n",
    "            'Type' : 'InnerWall',\n",
    "            'Direction' : 'Vertical',\n",
    "            'Layers' : get_inner_wall_layers(),\n",
    "            'Area' : A_iw_MR_NR,\n",
    "            'Spaces' : ['Main', 'Nonliving']\n",
    "        }])\n",
    "\n",
    "    if A_iw_OR_NR > 0 :\n",
    "        iws.extend([{\n",
    "            'Name' : 'Innerwall_other to nonliving',\n",
    "            'Type' : 'InnerWall',\n",
    "            'Direction' : 'Vertical',\n",
    "            'Layers' : get_inner_wall_layers(),\n",
    "            'Area' : A_iw_OR_NR,\n",
    "            'Spaces' : ['Other', 'Nonliving']\n",
    "        }])\n",
    "\n",
    "    return iws"
   ]
  },
  {
   "cell_type": "markdown",
   "metadata": {},
   "source": [
    "#### Function 2"
   ]
  },
  {
   "cell_type": "code",
   "execution_count": 46,
   "metadata": {
    "collapsed": true
   },
   "outputs": [],
   "source": [
    "def get_innerwall_wall_dictionary(d):\n",
    "\n",
    "    # 用途と複数用途間の対応関係の定義\n",
    "    correspondence = {\n",
    "        'main to other': ['Main', 'Other'],\n",
    "        'main to nonliving': ['Main', 'Nonliving'],\n",
    "        'other to nonliving': ['Other', 'Nonliving'] \n",
    "    }  \n",
    "\n",
    "    # 内壁面積の推定\n",
    "    areas_innerwall = get_area_inner_wall_dictionary(d, correspondence)\n",
    "    \n",
    "    # 壁体名称、部位面積を更新し、「壁体が属する空間種類」「隣接空間種類」を追加する\n",
    "    iws = []\n",
    "\n",
    "    for c in correspondence.keys() :\n",
    "        if areas_innerwall[c] > 0 :\n",
    "            iws.extend([ {\n",
    "                'Name' : 'Innerwall_' + c,\n",
    "                'Type' : 'InnerWall',\n",
    "                'Direction' : 'Vertical',\n",
    "                'Layers' : get_inner_wall_layers(),\n",
    "                'Area' : areas_innerwall[c],\n",
    "                'Spaces' : correspondence[c]\n",
    "            }])\n",
    "\n",
    "    return iws"
   ]
  },
  {
   "cell_type": "markdown",
   "metadata": {},
   "source": [
    "## 8.3. InnerWalls Element - 統合"
   ]
  },
  {
   "cell_type": "markdown",
   "metadata": {},
   "source": [
    "#### Function"
   ]
  },
  {
   "cell_type": "code",
   "execution_count": 47,
   "metadata": {
    "collapsed": true
   },
   "outputs": [],
   "source": [
    "def convert_innerwall( d ):\n",
    "\n",
    "    innerwalls =[]\n",
    "    \n",
    "    # 室と床下空間の間の床の推定\n",
    "    innerwalls.extend(get_innerwall_groundfloor_dictionary(d))\n",
    "    \n",
    "    # 室間の床・天井の推定\n",
    "    innerwalls.extend(get_innerwall_innerslab(d, innerwalls))\n",
    "    \n",
    "    # 内壁等の推定              \n",
    "    innerwalls.extend(get_innerwall_wall_dictionary(d))\n",
    "            \n",
    "    return innerwalls"
   ]
  },
  {
   "cell_type": "markdown",
   "metadata": {},
   "source": [
    "#### Example"
   ]
  },
  {
   "cell_type": "code",
   "execution_count": 48,
   "metadata": {},
   "outputs": [
    {
     "data": {
      "text/plain": [
       "[{'Area': 20.0,\n",
       "  'Direction': 'Horizontal',\n",
       "  'Layers': [{'Cond': 0.16, 'Name': 'PED', 'SpecH': 720.0, 'Thick': 0.012}],\n",
       "  'Name': 'InnerFloor_Main',\n",
       "  'NextSpace': 'Other',\n",
       "  'Space': 'Main',\n",
       "  'Type': 'InnerFloor'},\n",
       " {'Area': 10.0,\n",
       "  'Direction': 'Horizontal',\n",
       "  'Layers': [{'Cond': 0.16, 'Name': 'PED', 'SpecH': 720.0, 'Thick': 0.012}],\n",
       "  'Name': 'InnerFloor_Main',\n",
       "  'NextSpace': 'Nonliving',\n",
       "  'Space': 'Main',\n",
       "  'Type': 'InnerFloor'},\n",
       " {'Area': 30.0,\n",
       "  'Direction': 'Horizontal',\n",
       "  'Layers': [{'Cond': 0.16, 'Name': 'PED', 'SpecH': 720.0, 'Thick': 0.012}],\n",
       "  'Name': 'InnerFloor_Other',\n",
       "  'NextSpace': 'Main',\n",
       "  'Space': 'Other',\n",
       "  'Type': 'InnerFloor'},\n",
       " {'Area': 30.0,\n",
       "  'Direction': 'Horizontal',\n",
       "  'Layers': [{'Cond': 0.16, 'Name': 'PED', 'SpecH': 720.0, 'Thick': 0.012}],\n",
       "  'Name': 'InnerFloor_Other',\n",
       "  'NextSpace': 'Nonliving',\n",
       "  'Space': 'Other',\n",
       "  'Type': 'InnerFloor'},\n",
       " {'Area': 10.0,\n",
       "  'Direction': 'Horizontal',\n",
       "  'Layers': [{'Cond': 0.16, 'Name': 'PED', 'SpecH': 720.0, 'Thick': 0.012}],\n",
       "  'Name': 'InnerFloor_Nonliving',\n",
       "  'NextSpace': 'Main',\n",
       "  'Space': 'Nonliving',\n",
       "  'Type': 'InnerFloor'},\n",
       " {'Area': 20.0,\n",
       "  'Direction': 'Horizontal',\n",
       "  'Layers': [{'Cond': 0.16, 'Name': 'PED', 'SpecH': 720.0, 'Thick': 0.012}],\n",
       "  'Name': 'InnerFloor_Nonliving',\n",
       "  'NextSpace': 'Other',\n",
       "  'Space': 'Nonliving',\n",
       "  'Type': 'InnerFloor'},\n",
       " {'Area': 20.0,\n",
       "  'Direction': 'Horizontal',\n",
       "  'Layers': [{'Cond': 0.16, 'Name': 'PED', 'SpecH': 720.0, 'Thick': 0.012}],\n",
       "  'Name': 'InnerCeiling_Main',\n",
       "  'NextSpace': 'Other',\n",
       "  'Space': 'Main',\n",
       "  'Type': 'InnerCeiling'},\n",
       " {'Area': 10.0,\n",
       "  'Direction': 'Horizontal',\n",
       "  'Layers': [{'Cond': 0.16, 'Name': 'PED', 'SpecH': 720.0, 'Thick': 0.012}],\n",
       "  'Name': 'InnerCeiling_Main',\n",
       "  'NextSpace': 'Nonliving',\n",
       "  'Space': 'Main',\n",
       "  'Type': 'InnerCeiling'},\n",
       " {'Area': 30.0,\n",
       "  'Direction': 'Horizontal',\n",
       "  'Layers': [{'Cond': 0.16, 'Name': 'PED', 'SpecH': 720.0, 'Thick': 0.012}],\n",
       "  'Name': 'InnerCeiling_Other',\n",
       "  'NextSpace': 'Main',\n",
       "  'Space': 'Other',\n",
       "  'Type': 'InnerCeiling'},\n",
       " {'Area': 30.0,\n",
       "  'Direction': 'Horizontal',\n",
       "  'Layers': [{'Cond': 0.16, 'Name': 'PED', 'SpecH': 720.0, 'Thick': 0.012}],\n",
       "  'Name': 'InnerCeiling_Other',\n",
       "  'NextSpace': 'Nonliving',\n",
       "  'Space': 'Other',\n",
       "  'Type': 'InnerCeiling'},\n",
       " {'Area': 10.0,\n",
       "  'Direction': 'Horizontal',\n",
       "  'Layers': [{'Cond': 0.16, 'Name': 'PED', 'SpecH': 720.0, 'Thick': 0.012}],\n",
       "  'Name': 'InnerCeiling_Nonliving',\n",
       "  'NextSpace': 'Main',\n",
       "  'Space': 'Nonliving',\n",
       "  'Type': 'InnerCeiling'},\n",
       " {'Area': 20.0,\n",
       "  'Direction': 'Horizontal',\n",
       "  'Layers': [{'Cond': 0.16, 'Name': 'PED', 'SpecH': 720.0, 'Thick': 0.012}],\n",
       "  'Name': 'InnerCeiling_Nonliving',\n",
       "  'NextSpace': 'Other',\n",
       "  'Space': 'Nonliving',\n",
       "  'Type': 'InnerCeiling'},\n",
       " {'Area': 17.961386224474424,\n",
       "  'Direction': 'Vertical',\n",
       "  'Layers': [{'Cond': 0.22, 'Name': 'GPB', 'SpecH': 830.0, 'Thick': 0.0125},\n",
       "   {'Cond': 11.11111111111111, 'Name': 'GPB', 'SpecH': 0, 'Thick': 1},\n",
       "   {'Cond': 0.22, 'Name': 'GPB', 'SpecH': 830.0, 'Thick': 0.0125}],\n",
       "  'Name': 'Innerwall_main to other',\n",
       "  'Spaces': ['Main', 'Other'],\n",
       "  'Type': 'InnerWall'},\n",
       " {'Area': 19.020025504219888,\n",
       "  'Direction': 'Vertical',\n",
       "  'Layers': [{'Cond': 0.22, 'Name': 'GPB', 'SpecH': 830.0, 'Thick': 0.0125},\n",
       "   {'Cond': 11.11111111111111, 'Name': 'GPB', 'SpecH': 0, 'Thick': 1},\n",
       "   {'Cond': 0.22, 'Name': 'GPB', 'SpecH': 830.0, 'Thick': 0.0125}],\n",
       "  'Name': 'Innerwall_main to nonliving',\n",
       "  'Spaces': ['Main', 'Nonliving'],\n",
       "  'Type': 'InnerWall'},\n",
       " {'Area': 30.23037151259014,\n",
       "  'Direction': 'Vertical',\n",
       "  'Layers': [{'Cond': 0.22, 'Name': 'GPB', 'SpecH': 830.0, 'Thick': 0.0125},\n",
       "   {'Cond': 11.11111111111111, 'Name': 'GPB', 'SpecH': 0, 'Thick': 1},\n",
       "   {'Cond': 0.22, 'Name': 'GPB', 'SpecH': 830.0, 'Thick': 0.0125}],\n",
       "  'Name': 'Innerwall_other to nonliving',\n",
       "  'Spaces': ['Other', 'Nonliving'],\n",
       "  'Type': 'InnerWall'}]"
      ]
     },
     "execution_count": 48,
     "metadata": {},
     "output_type": "execute_result"
    }
   ],
   "source": [
    "d = {\n",
    "    'Common': {'MainOccupantRoomFloorArea': 30.0, 'OtherOccupantRoomFloorArea': 60.0, 'Region': 6, 'TotalFloorArea': 120.0},\n",
    "    'Doors': [\n",
    "        {'Area': 0.63, 'Direction': 'NW', 'name': 'DoorNW_main', 'Space': 'Main'},\n",
    "        {'Area': 1.26, 'Direction': 'NW', 'name': 'DoorNW_other', 'Space': 'Other'},\n",
    "        {'Area': 0.63, 'Direction': 'NW', 'name': 'DoorNW_nonliving', 'Space': 'Nonliving'},\n",
    "        {'Area': 0.54, 'Direction': 'NE', 'name': 'DoorNE_main', 'Space': 'Main'},\n",
    "        {'Area': 1.08, 'Direction': 'NE', 'name': 'DoorNE_other', 'Space': 'Other'},\n",
    "        {'Area': 0.54, 'Direction': 'NE', 'name': 'DoorNE_nonliving', 'Space': 'Nonliving'}\n",
    "     ],\n",
    "    'EarthfloorPerimeters': [\n",
    "        {'direction': 'NW', 'length': 2.43, 'name': 'other_NW', 'psi': 1.8, 'Space': 'Underfloor'},\n",
    "        {'direction': 'NE', 'length': 2.43, 'name': 'other_NE', 'psi': 1.8, 'Space': 'Underfloor'}\n",
    "    ],\n",
    "    'EarthFloors': [\n",
    "        {'Area': 5.0, 'name': 'other', 'Space': 'Underfloor'},\n",
    "        {'Area': 5.0, 'name': 'entrance', 'Space': 'Underfloor'}\n",
    "    ],\n",
    "    'Walls': [\n",
    "        {'Area': 16.95, 'Direction': 'top', 'name': 'Ceiling_main', 'Space': 'Main', 'structure': 'wood', 'Type': 'Ceiling'},\n",
    "        {'Area': 33.9, 'Direction': 'top', 'name': 'Ceiling_other', 'Space': 'Other', 'structure': 'wood', 'Type': 'Ceiling'},\n",
    "        {'Area': 16.95, 'Direction': 'top', 'name': 'Ceiling_nonliving', 'Space': 'Nonliving', 'structure': 'wood', 'Type': 'Ceiling'},\n",
    "        {'Area': 10.1575, 'Direction': 'SW', 'name': 'Wall_SW_main', 'Space': 'Main', 'structure': 'wood', 'Type': 'Wall'},\n",
    "        {'Area': 20.315, 'Direction': 'SW', 'name': 'Wall_SW_other', 'Space': 'Other', 'structurre': 'wood', 'Type': 'Wall'},\n",
    "        {'Area': 10.1575, 'Direction': 'SW', 'name': 'Wall_SW_nonliving', 'Space': 'Nonliving', 'structure': 'wood', 'Type': 'Wall'}\n",
    "    ],\n",
    "    'Windows': [\n",
    "        {'Area': 7.5625, 'Direction': 'SW', 'name': 'WindowSW_main', 'Space': 'Main', 'type': 'single'},\n",
    "        {'Area': 15.125, 'Direction': 'SW', 'name': 'WindowSW_other', 'Space': 'Other', 'type': 'single'},\n",
    "        {'Area': 7.5625, 'Direction': 'SW', 'name': 'WindowSW_nonliving',  'Space': 'Nonliving', 'type': 'single'},\n",
    "        {'Area': 0.7925, 'Direction': 'NW', 'name': 'WindowNW_main', 'Space': 'Main', 'type': 'single'},\n",
    "        {'Area': 1.585, 'Direction': 'NW', 'name': 'WindowNW_other', 'Space': 'Other', 'type': 'single'},\n",
    "        {'Area': 0.7925, 'Direction': 'NW', 'name': 'WindowNW_nonliving', 'Space': 'Nonliving', 'type': 'single'}\n",
    "        ]\n",
    "}\n",
    "\n",
    "convert_innerwall( d )"
   ]
  },
  {
   "cell_type": "markdown",
   "metadata": {},
   "source": [
    "## 9. Lv4入力情報のコンバート（統合）\n",
    "- 1)共通情報、2)開口部以外の不透明部位、3)開口部の透明部位、4)開口部の不透明部位、5) 線熱橋、6)土間床等の外周部の線熱橋、7)土間床、8)内壁等の各コンバート関数を統合し、Lv3の入力情報をLv4の入力情報にコンバートする。"
   ]
  },
  {
   "cell_type": "markdown",
   "metadata": {},
   "source": [
    "### Function"
   ]
  },
  {
   "cell_type": "code",
   "execution_count": 49,
   "metadata": {
    "collapsed": true
   },
   "outputs": [],
   "source": [
    "def convert(d):\n",
    "    d_lv4_input = {}\n",
    "    d_lv4_input['Common'] = convert_common(d)\n",
    "    if ('Walls' in d) == True:\n",
    "        d_lv4_input['Walls'] = convert_wall(d)\n",
    "    if ('Windows' in d) == True:\n",
    "        d_lv4_input['Windows'] = convert_window(d)\n",
    "    if ('Doors' in d) == True:\n",
    "        d_lv4_input['Doors'] = convert_door(d)\n",
    "    if ('EarthfloorPerimeters' in d) == True:\n",
    "        d_lv4_input['EarthfloorPerimeters'] = convert_earthfloorperimeter(d)\n",
    "    if ('EarthFloors' in d) == True:\n",
    "        d_lv4_input['EarthFloors'] = convert_earthfloor(d)\n",
    "    if ('Heatbridges' in d) == True:\n",
    "        d_lv4_input['Heatbridges'] = convert_heatbridge(d)\n",
    "    d_lv4_input['InnerWalls'] = convert_innerwall(d)\n",
    "\n",
    "    return d_lv4_input"
   ]
  },
  {
   "cell_type": "markdown",
   "metadata": {},
   "source": [
    "### Example"
   ]
  },
  {
   "cell_type": "code",
   "execution_count": 50,
   "metadata": {},
   "outputs": [
    {
     "data": {
      "text/plain": [
       "{'Common': {'MainOccupantRoomFloorArea': 30.0,\n",
       "  'OtherOccupantRoomFloorArea': 60.0,\n",
       "  'Region': 6,\n",
       "  'TotalFloorArea': 120.0},\n",
       " 'Doors': [{'Area': 0.63,\n",
       "   'Direction': 'NW',\n",
       "   'Space': 'Main',\n",
       "   'name': 'DoorNW_main'},\n",
       "  {'Area': 1.26, 'Direction': 'NW', 'Space': 'Other', 'name': 'DoorNW_other'},\n",
       "  {'Area': 0.63,\n",
       "   'Direction': 'NW',\n",
       "   'Space': 'Nonliving',\n",
       "   'name': 'DoorNW_nonliving'},\n",
       "  {'Area': 0.54, 'Direction': 'NE', 'Space': 'Main', 'name': 'DoorNE_main'},\n",
       "  {'Area': 1.08, 'Direction': 'NE', 'Space': 'Other', 'name': 'DoorNE_other'},\n",
       "  {'Area': 0.54,\n",
       "   'Direction': 'NE',\n",
       "   'Space': 'Nonliving',\n",
       "   'name': 'DoorNE_nonliving'}],\n",
       " 'EarthFloors': [{'Area': 30.0, 'Name': 'Main', 'Space': 'Main'},\n",
       "  {'Area': 5.0, 'Name': 'Entrance', 'Space': 'Nonliving'}],\n",
       " 'EarthfloorPerimeters': [{'Direction': 'NW',\n",
       "   'Space': 'Underfloor',\n",
       "   'length': 2.43,\n",
       "   'name': 'other_NW',\n",
       "   'psi': 1.8},\n",
       "  {'Direction': 'NE',\n",
       "   'Space': 'Underfloor',\n",
       "   'length': 2.43,\n",
       "   'name': 'other_NE',\n",
       "   'psi': 1.8}],\n",
       " 'InnerWalls': [{'Area': 30.0,\n",
       "   'Direction': 'Horizontal',\n",
       "   'Layers': [{'Cond': 0.16, 'Name': 'PED', 'SpecH': 720.0, 'Thick': 0.012}],\n",
       "   'Name': 'InnerFloor_Other',\n",
       "   'NextSpace': 'Main',\n",
       "   'Space': 'Other',\n",
       "   'Type': 'InnerFloor'},\n",
       "  {'Area': 30.0,\n",
       "   'Direction': 'Horizontal',\n",
       "   'Layers': [{'Cond': 0.16, 'Name': 'PED', 'SpecH': 720.0, 'Thick': 0.012}],\n",
       "   'Name': 'InnerFloor_Other',\n",
       "   'NextSpace': 'Nonliving',\n",
       "   'Space': 'Other',\n",
       "   'Type': 'InnerFloor'},\n",
       "  {'Area': 8.333333333333334,\n",
       "   'Direction': 'Horizontal',\n",
       "   'Layers': [{'Cond': 0.16, 'Name': 'PED', 'SpecH': 720.0, 'Thick': 0.012}],\n",
       "   'Name': 'InnerFloor_Nonliving',\n",
       "   'NextSpace': 'Main',\n",
       "   'Space': 'Nonliving',\n",
       "   'Type': 'InnerFloor'},\n",
       "  {'Area': 16.666666666666668,\n",
       "   'Direction': 'Horizontal',\n",
       "   'Layers': [{'Cond': 0.16, 'Name': 'PED', 'SpecH': 720.0, 'Thick': 0.012}],\n",
       "   'Name': 'InnerFloor_Nonliving',\n",
       "   'NextSpace': 'Other',\n",
       "   'Space': 'Nonliving',\n",
       "   'Type': 'InnerFloor'},\n",
       "  {'Area': 21.176470588235293,\n",
       "   'Direction': 'Horizontal',\n",
       "   'Layers': [{'Cond': 0.16, 'Name': 'PED', 'SpecH': 720.0, 'Thick': 0.012}],\n",
       "   'Name': 'InnerCeiling_Main',\n",
       "   'NextSpace': 'Other',\n",
       "   'Space': 'Main',\n",
       "   'Type': 'InnerCeiling'},\n",
       "  {'Area': 8.823529411764707,\n",
       "   'Direction': 'Horizontal',\n",
       "   'Layers': [{'Cond': 0.16, 'Name': 'PED', 'SpecH': 720.0, 'Thick': 0.012}],\n",
       "   'Name': 'InnerCeiling_Main',\n",
       "   'NextSpace': 'Nonliving',\n",
       "   'Space': 'Main',\n",
       "   'Type': 'InnerCeiling'},\n",
       "  {'Area': 60.0,\n",
       "   'Direction': 'Horizontal',\n",
       "   'Layers': [{'Cond': 0.16, 'Name': 'PED', 'SpecH': 720.0, 'Thick': 0.012}],\n",
       "   'Name': 'InnerCeiling_Other',\n",
       "   'NextSpace': 'Nonliving',\n",
       "   'Space': 'Other',\n",
       "   'Type': 'InnerCeiling'},\n",
       "  {'Area': 30.0,\n",
       "   'Direction': 'Horizontal',\n",
       "   'Layers': [{'Cond': 0.16, 'Name': 'PED', 'SpecH': 720.0, 'Thick': 0.012}],\n",
       "   'Name': 'InnerCeiling_Nonliving',\n",
       "   'NextSpace': 'Other',\n",
       "   'Space': 'Nonliving',\n",
       "   'Type': 'InnerCeiling'},\n",
       "  {'Area': 17.961386224474424,\n",
       "   'Direction': 'Vertical',\n",
       "   'Layers': [{'Cond': 0.22, 'Name': 'GPB', 'SpecH': 830.0, 'Thick': 0.0125},\n",
       "    {'Cond': 11.11111111111111, 'Name': 'GPB', 'SpecH': 0, 'Thick': 1},\n",
       "    {'Cond': 0.22, 'Name': 'GPB', 'SpecH': 830.0, 'Thick': 0.0125}],\n",
       "   'Name': 'Innerwall_main to other',\n",
       "   'Spaces': ['Main', 'Other'],\n",
       "   'Type': 'InnerWall'},\n",
       "  {'Area': 19.020025504219888,\n",
       "   'Direction': 'Vertical',\n",
       "   'Layers': [{'Cond': 0.22, 'Name': 'GPB', 'SpecH': 830.0, 'Thick': 0.0125},\n",
       "    {'Cond': 11.11111111111111, 'Name': 'GPB', 'SpecH': 0, 'Thick': 1},\n",
       "    {'Cond': 0.22, 'Name': 'GPB', 'SpecH': 830.0, 'Thick': 0.0125}],\n",
       "   'Name': 'Innerwall_main to nonliving',\n",
       "   'Spaces': ['Main', 'Nonliving'],\n",
       "   'Type': 'InnerWall'},\n",
       "  {'Area': 30.23037151259014,\n",
       "   'Direction': 'Vertical',\n",
       "   'Layers': [{'Cond': 0.22, 'Name': 'GPB', 'SpecH': 830.0, 'Thick': 0.0125},\n",
       "    {'Cond': 11.11111111111111, 'Name': 'GPB', 'SpecH': 0, 'Thick': 1},\n",
       "    {'Cond': 0.22, 'Name': 'GPB', 'SpecH': 830.0, 'Thick': 0.0125}],\n",
       "   'Name': 'Innerwall_other to nonliving',\n",
       "   'Spaces': ['Other', 'Nonliving'],\n",
       "   'Type': 'InnerWall'}],\n",
       " 'Walls': [{'Area': 16.95,\n",
       "   'Direction': 'top',\n",
       "   'Space': 'Main',\n",
       "   'Type': 'Ceiling',\n",
       "   'name': 'Ceiling_main',\n",
       "   'structure': 'wood'},\n",
       "  {'Area': 33.9,\n",
       "   'Direction': 'top',\n",
       "   'Space': 'Other',\n",
       "   'Type': 'Ceiling',\n",
       "   'name': 'Ceiling_other',\n",
       "   'structure': 'wood'},\n",
       "  {'Area': 16.95,\n",
       "   'Direction': 'top',\n",
       "   'Space': 'Nonliving',\n",
       "   'Type': 'Ceiling',\n",
       "   'name': 'Ceiling_nonliving',\n",
       "   'structure': 'wood'},\n",
       "  {'Area': 10.1575,\n",
       "   'Direction': 'SW',\n",
       "   'Space': 'Main',\n",
       "   'Type': 'Wall',\n",
       "   'name': 'Wall_SW_main',\n",
       "   'structure': 'wood'},\n",
       "  {'Area': 20.315,\n",
       "   'Direction': 'SW',\n",
       "   'Space': 'Other',\n",
       "   'Type': 'Wall',\n",
       "   'name': 'Wall_SW_other',\n",
       "   'structure': 'wood'},\n",
       "  {'Area': 10.1575,\n",
       "   'Direction': 'SW',\n",
       "   'Space': 'Nonliving',\n",
       "   'Type': 'Wall',\n",
       "   'name': 'Wall_SW_nonliving',\n",
       "   'structure': 'wood'}],\n",
       " 'Windows': [{'Area': 7.5625,\n",
       "   'Direction': 'SW',\n",
       "   'Space': 'Main',\n",
       "   'name': 'WindowSW_main',\n",
       "   'type': 'single'},\n",
       "  {'Area': 15.125,\n",
       "   'Direction': 'SW',\n",
       "   'Space': 'Other',\n",
       "   'name': 'WindowSW_other',\n",
       "   'type': 'single'},\n",
       "  {'Area': 7.5625,\n",
       "   'Direction': 'SW',\n",
       "   'Space': 'Nonliving',\n",
       "   'name': 'WindowSW_nonliving',\n",
       "   'type': 'single'},\n",
       "  {'Area': 0.7925,\n",
       "   'Direction': 'NW',\n",
       "   'Space': 'Main',\n",
       "   'name': 'WindowNW_main',\n",
       "   'type': 'single'},\n",
       "  {'Area': 1.585,\n",
       "   'Direction': 'NW',\n",
       "   'Space': 'Other',\n",
       "   'name': 'WindowNW_other',\n",
       "   'type': 'single'},\n",
       "  {'Area': 0.7925,\n",
       "   'Direction': 'NW',\n",
       "   'Space': 'Nonliving',\n",
       "   'name': 'WindowNW_nonliving',\n",
       "   'type': 'single'}]}"
      ]
     },
     "execution_count": 50,
     "metadata": {},
     "output_type": "execute_result"
    }
   ],
   "source": [
    "d = {\n",
    "    'Common': {'MainOccupantRoomFloorArea': 30.0, 'OtherOccupantRoomFloorArea': 60.0, 'Region': 6, 'TotalFloorArea': 120.0},\n",
    "    'Doors': [\n",
    "        {'Area': 0.63, 'Direction': 'NW', 'name': 'DoorNW_main', 'Space': 'Main'},\n",
    "        {'Area': 1.26, 'Direction': 'NW', 'name': 'DoorNW_other', 'Space': 'Other'},\n",
    "        {'Area': 0.63, 'Direction': 'NW', 'name': 'DoorNW_nonliving', 'Space': 'Nonliving'},\n",
    "        {'Area': 0.54, 'Direction': 'NE', 'name': 'DoorNE_main', 'Space': 'Main'},\n",
    "        {'Area': 1.08, 'Direction': 'NE', 'name': 'DoorNE_other', 'Space': 'Other'},\n",
    "        {'Area': 0.54, 'Direction': 'NE', 'name': 'DoorNE_nonliving', 'Space': 'Nonliving'}\n",
    "     ],\n",
    "    'EarthfloorPerimeters': [\n",
    "        {'Direction': 'NW', 'length': 2.43, 'name': 'other_NW', 'psi': 1.8, 'Space': 'Underfloor'},\n",
    "        {'Direction': 'NE', 'length': 2.43, 'name': 'other_NE', 'psi': 1.8, 'Space': 'Underfloor'}\n",
    "    ],\n",
    "    'EarthFloors': [\n",
    "        {'Area': 30.0, 'Name': 'Main', 'Space': 'Main'},\n",
    "        {'Area': 5.0, 'Name': 'Entrance', 'Space': 'Nonliving'}\n",
    "    ],\n",
    "    'Walls': [\n",
    "        {'Area': 16.95, 'Direction': 'top', 'name': 'Ceiling_main', 'Space': 'Main', 'structure': 'wood', 'Type': 'Ceiling'},\n",
    "        {'Area': 33.9, 'Direction': 'top', 'name': 'Ceiling_other', 'Space': 'Other', 'structure': 'wood', 'Type': 'Ceiling'},\n",
    "        {'Area': 16.95, 'Direction': 'top', 'name': 'Ceiling_nonliving', 'Space': 'Nonliving', 'structure': 'wood', 'Type': 'Ceiling'},\n",
    "        {'Area': 10.1575, 'Direction': 'SW', 'name': 'Wall_SW_main', 'Space': 'Main', 'structure': 'wood', 'Type': 'Wall'},\n",
    "        {'Area': 20.315, 'Direction': 'SW', 'name': 'Wall_SW_other', 'Space': 'Other', 'structure': 'wood', 'Type': 'Wall'},\n",
    "        {'Area': 10.1575, 'Direction': 'SW', 'name': 'Wall_SW_nonliving', 'Space': 'Nonliving', 'structure': 'wood', 'Type': 'Wall'}\n",
    "    ],\n",
    "    'Windows': [\n",
    "        {'Area': 7.5625, 'Direction': 'SW', 'name': 'WindowSW_main', 'Space': 'Main', 'type': 'single'},\n",
    "        {'Area': 15.125, 'Direction': 'SW', 'name': 'WindowSW_other', 'Space': 'Other', 'type': 'single'},\n",
    "        {'Area': 7.5625, 'Direction': 'SW', 'name': 'WindowSW_nonliving',  'Space': 'Nonliving', 'type': 'single'},\n",
    "        {'Area': 0.7925, 'Direction': 'NW', 'name': 'WindowNW_main', 'Space': 'Main', 'type': 'single'},\n",
    "        {'Area': 1.585, 'Direction': 'NW', 'name': 'WindowNW_other', 'Space': 'Other', 'type': 'single'},\n",
    "        {'Area': 0.7925, 'Direction': 'NW', 'name': 'WindowNW_nonliving', 'Space': 'Nonliving', 'type': 'single'}\n",
    "        ]\n",
    "}\n",
    "\n",
    "convert(d)"
   ]
  },
  {
   "cell_type": "code",
   "execution_count": null,
   "metadata": {
    "collapsed": true
   },
   "outputs": [],
   "source": []
  }
 ],
 "metadata": {
  "kernelspec": {
   "display_name": "Python 3",
   "language": "python",
   "name": "python3"
  },
  "language_info": {
   "codemirror_mode": {
    "name": "ipython",
    "version": 3
   },
   "file_extension": ".py",
   "mimetype": "text/x-python",
   "name": "python",
   "nbconvert_exporter": "python",
   "pygments_lexer": "ipython3",
   "version": "3.6.3"
  }
 },
 "nbformat": 4,
 "nbformat_minor": 2
}
