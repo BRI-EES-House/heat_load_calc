{
 "cells": [
  {
   "cell_type": "code",
   "execution_count": 1,
   "metadata": {
    "collapsed": true
   },
   "outputs": [],
   "source": [
    "import copy\n",
    "import math"
   ]
  },
  {
   "cell_type": "markdown",
   "metadata": {},
   "source": [
    "# 外皮情報LV3からLV4へのコンバート"
   ]
  },
  {
   "cell_type": "markdown",
   "metadata": {},
   "source": [
    "## Outline\n",
    "\n",
    "- 外皮性能計算プログラムに、外皮の用途別情報を追加したものより、内壁等（建物内部の壁、天井、床）の面積の推定および熱貫流率の決定を行う。\n",
    "- 外皮の用途別情報が入力された場合において床下空間に属する土間床等面積が0㎡より大きい場合、室と床下空間の間の床の面積の合計は、床下空間に属する土間床等面積の合計（ただし、室用途別の床面積と方位が「下面」の部位面積の差分の合計を上限とする）に等しいとみなす。室と床下空間の間の床は、室用途別の床面積と方位が「下面」の部位面積の差分に応じて、各用途に割り当てる。\n",
    "- 室と床下空間の間の床は、仕様を想定して与える（合板12mm、参考：SimHeatでの熱負荷計算用の無断熱の層構成）。\n",
    "- 内壁等の面積は、室の周長を求める際の係数（アスペクト比）と階高を仮定して、外皮の用途別情報および用途別床面積より推定する。主たる居室―非居室間、その他居室―非居室間は、それぞれ、各用途の床面積が0㎡より大きい場合は、居室と非居室は幅1m、高さ2m以上の通路等で繋がっていると想定する。\n",
    "- 内壁等の熱貫流率は一般的な仕様を想定して与える（石膏ボード12.5mm－空気層－石膏ボード12.5mm、参考：SimHeatでの熱負荷計算用の無断熱の層構成）。室内戸は考慮しない。\n",
    "- その他は、内壁の用途別情報が得られている場合と同様に求める。"
   ]
  },
  {
   "cell_type": "markdown",
   "metadata": {},
   "source": [
    "## 1. Common Element"
   ]
  },
  {
   "cell_type": "markdown",
   "metadata": {},
   "source": [
    "#### Outline"
   ]
  },
  {
   "cell_type": "markdown",
   "metadata": {},
   "source": [
    "'Common'要素はそのまま維持する。"
   ]
  },
  {
   "cell_type": "markdown",
   "metadata": {},
   "source": [
    "参照：InputDataDefinition.ipynb"
   ]
  },
  {
   "cell_type": "markdown",
   "metadata": {},
   "source": [
    "#### Function"
   ]
  },
  {
   "cell_type": "code",
   "execution_count": 2,
   "metadata": {
    "collapsed": true
   },
   "outputs": [],
   "source": [
    "def convert_common(d):\n",
    "    return d['Common']"
   ]
  },
  {
   "cell_type": "markdown",
   "metadata": {},
   "source": [
    "## 2. Walls Element"
   ]
  },
  {
   "cell_type": "markdown",
   "metadata": {},
   "source": [
    "#### Outline"
   ]
  },
  {
   "cell_type": "markdown",
   "metadata": {},
   "source": [
    "'Walls'要素はそのまま維持する。"
   ]
  },
  {
   "cell_type": "markdown",
   "metadata": {},
   "source": [
    "#### Function"
   ]
  },
  {
   "cell_type": "code",
   "execution_count": 3,
   "metadata": {
    "collapsed": true
   },
   "outputs": [],
   "source": [
    "def convert_wall(d):\n",
    "    return d['Walls']"
   ]
  },
  {
   "cell_type": "markdown",
   "metadata": {},
   "source": [
    "## 3. Windows Element"
   ]
  },
  {
   "cell_type": "markdown",
   "metadata": {},
   "source": [
    "#### Outline"
   ]
  },
  {
   "cell_type": "markdown",
   "metadata": {},
   "source": [
    "'Windows'要素はそのまま維持する。"
   ]
  },
  {
   "cell_type": "markdown",
   "metadata": {},
   "source": [
    "#### Function"
   ]
  },
  {
   "cell_type": "code",
   "execution_count": 4,
   "metadata": {
    "collapsed": true
   },
   "outputs": [],
   "source": [
    "def convert_window(d):\n",
    "    return d['Windows']"
   ]
  },
  {
   "cell_type": "markdown",
   "metadata": {},
   "source": [
    "## 4. Doors Element"
   ]
  },
  {
   "cell_type": "markdown",
   "metadata": {},
   "source": [
    "#### Outline"
   ]
  },
  {
   "cell_type": "markdown",
   "metadata": {},
   "source": [
    "'Doors'要素はそのまま維持する。"
   ]
  },
  {
   "cell_type": "markdown",
   "metadata": {},
   "source": [
    "#### Function"
   ]
  },
  {
   "cell_type": "code",
   "execution_count": 5,
   "metadata": {
    "collapsed": true
   },
   "outputs": [],
   "source": [
    "def convert_door(d):\n",
    "    return d['Doors']"
   ]
  },
  {
   "cell_type": "markdown",
   "metadata": {},
   "source": [
    "## 5. Heatbridges Element"
   ]
  },
  {
   "cell_type": "markdown",
   "metadata": {},
   "source": [
    "#### Outline"
   ]
  },
  {
   "cell_type": "markdown",
   "metadata": {},
   "source": [
    "'Heatbridges'要素はそのまま維持する。"
   ]
  },
  {
   "cell_type": "markdown",
   "metadata": {},
   "source": [
    "#### Function"
   ]
  },
  {
   "cell_type": "code",
   "execution_count": 6,
   "metadata": {
    "collapsed": true
   },
   "outputs": [],
   "source": [
    "def convert_heatbridge(d):\n",
    "    return d['Heatbridges']"
   ]
  },
  {
   "cell_type": "markdown",
   "metadata": {},
   "source": [
    "## 6. EarthfloorPerimeters Element"
   ]
  },
  {
   "cell_type": "markdown",
   "metadata": {},
   "source": [
    "#### Outline"
   ]
  },
  {
   "cell_type": "markdown",
   "metadata": {},
   "source": [
    "'EarthfloorPerimeters'要素はそのまま維持する。"
   ]
  },
  {
   "cell_type": "markdown",
   "metadata": {},
   "source": [
    "#### Function"
   ]
  },
  {
   "cell_type": "code",
   "execution_count": 7,
   "metadata": {
    "collapsed": true
   },
   "outputs": [],
   "source": [
    "def convert_earthfloorperimeter(d):\n",
    "    return d['EarthfloorPerimeters']"
   ]
  },
  {
   "cell_type": "markdown",
   "metadata": {},
   "source": [
    "## 7. Earthfloors Element"
   ]
  },
  {
   "cell_type": "markdown",
   "metadata": {},
   "source": [
    "#### Outline"
   ]
  },
  {
   "cell_type": "markdown",
   "metadata": {},
   "source": [
    "'Earthfloors'要素はそのまま維持する。"
   ]
  },
  {
   "cell_type": "markdown",
   "metadata": {},
   "source": [
    "#### Function"
   ]
  },
  {
   "cell_type": "code",
   "execution_count": 8,
   "metadata": {
    "collapsed": true
   },
   "outputs": [],
   "source": [
    "def convert_earthfloor(d):\n",
    "    return d['EarthFloors']"
   ]
  },
  {
   "cell_type": "markdown",
   "metadata": {},
   "source": [
    "## 8. InnerWalls Element"
   ]
  },
  {
   "cell_type": "markdown",
   "metadata": {},
   "source": [
    "## 8.1. 用途別床面積を取得する関数"
   ]
  },
  {
   "cell_type": "code",
   "execution_count": 9,
   "metadata": {
    "collapsed": true
   },
   "outputs": [],
   "source": [
    "def get_area_floor(d):\n",
    "    return d['Common']['MainOccupantRoomFloorArea'], \\\n",
    "           d['Common']['OtherOccupantRoomFloorArea'], \\\n",
    "           d['Common']['TotalFloorArea'] - d['Common']['MainOccupantRoomFloorArea'] - d['Common']['OtherOccupantRoomFloorArea']"
   ]
  },
  {
   "cell_type": "markdown",
   "metadata": {},
   "source": [
    "## 8.2. InnerWalls Element - Ground Floor "
   ]
  },
  {
   "cell_type": "markdown",
   "metadata": {},
   "source": [
    "### 1) 層構成"
   ]
  },
  {
   "cell_type": "markdown",
   "metadata": {},
   "source": [
    "#### Outline"
   ]
  },
  {
   "cell_type": "markdown",
   "metadata": {},
   "source": [
    "以下の層構成とする。"
   ]
  },
  {
   "cell_type": "markdown",
   "metadata": {},
   "source": [
    "| 材料 | 厚さ, m | 熱伝導率, W m<sup>-1</sup> K<sup>-1</sup> | 熱抵抗, m<sup>2</sup> k W<sup>-1</sup> | 容積比熱, J L<sup>-1</sup> K<sup>-1</sup> |\n",
    "|---|---|---|---|\n",
    "| 合板 | 0.012 | 0.16 | 0.075 | 720.0 |"
   ]
  },
  {
   "cell_type": "markdown",
   "metadata": {},
   "source": [
    "#### Function"
   ]
  },
  {
   "cell_type": "code",
   "execution_count": 10,
   "metadata": {
    "collapsed": true
   },
   "outputs": [],
   "source": [
    "def get_inner_floor_layers():\n",
    "    return [{'Name': 'PED', 'Cond': 0.16, 'Thick': 0.012, 'SpecH': 720.0}]"
   ]
  },
  {
   "cell_type": "markdown",
   "metadata": {},
   "source": [
    "### 2) 床下空間上の床面積の推定"
   ]
  },
  {
   "cell_type": "markdown",
   "metadata": {},
   "source": [
    "#### Outline"
   ]
  },
  {
   "cell_type": "markdown",
   "metadata": {},
   "source": [
    "$$\n",
    "\\displaystyle\n",
    "A_{f,MR}= A_f \\times \\frac{ A_{dif,MR} }{ A_{dif,MR} + A_{dif,OR} + A_{dif,NR} }\n",
    "$$\n",
    "\n",
    "$$\n",
    "\\displaystyle\n",
    "A_{f,OR}= A_f \\times \\frac{ A_{dif,OR} }{ A_{dif,MR} + A_{dif,OR} + A_{dif,NR} }\n",
    "$$\n",
    "\n",
    "$$\n",
    "\\displaystyle\n",
    "A_{f,NR}= A_f \\times \\frac{ A_{dif,NR} }{ A_{dif,MR} + A_{dif,OR} + A_{dif,NR} }\n",
    "$$"
   ]
  },
  {
   "cell_type": "markdown",
   "metadata": {},
   "source": [
    "$A_{f,MR}$: 主たる居室と床下空間の間の床の面積, m<sup>2</sup>  \n",
    "$A_{f,OR}$: その他の居室と床下空間の間の床の面積, m<sup>2</sup>  \n",
    "$A_{f,NR}$: 非居室と床下空間の間の床の面積, m<sup>2</sup>  \n",
    "$A_f$: 室と床下空間の間の床面積の合計, m<sup>2</sup>  \n",
    "$A_{dif,MR}$: 主たる居室において、方位が「下面」の部位の面積と土間床等の面積の合計と、床面積の差, m<sup>2</sup>  \n",
    "$A_{dif,OR}$: その他の居室において、方位が「下面」の部位の面積と土間床等の面積の合計と、床面積の差, m<sup>2</sup>  \n",
    "$A_{dif,NR}$: 非居室において、方位が「下面」の部位の面積と土間床等の面積の合計と、床面積の差, m<sup>2</sup>  "
   ]
  },
  {
   "cell_type": "markdown",
   "metadata": {},
   "source": [
    "$$\n",
    "\\displaystyle\n",
    "A_f= min(A_{dif,MR} + A_{dif,OR} + A_{dif,NR}, \\sum_{i}^{}A_{b,i})\n",
    "$$"
   ]
  },
  {
   "cell_type": "markdown",
   "metadata": {},
   "source": [
    "$A_{b,i}$: 床下空間に属する土間床等の部位$i$の面積, m<sup>2</sup>"
   ]
  },
  {
   "cell_type": "markdown",
   "metadata": {},
   "source": [
    "$$\n",
    "\\displaystyle\n",
    "A_{dif, MR} = max(0, A_{MR} - \\sum_i A_{of,MR,i} - \\sum_i A_{ef,MR,i})\n",
    "$$\n",
    "\n",
    "$$\n",
    "\\displaystyle\n",
    "A_{dif, OR} = max(0, A_{OR} - \\sum_i A_{of,OR,i} - \\sum_i A_{ef,OR,i})\n",
    "$$\n",
    "\n",
    "$$\n",
    "\\displaystyle\n",
    "A_{dif, NR} = max(0, A_{NR} - \\sum_i A_{of,NR,i} - \\sum_i A_{ef,NR,i})\n",
    "$$"
   ]
  },
  {
   "cell_type": "markdown",
   "metadata": {},
   "source": [
    "$A_{MR}$: 主たる居室の床面積, m<sup>2</sup>  \n",
    "$A_{OR}$: その他の居室の床面積, m<sup>2</sup>  \n",
    "$A_{NR}$: 非居室の床面積, m<sup>2</sup>   \n",
    "$A_{of,MR,i}$: 方位が「下面」である主たる居室の外皮の部位(一般部位又は開口部)$i$の面積, m<sup>2</sup>  \n",
    "$A_{of,OR,i}$: 方位が「下面」であるその他の居室の外皮の部位(一般部位又は開口部)$i$の面積, m<sup>2</sup>  \n",
    "$A_{of,NR,i}$: 方位が「下面」である非居室の外皮の部位(一般部位又は開口部)$i$の面積, m<sup>2</sup>  \n",
    "$A_{ef,MR,i}$: 主たる居室の土間床$i$の面積, m<sup>2</sup>  \n",
    "$A_{ef,OR,i}$: その他の居室の土間床$i$の面積, m<sup>2</sup>  \n",
    "$A_{ef,NR,i}$: 非居室の土間床$i$の面積, m<sup>2</sup>  "
   ]
  },
  {
   "cell_type": "markdown",
   "metadata": {},
   "source": [
    "#### Function"
   ]
  },
  {
   "cell_type": "code",
   "execution_count": 11,
   "metadata": {
    "collapsed": true
   },
   "outputs": [],
   "source": [
    "def get_area_floor_over_underfloor(d):\n",
    "    \n",
    "    # 居室の方位が「下面」である外皮の部位と土間床等の面積の合計\n",
    "    def get_A_of(d, s):\n",
    "        # s : space name\n",
    "        return sum( y['Area'] for y in d['Walls'] + d['Windows'] + d['Doors'] if y['Space'] == s and y['Direction'] == 'Bottom' ) \\\n",
    "                + sum( y['Area'] for y in d['EarthFloors'] if ('EarthFloors' in d ) == True and y['Space'] == s )\n",
    "    \n",
    "    # 床下空間に属する土間床等の面積の取得\n",
    "    def get_A_b(d):\n",
    "        return sum(earthfloor['Area'] for earthfloor in d['EarthFloors'] if earthfloor['Space'] == 'underfloor')\n",
    "    \n",
    "    # 用途別床面積の取得\n",
    "    A_MR, A_OR, A_NR = get_area_floor(d)\n",
    "    \n",
    "    # 下面（direction:Bottom）の壁・窓・ドア面積と土間床等の面積の合計値の取得\n",
    "    A_of_MR, A_of_OR, A_of_NR = get_A_of(d, 'Main'), get_A_of(d, 'Other'), get_A_of(d, 'Nonliving')\n",
    "    \n",
    "    # 方位が「下面」の部位の面積と土間床等の面積の合計値と、床面積の差\n",
    "    A_dif_MR, A_dif_OR, A_dif_NR = max(0.0, A_MR - A_of_MR), max(0.0, A_OR - A_of_OR), max(0.0, A_NR - A_of_NR)\n",
    "\n",
    "    A_dif = A_dif_MR + A_dif_OR + A_dif_NR\n",
    "\n",
    "    # 床下空間に属する土間床等の面積の取得\n",
    "    A_b = get_A_b(d)\n",
    "\n",
    "    #  室と床下空間の間の床面積の推定\n",
    "    A_f = min(A_dif, A_b)\n",
    "\n",
    "    # 居室と床下空間との間の床の面積\n",
    "    A_f_MR, A_f_OR, A_f_NR = A_f * A_dif_MR / A_dif, A_f * A_dif_OR / A_dif, A_f * A_dif_NR / A_dif\n",
    "   \n",
    "    return {\n",
    "        'Main' : A_f_MR,\n",
    "        'Other' : A_f_OR,\n",
    "        'Nonliving' : A_f_NR\n",
    "    }"
   ]
  },
  {
   "cell_type": "markdown",
   "metadata": {},
   "source": [
    "#### Example"
   ]
  },
  {
   "cell_type": "code",
   "execution_count": 12,
   "metadata": {},
   "outputs": [
    {
     "data": {
      "text/plain": [
       "{'Main': 0.0, 'Nonliving': 0.0, 'Other': 0.0}"
      ]
     },
     "execution_count": 12,
     "metadata": {},
     "output_type": "execute_result"
    }
   ],
   "source": [
    "d = {\n",
    "    'Common': {\n",
    "        'Region': 6,\n",
    "        'MainOccupantRoomFloorArea': 30.0,\n",
    "        'OtherOccupantRoomFloorArea': 60.0,\n",
    "        'TotalFloorArea': 120.0\n",
    "    },\n",
    "    'Walls': [\n",
    "        { 'Area': 60, 'Direction': 'Top', 'name': 'Ceiling', 'Space': 'Main', 'structure': 'wood', 'Type': 'Ceiling' },\n",
    "        { 'Area': 15, 'Direction': 'Bottom', 'name': 'Floor', 'Space': 'Other', 'structure': 'wood', 'Type': 'Floor' },\n",
    "    ],\n",
    "    'Windows': [\n",
    "        { 'Area': 30, 'Direction': 'SW', 'name': 'WindowSW', 'Space': 'Main', 'type': 'single' },\n",
    "        { 'Area': 75, 'Direction': 'Bottom', 'name': 'WindowBottom', 'Space': 'Main', 'type': 'single' },\n",
    "    ],\n",
    "    'Doors': [\n",
    "        { 'Area': 15, 'Direction': 'NW', 'name': 'DoorNW', 'Space': 'Nonliving' },\n",
    "        { 'Area': 15, 'Direction': 'NE', 'name': 'DoorNE', 'Space': 'Other' }\n",
    "    ],\n",
    "    'EarthFloors': [\n",
    "        { 'Area': 5, 'name': 'other', 'Space': 'Underfloor' },\n",
    "        { 'Area': 5, 'name': 'entrance', 'Space': 'Underfloor' }\n",
    "    ]\n",
    "}\n",
    "\n",
    "get_area_floor_over_underfloor(d)"
   ]
  },
  {
   "cell_type": "markdown",
   "metadata": {},
   "source": [
    "### 3) 室と床下空間の間の床の構築"
   ]
  },
  {
   "cell_type": "markdown",
   "metadata": {},
   "source": [
    "#### Function"
   ]
  },
  {
   "cell_type": "code",
   "execution_count": 13,
   "metadata": {
    "collapsed": true
   },
   "outputs": [],
   "source": [
    "def get_innerwall_groundfloor(d):\n",
    "    \n",
    "    # 室と床下空間の間の床面積の推定\n",
    "    areas_innerfloor = get_area_floor_over_underfloor(d)\n",
    "    \n",
    "    # 壁体名称、部位面積を更新し、「壁体が属する空間種類」「隣接空間種類」を追加する\n",
    "    ifs = []\n",
    "    \n",
    "    ifs.extend([ {\n",
    "        'Name' : 'GroundFloor_' + space,\n",
    "        'Type' : 'GroundFloor',\n",
    "        'Direction' : 'Horizontal',\n",
    "        'Area' : areas_innerfloor[space],\n",
    "        'Layers' : get_inner_floor_layers(),\n",
    "        'Spaces' : [space,'Underfloor'],\n",
    "    } for space in ['Main', 'Other', 'Nonliving'] ])\n",
    "        \n",
    "    return ifs"
   ]
  },
  {
   "cell_type": "markdown",
   "metadata": {},
   "source": [
    "## 8.3. InnerWalls Element - Inner Floor"
   ]
  },
  {
   "cell_type": "markdown",
   "metadata": {},
   "source": [
    "### 1) 層構成"
   ]
  },
  {
   "cell_type": "markdown",
   "metadata": {},
   "source": [
    "#### Outline"
   ]
  },
  {
   "cell_type": "markdown",
   "metadata": {},
   "source": [
    "以下の層構成とする。"
   ]
  },
  {
   "cell_type": "markdown",
   "metadata": {},
   "source": [
    "| 材料 | 厚さ, m | 熱伝導率, W m<sup>-1</sup> K<sup>-1</sup> | 熱抵抗, m<sup>2</sup> k W<sup>-1</sup> | 容積比熱, J L<sup>-1</sup> K<sup>-1</sup> |\n",
    "|---|---|---|---|\n",
    "| 合板 | 0.012 | 0.16 | 0.075 | 720.0 |"
   ]
  },
  {
   "cell_type": "markdown",
   "metadata": {},
   "source": [
    "#### Function"
   ]
  },
  {
   "cell_type": "code",
   "execution_count": 14,
   "metadata": {
    "collapsed": true
   },
   "outputs": [],
   "source": [
    "def get_inner_floor_layers():\n",
    "    return [{'Name': 'PED', 'Cond': 0.16, 'Thick': 0.012, 'SpecH': 720.0}]"
   ]
  },
  {
   "cell_type": "markdown",
   "metadata": {},
   "source": [
    "### 2) 室上の床面積の推定"
   ]
  },
  {
   "cell_type": "markdown",
   "metadata": {},
   "source": [
    "#### Outline"
   ]
  },
  {
   "cell_type": "markdown",
   "metadata": {},
   "source": [
    "$$\n",
    "\\displaystyle\n",
    "A_{if,MR}= \\max \\left(0, A_{MR} -  \\left(A_{gf,MR} + \\sum_i A_{of,MR,i} + \\sum_i A_{ef,MR,i} \\right)\\right)\n",
    "$$\n",
    "\n",
    "$$\n",
    "\\displaystyle\n",
    "A_{if,OR}= \\max \\left(0, A_{OR} -  \\left(A_{gf,OR} + \\sum_i A_{of,OR,i} + \\sum_i A_{ef,OR,i} \\right)\\right)\n",
    "$$\n",
    "\n",
    "$$\n",
    "\\displaystyle\n",
    "A_{if,NR}= \\max \\left(0, A_{NR} -  \\left(A_{gf,NR} + \\sum_i A_{of,NR,i} + \\sum_i A_{ef,NR,i} \\right)\\right)\n",
    "$$"
   ]
  },
  {
   "cell_type": "markdown",
   "metadata": {},
   "source": [
    "$A_{if,MR}$: その他の居室または非居室との間の、主たる居室の床の面積, m<sup>2</sup>  \n",
    "$A_{if,OR}$: 主たる居室または非居室との間の、その他の居室の床の面積, m<sup>2</sup>  \n",
    "$A_{if,NR}$: 主たる居室またはその他の居室との間の、非居室の床の面積, m<sup>2</sup>  \n",
    "$A_{MR}$: 主たる居室の床面積, m<sup>2</sup>  \n",
    "$A_{OR}$: その他の居室の床面積, m<sup>2</sup>  \n",
    "$A_{NR}$: 非居室の床面積, m<sup>2</sup>   \n",
    "$A_{gf,MR}$: 主たる居室と床下空間の間の床の面積, m<sup>2</sup>  \n",
    "$A_{gf,OR}$: その他の居室と床下空間の間の床の面積, m<sup>2</sup>  \n",
    "$A_{gf,NR}$: 非居室と床下空間の間の床の面積, m<sup>2</sup>  \n",
    "$A_{of,MR,i}$: 方位が「下面」である主たる居室の外皮の部位(一般部位又は開口部)$i$の面積, m<sup>2</sup>  \n",
    "$A_{of,OR,i}$: 方位が「下面」であるその他の居室の外皮の部位(一般部位又は開口部)$i$の面積, m<sup>2</sup>  \n",
    "$A_{of,NR,i}$: 方位が「下面」である非居室の外皮の部位(一般部位又は開口部)$i$の面積, m<sup>2</sup>  \n",
    "$A_{ef,MR,i}$: 主たる居室の土間床$i$の面積, m<sup>2</sup>  \n",
    "$A_{ef,OR,i}$: その他の居室の土間床$i$の面積, m<sup>2</sup>  \n",
    "$A_{ef,NR,i}$: 非居室の土間床$i$の面積, m<sup>2</sup>   "
   ]
  },
  {
   "cell_type": "markdown",
   "metadata": {},
   "source": [
    "#### Function"
   ]
  },
  {
   "cell_type": "code",
   "execution_count": 15,
   "metadata": {},
   "outputs": [],
   "source": [
    "def get_area_floor_over_room(d, innerwalls):\n",
    "    \n",
    "    # 床下空間上の床と、方位が「下面」である外皮の部位と、土間床等の面積の合計\n",
    "    def get_A_f(d, s):\n",
    "        # s : space name\n",
    "        return sum( y['Area'] for y in innerwalls if (y['Type'] == 'GroundFloor'and y['Spaces'] == [s,'Underfloor'])) \\\n",
    "               + sum( y['Area'] for y in d['Walls'] + d['Windows'] + d['Doors'] if y['Space'] == s and y['Direction'] == 'Bottom' ) \\\n",
    "               + sum( y['Area'] for y in d['EarthFloors'] if ('EarthFloors' in d ) == True and y['Space'] == s )\n",
    "    \n",
    "    # 用途別床面積の取得\n",
    "    A_MR, A_OR, A_NR = get_area_floor(d)\n",
    "    \n",
    "    # 床下空間上の床面積と下面（Direction:Bottom）の壁・窓・ドア面積と土間床等の面積の合計値の取得\n",
    "    A_f_MR, A_f_OR, A_f_NR = get_A_f(d, 'Main'), get_A_f(d, 'Other'), get_A_f(d, 'Nonliving')\n",
    "    \n",
    "    # 床下空間上の床面積と方位が「下面」の部位の面積と土間床等の面積の合計値と、床面積の差を、室上の床面積とみなす。\n",
    "    A_if_MR, A_if_OR, A_if_NR = max(0.0, A_MR - A_f_MR), max(0.0, A_OR - A_f_OR), max(0.0, A_NR - A_f_NR)\n",
    "    \n",
    "    return {'Main': A_if_MR, 'Other': A_if_OR, 'Nonliving': A_if_NR}"
   ]
  },
  {
   "cell_type": "markdown",
   "metadata": {},
   "source": [
    "#### Example"
   ]
  },
  {
   "cell_type": "code",
   "execution_count": 16,
   "metadata": {},
   "outputs": [
    {
     "data": {
      "text/plain": [
       "{'Main': 0.0, 'Nonliving': 30.0, 'Other': 30.0}"
      ]
     },
     "execution_count": 16,
     "metadata": {},
     "output_type": "execute_result"
    }
   ],
   "source": [
    "d = {\n",
    "    'Common': {\n",
    "        'Region': 6,\n",
    "        'MainOccupantRoomFloorArea': 30.0,\n",
    "        'OtherOccupantRoomFloorArea': 60.0,\n",
    "        'TotalFloorArea': 120.0\n",
    "    },\n",
    "    'Walls': [\n",
    "        { 'Area': 60, 'Direction': 'Top', 'name': 'Ceiling', 'Space': 'Main', 'structure': 'wood', 'type': 'Ceiling' },\n",
    "        { 'Area': 15, 'Direction': 'Bottom', 'name': 'Floor', 'Space': 'Other', 'structure': 'wood', 'type': 'Floor' },\n",
    "    ],\n",
    "    'Windows': [\n",
    "        { 'Area': 30, 'Direction': 'SW', 'name': 'WindowSW', 'Space': 'Main', 'type': 'single' },\n",
    "        { 'Area': 75, 'Direction': 'Bottom', 'name': 'WindowBottom', 'Space': 'Main', 'type': 'single' },\n",
    "    ],\n",
    "    'Doors': [\n",
    "        { 'Area': 15, 'Direction': 'NW', 'name': 'DoorNW', 'Space': 'Nonliving' },\n",
    "        { 'Area': 15, 'Direction': 'NE', 'name': 'DoorNE', 'Space': 'Other' }\n",
    "    ],\n",
    "    'EarthFloors': [\n",
    "        { 'Area': 5, 'name': 'other', 'Space': 'Underfloor' },\n",
    "        { 'Area': 5, 'name': 'entrance', 'Space': 'Underfloor' }\n",
    "    ]\n",
    "}\n",
    "\n",
    "innerwalls = [\n",
    "        { 'Area': 60, 'Name': 'GroundFloor_Main', 'Type' : 'GroundFloor', 'Spaces': ['Main','Underfloor'], 'Direction' : 'Horizontal', 'Layers' : get_inner_floor_layers()},\n",
    "        { 'Area': 15, 'Name': 'GroundFloor_Other', 'Type' : 'GroundFloor', 'Spaces': ['Other','Underfloor'], 'Direction' : 'Horizontal', 'Layers' : get_inner_floor_layers()},\n",
    "]\n",
    "\n",
    "get_area_floor_over_room(d, innerwalls)"
   ]
  },
  {
   "cell_type": "markdown",
   "metadata": {},
   "source": [
    "### 3) 室下の天井面積の推定"
   ]
  },
  {
   "cell_type": "markdown",
   "metadata": {},
   "source": [
    "#### Outline"
   ]
  },
  {
   "cell_type": "markdown",
   "metadata": {},
   "source": [
    "$$\n",
    "\\displaystyle\n",
    "A_{ic,MR}= \\max \\left(0, A_{MR} -  \\sum_i A_{oc,MR,i} \\right)\n",
    "$$\n",
    "\n",
    "$$\n",
    "\\displaystyle\n",
    "A_{ic,OR}= \\max \\left(0, A_{OR} -  \\sum_i A_{oc,OR,i} \\right)\n",
    "$$\n",
    "\n",
    "$$\n",
    "\\displaystyle\n",
    "A_{ic,NR}= \\max \\left(0, A_{NR} -  \\sum_i A_{oc,NR,i} \\right)\n",
    "$$"
   ]
  },
  {
   "cell_type": "markdown",
   "metadata": {},
   "source": [
    "$A_{ic,MR}$: その他の居室または非居室との間の、主たる居室の天井の面積, m<sup>2</sup>  \n",
    "$A_{ic,OR}$: 主たる居室または非居室との間の、その他の居室の天井の面積, m<sup>2</sup>  \n",
    "$A_{ic,NR}$: 主たる居室またはその他の居室との間の、非居室の天井の面積, m<sup>2</sup>  \n",
    "$A_{MR}$: 主たる居室の床面積, m<sup>2</sup>  \n",
    "$A_{OR}$: その他の居室の床面積, m<sup>2</sup>  \n",
    "$A_{NR}$: 非居室の床面積, m<sup>2</sup>   \n",
    "$A_{oc,MR,i}$: 方位が「上面」である主たる居室の外皮の部位(一般部位又は開口部)$i$の面積, m<sup>2</sup>  \n",
    "$A_{oc,OR,i}$: 方位が「上面」であるその他の居室の外皮の部位(一般部位又は開口部)$i$の面積, m<sup>2</sup>  \n",
    "$A_{oc,NR,i}$: 方位が「上面」である非居室の外皮の部位(一般部位又は開口部)$i$の面積, m<sup>2</sup>  "
   ]
  },
  {
   "cell_type": "markdown",
   "metadata": {},
   "source": [
    "#### Function"
   ]
  },
  {
   "cell_type": "code",
   "execution_count": 17,
   "metadata": {},
   "outputs": [],
   "source": [
    "def get_area_ceiling_below_room(d):\n",
    "    \n",
    "    # 方位が「上面」である外皮の部位の面積の合計\n",
    "    def get_A_of(d, s):\n",
    "        # s : space name\n",
    "        return sum( y['Area'] for y in d['Walls'] + d['Windows'] + d['Doors'] if y['Space'] == s and y['Direction'] == 'Top' )\n",
    "    \n",
    "    # 用途別床面積の取得\n",
    "    A_MR, A_OR, A_NR = get_area_floor(d)\n",
    "    \n",
    "    # 上面（Direction:Top）の壁・窓・ドア面積の合計値の取得\n",
    "    A_oc_MR, A_oc_OR, A_oc_NR = get_A_of(d, 'Main'), get_A_of(d, 'Other'), get_A_of(d, 'Nonliving')\n",
    "    \n",
    "    # 方位が「上面」の部位の面積の合計値と、床面積の差\n",
    "    A_ic_MR, A_ic_OR, A_ic_NR = max(0.0, A_MR - A_oc_MR), max(0.0, A_OR - A_oc_OR), max(0.0, A_NR - A_oc_NR)\n",
    "   \n",
    "    return {'Main': A_ic_MR, 'Other': A_ic_OR, 'Nonliving': A_ic_NR}"
   ]
  },
  {
   "cell_type": "markdown",
   "metadata": {},
   "source": [
    "#### Example"
   ]
  },
  {
   "cell_type": "code",
   "execution_count": 18,
   "metadata": {},
   "outputs": [
    {
     "data": {
      "text/plain": [
       "{'Main': 30.0, 'Nonliving': 30.0, 'Other': 0.0}"
      ]
     },
     "execution_count": 18,
     "metadata": {},
     "output_type": "execute_result"
    }
   ],
   "source": [
    "d = {\n",
    "    'Common': {\n",
    "        'Region': 6,\n",
    "        'MainOccupantRoomFloorArea': 30.0,\n",
    "        'OtherOccupantRoomFloorArea': 60.0,\n",
    "        'TotalFloorArea': 120.0\n",
    "    },\n",
    "    'Walls': [\n",
    "        { 'Area': 60, 'Direction': 'Top', 'name': 'Ceiling', 'Space': 'Other', 'structure': 'wood', 'Type': 'Ceiling' },\n",
    "        { 'Area': 15, 'Direction': 'Bottom', 'name': 'Floor', 'Space': 'Other', 'structure': 'wood', 'Type': 'Floor' },\n",
    "    ],\n",
    "    'Windows': [\n",
    "        { 'Area': 30, 'Direction': 'SW', 'name': 'WindowSW', 'Space': 'Main', 'type': 'single' },\n",
    "        { 'Area': 75, 'Direction': 'Bottom', 'name': 'WindowBottom', 'Space': 'Main', 'type': 'single' },\n",
    "    ],\n",
    "    'Doors': [\n",
    "        { 'Area': 15, 'Direction': 'NW', 'name': 'DoorNW', 'Space': 'Nonliving' },\n",
    "        { 'Area': 15, 'Direction': 'NE', 'name': 'DoorNE', 'Space': 'Other' }\n",
    "    ],\n",
    "    'EarthFloors': [\n",
    "        { 'Area': 5, 'name': 'other', 'Space': 'Underfloor' },\n",
    "        { 'Area': 5, 'name': 'entrance', 'Space': 'Underfloor' }\n",
    "    ]\n",
    "}\n",
    "\n",
    "get_area_ceiling_below_room(d)"
   ]
  },
  {
   "cell_type": "markdown",
   "metadata": {},
   "source": [
    "### 4) 室間の床と天井の面積の推定"
   ]
  },
  {
   "cell_type": "markdown",
   "metadata": {},
   "source": [
    "#### Outline"
   ]
  },
  {
   "cell_type": "markdown",
   "metadata": {},
   "source": [
    "$$\n",
    "\\displaystyle\n",
    "A_{if,MR,OR} = \\left \\{\n",
    "\\begin{array}{ll}\n",
    "0 & ( A_{ic,OR} = 0 ) \\\\\n",
    "\\frac{A_{ic,OR}}{A_{ic,OR}+A_{ic,NR}} \\times A_{if,MR} & ( A_{ic,OR} > 0 ) \\\\\n",
    "\\end{array}\n",
    "\\right.\n",
    "$$\n",
    "$$\n",
    "\\displaystyle\n",
    "A_{if,MR,NR} = \\left \\{\n",
    "\\begin{array}{ll}\n",
    "0 & ( A_{ic,NR} = 0 ) \\\\\n",
    "\\frac{A_{ic,NR}}{A_{ic,OR}+A_{ic,NR}} \\times A_{if,MR} & ( A_{ic,NR} > 0 ) \\\\\n",
    "\\end{array}\n",
    "\\right.\n",
    "$$\n",
    "\n",
    "$$\n",
    "\\displaystyle\n",
    "A_{if,OR,MR} = \\left \\{\n",
    "\\begin{array}{ll}\n",
    "0 & ( A_{ic,MR} = 0 ) \\\\\n",
    "\\frac{A_{ic,MR}}{A_{ic,MR}+A_{ic,NR}} \\times A_{if,OR} & ( A_{ic,MR} > 0 ) \\\\\n",
    "\\end{array}\n",
    "\\right.\n",
    "$$\n",
    "$$\n",
    "\\displaystyle\n",
    "A_{if,OR,NR} = \\left \\{\n",
    "\\begin{array}{ll}\n",
    "0 & ( A_{ic,NR} = 0 ) \\\\\n",
    "\\frac{A_{ic,NR}}{A_{ic,MR}+A_{ic,NR}} \\times A_{if,OR} & ( A_{ic,NR} > 0 ) \\\\\n",
    "\\end{array}\n",
    "\\right.\n",
    "$$\n",
    "\n",
    "$$\n",
    "\\displaystyle\n",
    "A_{if,NR,MR} = \\left \\{\n",
    "\\begin{array}{ll}\n",
    "0 & ( A_{ic,MR} = 0 ) \\\\\n",
    "\\frac{A_{ic,MR}}{A_{ic,MR}+A_{ic,OR}} \\times A_{if,NR} & ( A_{ic,MR} > 0 ) \\\\\n",
    "\\end{array}\n",
    "\\right.\n",
    "$$\n",
    "$$\n",
    "\\displaystyle\n",
    "A_{if,NR,OR} = \\left \\{\n",
    "\\begin{array}{ll}\n",
    "0 & ( A_{ic,OR} = 0 ) \\\\\n",
    "\\frac{A_{ic,OR}}{A_{ic,MR}+A_{ic,OR}} \\times A_{if,NR} & ( A_{ic,OR} > 0 ) \\\\\n",
    "\\end{array}\n",
    "\\right.\n",
    "$$"
   ]
  },
  {
   "cell_type": "markdown",
   "metadata": {},
   "source": [
    "$A_{if,MR,OR}$: その他の居室との間の、主たる居室の床の面積, m<sup>2</sup>  \n",
    "$A_{if,MR,NR}$: 非居室との間の、主たる居室の床の面積, m<sup>2</sup>  \n",
    "$A_{if,OR,MR}$: 主たる居室との間の、その他の居室の床の面積, m<sup>2</sup>  \n",
    "$A_{if,OR,NR}$: 非居室との間の、その他の居室の床の面積, m<sup>2</sup>  \n",
    "$A_{if,NR,MR}$: 主たる居室との間の、非居室の床の面積, m<sup>2</sup>  \n",
    "$A_{if,NR,OR}$: その他の居室との間の、非居室の床の面積, m<sup>2</sup>  \n",
    "$A_{ic,MR}$: その他の居室または非居室との間の、主たる居室の天井の面積, m<sup>2</sup>  \n",
    "$A_{ic,OR}$: 主たる居室または非居室との間の、その他の居室の天井の面積, m<sup>2</sup>  \n",
    "$A_{ic,NR}$: 主たる居室またはその他の居室との間の、非居室の天井の面積, m<sup>2</sup>  \n",
    "$A_{if,MR}$: その他の居室または非居室との間の、主たる居室の床の面積, m<sup>2</sup>  \n",
    "$A_{if,OR}$: 主たる居室または非居室との間の、その他の居室の床の面積, m<sup>2</sup>  \n",
    "$A_{if,NR}$: 主たる居室またはその他の居室との、間の非居室の床の面積, m<sup>2</sup>  "
   ]
  },
  {
   "cell_type": "markdown",
   "metadata": {},
   "source": [
    "$$\n",
    "\\displaystyle\n",
    "A_{ic,MR,OR} = \\left \\{\n",
    "\\begin{array}{ll}\n",
    "0 & ( A_{if,OR} = 0 ) \\\\\n",
    "\\frac{A_{if,OR}}{A_{if,OR}+A_{if,NR}} \\times A_{ic,MR} & ( A_{if,OR} > 0 ) \\\\\n",
    "\\end{array}\n",
    "\\right.\n",
    "$$\n",
    "$$\n",
    "\\displaystyle\n",
    "A_{ic,MR,NR} = \\left \\{\n",
    "\\begin{array}{ll}\n",
    "0 & ( A_{if,NR} = 0 ) \\\\\n",
    "\\frac{A_{if,NR}}{A_{if,OR}+A_{if,NR}} \\times A_{ic,MR} & ( A_{if,NR} > 0 ) \\\\\n",
    "\\end{array}\n",
    "\\right.\n",
    "$$\n",
    "\n",
    "$$\n",
    "\\displaystyle\n",
    "A_{ic,OR,MR} = \\left \\{\n",
    "\\begin{array}{ll}\n",
    "0 & ( A_{if,MR} = 0 ) \\\\\n",
    "\\frac{A_{if,MR}}{A_{if,MR}+A_{if,NR}} \\times A_{ic,OR} & ( A_{if,MR} > 0 ) \\\\\n",
    "\\end{array}\n",
    "\\right.\n",
    "$$\n",
    "$$\n",
    "\\displaystyle\n",
    "A_{ic,OR,NR} = \\left \\{\n",
    "\\begin{array}{ll}\n",
    "0 & ( A_{if,NR} = 0 ) \\\\\n",
    "\\frac{A_{if,NR}}{A_{if,MR}+A_{if,NR}} \\times A_{ic,OR} & ( A_{if,NR} > 0 ) \\\\\n",
    "\\end{array}\n",
    "\\right.\n",
    "$$\n",
    "\n",
    "$$\n",
    "\\displaystyle\n",
    "A_{ic,NR,MR} = \\left \\{\n",
    "\\begin{array}{ll}\n",
    "0 & ( A_{if,MR} = 0 ) \\\\\n",
    "\\frac{A_{if,MR}}{A_{if,MR}+A_{if,OR}} \\times A_{ic,NR} & ( A_{if,MR} > 0 ) \\\\\n",
    "\\end{array}\n",
    "\\right.\n",
    "$$\n",
    "$$\n",
    "\\displaystyle\n",
    "A_{ic,NR,OR} = \\left \\{\n",
    "\\begin{array}{ll}\n",
    "0 & ( A_{if,OR} = 0 ) \\\\\n",
    "\\frac{A_{if,OR}}{A_{if,MR}+A_{if,OR}} \\times A_{ic,NR} & ( A_{if,OR} > 0 ) \\\\\n",
    "\\end{array}\n",
    "\\right.\n",
    "$$"
   ]
  },
  {
   "cell_type": "markdown",
   "metadata": {},
   "source": [
    "$A_{ic,MR,OR}$: その他の居室との間の、主たる居室の天井の面積, m<sup>2</sup>  \n",
    "$A_{ic,MR,NR}$: 非居室との間の、主たる居室の天井の面積, m<sup>2</sup>  \n",
    "$A_{ic,OR,MR}$: 主たる居室との間の、その他の居室の天井の面積, m<sup>2</sup>  \n",
    "$A_{ic,OR,NR}$: 非居室との間の、その他の居室の天井の面積, m<sup>2</sup>  \n",
    "$A_{ic,NR,MR}$: 主たる居室との間の、非居室の天井の面積, m<sup>2</sup>  \n",
    "$A_{ic,NR,OR}$: その他の居室との間の、非居室の天井の面積, m<sup>2</sup>  \n",
    "$A_{if,MR}$: その他の居室または非居室との間の、主たる居室の床の面積, m<sup>2</sup>  \n",
    "$A_{if,OR}$: 主たる居室または非居室との間の、その他の居室の床の面積, m<sup>2</sup>  \n",
    "$A_{if,NR}$: 主たる居室またはその他の居室との、間の非居室の床の面積, m<sup>2</sup>  \n",
    "$A_{ic,MR}$: その他の居室または非居室との間の、主たる居室の天井の面積, m<sup>2</sup>  \n",
    "$A_{ic,OR}$: 主たる居室または非居室との間の、その他の居室の天井の面積, m<sup>2</sup>  \n",
    "$A_{ic,NR}$: 主たる居室またはその他の居室との間の、非居室の天井の面積, m<sup>2</sup>  "
   ]
  },
  {
   "cell_type": "markdown",
   "metadata": {},
   "source": [
    "#### Function"
   ]
  },
  {
   "cell_type": "code",
   "execution_count": 19,
   "metadata": {},
   "outputs": [],
   "source": [
    "def get_area_slab_between_rooms(d, innerwalls):\n",
    "    \n",
    "    space = ['Main', 'Other', 'Nonliving']   \n",
    "    # 室上の床面積の取得\n",
    "    A_if =  get_area_floor_over_room(d, innerwalls)\n",
    "    \n",
    "    # 室下の天井面積の取得\n",
    "    A_ic =  get_area_ceiling_below_room(d)\n",
    "\n",
    "    # 室上の床面積を、他の用途の室下の天井面積で案分する。\n",
    "    A_innerfloor = []\n",
    "    for x in space :\n",
    "        space1 = copy.deepcopy(space)\n",
    "        space1.remove(x)\n",
    "        for y in space1 :\n",
    "            space2 = copy.deepcopy(space1)\n",
    "            space2.remove(y)\n",
    "            A_innerfloor.extend([\n",
    "                {\n",
    "                    'Name' : 'InnerFloor' + x + y,\n",
    "                    'Area' : 0 if A_ic[y] == 0 else A_if[x] * A_ic[y] / (A_ic[y] + A_ic[space2[0]]),\n",
    "                    'Space' : x,\n",
    "                    'NextSpace' : y\n",
    "                }\n",
    "            ])\n",
    "\n",
    "    # 室下の天井面積を、他の用途の室下上の床面積で案分する。\n",
    "    A_innerceiling = []\n",
    "    for x in space :\n",
    "        space1 = copy.deepcopy(space)\n",
    "        space1.remove(x)\n",
    "        for y in space1 :\n",
    "            space2 = copy.deepcopy(space1)\n",
    "            space2.remove(y)\n",
    "            A_innerceiling.extend([\n",
    "                {\n",
    "                    'Name' : 'InnerCeiling' + x + y,\n",
    "                    'Area' : 0 if A_if[y] == 0 else A_ic[x] * A_if[y] / (A_if[y] + A_if[space2[0]]),\n",
    "                    'Space' : x,\n",
    "                    'NextSpace' : y\n",
    "                }\n",
    "            ])\n",
    "  \n",
    "    return {'InnerFloors' : A_innerfloor, 'InnerCeilings' : A_innerceiling}"
   ]
  },
  {
   "cell_type": "markdown",
   "metadata": {},
   "source": [
    "#### Example"
   ]
  },
  {
   "cell_type": "code",
   "execution_count": 20,
   "metadata": {},
   "outputs": [
    {
     "data": {
      "text/plain": [
       "{'InnerCeilings': [{'Area': 15.0,\n",
       "   'Name': 'InnerCeilingMainOther',\n",
       "   'NextSpace': 'Other',\n",
       "   'Space': 'Main'},\n",
       "  {'Area': 15.0,\n",
       "   'Name': 'InnerCeilingMainNonliving',\n",
       "   'NextSpace': 'Nonliving',\n",
       "   'Space': 'Main'},\n",
       "  {'Area': 0,\n",
       "   'Name': 'InnerCeilingOtherMain',\n",
       "   'NextSpace': 'Main',\n",
       "   'Space': 'Other'},\n",
       "  {'Area': 0.0,\n",
       "   'Name': 'InnerCeilingOtherNonliving',\n",
       "   'NextSpace': 'Nonliving',\n",
       "   'Space': 'Other'},\n",
       "  {'Area': 0,\n",
       "   'Name': 'InnerCeilingNonlivingMain',\n",
       "   'NextSpace': 'Main',\n",
       "   'Space': 'Nonliving'},\n",
       "  {'Area': 30.0,\n",
       "   'Name': 'InnerCeilingNonlivingOther',\n",
       "   'NextSpace': 'Other',\n",
       "   'Space': 'Nonliving'}],\n",
       " 'InnerFloors': [{'Area': 0,\n",
       "   'Name': 'InnerFloorMainOther',\n",
       "   'NextSpace': 'Other',\n",
       "   'Space': 'Main'},\n",
       "  {'Area': 0.0,\n",
       "   'Name': 'InnerFloorMainNonliving',\n",
       "   'NextSpace': 'Nonliving',\n",
       "   'Space': 'Main'},\n",
       "  {'Area': 15.0,\n",
       "   'Name': 'InnerFloorOtherMain',\n",
       "   'NextSpace': 'Main',\n",
       "   'Space': 'Other'},\n",
       "  {'Area': 15.0,\n",
       "   'Name': 'InnerFloorOtherNonliving',\n",
       "   'NextSpace': 'Nonliving',\n",
       "   'Space': 'Other'},\n",
       "  {'Area': 30.0,\n",
       "   'Name': 'InnerFloorNonlivingMain',\n",
       "   'NextSpace': 'Main',\n",
       "   'Space': 'Nonliving'},\n",
       "  {'Area': 0,\n",
       "   'Name': 'InnerFloorNonlivingOther',\n",
       "   'NextSpace': 'Other',\n",
       "   'Space': 'Nonliving'}]}"
      ]
     },
     "execution_count": 20,
     "metadata": {},
     "output_type": "execute_result"
    }
   ],
   "source": [
    "d = {\n",
    "    'Common': {\n",
    "        'Region': 6,\n",
    "        'MainOccupantRoomFloorArea': 30.0,\n",
    "        'OtherOccupantRoomFloorArea': 60.0,\n",
    "        'TotalFloorArea': 120.0\n",
    "    },\n",
    "    'Walls': [\n",
    "        { 'Area': 60, 'Direction': 'Top', 'name': 'Ceiling', 'Space': 'Other', 'structure': 'wood', 'Type': 'Ceiling' },\n",
    "        { 'Area': 15, 'Direction': 'Bottom', 'name': 'Floor', 'Space': 'Other', 'structure': 'wood', 'Type': 'Floor' },\n",
    "    ],\n",
    "    'Windows': [\n",
    "        { 'Area': 30, 'Direction': 'SW', 'name': 'WindowSW', 'Space': 'Main', 'type': 'single' },\n",
    "        { 'Area': 75, 'Direction': 'Bottom', 'name': 'WindowBottom', 'Space': 'Main', 'type': 'single' },\n",
    "    ],\n",
    "    'Doors': [\n",
    "        { 'Area': 15, 'Direction': 'NW', 'name': 'DoorNW', 'Space': 'Nonliving' },\n",
    "        { 'Area': 15, 'Direction': 'NE', 'name': 'DoorNE', 'Space': 'Other' }\n",
    "    ],\n",
    "    'EarthFloors': [\n",
    "        { 'Area': 5, 'name': 'other', 'Space': 'Underfloor' },\n",
    "        { 'Area': 5, 'name': 'entrance', 'Space': 'Underfloor' }\n",
    "    ]\n",
    "}\n",
    "\n",
    "innerwalls =  [\n",
    "    { 'Area': 60, 'Name': 'GroundFloor_Main', 'Type' : 'GroundFloor', 'Spaces': ['Main','Underfloor'], 'Direction' : 'Horizontal', 'Layers' : get_inner_floor_layers()},\n",
    "    { 'Area': 15, 'Name': 'GroundFloor_Other', 'Type' : 'GroundFloor', 'Spaces': ['Other','Underfloor'], 'Direction' : 'Horizontal', 'Layers' : get_inner_floor_layers()},\n",
    "]\n",
    "\n",
    "get_area_slab_between_rooms(d, innerwalls)"
   ]
  },
  {
   "cell_type": "markdown",
   "metadata": {},
   "source": [
    "### 5) 室と床下空間の間の床の構築"
   ]
  },
  {
   "cell_type": "markdown",
   "metadata": {},
   "source": [
    "#### Function"
   ]
  },
  {
   "cell_type": "code",
   "execution_count": 21,
   "metadata": {
    "collapsed": true
   },
   "outputs": [],
   "source": [
    "def get_innerwall_groundfloor(d):\n",
    "    \n",
    "    # 室と床下空間の間の床面積の推定\n",
    "    areas_groundfloor = get_area_floor_over_underfloor(d)\n",
    "    \n",
    "    # 壁体名称、部位面積を更新し、「壁体が属する空間種類」「隣接空間種類」を追加する\n",
    "    ifs = []\n",
    "    \n",
    "    ifs.extend([ {\n",
    "        'Name' : 'GroundFloor_' + space,\n",
    "        'Type' : 'GroundFloor',\n",
    "        'Direction' : 'Horizontal',\n",
    "        'Area' : areas_groundfloor[space],\n",
    "        'Layers' : get_inner_floor_layers(),\n",
    "        'Spaces' : [space,'Underfloor'], \n",
    "    } for space in ['Main', 'Other', 'Nonliving'] ])\n",
    "        \n",
    "    return ifs"
   ]
  },
  {
   "cell_type": "markdown",
   "metadata": {},
   "source": [
    "### 6) 室間の床・天井の構築"
   ]
  },
  {
   "cell_type": "markdown",
   "metadata": {},
   "source": [
    "#### Function"
   ]
  },
  {
   "cell_type": "code",
   "execution_count": 22,
   "metadata": {
    "collapsed": true
   },
   "outputs": [],
   "source": [
    "def get_innerwall_innerslab(d, innerwalls):\n",
    "    \n",
    "    # 室間の床・天井面積の推定\n",
    "    areas_innerslab = get_area_slab_between_rooms(d, innerwalls)\n",
    "    print(areas_innerslab)\n",
    "    \n",
    "    # 壁体名称、部位面積を更新し、「壁体が属する空間種類」「隣接空間種類」を追加する\n",
    "    ifs = []\n",
    "    \n",
    "    ifs.extend([ {\n",
    "        'Name' : 'InnerFloor_' + x['Space'],\n",
    "        'Type' : 'InnerFloor',\n",
    "        'Direction' : 'Horizontal',\n",
    "        'Area' : x['Area'],\n",
    "        'Layers' : get_inner_floor_layers(),\n",
    "        'Space' : x['Space'], \n",
    "        'NextSpace' : x['NextSpace'],\n",
    "    } for x in areas_innerslab['InnerFloors'] ])\n",
    "    \n",
    "    ifs.extend([ {\n",
    "        'Name' : 'InnerCeiling_' + x['Space'],\n",
    "        'Type' : 'InnerCeiling',\n",
    "        'Direction' : 'Horizontal',\n",
    "        'Area' : x['Area'],\n",
    "        'Layers' : get_inner_floor_layers(),\n",
    "        'Space' : x['Space'], \n",
    "        'NextSpace' : x['NextSpace'],\n",
    "    } for x in areas_innerslab['InnerCeilings'] ])\n",
    "        \n",
    "    return ifs"
   ]
  },
  {
   "cell_type": "markdown",
   "metadata": {},
   "source": [
    "## 8.5. InnerWalls Element - Inner Wall "
   ]
  },
  {
   "cell_type": "markdown",
   "metadata": {},
   "source": [
    "### 1) 層構成"
   ]
  },
  {
   "cell_type": "markdown",
   "metadata": {},
   "source": [
    "以下の層構成とする。"
   ]
  },
  {
   "cell_type": "markdown",
   "metadata": {},
   "source": [
    "| 材料 | 厚さ, m | 熱伝導率, W m<sup>-1</sup> K<sup>-1</sup> | 熱抵抗, m<sup>2</sup>2 k W<sup>-1</sup> | 容積比熱, J L<sup>-1</sup> K<sup>-1</sup> |\n",
    "|---|---|---|---|\n",
    "| せっこうボード | 0.0125 | 0.22 | 0.0568 | 830.0 |\n",
    "| 非密閉空気層 | - | - | 0.090 | 0.0 |\n",
    "| せっこうボード | 0.0125 | 0.22 | 0.0568 | 830.0 |"
   ]
  },
  {
   "cell_type": "markdown",
   "metadata": {},
   "source": [
    "#### Function"
   ]
  },
  {
   "cell_type": "code",
   "execution_count": 23,
   "metadata": {
    "collapsed": true
   },
   "outputs": [],
   "source": [
    "def get_inner_wall_layers():\n",
    "    return [\n",
    "        {'Name': 'GPB', 'Cond': 0.22, 'Thick': 0.0125, 'SpecH': 830.0},\n",
    "        {'Name': 'GPB', 'Cond': 1/0.09, 'Thick': 1, 'SpecH': 0},\n",
    "        {'Name': 'GPB', 'Cond': 0.22, 'Thick': 0.0125, 'SpecH': 830.0}\n",
    "    ]"
   ]
  },
  {
   "cell_type": "markdown",
   "metadata": {},
   "source": [
    "### 3) 内壁等面積の推定"
   ]
  },
  {
   "cell_type": "markdown",
   "metadata": {},
   "source": [
    "#### Outline"
   ]
  },
  {
   "cell_type": "markdown",
   "metadata": {},
   "source": [
    "$$\n",
    "A_{iw,MR-OR} = \\left \\{\n",
    "\\begin{array}{ll}\n",
    "0.0 & ( A_{MR} = 0.0 \\quad or \\quad A_{OR} = 0.0 ) \\\\\n",
    "\\displaystyle\n",
    "\\max \\left( 0.0, \\frac{ A_{iw,MR} + A_{iw,OR} - A_{iw,NR} }{2} \\right) & ( A_{MR} > 0.0 \\quad and \\quad A_{OR} > 0.0 )\n",
    "\\end{array}\n",
    "\\right.\n",
    "$$"
   ]
  },
  {
   "cell_type": "markdown",
   "metadata": {},
   "source": [
    "$$\n",
    "A_{iw,MR-NR} = \\left \\{\n",
    "\\begin{array}{ll}\n",
    "0.0 & ( A_{MR} = 0.0 \\quad or \\quad A_{NR} = 0.0 ) \\\\\n",
    "\\displaystyle\n",
    "\\max \\left( 2.0, \\frac{ A_{iw,MR} + A_{iw,NR} - A_{iw,OR} }{2} \\right) & ( A_{MR} > 0.0 \\quad and \\quad A_{NR} > 0.0 )\n",
    "\\end{array}\n",
    "\\right.\n",
    "$$"
   ]
  },
  {
   "cell_type": "markdown",
   "metadata": {},
   "source": [
    "$$\n",
    "A_{iw,NR-OR} = \\left \\{\n",
    "\\begin{array}{ll}\n",
    "0.0 & ( A_{NR} = 0.0 \\quad or \\quad A_{OR} = 0.0 ) \\\\\n",
    "\\displaystyle\n",
    "\\max \\left( 2.0, \\frac{ A_{iw,NR} + A_{iw,OR} - A_{iw,MR} }{2} \\right) & ( A_{NR} > 0.0 \\quad and \\quad A_{OR} > 0.0 )\n",
    "\\end{array}\n",
    "\\right.\n",
    "$$"
   ]
  },
  {
   "cell_type": "markdown",
   "metadata": {},
   "source": [
    "$ \\because $"
   ]
  },
  {
   "cell_type": "markdown",
   "metadata": {},
   "source": [
    "$$\n",
    "A_{iw,MR} =A_{iw,MR-OR}+A_{iw,MR-NR}\n",
    "$$\n",
    "\n",
    "$$\n",
    "A_{iw,OR} =A_{iw,MR-OR}+A_{iw,OR-NR}\n",
    "$$\n",
    "\n",
    "$$\n",
    "A_{iw,NR} =A_{iw,MR-OR}+A_{iw,OR-NR}\n",
    "$$"
   ]
  },
  {
   "cell_type": "markdown",
   "metadata": {},
   "source": [
    "$A_{iw,MR-OR}$: 主たる居室とその他の居室の間の内壁等の面積, m<sup>2</sup>  \n",
    "$A_{iw,MR-NR}$: 主たる居室と非居室の間の内壁等の面積, m<sup>2</sup>  \n",
    "$A_{iw,OR-NR}$: その他の居室と非居室の間の内壁等の面積, m<sup>2</sup>  \n",
    "$A_{iw,MR}$: 主たる居室の内壁等の面積, m<sup>2</sup>  \n",
    "$A_{iw,OR}$: その他の居室の内壁等の面積, m<sup>2</sup>  \n",
    "$A_{iw,NR}$: 非居室の内壁等の面積, m<sup>2</sup>  "
   ]
  },
  {
   "cell_type": "markdown",
   "metadata": {},
   "source": [
    "$$\n",
    "A_{iw,MR} = \\left \\{\n",
    "\\begin{array}{ll}\n",
    "0 & ( A_{MR} = 0 ) \\\\\n",
    "A_{w,MR} - A_{ow,MR} = \\max \\left ( 0,4 \\cdot ar_{MR} \\cdot h \\sqrt {A_{MR}} - A_{ow,MR} \\right ) & ( A_{MR} > 0 )\n",
    "\\end{array}\n",
    "\\right.\n",
    "$$"
   ]
  },
  {
   "cell_type": "markdown",
   "metadata": {},
   "source": [
    "$$\n",
    "A_{iw,OR} = \\left \\{\n",
    "\\begin{array}{ll}\n",
    "0 & ( A_{OR} = 0 ) \\\\\n",
    "A_{w,OR} - A_{ow,OR} = \\max \\left ( 0, 4 \\cdot ar_{NR} \\cdot h \\sqrt {A_{OR}} - A_{ow,OR} \\right ) & ( A_{OR} > 0 )\n",
    "\\end{array}\n",
    "\\right.\n",
    "$$"
   ]
  },
  {
   "cell_type": "markdown",
   "metadata": {},
   "source": [
    "$$\n",
    "A_{iw,NR} = \\left \\{\n",
    "\\begin{array}{ll}\n",
    "0 & ( A_{NR} = 0 ) \\\\\n",
    "A_{w,NR} - A_{ow,NR} = \\max \\left ( 0, 4 \\cdot ar_{OR} \\cdot h \\sqrt {A_{NR}} - A_{ow,NR} \\right ) & ( A_{NR} > 0 )\n",
    "\\end{array}\n",
    "\\right.\n",
    "$$"
   ]
  },
  {
   "cell_type": "markdown",
   "metadata": {},
   "source": [
    "$A_{w,MR}$: 主たる居室の鉛直面の外皮と内壁の面積の合計, m<sup>2</sup>  \n",
    "$A_{w,OR}$: その他の居室の鉛直面の外皮と内壁の面積の合計, m<sup>2</sup>  \n",
    "$A_{w,NR}$: 非居室の鉛直面の外皮と内壁の面積の合計, m<sup>2</sup>  \n",
    "$A_{ow,MR}$: 主たる居室の鉛直面の外皮の面積の合計, m<sup>2</sup>  \n",
    "$A_{ow,OR}$: その他の居室の鉛直面の外皮の面積の合計, m<sup>2</sup>  \n",
    "$A_{ow,NR}$: 非居室の鉛直面の外皮の面積の合計, m<sup>2</sup>  \n",
    "$ar_{MR}$: 主たる居室の周長を求める際の係数, -  \n",
    "$ar_{OR}$: その他の居室の周長を求める際の係数, -  \n",
    "$ar_{NR}$: 非居室の周長を求める際の係数, -  \n",
    "$h$: 階高, m"
   ]
  },
  {
   "cell_type": "markdown",
   "metadata": {},
   "source": [
    "#### Function"
   ]
  },
  {
   "cell_type": "markdown",
   "metadata": {},
   "source": [
    "##### 内壁等の面積を推定する関数"
   ]
  },
  {
   "cell_type": "code",
   "execution_count": 24,
   "metadata": {
    "collapsed": true
   },
   "outputs": [],
   "source": [
    "def get_area_inner_wall(d):\n",
    "\n",
    "    # 居室の外皮と床下空間との間の床の面積の合計を取得\n",
    "    def get_A_ow(d):\n",
    "\n",
    "        # 室用途別の内壁等の面積\n",
    "        d_ow=[]\n",
    "        for y in ['Walls', 'Windows', 'Doors']:\n",
    "            if (y in d) == True :\n",
    "                d_ow.extend(d[y])\n",
    "        \n",
    "        A_ow_MR = sum(y['Area'] for y in d_ow if (y['Space'] == 'Mmain' and y['Direction'] != 'Top' and y['Direction'] != 'Bottom'))\n",
    "        A_ow_OR = sum(y['Area'] for y in d_ow if (y['Space'] == 'Other' and y['Direction'] != 'Top' and y['Direction'] != 'Bottom'))\n",
    "        A_ow_NR = sum(y['Area'] for y in d_ow if (y['Space'] == 'Nonliving' and y['Direction'] != 'Top' and y['Direction'] != 'Bottom'))\n",
    "        \n",
    "        return A_ow_MR, A_ow_OR, A_ow_NR\n",
    "    \n",
    "    # 内壁等の面積の取得\n",
    "    def get_A_iw(A_f, ar, A_ow):\n",
    "        \n",
    "        h = 2.8 # 階高, m\n",
    "        \n",
    "        return max(0.0, 4 * h * ar * A_f**0.5 - A_ow) if A_f > 0.0 else 0.0\n",
    "        \n",
    "    # 室用途間の内壁等の面積の推定\n",
    "    # 室用途床面積が0㎡の場合に、室間の内壁等の面積を0㎡とする\n",
    "    def get_A_iw_cor(A_s1, A_s2, A_iw_min, A_iw_s1, A_iw_s2, A_iw_os):\n",
    "        if A_s1 == 0.0 or A_s2 == 0.0:\n",
    "            return 0.0\n",
    "        else:\n",
    "            return max(A_iw_min, (A_iw_s1 + A_iw_s2 - A_iw_os)/2)\n",
    "\n",
    "    # 周長を求める際の係数, -\n",
    "    ar_MR, ar_OR, ar_NR = 1.2, 1.4, 1.4\n",
    "\n",
    "    # 用途別床面積の取得\n",
    "    A_MR, A_OR, A_NR = get_area_floor(d)\n",
    " \n",
    "    # 居室の外皮と床下空間との間の床の面積の合計を取得\n",
    "    A_ow_MR, A_ow_OR, A_ow_NR = get_A_ow(d)\n",
    "\n",
    "    # 内壁等の面積の取得\n",
    "    A_iw_space_MR, A_iw_space_OR, A_iw_space_NR = get_A_iw(A_MR, ar_MR, A_ow_MR), get_A_iw(A_OR, ar_OR, A_ow_OR), get_A_iw(A_NR, ar_NR, A_ow_NR)\n",
    "\n",
    "    # 室間の内壁等の面積の最小値, m2\n",
    "    A_iw_min_MR_to_OR, A_iw_min_MR_to_NR, A_iw_min_OR_to_NR = 0.0, 2.0, 2.0\n",
    "    \n",
    "    \n",
    "    # 室用途間の内壁等の面積の推定\n",
    "    return {\n",
    "        'main to other'      : get_A_iw_cor(A_MR, A_OR, A_iw_min_MR_to_OR, A_iw_space_MR, A_iw_space_OR, A_iw_space_NR),\n",
    "        'main to nonliving'  : get_A_iw_cor(A_MR, A_NR, A_iw_min_MR_to_NR, A_iw_space_MR, A_iw_space_NR, A_iw_space_OR),\n",
    "        'other to nonliving' : get_A_iw_cor(A_OR, A_NR, A_iw_min_OR_to_NR, A_iw_space_OR, A_iw_space_NR, A_iw_space_MR)\n",
    "    }"
   ]
  },
  {
   "cell_type": "markdown",
   "metadata": {},
   "source": [
    "#### Example"
   ]
  },
  {
   "cell_type": "code",
   "execution_count": 25,
   "metadata": {},
   "outputs": [
    {
     "data": {
      "text/plain": [
       "{'main to nonliving': 0.0,\n",
       " 'main to other': 105.28127504155998,\n",
       " 'other to nonliving': 0.0}"
      ]
     },
     "execution_count": 25,
     "metadata": {},
     "output_type": "execute_result"
    }
   ],
   "source": [
    "d = {\n",
    "    'Common': {\n",
    "        'Region': 6,\n",
    "        'MainOccupantRoomFloorArea': 60.0,\n",
    "        'OtherOccupantRoomFloorArea': 60.0,\n",
    "        'TotalFloorArea': 120.0\n",
    "    },\n",
    "    'Walls': [\n",
    "        { 'Area': 60, 'Direction': 'Top', 'name': 'Ceiling', 'Space': 'Main', 'structure': 'wood', 'Type': 'Ceiling' },\n",
    "        { 'Area': 15, 'Direction': 'Bottom', 'name': 'Floor', 'Space': 'Other', 'structure': 'wood', 'Type': 'Floor' },\n",
    "    ],\n",
    "    'Windows': [\n",
    "        { 'Area': 30, 'Direction': 'SW', 'name': 'WindowSW', 'Space': 'Main', 'type': 'single' },\n",
    "        { 'Area': 75, 'Direction': 'Bottom', 'name': 'WindowBottom', 'Space': 'Other', 'type': 'single' },\n",
    "    ],\n",
    "    'Doors': [\n",
    "        { 'Area': 15, 'Direction': 'NW', 'name': 'DoorNW', 'Space': 'Nonliving' },\n",
    "        { 'Area': 15, 'Direction': 'NE', 'name': 'DoorNE', 'Space': 'Other' }\n",
    "    ],\n",
    "    'EarthFloors': [\n",
    "        { 'Area': 40, 'name': 'other', 'Space': 'Underfloor' },\n",
    "        { 'Area': 20, 'name': 'entrance', 'Space': 'Nonliving' }\n",
    "    ]\n",
    "}\n",
    "\n",
    "get_area_inner_wall(d)"
   ]
  },
  {
   "cell_type": "markdown",
   "metadata": {},
   "source": [
    "### 3) 内壁の構築"
   ]
  },
  {
   "cell_type": "markdown",
   "metadata": {},
   "source": [
    "#### Function"
   ]
  },
  {
   "cell_type": "code",
   "execution_count": 26,
   "metadata": {
    "collapsed": true
   },
   "outputs": [],
   "source": [
    "def get_innerwall_wall(d):\n",
    "\n",
    "    # 用途と複数用途間の対応関係の定義\n",
    "    correspondence = {\n",
    "        'main to other': ['Main', 'Other' ],\n",
    "        'main to nonliving': ['Main', 'Nonliving' ],\n",
    "        'other to nonliving': ['Other', 'Nonliving' ] \n",
    "    }  \n",
    "\n",
    "    # 内壁面積の推定\n",
    "    areas_innerwall = get_area_inner_wall(d)\n",
    "    \n",
    "    # 壁体名称、部位面積を更新し、「壁体が属する空間種類」「隣接空間種類」を追加する\n",
    "    iws = []\n",
    "\n",
    "    iws.extend([ {\n",
    "        'Name' : 'Innerwall_' + c,\n",
    "        'Type' : 'InnerWall',\n",
    "        'Direction' : 'Vertical',\n",
    "        'Layers' : get_inner_wall_layers(),\n",
    "        'Area' : areas_innerwall[c],\n",
    "        'Spaces' : correspondence[c]\n",
    "    } for c in correspondence.keys()\n",
    "    ])\n",
    "\n",
    "    return iws"
   ]
  },
  {
   "cell_type": "markdown",
   "metadata": {},
   "source": [
    "## 8.3. InnerWalls Element - 統合"
   ]
  },
  {
   "cell_type": "markdown",
   "metadata": {},
   "source": [
    "#### Function"
   ]
  },
  {
   "cell_type": "code",
   "execution_count": 27,
   "metadata": {
    "collapsed": true
   },
   "outputs": [],
   "source": [
    "def convert_innerwall( d ):\n",
    "\n",
    "    innerwalls =[]\n",
    "    \n",
    "    # 室と床下空間の間の床の推定\n",
    "    innerwalls.extend(get_innerwall_groundfloor(d))\n",
    "    \n",
    "    # 室間の床・天井の推定\n",
    "    innerwalls.extend(get_innerwall_innerslab(d, innerwalls))\n",
    "    \n",
    "    # 内壁等の推定              \n",
    "    innerwalls.extend(get_innerwall_wall(d))\n",
    "            \n",
    "    return innerwalls"
   ]
  },
  {
   "cell_type": "markdown",
   "metadata": {},
   "source": [
    "#### Example"
   ]
  },
  {
   "cell_type": "code",
   "execution_count": 28,
   "metadata": {},
   "outputs": [
    {
     "name": "stdout",
     "output_type": "stream",
     "text": [
      "{'InnerFloors': [{'Name': 'InnerFloorMainOther', 'Area': 20.0, 'Space': 'Main', 'NextSpace': 'Other'}, {'Name': 'InnerFloorMainNonliving', 'Area': 10.0, 'Space': 'Main', 'NextSpace': 'Nonliving'}, {'Name': 'InnerFloorOtherMain', 'Area': 30.0, 'Space': 'Other', 'NextSpace': 'Main'}, {'Name': 'InnerFloorOtherNonliving', 'Area': 30.0, 'Space': 'Other', 'NextSpace': 'Nonliving'}, {'Name': 'InnerFloorNonlivingMain', 'Area': 10.0, 'Space': 'Nonliving', 'NextSpace': 'Main'}, {'Name': 'InnerFloorNonlivingOther', 'Area': 20.0, 'Space': 'Nonliving', 'NextSpace': 'Other'}], 'InnerCeilings': [{'Name': 'InnerCeilingMainOther', 'Area': 20.0, 'Space': 'Main', 'NextSpace': 'Other'}, {'Name': 'InnerCeilingMainNonliving', 'Area': 10.0, 'Space': 'Main', 'NextSpace': 'Nonliving'}, {'Name': 'InnerCeilingOtherMain', 'Area': 30.0, 'Space': 'Other', 'NextSpace': 'Main'}, {'Name': 'InnerCeilingOtherNonliving', 'Area': 30.0, 'Space': 'Other', 'NextSpace': 'Nonliving'}, {'Name': 'InnerCeilingNonlivingMain', 'Area': 10.0, 'Space': 'Nonliving', 'NextSpace': 'Main'}, {'Name': 'InnerCeilingNonlivingOther', 'Area': 20.0, 'Space': 'Nonliving', 'NextSpace': 'Other'}]}\n"
     ]
    },
    {
     "data": {
      "text/plain": [
       "[{'Area': 0.0,\n",
       "  'Direction': 'Horizontal',\n",
       "  'Layers': [{'Cond': 0.16, 'Name': 'PED', 'SpecH': 720.0, 'Thick': 0.012}],\n",
       "  'Name': 'GroundFloor_Main',\n",
       "  'Spaces': ['Main', 'Underfloor'],\n",
       "  'Type': 'GroundFloor'},\n",
       " {'Area': 0.0,\n",
       "  'Direction': 'Horizontal',\n",
       "  'Layers': [{'Cond': 0.16, 'Name': 'PED', 'SpecH': 720.0, 'Thick': 0.012}],\n",
       "  'Name': 'GroundFloor_Other',\n",
       "  'Spaces': ['Other', 'Underfloor'],\n",
       "  'Type': 'GroundFloor'},\n",
       " {'Area': 0.0,\n",
       "  'Direction': 'Horizontal',\n",
       "  'Layers': [{'Cond': 0.16, 'Name': 'PED', 'SpecH': 720.0, 'Thick': 0.012}],\n",
       "  'Name': 'GroundFloor_Nonliving',\n",
       "  'Spaces': ['Nonliving', 'Underfloor'],\n",
       "  'Type': 'GroundFloor'},\n",
       " {'Area': 20.0,\n",
       "  'Direction': 'Horizontal',\n",
       "  'Layers': [{'Cond': 0.16, 'Name': 'PED', 'SpecH': 720.0, 'Thick': 0.012}],\n",
       "  'Name': 'InnerFloor_Main',\n",
       "  'NextSpace': 'Other',\n",
       "  'Space': 'Main',\n",
       "  'Type': 'InnerFloor'},\n",
       " {'Area': 10.0,\n",
       "  'Direction': 'Horizontal',\n",
       "  'Layers': [{'Cond': 0.16, 'Name': 'PED', 'SpecH': 720.0, 'Thick': 0.012}],\n",
       "  'Name': 'InnerFloor_Main',\n",
       "  'NextSpace': 'Nonliving',\n",
       "  'Space': 'Main',\n",
       "  'Type': 'InnerFloor'},\n",
       " {'Area': 30.0,\n",
       "  'Direction': 'Horizontal',\n",
       "  'Layers': [{'Cond': 0.16, 'Name': 'PED', 'SpecH': 720.0, 'Thick': 0.012}],\n",
       "  'Name': 'InnerFloor_Other',\n",
       "  'NextSpace': 'Main',\n",
       "  'Space': 'Other',\n",
       "  'Type': 'InnerFloor'},\n",
       " {'Area': 30.0,\n",
       "  'Direction': 'Horizontal',\n",
       "  'Layers': [{'Cond': 0.16, 'Name': 'PED', 'SpecH': 720.0, 'Thick': 0.012}],\n",
       "  'Name': 'InnerFloor_Other',\n",
       "  'NextSpace': 'Nonliving',\n",
       "  'Space': 'Other',\n",
       "  'Type': 'InnerFloor'},\n",
       " {'Area': 10.0,\n",
       "  'Direction': 'Horizontal',\n",
       "  'Layers': [{'Cond': 0.16, 'Name': 'PED', 'SpecH': 720.0, 'Thick': 0.012}],\n",
       "  'Name': 'InnerFloor_Nonliving',\n",
       "  'NextSpace': 'Main',\n",
       "  'Space': 'Nonliving',\n",
       "  'Type': 'InnerFloor'},\n",
       " {'Area': 20.0,\n",
       "  'Direction': 'Horizontal',\n",
       "  'Layers': [{'Cond': 0.16, 'Name': 'PED', 'SpecH': 720.0, 'Thick': 0.012}],\n",
       "  'Name': 'InnerFloor_Nonliving',\n",
       "  'NextSpace': 'Other',\n",
       "  'Space': 'Nonliving',\n",
       "  'Type': 'InnerFloor'},\n",
       " {'Area': 20.0,\n",
       "  'Direction': 'Horizontal',\n",
       "  'Layers': [{'Cond': 0.16, 'Name': 'PED', 'SpecH': 720.0, 'Thick': 0.012}],\n",
       "  'Name': 'InnerCeiling_Main',\n",
       "  'NextSpace': 'Other',\n",
       "  'Space': 'Main',\n",
       "  'Type': 'InnerCeiling'},\n",
       " {'Area': 10.0,\n",
       "  'Direction': 'Horizontal',\n",
       "  'Layers': [{'Cond': 0.16, 'Name': 'PED', 'SpecH': 720.0, 'Thick': 0.012}],\n",
       "  'Name': 'InnerCeiling_Main',\n",
       "  'NextSpace': 'Nonliving',\n",
       "  'Space': 'Main',\n",
       "  'Type': 'InnerCeiling'},\n",
       " {'Area': 30.0,\n",
       "  'Direction': 'Horizontal',\n",
       "  'Layers': [{'Cond': 0.16, 'Name': 'PED', 'SpecH': 720.0, 'Thick': 0.012}],\n",
       "  'Name': 'InnerCeiling_Other',\n",
       "  'NextSpace': 'Main',\n",
       "  'Space': 'Other',\n",
       "  'Type': 'InnerCeiling'},\n",
       " {'Area': 30.0,\n",
       "  'Direction': 'Horizontal',\n",
       "  'Layers': [{'Cond': 0.16, 'Name': 'PED', 'SpecH': 720.0, 'Thick': 0.012}],\n",
       "  'Name': 'InnerCeiling_Other',\n",
       "  'NextSpace': 'Nonliving',\n",
       "  'Space': 'Other',\n",
       "  'Type': 'InnerCeiling'},\n",
       " {'Area': 10.0,\n",
       "  'Direction': 'Horizontal',\n",
       "  'Layers': [{'Cond': 0.16, 'Name': 'PED', 'SpecH': 720.0, 'Thick': 0.012}],\n",
       "  'Name': 'InnerCeiling_Nonliving',\n",
       "  'NextSpace': 'Main',\n",
       "  'Space': 'Nonliving',\n",
       "  'Type': 'InnerCeiling'},\n",
       " {'Area': 20.0,\n",
       "  'Direction': 'Horizontal',\n",
       "  'Layers': [{'Cond': 0.16, 'Name': 'PED', 'SpecH': 720.0, 'Thick': 0.012}],\n",
       "  'Name': 'InnerCeiling_Nonliving',\n",
       "  'NextSpace': 'Other',\n",
       "  'Space': 'Nonliving',\n",
       "  'Type': 'InnerCeiling'},\n",
       " {'Area': 36.277636224474435,\n",
       "  'Direction': 'Vertical',\n",
       "  'Layers': [{'Cond': 0.22, 'Name': 'GPB', 'SpecH': 830.0, 'Thick': 0.0125},\n",
       "   {'Cond': 11.11111111111111, 'Name': 'GPB', 'SpecH': 0, 'Thick': 1},\n",
       "   {'Cond': 0.22, 'Name': 'GPB', 'SpecH': 830.0, 'Thick': 0.0125}],\n",
       "  'Name': 'Innerwall_main to other',\n",
       "  'Spaces': ['Main', 'Other'],\n",
       "  'Type': 'InnerWall'},\n",
       " {'Area': 37.33627550421989,\n",
       "  'Direction': 'Vertical',\n",
       "  'Layers': [{'Cond': 0.22, 'Name': 'GPB', 'SpecH': 830.0, 'Thick': 0.0125},\n",
       "   {'Cond': 11.11111111111111, 'Name': 'GPB', 'SpecH': 0, 'Thick': 1},\n",
       "   {'Cond': 0.22, 'Name': 'GPB', 'SpecH': 830.0, 'Thick': 0.0125}],\n",
       "  'Name': 'Innerwall_main to nonliving',\n",
       "  'Spaces': ['Main', 'Nonliving'],\n",
       "  'Type': 'InnerWall'},\n",
       " {'Area': 11.914121512590143,\n",
       "  'Direction': 'Vertical',\n",
       "  'Layers': [{'Cond': 0.22, 'Name': 'GPB', 'SpecH': 830.0, 'Thick': 0.0125},\n",
       "   {'Cond': 11.11111111111111, 'Name': 'GPB', 'SpecH': 0, 'Thick': 1},\n",
       "   {'Cond': 0.22, 'Name': 'GPB', 'SpecH': 830.0, 'Thick': 0.0125}],\n",
       "  'Name': 'Innerwall_other to nonliving',\n",
       "  'Spaces': ['Other', 'Nonliving'],\n",
       "  'Type': 'InnerWall'}]"
      ]
     },
     "execution_count": 28,
     "metadata": {},
     "output_type": "execute_result"
    }
   ],
   "source": [
    "d = {\n",
    "    'Common': {'MainOccupantRoomFloorArea': 30.0, 'OtherOccupantRoomFloorArea': 60.0, 'Region': 6, 'TotalFloorArea': 120.0},\n",
    "    'Doors': [\n",
    "        {'Area': 0.63, 'Direction': 'NW', 'name': 'DoorNW_main', 'Space': 'Main'},\n",
    "        {'Area': 1.26, 'Direction': 'NW', 'name': 'DoorNW_other', 'Space': 'Other'},\n",
    "        {'Area': 0.63, 'Direction': 'NW', 'name': 'DoorNW_nonliving', 'Space': 'Nonliving'},\n",
    "        {'Area': 0.54, 'Direction': 'NE', 'name': 'DoorNE_main', 'Space': 'Main'},\n",
    "        {'Area': 1.08, 'Direction': 'NE', 'name': 'DoorNE_other', 'Space': 'Other'},\n",
    "        {'Area': 0.54, 'Direction': 'NE', 'name': 'DoorNE_nonliving', 'Space': 'Nonliving'}\n",
    "     ],\n",
    "    'EarthfloorPerimeters': [\n",
    "        {'direction': 'NW', 'length': 2.43, 'name': 'other_NW', 'psi': 1.8, 'Space': 'Underfloor'},\n",
    "        {'direction': 'NE', 'length': 2.43, 'name': 'other_NE', 'psi': 1.8, 'Space': 'Underfloor'}\n",
    "    ],\n",
    "    'EarthFloors': [\n",
    "        {'Area': 5.0, 'name': 'other', 'Space': 'Underfloor'},\n",
    "        {'Area': 5.0, 'name': 'entrance', 'Space': 'Underfloor'}\n",
    "    ],\n",
    "    'Walls': [\n",
    "        {'Area': 16.95, 'Direction': 'top', 'name': 'Ceiling_main', 'Space': 'Main', 'structure': 'wood', 'Type': 'Ceiling'},\n",
    "        {'Area': 33.9, 'Direction': 'top', 'name': 'Ceiling_other', 'Space': 'Other', 'structure': 'wood', 'Type': 'Ceiling'},\n",
    "        {'Area': 16.95, 'Direction': 'top', 'name': 'Ceiling_nonliving', 'Space': 'Nonliving', 'structure': 'wood', 'Type': 'Ceiling'},\n",
    "        {'Area': 10.1575, 'Direction': 'SW', 'name': 'Wall_SW_main', 'Space': 'Main', 'structure': 'wood', 'Type': 'Wall'},\n",
    "        {'Area': 20.315, 'Direction': 'SW', 'name': 'Wall_SW_other', 'Space': 'Other', 'structurre': 'wood', 'Type': 'Wall'},\n",
    "        {'Area': 10.1575, 'Direction': 'SW', 'name': 'Wall_SW_nonliving', 'Space': 'Nonliving', 'structure': 'wood', 'Type': 'Wall'}\n",
    "    ],\n",
    "    'Windows': [\n",
    "        {'Area': 7.5625, 'Direction': 'SW', 'name': 'WindowSW_main', 'Space': 'Main', 'type': 'single'},\n",
    "        {'Area': 15.125, 'Direction': 'SW', 'name': 'WindowSW_other', 'Space': 'Other', 'type': 'single'},\n",
    "        {'Area': 7.5625, 'Direction': 'SW', 'name': 'WindowSW_nonliving',  'Space': 'Nonliving', 'type': 'single'},\n",
    "        {'Area': 0.7925, 'Direction': 'NW', 'name': 'WindowNW_main', 'Space': 'Main', 'type': 'single'},\n",
    "        {'Area': 1.585, 'Direction': 'NW', 'name': 'WindowNW_other', 'Space': 'Other', 'type': 'single'},\n",
    "        {'Area': 0.7925, 'Direction': 'NW', 'name': 'WindowNW_nonliving', 'Space': 'Nonliving', 'type': 'single'}\n",
    "        ]\n",
    "}\n",
    "\n",
    "convert_innerwall( d )"
   ]
  },
  {
   "cell_type": "markdown",
   "metadata": {},
   "source": [
    "## 3. Lv4入力情報のコンバート（統合）\n",
    "- 1)共通情報、2)開口部以外の不透明部位、3)開口部の透明部位、4)開口部の不透明部位、5) 線熱橋、6)土間床等の外周部の線熱橋、7)土間床、8)内壁等の各コンバート関数を統合し、Lv3の入力情報をLv4の入力情報にコンバートする。"
   ]
  },
  {
   "cell_type": "markdown",
   "metadata": {},
   "source": [
    "### Function"
   ]
  },
  {
   "cell_type": "code",
   "execution_count": 29,
   "metadata": {
    "collapsed": true
   },
   "outputs": [],
   "source": [
    "def convert(d):\n",
    "    d_lv4_input = {}\n",
    "    d_lv4_input['Common'] = convert_common(d)\n",
    "    if ('Walls' in d) == True:\n",
    "        d_lv4_input['Walls'] = convert_wall(d)\n",
    "    if ('Windows' in d) == True:\n",
    "        d_lv4_input['Windows'] = convert_window(d)\n",
    "    if ('Doors' in d) == True:\n",
    "        d_lv4_input['Doors'] = convert_door(d)\n",
    "    if ('EarthfloorPerimeters' in d) == True:\n",
    "        d_lv4_input['EarthfloorPerimeters'] = convert_earthfloorperimeter(d)\n",
    "    if ('EarthFloors' in d) == True:\n",
    "        d_lv4_input['EarthFloors'] = convert_earthfloor(d)\n",
    "    if ('Heatbridges' in d) == True:\n",
    "        d_lv4_input['Heatbridges'] = convert_heatbridge(d)\n",
    "    d_lv4_input['InnerWalls'] = convert_innerwall(d)\n",
    "\n",
    "    return d_lv4_input"
   ]
  },
  {
   "cell_type": "markdown",
   "metadata": {},
   "source": [
    "### Example"
   ]
  },
  {
   "cell_type": "code",
   "execution_count": 30,
   "metadata": {},
   "outputs": [
    {
     "name": "stdout",
     "output_type": "stream",
     "text": [
      "{'InnerFloors': [{'Name': 'InnerFloorMainOther', 'Area': 0.0, 'Space': 'Main', 'NextSpace': 'Other'}, {'Name': 'InnerFloorMainNonliving', 'Area': 0.0, 'Space': 'Main', 'NextSpace': 'Nonliving'}, {'Name': 'InnerFloorOtherMain', 'Area': 30.0, 'Space': 'Other', 'NextSpace': 'Main'}, {'Name': 'InnerFloorOtherNonliving', 'Area': 30.0, 'Space': 'Other', 'NextSpace': 'Nonliving'}, {'Name': 'InnerFloorNonlivingMain', 'Area': 10.0, 'Space': 'Nonliving', 'NextSpace': 'Main'}, {'Name': 'InnerFloorNonlivingOther', 'Area': 20.0, 'Space': 'Nonliving', 'NextSpace': 'Other'}], 'InnerCeilings': [{'Name': 'InnerCeilingMainOther', 'Area': 20.0, 'Space': 'Main', 'NextSpace': 'Other'}, {'Name': 'InnerCeilingMainNonliving', 'Area': 10.0, 'Space': 'Main', 'NextSpace': 'Nonliving'}, {'Name': 'InnerCeilingOtherMain', 'Area': 0, 'Space': 'Other', 'NextSpace': 'Main'}, {'Name': 'InnerCeilingOtherNonliving', 'Area': 60.0, 'Space': 'Other', 'NextSpace': 'Nonliving'}, {'Name': 'InnerCeilingNonlivingMain', 'Area': 0, 'Space': 'Nonliving', 'NextSpace': 'Main'}, {'Name': 'InnerCeilingNonlivingOther', 'Area': 30.0, 'Space': 'Nonliving', 'NextSpace': 'Other'}]}\n"
     ]
    },
    {
     "data": {
      "text/plain": [
       "{'Common': {'MainOccupantRoomFloorArea': 30.0,\n",
       "  'OtherOccupantRoomFloorArea': 60.0,\n",
       "  'Region': 6,\n",
       "  'TotalFloorArea': 120.0},\n",
       " 'Doors': [{'Area': 0.63,\n",
       "   'Direction': 'NW',\n",
       "   'Space': 'Main',\n",
       "   'name': 'DoorNW_main'},\n",
       "  {'Area': 1.26, 'Direction': 'NW', 'Space': 'Other', 'name': 'DoorNW_other'},\n",
       "  {'Area': 0.63,\n",
       "   'Direction': 'NW',\n",
       "   'Space': 'Nonliving',\n",
       "   'name': 'DoorNW_nonliving'},\n",
       "  {'Area': 0.54, 'Direction': 'NE', 'Space': 'Main', 'name': 'DoorNE_main'},\n",
       "  {'Area': 1.08, 'Direction': 'NE', 'Space': 'Other', 'name': 'DoorNE_other'},\n",
       "  {'Area': 0.54,\n",
       "   'Direction': 'NE',\n",
       "   'Space': 'Nonliving',\n",
       "   'name': 'DoorNE_nonliving'}],\n",
       " 'EarthFloors': [{'Area': 30.0, 'Space': 'Main', 'name': 'other'},\n",
       "  {'Area': 5.0, 'Space': 'Underfloor', 'name': 'entrance'}],\n",
       " 'EarthfloorPerimeters': [{'Direction': 'NW',\n",
       "   'Space': 'Underfloor',\n",
       "   'length': 2.43,\n",
       "   'name': 'other_NW',\n",
       "   'psi': 1.8},\n",
       "  {'Direction': 'NE',\n",
       "   'Space': 'Underfloor',\n",
       "   'length': 2.43,\n",
       "   'name': 'other_NE',\n",
       "   'psi': 1.8}],\n",
       " 'InnerWalls': [{'Area': 0.0,\n",
       "   'Direction': 'Horizontal',\n",
       "   'Layers': [{'Cond': 0.16, 'Name': 'PED', 'SpecH': 720.0, 'Thick': 0.012}],\n",
       "   'Name': 'GroundFloor_Main',\n",
       "   'Spaces': ['Main', 'Underfloor'],\n",
       "   'Type': 'GroundFloor'},\n",
       "  {'Area': 0.0,\n",
       "   'Direction': 'Horizontal',\n",
       "   'Layers': [{'Cond': 0.16, 'Name': 'PED', 'SpecH': 720.0, 'Thick': 0.012}],\n",
       "   'Name': 'GroundFloor_Other',\n",
       "   'Spaces': ['Other', 'Underfloor'],\n",
       "   'Type': 'GroundFloor'},\n",
       "  {'Area': 0.0,\n",
       "   'Direction': 'Horizontal',\n",
       "   'Layers': [{'Cond': 0.16, 'Name': 'PED', 'SpecH': 720.0, 'Thick': 0.012}],\n",
       "   'Name': 'GroundFloor_Nonliving',\n",
       "   'Spaces': ['Nonliving', 'Underfloor'],\n",
       "   'Type': 'GroundFloor'},\n",
       "  {'Area': 0.0,\n",
       "   'Direction': 'Horizontal',\n",
       "   'Layers': [{'Cond': 0.16, 'Name': 'PED', 'SpecH': 720.0, 'Thick': 0.012}],\n",
       "   'Name': 'InnerFloor_Main',\n",
       "   'NextSpace': 'Other',\n",
       "   'Space': 'Main',\n",
       "   'Type': 'InnerFloor'},\n",
       "  {'Area': 0.0,\n",
       "   'Direction': 'Horizontal',\n",
       "   'Layers': [{'Cond': 0.16, 'Name': 'PED', 'SpecH': 720.0, 'Thick': 0.012}],\n",
       "   'Name': 'InnerFloor_Main',\n",
       "   'NextSpace': 'Nonliving',\n",
       "   'Space': 'Main',\n",
       "   'Type': 'InnerFloor'},\n",
       "  {'Area': 30.0,\n",
       "   'Direction': 'Horizontal',\n",
       "   'Layers': [{'Cond': 0.16, 'Name': 'PED', 'SpecH': 720.0, 'Thick': 0.012}],\n",
       "   'Name': 'InnerFloor_Other',\n",
       "   'NextSpace': 'Main',\n",
       "   'Space': 'Other',\n",
       "   'Type': 'InnerFloor'},\n",
       "  {'Area': 30.0,\n",
       "   'Direction': 'Horizontal',\n",
       "   'Layers': [{'Cond': 0.16, 'Name': 'PED', 'SpecH': 720.0, 'Thick': 0.012}],\n",
       "   'Name': 'InnerFloor_Other',\n",
       "   'NextSpace': 'Nonliving',\n",
       "   'Space': 'Other',\n",
       "   'Type': 'InnerFloor'},\n",
       "  {'Area': 10.0,\n",
       "   'Direction': 'Horizontal',\n",
       "   'Layers': [{'Cond': 0.16, 'Name': 'PED', 'SpecH': 720.0, 'Thick': 0.012}],\n",
       "   'Name': 'InnerFloor_Nonliving',\n",
       "   'NextSpace': 'Main',\n",
       "   'Space': 'Nonliving',\n",
       "   'Type': 'InnerFloor'},\n",
       "  {'Area': 20.0,\n",
       "   'Direction': 'Horizontal',\n",
       "   'Layers': [{'Cond': 0.16, 'Name': 'PED', 'SpecH': 720.0, 'Thick': 0.012}],\n",
       "   'Name': 'InnerFloor_Nonliving',\n",
       "   'NextSpace': 'Other',\n",
       "   'Space': 'Nonliving',\n",
       "   'Type': 'InnerFloor'},\n",
       "  {'Area': 20.0,\n",
       "   'Direction': 'Horizontal',\n",
       "   'Layers': [{'Cond': 0.16, 'Name': 'PED', 'SpecH': 720.0, 'Thick': 0.012}],\n",
       "   'Name': 'InnerCeiling_Main',\n",
       "   'NextSpace': 'Other',\n",
       "   'Space': 'Main',\n",
       "   'Type': 'InnerCeiling'},\n",
       "  {'Area': 10.0,\n",
       "   'Direction': 'Horizontal',\n",
       "   'Layers': [{'Cond': 0.16, 'Name': 'PED', 'SpecH': 720.0, 'Thick': 0.012}],\n",
       "   'Name': 'InnerCeiling_Main',\n",
       "   'NextSpace': 'Nonliving',\n",
       "   'Space': 'Main',\n",
       "   'Type': 'InnerCeiling'},\n",
       "  {'Area': 0,\n",
       "   'Direction': 'Horizontal',\n",
       "   'Layers': [{'Cond': 0.16, 'Name': 'PED', 'SpecH': 720.0, 'Thick': 0.012}],\n",
       "   'Name': 'InnerCeiling_Other',\n",
       "   'NextSpace': 'Main',\n",
       "   'Space': 'Other',\n",
       "   'Type': 'InnerCeiling'},\n",
       "  {'Area': 60.0,\n",
       "   'Direction': 'Horizontal',\n",
       "   'Layers': [{'Cond': 0.16, 'Name': 'PED', 'SpecH': 720.0, 'Thick': 0.012}],\n",
       "   'Name': 'InnerCeiling_Other',\n",
       "   'NextSpace': 'Nonliving',\n",
       "   'Space': 'Other',\n",
       "   'Type': 'InnerCeiling'},\n",
       "  {'Area': 0,\n",
       "   'Direction': 'Horizontal',\n",
       "   'Layers': [{'Cond': 0.16, 'Name': 'PED', 'SpecH': 720.0, 'Thick': 0.012}],\n",
       "   'Name': 'InnerCeiling_Nonliving',\n",
       "   'NextSpace': 'Main',\n",
       "   'Space': 'Nonliving',\n",
       "   'Type': 'InnerCeiling'},\n",
       "  {'Area': 30.0,\n",
       "   'Direction': 'Horizontal',\n",
       "   'Layers': [{'Cond': 0.16, 'Name': 'PED', 'SpecH': 720.0, 'Thick': 0.012}],\n",
       "   'Name': 'InnerCeiling_Nonliving',\n",
       "   'NextSpace': 'Other',\n",
       "   'Space': 'Nonliving',\n",
       "   'Type': 'InnerCeiling'},\n",
       "  {'Area': 36.277636224474435,\n",
       "   'Direction': 'Vertical',\n",
       "   'Layers': [{'Cond': 0.22, 'Name': 'GPB', 'SpecH': 830.0, 'Thick': 0.0125},\n",
       "    {'Cond': 11.11111111111111, 'Name': 'GPB', 'SpecH': 0, 'Thick': 1},\n",
       "    {'Cond': 0.22, 'Name': 'GPB', 'SpecH': 830.0, 'Thick': 0.0125}],\n",
       "   'Name': 'Innerwall_main to other',\n",
       "   'Spaces': ['Main', 'Other'],\n",
       "   'Type': 'InnerWall'},\n",
       "  {'Area': 37.33627550421989,\n",
       "   'Direction': 'Vertical',\n",
       "   'Layers': [{'Cond': 0.22, 'Name': 'GPB', 'SpecH': 830.0, 'Thick': 0.0125},\n",
       "    {'Cond': 11.11111111111111, 'Name': 'GPB', 'SpecH': 0, 'Thick': 1},\n",
       "    {'Cond': 0.22, 'Name': 'GPB', 'SpecH': 830.0, 'Thick': 0.0125}],\n",
       "   'Name': 'Innerwall_main to nonliving',\n",
       "   'Spaces': ['Main', 'Nonliving'],\n",
       "   'Type': 'InnerWall'},\n",
       "  {'Area': 11.914121512590143,\n",
       "   'Direction': 'Vertical',\n",
       "   'Layers': [{'Cond': 0.22, 'Name': 'GPB', 'SpecH': 830.0, 'Thick': 0.0125},\n",
       "    {'Cond': 11.11111111111111, 'Name': 'GPB', 'SpecH': 0, 'Thick': 1},\n",
       "    {'Cond': 0.22, 'Name': 'GPB', 'SpecH': 830.0, 'Thick': 0.0125}],\n",
       "   'Name': 'Innerwall_other to nonliving',\n",
       "   'Spaces': ['Other', 'Nonliving'],\n",
       "   'Type': 'InnerWall'}],\n",
       " 'Walls': [{'Area': 16.95,\n",
       "   'Direction': 'top',\n",
       "   'Space': 'Main',\n",
       "   'Type': 'Ceiling',\n",
       "   'name': 'Ceiling_main',\n",
       "   'structure': 'wood'},\n",
       "  {'Area': 33.9,\n",
       "   'Direction': 'top',\n",
       "   'Space': 'Other',\n",
       "   'Type': 'Ceiling',\n",
       "   'name': 'Ceiling_other',\n",
       "   'structure': 'wood'},\n",
       "  {'Area': 16.95,\n",
       "   'Direction': 'top',\n",
       "   'Space': 'Nonliving',\n",
       "   'Type': 'Ceiling',\n",
       "   'name': 'Ceiling_nonliving',\n",
       "   'structure': 'wood'},\n",
       "  {'Area': 10.1575,\n",
       "   'Direction': 'SW',\n",
       "   'Space': 'Main',\n",
       "   'Type': 'Wall',\n",
       "   'name': 'Wall_SW_main',\n",
       "   'structure': 'wood'},\n",
       "  {'Area': 20.315,\n",
       "   'Direction': 'SW',\n",
       "   'Space': 'Other',\n",
       "   'Type': 'Wall',\n",
       "   'name': 'Wall_SW_other',\n",
       "   'structure': 'wood'},\n",
       "  {'Area': 10.1575,\n",
       "   'Direction': 'SW',\n",
       "   'Space': 'Nonliving',\n",
       "   'Type': 'Wall',\n",
       "   'name': 'Wall_SW_nonliving',\n",
       "   'structure': 'wood'}],\n",
       " 'Windows': [{'Area': 7.5625,\n",
       "   'Direction': 'SW',\n",
       "   'Space': 'Main',\n",
       "   'name': 'WindowSW_main',\n",
       "   'type': 'single'},\n",
       "  {'Area': 15.125,\n",
       "   'Direction': 'SW',\n",
       "   'Space': 'Other',\n",
       "   'name': 'WindowSW_other',\n",
       "   'type': 'single'},\n",
       "  {'Area': 7.5625,\n",
       "   'Direction': 'SW',\n",
       "   'Space': 'Nonliving',\n",
       "   'name': 'WindowSW_nonliving',\n",
       "   'type': 'single'},\n",
       "  {'Area': 0.7925,\n",
       "   'Direction': 'NW',\n",
       "   'Space': 'Main',\n",
       "   'name': 'WindowNW_main',\n",
       "   'type': 'single'},\n",
       "  {'Area': 1.585,\n",
       "   'Direction': 'NW',\n",
       "   'Space': 'Other',\n",
       "   'name': 'WindowNW_other',\n",
       "   'type': 'single'},\n",
       "  {'Area': 0.7925,\n",
       "   'Direction': 'NW',\n",
       "   'Space': 'Nonliving',\n",
       "   'name': 'WindowNW_nonliving',\n",
       "   'type': 'single'}]}"
      ]
     },
     "execution_count": 30,
     "metadata": {},
     "output_type": "execute_result"
    }
   ],
   "source": [
    "d = {\n",
    "    'Common': {'MainOccupantRoomFloorArea': 30.0, 'OtherOccupantRoomFloorArea': 60.0, 'Region': 6, 'TotalFloorArea': 120.0},\n",
    "    'Doors': [\n",
    "        {'Area': 0.63, 'Direction': 'NW', 'name': 'DoorNW_main', 'Space': 'Main'},\n",
    "        {'Area': 1.26, 'Direction': 'NW', 'name': 'DoorNW_other', 'Space': 'Other'},\n",
    "        {'Area': 0.63, 'Direction': 'NW', 'name': 'DoorNW_nonliving', 'Space': 'Nonliving'},\n",
    "        {'Area': 0.54, 'Direction': 'NE', 'name': 'DoorNE_main', 'Space': 'Main'},\n",
    "        {'Area': 1.08, 'Direction': 'NE', 'name': 'DoorNE_other', 'Space': 'Other'},\n",
    "        {'Area': 0.54, 'Direction': 'NE', 'name': 'DoorNE_nonliving', 'Space': 'Nonliving'}\n",
    "     ],\n",
    "    'EarthfloorPerimeters': [\n",
    "        {'Direction': 'NW', 'length': 2.43, 'name': 'other_NW', 'psi': 1.8, 'Space': 'Underfloor'},\n",
    "        {'Direction': 'NE', 'length': 2.43, 'name': 'other_NE', 'psi': 1.8, 'Space': 'Underfloor'}\n",
    "    ],\n",
    "    'EarthFloors': [\n",
    "        {'Area': 30.0, 'Name': 'Main', 'Space': 'Main'},\n",
    "        {'Area': 5.0, 'Name': 'Entrance', 'Space': 'Nonliving'}\n",
    "    ],\n",
    "    'Walls': [\n",
    "        {'Area': 16.95, 'Direction': 'top', 'name': 'Ceiling_main', 'Space': 'Main', 'structure': 'wood', 'Type': 'Ceiling'},\n",
    "        {'Area': 33.9, 'Direction': 'top', 'name': 'Ceiling_other', 'Space': 'Other', 'structure': 'wood', 'Type': 'Ceiling'},\n",
    "        {'Area': 16.95, 'Direction': 'top', 'name': 'Ceiling_nonliving', 'Space': 'Nonliving', 'structure': 'wood', 'Type': 'Ceiling'},\n",
    "        {'Area': 10.1575, 'Direction': 'SW', 'name': 'Wall_SW_main', 'Space': 'Main', 'structure': 'wood', 'Type': 'Wall'},\n",
    "        {'Area': 20.315, 'Direction': 'SW', 'name': 'Wall_SW_other', 'Space': 'Other', 'structure': 'wood', 'Type': 'Wall'},\n",
    "        {'Area': 10.1575, 'Direction': 'SW', 'name': 'Wall_SW_nonliving', 'Space': 'Nonliving', 'structure': 'wood', 'Type': 'Wall'}\n",
    "    ],\n",
    "    'Windows': [\n",
    "        {'Area': 7.5625, 'Direction': 'SW', 'name': 'WindowSW_main', 'Space': 'Main', 'type': 'single'},\n",
    "        {'Area': 15.125, 'Direction': 'SW', 'name': 'WindowSW_other', 'Space': 'Other', 'type': 'single'},\n",
    "        {'Area': 7.5625, 'Direction': 'SW', 'name': 'WindowSW_nonliving',  'Space': 'Nonliving', 'type': 'single'},\n",
    "        {'Area': 0.7925, 'Direction': 'NW', 'name': 'WindowNW_main', 'Space': 'Main', 'type': 'single'},\n",
    "        {'Area': 1.585, 'Direction': 'NW', 'name': 'WindowNW_other', 'Space': 'Other', 'type': 'single'},\n",
    "        {'Area': 0.7925, 'Direction': 'NW', 'name': 'WindowNW_nonliving', 'Space': 'Nonliving', 'type': 'single'}\n",
    "        ]\n",
    "}\n",
    "\n",
    "convert(d)"
   ]
  },
  {
   "cell_type": "raw",
   "metadata": {
    "collapsed": true
   },
   "source": []
  }
 ],
 "metadata": {
  "kernelspec": {
   "display_name": "Python 3",
   "language": "python",
   "name": "python3"
  },
  "language_info": {
   "codemirror_mode": {
    "name": "ipython",
    "version": 3
   },
   "file_extension": ".py",
   "mimetype": "text/x-python",
   "name": "python",
   "nbconvert_exporter": "python",
   "pygments_lexer": "ipython3",
   "version": "3.6.3"
  }
 },
 "nbformat": 4,
 "nbformat_minor": 2
}
