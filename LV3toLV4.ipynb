{
 "cells": [
  {
   "cell_type": "code",
   "execution_count": 1,
   "metadata": {
    "collapsed": true
   },
   "outputs": [],
   "source": [
    "import copy\n",
    "import math"
   ]
  },
  {
   "cell_type": "markdown",
   "metadata": {},
   "source": [
    "# 外皮情報LV3からLV4へのコンバート"
   ]
  },
  {
   "cell_type": "markdown",
   "metadata": {},
   "source": [
    "## 1. 外皮性能計算プログラム＋外皮用途別情報\n",
    "\n",
    "- 外皮性能計算プログラムに、外皮の用途別情報を追加したものより、内壁等（建物内部の壁、天井、床）の面積の推定および熱貫流率の決定を行う。\n",
    "- 外皮の用途別情報が入力された場合において床下空間に属する土間床等面積が0㎡より大きい場合、室と床下空間の間の床の面積の合計は、床下空間に属する土間床等面積の合計（ただし、室用途別の床面積と方位が「下面」の部位面積の差分の合計を上限とする）に等しいとみなす。室と床下空間の間の床は、室用途別の床面積と方位が「下面」の部位面積の差分に応じて、各用途に割り当てる。\n",
    "- 室と床下空間の間の床は、仕様を想定して与える（合板12mm、参考：SimHeatでの熱負荷計算用の無断熱の層構成）。\n",
    "- 内壁等の面積は、室の周長を求める際の係数（アスペクト比）と階高を仮定して、外皮の用途別情報および用途別床面積より推定する。主たる居室―非居室間、その他居室―非居室間は、それぞれ、各用途の床面積が0㎡より大きい場合は、居室と非居室は幅1m、高さ2m以上の通路等で繋がっていると想定する。\n",
    "- 内壁等の熱貫流率は一般的な仕様を想定して与える（石膏ボード12.5mm－空気層－石膏ボード12.5mm、参考：SimHeatでの熱負荷計算用の無断熱の層構成）。室内戸は考慮しない。\n",
    "- その他は、内壁の用途別情報が得られている場合と同様に求める。"
   ]
  },
  {
   "cell_type": "markdown",
   "metadata": {},
   "source": [
    "### 1) 内壁等の構成等の設定"
   ]
  },
  {
   "cell_type": "markdown",
   "metadata": {},
   "source": [
    "#### Outline"
   ]
  },
  {
   "cell_type": "markdown",
   "metadata": {},
   "source": [
    "- 内壁：せっこうボード12.5mm＋非密閉空気層＋せっこうボード12.5mm\n",
    "- 内壁床：合板12mm"
   ]
  },
  {
   "cell_type": "markdown",
   "metadata": {},
   "source": [
    "内壁構成\n",
    "\n",
    "| 材料 | 厚さ, m | 熱伝導率, W m<sup>-1</sup> K<sup>-1</sup> | 熱抵抗, m<sup>2</sup>2 k W<sup>-1</sup> | 容積比熱, J L<sup>-1</sup> K<sup>-1</sup> |\n",
    "|---|---|---|---|\n",
    "| Ro | - | - | 0.090 | 0 |\n",
    "| せっこうボード | 0.0095 | 0.22 | 0.043 | 830 |\n",
    "| 非密閉空気層 |  |  | 0.090 | 0 |\n",
    "| せっこうボード | 0.0095 | 0.22 | 0.043 | 830 |\n",
    "| Ri | - | - | 0.090 | 0 |"
   ]
  },
  {
   "cell_type": "markdown",
   "metadata": {},
   "source": [
    "内壁床構成\n",
    "\n",
    "| 材料 | 厚さ, m | 熱伝導率, W m<sup>-1</sup> K<sup>-1</sup> | 熱抵抗, m<sup>2</sup>2 k W<sup>-1</sup> | 容積比熱, J L<sup>-1</sup> K<sup>-1</sup> |\n",
    "|---|---|---|---|\n",
    "| Ro | - | - | 0.150 | 0 |\n",
    "| 合板 | 0.012 | 0.16 | 0.075 | 720 |\n",
    "| Ri | - | - | 0.150 | 0 |"
   ]
  },
  {
   "cell_type": "markdown",
   "metadata": {},
   "source": [
    "#### Function"
   ]
  },
  {
   "cell_type": "code",
   "execution_count": 2,
   "metadata": {
    "collapsed": true
   },
   "outputs": [],
   "source": [
    "def get_innerwall( type ) :\n",
    "    # type is the inner wall type as string, -\n",
    "\n",
    "    innerwall = {}\n",
    "    if type == 'innerwall' :\n",
    "        innerwall ={\n",
    "            'Name'      : 'Innerwall',\n",
    "            'Type'      : 'Innerwall',\n",
    "            'Structure' : 'Wood',\n",
    "            'Parts'     : {\n",
    "                'AreaRatio': 1.0,\n",
    "                'Layers'   : [ \n",
    "                    {'Name': 'GPB', 'Cond': 0.22, 'Thick': 0.0125, 'SpecH': 830.0},\n",
    "                    {'Name': 'GPB', 'Cond': 1/0.09, 'Thick': 1, 'SpecH': 0},\n",
    "                    {'Name': 'GPB', 'Cond': 0.22, 'Thick': 0.0125, 'SpecH': 830.0}\n",
    "                 ]\n",
    "            }\n",
    "        }\n",
    "    elif type == 'innerfloor' :\n",
    "        innerwall ={\n",
    "            'Name'      : 'Innerfloor',\n",
    "            'Type'      : 'Innerfloor',\n",
    "            'Structure' : 'Wood',\n",
    "            'Direction' : 'Bottom',\n",
    "            'Parts'     : {\n",
    "                'AreaRatio': 1.0,\n",
    "                'Layers'   : [ {'Name': 'PED', 'Cond': 0.16, 'Thick': 0.012, 'SpecH': 720.0} ]\n",
    "            }\n",
    "        }\n",
    "    else :\n",
    "        raise ValueError\n",
    "    \n",
    "    return innerwall"
   ]
  },
  {
   "cell_type": "markdown",
   "metadata": {},
   "source": [
    "#### Example"
   ]
  },
  {
   "cell_type": "code",
   "execution_count": 3,
   "metadata": {},
   "outputs": [
    {
     "data": {
      "text/plain": [
       "{'Name': 'Innerwall',\n",
       " 'Parts': {'AreaRatio': 1.0,\n",
       "  'Layers': [{'Cond': 0.22, 'Name': 'GPB', 'SpecH': 830.0, 'Thick': 0.0125},\n",
       "   {'Cond': 11.11111111111111, 'Name': 'GPB', 'SpecH': 0, 'Thick': 1},\n",
       "   {'Cond': 0.22, 'Name': 'GPB', 'SpecH': 830.0, 'Thick': 0.0125}]},\n",
       " 'Structure': 'Wood',\n",
       " 'Type': 'Innerwall'}"
      ]
     },
     "execution_count": 3,
     "metadata": {},
     "output_type": "execute_result"
    }
   ],
   "source": [
    "get_innerwall('innerwall')"
   ]
  },
  {
   "cell_type": "code",
   "execution_count": 4,
   "metadata": {},
   "outputs": [
    {
     "data": {
      "text/plain": [
       "{'Direction': 'Bottom',\n",
       " 'Name': 'Innerfloor',\n",
       " 'Parts': {'AreaRatio': 1.0,\n",
       "  'Layers': [{'Cond': 0.16, 'Name': 'PED', 'SpecH': 720.0, 'Thick': 0.012}]},\n",
       " 'Structure': 'Wood',\n",
       " 'Type': 'Innerfloor'}"
      ]
     },
     "execution_count": 4,
     "metadata": {},
     "output_type": "execute_result"
    }
   ],
   "source": [
    "get_innerwall('innerfloor')"
   ]
  },
  {
   "cell_type": "markdown",
   "metadata": {},
   "source": [
    "### 2) 床下空間上の床面積の推定"
   ]
  },
  {
   "cell_type": "markdown",
   "metadata": {},
   "source": [
    "#### Outline"
   ]
  },
  {
   "cell_type": "markdown",
   "metadata": {},
   "source": [
    "$$ \\qquad\n",
    "A_{dif}=max(0,A_m -\\sum_{i}^{}A_{of,m,i}) + max(0,A_o-\\sum_{i}^{}A_{of,o,i}) + max(0,A_n-\\sum_{i}^{}A_{of,n,i})\n",
    "\\qquad\n",
    "$$\n",
    "$$ \\qquad\n",
    "A_{b}= min(A_{dif}, \\sum_{i}^{}A_{b,i})\n",
    "\\qquad\n",
    "$$\n",
    "$$ \\qquad\n",
    "A_{b,m}= A_{b} \\times \\frac{ max(0,A_m - \\sum_{i}^{}A_{of,m,i}) }{ A_{dif} }\n",
    "\\qquad\n",
    "$$\n",
    "$$ \\qquad\n",
    "A_{b,o}= A_{b} \\times \\frac{ max(0,A_o - \\sum_{i}^{}A_{of,o,i}) }{ A_{dif} }\n",
    "\\qquad\n",
    "$$\n",
    "$$ \\qquad\n",
    "A_{b,n}= A_{b} \\times \\frac{ max(0,A_n - \\sum_{i}^{}A_{of,n,i}) }{ A_{dif} }\n",
    "\\qquad\n",
    "$$"
   ]
  },
  {
   "cell_type": "markdown",
   "metadata": {},
   "source": [
    "$A_{b,m}$: 主たる居室と床下空間の間の床の面積, m<sup>2</sup>  \n",
    "$A_{b,o}$: その他の居室と床下空間の間の床の面積, m<sup>2</sup>  \n",
    "$A_{b,n}$: 非居室と床下空間の間の床の面積, m<sup>2</sup>  \n",
    "$A_b$: 室と床下空間の間の床面積の合計, m<sup>2</sup>\n",
    "\n",
    "$A_m$: 主たる居室の床面積, m<sup>2</sup>  \n",
    "$A_o$: その他の居室の床面積, m<sup>2</sup>  \n",
    "$A_n$: 非居室の床面積, m<sup>2</sup>   \n",
    "$A_{of,m,i}$: 方位が「下面」である主たる居室の外皮の部位(一般部位又は開口部)$i$の面積, m<sup>2</sup>  \n",
    "$A_{of,o,i}$: 方位が「下面」であるその他の居室の外皮の部位(一般部位又は開口部)$i$の面積, m<sup>2</sup>  \n",
    "$A_{of,n,i}$: 方位が「下面」である非居室の外皮の部位(一般部位又は開口部)$i$の面積, m<sup>2</sup>  \n",
    "$A_{b,i}$: 床下空間に属する土間床等の部位$i$の面積, m<sup>2</sup>"
   ]
  },
  {
   "cell_type": "markdown",
   "metadata": {},
   "source": [
    "#### Function 1"
   ]
  },
  {
   "cell_type": "markdown",
   "metadata": {},
   "source": [
    "##### 用途別床面積を取得する関数"
   ]
  },
  {
   "cell_type": "code",
   "execution_count": 38,
   "metadata": {
    "collapsed": true
   },
   "outputs": [],
   "source": [
    "def get_area_floor( d ):\n",
    "    area_floor={\n",
    "        'main': d['Common']['MainOccupantRoomFloorArea'],\n",
    "        'other': d['Common']['OtherOccupantRoomFloorArea'],\n",
    "        'nonliving': d['Common']['TotalFloorArea'] - d['Common']['MainOccupantRoomFloorArea'] - d['Common']['OtherOccupantRoomFloorArea']\n",
    "    }\n",
    "    return area_floor"
   ]
  },
  {
   "cell_type": "markdown",
   "metadata": {},
   "source": [
    "#### Function 2"
   ]
  },
  {
   "cell_type": "markdown",
   "metadata": {},
   "source": [
    "##### 床下空間上の床面積を推定する関数"
   ]
  },
  {
   "cell_type": "code",
   "execution_count": 57,
   "metadata": {},
   "outputs": [],
   "source": [
    "def get_area_floor_over_underfloor( d, definition_space ):\n",
    "    \n",
    "    # 用途別床面積の取得\n",
    "    area_floor = get_area_floor( d )\n",
    "    \n",
    "    # 下面（direction:Bottom）の壁・窓・ドア面積の取得\n",
    "    area_bottom = {}\n",
    "    area_dif= {}\n",
    "    for x in definition_space['space'] :\n",
    "        area_bottom[x] = sum(y['area'] for y in d['Walls']+d['Windows']+d['Doors'] if y['space']==x and y['direction']== 'Bottom' )\n",
    "        area_dif[x]=max(0, area_floor[x]-area_bottom[x])\n",
    "    area_dif_sum = sum(area_dif[x] for x in definition_space['space'])\n",
    "    \n",
    "    # 床下空間に属する土間床等の面積の取得\n",
    "    area_earthfloor_underfloor= sum(earthfloor['area'] for earthfloor in d['Earthfloors'] if earthfloor['space']=='underfloor' )\n",
    "    \n",
    "    #  室と床下空間の間の床面積の推定\n",
    "    area_floor_over_underfloor_sum = min( area_dif_sum,area_earthfloor_underfloor)\n",
    "    area_floor_over_underfloor = {}\n",
    "    for x in definition_space['space'] :\n",
    "        area_floor_over_underfloor[x] = area_floor_over_underfloor_sum*area_dif[x]/area_dif_sum\n",
    "        \n",
    "    return area_floor_over_underfloor"
   ]
  },
  {
   "cell_type": "markdown",
   "metadata": {},
   "source": [
    "#### Example"
   ]
  },
  {
   "cell_type": "code",
   "execution_count": 61,
   "metadata": {},
   "outputs": [
    {
     "data": {
      "text/plain": [
       "{'main': 0.0, 'nonliving': 32.0, 'other': 8.0}"
      ]
     },
     "execution_count": 61,
     "metadata": {},
     "output_type": "execute_result"
    }
   ],
   "source": [
    "definition_space={\n",
    "    'space':['main', 'other', 'nonliving' ],\n",
    "    'spaces':['main to other', 'main to nonliving', 'other to nonliving' ],\n",
    "    'correspondence':{\n",
    "        'main to other': ['main', 'other' ],\n",
    "        'main to nonliving': ['main', 'nonliving' ],\n",
    "        'other to nonliving': ['other', 'nonliving' ] \n",
    "    }  \n",
    "}\n",
    "\n",
    "d = {\n",
    "    'Common': {\n",
    "        'Region': 6,\n",
    "        'MainOccupantRoomFloorArea': 30.0,\n",
    "        'OtherOccupantRoomFloorArea': 30.0,\n",
    "        'TotalFloorArea': 120.0\n",
    "    },\n",
    "    'Walls': [\n",
    "        { 'area': 60, 'direction': 'Top', 'name': 'Ceiling', 'space': 'main', 'structure': 'wood', 'type': 'ceiling' },\n",
    "        { 'area': 15, 'direction': 'Bottom', 'name': 'Floor', 'space': 'other', 'structure': 'wood', 'type': 'floor' },\n",
    "    ],\n",
    "    'Windows': [\n",
    "        { 'area': 30, 'direction': 'SW', 'name': 'WindowSW', 'space': 'main', 'type': 'single' },\n",
    "        { 'area': 75, 'direction': 'Bottom', 'name': 'WindowBottom', 'space': 'main', 'type': 'single' },\n",
    "    ],\n",
    "    'Doors': [\n",
    "        { 'area': 15, 'direction': 'NW', 'name': 'DoorNW', 'space': 'nonliving' },\n",
    "        { 'area': 15, 'direction': 'NE', 'name': 'DoorNE', 'space': 'other' }\n",
    "    ],\n",
    "    'Earthfloors': [\n",
    "        { 'area': 40, 'name': 'other', 'space': 'underfloor' },\n",
    "        { 'area': 20, 'name': 'entrance', 'space': 'nonliving' }\n",
    "    ]\n",
    "}\n",
    "\n",
    "get_area_floor_over_underfloor(d, definition_space)"
   ]
  },
  {
   "cell_type": "markdown",
   "metadata": {},
   "source": [
    "### 3) 内壁等面積の推定"
   ]
  },
  {
   "cell_type": "markdown",
   "metadata": {},
   "source": [
    "#### Outline"
   ]
  },
  {
   "cell_type": "markdown",
   "metadata": {},
   "source": [
    "$$ \\qquad \n",
    "A_{iw,m}=0 \\quad\n",
    "(\\quad\n",
    "A_m=0\\quad)\n",
    "\\qquad\n",
    "\\\\\n",
    "$$\n",
    "$$ \\qquad \n",
    "A_{iw,o}=0 \\quad\n",
    "(\\quad\n",
    "A_o=0\\quad)\n",
    "\\qquad\n",
    "\\\\\n",
    "$$\n",
    "$$ \\qquad \n",
    "A_{iw,n}=0 \\quad\n",
    "(\\quad\n",
    "A_n=0\\quad)\n",
    "\\qquad\n",
    "\\\\\n",
    "$$\n",
    "\n",
    "$$ \\qquad\n",
    "A_{iw,m}=A_{w,m}-A_{ow,m}=max(0,(2A_m+4ah\\sqrt {A_m})-A_{ow,m}) \\quad\n",
    "(\\quad\n",
    "A_m>0\\quad)\n",
    "\\qquad\n",
    "\\\\\n",
    "$$\n",
    "$$ \\qquad\n",
    "A_{iw,o}=A_{w,o}-A_{ow,o}=max(0,(2A_o+4ah\\sqrt {A_o})-A_{ow,o}) \\quad\n",
    "(\\quad\n",
    "A_o>0\\quad)\n",
    "\\qquad\n",
    "\\\\\n",
    "$$$$ \\qquad\n",
    "A_{iw,n}=A_{w,n}-A_{ow,n}=max(0,(2A_n+4ah\\sqrt {A_n})-A_{ow,n}) \\quad\n",
    "(\\quad\n",
    "A_n>0\\quad)\n",
    "\\qquad\n",
    "\\\\\n",
    "$$"
   ]
  },
  {
   "cell_type": "markdown",
   "metadata": {},
   "source": [
    "$$ \\qquad\n",
    "A_{iw,m} =A_{iw,m-o}+A_{iw,m-n}\\quad, \\quad\n",
    "A_{iw,o} =A_{iw,m-o}+A_{iw,o-n}\\quad, \\quad\n",
    "A_{iw,n} =A_{iw,m-o}+A_{iw,o-n}\\quad\n",
    "\\qquad\n",
    "\\\\\n",
    "$$　より"
   ]
  },
  {
   "cell_type": "markdown",
   "metadata": {},
   "source": [
    "$$ \\qquad \n",
    "A_{iw,m-o}=0 \\quad\n",
    "(\\quad\n",
    "A_m=0\\quad or \\quad\n",
    "A_o=0\\quad)\n",
    "\\qquad\n",
    "\\\\\n",
    "$$\n",
    "$$ \\qquad \n",
    "A_{iw,m-n}=0 \\quad\n",
    "(\\quad\n",
    "A_m=0\\quad or \\quad\n",
    "A_n=0\\quad)\n",
    "\\qquad\n",
    "\\\\\n",
    "$$\n",
    "$$ \\qquad \n",
    "A_{iw,o-n}=0 \\quad\n",
    "(\\quad\n",
    "A_o=0\\quad or \\quad\n",
    "A_n=0\\quad)\n",
    "\\qquad\n",
    "\\\\\n",
    "$$\n",
    "\n",
    "$$ \\qquad\n",
    "A_{iw,m-o}=max(0,\\frac{A_{iw,m}+A_{iw,o}-A_{iw,n}}{2}) \\quad\n",
    "(\\quad\n",
    "A_m>0\\quad and \\quad\n",
    "A_o>0\\quad)\n",
    "\\qquad\n",
    "\\\\\n",
    "$$\n",
    "$$ \\qquad \n",
    "A_{iw,m-n}=max(2,\\frac{A_{iw,m}-A_{iw,o}+A_{iw,n}}{2}) \\quad\n",
    "(\\quad\n",
    "A_m>0\\quad and \\quad\n",
    "A_n>0\\quad)\n",
    "\\qquad\n",
    "\\\\\n",
    "$$\n",
    "$$ \\qquad \n",
    "A_{iw,o-n}=max(2,\\frac{-A_{iw,m}+A_{iw,o}+A_{iw,n}}{2}) \\quad\n",
    "(\\quad\n",
    "A_o>0\\quad and \\quad\n",
    "A_n>0\\quad)\n",
    "\\qquad\n",
    "\\\\\n",
    "$$"
   ]
  },
  {
   "cell_type": "markdown",
   "metadata": {},
   "source": [
    "$A_{w,m}$: 主たる居室の外皮と、主たる居室と床下空間の間の床と、主たる居室の内壁等の面積の合計, m<sup>2</sup>  \n",
    "$A_{w,o}$: その他の居室の外皮と、その他の居室と床下空間の間の床と、その他の居室の内壁等の面積の合計, m<sup>2</sup>  \n",
    "$A_{w,n}$: 非居室の外皮と、非居室と床下空間の間の床と、非居室の内壁等の面積の合計, m<sup>2</sup>  \n",
    "$A_{iw,m}$: 主たる居室の内壁等の面積, m<sup>2</sup>  \n",
    "$A_{iw,o}$: その他の居室の内壁等の面積, m<sup>2</sup>  \n",
    "$A_{iw,n}$: 非居室の内壁等の面積, m<sup>2</sup>  \n",
    "$A_{iw,m-o}$: 主たる居室とその他の居室の間の内壁等の面積, m<sup>2</sup>  \n",
    "$A_{iw,m-n}$: 主たる居室と非居室の間の内壁等の面積, m<sup>2</sup>  \n",
    "$A_{iw,o-n}$: その他の居室と非居室の間の内壁等の面積, m<sup>2</sup>  \n",
    "\n",
    "$A_{ow,m}$: 主たる居室の外皮と、主たる居室と床下空間の間の床の面積の合計, m<sup>2</sup>  \n",
    "$A_{ow,o}$: その他の居室の外皮と、その他の居室と床下空間の間の床の面積の合計, m<sup>2</sup>  \n",
    "$A_{ow,n}$: 非居室の外皮と、非居室と床下空間の間の床の面積の合計, m<sup>2</sup>  \n",
    "$ar_m$: 主たる居室の周長を求める際の係数, -  \n",
    "$ar_o$: その他の居室の周長を求める際の係数, -  \n",
    "$ar_n$: 非居室の周長を求める際の係数, -  \n",
    "$h$: 階高, m"
   ]
  },
  {
   "cell_type": "markdown",
   "metadata": {},
   "source": [
    "#### Function"
   ]
  },
  {
   "cell_type": "markdown",
   "metadata": {},
   "source": [
    "##### 内壁等の面積を推定する関数"
   ]
  },
  {
   "cell_type": "code",
   "execution_count": 10,
   "metadata": {},
   "outputs": [],
   "source": [
    "def get_area_inner_wall( d, h, ar, definition_space, area_inner_wall_min ):\n",
    "    # h is the floor height as double, m\n",
    "    # ar is the aspect ratio of the space as double, -\n",
    "    # area_min is the minimum area between 2 spaces as float, m2 \n",
    "    \n",
    "    # 用途別床面積の取得\n",
    "    area_floor=get_area_floor( d )\n",
    " \n",
    "    # 外皮と、床下空間の間の床の面積の合計の取得  \n",
    "    # 室用途別の内壁等の面積の推\n",
    "    d_ow=[]\n",
    "    for y in ['Walls','Windows','Doors','InnerWalls'] :\n",
    "        if (y in d) == True :\n",
    "            d_ow=d_ow+d[y]  \n",
    "            \n",
    "    area_inner_wall_space={}            \n",
    "    for x in definition_space['space'] :\n",
    "        if area_floor[x]==0 :\n",
    "            area_inner_wall_space[x]=0           \n",
    "        else :\n",
    "            area_ow = sum(y['area'] for y in d_ow if y['space']== x )\n",
    "            area_inner_wall_space[x]=max(0,2*area_floor[x]+4*h*ar[x]*area_floor[x]**0.5-area_ow)\n",
    "    \n",
    "    # 室用途間の内壁等の面積の推定\n",
    "    # 室用途床面積が0㎡の場合に、室間の内壁等の面積を0㎡とする\n",
    "    area_inner_wall={}\n",
    "    for x in definition_space['spaces'] :        \n",
    "        if min(area_floor[y] for y in definition_space['correspondence'][x])==0 :\n",
    "            area_inner_wall[x]=0\n",
    "        else :\n",
    "            area_inner_wall[x]=max(area_inner_wall_min[x],\n",
    "                                    (2*sum(area_inner_wall_space[y] for y in definition_space['correspondence'][x])\n",
    "                                    - sum(area_inner_wall_space[y] for y in definition_space['space']) )/2)\n",
    "    \n",
    "    return area_inner_wall"
   ]
  },
  {
   "cell_type": "markdown",
   "metadata": {},
   "source": [
    "#### Example"
   ]
  },
  {
   "cell_type": "code",
   "execution_count": 11,
   "metadata": {},
   "outputs": [
    {
     "data": {
      "text/plain": [
       "{'main to nonliving': 0,\n",
       " 'main to other': 135.28127504155998,\n",
       " 'other to nonliving': 0}"
      ]
     },
     "execution_count": 11,
     "metadata": {},
     "output_type": "execute_result"
    }
   ],
   "source": [
    "d = {\n",
    "    'Common': {\n",
    "        'Region': 6,\n",
    "        'MainOccupantRoomFloorArea': 60.0,\n",
    "        'OtherOccupantRoomFloorArea': 60.0,\n",
    "        'TotalFloorArea': 120.0\n",
    "    },\n",
    "    'Walls': [\n",
    "        { 'area': 60, 'direction': 'Top', 'name': 'Ceiling', 'space': 'main', 'structure': 'wood', 'type': 'ceiling' },\n",
    "        { 'area': 15, 'direction': 'Bottom', 'name': 'Floor', 'space': 'other', 'structure': 'wood', 'type': 'floor' },\n",
    "    ],\n",
    "    'Windows': [\n",
    "        { 'area': 30, 'direction': 'SW', 'name': 'WindowSW', 'space': 'main', 'type': 'single' },\n",
    "        { 'area': 75, 'direction': 'Bottom', 'name': 'WindowBottom', 'space': 'other', 'type': 'single' },\n",
    "    ],\n",
    "    'Doors': [\n",
    "        { 'area': 15, 'direction': 'NW', 'name': 'DoorNW', 'space': 'nonliving' },\n",
    "        { 'area': 15, 'direction': 'NE', 'name': 'DoorNE', 'space': 'other' }\n",
    "    ],\n",
    "    'Earthfloors': [\n",
    "        { 'area': 40, 'name': 'other', 'space': 'underfloor' },\n",
    "        { 'area': 20, 'name': 'entrance', 'space': 'nonliving' }\n",
    "    ]\n",
    "}\n",
    "\n",
    "# 階高, m\n",
    "h=2.8\n",
    "\n",
    "# 周長を求める際の係数, -\n",
    "ar={'main':1.2, 'other':1.4, 'nonliving':1.4 }\n",
    "\n",
    "# 室間の内壁等の面積の最小値, m2\n",
    "area_inner_wall_min={ 'main to other':0.0, 'main to nonliving':2.0, 'other to nonliving':2.0 }\n",
    "\n",
    "# 用途と複数用途間の対応関係の定義\n",
    "definition_space={\n",
    "    'space':['main', 'other', 'nonliving' ],\n",
    "    'spaces':['main to other', 'main to nonliving', 'other to nonliving' ],\n",
    "    'correspondence':{\n",
    "        'main to other': ['main', 'other' ],\n",
    "        'main to nonliving': ['main', 'nonliving' ],\n",
    "        'other to nonliving': ['other', 'nonliving' ] \n",
    "    }  \n",
    "}\n",
    "\n",
    "get_area_inner_wall( d, h, ar, definition_space, area_inner_wall_min )"
   ]
  },
  {
   "cell_type": "markdown",
   "metadata": {},
   "source": [
    "## 2. Convert"
   ]
  },
  {
   "cell_type": "markdown",
   "metadata": {},
   "source": [
    "### 1) 共通"
   ]
  },
  {
   "cell_type": "markdown",
   "metadata": {},
   "source": [
    "'Common'要素はそのまま維持する。"
   ]
  },
  {
   "cell_type": "markdown",
   "metadata": {},
   "source": [
    "参照：InputDataDefinition.ipynb"
   ]
  },
  {
   "cell_type": "markdown",
   "metadata": {},
   "source": [
    "#### Output"
   ]
  },
  {
   "cell_type": "markdown",
   "metadata": {},
   "source": [
    "参照：InputDataDefinition.ipynb"
   ]
  },
  {
   "cell_type": "markdown",
   "metadata": {},
   "source": [
    "#### Function"
   ]
  },
  {
   "cell_type": "code",
   "execution_count": 12,
   "metadata": {
    "collapsed": true
   },
   "outputs": [],
   "source": [
    "def convert_common(d):\n",
    "    return d['Common']"
   ]
  },
  {
   "cell_type": "markdown",
   "metadata": {},
   "source": [
    "#### Example"
   ]
  },
  {
   "cell_type": "code",
   "execution_count": 13,
   "metadata": {},
   "outputs": [
    {
     "data": {
      "text/plain": [
       "{'IsSimplifiedInput': True,\n",
       " 'MainOccupantRoomFloorArea': 30.0,\n",
       " 'OtherOccupantRoomFloorArea': 60.0,\n",
       " 'Region': 6,\n",
       " 'TotalFloorArea': 120.0}"
      ]
     },
     "execution_count": 13,
     "metadata": {},
     "output_type": "execute_result"
    }
   ],
   "source": [
    "d = {\n",
    "    'Common': {\n",
    "        'Region' : 6,\n",
    "        'IsSimplifiedInput': True,\n",
    "        'MainOccupantRoomFloorArea': 30.0,\n",
    "        'OtherOccupantRoomFloorArea': 60.0,\n",
    "        'TotalFloorArea': 120.0\n",
    "    }\n",
    "}\n",
    "\n",
    "convert_common(d)"
   ]
  },
  {
   "cell_type": "markdown",
   "metadata": {},
   "source": [
    "### 2) 開口部以外の不透明部位"
   ]
  },
  {
   "cell_type": "markdown",
   "metadata": {},
   "source": [
    "'Walls'要素はそのまま維持する。"
   ]
  },
  {
   "cell_type": "markdown",
   "metadata": {},
   "source": [
    "#### Function"
   ]
  },
  {
   "cell_type": "code",
   "execution_count": 14,
   "metadata": {
    "collapsed": true
   },
   "outputs": [],
   "source": [
    "def convert_wall(d):\n",
    "    return d['Walls']"
   ]
  },
  {
   "cell_type": "markdown",
   "metadata": {},
   "source": [
    "#### Example"
   ]
  },
  {
   "cell_type": "code",
   "execution_count": 15,
   "metadata": {},
   "outputs": [
    {
     "data": {
      "text/plain": [
       "[{'area': 16.95, 'direction': 'top', 'name': 'Ceiling_main', 'space': 'main'},\n",
       " {'area': 33.9, 'direction': 'top', 'name': 'Ceiling_other', 'space': 'other'},\n",
       " {'area': 16.95,\n",
       "  'direction': 'top',\n",
       "  'name': 'Ceiling_nonliving',\n",
       "  'space': 'nonliving'},\n",
       " {'area': 10.1575, 'direction': 'SW', 'name': 'Wall_SW_main', 'space': 'main'},\n",
       " {'area': 20.315,\n",
       "  'direction': 'SW',\n",
       "  'name': 'Wall_SW_other',\n",
       "  'space': 'other'},\n",
       " {'area': 10.1575,\n",
       "  'direction': 'SW',\n",
       "  'name': 'Wall_SW_nonliving',\n",
       "  'space': 'nonliving'}]"
      ]
     },
     "execution_count": 15,
     "metadata": {},
     "output_type": "execute_result"
    }
   ],
   "source": [
    "d = {\n",
    "    'Common': {\n",
    "        'MainOccupantRoomFloorArea': 30.0,\n",
    "        'OtherOccupantRoomFloorArea': 60.0,\n",
    "        'TotalFloorArea': 120.0,\n",
    "    },\n",
    "    'Walls': [{'area': 16.95, 'direction': 'top', 'name': 'Ceiling_main', 'space': 'main'},\n",
    "        {'area': 33.9, 'direction': 'top', 'name': 'Ceiling_other', 'space': 'other'},\n",
    "        {'area': 16.95, 'direction': 'top', 'name': 'Ceiling_nonliving', 'space': 'nonliving'},\n",
    "        {'area': 10.1575, 'direction': 'SW', 'name': 'Wall_SW_main', 'space': 'main'},\n",
    "        {'area': 20.315, 'direction': 'SW', 'name': 'Wall_SW_other', 'space': 'other'},\n",
    "        {'area': 10.1575, 'direction': 'SW', 'name': 'Wall_SW_nonliving', 'space': 'nonliving'}\n",
    "    ]\n",
    "}    \n",
    "\n",
    "convert_wall(d)"
   ]
  },
  {
   "cell_type": "markdown",
   "metadata": {},
   "source": [
    "### 3) 開口部の透明部位"
   ]
  },
  {
   "cell_type": "markdown",
   "metadata": {},
   "source": [
    "'Windows'要素はそのまま維持する。"
   ]
  },
  {
   "cell_type": "markdown",
   "metadata": {},
   "source": [
    "#### Function"
   ]
  },
  {
   "cell_type": "code",
   "execution_count": 16,
   "metadata": {
    "collapsed": true
   },
   "outputs": [],
   "source": [
    "def convert_window(d):\n",
    "    return d['Windows']"
   ]
  },
  {
   "cell_type": "markdown",
   "metadata": {},
   "source": [
    "#### Example"
   ]
  },
  {
   "cell_type": "code",
   "execution_count": 17,
   "metadata": {},
   "outputs": [
    {
     "data": {
      "text/plain": [
       "[{'area': 7.5625, 'direction': 'SW', 'name': 'WindowSW_main', 'space': 'main'},\n",
       " {'area': 15.125,\n",
       "  'direction': 'SW',\n",
       "  'name': 'WindowSW_other',\n",
       "  'space': 'other'},\n",
       " {'area': 7.5625,\n",
       "  'direction': 'SW',\n",
       "  'name': 'WindowSW_nonliving',\n",
       "  'space': 'nonliving'},\n",
       " {'area': 0.7925, 'direction': 'NW', 'name': 'WindowNW_main', 'space': 'main'},\n",
       " {'area': 1.585,\n",
       "  'direction': 'NW',\n",
       "  'name': 'WindowNW_other',\n",
       "  'space': 'other'},\n",
       " {'area': 0.7925,\n",
       "  'direction': 'NW',\n",
       "  'name': 'WindowNW_nonliving',\n",
       "  'space': 'nonliving'}]"
      ]
     },
     "execution_count": 17,
     "metadata": {},
     "output_type": "execute_result"
    }
   ],
   "source": [
    "d = {\n",
    "    'Common': {\n",
    "        'MainOccupantRoomFloorArea': 30.0,\n",
    "        'OtherOccupantRoomFloorArea': 60.0,\n",
    "        'TotalFloorArea': 120.0,\n",
    "    },\n",
    "    'Windows': [{'area': 7.5625, 'direction': 'SW', 'name': 'WindowSW_main', 'space': 'main'},\n",
    "        {'area': 15.125, 'direction': 'SW', 'name': 'WindowSW_other', 'space': 'other'},\n",
    "        {'area': 7.5625, 'direction': 'SW', 'name': 'WindowSW_nonliving', 'space': 'nonliving'},\n",
    "        {'area': 0.7925, 'direction': 'NW', 'name': 'WindowNW_main', 'space': 'main'},\n",
    "        {'area': 1.585, 'direction': 'NW', 'name': 'WindowNW_other', 'space': 'other'},\n",
    "        {'area': 0.7925, 'direction': 'NW', 'name': 'WindowNW_nonliving', 'space': 'nonliving'}]\n",
    "}    \n",
    "\n",
    "convert_window(d)"
   ]
  },
  {
   "cell_type": "markdown",
   "metadata": {},
   "source": [
    "### 4) 開口部の不透明部位"
   ]
  },
  {
   "cell_type": "markdown",
   "metadata": {},
   "source": [
    "'Doors'要素はそのまま維持する。"
   ]
  },
  {
   "cell_type": "markdown",
   "metadata": {},
   "source": [
    "#### Function"
   ]
  },
  {
   "cell_type": "code",
   "execution_count": 18,
   "metadata": {
    "collapsed": true
   },
   "outputs": [],
   "source": [
    "def convert_door(d):\n",
    "    return d['Doors']"
   ]
  },
  {
   "cell_type": "markdown",
   "metadata": {},
   "source": [
    "#### Example"
   ]
  },
  {
   "cell_type": "code",
   "execution_count": 19,
   "metadata": {},
   "outputs": [
    {
     "data": {
      "text/plain": [
       "[{'area': 13.0, 'direction': 'NW', 'name': 'DoorNW_main', 'space': 'main'},\n",
       " {'area': 26.0, 'direction': 'NW', 'name': 'DoorNW_other', 'space': 'other'},\n",
       " {'area': 13.0,\n",
       "  'direction': 'NW',\n",
       "  'name': 'DoorNW_nonliving',\n",
       "  'space': 'nonliving'}]"
      ]
     },
     "execution_count": 19,
     "metadata": {},
     "output_type": "execute_result"
    }
   ],
   "source": [
    "d = {\n",
    "    'Common': {\n",
    "        'MainOccupantRoomFloorArea': 30.0,\n",
    "        'OtherOccupantRoomFloorArea': 60.0,\n",
    "        'TotalFloorArea': 120.0,\n",
    "    },\n",
    "    'Doors': [{'area': 13.0, 'direction': 'NW', 'name': 'DoorNW_main', 'space': 'main'},\n",
    "        {'area': 26.0, 'direction': 'NW', 'name': 'DoorNW_other', 'space': 'other'},\n",
    "        {'area': 13.0, 'direction': 'NW', 'name': 'DoorNW_nonliving', 'space': 'nonliving'}]\n",
    "}    \n",
    "convert_door(d)"
   ]
  },
  {
   "cell_type": "markdown",
   "metadata": {},
   "source": [
    "### 5) 線熱橋"
   ]
  },
  {
   "cell_type": "markdown",
   "metadata": {},
   "source": [
    "'Heatbridges'要素はそのまま維持する。"
   ]
  },
  {
   "cell_type": "markdown",
   "metadata": {},
   "source": [
    "#### Function"
   ]
  },
  {
   "cell_type": "code",
   "execution_count": 20,
   "metadata": {
    "collapsed": true
   },
   "outputs": [],
   "source": [
    "def convert_heatbridge(d):\n",
    "    return d['Heatbridges']"
   ]
  },
  {
   "cell_type": "markdown",
   "metadata": {},
   "source": [
    "#### Example"
   ]
  },
  {
   "cell_type": "code",
   "execution_count": 21,
   "metadata": {},
   "outputs": [
    {
     "data": {
      "text/plain": [
       "[{'direction1': 'NW',\n",
       "  'direction2': 'NE',\n",
       "  'length': 2.5,\n",
       "  'space': 'main',\n",
       "  'structure': 'rc'},\n",
       " {'direction1': 'NW',\n",
       "  'direction2': 'NE',\n",
       "  'length': 5.0,\n",
       "  'space': 'other',\n",
       "  'structure': 'rc'},\n",
       " {'direction1': 'NW',\n",
       "  'direction2': 'NE',\n",
       "  'length': 2.5,\n",
       "  'space': 'nonliving',\n",
       "  'structure': 'rc'}]"
      ]
     },
     "execution_count": 21,
     "metadata": {},
     "output_type": "execute_result"
    }
   ],
   "source": [
    "d = {\n",
    "    'Common': {\n",
    "        'MainOccupantRoomFloorArea': 30.0,\n",
    "        'OtherOccupantRoomFloorArea': 60.0,\n",
    "        'TotalFloorArea': 120.0,\n",
    "    },\n",
    "    'Heatbridges': [\n",
    "        {'direction1': 'NW', 'direction2': 'NE', 'length': 2.5, 'space': 'main', 'structure': 'rc'},\n",
    "        {'direction1': 'NW', 'direction2': 'NE', 'length': 5.0, 'space': 'other', 'structure': 'rc'},\n",
    "        {'direction1': 'NW', 'direction2': 'NE', 'length': 2.5, 'space': 'nonliving', 'structure': 'rc'}\n",
    "    ]\n",
    "}    \n",
    "convert_heatbridge(d)"
   ]
  },
  {
   "cell_type": "markdown",
   "metadata": {},
   "source": [
    "### 6) 土間床等の外周部の線熱橋"
   ]
  },
  {
   "cell_type": "markdown",
   "metadata": {},
   "source": [
    "'EarthfloorPerimeters'要素はそのまま維持する。"
   ]
  },
  {
   "cell_type": "markdown",
   "metadata": {},
   "source": [
    "#### Function"
   ]
  },
  {
   "cell_type": "code",
   "execution_count": 22,
   "metadata": {
    "collapsed": true
   },
   "outputs": [],
   "source": [
    "def convert_earthfloorperimeter(d):\n",
    "    return d['EarthfloorPerimeters']"
   ]
  },
  {
   "cell_type": "markdown",
   "metadata": {},
   "source": [
    "#### Example"
   ]
  },
  {
   "cell_type": "code",
   "execution_count": 23,
   "metadata": {},
   "outputs": [
    {
     "data": {
      "text/plain": [
       "[{'direction': 'NW',\n",
       "  'length': 2.43,\n",
       "  'name': 'other_NW',\n",
       "  'psi': 1.8,\n",
       "  'space': 'underfloor'},\n",
       " {'direction': 'NE',\n",
       "  'length': 2.43,\n",
       "  'name': 'other_NE',\n",
       "  'psi': 1.8,\n",
       "  'space': 'underfloor'}]"
      ]
     },
     "execution_count": 23,
     "metadata": {},
     "output_type": "execute_result"
    }
   ],
   "source": [
    "d = {\n",
    "    'EarthfloorPerimeters': [\n",
    "        {'direction': 'NW', 'length': 2.43, 'name': 'other_NW', 'psi': 1.8, 'space': 'underfloor'},\n",
    "        {'direction': 'NE', 'length': 2.43, 'name': 'other_NE', 'psi': 1.8, 'space': 'underfloor'}]\n",
    "}    \n",
    "convert_earthfloorperimeter(d)"
   ]
  },
  {
   "cell_type": "markdown",
   "metadata": {},
   "source": [
    "### 7) 土間床"
   ]
  },
  {
   "cell_type": "markdown",
   "metadata": {},
   "source": [
    "'Earthfloors'要素はそのまま維持する。"
   ]
  },
  {
   "cell_type": "markdown",
   "metadata": {},
   "source": [
    "#### Function"
   ]
  },
  {
   "cell_type": "code",
   "execution_count": 24,
   "metadata": {
    "collapsed": true
   },
   "outputs": [],
   "source": [
    "def convert_earthfloor(d):\n",
    "    return d['Earthfloors']"
   ]
  },
  {
   "cell_type": "markdown",
   "metadata": {},
   "source": [
    "#### Example"
   ]
  },
  {
   "cell_type": "code",
   "execution_count": 25,
   "metadata": {},
   "outputs": [
    {
     "data": {
      "text/plain": [
       "[{'area': 5.0, 'name': 'other', 'space': 'underfloor'}]"
      ]
     },
     "execution_count": 25,
     "metadata": {},
     "output_type": "execute_result"
    }
   ],
   "source": [
    "d = {\n",
    "    'Earthfloors': [{'area': 5.0, 'name': 'other', 'space': 'underfloor'}]\n",
    "}    \n",
    "convert_earthfloor(d)"
   ]
  },
  {
   "cell_type": "markdown",
   "metadata": {},
   "source": [
    "### 8) 内壁等"
   ]
  },
  {
   "cell_type": "markdown",
   "metadata": {},
   "source": [
    "室と床下空間の間の床、内壁等の推定を行う。"
   ]
  },
  {
   "cell_type": "markdown",
   "metadata": {},
   "source": [
    "#### Function 1"
   ]
  },
  {
   "cell_type": "markdown",
   "metadata": {},
   "source": [
    "##### 室と床下空間の間の床を推定する関数"
   ]
  },
  {
   "cell_type": "code",
   "execution_count": 26,
   "metadata": {
    "collapsed": true
   },
   "outputs": [],
   "source": [
    "def get_innerwall_floor( d, innerwalls, definition_space ):\n",
    "    \n",
    "    # 室と床下空間の間の床面積の推定\n",
    "    innerfloor_temp = get_innerwall( 'innerfloor' )\n",
    "    areas_innerfloor = get_area_floor_over_underfloor(d, definition_space)\n",
    "    \n",
    "    # 壁体名称、部位面積を更新し、「壁体が属する空間種類」「隣接空間種類」を追加する\n",
    "    for space in definition_space['space'] :\n",
    "        innerfloor = copy.deepcopy(innerfloor_temp)\n",
    "        innerfloor['Name'] = innerfloor_temp['Name'] + '_' + space \n",
    "        innerfloor['Area'] = areas_innerfloor[space]\n",
    "        innerfloor['Space'] = space\n",
    "        innerfloor['NextSpace'] = 'Underfloor'\n",
    "        innerwalls.append(innerfloor)\n",
    " \n",
    "        innerfloor_underfloor = copy.deepcopy(innerfloor)\n",
    "        innerfloor_underfloor['Space'] = 'Underfloor'\n",
    "        innerfloor_underfloor['NextSpace'] = space\n",
    "        innerwalls.append(innerfloor_underfloor)\n",
    "        \n",
    "        return innerwalls"
   ]
  },
  {
   "cell_type": "markdown",
   "metadata": {},
   "source": [
    "#### Function 2"
   ]
  },
  {
   "cell_type": "markdown",
   "metadata": {},
   "source": [
    "##### 内壁を推定する関数"
   ]
  },
  {
   "cell_type": "code",
   "execution_count": 27,
   "metadata": {
    "collapsed": true
   },
   "outputs": [],
   "source": [
    "def get_innerwall_wall( d, innerwalls, h, ar, definition_space, area_inner_wall_min ):\n",
    "\n",
    "    # 内壁面積の推定\n",
    "    innerwall_temp = get_innerwall( 'innerwall' )\n",
    "    areas_innerwall = get_area_inner_wall( d, h, ar, definition_space, area_inner_wall_min )\n",
    "    \n",
    "    # 壁体名称、部位面積を更新し、「壁体が属する空間種類」「隣接空間種類」を追加する\n",
    "    for spaces in definition_space['spaces'] :\n",
    "        innerwall = copy.deepcopy(innerwall_temp)\n",
    "        innerwall['Name'] = innerwall_temp['Name'] + '_' + spaces \n",
    "        innerwall['Area'] = areas_innerwall[spaces]\n",
    "        innerwall['Space'] = definition_space['correspondence'][spaces][0]\n",
    "        innerwall['NextSpace'] = definition_space['correspondence'][spaces][1]\n",
    "        innerwalls.append(innerwall)\n",
    "\n",
    "        innerwall_next = copy.deepcopy(innerwall)\n",
    "        innerwall_next['Space'] = definition_space['correspondence'][spaces][1]\n",
    "        innerwall_next['NextSpace'] = definition_space['correspondence'][spaces][0]\n",
    "        innerwalls.append(innerwall_next)\n",
    "\n",
    "        return innerwalls"
   ]
  },
  {
   "cell_type": "markdown",
   "metadata": {},
   "source": [
    "#### Function 3"
   ]
  },
  {
   "cell_type": "markdown",
   "metadata": {},
   "source": [
    "##### 内壁等のコンバート関数"
   ]
  },
  {
   "cell_type": "code",
   "execution_count": 28,
   "metadata": {
    "collapsed": true
   },
   "outputs": [],
   "source": [
    "def convert_innerwall( d ):\n",
    "\n",
    "    # 用途と複数用途間の対応関係の定義\n",
    "    definition_space={\n",
    "        'space':['main', 'other', 'nonliving' ],\n",
    "        'spaces':['main to other', 'main to nonliving', 'other to nonliving' ],\n",
    "        'correspondence':{\n",
    "            'main to other': ['main', 'other' ],\n",
    "            'main to nonliving': ['main', 'nonliving' ],\n",
    "            'other to nonliving': ['other', 'nonliving' ] \n",
    "        }  \n",
    "    }\n",
    "    \n",
    "    # 階高, m\n",
    "    h=2.8\n",
    "\n",
    "    # 周長を求める際の係数, -\n",
    "    ar={'main':1.2, 'other':1.4, 'nonliving':1.4 }\n",
    "\n",
    "    # 室間の内壁等の面積の最小値, m2\n",
    "    area_inner_wall_min={'main to other':0.0, 'main to nonliving':2.0, 'other to nonliving':2.0 }\n",
    "    \n",
    "    innerwalls =[]\n",
    "    \n",
    "    # 室と床下空間の間の床の推定\n",
    "    innerwalls= get_innerwall_floor( d, innerwalls, definition_space )\n",
    "    \n",
    "    # 内壁等の推定              \n",
    "    innerwalls= get_innerwall_wall( d, innerwalls, h, ar, definition_space, area_inner_wall_min )\n",
    "            \n",
    "    return innerwalls"
   ]
  },
  {
   "cell_type": "markdown",
   "metadata": {},
   "source": [
    "#### Example"
   ]
  },
  {
   "cell_type": "code",
   "execution_count": 29,
   "metadata": {},
   "outputs": [
    {
     "data": {
      "text/plain": [
       "[{'Area': 2.5,\n",
       "  'Direction': 'Bottom',\n",
       "  'Name': 'Innerfloor_main',\n",
       "  'NextSpace': 'Underfloor',\n",
       "  'Parts': {'AreaRatio': 1.0,\n",
       "   'Layers': [{'Cond': 0.16, 'Name': 'PED', 'SpecH': 720.0, 'Thick': 0.012}]},\n",
       "  'Space': 'main',\n",
       "  'Structure': 'Wood',\n",
       "  'Type': 'Innerfloor'},\n",
       " {'Area': 2.5,\n",
       "  'Direction': 'Bottom',\n",
       "  'Name': 'Innerfloor_main',\n",
       "  'NextSpace': 'main',\n",
       "  'Parts': {'AreaRatio': 1.0,\n",
       "   'Layers': [{'Cond': 0.16, 'Name': 'PED', 'SpecH': 720.0, 'Thick': 0.012}]},\n",
       "  'Space': 'Underfloor',\n",
       "  'Structure': 'Wood',\n",
       "  'Type': 'Innerfloor'},\n",
       " {'Area': 77.96138622447441,\n",
       "  'Name': 'Innerwall_main to other',\n",
       "  'NextSpace': 'other',\n",
       "  'Parts': {'AreaRatio': 1.0,\n",
       "   'Layers': [{'Cond': 0.22, 'Name': 'GPB', 'SpecH': 830.0, 'Thick': 0.0125},\n",
       "    {'Cond': 11.11111111111111, 'Name': 'GPB', 'SpecH': 0, 'Thick': 1},\n",
       "    {'Cond': 0.22, 'Name': 'GPB', 'SpecH': 830.0, 'Thick': 0.0125}]},\n",
       "  'Space': 'main',\n",
       "  'Structure': 'Wood',\n",
       "  'Type': 'Innerwall'},\n",
       " {'Area': 77.96138622447441,\n",
       "  'Name': 'Innerwall_main to other',\n",
       "  'NextSpace': 'main',\n",
       "  'Parts': {'AreaRatio': 1.0,\n",
       "   'Layers': [{'Cond': 0.22, 'Name': 'GPB', 'SpecH': 830.0, 'Thick': 0.0125},\n",
       "    {'Cond': 11.11111111111111, 'Name': 'GPB', 'SpecH': 0, 'Thick': 1},\n",
       "    {'Cond': 0.22, 'Name': 'GPB', 'SpecH': 830.0, 'Thick': 0.0125}]},\n",
       "  'Space': 'other',\n",
       "  'Structure': 'Wood',\n",
       "  'Type': 'Innerwall'}]"
      ]
     },
     "execution_count": 29,
     "metadata": {},
     "output_type": "execute_result"
    }
   ],
   "source": [
    "d = {\n",
    "    'Common': {'MainOccupantRoomFloorArea': 30.0, 'OtherOccupantRoomFloorArea': 60.0, 'Region': 6, 'TotalFloorArea': 120.0},\n",
    "    'Doors': [\n",
    "        {'area': 0.63, 'direction': 'NW', 'name': 'DoorNW_main', 'space': 'main'},\n",
    "        {'area': 1.26, 'direction': 'NW', 'name': 'DoorNW_other', 'space': 'other'},\n",
    "        {'area': 0.63, 'direction': 'NW', 'name': 'DoorNW_nonliving', 'space': 'nonliving'},\n",
    "        {'area': 0.54, 'direction': 'NE', 'name': 'DoorNE_main', 'space': 'main'},\n",
    "        {'area': 1.08, 'direction': 'NE', 'name': 'DoorNE_other', 'space': 'other'},\n",
    "        {'area': 0.54, 'direction': 'NE', 'name': 'DoorNE_nonliving', 'space': 'nonliving'}\n",
    "     ],\n",
    "    'EarthfloorPerimeters': [\n",
    "        {'direction': 'NW', 'length': 2.43, 'name': 'other_NW', 'psi': 1.8, 'space': 'underfloor'},\n",
    "        {'direction': 'NE', 'length': 2.43, 'name': 'other_NE', 'psi': 1.8, 'space': 'underfloor'}\n",
    "    ],\n",
    "    'Earthfloors': [\n",
    "        {'area': 5.0, 'name': 'other', 'space': 'underfloor'},\n",
    "        {'area': 5.0, 'name': 'entrance', 'space': 'underfloor'}\n",
    "    ],\n",
    "    'Walls': [\n",
    "        {'area': 16.95, 'direction': 'top', 'name': 'Ceiling_main', 'space': 'main', 'structure': 'wood', 'type': 'ceiling'},\n",
    "        {'area': 33.9, 'direction': 'top', 'name': 'Ceiling_other', 'space': 'other', 'structure': 'wood', 'type': 'ceiling'},\n",
    "        {'area': 16.95, 'direction': 'top', 'name': 'Ceiling_nonliving', 'space': 'nonliving', 'structure': 'wood', 'type': 'ceiling'},\n",
    "        {'area': 10.1575, 'direction': 'SW', 'name': 'Wall_SW_main', 'space': 'main', 'structure': 'wood', 'type': 'wall'},\n",
    "        {'area': 20.315, 'direction': 'SW', 'name': 'Wall_SW_other', 'space': 'other', 'structure': 'wood', 'type': 'wall'},\n",
    "        {'area': 10.1575, 'direction': 'SW', 'name': 'Wall_SW_nonliving', 'space': 'nonliving', 'structure': 'wood', 'type': 'wall'}\n",
    "    ],\n",
    "    'Windows': [\n",
    "        {'area': 7.5625, 'direction': 'SW', 'name': 'WindowSW_main', 'space': 'main', 'type': 'single'},\n",
    "        {'area': 15.125, 'direction': 'SW', 'name': 'WindowSW_other', 'space': 'other', 'type': 'single'},\n",
    "        {'area': 7.5625, 'direction': 'SW', 'name': 'WindowSW_nonliving',  'space': 'nonliving', 'type': 'single'},\n",
    "         {'area': 0.7925, 'direction': 'NW', 'name': 'WindowNW_main', 'space': 'main', 'type': 'single'},\n",
    "        {'area': 1.585, 'direction': 'NW', 'name': 'WindowNW_other', 'space': 'other', 'type': 'single'},\n",
    "        {'area': 0.7925, 'direction': 'NW', 'name': 'WindowNW_nonliving', 'space': 'nonliving', 'type': 'single'}\n",
    "        ]\n",
    "}\n",
    "\n",
    "convert_innerwall( d )"
   ]
  },
  {
   "cell_type": "markdown",
   "metadata": {
    "collapsed": true
   },
   "source": [
    "## 3. Lv4入力情報のコンバート（統合）\n",
    "- 1)共通情報、2)開口部以外の不透明部位、3)開口部の透明部位、4)開口部の不透明部位、5) 線熱橋、6)土間床等の外周部の線熱橋、7)土間床、8)内壁等の各コンバート関数を統合し、Lv3の入力情報をLv4の入力情報にコンバートする。"
   ]
  },
  {
   "cell_type": "markdown",
   "metadata": {
    "collapsed": true
   },
   "source": [
    "### Function"
   ]
  },
  {
   "cell_type": "code",
   "execution_count": 30,
   "metadata": {
    "collapsed": true
   },
   "outputs": [],
   "source": [
    "def convert(d):\n",
    "    d_lv4_input = {}\n",
    "    d_lv4_input['Common'] = convert_common(d)\n",
    "    if ('Walls' in d) == True:\n",
    "        d_lv4_input['Walls'] = convert_wall(d)\n",
    "    if ('Windows' in d) == True:\n",
    "        d_lv4_input['Windows'] = convert_window(d)\n",
    "    if ('Doors' in d) == True:\n",
    "        d_lv4_input['Doors'] = convert_door(d)\n",
    "    if ('EarthfloorPerimeters' in d) == True:\n",
    "        d_lv4_input['EarthfloorPerimeters'] = convert_earthfloorperimeter(d)\n",
    "    if ('Earthfloors' in d) == True:\n",
    "        d_lv4_input['Earthfloors'] = convert_earthfloor(d)\n",
    "    if ('Heatbridges' in d) == True:\n",
    "        d_lv4_input['Heatbridges'] = convert_heatbridge(d)\n",
    "    d_lv4_input['InnerWalls'] = convert_innerwall(d)\n",
    "\n",
    "    return d_lv4_input"
   ]
  },
  {
   "cell_type": "markdown",
   "metadata": {},
   "source": [
    "### Example"
   ]
  },
  {
   "cell_type": "code",
   "execution_count": 31,
   "metadata": {},
   "outputs": [
    {
     "data": {
      "text/plain": [
       "{'Common': {'MainOccupantRoomFloorArea': 30.0,\n",
       "  'OtherOccupantRoomFloorArea': 60.0,\n",
       "  'Region': 6,\n",
       "  'TotalFloorArea': 120.0},\n",
       " 'Doors': [{'area': 0.63,\n",
       "   'direction': 'NW',\n",
       "   'name': 'DoorNW_main',\n",
       "   'space': 'main'},\n",
       "  {'area': 1.26, 'direction': 'NW', 'name': 'DoorNW_other', 'space': 'other'},\n",
       "  {'area': 0.63,\n",
       "   'direction': 'NW',\n",
       "   'name': 'DoorNW_nonliving',\n",
       "   'space': 'nonliving'},\n",
       "  {'area': 0.54, 'direction': 'NE', 'name': 'DoorNE_main', 'space': 'main'},\n",
       "  {'area': 1.08, 'direction': 'NE', 'name': 'DoorNE_other', 'space': 'other'},\n",
       "  {'area': 0.54,\n",
       "   'direction': 'NE',\n",
       "   'name': 'DoorNE_nonliving',\n",
       "   'space': 'nonliving'}],\n",
       " 'EarthfloorPerimeters': [{'direction': 'NW',\n",
       "   'length': 2.43,\n",
       "   'name': 'other_NW',\n",
       "   'psi': 1.8,\n",
       "   'space': 'underfloor'},\n",
       "  {'direction': 'NE',\n",
       "   'length': 2.43,\n",
       "   'name': 'other_NE',\n",
       "   'psi': 1.8,\n",
       "   'space': 'underfloor'}],\n",
       " 'Earthfloors': [{'area': 5.0, 'name': 'other', 'space': 'underfloor'},\n",
       "  {'area': 5.0, 'name': 'entrance', 'space': 'underfloor'}],\n",
       " 'InnerWalls': [{'Area': 2.5,\n",
       "   'Direction': 'Bottom',\n",
       "   'Name': 'Innerfloor_main',\n",
       "   'NextSpace': 'Underfloor',\n",
       "   'Parts': {'AreaRatio': 1.0,\n",
       "    'Layers': [{'Cond': 0.16, 'Name': 'PED', 'SpecH': 720.0, 'Thick': 0.012}]},\n",
       "   'Space': 'main',\n",
       "   'Structure': 'Wood',\n",
       "   'Type': 'Innerfloor'},\n",
       "  {'Area': 2.5,\n",
       "   'Direction': 'Bottom',\n",
       "   'Name': 'Innerfloor_main',\n",
       "   'NextSpace': 'main',\n",
       "   'Parts': {'AreaRatio': 1.0,\n",
       "    'Layers': [{'Cond': 0.16, 'Name': 'PED', 'SpecH': 720.0, 'Thick': 0.012}]},\n",
       "   'Space': 'Underfloor',\n",
       "   'Structure': 'Wood',\n",
       "   'Type': 'Innerfloor'},\n",
       "  {'Area': 77.96138622447441,\n",
       "   'Name': 'Innerwall_main to other',\n",
       "   'NextSpace': 'other',\n",
       "   'Parts': {'AreaRatio': 1.0,\n",
       "    'Layers': [{'Cond': 0.22, 'Name': 'GPB', 'SpecH': 830.0, 'Thick': 0.0125},\n",
       "     {'Cond': 11.11111111111111, 'Name': 'GPB', 'SpecH': 0, 'Thick': 1},\n",
       "     {'Cond': 0.22, 'Name': 'GPB', 'SpecH': 830.0, 'Thick': 0.0125}]},\n",
       "   'Space': 'main',\n",
       "   'Structure': 'Wood',\n",
       "   'Type': 'Innerwall'},\n",
       "  {'Area': 77.96138622447441,\n",
       "   'Name': 'Innerwall_main to other',\n",
       "   'NextSpace': 'main',\n",
       "   'Parts': {'AreaRatio': 1.0,\n",
       "    'Layers': [{'Cond': 0.22, 'Name': 'GPB', 'SpecH': 830.0, 'Thick': 0.0125},\n",
       "     {'Cond': 11.11111111111111, 'Name': 'GPB', 'SpecH': 0, 'Thick': 1},\n",
       "     {'Cond': 0.22, 'Name': 'GPB', 'SpecH': 830.0, 'Thick': 0.0125}]},\n",
       "   'Space': 'other',\n",
       "   'Structure': 'Wood',\n",
       "   'Type': 'Innerwall'}],\n",
       " 'Walls': [{'area': 16.95,\n",
       "   'direction': 'top',\n",
       "   'name': 'Ceiling_main',\n",
       "   'space': 'main',\n",
       "   'structure': 'wood',\n",
       "   'type': 'ceiling'},\n",
       "  {'area': 33.9,\n",
       "   'direction': 'top',\n",
       "   'name': 'Ceiling_other',\n",
       "   'space': 'other',\n",
       "   'structure': 'wood',\n",
       "   'type': 'ceiling'},\n",
       "  {'area': 16.95,\n",
       "   'direction': 'top',\n",
       "   'name': 'Ceiling_nonliving',\n",
       "   'space': 'nonliving',\n",
       "   'structure': 'wood',\n",
       "   'type': 'ceiling'},\n",
       "  {'area': 10.1575,\n",
       "   'direction': 'SW',\n",
       "   'name': 'Wall_SW_main',\n",
       "   'space': 'main',\n",
       "   'structure': 'wood',\n",
       "   'type': 'wall'},\n",
       "  {'area': 20.315,\n",
       "   'direction': 'SW',\n",
       "   'name': 'Wall_SW_other',\n",
       "   'space': 'other',\n",
       "   'structure': 'wood',\n",
       "   'type': 'wall'},\n",
       "  {'area': 10.1575,\n",
       "   'direction': 'SW',\n",
       "   'name': 'Wall_SW_nonliving',\n",
       "   'space': 'nonliving',\n",
       "   'structure': 'wood',\n",
       "   'type': 'wall'}],\n",
       " 'Windows': [{'area': 7.5625,\n",
       "   'direction': 'SW',\n",
       "   'name': 'WindowSW_main',\n",
       "   'space': 'main',\n",
       "   'type': 'single'},\n",
       "  {'area': 15.125,\n",
       "   'direction': 'SW',\n",
       "   'name': 'WindowSW_other',\n",
       "   'space': 'other',\n",
       "   'type': 'single'},\n",
       "  {'area': 7.5625,\n",
       "   'direction': 'SW',\n",
       "   'name': 'WindowSW_nonliving',\n",
       "   'space': 'nonliving',\n",
       "   'type': 'single'},\n",
       "  {'area': 0.7925,\n",
       "   'direction': 'NW',\n",
       "   'name': 'WindowNW_main',\n",
       "   'space': 'main',\n",
       "   'type': 'single'},\n",
       "  {'area': 1.585,\n",
       "   'direction': 'NW',\n",
       "   'name': 'WindowNW_other',\n",
       "   'space': 'other',\n",
       "   'type': 'single'},\n",
       "  {'area': 0.7925,\n",
       "   'direction': 'NW',\n",
       "   'name': 'WindowNW_nonliving',\n",
       "   'space': 'nonliving',\n",
       "   'type': 'single'}]}"
      ]
     },
     "execution_count": 31,
     "metadata": {},
     "output_type": "execute_result"
    }
   ],
   "source": [
    "d = {\n",
    "    'Common': {'MainOccupantRoomFloorArea': 30.0, 'OtherOccupantRoomFloorArea': 60.0, 'Region': 6, 'TotalFloorArea': 120.0},\n",
    "    'Doors': [\n",
    "        {'area': 0.63, 'direction': 'NW', 'name': 'DoorNW_main', 'space': 'main'},\n",
    "        {'area': 1.26, 'direction': 'NW', 'name': 'DoorNW_other', 'space': 'other'},\n",
    "        {'area': 0.63, 'direction': 'NW', 'name': 'DoorNW_nonliving', 'space': 'nonliving'},\n",
    "        {'area': 0.54, 'direction': 'NE', 'name': 'DoorNE_main', 'space': 'main'},\n",
    "        {'area': 1.08, 'direction': 'NE', 'name': 'DoorNE_other', 'space': 'other'},\n",
    "        {'area': 0.54, 'direction': 'NE', 'name': 'DoorNE_nonliving', 'space': 'nonliving'}\n",
    "     ],\n",
    "    'EarthfloorPerimeters': [\n",
    "        {'direction': 'NW', 'length': 2.43, 'name': 'other_NW', 'psi': 1.8, 'space': 'underfloor'},\n",
    "        {'direction': 'NE', 'length': 2.43, 'name': 'other_NE', 'psi': 1.8, 'space': 'underfloor'}\n",
    "    ],\n",
    "    'Earthfloors': [\n",
    "        {'area': 5.0, 'name': 'other', 'space': 'underfloor'},\n",
    "        {'area': 5.0, 'name': 'entrance', 'space': 'underfloor'}\n",
    "    ],\n",
    "    'Walls': [\n",
    "        {'area': 16.95, 'direction': 'top', 'name': 'Ceiling_main', 'space': 'main', 'structure': 'wood', 'type': 'ceiling'},\n",
    "        {'area': 33.9, 'direction': 'top', 'name': 'Ceiling_other', 'space': 'other', 'structure': 'wood', 'type': 'ceiling'},\n",
    "        {'area': 16.95, 'direction': 'top', 'name': 'Ceiling_nonliving', 'space': 'nonliving', 'structure': 'wood', 'type': 'ceiling'},\n",
    "        {'area': 10.1575, 'direction': 'SW', 'name': 'Wall_SW_main', 'space': 'main', 'structure': 'wood', 'type': 'wall'},\n",
    "        {'area': 20.315, 'direction': 'SW', 'name': 'Wall_SW_other', 'space': 'other', 'structure': 'wood', 'type': 'wall'},\n",
    "        {'area': 10.1575, 'direction': 'SW', 'name': 'Wall_SW_nonliving', 'space': 'nonliving', 'structure': 'wood', 'type': 'wall'}\n",
    "    ],\n",
    "    'Windows': [\n",
    "        {'area': 7.5625, 'direction': 'SW', 'name': 'WindowSW_main', 'space': 'main', 'type': 'single'},\n",
    "        {'area': 15.125, 'direction': 'SW', 'name': 'WindowSW_other', 'space': 'other', 'type': 'single'},\n",
    "        {'area': 7.5625, 'direction': 'SW', 'name': 'WindowSW_nonliving',  'space': 'nonliving', 'type': 'single'},\n",
    "         {'area': 0.7925, 'direction': 'NW', 'name': 'WindowNW_main', 'space': 'main', 'type': 'single'},\n",
    "        {'area': 1.585, 'direction': 'NW', 'name': 'WindowNW_other', 'space': 'other', 'type': 'single'},\n",
    "        {'area': 0.7925, 'direction': 'NW', 'name': 'WindowNW_nonliving', 'space': 'nonliving', 'type': 'single'}\n",
    "        ]\n",
    "}\n",
    "\n",
    "convert(d)"
   ]
  }
 ],
 "metadata": {
  "kernelspec": {
   "display_name": "Python 3",
   "language": "python",
   "name": "python3"
  },
  "language_info": {
   "codemirror_mode": {
    "name": "ipython",
    "version": 3
   },
   "file_extension": ".py",
   "mimetype": "text/x-python",
   "name": "python",
   "nbconvert_exporter": "python",
   "pygments_lexer": "ipython3",
   "version": "3.6.3"
  }
 },
 "nbformat": 4,
 "nbformat_minor": 2
}
