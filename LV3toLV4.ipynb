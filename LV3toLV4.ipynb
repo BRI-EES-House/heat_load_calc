{
 "cells": [
  {
   "cell_type": "code",
   "execution_count": 1,
   "metadata": {},
   "outputs": [],
   "source": [
    "import copy\n",
    "import math"
   ]
  },
  {
   "cell_type": "markdown",
   "metadata": {},
   "source": [
    "# 外皮情報LV3からLV4へのコンバート"
   ]
  },
  {
   "cell_type": "markdown",
   "metadata": {},
   "source": [
    "## 概要"
   ]
  },
  {
   "cell_type": "markdown",
   "metadata": {},
   "source": [
    "外皮性能計算プログラムに、外皮の用途別情報を追加したものより、内壁等（建物内部の壁、天井、床）の面積の推定および熱貫流率の決定を行う。  \n",
    "- 内壁等の面積は、室の周長を求める際の係数（アスペクト比）と階高を仮定して、外皮の用途別情報および用途別床面積より推定する。\n",
    "- 内壁等の熱貫流率は一般的な仕様を想定して与える（石膏ボード12.5mm－空気層－石膏ボード12.5mm、参考：SimHeatでの熱負荷計算用の無断熱の層構成）。室内戸は考慮しない。\n",
    "- その他は、内壁の用途別情報が得られている場合と同様に求める。"
   ]
  },
  {
   "cell_type": "markdown",
   "metadata": {},
   "source": [
    "## 1. Common Element"
   ]
  },
  {
   "cell_type": "markdown",
   "metadata": {},
   "source": [
    "'Common'要素はそのまま維持する。"
   ]
  },
  {
   "cell_type": "markdown",
   "metadata": {},
   "source": [
    "参照：InputDataDefinition.ipynb"
   ]
  },
  {
   "cell_type": "markdown",
   "metadata": {},
   "source": [
    "##### Function"
   ]
  },
  {
   "cell_type": "code",
   "execution_count": 2,
   "metadata": {},
   "outputs": [],
   "source": [
    "def convert_common(d):\n",
    "    return {\n",
    "            'Region'                     : d['Common']['Region'],\n",
    "            'IsSimplifiedInput'          : d['Common']['IsSimplifiedInput'],\n",
    "            'MainOccupantRoomFloorArea'  : d['Common']['MainOccupantRoomFloorArea'],\n",
    "            'OtherOccupantRoomFloorArea' : d['Common']['OtherOccupantRoomFloorArea'],\n",
    "            'TotalFloorArea'             : d['Common']['TotalFloorArea']\n",
    "    }"
   ]
  },
  {
   "cell_type": "markdown",
   "metadata": {},
   "source": [
    "## 2. Walls Element"
   ]
  },
  {
   "cell_type": "markdown",
   "metadata": {},
   "source": [
    "'Walls'要素はそのまま維持する。"
   ]
  },
  {
   "cell_type": "markdown",
   "metadata": {},
   "source": [
    "##### Function"
   ]
  },
  {
   "cell_type": "code",
   "execution_count": 3,
   "metadata": {},
   "outputs": [],
   "source": [
    "def make_wall( d_wall ):\n",
    "    \n",
    "    wall = copy.deepcopy(d_wall)\n",
    "    \n",
    "    return wall"
   ]
  },
  {
   "cell_type": "code",
   "execution_count": 4,
   "metadata": {},
   "outputs": [],
   "source": [
    "def convert_wall( d ):    \n",
    "    return [ make_wall(f) for f in d['Walls'] ]"
   ]
  },
  {
   "cell_type": "markdown",
   "metadata": {},
   "source": [
    "## 3. Windows Element"
   ]
  },
  {
   "cell_type": "markdown",
   "metadata": {},
   "source": [
    "'Windows'要素はそのまま維持する。"
   ]
  },
  {
   "cell_type": "markdown",
   "metadata": {},
   "source": [
    "##### Function"
   ]
  },
  {
   "cell_type": "code",
   "execution_count": 5,
   "metadata": {},
   "outputs": [],
   "source": [
    "def make_window( d_window ):\n",
    "    \n",
    "    window = copy.deepcopy(d_window)\n",
    "    \n",
    "    return window"
   ]
  },
  {
   "cell_type": "code",
   "execution_count": 6,
   "metadata": {},
   "outputs": [],
   "source": [
    "def convert_window( d ):    \n",
    "    return [ make_window(f) for f in d['Windows'] ]"
   ]
  },
  {
   "cell_type": "markdown",
   "metadata": {},
   "source": [
    "## 4. Doors Element"
   ]
  },
  {
   "cell_type": "markdown",
   "metadata": {},
   "source": [
    "'Doors'要素はそのまま維持する。"
   ]
  },
  {
   "cell_type": "markdown",
   "metadata": {},
   "source": [
    "##### Function"
   ]
  },
  {
   "cell_type": "code",
   "execution_count": 7,
   "metadata": {},
   "outputs": [],
   "source": [
    "def make_door( d_door ):\n",
    "\n",
    "    door = copy.deepcopy(d_door)\n",
    "    \n",
    "    return door"
   ]
  },
  {
   "cell_type": "code",
   "execution_count": 8,
   "metadata": {},
   "outputs": [],
   "source": [
    "def convert_door( d ):    \n",
    "    return [ make_door(f) for f in d['Doors'] ]"
   ]
  },
  {
   "cell_type": "markdown",
   "metadata": {},
   "source": [
    "## 5. Heatbridges Element"
   ]
  },
  {
   "cell_type": "markdown",
   "metadata": {},
   "source": [
    "'Heatbridges'要素はそのまま維持する。"
   ]
  },
  {
   "cell_type": "markdown",
   "metadata": {},
   "source": [
    "##### Function"
   ]
  },
  {
   "cell_type": "code",
   "execution_count": 9,
   "metadata": {},
   "outputs": [],
   "source": [
    "def make_heatbridge( d_heatbridge ):\n",
    "\n",
    "    heatbridge = copy.deepcopy(d_heatbridge)\n",
    "\n",
    "    return heatbridge"
   ]
  },
  {
   "cell_type": "code",
   "execution_count": 10,
   "metadata": {},
   "outputs": [],
   "source": [
    "def convert_heatbridge( d ):    \n",
    "    return [ make_heatbridge(f) for f in d['Heatbridges'] ]"
   ]
  },
  {
   "cell_type": "markdown",
   "metadata": {},
   "source": [
    "## 6. EarthfloorPerimeters Element"
   ]
  },
  {
   "cell_type": "markdown",
   "metadata": {},
   "source": [
    "'EarthfloorPerimeters'要素はそのまま維持する。"
   ]
  },
  {
   "cell_type": "markdown",
   "metadata": {},
   "source": [
    "##### Function"
   ]
  },
  {
   "cell_type": "code",
   "execution_count": 11,
   "metadata": {},
   "outputs": [],
   "source": [
    "def make_earthfloorperimeter( d_earthfloorperimeter ):\n",
    "    \n",
    "    earthfloorperimeter = copy.deepcopy(d_earthfloorperimeter)\n",
    "\n",
    "    return earthfloorperimeter"
   ]
  },
  {
   "cell_type": "code",
   "execution_count": 12,
   "metadata": {},
   "outputs": [],
   "source": [
    "def convert_earthfloorperimeter( d ):    \n",
    "    return [ make_earthfloorperimeter(f) for f in d['EarthfloorPerimeters'] ]"
   ]
  },
  {
   "cell_type": "markdown",
   "metadata": {},
   "source": [
    "## 7. Earthfloors Element"
   ]
  },
  {
   "cell_type": "markdown",
   "metadata": {},
   "source": [
    "'Earthfloors'要素はそのまま維持する。"
   ]
  },
  {
   "cell_type": "markdown",
   "metadata": {},
   "source": [
    "##### Function"
   ]
  },
  {
   "cell_type": "code",
   "execution_count": 13,
   "metadata": {},
   "outputs": [],
   "source": [
    "def make_earthfloor( d_earthfloor ):\n",
    "\n",
    "    earthfloor = copy.deepcopy(d_earthfloor)\n",
    "        \n",
    "    return earthfloor"
   ]
  },
  {
   "cell_type": "code",
   "execution_count": 14,
   "metadata": {},
   "outputs": [],
   "source": [
    "def convert_earthfloor( d ):        \n",
    "    return [ make_earthfloor(f) for f in d['Earthfloors'] ]"
   ]
  },
  {
   "cell_type": "markdown",
   "metadata": {},
   "source": [
    "## 8. InnerWalls Element"
   ]
  },
  {
   "cell_type": "markdown",
   "metadata": {},
   "source": [
    "### 8.1. 共通して用いる関数"
   ]
  },
  {
   "cell_type": "markdown",
   "metadata": {},
   "source": [
    "#### 1) 用途別床面積を取得する関数"
   ]
  },
  {
   "cell_type": "code",
   "execution_count": 15,
   "metadata": {},
   "outputs": [],
   "source": [
    "def get_floor_area(a_mr, a_or, a_total):\n",
    "    return a_mr, a_or, a_total - a_mr - a_or"
   ]
  },
  {
   "cell_type": "markdown",
   "metadata": {},
   "source": [
    "#### 2) 方位が「下面」である外皮の部位の面積の合計"
   ]
  },
  {
   "cell_type": "code",
   "execution_count": 16,
   "metadata": {},
   "outputs": [],
   "source": [
    "def get_floor_area_to_outside(d):\n",
    "\n",
    "    parts = []\n",
    "\n",
    "    if 'Walls' in d:\n",
    "        parts.extend(d['Walls'])\n",
    "    \n",
    "    if 'Windows' in d:\n",
    "        parts.extend(d['Windows'])\n",
    "        \n",
    "    if 'Doors' in d:\n",
    "        parts.extend(d['Doors'])\n",
    "    \n",
    "    def f(room_type):\n",
    "        return sum(part['area'] for part in parts if part['space'] == room_type and part['direction'] == 'bottom')\n",
    "\n",
    "    return f('main'), f('other'), f('nonliving')"
   ]
  },
  {
   "cell_type": "markdown",
   "metadata": {},
   "source": [
    "#### 3) 方位が「上面」である外皮の部位の面積の合計"
   ]
  },
  {
   "cell_type": "code",
   "execution_count": 17,
   "metadata": {},
   "outputs": [],
   "source": [
    "def get_ceiling_area_to_outside(d):\n",
    "\n",
    "    parts = []\n",
    "    \n",
    "    if 'Walls' in d:\n",
    "        parts.extend(d['Walls'])\n",
    "        \n",
    "    if 'Windows' in d:\n",
    "        parts.extend(d['Windows'])\n",
    "\n",
    "    if 'Doors' in d:\n",
    "        parts.extend(d['Doors'])\n",
    "        \n",
    "    def f(room_type):\n",
    "        return sum(part['area'] for part in parts if part['space'] == room_type and part['direction'] == 'top')\n",
    "    \n",
    "    return f('main'), f('other'), f('nonliving')"
   ]
  },
  {
   "cell_type": "markdown",
   "metadata": {},
   "source": [
    "#### 4) 方位が水平（上面・下面以外）である外皮の部位の面積の合計"
   ]
  },
  {
   "cell_type": "code",
   "execution_count": 18,
   "metadata": {},
   "outputs": [],
   "source": [
    "def get_outside_wall_area(d):\n",
    "\n",
    "    parts = []\n",
    "\n",
    "    if 'Walls' in d:\n",
    "        parts.extend(d['Walls'])\n",
    "        \n",
    "    if 'Windows' in d:\n",
    "        parts.extend(d['Windows'])\n",
    "        \n",
    "    if 'Doors' in d:\n",
    "        parts.extend(d['Doors'])\n",
    "\n",
    "    def f(room_type):\n",
    "        return sum(part['area'] for part in parts \\\n",
    "                   if part['space'] == room_type and part['direction'] != 'top' and part['direction'] != 'bottom')\n",
    "    \n",
    "    return f('Main'), f('Other'), f('Nonliving')"
   ]
  },
  {
   "cell_type": "markdown",
   "metadata": {},
   "source": [
    "#### 5) 土間床等の面積の合計"
   ]
  },
  {
   "cell_type": "code",
   "execution_count": 19,
   "metadata": {},
   "outputs": [],
   "source": [
    "def get_area_of_earth_floor(d):\n",
    "\n",
    "    def f(room_type):\n",
    "        return sum(part['area'] for part in d['Earthfloors'] if part['space'] == room_type)\n",
    "    \n",
    "    if 'Earthfloors' in d:\n",
    "        return f('main'), f('other'), f('nonliving')\n",
    "    else:\n",
    "        return 0.0, 0.0, 0.0"
   ]
  },
  {
   "cell_type": "markdown",
   "metadata": {},
   "source": [
    "#### 6) 床下空間に属する土間床等の面積の取得"
   ]
  },
  {
   "cell_type": "code",
   "execution_count": 20,
   "metadata": {},
   "outputs": [],
   "source": [
    "def get_area_of_earth_floor_in_under_floor(d):\n",
    "    if 'Earthfloors' in d:\n",
    "        return sum(earthfloor['area'] for earthfloor in d['Earthfloors'] if earthfloor['space'] == 'underfloor')\n",
    "    else:\n",
    "        return 0.0"
   ]
  },
  {
   "cell_type": "markdown",
   "metadata": {},
   "source": [
    "### 8.2. InnerWalls Element - Ground Floor "
   ]
  },
  {
   "cell_type": "markdown",
   "metadata": {},
   "source": [
    "#### 1) 層構成"
   ]
  },
  {
   "cell_type": "markdown",
   "metadata": {},
   "source": [
    "以下の層構成とする。"
   ]
  },
  {
   "cell_type": "markdown",
   "metadata": {},
   "source": [
    "| 材料 | 厚さ, m | 熱伝導率, W m<sup>-1</sup> K<sup>-1</sup> | 熱抵抗, m<sup>2</sup> k W<sup>-1</sup> | 容積比熱, J L<sup>-1</sup> K<sup>-1</sup> |\n",
    "|---|---|---|---|\n",
    "| 合板 | 0.012 | 0.16 | 0.075 | 720.0 |"
   ]
  },
  {
   "cell_type": "markdown",
   "metadata": {},
   "source": [
    "##### Function"
   ]
  },
  {
   "cell_type": "code",
   "execution_count": 21,
   "metadata": {},
   "outputs": [],
   "source": [
    "def get_inner_floor_layers_over_under_floor():\n",
    "    return [{'name': 'PED', 'cond': 0.16, 'thick': 0.012, 'specH': 720.0}]"
   ]
  },
  {
   "cell_type": "markdown",
   "metadata": {},
   "source": [
    "#### 2) 床下空間上の床面積の推定"
   ]
  },
  {
   "cell_type": "markdown",
   "metadata": {},
   "source": [
    "- 外皮の用途別情報が入力された場合において床下空間に属する土間床等面積が0㎡より大きい場合、室と床下空間の間の床の面積の合計は、床下空間に属する土間床等面積の合計（ただし、室用途別の床面積と方位が「下面」の部位面積の差分の合計を上限とする）に等しいとみなす。  \n",
    "- 室と床下空間の間の床は、室用途別の床面積と方位が「下面」の部位面積の差分に応じて、各用途に割り当てる。"
   ]
  },
  {
   "cell_type": "markdown",
   "metadata": {},
   "source": [
    "$\\sum_{i}^{}A_{b,i}>0$ かつ $A_{dif,MR} + A_{dif,OR} + A_{dif,NR}>0$ の場合"
   ]
  },
  {
   "cell_type": "markdown",
   "metadata": {},
   "source": [
    "$$\n",
    "\\displaystyle\n",
    "A_{f,MR}= \\sum_{i}^{}A_{b,i} \\times \\frac{ A_{dif,MR} }{ A_{dif,MR} + A_{dif,OR} + A_{dif,NR} }\n",
    "$$\n",
    "\n",
    "$$\n",
    "\\displaystyle\n",
    "A_{f,OR}= \\sum_{i}^{}A_{b,i} \\times \\frac{ A_{dif,OR} }{ A_{dif,MR} + A_{dif,OR} + A_{dif,NR} }\n",
    "$$\n",
    "\n",
    "$$\n",
    "\\displaystyle\n",
    "A_{f,NR}= \\sum_{i}^{}A_{b,i} \\times \\frac{ A_{dif,NR} }{ A_{dif,MR} + A_{dif,OR} + A_{dif,NR} }\n",
    "$$"
   ]
  },
  {
   "cell_type": "markdown",
   "metadata": {},
   "source": [
    "$A_{b,i}$: 床下空間に属する土間床等の部位$i$の面積, m<sup>2</sup>  \n",
    "　　 ($\\sum_{i}^{}A_{b,i}≦A_{dif,MR} + A_{dif,OR} + A_{dif,NR}$を想定)  \n",
    "$A_{f,MR}$: 主たる居室と床下空間の間の床の面積, m<sup>2</sup>  \n",
    "$A_{f,OR}$: その他の居室と床下空間の間の床の面積, m<sup>2</sup>  \n",
    "$A_{f,NR}$: 非居室と床下空間の間の床の面積, m<sup>2</sup>  \n",
    "$A_f$: 室と床下空間の間の床面積の合計, m<sup>2</sup>  \n",
    "$A_{dif,MR}$: 主たる居室において、方位が「下面」の部位の面積と土間床等の面積の合計と、床面積の差, m<sup>2</sup>  \n",
    "$A_{dif,OR}$: その他の居室において、方位が「下面」の部位の面積と土間床等の面積の合計と、床面積の差, m<sup>2</sup>  \n",
    "$A_{dif,NR}$: 非居室において、方位が「下面」の部位の面積と土間床等の面積の合計と、床面積の差, m<sup>2</sup>  "
   ]
  },
  {
   "cell_type": "markdown",
   "metadata": {},
   "source": [
    "$$\n",
    "\\displaystyle\n",
    "A_{dif, MR} = max(0, A_{MR} - \\sum_i A_{of,MR,i} - \\sum_i A_{ef,MR,i})\n",
    "$$\n",
    "\n",
    "$$\n",
    "\\displaystyle\n",
    "A_{dif, OR} = max(0, A_{OR} - \\sum_i A_{of,OR,i} - \\sum_i A_{ef,OR,i})\n",
    "$$\n",
    "\n",
    "$$\n",
    "\\displaystyle\n",
    "A_{dif, NR} = max(0, A_{NR} - \\sum_i A_{of,NR,i} - \\sum_i A_{ef,NR,i})\n",
    "$$"
   ]
  },
  {
   "cell_type": "markdown",
   "metadata": {},
   "source": [
    "$A_{MR}$: 主たる居室の床面積, m<sup>2</sup>  \n",
    "$A_{OR}$: その他の居室の床面積, m<sup>2</sup>  \n",
    "$A_{NR}$: 非居室の床面積, m<sup>2</sup>   \n",
    "$A_{of,MR,i}$: 方位が「下面」である主たる居室の外皮の部位(一般部位又は開口部)$i$の面積, m<sup>2</sup>  \n",
    "$A_{of,OR,i}$: 方位が「下面」であるその他の居室の外皮の部位(一般部位又は開口部)$i$の面積, m<sup>2</sup>  \n",
    "$A_{of,NR,i}$: 方位が「下面」である非居室の外皮の部位(一般部位又は開口部)$i$の面積, m<sup>2</sup>  \n",
    "$A_{ef,MR,i}$: 主たる居室の土間床$i$の面積, m<sup>2</sup>  \n",
    "$A_{ef,OR,i}$: その他の居室の土間床$i$の面積, m<sup>2</sup>  \n",
    "$A_{ef,NR,i}$: 非居室の土間床$i$の面積, m<sup>2</sup>  "
   ]
  },
  {
   "cell_type": "markdown",
   "metadata": {},
   "source": [
    "##### Function"
   ]
  },
  {
   "cell_type": "code",
   "execution_count": 22,
   "metadata": {},
   "outputs": [],
   "source": [
    "def get_area_floor_over_underfloor(d):\n",
    "    \n",
    "    # 用途別床面積の取得\n",
    "    a_mr, a_or, a_nr = get_floor_area(a_mr=d['Common']['MainOccupantRoomFloorArea'],\n",
    "                                      a_or=d['Common']['OtherOccupantRoomFloorArea'],\n",
    "                                      a_total=d['Common']['TotalFloorArea'])\n",
    "    \n",
    "    # 下面（direction:Bottom）の壁・窓・ドア面積の合計値の取得\n",
    "    a_outside_mr, a_outside_or, a_outside_nr = get_floor_area_to_outside(d)\n",
    "    \n",
    "    # 土間床等の面積の合計値の取得\n",
    "    a_earth_floor_mr, a_earth_floor_or, a_earth_floor_nr = get_area_of_earth_floor(d)\n",
    "    \n",
    "    # 方位が「下面」の部位の面積と土間床等の面積の合計値と、床面積の差\n",
    "    a_dif_mr = max(0.0, a_mr - a_outside_mr - a_earth_floor_mr)\n",
    "    a_dif_or = max(0.0, a_or - a_outside_or - a_earth_floor_or)\n",
    "    a_dif_nr = max(0.0, a_nr - a_outside_nr - a_earth_floor_nr)\n",
    "\n",
    "    a_dif = a_dif_mr + a_dif_or + a_dif_nr\n",
    "\n",
    "    # 床下空間に属する土間床等の面積の取得\n",
    "    a_b = get_area_of_earth_floor_in_under_floor(d)\n",
    "\n",
    "    # 居室と床下空間との間の床の面積\n",
    "    # 室と床下空間の間の床面を設定する場合\n",
    "    if a_b > 0.0 and a_dif > 0.0:\n",
    "        a_f_mr = a_b * a_dif_mr / a_dif\n",
    "        a_f_or = a_b * a_dif_or / a_dif\n",
    "        a_f_nr = a_b * a_dif_nr / a_dif\n",
    "        return a_f_mr, a_f_or, a_f_nr\n",
    "    # 室と床下空間の間の床面を設定しない場合\n",
    "    else :\n",
    "        return 0.0, 0.0, 0.0"
   ]
  },
  {
   "cell_type": "markdown",
   "metadata": {},
   "source": [
    "#### 3) 室と床下空間の間の床の構築"
   ]
  },
  {
   "cell_type": "markdown",
   "metadata": {},
   "source": [
    "##### Function"
   ]
  },
  {
   "cell_type": "code",
   "execution_count": 23,
   "metadata": {},
   "outputs": [],
   "source": [
    "def get_innerwall_groundfloor(d):\n",
    "    \n",
    "    # 室と床下空間の間の床面積の推定\n",
    "    a_if_mr, a_if_or, a_if_nr = get_area_floor_over_underfloor(d)\n",
    "    \n",
    "    # 壁体名称、部位面積を更新し、「壁体が属する空間種類」「隣接空間種類」を追加する\n",
    "    ifs = []\n",
    "    \n",
    "    if a_if_mr > 0.0:\n",
    "        ifs.append({\n",
    "            'name' : 'GroundFloor_Main',\n",
    "            'type' : 'GroundFloor',\n",
    "            'direction' : 'Horizontal',\n",
    "            'area' : a_if_mr,\n",
    "            'Layers' : get_inner_floor_layers_over_under_floor(),\n",
    "            'space' : 'main',\n",
    "            'nextspace': 'underfloor'\n",
    "        })\n",
    "        ifs.append({\n",
    "            'name' : 'GroundFloor_Main',\n",
    "            'type' : 'GroundFloor',\n",
    "            'direction' : 'Horizontal',\n",
    "            'area' : a_if_mr,\n",
    "            'Layers' : get_inner_floor_layers_over_under_floor(),\n",
    "            'space' : 'underfloor',\n",
    "            'nextspace': 'main'\n",
    "        })\n",
    "    \n",
    "    if a_if_or > 0.0:\n",
    "        ifs.append({\n",
    "            'name' : 'GroundFloor_Other',\n",
    "            'type' : 'GroundFloor',\n",
    "            'direction' : 'Horizontal',\n",
    "            'area' : a_if_or,\n",
    "            'Layers' : get_inner_floor_layers_over_under_floor(),\n",
    "            'space' : 'other',\n",
    "            'nextspace': 'underfloor'\n",
    "        })\n",
    "        ifs.append({\n",
    "            'name' : 'GroundFloor_Other',\n",
    "            'type' : 'GroundFloor',\n",
    "            'direction' : 'Horizontal',\n",
    "            'area' : a_if_or,\n",
    "            'Layers' : get_inner_floor_layers_over_under_floor(),\n",
    "            'space' : 'underfloor',\n",
    "            'nextspace': 'other'                \n",
    "        })\n",
    "        \n",
    "    if a_if_nr > 0.0:\n",
    "        ifs.append({\n",
    "            'name' : 'GroundFloor_Nonliving',\n",
    "            'type' : 'GroundFloor',\n",
    "            'direction' : 'Horizontal',\n",
    "            'area' : a_if_nr,\n",
    "            'Layers' : get_inner_floor_layers_over_under_floor(),\n",
    "            'space' : 'nonliving',\n",
    "            'nextspace': 'underfloor'\n",
    "        })\n",
    "        ifs.append({\n",
    "            'name' : 'GroundFloor_Nonliving',\n",
    "            'type' : 'GroundFloor',\n",
    "            'direction' : 'Horizontal',\n",
    "            'area' : a_if_nr,\n",
    "            'Layers' : get_inner_floor_layers_over_under_floor(),\n",
    "            'space' : 'underfloor',\n",
    "            'nextspace': 'nonliving'\n",
    "        })\n",
    "        \n",
    "    return ifs"
   ]
  },
  {
   "cell_type": "markdown",
   "metadata": {},
   "source": [
    "##### Example"
   ]
  },
  {
   "cell_type": "code",
   "execution_count": 24,
   "metadata": {},
   "outputs": [
    {
     "data": {
      "text/plain": [
       "[{'name': 'GroundFloor_Other',\n",
       "  'type': 'GroundFloor',\n",
       "  'direction': 'Horizontal',\n",
       "  'area': 6.666666666666667,\n",
       "  'Layers': [{'name': 'PED', 'cond': 0.16, 'thick': 0.012, 'specH': 720.0}],\n",
       "  'space': 'other',\n",
       "  'nextspace': 'underfloor'},\n",
       " {'name': 'GroundFloor_Other',\n",
       "  'type': 'GroundFloor',\n",
       "  'direction': 'Horizontal',\n",
       "  'area': 6.666666666666667,\n",
       "  'Layers': [{'name': 'PED', 'cond': 0.16, 'thick': 0.012, 'specH': 720.0}],\n",
       "  'space': 'underfloor',\n",
       "  'nextspace': 'other'},\n",
       " {'name': 'GroundFloor_Nonliving',\n",
       "  'type': 'GroundFloor',\n",
       "  'direction': 'Horizontal',\n",
       "  'area': 3.3333333333333335,\n",
       "  'Layers': [{'name': 'PED', 'cond': 0.16, 'thick': 0.012, 'specH': 720.0}],\n",
       "  'space': 'nonliving',\n",
       "  'nextspace': 'underfloor'},\n",
       " {'name': 'GroundFloor_Nonliving',\n",
       "  'type': 'GroundFloor',\n",
       "  'direction': 'Horizontal',\n",
       "  'area': 3.3333333333333335,\n",
       "  'Layers': [{'name': 'PED', 'cond': 0.16, 'thick': 0.012, 'specH': 720.0}],\n",
       "  'space': 'underfloor',\n",
       "  'nextspace': 'nonliving'}]"
      ]
     },
     "execution_count": 24,
     "metadata": {},
     "output_type": "execute_result"
    }
   ],
   "source": [
    "d = {\n",
    "    'Common': {\n",
    "        'Region': 6,\n",
    "        'IsSimplifiedInput': False,\n",
    "        'MainOccupantRoomFloorArea': 30.0,\n",
    "        'OtherOccupantRoomFloorArea': 60.0,\n",
    "        'TotalFloorArea': 120.0\n",
    "    },\n",
    "    'Walls': [\n",
    "        { 'name': 'Ceiling', 'type': 'Ceiling', 'structure': 'wood', 'InputMethod' :'InputUA', \n",
    "          'direction': 'top', 'area': 60, 'space': 'main', 'UA': 0.24, 'IsSunshadeInput': False },\n",
    "        { 'name': 'Ceiling', 'type': 'Ceiling', 'structure': 'wood', 'InputMethod' :'InputAllDetails', 'direction': 'top', \n",
    "          'area': 60, 'space': 'main',\n",
    "          'Parts': [{'AreaRatio': 0.8, 'Layers': [{'name': 'wood','thick': 0.012, 'cond': 0.16, 'specH': 720 },\n",
    "                                                  {'name': 'wood','thick': 0.012, 'cond': 0.16, 'specH': 720 }]},\n",
    "                    {'AreaRatio': 0.2, 'Layers': [{'name': 'wood','thick': 0.012, 'cond': 0.16, 'specH': 720 },\n",
    "                                                  {'name': 'wood','thick': 0.012, 'cond': 0.16, 'specH': 720 }]}],\n",
    "          'IsSunshadeInput': False },\n",
    "        { 'name': 'Floor', 'type': 'Floor', 'structure': 'wood', 'InputMethod' :'InputAllLayers', 'direction': 'bottom', \n",
    "          'area': 60, 'space': 'main',\n",
    "          'FloorConstructionMethod' :'FrameInsulcolumn',\n",
    "          'Parts': [{'TypeFloor': 'Insulation', 'Layers': [{'name': 'wood','thick': 0.012, 'cond': 0.16, 'specH': 720 },\n",
    "                                                           {'name': 'wood','thick': 0.012, 'cond': 0.16, 'specH': 720 }]},\n",
    "                    {'TypeFloor': 'Heatbridge', 'Layers': [{'name': 'wood','thick': 0.012, 'cond': 0.16, 'specH': 720 },\n",
    "                                                           {'name': 'wood','thick': 0.012, 'cond': 0.16, 'specH': 720 }]}],\n",
    "           'IsSunshadeInput': False }\n",
    "    ],\n",
    "    'Windows': [\n",
    "        { 'name': 'WindowTop', 'direction': 'top', 'area': 30, 'space': 'main', 'UW': 6.51, 'TypeWindow': 'Single', \n",
    "          'IsEtaValueInput': False, 'TypeFrame': 'WoodOrResin', 'TypeGlass': '3WgG', 'TypeShade': 'Shoji', 'IsSunshadeInput': False }\n",
    "    ],\n",
    "    'Earthfloors': [\n",
    "        { 'name': 'other', 'area': 5.0, 'space': 'underfloor' },\n",
    "        { 'name': 'entrance', 'area': 5.0, 'space': 'underfloor' }\n",
    "    ]\n",
    "}\n",
    "\n",
    "innerwall_groundfloor = get_innerwall_groundfloor(d)\n",
    "innerwall_groundfloor"
   ]
  },
  {
   "cell_type": "markdown",
   "metadata": {},
   "source": [
    "### 8.3. InnerWalls Element - Inner Floor"
   ]
  },
  {
   "cell_type": "markdown",
   "metadata": {},
   "source": [
    "#### 1) 層構成"
   ]
  },
  {
   "cell_type": "markdown",
   "metadata": {},
   "source": [
    "以下の層構成とする。"
   ]
  },
  {
   "cell_type": "markdown",
   "metadata": {},
   "source": [
    "| 材料 | 厚さ, m | 熱伝導率, W m<sup>-1</sup> K<sup>-1</sup> | 熱抵抗, m<sup>2</sup> k W<sup>-1</sup> | 容積比熱, J L<sup>-1</sup> K<sup>-1</sup> |\n",
    "|---|---|---|---|\n",
    "| 合板 | 0.012 | 0.16 | 0.075 | 720.0 |"
   ]
  },
  {
   "cell_type": "markdown",
   "metadata": {},
   "source": [
    "##### Function"
   ]
  },
  {
   "cell_type": "code",
   "execution_count": 25,
   "metadata": {},
   "outputs": [],
   "source": [
    "def get_inner_floor_layers():\n",
    "    return [{'name': 'PED', 'cond': 0.16, 'thick': 0.012, 'specH': 720.0}]"
   ]
  },
  {
   "cell_type": "markdown",
   "metadata": {},
   "source": [
    "#### 2) 室上の床面積の推定"
   ]
  },
  {
   "cell_type": "markdown",
   "metadata": {},
   "source": [
    "$$\n",
    "\\displaystyle\n",
    "A_{if,MR}= \\max \\left(0, A_{MR} -  \\left(A_{gf,MR} + \\sum_i A_{of,MR,i} + \\sum_i A_{ef,MR,i} \\right)\\right)\n",
    "$$\n",
    "\n",
    "$$\n",
    "\\displaystyle\n",
    "A_{if,OR}= \\max \\left(0, A_{OR} -  \\left(A_{gf,OR} + \\sum_i A_{of,OR,i} + \\sum_i A_{ef,OR,i} \\right)\\right)\n",
    "$$\n",
    "\n",
    "$$\n",
    "\\displaystyle\n",
    "A_{if,NR}= \\max \\left(0, A_{NR} -  \\left(A_{gf,NR} + \\sum_i A_{of,NR,i} + \\sum_i A_{ef,NR,i} \\right)\\right)\n",
    "$$"
   ]
  },
  {
   "cell_type": "markdown",
   "metadata": {},
   "source": [
    "$A_{if,MR}$: その他の居室または非居室との間の、主たる居室の床の面積, m<sup>2</sup>  \n",
    "$A_{if,OR}$: 主たる居室または非居室との間の、その他の居室の床の面積, m<sup>2</sup>  \n",
    "$A_{if,NR}$: 主たる居室またはその他の居室との間の、非居室の床の面積, m<sup>2</sup>  \n",
    "$A_{MR}$: 主たる居室の床面積, m<sup>2</sup>  \n",
    "$A_{OR}$: その他の居室の床面積, m<sup>2</sup>  \n",
    "$A_{NR}$: 非居室の床面積, m<sup>2</sup>   \n",
    "$A_{gf,MR}$: 主たる居室と床下空間の間の床の面積, m<sup>2</sup>  \n",
    "$A_{gf,OR}$: その他の居室と床下空間の間の床の面積, m<sup>2</sup>  \n",
    "$A_{gf,NR}$: 非居室と床下空間の間の床の面積, m<sup>2</sup>  \n",
    "$A_{of,MR,i}$: 方位が「下面」である主たる居室の外皮の部位(一般部位又は開口部)$i$の面積, m<sup>2</sup>  \n",
    "$A_{of,OR,i}$: 方位が「下面」であるその他の居室の外皮の部位(一般部位又は開口部)$i$の面積, m<sup>2</sup>  \n",
    "$A_{of,NR,i}$: 方位が「下面」である非居室の外皮の部位(一般部位又は開口部)$i$の面積, m<sup>2</sup>  \n",
    "$A_{ef,MR,i}$: 主たる居室の土間床$i$の面積, m<sup>2</sup>  \n",
    "$A_{ef,OR,i}$: その他の居室の土間床$i$の面積, m<sup>2</sup>  \n",
    "$A_{ef,NR,i}$: 非居室の土間床$i$の面積, m<sup>2</sup>   "
   ]
  },
  {
   "cell_type": "markdown",
   "metadata": {},
   "source": [
    "##### Function"
   ]
  },
  {
   "cell_type": "code",
   "execution_count": 26,
   "metadata": {},
   "outputs": [],
   "source": [
    "def get_floor_area_over_room(d, innerwalls):\n",
    "\n",
    "    # 床下空間上の床の面積の合計\n",
    "    def f(s):\n",
    "        # s : space name\n",
    "        return sum(iw['area'] for iw in innerwalls if (iw['type'] == 'GroundFloor' and iw['space'] == s and iw['nextspace'] == 'underfloor'))       \n",
    "    \n",
    "    # 用途別床面積の取得\n",
    "    a_mr, a_or, a_nr = get_floor_area(a_mr=d['Common']['MainOccupantRoomFloorArea'],\n",
    "                                      a_or=d['Common']['OtherOccupantRoomFloorArea'],\n",
    "                                      a_total=d['Common']['TotalFloorArea'])\n",
    "    \n",
    "    # 床下空間上の床面積と下面（Direction:Bottom）の壁・窓・ドア面積と土間床等の面積の合計値の取得\n",
    "    a_f_mr, a_f_or, a_f_nr = f('main'), f('other'), f('nonliving')\n",
    "    \n",
    "    # 方位が「下面」である外皮の部位の面積の合計\n",
    "    a_outside_mr, a_outside_or, a_outside_nr = get_floor_area_to_outside(d)\n",
    "\n",
    "    # 土間床の面積\n",
    "    a_earth_floor_mr, a_earth_floor_or, a_earth_floor_nr = get_area_of_earth_floor(d)\n",
    "    \n",
    "    # 床下空間上の床面積と方位が「下面」の部位の面積と土間床等の面積の合計値と、床面積の差を、室上の床面積とみなす。\n",
    "    a_if_mr = max(0.0, a_mr - a_f_mr - a_outside_mr - a_earth_floor_mr)\n",
    "    a_if_or = max(0.0, a_or - a_f_or - a_outside_or - a_earth_floor_or)\n",
    "    a_if_nr = max(0.0, a_nr - a_f_nr - a_outside_nr - a_earth_floor_nr)\n",
    "    \n",
    "    return a_if_mr, a_if_or, a_if_nr"
   ]
  },
  {
   "cell_type": "markdown",
   "metadata": {},
   "source": [
    "##### Example"
   ]
  },
  {
   "cell_type": "code",
   "execution_count": 27,
   "metadata": {},
   "outputs": [
    {
     "data": {
      "text/plain": [
       "(0.0, 45.0, 30.0)"
      ]
     },
     "execution_count": 27,
     "metadata": {},
     "output_type": "execute_result"
    }
   ],
   "source": [
    "d = {\n",
    "    'Common': {\n",
    "        'Region': 6,\n",
    "        'IsSimplifiedInput': False,\n",
    "        'MainOccupantRoomFloorArea': 30.0,\n",
    "        'OtherOccupantRoomFloorArea': 60.0,\n",
    "        'TotalFloorArea': 120.0\n",
    "    },\n",
    "    'Walls': [\n",
    "        { 'name': 'Ceiling', 'type': 'Ceiling', 'structure': 'wood', 'InputMethod' :'InputUA', \n",
    "          'direction': 'top', 'area': 60, 'space': 'main', 'UA': 0.24, 'IsSunshadeInput': False },\n",
    "        { 'name': 'Ceiling', 'type': 'Ceiling', 'structure': 'wood', 'InputMethod' :'InputAllDetails', 'direction': 'top', \n",
    "          'area': 60, 'space': 'main',\n",
    "          'Parts': [{'AreaRatio': 0.8, 'Layers': [{'name': 'wood','thick': 0.012, 'cond': 0.16, 'specH': 720 },\n",
    "                                                  {'name': 'wood','thick': 0.012, 'cond': 0.16, 'specH': 720 }]},\n",
    "                    {'AreaRatio': 0.2, 'Layers': [{'name': 'wood','thick': 0.012, 'cond': 0.16, 'specH': 720 },\n",
    "                                                  {'name': 'wood','thick': 0.012, 'cond': 0.16, 'specH': 720 }]}],\n",
    "          'IsSunshadeInput': False },\n",
    "        { 'name': 'Floor', 'type': 'Floor', 'structure': 'wood', 'InputMethod' :'InputAllLayers', 'direction': 'bottom', \n",
    "          'area': 60, 'space': 'main',\n",
    "          'FloorConstructionMethod' :'FrameInsulcolumn',\n",
    "          'Parts': [{'TypeFloor': 'Insulation', 'Layers': [{'name': 'wood','thick': 0.012, 'cond': 0.16, 'specH': 720 },\n",
    "                                                           {'name': 'wood','thick': 0.012, 'cond': 0.16, 'specH': 720 }]},\n",
    "                    {'TypeFloor': 'Heatbridge', 'Layers': [{'name': 'wood','thick': 0.012, 'cond': 0.16, 'specH': 720 },\n",
    "                                                           {'name': 'wood','thick': 0.012, 'cond': 0.16, 'specH': 720 }]}],\n",
    "           'IsSunshadeInput': False }\n",
    "    ],\n",
    "    'Windows': [\n",
    "        { 'name': 'WindowTop', 'direction': 'top', 'area': 30, 'space': 'main', 'UW': 6.51, 'TypeWindow': 'Single', \n",
    "          'IsEtaValueInput': False, 'TypeFrame': 'WoodOrResin', 'TypeGlass': '3WgG', 'TypeShade': 'Shoji', 'IsSunshadeInput': False }\n",
    "    ],\n",
    "    'Earthfloors': [\n",
    "        { 'name': 'other', 'area': 5.0, 'space': 'underfloor' },\n",
    "        { 'name': 'entrance', 'area': 5.0, 'space': 'underfloor' }\n",
    "    ]\n",
    "}\n",
    "\n",
    "innerwalls = [\n",
    "        { 'area': 60, 'name': 'GroundFloor_Main', 'type' : 'GroundFloor', 'space': 'main', 'nextspace' : 'underfloor', 'direction' : 'Horizontal', 'Layers' : get_inner_floor_layers()},\n",
    "        { 'area': 15, 'name': 'GroundFloor_Other', 'type' : 'GroundFloor', 'space': 'other', 'nextspace' : 'underfloor', 'direction' : 'Horizontal', 'Layers' : get_inner_floor_layers()},\n",
    "]\n",
    "\n",
    "get_floor_area_over_room(d, innerwalls)"
   ]
  },
  {
   "cell_type": "markdown",
   "metadata": {},
   "source": [
    "#### 3) 室下の天井面積の推定"
   ]
  },
  {
   "cell_type": "markdown",
   "metadata": {},
   "source": [
    "$$\n",
    "\\displaystyle\n",
    "A_{ic,MR}= \\max \\left(0, A_{MR} -  \\sum_i A_{oc,MR,i} \\right)\n",
    "$$\n",
    "\n",
    "$$\n",
    "\\displaystyle\n",
    "A_{ic,OR}= \\max \\left(0, A_{OR} -  \\sum_i A_{oc,OR,i} \\right)\n",
    "$$\n",
    "\n",
    "$$\n",
    "\\displaystyle\n",
    "A_{ic,NR}= \\max \\left(0, A_{NR} -  \\sum_i A_{oc,NR,i} \\right)\n",
    "$$"
   ]
  },
  {
   "cell_type": "markdown",
   "metadata": {},
   "source": [
    "$A_{ic,MR}$: その他の居室または非居室との間の、主たる居室の天井の面積, m<sup>2</sup>  \n",
    "$A_{ic,OR}$: 主たる居室または非居室との間の、その他の居室の天井の面積, m<sup>2</sup>  \n",
    "$A_{ic,NR}$: 主たる居室またはその他の居室との間の、非居室の天井の面積, m<sup>2</sup>  \n",
    "$A_{MR}$: 主たる居室の床面積, m<sup>2</sup>  \n",
    "$A_{OR}$: その他の居室の床面積, m<sup>2</sup>  \n",
    "$A_{NR}$: 非居室の床面積, m<sup>2</sup>   \n",
    "$A_{oc,MR,i}$: 方位が「上面」である主たる居室の外皮の部位(一般部位又は開口部)$i$の面積, m<sup>2</sup>  \n",
    "$A_{oc,OR,i}$: 方位が「上面」であるその他の居室の外皮の部位(一般部位又は開口部)$i$の面積, m<sup>2</sup>  \n",
    "$A_{oc,NR,i}$: 方位が「上面」である非居室の外皮の部位(一般部位又は開口部)$i$の面積, m<sup>2</sup>  "
   ]
  },
  {
   "cell_type": "markdown",
   "metadata": {},
   "source": [
    "##### Function"
   ]
  },
  {
   "cell_type": "code",
   "execution_count": 28,
   "metadata": {},
   "outputs": [],
   "source": [
    "def get_ceiling_area_below_room(d):\n",
    "    \n",
    "    # 用途別床面積の取得\n",
    "    a_mr, a_or, a_nr = get_floor_area(a_mr=d['Common']['MainOccupantRoomFloorArea'],\n",
    "                                      a_or=d['Common']['OtherOccupantRoomFloorArea'],\n",
    "                                      a_total=d['Common']['TotalFloorArea'])\n",
    "    \n",
    "    # 上面（Direction:Top）の壁・窓・ドア面積の合計値の取得\n",
    "    a_outside_mr, a_outside_or, a_outside_nr = get_ceiling_area_to_outside(d)\n",
    "    \n",
    "    # 方位が「上面」の部位の面積の合計値と、床面積の差\n",
    "    a_ic_mr = max(0.0, a_mr - a_outside_mr)\n",
    "    a_ic_or = max(0.0, a_or - a_outside_or)\n",
    "    a_ic_nr = max(0.0, a_nr - a_outside_nr)\n",
    "   \n",
    "    return a_ic_mr, a_ic_or, a_ic_nr"
   ]
  },
  {
   "cell_type": "markdown",
   "metadata": {},
   "source": [
    "##### Example"
   ]
  },
  {
   "cell_type": "code",
   "execution_count": 29,
   "metadata": {},
   "outputs": [
    {
     "data": {
      "text/plain": [
       "(0.0, 60.0, 30.0)"
      ]
     },
     "execution_count": 29,
     "metadata": {},
     "output_type": "execute_result"
    }
   ],
   "source": [
    "d = {\n",
    "    'Common': {\n",
    "        'Region': 6,\n",
    "        'IsSimplifiedInput': False,\n",
    "        'MainOccupantRoomFloorArea': 30.0,\n",
    "        'OtherOccupantRoomFloorArea': 60.0,\n",
    "        'TotalFloorArea': 120.0\n",
    "    },\n",
    "    'Walls': [\n",
    "        { 'name': 'Ceiling', 'type': 'Ceiling', 'structure': 'wood', 'InputMethod' :'InputUA', \n",
    "          'direction': 'top', 'area': 60, 'space': 'main', 'UA': 0.24, 'IsSunshadeInput': False },\n",
    "        { 'name': 'Ceiling', 'type': 'Ceiling', 'structure': 'wood', 'InputMethod' :'InputAllDetails', 'direction': 'top', \n",
    "          'area': 60, 'space': 'main',\n",
    "          'Parts': [{'AreaRatio': 0.8, 'Layers': [{'name': 'wood','thick': 0.012, 'cond': 0.16, 'specH': 720 },\n",
    "                                                  {'name': 'wood','thick': 0.012, 'cond': 0.16, 'specH': 720 }]},\n",
    "                    {'AreaRatio': 0.2, 'Layers': [{'name': 'wood','thick': 0.012, 'cond': 0.16, 'specH': 720 },\n",
    "                                                  {'name': 'wood','thick': 0.012, 'cond': 0.16, 'specH': 720 }]}],\n",
    "          'IsSunshadeInput': False },\n",
    "        { 'name': 'Floor', 'type': 'Floor', 'structure': 'wood', 'InputMethod' :'InputAllLayers', 'direction': 'bottom', \n",
    "          'area': 60, 'space': 'main',\n",
    "          'FloorConstructionMethod' :'FrameInsulcolumn',\n",
    "          'Parts': [{'TypeFloor': 'Insulation', 'Layers': [{'name': 'wood','thick': 0.012, 'cond': 0.16, 'specH': 720 },\n",
    "                                                           {'name': 'wood','thick': 0.012, 'cond': 0.16, 'specH': 720 }]},\n",
    "                    {'TypeFloor': 'Heatbridge', 'Layers': [{'name': 'wood','thick': 0.012, 'cond': 0.16, 'specH': 720 },\n",
    "                                                           {'name': 'wood','thick': 0.012, 'cond': 0.16, 'specH': 720 }]}],\n",
    "           'IsSunshadeInput': False }\n",
    "    ],\n",
    "    'Windows': [\n",
    "        { 'name': 'WindowTop', 'direction': 'top', 'area': 30, 'space': 'main', 'UW': 6.51, 'TypeWindow': 'Single', \n",
    "          'IsEtaValueInput': False, 'TypeFrame': 'WoodOrResin', 'TypeGlass': '3WgG', 'TypeShade': 'Shoji', 'IsSunshadeInput': False }\n",
    "    ],\n",
    "    'Earthfloors': [\n",
    "        { 'name': 'other', 'area': 5.0, 'space': 'underfloor' },\n",
    "        { 'name': 'entrance', 'area': 5.0, 'space': 'underfloor' }\n",
    "    ]\n",
    "}\n",
    "\n",
    "get_ceiling_area_below_room(d)"
   ]
  },
  {
   "cell_type": "markdown",
   "metadata": {},
   "source": [
    "### 4) 室間の床と天井の面積の推定"
   ]
  },
  {
   "cell_type": "markdown",
   "metadata": {},
   "source": [
    "$A_{if,MR}$,$A_{if,OR}$,$A_{if,NR}$は、既知とする。  \n",
    "$A_{if,MR}$,$A_{if,OR}$,$A_{if,NR}$は、各用途の床下空間上の床と、方位が「下面」である外皮の部位と、土間床等の合計面積を、用途別床面積より差し引いて推定する。  \n",
    "これらより、$A_{if,MR,OR}$,$A_{if,MR,NR}$,$A_{if,OR,NR}$,$A_{if,OR,NR}$,$A_{if,NR,MR}$,$A_{if,NR,OR}$を推定する。"
   ]
  },
  {
   "cell_type": "markdown",
   "metadata": {},
   "source": [
    "各用途の室上の床面積は、その用途と他の2用途の間の室上の床面積の合計に等しい。"
   ]
  },
  {
   "cell_type": "markdown",
   "metadata": {},
   "source": [
    "$$\n",
    "\\displaystyle\n",
    "A_{if,MR} = A_{if,MR,OR}+A_{if,MR,NR}\n",
    "$$\n",
    "$$\n",
    "\\displaystyle\n",
    "A_{if,OR} = A_{if,OR,MR}+A_{if,OR,NR}\n",
    "$$\n",
    "$$\n",
    "\\displaystyle\n",
    "A_{if,NR} = A_{if,NR,MR}+A_{if,NR,OR}\n",
    "$$"
   ]
  },
  {
   "cell_type": "markdown",
   "metadata": {},
   "source": [
    "$A_{if,MR}$: その他の居室または非居室との間の、主たる居室の床の面積, m<sup>2</sup>  \n",
    "$A_{if,OR}$: 主たる居室または非居室との間の、その他の居室の床の面積, m<sup>2</sup>  \n",
    "$A_{if,NR}$: 主たる居室またはその他の居室との間の、非居室の床の面積, m<sup>2</sup>  \n",
    "$A_{if,MR,OR}$: その他の居室との間の、主たる居室の床の面積, m<sup>2</sup>  \n",
    "$A_{if,MR,NR}$: 非居室との間の、主たる居室の床の面積, m<sup>2</sup>  \n",
    "$A_{if,OR,MR}$: 主たる居室との間の、その他の居室の床の面積, m<sup>2</sup>  \n",
    "$A_{if,OR,NR}$: 非居室との間の、その他の居室の床の面積, m<sup>2</sup>  \n",
    "$A_{if,NR,MR}$: 主たる居室との間の、非居室の床の面積, m<sup>2</sup>  \n",
    "$A_{if,NR,OR}$: その他の居室との間の、非居室の床の面積, m<sup>2</sup>  "
   ]
  },
  {
   "cell_type": "markdown",
   "metadata": {},
   "source": [
    "2用途の間の天井面積は、その2用途の間の床面積と一致するものとする。  "
   ]
  },
  {
   "cell_type": "markdown",
   "metadata": {},
   "source": [
    "$$\n",
    "\\displaystyle\n",
    "A_{ic,MR,OR} = A_{if,OR,MR}\n",
    "$$\n",
    "$$\n",
    "\\displaystyle\n",
    "A_{ic,MR,NR} = A_{if,NR,MR}\n",
    "$$\n",
    "$$\n",
    "\\displaystyle\n",
    "A_{ic,OR,MR} = A_{if,MR,OR}\n",
    "$$\n",
    "$$\n",
    "\\displaystyle\n",
    "A_{ic,OR,NR} = A_{if,NR,OR}\n",
    "$$\n",
    "$$\n",
    "\\displaystyle\n",
    "A_{ic,NR,MR} = A_{if,MR,NR}\n",
    "$$\n",
    "$$\n",
    "\\displaystyle\n",
    "A_{ic,NR,OR} = A_{if,OR,NR}\n",
    "$$"
   ]
  },
  {
   "cell_type": "markdown",
   "metadata": {},
   "source": [
    "$A_{ic,MR,OR}$: その他の居室との間の、主たる居室の天井の面積, m<sup>2</sup>  \n",
    "$A_{ic,MR,NR}$: 非居室との間の、主たる居室の天井の面積, m<sup>2</sup>  \n",
    "$A_{ic,OR,MR}$: 主たる居室との間の、その他の居室の天井の面積, m<sup>2</sup>  \n",
    "$A_{ic,OR,NR}$: 非居室との間の、その他の居室の天井の面積, m<sup>2</sup>  \n",
    "$A_{ic,NR,MR}$: 主たる居室との間の、非居室の天井の面積, m<sup>2</sup>  \n",
    "$A_{ic,NR,OR}$: その他の居室との間の、非居室の天井の面積, m<sup>2</sup>  "
   ]
  },
  {
   "cell_type": "markdown",
   "metadata": {},
   "source": [
    "各用途と他の2用途との間の室下の天井面積の比率は、他の2用途の室上の床面積の比率に一致すると仮定する。"
   ]
  },
  {
   "cell_type": "markdown",
   "metadata": {},
   "source": [
    "$$\n",
    "\\displaystyle\n",
    "A_{ic,MR,OR}:A_{ic,MR,NR} = A_{if,OR,MR}:A_{if,NR,MR} = A_{if,OR}:A_{if,NR}\n",
    "$$\n",
    "$$\n",
    "\\displaystyle\n",
    "A_{ic,OR,MR}:A_{ic,OR,NR} = A_{if,MR,OR}:A_{if,NR,OR} = A_{if,MR}:A_{if,NR}\n",
    "$$\n",
    "$$\n",
    "\\displaystyle\n",
    "A_{ic,NR,MR}:A_{ic,NR,OR} = A_{if,MR,NR}:A_{if,OR,NR} = A_{if,MR}:A_{if,OR}\n",
    "$$"
   ]
  },
  {
   "cell_type": "markdown",
   "metadata": {},
   "source": [
    "以上より、$A_{if,MR,OR}$,$A_{if,MR,NR}$,$A_{if,OR,NR}$,$A_{if,OR,NR}$,$A_{if,NR,MR}$,$A_{if,NR,OR}$が算出される。"
   ]
  },
  {
   "cell_type": "markdown",
   "metadata": {},
   "source": [
    "$$\n",
    "\\displaystyle\n",
    "A_{ic,MR,OR} = A_{if,MR,NR} = \\frac{ A_{if,MR}}{2}\n",
    "$$\n",
    "$$\n",
    "\\displaystyle\n",
    "A_{ic,OR,MR} = A_{if,OR,NR} = \\frac{ A_{if,OR}}{2}\n",
    "$$\n",
    "$$\n",
    "\\displaystyle\n",
    "A_{ic,NR,MR} = A_{if,NR,OR} = \\frac{ A_{if,NR}}{2}\n",
    "$$"
   ]
  },
  {
   "cell_type": "markdown",
   "metadata": {},
   "source": [
    "$A_{if,NR,MR}$の算出の詳細は以下。他の2用途間についても同様。"
   ]
  },
  {
   "cell_type": "markdown",
   "metadata": {},
   "source": [
    "$\n",
    "\\displaystyle\n",
    "A_{if,MR,OR} = A_{if,MR} - A_{if,MR,NR}   \n",
    "$  \n",
    "$\n",
    "\\displaystyle\n",
    "　　　　= A_{if,MR} - A_{if,OR,NR} \\times \\frac{A_{if,MR}}{A_{if,OR}}  \n",
    "$  \n",
    "$\n",
    "\\displaystyle\n",
    "　　　　= A_{if,MR} - ( A_{if,OR} - A_{if,OR,MR}) \\times \\frac{A_{if,MR}}{A_{if,OR}}   \n",
    "$  \n",
    "$\n",
    "\\displaystyle\n",
    "　　　　= A_{if,MR} - ( A_{if,OR} - A_{if,NR,MR} \\times \\frac{A_{if,OR}}{A_{if,NR}}) \\times \\frac{A_{if,MR}}{A_{if,OR}}  \n",
    "$  \n",
    "$\n",
    "\\displaystyle\n",
    "　　　　= A_{if,NR,MR}\\times \\frac{A_{if,MR}}{A_{if,NR}}\n",
    "$  \n",
    "$\n",
    "\\displaystyle\n",
    "A_{if,MR} : A_{if,NR} = A_{if,MR,OR} : A_{if,NR,OR} = A_{if,NR,MR}\\times \\frac{A_{if,MR}}{A_{if,NR}} : A_{if,NR} - A_{if,NR,MR}\n",
    "$\n",
    "\n",
    "$$\n",
    "\\displaystyle\n",
    "∴　A_{if,NR,MR} = \\frac{A_{if,NR}}{2}\n",
    "$$"
   ]
  },
  {
   "cell_type": "markdown",
   "metadata": {},
   "source": [
    "##### Function "
   ]
  },
  {
   "cell_type": "code",
   "execution_count": 30,
   "metadata": {},
   "outputs": [],
   "source": [
    "def get_slab_area_between_rooms(d, innerwalls):\n",
    "    \n",
    "    def get_if(space_name, next_space_name, area):\n",
    "        return {\n",
    "            'name' : 'InnerFloor' + space_name + next_space_name,\n",
    "            'area' : area,\n",
    "            'space' : space_name,\n",
    "            'nextspace' : next_space_name\n",
    "        }\n",
    "    \n",
    "    def get_ic(space_name, next_space_name, area):\n",
    "        return {\n",
    "            'name' : 'InnerCeiling' + space_name + next_space_name,\n",
    "            'area' : area,\n",
    "            'space' : space_name,\n",
    "            'nextspace' : next_space_name\n",
    "        }\n",
    "    \n",
    "    # 室上の床面積の取得\n",
    "    a_if_mr, a_if_or, a_if_nr = get_floor_area_over_room(d, innerwalls)\n",
    "    \n",
    "    # 室下の天井面積の取得\n",
    "    a_ic_mr, a_ic_or, a_ic_nr = get_ceiling_area_below_room(d)\n",
    "\n",
    "    # 部屋間の床面積・天井面積を求める。\n",
    "    ifs = []\n",
    "    ics = []\n",
    "    \n",
    "    if a_if_mr > 0.0 and a_if_or > 0.0:\n",
    "\n",
    "        ifs.append(get_if('main', 'other', a_if_mr/2))\n",
    "        ics.append(get_ic('other', 'main', a_if_mr/2))\n",
    "        \n",
    "        ifs.append(get_if('other', 'main', a_if_or/2))\n",
    "        ics.append(get_ic('main', 'other', a_if_or/2))\n",
    "        \n",
    "    if a_if_mr > 0.0 and a_if_nr > 0.0:\n",
    "        \n",
    "        ifs.append(get_if('main', 'nonliving', a_if_mr/2))\n",
    "        ifs.append(get_ic('nonliving', 'main', a_if_mr/2))\n",
    "        \n",
    "        ifs.append(get_if('nonliving', 'main', a_if_nr/2))\n",
    "        ifs.append(get_ic('main', 'nonliving', a_if_nr/2))\n",
    "        \n",
    "    if a_if_or > 0.0 and a_if_nr > 0.0:\n",
    "        \n",
    "        ifs.append(get_if('other', 'nonliving', a_if_or/2))\n",
    "        ifs.append(get_ic('nonliving', 'other', a_if_or/2))\n",
    "\n",
    "        ifs.append(get_if('nonliving', 'other', a_if_nr/2))\n",
    "        ifs.append(get_ic('other', 'nonliving', a_if_nr/2))\n",
    "  \n",
    "    return {'InnerFloors' : ifs, 'InnerCeilings' : ics}"
   ]
  },
  {
   "cell_type": "markdown",
   "metadata": {},
   "source": [
    "#### 5) 室間の床・天井の構築"
   ]
  },
  {
   "cell_type": "markdown",
   "metadata": {},
   "source": [
    "##### Function"
   ]
  },
  {
   "cell_type": "code",
   "execution_count": 31,
   "metadata": {},
   "outputs": [],
   "source": [
    "def get_innerwall_innerslab(d, innerwalls):\n",
    "    \n",
    "    # 室間の床・天井面積の推定\n",
    "    areas_innerslab = get_slab_area_between_rooms(d, innerwalls)\n",
    "    \n",
    "    # 壁体名称、部位面積を更新し、「壁体が属する空間種類」「隣接空間種類」を追加する\n",
    "    ifs = []\n",
    "    \n",
    "    ifs.extend([ {\n",
    "        'name' : 'InnerFloor_' + x['space'],\n",
    "        'type' : 'InnerFloor',\n",
    "        'direction' : 'Horizontal',\n",
    "        'area' : x['area'],\n",
    "        'Layers' : get_inner_floor_layers(),\n",
    "        'space' : x['space'], \n",
    "        'nextspace' : x['nextspace'],\n",
    "    } for x in areas_innerslab['InnerFloors'] ])\n",
    "    \n",
    "    ifs.extend([ {\n",
    "        'name' : 'InnerCeiling_' + x['space'],\n",
    "        'type' : 'InnerCeiling',\n",
    "        'direction' : 'Horizontal',\n",
    "        'area' : x['area'],\n",
    "        'Layers' : get_inner_floor_layers(),\n",
    "        'space' : x['space'], \n",
    "        'nextspace' : x['nextspace'],\n",
    "    } for x in areas_innerslab['InnerCeilings'] ])\n",
    "        \n",
    "    return ifs"
   ]
  },
  {
   "cell_type": "markdown",
   "metadata": {},
   "source": [
    "#### Example"
   ]
  },
  {
   "cell_type": "code",
   "execution_count": 32,
   "metadata": {},
   "outputs": [
    {
     "data": {
      "text/plain": [
       "{'InnerFloors': [{'name': 'InnerFloorothernonliving',\n",
       "   'area': 22.5,\n",
       "   'space': 'other',\n",
       "   'nextspace': 'nonliving'},\n",
       "  {'name': 'InnerCeilingnonlivingother',\n",
       "   'area': 22.5,\n",
       "   'space': 'nonliving',\n",
       "   'nextspace': 'other'},\n",
       "  {'name': 'InnerFloornonlivingother',\n",
       "   'area': 15.0,\n",
       "   'space': 'nonliving',\n",
       "   'nextspace': 'other'},\n",
       "  {'name': 'InnerCeilingothernonliving',\n",
       "   'area': 15.0,\n",
       "   'space': 'other',\n",
       "   'nextspace': 'nonliving'}],\n",
       " 'InnerCeilings': []}"
      ]
     },
     "execution_count": 32,
     "metadata": {},
     "output_type": "execute_result"
    }
   ],
   "source": [
    "d = {\n",
    "    'Common': {\n",
    "        'Region': 6,\n",
    "        'IsSimplifiedInput': False,\n",
    "        'MainOccupantRoomFloorArea': 30.0,\n",
    "        'OtherOccupantRoomFloorArea': 60.0,\n",
    "        'TotalFloorArea': 120.0\n",
    "    },\n",
    "    'Walls': [\n",
    "        { 'name': 'Ceiling', 'type': 'Ceiling', 'structure': 'wood', 'InputMethod' :'InputUA', \n",
    "          'direction': 'top', 'area': 60, 'space': 'main', 'UA': 0.24, 'IsSunshadeInput': False },\n",
    "        { 'name': 'Ceiling', 'type': 'Ceiling', 'structure': 'wood', 'InputMethod' :'InputAllDetails', 'direction': 'top', \n",
    "          'area': 60, 'space': 'main',\n",
    "          'Parts': [{'AreaRatio': 0.8, 'Layers': [{'name': 'wood','thick': 0.012, 'cond': 0.16, 'specH': 720 },\n",
    "                                                  {'name': 'wood','thick': 0.012, 'cond': 0.16, 'specH': 720 }]},\n",
    "                    {'AreaRatio': 0.2, 'Layers': [{'name': 'wood','thick': 0.012, 'cond': 0.16, 'specH': 720 },\n",
    "                                                  {'name': 'wood','thick': 0.012, 'cond': 0.16, 'specH': 720 }]}],\n",
    "          'IsSunshadeInput': False },\n",
    "        { 'name': 'Floor', 'type': 'Floor', 'structure': 'wood', 'InputMethod' :'InputAllLayers', 'direction': 'bottom', \n",
    "          'area': 60, 'space': 'main',\n",
    "          'FloorConstructionMethod' :'FrameInsulcolumn',\n",
    "          'Parts': [{'TypeFloor': 'Insulation', 'Layers': [{'name': 'wood','thick': 0.012, 'cond': 0.16, 'specH': 720 },\n",
    "                                                           {'name': 'wood','thick': 0.012, 'cond': 0.16, 'specH': 720 }]},\n",
    "                    {'TypeFloor': 'Heatbridge', 'Layers': [{'name': 'wood','thick': 0.012, 'cond': 0.16, 'specH': 720 },\n",
    "                                                           {'name': 'wood','thick': 0.012, 'cond': 0.16, 'specH': 720 }]}],\n",
    "           'IsSunshadeInput': False }\n",
    "    ],\n",
    "    'Windows': [\n",
    "        { 'name': 'WindowTop', 'direction': 'top', 'area': 30, 'space': 'main', 'UW': 6.51, 'TypeWindow': 'Single', \n",
    "          'IsEtaValueInput': False, 'TypeFrame': 'WoodOrResin', 'TypeGlass': '3WgG', 'TypeShade': 'Shoji', 'IsSunshadeInput': False }\n",
    "    ],\n",
    "    'Earthfloors': [\n",
    "        { 'name': 'other', 'area': 5.0, 'space': 'underfloor' },\n",
    "        { 'name': 'entrance', 'area': 5.0, 'space': 'underfloor' }\n",
    "    ]\n",
    "}\n",
    "\n",
    "innerwalls = [\n",
    "        { 'area': 60, 'name': 'GroundFloor_Main', 'type' : 'GroundFloor', 'space': 'main', 'nextspace' : 'underfloor', 'direction' : 'Horizontal', 'Layers' : get_inner_floor_layers()},\n",
    "        { 'area': 15, 'name': 'GroundFloor_Other', 'type' : 'GroundFloor', 'space': 'other', 'nextspace' : 'underfloor', 'direction' : 'Horizontal', 'Layers' : get_inner_floor_layers()},\n",
    "]\n",
    "\n",
    "get_slab_area_between_rooms(d, innerwalls)"
   ]
  },
  {
   "cell_type": "markdown",
   "metadata": {},
   "source": [
    "### 8.5. InnerWalls Element - Inner Wall "
   ]
  },
  {
   "cell_type": "markdown",
   "metadata": {},
   "source": [
    "#### 1) 層構成"
   ]
  },
  {
   "cell_type": "markdown",
   "metadata": {},
   "source": [
    "以下の層構成とする。"
   ]
  },
  {
   "cell_type": "markdown",
   "metadata": {},
   "source": [
    "| 材料 | 厚さ, m | 熱伝導率, W m<sup>-1</sup> K<sup>-1</sup> | 熱抵抗, m<sup>2</sup>2 k W<sup>-1</sup> | 容積比熱, J L<sup>-1</sup> K<sup>-1</sup> |\n",
    "|---|---|---|---|\n",
    "| せっこうボード | 0.0125 | 0.22 | 0.0568 | 830.0 |\n",
    "| 非密閉空気層 | - | - | 0.090 | 0.0 |\n",
    "| せっこうボード | 0.0125 | 0.22 | 0.0568 | 830.0 |"
   ]
  },
  {
   "cell_type": "markdown",
   "metadata": {},
   "source": [
    "##### Function"
   ]
  },
  {
   "cell_type": "code",
   "execution_count": 33,
   "metadata": {},
   "outputs": [],
   "source": [
    "def get_inner_wall_layers():\n",
    "    return [\n",
    "        {'name': 'GPB', 'cond': 0.22,   'thick': 0.0125, 'specH': 830.0},\n",
    "        {'name': 'GPB', 'cond': 1/0.09, 'thick': 1,      'specH': 0},\n",
    "        {'name': 'GPB', 'cond': 0.22,   'thick': 0.0125, 'specH': 830.0}\n",
    "    ]"
   ]
  },
  {
   "cell_type": "markdown",
   "metadata": {},
   "source": [
    "#### 2) 内壁等面積の推定"
   ]
  },
  {
   "cell_type": "markdown",
   "metadata": {},
   "source": [
    "用途間の内壁等の面積は、各用途の内壁等の面積より決定する。"
   ]
  },
  {
   "cell_type": "markdown",
   "metadata": {},
   "source": [
    "$$\n",
    "A_{iw,MR-OR} =\\frac{ A_{iw,MR} + A_{iw,OR} - A_{iw,NR} }{2}\n",
    "$$"
   ]
  },
  {
   "cell_type": "markdown",
   "metadata": {},
   "source": [
    "$$\n",
    "A_{iw,MR-NR} = \\frac{ A_{iw,MR} + A_{iw,NR} - A_{iw,OR} }{2}\n",
    "$$"
   ]
  },
  {
   "cell_type": "markdown",
   "metadata": {},
   "source": [
    "$$\n",
    "A_{iw,NR-OR} = \\frac{ A_{iw,NR} + A_{iw,OR} - A_{iw,MR} }{2}\n",
    "$$"
   ]
  },
  {
   "cell_type": "markdown",
   "metadata": {},
   "source": [
    "$ \\because $"
   ]
  },
  {
   "cell_type": "markdown",
   "metadata": {},
   "source": [
    "$$\n",
    "A_{iw,MR} =A_{iw,MR-OR}+A_{iw,MR-NR}\n",
    "$$\n",
    "\n",
    "$$\n",
    "A_{iw,OR} =A_{iw,MR-OR}+A_{iw,OR-NR}\n",
    "$$\n",
    "\n",
    "$$\n",
    "A_{iw,NR} =A_{iw,MR-OR}+A_{iw,OR-NR}\n",
    "$$"
   ]
  },
  {
   "cell_type": "markdown",
   "metadata": {},
   "source": [
    "$A_{iw,MR-OR}$: 主たる居室とその他の居室の間の内壁等の面積, m<sup>2</sup>  \n",
    "$A_{iw,MR-NR}$: 主たる居室と非居室の間の内壁等の面積, m<sup>2</sup>  \n",
    "$A_{iw,OR-NR}$: その他の居室と非居室の間の内壁等の面積, m<sup>2</sup>  \n",
    "$A_{iw,MR}$: 主たる居室の内壁等の面積, m<sup>2</sup>  \n",
    "$A_{iw,OR}$: その他の居室の内壁等の面積, m<sup>2</sup>  \n",
    "$A_{iw,NR}$: 非居室の内壁等の面積, m<sup>2</sup>  "
   ]
  },
  {
   "cell_type": "markdown",
   "metadata": {},
   "source": [
    "各用途の内壁等の面積は、各用途の内壁等の面積の暫定値より、用途間の内壁等の面積が0㎡以上となる範囲で決定する。"
   ]
  },
  {
   "cell_type": "markdown",
   "metadata": {},
   "source": [
    "$A_{iw,MR,temp}>A_{iw,OR,temp}+A_{iw,NR,temp}$ の場合"
   ]
  },
  {
   "cell_type": "markdown",
   "metadata": {},
   "source": [
    "　　$A_{OR}=0$ かつ $A_{NR}=0$ の場合"
   ]
  },
  {
   "cell_type": "markdown",
   "metadata": {},
   "source": [
    "$$A_{iw,MR} = 0, A_{iw,OR} = 0, A_{iw,NR} = 0$$"
   ]
  },
  {
   "cell_type": "markdown",
   "metadata": {},
   "source": [
    "　　$A_{OR}>0$ または $A_{NR}>0$ で、 $A_{iw,OR,temp}=0$ かつ $A_{iw,NR,temp}=0$ の場合"
   ]
  },
  {
   "cell_type": "markdown",
   "metadata": {},
   "source": [
    "$$\n",
    "A_{iw,MR} = A_{iw,MR,temp}\n",
    "$$\n",
    "$$\n",
    "A_{iw,OR} = A_{iw,MR,temp}\\times \\frac{A_{OR}}{A_{OR}+A_{NR}}\n",
    "$$\n",
    "$$\n",
    "A_{iw,NR} = A_{iw,MR,temp}\\times \\frac{A_{NR}}{A_{OR}+A_{NR}}\n",
    "$$"
   ]
  },
  {
   "cell_type": "markdown",
   "metadata": {},
   "source": [
    "　　$A_{OR}>0$ または $A_{NR}>0$ で、 $A_{iw,OR,temp}>0$ または $A_{iw,NR,temp}>0$ の場合"
   ]
  },
  {
   "cell_type": "markdown",
   "metadata": {},
   "source": [
    "$$\n",
    "A_{iw,MR} = A_{iw,MR,temp}\n",
    "$$\n",
    "$$\n",
    "A_{iw,OR} = A_{iw,MR,temp}\\times \\frac{A_{iw,OR,temp}}{A_{iw,OR,temp}+A_{iw,NR,temp}}\n",
    "$$\n",
    "$$\n",
    "A_{iw,NR} = A_{iw,MR,temp}\\times \\frac{A_{iw,NR,temp}}{A_{iw,OR,temp}+A_{iw,NR,temp}}\n",
    "$$"
   ]
  },
  {
   "cell_type": "markdown",
   "metadata": {},
   "source": [
    "$A_{iw,OR,temp}>A_{iw,MR,temp}+A_{iw,NR,temp}$ の場合"
   ]
  },
  {
   "cell_type": "markdown",
   "metadata": {},
   "source": [
    "　　$A_{MR}=0$ かつ $A_{NR}=0$ の場合"
   ]
  },
  {
   "cell_type": "markdown",
   "metadata": {},
   "source": [
    "$$A_{iw,MR} = 0, A_{iw,OR} = 0, A_{iw,NR} = 0$$"
   ]
  },
  {
   "cell_type": "markdown",
   "metadata": {},
   "source": [
    "　　$A_{OR}>0$ または $A_{NR}>0$ で、 $A_{iw,OR,temp}=0$ かつ $A_{iw,NR,temp}=0$ の場合"
   ]
  },
  {
   "cell_type": "markdown",
   "metadata": {},
   "source": [
    "$$\n",
    "A_{iw,OR} = A_{iw,OR,temp}\n",
    "$$\n",
    "$$\n",
    "A_{iw,MR} = A_{iw,OR,temp}\\times \\frac{A_{MR}}{A_{MR}+A_{NR}}\n",
    "$$\n",
    "$$\n",
    "A_{iw,NR} = A_{iw,OR,temp}\\times \\frac{A_{NR}}{A_{MR}+A_{NR}}\n",
    "$$"
   ]
  },
  {
   "cell_type": "markdown",
   "metadata": {},
   "source": [
    "　　$A_{OR}>0$ または $A_{NR}>0$ で、 $A_{iw,OR,temp}>0$ または $A_{iw,NR,temp}>0$ の場合"
   ]
  },
  {
   "cell_type": "markdown",
   "metadata": {},
   "source": [
    "$$\n",
    "A_{iw,OR} = A_{iw,OR,temp}\n",
    "$$\n",
    "$$\n",
    "A_{iw,MR} = A_{iw,OR,temp}\\times \\frac{A_{iw,MR,temp}}{A_{iw,MR,temp}+A_{iw,NR,temp}}\n",
    "$$\n",
    "$$\n",
    "A_{iw,NR} = A_{iw,OR,temp}\\times \\frac{A_{iw,NR,temp}}{A_{iw,MR,temp}+A_{iw,NR,temp}}\n",
    "$$"
   ]
  },
  {
   "cell_type": "markdown",
   "metadata": {},
   "source": [
    "$A_{iw,NR,temp}>A_{iw,MR,temp}+A_{iw,OR,temp}$ の場合"
   ]
  },
  {
   "cell_type": "markdown",
   "metadata": {},
   "source": [
    "　　$A_{MR}=0$ かつ $A_{OR}=0$ の場合"
   ]
  },
  {
   "cell_type": "markdown",
   "metadata": {},
   "source": [
    "$$A_{iw,MR} = 0, A_{iw,OR} = 0, A_{iw,NR} = 0$$"
   ]
  },
  {
   "cell_type": "markdown",
   "metadata": {},
   "source": [
    "　　$A_{OR}>0$ または $A_{NR}>0$ で、 $A_{iw,OR,temp}=0$ かつ $A_{iw,NR,temp}=0$ の場合"
   ]
  },
  {
   "cell_type": "markdown",
   "metadata": {},
   "source": [
    "$$\n",
    "A_{iw,NR} = A_{iw,NR,temp}\n",
    "$$\n",
    "$$\n",
    "A_{iw,MR} = A_{iw,NR,temp}\\times \\frac{A_{MR}}{A_{MR}+A_{OR}}\n",
    "$$\n",
    "$$\n",
    "A_{iw,OR} = A_{iw,NR,temp}\\times \\frac{A_{OR}}{A_{MR}+A_{OR}}\n",
    "$$"
   ]
  },
  {
   "cell_type": "markdown",
   "metadata": {},
   "source": [
    "　　$A_{OR}>0$ または $A_{NR}>0$ で、 $A_{iw,OR,temp}>0$ または $A_{iw,NR,temp}>0$ の場合"
   ]
  },
  {
   "cell_type": "markdown",
   "metadata": {},
   "source": [
    "$$\n",
    "A_{iw,NR} = A_{iw,NR,temp}\n",
    "$$\n",
    "$$\n",
    "A_{iw,MR} = A_{iw,NR,temp}\\times \\frac{A_{iw,MR,temp}}{A_{iw,MR,temp}+A_{iw,OR,temp}}\n",
    "$$\n",
    "$$\n",
    "A_{iw,OR} = A_{iw,NR,temp}\\times \\frac{A_{iw,OR,temp}}{A_{iw,MR,temp}+A_{iw,OR,temp}}\n",
    "$$"
   ]
  },
  {
   "cell_type": "markdown",
   "metadata": {},
   "source": [
    "上記以外の場合"
   ]
  },
  {
   "cell_type": "markdown",
   "metadata": {},
   "source": [
    "$$A_{iw,MR} = A_{iw,MR,temp}, A_{iw,OR} = A_{iw,OR,temp}, A_{iw,NR} = A_{iw,NR,temp}$$"
   ]
  },
  {
   "cell_type": "markdown",
   "metadata": {},
   "source": [
    "$A_{MR}$: 主たる居室の床面積, m<sup>2</sup>  \n",
    "$A_{OR}$: その他の居室の床面積, m<sup>2</sup>  \n",
    "$A_{NR}$: 非居室の床面積, m<sup>2</sup>   \n",
    "$A_{iw,MR,temp}$: 主たる居室の内壁等の面積の暫定値, m<sup>2</sup>  \n",
    "$A_{iw,OR,temp}$: その他の居室の内壁等の面積の暫定値, m<sup>2</sup>  \n",
    "$A_{iw,NR,temp}$: 非居室の内壁等の面積の暫定値, m<sup>2</sup>  "
   ]
  },
  {
   "cell_type": "markdown",
   "metadata": {},
   "source": [
    "各用途の内壁等の面積の暫定値は、室の周長を求める際の係数（アスペクト比）と階高を仮定して、外皮の用途別情報および用途別床面積より推定する。"
   ]
  },
  {
   "cell_type": "markdown",
   "metadata": {},
   "source": [
    "$$\n",
    "A_{iw,MR,temp} = \\left \\{\n",
    "\\begin{array}{ll}\n",
    "0 & ( A_{MR} = 0 ) \\\\\n",
    "A_{w,MR} - A_{ow,MR} = \\max \\left ( 0,4 \\cdot ar_{MR} \\cdot h \\sqrt {A_{MR}} - A_{ow,MR} \\right ) & ( A_{MR} > 0 )\n",
    "\\end{array}\n",
    "\\right.\n",
    "$$"
   ]
  },
  {
   "cell_type": "markdown",
   "metadata": {},
   "source": [
    "$$\n",
    "A_{iw,OR,temp} = \\left \\{\n",
    "\\begin{array}{ll}\n",
    "0 & ( A_{OR} = 0 ) \\\\\n",
    "A_{w,OR} - A_{ow,OR} = \\max \\left ( 0, 4 \\cdot ar_{NR} \\cdot h \\sqrt {A_{OR}} - A_{ow,OR} \\right ) & ( A_{OR} > 0 )\n",
    "\\end{array}\n",
    "\\right.\n",
    "$$"
   ]
  },
  {
   "cell_type": "markdown",
   "metadata": {},
   "source": [
    "$$\n",
    "A_{iw,NR,temp} = \\left \\{\n",
    "\\begin{array}{ll}\n",
    "0 & ( A_{NR} = 0 ) \\\\\n",
    "A_{w,NR} - A_{ow,NR} = \\max \\left ( 0, 4 \\cdot ar_{OR} \\cdot h \\sqrt {A_{NR}} - A_{ow,NR} \\right ) & ( A_{NR} > 0 )\n",
    "\\end{array}\n",
    "\\right.\n",
    "$$"
   ]
  },
  {
   "cell_type": "markdown",
   "metadata": {},
   "source": [
    "$A_{w,MR}$: 主たる居室の鉛直面の外皮と内壁の面積の合計, m<sup>2</sup>  \n",
    "$A_{w,OR}$: その他の居室の鉛直面の外皮と内壁の面積の合計, m<sup>2</sup>  \n",
    "$A_{w,NR}$: 非居室の鉛直面の外皮と内壁の面積の合計, m<sup>2</sup>  \n",
    "$A_{ow,MR}$: 主たる居室の鉛直面の外皮の面積の合計, m<sup>2</sup>  \n",
    "$A_{ow,OR}$: その他の居室の鉛直面の外皮の面積の合計, m<sup>2</sup>  \n",
    "$A_{ow,NR}$: 非居室の鉛直面の外皮の面積の合計, m<sup>2</sup>  \n",
    "$ar_{MR}$: 主たる居室の周長を求める際の係数, -  \n",
    "$ar_{OR}$: その他の居室の周長を求める際の係数, -  \n",
    "$ar_{NR}$: 非居室の周長を求める際の係数, -  \n",
    "$h$: 階高, m"
   ]
  },
  {
   "cell_type": "markdown",
   "metadata": {},
   "source": [
    "##### Function"
   ]
  },
  {
   "cell_type": "code",
   "execution_count": 34,
   "metadata": {},
   "outputs": [],
   "source": [
    "def get_area_inner_wall(d):\n",
    "    \n",
    "    # 用途別床面積の取得\n",
    "    a_mr, a_or, a_nr = get_floor_area(a_mr=d['Common']['MainOccupantRoomFloorArea'],\n",
    "                                      a_or=d['Common']['OtherOccupantRoomFloorArea'],\n",
    "                                      a_total=d['Common']['TotalFloorArea'])\n",
    " \n",
    "    # 周長を求める際の係数, -\n",
    "    r_mr, r_or, r_nr = 1.2, 1.4, 1.4\n",
    "\n",
    "    # 居室の外皮と床下空間との間の床の面積の合計\n",
    "    a_ow_mr, a_ow_or, a_ow_nr = get_outside_wall_area(d)\n",
    "\n",
    "    # 内壁等の面積の暫定値の取得\n",
    "    def get_int_wall_area(floor_area, ratio, outside_wall_area):\n",
    "        h = 2.8 # 階高, m\n",
    "        return max(0.0, 4 * h * ratio * floor_area**0.5 - outside_wall_area) if floor_area > 0.0 else 0.0\n",
    "\n",
    "    # 内壁等の面積の暫定値の取得\n",
    "    a_iw_mr = get_int_wall_area(a_mr, r_mr, a_ow_mr)\n",
    "    a_iw_or = get_int_wall_area(a_or, r_or, a_ow_or)\n",
    "    a_iw_nr = get_int_wall_area(a_nr, r_nr, a_ow_nr)\n",
    "\n",
    "    # 内壁等の面積の取得\n",
    "    def get_alt_area(a_iw, a_iw_adj1, a_iw_adj2, a_f_adj1, a_f_adj2):\n",
    "        # a_iw: 当該ZONEの内壁面積\n",
    "        # a_iw_adj1, a_f_adj1: 隣のZONE1の内壁面積, 床面積\n",
    "        # a_iw_adj2, a_f_adj2: 隣のZONE2の内壁面積, 床面積\n",
    "        \n",
    "        if a_f_adj1 == 0.0 and a_f_adj2 == 0.0:\n",
    "            return 0.0, 0.0, 0.0\n",
    "        elif a_iw_adj1 == 0.0 and a_iw_adj2 == 0.0:\n",
    "            return a_iw, a_iw * a_f_adj1 / (a_f_adj1 + a_f_adj2), a_iw * a_f_adj2 / (a_f_adj1 + a_f_adj2)\n",
    "        else:\n",
    "            return a_iw, a_iw * a_iw_adj1 / (a_iw_adj1 + a_iw_adj2), a_iw * a_iw_adj2 / (a_iw_adj1 + a_iw_adj2)\n",
    "\n",
    "    if a_iw_mr > a_iw_or + a_iw_nr:\n",
    "        alt_a_iw_mr, alt_a_iw_or, alt_a_iw_nr = get_alt_area(a_iw_mr, a_iw_or, a_iw_nr, a_or, a_nr)\n",
    "    elif a_iw_or > a_iw_nr + a_iw_mr:\n",
    "        alt_a_iw_or, alt_a_iw_nr, alt_a_iw_mr = get_alt_area(a_iw_or, a_iw_nr, a_iw_mr, a_nr, a_mr)\n",
    "    elif a_iw_nr > a_iw_mr + a_iw_or:\n",
    "        alt_a_iw_nr, alt_a_iw_mr, alt_a_iw_or = get_alt_area(a_iw_nr, a_iw_mr, a_iw_or, a_mr, a_or)\n",
    "    else :\n",
    "        alt_a_iw_mr, alt_a_iw_or, alt_a_iw_nr = a_iw_mr, a_iw_or, a_iw_nr\n",
    "    \n",
    "    # 室用途間の内壁等の面積の推定\n",
    "    a_iw_mr_or = (alt_a_iw_mr + alt_a_iw_or - alt_a_iw_nr) / 2\n",
    "    a_iw_mr_nr = (alt_a_iw_nr + alt_a_iw_mr - alt_a_iw_or) / 2\n",
    "    a_iw_or_nr = (alt_a_iw_or + alt_a_iw_nr - alt_a_iw_mr) / 2\n",
    "    \n",
    "    return a_iw_mr_or, a_iw_mr_nr, a_iw_or_nr           "
   ]
  },
  {
   "cell_type": "markdown",
   "metadata": {},
   "source": [
    "#### 3) 内壁の構築"
   ]
  },
  {
   "cell_type": "markdown",
   "metadata": {},
   "source": [
    "##### Function"
   ]
  },
  {
   "cell_type": "code",
   "execution_count": 35,
   "metadata": {},
   "outputs": [],
   "source": [
    "def get_innerwall_wall(d):\n",
    "\n",
    "    # 内壁面積の推定\n",
    "    a_iw_mr_or, a_iw_mr_nr, a_iw_or_nr = get_area_inner_wall(d)\n",
    "    \n",
    "    # 壁体名称、部位面積を更新し、「壁体が属する空間種類」「隣接空間種類」を追加する\n",
    "    iws = []\n",
    "\n",
    "    if a_iw_mr_or > 0.0:\n",
    "\n",
    "        iws.append({\n",
    "            'name' : 'Innerwall_main to other',\n",
    "            'type' : 'InnerWall',\n",
    "            'direction' : 'Vertical',\n",
    "            'Layers' : get_inner_wall_layers(),\n",
    "            'area' : a_iw_mr_or,\n",
    "            'space' : 'main', \n",
    "            'nextspace:': 'other'\n",
    "        })\n",
    "        \n",
    "        iws.append({\n",
    "            'name' : 'Innerwall_main to other',\n",
    "            'type' : 'InnerWall',\n",
    "            'direction' : 'Vertical',\n",
    "            'Layers' : get_inner_wall_layers(),\n",
    "            'area' : a_iw_mr_or,\n",
    "            'space' : 'other', \n",
    "            'nextspace:': 'main'\n",
    "        })\n",
    "\n",
    "    if a_iw_mr_nr > 0.0:\n",
    "        \n",
    "        iws.append({\n",
    "            'name' : 'Innerwall_main to nonliving',\n",
    "            'type' : 'InnerWall',\n",
    "            'direction' : 'Vertical',\n",
    "            'Layers' : get_inner_wall_layers(),\n",
    "            'area' : a_iw_mr_nr,\n",
    "            'space' : 'main', \n",
    "            'nextspace:': 'nonliving'\n",
    "        })\n",
    "        \n",
    "        iws.append({\n",
    "            'name' : 'Innerwall_main to nonliving',\n",
    "            'type' : 'InnerWall',\n",
    "            'direction' : 'Vertical',\n",
    "            'Layers' : get_inner_wall_layers(),\n",
    "            'area' : a_iw_mr_nr,\n",
    "            'space' : 'nonliving', \n",
    "            'nextspace:': 'main'\n",
    "        })\n",
    "\n",
    "    if a_iw_or_nr > 0.0:\n",
    "        \n",
    "        iws.append({\n",
    "            'name' : 'Innerwall_other to nonliving',\n",
    "            'type' : 'InnerWall',\n",
    "            'direction' : 'Vertical',\n",
    "            'Layers' : get_inner_wall_layers(),\n",
    "            'area' : a_iw_or_nr,\n",
    "            'space' : 'other', \n",
    "            'nextspace:': 'nonliving'\n",
    "        })\n",
    "        iws.append({\n",
    "            'name' : 'Innerwall_other to nonliving',\n",
    "            'type' : 'InnerWall',\n",
    "            'direction' : 'Vertical',\n",
    "            'Layers' : get_inner_wall_layers(),\n",
    "            'area' : a_iw_or_nr,\n",
    "            'space' : 'nonliving', \n",
    "            'nextspace:': 'other'\n",
    "        })\n",
    "\n",
    "    return iws"
   ]
  },
  {
   "cell_type": "markdown",
   "metadata": {},
   "source": [
    "##### Example"
   ]
  },
  {
   "cell_type": "code",
   "execution_count": 36,
   "metadata": {},
   "outputs": [
    {
     "data": {
      "text/plain": [
       "[{'name': 'Innerwall_main to other',\n",
       "  'type': 'InnerWall',\n",
       "  'direction': 'Vertical',\n",
       "  'Layers': [{'name': 'GPB', 'cond': 0.22, 'thick': 0.0125, 'specH': 830.0},\n",
       "   {'name': 'GPB', 'cond': 11.11111111111111, 'thick': 1, 'specH': 0},\n",
       "   {'name': 'GPB', 'cond': 0.22, 'thick': 0.0125, 'specH': 830.0}],\n",
       "  'area': 54.59388622447443,\n",
       "  'space': 'main',\n",
       "  'nextspace:': 'other'},\n",
       " {'name': 'Innerwall_main to other',\n",
       "  'type': 'InnerWall',\n",
       "  'direction': 'Vertical',\n",
       "  'Layers': [{'name': 'GPB', 'cond': 0.22, 'thick': 0.0125, 'specH': 830.0},\n",
       "   {'name': 'GPB', 'cond': 11.11111111111111, 'thick': 1, 'specH': 0},\n",
       "   {'name': 'GPB', 'cond': 0.22, 'thick': 0.0125, 'specH': 830.0}],\n",
       "  'area': 54.59388622447443,\n",
       "  'space': 'other',\n",
       "  'nextspace:': 'main'},\n",
       " {'name': 'Innerwall_main to nonliving',\n",
       "  'type': 'InnerWall',\n",
       "  'direction': 'Vertical',\n",
       "  'Layers': [{'name': 'GPB', 'cond': 0.22, 'thick': 0.0125, 'specH': 830.0},\n",
       "   {'name': 'GPB', 'cond': 11.11111111111111, 'thick': 1, 'specH': 0},\n",
       "   {'name': 'GPB', 'cond': 0.22, 'thick': 0.0125, 'specH': 830.0}],\n",
       "  'area': 19.020025504219888,\n",
       "  'space': 'main',\n",
       "  'nextspace:': 'nonliving'},\n",
       " {'name': 'Innerwall_main to nonliving',\n",
       "  'type': 'InnerWall',\n",
       "  'direction': 'Vertical',\n",
       "  'Layers': [{'name': 'GPB', 'cond': 0.22, 'thick': 0.0125, 'specH': 830.0},\n",
       "   {'name': 'GPB', 'cond': 11.11111111111111, 'thick': 1, 'specH': 0},\n",
       "   {'name': 'GPB', 'cond': 0.22, 'thick': 0.0125, 'specH': 830.0}],\n",
       "  'area': 19.020025504219888,\n",
       "  'space': 'nonliving',\n",
       "  'nextspace:': 'main'},\n",
       " {'name': 'Innerwall_other to nonliving',\n",
       "  'type': 'InnerWall',\n",
       "  'direction': 'Vertical',\n",
       "  'Layers': [{'name': 'GPB', 'cond': 0.22, 'thick': 0.0125, 'specH': 830.0},\n",
       "   {'name': 'GPB', 'cond': 11.11111111111111, 'thick': 1, 'specH': 0},\n",
       "   {'name': 'GPB', 'cond': 0.22, 'thick': 0.0125, 'specH': 830.0}],\n",
       "  'area': 66.86287151259015,\n",
       "  'space': 'other',\n",
       "  'nextspace:': 'nonliving'},\n",
       " {'name': 'Innerwall_other to nonliving',\n",
       "  'type': 'InnerWall',\n",
       "  'direction': 'Vertical',\n",
       "  'Layers': [{'name': 'GPB', 'cond': 0.22, 'thick': 0.0125, 'specH': 830.0},\n",
       "   {'name': 'GPB', 'cond': 11.11111111111111, 'thick': 1, 'specH': 0},\n",
       "   {'name': 'GPB', 'cond': 0.22, 'thick': 0.0125, 'specH': 830.0}],\n",
       "  'area': 66.86287151259015,\n",
       "  'space': 'nonliving',\n",
       "  'nextspace:': 'other'}]"
      ]
     },
     "execution_count": 36,
     "metadata": {},
     "output_type": "execute_result"
    }
   ],
   "source": [
    "correspondence = {\n",
    "    'main to other': ['main', 'other'],\n",
    "    'main to nonliving': ['main', 'nonliving'],\n",
    "    'other to nonliving': ['other', 'nonliving'] \n",
    "}  \n",
    "\n",
    "d = {\n",
    "    'Common': {\n",
    "        'Region': 6,\n",
    "        'IsSimplifiedInput': False,\n",
    "        'MainOccupantRoomFloorArea': 30.0,\n",
    "        'OtherOccupantRoomFloorArea': 60.0,\n",
    "        'TotalFloorArea': 120.0\n",
    "    },\n",
    "    'Walls': [\n",
    "        { 'name': 'Ceiling', 'type': 'Ceiling', 'structure': 'wood', 'InputMethod' :'InputUA', \n",
    "          'direction': 'top', 'area': 60, 'space': 'main', 'UA': 0.24, 'IsSunshadeInput': False },\n",
    "        { 'name': 'Ceiling', 'type': 'Ceiling', 'structure': 'wood', 'InputMethod' :'InputAllDetails', 'direction': 'top', \n",
    "          'IsInContactWithOutsideAir': True, 'area': 60, 'space': 'main',\n",
    "          'Parts': [{'AreaRatio': 0.8, 'Layers': [{'name': 'wood','thick': 0.012, 'cond': 0.16, 'specH': 720 },\n",
    "                                                  {'name': 'wood','thick': 0.012, 'cond': 0.16, 'specH': 720 }]},\n",
    "                    {'AreaRatio': 0.2, 'Layers': [{'name': 'wood','thick': 0.012, 'cond': 0.16, 'specH': 720 },\n",
    "                                                  {'name': 'wood','thick': 0.012, 'cond': 0.16, 'specH': 720 }]}],\n",
    "          'IsSunshadeInput': False },\n",
    "        { 'name': 'Floor', 'type': 'Floor', 'structure': 'wood', 'InputMethod' :'InputAllLayers', 'direction': 'bottom', \n",
    "          'IsInContactWithOutsideAir': True, 'area': 60, 'space': 'main',\n",
    "          'FloorConstructionMethod' :'FrameInsulcolumn',\n",
    "          'Parts': [{'TypeFloor': 'Insulation', 'Layers': [{'name': 'wood','thick': 0.012, 'cond': 0.16, 'specH': 720 },\n",
    "                                                           {'name': 'wood','thick': 0.012, 'cond': 0.16, 'specH': 720 }]},\n",
    "                    {'TypeFloor': 'Heatbridge', 'Layers': [{'name': 'wood','thick': 0.012, 'cond': 0.16, 'specH': 720 },\n",
    "                                                           {'name': 'wood','thick': 0.012, 'cond': 0.16, 'specH': 720 }]}],\n",
    "           'IsSunshadeInput': False }\n",
    "    ],\n",
    "    'Windows': [\n",
    "        { 'name': 'WindowTop', 'direction': 'top', 'area': 30, 'space': 'main', 'UW': 6.51, 'TypeWindow': 'Single', \n",
    "          'IsEtaValueInput': False, 'TypeFrame': 'WoodOrResin', 'TypeGlass': '3WgG', 'TypeShade': 'Shoji', 'IsSunshadeInput': False }\n",
    "    ],\n",
    "    'Earthfloors': [\n",
    "        { 'name': 'other', 'area': 5.0, 'space': 'underfloor' },\n",
    "        { 'name': 'entrance', 'area': 5.0, 'space': 'underfloor' }\n",
    "    ]\n",
    "}\n",
    "\n",
    "innerwalls = [\n",
    "        { 'area': 60, 'name': 'GroundFloor_Main', 'type' : 'GroundFloor', 'spaces': ['main','underfloor'], 'direction' : 'Horizontal', 'Layers' : get_inner_floor_layers()},\n",
    "        { 'area': 15, 'name': 'GroundFloor_Other', 'type' : 'GroundFloor', 'spaces': ['other','underfloor'], 'direction' : 'Horizontal', 'Layers' : get_inner_floor_layers()},\n",
    "]\n",
    "\n",
    "get_innerwall_wall(d)"
   ]
  },
  {
   "cell_type": "markdown",
   "metadata": {},
   "source": [
    "### 8.3. InnerWalls Element - 統合"
   ]
  },
  {
   "cell_type": "markdown",
   "metadata": {},
   "source": [
    "##### Function"
   ]
  },
  {
   "cell_type": "code",
   "execution_count": 37,
   "metadata": {},
   "outputs": [],
   "source": [
    "def convert_innerwall(d):\n",
    "\n",
    "    # 室と床下空間の間の床の推定\n",
    "    iws_to_groundfloor = get_innerwall_groundfloor(d)\n",
    "    \n",
    "    # 室間の床・天井の推定\n",
    "    iws_slab = get_innerwall_innerslab(d, iws_to_groundfloor)\n",
    "    \n",
    "    # 内壁等の推定              \n",
    "    iws_wall = get_innerwall_wall(d)\n",
    "    \n",
    "    return iws_to_groundfloor + iws_slab + iws_wall"
   ]
  },
  {
   "cell_type": "markdown",
   "metadata": {},
   "source": [
    "##### Example"
   ]
  },
  {
   "cell_type": "code",
   "execution_count": 38,
   "metadata": {},
   "outputs": [
    {
     "data": {
      "text/plain": [
       "[{'name': 'GroundFloor_Other',\n",
       "  'type': 'GroundFloor',\n",
       "  'direction': 'Horizontal',\n",
       "  'area': 6.666666666666667,\n",
       "  'Layers': [{'name': 'PED', 'cond': 0.16, 'thick': 0.012, 'specH': 720.0}],\n",
       "  'space': 'other',\n",
       "  'nextspace': 'underfloor'},\n",
       " {'name': 'GroundFloor_Other',\n",
       "  'type': 'GroundFloor',\n",
       "  'direction': 'Horizontal',\n",
       "  'area': 6.666666666666667,\n",
       "  'Layers': [{'name': 'PED', 'cond': 0.16, 'thick': 0.012, 'specH': 720.0}],\n",
       "  'space': 'underfloor',\n",
       "  'nextspace': 'other'},\n",
       " {'name': 'GroundFloor_Nonliving',\n",
       "  'type': 'GroundFloor',\n",
       "  'direction': 'Horizontal',\n",
       "  'area': 3.3333333333333335,\n",
       "  'Layers': [{'name': 'PED', 'cond': 0.16, 'thick': 0.012, 'specH': 720.0}],\n",
       "  'space': 'nonliving',\n",
       "  'nextspace': 'underfloor'},\n",
       " {'name': 'GroundFloor_Nonliving',\n",
       "  'type': 'GroundFloor',\n",
       "  'direction': 'Horizontal',\n",
       "  'area': 3.3333333333333335,\n",
       "  'Layers': [{'name': 'PED', 'cond': 0.16, 'thick': 0.012, 'specH': 720.0}],\n",
       "  'space': 'underfloor',\n",
       "  'nextspace': 'nonliving'},\n",
       " {'name': 'InnerFloor_other',\n",
       "  'type': 'InnerFloor',\n",
       "  'direction': 'Horizontal',\n",
       "  'area': 26.666666666666668,\n",
       "  'Layers': [{'name': 'PED', 'cond': 0.16, 'thick': 0.012, 'specH': 720.0}],\n",
       "  'space': 'other',\n",
       "  'nextspace': 'nonliving'},\n",
       " {'name': 'InnerFloor_nonliving',\n",
       "  'type': 'InnerFloor',\n",
       "  'direction': 'Horizontal',\n",
       "  'area': 26.666666666666668,\n",
       "  'Layers': [{'name': 'PED', 'cond': 0.16, 'thick': 0.012, 'specH': 720.0}],\n",
       "  'space': 'nonliving',\n",
       "  'nextspace': 'other'},\n",
       " {'name': 'InnerFloor_nonliving',\n",
       "  'type': 'InnerFloor',\n",
       "  'direction': 'Horizontal',\n",
       "  'area': 13.333333333333334,\n",
       "  'Layers': [{'name': 'PED', 'cond': 0.16, 'thick': 0.012, 'specH': 720.0}],\n",
       "  'space': 'nonliving',\n",
       "  'nextspace': 'other'},\n",
       " {'name': 'InnerFloor_other',\n",
       "  'type': 'InnerFloor',\n",
       "  'direction': 'Horizontal',\n",
       "  'area': 13.333333333333334,\n",
       "  'Layers': [{'name': 'PED', 'cond': 0.16, 'thick': 0.012, 'specH': 720.0}],\n",
       "  'space': 'other',\n",
       "  'nextspace': 'nonliving'},\n",
       " {'name': 'Innerwall_main to other',\n",
       "  'type': 'InnerWall',\n",
       "  'direction': 'Vertical',\n",
       "  'Layers': [{'name': 'GPB', 'cond': 0.22, 'thick': 0.0125, 'specH': 830.0},\n",
       "   {'name': 'GPB', 'cond': 11.11111111111111, 'thick': 1, 'specH': 0},\n",
       "   {'name': 'GPB', 'cond': 0.22, 'thick': 0.0125, 'specH': 830.0}],\n",
       "  'area': 54.59388622447443,\n",
       "  'space': 'main',\n",
       "  'nextspace:': 'other'},\n",
       " {'name': 'Innerwall_main to other',\n",
       "  'type': 'InnerWall',\n",
       "  'direction': 'Vertical',\n",
       "  'Layers': [{'name': 'GPB', 'cond': 0.22, 'thick': 0.0125, 'specH': 830.0},\n",
       "   {'name': 'GPB', 'cond': 11.11111111111111, 'thick': 1, 'specH': 0},\n",
       "   {'name': 'GPB', 'cond': 0.22, 'thick': 0.0125, 'specH': 830.0}],\n",
       "  'area': 54.59388622447443,\n",
       "  'space': 'other',\n",
       "  'nextspace:': 'main'},\n",
       " {'name': 'Innerwall_main to nonliving',\n",
       "  'type': 'InnerWall',\n",
       "  'direction': 'Vertical',\n",
       "  'Layers': [{'name': 'GPB', 'cond': 0.22, 'thick': 0.0125, 'specH': 830.0},\n",
       "   {'name': 'GPB', 'cond': 11.11111111111111, 'thick': 1, 'specH': 0},\n",
       "   {'name': 'GPB', 'cond': 0.22, 'thick': 0.0125, 'specH': 830.0}],\n",
       "  'area': 19.020025504219888,\n",
       "  'space': 'main',\n",
       "  'nextspace:': 'nonliving'},\n",
       " {'name': 'Innerwall_main to nonliving',\n",
       "  'type': 'InnerWall',\n",
       "  'direction': 'Vertical',\n",
       "  'Layers': [{'name': 'GPB', 'cond': 0.22, 'thick': 0.0125, 'specH': 830.0},\n",
       "   {'name': 'GPB', 'cond': 11.11111111111111, 'thick': 1, 'specH': 0},\n",
       "   {'name': 'GPB', 'cond': 0.22, 'thick': 0.0125, 'specH': 830.0}],\n",
       "  'area': 19.020025504219888,\n",
       "  'space': 'nonliving',\n",
       "  'nextspace:': 'main'},\n",
       " {'name': 'Innerwall_other to nonliving',\n",
       "  'type': 'InnerWall',\n",
       "  'direction': 'Vertical',\n",
       "  'Layers': [{'name': 'GPB', 'cond': 0.22, 'thick': 0.0125, 'specH': 830.0},\n",
       "   {'name': 'GPB', 'cond': 11.11111111111111, 'thick': 1, 'specH': 0},\n",
       "   {'name': 'GPB', 'cond': 0.22, 'thick': 0.0125, 'specH': 830.0}],\n",
       "  'area': 66.86287151259015,\n",
       "  'space': 'other',\n",
       "  'nextspace:': 'nonliving'},\n",
       " {'name': 'Innerwall_other to nonliving',\n",
       "  'type': 'InnerWall',\n",
       "  'direction': 'Vertical',\n",
       "  'Layers': [{'name': 'GPB', 'cond': 0.22, 'thick': 0.0125, 'specH': 830.0},\n",
       "   {'name': 'GPB', 'cond': 11.11111111111111, 'thick': 1, 'specH': 0},\n",
       "   {'name': 'GPB', 'cond': 0.22, 'thick': 0.0125, 'specH': 830.0}],\n",
       "  'area': 66.86287151259015,\n",
       "  'space': 'nonliving',\n",
       "  'nextspace:': 'other'}]"
      ]
     },
     "execution_count": 38,
     "metadata": {},
     "output_type": "execute_result"
    }
   ],
   "source": [
    "d = {\n",
    "    'Common': {\n",
    "        'Region': 6,\n",
    "        'IsSimplifiedInput': False,\n",
    "        'MainOccupantRoomFloorArea': 30.0,\n",
    "        'OtherOccupantRoomFloorArea': 60.0,\n",
    "        'TotalFloorArea': 120.0\n",
    "    },\n",
    "    'Walls': [\n",
    "        { 'name': 'Ceiling', 'type': 'Ceiling', 'structure': 'wood', 'InputMethod' :'InputUA', \n",
    "          'direction': 'top', 'area': 60, 'space': 'main', 'UA': 0.24, 'IsSunshadeInput': False },\n",
    "        { 'name': 'Ceiling', 'type': 'Ceiling', 'structure': 'wood', 'InputMethod' :'InputAllDetails', 'direction': 'top', \n",
    "          'IsInContactWithOutsideAir': True, 'area': 60, 'space': 'main',\n",
    "          'Parts': [{'AreaRatio': 0.8, 'Layers': [{'name': 'wood','thick': 0.012, 'cond': 0.16, 'specH': 720 },\n",
    "                                                  {'name': 'wood','thick': 0.012, 'cond': 0.16, 'specH': 720 }]},\n",
    "                    {'AreaRatio': 0.2, 'Layers': [{'name': 'wood','thick': 0.012, 'cond': 0.16, 'specH': 720 },\n",
    "                                                  {'name': 'wood','thick': 0.012, 'cond': 0.16, 'specH': 720 }]}],\n",
    "          'IsSunshadeInput': False },\n",
    "        { 'name': 'Floor', 'type': 'Floor', 'structure': 'wood', 'InputMethod' :'InputAllLayers', 'direction': 'bottom', \n",
    "          'IsInContactWithOutsideAir': True, 'area': 60, 'space': 'main',\n",
    "          'FloorConstructionMethod' :'FrameInsulcolumn',\n",
    "          'Parts': [{'TypeFloor': 'Insulation', 'Layers': [{'name': 'wood','thick': 0.012, 'cond': 0.16, 'specH': 720 },\n",
    "                                                           {'name': 'wood','thick': 0.012, 'cond': 0.16, 'specH': 720 }]},\n",
    "                    {'TypeFloor': 'Heatbridge', 'Layers': [{'name': 'wood','thick': 0.012, 'cond': 0.16, 'specH': 720 },\n",
    "                                                           {'name': 'wood','thick': 0.012, 'cond': 0.16, 'specH': 720 }]}],\n",
    "           'IsSunshadeInput': False }\n",
    "    ],\n",
    "    'Windows': [\n",
    "        { 'name': 'WindowTop', 'direction': 'top', 'area': 30, 'space': 'main', 'UW': 6.51, 'TypeWindow': 'Single', \n",
    "          'IsEtaValueInput': False, 'TypeFrame': 'WoodOrResin', 'TypeGlass': '3WgG', 'TypeShade': 'Shoji', 'IsSunshadeInput': False }\n",
    "    ],\n",
    "    'Earthfloors': [\n",
    "        { 'name': 'other', 'area': 5.0, 'space': 'underfloor' },\n",
    "        { 'name': 'entrance', 'area': 5.0, 'space': 'underfloor' }\n",
    "    ]\n",
    "}\n",
    "\n",
    "innerwalls = [\n",
    "        { 'area': 60, 'name': 'GroundFloor_Main', 'type' : 'GroundFloor', 'spaces': ['main','underfloor'], 'direction' : 'Horizontal', 'Layers' : get_inner_floor_layers()},\n",
    "        { 'area': 15, 'name': 'GroundFloor_Other', 'type' : 'GroundFloor', 'spaces': ['other','underfloor'], 'direction' : 'Horizontal', 'Layers' : get_inner_floor_layers()},\n",
    "]\n",
    "\n",
    "convert_innerwall( d )"
   ]
  },
  {
   "cell_type": "markdown",
   "metadata": {},
   "source": [
    "## 9. Lv4入力情報のコンバート（統合）\n",
    "- 1)共通情報、2)開口部以外の不透明部位、3)開口部の透明部位、4)開口部の不透明部位、5) 線熱橋、6)土間床等の外周部の線熱橋、7)土間床、8)内壁等の各コンバート関数を統合し、Lv3の入力情報をLv4の入力情報にコンバートする。"
   ]
  },
  {
   "cell_type": "markdown",
   "metadata": {},
   "source": [
    "##### Function"
   ]
  },
  {
   "cell_type": "code",
   "execution_count": 39,
   "metadata": {},
   "outputs": [],
   "source": [
    "def convert(d):\n",
    "    d_lv4_input = {}\n",
    "    d_lv4_input['Common'] = convert_common(d)\n",
    "    if ('Walls' in d) == True:\n",
    "        d_lv4_input['Walls'] = convert_wall(d)\n",
    "    if ('Windows' in d) == True:\n",
    "        d_lv4_input['Windows'] = convert_window(d)\n",
    "    if ('Doors' in d) == True:\n",
    "        d_lv4_input['Doors'] = convert_door(d)\n",
    "    if ('EarthfloorPerimeters' in d) == True:\n",
    "        d_lv4_input['EarthfloorPerimeters'] = convert_earthfloorperimeter(d)\n",
    "    if ('EarthFloors' in d) == True:\n",
    "        d_lv4_input['EarthFloors'] = convert_earthfloor(d)\n",
    "    if ('Heatbridges' in d) == True:\n",
    "        d_lv4_input['Heatbridges'] = convert_heatbridge(d)\n",
    "    d_lv4_input['InnerWalls'] = convert_innerwall(d)\n",
    "\n",
    "    return d_lv4_input"
   ]
  },
  {
   "cell_type": "markdown",
   "metadata": {},
   "source": [
    "##### Example"
   ]
  },
  {
   "cell_type": "code",
   "execution_count": 40,
   "metadata": {},
   "outputs": [
    {
     "data": {
      "text/plain": [
       "{'Common': {'Region': 6,\n",
       "  'IsSimplifiedInput': False,\n",
       "  'MainOccupantRoomFloorArea': 30.0,\n",
       "  'OtherOccupantRoomFloorArea': 60.0,\n",
       "  'TotalFloorArea': 120.0},\n",
       " 'Walls': [{'name': 'Ceiling',\n",
       "   'type': 'Ceiling',\n",
       "   'structure': 'wood',\n",
       "   'InputMethod': 'InputUA',\n",
       "   'direction': 'top',\n",
       "   'area': 67.8,\n",
       "   'space': 'main',\n",
       "   'UA': 0.24,\n",
       "   'IsSunshadeInput': False},\n",
       "  {'name': 'Ceiling',\n",
       "   'type': 'Ceiling',\n",
       "   'structure': 'wood',\n",
       "   'InputMethod': 'InputAllDetails',\n",
       "   'direction': 'top',\n",
       "   'IsInContactWithOutsideAir': True,\n",
       "   'area': 67.8,\n",
       "   'space': 'main',\n",
       "   'Parts': [{'AreaRatio': 0.8,\n",
       "     'Layers': [{'name': 'wood', 'thick': 0.012, 'cond': 0.16, 'specH': 720},\n",
       "      {'name': 'wood', 'thick': 0.012, 'cond': 0.16, 'specH': 720}]},\n",
       "    {'AreaRatio': 0.2,\n",
       "     'Layers': [{'name': 'wood', 'thick': 0.012, 'cond': 0.16, 'specH': 720},\n",
       "      {'name': 'wood', 'thick': 0.012, 'cond': 0.16, 'specH': 720}]}],\n",
       "   'IsSunshadeInput': False},\n",
       "  {'name': 'Floor',\n",
       "   'type': 'Floor',\n",
       "   'space': 'main',\n",
       "   'structure': 'wood',\n",
       "   'InputMethod': 'InputAllLayers',\n",
       "   'direction': 'bottom',\n",
       "   'IsInContactWithOutsideAir': True,\n",
       "   'area': 67.8,\n",
       "   'ConstructionMethodAllLayers': 'FloorFrameBeamInsuljoist',\n",
       "   'Parts': [{'Type': 'FloorInsulation',\n",
       "     'Layers': [{'name': 'wood', 'thick': 0.012, 'cond': 0.16, 'specH': 720},\n",
       "      {'name': 'wood', 'thick': 0.012, 'cond': 0.16, 'specH': 720}]},\n",
       "    {'Type': 'FloorHeatbridge',\n",
       "     'Layers': [{'name': 'wood', 'thick': 0.012, 'cond': 0.16, 'specH': 720},\n",
       "      {'name': 'wood', 'thick': 0.012, 'cond': 0.16, 'specH': 720}]}],\n",
       "   'IsSunshadeInput': False},\n",
       "  {'name': 'Wall',\n",
       "   'type': 'Wall',\n",
       "   'space': 'main',\n",
       "   'structure': 'wood',\n",
       "   'InputMethod': 'InputAllLayers',\n",
       "   'direction': 'N',\n",
       "   'IsInContactWithOutsideAir': True,\n",
       "   'area': 67.8,\n",
       "   'ConstructionMethodAllLayers': 'WallFrameInsulcolumn',\n",
       "   'Parts': [{'Type': 'WallInsulation',\n",
       "     'Layers': [{'name': 'wood', 'thick': 0.012, 'cond': 0.16, 'specH': 720},\n",
       "      {'name': 'wood', 'thick': 0.012, 'cond': 0.16, 'specH': 720}]},\n",
       "    {'Type': 'WallHeatbridge',\n",
       "     'Layers': [{'name': 'wood', 'thick': 0.012, 'cond': 0.16, 'specH': 720},\n",
       "      {'name': 'wood', 'thick': 0.012, 'cond': 0.16, 'specH': 720}]}],\n",
       "   'IsSunshadeInput': False},\n",
       "  {'name': 'Ceiling',\n",
       "   'type': 'Roof',\n",
       "   'space': 'main',\n",
       "   'structure': 'wood',\n",
       "   'InputMethod': 'InputAllLayers',\n",
       "   'direction': 'top',\n",
       "   'IsInContactWithOutsideAir': True,\n",
       "   'area': 67.8,\n",
       "   'ConstructionMethodAllLayers': 'RoofInsulRafter',\n",
       "   'Parts': [{'Type': 'RoofInsulation',\n",
       "     'Layers': [{'name': 'wood', 'thick': 0.012, 'cond': 0.16, 'specH': 720},\n",
       "      {'name': 'wood', 'thick': 0.012, 'cond': 0.16, 'specH': 720}]},\n",
       "    {'Type': 'RoofHeatbridge',\n",
       "     'Layers': [{'name': 'wood', 'thick': 0.012, 'cond': 0.16, 'specH': 720},\n",
       "      {'name': 'wood', 'thick': 0.012, 'cond': 0.16, 'specH': 720}]}],\n",
       "   'IsSunshadeInput': False},\n",
       "  {'name': 'BoundaryCeiling',\n",
       "   'type': 'BoundaryCeiling',\n",
       "   'space': 'main',\n",
       "   'structure': 'wood',\n",
       "   'InputMethod': 'InputAllLayers',\n",
       "   'direction': 'top',\n",
       "   'IsInContactWithOutsideAir': True,\n",
       "   'area': 67.8,\n",
       "   'ConstructionMethodAllLayers': 'CeilingInsulbeam',\n",
       "   'Parts': [{'Type': 'CeilingInsulation',\n",
       "     'Layers': [{'name': 'wood', 'thick': 0.012, 'cond': 0.16, 'specH': 720},\n",
       "      {'name': 'wood', 'thick': 0.012, 'cond': 0.16, 'specH': 720}]},\n",
       "    {'Type': 'CeilingHeatbridge',\n",
       "     'Layers': [{'name': 'wood', 'thick': 0.012, 'cond': 0.16, 'specH': 720},\n",
       "      {'name': 'wood', 'thick': 0.012, 'cond': 0.16, 'specH': 720}]}],\n",
       "   'IsSunshadeInput': False},\n",
       "  {'name': 'Ceiling',\n",
       "   'type': 'Ceiling',\n",
       "   'structure': 'wood',\n",
       "   'InputMethod': 'InputUR',\n",
       "   'InsulationMethod': 'CeilingInsulbeam',\n",
       "   'direction': 'top',\n",
       "   'IsInContactWithOutsideAir': True,\n",
       "   'area': 67.8,\n",
       "   'space': 'main',\n",
       "   'Parts': [{'Layers': [{'name': 'wood',\n",
       "       'thick': 0.012,\n",
       "       'cond': 0.16,\n",
       "       'specH': 720},\n",
       "      {'name': 'wood', 'thick': 0.012, 'cond': 0.16, 'specH': 720}]}],\n",
       "   'IsSunshadeInput': False},\n",
       "  {'name': 'Ceiling',\n",
       "   'type': 'Ceiling',\n",
       "   'structure': 'RC',\n",
       "   'InputMethod': 'InputUA',\n",
       "   'direction': 'top',\n",
       "   'area': 67.8,\n",
       "   'space': 'main',\n",
       "   'UA': 0.24,\n",
       "   'IsSunshadeInput': False},\n",
       "  {'name': 'Ceiling',\n",
       "   'type': 'Ceiling',\n",
       "   'structure': 'RC',\n",
       "   'InputMethod': 'InputLayers',\n",
       "   'direction': 'top',\n",
       "   'IsInContactWithOutsideAir': True,\n",
       "   'area': 67.8,\n",
       "   'space': 'main',\n",
       "   'Parts': [{'Layers': [{'name': 'wood',\n",
       "       'thick': 0.012,\n",
       "       'cond': 0.16,\n",
       "       'specH': 720},\n",
       "      {'name': 'wood', 'thick': 0.012, 'cond': 0.16, 'specH': 720}]}],\n",
       "   'IsSunshadeInput': False},\n",
       "  {'name': 'Ceiling',\n",
       "   'type': 'Ceiling',\n",
       "   'structure': 'steel',\n",
       "   'InputMethod': 'InputUA',\n",
       "   'direction': 'top',\n",
       "   'area': 67.8,\n",
       "   'space': 'main',\n",
       "   'UA': 0.24,\n",
       "   'IsSunshadeInput': False},\n",
       "  {'name': 'Ceiling',\n",
       "   'type': 'Ceiling',\n",
       "   'structure': 'steel',\n",
       "   'InputMethod': 'InputUR',\n",
       "   'direction': 'top',\n",
       "   'IsInContactWithOutsideAir': True,\n",
       "   'area': 67.8,\n",
       "   'space': 'main',\n",
       "   'Radding': 0.1,\n",
       "   'Parts': [{'Layers': [{'name': 'wood',\n",
       "       'thick': 0.012,\n",
       "       'cond': 0.16,\n",
       "       'specH': 720},\n",
       "      {'name': 'wood', 'thick': 0.012, 'cond': 0.16, 'specH': 720}]}],\n",
       "   'IsSunshadeInput': False},\n",
       "  {'name': 'Ceiling',\n",
       "   'type': 'Ceiling',\n",
       "   'structure': 'other',\n",
       "   'direction': 'top',\n",
       "   'IsInContactWithOutsideAir': True,\n",
       "   'area': 67.8,\n",
       "   'space': 'main',\n",
       "   'IsSunshadeInput': False}],\n",
       " 'Windows': [{'name': 'WindowSW',\n",
       "   'direction': 'SW',\n",
       "   'area': 30.25,\n",
       "   'space': 'main',\n",
       "   'UW': 6.51,\n",
       "   'TypeWindow': 'Single',\n",
       "   'IsEtaValueInput': False,\n",
       "   'TypeFrame': 'WoodOrResin',\n",
       "   'TypeGlass': '3WgG',\n",
       "   'TypeShade': 'Shoji',\n",
       "   'IsSunshadeInput': True,\n",
       "   'Y1': 0.0,\n",
       "   'Y2': 1.0,\n",
       "   'Z': 0.6},\n",
       "  {'name': 'WindowNW',\n",
       "   'direction': 'NW',\n",
       "   'area': 3.17,\n",
       "   'space': 'main',\n",
       "   'UW': 4.65,\n",
       "   'TypeWindow': 'Single',\n",
       "   'IsEtaValueInput': True,\n",
       "   'Eta': 0.738,\n",
       "   'IsSunshadeInput': False},\n",
       "  {'name': 'WindowSW',\n",
       "   'direction': 'SW',\n",
       "   'area': 30.25,\n",
       "   'space': 'main',\n",
       "   'UW': 6.51,\n",
       "   'TypeWindow': 'Double',\n",
       "   'IsEtaValueInput': False,\n",
       "   'TypeFrameInside': 'WoodOrResin',\n",
       "   'TypeGlassInside': '3WgG',\n",
       "   'TypeShadeInside': 'Shoji',\n",
       "   'TypeFrameOutside': 'Steel',\n",
       "   'TypeGlassOutside': '3WgG',\n",
       "   'TypeShadeOutside': 'ExtarnalBlind',\n",
       "   'IsSunshadeInput': True,\n",
       "   'Y1': 0.0,\n",
       "   'Y2': 1.0,\n",
       "   'Z': 0.6},\n",
       "  {'name': 'WindowNW',\n",
       "   'direction': 'NW',\n",
       "   'area': 3.17,\n",
       "   'space': 'main',\n",
       "   'UW': 4.65,\n",
       "   'TypeWindow': 'Double',\n",
       "   'IsEtaValueInput': True,\n",
       "   'EtaInside': 0.738,\n",
       "   'TypeGlassInside': '3WgG',\n",
       "   'EtaOutside': 0.738,\n",
       "   'TypeGlassOutside': '3WgG',\n",
       "   'IsSunshadeInput': True,\n",
       "   'Y1': 0.0,\n",
       "   'Y2': 1.0,\n",
       "   'Z': 0.6}],\n",
       " 'Doors': [{'name': 'DoorNW',\n",
       "   'direction': 'NW',\n",
       "   'area': 2.52,\n",
       "   'U': 6.51,\n",
       "   'space': 'main',\n",
       "   'IsSunshadeInput': False},\n",
       "  {'name': 'DoorNE',\n",
       "   'direction': 'NE',\n",
       "   'area': 2.16,\n",
       "   'U': 4.65,\n",
       "   'space': 'main',\n",
       "   'IsSunshadeInput': True,\n",
       "   'Y1': 0.0,\n",
       "   'Y2': 1.0,\n",
       "   'Z': 0.6}],\n",
       " 'EarthfloorPerimeters': [{'name': 'NW',\n",
       "   'direction': 'NW',\n",
       "   'length': 2.43,\n",
       "   'psi': 1.8,\n",
       "   'space': 'underfloor'},\n",
       "  {'name': 'NE',\n",
       "   'direction': 'NE',\n",
       "   'length': 2.43,\n",
       "   'psi': 1.8,\n",
       "   'space': 'underfloor'}],\n",
       " 'Heatbridges': [{'name': 'NE',\n",
       "   'structure': 'RC',\n",
       "   'length': 1.0,\n",
       "   'psi': 1.8,\n",
       "   'direction1': 'N',\n",
       "   'direction2': 'E',\n",
       "   'space': 'main'},\n",
       "  {'name': 'NW',\n",
       "   'structure': 'Steel',\n",
       "   'length': 2.0,\n",
       "   'psi': 1.8,\n",
       "   'direction1': 'N',\n",
       "   'direction2': 'W',\n",
       "   'space': 'main'}],\n",
       " 'InnerWalls': [{'name': 'GroundFloor_Other',\n",
       "   'type': 'GroundFloor',\n",
       "   'direction': 'Horizontal',\n",
       "   'area': 6.666666666666667,\n",
       "   'Layers': [{'name': 'PED', 'cond': 0.16, 'thick': 0.012, 'specH': 720.0}],\n",
       "   'space': 'other',\n",
       "   'nextspace': 'underfloor'},\n",
       "  {'name': 'GroundFloor_Other',\n",
       "   'type': 'GroundFloor',\n",
       "   'direction': 'Horizontal',\n",
       "   'area': 6.666666666666667,\n",
       "   'Layers': [{'name': 'PED', 'cond': 0.16, 'thick': 0.012, 'specH': 720.0}],\n",
       "   'space': 'underfloor',\n",
       "   'nextspace': 'other'},\n",
       "  {'name': 'GroundFloor_Nonliving',\n",
       "   'type': 'GroundFloor',\n",
       "   'direction': 'Horizontal',\n",
       "   'area': 3.3333333333333335,\n",
       "   'Layers': [{'name': 'PED', 'cond': 0.16, 'thick': 0.012, 'specH': 720.0}],\n",
       "   'space': 'nonliving',\n",
       "   'nextspace': 'underfloor'},\n",
       "  {'name': 'GroundFloor_Nonliving',\n",
       "   'type': 'GroundFloor',\n",
       "   'direction': 'Horizontal',\n",
       "   'area': 3.3333333333333335,\n",
       "   'Layers': [{'name': 'PED', 'cond': 0.16, 'thick': 0.012, 'specH': 720.0}],\n",
       "   'space': 'underfloor',\n",
       "   'nextspace': 'nonliving'},\n",
       "  {'name': 'InnerFloor_other',\n",
       "   'type': 'InnerFloor',\n",
       "   'direction': 'Horizontal',\n",
       "   'area': 26.666666666666668,\n",
       "   'Layers': [{'name': 'PED', 'cond': 0.16, 'thick': 0.012, 'specH': 720.0}],\n",
       "   'space': 'other',\n",
       "   'nextspace': 'nonliving'},\n",
       "  {'name': 'InnerFloor_nonliving',\n",
       "   'type': 'InnerFloor',\n",
       "   'direction': 'Horizontal',\n",
       "   'area': 26.666666666666668,\n",
       "   'Layers': [{'name': 'PED', 'cond': 0.16, 'thick': 0.012, 'specH': 720.0}],\n",
       "   'space': 'nonliving',\n",
       "   'nextspace': 'other'},\n",
       "  {'name': 'InnerFloor_nonliving',\n",
       "   'type': 'InnerFloor',\n",
       "   'direction': 'Horizontal',\n",
       "   'area': 13.333333333333334,\n",
       "   'Layers': [{'name': 'PED', 'cond': 0.16, 'thick': 0.012, 'specH': 720.0}],\n",
       "   'space': 'nonliving',\n",
       "   'nextspace': 'other'},\n",
       "  {'name': 'InnerFloor_other',\n",
       "   'type': 'InnerFloor',\n",
       "   'direction': 'Horizontal',\n",
       "   'area': 13.333333333333334,\n",
       "   'Layers': [{'name': 'PED', 'cond': 0.16, 'thick': 0.012, 'specH': 720.0}],\n",
       "   'space': 'other',\n",
       "   'nextspace': 'nonliving'},\n",
       "  {'name': 'Innerwall_main to other',\n",
       "   'type': 'InnerWall',\n",
       "   'direction': 'Vertical',\n",
       "   'Layers': [{'name': 'GPB', 'cond': 0.22, 'thick': 0.0125, 'specH': 830.0},\n",
       "    {'name': 'GPB', 'cond': 11.11111111111111, 'thick': 1, 'specH': 0},\n",
       "    {'name': 'GPB', 'cond': 0.22, 'thick': 0.0125, 'specH': 830.0}],\n",
       "   'area': 54.59388622447443,\n",
       "   'space': 'main',\n",
       "   'nextspace:': 'other'},\n",
       "  {'name': 'Innerwall_main to other',\n",
       "   'type': 'InnerWall',\n",
       "   'direction': 'Vertical',\n",
       "   'Layers': [{'name': 'GPB', 'cond': 0.22, 'thick': 0.0125, 'specH': 830.0},\n",
       "    {'name': 'GPB', 'cond': 11.11111111111111, 'thick': 1, 'specH': 0},\n",
       "    {'name': 'GPB', 'cond': 0.22, 'thick': 0.0125, 'specH': 830.0}],\n",
       "   'area': 54.59388622447443,\n",
       "   'space': 'other',\n",
       "   'nextspace:': 'main'},\n",
       "  {'name': 'Innerwall_main to nonliving',\n",
       "   'type': 'InnerWall',\n",
       "   'direction': 'Vertical',\n",
       "   'Layers': [{'name': 'GPB', 'cond': 0.22, 'thick': 0.0125, 'specH': 830.0},\n",
       "    {'name': 'GPB', 'cond': 11.11111111111111, 'thick': 1, 'specH': 0},\n",
       "    {'name': 'GPB', 'cond': 0.22, 'thick': 0.0125, 'specH': 830.0}],\n",
       "   'area': 19.020025504219888,\n",
       "   'space': 'main',\n",
       "   'nextspace:': 'nonliving'},\n",
       "  {'name': 'Innerwall_main to nonliving',\n",
       "   'type': 'InnerWall',\n",
       "   'direction': 'Vertical',\n",
       "   'Layers': [{'name': 'GPB', 'cond': 0.22, 'thick': 0.0125, 'specH': 830.0},\n",
       "    {'name': 'GPB', 'cond': 11.11111111111111, 'thick': 1, 'specH': 0},\n",
       "    {'name': 'GPB', 'cond': 0.22, 'thick': 0.0125, 'specH': 830.0}],\n",
       "   'area': 19.020025504219888,\n",
       "   'space': 'nonliving',\n",
       "   'nextspace:': 'main'},\n",
       "  {'name': 'Innerwall_other to nonliving',\n",
       "   'type': 'InnerWall',\n",
       "   'direction': 'Vertical',\n",
       "   'Layers': [{'name': 'GPB', 'cond': 0.22, 'thick': 0.0125, 'specH': 830.0},\n",
       "    {'name': 'GPB', 'cond': 11.11111111111111, 'thick': 1, 'specH': 0},\n",
       "    {'name': 'GPB', 'cond': 0.22, 'thick': 0.0125, 'specH': 830.0}],\n",
       "   'area': 66.86287151259015,\n",
       "   'space': 'other',\n",
       "   'nextspace:': 'nonliving'},\n",
       "  {'name': 'Innerwall_other to nonliving',\n",
       "   'type': 'InnerWall',\n",
       "   'direction': 'Vertical',\n",
       "   'Layers': [{'name': 'GPB', 'cond': 0.22, 'thick': 0.0125, 'specH': 830.0},\n",
       "    {'name': 'GPB', 'cond': 11.11111111111111, 'thick': 1, 'specH': 0},\n",
       "    {'name': 'GPB', 'cond': 0.22, 'thick': 0.0125, 'specH': 830.0}],\n",
       "   'area': 66.86287151259015,\n",
       "   'space': 'nonliving',\n",
       "   'nextspace:': 'other'}]}"
      ]
     },
     "execution_count": 40,
     "metadata": {},
     "output_type": "execute_result"
    }
   ],
   "source": [
    "d = {\n",
    "    'Common': {\n",
    "        'Region': 6,\n",
    "        'IsSimplifiedInput': False,\n",
    "        'MainOccupantRoomFloorArea': 30.0,\n",
    "        'OtherOccupantRoomFloorArea': 60.0,\n",
    "        'TotalFloorArea': 120.0\n",
    "    },\n",
    "    'Walls': [\n",
    "        { 'name': 'Ceiling', 'type': 'Ceiling', 'structure': 'wood', 'InputMethod' :'InputUA', \n",
    "          'direction': 'top', 'area': 67.8, 'space': 'main', 'UA': 0.24, 'IsSunshadeInput': False },\n",
    "        { 'name': 'Ceiling', 'type': 'Ceiling', 'structure': 'wood', 'InputMethod' :'InputAllDetails', 'direction': 'top', \n",
    "          'IsInContactWithOutsideAir': True, 'area': 67.8, 'space': 'main',\n",
    "          'Parts': [{'AreaRatio': 0.8, 'Layers': [{'name': 'wood','thick': 0.012, 'cond': 0.16, 'specH': 720 },\n",
    "                                                  {'name': 'wood','thick': 0.012, 'cond': 0.16, 'specH': 720 }]},\n",
    "                    {'AreaRatio': 0.2, 'Layers': [{'name': 'wood','thick': 0.012, 'cond': 0.16, 'specH': 720 },\n",
    "                                                  {'name': 'wood','thick': 0.012, 'cond': 0.16, 'specH': 720 }]}],\n",
    "          'IsSunshadeInput': False },\n",
    "        { 'name': 'Floor', 'type': 'Floor', 'space': 'main', 'structure': 'wood', 'InputMethod' :'InputAllLayers', 'direction': 'bottom', \n",
    "          'IsInContactWithOutsideAir': True, 'area': 67.8,\n",
    "          'ConstructionMethodAllLayers' :'FloorFrameBeamInsuljoist',\n",
    "          'Parts': [{'Type': 'FloorInsulation', 'Layers': [{'name': 'wood','thick': 0.012, 'cond': 0.16, 'specH': 720 },\n",
    "                                                           {'name': 'wood','thick': 0.012, 'cond': 0.16, 'specH': 720 }]},\n",
    "                    {'Type': 'FloorHeatbridge', 'Layers': [{'name': 'wood','thick': 0.012, 'cond': 0.16, 'specH': 720 },\n",
    "                                                           {'name': 'wood','thick': 0.012, 'cond': 0.16, 'specH': 720 }]}],\n",
    "           'IsSunshadeInput': False },\n",
    "        { 'name': 'Wall', 'type': 'Wall', 'space': 'main', 'structure': 'wood', 'InputMethod' :'InputAllLayers', 'direction': 'N',\n",
    "          'IsInContactWithOutsideAir': True, 'area': 67.8, 'ConstructionMethodAllLayers': 'WallFrameInsulcolumn',\n",
    "          'Parts': [{'Type': 'WallInsulation', 'Layers': [{'name': 'wood','thick': 0.012, 'cond': 0.16, 'specH': 720 },\n",
    "                                                          {'name': 'wood','thick': 0.012, 'cond': 0.16, 'specH': 720 }]},\n",
    "                    {'Type': 'WallHeatbridge', 'Layers': [{'name': 'wood','thick': 0.012, 'cond': 0.16, 'specH': 720 },\n",
    "                                                          {'name': 'wood','thick': 0.012, 'cond': 0.16, 'specH': 720 }]}],         \n",
    "          'IsSunshadeInput': False },\n",
    "        { 'name': 'Ceiling', 'type': 'Roof', 'space': 'main', 'structure': 'wood', 'InputMethod' :'InputAllLayers', 'direction': 'top',\n",
    "          'IsInContactWithOutsideAir': True, 'area': 67.8, 'ConstructionMethodAllLayers': 'RoofInsulRafter', \n",
    "          'Parts': [{'Type': 'RoofInsulation', 'Layers': [{'name': 'wood','thick': 0.012, 'cond': 0.16, 'specH': 720 },\n",
    "                                                          {'name': 'wood','thick': 0.012, 'cond': 0.16, 'specH': 720 }]},\n",
    "                    {'Type': 'RoofHeatbridge', 'Layers': [{'name': 'wood','thick': 0.012, 'cond': 0.16, 'specH': 720 },\n",
    "                                                          {'name': 'wood','thick': 0.012, 'cond': 0.16, 'specH': 720 }]}],\n",
    "          'IsSunshadeInput': False },\n",
    "        { 'name': 'BoundaryCeiling', 'type': 'BoundaryCeiling', 'space': 'main', 'structure': 'wood', 'InputMethod' :'InputAllLayers', \n",
    "          'direction': 'top', 'IsInContactWithOutsideAir': True, 'area': 67.8, 'ConstructionMethodAllLayers': 'CeilingInsulbeam', \n",
    "          'Parts': [{'Type': 'CeilingInsulation', 'Layers': [{'name': 'wood','thick': 0.012, 'cond': 0.16, 'specH': 720 },\n",
    "                                                             {'name': 'wood','thick': 0.012, 'cond': 0.16, 'specH': 720 }]},\n",
    "                    {'Type': 'CeilingHeatbridge', 'Layers': [{'name': 'wood','thick': 0.012, 'cond': 0.16, 'specH': 720 },\n",
    "                                                             {'name': 'wood','thick': 0.012, 'cond': 0.16, 'specH': 720 }]}],\n",
    "          'IsSunshadeInput': False },\n",
    "        { 'name': 'Ceiling', 'type': 'Ceiling', 'structure': 'wood', 'InputMethod' :'InputUR', 'InsulationMethod': 'CeilingInsulbeam',\n",
    "          'direction': 'top', 'IsInContactWithOutsideAir': True, 'area': 67.8, 'space': 'main', \n",
    "          'Parts': [{ 'Layers': [{'name': 'wood','thick': 0.012, 'cond': 0.16, 'specH': 720 },\n",
    "                                 {'name': 'wood','thick': 0.012, 'cond': 0.16, 'specH': 720 }]}],\n",
    "          'IsSunshadeInput': False },\n",
    "        { 'name': 'Ceiling', 'type': 'Ceiling', 'structure': 'RC', 'InputMethod' :'InputUA', \n",
    "          'direction': 'top','area': 67.8, 'space': 'main', 'UA': 0.24, 'IsSunshadeInput': False },\n",
    "        { 'name': 'Ceiling', 'type': 'Ceiling', 'structure': 'RC', 'InputMethod' :'InputLayers', \n",
    "          'direction': 'top', 'IsInContactWithOutsideAir': True, 'area': 67.8, 'space': 'main',\n",
    "          'Parts': [{ 'Layers': [{'name': 'wood','thick': 0.012, 'cond': 0.16, 'specH': 720 },\n",
    "                                 {'name': 'wood','thick': 0.012, 'cond': 0.16, 'specH': 720 }]}],         \n",
    "          'IsSunshadeInput': False },\n",
    "        { 'name': 'Ceiling', 'type': 'Ceiling', 'structure': 'steel', 'InputMethod' :'InputUA', \n",
    "          'direction': 'top', 'area': 67.8, 'space': 'main', 'UA': 0.24, 'IsSunshadeInput': False },\n",
    "        { 'name': 'Ceiling', 'type': 'Ceiling', 'structure': 'steel', 'InputMethod' :'InputUR', \n",
    "          'direction': 'top', 'IsInContactWithOutsideAir': True, 'area': 67.8, 'space': 'main', 'Radding': 0.10, \n",
    "          'Parts': [{'Layers': [{'name': 'wood','thick': 0.012, 'cond': 0.16, 'specH': 720 },\n",
    "                                {'name': 'wood','thick': 0.012, 'cond': 0.16, 'specH': 720 }]}],         \n",
    "          'IsSunshadeInput': False },\n",
    "        { 'name': 'Ceiling', 'type': 'Ceiling', 'structure': 'other', 'direction': 'top', 'IsInContactWithOutsideAir': True, \n",
    "          'area': 67.8, 'space': 'main', 'IsSunshadeInput': False }\n",
    "    ],\n",
    "    'Windows': [\n",
    "        { 'name': 'WindowSW', 'direction': 'SW', 'area': 30.25, 'space': 'main', 'UW': 6.51, 'TypeWindow': 'Single', \n",
    "          'IsEtaValueInput': False, 'TypeFrame': 'WoodOrResin', 'TypeGlass': '3WgG', 'TypeShade': 'Shoji',\n",
    "          'IsSunshadeInput': True, 'Y1': 0.00, 'Y2': 1.00, 'Z': 0.60 },\n",
    "        { 'name': 'WindowNW', 'direction': 'NW', 'area': 3.17, 'space': 'main', 'UW': 4.65, 'TypeWindow': 'Single', \n",
    "          'IsEtaValueInput': True, 'Eta': 0.738, 'IsSunshadeInput': False },\n",
    "        { 'name': 'WindowSW', 'direction': 'SW', 'area': 30.25, 'space': 'main', 'UW': 6.51, 'TypeWindow': 'Double', 'IsEtaValueInput': False,\n",
    "          'TypeFrameInside': 'WoodOrResin', 'TypeGlassInside': '3WgG', 'TypeShadeInside': 'Shoji',\n",
    "          'TypeFrameOutside': 'Steel', 'TypeGlassOutside': '3WgG', 'TypeShadeOutside': 'ExtarnalBlind',\n",
    "          'IsSunshadeInput': True, 'Y1': 0.00, 'Y2': 1.00, 'Z': 0.60 },\n",
    "        { 'name': 'WindowNW', 'direction': 'NW', 'area': 3.17, 'space': 'main', 'UW': 4.65, 'TypeWindow': 'Double', 'IsEtaValueInput': True,\n",
    "          'EtaInside': 0.738, 'TypeGlassInside': '3WgG', 'EtaOutside': 0.738, 'TypeGlassOutside': '3WgG',\n",
    "          'IsSunshadeInput': True, 'Y1': 0.00, 'Y2': 1.00, 'Z': 0.60 }\n",
    "    ],\n",
    "    'Doors': [\n",
    "        { 'name': 'DoorNW', 'direction': 'NW', 'area': 2.52, 'U': 6.51, 'space': 'main', 'IsSunshadeInput': False },\n",
    "        { 'name': 'DoorNE', 'direction': 'NE', 'area': 2.16, 'U': 4.65, 'space': 'main', \n",
    "          'IsSunshadeInput': True, 'Y1': 0.00, 'Y2': 1.00, 'Z': 0.60 }\n",
    "    ],\n",
    "    'Heatbridges': [\n",
    "        { 'name': 'NE', 'structure': 'RC', 'length': 1.00, 'psi': 1.8, 'direction1': 'N', 'direction2': 'E', 'space': 'main' },\n",
    "        { 'name': 'NW', 'structure': 'Steel', 'length': 2.00, 'psi': 1.8, 'direction1': 'N', 'direction2': 'W', 'space': 'main' }\n",
    "    ],\n",
    "    'EarthfloorPerimeters': [\n",
    "        { 'name': 'NW', 'direction': 'NW', 'length': 2.43, 'psi': 1.8, 'space': 'underfloor' },\n",
    "        { 'name': 'NE', 'direction': 'NE', 'length': 2.43, 'psi': 1.8, 'space': 'underfloor' }\n",
    "    ],\n",
    "    'Earthfloors': [\n",
    "        { 'name': 'other', 'area': 5.0, 'space': 'underfloor' },\n",
    "        { 'name': 'entrance', 'area': 5.0, 'space': 'underfloor' }\n",
    "    ]\n",
    "}\n",
    "\n",
    "convert(d)"
   ]
  },
  {
   "cell_type": "code",
   "execution_count": 41,
   "metadata": {},
   "outputs": [
    {
     "data": {
      "text/plain": [
       "{'Common': {'Region': 6,\n",
       "  'IsSimplifiedInput': True,\n",
       "  'MainOccupantRoomFloorArea': 30.0,\n",
       "  'OtherOccupantRoomFloorArea': 30.0,\n",
       "  'TotalFloorArea': 120.0},\n",
       " 'Walls': [{'name': 'Ceiling_main',\n",
       "   'direction': 'Top',\n",
       "   'area': 16.95,\n",
       "   'space': 'main',\n",
       "   'type': 'Ceiling',\n",
       "   'structure': 'wood',\n",
       "   'IsSunshadeInput': False,\n",
       "   'UA': 7.7},\n",
       "  {'name': 'Ceiling_other',\n",
       "   'direction': 'Top',\n",
       "   'area': 16.95,\n",
       "   'space': 'other',\n",
       "   'type': 'Ceiling',\n",
       "   'structure': 'wood',\n",
       "   'IsSunshadeInput': False,\n",
       "   'UA': 7.7},\n",
       "  {'name': 'Ceiling_nonliving',\n",
       "   'direction': 'Top',\n",
       "   'area': 33.9,\n",
       "   'space': 'nonliving',\n",
       "   'type': 'Ceiling',\n",
       "   'structure': 'wood',\n",
       "   'IsSunshadeInput': False,\n",
       "   'UA': 7.7},\n",
       "  {'name': 'Wall_SW_main',\n",
       "   'direction': 'SW',\n",
       "   'area': 10.1575,\n",
       "   'space': 'main',\n",
       "   'type': 'Wall',\n",
       "   'structure': 'wood',\n",
       "   'IsSunshadeInput': False,\n",
       "   'UA': 6.67},\n",
       "  {'name': 'Wall_SW_other',\n",
       "   'direction': 'SW',\n",
       "   'area': 10.1575,\n",
       "   'space': 'other',\n",
       "   'type': 'Wall',\n",
       "   'structure': 'wood',\n",
       "   'IsSunshadeInput': False,\n",
       "   'UA': 6.67},\n",
       "  {'name': 'Wall_SW_nonliving',\n",
       "   'direction': 'SW',\n",
       "   'area': 20.315,\n",
       "   'space': 'nonliving',\n",
       "   'type': 'Wall',\n",
       "   'structure': 'wood',\n",
       "   'IsSunshadeInput': False,\n",
       "   'UA': 6.67},\n",
       "  {'name': 'Wall_NW_main',\n",
       "   'direction': 'NW',\n",
       "   'area': 7.4575,\n",
       "   'space': 'main',\n",
       "   'type': 'Wall',\n",
       "   'structure': 'wood',\n",
       "   'IsSunshadeInput': False,\n",
       "   'UA': 6.67},\n",
       "  {'name': 'Wall_NW_other',\n",
       "   'direction': 'NW',\n",
       "   'area': 7.4575,\n",
       "   'space': 'other',\n",
       "   'type': 'Wall',\n",
       "   'structure': 'wood',\n",
       "   'IsSunshadeInput': False,\n",
       "   'UA': 6.67},\n",
       "  {'name': 'Wall_NW_nonliving',\n",
       "   'direction': 'NW',\n",
       "   'area': 14.915,\n",
       "   'space': 'nonliving',\n",
       "   'type': 'Wall',\n",
       "   'structure': 'wood',\n",
       "   'IsSunshadeInput': False,\n",
       "   'UA': 6.67},\n",
       "  {'name': 'Wall_NE_main',\n",
       "   'direction': 'NE',\n",
       "   'area': 15.9725,\n",
       "   'space': 'main',\n",
       "   'type': 'Wall',\n",
       "   'structure': 'wood',\n",
       "   'IsSunshadeInput': False,\n",
       "   'UA': 6.67},\n",
       "  {'name': 'Wall_NE_other',\n",
       "   'direction': 'NE',\n",
       "   'area': 15.9725,\n",
       "   'space': 'other',\n",
       "   'type': 'Wall',\n",
       "   'structure': 'wood',\n",
       "   'IsSunshadeInput': False,\n",
       "   'UA': 6.67},\n",
       "  {'name': 'Wall_NE_nonliving',\n",
       "   'direction': 'NE',\n",
       "   'area': 31.945,\n",
       "   'space': 'nonliving',\n",
       "   'type': 'Wall',\n",
       "   'structure': 'wood',\n",
       "   'IsSunshadeInput': False,\n",
       "   'UA': 6.67},\n",
       "  {'name': 'Wall_SE_main',\n",
       "   'direction': 'SE',\n",
       "   'area': 7.4275,\n",
       "   'space': 'main',\n",
       "   'type': 'Wall',\n",
       "   'structure': 'wood',\n",
       "   'IsSunshadeInput': False,\n",
       "   'UA': 6.67},\n",
       "  {'name': 'Wall_SE_other',\n",
       "   'direction': 'SE',\n",
       "   'area': 7.4275,\n",
       "   'space': 'other',\n",
       "   'type': 'Wall',\n",
       "   'structure': 'wood',\n",
       "   'IsSunshadeInput': False,\n",
       "   'UA': 6.67},\n",
       "  {'name': 'Wall_SE_nonliving',\n",
       "   'direction': 'SE',\n",
       "   'area': 14.855,\n",
       "   'space': 'nonliving',\n",
       "   'type': 'Wall',\n",
       "   'structure': 'wood',\n",
       "   'IsSunshadeInput': False,\n",
       "   'UA': 6.67},\n",
       "  {'name': 'Floor_main',\n",
       "   'direction': 'Bottom',\n",
       "   'area': 15.0175,\n",
       "   'space': 'main',\n",
       "   'type': 'Floor',\n",
       "   'structure': 'wood',\n",
       "   'IsSunshadeInput': False,\n",
       "   'UA': 5.27},\n",
       "  {'name': 'Floor_other',\n",
       "   'direction': 'Bottom',\n",
       "   'area': 15.0175,\n",
       "   'space': 'other',\n",
       "   'type': 'Floor',\n",
       "   'structure': 'wood',\n",
       "   'IsSunshadeInput': False,\n",
       "   'UA': 5.27},\n",
       "  {'name': 'Floor_nonliving',\n",
       "   'direction': 'Bottom',\n",
       "   'area': 30.035,\n",
       "   'space': 'nonliving',\n",
       "   'type': 'Floor',\n",
       "   'structure': 'wood',\n",
       "   'IsSunshadeInput': False,\n",
       "   'UA': 5.27},\n",
       "  {'name': 'Floor_bath_main',\n",
       "   'direction': 'Bottom',\n",
       "   'area': 1.1025,\n",
       "   'space': 'main',\n",
       "   'type': 'Floor',\n",
       "   'structure': 'wood',\n",
       "   'IsSunshadeInput': False,\n",
       "   'UA': 5.27},\n",
       "  {'name': 'Floor_bath_other',\n",
       "   'direction': 'Bottom',\n",
       "   'area': 1.1025,\n",
       "   'space': 'other',\n",
       "   'type': 'Floor',\n",
       "   'structure': 'wood',\n",
       "   'IsSunshadeInput': False,\n",
       "   'UA': 5.27},\n",
       "  {'name': 'Floor_bath_nonliving',\n",
       "   'direction': 'Bottom',\n",
       "   'area': 2.205,\n",
       "   'space': 'nonliving',\n",
       "   'type': 'Floor',\n",
       "   'structure': 'wood',\n",
       "   'IsSunshadeInput': False,\n",
       "   'UA': 5.27}],\n",
       " 'Windows': [{'name': 'WindowSW_main',\n",
       "   'direction': 'SW',\n",
       "   'area': 7.5625,\n",
       "   'space': 'main',\n",
       "   'UW': 3.49,\n",
       "   'IsSunshadeInput': True,\n",
       "   'EtaCooling': None,\n",
       "   'EtaHeating': None,\n",
       "   'TypeGlass': None,\n",
       "   'Y1': 0,\n",
       "   'Y2': 1.1,\n",
       "   'Z': None},\n",
       "  {'name': 'WindowSW_other',\n",
       "   'direction': 'SW',\n",
       "   'area': 7.5625,\n",
       "   'space': 'other',\n",
       "   'UW': 3.49,\n",
       "   'IsSunshadeInput': True,\n",
       "   'EtaCooling': None,\n",
       "   'EtaHeating': None,\n",
       "   'TypeGlass': None,\n",
       "   'Y1': 0,\n",
       "   'Y2': 1.1,\n",
       "   'Z': None},\n",
       "  {'name': 'WindowSW_nonliving',\n",
       "   'direction': 'SW',\n",
       "   'area': 15.125,\n",
       "   'space': 'nonliving',\n",
       "   'UW': 3.49,\n",
       "   'IsSunshadeInput': True,\n",
       "   'EtaCooling': None,\n",
       "   'EtaHeating': None,\n",
       "   'TypeGlass': None,\n",
       "   'Y1': 0,\n",
       "   'Y2': 1.1,\n",
       "   'Z': None},\n",
       "  {'name': 'WindowNW_main',\n",
       "   'direction': 'NW',\n",
       "   'area': 0.7925,\n",
       "   'space': 'main',\n",
       "   'UW': 3.49,\n",
       "   'IsSunshadeInput': True,\n",
       "   'EtaCooling': None,\n",
       "   'EtaHeating': None,\n",
       "   'TypeGlass': None,\n",
       "   'Y1': 0,\n",
       "   'Y2': 1.1,\n",
       "   'Z': None},\n",
       "  {'name': 'WindowNW_other',\n",
       "   'direction': 'NW',\n",
       "   'area': 0.7925,\n",
       "   'space': 'other',\n",
       "   'UW': 3.49,\n",
       "   'IsSunshadeInput': True,\n",
       "   'EtaCooling': None,\n",
       "   'EtaHeating': None,\n",
       "   'TypeGlass': None,\n",
       "   'Y1': 0,\n",
       "   'Y2': 1.1,\n",
       "   'Z': None},\n",
       "  {'name': 'WindowNW_nonliving',\n",
       "   'direction': 'NW',\n",
       "   'area': 1.585,\n",
       "   'space': 'nonliving',\n",
       "   'UW': 3.49,\n",
       "   'IsSunshadeInput': True,\n",
       "   'EtaCooling': None,\n",
       "   'EtaHeating': None,\n",
       "   'TypeGlass': None,\n",
       "   'Y1': 0,\n",
       "   'Y2': 1.1,\n",
       "   'Z': None},\n",
       "  {'name': 'WindowNE_main',\n",
       "   'direction': 'NE',\n",
       "   'area': 1.21,\n",
       "   'space': 'main',\n",
       "   'UW': 3.49,\n",
       "   'IsSunshadeInput': True,\n",
       "   'EtaCooling': None,\n",
       "   'EtaHeating': None,\n",
       "   'TypeGlass': None,\n",
       "   'Y1': 0,\n",
       "   'Y2': 1.1,\n",
       "   'Z': None},\n",
       "  {'name': 'WindowNE_other',\n",
       "   'direction': 'NE',\n",
       "   'area': 1.21,\n",
       "   'space': 'other',\n",
       "   'UW': 3.49,\n",
       "   'IsSunshadeInput': True,\n",
       "   'EtaCooling': None,\n",
       "   'EtaHeating': None,\n",
       "   'TypeGlass': None,\n",
       "   'Y1': 0,\n",
       "   'Y2': 1.1,\n",
       "   'Z': None},\n",
       "  {'name': 'WindowNE_nonliving',\n",
       "   'direction': 'NE',\n",
       "   'area': 2.42,\n",
       "   'space': 'nonliving',\n",
       "   'UW': 3.49,\n",
       "   'IsSunshadeInput': True,\n",
       "   'EtaCooling': None,\n",
       "   'EtaHeating': None,\n",
       "   'TypeGlass': None,\n",
       "   'Y1': 0,\n",
       "   'Y2': 1.1,\n",
       "   'Z': None},\n",
       "  {'name': 'WindowSE_main',\n",
       "   'direction': 'SE',\n",
       "   'area': 1.4575,\n",
       "   'space': 'main',\n",
       "   'UW': 3.49,\n",
       "   'IsSunshadeInput': True,\n",
       "   'EtaCooling': None,\n",
       "   'EtaHeating': None,\n",
       "   'TypeGlass': None,\n",
       "   'Y1': 0,\n",
       "   'Y2': 1.1,\n",
       "   'Z': None},\n",
       "  {'name': 'WindowSE_other',\n",
       "   'direction': 'SE',\n",
       "   'area': 1.4575,\n",
       "   'space': 'other',\n",
       "   'UW': 3.49,\n",
       "   'IsSunshadeInput': True,\n",
       "   'EtaCooling': None,\n",
       "   'EtaHeating': None,\n",
       "   'TypeGlass': None,\n",
       "   'Y1': 0,\n",
       "   'Y2': 1.1,\n",
       "   'Z': None},\n",
       "  {'name': 'WindowSE_nonliving',\n",
       "   'direction': 'SE',\n",
       "   'area': 2.915,\n",
       "   'space': 'nonliving',\n",
       "   'UW': 3.49,\n",
       "   'IsSunshadeInput': True,\n",
       "   'EtaCooling': None,\n",
       "   'EtaHeating': None,\n",
       "   'TypeGlass': None,\n",
       "   'Y1': 0,\n",
       "   'Y2': 1.1,\n",
       "   'Z': None}],\n",
       " 'Doors': [{'name': 'DoorNW_main',\n",
       "   'direction': 'NW',\n",
       "   'area': 0.63,\n",
       "   'space': 'main',\n",
       "   'U': 4.65,\n",
       "   'IsSunshadeInput': False},\n",
       "  {'name': 'DoorNW_other',\n",
       "   'direction': 'NW',\n",
       "   'area': 0.63,\n",
       "   'space': 'other',\n",
       "   'U': 4.65,\n",
       "   'IsSunshadeInput': False},\n",
       "  {'name': 'DoorNW_nonliving',\n",
       "   'direction': 'NW',\n",
       "   'area': 1.26,\n",
       "   'space': 'nonliving',\n",
       "   'U': 4.65,\n",
       "   'IsSunshadeInput': False},\n",
       "  {'name': 'DoorNE_main',\n",
       "   'direction': 'NE',\n",
       "   'area': 0.54,\n",
       "   'space': 'main',\n",
       "   'U': 4.65,\n",
       "   'IsSunshadeInput': False},\n",
       "  {'name': 'DoorNE_other',\n",
       "   'direction': 'NE',\n",
       "   'area': 0.54,\n",
       "   'space': 'other',\n",
       "   'U': 4.65,\n",
       "   'IsSunshadeInput': False},\n",
       "  {'name': 'DoorNE_nonliving',\n",
       "   'direction': 'NE',\n",
       "   'area': 1.08,\n",
       "   'space': 'nonliving',\n",
       "   'U': 4.65,\n",
       "   'IsSunshadeInput': False}],\n",
       " 'EarthfloorPerimeters': [{'direction': 'NW',\n",
       "   'length': 2.43,\n",
       "   'name': 'Entrance_NW',\n",
       "   'psi': 1.8,\n",
       "   'space': 'underfloor'},\n",
       "  {'direction': 'NE',\n",
       "   'length': 1.83,\n",
       "   'name': 'Entrance_NE',\n",
       "   'psi': 1.8,\n",
       "   'space': 'underfloor'},\n",
       "  {'direction': 'OpenBackFloor',\n",
       "   'length': 4.25,\n",
       "   'name': 'Entrance_floor',\n",
       "   'psi': 1.8,\n",
       "   'space': 'underfloor'}],\n",
       " 'InnerWalls': [{'name': 'InnerFloor_main',\n",
       "   'type': 'InnerFloor',\n",
       "   'direction': 'Horizontal',\n",
       "   'area': 15.0,\n",
       "   'Layers': [{'name': 'PED', 'cond': 0.16, 'thick': 0.012, 'specH': 720.0}],\n",
       "   'space': 'main',\n",
       "   'nextspace': 'other'},\n",
       "  {'name': 'InnerFloor_other',\n",
       "   'type': 'InnerFloor',\n",
       "   'direction': 'Horizontal',\n",
       "   'area': 15.0,\n",
       "   'Layers': [{'name': 'PED', 'cond': 0.16, 'thick': 0.012, 'specH': 720.0}],\n",
       "   'space': 'other',\n",
       "   'nextspace': 'main'},\n",
       "  {'name': 'InnerFloor_main',\n",
       "   'type': 'InnerFloor',\n",
       "   'direction': 'Horizontal',\n",
       "   'area': 15.0,\n",
       "   'Layers': [{'name': 'PED', 'cond': 0.16, 'thick': 0.012, 'specH': 720.0}],\n",
       "   'space': 'main',\n",
       "   'nextspace': 'nonliving'},\n",
       "  {'name': 'InnerFloor_nonliving',\n",
       "   'type': 'InnerFloor',\n",
       "   'direction': 'Horizontal',\n",
       "   'area': 15.0,\n",
       "   'Layers': [{'name': 'PED', 'cond': 0.16, 'thick': 0.012, 'specH': 720.0}],\n",
       "   'space': 'nonliving',\n",
       "   'nextspace': 'main'},\n",
       "  {'name': 'InnerFloor_nonliving',\n",
       "   'type': 'InnerFloor',\n",
       "   'direction': 'Horizontal',\n",
       "   'area': 30.0,\n",
       "   'Layers': [{'name': 'PED', 'cond': 0.16, 'thick': 0.012, 'specH': 720.0}],\n",
       "   'space': 'nonliving',\n",
       "   'nextspace': 'main'},\n",
       "  {'name': 'InnerFloor_main',\n",
       "   'type': 'InnerFloor',\n",
       "   'direction': 'Horizontal',\n",
       "   'area': 30.0,\n",
       "   'Layers': [{'name': 'PED', 'cond': 0.16, 'thick': 0.012, 'specH': 720.0}],\n",
       "   'space': 'main',\n",
       "   'nextspace': 'nonliving'},\n",
       "  {'name': 'InnerFloor_other',\n",
       "   'type': 'InnerFloor',\n",
       "   'direction': 'Horizontal',\n",
       "   'area': 15.0,\n",
       "   'Layers': [{'name': 'PED', 'cond': 0.16, 'thick': 0.012, 'specH': 720.0}],\n",
       "   'space': 'other',\n",
       "   'nextspace': 'nonliving'},\n",
       "  {'name': 'InnerFloor_nonliving',\n",
       "   'type': 'InnerFloor',\n",
       "   'direction': 'Horizontal',\n",
       "   'area': 15.0,\n",
       "   'Layers': [{'name': 'PED', 'cond': 0.16, 'thick': 0.012, 'specH': 720.0}],\n",
       "   'space': 'nonliving',\n",
       "   'nextspace': 'other'},\n",
       "  {'name': 'InnerFloor_nonliving',\n",
       "   'type': 'InnerFloor',\n",
       "   'direction': 'Horizontal',\n",
       "   'area': 30.0,\n",
       "   'Layers': [{'name': 'PED', 'cond': 0.16, 'thick': 0.012, 'specH': 720.0}],\n",
       "   'space': 'nonliving',\n",
       "   'nextspace': 'other'},\n",
       "  {'name': 'InnerFloor_other',\n",
       "   'type': 'InnerFloor',\n",
       "   'direction': 'Horizontal',\n",
       "   'area': 30.0,\n",
       "   'Layers': [{'name': 'PED', 'cond': 0.16, 'thick': 0.012, 'specH': 720.0}],\n",
       "   'space': 'other',\n",
       "   'nextspace': 'nonliving'},\n",
       "  {'name': 'InnerCeiling_other',\n",
       "   'type': 'InnerCeiling',\n",
       "   'direction': 'Horizontal',\n",
       "   'area': 15.0,\n",
       "   'Layers': [{'name': 'PED', 'cond': 0.16, 'thick': 0.012, 'specH': 720.0}],\n",
       "   'space': 'other',\n",
       "   'nextspace': 'main'},\n",
       "  {'name': 'InnerCeiling_main',\n",
       "   'type': 'InnerCeiling',\n",
       "   'direction': 'Horizontal',\n",
       "   'area': 15.0,\n",
       "   'Layers': [{'name': 'PED', 'cond': 0.16, 'thick': 0.012, 'specH': 720.0}],\n",
       "   'space': 'main',\n",
       "   'nextspace': 'other'},\n",
       "  {'name': 'Innerwall_main to other',\n",
       "   'type': 'InnerWall',\n",
       "   'direction': 'Vertical',\n",
       "   'Layers': [{'name': 'GPB', 'cond': 0.22, 'thick': 0.0125, 'specH': 830.0},\n",
       "    {'name': 'GPB', 'cond': 11.11111111111111, 'thick': 1, 'specH': 0},\n",
       "    {'name': 'GPB', 'cond': 0.22, 'thick': 0.0125, 'specH': 830.0}],\n",
       "   'area': 19.020025504219888,\n",
       "   'space': 'main',\n",
       "   'nextspace:': 'other'},\n",
       "  {'name': 'Innerwall_main to other',\n",
       "   'type': 'InnerWall',\n",
       "   'direction': 'Vertical',\n",
       "   'Layers': [{'name': 'GPB', 'cond': 0.22, 'thick': 0.0125, 'specH': 830.0},\n",
       "    {'name': 'GPB', 'cond': 11.11111111111111, 'thick': 1, 'specH': 0},\n",
       "    {'name': 'GPB', 'cond': 0.22, 'thick': 0.0125, 'specH': 830.0}],\n",
       "   'area': 19.020025504219888,\n",
       "   'space': 'other',\n",
       "   'nextspace:': 'main'},\n",
       "  {'name': 'Innerwall_main to nonliving',\n",
       "   'type': 'InnerWall',\n",
       "   'direction': 'Vertical',\n",
       "   'Layers': [{'name': 'GPB', 'cond': 0.22, 'thick': 0.0125, 'specH': 830.0},\n",
       "    {'name': 'GPB', 'cond': 11.11111111111111, 'thick': 1, 'specH': 0},\n",
       "    {'name': 'GPB', 'cond': 0.22, 'thick': 0.0125, 'specH': 830.0}],\n",
       "   'area': 54.59388622447443,\n",
       "   'space': 'main',\n",
       "   'nextspace:': 'nonliving'},\n",
       "  {'name': 'Innerwall_main to nonliving',\n",
       "   'type': 'InnerWall',\n",
       "   'direction': 'Vertical',\n",
       "   'Layers': [{'name': 'GPB', 'cond': 0.22, 'thick': 0.0125, 'specH': 830.0},\n",
       "    {'name': 'GPB', 'cond': 11.11111111111111, 'thick': 1, 'specH': 0},\n",
       "    {'name': 'GPB', 'cond': 0.22, 'thick': 0.0125, 'specH': 830.0}],\n",
       "   'area': 54.59388622447443,\n",
       "   'space': 'nonliving',\n",
       "   'nextspace:': 'main'},\n",
       "  {'name': 'Innerwall_other to nonliving',\n",
       "   'type': 'InnerWall',\n",
       "   'direction': 'Vertical',\n",
       "   'Layers': [{'name': 'GPB', 'cond': 0.22, 'thick': 0.0125, 'specH': 830.0},\n",
       "    {'name': 'GPB', 'cond': 11.11111111111111, 'thick': 1, 'specH': 0},\n",
       "    {'name': 'GPB', 'cond': 0.22, 'thick': 0.0125, 'specH': 830.0}],\n",
       "   'area': 66.86287151259015,\n",
       "   'space': 'other',\n",
       "   'nextspace:': 'nonliving'},\n",
       "  {'name': 'Innerwall_other to nonliving',\n",
       "   'type': 'InnerWall',\n",
       "   'direction': 'Vertical',\n",
       "   'Layers': [{'name': 'GPB', 'cond': 0.22, 'thick': 0.0125, 'specH': 830.0},\n",
       "    {'name': 'GPB', 'cond': 11.11111111111111, 'thick': 1, 'specH': 0},\n",
       "    {'name': 'GPB', 'cond': 0.22, 'thick': 0.0125, 'specH': 830.0}],\n",
       "   'area': 66.86287151259015,\n",
       "   'space': 'nonliving',\n",
       "   'nextspace:': 'other'}]}"
      ]
     },
     "execution_count": 41,
     "metadata": {},
     "output_type": "execute_result"
    }
   ],
   "source": [
    "d = {\n",
    "    'Common': {\n",
    "        'Region': 6,\n",
    "        'IsSimplifiedInput': True,\n",
    "        'MainOccupantRoomFloorArea': 30.0,\n",
    "        'OtherOccupantRoomFloorArea': 30.0,\n",
    "        'TotalFloorArea': 120.0\n",
    "    },\n",
    "    'Walls': [\n",
    "        {'name': 'Ceiling_main', 'direction': 'Top', 'area': 16.95, 'space': 'main', 'type': 'Ceiling',\n",
    "         'structure': 'wood', 'IsSunshadeInput': False, 'UA': 7.7},\n",
    "        {'name': 'Ceiling_other', 'direction': 'Top', 'area': 16.95, 'space': 'other', 'type': 'Ceiling',\n",
    "         'structure': 'wood', 'IsSunshadeInput': False, 'UA': 7.7},\n",
    "        {'name': 'Ceiling_nonliving', 'direction': 'Top', 'area': 33.9, 'space': 'nonliving', 'type': 'Ceiling',\n",
    "         'structure': 'wood', 'IsSunshadeInput': False, 'UA': 7.7},\n",
    "        {'name': 'Wall_SW_main', 'direction': 'SW', 'area': 10.1575, 'space': 'main', 'type': 'Wall',\n",
    "         'structure': 'wood', 'IsSunshadeInput': False, 'UA': 6.67},\n",
    "        {'name': 'Wall_SW_other', 'direction': 'SW', 'area': 10.1575, 'space': 'other', 'type': 'Wall',\n",
    "         'structure': 'wood', 'IsSunshadeInput': False, 'UA': 6.67},\n",
    "        {'name': 'Wall_SW_nonliving', 'direction': 'SW', 'area': 20.315, 'space': 'nonliving', 'type': 'Wall',\n",
    "         'structure': 'wood', 'IsSunshadeInput': False, 'UA': 6.67},\n",
    "        {'name': 'Wall_NW_main', 'direction': 'NW', 'area': 7.4575, 'space': 'main', 'type': 'Wall',\n",
    "         'structure': 'wood', 'IsSunshadeInput': False, 'UA': 6.67},\n",
    "        {'name': 'Wall_NW_other', 'direction': 'NW', 'area': 7.4575, 'space': 'other', 'type': 'Wall',\n",
    "         'structure': 'wood', 'IsSunshadeInput': False, 'UA': 6.67},\n",
    "        {'name': 'Wall_NW_nonliving', 'direction': 'NW', 'area': 14.915, 'space': 'nonliving', 'type': 'Wall',\n",
    "         'structure': 'wood', 'IsSunshadeInput': False, 'UA': 6.67},\n",
    "        {'name': 'Wall_NE_main', 'direction': 'NE', 'area': 15.9725, 'space': 'main', 'type': 'Wall',\n",
    "         'structure': 'wood', 'IsSunshadeInput': False, 'UA': 6.67},\n",
    "        {'name': 'Wall_NE_other', 'direction': 'NE', 'area': 15.9725, 'space': 'other', 'type': 'Wall',\n",
    "         'structure': 'wood', 'IsSunshadeInput': False, 'UA': 6.67},\n",
    "        {'name': 'Wall_NE_nonliving', 'direction': 'NE', 'area': 31.945, 'space': 'nonliving', 'type': 'Wall',\n",
    "         'structure': 'wood', 'IsSunshadeInput': False, 'UA': 6.67},\n",
    "        {'name': 'Wall_SE_main', 'direction': 'SE', 'area': 7.4275, 'space': 'main', 'type': 'Wall',\n",
    "         'structure': 'wood', 'IsSunshadeInput': False, 'UA': 6.67},\n",
    "        {'name': 'Wall_SE_other', 'direction': 'SE', 'area': 7.4275, 'space': 'other', 'type': 'Wall',\n",
    "         'structure': 'wood', 'IsSunshadeInput': False, 'UA': 6.67},\n",
    "        {'name': 'Wall_SE_nonliving', 'direction': 'SE', 'area': 14.855, 'space': 'nonliving', 'type': 'Wall',\n",
    "         'structure': 'wood', 'IsSunshadeInput': False, 'UA': 6.67},\n",
    "        {'name': 'Floor_main', 'direction': 'Bottom', 'area': 15.0175, 'space': 'main', 'type': 'Floor',\n",
    "         'structure': 'wood', 'IsSunshadeInput': False, 'UA': 5.27},\n",
    "        {'name': 'Floor_other', 'direction': 'Bottom', 'area': 15.0175, 'space': 'other', 'type': 'Floor',\n",
    "         'structure': 'wood', 'IsSunshadeInput': False, 'UA': 5.27},\n",
    "        {'name': 'Floor_nonliving', 'direction': 'Bottom', 'area': 30.035, 'space': 'nonliving', 'type': 'Floor',\n",
    "         'structure': 'wood', 'IsSunshadeInput': False, 'UA': 5.27},\n",
    "        {'name': 'Floor_bath_main', 'direction': 'Bottom', 'area': 1.1025, 'space': 'main', 'type': 'Floor',\n",
    "         'structure': 'wood', 'IsSunshadeInput': False, 'UA': 5.27},\n",
    "        {'name': 'Floor_bath_other', 'direction': 'Bottom', 'area': 1.1025, 'space': 'other', 'type': 'Floor',\n",
    "         'structure': 'wood', 'IsSunshadeInput': False, 'UA': 5.27},\n",
    "        {'name': 'Floor_bath_nonliving', 'direction': 'Bottom', 'area': 2.205, 'space': 'nonliving', 'type': 'Floor',\n",
    "         'structure': 'wood', 'IsSunshadeInput': False, 'UA': 5.27}\n",
    "    ],\n",
    "    'Windows': [\n",
    "        {'name': 'WindowSW_main', 'direction': 'SW', 'area': 7.5625, 'space': 'main', 'UW': 3.49,\n",
    "         'IsSunshadeInput': True, 'EtaCooling': None, 'EtaHeating': None, 'TypeGlass': None, 'Y1': 0, 'Y2': 1.1, 'Z': None},\n",
    "        {'name': 'WindowSW_other', 'direction': 'SW', 'area': 7.5625, 'space': 'other', 'UW': 3.49,\n",
    "         'IsSunshadeInput': True, 'EtaCooling': None, 'EtaHeating': None, 'TypeGlass': None, 'Y1': 0, 'Y2': 1.1, 'Z': None},\n",
    "        {'name': 'WindowSW_nonliving', 'direction': 'SW', 'area': 15.125, 'space': 'nonliving', 'UW': 3.49,\n",
    "         'IsSunshadeInput': True, 'EtaCooling': None, 'EtaHeating': None, 'TypeGlass': None, 'Y1': 0, 'Y2': 1.1, 'Z': None},\n",
    "        {'name': 'WindowNW_main', 'direction': 'NW', 'area': 0.7925, 'space': 'main', 'UW': 3.49,\n",
    "         'IsSunshadeInput': True, 'EtaCooling': None, 'EtaHeating': None, 'TypeGlass': None, 'Y1': 0, 'Y2': 1.1, 'Z': None},\n",
    "        {'name': 'WindowNW_other', 'direction': 'NW', 'area': 0.7925, 'space': 'other', 'UW': 3.49,\n",
    "         'IsSunshadeInput': True, 'EtaCooling': None, 'EtaHeating': None, 'TypeGlass': None, 'Y1': 0, 'Y2': 1.1, 'Z': None},\n",
    "        {'name': 'WindowNW_nonliving', 'direction': 'NW', 'area': 1.585, 'space': 'nonliving', 'UW': 3.49,\n",
    "         'IsSunshadeInput': True, 'EtaCooling': None, 'EtaHeating': None, 'TypeGlass': None, 'Y1': 0, 'Y2': 1.1, 'Z': None},\n",
    "        {'name': 'WindowNE_main', 'direction': 'NE', 'area': 1.21, 'space': 'main', 'UW': 3.49,\n",
    "         'IsSunshadeInput': True, 'EtaCooling': None, 'EtaHeating': None, 'TypeGlass': None, 'Y1': 0, 'Y2': 1.1, 'Z': None},\n",
    "        {'name': 'WindowNE_other', 'direction': 'NE', 'area': 1.21, 'space': 'other', 'UW': 3.49,\n",
    "         'IsSunshadeInput': True, 'EtaCooling': None, 'EtaHeating': None, 'TypeGlass': None, 'Y1': 0, 'Y2': 1.1, 'Z': None},\n",
    "        {'name': 'WindowNE_nonliving', 'direction': 'NE', 'area': 2.42, 'space': 'nonliving', 'UW': 3.49,\n",
    "         'IsSunshadeInput': True, 'EtaCooling': None, 'EtaHeating': None, 'TypeGlass': None, 'Y1': 0, 'Y2': 1.1, 'Z': None},\n",
    "        {'name': 'WindowSE_main', 'direction': 'SE', 'area': 1.4575, 'space': 'main', 'UW': 3.49,\n",
    "         'IsSunshadeInput': True, 'EtaCooling': None, 'EtaHeating': None, 'TypeGlass': None, 'Y1': 0, 'Y2': 1.1, 'Z': None},\n",
    "        {'name': 'WindowSE_other', 'direction': 'SE', 'area': 1.4575, 'space': 'other', 'UW': 3.49,\n",
    "         'IsSunshadeInput': True, 'EtaCooling': None, 'EtaHeating': None, 'TypeGlass': None, 'Y1': 0, 'Y2': 1.1, 'Z': None},\n",
    "        {'name': 'WindowSE_nonliving', 'direction': 'SE', 'area': 2.915, 'space': 'nonliving', 'UW': 3.49,\n",
    "         'IsSunshadeInput': True, 'EtaCooling': None, 'EtaHeating': None, 'TypeGlass': None, 'Y1': 0, 'Y2': 1.1, 'Z': None}\n",
    "    ],\n",
    "    'Doors': [\n",
    "        {'name': 'DoorNW_main', 'direction': 'NW', 'area': 0.63, 'space': 'main', 'U': 4.65, 'IsSunshadeInput': False},\n",
    "        {'name': 'DoorNW_other', 'direction': 'NW', 'area': 0.63, 'space': 'other', 'U': 4.65, 'IsSunshadeInput': False},\n",
    "        {'name': 'DoorNW_nonliving', 'direction': 'NW', 'area': 1.26, 'space': 'nonliving', 'U': 4.65, 'IsSunshadeInput': False},\n",
    "        {'name': 'DoorNE_main', 'direction': 'NE', 'area': 0.54, 'space': 'main', 'U': 4.65, 'IsSunshadeInput': False},\n",
    "        {'name': 'DoorNE_other', 'direction': 'NE', 'area': 0.54, 'space': 'other', 'U': 4.65, 'IsSunshadeInput': False},\n",
    "        {'name': 'DoorNE_nonliving', 'direction': 'NE', 'area': 1.08, 'space': 'nonliving', 'U': 4.65, 'IsSunshadeInput': False}\n",
    "    ],\n",
    "    'EarthfloorPerimeters': [\n",
    "        {'direction': 'NW', 'length': 2.43, 'name': 'Entrance_NW', 'psi': 1.8, 'space': 'underfloor'},\n",
    "        {'direction': 'NE', 'length': 1.83, 'name': 'Entrance_NE', 'psi': 1.8, 'space': 'underfloor'},\n",
    "        {'direction': 'OpenBackFloor', 'length': 4.25, 'name': 'Entrance_floor', 'psi': 1.8, 'space': 'underfloor'}\n",
    "    ]\n",
    "}\n",
    "\n",
    "convert(d)"
   ]
  }
 ],
 "metadata": {
  "kernelspec": {
   "display_name": "Python 3",
   "language": "python",
   "name": "python3"
  },
  "language_info": {
   "codemirror_mode": {
    "name": "ipython",
    "version": 3
   },
   "file_extension": ".py",
   "mimetype": "text/x-python",
   "name": "python",
   "nbconvert_exporter": "python",
   "pygments_lexer": "ipython3",
   "version": "3.7.0"
  }
 },
 "nbformat": 4,
 "nbformat_minor": 2
}
