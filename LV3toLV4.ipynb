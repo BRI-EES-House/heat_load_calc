{
 "cells": [
  {
   "cell_type": "code",
   "execution_count": 1,
   "metadata": {},
   "outputs": [],
   "source": [
    "import copy\n",
    "import math"
   ]
  },
  {
   "cell_type": "markdown",
   "metadata": {},
   "source": [
    "# 外皮情報LV3からLV4へのコンバート"
   ]
  },
  {
   "cell_type": "markdown",
   "metadata": {},
   "source": [
    "## 概要"
   ]
  },
  {
   "cell_type": "markdown",
   "metadata": {},
   "source": [
    "外皮性能計算プログラムに、外皮の用途別情報を追加したものより、内壁等（建物内部の壁、天井、床）の面積の推定および熱貫流率の決定を行う。  \n",
    "- 内壁等の面積は、室の周長を求める際の係数（アスペクト比）と階高を仮定して、外皮の用途別情報および用途別床面積より推定する。\n",
    "- 内壁等の熱貫流率は一般的な仕様を想定して与える（石膏ボード12.5mm－空気層－石膏ボード12.5mm、参考：SimHeatでの熱負荷計算用の無断熱の層構成）。室内戸は考慮しない。\n",
    "- その他は、内壁の用途別情報が得られている場合と同様に求める。"
   ]
  },
  {
   "cell_type": "markdown",
   "metadata": {},
   "source": [
    "## 1. Common Element"
   ]
  },
  {
   "cell_type": "markdown",
   "metadata": {},
   "source": [
    "'Common'要素はそのまま維持する。"
   ]
  },
  {
   "cell_type": "markdown",
   "metadata": {},
   "source": [
    "参照：InputDataDefinition.ipynb"
   ]
  },
  {
   "cell_type": "markdown",
   "metadata": {},
   "source": [
    "##### Function"
   ]
  },
  {
   "cell_type": "code",
   "execution_count": 2,
   "metadata": {},
   "outputs": [],
   "source": [
    "def convert_common(d):\n",
    "    return {\n",
    "            'Region'                     : d['Common']['Region'],\n",
    "            'IsSimplifiedInput'          : d['Common']['IsSimplifiedInput'],\n",
    "            'MainOccupantRoomFloorArea'  : d['Common']['MainOccupantRoomFloorArea'],\n",
    "            'OtherOccupantRoomFloorArea' : d['Common']['OtherOccupantRoomFloorArea'],\n",
    "            'TotalFloorArea'             : d['Common']['TotalFloorArea']\n",
    "    }"
   ]
  },
  {
   "cell_type": "markdown",
   "metadata": {},
   "source": [
    "## 2. Walls Element"
   ]
  },
  {
   "cell_type": "markdown",
   "metadata": {},
   "source": [
    "'Walls'要素はそのまま維持する。"
   ]
  },
  {
   "cell_type": "markdown",
   "metadata": {},
   "source": [
    "##### Function"
   ]
  },
  {
   "cell_type": "code",
   "execution_count": 3,
   "metadata": {},
   "outputs": [],
   "source": [
    "def make_layer(name, thick, cond, specH, **kwargs) :\n",
    "    \n",
    "    return {\n",
    "            'name'  : name,\n",
    "            'thick' : thick,\n",
    "            'cond'  : cond,\n",
    "            'specH' : specH\n",
    "    }"
   ]
  },
  {
   "cell_type": "code",
   "execution_count": 4,
   "metadata": {},
   "outputs": [],
   "source": [
    "d_part_type = {\n",
    "    'Roof':{\n",
    "        'RoofInsulRafter':['RoofInsulation','RoofHeatbridge'],\n",
    "        'RoofInsulRafterandadd':['RoofInsulRafterandadd','RoofInsulrafterHeatbridgeadd',\n",
    "                                 'RoofInsuladdHeatbridgemember','RoofHeatbridgeMemberandadd'],\n",
    "        'OuterInsul':['RoofInsulRafterandadd','RoofInsulrafterHeatbridgeadd','RoofInsuladdHeatbridgemember','RoofHeatbridgeMemberandadd']\n",
    "    },\n",
    "    'Wall':{\n",
    "        'WallFrameInsulcolumn':['WallInsulation','WallHeatbridge'],\n",
    "        'WallFrameInsuladdBackhorizontal':['WallFrameInsulColumnandadd','WallFrameInsulcolumnHeatbridgeadd',\n",
    "                                           'WallFrameInsuladdHeatbridgemember','WallFrameHeatbridgeMemberandadd'],\n",
    "        'WallFrameInsuladdBackvertical':['WallFrameInsulColumnandadd','WallFrameInsulcolumnHeatbridgeadd',\n",
    "                                         'WallFrameInsuladdHeatbridgemember','WallFrameHeatbridgeMemberandadd'],\n",
    "        'WallInsuljamb':['WallInsulation','WallHeatbridge'],\n",
    "        'WallInsuladdBackhorizontal':['WallInsulFilledandadd','WallInsulfilledHeatbridgeadd','WallInsuladdHeatbridgemember',\n",
    "                                      'WallInsuladdHeatbridgelintel','WallHeatbridgeMemberandadd','WallHeatbridgeLintelandadd'],\n",
    "        'WallInsuladdBackvertical':['WallInsulFilledandadd','WallInsulfilledHeatbridgeadd','WallInsuladdHeatbridgemember',\n",
    "                                    'WallInsuladdHeatbridgelintel','WallHeatbridgeMemberandadd','WallHeatbridgeLintelandadd']\n",
    "    },\n",
    "    'BoundaryWall':{\n",
    "        'WallFrameInsulcolumn':['WallInsulation','WallHeatbridge'],\n",
    "        'WallFrameInsuladdBackhorizontal':['WallFrameInsulColumnandadd','WallFrameInsulcolumnHeatbridgeadd',\n",
    "                                           'WallFrameInsuladdHeatbridgemember','WallFrameHeatbridgeMemberandadd'],\n",
    "        'WallFrameInsuladdBackvertical':['WallFrameInsulColumnandadd','WallFrameInsulcolumnHeatbridgeadd',\n",
    "                                         'WallFrameInsuladdHeatbridgemember','WallFrameHeatbridgeMemberandadd'],\n",
    "        'WallInsuljamb':['WallInsulation','WallHeatbridge'],\n",
    "        'WallInsuladdBackhorizontal':['WallInsulFilledandadd','WallInsulfilledHeatbridgeadd','WallInsuladdHeatbridgemember',\n",
    "                                      'WallInsuladdHeatbridgelintel','WallHeatbridgeMemberandadd','WallHeatbridgeLintelandadd'],\n",
    "        'WallInsuladdBackvertical':['WallInsulFilledandadd','WallInsulfilledHeatbridgeadd','WallInsuladdHeatbridgemember',\n",
    "                                    'WallInsuladdHeatbridgelintel','WallHeatbridgeMemberandadd','WallHeatbridgeLintelandadd']\n",
    "    },\n",
    "    'Floor':{\n",
    "        'FloorFrameBeamInsuljoist':['FloorInsulation','FloorHeatbridge'],\n",
    "        'FloorFrameFootingInsuljoist':['FloorInsulation','FloorHeatbridge'],\n",
    "        'FloorFrameFootingInsulsleeper':['FloorInsulation','FloorHeatbridge'],\n",
    "        'FloorFrameFootingInsuljoist_sleeper':['FloorInsulJoitandsleeper','FloorInsuljoistHeatbridgesleeper',\n",
    "                                               'FloorInsulsleeperHeatbridgejoist','FloorHeatbridgeJoistandsleeper'],\n",
    "        'FloorFrameRigidfloor':['FloorInsulation','FloorHeatbridge'],\n",
    "        'FloorFrameBeambaseInsuljoist':['FloorInsulation','FloorHeatbridge'],\n",
    "        'FloorWallInsuljoist':['FloorInsulation','FloorHeatbridge']\n",
    "    },\n",
    "    'BoundaryFloor':{\n",
    "        'FloorFrameBeamInsuljoist':['FloorInsulation','FloorHeatbridge'],\n",
    "        'FloorFrameFootingInsuljoist':['FloorInsulation','FloorHeatbridge'],\n",
    "        'FloorFrameFootingInsulsleeper':['FloorInsulation','FloorHeatbridge'],\n",
    "        'FloorFrameFootingInsuljoist_sleeper':['FloorInsulJoitandsleeper','FloorInsuljoistHeatbridgesleeper',\n",
    "                                               'FloorInsulsleeperHeatbridgejoist','FloorHeatbridgeJoistandsleeper'],\n",
    "        'FloorFrameRigidfloor':['FloorInsulation','FloorHeatbridge'],\n",
    "        'FloorFrameBeambaseInsuljoist':['FloorInsulation','FloorHeatbridge'],\n",
    "        'FloorWallInsuljoist':['FloorInsulation','FloorHeatbridge']\n",
    "    },\n",
    "    'Ceiling':{\n",
    "        'CeilingInsulbeam':['CeilingInsulation','CeilingHeatbridge']\n",
    "    },\n",
    "    'BoundaryCeiling':{\n",
    "        'CeilingInsulbeam':['CeilingInsulation','CeilingHeatbridge']\n",
    "    }    \n",
    "}\n",
    "\n",
    "def make_parts(InputMethod, Parts, type = None, ConstructionMethodAllLayers = None, **kwargs) :\n",
    "    \n",
    "    parts_copy = []\n",
    "    \n",
    "    for x in Parts :\n",
    "        part = {}\n",
    "        if InputMethod == 'InputAllDetails' :\n",
    "            part['AreaRatio'] = x['AreaRatio']\n",
    "        elif InputMethod == 'InputAllLayers' :\n",
    "            part['Type'] = x['Type']\n",
    "            if (type in d_part_type) == True :\n",
    "                if (ConstructionMethodAllLayers in d_part_type[type]) == True :\n",
    "                    if (part['Type'] in d_part_type[type][ConstructionMethodAllLayers]) == True :\n",
    "                        pass\n",
    "                    else :\n",
    "                        raise ValueError\n",
    "                else :\n",
    "                    raise ValueError\n",
    "            else :\n",
    "                raise ValueError\n",
    "            \n",
    "        part['Layers'] = [make_layer(**layer) for layer in x['Layers']]\n",
    "        parts_copy.append(part)\n",
    "        \n",
    "    return parts_copy"
   ]
  },
  {
   "cell_type": "code",
   "execution_count": 5,
   "metadata": {},
   "outputs": [],
   "source": [
    "def make_wall(IsSimplifiedInput, name, direction, area, space, type, structure, IsSunshadeInput, \n",
    "              UA = None, IsInContactWithOutsideAir = None, InputMethod = None,\n",
    "              ConstructionMethodAllLayers = None, ConstructionMethodUR = None, InsulationMethod = None,\n",
    "              Radding = None, Parts = None, Y1 = None, Y2 = None, Z = None, **kwargs ):\n",
    "    \n",
    "    wall = {\n",
    "        'name':      name,\n",
    "        'direction': direction,\n",
    "        'area':      area,\n",
    "        'space':     space,\n",
    "        'type':      type,\n",
    "        'structure':     structure,        \n",
    "        'IsSunshadeInput': IsSunshadeInput        \n",
    "    }\n",
    "    \n",
    "    # 簡易外皮入力の場合\n",
    "    if IsSimplifiedInput == True :\n",
    "            wall['UA'] = UA \n",
    "            \n",
    "    # 簡易外皮入力でない場合\n",
    "    else :\n",
    "        wall['InputMethod'] = InputMethod\n",
    "        if structure == 'wood' :\n",
    "            if InputMethod == 'InputUA' :\n",
    "                wall['UA'] = UA \n",
    "            elif InputMethod == 'InputAllDetails' :\n",
    "                wall['IsInContactWithOutsideAir'] = IsInContactWithOutsideAir\n",
    "                wall['Parts'] = make_parts(InputMethod = InputMethod, Parts = Parts)\n",
    "            elif InputMethod == 'InputAllLayers' :\n",
    "                wall['IsInContactWithOutsideAir'] = IsInContactWithOutsideAir\n",
    "                wall['Parts'] = make_parts(InputMethod = InputMethod, ConstructionMethodAllLayers = ConstructionMethodAllLayers,\n",
    "                                           Parts = Parts, type = type)\n",
    "                wall['ConstructionMethodAllLayers'] = ConstructionMethodAllLayers           \n",
    "            elif InputMethod == 'InputUR' :\n",
    "                wall['IsInContactWithOutsideAir'] = IsInContactWithOutsideAir\n",
    "                if type == 'Floor' or type == 'BoundaryCeiling' or type == 'BoundaryFloor' :\n",
    "                    wall['ConstructionMethodUR'] = ConstructionMethodUR\n",
    "                elif type == 'Wall' or type == 'BoundaryWall' :\n",
    "                    wall['InsulationMethod'] = InsulationMethod\n",
    "                    if WallInsulationMethod == 'InsulColumn' or WallInsulationMethod == 'InsulColumnandadd' :\n",
    "                        wall['ConstructionMethodUR'] = ConstructionMethodUR       \n",
    "                elif type == 'Ceiling' :\n",
    "                    wall['InsulationMethod'] = InsulationMethod\n",
    "                elif type == 'Roof' :    \n",
    "                    wall['InsulationMethod'] = InsulationMethod                    \n",
    "                else :\n",
    "                    raise ValueError \n",
    "                wall['Parts'] = make_parts(InputMethod = InputMethod, Parts = Parts)\n",
    "            else :\n",
    "                raise ValueError                    \n",
    "        elif structure == 'RC' :\n",
    "            if InputMethod == 'InputUA' :\n",
    "                wall['UA'] = UA \n",
    "            elif InputMethod == 'InputLayers' :\n",
    "                wall['IsInContactWithOutsideAir'] = IsInContactWithOutsideAir\n",
    "                wall['Parts'] = make_parts(InputMethod = InputMethod, Parts = Parts)\n",
    "            else :\n",
    "                raise ValueError            \n",
    "        elif structure == 'steel' :\n",
    "            if InputMethod == 'InputUA' :\n",
    "                wall['UA'] = UA \n",
    "            elif InputMethod == 'InputUR' :\n",
    "                wall['Radding'] = Radding\n",
    "                wall['IsInContactWithOutsideAir'] = IsInContactWithOutsideAir\n",
    "                wall['Parts'] = make_parts(InputMethod = InputMethod, Parts = Parts)\n",
    "            else :\n",
    "                raise ValueError        \n",
    "        elif structure == 'other' :\n",
    "            pass\n",
    "        else :\n",
    "            raise ValueError        \n",
    "\n",
    "    # 日除けの設定\n",
    "    if IsSunshadeInput == True :\n",
    "        wall['Y1'] = Y1\n",
    "        wall['Y2'] = Y2\n",
    "        wall['Z'] = Z\n",
    " \n",
    "    return wall"
   ]
  },
  {
   "cell_type": "code",
   "execution_count": 6,
   "metadata": {},
   "outputs": [],
   "source": [
    "def convert_wall( d ):    \n",
    "    return [ make_wall(IsSimplifiedInput = d['Common']['IsSimplifiedInput'], **f) for f in d['Walls'] ]"
   ]
  },
  {
   "cell_type": "markdown",
   "metadata": {},
   "source": [
    "## 3. Windows Element"
   ]
  },
  {
   "cell_type": "markdown",
   "metadata": {},
   "source": [
    "'Windows'要素はそのまま維持する。"
   ]
  },
  {
   "cell_type": "markdown",
   "metadata": {},
   "source": [
    "##### Function"
   ]
  },
  {
   "cell_type": "code",
   "execution_count": 7,
   "metadata": {},
   "outputs": [],
   "source": [
    "def make_window(IsSimplifiedInput, name, direction, area, space, IsSunshadeInput, UW, TypeWindow = None, IsEtaValueInput = None,\n",
    "                EtaCooling = None, EtaHeating = None, Eta = None,TypeFrame = None, TypeGlass = None, TypeShade = None, \n",
    "                EtaInside = None,TypeFrameInside = None, TypeGlassInside = None, TypeShadeInside = None, \n",
    "                EtaOutside = None,TypeFrameOutside = None, TypeGlassOutside = None, TypeShadeOutside = None, \n",
    "                Y1 = None, Y2 = None, Z = None, **kwargs ):\n",
    "    \n",
    "    window = {\n",
    "        'name':      name,\n",
    "        'direction': direction,\n",
    "        'area':      area,\n",
    "        'space':     space,\n",
    "        'UW':         UW,\n",
    "        'IsSunshadeInput': IsSunshadeInput        \n",
    "    } \n",
    "    \n",
    "    # 簡易外皮入力の場合\n",
    "    if IsSimplifiedInput == True :\n",
    "            window['EtaCooling'] = EtaCooling \n",
    "            window['EtaHeating'] = EtaHeating    \n",
    "            \n",
    "    # 簡易外皮入力でない場合\n",
    "    else :\n",
    "        window['TypeWindow'] = TypeWindow\n",
    "        window['IsEtaValueInput'] = IsEtaValueInput\n",
    "        # 一重窓\n",
    "        if TypeWindow == 'Single' :\n",
    "            if IsEtaValueInput == True :\n",
    "                window['Eta'] = Eta\n",
    "            else :\n",
    "                window['TypeFrame'] = TypeFrame\n",
    "                window['TypeGlass'] = TypeGlass\n",
    "                window['TypeShade'] = TypeShade\n",
    "        # 二重窓\n",
    "        elif TypeWindow == 'Double' :\n",
    "            if IsEtaValueInput == True :\n",
    "                window['EtaInside'] = EtaInside\n",
    "                window['EtaOutside'] = EtaOutside\n",
    "            else :\n",
    "                window['TypeFrameInside'] = TypeFrameInside\n",
    "                window['TypeGlassInside'] = TypeGlassInside\n",
    "                window['TypeShadeInside'] = TypeShadeInside\n",
    "                window['TypeFrameOutside'] = TypeFrameOutside\n",
    "                window['TypeGlassOutside'] = TypeGlassOutside\n",
    "                window['TypeShadeOutside'] = TypeShadeOutside\n",
    "        else :\n",
    "            raise ValueError        \n",
    "    \n",
    "    # 日除けの設定\n",
    "    if IsSunshadeInput == True :\n",
    "        # 一重窓\n",
    "        if TypeWindow == 'Single' :\n",
    "                window['TypeGlass'] = TypeGlass\n",
    "        # 二重窓\n",
    "        elif TypeWindow == 'Double' :\n",
    "                window['TypeGlassInside'] = TypeGlassInside\n",
    "                window['TypeGlassOutside'] = TypeGlassOutside\n",
    "        else :\n",
    "            raise ValueError\n",
    "                \n",
    "        window['Y1'] = Y1\n",
    "        window['Y2'] = Y2\n",
    "        window['Z'] = Z\n",
    "\n",
    "    return window"
   ]
  },
  {
   "cell_type": "code",
   "execution_count": 8,
   "metadata": {},
   "outputs": [],
   "source": [
    "def convert_window( d ):    \n",
    "    return [ make_window(IsSimplifiedInput = d['Common']['IsSimplifiedInput'], **f) for f in d['Windows'] ]"
   ]
  },
  {
   "cell_type": "markdown",
   "metadata": {},
   "source": [
    "## 4. Doors Element"
   ]
  },
  {
   "cell_type": "markdown",
   "metadata": {},
   "source": [
    "'Doors'要素はそのまま維持する。"
   ]
  },
  {
   "cell_type": "markdown",
   "metadata": {},
   "source": [
    "##### Function"
   ]
  },
  {
   "cell_type": "code",
   "execution_count": 9,
   "metadata": {},
   "outputs": [],
   "source": [
    "def make_door(name, direction, area, space, U, IsSunshadeInput, Y1 = None, Y2 = None, Z = None, **kwargs ):\n",
    "\n",
    "    door = {\n",
    "        'name':      name,\n",
    "        'direction': direction,\n",
    "        'area':      area,\n",
    "        'space':     space,\n",
    "        'U':         U,\n",
    "        'IsSunshadeInput': IsSunshadeInput\n",
    "    }\n",
    "    \n",
    "    # 日除けの設定\n",
    "    if IsSunshadeInput == True :\n",
    "        door['Y1'] = Y1\n",
    "        door['Y2'] = Y2\n",
    "        door['Z'] = Z\n",
    "    \n",
    "    return door"
   ]
  },
  {
   "cell_type": "code",
   "execution_count": 10,
   "metadata": {},
   "outputs": [],
   "source": [
    "def convert_door( d ):    \n",
    "    return [ make_door(**f) for f in d['Doors'] ]"
   ]
  },
  {
   "cell_type": "markdown",
   "metadata": {},
   "source": [
    "## 5. Heatbridges Element"
   ]
  },
  {
   "cell_type": "markdown",
   "metadata": {},
   "source": [
    "'Heatbridges'要素はそのまま維持する。"
   ]
  },
  {
   "cell_type": "markdown",
   "metadata": {},
   "source": [
    "##### Function"
   ]
  },
  {
   "cell_type": "code",
   "execution_count": 11,
   "metadata": {},
   "outputs": [],
   "source": [
    "def make_heatbridge(name, structure, direction1, direction2, space, length, psi):\n",
    "    return {\n",
    "        'name':       name,\n",
    "        'structure':  structure,\n",
    "        'direction1': direction1,\n",
    "        'direction2': direction2,\n",
    "        'length':     length,\n",
    "        'space':      space,\n",
    "        'psi':        psi\n",
    "    }"
   ]
  },
  {
   "cell_type": "code",
   "execution_count": 12,
   "metadata": {},
   "outputs": [],
   "source": [
    "def convert_heatbridge( d ):    \n",
    "    return [ make_heatbridge(**f) for f in d['Heatbridges'] ]"
   ]
  },
  {
   "cell_type": "markdown",
   "metadata": {},
   "source": [
    "## 6. EarthfloorPerimeters Element"
   ]
  },
  {
   "cell_type": "markdown",
   "metadata": {},
   "source": [
    "'EarthfloorPerimeters'要素はそのまま維持する。"
   ]
  },
  {
   "cell_type": "markdown",
   "metadata": {},
   "source": [
    "##### Function"
   ]
  },
  {
   "cell_type": "code",
   "execution_count": 13,
   "metadata": {},
   "outputs": [],
   "source": [
    "def make_earthfloorperimeter( direction, length, name, psi, space):\n",
    "    return {\n",
    "        'direction': direction,\n",
    "        'length':    length,\n",
    "        'name':      name,\n",
    "        'psi':       psi,\n",
    "        'space':     space\n",
    "    }"
   ]
  },
  {
   "cell_type": "code",
   "execution_count": 14,
   "metadata": {},
   "outputs": [],
   "source": [
    "def convert_earthfloorperimeter( d ):    \n",
    "    return [ make_earthfloorperimeter(**f) for f in d['EarthfloorPerimeters'] ]"
   ]
  },
  {
   "cell_type": "markdown",
   "metadata": {},
   "source": [
    "## 7. Earthfloors Element"
   ]
  },
  {
   "cell_type": "markdown",
   "metadata": {},
   "source": [
    "'Earthfloors'要素はそのまま維持する。"
   ]
  },
  {
   "cell_type": "markdown",
   "metadata": {},
   "source": [
    "##### Function"
   ]
  },
  {
   "cell_type": "code",
   "execution_count": 15,
   "metadata": {},
   "outputs": [],
   "source": [
    "def make_earthfloor( name, area, space ):\n",
    "    return {\n",
    "        'name': name,\n",
    "        'area': area,\n",
    "        'space': space\n",
    "    }"
   ]
  },
  {
   "cell_type": "code",
   "execution_count": 16,
   "metadata": {},
   "outputs": [],
   "source": [
    "def convert_earthfloor( d ):        \n",
    "    return [ make_earthfloor(**f) for f in d['Earthfloors'] ]"
   ]
  },
  {
   "cell_type": "markdown",
   "metadata": {},
   "source": [
    "## 8. InnerWalls Element"
   ]
  },
  {
   "cell_type": "markdown",
   "metadata": {},
   "source": [
    "### 8.1. 共通して用いる関数"
   ]
  },
  {
   "cell_type": "markdown",
   "metadata": {},
   "source": [
    "#### 1) 用途別床面積を取得する関数"
   ]
  },
  {
   "cell_type": "code",
   "execution_count": 17,
   "metadata": {},
   "outputs": [],
   "source": [
    "def get_floor_area(a_mr, a_or, a_total):\n",
    "    return a_mr, a_or, a_total - a_mr - a_or"
   ]
  },
  {
   "cell_type": "markdown",
   "metadata": {},
   "source": [
    "#### 2) 方位が「下面」である外皮の部位の面積の合計"
   ]
  },
  {
   "cell_type": "code",
   "execution_count": 18,
   "metadata": {},
   "outputs": [],
   "source": [
    "def get_floor_area_to_outside(d):\n",
    "\n",
    "    parts = []\n",
    "\n",
    "    if 'Walls' in d:\n",
    "        parts.extend(d['Walls'])\n",
    "    \n",
    "    if 'Windows' in d:\n",
    "        parts.extend(d['Windows'])\n",
    "        \n",
    "    if 'Doors' in d:\n",
    "        parts.extend(d['Doors'])\n",
    "    \n",
    "    def f(room_type):\n",
    "        return sum(part['area'] for part in parts if part['space'] == room_type and part['direction'] == 'bottom')\n",
    "\n",
    "    return f('main'), f('other'), f('nonliving')"
   ]
  },
  {
   "cell_type": "markdown",
   "metadata": {},
   "source": [
    "#### 3) 土間床等の面積の合計"
   ]
  },
  {
   "cell_type": "code",
   "execution_count": 19,
   "metadata": {},
   "outputs": [],
   "source": [
    "def get_area_of_earth_floor(d):\n",
    "\n",
    "    def f(room_type):\n",
    "        return sum(part['area'] for part in d['Earthfloors'] if part['space'] == room_type)\n",
    "    \n",
    "    if 'Earthfloors' in d:\n",
    "        return f('main'), f('other'), f('nonliving')\n",
    "    else:\n",
    "        return 0.0, 0.0, 0.0"
   ]
  },
  {
   "cell_type": "markdown",
   "metadata": {},
   "source": [
    "#### 4) 床下空間に属する土間床等の面積の取得"
   ]
  },
  {
   "cell_type": "code",
   "execution_count": 20,
   "metadata": {},
   "outputs": [],
   "source": [
    "def get_area_of_earth_floor_in_under_floor(d):\n",
    "    if 'Earthfloors' in d:\n",
    "        return sum(earthfloor['area'] for earthfloor in d['Earthfloors'] if earthfloor['space'] == 'underfloor')\n",
    "    else:\n",
    "        return 0.0"
   ]
  },
  {
   "cell_type": "markdown",
   "metadata": {},
   "source": [
    "### 8.2. InnerWalls Element - Ground Floor "
   ]
  },
  {
   "cell_type": "markdown",
   "metadata": {},
   "source": [
    "#### 1) 層構成"
   ]
  },
  {
   "cell_type": "markdown",
   "metadata": {},
   "source": [
    "以下の層構成とする。"
   ]
  },
  {
   "cell_type": "markdown",
   "metadata": {},
   "source": [
    "| 材料 | 厚さ, m | 熱伝導率, W m<sup>-1</sup> K<sup>-1</sup> | 熱抵抗, m<sup>2</sup> k W<sup>-1</sup> | 容積比熱, J L<sup>-1</sup> K<sup>-1</sup> |\n",
    "|---|---|---|---|\n",
    "| 合板 | 0.012 | 0.16 | 0.075 | 720.0 |"
   ]
  },
  {
   "cell_type": "markdown",
   "metadata": {},
   "source": [
    "##### Function"
   ]
  },
  {
   "cell_type": "code",
   "execution_count": 21,
   "metadata": {},
   "outputs": [],
   "source": [
    "def get_inner_floor_layers_over_under_floor():\n",
    "    return [{'name': 'PED', 'cond': 0.16, 'thick': 0.012, 'specH': 720.0}]"
   ]
  },
  {
   "cell_type": "markdown",
   "metadata": {},
   "source": [
    "#### 2) 床下空間上の床面積の推定"
   ]
  },
  {
   "cell_type": "markdown",
   "metadata": {},
   "source": [
    "- 外皮の用途別情報が入力された場合において床下空間に属する土間床等面積が0㎡より大きい場合、室と床下空間の間の床の面積の合計は、床下空間に属する土間床等面積の合計（ただし、室用途別の床面積と方位が「下面」の部位面積の差分の合計を上限とする）に等しいとみなす。  \n",
    "- 室と床下空間の間の床は、室用途別の床面積と方位が「下面」の部位面積の差分に応じて、各用途に割り当てる。"
   ]
  },
  {
   "cell_type": "markdown",
   "metadata": {},
   "source": [
    "$\\sum_{i}^{}A_{b,i}>0$ かつ $A_{dif,MR} + A_{dif,OR} + A_{dif,NR}>0$ の場合"
   ]
  },
  {
   "cell_type": "markdown",
   "metadata": {},
   "source": [
    "$$\n",
    "\\displaystyle\n",
    "A_{f,MR}= \\sum_{i}^{}A_{b,i} \\times \\frac{ A_{dif,MR} }{ A_{dif,MR} + A_{dif,OR} + A_{dif,NR} }\n",
    "$$\n",
    "\n",
    "$$\n",
    "\\displaystyle\n",
    "A_{f,OR}= \\sum_{i}^{}A_{b,i} \\times \\frac{ A_{dif,OR} }{ A_{dif,MR} + A_{dif,OR} + A_{dif,NR} }\n",
    "$$\n",
    "\n",
    "$$\n",
    "\\displaystyle\n",
    "A_{f,NR}= \\sum_{i}^{}A_{b,i} \\times \\frac{ A_{dif,NR} }{ A_{dif,MR} + A_{dif,OR} + A_{dif,NR} }\n",
    "$$"
   ]
  },
  {
   "cell_type": "markdown",
   "metadata": {},
   "source": [
    "$A_{b,i}$: 床下空間に属する土間床等の部位$i$の面積, m<sup>2</sup>  \n",
    "　　 ($\\sum_{i}^{}A_{b,i}≦A_{dif,MR} + A_{dif,OR} + A_{dif,NR}$を想定)  \n",
    "$A_{f,MR}$: 主たる居室と床下空間の間の床の面積, m<sup>2</sup>  \n",
    "$A_{f,OR}$: その他の居室と床下空間の間の床の面積, m<sup>2</sup>  \n",
    "$A_{f,NR}$: 非居室と床下空間の間の床の面積, m<sup>2</sup>  \n",
    "$A_f$: 室と床下空間の間の床面積の合計, m<sup>2</sup>  \n",
    "$A_{dif,MR}$: 主たる居室において、方位が「下面」の部位の面積と土間床等の面積の合計と、床面積の差, m<sup>2</sup>  \n",
    "$A_{dif,OR}$: その他の居室において、方位が「下面」の部位の面積と土間床等の面積の合計と、床面積の差, m<sup>2</sup>  \n",
    "$A_{dif,NR}$: 非居室において、方位が「下面」の部位の面積と土間床等の面積の合計と、床面積の差, m<sup>2</sup>  "
   ]
  },
  {
   "cell_type": "markdown",
   "metadata": {},
   "source": [
    "$$\n",
    "\\displaystyle\n",
    "A_{dif, MR} = max(0, A_{MR} - \\sum_i A_{of,MR,i} - \\sum_i A_{ef,MR,i})\n",
    "$$\n",
    "\n",
    "$$\n",
    "\\displaystyle\n",
    "A_{dif, OR} = max(0, A_{OR} - \\sum_i A_{of,OR,i} - \\sum_i A_{ef,OR,i})\n",
    "$$\n",
    "\n",
    "$$\n",
    "\\displaystyle\n",
    "A_{dif, NR} = max(0, A_{NR} - \\sum_i A_{of,NR,i} - \\sum_i A_{ef,NR,i})\n",
    "$$"
   ]
  },
  {
   "cell_type": "markdown",
   "metadata": {},
   "source": [
    "$A_{MR}$: 主たる居室の床面積, m<sup>2</sup>  \n",
    "$A_{OR}$: その他の居室の床面積, m<sup>2</sup>  \n",
    "$A_{NR}$: 非居室の床面積, m<sup>2</sup>   \n",
    "$A_{of,MR,i}$: 方位が「下面」である主たる居室の外皮の部位(一般部位又は開口部)$i$の面積, m<sup>2</sup>  \n",
    "$A_{of,OR,i}$: 方位が「下面」であるその他の居室の外皮の部位(一般部位又は開口部)$i$の面積, m<sup>2</sup>  \n",
    "$A_{of,NR,i}$: 方位が「下面」である非居室の外皮の部位(一般部位又は開口部)$i$の面積, m<sup>2</sup>  \n",
    "$A_{ef,MR,i}$: 主たる居室の土間床$i$の面積, m<sup>2</sup>  \n",
    "$A_{ef,OR,i}$: その他の居室の土間床$i$の面積, m<sup>2</sup>  \n",
    "$A_{ef,NR,i}$: 非居室の土間床$i$の面積, m<sup>2</sup>  "
   ]
  },
  {
   "cell_type": "markdown",
   "metadata": {},
   "source": [
    "##### Function"
   ]
  },
  {
   "cell_type": "code",
   "execution_count": 22,
   "metadata": {},
   "outputs": [],
   "source": [
    "def get_area_floor_over_underfloor(d):\n",
    "    \n",
    "    # 用途別床面積の取得\n",
    "    a_mr, a_or, a_nr = get_floor_area(a_mr=d['Common']['MainOccupantRoomFloorArea'],\n",
    "                                      a_or=d['Common']['OtherOccupantRoomFloorArea'],\n",
    "                                      a_total=d['Common']['TotalFloorArea'])\n",
    "    \n",
    "    # 下面（direction:Bottom）の壁・窓・ドア面積の合計値の取得\n",
    "    a_outside_mr, a_outside_or, a_outside_nr = get_floor_area_to_outside(d)\n",
    "    \n",
    "    # 土間床等の面積の合計値の取得\n",
    "    a_earth_floor_mr, a_earth_floor_or, a_earth_floor_nr = get_area_of_earth_floor(d)\n",
    "    \n",
    "    # 方位が「下面」の部位の面積と土間床等の面積の合計値と、床面積の差\n",
    "    a_dif_mr = max(0.0, a_mr - a_outside_mr - a_earth_floor_mr)\n",
    "    a_dif_or = max(0.0, a_or - a_outside_or - a_earth_floor_or)\n",
    "    a_dif_nr = max(0.0, a_nr - a_outside_nr - a_earth_floor_nr)\n",
    "\n",
    "    a_dif = a_dif_mr + a_dif_or + a_dif_nr\n",
    "\n",
    "    # 床下空間に属する土間床等の面積の取得\n",
    "    a_b = get_area_of_earth_floor_in_under_floor(d)\n",
    "\n",
    "    # 居室と床下空間との間の床の面積\n",
    "    # 室と床下空間の間の床面を設定する場合\n",
    "    if a_b > 0.0 and a_dif > 0.0:\n",
    "        a_f_mr = a_b * a_dif_mr / a_dif\n",
    "        a_f_or = a_b * a_dif_or / a_dif\n",
    "        a_f_nr = a_b * a_dif_nr / a_dif\n",
    "        return a_f_mr, a_f_or, a_f_nr\n",
    "    # 室と床下空間の間の床面を設定しない場合\n",
    "    else :\n",
    "        return 0.0, 0.0, 0.0"
   ]
  },
  {
   "cell_type": "markdown",
   "metadata": {},
   "source": [
    "#### 3) 室と床下空間の間の床の構築"
   ]
  },
  {
   "cell_type": "markdown",
   "metadata": {},
   "source": [
    "##### Function"
   ]
  },
  {
   "cell_type": "code",
   "execution_count": 23,
   "metadata": {},
   "outputs": [],
   "source": [
    "def get_innerwall_groundfloor(d):\n",
    "    \n",
    "    # 室と床下空間の間の床面積の推定\n",
    "    a_if_mr, a_if_or, a_if_nr = get_area_floor_over_underfloor(d)\n",
    "    \n",
    "    # 壁体名称、部位面積を更新し、「壁体が属する空間種類」「隣接空間種類」を追加する\n",
    "    ifs = []\n",
    "    \n",
    "    if a_if_mr > 0.0:\n",
    "        ifs.append({\n",
    "            'name' : 'GroundFloor_Main',\n",
    "            'type' : 'GroundFloor',\n",
    "            'direction' : 'Horizontal',\n",
    "            'area' : a_if_mr,\n",
    "            'Layers' : get_inner_floor_layers_over_under_floor(),\n",
    "            'space' : 'main',\n",
    "            'nextspace': 'underfloor'\n",
    "        })\n",
    "        ifs.append({\n",
    "            'name' : 'GroundFloor_Main',\n",
    "            'type' : 'GroundFloor',\n",
    "            'direction' : 'Horizontal',\n",
    "            'area' : a_if_mr,\n",
    "            'Layers' : get_inner_floor_layers_over_under_floor(),\n",
    "            'space' : 'underfloor',\n",
    "            'nextspace': 'main'\n",
    "        })\n",
    "    \n",
    "    if a_if_or > 0.0:\n",
    "        ifs.append({\n",
    "            'name' : 'GroundFloor_Other',\n",
    "            'type' : 'GroundFloor',\n",
    "            'direction' : 'Horizontal',\n",
    "            'area' : a_if_or,\n",
    "            'Layers' : get_inner_floor_layers_over_under_floor(),\n",
    "            'space' : 'other',\n",
    "            'nextspace': 'underfloor'\n",
    "        })\n",
    "        ifs.append({\n",
    "            'name' : 'GroundFloor_Other',\n",
    "            'type' : 'GroundFloor',\n",
    "            'direction' : 'Horizontal',\n",
    "            'area' : a_if_or,\n",
    "            'Layers' : get_inner_floor_layers_over_under_floor(),\n",
    "            'space' : 'underfloor',\n",
    "            'nextspace': 'other'                \n",
    "        })\n",
    "        \n",
    "    if a_if_nr > 0.0:\n",
    "        ifs.append({\n",
    "            'name' : 'GroundFloor_Nonliving',\n",
    "            'type' : 'GroundFloor',\n",
    "            'direction' : 'Horizontal',\n",
    "            'area' : a_if_nr,\n",
    "            'Layers' : get_inner_floor_layers_over_under_floor(),\n",
    "            'space' : 'nonliving',\n",
    "            'nextspace': 'underfloor'\n",
    "        })\n",
    "        ifs.append({\n",
    "            'name' : 'GroundFloor_Nonliving',\n",
    "            'type' : 'GroundFloor',\n",
    "            'direction' : 'Horizontal',\n",
    "            'area' : a_if_nr,\n",
    "            'Layers' : get_inner_floor_layers_over_under_floor(),\n",
    "            'space' : 'underfloor',\n",
    "            'nextspace': 'nonliving'\n",
    "        })\n",
    "        \n",
    "    return ifs"
   ]
  },
  {
   "cell_type": "markdown",
   "metadata": {},
   "source": [
    "##### Example"
   ]
  },
  {
   "cell_type": "code",
   "execution_count": 24,
   "metadata": {},
   "outputs": [
    {
     "data": {
      "text/plain": [
       "[{'name': 'GroundFloor_Other',\n",
       "  'type': 'GroundFloor',\n",
       "  'direction': 'Horizontal',\n",
       "  'area': 6.666666666666667,\n",
       "  'Layers': [{'name': 'PED', 'cond': 0.16, 'thick': 0.012, 'specH': 720.0}],\n",
       "  'space': 'other',\n",
       "  'nextspace': 'underfloor'},\n",
       " {'name': 'GroundFloor_Other',\n",
       "  'type': 'GroundFloor',\n",
       "  'direction': 'Horizontal',\n",
       "  'area': 6.666666666666667,\n",
       "  'Layers': [{'name': 'PED', 'cond': 0.16, 'thick': 0.012, 'specH': 720.0}],\n",
       "  'space': 'underfloor',\n",
       "  'nextspace': 'other'},\n",
       " {'name': 'GroundFloor_Nonliving',\n",
       "  'type': 'GroundFloor',\n",
       "  'direction': 'Horizontal',\n",
       "  'area': 3.3333333333333335,\n",
       "  'Layers': [{'name': 'PED', 'cond': 0.16, 'thick': 0.012, 'specH': 720.0}],\n",
       "  'space': 'nonliving',\n",
       "  'nextspace': 'underfloor'},\n",
       " {'name': 'GroundFloor_Nonliving',\n",
       "  'type': 'GroundFloor',\n",
       "  'direction': 'Horizontal',\n",
       "  'area': 3.3333333333333335,\n",
       "  'Layers': [{'name': 'PED', 'cond': 0.16, 'thick': 0.012, 'specH': 720.0}],\n",
       "  'space': 'underfloor',\n",
       "  'nextspace': 'nonliving'}]"
      ]
     },
     "execution_count": 24,
     "metadata": {},
     "output_type": "execute_result"
    }
   ],
   "source": [
    "d = {\n",
    "    'Common': {\n",
    "        'Region': 6,\n",
    "        'IsSimplifiedInput': False,\n",
    "        'MainOccupantRoomFloorArea': 30.0,\n",
    "        'OtherOccupantRoomFloorArea': 60.0,\n",
    "        'TotalFloorArea': 120.0\n",
    "    },\n",
    "    'Walls': [\n",
    "        { 'name': 'Ceiling', 'type': 'Ceiling', 'structure': 'wood', 'InputMethod' :'InputUA', \n",
    "          'direction': 'top', 'area': 60, 'space': 'main', 'UA': 0.24, 'IsSunshadeInput': False },\n",
    "        { 'name': 'Ceiling', 'type': 'Ceiling', 'structure': 'wood', 'InputMethod' :'InputAllDetails', 'direction': 'top', \n",
    "          'area': 60, 'space': 'main',\n",
    "          'Parts': [{'AreaRatio': 0.8, 'Layers': [{'name': 'wood','thick': 0.012, 'cond': 0.16, 'specH': 720 },\n",
    "                                                  {'name': 'wood','thick': 0.012, 'cond': 0.16, 'specH': 720 }]},\n",
    "                    {'AreaRatio': 0.2, 'Layers': [{'name': 'wood','thick': 0.012, 'cond': 0.16, 'specH': 720 },\n",
    "                                                  {'name': 'wood','thick': 0.012, 'cond': 0.16, 'specH': 720 }]}],\n",
    "          'IsSunshadeInput': False },\n",
    "        { 'name': 'Floor', 'type': 'Floor', 'structure': 'wood', 'InputMethod' :'InputAllLayers', 'direction': 'bottom', \n",
    "          'area': 60, 'space': 'main',\n",
    "          'FloorConstructionMethod' :'FrameInsulcolumn',\n",
    "          'Parts': [{'TypeFloor': 'Insulation', 'Layers': [{'name': 'wood','thick': 0.012, 'cond': 0.16, 'specH': 720 },\n",
    "                                                           {'name': 'wood','thick': 0.012, 'cond': 0.16, 'specH': 720 }]},\n",
    "                    {'TypeFloor': 'Heatbridge', 'Layers': [{'name': 'wood','thick': 0.012, 'cond': 0.16, 'specH': 720 },\n",
    "                                                           {'name': 'wood','thick': 0.012, 'cond': 0.16, 'specH': 720 }]}],\n",
    "           'IsSunshadeInput': False }\n",
    "    ],\n",
    "    'Windows': [\n",
    "        { 'name': 'WindowTop', 'direction': 'top', 'area': 30, 'space': 'main', 'UW': 6.51, 'TypeWindow': 'Single', \n",
    "          'IsEtaValueInput': False, 'TypeFrame': 'WoodOrResin', 'TypeGlass': '3WgG', 'TypeShade': 'Shoji', 'IsSunshadeInput': False }\n",
    "    ],\n",
    "    'Earthfloors': [\n",
    "        { 'name': 'other', 'area': 5.0, 'space': 'underfloor' },\n",
    "        { 'name': 'entrance', 'area': 5.0, 'space': 'underfloor' }\n",
    "    ]\n",
    "}\n",
    "\n",
    "innerwall_groundfloor = get_innerwall_groundfloor(d)\n",
    "innerwall_groundfloor"
   ]
  },
  {
   "cell_type": "markdown",
   "metadata": {},
   "source": [
    "### 8.3. InnerWalls Element - Inner Floor"
   ]
  },
  {
   "cell_type": "markdown",
   "metadata": {},
   "source": [
    "#### 1) 層構成"
   ]
  },
  {
   "cell_type": "markdown",
   "metadata": {},
   "source": [
    "以下の層構成とする。"
   ]
  },
  {
   "cell_type": "markdown",
   "metadata": {},
   "source": [
    "| 材料 | 厚さ, m | 熱伝導率, W m<sup>-1</sup> K<sup>-1</sup> | 熱抵抗, m<sup>2</sup> k W<sup>-1</sup> | 容積比熱, J L<sup>-1</sup> K<sup>-1</sup> |\n",
    "|---|---|---|---|\n",
    "| 合板 | 0.012 | 0.16 | 0.075 | 720.0 |"
   ]
  },
  {
   "cell_type": "markdown",
   "metadata": {},
   "source": [
    "##### Function"
   ]
  },
  {
   "cell_type": "code",
   "execution_count": 25,
   "metadata": {},
   "outputs": [],
   "source": [
    "def get_inner_floor_layers():\n",
    "    return [{'name': 'PED', 'cond': 0.16, 'thick': 0.012, 'specH': 720.0}]"
   ]
  },
  {
   "cell_type": "markdown",
   "metadata": {},
   "source": [
    "#### 2) 室上の床面積の推定"
   ]
  },
  {
   "cell_type": "markdown",
   "metadata": {},
   "source": [
    "$$\n",
    "\\displaystyle\n",
    "A_{if,MR}= \\max \\left(0, A_{MR} -  \\left(A_{gf,MR} + \\sum_i A_{of,MR,i} + \\sum_i A_{ef,MR,i} \\right)\\right)\n",
    "$$\n",
    "\n",
    "$$\n",
    "\\displaystyle\n",
    "A_{if,OR}= \\max \\left(0, A_{OR} -  \\left(A_{gf,OR} + \\sum_i A_{of,OR,i} + \\sum_i A_{ef,OR,i} \\right)\\right)\n",
    "$$\n",
    "\n",
    "$$\n",
    "\\displaystyle\n",
    "A_{if,NR}= \\max \\left(0, A_{NR} -  \\left(A_{gf,NR} + \\sum_i A_{of,NR,i} + \\sum_i A_{ef,NR,i} \\right)\\right)\n",
    "$$"
   ]
  },
  {
   "cell_type": "markdown",
   "metadata": {},
   "source": [
    "$A_{if,MR}$: その他の居室または非居室との間の、主たる居室の床の面積, m<sup>2</sup>  \n",
    "$A_{if,OR}$: 主たる居室または非居室との間の、その他の居室の床の面積, m<sup>2</sup>  \n",
    "$A_{if,NR}$: 主たる居室またはその他の居室との間の、非居室の床の面積, m<sup>2</sup>  \n",
    "$A_{MR}$: 主たる居室の床面積, m<sup>2</sup>  \n",
    "$A_{OR}$: その他の居室の床面積, m<sup>2</sup>  \n",
    "$A_{NR}$: 非居室の床面積, m<sup>2</sup>   \n",
    "$A_{gf,MR}$: 主たる居室と床下空間の間の床の面積, m<sup>2</sup>  \n",
    "$A_{gf,OR}$: その他の居室と床下空間の間の床の面積, m<sup>2</sup>  \n",
    "$A_{gf,NR}$: 非居室と床下空間の間の床の面積, m<sup>2</sup>  \n",
    "$A_{of,MR,i}$: 方位が「下面」である主たる居室の外皮の部位(一般部位又は開口部)$i$の面積, m<sup>2</sup>  \n",
    "$A_{of,OR,i}$: 方位が「下面」であるその他の居室の外皮の部位(一般部位又は開口部)$i$の面積, m<sup>2</sup>  \n",
    "$A_{of,NR,i}$: 方位が「下面」である非居室の外皮の部位(一般部位又は開口部)$i$の面積, m<sup>2</sup>  \n",
    "$A_{ef,MR,i}$: 主たる居室の土間床$i$の面積, m<sup>2</sup>  \n",
    "$A_{ef,OR,i}$: その他の居室の土間床$i$の面積, m<sup>2</sup>  \n",
    "$A_{ef,NR,i}$: 非居室の土間床$i$の面積, m<sup>2</sup>   "
   ]
  },
  {
   "cell_type": "markdown",
   "metadata": {},
   "source": [
    "##### Function"
   ]
  },
  {
   "cell_type": "code",
   "execution_count": 26,
   "metadata": {},
   "outputs": [],
   "source": [
    "# 床下空間上の床と、方位が「下面」である外皮の部位と、土間床等の面積の合計\n",
    "def get_A_f(d, s, innerwalls):\n",
    "    # s : space name\n",
    "\n",
    "    # 床下空間上の床の面積の合計\n",
    "    def get_A_if_GroundFloor(innerwalls, s):\n",
    "        # s : space name\n",
    "\n",
    "        return sum( y['area'] for y in innerwalls if (y['type'] == 'GroundFloor' and y['space'] == s and y['nextspace'] == 'underfloor'))\n",
    "    \n",
    "    a_bottom_mr, a_bottom_or, a_bottom_nr = get_floor_area_to_outside(d)\n",
    "    a_bottom = {'main':a_bottom_mr, 'other':a_bottom_or, 'nonliving':a_bottom_nr}[s]\n",
    "\n",
    "    a_earth_floor_mr, a_earth_floor_or, a_earth_floor_nr = get_area_of_earth_floor(d)\n",
    "    a_earth_floor = {'main':a_earth_floor_mr, 'other':a_earth_floor_or, 'nonliving':a_earth_floor_nr}[s]\n",
    "    \n",
    "    a_if_groundfloor = get_A_if_GroundFloor(innerwalls, s)\n",
    "    \n",
    "    return a_if_groundfloor + a_bottom + a_earth_floor"
   ]
  },
  {
   "cell_type": "markdown",
   "metadata": {},
   "source": [
    "#### Function 1"
   ]
  },
  {
   "cell_type": "code",
   "execution_count": 27,
   "metadata": {},
   "outputs": [],
   "source": [
    "def get_area_floor_over_room_tuple(d, innerwalls):\n",
    "       \n",
    "    # 用途別床面積の取得\n",
    "    a_mr, a_or, a_nr = get_floor_area(d['Common']['MainOccupantRoomFloorArea'], d['Common']['OtherOccupantRoomFloorArea'], d['Common']['TotalFloorArea'])\n",
    "    \n",
    "    # 床下空間上の床面積と下面（Direction:Bottom）の壁・窓・ドア面積と土間床等の面積の合計値の取得\n",
    "    A_f_MR, A_f_OR, A_f_NR = get_A_f(d, 'main', innerwalls), get_A_f(d, 'other', innerwalls), get_A_f(d, 'nonliving', innerwalls)\n",
    "    \n",
    "    # 床下空間上の床面積と方位が「下面」の部位の面積と土間床等の面積の合計値と、床面積の差を、室上の床面積とみなす。\n",
    "    A_if_MR, A_if_OR, A_if_NR = max(0.0, a_mr - A_f_MR), max(0.0, a_or - A_f_OR), max(0.0, a_nr - A_f_NR)\n",
    "    \n",
    "    return A_if_MR, A_if_OR, A_if_NR"
   ]
  },
  {
   "cell_type": "markdown",
   "metadata": {},
   "source": [
    "#### Function 2"
   ]
  },
  {
   "cell_type": "code",
   "execution_count": 28,
   "metadata": {},
   "outputs": [],
   "source": [
    "def get_area_floor_over_room_dictionary(d, innerwalls):\n",
    "    \n",
    "    a_if_mr, a_if_or, a_if_nr = get_area_floor_over_room_tuple(d, innerwalls)\n",
    "    \n",
    "    return {\n",
    "        'main' : a_if_mr,\n",
    "        'other' : a_if_or,\n",
    "        'nonliving' : a_if_nr,\n",
    "    }"
   ]
  },
  {
   "cell_type": "markdown",
   "metadata": {},
   "source": [
    "#### Example"
   ]
  },
  {
   "cell_type": "code",
   "execution_count": 29,
   "metadata": {},
   "outputs": [
    {
     "name": "stdout",
     "output_type": "stream",
     "text": [
      "(0.0, 45.0, 30.0)\n",
      "{'main': 0.0, 'other': 45.0, 'nonliving': 30.0}\n"
     ]
    }
   ],
   "source": [
    "d = {\n",
    "    'Common': {\n",
    "        'Region': 6,\n",
    "        'IsSimplifiedInput': False,\n",
    "        'MainOccupantRoomFloorArea': 30.0,\n",
    "        'OtherOccupantRoomFloorArea': 60.0,\n",
    "        'TotalFloorArea': 120.0\n",
    "    },\n",
    "    'Walls': [\n",
    "        { 'name': 'Ceiling', 'type': 'Ceiling', 'structure': 'wood', 'InputMethod' :'InputUA', \n",
    "          'direction': 'top', 'area': 60, 'space': 'main', 'UA': 0.24, 'IsSunshadeInput': False },\n",
    "        { 'name': 'Ceiling', 'type': 'Ceiling', 'structure': 'wood', 'InputMethod' :'InputAllDetails', 'direction': 'top', \n",
    "          'area': 60, 'space': 'main',\n",
    "          'Parts': [{'AreaRatio': 0.8, 'Layers': [{'name': 'wood','thick': 0.012, 'cond': 0.16, 'specH': 720 },\n",
    "                                                  {'name': 'wood','thick': 0.012, 'cond': 0.16, 'specH': 720 }]},\n",
    "                    {'AreaRatio': 0.2, 'Layers': [{'name': 'wood','thick': 0.012, 'cond': 0.16, 'specH': 720 },\n",
    "                                                  {'name': 'wood','thick': 0.012, 'cond': 0.16, 'specH': 720 }]}],\n",
    "          'IsSunshadeInput': False },\n",
    "        { 'name': 'Floor', 'type': 'Floor', 'structure': 'wood', 'InputMethod' :'InputAllLayers', 'direction': 'bottom', \n",
    "          'area': 60, 'space': 'main',\n",
    "          'FloorConstructionMethod' :'FrameInsulcolumn',\n",
    "          'Parts': [{'TypeFloor': 'Insulation', 'Layers': [{'name': 'wood','thick': 0.012, 'cond': 0.16, 'specH': 720 },\n",
    "                                                           {'name': 'wood','thick': 0.012, 'cond': 0.16, 'specH': 720 }]},\n",
    "                    {'TypeFloor': 'Heatbridge', 'Layers': [{'name': 'wood','thick': 0.012, 'cond': 0.16, 'specH': 720 },\n",
    "                                                           {'name': 'wood','thick': 0.012, 'cond': 0.16, 'specH': 720 }]}],\n",
    "           'IsSunshadeInput': False }\n",
    "    ],\n",
    "    'Windows': [\n",
    "        { 'name': 'WindowTop', 'direction': 'top', 'area': 30, 'space': 'main', 'UW': 6.51, 'TypeWindow': 'Single', \n",
    "          'IsEtaValueInput': False, 'TypeFrame': 'WoodOrResin', 'TypeGlass': '3WgG', 'TypeShade': 'Shoji', 'IsSunshadeInput': False }\n",
    "    ],\n",
    "    'Earthfloors': [\n",
    "        { 'name': 'other', 'area': 5.0, 'space': 'underfloor' },\n",
    "        { 'name': 'entrance', 'area': 5.0, 'space': 'underfloor' }\n",
    "    ]\n",
    "}\n",
    "\n",
    "innerwalls = [\n",
    "        { 'area': 60, 'name': 'GroundFloor_Main', 'type' : 'GroundFloor', 'space': 'main', 'nextspace' : 'underfloor', 'direction' : 'Horizontal', 'Layers' : get_inner_floor_layers()},\n",
    "        { 'area': 15, 'name': 'GroundFloor_Other', 'type' : 'GroundFloor', 'space': 'other', 'nextspace' : 'underfloor', 'direction' : 'Horizontal', 'Layers' : get_inner_floor_layers()},\n",
    "]\n",
    "\n",
    "print(get_area_floor_over_room_tuple(d, innerwalls))\n",
    "print(get_area_floor_over_room_dictionary(d, innerwalls))"
   ]
  },
  {
   "cell_type": "markdown",
   "metadata": {},
   "source": [
    "### 3) 室下の天井面積の推定"
   ]
  },
  {
   "cell_type": "markdown",
   "metadata": {},
   "source": [
    "$$\n",
    "\\displaystyle\n",
    "A_{ic,MR}= \\max \\left(0, A_{MR} -  \\sum_i A_{oc,MR,i} \\right)\n",
    "$$\n",
    "\n",
    "$$\n",
    "\\displaystyle\n",
    "A_{ic,OR}= \\max \\left(0, A_{OR} -  \\sum_i A_{oc,OR,i} \\right)\n",
    "$$\n",
    "\n",
    "$$\n",
    "\\displaystyle\n",
    "A_{ic,NR}= \\max \\left(0, A_{NR} -  \\sum_i A_{oc,NR,i} \\right)\n",
    "$$"
   ]
  },
  {
   "cell_type": "markdown",
   "metadata": {},
   "source": [
    "$A_{ic,MR}$: その他の居室または非居室との間の、主たる居室の天井の面積, m<sup>2</sup>  \n",
    "$A_{ic,OR}$: 主たる居室または非居室との間の、その他の居室の天井の面積, m<sup>2</sup>  \n",
    "$A_{ic,NR}$: 主たる居室またはその他の居室との間の、非居室の天井の面積, m<sup>2</sup>  \n",
    "$A_{MR}$: 主たる居室の床面積, m<sup>2</sup>  \n",
    "$A_{OR}$: その他の居室の床面積, m<sup>2</sup>  \n",
    "$A_{NR}$: 非居室の床面積, m<sup>2</sup>   \n",
    "$A_{oc,MR,i}$: 方位が「上面」である主たる居室の外皮の部位(一般部位又は開口部)$i$の面積, m<sup>2</sup>  \n",
    "$A_{oc,OR,i}$: 方位が「上面」であるその他の居室の外皮の部位(一般部位又は開口部)$i$の面積, m<sup>2</sup>  \n",
    "$A_{oc,NR,i}$: 方位が「上面」である非居室の外皮の部位(一般部位又は開口部)$i$の面積, m<sup>2</sup>  "
   ]
  },
  {
   "cell_type": "markdown",
   "metadata": {},
   "source": [
    "#### Function"
   ]
  },
  {
   "cell_type": "code",
   "execution_count": 30,
   "metadata": {},
   "outputs": [],
   "source": [
    "# 方位が「上面」である外皮の部位の面積の合計\n",
    "def get_A_of_top(d, s):\n",
    "    # s : space name\n",
    "\n",
    "    d_top = []\n",
    "    for x in ['Walls','Windows','Doors'] :\n",
    "        if (x in d) == True :\n",
    "            d_top = d_top + d[x]           \n",
    "            \n",
    "    return sum( y['area'] for y in d_bottom if y['space'] == s and y['direction'] == 'top' )"
   ]
  },
  {
   "cell_type": "markdown",
   "metadata": {},
   "source": [
    "#### Function 1"
   ]
  },
  {
   "cell_type": "code",
   "execution_count": 31,
   "metadata": {},
   "outputs": [],
   "source": [
    "# 方位が「下面」である外皮の部位の面積の合計\n",
    "def get_A_of_top(d, s):\n",
    "    # s : space name\n",
    "\n",
    "    l = []\n",
    "    for x in ['Walls','Windows','Doors'] :\n",
    "        if (x in d) == True :\n",
    "            l = l + d[x]           \n",
    "            \n",
    "    return sum( y['area'] for y in l if y['space'] == s and y['direction'] == 'top' )"
   ]
  },
  {
   "cell_type": "code",
   "execution_count": 32,
   "metadata": {},
   "outputs": [],
   "source": [
    "def get_area_ceiling_below_room_tuple(d):\n",
    "    \n",
    "    # 用途別床面積の取得\n",
    "    A_MR, A_OR, A_NR = get_floor_area(d['Common']['MainOccupantRoomFloorArea'], d['Common']['OtherOccupantRoomFloorArea'], d['Common']['TotalFloorArea'])\n",
    "    \n",
    "    # 上面（Direction:Top）の壁・窓・ドア面積の合計値の取得\n",
    "    A_oc_MR, A_oc_OR, A_oc_NR = get_A_of_top(d, 'main'), get_A_of_top(d, 'other'), get_A_of_top(d, 'nonliving')\n",
    "    \n",
    "    # 方位が「上面」の部位の面積の合計値と、床面積の差\n",
    "    A_ic_MR, A_ic_OR, A_ic_NR = max(0.0, A_MR - A_oc_MR), max(0.0, A_OR - A_oc_OR), max(0.0, A_NR - A_oc_NR)\n",
    "   \n",
    "    return A_ic_MR, A_ic_OR, A_ic_NR"
   ]
  },
  {
   "cell_type": "markdown",
   "metadata": {},
   "source": [
    "#### Function 2"
   ]
  },
  {
   "cell_type": "code",
   "execution_count": 33,
   "metadata": {},
   "outputs": [],
   "source": [
    "def get_area_ceiling_below_room_dictionary(d):\n",
    "    \n",
    "    # 用途別床面積の取得\n",
    "    a_mr, a_or, a_nr = get_floor_area(d['Common']['MainOccupantRoomFloorArea'], d['Common']['OtherOccupantRoomFloorArea'], d['Common']['TotalFloorArea'])\n",
    "    A = {'main': a_mr, 'other': a_or, 'nonliving': a_nr}\n",
    "    \n",
    "    # 上面（Direction:Top）の壁・窓・ドア面積の合計値の取得\n",
    "    A_oc = {x : get_A_of_top(d, x) for x in ['main', 'other', 'nonliving']}\n",
    "    \n",
    "    # 方位が「上面」の部位の面積の合計値と、床面積の差\n",
    "    A_ic = {x : max(0.0, A[x] - A_oc[x])for x in ['main', 'other', 'nonliving']}\n",
    "   \n",
    "    return A_ic"
   ]
  },
  {
   "cell_type": "markdown",
   "metadata": {},
   "source": [
    "#### Example"
   ]
  },
  {
   "cell_type": "code",
   "execution_count": 34,
   "metadata": {},
   "outputs": [
    {
     "name": "stdout",
     "output_type": "stream",
     "text": [
      "(0.0, 60.0, 30.0)\n",
      "{'main': 0.0, 'other': 60.0, 'nonliving': 30.0}\n"
     ]
    }
   ],
   "source": [
    "d = {\n",
    "    'Common': {\n",
    "        'Region': 6,\n",
    "        'IsSimplifiedInput': False,\n",
    "        'MainOccupantRoomFloorArea': 30.0,\n",
    "        'OtherOccupantRoomFloorArea': 60.0,\n",
    "        'TotalFloorArea': 120.0\n",
    "    },\n",
    "    'Walls': [\n",
    "        { 'name': 'Ceiling', 'type': 'Ceiling', 'structure': 'wood', 'InputMethod' :'InputUA', \n",
    "          'direction': 'top', 'area': 60, 'space': 'main', 'UA': 0.24, 'IsSunshadeInput': False },\n",
    "        { 'name': 'Ceiling', 'type': 'Ceiling', 'structure': 'wood', 'InputMethod' :'InputAllDetails', 'direction': 'top', \n",
    "          'area': 60, 'space': 'main',\n",
    "          'Parts': [{'AreaRatio': 0.8, 'Layers': [{'name': 'wood','thick': 0.012, 'cond': 0.16, 'specH': 720 },\n",
    "                                                  {'name': 'wood','thick': 0.012, 'cond': 0.16, 'specH': 720 }]},\n",
    "                    {'AreaRatio': 0.2, 'Layers': [{'name': 'wood','thick': 0.012, 'cond': 0.16, 'specH': 720 },\n",
    "                                                  {'name': 'wood','thick': 0.012, 'cond': 0.16, 'specH': 720 }]}],\n",
    "          'IsSunshadeInput': False },\n",
    "        { 'name': 'Floor', 'type': 'Floor', 'structure': 'wood', 'InputMethod' :'InputAllLayers', 'direction': 'bottom', \n",
    "          'area': 60, 'space': 'main',\n",
    "          'FloorConstructionMethod' :'FrameInsulcolumn',\n",
    "          'Parts': [{'TypeFloor': 'Insulation', 'Layers': [{'name': 'wood','thick': 0.012, 'cond': 0.16, 'specH': 720 },\n",
    "                                                           {'name': 'wood','thick': 0.012, 'cond': 0.16, 'specH': 720 }]},\n",
    "                    {'TypeFloor': 'Heatbridge', 'Layers': [{'name': 'wood','thick': 0.012, 'cond': 0.16, 'specH': 720 },\n",
    "                                                           {'name': 'wood','thick': 0.012, 'cond': 0.16, 'specH': 720 }]}],\n",
    "           'IsSunshadeInput': False }\n",
    "    ],\n",
    "    'Windows': [\n",
    "        { 'name': 'WindowTop', 'direction': 'top', 'area': 30, 'space': 'main', 'UW': 6.51, 'TypeWindow': 'Single', \n",
    "          'IsEtaValueInput': False, 'TypeFrame': 'WoodOrResin', 'TypeGlass': '3WgG', 'TypeShade': 'Shoji', 'IsSunshadeInput': False }\n",
    "    ],\n",
    "    'Earthfloors': [\n",
    "        { 'name': 'other', 'area': 5.0, 'space': 'underfloor' },\n",
    "        { 'name': 'entrance', 'area': 5.0, 'space': 'underfloor' }\n",
    "    ]\n",
    "}\n",
    "\n",
    "print(get_area_ceiling_below_room_tuple(d))\n",
    "print(get_area_ceiling_below_room_dictionary(d))"
   ]
  },
  {
   "cell_type": "markdown",
   "metadata": {},
   "source": [
    "### 4) 室間の床と天井の面積の推定"
   ]
  },
  {
   "cell_type": "markdown",
   "metadata": {},
   "source": [
    "$$\n",
    "\\displaystyle\n",
    "A_{if,MR,OR} = \\left \\{\n",
    "\\begin{array}{ll}\n",
    "0 & ( A_{ic,OR} = 0 ) \\\\\n",
    "\\frac{A_{ic,OR}}{A_{ic,OR}+A_{ic,NR}} \\times A_{if,MR} & ( A_{ic,OR} > 0 ) \\\\\n",
    "\\end{array}\n",
    "\\right.\n",
    "$$\n",
    "$$\n",
    "\\displaystyle\n",
    "A_{if,MR,NR} = \\left \\{\n",
    "\\begin{array}{ll}\n",
    "0 & ( A_{ic,NR} = 0 ) \\\\\n",
    "\\frac{A_{ic,NR}}{A_{ic,OR}+A_{ic,NR}} \\times A_{if,MR} & ( A_{ic,NR} > 0 ) \\\\\n",
    "\\end{array}\n",
    "\\right.\n",
    "$$\n",
    "\n",
    "$$\n",
    "\\displaystyle\n",
    "A_{if,OR,MR} = \\left \\{\n",
    "\\begin{array}{ll}\n",
    "0 & ( A_{ic,MR} = 0 ) \\\\\n",
    "\\frac{A_{ic,MR}}{A_{ic,MR}+A_{ic,NR}} \\times A_{if,OR} & ( A_{ic,MR} > 0 ) \\\\\n",
    "\\end{array}\n",
    "\\right.\n",
    "$$\n",
    "$$\n",
    "\\displaystyle\n",
    "A_{if,OR,NR} = \\left \\{\n",
    "\\begin{array}{ll}\n",
    "0 & ( A_{ic,NR} = 0 ) \\\\\n",
    "\\frac{A_{ic,NR}}{A_{ic,MR}+A_{ic,NR}} \\times A_{if,OR} & ( A_{ic,NR} > 0 ) \\\\\n",
    "\\end{array}\n",
    "\\right.\n",
    "$$\n",
    "\n",
    "$$\n",
    "\\displaystyle\n",
    "A_{if,NR,MR} = \\left \\{\n",
    "\\begin{array}{ll}\n",
    "0 & ( A_{ic,MR} = 0 ) \\\\\n",
    "\\frac{A_{ic,MR}}{A_{ic,MR}+A_{ic,OR}} \\times A_{if,NR} & ( A_{ic,MR} > 0 ) \\\\\n",
    "\\end{array}\n",
    "\\right.\n",
    "$$\n",
    "$$\n",
    "\\displaystyle\n",
    "A_{if,NR,OR} = \\left \\{\n",
    "\\begin{array}{ll}\n",
    "0 & ( A_{ic,OR} = 0 ) \\\\\n",
    "\\frac{A_{ic,OR}}{A_{ic,MR}+A_{ic,OR}} \\times A_{if,NR} & ( A_{ic,OR} > 0 ) \\\\\n",
    "\\end{array}\n",
    "\\right.\n",
    "$$"
   ]
  },
  {
   "cell_type": "markdown",
   "metadata": {},
   "source": [
    "$A_{if,MR,OR}$: その他の居室との間の、主たる居室の床の面積, m<sup>2</sup>  \n",
    "$A_{if,MR,NR}$: 非居室との間の、主たる居室の床の面積, m<sup>2</sup>  \n",
    "$A_{if,OR,MR}$: 主たる居室との間の、その他の居室の床の面積, m<sup>2</sup>  \n",
    "$A_{if,OR,NR}$: 非居室との間の、その他の居室の床の面積, m<sup>2</sup>  \n",
    "$A_{if,NR,MR}$: 主たる居室との間の、非居室の床の面積, m<sup>2</sup>  \n",
    "$A_{if,NR,OR}$: その他の居室との間の、非居室の床の面積, m<sup>2</sup>  \n",
    "$A_{ic,MR}$: その他の居室または非居室との間の、主たる居室の天井の面積, m<sup>2</sup>  \n",
    "$A_{ic,OR}$: 主たる居室または非居室との間の、その他の居室の天井の面積, m<sup>2</sup>  \n",
    "$A_{ic,NR}$: 主たる居室またはその他の居室との間の、非居室の天井の面積, m<sup>2</sup>  \n",
    "$A_{if,MR}$: その他の居室または非居室との間の、主たる居室の床の面積, m<sup>2</sup>  \n",
    "$A_{if,OR}$: 主たる居室または非居室との間の、その他の居室の床の面積, m<sup>2</sup>  \n",
    "$A_{if,NR}$: 主たる居室またはその他の居室との、間の非居室の床の面積, m<sup>2</sup>  "
   ]
  },
  {
   "cell_type": "markdown",
   "metadata": {},
   "source": [
    "$$\n",
    "\\displaystyle\n",
    "A_{ic,MR,OR} = \\left \\{\n",
    "\\begin{array}{ll}\n",
    "0 & ( A_{if,OR} = 0 ) \\\\\n",
    "\\frac{A_{if,OR}}{A_{if,OR}+A_{if,NR}} \\times A_{ic,MR} & ( A_{if,OR} > 0 ) \\\\\n",
    "\\end{array}\n",
    "\\right.\n",
    "$$\n",
    "$$\n",
    "\\displaystyle\n",
    "A_{ic,MR,NR} = \\left \\{\n",
    "\\begin{array}{ll}\n",
    "0 & ( A_{if,NR} = 0 ) \\\\\n",
    "\\frac{A_{if,NR}}{A_{if,OR}+A_{if,NR}} \\times A_{ic,MR} & ( A_{if,NR} > 0 ) \\\\\n",
    "\\end{array}\n",
    "\\right.\n",
    "$$\n",
    "\n",
    "$$\n",
    "\\displaystyle\n",
    "A_{ic,OR,MR} = \\left \\{\n",
    "\\begin{array}{ll}\n",
    "0 & ( A_{if,MR} = 0 ) \\\\\n",
    "\\frac{A_{if,MR}}{A_{if,MR}+A_{if,NR}} \\times A_{ic,OR} & ( A_{if,MR} > 0 ) \\\\\n",
    "\\end{array}\n",
    "\\right.\n",
    "$$\n",
    "$$\n",
    "\\displaystyle\n",
    "A_{ic,OR,NR} = \\left \\{\n",
    "\\begin{array}{ll}\n",
    "0 & ( A_{if,NR} = 0 ) \\\\\n",
    "\\frac{A_{if,NR}}{A_{if,MR}+A_{if,NR}} \\times A_{ic,OR} & ( A_{if,NR} > 0 ) \\\\\n",
    "\\end{array}\n",
    "\\right.\n",
    "$$\n",
    "\n",
    "$$\n",
    "\\displaystyle\n",
    "A_{ic,NR,MR} = \\left \\{\n",
    "\\begin{array}{ll}\n",
    "0 & ( A_{if,MR} = 0 ) \\\\\n",
    "\\frac{A_{if,MR}}{A_{if,MR}+A_{if,OR}} \\times A_{ic,NR} & ( A_{if,MR} > 0 ) \\\\\n",
    "\\end{array}\n",
    "\\right.\n",
    "$$\n",
    "$$\n",
    "\\displaystyle\n",
    "A_{ic,NR,OR} = \\left \\{\n",
    "\\begin{array}{ll}\n",
    "0 & ( A_{if,OR} = 0 ) \\\\\n",
    "\\frac{A_{if,OR}}{A_{if,MR}+A_{if,OR}} \\times A_{ic,NR} & ( A_{if,OR} > 0 ) \\\\\n",
    "\\end{array}\n",
    "\\right.\n",
    "$$"
   ]
  },
  {
   "cell_type": "markdown",
   "metadata": {},
   "source": [
    "$A_{ic,MR,OR}$: その他の居室との間の、主たる居室の天井の面積, m<sup>2</sup>  \n",
    "$A_{ic,MR,NR}$: 非居室との間の、主たる居室の天井の面積, m<sup>2</sup>  \n",
    "$A_{ic,OR,MR}$: 主たる居室との間の、その他の居室の天井の面積, m<sup>2</sup>  \n",
    "$A_{ic,OR,NR}$: 非居室との間の、その他の居室の天井の面積, m<sup>2</sup>  \n",
    "$A_{ic,NR,MR}$: 主たる居室との間の、非居室の天井の面積, m<sup>2</sup>  \n",
    "$A_{ic,NR,OR}$: その他の居室との間の、非居室の天井の面積, m<sup>2</sup>  \n",
    "$A_{if,MR}$: その他の居室または非居室との間の、主たる居室の床の面積, m<sup>2</sup>  \n",
    "$A_{if,OR}$: 主たる居室または非居室との間の、その他の居室の床の面積, m<sup>2</sup>  \n",
    "$A_{if,NR}$: 主たる居室またはその他の居室との、間の非居室の床の面積, m<sup>2</sup>  \n",
    "$A_{ic,MR}$: その他の居室または非居室との間の、主たる居室の天井の面積, m<sup>2</sup>  \n",
    "$A_{ic,OR}$: 主たる居室または非居室との間の、その他の居室の天井の面積, m<sup>2</sup>  \n",
    "$A_{ic,NR}$: 主たる居室またはその他の居室との間の、非居室の天井の面積, m<sup>2</sup>  "
   ]
  },
  {
   "cell_type": "markdown",
   "metadata": {},
   "source": [
    "#### Function 1"
   ]
  },
  {
   "cell_type": "code",
   "execution_count": 35,
   "metadata": {},
   "outputs": [],
   "source": [
    "def get_area_slab_between_rooms_tuple(d, innerwalls):\n",
    "    \n",
    "    def get_A_if_dictionary(s_m, s_n, A_if_m, A_ic_n, A_ic_o) :\n",
    "        return ([\n",
    "            {\n",
    "                'name' : 'InnerFloor' + s_m + s_n,\n",
    "                'area' : A_if_m * A_ic_n / (A_ic_n + A_ic_o),\n",
    "                'space' : s_m,\n",
    "                'nextspace' : s_n\n",
    "            }\n",
    "        ])\n",
    "    \n",
    "    def get_A_ic_dictionary(s_m, s_n, A_ic_m, A_if_n, A_if_o) :\n",
    "        return ([\n",
    "            {\n",
    "                'name' : 'InnerCeiling' + s_m + s_n,\n",
    "                'area' : A_ic_m * A_if_n / (A_if_n + A_if_o),\n",
    "                'space' : s_m,\n",
    "                'nextspace' : s_n\n",
    "            }\n",
    "        ])\n",
    "    \n",
    "    # 室上の床面積の取得\n",
    "    A_if_MR, A_if_OR, A_if_NR = get_area_floor_over_room_tuple(d, innerwalls)\n",
    "    \n",
    "    # 室下の天井面積の取得\n",
    "    A_ic_MR, A_ic_OR, A_ic_NR = get_area_ceiling_below_room_tuple(d)\n",
    "\n",
    "    # 室上の床面積を、他の用途の室下の天井面積で案分する。\n",
    "    A_innerfloor=[]\n",
    "    if A_if_MR > 0 and A_ic_OR > 0 :\n",
    "        A_innerfloor.extend(get_A_if_dictionary('main', 'other', A_if_MR, A_ic_OR, A_ic_NR))\n",
    "    if A_if_MR > 0 and A_ic_NR > 0 :\n",
    "        A_innerfloor.extend(get_A_if_dictionary('main', 'nonliving', A_if_MR, A_ic_NR, A_ic_OR))\n",
    "    if A_if_OR > 0 and A_ic_MR > 0 :\n",
    "        A_innerfloor.extend(get_A_if_dictionary('other', 'main', A_if_OR, A_ic_MR, A_ic_NR))\n",
    "    if A_if_OR > 0 and A_ic_NR > 0 :\n",
    "        A_innerfloor.extend(get_A_if_dictionary('other', 'nonliving', A_if_OR, A_ic_NR, A_ic_MR))\n",
    "    if A_if_NR > 0 and A_ic_MR > 0 :\n",
    "        A_innerfloor.extend(get_A_if_dictionary('nonliving', 'main', A_if_NR, A_ic_MR, A_ic_OR))\n",
    "    if A_if_NR > 0 and A_ic_OR > 0 :\n",
    "        A_innerfloor.extend(get_A_if_dictionary('nonliving', 'other', A_if_NR, A_ic_OR, A_ic_MR))\n",
    "\n",
    "    # 室下の天井面積を、他の用途の室下上の床面積で案分する。\n",
    "    A_innerceiling=[]\n",
    "    if A_ic_MR > 0 and A_if_OR > 0 :\n",
    "        A_innerceiling.extend(get_A_ic_dictionary('main', 'other', A_ic_MR, A_if_OR, A_if_NR))\n",
    "    if A_ic_MR > 0 and A_if_NR > 0 :\n",
    "        A_innerceiling.extend(get_A_ic_dictionary('main', 'nonliving', A_ic_MR, A_if_NR, A_if_OR))\n",
    "    if A_ic_OR > 0 and A_if_MR > 0 :\n",
    "        A_innerceiling.extend(get_A_ic_dictionary('other', 'main', A_ic_OR, A_if_MR, A_if_NR))\n",
    "    if A_ic_OR > 0 and A_if_NR > 0 :\n",
    "        A_innerceiling.extend(get_A_ic_dictionary('other', 'nonliving', A_ic_OR, A_if_NR, A_if_MR))\n",
    "    if A_ic_NR > 0 and A_if_MR > 0 :\n",
    "        A_innerceiling.extend(get_A_ic_dictionary('nonliving', 'main', A_ic_NR, A_if_MR, A_if_OR))\n",
    "    if A_ic_NR > 0 and A_if_OR > 0 :\n",
    "        A_innerceiling.extend(get_A_ic_dictionary('nonliving', 'other', A_ic_NR, A_if_OR, A_if_MR))\n",
    "  \n",
    "    return {'InnerFloors' : A_innerfloor, 'InnerCeilings' : A_innerceiling}"
   ]
  },
  {
   "cell_type": "markdown",
   "metadata": {},
   "source": [
    "#### Function 2"
   ]
  },
  {
   "cell_type": "code",
   "execution_count": 36,
   "metadata": {},
   "outputs": [],
   "source": [
    "def get_area_slab_between_rooms_dictionary(d, innerwalls):\n",
    "    \n",
    "    space = ['main', 'other', 'nonliving']  \n",
    "    \n",
    "    # 室上の床面積の取得\n",
    "    A_if =  get_area_floor_over_room_dictionary(d, innerwalls)\n",
    "    \n",
    "    # 室下の天井面積の取得\n",
    "    A_ic =  get_area_ceiling_below_room_dictionary(d)\n",
    "\n",
    "    # 室上の床面積を、他の用途の室下の天井面積で案分する。\n",
    "    A_innerfloor = []\n",
    "    for x in [['main', 'other', 'nonliving'], ['main', 'nonliving', 'other'], ['other', 'main', 'nonliving'], \\\n",
    "              ['other', 'nonliving', 'main'], ['nonliving', 'main', 'other'], ['nonliving', 'other', 'main']] :\n",
    "        \n",
    "        # 自室、隣接室、他の室の設定\n",
    "        s_m, s_n, s_o = x[0], x[1], x[2]\n",
    "\n",
    "        if A_if[s_m] > 0 and A_ic[s_n] > 0 :\n",
    "            A_innerfloor.extend([\n",
    "                {\n",
    "                    'name' : 'InnerFloor' + s_m + s_n,\n",
    "                    'area' : A_if[s_m] * A_ic[s_n] / (A_ic[s_n] + A_ic[s_o]),\n",
    "                    'space' : s_m,\n",
    "                    'nextspace' : s_n\n",
    "                }\n",
    "            ])\n",
    "\n",
    "    # 室下の天井面積を、他の用途の室下上の床面積で案分する。\n",
    "    A_innerceiling = []\n",
    "    for x in [['main', 'other', 'nonliving'], ['main', 'nonliving', 'other'], ['other', 'main', 'nonliving'], \\\n",
    "              ['other', 'nonliving', 'main'], ['nonliving', 'main', 'other'], ['nonliving', 'other', 'main']] :\n",
    "                \n",
    "        # 自室、隣接室、他の室の設定\n",
    "        s_m, s_n, s_o = x[0], x[1], x[2]\n",
    "        \n",
    "        if A_ic[s_m] > 0 and A_if[s_n] > 0 :\n",
    "            A_innerceiling.extend([\n",
    "                {\n",
    "                    'name' : 'InnerCeiling' + s_m + s_n,\n",
    "                    'area' : A_ic[s_m] * A_if[s_n] / (A_if[s_n] + A_if[s_o]),\n",
    "                    'space' : s_m,\n",
    "                    'nextspace' : s_n\n",
    "                }\n",
    "            ])\n",
    "  \n",
    "    return {'InnerFloors' : A_innerfloor, 'InnerCeilings' : A_innerceiling}"
   ]
  },
  {
   "cell_type": "markdown",
   "metadata": {},
   "source": [
    "#### Example"
   ]
  },
  {
   "cell_type": "code",
   "execution_count": 37,
   "metadata": {},
   "outputs": [
    {
     "name": "stdout",
     "output_type": "stream",
     "text": [
      "{'InnerFloors': [{'name': 'InnerFloorothernonliving', 'area': 45.0, 'space': 'other', 'nextspace': 'nonliving'}, {'name': 'InnerFloornonlivingother', 'area': 30.0, 'space': 'nonliving', 'nextspace': 'other'}], 'InnerCeilings': [{'name': 'InnerCeilingothernonliving', 'area': 60.0, 'space': 'other', 'nextspace': 'nonliving'}, {'name': 'InnerCeilingnonlivingother', 'area': 30.0, 'space': 'nonliving', 'nextspace': 'other'}]}\n",
      "{'InnerFloors': [{'name': 'InnerFloorothernonliving', 'area': 45.0, 'space': 'other', 'nextspace': 'nonliving'}, {'name': 'InnerFloornonlivingother', 'area': 30.0, 'space': 'nonliving', 'nextspace': 'other'}], 'InnerCeilings': [{'name': 'InnerCeilingothernonliving', 'area': 60.0, 'space': 'other', 'nextspace': 'nonliving'}, {'name': 'InnerCeilingnonlivingother', 'area': 30.0, 'space': 'nonliving', 'nextspace': 'other'}]}\n"
     ]
    }
   ],
   "source": [
    "d = {\n",
    "    'Common': {\n",
    "        'Region': 6,\n",
    "        'IsSimplifiedInput': False,\n",
    "        'MainOccupantRoomFloorArea': 30.0,\n",
    "        'OtherOccupantRoomFloorArea': 60.0,\n",
    "        'TotalFloorArea': 120.0\n",
    "    },\n",
    "    'Walls': [\n",
    "        { 'name': 'Ceiling', 'type': 'Ceiling', 'structure': 'wood', 'InputMethod' :'InputUA', \n",
    "          'direction': 'top', 'area': 60, 'space': 'main', 'UA': 0.24, 'IsSunshadeInput': False },\n",
    "        { 'name': 'Ceiling', 'type': 'Ceiling', 'structure': 'wood', 'InputMethod' :'InputAllDetails', 'direction': 'top', \n",
    "          'area': 60, 'space': 'main',\n",
    "          'Parts': [{'AreaRatio': 0.8, 'Layers': [{'name': 'wood','thick': 0.012, 'cond': 0.16, 'specH': 720 },\n",
    "                                                  {'name': 'wood','thick': 0.012, 'cond': 0.16, 'specH': 720 }]},\n",
    "                    {'AreaRatio': 0.2, 'Layers': [{'name': 'wood','thick': 0.012, 'cond': 0.16, 'specH': 720 },\n",
    "                                                  {'name': 'wood','thick': 0.012, 'cond': 0.16, 'specH': 720 }]}],\n",
    "          'IsSunshadeInput': False },\n",
    "        { 'name': 'Floor', 'type': 'Floor', 'structure': 'wood', 'InputMethod' :'InputAllLayers', 'direction': 'bottom', \n",
    "          'area': 60, 'space': 'main',\n",
    "          'FloorConstructionMethod' :'FrameInsulcolumn',\n",
    "          'Parts': [{'TypeFloor': 'Insulation', 'Layers': [{'name': 'wood','thick': 0.012, 'cond': 0.16, 'specH': 720 },\n",
    "                                                           {'name': 'wood','thick': 0.012, 'cond': 0.16, 'specH': 720 }]},\n",
    "                    {'TypeFloor': 'Heatbridge', 'Layers': [{'name': 'wood','thick': 0.012, 'cond': 0.16, 'specH': 720 },\n",
    "                                                           {'name': 'wood','thick': 0.012, 'cond': 0.16, 'specH': 720 }]}],\n",
    "           'IsSunshadeInput': False }\n",
    "    ],\n",
    "    'Windows': [\n",
    "        { 'name': 'WindowTop', 'direction': 'top', 'area': 30, 'space': 'main', 'UW': 6.51, 'TypeWindow': 'Single', \n",
    "          'IsEtaValueInput': False, 'TypeFrame': 'WoodOrResin', 'TypeGlass': '3WgG', 'TypeShade': 'Shoji', 'IsSunshadeInput': False }\n",
    "    ],\n",
    "    'Earthfloors': [\n",
    "        { 'name': 'other', 'area': 5.0, 'space': 'underfloor' },\n",
    "        { 'name': 'entrance', 'area': 5.0, 'space': 'underfloor' }\n",
    "    ]\n",
    "}\n",
    "\n",
    "innerwalls = [\n",
    "        { 'area': 60, 'name': 'GroundFloor_Main', 'type' : 'GroundFloor', 'space': 'main', 'nextspace' : 'underfloor', 'direction' : 'Horizontal', 'Layers' : get_inner_floor_layers()},\n",
    "        { 'area': 15, 'name': 'GroundFloor_Other', 'type' : 'GroundFloor', 'space': 'other', 'nextspace' : 'underfloor', 'direction' : 'Horizontal', 'Layers' : get_inner_floor_layers()},\n",
    "]\n",
    "\n",
    "print(get_area_slab_between_rooms_tuple(d, innerwalls))\n",
    "print(get_area_slab_between_rooms_dictionary(d, innerwalls))"
   ]
  },
  {
   "cell_type": "markdown",
   "metadata": {},
   "source": [
    "### 5) 室間の床・天井の構築"
   ]
  },
  {
   "cell_type": "markdown",
   "metadata": {},
   "source": [
    "#### Function"
   ]
  },
  {
   "cell_type": "code",
   "execution_count": 38,
   "metadata": {},
   "outputs": [],
   "source": [
    "def get_innerwall_innerslab(d, innerwalls):\n",
    "    \n",
    "    # 室間の床・天井面積の推定\n",
    "    areas_innerslab = get_area_slab_between_rooms_dictionary(d, innerwalls)\n",
    "    \n",
    "    # 壁体名称、部位面積を更新し、「壁体が属する空間種類」「隣接空間種類」を追加する\n",
    "    ifs = []\n",
    "    \n",
    "    ifs.extend([ {\n",
    "        'name' : 'InnerFloor_' + x['space'],\n",
    "        'type' : 'InnerFloor',\n",
    "        'direction' : 'Horizontal',\n",
    "        'area' : x['area'],\n",
    "        'Layers' : get_inner_floor_layers(),\n",
    "        'space' : x['space'], \n",
    "        'nextspace' : x['nextspace'],\n",
    "    } for x in areas_innerslab['InnerFloors'] ])\n",
    "    \n",
    "    ifs.extend([ {\n",
    "        'name' : 'InnerCeiling_' + x['space'],\n",
    "        'type' : 'InnerCeiling',\n",
    "        'direction' : 'Horizontal',\n",
    "        'area' : x['area'],\n",
    "        'Layers' : get_inner_floor_layers(),\n",
    "        'space' : x['space'], \n",
    "        'nextspace' : x['nextspace'],\n",
    "    } for x in areas_innerslab['InnerCeilings'] ])\n",
    "        \n",
    "    return ifs"
   ]
  },
  {
   "cell_type": "markdown",
   "metadata": {},
   "source": [
    "## 8.5. InnerWalls Element - Inner Wall "
   ]
  },
  {
   "cell_type": "markdown",
   "metadata": {},
   "source": [
    "### 1) 層構成"
   ]
  },
  {
   "cell_type": "markdown",
   "metadata": {},
   "source": [
    "以下の層構成とする。"
   ]
  },
  {
   "cell_type": "markdown",
   "metadata": {},
   "source": [
    "| 材料 | 厚さ, m | 熱伝導率, W m<sup>-1</sup> K<sup>-1</sup> | 熱抵抗, m<sup>2</sup>2 k W<sup>-1</sup> | 容積比熱, J L<sup>-1</sup> K<sup>-1</sup> |\n",
    "|---|---|---|---|\n",
    "| せっこうボード | 0.0125 | 0.22 | 0.0568 | 830.0 |\n",
    "| 非密閉空気層 | - | - | 0.090 | 0.0 |\n",
    "| せっこうボード | 0.0125 | 0.22 | 0.0568 | 830.0 |"
   ]
  },
  {
   "cell_type": "markdown",
   "metadata": {},
   "source": [
    "#### Function"
   ]
  },
  {
   "cell_type": "code",
   "execution_count": 39,
   "metadata": {},
   "outputs": [],
   "source": [
    "def get_inner_wall_layers():\n",
    "    return [\n",
    "        {'name': 'GPB', 'cond': 0.22,   'thick': 0.0125, 'specH': 830.0},\n",
    "        {'name': 'GPB', 'cond': 1/0.09, 'thick': 1,      'specH': 0},\n",
    "        {'name': 'GPB', 'cond': 0.22,   'thick': 0.0125, 'specH': 830.0}\n",
    "    ]"
   ]
  },
  {
   "cell_type": "markdown",
   "metadata": {},
   "source": [
    "### 3) 内壁等面積の推定"
   ]
  },
  {
   "cell_type": "markdown",
   "metadata": {},
   "source": [
    "#### Outline"
   ]
  },
  {
   "cell_type": "markdown",
   "metadata": {},
   "source": [
    "用途間の内壁等の面積は、各用途の内壁等の面積より決定する。"
   ]
  },
  {
   "cell_type": "markdown",
   "metadata": {},
   "source": [
    "$$\n",
    "A_{iw,MR-OR} =\\frac{ A_{iw,MR} + A_{iw,OR} - A_{iw,NR} }{2}\n",
    "$$"
   ]
  },
  {
   "cell_type": "markdown",
   "metadata": {},
   "source": [
    "$$\n",
    "A_{iw,MR-NR} = \\frac{ A_{iw,MR} + A_{iw,NR} - A_{iw,OR} }{2}\n",
    "$$"
   ]
  },
  {
   "cell_type": "markdown",
   "metadata": {},
   "source": [
    "$$\n",
    "A_{iw,NR-OR} = \\frac{ A_{iw,NR} + A_{iw,OR} - A_{iw,MR} }{2}\n",
    "$$"
   ]
  },
  {
   "cell_type": "markdown",
   "metadata": {},
   "source": [
    "$ \\because $"
   ]
  },
  {
   "cell_type": "markdown",
   "metadata": {},
   "source": [
    "$$\n",
    "A_{iw,MR} =A_{iw,MR-OR}+A_{iw,MR-NR}\n",
    "$$\n",
    "\n",
    "$$\n",
    "A_{iw,OR} =A_{iw,MR-OR}+A_{iw,OR-NR}\n",
    "$$\n",
    "\n",
    "$$\n",
    "A_{iw,NR} =A_{iw,MR-OR}+A_{iw,OR-NR}\n",
    "$$"
   ]
  },
  {
   "cell_type": "markdown",
   "metadata": {},
   "source": [
    "$A_{iw,MR-OR}$: 主たる居室とその他の居室の間の内壁等の面積, m<sup>2</sup>  \n",
    "$A_{iw,MR-NR}$: 主たる居室と非居室の間の内壁等の面積, m<sup>2</sup>  \n",
    "$A_{iw,OR-NR}$: その他の居室と非居室の間の内壁等の面積, m<sup>2</sup>  \n",
    "$A_{iw,MR}$: 主たる居室の内壁等の面積, m<sup>2</sup>  \n",
    "$A_{iw,OR}$: その他の居室の内壁等の面積, m<sup>2</sup>  \n",
    "$A_{iw,NR}$: 非居室の内壁等の面積, m<sup>2</sup>  "
   ]
  },
  {
   "cell_type": "markdown",
   "metadata": {},
   "source": [
    "各用途の内壁等の面積は、各用途の内壁等の面積の暫定値より、用途間の内壁等の面積が0㎡以上となる範囲で決定する。"
   ]
  },
  {
   "cell_type": "markdown",
   "metadata": {},
   "source": [
    "$A_{iw,MR,temp}>A_{iw,OR,temp}+A_{iw,NR,temp}$ の場合"
   ]
  },
  {
   "cell_type": "markdown",
   "metadata": {},
   "source": [
    "　　$A_{OR}=0$ かつ $A_{NR}=0$ の場合"
   ]
  },
  {
   "cell_type": "markdown",
   "metadata": {},
   "source": [
    "$$A_{iw,MR} = 0, A_{iw,OR} = 0, A_{iw,NR} = 0$$"
   ]
  },
  {
   "cell_type": "markdown",
   "metadata": {},
   "source": [
    "　　$A_{OR}>0$ または $A_{NR}>0$ で、 $A_{iw,OR,temp}=0$ かつ $A_{iw,NR,temp}=0$ の場合"
   ]
  },
  {
   "cell_type": "markdown",
   "metadata": {},
   "source": [
    "$$\n",
    "A_{iw,MR} = A_{iw,MR,temp}\n",
    "$$\n",
    "$$\n",
    "A_{iw,OR} = A_{iw,MR,temp}\\times \\frac{A_{OR}}{A_{OR}+A_{NR}}\n",
    "$$\n",
    "$$\n",
    "A_{iw,NR} = A_{iw,MR,temp}\\times \\frac{A_{NR}}{A_{OR}+A_{NR}}\n",
    "$$"
   ]
  },
  {
   "cell_type": "markdown",
   "metadata": {},
   "source": [
    "　　$A_{OR}>0$ または $A_{NR}>0$ で、 $A_{iw,OR,temp}>0$ または $A_{iw,NR,temp}>0$ の場合"
   ]
  },
  {
   "cell_type": "markdown",
   "metadata": {},
   "source": [
    "$$\n",
    "A_{iw,MR} = A_{iw,MR,temp}\n",
    "$$\n",
    "$$\n",
    "A_{iw,OR} = A_{iw,MR,temp}\\times \\frac{A_{iw,OR,temp}}{A_{iw,OR,temp}+A_{iw,NR,temp}}\n",
    "$$\n",
    "$$\n",
    "A_{iw,NR} = A_{iw,MR,temp}\\times \\frac{A_{iw,NR,temp}}{A_{iw,OR,temp}+A_{iw,NR,temp}}\n",
    "$$"
   ]
  },
  {
   "cell_type": "markdown",
   "metadata": {},
   "source": [
    "$A_{iw,OR,temp}>A_{iw,MR,temp}+A_{iw,NR,temp}$ の場合"
   ]
  },
  {
   "cell_type": "markdown",
   "metadata": {},
   "source": [
    "　　$A_{MR}=0$ かつ $A_{NR}=0$ の場合"
   ]
  },
  {
   "cell_type": "markdown",
   "metadata": {},
   "source": [
    "$$A_{iw,MR} = 0, A_{iw,OR} = 0, A_{iw,NR} = 0$$"
   ]
  },
  {
   "cell_type": "markdown",
   "metadata": {},
   "source": [
    "　　$A_{OR}>0$ または $A_{NR}>0$ で、 $A_{iw,OR,temp}=0$ かつ $A_{iw,NR,temp}=0$ の場合"
   ]
  },
  {
   "cell_type": "markdown",
   "metadata": {},
   "source": [
    "$$\n",
    "A_{iw,OR} = A_{iw,OR,temp}\n",
    "$$\n",
    "$$\n",
    "A_{iw,MR} = A_{iw,OR,temp}\\times \\frac{A_{MR}}{A_{MR}+A_{NR}}\n",
    "$$\n",
    "$$\n",
    "A_{iw,NR} = A_{iw,OR,temp}\\times \\frac{A_{NR}}{A_{MR}+A_{NR}}\n",
    "$$"
   ]
  },
  {
   "cell_type": "markdown",
   "metadata": {},
   "source": [
    "　　$A_{OR}>0$ または $A_{NR}>0$ で、 $A_{iw,OR,temp}>0$ または $A_{iw,NR,temp}>0$ の場合"
   ]
  },
  {
   "cell_type": "markdown",
   "metadata": {},
   "source": [
    "$$\n",
    "A_{iw,OR} = A_{iw,OR,temp}\n",
    "$$\n",
    "$$\n",
    "A_{iw,MR} = A_{iw,OR,temp}\\times \\frac{A_{iw,MR,temp}}{A_{iw,MR,temp}+A_{iw,NR,temp}}\n",
    "$$\n",
    "$$\n",
    "A_{iw,NR} = A_{iw,OR,temp}\\times \\frac{A_{iw,NR,temp}}{A_{iw,MR,temp}+A_{iw,NR,temp}}\n",
    "$$"
   ]
  },
  {
   "cell_type": "markdown",
   "metadata": {},
   "source": [
    "$A_{iw,NR,temp}>A_{iw,MR,temp}+A_{iw,OR,temp}$ の場合"
   ]
  },
  {
   "cell_type": "markdown",
   "metadata": {},
   "source": [
    "　　$A_{MR}=0$ かつ $A_{OR}=0$ の場合"
   ]
  },
  {
   "cell_type": "markdown",
   "metadata": {},
   "source": [
    "$$A_{iw,MR} = 0, A_{iw,OR} = 0, A_{iw,NR} = 0$$"
   ]
  },
  {
   "cell_type": "markdown",
   "metadata": {},
   "source": [
    "　　$A_{OR}>0$ または $A_{NR}>0$ で、 $A_{iw,OR,temp}=0$ かつ $A_{iw,NR,temp}=0$ の場合"
   ]
  },
  {
   "cell_type": "markdown",
   "metadata": {},
   "source": [
    "$$\n",
    "A_{iw,NR} = A_{iw,NR,temp}\n",
    "$$\n",
    "$$\n",
    "A_{iw,MR} = A_{iw,NR,temp}\\times \\frac{A_{MR}}{A_{MR}+A_{OR}}\n",
    "$$\n",
    "$$\n",
    "A_{iw,OR} = A_{iw,NR,temp}\\times \\frac{A_{OR}}{A_{MR}+A_{OR}}\n",
    "$$"
   ]
  },
  {
   "cell_type": "markdown",
   "metadata": {},
   "source": [
    "　　$A_{OR}>0$ または $A_{NR}>0$ で、 $A_{iw,OR,temp}>0$ または $A_{iw,NR,temp}>0$ の場合"
   ]
  },
  {
   "cell_type": "markdown",
   "metadata": {},
   "source": [
    "$$\n",
    "A_{iw,NR} = A_{iw,NR,temp}\n",
    "$$\n",
    "$$\n",
    "A_{iw,MR} = A_{iw,NR,temp}\\times \\frac{A_{iw,MR,temp}}{A_{iw,MR,temp}+A_{iw,OR,temp}}\n",
    "$$\n",
    "$$\n",
    "A_{iw,OR} = A_{iw,NR,temp}\\times \\frac{A_{iw,OR,temp}}{A_{iw,MR,temp}+A_{iw,OR,temp}}\n",
    "$$"
   ]
  },
  {
   "cell_type": "markdown",
   "metadata": {},
   "source": [
    "上記以外の場合"
   ]
  },
  {
   "cell_type": "markdown",
   "metadata": {},
   "source": [
    "$$A_{iw,MR} = A_{iw,MR,temp}, A_{iw,OR} = A_{iw,OR,temp}, A_{iw,NR} = A_{iw,NR,temp}$$"
   ]
  },
  {
   "cell_type": "markdown",
   "metadata": {},
   "source": [
    "$A_{MR}$: 主たる居室の床面積, m<sup>2</sup>  \n",
    "$A_{OR}$: その他の居室の床面積, m<sup>2</sup>  \n",
    "$A_{NR}$: 非居室の床面積, m<sup>2</sup>   \n",
    "$A_{iw,MR,temp}$: 主たる居室の内壁等の面積の暫定値, m<sup>2</sup>  \n",
    "$A_{iw,OR,temp}$: その他の居室の内壁等の面積の暫定値, m<sup>2</sup>  \n",
    "$A_{iw,NR,temp}$: 非居室の内壁等の面積の暫定値, m<sup>2</sup>  "
   ]
  },
  {
   "cell_type": "markdown",
   "metadata": {},
   "source": [
    "各用途の内壁等の面積の暫定値は、室の周長を求める際の係数（アスペクト比）と階高を仮定して、外皮の用途別情報および用途別床面積より推定する。"
   ]
  },
  {
   "cell_type": "markdown",
   "metadata": {},
   "source": [
    "$$\n",
    "A_{iw,MR,temp} = \\left \\{\n",
    "\\begin{array}{ll}\n",
    "0 & ( A_{MR} = 0 ) \\\\\n",
    "A_{w,MR} - A_{ow,MR} = \\max \\left ( 0,4 \\cdot ar_{MR} \\cdot h \\sqrt {A_{MR}} - A_{ow,MR} \\right ) & ( A_{MR} > 0 )\n",
    "\\end{array}\n",
    "\\right.\n",
    "$$"
   ]
  },
  {
   "cell_type": "markdown",
   "metadata": {},
   "source": [
    "$$\n",
    "A_{iw,OR,temp} = \\left \\{\n",
    "\\begin{array}{ll}\n",
    "0 & ( A_{OR} = 0 ) \\\\\n",
    "A_{w,OR} - A_{ow,OR} = \\max \\left ( 0, 4 \\cdot ar_{NR} \\cdot h \\sqrt {A_{OR}} - A_{ow,OR} \\right ) & ( A_{OR} > 0 )\n",
    "\\end{array}\n",
    "\\right.\n",
    "$$"
   ]
  },
  {
   "cell_type": "markdown",
   "metadata": {},
   "source": [
    "$$\n",
    "A_{iw,NR,temp} = \\left \\{\n",
    "\\begin{array}{ll}\n",
    "0 & ( A_{NR} = 0 ) \\\\\n",
    "A_{w,NR} - A_{ow,NR} = \\max \\left ( 0, 4 \\cdot ar_{OR} \\cdot h \\sqrt {A_{NR}} - A_{ow,NR} \\right ) & ( A_{NR} > 0 )\n",
    "\\end{array}\n",
    "\\right.\n",
    "$$"
   ]
  },
  {
   "cell_type": "markdown",
   "metadata": {},
   "source": [
    "$A_{w,MR}$: 主たる居室の鉛直面の外皮と内壁の面積の合計, m<sup>2</sup>  \n",
    "$A_{w,OR}$: その他の居室の鉛直面の外皮と内壁の面積の合計, m<sup>2</sup>  \n",
    "$A_{w,NR}$: 非居室の鉛直面の外皮と内壁の面積の合計, m<sup>2</sup>  \n",
    "$A_{ow,MR}$: 主たる居室の鉛直面の外皮の面積の合計, m<sup>2</sup>  \n",
    "$A_{ow,OR}$: その他の居室の鉛直面の外皮の面積の合計, m<sup>2</sup>  \n",
    "$A_{ow,NR}$: 非居室の鉛直面の外皮の面積の合計, m<sup>2</sup>  \n",
    "$ar_{MR}$: 主たる居室の周長を求める際の係数, -  \n",
    "$ar_{OR}$: その他の居室の周長を求める際の係数, -  \n",
    "$ar_{NR}$: 非居室の周長を求める際の係数, -  \n",
    "$h$: 階高, m"
   ]
  },
  {
   "cell_type": "markdown",
   "metadata": {},
   "source": [
    "#### Function"
   ]
  },
  {
   "cell_type": "code",
   "execution_count": 40,
   "metadata": {},
   "outputs": [],
   "source": [
    "#  室用途別の内壁等の面積\n",
    "def get_A_ow_for_space(d_ow, s):\n",
    "    # s : space name       \n",
    "    return sum(y['area'] for y in d_ow if (y['space'] == s and y['direction'] != 'top' and y['direction'] != 'bottom'))"
   ]
  },
  {
   "cell_type": "code",
   "execution_count": 41,
   "metadata": {},
   "outputs": [],
   "source": [
    "# 内壁等の面積の暫定値の取得\n",
    "def get_A_iw_temp(A_f, ar, A_ow):\n",
    "\n",
    "    h = 2.8 # 階高, m\n",
    "\n",
    "    return max(0.0, 4 * h * ar * A_f**0.5 - A_ow) if A_f > 0.0 else 0.0"
   ]
  },
  {
   "cell_type": "markdown",
   "metadata": {},
   "source": [
    "#### Function 1"
   ]
  },
  {
   "cell_type": "code",
   "execution_count": 42,
   "metadata": {},
   "outputs": [],
   "source": [
    "# 居室の外皮と床下空間との間の床の面積の合計を取得\n",
    "def get_A_ow_tuple(d):\n",
    "\n",
    "    # 室用途別の内壁等の面積\n",
    "    d_ow=[]\n",
    "    for y in ['Walls', 'Windows', 'Doors']:\n",
    "        if (y in d) == True :\n",
    "            d_ow.extend(d[y])\n",
    "\n",
    "    A_ow_MR, A_ow_OR,A_ow_NR = get_A_ow_for_space(d_ow,'Main'), get_A_ow_for_space(d_ow,'Other'), get_A_ow_for_space(d_ow,'Nonliving')\n",
    "\n",
    "    return A_ow_MR, A_ow_OR, A_ow_NR"
   ]
  },
  {
   "cell_type": "code",
   "execution_count": 43,
   "metadata": {},
   "outputs": [],
   "source": [
    "# 内壁等の面積の取得\n",
    "def get_A_iw_tuple(A_MR, A_OR, A_NR,A_iw_space_MR_temp, A_iw_space_OR_temp, A_iw_space_NR_temp):\n",
    "\n",
    "    if A_iw_space_MR_temp > A_iw_space_OR_temp + A_iw_space_NR_temp :\n",
    "        if A_OR == 0 and A_NR == 0 :\n",
    "            A_iw_space_MR, A_iw_space_OR, A_iw_space_NR = 0, 0, 0\n",
    "        elif A_iw_space_OR_temp == 0 and A_iw_space_NR_temp == 0 :\n",
    "            A_iw_space_MR = A_iw_space_MR_temp\n",
    "            A_iw_space_OR = A_iw_space_MR_temp * A_OR/(A_OR + A_NR)\n",
    "            A_iw_space_NR = A_iw_space_MR_temp * A_NR/(A_OR + A_NR)\n",
    "        else :\n",
    "            A_iw_space_MR = A_iw_space_MR_temp\n",
    "            A_iw_space_OR = A_iw_space_MR_temp * A_iw_space_OR_temp/(A_iw_space_OR_temp + A_iw_space_NR_temp)\n",
    "            A_iw_space_NR = A_iw_space_MR_temp * A_iw_space_NR_temp/(A_iw_space_OR_temp + A_iw_space_NR_temp)\n",
    "            \n",
    "    elif A_iw_space_OR_temp > A_iw_space_MR_temp + A_iw_space_NR_temp :\n",
    "        if A_MR == 0 and A_NR == 0 :\n",
    "            A_iw_space_MR, A_iw_space_OR, A_iw_space_NR = 0, 0, 0\n",
    "        elif A_iw_space_MR_temp == 0 and A_iw_space_NR_temp == 0 :\n",
    "            A_iw_space_OR = A_iw_space_OR_temp\n",
    "            A_iw_space_MR = A_iw_space_OR_temp * A_MR/(A_MR + A_NR)\n",
    "            A_iw_space_NR = A_iw_space_OR_temp * A_NR/(A_MR + A_NR)\n",
    "        else :\n",
    "            A_iw_space_OR = A_iw_space_OR_temp\n",
    "            A_iw_space_MR = A_iw_space_OR_temp * A_iw_space_MR_temp/(A_iw_space_MR_temp + A_iw_space_NR_temp)\n",
    "            A_iw_space_NR = A_iw_space_OR_temp * A_iw_space_NR_temp/(A_iw_space_MR_temp + A_iw_space_NR_temp)\n",
    "            \n",
    "    elif A_iw_space_NR_temp > A_iw_space_MR_temp + A_iw_space_OR_temp :\n",
    "        if A_MR == 0 and A_OR == 0 :\n",
    "            A_iw_space_MR, A_iw_space_OR, A_iw_space_NR = 0, 0, 0\n",
    "        elif A_iw_space_MR_temp == 0 and A_iw_space_OR_temp == 0 :\n",
    "            A_iw_space_NR = A_iw_space_NR_temp\n",
    "            A_iw_space_MR = A_iw_space_NR_temp * A_MR/(A_MR + A_OR)\n",
    "            A_iw_space_OR = A_iw_space_NR_temp * A_OR/(A_MR + A_OR)\n",
    "        else :\n",
    "            A_iw_space_NR = A_iw_space_NR_temp\n",
    "            A_iw_space_MR = A_iw_space_NR_temp * A_iw_space_MR_temp/(A_iw_space_MR_temp + A_iw_space_OR_temp)\n",
    "            A_iw_space_OR = A_iw_space_NR_temp * A_iw_space_OR_temp/(A_iw_space_MR_temp + A_iw_space_OR_temp)\n",
    "            \n",
    "    else :\n",
    "        A_iw_space_MR, A_iw_space_OR, A_iw_space_NR = A_iw_space_MR_temp, A_iw_space_OR_temp, A_iw_space_NR_temp\n",
    "\n",
    "    return A_iw_space_MR, A_iw_space_OR, A_iw_space_NR"
   ]
  },
  {
   "cell_type": "code",
   "execution_count": 44,
   "metadata": {},
   "outputs": [],
   "source": [
    "# 室用途間の内壁等の面積の推定\n",
    "# 室用途床面積が0㎡の場合に、室間の内壁等の面積を0㎡とする\n",
    "def get_A_iw_cor_tuple(A_iw_min, A_iw_s1, A_iw_s2, A_iw_os):\n",
    "    return max(A_iw_min, (A_iw_s1 + A_iw_s2 - A_iw_os)/2)"
   ]
  },
  {
   "cell_type": "code",
   "execution_count": 45,
   "metadata": {},
   "outputs": [],
   "source": [
    "def get_area_inner_wall_tuple(d):\n",
    "    \n",
    "    # 周長を求める際の係数, -\n",
    "    ar_MR, ar_OR, ar_NR = 1.2, 1.4, 1.4\n",
    "\n",
    "    # 用途別床面積の取得\n",
    "    A_MR, A_OR, A_NR = get_floor_area(d['Common']['MainOccupantRoomFloorArea'], d['Common']['OtherOccupantRoomFloorArea'], d['Common']['TotalFloorArea'])\n",
    " \n",
    "    # 居室の外皮と床下空間との間の床の面積の合計を取得\n",
    "    A_ow_MR, A_ow_OR, A_ow_NR = get_A_ow_tuple(d)\n",
    "\n",
    "    # 内壁等の面積の暫定値の取得\n",
    "    A_iw_space_MR_temp = get_A_iw_temp(A_MR, ar_MR, A_ow_MR)\n",
    "    A_iw_space_OR_temp = get_A_iw_temp(A_OR, ar_OR, A_ow_OR)\n",
    "    A_iw_space_NR_temp = get_A_iw_temp(A_NR, ar_NR, A_ow_NR)\n",
    "\n",
    "    # 内壁等の面積の取得\n",
    "    A_iw_space_MR, A_iw_space_OR, A_iw_space_NR = get_A_iw_tuple(A_MR, A_OR, A_NR, A_iw_space_MR_temp, A_iw_space_OR_temp, A_iw_space_NR_temp)\n",
    "    \n",
    "    # 室間の内壁等の面積の最小値, m2\n",
    "    A_iw_min_MR_to_OR, A_iw_min_MR_to_NR, A_iw_min_OR_to_NR = 0.0, 0.0, 0.0\n",
    "    \n",
    "    # 室用途間の内壁等の面積の推定\n",
    "    return get_A_iw_cor_tuple(A_iw_min_MR_to_OR, A_iw_space_MR, A_iw_space_OR, A_iw_space_NR), \\\n",
    "           get_A_iw_cor_tuple(A_iw_min_MR_to_NR, A_iw_space_MR, A_iw_space_NR, A_iw_space_OR), \\\n",
    "           get_A_iw_cor_tuple(A_iw_min_OR_to_NR, A_iw_space_OR, A_iw_space_NR, A_iw_space_MR)"
   ]
  },
  {
   "cell_type": "markdown",
   "metadata": {},
   "source": [
    "#### Function 2"
   ]
  },
  {
   "cell_type": "code",
   "execution_count": 46,
   "metadata": {},
   "outputs": [],
   "source": [
    "# 居室の外皮と床下空間との間の床の面積の合計を取得\n",
    "def get_A_ow_dictionary(d):\n",
    "\n",
    "    # 室用途別の内壁等の面積\n",
    "    d_ow=[]\n",
    "    for y in ['Walls', 'Windows', 'Doors']:\n",
    "        if (y in d) == True :\n",
    "            d_ow.extend(d[y])\n",
    "\n",
    "    return { x: get_A_ow_for_space(d_ow, x) for x in ['main', 'other', 'nonliving']}"
   ]
  },
  {
   "cell_type": "code",
   "execution_count": 47,
   "metadata": {},
   "outputs": [],
   "source": [
    "# 内壁等の面積の取得\n",
    "def get_A_iw_dictionary(A, A_iw_space_temp):\n",
    "\n",
    "    A_sum = sum(A[x] for x in A_iw_space_temp.keys())\n",
    "    A_iw_space_temp_sum = sum(A_iw_space_temp[x] for x in A_iw_space_temp.keys())\n",
    "    \n",
    "    A_iw_space = {x:A_iw_space_temp[x] for x in A_iw_space_temp.keys()}\n",
    "    \n",
    "    for x in ['main', 'other', 'nonliving'] :   \n",
    "        \n",
    "        # 用途間の内壁等の面積が0㎡以上となるよう、各用途の内壁等の面積を調整\n",
    "        if 2*A_iw_space_temp[x] > A_iw_space_temp_sum :\n",
    "            \n",
    "            # 他の2用途の床面積が0㎡の場合は、全用途の内壁等の面積を0㎡とする\n",
    "            if A[x] == A_sum :\n",
    "                A_iw_space = {y:0 for y in ['main', 'other', 'nonliving']}\n",
    "                \n",
    "            # 他の2用途の内壁等の面積の暫定値が0㎡の場合は、他の2用途の内壁等の面積を、用途別床面積に応じて決定\n",
    "            elif A_iw_space_temp[x] == A_iw_space_temp_sum :\n",
    "                for y in ['main', 'other', 'nonliving'] :\n",
    "                    if x == y :\n",
    "                        A_iw_space[y] = A_iw_space_temp[y]\n",
    "                    else :\n",
    "                        A_iw_space[y] = A_iw_space_temp[x] * A[y]/(A_sum - A[x])\n",
    "                        \n",
    "            # 他の2用途の内壁等の面積を、内壁等の面積の暫定値に応じて決定            \n",
    "            else :\n",
    "                for y in ['main', 'other', 'nonliving'] :\n",
    "                    if x == y :\n",
    "                        A_iw_space[y] = A_iw_space_temp[y]\n",
    "                    else :\n",
    "                        A_iw_space[y] = A_iw_space_temp[x] * A_iw_space_temp[y]/(A_iw_space_temp_sum - A_iw_space_temp[x])\n",
    "                \n",
    "    return A_iw_space"
   ]
  },
  {
   "cell_type": "code",
   "execution_count": 48,
   "metadata": {},
   "outputs": [],
   "source": [
    "# 室用途間の内壁等の面積の推定\n",
    "# 室用途床面積が0㎡の場合に、室間の内壁等の面積を0㎡とする\n",
    "def get_A_iw_cor_dictionary(A_iw_min, A_iw_s1, A_iw_s2, A_iw_sum):\n",
    "    return max(A_iw_min, (2*(A_iw_s1 + A_iw_s2) - A_iw_sum)/2)"
   ]
  },
  {
   "cell_type": "code",
   "execution_count": 49,
   "metadata": {},
   "outputs": [],
   "source": [
    "def get_area_inner_wall_dictionary(d, c):\n",
    "    # c : correspondence of spaces\n",
    "\n",
    "    # 周長を求める際の係数, -\n",
    "    ar = {'main': 1.2, 'other': 1.4, 'nonliving': 1.4}\n",
    "\n",
    "    # 用途別床面積の取得\n",
    "    a_mr, a_or, a_nr = get_floor_area(d['Common']['MainOccupantRoomFloorArea'], d['Common']['OtherOccupantRoomFloorArea'], d['Common']['TotalFloorArea'])\n",
    "    A = {'main': a_mr, 'other': a_or, 'nonliving': a_nr}\n",
    " \n",
    "    # 居室の外皮と床下空間との間の床の面積の合計を取得\n",
    "    A_ow = get_A_ow_dictionary(d)\n",
    "\n",
    "    # 内壁等の面積の取得\n",
    "    A_iw_space_temp = { x: get_A_iw_temp(A[x], ar[x], A_ow[x]) for x in ['main', 'other', 'nonliving']}\n",
    "    A_iw_space = get_A_iw_dictionary(A, A_iw_space_temp)\n",
    "    A_iw_space_sum = sum(A_iw_space[x] for x in A_iw_space.keys())\n",
    "\n",
    "    # 室間の内壁等の面積の最小値, m2\n",
    "    A_iw_min = {'main to other': 0.0, 'main to nonliving': 0.0, 'other to nonliving': 0.0}\n",
    "    \n",
    "    # 室用途間の内壁等の面積の推定\n",
    "    return { x: get_A_iw_cor_dictionary(A_iw_min[x], A_iw_space[c[x][0]], A_iw_space[c[x][1]], A_iw_space_sum) for x in c.keys()}"
   ]
  },
  {
   "cell_type": "markdown",
   "metadata": {},
   "source": [
    "#### Example"
   ]
  },
  {
   "cell_type": "code",
   "execution_count": 50,
   "metadata": {},
   "outputs": [
    {
     "name": "stdout",
     "output_type": "stream",
     "text": [
      "(54.59388622447443, 19.020025504219888, 66.86287151259015)\n",
      "{'main to other': 54.59388622447443, 'main to nonliving': 19.020025504219888, 'other to nonliving': 66.86287151259015}\n"
     ]
    }
   ],
   "source": [
    "correspondence = {\n",
    "    'main to other': ['main', 'other'],\n",
    "    'main to nonliving': ['main', 'nonliving'],\n",
    "    'other to nonliving': ['other', 'nonliving'] \n",
    "}  \n",
    "\n",
    "d = {\n",
    "    'Common': {\n",
    "        'Region': 6,\n",
    "        'IsSimplifiedInput': False,\n",
    "        'MainOccupantRoomFloorArea': 30.0,\n",
    "        'OtherOccupantRoomFloorArea': 60.0,\n",
    "        'TotalFloorArea': 120.0\n",
    "    },\n",
    "    'Walls': [\n",
    "        { 'name': 'Ceiling', 'type': 'Ceiling', 'structure': 'wood', 'InputMethod' :'InputUA', \n",
    "          'direction': 'top', 'area': 60, 'space': 'main', 'UA': 0.24, 'IsSunshadeInput': False },\n",
    "        { 'name': 'Ceiling', 'type': 'Ceiling', 'structure': 'wood', 'InputMethod' :'InputAllDetails', 'direction': 'top', \n",
    "          'IsInContactWithOutsideAir': True, 'area': 60, 'space': 'main',\n",
    "          'Parts': [{'AreaRatio': 0.8, 'Layers': [{'name': 'wood','thick': 0.012, 'cond': 0.16, 'specH': 720 },\n",
    "                                                  {'name': 'wood','thick': 0.012, 'cond': 0.16, 'specH': 720 }]},\n",
    "                    {'AreaRatio': 0.2, 'Layers': [{'name': 'wood','thick': 0.012, 'cond': 0.16, 'specH': 720 },\n",
    "                                                  {'name': 'wood','thick': 0.012, 'cond': 0.16, 'specH': 720 }]}],\n",
    "          'IsSunshadeInput': False },\n",
    "        { 'name': 'Floor', 'type': 'Floor', 'structure': 'wood', 'InputMethod' :'InputAllLayers', 'direction': 'bottom', \n",
    "          'IsInContactWithOutsideAir': True, 'area': 60, 'space': 'main',\n",
    "          'FloorConstructionMethod' :'FrameInsulcolumn',\n",
    "          'Parts': [{'TypeFloor': 'Insulation', 'Layers': [{'name': 'wood','thick': 0.012, 'cond': 0.16, 'specH': 720 },\n",
    "                                                           {'name': 'wood','thick': 0.012, 'cond': 0.16, 'specH': 720 }]},\n",
    "                    {'TypeFloor': 'Heatbridge', 'Layers': [{'name': 'wood','thick': 0.012, 'cond': 0.16, 'specH': 720 },\n",
    "                                                           {'name': 'wood','thick': 0.012, 'cond': 0.16, 'specH': 720 }]}],\n",
    "           'IsSunshadeInput': False }\n",
    "    ],\n",
    "    'Windows': [\n",
    "        { 'name': 'WindowTop', 'direction': 'top', 'area': 30, 'space': 'main', 'UW': 6.51, 'TypeWindow': 'Single', \n",
    "          'IsEtaValueInput': False, 'TypeFrame': 'WoodOrResin', 'TypeGlass': '3WgG', 'TypeShade': 'Shoji', 'IsSunshadeInput': False }\n",
    "    ],\n",
    "    'Earthfloors': [\n",
    "        { 'name': 'other', 'area': 5.0, 'space': 'underfloor' },\n",
    "        { 'name': 'entrance', 'area': 5.0, 'space': 'underfloor' }\n",
    "    ]\n",
    "}\n",
    "\n",
    "innerwalls = [\n",
    "        { 'area': 60, 'name': 'GroundFloor_Main', 'type' : 'GroundFloor', 'spaces': ['main','underfloor'], 'direction' : 'Horizontal', 'Layers' : get_inner_floor_layers()},\n",
    "        { 'area': 15, 'name': 'GroundFloor_Other', 'type' : 'GroundFloor', 'spaces': ['other','underfloor'], 'direction' : 'Horizontal', 'Layers' : get_inner_floor_layers()},\n",
    "]\n",
    "\n",
    "print(get_area_inner_wall_tuple(d))\n",
    "print(get_area_inner_wall_dictionary(d, correspondence))"
   ]
  },
  {
   "cell_type": "markdown",
   "metadata": {},
   "source": [
    "### 3) 内壁の構築"
   ]
  },
  {
   "cell_type": "markdown",
   "metadata": {},
   "source": [
    "#### Function 1"
   ]
  },
  {
   "cell_type": "code",
   "execution_count": 51,
   "metadata": {},
   "outputs": [],
   "source": [
    "def get_innerwall_wall_tuple(d):\n",
    "\n",
    "    # 内壁面積の推定\n",
    "    A_iw_MR_OR, A_iw_MR_NR, A_iw_OR_NR = get_area_inner_wall_tuple(d)\n",
    "    \n",
    "    # 壁体名称、部位面積を更新し、「壁体が属する空間種類」「隣接空間種類」を追加する\n",
    "    iws = []\n",
    "\n",
    "    if A_iw_MR_OR > 0 :\n",
    "        iws.extend([{\n",
    "            'name' : 'Innerwall_main to other',\n",
    "            'type' : 'InnerWall',\n",
    "            'direction' : 'Vertical',\n",
    "            'Layers' : get_inner_wall_layers(),\n",
    "            'area' : A_iw_MR_OR,\n",
    "            'space' : 'main', \n",
    "            'nextspace:': 'other'\n",
    "        },{\n",
    "            'name' : 'Innerwall_main to other',\n",
    "            'type' : 'InnerWall',\n",
    "            'direction' : 'Vertical',\n",
    "            'Layers' : get_inner_wall_layers(),\n",
    "            'area' : A_iw_MR_OR,\n",
    "            'space' : 'other', \n",
    "            'nextspace:': 'main'\n",
    "        }])\n",
    "\n",
    "    if A_iw_MR_NR > 0 :\n",
    "        iws.extend([{\n",
    "            'name' : 'Innerwall_main to nonliving',\n",
    "            'type' : 'InnerWall',\n",
    "            'direction' : 'Vertical',\n",
    "            'Layers' : get_inner_wall_layers(),\n",
    "            'area' : A_iw_MR_NR,\n",
    "            'space' : 'main', \n",
    "            'nextspace:': 'nonliving'\n",
    "        },{\n",
    "            'name' : 'Innerwall_main to nonliving',\n",
    "            'type' : 'InnerWall',\n",
    "            'direction' : 'Vertical',\n",
    "            'Layers' : get_inner_wall_layers(),\n",
    "            'area' : A_iw_MR_NR,\n",
    "            'space' : 'nonliving', \n",
    "            'nextspace:': 'main'\n",
    "        }])\n",
    "\n",
    "    if A_iw_OR_NR > 0 :\n",
    "        iws.extend([{\n",
    "            'name' : 'Innerwall_other to nonliving',\n",
    "            'type' : 'InnerWall',\n",
    "            'direction' : 'Vertical',\n",
    "            'Layers' : get_inner_wall_layers(),\n",
    "            'area' : A_iw_OR_NR,\n",
    "            'space' : 'other', \n",
    "            'nextspace:': 'nonliving'\n",
    "        },{\n",
    "            'name' : 'Innerwall_other to nonliving',\n",
    "            'type' : 'InnerWall',\n",
    "            'direction' : 'Vertical',\n",
    "            'Layers' : get_inner_wall_layers(),\n",
    "            'area' : A_iw_OR_NR,\n",
    "            'space' : 'nonliving', \n",
    "            'nextspace:': 'other'\n",
    "        }])\n",
    "\n",
    "    return iws"
   ]
  },
  {
   "cell_type": "markdown",
   "metadata": {},
   "source": [
    "#### Function 2"
   ]
  },
  {
   "cell_type": "code",
   "execution_count": 52,
   "metadata": {},
   "outputs": [],
   "source": [
    "def get_innerwall_wall_dictionary(d):\n",
    "\n",
    "    # 用途と複数用途間の対応関係の定義\n",
    "    correspondence = {\n",
    "        'main to other': ['main', 'other'],\n",
    "        'main to nonliving': ['main', 'nonliving'],\n",
    "        'other to nonliving': ['other', 'nonliving'] \n",
    "    }  \n",
    "\n",
    "    # 内壁面積の推定\n",
    "    areas_innerwall = get_area_inner_wall_dictionary(d, correspondence)\n",
    "    \n",
    "    # 壁体名称、部位面積を更新し、「壁体が属する空間種類」「隣接空間種類」を追加する\n",
    "    iws = []\n",
    "\n",
    "    for c in correspondence.keys() :\n",
    "        if areas_innerwall[c] > 0 :\n",
    "            iws.extend([ {\n",
    "                'name' : 'Innerwall_' + c,\n",
    "                'type' : 'InnerWall',\n",
    "                'direction' : 'Vertical',\n",
    "                'Layers' : get_inner_wall_layers(),\n",
    "                'area' : areas_innerwall[c],\n",
    "                'space' : correspondence[c][0],\n",
    "                'nextspace' : correspondence[c][1]\n",
    "            },{\n",
    "                'name' : 'Innerwall_' + c,\n",
    "                'type' : 'InnerWall',\n",
    "                'direction' : 'Vertical',\n",
    "                'Layers' : get_inner_wall_layers(),\n",
    "                'area' : areas_innerwall[c],\n",
    "                'space' : correspondence[c][1],\n",
    "                'nextspace' : correspondence[c][0]\n",
    "            }])\n",
    "\n",
    "    return iws"
   ]
  },
  {
   "cell_type": "markdown",
   "metadata": {},
   "source": [
    "## 8.3. InnerWalls Element - 統合"
   ]
  },
  {
   "cell_type": "markdown",
   "metadata": {},
   "source": [
    "#### Function"
   ]
  },
  {
   "cell_type": "code",
   "execution_count": 53,
   "metadata": {},
   "outputs": [],
   "source": [
    "def convert_innerwall( d ):\n",
    "\n",
    "    innerwalls =[]\n",
    "    \n",
    "    # 室と床下空間の間の床の推定\n",
    "    innerwalls.extend(get_innerwall_groundfloor(d))\n",
    "    \n",
    "    # 室間の床・天井の推定\n",
    "    innerwalls.extend(get_innerwall_innerslab(d, innerwalls))\n",
    "    \n",
    "    # 内壁等の推定              \n",
    "    innerwalls.extend(get_innerwall_wall_dictionary(d))\n",
    "            \n",
    "    return innerwalls"
   ]
  },
  {
   "cell_type": "markdown",
   "metadata": {},
   "source": [
    "#### Example"
   ]
  },
  {
   "cell_type": "code",
   "execution_count": 54,
   "metadata": {},
   "outputs": [
    {
     "data": {
      "text/plain": [
       "[{'name': 'GroundFloor_Other',\n",
       "  'type': 'GroundFloor',\n",
       "  'direction': 'Horizontal',\n",
       "  'area': 6.666666666666667,\n",
       "  'Layers': [{'name': 'PED', 'cond': 0.16, 'thick': 0.012, 'specH': 720.0}],\n",
       "  'space': 'other',\n",
       "  'nextspace': 'underfloor'},\n",
       " {'name': 'GroundFloor_Other',\n",
       "  'type': 'GroundFloor',\n",
       "  'direction': 'Horizontal',\n",
       "  'area': 6.666666666666667,\n",
       "  'Layers': [{'name': 'PED', 'cond': 0.16, 'thick': 0.012, 'specH': 720.0}],\n",
       "  'space': 'underfloor',\n",
       "  'nextspace': 'other'},\n",
       " {'name': 'GroundFloor_Nonliving',\n",
       "  'type': 'GroundFloor',\n",
       "  'direction': 'Horizontal',\n",
       "  'area': 3.3333333333333335,\n",
       "  'Layers': [{'name': 'PED', 'cond': 0.16, 'thick': 0.012, 'specH': 720.0}],\n",
       "  'space': 'nonliving',\n",
       "  'nextspace': 'underfloor'},\n",
       " {'name': 'GroundFloor_Nonliving',\n",
       "  'type': 'GroundFloor',\n",
       "  'direction': 'Horizontal',\n",
       "  'area': 3.3333333333333335,\n",
       "  'Layers': [{'name': 'PED', 'cond': 0.16, 'thick': 0.012, 'specH': 720.0}],\n",
       "  'space': 'underfloor',\n",
       "  'nextspace': 'nonliving'},\n",
       " {'name': 'InnerFloor_other',\n",
       "  'type': 'InnerFloor',\n",
       "  'direction': 'Horizontal',\n",
       "  'area': 53.333333333333336,\n",
       "  'Layers': [{'name': 'PED', 'cond': 0.16, 'thick': 0.012, 'specH': 720.0}],\n",
       "  'space': 'other',\n",
       "  'nextspace': 'nonliving'},\n",
       " {'name': 'InnerFloor_nonliving',\n",
       "  'type': 'InnerFloor',\n",
       "  'direction': 'Horizontal',\n",
       "  'area': 26.666666666666668,\n",
       "  'Layers': [{'name': 'PED', 'cond': 0.16, 'thick': 0.012, 'specH': 720.0}],\n",
       "  'space': 'nonliving',\n",
       "  'nextspace': 'other'},\n",
       " {'name': 'InnerCeiling_other',\n",
       "  'type': 'InnerCeiling',\n",
       "  'direction': 'Horizontal',\n",
       "  'area': 60.0,\n",
       "  'Layers': [{'name': 'PED', 'cond': 0.16, 'thick': 0.012, 'specH': 720.0}],\n",
       "  'space': 'other',\n",
       "  'nextspace': 'nonliving'},\n",
       " {'name': 'InnerCeiling_nonliving',\n",
       "  'type': 'InnerCeiling',\n",
       "  'direction': 'Horizontal',\n",
       "  'area': 30.0,\n",
       "  'Layers': [{'name': 'PED', 'cond': 0.16, 'thick': 0.012, 'specH': 720.0}],\n",
       "  'space': 'nonliving',\n",
       "  'nextspace': 'other'},\n",
       " {'name': 'Innerwall_main to other',\n",
       "  'type': 'InnerWall',\n",
       "  'direction': 'Vertical',\n",
       "  'Layers': [{'name': 'GPB', 'cond': 0.22, 'thick': 0.0125, 'specH': 830.0},\n",
       "   {'name': 'GPB', 'cond': 11.11111111111111, 'thick': 1, 'specH': 0},\n",
       "   {'name': 'GPB', 'cond': 0.22, 'thick': 0.0125, 'specH': 830.0}],\n",
       "  'area': 54.59388622447443,\n",
       "  'space': 'main',\n",
       "  'nextspace': 'other'},\n",
       " {'name': 'Innerwall_main to other',\n",
       "  'type': 'InnerWall',\n",
       "  'direction': 'Vertical',\n",
       "  'Layers': [{'name': 'GPB', 'cond': 0.22, 'thick': 0.0125, 'specH': 830.0},\n",
       "   {'name': 'GPB', 'cond': 11.11111111111111, 'thick': 1, 'specH': 0},\n",
       "   {'name': 'GPB', 'cond': 0.22, 'thick': 0.0125, 'specH': 830.0}],\n",
       "  'area': 54.59388622447443,\n",
       "  'space': 'other',\n",
       "  'nextspace': 'main'},\n",
       " {'name': 'Innerwall_main to nonliving',\n",
       "  'type': 'InnerWall',\n",
       "  'direction': 'Vertical',\n",
       "  'Layers': [{'name': 'GPB', 'cond': 0.22, 'thick': 0.0125, 'specH': 830.0},\n",
       "   {'name': 'GPB', 'cond': 11.11111111111111, 'thick': 1, 'specH': 0},\n",
       "   {'name': 'GPB', 'cond': 0.22, 'thick': 0.0125, 'specH': 830.0}],\n",
       "  'area': 19.020025504219888,\n",
       "  'space': 'main',\n",
       "  'nextspace': 'nonliving'},\n",
       " {'name': 'Innerwall_main to nonliving',\n",
       "  'type': 'InnerWall',\n",
       "  'direction': 'Vertical',\n",
       "  'Layers': [{'name': 'GPB', 'cond': 0.22, 'thick': 0.0125, 'specH': 830.0},\n",
       "   {'name': 'GPB', 'cond': 11.11111111111111, 'thick': 1, 'specH': 0},\n",
       "   {'name': 'GPB', 'cond': 0.22, 'thick': 0.0125, 'specH': 830.0}],\n",
       "  'area': 19.020025504219888,\n",
       "  'space': 'nonliving',\n",
       "  'nextspace': 'main'},\n",
       " {'name': 'Innerwall_other to nonliving',\n",
       "  'type': 'InnerWall',\n",
       "  'direction': 'Vertical',\n",
       "  'Layers': [{'name': 'GPB', 'cond': 0.22, 'thick': 0.0125, 'specH': 830.0},\n",
       "   {'name': 'GPB', 'cond': 11.11111111111111, 'thick': 1, 'specH': 0},\n",
       "   {'name': 'GPB', 'cond': 0.22, 'thick': 0.0125, 'specH': 830.0}],\n",
       "  'area': 66.86287151259015,\n",
       "  'space': 'other',\n",
       "  'nextspace': 'nonliving'},\n",
       " {'name': 'Innerwall_other to nonliving',\n",
       "  'type': 'InnerWall',\n",
       "  'direction': 'Vertical',\n",
       "  'Layers': [{'name': 'GPB', 'cond': 0.22, 'thick': 0.0125, 'specH': 830.0},\n",
       "   {'name': 'GPB', 'cond': 11.11111111111111, 'thick': 1, 'specH': 0},\n",
       "   {'name': 'GPB', 'cond': 0.22, 'thick': 0.0125, 'specH': 830.0}],\n",
       "  'area': 66.86287151259015,\n",
       "  'space': 'nonliving',\n",
       "  'nextspace': 'other'}]"
      ]
     },
     "execution_count": 54,
     "metadata": {},
     "output_type": "execute_result"
    }
   ],
   "source": [
    "d = {\n",
    "    'Common': {\n",
    "        'Region': 6,\n",
    "        'IsSimplifiedInput': False,\n",
    "        'MainOccupantRoomFloorArea': 30.0,\n",
    "        'OtherOccupantRoomFloorArea': 60.0,\n",
    "        'TotalFloorArea': 120.0\n",
    "    },\n",
    "    'Walls': [\n",
    "        { 'name': 'Ceiling', 'type': 'Ceiling', 'structure': 'wood', 'InputMethod' :'InputUA', \n",
    "          'direction': 'top', 'area': 60, 'space': 'main', 'UA': 0.24, 'IsSunshadeInput': False },\n",
    "        { 'name': 'Ceiling', 'type': 'Ceiling', 'structure': 'wood', 'InputMethod' :'InputAllDetails', 'direction': 'top', \n",
    "          'IsInContactWithOutsideAir': True, 'area': 60, 'space': 'main',\n",
    "          'Parts': [{'AreaRatio': 0.8, 'Layers': [{'name': 'wood','thick': 0.012, 'cond': 0.16, 'specH': 720 },\n",
    "                                                  {'name': 'wood','thick': 0.012, 'cond': 0.16, 'specH': 720 }]},\n",
    "                    {'AreaRatio': 0.2, 'Layers': [{'name': 'wood','thick': 0.012, 'cond': 0.16, 'specH': 720 },\n",
    "                                                  {'name': 'wood','thick': 0.012, 'cond': 0.16, 'specH': 720 }]}],\n",
    "          'IsSunshadeInput': False },\n",
    "        { 'name': 'Floor', 'type': 'Floor', 'structure': 'wood', 'InputMethod' :'InputAllLayers', 'direction': 'bottom', \n",
    "          'IsInContactWithOutsideAir': True, 'area': 60, 'space': 'main',\n",
    "          'FloorConstructionMethod' :'FrameInsulcolumn',\n",
    "          'Parts': [{'TypeFloor': 'Insulation', 'Layers': [{'name': 'wood','thick': 0.012, 'cond': 0.16, 'specH': 720 },\n",
    "                                                           {'name': 'wood','thick': 0.012, 'cond': 0.16, 'specH': 720 }]},\n",
    "                    {'TypeFloor': 'Heatbridge', 'Layers': [{'name': 'wood','thick': 0.012, 'cond': 0.16, 'specH': 720 },\n",
    "                                                           {'name': 'wood','thick': 0.012, 'cond': 0.16, 'specH': 720 }]}],\n",
    "           'IsSunshadeInput': False }\n",
    "    ],\n",
    "    'Windows': [\n",
    "        { 'name': 'WindowTop', 'direction': 'top', 'area': 30, 'space': 'main', 'UW': 6.51, 'TypeWindow': 'Single', \n",
    "          'IsEtaValueInput': False, 'TypeFrame': 'WoodOrResin', 'TypeGlass': '3WgG', 'TypeShade': 'Shoji', 'IsSunshadeInput': False }\n",
    "    ],\n",
    "    'Earthfloors': [\n",
    "        { 'name': 'other', 'area': 5.0, 'space': 'underfloor' },\n",
    "        { 'name': 'entrance', 'area': 5.0, 'space': 'underfloor' }\n",
    "    ]\n",
    "}\n",
    "\n",
    "innerwalls = [\n",
    "        { 'area': 60, 'name': 'GroundFloor_Main', 'type' : 'GroundFloor', 'spaces': ['main','underfloor'], 'direction' : 'Horizontal', 'Layers' : get_inner_floor_layers()},\n",
    "        { 'area': 15, 'name': 'GroundFloor_Other', 'type' : 'GroundFloor', 'spaces': ['other','underfloor'], 'direction' : 'Horizontal', 'Layers' : get_inner_floor_layers()},\n",
    "]\n",
    "\n",
    "convert_innerwall( d )"
   ]
  },
  {
   "cell_type": "markdown",
   "metadata": {},
   "source": [
    "## 9. Lv4入力情報のコンバート（統合）\n",
    "- 1)共通情報、2)開口部以外の不透明部位、3)開口部の透明部位、4)開口部の不透明部位、5) 線熱橋、6)土間床等の外周部の線熱橋、7)土間床、8)内壁等の各コンバート関数を統合し、Lv3の入力情報をLv4の入力情報にコンバートする。"
   ]
  },
  {
   "cell_type": "markdown",
   "metadata": {},
   "source": [
    "### Function"
   ]
  },
  {
   "cell_type": "code",
   "execution_count": 55,
   "metadata": {},
   "outputs": [],
   "source": [
    "def convert(d):\n",
    "    d_lv4_input = {}\n",
    "    d_lv4_input['Common'] = convert_common(d)\n",
    "    if ('Walls' in d) == True:\n",
    "        d_lv4_input['Walls'] = convert_wall(d)\n",
    "    if ('Windows' in d) == True:\n",
    "        d_lv4_input['Windows'] = convert_window(d)\n",
    "    if ('Doors' in d) == True:\n",
    "        d_lv4_input['Doors'] = convert_door(d)\n",
    "    if ('EarthfloorPerimeters' in d) == True:\n",
    "        d_lv4_input['EarthfloorPerimeters'] = convert_earthfloorperimeter(d)\n",
    "    if ('EarthFloors' in d) == True:\n",
    "        d_lv4_input['EarthFloors'] = convert_earthfloor(d)\n",
    "    if ('Heatbridges' in d) == True:\n",
    "        d_lv4_input['Heatbridges'] = convert_heatbridge(d)\n",
    "    d_lv4_input['InnerWalls'] = convert_innerwall(d)\n",
    "\n",
    "    return d_lv4_input"
   ]
  },
  {
   "cell_type": "markdown",
   "metadata": {},
   "source": [
    "### Example"
   ]
  },
  {
   "cell_type": "code",
   "execution_count": 56,
   "metadata": {},
   "outputs": [
    {
     "data": {
      "text/plain": [
       "{'Common': {'Region': 6,\n",
       "  'IsSimplifiedInput': False,\n",
       "  'MainOccupantRoomFloorArea': 30.0,\n",
       "  'OtherOccupantRoomFloorArea': 60.0,\n",
       "  'TotalFloorArea': 120.0},\n",
       " 'Walls': [{'name': 'Ceiling',\n",
       "   'direction': 'top',\n",
       "   'area': 67.8,\n",
       "   'space': 'main',\n",
       "   'type': 'Ceiling',\n",
       "   'structure': 'wood',\n",
       "   'IsSunshadeInput': False,\n",
       "   'InputMethod': 'InputUA',\n",
       "   'UA': 0.24},\n",
       "  {'name': 'Ceiling',\n",
       "   'direction': 'top',\n",
       "   'area': 67.8,\n",
       "   'space': 'main',\n",
       "   'type': 'Ceiling',\n",
       "   'structure': 'wood',\n",
       "   'IsSunshadeInput': False,\n",
       "   'InputMethod': 'InputAllDetails',\n",
       "   'IsInContactWithOutsideAir': True,\n",
       "   'Parts': [{'AreaRatio': 0.8,\n",
       "     'Layers': [{'name': 'wood', 'thick': 0.012, 'cond': 0.16, 'specH': 720},\n",
       "      {'name': 'wood', 'thick': 0.012, 'cond': 0.16, 'specH': 720}]},\n",
       "    {'AreaRatio': 0.2,\n",
       "     'Layers': [{'name': 'wood', 'thick': 0.012, 'cond': 0.16, 'specH': 720},\n",
       "      {'name': 'wood', 'thick': 0.012, 'cond': 0.16, 'specH': 720}]}]},\n",
       "  {'name': 'Floor',\n",
       "   'direction': 'bottom',\n",
       "   'area': 67.8,\n",
       "   'space': 'main',\n",
       "   'type': 'Floor',\n",
       "   'structure': 'wood',\n",
       "   'IsSunshadeInput': False,\n",
       "   'InputMethod': 'InputAllLayers',\n",
       "   'IsInContactWithOutsideAir': True,\n",
       "   'Parts': [{'Type': 'FloorInsulation',\n",
       "     'Layers': [{'name': 'wood', 'thick': 0.012, 'cond': 0.16, 'specH': 720},\n",
       "      {'name': 'wood', 'thick': 0.012, 'cond': 0.16, 'specH': 720}]},\n",
       "    {'Type': 'FloorHeatbridge',\n",
       "     'Layers': [{'name': 'wood', 'thick': 0.012, 'cond': 0.16, 'specH': 720},\n",
       "      {'name': 'wood', 'thick': 0.012, 'cond': 0.16, 'specH': 720}]}],\n",
       "   'ConstructionMethodAllLayers': 'FloorFrameBeamInsuljoist'},\n",
       "  {'name': 'Wall',\n",
       "   'direction': 'N',\n",
       "   'area': 67.8,\n",
       "   'space': 'main',\n",
       "   'type': 'Wall',\n",
       "   'structure': 'wood',\n",
       "   'IsSunshadeInput': False,\n",
       "   'InputMethod': 'InputAllLayers',\n",
       "   'IsInContactWithOutsideAir': True,\n",
       "   'Parts': [{'Type': 'WallInsulation',\n",
       "     'Layers': [{'name': 'wood', 'thick': 0.012, 'cond': 0.16, 'specH': 720},\n",
       "      {'name': 'wood', 'thick': 0.012, 'cond': 0.16, 'specH': 720}]},\n",
       "    {'Type': 'WallHeatbridge',\n",
       "     'Layers': [{'name': 'wood', 'thick': 0.012, 'cond': 0.16, 'specH': 720},\n",
       "      {'name': 'wood', 'thick': 0.012, 'cond': 0.16, 'specH': 720}]}],\n",
       "   'ConstructionMethodAllLayers': 'WallFrameInsulcolumn'},\n",
       "  {'name': 'Ceiling',\n",
       "   'direction': 'top',\n",
       "   'area': 67.8,\n",
       "   'space': 'main',\n",
       "   'type': 'Roof',\n",
       "   'structure': 'wood',\n",
       "   'IsSunshadeInput': False,\n",
       "   'InputMethod': 'InputAllLayers',\n",
       "   'IsInContactWithOutsideAir': True,\n",
       "   'Parts': [{'Type': 'RoofInsulation',\n",
       "     'Layers': [{'name': 'wood', 'thick': 0.012, 'cond': 0.16, 'specH': 720},\n",
       "      {'name': 'wood', 'thick': 0.012, 'cond': 0.16, 'specH': 720}]},\n",
       "    {'Type': 'RoofHeatbridge',\n",
       "     'Layers': [{'name': 'wood', 'thick': 0.012, 'cond': 0.16, 'specH': 720},\n",
       "      {'name': 'wood', 'thick': 0.012, 'cond': 0.16, 'specH': 720}]}],\n",
       "   'ConstructionMethodAllLayers': 'RoofInsulRafter'},\n",
       "  {'name': 'BoundaryCeiling',\n",
       "   'direction': 'top',\n",
       "   'area': 67.8,\n",
       "   'space': 'main',\n",
       "   'type': 'BoundaryCeiling',\n",
       "   'structure': 'wood',\n",
       "   'IsSunshadeInput': False,\n",
       "   'InputMethod': 'InputAllLayers',\n",
       "   'IsInContactWithOutsideAir': True,\n",
       "   'Parts': [{'Type': 'CeilingInsulation',\n",
       "     'Layers': [{'name': 'wood', 'thick': 0.012, 'cond': 0.16, 'specH': 720},\n",
       "      {'name': 'wood', 'thick': 0.012, 'cond': 0.16, 'specH': 720}]},\n",
       "    {'Type': 'CeilingHeatbridge',\n",
       "     'Layers': [{'name': 'wood', 'thick': 0.012, 'cond': 0.16, 'specH': 720},\n",
       "      {'name': 'wood', 'thick': 0.012, 'cond': 0.16, 'specH': 720}]}],\n",
       "   'ConstructionMethodAllLayers': 'CeilingInsulbeam'},\n",
       "  {'name': 'Ceiling',\n",
       "   'direction': 'top',\n",
       "   'area': 67.8,\n",
       "   'space': 'main',\n",
       "   'type': 'Ceiling',\n",
       "   'structure': 'wood',\n",
       "   'IsSunshadeInput': False,\n",
       "   'InputMethod': 'InputUR',\n",
       "   'IsInContactWithOutsideAir': True,\n",
       "   'InsulationMethod': 'CeilingInsulbeam',\n",
       "   'Parts': [{'Layers': [{'name': 'wood',\n",
       "       'thick': 0.012,\n",
       "       'cond': 0.16,\n",
       "       'specH': 720},\n",
       "      {'name': 'wood', 'thick': 0.012, 'cond': 0.16, 'specH': 720}]}]},\n",
       "  {'name': 'Ceiling',\n",
       "   'direction': 'top',\n",
       "   'area': 67.8,\n",
       "   'space': 'main',\n",
       "   'type': 'Ceiling',\n",
       "   'structure': 'RC',\n",
       "   'IsSunshadeInput': False,\n",
       "   'InputMethod': 'InputUA',\n",
       "   'UA': 0.24},\n",
       "  {'name': 'Ceiling',\n",
       "   'direction': 'top',\n",
       "   'area': 67.8,\n",
       "   'space': 'main',\n",
       "   'type': 'Ceiling',\n",
       "   'structure': 'RC',\n",
       "   'IsSunshadeInput': False,\n",
       "   'InputMethod': 'InputLayers',\n",
       "   'IsInContactWithOutsideAir': True,\n",
       "   'Parts': [{'Layers': [{'name': 'wood',\n",
       "       'thick': 0.012,\n",
       "       'cond': 0.16,\n",
       "       'specH': 720},\n",
       "      {'name': 'wood', 'thick': 0.012, 'cond': 0.16, 'specH': 720}]}]},\n",
       "  {'name': 'Ceiling',\n",
       "   'direction': 'top',\n",
       "   'area': 67.8,\n",
       "   'space': 'main',\n",
       "   'type': 'Ceiling',\n",
       "   'structure': 'steel',\n",
       "   'IsSunshadeInput': False,\n",
       "   'InputMethod': 'InputUA',\n",
       "   'UA': 0.24},\n",
       "  {'name': 'Ceiling',\n",
       "   'direction': 'top',\n",
       "   'area': 67.8,\n",
       "   'space': 'main',\n",
       "   'type': 'Ceiling',\n",
       "   'structure': 'steel',\n",
       "   'IsSunshadeInput': False,\n",
       "   'InputMethod': 'InputUR',\n",
       "   'Radding': 0.1,\n",
       "   'IsInContactWithOutsideAir': True,\n",
       "   'Parts': [{'Layers': [{'name': 'wood',\n",
       "       'thick': 0.012,\n",
       "       'cond': 0.16,\n",
       "       'specH': 720},\n",
       "      {'name': 'wood', 'thick': 0.012, 'cond': 0.16, 'specH': 720}]}]},\n",
       "  {'name': 'Ceiling',\n",
       "   'direction': 'top',\n",
       "   'area': 67.8,\n",
       "   'space': 'main',\n",
       "   'type': 'Ceiling',\n",
       "   'structure': 'other',\n",
       "   'IsSunshadeInput': False,\n",
       "   'InputMethod': None}],\n",
       " 'Windows': [{'name': 'WindowSW',\n",
       "   'direction': 'SW',\n",
       "   'area': 30.25,\n",
       "   'space': 'main',\n",
       "   'UW': 6.51,\n",
       "   'IsSunshadeInput': True,\n",
       "   'TypeWindow': 'Single',\n",
       "   'IsEtaValueInput': False,\n",
       "   'TypeFrame': 'WoodOrResin',\n",
       "   'TypeGlass': '3WgG',\n",
       "   'TypeShade': 'Shoji',\n",
       "   'Y1': 0.0,\n",
       "   'Y2': 1.0,\n",
       "   'Z': 0.6},\n",
       "  {'name': 'WindowNW',\n",
       "   'direction': 'NW',\n",
       "   'area': 3.17,\n",
       "   'space': 'main',\n",
       "   'UW': 4.65,\n",
       "   'IsSunshadeInput': False,\n",
       "   'TypeWindow': 'Single',\n",
       "   'IsEtaValueInput': True,\n",
       "   'Eta': 0.738},\n",
       "  {'name': 'WindowSW',\n",
       "   'direction': 'SW',\n",
       "   'area': 30.25,\n",
       "   'space': 'main',\n",
       "   'UW': 6.51,\n",
       "   'IsSunshadeInput': True,\n",
       "   'TypeWindow': 'Double',\n",
       "   'IsEtaValueInput': False,\n",
       "   'TypeFrameInside': 'WoodOrResin',\n",
       "   'TypeGlassInside': '3WgG',\n",
       "   'TypeShadeInside': 'Shoji',\n",
       "   'TypeFrameOutside': 'Steel',\n",
       "   'TypeGlassOutside': '3WgG',\n",
       "   'TypeShadeOutside': 'ExtarnalBlind',\n",
       "   'Y1': 0.0,\n",
       "   'Y2': 1.0,\n",
       "   'Z': 0.6},\n",
       "  {'name': 'WindowNW',\n",
       "   'direction': 'NW',\n",
       "   'area': 3.17,\n",
       "   'space': 'main',\n",
       "   'UW': 4.65,\n",
       "   'IsSunshadeInput': True,\n",
       "   'TypeWindow': 'Double',\n",
       "   'IsEtaValueInput': True,\n",
       "   'EtaInside': 0.738,\n",
       "   'EtaOutside': 0.738,\n",
       "   'TypeGlassInside': '3WgG',\n",
       "   'TypeGlassOutside': '3WgG',\n",
       "   'Y1': 0.0,\n",
       "   'Y2': 1.0,\n",
       "   'Z': 0.6}],\n",
       " 'Doors': [{'name': 'DoorNW',\n",
       "   'direction': 'NW',\n",
       "   'area': 2.52,\n",
       "   'space': 'main',\n",
       "   'U': 6.51,\n",
       "   'IsSunshadeInput': False},\n",
       "  {'name': 'DoorNE',\n",
       "   'direction': 'NE',\n",
       "   'area': 2.16,\n",
       "   'space': 'main',\n",
       "   'U': 4.65,\n",
       "   'IsSunshadeInput': True,\n",
       "   'Y1': 0.0,\n",
       "   'Y2': 1.0,\n",
       "   'Z': 0.6}],\n",
       " 'EarthfloorPerimeters': [{'direction': 'NW',\n",
       "   'length': 2.43,\n",
       "   'name': 'NW',\n",
       "   'psi': 1.8,\n",
       "   'space': 'underfloor'},\n",
       "  {'direction': 'NE',\n",
       "   'length': 2.43,\n",
       "   'name': 'NE',\n",
       "   'psi': 1.8,\n",
       "   'space': 'underfloor'}],\n",
       " 'Heatbridges': [{'name': 'NE',\n",
       "   'structure': 'RC',\n",
       "   'direction1': 'N',\n",
       "   'direction2': 'E',\n",
       "   'length': 1.0,\n",
       "   'space': 'main',\n",
       "   'psi': 1.8},\n",
       "  {'name': 'NW',\n",
       "   'structure': 'Steel',\n",
       "   'direction1': 'N',\n",
       "   'direction2': 'W',\n",
       "   'length': 2.0,\n",
       "   'space': 'main',\n",
       "   'psi': 1.8}],\n",
       " 'InnerWalls': [{'name': 'GroundFloor_Other',\n",
       "   'type': 'GroundFloor',\n",
       "   'direction': 'Horizontal',\n",
       "   'area': 6.666666666666667,\n",
       "   'Layers': [{'name': 'PED', 'cond': 0.16, 'thick': 0.012, 'specH': 720.0}],\n",
       "   'space': 'other',\n",
       "   'nextspace': 'underfloor'},\n",
       "  {'name': 'GroundFloor_Other',\n",
       "   'type': 'GroundFloor',\n",
       "   'direction': 'Horizontal',\n",
       "   'area': 6.666666666666667,\n",
       "   'Layers': [{'name': 'PED', 'cond': 0.16, 'thick': 0.012, 'specH': 720.0}],\n",
       "   'space': 'underfloor',\n",
       "   'nextspace': 'other'},\n",
       "  {'name': 'GroundFloor_Nonliving',\n",
       "   'type': 'GroundFloor',\n",
       "   'direction': 'Horizontal',\n",
       "   'area': 3.3333333333333335,\n",
       "   'Layers': [{'name': 'PED', 'cond': 0.16, 'thick': 0.012, 'specH': 720.0}],\n",
       "   'space': 'nonliving',\n",
       "   'nextspace': 'underfloor'},\n",
       "  {'name': 'GroundFloor_Nonliving',\n",
       "   'type': 'GroundFloor',\n",
       "   'direction': 'Horizontal',\n",
       "   'area': 3.3333333333333335,\n",
       "   'Layers': [{'name': 'PED', 'cond': 0.16, 'thick': 0.012, 'specH': 720.0}],\n",
       "   'space': 'underfloor',\n",
       "   'nextspace': 'nonliving'},\n",
       "  {'name': 'InnerFloor_other',\n",
       "   'type': 'InnerFloor',\n",
       "   'direction': 'Horizontal',\n",
       "   'area': 53.333333333333336,\n",
       "   'Layers': [{'name': 'PED', 'cond': 0.16, 'thick': 0.012, 'specH': 720.0}],\n",
       "   'space': 'other',\n",
       "   'nextspace': 'nonliving'},\n",
       "  {'name': 'InnerFloor_nonliving',\n",
       "   'type': 'InnerFloor',\n",
       "   'direction': 'Horizontal',\n",
       "   'area': 26.666666666666668,\n",
       "   'Layers': [{'name': 'PED', 'cond': 0.16, 'thick': 0.012, 'specH': 720.0}],\n",
       "   'space': 'nonliving',\n",
       "   'nextspace': 'other'},\n",
       "  {'name': 'InnerCeiling_other',\n",
       "   'type': 'InnerCeiling',\n",
       "   'direction': 'Horizontal',\n",
       "   'area': 60.0,\n",
       "   'Layers': [{'name': 'PED', 'cond': 0.16, 'thick': 0.012, 'specH': 720.0}],\n",
       "   'space': 'other',\n",
       "   'nextspace': 'nonliving'},\n",
       "  {'name': 'InnerCeiling_nonliving',\n",
       "   'type': 'InnerCeiling',\n",
       "   'direction': 'Horizontal',\n",
       "   'area': 30.0,\n",
       "   'Layers': [{'name': 'PED', 'cond': 0.16, 'thick': 0.012, 'specH': 720.0}],\n",
       "   'space': 'nonliving',\n",
       "   'nextspace': 'other'},\n",
       "  {'name': 'Innerwall_other to nonliving',\n",
       "   'type': 'InnerWall',\n",
       "   'direction': 'Vertical',\n",
       "   'Layers': [{'name': 'GPB', 'cond': 0.22, 'thick': 0.0125, 'specH': 830.0},\n",
       "    {'name': 'GPB', 'cond': 11.11111111111111, 'thick': 1, 'specH': 0},\n",
       "    {'name': 'GPB', 'cond': 0.22, 'thick': 0.0125, 'specH': 830.0}],\n",
       "   'area': 121.45675773706458,\n",
       "   'space': 'other',\n",
       "   'nextspace': 'nonliving'},\n",
       "  {'name': 'Innerwall_other to nonliving',\n",
       "   'type': 'InnerWall',\n",
       "   'direction': 'Vertical',\n",
       "   'Layers': [{'name': 'GPB', 'cond': 0.22, 'thick': 0.0125, 'specH': 830.0},\n",
       "    {'name': 'GPB', 'cond': 11.11111111111111, 'thick': 1, 'specH': 0},\n",
       "    {'name': 'GPB', 'cond': 0.22, 'thick': 0.0125, 'specH': 830.0}],\n",
       "   'area': 121.45675773706458,\n",
       "   'space': 'nonliving',\n",
       "   'nextspace': 'other'}]}"
      ]
     },
     "execution_count": 56,
     "metadata": {},
     "output_type": "execute_result"
    }
   ],
   "source": [
    "d = {\n",
    "    'Common': {\n",
    "        'Region': 6,\n",
    "        'IsSimplifiedInput': False,\n",
    "        'MainOccupantRoomFloorArea': 30.0,\n",
    "        'OtherOccupantRoomFloorArea': 60.0,\n",
    "        'TotalFloorArea': 120.0\n",
    "    },\n",
    "    'Walls': [\n",
    "        { 'name': 'Ceiling', 'type': 'Ceiling', 'structure': 'wood', 'InputMethod' :'InputUA', \n",
    "          'direction': 'top', 'area': 67.8, 'space': 'main', 'UA': 0.24, 'IsSunshadeInput': False },\n",
    "        { 'name': 'Ceiling', 'type': 'Ceiling', 'structure': 'wood', 'InputMethod' :'InputAllDetails', 'direction': 'top', \n",
    "          'IsInContactWithOutsideAir': True, 'area': 67.8, 'space': 'main',\n",
    "          'Parts': [{'AreaRatio': 0.8, 'Layers': [{'name': 'wood','thick': 0.012, 'cond': 0.16, 'specH': 720 },\n",
    "                                                  {'name': 'wood','thick': 0.012, 'cond': 0.16, 'specH': 720 }]},\n",
    "                    {'AreaRatio': 0.2, 'Layers': [{'name': 'wood','thick': 0.012, 'cond': 0.16, 'specH': 720 },\n",
    "                                                  {'name': 'wood','thick': 0.012, 'cond': 0.16, 'specH': 720 }]}],\n",
    "          'IsSunshadeInput': False },\n",
    "        { 'name': 'Floor', 'type': 'Floor', 'space': 'main', 'structure': 'wood', 'InputMethod' :'InputAllLayers', 'direction': 'bottom', \n",
    "          'IsInContactWithOutsideAir': True, 'area': 67.8,\n",
    "          'ConstructionMethodAllLayers' :'FloorFrameBeamInsuljoist',\n",
    "          'Parts': [{'Type': 'FloorInsulation', 'Layers': [{'name': 'wood','thick': 0.012, 'cond': 0.16, 'specH': 720 },\n",
    "                                                           {'name': 'wood','thick': 0.012, 'cond': 0.16, 'specH': 720 }]},\n",
    "                    {'Type': 'FloorHeatbridge', 'Layers': [{'name': 'wood','thick': 0.012, 'cond': 0.16, 'specH': 720 },\n",
    "                                                           {'name': 'wood','thick': 0.012, 'cond': 0.16, 'specH': 720 }]}],\n",
    "           'IsSunshadeInput': False },\n",
    "        { 'name': 'Wall', 'type': 'Wall', 'space': 'main', 'structure': 'wood', 'InputMethod' :'InputAllLayers', 'direction': 'N',\n",
    "          'IsInContactWithOutsideAir': True, 'area': 67.8, 'ConstructionMethodAllLayers': 'WallFrameInsulcolumn',\n",
    "          'Parts': [{'Type': 'WallInsulation', 'Layers': [{'name': 'wood','thick': 0.012, 'cond': 0.16, 'specH': 720 },\n",
    "                                                          {'name': 'wood','thick': 0.012, 'cond': 0.16, 'specH': 720 }]},\n",
    "                    {'Type': 'WallHeatbridge', 'Layers': [{'name': 'wood','thick': 0.012, 'cond': 0.16, 'specH': 720 },\n",
    "                                                          {'name': 'wood','thick': 0.012, 'cond': 0.16, 'specH': 720 }]}],         \n",
    "          'IsSunshadeInput': False },\n",
    "        { 'name': 'Ceiling', 'type': 'Roof', 'space': 'main', 'structure': 'wood', 'InputMethod' :'InputAllLayers', 'direction': 'top',\n",
    "          'IsInContactWithOutsideAir': True, 'area': 67.8, 'ConstructionMethodAllLayers': 'RoofInsulRafter', \n",
    "          'Parts': [{'Type': 'RoofInsulation', 'Layers': [{'name': 'wood','thick': 0.012, 'cond': 0.16, 'specH': 720 },\n",
    "                                                          {'name': 'wood','thick': 0.012, 'cond': 0.16, 'specH': 720 }]},\n",
    "                    {'Type': 'RoofHeatbridge', 'Layers': [{'name': 'wood','thick': 0.012, 'cond': 0.16, 'specH': 720 },\n",
    "                                                          {'name': 'wood','thick': 0.012, 'cond': 0.16, 'specH': 720 }]}],\n",
    "          'IsSunshadeInput': False },\n",
    "        { 'name': 'BoundaryCeiling', 'type': 'BoundaryCeiling', 'space': 'main', 'structure': 'wood', 'InputMethod' :'InputAllLayers', \n",
    "          'direction': 'top', 'IsInContactWithOutsideAir': True, 'area': 67.8, 'ConstructionMethodAllLayers': 'CeilingInsulbeam', \n",
    "          'Parts': [{'Type': 'CeilingInsulation', 'Layers': [{'name': 'wood','thick': 0.012, 'cond': 0.16, 'specH': 720 },\n",
    "                                                             {'name': 'wood','thick': 0.012, 'cond': 0.16, 'specH': 720 }]},\n",
    "                    {'Type': 'CeilingHeatbridge', 'Layers': [{'name': 'wood','thick': 0.012, 'cond': 0.16, 'specH': 720 },\n",
    "                                                             {'name': 'wood','thick': 0.012, 'cond': 0.16, 'specH': 720 }]}],\n",
    "          'IsSunshadeInput': False },\n",
    "        { 'name': 'Ceiling', 'type': 'Ceiling', 'structure': 'wood', 'InputMethod' :'InputUR', 'InsulationMethod': 'CeilingInsulbeam',\n",
    "          'direction': 'top', 'IsInContactWithOutsideAir': True, 'area': 67.8, 'space': 'main', \n",
    "          'Parts': [{ 'Layers': [{'name': 'wood','thick': 0.012, 'cond': 0.16, 'specH': 720 },\n",
    "                                 {'name': 'wood','thick': 0.012, 'cond': 0.16, 'specH': 720 }]}],\n",
    "          'IsSunshadeInput': False },\n",
    "        { 'name': 'Ceiling', 'type': 'Ceiling', 'structure': 'RC', 'InputMethod' :'InputUA', \n",
    "          'direction': 'top','area': 67.8, 'space': 'main', 'UA': 0.24, 'IsSunshadeInput': False },\n",
    "        { 'name': 'Ceiling', 'type': 'Ceiling', 'structure': 'RC', 'InputMethod' :'InputLayers', \n",
    "          'direction': 'top', 'IsInContactWithOutsideAir': True, 'area': 67.8, 'space': 'main',\n",
    "          'Parts': [{ 'Layers': [{'name': 'wood','thick': 0.012, 'cond': 0.16, 'specH': 720 },\n",
    "                                 {'name': 'wood','thick': 0.012, 'cond': 0.16, 'specH': 720 }]}],         \n",
    "          'IsSunshadeInput': False },\n",
    "        { 'name': 'Ceiling', 'type': 'Ceiling', 'structure': 'steel', 'InputMethod' :'InputUA', \n",
    "          'direction': 'top', 'area': 67.8, 'space': 'main', 'UA': 0.24, 'IsSunshadeInput': False },\n",
    "        { 'name': 'Ceiling', 'type': 'Ceiling', 'structure': 'steel', 'InputMethod' :'InputUR', \n",
    "          'direction': 'top', 'IsInContactWithOutsideAir': True, 'area': 67.8, 'space': 'main', 'Radding': 0.10, \n",
    "          'Parts': [{'Layers': [{'name': 'wood','thick': 0.012, 'cond': 0.16, 'specH': 720 },\n",
    "                                {'name': 'wood','thick': 0.012, 'cond': 0.16, 'specH': 720 }]}],         \n",
    "          'IsSunshadeInput': False },\n",
    "        { 'name': 'Ceiling', 'type': 'Ceiling', 'structure': 'other', 'direction': 'top', 'IsInContactWithOutsideAir': True, \n",
    "          'area': 67.8, 'space': 'main', 'IsSunshadeInput': False }\n",
    "    ],\n",
    "    'Windows': [\n",
    "        { 'name': 'WindowSW', 'direction': 'SW', 'area': 30.25, 'space': 'main', 'UW': 6.51, 'TypeWindow': 'Single', \n",
    "          'IsEtaValueInput': False, 'TypeFrame': 'WoodOrResin', 'TypeGlass': '3WgG', 'TypeShade': 'Shoji',\n",
    "          'IsSunshadeInput': True, 'Y1': 0.00, 'Y2': 1.00, 'Z': 0.60 },\n",
    "        { 'name': 'WindowNW', 'direction': 'NW', 'area': 3.17, 'space': 'main', 'UW': 4.65, 'TypeWindow': 'Single', \n",
    "          'IsEtaValueInput': True, 'Eta': 0.738, 'IsSunshadeInput': False },\n",
    "        { 'name': 'WindowSW', 'direction': 'SW', 'area': 30.25, 'space': 'main', 'UW': 6.51, 'TypeWindow': 'Double', 'IsEtaValueInput': False,\n",
    "          'TypeFrameInside': 'WoodOrResin', 'TypeGlassInside': '3WgG', 'TypeShadeInside': 'Shoji',\n",
    "          'TypeFrameOutside': 'Steel', 'TypeGlassOutside': '3WgG', 'TypeShadeOutside': 'ExtarnalBlind',\n",
    "          'IsSunshadeInput': True, 'Y1': 0.00, 'Y2': 1.00, 'Z': 0.60 },\n",
    "        { 'name': 'WindowNW', 'direction': 'NW', 'area': 3.17, 'space': 'main', 'UW': 4.65, 'TypeWindow': 'Double', 'IsEtaValueInput': True,\n",
    "          'EtaInside': 0.738, 'TypeGlassInside': '3WgG', 'EtaOutside': 0.738, 'TypeGlassOutside': '3WgG',\n",
    "          'IsSunshadeInput': True, 'Y1': 0.00, 'Y2': 1.00, 'Z': 0.60 }\n",
    "    ],\n",
    "    'Doors': [\n",
    "        { 'name': 'DoorNW', 'direction': 'NW', 'area': 2.52, 'U': 6.51, 'space': 'main', 'IsSunshadeInput': False },\n",
    "        { 'name': 'DoorNE', 'direction': 'NE', 'area': 2.16, 'U': 4.65, 'space': 'main', \n",
    "          'IsSunshadeInput': True, 'Y1': 0.00, 'Y2': 1.00, 'Z': 0.60 }\n",
    "    ],\n",
    "    'Heatbridges': [\n",
    "        { 'name': 'NE', 'structure': 'RC', 'length': 1.00, 'psi': 1.8, 'direction1': 'N', 'direction2': 'E', 'space': 'main' },\n",
    "        { 'name': 'NW', 'structure': 'Steel', 'length': 2.00, 'psi': 1.8, 'direction1': 'N', 'direction2': 'W', 'space': 'main' }\n",
    "    ],\n",
    "    'EarthfloorPerimeters': [\n",
    "        { 'name': 'NW', 'direction': 'NW', 'length': 2.43, 'psi': 1.8, 'space': 'underfloor' },\n",
    "        { 'name': 'NE', 'direction': 'NE', 'length': 2.43, 'psi': 1.8, 'space': 'underfloor' }\n",
    "    ],\n",
    "    'Earthfloors': [\n",
    "        { 'name': 'other', 'area': 5.0, 'space': 'underfloor' },\n",
    "        { 'name': 'entrance', 'area': 5.0, 'space': 'underfloor' }\n",
    "    ]\n",
    "}\n",
    "\n",
    "convert(d)"
   ]
  },
  {
   "cell_type": "code",
   "execution_count": 57,
   "metadata": {},
   "outputs": [
    {
     "ename": "ValueError",
     "evalue": "",
     "output_type": "error",
     "traceback": [
      "\u001b[1;31m---------------------------------------------------------------------------\u001b[0m",
      "\u001b[1;31mValueError\u001b[0m                                Traceback (most recent call last)",
      "\u001b[1;32m<ipython-input-57-eca7066acacf>\u001b[0m in \u001b[0;36m<module>\u001b[1;34m()\u001b[0m\n\u001b[0;32m     92\u001b[0m }\n\u001b[0;32m     93\u001b[0m \u001b[1;33m\u001b[0m\u001b[0m\n\u001b[1;32m---> 94\u001b[1;33m \u001b[0mconvert\u001b[0m\u001b[1;33m(\u001b[0m\u001b[0md\u001b[0m\u001b[1;33m)\u001b[0m\u001b[1;33m\u001b[0m\u001b[0m\n\u001b[0m",
      "\u001b[1;32m<ipython-input-55-2945f231e075>\u001b[0m in \u001b[0;36mconvert\u001b[1;34m(d)\u001b[0m\n\u001b[0;32m      5\u001b[0m         \u001b[0md_lv4_input\u001b[0m\u001b[1;33m[\u001b[0m\u001b[1;34m'Walls'\u001b[0m\u001b[1;33m]\u001b[0m \u001b[1;33m=\u001b[0m \u001b[0mconvert_wall\u001b[0m\u001b[1;33m(\u001b[0m\u001b[0md\u001b[0m\u001b[1;33m)\u001b[0m\u001b[1;33m\u001b[0m\u001b[0m\n\u001b[0;32m      6\u001b[0m     \u001b[1;32mif\u001b[0m \u001b[1;33m(\u001b[0m\u001b[1;34m'Windows'\u001b[0m \u001b[1;32min\u001b[0m \u001b[0md\u001b[0m\u001b[1;33m)\u001b[0m \u001b[1;33m==\u001b[0m \u001b[1;32mTrue\u001b[0m\u001b[1;33m:\u001b[0m\u001b[1;33m\u001b[0m\u001b[0m\n\u001b[1;32m----> 7\u001b[1;33m         \u001b[0md_lv4_input\u001b[0m\u001b[1;33m[\u001b[0m\u001b[1;34m'Windows'\u001b[0m\u001b[1;33m]\u001b[0m \u001b[1;33m=\u001b[0m \u001b[0mconvert_window\u001b[0m\u001b[1;33m(\u001b[0m\u001b[0md\u001b[0m\u001b[1;33m)\u001b[0m\u001b[1;33m\u001b[0m\u001b[0m\n\u001b[0m\u001b[0;32m      8\u001b[0m     \u001b[1;32mif\u001b[0m \u001b[1;33m(\u001b[0m\u001b[1;34m'Doors'\u001b[0m \u001b[1;32min\u001b[0m \u001b[0md\u001b[0m\u001b[1;33m)\u001b[0m \u001b[1;33m==\u001b[0m \u001b[1;32mTrue\u001b[0m\u001b[1;33m:\u001b[0m\u001b[1;33m\u001b[0m\u001b[0m\n\u001b[0;32m      9\u001b[0m         \u001b[0md_lv4_input\u001b[0m\u001b[1;33m[\u001b[0m\u001b[1;34m'Doors'\u001b[0m\u001b[1;33m]\u001b[0m \u001b[1;33m=\u001b[0m \u001b[0mconvert_door\u001b[0m\u001b[1;33m(\u001b[0m\u001b[0md\u001b[0m\u001b[1;33m)\u001b[0m\u001b[1;33m\u001b[0m\u001b[0m\n",
      "\u001b[1;32m<ipython-input-8-fa662c5939f7>\u001b[0m in \u001b[0;36mconvert_window\u001b[1;34m(d)\u001b[0m\n\u001b[0;32m      1\u001b[0m \u001b[1;32mdef\u001b[0m \u001b[0mconvert_window\u001b[0m\u001b[1;33m(\u001b[0m \u001b[0md\u001b[0m \u001b[1;33m)\u001b[0m\u001b[1;33m:\u001b[0m\u001b[1;33m\u001b[0m\u001b[0m\n\u001b[1;32m----> 2\u001b[1;33m     \u001b[1;32mreturn\u001b[0m \u001b[1;33m[\u001b[0m \u001b[0mmake_window\u001b[0m\u001b[1;33m(\u001b[0m\u001b[0mIsSimplifiedInput\u001b[0m \u001b[1;33m=\u001b[0m \u001b[0md\u001b[0m\u001b[1;33m[\u001b[0m\u001b[1;34m'Common'\u001b[0m\u001b[1;33m]\u001b[0m\u001b[1;33m[\u001b[0m\u001b[1;34m'IsSimplifiedInput'\u001b[0m\u001b[1;33m]\u001b[0m\u001b[1;33m,\u001b[0m \u001b[1;33m**\u001b[0m\u001b[0mf\u001b[0m\u001b[1;33m)\u001b[0m \u001b[1;32mfor\u001b[0m \u001b[0mf\u001b[0m \u001b[1;32min\u001b[0m \u001b[0md\u001b[0m\u001b[1;33m[\u001b[0m\u001b[1;34m'Windows'\u001b[0m\u001b[1;33m]\u001b[0m \u001b[1;33m]\u001b[0m\u001b[1;33m\u001b[0m\u001b[0m\n\u001b[0m",
      "\u001b[1;32m<ipython-input-8-fa662c5939f7>\u001b[0m in \u001b[0;36m<listcomp>\u001b[1;34m(.0)\u001b[0m\n\u001b[0;32m      1\u001b[0m \u001b[1;32mdef\u001b[0m \u001b[0mconvert_window\u001b[0m\u001b[1;33m(\u001b[0m \u001b[0md\u001b[0m \u001b[1;33m)\u001b[0m\u001b[1;33m:\u001b[0m\u001b[1;33m\u001b[0m\u001b[0m\n\u001b[1;32m----> 2\u001b[1;33m     \u001b[1;32mreturn\u001b[0m \u001b[1;33m[\u001b[0m \u001b[0mmake_window\u001b[0m\u001b[1;33m(\u001b[0m\u001b[0mIsSimplifiedInput\u001b[0m \u001b[1;33m=\u001b[0m \u001b[0md\u001b[0m\u001b[1;33m[\u001b[0m\u001b[1;34m'Common'\u001b[0m\u001b[1;33m]\u001b[0m\u001b[1;33m[\u001b[0m\u001b[1;34m'IsSimplifiedInput'\u001b[0m\u001b[1;33m]\u001b[0m\u001b[1;33m,\u001b[0m \u001b[1;33m**\u001b[0m\u001b[0mf\u001b[0m\u001b[1;33m)\u001b[0m \u001b[1;32mfor\u001b[0m \u001b[0mf\u001b[0m \u001b[1;32min\u001b[0m \u001b[0md\u001b[0m\u001b[1;33m[\u001b[0m\u001b[1;34m'Windows'\u001b[0m\u001b[1;33m]\u001b[0m \u001b[1;33m]\u001b[0m\u001b[1;33m\u001b[0m\u001b[0m\n\u001b[0m",
      "\u001b[1;32m<ipython-input-7-e2fc26df3382>\u001b[0m in \u001b[0;36mmake_window\u001b[1;34m(IsSimplifiedInput, name, direction, area, space, IsSunshadeInput, UW, TypeWindow, IsEtaValueInput, EtaCooling, EtaHeating, Eta, TypeFrame, TypeGlass, TypeShade, EtaInside, TypeFrameInside, TypeGlassInside, TypeShadeInside, EtaOutside, TypeFrameOutside, TypeGlassOutside, TypeShadeOutside, Y1, Y2, Z, **kwargs)\u001b[0m\n\u001b[0;32m     56\u001b[0m                 \u001b[0mwindow\u001b[0m\u001b[1;33m[\u001b[0m\u001b[1;34m'TypeGlassOutside'\u001b[0m\u001b[1;33m]\u001b[0m \u001b[1;33m=\u001b[0m \u001b[0mTypeGlassOutside\u001b[0m\u001b[1;33m\u001b[0m\u001b[0m\n\u001b[0;32m     57\u001b[0m         \u001b[1;32melse\u001b[0m \u001b[1;33m:\u001b[0m\u001b[1;33m\u001b[0m\u001b[0m\n\u001b[1;32m---> 58\u001b[1;33m             \u001b[1;32mraise\u001b[0m \u001b[0mValueError\u001b[0m\u001b[1;33m\u001b[0m\u001b[0m\n\u001b[0m\u001b[0;32m     59\u001b[0m \u001b[1;33m\u001b[0m\u001b[0m\n\u001b[0;32m     60\u001b[0m         \u001b[0mwindow\u001b[0m\u001b[1;33m[\u001b[0m\u001b[1;34m'Y1'\u001b[0m\u001b[1;33m]\u001b[0m \u001b[1;33m=\u001b[0m \u001b[0mY1\u001b[0m\u001b[1;33m\u001b[0m\u001b[0m\n",
      "\u001b[1;31mValueError\u001b[0m: "
     ]
    }
   ],
   "source": [
    "d = {\n",
    "    'Common': {\n",
    "        'Region': 6,\n",
    "        'IsSimplifiedInput': True,\n",
    "        'MainOccupantRoomFloorArea': 30.0,\n",
    "        'OtherOccupantRoomFloorArea': 30.0,\n",
    "        'TotalFloorArea': 120.0\n",
    "    },\n",
    "    'Walls': [\n",
    "        {'name': 'Ceiling_main', 'direction': 'Top', 'area': 16.95, 'space': 'main', 'type': 'Ceiling',\n",
    "         'structure': 'wood', 'IsSunshadeInput': False, 'UA': 7.7},\n",
    "        {'name': 'Ceiling_other', 'direction': 'Top', 'area': 16.95, 'space': 'other', 'type': 'Ceiling',\n",
    "         'structure': 'wood', 'IsSunshadeInput': False, 'UA': 7.7},\n",
    "        {'name': 'Ceiling_nonliving', 'direction': 'Top', 'area': 33.9, 'space': 'nonliving', 'type': 'Ceiling',\n",
    "         'structure': 'wood', 'IsSunshadeInput': False, 'UA': 7.7},\n",
    "        {'name': 'Wall_SW_main', 'direction': 'SW', 'area': 10.1575, 'space': 'main', 'type': 'Wall',\n",
    "         'structure': 'wood', 'IsSunshadeInput': False, 'UA': 6.67},\n",
    "        {'name': 'Wall_SW_other', 'direction': 'SW', 'area': 10.1575, 'space': 'other', 'type': 'Wall',\n",
    "         'structure': 'wood', 'IsSunshadeInput': False, 'UA': 6.67},\n",
    "        {'name': 'Wall_SW_nonliving', 'direction': 'SW', 'area': 20.315, 'space': 'nonliving', 'type': 'Wall',\n",
    "         'structure': 'wood', 'IsSunshadeInput': False, 'UA': 6.67},\n",
    "        {'name': 'Wall_NW_main', 'direction': 'NW', 'area': 7.4575, 'space': 'main', 'type': 'Wall',\n",
    "         'structure': 'wood', 'IsSunshadeInput': False, 'UA': 6.67},\n",
    "        {'name': 'Wall_NW_other', 'direction': 'NW', 'area': 7.4575, 'space': 'other', 'type': 'Wall',\n",
    "         'structure': 'wood', 'IsSunshadeInput': False, 'UA': 6.67},\n",
    "        {'name': 'Wall_NW_nonliving', 'direction': 'NW', 'area': 14.915, 'space': 'nonliving', 'type': 'Wall',\n",
    "         'structure': 'wood', 'IsSunshadeInput': False, 'UA': 6.67},\n",
    "        {'name': 'Wall_NE_main', 'direction': 'NE', 'area': 15.9725, 'space': 'main', 'type': 'Wall',\n",
    "         'structure': 'wood', 'IsSunshadeInput': False, 'UA': 6.67},\n",
    "        {'name': 'Wall_NE_other', 'direction': 'NE', 'area': 15.9725, 'space': 'other', 'type': 'Wall',\n",
    "         'structure': 'wood', 'IsSunshadeInput': False, 'UA': 6.67},\n",
    "        {'name': 'Wall_NE_nonliving', 'direction': 'NE', 'area': 31.945, 'space': 'nonliving', 'type': 'Wall',\n",
    "         'structure': 'wood', 'IsSunshadeInput': False, 'UA': 6.67},\n",
    "        {'name': 'Wall_SE_main', 'direction': 'SE', 'area': 7.4275, 'space': 'main', 'type': 'Wall',\n",
    "         'structure': 'wood', 'IsSunshadeInput': False, 'UA': 6.67},\n",
    "        {'name': 'Wall_SE_other', 'direction': 'SE', 'area': 7.4275, 'space': 'other', 'type': 'Wall',\n",
    "         'structure': 'wood', 'IsSunshadeInput': False, 'UA': 6.67},\n",
    "        {'name': 'Wall_SE_nonliving', 'direction': 'SE', 'area': 14.855, 'space': 'nonliving', 'type': 'Wall',\n",
    "         'structure': 'wood', 'IsSunshadeInput': False, 'UA': 6.67},\n",
    "        {'name': 'Floor_main', 'direction': 'Bottom', 'area': 15.0175, 'space': 'main', 'type': 'Floor',\n",
    "         'structure': 'wood', 'IsSunshadeInput': False, 'UA': 5.27},\n",
    "        {'name': 'Floor_other', 'direction': 'Bottom', 'area': 15.0175, 'space': 'other', 'type': 'Floor',\n",
    "         'structure': 'wood', 'IsSunshadeInput': False, 'UA': 5.27},\n",
    "        {'name': 'Floor_nonliving', 'direction': 'Bottom', 'area': 30.035, 'space': 'nonliving', 'type': 'Floor',\n",
    "         'structure': 'wood', 'IsSunshadeInput': False, 'UA': 5.27},\n",
    "        {'name': 'Floor_bath_main', 'direction': 'Bottom', 'area': 1.1025, 'space': 'main', 'type': 'Floor',\n",
    "         'structure': 'wood', 'IsSunshadeInput': False, 'UA': 5.27},\n",
    "        {'name': 'Floor_bath_other', 'direction': 'Bottom', 'area': 1.1025, 'space': 'other', 'type': 'Floor',\n",
    "         'structure': 'wood', 'IsSunshadeInput': False, 'UA': 5.27},\n",
    "        {'name': 'Floor_bath_nonliving', 'direction': 'Bottom', 'area': 2.205, 'space': 'nonliving', 'type': 'Floor',\n",
    "         'structure': 'wood', 'IsSunshadeInput': False, 'UA': 5.27}\n",
    "    ],\n",
    "    'Windows': [\n",
    "        {'name': 'WindowSW_main', 'direction': 'SW', 'area': 7.5625, 'space': 'main', 'UW': 3.49,\n",
    "         'IsSunshadeInput': True, 'EtaCooling': None, 'EtaHeating': None, 'TypeGlass': None, 'Y1': 0, 'Y2': 1.1, 'Z': None},\n",
    "        {'name': 'WindowSW_other', 'direction': 'SW', 'area': 7.5625, 'space': 'other', 'UW': 3.49,\n",
    "         'IsSunshadeInput': True, 'EtaCooling': None, 'EtaHeating': None, 'TypeGlass': None, 'Y1': 0, 'Y2': 1.1, 'Z': None},\n",
    "        {'name': 'WindowSW_nonliving', 'direction': 'SW', 'area': 15.125, 'space': 'nonliving', 'UW': 3.49,\n",
    "         'IsSunshadeInput': True, 'EtaCooling': None, 'EtaHeating': None, 'TypeGlass': None, 'Y1': 0, 'Y2': 1.1, 'Z': None},\n",
    "        {'name': 'WindowNW_main', 'direction': 'NW', 'area': 0.7925, 'space': 'main', 'UW': 3.49,\n",
    "         'IsSunshadeInput': True, 'EtaCooling': None, 'EtaHeating': None, 'TypeGlass': None, 'Y1': 0, 'Y2': 1.1, 'Z': None},\n",
    "        {'name': 'WindowNW_other', 'direction': 'NW', 'area': 0.7925, 'space': 'other', 'UW': 3.49,\n",
    "         'IsSunshadeInput': True, 'EtaCooling': None, 'EtaHeating': None, 'TypeGlass': None, 'Y1': 0, 'Y2': 1.1, 'Z': None},\n",
    "        {'name': 'WindowNW_nonliving', 'direction': 'NW', 'area': 1.585, 'space': 'nonliving', 'UW': 3.49,\n",
    "         'IsSunshadeInput': True, 'EtaCooling': None, 'EtaHeating': None, 'TypeGlass': None, 'Y1': 0, 'Y2': 1.1, 'Z': None},\n",
    "        {'name': 'WindowNE_main', 'direction': 'NE', 'area': 1.21, 'space': 'main', 'UW': 3.49,\n",
    "         'IsSunshadeInput': True, 'EtaCooling': None, 'EtaHeating': None, 'TypeGlass': None, 'Y1': 0, 'Y2': 1.1, 'Z': None},\n",
    "        {'name': 'WindowNE_other', 'direction': 'NE', 'area': 1.21, 'space': 'other', 'UW': 3.49,\n",
    "         'IsSunshadeInput': True, 'EtaCooling': None, 'EtaHeating': None, 'TypeGlass': None, 'Y1': 0, 'Y2': 1.1, 'Z': None},\n",
    "        {'name': 'WindowNE_nonliving', 'direction': 'NE', 'area': 2.42, 'space': 'nonliving', 'UW': 3.49,\n",
    "         'IsSunshadeInput': True, 'EtaCooling': None, 'EtaHeating': None, 'TypeGlass': None, 'Y1': 0, 'Y2': 1.1, 'Z': None},\n",
    "        {'name': 'WindowSE_main', 'direction': 'SE', 'area': 1.4575, 'space': 'main', 'UW': 3.49,\n",
    "         'IsSunshadeInput': True, 'EtaCooling': None, 'EtaHeating': None, 'TypeGlass': None, 'Y1': 0, 'Y2': 1.1, 'Z': None},\n",
    "        {'name': 'WindowSE_other', 'direction': 'SE', 'area': 1.4575, 'space': 'other', 'UW': 3.49,\n",
    "         'IsSunshadeInput': True, 'EtaCooling': None, 'EtaHeating': None, 'TypeGlass': None, 'Y1': 0, 'Y2': 1.1, 'Z': None},\n",
    "        {'name': 'WindowSE_nonliving', 'direction': 'SE', 'area': 2.915, 'space': 'nonliving', 'UW': 3.49,\n",
    "         'IsSunshadeInput': True, 'EtaCooling': None, 'EtaHeating': None, 'TypeGlass': None, 'Y1': 0, 'Y2': 1.1, 'Z': None}\n",
    "    ],\n",
    "    'Doors': [\n",
    "        {'name': 'DoorNW_main', 'direction': 'NW', 'area': 0.63, 'space': 'main', 'U': 4.65, 'IsSunshadeInput': False},\n",
    "        {'name': 'DoorNW_other', 'direction': 'NW', 'area': 0.63, 'space': 'other', 'U': 4.65, 'IsSunshadeInput': False},\n",
    "        {'name': 'DoorNW_nonliving', 'direction': 'NW', 'area': 1.26, 'space': 'nonliving', 'U': 4.65, 'IsSunshadeInput': False},\n",
    "        {'name': 'DoorNE_main', 'direction': 'NE', 'area': 0.54, 'space': 'main', 'U': 4.65, 'IsSunshadeInput': False},\n",
    "        {'name': 'DoorNE_other', 'direction': 'NE', 'area': 0.54, 'space': 'other', 'U': 4.65, 'IsSunshadeInput': False},\n",
    "        {'name': 'DoorNE_nonliving', 'direction': 'NE', 'area': 1.08, 'space': 'nonliving', 'U': 4.65, 'IsSunshadeInput': False}\n",
    "    ],\n",
    "    'EarthfloorPerimeters': [\n",
    "        {'direction': 'NW', 'length': 2.43, 'name': 'Entrance_NW', 'psi': 1.8, 'space': 'underfloor'},\n",
    "        {'direction': 'NE', 'length': 1.83, 'name': 'Entrance_NE', 'psi': 1.8, 'space': 'underfloor'},\n",
    "        {'direction': 'OpenBackFloor', 'length': 4.25, 'name': 'Entrance_floor', 'psi': 1.8, 'space': 'underfloor'}\n",
    "    ]\n",
    "}\n",
    "\n",
    "convert(d)"
   ]
  },
  {
   "cell_type": "markdown",
   "metadata": {},
   "source": [
    "### 〇) 室上の床面積・室下の天井面積の推定：案１"
   ]
  },
  {
   "cell_type": "markdown",
   "metadata": {},
   "source": [
    "$A_{if,MR}$,$A_{if,OR}$,$A_{if,NR}$は、既知とする。  \n",
    "$A_{if,MR}$,$A_{if,OR}$,$A_{if,NR}$は、各用途の床下空間上の床と、方位が「下面」である外皮の部位と、土間床等の合計面積を、用途別床面積より差し引いて推定する。  \n",
    "これらより、$A_{if,MR,OR}$,$A_{if,MR,NR}$,$A_{if,OR,NR}$,$A_{if,OR,NR}$,$A_{if,NR,MR}$,$A_{if,NR,OR}$を推定する。"
   ]
  },
  {
   "cell_type": "markdown",
   "metadata": {},
   "source": [
    "各用途の室上の床面積は、その用途と他の2用途の間の室上の床面積の合計に等しい。"
   ]
  },
  {
   "cell_type": "markdown",
   "metadata": {},
   "source": [
    "$$\n",
    "\\displaystyle\n",
    "A_{if,MR} = A_{if,MR,OR}+A_{if,MR,NR}\n",
    "$$\n",
    "$$\n",
    "\\displaystyle\n",
    "A_{if,OR} = A_{if,OR,MR}+A_{if,OR,NR}\n",
    "$$\n",
    "$$\n",
    "\\displaystyle\n",
    "A_{if,NR} = A_{if,NR,MR}+A_{if,NR,OR}\n",
    "$$"
   ]
  },
  {
   "cell_type": "markdown",
   "metadata": {},
   "source": [
    "$A_{if,MR}$: その他の居室または非居室との間の、主たる居室の床の面積, m<sup>2</sup>  \n",
    "$A_{if,OR}$: 主たる居室または非居室との間の、その他の居室の床の面積, m<sup>2</sup>  \n",
    "$A_{if,NR}$: 主たる居室またはその他の居室との間の、非居室の床の面積, m<sup>2</sup>  \n",
    "$A_{if,MR,OR}$: その他の居室との間の、主たる居室の床の面積, m<sup>2</sup>  \n",
    "$A_{if,MR,NR}$: 非居室との間の、主たる居室の床の面積, m<sup>2</sup>  \n",
    "$A_{if,OR,MR}$: 主たる居室との間の、その他の居室の床の面積, m<sup>2</sup>  \n",
    "$A_{if,OR,NR}$: 非居室との間の、その他の居室の床の面積, m<sup>2</sup>  \n",
    "$A_{if,NR,MR}$: 主たる居室との間の、非居室の床の面積, m<sup>2</sup>  \n",
    "$A_{if,NR,OR}$: その他の居室との間の、非居室の床の面積, m<sup>2</sup>  "
   ]
  },
  {
   "cell_type": "markdown",
   "metadata": {},
   "source": [
    "2用途の間の天井面積は、その2用途の間の床面積と一致するものとする。  "
   ]
  },
  {
   "cell_type": "markdown",
   "metadata": {},
   "source": [
    "$$\n",
    "\\displaystyle\n",
    "A_{ic,MR,OR} = A_{if,OR,MR}\n",
    "$$\n",
    "$$\n",
    "\\displaystyle\n",
    "A_{ic,MR,NR} = A_{if,NR,MR}\n",
    "$$\n",
    "$$\n",
    "\\displaystyle\n",
    "A_{ic,OR,MR} = A_{if,MR,OR}\n",
    "$$\n",
    "$$\n",
    "\\displaystyle\n",
    "A_{ic,OR,NR} = A_{if,NR,OR}\n",
    "$$\n",
    "$$\n",
    "\\displaystyle\n",
    "A_{ic,NR,MR} = A_{if,MR,NR}\n",
    "$$\n",
    "$$\n",
    "\\displaystyle\n",
    "A_{ic,NR,OR} = A_{if,OR,NR}\n",
    "$$"
   ]
  },
  {
   "cell_type": "markdown",
   "metadata": {},
   "source": [
    "$A_{ic,MR,OR}$: その他の居室との間の、主たる居室の天井の面積, m<sup>2</sup>  \n",
    "$A_{ic,MR,NR}$: 非居室との間の、主たる居室の天井の面積, m<sup>2</sup>  \n",
    "$A_{ic,OR,MR}$: 主たる居室との間の、その他の居室の天井の面積, m<sup>2</sup>  \n",
    "$A_{ic,OR,NR}$: 非居室との間の、その他の居室の天井の面積, m<sup>2</sup>  \n",
    "$A_{ic,NR,MR}$: 主たる居室との間の、非居室の天井の面積, m<sup>2</sup>  \n",
    "$A_{ic,NR,OR}$: その他の居室との間の、非居室の天井の面積, m<sup>2</sup>  "
   ]
  },
  {
   "cell_type": "markdown",
   "metadata": {},
   "source": [
    "各用途と他の2用途との間の室下の天井面積の比率は、他の2用途の室上の床面積の比率に一致すると仮定する。"
   ]
  },
  {
   "cell_type": "markdown",
   "metadata": {},
   "source": [
    "$$\n",
    "\\displaystyle\n",
    "A_{ic,MR,OR}:A_{ic,MR,NR} = A_{if,OR,MR}:A_{if,NR,MR} = A_{if,OR}:A_{if,NR}\n",
    "$$\n",
    "$$\n",
    "\\displaystyle\n",
    "A_{ic,OR,MR}:A_{ic,OR,NR} = A_{if,MR,OR}:A_{if,NR,OR} = A_{if,MR}:A_{if,NR}\n",
    "$$\n",
    "$$\n",
    "\\displaystyle\n",
    "A_{ic,NR,MR}:A_{ic,NR,OR} = A_{if,MR,NR}:A_{if,OR,NR} = A_{if,MR}:A_{if,OR}\n",
    "$$"
   ]
  },
  {
   "cell_type": "markdown",
   "metadata": {},
   "source": [
    "以上より、$A_{if,MR,OR}$,$A_{if,MR,NR}$,$A_{if,OR,NR}$,$A_{if,OR,NR}$,$A_{if,NR,MR}$,$A_{if,NR,OR}$が算出される。"
   ]
  },
  {
   "cell_type": "markdown",
   "metadata": {},
   "source": [
    "$$\n",
    "\\displaystyle\n",
    "A_{ic,MR,OR} = A_{if,MR,NR} = \\frac{ A_{if,MR}}{2}\n",
    "$$\n",
    "$$\n",
    "\\displaystyle\n",
    "A_{ic,OR,MR} = A_{if,OR,NR} = \\frac{ A_{if,OR}}{2}\n",
    "$$\n",
    "$$\n",
    "\\displaystyle\n",
    "A_{ic,NR,MR} = A_{if,NR,OR} = \\frac{ A_{if,NR}}{2}\n",
    "$$"
   ]
  },
  {
   "cell_type": "markdown",
   "metadata": {},
   "source": [
    "$A_{if,NR,MR}$の算出の詳細は以下。他の2用途間についても同様。"
   ]
  },
  {
   "cell_type": "markdown",
   "metadata": {},
   "source": [
    "$\n",
    "\\displaystyle\n",
    "A_{if,MR,OR} = A_{if,MR} - A_{if,MR,NR}   \n",
    "$  \n",
    "$\n",
    "\\displaystyle\n",
    "　　　　= A_{if,MR} - A_{if,OR,NR} \\times \\frac{A_{if,MR}}{A_{if,OR}}  \n",
    "$  \n",
    "$\n",
    "\\displaystyle\n",
    "　　　　= A_{if,MR} - ( A_{if,OR} - A_{if,OR,MR}) \\times \\frac{A_{if,MR}}{A_{if,OR}}   \n",
    "$  \n",
    "$\n",
    "\\displaystyle\n",
    "　　　　= A_{if,MR} - ( A_{if,OR} - A_{if,NR,MR} \\times \\frac{A_{if,OR}}{A_{if,NR}}) \\times \\frac{A_{if,MR}}{A_{if,OR}}  \n",
    "$  \n",
    "$\n",
    "\\displaystyle\n",
    "　　　　= A_{if,NR,MR}\\times \\frac{A_{if,MR}}{A_{if,NR}}\n",
    "$  \n",
    "$\n",
    "\\displaystyle\n",
    "A_{if,MR} : A_{if,NR} = A_{if,MR,OR} : A_{if,NR,OR} = A_{if,NR,MR}\\times \\frac{A_{if,MR}}{A_{if,NR}} : A_{if,NR} - A_{if,NR,MR}\n",
    "$\n",
    "\n",
    "$$\n",
    "\\displaystyle\n",
    "∴　A_{if,NR,MR} = \\frac{A_{if,NR}}{2}\n",
    "$$"
   ]
  },
  {
   "cell_type": "markdown",
   "metadata": {},
   "source": [
    "懸案事項  \n",
    "　各用途の床面積（天井面積に等しいと想定）から、各用途の上向きの外皮の面積を差し引くと、各用途の室上の天井面積が推定される。  \n",
    "　上記の方法で算出された各用途の室上の天井面積とは、乖離が生じ得る。"
   ]
  },
  {
   "cell_type": "markdown",
   "metadata": {},
   "source": [
    "#### Function"
   ]
  },
  {
   "cell_type": "code",
   "execution_count": null,
   "metadata": {},
   "outputs": [],
   "source": [
    "def get_area_floor_over_room_type1(A_if):\n",
    "   \n",
    "    return {'main to other'      : A_if['main']/2,\n",
    "            'main to nonliving'  : A_if['main']/2,\n",
    "            'other to main'      : A_if['other']/2,\n",
    "            'other to nonliving' : A_if['other']/2,\n",
    "            'nonliving to main'  : A_if['nonliving']/2,\n",
    "            'nonliving to other' : A_if['nonliving']/2}"
   ]
  },
  {
   "cell_type": "markdown",
   "metadata": {},
   "source": [
    "#### Example"
   ]
  },
  {
   "cell_type": "code",
   "execution_count": null,
   "metadata": {},
   "outputs": [],
   "source": [
    "A_if = {'main': 6, 'other':3, 'nonliving': 6}\n",
    "\n",
    "print(get_area_floor_over_room_type1(A_if))"
   ]
  },
  {
   "cell_type": "markdown",
   "metadata": {},
   "source": [
    "### 〇) 室上の床面積・室下の天井面積の推定：案２"
   ]
  },
  {
   "cell_type": "markdown",
   "metadata": {},
   "source": [
    "$A_{if,MR}$,$A_{if,OR}$,$A_{if,NR}$,$A_{ic,MR,temp}$,$A_{ic,OR,temp}$,$A_{ic,NR,temp}$は既知とする。   \n",
    "$A_{if,MR}$,$A_{if,OR}$,$A_{if,NR}$は、各用途の床下空間上の床と、方位が「下面」である外皮の部位と、土間床等の合計面積を、用途別床面積より差し引いて推定する。\n",
    "$A_{ic,MR,temp}$,$A_{ic,OR,temp}$,$A_{ic,NR,temp}$は、各用途の方位が「上面」である外皮の部位の合計面積を、用途別床面積より差し引いて推定する。  \n",
    "これらより、$A_{if,MR,OR}$,$A_{if,MR,NR}$,$A_{if,OR,NR}$,$A_{if,OR,NR}$,$A_{if,NR,MR}$,$A_{if,NR,OR}$を推定する。"
   ]
  },
  {
   "cell_type": "markdown",
   "metadata": {},
   "source": [
    "各用途の室上の床面積は、その用途と他の2用途の間の室上の床面積の合計に等しい。"
   ]
  },
  {
   "cell_type": "markdown",
   "metadata": {},
   "source": [
    "$$\n",
    "\\displaystyle\n",
    "A_{if,MR} = A_{if,MR,OR}+A_{if,MR,NR}\n",
    "$$\n",
    "$$\n",
    "\\displaystyle\n",
    "A_{if,OR} = A_{if,OR,MR}+A_{if,OR,NR}\n",
    "$$\n",
    "$$\n",
    "\\displaystyle\n",
    "A_{if,NR} = A_{if,NR,MR}+A_{if,NR,OR}\n",
    "$$"
   ]
  },
  {
   "cell_type": "markdown",
   "metadata": {},
   "source": [
    "$A_{if,MR}$: その他の居室または非居室との間の、主たる居室の床の面積, m<sup>2</sup>  \n",
    "$A_{if,OR}$: 主たる居室または非居室との間の、その他の居室の床の面積, m<sup>2</sup>  \n",
    "$A_{if,NR}$: 主たる居室またはその他の居室との間の、非居室の床の面積, m<sup>2</sup>  \n",
    "$A_{if,MR,OR}$: その他の居室との間の、主たる居室の床の面積, m<sup>2</sup>  \n",
    "$A_{if,MR,NR}$: 非居室との間の、主たる居室の床の面積, m<sup>2</sup>  \n",
    "$A_{if,OR,MR}$: 主たる居室との間の、その他の居室の床の面積, m<sup>2</sup>  \n",
    "$A_{if,OR,NR}$: 非居室との間の、その他の居室の床の面積, m<sup>2</sup>  \n",
    "$A_{if,NR,MR}$: 主たる居室との間の、非居室の床の面積, m<sup>2</sup>  \n",
    "$A_{if,NR,OR}$: その他の居室との間の、非居室の床の面積, m<sup>2</sup>  "
   ]
  },
  {
   "cell_type": "markdown",
   "metadata": {},
   "source": [
    "2用途の間の天井面積は、その2用途の間の床面積と一致するものとする。  "
   ]
  },
  {
   "cell_type": "markdown",
   "metadata": {},
   "source": [
    "$$\n",
    "\\displaystyle\n",
    "A_{ic,MR,OR} = A_{if,OR,MR}\n",
    "$$\n",
    "$$\n",
    "\\displaystyle\n",
    "A_{ic,MR,NR} = A_{if,NR,MR}\n",
    "$$\n",
    "$$\n",
    "\\displaystyle\n",
    "A_{ic,OR,MR} = A_{if,MR,OR}\n",
    "$$\n",
    "$$\n",
    "\\displaystyle\n",
    "A_{ic,OR,NR} = A_{if,NR,OR}\n",
    "$$\n",
    "$$\n",
    "\\displaystyle\n",
    "A_{ic,NR,MR} = A_{if,MR,NR}\n",
    "$$\n",
    "$$\n",
    "\\displaystyle\n",
    "A_{ic,NR,OR} = A_{if,OR,NR}\n",
    "$$"
   ]
  },
  {
   "cell_type": "markdown",
   "metadata": {},
   "source": [
    "$A_{ic,MR,OR}$: その他の居室との間の、主たる居室の天井の面積, m<sup>2</sup>  \n",
    "$A_{ic,MR,NR}$: 非居室との間の、主たる居室の天井の面積, m<sup>2</sup>  \n",
    "$A_{ic,OR,MR}$: 主たる居室との間の、その他の居室の天井の面積, m<sup>2</sup>  \n",
    "$A_{ic,OR,NR}$: 非居室との間の、その他の居室の天井の面積, m<sup>2</sup>  \n",
    "$A_{ic,NR,MR}$: 主たる居室との間の、非居室の天井の面積, m<sup>2</sup>  \n",
    "$A_{ic,NR,OR}$: その他の居室との間の、非居室の天井の面積, m<sup>2</sup>  "
   ]
  },
  {
   "cell_type": "markdown",
   "metadata": {},
   "source": [
    "各用途の室上の床面積の合計、各用途の室下の天井面積の合計、各用途の室下の天井面積の暫定値の合計は、以下のとおり。"
   ]
  },
  {
   "cell_type": "markdown",
   "metadata": {},
   "source": [
    "$$\n",
    "\\displaystyle\n",
    "A_{if} = A_{if,MR} + A_{if,OR} + A_{if,NR}\n",
    "$$\n",
    "$$\n",
    "\\displaystyle\n",
    "A_{ic,temp} = A_{ic,MR,temp} + A_{ic,OR,temp} + A_{ic,NR,temp}\n",
    "$$"
   ]
  },
  {
   "cell_type": "markdown",
   "metadata": {},
   "source": [
    "$A_{if}$: 室上の床の面積の合計, m<sup>2</sup>  \n",
    "$A_{ic,MR,temp}$: その他の居室または非居室との間の、主たる居室の天井の面積の暫定値, m<sup>2</sup>  \n",
    "$A_{ic,OR,temp}$: 主たる居室または非居室との間の、その他の居室の天井の面積の暫定値, m<sup>2</sup>  \n",
    "$A_{ic,NR,temp}$: 主たる居室またはその他の居室との間の、非居室の天井の面積の暫定値, m<sup>2</sup>  "
   ]
  },
  {
   "cell_type": "markdown",
   "metadata": {},
   "source": [
    "各用途の室下の天井面積は、その用途と他の2用途の間の室下の天井面積の合計に等しい。  \n",
    "各用途の室下の天井面積は、他の2用途の室上の床面積以下である必要がある。"
   ]
  },
  {
   "cell_type": "markdown",
   "metadata": {},
   "source": [
    "$$\n",
    "\\displaystyle\n",
    "A_{ic,MR} = A_{ic,MR,OR}+A_{ic,MR,NR} = A_{if,OR,MR}+A_{if,NR,MR} ≦ A_{if,OR}+A_{if,NR}\n",
    "$$\n",
    "$$\n",
    "\\displaystyle\n",
    "A_{ic,OR} = A_{ic,OR,MR}+A_{ic,OR,NR} = A_{if,MR,OR}+A_{if,NR,OR} ≦ A_{if,MR}+A_{if,NR}\n",
    "$$\n",
    "$$\n",
    "\\displaystyle\n",
    "A_{ic,NR} = A_{ic,NR,MR}+A_{ic,NR,OR} = A_{if,MR,NR}+A_{if,OR,NR} ≦ A_{if,MR}+A_{if,OR}\n",
    "$$"
   ]
  },
  {
   "cell_type": "markdown",
   "metadata": {},
   "source": [
    "$A_{ic,MR}$: その他の居室または非居室との間の、主たる居室の天井の面積, m<sup>2</sup>  \n",
    "$A_{ic,OR}$: 主たる居室または非居室との間の、その他の居室の天井の面積, m<sup>2</sup>  \n",
    "$A_{ic,NR}$: 主たる居室またはその他の居室との間の、非居室の天井の面積, m<sup>2</sup>  "
   ]
  },
  {
   "cell_type": "markdown",
   "metadata": {},
   "source": [
    "上記を満たすよう、$A_{ic,MR,temp}$,$A_{ic,OR,temp}$,$A_{ic,NR,temp}$を調整して、$A_{ic,MR}$,$A_{ic,OR}$,$A_{ic,NR}$を決定する。"
   ]
  },
  {
   "cell_type": "markdown",
   "metadata": {},
   "source": [
    "$$\n",
    "\\displaystyle\n",
    "A_{ic,MR} = \\left \\{\n",
    "\\begin{array}{ll}\n",
    "A_{if,OR} + A_{if,NR} & ( A_{if} \\times \\frac{A_{ic,MR,temp}}{A_{ic,temp}} > A_{if,OR} + A_{if,NR} ) \\\\\n",
    "A_{if,OR} \\times \\frac{A_{ic,MR,temp}}{A_{ic,MR,temp} + A_{ic,NR,temp}} & ( A_{if} \\times \\frac{A_{ic,OR,temp}}{A_{ic,temp}} > A_{if,MR} + A_{if,NR} ) \\\\\n",
    "A_{if,NR} \\times \\frac{A_{ic,MR,temp}}{A_{ic,MR,temp} + A_{ic,OR,temp}} & ( A_{if} \\times \\frac{A_{ic,NR,temp}}{A_{ic,temp}} > A_{if,MR} + A_{if,OR} ) \\\\\n",
    "A_{if} \\times \\frac{A_{ic,MR,temp}}{A_{ic,temp}} & ( 上記以外) \\\\\n",
    "\\end{array}\n",
    "\\right.\n",
    "$$\n",
    "$$\n",
    "\\displaystyle\n",
    "A_{ic,OR} = \\left \\{\n",
    "\\begin{array}{ll}\n",
    "A_{if,MR} \\times \\frac{A_{ic,OR,temp}}{A_{ic,OR,temp} + A_{ic,NR,temp}} & ( A_{if} \\times \\frac{A_{ic,MR,temp}}{A_{ic,temp}} > A_{if,OR} + A_{if,NR} ) \\\\\n",
    "A_{if,MR} + A_{if,NR} & ( A_{if} \\times \\frac{A_{ic,OR,temp}}{A_{ic,temp}} > A_{if,MR} + A_{if,NR} ) \\\\\n",
    "A_{if,NR} \\times \\frac{A_{ic,OR,temp}}{A_{ic,MR,temp} + A_{ic,OR,temp}} & ( A_{if} \\times \\frac{A_{ic,NR,temp}}{A_{ic,temp}} > A_{if,MR} + A_{if,OR} ) \\\\\n",
    "A_{if} \\times \\frac{A_{ic,OR,temp}}{A_{ic,temp}} & ( 上記以外) \\\\\n",
    "\\end{array}\n",
    "\\right.\n",
    "$$\n",
    "$$\n",
    "\\displaystyle\n",
    "A_{ic,NR} = \\left \\{\n",
    "\\begin{array}{ll}\n",
    "A_{if,MR} \\times \\frac{A_{ic,NR,temp}}{A_{ic,OR,temp} + A_{ic,NR,temp}} & ( A_{if} \\times \\frac{A_{ic,MR,temp}}{A_{ic,temp}} > A_{if,OR} + A_{if,NR} ) \\\\\n",
    "A_{if,OR} \\times \\frac{A_{ic,NR,temp}}{A_{ic,MR,temp} + A_{ic,NR,temp}} & ( A_{if} \\times \\frac{A_{ic,OR,temp}}{A_{ic,temp}} > A_{if,MR} + A_{if,NR} ) \\\\\n",
    "A_{if,MR} + A_{if,OR} & ( A_{if} \\times \\frac{A_{ic,NR,temp}}{A_{ic,temp}} > A_{if,MR} + A_{if,OR} ) \\\\\n",
    "A_{if} \\times \\frac{A_{ic,NR,temp}}{A_{ic,temp}} & ( 上記以外) \\\\\n",
    "\\end{array}\n",
    "\\right.\n",
    "$$"
   ]
  },
  {
   "cell_type": "markdown",
   "metadata": {},
   "source": [
    "2用途間の床面積・天井面積が0㎡以上となるには、以下を満たす必要がある。"
   ]
  },
  {
   "cell_type": "markdown",
   "metadata": {},
   "source": [
    "$$\n",
    "\\displaystyle\n",
    "A_{if,MR,OR} ≧ max(0,A_{if,MR} - A_{if,MR,NR},A_{ic,OR} - A_{if,NR,OR}) ≧ max(0,A_{if,MR} - A_{ic,NR},A_{ic,OR} - A_{if,NR})\n",
    "$$\n",
    "$$\n",
    "\\displaystyle\n",
    "A_{if,MR,NR} ≧ max(0,A_{if,MR} - A_{if,MR,OR},A_{ic,NR} - A_{if,OR,NR}) ≧ max(0,A_{if,MR} - A_{ic,OR},A_{ic,NR} - A_{if,OR})\n",
    "$$\n",
    "$$\n",
    "\\displaystyle\n",
    "A_{if,OR,MR} ≧ max(0,A_{if,OR} - A_{if,OR,NR},A_{ic,MR} - A_{if,NR,MR}) ≧ max(0,A_{if,OR} - A_{ic,NR},A_{ic,MR} - A_{if,NR})\n",
    "$$\n",
    "$$\n",
    "\\displaystyle\n",
    "A_{if,OR,NR} ≧ max(0,A_{if,OR} - A_{if,OR,MR},A_{ic,NR} - A_{if,MR,NR}) ≧ max(0,A_{if,OR} - A_{ic,MR},A_{ic,NR} - A_{if,MR})\n",
    "$$$$\n",
    "\\displaystyle\n",
    "A_{if,NR,MR} ≧ max(0,A_{if,NR} - A_{if,NR,OR},A_{ic,MR} - A_{if,OR,MR}) ≧ max(0,A_{if,NR} - A_{ic,OR},A_{ic,MR} - A_{if,OR})\n",
    "$$\n",
    "$$\n",
    "\\displaystyle\n",
    "A_{if,NR,OR} ≧ max(0,A_{if,NR} - A_{if,NR,MR},A_{ic,OR} - A_{if,MR,OR}) ≧ max(0,A_{if,NR} - A_{ic,MR},A_{ic,OR} - A_{if,MR})\n",
    "$$"
   ]
  },
  {
   "cell_type": "markdown",
   "metadata": {},
   "source": [
    "上記を満たす場合に、隣接する用途が決定されない室上の床面積は、他の2用途に1/2ずつ分配する。"
   ]
  },
  {
   "cell_type": "markdown",
   "metadata": {},
   "source": [
    "$$\n",
    "\\displaystyle\n",
    "A_{if,MR,OR} = max(0,A_{if,MR} - A_{ic,NR},A_{ic,OR} - A_{if,NR}) + \\frac{A_{if,MR} - max(0,A_{if,MR} - A_{ic,NR},A_{ic,OR} - A_{if,NR}) - max(0,A_{if,MR} - A_{ic,OR},A_{ic,NR} - A_{if,OR})}{2}\n",
    "$$\n",
    "$$\n",
    "\\displaystyle\n",
    "A_{if,MR,NR} = max(0,A_{if,MR} - A_{ic,OR},A_{ic,NR} - A_{if,OR}) + \\frac{A_{if,MR} - max(0,A_{if,MR} - A_{ic,NR},A_{ic,OR} - A_{if,NR}) - max(0,A_{if,MR} - A_{ic,OR},A_{ic,NR} - A_{if,OR})}{2}\n",
    "$$\n",
    "$$\n",
    "\\displaystyle\n",
    "A_{if,OR,MR} = max(0,A_{if,OR} - A_{ic,NR},A_{ic,MR} - A_{if,NR})) + \\frac{A_{if,OR} - max(0,A_{if,OR} - A_{ic,NR},A_{ic,MR} - A_{if,NR})) - max(0,A_{if,OR} - A_{ic,MR},A_{ic,NR} - A_{if,MR})}{2}\n",
    "$$\n",
    "$$\n",
    "\\displaystyle\n",
    "A_{if,OR,NR} = max(0,A_{if,OR} - A_{ic,MR},A_{ic,NR} - A_{if,MR}) + \\frac{A_{if,OR} - max(0,A_{if,OR} - A_{ic,NR},A_{ic,MR} - A_{if,NR})) - max(0,A_{if,OR} - A_{ic,MR},A_{ic,NR} - A_{if,MR})}{2}\n",
    "$$$$\n",
    "\\displaystyle\n",
    "A_{if,NR,MR} = max(0,A_{if,NR} - A_{ic,OR},A_{ic,MR} - A_{if,OR}) + \\frac{A_{if,NR} - max(0,A_{if,NR} - A_{ic,OR},A_{ic,MR} - A_{if,OR}) - max(0,A_{if,NR} - A_{ic,MR},A_{ic,OR} - A_{if,MR}) }{2}\n",
    "$$\n",
    "$$\n",
    "\\displaystyle\n",
    "A_{if,NR,OR} = max(0,A_{if,NR} - A_{ic,MR},A_{ic,OR} - A_{if,MR}) + \\frac{A_{if,NR} - max(0,A_{if,NR} - A_{ic,OR},A_{ic,MR} - A_{if,OR}) - max(0,A_{if,NR} - A_{ic,MR},A_{ic,OR} - A_{if,MR}) }{2}\n",
    "$$"
   ]
  },
  {
   "cell_type": "markdown",
   "metadata": {},
   "source": [
    "懸案事項  \n",
    "　推定方法が複雑である。"
   ]
  },
  {
   "cell_type": "markdown",
   "metadata": {},
   "source": [
    "#### Function"
   ]
  },
  {
   "cell_type": "code",
   "execution_count": null,
   "metadata": {},
   "outputs": [],
   "source": [
    "def get_area_floor_over_room_type2(A_if, A_ic_temp):\n",
    "    \n",
    "    A_if_sum = sum( A_if[x] for x in A_if.keys() )\n",
    "    A_ic_temp_sum = sum( A_ic_temp[x] for x in A_ic_temp.keys() )\n",
    "    \n",
    "    if A_if_sum*A_ic_temp['main']/A_ic_temp_sum > A_if['other'] + A_if['nonliving'] :\n",
    "        A_ic = {\n",
    "            'main': A_if['other'] + A_if['nonliving'],\n",
    "            'other': A_if['main']*A_ic_temp['other']/(A_ic_temp['other'] + A_ic_temp['nonliving']),\n",
    "            'nonliving': A_if['main']*A_ic_temp['nonliving']/(A_ic_temp['other'] + A_ic_temp['nonliving'])\n",
    "        }\n",
    "    elif A_if_sum*A_ic_temp['other']/A_ic_temp_sum > A_if['main'] + A_if['nonliving'] :\n",
    "        A_ic = {\n",
    "            'main': A_if['other']*A_ic_temp['main']/(A_ic_temp['main'] + A_ic_temp['nonliving']),\n",
    "            'other': A_if['main'] + A_if['nonliving'],\n",
    "            'nonliving': A_if['other']*A_ic_temp['nonliving']/(A_ic_temp['main'] + A_ic_temp['nonliving'])\n",
    "        }\n",
    "    elif A_if_sum*A_ic_temp['nonliving']/A_ic_temp_sum > A_if['main'] + A_if['other'] :\n",
    "        A_ic = {\n",
    "            'main': A_if['nonliving']*A_ic_temp['main']/(A_ic_temp['main'] + A_ic_temp['other']),\n",
    "            'other': A_if['nonliving']*A_ic_temp['other']/(A_ic_temp['main'] + A_ic_temp['other']),\n",
    "            'nonliving': A_if['main'] + A_if['other']\n",
    "        }\n",
    "    else :\n",
    "        A_ic = {\n",
    "            'main': A_if_sum*A_ic_temp['main']/A_ic_temp_sum,\n",
    "            'other': A_if_sum*A_ic_temp['other']/A_ic_temp_sum,\n",
    "            'nonliving': A_if_sum*A_ic_temp['nonliving']/A_ic_temp_sum\n",
    "        } \n",
    "\n",
    "    A_if_min = {\n",
    "        'main to other'      : max(0, A_if['main'] - A_ic['nonliving'], A_ic['other'] - A_if['nonliving']),\n",
    "        'main to nonliving'  : max(0, A_if['main'] - A_ic['other'], A_ic['nonliving'] - A_if['other']),\n",
    "        'other to main'      : max(0, A_if['other'] - A_ic['nonliving'], A_ic['main'] - A_if['nonliving']),\n",
    "        'other to nonliving' : max(0, A_if['other'] - A_ic['main'], A_ic['nonliving'] - A_if['main']),\n",
    "        'nonliving to main'  : max(0, A_if['nonliving'] - A_ic['other'], A_ic['main'] - A_if['other']),\n",
    "        'nonliving to other' : max(0, A_if['nonliving'] - A_ic['main'], A_ic['other'] - A_if['main'])\n",
    "    }\n",
    "   \n",
    "    return {'main to other'      : A_if_min['main to other']\n",
    "                                   + (A_if['main'] - A_if_min['main to other'] - A_if_min['main to nonliving'])/2,\n",
    "            'main to nonliving'  : A_if_min['main to nonliving']\n",
    "                                   + (A_if['main'] - A_if_min['main to other'] - A_if_min['main to nonliving'])/2,\n",
    "            'other to main'      : A_if_min['other to main']\n",
    "                                   + (A_if['other'] - A_if_min['other to main'] - A_if_min['other to nonliving'])/2,\n",
    "            'other to nonliving' : A_if_min['other to nonliving']\n",
    "                                   + (A_if['other'] - A_if_min['other to main'] - A_if_min['other to nonliving'])/2,\n",
    "            'nonliving to main'  : A_if_min['nonliving to main']\n",
    "                                   + (A_if['nonliving'] - A_if_min['nonliving to main'] - A_if_min['nonliving to other'])/2,\n",
    "            'nonliving to other' : A_if_min['nonliving to other']\n",
    "                                   + (A_if['nonliving'] - A_if_min['nonliving to main'] - A_if_min['nonliving to other'])/2}"
   ]
  },
  {
   "cell_type": "markdown",
   "metadata": {},
   "source": [
    "#### Example"
   ]
  },
  {
   "cell_type": "code",
   "execution_count": null,
   "metadata": {},
   "outputs": [],
   "source": [
    "A_if = {'main': 6, 'other':3, 'nonliving': 6}\n",
    "A_ic_temp = {'main': 1, 'other':3, 'nonliving': 2}\n",
    "\n",
    "print(get_area_floor_over_room_type2(A_if, A_ic_temp))"
   ]
  },
  {
   "cell_type": "code",
   "execution_count": null,
   "metadata": {},
   "outputs": [],
   "source": []
  }
 ],
 "metadata": {
  "kernelspec": {
   "display_name": "Python 3",
   "language": "python",
   "name": "python3"
  },
  "language_info": {
   "codemirror_mode": {
    "name": "ipython",
    "version": 3
   },
   "file_extension": ".py",
   "mimetype": "text/x-python",
   "name": "python",
   "nbconvert_exporter": "python",
   "pygments_lexer": "ipython3",
   "version": "3.6.4"
  }
 },
 "nbformat": 4,
 "nbformat_minor": 2
}
