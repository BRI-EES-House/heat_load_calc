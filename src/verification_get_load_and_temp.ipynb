{
 "cells": [
  {
   "cell_type": "code",
   "execution_count": 1,
   "metadata": {},
   "outputs": [],
   "source": [
    "import numpy as np\n",
    "\n",
    "from s4_1_sensible_heat import get_load_and_temp"
   ]
  },
  {
   "cell_type": "markdown",
   "metadata": {},
   "source": [
    "未知のパラメータ（室温・対流負荷・放射負荷）が室ごとに変わる場合にそれぞれを求める関数が正しいかをチェックする"
   ]
  },
  {
   "cell_type": "markdown",
   "metadata": {},
   "source": [
    "室温・対流負荷・放射負荷は下式で表されると仮定する。"
   ]
  },
  {
   "cell_type": "markdown",
   "metadata": {},
   "source": [
    "$$ \\boldsymbol{kt} \\: \\boldsymbol{\\theta} = \\boldsymbol{kc} \\: \\boldsymbol{Lc} + \\boldsymbol{kr} \\: \\boldsymbol{Lr} + \\boldsymbol{k} $$"
   ]
  },
  {
   "cell_type": "markdown",
   "metadata": {},
   "source": [
    "ここで検証用として、kt, kc, kr, k の値として以下の値とする。（部屋数は3部屋を想定する。）"
   ]
  },
  {
   "cell_type": "code",
   "execution_count": 2,
   "metadata": {},
   "outputs": [],
   "source": [
    "kt = np.array([[1.0, 0.1, 0.1],[0.1, 1.0, 0.1],[0.1, 0.1, 1.0]])\n",
    "kc = np.array([[6.0, 1.0, 0.5],[2.5, 8.0, 1.5],[3.0, 2.5, 8.0]])\n",
    "kr = np.array([[4.0, 2.0, 1.0],[2.5, 4.0, 2.0],[1.0, 0.5, 6.0]])\n",
    "k = np.array([[20.0],[18.0],[10.0]])"
   ]
  },
  {
   "cell_type": "markdown",
   "metadata": {},
   "source": [
    "テスト用の関数"
   ]
  },
  {
   "cell_type": "code",
   "execution_count": 3,
   "metadata": {},
   "outputs": [],
   "source": [
    "def for_test(_T, _LC, _LR):\n",
    "\n",
    "    def cvt(d):\n",
    "        \n",
    "        p1 = np.zeros((3,1))\n",
    "        p2 = np.zeros((3,1))\n",
    "        \n",
    "        for i in range(3):\n",
    "            if d[i] == 'ND':\n",
    "                p1[i, 0] = 1\n",
    "                p2[i, 0] = 0.0\n",
    "            else:\n",
    "                p1[i, 0] = 0\n",
    "                p2[i, 0] = float(d[i])\n",
    "        \n",
    "        return p1, p2\n",
    "                \n",
    "    nt, theta_set = cvt(_T)\n",
    "\n",
    "    c, lc_set = cvt(_LC)\n",
    "    \n",
    "    r, lr_set = cvt(_LR)\n",
    "\n",
    "    theta, lc, lr = get_load_and_temp(\n",
    "        kt=kt, kc=kc, kr=kr, k=k, nt=nt, theta_set=theta_set, c=c, lc_set=lc_set, r=r, lr_set=lr_set)\n",
    "\n",
    "    print('===計算された値===')\n",
    "    print('室温: [0] ' + str(theta[0, 0]) + ' [1] ' + str(theta[1, 0]) + ' [2] '+ str(theta[2, 0]))\n",
    "    print('対流負荷 [0] ' + str(lc[0, 0]) + ' [1] ' + str(lc[1, 0]) + ' [2] '+ str(lc[2, 0]))\n",
    "    print('放射負荷 [0] ' + str(lr[0, 0]) + ' [1] ' + str(lr[1, 0]) + ' [2] '+ str(lr[2, 0]))\n",
    "    \n",
    "    print('===設置が維持されていることを確認===')\n",
    "    theta_set[nt == 1] = np.nan\n",
    "    print('設定された温度: [0] '\n",
    "          + str(theta_set[0, 0]) + ' [1] ' + str(theta_set[1, 0]) + ' [2] '+ str(theta_set[2, 0]))\n",
    "    lc_set[c == 1] = np.nan\n",
    "    print('設定された対流負荷: [0] '\n",
    "          + str(lc_set[0, 0]) + ' [1] ' + str(lc_set[1, 0]) + ' [2] '+ str(lc_set[2, 0]))\n",
    "    lr_set[r == 1] = np.nan\n",
    "    print('設定された放射負荷: [0] '\n",
    "          + str(lr_set[0, 0]) + ' [1] ' + str(lr_set[1, 0]) + ' [2] '+ str(lr_set[2, 0]))\n",
    "\n",
    "    print('===Lc Lr から theta を計算し、一致していることを確認する。===')\n",
    "    tc = np.dot(np.linalg.inv(kt), np.dot(kc, lc) + np.dot(kr, lr) + k)\n",
    "    print('再計算された室温（検算用）: [0] ' + str(tc[0, 0]) + ' [1] ' + str(tc[1, 0]) + ' [2] '+ str(tc[2, 0]))"
   ]
  },
  {
   "cell_type": "markdown",
   "metadata": {},
   "source": [
    "# 検算"
   ]
  },
  {
   "cell_type": "markdown",
   "metadata": {},
   "source": [
    "空調をしない場合  \n",
    "- 室温を指定しない  \n",
    "- 対流空調負荷は0を指定する  \n",
    "- 放射空調負荷は0を指定する"
   ]
  },
  {
   "cell_type": "code",
   "execution_count": 4,
   "metadata": {},
   "outputs": [
    {
     "name": "stdout",
     "output_type": "stream",
     "text": [
      "===計算された値===\n",
      "室温: [0] 17.77777777777778 [1] 15.555555555555559 [2] 6.666666666666668\n",
      "対流負荷 [0] 0.0 [1] 0.0 [2] 0.0\n",
      "放射負荷 [0] 0.0 [1] 0.0 [2] 0.0\n",
      "===設置が維持されていることを確認===\n",
      "設定された温度: [0] nan [1] nan [2] nan\n",
      "設定された対流負荷: [0] 0.0 [1] 0.0 [2] 0.0\n",
      "設定された放射負荷: [0] 0.0 [1] 0.0 [2] 0.0\n",
      "===Lc Lr から theta を計算し、一致していることを確認する。===\n",
      "再計算された室温（検算用）: [0] 17.77777777777778 [1] 15.555555555555559 [2] 6.666666666666668\n"
     ]
    }
   ],
   "source": [
    "for_test(_T=['ND', 'ND', 'ND'], _LC=['0.0', '0.0', '0.0'], _LR=['0.0', '0.0', '0.0'])"
   ]
  },
  {
   "cell_type": "markdown",
   "metadata": {},
   "source": [
    "対流空調をする場合  \n",
    "- 室温を指定する（20.0, 20.0, 20.0 とする。）\n",
    "- 対流空調負荷は指定しない\n",
    "- 放射空調負荷"
   ]
  },
  {
   "cell_type": "code",
   "execution_count": 5,
   "metadata": {},
   "outputs": [
    {
     "name": "stdout",
     "output_type": "stream",
     "text": [
      "===計算された値===\n",
      "室温: [0] 20.0 [1] 20.0 [2] 20.0\n",
      "対流負荷 [0] 0.49091583240637743 [1] 0.3218390804597701 [2] 1.4653318502039303\n",
      "放射負荷 [0] 0.0 [1] 0.0 [2] 0.0\n",
      "===設置が維持されていることを確認===\n",
      "設定された温度: [0] 20.0 [1] 20.0 [2] 20.0\n",
      "設定された対流負荷: [0] nan [1] nan [2] nan\n",
      "設定された放射負荷: [0] 0.0 [1] 0.0 [2] 0.0\n",
      "===Lc Lr から theta を計算し、一致していることを確認する。===\n",
      "再計算された室温（検算用）: [0] 20.000000000000004 [1] 20.000000000000004 [2] 20.0\n"
     ]
    }
   ],
   "source": [
    "for_test(_T=['20.0', '20.0', '20.0'], _LC=['ND', 'ND', 'ND'], _LR=['0.0', '0.0', '0.0'])"
   ]
  },
  {
   "cell_type": "markdown",
   "metadata": {},
   "source": [
    "放射空調をする場合  \n",
    "- 室温を指定する（20.0, 20.0, 20.0 とする。）\n",
    "- 対流空調負荷はは0.0とする。\n",
    "- 放射空調負荷は指定しない。"
   ]
  },
  {
   "cell_type": "code",
   "execution_count": 6,
   "metadata": {},
   "outputs": [
    {
     "name": "stdout",
     "output_type": "stream",
     "text": [
      "===計算された値===\n",
      "室温: [0] 20.0 [1] 20.0 [2] 20.0\n",
      "対流負荷 [0] 0.0 [1] 0.0 [2] 0.0\n",
      "放射負荷 [0] 0.36363636363636376 [1] 0.14229249011857692 [2] 2.2608695652173916\n",
      "===設置が維持されていることを確認===\n",
      "設定された温度: [0] 20.0 [1] 20.0 [2] 20.0\n",
      "設定された対流負荷: [0] 0.0 [1] 0.0 [2] 0.0\n",
      "設定された放射負荷: [0] nan [1] nan [2] nan\n",
      "===Lc Lr から theta を計算し、一致していることを確認する。===\n",
      "再計算された室温（検算用）: [0] 20.000000000000004 [1] 20.000000000000004 [2] 20.0\n"
     ]
    }
   ],
   "source": [
    "for_test(_T=['20.0', '20.0', '20.0'], _LC=['0.0', '0.0', '0.0'], _LR=['ND', 'ND', 'ND'])"
   ]
  },
  {
   "cell_type": "markdown",
   "metadata": {},
   "source": [
    "放射空調に上限値が指定され、その残りを対流空調で補う場合  \n",
    "- 室温を指定する\n",
    "- 対流空調負荷は指定しない\n",
    "- 放射空調負荷は指定する（1つ前の値を参考に放射空調だけのパターン"
   ]
  },
  {
   "cell_type": "code",
   "execution_count": 7,
   "metadata": {
    "scrolled": false
   },
   "outputs": [
    {
     "name": "stdout",
     "output_type": "stream",
     "text": [
      "===計算された値===\n",
      "室温: [0] 20.0 [1] 20.0 [2] 20.0\n",
      "対流負荷 [0] 0.1573971078976643 [1] 0.08793103448275866 [2] 0.13537263626251383\n",
      "放射負荷 [0] 0.2 [1] 0.05 [2] 2.0\n",
      "===設置が維持されていることを確認===\n",
      "設定された温度: [0] 20.0 [1] 20.0 [2] 20.0\n",
      "設定された対流負荷: [0] nan [1] nan [2] nan\n",
      "設定された放射負荷: [0] 0.2 [1] 0.05 [2] 2.0\n",
      "===Lc Lr から theta を計算し、一致していることを確認する。===\n",
      "再計算された室温（検算用）: [0] 20.000000000000004 [1] 20.000000000000004 [2] 20.0\n"
     ]
    }
   ],
   "source": [
    "for_test(_T=['20.0', '20.0', '20.0'], _LC=['ND', 'ND', 'ND'], _LR=['0.2', '0.05', '2.0'])"
   ]
  },
  {
   "cell_type": "markdown",
   "metadata": {},
   "source": [
    "空調を最大能力でするが室温が所定の設定温度を満たさない場合  \n",
    "- 室温を指定しない  \n",
    "- 対流空調負荷は最大能力を指定する  \n",
    "- 放射空調負荷は0を指定する"
   ]
  },
  {
   "cell_type": "code",
   "execution_count": 8,
   "metadata": {},
   "outputs": [
    {
     "name": "stdout",
     "output_type": "stream",
     "text": [
      "===計算された値===\n",
      "室温: [0] 19.55092592592593 [1] 19.550925925925927 [2] 18.439814814814817\n",
      "対流負荷 [0] 0.4 [1] 0.3 [2] 1.3\n",
      "放射負荷 [0] 0.0 [1] 0.0 [2] 0.0\n",
      "===設置が維持されていることを確認===\n",
      "設定された温度: [0] nan [1] nan [2] nan\n",
      "設定された対流負荷: [0] 0.4 [1] 0.3 [2] 1.3\n",
      "設定された放射負荷: [0] 0.0 [1] 0.0 [2] 0.0\n",
      "===Lc Lr から theta を計算し、一致していることを確認する。===\n",
      "再計算された室温（検算用）: [0] 19.55092592592593 [1] 19.550925925925927 [2] 18.439814814814817\n"
     ]
    }
   ],
   "source": [
    "for_test(_T=['ND', 'ND', 'ND'], _LC=['0.4', '0.3', '1.3'], _LR=['0.0', '0.0', '0.0'])"
   ]
  },
  {
   "cell_type": "code",
   "execution_count": null,
   "metadata": {},
   "outputs": [],
   "source": []
  }
 ],
 "metadata": {
  "kernelspec": {
   "display_name": "Python 3",
   "language": "python",
   "name": "python3"
  },
  "language_info": {
   "codemirror_mode": {
    "name": "ipython",
    "version": 3
   },
   "file_extension": ".py",
   "mimetype": "text/x-python",
   "name": "python",
   "nbconvert_exporter": "python",
   "pygments_lexer": "ipython3",
   "version": "3.6.4"
  },
  "toc": {
   "base_numbering": 1,
   "nav_menu": {},
   "number_sections": true,
   "sideBar": true,
   "skip_h1_title": false,
   "title_cell": "Table of Contents",
   "title_sidebar": "Contents",
   "toc_cell": false,
   "toc_position": {},
   "toc_section_display": true,
   "toc_window_display": false
  }
 },
 "nbformat": 4,
 "nbformat_minor": 2
}
