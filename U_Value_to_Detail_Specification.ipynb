{
 "cells": [
  {
   "cell_type": "markdown",
   "metadata": {},
   "source": [
    "# 部位のU値をもとに壁体構成を与える"
   ]
  },
  {
   "cell_type": "markdown",
   "metadata": {},
   "source": [
    "## 1. 外皮簡易法＋用途別床面積\n",
    "- 屋根・天井、外壁、床の構成は、天井入力値である部位種別の熱貫流率と一致するよう、木造の標準的な構成における断熱材の厚さを0mm以上の範囲で調整する。木造の標準的な構成は、SimHeatでの熱負荷計算用の層構成決定に用いたQ値計算における、旧Ⅳ地域の平成11年基準の層構成とする。\n",
    "- 界壁・界床・天井（界床）"
   ]
  },
  {
   "cell_type": "markdown",
   "metadata": {},
   "source": [
    "- 屋根・天井壁体構成\n",
    "\n",
    "| 材料 | 厚さ[m] | 熱伝導率[W/(m・K)] | 熱抵抗[（㎡K・W）] | 容積比熱[J/（L・K）] |\n",
    "|-------------|-------------|-------------|-------------|\n",
    "| Ro | - | - | 0.090 | 0 |\n",
    "| 住宅用グラスウール断熱材10K相当 | <font color=\"red\">0.2</font> | 0.05 | <font color=\"red\">4.000</font> | 8 |\n",
    "| せっこうボード | 0.0095 | 0.22 | 0.043 | 830 |\n",
    "| Ri | - | - | 0.090 | 0 |\n",
    "\n",
    "- 外壁体構成\n",
    "\n",
    "| 材料 | 厚さ[m] | 熱伝導率[W/(m・K)] | 熱抵抗[（㎡K・W）] | 容積比熱[J/（L・K）] |\n",
    "|-------------|-------------|-------------|-------------|\n",
    "| Ro | - | - | 0.110 | 0 |\n",
    "| 合板 | 0.012 | 0.16 | 0.075 | 720 |\n",
    "| 住宅用グラスウール断熱材16K相当 | <font color=\"red\">0.099</font> | 0.045 | <font color=\"red\">2.200</font> | 13 |\n",
    "| 密閉空気層 | - | - | 0.090 | 0 |\n",
    "| せっこうボード | 0.0095 | 0.22 | 0.043 | 830 |\n",
    "| Ri | - | - | 0.110 | 0 |\n",
    "\n",
    "- 床壁体構成\n",
    "\n",
    "| 材料 | 厚さ[m] | 熱伝導率[W/(m・K)] | 熱抵抗[（㎡K・W）] | 容積比熱[J/（L・K）] |\n",
    "|-------------|-------------|-------------|-------------|\n",
    "| Ro | - | - | 0.15 | - | - |\n",
    "| 住宅用グラスウール断熱材16K相当 | <font color=\"red\">0.099</font> | 0.045 | <font color=\"red\">2.200</font> | 13 |\n",
    "| 合板 | 0.012 | 0.16 | 0.075 | 720 |\n",
    "| Ri | - | - | 0.15 | - | - |"
   ]
  },
  {
   "cell_type": "markdown",
   "metadata": {},
   "source": [
    "#### コンバート【分類：壁体構成】\n",
    "\n",
    "- レベル1：\n",
    "  - 壁体名称$[-]$：$name$\n",
    "  - 部位種別$[-]$：$type$\n",
    "  - 平均熱貫流率$[W/(m^2・K)]$：$U_a$\n",
    "- レベル2：\n",
    "  - 壁体名称$[-]$：$name$\n",
    "  - 部位種別$[-]$：$type$\n",
    "  - 平均熱貫流率$[W/(m^2・K)]$：$U_a$\n",
    "  - 部材名称$[-]$：$matrial$\n",
    "  - 厚さ$[m]$：$d$\n",
    "  - 熱伝達率$[W/(m・K)]$：$λ$\n",
    "  - 容積比熱$[J/(m^3・K)]$：$Cρ$"
   ]
  },
  {
   "cell_type": "code",
   "execution_count": 11,
   "metadata": {},
   "outputs": [
    {
     "data": {
      "text/plain": [
       "{'Ua': 0.538, 'name': 'Sample Wall', 'type': 2}"
      ]
     },
     "execution_count": 11,
     "metadata": {},
     "output_type": "execute_result"
    }
   ],
   "source": [
    "data1_wall = {\n",
    "    'name': 'Sample Wall',\n",
    "    'type': 2,\n",
    "    'Ua': 0.538\n",
    "}\n",
    "\n",
    "data1_wall"
   ]
  },
  {
   "cell_type": "code",
   "execution_count": 12,
   "metadata": {
    "collapsed": true
   },
   "outputs": [],
   "source": [
    "def convert_1to2_wall(d1):\n",
    "    if int(d1['type'])==1:\n",
    "        d_insulation=round(max(0,(1/float(d1['Ua'])-(0.090+0.0095/0.22+0.090))*0.05),3)\n",
    "        Layers= [{'material':'GW10K','d':d_insulation,'λ':0.05,'Cρ':8}, \n",
    "                 {'material':'GPB','d':0.0095,'λ':0.22,'Cρ':830}, \n",
    "                 {'material':None,'d':None,'λ':None,'Cρ':None}, \n",
    "                 {'material':None,'d':None,'λ':None,'Cρ':None}]    \n",
    "    elif int(d1['type'])==2:\n",
    "        d_insulation=round(max(0,(1/float(d1['Ua'])-(0.11+0.012/0.16+0.09+0.0095/0.22+0.11))*0.045),3)\n",
    "        Layers= [{'material':'PED','d':0.012,'λ':0.16,'Cρ':720}, \n",
    "                 {'material':'GW16K','d':d_insulation,'λ':0.045,'Cρ':13},\n",
    "                 {'material':'Air','d':1,'λ':round(1/0.090,2),'Cρ':0},\n",
    "                 {'material':'GPB','d':0.0095,'λ':0.22,'Cρ':830}]\n",
    "    elif int(d1['type'])==3:\n",
    "        d_insulation=round(max(0,(1/float(d1['Ua'])-(0.15+0.012/0.16+0.15))*0.045),3)\n",
    "        Layers= [{'material':'PED','d':0.012,'λ':0.16,'Cρ':720}, \n",
    "                 {'material':'GW16K','d':d_insulation,'λ':0.045,'Cρ':13}, \n",
    "                 {'material':None,'d':None,'λ':None,'Cρ':None}, \n",
    "                 {'material':None,'d':None,'λ':None,'Cρ':None}] \n",
    "        \n",
    "    return {'name': d1['name'],\n",
    "            'type': d1['type'],\n",
    "            'Ua': d1['Ua'],\n",
    "            'Layers':Layers}"
   ]
  },
  {
   "cell_type": "code",
   "execution_count": 13,
   "metadata": {},
   "outputs": [
    {
     "data": {
      "text/plain": [
       "{'Layers': {'Layer1': {'Cρ': 720, 'd': 0.012, 'material': 'PED', 'λ': 0.16},\n",
       "  'Layer2': {'Cρ': 13, 'd': 0.064, 'material': 'GW16K', 'λ': 0.045},\n",
       "  'Layer3': {'Cρ': 0, 'd': 1, 'material': 'Air', 'λ': 11.11},\n",
       "  'Layer4': {'Cρ': 830, 'd': 0.0095, 'material': 'GPB', 'λ': 0.22}},\n",
       " 'Ua': 0.538,\n",
       " 'name': 'Sample Wall',\n",
       " 'type': 2}"
      ]
     },
     "execution_count": 13,
     "metadata": {},
     "output_type": "execute_result"
    }
   ],
   "source": [
    "data2_wall=convert_1to2_wall(data1_wall)\n",
    "data2_wall"
   ]
  },
  {
   "cell_type": "code",
   "execution_count": null,
   "metadata": {
    "collapsed": true
   },
   "outputs": [],
   "source": []
  }
 ],
 "metadata": {
  "kernelspec": {
   "display_name": "Python 3",
   "language": "python",
   "name": "python3"
  },
  "language_info": {
   "codemirror_mode": {
    "name": "ipython",
    "version": 3
   },
   "file_extension": ".py",
   "mimetype": "text/x-python",
   "name": "python",
   "nbconvert_exporter": "python",
   "pygments_lexer": "ipython3",
   "version": "3.6.3"
  }
 },
 "nbformat": 4,
 "nbformat_minor": 2
}
