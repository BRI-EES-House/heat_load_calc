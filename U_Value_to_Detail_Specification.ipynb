{
 "cells": [
  {
   "cell_type": "markdown",
   "metadata": {},
   "source": [
    "# 部位のU値をもとに壁体構成を与える"
   ]
  },
  {
   "cell_type": "markdown",
   "metadata": {},
   "source": [
    "## 部位のU値から壁体構成を決定する方法\n",
    "- 屋根・天井、外壁、床、界壁、界床、界床（天井）の構成は、入力値である部位種別の熱貫流率と極力一致するよう、構造種別に応じ、以下の構成における断熱材の厚さを、0mm以上の範囲で、1mm単位で切り捨てて調整する。\n",
    "- 熱貫流率の入力値が大きい場合、断熱材の厚さを0mmとしても入力値の熱貫流率を再現できないことがあるが、この場合はその差を許容する。"
   ]
  },
  {
   "cell_type": "markdown",
   "metadata": {},
   "source": [
    "- 屋根・天井壁体構成（木造、鉄骨造、その他/不明）\n",
    "\n",
    "| 材料 | 厚さ[m] | 熱伝導率[W/(m・K)] | 熱抵抗[（㎡K・W）] | 容積比熱[J/（L・K）] |\n",
    "|-------------|-------------|-------------|-------------|\n",
    "| Ro | - | - | 0.040 | 0 |\n",
    "| 住宅用グラスウール断熱材16K相当 | ≧0mm | 0.045 |  | 13 |\n",
    "| せっこうボード | 0.0095 | 0.22 | 0.043 | 830 |\n",
    "| Ri | - | - | 0.090 | 0 |\n",
    "\n",
    "- 外壁壁体構成（木造、鉄骨造、その他/不明）\n",
    "\n",
    "| 材料 | 厚さ[m] | 熱伝導率[W/(m・K)] | 熱抵抗[（㎡K・W）] | 容積比熱[J/（L・K）] |\n",
    "|-------------|-------------|-------------|-------------|\n",
    "| Ro | - | - | 0.040 | 0 |\n",
    "| 住宅用グラスウール断熱材16K相当 | ≧0mm | 0.045 |  | 13 |\n",
    "| せっこうボード | 0.0095 | 0.22 | 0.043 | 830 |\n",
    "| Ri | - | - | 0.110 | 0 |\n",
    "\n",
    "- 床壁体構成（木造、鉄骨造、その他/不明）\n",
    "\n",
    "| 材料 | 厚さ[m] | 熱伝導率[W/(m・K)] | 熱抵抗[（㎡K・W）] | 容積比熱[J/（L・K）] |\n",
    "|-------------|-------------|-------------|-------------|\n",
    "| Ro | - | - | 0.040 | 0 |\n",
    "| 住宅用グラスウール断熱材16K相当 | ≧0mm | 0.045 |  | 13 |\n",
    "| 合板 | 0.012 | 0.16 | 0.075 | 720 |\n",
    "| Ri | - | - | 0.150 | - | - |\n",
    "\n",
    "- 界床（天井）壁体構成（木造、鉄骨造、その他/不明）\n",
    "\n",
    "| 材料 | 厚さ[m] | 熱伝導率[W/(m・K)] | 熱抵抗[（㎡K・W）] | 容積比熱[J/（L・K）] |\n",
    "|-------------|-------------|-------------|-------------|\n",
    "| Ro | - | - | 0.090 | 0 |\n",
    "| 住宅用グラスウール断熱材16K相当 | ≧0mm | 0.045 |  | 13 |\n",
    "| せっこうボード | 0.0095 | 0.22 | 0.043 | 830 |\n",
    "| Ri | - | - | 0.090 | 0 |\n",
    "\n",
    "- 界壁壁体構成（木造、鉄骨造、その他/不明）\n",
    "\n",
    "| 材料 | 厚さ[m] | 熱伝導率[W/(m・K)] | 熱抵抗[（㎡K・W）] | 容積比熱[J/（L・K）] |\n",
    "|-------------|-------------|-------------|-------------|\n",
    "| Ro | - | - | 0.110 | 0 |\n",
    "| 住宅用グラスウール断熱材16K相当 | ≧0mm | 0.045 |  | 13 |\n",
    "| せっこうボード | 0.0095 | 0.22 | 0.043 | 830 |\n",
    "| Ri | - | - | 0.110 | 0 |\n",
    "\n",
    "- 界床壁体構成（木造、鉄骨造）\n",
    "\n",
    "| 材料 | 厚さ[m] | 熱伝導率[W/(m・K)] | 熱抵抗[（㎡K・W）] | 容積比熱[J/（L・K）] |\n",
    "|-------------|-------------|-------------|-------------|\n",
    "| Ro | - | - | 0.150 | 0 |\n",
    "| 住宅用グラスウール断熱材16K相当 | ≧0mm | 0.045 |  | 13 |\n",
    "| 合板 | 0.012 | 0.16 | 0.075 | 720 |\n",
    "| Ri | - | - | 0.150 | - | - |\n",
    "\n",
    "\n",
    "- 屋根・天井壁体構成（鉄筋コンクリート造等）\n",
    "\n",
    "| 材料 | 厚さ[m] | 熱伝導率[W/(m・K)] | 熱抵抗[（㎡K・W）] | 容積比熱[J/（L・K）] |\n",
    "|-------------|-------------|-------------|-------------|\n",
    "| Ro | - | - | 0.040 | 0 |\n",
    "| コンクリート | 0.120 | 1.6 | 0.075 | 2000 |\n",
    "| 住宅用グラスウール断熱材16K相当 | ≧0mm | 0.045 |  | 13 |\n",
    "| Ri | - | - | 0.090 | 0 |\n",
    "\n",
    "- 外壁壁体構成（鉄筋コンクリート造等）\n",
    "\n",
    "| 材料 | 厚さ[m] | 熱伝導率[W/(m・K)] | 熱抵抗[（㎡K・W）] | 容積比熱[J/（L・K）] |\n",
    "|-------------|-------------|-------------|-------------|\n",
    "| Ro | - | - | 0.040 | 0 |\n",
    "| コンクリート | 0.120 | 1.6 | 0.075 | 2000 |\n",
    "| 住宅用グラスウール断熱材16K相当 | ≧0mm | 0.045 |  | 13 |\n",
    "| Ri | - | - | 0.110 | 0 |\n",
    "\n",
    "- 床壁体構成（鉄筋コンクリート造等）\n",
    "\n",
    "| 材料 | 厚さ[m] | 熱伝導率[W/(m・K)] | 熱抵抗[（㎡K・W）] | 容積比熱[J/（L・K）] |\n",
    "|-------------|-------------|-------------|-------------|\n",
    "| Ro | - | - | 0.040 | 0 |\n",
    "| コンクリート | 0.120 | 1.6 | 0.075 | 2000 |\n",
    "| 住宅用グラスウール断熱材16K相当 | ≧0mm | 0.045 |  | 13 |\n",
    "| Ri | - | - | 0.150 | - | - |\n",
    "\n",
    "- 界床（天井）壁体構成（鉄筋コンクリート造等）\n",
    "\n",
    "| 材料 | 厚さ[m] | 熱伝導率[W/(m・K)] | 熱抵抗[（㎡K・W）] | 容積比熱[J/（L・K）] |\n",
    "|-------------|-------------|-------------|-------------|\n",
    "| Ro | - | - | 0.090 | 0 |\n",
    "| コンクリート | 0.120 | 1.6 | 0.075 | 2000 |\n",
    "| 住宅用グラスウール断熱材16K相当 | ≧0mm | 0.045 |  | 13 |\n",
    "| Ri | - | - | 0.090 | 0 |\n",
    "\n",
    "- 界壁壁体構成（鉄筋コンクリート造等）\n",
    "\n",
    "| 材料 | 厚さ[m] | 熱伝導率[W/(m・K)] | 熱抵抗[（㎡K・W）] | 容積比熱[J/（L・K）] |\n",
    "|-------------|-------------|-------------|-------------|\n",
    "| Ro | - | - | 0.110 | 0 |\n",
    "| コンクリート | 0.120 | 1.6 | 0.075 | 2000 |\n",
    "| 住宅用グラスウール断熱材16K相当 | ≧0mm | 0.045 |  | 13 |\n",
    "| Ri | - | - | 0.110 | 0 |\n",
    "\n",
    "- 界床壁体構成（鉄筋コンクリート造等）\n",
    "\n",
    "| 材料 | 厚さ[m] | 熱伝導率[W/(m・K)] | 熱抵抗[（㎡K・W）] | 容積比熱[J/（L・K）] |\n",
    "|-------------|-------------|-------------|-------------|\n",
    "| Ro | - | - | 0.150 | 0 |\n",
    "| コンクリート | 0.120 | 1.6 | 0.075 | 2000 |\n",
    "| 住宅用グラスウール断熱材16K相当 | ≧0mm | 0.045 |  | 13 |\n",
    "| Ri | - | - | 0.150 | - | - |"
   ]
  },
  {
   "cell_type": "markdown",
   "metadata": {},
   "source": [
    "### Input"
   ]
  },
  {
   "cell_type": "markdown",
   "metadata": {},
   "source": [
    "```\n",
    "data = {\n",
    "    'structure'     : # 構造種別 String値、以下のいずれか\n",
    "    　　　　　　　　　　# 'wood'（木造）/ 'rc'（鉄筋コンクリート造等）/'steel'（鉄骨造）/'other'（その他/不明）\n",
    "    'type'          : # 部位種別 String値、以下のいずれか\n",
    "    　　　　　　　　　　# 'ceiling'（屋根・天井）/'wall'（外壁）/'floor'（床）/\n",
    "                      # 'BoundaryWall'（界壁）/'BoundaryFloor'（界床） /'BoundaryCeiling'（天井（界床））\n",
    "    'U'             : # 熱貫流率($[W/(m^2・K)]$)\n",
    "}\n",
    "```"
   ]
  },
  {
   "cell_type": "markdown",
   "metadata": {},
   "source": [
    "### Output"
   ]
  },
  {
   "cell_type": "markdown",
   "metadata": {},
   "source": [
    "```\n",
    "data = \n",
    "    'Layer'           # 層構成 2層\n",
    "        [{\n",
    "        'material'  : # 部材名称\n",
    "        'd'         : # 厚さ(m)\n",
    "        'λ'         : # 熱伝達率(W/(m・K))\n",
    "        'Cρ'        : # 容積比熱(J/(m^3・K))\n",
    "        }]\n",
    "```"
   ]
  },
  {
   "cell_type": "markdown",
   "metadata": {
    "collapsed": true
   },
   "source": [
    "関数の指定"
   ]
  },
  {
   "cell_type": "code",
   "execution_count": 1,
   "metadata": {
    "collapsed": true
   },
   "outputs": [],
   "source": [
    "import math\n",
    "\n",
    "def convert_UtoDetailSpecification(d1):\n",
    "    s = d1['structure']\n",
    "    t = d1['type']\n",
    "    R = 1 / d1['U']\n",
    "    Ro, Ri = {\n",
    "        'ceiling'         : ( 0.040, 0.090 ),\n",
    "        'wall'            : ( 0.040, 0.110 ),\n",
    "        'floor'           : ( 0.040, 0.150 ),\n",
    "        'BoundaryWall'    : ( 0.090, 0.090 ),\n",
    "        'BoundaryFloor'   : ( 0.110, 0.110 ),\n",
    "        'BoundaryCeiling' : ( 0.150, 0.150 ),\n",
    "    }[t]\n",
    "    \n",
    "    RGypsum   = 0.0095 / 0.22\n",
    "    RPlywood  = 0.012 / 0.16\n",
    "    RConcrete = 0.12 / 1.6\n",
    "    \n",
    "    if ( s == 'wood' or s == 'steel' or s == 'other' ):\n",
    "        if t == 'ceiling':\n",
    "            d_insulation=(math.floor(max(0,( R -( Ro + RGypsum + Ri ))*0.045)*1000))/1000\n",
    "            Layer= [{'material':'GW16K','d':d_insulation,'λ':0.045,'Cρ':13}, \n",
    "                    {'material':'GPB','d':0.0095,'λ':0.22,'Cρ':830}]\n",
    "        elif t == 'wall':\n",
    "            d_insulation=(math.floor(max(0,( R -( Ro + RGypsum + Ri ))*0.045)*1000))/1000\n",
    "            Layer= [{'material':'GW16K','d':d_insulation,'λ':0.045,'Cρ':13},\n",
    "                    {'material':'GPB','d':0.0095,'λ':0.22,'Cρ':830}]\n",
    "        elif t == 'floor':\n",
    "            d_insulation=(math.floor(max(0,( R -( Ro + RPlywood + Ri ))*0.045)*1000))/1000\n",
    "            Layer= [{'material':'GW16K','d':d_insulation,'λ':0.045,'Cρ':13},\n",
    "                    {'material':'PED','d':0.012,'λ':0.16,'Cρ':720}] \n",
    "        elif t == 'BoundaryWall':\n",
    "            d_insulation=(math.floor(max(0,( R -( Ro + RGypsum + Ri ))*0.045)*1000))/1000\n",
    "            Layer= [{'material':'GW16K','d':d_insulation,'λ':0.045,'Cρ':13}, \n",
    "                    {'material':'GPB','d':0.0095,'λ':0.22,'Cρ':830}]    \n",
    "        elif t == 'BoundaryFloor':\n",
    "            d_insulation=(math.floor(max(0,( R -( Ro + RGypsum + Ri ))*0.045)*1000))/1000\n",
    "            Layer= [{'material':'GW16K','d':d_insulation,'λ':0.045,'Cρ':13},\n",
    "                    {'material':'GPB','d':0.0095,'λ':0.22,'Cρ':830}]\n",
    "        elif t == 'BoundaryCeiling':\n",
    "            d_insulation=(math.floor(max(0,( R -( Ro + RPlywood + Ri ))*0.045)*1000))/1000\n",
    "            Layer= [{'material':'GW16K','d':d_insulation,'λ':0.045,'Cρ':13},\n",
    "                    {'material':'PED','d':0.012,'λ':0.16,'Cρ':720}] \n",
    "    elif s == 'rc':\n",
    "        if t == 'ceiling':\n",
    "            d_insulation=(math.floor(max(0,( R -( Ro + RConcrete + Ri ))*0.045)*1000))/1000\n",
    "            Layer= [{'material':'RC','d':0.120,'λ':1.6,'Cρ':2000}, \n",
    "                    {'material':'GW16K','d':d_insulation,'λ':0.045,'Cρ':13}]    \n",
    "        elif t == 'wall':\n",
    "            d_insulation=(math.floor(max(0,( R -( Ro + RConcrete + Ri ))*0.045)*1000))/1000\n",
    "            Layer= [{'material':'RC','d':0.120,'λ':1.6,'Cρ':2000},\n",
    "                    {'material':'GW16K','d':d_insulation,'λ':0.045,'Cρ':13}]\n",
    "        elif t == 'floor':\n",
    "            d_insulation=(math.floor(max(0,( R -( Ro + RConcrete + Ri ))*0.045)*1000))/1000\n",
    "            Layer= [{'material':'RC','d':0.120,'λ':1.6,'Cρ':2000},\n",
    "                    {'material':'GW16K','d':d_insulation,'λ':0.045,'Cρ':13}] \n",
    "        elif t == 'BoundaryWall':\n",
    "            d_insulation=(math.floor(max(0,( R -( Ro + RConcrete + Ri ))*0.045)*1000))/1000\n",
    "            Layer= [{'material':'RC','d':0.120,'λ':1.6,'Cρ':2000},\n",
    "                    {'material':'GW16K','d':d_insulation,'λ':0.045,'Cρ':13}]    \n",
    "        elif t == 'BoundaryFloor':\n",
    "            d_insulation=(math.floor(max(0,( R -( Ro + RConcrete + Ri ))*0.045)*1000))/1000\n",
    "            Layer= [{'material':'RC','d':0.120,'λ':1.6,'Cρ':2000},\n",
    "                    {'material':'GW16K','d':d_insulation,'λ':0.045,'Cρ':13}]\n",
    "        elif t == 'BoundaryCeiling':\n",
    "            d_insulation=(math.floor(max(0,( R -( Ro + RConcrete + Ri ))*0.045)*1000))/1000\n",
    "            Layer= [{'material':'RC','d':0.120,'λ':1.6,'Cρ':2000},\n",
    "                    {'material':'GW16K','d':d_insulation,'λ':0.045,'Cρ':13}] \n",
    "        \n",
    "    return Layer"
   ]
  },
  {
   "cell_type": "markdown",
   "metadata": {},
   "source": [
    "関数の実行"
   ]
  },
  {
   "cell_type": "code",
   "execution_count": 2,
   "metadata": {
    "collapsed": false
   },
   "outputs": [
    {
     "data": {
      "text/plain": [
       "[{'Cρ': 13, 'd': 0.074, 'material': 'GW16K', 'λ': 0.045},\n",
       " {'Cρ': 830, 'd': 0.0095, 'material': 'GPB', 'λ': 0.22}]"
      ]
     },
     "execution_count": 2,
     "metadata": {},
     "output_type": "execute_result"
    }
   ],
   "source": [
    "convert_UtoDetailSpecification({\n",
    "    'structure':'wood',\n",
    "    'type': 'wall',\n",
    "    'U': 0.538\n",
    "})"
   ]
  },
  {
   "cell_type": "markdown",
   "metadata": {},
   "source": [
    "U値と断熱材厚の関係のグラフ作成"
   ]
  },
  {
   "cell_type": "code",
   "execution_count": 3,
   "metadata": {
    "collapsed": false
   },
   "outputs": [
    {
     "data": {
      "text/plain": [
       "<matplotlib.legend.Legend at 0x1cda9282a20>"
      ]
     },
     "execution_count": 3,
     "metadata": {},
     "output_type": "execute_result"
    },
    {
     "data": {
      "image/png": "[encoded data removed]",
      "text/plain": [
       "<matplotlib.figure.Figure at 0x1cda88c7588>"
      ]
     },
     "metadata": {},
     "output_type": "display_data"
    }
   ],
   "source": [
    "%matplotlib inline\n",
    "import numpy as np\n",
    "import matplotlib.pyplot as plt\n",
    "\n",
    "plt.subplot(1, 2, 1)\n",
    "x=np.arange(0.05,5,0.05)\n",
    "y=[[],[],[],[],[],[],[]]\n",
    "\n",
    "wall_type=['ceiling','wall','floor','BoundaryWall','BoundaryFloor','BoundaryCeiling']\n",
    "\n",
    "for i in x:\n",
    "    for j in wall_type:\n",
    "        temp=convert_UtoDetailSpecification({'structure':'wood','type': j,'U': i})\n",
    "        #print(wall_type.index(j)) \n",
    "        y[wall_type.index(j)].append(temp[0]['d'])        \n",
    "        #print(y[wall_type.index(j)])\n",
    "        \n",
    "plt.title(r\"U[W/m2K]-Insulation Thickness[m]\")\n",
    "plt.plot(x,y[5],'b',label=\"W_BoundaryFloor\")\n",
    "plt.plot(x,y[4],'c',label=\"W_BoundaryWall\")\n",
    "plt.plot(x,y[3],'g',label=\"W_BoundaryCeiling\")\n",
    "plt.plot(x,y[2],'y',label=\"W_Floor\")\n",
    "plt.plot(x,y[1],'r',label=\"W_Wall\")\n",
    "plt.plot(x,y[0],'m',label=\"W_Ceiling\")\n",
    "plt.legend()\n",
    "\n",
    "plt.subplot(1, 2, 2)\n",
    "x=np.arange(0.05,5,0.05)\n",
    "y=[[],[],[],[],[],[],[]]\n",
    "for i in x:\n",
    "    for j in wall_type:\n",
    "        temp=convert_UtoDetailSpecification({'structure':'rc','type': j,'U': i})\n",
    "        y[wall_type.index(j)].append(temp[1]['d'])        \n",
    "    \n",
    "plt.title(r\"U[W/m2K]-Insulation Thickness[m]\")\n",
    "plt.plot(x,y[5],'b',label=\"RC_BoundaryFloor\")\n",
    "plt.plot(x,y[4],'c',label=\"RC_BoundaryWall\")\n",
    "plt.plot(x,y[3],'g',label=\"RC_BoundaryCeiling\")\n",
    "plt.plot(x,y[2],'y',label=\"RC_Floor\")\n",
    "plt.plot(x,y[1],'r',label=\"RC_Wall\")\n",
    "plt.plot(x,y[0],'m',label=\"RC_Ceiling\")\n",
    "plt.legend()"
   ]
  },
  {
   "cell_type": "code",
   "execution_count": null,
   "metadata": {
    "collapsed": true
   },
   "outputs": [],
   "source": []
  }
 ],
 "metadata": {
  "kernelspec": {
   "display_name": "Python 3",
   "language": "python",
   "name": "python3"
  },
  "language_info": {
   "codemirror_mode": {
    "name": "ipython",
    "version": 3
   },
   "file_extension": ".py",
   "mimetype": "text/x-python",
   "name": "python",
   "nbconvert_exporter": "python",
   "pygments_lexer": "ipython3",
   "version": "3.6.2"
  }
 },
 "nbformat": 4,
 "nbformat_minor": 2
}
