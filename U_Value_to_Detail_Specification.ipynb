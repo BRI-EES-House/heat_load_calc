{
 "cells": [
  {
   "cell_type": "markdown",
   "metadata": {},
   "source": [
    "# 部位のU値をもとに壁体構成を与える"
   ]
  },
  {
   "cell_type": "markdown",
   "metadata": {},
   "source": [
    "## 部位のU値から壁体構成を決定する方法\n",
    "- 屋根・天井、外壁、床、界壁、界床、界床（天井）の構成は、入力値である部位種別の熱貫流率と極力一致するよう、構造種別に応じ、以下の構成における断熱材の厚さを、0mm以上の範囲で、1mm単位で切り捨てて調整する。\n",
    "- 熱貫流率の入力値が大きい場合、断熱材の厚さを0mmとしても入力値の熱貫流率を再現できないことがあるが、この場合はその差を許容する。"
   ]
  },
  {
   "cell_type": "markdown",
   "metadata": {},
   "source": [
    "- 屋根・天井壁体構成（木造、鉄骨造）\n",
    "\n",
    "| 材料 | 厚さ[m] | 熱伝導率[W/(m・K)] | 熱抵抗[（㎡K・W）] | 容積比熱[J/（L・K）] |\n",
    "|-------------|-------------|-------------|-------------|\n",
    "| Ro | - | - | 0.040 | 0 |\n",
    "| 住宅用グラスウール断熱材16K相当 | ≧0mm | 0.045 |  | 13 |\n",
    "| せっこうボード | 0.0095 | 0.22 | 0.043 | 830 |\n",
    "| Ri | - | - | 0.090 | 0 |\n",
    "\n",
    "- 外壁壁体構成（木造、鉄骨造）\n",
    "\n",
    "| 材料 | 厚さ[m] | 熱伝導率[W/(m・K)] | 熱抵抗[（㎡K・W）] | 容積比熱[J/（L・K）] |\n",
    "|-------------|-------------|-------------|-------------|\n",
    "| Ro | - | - | 0.040 | 0 |\n",
    "| 住宅用グラスウール断熱材16K相当 | ≧0mm | 0.045 |  | 13 |\n",
    "| せっこうボード | 0.0095 | 0.22 | 0.043 | 830 |\n",
    "| Ri | - | - | 0.110 | 0 |\n",
    "\n",
    "- 床壁体構成（木造、鉄骨造）\n",
    "\n",
    "| 材料 | 厚さ[m] | 熱伝導率[W/(m・K)] | 熱抵抗[（㎡K・W）] | 容積比熱[J/（L・K）] |\n",
    "|-------------|-------------|-------------|-------------|\n",
    "| Ro | - | - | 0.040 | 0 |\n",
    "| 住宅用グラスウール断熱材16K相当 | ≧0mm | 0.045 |  | 13 |\n",
    "| 合板 | 0.012 | 0.16 | 0.075 | 720 |\n",
    "| Ri | - | - | 0.150 | - | - |\n",
    "\n",
    "- 界床（天井）壁体構成（木造、鉄骨造）\n",
    "\n",
    "| 材料 | 厚さ[m] | 熱伝導率[W/(m・K)] | 熱抵抗[（㎡K・W）] | 容積比熱[J/（L・K）] |\n",
    "|-------------|-------------|-------------|-------------|\n",
    "| Ro | - | - | 0.090 | 0 |\n",
    "| 住宅用グラスウール断熱材16K相当 | ≧0mm | 0.045 |  | 13 |\n",
    "| せっこうボード | 0.0095 | 0.22 | 0.043 | 830 |\n",
    "| Ri | - | - | 0.090 | 0 |\n",
    "\n",
    "- 界壁壁体構成（木造、鉄骨造）\n",
    "\n",
    "| 材料 | 厚さ[m] | 熱伝導率[W/(m・K)] | 熱抵抗[（㎡K・W）] | 容積比熱[J/（L・K）] |\n",
    "|-------------|-------------|-------------|-------------|\n",
    "| Ro | - | - | 0.110 | 0 |\n",
    "| 住宅用グラスウール断熱材16K相当 | ≧0mm | 0.045 |  | 13 |\n",
    "| せっこうボード | 0.0095 | 0.22 | 0.043 | 830 |\n",
    "| Ri | - | - | 0.110 | 0 |\n",
    "\n",
    "- 界床壁体構成（木造、鉄骨造）\n",
    "\n",
    "| 材料 | 厚さ[m] | 熱伝導率[W/(m・K)] | 熱抵抗[（㎡K・W）] | 容積比熱[J/（L・K）] |\n",
    "|-------------|-------------|-------------|-------------|\n",
    "| Ro | - | - | 0.150 | 0 |\n",
    "| 住宅用グラスウール断熱材16K相当 | ≧0mm | 0.045 |  | 13 |\n",
    "| 合板 | 0.012 | 0.16 | 0.075 | 720 |\n",
    "| Ri | - | - | 0.150 | - | - |\n",
    "\n",
    "\n",
    "- 屋根・天井壁体構成（鉄筋コンクリート造等）\n",
    "\n",
    "| 材料 | 厚さ[m] | 熱伝導率[W/(m・K)] | 熱抵抗[（㎡K・W）] | 容積比熱[J/（L・K）] |\n",
    "|-------------|-------------|-------------|-------------|\n",
    "| Ro | - | - | 0.040 | 0 |\n",
    "| コンクリート | 0.120 | 1.6 | 0.075 | 2000 |\n",
    "| 住宅用グラスウール断熱材16K相当 | ≧0mm | 0.045 |  | 13 |\n",
    "| Ri | - | - | 0.090 | 0 |\n",
    "\n",
    "- 外壁壁体構成（鉄筋コンクリート造等）\n",
    "\n",
    "| 材料 | 厚さ[m] | 熱伝導率[W/(m・K)] | 熱抵抗[（㎡K・W）] | 容積比熱[J/（L・K）] |\n",
    "|-------------|-------------|-------------|-------------|\n",
    "| Ro | - | - | 0.040 | 0 |\n",
    "| コンクリート | 0.120 | 1.6 | 0.075 | 2000 |\n",
    "| 住宅用グラスウール断熱材16K相当 | ≧0mm | 0.045 |  | 13 |\n",
    "| Ri | - | - | 0.110 | 0 |\n",
    "\n",
    "- 床壁体構成（鉄筋コンクリート造等）\n",
    "\n",
    "| 材料 | 厚さ[m] | 熱伝導率[W/(m・K)] | 熱抵抗[（㎡K・W）] | 容積比熱[J/（L・K）] |\n",
    "|-------------|-------------|-------------|-------------|\n",
    "| Ro | - | - | 0.040 | 0 |\n",
    "| コンクリート | 0.120 | 1.6 | 0.075 | 2000 |\n",
    "| 住宅用グラスウール断熱材16K相当 | ≧0mm | 0.045 |  | 13 |\n",
    "| Ri | - | - | 0.150 | - | - |\n",
    "\n",
    "- 界床（天井）壁体構成（鉄筋コンクリート造等）\n",
    "\n",
    "| 材料 | 厚さ[m] | 熱伝導率[W/(m・K)] | 熱抵抗[（㎡K・W）] | 容積比熱[J/（L・K）] |\n",
    "|-------------|-------------|-------------|-------------|\n",
    "| Ro | - | - | 0.090 | 0 |\n",
    "| コンクリート | 0.120 | 1.6 | 0.075 | 2000 |\n",
    "| 住宅用グラスウール断熱材16K相当 | ≧0mm | 0.045 |  | 13 |\n",
    "| Ri | - | - | 0.090 | 0 |\n",
    "\n",
    "- 界壁壁体構成（鉄筋コンクリート造等）\n",
    "\n",
    "| 材料 | 厚さ[m] | 熱伝導率[W/(m・K)] | 熱抵抗[（㎡K・W）] | 容積比熱[J/（L・K）] |\n",
    "|-------------|-------------|-------------|-------------|\n",
    "| Ro | - | - | 0.110 | 0 |\n",
    "| コンクリート | 0.120 | 1.6 | 0.075 | 2000 |\n",
    "| 住宅用グラスウール断熱材16K相当 | ≧0mm | 0.045 |  | 13 |\n",
    "| Ri | - | - | 0.110 | 0 |\n",
    "\n",
    "- 界床壁体構成（鉄筋コンクリート造等）\n",
    "\n",
    "| 材料 | 厚さ[m] | 熱伝導率[W/(m・K)] | 熱抵抗[（㎡K・W）] | 容積比熱[J/（L・K）] |\n",
    "|-------------|-------------|-------------|-------------|\n",
    "| Ro | - | - | 0.150 | 0 |\n",
    "| コンクリート | 0.120 | 1.6 | 0.075 | 2000 |\n",
    "| 住宅用グラスウール断熱材16K相当 | ≧0mm | 0.045 |  | 13 |\n",
    "| Ri | - | - | 0.150 | - | - |"
   ]
  },
  {
   "cell_type": "markdown",
   "metadata": {},
   "source": [
    "#### コンバート【分類：壁体構成】\n",
    "\n",
    "- レベル1：\n",
    "  - 壁体名称$[-]$：$name$\n",
    "  - 部位種別$[-]$：$type$\n",
    "  - 平均熱貫流率$[W/(m^2・K)]$：$U_a$\n",
    "- レベル2：\n",
    "  - 壁体名称$[-]$：$name$\n",
    "  - 部位種別$[-]$：$type$\n",
    "  - 平均熱貫流率$[W/(m^2・K)]$：$U_a$\n",
    "  - <font color=\"red\">部材名称$[-]$：$matrial$</font>\n",
    "  - <font color=\"red\">厚さ$[m]$：$d$</font>\n",
    "  - <font color=\"red\">熱伝達率$[W/(m・K)]$：$λ$</font>\n",
    "  - <font color=\"red\">容積比熱$[J/(m^3・K)]$：$Cρ$</font>"
   ]
  },
  {
   "cell_type": "markdown",
   "metadata": {
    "collapsed": true
   },
   "source": [
    "関数の指定"
   ]
  },
  {
   "cell_type": "code",
   "execution_count": 1,
   "metadata": {
    "collapsed": true
   },
   "outputs": [],
   "source": [
    "import math\n",
    "\n",
    "def convert_1to2_wall(d1):\n",
    "    if int(d1['type'])==1:\n",
    "        d_insulation=(math.floor(max(0,(1/float(d1['Ua'])-(0.040+0.0095/0.22+0.090))*0.045)*1000))/1000\n",
    "        Layers= [{'material':'GW16K','d':d_insulation,'λ':0.045,'Cρ':13}, \n",
    "                 {'material':'GPB','d':0.0095,'λ':0.22,'Cρ':830}]    \n",
    "    elif int(d1['type'])==2:\n",
    "        d_insulation=(math.floor(max(0,(1/float(d1['Ua'])-(0.040+0.0095/0.22+0.110))*0.045)*1000))/1000\n",
    "        Layers= [{'material':'GW16K','d':d_insulation,'λ':0.045,'Cρ':13},\n",
    "                 {'material':'GPB','d':0.0095,'λ':0.22,'Cρ':830}]\n",
    "    elif int(d1['type'])==3:\n",
    "        d_insulation=(math.floor(max(0,(1/float(d1['Ua'])-(0.040+0.012/0.16+0.150))*0.045)*1000))/1000\n",
    "        Layers= [{'material':'GW16K','d':d_insulation,'λ':0.045,'Cρ':13},\n",
    "                 {'material':'PED','d':0.012,'λ':0.16,'Cρ':720}] \n",
    "    elif int(d1['type'])==4:\n",
    "        d_insulation=(math.floor(max(0,(1/float(d1['Ua'])-(0.090+0.0095/0.22+0.090))*0.045)*1000))/1000\n",
    "        Layers= [{'material':'GW16K','d':d_insulation,'λ':0.045,'Cρ':13}, \n",
    "                 {'material':'GPB','d':0.0095,'λ':0.22,'Cρ':830}]    \n",
    "    elif int(d1['type'])==5:\n",
    "        d_insulation=(math.floor(max(0,(1/float(d1['Ua'])-(0.110+0.0095/0.22+0.110))*0.045)*1000))/1000\n",
    "        Layers= [{'material':'GW16K','d':d_insulation,'λ':0.045,'Cρ':13},\n",
    "                 {'material':'GPB','d':0.0095,'λ':0.22,'Cρ':830}]\n",
    "    elif int(d1['type'])==6:\n",
    "        d_insulation=(math.floor(max(0,(1/float(d1['Ua'])-(0.150+0.012/0.16+0.150))*0.045)*1000))/1000\n",
    "        Layers= [{'material':'GW16K','d':d_insulation,'λ':0.045,'Cρ':13},\n",
    "                 {'material':'PED','d':0.012,'λ':0.16,'Cρ':720}] \n",
    "        \n",
    "    return {'name': d1['name'],\n",
    "            'type': d1['type'],\n",
    "            'Ua': d1['Ua'],\n",
    "            'Layers':Layers}"
   ]
  },
  {
   "cell_type": "markdown",
   "metadata": {},
   "source": [
    "関数の実行"
   ]
  },
  {
   "cell_type": "code",
   "execution_count": 2,
   "metadata": {},
   "outputs": [
    {
     "data": {
      "text/plain": [
       "{'Layers': [{'Cρ': 13, 'd': 0.074, 'material': 'GW16K', 'λ': 0.045},\n",
       "  {'Cρ': 830, 'd': 0.0095, 'material': 'GPB', 'λ': 0.22}],\n",
       " 'Ua': 0.538,\n",
       " 'name': 'Sample Wall',\n",
       " 'type': 2}"
      ]
     },
     "execution_count": 2,
     "metadata": {},
     "output_type": "execute_result"
    }
   ],
   "source": [
    "convert_1to2_wall({\n",
    "    'name': 'Sample Wall',\n",
    "    'type': 2,\n",
    "    'Ua': 0.538\n",
    "})"
   ]
  },
  {
   "cell_type": "markdown",
   "metadata": {},
   "source": [
    "U値と断熱材厚の関係のグラフ作成"
   ]
  },
  {
   "cell_type": "code",
   "execution_count": 3,
   "metadata": {},
   "outputs": [
    {
     "data": {
      "text/plain": [
       "<matplotlib.legend.Legend at 0x2b7fe9f7518>"
      ]
     },
     "execution_count": 3,
     "metadata": {},
     "output_type": "execute_result"
    },
    {
     "data": {
      "image/png": "[encoded data removed]",
      "text/plain": [
       "<matplotlib.figure.Figure at 0x2b7fd775160>"
      ]
     },
     "metadata": {},
     "output_type": "display_data"
    }
   ],
   "source": [
    "%matplotlib inline\n",
    "import numpy as np\n",
    "import matplotlib.pyplot as plt\n",
    "\n",
    "x=np.arange(0.05,5,0.05)\n",
    "y=[[],[],[],[],[],[],[]]\n",
    "for i in x:\n",
    "    for j in range(1,7):\n",
    "        temp=convert_1to2_wall({'name': 'Sample Wall','type': j,'Ua': i})\n",
    "        y[j].append(temp['Layers'][0]['d'])        \n",
    "    \n",
    "plt.title(r\"U-Insulation Thickness\")\n",
    "plt.plot(x,y[6],'b',label=\"Wooden_BoundaryFloor\")\n",
    "plt.plot(x,y[5],'c',label=\"Wooden_BoundaryWall\")\n",
    "plt.plot(x,y[4],'g',label=\"Wooden_BoundaryCeiling\")\n",
    "plt.plot(x,y[3],'y',label=\"Wooden_Floor\")\n",
    "plt.plot(x,y[2],'r',label=\"Wooden_Wall\")\n",
    "plt.plot(x,y[1],'m',label=\"Wooden_Ceiling\")\n",
    "plt.legend()"
   ]
  }
 ],
 "metadata": {
  "kernelspec": {
   "display_name": "Python 3",
   "language": "python",
   "name": "python3"
  },
  "language_info": {
   "codemirror_mode": {
    "name": "ipython",
    "version": 3
   },
   "file_extension": ".py",
   "mimetype": "text/x-python",
   "name": "python",
   "nbconvert_exporter": "python",
   "pygments_lexer": "ipython3",
   "version": "3.6.3"
  }
 },
 "nbformat": 4,
 "nbformat_minor": 2
}
