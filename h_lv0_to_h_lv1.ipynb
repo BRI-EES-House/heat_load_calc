{
 "cells": [
  {
   "cell_type": "code",
   "execution_count": 1,
   "metadata": {
    "scrolled": true
   },
   "outputs": [
    {
     "name": "stdout",
     "output_type": "stream",
     "text": [
      "Importing Jupyter notebook from model_house.ipynb\n",
      "Importing Jupyter notebook from get_u_and_eta_from_u_a_and_eta_a.ipynb\n",
      "Importing Jupyter notebook from nu.ipynb\n",
      "Importing Jupyter notebook from f.ipynb\n",
      "Importing Jupyter notebook from H.ipynb\n"
     ]
    }
   ],
   "source": [
    "import nbimporter\n",
    "import copy\n",
    "\n",
    "import model_house\n",
    "import get_u_and_eta_from_u_a_and_eta_a as get_u_and_eta"
   ]
  },
  {
   "cell_type": "markdown",
   "metadata": {},
   "source": [
    "# 外皮情報LV0からLV1へのコンバート"
   ]
  },
  {
   "cell_type": "markdown",
   "metadata": {},
   "source": [
    "## I. 統合"
   ]
  },
  {
   "cell_type": "markdown",
   "metadata": {},
   "source": [
    "面積・長さは床面積90.0㎡の簡易モデル住宅モデルより、延床面積に応じて決定する。  \n",
    "窓のf値は、簡易モデル住宅モデルの窓方位より決定する。  \n",
    "部位のU値・η値は、UA値・η値より決定する。"
   ]
  },
  {
   "cell_type": "code",
   "execution_count": 2,
   "metadata": {},
   "outputs": [],
   "source": [
    "def convert(d):\n",
    "    \n",
    "    # 簡易モデル住宅をもとに面積を取得\n",
    "    d_for_u_and_eta, f_heating, f_cooling = model_house.convert(d, 'not_output_spec')\n",
    "    d_for_u_and_eta['envelope']['index'] = d['envelope']['index']\n",
    "    \n",
    "    # U値、η値の取得 \n",
    "    eta, eta_heating, eta_cooling, part_U = get_u_and_eta.calc_adjustment_factor( d_for_u_and_eta )\n",
    "    \n",
    "    # 出力\n",
    "    return {\n",
    "        'common' : copy.deepcopy(d['common']),  \n",
    "        'envelope' : {\n",
    "            'simple_method' : {\n",
    "                'insulation_type'          : 'floor',\n",
    "                'insulation_type_bathroom' : 'inside',\n",
    "                'u_value_roof'             : part_U['roof'],\n",
    "                'u_value_wall'             : part_U['wall'],\n",
    "                'u_value_floor_other'      : part_U['floor'],\n",
    "                'u_value_door'             : part_U['window'],\n",
    "                'u_value_window'           : part_U['window'],\n",
    "                'eta_d_value_window_c'     : eta_cooling,       \n",
    "                'eta_d_value_window_h'     : eta_heating, \n",
    "                'is_f_value_input'         : True, \n",
    "                'f_value_c'                : f_cooling,\n",
    "                'f_value_h'                : f_heating,\n",
    "                'psi_value_earthfloor_perimeter_entrance' : part_U['earthfloor_perimeter']\n",
    "            }\n",
    "        }\n",
    "    }"
   ]
  },
  {
   "cell_type": "markdown",
   "metadata": {},
   "source": [
    "### Example"
   ]
  },
  {
   "cell_type": "code",
   "execution_count": 3,
   "metadata": {},
   "outputs": [
    {
     "name": "stdout",
     "output_type": "stream",
     "text": [
      "U値{'roof': 0.20174395772715983, 'ceiling': 0.20174395772715983, 'wall': 0.445517906647478, 'floor': 0.4034879154543204, 'window': 3.9087891809637223, 'door': 3.9087891809637223, 'earthfloor_perimeter': 0.6388558661360073},開口部η0.22494713216779566,開口部ηH0.3679210611053846,開口部ηC0.22494713216779566\n",
      "UA計算値0.87,ηAH計算値2.8000000000000003,ηAC計算値1.4\n"
     ]
    },
    {
     "data": {
      "text/plain": [
       "{'common': {'region': 6,\n",
       "  'main_occupant_room_floor_area': 30.0,\n",
       "  'other_occupant_room_floor_area': 30.0,\n",
       "  'total_floor_area': 90.0},\n",
       " 'envelope': {'simple_method': {'insulation_type': 'floor',\n",
       "   'insulation_type_bathroom': 'inside',\n",
       "   'u_value_roof': 0.20174395772715983,\n",
       "   'u_value_wall': 0.445517906647478,\n",
       "   'u_value_floor_other': 0.4034879154543204,\n",
       "   'u_value_door': 3.9087891809637223,\n",
       "   'u_value_window': 3.9087891809637223,\n",
       "   'eta_d_value_window_c': 0.22494713216779566,\n",
       "   'eta_d_value_window_h': 0.3679210611053846,\n",
       "   'is_f_value_input': True,\n",
       "   'f_value_c': 0.664,\n",
       "   'f_value_h': 0.655,\n",
       "   'psi_value_earthfloor_perimeter_entrance': 0.6388558661360073}}}"
      ]
     },
     "execution_count": 3,
     "metadata": {},
     "output_type": "execute_result"
    }
   ],
   "source": [
    "d = {\n",
    "    'common' : {\n",
    "        'region' : 6,\n",
    "        'main_occupant_room_floor_area': 30.0,\n",
    "        'other_occupant_room_floor_area': 30.0,\n",
    "        'total_floor_area': 90.0\n",
    "    },\n",
    "    'envelope' : {\n",
    "        'input_method' : 'index',\n",
    "        'index' :{\n",
    "            'UA' : 0.87,\n",
    "            'etaAH': 2.8,\n",
    "            'etaAC': 1.4\n",
    "        }\n",
    "    }\n",
    "}\n",
    "\n",
    "convert(d)"
   ]
  }
 ],
 "metadata": {
  "kernelspec": {
   "display_name": "Python 3",
   "language": "python",
   "name": "python3"
  },
  "language_info": {
   "codemirror_mode": {
    "name": "ipython",
    "version": 3
   },
   "file_extension": ".py",
   "mimetype": "text/x-python",
   "name": "python",
   "nbconvert_exporter": "python",
   "pygments_lexer": "ipython3",
   "version": "3.7.0"
  }
 },
 "nbformat": 4,
 "nbformat_minor": 2
}
