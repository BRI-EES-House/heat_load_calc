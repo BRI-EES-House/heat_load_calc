{
 "cells": [
  {
   "cell_type": "code",
   "execution_count": 1,
   "metadata": {},
   "outputs": [
    {
     "name": "stdout",
     "output_type": "stream",
     "text": [
      "Importing Jupyter notebook from nu.ipynb\n"
     ]
    }
   ],
   "source": [
    "import copy\n",
    "import math\n",
    "import numpy\n",
    "\n",
    "from heat_load_calc.external import factor_nu as nu"
   ]
  },
  {
   "cell_type": "markdown",
   "metadata": {},
   "source": [
    "# 基準値計算用の住宅の幾何形状の決定"
   ]
  },
  {
   "cell_type": "markdown",
   "metadata": {},
   "source": [
    "## 3. 面積の設定"
   ]
  },
  {
   "cell_type": "markdown",
   "metadata": {},
   "source": [
    "### 1) 用途別床面積を取得する関数"
   ]
  },
  {
   "cell_type": "markdown",
   "metadata": {},
   "source": [
    "#### Outline"
   ]
  },
  {
   "cell_type": "markdown",
   "metadata": {},
   "source": [
    "延床面積、主たる居室の床面積、その他の居室の床面積より、非居室の床面積を算出する。"
   ]
  },
  {
   "cell_type": "markdown",
   "metadata": {},
   "source": [
    "#### Function"
   ]
  },
  {
   "cell_type": "code",
   "execution_count": 2,
   "metadata": {},
   "outputs": [],
   "source": [
    "def get_area_floor(d_common):\n",
    "    return {\n",
    "        'main_occupant_room'  : d_common['main_occupant_room_floor_area'],\n",
    "        'other_occupant_room' : d_common['other_occupant_room_floor_area'],\n",
    "        'non_occupant_room'   : d_common['total_floor_area'] \\\n",
    "                                - d_common['main_occupant_room_floor_area'] - d_common['other_occupant_room_floor_area']\n",
    "    }"
   ]
  },
  {
   "cell_type": "markdown",
   "metadata": {},
   "source": [
    "### 2) 総外皮面積に対する開口部比率、方位別の開口部比率"
   ]
  },
  {
   "cell_type": "markdown",
   "metadata": {},
   "source": [
    "#### Outline"
   ]
  },
  {
   "cell_type": "markdown",
   "metadata": {},
   "source": [
    "総外皮面積に対する開口部比率\n",
    "\n",
    "| 建て方 | 総外皮面積に対する開口部比率 |\n",
    "|---|---|\n",
    "| 戸建 | 11％ |\n",
    "| 共同 | 7％ |\n",
    "\n",
    "方位別の開口部比率\n",
    "\n",
    "| 建て方 | 北 | 南 | 東 | 西 |\n",
    "|---|---|---|---|---|\n",
    "| 戸建 | 11.0％ | 68.6％ | 13.2％ | 7.2％ |\n",
    "| 共同 | 21.5％ | 63.3％ | 0.0％ | 15.2％ |"
   ]
  },
  {
   "cell_type": "markdown",
   "metadata": {},
   "source": [
    "#### Function"
   ]
  },
  {
   "cell_type": "code",
   "execution_count": 3,
   "metadata": {},
   "outputs": [],
   "source": [
    "# 開口部比率, -\n",
    "def get_ratio_window(house_type) :\n",
    "    \n",
    "    ratio_window ={\n",
    "        'detached': {\n",
    "            'total': 0.11, \n",
    "            'direction':{ 'top':0.000, 'n':0.110, 's':0.686, 'e':0.132, 'w':0.072 }\n",
    "        }, \n",
    "        'condominium': { \n",
    "            'total': 0.07, \n",
    "            'direction':{ 'top':0.000, 'n':0.215, 's':0.633, 'e':0.000, 'w':0.152 }\n",
    "        }\n",
    "    }\n",
    "    \n",
    "    return ratio_window[house_type]"
   ]
  },
  {
   "cell_type": "markdown",
   "metadata": {},
   "source": [
    "### 3) 方位別の開口部面積の設定"
   ]
  },
  {
   "cell_type": "markdown",
   "metadata": {},
   "source": [
    "#### Outline"
   ]
  },
  {
   "cell_type": "markdown",
   "metadata": {},
   "source": [
    "総外皮面積、相外皮面積に対する開口部比率、方位別の開口部比率より、方位別の開口部面積を設定する。  \n",
    "ただし、ここで設定するのは暫定値であり、建て方別に、各方位の外皮面積を上限とした調整を行う。"
   ]
  },
  {
   "cell_type": "markdown",
   "metadata": {},
   "source": [
    "$$\n",
    "\\displaystyle\n",
    "A_w= A_{total} \\times r_w\n",
    "$$\n",
    "\n",
    "$$\n",
    "\\displaystyle\n",
    "A_{w,j}= A_w \\times r_{w,j}\n",
    "$$"
   ]
  },
  {
   "cell_type": "markdown",
   "metadata": {},
   "source": [
    "$r_{w}$: 総外皮面積に対する開口部比率, -  \n",
    "$r_{w,j}$: 方位jの開口部比率, -  \n",
    "$A_{w}$: 開口部面積, m<sup>2</sup>  \n",
    "$A_{w,j}$: 方位jの開口部面積, m<sup>2</sup>  \n",
    "$A_{total}$: 総外皮面積, m<sup>2</sup>  "
   ]
  },
  {
   "cell_type": "markdown",
   "metadata": {},
   "source": [
    "#### Function"
   ]
  },
  {
   "cell_type": "code",
   "execution_count": 4,
   "metadata": {},
   "outputs": [],
   "source": [
    "def get_area_windows(house_type, area_total_skin) :\n",
    "\n",
    "    # 開口部比率, -\n",
    "    ratio_window = get_ratio_window(house_type)\n",
    "    \n",
    "    # 開口部面積, m\n",
    "    area_window = ratio_window['total'] * area_total_skin\n",
    "    area_windows = { x : area_window * ratio_window['direction'][x] for x in ratio_window['direction'].keys()}\n",
    "    \n",
    "    return area_windows"
   ]
  },
  {
   "cell_type": "markdown",
   "metadata": {},
   "source": [
    "### 4) 方位別の開口部面積の調整"
   ]
  },
  {
   "cell_type": "markdown",
   "metadata": {},
   "source": [
    "#### Outline"
   ]
  },
  {
   "cell_type": "markdown",
   "metadata": {},
   "source": [
    "方位別の開口部面積について、各方位の外皮面積を上限とした調整を行う。  \n",
    "開口部面積の大きい方位より順に、各方位の外皮面積を上回る開口部面積を割り付ける。"
   ]
  },
  {
   "cell_type": "code",
   "execution_count": 5,
   "metadata": {},
   "outputs": [],
   "source": [
    "# 窓面積の調整\n",
    "def adjust_window_area(area_windows_pre, priority):\n",
    "\n",
    "    area_adjust = 0\n",
    "    area_windows = {}\n",
    "    for i in range(0,5):\n",
    "        area_windows[priority[i]['direction']] = min( area_adjust + area_windows_pre[priority[i]['direction']], priority[i]['area_max'] )\n",
    "        area_adjust = max( 0, area_adjust + area_windows_pre[priority[i]['direction']] - priority[i]['area_max'] )\n",
    "\n",
    "    return area_windows"
   ]
  },
  {
   "cell_type": "code",
   "execution_count": 6,
   "metadata": {},
   "outputs": [
    {
     "name": "stdout",
     "output_type": "stream",
     "text": [
      "{'s': 8, 'e': 8, 'n': 7, 'w': 7, 'top': 9}\n"
     ]
    }
   ],
   "source": [
    "area_windows = {'s':10,'n':5,'e':18,'w':6,'top':0}\n",
    "\n",
    "area_windows = adjust_window_area( area_windows, \n",
    "                                  [{'direction':  's','area_max': 8},\n",
    "                                   {'direction':  'e','area_max': 8},\n",
    "                                   {'direction':  'n','area_max': 7},\n",
    "                                   {'direction':  'w','area_max': 7},\n",
    "                                   {'direction':'top','area_max':10}] )\n",
    "    \n",
    "print( area_windows )"
   ]
  },
  {
   "cell_type": "markdown",
   "metadata": {},
   "source": [
    "### 5) 外壁・開口部・内壁のリスト作成"
   ]
  },
  {
   "cell_type": "markdown",
   "metadata": {},
   "source": [
    "#### Outline"
   ]
  },
  {
   "cell_type": "markdown",
   "metadata": {},
   "source": [
    "各部位の面積をもとに、外壁・開口部・内壁のリストを作成する。"
   ]
  },
  {
   "cell_type": "markdown",
   "metadata": {},
   "source": [
    "#### Function1"
   ]
  },
  {
   "cell_type": "markdown",
   "metadata": {},
   "source": [
    "外壁のリスト作成"
   ]
  },
  {
   "cell_type": "code",
   "execution_count": 7,
   "metadata": {},
   "outputs": [],
   "source": [
    "def get_list_general_parts(area_general_parts) :\n",
    "\n",
    "    correspondence = {\n",
    "        'type':{ 'ceiling':'ceiling', 'floor':'floor', 'wall_n':'wall', 'wall_s':'wall', 'wall_e':'Wall', 'wall_w':'wall' },\n",
    "        'direction':{ 'ceiling':'top', 'floor':'bottom', 'wall_n':'n', 'wall_s':'s', 'wall_e':'e', 'wall_w':'w' }\n",
    "    }\n",
    "    \n",
    "    d = []    \n",
    "    for x in area_general_parts.keys() :\n",
    "        for y in area_general_parts[x].keys() :\n",
    "            if area_general_parts[x][y] > 0 :\n",
    "                d.append({\n",
    "                    'name'                  : x + '_' + y,\n",
    "                    'general_part_type'     : correspondence['type'][x],\n",
    "                    'next_space'            : 'outdoor',\n",
    "                    'external_surface_type' : 'outdoor',\n",
    "                    'direction'             : correspondence['direction'][x],\n",
    "                    'area'                  : area_general_parts[x][y],\n",
    "                    'space_type'            : y\n",
    "                })\n",
    "    \n",
    "    return d"
   ]
  },
  {
   "cell_type": "markdown",
   "metadata": {},
   "source": [
    "#### Function2"
   ]
  },
  {
   "cell_type": "markdown",
   "metadata": {},
   "source": [
    "開口部のリスト作成"
   ]
  },
  {
   "cell_type": "code",
   "execution_count": 8,
   "metadata": {},
   "outputs": [],
   "source": [
    "def get_list_windows(area_windows) :\n",
    "    \n",
    "    d = []    \n",
    "    for x in area_windows.keys() :\n",
    "        for y in area_windows[x].keys() :\n",
    "            if area_windows[x][y] > 0 :\n",
    "                d.append({\n",
    "                    'name'       : x + '_' + y,\n",
    "                    'next_space' : 'outdoor',\n",
    "                    'direction'  : x,\n",
    "                    'area'       : area_windows[x][y],\n",
    "                    'space_type' : y\n",
    "                })\n",
    "    return d"
   ]
  },
  {
   "cell_type": "markdown",
   "metadata": {},
   "source": [
    "#### Function3"
   ]
  },
  {
   "cell_type": "markdown",
   "metadata": {},
   "source": [
    "内壁のリスト作成"
   ]
  },
  {
   "cell_type": "code",
   "execution_count": 9,
   "metadata": {},
   "outputs": [],
   "source": [
    "def get_list_inner_walls(area_inner_walls) :\n",
    "    \n",
    "    d = []    \n",
    "    for x in area_inner_walls.keys() :\n",
    "        if area_inner_walls[x] > 0 :\n",
    "            d.append({\n",
    "                'name'      : 'inner_wall_' + x ,\n",
    "                'area'      : area_inner_walls[x],\n",
    "                'space_type': x,\n",
    "                'type'      : 'inner_wall'})\n",
    "\n",
    "    return d"
   ]
  },
  {
   "cell_type": "markdown",
   "metadata": {},
   "source": [
    "#### Function4"
   ]
  },
  {
   "cell_type": "markdown",
   "metadata": {},
   "source": [
    "外壁・開口部・内壁のリストの統合"
   ]
  },
  {
   "cell_type": "code",
   "execution_count": 10,
   "metadata": {},
   "outputs": [],
   "source": [
    "def get_list(area) :\n",
    "    \n",
    "    d = {}\n",
    "    d['general_parts'] = get_list_general_parts( area['general_parts'] )\n",
    "    d['windows'] = get_list_windows( area['windows'] )\n",
    "    d['inner_walls'] = get_list_inner_walls( area['inner_walls'] )\n",
    "    \n",
    "    return d"
   ]
  },
  {
   "cell_type": "markdown",
   "metadata": {},
   "source": [
    "### 6) 基準値計算用の住宅の幾何形状の決定"
   ]
  },
  {
   "cell_type": "markdown",
   "metadata": {},
   "source": [
    "#### Outline"
   ]
  },
  {
   "cell_type": "markdown",
   "metadata": {},
   "source": [
    "戸建住宅、共同住宅別に階高、階数を設定し、総外皮面積と床面積が設計住戸と等しくなるような直方体の住宅の幾何形状を決定する。  \n",
    "ただし、以下の場合には、調整を行う。  \n",
    "　設計住戸の総外皮面積が比較的小さく、総外皮面積と床面積が設計住戸に等しいという条件を満たす幾何形状を決定できない場合  \n",
    "　基準値計算用の住戸の平面のアスペクト比が上限値を超える場合"
   ]
  },
  {
   "cell_type": "markdown",
   "metadata": {},
   "source": [
    "建物高を各階の階高の合計値とする。"
   ]
  },
  {
   "cell_type": "markdown",
   "metadata": {},
   "source": [
    "$$\n",
    "\\displaystyle\n",
    "h = \\sum_{n}{h_n}\n",
    "$$"
   ]
  },
  {
   "cell_type": "markdown",
   "metadata": {},
   "source": [
    "$h$: 建物高, m  \n",
    "$h_n$: $n$階の階高, m  \n",
    "$n$: 階数, -  "
   ]
  },
  {
   "cell_type": "markdown",
   "metadata": {},
   "source": [
    "基準値計算用の住宅の総外皮面積を、設計住戸の総外皮面積、もしくは、正方形プランを仮定した総外皮面積の大きい方とする。"
   ]
  },
  {
   "cell_type": "markdown",
   "metadata": {},
   "source": [
    "![image.png](attachment:image.png)"
   ]
  },
  {
   "cell_type": "markdown",
   "metadata": {},
   "source": [
    "$$\n",
    "\\displaystyle\n",
    "A_{total skin}= \\max \\left( A_{total skin,design}, \\frac{ 2 \\times A_{floor}}{ n } +  4 \\times h \\times　\\sqrt{ \\frac{ A_{floor} }{ n }} \\right)\n",
    "$$"
   ]
  },
  {
   "cell_type": "markdown",
   "metadata": {},
   "source": [
    "$A_{floor}$: 延床皮面積, m<sup>2</sup>  \n",
    "$A_{total skin}$: 基準値計算用の住宅の総外皮面積, m<sup>2</sup>  \n",
    "$A_{total skin,design}$: 設計住戸の総外皮面積, m<sup>2</sup>  \n",
    "$h$: 建物高, m  \n",
    "$n$: 階数, -  "
   ]
  },
  {
   "cell_type": "markdown",
   "metadata": {},
   "source": [
    "周長を、総外皮面積、延床面積、建物高、階数より算出する。  \n",
    "短辺・長辺の長さを、周長、延床面積、階数、アスペクト比の上限値より算出する。"
   ]
  },
  {
   "cell_type": "markdown",
   "metadata": {},
   "source": [
    "$$\n",
    "\\displaystyle\n",
    "l_{circumference}= \\frac{A_{totalskin}- 2 \\times \\frac{ A_{floor}}{ n }}{h}\n",
    "$$\n",
    "$$\n",
    "\\displaystyle\n",
    "l_{narrow}= \\max \\left( \\frac {l_{circumference}}{ 2 \\times (1+r_{aspect,max})}, \\frac{l_{circumference} - \\sqrt{l_{circumference}^2 - 16 \\times \\frac{ A_{floor} }{ n }}}{4} \\right)\n",
    "$$\n",
    "$$\n",
    "\\displaystyle\n",
    "l_{long}= \\frac{l_{circumference} - 2 \\times l_{narrow}}{2}\n",
    "$$"
   ]
  },
  {
   "cell_type": "markdown",
   "metadata": {},
   "source": [
    "$l_{circumference}$: 周長, m  \n",
    "$l_{narrow}$: 短辺長さ, m  \n",
    "$l_{long}$: 長辺長さ, m  \n",
    "$A_{floor}$: 延床皮面積, m<sup>2</sup>  \n",
    "$A_{total skin}$: 基準値計算用の住宅の総外皮面積, m<sup>2</sup>  \n",
    "$r_{aspect,max}$: アスペクト比の上限値（2とする）, -  \n",
    "$n$: 階数, -  "
   ]
  },
  {
   "cell_type": "markdown",
   "metadata": {},
   "source": [
    "アスペクト比を上限値により調整している場合に、面積算出用の床面積の調整を行うため、調整係数を算出する。"
   ]
  },
  {
   "cell_type": "markdown",
   "metadata": {},
   "source": [
    "$$\n",
    "\\displaystyle\n",
    "r_{area,floor}= \\frac{ n \\times l_{narrow} \\times l_{long} }{ A_{floor} }\n",
    "$$"
   ]
  },
  {
   "cell_type": "markdown",
   "metadata": {},
   "source": [
    "$l_{narrow}$: 短辺長さ, m  \n",
    "$l_{long}$: 長辺長さ, m  \n",
    "$A_{floor}$: 延床皮面積, m<sup>2</sup>  \n",
    "$n$: 階数, -  \n",
    "$r_{area,floor}$: アスペクト比を上限値により調整している場合に、面積算出用の床面積の調整を行うための調整係数, -  "
   ]
  },
  {
   "cell_type": "markdown",
   "metadata": {},
   "source": [
    "#### Function"
   ]
  },
  {
   "cell_type": "code",
   "execution_count": 11,
   "metadata": {},
   "outputs": [],
   "source": [
    "def get_geometry(d, area_floor) :\n",
    "    \n",
    "    # 階高の設定\n",
    "    floor_height ={ 'detached' : [ 2.9, 2.7 ], 'condominium' : [ 2.8 ] }[d['common']['house_type']]\n",
    "    \n",
    "    # 階数の設定\n",
    "    n = { 'detached': 2, 'condominium': 1 }[d['common']['house_type']]\n",
    "        \n",
    "    # 建物高の算出\n",
    "    height=sum( x for x in floor_height )\n",
    "    \n",
    "    # 基準住戸の総外皮面積の算出\n",
    "    area_total_skin_min=2*(d['common']['total_floor_area']/n)+4*height*(d['common']['total_floor_area']/n)**0.5\n",
    "    area_total_skin=max( area_total_skin_min, d['common']['total_outer_skin_area'] )\n",
    "    \n",
    "    # 周長の算出\n",
    "    length_circumference=(area_total_skin-(2*d['common']['total_floor_area']/n))/height\n",
    "    \n",
    "    # アスペクト比の上限値の設定    \n",
    "    ratio_aspect_max=2\n",
    "    \n",
    "    # 短辺・長辺長さの算出\n",
    "    length_narrow=max(length_circumference/((1+ratio_aspect_max)*2),\n",
    "                      (length_circumference-max( 0, length_circumference**2-16*d['common']['total_floor_area']/n )**0.5)/4)\n",
    "    length_long=(length_circumference-length_narrow*2)/2\n",
    "    \n",
    "    # アスペクト比を上限値により調整している場合、面積算出用の床面積の調整\n",
    "    area_floor_r = { x : (area_floor[x] * length_narrow * length_long * n / d['common']['total_floor_area']) for x in area_floor.keys()}\n",
    "\n",
    "    return n, height, floor_height, area_total_skin, length_narrow, length_long, area_floor_r"
   ]
  },
  {
   "cell_type": "markdown",
   "metadata": {},
   "source": [
    "### 7) 戸建住宅の面積の算出"
   ]
  },
  {
   "cell_type": "markdown",
   "metadata": {},
   "source": [
    "#### Outline"
   ]
  },
  {
   "cell_type": "markdown",
   "metadata": {},
   "source": [
    "戸建住宅の各部位の面積を、以下の場合に応じて、算出する。  \n",
    "　主たる居室とその他の居室の床面積が等しい場合：北側を非居室、南側の1階を主たる居室、2階をその他の居室とする  \n",
    "　主たる居室の床面積がその他の居室の床面積より大きい場合：北側を非居室、2階の南西をその他の居室とする  \n",
    "　主たる居室の床面積がその他の居室の床面積より小さい場合：北側を非居室、1階の南東を主たる居室とする  "
   ]
  },
  {
   "cell_type": "markdown",
   "metadata": {},
   "source": [
    "#### Function1"
   ]
  },
  {
   "cell_type": "markdown",
   "metadata": {},
   "source": [
    "主たる居室とその他の居室の床面積が等しい場合：南側の1階を主たる居室、2階をその他の居室とする\n",
    "\n",
    "![image.png](attachment:image.png)"
   ]
  },
  {
   "cell_type": "code",
   "execution_count": 12,
   "metadata": {},
   "outputs": [],
   "source": [
    "# 戸建住宅の面積算出\n",
    "# 南側1階主たる居室、2階その他の居室\n",
    "def get_area_detached_main_equal_to_other ( area_floor_r, ratio_floor_r, height, floor_height, ratio_floor_height, \\\n",
    "                                            length_long, length_narrow, length_NS_n, ratio_length_NS_n, area_NS, area_windows ) :\n",
    "\n",
    "    area={}\n",
    "    \n",
    "    # 窓面積\n",
    "    # 北窓は非居室\n",
    "    # 南窓は1階主たる居室、南側2階その他の居室\n",
    "    # 東窓・西窓は北側非居室、南側1階主たる居室、2階その他の居室\n",
    "    area['windows']={\n",
    "        'n' : {\n",
    "            'main_occupant_room'  : 0,\n",
    "            'other_occupant_room' : 0,\n",
    "            'non_occupant_room'   : area_windows['n']\n",
    "        },\n",
    "        's' : {\n",
    "            'main_occupant_room'  : area_windows['s'] * ratio_floor_height[0] ,\n",
    "            'other_occupant_room' : area_windows['s'] * ratio_floor_height[1] ,\n",
    "            'non_occupant_room'   : 0\n",
    "        },\n",
    "        'e' : {\n",
    "            'main_occupant_room'  : area_windows['e'] * ( 1 - ratio_length_NS_n ) * ratio_floor_height[0] ,\n",
    "            'other_occupant_room' : area_windows['e'] * ( 1 - ratio_length_NS_n ) * ratio_floor_height[1] ,\n",
    "            'non_occupant_room'   : area_windows['e'] * ratio_length_NS_n\n",
    "        },\n",
    "        'w' : {\n",
    "            'main_occupant_room'  : area_windows['w'] * ( 1 - ratio_length_NS_n ) * ratio_floor_height[0] ,\n",
    "            'other_occupant_room' : area_windows['w'] * ( 1 - ratio_length_NS_n ) * ratio_floor_height[1] ,\n",
    "            'non_occupant_room'   : area_windows['w'] * ratio_length_NS_n\n",
    "        },\n",
    "        'top' : {\n",
    "            'main_occupant_room'  : 0,\n",
    "            'other_occupant_room' : area_windows['top'] * ( 1 - ratio_length_NS_n ),\n",
    "            'non_occupant_room'   : area_windows['top'] * ratio_length_NS_n\n",
    "        }\n",
    "    }\n",
    "\n",
    "    # 一般部位面積\n",
    "    area['general_parts']={\n",
    "        'ceiling' : {\n",
    "            'main_occupant_room'  : 0,\n",
    "            'other_occupant_room' : (length_narrow - length_NS_n) * length_long / ratio_floor_r - area['windows']['top']['other_occupant_room'],\n",
    "            'non_occupant_room'   : length_NS_n * length_long / ratio_floor_r - area['windows']['top']['non_occupant_room']\n",
    "        },\n",
    "        'floor' : {\n",
    "            'main_occupant_room'  : (length_narrow - length_NS_n) * length_long / ratio_floor_r,\n",
    "            'other_occupant_room' : 0,\n",
    "            'non_occupant_room'   : length_NS_n * length_long / ratio_floor_r\n",
    "        },\n",
    "        'wall_n': {\n",
    "            'main_occupant_room'  : 0,\n",
    "            'other_occupant_room' : 0,\n",
    "            'non_occupant_room'   : area_NS - area['windows']['n']['non_occupant_room']\n",
    "        },\n",
    "        'wall_s': {\n",
    "            'main_occupant_room'  : length_long * floor_height[0] - area['windows']['s']['main_occupant_room'],\n",
    "            'other_occupant_room' : length_long * floor_height[1] - area['windows']['s']['other_occupant_room'],\n",
    "            'non_occupant_room'   : 0\n",
    "        },\n",
    "        'wall_e': {\n",
    "            'main_occupant_room'  : ( length_narrow - length_NS_n ) * floor_height[0] - area['windows']['e']['main_occupant_room'],\n",
    "            'other_occupant_room' : ( length_narrow - length_NS_n ) * floor_height[1] - area['windows']['e']['other_occupant_room'],\n",
    "            'non_occupant_room'   : length_NS_n * height - area['windows']['e']['non_occupant_room']\n",
    "        },\n",
    "        'wall_w': {\n",
    "            'main_occupant_room'  : ( length_narrow - length_NS_n ) * floor_height[0] - area['windows']['w']['main_occupant_room'],\n",
    "            'other_occupant_room' : ( length_narrow - length_NS_n ) * floor_height[1]- area['windows']['w']['other_occupant_room'],\n",
    "            'non_occupant_room'   : length_NS_n * height - area['windows']['w']['non_occupant_room']                    \n",
    "        }\n",
    "    }\n",
    "\n",
    "    # 内壁面積\n",
    "    area['inner_walls']={\n",
    "        'main to other'      : length_long * ( length_narrow - length_NS_n ) ,\n",
    "        'main to lonliving'  : length_long * floor_height[0] ,\n",
    "        'other to nonliving' : length_long * floor_height[1] \n",
    "    }\n",
    "\n",
    "    return area"
   ]
  },
  {
   "cell_type": "markdown",
   "metadata": {},
   "source": [
    "#### Function2"
   ]
  },
  {
   "cell_type": "markdown",
   "metadata": {},
   "source": [
    "主たる居室の床面積がその他の居室の床面積より大きい場合：北側を非居室、2階の南西をその他の居室とする\n",
    "\n",
    "![image.png](attachment:image.png)"
   ]
  },
  {
   "cell_type": "code",
   "execution_count": 13,
   "metadata": {},
   "outputs": [],
   "source": [
    "# 戸建住宅の面積算出\n",
    "# 2階南西その他の居室\n",
    "def get_area_detached_main_larger_than_other ( area_floor_r, ratio_floor_r, height, floor_height, ratio_floor_height, \\\n",
    "                                            length_long, length_narrow, length_NS_n, ratio_length_NS_n, area_NS, area_windows ) :\n",
    "    \n",
    "    length_EW_o= area_floor_r['other_occupant_room'] / ( length_narrow - length_NS_n )\n",
    " \n",
    "    area={}\n",
    "      \n",
    "    # 窓面積\n",
    "    # 北窓は非居室\n",
    "    # 南窓は2階南西その他の居室、他は主たる居室、\n",
    "    # 東窓は北側非居室、南側主たる居室\n",
    "    # 西窓は北側非居室、南側1階主たる居室、南側2階その他の居室\n",
    "    area['windows']={\n",
    "        'n' : {\n",
    "            'main_occupant_room'  : 0,\n",
    "            'other_occupant_room' : 0,\n",
    "            'non_occupant_room'   : area_windows['n']\n",
    "        },\n",
    "        's' : {\n",
    "            'main_occupant_room'  : area_windows['s'] * (1 - length_EW_o * floor_height[1]/ area_NS) ,\n",
    "            'other_occupant_room' : area_windows['s'] * (length_EW_o * floor_height[1])/ area_NS ,\n",
    "            'non_occupant_room'   : 0\n",
    "        },\n",
    "        'e' : {\n",
    "            'main_occupant_room'  : area_windows['e'] * ( 1 - ratio_length_NS_n ),\n",
    "            'other_occupant_room' : 0,\n",
    "            'non_occupant_room'   : area_windows['e'] * ratio_length_NS_n\n",
    "        },\n",
    "        'w' : {\n",
    "            'main_occupant_room'  : area_windows['w'] * ( 1 - ratio_length_NS_n ) * ratio_floor_height[0] ,\n",
    "            'other_occupant_room' : area_windows['w'] *  ( 1 - ratio_length_NS_n ) * ratio_floor_height[1] ,\n",
    "            'non_occupant_room'   : area_windows['w'] * ratio_length_NS_n\n",
    "        },\n",
    "        'top' : {\n",
    "            'main_occupant_room'  : area_windows['top'] * ( 1 - ratio_length_NS_n ) * ( 1 - length_EW_o/length_long ),\n",
    "            'other_occupant_room' : area_windows['top'] * ( 1 - ratio_length_NS_n ) * ( length_EW_o/length_long ),\n",
    "            'non_occupant_room'   : area_windows['top'] * ratio_length_NS_n\n",
    "        }\n",
    "    }\n",
    "\n",
    "    # 外壁面積\n",
    "    area['general_parts']={\n",
    "        'ceiling' : {\n",
    "            'main_occupant_room'  : (length_narrow - length_NS_n) * (length_long - length_EW_o) / ratio_floor_r - area['windows']['top']['main_occupant_room'],\n",
    "            'other_occupant_room' : (length_narrow - length_NS_n) * length_EW_o / ratio_floor_r - area['windows']['top']['other_occupant_room'],\n",
    "            'non_occupant_room'   : length_NS_n * length_long / ratio_floor_r - area['windows']['top']['non_occupant_room']\n",
    "        },\n",
    "        'floor' : {\n",
    "            'main_occupant_room'  : (length_narrow - length_NS_n) * length_long / ratio_floor_r,\n",
    "            'other_occupant_room' : 0,\n",
    "            'non_occupant_room'   : length_NS_n * length_long / ratio_floor_r\n",
    "        },\n",
    "        'wall_n': {\n",
    "            'main_occupant_room'  : 0,\n",
    "            'other_occupant_room' : 0,\n",
    "            'non_occupant_room'   : area_NS - area['windows']['n']['non_occupant_room']\n",
    "        },\n",
    "        'wall_s': {\n",
    "            'main_occupant_room'  : (area_NS - length_EW_o * floor_height[1]) - area['windows']['s']['main_occupant_room'],\n",
    "            'other_occupant_room' : length_EW_o * floor_height[1] - area['windows']['s']['other_occupant_room'],\n",
    "            'non_occupant_room'   : 0\n",
    "        },\n",
    "        'wall_e': {\n",
    "            'main_occupant_room'  : ( length_narrow - length_NS_n ) * height - area['windows']['e']['main_occupant_room'],\n",
    "            'other_occupant_room' : 0,\n",
    "            'non_occupant_room'   : length_NS_n * height - area['windows']['e']['non_occupant_room']\n",
    "        },\n",
    "        'wall_w': {\n",
    "            'main_occupant_room'  : ( length_narrow - length_NS_n ) * floor_height[0] - area['windows']['w']['main_occupant_room'],\n",
    "            'other_occupant_room' : ( length_narrow - length_NS_n ) * floor_height[1]- area['windows']['w']['other_occupant_room'],\n",
    "            'non_occupant_room'   : length_NS_n * height - area['windows']['w']['non_occupant_room']                    \n",
    "        }\n",
    "    }\n",
    "\n",
    "    # 内壁面積\n",
    "    area['inner_walls']={\n",
    "        'main to other'      : ( length_narrow - length_NS_n ) * floor_height[1] + ( length_narrow - length_NS_n ) * length_EW_o ,\n",
    "        'main to lonliving'  : area_NS - length_EW_o * floor_height[1] ,\n",
    "        'other to nonliving' : length_EW_o * floor_height[1] \n",
    "    }\n",
    "\n",
    "    return area"
   ]
  },
  {
   "cell_type": "markdown",
   "metadata": {},
   "source": [
    "#### Function3"
   ]
  },
  {
   "cell_type": "markdown",
   "metadata": {},
   "source": [
    "主たる居室の床面積がその他の居室の床面積より小さい場合：北側を非居室、1階の南東を主たる居室とする\n",
    "\n",
    "![image.png](attachment:image.png)"
   ]
  },
  {
   "cell_type": "code",
   "execution_count": 14,
   "metadata": {},
   "outputs": [],
   "source": [
    "# 戸建住宅の面積算出\n",
    "# 1階南東主たる居室\n",
    "def get_area_detached_main_smaller_than_other ( area_floor_r, ratio_floor_r, height, floor_height, ratio_floor_height, \\\n",
    "                                            length_long, length_narrow, length_NS_n, ratio_length_NS_n, area_NS, area_windows ) :\n",
    "    \n",
    "    length_EW_m= area_floor_r['main_occupant_room'] / ( length_narrow - length_NS_n )\n",
    " \n",
    "    area={}\n",
    "    \n",
    "    # 窓面積\n",
    "    # 北窓は非居室\n",
    "    # 南窓は1階南東主たる居室、他はその他の居室、\n",
    "    # 東窓は北側非居室、南側1階主たる居室、南側2階その他の居室\n",
    "    # 西窓は北側非居室、南側その他の居室\n",
    "    area['windows']={\n",
    "        'n' : {\n",
    "            'main_occupant_room'  : 0,\n",
    "            'other_occupant_room' : 0,\n",
    "            'non_occupant_room'   : area_windows['n']\n",
    "        },\n",
    "        's' : {\n",
    "            'main_occupant_room'  : area_windows['s'] * (length_EW_m * floor_height[0])/ area_NS ,\n",
    "            'other_occupant_room' : area_windows['s'] * (1 - length_EW_m * floor_height[0]/ area_NS) ,\n",
    "            'non_occupant_room'   : 0\n",
    "        },\n",
    "        'e' : {\n",
    "            'main_occupant_room'  : area_windows['e'] * ( 1 - ratio_length_NS_n ) * ratio_floor_height[0] ,\n",
    "            'other_occupant_room' : area_windows['e'] *  ( 1 - ratio_length_NS_n ) * ratio_floor_height[1] ,\n",
    "            'non_occupant_room'   : area_windows['e'] * ratio_length_NS_n\n",
    "        },\n",
    "        'w' : {\n",
    "            'main_occupant_room'  : 0,\n",
    "            'other_occupant_room' : area_windows['w'] * ( 1 - ratio_length_NS_n ),\n",
    "            'non_occupant_room'   : area_windows['w'] * ratio_length_NS_n\n",
    "        },\n",
    "        'top' : {\n",
    "            'main_occupant_room'  : 0,\n",
    "            'other_occupant_room' : area_windows['top'] * ( 1 - ratio_length_NS_n ),\n",
    "            'non_occupant_room'   : area_windows['top'] * ratio_length_NS_n\n",
    "        }\n",
    "    }\n",
    "\n",
    "    # 外壁面積\n",
    "    area['general_parts']={\n",
    "        'ceiling' : {\n",
    "            'main_occupant_room'  : 0,\n",
    "            'other_occupant_room' : (length_narrow - length_NS_n) * length_long / ratio_floor_r - area['windows']['top']['other_occupant_room'],\n",
    "            'non_occupant_room'   :length_NS_n * length_long / ratio_floor_r - area['windows']['top']['non_occupant_room']\n",
    "        },\n",
    "        'floor' : {\n",
    "            'main_occupant_room'  : (length_narrow - length_NS_n) * length_EW_m / ratio_floor_r,\n",
    "            'other_occupant_room' : (length_narrow - length_NS_n) * (length_long - length_EW_m) / ratio_floor_r,\n",
    "            'non_occupant_room'   : length_NS_n * length_long / ratio_floor_r\n",
    "        },\n",
    "        'wall_n': {\n",
    "            'main_occupant_room'  : 0,\n",
    "            'other_occupant_room' : 0,\n",
    "            'non_occupant_room'   : area_NS - area['windows']['n']['non_occupant_room']\n",
    "        },\n",
    "        'wall_s': {\n",
    "            'main_occupant_room'  : length_EW_m * floor_height[0] - area['windows']['s']['main_occupant_room'],\n",
    "            'other_occupant_room' : (area_NS - length_EW_m * floor_height[0]) - area['windows']['s']['other_occupant_room'],\n",
    "            'non_occupant_room'   : 0\n",
    "        },\n",
    "        'wall_e': {\n",
    "            'main_occupant_room'  : ( length_narrow - length_NS_n ) * floor_height[0] - area['windows']['e']['main_occupant_room'],\n",
    "            'other_occupant_room' : ( length_narrow - length_NS_n ) * floor_height[1]- area['windows']['e']['other_occupant_room'],\n",
    "            'non_occupant_room'   : length_NS_n * height - area['windows']['e']['non_occupant_room']\n",
    "        },\n",
    "        'wall_w': {\n",
    "            'main_occupant_room'  : 0,\n",
    "            'other_occupant_room' : ( length_narrow - length_NS_n ) * height - area['windows']['w']['other_occupant_room'],\n",
    "            'non_occupant_room'   : length_NS_n * height - area['windows']['w']['non_occupant_room']                    \n",
    "        }\n",
    "    }\n",
    "\n",
    "    # 内壁面積\n",
    "    area['inner_walls']={\n",
    "        'main to other'      : ( length_narrow - length_NS_n ) * floor_height[0] + ( length_narrow - length_NS_n ) * length_EW_m ,\n",
    "        'main to lonliving'  : length_EW_m * floor_height[0] ,\n",
    "        'other to nonliving' : area_NS - length_EW_m * floor_height[0] \n",
    "    }\n",
    "\n",
    "    return area"
   ]
  },
  {
   "cell_type": "markdown",
   "metadata": {},
   "source": [
    "#### Function4"
   ]
  },
  {
   "cell_type": "markdown",
   "metadata": {},
   "source": [
    "方位別開口部面積が各方位の外皮面積を超過する場合、南、東、北、西、天井の順に、各方位の外皮面積を上限として、開口部面積を割り付ける。\n",
    "\n",
    "戸建住宅の各部位の面積を、以下の場合に応じて、算出する。  \n",
    "　主たる居室とその他の居室の床面積が等しい場合：北側を非居室、南側の1階を主たる居室、2階をその他の居室とする  \n",
    "　主たる居室の床面積がその他の居室の床面積より大きい場合：北側を非居室、2階の南西をその他の居室とする  \n",
    "　主たる居室の床面積がその他の居室の床面積より小さい場合：北側を非居室、1階の南東を主たる居室とする  "
   ]
  },
  {
   "cell_type": "code",
   "execution_count": 15,
   "metadata": {},
   "outputs": [],
   "source": [
    "# 戸建住宅の面積算出\n",
    "def get_area_detached( area_floor_total, area_floor, area_floor_r, n, height, floor_height, length_long, length_narrow, area_windows) :\n",
    "    \n",
    "    # 延床面積に対する用途別床面積の割合\n",
    "    ratio_floor = { x : area_floor[x] / area_floor_total for x in area_floor.keys()}\n",
    " \n",
    "    # アスペクト比を上限値により調整している場合、調整前の床面積に対する調整後の床面積の割合\n",
    "    ratio_floor_r = sum( area_floor_r[x] for x in area_floor_r ) / sum( area_floor[x] for x in area_floor )\n",
    "    \n",
    "    # 建物高に対する階高の割合\n",
    "    ratio_floor_height = [ floor_height[0] / height, floor_height[1] / height ]\n",
    "    \n",
    "    # 南北面・東西面面積, ㎡\n",
    "    area_NS = length_long * height\n",
    "    area_EW = length_narrow * height\n",
    "    \n",
    "    # 非居室南北方向長さ, m\n",
    "    length_NS_n = (area_floor_r['non_occupant_room'])/n/length_long\n",
    "    ratio_length_NS_n = length_NS_n / length_narrow\n",
    "    \n",
    "    # 窓面積の調整 南、東、北、西、天井の順に割付\n",
    "    area_windows = adjust_window_area( area_windows, \n",
    "                                      [{'direction':  's','area_max':area_EW},\n",
    "                                       {'direction':  'e','area_max':area_NS},\n",
    "                                       {'direction':  'n','area_max':area_EW},\n",
    "                                       {'direction':  'w','area_max':area_NS},\n",
    "                                       {'direction':'top','area_max':length_long * length_narrow / ratio_floor_r }] )\n",
    "    \n",
    "    # 面積算出\n",
    "    # 南側1階主たる居室、2階その他の居室\n",
    "    if area_floor['main_occupant_room'] == area_floor['other_occupant_room'] :\n",
    "        area = get_area_detached_main_equal_to_other( \\\n",
    "            area_floor_r, ratio_floor_r, height, floor_height, ratio_floor_height, \\\n",
    "            length_long, length_narrow, length_NS_n, ratio_length_NS_n, area_NS, area_windows )\n",
    "    # 2階南西その他の居室\n",
    "    elif area_floor['main_occupant_room'] > area_floor['other_occupant_room'] :\n",
    "        area = get_area_detached_main_larger_than_other( \\\n",
    "            area_floor_r, ratio_floor_r, height, floor_height, ratio_floor_height, \\\n",
    "            length_long, length_narrow, length_NS_n, ratio_length_NS_n, area_NS, area_windows )\n",
    "    # 1階南東主たる居室\n",
    "    elif area_floor['main_occupant_room'] < area_floor['other_occupant_room'] :\n",
    "        area = get_area_detached_main_smaller_than_other( \\\n",
    "            area_floor_r, ratio_floor_r, height, floor_height, ratio_floor_height, \\\n",
    "            length_long, length_narrow, length_NS_n, ratio_length_NS_n, area_NS, area_windows )\n",
    "        \n",
    "    return area"
   ]
  },
  {
   "cell_type": "markdown",
   "metadata": {},
   "source": [
    "### 8) 共同住宅の面積の算出"
   ]
  },
  {
   "cell_type": "markdown",
   "metadata": {},
   "source": [
    "#### Outline"
   ]
  },
  {
   "cell_type": "markdown",
   "metadata": {},
   "source": [
    "共同住宅の各部位の面積を算出する。  \n",
    "方位別開口部面積が各方位の外皮面積を超過する場合、南、北、西、東、天井の順に、各方位の外皮面積を上限として、開口部面積を割り付ける。\n",
    "\n",
    "![image.png](attachment:image.png)"
   ]
  },
  {
   "cell_type": "markdown",
   "metadata": {},
   "source": [
    "#### Function"
   ]
  },
  {
   "cell_type": "code",
   "execution_count": 16,
   "metadata": {},
   "outputs": [],
   "source": [
    "# 共同住宅の面積算出\n",
    "def get_area_condominium( area_floor_total, area_floor, area_floor_r, height, length_long, length_narrow, area_windows) :\n",
    "    \n",
    "    # 延床面積に対する用途別床面積の割合\n",
    "    ratio_floor = { x : area_floor[x] / area_floor_total for x in area_floor.keys()}\n",
    " \n",
    "    # アスペクト比を上限値により調整している場合、調整前の床面積に対する調整後の床面積の割合\n",
    "    ratio_floor_r = sum( area_floor_r[x] for x in area_floor_r ) / sum( area_floor[x] for x in area_floor )\n",
    "    \n",
    "    area_horizontal = length_long * length_narrow\n",
    "    area_NS = length_long * height\n",
    "    area_EW = length_narrow * height\n",
    "\n",
    "    # 窓面積の調整 南、北、西、東、天井の順に割付\n",
    "    area_windows = adjust_window_area( area_windows, \n",
    "                                      [{'direction':  's','area_max':area_EW},\n",
    "                                       {'direction':  'n','area_max':area_EW},\n",
    "                                       {'direction':  'w','area_max':area_NS},\n",
    "                                       {'direction':  'e','area_max':area_NS},\n",
    "                                       {'direction':'top','area_max':length_long * length_narrow / ratio_floor_r }] )\n",
    "    area={}\n",
    "    \n",
    "    # 窓面積\n",
    "    # 北窓はその他の居室、南窓は主たる居室、東窓・西窓は各用途に床面積案分で割り付け\n",
    "    area['windows']={\n",
    "        'n' : {\n",
    "            'main_occupant_room'  : 0,\n",
    "            'other_occupant_room' : area_windows['n'],\n",
    "            'non_occupant_room'   : 0\n",
    "        },\n",
    "        's' : {\n",
    "            'main_occupant_room'  : area_windows['s'],\n",
    "            'other_occupant_room' : 0,\n",
    "            'nonl_occupant_room'  : 0\n",
    "        },\n",
    "        'e' : {\n",
    "            'main_occupant_room'  : area_windows['e'] * ratio_floor['main_occupant_room'],\n",
    "            'other_occupant_room' : area_windows['e'] * ratio_floor['other_occupant_room'],\n",
    "            'non_occupant_room'   : area_windows['e'] * ratio_floor['non_occupant_room']\n",
    "        },\n",
    "        'w' : {\n",
    "            'main_occupant_room'  : area_windows['w'] * ratio_floor['main_occupant_room'],\n",
    "            'other_occupant_room' : area_windows['w'] * ratio_floor['other_occupant_room'],\n",
    "            'non_occupant_room'   : area_windows['w'] * ratio_floor['non_occupant_room']\n",
    "        },\n",
    "        'top' : {\n",
    "            'main_occupant_room'  : area_windows['top'] * ratio_floor['main_occupant_room'],\n",
    "            'other_occupant_room' : area_windows['top'] * ratio_floor['other_occupant_room'],\n",
    "            'non_occupant_room'   : area_windows['top'] * ratio_floor['non_occupant_room']\n",
    "        }\n",
    "    }\n",
    "\n",
    "    # 壁面積\n",
    "    # 北壁はその他の居室、南壁は主たる居室、天井・床・東壁・西壁は各用途に床面積案分で割り付け\n",
    "    area['general_parts']={\n",
    "        'ceiling' : {\n",
    "            'main_occupant_room'  : ( area_horizontal - area_windows['top'] ) * ratio_floor['main_occupant_room']  / ratio_floor_r,\n",
    "            'other_occupant_room' : ( area_horizontal - area_windows['top'] ) * ratio_floor['other_occupant_room'] / ratio_floor_r,\n",
    "            'nonl_occupant_room'  : ( area_horizontal - area_windows['top'] ) * ratio_floor['non_occupant_room']   / ratio_floor_r\n",
    "        },\n",
    "        'floor' : {\n",
    "            'main_occupant_room'  : area_horizontal * ratio_floor['main_occupant_room']  / ratio_floor_r,\n",
    "            'other_occupant_room' : area_horizontal * ratio_floor['other_occupant_room'] / ratio_floor_r,\n",
    "            'non_occupant_room'   : area_horizontal * ratio_floor['non_occupant_room']   / ratio_floor_r\n",
    "        },\n",
    "        'wall_n': {\n",
    "            'main_occupant_room'  : 0,\n",
    "            'other_occupant_room' : area_EW - area_windows['n'],\n",
    "            'non_occupant_room'   : 0\n",
    "        },\n",
    "        'wall_s': {\n",
    "            'main_occupant_room'  : area_EW - area_windows['s'],\n",
    "            'other_occupant_room' : 0,\n",
    "            'nonl_occupant_room'  : 0\n",
    "        },\n",
    "        'wall_e': {\n",
    "            'main_occupant_room' :     ( area_NS - area_windows['e'] ) * ratio_floor['main_occupant_room'],\n",
    "            'other_occupant_room' :    ( area_NS - area_windows['e'] ) * ratio_floor['other_occupant_room'],\n",
    "            'non_occupant_room' :( area_NS - area_windows['e'] ) * ratio_floor['non_occupant_room']\n",
    "        },\n",
    "        'wall_w': {\n",
    "            'main_occupant_room' :     ( area_NS - area_windows['w'] ) * ratio_floor['main_occupant_room'],\n",
    "            'other_occupant_room' :    ( area_NS - area_windows['w'] ) * ratio_floor['other_occupant_room'],\n",
    "            'non_occupant_room' :( area_NS - area_windows['w'] ) * ratio_floor['non_occupant_room']\n",
    "        }\n",
    "    }\n",
    "    \n",
    "    # 内壁面積\n",
    "    area['inner_walls']={\n",
    "        'main to other' :      area_EW,\n",
    "        'main to lonliving' :  area_EW,\n",
    "        'other to nonliving' : area_EW\n",
    "    }\n",
    "        \n",
    "    return area"
   ]
  },
  {
   "cell_type": "markdown",
   "metadata": {},
   "source": [
    "### 9) 部位の面積を取得する関数"
   ]
  },
  {
   "cell_type": "markdown",
   "metadata": {},
   "source": [
    "#### Outline"
   ]
  },
  {
   "cell_type": "markdown",
   "metadata": {},
   "source": [
    "基準値計算用の住宅について、用途別床面積、幾何形状、開口部面積、各部位の面積を取得する関数を統合する。  \n",
    "各部位の面積より外壁・開口部・内壁のリストを作成する。"
   ]
  },
  {
   "cell_type": "markdown",
   "metadata": {},
   "source": [
    "#### Function"
   ]
  },
  {
   "cell_type": "code",
   "execution_count": 17,
   "metadata": {},
   "outputs": [],
   "source": [
    "def get_area(d):\n",
    "    \n",
    "    # 用途別床面積の取得\n",
    "    area_floor=get_area_floor(d['common'])\n",
    "\n",
    "    # 幾何形状の取得\n",
    "    n, height, floor_height, area_total_skin, length_narrow, length_long, area_floor_r = get_geometry( d, area_floor )\n",
    "    \n",
    "    # 開口部面積, ㎡\n",
    "    area_windows = get_area_windows( d['common']['house_type'], area_total_skin )\n",
    "    \n",
    "    # 部位面積, ㎡\n",
    "    if d['common']['house_type']== 'detached' :\n",
    "        area = get_area_detached(d['common']['total_floor_area'], \\\n",
    "                                 area_floor, area_floor_r, n, height, floor_height, length_long, length_narrow, area_windows)\n",
    "    elif d['common']['house_type']== 'condominium' :\n",
    "        area = get_area_condominium(d['common']['total_floor_area'], \\\n",
    "                                    area_floor, area_floor_r, height, length_long, length_narrow, area_windows)\n",
    "    \n",
    "    # 外壁・開口部・内壁のリスト作成\n",
    "    d = get_list(area)\n",
    "   \n",
    "    return d['general_parts'], d['windows'], d['inner_walls']"
   ]
  },
  {
   "cell_type": "code",
   "execution_count": 21,
   "metadata": {},
   "outputs": [
    {
     "data": {
      "text/plain": [
       "([{'name': 'ceiling_main_occupant_room',\n",
       "   'general_part_type': 'ceiling',\n",
       "   'next_space': 'outdoor',\n",
       "   'external_surface_type': 'outdoor',\n",
       "   'direction': 'top',\n",
       "   'area': 60.0,\n",
       "   'space_type': 'main_occupant_room'},\n",
       "  {'name': 'ceiling_other_occupant_room',\n",
       "   'general_part_type': 'ceiling',\n",
       "   'next_space': 'outdoor',\n",
       "   'external_surface_type': 'outdoor',\n",
       "   'direction': 'top',\n",
       "   'area': 30.0,\n",
       "   'space_type': 'other_occupant_room'},\n",
       "  {'name': 'ceiling_nonl_occupant_room',\n",
       "   'general_part_type': 'ceiling',\n",
       "   'next_space': 'outdoor',\n",
       "   'external_surface_type': 'outdoor',\n",
       "   'direction': 'top',\n",
       "   'area': 30.0,\n",
       "   'space_type': 'nonl_occupant_room'},\n",
       "  {'name': 'floor_main_occupant_room',\n",
       "   'general_part_type': 'floor',\n",
       "   'next_space': 'outdoor',\n",
       "   'external_surface_type': 'outdoor',\n",
       "   'direction': 'bottom',\n",
       "   'area': 60.0,\n",
       "   'space_type': 'main_occupant_room'},\n",
       "  {'name': 'floor_other_occupant_room',\n",
       "   'general_part_type': 'floor',\n",
       "   'next_space': 'outdoor',\n",
       "   'external_surface_type': 'outdoor',\n",
       "   'direction': 'bottom',\n",
       "   'area': 30.0,\n",
       "   'space_type': 'other_occupant_room'},\n",
       "  {'name': 'floor_non_occupant_room',\n",
       "   'general_part_type': 'floor',\n",
       "   'next_space': 'outdoor',\n",
       "   'external_surface_type': 'outdoor',\n",
       "   'direction': 'bottom',\n",
       "   'area': 30.0,\n",
       "   'space_type': 'non_occupant_room'},\n",
       "  {'name': 'wall_n_other_occupant_room',\n",
       "   'general_part_type': 'wall',\n",
       "   'next_space': 'outdoor',\n",
       "   'external_surface_type': 'outdoor',\n",
       "   'direction': 'n',\n",
       "   'area': 25.213980934427887,\n",
       "   'space_type': 'other_occupant_room'},\n",
       "  {'name': 'wall_s_main_occupant_room',\n",
       "   'general_part_type': 'wall',\n",
       "   'next_space': 'outdoor',\n",
       "   'external_surface_type': 'outdoor',\n",
       "   'direction': 's',\n",
       "   'area': 14.601675839125225,\n",
       "   'space_type': 'main_occupant_room'},\n",
       "  {'name': 'wall_e_main_occupant_room',\n",
       "   'general_part_type': 'Wall',\n",
       "   'next_space': 'outdoor',\n",
       "   'external_surface_type': 'outdoor',\n",
       "   'direction': 'e',\n",
       "   'area': 15.336231610144651,\n",
       "   'space_type': 'main_occupant_room'},\n",
       "  {'name': 'wall_e_other_occupant_room',\n",
       "   'general_part_type': 'Wall',\n",
       "   'next_space': 'outdoor',\n",
       "   'external_surface_type': 'outdoor',\n",
       "   'direction': 'e',\n",
       "   'area': 7.6681158050723255,\n",
       "   'space_type': 'other_occupant_room'},\n",
       "  {'name': 'wall_e_non_occupant_room',\n",
       "   'general_part_type': 'Wall',\n",
       "   'next_space': 'outdoor',\n",
       "   'external_surface_type': 'outdoor',\n",
       "   'direction': 'e',\n",
       "   'area': 7.6681158050723255,\n",
       "   'space_type': 'non_occupant_room'},\n",
       "  {'name': 'wall_w_main_occupant_room',\n",
       "   'general_part_type': 'wall',\n",
       "   'next_space': 'outdoor',\n",
       "   'external_surface_type': 'outdoor',\n",
       "   'direction': 'w',\n",
       "   'area': 13.406721592816895,\n",
       "   'space_type': 'main_occupant_room'},\n",
       "  {'name': 'wall_w_other_occupant_room',\n",
       "   'general_part_type': 'wall',\n",
       "   'next_space': 'outdoor',\n",
       "   'external_surface_type': 'outdoor',\n",
       "   'direction': 'w',\n",
       "   'area': 6.703360796408448,\n",
       "   'space_type': 'other_occupant_room'},\n",
       "  {'name': 'wall_w_non_occupant_room',\n",
       "   'general_part_type': 'wall',\n",
       "   'next_space': 'outdoor',\n",
       "   'external_surface_type': 'outdoor',\n",
       "   'direction': 'w',\n",
       "   'area': 6.703360796408448,\n",
       "   'space_type': 'non_occupant_room'}],\n",
       " [{'name': 'n_other_occupant_room',\n",
       "   'next_space': 'outdoor',\n",
       "   'direction': 'n',\n",
       "   'area': 5.458482285861416,\n",
       "   'space_type': 'other_occupant_room'},\n",
       "  {'name': 's_main_occupant_room',\n",
       "   'next_space': 'outdoor',\n",
       "   'direction': 's',\n",
       "   'area': 16.070787381164077,\n",
       "   'space_type': 'main_occupant_room'},\n",
       "  {'name': 'w_main_occupant_room',\n",
       "   'next_space': 'outdoor',\n",
       "   'direction': 'w',\n",
       "   'area': 1.9295100173277564,\n",
       "   'space_type': 'main_occupant_room'},\n",
       "  {'name': 'w_other_occupant_room',\n",
       "   'next_space': 'outdoor',\n",
       "   'direction': 'w',\n",
       "   'area': 0.9647550086638782,\n",
       "   'space_type': 'other_occupant_room'},\n",
       "  {'name': 'w_non_occupant_room',\n",
       "   'next_space': 'outdoor',\n",
       "   'direction': 'w',\n",
       "   'area': 0.9647550086638782,\n",
       "   'space_type': 'non_occupant_room'}],\n",
       " [{'name': 'inner_wall_main to other',\n",
       "   'area': 30.672463220289302,\n",
       "   'space_type': 'main to other',\n",
       "   'type': 'inner_wall'},\n",
       "  {'name': 'inner_wall_main to lonliving',\n",
       "   'area': 30.672463220289302,\n",
       "   'space_type': 'main to lonliving',\n",
       "   'type': 'inner_wall'},\n",
       "  {'name': 'inner_wall_other to nonliving',\n",
       "   'area': 30.672463220289302,\n",
       "   'space_type': 'other to nonliving',\n",
       "   'type': 'inner_wall'}])"
      ]
     },
     "execution_count": 21,
     "metadata": {},
     "output_type": "execute_result"
    }
   ],
   "source": [
    "get_area({\n",
    "    'common': {\n",
    "        'region': 6,\n",
    "        'main_occupant_room_floor_area': 60.0,\n",
    "        'other_occupant_room_floor_area': 30.0,\n",
    "        'total_floor_area': 120.0,\n",
    "        'total_outer_skin_area': 360.0,\n",
    "        'house_type': 'condominium' # 'detached','condominium'\n",
    "    }\n",
    "})"
   ]
  },
  {
   "cell_type": "code",
   "execution_count": null,
   "metadata": {},
   "outputs": [],
   "source": []
  }
 ],
 "metadata": {
  "kernelspec": {
   "display_name": "Python 3",
   "language": "python",
   "name": "python3"
  },
  "language_info": {
   "codemirror_mode": {
    "name": "ipython",
    "version": 3
   },
   "file_extension": ".py",
   "mimetype": "text/x-python",
   "name": "python",
   "nbconvert_exporter": "python",
   "pygments_lexer": "ipython3",
   "version": "3.7.0"
  },
  "pycharm": {
   "stem_cell": {
    "cell_type": "raw",
    "source": [],
    "metadata": {
     "collapsed": false
    }
   }
  }
 },
 "nbformat": 4,
 "nbformat_minor": 2
}