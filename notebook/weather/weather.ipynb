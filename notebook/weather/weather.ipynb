{
 "cells": [
  {
   "cell_type": "code",
   "execution_count": 1,
   "metadata": {
    "pycharm": {
     "is_executing": false
    }
   },
   "outputs": [],
   "source": [
    "import sys\n",
    "import numpy as np\n",
    "import pandas as pd\n",
    "\n",
    "sys.path.append('../..')\n",
    "\n",
    "from heat_load_calc.weather import weather"
   ]
  },
  {
   "cell_type": "markdown",
   "metadata": {},
   "source": [
    "# weather"
   ]
  },
  {
   "cell_type": "markdown",
   "metadata": {},
   "source": [
    "## Outline"
   ]
  },
  {
   "cell_type": "markdown",
   "metadata": {},
   "source": [
    "地域区分を指定すると、外気温度・外気絶対湿度・法線面直達日射量・水平面天空放射量・夜間放射料・太陽高度・太陽水平方位角を計算するモジュールである。"
   ]
  },
  {
   "cell_type": "markdown",
   "metadata": {},
   "source": [
    "## Interface"
   ]
  },
  {
   "cell_type": "markdown",
   "metadata": {
    "pycharm": {
     "name": "#%% md\n"
    }
   },
   "source": [
    "weather.make_weather(region, output_data_dir=None, csv_output=False)\n",
    "\n",
    "params:\n",
    "\n",
    "| パラメータ名　| 型 | 概要 |\n",
    "| :--- | :--- | :--- |\n",
    "| region | int | 地域区分を表す。1～8の値をとる。 |\n",
    "| output_data_dir | str | （省略可能）　　取得したデータをCSVではきだす場合のディレクトリ名を指定する。CSVを出力しない場合は省略可能。 |\n",
    "| csv_output | bool | (省略可能) 　取得したデータをCSVではきだす場合はTrueを指定する。はきださない場合はFalseを指定しないか省略する。 |\n",
    "| interval | str | （省略可能）　生成するデータの時間間隔。（デフォルトは15分間隔） |\n",
    "\n",
    "※ interval  \n",
    "以下の文字列で指定する。  \n",
    "- '15m': 15分間隔\n",
    "- '30m': 30分間隔\n",
    "- '1h': 1時間間隔\n",
    "\n",
    "returns:\n",
    "\n",
    "気象データをpandas.DataFrame 形式で返します。  \n",
    "pandas.DataFrame の行インデクスは日時型（例：1999-01-01 00:00:00)、列インデクスは以下の値をとります。  \n",
    "\n",
    "| 列名 | 単位 | 概要 |\n",
    "| :--- | :--- | :--- |\n",
    "| temperature | ℃ | 外気温度 |\n",
    "| absolute humidity  | kg/kg(DA) | 外気絶対湿度 |\n",
    "| normal direct solar radiation | W/m<sup>2</sup> | 法線面直達日射量 |\n",
    "| horizontal sky solar radiation | W/m<sup>2</sup> | 水平面天空日射量 |\n",
    "| outward radiation | W/m<sup>2</sup> | 夜間放射量 |\n",
    "| sun altitude | rad | 太陽高度 |\n",
    "| sun azimuth | rad | 太陽方位角 |"
   ]
  },
  {
   "cell_type": "code",
   "execution_count": 2,
   "metadata": {},
   "outputs": [
    {
     "data": {
      "text/html": [
       "<div>\n",
       "<style scoped>\n",
       "    .dataframe tbody tr th:only-of-type {\n",
       "        vertical-align: middle;\n",
       "    }\n",
       "\n",
       "    .dataframe tbody tr th {\n",
       "        vertical-align: top;\n",
       "    }\n",
       "\n",
       "    .dataframe thead th {\n",
       "        text-align: right;\n",
       "    }\n",
       "</style>\n",
       "<table border=\"1\" class=\"dataframe\">\n",
       "  <thead>\n",
       "    <tr style=\"text-align: right;\">\n",
       "      <th></th>\n",
       "      <th>列名</th>\n",
       "      <th>単位</th>\n",
       "      <th>概要</th>\n",
       "    </tr>\n",
       "  </thead>\n",
       "  <tbody>\n",
       "    <tr>\n",
       "      <th>0</th>\n",
       "      <td>temperature</td>\n",
       "      <td>degree C</td>\n",
       "      <td>外気温度</td>\n",
       "    </tr>\n",
       "    <tr>\n",
       "      <th>1</th>\n",
       "      <td>absolute humidity</td>\n",
       "      <td>kg/kg(DA)</td>\n",
       "      <td>外気絶対湿度</td>\n",
       "    </tr>\n",
       "    <tr>\n",
       "      <th>2</th>\n",
       "      <td>normal direct solar radiation</td>\n",
       "      <td>W/m2</td>\n",
       "      <td>法線面直達日射量</td>\n",
       "    </tr>\n",
       "    <tr>\n",
       "      <th>3</th>\n",
       "      <td>horizontal sky solar radiation</td>\n",
       "      <td>W/m2</td>\n",
       "      <td>水平面天空日射量</td>\n",
       "    </tr>\n",
       "    <tr>\n",
       "      <th>4</th>\n",
       "      <td>outward radiation</td>\n",
       "      <td>W/m2</td>\n",
       "      <td>夜間放射量</td>\n",
       "    </tr>\n",
       "    <tr>\n",
       "      <th>5</th>\n",
       "      <td>sun altitude</td>\n",
       "      <td>rad</td>\n",
       "      <td>太陽高度</td>\n",
       "    </tr>\n",
       "    <tr>\n",
       "      <th>6</th>\n",
       "      <td>sun azimuth</td>\n",
       "      <td>rad</td>\n",
       "      <td>太陽方位角</td>\n",
       "    </tr>\n",
       "  </tbody>\n",
       "</table>\n",
       "</div>"
      ],
      "text/plain": [
       "                               列名         単位        概要\n",
       "0                     temperature   degree C      外気温度\n",
       "1               absolute humidity  kg/kg(DA)    外気絶対湿度\n",
       "2   normal direct solar radiation       W/m2  法線面直達日射量\n",
       "3  horizontal sky solar radiation       W/m2  水平面天空日射量\n",
       "4               outward radiation       W/m2     夜間放射量\n",
       "5                    sun altitude        rad      太陽高度\n",
       "6                     sun azimuth        rad     太陽方位角"
      ]
     },
     "execution_count": 2,
     "metadata": {},
     "output_type": "execute_result"
    }
   ],
   "source": [
    "pd.read_csv('../../docs/data_spec/d_weather.csv')"
   ]
  },
  {
   "cell_type": "markdown",
   "metadata": {
    "pycharm": {
     "is_executing": false,
     "name": "#%% md\n"
    }
   },
   "source": [
    "## Example"
   ]
  },
  {
   "cell_type": "code",
   "execution_count": 3,
   "metadata": {
    "pycharm": {
     "is_executing": false,
     "name": "#%%\n"
    }
   },
   "outputs": [
    {
     "data": {
      "text/html": [
       "<div>\n",
       "<style scoped>\n",
       "    .dataframe tbody tr th:only-of-type {\n",
       "        vertical-align: middle;\n",
       "    }\n",
       "\n",
       "    .dataframe tbody tr th {\n",
       "        vertical-align: top;\n",
       "    }\n",
       "\n",
       "    .dataframe thead th {\n",
       "        text-align: right;\n",
       "    }\n",
       "</style>\n",
       "<table border=\"1\" class=\"dataframe\">\n",
       "  <thead>\n",
       "    <tr style=\"text-align: right;\">\n",
       "      <th></th>\n",
       "      <th>temperature</th>\n",
       "      <th>absolute humidity</th>\n",
       "      <th>normal direct solar radiation</th>\n",
       "      <th>horizontal sky solar radiation</th>\n",
       "      <th>outward radiation</th>\n",
       "      <th>sun altitude</th>\n",
       "      <th>sun azimuth</th>\n",
       "    </tr>\n",
       "  </thead>\n",
       "  <tbody>\n",
       "    <tr>\n",
       "      <th>1989-01-01 00:00:00</th>\n",
       "      <td>-12.40</td>\n",
       "      <td>0.001400</td>\n",
       "      <td>0.0</td>\n",
       "      <td>0.0</td>\n",
       "      <td>47.222222</td>\n",
       "      <td>-1.189731</td>\n",
       "      <td>-2.787296</td>\n",
       "    </tr>\n",
       "    <tr>\n",
       "      <th>1989-01-01 00:15:00</th>\n",
       "      <td>-12.55</td>\n",
       "      <td>0.001375</td>\n",
       "      <td>0.0</td>\n",
       "      <td>0.0</td>\n",
       "      <td>47.916667</td>\n",
       "      <td>-1.170056</td>\n",
       "      <td>-2.637712</td>\n",
       "    </tr>\n",
       "    <tr>\n",
       "      <th>1989-01-01 00:30:00</th>\n",
       "      <td>-12.70</td>\n",
       "      <td>0.001350</td>\n",
       "      <td>0.0</td>\n",
       "      <td>0.0</td>\n",
       "      <td>48.611111</td>\n",
       "      <td>-1.144474</td>\n",
       "      <td>-2.501855</td>\n",
       "    </tr>\n",
       "    <tr>\n",
       "      <th>1989-01-01 00:45:00</th>\n",
       "      <td>-12.85</td>\n",
       "      <td>0.001325</td>\n",
       "      <td>0.0</td>\n",
       "      <td>0.0</td>\n",
       "      <td>49.305556</td>\n",
       "      <td>-1.114007</td>\n",
       "      <td>-2.380130</td>\n",
       "    </tr>\n",
       "    <tr>\n",
       "      <th>1989-01-01 01:00:00</th>\n",
       "      <td>-13.00</td>\n",
       "      <td>0.001300</td>\n",
       "      <td>0.0</td>\n",
       "      <td>0.0</td>\n",
       "      <td>50.000000</td>\n",
       "      <td>-1.079602</td>\n",
       "      <td>-2.271697</td>\n",
       "    </tr>\n",
       "  </tbody>\n",
       "</table>\n",
       "</div>"
      ],
      "text/plain": [
       "                     temperature  absolute humidity  \\\n",
       "1989-01-01 00:00:00       -12.40           0.001400   \n",
       "1989-01-01 00:15:00       -12.55           0.001375   \n",
       "1989-01-01 00:30:00       -12.70           0.001350   \n",
       "1989-01-01 00:45:00       -12.85           0.001325   \n",
       "1989-01-01 01:00:00       -13.00           0.001300   \n",
       "\n",
       "                     normal direct solar radiation  \\\n",
       "1989-01-01 00:00:00                            0.0   \n",
       "1989-01-01 00:15:00                            0.0   \n",
       "1989-01-01 00:30:00                            0.0   \n",
       "1989-01-01 00:45:00                            0.0   \n",
       "1989-01-01 01:00:00                            0.0   \n",
       "\n",
       "                     horizontal sky solar radiation  outward radiation  \\\n",
       "1989-01-01 00:00:00                             0.0          47.222222   \n",
       "1989-01-01 00:15:00                             0.0          47.916667   \n",
       "1989-01-01 00:30:00                             0.0          48.611111   \n",
       "1989-01-01 00:45:00                             0.0          49.305556   \n",
       "1989-01-01 01:00:00                             0.0          50.000000   \n",
       "\n",
       "                     sun altitude  sun azimuth  \n",
       "1989-01-01 00:00:00     -1.189731    -2.787296  \n",
       "1989-01-01 00:15:00     -1.170056    -2.637712  \n",
       "1989-01-01 00:30:00     -1.144474    -2.501855  \n",
       "1989-01-01 00:45:00     -1.114007    -2.380130  \n",
       "1989-01-01 01:00:00     -1.079602    -2.271697  "
      ]
     },
     "execution_count": 3,
     "metadata": {},
     "output_type": "execute_result"
    }
   ],
   "source": [
    "d = weather.make_weather(region=1)\n",
    "d.head()"
   ]
  },
  {
   "cell_type": "markdown",
   "metadata": {
    "pycharm": {
     "is_executing": false,
     "name": "#%% md\n"
    }
   },
   "source": [
    "特定のデータを配列(numpy ndarray 方式)で取り出す。"
   ]
  },
  {
   "cell_type": "code",
   "execution_count": 4,
   "metadata": {
    "pycharm": {
     "is_executing": false,
     "name": "#%%\n"
    }
   },
   "outputs": [
    {
     "data": {
      "text/plain": [
       "array([-12.4 , -12.55, -12.7 , ..., -11.8 , -12.  , -12.2 ])"
      ]
     },
     "execution_count": 4,
     "metadata": {},
     "output_type": "execute_result"
    }
   ],
   "source": [
    "np.array(d['temperature'])"
   ]
  },
  {
   "cell_type": "code",
   "execution_count": 5,
   "metadata": {},
   "outputs": [
    {
     "data": {
      "text/plain": [
       "array([-1.18973095, -1.17005601, -1.14447355, ..., -1.20678016,\n",
       "       -1.20927383, -1.20378216])"
      ]
     },
     "execution_count": 5,
     "metadata": {},
     "output_type": "execute_result"
    }
   ],
   "source": [
    "np.array(d['sun altitude'])"
   ]
  },
  {
   "cell_type": "markdown",
   "metadata": {
    "pycharm": {
     "is_executing": false,
     "name": "#%% md\n"
    }
   },
   "source": [
    "特定の種類の特定の日時のデータを取り出す。"
   ]
  },
  {
   "cell_type": "code",
   "execution_count": 6,
   "metadata": {
    "pycharm": {
     "is_executing": false,
     "name": "#%%\n"
    }
   },
   "outputs": [
    {
     "data": {
      "text/plain": [
       "-13.0"
      ]
     },
     "execution_count": 6,
     "metadata": {},
     "output_type": "execute_result"
    }
   ],
   "source": [
    "d['temperature']['1989-01-01 01:00:00']"
   ]
  },
  {
   "cell_type": "markdown",
   "metadata": {},
   "source": [
    "又は一度numpyにしてからインデクスで取り出す場合。"
   ]
  },
  {
   "cell_type": "code",
   "execution_count": 7,
   "metadata": {},
   "outputs": [
    {
     "data": {
      "text/plain": [
       "-12.4"
      ]
     },
     "execution_count": 7,
     "metadata": {},
     "output_type": "execute_result"
    }
   ],
   "source": [
    "np.array(d['temperature'])[0]"
   ]
  },
  {
   "cell_type": "markdown",
   "metadata": {},
   "source": [
    "時間間隔を指定してデータを取得したい場合は、引数'interval'を指定する。"
   ]
  },
  {
   "cell_type": "code",
   "execution_count": 8,
   "metadata": {},
   "outputs": [
    {
     "data": {
      "text/html": [
       "<div>\n",
       "<style scoped>\n",
       "    .dataframe tbody tr th:only-of-type {\n",
       "        vertical-align: middle;\n",
       "    }\n",
       "\n",
       "    .dataframe tbody tr th {\n",
       "        vertical-align: top;\n",
       "    }\n",
       "\n",
       "    .dataframe thead th {\n",
       "        text-align: right;\n",
       "    }\n",
       "</style>\n",
       "<table border=\"1\" class=\"dataframe\">\n",
       "  <thead>\n",
       "    <tr style=\"text-align: right;\">\n",
       "      <th></th>\n",
       "      <th>temperature</th>\n",
       "      <th>absolute humidity</th>\n",
       "      <th>normal direct solar radiation</th>\n",
       "      <th>horizontal sky solar radiation</th>\n",
       "      <th>outward radiation</th>\n",
       "      <th>sun altitude</th>\n",
       "      <th>sun azimuth</th>\n",
       "    </tr>\n",
       "  </thead>\n",
       "  <tbody>\n",
       "    <tr>\n",
       "      <th>1989-01-01 00:00:00</th>\n",
       "      <td>-12.4</td>\n",
       "      <td>0.00140</td>\n",
       "      <td>0.0</td>\n",
       "      <td>0.0</td>\n",
       "      <td>47.222222</td>\n",
       "      <td>-1.189731</td>\n",
       "      <td>-2.787296</td>\n",
       "    </tr>\n",
       "    <tr>\n",
       "      <th>1989-01-01 00:30:00</th>\n",
       "      <td>-12.7</td>\n",
       "      <td>0.00135</td>\n",
       "      <td>0.0</td>\n",
       "      <td>0.0</td>\n",
       "      <td>48.611111</td>\n",
       "      <td>-1.144474</td>\n",
       "      <td>-2.501855</td>\n",
       "    </tr>\n",
       "    <tr>\n",
       "      <th>1989-01-01 01:00:00</th>\n",
       "      <td>-13.0</td>\n",
       "      <td>0.00130</td>\n",
       "      <td>0.0</td>\n",
       "      <td>0.0</td>\n",
       "      <td>50.000000</td>\n",
       "      <td>-1.079602</td>\n",
       "      <td>-2.271697</td>\n",
       "    </tr>\n",
       "    <tr>\n",
       "      <th>1989-01-01 01:30:00</th>\n",
       "      <td>-13.6</td>\n",
       "      <td>0.00130</td>\n",
       "      <td>0.0</td>\n",
       "      <td>0.0</td>\n",
       "      <td>50.000000</td>\n",
       "      <td>-1.002081</td>\n",
       "      <td>-2.088654</td>\n",
       "    </tr>\n",
       "    <tr>\n",
       "      <th>1989-01-01 02:00:00</th>\n",
       "      <td>-14.2</td>\n",
       "      <td>0.00130</td>\n",
       "      <td>0.0</td>\n",
       "      <td>0.0</td>\n",
       "      <td>50.000000</td>\n",
       "      <td>-0.916756</td>\n",
       "      <td>-1.940096</td>\n",
       "    </tr>\n",
       "  </tbody>\n",
       "</table>\n",
       "</div>"
      ],
      "text/plain": [
       "                     temperature  absolute humidity  \\\n",
       "1989-01-01 00:00:00        -12.4            0.00140   \n",
       "1989-01-01 00:30:00        -12.7            0.00135   \n",
       "1989-01-01 01:00:00        -13.0            0.00130   \n",
       "1989-01-01 01:30:00        -13.6            0.00130   \n",
       "1989-01-01 02:00:00        -14.2            0.00130   \n",
       "\n",
       "                     normal direct solar radiation  \\\n",
       "1989-01-01 00:00:00                            0.0   \n",
       "1989-01-01 00:30:00                            0.0   \n",
       "1989-01-01 01:00:00                            0.0   \n",
       "1989-01-01 01:30:00                            0.0   \n",
       "1989-01-01 02:00:00                            0.0   \n",
       "\n",
       "                     horizontal sky solar radiation  outward radiation  \\\n",
       "1989-01-01 00:00:00                             0.0          47.222222   \n",
       "1989-01-01 00:30:00                             0.0          48.611111   \n",
       "1989-01-01 01:00:00                             0.0          50.000000   \n",
       "1989-01-01 01:30:00                             0.0          50.000000   \n",
       "1989-01-01 02:00:00                             0.0          50.000000   \n",
       "\n",
       "                     sun altitude  sun azimuth  \n",
       "1989-01-01 00:00:00     -1.189731    -2.787296  \n",
       "1989-01-01 00:30:00     -1.144474    -2.501855  \n",
       "1989-01-01 01:00:00     -1.079602    -2.271697  \n",
       "1989-01-01 01:30:00     -1.002081    -2.088654  \n",
       "1989-01-01 02:00:00     -0.916756    -1.940096  "
      ]
     },
     "execution_count": 8,
     "metadata": {},
     "output_type": "execute_result"
    }
   ],
   "source": [
    "weather.make_weather(region=1, interval='30m').head()"
   ]
  },
  {
   "cell_type": "code",
   "execution_count": 9,
   "metadata": {},
   "outputs": [
    {
     "data": {
      "text/html": [
       "<div>\n",
       "<style scoped>\n",
       "    .dataframe tbody tr th:only-of-type {\n",
       "        vertical-align: middle;\n",
       "    }\n",
       "\n",
       "    .dataframe tbody tr th {\n",
       "        vertical-align: top;\n",
       "    }\n",
       "\n",
       "    .dataframe thead th {\n",
       "        text-align: right;\n",
       "    }\n",
       "</style>\n",
       "<table border=\"1\" class=\"dataframe\">\n",
       "  <thead>\n",
       "    <tr style=\"text-align: right;\">\n",
       "      <th></th>\n",
       "      <th>temperature</th>\n",
       "      <th>absolute humidity</th>\n",
       "      <th>normal direct solar radiation</th>\n",
       "      <th>horizontal sky solar radiation</th>\n",
       "      <th>outward radiation</th>\n",
       "      <th>sun altitude</th>\n",
       "      <th>sun azimuth</th>\n",
       "    </tr>\n",
       "  </thead>\n",
       "  <tbody>\n",
       "    <tr>\n",
       "      <th>1989-01-01 00:00:00</th>\n",
       "      <td>-12.4</td>\n",
       "      <td>0.0014</td>\n",
       "      <td>0.0</td>\n",
       "      <td>0.0</td>\n",
       "      <td>47.222222</td>\n",
       "      <td>-1.189731</td>\n",
       "      <td>-2.787296</td>\n",
       "    </tr>\n",
       "    <tr>\n",
       "      <th>1989-01-01 01:00:00</th>\n",
       "      <td>-13.0</td>\n",
       "      <td>0.0013</td>\n",
       "      <td>0.0</td>\n",
       "      <td>0.0</td>\n",
       "      <td>50.000000</td>\n",
       "      <td>-1.079602</td>\n",
       "      <td>-2.271697</td>\n",
       "    </tr>\n",
       "    <tr>\n",
       "      <th>1989-01-01 02:00:00</th>\n",
       "      <td>-14.2</td>\n",
       "      <td>0.0013</td>\n",
       "      <td>0.0</td>\n",
       "      <td>0.0</td>\n",
       "      <td>50.000000</td>\n",
       "      <td>-0.916756</td>\n",
       "      <td>-1.940096</td>\n",
       "    </tr>\n",
       "    <tr>\n",
       "      <th>1989-01-01 03:00:00</th>\n",
       "      <td>-15.0</td>\n",
       "      <td>0.0012</td>\n",
       "      <td>0.0</td>\n",
       "      <td>0.0</td>\n",
       "      <td>52.777778</td>\n",
       "      <td>-0.734023</td>\n",
       "      <td>-1.707024</td>\n",
       "    </tr>\n",
       "    <tr>\n",
       "      <th>1989-01-01 04:00:00</th>\n",
       "      <td>-16.2</td>\n",
       "      <td>0.0010</td>\n",
       "      <td>0.0</td>\n",
       "      <td>0.0</td>\n",
       "      <td>55.555556</td>\n",
       "      <td>-0.545557</td>\n",
       "      <td>-1.519255</td>\n",
       "    </tr>\n",
       "  </tbody>\n",
       "</table>\n",
       "</div>"
      ],
      "text/plain": [
       "                     temperature  absolute humidity  \\\n",
       "1989-01-01 00:00:00        -12.4             0.0014   \n",
       "1989-01-01 01:00:00        -13.0             0.0013   \n",
       "1989-01-01 02:00:00        -14.2             0.0013   \n",
       "1989-01-01 03:00:00        -15.0             0.0012   \n",
       "1989-01-01 04:00:00        -16.2             0.0010   \n",
       "\n",
       "                     normal direct solar radiation  \\\n",
       "1989-01-01 00:00:00                            0.0   \n",
       "1989-01-01 01:00:00                            0.0   \n",
       "1989-01-01 02:00:00                            0.0   \n",
       "1989-01-01 03:00:00                            0.0   \n",
       "1989-01-01 04:00:00                            0.0   \n",
       "\n",
       "                     horizontal sky solar radiation  outward radiation  \\\n",
       "1989-01-01 00:00:00                             0.0          47.222222   \n",
       "1989-01-01 01:00:00                             0.0          50.000000   \n",
       "1989-01-01 02:00:00                             0.0          50.000000   \n",
       "1989-01-01 03:00:00                             0.0          52.777778   \n",
       "1989-01-01 04:00:00                             0.0          55.555556   \n",
       "\n",
       "                     sun altitude  sun azimuth  \n",
       "1989-01-01 00:00:00     -1.189731    -2.787296  \n",
       "1989-01-01 01:00:00     -1.079602    -2.271697  \n",
       "1989-01-01 02:00:00     -0.916756    -1.940096  \n",
       "1989-01-01 03:00:00     -0.734023    -1.707024  \n",
       "1989-01-01 04:00:00     -0.545557    -1.519255  "
      ]
     },
     "execution_count": 9,
     "metadata": {},
     "output_type": "execute_result"
    }
   ],
   "source": [
    "weather.make_weather(region=1, interval='1h').head()"
   ]
  },
  {
   "cell_type": "code",
   "execution_count": null,
   "metadata": {},
   "outputs": [],
   "source": []
  }
 ],
 "metadata": {
  "kernelspec": {
   "display_name": "Python 3",
   "language": "python",
   "name": "python3"
  },
  "language_info": {
   "codemirror_mode": {
    "name": "ipython",
    "version": 3
   },
   "file_extension": ".py",
   "mimetype": "text/x-python",
   "name": "python",
   "nbconvert_exporter": "python",
   "pygments_lexer": "ipython3",
   "version": "3.8.3"
  },
  "pycharm": {
   "stem_cell": {
    "cell_type": "raw",
    "metadata": {
     "collapsed": false
    },
    "source": []
   }
  },
  "toc": {
   "base_numbering": 1,
   "nav_menu": {},
   "number_sections": true,
   "sideBar": true,
   "skip_h1_title": false,
   "title_cell": "Table of Contents",
   "title_sidebar": "Contents",
   "toc_cell": false,
   "toc_position": {},
   "toc_section_display": true,
   "toc_window_display": false
  }
 },
 "nbformat": 4,
 "nbformat_minor": 1
}
