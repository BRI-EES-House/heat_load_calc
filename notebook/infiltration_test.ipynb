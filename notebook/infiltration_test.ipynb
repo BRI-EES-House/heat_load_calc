{
 "cells": [
  {
   "cell_type": "code",
   "execution_count": 1,
   "metadata": {
    "pycharm": {
     "is_executing": false,
     "name": "#%%\n"
    }
   },
   "outputs": [],
   "source": [
    "import sys\n",
    "sys.path.append('..')\n",
    "from matplotlib import pyplot as plt\n",
    "\n",
    "from heat_load_calc.core import infiltration as e7"
   ]
  },
  {
   "cell_type": "code",
   "execution_count": 2,
   "metadata": {},
   "outputs": [],
   "source": [
    "plt.style.use('seaborn-whitegrid')"
   ]
  },
  {
   "cell_type": "markdown",
   "metadata": {},
   "source": [
    "# すきま風量の計算モジュールテスト\n",
    "## get_infiltrationをテスト\n",
    "    Args:\n",
    "        c_value: 相当隙間面積, cm2/m2, [i, 1]\n",
    "        v_room_cap_is: 室気積, m3, [i,1]\n",
    "        story: 階\n",
    "        vent_type: 換気方式, 第?種換気\n",
    "        delta_theta: 内外温度差, degree C\n",
    "\n",
    "    Returns:\n",
    "        すきま風量, m3/s, [i,1]\n",
    "\n",
    "## すきま風量には機械換気の風量は含まれない"
   ]
  },
  {
   "cell_type": "code",
   "execution_count": 3,
   "metadata": {
    "pycharm": {
     "is_executing": false
    }
   },
   "outputs": [],
   "source": [
    "c_value = 2.0"
   ]
  },
  {
   "cell_type": "code",
   "execution_count": 4,
   "metadata": {
    "pycharm": {
     "is_executing": false
    }
   },
   "outputs": [],
   "source": [
    "v_room_cap_is = 50.0"
   ]
  },
  {
   "cell_type": "code",
   "execution_count": 5,
   "metadata": {
    "pycharm": {
     "is_executing": false
    }
   },
   "outputs": [],
   "source": [
    "story = 2"
   ]
  },
  {
   "cell_type": "code",
   "execution_count": 6,
   "metadata": {
    "pycharm": {
     "is_executing": false
    }
   },
   "outputs": [],
   "source": [
    "vent_type = 3"
   ]
  },
  {
   "cell_type": "code",
   "execution_count": 7,
   "metadata": {
    "pycharm": {
     "is_executing": false
    }
   },
   "outputs": [],
   "source": [
    "delta_theta = [x for x in range(0, 20)]"
   ]
  },
  {
   "cell_type": "code",
   "execution_count": 8,
   "metadata": {
    "pycharm": {
     "is_executing": false
    }
   },
   "outputs": [],
   "source": [
    "c_value = 2.0"
   ]
  },
  {
   "cell_type": "code",
   "execution_count": 9,
   "metadata": {
    "pycharm": {
     "is_executing": false
    }
   },
   "outputs": [],
   "source": [
    "x1 = delta_theta"
   ]
  },
  {
   "cell_type": "code",
   "execution_count": 10,
   "metadata": {
    "pycharm": {
     "is_executing": false
    }
   },
   "outputs": [],
   "source": [
    "y1 = [(e7.get_infiltration(\n",
    "        c_value=c_value,\n",
    "        v_room_cap_is=v_room_cap_is,\n",
    "        story=story,\n",
    "        vent_type=1,\n",
    "        delta_theta=dT\n",
    "    ) / v_room_cap_is * 3600.) for dT in delta_theta]"
   ]
  },
  {
   "cell_type": "code",
   "execution_count": 11,
   "metadata": {
    "pycharm": {
     "is_executing": false
    }
   },
   "outputs": [],
   "source": [
    "y2 = [(e7.get_infiltration(\n",
    "        c_value=c_value,\n",
    "        v_room_cap_is=v_room_cap_is,\n",
    "        story=story,\n",
    "        vent_type=2,\n",
    "        delta_theta=dT\n",
    "    ) / v_room_cap_is * 3600.) for dT in delta_theta]"
   ]
  },
  {
   "cell_type": "code",
   "execution_count": 12,
   "metadata": {
    "pycharm": {
     "is_executing": false
    }
   },
   "outputs": [],
   "source": [
    "y3 = [(e7.get_infiltration(\n",
    "        c_value=c_value,\n",
    "        v_room_cap_is=v_room_cap_is,\n",
    "        story=story,\n",
    "        vent_type=3,\n",
    "        delta_theta=dT\n",
    "    ) / v_room_cap_is * 3600.) for dT in delta_theta]"
   ]
  },
  {
   "cell_type": "code",
   "execution_count": 13,
   "metadata": {},
   "outputs": [
    {
     "data": {
      "image/png": "[encoded data removed]",
      "text/plain": [
       "<Figure size 432x288 with 1 Axes>"
      ]
     },
     "metadata": {},
     "output_type": "display_data"
    }
   ],
   "source": [
    "fig1 = plt.figure()\n",
    "ax1 = fig1.subplots()\n",
    "\n",
    "ax1.scatter(x1, y1, c=\"r\", label=\"vent_type1\")\n",
    "ax1.scatter(x1, y2, c=\"g\", label=\"vent_type2\")\n",
    "ax1.scatter(x1, y3, c=\"m\", label=\"vent_type3\")\n",
    "\n",
    "ax1.set_xlabel('temperature difference[C]')\n",
    "ax1.set_ylabel('infiltration rate[ACH]')\n",
    "\n",
    "ax1.set_title(\"c_value=\" + str(c_value))\n",
    "\n",
    "plt.legend()\n",
    "plt.show()"
   ]
  },
  {
   "cell_type": "code",
   "execution_count": 14,
   "metadata": {
    "pycharm": {
     "is_executing": false
    }
   },
   "outputs": [],
   "source": [
    "delta_theta = 10.0\n",
    "c_value = [x for x in range(1,25)]"
   ]
  },
  {
   "cell_type": "code",
   "execution_count": 15,
   "metadata": {
    "pycharm": {
     "is_executing": false
    }
   },
   "outputs": [],
   "source": [
    "x1 = c_value"
   ]
  },
  {
   "cell_type": "code",
   "execution_count": 16,
   "metadata": {
    "pycharm": {
     "is_executing": false
    }
   },
   "outputs": [],
   "source": [
    "y1 = [(e7.get_infiltration(\n",
    "        c_value=c,\n",
    "        v_room_cap_is=v_room_cap_is,\n",
    "        story=story,\n",
    "        vent_type=1,\n",
    "        delta_theta=delta_theta\n",
    "    ) / v_room_cap_is * 3600.) for c in c_value]"
   ]
  },
  {
   "cell_type": "code",
   "execution_count": 17,
   "metadata": {
    "pycharm": {
     "is_executing": false
    }
   },
   "outputs": [],
   "source": [
    "y2 = [(e7.get_infiltration(\n",
    "        c_value=c,\n",
    "        v_room_cap_is=v_room_cap_is,\n",
    "        story=story,\n",
    "        vent_type=2,\n",
    "        delta_theta=delta_theta\n",
    "    ) / v_room_cap_is * 3600.) for c in c_value]"
   ]
  },
  {
   "cell_type": "code",
   "execution_count": 18,
   "metadata": {
    "pycharm": {
     "is_executing": false
    }
   },
   "outputs": [],
   "source": [
    "y3 = [(e7.get_infiltration(\n",
    "        c_value=c,\n",
    "        v_room_cap_is=v_room_cap_is,\n",
    "        story=story,\n",
    "        vent_type=3,\n",
    "        delta_theta=delta_theta\n",
    "    ) / v_room_cap_is * 3600.) for c in c_value]"
   ]
  },
  {
   "cell_type": "code",
   "execution_count": 19,
   "metadata": {},
   "outputs": [
    {
     "data": {
      "image/png": "[encoded data removed]",
      "text/plain": [
       "<Figure size 432x288 with 1 Axes>"
      ]
     },
     "metadata": {},
     "output_type": "display_data"
    }
   ],
   "source": [
    "fig2 = plt.figure()\n",
    "ax2 = fig2.subplots()\n",
    "\n",
    "ax2.scatter(x1, y1, c=\"r\", label=\"vent_type1\")\n",
    "ax2.scatter(x1, y2, c=\"g\", label=\"vent_type2\")\n",
    "ax2.scatter(x1, y3, c=\"m\", label=\"vent_type3\")\n",
    "\n",
    "ax2.set_xlabel('c_value[cm2/m2]')\n",
    "ax2.set_ylabel('infiltration rate[ACH]')\n",
    "\n",
    "ax2.set_title(\"delta_theta=\" + str(delta_theta))\n",
    "\n",
    "plt.legend()\n",
    "plt.show()"
   ]
  }
 ],
 "metadata": {
  "kernelspec": {
   "display_name": "Python 3",
   "language": "python",
   "name": "python3"
  },
  "language_info": {
   "codemirror_mode": {
    "name": "ipython",
    "version": 3
   },
   "file_extension": ".py",
   "mimetype": "text/x-python",
   "name": "python",
   "nbconvert_exporter": "python",
   "pygments_lexer": "ipython3",
   "version": "3.6.4"
  },
  "pycharm": {
   "stem_cell": {
    "cell_type": "raw",
    "metadata": {
     "collapsed": false
    },
    "source": []
   }
  },
  "toc": {
   "base_numbering": 1,
   "nav_menu": {},
   "number_sections": true,
   "sideBar": true,
   "skip_h1_title": false,
   "title_cell": "Table of Contents",
   "title_sidebar": "Contents",
   "toc_cell": false,
   "toc_position": {},
   "toc_section_display": true,
   "toc_window_display": false
  }
 },
 "nbformat": 4,
 "nbformat_minor": 2
}
