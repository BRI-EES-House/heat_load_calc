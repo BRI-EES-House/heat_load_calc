{
 "cells": [
  {
   "cell_type": "code",
   "execution_count": 1,
   "metadata": {
    "pycharm": {
     "is_executing": false,
     "name": "#%%\n"
    }
   },
   "outputs": [],
   "source": [
    "import sys\n",
    "sys.path.append('..')\n",
    "from matplotlib import pyplot as plt\n",
    "import numpy as np\n",
    "\n",
    "from heat_load_calc.core import infiltration as e7"
   ]
  },
  {
   "cell_type": "code",
   "execution_count": 2,
   "metadata": {},
   "outputs": [],
   "source": [
    "plt.style.use('seaborn-whitegrid')"
   ]
  },
  {
   "cell_type": "markdown",
   "metadata": {},
   "source": [
    "# すきま風量の計算モジュールテスト\n",
    "## get_infiltrationをテスト\n",
    "    Args:\n",
    "        c_value: 相当隙間面積, cm2/m2, [i, 1]\n",
    "        v_room_cap_is: 室気積, m3, [i,1]\n",
    "        story: 階\n",
    "        vent_type: 換気方式, 第?種換気\n",
    "       theta_r_is_n: 時刻nの室温, degree C, [i,1]\n",
    "       theta_o_npls: 時刻n+1の外気温度, degree C, float\n",
    "\n",
    "    Returns:\n",
    "        すきま風量, m3/s, [i,1]\n",
    "\n",
    "## すきま風量には機械換気の風量は含まれない"
   ]
  },
  {
   "cell_type": "code",
   "execution_count": 3,
   "metadata": {
    "pycharm": {
     "is_executing": false
    }
   },
   "outputs": [],
   "source": [
    "c_value = 2.0"
   ]
  },
  {
   "cell_type": "code",
   "execution_count": 4,
   "metadata": {
    "pycharm": {
     "is_executing": false
    }
   },
   "outputs": [],
   "source": [
    "v_room_cap_is = np.array([50.0, 20.0, 30.0])"
   ]
  },
  {
   "cell_type": "code",
   "execution_count": 5,
   "metadata": {
    "pycharm": {
     "is_executing": false
    }
   },
   "outputs": [],
   "source": [
    "story = 2"
   ]
  },
  {
   "cell_type": "code",
   "execution_count": 6,
   "metadata": {
    "pycharm": {
     "is_executing": false
    }
   },
   "outputs": [],
   "source": [
    "vent_type = 3"
   ]
  },
  {
   "cell_type": "code",
   "execution_count": 7,
   "metadata": {
    "pycharm": {
     "is_executing": false
    }
   },
   "outputs": [],
   "source": [
    "theta_r = np.array([20.0, 20.0, 20.0])"
   ]
  },
  {
   "cell_type": "code",
   "execution_count": 8,
   "metadata": {},
   "outputs": [],
   "source": [
    "theta_o = [x for x in range(-10,20)]"
   ]
  },
  {
   "cell_type": "code",
   "execution_count": 9,
   "metadata": {},
   "outputs": [
    {
     "name": "stdout",
     "output_type": "stream",
     "text": [
      "0.17888543819998318\n"
     ]
    }
   ],
   "source": [
    "print(np.sum(e7.get_infiltration(\n",
    "        c_value=c_value,\n",
    "        v_room_cap_is=v_room_cap_is,\n",
    "        story=story,\n",
    "        vent_type=1,\n",
    "        theta_r_is_n=theta_r,\n",
    "        theta_o_npls=0.0\n",
    "    )) / np.sum(v_room_cap_is) * 3600.)"
   ]
  },
  {
   "cell_type": "code",
   "execution_count": 10,
   "metadata": {
    "pycharm": {
     "is_executing": false
    }
   },
   "outputs": [],
   "source": [
    "x1 = np.average(theta_r) - theta_o"
   ]
  },
  {
   "cell_type": "code",
   "execution_count": 11,
   "metadata": {
    "pycharm": {
     "is_executing": false
    }
   },
   "outputs": [],
   "source": [
    "y1 = [(e7.get_infiltration(\n",
    "        c_value=c_value,\n",
    "        v_room_cap_is=np.sum(v_room_cap_is),\n",
    "        story=story,\n",
    "        vent_type=1,\n",
    "        theta_r_is_n=np.average(theta_r),\n",
    "        theta_o_npls=t_o\n",
    "    ) / np.sum(v_room_cap_is) * 3600.) for t_o in theta_o]"
   ]
  },
  {
   "cell_type": "code",
   "execution_count": 12,
   "metadata": {
    "pycharm": {
     "is_executing": false
    }
   },
   "outputs": [],
   "source": [
    "y2 = [(e7.get_infiltration(\n",
    "        c_value=c_value,\n",
    "        v_room_cap_is=np.sum(v_room_cap_is),\n",
    "        story=story,\n",
    "        vent_type=2,\n",
    "        theta_r_is_n=np.average(theta_r),\n",
    "        theta_o_npls=t_o\n",
    "    ) / np.sum(v_room_cap_is) * 3600.) for t_o in theta_o]"
   ]
  },
  {
   "cell_type": "code",
   "execution_count": 13,
   "metadata": {
    "pycharm": {
     "is_executing": false
    }
   },
   "outputs": [],
   "source": [
    "y3 = [(e7.get_infiltration(\n",
    "        c_value=c_value,\n",
    "        v_room_cap_is=np.sum(v_room_cap_is),\n",
    "        story=story,\n",
    "        vent_type=3,\n",
    "        theta_r_is_n=np.average(theta_r),\n",
    "        theta_o_npls=t_o\n",
    "    ) / np.sum(v_room_cap_is) * 3600.) for t_o in theta_o]"
   ]
  },
  {
   "cell_type": "code",
   "execution_count": 14,
   "metadata": {},
   "outputs": [
    {
     "data": {
      "image/png": "[encoded data removed]",
      "text/plain": [
       "<Figure size 432x288 with 1 Axes>"
      ]
     },
     "metadata": {},
     "output_type": "display_data"
    }
   ],
   "source": [
    "fig1 = plt.figure()\n",
    "ax1 = fig1.subplots()\n",
    "\n",
    "ax1.scatter(x1, y1, c=\"r\", label=\"vent_type1\")\n",
    "ax1.scatter(x1, y2, c=\"g\", label=\"vent_type2\")\n",
    "ax1.scatter(x1, y3, c=\"m\", label=\"vent_type3\")\n",
    "\n",
    "ax1.set_xlabel('temperature difference[C]')\n",
    "ax1.set_ylabel('infiltration rate[ACH]')\n",
    "\n",
    "ax1.set_title(\"c_value=\" + str(c_value))\n",
    "\n",
    "plt.legend()\n",
    "plt.show()"
   ]
  },
  {
   "cell_type": "code",
   "execution_count": 15,
   "metadata": {
    "pycharm": {
     "is_executing": false
    }
   },
   "outputs": [],
   "source": [
    "theta_o = 0.0\n",
    "theta_r = 20.0\n",
    "c_value = [x for x in range(1,25)]"
   ]
  },
  {
   "cell_type": "code",
   "execution_count": 16,
   "metadata": {
    "pycharm": {
     "is_executing": false
    }
   },
   "outputs": [],
   "source": [
    "x1 = c_value"
   ]
  },
  {
   "cell_type": "code",
   "execution_count": 17,
   "metadata": {
    "pycharm": {
     "is_executing": false
    }
   },
   "outputs": [],
   "source": [
    "y1 = [(e7.get_infiltration(\n",
    "        c_value=c,\n",
    "        v_room_cap_is=np.sum(v_room_cap_is),\n",
    "        story=story,\n",
    "        vent_type=1,\n",
    "        theta_r_is_n=np.average(theta_r),\n",
    "        theta_o_npls=theta_o\n",
    "    ) / np.sum(v_room_cap_is) * 3600.) for c in c_value]"
   ]
  },
  {
   "cell_type": "code",
   "execution_count": 18,
   "metadata": {
    "pycharm": {
     "is_executing": false
    }
   },
   "outputs": [],
   "source": [
    "y2 = [(e7.get_infiltration(\n",
    "        c_value=c,\n",
    "        v_room_cap_is=np.sum(v_room_cap_is),\n",
    "        story=story,\n",
    "        vent_type=2,\n",
    "        theta_r_is_n=np.average(theta_r),\n",
    "        theta_o_npls=theta_o\n",
    "    ) / np.sum(v_room_cap_is) * 3600.) for c in c_value]"
   ]
  },
  {
   "cell_type": "code",
   "execution_count": 19,
   "metadata": {
    "pycharm": {
     "is_executing": false
    }
   },
   "outputs": [],
   "source": [
    "y3 = [(e7.get_infiltration(\n",
    "        c_value=c,\n",
    "        v_room_cap_is=np.sum(v_room_cap_is),\n",
    "        story=story,\n",
    "        vent_type=3,\n",
    "        theta_r_is_n=np.average(theta_r),\n",
    "        theta_o_npls=theta_o\n",
    "    ) / np.sum(v_room_cap_is) * 3600.) for c in c_value]"
   ]
  },
  {
   "cell_type": "code",
   "execution_count": 20,
   "metadata": {},
   "outputs": [
    {
     "data": {
      "image/png": "[encoded data removed]",
      "text/plain": [
       "<Figure size 432x288 with 1 Axes>"
      ]
     },
     "metadata": {},
     "output_type": "display_data"
    }
   ],
   "source": [
    "fig2 = plt.figure()\n",
    "ax2 = fig2.subplots()\n",
    "\n",
    "ax2.scatter(x1, y1, c=\"r\", label=\"vent_type1\")\n",
    "ax2.scatter(x1, y2, c=\"g\", label=\"vent_type2\")\n",
    "ax2.scatter(x1, y3, c=\"m\", label=\"vent_type3\")\n",
    "\n",
    "ax2.set_xlabel('c_value[cm2/m2]')\n",
    "ax2.set_ylabel('infiltration rate[ACH]')\n",
    "\n",
    "ax2.set_title(\"delta_theta=\" + str(theta_r - theta_o))\n",
    "\n",
    "plt.legend()\n",
    "plt.show()"
   ]
  },
  {
   "cell_type": "code",
   "execution_count": null,
   "metadata": {},
   "outputs": [],
   "source": []
  }
 ],
 "metadata": {
  "kernelspec": {
   "display_name": "Python 3",
   "language": "python",
   "name": "python3"
  },
  "language_info": {
   "codemirror_mode": {
    "name": "ipython",
    "version": 3
   },
   "file_extension": ".py",
   "mimetype": "text/x-python",
   "name": "python",
   "nbconvert_exporter": "python",
   "pygments_lexer": "ipython3",
   "version": "3.6.5"
  },
  "pycharm": {
   "stem_cell": {
    "cell_type": "raw",
    "metadata": {
     "collapsed": false
    },
    "source": []
   }
  },
  "toc": {
   "base_numbering": 1,
   "nav_menu": {},
   "number_sections": true,
   "sideBar": true,
   "skip_h1_title": false,
   "title_cell": "Table of Contents",
   "title_sidebar": "Contents",
   "toc_cell": false,
   "toc_position": {},
   "toc_section_display": true,
   "toc_window_display": false
  }
 },
 "nbformat": 4,
 "nbformat_minor": 2
}
