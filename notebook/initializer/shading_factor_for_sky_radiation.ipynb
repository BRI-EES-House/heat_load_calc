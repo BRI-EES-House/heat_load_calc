{
 "cells": [
  {
   "cell_type": "code",
   "execution_count": 1,
   "metadata": {},
   "outputs": [],
   "source": [
    "import shading_form_factor as sff\n",
    "from matplotlib import pyplot as plt"
   ]
  },
  {
   "cell_type": "code",
   "execution_count": 2,
   "metadata": {},
   "outputs": [],
   "source": [
    "plt.style.use('seaborn-whitegrid')"
   ]
  },
  {
   "cell_type": "code",
   "execution_count": 3,
   "metadata": {},
   "outputs": [],
   "source": [
    "# 無限に長い庇による天空日射の遮へい効果の計算"
   ]
  },
  {
   "cell_type": "markdown",
   "metadata": {},
   "source": [
    "<div style=\"text-align: right;\">佐藤エネルギーリサーチ（株）</div>"
   ]
  },
  {
   "cell_type": "markdown",
   "metadata": {},
   "source": [
    "## はじめに"
   ]
  },
  {
   "cell_type": "markdown",
   "metadata": {},
   "source": [
    "無限に長い庇について、天空日射に対する遮へい効果の計算法について述べる。"
   ]
  },
  {
   "cell_type": "markdown",
   "metadata": {},
   "source": [
    "## 各部寸法"
   ]
  },
  {
   "cell_type": "markdown",
   "metadata": {},
   "source": [
    "窓、庇共に無限に長いと仮定し、下図のような寸法が与えられるとする。"
   ]
  },
  {
   "cell_type": "markdown",
   "metadata": {},
   "source": [
    "<img src=\"fig/solar_shading.png\" width=20%>"
   ]
  },
  {
   "cell_type": "markdown",
   "metadata": {},
   "source": [
    "<div style=\"text-align: center;\">図 1　無限に長い庇の寸法</div>"
   ]
  },
  {
   "cell_type": "markdown",
   "metadata": {},
   "source": [
    "## 形態係数の計算方法"
   ]
  },
  {
   "cell_type": "markdown",
   "metadata": {},
   "source": [
    "窓、庇が無限に続くと仮定したため、2次元で扱えばよい。クロス・ストリング法を適用すると、窓から庇を見る形態係数は下式となる。"
   ]
  },
  {
   "cell_type": "markdown",
   "metadata": {},
   "source": [
    "$$\n",
    "\\begin{eqnarray*}\n",
    "\\varphi &=& \\frac{ ( AC + BD ) - ( AD + BC ) }{ 2 DC } \\\\\n",
    "   &=& \\frac{ ( ( y_1 + y_w ) + \\sqrt{ y_1^2 + z^2 } )- ( y_1 + \\sqrt{ ( y_1 + y_w )^2 + z^2  } ) }{ 2 y_w }\n",
    "\\end{eqnarray*}\n",
    "$$"
   ]
  },
  {
   "cell_type": "markdown",
   "metadata": {},
   "source": [
    "ここで、\n",
    "\n",
    "$\\varphi$：\t窓から庇を見る形態係数 -"
   ]
  },
  {
   "cell_type": "markdown",
   "metadata": {},
   "source": [
    "## 無限に長い庇があるときの窓の天空透過日射熱取得"
   ]
  },
  {
   "cell_type": "markdown",
   "metadata": {},
   "source": [
    "無限に長い庇があるときの窓の天空透過日射熱取得は下式となる。"
   ]
  },
  {
   "cell_type": "markdown",
   "metadata": {},
   "source": [
    "$$ Q_{GT,d} = A \\cdot ( 1 - \\varphi ) \\cdot \\tau_N \\cdot c \\cdot I_d $$"
   ]
  },
  {
   "cell_type": "markdown",
   "metadata": {},
   "source": [
    "ここで、  \n",
    "$Q_{GT,d}$：天空透過日射熱取得, W\n",
    "$A$：窓面積, m<sup>2</sup>  \n",
    "$\\tau_N$：窓の垂直入射時透過率, -  \n",
    "$c$：窓の拡散光に対する入射角特性  \n",
    "$I_d$：窓に入射する天空日射, W/m<sup>2</sup>"
   ]
  },
  {
   "cell_type": "code",
   "execution_count": 4,
   "metadata": {},
   "outputs": [
    {
     "name": "stdout",
     "output_type": "stream",
     "text": [
      "0.13962038997193676\n"
     ]
    }
   ],
   "source": [
    "print(sff.calc_shading_ff(y1=0.0,\n",
    "                         yw=1.8,\n",
    "                         z=0.6))"
   ]
  },
  {
   "cell_type": "code",
   "execution_count": 5,
   "metadata": {},
   "outputs": [],
   "source": [
    "z = [float(x) / 10.0 for x in range(0, 30)]"
   ]
  },
  {
   "cell_type": "code",
   "execution_count": 6,
   "metadata": {},
   "outputs": [],
   "source": [
    "fai1 = [sff.calc_shading_ff(\n",
    "        y1=0.0,\n",
    "        yw=0.6,\n",
    "        z=zz) for zz in z]"
   ]
  },
  {
   "cell_type": "code",
   "execution_count": 7,
   "metadata": {},
   "outputs": [],
   "source": [
    "fai2 = [sff.calc_shading_ff(\n",
    "        y1=0.0,\n",
    "        yw=1.2,\n",
    "        z=zz) for zz in z]"
   ]
  },
  {
   "cell_type": "code",
   "execution_count": 8,
   "metadata": {},
   "outputs": [],
   "source": [
    "fai3 = [sff.calc_shading_ff(\n",
    "        y1=0.0,\n",
    "        yw=2.0,\n",
    "        z=zz) for zz in z]"
   ]
  },
  {
   "cell_type": "code",
   "execution_count": 9,
   "metadata": {},
   "outputs": [
    {
     "data": {
      "image/png": "[encoded data removed]",
      "text/plain": [
       "<Figure size 432x288 with 1 Axes>"
      ]
     },
     "metadata": {},
     "output_type": "display_data"
    }
   ],
   "source": [
    "fig1 = plt.figure()\n",
    "ax1 = fig1.subplots()\n",
    "\n",
    "ax1.scatter(z, fai1, c=\"r\", label=\"yw=0.6m\")\n",
    "ax1.scatter(z, fai2, c=\"g\", label=\"yw=1.2m\")\n",
    "ax1.scatter(z, fai3, c=\"m\", label=\"yw=2.0m\")\n",
    "\n",
    "ax1.set_xlabel('dimension of eaves[m]')\n",
    "ax1.set_ylabel('form factor[-]')\n",
    "\n",
    "plt.legend()\n",
    "plt.show()"
   ]
  }
 ],
 "metadata": {
  "kernelspec": {
   "display_name": "Python 3",
   "language": "python",
   "name": "python3"
  },
  "language_info": {
   "codemirror_mode": {
    "name": "ipython",
    "version": 3
   },
   "file_extension": ".py",
   "mimetype": "text/x-python",
   "name": "python",
   "nbconvert_exporter": "python",
   "pygments_lexer": "ipython3",
   "version": "3.7.6"
  },
  "pycharm": {
   "stem_cell": {
    "cell_type": "raw",
    "metadata": {
     "collapsed": false
    },
    "source": []
   }
  }
 },
 "nbformat": 4,
 "nbformat_minor": 1
}
