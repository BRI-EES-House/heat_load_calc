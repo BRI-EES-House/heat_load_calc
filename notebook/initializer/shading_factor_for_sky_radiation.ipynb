{
 "cells": [
  {
   "cell_type": "code",
   "execution_count": 1,
   "metadata": {},
   "outputs": [],
   "source": [
    "from matplotlib import pyplot as plt\n",
    "import sys\n",
    "\n",
    "sys.path.append('../..')\n",
    "\n",
    "from heat_load_calc.initializer import solar_shading"
   ]
  },
  {
   "cell_type": "code",
   "execution_count": 2,
   "metadata": {},
   "outputs": [],
   "source": [
    "plt.style.use('seaborn-whitegrid')"
   ]
  },
  {
   "cell_type": "markdown",
   "metadata": {},
   "source": [
    "# 無限に長い庇による天空日射の遮へい効果の計算"
   ]
  },
  {
   "cell_type": "markdown",
   "metadata": {},
   "source": [
    "<div style=\"text-align: right;\">佐藤エネルギーリサーチ（株）</div>"
   ]
  },
  {
   "cell_type": "markdown",
   "metadata": {},
   "source": [
    "## はじめに"
   ]
  },
  {
   "cell_type": "markdown",
   "metadata": {},
   "source": [
    "無限に長い庇について、天空日射に対する遮へい効果の計算法について述べる。"
   ]
  },
  {
   "cell_type": "markdown",
   "metadata": {},
   "source": [
    "## 各部寸法"
   ]
  },
  {
   "cell_type": "markdown",
   "metadata": {},
   "source": [
    "窓、庇共に無限に長いと仮定し、下図のような寸法が与えられるとする。"
   ]
  },
  {
   "cell_type": "markdown",
   "metadata": {},
   "source": [
    "<img src=\"fig/solar_shading.png\" width=20%>"
   ]
  },
  {
   "cell_type": "markdown",
   "metadata": {},
   "source": [
    "<div style=\"text-align: center;\">図 1　無限に長い庇の寸法</div>"
   ]
  },
  {
   "cell_type": "markdown",
   "metadata": {},
   "source": [
    "## 形態係数の計算方法"
   ]
  },
  {
   "cell_type": "markdown",
   "metadata": {},
   "source": [
    "窓、庇が無限に続くと仮定したため、2次元で扱えばよい。クロス・ストリング法を適用すると、窓から庇を見る形態係数は下式となる。"
   ]
  },
  {
   "cell_type": "markdown",
   "metadata": {},
   "source": [
    "$$\n",
    "\\begin{eqnarray*}\n",
    "\\varphi &=& \\frac{ ( AC + BD ) - ( AD + BC ) }{ 2 DC } \\\\\n",
    "   &=& \\frac{ ( ( y_1 + y_w ) + \\sqrt{ y_1^2 + z^2 } )- ( y_1 + \\sqrt{ ( y_1 + y_w )^2 + z^2  } ) }{ 2 y_w }\n",
    "\\end{eqnarray*}\n",
    "$$"
   ]
  },
  {
   "cell_type": "markdown",
   "metadata": {},
   "source": [
    "ここで、\n",
    "\n",
    "$\\varphi$：\t窓から庇を見る形態係数 -"
   ]
  },
  {
   "cell_type": "markdown",
   "metadata": {},
   "source": [
    "## 無限に長い庇があるときの窓の天空透過日射熱取得"
   ]
  },
  {
   "cell_type": "markdown",
   "metadata": {},
   "source": [
    "無限に長い庇があるときの窓の天空透過日射熱取得は下式となる。"
   ]
  },
  {
   "cell_type": "markdown",
   "metadata": {},
   "source": [
    "$$ Q_{GT,d} = A \\cdot ( 1 - \\varphi ) \\cdot \\tau_N \\cdot c \\cdot I_d $$"
   ]
  },
  {
   "cell_type": "markdown",
   "metadata": {},
   "source": [
    "ここで、  \n",
    "$Q_{GT,d}$：天空透過日射熱取得, W\n",
    "$A$：窓面積, m<sup>2</sup>  \n",
    "$\\tau_N$：窓の垂直入射時透過率, -  \n",
    "$c$：窓の拡散光に対する入射角特性  \n",
    "$I_d$：窓に入射する天空日射, W/m<sup>2</sup>"
   ]
  },
  {
   "cell_type": "markdown",
   "metadata": {},
   "source": [
    "## Example"
   ]
  },
  {
   "cell_type": "code",
   "execution_count": 3,
   "metadata": {},
   "outputs": [],
   "source": [
    "def get_f_ss_s(depth, d_h, d_e):\n",
    "    sss = solar_shading.SolarShadingSimple(w_alpha=0.0, depth=depth, d_h=d_h, d_e=d_e)\n",
    "    return sss.get_f_ss_s_j_ns()"
   ]
  },
  {
   "cell_type": "markdown",
   "metadata": {},
   "source": [
    "計算例  \n",
    "- 方角 0度\n",
    "- 庇の深さ 0.6m\n",
    "- 窓の高さ 1.8m\n",
    "- 窓上端から庇の付け根までの長さ 0.0m"
   ]
  },
  {
   "cell_type": "code",
   "execution_count": 4,
   "metadata": {
    "scrolled": false
   },
   "outputs": [
    {
     "data": {
      "text/plain": [
       "0.13962038997193676"
      ]
     },
     "execution_count": 4,
     "metadata": {},
     "output_type": "execute_result"
    }
   ],
   "source": [
    "get_f_ss_s(depth=0.6, d_h=1.8, d_e=0.0)"
   ]
  },
  {
   "cell_type": "markdown",
   "metadata": {},
   "source": [
    "庇の長さを0.0mから3.0mまで0.1m刻みで振る"
   ]
  },
  {
   "cell_type": "code",
   "execution_count": 5,
   "metadata": {},
   "outputs": [],
   "source": [
    "zs = [float(x) / 10.0 for x in range(0, 31)]"
   ]
  },
  {
   "cell_type": "code",
   "execution_count": 6,
   "metadata": {},
   "outputs": [],
   "source": [
    "fai1 = [get_f_ss_s(depth=z, d_h=0.6, d_e=0.0) for z in zs]"
   ]
  },
  {
   "cell_type": "code",
   "execution_count": 7,
   "metadata": {},
   "outputs": [],
   "source": [
    "fai2 = [get_f_ss_s(depth=z, d_h=1.2, d_e=0.0) for z in zs]"
   ]
  },
  {
   "cell_type": "code",
   "execution_count": 8,
   "metadata": {},
   "outputs": [],
   "source": [
    "fai3 = [get_f_ss_s(depth=z, d_h=2.0, d_e=0.0) for z in zs]"
   ]
  },
  {
   "cell_type": "code",
   "execution_count": 9,
   "metadata": {},
   "outputs": [
    {
     "data": {
      "image/png": "[encoded data removed]",
      "text/plain": [
       "<Figure size 432x288 with 1 Axes>"
      ]
     },
     "metadata": {},
     "output_type": "display_data"
    }
   ],
   "source": [
    "fig1 = plt.figure()\n",
    "ax1 = fig1.subplots()\n",
    "\n",
    "ax1.scatter(zs, fai1, c=\"r\", label=\"vertical length of window=0.6m\")\n",
    "ax1.scatter(zs, fai2, c=\"g\", label=\"vertical length of window=1.2m\")\n",
    "ax1.scatter(zs, fai3, c=\"m\", label=\"vertical length of window=2.0m\")\n",
    "\n",
    "ax1.set_xlabel('depth of eaves, m')\n",
    "ax1.set_ylabel('form factor')\n",
    "\n",
    "plt.legend()\n",
    "plt.show()"
   ]
  },
  {
   "cell_type": "code",
   "execution_count": null,
   "metadata": {},
   "outputs": [],
   "source": []
  }
 ],
 "metadata": {
  "kernelspec": {
   "display_name": "Python 3",
   "language": "python",
   "name": "python3"
  },
  "language_info": {
   "codemirror_mode": {
    "name": "ipython",
    "version": 3
   },
   "file_extension": ".py",
   "mimetype": "text/x-python",
   "name": "python",
   "nbconvert_exporter": "python",
   "pygments_lexer": "ipython3",
   "version": "3.7.6"
  },
  "pycharm": {
   "stem_cell": {
    "cell_type": "raw",
    "metadata": {
     "collapsed": false
    },
    "source": []
   }
  }
 },
 "nbformat": 4,
 "nbformat_minor": 1
}
