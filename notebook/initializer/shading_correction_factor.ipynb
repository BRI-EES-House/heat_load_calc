{
 "cells": [
  {
   "cell_type": "code",
   "execution_count": 1,
   "metadata": {},
   "outputs": [],
   "source": [
    "from matplotlib import pyplot as plt\n",
    "import sys\n",
    "import pandas as pd\n",
    "import numpy as np\n",
    "import math\n",
    "\n",
    "sys.path.append('../../src')\n",
    "\n",
    "from heat_load_calc.core import solar_shading"
   ]
  },
  {
   "cell_type": "code",
   "execution_count": 2,
   "metadata": {},
   "outputs": [],
   "source": [
    "plt.style.use('seaborn-whitegrid')"
   ]
  },
  {
   "cell_type": "markdown",
   "metadata": {},
   "source": [
    "# 無限に長い庇による天空日射の遮へい効果の計算"
   ]
  },
  {
   "cell_type": "markdown",
   "metadata": {},
   "source": [
    "<div style=\"text-align: right;\">佐藤エネルギーリサーチ（株）</div>"
   ]
  },
  {
   "cell_type": "markdown",
   "metadata": {},
   "source": [
    "## はじめに"
   ]
  },
  {
   "cell_type": "markdown",
   "metadata": {},
   "source": [
    "無限に長い庇について、天空日射に対する遮へい効果の計算法について述べる。"
   ]
  },
  {
   "cell_type": "markdown",
   "metadata": {},
   "source": [
    "## 各部寸法"
   ]
  },
  {
   "cell_type": "markdown",
   "metadata": {},
   "source": [
    "窓、庇共に無限に長いと仮定し、下図のような寸法が与えられるとする。"
   ]
  },
  {
   "cell_type": "markdown",
   "metadata": {},
   "source": [
    "<img src=\"fig/solar_shading.png\" width=20%>"
   ]
  },
  {
   "cell_type": "markdown",
   "metadata": {},
   "source": [
    "<div style=\"text-align: center;\">図 1　無限に長い庇の寸法</div>"
   ]
  },
  {
   "cell_type": "markdown",
   "metadata": {},
   "source": [
    "## 形態係数の計算方法"
   ]
  },
  {
   "cell_type": "markdown",
   "metadata": {},
   "source": [
    "窓、庇が無限に続くと仮定したため、2次元で扱えばよい。クロス・ストリング法を適用すると、窓から庇を見る形態係数は下式となる。"
   ]
  },
  {
   "cell_type": "markdown",
   "metadata": {},
   "source": [
    "$$\n",
    "\\begin{eqnarray*}\n",
    "\\varphi &=& \\frac{ ( AC + BD ) - ( AD + BC ) }{ 2 DC } \\\\\n",
    "   &=& \\frac{ ( ( y_1 + y_w ) + \\sqrt{ y_1^2 + z^2 } )- ( y_1 + \\sqrt{ ( y_1 + y_w )^2 + z^2  } ) }{ 2 y_w }\n",
    "\\end{eqnarray*}\n",
    "$$"
   ]
  },
  {
   "cell_type": "markdown",
   "metadata": {},
   "source": [
    "ここで、\n",
    "\n",
    "$\\varphi$：\t窓から庇を見る形態係数 -"
   ]
  },
  {
   "cell_type": "markdown",
   "metadata": {},
   "source": [
    "## 無限に長い庇があるときの窓の天空透過日射熱取得"
   ]
  },
  {
   "cell_type": "markdown",
   "metadata": {},
   "source": [
    "無限に長い庇があるときの窓の天空透過日射熱取得は下式となる。"
   ]
  },
  {
   "cell_type": "markdown",
   "metadata": {},
   "source": [
    "$$ Q_{GT,d} = A \\cdot ( 1 - \\varphi ) \\cdot \\tau_N \\cdot c \\cdot I_d $$"
   ]
  },
  {
   "cell_type": "markdown",
   "metadata": {},
   "source": [
    "ここで、  \n",
    "$Q_{GT,d}$：天空透過日射熱取得, W\n",
    "$A$：窓面積, m<sup>2</sup>  \n",
    "$\\tau_N$：窓の垂直入射時透過率, -  \n",
    "$c$：窓の拡散光に対する入射角特性  \n",
    "$I_d$：窓に入射する天空日射, W/m<sup>2</sup>"
   ]
  },
  {
   "cell_type": "markdown",
   "metadata": {},
   "source": [
    "## Example"
   ]
  },
  {
   "cell_type": "markdown",
   "metadata": {},
   "source": [
    "### 天空日射に対する形態係数の計算関数"
   ]
  },
  {
   "cell_type": "code",
   "execution_count": 3,
   "metadata": {},
   "outputs": [],
   "source": [
    "def get_f_ss_s(w_alpha, depth, d_h, d_e):\n",
    "    sss = solar_shading.SolarShadingSimple(w_alpha=w_alpha, depth=depth, d_h=d_h, d_e=d_e)\n",
    "    return sss.get_f_ss_s_j()"
   ]
  },
  {
   "cell_type": "markdown",
   "metadata": {},
   "source": [
    "### 直達日射に対する形態係数の計算関数"
   ]
  },
  {
   "cell_type": "code",
   "execution_count": 4,
   "metadata": {},
   "outputs": [],
   "source": [
    "def get_f_ss_d_j_ns(w_alpha, depth, d_h, d_e, h_sun, a_sun, sh, sw, ss):\n",
    "    sss = solar_shading.SolarShadingSimple(w_alpha=w_alpha, depth=depth, d_h=d_h, d_e=d_e)\n",
    "    w_beta = math.radians(90)\n",
    "    wz = math.cos(w_beta)\n",
    "    ww = math.sin(w_beta) * math.sin(w_alpha)\n",
    "    ws = math.sin(w_beta) * math.cos(w_alpha)\n",
    "    cos_theta = sh * wz + sw * ww + ss * ws\n",
    "    \n",
    "    a_shdw = sss.get_f_ss_d_j_ns(h_sun_n=h_sun, a_sun_n=a_sun)\n",
    "    a_shdw = np.where(cos_theta < 0.0, 1.0, a_shdw)\n",
    "    a_shdw = np.where(h_sun == 0.0, 1.0, a_shdw)\n",
    "    return a_shdw"
   ]
  },
  {
   "cell_type": "markdown",
   "metadata": {},
   "source": [
    "計算例  \n",
    "- 方位角 0度\n",
    "- 庇の深さ 1.0m\n",
    "- 窓の高さ 2.0m\n",
    "- 窓上端から庇の付け根までの長さ 0.2m"
   ]
  },
  {
   "cell_type": "code",
   "execution_count": 5,
   "metadata": {
    "scrolled": false
   },
   "outputs": [],
   "source": [
    "f_ss = get_f_ss_s(w_alpha=0.0, depth=1.0, d_h=2.0, d_e=0.2)"
   ]
  },
  {
   "cell_type": "code",
   "execution_count": 6,
   "metadata": {},
   "outputs": [],
   "source": [
    "# 気象データ読み込み\n",
    "d_weather = pd.read_csv('../../notebook/initializer/climateData_6.csv')\n",
    "h_rad = np.radians(d_weather['太陽高度角[度]'].values)\n",
    "a_rad = np.radians(d_weather['太陽方位角[度]'].values)\n",
    "sh = np.sin(h_rad)\n",
    "sw = np.cos(h_rad) * np.sin(a_rad)\n",
    "ss = np.cos(h_rad) * np.cos(a_rad)"
   ]
  },
  {
   "cell_type": "markdown",
   "metadata": {},
   "source": [
    "#### 南向き日影面積"
   ]
  },
  {
   "cell_type": "code",
   "execution_count": 7,
   "metadata": {},
   "outputs": [],
   "source": [
    "south_face = get_f_ss_d_j_ns(w_alpha=math.radians(0.0), depth=1.0, d_h=2.0, d_e=0.2, h_sun=h_rad, a_sun=a_rad, sh=sh, sw=sw, ss=ss)"
   ]
  },
  {
   "cell_type": "markdown",
   "metadata": {},
   "source": [
    "#### 東向き日影面積"
   ]
  },
  {
   "cell_type": "code",
   "execution_count": 8,
   "metadata": {},
   "outputs": [],
   "source": [
    "east_face = get_f_ss_d_j_ns(w_alpha=math.radians(-90.0), depth=1.0, d_h=2.0, d_e=0.2, h_sun=h_rad, a_sun=a_rad, sh=sh, sw=sw, ss=ss)"
   ]
  },
  {
   "cell_type": "markdown",
   "metadata": {},
   "source": [
    "#### 南東向き日影面積"
   ]
  },
  {
   "cell_type": "code",
   "execution_count": 9,
   "metadata": {},
   "outputs": [],
   "source": [
    "se_face = get_f_ss_d_j_ns(w_alpha=math.radians(-45.0), depth=1.0, d_h=2.0, d_e=0.2, h_sun=h_rad, a_sun=a_rad, sh=sh, sw=sw, ss=ss)"
   ]
  },
  {
   "cell_type": "markdown",
   "metadata": {},
   "source": [
    "#### ファイル出力"
   ]
  },
  {
   "cell_type": "code",
   "execution_count": 10,
   "metadata": {
    "scrolled": true
   },
   "outputs": [],
   "source": [
    "# 計算は1時始まりだが、時間ラベルが0時始まりなので１つずらす\n",
    "dd_output = pd.DataFrame(index=pd.date_range(start='1/1/1989', periods=8760, freq='H'))\n",
    "dd_output['h'] = np.roll(np.degrees(h_rad), 1)\n",
    "dd_output['a'] = np.roll(np.degrees(a_rad), 1)\n",
    "# 影の面積から日向の面積へ変換\n",
    "dd_output['south'] = np.roll(1.0 - south_face, 1)\n",
    "dd_output['east'] = np.roll(1.0 - east_face, 1)\n",
    "dd_output['south-east'] = np.roll(1.0 - se_face, 1)\n",
    "dd_output['sky_radiation'] = 0.5 - np.full(len(south_face), f_ss)\n",
    "dd_output.to_csv('../../notebook/initializer/result.csv', encoding='cp932')"
   ]
  },
  {
   "cell_type": "markdown",
   "metadata": {},
   "source": [
    "庇の長さを0.0mから3.0mまで0.1m刻みで振る"
   ]
  },
  {
   "cell_type": "code",
   "execution_count": 11,
   "metadata": {},
   "outputs": [],
   "source": [
    "zs = [float(x) / 10.0 for x in range(0, 31)]"
   ]
  },
  {
   "cell_type": "code",
   "execution_count": 12,
   "metadata": {},
   "outputs": [],
   "source": [
    "fai1 = [get_f_ss_s(w_alpha=0.0, depth=z, d_h=0.6, d_e=0.0) for z in zs]"
   ]
  },
  {
   "cell_type": "code",
   "execution_count": 13,
   "metadata": {},
   "outputs": [],
   "source": [
    "fai2 = [get_f_ss_s(w_alpha=0.0, depth=z, d_h=1.2, d_e=0.0) for z in zs]"
   ]
  },
  {
   "cell_type": "code",
   "execution_count": 14,
   "metadata": {},
   "outputs": [],
   "source": [
    "fai3 = [get_f_ss_s(w_alpha=0.0, depth=z, d_h=2.0, d_e=0.0) for z in zs]"
   ]
  },
  {
   "cell_type": "code",
   "execution_count": 15,
   "metadata": {},
   "outputs": [
    {
     "data": {
      "image/png": "[encoded data removed]",
      "text/plain": [
       "<Figure size 432x288 with 1 Axes>"
      ]
     },
     "metadata": {},
     "output_type": "display_data"
    }
   ],
   "source": [
    "fig1 = plt.figure()\n",
    "ax1 = fig1.subplots()\n",
    "\n",
    "ax1.scatter(zs, fai1, c=\"r\", label=\"vertical length of window=0.6m\")\n",
    "ax1.scatter(zs, fai2, c=\"g\", label=\"vertical length of window=1.2m\")\n",
    "ax1.scatter(zs, fai3, c=\"m\", label=\"vertical length of window=2.0m\")\n",
    "\n",
    "ax1.set_xlabel('depth of eaves, m')\n",
    "ax1.set_ylabel('form factor')\n",
    "\n",
    "plt.legend()\n",
    "plt.show()"
   ]
  },
  {
   "cell_type": "code",
   "execution_count": null,
   "metadata": {},
   "outputs": [],
   "source": []
  }
 ],
 "metadata": {
  "kernelspec": {
   "display_name": "Python 3 (ipykernel)",
   "language": "python",
   "name": "python3"
  },
  "language_info": {
   "codemirror_mode": {
    "name": "ipython",
    "version": 3
   },
   "file_extension": ".py",
   "mimetype": "text/x-python",
   "name": "python",
   "nbconvert_exporter": "python",
   "pygments_lexer": "ipython3",
   "version": "3.9.7"
  },
  "pycharm": {
   "stem_cell": {
    "cell_type": "raw",
    "metadata": {
     "collapsed": false
    },
    "source": []
   }
  }
 },
 "nbformat": 4,
 "nbformat_minor": 1
}
