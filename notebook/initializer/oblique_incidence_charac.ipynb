{
 "cells": [
  {
   "cell_type": "code",
   "execution_count": 1,
   "metadata": {
    "pycharm": {
     "is_executing": false
    }
   },
   "outputs": [],
   "source": [
    "import matplotlib.pyplot as plt\n",
    "import numpy as np\n",
    "from typing import Callable\n",
    "import sys\n",
    "\n",
    "sys.path.append('../..')\n",
    "\n",
    "from heat_load_calc.core import window"
   ]
  },
  {
   "cell_type": "markdown",
   "metadata": {},
   "source": [
    "# oblique_incidence_charac"
   ]
  },
  {
   "cell_type": "markdown",
   "metadata": {},
   "source": [
    "## Outline"
   ]
  },
  {
   "cell_type": "markdown",
   "metadata": {},
   "source": [
    "窓の入射角特性を計算する。"
   ]
  },
  {
   "cell_type": "markdown",
   "metadata": {},
   "source": [
    "## Interface"
   ]
  },
  {
   "cell_type": "markdown",
   "metadata": {},
   "source": [
    "### 直達日射"
   ]
  },
  {
   "cell_type": "markdown",
   "metadata": {},
   "source": [
    "#### 仕様"
   ]
  },
  {
   "cell_type": "markdown",
   "metadata": {},
   "source": [
    "get_tau_d_j_ns(theta_aoi_j_ns, glazing_type_j)\n",
    "\n",
    "params:  \n",
    "\n",
    "| パラメータ名　| 型 | 単位 | 概要 |\n",
    "| :--- | :--- | :--- | :-- |\n",
    "| theta_aoi_j_ns | np.ndarray[float] | rad | プロファイル角 |\n",
    "| glazing_type_j | str | - | ガラスのタイプ（'single' or 'multiple'） |\n",
    "\n",
    "returns:\n",
    "\n",
    "np.ndarray\n",
    "\n",
    "\n",
    "直達日射に対する基準化透過率を返します。\n",
    "それぞれのタプルはnumpy形式で、1年間のステップ数の配列になっています。\n",
    "\n",
    "\n",
    "| 名称 | 単位 | 概要 |\n",
    "| :--- | :--- | :--- |\n",
    "| 直達日射に対する基準化透過率 | - | 直達日射に対する基準化透過率。1年間のステップ数分の配列。np.ndarray 形式。 |"
   ]
  },
  {
   "cell_type": "markdown",
   "metadata": {},
   "source": [
    "#### Example"
   ]
  },
  {
   "cell_type": "code",
   "execution_count": 2,
   "metadata": {},
   "outputs": [
    {
     "data": {
      "text/plain": [
       "0.9990000000000014"
      ]
     },
     "execution_count": 2,
     "metadata": {},
     "output_type": "execute_result"
    }
   ],
   "source": [
    "window.get_tau_d_j_ns(theta_aoi_j_ns=0.0, glazing_type_j='single')"
   ]
  },
  {
   "cell_type": "code",
   "execution_count": 3,
   "metadata": {},
   "outputs": [
    {
     "data": {
      "text/plain": [
       "0.9980010000000029"
      ]
     },
     "execution_count": 3,
     "metadata": {},
     "output_type": "execute_result"
    }
   ],
   "source": [
    "window.get_tau_d_j_ns(theta_aoi_j_ns=0.0, glazing_type_j='multiple')"
   ]
  },
  {
   "cell_type": "markdown",
   "metadata": {},
   "source": [
    "### 天空放射"
   ]
  },
  {
   "cell_type": "markdown",
   "metadata": {},
   "source": [
    "#### 仕様"
   ]
  },
  {
   "cell_type": "markdown",
   "metadata": {},
   "source": [
    "get_c_d_j(glazing_type_j)\n",
    "\n",
    "params:\n",
    "\n",
    "| パラメータ名　| 型 | 単位 | 概要 |\n",
    "| :--- | :--- | :--- | :-- |\n",
    "| glazing_type_j | str | - | ガラスのタイプ（'single' or 'multiple'） |\n",
    "\n",
    "returns:\n",
    "\n",
    "天空日射に対する基準化透過率を返します。\n",
    "\n",
    "\n",
    "| 名称 | 単位 | 概要 |\n",
    "| :--- | :--- | :--- |\n",
    "| 透明な開口部の拡散日射に対する基準化透過率 | - | 透明な開口部の拡散日射に対する基準化透過率。 |\n",
    "\n",
    "\n"
   ]
  },
  {
   "cell_type": "code",
   "execution_count": 4,
   "metadata": {},
   "outputs": [
    {
     "data": {
      "text/plain": [
       "0.9"
      ]
     },
     "execution_count": 4,
     "metadata": {},
     "output_type": "execute_result"
    }
   ],
   "source": [
    "window.get_c_d_j(glazing_type_j='single')"
   ]
  },
  {
   "cell_type": "code",
   "execution_count": 5,
   "metadata": {},
   "outputs": [
    {
     "data": {
      "text/plain": [
       "0.832"
      ]
     },
     "execution_count": 5,
     "metadata": {},
     "output_type": "execute_result"
    }
   ],
   "source": [
    "window.get_c_d_j(glazing_type_j='multiple')"
   ]
  },
  {
   "cell_type": "markdown",
   "metadata": {},
   "source": [
    "## basics"
   ]
  },
  {
   "cell_type": "markdown",
   "metadata": {},
   "source": [
    "### 直達日射に対する規準化透過率"
   ]
  },
  {
   "cell_type": "markdown",
   "metadata": {},
   "source": [
    "直達日射に対する規準化透過率（単層ガラス）"
   ]
  },
  {
   "cell_type": "markdown",
   "metadata": {},
   "source": [
    "$$ f_{ang, single} = 0.0 \\cdot (\\cos \\theta) ^ 0 + 2.552 \\cdot (\\cos \\theta) + 1.364 \\cdot (\\cos \\theta) ^ 2 - 11.388 \\cdot (\\cos \\theta) ^ 3 + 13.617 \\cdot (\\cos \\theta) ^ 4 - 5.146 \\cdot (\\cos \\theta) ^ 5 $$"
   ]
  },
  {
   "cell_type": "markdown",
   "metadata": {},
   "source": [
    "直達日射に対する規準化反射率（単層ガラス）"
   ]
  },
  {
   "cell_type": "markdown",
   "metadata": {},
   "source": [
    "$$ \\rho_{ang, single} = 1.0 * (\\cos \\theta) ** 0 - 5.189 * (\\cos \\theta) + 12.392 * (\\cos \\theta) ^ 2 - 16.593 * (\\cos \\theta) ^ 3 + 11.851 * (\\cos \\theta) ^ 4 - 3.461 * (\\cos \\theta) ^ 5 $$"
   ]
  },
  {
   "cell_type": "markdown",
   "metadata": {},
   "source": [
    "直達日射に対する規準化透過率（複層ガラス）"
   ]
  },
  {
   "cell_type": "markdown",
   "metadata": {},
   "source": [
    "$$ f_{ang} = \\frac{f_{ang, single} ^ 2}{1.0 - \\rho_{ang,single} ^ 2} $$"
   ]
  },
  {
   "cell_type": "code",
   "execution_count": 6,
   "metadata": {
    "scrolled": true
   },
   "outputs": [
    {
     "data": {
      "image/png": "[encoded data removed]",
      "text/plain": [
       "<Figure size 432x288 with 1 Axes>"
      ]
     },
     "metadata": {},
     "output_type": "display_data"
    }
   ],
   "source": [
    "plt.style.use('seaborn-whitegrid')\n",
    "fig = plt.figure()\n",
    "ax = fig.subplots()\n",
    "\n",
    "phi = np.arange(start= 0.0, stop= 91.0, step = 1.0)\n",
    "ax.plot(phi, window.get_tau_d_j_ns(np.radians(phi), 'single'), label='tau_single')\n",
    "ax.plot(phi, window.get_rho_d_j_ns(np.radians(phi), 'single'), label='rho single')\n",
    "ax.plot(phi, window.get_tau_d_j_ns(np.radians(phi), 'multiple'), label='tau_multiple')\n",
    "ax.plot(phi, window.get_rho_d_j_ns(np.radians(phi), 'multiple'), label='rho multiple')\n",
    "\n",
    "ax.set_xlabel('angle, degree')\n",
    "ax.set_ylabel('standardized coefficient')\n",
    "\n",
    "plt.legend()\n",
    "plt.show()"
   ]
  },
  {
   "cell_type": "code",
   "execution_count": 7,
   "metadata": {
    "scrolled": true
   },
   "outputs": [
    {
     "name": "stdout",
     "output_type": "stream",
     "text": [
      "0.8740957 0.015904299999999982 0.07803235700000002 0.047871942999999945\n",
      "0.5155324800000001 0.10446751999999992 0.09166964480000023 0.3927978751999997\n"
     ]
    },
    {
     "data": {
      "image/png": "[encoded data removed]",
      "text/plain": [
       "<Figure size 432x288 with 1 Axes>"
      ]
     },
     "metadata": {},
     "output_type": "display_data"
    }
   ],
   "source": [
    "plt.style.use('seaborn-whitegrid')\n",
    "fig = plt.figure()\n",
    "ax = fig.subplots()\n",
    "\n",
    "phi = np.arange(start= 0.0, stop= 91.0, step = 1.0)\n",
    "\n",
    "tau_value, ashgc_value, rho_value, a_value = window.get_tau_and_ashgc_rho_a(eta_w=0.89,\n",
    "                                                                glazing_type_j='single',\n",
    "                                                                glass_area_ratio_j=1.0)\n",
    "print(tau_value, ashgc_value, rho_value, a_value)\n",
    "ax.plot(phi, window.get_ashgc_d_j(theta_aoi_i_k=np.radians(phi), glazing_type_j='single', tau_w=tau_value, rho_w=rho_value), label='ashgc_single')\n",
    "\n",
    "tau_value, ashgc_value, rho_value, a_value = window.get_tau_and_ashgc_rho_a(eta_w=0.62,\n",
    "                                                                glazing_type_j='multiple',\n",
    "                                                                glass_area_ratio_j=1.0)\n",
    "print(tau_value, ashgc_value, rho_value, a_value)\n",
    "ax.plot(phi, window.get_ashgc_d_j(theta_aoi_i_k=np.radians(phi), glazing_type_j='multiple', tau_w=tau_value, rho_w=rho_value), label='ashgc_multiple')\n",
    "\n",
    "ax.set_xlabel('angle, degree')\n",
    "ax.set_ylabel('standardized coefficient')\n",
    "\n",
    "plt.legend()\n",
    "plt.show()"
   ]
  },
  {
   "cell_type": "markdown",
   "metadata": {},
   "source": [
    "負荷計算での別知見"
   ]
  },
  {
   "cell_type": "code",
   "execution_count": 8,
   "metadata": {
    "pycharm": {
     "is_executing": false
    }
   },
   "outputs": [],
   "source": [
    "def get_tau_satoh(phi: float) -> float:\n",
    "    \"\"\"\n",
    "    Args:\n",
    "        phi: 入射角, radian\n",
    "    Returns:\n",
    "        入射角に対する基準化透過率\n",
    "    \"\"\"\n",
    "    cos_phi = np.cos(phi)\n",
    "    return (2.392 * cos_phi - 3.8636 * cos_phi ** 3 + 3.7568 * cos_phi ** 5 - 1.3965 * cos_phi ** 7) / 0.88"
   ]
  },
  {
   "cell_type": "code",
   "execution_count": 9,
   "metadata": {
    "pycharm": {
     "is_executing": false
    },
    "scrolled": true
   },
   "outputs": [
    {
     "data": {
      "image/png": "[encoded data removed]",
      "text/plain": [
       "<Figure size 432x288 with 1 Axes>"
      ]
     },
     "metadata": {},
     "output_type": "display_data"
    }
   ],
   "source": [
    "plt.style.use('seaborn-whitegrid')\n",
    "fig = plt.figure()\n",
    "ax = fig.subplots()\n",
    "\n",
    "phi = np.arange(start= 0.0, stop= 91.0, step = 1.0)\n",
    "ax.plot(phi, get_tau_satoh(np.radians(phi)), label='Satoh')\n",
    "ax.plot(phi, window.get_tau_d_j_ns(np.radians(phi), 'single'), label='JIS transmittant')\n",
    "\n",
    "\n",
    "ax.set_xlabel('angle, degree')\n",
    "ax.set_ylabel('standardized coefficient')\n",
    "\n",
    "plt.legend()\n",
    "plt.show()"
   ]
  },
  {
   "cell_type": "markdown",
   "metadata": {},
   "source": [
    "### 天空放射に対する規準化透過率"
   ]
  },
  {
   "cell_type": "markdown",
   "metadata": {},
   "source": [
    "$$ \\frac{ \\int_0^{\\frac{\\pi}{2}} \\tau(\\theta) \\cdot 2 \\pi \\sin \\theta \\cdot \\cos \\theta \\cdot d \\theta }{ \\int_0^{\\frac{\\pi}{2}} 2 \\pi \\sin \\theta \\cdot \\cos \\theta \\cdot d \\theta } = \\frac{ \\int_0^{\\frac{\\pi}{2}} \\tau(\\theta) \\cdot 2 \\pi \\sin \\theta \\cdot \\cos \\theta \\cdot d \\theta }{ \\pi } = \\int_0^{\\frac{\\pi}{2}} \\tau(\\theta) \\cdot \\sin 2 \\theta \\cdot d \\theta $$"
   ]
  },
  {
   "cell_type": "code",
   "execution_count": 10,
   "metadata": {
    "pycharm": {
     "is_executing": false
    },
    "scrolled": true
   },
   "outputs": [],
   "source": [
    "def get_tau_integral(tau_function: Callable[[float], float], n: int) -> float:\n",
    "\n",
    "    delta_theta = np.pi / 2 /n\n",
    "\n",
    "    thetas = np.arange(start=0, stop=np.pi/2, step=delta_theta)\n",
    "    \n",
    "    delta_tau = tau_function(thetas) * np.sin(2 * thetas) * delta_theta\n",
    "    \n",
    "    return delta_tau.sum()"
   ]
  },
  {
   "cell_type": "markdown",
   "metadata": {},
   "source": [
    "単層ガラス"
   ]
  },
  {
   "cell_type": "code",
   "execution_count": 11,
   "metadata": {},
   "outputs": [
    {
     "data": {
      "text/plain": [
       "0.8968472082254145"
      ]
     },
     "execution_count": 11,
     "metadata": {},
     "output_type": "execute_result"
    }
   ],
   "source": [
    "get_tau_integral(lambda tau: window.get_tau_d_j_ns(tau, 'single'), n=1000)"
   ]
  },
  {
   "cell_type": "code",
   "execution_count": 12,
   "metadata": {
    "pycharm": {
     "is_executing": false
    }
   },
   "outputs": [
    {
     "data": {
      "text/plain": [
       "0.9"
      ]
     },
     "execution_count": 12,
     "metadata": {},
     "output_type": "execute_result"
    }
   ],
   "source": [
    "window.get_c_d_j(glazing_type_j='single')"
   ]
  },
  {
   "cell_type": "markdown",
   "metadata": {},
   "source": [
    "複層ガラス"
   ]
  },
  {
   "cell_type": "code",
   "execution_count": 13,
   "metadata": {},
   "outputs": [
    {
     "data": {
      "text/plain": [
       "0.8324284946266829"
      ]
     },
     "execution_count": 13,
     "metadata": {},
     "output_type": "execute_result"
    }
   ],
   "source": [
    "get_tau_integral(lambda tau: window.get_tau_d_j_ns(tau, 'multiple'), n=1000)"
   ]
  },
  {
   "cell_type": "code",
   "execution_count": 14,
   "metadata": {},
   "outputs": [
    {
     "data": {
      "text/plain": [
       "0.832"
      ]
     },
     "execution_count": 14,
     "metadata": {},
     "output_type": "execute_result"
    }
   ],
   "source": [
    "window.get_c_d_j(glazing_type_j='multiple')"
   ]
  },
  {
   "cell_type": "markdown",
   "metadata": {},
   "source": [
    "単層ガラス（参考）"
   ]
  },
  {
   "cell_type": "code",
   "execution_count": 15,
   "metadata": {},
   "outputs": [
    {
     "data": {
      "text/plain": [
       "0.9230277232289603"
      ]
     },
     "execution_count": 15,
     "metadata": {},
     "output_type": "execute_result"
    }
   ],
   "source": [
    "get_tau_integral(get_tau_satoh, n=1000)"
   ]
  },
  {
   "cell_type": "markdown",
   "metadata": {},
   "source": [
    "### 拡散光に対する基準化反射率の計算"
   ]
  },
  {
   "cell_type": "markdown",
   "metadata": {},
   "source": [
    "#### 単層ガラス"
   ]
  },
  {
   "cell_type": "code",
   "execution_count": 16,
   "metadata": {},
   "outputs": [
    {
     "data": {
      "text/plain": [
       "0.06094244591053457"
      ]
     },
     "execution_count": 16,
     "metadata": {},
     "output_type": "execute_result"
    }
   ],
   "source": [
    "get_tau_integral(lambda tau: window.get_rho_d_j_ns(tau, 'single'), n=1000)"
   ]
  },
  {
   "cell_type": "code",
   "execution_count": 17,
   "metadata": {},
   "outputs": [
    {
     "data": {
      "text/plain": [
       "0.061"
      ]
     },
     "execution_count": 17,
     "metadata": {},
     "output_type": "execute_result"
    }
   ],
   "source": [
    "window.get_r_d_j('single')"
   ]
  },
  {
   "cell_type": "markdown",
   "metadata": {},
   "source": [
    "#### 複層ガラス"
   ]
  },
  {
   "cell_type": "code",
   "execution_count": 18,
   "metadata": {},
   "outputs": [
    {
     "data": {
      "text/plain": [
       "0.08841156072394173"
      ]
     },
     "execution_count": 18,
     "metadata": {},
     "output_type": "execute_result"
    }
   ],
   "source": [
    "get_tau_integral(lambda tau: window.get_rho_d_j_ns(tau, 'multiple'), n=1000)"
   ]
  },
  {
   "cell_type": "code",
   "execution_count": 19,
   "metadata": {},
   "outputs": [
    {
     "data": {
      "text/plain": [
       "0.088"
      ]
     },
     "execution_count": 19,
     "metadata": {},
     "output_type": "execute_result"
    }
   ],
   "source": [
    "window.get_r_d_j('multiple')"
   ]
  },
  {
   "cell_type": "markdown",
   "metadata": {},
   "source": [
    "### 拡散光に対する基準化吸収日射取得率の計算"
   ]
  },
  {
   "cell_type": "markdown",
   "metadata": {},
   "source": [
    "#### 単層ガラス"
   ]
  },
  {
   "cell_type": "code",
   "execution_count": 20,
   "metadata": {},
   "outputs": [
    {
     "data": {
      "text/plain": [
       "1.7097620882079725"
      ]
     },
     "execution_count": 20,
     "metadata": {},
     "output_type": "execute_result"
    }
   ],
   "source": [
    "tau_value, ashgc_value, rho_value, a_value = window.get_tau_and_ashgc_rho_a(eta_w=0.89,\n",
    "                                                                glazing_type_j='single',\n",
    "                                                                glass_area_ratio_j=1.0)\n",
    "get_tau_integral(lambda tau: window.get_ashgc_d_j(glazing_type_j='single', theta_aoi_i_k=tau, tau_w=tau_value, rho_w=rho_value), n=1000)"
   ]
  },
  {
   "cell_type": "code",
   "execution_count": 21,
   "metadata": {},
   "outputs": [
    {
     "name": "stdout",
     "output_type": "stream",
     "text": [
      "1.6511025419837244\n"
     ]
    }
   ],
   "source": [
    "# 規準化透過率、規準化反射率を桁丸めしているため、３桁目で一致しない\n",
    "# 桁を増やして一致することを確認済み\n",
    "print(window.get_c_ashgc(glazing_type_j='single', tau_w=tau_value, rho_w=rho_value))"
   ]
  },
  {
   "cell_type": "markdown",
   "metadata": {},
   "source": [
    "#### 複層ガラス"
   ]
  },
  {
   "cell_type": "code",
   "execution_count": 22,
   "metadata": {},
   "outputs": [
    {
     "name": "stdout",
     "output_type": "stream",
     "text": [
      "1.015480995948065\n"
     ]
    }
   ],
   "source": [
    "tau_value, ashgc_value, rho_value, a_value = window.get_tau_and_ashgc_rho_a(eta_w=0.62,\n",
    "                                                                glazing_type_j='multiple',\n",
    "                                                                glass_area_ratio_j=1.0)\n",
    "print(get_tau_integral(lambda tau: window.get_ashgc_d_j(glazing_type_j='multiple',\n",
    "                                                        theta_aoi_i_k=tau,\n",
    "                                                        tau_w=tau_value,\n",
    "                                                        rho_w=rho_value),\n",
    "                       n=1000))"
   ]
  },
  {
   "cell_type": "code",
   "execution_count": 23,
   "metadata": {},
   "outputs": [
    {
     "name": "stdout",
     "output_type": "stream",
     "text": [
      "1.0169969997393713\n"
     ]
    }
   ],
   "source": [
    "print(window.get_c_ashgc(glazing_type_j='multiple', tau_w=tau_value, rho_w=rho_value))"
   ]
  }
 ],
 "metadata": {
  "kernelspec": {
   "display_name": "Python 3",
   "language": "python",
   "name": "python3"
  },
  "language_info": {
   "codemirror_mode": {
    "name": "ipython",
    "version": 3
   },
   "file_extension": ".py",
   "mimetype": "text/x-python",
   "name": "python",
   "nbconvert_exporter": "python",
   "pygments_lexer": "ipython3",
   "version": "3.8.3"
  },
  "pycharm": {
   "stem_cell": {
    "cell_type": "raw",
    "metadata": {
     "collapsed": false
    },
    "source": []
   }
  }
 },
 "nbformat": 4,
 "nbformat_minor": 2
}
