{
 "cells": [
  {
   "cell_type": "code",
   "execution_count": 8,
   "metadata": {},
   "outputs": [],
   "source": [
    "import sys\n",
    "from matplotlib import pyplot as plt\n",
    "import numpy as np\n",
    "\n",
    "sys.path.append('../..')\n",
    "from heat_load_calc import shape_factor"
   ]
  },
  {
   "cell_type": "markdown",
   "metadata": {},
   "source": [
    "# 永田の方法による放射熱伝達率の計算のテスト\n",
    "## 2次元長方形を仮定して計算する\n",
    "\n",
    "- vertical:horizon=1:dの長方形断面を想定\n",
    "- 永田先生の方式で放射熱伝達率を計算\n",
    "- 表面温度を仮定した時の放射熱量収支を確認する"
   ]
  },
  {
   "cell_type": "code",
   "execution_count": 9,
   "metadata": {},
   "outputs": [],
   "source": [
    "# 分割数\n",
    "nd = 1000"
   ]
  },
  {
   "cell_type": "code",
   "execution_count": 10,
   "metadata": {},
   "outputs": [],
   "source": [
    "# 空間と境界の関係（今回は4つの境界がすべて空間に属するとする）\n",
    "p_js_is = np.array([[1], [1], [1], [1]])"
   ]
  },
  {
   "cell_type": "code",
   "execution_count": 11,
   "metadata": {},
   "outputs": [],
   "source": [
    "# アスペクト比を仮定\n",
    "d = [x / 10.0 for x in range(1, nd)]"
   ]
  },
  {
   "cell_type": "code",
   "execution_count": 12,
   "metadata": {},
   "outputs": [],
   "source": [
    "# 各面の微小球に対する放射熱伝達率を計算\n",
    "y = [shape_factor.get_h_s_r_js(\n",
    "    id_rm_is=np.array([[0]]),\n",
    "    a_s_js=np.array([[1.0], [d1], [1.0], [d1]]),\n",
    "    connected_room_id_js=np.array([[0], [0], [0], [0]])) for d1 in d]"
   ]
  },
  {
   "cell_type": "code",
   "execution_count": 13,
   "metadata": {},
   "outputs": [],
   "source": [
    "# 計算結果の取り出し\n",
    "y1 = [y[a][0] for a in range(nd - 1)]\n",
    "y2 = [y[a][1] for a in range(nd - 1)]"
   ]
  },
  {
   "cell_type": "code",
   "execution_count": 14,
   "metadata": {},
   "outputs": [
    {
     "data": {
      "image/png": "[encoded data removed]",
      "text/plain": [
       "<Figure size 432x288 with 1 Axes>"
      ]
     },
     "metadata": {
      "needs_background": "light"
     },
     "output_type": "display_data"
    }
   ],
   "source": [
    "# グラフの描画\n",
    "fig1 = plt.figure()\n",
    "ax1 = fig1.subplots()\n",
    "\n",
    "ax1.set_xlabel('d[-]')\n",
    "ax1.set_ylabel('radiative heat transfer[W/(m2 K)]')\n",
    "\n",
    "plt.grid(which='major',color='gray',linestyle='-')\n",
    "plt.grid(which='minor',color='gray',linestyle='-')\n",
    "\n",
    "plt.plot(d,y1,linestyle='solid',color='r', label='vertical')\n",
    "plt.plot(d,y2,linestyle='solid',color='b', label='horizon')\n",
    "\n",
    "plt.xscale('log')\n",
    "plt.legend()\n",
    "plt.show()"
   ]
  },
  {
   "cell_type": "code",
   "execution_count": 15,
   "metadata": {},
   "outputs": [],
   "source": [
    "# 各面の表面温度を仮定\n",
    "t_surf_js = np.array([[20.0], [18.0], [16.0], [14.0]])"
   ]
  },
  {
   "cell_type": "code",
   "execution_count": 16,
   "metadata": {},
   "outputs": [],
   "source": [
    "# 各面の面積\n",
    "a_surf = [np.array([[1.0], [d1], [1.0], [d1]]) for d1 in d]"
   ]
  },
  {
   "cell_type": "code",
   "execution_count": 17,
   "metadata": {},
   "outputs": [],
   "source": [
    "# 平均放射温度の計算\n",
    "t_mrt = [np.sum(t_surf_js* a_surf * y[a]) / np.sum(y[a] * a_surf) for a in range(nd - 1)]"
   ]
  },
  {
   "cell_type": "code",
   "execution_count": 18,
   "metadata": {},
   "outputs": [],
   "source": [
    "# 放射熱収支の計算\n",
    "# 結果を小数点以下5桁で丸める\n",
    "heat_balance = [np.array(round(np.sum(a_surf * y[a] * (t_mrt[a] - t_surf_js)), 5)) for a in range(nd - 1)]"
   ]
  },
  {
   "cell_type": "code",
   "execution_count": 19,
   "metadata": {},
   "outputs": [
    {
     "name": "stdout",
     "output_type": "stream",
     "text": [
      "0.0\n"
     ]
    }
   ],
   "source": [
    "print(np.sum(np.abs(heat_balance)))"
   ]
  }
 ],
 "metadata": {
  "kernelspec": {
   "display_name": "Python 3.9.7 ('heat_load_calc')",
   "language": "python",
   "name": "python3"
  },
  "language_info": {
   "codemirror_mode": {
    "name": "ipython",
    "version": 3
   },
   "file_extension": ".py",
   "mimetype": "text/x-python",
   "name": "python",
   "nbconvert_exporter": "python",
   "pygments_lexer": "ipython3",
   "version": "3.9.7"
  },
  "vscode": {
   "interpreter": {
    "hash": "573db6c167d1cbcf488ba778ad8ea73ffa6d7b28c1b27a990c713c404433adaa"
   }
  }
 },
 "nbformat": 4,
 "nbformat_minor": 4
}
