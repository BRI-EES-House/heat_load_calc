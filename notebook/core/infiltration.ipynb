{
 "cells": [
  {
   "cell_type": "code",
   "execution_count": 1,
   "metadata": {
    "pycharm": {
     "is_executing": false,
     "name": "#%%\n"
    }
   },
   "outputs": [],
   "source": [
    "import sys\n",
    "sys.path.append('../..')\n",
    "from matplotlib import pyplot as plt\n",
    "import numpy as np\n",
    "\n",
    "from heat_load_calc.core import infiltration"
   ]
  },
  {
   "cell_type": "code",
   "execution_count": 2,
   "metadata": {},
   "outputs": [],
   "source": [
    "plt.style.use('seaborn-whitegrid')"
   ]
  },
  {
   "cell_type": "markdown",
   "metadata": {},
   "source": [
    "# 概要"
   ]
  },
  {
   "cell_type": "markdown",
   "metadata": {},
   "source": [
    "以下のパラメータから各室のすきま風量(m<sup>3</sup>/s)を計算する。  \n",
    "※ すきま風量には機械換気の風量は含まれない"
   ]
  },
  {
   "cell_type": "markdown",
   "metadata": {},
   "source": [
    "# 関数の使い方"
   ]
  },
  {
   "cell_type": "markdown",
   "metadata": {},
   "source": [
    "    Args:\n",
    "        c_value: 相当隙間面積, cm2/m2\n",
    "        v_room_is: 室気積, m3, [i,1]\n",
    "        story: 階\n",
    "        inside_pressure: 室内側の圧力 = 'negative', 'positive' or 'balanced'\n",
    "       theta_r_is_n: 時刻nの室温, degree C, [i,1]\n",
    "       theta_o_npls: 時刻n+1の外気温度, degree C\n",
    "\n",
    "    Returns:\n",
    "        すきま風量, m3/s, [i,1]"
   ]
  },
  {
   "cell_type": "markdown",
   "metadata": {},
   "source": [
    "# 使用例"
   ]
  },
  {
   "cell_type": "markdown",
   "metadata": {
    "pycharm": {
     "name": "#%% md\n"
    }
   },
   "source": [
    "## 使用例1"
   ]
  },
  {
   "cell_type": "code",
   "execution_count": 3,
   "metadata": {},
   "outputs": [
    {
     "data": {
      "text/plain": [
       "array([[0.00051083],\n",
       "       [0.00020433],\n",
       "       [0.00061299]])"
      ]
     },
     "execution_count": 3,
     "metadata": {},
     "output_type": "execute_result"
    }
   ],
   "source": [
    "v = infiltration.get_infiltration(\n",
    "    c_value=2.0,\n",
    "    v_room_is=np.array([[50.0], [20.0], [60.0]]),\n",
    "    story=2,\n",
    "    inside_pressure='negative',\n",
    "    theta_r_is_n=np.array([[20.0], [18.0], [15.0]]),\n",
    "    theta_o_npls=0.0\n",
    ")\n",
    "\n",
    "v"
   ]
  },
  {
   "cell_type": "markdown",
   "metadata": {
    "pycharm": {
     "name": "#%% md\n"
    }
   },
   "source": [
    "# 解析例"
   ]
  },
  {
   "cell_type": "markdown",
   "metadata": {
    "pycharm": {
     "name": "#%% md\n"
    }
   },
   "source": [
    "## 解析例1"
   ]
  },
  {
   "cell_type": "markdown",
   "metadata": {
    "pycharm": {
     "name": "#%% md\n"
    }
   },
   "source": [
    "- C値: 2.0\n",
    "- 部屋の容量: 50, 20, 30 m<sup>2</sup>\n",
    "- 2階建て\n",
    "- 室内温度: 20, 18, 15 ℃"
   ]
  },
  {
   "cell_type": "code",
   "execution_count": 4,
   "metadata": {},
   "outputs": [],
   "source": [
    "theta_r_is_n = np.array([[20.0], [18.0], [15.0]])"
   ]
  },
  {
   "cell_type": "code",
   "execution_count": 5,
   "metadata": {},
   "outputs": [],
   "source": [
    "def example1(t_o, inside_pressure):\n",
    "    \n",
    "    v_room_cap_is = np.array([[50.0], [20.0], [30.0]])\n",
    "\n",
    "    v = infiltration.get_infiltration(\n",
    "        c_value=2.0,\n",
    "        v_room_is=np.array([[50.0], [20.0], [30.0]]),\n",
    "        story=2,\n",
    "        inside_pressure=inside_pressure,\n",
    "        theta_r_is_n=theta_r_is_n,\n",
    "        theta_o_npls=t_o\n",
    "    )\n",
    "    \n",
    "    return np.sum(v) / np.sum(v_room_cap_is) * 3600"
   ]
  },
  {
   "cell_type": "code",
   "execution_count": 6,
   "metadata": {},
   "outputs": [],
   "source": [
    "theta_o = [x for x in range(-10,20)]"
   ]
  },
  {
   "cell_type": "code",
   "execution_count": 7,
   "metadata": {
    "pycharm": {
     "is_executing": false
    }
   },
   "outputs": [],
   "source": [
    "x1 = np.average(theta_r_is_n) - theta_o\n",
    "y1 = [example1(t_o=t_o, inside_pressure='balanced') for t_o in theta_o]\n",
    "y2 = [example1(t_o=t_o, inside_pressure='positive') for t_o in theta_o]\n",
    "y3 = [example1(t_o=t_o, inside_pressure='negative') for t_o in theta_o]"
   ]
  },
  {
   "cell_type": "code",
   "execution_count": 8,
   "metadata": {},
   "outputs": [
    {
     "data": {
      "image/png": "[encoded data removed]",
      "text/plain": [
       "<Figure size 432x288 with 1 Axes>"
      ]
     },
     "metadata": {},
     "output_type": "display_data"
    }
   ],
   "source": [
    "fig1 = plt.figure()\n",
    "ax1 = fig1.subplots()\n",
    "\n",
    "ax1.scatter(x1, y1, c=\"r\", label=\"balanced\")\n",
    "ax1.scatter(x1, y2, c=\"g\", label=\"positive\")\n",
    "ax1.scatter(x1, y3, c=\"m\", label=\"negative\")\n",
    "\n",
    "ax1.set_xlabel('temperature difference[C]')\n",
    "ax1.set_ylabel('infiltration rate[ACH]')\n",
    "\n",
    "plt.legend()\n",
    "plt.show()"
   ]
  },
  {
   "cell_type": "code",
   "execution_count": 9,
   "metadata": {},
   "outputs": [],
   "source": [
    "def example2(c_value, inside_pressure):\n",
    "    \n",
    "    v_room_cap_is = np.array([[50.0], [20.0], [30.0]])\n",
    "\n",
    "    v = infiltration.get_infiltration(\n",
    "        c_value=c_value,\n",
    "        v_room_is=np.array([[50.0], [20.0], [30.0]]),\n",
    "        story=2,\n",
    "        inside_pressure=inside_pressure,\n",
    "        theta_r_is_n= np.array([[20.0], [20.0], [20.0]]),\n",
    "        theta_o_npls=0.0\n",
    "    )\n",
    "    \n",
    "    return np.sum(v) / np.sum(v_room_cap_is) * 3600"
   ]
  },
  {
   "cell_type": "code",
   "execution_count": 12,
   "metadata": {
    "pycharm": {
     "is_executing": false
    }
   },
   "outputs": [],
   "source": [
    "c_value = [x*0.1 for x in range(1,50)]\n",
    "x1 = c_value\n",
    "y1 = [example2(c_value=c, inside_pressure='balanced') for c in c_value]\n",
    "y2 = [example2(c_value=c, inside_pressure='positive') for c in c_value]\n",
    "y3 = [example2(c_value=c, inside_pressure='negative') for c in c_value]"
   ]
  },
  {
   "cell_type": "code",
   "execution_count": 13,
   "metadata": {
    "pycharm": {
     "name": "#%%\n"
    }
   },
   "outputs": [
    {
     "data": {
      "image/png": "[encoded data removed]",
      "text/plain": [
       "<Figure size 432x288 with 1 Axes>"
      ]
     },
     "metadata": {},
     "output_type": "display_data"
    }
   ],
   "source": [
    "fig2 = plt.figure()\n",
    "ax2 = fig2.subplots()\n",
    "\n",
    "ax2.scatter(x1, y1, c=\"r\", label=\"balanced\")\n",
    "ax2.scatter(x1, y2, c=\"g\", label=\"positive\")\n",
    "ax2.scatter(x1, y3, c=\"m\", label=\"negative\")\n",
    "\n",
    "ax2.set_xlabel('c_value[cm2/m2]')\n",
    "ax2.set_ylabel('infiltration rate[ACH]')\n",
    "\n",
    "plt.legend()\n",
    "plt.show()"
   ]
  },
  {
   "cell_type": "code",
   "execution_count": null,
   "metadata": {},
   "outputs": [],
   "source": []
  }
 ],
 "metadata": {
  "kernelspec": {
   "display_name": "Python 3",
   "language": "python",
   "name": "python3"
  },
  "language_info": {
   "codemirror_mode": {
    "name": "ipython",
    "version": 3
   },
   "file_extension": ".py",
   "mimetype": "text/x-python",
   "name": "python",
   "nbconvert_exporter": "python",
   "pygments_lexer": "ipython3",
   "version": "3.7.6"
  },
  "pycharm": {
   "stem_cell": {
    "cell_type": "raw",
    "metadata": {
     "collapsed": false
    },
    "source": []
   }
  },
  "toc": {
   "base_numbering": 1,
   "nav_menu": {},
   "number_sections": true,
   "sideBar": true,
   "skip_h1_title": false,
   "title_cell": "Table of Contents",
   "title_sidebar": "Contents",
   "toc_cell": false,
   "toc_position": {},
   "toc_section_display": true,
   "toc_window_display": false
  }
 },
 "nbformat": 4,
 "nbformat_minor": 2
}
