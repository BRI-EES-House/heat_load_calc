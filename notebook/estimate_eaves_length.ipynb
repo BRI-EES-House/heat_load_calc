{
 "cells": [
  {
   "cell_type": "code",
   "execution_count": 1,
   "metadata": {
    "scrolled": true
   },
   "outputs": [],
   "source": [
    "import numpy as np\n",
    "import matplotlib.pyplot as plt"
   ]
  },
  {
   "cell_type": "markdown",
   "metadata": {},
   "source": [
    "# 取得日射熱補正係数から日よけの長さを推定する方法"
   ]
  },
  {
   "cell_type": "markdown",
   "metadata": {},
   "source": [
    "外皮の簡易入力法から外皮情報（LV1）を推定する方法の中で、取得日射熱補正係数から日よけの長さを推定する方法を作成したため、残しておく。  \n",
    "外皮の簡易入力法からUA値・ηA値を計算し、これらの指標から外皮情報を推定する方法を作成する一方で、  \n",
    "外皮の簡易入力法から直接外皮情報を計算するルートは設けないように変更したため、取得日射熱補正係数から日よけの長さを推定する方法が必要なくなった。"
   ]
  },
  {
   "cell_type": "markdown",
   "metadata": {},
   "source": [
    "#### 1) 壁面からの日除けの張り出し寸法"
   ]
  },
  {
   "cell_type": "markdown",
   "metadata": {},
   "source": [
    "取得日射熱補正係数を指定する場合"
   ]
  },
  {
   "cell_type": "markdown",
   "metadata": {},
   "source": [
    "$$\n",
    "z_H = b_H \\frac{c_H y_1 + y_2}{ \\frac{f_H}{0.01} - a_H }\n",
    "$$"
   ]
  },
  {
   "cell_type": "markdown",
   "metadata": {},
   "source": [
    "ただし、$f_H$が0.72を超える場合は$f_H=0.72$とする。また、$z_H$が5.0を超える場合は$z_H=5.0$とする。"
   ]
  },
  {
   "cell_type": "markdown",
   "metadata": {},
   "source": [
    "$$\n",
    "z_C = b_C \\frac{c_C y_1 + y_2}{ \\frac{f_C}{0.01} - a_C }\n",
    "$$"
   ]
  },
  {
   "cell_type": "markdown",
   "metadata": {},
   "source": [
    "ただし、$f_H$が0.93を超える場合は$f_C=0.93$とする。また、$z_C$が5.0を超える場合は$z_C=5.0$とする。"
   ]
  },
  {
   "cell_type": "markdown",
   "metadata": {},
   "source": [
    "取得日射熱補正係数を指定しない場合"
   ]
  },
  {
   "cell_type": "markdown",
   "metadata": {},
   "source": [
    "$$ z_H = \\frac{ ( y_1 + y_2 ) }{ l_{H,2} } $$"
   ]
  },
  {
   "cell_type": "markdown",
   "metadata": {},
   "source": [
    "$$z_C=0$$"
   ]
  },
  {
   "cell_type": "markdown",
   "metadata": {},
   "source": [
    "$z_H$：暖房期の壁面から日除けの張り出し寸法, m  \n",
    "$z_C$：冷房期の壁面から日除けの張り出し寸法, m  \n",
    "$f_H$: 暖房期の取得日射熱補正係数  \n",
    "$f_C$: 冷房期の取得日射熱補正係数  \n",
    "$y_{1}$：日除け下端から窓上端までの垂直方向の距離, m  \n",
    "$y_{2}$：窓の開口高さ, m  "
   ]
  },
  {
   "cell_type": "markdown",
   "metadata": {},
   "source": [
    "$$y_1=0$$"
   ]
  },
  {
   "cell_type": "markdown",
   "metadata": {},
   "source": [
    "$$y_2=1.1$$"
   ]
  },
  {
   "cell_type": "markdown",
   "metadata": {},
   "source": [
    "$$l_{H,2}=\\frac{1}{0.3}$$"
   ]
  },
  {
   "cell_type": "markdown",
   "metadata": {},
   "source": [
    "| 季節 | 地域区分 | 方位 | a | b | c |\n",
    "|:---:|:---:|:---:|:---:|:---:|:---:|\n",
    "| 暖房期 | 1地域～7地域 | 南東(SE) | 5 | 20 | 3 |\n",
    "| 暖房期 | 1地域～7地域 | 南西(SW) | 5 | 20 | 3 |\n",
    "| 暖房期 | 1地域～7地域 | 北西(NW) | 10 | 15 | 2 |\n",
    "| 暖房期 | 1地域～7地域 | 北東(NE) | 10 | 15 | 2 |"
   ]
  },
  {
   "cell_type": "markdown",
   "metadata": {},
   "source": [
    "| 季節 | 地域区分 | 方位 | a | b | c |\n",
    "|:---:|:---:|:---:|:---:|:---:|:---:|\n",
    "| 冷房期 | 1地域～7地域 | 南東(SE) | 16 | 24 | 2 |\n",
    "| 冷房期 | 1地域～7地域 | 南西(SW) | 16 | 24 | 2 |\n",
    "| 冷房期 | 1地域～7地域 | 北西(NW) | 16 | 24 | 2 |\n",
    "| 冷房期 | 1地域～7地域 | 北東(NE) | 16 | 24 | 2 |\n",
    "| 冷房期 | 8地域 | 南東(SE) | 16 | 19 | 2 |\n",
    "| 冷房期 | 8地域 | 南西(SW) | 16 | 19 | 2 |\n",
    "| 冷房期 | 8地域 | 北西(NW) | 16 | 24 | 2 |\n",
    "| 冷房期 | 8地域 | 北東(NE) | 16 | 24 | 2 |"
   ]
  },
  {
   "cell_type": "code",
   "execution_count": 2,
   "metadata": {},
   "outputs": [],
   "source": [
    "def get_heating_overhang_width(is_f_value_input, region, direction, y1, y2, f=None):\n",
    "\n",
    "    if is_f_value_input:\n",
    "        \n",
    "        if region <= 7:\n",
    "            a, b, c = {\n",
    "                'se': ( 5, 20, 3),\n",
    "                'sw': ( 5, 20, 3),\n",
    "                'nw': (10, 15, 2),\n",
    "                'ne': (10, 15, 2)\n",
    "            }[direction]\n",
    "        elif region == 8:\n",
    "            raise ValueError('z_Hを取得する関数で地域が8地域を指定されました。')\n",
    "        else:\n",
    "            raise ValueError('z_Hを取得する関数でregionに不正な値が指定されました。')\n",
    "        \n",
    "        _f = min(f, 0.72)\n",
    "        \n",
    "        if ( ( _f / 0.01 ) - a) <= 0: \n",
    "            return 5.0\n",
    "        else:\n",
    "            return min( ( b * ( c * y1 + y2) ) / ( ( _f / 0.01 ) - a ), 5.0 )\n",
    "\n",
    "    else:\n",
    "        \n",
    "        l_h_2 = 1 / 0.3\n",
    "        \n",
    "        return ( y1 + y2 ) / l_h_2        "
   ]
  },
  {
   "cell_type": "code",
   "execution_count": 3,
   "metadata": {},
   "outputs": [],
   "source": [
    "def get_cooling_overhang_width(is_f_value_input, region, direction, y1, y2, f=None):\n",
    "\n",
    "    if is_f_value_input:\n",
    "        \n",
    "        if region <= 7:\n",
    "            a, b, c = {\n",
    "                'se': (16, 24, 2),\n",
    "                'sw': (16, 24, 2),\n",
    "                'nw': (16, 24, 2),\n",
    "                'ne': (16, 24, 2)\n",
    "            }[direction]\n",
    "        elif region == 8:\n",
    "            a, b, c = {\n",
    "                'se': (16, 19, 2),\n",
    "                'sw': (16, 19, 2),\n",
    "                'nw': (16, 24, 2),\n",
    "                'ne': (16, 24, 2)\n",
    "            }[direction]\n",
    "        else:\n",
    "            raise ValueError('z_Cを取得する関数でregionに不正な値が指定されました。')\n",
    "            \n",
    "        _f = min(f, 0.93)\n",
    "        \n",
    "        if ( ( _f / 0.01 ) - a) <= 0: \n",
    "            return 5.0\n",
    "        else:\n",
    "            return min( ( b * ( c * y1 + y2) ) / ( ( _f / 0.01 ) - a ), 5.0 )\n",
    "    \n",
    "    else:\n",
    "        \n",
    "        return 0.0"
   ]
  },
  {
   "cell_type": "markdown",
   "metadata": {},
   "source": [
    "1地域～7地域"
   ]
  },
  {
   "cell_type": "markdown",
   "metadata": {},
   "source": [
    "$$z=\\frac{z_H + z_C}{2}$$"
   ]
  },
  {
   "cell_type": "markdown",
   "metadata": {},
   "source": [
    "8地域"
   ]
  },
  {
   "cell_type": "markdown",
   "metadata": {},
   "source": [
    "$$ z = z_C $$"
   ]
  },
  {
   "cell_type": "markdown",
   "metadata": {},
   "source": [
    "$z$：壁面から日除けの張り出し寸法, m  "
   ]
  },
  {
   "cell_type": "code",
   "execution_count": 4,
   "metadata": {},
   "outputs": [],
   "source": [
    "def get_y1_y2_z(is_f_value_input, region, direction, f_h=None, f_c=None):\n",
    "    \n",
    "    y1, y2 = 0.0, 1.1 \n",
    "    \n",
    "    if region == 8:\n",
    "        z_c = get_cooling_overhang_width(is_f_value_input, region, direction, y1, y2, f_c)\n",
    "        z = z_c\n",
    "    else:\n",
    "        z_h = get_heating_overhang_width(is_f_value_input, region, direction, y1, y2, f_h)\n",
    "        z_c = get_cooling_overhang_width(is_f_value_input, region, direction, y1, y2, f_c)\n",
    "        z = ( z_h + z_c ) / 2\n",
    "        \n",
    "    return y1, y2, z"
   ]
  },
  {
   "cell_type": "markdown",
   "metadata": {},
   "source": [
    "#### Example"
   ]
  },
  {
   "cell_type": "code",
   "execution_count": 5,
   "metadata": {},
   "outputs": [
    {
     "data": {
      "image/png": "[encoded data removed]",
      "text/plain": [
       "<Figure size 1080x360 with 3 Axes>"
      ]
     },
     "metadata": {
      "needs_background": "light"
     },
     "output_type": "display_data"
    }
   ],
   "source": [
    "# 取得日射熱補正係数の配列を用意\n",
    "xs = np.arange( 0.0, 1.01, 0.01 )\n",
    "\n",
    "windows = [\n",
    "    {'region': 6, 'direction': 'se'},\n",
    "    {'region': 6, 'direction': 'ne'},\n",
    "    {'region': 8, 'direction': 'se'},\n",
    "    {'region': 8, 'direction': 'ne'}\n",
    "]\n",
    "\n",
    "y1, y2 = 0.0, 1.1\n",
    "\n",
    "fig = plt.figure(figsize = (15, 5))\n",
    "plt.style.use('ggplot')\n",
    "\n",
    "# 暖房期 \n",
    "ax0 = fig.add_subplot(1, 3, 1)\n",
    "for window in windows:\n",
    "    if window['region'] >= 8:\n",
    "        continue\n",
    "    else:\n",
    "        z_h = [get_heating_overhang_width(is_f_value_input=True, region=window['region'], direction=window['direction'],\n",
    "                                          y1=y1, y2=y2, f=f) for f in xs]\n",
    "        label =  'Region:' + str(window['region']) + ', Direction:' + window['direction']\n",
    "        ax0.scatter(xs, z_h, 10, label=label)\n",
    "ax0.set_title('Heating Period')\n",
    "ax0.set_xlabel('Solar heat correction factor[-]')\n",
    "ax0.set_ylabel('Overhang width in heating period[m]')\n",
    "ax0.set_ylim(0,10)\n",
    "ax0.legend()\n",
    "\n",
    "# 冷房期\n",
    "ax1 = fig.add_subplot(1, 3, 2)\n",
    "for window in windows:\n",
    "    z_c = [get_cooling_overhang_width(is_f_value_input=True, region=window['region'], direction=window['direction'],\n",
    "                                      y1=y1, y2=y2, f=f) for f in xs]\n",
    "    label =  'Region:' + str(window['region']) + ', Direction:' + window['direction']\n",
    "    ax1.scatter(xs, z_c, 10,label = label)\n",
    "    \n",
    "ax1.set_title('Cooling Period')\n",
    "ax1.set_xlabel('Solar heat correction factor[-]')\n",
    "ax1.set_ylabel('Overhang width in cooling period[m]')\n",
    "ax1.set_ylim(0,10)\n",
    "ax1.legend()\n",
    "\n",
    "# 通年\n",
    "ax3 = fig.add_subplot(1,3,3)\n",
    "for window in windows:\n",
    "    z = [get_y1_y2_z(is_f_value_input=True, region=window['region'], direction=window['direction'], f_h=f, f_c=f)[2] for f in xs]\n",
    "    label = 'Region:' + str(window['region']) + ', Direction:' + window['direction']\n",
    "    ax3.scatter(xs, z, 10, label=label)\n",
    "\n",
    "ax3.set_title('Annual')\n",
    "ax3.set_xlabel('Solar heat correction factor[-]')\n",
    "ax3.set_ylabel('Overhang width in cooling period[m]')\n",
    "ax3.set_ylim(0,10)\n",
    "ax3.legend()\n",
    "    \n",
    "plt.show()"
   ]
  },
  {
   "cell_type": "code",
   "execution_count": null,
   "metadata": {},
   "outputs": [],
   "source": []
  }
 ],
 "metadata": {
  "kernelspec": {
   "display_name": "base",
   "language": "python",
   "name": "python3"
  },
  "language_info": {
   "codemirror_mode": {
    "name": "ipython",
    "version": 3
   },
   "file_extension": ".py",
   "mimetype": "text/x-python",
   "name": "python",
   "nbconvert_exporter": "python",
   "pygments_lexer": "ipython3",
   "version": "3.9.13"
  },
  "pycharm": {
   "stem_cell": {
    "cell_type": "raw",
    "metadata": {
     "collapsed": false
    },
    "source": []
   }
  },
  "vscode": {
   "interpreter": {
    "hash": "abe4748a002f17b3511019f94853b8cd3ad50bb5d2bf0da510f7d71cf814fa5a"
   }
  }
 },
 "nbformat": 4,
 "nbformat_minor": 2
}
