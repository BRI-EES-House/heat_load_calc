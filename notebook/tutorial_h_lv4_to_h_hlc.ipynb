{
 "cells": [
  {
   "cell_type": "markdown",
   "metadata": {},
   "source": [
    "# 住宅LV4から住宅負荷計算入力データへのコンバート"
   ]
  },
  {
   "cell_type": "markdown",
   "metadata": {},
   "source": [
    "## I. 関数(common)"
   ]
  },
  {
   "cell_type": "markdown",
   "metadata": {},
   "source": [
    "## II. 関数(rooms)"
   ]
  },
  {
   "cell_type": "markdown",
   "metadata": {},
   "source": [
    "### 床下空間の床面積の取得"
   ]
  },
  {
   "cell_type": "markdown",
   "metadata": {},
   "source": [
    "方位が'Bottom'である床下空間の外皮の部位と、床下空間の土間床を、床下空間の床とみなして、床下空間の床面積を取得する。  \n",
    "床下空間に属する部位があるが、床下空間の床面積が0㎡の場合、エラーとする。"
   ]
  },
  {
   "cell_type": "markdown",
   "metadata": {},
   "source": [
    "### Roomsの設定"
   ]
  },
  {
   "cell_type": "markdown",
   "metadata": {},
   "source": [
    "### 1. 容積"
   ]
  },
  {
   "cell_type": "markdown",
   "metadata": {},
   "source": [
    "$$ V_{space,i} = A_{f,i} h_{space,i} $$"
   ]
  },
  {
   "cell_type": "markdown",
   "metadata": {},
   "source": [
    "$V_{space,i}$:空間$i$の容積, m<sup>3</sup>  \n",
    "$A_{f,i}$:空間$i$の床面積, m<sup>2</sup>  \n",
    "$h_{space,i}$:空間$i$の天井高さ, m  \n",
    "空間$i$の天井高さ$h_{space,i}$は、空間の種類が「主たる居室」・「その他の居室」・「非居室」の場合は2.4mとし、「床下空間」の場合は0.4mとする。"
   ]
  },
  {
   "cell_type": "markdown",
   "metadata": {},
   "source": [
    "### 2. 全般換気設備の換気量（外気から）"
   ]
  },
  {
   "cell_type": "markdown",
   "metadata": {},
   "source": [
    "$$ V_{vent} = A_A h_A N a $$"
   ]
  },
  {
   "cell_type": "markdown",
   "metadata": {},
   "source": [
    "$$ V_{vent,ex-MR} = V_{vent} \\frac{ A_{MR} }{ A_{MR} + A_{OR} } $$"
   ]
  },
  {
   "cell_type": "markdown",
   "metadata": {},
   "source": [
    "$$ V_{vent,ex-OR} = V_{vent} \\frac{ A_{OR} }{ A_{MR} + A_{OR} } $$"
   ]
  },
  {
   "cell_type": "markdown",
   "metadata": {},
   "source": [
    "$$ V_{vent,ex-NR} = 0 $$"
   ]
  },
  {
   "cell_type": "markdown",
   "metadata": {},
   "source": [
    "$$ V_{vent,ex-uf} = 0 $$"
   ]
  },
  {
   "cell_type": "markdown",
   "metadata": {},
   "source": [
    "$V_{vent}$:全般換気設備の換気量, m<sup>3</sup>/h  \n",
    "$A_A$:床面積の合計, m<sup>2</sup>  \n",
    "$h_A$:天井高さ, m (=2.4)  \n",
    "$N$:換気回数, 1/h  \n",
    "$a$:全般換気設備の換気量の余裕率 (=1.1)  \n",
    "$V_{vent,ex-MR}$:外気から主たる居室への全般換気設備の換気量, m<sup>3</sup>/h  \n",
    "$V_{vent,ex-OR}$:外気からその他の居室への全般換気設備の換気量, m<sup>3</sup>/h  \n",
    "$V_{vent,ex-NR}$:外気から非居室への全般換気設備の換気量, m<sup>3</sup>/h  \n",
    "$V_{vent,ex-uf}$:外気から床下空間への全般換気設備の換気量, m<sup>3</sup>/h  \n",
    "$V_{vent,MR-NR}$:主たる居室から非居室への全般換気設備の換気量, m<sup>3</sup>/h  \n",
    "$V_{vent,OR-NR}$:その他の居室から非居室への全般換気設備の換気量, m<sup>3</sup>/h  "
   ]
  },
  {
   "cell_type": "markdown",
   "metadata": {},
   "source": [
    "### 3. 全般換気設備の換気量（室間）"
   ]
  },
  {
   "cell_type": "markdown",
   "metadata": {},
   "source": [
    "$$ V_{vent,MR-NR} = V_{vent,ex-MR} $$"
   ]
  },
  {
   "cell_type": "markdown",
   "metadata": {},
   "source": [
    "$$ V_{vent,OR-NR} = V_{vent,ex-OR} $$"
   ]
  },
  {
   "cell_type": "markdown",
   "metadata": {},
   "source": [
    "### 表面熱伝達抵抗の取得"
   ]
  },
  {
   "cell_type": "markdown",
   "metadata": {},
   "source": [
    "#### Outline"
   ]
  },
  {
   "cell_type": "markdown",
   "metadata": {},
   "source": [
    "平成28年省エネルギー基準に準拠したエネルギー消費性能の評価に関する技術情報（住宅）  \n",
    "　２．エネルギー消費性能の算定方法  \n",
    "　　2.2　算定方法  \n",
    "　　　第三章　 暖冷房負荷と外皮性能  \n",
    "　　　　第三節　熱貫流率及び線熱貫流率  \n",
    "　　　　　付録 A 住宅の平均熱貫流率算出に用いる建材等の熱物性値等   \n",
    "　　　　　　表 3.1 表面熱伝達抵抗   \n",
    "　　　　　　表 3.2 表面熱伝達抵抗（界壁・界床の場合） "
   ]
  },
  {
   "cell_type": "markdown",
   "metadata": {},
   "source": [
    "### Boundaryの設定"
   ]
  },
  {
   "cell_type": "markdown",
   "metadata": {},
   "source": [
    "#### Outline"
   ]
  },
  {
   "cell_type": "markdown",
   "metadata": {},
   "source": [
    "方位情報より方位角・傾斜角を取得する。"
   ]
  },
  {
   "cell_type": "markdown",
   "metadata": {},
   "source": [
    "#### Function"
   ]
  },
  {
   "cell_type": "markdown",
   "metadata": {},
   "source": [
    "#### Outline"
   ]
  },
  {
   "cell_type": "markdown",
   "metadata": {},
   "source": [
    "方位情報より隣室温度差係数を取得する。"
   ]
  },
  {
   "cell_type": "markdown",
   "metadata": {},
   "source": [
    "#### Function"
   ]
  },
  {
   "cell_type": "markdown",
   "metadata": {},
   "source": [
    "#### Outline"
   ]
  },
  {
   "cell_type": "markdown",
   "metadata": {},
   "source": [
    "Boundaryを設定する。"
   ]
  },
  {
   "cell_type": "markdown",
   "metadata": {},
   "source": [
    "#### Function"
   ]
  },
  {
   "cell_type": "markdown",
   "metadata": {},
   "source": [
    "### directionの設定"
   ]
  },
  {
   "cell_type": "markdown",
   "metadata": {},
   "source": [
    "#### Outline"
   ]
  },
  {
   "cell_type": "markdown",
   "metadata": {},
   "source": [
    "方位（Top/N/NE/E/SE/S/SW/W/NW/Bottom）より方位（Upward/Vertical/Downward）を決定する。  \n",
    "方位（Top/N/NE/E/SE/S/SW/W/NW/Bottom）にClosedSpace/OpenBackFloor/ResidenceSpace/ClosedBackFloorが含まれるが、方位と温度差係数を別の変数として扱うべき。"
   ]
  },
  {
   "cell_type": "markdown",
   "metadata": {},
   "source": [
    "#### Function"
   ]
  },
  {
   "cell_type": "markdown",
   "metadata": {},
   "source": [
    "#### Outline"
   ]
  },
  {
   "cell_type": "markdown",
   "metadata": {},
   "source": [
    "内壁種類（InnerCeiling/InnerWall/InnerFloo/GroundFloor）と室より方位（Upward/Vertical/Downward）を決定する。"
   ]
  },
  {
   "cell_type": "markdown",
   "metadata": {},
   "source": [
    "#### Function"
   ]
  },
  {
   "cell_type": "markdown",
   "metadata": {},
   "source": [
    "### 層構成の設定"
   ]
  },
  {
   "cell_type": "markdown",
   "metadata": {},
   "source": [
    "#### Outline"
   ]
  },
  {
   "cell_type": "markdown",
   "metadata": {},
   "source": [
    "容積比熱情報がない場合は、0kJ/(㎥・K)とする。"
   ]
  },
  {
   "cell_type": "markdown",
   "metadata": {},
   "source": [
    "#### Function"
   ]
  },
  {
   "cell_type": "markdown",
   "metadata": {},
   "source": [
    "### Walls要素をRoomsに展開"
   ]
  },
  {
   "cell_type": "markdown",
   "metadata": {},
   "source": [
    "#### Outline"
   ]
  },
  {
   "cell_type": "markdown",
   "metadata": {},
   "source": [
    "Partsの複数の要素を複数の部位に分離する。"
   ]
  },
  {
   "cell_type": "markdown",
   "metadata": {},
   "source": [
    "方位が'Bottom'である外皮の部位を、床と判定する。  \n",
    "【要確認】方位が'Bottom'である外皮の部位、土間床の合計面積が、用途別床面積を超過する場合にどうするか"
   ]
  },
  {
   "cell_type": "markdown",
   "metadata": {},
   "source": [
    "#### Function"
   ]
  },
  {
   "cell_type": "markdown",
   "metadata": {},
   "source": [
    "### InnerWalls要素をRoomsに展開"
   ]
  },
  {
   "cell_type": "markdown",
   "metadata": {},
   "source": [
    "#### Outline"
   ]
  },
  {
   "cell_type": "markdown",
   "metadata": {},
   "source": [
    "床下空間上の床、室上の床を、床と判定する。  \n",
    "【要確認】方位が'Bottom'である外皮の部位、土間床の合計面積が、用途別床面積を超過する場合にどうするか"
   ]
  },
  {
   "cell_type": "markdown",
   "metadata": {},
   "source": [
    "#### Function"
   ]
  },
  {
   "cell_type": "markdown",
   "metadata": {},
   "source": [
    "### Doors要素をRoomsに展開"
   ]
  },
  {
   "cell_type": "markdown",
   "metadata": {},
   "source": [
    "#### Outline"
   ]
  },
  {
   "cell_type": "markdown",
   "metadata": {},
   "source": [
    "方位が'Bottom'である外皮の部位を、床と判定する。  \n",
    "【要確認】方位が'Bottom'である外皮の部位、土間床の合計面積が、用途別床面積を超過する場合にどうするか"
   ]
  },
  {
   "cell_type": "markdown",
   "metadata": {},
   "source": [
    "#### Function"
   ]
  },
  {
   "cell_type": "markdown",
   "metadata": {},
   "source": [
    "### Windows要素をRoomsに展開"
   ]
  },
  {
   "cell_type": "markdown",
   "metadata": {},
   "source": [
    "平成28年省エネルギー基準に準拠したエネルギー消費性能の評価に関する技術情報（住宅）  \n",
    "　２．エネルギー消費性能の算定方法  \n",
    "　　2.2　算定方法  \n",
    "　　　第三章　 暖冷房負荷と外皮性能  \n",
    "　　　　第四節　日射熱取得率  "
   ]
  },
  {
   "cell_type": "markdown",
   "metadata": {},
   "source": [
    "#### Outline"
   ]
  },
  {
   "cell_type": "markdown",
   "metadata": {},
   "source": [
    "<div style=\"text-align: center;\"> 付録C　表1 ガラスの垂直面日射熱取得率 </div>\n",
    "\n",
    "| ガラスの仕様 | 　 | 　 | 付属部材なし | 和障子 | 外付けブラインド |\n",
    "|---|---|---|---|---|---|\n",
    "| 三層複層 | 2枚以上のガラス表面にLow-E膜を使用したLow-E三層複層ガラス | 日射取得型 | 0.54 | 0.34 | 0.12 |\n",
    "| 三層複層 | 2枚以上のガラス表面にLow-E膜を使用したLow-E三層複層ガラス | 日射遮蔽型 | 0.33 | 0.22 | 0.08 |\n",
    "| 三層複層 | Low-E三層複層ガラス | 日射取得型 | 0.59 | 0.37 | 0.14 |\n",
    "| 三層複層 | Low-E三層複層ガラス | 日射遮蔽型 | 0.37 | 0.25 | 0.10 |\n",
    "| 三層複層 | 三層複層ガラス　| 　 | 0.72 | 0.38 | 0.18 |\n",
    "| 二層複層 | Low-E二複層ガラス | 日射取得型 | 0.64 | 0.38 | 0.15 |\n",
    "| 二層複層 | Low-E二複層ガラス | 日射遮蔽型 | 0.40 | 0.26 | 0.11 |\n",
    "| 二層複層 | 二層複層ガラス | 　 | 0.79 | 0.38 | 0.17 |\n",
    "| 二層複層 | 単板ガラス2枚を組み合わせたもの | 日射遮蔽型 | 0.79 | 0.38 | 0.17 |\n",
    "| 単層 | 単板ガラス　| 　 | 0.88 | 0.38 | 0.19 |"
   ]
  },
  {
   "cell_type": "markdown",
   "metadata": {},
   "source": [
    "### Windows要素をRoomsに展開"
   ]
  },
  {
   "cell_type": "markdown",
   "metadata": {},
   "source": [
    "#### Outline"
   ]
  },
  {
   "cell_type": "markdown",
   "metadata": {},
   "source": [
    "方位が'Bottom'である外皮の部位を、床と判定する。  \n",
    "【要確認】方位が'Bottom'である外皮の部位、土間床の合計面積が、用途別床面積を超過する場合にどうするか"
   ]
  },
  {
   "cell_type": "markdown",
   "metadata": {},
   "source": [
    "#### Function"
   ]
  },
  {
   "cell_type": "markdown",
   "metadata": {},
   "source": [
    "### Heabridges要素をRoomsに展開"
   ]
  },
  {
   "cell_type": "markdown",
   "metadata": {},
   "source": [
    "#### Function"
   ]
  },
  {
   "cell_type": "markdown",
   "metadata": {},
   "source": [
    "### EarthfloorPerimeters要素をRoomsに展開"
   ]
  },
  {
   "cell_type": "markdown",
   "metadata": {},
   "source": [
    "#### Function"
   ]
  },
  {
   "cell_type": "markdown",
   "metadata": {},
   "source": [
    "### Earthfloors要素をRoomsに展開"
   ]
  },
  {
   "cell_type": "markdown",
   "metadata": {},
   "source": [
    "#### Outline"
   ]
  },
  {
   "cell_type": "markdown",
   "metadata": {},
   "source": [
    "土間床を、床と判定する。  \n",
    "【要確認】方位が'Bottom'である外皮の部位、土間床の合計面積が、用途別床面積を超過する場合にどうするか"
   ]
  },
  {
   "cell_type": "markdown",
   "metadata": {},
   "source": [
    "#### Function"
   ]
  },
  {
   "cell_type": "markdown",
   "metadata": {},
   "source": [
    "### 設備要素をRoomsに展開"
   ]
  },
  {
   "cell_type": "markdown",
   "metadata": {},
   "source": [
    "#### Outline"
   ]
  },
  {
   "cell_type": "markdown",
   "metadata": {},
   "source": [
    "設備の情報を室情報に紐付けする。"
   ]
  },
  {
   "cell_type": "markdown",
   "metadata": {},
   "source": [
    "#### Function"
   ]
  },
  {
   "cell_type": "markdown",
   "metadata": {},
   "source": [
    "## 3. Convert"
   ]
  },
  {
   "cell_type": "markdown",
   "metadata": {},
   "source": [
    "#### Function"
   ]
  },
  {
   "cell_type": "markdown",
   "metadata": {},
   "source": [
    "#### Example"
   ]
  },
  {
   "cell_type": "code",
   "execution_count": null,
   "metadata": {},
   "outputs": [],
   "source": []
  }
 ],
 "metadata": {
  "kernelspec": {
   "display_name": "Python 3",
   "language": "python",
   "name": "python3"
  },
  "language_info": {
   "codemirror_mode": {
    "name": "ipython",
    "version": 3
   },
   "file_extension": ".py",
   "mimetype": "text/x-python",
   "name": "python",
   "nbconvert_exporter": "python",
   "pygments_lexer": "ipython3",
   "version": "3.7.6"
  }
 },
 "nbformat": 4,
 "nbformat_minor": 2
}
