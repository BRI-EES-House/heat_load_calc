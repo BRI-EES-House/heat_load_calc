{
 "cells": [
  {
   "cell_type": "code",
   "execution_count": 1,
   "metadata": {},
   "outputs": [],
   "source": [
    "import sys\n",
    "from matplotlib import pyplot as plt\n",
    "import numpy as np\n",
    "\n",
    "sys.path.append('..')\n",
    "from heat_load_calc.initializer import estimate_c_value as cv"
   ]
  },
  {
   "cell_type": "markdown",
   "metadata": {},
   "source": [
    "# UA値からC値を推定する"
   ]
  },
  {
   "cell_type": "code",
   "execution_count": 2,
   "metadata": {},
   "outputs": [],
   "source": [
    "# UA値の設定\n",
    "ua_value = np.arange(1, 100) / 10.0"
   ]
  },
  {
   "cell_type": "code",
   "execution_count": 5,
   "metadata": {},
   "outputs": [],
   "source": [
    "# RC造のC値\n",
    "rc_c_value = cv.estimate_c_value(ua_value=ua_value, struct=cv.Structure.RC)\n",
    "\n",
    "# SRC造のC値\n",
    "src_c_value = cv.estimate_c_value(ua_value=ua_value, struct=cv.Structure.SRC)\n",
    "\n",
    "# 木造のC値\n",
    "wooden_c_value = cv.estimate_c_value(ua_value=ua_value, struct=cv.Structure.WOODEN)\n",
    "\n",
    "# S造のC値\n",
    "s_c_value = cv.estimate_c_value(ua_value=ua_value, struct=cv.Structure.STEEL)"
   ]
  },
  {
   "cell_type": "code",
   "execution_count": null,
   "metadata": {},
   "outputs": [],
   "source": [
    "# グラフの描画\n",
    "fig, ax = plt.subplots(2, 2, figsize=(6, 4))\n",
    "ax[0,0].set_xlabel('UA value[W/m2K]')\n",
    "ax[0,1].set_xlabel('UA value[W/m2K]')\n",
    "ax[1,0].set_xlabel('UA value[W/m2K]')\n",
    "ax[1,1].set_xlabel('UA value[W/m2K]')\n",
    "\n",
    "ax[0,0].set_ylabel('C value[cm2/m2]')\n",
    "ax[0,1].set_ylabel('C value[cm2/m2]')\n",
    "ax[1,0].set_ylabel('C value[cm2/m2]')\n",
    "ax[1,1].set_ylabel('C value[cm2/m2]')\n",
    "\n",
    "ax[0,0].set_title('RC')\n",
    "ax[0,1].set_title('SRC')\n",
    "ax[1,0].set_title('Wooden')\n",
    "ax[1,1].set_title('Steel')\n",
    "\n",
    "ax[0,0].plot(ua_value, rc_c_value)\n",
    "ax[0,1].plot(ua_value, src_c_value)\n",
    "ax[1,0].plot(ua_value, wooden_c_value)\n",
    "ax[1,1].plot(ua_value, s_c_value)\n"
   ]
  }
 ],
 "metadata": {
  "kernelspec": {
   "display_name": "Python 3",
   "language": "python",
   "name": "python3"
  },
  "language_info": {
   "codemirror_mode": {
    "name": "ipython",
    "version": 3
   },
   "file_extension": ".py",
   "mimetype": "text/x-python",
   "name": "python",
   "nbconvert_exporter": "python",
   "pygments_lexer": "ipython3",
   "version": "3.8.3"
  }
 },
 "nbformat": 4,
 "nbformat_minor": 4
}
