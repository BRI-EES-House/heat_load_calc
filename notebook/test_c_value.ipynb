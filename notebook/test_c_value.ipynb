{
 "cells": [
  {
   "cell_type": "code",
   "execution_count": 1,
   "metadata": {},
   "outputs": [],
   "source": [
    "import sys\n",
    "from matplotlib import pyplot as plt\n",
    "import numpy as np\n",
    "\n",
    "sys.path.append('..')\n",
    "from heat_load_calc.initializer import estimate_c_value as cv"
   ]
  },
  {
   "cell_type": "markdown",
   "metadata": {},
   "source": [
    "# UA値からC値を推定する"
   ]
  },
  {
   "cell_type": "code",
   "execution_count": 2,
   "metadata": {},
   "outputs": [],
   "source": [
    "# UA値の設定\n",
    "ua_value = np.arange(1, 100) / 10.0"
   ]
  },
  {
   "cell_type": "code",
   "execution_count": 3,
   "metadata": {},
   "outputs": [
    {
     "ename": "AttributeError",
     "evalue": "module 'heat_load_calc.initializer.estimate_c_value' has no attribute 'structure'",
     "output_type": "error",
     "traceback": [
      "\u001b[1;31m---------------------------------------------------------------------------\u001b[0m",
      "\u001b[1;31mAttributeError\u001b[0m                            Traceback (most recent call last)",
      "\u001b[1;32m<ipython-input-3-1ba689c4d0af>\u001b[0m in \u001b[0;36m<module>\u001b[1;34m\u001b[0m\n\u001b[0;32m      3\u001b[0m \u001b[1;33m\u001b[0m\u001b[0m\n\u001b[0;32m      4\u001b[0m \u001b[1;31m# SRC造のC値\u001b[0m\u001b[1;33m\u001b[0m\u001b[1;33m\u001b[0m\u001b[1;33m\u001b[0m\u001b[0m\n\u001b[1;32m----> 5\u001b[1;33m \u001b[0msrc_c_value\u001b[0m \u001b[1;33m=\u001b[0m \u001b[0mcv\u001b[0m\u001b[1;33m.\u001b[0m\u001b[0mestimate_c_value\u001b[0m\u001b[1;33m(\u001b[0m\u001b[0mua_value\u001b[0m\u001b[1;33m=\u001b[0m\u001b[0mua_value\u001b[0m\u001b[1;33m,\u001b[0m \u001b[0mstruct\u001b[0m\u001b[1;33m=\u001b[0m\u001b[0mint\u001b[0m\u001b[1;33m(\u001b[0m\u001b[0mcv\u001b[0m\u001b[1;33m.\u001b[0m\u001b[0mstructure\u001b[0m\u001b[1;33m.\u001b[0m\u001b[0msrc\u001b[0m\u001b[1;33m)\u001b[0m\u001b[1;33m)\u001b[0m\u001b[1;33m\u001b[0m\u001b[1;33m\u001b[0m\u001b[0m\n\u001b[0m\u001b[0;32m      6\u001b[0m \u001b[1;33m\u001b[0m\u001b[0m\n\u001b[0;32m      7\u001b[0m \u001b[1;31m# 木造のC値\u001b[0m\u001b[1;33m\u001b[0m\u001b[1;33m\u001b[0m\u001b[1;33m\u001b[0m\u001b[0m\n",
      "\u001b[1;31mAttributeError\u001b[0m: module 'heat_load_calc.initializer.estimate_c_value' has no attribute 'structure'"
     ]
    }
   ],
   "source": [
    "# RC造のC値\n",
    "rc_c_value = cv.estimate_c_value(ua_value=ua_value, struct=cv.Structure.RC)\n",
    "\n",
    "# SRC造のC値\n",
    "src_c_value = cv.estimate_c_value(ua_value=ua_value, struct=int(cv.structure.src))\n",
    "\n",
    "# 木造のC値\n",
    "wooden_c_value = cv.estimate_c_value(ua_value=ua_value, struct=int(cv.structure.wooden))\n",
    "\n",
    "# S造のC値\n",
    "s_c_value = cv.estimate_c_value(ua_value=ua_value, struct=int(cv.structure.steel))"
   ]
  },
  {
   "cell_type": "code",
   "execution_count": null,
   "metadata": {},
   "outputs": [],
   "source": [
    "# グラフの描画\n",
    "fig, ax = plt.subplots(2, 2, figsize=(6, 4))\n",
    "ax[0,0].set_xlabel('UA value[W/m2K]')\n",
    "ax[0,1].set_xlabel('UA value[W/m2K]')\n",
    "ax[1,0].set_xlabel('UA value[W/m2K]')\n",
    "ax[1,1].set_xlabel('UA value[W/m2K]')\n",
    "\n",
    "ax[0,0].set_ylabel('C value[cm2/m2]')\n",
    "ax[0,1].set_ylabel('C value[cm2/m2]')\n",
    "ax[1,0].set_ylabel('C value[cm2/m2]')\n",
    "ax[1,1].set_ylabel('C value[cm2/m2]')\n",
    "\n",
    "ax[0,0].set_title('RC')\n",
    "ax[0,1].set_title('SRC')\n",
    "ax[1,0].set_title('Wooden')\n",
    "ax[1,1].set_title('Steel')\n",
    "\n",
    "ax[0,0].plot(ua_value, rc_c_value)\n",
    "ax[0,1].plot(ua_value, src_c_value)\n",
    "ax[1,0].plot(ua_value, wooden_c_value)\n",
    "ax[1,1].plot(ua_value, s_c_value)\n"
   ]
  }
 ],
 "metadata": {
  "kernelspec": {
   "display_name": "Python 3",
   "language": "python",
   "name": "python3"
  },
  "language_info": {
   "codemirror_mode": {
    "name": "ipython",
    "version": 3
   },
   "file_extension": ".py",
   "mimetype": "text/x-python",
   "name": "python",
   "nbconvert_exporter": "python",
   "pygments_lexer": "ipython3",
   "version": "3.8.3"
  }
 },
 "nbformat": 4,
 "nbformat_minor": 4
}
