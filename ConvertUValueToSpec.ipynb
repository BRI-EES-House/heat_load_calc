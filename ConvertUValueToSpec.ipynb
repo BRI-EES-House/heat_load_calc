{
 "cells": [
  {
   "cell_type": "code",
   "execution_count": 1,
   "metadata": {
    "collapsed": true
   },
   "outputs": [],
   "source": [
    "import math\n",
    "import numpy as np\n",
    "import matplotlib.pyplot as plt"
   ]
  },
  {
   "cell_type": "markdown",
   "metadata": {},
   "source": [
    "# 部位のU値から壁体構成を与える"
   ]
  },
  {
   "cell_type": "markdown",
   "metadata": {},
   "source": [
    "## Outline"
   ]
  },
  {
   "cell_type": "markdown",
   "metadata": {},
   "source": [
    "- 屋根・天井、外壁、床、界壁、界床、界床（天井）の構成は、入力値である部位種別の熱貫流率と極力一致するよう、構造種別に応じ、以下の構成における断熱材の厚さを、0mm以上の範囲で、1mm単位で切り捨てて調整する。\n",
    "- 熱貫流率の入力値が大きい場合、断熱材の厚さを0mmとしても入力値の熱貫流率を再現できないことがあるが、この場合はその差を許容する。"
   ]
  },
  {
   "cell_type": "markdown",
   "metadata": {},
   "source": [
    "屋根・天井壁体構成（木造、鉄骨造、その他/不明）\n",
    "\n",
    "| 材料 | 厚さ, m | 熱伝導率, W m<sup>-1</sup> K<sup>-1</sup> | 熱抵抗, m<sup>2</sup>2 k W<sup>-1</sup> | 容積比熱, J L<sup>-1</sup> K<sup>-1</sup> |\n",
    "|---|---|---|---|\n",
    "| Ro | - | - | 0.040 | 0 |\n",
    "| 住宅用グラスウール断熱材16K相当 | ≧0mm | 0.045 |  | 13 |\n",
    "| せっこうボード | 0.0095 | 0.22 | 0.043 | 830 |\n",
    "| Ri | - | - | 0.090 | 0 |"
   ]
  },
  {
   "cell_type": "markdown",
   "metadata": {},
   "source": [
    "外壁壁体構成（木造、鉄骨造、その他/不明）\n",
    "\n",
    "| 材料 | 厚さ, m | 熱伝導率, W m<sup>-1</sup> K<sup>-1</sup> | 熱抵抗, m<sup>2</sup>2 k W<sup>-1</sup> | 容積比熱, J L<sup>-1</sup> K<sup>-1</sup> |\n",
    "|---|---|---|---|\n",
    "| Ro | - | - | 0.040 | 0 |\n",
    "| 住宅用グラスウール断熱材16K相当 | ≧0mm | 0.045 |  | 13 |\n",
    "| せっこうボード | 0.0095 | 0.22 | 0.043 | 830 |\n",
    "| Ri | - | - | 0.110 | 0 |"
   ]
  },
  {
   "cell_type": "markdown",
   "metadata": {},
   "source": [
    "床壁体構成（木造、鉄骨造、その他/不明）\n",
    "\n",
    "| 材料 | 厚さ, m | 熱伝導率, W m<sup>-1</sup> K<sup>-1</sup> | 熱抵抗, m<sup>2</sup>2 k W<sup>-1</sup> | 容積比熱, J L<sup>-1</sup> K<sup>-1</sup> |\n",
    "|---|---|---|---|\n",
    "| Ro | - | - | 0.040 | 0 |\n",
    "| 住宅用グラスウール断熱材16K相当 | ≧0mm | 0.045 |  | 13 |\n",
    "| 合板 | 0.012 | 0.16 | 0.075 | 720 |\n",
    "| Ri | - | - | 0.150 | - | - |"
   ]
  },
  {
   "cell_type": "markdown",
   "metadata": {},
   "source": [
    "界床（天井）壁体構成（木造、鉄骨造、その他/不明）\n",
    "\n",
    "| 材料 | 厚さ, m | 熱伝導率, W m<sup>-1</sup> K<sup>-1</sup> | 熱抵抗, m<sup>2</sup>2 k W<sup>-1</sup> | 容積比熱, J L<sup>-1</sup> K<sup>-1</sup> |\n",
    "|---|---|---|---|\n",
    "| Ro | - | - | 0.090 | 0 |\n",
    "| 住宅用グラスウール断熱材16K相当 | ≧0mm | 0.045 |  | 13 |\n",
    "| せっこうボード | 0.0095 | 0.22 | 0.043 | 830 |\n",
    "| Ri | - | - | 0.090 | 0 |"
   ]
  },
  {
   "cell_type": "markdown",
   "metadata": {},
   "source": [
    "界壁壁体構成（木造、鉄骨造、その他/不明）\n",
    "\n",
    "| 材料 | 厚さ, m | 熱伝導率, W m<sup>-1</sup> K<sup>-1</sup> | 熱抵抗, m<sup>2</sup>2 k W<sup>-1</sup> | 容積比熱, J L<sup>-1</sup> K<sup>-1</sup> |\n",
    "|---|---|---|---|\n",
    "| Ro | - | - | 0.110 | 0 |\n",
    "| 住宅用グラスウール断熱材16K相当 | ≧0mm | 0.045 |  | 13 |\n",
    "| せっこうボード | 0.0095 | 0.22 | 0.043 | 830 |\n",
    "| Ri | - | - | 0.110 | 0 |\n"
   ]
  },
  {
   "cell_type": "markdown",
   "metadata": {},
   "source": [
    "界床壁体構成（木造、鉄骨造）\n",
    "\n",
    "| 材料 | 厚さ, m | 熱伝導率, W m<sup>-1</sup> K<sup>-1</sup> | 熱抵抗, m<sup>2</sup>2 k W<sup>-1</sup> | 容積比熱, J L<sup>-1</sup> K<sup>-1</sup> |\n",
    "|---|---|---|---|\n",
    "| Ro | - | - | 0.150 | 0 |\n",
    "| 住宅用グラスウール断熱材16K相当 | ≧0mm | 0.045 |  | 13 |\n",
    "| 合板 | 0.012 | 0.16 | 0.075 | 720 |\n",
    "| Ri | - | - | 0.150 | - | - |"
   ]
  },
  {
   "cell_type": "markdown",
   "metadata": {},
   "source": [
    "屋根・天井壁体構成（鉄筋コンクリート造等）\n",
    "\n",
    "| 材料 | 厚さ, m | 熱伝導率, W m<sup>-1</sup> K<sup>-1</sup> | 熱抵抗, m<sup>2</sup>2 k W<sup>-1</sup> | 容積比熱, J L<sup>-1</sup> K<sup>-1</sup> |\n",
    "|---|---|---|---|\n",
    "| Ro | - | - | 0.040 | 0 |\n",
    "| コンクリート | 0.120 | 1.6 | 0.075 | 2000 |\n",
    "| 住宅用グラスウール断熱材16K相当 | ≧0mm | 0.045 |  | 13 |\n",
    "| Ri | - | - | 0.090 | 0 |"
   ]
  },
  {
   "cell_type": "markdown",
   "metadata": {},
   "source": [
    "外壁壁体構成（鉄筋コンクリート造等）\n",
    "\n",
    "| 材料 | 厚さ, m | 熱伝導率, W m<sup>-1</sup> K<sup>-1</sup> | 熱抵抗, m<sup>2</sup>2 k W<sup>-1</sup> | 容積比熱, J L<sup>-1</sup> K<sup>-1</sup> |\n",
    "|---|---|---|---|\n",
    "| Ro | - | - | 0.040 | 0 |\n",
    "| コンクリート | 0.120 | 1.6 | 0.075 | 2000 |\n",
    "| 住宅用グラスウール断熱材16K相当 | ≧0mm | 0.045 |  | 13 |\n",
    "| Ri | - | - | 0.110 | 0 |"
   ]
  },
  {
   "cell_type": "markdown",
   "metadata": {},
   "source": [
    "床壁体構成（鉄筋コンクリート造等）\n",
    "\n",
    "| 材料 | 厚さ, m | 熱伝導率, W m<sup>-1</sup> K<sup>-1</sup> | 熱抵抗, m<sup>2</sup>2 k W<sup>-1</sup> | 容積比熱, J L<sup>-1</sup> K<sup>-1</sup> |\n",
    "|---|---|---|---|\n",
    "| Ro | - | - | 0.040 | 0 |\n",
    "| コンクリート | 0.120 | 1.6 | 0.075 | 2000 |\n",
    "| 住宅用グラスウール断熱材16K相当 | ≧0mm | 0.045 |  | 13 |\n",
    "| Ri | - | - | 0.150 | - | - |"
   ]
  },
  {
   "cell_type": "markdown",
   "metadata": {},
   "source": [
    "界床（天井）壁体構成（鉄筋コンクリート造等）\n",
    "\n",
    "| 材料 | 厚さ, m | 熱伝導率, W m<sup>-1</sup> K<sup>-1</sup> | 熱抵抗, m<sup>2</sup>2 k W<sup>-1</sup> | 容積比熱, J L<sup>-1</sup> K<sup>-1</sup> |\n",
    "|---|---|---|---|\n",
    "| Ro | - | - | 0.090 | 0 |\n",
    "| コンクリート | 0.120 | 1.6 | 0.075 | 2000 |\n",
    "| 住宅用グラスウール断熱材16K相当 | ≧0mm | 0.045 |  | 13 |\n",
    "| Ri | - | - | 0.090 | 0 |"
   ]
  },
  {
   "cell_type": "markdown",
   "metadata": {},
   "source": [
    "界壁壁体構成（鉄筋コンクリート造等）\n",
    "\n",
    "| 材料 | 厚さ, m | 熱伝導率, W m<sup>-1</sup> K<sup>-1</sup> | 熱抵抗, m<sup>2</sup>2 k W<sup>-1</sup> | 容積比熱, J L<sup>-1</sup> K<sup>-1</sup> |\n",
    "|---|---|---|---|\n",
    "| Ro | - | - | 0.110 | 0 |\n",
    "| コンクリート | 0.120 | 1.6 | 0.075 | 2000 |\n",
    "| 住宅用グラスウール断熱材16K相当 | ≧0mm | 0.045 |  | 13 |\n",
    "| Ri | - | - | 0.110 | 0 |"
   ]
  },
  {
   "cell_type": "markdown",
   "metadata": {},
   "source": [
    "界床壁体構成（鉄筋コンクリート造等）\n",
    "\n",
    "| 材料 | 厚さ, m | 熱伝導率, W m<sup>-1</sup> K<sup>-1</sup> | 熱抵抗, m<sup>2</sup>2 k W<sup>-1</sup> | 容積比熱, J L<sup>-1</sup> K<sup>-1</sup> |\n",
    "|---|---|---|---|\n",
    "| Ro | - | - | 0.150 | 0 |\n",
    "| コンクリート | 0.120 | 1.6 | 0.075 | 2000 |\n",
    "| 住宅用グラスウール断熱材16K相当 | ≧0mm | 0.045 |  | 13 |\n",
    "| Ri | - | - | 0.150 | - | - |"
   ]
  },
  {
   "cell_type": "markdown",
   "metadata": {},
   "source": [
    "## Class"
   ]
  },
  {
   "cell_type": "code",
   "execution_count": 2,
   "metadata": {
    "collapsed": true
   },
   "outputs": [],
   "source": [
    "class Material:\n",
    "    \n",
    "    def __init__( self, name, thick, cond, spech ):\n",
    "        self.name   = name\n",
    "        self.thick  = thick   # thickness, m\n",
    "        self.cond   = cond    # thermal conductivity, W/mK\n",
    "        self.spech  = spech   # volumetric specific heat, J/LK\n",
    "    \n",
    "    def R( self ):\n",
    "        return self.thick / self.cond"
   ]
  },
  {
   "cell_type": "markdown",
   "metadata": {},
   "source": [
    "## Example"
   ]
  },
  {
   "cell_type": "code",
   "execution_count": 3,
   "metadata": {
    "collapsed": true
   },
   "outputs": [],
   "source": [
    "m = Material( 'GPB', 0.0095, 0.22, 830 )"
   ]
  },
  {
   "cell_type": "code",
   "execution_count": 4,
   "metadata": {},
   "outputs": [
    {
     "data": {
      "text/plain": [
       "('GPB', 0.0095, 0.22, 830, 0.04318181818181818)"
      ]
     },
     "execution_count": 4,
     "metadata": {},
     "output_type": "execute_result"
    }
   ],
   "source": [
    "m.name, m.thick, m.cond, m.spech, m.R()"
   ]
  },
  {
   "cell_type": "markdown",
   "metadata": {},
   "source": [
    "## Function"
   ]
  },
  {
   "cell_type": "code",
   "execution_count": 5,
   "metadata": {
    "collapsed": true
   },
   "outputs": [],
   "source": [
    "def get_gypsum():\n",
    "    return Material( name = 'GPB', thick = 0.0095, cond = 0.22, spech =  830.0 )\n",
    "\n",
    "def get_plywood():\n",
    "    return Material( name = 'PED', thick = 0.012,  cond = 0.16, spech =  720.0 )\n",
    "\n",
    "def get_concrete():\n",
    "    return Material( name = 'RC',  thick = 0.120,  cond = 1.60, spech = 2000.0 )\n",
    "\n",
    "def convert_u_value_to_spec(structure, typeOfPart, U):\n",
    "    # structure as string : Wood, Steel, RC, Other\n",
    "    # typeOfPart as string: Ceiling, Wall, Floor, BoundaryCeiling, BoundaryWall, BoundaryFloor\n",
    "    # U: heat transfer coefficient (W/m2K)\n",
    "    s = structure\n",
    "    t = typeOfPart\n",
    "    R = 1 / U\n",
    "    \n",
    "    Ro, Ri = {\n",
    "        'Ceiling'         : ( 0.040, 0.090 ),\n",
    "        'Wall'            : ( 0.040, 0.110 ),\n",
    "        'Floor'           : ( 0.040, 0.150 ),\n",
    "        'BoundaryCeiling' : ( 0.090, 0.090 ),\n",
    "        'BoundaryWall'    : ( 0.110, 0.110 ),\n",
    "        'BoundaryFloor'   : ( 0.150, 0.150 ),\n",
    "    }[t]\n",
    "    \n",
    "    mGypsum   = get_gypsum()\n",
    "    mPlywood  = get_plywood()\n",
    "    mConcrete = get_concrete()\n",
    "    \n",
    "    ins_name, ins_cond, ins_spech = 'GW16K', 0.045, 13.0\n",
    "    \n",
    "    def d( m ):\n",
    "        return ( math.floor( max(0,( R -( Ro + m.R() + Ri )) * ins_cond ) * 1000 ) ) / 1000\n",
    "    \n",
    "    if ( s in ['Wood', 'Steel', 'Other'] ):\n",
    "        m = {\n",
    "            'Ceiling'         : mGypsum,\n",
    "            'Wall'            : mGypsum,\n",
    "            'Floor'           : mPlywood,\n",
    "            'BoundaryWall'    : mGypsum,\n",
    "            'BoundaryFloor'   : mPlywood,\n",
    "            'BoundaryCeiling' : mGypsum,\n",
    "        }[t]\n",
    "        Layer= [ Material( name = ins_name, thick = d(m), cond = ins_cond, spech = ins_spech ), m ]\n",
    "    elif s == 'RC':\n",
    "        m = mConcrete\n",
    "        Layer= [ m, Material( name = ins_name, thick = d(m), cond = ins_cond, spech = ins_spech ) ]    \n",
    "    else:\n",
    "        raise ValueError\n",
    "        \n",
    "    return Layer"
   ]
  },
  {
   "cell_type": "markdown",
   "metadata": {},
   "source": [
    "## Example 1"
   ]
  },
  {
   "cell_type": "code",
   "execution_count": 6,
   "metadata": {},
   "outputs": [
    {
     "data": {
      "text/plain": [
       "({'cond': 0.045, 'name': 'GW16K', 'spech': 13.0, 'thick': 0.074},\n",
       " {'cond': 0.22, 'name': 'GPB', 'spech': 830.0, 'thick': 0.0095})"
      ]
     },
     "execution_count": 6,
     "metadata": {},
     "output_type": "execute_result"
    }
   ],
   "source": [
    "m = convert_u_value_to_spec( structure = 'Wood', typeOfPart = 'Wall', U = 0.538 )\n",
    "vars(m[0]), vars(m[1])"
   ]
  },
  {
   "cell_type": "markdown",
   "metadata": {},
   "source": [
    "## Example 2"
   ]
  },
  {
   "cell_type": "markdown",
   "metadata": {},
   "source": [
    "U値と断熱材厚の関係のグラフ作成"
   ]
  },
  {
   "cell_type": "code",
   "execution_count": 7,
   "metadata": {},
   "outputs": [
    {
     "data": {
      "image/png": "[encoded data removed]",
      "text/plain": [
       "<matplotlib.figure.Figure at 0x1ac9283def0>"
      ]
     },
     "metadata": {},
     "output_type": "display_data"
    }
   ],
   "source": [
    "plt.subplot(1, 2, 1)\n",
    "x=np.arange(0.05,5,0.05)\n",
    "y=[[],[],[],[],[],[],[]]\n",
    "\n",
    "wall_type = ['Ceiling','Wall','Floor','BoundaryWall','BoundaryFloor','BoundaryCeiling']\n",
    "\n",
    "for i in x:\n",
    "    for j in wall_type:\n",
    "        temp = convert_u_value_to_spec( 'Wood', j, i )\n",
    "        #print(wall_type.index(j)) \n",
    "        y[wall_type.index(j)].append(temp[0].thick)        \n",
    "        #print(y[wall_type.index(j)])\n",
    "        \n",
    "plt.title(r\"U[W/m2K]-Insulation Thickness[m]\")\n",
    "plt.plot(x,y[5],'b',label=\"W_BoundaryFloor\")\n",
    "plt.plot(x,y[4],'c',label=\"W_BoundaryWall\")\n",
    "plt.plot(x,y[3],'g',label=\"W_BoundaryCeiling\")\n",
    "plt.plot(x,y[2],'y',label=\"W_Floor\")\n",
    "plt.plot(x,y[1],'r',label=\"W_Wall\")\n",
    "plt.plot(x,y[0],'m',label=\"W_Ceiling\")\n",
    "plt.legend()\n",
    "\n",
    "plt.subplot(1, 2, 2)\n",
    "x=np.arange(0.05,5,0.05)\n",
    "y=[[],[],[],[],[],[],[]]\n",
    "for i in x:\n",
    "    for j in wall_type:\n",
    "        temp = convert_u_value_to_spec( 'RC' , j, i )\n",
    "        y[wall_type.index(j)].append(temp[1].thick)        \n",
    "    \n",
    "plt.title(r\"U[W/m2K]-Insulation Thickness[m]\")\n",
    "plt.plot(x,y[5],'b',label=\"RC_BoundaryFloor\")\n",
    "plt.plot(x,y[4],'c',label=\"RC_BoundaryWall\")\n",
    "plt.plot(x,y[3],'g',label=\"RC_BoundaryCeiling\")\n",
    "plt.plot(x,y[2],'y',label=\"RC_Floor\")\n",
    "plt.plot(x,y[1],'r',label=\"RC_Wall\")\n",
    "plt.plot(x,y[0],'m',label=\"RC_Ceiling\")\n",
    "plt.legend()\n",
    "\n",
    "plt.show()"
   ]
  }
 ],
 "metadata": {
  "kernelspec": {
   "display_name": "Python 3",
   "language": "python",
   "name": "python3"
  },
  "language_info": {
   "codemirror_mode": {
    "name": "ipython",
    "version": 3
   },
   "file_extension": ".py",
   "mimetype": "text/x-python",
   "name": "python",
   "nbconvert_exporter": "python",
   "pygments_lexer": "ipython3",
   "version": "3.6.4"
  }
 },
 "nbformat": 4,
 "nbformat_minor": 2
}
