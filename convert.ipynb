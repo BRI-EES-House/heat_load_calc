{
 "cells": [
  {
   "cell_type": "code",
   "execution_count": 1,
   "metadata": {},
   "outputs": [],
   "source": [
    "import sys\n",
    "import os\n",
    "import nbimporter\n",
    "import copy\n",
    "import math\n",
    "import numpy\n",
    "\n",
    "import json\n",
    "from collections import OrderedDict\n",
    "import pprint"
   ]
  },
  {
   "cell_type": "markdown",
   "metadata": {},
   "source": [
    "# 外皮入力情報から簡易熱負荷計算入力情報へのコンバート"
   ]
  },
  {
   "cell_type": "markdown",
   "metadata": {},
   "source": [
    "#### Function"
   ]
  },
  {
   "cell_type": "code",
   "execution_count": 5,
   "metadata": {},
   "outputs": [],
   "source": [
    "def convert_design_house(d):\n",
    "    \n",
    "    if d['InputLevel'] == 1:\n",
    "        import LV1toLv2 as mf_1_to_2\n",
    "        d2 = mf_1_to_2.convert(d)\n",
    "                \n",
    "    if d['InputLevel'] < 2:     \n",
    "        import LV2toLv3 as mf_2_to_3\n",
    "        d3 = mf_2_to_3.convert(d2) \n",
    "    elif d['InputLevel'] == 2:\n",
    "        import LV2toLv3 as mf_2_to_3\n",
    "        d3 = mf_2_to_3.convert(d)    \n",
    "        \n",
    "    if d['InputLevel'] < 3:     \n",
    "        import LV3toLv4 as mf_3_to_4\n",
    "        d4 = mf_3_to_4.convert(d3) \n",
    "    elif d['InputLevel'] == 3:\n",
    "        import LV3toLv4 as mf_3_to_4\n",
    "        d4 = mf_3_to_4.convert(d) \n",
    "       \n",
    "    if d['InputLevel'] < 4:     \n",
    "        import LV4toCalc as mf_4_to_calc\n",
    "        d_calc = mf_4_to_calc.convert(d4) \n",
    "    elif d['InputLevel'] == 4:\n",
    "        import LV4toCalc as mf_4_to_calc\n",
    "        d_calc = mf_4_to_calc.convert(d) \n",
    "        \n",
    "    return d_calc"
   ]
  },
  {
   "cell_type": "code",
   "execution_count": 6,
   "metadata": {},
   "outputs": [],
   "source": [
    "def convert_input_for_calculation(d):\n",
    "    \n",
    "    with open('C:/Users/PC/Documents/e7_inputdataconvert/DesignHouse.json', 'w') as f_design:\n",
    "        json.dump(convert_design_house(d), f_design, indent=4)\n",
    "\n",
    "#    with open('C:/Users/PC/Documents/e7_inputdataconvert/StandardHouse.json', 'w') as f_standard:\n",
    "#        json.dump(convert_standard_house(d_standard), f, indent=4)"
   ]
  },
  {
   "cell_type": "code",
   "execution_count": 7,
   "metadata": {
    "scrolled": false
   },
   "outputs": [],
   "source": [
    "d = {\n",
    "    'InputLevel': 1,\n",
    "    'Region' : 6,\n",
    "    'MainOccupantRoomFloorArea': 30.0,\n",
    "    'OtherOccupantRoomFloorArea': 30.0,\n",
    "    'TotalFloorArea': 90.0,\n",
    "    'InsulationType' : 'FloorIns',\n",
    "    'InsulationTypeBathroom' : 'NotInContactWithOutsideAir',\n",
    "    'URoof' : 7.7,\n",
    "    'UWall' : 6.67,\n",
    "    'UFloor' : 5.27,\n",
    "    'UFloorBathroom' : 5.27,\n",
    "    'UDoor' : 4.65,\n",
    "    'UWnd' : 3.49,\n",
    "    'EtaDC' : 0.51,       \n",
    "    'EtaDH' : 0.51, \n",
    "    'IsInputFValue' : True, \n",
    "    'FValueC' : 0.9,\n",
    "    'FValueH' : 0.7,\n",
    "    'psi_entrance' : 1.8,\n",
    "    'psi_bathroom' : 1.8\n",
    "}\n",
    "\n",
    "convert_input_for_calculation(d)"
   ]
  },
  {
   "cell_type": "code",
   "execution_count": null,
   "metadata": {},
   "outputs": [],
   "source": []
  }
 ],
 "metadata": {
  "kernelspec": {
   "display_name": "Python 3",
   "language": "python",
   "name": "python3"
  },
  "language_info": {
   "codemirror_mode": {
    "name": "ipython",
    "version": 3
   },
   "file_extension": ".py",
   "mimetype": "text/x-python",
   "name": "python",
   "nbconvert_exporter": "python",
   "pygments_lexer": "ipython3",
   "version": "3.7.0"
  }
 },
 "nbformat": 4,
 "nbformat_minor": 2
}
