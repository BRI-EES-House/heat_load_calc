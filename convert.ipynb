{
 "cells": [
  {
   "cell_type": "code",
   "execution_count": 1,
   "metadata": {},
   "outputs": [],
   "source": [
    "import sys\n",
    "import os\n",
    "import nbimporter\n",
    "import copy\n",
    "import math\n",
    "import numpy\n",
    "import json\n",
    "from collections import OrderedDict\n",
    "import pprint"
   ]
  },
  {
   "cell_type": "markdown",
   "metadata": {},
   "source": [
    "# 外皮入力情報から簡易熱負荷計算入力情報へのコンバート"
   ]
  },
  {
   "cell_type": "markdown",
   "metadata": {},
   "source": [
    "#### Function"
   ]
  },
  {
   "cell_type": "code",
   "execution_count": 2,
   "metadata": {},
   "outputs": [],
   "source": [
    "def convert_design_house(d):\n",
    "    \n",
    "    if d['InputLevel'] == 1:\n",
    "        import LV1toLv2 as mf_1_to_2\n",
    "        d2 = mf_1_to_2.convert(d)\n",
    "                \n",
    "    if d['InputLevel'] < 2:     \n",
    "        import LV2toLv3 as mf_2_to_3\n",
    "        d3 = mf_2_to_3.convert(d2) \n",
    "    elif d['InputLevel'] == 2:\n",
    "        import LV2toLv3 as mf_2_to_3\n",
    "        d3 = mf_2_to_3.convert(d)    \n",
    "        \n",
    "    if d['InputLevel'] < 3:     \n",
    "        import LV3toLv4 as mf_3_to_4\n",
    "        d4 = mf_3_to_4.convert(d3) \n",
    "    elif d['InputLevel'] == 3:\n",
    "        import LV3toLv4 as mf_3_to_4\n",
    "        d4 = mf_3_to_4.convert(d) \n",
    "        \n",
    "    return d4"
   ]
  },
  {
   "cell_type": "code",
   "execution_count": 3,
   "metadata": {},
   "outputs": [],
   "source": [
    "def convert_standard_house(d):\n",
    "    \n",
    "    import StandardHouse as mf_standard\n",
    "    d_standard = mf_standard.convert(d) \n",
    "\n",
    "    return d_standard"
   ]
  },
  {
   "cell_type": "code",
   "execution_count": 4,
   "metadata": {},
   "outputs": [],
   "source": [
    "def convert_input_for_calculation(d, HouseType):\n",
    "\n",
    "    if d['InputLevel'] < 4:     \n",
    "        d4 = convert_design_house(d)\n",
    "    elif d['InputLevel'] == 4:\n",
    "        d4 = cpoy.deepcopy(d) \n",
    "    \n",
    "    import LV4toCalc as mf_4_to_calc\n",
    "    d_calc = mf_4_to_calc.convert(d4) \n",
    "    \n",
    "    with open('C:/Users/PC/Documents/e7_inputdataconvert/DesignHouse.json', 'w') as f_design:\n",
    "        json.dump(d_calc, f_design, indent=4)\n",
    "\n",
    "    d4['Common']['HouseType'] = HouseType\n",
    "    with open('C:/Users/PC/Documents/e7_inputdataconvert/StandardHouse.json', 'w') as f_standard:\n",
    "        json.dump(mf_4_to_calc.convert(convert_standard_house(d4)), f_standard, indent=4)"
   ]
  },
  {
   "cell_type": "code",
   "execution_count": 5,
   "metadata": {
    "scrolled": false
   },
   "outputs": [
    {
     "name": "stdout",
     "output_type": "stream",
     "text": [
      "Importing Jupyter notebook from LV1toLv2.ipynb\n",
      "Importing Jupyter notebook from RoundNumber.ipynb\n",
      "Importing Jupyter notebook from LV2toLv3.ipynb\n",
      "Importing Jupyter notebook from LV3toLv4.ipynb\n",
      "Importing Jupyter notebook from LV4toCalc.ipynb\n",
      "Importing Jupyter notebook from StandardHouse.ipynb\n",
      "Importing Jupyter notebook from nu.ipynb\n",
      "UA基準値0.87,ηAH基準値4.3,ηAC基準値2.8\n",
      "U値{'Roof': 0.2049755366143829, 'Wall': 0.45265431002342893, 'Floor': 0.4099510732287648, 'Window': 3.971401021903669, 'EarthfloorPerimeter': 0.6490891992788776},開口部η0.4386836640077342,開口部ηH0.46743989470727487,開口部ηC0.40992743330819353\n",
      "UA計算値0.8699999999999998,ηAH計算値4.3,ηAC計算値2.8000000000000003\n"
     ]
    }
   ],
   "source": [
    "d = {\n",
    "    'InputLevel': 1,\n",
    "    'Region' : 6,\n",
    "    'MainOccupantRoomFloorArea': 30.0,\n",
    "    'OtherOccupantRoomFloorArea': 30.0,\n",
    "    'TotalFloorArea': 90.0,\n",
    "    'InsulationType' : 'FloorIns',\n",
    "    'InsulationTypeBathroom' : 'NotInContactWithOutsideAir',\n",
    "    'URoof' : 0.24,\n",
    "    'UWall' : 0.53,\n",
    "    'UFloor' : 0.48,\n",
    "    'UFloorBathroom' : 0.48,\n",
    "    'UDoor' : 4.65,\n",
    "    'UW'    : 3.49,\n",
    "    'EtaDC' : 0.51,       \n",
    "    'EtaDH' : 0.51, \n",
    "    'IsInputFValue' : True, \n",
    "    'FValueC' : 0.9,\n",
    "    'FValueH' : 0.7,\n",
    "    'psi_entrance' : 1.8,\n",
    "    'psi_bathroom' : 1.8\n",
    "}\n",
    "\n",
    "HouseType = 'detached'\n",
    "\n",
    "convert_input_for_calculation(d, HouseType)"
   ]
  },
  {
   "cell_type": "code",
   "execution_count": null,
   "metadata": {},
   "outputs": [],
   "source": []
  }
 ],
 "metadata": {
  "kernelspec": {
   "display_name": "Python 3",
   "language": "python",
   "name": "python3"
  },
  "language_info": {
   "codemirror_mode": {
    "name": "ipython",
    "version": 3
   },
   "file_extension": ".py",
   "mimetype": "text/x-python",
   "name": "python",
   "nbconvert_exporter": "python",
   "pygments_lexer": "ipython3",
   "version": "3.7.0"
  }
 },
 "nbformat": 4,
 "nbformat_minor": 2
}
