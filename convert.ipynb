{
 "cells": [
  {
   "cell_type": "code",
   "execution_count": 1,
   "metadata": {},
   "outputs": [],
   "source": [
    "import sys\n",
    "import os\n",
    "import nbimporter\n",
    "import copy\n",
    "import math\n",
    "import numpy\n",
    "import json\n",
    "from collections import OrderedDict\n",
    "import pprint"
   ]
  },
  {
   "cell_type": "markdown",
   "metadata": {},
   "source": [
    "# 外皮入力情報から簡易熱負荷計算入力情報へのコンバート"
   ]
  },
  {
   "cell_type": "markdown",
   "metadata": {},
   "source": [
    "### 外皮入力情報補完"
   ]
  },
  {
   "cell_type": "markdown",
   "metadata": {},
   "source": [
    "#### Outline"
   ]
  },
  {
   "cell_type": "markdown",
   "metadata": {},
   "source": [
    "入力情報レベルに応じて、LV1からLV4までの外皮入力情報の補完を行う。"
   ]
  },
  {
   "cell_type": "markdown",
   "metadata": {},
   "source": [
    "#### Function"
   ]
  },
  {
   "cell_type": "code",
   "execution_count": 2,
   "metadata": {},
   "outputs": [],
   "source": [
    "def convert_design_house(d):\n",
    "    \n",
    "    # LV1からLV2\n",
    "    if d['InputLevel'] == 1:\n",
    "        import LV1toLv2 as mf_1_to_2\n",
    "        d2 = mf_1_to_2.convert(d)\n",
    "                \n",
    "    # LV2からLV3\n",
    "    if d['InputLevel'] < 2:     \n",
    "        import LV2toLv3 as mf_2_to_3\n",
    "        d3 = mf_2_to_3.convert(d2) \n",
    "    elif d['InputLevel'] == 2:\n",
    "        import LV2toLv3 as mf_2_to_3\n",
    "        d3 = mf_2_to_3.convert(d)    \n",
    "        \n",
    "    # LV3からLV4\n",
    "    if d['InputLevel'] < 3:     \n",
    "        import LV3toLv4 as mf_3_to_4\n",
    "        d4 = mf_3_to_4.convert(d3) \n",
    "    elif d['InputLevel'] == 3:\n",
    "        import LV3toLv4 as mf_3_to_4\n",
    "        d4 = mf_3_to_4.convert(d) \n",
    "    elif d['InputLevel'] == 4:\n",
    "        d4 = copy.deepcopy(d_excel) \n",
    "        \n",
    "    return d4"
   ]
  },
  {
   "cell_type": "markdown",
   "metadata": {},
   "source": [
    "### 暖冷房設備の能力等の設定"
   ]
  },
  {
   "cell_type": "markdown",
   "metadata": {},
   "source": [
    "#### Outline"
   ]
  },
  {
   "cell_type": "markdown",
   "metadata": {},
   "source": [
    "暖冷房設備の種類が対流式の場合は、ルームエアコンディショナーの定格能力・最大能力・定格能力を取得する。  \n",
    "暖房設備が放射式の場合は、床暖房の敷設面積を取得する。"
   ]
  },
  {
   "cell_type": "markdown",
   "metadata": {},
   "source": [
    "#### Function"
   ]
  },
  {
   "cell_type": "code",
   "execution_count": 3,
   "metadata": {},
   "outputs": [],
   "source": [
    "def convert_equipment(mf_equipment, d):\n",
    "\n",
    "    import equipment as mf_equipment\n",
    "    \n",
    "    equipment_main = {}\n",
    "    if d['Common']['MainOccupantRoomFloorArea'] > 0 :\n",
    "        equipment_main = mf_equipment.convert(A=d['Common']['MainOccupantRoomFloorArea'], \n",
    "                                              **d['CoolingAndHeating']['main']) \n",
    "\n",
    "    equipment_other = {}\n",
    "    if d['Common']['OtherOccupantRoomFloorArea'] > 0 :\n",
    "        equipment_other = mf_equipment.convert(A=d['Common']['OtherOccupantRoomFloorArea'],\n",
    "                                               **d['CoolingAndHeating']['other']) \n",
    "        \n",
    "    return equipment_main, equipment_other"
   ]
  },
  {
   "cell_type": "markdown",
   "metadata": {},
   "source": [
    "### 設計住戸の熱負荷計算用入力ファイルの書き出し"
   ]
  },
  {
   "cell_type": "markdown",
   "metadata": {},
   "source": [
    "#### Outline"
   ]
  },
  {
   "cell_type": "markdown",
   "metadata": {},
   "source": [
    "設計住戸の熱負荷計算用ファイルの作成を行う。"
   ]
  },
  {
   "cell_type": "markdown",
   "metadata": {},
   "source": [
    "#### Function"
   ]
  },
  {
   "cell_type": "code",
   "execution_count": 4,
   "metadata": {},
   "outputs": [],
   "source": [
    " def output_design_house(mf_4_to_calc, d4, equipment_main, equipment_other):\n",
    "        \n",
    "    d_calc = mf_4_to_calc.convert(d4, equipment_main, equipment_other) \n",
    "    \n",
    "    with open('C:/Users/serikawa/Documents/e7_inputdataconvert/DesignHouse.json', 'w') as f_design:\n",
    "        json.dump(d_calc, f_design, indent=4)"
   ]
  },
  {
   "cell_type": "markdown",
   "metadata": {},
   "source": [
    "### 基準値計算用住戸の熱負荷計算用入力ファイルの書き出し"
   ]
  },
  {
   "cell_type": "markdown",
   "metadata": {},
   "source": [
    "#### Outline"
   ]
  },
  {
   "cell_type": "markdown",
   "metadata": {},
   "source": [
    "基準値計算用住戸の熱負荷計算用ファイルの作成を行う。"
   ]
  },
  {
   "cell_type": "markdown",
   "metadata": {},
   "source": [
    "#### Function"
   ]
  },
  {
   "cell_type": "code",
   "execution_count": 5,
   "metadata": {},
   "outputs": [],
   "source": [
    "def get_equipment_standard(mf_equipment, A):\n",
    "    \n",
    "    if A > 0 :\n",
    "        q = mf_equipment.get_capacity_RAC(A)\n",
    "\n",
    "        return {\n",
    "                'cooling': {\n",
    "                    'main': {\n",
    "                        'type'   : 'room_air_conditioner',\n",
    "                        'q_rtd_c': q['q_rtd_c'],\n",
    "                        'q_max_c': q['q_max_c'],\n",
    "                        'e_rtd_c': None},\n",
    "                    'sub': {}\n",
    "                },\n",
    "                'heating': {\n",
    "                    'main': {\n",
    "                        'type'   : 'room_air_conditioner',\n",
    "                        'q_rtd_h': q['q_rtd_h'],\n",
    "                        'q_max_h': q['q_max_h'],\n",
    "                        'e_rtd_h': None},\n",
    "                    'sub': {}\n",
    "                }\n",
    "            }\n",
    "    \n",
    "    else :\n",
    "        return{}"
   ]
  },
  {
   "cell_type": "code",
   "execution_count": 6,
   "metadata": {},
   "outputs": [],
   "source": [
    "def convert_standard_house(d):\n",
    "    \n",
    "    import StandardHouse as mf_standard\n",
    "    d_standard = mf_standard.convert(d) \n",
    "\n",
    "    return d_standard"
   ]
  },
  {
   "cell_type": "code",
   "execution_count": 7,
   "metadata": {},
   "outputs": [],
   "source": [
    "def output_standard_house(mf_4_to_calc, mf_equipment, HouseType, area_main, area_other, d):\n",
    "    \n",
    "    d['Common']['HouseType'] = HouseType\n",
    "\n",
    "    # 設備情報の取得\n",
    "    equipment_standard_main  = get_equipment_standard(mf_equipment, area_main)\n",
    "    equipment_standard_other = get_equipment_standard(mf_equipment, area_other)\n",
    "    \n",
    "    with open('C:/Users\\serikawa/Documents/e7_inputdataconvert/StandardHouse.json', 'w') as f_standard:\n",
    "        json.dump(mf_4_to_calc.convert(convert_standard_house(d), \n",
    "                                       equipment_standard_main, equipment_standard_other),\n",
    "                  f_standard, indent=4), "
   ]
  },
  {
   "cell_type": "markdown",
   "metadata": {},
   "source": [
    "### 統合"
   ]
  },
  {
   "cell_type": "markdown",
   "metadata": {},
   "source": [
    "#### Outline"
   ]
  },
  {
   "cell_type": "markdown",
   "metadata": {},
   "source": [
    "入力情報から簡易熱負荷計算用入力ファイルを作成する。"
   ]
  },
  {
   "cell_type": "markdown",
   "metadata": {},
   "source": [
    "#### Function"
   ]
  },
  {
   "cell_type": "code",
   "execution_count": 8,
   "metadata": {},
   "outputs": [],
   "source": [
    "def convert_input_for_calculation(d_excel, d_web):\n",
    "\n",
    "    # 用途別床面積情報の受け渡し\n",
    "    area_main  = d_web['Common']['MainOccupantRoomFloorArea']\n",
    "    area_other = d_web['Common']['OtherOccupantRoomFloorArea']\n",
    "    \n",
    "    d_excel['MainOccupantRoomFloorArea']  = area_main\n",
    "    d_excel['OtherOccupantRoomFloorArea'] = area_other\n",
    "    d_excel['TotalFloorArea']             = d_web['Common']['TotalFloorArea']\n",
    "    \n",
    "    # 外皮入力情報補完\n",
    "    d4 = convert_design_house(d_excel)\n",
    "    \n",
    "    # 設備情報の取得\n",
    "    import equipment as mf_equipment\n",
    "    equipment_main, equipment_other = convert_equipment(mf_equipment, d_web)\n",
    "    \n",
    "    # 設計住戸の熱負荷計算用ファイルの書き出し\n",
    "    import LV4toCalc as mf_4_to_calc\n",
    "    output_design_house(mf_4_to_calc, d4, equipment_main, equipment_other)\n",
    "\n",
    "    # 基準値計算用住戸の熱負荷計算用ファイルの書き出し\n",
    "    output_standard_house(mf_4_to_calc, mf_equipment, d_web['Common']['HouseType'], area_main, area_other, d4)"
   ]
  },
  {
   "cell_type": "code",
   "execution_count": 9,
   "metadata": {
    "scrolled": false
   },
   "outputs": [
    {
     "name": "stdout",
     "output_type": "stream",
     "text": [
      "Importing Jupyter notebook from LV1toLv2.ipynb\n",
      "Importing Jupyter notebook from RoundNumber.ipynb\n",
      "Importing Jupyter notebook from LV2toLv3.ipynb\n",
      "Importing Jupyter notebook from LV3toLv4.ipynb\n",
      "Importing Jupyter notebook from equipment.ipynb\n",
      "Importing Jupyter notebook from LV4toCalc.ipynb\n"
     ]
    },
    {
     "ename": "FileNotFoundError",
     "evalue": "[Errno 2] No such file or directory: 'C:/Users/serikawa/Documents/e7_inputdataconvert/DesignHouse.json'",
     "output_type": "error",
     "traceback": [
      "\u001b[1;31m---------------------------------------------------------------------------\u001b[0m",
      "\u001b[1;31mFileNotFoundError\u001b[0m                         Traceback (most recent call last)",
      "\u001b[1;32m<ipython-input-9-438a1956f015>\u001b[0m in \u001b[0;36m<module>\u001b[1;34m()\u001b[0m\n\u001b[0;32m     50\u001b[0m }\n\u001b[0;32m     51\u001b[0m \u001b[1;33m\u001b[0m\u001b[0m\n\u001b[1;32m---> 52\u001b[1;33m \u001b[0mconvert_input_for_calculation\u001b[0m\u001b[1;33m(\u001b[0m\u001b[0md_excel\u001b[0m\u001b[1;33m,\u001b[0m \u001b[0md_web\u001b[0m\u001b[1;33m)\u001b[0m\u001b[1;33m\u001b[0m\u001b[0m\n\u001b[0m",
      "\u001b[1;32m<ipython-input-8-26cf32fa7465>\u001b[0m in \u001b[0;36mconvert_input_for_calculation\u001b[1;34m(d_excel, d_web)\u001b[0m\n\u001b[0;32m     18\u001b[0m     \u001b[1;31m# 設計住戸の熱負荷計算用ファイルの書き出し\u001b[0m\u001b[1;33m\u001b[0m\u001b[1;33m\u001b[0m\u001b[0m\n\u001b[0;32m     19\u001b[0m     \u001b[1;32mimport\u001b[0m \u001b[0mLV4toCalc\u001b[0m \u001b[1;32mas\u001b[0m \u001b[0mmf_4_to_calc\u001b[0m\u001b[1;33m\u001b[0m\u001b[0m\n\u001b[1;32m---> 20\u001b[1;33m     \u001b[0moutput_design_house\u001b[0m\u001b[1;33m(\u001b[0m\u001b[0mmf_4_to_calc\u001b[0m\u001b[1;33m,\u001b[0m \u001b[0md4\u001b[0m\u001b[1;33m,\u001b[0m \u001b[0mequipment_main\u001b[0m\u001b[1;33m,\u001b[0m \u001b[0mequipment_other\u001b[0m\u001b[1;33m)\u001b[0m\u001b[1;33m\u001b[0m\u001b[0m\n\u001b[0m\u001b[0;32m     21\u001b[0m \u001b[1;33m\u001b[0m\u001b[0m\n\u001b[0;32m     22\u001b[0m     \u001b[1;31m# 基準値計算用住戸の熱負荷計算用ファイルの書き出し\u001b[0m\u001b[1;33m\u001b[0m\u001b[1;33m\u001b[0m\u001b[0m\n",
      "\u001b[1;32m<ipython-input-4-8b87e16942b4>\u001b[0m in \u001b[0;36moutput_design_house\u001b[1;34m(mf_4_to_calc, d4, equipment_main, equipment_other)\u001b[0m\n\u001b[0;32m      3\u001b[0m    \u001b[0md_calc\u001b[0m \u001b[1;33m=\u001b[0m \u001b[0mmf_4_to_calc\u001b[0m\u001b[1;33m.\u001b[0m\u001b[0mconvert\u001b[0m\u001b[1;33m(\u001b[0m\u001b[0md4\u001b[0m\u001b[1;33m,\u001b[0m \u001b[0mequipment_main\u001b[0m\u001b[1;33m,\u001b[0m \u001b[0mequipment_other\u001b[0m\u001b[1;33m)\u001b[0m\u001b[1;33m\u001b[0m\u001b[0m\n\u001b[0;32m      4\u001b[0m \u001b[1;33m\u001b[0m\u001b[0m\n\u001b[1;32m----> 5\u001b[1;33m    \u001b[1;32mwith\u001b[0m \u001b[0mopen\u001b[0m\u001b[1;33m(\u001b[0m\u001b[1;34m'C:/Users/serikawa/Documents/e7_inputdataconvert/DesignHouse.json'\u001b[0m\u001b[1;33m,\u001b[0m \u001b[1;34m'w'\u001b[0m\u001b[1;33m)\u001b[0m \u001b[1;32mas\u001b[0m \u001b[0mf_design\u001b[0m\u001b[1;33m:\u001b[0m\u001b[1;33m\u001b[0m\u001b[0m\n\u001b[0m\u001b[0;32m      6\u001b[0m        \u001b[0mjson\u001b[0m\u001b[1;33m.\u001b[0m\u001b[0mdump\u001b[0m\u001b[1;33m(\u001b[0m\u001b[0md_calc\u001b[0m\u001b[1;33m,\u001b[0m \u001b[0mf_design\u001b[0m\u001b[1;33m,\u001b[0m \u001b[0mindent\u001b[0m\u001b[1;33m=\u001b[0m\u001b[1;36m4\u001b[0m\u001b[1;33m)\u001b[0m\u001b[1;33m\u001b[0m\u001b[0m\n",
      "\u001b[1;31mFileNotFoundError\u001b[0m: [Errno 2] No such file or directory: 'C:/Users/serikawa/Documents/e7_inputdataconvert/DesignHouse.json'"
     ]
    }
   ],
   "source": [
    "d_excel = {\n",
    "    'InputLevel': 1,\n",
    "    'Region' : 6,\n",
    "    'InsulationType' : 'FloorIns',\n",
    "    'InsulationTypeBathroom' : 'NotInContactWithOutsideAir',\n",
    "    'URoof' : 0.24,\n",
    "    'UWall' : 0.53,\n",
    "    'UFloor' : 0.48,\n",
    "    'UFloorBathroom' : 0.48,\n",
    "    'UDoor' : 4.65,\n",
    "    'UW'    : 3.49,\n",
    "    'EtaDC' : 0.51,       \n",
    "    'EtaDH' : 0.51, \n",
    "    'IsInputFValue' : True, \n",
    "    'FValueC' : 0.9,\n",
    "    'FValueH' : 0.7,\n",
    "    'psi_entrance' : 1.8,\n",
    "    'psi_bathroom' : 1.8\n",
    "}\n",
    "\n",
    "d_web = {\n",
    "    'Common':{\n",
    "        'MainOccupantRoomFloorArea': 30.0,\n",
    "        'OtherOccupantRoomFloorArea': 30.0,\n",
    "        'TotalFloorArea': 90.0,\n",
    "        'HouseType': 'detached'\n",
    "    },\n",
    "    'CoolingAndHeating':{\n",
    "        'main' : {\n",
    "            'cooling':{\n",
    "                'type': 'convection',\n",
    "                'division': '（い）'\n",
    "            },\n",
    "            'heating':{\n",
    "                'type': 'convection',\n",
    "                'division': '（ろ）'\n",
    "            },\n",
    "        },\n",
    "        'other': {\n",
    "            'cooling':{\n",
    "                'type': 'convection',\n",
    "                'division': '（ろ）'\n",
    "            },\n",
    "            'heating':{\n",
    "                'type': 'radiation',\n",
    "                'r': 0.7\n",
    "            },\n",
    "        },\n",
    "    }\n",
    "}\n",
    "\n",
    "convert_input_for_calculation(d_excel, d_web)"
   ]
  },
  {
   "cell_type": "code",
   "execution_count": null,
   "metadata": {},
   "outputs": [],
   "source": []
  }
 ],
 "metadata": {
  "kernelspec": {
   "display_name": "Python 3",
   "language": "python",
   "name": "python3"
  },
  "language_info": {
   "codemirror_mode": {
    "name": "ipython",
    "version": 3
   },
   "file_extension": ".py",
   "mimetype": "text/x-python",
   "name": "python",
   "nbconvert_exporter": "python",
   "pygments_lexer": "ipython3",
   "version": "3.6.4"
  }
 },
 "nbformat": 4,
 "nbformat_minor": 2
}
