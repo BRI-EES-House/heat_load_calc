{
 "cells": [
  {
   "cell_type": "code",
   "execution_count": 1,
   "metadata": {},
   "outputs": [
    {
     "name": "stdout",
     "output_type": "stream",
     "text": [
      "Importing Jupyter notebook from nu.ipynb\n"
     ]
    }
   ],
   "source": [
    "import copy\n",
    "import math\n",
    "\n",
    "import nbimporter\n",
    "import nu\n",
    "import numpy"
   ]
  },
  {
   "cell_type": "markdown",
   "metadata": {},
   "source": [
    "# 外皮性能に関する基準値の設定条件"
   ]
  },
  {
   "cell_type": "markdown",
   "metadata": {},
   "source": [
    "## 1. 外皮性能に関する基準値の設定条件の概要"
   ]
  },
  {
   "cell_type": "markdown",
   "metadata": {},
   "source": [
    "基準値計算のための条件設定の主な考え方は、以下のとおり。  \n",
    "\n",
    "・外皮について、（極力）UA値、ηA値の基準値を満たすように、基準値計算用の住宅のU値（仕様規定の部位別U値に比例）と窓のη値を決定する。    \n",
    "・非現実的な設定は許容しない（例：窓の日射熱取得率が0未満）。"
   ]
  },
  {
   "cell_type": "markdown",
   "metadata": {},
   "source": [
    "#### 基準値計算の方法  \n",
    "①設計住戸の用途別面積を使用  \n",
    "　面積・長さ情報、用途別情報がない場合は推定。内壁情報は推定。   \n",
    "②設計住戸の面積を使用  \n",
    "　面積・長さ情報がない場合は推定。内壁情報は推定。   \n",
    "　用途別情報は、各部位の長さ・面積を室用途別の床面積に応じて各用途に割り当てる。   \n",
    "③基準値計算用住戸を想定  \n",
    "　用途別床面積・外皮面積より基準値計算用住戸を決定。  \n",
    "  \n",
    "#### プラン  \n",
    "①設計住戸  \n",
    "②各用途が各方位に面する。  \n",
    "③戸建は南側に居室。共同は南側に主居室、北側に他居室。  \n",
    "  \n",
    "#### 評価対象  \n",
    "①外皮性能  \n",
    "　プランは、周辺環境（隣棟・接道など）より決定される与条件とみなす  \n",
    "②室配置と外皮性能  \n",
    "③②同様  \n",
    "  \n",
    "#### 基準値計算用住戸の負荷の傾向の予想  \n",
    "①設計住戸の負荷に比較的近い傾向を示すと考えられる。  \n",
    "　プランによっては、基準値が大きめになる可能性がある。  \n",
    "　例えば、北側リビングで開口部が北側に集中している場合、  \n",
    "　断熱性能はUA値基準値を満たすように設定するが、  \n",
    "　日射熱取得性能は非現実的な開口部（η>1）を許容しないとすると、  \n",
    "　ηHが小さい条件で基準値計算をすることとなる可能性がある。  \n",
    "　また、暖房時間が長い主居室が北側になるので、基準値が大きめになる。  \n",
    "②暖房時間が長い主居室が南側のプランよりは負荷が大きく、  \n",
    "　北側のプランよりは負荷が小さくなると考えられる。  \n",
    "　開口部が北側に集中している場合、  \n",
    "　断熱性能はUA値基準値を満たすように設定するが、  \n",
    "　日射熱取得性能は非現実的な開口部（η>1）を許容しないとすると、  \n",
    "　ηHが小さい条件で基準値計算をすることとなる可能性がある。  \n",
    "③建物規模に応じて、概ね、負荷が決定される。  \n",
    "　比較的妥当な設計を行った場合の負荷となる。  \n",
    "　ηHの基準値を満たしやすい。  \n",
    "  \n",
    "#### 暖房の基準値を満たしやすい住戸の予想  \n",
    "①暖房室の部位の断熱性能を高くした住戸  \n",
    "　暖房室南側では、日射熱取得性能が高い住戸  \n",
    "②室配置・部位性能・面積の工夫により、暖房室の断熱性能・日射熱取得性能を優先的に高くした住戸  \n",
    "③②同様  \n",
    "  \n",
    "#### 入力情報LV1→LV2（面積・長さ情報の入力）  \n",
    "①以下の場合、用途別情報を入力すると基準値をクリアしやすい。  \n",
    "　－開口部面積率が標準住戸より小さい  \n",
    "　－同部位の性能に差がある（例：方位別に適切に窓を選定している。断熱の弱い壁が部分的にある。）  \n",
    "②①同様  \n",
    "③面積・長さ情報を入力する場合、適切な設計では相対的に基準値をクリアしやすい。  \n",
    "  \n",
    "#### 入力情報LV2→LV3（用途別情報の入力）  \n",
    "①同部位の性能が用途に依らない場合、用途別情報を入力する利点はない。  \n",
    "②用途別情報を入力する場合、適切な設計では相対的に基準値をクリアしやすい。  \n",
    "③②同様  "
   ]
  },
  {
   "cell_type": "markdown",
   "metadata": {},
   "source": [
    "## 2. 層構成の設定"
   ]
  },
  {
   "cell_type": "markdown",
   "metadata": {},
   "source": [
    "### 1) 外皮の構成等の設定"
   ]
  },
  {
   "cell_type": "markdown",
   "metadata": {},
   "source": [
    "#### Outline"
   ]
  },
  {
   "cell_type": "markdown",
   "metadata": {},
   "source": [
    "各部位のU値より壁体構成を与える。"
   ]
  },
  {
   "cell_type": "markdown",
   "metadata": {},
   "source": [
    "#### Class"
   ]
  },
  {
   "cell_type": "code",
   "execution_count": 2,
   "metadata": {},
   "outputs": [],
   "source": [
    "class Material:\n",
    "    \n",
    "    def __init__( self, name, thick, cond, spech ):\n",
    "        self.name   = name\n",
    "        self.thick  = thick   # thickness, m\n",
    "        self.cond   = cond    # thermal conductivity, W/mK\n",
    "        self.spech  = spech   # volumetric specific heat, J/LK\n",
    "    \n",
    "    def R( self ):\n",
    "        return self.thick / self.cond"
   ]
  },
  {
   "cell_type": "markdown",
   "metadata": {},
   "source": [
    "#### Function"
   ]
  },
  {
   "cell_type": "code",
   "execution_count": 3,
   "metadata": {},
   "outputs": [],
   "source": [
    "def convert_u_value_to_spec(structure, typeOfPart, U):\n",
    "    # structure as string : wood, steel, rc, other\n",
    "    # typeOfPart as string: ceiling, wall, floor, BoundaryCeiling, BoundaryWall, BoundaryFloor\n",
    "    # U: heat transfer coefficient (W/m2K)\n",
    "    s = structure\n",
    "    t = typeOfPart\n",
    "    R = 1 / U\n",
    "    \n",
    "    Ro, Ri = {\n",
    "        'Ceiling'         : ( 0.040, 0.090 ),\n",
    "        'Wall'            : ( 0.040, 0.110 ),\n",
    "        'Floor'           : ( 0.040, 0.150 ),\n",
    "        'BoundaryCeiling' : ( 0.090, 0.090 ),\n",
    "        'BoundaryWall'    : ( 0.110, 0.110 ),\n",
    "        'BoundaryFloor'   : ( 0.150, 0.150 )\n",
    "    }[t]\n",
    "    \n",
    "    mGypsum   = Material( name = 'GPB', thick = 0.0095, cond = 0.22, spech =  830.0 )\n",
    "    mPlywood  = Material( name = 'PED', thick = 0.012,  cond = 0.16, spech =  720.0 )\n",
    "    mConcrete = Material( name = 'RC',  thick = 0.120,  cond = 1.60, spech = 2000.0 )\n",
    "    \n",
    "    ins_name, ins_cond, ins_spech = 'GW16K', 0.045, 13.0\n",
    "    \n",
    "    def d( m ):\n",
    "        return ( math.floor( max(0,( R -( Ro + m.R() + Ri )) * ins_cond ) * 1000 ) ) / 1000\n",
    "    \n",
    "    if ( s == 'Wood' or s == 'Steel' or s == 'Other' ):\n",
    "        m = {\n",
    "            'Ceiling'         : mGypsum,\n",
    "            'Wall'            : mGypsum,\n",
    "            'Floor'           : mPlywood,\n",
    "            'BoundaryWall'    : mGypsum,\n",
    "            'BoundaryFloor'   : mPlywood,\n",
    "            'BoundaryCeiling' : mGypsum,\n",
    "        }[t]\n",
    "        Layer= [ Material( name = ins_name, thick = d(m), cond = ins_cond, spech = ins_spech ), m ]\n",
    "    elif s == 'RC':\n",
    "        m = mConcrete\n",
    "        Layer= [ m, Material( name = ins_name, thick = d(m), cond = ins_cond, spech = ins_spech ) ]    \n",
    "    else:\n",
    "        raise ValueError\n",
    "        \n",
    "    return Layer"
   ]
  },
  {
   "cell_type": "markdown",
   "metadata": {},
   "source": [
    "### 2) 内壁等の構成等の設定"
   ]
  },
  {
   "cell_type": "markdown",
   "metadata": {},
   "source": [
    "#### Outline"
   ]
  },
  {
   "cell_type": "markdown",
   "metadata": {},
   "source": [
    "内壁構成\n",
    "\n",
    "| 材料 | 厚さ, m | 熱伝導率, W m<sup>-1</sup> K<sup>-1</sup> | 熱抵抗, m<sup>2</sup>2 k W<sup>-1</sup> | 容積比熱, J L<sup>-1</sup> K<sup>-1</sup> |\n",
    "|---|---|---|---|---|\n",
    "| Ro | - | - | 0.090 | 0 |\n",
    "| せっこうボード | 0.0095 | 0.22 | 0.043 | 830 |\n",
    "| 非密閉空気層 |  |  | 0.090 | 0 |\n",
    "| せっこうボード | 0.0095 | 0.22 | 0.043 | 830 |\n",
    "| Ri | - | - | 0.090 | 0 |"
   ]
  },
  {
   "cell_type": "markdown",
   "metadata": {},
   "source": [
    "#### Function"
   ]
  },
  {
   "cell_type": "code",
   "execution_count": 4,
   "metadata": {},
   "outputs": [],
   "source": [
    "def get_innerwall( ) :\n",
    "\n",
    "    return {\n",
    "        'Name'      : 'Innerwall',\n",
    "        'Type'      : 'InnerWall',\n",
    "        'Direction' : 'Vertical',\n",
    "        'Layers'    : [ \n",
    "            {'Name': 'GPB', 'Cond': 0.22, 'Thick': 0.0125, 'SpecH': 830.0},\n",
    "            {'Name': 'GPB', 'Cond': 1/0.09, 'Thick': 1, 'SpecH': 0},\n",
    "            {'Name': 'GPB', 'Cond': 0.22, 'Thick': 0.0125, 'SpecH': 830.0}\n",
    "        ]\n",
    "    }"
   ]
  },
  {
   "cell_type": "markdown",
   "metadata": {},
   "source": [
    "## 3. 面積の設定"
   ]
  },
  {
   "cell_type": "markdown",
   "metadata": {},
   "source": [
    "### 1) 用途別床面積を取得する関数"
   ]
  },
  {
   "cell_type": "markdown",
   "metadata": {},
   "source": [
    "#### Outline"
   ]
  },
  {
   "cell_type": "markdown",
   "metadata": {},
   "source": [
    "延床面積、主たる居室の床面積、その他の居室の床面積より、非居室の床面積を算出する。"
   ]
  },
  {
   "cell_type": "markdown",
   "metadata": {},
   "source": [
    "#### Function"
   ]
  },
  {
   "cell_type": "code",
   "execution_count": 5,
   "metadata": {},
   "outputs": [],
   "source": [
    "def get_area_floor( d ):\n",
    "    return {\n",
    "        'main': d['Common']['MainOccupantRoomFloorArea'],\n",
    "        'other': d['Common']['OtherOccupantRoomFloorArea'],\n",
    "        'nonliving': d['Common']['TotalFloorArea'] - d['Common']['MainOccupantRoomFloorArea'] - d['Common']['OtherOccupantRoomFloorArea']\n",
    "    }"
   ]
  },
  {
   "cell_type": "markdown",
   "metadata": {},
   "source": [
    "### 2) 総外皮面積に対する開口部比率、方位別の開口部比率"
   ]
  },
  {
   "cell_type": "markdown",
   "metadata": {},
   "source": [
    "#### Outline"
   ]
  },
  {
   "cell_type": "markdown",
   "metadata": {},
   "source": [
    "総外皮面積に対する開口部比率\n",
    "\n",
    "| 建て方 | 総外皮面積に対する開口部比率 |\n",
    "|---|---|\n",
    "| 戸建 | 11％ |\n",
    "| 共同 | 7％ |\n",
    "\n",
    "方位別の開口部比率\n",
    "\n",
    "| 建て方 | 北 | 南 | 東 | 西 |\n",
    "|---|---|---|---|---|\n",
    "| 戸建 | 11.0％ | 68.6％ | 13.2％ | 7.2％ |\n",
    "| 共同 | 21.5％ | 63.3％ | 0.0％ | 15.2％ |"
   ]
  },
  {
   "cell_type": "markdown",
   "metadata": {},
   "source": [
    "#### Function"
   ]
  },
  {
   "cell_type": "code",
   "execution_count": 6,
   "metadata": {},
   "outputs": [],
   "source": [
    "# 開口部比率, -\n",
    "def get_ratio_window( HouseType ) :\n",
    "    \n",
    "    ratio_window ={\n",
    "        'detached': {\n",
    "            'total': 0.11, \n",
    "            'direction':{ 'Top':0.000, 'N':0.110, 'S':0.686, 'E':0.132, 'W':0.072 }\n",
    "        }, \n",
    "        'condominium': { \n",
    "            'total': 0.07, \n",
    "            'direction':{ 'Top':0.000, 'N':0.215, 'S':0.633, 'E':0.000, 'W':0.152 }\n",
    "        }\n",
    "    }\n",
    "    \n",
    "    return ratio_window[HouseType]"
   ]
  },
  {
   "cell_type": "markdown",
   "metadata": {},
   "source": [
    "### 3) 方位別の開口部面積の設定"
   ]
  },
  {
   "cell_type": "markdown",
   "metadata": {},
   "source": [
    "#### Outline"
   ]
  },
  {
   "cell_type": "markdown",
   "metadata": {},
   "source": [
    "総外皮面積、相外皮面積に対する開口部比率、方位別の開口部比率より、方位別の開口部面積を設定する。  \n",
    "ただし、ここで設定するのは暫定値であり、建て方別に、各方位の外皮面積を上限とした調整を行う。"
   ]
  },
  {
   "cell_type": "markdown",
   "metadata": {},
   "source": [
    "$$\n",
    "\\displaystyle\n",
    "A_w= A_{total} \\times r_w\n",
    "$$\n",
    "\n",
    "$$\n",
    "\\displaystyle\n",
    "A_{w,j}= A_w \\times r_{w,j}\n",
    "$$"
   ]
  },
  {
   "cell_type": "markdown",
   "metadata": {},
   "source": [
    "$r_{w}$: 総外皮面積に対する開口部比率, -  \n",
    "$r_{w,j}$: 方位jの開口部比率, -  \n",
    "$A_{w}$: 開口部面積, m<sup>2</sup>  \n",
    "$A_{w,j}$: 方位jの開口部面積, m<sup>2</sup>  \n",
    "$A_{total}$: 総外皮面積, m<sup>2</sup>  "
   ]
  },
  {
   "cell_type": "markdown",
   "metadata": {},
   "source": [
    "#### Function"
   ]
  },
  {
   "cell_type": "code",
   "execution_count": 7,
   "metadata": {},
   "outputs": [],
   "source": [
    "def get_area_windows( HouseType, area_total_skin ) :\n",
    "\n",
    "    # 開口部比率, -\n",
    "    ratio_window = get_ratio_window( HouseType )\n",
    "    \n",
    "    # 開口部面積, m\n",
    "    area_window = ratio_window['total'] * area_total_skin\n",
    "    area_windows = { x : area_window * ratio_window['direction'][x] for x in ratio_window['direction'].keys()}\n",
    "    \n",
    "    return area_windows"
   ]
  },
  {
   "cell_type": "markdown",
   "metadata": {},
   "source": [
    "### 4) 方位別の開口部面積の調整"
   ]
  },
  {
   "cell_type": "markdown",
   "metadata": {},
   "source": [
    "#### Outline"
   ]
  },
  {
   "cell_type": "markdown",
   "metadata": {},
   "source": [
    "方位別の開口部面積について、各方位の外皮面積を上限とした調整を行う。  \n",
    "開口部面積の大きい方位より順に、各方位の外皮面積を上回る開口部面積を割り付ける。"
   ]
  },
  {
   "cell_type": "code",
   "execution_count": 8,
   "metadata": {},
   "outputs": [],
   "source": [
    "# 窓面積の調整\n",
    "def adjust_window_area( area_windows_pre, priority ):\n",
    "\n",
    "    area_adjust = 0\n",
    "    area_windows = {}\n",
    "    for i in range(0,5):\n",
    "        area_windows[priority[i]['Direction']] = min( area_adjust + area_windows_pre[priority[i]['Direction']], priority[i]['AreaMax'] )\n",
    "        area_adjust = max( 0, area_adjust + area_windows_pre[priority[i]['Direction']] - priority[i]['AreaMax'] )\n",
    "\n",
    "    return area_windows"
   ]
  },
  {
   "cell_type": "code",
   "execution_count": 9,
   "metadata": {},
   "outputs": [
    {
     "name": "stdout",
     "output_type": "stream",
     "text": [
      "{'S': 8, 'E': 8, 'N': 7, 'W': 7, 'Top': 9}\n"
     ]
    }
   ],
   "source": [
    "area_windows = {'S':10,'N':5,'E':18,'W':6,'Top':0}\n",
    "\n",
    "area_windows = adjust_window_area( area_windows, \n",
    "                                  [{'Direction':'S','AreaMax':8},\n",
    "                                   {'Direction':'E','AreaMax':8},\n",
    "                                   {'Direction':'N','AreaMax':7},\n",
    "                                   {'Direction':'W','AreaMax':7},\n",
    "                                   {'Direction':'Top','AreaMax':10}] )\n",
    "    \n",
    "print( area_windows )"
   ]
  },
  {
   "cell_type": "markdown",
   "metadata": {},
   "source": [
    "### 5) 外壁・開口部・内壁のリスト作成"
   ]
  },
  {
   "cell_type": "markdown",
   "metadata": {},
   "source": [
    "#### Outline"
   ]
  },
  {
   "cell_type": "markdown",
   "metadata": {},
   "source": [
    "各部位の面積をもとに、外壁・開口部・内壁のリストを作成する。"
   ]
  },
  {
   "cell_type": "markdown",
   "metadata": {},
   "source": [
    "#### Function1"
   ]
  },
  {
   "cell_type": "markdown",
   "metadata": {},
   "source": [
    "外壁のリスト作成"
   ]
  },
  {
   "cell_type": "code",
   "execution_count": 10,
   "metadata": {},
   "outputs": [],
   "source": [
    "def get_list_wall( area_Walls ) :\n",
    "\n",
    "    correspondence = {\n",
    "        'type':{ 'Ceiling':'Ceiling', 'Floor':'Floor', 'WallN':'Wall', 'WallS':'Wall', 'WallE':'Wall', 'WallW':'Wall' },\n",
    "        'direction':{ 'Ceiling':'Top', 'Floor':'Bottom', 'WallN':'N', 'WallS':'S', 'WallE':'E', 'WallW':'W' }\n",
    "    }\n",
    "    \n",
    "    d = []    \n",
    "    for x in area_Walls.keys() :\n",
    "        for y in area_Walls[x].keys() :\n",
    "            if area_Walls[x][y] > 0 :\n",
    "                d.append({\n",
    "                    'name': x + '_' + y,\n",
    "                    'area': area_Walls[x][y],\n",
    "                    'space': y,\n",
    "                    'type':correspondence['type'][x],\n",
    "                    'direction':correspondence['direction'][x],\n",
    "                    'structure': 'Wood'})\n",
    "    \n",
    "    return d"
   ]
  },
  {
   "cell_type": "markdown",
   "metadata": {},
   "source": [
    "#### Function2"
   ]
  },
  {
   "cell_type": "markdown",
   "metadata": {},
   "source": [
    "開口部のリスト作成"
   ]
  },
  {
   "cell_type": "code",
   "execution_count": 11,
   "metadata": {},
   "outputs": [],
   "source": [
    "def get_list_window( area_Windows ) :\n",
    "    \n",
    "    d = []    \n",
    "    for x in area_Windows.keys() :\n",
    "        for y in area_Windows[x].keys() :\n",
    "            if area_Windows[x][y] > 0 :\n",
    "                d.append({\n",
    "                    'name': x + '_' + y,\n",
    "                    'area': area_Windows[x][y],\n",
    "                    'space': y,\n",
    "                    'type': 'Window',\n",
    "                    'direction':x})\n",
    "    return d"
   ]
  },
  {
   "cell_type": "markdown",
   "metadata": {},
   "source": [
    "#### Function3"
   ]
  },
  {
   "cell_type": "markdown",
   "metadata": {},
   "source": [
    "内壁のリスト作成"
   ]
  },
  {
   "cell_type": "code",
   "execution_count": 12,
   "metadata": {},
   "outputs": [],
   "source": [
    "def get_list_innerwall( area_InnerWalls ) :\n",
    "    \n",
    "    d = []    \n",
    "    for x in area_InnerWalls.keys() :\n",
    "        if area_InnerWalls[x] > 0 :\n",
    "            d.append({\n",
    "                'name': 'InnerWall_' + x ,\n",
    "                'area': area_InnerWalls[x],\n",
    "                'space': x,\n",
    "                'type': 'InnerWall'})\n",
    "\n",
    "    return d"
   ]
  },
  {
   "cell_type": "markdown",
   "metadata": {},
   "source": [
    "#### Function4"
   ]
  },
  {
   "cell_type": "markdown",
   "metadata": {},
   "source": [
    "外壁・開口部・内壁のリストの統合"
   ]
  },
  {
   "cell_type": "code",
   "execution_count": 13,
   "metadata": {},
   "outputs": [],
   "source": [
    "def get_list( area ) :\n",
    "    \n",
    "    d = {}\n",
    "    d['Walls'] = get_list_wall( area['Walls'] )\n",
    "    d['Windows'] = get_list_window( area['Windows'] )\n",
    "    d['InnerWalls'] = get_list_innerwall( area['InnerWalls'] )\n",
    "    \n",
    "    return d"
   ]
  },
  {
   "cell_type": "markdown",
   "metadata": {},
   "source": [
    "### 6) 基準値計算用の住宅の幾何形状の決定"
   ]
  },
  {
   "cell_type": "markdown",
   "metadata": {},
   "source": [
    "#### Outline"
   ]
  },
  {
   "cell_type": "markdown",
   "metadata": {},
   "source": [
    "戸建住宅、共同住宅別に階高、階数を設定し、総外皮面積と床面積が設計住戸と等しくなるような直方体の住宅の幾何形状を決定する。  \n",
    "ただし、以下の場合には、調整を行う。  \n",
    "　設計住戸の総外皮面積が比較的小さく、総外皮面積と床面積が設計住戸に等しいという条件を満たす幾何形状を決定できない場合  \n",
    "　基準値計算用の住戸の平面のアスペクト比が上限値を超える場合"
   ]
  },
  {
   "cell_type": "markdown",
   "metadata": {},
   "source": [
    "建物高を各階の階高の合計値とする。"
   ]
  },
  {
   "cell_type": "markdown",
   "metadata": {},
   "source": [
    "$$\n",
    "\\displaystyle\n",
    "h = \\sum_{n}{h_n}\n",
    "$$"
   ]
  },
  {
   "cell_type": "markdown",
   "metadata": {},
   "source": [
    "$h$: 建物高, m  \n",
    "$h_n$: $n$階の階高, m  \n",
    "$n$: 階数, -  "
   ]
  },
  {
   "cell_type": "markdown",
   "metadata": {},
   "source": [
    "基準値計算用の住宅の総外皮面積を、設計住戸の総外皮面積、もしくは、正方形プランを仮定した総外皮面積の大きい方とする。"
   ]
  },
  {
   "cell_type": "markdown",
   "metadata": {},
   "source": [
    "![image.png](attachment:image.png)"
   ]
  },
  {
   "cell_type": "markdown",
   "metadata": {},
   "source": [
    "$$\n",
    "\\displaystyle\n",
    "A_{total skin}= \\max \\left( A_{total skin,design}, \\frac{ 2 \\times A_{floor}}{ n } +  4 \\times h \\times　\\sqrt{ \\frac{ A_{floor} }{ n }} \\right)\n",
    "$$"
   ]
  },
  {
   "cell_type": "markdown",
   "metadata": {},
   "source": [
    "$A_{floor}$: 延床皮面積, m<sup>2</sup>  \n",
    "$A_{total skin}$: 基準値計算用の住宅の総外皮面積, m<sup>2</sup>  \n",
    "$A_{total skin,design}$: 設計住戸の総外皮面積, m<sup>2</sup>  \n",
    "$h$: 建物高, m  \n",
    "$n$: 階数, -  "
   ]
  },
  {
   "cell_type": "markdown",
   "metadata": {},
   "source": [
    "周長を、総外皮面積、延床面積、建物高、階数より算出する。  \n",
    "短辺・長辺の長さを、周長、延床面積、階数、アスペクト比の上限値より算出する。"
   ]
  },
  {
   "cell_type": "markdown",
   "metadata": {},
   "source": [
    "$$\n",
    "\\displaystyle\n",
    "l_{circumference}= \\frac{A_{totalskin}- 2 \\times \\frac{ A_{floor}}{ n }}{h}\n",
    "$$\n",
    "$$\n",
    "\\displaystyle\n",
    "l_{narrow}= \\max \\left( \\frac {l_{circumference}}{ 2 \\times (1+r_{aspect,max})}, \\frac{l_{circumference} - \\sqrt{l_{circumference}^2 - 16 \\times \\frac{ A_{floor} }{ n }}}{4} \\right)\n",
    "$$\n",
    "$$\n",
    "\\displaystyle\n",
    "l_{long}= \\frac{l_{circumference} - 2 \\times l_{narrow}}{2}\n",
    "$$"
   ]
  },
  {
   "cell_type": "markdown",
   "metadata": {},
   "source": [
    "$l_{circumference}$: 周長, m  \n",
    "$l_{narrow}$: 短辺長さ, m  \n",
    "$l_{long}$: 長辺長さ, m  \n",
    "$A_{floor}$: 延床皮面積, m<sup>2</sup>  \n",
    "$A_{total skin}$: 基準値計算用の住宅の総外皮面積, m<sup>2</sup>  \n",
    "$r_{aspect,max}$: アスペクト比の上限値（2とする）, -  \n",
    "$n$: 階数, -  "
   ]
  },
  {
   "cell_type": "markdown",
   "metadata": {},
   "source": [
    "アスペクト比を上限値により調整している場合に、面積算出用の床面積の調整を行うため、調整係数を算出する。"
   ]
  },
  {
   "cell_type": "markdown",
   "metadata": {},
   "source": [
    "$$\n",
    "\\displaystyle\n",
    "r_{area,floor}= \\frac{ n \\times l_{narrow} \\times l_{long} }{ A_{floor} }\n",
    "$$"
   ]
  },
  {
   "cell_type": "markdown",
   "metadata": {},
   "source": [
    "$l_{narrow}$: 短辺長さ, m  \n",
    "$l_{long}$: 長辺長さ, m  \n",
    "$A_{floor}$: 延床皮面積, m<sup>2</sup>  \n",
    "$n$: 階数, -  \n",
    "$r_{area,floor}$: アスペクト比を上限値により調整している場合に、面積算出用の床面積の調整を行うための調整係数, -  "
   ]
  },
  {
   "cell_type": "markdown",
   "metadata": {},
   "source": [
    "#### Function"
   ]
  },
  {
   "cell_type": "code",
   "execution_count": 14,
   "metadata": {},
   "outputs": [],
   "source": [
    "def get_geometry(d, area_floor) :\n",
    "    \n",
    "    # 階高の設定\n",
    "    floor_height ={ 'detached' : [ 2.9, 2.7 ], 'condominium' : [ 2.8 ] }[d['Common']['HouseType']]\n",
    "    \n",
    "    # 階数の設定\n",
    "    n = { 'detached': 2, 'condominium': 1 }[d['Common']['HouseType']]\n",
    "        \n",
    "    # 建物高の算出\n",
    "    height=sum( x for x in floor_height )\n",
    "    \n",
    "    # 基準住戸の総外皮面積の算出\n",
    "    area_total_skin_min=2*(d['Common']['TotalFloorArea']/n)+4*height*(d['Common']['TotalFloorArea']/n)**0.5\n",
    "    area_total_skin=max( area_total_skin_min, d['Common']['TotalOuterSkinArea'] )\n",
    "    \n",
    "    # 周長の算出\n",
    "    length_circumference=(area_total_skin-(2*d['Common']['TotalFloorArea']/n))/height\n",
    "    \n",
    "    # アスペクト比の上限値の設定    \n",
    "    ratio_aspect_max=2\n",
    "    \n",
    "    # 短辺・長辺長さの算出\n",
    "    length_narrow=max(length_circumference/((1+ratio_aspect_max)*2),\n",
    "                      (length_circumference-max( 0, length_circumference**2-16*d['Common']['TotalFloorArea']/n )**0.5)/4)\n",
    "    length_long=(length_circumference-length_narrow*2)/2\n",
    "    \n",
    "    # アスペクト比を上限値により調整している場合、面積算出用の床面積の調整\n",
    "    area_floor_r = { x : (area_floor[x] * length_narrow * length_long * n / d['Common']['TotalFloorArea']) for x in area_floor.keys()}\n",
    "\n",
    "    return n, height, floor_height, area_total_skin, length_narrow, length_long, area_floor_r"
   ]
  },
  {
   "cell_type": "markdown",
   "metadata": {},
   "source": [
    "### 7) 戸建住宅の面積の算出"
   ]
  },
  {
   "cell_type": "markdown",
   "metadata": {},
   "source": [
    "#### Outline"
   ]
  },
  {
   "cell_type": "markdown",
   "metadata": {},
   "source": [
    "戸建住宅の各部位の面積を、以下の場合に応じて、算出する。  \n",
    "　主たる居室とその他の居室の床面積が等しい場合：北側を非居室、南側の1階を主たる居室、2階をその他の居室とする  \n",
    "　主たる居室の床面積がその他の居室の床面積より大きい場合：北側を非居室、2階の南西をその他の居室とする  \n",
    "　主たる居室の床面積がその他の居室の床面積より小さい場合：北側を非居室、1階の南東を主たる居室とする  "
   ]
  },
  {
   "cell_type": "markdown",
   "metadata": {},
   "source": [
    "#### Function1"
   ]
  },
  {
   "cell_type": "markdown",
   "metadata": {},
   "source": [
    "主たる居室とその他の居室の床面積が等しい場合：南側の1階を主たる居室、2階をその他の居室とする\n",
    "\n",
    "![image.png](attachment:image.png)"
   ]
  },
  {
   "cell_type": "code",
   "execution_count": 15,
   "metadata": {},
   "outputs": [],
   "source": [
    "# 戸建住宅の面積算出\n",
    "# 南側1階主たる居室、2階その他の居室\n",
    "def get_area_detached_main_equal_to_other ( area_floor_r, ratio_floor_r, height, floor_height, ratio_floor_height, \\\n",
    "                                            length_long, length_narrow, length_NS_n, ratio_length_NS_n, area_NS, area_windows ) :\n",
    "\n",
    "    area={}\n",
    "    \n",
    "    # 窓面積\n",
    "    # 北窓は非居室\n",
    "    # 南窓は1階主たる居室、南側2階その他の居室\n",
    "    # 東窓・西窓は北側非居室、南側1階主たる居室、2階その他の居室\n",
    "    area['Windows']={\n",
    "        'N' : {\n",
    "            'main'      : 0,\n",
    "            'other'     : 0,\n",
    "            'nonliving' : area_windows['N']\n",
    "        },\n",
    "        'S' : {\n",
    "            'main'      : area_windows['S'] * ratio_floor_height[0] ,\n",
    "            'other'     : area_windows['S'] * ratio_floor_height[1] ,\n",
    "            'nonliving' : 0\n",
    "        },\n",
    "        'E' : {\n",
    "            'main'      : area_windows['E'] * ( 1 - ratio_length_NS_n ) * ratio_floor_height[0] ,\n",
    "            'other'     : area_windows['E'] * ( 1 - ratio_length_NS_n ) * ratio_floor_height[1] ,\n",
    "            'nonliving' : area_windows['E'] * ratio_length_NS_n\n",
    "        },\n",
    "        'W' : {\n",
    "            'main'      : area_windows['W'] * ( 1 - ratio_length_NS_n ) * ratio_floor_height[0] ,\n",
    "            'other'     : area_windows['W'] * ( 1 - ratio_length_NS_n ) * ratio_floor_height[1] ,\n",
    "            'nonliving' : area_windows['W'] * ratio_length_NS_n\n",
    "        },\n",
    "        'Top' : {\n",
    "            'main'      : 0,\n",
    "            'other'     : area_windows['Top'] * ( 1 - ratio_length_NS_n ),\n",
    "            'nonliving' : area_windows['Top'] * ratio_length_NS_n\n",
    "        }\n",
    "    }\n",
    "\n",
    "    # 外壁面積\n",
    "    area['Walls']={\n",
    "        'Ceiling' : {\n",
    "            'main'      : 0,\n",
    "            'other'     : (length_narrow - length_NS_n) * length_long / ratio_floor_r - area['Windows']['Top']['other'],\n",
    "            'nonliving' : length_NS_n * length_long / ratio_floor_r - area['Windows']['Top']['nonliving']\n",
    "        },\n",
    "        'Floor' : {\n",
    "            'main'      : (length_narrow - length_NS_n) * length_long / ratio_floor_r,\n",
    "            'other'     : 0,\n",
    "            'nonliving' : length_NS_n * length_long / ratio_floor_r\n",
    "        },\n",
    "        'WallN': {\n",
    "            'main'      : 0,\n",
    "            'other'     : 0,\n",
    "            'nonliving' : area_NS - area['Windows']['N']['nonliving']\n",
    "        },\n",
    "        'WallS': {\n",
    "            'main'      : length_long * floor_height[0] - area['Windows']['S']['main'],\n",
    "            'other'     : length_long * floor_height[1] - area['Windows']['S']['other'],\n",
    "            'nonliving' : 0\n",
    "        },\n",
    "        'WallE': {\n",
    "            'main'      : ( length_narrow - length_NS_n ) * floor_height[0] - area['Windows']['E']['main'],\n",
    "            'other'     : ( length_narrow - length_NS_n ) * floor_height[1] - area['Windows']['E']['other'],\n",
    "            'nonliving' : length_NS_n * height - area['Windows']['E']['nonliving']\n",
    "        },\n",
    "        'WallW': {\n",
    "            'main'      : ( length_narrow - length_NS_n ) * floor_height[0] - area['Windows']['W']['main'],\n",
    "            'other'     : ( length_narrow - length_NS_n ) * floor_height[1]- area['Windows']['W']['other'],\n",
    "            'nonliving' : length_NS_n * height - area['Windows']['W']['nonliving']                    \n",
    "        }\n",
    "    }\n",
    "\n",
    "    # 内壁面積\n",
    "    area['InnerWalls']={\n",
    "        'main to other'      : length_long * ( length_narrow - length_NS_n ) ,\n",
    "        'main to lonliving'  : length_long * floor_height[0] ,\n",
    "        'other to nonliving' : length_long * floor_height[1] \n",
    "    }\n",
    "\n",
    "    return area"
   ]
  },
  {
   "cell_type": "markdown",
   "metadata": {},
   "source": [
    "#### Function2"
   ]
  },
  {
   "cell_type": "markdown",
   "metadata": {},
   "source": [
    "主たる居室の床面積がその他の居室の床面積より大きい場合：北側を非居室、2階の南西をその他の居室とする\n",
    "\n",
    "![image.png](attachment:image.png)"
   ]
  },
  {
   "cell_type": "code",
   "execution_count": 16,
   "metadata": {},
   "outputs": [],
   "source": [
    "# 戸建住宅の面積算出\n",
    "# 2階南西その他の居室\n",
    "def get_area_detached_main_larger_than_other ( area_floor_r, ratio_floor_r, height, floor_height, ratio_floor_height, \\\n",
    "                                            length_long, length_narrow, length_NS_n, ratio_length_NS_n, area_NS, area_windows ) :\n",
    "    \n",
    "    length_EW_o= area_floor_r['other'] / ( length_narrow - length_NS_n )\n",
    " \n",
    "    area={}\n",
    "    \n",
    "    # 窓面積\n",
    "    # 北窓は非居室\n",
    "    # 南窓は2階南西その他の居室、他は主たる居室、\n",
    "    # 東窓は北側非居室、南側主たる居室\n",
    "    # 西窓は北側非居室、南側1階主たる居室、南側2階その他の居室\n",
    "    area['Windows']={\n",
    "        'N' : {\n",
    "            'main'      : 0,\n",
    "            'other'     : 0,\n",
    "            'nonliving' : area_windows['N']\n",
    "        },\n",
    "        'S' : {\n",
    "            'main'      : area_windows['S'] * (1 - length_EW_o * floor_height[1]/ area_NS) ,\n",
    "            'other'     : area_windows['S'] * (length_EW_o * floor_height[1])/ area_NS ,\n",
    "            'nonliving' : 0\n",
    "        },\n",
    "        'E' : {\n",
    "            'main'      : area_windows['E'] * ( 1 - ratio_length_NS_n ),\n",
    "            'other'     : 0,\n",
    "            'nonliving' : area_windows['E'] * ratio_length_NS_n\n",
    "        },\n",
    "        'W' : {\n",
    "            'main'      : area_windows['W'] * ( 1 - ratio_length_NS_n ) * ratio_floor_height[0] ,\n",
    "            'other'     : area_windows['W'] *  ( 1 - ratio_length_NS_n ) * ratio_floor_height[1] ,\n",
    "            'nonliving' : area_windows['W'] * ratio_length_NS_n\n",
    "        },\n",
    "        'Top' : {\n",
    "            'main'      : area_windows['Top'] * ( 1 - ratio_length_NS_n ) * ( 1 - length_EW_o/length_long ),\n",
    "            'other'     : area_windows['Top'] * ( 1 - ratio_length_NS_n ) * ( length_EW_o/length_long ),\n",
    "            'nonliving' : area_windows['Top'] * ratio_length_NS_n\n",
    "        }\n",
    "    }\n",
    "\n",
    "    # 外壁面積\n",
    "    area['Walls']={\n",
    "        'Ceiling' : {\n",
    "            'main'      : (length_narrow - length_NS_n) * (length_long - length_EW_o) / ratio_floor_r - area['Windows']['Top']['main'],\n",
    "            'other'     : (length_narrow - length_NS_n) * length_EW_o / ratio_floor_r - area['Windows']['Top']['other'],\n",
    "            'nonliving' : length_NS_n * length_long / ratio_floor_r - area['Windows']['Top']['nonliving']\n",
    "        },\n",
    "        'Floor' : {\n",
    "            'main'      : (length_narrow - length_NS_n) * length_long / ratio_floor_r,\n",
    "            'other'     : 0,\n",
    "            'nonliving' : length_NS_n * length_long / ratio_floor_r\n",
    "        },\n",
    "        'WallN': {\n",
    "            'main'      : 0,\n",
    "            'other'     : 0,\n",
    "            'nonliving' : area_NS - area['Windows']['N']['nonliving']\n",
    "        },\n",
    "        'WallS': {\n",
    "            'main'      : (area_NS - length_EW_o * floor_height[1]) - area['Windows']['S']['main'],\n",
    "            'other'     : length_EW_o * floor_height[1] - area['Windows']['S']['other'],\n",
    "            'nonliving' : 0\n",
    "        },\n",
    "        'WallE': {\n",
    "            'main'      : ( length_narrow - length_NS_n ) * height - area['Windows']['E']['main'],\n",
    "            'other'     : 0,\n",
    "            'nonliving' : length_NS_n * height - area['Windows']['E']['nonliving']\n",
    "        },\n",
    "        'WallW': {\n",
    "            'main'      : ( length_narrow - length_NS_n ) * floor_height[0] - area['Windows']['W']['main'],\n",
    "            'other'     : ( length_narrow - length_NS_n ) * floor_height[1]- area['Windows']['W']['other'],\n",
    "            'nonliving' : length_NS_n * height - area['Windows']['W']['nonliving']                    \n",
    "        }\n",
    "    }\n",
    "\n",
    "    # 内壁面積\n",
    "    area['InnerWalls']={\n",
    "        'main to other'      : ( length_narrow - length_NS_n ) * floor_height[1] + ( length_narrow - length_NS_n ) * length_EW_o ,\n",
    "        'main to lonliving'  : area_NS - length_EW_o * floor_height[1] ,\n",
    "        'other to nonliving' : length_EW_o * floor_height[1] \n",
    "    }\n",
    "\n",
    "    return area"
   ]
  },
  {
   "cell_type": "markdown",
   "metadata": {},
   "source": [
    "#### Function3"
   ]
  },
  {
   "cell_type": "markdown",
   "metadata": {},
   "source": [
    "主たる居室の床面積がその他の居室の床面積より小さい場合：北側を非居室、1階の南東を主たる居室とする\n",
    "\n",
    "![image.png](attachment:image.png)"
   ]
  },
  {
   "cell_type": "code",
   "execution_count": 17,
   "metadata": {},
   "outputs": [],
   "source": [
    "# 戸建住宅の面積算出\n",
    "# 1階南東主たる居室\n",
    "def get_area_detached_main_smaller_than_other ( area_floor_r, ratio_floor_r, height, floor_height, ratio_floor_height, \\\n",
    "                                            length_long, length_narrow, length_NS_n, ratio_length_NS_n, area_NS, area_windows ) :\n",
    "    \n",
    "    length_EW_m= area_floor_r['main'] / ( length_narrow - length_NS_n )\n",
    " \n",
    "    area={}\n",
    "    \n",
    "    # 窓面積\n",
    "    # 北窓は非居室\n",
    "    # 南窓は1階南東主たる居室、他はその他の居室、\n",
    "    # 東窓は北側非居室、南側1階主たる居室、南側2階その他の居室\n",
    "    # 西窓は北側非居室、南側その他の居室\n",
    "    area['Windows']={\n",
    "        'N' : {\n",
    "            'main'      : 0,\n",
    "            'other'     : 0,\n",
    "            'nonliving' : area_windows['N']\n",
    "        },\n",
    "        'S' : {\n",
    "            'main'      : area_windows['S'] * (length_EW_m * floor_height[0])/ area_NS ,\n",
    "            'other'     : area_windows['S'] * (1 - length_EW_m * floor_height[0]/ area_NS) ,\n",
    "            'nonliving' : 0\n",
    "        },\n",
    "        'E' : {\n",
    "            'main'      : area_windows['E'] * ( 1 - ratio_length_NS_n ) * ratio_floor_height[0] ,\n",
    "            'other'     : area_windows['E'] *  ( 1 - ratio_length_NS_n ) * ratio_floor_height[1] ,\n",
    "            'nonliving' : area_windows['E'] * ratio_length_NS_n\n",
    "        },\n",
    "        'W' : {\n",
    "            'main'      : 0,\n",
    "            'other'     : area_windows['W'] * ( 1 - ratio_length_NS_n ),\n",
    "            'nonliving' : area_windows['W'] * ratio_length_NS_n\n",
    "        },\n",
    "        'Top' : {\n",
    "            'main'      : 0,\n",
    "            'other'     : area_windows['Top'] * ( 1 - ratio_length_NS_n ),\n",
    "            'nonliving' : area_windows['Top'] * ratio_length_NS_n\n",
    "        }\n",
    "    }\n",
    "\n",
    "    # 外壁面積\n",
    "    area['Walls']={\n",
    "        'Ceiling' : {\n",
    "            'main'      : 0,\n",
    "            'other'     : (length_narrow - length_NS_n) * length_long / ratio_floor_r - area['Windows']['Top']['other'],\n",
    "            'nonliving' :length_NS_n * length_long / ratio_floor_r - area['Windows']['Top']['nonliving']\n",
    "        },\n",
    "        'Floor' : {\n",
    "            'main'      : (length_narrow - length_NS_n) * length_EW_m / ratio_floor_r,\n",
    "            'other'     : (length_narrow - length_NS_n) * (length_long - length_EW_m) / ratio_floor_r,\n",
    "            'nonliving' : length_NS_n * length_long / ratio_floor_r\n",
    "        },\n",
    "        'WallN': {\n",
    "            'main'      : 0,\n",
    "            'other'     : 0,\n",
    "            'nonliving' : area_NS - area['Windows']['N']['nonliving']\n",
    "        },\n",
    "        'WallS': {\n",
    "            'main'      : length_EW_m * floor_height[0] - area['Windows']['S']['main'],\n",
    "            'other'     : (area_NS - length_EW_m * floor_height[0]) - area['Windows']['S']['other'],\n",
    "            'nonliving' : 0\n",
    "        },\n",
    "        'WallE': {\n",
    "            'main'      : ( length_narrow - length_NS_n ) * floor_height[0] - area['Windows']['E']['main'],\n",
    "            'other'     : ( length_narrow - length_NS_n ) * floor_height[1]- area['Windows']['E']['other'],\n",
    "            'nonliving' : length_NS_n * height - area['Windows']['E']['nonliving']\n",
    "        },\n",
    "        'WallW': {\n",
    "            'main'      : 0,\n",
    "            'other'     : ( length_narrow - length_NS_n ) * height - area['Windows']['W']['other'],\n",
    "            'nonliving' : length_NS_n * height - area['Windows']['W']['nonliving']                    \n",
    "        }\n",
    "    }\n",
    "\n",
    "    # 内壁面積\n",
    "    area['InnerWalls']={\n",
    "        'main to other'      : ( length_narrow - length_NS_n ) * floor_height[0] + ( length_narrow - length_NS_n ) * length_EW_m ,\n",
    "        'main to lonliving'  : length_EW_m * floor_height[0] ,\n",
    "        'other to nonliving' : area_NS - length_EW_m * floor_height[0] \n",
    "    }\n",
    "\n",
    "    return area"
   ]
  },
  {
   "cell_type": "markdown",
   "metadata": {},
   "source": [
    "#### Function4"
   ]
  },
  {
   "cell_type": "markdown",
   "metadata": {},
   "source": [
    "方位別開口部面積が各方位の外皮面積を超過する場合、南、東、北、西、天井の順に、各方位の外皮面積を上限として、開口部面積を割り付ける。\n",
    "\n",
    "戸建住宅の各部位の面積を、以下の場合に応じて、算出する。  \n",
    "　主たる居室とその他の居室の床面積が等しい場合：北側を非居室、南側の1階を主たる居室、2階をその他の居室とする  \n",
    "　主たる居室の床面積がその他の居室の床面積より大きい場合：北側を非居室、2階の南西をその他の居室とする  \n",
    "　主たる居室の床面積がその他の居室の床面積より小さい場合：北側を非居室、1階の南東を主たる居室とする  "
   ]
  },
  {
   "cell_type": "code",
   "execution_count": 18,
   "metadata": {},
   "outputs": [],
   "source": [
    "# 戸建住宅の面積算出\n",
    "def get_area_detached( area_floor_total, area_floor, area_floor_r, n, height, floor_height, length_long, length_narrow, area_windows) :\n",
    "    \n",
    "    # 延床面積に対する用途別床面積の割合\n",
    "    ratio_floor = { x : area_floor[x] / area_floor_total for x in area_floor.keys()}\n",
    " \n",
    "    # アスペクト比を上限値により調整している場合、調整前の床面積に対する調整後の床面積の割合\n",
    "    ratio_floor_r = sum( area_floor_r[x] for x in area_floor_r ) / sum( area_floor[x] for x in area_floor )\n",
    "    \n",
    "    # 建物高に対する階高の割合\n",
    "    ratio_floor_height = [ floor_height[0] / height, floor_height[1] / height ]\n",
    "    \n",
    "    # 南北面・東西面面積, ㎡\n",
    "    area_NS = length_long * height\n",
    "    area_EW = length_narrow * height\n",
    "    \n",
    "    # 非居室南北方向長さ, m\n",
    "    length_NS_n = (area_floor_r['nonliving'])/n/length_long\n",
    "    ratio_length_NS_n = length_NS_n / length_narrow\n",
    "    \n",
    "    # 窓面積の調整 南、東、北、西、天井の順に割付\n",
    "    area_windows = adjust_window_area( area_windows, \n",
    "                                      [{'Direction':'S','AreaMax':area_EW},\n",
    "                                       {'Direction':'E','AreaMax':area_NS},\n",
    "                                       {'Direction':'N','AreaMax':area_EW},\n",
    "                                       {'Direction':'W','AreaMax':area_NS},\n",
    "                                       {'Direction':'Top','AreaMax':length_long * length_narrow / ratio_floor_r }] )\n",
    "    \n",
    "    # 面積算出\n",
    "    # 南側1階主たる居室、2階その他の居室\n",
    "    if area_floor['main'] == area_floor['other'] :\n",
    "        area = get_area_detached_main_equal_to_other( \\\n",
    "            area_floor_r, ratio_floor_r, height, floor_height, ratio_floor_height, \\\n",
    "            length_long, length_narrow, length_NS_n, ratio_length_NS_n, area_NS, area_windows )\n",
    "    # 2階南西その他の居室\n",
    "    elif area_floor['main'] > area_floor['other'] :\n",
    "        area = get_area_detached_main_larger_than_other( \\\n",
    "            area_floor_r, ratio_floor_r, height, floor_height, ratio_floor_height, \\\n",
    "            length_long, length_narrow, length_NS_n, ratio_length_NS_n, area_NS, area_windows )\n",
    "    # 1階南東主たる居室\n",
    "    elif area_floor['main'] < area_floor['other'] :\n",
    "        area = get_area_detached_main_smaller_than_other( \\\n",
    "            area_floor_r, ratio_floor_r, height, floor_height, ratio_floor_height, \\\n",
    "            length_long, length_narrow, length_NS_n, ratio_length_NS_n, area_NS, area_windows )\n",
    "        \n",
    "    return area"
   ]
  },
  {
   "cell_type": "markdown",
   "metadata": {},
   "source": [
    "### 8) 共同住宅の面積の算出"
   ]
  },
  {
   "cell_type": "markdown",
   "metadata": {},
   "source": [
    "#### Outline"
   ]
  },
  {
   "cell_type": "markdown",
   "metadata": {},
   "source": [
    "共同住宅の各部位の面積を算出する。  \n",
    "方位別開口部面積が各方位の外皮面積を超過する場合、南、北、西、東、天井の順に、各方位の外皮面積を上限として、開口部面積を割り付ける。\n",
    "\n",
    "![image.png](attachment:image.png)"
   ]
  },
  {
   "cell_type": "markdown",
   "metadata": {},
   "source": [
    "#### Function"
   ]
  },
  {
   "cell_type": "code",
   "execution_count": 19,
   "metadata": {},
   "outputs": [],
   "source": [
    "# 共同住宅の面積算出\n",
    "def get_area_condominium( area_floor_total, area_floor, area_floor_r, height, length_long, length_narrow, area_windows) :\n",
    "    \n",
    "    # 延床面積に対する用途別床面積の割合\n",
    "    ratio_floor = { x : area_floor[x] / area_floor_total for x in area_floor.keys()}\n",
    " \n",
    "    # アスペクト比を上限値により調整している場合、調整前の床面積に対する調整後の床面積の割合\n",
    "    ratio_floor_r = sum( area_floor_r[x] for x in area_floor_r ) / sum( area_floor[x] for x in area_floor )\n",
    "    \n",
    "    area_horizontal = length_long * length_narrow\n",
    "    area_NS = length_long * height\n",
    "    area_EW = length_narrow * height\n",
    "\n",
    "    # 窓面積の調整 南、北、西、東、天井の順に割付\n",
    "    area_windows = adjust_window_area( area_windows, \n",
    "                                      [{'Direction':'S','AreaMax':area_EW},\n",
    "                                       {'Direction':'N','AreaMax':area_EW},\n",
    "                                       {'Direction':'W','AreaMax':area_NS},\n",
    "                                       {'Direction':'E','AreaMax':area_NS},\n",
    "                                       {'Direction':'Top','AreaMax':length_long * length_narrow / ratio_floor_r }] )\n",
    "    area={}\n",
    "    \n",
    "    # 窓面積\n",
    "    # 北窓はその他の居室、南窓は主たる居室、東窓・西窓は各用途に床面積案分で割り付け\n",
    "    area['Windows']={\n",
    "        'N' : {\n",
    "            'main' : 0,\n",
    "            'other' : area_windows['N'],\n",
    "            'nonliving' : 0\n",
    "        },\n",
    "        'S' : {\n",
    "            'main' : area_windows['S'],\n",
    "            'other' : 0,\n",
    "            'nonliving' : 0\n",
    "        },\n",
    "        'E' : {\n",
    "            'main' :      area_windows['E'] * ratio_floor['main'],\n",
    "            'other' :     area_windows['E'] * ratio_floor['other'],\n",
    "            'nonliving' : area_windows['E'] * ratio_floor['nonliving']\n",
    "        },\n",
    "        'W' : {\n",
    "            'main' :      area_windows['W'] * ratio_floor['main'],\n",
    "            'other' :     area_windows['W'] * ratio_floor['other'],\n",
    "            'nonliving' : area_windows['W'] * ratio_floor['nonliving']\n",
    "        },\n",
    "        'Top' : {\n",
    "            'main' :      area_windows['Top'] * ratio_floor['main'],\n",
    "            'other' :     area_windows['Top'] * ratio_floor['other'],\n",
    "            'nonliving' : area_windows['Top'] * ratio_floor['nonliving']\n",
    "        }\n",
    "    }\n",
    "\n",
    "    # 壁面積\n",
    "    # 北壁はその他の居室、南壁は主たる居室、天井・床・東壁・西壁は各用途に床面積案分で割り付け\n",
    "    area['Walls']={\n",
    "        'Ceiling' : {\n",
    "            'main' :      ( area_horizontal - area_windows['Top'] ) * ratio_floor['main']      / ratio_floor_r,\n",
    "            'other' :     ( area_horizontal - area_windows['Top'] ) * ratio_floor['other']     / ratio_floor_r,\n",
    "            'nonliving' : ( area_horizontal - area_windows['Top'] ) * ratio_floor['nonliving'] / ratio_floor_r\n",
    "        },\n",
    "        'Floor' : {\n",
    "            'main' :      area_horizontal * ratio_floor['main']      / ratio_floor_r,\n",
    "            'other' :     area_horizontal * ratio_floor['other']     / ratio_floor_r,\n",
    "            'nonliving' : area_horizontal * ratio_floor['nonliving'] / ratio_floor_r\n",
    "        },\n",
    "        'WallN': {\n",
    "            'main' : 0,\n",
    "            'other' : area_EW - area_windows['N'],\n",
    "            'nonliving' : 0\n",
    "        },\n",
    "        'WallS': {\n",
    "            'main' : area_EW - area_windows['S'],\n",
    "            'other' : 0,\n",
    "            'nonliving' : 0\n",
    "        },\n",
    "        'WallE': {\n",
    "            'main' :     ( area_NS - area_windows['E'] ) * ratio_floor['main'],\n",
    "            'other' :    ( area_NS - area_windows['E'] ) * ratio_floor['other'],\n",
    "            'nonliving' :( area_NS - area_windows['E'] ) * ratio_floor['nonliving']\n",
    "        },\n",
    "        'WallW': {\n",
    "            'main' :     ( area_NS - area_windows['W'] ) * ratio_floor['main'],\n",
    "            'other' :    ( area_NS - area_windows['W'] ) * ratio_floor['other'],\n",
    "            'nonliving' :( area_NS - area_windows['W'] ) * ratio_floor['nonliving']\n",
    "        }\n",
    "    }\n",
    "    \n",
    "    # 内壁面積\n",
    "    area['InnerWalls']={\n",
    "        'main to other' :      area_EW,\n",
    "        'main to lonliving' :  area_EW,\n",
    "        'other to nonliving' : area_EW\n",
    "    }\n",
    "        \n",
    "    return area"
   ]
  },
  {
   "cell_type": "markdown",
   "metadata": {},
   "source": [
    "### 9) 部位の面積を取得する関数"
   ]
  },
  {
   "cell_type": "markdown",
   "metadata": {},
   "source": [
    "#### Outline"
   ]
  },
  {
   "cell_type": "markdown",
   "metadata": {},
   "source": [
    "基準値計算用の住宅について、用途別床面積、幾何形状、開口部面積、各部位の面積を取得する関数を統合する。  \n",
    "各部位の面積より外壁・開口部・内壁のリストを作成する。"
   ]
  },
  {
   "cell_type": "markdown",
   "metadata": {},
   "source": [
    "#### Function"
   ]
  },
  {
   "cell_type": "code",
   "execution_count": 20,
   "metadata": {},
   "outputs": [],
   "source": [
    "def get_area(d):\n",
    "    \n",
    "    # 用途別床面積の取得\n",
    "    area_floor=get_area_floor( d )\n",
    "\n",
    "    # 幾何形状の取得\n",
    "    n, height, floor_height, area_total_skin, length_narrow, length_long, area_floor_r = get_geometry( d, area_floor )\n",
    "    \n",
    "    # 開口部面積, ㎡\n",
    "    area_windows = get_area_windows( d['Common']['HouseType'], area_total_skin )\n",
    "    \n",
    "    # 部位面積, ㎡\n",
    "    if d['Common']['HouseType']== 'detached' :\n",
    "        area = get_area_detached(d['Common']['TotalFloorArea'], \\\n",
    "                                 area_floor, area_floor_r, n, height, floor_height, length_long, length_narrow, area_windows)\n",
    "    elif d['Common']['HouseType']== 'condominium' :\n",
    "        area = get_area_condominium(d['Common']['TotalFloorArea'], \\\n",
    "                                    area_floor, area_floor_r, height, length_long, length_narrow, area_windows)\n",
    "    \n",
    "    # 外壁・開口部・内壁のリスト作成\n",
    "    d = get_list( area )\n",
    "   \n",
    "    return d['Walls'], d['Windows'], d['InnerWalls']"
   ]
  },
  {
   "cell_type": "code",
   "execution_count": 21,
   "metadata": {},
   "outputs": [
    {
     "data": {
      "text/plain": [
       "([{'name': 'Ceiling_main',\n",
       "   'area': 15.000000000000002,\n",
       "   'space': 'main',\n",
       "   'type': 'Ceiling',\n",
       "   'direction': 'Top',\n",
       "   'structure': 'Wood'},\n",
       "  {'name': 'Ceiling_other',\n",
       "   'area': 30.000000000000004,\n",
       "   'space': 'other',\n",
       "   'type': 'Ceiling',\n",
       "   'direction': 'Top',\n",
       "   'structure': 'Wood'},\n",
       "  {'name': 'Ceiling_nonliving',\n",
       "   'area': 15.0,\n",
       "   'space': 'nonliving',\n",
       "   'type': 'Ceiling',\n",
       "   'direction': 'Top',\n",
       "   'structure': 'Wood'},\n",
       "  {'name': 'Floor_main',\n",
       "   'area': 45.00000000000001,\n",
       "   'space': 'main',\n",
       "   'type': 'Floor',\n",
       "   'direction': 'Bottom',\n",
       "   'structure': 'Wood'},\n",
       "  {'name': 'Floor_nonliving',\n",
       "   'area': 15.0,\n",
       "   'space': 'nonliving',\n",
       "   'type': 'Floor',\n",
       "   'direction': 'Bottom',\n",
       "   'structure': 'Wood'},\n",
       "  {'name': 'WallN_nonliving',\n",
       "   'area': 75.64400000000002,\n",
       "   'space': 'nonliving',\n",
       "   'type': 'Wall',\n",
       "   'direction': 'N',\n",
       "   'structure': 'Wood'},\n",
       "  {'name': 'WallS_main',\n",
       "   'area': 35.85191428571429,\n",
       "   'space': 'main',\n",
       "   'type': 'Wall',\n",
       "   'direction': 'S',\n",
       "   'structure': 'Wood'},\n",
       "  {'name': 'WallS_other',\n",
       "   'area': 16.982485714285716,\n",
       "   'space': 'other',\n",
       "   'type': 'Wall',\n",
       "   'direction': 'S',\n",
       "   'structure': 'Wood'},\n",
       "  {'name': 'WallE_main',\n",
       "   'area': 26.0796,\n",
       "   'space': 'main',\n",
       "   'type': 'Wall',\n",
       "   'direction': 'E',\n",
       "   'structure': 'Wood'},\n",
       "  {'name': 'WallE_nonliving',\n",
       "   'area': 8.6932,\n",
       "   'space': 'nonliving',\n",
       "   'type': 'Wall',\n",
       "   'direction': 'E',\n",
       "   'structure': 'Wood'},\n",
       "  {'name': 'WallW_main',\n",
       "   'area': 14.428328571428573,\n",
       "   'space': 'main',\n",
       "   'type': 'Wall',\n",
       "   'direction': 'W',\n",
       "   'structure': 'Wood'},\n",
       "  {'name': 'WallW_other',\n",
       "   'area': 13.43327142857143,\n",
       "   'space': 'other',\n",
       "   'type': 'Wall',\n",
       "   'direction': 'W',\n",
       "   'structure': 'Wood'},\n",
       "  {'name': 'WallW_nonliving',\n",
       "   'area': 9.2872,\n",
       "   'space': 'nonliving',\n",
       "   'type': 'Wall',\n",
       "   'direction': 'W',\n",
       "   'structure': 'Wood'}],\n",
       " [{'name': 'N_nonliving',\n",
       "   'area': 4.356,\n",
       "   'space': 'nonliving',\n",
       "   'type': 'Window',\n",
       "   'direction': 'N'},\n",
       "  {'name': 'S_main',\n",
       "   'area': 18.433800000000005,\n",
       "   'space': 'main',\n",
       "   'type': 'Window',\n",
       "   'direction': 'S'},\n",
       "  {'name': 'S_other',\n",
       "   'area': 8.731800000000002,\n",
       "   'space': 'other',\n",
       "   'type': 'Window',\n",
       "   'direction': 'S'},\n",
       "  {'name': 'E_main',\n",
       "   'area': 3.9204000000000008,\n",
       "   'space': 'main',\n",
       "   'type': 'Window',\n",
       "   'direction': 'E'},\n",
       "  {'name': 'E_nonliving',\n",
       "   'area': 1.3068000000000002,\n",
       "   'space': 'nonliving',\n",
       "   'type': 'Window',\n",
       "   'direction': 'E'},\n",
       "  {'name': 'W_main',\n",
       "   'area': 1.1073857142857144,\n",
       "   'space': 'main',\n",
       "   'type': 'Window',\n",
       "   'direction': 'W'},\n",
       "  {'name': 'W_other',\n",
       "   'area': 1.0310142857142859,\n",
       "   'space': 'other',\n",
       "   'type': 'Window',\n",
       "   'direction': 'W'},\n",
       "  {'name': 'W_nonliving',\n",
       "   'area': 0.7128,\n",
       "   'space': 'nonliving',\n",
       "   'type': 'Window',\n",
       "   'direction': 'W'}],\n",
       " [{'name': 'InnerWall_main to other',\n",
       "   'area': 65.48469387755104,\n",
       "   'space': 'main to other',\n",
       "   'type': 'InnerWall'},\n",
       "  {'name': 'InnerWall_main to lonliving',\n",
       "   'area': 54.28571428571429,\n",
       "   'space': 'main to lonliving',\n",
       "   'type': 'InnerWall'},\n",
       "  {'name': 'InnerWall_other to nonliving',\n",
       "   'area': 25.71428571428572,\n",
       "   'space': 'other to nonliving',\n",
       "   'type': 'InnerWall'}])"
      ]
     },
     "execution_count": 21,
     "metadata": {},
     "output_type": "execute_result"
    }
   ],
   "source": [
    "get_area({\n",
    "    'Common': {\n",
    "        'Region': 6,\n",
    "        'MainOccupantRoomFloorArea': 60.0,\n",
    "        'OtherOccupantRoomFloorArea': 30.0,\n",
    "        'TotalFloorArea': 120.0,\n",
    "        'TotalOuterSkinArea': 360.0,\n",
    "        'HouseType': 'detached' # 'detached','condominium'\n",
    "    }\n",
    "})"
   ]
  },
  {
   "cell_type": "markdown",
   "metadata": {},
   "source": [
    "## 4. 部位の性能の設定"
   ]
  },
  {
   "cell_type": "code",
   "execution_count": 22,
   "metadata": {},
   "outputs": [],
   "source": [
    "class Parts:\n",
    "    \n",
    "    def __init__(self, area, ptype, direction):\n",
    "        self.__area = area\n",
    "        self.__ptype = ptype\n",
    "        self.__direction = direction\n",
    "    \n",
    "    @property\n",
    "    def area(self):\n",
    "        return self.__area\n",
    "\n",
    "    @property\n",
    "    def ptype(self):\n",
    "        return self.__ptype\n",
    "    \n",
    "    @property\n",
    "    def direction(self):\n",
    "        return self.__direction"
   ]
  },
  {
   "cell_type": "markdown",
   "metadata": {},
   "source": [
    "### 4.1 各種設定値の取得"
   ]
  },
  {
   "cell_type": "markdown",
   "metadata": {},
   "source": [
    "### 1) 外皮性能に関する基準値"
   ]
  },
  {
   "cell_type": "markdown",
   "metadata": {},
   "source": [
    "エネルギーの使用の合理化に関する建築主等及び特定建築物の所有者の判断の基準の一部を改正する告示（平成28年4月1日施行）"
   ]
  },
  {
   "cell_type": "markdown",
   "metadata": {},
   "source": [
    "戸建住宅\n",
    "\n",
    "| 　 | 1地域 | 2地域 | 3地域 | 4地域 | 5地域 | 6地域 | 7地域 | 8地域 |\n",
    "|---|---|---|---|---|---|---|---|---|\n",
    "| 平均熱貫流率[W/(㎡・K)] | 0.46 | 0.46 | 0.56 | 0.75 | 0.87 | 0.87 | 0.87 | 2.14 |\n",
    "| 暖房期の平均日射熱取得率[-] | 2.5 | 2.3 | 2.7 | 3.7 | 4.5 | 4.3 | 4.6 | - |\n",
    "| 冷房期の平均日射熱取得率[-] | 1.9 | 1.9 | 2.0 | 2.7 | 3.0 | 2.8 | 2.7 | 3.2 | \n",
    "\n",
    "共同住宅\n",
    "\n",
    "| 　 | 1地域 | 2地域 | 3地域 | 4地域 | 5地域 | 6地域 | 7地域 | 8地域 |\n",
    "|---|---|---|---|---|---|---|---|---|\n",
    "| 平均熱貫流率[W/(㎡・K)] | 0.41 | 0.41 | 0.44 | 0.69 | 0.75 | 0.75 | 0.75 | 1.67 |\n",
    "| 暖房期の平均日射熱取得率[-] | 1.5 | 1.3 | 1.5 | 1.8 | 2.1 | 2.0 | 2.1 | - |\n",
    "| 冷房期の平均日射熱取得率[-] | 1.1 | 1.1 | 1.1 | 1.4 | 1.5 | 1.4 | 1.3 | 2.4 | "
   ]
  },
  {
   "cell_type": "code",
   "execution_count": 23,
   "metadata": {},
   "outputs": [],
   "source": [
    "def get_std_UA(house_type, region):\n",
    "    return {\n",
    "        'detached'    : {1: 0.46, 2: 0.46, 3: 0.56, 4: 0.75, 5: 0.87, 6: 0.87, 7: 0.87, 8: 2.14 },\n",
    "        'condominium' : {1: 0.41, 2: 0.41, 3: 0.44, 4: 0.69, 5: 0.75, 6: 0.75, 7: 0.75, 8: 1.67 },\n",
    "    }[house_type][region]"
   ]
  },
  {
   "cell_type": "code",
   "execution_count": 24,
   "metadata": {},
   "outputs": [],
   "source": [
    "def get_std_etaAH(house_type, region):\n",
    "    return {\n",
    "        'detached'    : {1: 2.5,  2: 2.3,  3: 2.7,  4: 3.7,  5: 4.5,  6: 4.3,  7: 4.6,  8: \"-\"  },\n",
    "        'condominium' : {1: 1.5,  2: 1.3,  3: 1.5,  4: 1.8,  5: 2.1,  6: 2.0,  7: 2.1,  8: \"-\"  },\n",
    "    }[house_type][region]"
   ]
  },
  {
   "cell_type": "code",
   "execution_count": 25,
   "metadata": {},
   "outputs": [],
   "source": [
    "def get_std_etaAC(house_type, region):\n",
    "    return {\n",
    "        'detached'    : {1: 1.9,  2: 1.9,  3: 2.0,  4: 2.7,  5: 3.0,  6: 2.8,  7: 2.7,  8: 3.2  },\n",
    "        'condominium' : {1: 1.1,  2: 1.1,  3: 1.1,  4: 1.4,  5: 1.5,  6: 1.4,  7: 1.3,  8: 2.4  },\n",
    "    }[house_type][region]"
   ]
  },
  {
   "cell_type": "markdown",
   "metadata": {},
   "source": [
    "### 2) 部位別の熱貫流率の基準値、想定値"
   ]
  },
  {
   "cell_type": "markdown",
   "metadata": {},
   "source": [
    "基準値計算用の部位別の熱貫流率の基準値または想定値は、現行の省エネルギー基準等を参考に設定する。\n",
    "\n",
    "　屋根または天井・壁・床・開口部：  \n",
    " 　　住宅に係るエネルギーの使用の合理化に関する設計、施工及び維持保全の指針の一部を改正する告示（平成28年4月1日施行）  \n",
    "　壁・床（8地域）：RC150mm（無断熱）を想定  \n",
    "　窓（8地域）：単板ガラスの熱貫流率を想定"
   ]
  },
  {
   "cell_type": "markdown",
   "metadata": {},
   "source": [
    "部位別の熱貫流率の基準値、想定値, W/(㎡・K)\n",
    "\n",
    "| 部位 | 1地域 | 2地域 | 3地域 | 4地域 | 5地域 | 6地域 | 7地域 | 8地域 |\n",
    "|---|---|---|---|---|---|---|---|---|\n",
    "| 屋根・天井 | 0.17 | 0.17 | 0.24 | 0.24 | 0.24 | 0.24 | 0.24 | 0.24 |\n",
    "| 壁 | 0.35 | 0.35 | 0.53 | 0.53 | 0.53 | 0.53 | 0.53 | 4.10 |\n",
    "| 床 | 0.34 | 0.34 | 0.34 | 0.48 | 0.48 | 0.48 | 0.48 | 3.52 |\n",
    "| 開口部 | 2.33 | 2.33 | 3.49 | 4.65 | 4.65 | 4.65 | 4.65 | 6.51 |"
   ]
  },
  {
   "cell_type": "markdown",
   "metadata": {},
   "source": [
    "#### Function"
   ]
  },
  {
   "cell_type": "code",
   "execution_count": 26,
   "metadata": {},
   "outputs": [],
   "source": [
    "def get_std_U(region, part_type) :\n",
    "\n",
    "    return {\n",
    "        'Ceiling' : {1: 0.17, 2: 0.17, 3: 0.24, 4: 0.24, 5: 0.24, 6: 0.24, 7: 0.24, 8: 0.24 },\n",
    "        'Wall'    : {1: 0.35, 2: 0.35, 3: 0.53, 4: 0.53, 5: 0.53, 6: 0.53, 7: 0.53, 8: 4.10 },\n",
    "        'Floor'   : {1: 0.34, 2: 0.34, 3: 0.34, 4: 0.48, 5: 0.48, 6: 0.48, 7: 0.48, 8: 3.52 },\n",
    "        'Window'  : {1: 2.33, 2: 2.33, 3: 3.49, 4: 4.65, 5: 4.65, 6: 4.65, 7: 4.65, 8: 6.51 }\n",
    "    }[part_type][region]"
   ]
  },
  {
   "cell_type": "markdown",
   "metadata": {},
   "source": [
    "#### Example"
   ]
  },
  {
   "cell_type": "code",
   "execution_count": 27,
   "metadata": {},
   "outputs": [
    {
     "data": {
      "text/plain": [
       "0.24"
      ]
     },
     "execution_count": 27,
     "metadata": {},
     "output_type": "execute_result"
    }
   ],
   "source": [
    "get_std_U(6, 'Ceiling')"
   ]
  },
  {
   "cell_type": "code",
   "execution_count": 28,
   "metadata": {},
   "outputs": [
    {
     "data": {
      "text/plain": [
       "0.53"
      ]
     },
     "execution_count": 28,
     "metadata": {},
     "output_type": "execute_result"
    }
   ],
   "source": [
    "get_std_U(6, 'Wall')"
   ]
  },
  {
   "cell_type": "code",
   "execution_count": 29,
   "metadata": {},
   "outputs": [
    {
     "data": {
      "text/plain": [
       "0.48"
      ]
     },
     "execution_count": 29,
     "metadata": {},
     "output_type": "execute_result"
    }
   ],
   "source": [
    "get_std_U(6, 'Floor')"
   ]
  },
  {
   "cell_type": "code",
   "execution_count": 30,
   "metadata": {},
   "outputs": [
    {
     "data": {
      "text/plain": [
       "4.65"
      ]
     },
     "execution_count": 30,
     "metadata": {},
     "output_type": "execute_result"
    }
   ],
   "source": [
    "get_std_U(6, 'Window')"
   ]
  },
  {
   "cell_type": "markdown",
   "metadata": {},
   "source": [
    "### 3) 部位別の熱貫流率の上下限値"
   ]
  },
  {
   "cell_type": "markdown",
   "metadata": {},
   "source": [
    "下限値は十分に小さい値、上限値は合板12mmを想定。"
   ]
  },
  {
   "cell_type": "markdown",
   "metadata": {},
   "source": [
    "| 　 | 下限値[W/(㎡・K)] | 上限値[W/(㎡・K)] |\n",
    "|---|---|---|\n",
    "| 屋根・天井 | 0.001 | 1/(0.09+0.012/0.16+0.04) = 4.80 |\n",
    "| 壁 | 0.001 | 1/(0.11+0.012/0.16+0.04) = 4.40 |\n",
    "| 床 | 0.001 | 1/(0.15+0.012/0.16+0.15) = 2.60 |\n",
    "| 開口部 | 0.001 | 6.51 |"
   ]
  },
  {
   "cell_type": "markdown",
   "metadata": {},
   "source": [
    "#### Function"
   ]
  },
  {
   "cell_type": "code",
   "execution_count": 31,
   "metadata": {},
   "outputs": [],
   "source": [
    "def get_min_U(ptype):    # 熱貫流率の下限値 W/m2 K\n",
    "    return {\n",
    "        'Ceiling'    : 0.001,\n",
    "        'Wall'       : 0.001,\n",
    "        'Floor'      : 0.001,\n",
    "        'Window'     : 0.001\n",
    "    }[ptype]"
   ]
  },
  {
   "cell_type": "code",
   "execution_count": 32,
   "metadata": {},
   "outputs": [],
   "source": [
    "def get_max_U(ptype):    # 部位別の熱貫流率の上限値, W/m2 K\n",
    "    return {\n",
    "        'Ceiling' : 1/(0.09+0.012/0.16+0.04),\n",
    "        'Wall'    : 1/(0.11+0.012/0.16+0.04),\n",
    "        'Floor'   : 1/(0.15+0.012/0.16+0.15),\n",
    "        'Window'  : 6.51\n",
    "    }[ptype]"
   ]
  },
  {
   "cell_type": "markdown",
   "metadata": {},
   "source": [
    "### 4) 外皮の部位及び土間床等の周辺部の温度差係数"
   ]
  },
  {
   "cell_type": "markdown",
   "metadata": {},
   "source": [
    "平成28年省エネルギー基準に準拠したエネルギー消費性能の評価に関する技術情報（住宅）  \n",
    "2.エネルギー消費性能の算定方法  \n",
    "2.2 算定方法  \n",
    "第三章 暖冷房負荷と外皮性能  \n",
    "第二節 外皮性能   \n",
    "付録 B 温度差係数"
   ]
  },
  {
   "cell_type": "markdown",
   "metadata": {},
   "source": [
    "| 隣接空間の種類 | 1～3地域 | 4～8地域 |\n",
    "|---|---|---|\n",
    "| 外気 | 1.0 | 1.0 |\n",
    "| 外気に通じる空間 | 1.0 | 1.0 |\n",
    "| 外気に通じていない空間 | 0.7 | 0.7 |\n",
    "| 外気に通じる床裏 | 0.7 | 0.7 |\n",
    "| 住戸及び住戸と同様の熱的環境の空間 | 0.05 | 0.15 |\n",
    "| 外気に通じていない床裏 | 0.05 | 0.15 |"
   ]
  },
  {
   "cell_type": "markdown",
   "metadata": {},
   "source": [
    "部位の種類と隣接空間の種類"
   ]
  },
  {
   "cell_type": "markdown",
   "metadata": {},
   "source": [
    "| 部位の種類 | 隣接空間の種類 |\n",
    "|---|---|\n",
    "| 天井 | 外気 |\n",
    "| 床 | 外気に通じる床裏 |\n",
    "| 壁 | 外気 |\n",
    "| 窓 | 外気 |"
   ]
  },
  {
   "cell_type": "markdown",
   "metadata": {},
   "source": [
    "#### Function"
   ]
  },
  {
   "cell_type": "code",
   "execution_count": 33,
   "metadata": {},
   "outputs": [],
   "source": [
    "def get_H_by_space_type(region, space_type):\n",
    "\n",
    "    return {\n",
    "        # 外気又は外気に通じる空間(小屋裏・天井裏・共用部・屋内駐車場・メーターボックス・エレベーターシャフト等)\n",
    "        'outside'    : {1: 1.00, 2: 1.00, 3: 1.00, 4: 1.00, 5: 1.00, 6: 1.00, 7: 1.00, 8: 1.00 }, \n",
    "        # 外気に通じていない空間(昇降機室、共用機械室、倉庫等)又は外気に通じる床裏\n",
    "        'underfloor' : {1: 0.70, 2: 0.70, 3: 0.70, 4: 0.70, 5: 0.70, 6: 0.70, 7: 0.70, 8: 0.70 }, \n",
    "        # 住戸、住戸と同様の熱的環境の空問(空調された共用部等)又は外気に通じていない床裏(ピット等）\n",
    "        'next_room'  : {1: 0.05, 2: 0.05, 3: 0.05, 4: 0.15, 5: 0.15, 6: 0.15, 7: 0.15, 8: 0.15 }  \n",
    "    }[space_type][region]\n",
    "\n",
    "def get_H_by_parts(region, parts_type):\n",
    "    \n",
    "    return {\n",
    "        'Ceiling' : get_H_by_space_type(region, 'outside'),\n",
    "        'Floor'   : get_H_by_space_type(region, 'underfloor'),\n",
    "        'Wall'    : get_H_by_space_type(region, 'outside'),\n",
    "        'Window'  : get_H_by_space_type(region, 'outside'),\n",
    "    }[parts_type]"
   ]
  },
  {
   "cell_type": "markdown",
   "metadata": {},
   "source": [
    "### 6) 日射取得率補正係数"
   ]
  },
  {
   "cell_type": "markdown",
   "metadata": {},
   "source": [
    "#### Function"
   ]
  },
  {
   "cell_type": "code",
   "execution_count": 34,
   "metadata": {},
   "outputs": [],
   "source": [
    "def get_f(season, region, direction):\n",
    "\n",
    "    return {\n",
    "        'heating' :{\n",
    "            'Top'    : {1: 1.000, 2: 1.000, 3: 1.000, 4: 1.000, 5: 1.000, 6: 1.000, 7: 1.000, 8: '-' },\n",
    "            'N'      : {1: 0.862, 2: 0.860, 3: 0.862, 4: 0.861, 5: 0.867, 6: 0.870, 7: 0.873, 8: '-' },\n",
    "            'NE'     : {1: 0.848, 2: 0.851, 3: 0.850, 4: 0.846, 5: 0.838, 6: 0.839, 7: 0.833, 8: '-' },\n",
    "            'E'      : {1: 0.871, 2: 0.873, 3: 0.869, 4: 0.874, 5: 0.874, 6: 0.874, 7: 0.868, 8: '-' },\n",
    "            'SE'     : {1: 0.892, 2: 0.888, 3: 0.885, 4: 0.883, 5: 0.894, 6: 0.896, 7: 0.892, 8: '-' },\n",
    "            'S'      : {1: 0.892, 2: 0.880, 3: 0.884, 4: 0.874, 5: 0.894, 6: 0.889, 7: 0.896, 8: '-' },\n",
    "            'SW'     : {1: 0.888, 2: 0.885, 3: 0.885, 4: 0.882, 5: 0.891, 6: 0.885, 7: 0.894, 8: '-' },\n",
    "            'W'      : {1: 0.869, 2: 0.874, 3: 0.871, 4: 0.872, 5: 0.871, 6: 0.874, 7: 0.870, 8: '-' },\n",
    "            'NW'     : {1: 0.850, 2: 0.850, 3: 0.850, 4: 0.845, 5: 0.840, 6: 0.844, 7: 0.834, 8: '-' },\n",
    "            'Bottom' : {1: 0.000, 2: 0.000, 3: 0.000, 4: 0.000, 5: 0.000, 6: 0.000, 7: 0.000, 8: '-' }\n",
    "        },\n",
    "        'cooling' :{\n",
    "            'Top'    : {1: 1.000, 2: 1.000, 3: 1.000, 4: 1.000, 5: 1.000, 6: 1.000, 7: 1.000, 8: 1.000 },\n",
    "            'N'      : {1: 0.853, 2: 0.857, 3: 0.853, 4: 0.852, 5: 0.860, 6: 0.847, 7: 0.838, 8: 0.848 },\n",
    "            'NE'     : {1: 0.865, 2: 0.864, 3: 0.862, 4: 0.861, 5: 0.863, 6: 0.862, 7: 0.861, 8: 0.857 },\n",
    "            'E'      : {1: 0.882, 2: 0.877, 3: 0.870, 4: 0.881, 5: 0.874, 6: 0.880, 7: 0.881, 8: 0.877 },\n",
    "            'SE'     : {1: 0.864, 2: 0.858, 3: 0.853, 4: 0.853, 5: 0.854, 6: 0.852, 7: 0.849, 8: 0.860 },\n",
    "            'S'      : {1: 0.807, 2: 0.812, 3: 0.799, 4: 0.784, 5: 0.807, 6: 0.795, 7: 0.788, 8: 0.824 },\n",
    "            'SW'     : {1: 0.860, 2: 0.861, 3: 0.859, 4: 0.850, 5: 0.858, 6: 0.852, 7: 0.847, 8: 0.858 },\n",
    "            'W'      : {1: 0.880, 2: 0.878, 3: 0.883, 4: 0.876, 5: 0.875, 6: 0.880, 7: 0.880, 8: 0.876 },\n",
    "            'NW'     : {1: 0.866, 2: 0.864, 3: 0.865, 4: 0.861, 5: 0.862, 6: 0.864, 7: 0.862, 8: 0.859 },\n",
    "            'Bottom' : {1: 0.000, 2: 0.000, 3: 0.000, 4: 0.000, 5: 0.000, 6: 0.000, 7: 0.000, 8: 0.000 }        \n",
    "        }\n",
    "    }[season][direction][region]"
   ]
  },
  {
   "cell_type": "markdown",
   "metadata": {},
   "source": [
    "### 4.2 単位温度差当たりの外皮熱損失量"
   ]
  },
  {
   "cell_type": "markdown",
   "metadata": {},
   "source": [
    "単位温度差当たりの外皮熱損失量とは、部位の面積と熱貫流率と温度差係数の積であり、単位は、W/K である。"
   ]
  },
  {
   "cell_type": "markdown",
   "metadata": {},
   "source": [
    "#### 1) 全外皮の部位"
   ]
  },
  {
   "cell_type": "markdown",
   "metadata": {},
   "source": [
    "$$\n",
    "\\displaystyle\n",
    "q_{std,U} = \\sum_{i}(A_{i} \\times U_{std,i} \\times H_{i})\n",
    "$$"
   ]
  },
  {
   "cell_type": "markdown",
   "metadata": {},
   "source": [
    "$q_{std,U}$: 基準U値に基づく全部位の単位温度差当たりの外皮熱損失量の合計, W/K  \n",
    "$A_i$: 第$i$番目の外皮の部位の面積, m<sup>2</sup>  \n",
    "$U_{std,i}$: 第$i$番目の外皮の部位の熱貫流率の基準値, W/m<sup>2</sup> K  \n",
    "$H_i$: 第$i$番目の外皮の部位の温度差係数, -  "
   ]
  },
  {
   "cell_type": "code",
   "execution_count": 35,
   "metadata": {},
   "outputs": [],
   "source": [
    "def get_q_std_U(region, walls, windows):\n",
    "    return sum(part.area * get_std_U(region, part.ptype) * get_H_by_parts(region, part.ptype) for part in walls + windows)"
   ]
  },
  {
   "cell_type": "markdown",
   "metadata": {},
   "source": [
    "#### 2) 日射が当たる外皮の部位（屋根または天井、外壁、開口部）"
   ]
  },
  {
   "cell_type": "markdown",
   "metadata": {},
   "source": [
    "$$\n",
    "\\displaystyle\n",
    "q_{s,std,U} = \\sum_i(A_{s,i} \\times U_{s,std,i} \\times H_{s,i})\n",
    "$$"
   ]
  },
  {
   "cell_type": "markdown",
   "metadata": {},
   "source": [
    "$$\n",
    "\\displaystyle\n",
    "q_{s,max,U} = \\sum_i(A_{s,i} \\times U_{s,max,i} \\times H_{s,i})\n",
    "$$"
   ]
  },
  {
   "cell_type": "markdown",
   "metadata": {},
   "source": [
    "$$\n",
    "\\displaystyle\n",
    "q_{s,min,U} = \\sum_i(A_{s,i} \\times U_{s,min,i} \\times H_{s,i})\n",
    "$$"
   ]
  },
  {
   "cell_type": "markdown",
   "metadata": {},
   "source": [
    "$q_{s,std,U}$: 基準U値に基づく日射が当たる外皮の部位の単位温度差当たりの外皮熱損失量の合計, W/K  \n",
    "$q_{s,max,U}$: 最大U値に基づく日射が当たる外皮の部位の単位温度差当たりの外皮熱損失量の合計, W/K  \n",
    "$q_{s,min,U}$: 最小U値に基づく日射が当たる外皮の部位, W/K  \n",
    "$A_{s,i}$: 第$i$番目の日射が当たる外皮の部位の面積, m<sup>2</sup>  \n",
    "$U_{s,std,i}$: 第$i$番目の日射が当たる外皮の部位の熱貫流率の基準値, W/m<sup>2</sup> K  \n",
    "$U_{s,max,i}$: 第$i$番目の日射が当たる外皮の部位の熱貫流率の最大値, W/m<sup>2</sup> K  \n",
    "$U_{s,min,i}$: 第$i$番目の日射が当たる外皮の部位の熱貫流率の最小値, W/m<sup>2</sup> K  \n",
    "$H_{s,i}$: 第$i$番目の日射が当たる外皮の部位の温度差係数, -  "
   ]
  },
  {
   "cell_type": "code",
   "execution_count": 36,
   "metadata": {},
   "outputs": [],
   "source": [
    "def get_qs_std_U(region, walls, windows):\n",
    "    return sum(part.area * get_std_U(region, part.ptype) * get_H_by_parts(region, part.ptype) for part in walls + windows if (part.ptype != 'Floor') )"
   ]
  },
  {
   "cell_type": "code",
   "execution_count": 37,
   "metadata": {},
   "outputs": [],
   "source": [
    "def get_qs_max_U(region, walls, windows):\n",
    "    return sum(part.area * get_max_U(part.ptype) * get_H_by_parts(region, part.ptype) for part in walls + windows if (part.ptype != 'Floor') )"
   ]
  },
  {
   "cell_type": "code",
   "execution_count": 38,
   "metadata": {},
   "outputs": [],
   "source": [
    "def get_qs_min_U(region, walls, windows):\n",
    "    return sum(part.area * get_min_U(part.ptype) * get_H_by_parts(region, part.ptype) for part in walls + windows if (part.ptype != 'Floor') )"
   ]
  },
  {
   "cell_type": "markdown",
   "metadata": {},
   "source": [
    "#### 3) 日射が当たらない外皮の部位（床、土間床）"
   ]
  },
  {
   "cell_type": "markdown",
   "metadata": {},
   "source": [
    "$$\n",
    "\\displaystyle\n",
    "q_{n,std,U} = \\sum(A_{n,i} \\times U_{n,std,i} \\times H_{n,i})\n",
    "$$"
   ]
  },
  {
   "cell_type": "markdown",
   "metadata": {},
   "source": [
    "$$\n",
    "\\displaystyle\n",
    "q_{n,max,U} = \\sum(A_{n,i} \\times U_{n,max,i} \\times H_{n,i})\n",
    "$$"
   ]
  },
  {
   "cell_type": "markdown",
   "metadata": {},
   "source": [
    "$$\n",
    "\\displaystyle\n",
    "q_{n,min,U} = \\sum(A_{n,i} \\times U_{n,min,i} \\times H_{n,i})\n",
    "$$"
   ]
  },
  {
   "cell_type": "markdown",
   "metadata": {},
   "source": [
    "$q_{n,std,U}$: 基準U値に基づく日射が当たらない外皮の部位の単位温度差当たりの外皮熱損失量の合計, W/K  \n",
    "$q_{n,max,U}$: 最大U値に基づく日射が当たらない外皮の部位の単位温度差当たりの外皮熱損失量の合計, W/K  \n",
    "$q_{n,min,U}$: 最小U値に基づく日射が当たらない外皮の部位の単位温度差当たりの外皮熱損失量の合計, W/K  \n",
    "$A_{n,i}$: 第$i$番目の日射が当たらない外皮の部位の面積, m<sup>2</sup>  \n",
    "$U_{n,std,i}$: 第$i$番目の日射が当たらない外皮の部位の熱貫流率の基準値, W/m<sup>2</sup> K  \n",
    "$U_{n,max,i}$: 第$i$番目の日射が当たらない外皮の部位の熱貫流率の最大値, W/m<sup>2</sup> K  \n",
    "$U_{n,min,i}$: 第$i$番目の日射が当たらない外皮の部位の熱貫流率の最小値, W/m<sup>2</sup> K  \n",
    "$H_{n,i}$: 第$i$番目の日射が当たらない外皮の部位の温度差係数, - "
   ]
  },
  {
   "cell_type": "code",
   "execution_count": 39,
   "metadata": {},
   "outputs": [],
   "source": [
    "def get_qn_std_U(region, walls, windows):\n",
    "    return sum(part.area * get_std_U(region, part.ptype) * get_H_by_parts(region, part.ptype) for part in walls if (part.ptype == 'Floor') )"
   ]
  },
  {
   "cell_type": "code",
   "execution_count": 40,
   "metadata": {},
   "outputs": [],
   "source": [
    "def get_qn_max_U(region, walls, windows):\n",
    "    return sum(part.area * get_max_U(part.ptype) * get_H_by_parts(region, part.ptype) for part in walls if (part.ptype == 'Floor') )"
   ]
  },
  {
   "cell_type": "code",
   "execution_count": 41,
   "metadata": {},
   "outputs": [],
   "source": [
    "def get_qn_min_U(region, walls, windows):\n",
    "    return sum(part.area * get_min_U(part.ptype) * get_H_by_parts(region, part.ptype) for part in walls if (part.ptype == 'Floor') )"
   ]
  },
  {
   "cell_type": "markdown",
   "metadata": {},
   "source": [
    "### 4.3 熱貫流率の調整係数の最大値・最小値"
   ]
  },
  {
   "cell_type": "markdown",
   "metadata": {},
   "source": [
    "#### 1) 日射が当たる外皮の部位（屋根または天井、外壁、開口部）"
   ]
  },
  {
   "cell_type": "markdown",
   "metadata": {},
   "source": [
    "$$\n",
    "\\displaystyle\n",
    "f_{U,s,max}= \\min \\left(\\frac{ U_{A,std} \\times A_{total} - q_{n,min,U} }{ q_{s,std,U} },\\min \\left(\\frac{U_{s,max,i}}{U_{s,std,i}} \\right) \\right)\n",
    "$$"
   ]
  },
  {
   "cell_type": "markdown",
   "metadata": {},
   "source": [
    "$$\n",
    "\\displaystyle\n",
    "f_{U,s,min}= \\max \\left(\\frac{ U_{A,std} \\times A_{total} - q_{n,max,U} }{ q_{s,std,U} },\\max \\left(\\frac{U_{s,min,i}}{U_{s,std,i}} \\right) \\right)\n",
    "$$"
   ]
  },
  {
   "cell_type": "markdown",
   "metadata": {},
   "source": [
    "$f_{U,s,max}$: 日射が当たる外皮の部位の熱貫流率の調整係数の最大値, -  \n",
    "$f_{U,s,min}$: 日射が当たる外皮の部位の熱貫流率の調整係数の最小値, -  \n",
    "$U_{A,std}$: 外皮平均熱貫流率の基準値, W/m<sup>2</sup> K  \n",
    "$A_{total}$: 総外皮面積, m<sup>2</sup>  \n",
    "$q_{s,std,U}$: 基準U値に基づく日射が当たる外皮の部位の単位温度差当たりの外皮熱損失量の合計, W/K  \n",
    "$q_{n,max,U}$: 最大U値に基づく日射が当たらない外皮の部位の単位温度差当たりの外皮熱損失量の合計, W/K  \n",
    "$q_{n,min,U}$: 最小U値に基づく日射が当たらない外皮の部位の単位温度差当たりの外皮熱損失量の合計, W/K  \n",
    "$U_{s,std,i}$: 第$i$番目の日射が当たる外皮の部位の熱貫流率の基準値, W/m<sup>2</sup> K  \n",
    "$U_{s,max,i}$: 第$i$番目の日射が当たる外皮の部位の熱貫流率の最大値, W/m<sup>2</sup> K  \n",
    "$U_{s,min,i}$: 第$i$番目の日射が当たる外皮の部位の熱貫流率の最小値, W/m<sup>2</sup> K  "
   ]
  },
  {
   "cell_type": "code",
   "execution_count": 42,
   "metadata": {},
   "outputs": [],
   "source": [
    "def get_fUs_range(region, std_UA, total_area, walls, windows,\n",
    "                  qs_std_U, qn_max_U, qn_min_U):\n",
    "\n",
    "    # 日射の当たる部位（屋根または天井、外壁、開口部）の熱貫流率補正係数の最小値\n",
    "    fUs_max = min(\n",
    "        (std_UA * total_area - qn_min_U) / qs_std_U,\n",
    "        min(get_max_U(x) / get_std_U(region, x) for x in ['Ceiling','Wall','Window'])\n",
    "    )\n",
    "    \n",
    "    # 日射の当たる部位（屋根または天井、外壁、開口部）の熱貫流率補正係数の最大値\n",
    "    fUs_min = max(\n",
    "        (std_UA * total_area - qn_max_U) / qs_std_U,\n",
    "        max(get_min_U(x) / get_std_U(region, x) for x in ['Ceiling','Wall','Window'])\n",
    "    )\n",
    "    \n",
    "    return fUs_max, fUs_min"
   ]
  },
  {
   "cell_type": "markdown",
   "metadata": {},
   "source": [
    "#### 2) 日射が当たらない外皮の部位（床、土間床）"
   ]
  },
  {
   "cell_type": "markdown",
   "metadata": {},
   "source": [
    "$$\n",
    "\\displaystyle\n",
    "f_{U,n,max}= \\min \\left(\\frac{ U_{A,std} \\times A_{total} - q_{s,std,U} \\times \\max(\\frac{U_{s,min,i}}{U_{s,std,i}}) }{ q_{n,std,U} },\\frac{U_{n,max,i}}{U_{n,std,i}} \\right)\n",
    "$$"
   ]
  },
  {
   "cell_type": "markdown",
   "metadata": {},
   "source": [
    "$$\n",
    "\\displaystyle\n",
    "f_{U,n,min}= \\max \\left(\\frac{ U_{A,std} \\times A_{total} - q_{s,std,U} \\times \\min(\\frac{U_{s,max,i}}{U_{s,std,i}}) }{ q_{n,std,U} },\\frac{U_{n,min,i}}{U_{n,std,i}} \\right)\n",
    "$$"
   ]
  },
  {
   "cell_type": "markdown",
   "metadata": {},
   "source": [
    "$f_{U,n,max}$: 日射が当たらない外皮の部位の熱貫流率の調整係数の最大値, -  \n",
    "$f_{U,n,min}$: 日射が当たらない外皮の部位の熱貫流率の調整係数の最小値, -  \n",
    "$U_{A,std}$: 外皮平均熱貫流率の基準値, W/m<sup>2</sup> K  \n",
    "$A_{total}$: 総外皮面積, m<sup>2</sup>  \n",
    "$q_{n,std,U}$: 基準U値に基づく日射が当たらない外皮の部位の単位温度差当たりの外皮熱損失量の合計, W/K  \n",
    "$q_{s,std,U}$: 基準U値に基づく日射が当たる外皮の部位の単位温度差当たりの外皮熱損失量の合計, W/K  \n",
    "$U_{s,std,i}$: 第$i$番目の日射が当たる外皮の部位の熱貫流率の基準値, W/m<sup>2</sup> K  \n",
    "$U_{s,max,i}$: 第$i$番目の日射が当たる外皮の部位の熱貫流率の最大値, W/m<sup>2</sup> K  \n",
    "$U_{s,min,i}$: 第$i$番目の日射が当たる外皮の部位の熱貫流率の最小値, W/m<sup>2</sup> K  \n",
    "$U_{n,std,i}$: 第$i$番目の日射が当たらない外皮の部位の熱貫流率の基準値, W/m<sup>2</sup> K  \n",
    "$U_{n,max,i}$: 第$i$番目の日射が当たらない外皮の部位の熱貫流率の最大値, W/m<sup>2</sup> K  \n",
    "$U_{n,min,i}$: 第$i$番目の日射が当たらない外皮の部位の熱貫流率の最小値, W/m<sup>2</sup> K  "
   ]
  },
  {
   "cell_type": "code",
   "execution_count": 43,
   "metadata": {},
   "outputs": [],
   "source": [
    "def get_fUn_range(region, std_UA, total_area, walls, windows, qs_std_U, qn_std_U):\n",
    "\n",
    "    # 日射の当たらない部位（床）の熱貫流率補正係数の最小値\n",
    "    fUn_max = min(\n",
    "        (std_UA * total_area - qs_std_U * max(get_min_U(x) / get_std_U(region, x) for x in ['Ceiling','Wall','Window'] ) ) / qn_std_U,\n",
    "        get_max_U('Floor') / get_std_U(region, 'Floor')\n",
    "    )\n",
    "    \n",
    "    # 日射の当たらない部位（床）の熱貫流率補正係数の最大値\n",
    "    fUn_min = max(\n",
    "        (std_UA * total_area - qs_std_U *  min(get_max_U(x) / get_std_U(region, x) for x in ['Ceiling','Wall','Window'] ) ) / qn_std_U,\n",
    "        get_min_U('Floor') / get_std_U(region, 'Floor')\n",
    "    )\n",
    "    \n",
    "    return fUn_max, fUn_min"
   ]
  },
  {
   "cell_type": "markdown",
   "metadata": {},
   "source": [
    "### 2) 熱貫流率調整係数と開口部日射熱取得率の算出"
   ]
  },
  {
   "cell_type": "markdown",
   "metadata": {},
   "source": [
    "#### Outline"
   ]
  },
  {
   "cell_type": "markdown",
   "metadata": {},
   "source": [
    "UA値、ηA値の基準値を満たすように、基準値計算用の住宅のU値（仕様規定の部位別U値に比例）と開口部の日射熱取得率ηH値、ηC値を決定する。  \n",
    "さらに、ηH値、ηC値の平均を取り、開口部の日射熱取得率η値を決定する。"
   ]
  },
  {
   "cell_type": "markdown",
   "metadata": {},
   "source": [
    "$$\n",
    "\\displaystyle\n",
    "f_{U}= \\frac{ (AU_{A}) }{ (AUH) }\n",
    "$$\n",
    "\n",
    "$$\n",
    "\\displaystyle\n",
    "η_{H}= \\frac{ \\frac{ (Aη_{A})_H }{100} - 0.034 \\times f_{U} \\times (AUν)_H }{ (Afν)_H }\n",
    "$$\n",
    "$$\n",
    "\\displaystyle\n",
    "η_{C}= \\frac{ \\frac{ (Aη_{A})_C }{100} - 0.034 \\times f_{U} \\times (AUν)_C }{ (Afν)_C }\n",
    "$$\n",
    "$$\n",
    "\\displaystyle\n",
    "η= \\frac{ η_{H} + η_{C} }{ 2 }\n",
    "$$"
   ]
  },
  {
   "cell_type": "markdown",
   "metadata": {},
   "source": [
    "ただし、非現実的な設定は許容せず、開口部のη値は0以上0.88以下、各部位のU値は上下限値の間とする。  \n",
    "そのために、調整前の冷房期と暖房期の開口部のη値が0未満または0.88超となる場合について、場合分けを行い調整を実施する。"
   ]
  },
  {
   "cell_type": "markdown",
   "metadata": {},
   "source": [
    "$f_{U}$: 熱貫流率の調整係数, -  \n",
    "$η$: 開口部の日射熱取得率, -  \n",
    "$η_{H}$: 暖房期の開口部の日射熱取得率, -  \n",
    "$η_{C}$: 冷房期の開口部の日射熱取得率, -  \n",
    "\n",
    "$(AU_{A})$: 総外皮面積と外皮平均熱貫流率の基準値の積（後述）, W/K   \n",
    "$(AUH)$: 部位の面積と熱貫流率の基準値と温度差係数の積の合計（後述）, W/K \n",
    "\n",
    "$(Aη_{A})_H$: 総外皮面積と暖房期の外皮平均日射熱取得率の基準値の積（後述）, ㎡  \n",
    "$(Aη_{A})_C$: 総外皮面積と冷房期の外皮平均日射熱取得率の基準値の積（後述）, ㎡  \n",
    "$(AUν)_H$: 開口部以外の外皮の部位の面積と熱貫流率の基準値と方位係数の積の合計（後述）, W/K   \n",
    "$(AUν)_C$: 開口部以外の外皮の部位の面積と熱貫流率の基準値と方位係数の積の合計（後述）, W/K   \n",
    "$(Afν)_H$: 開口部の部位の面積と暖房期の日射取得率補正係数と方位係数の積の合計（後述）, W/K   \n",
    "$(Afν)_C$: 開口部の部位の面積と冷房期の日射取得率補正係数と方位係数の積の合計（後述）, W/K   "
   ]
  },
  {
   "cell_type": "markdown",
   "metadata": {},
   "source": [
    "#### Detail"
   ]
  },
  {
   "cell_type": "markdown",
   "metadata": {},
   "source": [
    "熱貫流率の調整係数は、日射の当たる部位（屋根または天井、外壁、開口部）と、日射の当たらない部位（床）のそれぞれについて算出する。\n",
    "\n",
    "　$f_{U,s}$ :日射の当たる部位（屋根または天井、外壁、開口部）の熱貫流率の調整係数  \n",
    "　$f_{U,n}$ :日射の当たらない部位（床）の熱貫流率の調整係数"
   ]
  },
  {
   "cell_type": "markdown",
   "metadata": {},
   "source": [
    "場合分けは、以下のとおりとする。  \n",
    "\n",
    "　1 冷房期の開口部以外からの日射熱取得が多い場合（調整前$η_C<0$）  \n",
    "　　1-1 暖房期の開口部以外からの日射熱取得が多い場合（調整前$η_H<0$）  \n",
    "　　　　より厳しい期間に合わせて日射が当たる部位の熱貫流率を調整  \n",
    "　　1-2 暖房期の日射熱取得が少ない場合（調整前$η_H>0.88$）  \n",
    "　　　　UA値をもとに部位の熱貫流率を調整  \n",
    "　　1-3 暖房期の日射熱取得が開口部の日射熱取得率で調整可能な範囲の場合（$0$≦調整前$η_H$≦$0.88$）  \n",
    "　　　　冷房期を優先して日射が当たる部位の熱貫流率を調整  \n",
    "        \n",
    "　2 冷房期の日射熱取得が開口部の日射熱取得率で調整可能な範囲の場合（$0$≦調整前$η_C$≦$0.88$）  \n",
    "　　2-1 暖房期の開口部以外からの日射熱取得が多い場合（調整前$η_H<0$）  \n",
    "　　　　暖房期を優先して日射が当たる部位の熱貫流率を調整  \n",
    "　　2-2 暖房期の日射熱取得が少ない場合（調整前$η_H>0.88$）  \n",
    "　　　　暖房期を優先して日射が当たる部位の熱貫流率を調整  \n",
    "　　2-3 暖房期の日射熱取得が開口部の日射熱取得率で調整可能な範囲の場合（$0$≦調整前$η_H$≦$0.88$）  \n",
    " 　　　　UA値をもとに部位の熱貫流率を調整 \n",
    "     \n",
    "　3 冷房期の日射熱取得が少ない場合（調整前$η_C>0.88$）  \n",
    "　　3-1 暖房期の開口部以外からの日射熱取得が多い場合（調整前$η_H<0$）  \n",
    "　　　　UA値をもとに部位の熱貫流率を調整  \n",
    "　　3-2 暖房期の日射熱取得が少ない場合（調整前$η_H>0.88$）  \n",
    "　　　　より厳しい期間に合わせて日射が当たる部位の熱貫流率を調整  \n",
    "　　3-3 暖房期の日射熱取得が開口部の日射熱取得率で調整可能な範囲の場合（$0$≦調整前$η_H$≦$0.88$）  \n",
    "　　　　冷房期を優先して日射が当たる部位の熱貫流率を調整  "
   ]
  },
  {
   "cell_type": "markdown",
   "metadata": {},
   "source": [
    "| 　 | 調整前$η_H<0$ | $0$≦調整前$η_H$≦$0.88$ | $0.88<$調整前$η_H$ |\n",
    "|---|---|---|---|\n",
    "| 調整前$η_C<0$ | (1-1)より厳しい期間に合わせて$f_{U,s}$を決定 | (2-1)冷房期を優先して$f_{U,s}$を決定 | (3-1)$U_A$値をもとに$f_{U,s}$を決定 | \n",
    "| 　 | $$f_{U,s} = \\frac{ \\frac{(Aη_A) }{100} }{ 0.034 \\times (AUν) }$$ | $$f_{U,s} = \\frac{ \\frac{(Aη_A) }{100} }{ 0.034 \\times (AUν) }$$ | $$f_{U,s} = \\frac{(AU_A) }{ (AUH) }$$ |\n",
    "| $0$≦調整前$η_C$≦$0.88$ | (1-2)暖房期を優先して$f_{U,s}$を決定 | (2-2)$U_A$値をもとに$f_{U,s}$を決定 | (3-2)暖房期を優先して$f_{U,s}$を決定 |\n",
    "| 　 | $$f_{U,s} = \\frac{ \\frac{( Aη_A) }{100} }{ 0.034 \\times (AUν) }$$ | $$f_{U,s} = \\frac{(AU_A) }{ (AUH) }$$ | $$f_{U,s} = \\frac{ \\frac{( Aη_A) }{100} - 0.88 \\times (Afν) }{ 0.034 \\times (AUν)}$$ |\n",
    "| $0.88<$調整前$η_C$ | (1-3)$U_A$値をもとに$f_{U,s}$を決定 | (2-3)冷房期を優先して$f_{U,s}$を決定 | (3-3)より厳しい期間に合わせて$f_{U,s}$を決定 |\n",
    "| 　 | $$f_{U,s} = \\frac{(AU_A) }{ (AUH) }$$ | $$f_{U,s} = \\frac{ \\frac{( Aη_A) }{100} - 0.88 \\times (Afν) }{ 0.034 \\times (AUν)}$$ | $$f_{U,s} = \\frac{ \\frac{( Aη_A) }{100} - 0.88 \\times (Afν) }{ 0.034 \\times (AUν)}$$ |"
   ]
  },
  {
   "cell_type": "markdown",
   "metadata": {},
   "source": [
    "熱貫流率の調整係数は、下限値以上、上限値以下となるよう決定する。"
   ]
  },
  {
   "cell_type": "markdown",
   "metadata": {},
   "source": [
    "$$\n",
    "f_{U,s} = \\left \\{\n",
    "\\begin{array}{ll}\n",
    "\\displaystyle\n",
    "\\max \\left(f_{U,s,min},\\frac{ \\frac{( Aη_A) }{100} }{ 0.034 \\times (AUν) } \\right) & \\left( \\frac{ \\frac{(Aη_A)}{100} - 0.034 \\times(AUν) }{ (Afν) } < 0.00 \\right) \\\\\n",
    "\\displaystyle\n",
    "\\min \\left(f_{U,s,max},\\max \\left(f_{U,s,min}, \\frac{(AU_A) }{ (AUH) } \\right)\\right) & \\left( 0.00 ≦ \\frac{ \\frac{(Aη_A)}{100} - 0.034 \\times(AUν) }{ (Afν) } ≦ 0.88 \\right) \\\\\n",
    "\\displaystyle\n",
    "\\min \\left(f_{U,s,max},\\frac{ \\frac{( Aη_A) }{100} - 0.88 \\times (Afν) }{ 0.034 \\times (AUν)} \\right) & \\left( \\frac{ \\frac{(Aη_A)}{100} - 0.034 \\times(AUν) }{ (Afν) } > 0.88 \\right)\n",
    "\\end{array}\n",
    "\\right.\n",
    "$$"
   ]
  },
  {
   "cell_type": "markdown",
   "metadata": {},
   "source": [
    "$f_{U,s}$: 日射の当たる部位（屋根または天井、外壁、開口部）の熱貫流率を補正するための係数, -  \n",
    "$f_{U,s,min}$: 日射の当たる部位（屋根または天井、外壁、開口部）の熱貫流率を補正するための係数が取り得る最小値, -  \n",
    "$f_{U,s,max}$: 日射の当たる部位（屋根または天井、外壁、開口部）の熱貫流率を補正するための係数が取り得る最大値, -  \n",
    "\n",
    "$(AU_{A})$: 総外皮面積と外皮平均熱貫流率の基準値の積（後述）, W/K   \n",
    "$(Aη_{A})$: 総外皮面積と外皮平均日射熱取得率の基準値の積（後述）, ㎡  \n",
    "$(AUH)$: 部位の面積と熱貫流率の基準値と温度差係数の積の合計（後述）, W/K  \n",
    "$(AUν)$: 開口部以外の外皮の部位の面積と熱貫流率の基準値と方位係数の積の合計（後述）, W/K   \n",
    "$(Afν)$: 開口部の部位の面積と日射取得率補正係数と方位係数の積の合計（後述）, W/K     "
   ]
  },
  {
   "cell_type": "markdown",
   "metadata": {},
   "source": [
    "$$\n",
    "f_{U,n} = \\min \\left( f_{U,n,max},\\max \\left( f_{U,n,min},\\frac{ (AU_A) - f_{U,s} \\times (AUH)s }{ (AUH)_n } \\right) \\right)\n",
    "$$"
   ]
  },
  {
   "cell_type": "markdown",
   "metadata": {},
   "source": [
    "$f_{U,n}$: 日射の当たらない部位（床）の熱貫流率を補正するための係数, -  \n",
    "$f_{U,n,min}$: 床の熱貫流率を補正するための係数が取り得る最小値, -  \n",
    "$f_{U,n,max}$: 床の熱貫流率を補正するための係数が取り得る最大値, -  \n",
    "\n",
    "$(AUH)_s$: 日射の当たる部位（屋根または天井、外壁、開口部）の面積と熱貫流率の基準値と温度差係数の積の合計（後述）, W/K  \n",
    "$(AUH)_n$: 日射の当たらない部位（床）の面積と熱貫流率の基準値と温度差係数の積の合計（後述）, W/K "
   ]
  },
  {
   "cell_type": "markdown",
   "metadata": {},
   "source": [
    "開口部の日射熱取得率は、0以上、0.88以下となるよう決定する。  \n",
    "開口部以外からの日射熱取得が多い場合は、日射の当たる部位の熱貫流率の調整係数を、開口部の日射熱取得率が0となるよう、熱貫流率の調整係数の下限値以上となる範囲で調整する。  \n",
    "日射熱取得が少ない場合は、日射の当たる部位の熱貫流率の調整係数を、開口部の日射熱取得率が0.88となるよう、熱貫流率の調整係数の上限値以下となる範囲で調整する。"
   ]
  },
  {
   "cell_type": "markdown",
   "metadata": {},
   "source": [
    "$$\n",
    "η = \\left \\{\n",
    "\\begin{array}{ll}\n",
    "0.00 & \\left( \\frac{ \\frac{(Aη_A)}{100} - 0.034 \\times(AUν) }{ (Afν) } < 0.00 \\right) \\\\\n",
    "\\displaystyle\n",
    "\\min \\left(0.88,\\max \\left(0.00, \\frac{ \\frac{(Aη_A)}{100} - 0.034 \\times f_{U,s} \\times (AUν) }{ (Afν) } \\right)\\right) & \\left( 0.00 ≦ \\frac{ \\frac{(Aη_A)}{100} - 0.034 \\times(AUν) }{ (Afν) } ≦ 0.88 \\right) \\\\\n",
    "0.88 & \\left( \\frac{ \\frac{(Aη_A)}{100} - 0.034 \\times(AUν) }{ (Afν) } > 0.88 \\right)\n",
    "\\end{array}\n",
    "\\right.\n",
    "$$"
   ]
  },
  {
   "cell_type": "markdown",
   "metadata": {},
   "source": [
    "#### Function"
   ]
  },
  {
   "cell_type": "code",
   "execution_count": 44,
   "metadata": {},
   "outputs": [],
   "source": [
    "def get_fU_and_eta(region, std_UA, total_area, walls, windows, std_etaAH, std_etaAC,\n",
    "                   fUs_min, fUs_max, fUn_min, fUn_max,\n",
    "                   q_std_U, qs_std_U, qn_std_U):\n",
    "    \n",
    "    q_std = std_UA * total_area\n",
    "    \n",
    "    # A・ηA\n",
    "    m_H_std = std_etaAH * total_area \n",
    "    m_C_std = std_etaAC * total_area \n",
    "\n",
    "    # Σ(A・U・ν)\n",
    "    sum_AUnu_H = sum(wall.area * get_std_U(region, wall.ptype) * nu.get_nu(season='heating', region=region, direction=wall.direction) for wall in walls)\n",
    "    sum_AUnu_C = sum(wall.area * get_std_U(region, wall.ptype) * nu.get_nu(season='cooling', region=region, direction=wall.direction) for wall in walls)\n",
    "\n",
    "    # Σ(A・f・ν)   \n",
    "    sum_Afnu_H = sum(window.area * get_f(season='heating', region=region, direction=window.direction) * nu.get_nu(season='heating', region=region, direction=window.direction) for window in windows)\n",
    "    sum_Afnu_C = sum(window.area * get_f(season='cooling', region=region, direction=window.direction) * nu.get_nu(season='cooling', region=region, direction=window.direction) for window in windows)\n",
    "\n",
    "    # 調整係数を事前に算出\n",
    "    fUs_for_eta_H_000 = (m_H_std / 100 - 0.00 * sum_Afnu_H) / 0.034 / sum_AUnu_H\n",
    "    fUs_for_eta_C_000 = (m_C_std / 100 - 0.00 * sum_Afnu_C) / 0.034 / sum_AUnu_C\n",
    "    fUs_for_eta_H_088 = (m_H_std / 100 - 0.88 * sum_Afnu_H) / 0.034 / sum_AUnu_H\n",
    "    fUs_for_eta_C_088 = (m_C_std / 100 - 0.88 * sum_Afnu_C) / 0.034 / sum_AUnu_C\n",
    "    fUs_for_UA = q_std / q_std_U\n",
    "\n",
    "    # 場合分けのためのη暫定値\n",
    "    eta_H_temp = (m_H_std / 100 - 0.034 * fUs_for_UA * sum_AUnu_H) / sum_Afnu_H\n",
    "    eta_C_temp = (m_C_std / 100 - 0.034 * fUs_for_UA * sum_AUnu_C) / sum_Afnu_C\n",
    "    \n",
    "    if eta_C_temp < 0 :\n",
    "        if eta_H_temp < 0 :\n",
    "            fUs = min( fUs_for_eta_H_000, fUs_for_eta_C_000 )\n",
    "        elif eta_H_temp > 0.88 :\n",
    "            fUs = min( fUs_max, fUs_for_UA )\n",
    "        else :\n",
    "            fUs = fUs_for_eta_C_000\n",
    "    elif eta_C_temp > 0.88 :\n",
    "        if eta_H_temp < 0 :\n",
    "            fUs = min( fUs_max, fUs_for_UA )\n",
    "        elif eta_H_temp > 0.88 :\n",
    "            fUs = max( fUs_for_eta_H_088, fUs_for_eta_C_088)   \n",
    "        else :\n",
    "            fUs = fUs_for_eta_C_088\n",
    "    else :\n",
    "        if eta_H_temp < 0 :\n",
    "            fUs = fUs_for_eta_H_000\n",
    "        elif eta_H_temp > 0.88 :\n",
    "            fUs = fUs_for_eta_H_088\n",
    "        else :\n",
    "            fUs = fUs_for_UA\n",
    "    \n",
    "    # 上下限値の適用\n",
    "    fUs = max(fUs_min, min(fUs_max, fUs_for_UA ))\n",
    "    \n",
    "    # 床の熱貫流率の調整係数\n",
    "    fUn = max(fUn_min, min(fUn_max, ( q_std - fUs * qs_std_U ) / qn_std_U ))\n",
    "    \n",
    "    # 開口部の日射熱取得率の算出\n",
    "    eta = {\n",
    "        'Heating' : max( 0, min( 0.88, ( m_H_std / 100 - 0.034 * sum_AUnu_H * fUs ) / sum_Afnu_H)),\n",
    "        'Cooling' : max( 0, min( 0.88, ( m_C_std / 100 - 0.034 * sum_AUnu_C * fUs ) / sum_Afnu_C)),\n",
    "          }\n",
    "    eta['Average'] = numpy.average([eta['Heating'],eta['Cooling']])\n",
    "    \n",
    "    return fUs, fUn, eta"
   ]
  },
  {
   "cell_type": "markdown",
   "metadata": {},
   "source": [
    "### 3) 基準値計算用の住宅のUA値、ηA値の検算"
   ]
  },
  {
   "cell_type": "markdown",
   "metadata": {},
   "source": [
    "#### Outline"
   ]
  },
  {
   "cell_type": "markdown",
   "metadata": {},
   "source": [
    "$$\n",
    "\\displaystyle\n",
    "U_{A,check}= \\frac{ \\sum_{}^{}(U_i \\times A_i \\times H_i) }{ A_{total} }\n",
    "$$\n",
    "\n",
    "$$\n",
    "\\displaystyle\n",
    "η_{A,H,check}= \\frac{ 0.034 \\times \\sum_{}^{}(U_{o,i} \\times A_{o,i} \\times ν_{H,o,i}) + η_H \\times (Afν)_H}{ A_{total} } \\times 100\n",
    "$$\n",
    "$$\n",
    "\\displaystyle\n",
    "η_{A,C,check}= \\frac{ 0.034 \\times \\sum_{}^{}(U_{o,i} \\times A_{o,i} \\times ν_{C,o,i}) + η_C \\times (Afν)_C}{ A_{total} } \\times 100\n",
    "$$"
   ]
  },
  {
   "cell_type": "markdown",
   "metadata": {},
   "source": [
    "$U_{A,check}$: 外皮平均熱貫流率の検算値, W/(m<sup>2</sup>・K)  \n",
    "$η_{A,check}$: 外皮平均日射熱取得率の検算値, -  \n",
    "\n",
    "$(Afν)_H$: 開口部の部位の面積と暖房期の日射取得率補正係数と方位係数の積の合計（後述）, W/K   \n",
    "$(Afν)_C$: 開口部の部位の面積と冷房期の日射取得率補正係数と方位係数の積の合計（後述）, W/K   \n",
    "\n",
    "$ν$: 部位の方位係数, -  \n",
    "$H$: 温度差係数, -  \n",
    "$A$: 部位の面積, m<sup>2</sup>  \n",
    "$U$: 部位の熱貫流率, W/(m<sup>2</sup>・K)  \n",
    "\n",
    "添字$H$: 暖房期  \n",
    "添字$C$: 冷房期  \n",
    "添字$i$: 外皮の第$i$番目の部位  \n",
    "添字$o,i$: 開口部以外の外皮の第$i$番目の部位  \n",
    "添字$w,i$: 開口部の第$i$番目の部位  "
   ]
  },
  {
   "cell_type": "code",
   "execution_count": 45,
   "metadata": {},
   "outputs": [],
   "source": [
    "def check_UA_and_etaA( area_skin, d_Walls, d_Windows, H, part_U, eta, region, walls, windows):\n",
    "\n",
    "    # Σ(A・f・ν)    \n",
    "    sum_Afnu = {\n",
    "        'Heating' : sum(window.area * get_f(season='heating', region=region, direction=window.direction) * nu.get_nu(season='heating', region=region, direction=window.direction) for window in windows),\n",
    "        'Cooling' : sum(window.area * get_f(season='cooling', region=region, direction=window.direction) * nu.get_nu(season='cooling', region=region, direction=window.direction) for window in windows),\n",
    "    }\n",
    "    \n",
    "    UA_check=sum( x['area'] * part_U[x['type']] * H[x['type']] for x in d_Walls+d_Windows ) / area_skin\n",
    "\n",
    "    eta_check = {\n",
    "        'Heating' : (0.034 * sum(x['area'] * part_U[x['type']] * nu.get_nu(region=region, season='heating', direction=x['direction']) for x in d_Walls) + eta['Heating'] * sum_Afnu['Heating']) / area_skin * 100,\n",
    "        'Cooling' : (0.034 * sum(x['area'] * part_U[x['type']] * nu.get_nu(region=region, season='cooling', direction=x['direction']) for x in d_Walls) + eta['Cooling'] * sum_Afnu['Cooling']) / area_skin * 100,\n",
    "    }\n",
    "    \n",
    "    return UA_check, eta_check"
   ]
  },
  {
   "cell_type": "markdown",
   "metadata": {},
   "source": [
    "### 4) 基準値計算用の住宅のUA値、ηA値の調整"
   ]
  },
  {
   "cell_type": "markdown",
   "metadata": {},
   "source": [
    "#### Outline"
   ]
  },
  {
   "cell_type": "markdown",
   "metadata": {},
   "source": [
    "各種設定値を取得する。  \n",
    "熱貫流率調整係数と開口部日射熱取得率の算出のための各種値を算出する。  \n",
    "熱貫流率調整係数と開口部日射熱取得率を算出する。  \n",
    "基準値計算用の住宅のUA値、ηA値の確認を行う。"
   ]
  },
  {
   "cell_type": "markdown",
   "metadata": {},
   "source": [
    "熱貫流率調整係数と開口部日射熱取得率の算出のための各種値は以下のとおり。"
   ]
  },
  {
   "cell_type": "markdown",
   "metadata": {},
   "source": [
    "$$\n",
    "\\displaystyle\n",
    "(Aη_{A})_H= η_{A,H} \\times A_{total} \n",
    "$$\n",
    "$$\n",
    "\\displaystyle\n",
    "(Aη_{A})_C= η_{A,C} \\times A_{total} \n",
    "$$\n",
    "$$\n",
    "\\displaystyle\n",
    "(AU_{A})= U_{A,s} \\times A_{total} \n",
    "$$"
   ]
  },
  {
   "cell_type": "markdown",
   "metadata": {},
   "source": [
    "$U_{A,s}$: 外皮平均熱貫流率の基準値, W/(m<sup>2</sup>・K)  \n",
    "$η_{A,H}$: 暖房期の外皮平均日射熱取得率の基準値, -  \n",
    "$η_{A,C}$: 冷房期の外皮平均日射熱取得率の基準値, -  \n",
    "$A_{total}$: 総外皮面積, m<sup>2</sup>  \n",
    "添字$H$: 暖房期  \n",
    "添字$C$: 冷房期  "
   ]
  },
  {
   "cell_type": "markdown",
   "metadata": {},
   "source": [
    "$$\n",
    "\\displaystyle\n",
    "(AUν)_H= \\sum_{}^{}(A_{o,i} \\times U_{S,o,i} \\times ν_{H,o,i})\n",
    "$$\n",
    "$$\n",
    "\\displaystyle\n",
    "(AUν)_C= \\sum_{}^{}(A_{o,i} \\times U_{S,o,i} \\times ν_{C,o,i})\n",
    "$$"
   ]
  },
  {
   "cell_type": "markdown",
   "metadata": {},
   "source": [
    "$ν$: 部位の方位係数, -  \n",
    "$A$: 部位の面積, m<sup>2</sup>  \n",
    "$U_{o,s,i}$: 開口部以外の外皮の第$i$番目の部位の熱貫流率の基準値, W/(m<sup>2</sup>・K)  \n",
    "添字$o,i$: 開口部以外の外皮の第$i$番目の部位  "
   ]
  },
  {
   "cell_type": "markdown",
   "metadata": {},
   "source": [
    "$$\n",
    "\\displaystyle\n",
    "(Afν)_H= \\sum_{}^{}(A_{w,i} \\times f_{s,w,i} \\times ν_{H,w,i})\n",
    "$$\n",
    "$$\n",
    "\\displaystyle\n",
    "(Afν)_C= \\sum_{}^{}(A_{w,i} \\times f_{s,w,i} \\times ν_{C,w,i})\n",
    "$$"
   ]
  },
  {
   "cell_type": "markdown",
   "metadata": {},
   "source": [
    "$f$: 部位の日射取得率補正係数, -  \n",
    "添字$w,i$: 開口部の第$i$番目の部位  "
   ]
  },
  {
   "cell_type": "markdown",
   "metadata": {},
   "source": [
    "$U_{s}$: 開口部以外の外皮の第$i$番目の部位の熱貫流率の基準値, W/(m<sup>2</sup>・K)  \n",
    "添字$i$: 外皮の第$i$番目の部位  \n",
    "添字$s,i$: 日射の当たる部位（屋根または天井、外壁、開口部）の第$i$番目の部位  \n",
    "添字$n,i$: 日射の当たらない部位（床）の第$i$番目の部位  "
   ]
  },
  {
   "cell_type": "code",
   "execution_count": 46,
   "metadata": {},
   "outputs": [],
   "source": [
    "def calc_adjustment_factor( d ):\n",
    "    house_type = d['Common']['HouseType']\n",
    "    region = d['Common']['Region']\n",
    "    total_area = d['Common']['TotalOuterSkinArea']\n",
    "    \n",
    "    walls = [Parts(area = p['area'], ptype = p['type'], direction = p['direction']) for p in d['Walls']]\n",
    "    windows = [Parts(area = p['area'], ptype = p['type'], direction = p['direction']) for p in d['Windows']]\n",
    "    inner_walls = [Parts(area = p['area'], ptype = p['type'], direction = None) for p in d['InnerWalls']]\n",
    "    \n",
    "    # 外皮性能に関する基準値\n",
    "    std_UA = get_std_UA(house_type, region)\n",
    "    std_etaAH = get_std_etaAH(house_type, region)\n",
    "    std_etaAC = get_std_etaAC(house_type, region)\n",
    "    print(\"UA基準値{0},ηAH基準値{1},ηAC基準値{2}\".format(std_UA, std_etaAH, std_etaAC))    \n",
    "\n",
    "    q_std_U = get_q_std_U(region, walls, windows)\n",
    "    qs_std_U = get_qs_std_U(region, walls, windows)\n",
    "    qn_std_U = get_qn_std_U(region, walls, windows)\n",
    "    qn_max_U = get_qn_max_U(region, walls, windows)\n",
    "    qn_min_U = get_qn_min_U(region, walls, windows)\n",
    "\n",
    "    # 熱貫流率の調整係数の上下限値\n",
    "    fUs_max, fUs_min = get_fUs_range(region, std_UA, total_area, walls, windows,\n",
    "                                     qs_std_U, qn_max_U, qn_min_U)\n",
    "    fUn_max, fUn_min = get_fUn_range(region, std_UA, total_area, walls, windows,\n",
    "                                     qs_std_U, qn_std_U)\n",
    "\n",
    "    # fUs, fUn, ηの算出\n",
    "    fUs, fUn, eta = get_fU_and_eta(region, std_UA, total_area, walls, windows,\n",
    "                                   std_etaAH, std_etaAC,\n",
    "                                   fUs_min, fUs_max, fUn_min, fUn_max,\n",
    "                                   q_std_U, qs_std_U, qn_std_U)\n",
    "\n",
    "    # 部位別のU値の上下限値\n",
    "    part_U = { x : max(get_min_U(x), min(get_max_U(x), (fUn if x=='Floor' else fUs) * get_std_U(region, x))) for x in ['Ceiling','Wall','Floor','Window'] }\n",
    "    \n",
    "    # 検算\n",
    "    UA_check, eta_check = check_UA_and_etaA( total_area, d['Walls'], d['Windows'],\n",
    "                                            {\n",
    "                                                'Ceiling' : get_H_by_parts(region, 'Ceiling'),\n",
    "                                                'Floor'   : get_H_by_parts(region, 'Floor'),\n",
    "                                                'Wall'    : get_H_by_parts(region, 'Wall'),\n",
    "                                                'Window'  : get_H_by_parts(region, 'Window'),\n",
    "                                            }, part_U, eta, region, walls, windows)\n",
    "    \n",
    "    print(\"U値{0},開口部η{1},開口部ηH{2},開口部ηC{3}\".format(part_U, eta['Average'], eta['Heating'], eta['Cooling']))  \n",
    "    print(\"UA計算値{0},ηAH計算値{1},ηAC計算値{2}\".format(UA_check, eta_check['Heating'], eta_check['Cooling']))\n",
    "    \n",
    "    \n",
    "    return eta['Heating'], eta['Cooling'], part_U"
   ]
  },
  {
   "cell_type": "markdown",
   "metadata": {},
   "source": [
    "## 5. 基準値計算用Lv4入力情報のコンバート（統合）"
   ]
  },
  {
   "cell_type": "markdown",
   "metadata": {},
   "source": [
    "共通情報、外壁・開口部・内壁等の面積等を統合し、基準値計算用住宅のLv4の入力情報にコンバートする。"
   ]
  },
  {
   "cell_type": "markdown",
   "metadata": {},
   "source": [
    "### 1) 共通"
   ]
  },
  {
   "cell_type": "markdown",
   "metadata": {},
   "source": [
    "'Common'要素はそのまま維持する。"
   ]
  },
  {
   "cell_type": "markdown",
   "metadata": {},
   "source": [
    "#### Function"
   ]
  },
  {
   "cell_type": "code",
   "execution_count": 47,
   "metadata": {},
   "outputs": [],
   "source": [
    "def convert_common(d):\n",
    "    return d['Common']"
   ]
  },
  {
   "cell_type": "markdown",
   "metadata": {},
   "source": [
    "### 2) 外壁・開口部・内壁"
   ]
  },
  {
   "cell_type": "markdown",
   "metadata": {},
   "source": [
    "'Walls','Windows','InnerWalls'要素の面積を推定し、性能値や層構成を設定する。"
   ]
  },
  {
   "cell_type": "markdown",
   "metadata": {},
   "source": [
    "#### Function"
   ]
  },
  {
   "cell_type": "code",
   "execution_count": 48,
   "metadata": {},
   "outputs": [],
   "source": [
    "def convert_parts(standard_d):\n",
    "    \n",
    "    # 部位面積の取得\n",
    "    standard_d['Walls'], standard_d['Windows'], standard_d['InnerWalls'] = get_area( standard_d )\n",
    "\n",
    "    # U値、η値の取得\n",
    "    eta_heating, eta_cooling, part_U = calc_adjustment_factor( standard_d )\n",
    "    \n",
    "    # U値、η値の設定\n",
    "    for x in standard_d['Walls'] :\n",
    "        x['U'] = part_U[x['type']]\n",
    "    for x in standard_d['Windows'] :\n",
    "        x['U'] = part_U['Window']\n",
    "        x['eta_heating'], x['eta_cooling'] = eta_heating, eta_cooling\n",
    "        \n",
    "    # 層構成の取得\n",
    "    for x in standard_d['Walls'] :\n",
    "        layers = convert_u_value_to_spec( x['structure'], x['type'], x['U'] )\n",
    "        x['layers'] = [vars(layers[0]), vars(layers[1])]\n",
    "    for x in standard_d['InnerWalls'] :       \n",
    "        x['layers'] = get_innerwall()['Layers']\n",
    "        \n",
    "    return standard_d['Walls'], standard_d['Windows'], standard_d['InnerWalls']"
   ]
  },
  {
   "cell_type": "code",
   "execution_count": 49,
   "metadata": {},
   "outputs": [
    {
     "name": "stdout",
     "output_type": "stream",
     "text": [
      "UA基準値0.87,ηAH基準値4.3,ηAC基準値2.8\n",
      "U値{'Ceiling': 0.23134879598168115, 'Wall': 0.5108952577928793, 'Floor': 0.46269759196336163, 'Window': 4.482382922145073},開口部η0.5233078083689553,開口部ηH0.47631857011339257,開口部ηC0.570297046624518\n",
      "UA計算値0.87,ηAH計算値4.300000000000001,ηAC計算値2.7999999999999994\n"
     ]
    },
    {
     "data": {
      "text/plain": [
       "([{'name': 'Ceiling_main',\n",
       "   'area': 15.000000000000002,\n",
       "   'space': 'main',\n",
       "   'type': 'Ceiling',\n",
       "   'direction': 'Top',\n",
       "   'structure': 'Wood',\n",
       "   'U': 0.23134879598168115,\n",
       "   'layers': [{'name': 'GW16K', 'thick': 0.186, 'cond': 0.045, 'spech': 13.0},\n",
       "    {'name': 'GPB', 'thick': 0.0095, 'cond': 0.22, 'spech': 830.0}]},\n",
       "  {'name': 'Ceiling_other',\n",
       "   'area': 30.000000000000004,\n",
       "   'space': 'other',\n",
       "   'type': 'Ceiling',\n",
       "   'direction': 'Top',\n",
       "   'structure': 'Wood',\n",
       "   'U': 0.23134879598168115,\n",
       "   'layers': [{'name': 'GW16K', 'thick': 0.186, 'cond': 0.045, 'spech': 13.0},\n",
       "    {'name': 'GPB', 'thick': 0.0095, 'cond': 0.22, 'spech': 830.0}]},\n",
       "  {'name': 'Ceiling_nonliving',\n",
       "   'area': 15.0,\n",
       "   'space': 'nonliving',\n",
       "   'type': 'Ceiling',\n",
       "   'direction': 'Top',\n",
       "   'structure': 'Wood',\n",
       "   'U': 0.23134879598168115,\n",
       "   'layers': [{'name': 'GW16K', 'thick': 0.186, 'cond': 0.045, 'spech': 13.0},\n",
       "    {'name': 'GPB', 'thick': 0.0095, 'cond': 0.22, 'spech': 830.0}]},\n",
       "  {'name': 'Floor_main',\n",
       "   'area': 45.00000000000001,\n",
       "   'space': 'main',\n",
       "   'type': 'Floor',\n",
       "   'direction': 'Bottom',\n",
       "   'structure': 'Wood',\n",
       "   'U': 0.46269759196336163,\n",
       "   'layers': [{'name': 'GW16K', 'thick': 0.085, 'cond': 0.045, 'spech': 13.0},\n",
       "    {'name': 'PED', 'thick': 0.012, 'cond': 0.16, 'spech': 720.0}]},\n",
       "  {'name': 'Floor_nonliving',\n",
       "   'area': 15.0,\n",
       "   'space': 'nonliving',\n",
       "   'type': 'Floor',\n",
       "   'direction': 'Bottom',\n",
       "   'structure': 'Wood',\n",
       "   'U': 0.46269759196336163,\n",
       "   'layers': [{'name': 'GW16K', 'thick': 0.085, 'cond': 0.045, 'spech': 13.0},\n",
       "    {'name': 'PED', 'thick': 0.012, 'cond': 0.16, 'spech': 720.0}]},\n",
       "  {'name': 'WallN_nonliving',\n",
       "   'area': 75.64400000000002,\n",
       "   'space': 'nonliving',\n",
       "   'type': 'Wall',\n",
       "   'direction': 'N',\n",
       "   'structure': 'Wood',\n",
       "   'U': 0.5108952577928793,\n",
       "   'layers': [{'name': 'GW16K', 'thick': 0.079, 'cond': 0.045, 'spech': 13.0},\n",
       "    {'name': 'GPB', 'thick': 0.0095, 'cond': 0.22, 'spech': 830.0}]},\n",
       "  {'name': 'WallS_main',\n",
       "   'area': 35.85191428571429,\n",
       "   'space': 'main',\n",
       "   'type': 'Wall',\n",
       "   'direction': 'S',\n",
       "   'structure': 'Wood',\n",
       "   'U': 0.5108952577928793,\n",
       "   'layers': [{'name': 'GW16K', 'thick': 0.079, 'cond': 0.045, 'spech': 13.0},\n",
       "    {'name': 'GPB', 'thick': 0.0095, 'cond': 0.22, 'spech': 830.0}]},\n",
       "  {'name': 'WallS_other',\n",
       "   'area': 16.982485714285716,\n",
       "   'space': 'other',\n",
       "   'type': 'Wall',\n",
       "   'direction': 'S',\n",
       "   'structure': 'Wood',\n",
       "   'U': 0.5108952577928793,\n",
       "   'layers': [{'name': 'GW16K', 'thick': 0.079, 'cond': 0.045, 'spech': 13.0},\n",
       "    {'name': 'GPB', 'thick': 0.0095, 'cond': 0.22, 'spech': 830.0}]},\n",
       "  {'name': 'WallE_main',\n",
       "   'area': 26.0796,\n",
       "   'space': 'main',\n",
       "   'type': 'Wall',\n",
       "   'direction': 'E',\n",
       "   'structure': 'Wood',\n",
       "   'U': 0.5108952577928793,\n",
       "   'layers': [{'name': 'GW16K', 'thick': 0.079, 'cond': 0.045, 'spech': 13.0},\n",
       "    {'name': 'GPB', 'thick': 0.0095, 'cond': 0.22, 'spech': 830.0}]},\n",
       "  {'name': 'WallE_nonliving',\n",
       "   'area': 8.6932,\n",
       "   'space': 'nonliving',\n",
       "   'type': 'Wall',\n",
       "   'direction': 'E',\n",
       "   'structure': 'Wood',\n",
       "   'U': 0.5108952577928793,\n",
       "   'layers': [{'name': 'GW16K', 'thick': 0.079, 'cond': 0.045, 'spech': 13.0},\n",
       "    {'name': 'GPB', 'thick': 0.0095, 'cond': 0.22, 'spech': 830.0}]},\n",
       "  {'name': 'WallW_main',\n",
       "   'area': 14.428328571428573,\n",
       "   'space': 'main',\n",
       "   'type': 'Wall',\n",
       "   'direction': 'W',\n",
       "   'structure': 'Wood',\n",
       "   'U': 0.5108952577928793,\n",
       "   'layers': [{'name': 'GW16K', 'thick': 0.079, 'cond': 0.045, 'spech': 13.0},\n",
       "    {'name': 'GPB', 'thick': 0.0095, 'cond': 0.22, 'spech': 830.0}]},\n",
       "  {'name': 'WallW_other',\n",
       "   'area': 13.43327142857143,\n",
       "   'space': 'other',\n",
       "   'type': 'Wall',\n",
       "   'direction': 'W',\n",
       "   'structure': 'Wood',\n",
       "   'U': 0.5108952577928793,\n",
       "   'layers': [{'name': 'GW16K', 'thick': 0.079, 'cond': 0.045, 'spech': 13.0},\n",
       "    {'name': 'GPB', 'thick': 0.0095, 'cond': 0.22, 'spech': 830.0}]},\n",
       "  {'name': 'WallW_nonliving',\n",
       "   'area': 9.2872,\n",
       "   'space': 'nonliving',\n",
       "   'type': 'Wall',\n",
       "   'direction': 'W',\n",
       "   'structure': 'Wood',\n",
       "   'U': 0.5108952577928793,\n",
       "   'layers': [{'name': 'GW16K', 'thick': 0.079, 'cond': 0.045, 'spech': 13.0},\n",
       "    {'name': 'GPB', 'thick': 0.0095, 'cond': 0.22, 'spech': 830.0}]}],\n",
       " [{'name': 'N_nonliving',\n",
       "   'area': 4.356,\n",
       "   'space': 'nonliving',\n",
       "   'type': 'Window',\n",
       "   'direction': 'N',\n",
       "   'U': 4.482382922145073,\n",
       "   'eta_heating': 0.47631857011339257,\n",
       "   'eta_cooling': 0.570297046624518},\n",
       "  {'name': 'S_main',\n",
       "   'area': 18.433800000000005,\n",
       "   'space': 'main',\n",
       "   'type': 'Window',\n",
       "   'direction': 'S',\n",
       "   'U': 4.482382922145073,\n",
       "   'eta_heating': 0.47631857011339257,\n",
       "   'eta_cooling': 0.570297046624518},\n",
       "  {'name': 'S_other',\n",
       "   'area': 8.731800000000002,\n",
       "   'space': 'other',\n",
       "   'type': 'Window',\n",
       "   'direction': 'S',\n",
       "   'U': 4.482382922145073,\n",
       "   'eta_heating': 0.47631857011339257,\n",
       "   'eta_cooling': 0.570297046624518},\n",
       "  {'name': 'E_main',\n",
       "   'area': 3.9204000000000008,\n",
       "   'space': 'main',\n",
       "   'type': 'Window',\n",
       "   'direction': 'E',\n",
       "   'U': 4.482382922145073,\n",
       "   'eta_heating': 0.47631857011339257,\n",
       "   'eta_cooling': 0.570297046624518},\n",
       "  {'name': 'E_nonliving',\n",
       "   'area': 1.3068000000000002,\n",
       "   'space': 'nonliving',\n",
       "   'type': 'Window',\n",
       "   'direction': 'E',\n",
       "   'U': 4.482382922145073,\n",
       "   'eta_heating': 0.47631857011339257,\n",
       "   'eta_cooling': 0.570297046624518},\n",
       "  {'name': 'W_main',\n",
       "   'area': 1.1073857142857144,\n",
       "   'space': 'main',\n",
       "   'type': 'Window',\n",
       "   'direction': 'W',\n",
       "   'U': 4.482382922145073,\n",
       "   'eta_heating': 0.47631857011339257,\n",
       "   'eta_cooling': 0.570297046624518},\n",
       "  {'name': 'W_other',\n",
       "   'area': 1.0310142857142859,\n",
       "   'space': 'other',\n",
       "   'type': 'Window',\n",
       "   'direction': 'W',\n",
       "   'U': 4.482382922145073,\n",
       "   'eta_heating': 0.47631857011339257,\n",
       "   'eta_cooling': 0.570297046624518},\n",
       "  {'name': 'W_nonliving',\n",
       "   'area': 0.7128,\n",
       "   'space': 'nonliving',\n",
       "   'type': 'Window',\n",
       "   'direction': 'W',\n",
       "   'U': 4.482382922145073,\n",
       "   'eta_heating': 0.47631857011339257,\n",
       "   'eta_cooling': 0.570297046624518}],\n",
       " [{'name': 'InnerWall_main to other',\n",
       "   'area': 65.48469387755104,\n",
       "   'space': 'main to other',\n",
       "   'type': 'InnerWall',\n",
       "   'layers': [{'Name': 'GPB', 'Cond': 0.22, 'Thick': 0.0125, 'SpecH': 830.0},\n",
       "    {'Name': 'GPB', 'Cond': 11.11111111111111, 'Thick': 1, 'SpecH': 0},\n",
       "    {'Name': 'GPB', 'Cond': 0.22, 'Thick': 0.0125, 'SpecH': 830.0}]},\n",
       "  {'name': 'InnerWall_main to lonliving',\n",
       "   'area': 54.28571428571429,\n",
       "   'space': 'main to lonliving',\n",
       "   'type': 'InnerWall',\n",
       "   'layers': [{'Name': 'GPB', 'Cond': 0.22, 'Thick': 0.0125, 'SpecH': 830.0},\n",
       "    {'Name': 'GPB', 'Cond': 11.11111111111111, 'Thick': 1, 'SpecH': 0},\n",
       "    {'Name': 'GPB', 'Cond': 0.22, 'Thick': 0.0125, 'SpecH': 830.0}]},\n",
       "  {'name': 'InnerWall_other to nonliving',\n",
       "   'area': 25.71428571428572,\n",
       "   'space': 'other to nonliving',\n",
       "   'type': 'InnerWall',\n",
       "   'layers': [{'Name': 'GPB', 'Cond': 0.22, 'Thick': 0.0125, 'SpecH': 830.0},\n",
       "    {'Name': 'GPB', 'Cond': 11.11111111111111, 'Thick': 1, 'SpecH': 0},\n",
       "    {'Name': 'GPB', 'Cond': 0.22, 'Thick': 0.0125, 'SpecH': 830.0}]}])"
      ]
     },
     "execution_count": 49,
     "metadata": {},
     "output_type": "execute_result"
    }
   ],
   "source": [
    "convert_parts({\n",
    "    'Common': {\n",
    "        'Region': 6,\n",
    "        'MainOccupantRoomFloorArea': 60.0,\n",
    "        'OtherOccupantRoomFloorArea': 30.0,\n",
    "        'TotalFloorArea': 120.0,\n",
    "        'TotalOuterSkinArea': 360.0,\n",
    "        'HouseType': 'detached' # 'detached','condominium'\n",
    "    }\n",
    "})"
   ]
  },
  {
   "cell_type": "markdown",
   "metadata": {},
   "source": [
    "### 3) 統合"
   ]
  },
  {
   "cell_type": "markdown",
   "metadata": {},
   "source": [
    "#### Function"
   ]
  },
  {
   "cell_type": "code",
   "execution_count": 50,
   "metadata": {},
   "outputs": [],
   "source": [
    "def convert(d):\n",
    "    \n",
    "    standard_d = {}\n",
    "    standard_d['Common'] = convert_common(d)\n",
    "    standard_d['Walls'], standard_d['Windows'], standard_d['InnerWalls'] = convert_parts(d)\n",
    "    \n",
    "    return standard_d"
   ]
  },
  {
   "cell_type": "markdown",
   "metadata": {},
   "source": [
    "#### Example"
   ]
  },
  {
   "cell_type": "code",
   "execution_count": 51,
   "metadata": {},
   "outputs": [
    {
     "name": "stdout",
     "output_type": "stream",
     "text": [
      "UA基準値0.87,ηAH基準値4.3,ηAC基準値2.8\n",
      "U値{'Ceiling': 0.23134879598168115, 'Wall': 0.5108952577928793, 'Floor': 0.46269759196336163, 'Window': 4.482382922145073},開口部η0.5233078083689553,開口部ηH0.47631857011339257,開口部ηC0.570297046624518\n",
      "UA計算値0.87,ηAH計算値4.300000000000001,ηAC計算値2.7999999999999994\n"
     ]
    },
    {
     "data": {
      "text/plain": [
       "{'Common': {'Region': 6,\n",
       "  'MainOccupantRoomFloorArea': 60.0,\n",
       "  'OtherOccupantRoomFloorArea': 30.0,\n",
       "  'TotalFloorArea': 120.0,\n",
       "  'TotalOuterSkinArea': 360.0,\n",
       "  'HouseType': 'detached'},\n",
       " 'Walls': [{'name': 'Ceiling_main',\n",
       "   'area': 15.000000000000002,\n",
       "   'space': 'main',\n",
       "   'type': 'Ceiling',\n",
       "   'direction': 'Top',\n",
       "   'structure': 'Wood',\n",
       "   'U': 0.23134879598168115,\n",
       "   'layers': [{'name': 'GW16K', 'thick': 0.186, 'cond': 0.045, 'spech': 13.0},\n",
       "    {'name': 'GPB', 'thick': 0.0095, 'cond': 0.22, 'spech': 830.0}]},\n",
       "  {'name': 'Ceiling_other',\n",
       "   'area': 30.000000000000004,\n",
       "   'space': 'other',\n",
       "   'type': 'Ceiling',\n",
       "   'direction': 'Top',\n",
       "   'structure': 'Wood',\n",
       "   'U': 0.23134879598168115,\n",
       "   'layers': [{'name': 'GW16K', 'thick': 0.186, 'cond': 0.045, 'spech': 13.0},\n",
       "    {'name': 'GPB', 'thick': 0.0095, 'cond': 0.22, 'spech': 830.0}]},\n",
       "  {'name': 'Ceiling_nonliving',\n",
       "   'area': 15.0,\n",
       "   'space': 'nonliving',\n",
       "   'type': 'Ceiling',\n",
       "   'direction': 'Top',\n",
       "   'structure': 'Wood',\n",
       "   'U': 0.23134879598168115,\n",
       "   'layers': [{'name': 'GW16K', 'thick': 0.186, 'cond': 0.045, 'spech': 13.0},\n",
       "    {'name': 'GPB', 'thick': 0.0095, 'cond': 0.22, 'spech': 830.0}]},\n",
       "  {'name': 'Floor_main',\n",
       "   'area': 45.00000000000001,\n",
       "   'space': 'main',\n",
       "   'type': 'Floor',\n",
       "   'direction': 'Bottom',\n",
       "   'structure': 'Wood',\n",
       "   'U': 0.46269759196336163,\n",
       "   'layers': [{'name': 'GW16K', 'thick': 0.085, 'cond': 0.045, 'spech': 13.0},\n",
       "    {'name': 'PED', 'thick': 0.012, 'cond': 0.16, 'spech': 720.0}]},\n",
       "  {'name': 'Floor_nonliving',\n",
       "   'area': 15.0,\n",
       "   'space': 'nonliving',\n",
       "   'type': 'Floor',\n",
       "   'direction': 'Bottom',\n",
       "   'structure': 'Wood',\n",
       "   'U': 0.46269759196336163,\n",
       "   'layers': [{'name': 'GW16K', 'thick': 0.085, 'cond': 0.045, 'spech': 13.0},\n",
       "    {'name': 'PED', 'thick': 0.012, 'cond': 0.16, 'spech': 720.0}]},\n",
       "  {'name': 'WallN_nonliving',\n",
       "   'area': 75.64400000000002,\n",
       "   'space': 'nonliving',\n",
       "   'type': 'Wall',\n",
       "   'direction': 'N',\n",
       "   'structure': 'Wood',\n",
       "   'U': 0.5108952577928793,\n",
       "   'layers': [{'name': 'GW16K', 'thick': 0.079, 'cond': 0.045, 'spech': 13.0},\n",
       "    {'name': 'GPB', 'thick': 0.0095, 'cond': 0.22, 'spech': 830.0}]},\n",
       "  {'name': 'WallS_main',\n",
       "   'area': 35.85191428571429,\n",
       "   'space': 'main',\n",
       "   'type': 'Wall',\n",
       "   'direction': 'S',\n",
       "   'structure': 'Wood',\n",
       "   'U': 0.5108952577928793,\n",
       "   'layers': [{'name': 'GW16K', 'thick': 0.079, 'cond': 0.045, 'spech': 13.0},\n",
       "    {'name': 'GPB', 'thick': 0.0095, 'cond': 0.22, 'spech': 830.0}]},\n",
       "  {'name': 'WallS_other',\n",
       "   'area': 16.982485714285716,\n",
       "   'space': 'other',\n",
       "   'type': 'Wall',\n",
       "   'direction': 'S',\n",
       "   'structure': 'Wood',\n",
       "   'U': 0.5108952577928793,\n",
       "   'layers': [{'name': 'GW16K', 'thick': 0.079, 'cond': 0.045, 'spech': 13.0},\n",
       "    {'name': 'GPB', 'thick': 0.0095, 'cond': 0.22, 'spech': 830.0}]},\n",
       "  {'name': 'WallE_main',\n",
       "   'area': 26.0796,\n",
       "   'space': 'main',\n",
       "   'type': 'Wall',\n",
       "   'direction': 'E',\n",
       "   'structure': 'Wood',\n",
       "   'U': 0.5108952577928793,\n",
       "   'layers': [{'name': 'GW16K', 'thick': 0.079, 'cond': 0.045, 'spech': 13.0},\n",
       "    {'name': 'GPB', 'thick': 0.0095, 'cond': 0.22, 'spech': 830.0}]},\n",
       "  {'name': 'WallE_nonliving',\n",
       "   'area': 8.6932,\n",
       "   'space': 'nonliving',\n",
       "   'type': 'Wall',\n",
       "   'direction': 'E',\n",
       "   'structure': 'Wood',\n",
       "   'U': 0.5108952577928793,\n",
       "   'layers': [{'name': 'GW16K', 'thick': 0.079, 'cond': 0.045, 'spech': 13.0},\n",
       "    {'name': 'GPB', 'thick': 0.0095, 'cond': 0.22, 'spech': 830.0}]},\n",
       "  {'name': 'WallW_main',\n",
       "   'area': 14.428328571428573,\n",
       "   'space': 'main',\n",
       "   'type': 'Wall',\n",
       "   'direction': 'W',\n",
       "   'structure': 'Wood',\n",
       "   'U': 0.5108952577928793,\n",
       "   'layers': [{'name': 'GW16K', 'thick': 0.079, 'cond': 0.045, 'spech': 13.0},\n",
       "    {'name': 'GPB', 'thick': 0.0095, 'cond': 0.22, 'spech': 830.0}]},\n",
       "  {'name': 'WallW_other',\n",
       "   'area': 13.43327142857143,\n",
       "   'space': 'other',\n",
       "   'type': 'Wall',\n",
       "   'direction': 'W',\n",
       "   'structure': 'Wood',\n",
       "   'U': 0.5108952577928793,\n",
       "   'layers': [{'name': 'GW16K', 'thick': 0.079, 'cond': 0.045, 'spech': 13.0},\n",
       "    {'name': 'GPB', 'thick': 0.0095, 'cond': 0.22, 'spech': 830.0}]},\n",
       "  {'name': 'WallW_nonliving',\n",
       "   'area': 9.2872,\n",
       "   'space': 'nonliving',\n",
       "   'type': 'Wall',\n",
       "   'direction': 'W',\n",
       "   'structure': 'Wood',\n",
       "   'U': 0.5108952577928793,\n",
       "   'layers': [{'name': 'GW16K', 'thick': 0.079, 'cond': 0.045, 'spech': 13.0},\n",
       "    {'name': 'GPB', 'thick': 0.0095, 'cond': 0.22, 'spech': 830.0}]}],\n",
       " 'Windows': [{'name': 'N_nonliving',\n",
       "   'area': 4.356,\n",
       "   'space': 'nonliving',\n",
       "   'type': 'Window',\n",
       "   'direction': 'N',\n",
       "   'U': 4.482382922145073,\n",
       "   'eta_heating': 0.47631857011339257,\n",
       "   'eta_cooling': 0.570297046624518},\n",
       "  {'name': 'S_main',\n",
       "   'area': 18.433800000000005,\n",
       "   'space': 'main',\n",
       "   'type': 'Window',\n",
       "   'direction': 'S',\n",
       "   'U': 4.482382922145073,\n",
       "   'eta_heating': 0.47631857011339257,\n",
       "   'eta_cooling': 0.570297046624518},\n",
       "  {'name': 'S_other',\n",
       "   'area': 8.731800000000002,\n",
       "   'space': 'other',\n",
       "   'type': 'Window',\n",
       "   'direction': 'S',\n",
       "   'U': 4.482382922145073,\n",
       "   'eta_heating': 0.47631857011339257,\n",
       "   'eta_cooling': 0.570297046624518},\n",
       "  {'name': 'E_main',\n",
       "   'area': 3.9204000000000008,\n",
       "   'space': 'main',\n",
       "   'type': 'Window',\n",
       "   'direction': 'E',\n",
       "   'U': 4.482382922145073,\n",
       "   'eta_heating': 0.47631857011339257,\n",
       "   'eta_cooling': 0.570297046624518},\n",
       "  {'name': 'E_nonliving',\n",
       "   'area': 1.3068000000000002,\n",
       "   'space': 'nonliving',\n",
       "   'type': 'Window',\n",
       "   'direction': 'E',\n",
       "   'U': 4.482382922145073,\n",
       "   'eta_heating': 0.47631857011339257,\n",
       "   'eta_cooling': 0.570297046624518},\n",
       "  {'name': 'W_main',\n",
       "   'area': 1.1073857142857144,\n",
       "   'space': 'main',\n",
       "   'type': 'Window',\n",
       "   'direction': 'W',\n",
       "   'U': 4.482382922145073,\n",
       "   'eta_heating': 0.47631857011339257,\n",
       "   'eta_cooling': 0.570297046624518},\n",
       "  {'name': 'W_other',\n",
       "   'area': 1.0310142857142859,\n",
       "   'space': 'other',\n",
       "   'type': 'Window',\n",
       "   'direction': 'W',\n",
       "   'U': 4.482382922145073,\n",
       "   'eta_heating': 0.47631857011339257,\n",
       "   'eta_cooling': 0.570297046624518},\n",
       "  {'name': 'W_nonliving',\n",
       "   'area': 0.7128,\n",
       "   'space': 'nonliving',\n",
       "   'type': 'Window',\n",
       "   'direction': 'W',\n",
       "   'U': 4.482382922145073,\n",
       "   'eta_heating': 0.47631857011339257,\n",
       "   'eta_cooling': 0.570297046624518}],\n",
       " 'InnerWalls': [{'name': 'InnerWall_main to other',\n",
       "   'area': 65.48469387755104,\n",
       "   'space': 'main to other',\n",
       "   'type': 'InnerWall',\n",
       "   'layers': [{'Name': 'GPB', 'Cond': 0.22, 'Thick': 0.0125, 'SpecH': 830.0},\n",
       "    {'Name': 'GPB', 'Cond': 11.11111111111111, 'Thick': 1, 'SpecH': 0},\n",
       "    {'Name': 'GPB', 'Cond': 0.22, 'Thick': 0.0125, 'SpecH': 830.0}]},\n",
       "  {'name': 'InnerWall_main to lonliving',\n",
       "   'area': 54.28571428571429,\n",
       "   'space': 'main to lonliving',\n",
       "   'type': 'InnerWall',\n",
       "   'layers': [{'Name': 'GPB', 'Cond': 0.22, 'Thick': 0.0125, 'SpecH': 830.0},\n",
       "    {'Name': 'GPB', 'Cond': 11.11111111111111, 'Thick': 1, 'SpecH': 0},\n",
       "    {'Name': 'GPB', 'Cond': 0.22, 'Thick': 0.0125, 'SpecH': 830.0}]},\n",
       "  {'name': 'InnerWall_other to nonliving',\n",
       "   'area': 25.71428571428572,\n",
       "   'space': 'other to nonliving',\n",
       "   'type': 'InnerWall',\n",
       "   'layers': [{'Name': 'GPB', 'Cond': 0.22, 'Thick': 0.0125, 'SpecH': 830.0},\n",
       "    {'Name': 'GPB', 'Cond': 11.11111111111111, 'Thick': 1, 'SpecH': 0},\n",
       "    {'Name': 'GPB', 'Cond': 0.22, 'Thick': 0.0125, 'SpecH': 830.0}]}]}"
      ]
     },
     "execution_count": 51,
     "metadata": {},
     "output_type": "execute_result"
    }
   ],
   "source": [
    "d = {\n",
    "    'Common': {\n",
    "        'Region': 6,\n",
    "        'MainOccupantRoomFloorArea': 60.0,\n",
    "        'OtherOccupantRoomFloorArea': 30.0,\n",
    "        'TotalFloorArea': 120.0,\n",
    "        'TotalOuterSkinArea': 360.0,\n",
    "        'HouseType': 'detached' # 'detached','condominium'\n",
    "    }\n",
    "}\n",
    "\n",
    "convert(d)"
   ]
  },
  {
   "cell_type": "code",
   "execution_count": null,
   "metadata": {},
   "outputs": [],
   "source": []
  }
 ],
 "metadata": {
  "kernelspec": {
   "display_name": "Python 3",
   "language": "python",
   "name": "python3"
  },
  "language_info": {
   "codemirror_mode": {
    "name": "ipython",
    "version": 3
   },
   "file_extension": ".py",
   "mimetype": "text/x-python",
   "name": "python",
   "nbconvert_exporter": "python",
   "pygments_lexer": "ipython3",
   "version": "3.7.0"
  }
 },
 "nbformat": 4,
 "nbformat_minor": 2
}
