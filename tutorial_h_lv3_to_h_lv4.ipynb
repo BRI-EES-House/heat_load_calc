{
 "cells": [
  {
   "cell_type": "markdown",
   "metadata": {},
   "source": [
    "# 外皮情報LV3からLV4へのコンバート"
   ]
  },
  {
   "cell_type": "markdown",
   "metadata": {},
   "source": [
    "## I. 関数"
   ]
  },
  {
   "cell_type": "markdown",
   "metadata": {},
   "source": [
    "### 1. 間仕切り床"
   ]
  },
  {
   "cell_type": "markdown",
   "metadata": {},
   "source": [
    "#### 1) 床の仕様"
   ]
  },
  {
   "cell_type": "markdown",
   "metadata": {},
   "source": [
    "| 番号 | 材料 | 熱伝導率, W m<sup>-1</sup> K<sup>-1</sup> | 容積比熱, J L<sup>-1</sup> K<sup>-1</sup> | 厚さ, m |\n",
    "|---|---|---|---|---|\n",
    "| 1 | 合板 | 0.16 | 720.0 | 0.024 |"
   ]
  },
  {
   "cell_type": "markdown",
   "metadata": {},
   "source": [
    "#### 2) 方位が下面である外皮の部位の面積の合計"
   ]
  },
  {
   "cell_type": "markdown",
   "metadata": {},
   "source": [
    "$$A_{evlp,down,MR} = \\sum_i{A_{evlp,down,MR,i}}$$ "
   ]
  },
  {
   "cell_type": "markdown",
   "metadata": {},
   "source": [
    "$$A_{evlp,down,OR} = \\sum_i{A_{evlp,down,OR,i}}$$ "
   ]
  },
  {
   "cell_type": "markdown",
   "metadata": {},
   "source": [
    "$$A_{evlp,down,NR} = \\sum_i{A_{evlp,down,NR,i}}$$ "
   ]
  },
  {
   "cell_type": "markdown",
   "metadata": {},
   "source": [
    "$A_{evlp,down,MR}$：主たる居室に接する方位が下面である外皮の部位の面積の合計, m<sup>2</sup>  \n",
    "$A_{evlp,down,OR}$：その他の居室に接する方位が下面である外皮の部位の面積の合計, m<sup>2</sup>  \n",
    "$A_{evlp,down,NR}$：非居室に接する方位が下面である外皮の部位の面積の合計, m<sup>2</sup>  \n",
    "$A_{evlp,down,MR,i}$：主たる居室に接する方位が下面である外皮の部位iの面積, m<sup>2</sup>  \n",
    "$A_{evlp,down,OR,i}$：その他の居室に接する方位が下面である外皮の部位iの面積, m<sup>2</sup>  \n",
    "$A_{evlp,down,NR,i}$：非居室に接する方位が下面である外皮の部位iの面積, m<sup>2</sup>  "
   ]
  },
  {
   "cell_type": "markdown",
   "metadata": {},
   "source": [
    "#### 3) 土間床等の中心部の面積の合計"
   ]
  },
  {
   "cell_type": "markdown",
   "metadata": {},
   "source": [
    "$$A_{ef,MR} = \\sum_i {A_{ef,MR,i}}$$ "
   ]
  },
  {
   "cell_type": "markdown",
   "metadata": {},
   "source": [
    "$$A_{ef,OR}=\\sum_i{A_{ef,OR,i}}$$"
   ]
  },
  {
   "cell_type": "markdown",
   "metadata": {},
   "source": [
    "$$A_{ef,NR}=\\sum_i{A_{ef,NR,i}}$$ "
   ]
  },
  {
   "cell_type": "markdown",
   "metadata": {},
   "source": [
    "$$A_{ef,uf}=\\sum_i{A_{ef,uf,i}}$$ "
   ]
  },
  {
   "cell_type": "markdown",
   "metadata": {},
   "source": [
    "$A_{ef,MR}$：主たる居室に接する土間床等の中心部の面積の合計, m<sup>2</sup>  \n",
    "$A_{ef,OR}$：その他の居室に接する土間床等の中心部の面積の合計, m<sup>2</sup>  \n",
    "$A_{ef,NR}$：非居室に接する土間床等の中心部の面積の合計, m<sup>2</sup>  \n",
    "$A_{ef,uf}$：床下空間に接する土間床等の中心部の面積の合計, m<sup>2</sup>  \n",
    "$A_{ef,MR,i}$：主たる居室に接する土間床等の中心部$i$の面積, m<sup>2</sup>  \n",
    "$A_{ef,OR,i}$：その他の居室に接する土間床等の中心部$i$の面積, m<sup>2</sup>  \n",
    "$A_{ef,NR,i}$：非居室に接する土間床等の中心部$i$の面積, m<sup>2</sup>  \n",
    "$A_{ef,uf}$：床下空間に接する土間床等の中心部$i$の面積, m<sup>2</sup>  "
   ]
  },
  {
   "cell_type": "markdown",
   "metadata": {},
   "source": [
    "#### 4) 間仕切り床の面積の合計"
   ]
  },
  {
   "cell_type": "markdown",
   "metadata": {},
   "source": [
    "$$\n",
    "A_{if,MR} = \\max \\left( 0, A_{MR} - A_{evlp,down,MR} - A_{ef,MR} \\right)\n",
    "$$"
   ]
  },
  {
   "cell_type": "markdown",
   "metadata": {},
   "source": [
    "$$\n",
    "A_{if,OR} = \\max \\left( 0, A_{OR} - A_{evlp,down,OR} - A_{ef,OR} \\right)\n",
    "$$"
   ]
  },
  {
   "cell_type": "markdown",
   "metadata": {},
   "source": [
    "$$\n",
    "A_{if,NR} = \\max \\left( 0, A_A - A_{MR} - A_{OR} - A_{evlp,down,NR} - A_{ef,NR} \\right)\n",
    "$$"
   ]
  },
  {
   "cell_type": "markdown",
   "metadata": {},
   "source": [
    "$A_{if,MR}$：床上側が主たる居室に接する間仕切り床の面積の合計, m<sup>2</sup>  \n",
    "$A_{if,OR}$：床上側がその他の居室に接する間仕切り床の面積の合計, m<sup>2</sup>  \n",
    "$A_{if,NR}$：床上側が非居室に接する間仕切り床の面積の合計, m<sup>2</sup>  \n",
    "$A_{MR}$: 主たる居室の床面積, m<sup>2</sup>  \n",
    "$A_{OR}$: その他の居室の床面積, m<sup>2</sup>  \n",
    "$A_{A}$: 床面積の合計, m<sup>2</sup>   \n",
    "$A_{evlp,down,MR}$：主たる居室に接する方位が下面である外皮の部位の面積の合計, m<sup>2</sup>  \n",
    "$A_{evlp,down,OR}$：その他の居室に接する方位が下面である外皮の部位の面積の合計, m<sup>2</sup>  \n",
    "$A_{evlp,down,NR}$：非居室に接する方位が下面である外皮の部位の面積の合計, m<sup>2</sup>  \n",
    "$A_{ef,MR}$：主たる居室に接する土間床等の中心部の面積の合計, m<sup>2</sup>  \n",
    "$A_{ef,OR}$：その他の居室に接する土間床等の中心部の面積の合計, m<sup>2</sup>  \n",
    "$A_{ef,NR}$：非居室に接する土間床等の中心部の面積の合計, m<sup>2</sup>  "
   ]
  },
  {
   "cell_type": "markdown",
   "metadata": {},
   "source": [
    "#### 5) 間仕切り床の面積の合計（床下側が床下空間）"
   ]
  },
  {
   "cell_type": "markdown",
   "metadata": {},
   "source": [
    "$A_{if,MR} + A_{if,OR} + A_{if,NR} > 0$の場合"
   ]
  },
  {
   "cell_type": "markdown",
   "metadata": {},
   "source": [
    "$$A_{if,MR-uf} = A_{ef,uf} \\frac{A_{if,MR}}{A_{if,MR} + A_{if,OR} + A_{if,NR}}$$"
   ]
  },
  {
   "cell_type": "markdown",
   "metadata": {},
   "source": [
    "$$A_{if,OR-uf} = A_{ef,uf} \\frac{A_{if,OR}}{A_{if,MR} + A_{if,OR} + A_{if,NR}}$$"
   ]
  },
  {
   "cell_type": "markdown",
   "metadata": {},
   "source": [
    "$$A_{if,NR-uf} = A_{ef,uf} \\frac{A_{if,NR}}{A_{if,MR} + A_{if,OR} + A_{if,NR}}$$"
   ]
  },
  {
   "cell_type": "markdown",
   "metadata": {},
   "source": [
    "$A_{if,MR} + A_{if,OR} + A_{if,NR} = 0$の場合"
   ]
  },
  {
   "cell_type": "markdown",
   "metadata": {},
   "source": [
    "$$A_{if,MR-uf}=0$$"
   ]
  },
  {
   "cell_type": "markdown",
   "metadata": {},
   "source": [
    "$$A_{if,OR-uf}=0$$"
   ]
  },
  {
   "cell_type": "markdown",
   "metadata": {},
   "source": [
    "$$A_{if,NR-uf}=0$$"
   ]
  },
  {
   "cell_type": "markdown",
   "metadata": {},
   "source": [
    "$A_{if,MR-uf}$：床上側が主たる居室に接し床下側が床下空間に接する間仕切り床の面積の合計, m<sup>2</sup>  \n",
    "$A_{if,OR-uf}$：床上側がその他の居室に接し床下側が床下空間に接する間仕切り床の面積の合計, m<sup>2</sup>  \n",
    "$A_{if,NR-uf}$：床上側が非居室に接し床下側が床下空間に接する間仕切り床の面積の合計, m<sup>2</sup>  \n",
    "$A_{ef,uf}$：床下空間に接する土間床等の中心部の面積の合計, m<sup>2</sup>  \n",
    "$A_{if,MR}$：床上側が主たる居室に接する間仕切り床の面積の合計, m<sup>2</sup>  \n",
    "$A_{if,OR}$：床上側がその他の居室に接する間仕切り床の面積の合計, m<sup>2</sup>  \n",
    "$A_{if,NR}$：床上側が非居室に接する間仕切り床の面積の合計, m<sup>2</sup>  "
   ]
  },
  {
   "cell_type": "markdown",
   "metadata": {},
   "source": [
    "#### 6) 間仕切り床の面積の合計（床下側が主たる居室・その他の居室・非居室）"
   ]
  },
  {
   "cell_type": "markdown",
   "metadata": {},
   "source": [
    "$$ A_{if,MR-OR,NR} = \\max{ \\left( 0, A_{if,MR}-A_{if,MR-uf} \\right) } $$"
   ]
  },
  {
   "cell_type": "markdown",
   "metadata": {},
   "source": [
    "$$ A_{if,OR-MR,NR} = \\max{ \\left( 0, A_{if,OR}-A_{if,OR-uf} \\right) } $$"
   ]
  },
  {
   "cell_type": "markdown",
   "metadata": {},
   "source": [
    "$$ A_{if,NR-MR,OR} = \\max{ \\left( 0, A_{if,NR}-A_{if,NR-uf} \\right) } $$"
   ]
  },
  {
   "cell_type": "markdown",
   "metadata": {},
   "source": [
    "$A_{OR}=0$かつ$A_{NR}=0$の場合"
   ]
  },
  {
   "cell_type": "markdown",
   "metadata": {},
   "source": [
    "$$A_{if,MR-OR}=0$$"
   ]
  },
  {
   "cell_type": "markdown",
   "metadata": {},
   "source": [
    "$$A_{if,MR-NR}=0$$"
   ]
  },
  {
   "cell_type": "markdown",
   "metadata": {},
   "source": [
    "$$A_{if,OR-MR}=0$$"
   ]
  },
  {
   "cell_type": "markdown",
   "metadata": {},
   "source": [
    "$$A_{if,OR-NR}=0$$"
   ]
  },
  {
   "cell_type": "markdown",
   "metadata": {},
   "source": [
    "$$A_{if,NR-MR}=0$$"
   ]
  },
  {
   "cell_type": "markdown",
   "metadata": {},
   "source": [
    "$$A_{if,NR-OR}=0$$"
   ]
  },
  {
   "cell_type": "markdown",
   "metadata": {},
   "source": [
    "$A_{OR}=0$かつ$A_{NR}\\ne0$の場合"
   ]
  },
  {
   "cell_type": "markdown",
   "metadata": {},
   "source": [
    "$$A_{if,MR-OR}=0$$"
   ]
  },
  {
   "cell_type": "markdown",
   "metadata": {},
   "source": [
    "$$A_{if,MR-NR}=A_{if,MR-OR,NR}$$"
   ]
  },
  {
   "cell_type": "markdown",
   "metadata": {},
   "source": [
    "$$A_{if,OR-MR}=0$$"
   ]
  },
  {
   "cell_type": "markdown",
   "metadata": {},
   "source": [
    "$$A_{if,OR-NR}=0$$"
   ]
  },
  {
   "cell_type": "markdown",
   "metadata": {},
   "source": [
    "$$A_{if,NR-MR}=A_{if,NR-MR,OR}$$"
   ]
  },
  {
   "cell_type": "markdown",
   "metadata": {},
   "source": [
    "$$A_{if,NR-OR}=0$$"
   ]
  },
  {
   "cell_type": "markdown",
   "metadata": {},
   "source": [
    "$A_{OR}\\ne0$かつ$A_{NR}=0$の場合"
   ]
  },
  {
   "cell_type": "markdown",
   "metadata": {},
   "source": [
    "$$A_{if,MR-OR}=A_{if,MR-OR,NR}$$"
   ]
  },
  {
   "cell_type": "markdown",
   "metadata": {},
   "source": [
    "$$A_{if,MR-NR}=0$$"
   ]
  },
  {
   "cell_type": "markdown",
   "metadata": {},
   "source": [
    "$$A_{if,NR-MR}=0$$"
   ]
  },
  {
   "cell_type": "markdown",
   "metadata": {},
   "source": [
    "$$A_{if,NR-OR}=0$$"
   ]
  },
  {
   "cell_type": "markdown",
   "metadata": {},
   "source": [
    "$$A_{if,OR-MR}=A_{if,OR-MR,NR}$$"
   ]
  },
  {
   "cell_type": "markdown",
   "metadata": {},
   "source": [
    "$$A_{if,OR-NR}=0$$"
   ]
  },
  {
   "cell_type": "markdown",
   "metadata": {},
   "source": [
    "$A_{OR}\\ne0$かつ$A_{NR}\\ne0$の場合"
   ]
  },
  {
   "cell_type": "markdown",
   "metadata": {},
   "source": [
    "$$A_{if,MR-OR} = \\frac{ A_{if,MR-OR,NR} }{ 2 }$$"
   ]
  },
  {
   "cell_type": "markdown",
   "metadata": {},
   "source": [
    "$$A_{if,MR-NR} = \\frac{ A_{if,MR-OR,NR} }{ 2 }$$"
   ]
  },
  {
   "cell_type": "markdown",
   "metadata": {},
   "source": [
    "$$A_{if,OR-MR} = \\frac{ A_{if,OR-MR,NR} }{ 2 }$$"
   ]
  },
  {
   "cell_type": "markdown",
   "metadata": {},
   "source": [
    "$$A_{if,OR-NR} = \\frac{ A_{if,OR-MR,NR} }{ 2 }$$"
   ]
  },
  {
   "cell_type": "markdown",
   "metadata": {},
   "source": [
    "$$A_{if,NR-MR} = \\frac{ A_{if,NR-MR,OR} }{ 2 }$$"
   ]
  },
  {
   "cell_type": "markdown",
   "metadata": {},
   "source": [
    "$$A_{if,NR-OR} = \\frac{ A_{if,NR-MR,OR} }{ 2 }$$"
   ]
  },
  {
   "cell_type": "markdown",
   "metadata": {},
   "source": [
    "$A_{if,MR-OR,NR}$:床上側が主たる居室に接し床下側がその他の居室又は非居室に接する間仕切り床の面積の合計, m<sup>2</sup>  \n",
    "$A_{if,OR-MR,NR}$:床上側がその他の居室に接し床下側が主たる居室又は非居室に接する間仕切り床の面積の合計, m<sup>2</sup>  \n",
    "$A_{if,NR-MR,OR}$:床上側が非居室に接し床下側が主たる居室又はその他の居室に接する間仕切り床の面積の合計, m<sup>2</sup>  \n",
    "$A_{if,MR}$:床上側が主たる居室に接する間仕切り床の面積の合計, m<sup>2</sup>  \n",
    "$A_{if,OR}$:床上側がその他の居室に接する間仕切り床の面積の合計, m<sup>2</sup>  \n",
    "$A_{if,NR}$:床上側が非居室に接する間仕切り床の面積の合計, m<sup>2</sup>  \n",
    "$A_{if,MR-uf}$:床上側が主たる居室に接し床下側が床下空間に接する間仕切り床の面積の合計, m<sup>2</sup>  \n",
    "$A_{if,OR-uf}$:床上側がその他の居室に接し床下側が床下空間に接する間仕切り床の面積の合計, m<sup>2</sup>  \n",
    "$A_{if,NR-uf}$:床上側が非居室に接し床下側が床下空間に接する間仕切り床の面積の合計, m<sup>2</sup>  \n",
    "$A_{if,MR-OR}$:床上側が主たる居室に接し床下側がその他の居室に接する間仕切り床の面積の合計, m<sup>2</sup>  \n",
    "$A_{if,MR-NR}$:床上側が主たる居室に接し床下側が非居室に接する間仕切り床の面積の合計, m<sup>2</sup>  \n",
    "$A_{if,OR-MR}$:床上側がその他の居室に接し床下側が主たる居室に接する間仕切り床の面積の合計, m<sup>2</sup>  \n",
    "$A_{if,OR-NR}$:床上側がその他の居室に接し床下側が非居室に接する間仕切り床の面積の合計, m<sup>2</sup>  \n",
    "$A_{if,NR-MR}$:床上側が非居室に接し床下側が主たる居室に接する間仕切り床の面積の合計, m<sup>2</sup>  \n",
    "$A_{if,NR-OR}$:床上側が非居室に接し床下側がその他の居室に接する間仕切り床の面積の合計, m<sup>2</sup>  "
   ]
  },
  {
   "cell_type": "markdown",
   "metadata": {},
   "source": [
    "### 2. 間仕切り壁"
   ]
  },
  {
   "cell_type": "markdown",
   "metadata": {},
   "source": [
    "#### 1) 壁の仕様"
   ]
  },
  {
   "cell_type": "markdown",
   "metadata": {},
   "source": [
    "| 材料 | 厚さ, m | 熱伝導率, W m<sup>-1</sup> K<sup>-1</sup> | 熱抵抗, m<sup>2</sup>2 k W<sup>-1</sup> | 容積比熱, J L<sup>-1</sup> K<sup>-1</sup> |\n",
    "|---|---|---|---|\n",
    "| せっこうボード | 0.0125 | 0.22 | - | 830.0 |\n",
    "| 非密閉空気層 | - | - | 0.090 | 0.0 |\n",
    "| せっこうボード | 0.0125 | 0.22 | - | 830.0 |"
   ]
  },
  {
   "cell_type": "markdown",
   "metadata": {},
   "source": [
    "#### 2) 方位が水平である外皮の部位の面積の合計"
   ]
  },
  {
   "cell_type": "markdown",
   "metadata": {},
   "source": [
    "$$ A_{evlp,hzt,MR} = \\sum_i{ A_{evlp,hzt,MR,i} } $$"
   ]
  },
  {
   "cell_type": "markdown",
   "metadata": {},
   "source": [
    "$$ A_{evlp,hzt,OR} = \\sum_i{ A_{evlp,hzt,OR,i} } $$"
   ]
  },
  {
   "cell_type": "markdown",
   "metadata": {},
   "source": [
    "$$ A_{evlp,hzt,NR} = \\sum_i{ A_{evlp,hzt,NR,i} } $$"
   ]
  },
  {
   "cell_type": "markdown",
   "metadata": {},
   "source": [
    "$ A_{evlp,hzt,MR} $:主たる居室に接する方位が水平である外皮の部位の面積の合計, m<sup>2</sup>  \n",
    "$ A_{evlp,hzt,OR} $:その他の居室に接する方位が水平である外皮の部位の面積の合計, m<sup>2</sup>  \n",
    "$ A_{evlp,hzt,NR} $:非居室に接する方位が水平である外皮の部位の面積の合計, m<sup>2</sup>  \n",
    "$ A_{evlp,hzt,MR,i} $:主たる居室に接する方位が水平である外皮の部位$i$の面積, m<sup>2</sup>  \n",
    "$ A_{evlp,hzt,OR,i} $:その他の居室に接する方位が水平である外皮の部位$i$の面積, m<sup>2</sup>  \n",
    "$ A_{evlp,hzt,NR,i} $:非居室に接する方位が水平である外皮の部位$i$の面積, m<sup>2</sup>  "
   ]
  },
  {
   "cell_type": "markdown",
   "metadata": {},
   "source": [
    "#### 3) 間仕切り壁の面積の合計"
   ]
  },
  {
   "cell_type": "markdown",
   "metadata": {},
   "source": [
    "$$ A_{iw,MR} = \\max{ \\left( 0, 4 r_{iw,MR} h_{iw} \\sqrt{ A_{MR} } - A_{evlp,hzt,MR} \\right) } $$"
   ]
  },
  {
   "cell_type": "markdown",
   "metadata": {},
   "source": [
    "$$ A_{iw,OR} = \\max⁡{ \\left( 0, 4 r_{iw,OR} h_{iw} \\sqrt{ A_{OR} } - A_{evlp,hzt,OR} \\right) } $$"
   ]
  },
  {
   "cell_type": "markdown",
   "metadata": {},
   "source": [
    "$$ A_{iw,NR} = \\max⁡{ \\left( 0, 4 r_{iw,NR} h_{iw} \\sqrt{ A_A - A_{MR} - A_{OR} } - A_{evlp,hzt,NR} \\right) } $$"
   ]
  },
  {
   "cell_type": "markdown",
   "metadata": {},
   "source": [
    "$A_{iw,MR}$:主たる居室に接する間仕切り壁の面積の合計, m<sup>2</sup>  \n",
    "$A_{iw,OR}$:その他の居室に接する間仕切り壁の面積の合計, m<sup>2</sup>  \n",
    "$A_{iw,NR}$:非居室に接する間仕切り壁の面積の合計, m<sup>2</sup>  \n",
    "$r_{iw,MR}$:主たる居室の周長を求めるための形状係数($=1.2$)  \n",
    "$r_{iw,OR}$:その他の居室の周長を求めるための形状係数($=1.4$)  \n",
    "$r_{iw,NR}$:非居室の周長を求めるための形状係数($=1.4$)  \n",
    "$h_{iw}$:階高($=2.8$), m  \n",
    "$A_{MR}$:主たる居室の床面積, m<sup>2</sup>  \n",
    "$A_{OR}$:その他の居室の床面積, m<sup>2</sup>  \n",
    "$A_A$:床面積の合計, m<sup>2</sup>  \n",
    "$A_{evlp,hzt,MR}$:主たる居室に接する方位が水平である外皮の部位の面積の合計, m<sup>2</sup>  \n",
    "$A_{evlp,hzt,OR}$:その他の居室に接する方位が水平である外皮の部位の面積の合計, m<sup>2</sup>  \n",
    "$A_{evlp,hzt,NR}$:非居室に接する方位が水平である外皮の部位の面積の合計, m<sup>2</sup>  "
   ]
  },
  {
   "cell_type": "markdown",
   "metadata": {},
   "source": [
    "#### 4) 各用途間の間仕切り壁の面積の合計"
   ]
  },
  {
   "cell_type": "markdown",
   "metadata": {},
   "source": [
    "$ A_{OR} = 0 $ かつ $ A_A - A_{MR} - A_{OR} = 0 $の場合"
   ]
  },
  {
   "cell_type": "markdown",
   "metadata": {},
   "source": [
    "$$ A_{iw,MR-OR} = 0 $$"
   ]
  },
  {
   "cell_type": "markdown",
   "metadata": {},
   "source": [
    "$$ A_{iw,MR-NR} = 0 $$"
   ]
  },
  {
   "cell_type": "markdown",
   "metadata": {},
   "source": [
    "$$ A_{iw,OR-NR} = 0 $$"
   ]
  },
  {
   "cell_type": "markdown",
   "metadata": {},
   "source": [
    "$ A_{OR} = 0 $ かつ $ A_A - A_{MR} - A_{OR} \\ne 0 $ の場合"
   ]
  },
  {
   "cell_type": "markdown",
   "metadata": {},
   "source": [
    "$$ A_{iw,MR-OR} = 0 $$"
   ]
  },
  {
   "cell_type": "markdown",
   "metadata": {},
   "source": [
    "$$ A_{iw,MR-NR} = \\frac{ \\left( A_{iw,MR} + A_{iw,NR} \\right) }{ 2 } $$"
   ]
  },
  {
   "cell_type": "markdown",
   "metadata": {},
   "source": [
    "$$ A_{iw,OR-NR} = 0 $$"
   ]
  },
  {
   "cell_type": "markdown",
   "metadata": {},
   "source": [
    "$ A_{OR} \\ne 0 $ かつ $ A_A - A_{MR} - A_{OR} = 0 $ の場合"
   ]
  },
  {
   "cell_type": "markdown",
   "metadata": {},
   "source": [
    "$$ A_{iw,MR-OR} = 0 $$"
   ]
  },
  {
   "cell_type": "markdown",
   "metadata": {},
   "source": [
    "$$ A_{iw,MR-NR} = 0 $$"
   ]
  },
  {
   "cell_type": "markdown",
   "metadata": {},
   "source": [
    "$$ A_{iw,OR-NR} = \\frac{ \\left( A_{iw,OR} + A_{iw,NR} \\right) }{ 2 } $$"
   ]
  },
  {
   "cell_type": "markdown",
   "metadata": {},
   "source": [
    "$ A_{OR} \\ne 0 $ かつ $ A_A - A_{MR} - A_{OR} \\ne 0 $ の場合"
   ]
  },
  {
   "cell_type": "markdown",
   "metadata": {},
   "source": [
    "$$ A_{iw,MR-OR} = \\max{ \\left( 0.0, \\frac{ \\left( A_{iw,MR} + A_{iw,OR} -A_{iw,NR} \\right) }{ 2 } \\right) } $$"
   ]
  },
  {
   "cell_type": "markdown",
   "metadata": {},
   "source": [
    "$$ A_{iw,MR-NR} = \\max{ \\left( 0.0, \\frac{ \\left( A_{iw,MR} + A_{iw,NR} -A_{iw,OR} \\right) }{ 2 } \\right) } $$"
   ]
  },
  {
   "cell_type": "markdown",
   "metadata": {},
   "source": [
    "$$ A_{iw,OR-NR} = \\max{ \\left( 0.0, \\frac{ \\left( A_{iw,OR} + A_{iw,NR} -A_{iw,MR} \\right) }{ 2 } \\right) } $$"
   ]
  },
  {
   "cell_type": "markdown",
   "metadata": {},
   "source": [
    "$A_{MR}$:主たる居室の床面積, m<sup>2</sup>  \n",
    "$A_{OR}$:その他の居室の床面積, m<sup>2</sup>  \n",
    "$A_A$:床面積の合計, m<sup>2</sup>  \n",
    "$A_{iw,MR-OR}$:主たる居室とその他の居室に接する間仕切り壁の面積の合計, m<sup>2</sup>  \n",
    "$A_{iw,MR-NR}$:主たる居室と非居室に接する間仕切り壁の面積の合計, m<sup>2</sup>  \n",
    "$A_{iw,OR-NR}$:その他の居室と非居室に接する間仕切り壁の面積の合計, m<sup>2</sup>  \n",
    "$A_{iw,MR}$:主たる居室に接する間仕切り壁の面積の合計, m<sup>2</sup>  \n",
    "$A_{iw,OR}$:その他の居室に接する間仕切り壁の面積の合計, m<sup>2</sup>  \n",
    "$A_{iw,NR}$:非居室に接する間仕切り壁の面積の合計, m<sup>2</sup>  "
   ]
  }
 ],
 "metadata": {
  "kernelspec": {
   "display_name": "Python 3",
   "language": "python",
   "name": "python3"
  },
  "language_info": {
   "codemirror_mode": {
    "name": "ipython",
    "version": 3
   },
   "file_extension": ".py",
   "mimetype": "text/x-python",
   "name": "python",
   "nbconvert_exporter": "python",
   "pygments_lexer": "ipython3",
   "version": "3.7.6"
  }
 },
 "nbformat": 4,
 "nbformat_minor": 2
}
